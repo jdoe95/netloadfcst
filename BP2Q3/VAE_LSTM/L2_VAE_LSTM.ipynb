{
 "cells": [
  {
   "cell_type": "code",
   "execution_count": 1,
   "outputs": [
    {
     "name": "stdout",
     "output_type": "stream",
     "text": [
      "Using device cuda:0\n"
     ]
    }
   ],
   "source": [
    "# Importing the required libraries\n",
    "from IPython.display import display\n",
    "import os\n",
    "import numpy as np\n",
    "import pandas as pd\n",
    "from matplotlib import pyplot as plt\n",
    "from tqdm import tqdm\n",
    "from sklearn.preprocessing import MinMaxScaler, OneHotEncoder\n",
    "import time\n",
    "import easydict\n",
    "\n",
    "import torch\n",
    "import torch.nn as nn\n",
    "from torch.utils.tensorboard import SummaryWriter\n",
    "from tqdm import tqdm\n",
    "from torch.utils.data import DataLoader, Dataset\n",
    "\n",
    "from vae_lstm_model import VAE_LSTM\n",
    "\n",
    "# Training device check-up\n",
    "device = torch.device(\"cuda:0\" if torch.cuda.is_available() else \"cpu\")\n",
    "print(f\"Using device {device}\")\n",
    "\n",
    "writer = SummaryWriter()\n",
    "\n",
    "# Defining DOE custom mape formula\n",
    "def mape(y_true, y_pred):\n",
    "    y_true, y_pred = np.array(y_true), np.array(y_pred)\n",
    "    return np.mean(np.abs((y_true - y_pred) / max(y_true))) * 100"
   ],
   "metadata": {
    "collapsed": false
   }
  },
  {
   "cell_type": "markdown",
   "source": [
    "#### FETCHING AND PROCESSING CALENDER FEATURES"
   ],
   "metadata": {
    "collapsed": false
   }
  },
  {
   "cell_type": "code",
   "execution_count": 2,
   "outputs": [],
   "source": [
    "# Specifying the path of file\n",
    "path= r\"C:\\Users\\sashah8\\OneDrive - North Carolina State University\\Desktop\\DOE\\DOE_Q1\\L2\\data_cleaned\""
   ],
   "metadata": {
    "collapsed": false
   }
  },
  {
   "cell_type": "code",
   "execution_count": 3,
   "outputs": [
    {
     "name": "stdout",
     "output_type": "stream",
     "text": [
      "Sample dataframe: \n"
     ]
    },
    {
     "data": {
      "text/plain": "   Month  Day  Weekday  Hour\n0      1    1        1     0\n1      1    1        1     1",
      "text/html": "<div>\n<style scoped>\n    .dataframe tbody tr th:only-of-type {\n        vertical-align: middle;\n    }\n\n    .dataframe tbody tr th {\n        vertical-align: top;\n    }\n\n    .dataframe thead th {\n        text-align: right;\n    }\n</style>\n<table border=\"1\" class=\"dataframe\">\n  <thead>\n    <tr style=\"text-align: right;\">\n      <th></th>\n      <th>Month</th>\n      <th>Day</th>\n      <th>Weekday</th>\n      <th>Hour</th>\n    </tr>\n  </thead>\n  <tbody>\n    <tr>\n      <th>0</th>\n      <td>1</td>\n      <td>1</td>\n      <td>1</td>\n      <td>0</td>\n    </tr>\n    <tr>\n      <th>1</th>\n      <td>1</td>\n      <td>1</td>\n      <td>1</td>\n      <td>1</td>\n    </tr>\n  </tbody>\n</table>\n</div>"
     },
     "metadata": {},
     "output_type": "display_data"
    },
    {
     "name": "stdout",
     "output_type": "stream",
     "text": [
      "Available unique categories: \n"
     ]
    },
    {
     "data": {
      "text/plain": "Month      12\nDay        31\nWeekday     2\nHour       24\ndtype: int64"
     },
     "metadata": {},
     "output_type": "display_data"
    }
   ],
   "source": [
    "# Just for previewing the column name\n",
    "date = pd.read_csv(os.path.join(path, \"Date.csv\"))\n",
    "print(\"Sample dataframe: \")\n",
    "display(date.head(2))\n",
    "print(\"Available unique categories: \")\n",
    "display(date.nunique())"
   ],
   "metadata": {
    "collapsed": false
   }
  },
  {
   "cell_type": "code",
   "execution_count": 4,
   "outputs": [
    {
     "data": {
      "text/plain": "array([[1., 0., 0., ..., 0., 0., 0.],\n       [1., 0., 0., ..., 0., 0., 0.],\n       [1., 0., 0., ..., 0., 0., 0.],\n       ...,\n       [0., 0., 0., ..., 1., 0., 0.],\n       [0., 0., 0., ..., 0., 1., 0.],\n       [0., 0., 0., ..., 0., 0., 1.]])"
     },
     "execution_count": 4,
     "metadata": {},
     "output_type": "execute_result"
    }
   ],
   "source": [
    "# One-hot encoding the categorical calendar features\n",
    "date_enc = OneHotEncoder(sparse_output=False)\n",
    "categorical_data = date_enc.fit_transform(date)\n",
    "categorical_data"
   ],
   "metadata": {
    "collapsed": false
   }
  },
  {
   "cell_type": "code",
   "execution_count": 5,
   "outputs": [
    {
     "data": {
      "text/plain": "[12, 31, 2, 24]"
     },
     "execution_count": 5,
     "metadata": {},
     "output_type": "execute_result"
    }
   ],
   "source": [
    "category_count = [len(x_len) for x_len in date_enc.categories_]\n",
    "category_count"
   ],
   "metadata": {
    "collapsed": false
   }
  },
  {
   "cell_type": "markdown",
   "source": [
    "#### PROCESSING CONTINUOUS FEATURES FOR ALL AVAILABLE ZONES"
   ],
   "metadata": {
    "collapsed": false
   }
  },
  {
   "cell_type": "markdown",
   "source": [
    "PROCESSING LOAD DATA"
   ],
   "metadata": {
    "collapsed": false
   }
  },
  {
   "cell_type": "code",
   "execution_count": 6,
   "outputs": [
    {
     "name": "stdout",
     "output_type": "stream",
     "text": [
      "['COAST.csv', 'EAST.csv', 'FWEST.csv', 'NCENT.csv', 'NORTH.csv', 'SCENT.csv', 'SOUTH.csv', 'WEST.csv']\n"
     ]
    }
   ],
   "source": [
    "# Listing just the required files\n",
    "fileList = os.listdir(path)\n",
    "fileList.remove(\"Date.csv\")\n",
    "\n",
    "# Previewing the required file names\n",
    "print(fileList)"
   ],
   "metadata": {
    "collapsed": false
   }
  },
  {
   "cell_type": "code",
   "execution_count": 7,
   "outputs": [
    {
     "data": {
      "text/plain": "           Net  Temprature\n0  9844.200268         6.8\n1  9653.456269         7.1",
      "text/html": "<div>\n<style scoped>\n    .dataframe tbody tr th:only-of-type {\n        vertical-align: middle;\n    }\n\n    .dataframe tbody tr th {\n        vertical-align: top;\n    }\n\n    .dataframe thead th {\n        text-align: right;\n    }\n</style>\n<table border=\"1\" class=\"dataframe\">\n  <thead>\n    <tr style=\"text-align: right;\">\n      <th></th>\n      <th>Net</th>\n      <th>Temprature</th>\n    </tr>\n  </thead>\n  <tbody>\n    <tr>\n      <th>0</th>\n      <td>9844.200268</td>\n      <td>6.8</td>\n    </tr>\n    <tr>\n      <th>1</th>\n      <td>9653.456269</td>\n      <td>7.1</td>\n    </tr>\n  </tbody>\n</table>\n</div>"
     },
     "execution_count": 7,
     "metadata": {},
     "output_type": "execute_result"
    }
   ],
   "source": [
    "# Just for previewing the column name\n",
    "pd.read_csv(os.path.join(path, fileList[0])).head(2)"
   ],
   "metadata": {
    "collapsed": false
   }
  },
  {
   "cell_type": "code",
   "execution_count": 8,
   "outputs": [
    {
     "data": {
      "text/plain": "         COAST_LOAD    EAST_LOAD   FWEST_LOAD    NCENT_LOAD  NORTH_LOAD  \\\n43821  10304.624870  1387.051521  3630.184859  12413.090126  804.714775   \n43822  10019.771129  1357.841863  3628.068853  12084.775970  790.865357   \n\n        SCENT_LOAD   SOUTH_LOAD    WEST_LOAD  \n43821  5769.745220  2829.531899  1238.412254  \n43822  5614.231555  2747.692143  1217.592105  ",
      "text/html": "<div>\n<style scoped>\n    .dataframe tbody tr th:only-of-type {\n        vertical-align: middle;\n    }\n\n    .dataframe tbody tr th {\n        vertical-align: top;\n    }\n\n    .dataframe thead th {\n        text-align: right;\n    }\n</style>\n<table border=\"1\" class=\"dataframe\">\n  <thead>\n    <tr style=\"text-align: right;\">\n      <th></th>\n      <th>COAST_LOAD</th>\n      <th>EAST_LOAD</th>\n      <th>FWEST_LOAD</th>\n      <th>NCENT_LOAD</th>\n      <th>NORTH_LOAD</th>\n      <th>SCENT_LOAD</th>\n      <th>SOUTH_LOAD</th>\n      <th>WEST_LOAD</th>\n    </tr>\n  </thead>\n  <tbody>\n    <tr>\n      <th>43821</th>\n      <td>10304.624870</td>\n      <td>1387.051521</td>\n      <td>3630.184859</td>\n      <td>12413.090126</td>\n      <td>804.714775</td>\n      <td>5769.745220</td>\n      <td>2829.531899</td>\n      <td>1238.412254</td>\n    </tr>\n    <tr>\n      <th>43822</th>\n      <td>10019.771129</td>\n      <td>1357.841863</td>\n      <td>3628.068853</td>\n      <td>12084.775970</td>\n      <td>790.865357</td>\n      <td>5614.231555</td>\n      <td>2747.692143</td>\n      <td>1217.592105</td>\n    </tr>\n  </tbody>\n</table>\n</div>"
     },
     "execution_count": 8,
     "metadata": {},
     "output_type": "execute_result"
    }
   ],
   "source": [
    "# Fetching and concatenating the data\n",
    "load_ds = pd.concat([pd.read_csv(os.path.join(path, fileName), usecols= [\"Net\"]) for fileName in fileList], axis= 1)\n",
    "load_ds.columns = [i.removesuffix('.csv') for i in fileList]\n",
    "load_ds = load_ds.add_suffix(\"_LOAD\")\n",
    "load_ds.tail(2)"
   ],
   "metadata": {
    "collapsed": false
   }
  },
  {
   "cell_type": "code",
   "execution_count": 9,
   "outputs": [
    {
     "data": {
      "text/plain": "       COAST_LOAD_LAG1  EAST_LOAD_LAG1  FWEST_LOAD_LAG1  NCENT_LOAD_LAG1  \\\n43821     10005.692012     1350.918789      3779.620366     12987.897930   \n43822      9640.110639     1299.794530      3757.453274     12483.833157   \n\n       NORTH_LOAD_LAG1  SCENT_LOAD_LAG1  SOUTH_LOAD_LAG1  WEST_LOAD_LAG1  \n43821       821.959349      5939.445038      2825.076669     1322.793472  \n43822       801.513104      5699.539181      2699.267507     1301.403501  ",
      "text/html": "<div>\n<style scoped>\n    .dataframe tbody tr th:only-of-type {\n        vertical-align: middle;\n    }\n\n    .dataframe tbody tr th {\n        vertical-align: top;\n    }\n\n    .dataframe thead th {\n        text-align: right;\n    }\n</style>\n<table border=\"1\" class=\"dataframe\">\n  <thead>\n    <tr style=\"text-align: right;\">\n      <th></th>\n      <th>COAST_LOAD_LAG1</th>\n      <th>EAST_LOAD_LAG1</th>\n      <th>FWEST_LOAD_LAG1</th>\n      <th>NCENT_LOAD_LAG1</th>\n      <th>NORTH_LOAD_LAG1</th>\n      <th>SCENT_LOAD_LAG1</th>\n      <th>SOUTH_LOAD_LAG1</th>\n      <th>WEST_LOAD_LAG1</th>\n    </tr>\n  </thead>\n  <tbody>\n    <tr>\n      <th>43821</th>\n      <td>10005.692012</td>\n      <td>1350.918789</td>\n      <td>3779.620366</td>\n      <td>12987.897930</td>\n      <td>821.959349</td>\n      <td>5939.445038</td>\n      <td>2825.076669</td>\n      <td>1322.793472</td>\n    </tr>\n    <tr>\n      <th>43822</th>\n      <td>9640.110639</td>\n      <td>1299.794530</td>\n      <td>3757.453274</td>\n      <td>12483.833157</td>\n      <td>801.513104</td>\n      <td>5699.539181</td>\n      <td>2699.267507</td>\n      <td>1301.403501</td>\n    </tr>\n  </tbody>\n</table>\n</div>"
     },
     "execution_count": 9,
     "metadata": {},
     "output_type": "execute_result"
    }
   ],
   "source": [
    "# Creating 1-day lag loads\n",
    "load_lag_1 = load_ds.shift(24*2).add_suffix(\"_LAG1\")\n",
    "load_lag_1.tail(2)"
   ],
   "metadata": {
    "collapsed": false
   }
  },
  {
   "cell_type": "code",
   "execution_count": 10,
   "outputs": [
    {
     "data": {
      "text/plain": "       COAST_LOAD_LAG7  EAST_LOAD_LAG7  FWEST_LOAD_LAG7  NCENT_LOAD_LAG7  \\\n43821      9876.787820     1216.187797      3619.528769     10749.333909   \n43822      9562.900403     1166.584633      3606.519990     10336.276556   \n\n       NORTH_LOAD_LAG7  SCENT_LOAD_LAG7  SOUTH_LOAD_LAG7  WEST_LOAD_LAG7  \n43821       698.896222      5512.343425      2778.351469     1124.153791  \n43822       683.081316      5344.858187      2717.746859     1100.076605  ",
      "text/html": "<div>\n<style scoped>\n    .dataframe tbody tr th:only-of-type {\n        vertical-align: middle;\n    }\n\n    .dataframe tbody tr th {\n        vertical-align: top;\n    }\n\n    .dataframe thead th {\n        text-align: right;\n    }\n</style>\n<table border=\"1\" class=\"dataframe\">\n  <thead>\n    <tr style=\"text-align: right;\">\n      <th></th>\n      <th>COAST_LOAD_LAG7</th>\n      <th>EAST_LOAD_LAG7</th>\n      <th>FWEST_LOAD_LAG7</th>\n      <th>NCENT_LOAD_LAG7</th>\n      <th>NORTH_LOAD_LAG7</th>\n      <th>SCENT_LOAD_LAG7</th>\n      <th>SOUTH_LOAD_LAG7</th>\n      <th>WEST_LOAD_LAG7</th>\n    </tr>\n  </thead>\n  <tbody>\n    <tr>\n      <th>43821</th>\n      <td>9876.787820</td>\n      <td>1216.187797</td>\n      <td>3619.528769</td>\n      <td>10749.333909</td>\n      <td>698.896222</td>\n      <td>5512.343425</td>\n      <td>2778.351469</td>\n      <td>1124.153791</td>\n    </tr>\n    <tr>\n      <th>43822</th>\n      <td>9562.900403</td>\n      <td>1166.584633</td>\n      <td>3606.519990</td>\n      <td>10336.276556</td>\n      <td>683.081316</td>\n      <td>5344.858187</td>\n      <td>2717.746859</td>\n      <td>1100.076605</td>\n    </tr>\n  </tbody>\n</table>\n</div>"
     },
     "execution_count": 10,
     "metadata": {},
     "output_type": "execute_result"
    }
   ],
   "source": [
    "# Creating 7-day lag loads\n",
    "load_lag_7 = load_ds.shift(24*7).add_suffix(\"_LAG7\")\n",
    "load_lag_7.tail(2)"
   ],
   "metadata": {
    "collapsed": false
   }
  },
  {
   "cell_type": "code",
   "execution_count": 11,
   "outputs": [
    {
     "name": "stdout",
     "output_type": "stream",
     "text": [
      "Drop data before:  168\n"
     ]
    }
   ],
   "source": [
    "# Drop index for equalizing data\n",
    "drop_idx = load_lag_7.dropna(axis= 0).index[0]\n",
    "print(\"Drop data before: \", drop_idx)"
   ],
   "metadata": {
    "collapsed": false
   }
  },
  {
   "cell_type": "markdown",
   "source": [
    "PROCESSING TEMPERATURE DATA"
   ],
   "metadata": {
    "collapsed": false
   }
  },
  {
   "cell_type": "code",
   "execution_count": 12,
   "outputs": [
    {
     "data": {
      "text/plain": "       COAST_A_TEMP  EAST_A_TEMP  FWEST_A_TEMP  NCENT_A_TEMP  NORTH_A_TEMP  \\\n43821          13.7         12.5          13.2          12.5           9.2   \n43822          12.9          9.1          11.4           9.1           7.0   \n\n       SCENT_A_TEMP  SOUTH_A_TEMP  WEST_A_TEMP  \n43821          12.9          16.6         11.6  \n43822          11.1          15.9          9.6  ",
      "text/html": "<div>\n<style scoped>\n    .dataframe tbody tr th:only-of-type {\n        vertical-align: middle;\n    }\n\n    .dataframe tbody tr th {\n        vertical-align: top;\n    }\n\n    .dataframe thead th {\n        text-align: right;\n    }\n</style>\n<table border=\"1\" class=\"dataframe\">\n  <thead>\n    <tr style=\"text-align: right;\">\n      <th></th>\n      <th>COAST_A_TEMP</th>\n      <th>EAST_A_TEMP</th>\n      <th>FWEST_A_TEMP</th>\n      <th>NCENT_A_TEMP</th>\n      <th>NORTH_A_TEMP</th>\n      <th>SCENT_A_TEMP</th>\n      <th>SOUTH_A_TEMP</th>\n      <th>WEST_A_TEMP</th>\n    </tr>\n  </thead>\n  <tbody>\n    <tr>\n      <th>43821</th>\n      <td>13.7</td>\n      <td>12.5</td>\n      <td>13.2</td>\n      <td>12.5</td>\n      <td>9.2</td>\n      <td>12.9</td>\n      <td>16.6</td>\n      <td>11.6</td>\n    </tr>\n    <tr>\n      <th>43822</th>\n      <td>12.9</td>\n      <td>9.1</td>\n      <td>11.4</td>\n      <td>9.1</td>\n      <td>7.0</td>\n      <td>11.1</td>\n      <td>15.9</td>\n      <td>9.6</td>\n    </tr>\n  </tbody>\n</table>\n</div>"
     },
     "execution_count": 12,
     "metadata": {},
     "output_type": "execute_result"
    }
   ],
   "source": [
    "# Fetching and concatenating the data\n",
    "temp_ds = pd.concat([pd.read_csv(os.path.join(path, fileName), usecols= [\"Temprature\"]) for fileName in fileList], axis= 1)\n",
    "temp_ds.columns = [i.removesuffix('.csv') for i in fileList]\n",
    "temp_ds = temp_ds.add_suffix(\"_A_TEMP\")\n",
    "temp_ds.tail(2)"
   ],
   "metadata": {
    "collapsed": false
   }
  },
  {
   "cell_type": "markdown",
   "source": [
    "### PREPARING X AND Y PART"
   ],
   "metadata": {
    "collapsed": false
   }
  },
  {
   "cell_type": "code",
   "execution_count": 13,
   "outputs": [
    {
     "data": {
      "text/plain": "       COAST_A_TEMP  COAST_LOAD_LAG1  COAST_LOAD_LAG7  EAST_A_TEMP  \\\n43653          13.7     10005.692012      9876.787820         12.5   \n43654          12.9      9640.110639      9562.900403          9.1   \n\n       EAST_LOAD_LAG1  EAST_LOAD_LAG7  FWEST_A_TEMP  FWEST_LOAD_LAG1  \\\n43653     1350.918789     1216.187797          13.2      3779.620366   \n43654     1299.794530     1166.584633          11.4      3757.453274   \n\n       FWEST_LOAD_LAG7  NCENT_A_TEMP  ...  NORTH_LOAD_LAG7  SCENT_A_TEMP  \\\n43653      3619.528769          12.5  ...       698.896222          12.9   \n43654      3606.519990           9.1  ...       683.081316          11.1   \n\n       SCENT_LOAD_LAG1  SCENT_LOAD_LAG7  SOUTH_A_TEMP  SOUTH_LOAD_LAG1  \\\n43653      5939.445038      5512.343425          16.6      2825.076669   \n43654      5699.539181      5344.858187          15.9      2699.267507   \n\n       SOUTH_LOAD_LAG7  WEST_A_TEMP  WEST_LOAD_LAG1  WEST_LOAD_LAG7  \n43653      2778.351469         11.6     1322.793472     1124.153791  \n43654      2717.746859          9.6     1301.403501     1100.076605  \n\n[2 rows x 24 columns]",
      "text/html": "<div>\n<style scoped>\n    .dataframe tbody tr th:only-of-type {\n        vertical-align: middle;\n    }\n\n    .dataframe tbody tr th {\n        vertical-align: top;\n    }\n\n    .dataframe thead th {\n        text-align: right;\n    }\n</style>\n<table border=\"1\" class=\"dataframe\">\n  <thead>\n    <tr style=\"text-align: right;\">\n      <th></th>\n      <th>COAST_A_TEMP</th>\n      <th>COAST_LOAD_LAG1</th>\n      <th>COAST_LOAD_LAG7</th>\n      <th>EAST_A_TEMP</th>\n      <th>EAST_LOAD_LAG1</th>\n      <th>EAST_LOAD_LAG7</th>\n      <th>FWEST_A_TEMP</th>\n      <th>FWEST_LOAD_LAG1</th>\n      <th>FWEST_LOAD_LAG7</th>\n      <th>NCENT_A_TEMP</th>\n      <th>...</th>\n      <th>NORTH_LOAD_LAG7</th>\n      <th>SCENT_A_TEMP</th>\n      <th>SCENT_LOAD_LAG1</th>\n      <th>SCENT_LOAD_LAG7</th>\n      <th>SOUTH_A_TEMP</th>\n      <th>SOUTH_LOAD_LAG1</th>\n      <th>SOUTH_LOAD_LAG7</th>\n      <th>WEST_A_TEMP</th>\n      <th>WEST_LOAD_LAG1</th>\n      <th>WEST_LOAD_LAG7</th>\n    </tr>\n  </thead>\n  <tbody>\n    <tr>\n      <th>43653</th>\n      <td>13.7</td>\n      <td>10005.692012</td>\n      <td>9876.787820</td>\n      <td>12.5</td>\n      <td>1350.918789</td>\n      <td>1216.187797</td>\n      <td>13.2</td>\n      <td>3779.620366</td>\n      <td>3619.528769</td>\n      <td>12.5</td>\n      <td>...</td>\n      <td>698.896222</td>\n      <td>12.9</td>\n      <td>5939.445038</td>\n      <td>5512.343425</td>\n      <td>16.6</td>\n      <td>2825.076669</td>\n      <td>2778.351469</td>\n      <td>11.6</td>\n      <td>1322.793472</td>\n      <td>1124.153791</td>\n    </tr>\n    <tr>\n      <th>43654</th>\n      <td>12.9</td>\n      <td>9640.110639</td>\n      <td>9562.900403</td>\n      <td>9.1</td>\n      <td>1299.794530</td>\n      <td>1166.584633</td>\n      <td>11.4</td>\n      <td>3757.453274</td>\n      <td>3606.519990</td>\n      <td>9.1</td>\n      <td>...</td>\n      <td>683.081316</td>\n      <td>11.1</td>\n      <td>5699.539181</td>\n      <td>5344.858187</td>\n      <td>15.9</td>\n      <td>2699.267507</td>\n      <td>2717.746859</td>\n      <td>9.6</td>\n      <td>1301.403501</td>\n      <td>1100.076605</td>\n    </tr>\n  </tbody>\n</table>\n<p>2 rows × 24 columns</p>\n</div>"
     },
     "execution_count": 13,
     "metadata": {},
     "output_type": "execute_result"
    }
   ],
   "source": [
    "X_continuous = pd.concat([load_lag_1, load_lag_7, temp_ds], axis=1)\n",
    "X_continuous = X_continuous.sort_index(axis=1)\n",
    "X_continuous = X_continuous.iloc[drop_idx:].reset_index(drop=True)\n",
    "X_continuous.tail(2)"
   ],
   "metadata": {
    "collapsed": false
   }
  },
  {
   "cell_type": "code",
   "execution_count": 14,
   "outputs": [
    {
     "data": {
      "text/plain": "        0    1    2    3    4    5    6    7    8    9   ...   59   60   61  \\\n43654  0.0  0.0  0.0  0.0  0.0  0.0  0.0  0.0  0.0  0.0  ...  0.0  0.0  0.0   \n43655  0.0  0.0  0.0  0.0  0.0  0.0  0.0  0.0  0.0  0.0  ...  0.0  0.0  0.0   \n\n        62   63   64   65   66   67   68  \n43654  0.0  0.0  0.0  0.0  0.0  1.0  0.0  \n43655  0.0  0.0  0.0  0.0  0.0  0.0  1.0  \n\n[2 rows x 69 columns]",
      "text/html": "<div>\n<style scoped>\n    .dataframe tbody tr th:only-of-type {\n        vertical-align: middle;\n    }\n\n    .dataframe tbody tr th {\n        vertical-align: top;\n    }\n\n    .dataframe thead th {\n        text-align: right;\n    }\n</style>\n<table border=\"1\" class=\"dataframe\">\n  <thead>\n    <tr style=\"text-align: right;\">\n      <th></th>\n      <th>0</th>\n      <th>1</th>\n      <th>2</th>\n      <th>3</th>\n      <th>4</th>\n      <th>5</th>\n      <th>6</th>\n      <th>7</th>\n      <th>8</th>\n      <th>9</th>\n      <th>...</th>\n      <th>59</th>\n      <th>60</th>\n      <th>61</th>\n      <th>62</th>\n      <th>63</th>\n      <th>64</th>\n      <th>65</th>\n      <th>66</th>\n      <th>67</th>\n      <th>68</th>\n    </tr>\n  </thead>\n  <tbody>\n    <tr>\n      <th>43654</th>\n      <td>0.0</td>\n      <td>0.0</td>\n      <td>0.0</td>\n      <td>0.0</td>\n      <td>0.0</td>\n      <td>0.0</td>\n      <td>0.0</td>\n      <td>0.0</td>\n      <td>0.0</td>\n      <td>0.0</td>\n      <td>...</td>\n      <td>0.0</td>\n      <td>0.0</td>\n      <td>0.0</td>\n      <td>0.0</td>\n      <td>0.0</td>\n      <td>0.0</td>\n      <td>0.0</td>\n      <td>0.0</td>\n      <td>1.0</td>\n      <td>0.0</td>\n    </tr>\n    <tr>\n      <th>43655</th>\n      <td>0.0</td>\n      <td>0.0</td>\n      <td>0.0</td>\n      <td>0.0</td>\n      <td>0.0</td>\n      <td>0.0</td>\n      <td>0.0</td>\n      <td>0.0</td>\n      <td>0.0</td>\n      <td>0.0</td>\n      <td>...</td>\n      <td>0.0</td>\n      <td>0.0</td>\n      <td>0.0</td>\n      <td>0.0</td>\n      <td>0.0</td>\n      <td>0.0</td>\n      <td>0.0</td>\n      <td>0.0</td>\n      <td>0.0</td>\n      <td>1.0</td>\n    </tr>\n  </tbody>\n</table>\n<p>2 rows × 69 columns</p>\n</div>"
     },
     "execution_count": 14,
     "metadata": {},
     "output_type": "execute_result"
    }
   ],
   "source": [
    "X_categorical = pd.DataFrame(categorical_data)\n",
    "X_categorical = X_categorical.iloc[drop_idx:].reset_index(drop=True)\n",
    "X_categorical.tail(2)"
   ],
   "metadata": {
    "collapsed": false
   }
  },
  {
   "cell_type": "code",
   "execution_count": 15,
   "outputs": [
    {
     "data": {
      "text/plain": "         COAST_LOAD    EAST_LOAD   FWEST_LOAD    NCENT_LOAD  NORTH_LOAD  \\\n43653  10304.624870  1387.051521  3630.184859  12413.090126  804.714775   \n43654  10019.771129  1357.841863  3628.068853  12084.775970  790.865357   \n\n        SCENT_LOAD   SOUTH_LOAD    WEST_LOAD  \n43653  5769.745220  2829.531899  1238.412254  \n43654  5614.231555  2747.692143  1217.592105  ",
      "text/html": "<div>\n<style scoped>\n    .dataframe tbody tr th:only-of-type {\n        vertical-align: middle;\n    }\n\n    .dataframe tbody tr th {\n        vertical-align: top;\n    }\n\n    .dataframe thead th {\n        text-align: right;\n    }\n</style>\n<table border=\"1\" class=\"dataframe\">\n  <thead>\n    <tr style=\"text-align: right;\">\n      <th></th>\n      <th>COAST_LOAD</th>\n      <th>EAST_LOAD</th>\n      <th>FWEST_LOAD</th>\n      <th>NCENT_LOAD</th>\n      <th>NORTH_LOAD</th>\n      <th>SCENT_LOAD</th>\n      <th>SOUTH_LOAD</th>\n      <th>WEST_LOAD</th>\n    </tr>\n  </thead>\n  <tbody>\n    <tr>\n      <th>43653</th>\n      <td>10304.624870</td>\n      <td>1387.051521</td>\n      <td>3630.184859</td>\n      <td>12413.090126</td>\n      <td>804.714775</td>\n      <td>5769.745220</td>\n      <td>2829.531899</td>\n      <td>1238.412254</td>\n    </tr>\n    <tr>\n      <th>43654</th>\n      <td>10019.771129</td>\n      <td>1357.841863</td>\n      <td>3628.068853</td>\n      <td>12084.775970</td>\n      <td>790.865357</td>\n      <td>5614.231555</td>\n      <td>2747.692143</td>\n      <td>1217.592105</td>\n    </tr>\n  </tbody>\n</table>\n</div>"
     },
     "execution_count": 15,
     "metadata": {},
     "output_type": "execute_result"
    }
   ],
   "source": [
    "Y = load_ds.copy()\n",
    "Y = Y.sort_index(axis=1)\n",
    "Y = Y.iloc[drop_idx:].reset_index(drop=True)\n",
    "Y.tail(2)"
   ],
   "metadata": {
    "collapsed": false
   }
  },
  {
   "cell_type": "code",
   "execution_count": 16,
   "outputs": [
    {
     "name": "stdout",
     "output_type": "stream",
     "text": [
      "Train samples:  35360 \n",
      "Valid samples:  3928 \n",
      "Test samples:  4365\n"
     ]
    }
   ],
   "source": [
    "### SPLITTING THE DATA INTO TRAINING AND TESTING\n",
    "# Setting the train-test split\n",
    "ratio = 0.1\n",
    "train_size, test_size = int(len(X_continuous)/24 * (1 - ratio) * 24), int(len(X_continuous)/24 * ratio * 24)\n",
    "train_size, valid_size = int(train_size/24 * (1 - ratio) * 24), int(train_size/24 * ratio * 24)\n",
    "\n",
    "print(\"Train samples: \", train_size, \"\\nValid samples: \", valid_size, \"\\nTest samples: \", test_size)"
   ],
   "metadata": {
    "collapsed": false
   }
  },
  {
   "cell_type": "code",
   "execution_count": 17,
   "outputs": [
    {
     "name": "stdout",
     "output_type": "stream",
     "text": [
      "Train split of continuous data: \n"
     ]
    },
    {
     "data": {
      "text/plain": "       COAST_A_TEMP  COAST_LOAD_LAG1  COAST_LOAD_LAG7  EAST_A_TEMP  \\\n35358           5.2     10338.703764     10255.139741         -1.0   \n35359           5.1     10438.546538     10491.027127         -1.6   \n\n       EAST_LOAD_LAG1  EAST_LOAD_LAG7  FWEST_A_TEMP  FWEST_LOAD_LAG1  \\\n35358     1499.562796     1445.235815           1.4      3196.662555   \n35359     1477.311827     1522.399968           0.9      3173.254900   \n\n       FWEST_LOAD_LAG7  NCENT_A_TEMP  ...  NORTH_LOAD_LAG7  SCENT_A_TEMP  \\\n35358      3251.574521          -1.0  ...       929.293055           0.0   \n35359      3246.092884          -1.6  ...       963.039578          -0.6   \n\n       SCENT_LOAD_LAG1  SCENT_LOAD_LAG7  SOUTH_A_TEMP  SOUTH_LOAD_LAG1  \\\n35358      6247.169615      6860.432754           6.7      2996.246310   \n35359      6197.124819      7017.021375           5.4      2960.237649   \n\n       SOUTH_LOAD_LAG7  WEST_A_TEMP  WEST_LOAD_LAG1  WEST_LOAD_LAG7  \n35358      2825.017492         -2.7     1327.707625     1431.169544  \n35359      2954.613446         -3.3     1283.226576     1464.270817  \n\n[2 rows x 24 columns]",
      "text/html": "<div>\n<style scoped>\n    .dataframe tbody tr th:only-of-type {\n        vertical-align: middle;\n    }\n\n    .dataframe tbody tr th {\n        vertical-align: top;\n    }\n\n    .dataframe thead th {\n        text-align: right;\n    }\n</style>\n<table border=\"1\" class=\"dataframe\">\n  <thead>\n    <tr style=\"text-align: right;\">\n      <th></th>\n      <th>COAST_A_TEMP</th>\n      <th>COAST_LOAD_LAG1</th>\n      <th>COAST_LOAD_LAG7</th>\n      <th>EAST_A_TEMP</th>\n      <th>EAST_LOAD_LAG1</th>\n      <th>EAST_LOAD_LAG7</th>\n      <th>FWEST_A_TEMP</th>\n      <th>FWEST_LOAD_LAG1</th>\n      <th>FWEST_LOAD_LAG7</th>\n      <th>NCENT_A_TEMP</th>\n      <th>...</th>\n      <th>NORTH_LOAD_LAG7</th>\n      <th>SCENT_A_TEMP</th>\n      <th>SCENT_LOAD_LAG1</th>\n      <th>SCENT_LOAD_LAG7</th>\n      <th>SOUTH_A_TEMP</th>\n      <th>SOUTH_LOAD_LAG1</th>\n      <th>SOUTH_LOAD_LAG7</th>\n      <th>WEST_A_TEMP</th>\n      <th>WEST_LOAD_LAG1</th>\n      <th>WEST_LOAD_LAG7</th>\n    </tr>\n  </thead>\n  <tbody>\n    <tr>\n      <th>35358</th>\n      <td>5.2</td>\n      <td>10338.703764</td>\n      <td>10255.139741</td>\n      <td>-1.0</td>\n      <td>1499.562796</td>\n      <td>1445.235815</td>\n      <td>1.4</td>\n      <td>3196.662555</td>\n      <td>3251.574521</td>\n      <td>-1.0</td>\n      <td>...</td>\n      <td>929.293055</td>\n      <td>0.0</td>\n      <td>6247.169615</td>\n      <td>6860.432754</td>\n      <td>6.7</td>\n      <td>2996.246310</td>\n      <td>2825.017492</td>\n      <td>-2.7</td>\n      <td>1327.707625</td>\n      <td>1431.169544</td>\n    </tr>\n    <tr>\n      <th>35359</th>\n      <td>5.1</td>\n      <td>10438.546538</td>\n      <td>10491.027127</td>\n      <td>-1.6</td>\n      <td>1477.311827</td>\n      <td>1522.399968</td>\n      <td>0.9</td>\n      <td>3173.254900</td>\n      <td>3246.092884</td>\n      <td>-1.6</td>\n      <td>...</td>\n      <td>963.039578</td>\n      <td>-0.6</td>\n      <td>6197.124819</td>\n      <td>7017.021375</td>\n      <td>5.4</td>\n      <td>2960.237649</td>\n      <td>2954.613446</td>\n      <td>-3.3</td>\n      <td>1283.226576</td>\n      <td>1464.270817</td>\n    </tr>\n  </tbody>\n</table>\n<p>2 rows × 24 columns</p>\n</div>"
     },
     "metadata": {},
     "output_type": "display_data"
    },
    {
     "name": "stdout",
     "output_type": "stream",
     "text": [
      "Train split of categorical data: \n"
     ]
    },
    {
     "data": {
      "text/plain": "        0    1    2    3    4    5    6    7    8    9   ...   59   60   61  \\\n35358  1.0  0.0  0.0  0.0  0.0  0.0  0.0  0.0  0.0  0.0  ...  0.0  0.0  0.0   \n35359  1.0  0.0  0.0  0.0  0.0  0.0  0.0  0.0  0.0  0.0  ...  0.0  0.0  0.0   \n\n        62   63   64   65   66   67   68  \n35358  0.0  0.0  0.0  0.0  0.0  0.0  0.0  \n35359  0.0  0.0  0.0  0.0  0.0  0.0  0.0  \n\n[2 rows x 69 columns]",
      "text/html": "<div>\n<style scoped>\n    .dataframe tbody tr th:only-of-type {\n        vertical-align: middle;\n    }\n\n    .dataframe tbody tr th {\n        vertical-align: top;\n    }\n\n    .dataframe thead th {\n        text-align: right;\n    }\n</style>\n<table border=\"1\" class=\"dataframe\">\n  <thead>\n    <tr style=\"text-align: right;\">\n      <th></th>\n      <th>0</th>\n      <th>1</th>\n      <th>2</th>\n      <th>3</th>\n      <th>4</th>\n      <th>5</th>\n      <th>6</th>\n      <th>7</th>\n      <th>8</th>\n      <th>9</th>\n      <th>...</th>\n      <th>59</th>\n      <th>60</th>\n      <th>61</th>\n      <th>62</th>\n      <th>63</th>\n      <th>64</th>\n      <th>65</th>\n      <th>66</th>\n      <th>67</th>\n      <th>68</th>\n    </tr>\n  </thead>\n  <tbody>\n    <tr>\n      <th>35358</th>\n      <td>1.0</td>\n      <td>0.0</td>\n      <td>0.0</td>\n      <td>0.0</td>\n      <td>0.0</td>\n      <td>0.0</td>\n      <td>0.0</td>\n      <td>0.0</td>\n      <td>0.0</td>\n      <td>0.0</td>\n      <td>...</td>\n      <td>0.0</td>\n      <td>0.0</td>\n      <td>0.0</td>\n      <td>0.0</td>\n      <td>0.0</td>\n      <td>0.0</td>\n      <td>0.0</td>\n      <td>0.0</td>\n      <td>0.0</td>\n      <td>0.0</td>\n    </tr>\n    <tr>\n      <th>35359</th>\n      <td>1.0</td>\n      <td>0.0</td>\n      <td>0.0</td>\n      <td>0.0</td>\n      <td>0.0</td>\n      <td>0.0</td>\n      <td>0.0</td>\n      <td>0.0</td>\n      <td>0.0</td>\n      <td>0.0</td>\n      <td>...</td>\n      <td>0.0</td>\n      <td>0.0</td>\n      <td>0.0</td>\n      <td>0.0</td>\n      <td>0.0</td>\n      <td>0.0</td>\n      <td>0.0</td>\n      <td>0.0</td>\n      <td>0.0</td>\n      <td>0.0</td>\n    </tr>\n  </tbody>\n</table>\n<p>2 rows × 69 columns</p>\n</div>"
     },
     "metadata": {},
     "output_type": "display_data"
    },
    {
     "name": "stdout",
     "output_type": "stream",
     "text": [
      "Train split of target data Y: \n"
     ]
    },
    {
     "data": {
      "text/plain": "         COAST_LOAD    EAST_LOAD   FWEST_LOAD    NCENT_LOAD   NORTH_LOAD  \\\n35358  12183.408844  1873.863462  3248.144523  17537.745077  1073.799709   \n35359  12367.470024  1901.914484  3236.127026  17610.800055  1078.635600   \n\n        SCENT_LOAD   SOUTH_LOAD   WEST_LOAD  \n35358  7881.403273  3614.732843  1517.46757  \n35359  7897.035016  3733.217478  1526.82558  ",
      "text/html": "<div>\n<style scoped>\n    .dataframe tbody tr th:only-of-type {\n        vertical-align: middle;\n    }\n\n    .dataframe tbody tr th {\n        vertical-align: top;\n    }\n\n    .dataframe thead th {\n        text-align: right;\n    }\n</style>\n<table border=\"1\" class=\"dataframe\">\n  <thead>\n    <tr style=\"text-align: right;\">\n      <th></th>\n      <th>COAST_LOAD</th>\n      <th>EAST_LOAD</th>\n      <th>FWEST_LOAD</th>\n      <th>NCENT_LOAD</th>\n      <th>NORTH_LOAD</th>\n      <th>SCENT_LOAD</th>\n      <th>SOUTH_LOAD</th>\n      <th>WEST_LOAD</th>\n    </tr>\n  </thead>\n  <tbody>\n    <tr>\n      <th>35358</th>\n      <td>12183.408844</td>\n      <td>1873.863462</td>\n      <td>3248.144523</td>\n      <td>17537.745077</td>\n      <td>1073.799709</td>\n      <td>7881.403273</td>\n      <td>3614.732843</td>\n      <td>1517.46757</td>\n    </tr>\n    <tr>\n      <th>35359</th>\n      <td>12367.470024</td>\n      <td>1901.914484</td>\n      <td>3236.127026</td>\n      <td>17610.800055</td>\n      <td>1078.635600</td>\n      <td>7897.035016</td>\n      <td>3733.217478</td>\n      <td>1526.82558</td>\n    </tr>\n  </tbody>\n</table>\n</div>"
     },
     "metadata": {},
     "output_type": "display_data"
    }
   ],
   "source": [
    "# Splitting the continuous data into training and test split\n",
    "X_continuous_train, X_continuous_valid, X_continuous_test = X_continuous[:train_size], \\\n",
    "                                                            X_continuous[train_size:train_size+valid_size], \\\n",
    "                                                            X_continuous[train_size+valid_size:]\n",
    "print(\"Train split of continuous data: \")\n",
    "display(X_continuous_train.tail(2))\n",
    "\n",
    "# Splitting the categorical data into training and test split\n",
    "X_categorical_train, X_categorical_valid, X_categorical_test = X_categorical[:train_size], \\\n",
    "                                                               X_categorical[train_size:train_size+valid_size], \\\n",
    "                                                               X_categorical[train_size+valid_size:]\n",
    "print(\"Train split of categorical data: \")\n",
    "display(X_categorical_train.tail(2))\n",
    "\n",
    "# Splitting the target into training and test split\n",
    "Y_train, Y_valid, Y_test = Y[:train_size],  Y[train_size:train_size+valid_size], Y[train_size+valid_size:]\n",
    "print(\"Train split of target data Y: \")\n",
    "display(Y_train.tail(2))"
   ],
   "metadata": {
    "collapsed": false
   }
  },
  {
   "cell_type": "code",
   "execution_count": 18,
   "outputs": [
    {
     "name": "stdout",
     "output_type": "stream",
     "text": [
      "Shape for continuous variable: \n",
      "(35360, 24) (3928, 24) (4367, 24) \n",
      "\n",
      "Shape for categorical variable: \n",
      "(35360, 69) (3928, 69) (4368, 69) \n",
      "\n",
      "Shape for target variable: \n",
      "(35360, 8) (3928, 8) (4367, 8) \n",
      "\n",
      "Does it cover entire training set:  True\n"
     ]
    }
   ],
   "source": [
    "print(\"Shape for continuous variable: \")\n",
    "print(X_continuous_train.shape, X_continuous_valid.shape, X_continuous_test.shape, \"\\n\")\n",
    "print(\"Shape for categorical variable: \")\n",
    "print(X_categorical_train.shape, X_categorical_valid.shape, X_categorical_test.shape, \"\\n\")\n",
    "print(\"Shape for target variable: \")\n",
    "print(Y_train.shape, Y_valid.shape, Y_test.shape, \"\\n\")\n",
    "print(\"Does it cover entire training set: \", (X_continuous_train.shape[0] +\n",
    "                                              X_continuous_valid.shape[0] +\n",
    "                                              X_continuous_test.shape[0]) == len(X_continuous))"
   ],
   "metadata": {
    "collapsed": false
   }
  },
  {
   "cell_type": "markdown",
   "source": [
    "### SCALING THE DATA"
   ],
   "metadata": {
    "collapsed": false
   }
  },
  {
   "cell_type": "code",
   "execution_count": 19,
   "outputs": [],
   "source": [
    "# Scaling values using min-max scaler\n",
    "mm_scaler_X = MinMaxScaler()\n",
    "mm_scaler_Y = MinMaxScaler()"
   ],
   "metadata": {
    "collapsed": false
   }
  },
  {
   "cell_type": "code",
   "execution_count": 20,
   "outputs": [
    {
     "name": "stdout",
     "output_type": "stream",
     "text": [
      "Scaled continuous X train: \n"
     ]
    },
    {
     "data": {
      "text/plain": "array([[0.47239264, 0.23449139, 0.19856039, ..., 0.20869565, 0.30745511,\n        0.54746011],\n       [0.47443763, 0.22237185, 0.18389753, ..., 0.20173913, 0.30554355,\n        0.52531792],\n       [0.43353783, 0.21880106, 0.17227783, ..., 0.19478261, 0.3114404 ,\n        0.51768315],\n       ...,\n       [0.36196319, 0.20678211, 0.2057803 , ..., 0.25391304, 0.40503083,\n        0.47821325],\n       [0.35173824, 0.23657382, 0.23015009, ..., 0.23304348, 0.44177239,\n        0.51818128],\n       [0.34969325, 0.24424892, 0.24828321, ..., 0.2226087 , 0.40892217,\n        0.5426273 ]])"
     },
     "execution_count": 20,
     "metadata": {},
     "output_type": "execute_result"
    }
   ],
   "source": [
    "# Scaling continuous X train part\n",
    "X_scaled_continuous_train = mm_scaler_X.fit_transform(X_continuous_train)\n",
    "\n",
    "# Using the fit_scaler to scale the X valid part\n",
    "X_scaled_continuous_valid = mm_scaler_X.transform(X_continuous_valid)\n",
    "\n",
    "# Using the fit_scaler to scale the X test part\n",
    "X_scaled_continuous_test = mm_scaler_X.transform(X_continuous_test)\n",
    "\n",
    "print(\"Scaled continuous X train: \")\n",
    "X_scaled_continuous_train"
   ],
   "metadata": {
    "collapsed": false
   }
  },
  {
   "cell_type": "code",
   "execution_count": 21,
   "outputs": [
    {
     "name": "stdout",
     "output_type": "stream",
     "text": [
      "Scaled continuous Y train: \n"
     ]
    },
    {
     "data": {
      "text/plain": "array([[0.26216915, 0.55021825, 0.2091388 , ..., 0.38905282, 0.3581734 ,\n        0.55546358],\n       [0.26325241, 0.55072333, 0.20228984, ..., 0.39087589, 0.3602255 ,\n        0.5552914 ],\n       [0.27329606, 0.56994517, 0.20106199, ..., 0.3965838 , 0.37146996,\n        0.56740107],\n       ...,\n       [0.35535218, 0.57453583, 0.77602869, ..., 0.36468997, 0.3550624 ,\n        0.54115725],\n       [0.37837983, 0.5926963 , 0.79564953, ..., 0.40310546, 0.40234492,\n        0.58191426],\n       [0.39252897, 0.6079917 , 0.78961374, ..., 0.40458996, 0.42999139,\n        0.58882536]])"
     },
     "execution_count": 21,
     "metadata": {},
     "output_type": "execute_result"
    }
   ],
   "source": [
    "# Scaling target Y train part\n",
    "Y_scaled_train = mm_scaler_Y.fit_transform(Y_train)\n",
    "\n",
    "# Using the fit_scaler to scale the Y valid part\n",
    "Y_scaled_valid = mm_scaler_Y.transform(Y_valid)\n",
    "\n",
    "# Using the fit_scaler to scale the Y test part\n",
    "Y_scaled_test = mm_scaler_Y.transform(Y_test)\n",
    "\n",
    "print(\"Scaled continuous Y train: \")\n",
    "Y_scaled_train"
   ],
   "metadata": {
    "collapsed": false
   }
  },
  {
   "cell_type": "code",
   "execution_count": 22,
   "outputs": [],
   "source": [
    "# Converting a multivariate dataset into slices of samples\n",
    "def split_data(calendar_data, x_data, y_data, n_steps, n_overlap):\n",
    "    calendar, x, y = list(), list(), list()\n",
    "    for i in range(0, len(x_data), n_steps-n_overlap):\n",
    "\n",
    "        # Finding the split index\n",
    "        end_idx = i + n_steps\n",
    "\n",
    "        # Break the loop at end of dataset\n",
    "        if end_idx > len(x_data):\n",
    "            break\n",
    "\n",
    "        # Appending the custom created samples with desired time-steps and features\n",
    "        sample_calendar, sample_x, sample_y = calendar_data[i:end_idx, :], \\\n",
    "                                              x_data[i:end_idx, :], \\\n",
    "                                              y_data[i:end_idx, :]\n",
    "        calendar.append(sample_calendar)\n",
    "        x.append(sample_x)\n",
    "        y.append(sample_y)\n",
    "\n",
    "    return np.array(calendar), np.array(x), np.array(y)"
   ],
   "metadata": {
    "collapsed": false
   }
  },
  {
   "cell_type": "code",
   "execution_count": 23,
   "outputs": [
    {
     "name": "stdout",
     "output_type": "stream",
     "text": [
      "Shape of the created samples for training:  (35337, 24, 8)\n",
      "Shape of the created samples for validation:  (163, 24, 8)\n",
      "Shape of the created samples for testing:  (181, 24, 8)\n"
     ]
    }
   ],
   "source": [
    "num_steps = 24\n",
    "train_num_overlap = 23\n",
    "test_valid_num_overlap = 0\n",
    "\n",
    "processed_data_train = split_data(calendar_data=X_categorical_train.to_numpy(),\n",
    "                            x_data=X_scaled_continuous_train,\n",
    "                            y_data=Y_scaled_train,\n",
    "                            n_steps=num_steps, n_overlap=train_num_overlap)\n",
    "\n",
    "processed_data_valid = split_data(calendar_data=X_categorical_valid.to_numpy(),\n",
    "                            x_data=X_scaled_continuous_valid,\n",
    "                            y_data=Y_scaled_valid,\n",
    "                            n_steps=num_steps, n_overlap=test_valid_num_overlap)\n",
    "\n",
    "processed_data_test = split_data(calendar_data=X_categorical_test.to_numpy(),\n",
    "                            x_data=X_scaled_continuous_test,\n",
    "                            y_data=Y_scaled_test,\n",
    "                            n_steps=num_steps, n_overlap=test_valid_num_overlap)\n",
    "\n",
    "print(\"Shape of the created samples for training: \", processed_data_train[2].shape)\n",
    "print(\"Shape of the created samples for validation: \", processed_data_valid[2].shape)\n",
    "print(\"Shape of the created samples for testing: \", processed_data_test[2].shape)"
   ],
   "metadata": {
    "collapsed": false
   }
  },
  {
   "cell_type": "code",
   "execution_count": 24,
   "outputs": [
    {
     "name": "stdout",
     "output_type": "stream",
     "text": [
      "First sample: \n",
      "\n"
     ]
    },
    {
     "data": {
      "text/plain": "array([[0.62167689, 0.24098719, 0.18917539, 0.5130597 , 0.28931884,\n        0.25889518, 0.29831144, 0.74461272, 0.8021462 , 0.5130597 ,\n        0.28694234, 0.3290462 , 0.31980519, 0.32035032, 0.38854791,\n        0.35404896, 0.22458459, 0.18841935, 0.49107143, 0.28028252,\n        0.20040906, 0.34434783, 0.36446912, 0.40746398],\n       [0.56646217, 0.24582414, 0.20630196, 0.44402985, 0.28193328,\n        0.24068858, 0.2739212 , 0.72584879, 0.80310591, 0.44402985,\n        0.28469318, 0.34446756, 0.3262987 , 0.33137448, 0.40021659,\n        0.35404896, 0.20700589, 0.18580246, 0.49330357, 0.27235628,\n        0.22168924, 0.32869565, 0.33263689, 0.38255637],\n       [0.56441718, 0.24356568, 0.21495518, 0.39925373, 0.27317678,\n        0.23825178, 0.27204503, 0.71280558, 0.79659087, 0.39925373,\n        0.2744334 , 0.3545529 , 0.32305195, 0.3261589 , 0.40261858,\n        0.32391714, 0.1878627 , 0.17853673, 0.50669643, 0.26185621,\n        0.23656876, 0.34086957, 0.30624041, 0.35412547],\n       [0.55214724, 0.23646445, 0.21236362, 0.35447761, 0.26029738,\n        0.24660184, 0.2532833 , 0.69733565, 0.78203513, 0.35447761,\n        0.257351  , 0.35200107, 0.3262987 , 0.29961215, 0.38914103,\n        0.3126177 , 0.17587536, 0.1682688 , 0.47767857, 0.2472135 ,\n        0.24866522, 0.33391304, 0.2916169 , 0.32604627],\n       [0.50102249, 0.23702558, 0.20662253, 0.31343284, 0.2541124 ,\n        0.2318551 , 0.25703565, 0.69619961, 0.76121067, 0.31343284,\n        0.23540144, 0.34671882, 0.31655844, 0.27099405, 0.38237554,\n        0.28436911, 0.17141084, 0.15456671, 0.43973214, 0.24212729,\n        0.26144699, 0.31478261, 0.28403751, 0.30083324],\n       [0.49079755, 0.22996568, 0.19687259, 0.30037313, 0.24367936,\n        0.20522104, 0.26266417, 0.68991074, 0.74820481, 0.30037313,\n        0.22213091, 0.33936177, 0.31980519, 0.25201299, 0.37792621,\n        0.28813559, 0.17092881, 0.14845263, 0.44642857, 0.23617531,\n        0.27390655, 0.32      , 0.26767812, 0.28252148],\n       [0.49897751, 0.22606289, 0.18690461, 0.29850746, 0.20605906,\n        0.23218292, 0.30956848, 0.68810091, 0.74261807, 0.29850746,\n        0.2105735 , 0.34025154, 0.37987013, 0.23570219, 0.37667726,\n        0.31826742, 0.17402932, 0.14885608, 0.45535714, 0.23213414,\n        0.27715989, 0.34956522, 0.25279926, 0.27293149],\n       [0.51124744, 0.22638603, 0.17913552, 0.29291045, 0.23927014,\n        0.25744754, 0.37148218, 0.67703488, 0.73720665, 0.29291045,\n        0.2140967 , 0.34866345, 0.42532468, 0.23859629, 0.3774726 ,\n        0.34651601, 0.17871507, 0.1538682 , 0.46205357, 0.23479585,\n        0.26518669, 0.37565217, 0.24324827, 0.27401758],\n       [0.5194274 , 0.23300261, 0.18759576, 0.29664179, 0.25744265,\n        0.30161244, 0.40900563, 0.67311357, 0.73276179, 0.29664179,\n        0.24110179, 0.37132506, 0.44805195, 0.26337146, 0.4011495 ,\n        0.3653484 , 0.19382986, 0.17168577, 0.47991071, 0.24508547,\n        0.24853757, 0.4       , 0.25266274, 0.30254167],\n       [0.53169734, 0.25748273, 0.21654978, 0.30597015, 0.30502037,\n        0.34095039, 0.43714822, 0.7065936 , 0.77094709, 0.30597015,\n        0.29015032, 0.38922389, 0.46915584, 0.32356041, 0.41763873,\n        0.37853107, 0.23077071, 0.21164624, 0.5       , 0.28992265,\n        0.26821159, 0.42434783, 0.29449663, 0.37130535],\n       [0.55214724, 0.25269917, 0.21742405, 0.33395522, 0.31242934,\n        0.34383788, 0.4521576 , 0.72330661, 0.78577466, 0.33395522,\n        0.30379496, 0.37907171, 0.48376623, 0.33833026, 0.40482965,\n        0.3992467 , 0.23320074, 0.21805633, 0.51339286, 0.30291472,\n        0.25773615, 0.45217391, 0.30906663, 0.39259618],\n       [0.56441718, 0.24192262, 0.21561097, 0.33395522, 0.31138247,\n        0.33963944, 0.46529081, 0.73347288, 0.79017202, 0.33395522,\n        0.30654407, 0.36570911, 0.50162338, 0.34183294, 0.38738476,\n        0.40301318, 0.2208754 , 0.21681792, 0.52678571, 0.30419052,\n        0.23679528, 0.47130435, 0.3118689 , 0.39727   ],\n       [0.57668712, 0.21470465, 0.20864674, 0.33208955, 0.29156613,\n        0.33003662, 0.47091932, 0.72839135, 0.78987016, 0.33208955,\n        0.29329964, 0.34675917, 0.51136364, 0.32365807, 0.36570096,\n        0.40301318, 0.19967969, 0.21643616, 0.53794643, 0.28345685,\n        0.2179336 , 0.48173913, 0.29658265, 0.40285446],\n       [0.57055215, 0.17463801, 0.19259475, 0.31343284, 0.25162648,\n        0.3062135 , 0.4727955 , 0.71342692, 0.78686781, 0.31343284,\n        0.26108   , 0.32761205, 0.51136364, 0.29510562, 0.33723389,\n        0.38794727, 0.16199284, 0.20837356, 0.52232143, 0.24138444,\n        0.20021428, 0.47826087, 0.26385515, 0.39809179],\n       [0.52760736, 0.13488049, 0.17427491, 0.29850746, 0.21908579,\n        0.2836798 , 0.45966229, 0.69430373, 0.77645019, 0.29850746,\n        0.22845022, 0.30026637, 0.49350649, 0.26606148, 0.31159755,\n        0.36346516, 0.12396861, 0.19460393, 0.48883929, 0.188333  ,\n        0.17403296, 0.45391304, 0.23371325, 0.38448182],\n       [0.46625767, 0.10259416, 0.15685327, 0.28171642, 0.20066753,\n        0.26096455, 0.40337711, 0.66158946, 0.78032406, 0.28171642,\n        0.20311557, 0.27009337, 0.40584416, 0.25436734, 0.30023735,\n        0.32391714, 0.1189837 , 0.18365641, 0.44642857, 0.14625008,\n        0.16186755, 0.40347826, 0.25014004, 0.41298451],\n       [0.44989775, 0.08892558, 0.14856622, 0.26679104, 0.19439396,\n        0.25183815, 0.34333959, 0.6643465 , 0.77198741, 0.26679104,\n        0.19968156, 0.25716527, 0.3262987 , 0.25201871, 0.29925885,\n        0.29566855, 0.10690552, 0.18150928, 0.40625   , 0.12659097,\n        0.14840991, 0.36      , 0.247291  , 0.40751139],\n       [0.44785276, 0.08163658, 0.14534754, 0.25559701, 0.20310339,\n        0.25004956, 0.30769231, 0.66520518, 0.77132214, 0.25559701,\n        0.1985963 , 0.25316747, 0.29058442, 0.25346581, 0.29794996,\n        0.28248588, 0.09978506, 0.18579898, 0.37946429, 0.11565986,\n        0.14253494, 0.34086957, 0.2480633 , 0.40544952],\n       [0.43353783, 0.08182768, 0.14845436, 0.25      , 0.19257685,\n        0.23186398, 0.28142589, 0.66517744, 0.77558703, 0.25      ,\n        0.20796402, 0.25869651, 0.27922078, 0.25977789, 0.29711072,\n        0.26741996, 0.1014763 , 0.1940699 , 0.32589286, 0.11008437,\n        0.14224798, 0.31304348, 0.25414416, 0.41045481],\n       [0.40286299, 0.09926843, 0.1580631 , 0.24067164, 0.19994215,\n        0.26386589, 0.27954972, 0.67545817, 0.78385865, 0.24067164,\n        0.23050753, 0.26997388, 0.29707792, 0.28230552, 0.30514314,\n        0.24858757, 0.11578763, 0.20647906, 0.27232143, 0.11650323,\n        0.14735638, 0.28347826, 0.2777756 , 0.42143635],\n       [0.37832311, 0.14333804, 0.17716718, 0.23134328, 0.26990841,\n        0.29305723, 0.26829268, 0.69582827, 0.78899312, 0.23134328,\n        0.27886142, 0.29189906, 0.25      , 0.33026126, 0.33581028,\n        0.23163842, 0.15488736, 0.23087626, 0.26116071, 0.15262005,\n        0.16416359, 0.28      , 0.32499974, 0.44806737],\n       [0.36196319, 0.20678211, 0.2057803 , 0.2238806 , 0.36159108,\n        0.33517592, 0.23639775, 0.74012986, 0.79638219, 0.2238806 ,\n        0.3517445 , 0.32358859, 0.26948052, 0.39891114, 0.36984815,\n        0.2165725 , 0.22160187, 0.26937856, 0.25      , 0.23149027,\n        0.19200546, 0.25391304, 0.40503083, 0.47821325],\n       [0.35173824, 0.23657382, 0.23015009, 0.21455224, 0.38860122,\n        0.35897832, 0.22326454, 0.76979271, 0.82088037, 0.21455224,\n        0.38137113, 0.35829839, 0.29058442, 0.42352202, 0.40285384,\n        0.20715631, 0.24790755, 0.30614718, 0.21651786, 0.2580311 ,\n        0.21807762, 0.23304348, 0.44177239, 0.51818128],\n       [0.34969325, 0.24424892, 0.24828321, 0.20335821, 0.37646842,\n        0.40105365, 0.21388368, 0.75803621, 0.81844663, 0.20335821,\n        0.36353019, 0.3891454 , 0.29707792, 0.40379425, 0.43686199,\n        0.19585687, 0.24315496, 0.3210179 , 0.1875    , 0.24962906,\n        0.24831674, 0.2226087 , 0.40892217, 0.5426273 ]])"
     },
     "execution_count": 24,
     "metadata": {},
     "output_type": "execute_result"
    }
   ],
   "source": [
    "## Sample check for sanity\n",
    "print(\"First sample: \\n\")\n",
    "processed_data_train[1][-1]"
   ],
   "metadata": {
    "collapsed": false
   }
  },
  {
   "cell_type": "code",
   "execution_count": 25,
   "outputs": [
    {
     "name": "stdout",
     "output_type": "stream",
     "text": [
      "Second sample: \n",
      "\n"
     ]
    },
    {
     "data": {
      "text/plain": "array([[0.47443763, 0.22237185, 0.18389753, 0.2630597 , 0.416606  ,\n        0.29801661, 0.15384615, 0.00917475, 0.29095308, 0.2630597 ,\n        0.29585628, 0.32021747, 0.22727273, 0.33487899, 0.36340769,\n        0.22033898, 0.25561296, 0.28169351, 0.34598214, 0.33567322,\n        0.40115179, 0.20173913, 0.30554355, 0.52531792],\n       [0.43353783, 0.21880106, 0.17227783, 0.2369403 , 0.42127419,\n        0.29282212, 0.14821764, 0.01229659, 0.28252911, 0.2369403 ,\n        0.29445531, 0.31298758, 0.22402597, 0.33975427, 0.35411245,\n        0.20150659, 0.25812192, 0.27483003, 0.31026786, 0.33129919,\n        0.39264419, 0.19478261, 0.3114404 , 0.51768315],\n       [0.40695297, 0.22580892, 0.17013913, 0.20895522, 0.42336256,\n        0.29393606, 0.13883677, 0.01355201, 0.27738416, 0.20895522,\n        0.30480828, 0.31427817, 0.2224026 , 0.35291159, 0.35720014,\n        0.18455744, 0.26746582, 0.27223788, 0.29910714, 0.33517498,\n        0.38453863, 0.18086957, 0.32073627, 0.5127434 ],\n       [0.38854806, 0.25167514, 0.17628061, 0.18843284, 0.44858549,\n        0.30141929, 0.12007505, 0.02101837, 0.27710826, 0.18843284,\n        0.33298522, 0.32012511, 0.22402597, 0.38083529, 0.36760995,\n        0.16760829, 0.28640196, 0.28172126, 0.29241071, 0.3533992 ,\n        0.38558515, 0.17217391, 0.34429416, 0.51597405],\n       [0.37014315, 0.31337875, 0.19063541, 0.16791045, 0.50849658,\n        0.31678101, 0.10506567, 0.04845565, 0.28172838, 0.16791045,\n        0.39840866, 0.33639569, 0.22564935, 0.44036578, 0.38259975,\n        0.15065913, 0.34103434, 0.30336102, 0.265625  , 0.40514363,\n        0.39665426, 0.16521739, 0.40020484, 0.53015088],\n       [0.34560327, 0.39042224, 0.20038746, 0.15671642, 0.61119175,\n        0.3398177 , 0.09380863, 0.09617777, 0.28259478, 0.15671642,\n        0.48559758, 0.35551303, 0.23051948, 0.52598347, 0.39928485,\n        0.13747646, 0.41205421, 0.31993966, 0.24107143, 0.51360003,\n        0.41511264, 0.16      , 0.49360973, 0.55128031],\n       [0.32310838, 0.39521956, 0.20310663, 0.14552239, 0.6173787 ,\n        0.359546  , 0.07879925, 0.12423918, 0.29298354, 0.14552239,\n        0.51043589, 0.37035756, 0.23376623, 0.56006075, 0.41547767,\n        0.12429379, 0.4231644 , 0.32955578, 0.22321429, 0.53002772,\n        0.41820688, 0.15478261, 0.52884071, 0.56894887],\n       [0.30265849, 0.35783363, 0.21268548, 0.13619403, 0.57580027,\n        0.38094031, 0.06941839, 0.10924381, 0.29668954, 0.13619403,\n        0.47155541, 0.38363204, 0.23863636, 0.52591296, 0.42664741,\n        0.11111111, 0.37916314, 0.33751846, 0.21428571, 0.47649294,\n        0.43259232, 0.14956522, 0.49013041, 0.5863501 ],\n       [0.28425358, 0.32589421, 0.23865615, 0.12686567, 0.50981608,\n        0.4077179 , 0.06754221, 0.09905923, 0.30560881, 0.12686567,\n        0.40755978, 0.41018359, 0.24025974, 0.47796551, 0.45304809,\n        0.09792844, 0.32527764, 0.36109981, 0.19642857, 0.42722125,\n        0.45935538, 0.1426087 , 0.43248386, 0.60234944],\n       [0.26789366, 0.29334213, 0.26462574, 0.11940299, 0.44323247,\n        0.42605332, 0.0619137 , 0.0766382 , 0.3083584 , 0.11940299,\n        0.35743789, 0.43054638, 0.2288961 , 0.43617821, 0.47344473,\n        0.08286252, 0.28384691, 0.38212795, 0.17857143, 0.37100038,\n        0.47775933, 0.12869565, 0.37098491, 0.60772402],\n       [0.2597137 , 0.26061734, 0.27952908, 0.11007463, 0.38236041,\n        0.43381471, 0.07692308, 0.05758267, 0.30769664, 0.11007463,\n        0.31670324, 0.44055935, 0.20779221, 0.38899075, 0.47820158,\n        0.07156309, 0.24691618, 0.39719938, 0.16741071, 0.30512461,\n        0.48522983, 0.12347826, 0.31609193, 0.60842959],\n       [0.24948875, 0.23297219, 0.28199953, 0.10261194, 0.31996278,\n        0.42572758, 0.09193246, 0.03550901, 0.29769551, 0.10261194,\n        0.28128377, 0.43960586, 0.20941558, 0.34633139, 0.46619327,\n        0.06403013, 0.21255541, 0.39973205, 0.15401786, 0.25474682,\n        0.48467052, 0.12173913, 0.27130841, 0.59779803],\n       [0.24335378, 0.21401633, 0.27499181, 0.0988806 , 0.29666718,\n        0.41120788, 0.08067542, 0.02559718, 0.28460715, 0.0988806 ,\n        0.25578603, 0.42799963, 0.23376623, 0.31742669, 0.44965251,\n        0.06214689, 0.18680477, 0.3944155 , 0.14285714, 0.22042353,\n        0.47375229, 0.12347826, 0.24039081, 0.57939819],\n       [0.24948875, 0.19533004, 0.26677266, 0.13619403, 0.23765587,\n        0.40336432, 0.08442777, 0.01582999, 0.28202648, 0.13619403,\n        0.22882218, 0.41474477, 0.24350649, 0.29547805, 0.43759987,\n        0.08474576, 0.17201113, 0.38187665, 0.13839286, 0.19375887,\n        0.46390902, 0.14782609, 0.21590056, 0.56137059],\n       [0.26789366, 0.18401138, 0.26197773, 0.16977612, 0.24443926,\n        0.3979214 , 0.11257036, 0.01162119, 0.27956491, 0.16977612,\n        0.21313141, 0.40828183, 0.27922078, 0.27824149, 0.43750491,\n        0.10922787, 0.16393048, 0.36947291, 0.140625  , 0.17746991,\n        0.45927044, 0.17913043, 0.2026694 , 0.54998409],\n       [0.3006135 , 0.18330672, 0.26830094, 0.20149254, 0.24381692,\n        0.39976613, 0.15009381, 0.02744356, 0.28174767, 0.20149254,\n        0.21932077, 0.41755126, 0.32467532, 0.28054346, 0.44420129,\n        0.12617702, 0.16558231, 0.36970005, 0.15401786, 0.17491929,\n        0.46320012, 0.20521739, 0.21006283, 0.55480254],\n       [0.33128834, 0.21782764, 0.3040557 , 0.23320896, 0.30192096,\n        0.43499184, 0.19136961, 0.03815016, 0.29392295, 0.23320896,\n        0.26096788, 0.44587431, 0.36363636, 0.32120366, 0.47207174,\n        0.1393597 , 0.19203464, 0.39472632, 0.15401786, 0.19899373,\n        0.48921608, 0.24173913, 0.23623439, 0.57978945],\n       [0.34969325, 0.26207717, 0.31471935, 0.26492537, 0.37586393,\n        0.44460363, 0.21013133, 0.09102032, 0.31854459, 0.26492537,\n        0.31841369, 0.45453578, 0.40097403, 0.38776076, 0.48605609,\n        0.14312618, 0.24807699, 0.41327293, 0.16517857, 0.27120111,\n        0.52526165, 0.27478261, 0.31330176, 0.60578007],\n       [0.36605317, 0.26622039, 0.30231821, 0.2891791 , 0.38288582,\n        0.43001827, 0.25703565, 0.11310063, 0.31632688, 0.2891791 ,\n        0.32524028, 0.44039611, 0.43831169, 0.39915398, 0.47252527,\n        0.15065913, 0.25874615, 0.40254392, 0.18080357, 0.29163452,\n        0.5194488 , 0.29043478, 0.33136807, 0.59014397],\n       [0.36400818, 0.26172332, 0.28557591, 0.30410448, 0.35704718,\n        0.41383855, 0.2739212 , 0.12122332, 0.31060718, 0.30410448,\n        0.32947617, 0.42482061, 0.4724026 , 0.40436641, 0.45550868,\n        0.17514124, 0.25819338, 0.38878679, 0.18973214, 0.30015435,\n        0.51260522, 0.30434783, 0.34302882, 0.56690502],\n       [0.36196319, 0.23963449, 0.26319051, 0.31156716, 0.35610399,\n        0.38840469, 0.26641651, 0.11313805, 0.2990549 , 0.31156716,\n        0.31833111, 0.39710571, 0.49188312, 0.38806605, 0.42715809,\n        0.1920904 , 0.23954843, 0.36541071, 0.19866071, 0.28987663,\n        0.49271371, 0.31130435, 0.32910692, 0.53894146],\n       [0.3599182 , 0.19921753, 0.22901347, 0.30970149, 0.30214441,\n        0.35010122, 0.28142589, 0.09358355, 0.27879727, 0.30970149,\n        0.28384473, 0.36058846, 0.47564935, 0.35606307, 0.3835358 ,\n        0.20150659, 0.20220686, 0.32912992, 0.203125  , 0.25420903,\n        0.45721696, 0.33217391, 0.29665516, 0.50066528],\n       [0.35378323, 0.15840335, 0.19057233, 0.30037313, 0.29179851,\n        0.30984908, 0.27767355, 0.06990867, 0.25817732, 0.30037313,\n        0.25004174, 0.32210948, 0.43506494, 0.32451651, 0.34617641,\n        0.20527307, 0.16414656, 0.29137403, 0.20089286, 0.20214419,\n        0.41445935, 0.32347826, 0.2687032 , 0.46495496],\n       [0.34764826, 0.13300971, 0.15747422, 0.2891791 , 0.28833462,\n        0.28534506, 0.26641651, 0.06282894, 0.24302146, 0.2891791 ,\n        0.23590091, 0.29186555, 0.35227273, 0.31755217, 0.32144157,\n        0.19020716, 0.13867183, 0.25977546, 0.20089286, 0.16598239,\n        0.37781769, 0.2973913 , 0.26037088, 0.43731793]])"
     },
     "execution_count": 25,
     "metadata": {},
     "output_type": "execute_result"
    }
   ],
   "source": [
    "print(\"Second sample: \\n\")\n",
    "processed_data_train[1][1]"
   ],
   "metadata": {
    "collapsed": false
   }
  },
  {
   "cell_type": "code",
   "execution_count": 26,
   "outputs": [],
   "source": [
    "# Dividing the sampled data - training\n",
    "categorical_samples_training = torch.Tensor(processed_data_train[0])\n",
    "continuous_samples_training = torch.Tensor(processed_data_train[1])\n",
    "target_samples_training = torch.Tensor(processed_data_train[2])\n",
    "\n",
    "# Dividing the sampled data - validation\n",
    "categorical_samples_validation = torch.Tensor(processed_data_valid[0])\n",
    "continuous_samples_validation = torch.Tensor(processed_data_valid[1])\n",
    "target_samples_validation = torch.Tensor(processed_data_valid[2])\n",
    "\n",
    "# Dividing the sampled data - testing\n",
    "categorical_samples_testing = torch.Tensor(processed_data_test[0])\n",
    "continuous_samples_testing = torch.Tensor(processed_data_test[1])\n",
    "target_samples_testing = torch.Tensor(processed_data_test[2])"
   ],
   "metadata": {
    "collapsed": false
   }
  },
  {
   "cell_type": "code",
   "execution_count": 27,
   "outputs": [
    {
     "name": "stdout",
     "output_type": "stream",
     "text": [
      "Shape of categorical samples - training:  torch.Size([35337, 24, 69])\n",
      "Shape of continuous samples - training:  torch.Size([35337, 24, 24])\n",
      "Shape of target samples - training:  torch.Size([35337, 24, 8])\n",
      "\n",
      "\n",
      "Shape of categorical samples - validation:  torch.Size([163, 24, 69])\n",
      "Shape of continuous samples - validation:  torch.Size([163, 24, 24])\n",
      "Shape of target samples - validation:  torch.Size([163, 24, 8])\n",
      "\n",
      "\n",
      "Shape of categorical samples - testing:  torch.Size([181, 24, 69])\n",
      "Shape of continuous samples - testing:  torch.Size([181, 24, 24])\n",
      "Shape of target samples - testing:  torch.Size([181, 24, 8])\n"
     ]
    }
   ],
   "source": [
    "print(\"Shape of categorical samples - training: \", categorical_samples_training.shape)\n",
    "print(\"Shape of continuous samples - training: \", continuous_samples_training.shape)\n",
    "print(\"Shape of target samples - training: \", target_samples_training.shape)\n",
    "print(\"\\n\")\n",
    "print(\"Shape of categorical samples - validation: \", categorical_samples_validation.shape)\n",
    "print(\"Shape of continuous samples - validation: \", continuous_samples_validation.shape)\n",
    "print(\"Shape of target samples - validation: \", target_samples_validation.shape)\n",
    "print(\"\\n\")\n",
    "print(\"Shape of categorical samples - testing: \", categorical_samples_testing.shape)\n",
    "print(\"Shape of continuous samples - testing: \", continuous_samples_testing.shape)\n",
    "print(\"Shape of target samples - testing: \", target_samples_testing.shape)"
   ],
   "metadata": {
    "collapsed": false
   }
  },
  {
   "cell_type": "markdown",
   "source": [
    "### CREATING DATALOADER"
   ],
   "metadata": {
    "collapsed": false
   }
  },
  {
   "cell_type": "code",
   "execution_count": 28,
   "outputs": [],
   "source": [
    "BATCH_SIZE = 64"
   ],
   "metadata": {
    "collapsed": false
   }
  },
  {
   "cell_type": "code",
   "execution_count": 29,
   "outputs": [],
   "source": [
    "class TimeSeriesLoader(Dataset):\n",
    "    def __init__(self, categorical, continuous, target):\n",
    "        self.categorical, self.continuous, self.target = categorical, continuous, target\n",
    "\n",
    "    def __len__(self):\n",
    "        return len(self.categorical)\n",
    "\n",
    "    def __getitem__(self, idx):\n",
    "        return self.categorical[idx], self.continuous[idx], self.target[idx]"
   ],
   "metadata": {
    "collapsed": false
   }
  },
  {
   "cell_type": "code",
   "execution_count": 30,
   "outputs": [],
   "source": [
    "train_dataset = TimeSeriesLoader(categorical_samples_training,\n",
    "                                 continuous_samples_training,\n",
    "                                 target_samples_training)\n",
    "\n",
    "valid_dataset = TimeSeriesLoader(categorical_samples_validation,\n",
    "                                 continuous_samples_validation,\n",
    "                                 target_samples_validation)\n",
    "\n",
    "test_dataset = TimeSeriesLoader(categorical_samples_testing,\n",
    "                                continuous_samples_testing,\n",
    "                                target_samples_testing)"
   ],
   "metadata": {
    "collapsed": false
   }
  },
  {
   "cell_type": "code",
   "execution_count": 31,
   "outputs": [],
   "source": [
    "train_dataloader = DataLoader(train_dataset, batch_size=BATCH_SIZE, shuffle=True, drop_last=False)\n",
    "\n",
    "valid_dataloader = DataLoader(valid_dataset, batch_size=BATCH_SIZE, shuffle=False, drop_last=False)\n",
    "\n",
    "test_dataloader = DataLoader(test_dataset, batch_size=BATCH_SIZE, shuffle=False, drop_last=False)"
   ],
   "metadata": {
    "collapsed": false
   }
  },
  {
   "cell_type": "code",
   "execution_count": 32,
   "outputs": [
    {
     "name": "stdout",
     "output_type": "stream",
     "text": [
      "Number of batches in train dataloader:  553\n",
      "Number of batches in valid dataloader:  3\n",
      "Number of batches in test dataloader:  3\n"
     ]
    }
   ],
   "source": [
    "print(\"Number of batches in train dataloader: \", len(train_dataloader))\n",
    "print(\"Number of batches in valid dataloader: \", len(valid_dataloader))\n",
    "print(\"Number of batches in test dataloader: \", len(test_dataloader))"
   ],
   "metadata": {
    "collapsed": false
   }
  },
  {
   "cell_type": "code",
   "execution_count": 33,
   "outputs": [
    {
     "name": "stdout",
     "output_type": "stream",
     "text": [
      "Shape of categorical variables:  torch.Size([35337, 24, 69])\n",
      "Shape of continuous variables:  torch.Size([35337, 24, 24])\n",
      "Shape of target variables:  torch.Size([35337, 24, 8])\n"
     ]
    }
   ],
   "source": [
    "categorical_var_shape = train_dataloader.dataset.categorical.shape\n",
    "continuous_var_shape = train_dataloader.dataset.continuous.shape\n",
    "target_var_shape = train_dataloader.dataset.target.shape\n",
    "\n",
    "print(\"Shape of categorical variables: \", categorical_var_shape)\n",
    "print(\"Shape of continuous variables: \", continuous_var_shape)\n",
    "print(\"Shape of target variables: \", target_var_shape)"
   ],
   "metadata": {
    "collapsed": false
   }
  },
  {
   "cell_type": "code",
   "execution_count": 34,
   "outputs": [
    {
     "name": "stdout",
     "output_type": "stream",
     "text": [
      "Number of zones:  8\n",
      "Number of features per zone:  3\n"
     ]
    }
   ],
   "source": [
    "# Specifying number of zones and features per zone\n",
    "num_zones = target_var_shape[2]\n",
    "num_zone_features = int(continuous_var_shape[2] / target_var_shape[2])\n",
    "print(\"Number of zones: \", num_zones)\n",
    "print(\"Number of features per zone: \", num_zone_features)"
   ],
   "metadata": {
    "collapsed": false
   }
  },
  {
   "cell_type": "markdown",
   "source": [
    "## DEFINING MODEL ARCHITECTURE"
   ],
   "metadata": {
    "collapsed": false
   }
  },
  {
   "cell_type": "code",
   "execution_count": 35,
   "outputs": [],
   "source": [
    "args = easydict.EasyDict(\n",
    "        {\n",
    "            \"device\": torch.device(\"cuda\")\n",
    "            if torch.cuda.is_available()\n",
    "            else torch.device(\"cpu\"),\n",
    "            \"input_size\": 3,\n",
    "            \"hidden_size\": 2048,\n",
    "            \"latent_size\": 1024,\n",
    "            \"output_size\": 3,\n",
    "            \"learning_rate\": 0.001,\n",
    "            \"max_iter\": 1000,\n",
    "        }\n",
    "    )\n",
    "\n",
    "input_size = args.input_size\n",
    "hidden_size = args.hidden_size\n",
    "latent_size = args.latent_size\n",
    "output_size = args.output_size"
   ],
   "metadata": {
    "collapsed": false
   }
  },
  {
   "cell_type": "code",
   "execution_count": 36,
   "outputs": [],
   "source": [
    "def init_weights(model):\n",
    "    if isinstance(model, nn.Linear):\n",
    "        torch.nn.init.kaiming_uniform_(model.weight, nonlinearity='relu')\n",
    "        model.bias.data.fill_(0.01)\n",
    "\n",
    "def save_checkpoint(model, filename):\n",
    "    torch.save(model.state_dict(), filename)\n",
    "\n",
    "def load_from_checkpoint(model, filename):\n",
    "    model.load_state_dict(torch.load(filename))\n",
    "    return model"
   ],
   "metadata": {
    "collapsed": false
   }
  },
  {
   "cell_type": "code",
   "execution_count": 37,
   "outputs": [],
   "source": [
    "# Define LSTM-based VAE model\n",
    "vae_lstm_1 = VAE_LSTM(input_size, hidden_size, latent_size, output_size, device=args.device).to(args.device).apply(init_weights)\n",
    "vae_lstm_2 = VAE_LSTM(input_size, hidden_size, latent_size, output_size, device=args.device).to(args.device).apply(init_weights)\n",
    "vae_lstm_3 = VAE_LSTM(input_size, hidden_size, latent_size, output_size, device=args.device).to(args.device).apply(init_weights)\n",
    "vae_lstm_4 = VAE_LSTM(input_size, hidden_size, latent_size, output_size, device=args.device).to(args.device).apply(init_weights)\n",
    "vae_lstm_5 = VAE_LSTM(input_size, hidden_size, latent_size, output_size, device=args.device).to(args.device).apply(init_weights)\n",
    "vae_lstm_6 = VAE_LSTM(input_size, hidden_size, latent_size, output_size, device=args.device).to(args.device).apply(init_weights)\n",
    "vae_lstm_7 = VAE_LSTM(input_size, hidden_size, latent_size, output_size, device=args.device).to(args.device).apply(init_weights)\n",
    "vae_lstm_8 = VAE_LSTM(input_size, hidden_size, latent_size, output_size, device=args.device).to(args.device).apply(init_weights)"
   ],
   "metadata": {
    "collapsed": false
   }
  },
  {
   "cell_type": "code",
   "execution_count": 38,
   "outputs": [],
   "source": [
    "# Defining optimizers\n",
    "opt = torch.optim.Adam(list(vae_lstm_1.parameters()) +\n",
    "                       list(vae_lstm_2.parameters()) +\n",
    "                       list(vae_lstm_3.parameters()) +\n",
    "                       list(vae_lstm_4.parameters()) +\n",
    "                       list(vae_lstm_5.parameters()) +\n",
    "                       list(vae_lstm_6.parameters()) +\n",
    "                       list(vae_lstm_7.parameters()) +\n",
    "                       list(vae_lstm_8.parameters()),\n",
    "                       lr=args.learning_rate)"
   ],
   "metadata": {
    "collapsed": false
   }
  },
  {
   "cell_type": "code",
   "execution_count": 39,
   "outputs": [],
   "source": [
    "def train(*models, optimizer, train_loader):\n",
    "\n",
    "    model_1 = models[0]\n",
    "    model_2 = models[1]\n",
    "    model_3 = models[2]\n",
    "    model_4 = models[3]\n",
    "    model_5 = models[4]\n",
    "    model_6 = models[5]\n",
    "    model_7 = models[6]\n",
    "    model_8 = models[7]\n",
    "\n",
    "    model_1.train()\n",
    "    model_2.train()\n",
    "    model_3.train()\n",
    "    model_4.train()\n",
    "    model_5.train()\n",
    "    model_6.train()\n",
    "    model_7.train()\n",
    "    model_8.train()\n",
    "\n",
    "    # Resetting the calculated gradients\n",
    "    optimizer.zero_grad()\n",
    "\n",
    "    train_iterator = tqdm(\n",
    "        enumerate(train_loader), total=len(train_loader), desc=\"training\"\n",
    "    )\n",
    "\n",
    "    for i, (categorical_var, continuous_var, target_var) in train_iterator:\n",
    "\n",
    "        zone_1 = continuous_var[:, :, 0:3].to(device)\n",
    "        zone_2 = continuous_var[:, :, 3:6].to(device)\n",
    "        zone_3 = continuous_var[:, :, 6:9].to(device)\n",
    "        zone_4 = continuous_var[:, :, 9:12].to(device)\n",
    "        zone_5 = continuous_var[:, :, 12:15].to(device)\n",
    "        zone_6 = continuous_var[:, :, 15:18].to(device)\n",
    "        zone_7 = continuous_var[:, :, 18:21].to(device)\n",
    "        zone_8 = continuous_var[:, :, 21:24].to(device)\n",
    "\n",
    "        m_loss_1, recon_x_1, info_1 = model_1(zone_1)\n",
    "        m_loss_2, recon_x_2, info_2 = model_2(zone_2)\n",
    "        m_loss_3, recon_x_3, info_3 = model_3(zone_3)\n",
    "        m_loss_4, recon_x_4, info_4 = model_4(zone_4)\n",
    "        m_loss_5, recon_x_5, info_5 = model_5(zone_5)\n",
    "        m_loss_6, recon_x_6, info_6 = model_6(zone_6)\n",
    "        m_loss_7, recon_x_7, info_7 = model_7(zone_7)\n",
    "        m_loss_8, recon_x_8, info_8 = model_8(zone_8)\n",
    "\n",
    "        # Resetting the calculated gradients\n",
    "        optimizer.zero_grad()\n",
    "\n",
    "        # Calculating the gradients for backprop\n",
    "        m_loss_1.mean().backward()\n",
    "        m_loss_2.mean().backward()\n",
    "        m_loss_3.mean().backward()\n",
    "        m_loss_4.mean().backward()\n",
    "        m_loss_5.mean().backward()\n",
    "        m_loss_6.mean().backward()\n",
    "        m_loss_7.mean().backward()\n",
    "        m_loss_8.mean().backward()\n",
    "\n",
    "        # Performing backprop step\n",
    "        optimizer.step()\n",
    "\n",
    "        train_iterator.set_postfix({\"train_loss_1\": float(m_loss_1.mean()),\n",
    "                                    \"train_loss_2\": float(m_loss_2.mean()),\n",
    "                                    \"train_loss_3\": float(m_loss_3.mean()),\n",
    "                                    \"train_loss_4\": float(m_loss_4.mean()),\n",
    "                                    \"train_loss_5\": float(m_loss_5.mean()),\n",
    "                                    \"train_loss_6\": float(m_loss_6.mean()),\n",
    "                                    \"train_loss_7\": float(m_loss_7.mean()),\n",
    "                                    \"train_loss_8\": float(m_loss_8.mean())})\n",
    "\n",
    "    writer.add_scalar(\"train_loss_1\", float(m_loss_1.mean()), epoch)\n",
    "    writer.add_scalar(\"train_loss_2\", float(m_loss_2.mean()), epoch)\n",
    "    writer.add_scalar(\"train_loss_3\", float(m_loss_3.mean()), epoch)\n",
    "    writer.add_scalar(\"train_loss_4\", float(m_loss_4.mean()), epoch)\n",
    "    writer.add_scalar(\"train_loss_5\", float(m_loss_5.mean()), epoch)\n",
    "    writer.add_scalar(\"train_loss_6\", float(m_loss_6.mean()), epoch)\n",
    "    writer.add_scalar(\"train_loss_7\", float(m_loss_7.mean()), epoch)\n",
    "    writer.add_scalar(\"train_loss_8\", float(m_loss_8.mean()), epoch)\n",
    "\n",
    "    train_loss = (\n",
    "        m_loss_1.mean(),\n",
    "        m_loss_2.mean(),\n",
    "        m_loss_3.mean(),\n",
    "        m_loss_4.mean(),\n",
    "        m_loss_5.mean(),\n",
    "        m_loss_6.mean(),\n",
    "        m_loss_7.mean(),\n",
    "        m_loss_8.mean(),\n",
    "    )\n",
    "\n",
    "    return train_loss, model_1, model_2, model_3, model_4, model_5, model_6, model_7, model_8"
   ],
   "metadata": {
    "collapsed": false
   }
  },
  {
   "cell_type": "code",
   "execution_count": 40,
   "outputs": [],
   "source": [
    "def valid_or_test(*models, data_loader, mode):\n",
    "\n",
    "    model_1 = models[0]\n",
    "    model_2 = models[1]\n",
    "    model_3 = models[2]\n",
    "    model_4 = models[3]\n",
    "    model_5 = models[4]\n",
    "    model_6 = models[5]\n",
    "    model_7 = models[6]\n",
    "    model_8 = models[7]\n",
    "\n",
    "    model_1.eval()\n",
    "    model_2.eval()\n",
    "    model_3.eval()\n",
    "    model_4.eval()\n",
    "    model_5.eval()\n",
    "    model_6.eval()\n",
    "    model_7.eval()\n",
    "    model_8.eval()\n",
    "\n",
    "    eval_loss_1, eval_loss_2, eval_loss_3, eval_loss_4 = 0, 0, 0, 0\n",
    "    eval_loss_5, eval_loss_6, eval_loss_7, eval_loss_8 = 0, 0, 0, 0\n",
    "\n",
    "    orig_append_1, pred_append_1 = list(), list()\n",
    "    orig_append_2, pred_append_2 = list(), list()\n",
    "    orig_append_3, pred_append_3 = list(), list()\n",
    "    orig_append_4, pred_append_4 = list(), list()\n",
    "    orig_append_5, pred_append_5 = list(), list()\n",
    "    orig_append_6, pred_append_6 = list(), list()\n",
    "    orig_append_7, pred_append_7 = list(), list()\n",
    "    orig_append_8, pred_append_8 = list(), list()\n",
    "\n",
    "    if mode == \"test\":\n",
    "        valid_or_test_iterator = tqdm(\n",
    "            enumerate(data_loader), total=len(data_loader), desc=\"testing\"\n",
    "        )\n",
    "    else:\n",
    "        valid_or_test_iterator = tqdm(\n",
    "            enumerate(data_loader), total=len(data_loader), desc=\"validation\"\n",
    "        )\n",
    "\n",
    "    with torch.no_grad():\n",
    "        for i, (categorical_var, continuous_var, target_var) in valid_or_test_iterator:\n",
    "\n",
    "            zone_1 = continuous_var[:, :, 0:3].to(device)\n",
    "            zone_2 = continuous_var[:, :, 3:6].to(device)\n",
    "            zone_3 = continuous_var[:, :, 6:9].to(device)\n",
    "            zone_4 = continuous_var[:, :, 9:12].to(device)\n",
    "            zone_5 = continuous_var[:, :, 12:15].to(device)\n",
    "            zone_6 = continuous_var[:, :, 15:18].to(device)\n",
    "            zone_7 = continuous_var[:, :, 18:21].to(device)\n",
    "            zone_8 = continuous_var[:, :, 21:24].to(device)\n",
    "\n",
    "            m_loss_1, recon_x_1, info_1 = model_1(zone_1)\n",
    "            m_loss_2, recon_x_2, info_2 = model_2(zone_2)\n",
    "            m_loss_3, recon_x_3, info_3 = model_3(zone_3)\n",
    "            m_loss_4, recon_x_4, info_4 = model_4(zone_4)\n",
    "            m_loss_5, recon_x_5, info_5 = model_5(zone_5)\n",
    "            m_loss_6, recon_x_6, info_6 = model_6(zone_6)\n",
    "            m_loss_7, recon_x_7, info_7 = model_7(zone_7)\n",
    "            m_loss_8, recon_x_8, info_8 = model_8(zone_8)\n",
    "\n",
    "            eval_loss_1 += m_loss_1.mean().item()\n",
    "            eval_loss_2 += m_loss_2.mean().item()\n",
    "            eval_loss_3 += m_loss_3.mean().item()\n",
    "            eval_loss_4 += m_loss_4.mean().item()\n",
    "            eval_loss_5 += m_loss_5.mean().item()\n",
    "            eval_loss_6 += m_loss_6.mean().item()\n",
    "            eval_loss_7 += m_loss_7.mean().item()\n",
    "            eval_loss_8 += m_loss_8.mean().item()\n",
    "\n",
    "            valid_or_test_iterator.set_postfix({\"eval_loss_1\": float(m_loss_1.mean()),\n",
    "                                                \"eval_loss_2\": float(m_loss_2.mean()),\n",
    "                                                \"eval_loss_3\": float(m_loss_3.mean()),\n",
    "                                                \"eval_loss_4\": float(m_loss_4.mean()),\n",
    "                                                \"eval_loss_5\": float(m_loss_5.mean()),\n",
    "                                                \"eval_loss_6\": float(m_loss_6.mean()),\n",
    "                                                \"eval_loss_7\": float(m_loss_7.mean()),\n",
    "                                                \"eval_loss_8\": float(m_loss_8.mean())})\n",
    "\n",
    "            if mode == \"test\":\n",
    "\n",
    "                orig_data_1 = zone_1.cpu().detach().numpy().reshape(-1, 3)\n",
    "                pred_data_1 = recon_x_1.cpu().detach().numpy().reshape(-1, 3)\n",
    "\n",
    "                orig_data_2 = zone_2.cpu().detach().numpy().reshape(-1, 3)\n",
    "                pred_data_2 = recon_x_2.cpu().detach().numpy().reshape(-1, 3)\n",
    "\n",
    "                orig_data_3 = zone_3.cpu().detach().numpy().reshape(-1, 3)\n",
    "                pred_data_3 = recon_x_3.cpu().detach().numpy().reshape(-1, 3)\n",
    "\n",
    "                orig_data_4 = zone_4.cpu().detach().numpy().reshape(-1, 3)\n",
    "                pred_data_4 = recon_x_4.cpu().detach().numpy().reshape(-1, 3)\n",
    "\n",
    "                orig_data_5 = zone_5.cpu().detach().numpy().reshape(-1, 3)\n",
    "                pred_data_5 = recon_x_5.cpu().detach().numpy().reshape(-1, 3)\n",
    "\n",
    "                orig_data_6 = zone_6.cpu().detach().numpy().reshape(-1, 3)\n",
    "                pred_data_6 = recon_x_6.cpu().detach().numpy().reshape(-1, 3)\n",
    "\n",
    "                orig_data_7 = zone_7.cpu().detach().numpy().reshape(-1, 3)\n",
    "                pred_data_7 = recon_x_7.cpu().detach().numpy().reshape(-1, 3)\n",
    "\n",
    "                orig_data_8 = zone_8.cpu().detach().numpy().reshape(-1, 3)\n",
    "                pred_data_8 = recon_x_8.cpu().detach().numpy().reshape(-1, 3)\n",
    "\n",
    "                orig_append_1.append(orig_data_1)\n",
    "                pred_append_1.append(pred_data_1)\n",
    "\n",
    "                orig_append_2.append(orig_data_2)\n",
    "                pred_append_2.append(pred_data_2)\n",
    "\n",
    "                orig_append_3.append(orig_data_3)\n",
    "                pred_append_3.append(pred_data_3)\n",
    "\n",
    "                orig_append_4.append(orig_data_4)\n",
    "                pred_append_4.append(pred_data_4)\n",
    "\n",
    "                orig_append_5.append(orig_data_5)\n",
    "                pred_append_5.append(pred_data_5)\n",
    "\n",
    "                orig_append_6.append(orig_data_6)\n",
    "                pred_append_6.append(pred_data_6)\n",
    "\n",
    "                orig_append_7.append(orig_data_7)\n",
    "                pred_append_7.append(pred_data_7)\n",
    "\n",
    "                orig_append_8.append(orig_data_8)\n",
    "                pred_append_8.append(pred_data_8)\n",
    "\n",
    "    eval_loss_1 = eval_loss_1 / len(data_loader)\n",
    "    writer.add_scalar(\"eval_loss_1\", float(eval_loss_1))\n",
    "\n",
    "    eval_loss_2 = eval_loss_2 / len(data_loader)\n",
    "    writer.add_scalar(\"eval_loss_2\", float(eval_loss_2))\n",
    "\n",
    "    eval_loss_3 = eval_loss_3 / len(data_loader)\n",
    "    writer.add_scalar(\"eval_loss_3\", float(eval_loss_3))\n",
    "\n",
    "    eval_loss_4 = eval_loss_4 / len(data_loader)\n",
    "    writer.add_scalar(\"eval_loss_4\", float(eval_loss_4))\n",
    "\n",
    "    eval_loss_5 = eval_loss_5 / len(data_loader)\n",
    "    writer.add_scalar(\"eval_loss_5\", float(eval_loss_5))\n",
    "\n",
    "    eval_loss_6 = eval_loss_6 / len(data_loader)\n",
    "    writer.add_scalar(\"eval_loss_6\", float(eval_loss_6))\n",
    "\n",
    "    eval_loss_7 = eval_loss_7 / len(data_loader)\n",
    "    writer.add_scalar(\"eval_loss_7\", float(eval_loss_7))\n",
    "\n",
    "    eval_loss_8 = eval_loss_8 / len(data_loader)\n",
    "    writer.add_scalar(\"eval_loss_8\", float(eval_loss_8))\n",
    "\n",
    "    print(\"Evaluation Score 1 : [{}]\".format(eval_loss_1))\n",
    "    print(\"Evaluation Score 2 : [{}]\".format(eval_loss_2))\n",
    "    print(\"Evaluation Score 3 : [{}]\".format(eval_loss_3))\n",
    "    print(\"Evaluation Score 4 : [{}]\".format(eval_loss_4))\n",
    "    print(\"Evaluation Score 5 : [{}]\".format(eval_loss_5))\n",
    "    print(\"Evaluation Score 6 : [{}]\".format(eval_loss_6))\n",
    "    print(\"Evaluation Score 7 : [{}]\".format(eval_loss_7))\n",
    "    print(\"Evaluation Score 8 : [{}]\".format(eval_loss_8))\n",
    "    print(\"\\n\")\n",
    "\n",
    "    valid_loss = (\n",
    "        eval_loss_1,\n",
    "        eval_loss_2,\n",
    "        eval_loss_3,\n",
    "        eval_loss_4,\n",
    "        eval_loss_5,\n",
    "        eval_loss_6,\n",
    "        eval_loss_7,\n",
    "        eval_loss_8\n",
    "    )\n",
    "\n",
    "    # In test mode, return the true and predicted data for evaluation on hold-out test set\n",
    "    if mode == \"test\":\n",
    "\n",
    "        # Concatenating all the appended data\n",
    "        orig_append_1 = pd.DataFrame(np.concatenate(orig_append_1))\n",
    "        pred_append_1 = pd.DataFrame(np.concatenate(pred_append_1))\n",
    "\n",
    "        orig_append_2 = pd.DataFrame(np.concatenate(orig_append_2))\n",
    "        pred_append_2 = pd.DataFrame(np.concatenate(pred_append_2))\n",
    "\n",
    "        orig_append_3 = pd.DataFrame(np.concatenate(orig_append_3))\n",
    "        pred_append_3 = pd.DataFrame(np.concatenate(pred_append_3))\n",
    "\n",
    "        orig_append_4 = pd.DataFrame(np.concatenate(orig_append_4))\n",
    "        pred_append_4 = pd.DataFrame(np.concatenate(pred_append_4))\n",
    "\n",
    "        orig_append_5 = pd.DataFrame(np.concatenate(orig_append_5))\n",
    "        pred_append_5 = pd.DataFrame(np.concatenate(pred_append_5))\n",
    "\n",
    "        orig_append_6 = pd.DataFrame(np.concatenate(orig_append_6))\n",
    "        pred_append_6 = pd.DataFrame(np.concatenate(pred_append_6))\n",
    "\n",
    "        orig_append_7 = pd.DataFrame(np.concatenate(orig_append_7))\n",
    "        pred_append_7 = pd.DataFrame(np.concatenate(pred_append_7))\n",
    "\n",
    "        orig_append_8 = pd.DataFrame(np.concatenate(orig_append_8))\n",
    "        pred_append_8 = pd.DataFrame(np.concatenate(pred_append_8))\n",
    "\n",
    "        return orig_append_1, pred_append_1, \\\n",
    "               orig_append_2, pred_append_2, \\\n",
    "               orig_append_3, pred_append_3, \\\n",
    "               orig_append_4, pred_append_4, \\\n",
    "               orig_append_5, pred_append_5, \\\n",
    "               orig_append_6, pred_append_6, \\\n",
    "               orig_append_7, pred_append_7, \\\n",
    "               orig_append_8, pred_append_8\n",
    "\n",
    "    # In valid mode, return the validation losses for early stopping\n",
    "    else:\n",
    "        return valid_loss"
   ],
   "metadata": {
    "collapsed": false
   }
  },
  {
   "cell_type": "code",
   "execution_count": 41,
   "outputs": [],
   "source": [
    "# The parameters for early stopping\n",
    "early_stop_patience = 5\n",
    "\n",
    "lowest_loss_1 = np.inf\n",
    "lowest_loss_epoch_1 = -1\n",
    "\n",
    "lowest_loss_2 = np.inf\n",
    "lowest_loss_epoch_2 = -1\n",
    "\n",
    "lowest_loss_3 = np.inf\n",
    "lowest_loss_epoch_3 = -1\n",
    "\n",
    "lowest_loss_4 = np.inf\n",
    "lowest_loss_epoch_4 = -1\n",
    "\n",
    "lowest_loss_5 = np.inf\n",
    "lowest_loss_epoch_5 = -1\n",
    "\n",
    "lowest_loss_6 = np.inf\n",
    "lowest_loss_epoch_6 = -1\n",
    "\n",
    "lowest_loss_7 = np.inf\n",
    "lowest_loss_epoch_7 = -1\n",
    "\n",
    "lowest_loss_8 = np.inf\n",
    "lowest_loss_epoch_8 = -1\n",
    "\n",
    "model_train_flag_1 = False\n",
    "model_train_flag_2 = False\n",
    "model_train_flag_3 = False\n",
    "model_train_flag_4 = False\n",
    "model_train_flag_5 = False\n",
    "model_train_flag_6 = False\n",
    "model_train_flag_7 = False\n",
    "model_train_flag_8 = False"
   ],
   "metadata": {
    "collapsed": false
   }
  },
  {
   "cell_type": "code",
   "execution_count": 42,
   "outputs": [
    {
     "name": "stdout",
     "output_type": "stream",
     "text": [
      "Epoch 1\n"
     ]
    },
    {
     "name": "stderr",
     "output_type": "stream",
     "text": [
      "training: 100%|██████████| 553/553 [04:16<00:00,  2.16it/s, train_loss_1=0.0335, train_loss_2=0.0279, train_loss_3=0.00674, train_loss_4=0.0297, train_loss_5=0.0289, train_loss_6=0.0309, train_loss_7=0.0282, train_loss_8=0.0359]\n",
      "validation: 100%|██████████| 3/3 [00:00<00:00,  8.73it/s, eval_loss_1=0.0851, eval_loss_2=0.0727, eval_loss_3=0.021, eval_loss_4=0.0371, eval_loss_5=0.0351, eval_loss_6=0.0403, eval_loss_7=0.131, eval_loss_8=0.0451]   \n"
     ]
    },
    {
     "name": "stdout",
     "output_type": "stream",
     "text": [
      "Evaluation Score 1 : [0.03967667898784081]\n",
      "Evaluation Score 2 : [0.042304749911030136]\n",
      "Evaluation Score 3 : [0.012061595606307188]\n",
      "Evaluation Score 4 : [0.024203220382332802]\n",
      "Evaluation Score 5 : [0.025048427283763885]\n",
      "Evaluation Score 6 : [0.023522508330643177]\n",
      "Evaluation Score 7 : [0.06777685197691123]\n",
      "Evaluation Score 8 : [0.026427514851093292]\n",
      "\n",
      "\n",
      "Epoch 2\n"
     ]
    },
    {
     "name": "stderr",
     "output_type": "stream",
     "text": [
      "training: 100%|██████████| 553/553 [03:40<00:00,  2.51it/s, train_loss_1=0.0121, train_loss_2=0.0166, train_loss_3=0.00623, train_loss_4=0.0152, train_loss_5=0.0158, train_loss_6=0.0127, train_loss_7=0.00965, train_loss_8=0.0112]\n",
      "validation: 100%|██████████| 3/3 [00:00<00:00,  8.35it/s, eval_loss_1=0.0127, eval_loss_2=0.0196, eval_loss_3=0.0128, eval_loss_4=0.019, eval_loss_5=0.0189, eval_loss_6=0.0149, eval_loss_7=0.00575, eval_loss_8=0.0125]   \n"
     ]
    },
    {
     "name": "stdout",
     "output_type": "stream",
     "text": [
      "Evaluation Score 1 : [0.012081543914973736]\n",
      "Evaluation Score 2 : [0.017816880717873573]\n",
      "Evaluation Score 3 : [0.007965964886049429]\n",
      "Evaluation Score 4 : [0.01618736268331607]\n",
      "Evaluation Score 5 : [0.014472255483269691]\n",
      "Evaluation Score 6 : [0.013622617659469446]\n",
      "Evaluation Score 7 : [0.00828730765109261]\n",
      "Evaluation Score 8 : [0.009793592616915703]\n",
      "\n",
      "\n",
      "Epoch 3\n"
     ]
    },
    {
     "name": "stderr",
     "output_type": "stream",
     "text": [
      "training: 100%|██████████| 553/553 [03:40<00:00,  2.51it/s, train_loss_1=0.006, train_loss_2=0.0119, train_loss_3=0.00345, train_loss_4=0.0114, train_loss_5=0.0125, train_loss_6=0.0112, train_loss_7=0.00433, train_loss_8=0.00332]     \n",
      "validation: 100%|██████████| 3/3 [00:00<00:00,  8.35it/s, eval_loss_1=0.0111, eval_loss_2=0.00743, eval_loss_3=0.00829, eval_loss_4=0.0132, eval_loss_5=0.0135, eval_loss_6=0.0165, eval_loss_7=0.00454, eval_loss_8=0.00547]   \n"
     ]
    },
    {
     "name": "stdout",
     "output_type": "stream",
     "text": [
      "Evaluation Score 1 : [0.008730453594277302]\n",
      "Evaluation Score 2 : [0.008697467080006996]\n",
      "Evaluation Score 3 : [0.006880955149730046]\n",
      "Evaluation Score 4 : [0.008901026720801989]\n",
      "Evaluation Score 5 : [0.009004710397372643]\n",
      "Evaluation Score 6 : [0.010912288601199785]\n",
      "Evaluation Score 7 : [0.006121848244220018]\n",
      "Evaluation Score 8 : [0.005388409520188968]\n",
      "\n",
      "\n",
      "Epoch 4\n"
     ]
    },
    {
     "name": "stderr",
     "output_type": "stream",
     "text": [
      "training: 100%|██████████| 553/553 [03:40<00:00,  2.51it/s, train_loss_1=0.00314, train_loss_2=0.00317, train_loss_3=0.00128, train_loss_4=0.00372, train_loss_5=0.00327, train_loss_6=0.00285, train_loss_7=0.00296, train_loss_8=0.00222]\n",
      "validation: 100%|██████████| 3/3 [00:00<00:00,  8.35it/s, eval_loss_1=0.00356, eval_loss_2=0.0046, eval_loss_3=0.00359, eval_loss_4=0.00242, eval_loss_5=0.00305, eval_loss_6=0.00283, eval_loss_7=0.00153, eval_loss_8=0.00207] \n"
     ]
    },
    {
     "name": "stdout",
     "output_type": "stream",
     "text": [
      "Evaluation Score 1 : [0.0031290093902498484]\n",
      "Evaluation Score 2 : [0.005732340272516012]\n",
      "Evaluation Score 3 : [0.0025044615225245557]\n",
      "Evaluation Score 4 : [0.0029878318309783936]\n",
      "Evaluation Score 5 : [0.003865262493491173]\n",
      "Evaluation Score 6 : [0.003816150827333331]\n",
      "Evaluation Score 7 : [0.0026575221369663873]\n",
      "Evaluation Score 8 : [0.0026670281464854875]\n",
      "\n",
      "\n",
      "Epoch 5\n"
     ]
    },
    {
     "name": "stderr",
     "output_type": "stream",
     "text": [
      "training: 100%|██████████| 553/553 [03:40<00:00,  2.51it/s, train_loss_1=0.00187, train_loss_2=0.00166, train_loss_3=0.000766, train_loss_4=0.0021, train_loss_5=0.0035, train_loss_6=0.00225, train_loss_7=0.00198, train_loss_8=0.00156]  \n",
      "validation: 100%|██████████| 3/3 [00:00<00:00,  8.34it/s, eval_loss_1=0.00158, eval_loss_2=0.00208, eval_loss_3=0.00256, eval_loss_4=0.0018, eval_loss_5=0.00216, eval_loss_6=0.00197, eval_loss_7=0.00244, eval_loss_8=0.00114]\n"
     ]
    },
    {
     "name": "stdout",
     "output_type": "stream",
     "text": [
      "Evaluation Score 1 : [0.0018247029123206933]\n",
      "Evaluation Score 2 : [0.0025843740440905094]\n",
      "Evaluation Score 3 : [0.0016819856440027554]\n",
      "Evaluation Score 4 : [0.002482780759843687]\n",
      "Evaluation Score 5 : [0.0029580052942037582]\n",
      "Evaluation Score 6 : [0.0023705867740015187]\n",
      "Evaluation Score 7 : [0.002861529588699341]\n",
      "Evaluation Score 8 : [0.0016871685317407052]\n",
      "\n",
      "\n",
      "Epoch 6\n"
     ]
    },
    {
     "name": "stderr",
     "output_type": "stream",
     "text": [
      "training: 100%|██████████| 553/553 [03:43<00:00,  2.47it/s, train_loss_1=0.00185, train_loss_2=0.00329, train_loss_3=0.00237, train_loss_4=0.00251, train_loss_5=0.00227, train_loss_6=0.00163, train_loss_7=0.00493, train_loss_8=0.00207] \n",
      "validation: 100%|██████████| 3/3 [00:00<00:00,  8.00it/s, eval_loss_1=0.00161, eval_loss_2=0.00215, eval_loss_3=0.00266, eval_loss_4=0.00173, eval_loss_5=0.00229, eval_loss_6=0.00102, eval_loss_7=0.00268, eval_loss_8=0.00114] \n"
     ]
    },
    {
     "name": "stdout",
     "output_type": "stream",
     "text": [
      "Evaluation Score 1 : [0.0016824150613198678]\n",
      "Evaluation Score 2 : [0.0029624443656454482]\n",
      "Evaluation Score 3 : [0.0026770757976919413]\n",
      "Evaluation Score 4 : [0.0022354896645992994]\n",
      "Evaluation Score 5 : [0.0026282549370080233]\n",
      "Evaluation Score 6 : [0.0013910313330901165]\n",
      "Evaluation Score 7 : [0.003485667829712232]\n",
      "Evaluation Score 8 : [0.0015274221077561378]\n",
      "\n",
      "\n",
      "Epoch 7\n"
     ]
    },
    {
     "name": "stderr",
     "output_type": "stream",
     "text": [
      "training: 100%|██████████| 553/553 [03:43<00:00,  2.47it/s, train_loss_1=0.00137, train_loss_2=0.0019, train_loss_3=0.00103, train_loss_4=0.00143, train_loss_5=0.00256, train_loss_6=0.000894, train_loss_7=0.00136, train_loss_8=0.00104]  \n",
      "validation: 100%|██████████| 3/3 [00:00<00:00,  8.00it/s, eval_loss_1=0.00172, eval_loss_2=0.0027, eval_loss_3=0.00196, eval_loss_4=0.00139, eval_loss_5=0.00191, eval_loss_6=0.00128, eval_loss_7=0.000965, eval_loss_8=0.001]  \n"
     ]
    },
    {
     "name": "stdout",
     "output_type": "stream",
     "text": [
      "Evaluation Score 1 : [0.0015984337854509552]\n",
      "Evaluation Score 2 : [0.002832678767542044]\n",
      "Evaluation Score 3 : [0.0017323741146052878]\n",
      "Evaluation Score 4 : [0.001555459185813864]\n",
      "Evaluation Score 5 : [0.0024696829495951533]\n",
      "Evaluation Score 6 : [0.001569833451261123]\n",
      "Evaluation Score 7 : [0.001401281061892708]\n",
      "Evaluation Score 8 : [0.0012199662548179429]\n",
      "\n",
      "\n",
      "Epoch 8\n"
     ]
    },
    {
     "name": "stderr",
     "output_type": "stream",
     "text": [
      "training: 100%|██████████| 553/553 [03:43<00:00,  2.47it/s, train_loss_1=0.00208, train_loss_2=0.00135, train_loss_3=0.000521, train_loss_4=0.00114, train_loss_5=0.00186, train_loss_6=0.00153, train_loss_7=0.000951, train_loss_8=0.000907] \n",
      "validation: 100%|██████████| 3/3 [00:00<00:00,  8.35it/s, eval_loss_1=0.00339, eval_loss_2=0.00163, eval_loss_3=0.00197, eval_loss_4=0.00165, eval_loss_5=0.00233, eval_loss_6=0.000865, eval_loss_7=0.000918, eval_loss_8=0.00115]\n"
     ]
    },
    {
     "name": "stdout",
     "output_type": "stream",
     "text": [
      "Evaluation Score 1 : [0.0022050287031258145]\n",
      "Evaluation Score 2 : [0.0018211397497604291]\n",
      "Evaluation Score 3 : [0.0014992953122903903]\n",
      "Evaluation Score 4 : [0.0017806529455507796]\n",
      "Evaluation Score 5 : [0.0019829936791211367]\n",
      "Evaluation Score 6 : [0.0013507009134627879]\n",
      "Evaluation Score 7 : [0.0011465205849769216]\n",
      "Evaluation Score 8 : [0.0012457759973282616]\n",
      "\n",
      "\n",
      "Epoch 9\n"
     ]
    },
    {
     "name": "stderr",
     "output_type": "stream",
     "text": [
      "training: 100%|██████████| 553/553 [03:43<00:00,  2.47it/s, train_loss_1=0.00163, train_loss_2=0.00134, train_loss_3=0.000588, train_loss_4=0.00097, train_loss_5=0.00129, train_loss_6=0.000759, train_loss_7=0.000764, train_loss_8=0.00122]   \n",
      "validation: 100%|██████████| 3/3 [00:00<00:00,  8.00it/s, eval_loss_1=0.00192, eval_loss_2=0.00136, eval_loss_3=0.00178, eval_loss_4=0.0012, eval_loss_5=0.00265, eval_loss_6=0.00079, eval_loss_7=0.001, eval_loss_8=0.000811]  \n"
     ]
    },
    {
     "name": "stdout",
     "output_type": "stream",
     "text": [
      "Evaluation Score 1 : [0.0018754769892742236]\n",
      "Evaluation Score 2 : [0.0014789586809153359]\n",
      "Evaluation Score 3 : [0.001250042657678326]\n",
      "Evaluation Score 4 : [0.001228630814390878]\n",
      "Evaluation Score 5 : [0.0024453322015081844]\n",
      "Evaluation Score 6 : [0.0009668482040675978]\n",
      "Evaluation Score 7 : [0.0011413329436133306]\n",
      "Evaluation Score 8 : [0.0010267695761285722]\n",
      "\n",
      "\n",
      "Epoch 10\n"
     ]
    },
    {
     "name": "stderr",
     "output_type": "stream",
     "text": [
      "training: 100%|██████████| 553/553 [03:43<00:00,  2.47it/s, train_loss_1=0.00107, train_loss_2=0.00178, train_loss_3=0.00102, train_loss_4=0.00127, train_loss_5=0.000911, train_loss_6=0.000842, train_loss_7=0.00102, train_loss_8=0.00186]      \n",
      "validation: 100%|██████████| 3/3 [00:00<00:00,  8.35it/s, eval_loss_1=0.000771, eval_loss_2=0.00149, eval_loss_3=0.00285, eval_loss_4=0.00119, eval_loss_5=0.00136, eval_loss_6=0.00146, eval_loss_7=0.000965, eval_loss_8=0.000781]\n"
     ]
    },
    {
     "name": "stdout",
     "output_type": "stream",
     "text": [
      "Evaluation Score 1 : [0.0006887151588064929]\n",
      "Evaluation Score 2 : [0.0015369121683761477]\n",
      "Evaluation Score 3 : [0.0026057062981029353]\n",
      "Evaluation Score 4 : [0.0011530419966826837]\n",
      "Evaluation Score 5 : [0.0015398972512533267]\n",
      "Evaluation Score 6 : [0.0018170583061873913]\n",
      "Evaluation Score 7 : [0.0011643090401776135]\n",
      "Evaluation Score 8 : [0.0011546578025445342]\n",
      "\n",
      "\n",
      "Epoch 11\n"
     ]
    },
    {
     "name": "stderr",
     "output_type": "stream",
     "text": [
      "training: 100%|██████████| 553/553 [03:43<00:00,  2.47it/s, train_loss_1=0.00146, train_loss_2=0.000733, train_loss_3=0.000888, train_loss_4=0.000908, train_loss_5=0.000909, train_loss_6=0.000897, train_loss_7=0.000677, train_loss_8=0.000757] \n",
      "validation: 100%|██████████| 3/3 [00:00<00:00,  8.13it/s, eval_loss_1=0.00167, eval_loss_2=0.000715, eval_loss_3=0.00219, eval_loss_4=0.000792, eval_loss_5=0.000635, eval_loss_6=0.00113, eval_loss_7=0.000652, eval_loss_8=0.000534]\n"
     ]
    },
    {
     "name": "stdout",
     "output_type": "stream",
     "text": [
      "Evaluation Score 1 : [0.001649917180960377]\n",
      "Evaluation Score 2 : [0.0009052226281103989]\n",
      "Evaluation Score 3 : [0.0018285306092972557]\n",
      "Evaluation Score 4 : [0.0009367306289883951]\n",
      "Evaluation Score 5 : [0.000835003835769991]\n",
      "Evaluation Score 6 : [0.0013311650060738127]\n",
      "Evaluation Score 7 : [0.0007727216773976883]\n",
      "Evaluation Score 8 : [0.0006683823109293977]\n",
      "\n",
      "\n",
      "Epoch 12\n"
     ]
    },
    {
     "name": "stderr",
     "output_type": "stream",
     "text": [
      "training: 100%|██████████| 553/553 [03:43<00:00,  2.48it/s, train_loss_1=0.00061, train_loss_2=0.000964, train_loss_3=0.000469, train_loss_4=0.00111, train_loss_5=0.00101, train_loss_6=0.00107, train_loss_7=0.000724, train_loss_8=0.000595]    \n",
      "validation: 100%|██████████| 3/3 [00:00<00:00,  8.73it/s, eval_loss_1=0.00214, eval_loss_2=0.0011, eval_loss_3=0.00118, eval_loss_4=0.00349, eval_loss_5=0.00118, eval_loss_6=0.00172, eval_loss_7=0.00067, eval_loss_8=0.000423]   \n"
     ]
    },
    {
     "name": "stdout",
     "output_type": "stream",
     "text": [
      "Evaluation Score 1 : [0.0015972144513701398]\n",
      "Evaluation Score 2 : [0.0010959530870119731]\n",
      "Evaluation Score 3 : [0.0007794971849458913]\n",
      "Evaluation Score 4 : [0.0028140803333371878]\n",
      "Evaluation Score 5 : [0.0014578239060938358]\n",
      "Evaluation Score 6 : [0.0017494453738133113]\n",
      "Evaluation Score 7 : [0.0006553857044006387]\n",
      "Evaluation Score 8 : [0.0004569499966843675]\n",
      "\n",
      "\n",
      "Epoch 13\n"
     ]
    },
    {
     "name": "stderr",
     "output_type": "stream",
     "text": [
      "training: 100%|██████████| 553/553 [03:49<00:00,  2.41it/s, train_loss_1=0.000527, train_loss_2=0.0011, train_loss_3=0.000697, train_loss_4=0.00122, train_loss_5=0.00133, train_loss_6=0.000549, train_loss_7=0.000361, train_loss_8=0.000515]    \n",
      "validation: 100%|██████████| 3/3 [00:00<00:00,  8.35it/s, eval_loss_1=0.000846, eval_loss_2=0.000813, eval_loss_3=0.00135, eval_loss_4=0.00117, eval_loss_5=0.000997, eval_loss_6=0.00111, eval_loss_7=0.000482, eval_loss_8=0.00108]   \n"
     ]
    },
    {
     "name": "stdout",
     "output_type": "stream",
     "text": [
      "Evaluation Score 1 : [0.0006448176379005114]\n",
      "Evaluation Score 2 : [0.0007792318356223404]\n",
      "Evaluation Score 3 : [0.0011271396069787443]\n",
      "Evaluation Score 4 : [0.0010139827500097454]\n",
      "Evaluation Score 5 : [0.0009812871770312388]\n",
      "Evaluation Score 6 : [0.0008692610232780377]\n",
      "Evaluation Score 7 : [0.0005320498894434422]\n",
      "Evaluation Score 8 : [0.000896347356804957]\n",
      "\n",
      "\n",
      "Epoch 14\n"
     ]
    },
    {
     "name": "stderr",
     "output_type": "stream",
     "text": [
      "training: 100%|██████████| 553/553 [03:43<00:00,  2.48it/s, train_loss_1=0.000529, train_loss_2=0.000881, train_loss_3=0.000344, train_loss_4=0.000657, train_loss_5=0.000824, train_loss_6=0.00034, train_loss_7=0.000795, train_loss_8=0.000703] \n",
      "validation: 100%|██████████| 3/3 [00:00<00:00,  8.00it/s, eval_loss_1=0.000797, eval_loss_2=0.000627, eval_loss_3=0.00077, eval_loss_4=0.000751, eval_loss_5=0.000478, eval_loss_6=0.000448, eval_loss_7=0.000597, eval_loss_8=0.000684]\n"
     ]
    },
    {
     "name": "stdout",
     "output_type": "stream",
     "text": [
      "Evaluation Score 1 : [0.0007206824763367573]\n",
      "Evaluation Score 2 : [0.0007210751064121723]\n",
      "Evaluation Score 3 : [0.0005803152259128789]\n",
      "Evaluation Score 4 : [0.0006908878761654099]\n",
      "Evaluation Score 5 : [0.000538766054281344]\n",
      "Evaluation Score 6 : [0.0005475822545122355]\n",
      "Evaluation Score 7 : [0.0006992713509437939]\n",
      "Evaluation Score 8 : [0.0007193753845058382]\n",
      "\n",
      "\n",
      "Epoch 15\n"
     ]
    },
    {
     "name": "stderr",
     "output_type": "stream",
     "text": [
      "training: 100%|██████████| 553/553 [03:44<00:00,  2.47it/s, train_loss_1=0.000353, train_loss_2=0.000623, train_loss_3=0.000499, train_loss_4=0.000702, train_loss_5=0.000742, train_loss_6=0.000855, train_loss_7=0.000395, train_loss_8=0.000598]\n",
      "validation: 100%|██████████| 3/3 [00:00<00:00,  8.00it/s, eval_loss_1=0.0006, eval_loss_2=0.000492, eval_loss_3=0.00145, eval_loss_4=0.000826, eval_loss_5=0.00124, eval_loss_6=0.000884, eval_loss_7=0.000369, eval_loss_8=0.000346]   \n"
     ]
    },
    {
     "name": "stdout",
     "output_type": "stream",
     "text": [
      "Evaluation Score 1 : [0.00041482919671883184]\n",
      "Evaluation Score 2 : [0.0004983867596214017]\n",
      "Evaluation Score 3 : [0.0010022050895107288]\n",
      "Evaluation Score 4 : [0.0008160626554551224]\n",
      "Evaluation Score 5 : [0.0012429086491465569]\n",
      "Evaluation Score 6 : [0.0007720332165869573]\n",
      "Evaluation Score 7 : [0.00041455896765304107]\n",
      "Evaluation Score 8 : [0.0004927680323210856]\n",
      "\n",
      "\n",
      "Epoch 16\n"
     ]
    },
    {
     "name": "stderr",
     "output_type": "stream",
     "text": [
      "training: 100%|██████████| 553/553 [03:44<00:00,  2.47it/s, train_loss_1=0.000494, train_loss_2=0.000432, train_loss_3=0.000528, train_loss_4=0.00118, train_loss_5=0.000571, train_loss_6=0.000485, train_loss_7=0.000357, train_loss_8=0.000386] \n",
      "validation: 100%|██████████| 3/3 [00:00<00:00,  8.35it/s, eval_loss_1=0.000495, eval_loss_2=0.000528, eval_loss_3=0.00113, eval_loss_4=0.00221, eval_loss_5=0.000623, eval_loss_6=0.000959, eval_loss_7=0.000456, eval_loss_8=0.00049]  \n"
     ]
    },
    {
     "name": "stdout",
     "output_type": "stream",
     "text": [
      "Evaluation Score 1 : [0.0003957779166133453]\n",
      "Evaluation Score 2 : [0.0005292587835962573]\n",
      "Evaluation Score 3 : [0.0008572816150262952]\n",
      "Evaluation Score 4 : [0.0019597155041992664]\n",
      "Evaluation Score 5 : [0.0006349818043721219]\n",
      "Evaluation Score 6 : [0.0007667489699088037]\n",
      "Evaluation Score 7 : [0.0004889928483559439]\n",
      "Evaluation Score 8 : [0.00047116530671094853]\n",
      "\n",
      "\n",
      "Epoch 17\n"
     ]
    },
    {
     "name": "stderr",
     "output_type": "stream",
     "text": [
      "training: 100%|██████████| 553/553 [03:43<00:00,  2.47it/s, train_loss_1=0.000439, train_loss_2=0.000402, train_loss_3=0.000251, train_loss_4=0.000666, train_loss_5=0.000384, train_loss_6=0.000307, train_loss_7=0.000353, train_loss_8=0.000686]\n",
      "validation: 100%|██████████| 3/3 [00:00<00:00,  8.56it/s, eval_loss_1=0.000471, eval_loss_2=0.000525, eval_loss_3=0.000686, eval_loss_4=0.00082, eval_loss_5=0.000723, eval_loss_6=0.00051, eval_loss_7=0.000465, eval_loss_8=0.000849]\n"
     ]
    },
    {
     "name": "stdout",
     "output_type": "stream",
     "text": [
      "Evaluation Score 1 : [0.0005323749889309207]\n",
      "Evaluation Score 2 : [0.0005034024555546542]\n",
      "Evaluation Score 3 : [0.0005666190021050473]\n",
      "Evaluation Score 4 : [0.0009482285240665078]\n",
      "Evaluation Score 5 : [0.0006177973700687289]\n",
      "Evaluation Score 6 : [0.0004707563978930314]\n",
      "Evaluation Score 7 : [0.0004887842709043374]\n",
      "Evaluation Score 8 : [0.0007403566463229557]\n",
      "\n",
      "\n",
      "Epoch 18\n"
     ]
    },
    {
     "name": "stderr",
     "output_type": "stream",
     "text": [
      "training: 100%|██████████| 553/553 [03:43<00:00,  2.47it/s, train_loss_1=0.000556, train_loss_2=0.000454, train_loss_3=0.000293, train_loss_4=0.000336, train_loss_5=0.000612, train_loss_6=0.000326, train_loss_7=0.000505, train_loss_8=0.000946]\n",
      "validation: 100%|██████████| 3/3 [00:00<00:00,  8.35it/s, eval_loss_1=0.000499, eval_loss_2=0.000389, eval_loss_3=0.0013, eval_loss_4=0.000408, eval_loss_5=0.000494, eval_loss_6=0.000593, eval_loss_7=0.000481, eval_loss_8=0.00127]  \n"
     ]
    },
    {
     "name": "stdout",
     "output_type": "stream",
     "text": [
      "Evaluation Score 1 : [0.0004243217020606001]\n",
      "Evaluation Score 2 : [0.00042521154197553795]\n",
      "Evaluation Score 3 : [0.000878513363810877]\n",
      "Evaluation Score 4 : [0.000371324645432954]\n",
      "Evaluation Score 5 : [0.000531005411176011]\n",
      "Evaluation Score 6 : [0.0005671226341898242]\n",
      "Evaluation Score 7 : [0.0005286994467799863]\n",
      "Evaluation Score 8 : [0.0014621147808308403]\n",
      "\n",
      "\n",
      "Individual model 8 stopped training early at epoch 17\n",
      "Epoch 19\n"
     ]
    },
    {
     "name": "stderr",
     "output_type": "stream",
     "text": [
      "training: 100%|██████████| 553/553 [03:48<00:00,  2.42it/s, train_loss_1=0.000897, train_loss_2=0.000304, train_loss_3=0.00064, train_loss_4=0.00042, train_loss_5=0.00065, train_loss_6=0.00113, train_loss_7=0.00105, train_loss_8=0.000389]     \n",
      "validation: 100%|██████████| 3/3 [00:00<00:00,  8.00it/s, eval_loss_1=0.000548, eval_loss_2=0.000352, eval_loss_3=0.000949, eval_loss_4=0.000499, eval_loss_5=0.000492, eval_loss_6=0.00109, eval_loss_7=0.000827, eval_loss_8=0.00033] \n"
     ]
    },
    {
     "name": "stdout",
     "output_type": "stream",
     "text": [
      "Evaluation Score 1 : [0.0005809279003491005]\n",
      "Evaluation Score 2 : [0.00033204345769869786]\n",
      "Evaluation Score 3 : [0.000690997316269204]\n",
      "Evaluation Score 4 : [0.0004906627776411673]\n",
      "Evaluation Score 5 : [0.0005253192891056339]\n",
      "Evaluation Score 6 : [0.0010181606048718095]\n",
      "Evaluation Score 7 : [0.0007995391303362945]\n",
      "Evaluation Score 8 : [0.0003636465116869658]\n",
      "\n",
      "\n",
      "Epoch 20\n"
     ]
    },
    {
     "name": "stderr",
     "output_type": "stream",
     "text": [
      "training: 100%|██████████| 553/553 [03:54<00:00,  2.36it/s, train_loss_1=0.000355, train_loss_2=0.000412, train_loss_3=0.00027, train_loss_4=0.000788, train_loss_5=0.000409, train_loss_6=0.000496, train_loss_7=0.000591, train_loss_8=0.000544] \n",
      "validation: 100%|██████████| 3/3 [00:00<00:00,  7.68it/s, eval_loss_1=0.000567, eval_loss_2=0.000456, eval_loss_3=0.000443, eval_loss_4=0.000657, eval_loss_5=0.000413, eval_loss_6=0.000268, eval_loss_7=0.000651, eval_loss_8=0.00041] \n"
     ]
    },
    {
     "name": "stdout",
     "output_type": "stream",
     "text": [
      "Evaluation Score 1 : [0.00044195456818367046]\n",
      "Evaluation Score 2 : [0.0004972810759985199]\n",
      "Evaluation Score 3 : [0.0003170055909625565]\n",
      "Evaluation Score 4 : [0.0005412005023875585]\n",
      "Evaluation Score 5 : [0.0006135493652739873]\n",
      "Evaluation Score 6 : [0.00027018249966204166]\n",
      "Evaluation Score 7 : [0.0006429128892098864]\n",
      "Evaluation Score 8 : [0.00045145628973841667]\n",
      "\n",
      "\n",
      "Epoch 21\n"
     ]
    },
    {
     "name": "stderr",
     "output_type": "stream",
     "text": [
      "training: 100%|██████████| 553/553 [03:53<00:00,  2.37it/s, train_loss_1=0.000387, train_loss_2=0.000887, train_loss_3=0.000757, train_loss_4=0.000494, train_loss_5=0.000395, train_loss_6=0.000253, train_loss_7=0.000416, train_loss_8=0.000457]\n",
      "validation: 100%|██████████| 3/3 [00:00<00:00,  8.35it/s, eval_loss_1=0.000616, eval_loss_2=0.000948, eval_loss_3=0.000754, eval_loss_4=0.000417, eval_loss_5=0.000306, eval_loss_6=0.000271, eval_loss_7=0.000362, eval_loss_8=0.000471]\n"
     ]
    },
    {
     "name": "stdout",
     "output_type": "stream",
     "text": [
      "Evaluation Score 1 : [0.0003717649233294651]\n",
      "Evaluation Score 2 : [0.0010635852619695167]\n",
      "Evaluation Score 3 : [0.0006011483395316949]\n",
      "Evaluation Score 4 : [0.0003563974945185085]\n",
      "Evaluation Score 5 : [0.0003834962553810328]\n",
      "Evaluation Score 6 : [0.0002691362945673366]\n",
      "Evaluation Score 7 : [0.00037053511672032374]\n",
      "Evaluation Score 8 : [0.0004954256194954118]\n",
      "\n",
      "\n",
      "Epoch 22\n"
     ]
    },
    {
     "name": "stderr",
     "output_type": "stream",
     "text": [
      "training: 100%|██████████| 553/553 [03:53<00:00,  2.37it/s, train_loss_1=0.000352, train_loss_2=0.000496, train_loss_3=0.000179, train_loss_4=0.000564, train_loss_5=0.000294, train_loss_6=0.000371, train_loss_7=0.000641, train_loss_8=0.000436]\n",
      "validation: 100%|██████████| 3/3 [00:00<00:00,  8.00it/s, eval_loss_1=0.000453, eval_loss_2=0.000414, eval_loss_3=0.000842, eval_loss_4=0.0011, eval_loss_5=0.00043, eval_loss_6=0.000306, eval_loss_7=0.000734, eval_loss_8=0.000484]  \n"
     ]
    },
    {
     "name": "stdout",
     "output_type": "stream",
     "text": [
      "Evaluation Score 1 : [0.0003769954200834036]\n",
      "Evaluation Score 2 : [0.00039635134938483435]\n",
      "Evaluation Score 3 : [0.0006403601146303117]\n",
      "Evaluation Score 4 : [0.0009987325756810606]\n",
      "Evaluation Score 5 : [0.0004989973191792766]\n",
      "Evaluation Score 6 : [0.00028467858404231566]\n",
      "Evaluation Score 7 : [0.0005967533409905931]\n",
      "Evaluation Score 8 : [0.0004466363073637088]\n",
      "\n",
      "\n",
      "Epoch 23\n"
     ]
    },
    {
     "name": "stderr",
     "output_type": "stream",
     "text": [
      "training: 100%|██████████| 553/553 [03:53<00:00,  2.37it/s, train_loss_1=0.000258, train_loss_2=0.00103, train_loss_3=0.000534, train_loss_4=0.000446, train_loss_5=0.000347, train_loss_6=0.000206, train_loss_7=0.000274, train_loss_8=0.000294] \n",
      "validation: 100%|██████████| 3/3 [00:00<00:00,  8.00it/s, eval_loss_1=0.000308, eval_loss_2=0.00109, eval_loss_3=0.000518, eval_loss_4=0.000461, eval_loss_5=0.000437, eval_loss_6=0.00035, eval_loss_7=0.000402, eval_loss_8=0.00045]  \n"
     ]
    },
    {
     "name": "stdout",
     "output_type": "stream",
     "text": [
      "Evaluation Score 1 : [0.00032720345188863575]\n",
      "Evaluation Score 2 : [0.0012431006180122495]\n",
      "Evaluation Score 3 : [0.0006517410317125419]\n",
      "Evaluation Score 4 : [0.0004690720234066248]\n",
      "Evaluation Score 5 : [0.0005237888738823434]\n",
      "Evaluation Score 6 : [0.0002892211584063868]\n",
      "Evaluation Score 7 : [0.0004918254271615297]\n",
      "Evaluation Score 8 : [0.0005159537637761483]\n",
      "\n",
      "\n",
      "Epoch 24\n"
     ]
    },
    {
     "name": "stderr",
     "output_type": "stream",
     "text": [
      "training: 100%|██████████| 553/553 [03:53<00:00,  2.37it/s, train_loss_1=0.000297, train_loss_2=0.00074, train_loss_3=0.000301, train_loss_4=0.000392, train_loss_5=0.000358, train_loss_6=0.000335, train_loss_7=0.000291, train_loss_8=0.000262] \n",
      "validation: 100%|██████████| 3/3 [00:00<00:00,  8.00it/s, eval_loss_1=0.000599, eval_loss_2=0.000994, eval_loss_3=0.000808, eval_loss_4=0.000467, eval_loss_5=0.000378, eval_loss_6=0.000332, eval_loss_7=0.000343, eval_loss_8=0.00015]\n"
     ]
    },
    {
     "name": "stdout",
     "output_type": "stream",
     "text": [
      "Evaluation Score 1 : [0.0004787222618081917]\n",
      "Evaluation Score 2 : [0.000936854281462729]\n",
      "Evaluation Score 3 : [0.0005635380803141743]\n",
      "Evaluation Score 4 : [0.00046896216614792746]\n",
      "Evaluation Score 5 : [0.0004399170575197786]\n",
      "Evaluation Score 6 : [0.00029469877093409497]\n",
      "Evaluation Score 7 : [0.00034371690708212554]\n",
      "Evaluation Score 8 : [0.00018912359761695066]\n",
      "\n",
      "\n",
      "Epoch 25\n"
     ]
    },
    {
     "name": "stderr",
     "output_type": "stream",
     "text": [
      "training: 100%|██████████| 553/553 [03:53<00:00,  2.37it/s, train_loss_1=0.000288, train_loss_2=0.00201, train_loss_3=0.000263, train_loss_4=0.000202, train_loss_5=0.000418, train_loss_6=0.000193, train_loss_7=0.000216, train_loss_8=0.000497] \n",
      "validation: 100%|██████████| 3/3 [00:00<00:00,  7.68it/s, eval_loss_1=0.000396, eval_loss_2=0.00347, eval_loss_3=0.000665, eval_loss_4=0.0003, eval_loss_5=0.000708, eval_loss_6=0.000196, eval_loss_7=0.000208, eval_loss_8=0.000702] \n"
     ]
    },
    {
     "name": "stdout",
     "output_type": "stream",
     "text": [
      "Evaluation Score 1 : [0.00028704873208577436]\n",
      "Evaluation Score 2 : [0.0030393732401231923]\n",
      "Evaluation Score 3 : [0.00047917492338456213]\n",
      "Evaluation Score 4 : [0.00032092957796218496]\n",
      "Evaluation Score 5 : [0.0004794661751172195]\n",
      "Evaluation Score 6 : [0.0002101547822045783]\n",
      "Evaluation Score 7 : [0.0002462978009134531]\n",
      "Evaluation Score 8 : [0.0006435088192423185]\n",
      "\n",
      "\n",
      "Individual model 2 stopped training early at epoch 24\n",
      "Epoch 26\n"
     ]
    },
    {
     "name": "stderr",
     "output_type": "stream",
     "text": [
      "training: 100%|██████████| 553/553 [03:53<00:00,  2.37it/s, train_loss_1=0.000613, train_loss_2=0.000211, train_loss_3=0.000255, train_loss_4=0.000317, train_loss_5=0.000446, train_loss_6=0.000188, train_loss_7=0.000234, train_loss_8=0.000311]\n",
      "validation: 100%|██████████| 3/3 [00:00<00:00,  8.34it/s, eval_loss_1=0.000381, eval_loss_2=0.000366, eval_loss_3=0.000473, eval_loss_4=0.00035, eval_loss_5=0.000278, eval_loss_6=0.000303, eval_loss_7=0.000239, eval_loss_8=0.000324]\n"
     ]
    },
    {
     "name": "stdout",
     "output_type": "stream",
     "text": [
      "Evaluation Score 1 : [0.0003360937601731469]\n",
      "Evaluation Score 2 : [0.0004403916633843134]\n",
      "Evaluation Score 3 : [0.0003372507538491239]\n",
      "Evaluation Score 4 : [0.0003383313596714288]\n",
      "Evaluation Score 5 : [0.00032342152553610504]\n",
      "Evaluation Score 6 : [0.0002625789202284068]\n",
      "Evaluation Score 7 : [0.00022881778810794154]\n",
      "Evaluation Score 8 : [0.00041505258802014094]\n",
      "\n",
      "\n",
      "Individual model 3 stopped training early at epoch 25\n",
      "Epoch 27\n"
     ]
    },
    {
     "name": "stderr",
     "output_type": "stream",
     "text": [
      "training: 100%|██████████| 553/553 [03:53<00:00,  2.37it/s, train_loss_1=0.000339, train_loss_2=0.00084, train_loss_3=0.000152, train_loss_4=0.00153, train_loss_5=0.000384, train_loss_6=0.000344, train_loss_7=0.00032, train_loss_8=0.000425]   \n",
      "validation: 100%|██████████| 3/3 [00:00<00:00,  8.00it/s, eval_loss_1=0.00062, eval_loss_2=0.00174, eval_loss_3=0.00035, eval_loss_4=0.00216, eval_loss_5=0.000475, eval_loss_6=0.000441, eval_loss_7=0.000299, eval_loss_8=0.000442]  \n"
     ]
    },
    {
     "name": "stdout",
     "output_type": "stream",
     "text": [
      "Evaluation Score 1 : [0.0004037031709837417]\n",
      "Evaluation Score 2 : [0.0016638410355274875]\n",
      "Evaluation Score 3 : [0.00028108185991489637]\n",
      "Evaluation Score 4 : [0.002129695533464352]\n",
      "Evaluation Score 5 : [0.00045644439524039626]\n",
      "Evaluation Score 6 : [0.000441649501832823]\n",
      "Evaluation Score 7 : [0.0003268348421746244]\n",
      "Evaluation Score 8 : [0.0003912171329526852]\n",
      "\n",
      "\n",
      "Epoch 28\n"
     ]
    },
    {
     "name": "stderr",
     "output_type": "stream",
     "text": [
      "training: 100%|██████████| 553/553 [03:54<00:00,  2.35it/s, train_loss_1=0.000198, train_loss_2=0.000666, train_loss_3=0.000167, train_loss_4=0.000224, train_loss_5=0.000574, train_loss_6=0.000404, train_loss_7=0.000361, train_loss_8=0.000177]\n",
      "validation: 100%|██████████| 3/3 [00:00<00:00,  8.35it/s, eval_loss_1=0.000231, eval_loss_2=0.000666, eval_loss_3=0.000464, eval_loss_4=0.00025, eval_loss_5=0.000311, eval_loss_6=0.000225, eval_loss_7=0.00026, eval_loss_8=0.000141] \n"
     ]
    },
    {
     "name": "stdout",
     "output_type": "stream",
     "text": [
      "Evaluation Score 1 : [0.00017704062823516628]\n",
      "Evaluation Score 2 : [0.0007458039714644352]\n",
      "Evaluation Score 3 : [0.00026243629690725356]\n",
      "Evaluation Score 4 : [0.0002766568019675712]\n",
      "Evaluation Score 5 : [0.0003436061767085145]\n",
      "Evaluation Score 6 : [0.0003046945542640363]\n",
      "Evaluation Score 7 : [0.00030029241073255736]\n",
      "Evaluation Score 8 : [0.00016649508809981248]\n",
      "\n",
      "\n",
      "Epoch 29\n"
     ]
    },
    {
     "name": "stderr",
     "output_type": "stream",
     "text": [
      "training: 100%|██████████| 553/553 [03:44<00:00,  2.46it/s, train_loss_1=0.000555, train_loss_2=0.000185, train_loss_3=0.000562, train_loss_4=0.00034, train_loss_5=0.000236, train_loss_6=0.000385, train_loss_7=0.000601, train_loss_8=0.0004]   \n",
      "validation: 100%|██████████| 3/3 [00:00<00:00,  8.34it/s, eval_loss_1=0.000357, eval_loss_2=0.000258, eval_loss_3=0.00125, eval_loss_4=0.00034, eval_loss_5=0.000332, eval_loss_6=0.00118, eval_loss_7=0.000454, eval_loss_8=0.000469]   \n"
     ]
    },
    {
     "name": "stdout",
     "output_type": "stream",
     "text": [
      "Evaluation Score 1 : [0.0003046252434918036]\n",
      "Evaluation Score 2 : [0.0002816783477707456]\n",
      "Evaluation Score 3 : [0.0009400473209097981]\n",
      "Evaluation Score 4 : [0.0003412324100888024]\n",
      "Evaluation Score 5 : [0.00033388562345256406]\n",
      "Evaluation Score 6 : [0.0008974177374814948]\n",
      "Evaluation Score 7 : [0.0005089800494412581]\n",
      "Evaluation Score 8 : [0.00047981436364352703]\n",
      "\n",
      "\n",
      "Epoch 30\n"
     ]
    },
    {
     "name": "stderr",
     "output_type": "stream",
     "text": [
      "training: 100%|██████████| 553/553 [03:44<00:00,  2.47it/s, train_loss_1=0.000207, train_loss_2=0.00017, train_loss_3=0.000138, train_loss_4=0.000214, train_loss_5=0.00029, train_loss_6=0.000332, train_loss_7=0.000789, train_loss_8=0.000404]  \n",
      "validation: 100%|██████████| 3/3 [00:00<00:00,  8.35it/s, eval_loss_1=0.000195, eval_loss_2=0.00023, eval_loss_3=0.000276, eval_loss_4=0.000252, eval_loss_5=0.000235, eval_loss_6=0.000596, eval_loss_7=0.00111, eval_loss_8=0.000341]\n"
     ]
    },
    {
     "name": "stdout",
     "output_type": "stream",
     "text": [
      "Evaluation Score 1 : [0.00021851185495809963]\n",
      "Evaluation Score 2 : [0.00023305241969258836]\n",
      "Evaluation Score 3 : [0.0002171449305023998]\n",
      "Evaluation Score 4 : [0.00023502327288345745]\n",
      "Evaluation Score 5 : [0.00027388408489059657]\n",
      "Evaluation Score 6 : [0.0006701215558374921]\n",
      "Evaluation Score 7 : [0.0012144721889247496]\n",
      "Evaluation Score 8 : [0.0003683070244733244]\n",
      "\n",
      "\n",
      "Epoch 31\n"
     ]
    },
    {
     "name": "stderr",
     "output_type": "stream",
     "text": [
      "training: 100%|██████████| 553/553 [03:40<00:00,  2.50it/s, train_loss_1=0.000491, train_loss_2=0.000405, train_loss_3=0.000637, train_loss_4=0.00035, train_loss_5=0.0004, train_loss_6=0.000336, train_loss_7=0.000201, train_loss_8=0.000249]   \n",
      "validation: 100%|██████████| 3/3 [00:00<00:00,  8.35it/s, eval_loss_1=0.000731, eval_loss_2=0.00056, eval_loss_3=0.00125, eval_loss_4=0.000911, eval_loss_5=0.000239, eval_loss_6=0.000496, eval_loss_7=0.000267, eval_loss_8=0.000255]  \n"
     ]
    },
    {
     "name": "stdout",
     "output_type": "stream",
     "text": [
      "Evaluation Score 1 : [0.0004941583126007268]\n",
      "Evaluation Score 2 : [0.0005929282633587718]\n",
      "Evaluation Score 3 : [0.0009890386136248708]\n",
      "Evaluation Score 4 : [0.000700275976366053]\n",
      "Evaluation Score 5 : [0.00026256403846976656]\n",
      "Evaluation Score 6 : [0.0004504680691752583]\n",
      "Evaluation Score 7 : [0.0002618000435177237]\n",
      "Evaluation Score 8 : [0.0003173095368159314]\n",
      "\n",
      "\n",
      "Individual model 6 stopped training early at epoch 30\n",
      "Epoch 32\n"
     ]
    },
    {
     "name": "stderr",
     "output_type": "stream",
     "text": [
      "training: 100%|██████████| 553/553 [03:39<00:00,  2.52it/s, train_loss_1=0.000246, train_loss_2=0.000331, train_loss_3=0.000223, train_loss_4=0.000496, train_loss_5=0.000528, train_loss_6=0.000191, train_loss_7=0.000695, train_loss_8=0.000258]\n",
      "validation: 100%|██████████| 3/3 [00:00<00:00,  8.69it/s, eval_loss_1=0.000276, eval_loss_2=0.000168, eval_loss_3=0.000587, eval_loss_4=0.000722, eval_loss_5=0.000472, eval_loss_6=0.000196, eval_loss_7=0.000563, eval_loss_8=0.000513]\n"
     ]
    },
    {
     "name": "stdout",
     "output_type": "stream",
     "text": [
      "Evaluation Score 1 : [0.00021139972765619555]\n",
      "Evaluation Score 2 : [0.00015895170023820052]\n",
      "Evaluation Score 3 : [0.00048195044898117584]\n",
      "Evaluation Score 4 : [0.0005662013912418237]\n",
      "Evaluation Score 5 : [0.000447709559618185]\n",
      "Evaluation Score 6 : [0.00017444686576103172]\n",
      "Evaluation Score 7 : [0.0005371642570632199]\n",
      "Evaluation Score 8 : [0.0004942079443329325]\n",
      "\n",
      "\n",
      "Individual model 7 stopped training early at epoch 31\n",
      "Epoch 33\n"
     ]
    },
    {
     "name": "stderr",
     "output_type": "stream",
     "text": [
      "training: 100%|██████████| 553/553 [03:39<00:00,  2.52it/s, train_loss_1=8.8e-5, train_loss_2=0.000786, train_loss_3=0.000156, train_loss_4=0.000243, train_loss_5=0.000228, train_loss_6=0.000168, train_loss_7=0.000226, train_loss_8=0.000283]  \n",
      "validation: 100%|██████████| 3/3 [00:00<00:00,  8.35it/s, eval_loss_1=0.000145, eval_loss_2=0.00121, eval_loss_3=0.000399, eval_loss_4=0.000457, eval_loss_5=0.000148, eval_loss_6=0.000212, eval_loss_7=0.000228, eval_loss_8=0.000387]\n"
     ]
    },
    {
     "name": "stdout",
     "output_type": "stream",
     "text": [
      "Evaluation Score 1 : [0.00012046912888763472]\n",
      "Evaluation Score 2 : [0.0011550736380741]\n",
      "Evaluation Score 3 : [0.00027894745774877566]\n",
      "Evaluation Score 4 : [0.00046644303559636074]\n",
      "Evaluation Score 5 : [0.00015417232740825662]\n",
      "Evaluation Score 6 : [0.0002212864007257546]\n",
      "Evaluation Score 7 : [0.0002545412426115945]\n",
      "Evaluation Score 8 : [0.00043198100562828284]\n",
      "\n",
      "\n",
      "Epoch 34\n"
     ]
    },
    {
     "name": "stderr",
     "output_type": "stream",
     "text": [
      "training: 100%|██████████| 553/553 [03:39<00:00,  2.52it/s, train_loss_1=0.000149, train_loss_2=0.000644, train_loss_3=0.00038, train_loss_4=0.00019, train_loss_5=0.00031, train_loss_6=0.00018, train_loss_7=0.000166, train_loss_8=0.000233]    \n",
      "validation: 100%|██████████| 3/3 [00:00<00:00,  8.35it/s, eval_loss_1=0.00029, eval_loss_2=0.000686, eval_loss_3=0.000391, eval_loss_4=0.000471, eval_loss_5=0.000176, eval_loss_6=0.000186, eval_loss_7=0.000245, eval_loss_8=0.000308] \n"
     ]
    },
    {
     "name": "stdout",
     "output_type": "stream",
     "text": [
      "Evaluation Score 1 : [0.00024488053168170154]\n",
      "Evaluation Score 2 : [0.0006996886804699898]\n",
      "Evaluation Score 3 : [0.00029029251891188323]\n",
      "Evaluation Score 4 : [0.00040100031765177846]\n",
      "Evaluation Score 5 : [0.00019755381799768656]\n",
      "Evaluation Score 6 : [0.00018259532710847756]\n",
      "Evaluation Score 7 : [0.00024273286301953098]\n",
      "Evaluation Score 8 : [0.00028107994391272467]\n",
      "\n",
      "\n",
      "Epoch 35\n"
     ]
    },
    {
     "name": "stderr",
     "output_type": "stream",
     "text": [
      "training: 100%|██████████| 553/553 [03:39<00:00,  2.52it/s, train_loss_1=0.000149, train_loss_2=0.000109, train_loss_3=0.000114, train_loss_4=0.000243, train_loss_5=0.000339, train_loss_6=0.000286, train_loss_7=0.000116, train_loss_8=0.000245]\n",
      "validation: 100%|██████████| 3/3 [00:00<00:00,  8.38it/s, eval_loss_1=0.000163, eval_loss_2=0.000152, eval_loss_3=0.000332, eval_loss_4=0.000316, eval_loss_5=0.000479, eval_loss_6=0.000325, eval_loss_7=0.000281, eval_loss_8=0.00025] \n"
     ]
    },
    {
     "name": "stdout",
     "output_type": "stream",
     "text": [
      "Evaluation Score 1 : [0.00016357490191391358]\n",
      "Evaluation Score 2 : [0.00013916285630936423]\n",
      "Evaluation Score 3 : [0.00021916522139993808]\n",
      "Evaluation Score 4 : [0.000309465288106973]\n",
      "Evaluation Score 5 : [0.00041694214451126754]\n",
      "Evaluation Score 6 : [0.00030076516365321976]\n",
      "Evaluation Score 7 : [0.0002628459478728473]\n",
      "Evaluation Score 8 : [0.00031739908930224675]\n",
      "\n",
      "\n",
      "Epoch 36\n"
     ]
    },
    {
     "name": "stderr",
     "output_type": "stream",
     "text": [
      "training: 100%|██████████| 553/553 [03:39<00:00,  2.52it/s, train_loss_1=0.000176, train_loss_2=0.000719, train_loss_3=0.000676, train_loss_4=0.000162, train_loss_5=0.000205, train_loss_6=0.000158, train_loss_7=0.000272, train_loss_8=0.000214]\n",
      "validation: 100%|██████████| 3/3 [00:00<00:00,  8.35it/s, eval_loss_1=0.000201, eval_loss_2=0.000946, eval_loss_3=0.000754, eval_loss_4=0.000308, eval_loss_5=0.000163, eval_loss_6=0.000271, eval_loss_7=0.000681, eval_loss_8=0.000289]\n"
     ]
    },
    {
     "name": "stdout",
     "output_type": "stream",
     "text": [
      "Evaluation Score 1 : [0.00016884357804277292]\n",
      "Evaluation Score 2 : [0.0009137720529300472]\n",
      "Evaluation Score 3 : [0.0006908749346621335]\n",
      "Evaluation Score 4 : [0.0003037071825625996]\n",
      "Evaluation Score 5 : [0.00022279583693792424]\n",
      "Evaluation Score 6 : [0.0002375007364510869]\n",
      "Evaluation Score 7 : [0.0006139605150868496]\n",
      "Evaluation Score 8 : [0.00031124847979905706]\n",
      "\n",
      "\n",
      "Individual model 4 stopped training early at epoch 35\n",
      "Epoch 37\n"
     ]
    },
    {
     "name": "stderr",
     "output_type": "stream",
     "text": [
      "training: 100%|██████████| 553/553 [03:39<00:00,  2.52it/s, train_loss_1=0.000159, train_loss_2=0.000219, train_loss_3=0.0011, train_loss_4=0.000205, train_loss_5=0.000522, train_loss_6=0.000328, train_loss_7=0.000663, train_loss_8=0.000157]  \n",
      "validation: 100%|██████████| 3/3 [00:00<00:00,  8.35it/s, eval_loss_1=0.00021, eval_loss_2=0.000243, eval_loss_3=0.00153, eval_loss_4=0.000152, eval_loss_5=0.000382, eval_loss_6=0.000458, eval_loss_7=0.00071, eval_loss_8=0.000202] \n"
     ]
    },
    {
     "name": "stdout",
     "output_type": "stream",
     "text": [
      "Evaluation Score 1 : [0.00016476229939144105]\n",
      "Evaluation Score 2 : [0.00024448900755184394]\n",
      "Evaluation Score 3 : [0.0014319097778449457]\n",
      "Evaluation Score 4 : [0.00016512769313218692]\n",
      "Evaluation Score 5 : [0.0003895860475798448]\n",
      "Evaluation Score 6 : [0.0004545085830613971]\n",
      "Evaluation Score 7 : [0.0007522095887300869]\n",
      "Evaluation Score 8 : [0.00020618432123834887]\n",
      "\n",
      "\n",
      "Epoch 38\n"
     ]
    },
    {
     "name": "stderr",
     "output_type": "stream",
     "text": [
      "training: 100%|██████████| 553/553 [03:39<00:00,  2.52it/s, train_loss_1=0.000138, train_loss_2=0.000478, train_loss_3=0.000177, train_loss_4=0.000192, train_loss_5=0.000817, train_loss_6=0.000139, train_loss_7=9.72e-5, train_loss_8=0.00049]  \n",
      "validation: 100%|██████████| 3/3 [00:00<00:00,  8.00it/s, eval_loss_1=0.000103, eval_loss_2=0.000379, eval_loss_3=0.000295, eval_loss_4=0.000195, eval_loss_5=0.000529, eval_loss_6=0.000153, eval_loss_7=0.000113, eval_loss_8=0.000341]\n"
     ]
    },
    {
     "name": "stdout",
     "output_type": "stream",
     "text": [
      "Evaluation Score 1 : [8.948987427478035e-05]\n",
      "Evaluation Score 2 : [0.00035682609692836803]\n",
      "Evaluation Score 3 : [0.00017262813101600236]\n",
      "Evaluation Score 4 : [0.00017040811750727394]\n",
      "Evaluation Score 5 : [0.00048491017272075015]\n",
      "Evaluation Score 6 : [0.00014854092538977662]\n",
      "Evaluation Score 7 : [0.0001236812022398226]\n",
      "Evaluation Score 8 : [0.00038446156152834493]\n",
      "\n",
      "\n",
      "Epoch 39\n"
     ]
    },
    {
     "name": "stderr",
     "output_type": "stream",
     "text": [
      "training: 100%|██████████| 553/553 [03:43<00:00,  2.48it/s, train_loss_1=0.000186, train_loss_2=0.000777, train_loss_3=0.000462, train_loss_4=0.000287, train_loss_5=0.00053, train_loss_6=0.000201, train_loss_7=0.00039, train_loss_8=0.00016]   \n",
      "validation: 100%|██████████| 3/3 [00:00<00:00,  8.34it/s, eval_loss_1=0.000153, eval_loss_2=0.000679, eval_loss_3=0.00198, eval_loss_4=0.000386, eval_loss_5=0.000453, eval_loss_6=0.000173, eval_loss_7=0.000427, eval_loss_8=0.000178] \n"
     ]
    },
    {
     "name": "stdout",
     "output_type": "stream",
     "text": [
      "Evaluation Score 1 : [0.0001389196258969605]\n",
      "Evaluation Score 2 : [0.0006230242627983292]\n",
      "Evaluation Score 3 : [0.0011993108588891725]\n",
      "Evaluation Score 4 : [0.00035838186158798635]\n",
      "Evaluation Score 5 : [0.0005415919489072015]\n",
      "Evaluation Score 6 : [0.00015776672322923938]\n",
      "Evaluation Score 7 : [0.000466975528979674]\n",
      "Evaluation Score 8 : [0.0001732344680931419]\n",
      "\n",
      "\n",
      "Individual model 5 stopped training early at epoch 38\n",
      "Epoch 40\n"
     ]
    },
    {
     "name": "stderr",
     "output_type": "stream",
     "text": [
      "training: 100%|██████████| 553/553 [04:06<00:00,  2.25it/s, train_loss_1=9.23e-5, train_loss_2=0.00077, train_loss_3=0.000212, train_loss_4=0.000145, train_loss_5=0.000123, train_loss_6=0.000135, train_loss_7=0.000403, train_loss_8=0.000188]  \n",
      "validation: 100%|██████████| 3/3 [00:00<00:00,  8.34it/s, eval_loss_1=0.000155, eval_loss_2=0.00051, eval_loss_3=0.000323, eval_loss_4=0.0002, eval_loss_5=0.000207, eval_loss_6=0.000285, eval_loss_7=0.000284, eval_loss_8=0.000135]   \n"
     ]
    },
    {
     "name": "stdout",
     "output_type": "stream",
     "text": [
      "Evaluation Score 1 : [0.0001268690830329433]\n",
      "Evaluation Score 2 : [0.0005091681474975]\n",
      "Evaluation Score 3 : [0.00021022782796838632]\n",
      "Evaluation Score 4 : [0.00019107168191112578]\n",
      "Evaluation Score 5 : [0.00018035176132495204]\n",
      "Evaluation Score 6 : [0.00026354136449905735]\n",
      "Evaluation Score 7 : [0.0003359723583950351]\n",
      "Evaluation Score 8 : [0.0001567939373974999]\n",
      "\n",
      "\n",
      "Epoch 41\n"
     ]
    },
    {
     "name": "stderr",
     "output_type": "stream",
     "text": [
      "training: 100%|██████████| 553/553 [04:06<00:00,  2.24it/s, train_loss_1=9.45e-5, train_loss_2=0.000386, train_loss_3=0.000234, train_loss_4=0.000113, train_loss_5=0.00044, train_loss_6=0.000168, train_loss_7=0.000287, train_loss_8=0.000148]  \n",
      "validation: 100%|██████████| 3/3 [00:00<00:00,  8.35it/s, eval_loss_1=0.000106, eval_loss_2=0.000302, eval_loss_3=0.000368, eval_loss_4=0.000176, eval_loss_5=0.000386, eval_loss_6=0.000203, eval_loss_7=0.000203, eval_loss_8=0.000137]\n"
     ]
    },
    {
     "name": "stdout",
     "output_type": "stream",
     "text": [
      "Evaluation Score 1 : [9.323927224613726e-05]\n",
      "Evaluation Score 2 : [0.0002876225432070593]\n",
      "Evaluation Score 3 : [0.0002708586398512125]\n",
      "Evaluation Score 4 : [0.00015658656775485724]\n",
      "Evaluation Score 5 : [0.0002803429330621536]\n",
      "Evaluation Score 6 : [0.00018077699254111698]\n",
      "Evaluation Score 7 : [0.00017880683784217885]\n",
      "Evaluation Score 8 : [0.00014518008295757076]\n",
      "\n",
      "\n",
      "Epoch 42\n"
     ]
    },
    {
     "name": "stderr",
     "output_type": "stream",
     "text": [
      "training: 100%|██████████| 553/553 [04:08<00:00,  2.23it/s, train_loss_1=0.000126, train_loss_2=0.000557, train_loss_3=8.58e-5, train_loss_4=0.000168, train_loss_5=0.00021, train_loss_6=0.000198, train_loss_7=0.000103, train_loss_8=0.000281]  \n",
      "validation: 100%|██████████| 3/3 [00:00<00:00,  8.35it/s, eval_loss_1=0.000145, eval_loss_2=0.000688, eval_loss_3=0.000249, eval_loss_4=0.000278, eval_loss_5=0.000322, eval_loss_6=0.000138, eval_loss_7=0.000161, eval_loss_8=0.000144]\n"
     ]
    },
    {
     "name": "stdout",
     "output_type": "stream",
     "text": [
      "Evaluation Score 1 : [0.0001455391029594466]\n",
      "Evaluation Score 2 : [0.0006736386761379739]\n",
      "Evaluation Score 3 : [0.00017954950696245456]\n",
      "Evaluation Score 4 : [0.0002896285441238433]\n",
      "Evaluation Score 5 : [0.0003550686427236845]\n",
      "Evaluation Score 6 : [0.00012352629467689744]\n",
      "Evaluation Score 7 : [0.00018042543767175326]\n",
      "Evaluation Score 8 : [0.0001474831709250187]\n",
      "\n",
      "\n",
      "Epoch 43\n"
     ]
    },
    {
     "name": "stderr",
     "output_type": "stream",
     "text": [
      "training: 100%|██████████| 553/553 [04:11<00:00,  2.20it/s, train_loss_1=0.000179, train_loss_2=0.00084, train_loss_3=0.000107, train_loss_4=0.000138, train_loss_5=0.000169, train_loss_6=0.000109, train_loss_7=0.000169, train_loss_8=0.000109] \n",
      "validation: 100%|██████████| 3/3 [00:00<00:00,  8.35it/s, eval_loss_1=9.77e-5, eval_loss_2=0.000875, eval_loss_3=0.000316, eval_loss_4=0.000306, eval_loss_5=0.000215, eval_loss_6=0.00015, eval_loss_7=0.000241, eval_loss_8=0.000124] \n"
     ]
    },
    {
     "name": "stdout",
     "output_type": "stream",
     "text": [
      "Evaluation Score 1 : [8.070420153671876e-05]\n",
      "Evaluation Score 2 : [0.0008704627980478108]\n",
      "Evaluation Score 3 : [0.00018813701171893626]\n",
      "Evaluation Score 4 : [0.00022771858978861323]\n",
      "Evaluation Score 5 : [0.0002068727626465261]\n",
      "Evaluation Score 6 : [0.00012508358486229554]\n",
      "Evaluation Score 7 : [0.00020374765639038137]\n",
      "Evaluation Score 8 : [0.00012329214223427698]\n",
      "\n",
      "\n",
      "Epoch 44\n"
     ]
    },
    {
     "name": "stderr",
     "output_type": "stream",
     "text": [
      "training: 100%|██████████| 553/553 [03:39<00:00,  2.52it/s, train_loss_1=0.000115, train_loss_2=0.000138, train_loss_3=0.000203, train_loss_4=0.000189, train_loss_5=0.000185, train_loss_6=0.000197, train_loss_7=0.000131, train_loss_8=0.000124]\n",
      "validation: 100%|██████████| 3/3 [00:00<00:00,  8.35it/s, eval_loss_1=0.000203, eval_loss_2=0.000201, eval_loss_3=0.000839, eval_loss_4=0.000183, eval_loss_5=0.000108, eval_loss_6=0.000273, eval_loss_7=0.000221, eval_loss_8=9.44e-5] \n"
     ]
    },
    {
     "name": "stdout",
     "output_type": "stream",
     "text": [
      "Evaluation Score 1 : [0.00018079483318918696]\n",
      "Evaluation Score 2 : [0.00020638108253479004]\n",
      "Evaluation Score 3 : [0.0005500723297397295]\n",
      "Evaluation Score 4 : [0.00017133282866173735]\n",
      "Evaluation Score 5 : [0.00013873359421268106]\n",
      "Evaluation Score 6 : [0.0002489788506257658]\n",
      "Evaluation Score 7 : [0.0002195369015680626]\n",
      "Evaluation Score 8 : [9.812683371516566e-05]\n",
      "\n",
      "\n",
      "Epoch 45\n"
     ]
    },
    {
     "name": "stderr",
     "output_type": "stream",
     "text": [
      "training: 100%|██████████| 553/553 [03:40<00:00,  2.51it/s, train_loss_1=0.000206, train_loss_2=0.000349, train_loss_3=0.000254, train_loss_4=0.000304, train_loss_5=0.000243, train_loss_6=8.16e-5, train_loss_7=0.0008, train_loss_8=0.000154]   \n",
      "validation: 100%|██████████| 3/3 [00:00<00:00,  8.00it/s, eval_loss_1=0.000143, eval_loss_2=0.000426, eval_loss_3=0.000982, eval_loss_4=0.00013, eval_loss_5=0.000172, eval_loss_6=0.000169, eval_loss_7=0.000213, eval_loss_8=0.00013]  \n"
     ]
    },
    {
     "name": "stdout",
     "output_type": "stream",
     "text": [
      "Evaluation Score 1 : [0.00017753647504529604]\n",
      "Evaluation Score 2 : [0.00046708226242723566]\n",
      "Evaluation Score 3 : [0.0005969809911524256]\n",
      "Evaluation Score 4 : [0.00014885030395817012]\n",
      "Evaluation Score 5 : [0.00023072646581567824]\n",
      "Evaluation Score 6 : [0.0001607362695115929]\n",
      "Evaluation Score 7 : [0.0003469812460631753]\n",
      "Evaluation Score 8 : [0.0001465878546393166]\n",
      "\n",
      "\n",
      "Epoch 46\n"
     ]
    },
    {
     "name": "stderr",
     "output_type": "stream",
     "text": [
      "training: 100%|██████████| 553/553 [03:40<00:00,  2.51it/s, train_loss_1=0.000262, train_loss_2=0.000145, train_loss_3=9.91e-5, train_loss_4=0.000166, train_loss_5=0.000261, train_loss_6=0.000163, train_loss_7=0.000405, train_loss_8=0.00013]  \n",
      "validation: 100%|██████████| 3/3 [00:00<00:00,  7.99it/s, eval_loss_1=0.000237, eval_loss_2=0.000191, eval_loss_3=0.000331, eval_loss_4=0.000123, eval_loss_5=0.000138, eval_loss_6=0.000187, eval_loss_7=0.000518, eval_loss_8=0.000149]\n"
     ]
    },
    {
     "name": "stdout",
     "output_type": "stream",
     "text": [
      "Evaluation Score 1 : [0.00017086451407521963]\n",
      "Evaluation Score 2 : [0.00017228407765893886]\n",
      "Evaluation Score 3 : [0.00021405886218417436]\n",
      "Evaluation Score 4 : [0.00012446136679500341]\n",
      "Evaluation Score 5 : [0.00014478580366509655]\n",
      "Evaluation Score 6 : [0.00015626558645938834]\n",
      "Evaluation Score 7 : [0.00046433739286536974]\n",
      "Evaluation Score 8 : [0.00018329926630637297]\n",
      "\n",
      "\n",
      "Epoch 47\n"
     ]
    },
    {
     "name": "stderr",
     "output_type": "stream",
     "text": [
      "training: 100%|██████████| 553/553 [03:40<00:00,  2.51it/s, train_loss_1=0.00036, train_loss_2=0.00043, train_loss_3=9.56e-5, train_loss_4=0.000173, train_loss_5=8.91e-5, train_loss_6=0.000349, train_loss_7=0.00114, train_loss_8=0.000329]     \n",
      "validation: 100%|██████████| 3/3 [00:00<00:00,  8.00it/s, eval_loss_1=0.000169, eval_loss_2=0.000414, eval_loss_3=0.000469, eval_loss_4=0.000149, eval_loss_5=0.000101, eval_loss_6=0.000459, eval_loss_7=0.000755, eval_loss_8=0.000426]\n"
     ]
    },
    {
     "name": "stdout",
     "output_type": "stream",
     "text": [
      "Evaluation Score 1 : [0.00015456087324613085]\n",
      "Evaluation Score 2 : [0.0004392877162899822]\n",
      "Evaluation Score 3 : [0.0002444067601269732]\n",
      "Evaluation Score 4 : [0.00012948617465250814]\n",
      "Evaluation Score 5 : [0.0001127044985575291]\n",
      "Evaluation Score 6 : [0.0004365857457742095]\n",
      "Evaluation Score 7 : [0.0006251458544284105]\n",
      "Evaluation Score 8 : [0.000342282709122325]\n",
      "\n",
      "\n",
      "Epoch 48\n"
     ]
    },
    {
     "name": "stderr",
     "output_type": "stream",
     "text": [
      "training: 100%|██████████| 553/553 [03:52<00:00,  2.38it/s, train_loss_1=0.000143, train_loss_2=0.000115, train_loss_3=9.26e-5, train_loss_4=0.000369, train_loss_5=0.000152, train_loss_6=7.19e-5, train_loss_7=0.000247, train_loss_8=0.000151]  \n",
      "validation: 100%|██████████| 3/3 [00:00<00:00,  8.35it/s, eval_loss_1=0.000255, eval_loss_2=0.000126, eval_loss_3=0.00031, eval_loss_4=0.00038, eval_loss_5=0.000142, eval_loss_6=0.000128, eval_loss_7=0.000345, eval_loss_8=0.000321]  \n"
     ]
    },
    {
     "name": "stdout",
     "output_type": "stream",
     "text": [
      "Evaluation Score 1 : [0.0002140960714314133]\n",
      "Evaluation Score 2 : [0.00012205950770294294]\n",
      "Evaluation Score 3 : [0.00020732554063821831]\n",
      "Evaluation Score 4 : [0.0003435372394354393]\n",
      "Evaluation Score 5 : [0.0001478278572903946]\n",
      "Evaluation Score 6 : [0.00011393138508234794]\n",
      "Evaluation Score 7 : [0.00031421755556948483]\n",
      "Evaluation Score 8 : [0.0002878027153201401]\n",
      "\n",
      "\n",
      "Epoch 49\n"
     ]
    },
    {
     "name": "stderr",
     "output_type": "stream",
     "text": [
      "training: 100%|██████████| 553/553 [04:05<00:00,  2.25it/s, train_loss_1=0.000332, train_loss_2=0.000481, train_loss_3=0.000211, train_loss_4=0.000429, train_loss_5=0.000333, train_loss_6=0.000314, train_loss_7=0.000255, train_loss_8=0.000442]\n",
      "validation: 100%|██████████| 3/3 [00:00<00:00,  8.35it/s, eval_loss_1=0.000668, eval_loss_2=0.000548, eval_loss_3=0.000422, eval_loss_4=0.000572, eval_loss_5=0.000487, eval_loss_6=0.000553, eval_loss_7=0.000656, eval_loss_8=0.000621]"
     ]
    },
    {
     "name": "stdout",
     "output_type": "stream",
     "text": [
      "Evaluation Score 1 : [0.0005007629030539343]\n",
      "Evaluation Score 2 : [0.0004901127055442581]\n",
      "Evaluation Score 3 : [0.00041145535457568866]\n",
      "Evaluation Score 4 : [0.0005442765832412988]\n",
      "Evaluation Score 5 : [0.00047196253823737305]\n",
      "Evaluation Score 6 : [0.000501596873315672]\n",
      "Evaluation Score 7 : [0.0005975719929362336]\n",
      "Evaluation Score 8 : [0.0005948551697656512]\n",
      "\n",
      "\n",
      "Individual model 1 stopped training early at epoch 48\n",
      "Entire zonal model training stopped early at epoch: 48\n",
      "\n",
      "Total time of training: 3.2175300982263355 hours\n"
     ]
    },
    {
     "name": "stderr",
     "output_type": "stream",
     "text": [
      "\n"
     ]
    }
   ],
   "source": [
    "start_time = time.time()\n",
    "\n",
    "# Train the VAE model\n",
    "for epoch in range(200):\n",
    "    print('Epoch', epoch + 1)\n",
    "\n",
    "    train_losses, \\\n",
    "    trained_model_1, \\\n",
    "    trained_model_2, \\\n",
    "    trained_model_3, \\\n",
    "    trained_model_4, \\\n",
    "    trained_model_5, \\\n",
    "    trained_model_6, \\\n",
    "    trained_model_7, \\\n",
    "    trained_model_8 = train(vae_lstm_1, vae_lstm_2, vae_lstm_3, vae_lstm_4,\n",
    "                            vae_lstm_5, vae_lstm_6, vae_lstm_7, vae_lstm_8,\n",
    "                            optimizer=opt, train_loader=train_dataloader)\n",
    "\n",
    "    valid_losses = valid_or_test(trained_model_1, trained_model_2, trained_model_3, trained_model_4,\n",
    "                                 trained_model_5, trained_model_6, trained_model_7, trained_model_8,\n",
    "                  data_loader=valid_dataloader, mode=\"valid\")\n",
    "\n",
    "    # For model 1\n",
    "    if (valid_losses[0] < lowest_loss_1) and (model_train_flag_1 == False):\n",
    "        lowest_loss_1 = valid_losses[0]\n",
    "        lowest_loss_epoch_1 = epoch\n",
    "        save_checkpoint(trained_model_1, os.path.join(os.getcwd(), \"vae_checkpoint\", \"vae_best_model_1.pth\"))\n",
    "\n",
    "    elif (epoch - lowest_loss_epoch_1 > early_stop_patience) and (model_train_flag_1 == False):\n",
    "        print(\"Individual model {} stopped training early at epoch {}\".format(1, epoch))\n",
    "        model_train_flag_1 = True\n",
    "\n",
    "    # For model 2\n",
    "    if (valid_losses[1] < lowest_loss_2) and (model_train_flag_2 == False):\n",
    "        lowest_loss_2 = valid_losses[1]\n",
    "        lowest_loss_epoch_2 = epoch\n",
    "        save_checkpoint(trained_model_2, os.path.join(os.getcwd(), \"vae_checkpoint\", \"vae_best_model_2.pth\"))\n",
    "\n",
    "    elif (epoch - lowest_loss_epoch_2 > early_stop_patience) and (model_train_flag_2 == False):\n",
    "        print(\"Individual model {} stopped training early at epoch {}\".format(2, epoch))\n",
    "        model_train_flag_2 = True\n",
    "\n",
    "    # For model 3\n",
    "    if (valid_losses[2] < lowest_loss_3) and (model_train_flag_3 == False):\n",
    "        lowest_loss_3 = valid_losses[2]\n",
    "        lowest_loss_epoch_3 = epoch\n",
    "        save_checkpoint(trained_model_3, os.path.join(os.getcwd(), \"vae_checkpoint\", \"vae_best_model_3.pth\"))\n",
    "\n",
    "    elif (epoch - lowest_loss_epoch_3 > early_stop_patience) and (model_train_flag_3 == False):\n",
    "        print(\"Individual model {} stopped training early at epoch {}\".format(3, epoch))\n",
    "        model_train_flag_3 = True\n",
    "\n",
    "    # For model 4\n",
    "    if (valid_losses[3] < lowest_loss_4) and (model_train_flag_4 == False):\n",
    "        lowest_loss_4 = valid_losses[3]\n",
    "        lowest_loss_epoch_4 = epoch\n",
    "        save_checkpoint(trained_model_4, os.path.join(os.getcwd(), \"vae_checkpoint\", \"vae_best_model_4.pth\"))\n",
    "\n",
    "    elif (epoch - lowest_loss_epoch_4 > early_stop_patience) and (model_train_flag_4 == False):\n",
    "        print(\"Individual model {} stopped training early at epoch {}\".format(4, epoch))\n",
    "        model_train_flag_4 = True\n",
    "\n",
    "    # For model 5\n",
    "    if (valid_losses[4] < lowest_loss_5) and (model_train_flag_5 == False):\n",
    "        lowest_loss_5 = valid_losses[4]\n",
    "        lowest_loss_epoch_5 = epoch\n",
    "        save_checkpoint(trained_model_5, os.path.join(os.getcwd(), \"vae_checkpoint\", \"vae_best_model_5.pth\"))\n",
    "\n",
    "    elif (epoch - lowest_loss_epoch_5 > early_stop_patience) and (model_train_flag_5 == False):\n",
    "        print(\"Individual model {} stopped training early at epoch {}\".format(5, epoch))\n",
    "        model_train_flag_5 = True\n",
    "\n",
    "    # For model 6\n",
    "    if (valid_losses[5] < lowest_loss_6) and (model_train_flag_6 == False):\n",
    "        lowest_loss_6 = valid_losses[5]\n",
    "        lowest_loss_epoch_6 = epoch\n",
    "        save_checkpoint(trained_model_6, os.path.join(os.getcwd(), \"vae_checkpoint\", \"vae_best_model_6.pth\"))\n",
    "\n",
    "    elif (epoch - lowest_loss_epoch_6 > early_stop_patience) and (model_train_flag_6 == False):\n",
    "        print(\"Individual model {} stopped training early at epoch {}\".format(6, epoch))\n",
    "        model_train_flag_6 = True\n",
    "\n",
    "    # For model 7\n",
    "    if (valid_losses[6] < lowest_loss_7) and (model_train_flag_7 == False):\n",
    "        lowest_loss_7 = valid_losses[6]\n",
    "        lowest_loss_epoch_7 = epoch\n",
    "        save_checkpoint(trained_model_7, os.path.join(os.getcwd(), \"vae_checkpoint\", \"vae_best_model_7.pth\"))\n",
    "\n",
    "    elif (epoch - lowest_loss_epoch_7 > early_stop_patience) and (model_train_flag_7 == False):\n",
    "        print(\"Individual model {} stopped training early at epoch {}\".format(7, epoch))\n",
    "        model_train_flag_7 = True\n",
    "\n",
    "    # For model 8\n",
    "    if (valid_losses[7] < lowest_loss_8) and (model_train_flag_8 == False):\n",
    "        lowest_loss_8 = valid_losses[7]\n",
    "        lowest_loss_epoch_8 = epoch\n",
    "        save_checkpoint(trained_model_8, os.path.join(os.getcwd(), \"vae_checkpoint\", \"vae_best_model_8.pth\"))\n",
    "\n",
    "    elif (epoch - lowest_loss_epoch_8 > early_stop_patience) and (model_train_flag_8 == False):\n",
    "        print(\"Individual model {} stopped training early at epoch {}\".format(8, epoch))\n",
    "        model_train_flag_8 = True\n",
    "\n",
    "    if all((model_train_flag_1, model_train_flag_2, model_train_flag_3, model_train_flag_4,\n",
    "            model_train_flag_5, model_train_flag_6, model_train_flag_7, model_train_flag_8)):\n",
    "        print(\"Entire zonal model training stopped early at epoch: {}\".format(epoch))\n",
    "        break\n",
    "\n",
    "end_time = time.time()\n",
    "\n",
    "total_time = end_time - start_time\n",
    "print(\"\\nTotal time of training: {} hours\".format(total_time/3600))"
   ],
   "metadata": {
    "collapsed": false
   }
  },
  {
   "cell_type": "markdown",
   "source": [
    "#### LOADING AND GENERATING RESULTS ON TEST DATALOADER"
   ],
   "metadata": {
    "collapsed": false
   }
  },
  {
   "cell_type": "code",
   "execution_count": 43,
   "outputs": [],
   "source": [
    "# Loading the models\n",
    "best_vae_lstm_model_1 = load_from_checkpoint(trained_model_1, os.path.join(os.getcwd(), \"vae_checkpoint\", \"vae_best_model_1.pth\"))\n",
    "best_vae_lstm_model_2 = load_from_checkpoint(trained_model_2, os.path.join(os.getcwd(), \"vae_checkpoint\", \"vae_best_model_2.pth\"))\n",
    "best_vae_lstm_model_3 = load_from_checkpoint(trained_model_3, os.path.join(os.getcwd(), \"vae_checkpoint\", \"vae_best_model_3.pth\"))\n",
    "best_vae_lstm_model_4 = load_from_checkpoint(trained_model_4, os.path.join(os.getcwd(), \"vae_checkpoint\", \"vae_best_model_4.pth\"))\n",
    "best_vae_lstm_model_5 = load_from_checkpoint(trained_model_5, os.path.join(os.getcwd(), \"vae_checkpoint\", \"vae_best_model_5.pth\"))\n",
    "best_vae_lstm_model_6 = load_from_checkpoint(trained_model_6, os.path.join(os.getcwd(), \"vae_checkpoint\", \"vae_best_model_6.pth\"))\n",
    "best_vae_lstm_model_7 = load_from_checkpoint(trained_model_7, os.path.join(os.getcwd(), \"vae_checkpoint\", \"vae_best_model_7.pth\"))\n",
    "best_vae_lstm_model_8 = load_from_checkpoint(trained_model_8, os.path.join(os.getcwd(), \"vae_checkpoint\", \"vae_best_model_8.pth\"))"
   ],
   "metadata": {
    "collapsed": false
   }
  },
  {
   "cell_type": "code",
   "execution_count": 44,
   "outputs": [
    {
     "name": "stderr",
     "output_type": "stream",
     "text": [
      "testing: 100%|██████████| 3/3 [00:00<00:00,  8.36it/s, eval_loss_1=0.000111, eval_loss_2=0.000389, eval_loss_3=0.00424, eval_loss_4=0.000253, eval_loss_5=0.000187, eval_loss_6=0.000328, eval_loss_7=0.000211, eval_loss_8=0.000922]"
     ]
    },
    {
     "name": "stdout",
     "output_type": "stream",
     "text": [
      "Evaluation Score 1 : [0.00010116930449536692]\n",
      "Evaluation Score 2 : [0.00038762472104281187]\n",
      "Evaluation Score 3 : [0.003950181378362079]\n",
      "Evaluation Score 4 : [0.00022066381643526256]\n",
      "Evaluation Score 5 : [0.0003199822725340103]\n",
      "Evaluation Score 6 : [0.00024323970137629658]\n",
      "Evaluation Score 7 : [0.00022563186454741904]\n",
      "Evaluation Score 8 : [0.000654134627742072]\n",
      "\n",
      "\n"
     ]
    },
    {
     "name": "stderr",
     "output_type": "stream",
     "text": [
      "\n"
     ]
    }
   ],
   "source": [
    "# Testing using the test dataloader\n",
    "orig_1, pred_1, \\\n",
    "orig_2, pred_2, \\\n",
    "orig_3, pred_3, \\\n",
    "orig_4, pred_4, \\\n",
    "orig_5, pred_5, \\\n",
    "orig_6, pred_6, \\\n",
    "orig_7, pred_7, \\\n",
    "orig_8, pred_8  = valid_or_test(best_vae_lstm_model_1,\n",
    "                                best_vae_lstm_model_2,\n",
    "                                best_vae_lstm_model_3,\n",
    "                                best_vae_lstm_model_4,\n",
    "                                best_vae_lstm_model_5,\n",
    "                                best_vae_lstm_model_6,\n",
    "                                best_vae_lstm_model_7,\n",
    "                                best_vae_lstm_model_8,\n",
    "                                data_loader=test_dataloader, mode=\"test\")"
   ],
   "metadata": {
    "collapsed": false
   }
  },
  {
   "cell_type": "code",
   "execution_count": 45,
   "outputs": [],
   "source": [
    "orig = pd.DataFrame(orig_1)\n",
    "pred = pd.DataFrame(pred_1)"
   ],
   "metadata": {
    "collapsed": false
   }
  },
  {
   "cell_type": "code",
   "execution_count": 46,
   "outputs": [
    {
     "data": {
      "text/plain": "<AxesSubplot: >"
     },
     "execution_count": 46,
     "metadata": {},
     "output_type": "execute_result"
    },
    {
     "data": {
      "text/plain": "<Figure size 640x480 with 1 Axes>",
      "image/png": "[encoded data removed]"
     },
     "metadata": {},
     "output_type": "display_data"
    }
   ],
   "source": [
    "pd.concat((orig.iloc[:, 0], pred.iloc[:, 0]), axis=1).plot()"
   ],
   "metadata": {
    "collapsed": false
   }
  },
  {
   "cell_type": "code",
   "execution_count": 47,
   "outputs": [
    {
     "data": {
      "text/plain": "<AxesSubplot: >"
     },
     "execution_count": 47,
     "metadata": {},
     "output_type": "execute_result"
    },
    {
     "data": {
      "text/plain": "<Figure size 640x480 with 1 Axes>",
      "image/png": "[encoded data removed]"
     },
     "metadata": {},
     "output_type": "display_data"
    }
   ],
   "source": [
    "pd.concat((orig.iloc[:, 1], pred.iloc[:, 1]), axis=1).plot()"
   ],
   "metadata": {
    "collapsed": false
   }
  },
  {
   "cell_type": "code",
   "execution_count": 48,
   "outputs": [
    {
     "data": {
      "text/plain": "<AxesSubplot: >"
     },
     "execution_count": 48,
     "metadata": {},
     "output_type": "execute_result"
    },
    {
     "data": {
      "text/plain": "<Figure size 640x480 with 1 Axes>",
      "image/png": "[encoded data removed]"
     },
     "metadata": {},
     "output_type": "display_data"
    }
   ],
   "source": [
    "pd.concat((orig.iloc[:, 2], pred.iloc[:, 2]), axis=1).plot()"
   ],
   "metadata": {
    "collapsed": false
   }
  },
  {
   "cell_type": "code",
   "execution_count": 49,
   "outputs": [
    {
     "data": {
      "text/plain": "0.8741085417568684"
     },
     "execution_count": 49,
     "metadata": {},
     "output_type": "execute_result"
    }
   ],
   "source": [
    "mape(orig.iloc[:, 0], pred.iloc[:, 0])"
   ],
   "metadata": {
    "collapsed": false
   }
  },
  {
   "cell_type": "code",
   "execution_count": 50,
   "outputs": [
    {
     "data": {
      "text/plain": "0.5976336542516947"
     },
     "execution_count": 50,
     "metadata": {},
     "output_type": "execute_result"
    }
   ],
   "source": [
    "mape(orig.iloc[:, 1], pred.iloc[:, 1])"
   ],
   "metadata": {
    "collapsed": false
   }
  },
  {
   "cell_type": "code",
   "execution_count": 51,
   "outputs": [
    {
     "data": {
      "text/plain": "0.6922005210071802"
     },
     "execution_count": 51,
     "metadata": {},
     "output_type": "execute_result"
    }
   ],
   "source": [
    "mape(orig.iloc[:, 2], pred.iloc[:, 2])"
   ],
   "metadata": {
    "collapsed": false
   }
  },
  {
   "cell_type": "code",
   "execution_count": 52,
   "outputs": [
    {
     "name": "stdout",
     "output_type": "stream",
     "text": [
      "Saving the best trained models.\n",
      "Saved !\n"
     ]
    }
   ],
   "source": [
    "print(\"Saving the best trained models.\")\n",
    "\n",
    "# Saving the models\n",
    "torch.save(best_vae_lstm_model_1, f\"vae_models/L2_best_zone_1.pth\")\n",
    "torch.save(best_vae_lstm_model_2, f\"vae_models/L2_best_zone_2.pth\")\n",
    "torch.save(best_vae_lstm_model_3, f\"vae_models/L2_best_zone_3.pth\")\n",
    "torch.save(best_vae_lstm_model_4, f\"vae_models/L2_best_zone_4.pth\")\n",
    "torch.save(best_vae_lstm_model_5, f\"vae_models/L2_best_zone_5.pth\")\n",
    "torch.save(best_vae_lstm_model_6, f\"vae_models/L2_best_zone_6.pth\")\n",
    "torch.save(best_vae_lstm_model_7, f\"vae_models/L2_best_zone_7.pth\")\n",
    "torch.save(best_vae_lstm_model_8, f\"vae_models/L2_best_zone_8.pth\")\n",
    "\n",
    "print(\"Saved !\")"
   ],
   "metadata": {
    "collapsed": false
   }
  },
  {
   "cell_type": "code",
   "execution_count": 53,
   "outputs": [
    {
     "data": {
      "text/plain": "{'status': 'ok', 'restart': True}"
     },
     "execution_count": 53,
     "metadata": {},
     "output_type": "execute_result"
    }
   ],
   "source": [
    "import IPython\n",
    "app = IPython.Application.instance()\n",
    "app.kernel.do_shutdown(True)"
   ],
   "metadata": {
    "collapsed": false
   }
  }
 ],
 "metadata": {
  "kernelspec": {
   "display_name": "Python 3",
   "language": "python",
   "name": "python3"
  },
  "language_info": {
   "codemirror_mode": {
    "name": "ipython",
    "version": 2
   },
   "file_extension": ".py",
   "mimetype": "text/x-python",
   "name": "python",
   "nbconvert_exporter": "python",
   "pygments_lexer": "ipython2",
   "version": "2.7.6"
  }
 },
 "nbformat": 4,
 "nbformat_minor": 0
}
