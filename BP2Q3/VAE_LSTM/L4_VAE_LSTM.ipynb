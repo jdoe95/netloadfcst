{
 "cells": [
  {
   "cell_type": "code",
   "execution_count": 1,
   "outputs": [
    {
     "name": "stdout",
     "output_type": "stream",
     "text": [
      "Using device cuda:0\n"
     ]
    }
   ],
   "source": [
    "# Importing the required libraries\n",
    "from IPython.display import display\n",
    "import os\n",
    "import numpy as np\n",
    "import pandas as pd\n",
    "from matplotlib import pyplot as plt\n",
    "from tqdm import tqdm\n",
    "from sklearn.preprocessing import MinMaxScaler, OneHotEncoder\n",
    "import time\n",
    "import easydict\n",
    "\n",
    "import torch\n",
    "import torch.nn as nn\n",
    "from torch.utils.tensorboard import SummaryWriter\n",
    "from tqdm import tqdm\n",
    "from torch.utils.data import DataLoader, Dataset\n",
    "\n",
    "from vae_lstm_model import VAE_LSTM\n",
    "\n",
    "# Training device check-up\n",
    "device = torch.device(\"cuda:0\" if torch.cuda.is_available() else \"cpu\")\n",
    "print(f\"Using device {device}\")\n",
    "\n",
    "writer = SummaryWriter()\n",
    "\n",
    "# Defining DOE custom mape formula\n",
    "def mape(y_true, y_pred):\n",
    "    y_true, y_pred = np.array(y_true), np.array(y_pred)\n",
    "    return np.mean(np.abs((y_true - y_pred) / max(y_true))) * 100"
   ],
   "metadata": {
    "collapsed": false
   }
  },
  {
   "cell_type": "markdown",
   "source": [
    "#### FETCHING AND PROCESSING CALENDER FEATURES"
   ],
   "metadata": {
    "collapsed": false
   }
  },
  {
   "cell_type": "code",
   "execution_count": 2,
   "outputs": [],
   "source": [
    "# Specifying the path of file\n",
    "path= r\"C:\\Users\\sashah8\\OneDrive - North Carolina State University\\Desktop\\DOE\\DOE_Q1\\L4\\data_cleaned\""
   ],
   "metadata": {
    "collapsed": false
   }
  },
  {
   "cell_type": "code",
   "execution_count": 3,
   "outputs": [
    {
     "name": "stdout",
     "output_type": "stream",
     "text": [
      "Sample dataframe: \n"
     ]
    },
    {
     "data": {
      "text/plain": "   Month  Day  Weekday  Hour\n0      1    1        1     0\n1      1    1        1     1",
      "text/html": "<div>\n<style scoped>\n    .dataframe tbody tr th:only-of-type {\n        vertical-align: middle;\n    }\n\n    .dataframe tbody tr th {\n        vertical-align: top;\n    }\n\n    .dataframe thead th {\n        text-align: right;\n    }\n</style>\n<table border=\"1\" class=\"dataframe\">\n  <thead>\n    <tr style=\"text-align: right;\">\n      <th></th>\n      <th>Month</th>\n      <th>Day</th>\n      <th>Weekday</th>\n      <th>Hour</th>\n    </tr>\n  </thead>\n  <tbody>\n    <tr>\n      <th>0</th>\n      <td>1</td>\n      <td>1</td>\n      <td>1</td>\n      <td>0</td>\n    </tr>\n    <tr>\n      <th>1</th>\n      <td>1</td>\n      <td>1</td>\n      <td>1</td>\n      <td>1</td>\n    </tr>\n  </tbody>\n</table>\n</div>"
     },
     "metadata": {},
     "output_type": "display_data"
    },
    {
     "name": "stdout",
     "output_type": "stream",
     "text": [
      "Available unique categories: \n"
     ]
    },
    {
     "data": {
      "text/plain": "Month      12\nDay        31\nWeekday     2\nHour       24\ndtype: int64"
     },
     "metadata": {},
     "output_type": "display_data"
    }
   ],
   "source": [
    "# Just for previewing the column name\n",
    "date = pd.read_csv(os.path.join(path, \"Date.csv\"))\n",
    "print(\"Sample dataframe: \")\n",
    "display(date.head(2))\n",
    "print(\"Available unique categories: \")\n",
    "display(date.nunique())"
   ],
   "metadata": {
    "collapsed": false
   }
  },
  {
   "cell_type": "code",
   "execution_count": 4,
   "outputs": [
    {
     "data": {
      "text/plain": "array([[1., 0., 0., ..., 0., 0., 0.],\n       [1., 0., 0., ..., 0., 0., 0.],\n       [1., 0., 0., ..., 0., 0., 0.],\n       ...,\n       [0., 0., 0., ..., 1., 0., 0.],\n       [0., 0., 0., ..., 0., 1., 0.],\n       [0., 0., 0., ..., 0., 0., 1.]])"
     },
     "execution_count": 4,
     "metadata": {},
     "output_type": "execute_result"
    }
   ],
   "source": [
    "# One-hot encoding the categorical calendar features\n",
    "date_enc = OneHotEncoder(sparse_output=False)\n",
    "categorical_data = date_enc.fit_transform(date)\n",
    "categorical_data"
   ],
   "metadata": {
    "collapsed": false
   }
  },
  {
   "cell_type": "code",
   "execution_count": 5,
   "outputs": [
    {
     "data": {
      "text/plain": "[12, 31, 2, 24]"
     },
     "execution_count": 5,
     "metadata": {},
     "output_type": "execute_result"
    }
   ],
   "source": [
    "category_count = [len(x_len) for x_len in date_enc.categories_]\n",
    "category_count"
   ],
   "metadata": {
    "collapsed": false
   }
  },
  {
   "cell_type": "markdown",
   "source": [
    "#### PROCESSING CONTINUOUS FEATURES FOR ALL AVAILABLE ZONES"
   ],
   "metadata": {
    "collapsed": false
   }
  },
  {
   "cell_type": "markdown",
   "source": [
    "PROCESSING LOAD DATA"
   ],
   "metadata": {
    "collapsed": false
   }
  },
  {
   "cell_type": "code",
   "execution_count": 6,
   "outputs": [
    {
     "name": "stdout",
     "output_type": "stream",
     "text": [
      "['Capital.csv', 'Central.csv', 'Dunwoody.csv', 'Genese.csv', 'Hudson.csv', 'LongIsland.csv', 'Milwood.csv', 'NYC.csv']\n"
     ]
    }
   ],
   "source": [
    "# Listing just the required files\n",
    "fileList = os.listdir(path)\n",
    "fileList.remove(\"Date.csv\")\n",
    "\n",
    "# Previewing the required file names\n",
    "print(fileList)"
   ],
   "metadata": {
    "collapsed": false
   }
  },
  {
   "cell_type": "code",
   "execution_count": 7,
   "outputs": [
    {
     "data": {
      "text/plain": "   Demand  Normalized_net  Temprature\n0  1280.8        0.531006        -5.8\n1  1230.8        0.510277        -6.1",
      "text/html": "<div>\n<style scoped>\n    .dataframe tbody tr th:only-of-type {\n        vertical-align: middle;\n    }\n\n    .dataframe tbody tr th {\n        vertical-align: top;\n    }\n\n    .dataframe thead th {\n        text-align: right;\n    }\n</style>\n<table border=\"1\" class=\"dataframe\">\n  <thead>\n    <tr style=\"text-align: right;\">\n      <th></th>\n      <th>Demand</th>\n      <th>Normalized_net</th>\n      <th>Temprature</th>\n    </tr>\n  </thead>\n  <tbody>\n    <tr>\n      <th>0</th>\n      <td>1280.8</td>\n      <td>0.531006</td>\n      <td>-5.8</td>\n    </tr>\n    <tr>\n      <th>1</th>\n      <td>1230.8</td>\n      <td>0.510277</td>\n      <td>-6.1</td>\n    </tr>\n  </tbody>\n</table>\n</div>"
     },
     "execution_count": 7,
     "metadata": {},
     "output_type": "execute_result"
    }
   ],
   "source": [
    "# Just for previewing the column name\n",
    "pd.read_csv(os.path.join(path, fileList[0])).head(2)"
   ],
   "metadata": {
    "collapsed": false
   }
  },
  {
   "cell_type": "code",
   "execution_count": 8,
   "outputs": [
    {
     "data": {
      "text/plain": "       Capital_LOAD  Central_LOAD  Dunwoody_LOAD  Genese_LOAD  Hudson_LOAD  \\\n43822        1280.9        1734.2          608.4       1049.6       1041.3   \n43823        1225.9        1677.7          579.8       1023.4        994.3   \n\n       LongIsland_LOAD  Milwood_LOAD  NYC_LOAD  \n43822           2201.8         326.5    5276.0  \n43823           2090.2         309.9    5063.4  ",
      "text/html": "<div>\n<style scoped>\n    .dataframe tbody tr th:only-of-type {\n        vertical-align: middle;\n    }\n\n    .dataframe tbody tr th {\n        vertical-align: top;\n    }\n\n    .dataframe thead th {\n        text-align: right;\n    }\n</style>\n<table border=\"1\" class=\"dataframe\">\n  <thead>\n    <tr style=\"text-align: right;\">\n      <th></th>\n      <th>Capital_LOAD</th>\n      <th>Central_LOAD</th>\n      <th>Dunwoody_LOAD</th>\n      <th>Genese_LOAD</th>\n      <th>Hudson_LOAD</th>\n      <th>LongIsland_LOAD</th>\n      <th>Milwood_LOAD</th>\n      <th>NYC_LOAD</th>\n    </tr>\n  </thead>\n  <tbody>\n    <tr>\n      <th>43822</th>\n      <td>1280.9</td>\n      <td>1734.2</td>\n      <td>608.4</td>\n      <td>1049.6</td>\n      <td>1041.3</td>\n      <td>2201.8</td>\n      <td>326.5</td>\n      <td>5276.0</td>\n    </tr>\n    <tr>\n      <th>43823</th>\n      <td>1225.9</td>\n      <td>1677.7</td>\n      <td>579.8</td>\n      <td>1023.4</td>\n      <td>994.3</td>\n      <td>2090.2</td>\n      <td>309.9</td>\n      <td>5063.4</td>\n    </tr>\n  </tbody>\n</table>\n</div>"
     },
     "execution_count": 8,
     "metadata": {},
     "output_type": "execute_result"
    }
   ],
   "source": [
    "# Fetching and concatenating the data\n",
    "load_ds = pd.concat([pd.read_csv(os.path.join(path, fileName), usecols= [\"Demand\"]) for fileName in fileList], axis= 1)\n",
    "load_ds.columns = [i.removesuffix('.csv') for i in fileList]\n",
    "load_ds = load_ds.add_suffix(\"_LOAD\")\n",
    "load_ds.tail(2)"
   ],
   "metadata": {
    "collapsed": false
   }
  },
  {
   "cell_type": "code",
   "execution_count": 9,
   "outputs": [
    {
     "data": {
      "text/plain": "       Capital_LOAD_LAG1  Central_LOAD_LAG1  Dunwoody_LOAD_LAG1  \\\n43822             1288.4             1723.8               616.6   \n43823             1201.0             1640.1               572.9   \n\n       Genese_LOAD_LAG1  Hudson_LOAD_LAG1  LongIsland_LOAD_LAG1  \\\n43822            1014.3            1062.8                2183.3   \n43823             960.2             987.6                2004.6   \n\n       Milwood_LOAD_LAG1  NYC_LOAD_LAG1  \n43822              328.1         5226.6  \n43823              303.1         4947.4  ",
      "text/html": "<div>\n<style scoped>\n    .dataframe tbody tr th:only-of-type {\n        vertical-align: middle;\n    }\n\n    .dataframe tbody tr th {\n        vertical-align: top;\n    }\n\n    .dataframe thead th {\n        text-align: right;\n    }\n</style>\n<table border=\"1\" class=\"dataframe\">\n  <thead>\n    <tr style=\"text-align: right;\">\n      <th></th>\n      <th>Capital_LOAD_LAG1</th>\n      <th>Central_LOAD_LAG1</th>\n      <th>Dunwoody_LOAD_LAG1</th>\n      <th>Genese_LOAD_LAG1</th>\n      <th>Hudson_LOAD_LAG1</th>\n      <th>LongIsland_LOAD_LAG1</th>\n      <th>Milwood_LOAD_LAG1</th>\n      <th>NYC_LOAD_LAG1</th>\n    </tr>\n  </thead>\n  <tbody>\n    <tr>\n      <th>43822</th>\n      <td>1288.4</td>\n      <td>1723.8</td>\n      <td>616.6</td>\n      <td>1014.3</td>\n      <td>1062.8</td>\n      <td>2183.3</td>\n      <td>328.1</td>\n      <td>5226.6</td>\n    </tr>\n    <tr>\n      <th>43823</th>\n      <td>1201.0</td>\n      <td>1640.1</td>\n      <td>572.9</td>\n      <td>960.2</td>\n      <td>987.6</td>\n      <td>2004.6</td>\n      <td>303.1</td>\n      <td>4947.4</td>\n    </tr>\n  </tbody>\n</table>\n</div>"
     },
     "execution_count": 9,
     "metadata": {},
     "output_type": "execute_result"
    }
   ],
   "source": [
    "# Creating 1-day lag loads\n",
    "load_lag_1 = load_ds.shift(24*2).add_suffix(\"_LAG1\")\n",
    "load_lag_1.tail(2)"
   ],
   "metadata": {
    "collapsed": false
   }
  },
  {
   "cell_type": "code",
   "execution_count": 10,
   "outputs": [
    {
     "data": {
      "text/plain": "       Capital_LOAD_LAG7  Central_LOAD_LAG7  Dunwoody_LOAD_LAG7  \\\n43822             1304.1             1738.8               630.8   \n43823             1237.0             1662.0               602.3   \n\n       Genese_LOAD_LAG7  Hudson_LOAD_LAG7  LongIsland_LOAD_LAG7  \\\n43822            1046.8            1094.8                2292.6   \n43823            1005.7            1043.8                2184.3   \n\n       Milwood_LOAD_LAG7  NYC_LOAD_LAG7  \n43822              341.5         5244.8  \n43823              322.6         5038.8  ",
      "text/html": "<div>\n<style scoped>\n    .dataframe tbody tr th:only-of-type {\n        vertical-align: middle;\n    }\n\n    .dataframe tbody tr th {\n        vertical-align: top;\n    }\n\n    .dataframe thead th {\n        text-align: right;\n    }\n</style>\n<table border=\"1\" class=\"dataframe\">\n  <thead>\n    <tr style=\"text-align: right;\">\n      <th></th>\n      <th>Capital_LOAD_LAG7</th>\n      <th>Central_LOAD_LAG7</th>\n      <th>Dunwoody_LOAD_LAG7</th>\n      <th>Genese_LOAD_LAG7</th>\n      <th>Hudson_LOAD_LAG7</th>\n      <th>LongIsland_LOAD_LAG7</th>\n      <th>Milwood_LOAD_LAG7</th>\n      <th>NYC_LOAD_LAG7</th>\n    </tr>\n  </thead>\n  <tbody>\n    <tr>\n      <th>43822</th>\n      <td>1304.1</td>\n      <td>1738.8</td>\n      <td>630.8</td>\n      <td>1046.8</td>\n      <td>1094.8</td>\n      <td>2292.6</td>\n      <td>341.5</td>\n      <td>5244.8</td>\n    </tr>\n    <tr>\n      <th>43823</th>\n      <td>1237.0</td>\n      <td>1662.0</td>\n      <td>602.3</td>\n      <td>1005.7</td>\n      <td>1043.8</td>\n      <td>2184.3</td>\n      <td>322.6</td>\n      <td>5038.8</td>\n    </tr>\n  </tbody>\n</table>\n</div>"
     },
     "execution_count": 10,
     "metadata": {},
     "output_type": "execute_result"
    }
   ],
   "source": [
    "# Creating 7-day lag loads\n",
    "load_lag_7 = load_ds.shift(24*7).add_suffix(\"_LAG7\")\n",
    "load_lag_7.tail(2)"
   ],
   "metadata": {
    "collapsed": false
   }
  },
  {
   "cell_type": "code",
   "execution_count": 11,
   "outputs": [
    {
     "name": "stdout",
     "output_type": "stream",
     "text": [
      "Drop data before:  168\n"
     ]
    }
   ],
   "source": [
    "# Drop index for equalizing data\n",
    "drop_idx = load_lag_7.dropna(axis= 0).index[0]\n",
    "print(\"Drop data before: \", drop_idx)"
   ],
   "metadata": {
    "collapsed": false
   }
  },
  {
   "cell_type": "markdown",
   "source": [
    "PROCESSING TEMPERATURE DATA"
   ],
   "metadata": {
    "collapsed": false
   }
  },
  {
   "cell_type": "code",
   "execution_count": 12,
   "outputs": [
    {
     "data": {
      "text/plain": "       Capital_A_TEMP  Central_A_TEMP  Dunwoody_A_TEMP  Genese_A_TEMP  \\\n43822             2.7             2.7              2.7            0.1   \n43823             3.0             3.0              3.0            0.3   \n\n       Hudson_A_TEMP  LongIsland_A_TEMP  Milwood_A_TEMP  NYC_A_TEMP  \n43822            2.7                2.7             2.7         2.7  \n43823            3.0                3.0             3.0         3.0  ",
      "text/html": "<div>\n<style scoped>\n    .dataframe tbody tr th:only-of-type {\n        vertical-align: middle;\n    }\n\n    .dataframe tbody tr th {\n        vertical-align: top;\n    }\n\n    .dataframe thead th {\n        text-align: right;\n    }\n</style>\n<table border=\"1\" class=\"dataframe\">\n  <thead>\n    <tr style=\"text-align: right;\">\n      <th></th>\n      <th>Capital_A_TEMP</th>\n      <th>Central_A_TEMP</th>\n      <th>Dunwoody_A_TEMP</th>\n      <th>Genese_A_TEMP</th>\n      <th>Hudson_A_TEMP</th>\n      <th>LongIsland_A_TEMP</th>\n      <th>Milwood_A_TEMP</th>\n      <th>NYC_A_TEMP</th>\n    </tr>\n  </thead>\n  <tbody>\n    <tr>\n      <th>43822</th>\n      <td>2.7</td>\n      <td>2.7</td>\n      <td>2.7</td>\n      <td>0.1</td>\n      <td>2.7</td>\n      <td>2.7</td>\n      <td>2.7</td>\n      <td>2.7</td>\n    </tr>\n    <tr>\n      <th>43823</th>\n      <td>3.0</td>\n      <td>3.0</td>\n      <td>3.0</td>\n      <td>0.3</td>\n      <td>3.0</td>\n      <td>3.0</td>\n      <td>3.0</td>\n      <td>3.0</td>\n    </tr>\n  </tbody>\n</table>\n</div>"
     },
     "execution_count": 12,
     "metadata": {},
     "output_type": "execute_result"
    }
   ],
   "source": [
    "# Fetching and concatenating the data\n",
    "temp_ds = pd.concat([pd.read_csv(os.path.join(path, fileName), usecols= [\"Temprature\"]) for fileName in fileList], axis= 1)\n",
    "temp_ds.columns = [i.removesuffix('.csv') for i in fileList]\n",
    "temp_ds = temp_ds.add_suffix(\"_A_TEMP\")\n",
    "temp_ds.tail(2)"
   ],
   "metadata": {
    "collapsed": false
   }
  },
  {
   "cell_type": "markdown",
   "source": [
    "### PREPARING X AND Y PART"
   ],
   "metadata": {
    "collapsed": false
   }
  },
  {
   "cell_type": "code",
   "execution_count": 13,
   "outputs": [
    {
     "data": {
      "text/plain": "   Capital_A_TEMP  Capital_LOAD_LAG1  Capital_LOAD_LAG7  Central_A_TEMP  \\\n0           -13.9             1319.8             1280.8           -13.9   \n1           -14.2             1291.2             1230.8           -14.2   \n\n   Central_LOAD_LAG1  Central_LOAD_LAG7  Dunwoody_A_TEMP  Dunwoody_LOAD_LAG1  \\\n0             1935.8             1813.7            -13.9               604.8   \n1             1897.8             1737.4            -14.2               584.8   \n\n   Dunwoody_LOAD_LAG7  Genese_A_TEMP  ...  Hudson_LOAD_LAG7  \\\n0               643.8          -17.0  ...            1069.8   \n1               612.9          -17.3  ...            1020.4   \n\n   LongIsland_A_TEMP  LongIsland_LOAD_LAG1  LongIsland_LOAD_LAG7  \\\n0              -13.9                2173.5                2338.0   \n1              -14.2                2080.4                2164.1   \n\n   Milwood_A_TEMP  Milwood_LOAD_LAG1  Milwood_LOAD_LAG7  NYC_A_TEMP  \\\n0           -13.9              333.6              336.5       -13.9   \n1           -14.2              323.6              317.7       -14.2   \n\n   NYC_LOAD_LAG1  NYC_LOAD_LAG7  \n0         5194.9         5272.0  \n1         4967.4         5092.6  \n\n[2 rows x 24 columns]",
      "text/html": "<div>\n<style scoped>\n    .dataframe tbody tr th:only-of-type {\n        vertical-align: middle;\n    }\n\n    .dataframe tbody tr th {\n        vertical-align: top;\n    }\n\n    .dataframe thead th {\n        text-align: right;\n    }\n</style>\n<table border=\"1\" class=\"dataframe\">\n  <thead>\n    <tr style=\"text-align: right;\">\n      <th></th>\n      <th>Capital_A_TEMP</th>\n      <th>Capital_LOAD_LAG1</th>\n      <th>Capital_LOAD_LAG7</th>\n      <th>Central_A_TEMP</th>\n      <th>Central_LOAD_LAG1</th>\n      <th>Central_LOAD_LAG7</th>\n      <th>Dunwoody_A_TEMP</th>\n      <th>Dunwoody_LOAD_LAG1</th>\n      <th>Dunwoody_LOAD_LAG7</th>\n      <th>Genese_A_TEMP</th>\n      <th>...</th>\n      <th>Hudson_LOAD_LAG7</th>\n      <th>LongIsland_A_TEMP</th>\n      <th>LongIsland_LOAD_LAG1</th>\n      <th>LongIsland_LOAD_LAG7</th>\n      <th>Milwood_A_TEMP</th>\n      <th>Milwood_LOAD_LAG1</th>\n      <th>Milwood_LOAD_LAG7</th>\n      <th>NYC_A_TEMP</th>\n      <th>NYC_LOAD_LAG1</th>\n      <th>NYC_LOAD_LAG7</th>\n    </tr>\n  </thead>\n  <tbody>\n    <tr>\n      <th>0</th>\n      <td>-13.9</td>\n      <td>1319.8</td>\n      <td>1280.8</td>\n      <td>-13.9</td>\n      <td>1935.8</td>\n      <td>1813.7</td>\n      <td>-13.9</td>\n      <td>604.8</td>\n      <td>643.8</td>\n      <td>-17.0</td>\n      <td>...</td>\n      <td>1069.8</td>\n      <td>-13.9</td>\n      <td>2173.5</td>\n      <td>2338.0</td>\n      <td>-13.9</td>\n      <td>333.6</td>\n      <td>336.5</td>\n      <td>-13.9</td>\n      <td>5194.9</td>\n      <td>5272.0</td>\n    </tr>\n    <tr>\n      <th>1</th>\n      <td>-14.2</td>\n      <td>1291.2</td>\n      <td>1230.8</td>\n      <td>-14.2</td>\n      <td>1897.8</td>\n      <td>1737.4</td>\n      <td>-14.2</td>\n      <td>584.8</td>\n      <td>612.9</td>\n      <td>-17.3</td>\n      <td>...</td>\n      <td>1020.4</td>\n      <td>-14.2</td>\n      <td>2080.4</td>\n      <td>2164.1</td>\n      <td>-14.2</td>\n      <td>323.6</td>\n      <td>317.7</td>\n      <td>-14.2</td>\n      <td>4967.4</td>\n      <td>5092.6</td>\n    </tr>\n  </tbody>\n</table>\n<p>2 rows × 24 columns</p>\n</div>"
     },
     "execution_count": 13,
     "metadata": {},
     "output_type": "execute_result"
    }
   ],
   "source": [
    "X_continuous = pd.concat([load_lag_1, load_lag_7, temp_ds], axis=1)\n",
    "X_continuous = X_continuous.sort_index(axis=1)\n",
    "X_continuous = X_continuous.iloc[drop_idx:].reset_index(drop=True)\n",
    "X_continuous.head(2)"
   ],
   "metadata": {
    "collapsed": false
   }
  },
  {
   "cell_type": "code",
   "execution_count": 14,
   "outputs": [
    {
     "data": {
      "text/plain": "    0    1    2    3    4    5    6    7    8    9   ...   59   60   61   62  \\\n0  1.0  0.0  0.0  0.0  0.0  0.0  0.0  0.0  0.0  0.0  ...  0.0  0.0  0.0  0.0   \n1  1.0  0.0  0.0  0.0  0.0  0.0  0.0  0.0  0.0  0.0  ...  0.0  0.0  0.0  0.0   \n\n    63   64   65   66   67   68  \n0  0.0  0.0  0.0  0.0  0.0  0.0  \n1  0.0  0.0  0.0  0.0  0.0  0.0  \n\n[2 rows x 69 columns]",
      "text/html": "<div>\n<style scoped>\n    .dataframe tbody tr th:only-of-type {\n        vertical-align: middle;\n    }\n\n    .dataframe tbody tr th {\n        vertical-align: top;\n    }\n\n    .dataframe thead th {\n        text-align: right;\n    }\n</style>\n<table border=\"1\" class=\"dataframe\">\n  <thead>\n    <tr style=\"text-align: right;\">\n      <th></th>\n      <th>0</th>\n      <th>1</th>\n      <th>2</th>\n      <th>3</th>\n      <th>4</th>\n      <th>5</th>\n      <th>6</th>\n      <th>7</th>\n      <th>8</th>\n      <th>9</th>\n      <th>...</th>\n      <th>59</th>\n      <th>60</th>\n      <th>61</th>\n      <th>62</th>\n      <th>63</th>\n      <th>64</th>\n      <th>65</th>\n      <th>66</th>\n      <th>67</th>\n      <th>68</th>\n    </tr>\n  </thead>\n  <tbody>\n    <tr>\n      <th>0</th>\n      <td>1.0</td>\n      <td>0.0</td>\n      <td>0.0</td>\n      <td>0.0</td>\n      <td>0.0</td>\n      <td>0.0</td>\n      <td>0.0</td>\n      <td>0.0</td>\n      <td>0.0</td>\n      <td>0.0</td>\n      <td>...</td>\n      <td>0.0</td>\n      <td>0.0</td>\n      <td>0.0</td>\n      <td>0.0</td>\n      <td>0.0</td>\n      <td>0.0</td>\n      <td>0.0</td>\n      <td>0.0</td>\n      <td>0.0</td>\n      <td>0.0</td>\n    </tr>\n    <tr>\n      <th>1</th>\n      <td>1.0</td>\n      <td>0.0</td>\n      <td>0.0</td>\n      <td>0.0</td>\n      <td>0.0</td>\n      <td>0.0</td>\n      <td>0.0</td>\n      <td>0.0</td>\n      <td>0.0</td>\n      <td>0.0</td>\n      <td>...</td>\n      <td>0.0</td>\n      <td>0.0</td>\n      <td>0.0</td>\n      <td>0.0</td>\n      <td>0.0</td>\n      <td>0.0</td>\n      <td>0.0</td>\n      <td>0.0</td>\n      <td>0.0</td>\n      <td>0.0</td>\n    </tr>\n  </tbody>\n</table>\n<p>2 rows × 69 columns</p>\n</div>"
     },
     "execution_count": 14,
     "metadata": {},
     "output_type": "execute_result"
    }
   ],
   "source": [
    "X_categorical = pd.DataFrame(categorical_data)\n",
    "X_categorical = X_categorical.iloc[drop_idx:].reset_index(drop=True)\n",
    "X_categorical.head(2)"
   ],
   "metadata": {
    "collapsed": false
   }
  },
  {
   "cell_type": "code",
   "execution_count": 15,
   "outputs": [
    {
     "data": {
      "text/plain": "       Capital_LOAD  Central_LOAD  Dunwoody_LOAD  Genese_LOAD  Hudson_LOAD  \\\n43654        1280.9        1734.2          608.4       1049.6       1041.3   \n43655        1225.9        1677.7          579.8       1023.4        994.3   \n\n       LongIsland_LOAD  Milwood_LOAD  NYC_LOAD  \n43654           2201.8         326.5    5276.0  \n43655           2090.2         309.9    5063.4  ",
      "text/html": "<div>\n<style scoped>\n    .dataframe tbody tr th:only-of-type {\n        vertical-align: middle;\n    }\n\n    .dataframe tbody tr th {\n        vertical-align: top;\n    }\n\n    .dataframe thead th {\n        text-align: right;\n    }\n</style>\n<table border=\"1\" class=\"dataframe\">\n  <thead>\n    <tr style=\"text-align: right;\">\n      <th></th>\n      <th>Capital_LOAD</th>\n      <th>Central_LOAD</th>\n      <th>Dunwoody_LOAD</th>\n      <th>Genese_LOAD</th>\n      <th>Hudson_LOAD</th>\n      <th>LongIsland_LOAD</th>\n      <th>Milwood_LOAD</th>\n      <th>NYC_LOAD</th>\n    </tr>\n  </thead>\n  <tbody>\n    <tr>\n      <th>43654</th>\n      <td>1280.9</td>\n      <td>1734.2</td>\n      <td>608.4</td>\n      <td>1049.6</td>\n      <td>1041.3</td>\n      <td>2201.8</td>\n      <td>326.5</td>\n      <td>5276.0</td>\n    </tr>\n    <tr>\n      <th>43655</th>\n      <td>1225.9</td>\n      <td>1677.7</td>\n      <td>579.8</td>\n      <td>1023.4</td>\n      <td>994.3</td>\n      <td>2090.2</td>\n      <td>309.9</td>\n      <td>5063.4</td>\n    </tr>\n  </tbody>\n</table>\n</div>"
     },
     "execution_count": 15,
     "metadata": {},
     "output_type": "execute_result"
    }
   ],
   "source": [
    "Y = load_ds.copy()\n",
    "Y = Y.sort_index(axis=1)\n",
    "Y = Y.iloc[drop_idx:].reset_index(drop=True)\n",
    "Y.tail(2)"
   ],
   "metadata": {
    "collapsed": false
   }
  },
  {
   "cell_type": "code",
   "execution_count": 16,
   "outputs": [
    {
     "name": "stdout",
     "output_type": "stream",
     "text": [
      "Train samples:  35361 \n",
      "Valid samples:  3929 \n",
      "Test samples:  4365\n"
     ]
    }
   ],
   "source": [
    "### SPLITTING THE DATA INTO TRAINING AND TESTING\n",
    "# Setting the train-test split\n",
    "ratio = 0.1\n",
    "train_size, test_size = int(len(X_continuous)/24 * (1 - ratio) * 24), int(len(X_continuous)/24 * ratio * 24)\n",
    "train_size, valid_size = int(train_size/24 * (1 - ratio) * 24), int(train_size/24 * ratio * 24)\n",
    "\n",
    "print(\"Train samples: \", train_size, \"\\nValid samples: \", valid_size, \"\\nTest samples: \", test_size)"
   ],
   "metadata": {
    "collapsed": false
   }
  },
  {
   "cell_type": "code",
   "execution_count": 17,
   "outputs": [
    {
     "name": "stdout",
     "output_type": "stream",
     "text": [
      "Train split of continuous data: \n"
     ]
    },
    {
     "data": {
      "text/plain": "       Capital_A_TEMP  Capital_LOAD_LAG1  Capital_LOAD_LAG7  Central_A_TEMP  \\\n35359            -8.2        1609.900000        1462.500000            -8.2   \n35360            -8.1        1551.883887        1517.729708            -8.1   \n\n       Central_LOAD_LAG1  Central_LOAD_LAG7  Dunwoody_A_TEMP  \\\n35359        2230.800000        2039.100000             -8.2   \n35360        2209.768281        2069.039896             -8.1   \n\n       Dunwoody_LOAD_LAG1  Dunwoody_LOAD_LAG7  Genese_A_TEMP  ...  \\\n35359               739.1          597.737538           -4.7  ...   \n35360               757.4          559.581021           -4.7  ...   \n\n       Hudson_LOAD_LAG7  LongIsland_A_TEMP  LongIsland_LOAD_LAG1  \\\n35359            1069.7               -8.2           2411.400000   \n35360            1110.4               -8.1           2456.953696   \n\n       LongIsland_LOAD_LAG7  Milwood_A_TEMP  Milwood_LOAD_LAG1  \\\n35359           2075.200000            -8.2         358.644321   \n35360           2171.428346            -8.1         358.648730   \n\n       Milwood_LOAD_LAG7  NYC_A_TEMP  NYC_LOAD_LAG1  NYC_LOAD_LAG7  \n35359         328.400000        -8.2    6043.019968    5122.300000  \n35360         332.976303        -8.1    6087.334073    5072.039455  \n\n[2 rows x 24 columns]",
      "text/html": "<div>\n<style scoped>\n    .dataframe tbody tr th:only-of-type {\n        vertical-align: middle;\n    }\n\n    .dataframe tbody tr th {\n        vertical-align: top;\n    }\n\n    .dataframe thead th {\n        text-align: right;\n    }\n</style>\n<table border=\"1\" class=\"dataframe\">\n  <thead>\n    <tr style=\"text-align: right;\">\n      <th></th>\n      <th>Capital_A_TEMP</th>\n      <th>Capital_LOAD_LAG1</th>\n      <th>Capital_LOAD_LAG7</th>\n      <th>Central_A_TEMP</th>\n      <th>Central_LOAD_LAG1</th>\n      <th>Central_LOAD_LAG7</th>\n      <th>Dunwoody_A_TEMP</th>\n      <th>Dunwoody_LOAD_LAG1</th>\n      <th>Dunwoody_LOAD_LAG7</th>\n      <th>Genese_A_TEMP</th>\n      <th>...</th>\n      <th>Hudson_LOAD_LAG7</th>\n      <th>LongIsland_A_TEMP</th>\n      <th>LongIsland_LOAD_LAG1</th>\n      <th>LongIsland_LOAD_LAG7</th>\n      <th>Milwood_A_TEMP</th>\n      <th>Milwood_LOAD_LAG1</th>\n      <th>Milwood_LOAD_LAG7</th>\n      <th>NYC_A_TEMP</th>\n      <th>NYC_LOAD_LAG1</th>\n      <th>NYC_LOAD_LAG7</th>\n    </tr>\n  </thead>\n  <tbody>\n    <tr>\n      <th>35359</th>\n      <td>-8.2</td>\n      <td>1609.900000</td>\n      <td>1462.500000</td>\n      <td>-8.2</td>\n      <td>2230.800000</td>\n      <td>2039.100000</td>\n      <td>-8.2</td>\n      <td>739.1</td>\n      <td>597.737538</td>\n      <td>-4.7</td>\n      <td>...</td>\n      <td>1069.7</td>\n      <td>-8.2</td>\n      <td>2411.400000</td>\n      <td>2075.200000</td>\n      <td>-8.2</td>\n      <td>358.644321</td>\n      <td>328.400000</td>\n      <td>-8.2</td>\n      <td>6043.019968</td>\n      <td>5122.300000</td>\n    </tr>\n    <tr>\n      <th>35360</th>\n      <td>-8.1</td>\n      <td>1551.883887</td>\n      <td>1517.729708</td>\n      <td>-8.1</td>\n      <td>2209.768281</td>\n      <td>2069.039896</td>\n      <td>-8.1</td>\n      <td>757.4</td>\n      <td>559.581021</td>\n      <td>-4.7</td>\n      <td>...</td>\n      <td>1110.4</td>\n      <td>-8.1</td>\n      <td>2456.953696</td>\n      <td>2171.428346</td>\n      <td>-8.1</td>\n      <td>358.648730</td>\n      <td>332.976303</td>\n      <td>-8.1</td>\n      <td>6087.334073</td>\n      <td>5072.039455</td>\n    </tr>\n  </tbody>\n</table>\n<p>2 rows × 24 columns</p>\n</div>"
     },
     "metadata": {},
     "output_type": "display_data"
    },
    {
     "name": "stdout",
     "output_type": "stream",
     "text": [
      "Train split of categorical data: \n"
     ]
    },
    {
     "data": {
      "text/plain": "        0    1    2    3    4    5    6    7    8    9   ...   59   60   61  \\\n35359  1.0  0.0  0.0  0.0  0.0  0.0  0.0  0.0  0.0  0.0  ...  0.0  0.0  0.0   \n35360  1.0  0.0  0.0  0.0  0.0  0.0  0.0  0.0  0.0  0.0  ...  0.0  0.0  0.0   \n\n        62   63   64   65   66   67   68  \n35359  0.0  0.0  0.0  0.0  0.0  0.0  0.0  \n35360  0.0  0.0  0.0  0.0  0.0  0.0  0.0  \n\n[2 rows x 69 columns]",
      "text/html": "<div>\n<style scoped>\n    .dataframe tbody tr th:only-of-type {\n        vertical-align: middle;\n    }\n\n    .dataframe tbody tr th {\n        vertical-align: top;\n    }\n\n    .dataframe thead th {\n        text-align: right;\n    }\n</style>\n<table border=\"1\" class=\"dataframe\">\n  <thead>\n    <tr style=\"text-align: right;\">\n      <th></th>\n      <th>0</th>\n      <th>1</th>\n      <th>2</th>\n      <th>3</th>\n      <th>4</th>\n      <th>5</th>\n      <th>6</th>\n      <th>7</th>\n      <th>8</th>\n      <th>9</th>\n      <th>...</th>\n      <th>59</th>\n      <th>60</th>\n      <th>61</th>\n      <th>62</th>\n      <th>63</th>\n      <th>64</th>\n      <th>65</th>\n      <th>66</th>\n      <th>67</th>\n      <th>68</th>\n    </tr>\n  </thead>\n  <tbody>\n    <tr>\n      <th>35359</th>\n      <td>1.0</td>\n      <td>0.0</td>\n      <td>0.0</td>\n      <td>0.0</td>\n      <td>0.0</td>\n      <td>0.0</td>\n      <td>0.0</td>\n      <td>0.0</td>\n      <td>0.0</td>\n      <td>0.0</td>\n      <td>...</td>\n      <td>0.0</td>\n      <td>0.0</td>\n      <td>0.0</td>\n      <td>0.0</td>\n      <td>0.0</td>\n      <td>0.0</td>\n      <td>0.0</td>\n      <td>0.0</td>\n      <td>0.0</td>\n      <td>0.0</td>\n    </tr>\n    <tr>\n      <th>35360</th>\n      <td>1.0</td>\n      <td>0.0</td>\n      <td>0.0</td>\n      <td>0.0</td>\n      <td>0.0</td>\n      <td>0.0</td>\n      <td>0.0</td>\n      <td>0.0</td>\n      <td>0.0</td>\n      <td>0.0</td>\n      <td>...</td>\n      <td>0.0</td>\n      <td>0.0</td>\n      <td>0.0</td>\n      <td>0.0</td>\n      <td>0.0</td>\n      <td>0.0</td>\n      <td>0.0</td>\n      <td>0.0</td>\n      <td>0.0</td>\n      <td>0.0</td>\n    </tr>\n  </tbody>\n</table>\n<p>2 rows × 69 columns</p>\n</div>"
     },
     "metadata": {},
     "output_type": "display_data"
    },
    {
     "name": "stdout",
     "output_type": "stream",
     "text": [
      "Train split of target data Y: \n"
     ]
    },
    {
     "data": {
      "text/plain": "       Capital_LOAD  Central_LOAD  Dunwoody_LOAD  Genese_LOAD  Hudson_LOAD  \\\n35359   1450.600000   1952.500000     606.322500  1120.800000  1051.948679   \n35360   1471.782165   1979.880982     621.228851  1146.260457   993.072028   \n\n       LongIsland_LOAD  Milwood_LOAD     NYC_LOAD  \n35359      1870.848330    290.017089  4854.394199  \n35360      1725.749178    292.650045  4578.218924  ",
      "text/html": "<div>\n<style scoped>\n    .dataframe tbody tr th:only-of-type {\n        vertical-align: middle;\n    }\n\n    .dataframe tbody tr th {\n        vertical-align: top;\n    }\n\n    .dataframe thead th {\n        text-align: right;\n    }\n</style>\n<table border=\"1\" class=\"dataframe\">\n  <thead>\n    <tr style=\"text-align: right;\">\n      <th></th>\n      <th>Capital_LOAD</th>\n      <th>Central_LOAD</th>\n      <th>Dunwoody_LOAD</th>\n      <th>Genese_LOAD</th>\n      <th>Hudson_LOAD</th>\n      <th>LongIsland_LOAD</th>\n      <th>Milwood_LOAD</th>\n      <th>NYC_LOAD</th>\n    </tr>\n  </thead>\n  <tbody>\n    <tr>\n      <th>35359</th>\n      <td>1450.600000</td>\n      <td>1952.500000</td>\n      <td>606.322500</td>\n      <td>1120.800000</td>\n      <td>1051.948679</td>\n      <td>1870.848330</td>\n      <td>290.017089</td>\n      <td>4854.394199</td>\n    </tr>\n    <tr>\n      <th>35360</th>\n      <td>1471.782165</td>\n      <td>1979.880982</td>\n      <td>621.228851</td>\n      <td>1146.260457</td>\n      <td>993.072028</td>\n      <td>1725.749178</td>\n      <td>292.650045</td>\n      <td>4578.218924</td>\n    </tr>\n  </tbody>\n</table>\n</div>"
     },
     "metadata": {},
     "output_type": "display_data"
    }
   ],
   "source": [
    "# Splitting the continuous data into training and test split\n",
    "X_continuous_train, X_continuous_valid, X_continuous_test = X_continuous[:train_size], \\\n",
    "                                                            X_continuous[train_size:train_size+valid_size], \\\n",
    "                                                            X_continuous[train_size+valid_size:]\n",
    "print(\"Train split of continuous data: \")\n",
    "display(X_continuous_train.tail(2))\n",
    "\n",
    "# Splitting the categorical data into training and test split\n",
    "X_categorical_train, X_categorical_valid, X_categorical_test = X_categorical[:train_size], \\\n",
    "                                                               X_categorical[train_size:train_size+valid_size], \\\n",
    "                                                               X_categorical[train_size+valid_size:]\n",
    "print(\"Train split of categorical data: \")\n",
    "display(X_categorical_train.tail(2))\n",
    "\n",
    "# Splitting the target into training and test split\n",
    "Y_train, Y_valid, Y_test = Y[:train_size],  Y[train_size:train_size+valid_size], Y[train_size+valid_size:]\n",
    "print(\"Train split of target data Y: \")\n",
    "display(Y_train.tail(2))"
   ],
   "metadata": {
    "collapsed": false
   }
  },
  {
   "cell_type": "code",
   "execution_count": 18,
   "outputs": [
    {
     "name": "stdout",
     "output_type": "stream",
     "text": [
      "Shape for continuous variable: \n",
      "(35361, 24) (3929, 24) (4366, 24) \n",
      "\n",
      "Shape for categorical variable: \n",
      "(35361, 69) (3929, 69) (4366, 69) \n",
      "\n",
      "Shape for target variable: \n",
      "(35361, 8) (3929, 8) (4366, 8) \n",
      "\n",
      "Does it cover entire training set:  True\n"
     ]
    }
   ],
   "source": [
    "print(\"Shape for continuous variable: \")\n",
    "print(X_continuous_train.shape, X_continuous_valid.shape, X_continuous_test.shape, \"\\n\")\n",
    "print(\"Shape for categorical variable: \")\n",
    "print(X_categorical_train.shape, X_categorical_valid.shape, X_categorical_test.shape, \"\\n\")\n",
    "print(\"Shape for target variable: \")\n",
    "print(Y_train.shape, Y_valid.shape, Y_test.shape, \"\\n\")\n",
    "print(\"Does it cover entire training set: \", (X_continuous_train.shape[0] +\n",
    "                                              X_continuous_valid.shape[0] +\n",
    "                                              X_continuous_test.shape[0]) == len(X_continuous))"
   ],
   "metadata": {
    "collapsed": false
   }
  },
  {
   "cell_type": "markdown",
   "source": [
    "### SCALING THE DATA"
   ],
   "metadata": {
    "collapsed": false
   }
  },
  {
   "cell_type": "code",
   "execution_count": 19,
   "outputs": [],
   "source": [
    "# Scaling values using min-max scaler\n",
    "mm_scaler_X = MinMaxScaler()\n",
    "mm_scaler_Y = MinMaxScaler()"
   ],
   "metadata": {
    "collapsed": false
   }
  },
  {
   "cell_type": "code",
   "execution_count": 20,
   "outputs": [
    {
     "name": "stdout",
     "output_type": "stream",
     "text": [
      "Scaled continuous X train: \n"
     ]
    },
    {
     "data": {
      "text/plain": "array([[0.21300813, 0.33520194, 0.311464  , ..., 0.21300813, 0.24221165,\n        0.25254137],\n       [0.20813008, 0.31779412, 0.28103076, ..., 0.20813008, 0.21173159,\n        0.22850567],\n       [0.19837398, 0.30689902, 0.26137088, ..., 0.19837398, 0.19290764,\n        0.20397424],\n       ...,\n       [0.31707317, 0.47233416, 0.38243434, ..., 0.31707317, 0.29209176,\n        0.20576955],\n       [0.30569106, 0.51177564, 0.42205843, ..., 0.30569106, 0.3558413 ,\n        0.23248482],\n       [0.30731707, 0.47646327, 0.45567482, ..., 0.30731707, 0.36177843,\n        0.225751  ]])"
     },
     "execution_count": 20,
     "metadata": {},
     "output_type": "execute_result"
    }
   ],
   "source": [
    "# Scaling continuous X train part\n",
    "X_scaled_continuous_train = mm_scaler_X.fit_transform(X_continuous_train)\n",
    "\n",
    "# Using the fit_scaler to scale the X valid part\n",
    "X_scaled_continuous_valid = mm_scaler_X.transform(X_continuous_valid)\n",
    "\n",
    "# Using the fit_scaler to scale the X test part\n",
    "X_scaled_continuous_test = mm_scaler_X.transform(X_continuous_test)\n",
    "\n",
    "print(\"Scaled continuous X train: \")\n",
    "X_scaled_continuous_train"
   ],
   "metadata": {
    "collapsed": false
   }
  },
  {
   "cell_type": "code",
   "execution_count": 21,
   "outputs": [
    {
     "name": "stdout",
     "output_type": "stream",
     "text": [
      "Scaled continuous Y train: \n"
     ]
    },
    {
     "data": {
      "text/plain": "array([[0.46308245, 0.51993802, 0.34076098, ..., 0.36262366, 0.54602951,\n        0.31200093],\n       [0.46831697, 0.49175058, 0.31423863, ..., 0.34065789, 0.52856175,\n        0.27790346],\n       [0.43179707, 0.47997326, 0.29911036, ..., 0.32798533, 0.52568047,\n        0.25907951],\n       ...,\n       [0.39789443, 0.38541975, 0.24204423, ..., 0.22283736, 0.35856617,\n        0.18486894],\n       [0.41481532, 0.43024057, 0.26064099, ..., 0.22757492, 0.36832127,\n        0.19659126],\n       [0.42770816, 0.44552373, 0.27491361, ..., 0.19444379, 0.3730627 ,\n        0.15958977]])"
     },
     "execution_count": 21,
     "metadata": {},
     "output_type": "execute_result"
    }
   ],
   "source": [
    "# Scaling target Y train part\n",
    "Y_scaled_train = mm_scaler_Y.fit_transform(Y_train)\n",
    "\n",
    "# Using the fit_scaler to scale the Y valid part\n",
    "Y_scaled_valid = mm_scaler_Y.transform(Y_valid)\n",
    "\n",
    "# Using the fit_scaler to scale the Y test part\n",
    "Y_scaled_test = mm_scaler_Y.transform(Y_test)\n",
    "\n",
    "print(\"Scaled continuous Y train: \")\n",
    "Y_scaled_train"
   ],
   "metadata": {
    "collapsed": false
   }
  },
  {
   "cell_type": "code",
   "execution_count": 22,
   "outputs": [],
   "source": [
    "# Converting a multivariate dataset into slices of samples\n",
    "def split_data(calendar_data, x_data, y_data, n_steps, n_overlap):\n",
    "    calendar, x, y = list(), list(), list()\n",
    "    for i in range(0, len(x_data), n_steps-n_overlap):\n",
    "\n",
    "        # Finding the split index\n",
    "        end_idx = i + n_steps\n",
    "\n",
    "        # Break the loop at end of dataset\n",
    "        if end_idx > len(x_data):\n",
    "            break\n",
    "\n",
    "        # Appending the custom created samples with desired time-steps and features\n",
    "        sample_calendar, sample_x, sample_y = calendar_data[i:end_idx, :], \\\n",
    "                                              x_data[i:end_idx, :], \\\n",
    "                                              y_data[i:end_idx, :]\n",
    "        calendar.append(sample_calendar)\n",
    "        x.append(sample_x)\n",
    "        y.append(sample_y)\n",
    "\n",
    "    return np.array(calendar), np.array(x), np.array(y)"
   ],
   "metadata": {
    "collapsed": false
   }
  },
  {
   "cell_type": "code",
   "execution_count": 23,
   "outputs": [
    {
     "name": "stdout",
     "output_type": "stream",
     "text": [
      "Shape of the created samples for training:  (35338, 24, 8)\n",
      "Shape of the created samples for validation:  (163, 24, 8)\n",
      "Shape of the created samples for testing:  (181, 24, 8)\n"
     ]
    }
   ],
   "source": [
    "num_steps = 24\n",
    "train_num_overlap = 23\n",
    "test_valid_num_overlap = 0\n",
    "\n",
    "processed_data_train = split_data(calendar_data=X_categorical_train.to_numpy(),\n",
    "                            x_data=X_scaled_continuous_train,\n",
    "                            y_data=Y_scaled_train,\n",
    "                            n_steps=num_steps, n_overlap=train_num_overlap)\n",
    "\n",
    "processed_data_valid = split_data(calendar_data=X_categorical_valid.to_numpy(),\n",
    "                            x_data=X_scaled_continuous_valid,\n",
    "                            y_data=Y_scaled_valid,\n",
    "                            n_steps=num_steps, n_overlap=test_valid_num_overlap)\n",
    "\n",
    "processed_data_test = split_data(calendar_data=X_categorical_test.to_numpy(),\n",
    "                            x_data=X_scaled_continuous_test,\n",
    "                            y_data=Y_scaled_test,\n",
    "                            n_steps=num_steps, n_overlap=test_valid_num_overlap)\n",
    "\n",
    "print(\"Shape of the created samples for training: \", processed_data_train[2].shape)\n",
    "print(\"Shape of the created samples for validation: \", processed_data_valid[2].shape)\n",
    "print(\"Shape of the created samples for testing: \", processed_data_test[2].shape)"
   ],
   "metadata": {
    "collapsed": false
   }
  },
  {
   "cell_type": "code",
   "execution_count": 24,
   "outputs": [
    {
     "name": "stdout",
     "output_type": "stream",
     "text": [
      "First sample: \n",
      "\n"
     ]
    },
    {
     "data": {
      "text/plain": "array([[0.40813008, 0.39196104, 0.46610605, 0.40813008, 0.62558066,\n        0.44639485, 0.40813008, 0.2685222 , 0.35766398, 0.39384117,\n        0.52064508, 0.3058358 , 0.40813008, 0.34876004, 0.3421212 ,\n        0.40813008, 0.22895451, 0.35919506, 0.40813008, 0.46870483,\n        0.45842723, 0.40813008, 0.39063389, 0.21061898],\n       [0.4195122 , 0.33554859, 0.43387377, 0.4195122 , 0.56434876,\n        0.40220594, 0.4195122 , 0.234879  , 0.34641065, 0.39384117,\n        0.46029613, 0.27277469, 0.4195122 , 0.3665277 , 0.37525465,\n        0.4195122 , 0.19569501, 0.31448601, 0.4195122 , 0.46503859,\n        0.400626  , 0.4195122 , 0.37821513, 0.18739959],\n       [0.41463415, 0.31584012, 0.41374768, 0.41463415, 0.59938251,\n        0.36515344, 0.41463415, 0.20355983, 0.34033597, 0.39384117,\n        0.37733878, 0.24567794, 0.41463415, 0.25397908, 0.31078283,\n        0.41463415, 0.18752788, 0.31065825, 0.41463415, 0.47067036,\n        0.41939803, 0.41463415, 0.28862291, 0.17966068],\n       [0.40487805, 0.30689231, 0.38075786, 0.40487805, 0.56316015,\n        0.35952892, 0.40487805, 0.19648982, 0.33890834, 0.39384117,\n        0.45736628, 0.23163264, 0.40487805, 0.23344784, 0.3181374 ,\n        0.40487805, 0.17163013, 0.3021012 , 0.40487805, 0.44915237,\n        0.36533101, 0.40487805, 0.31197238, 0.17572798],\n       [0.41300813, 0.32386757, 0.30353723, 0.41300813, 0.47912316,\n        0.34657203, 0.41300813, 0.22274843, 0.33210497, 0.39384117,\n        0.36639834, 0.23398228, 0.41300813, 0.26986594, 0.27361957,\n        0.41300813, 0.21977042, 0.30002214, 0.41300813, 0.45535172,\n        0.36632309, 0.41300813, 0.32897185, 0.1912425 ],\n       [0.42439024, 0.36342765, 0.34314312, 0.42439024, 0.48169594,\n        0.39749503, 0.42439024, 0.25152146, 0.33614975, 0.39384117,\n        0.46032031, 0.26642902, 0.42439024, 0.34412294, 0.33677498,\n        0.42439024, 0.24969323, 0.30660899, 0.42439024, 0.48021714,\n        0.38970205, 0.42439024, 0.30627446, 0.2207828 ],\n       [0.43089431, 0.42407551, 0.41710566, 0.43089431, 0.58186134,\n        0.44388834, 0.43089431, 0.33992971, 0.34598646, 0.39384117,\n        0.44797386, 0.32257978, 0.43089431, 0.37215304, 0.36577168,\n        0.43089431, 0.3341126 , 0.33315361, 0.43089431, 0.50515134,\n        0.4459908 , 0.43089431, 0.38687303, 0.27203061],\n       [0.43414634, 0.5233297 , 0.51134958, 0.43414634, 0.62708324,\n        0.54397442, 0.43414634, 0.40736219, 0.38126091, 0.39384117,\n        0.5212949 , 0.40835943, 0.43414634, 0.45422015, 0.41664097,\n        0.43414634, 0.40853107, 0.37362937, 0.43414634, 0.51658035,\n        0.52105931, 0.43414634, 0.44322154, 0.34523246],\n       [0.43739837, 0.59881473, 0.56637289, 0.43739837, 0.68989991,\n        0.62152443, 0.43739837, 0.47289396, 0.42703041, 0.39384117,\n        0.59733691, 0.49324616, 0.43739837, 0.5166148 , 0.46422718,\n        0.43739837, 0.45263307, 0.42011825, 0.43739837, 0.58402641,\n        0.58438657, 0.43739837, 0.48270267, 0.38823458],\n       [0.44065041, 0.60447532, 0.56132097, 0.44065041, 0.68967664,\n        0.63045511, 0.44065041, 0.47796863, 0.42932837, 0.39384117,\n        0.59726581, 0.49488146, 0.44065041, 0.52295005, 0.46483634,\n        0.44065041, 0.45763359, 0.42068909, 0.44065041, 0.60851729,\n        0.58258577, 0.44065041, 0.46746934, 0.38914563],\n       [0.43739837, 0.58396331, 0.53867864, 0.43739837, 0.67343398,\n        0.60941221, 0.43739837, 0.46255311, 0.41324262, 0.39384117,\n        0.57373163, 0.46956977, 0.43739837, 0.51649297, 0.44814539,\n        0.43739837, 0.44320286, 0.40381518, 0.43739837, 0.60293481,\n        0.56547816, 0.43739837, 0.44556389, 0.37568081],\n       [0.40813008, 0.55231273, 0.51250604, 0.40813008, 0.64407439,\n        0.58451796, 0.40813008, 0.43756275, 0.39686962, 0.39384117,\n        0.54088332, 0.4485952 , 0.40813008, 0.4946851 , 0.43127171,\n        0.40813008, 0.42317793, 0.38707827, 0.40813008, 0.56925984,\n        0.54332831, 0.40813008, 0.41736146, 0.3578483 ],\n       [0.39674797, 0.49771548, 0.47769041, 0.39674797, 0.58831349,\n        0.55102793, 0.39674797, 0.39763561, 0.37666668, 0.39384117,\n        0.48741594, 0.41560469, 0.39674797, 0.44997287, 0.40245851,\n        0.39674797, 0.39032062, 0.36529517, 0.39674797, 0.51325494,\n        0.51829719, 0.39674797, 0.38271467, 0.33706827],\n       [0.39349593, 0.43800545, 0.43611859, 0.39349593, 0.50330464,\n        0.50536986, 0.39349593, 0.34583565, 0.34736762, 0.39384117,\n        0.4185909 , 0.37514865, 0.39349593, 0.39441762, 0.36804106,\n        0.39349593, 0.34184523, 0.33481253, 0.39349593, 0.44752572,\n        0.47669869, 0.39349593, 0.33523277, 0.31138463],\n       [0.37235772, 0.38511247, 0.3975901 , 0.37235772, 0.41952376,\n        0.46250263, 0.37235772, 0.29269521, 0.3061    , 0.39384117,\n        0.3582268 , 0.34144714, 0.37235772, 0.34611136, 0.32801935,\n        0.37235772, 0.29510519, 0.29905537, 0.37235772, 0.37927538,\n        0.43257908, 0.37235772, 0.27975236, 0.27684503],\n       [0.35447154, 0.35145329, 0.36934804, 0.35447154, 0.37643326,\n        0.42013774, 0.35447154, 0.25343831, 0.2674176 , 0.39384117,\n        0.31144284, 0.31058963, 0.35447154, 0.31199849, 0.2974396 ,\n        0.35447154, 0.26329821, 0.27019391, 0.35447154, 0.35064265,\n        0.38863954, 0.35447154, 0.2350572 , 0.24132739],\n       [0.35609756, 0.33270641, 0.35498355, 0.35609756, 0.35706486,\n        0.39066652, 0.35609756, 0.22902243, 0.2407995 , 0.39384117,\n        0.28933066, 0.28712655, 0.35609756, 0.30280019, 0.27715462,\n        0.35609756, 0.2461503 , 0.24962098, 0.35609756, 0.3185884 ,\n        0.38431762, 0.35609756, 0.20968172, 0.21309816],\n       [0.35447154, 0.32108091, 0.3476187 , 0.35447154, 0.33931514,\n        0.37849848, 0.35447154, 0.21695812, 0.22184129, 0.39384117,\n        0.27596382, 0.27439961, 0.35447154, 0.29372373, 0.26369222,\n        0.35447154, 0.23589808, 0.23630909, 0.35447154, 0.32993344,\n        0.37135186, 0.35447154, 0.19385888, 0.1937249 ],\n       [0.34308943, 0.32229824, 0.34786217, 0.34308943, 0.33406837,\n        0.37598672, 0.34308943, 0.21724536, 0.21102171, 0.39384117,\n        0.27482621, 0.2712712 , 0.34308943, 0.28738849, 0.25473759,\n        0.34308943, 0.2311944 , 0.22959606, 0.34308943, 0.33083384,\n        0.37873514, 0.34308943, 0.18523068, 0.18240374],\n       [0.33658537, 0.33970606, 0.35461835, 0.33658537, 0.36426521,\n        0.37927991, 0.33658537, 0.22356477, 0.21312818, 0.39384117,\n        0.29878699, 0.27631932, 0.33658537, 0.29884066, 0.26149925,\n        0.33658537, 0.23813576, 0.23076056, 0.33658537, 0.32795256,\n        0.36973114, 0.33658537, 0.19081758, 0.17955   ],\n       [0.32357724, 0.39077305, 0.36928718, 0.32357724, 0.41595149,\n        0.39998791, 0.32357724, 0.25966196, 0.2216498 , 0.39384117,\n        0.34663746, 0.29558748, 0.32357724, 0.32637463, 0.2713067 ,\n        0.32357724, 0.26558155, 0.23882076, 0.32357724, 0.38413754,\n        0.38845946, 0.32357724, 0.22537057, 0.18789685],\n       [0.31707317, 0.47233416, 0.38243434, 0.31707317, 0.52551969,\n        0.44843681, 0.31707317, 0.33022864, 0.2443422 , 0.39384117,\n        0.42861604, 0.32416978, 0.31707317, 0.37041678, 0.29786601,\n        0.31707317, 0.31670562, 0.25526084, 0.31707317, 0.45472892,\n        0.40214555, 0.31707317, 0.29209176, 0.20576955],\n       [0.30569106, 0.51177564, 0.42205843, 0.30569106, 0.58557847,\n        0.47857784, 0.30569106, 0.38777351, 0.25242102, 0.39384117,\n        0.48194122, 0.3600754 , 0.30569106, 0.41275329, 0.32503448,\n        0.30569106, 0.35100144, 0.27423542, 0.30569106, 0.49190523,\n        0.43744124, 0.30569106, 0.3558413 , 0.23248482],\n       [0.30731707, 0.47646327, 0.45567482, 0.30731707, 0.57383926,\n        0.4952893 , 0.30731707, 0.40529549, 0.21588671, 0.39384117,\n        0.4757351 , 0.32290399, 0.30731707, 0.36059857, 0.34982722,\n        0.30731707, 0.36140291, 0.29620766, 0.30731707, 0.49191317,\n        0.44568225, 0.30731707, 0.36177843, 0.225751  ]])"
     },
     "execution_count": 24,
     "metadata": {},
     "output_type": "execute_result"
    }
   ],
   "source": [
    "## Sample check for sanity\n",
    "print(\"First sample: \\n\")\n",
    "processed_data_train[1][-1]"
   ],
   "metadata": {
    "collapsed": false
   }
  },
  {
   "cell_type": "code",
   "execution_count": 25,
   "outputs": [
    {
     "name": "stdout",
     "output_type": "stream",
     "text": [
      "Second sample: \n",
      "\n"
     ]
    },
    {
     "data": {
      "text/plain": "array([[0.20813008, 0.31779412, 0.28103076, 0.20813008, 0.39970883,\n        0.31017882, 0.20813008, 0.24003351, 0.26693885, 0.18962723,\n        0.33575912, 0.27390191, 0.20813008, 0.298597  , 0.29500297,\n        0.20813008, 0.27542276, 0.29453435, 0.20813008, 0.4287974 ,\n        0.41817267, 0.20813008, 0.21173159, 0.22850567],\n       [0.19837398, 0.30689902, 0.26137088, 0.19837398, 0.38396851,\n        0.28969409, 0.19837398, 0.22519249, 0.24300172, 0.18800648,\n        0.32701379, 0.25278514, 0.19837398, 0.2886068 , 0.27209861,\n        0.19837398, 0.26485088, 0.27076474, 0.19837398, 0.41817267,\n        0.39890411, 0.19837398, 0.19290764, 0.20397424],\n       [0.18536585, 0.30951628, 0.25552769, 0.18536585, 0.38335453,\n        0.27998198, 0.18536585, 0.20096811, 0.22586273, 0.18800648,\n        0.32630279, 0.2425467 , 0.18536585, 0.28507368, 0.25948903,\n        0.18536585, 0.26115187, 0.2546215 , 0.18536585, 0.41168979,\n        0.38737898, 0.18536585, 0.18679823, 0.18547184],\n       [0.17886179, 0.33136735, 0.25674502, 0.17886179, 0.40852787,\n        0.28282863, 0.17886179, 0.21561764, 0.21963908, 0.18962723,\n        0.34493105, 0.24546181, 0.17886179, 0.29670861, 0.2566869 ,\n        0.17886179, 0.26738539, 0.24994065, 0.17886179, 0.42357507,\n        0.38341722, 0.17886179, 0.19147407, 0.17570482],\n       [0.16260163, 0.38292127, 0.26934439, 0.16260163, 0.45329287,\n        0.300076  , 0.16260163, 0.25870448, 0.22825644, 0.18638574,\n        0.39662093, 0.25925526, 0.16260163, 0.33478101, 0.2655197 ,\n        0.16260163, 0.29686336, 0.2539365 , 0.16260163, 0.46337277,\n        0.39368178, 0.16260163, 0.22405759, 0.17870594],\n       [0.1495935 , 0.48651605, 0.28705654, 0.1495935 , 0.579327  ,\n        0.32625403, 0.1495935 , 0.33434582, 0.24032076, 0.18314425,\n        0.49139755, 0.27631932, 0.1495935 , 0.40142294, 0.28190606,\n        0.1495935 , 0.35737197, 0.26208804, 0.1495935 , 0.54386855,\n        0.40682763, 0.1495935 , 0.29785283, 0.19079078],\n       [0.14471545, 0.54172196, 0.30476869, 0.14471545, 0.65328414,\n        0.3438363 , 0.14471545, 0.40615723, 0.23811854, 0.18962723,\n        0.55965378, 0.28989946, 0.14471545, 0.44881547, 0.28641383,\n        0.14471545, 0.3986759 , 0.26056919, 0.14471545, 0.58906865,\n        0.41132963, 0.14471545, 0.37688662, 0.19845434],\n       [0.1300813 , 0.53771755, 0.33188842, 0.1300813 , 0.63925038,\n        0.34904228, 0.1300813 , 0.4085112 , 0.19970556, 0.19286872,\n        0.56337286, 0.2920354 , 0.1300813 , 0.4263168 , 0.29673934,\n        0.1300813 , 0.39758636, 0.23074225, 0.1300813 , 0.55134698,\n        0.39335406, 0.1300813 , 0.4154949 , 0.1664444 ],\n       [0.11869919, 0.5312171 , 0.35469666, 0.11869919, 0.61950169,\n        0.36886913, 0.11869919, 0.42213109, 0.1856867 , 0.19611021,\n        0.561105  , 0.25716908, 0.11869919, 0.40478625, 0.27639977,\n        0.11869919, 0.38793096, 0.2178464 , 0.11869919, 0.52670284,\n        0.43813553, 0.11869919, 0.43937131, 0.15091597],\n       [0.10731707, 0.53092606, 0.35959858, 0.10731707, 0.62676581,\n        0.36404635, 0.10731707, 0.42389497, 0.18541227, 0.19124797,\n        0.55364412, 0.32659364, 0.10731707, 0.3955228 , 0.2730556 ,\n        0.10731707, 0.34627311, 0.21451642, 0.10731707, 0.52625924,\n        0.44482845, 0.10731707, 0.43816644, 0.14896343],\n       [0.10081301, 0.52139206, 0.36645653, 0.10081301, 0.60726785,\n        0.38406129, 0.10081301, 0.39320108, 0.18922166, 0.19286872,\n        0.52876842, 0.34154132, 0.10081301, 0.38766352, 0.27508936,\n        0.10081301, 0.33626686, 0.21767258, 0.10081301, 0.52492444,\n        0.42106576, 0.10081301, 0.44582354, 0.15483272],\n       [0.09918699, 0.51693243, 0.38999672, 0.09918699, 0.58062042,\n        0.37308166, 0.09918699, 0.39618354, 0.22714701, 0.20421394,\n        0.49649746, 0.31068425, 0.09918699, 0.3813023 , 0.30363969,\n        0.09918699, 0.35016556, 0.22175526, 0.09918699, 0.52057152,\n        0.41695277, 0.09918699, 0.42812217, 0.16427623],\n       [0.14634146, 0.49628649, 0.36543683, 0.14634146, 0.5948131 ,\n        0.40217496, 0.14634146, 0.41484028, 0.20797578, 0.20745543,\n        0.49512597, 0.26490085, 0.14634146, 0.38246689, 0.26941897,\n        0.14634146, 0.34429185, 0.2319917 , 0.14634146, 0.52664764,\n        0.43823717, 0.14634146, 0.44822625, 0.17750404],\n       [0.2195122 , 0.48645379, 0.37073671, 0.2195122 , 0.60470739,\n        0.32998656, 0.2195122 , 0.40217126, 0.23248544, 0.22204214,\n        0.48000214, 0.27730582, 0.2195122 , 0.39074759, 0.31299306,\n        0.2195122 , 0.3680019 , 0.25927269, 0.2195122 , 0.53652858,\n        0.45078384, 0.2195122 , 0.48316579, 0.20202751],\n       [0.2504065 , 0.52782058, 0.36435312, 0.2504065 , 0.62531467,\n        0.35122659, 0.2504065 , 0.43087818, 0.26942588, 0.24311183,\n        0.54222703, 0.31569083, 0.2504065 , 0.4276502 , 0.33619132,\n        0.2504065 , 0.40527163, 0.32190172, 0.2504065 , 0.57592046,\n        0.45477219, 0.2504065 , 0.48167937, 0.24199955],\n       [0.28130081, 0.57385947, 0.43709245, 0.28130081, 0.68727408,\n        0.44662069, 0.28130081, 0.48824879, 0.34439942, 0.26742301,\n        0.59483816, 0.40991667, 0.28130081, 0.50357881, 0.40099653,\n        0.28130081, 0.48238503, 0.37534188, 0.28130081, 0.65381131,\n        0.5127147 , 0.28130081, 0.50889856, 0.31106309],\n       [0.30243902, 0.64622974, 0.50264567, 0.30243902, 0.75967079,\n        0.54254379, 0.30243902, 0.53991793, 0.40663597, 0.28849271,\n        0.66594864, 0.48755814, 0.30243902, 0.57753064, 0.47476562,\n        0.30243902, 0.53965129, 0.45016705, 0.30243902, 0.72971117,\n        0.58114513, 0.30243902, 0.53254259, 0.34975601],\n       [0.31869919, 0.64927306, 0.49534169, 0.31869919, 0.76374541,\n        0.53149208, 0.31869919, 0.54824805, 0.41132765, 0.30794165,\n        0.66801055, 0.47291149, 0.31869919, 0.59263777, 0.47488745,\n        0.31869919, 0.54782566, 0.45331807, 0.31869919, 0.76392639,\n        0.58888857, 0.31869919, 0.5133703 , 0.35121638],\n       [0.32357724, 0.6361259 , 0.47489055, 0.32357724, 0.74035821,\n        0.5108399 , 0.32357724, 0.53723697, 0.40089106, 0.31280389,\n        0.63765075, 0.45421212, 0.32357724, 0.58142926, 0.4597194 ,\n        0.32357724, 0.53339493, 0.44105651, 0.32357724, 0.76212559,\n        0.5750224 , 0.32357724, 0.49275104, 0.34329826],\n       [0.31869919, 0.60325799, 0.44293564, 0.31869919, 0.70346337,\n        0.47969417, 0.31869919, 0.50698044, 0.3885395 , 0.30794165,\n        0.60167402, 0.42776283, 0.31869919, 0.56077879, 0.44004359,\n        0.31869919, 0.50921432, 0.42687695, 0.31869919, 0.72700997,\n        0.556114  , 0.31869919, 0.46665207, 0.3300746 ],\n       [0.30081301, 0.54525222, 0.39972042, 0.30081301, 0.63112491,\n        0.43716184, 0.30081301, 0.45929766, 0.3686238 , 0.30307942,\n        0.54081222, 0.39107511, 0.30081301, 0.51557923, 0.40842827,\n        0.30081301, 0.46957548, 0.40998021, 0.30081301, 0.66974452,\n        0.52496015, 0.30081301, 0.43039754, 0.31285839],\n       [0.28943089, 0.4664301 , 0.34153205, 0.28943089, 0.5308781 ,\n        0.37526111, 0.28943089, 0.388348  , 0.33022864, 0.2917342 ,\n        0.45335892, 0.33732332, 0.28943089, 0.44698799, 0.3593301 ,\n        0.28943089, 0.40877003, 0.35707513, 0.28943089, 0.58798817,\n        0.46895525, 0.28943089, 0.37507791, 0.28373152],\n       [0.28780488, 0.40258115, 0.28656961, 0.28780488, 0.45932107,\n        0.30688564, 0.28780488, 0.3293669 , 0.28130113, 0.28687196,\n        0.39349252, 0.29103707, 0.28780488, 0.3839401 , 0.30377485,\n        0.28780488, 0.3491291 , 0.30729824, 0.28780488, 0.51217446,\n        0.42285475, 0.28780488, 0.3140374 , 0.24398016],\n       [0.28617886, 0.35948767, 0.24974538, 0.28617886, 0.42064009,\n        0.27417704, 0.28617886, 0.28302461, 0.23831004, 0.28687196,\n        0.35260988, 0.26039286, 0.28617886, 0.34184725, 0.26089009,\n        0.28617886, 0.31113426, 0.26599255, 0.28617886, 0.47705885,\n        0.36901082, 0.28617886, 0.26208062, 0.20524704]])"
     },
     "execution_count": 25,
     "metadata": {},
     "output_type": "execute_result"
    }
   ],
   "source": [
    "print(\"Second sample: \\n\")\n",
    "processed_data_train[1][1]"
   ],
   "metadata": {
    "collapsed": false
   }
  },
  {
   "cell_type": "code",
   "execution_count": 26,
   "outputs": [],
   "source": [
    "# Dividing the sampled data - training\n",
    "categorical_samples_training = torch.Tensor(processed_data_train[0])\n",
    "continuous_samples_training = torch.Tensor(processed_data_train[1])\n",
    "target_samples_training = torch.Tensor(processed_data_train[2])\n",
    "\n",
    "# Dividing the sampled data - validation\n",
    "categorical_samples_validation = torch.Tensor(processed_data_valid[0])\n",
    "continuous_samples_validation = torch.Tensor(processed_data_valid[1])\n",
    "target_samples_validation = torch.Tensor(processed_data_valid[2])\n",
    "\n",
    "# Dividing the sampled data - testing\n",
    "categorical_samples_testing = torch.Tensor(processed_data_test[0])\n",
    "continuous_samples_testing = torch.Tensor(processed_data_test[1])\n",
    "target_samples_testing = torch.Tensor(processed_data_test[2])"
   ],
   "metadata": {
    "collapsed": false
   }
  },
  {
   "cell_type": "code",
   "execution_count": 27,
   "outputs": [
    {
     "name": "stdout",
     "output_type": "stream",
     "text": [
      "Shape of categorical samples - training:  torch.Size([35338, 24, 69])\n",
      "Shape of continuous samples - training:  torch.Size([35338, 24, 24])\n",
      "Shape of target samples - training:  torch.Size([35338, 24, 8])\n",
      "\n",
      "\n",
      "Shape of categorical samples - validation:  torch.Size([163, 24, 69])\n",
      "Shape of continuous samples - validation:  torch.Size([163, 24, 24])\n",
      "Shape of target samples - validation:  torch.Size([163, 24, 8])\n",
      "\n",
      "\n",
      "Shape of categorical samples - testing:  torch.Size([181, 24, 69])\n",
      "Shape of continuous samples - testing:  torch.Size([181, 24, 24])\n",
      "Shape of target samples - testing:  torch.Size([181, 24, 8])\n"
     ]
    }
   ],
   "source": [
    "print(\"Shape of categorical samples - training: \", categorical_samples_training.shape)\n",
    "print(\"Shape of continuous samples - training: \", continuous_samples_training.shape)\n",
    "print(\"Shape of target samples - training: \", target_samples_training.shape)\n",
    "print(\"\\n\")\n",
    "print(\"Shape of categorical samples - validation: \", categorical_samples_validation.shape)\n",
    "print(\"Shape of continuous samples - validation: \", continuous_samples_validation.shape)\n",
    "print(\"Shape of target samples - validation: \", target_samples_validation.shape)\n",
    "print(\"\\n\")\n",
    "print(\"Shape of categorical samples - testing: \", categorical_samples_testing.shape)\n",
    "print(\"Shape of continuous samples - testing: \", continuous_samples_testing.shape)\n",
    "print(\"Shape of target samples - testing: \", target_samples_testing.shape)"
   ],
   "metadata": {
    "collapsed": false
   }
  },
  {
   "cell_type": "markdown",
   "source": [
    "### CREATING DATALOADER"
   ],
   "metadata": {
    "collapsed": false
   }
  },
  {
   "cell_type": "code",
   "execution_count": 28,
   "outputs": [],
   "source": [
    "BATCH_SIZE = 64"
   ],
   "metadata": {
    "collapsed": false
   }
  },
  {
   "cell_type": "code",
   "execution_count": 29,
   "outputs": [],
   "source": [
    "class TimeSeriesLoader(Dataset):\n",
    "    def __init__(self, categorical, continuous, target):\n",
    "        self.categorical, self.continuous, self.target = categorical, continuous, target\n",
    "\n",
    "    def __len__(self):\n",
    "        return len(self.categorical)\n",
    "\n",
    "    def __getitem__(self, idx):\n",
    "        return self.categorical[idx], self.continuous[idx], self.target[idx]"
   ],
   "metadata": {
    "collapsed": false
   }
  },
  {
   "cell_type": "code",
   "execution_count": 30,
   "outputs": [],
   "source": [
    "train_dataset = TimeSeriesLoader(categorical_samples_training,\n",
    "                                 continuous_samples_training,\n",
    "                                 target_samples_training)\n",
    "\n",
    "valid_dataset = TimeSeriesLoader(categorical_samples_validation,\n",
    "                                 continuous_samples_validation,\n",
    "                                 target_samples_validation)\n",
    "\n",
    "test_dataset = TimeSeriesLoader(categorical_samples_testing,\n",
    "                                continuous_samples_testing,\n",
    "                                target_samples_testing)"
   ],
   "metadata": {
    "collapsed": false
   }
  },
  {
   "cell_type": "code",
   "execution_count": 31,
   "outputs": [],
   "source": [
    "train_dataloader = DataLoader(train_dataset, batch_size=BATCH_SIZE, shuffle=True, drop_last=False)\n",
    "\n",
    "valid_dataloader = DataLoader(valid_dataset, batch_size=BATCH_SIZE, shuffle=False, drop_last=False)\n",
    "\n",
    "test_dataloader = DataLoader(test_dataset, batch_size=BATCH_SIZE, shuffle=False, drop_last=False)"
   ],
   "metadata": {
    "collapsed": false
   }
  },
  {
   "cell_type": "code",
   "execution_count": 32,
   "outputs": [
    {
     "name": "stdout",
     "output_type": "stream",
     "text": [
      "Number of batches in train dataloader:  553\n",
      "Number of batches in valid dataloader:  3\n",
      "Number of batches in test dataloader:  3\n"
     ]
    }
   ],
   "source": [
    "print(\"Number of batches in train dataloader: \", len(train_dataloader))\n",
    "print(\"Number of batches in valid dataloader: \", len(valid_dataloader))\n",
    "print(\"Number of batches in test dataloader: \", len(test_dataloader))"
   ],
   "metadata": {
    "collapsed": false
   }
  },
  {
   "cell_type": "code",
   "execution_count": 33,
   "outputs": [
    {
     "name": "stdout",
     "output_type": "stream",
     "text": [
      "Shape of categorical variables:  torch.Size([35338, 24, 69])\n",
      "Shape of continuous variables:  torch.Size([35338, 24, 24])\n",
      "Shape of target variables:  torch.Size([35338, 24, 8])\n"
     ]
    }
   ],
   "source": [
    "categorical_var_shape = train_dataloader.dataset.categorical.shape\n",
    "continuous_var_shape = train_dataloader.dataset.continuous.shape\n",
    "target_var_shape = train_dataloader.dataset.target.shape\n",
    "\n",
    "print(\"Shape of categorical variables: \", categorical_var_shape)\n",
    "print(\"Shape of continuous variables: \", continuous_var_shape)\n",
    "print(\"Shape of target variables: \", target_var_shape)"
   ],
   "metadata": {
    "collapsed": false
   }
  },
  {
   "cell_type": "code",
   "execution_count": 34,
   "outputs": [
    {
     "name": "stdout",
     "output_type": "stream",
     "text": [
      "Number of zones:  8\n",
      "Number of features per zone:  3\n"
     ]
    }
   ],
   "source": [
    "# Specifying number of zones and features per zone\n",
    "num_zones = target_var_shape[2]\n",
    "num_zone_features = int(continuous_var_shape[2] / target_var_shape[2])\n",
    "print(\"Number of zones: \", num_zones)\n",
    "print(\"Number of features per zone: \", num_zone_features)"
   ],
   "metadata": {
    "collapsed": false
   }
  },
  {
   "cell_type": "markdown",
   "source": [
    "## DEFINING MODEL ARCHITECTURE"
   ],
   "metadata": {
    "collapsed": false
   }
  },
  {
   "cell_type": "code",
   "execution_count": 35,
   "outputs": [],
   "source": [
    "args = easydict.EasyDict(\n",
    "        {\n",
    "            \"device\": torch.device(\"cuda\")\n",
    "            if torch.cuda.is_available()\n",
    "            else torch.device(\"cpu\"),\n",
    "            \"input_size\": 3,\n",
    "            \"hidden_size\": 2048,\n",
    "            \"latent_size\": 1024,\n",
    "            \"output_size\": 3,\n",
    "            \"learning_rate\": 0.001,\n",
    "            \"max_iter\": 1000,\n",
    "        }\n",
    "    )\n",
    "\n",
    "input_size = args.input_size\n",
    "hidden_size = args.hidden_size\n",
    "latent_size = args.latent_size\n",
    "output_size = args.output_size"
   ],
   "metadata": {
    "collapsed": false
   }
  },
  {
   "cell_type": "code",
   "execution_count": 36,
   "outputs": [],
   "source": [
    "def init_weights(model):\n",
    "    if isinstance(model, nn.Linear):\n",
    "        torch.nn.init.kaiming_uniform_(model.weight, nonlinearity='relu')\n",
    "        model.bias.data.fill_(0.01)\n",
    "\n",
    "def save_checkpoint(model, filename):\n",
    "    torch.save(model.state_dict(), filename)\n",
    "\n",
    "def load_from_checkpoint(model, filename):\n",
    "    model.load_state_dict(torch.load(filename))\n",
    "    return model"
   ],
   "metadata": {
    "collapsed": false
   }
  },
  {
   "cell_type": "code",
   "execution_count": 37,
   "outputs": [],
   "source": [
    "# Define LSTM-based VAE model\n",
    "vae_lstm_1 = VAE_LSTM(input_size, hidden_size, latent_size, output_size, device=args.device).to(args.device).apply(init_weights)\n",
    "vae_lstm_2 = VAE_LSTM(input_size, hidden_size, latent_size, output_size, device=args.device).to(args.device).apply(init_weights)\n",
    "vae_lstm_3 = VAE_LSTM(input_size, hidden_size, latent_size, output_size, device=args.device).to(args.device).apply(init_weights)\n",
    "vae_lstm_4 = VAE_LSTM(input_size, hidden_size, latent_size, output_size, device=args.device).to(args.device).apply(init_weights)\n",
    "vae_lstm_5 = VAE_LSTM(input_size, hidden_size, latent_size, output_size, device=args.device).to(args.device).apply(init_weights)\n",
    "vae_lstm_6 = VAE_LSTM(input_size, hidden_size, latent_size, output_size, device=args.device).to(args.device).apply(init_weights)\n",
    "vae_lstm_7 = VAE_LSTM(input_size, hidden_size, latent_size, output_size, device=args.device).to(args.device).apply(init_weights)\n",
    "vae_lstm_8 = VAE_LSTM(input_size, hidden_size, latent_size, output_size, device=args.device).to(args.device).apply(init_weights)"
   ],
   "metadata": {
    "collapsed": false
   }
  },
  {
   "cell_type": "code",
   "execution_count": 38,
   "outputs": [],
   "source": [
    "# Defining optimizers\n",
    "opt = torch.optim.Adam(list(vae_lstm_1.parameters()) +\n",
    "                       list(vae_lstm_2.parameters()) +\n",
    "                       list(vae_lstm_3.parameters()) +\n",
    "                       list(vae_lstm_4.parameters()) +\n",
    "                       list(vae_lstm_5.parameters()) +\n",
    "                       list(vae_lstm_6.parameters()) +\n",
    "                       list(vae_lstm_7.parameters()) +\n",
    "                       list(vae_lstm_8.parameters()),\n",
    "                       lr=args.learning_rate)"
   ],
   "metadata": {
    "collapsed": false
   }
  },
  {
   "cell_type": "code",
   "execution_count": 39,
   "outputs": [],
   "source": [
    "def train(*models, optimizer, train_loader):\n",
    "\n",
    "    model_1 = models[0]\n",
    "    model_2 = models[1]\n",
    "    model_3 = models[2]\n",
    "    model_4 = models[3]\n",
    "    model_5 = models[4]\n",
    "    model_6 = models[5]\n",
    "    model_7 = models[6]\n",
    "    model_8 = models[7]\n",
    "\n",
    "    model_1.train()\n",
    "    model_2.train()\n",
    "    model_3.train()\n",
    "    model_4.train()\n",
    "    model_5.train()\n",
    "    model_6.train()\n",
    "    model_7.train()\n",
    "    model_8.train()\n",
    "\n",
    "    # Resetting the calculated gradients\n",
    "    optimizer.zero_grad()\n",
    "\n",
    "    train_iterator = tqdm(\n",
    "        enumerate(train_loader), total=len(train_loader), desc=\"training\"\n",
    "    )\n",
    "\n",
    "    for i, (categorical_var, continuous_var, target_var) in train_iterator:\n",
    "\n",
    "        zone_1 = continuous_var[:, :, 0:3].to(device)\n",
    "        zone_2 = continuous_var[:, :, 3:6].to(device)\n",
    "        zone_3 = continuous_var[:, :, 6:9].to(device)\n",
    "        zone_4 = continuous_var[:, :, 9:12].to(device)\n",
    "        zone_5 = continuous_var[:, :, 12:15].to(device)\n",
    "        zone_6 = continuous_var[:, :, 15:18].to(device)\n",
    "        zone_7 = continuous_var[:, :, 18:21].to(device)\n",
    "        zone_8 = continuous_var[:, :, 21:24].to(device)\n",
    "\n",
    "        m_loss_1, recon_x_1, info_1 = model_1(zone_1)\n",
    "        m_loss_2, recon_x_2, info_2 = model_2(zone_2)\n",
    "        m_loss_3, recon_x_3, info_3 = model_3(zone_3)\n",
    "        m_loss_4, recon_x_4, info_4 = model_4(zone_4)\n",
    "        m_loss_5, recon_x_5, info_5 = model_5(zone_5)\n",
    "        m_loss_6, recon_x_6, info_6 = model_6(zone_6)\n",
    "        m_loss_7, recon_x_7, info_7 = model_7(zone_7)\n",
    "        m_loss_8, recon_x_8, info_8 = model_8(zone_8)\n",
    "\n",
    "        # Resetting the calculated gradients\n",
    "        optimizer.zero_grad()\n",
    "\n",
    "        # Calculating the gradients for backprop\n",
    "        m_loss_1.mean().backward()\n",
    "        m_loss_2.mean().backward()\n",
    "        m_loss_3.mean().backward()\n",
    "        m_loss_4.mean().backward()\n",
    "        m_loss_5.mean().backward()\n",
    "        m_loss_6.mean().backward()\n",
    "        m_loss_7.mean().backward()\n",
    "        m_loss_8.mean().backward()\n",
    "\n",
    "        # Performing backprop step\n",
    "        optimizer.step()\n",
    "\n",
    "        train_iterator.set_postfix({\"train_loss_1\": float(m_loss_1.mean()),\n",
    "                                    \"train_loss_2\": float(m_loss_2.mean()),\n",
    "                                    \"train_loss_3\": float(m_loss_3.mean()),\n",
    "                                    \"train_loss_4\": float(m_loss_4.mean()),\n",
    "                                    \"train_loss_5\": float(m_loss_5.mean()),\n",
    "                                    \"train_loss_6\": float(m_loss_6.mean()),\n",
    "                                    \"train_loss_7\": float(m_loss_7.mean()),\n",
    "                                    \"train_loss_8\": float(m_loss_8.mean())})\n",
    "\n",
    "    writer.add_scalar(\"train_loss_1\", float(m_loss_1.mean()), epoch)\n",
    "    writer.add_scalar(\"train_loss_2\", float(m_loss_2.mean()), epoch)\n",
    "    writer.add_scalar(\"train_loss_3\", float(m_loss_3.mean()), epoch)\n",
    "    writer.add_scalar(\"train_loss_4\", float(m_loss_4.mean()), epoch)\n",
    "    writer.add_scalar(\"train_loss_5\", float(m_loss_5.mean()), epoch)\n",
    "    writer.add_scalar(\"train_loss_6\", float(m_loss_6.mean()), epoch)\n",
    "    writer.add_scalar(\"train_loss_7\", float(m_loss_7.mean()), epoch)\n",
    "    writer.add_scalar(\"train_loss_8\", float(m_loss_8.mean()), epoch)\n",
    "\n",
    "    train_loss = (\n",
    "        m_loss_1.mean(),\n",
    "        m_loss_2.mean(),\n",
    "        m_loss_3.mean(),\n",
    "        m_loss_4.mean(),\n",
    "        m_loss_5.mean(),\n",
    "        m_loss_6.mean(),\n",
    "        m_loss_7.mean(),\n",
    "        m_loss_8.mean(),\n",
    "    )\n",
    "\n",
    "    return train_loss, model_1, model_2, model_3, model_4, model_5, model_6, model_7, model_8"
   ],
   "metadata": {
    "collapsed": false
   }
  },
  {
   "cell_type": "code",
   "execution_count": 40,
   "outputs": [],
   "source": [
    "def valid_or_test(*models, data_loader, mode):\n",
    "\n",
    "    model_1 = models[0]\n",
    "    model_2 = models[1]\n",
    "    model_3 = models[2]\n",
    "    model_4 = models[3]\n",
    "    model_5 = models[4]\n",
    "    model_6 = models[5]\n",
    "    model_7 = models[6]\n",
    "    model_8 = models[7]\n",
    "\n",
    "    model_1.eval()\n",
    "    model_2.eval()\n",
    "    model_3.eval()\n",
    "    model_4.eval()\n",
    "    model_5.eval()\n",
    "    model_6.eval()\n",
    "    model_7.eval()\n",
    "    model_8.eval()\n",
    "\n",
    "    eval_loss_1, eval_loss_2, eval_loss_3, eval_loss_4 = 0, 0, 0, 0\n",
    "    eval_loss_5, eval_loss_6, eval_loss_7, eval_loss_8 = 0, 0, 0, 0\n",
    "\n",
    "    orig_append_1, pred_append_1 = list(), list()\n",
    "    orig_append_2, pred_append_2 = list(), list()\n",
    "    orig_append_3, pred_append_3 = list(), list()\n",
    "    orig_append_4, pred_append_4 = list(), list()\n",
    "    orig_append_5, pred_append_5 = list(), list()\n",
    "    orig_append_6, pred_append_6 = list(), list()\n",
    "    orig_append_7, pred_append_7 = list(), list()\n",
    "    orig_append_8, pred_append_8 = list(), list()\n",
    "\n",
    "    if mode == \"test\":\n",
    "        valid_or_test_iterator = tqdm(\n",
    "            enumerate(data_loader), total=len(data_loader), desc=\"testing\"\n",
    "        )\n",
    "    else:\n",
    "        valid_or_test_iterator = tqdm(\n",
    "            enumerate(data_loader), total=len(data_loader), desc=\"validation\"\n",
    "        )\n",
    "\n",
    "    with torch.no_grad():\n",
    "        for i, (categorical_var, continuous_var, target_var) in valid_or_test_iterator:\n",
    "\n",
    "            zone_1 = continuous_var[:, :, 0:3].to(device)\n",
    "            zone_2 = continuous_var[:, :, 3:6].to(device)\n",
    "            zone_3 = continuous_var[:, :, 6:9].to(device)\n",
    "            zone_4 = continuous_var[:, :, 9:12].to(device)\n",
    "            zone_5 = continuous_var[:, :, 12:15].to(device)\n",
    "            zone_6 = continuous_var[:, :, 15:18].to(device)\n",
    "            zone_7 = continuous_var[:, :, 18:21].to(device)\n",
    "            zone_8 = continuous_var[:, :, 21:24].to(device)\n",
    "\n",
    "            m_loss_1, recon_x_1, info_1 = model_1(zone_1)\n",
    "            m_loss_2, recon_x_2, info_2 = model_2(zone_2)\n",
    "            m_loss_3, recon_x_3, info_3 = model_3(zone_3)\n",
    "            m_loss_4, recon_x_4, info_4 = model_4(zone_4)\n",
    "            m_loss_5, recon_x_5, info_5 = model_5(zone_5)\n",
    "            m_loss_6, recon_x_6, info_6 = model_6(zone_6)\n",
    "            m_loss_7, recon_x_7, info_7 = model_7(zone_7)\n",
    "            m_loss_8, recon_x_8, info_8 = model_8(zone_8)\n",
    "\n",
    "            eval_loss_1 += m_loss_1.mean().item()\n",
    "            eval_loss_2 += m_loss_2.mean().item()\n",
    "            eval_loss_3 += m_loss_3.mean().item()\n",
    "            eval_loss_4 += m_loss_4.mean().item()\n",
    "            eval_loss_5 += m_loss_5.mean().item()\n",
    "            eval_loss_6 += m_loss_6.mean().item()\n",
    "            eval_loss_7 += m_loss_7.mean().item()\n",
    "            eval_loss_8 += m_loss_8.mean().item()\n",
    "\n",
    "            valid_or_test_iterator.set_postfix({\"eval_loss_1\": float(m_loss_1.mean()),\n",
    "                                                \"eval_loss_2\": float(m_loss_2.mean()),\n",
    "                                                \"eval_loss_3\": float(m_loss_3.mean()),\n",
    "                                                \"eval_loss_4\": float(m_loss_4.mean()),\n",
    "                                                \"eval_loss_5\": float(m_loss_5.mean()),\n",
    "                                                \"eval_loss_6\": float(m_loss_6.mean()),\n",
    "                                                \"eval_loss_7\": float(m_loss_7.mean()),\n",
    "                                                \"eval_loss_8\": float(m_loss_8.mean())})\n",
    "\n",
    "            if mode == \"test\":\n",
    "\n",
    "                orig_data_1 = zone_1.cpu().detach().numpy().reshape(-1, 3)\n",
    "                pred_data_1 = recon_x_1.cpu().detach().numpy().reshape(-1, 3)\n",
    "\n",
    "                orig_data_2 = zone_2.cpu().detach().numpy().reshape(-1, 3)\n",
    "                pred_data_2 = recon_x_2.cpu().detach().numpy().reshape(-1, 3)\n",
    "\n",
    "                orig_data_3 = zone_3.cpu().detach().numpy().reshape(-1, 3)\n",
    "                pred_data_3 = recon_x_3.cpu().detach().numpy().reshape(-1, 3)\n",
    "\n",
    "                orig_data_4 = zone_4.cpu().detach().numpy().reshape(-1, 3)\n",
    "                pred_data_4 = recon_x_4.cpu().detach().numpy().reshape(-1, 3)\n",
    "\n",
    "                orig_data_5 = zone_5.cpu().detach().numpy().reshape(-1, 3)\n",
    "                pred_data_5 = recon_x_5.cpu().detach().numpy().reshape(-1, 3)\n",
    "\n",
    "                orig_data_6 = zone_6.cpu().detach().numpy().reshape(-1, 3)\n",
    "                pred_data_6 = recon_x_6.cpu().detach().numpy().reshape(-1, 3)\n",
    "\n",
    "                orig_data_7 = zone_7.cpu().detach().numpy().reshape(-1, 3)\n",
    "                pred_data_7 = recon_x_7.cpu().detach().numpy().reshape(-1, 3)\n",
    "\n",
    "                orig_data_8 = zone_8.cpu().detach().numpy().reshape(-1, 3)\n",
    "                pred_data_8 = recon_x_8.cpu().detach().numpy().reshape(-1, 3)\n",
    "\n",
    "                orig_append_1.append(orig_data_1)\n",
    "                pred_append_1.append(pred_data_1)\n",
    "\n",
    "                orig_append_2.append(orig_data_2)\n",
    "                pred_append_2.append(pred_data_2)\n",
    "\n",
    "                orig_append_3.append(orig_data_3)\n",
    "                pred_append_3.append(pred_data_3)\n",
    "\n",
    "                orig_append_4.append(orig_data_4)\n",
    "                pred_append_4.append(pred_data_4)\n",
    "\n",
    "                orig_append_5.append(orig_data_5)\n",
    "                pred_append_5.append(pred_data_5)\n",
    "\n",
    "                orig_append_6.append(orig_data_6)\n",
    "                pred_append_6.append(pred_data_6)\n",
    "\n",
    "                orig_append_7.append(orig_data_7)\n",
    "                pred_append_7.append(pred_data_7)\n",
    "\n",
    "                orig_append_8.append(orig_data_8)\n",
    "                pred_append_8.append(pred_data_8)\n",
    "\n",
    "    eval_loss_1 = eval_loss_1 / len(data_loader)\n",
    "    writer.add_scalar(\"eval_loss_1\", float(eval_loss_1))\n",
    "\n",
    "    eval_loss_2 = eval_loss_2 / len(data_loader)\n",
    "    writer.add_scalar(\"eval_loss_2\", float(eval_loss_2))\n",
    "\n",
    "    eval_loss_3 = eval_loss_3 / len(data_loader)\n",
    "    writer.add_scalar(\"eval_loss_3\", float(eval_loss_3))\n",
    "\n",
    "    eval_loss_4 = eval_loss_4 / len(data_loader)\n",
    "    writer.add_scalar(\"eval_loss_4\", float(eval_loss_4))\n",
    "\n",
    "    eval_loss_5 = eval_loss_5 / len(data_loader)\n",
    "    writer.add_scalar(\"eval_loss_5\", float(eval_loss_5))\n",
    "\n",
    "    eval_loss_6 = eval_loss_6 / len(data_loader)\n",
    "    writer.add_scalar(\"eval_loss_6\", float(eval_loss_6))\n",
    "\n",
    "    eval_loss_7 = eval_loss_7 / len(data_loader)\n",
    "    writer.add_scalar(\"eval_loss_7\", float(eval_loss_7))\n",
    "\n",
    "    eval_loss_8 = eval_loss_8 / len(data_loader)\n",
    "    writer.add_scalar(\"eval_loss_8\", float(eval_loss_8))\n",
    "\n",
    "    print(\"Evaluation Score 1 : [{}]\".format(eval_loss_1))\n",
    "    print(\"Evaluation Score 2 : [{}]\".format(eval_loss_2))\n",
    "    print(\"Evaluation Score 3 : [{}]\".format(eval_loss_3))\n",
    "    print(\"Evaluation Score 4 : [{}]\".format(eval_loss_4))\n",
    "    print(\"Evaluation Score 5 : [{}]\".format(eval_loss_5))\n",
    "    print(\"Evaluation Score 6 : [{}]\".format(eval_loss_6))\n",
    "    print(\"Evaluation Score 7 : [{}]\".format(eval_loss_7))\n",
    "    print(\"Evaluation Score 8 : [{}]\".format(eval_loss_8))\n",
    "    print(\"\\n\")\n",
    "\n",
    "    valid_loss = (\n",
    "        eval_loss_1,\n",
    "        eval_loss_2,\n",
    "        eval_loss_3,\n",
    "        eval_loss_4,\n",
    "        eval_loss_5,\n",
    "        eval_loss_6,\n",
    "        eval_loss_7,\n",
    "        eval_loss_8\n",
    "    )\n",
    "\n",
    "    # In test mode, return the true and predicted data for evaluation on hold-out test set\n",
    "    if mode == \"test\":\n",
    "\n",
    "        # Concatenating all the appended data\n",
    "        orig_append_1 = pd.DataFrame(np.concatenate(orig_append_1))\n",
    "        pred_append_1 = pd.DataFrame(np.concatenate(pred_append_1))\n",
    "\n",
    "        orig_append_2 = pd.DataFrame(np.concatenate(orig_append_2))\n",
    "        pred_append_2 = pd.DataFrame(np.concatenate(pred_append_2))\n",
    "\n",
    "        orig_append_3 = pd.DataFrame(np.concatenate(orig_append_3))\n",
    "        pred_append_3 = pd.DataFrame(np.concatenate(pred_append_3))\n",
    "\n",
    "        orig_append_4 = pd.DataFrame(np.concatenate(orig_append_4))\n",
    "        pred_append_4 = pd.DataFrame(np.concatenate(pred_append_4))\n",
    "\n",
    "        orig_append_5 = pd.DataFrame(np.concatenate(orig_append_5))\n",
    "        pred_append_5 = pd.DataFrame(np.concatenate(pred_append_5))\n",
    "\n",
    "        orig_append_6 = pd.DataFrame(np.concatenate(orig_append_6))\n",
    "        pred_append_6 = pd.DataFrame(np.concatenate(pred_append_6))\n",
    "\n",
    "        orig_append_7 = pd.DataFrame(np.concatenate(orig_append_7))\n",
    "        pred_append_7 = pd.DataFrame(np.concatenate(pred_append_7))\n",
    "\n",
    "        orig_append_8 = pd.DataFrame(np.concatenate(orig_append_8))\n",
    "        pred_append_8 = pd.DataFrame(np.concatenate(pred_append_8))\n",
    "\n",
    "        return orig_append_1, pred_append_1, \\\n",
    "               orig_append_2, pred_append_2, \\\n",
    "               orig_append_3, pred_append_3, \\\n",
    "               orig_append_4, pred_append_4, \\\n",
    "               orig_append_5, pred_append_5, \\\n",
    "               orig_append_6, pred_append_6, \\\n",
    "               orig_append_7, pred_append_7, \\\n",
    "               orig_append_8, pred_append_8\n",
    "\n",
    "    # In valid mode, return the validation losses for early stopping\n",
    "    else:\n",
    "        return valid_loss"
   ],
   "metadata": {
    "collapsed": false
   }
  },
  {
   "cell_type": "code",
   "execution_count": 41,
   "outputs": [],
   "source": [
    "# The parameters for early stopping\n",
    "early_stop_patience = 5\n",
    "\n",
    "lowest_loss_1 = np.inf\n",
    "lowest_loss_epoch_1 = -1\n",
    "\n",
    "lowest_loss_2 = np.inf\n",
    "lowest_loss_epoch_2 = -1\n",
    "\n",
    "lowest_loss_3 = np.inf\n",
    "lowest_loss_epoch_3 = -1\n",
    "\n",
    "lowest_loss_4 = np.inf\n",
    "lowest_loss_epoch_4 = -1\n",
    "\n",
    "lowest_loss_5 = np.inf\n",
    "lowest_loss_epoch_5 = -1\n",
    "\n",
    "lowest_loss_6 = np.inf\n",
    "lowest_loss_epoch_6 = -1\n",
    "\n",
    "lowest_loss_7 = np.inf\n",
    "lowest_loss_epoch_7 = -1\n",
    "\n",
    "lowest_loss_8 = np.inf\n",
    "lowest_loss_epoch_8 = -1\n",
    "\n",
    "model_train_flag_1 = False\n",
    "model_train_flag_2 = False\n",
    "model_train_flag_3 = False\n",
    "model_train_flag_4 = False\n",
    "model_train_flag_5 = False\n",
    "model_train_flag_6 = False\n",
    "model_train_flag_7 = False\n",
    "model_train_flag_8 = False"
   ],
   "metadata": {
    "collapsed": false
   }
  },
  {
   "cell_type": "code",
   "execution_count": 42,
   "outputs": [
    {
     "name": "stdout",
     "output_type": "stream",
     "text": [
      "Epoch 1\n"
     ]
    },
    {
     "name": "stderr",
     "output_type": "stream",
     "text": [
      "training: 100%|██████████| 553/553 [03:37<00:00,  2.55it/s, train_loss_1=0.0228, train_loss_2=0.0204, train_loss_3=0.0214, train_loss_4=0.0184, train_loss_5=0.0208, train_loss_6=0.0207, train_loss_7=0.0187, train_loss_8=0.0235]\n",
      "validation: 100%|██████████| 3/3 [00:00<00:00,  8.34it/s, eval_loss_1=0.0249, eval_loss_2=0.0494, eval_loss_3=0.0218, eval_loss_4=0.034, eval_loss_5=0.0294, eval_loss_6=0.0209, eval_loss_7=0.0333, eval_loss_8=0.0291] \n"
     ]
    },
    {
     "name": "stdout",
     "output_type": "stream",
     "text": [
      "Evaluation Score 1 : [0.022246441182990868]\n",
      "Evaluation Score 2 : [0.03565517129997412]\n",
      "Evaluation Score 3 : [0.019284319132566452]\n",
      "Evaluation Score 4 : [0.023279667211075623]\n",
      "Evaluation Score 5 : [0.021150218943754833]\n",
      "Evaluation Score 6 : [0.01897892418007056]\n",
      "Evaluation Score 7 : [0.023706863944729168]\n",
      "Evaluation Score 8 : [0.020970384900768597]\n",
      "\n",
      "\n",
      "Epoch 2\n"
     ]
    },
    {
     "name": "stderr",
     "output_type": "stream",
     "text": [
      "training: 100%|██████████| 553/553 [03:38<00:00,  2.53it/s, train_loss_1=0.0148, train_loss_2=0.0132, train_loss_3=0.0174, train_loss_4=0.00839, train_loss_5=0.0145, train_loss_6=0.00833, train_loss_7=0.0154, train_loss_8=0.0166]\n",
      "validation: 100%|██████████| 3/3 [00:00<00:00,  8.35it/s, eval_loss_1=0.0212, eval_loss_2=0.0131, eval_loss_3=0.0191, eval_loss_4=0.00843, eval_loss_5=0.0163, eval_loss_6=0.00965, eval_loss_7=0.02, eval_loss_8=0.0173] \n"
     ]
    },
    {
     "name": "stdout",
     "output_type": "stream",
     "text": [
      "Evaluation Score 1 : [0.015371836721897125]\n",
      "Evaluation Score 2 : [0.013546642536918322]\n",
      "Evaluation Score 3 : [0.017715041836102802]\n",
      "Evaluation Score 4 : [0.008754306783278784]\n",
      "Evaluation Score 5 : [0.015025882981717587]\n",
      "Evaluation Score 6 : [0.008499512759347757]\n",
      "Evaluation Score 7 : [0.015483737302323183]\n",
      "Evaluation Score 8 : [0.01542242212841908]\n",
      "\n",
      "\n",
      "Epoch 3\n"
     ]
    },
    {
     "name": "stderr",
     "output_type": "stream",
     "text": [
      "training: 100%|██████████| 553/553 [03:38<00:00,  2.53it/s, train_loss_1=0.00873, train_loss_2=0.0123, train_loss_3=0.00908, train_loss_4=0.00738, train_loss_5=0.00941, train_loss_6=0.00658, train_loss_7=0.00855, train_loss_8=0.00936]\n",
      "validation: 100%|██████████| 3/3 [00:00<00:00,  8.35it/s, eval_loss_1=0.00764, eval_loss_2=0.0113, eval_loss_3=0.00964, eval_loss_4=0.00679, eval_loss_5=0.00934, eval_loss_6=0.00869, eval_loss_7=0.00854, eval_loss_8=0.0115]\n"
     ]
    },
    {
     "name": "stdout",
     "output_type": "stream",
     "text": [
      "Evaluation Score 1 : [0.007644028247644504]\n",
      "Evaluation Score 2 : [0.011375023983418941]\n",
      "Evaluation Score 3 : [0.007510803174227476]\n",
      "Evaluation Score 4 : [0.0067815825653572874]\n",
      "Evaluation Score 5 : [0.00849893114839991]\n",
      "Evaluation Score 6 : [0.007016601972281933]\n",
      "Evaluation Score 7 : [0.007714513223618269]\n",
      "Evaluation Score 8 : [0.010806842086215815]\n",
      "\n",
      "\n",
      "Epoch 4\n"
     ]
    },
    {
     "name": "stderr",
     "output_type": "stream",
     "text": [
      "training: 100%|██████████| 553/553 [03:39<00:00,  2.52it/s, train_loss_1=0.00902, train_loss_2=0.00901, train_loss_3=0.00939, train_loss_4=0.00529, train_loss_5=0.00664, train_loss_6=0.00747, train_loss_7=0.00786, train_loss_8=0.00829]\n",
      "validation: 100%|██████████| 3/3 [00:00<00:00,  8.35it/s, eval_loss_1=0.00773, eval_loss_2=0.00791, eval_loss_3=0.00782, eval_loss_4=0.00497, eval_loss_5=0.00639, eval_loss_6=0.00673, eval_loss_7=0.00819, eval_loss_8=0.00821]\n"
     ]
    },
    {
     "name": "stdout",
     "output_type": "stream",
     "text": [
      "Evaluation Score 1 : [0.007147430907934904]\n",
      "Evaluation Score 2 : [0.008007241723438105]\n",
      "Evaluation Score 3 : [0.00677049004783233]\n",
      "Evaluation Score 4 : [0.005042529044051965]\n",
      "Evaluation Score 5 : [0.007068904271970193]\n",
      "Evaluation Score 6 : [0.006043173993627231]\n",
      "Evaluation Score 7 : [0.006774252280592918]\n",
      "Evaluation Score 8 : [0.007471664808690548]\n",
      "\n",
      "\n",
      "Epoch 5\n"
     ]
    },
    {
     "name": "stderr",
     "output_type": "stream",
     "text": [
      "training: 100%|██████████| 553/553 [03:39<00:00,  2.52it/s, train_loss_1=0.00621, train_loss_2=0.00817, train_loss_3=0.00551, train_loss_4=0.0033, train_loss_5=0.00235, train_loss_6=0.00276, train_loss_7=0.00335, train_loss_8=0.00348] \n",
      "validation: 100%|██████████| 3/3 [00:00<00:00,  8.01it/s, eval_loss_1=0.00721, eval_loss_2=0.0069, eval_loss_3=0.00702, eval_loss_4=0.00367, eval_loss_5=0.00244, eval_loss_6=0.00235, eval_loss_7=0.00282, eval_loss_8=0.00343]\n"
     ]
    },
    {
     "name": "stdout",
     "output_type": "stream",
     "text": [
      "Evaluation Score 1 : [0.006082626059651375]\n",
      "Evaluation Score 2 : [0.007634636480361223]\n",
      "Evaluation Score 3 : [0.007599631169190009]\n",
      "Evaluation Score 4 : [0.0037245546312381825]\n",
      "Evaluation Score 5 : [0.0032582360630234084]\n",
      "Evaluation Score 6 : [0.0030786251494040093]\n",
      "Evaluation Score 7 : [0.003222270868718624]\n",
      "Evaluation Score 8 : [0.00373873021453619]\n",
      "\n",
      "\n",
      "Epoch 6\n"
     ]
    },
    {
     "name": "stderr",
     "output_type": "stream",
     "text": [
      "training: 100%|██████████| 553/553 [03:42<00:00,  2.49it/s, train_loss_1=0.00339, train_loss_2=0.00458, train_loss_3=0.00344, train_loss_4=0.00326, train_loss_5=0.00225, train_loss_6=0.00201, train_loss_7=0.0023, train_loss_8=0.00302] \n",
      "validation: 100%|██████████| 3/3 [00:00<00:00,  8.00it/s, eval_loss_1=0.0029, eval_loss_2=0.00398, eval_loss_3=0.0034, eval_loss_4=0.00246, eval_loss_5=0.00192, eval_loss_6=0.00157, eval_loss_7=0.00171, eval_loss_8=0.00405]  \n"
     ]
    },
    {
     "name": "stdout",
     "output_type": "stream",
     "text": [
      "Evaluation Score 1 : [0.0036205950503547988]\n",
      "Evaluation Score 2 : [0.004553180032720168]\n",
      "Evaluation Score 3 : [0.003599923880149921]\n",
      "Evaluation Score 4 : [0.0026593690272420645]\n",
      "Evaluation Score 5 : [0.0021194887425129614]\n",
      "Evaluation Score 6 : [0.0020920201980819306]\n",
      "Evaluation Score 7 : [0.0020857592656587562]\n",
      "Evaluation Score 8 : [0.004431985939542453]\n",
      "\n",
      "\n",
      "Epoch 7\n"
     ]
    },
    {
     "name": "stderr",
     "output_type": "stream",
     "text": [
      "training: 100%|██████████| 553/553 [03:40<00:00,  2.51it/s, train_loss_1=0.00319, train_loss_2=0.00403, train_loss_3=0.00353, train_loss_4=0.00282, train_loss_5=0.00163, train_loss_6=0.00222, train_loss_7=0.00234, train_loss_8=0.0035] \n",
      "validation: 100%|██████████| 3/3 [00:00<00:00,  8.34it/s, eval_loss_1=0.00195, eval_loss_2=0.00385, eval_loss_3=0.00221, eval_loss_4=0.00276, eval_loss_5=0.00165, eval_loss_6=0.00157, eval_loss_7=0.00164, eval_loss_8=0.00282]\n"
     ]
    },
    {
     "name": "stdout",
     "output_type": "stream",
     "text": [
      "Evaluation Score 1 : [0.002650871950512131]\n",
      "Evaluation Score 2 : [0.003925166248033444]\n",
      "Evaluation Score 3 : [0.0026907118347783885]\n",
      "Evaluation Score 4 : [0.003097526108225187]\n",
      "Evaluation Score 5 : [0.001830370514653623]\n",
      "Evaluation Score 6 : [0.00189161851691703]\n",
      "Evaluation Score 7 : [0.0020858028049891195]\n",
      "Evaluation Score 8 : [0.002704847836866975]\n",
      "\n",
      "\n",
      "Epoch 8\n"
     ]
    },
    {
     "name": "stderr",
     "output_type": "stream",
     "text": [
      "training: 100%|██████████| 553/553 [03:40<00:00,  2.51it/s, train_loss_1=0.00272, train_loss_2=0.00305, train_loss_3=0.00179, train_loss_4=0.00346, train_loss_5=0.00111, train_loss_6=0.00134, train_loss_7=0.00292, train_loss_8=0.00227] \n",
      "validation: 100%|██████████| 3/3 [00:00<00:00,  8.00it/s, eval_loss_1=0.00277, eval_loss_2=0.00463, eval_loss_3=0.00171, eval_loss_4=0.00414, eval_loss_5=0.00129, eval_loss_6=0.00109, eval_loss_7=0.00337, eval_loss_8=0.00213]\n"
     ]
    },
    {
     "name": "stdout",
     "output_type": "stream",
     "text": [
      "Evaluation Score 1 : [0.0031613470831265054]\n",
      "Evaluation Score 2 : [0.004143159681310256]\n",
      "Evaluation Score 3 : [0.0017682838176066677]\n",
      "Evaluation Score 4 : [0.004101122263818979]\n",
      "Evaluation Score 5 : [0.0013936441391706467]\n",
      "Evaluation Score 6 : [0.001101686464001735]\n",
      "Evaluation Score 7 : [0.003685133298859]\n",
      "Evaluation Score 8 : [0.0021400859113782644]\n",
      "\n",
      "\n",
      "Epoch 9\n"
     ]
    },
    {
     "name": "stderr",
     "output_type": "stream",
     "text": [
      "training: 100%|██████████| 553/553 [03:40<00:00,  2.51it/s, train_loss_1=0.00142, train_loss_2=0.00197, train_loss_3=0.00134, train_loss_4=0.0019, train_loss_5=0.001, train_loss_6=0.000882, train_loss_7=0.00171, train_loss_8=0.00328]    \n",
      "validation: 100%|██████████| 3/3 [00:00<00:00,  8.00it/s, eval_loss_1=0.00166, eval_loss_2=0.00244, eval_loss_3=0.0021, eval_loss_4=0.00182, eval_loss_5=0.00144, eval_loss_6=0.000974, eval_loss_7=0.00251, eval_loss_8=0.00589]\n"
     ]
    },
    {
     "name": "stdout",
     "output_type": "stream",
     "text": [
      "Evaluation Score 1 : [0.0016646266837293904]\n",
      "Evaluation Score 2 : [0.0022450624189029136]\n",
      "Evaluation Score 3 : [0.0020874900122483573]\n",
      "Evaluation Score 4 : [0.001950893783941865]\n",
      "Evaluation Score 5 : [0.0012963911285623908]\n",
      "Evaluation Score 6 : [0.0010882667653883498]\n",
      "Evaluation Score 7 : [0.0026711844839155674]\n",
      "Evaluation Score 8 : [0.005100324905167024]\n",
      "\n",
      "\n",
      "Epoch 10\n"
     ]
    },
    {
     "name": "stderr",
     "output_type": "stream",
     "text": [
      "training: 100%|██████████| 553/553 [03:40<00:00,  2.51it/s, train_loss_1=0.00171, train_loss_2=0.00134, train_loss_3=0.00105, train_loss_4=0.00253, train_loss_5=0.00148, train_loss_6=0.00117, train_loss_7=0.00121, train_loss_8=0.00269]   \n",
      "validation: 100%|██████████| 3/3 [00:00<00:00,  8.35it/s, eval_loss_1=0.00185, eval_loss_2=0.00171, eval_loss_3=0.00132, eval_loss_4=0.00161, eval_loss_5=0.00114, eval_loss_6=0.000916, eval_loss_7=0.00134, eval_loss_8=0.00308]\n"
     ]
    },
    {
     "name": "stdout",
     "output_type": "stream",
     "text": [
      "Evaluation Score 1 : [0.0019328785904993613]\n",
      "Evaluation Score 2 : [0.0016545133742814262]\n",
      "Evaluation Score 3 : [0.001479864780170222]\n",
      "Evaluation Score 4 : [0.0016066963629176219]\n",
      "Evaluation Score 5 : [0.0011688437080010772]\n",
      "Evaluation Score 6 : [0.0009770437609404325]\n",
      "Evaluation Score 7 : [0.0014035415758068364]\n",
      "Evaluation Score 8 : [0.0036040805280208588]\n",
      "\n",
      "\n",
      "Epoch 11\n"
     ]
    },
    {
     "name": "stderr",
     "output_type": "stream",
     "text": [
      "training: 100%|██████████| 553/553 [03:40<00:00,  2.51it/s, train_loss_1=0.00149, train_loss_2=0.00126, train_loss_3=0.000863, train_loss_4=0.00112, train_loss_5=0.00108, train_loss_6=0.000818, train_loss_7=0.00105, train_loss_8=0.00121]  \n",
      "validation: 100%|██████████| 3/3 [00:00<00:00,  8.34it/s, eval_loss_1=0.00152, eval_loss_2=0.00212, eval_loss_3=0.000907, eval_loss_4=0.00157, eval_loss_5=0.00199, eval_loss_6=0.00155, eval_loss_7=0.0009, eval_loss_8=0.00154]  \n"
     ]
    },
    {
     "name": "stdout",
     "output_type": "stream",
     "text": [
      "Evaluation Score 1 : [0.0014471281319856644]\n",
      "Evaluation Score 2 : [0.00213906440573434]\n",
      "Evaluation Score 3 : [0.0009287526093733808]\n",
      "Evaluation Score 4 : [0.0015275909875830014]\n",
      "Evaluation Score 5 : [0.0019005769863724709]\n",
      "Evaluation Score 6 : [0.001571572502143681]\n",
      "Evaluation Score 7 : [0.0009462619782425463]\n",
      "Evaluation Score 8 : [0.0014798974540705483]\n",
      "\n",
      "\n",
      "Epoch 12\n"
     ]
    },
    {
     "name": "stderr",
     "output_type": "stream",
     "text": [
      "training: 100%|██████████| 553/553 [03:40<00:00,  2.51it/s, train_loss_1=0.00136, train_loss_2=0.00111, train_loss_3=0.000953, train_loss_4=0.00162, train_loss_5=0.00111, train_loss_6=0.000562, train_loss_7=0.000646, train_loss_8=0.00144]   \n",
      "validation: 100%|██████████| 3/3 [00:00<00:00,  8.35it/s, eval_loss_1=0.00158, eval_loss_2=0.00138, eval_loss_3=0.00093, eval_loss_4=0.00218, eval_loss_5=0.00112, eval_loss_6=0.000752, eval_loss_7=0.000801, eval_loss_8=0.00126] \n"
     ]
    },
    {
     "name": "stdout",
     "output_type": "stream",
     "text": [
      "Evaluation Score 1 : [0.0015490279377748568]\n",
      "Evaluation Score 2 : [0.0014460280071943998]\n",
      "Evaluation Score 3 : [0.0009229158555778364]\n",
      "Evaluation Score 4 : [0.0024422844871878624]\n",
      "Evaluation Score 5 : [0.0011694165489946802]\n",
      "Evaluation Score 6 : [0.0007654558285139501]\n",
      "Evaluation Score 7 : [0.0008776374549294511]\n",
      "Evaluation Score 8 : [0.0012459071197857459]\n",
      "\n",
      "\n",
      "Epoch 13\n"
     ]
    },
    {
     "name": "stderr",
     "output_type": "stream",
     "text": [
      "training: 100%|██████████| 553/553 [03:52<00:00,  2.38it/s, train_loss_1=0.0011, train_loss_2=0.00441, train_loss_3=0.000824, train_loss_4=0.00115, train_loss_5=0.00112, train_loss_6=0.00103, train_loss_7=0.00119, train_loss_8=0.00173]       \n",
      "validation: 100%|██████████| 3/3 [00:00<00:00,  8.73it/s, eval_loss_1=0.00168, eval_loss_2=0.00479, eval_loss_3=0.000762, eval_loss_4=0.00129, eval_loss_5=0.00139, eval_loss_6=0.00105, eval_loss_7=0.00185, eval_loss_8=0.00138] \n"
     ]
    },
    {
     "name": "stdout",
     "output_type": "stream",
     "text": [
      "Evaluation Score 1 : [0.0016676127367342513]\n",
      "Evaluation Score 2 : [0.0047518132875363035]\n",
      "Evaluation Score 3 : [0.00081106141442433]\n",
      "Evaluation Score 4 : [0.0012663337013994653]\n",
      "Evaluation Score 5 : [0.001509293681010604]\n",
      "Evaluation Score 6 : [0.0010110166622325778]\n",
      "Evaluation Score 7 : [0.001999756476531426]\n",
      "Evaluation Score 8 : [0.0013012068811804056]\n",
      "\n",
      "\n",
      "Epoch 14\n"
     ]
    },
    {
     "name": "stderr",
     "output_type": "stream",
     "text": [
      "training: 100%|██████████| 553/553 [03:40<00:00,  2.50it/s, train_loss_1=0.000619, train_loss_2=0.00144, train_loss_3=0.000581, train_loss_4=0.000969, train_loss_5=0.000515, train_loss_6=0.000461, train_loss_7=0.000932, train_loss_8=0.00111]  \n",
      "validation: 100%|██████████| 3/3 [00:00<00:00,  8.35it/s, eval_loss_1=0.00111, eval_loss_2=0.00195, eval_loss_3=0.000699, eval_loss_4=0.00163, eval_loss_5=0.000609, eval_loss_6=0.000606, eval_loss_7=0.00104, eval_loss_8=0.00136]\n"
     ]
    },
    {
     "name": "stdout",
     "output_type": "stream",
     "text": [
      "Evaluation Score 1 : [0.0011088885366916656]\n",
      "Evaluation Score 2 : [0.0017634960822761059]\n",
      "Evaluation Score 3 : [0.0006990855520901581]\n",
      "Evaluation Score 4 : [0.001691858555811147]\n",
      "Evaluation Score 5 : [0.0005868506462623676]\n",
      "Evaluation Score 6 : [0.0006314671481959522]\n",
      "Evaluation Score 7 : [0.0010680653698121507]\n",
      "Evaluation Score 8 : [0.0013540793443098664]\n",
      "\n",
      "\n",
      "Epoch 15\n"
     ]
    },
    {
     "name": "stderr",
     "output_type": "stream",
     "text": [
      "training: 100%|██████████| 553/553 [03:40<00:00,  2.51it/s, train_loss_1=0.00207, train_loss_2=0.0018, train_loss_3=0.00069, train_loss_4=0.000595, train_loss_5=0.00106, train_loss_6=0.00158, train_loss_7=0.000667, train_loss_8=0.00112]       \n",
      "validation: 100%|██████████| 3/3 [00:00<00:00,  8.35it/s, eval_loss_1=0.00339, eval_loss_2=0.00195, eval_loss_3=0.000752, eval_loss_4=0.000602, eval_loss_5=0.00125, eval_loss_6=0.00135, eval_loss_7=0.000704, eval_loss_8=0.00097]\n"
     ]
    },
    {
     "name": "stdout",
     "output_type": "stream",
     "text": [
      "Evaluation Score 1 : [0.0032418156042695045]\n",
      "Evaluation Score 2 : [0.001820428529754281]\n",
      "Evaluation Score 3 : [0.0007177940375792483]\n",
      "Evaluation Score 4 : [0.000639917115525653]\n",
      "Evaluation Score 5 : [0.0012378332515557606]\n",
      "Evaluation Score 6 : [0.0012122027498359482]\n",
      "Evaluation Score 7 : [0.0007775550281318525]\n",
      "Evaluation Score 8 : [0.0009378239240807792]\n",
      "\n",
      "\n",
      "Epoch 16\n"
     ]
    },
    {
     "name": "stderr",
     "output_type": "stream",
     "text": [
      "training: 100%|██████████| 553/553 [03:40<00:00,  2.51it/s, train_loss_1=0.000858, train_loss_2=0.000642, train_loss_3=0.000873, train_loss_4=0.00109, train_loss_5=0.00155, train_loss_6=0.00108, train_loss_7=0.000388, train_loss_8=0.000793]   \n",
      "validation: 100%|██████████| 3/3 [00:00<00:00,  8.35it/s, eval_loss_1=0.00111, eval_loss_2=0.000869, eval_loss_3=0.00127, eval_loss_4=0.00126, eval_loss_5=0.00141, eval_loss_6=0.000816, eval_loss_7=0.000361, eval_loss_8=0.0013] \n"
     ]
    },
    {
     "name": "stdout",
     "output_type": "stream",
     "text": [
      "Evaluation Score 1 : [0.0012511158905302484]\n",
      "Evaluation Score 2 : [0.0008257367104912797]\n",
      "Evaluation Score 3 : [0.001330302484954397]\n",
      "Evaluation Score 4 : [0.0013234095337490241]\n",
      "Evaluation Score 5 : [0.0015923704874391358]\n",
      "Evaluation Score 6 : [0.0010436745166468124]\n",
      "Evaluation Score 7 : [0.0004354564492435505]\n",
      "Evaluation Score 8 : [0.001415598710688452]\n",
      "\n",
      "\n",
      "Epoch 17\n"
     ]
    },
    {
     "name": "stderr",
     "output_type": "stream",
     "text": [
      "training: 100%|██████████| 553/553 [03:40<00:00,  2.51it/s, train_loss_1=0.000786, train_loss_2=0.000688, train_loss_3=0.00058, train_loss_4=0.000632, train_loss_5=0.000873, train_loss_6=0.00041, train_loss_7=0.000515, train_loss_8=0.00204]   \n",
      "validation: 100%|██████████| 3/3 [00:00<00:00,  8.35it/s, eval_loss_1=0.00102, eval_loss_2=0.000745, eval_loss_3=0.00059, eval_loss_4=0.000785, eval_loss_5=0.00141, eval_loss_6=0.000656, eval_loss_7=0.000715, eval_loss_8=0.00195] \n"
     ]
    },
    {
     "name": "stdout",
     "output_type": "stream",
     "text": [
      "Evaluation Score 1 : [0.0011375252312670152]\n",
      "Evaluation Score 2 : [0.0007666948949918151]\n",
      "Evaluation Score 3 : [0.0006091673082361618]\n",
      "Evaluation Score 4 : [0.0008190153554702798]\n",
      "Evaluation Score 5 : [0.0014801706032206614]\n",
      "Evaluation Score 6 : [0.0007153441159365078]\n",
      "Evaluation Score 7 : [0.000779592664912343]\n",
      "Evaluation Score 8 : [0.001766591837319235]\n",
      "\n",
      "\n",
      "Epoch 18\n"
     ]
    },
    {
     "name": "stderr",
     "output_type": "stream",
     "text": [
      "training: 100%|██████████| 553/553 [03:40<00:00,  2.51it/s, train_loss_1=0.00245, train_loss_2=0.000583, train_loss_3=0.000583, train_loss_4=0.00162, train_loss_5=0.000524, train_loss_6=0.000535, train_loss_7=0.000772, train_loss_8=0.0014]    \n",
      "validation: 100%|██████████| 3/3 [00:00<00:00,  8.35it/s, eval_loss_1=0.00149, eval_loss_2=0.000944, eval_loss_3=0.000546, eval_loss_4=0.00125, eval_loss_5=0.000824, eval_loss_6=0.000489, eval_loss_7=0.000411, eval_loss_8=0.00145]\n"
     ]
    },
    {
     "name": "stdout",
     "output_type": "stream",
     "text": [
      "Evaluation Score 1 : [0.001877408552293976]\n",
      "Evaluation Score 2 : [0.0009369295633708438]\n",
      "Evaluation Score 3 : [0.0005672850529663265]\n",
      "Evaluation Score 4 : [0.0013202169599632423]\n",
      "Evaluation Score 5 : [0.0008879775220217804]\n",
      "Evaluation Score 6 : [0.0005669416471694907]\n",
      "Evaluation Score 7 : [0.0005037705219971637]\n",
      "Evaluation Score 8 : [0.0014768238179385662]\n",
      "\n",
      "\n",
      "Epoch 19\n"
     ]
    },
    {
     "name": "stderr",
     "output_type": "stream",
     "text": [
      "training: 100%|██████████| 553/553 [03:40<00:00,  2.51it/s, train_loss_1=0.0011, train_loss_2=0.000739, train_loss_3=0.000678, train_loss_4=0.0011, train_loss_5=0.000642, train_loss_6=0.000427, train_loss_7=0.000849, train_loss_8=0.00394]     \n",
      "validation: 100%|██████████| 3/3 [00:00<00:00,  8.35it/s, eval_loss_1=0.00137, eval_loss_2=0.000966, eval_loss_3=0.000456, eval_loss_4=0.00122, eval_loss_5=0.000836, eval_loss_6=0.00036, eval_loss_7=0.000752, eval_loss_8=0.00225] \n"
     ]
    },
    {
     "name": "stdout",
     "output_type": "stream",
     "text": [
      "Evaluation Score 1 : [0.0013644781429320574]\n",
      "Evaluation Score 2 : [0.0010123390044706564]\n",
      "Evaluation Score 3 : [0.00048939871097294]\n",
      "Evaluation Score 4 : [0.0012549130090822775]\n",
      "Evaluation Score 5 : [0.0008128572953864932]\n",
      "Evaluation Score 6 : [0.00047251405582452816]\n",
      "Evaluation Score 7 : [0.0008345451205968857]\n",
      "Evaluation Score 8 : [0.002470973413437605]\n",
      "\n",
      "\n",
      "Epoch 20\n"
     ]
    },
    {
     "name": "stderr",
     "output_type": "stream",
     "text": [
      "training: 100%|██████████| 553/553 [03:40<00:00,  2.51it/s, train_loss_1=0.000407, train_loss_2=0.000449, train_loss_3=0.000407, train_loss_4=0.000905, train_loss_5=0.000384, train_loss_6=0.000568, train_loss_7=0.000652, train_loss_8=0.000883]\n",
      "validation: 100%|██████████| 3/3 [00:00<00:00,  8.35it/s, eval_loss_1=0.000542, eval_loss_2=0.000652, eval_loss_3=0.000547, eval_loss_4=0.00144, eval_loss_5=0.000609, eval_loss_6=0.000484, eval_loss_7=0.000628, eval_loss_8=0.000716]\n"
     ]
    },
    {
     "name": "stdout",
     "output_type": "stream",
     "text": [
      "Evaluation Score 1 : [0.0005359086499083787]\n",
      "Evaluation Score 2 : [0.0006570661013635496]\n",
      "Evaluation Score 3 : [0.0005206877055267493]\n",
      "Evaluation Score 4 : [0.0014256843520949285]\n",
      "Evaluation Score 5 : [0.000611242197919637]\n",
      "Evaluation Score 6 : [0.0005273747568329176]\n",
      "Evaluation Score 7 : [0.0007552874546187619]\n",
      "Evaluation Score 8 : [0.000798419292550534]\n",
      "\n",
      "\n",
      "Individual model 5 stopped training early at epoch 19\n",
      "Epoch 21\n"
     ]
    },
    {
     "name": "stderr",
     "output_type": "stream",
     "text": [
      "training: 100%|██████████| 553/553 [03:40<00:00,  2.51it/s, train_loss_1=0.00055, train_loss_2=0.00114, train_loss_3=0.000289, train_loss_4=0.000556, train_loss_5=0.000683, train_loss_6=0.000359, train_loss_7=0.00178, train_loss_8=0.00157]    \n",
      "validation: 100%|██████████| 3/3 [00:00<00:00,  8.34it/s, eval_loss_1=0.000446, eval_loss_2=0.00103, eval_loss_3=0.000482, eval_loss_4=0.000759, eval_loss_5=0.000404, eval_loss_6=0.000382, eval_loss_7=0.00232, eval_loss_8=0.000974]\n"
     ]
    },
    {
     "name": "stdout",
     "output_type": "stream",
     "text": [
      "Evaluation Score 1 : [0.0005035205491973708]\n",
      "Evaluation Score 2 : [0.001074749801773578]\n",
      "Evaluation Score 3 : [0.0004805955007517089]\n",
      "Evaluation Score 4 : [0.0008322527670922378]\n",
      "Evaluation Score 5 : [0.0005049124689927945]\n",
      "Evaluation Score 6 : [0.00042044308308201533]\n",
      "Evaluation Score 7 : [0.002548324720313152]\n",
      "Evaluation Score 8 : [0.0012723414693027735]\n",
      "\n",
      "\n",
      "Individual model 4 stopped training early at epoch 20\n",
      "Epoch 22\n"
     ]
    },
    {
     "name": "stderr",
     "output_type": "stream",
     "text": [
      "training: 100%|██████████| 553/553 [03:40<00:00,  2.51it/s, train_loss_1=0.0011, train_loss_2=0.000474, train_loss_3=0.000253, train_loss_4=0.0102, train_loss_5=0.000331, train_loss_6=0.00026, train_loss_7=0.000591, train_loss_8=0.000407]     \n",
      "validation: 100%|██████████| 3/3 [00:00<00:00,  8.35it/s, eval_loss_1=0.00246, eval_loss_2=0.000646, eval_loss_3=0.000348, eval_loss_4=0.00837, eval_loss_5=0.000874, eval_loss_6=0.000526, eval_loss_7=0.00062, eval_loss_8=0.000511]\n"
     ]
    },
    {
     "name": "stdout",
     "output_type": "stream",
     "text": [
      "Evaluation Score 1 : [0.0021690486076598368]\n",
      "Evaluation Score 2 : [0.0005956060679939886]\n",
      "Evaluation Score 3 : [0.0003368151665199548]\n",
      "Evaluation Score 4 : [0.007783203851431608]\n",
      "Evaluation Score 5 : [0.0009256224536026517]\n",
      "Evaluation Score 6 : [0.0005610918354553481]\n",
      "Evaluation Score 7 : [0.0006613705966932079]\n",
      "Evaluation Score 8 : [0.0004977836991505077]\n",
      "\n",
      "\n",
      "Individual model 7 stopped training early at epoch 21\n",
      "Epoch 23\n"
     ]
    },
    {
     "name": "stderr",
     "output_type": "stream",
     "text": [
      "training: 100%|██████████| 553/553 [03:40<00:00,  2.51it/s, train_loss_1=0.000761, train_loss_2=0.000673, train_loss_3=0.000284, train_loss_4=0.00201, train_loss_5=0.00038, train_loss_6=0.000289, train_loss_7=0.000756, train_loss_8=0.000614] \n",
      "validation: 100%|██████████| 3/3 [00:00<00:00,  8.35it/s, eval_loss_1=0.000968, eval_loss_2=0.000664, eval_loss_3=0.000365, eval_loss_4=0.00208, eval_loss_5=0.000648, eval_loss_6=0.000275, eval_loss_7=0.000831, eval_loss_8=0.000863]\n"
     ]
    },
    {
     "name": "stdout",
     "output_type": "stream",
     "text": [
      "Evaluation Score 1 : [0.0008613574124562243]\n",
      "Evaluation Score 2 : [0.0006181270000524819]\n",
      "Evaluation Score 3 : [0.0003403616525853674]\n",
      "Evaluation Score 4 : [0.00259500773002704]\n",
      "Evaluation Score 5 : [0.0005955541855655611]\n",
      "Evaluation Score 6 : [0.0003174818120896816]\n",
      "Evaluation Score 7 : [0.0007701337647934755]\n",
      "Evaluation Score 8 : [0.0007719106312530736]\n",
      "\n",
      "\n",
      "Epoch 24\n"
     ]
    },
    {
     "name": "stderr",
     "output_type": "stream",
     "text": [
      "training: 100%|██████████| 553/553 [03:39<00:00,  2.52it/s, train_loss_1=0.000575, train_loss_2=0.000601, train_loss_3=0.000253, train_loss_4=0.00153, train_loss_5=0.000272, train_loss_6=0.000357, train_loss_7=0.000548, train_loss_8=0.000584]\n",
      "validation: 100%|██████████| 3/3 [00:00<00:00,  8.00it/s, eval_loss_1=0.000592, eval_loss_2=0.000791, eval_loss_3=0.000288, eval_loss_4=0.0018, eval_loss_5=0.000314, eval_loss_6=0.00029, eval_loss_7=0.000359, eval_loss_8=0.000877] \n"
     ]
    },
    {
     "name": "stdout",
     "output_type": "stream",
     "text": [
      "Evaluation Score 1 : [0.0006163992220535874]\n",
      "Evaluation Score 2 : [0.0007469123423409959]\n",
      "Evaluation Score 3 : [0.00029257706288869184]\n",
      "Evaluation Score 4 : [0.0019205256830900908]\n",
      "Evaluation Score 5 : [0.0003217180783394724]\n",
      "Evaluation Score 6 : [0.0003509102583241959]\n",
      "Evaluation Score 7 : [0.0003913470912569513]\n",
      "Evaluation Score 8 : [0.0008078304817900062]\n",
      "\n",
      "\n",
      "Epoch 25\n"
     ]
    },
    {
     "name": "stderr",
     "output_type": "stream",
     "text": [
      "training: 100%|██████████| 553/553 [03:40<00:00,  2.51it/s, train_loss_1=0.000784, train_loss_2=0.000305, train_loss_3=0.000214, train_loss_4=0.00102, train_loss_5=0.000359, train_loss_6=0.00034, train_loss_7=0.000261, train_loss_8=0.000662]  \n",
      "validation: 100%|██████████| 3/3 [00:00<00:00,  8.35it/s, eval_loss_1=0.00139, eval_loss_2=0.000512, eval_loss_3=0.000349, eval_loss_4=0.0013, eval_loss_5=0.0005, eval_loss_6=0.000435, eval_loss_7=0.0003, eval_loss_8=0.00096]      \n"
     ]
    },
    {
     "name": "stdout",
     "output_type": "stream",
     "text": [
      "Evaluation Score 1 : [0.0014381794026121497]\n",
      "Evaluation Score 2 : [0.0004850688953107844]\n",
      "Evaluation Score 3 : [0.00032627012114971876]\n",
      "Evaluation Score 4 : [0.001384420592027406]\n",
      "Evaluation Score 5 : [0.0004999815525176624]\n",
      "Evaluation Score 6 : [0.00048552107182331383]\n",
      "Evaluation Score 7 : [0.0003390646888874471]\n",
      "Evaluation Score 8 : [0.0009733093902468681]\n",
      "\n",
      "\n",
      "Epoch 26\n"
     ]
    },
    {
     "name": "stderr",
     "output_type": "stream",
     "text": [
      "training: 100%|██████████| 553/553 [03:48<00:00,  2.43it/s, train_loss_1=0.000409, train_loss_2=0.000412, train_loss_3=0.000171, train_loss_4=0.0009, train_loss_5=0.00021, train_loss_6=0.00036, train_loss_7=0.000366, train_loss_8=0.000646]    \n",
      "validation: 100%|██████████| 3/3 [00:00<00:00,  8.37it/s, eval_loss_1=0.000437, eval_loss_2=0.000621, eval_loss_3=0.000266, eval_loss_4=0.000996, eval_loss_5=0.000299, eval_loss_6=0.000339, eval_loss_7=0.000324, eval_loss_8=0.00101]\n"
     ]
    },
    {
     "name": "stdout",
     "output_type": "stream",
     "text": [
      "Evaluation Score 1 : [0.0004861515772063285]\n",
      "Evaluation Score 2 : [0.0005643567225585381]\n",
      "Evaluation Score 3 : [0.0002601921927028646]\n",
      "Evaluation Score 4 : [0.001047040626872331]\n",
      "Evaluation Score 5 : [0.0002961900415054212]\n",
      "Evaluation Score 6 : [0.00046137643706363934]\n",
      "Evaluation Score 7 : [0.00035785624640993774]\n",
      "Evaluation Score 8 : [0.001127321117868026]\n",
      "\n",
      "\n",
      "Epoch 27\n"
     ]
    },
    {
     "name": "stderr",
     "output_type": "stream",
     "text": [
      "training: 100%|██████████| 553/553 [03:40<00:00,  2.51it/s, train_loss_1=0.000327, train_loss_2=0.00037, train_loss_3=0.000245, train_loss_4=0.00153, train_loss_5=0.000458, train_loss_6=0.000216, train_loss_7=0.000383, train_loss_8=0.000699]  \n",
      "validation: 100%|██████████| 3/3 [00:00<00:00,  8.34it/s, eval_loss_1=0.000364, eval_loss_2=0.000522, eval_loss_3=0.000239, eval_loss_4=0.00121, eval_loss_5=0.000443, eval_loss_6=0.000252, eval_loss_7=0.000425, eval_loss_8=0.000872]\n"
     ]
    },
    {
     "name": "stdout",
     "output_type": "stream",
     "text": [
      "Evaluation Score 1 : [0.00041157361314011115]\n",
      "Evaluation Score 2 : [0.0005232343877044817]\n",
      "Evaluation Score 3 : [0.00024319014725430557]\n",
      "Evaluation Score 4 : [0.001237506667772929]\n",
      "Evaluation Score 5 : [0.0004717893316410482]\n",
      "Evaluation Score 6 : [0.00029002980833562714]\n",
      "Evaluation Score 7 : [0.0004790896103562166]\n",
      "Evaluation Score 8 : [0.0007975404344809552]\n",
      "\n",
      "\n",
      "Epoch 28\n"
     ]
    },
    {
     "name": "stderr",
     "output_type": "stream",
     "text": [
      "training: 100%|██████████| 553/553 [03:39<00:00,  2.52it/s, train_loss_1=0.000218, train_loss_2=0.000773, train_loss_3=0.000265, train_loss_4=0.000935, train_loss_5=0.000158, train_loss_6=0.000264, train_loss_7=0.000913, train_loss_8=0.00122] \n",
      "validation: 100%|██████████| 3/3 [00:00<00:00,  8.35it/s, eval_loss_1=0.000225, eval_loss_2=0.000783, eval_loss_3=0.000329, eval_loss_4=0.00101, eval_loss_5=0.000232, eval_loss_6=0.000207, eval_loss_7=0.00105, eval_loss_8=0.000967]\n"
     ]
    },
    {
     "name": "stdout",
     "output_type": "stream",
     "text": [
      "Evaluation Score 1 : [0.0002479752341362958]\n",
      "Evaluation Score 2 : [0.0007245466307116052]\n",
      "Evaluation Score 3 : [0.000311023264657706]\n",
      "Evaluation Score 4 : [0.0009348704285609225]\n",
      "Evaluation Score 5 : [0.0002194400925266867]\n",
      "Evaluation Score 6 : [0.00025019413442350924]\n",
      "Evaluation Score 7 : [0.0009426047132971386]\n",
      "Evaluation Score 8 : [0.0010003338490302365]\n",
      "\n",
      "\n",
      "Individual model 8 stopped training early at epoch 27\n",
      "Epoch 29\n"
     ]
    },
    {
     "name": "stderr",
     "output_type": "stream",
     "text": [
      "training: 100%|██████████| 553/553 [03:39<00:00,  2.52it/s, train_loss_1=0.000873, train_loss_2=0.000491, train_loss_3=0.000154, train_loss_4=0.000438, train_loss_5=0.000393, train_loss_6=0.000287, train_loss_7=0.000279, train_loss_8=0.000444]\n",
      "validation: 100%|██████████| 3/3 [00:00<00:00,  8.34it/s, eval_loss_1=0.000537, eval_loss_2=0.000573, eval_loss_3=0.000261, eval_loss_4=0.000604, eval_loss_5=0.000507, eval_loss_6=0.000407, eval_loss_7=0.000277, eval_loss_8=0.000369]\n"
     ]
    },
    {
     "name": "stdout",
     "output_type": "stream",
     "text": [
      "Evaluation Score 1 : [0.0006866310529100398]\n",
      "Evaluation Score 2 : [0.0005664409642728666]\n",
      "Evaluation Score 3 : [0.00024476268542154383]\n",
      "Evaluation Score 4 : [0.0006800788881567618]\n",
      "Evaluation Score 5 : [0.0005792075535282493]\n",
      "Evaluation Score 6 : [0.0005084782217939695]\n",
      "Evaluation Score 7 : [0.000326076823209102]\n",
      "Evaluation Score 8 : [0.0003744400358603646]\n",
      "\n",
      "\n",
      "Epoch 30\n"
     ]
    },
    {
     "name": "stderr",
     "output_type": "stream",
     "text": [
      "training: 100%|██████████| 553/553 [03:39<00:00,  2.52it/s, train_loss_1=0.000402, train_loss_2=0.00046, train_loss_3=0.000206, train_loss_4=0.000592, train_loss_5=0.000315, train_loss_6=0.000305, train_loss_7=0.000946, train_loss_8=0.000872] \n",
      "validation: 100%|██████████| 3/3 [00:00<00:00,  8.34it/s, eval_loss_1=0.000706, eval_loss_2=0.000639, eval_loss_3=0.000252, eval_loss_4=0.000727, eval_loss_5=0.000381, eval_loss_6=0.000595, eval_loss_7=0.00113, eval_loss_8=0.00144]\n"
     ]
    },
    {
     "name": "stdout",
     "output_type": "stream",
     "text": [
      "Evaluation Score 1 : [0.0007254630715275804]\n",
      "Evaluation Score 2 : [0.0006197305046953261]\n",
      "Evaluation Score 3 : [0.00023986949236132205]\n",
      "Evaluation Score 4 : [0.0008016780096416672]\n",
      "Evaluation Score 5 : [0.0003664480852118383]\n",
      "Evaluation Score 6 : [0.0006532435460637013]\n",
      "Evaluation Score 7 : [0.0012122927776848276]\n",
      "Evaluation Score 8 : [0.0015946720959618688]\n",
      "\n",
      "\n",
      "Epoch 31\n"
     ]
    },
    {
     "name": "stderr",
     "output_type": "stream",
     "text": [
      "training: 100%|██████████| 553/553 [03:45<00:00,  2.45it/s, train_loss_1=0.000834, train_loss_2=0.00063, train_loss_3=0.000191, train_loss_4=0.000563, train_loss_5=0.000206, train_loss_6=0.000222, train_loss_7=0.000753, train_loss_8=0.00128]  \n",
      "validation: 100%|██████████| 3/3 [00:00<00:00,  8.35it/s, eval_loss_1=0.000624, eval_loss_2=0.000705, eval_loss_3=0.000255, eval_loss_4=0.000498, eval_loss_5=0.000381, eval_loss_6=0.00033, eval_loss_7=0.000557, eval_loss_8=0.00118] \n"
     ]
    },
    {
     "name": "stdout",
     "output_type": "stream",
     "text": [
      "Evaluation Score 1 : [0.0006806577245394388]\n",
      "Evaluation Score 2 : [0.0007524176811178526]\n",
      "Evaluation Score 3 : [0.00024347736325580627]\n",
      "Evaluation Score 4 : [0.0005573398084379733]\n",
      "Evaluation Score 5 : [0.00036623749959593016]\n",
      "Evaluation Score 6 : [0.000328942221434166]\n",
      "Evaluation Score 7 : [0.0005605407059192657]\n",
      "Evaluation Score 8 : [0.0010869262429575126]\n",
      "\n",
      "\n",
      "Individual model 2 stopped training early at epoch 30\n",
      "Epoch 32\n"
     ]
    },
    {
     "name": "stderr",
     "output_type": "stream",
     "text": [
      "training: 100%|██████████| 553/553 [04:01<00:00,  2.29it/s, train_loss_1=0.000834, train_loss_2=0.000239, train_loss_3=0.000217, train_loss_4=0.000429, train_loss_5=0.000236, train_loss_6=0.000273, train_loss_7=0.000184, train_loss_8=0.00111] \n",
      "validation: 100%|██████████| 3/3 [00:00<00:00,  8.35it/s, eval_loss_1=0.00115, eval_loss_2=0.000361, eval_loss_3=0.000222, eval_loss_4=0.000528, eval_loss_5=0.000289, eval_loss_6=0.000269, eval_loss_7=0.000194, eval_loss_8=0.0011]   \n"
     ]
    },
    {
     "name": "stdout",
     "output_type": "stream",
     "text": [
      "Evaluation Score 1 : [0.0010064061886320512]\n",
      "Evaluation Score 2 : [0.0003401832946110517]\n",
      "Evaluation Score 3 : [0.00021390696444238225]\n",
      "Evaluation Score 4 : [0.0005359720380511135]\n",
      "Evaluation Score 5 : [0.0002838265791069716]\n",
      "Evaluation Score 6 : [0.00027576521582280594]\n",
      "Evaluation Score 7 : [0.0002224180983224263]\n",
      "Evaluation Score 8 : [0.0009310629102401435]\n",
      "\n",
      "\n",
      "Epoch 33\n"
     ]
    },
    {
     "name": "stderr",
     "output_type": "stream",
     "text": [
      "training: 100%|██████████| 553/553 [03:39<00:00,  2.52it/s, train_loss_1=0.000558, train_loss_2=0.000531, train_loss_3=0.00026, train_loss_4=0.000461, train_loss_5=0.000494, train_loss_6=0.000183, train_loss_7=0.000274, train_loss_8=0.000999] \n",
      "validation: 100%|██████████| 3/3 [00:00<00:00,  8.00it/s, eval_loss_1=0.000654, eval_loss_2=0.000699, eval_loss_3=0.000263, eval_loss_4=0.0008, eval_loss_5=0.000382, eval_loss_6=0.000164, eval_loss_7=0.000201, eval_loss_8=0.000992]  \n"
     ]
    },
    {
     "name": "stdout",
     "output_type": "stream",
     "text": [
      "Evaluation Score 1 : [0.0006650759799716374]\n",
      "Evaluation Score 2 : [0.0006663695870277783]\n",
      "Evaluation Score 3 : [0.00023536645070028803]\n",
      "Evaluation Score 4 : [0.0008156523496533433]\n",
      "Evaluation Score 5 : [0.0003350121066129456]\n",
      "Evaluation Score 6 : [0.00019318296593458703]\n",
      "Evaluation Score 7 : [0.00020753604379327348]\n",
      "Evaluation Score 8 : [0.000901981140486896]\n",
      "\n",
      "\n",
      "Epoch 34\n"
     ]
    },
    {
     "name": "stderr",
     "output_type": "stream",
     "text": [
      "training: 100%|██████████| 553/553 [03:39<00:00,  2.52it/s, train_loss_1=0.000462, train_loss_2=0.00173, train_loss_3=0.000317, train_loss_4=0.000659, train_loss_5=0.000423, train_loss_6=0.000414, train_loss_7=0.000272, train_loss_8=0.000501] \n",
      "validation: 100%|██████████| 3/3 [00:00<00:00,  8.35it/s, eval_loss_1=0.000591, eval_loss_2=0.00174, eval_loss_3=0.0003, eval_loss_4=0.00109, eval_loss_5=0.000508, eval_loss_6=0.000329, eval_loss_7=0.00025, eval_loss_8=0.000428] \n"
     ]
    },
    {
     "name": "stdout",
     "output_type": "stream",
     "text": [
      "Evaluation Score 1 : [0.000639807452292492]\n",
      "Evaluation Score 2 : [0.0019381096353754401]\n",
      "Evaluation Score 3 : [0.0002731444061889003]\n",
      "Evaluation Score 4 : [0.001103495752128462]\n",
      "Evaluation Score 5 : [0.0004956503592741986]\n",
      "Evaluation Score 6 : [0.00036721503905331093]\n",
      "Evaluation Score 7 : [0.00026046290683249634]\n",
      "Evaluation Score 8 : [0.0004216736415401101]\n",
      "\n",
      "\n",
      "Individual model 1 stopped training early at epoch 33\n",
      "Epoch 35\n"
     ]
    },
    {
     "name": "stderr",
     "output_type": "stream",
     "text": [
      "training: 100%|██████████| 553/553 [03:39<00:00,  2.52it/s, train_loss_1=0.000215, train_loss_2=0.000265, train_loss_3=0.000199, train_loss_4=0.000711, train_loss_5=0.000155, train_loss_6=0.000244, train_loss_7=0.000396, train_loss_8=0.000526]\n",
      "validation: 100%|██████████| 3/3 [00:00<00:00,  8.35it/s, eval_loss_1=0.000351, eval_loss_2=0.000361, eval_loss_3=0.000233, eval_loss_4=0.00102, eval_loss_5=0.000169, eval_loss_6=0.000209, eval_loss_7=0.000381, eval_loss_8=0.000742] \n"
     ]
    },
    {
     "name": "stdout",
     "output_type": "stream",
     "text": [
      "Evaluation Score 1 : [0.0003725964537200828]\n",
      "Evaluation Score 2 : [0.00034579512430354953]\n",
      "Evaluation Score 3 : [0.00021854642545804381]\n",
      "Evaluation Score 4 : [0.0010158506726535659]\n",
      "Evaluation Score 5 : [0.0001770942956985285]\n",
      "Evaluation Score 6 : [0.00022514845477417111]\n",
      "Evaluation Score 7 : [0.00038069335278123617]\n",
      "Evaluation Score 8 : [0.000725497646878163]\n",
      "\n",
      "\n",
      "Epoch 36\n"
     ]
    },
    {
     "name": "stderr",
     "output_type": "stream",
     "text": [
      "training: 100%|██████████| 553/553 [03:39<00:00,  2.52it/s, train_loss_1=0.000395, train_loss_2=0.000395, train_loss_3=0.00024, train_loss_4=0.000397, train_loss_5=0.000169, train_loss_6=0.000142, train_loss_7=0.000222, train_loss_8=0.000963] \n",
      "validation: 100%|██████████| 3/3 [00:00<00:00,  8.36it/s, eval_loss_1=0.000414, eval_loss_2=0.000392, eval_loss_3=0.000314, eval_loss_4=0.000411, eval_loss_5=0.000175, eval_loss_6=0.00018, eval_loss_7=0.000194, eval_loss_8=0.000821] \n"
     ]
    },
    {
     "name": "stdout",
     "output_type": "stream",
     "text": [
      "Evaluation Score 1 : [0.00041101751655029756]\n",
      "Evaluation Score 2 : [0.00039208572707138956]\n",
      "Evaluation Score 3 : [0.00027933249172444147]\n",
      "Evaluation Score 4 : [0.00044631892039130133]\n",
      "Evaluation Score 5 : [0.00016223441828818372]\n",
      "Evaluation Score 6 : [0.0002004791604122147]\n",
      "Evaluation Score 7 : [0.0002003261373223116]\n",
      "Evaluation Score 8 : [0.0007945016259327531]\n",
      "\n",
      "\n",
      "Epoch 37\n"
     ]
    },
    {
     "name": "stderr",
     "output_type": "stream",
     "text": [
      "training: 100%|██████████| 553/553 [03:39<00:00,  2.52it/s, train_loss_1=0.000164, train_loss_2=0.000293, train_loss_3=0.000112, train_loss_4=0.000336, train_loss_5=0.000112, train_loss_6=0.00041, train_loss_7=0.000646, train_loss_8=0.00183]  \n",
      "validation: 100%|██████████| 3/3 [00:00<00:00,  8.35it/s, eval_loss_1=0.000146, eval_loss_2=0.000286, eval_loss_3=0.000155, eval_loss_4=0.00034, eval_loss_5=0.000183, eval_loss_6=0.000453, eval_loss_7=0.000753, eval_loss_8=0.00133]\n"
     ]
    },
    {
     "name": "stdout",
     "output_type": "stream",
     "text": [
      "Evaluation Score 1 : [0.0001749105043321227]\n",
      "Evaluation Score 2 : [0.0002825254826651265]\n",
      "Evaluation Score 3 : [0.00014991552355544022]\n",
      "Evaluation Score 4 : [0.0003838360620041688]\n",
      "Evaluation Score 5 : [0.00017516862135380507]\n",
      "Evaluation Score 6 : [0.0005750705313403159]\n",
      "Evaluation Score 7 : [0.0008479697862640023]\n",
      "Evaluation Score 8 : [0.0015729265287518501]\n",
      "\n",
      "\n",
      "Epoch 38\n"
     ]
    },
    {
     "name": "stderr",
     "output_type": "stream",
     "text": [
      "training: 100%|██████████| 553/553 [03:40<00:00,  2.50it/s, train_loss_1=0.000308, train_loss_2=0.000342, train_loss_3=0.000189, train_loss_4=0.000473, train_loss_5=0.000765, train_loss_6=0.000217, train_loss_7=0.000268, train_loss_8=0.000136]\n",
      "validation: 100%|██████████| 3/3 [00:00<00:00,  8.35it/s, eval_loss_1=0.000433, eval_loss_2=0.000306, eval_loss_3=0.000256, eval_loss_4=0.000691, eval_loss_5=0.000598, eval_loss_6=0.000307, eval_loss_7=0.000361, eval_loss_8=0.000268]\n"
     ]
    },
    {
     "name": "stdout",
     "output_type": "stream",
     "text": [
      "Evaluation Score 1 : [0.00043054855389830965]\n",
      "Evaluation Score 2 : [0.000264925120670038]\n",
      "Evaluation Score 3 : [0.0002380625664955005]\n",
      "Evaluation Score 4 : [0.0006857870418267945]\n",
      "Evaluation Score 5 : [0.0005854211049154401]\n",
      "Evaluation Score 6 : [0.00035115418722853065]\n",
      "Evaluation Score 7 : [0.00039487340836785734]\n",
      "Evaluation Score 8 : [0.0002488743484718725]\n",
      "\n",
      "\n",
      "Epoch 39\n"
     ]
    },
    {
     "name": "stderr",
     "output_type": "stream",
     "text": [
      "training: 100%|██████████| 553/553 [03:40<00:00,  2.51it/s, train_loss_1=0.00062, train_loss_2=0.000289, train_loss_3=0.000223, train_loss_4=0.000241, train_loss_5=0.000786, train_loss_6=0.000208, train_loss_7=0.000241, train_loss_8=0.000508] \n",
      "validation: 100%|██████████| 3/3 [00:00<00:00,  8.35it/s, eval_loss_1=0.000994, eval_loss_2=0.000677, eval_loss_3=0.000419, eval_loss_4=0.000381, eval_loss_5=0.00127, eval_loss_6=0.000219, eval_loss_7=0.000629, eval_loss_8=0.00159]\n"
     ]
    },
    {
     "name": "stdout",
     "output_type": "stream",
     "text": [
      "Evaluation Score 1 : [0.000997117526518802]\n",
      "Evaluation Score 2 : [0.0006661577111420532]\n",
      "Evaluation Score 3 : [0.000380967918317765]\n",
      "Evaluation Score 4 : [0.0003910094383172691]\n",
      "Evaluation Score 5 : [0.0012237843281279008]\n",
      "Evaluation Score 6 : [0.0002910681408441936]\n",
      "Evaluation Score 7 : [0.0006266492224919299]\n",
      "Evaluation Score 8 : [0.001411294254163901]\n",
      "\n",
      "\n",
      "Individual model 6 stopped training early at epoch 38\n",
      "Epoch 40\n"
     ]
    },
    {
     "name": "stderr",
     "output_type": "stream",
     "text": [
      "training: 100%|██████████| 553/553 [03:40<00:00,  2.51it/s, train_loss_1=0.00023, train_loss_2=0.000341, train_loss_3=0.000152, train_loss_4=0.000712, train_loss_5=0.000321, train_loss_6=0.000198, train_loss_7=0.000225, train_loss_8=0.000186] \n",
      "validation: 100%|██████████| 3/3 [00:00<00:00,  8.35it/s, eval_loss_1=0.000241, eval_loss_2=0.000428, eval_loss_3=0.000204, eval_loss_4=0.000844, eval_loss_5=0.000462, eval_loss_6=0.000192, eval_loss_7=0.000236, eval_loss_8=0.000288]\n"
     ]
    },
    {
     "name": "stdout",
     "output_type": "stream",
     "text": [
      "Evaluation Score 1 : [0.000259053743017527]\n",
      "Evaluation Score 2 : [0.0003957581454111884]\n",
      "Evaluation Score 3 : [0.0001866832608357072]\n",
      "Evaluation Score 4 : [0.0009381838802558681]\n",
      "Evaluation Score 5 : [0.0004474120893670867]\n",
      "Evaluation Score 6 : [0.00021667937107849866]\n",
      "Evaluation Score 7 : [0.0002543987793615088]\n",
      "Evaluation Score 8 : [0.00028702247072942555]\n",
      "\n",
      "\n",
      "Epoch 41\n"
     ]
    },
    {
     "name": "stderr",
     "output_type": "stream",
     "text": [
      "training: 100%|██████████| 553/553 [03:40<00:00,  2.51it/s, train_loss_1=0.0012, train_loss_2=0.000339, train_loss_3=0.000177, train_loss_4=0.000921, train_loss_5=0.000182, train_loss_6=0.000478, train_loss_7=0.000172, train_loss_8=0.0005]    \n",
      "validation: 100%|██████████| 3/3 [00:00<00:00,  8.35it/s, eval_loss_1=0.00113, eval_loss_2=0.000383, eval_loss_3=0.000207, eval_loss_4=0.00238, eval_loss_5=0.000209, eval_loss_6=0.000202, eval_loss_7=0.000244, eval_loss_8=0.000627]\n"
     ]
    },
    {
     "name": "stdout",
     "output_type": "stream",
     "text": [
      "Evaluation Score 1 : [0.0010347874097836514]\n",
      "Evaluation Score 2 : [0.00034445558170167107]\n",
      "Evaluation Score 3 : [0.0001838298048824072]\n",
      "Evaluation Score 4 : [0.002390865779792269]\n",
      "Evaluation Score 5 : [0.00020369172852952033]\n",
      "Evaluation Score 6 : [0.000250959206217279]\n",
      "Evaluation Score 7 : [0.0002551120608889808]\n",
      "Evaluation Score 8 : [0.0006422847509384155]\n",
      "\n",
      "\n",
      "Epoch 42\n"
     ]
    },
    {
     "name": "stderr",
     "output_type": "stream",
     "text": [
      "training: 100%|██████████| 553/553 [03:40<00:00,  2.51it/s, train_loss_1=0.000433, train_loss_2=0.000526, train_loss_3=0.00024, train_loss_4=0.00034, train_loss_5=0.000248, train_loss_6=0.000207, train_loss_7=0.000202, train_loss_8=0.000322]  \n",
      "validation: 100%|██████████| 3/3 [00:00<00:00,  8.35it/s, eval_loss_1=0.000499, eval_loss_2=0.000627, eval_loss_3=0.000227, eval_loss_4=0.000382, eval_loss_5=0.000384, eval_loss_6=0.000182, eval_loss_7=0.000205, eval_loss_8=0.000352]\n"
     ]
    },
    {
     "name": "stdout",
     "output_type": "stream",
     "text": [
      "Evaluation Score 1 : [0.0005064521295328935]\n",
      "Evaluation Score 2 : [0.0006216846910926203]\n",
      "Evaluation Score 3 : [0.00022064777537404248]\n",
      "Evaluation Score 4 : [0.0004063004453200847]\n",
      "Evaluation Score 5 : [0.00036830069924083847]\n",
      "Evaluation Score 6 : [0.0002061682656252136]\n",
      "Evaluation Score 7 : [0.00020730468289305767]\n",
      "Evaluation Score 8 : [0.0003631878159164141]\n",
      "\n",
      "\n",
      "Epoch 43\n"
     ]
    },
    {
     "name": "stderr",
     "output_type": "stream",
     "text": [
      "training: 100%|██████████| 553/553 [03:49<00:00,  2.41it/s, train_loss_1=0.000565, train_loss_2=0.000326, train_loss_3=0.000126, train_loss_4=0.000217, train_loss_5=0.000241, train_loss_6=0.000204, train_loss_7=0.000267, train_loss_8=0.000711]\n",
      "validation: 100%|██████████| 3/3 [00:00<00:00,  8.42it/s, eval_loss_1=0.000658, eval_loss_2=0.000396, eval_loss_3=0.000227, eval_loss_4=0.000224, eval_loss_5=0.000387, eval_loss_6=0.000193, eval_loss_7=0.000515, eval_loss_8=0.000963]"
     ]
    },
    {
     "name": "stdout",
     "output_type": "stream",
     "text": [
      "Evaluation Score 1 : [0.0006795729471681019]\n",
      "Evaluation Score 2 : [0.00037798484360488754]\n",
      "Evaluation Score 3 : [0.0002078747929772362]\n",
      "Evaluation Score 4 : [0.000250752957072109]\n",
      "Evaluation Score 5 : [0.000370444458288451]\n",
      "Evaluation Score 6 : [0.00021556047431658953]\n",
      "Evaluation Score 7 : [0.0005246192255678276]\n",
      "Evaluation Score 8 : [0.0009331640515786906]\n",
      "\n",
      "\n",
      "Individual model 3 stopped training early at epoch 42\n",
      "Entire zonal model training stopped early at epoch: 42\n",
      "\n",
      "Total time of training: 2.7546780435906517 hours\n"
     ]
    },
    {
     "name": "stderr",
     "output_type": "stream",
     "text": [
      "\n"
     ]
    }
   ],
   "source": [
    "start_time = time.time()\n",
    "\n",
    "# Train the VAE model\n",
    "for epoch in range(200):\n",
    "    print('Epoch', epoch + 1)\n",
    "\n",
    "    train_losses, \\\n",
    "    trained_model_1, \\\n",
    "    trained_model_2, \\\n",
    "    trained_model_3, \\\n",
    "    trained_model_4, \\\n",
    "    trained_model_5, \\\n",
    "    trained_model_6, \\\n",
    "    trained_model_7, \\\n",
    "    trained_model_8 = train(vae_lstm_1, vae_lstm_2, vae_lstm_3, vae_lstm_4,\n",
    "                            vae_lstm_5, vae_lstm_6, vae_lstm_7, vae_lstm_8,\n",
    "                            optimizer=opt, train_loader=train_dataloader)\n",
    "\n",
    "    valid_losses = valid_or_test(trained_model_1, trained_model_2, trained_model_3, trained_model_4,\n",
    "                                 trained_model_5, trained_model_6, trained_model_7, trained_model_8,\n",
    "                  data_loader=valid_dataloader, mode=\"valid\")\n",
    "\n",
    "    # For model 1\n",
    "    if (valid_losses[0] < lowest_loss_1) and (model_train_flag_1 == False):\n",
    "        lowest_loss_1 = valid_losses[0]\n",
    "        lowest_loss_epoch_1 = epoch\n",
    "        save_checkpoint(trained_model_1, os.path.join(os.getcwd(), \"vae_checkpoint\", \"vae_best_model_1.pth\"))\n",
    "\n",
    "    elif (epoch - lowest_loss_epoch_1 > early_stop_patience) and (model_train_flag_1 == False):\n",
    "        print(\"Individual model {} stopped training early at epoch {}\".format(1, epoch))\n",
    "        model_train_flag_1 = True\n",
    "\n",
    "    # For model 2\n",
    "    if (valid_losses[1] < lowest_loss_2) and (model_train_flag_2 == False):\n",
    "        lowest_loss_2 = valid_losses[1]\n",
    "        lowest_loss_epoch_2 = epoch\n",
    "        save_checkpoint(trained_model_2, os.path.join(os.getcwd(), \"vae_checkpoint\", \"vae_best_model_2.pth\"))\n",
    "\n",
    "    elif (epoch - lowest_loss_epoch_2 > early_stop_patience) and (model_train_flag_2 == False):\n",
    "        print(\"Individual model {} stopped training early at epoch {}\".format(2, epoch))\n",
    "        model_train_flag_2 = True\n",
    "\n",
    "    # For model 3\n",
    "    if (valid_losses[2] < lowest_loss_3) and (model_train_flag_3 == False):\n",
    "        lowest_loss_3 = valid_losses[2]\n",
    "        lowest_loss_epoch_3 = epoch\n",
    "        save_checkpoint(trained_model_3, os.path.join(os.getcwd(), \"vae_checkpoint\", \"vae_best_model_3.pth\"))\n",
    "\n",
    "    elif (epoch - lowest_loss_epoch_3 > early_stop_patience) and (model_train_flag_3 == False):\n",
    "        print(\"Individual model {} stopped training early at epoch {}\".format(3, epoch))\n",
    "        model_train_flag_3 = True\n",
    "\n",
    "    # For model 4\n",
    "    if (valid_losses[3] < lowest_loss_4) and (model_train_flag_4 == False):\n",
    "        lowest_loss_4 = valid_losses[3]\n",
    "        lowest_loss_epoch_4 = epoch\n",
    "        save_checkpoint(trained_model_4, os.path.join(os.getcwd(), \"vae_checkpoint\", \"vae_best_model_4.pth\"))\n",
    "\n",
    "    elif (epoch - lowest_loss_epoch_4 > early_stop_patience) and (model_train_flag_4 == False):\n",
    "        print(\"Individual model {} stopped training early at epoch {}\".format(4, epoch))\n",
    "        model_train_flag_4 = True\n",
    "\n",
    "    # For model 5\n",
    "    if (valid_losses[4] < lowest_loss_5) and (model_train_flag_5 == False):\n",
    "        lowest_loss_5 = valid_losses[4]\n",
    "        lowest_loss_epoch_5 = epoch\n",
    "        save_checkpoint(trained_model_5, os.path.join(os.getcwd(), \"vae_checkpoint\", \"vae_best_model_5.pth\"))\n",
    "\n",
    "    elif (epoch - lowest_loss_epoch_5 > early_stop_patience) and (model_train_flag_5 == False):\n",
    "        print(\"Individual model {} stopped training early at epoch {}\".format(5, epoch))\n",
    "        model_train_flag_5 = True\n",
    "\n",
    "    # For model 6\n",
    "    if (valid_losses[5] < lowest_loss_6) and (model_train_flag_6 == False):\n",
    "        lowest_loss_6 = valid_losses[5]\n",
    "        lowest_loss_epoch_6 = epoch\n",
    "        save_checkpoint(trained_model_6, os.path.join(os.getcwd(), \"vae_checkpoint\", \"vae_best_model_6.pth\"))\n",
    "\n",
    "    elif (epoch - lowest_loss_epoch_6 > early_stop_patience) and (model_train_flag_6 == False):\n",
    "        print(\"Individual model {} stopped training early at epoch {}\".format(6, epoch))\n",
    "        model_train_flag_6 = True\n",
    "\n",
    "    # For model 7\n",
    "    if (valid_losses[6] < lowest_loss_7) and (model_train_flag_7 == False):\n",
    "        lowest_loss_7 = valid_losses[6]\n",
    "        lowest_loss_epoch_7 = epoch\n",
    "        save_checkpoint(trained_model_7, os.path.join(os.getcwd(), \"vae_checkpoint\", \"vae_best_model_7.pth\"))\n",
    "\n",
    "    elif (epoch - lowest_loss_epoch_7 > early_stop_patience) and (model_train_flag_7 == False):\n",
    "        print(\"Individual model {} stopped training early at epoch {}\".format(7, epoch))\n",
    "        model_train_flag_7 = True\n",
    "\n",
    "    # For model 8\n",
    "    if (valid_losses[7] < lowest_loss_8) and (model_train_flag_8 == False):\n",
    "        lowest_loss_8 = valid_losses[7]\n",
    "        lowest_loss_epoch_8 = epoch\n",
    "        save_checkpoint(trained_model_8, os.path.join(os.getcwd(), \"vae_checkpoint\", \"vae_best_model_8.pth\"))\n",
    "\n",
    "    elif (epoch - lowest_loss_epoch_8 > early_stop_patience) and (model_train_flag_8 == False):\n",
    "        print(\"Individual model {} stopped training early at epoch {}\".format(8, epoch))\n",
    "        model_train_flag_8 = True\n",
    "\n",
    "    if all((model_train_flag_1, model_train_flag_2, model_train_flag_3, model_train_flag_4,\n",
    "            model_train_flag_5, model_train_flag_6, model_train_flag_7, model_train_flag_8)):\n",
    "        print(\"Entire zonal model training stopped early at epoch: {}\".format(epoch))\n",
    "        break\n",
    "\n",
    "end_time = time.time()\n",
    "\n",
    "total_time = end_time - start_time\n",
    "print(\"\\nTotal time of training: {} hours\".format(total_time/3600))"
   ],
   "metadata": {
    "collapsed": false
   }
  },
  {
   "cell_type": "markdown",
   "source": [
    "#### LOADING AND GENERATING RESULTS ON TEST DATALOADER"
   ],
   "metadata": {
    "collapsed": false
   }
  },
  {
   "cell_type": "code",
   "execution_count": 43,
   "outputs": [],
   "source": [
    "# Loading the models\n",
    "best_vae_lstm_model_1 = load_from_checkpoint(trained_model_1, os.path.join(os.getcwd(), \"vae_checkpoint\", \"vae_best_model_1.pth\"))\n",
    "best_vae_lstm_model_2 = load_from_checkpoint(trained_model_2, os.path.join(os.getcwd(), \"vae_checkpoint\", \"vae_best_model_2.pth\"))\n",
    "best_vae_lstm_model_3 = load_from_checkpoint(trained_model_3, os.path.join(os.getcwd(), \"vae_checkpoint\", \"vae_best_model_3.pth\"))\n",
    "best_vae_lstm_model_4 = load_from_checkpoint(trained_model_4, os.path.join(os.getcwd(), \"vae_checkpoint\", \"vae_best_model_4.pth\"))\n",
    "best_vae_lstm_model_5 = load_from_checkpoint(trained_model_5, os.path.join(os.getcwd(), \"vae_checkpoint\", \"vae_best_model_5.pth\"))\n",
    "best_vae_lstm_model_6 = load_from_checkpoint(trained_model_6, os.path.join(os.getcwd(), \"vae_checkpoint\", \"vae_best_model_6.pth\"))\n",
    "best_vae_lstm_model_7 = load_from_checkpoint(trained_model_7, os.path.join(os.getcwd(), \"vae_checkpoint\", \"vae_best_model_7.pth\"))\n",
    "best_vae_lstm_model_8 = load_from_checkpoint(trained_model_8, os.path.join(os.getcwd(), \"vae_checkpoint\", \"vae_best_model_8.pth\"))"
   ],
   "metadata": {
    "collapsed": false
   }
  },
  {
   "cell_type": "code",
   "execution_count": 44,
   "outputs": [
    {
     "name": "stderr",
     "output_type": "stream",
     "text": [
      "testing: 100%|██████████| 3/3 [00:00<00:00,  8.35it/s, eval_loss_1=0.000225, eval_loss_2=0.000399, eval_loss_3=0.000126, eval_loss_4=0.000573, eval_loss_5=0.000547, eval_loss_6=0.000175, eval_loss_7=0.000476, eval_loss_8=0.000389]"
     ]
    },
    {
     "name": "stdout",
     "output_type": "stream",
     "text": [
      "Evaluation Score 1 : [0.00025474743839974207]\n",
      "Evaluation Score 2 : [0.00042591732926666737]\n",
      "Evaluation Score 3 : [0.00015740017503655204]\n",
      "Evaluation Score 4 : [0.000605735753197223]\n",
      "Evaluation Score 5 : [0.0005920956609770656]\n",
      "Evaluation Score 6 : [0.00019692468049470335]\n",
      "Evaluation Score 7 : [0.0004761634045280516]\n",
      "Evaluation Score 8 : [0.00046803627628833055]\n",
      "\n",
      "\n"
     ]
    },
    {
     "name": "stderr",
     "output_type": "stream",
     "text": [
      "\n"
     ]
    }
   ],
   "source": [
    "# Testing using the test dataloader\n",
    "orig_1, pred_1, \\\n",
    "orig_2, pred_2, \\\n",
    "orig_3, pred_3, \\\n",
    "orig_4, pred_4, \\\n",
    "orig_5, pred_5, \\\n",
    "orig_6, pred_6, \\\n",
    "orig_7, pred_7, \\\n",
    "orig_8, pred_8  = valid_or_test(best_vae_lstm_model_1,\n",
    "                                best_vae_lstm_model_2,\n",
    "                                best_vae_lstm_model_3,\n",
    "                                best_vae_lstm_model_4,\n",
    "                                best_vae_lstm_model_5,\n",
    "                                best_vae_lstm_model_6,\n",
    "                                best_vae_lstm_model_7,\n",
    "                                best_vae_lstm_model_8,\n",
    "                                data_loader=test_dataloader, mode=\"test\")"
   ],
   "metadata": {
    "collapsed": false
   }
  },
  {
   "cell_type": "code",
   "execution_count": 45,
   "outputs": [],
   "source": [
    "orig = pd.DataFrame(orig_7)\n",
    "pred = pd.DataFrame(pred_7)"
   ],
   "metadata": {
    "collapsed": false
   }
  },
  {
   "cell_type": "code",
   "execution_count": 46,
   "outputs": [
    {
     "data": {
      "text/plain": "<AxesSubplot: >"
     },
     "execution_count": 46,
     "metadata": {},
     "output_type": "execute_result"
    },
    {
     "data": {
      "text/plain": "<Figure size 640x480 with 1 Axes>",
      "image/png": "[encoded data removed]"
     },
     "metadata": {},
     "output_type": "display_data"
    }
   ],
   "source": [
    "pd.concat((orig.iloc[:, 0], pred.iloc[:, 0]), axis=1).plot()"
   ],
   "metadata": {
    "collapsed": false
   }
  },
  {
   "cell_type": "code",
   "execution_count": 47,
   "outputs": [
    {
     "data": {
      "text/plain": "<AxesSubplot: >"
     },
     "execution_count": 47,
     "metadata": {},
     "output_type": "execute_result"
    },
    {
     "data": {
      "text/plain": "<Figure size 640x480 with 1 Axes>",
      "image/png": "[encoded data removed]"
     },
     "metadata": {},
     "output_type": "display_data"
    }
   ],
   "source": [
    "pd.concat((orig.iloc[:, 1], pred.iloc[:, 1]), axis=1).plot()"
   ],
   "metadata": {
    "collapsed": false
   }
  },
  {
   "cell_type": "code",
   "execution_count": 48,
   "outputs": [
    {
     "data": {
      "text/plain": "<AxesSubplot: >"
     },
     "execution_count": 48,
     "metadata": {},
     "output_type": "execute_result"
    },
    {
     "data": {
      "text/plain": "<Figure size 640x480 with 1 Axes>",
      "image/png": "[encoded data removed]"
     },
     "metadata": {},
     "output_type": "display_data"
    }
   ],
   "source": [
    "pd.concat((orig.iloc[:, 2], pred.iloc[:, 2]), axis=1).plot()"
   ],
   "metadata": {
    "collapsed": false
   }
  },
  {
   "cell_type": "code",
   "execution_count": 49,
   "outputs": [
    {
     "data": {
      "text/plain": "1.2789562344551086"
     },
     "execution_count": 49,
     "metadata": {},
     "output_type": "execute_result"
    }
   ],
   "source": [
    "mape(orig.iloc[:, 0], pred.iloc[:, 0])"
   ],
   "metadata": {
    "collapsed": false
   }
  },
  {
   "cell_type": "code",
   "execution_count": 50,
   "outputs": [
    {
     "data": {
      "text/plain": "1.8591362982988358"
     },
     "execution_count": 50,
     "metadata": {},
     "output_type": "execute_result"
    }
   ],
   "source": [
    "mape(orig.iloc[:, 1], pred.iloc[:, 1])"
   ],
   "metadata": {
    "collapsed": false
   }
  },
  {
   "cell_type": "code",
   "execution_count": 51,
   "outputs": [
    {
     "data": {
      "text/plain": "2.045939862728119"
     },
     "execution_count": 51,
     "metadata": {},
     "output_type": "execute_result"
    }
   ],
   "source": [
    "mape(orig.iloc[:, 2], pred.iloc[:, 2])"
   ],
   "metadata": {
    "collapsed": false
   }
  },
  {
   "cell_type": "code",
   "execution_count": 52,
   "outputs": [
    {
     "name": "stdout",
     "output_type": "stream",
     "text": [
      "Saving the best trained models.\n",
      "Saved !\n"
     ]
    }
   ],
   "source": [
    "print(\"Saving the best trained models.\")\n",
    "\n",
    "# Saving the models\n",
    "torch.save(best_vae_lstm_model_1, f\"vae_models/L4_best_zone_1.pth\")\n",
    "torch.save(best_vae_lstm_model_2, f\"vae_models/L4_best_zone_2.pth\")\n",
    "torch.save(best_vae_lstm_model_3, f\"vae_models/L4_best_zone_3.pth\")\n",
    "torch.save(best_vae_lstm_model_4, f\"vae_models/L4_best_zone_4.pth\")\n",
    "torch.save(best_vae_lstm_model_5, f\"vae_models/L4_best_zone_5.pth\")\n",
    "torch.save(best_vae_lstm_model_6, f\"vae_models/L4_best_zone_6.pth\")\n",
    "torch.save(best_vae_lstm_model_7, f\"vae_models/L4_best_zone_7.pth\")\n",
    "torch.save(best_vae_lstm_model_8, f\"vae_models/L4_best_zone_8.pth\")\n",
    "\n",
    "print(\"Saved !\")"
   ],
   "metadata": {
    "collapsed": false
   }
  },
  {
   "cell_type": "code",
   "execution_count": 53,
   "outputs": [
    {
     "data": {
      "text/plain": "{'status': 'ok', 'restart': True}"
     },
     "execution_count": 53,
     "metadata": {},
     "output_type": "execute_result"
    }
   ],
   "source": [
    "import IPython\n",
    "app = IPython.Application.instance()\n",
    "app.kernel.do_shutdown(True)"
   ],
   "metadata": {
    "collapsed": false
   }
  }
 ],
 "metadata": {
  "kernelspec": {
   "display_name": "Python 3",
   "language": "python",
   "name": "python3"
  },
  "language_info": {
   "codemirror_mode": {
    "name": "ipython",
    "version": 2
   },
   "file_extension": ".py",
   "mimetype": "text/x-python",
   "name": "python",
   "nbconvert_exporter": "python",
   "pygments_lexer": "ipython2",
   "version": "2.7.6"
  }
 },
 "nbformat": 4,
 "nbformat_minor": 0
}
