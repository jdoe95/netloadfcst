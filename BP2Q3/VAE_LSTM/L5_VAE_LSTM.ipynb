{
 "cells": [
  {
   "cell_type": "code",
   "execution_count": 1,
   "outputs": [
    {
     "name": "stdout",
     "output_type": "stream",
     "text": [
      "Using device cuda:0\n"
     ]
    }
   ],
   "source": [
    "# Importing the required libraries\n",
    "from IPython.display import display\n",
    "import os\n",
    "import numpy as np\n",
    "import pandas as pd\n",
    "from matplotlib import pyplot as plt\n",
    "from tqdm import tqdm\n",
    "from sklearn.preprocessing import MinMaxScaler, OneHotEncoder\n",
    "import time\n",
    "import easydict\n",
    "\n",
    "import torch\n",
    "import torch.nn as nn\n",
    "from torch.utils.tensorboard import SummaryWriter\n",
    "from tqdm import tqdm\n",
    "from torch.utils.data import DataLoader, Dataset\n",
    "\n",
    "from vae_lstm_model import VAE_LSTM\n",
    "\n",
    "# Training device check-up\n",
    "device = torch.device(\"cuda:0\" if torch.cuda.is_available() else \"cpu\")\n",
    "print(f\"Using device {device}\")\n",
    "\n",
    "writer = SummaryWriter()\n",
    "\n",
    "# Defining DOE custom mape formula\n",
    "def mape(y_true, y_pred):\n",
    "    y_true, y_pred = np.array(y_true), np.array(y_pred)\n",
    "    return np.mean(np.abs((y_true - y_pred) / max(y_true))) * 100"
   ],
   "metadata": {
    "collapsed": false
   }
  },
  {
   "cell_type": "markdown",
   "source": [
    "#### FETCHING AND PROCESSING CALENDER FEATURES"
   ],
   "metadata": {
    "collapsed": false
   }
  },
  {
   "cell_type": "code",
   "execution_count": 2,
   "outputs": [],
   "source": [
    "# Specifying the path of file\n",
    "path= r\"C:\\Users\\sashah8\\OneDrive - North Carolina State University\\Desktop\\DOE\\DOE_Q1\\L5\""
   ],
   "metadata": {
    "collapsed": false
   }
  },
  {
   "cell_type": "code",
   "execution_count": 3,
   "outputs": [
    {
     "name": "stdout",
     "output_type": "stream",
     "text": [
      "Sample dataframe: \n"
     ]
    },
    {
     "data": {
      "text/plain": "                  utc                 ept       kw  tmpf\n0 2017-01-01 05:00:00 2017-01-01 00:00:00  15984.0  48.0\n1 2017-01-01 06:00:00 2017-01-01 01:00:00  15984.0  46.8",
      "text/html": "<div>\n<style scoped>\n    .dataframe tbody tr th:only-of-type {\n        vertical-align: middle;\n    }\n\n    .dataframe tbody tr th {\n        vertical-align: top;\n    }\n\n    .dataframe thead th {\n        text-align: right;\n    }\n</style>\n<table border=\"1\" class=\"dataframe\">\n  <thead>\n    <tr style=\"text-align: right;\">\n      <th></th>\n      <th>utc</th>\n      <th>ept</th>\n      <th>kw</th>\n      <th>tmpf</th>\n    </tr>\n  </thead>\n  <tbody>\n    <tr>\n      <th>0</th>\n      <td>2017-01-01 05:00:00</td>\n      <td>2017-01-01 00:00:00</td>\n      <td>15984.0</td>\n      <td>48.0</td>\n    </tr>\n    <tr>\n      <th>1</th>\n      <td>2017-01-01 06:00:00</td>\n      <td>2017-01-01 01:00:00</td>\n      <td>15984.0</td>\n      <td>46.8</td>\n    </tr>\n  </tbody>\n</table>\n</div>"
     },
     "metadata": {},
     "output_type": "display_data"
    }
   ],
   "source": [
    "# Just for previewing the column name\n",
    "data = pd.read_csv(os.path.join(path, \"L5-dp.csv\"))\n",
    "data['utc'] = pd.to_datetime(data['utc'])\n",
    "data['ept'] = pd.to_datetime(data['ept'])\n",
    "print(\"Sample dataframe: \")\n",
    "display(data.head(2))"
   ],
   "metadata": {
    "collapsed": false
   }
  },
  {
   "cell_type": "code",
   "execution_count": 4,
   "outputs": [
    {
     "name": "stdout",
     "output_type": "stream",
     "text": [
      "Sample dataframe: \n"
     ]
    },
    {
     "data": {
      "text/plain": "   Month  Day  Weekday  Hour\n0      1    1        6     0\n1      1    1        6     1",
      "text/html": "<div>\n<style scoped>\n    .dataframe tbody tr th:only-of-type {\n        vertical-align: middle;\n    }\n\n    .dataframe tbody tr th {\n        vertical-align: top;\n    }\n\n    .dataframe thead th {\n        text-align: right;\n    }\n</style>\n<table border=\"1\" class=\"dataframe\">\n  <thead>\n    <tr style=\"text-align: right;\">\n      <th></th>\n      <th>Month</th>\n      <th>Day</th>\n      <th>Weekday</th>\n      <th>Hour</th>\n    </tr>\n  </thead>\n  <tbody>\n    <tr>\n      <th>0</th>\n      <td>1</td>\n      <td>1</td>\n      <td>6</td>\n      <td>0</td>\n    </tr>\n    <tr>\n      <th>1</th>\n      <td>1</td>\n      <td>1</td>\n      <td>6</td>\n      <td>1</td>\n    </tr>\n  </tbody>\n</table>\n</div>"
     },
     "metadata": {},
     "output_type": "display_data"
    },
    {
     "name": "stdout",
     "output_type": "stream",
     "text": [
      "Available unique categories: \n"
     ]
    },
    {
     "data": {
      "text/plain": "Month      12\nDay        31\nWeekday     7\nHour       24\ndtype: int64"
     },
     "metadata": {},
     "output_type": "display_data"
    }
   ],
   "source": [
    "# Creating the calendar features\n",
    "date = pd.DataFrame()\n",
    "date['Month'] = data.ept.dt.month\n",
    "date['Day'] = data.ept.dt.day\n",
    "date['Weekday'] = data.ept.dt.weekday\n",
    "date['Hour'] = data.ept.dt.hour\n",
    "print(\"Sample dataframe: \")\n",
    "display(date.head(2))\n",
    "print(\"Available unique categories: \")\n",
    "display(date.nunique())"
   ],
   "metadata": {
    "collapsed": false
   }
  },
  {
   "cell_type": "code",
   "execution_count": 5,
   "outputs": [
    {
     "data": {
      "text/plain": "array([[1., 0., 0., ..., 0., 0., 0.],\n       [1., 0., 0., ..., 0., 0., 0.],\n       [1., 0., 0., ..., 0., 0., 0.],\n       ...,\n       [0., 0., 0., ..., 1., 0., 0.],\n       [0., 0., 0., ..., 0., 1., 0.],\n       [0., 0., 0., ..., 0., 0., 1.]])"
     },
     "execution_count": 5,
     "metadata": {},
     "output_type": "execute_result"
    }
   ],
   "source": [
    "# One-hot encoding the categorical calendar features\n",
    "date_enc = OneHotEncoder(sparse_output=False)\n",
    "categorical_data = date_enc.fit_transform(date)\n",
    "categorical_data"
   ],
   "metadata": {
    "collapsed": false
   }
  },
  {
   "cell_type": "code",
   "execution_count": 6,
   "outputs": [
    {
     "data": {
      "text/plain": "[12, 31, 7, 24]"
     },
     "execution_count": 6,
     "metadata": {},
     "output_type": "execute_result"
    }
   ],
   "source": [
    "category_count = [len(x_len) for x_len in date_enc.categories_]\n",
    "category_count"
   ],
   "metadata": {
    "collapsed": false
   }
  },
  {
   "cell_type": "markdown",
   "source": [
    "#### PROCESSING CONTINUOUS FEATURES FOR ALL AVAILABLE ZONES"
   ],
   "metadata": {
    "collapsed": false
   }
  },
  {
   "cell_type": "markdown",
   "source": [
    "PROCESSING LOAD DATA"
   ],
   "metadata": {
    "collapsed": false
   }
  },
  {
   "cell_type": "code",
   "execution_count": 7,
   "outputs": [
    {
     "data": {
      "text/plain": "       L5_LOAD\n43822  13122.0\n43823  12042.0",
      "text/html": "<div>\n<style scoped>\n    .dataframe tbody tr th:only-of-type {\n        vertical-align: middle;\n    }\n\n    .dataframe tbody tr th {\n        vertical-align: top;\n    }\n\n    .dataframe thead th {\n        text-align: right;\n    }\n</style>\n<table border=\"1\" class=\"dataframe\">\n  <thead>\n    <tr style=\"text-align: right;\">\n      <th></th>\n      <th>L5_LOAD</th>\n    </tr>\n  </thead>\n  <tbody>\n    <tr>\n      <th>43822</th>\n      <td>13122.0</td>\n    </tr>\n    <tr>\n      <th>43823</th>\n      <td>12042.0</td>\n    </tr>\n  </tbody>\n</table>\n</div>"
     },
     "execution_count": 7,
     "metadata": {},
     "output_type": "execute_result"
    }
   ],
   "source": [
    "# Fetching and concatenating the data\n",
    "load_ds = data[['kw']].copy().rename(columns={'kw': 'L5'})\n",
    "load_ds = load_ds.add_suffix(\"_LOAD\")\n",
    "load_ds.tail(2)"
   ],
   "metadata": {
    "collapsed": false
   }
  },
  {
   "cell_type": "code",
   "execution_count": 8,
   "outputs": [
    {
     "data": {
      "text/plain": "       L5_LOAD_LAG1\n43822       17712.0\n43823       16740.0",
      "text/html": "<div>\n<style scoped>\n    .dataframe tbody tr th:only-of-type {\n        vertical-align: middle;\n    }\n\n    .dataframe tbody tr th {\n        vertical-align: top;\n    }\n\n    .dataframe thead th {\n        text-align: right;\n    }\n</style>\n<table border=\"1\" class=\"dataframe\">\n  <thead>\n    <tr style=\"text-align: right;\">\n      <th></th>\n      <th>L5_LOAD_LAG1</th>\n    </tr>\n  </thead>\n  <tbody>\n    <tr>\n      <th>43822</th>\n      <td>17712.0</td>\n    </tr>\n    <tr>\n      <th>43823</th>\n      <td>16740.0</td>\n    </tr>\n  </tbody>\n</table>\n</div>"
     },
     "execution_count": 8,
     "metadata": {},
     "output_type": "execute_result"
    }
   ],
   "source": [
    "# Creating 1-day lag loads\n",
    "load_lag_1 = load_ds.shift(24*2).add_suffix(\"_LAG1\")\n",
    "load_lag_1.tail(2)"
   ],
   "metadata": {
    "collapsed": false
   }
  },
  {
   "cell_type": "code",
   "execution_count": 9,
   "outputs": [
    {
     "data": {
      "text/plain": "       L5_LOAD_LAG7\n43822       14742.0\n43823       14202.0",
      "text/html": "<div>\n<style scoped>\n    .dataframe tbody tr th:only-of-type {\n        vertical-align: middle;\n    }\n\n    .dataframe tbody tr th {\n        vertical-align: top;\n    }\n\n    .dataframe thead th {\n        text-align: right;\n    }\n</style>\n<table border=\"1\" class=\"dataframe\">\n  <thead>\n    <tr style=\"text-align: right;\">\n      <th></th>\n      <th>L5_LOAD_LAG7</th>\n    </tr>\n  </thead>\n  <tbody>\n    <tr>\n      <th>43822</th>\n      <td>14742.0</td>\n    </tr>\n    <tr>\n      <th>43823</th>\n      <td>14202.0</td>\n    </tr>\n  </tbody>\n</table>\n</div>"
     },
     "execution_count": 9,
     "metadata": {},
     "output_type": "execute_result"
    }
   ],
   "source": [
    "# Creating 7-day lag loads\n",
    "load_lag_7 = load_ds.shift(24*7).add_suffix(\"_LAG7\")\n",
    "load_lag_7.tail(2)"
   ],
   "metadata": {
    "collapsed": false
   }
  },
  {
   "cell_type": "code",
   "execution_count": 10,
   "outputs": [
    {
     "name": "stdout",
     "output_type": "stream",
     "text": [
      "Drop data before:  168\n"
     ]
    }
   ],
   "source": [
    "# Drop index for equalizing data\n",
    "drop_idx = load_lag_7.dropna(axis= 0).index[0]\n",
    "print(\"Drop data before: \", drop_idx)"
   ],
   "metadata": {
    "collapsed": false
   }
  },
  {
   "cell_type": "markdown",
   "source": [
    "PROCESSING TEMPERATURE DATA"
   ],
   "metadata": {
    "collapsed": false
   }
  },
  {
   "cell_type": "code",
   "execution_count": 11,
   "outputs": [
    {
     "data": {
      "text/plain": "       L5_A_TEMP\n43822       63.5\n43823       63.0",
      "text/html": "<div>\n<style scoped>\n    .dataframe tbody tr th:only-of-type {\n        vertical-align: middle;\n    }\n\n    .dataframe tbody tr th {\n        vertical-align: top;\n    }\n\n    .dataframe thead th {\n        text-align: right;\n    }\n</style>\n<table border=\"1\" class=\"dataframe\">\n  <thead>\n    <tr style=\"text-align: right;\">\n      <th></th>\n      <th>L5_A_TEMP</th>\n    </tr>\n  </thead>\n  <tbody>\n    <tr>\n      <th>43822</th>\n      <td>63.5</td>\n    </tr>\n    <tr>\n      <th>43823</th>\n      <td>63.0</td>\n    </tr>\n  </tbody>\n</table>\n</div>"
     },
     "execution_count": 11,
     "metadata": {},
     "output_type": "execute_result"
    }
   ],
   "source": [
    "# Fetching and concatenating the data\n",
    "temp_ds = data[['tmpf']].copy().rename(columns={'tmpf': 'L5'})\n",
    "temp_ds = temp_ds.add_suffix(\"_A_TEMP\")\n",
    "temp_ds.tail(2)"
   ],
   "metadata": {
    "collapsed": false
   }
  },
  {
   "cell_type": "markdown",
   "source": [
    "### PREPARING X AND Y PART"
   ],
   "metadata": {
    "collapsed": false
   }
  },
  {
   "cell_type": "code",
   "execution_count": 12,
   "outputs": [
    {
     "data": {
      "text/plain": "       L5_A_TEMP  L5_LOAD_LAG1  L5_LOAD_LAG7\n43654       63.5       17712.0       14742.0\n43655       63.0       16740.0       14202.0",
      "text/html": "<div>\n<style scoped>\n    .dataframe tbody tr th:only-of-type {\n        vertical-align: middle;\n    }\n\n    .dataframe tbody tr th {\n        vertical-align: top;\n    }\n\n    .dataframe thead th {\n        text-align: right;\n    }\n</style>\n<table border=\"1\" class=\"dataframe\">\n  <thead>\n    <tr style=\"text-align: right;\">\n      <th></th>\n      <th>L5_A_TEMP</th>\n      <th>L5_LOAD_LAG1</th>\n      <th>L5_LOAD_LAG7</th>\n    </tr>\n  </thead>\n  <tbody>\n    <tr>\n      <th>43654</th>\n      <td>63.5</td>\n      <td>17712.0</td>\n      <td>14742.0</td>\n    </tr>\n    <tr>\n      <th>43655</th>\n      <td>63.0</td>\n      <td>16740.0</td>\n      <td>14202.0</td>\n    </tr>\n  </tbody>\n</table>\n</div>"
     },
     "execution_count": 12,
     "metadata": {},
     "output_type": "execute_result"
    }
   ],
   "source": [
    "X_continuous = pd.concat([load_lag_1, load_lag_7, temp_ds], axis=1)\n",
    "X_continuous = X_continuous.sort_index(axis=1)\n",
    "X_continuous = X_continuous.iloc[drop_idx:].reset_index(drop=True)\n",
    "X_continuous.tail(2)"
   ],
   "metadata": {
    "collapsed": false
   }
  },
  {
   "cell_type": "code",
   "execution_count": 13,
   "outputs": [
    {
     "data": {
      "text/plain": "        0    1    2    3    4    5    6    7    8    9   ...   64   65   66  \\\n43654  0.0  0.0  0.0  0.0  0.0  0.0  0.0  0.0  0.0  0.0  ...  0.0  0.0  0.0   \n43655  0.0  0.0  0.0  0.0  0.0  0.0  0.0  0.0  0.0  0.0  ...  0.0  0.0  0.0   \n\n        67   68   69   70   71   72   73  \n43654  0.0  0.0  0.0  0.0  0.0  1.0  0.0  \n43655  0.0  0.0  0.0  0.0  0.0  0.0  1.0  \n\n[2 rows x 74 columns]",
      "text/html": "<div>\n<style scoped>\n    .dataframe tbody tr th:only-of-type {\n        vertical-align: middle;\n    }\n\n    .dataframe tbody tr th {\n        vertical-align: top;\n    }\n\n    .dataframe thead th {\n        text-align: right;\n    }\n</style>\n<table border=\"1\" class=\"dataframe\">\n  <thead>\n    <tr style=\"text-align: right;\">\n      <th></th>\n      <th>0</th>\n      <th>1</th>\n      <th>2</th>\n      <th>3</th>\n      <th>4</th>\n      <th>5</th>\n      <th>6</th>\n      <th>7</th>\n      <th>8</th>\n      <th>9</th>\n      <th>...</th>\n      <th>64</th>\n      <th>65</th>\n      <th>66</th>\n      <th>67</th>\n      <th>68</th>\n      <th>69</th>\n      <th>70</th>\n      <th>71</th>\n      <th>72</th>\n      <th>73</th>\n    </tr>\n  </thead>\n  <tbody>\n    <tr>\n      <th>43654</th>\n      <td>0.0</td>\n      <td>0.0</td>\n      <td>0.0</td>\n      <td>0.0</td>\n      <td>0.0</td>\n      <td>0.0</td>\n      <td>0.0</td>\n      <td>0.0</td>\n      <td>0.0</td>\n      <td>0.0</td>\n      <td>...</td>\n      <td>0.0</td>\n      <td>0.0</td>\n      <td>0.0</td>\n      <td>0.0</td>\n      <td>0.0</td>\n      <td>0.0</td>\n      <td>0.0</td>\n      <td>0.0</td>\n      <td>1.0</td>\n      <td>0.0</td>\n    </tr>\n    <tr>\n      <th>43655</th>\n      <td>0.0</td>\n      <td>0.0</td>\n      <td>0.0</td>\n      <td>0.0</td>\n      <td>0.0</td>\n      <td>0.0</td>\n      <td>0.0</td>\n      <td>0.0</td>\n      <td>0.0</td>\n      <td>0.0</td>\n      <td>...</td>\n      <td>0.0</td>\n      <td>0.0</td>\n      <td>0.0</td>\n      <td>0.0</td>\n      <td>0.0</td>\n      <td>0.0</td>\n      <td>0.0</td>\n      <td>0.0</td>\n      <td>0.0</td>\n      <td>1.0</td>\n    </tr>\n  </tbody>\n</table>\n<p>2 rows × 74 columns</p>\n</div>"
     },
     "execution_count": 13,
     "metadata": {},
     "output_type": "execute_result"
    }
   ],
   "source": [
    "X_categorical = pd.DataFrame(categorical_data)\n",
    "X_categorical = X_categorical.iloc[drop_idx:].reset_index(drop=True)\n",
    "X_categorical.tail(2)"
   ],
   "metadata": {
    "collapsed": false
   }
  },
  {
   "cell_type": "code",
   "execution_count": 14,
   "outputs": [
    {
     "data": {
      "text/plain": "       L5_LOAD\n43654  13122.0\n43655  12042.0",
      "text/html": "<div>\n<style scoped>\n    .dataframe tbody tr th:only-of-type {\n        vertical-align: middle;\n    }\n\n    .dataframe tbody tr th {\n        vertical-align: top;\n    }\n\n    .dataframe thead th {\n        text-align: right;\n    }\n</style>\n<table border=\"1\" class=\"dataframe\">\n  <thead>\n    <tr style=\"text-align: right;\">\n      <th></th>\n      <th>L5_LOAD</th>\n    </tr>\n  </thead>\n  <tbody>\n    <tr>\n      <th>43654</th>\n      <td>13122.0</td>\n    </tr>\n    <tr>\n      <th>43655</th>\n      <td>12042.0</td>\n    </tr>\n  </tbody>\n</table>\n</div>"
     },
     "execution_count": 14,
     "metadata": {},
     "output_type": "execute_result"
    }
   ],
   "source": [
    "Y = load_ds.copy()\n",
    "Y = Y.sort_index(axis=1)\n",
    "Y = Y.iloc[drop_idx:].reset_index(drop=True)\n",
    "Y.tail(2)"
   ],
   "metadata": {
    "collapsed": false
   }
  },
  {
   "cell_type": "code",
   "execution_count": 15,
   "outputs": [
    {
     "name": "stdout",
     "output_type": "stream",
     "text": [
      "Train samples:  35361 \n",
      "Valid samples:  3929 \n",
      "Test samples:  4365\n"
     ]
    }
   ],
   "source": [
    "### SPLITTING THE DATA INTO TRAINING AND TESTING\n",
    "# Setting the train-test split\n",
    "ratio = 0.1\n",
    "train_size, test_size = int(len(X_continuous)/24 * (1 - ratio) * 24), int(len(X_continuous)/24 * ratio * 24)\n",
    "train_size, valid_size = int(train_size/24 * (1 - ratio) * 24), int(train_size/24 * ratio * 24)\n",
    "\n",
    "print(\"Train samples: \", train_size, \"\\nValid samples: \", valid_size, \"\\nTest samples: \", test_size)"
   ],
   "metadata": {
    "collapsed": false
   }
  },
  {
   "cell_type": "code",
   "execution_count": 16,
   "outputs": [
    {
     "name": "stdout",
     "output_type": "stream",
     "text": [
      "Train split of continuous data: \n"
     ]
    },
    {
     "data": {
      "text/plain": "       L5_A_TEMP  L5_LOAD_LAG1  L5_LOAD_LAG7\n35359       41.2       25542.0       27810.0\n35360       44.8       24408.0       26406.0",
      "text/html": "<div>\n<style scoped>\n    .dataframe tbody tr th:only-of-type {\n        vertical-align: middle;\n    }\n\n    .dataframe tbody tr th {\n        vertical-align: top;\n    }\n\n    .dataframe thead th {\n        text-align: right;\n    }\n</style>\n<table border=\"1\" class=\"dataframe\">\n  <thead>\n    <tr style=\"text-align: right;\">\n      <th></th>\n      <th>L5_A_TEMP</th>\n      <th>L5_LOAD_LAG1</th>\n      <th>L5_LOAD_LAG7</th>\n    </tr>\n  </thead>\n  <tbody>\n    <tr>\n      <th>35359</th>\n      <td>41.2</td>\n      <td>25542.0</td>\n      <td>27810.0</td>\n    </tr>\n    <tr>\n      <th>35360</th>\n      <td>44.8</td>\n      <td>24408.0</td>\n      <td>26406.0</td>\n    </tr>\n  </tbody>\n</table>\n</div>"
     },
     "metadata": {},
     "output_type": "display_data"
    },
    {
     "name": "stdout",
     "output_type": "stream",
     "text": [
      "Train split of categorical data: \n"
     ]
    },
    {
     "data": {
      "text/plain": "        0    1    2    3    4    5    6    7    8    9   ...   64   65   66  \\\n35359  1.0  0.0  0.0  0.0  0.0  0.0  0.0  0.0  0.0  0.0  ...  0.0  0.0  0.0   \n35360  1.0  0.0  0.0  0.0  0.0  0.0  0.0  0.0  0.0  0.0  ...  0.0  0.0  0.0   \n\n        67   68   69   70   71   72   73  \n35359  0.0  0.0  0.0  0.0  0.0  0.0  0.0  \n35360  0.0  0.0  0.0  0.0  0.0  0.0  0.0  \n\n[2 rows x 74 columns]",
      "text/html": "<div>\n<style scoped>\n    .dataframe tbody tr th:only-of-type {\n        vertical-align: middle;\n    }\n\n    .dataframe tbody tr th {\n        vertical-align: top;\n    }\n\n    .dataframe thead th {\n        text-align: right;\n    }\n</style>\n<table border=\"1\" class=\"dataframe\">\n  <thead>\n    <tr style=\"text-align: right;\">\n      <th></th>\n      <th>0</th>\n      <th>1</th>\n      <th>2</th>\n      <th>3</th>\n      <th>4</th>\n      <th>5</th>\n      <th>6</th>\n      <th>7</th>\n      <th>8</th>\n      <th>9</th>\n      <th>...</th>\n      <th>64</th>\n      <th>65</th>\n      <th>66</th>\n      <th>67</th>\n      <th>68</th>\n      <th>69</th>\n      <th>70</th>\n      <th>71</th>\n      <th>72</th>\n      <th>73</th>\n    </tr>\n  </thead>\n  <tbody>\n    <tr>\n      <th>35359</th>\n      <td>1.0</td>\n      <td>0.0</td>\n      <td>0.0</td>\n      <td>0.0</td>\n      <td>0.0</td>\n      <td>0.0</td>\n      <td>0.0</td>\n      <td>0.0</td>\n      <td>0.0</td>\n      <td>0.0</td>\n      <td>...</td>\n      <td>0.0</td>\n      <td>0.0</td>\n      <td>0.0</td>\n      <td>0.0</td>\n      <td>0.0</td>\n      <td>0.0</td>\n      <td>0.0</td>\n      <td>0.0</td>\n      <td>0.0</td>\n      <td>0.0</td>\n    </tr>\n    <tr>\n      <th>35360</th>\n      <td>1.0</td>\n      <td>0.0</td>\n      <td>0.0</td>\n      <td>0.0</td>\n      <td>0.0</td>\n      <td>0.0</td>\n      <td>0.0</td>\n      <td>0.0</td>\n      <td>0.0</td>\n      <td>0.0</td>\n      <td>...</td>\n      <td>0.0</td>\n      <td>0.0</td>\n      <td>0.0</td>\n      <td>0.0</td>\n      <td>0.0</td>\n      <td>0.0</td>\n      <td>0.0</td>\n      <td>0.0</td>\n      <td>0.0</td>\n      <td>0.0</td>\n    </tr>\n  </tbody>\n</table>\n<p>2 rows × 74 columns</p>\n</div>"
     },
     "metadata": {},
     "output_type": "display_data"
    },
    {
     "name": "stdout",
     "output_type": "stream",
     "text": [
      "Train split of target data Y: \n"
     ]
    },
    {
     "data": {
      "text/plain": "       L5_LOAD\n35359  23058.0\n35360  22410.0",
      "text/html": "<div>\n<style scoped>\n    .dataframe tbody tr th:only-of-type {\n        vertical-align: middle;\n    }\n\n    .dataframe tbody tr th {\n        vertical-align: top;\n    }\n\n    .dataframe thead th {\n        text-align: right;\n    }\n</style>\n<table border=\"1\" class=\"dataframe\">\n  <thead>\n    <tr style=\"text-align: right;\">\n      <th></th>\n      <th>L5_LOAD</th>\n    </tr>\n  </thead>\n  <tbody>\n    <tr>\n      <th>35359</th>\n      <td>23058.0</td>\n    </tr>\n    <tr>\n      <th>35360</th>\n      <td>22410.0</td>\n    </tr>\n  </tbody>\n</table>\n</div>"
     },
     "metadata": {},
     "output_type": "display_data"
    }
   ],
   "source": [
    "# Splitting the continuous data into training and test split\n",
    "X_continuous_train, X_continuous_valid, X_continuous_test = X_continuous[:train_size], \\\n",
    "                                                            X_continuous[train_size:train_size+valid_size], \\\n",
    "                                                            X_continuous[train_size+valid_size:]\n",
    "print(\"Train split of continuous data: \")\n",
    "display(X_continuous_train.tail(2))\n",
    "\n",
    "# Splitting the categorical data into training and test split\n",
    "X_categorical_train, X_categorical_valid, X_categorical_test = X_categorical[:train_size], \\\n",
    "                                                               X_categorical[train_size:train_size+valid_size], \\\n",
    "                                                               X_categorical[train_size+valid_size:]\n",
    "print(\"Train split of categorical data: \")\n",
    "display(X_categorical_train.tail(2))\n",
    "\n",
    "# Splitting the target into training and test split\n",
    "Y_train, Y_valid, Y_test = Y[:train_size],  Y[train_size:train_size+valid_size], Y[train_size+valid_size:]\n",
    "print(\"Train split of target data Y: \")\n",
    "display(Y_train.tail(2))"
   ],
   "metadata": {
    "collapsed": false
   }
  },
  {
   "cell_type": "code",
   "execution_count": 17,
   "outputs": [
    {
     "name": "stdout",
     "output_type": "stream",
     "text": [
      "Shape for continuous variable: \n",
      "(35361, 3) (3929, 3) (4366, 3) \n",
      "\n",
      "Shape for categorical variable: \n",
      "(35361, 74) (3929, 74) (4366, 74) \n",
      "\n",
      "Shape for target variable: \n",
      "(35361, 1) (3929, 1) (4366, 1) \n",
      "\n",
      "Does it cover entire training set:  True\n"
     ]
    }
   ],
   "source": [
    "print(\"Shape for continuous variable: \")\n",
    "print(X_continuous_train.shape, X_continuous_valid.shape, X_continuous_test.shape, \"\\n\")\n",
    "print(\"Shape for categorical variable: \")\n",
    "print(X_categorical_train.shape, X_categorical_valid.shape, X_categorical_test.shape, \"\\n\")\n",
    "print(\"Shape for target variable: \")\n",
    "print(Y_train.shape, Y_valid.shape, Y_test.shape, \"\\n\")\n",
    "print(\"Does it cover entire training set: \", (X_continuous_train.shape[0] +\n",
    "                                              X_continuous_valid.shape[0] +\n",
    "                                              X_continuous_test.shape[0]) == len(X_continuous))"
   ],
   "metadata": {
    "collapsed": false
   }
  },
  {
   "cell_type": "markdown",
   "source": [
    "### SCALING THE DATA"
   ],
   "metadata": {
    "collapsed": false
   }
  },
  {
   "cell_type": "code",
   "execution_count": 18,
   "outputs": [],
   "source": [
    "# Scaling values using min-max scaler\n",
    "mm_scaler_X = MinMaxScaler()\n",
    "mm_scaler_Y = MinMaxScaler()"
   ],
   "metadata": {
    "collapsed": false
   }
  },
  {
   "cell_type": "code",
   "execution_count": 19,
   "outputs": [
    {
     "name": "stdout",
     "output_type": "stream",
     "text": [
      "Scaled continuous X train: \n"
     ]
    },
    {
     "data": {
      "text/plain": "array([[0.18609407, 0.50535988, 0.39050536],\n       [0.17484663, 0.51607963, 0.39050536],\n       [0.16768916, 0.52986217, 0.38591118],\n       ...,\n       [0.44785276, 0.63552833, 0.69678407],\n       [0.41104294, 0.66156202, 0.72588055],\n       [0.44785276, 0.62940276, 0.68606432]])"
     },
     "execution_count": 19,
     "metadata": {},
     "output_type": "execute_result"
    }
   ],
   "source": [
    "# Scaling continuous X train part\n",
    "X_scaled_continuous_train = mm_scaler_X.fit_transform(X_continuous_train)\n",
    "\n",
    "# Using the fit_scaler to scale the X valid part\n",
    "X_scaled_continuous_valid = mm_scaler_X.transform(X_continuous_valid)\n",
    "\n",
    "# Using the fit_scaler to scale the X test part\n",
    "X_scaled_continuous_test = mm_scaler_X.transform(X_continuous_test)\n",
    "\n",
    "print(\"Scaled continuous X train: \")\n",
    "X_scaled_continuous_train"
   ],
   "metadata": {
    "collapsed": false
   }
  },
  {
   "cell_type": "code",
   "execution_count": 20,
   "outputs": [
    {
     "name": "stdout",
     "output_type": "stream",
     "text": [
      "Scaled continuous Y train: \n"
     ]
    },
    {
     "data": {
      "text/plain": "array([[0.69372129],\n       [0.6906585 ],\n       [0.69218989],\n       ...,\n       [0.57733538],\n       [0.59111792],\n       [0.57274119]])"
     },
     "execution_count": 20,
     "metadata": {},
     "output_type": "execute_result"
    }
   ],
   "source": [
    "# Scaling target Y train part\n",
    "Y_scaled_train = mm_scaler_Y.fit_transform(Y_train)\n",
    "\n",
    "# Using the fit_scaler to scale the Y valid part\n",
    "Y_scaled_valid = mm_scaler_Y.transform(Y_valid)\n",
    "\n",
    "# Using the fit_scaler to scale the Y test part\n",
    "Y_scaled_test = mm_scaler_Y.transform(Y_test)\n",
    "\n",
    "print(\"Scaled continuous Y train: \")\n",
    "Y_scaled_train"
   ],
   "metadata": {
    "collapsed": false
   }
  },
  {
   "cell_type": "code",
   "execution_count": 21,
   "outputs": [],
   "source": [
    "# Converting a multivariate dataset into slices of samples\n",
    "def split_data(calendar_data, x_data, y_data, n_steps, n_overlap):\n",
    "    calendar, x, y = list(), list(), list()\n",
    "    for i in range(0, len(x_data), n_steps-n_overlap):\n",
    "\n",
    "        # Finding the split index\n",
    "        end_idx = i + n_steps\n",
    "\n",
    "        # Break the loop at end of dataset\n",
    "        if end_idx > len(x_data):\n",
    "            break\n",
    "\n",
    "        # Appending the custom created samples with desired time-steps and features\n",
    "        sample_calendar, sample_x, sample_y = calendar_data[i:end_idx, :], \\\n",
    "                                              x_data[i:end_idx, :], \\\n",
    "                                              y_data[i:end_idx, :]\n",
    "        calendar.append(sample_calendar)\n",
    "        x.append(sample_x)\n",
    "        y.append(sample_y)\n",
    "\n",
    "    return np.array(calendar), np.array(x), np.array(y)"
   ],
   "metadata": {
    "collapsed": false
   }
  },
  {
   "cell_type": "code",
   "execution_count": 22,
   "outputs": [
    {
     "name": "stdout",
     "output_type": "stream",
     "text": [
      "Shape of the created samples for training:  (35338, 24, 1)\n",
      "Shape of the created samples for validation:  (163, 24, 1)\n",
      "Shape of the created samples for testing:  (181, 24, 1)\n"
     ]
    }
   ],
   "source": [
    "num_steps = 24\n",
    "train_num_overlap = 23\n",
    "test_valid_num_overlap = 0\n",
    "\n",
    "processed_data_train = split_data(calendar_data=X_categorical_train.to_numpy(),\n",
    "                            x_data=X_scaled_continuous_train,\n",
    "                            y_data=Y_scaled_train,\n",
    "                            n_steps=num_steps, n_overlap=train_num_overlap)\n",
    "\n",
    "processed_data_valid = split_data(calendar_data=X_categorical_valid.to_numpy(),\n",
    "                            x_data=X_scaled_continuous_valid,\n",
    "                            y_data=Y_scaled_valid,\n",
    "                            n_steps=num_steps, n_overlap=test_valid_num_overlap)\n",
    "\n",
    "processed_data_test = split_data(calendar_data=X_categorical_test.to_numpy(),\n",
    "                            x_data=X_scaled_continuous_test,\n",
    "                            y_data=Y_scaled_test,\n",
    "                            n_steps=num_steps, n_overlap=test_valid_num_overlap)\n",
    "\n",
    "print(\"Shape of the created samples for training: \", processed_data_train[2].shape)\n",
    "print(\"Shape of the created samples for validation: \", processed_data_valid[2].shape)\n",
    "print(\"Shape of the created samples for testing: \", processed_data_test[2].shape)"
   ],
   "metadata": {
    "collapsed": false
   }
  },
  {
   "cell_type": "code",
   "execution_count": 23,
   "outputs": [
    {
     "name": "stdout",
     "output_type": "stream",
     "text": [
      "First sample: \n",
      "\n"
     ]
    },
    {
     "data": {
      "text/plain": "array([[0.35787321, 0.42266462, 0.61715161],\n       [0.42535787, 0.36140888, 0.61408882],\n       [0.48773006, 0.32771822, 0.60183767],\n       [0.51431493, 0.30168453, 0.59264931],\n       [0.54294479, 0.26952527, 0.56049005],\n       [0.56952965, 0.26339969, 0.51607963],\n       [0.57259714, 0.28943338, 0.52526799],\n       [0.56748466, 0.35834609, 0.55130168],\n       [0.54907975, 0.42725881, 0.6202144 ],\n       [0.48977505, 0.46094946, 0.64931087],\n       [0.48466258, 0.47013783, 0.66156202],\n       [0.46830266, 0.47779479, 0.63705972],\n       [0.47137014, 0.47779479, 0.6202144 ],\n       [0.4601227 , 0.46860643, 0.60183767],\n       [0.46216769, 0.48698315, 0.59111792],\n       [0.44989775, 0.4992343 , 0.5941807 ],\n       [0.44580777, 0.52833078, 0.60030628],\n       [0.4591002 , 0.52986217, 0.61408882],\n       [0.46421268, 0.53751914, 0.60796325],\n       [0.4601227 , 0.55742726, 0.6202144 ],\n       [0.45705521, 0.59724349, 0.65084227],\n       [0.44785276, 0.63552833, 0.69678407],\n       [0.41104294, 0.66156202, 0.72588055],\n       [0.44785276, 0.62940276, 0.68606432]])"
     },
     "execution_count": 23,
     "metadata": {},
     "output_type": "execute_result"
    }
   ],
   "source": [
    "## Sample check for sanity\n",
    "print(\"First sample: \\n\")\n",
    "processed_data_train[1][-1]"
   ],
   "metadata": {
    "collapsed": false
   }
  },
  {
   "cell_type": "code",
   "execution_count": 24,
   "outputs": [
    {
     "name": "stdout",
     "output_type": "stream",
     "text": [
      "Second sample: \n",
      "\n"
     ]
    },
    {
     "data": {
      "text/plain": "array([[0.17484663, 0.51607963, 0.39050536],\n       [0.16768916, 0.52986217, 0.38591118],\n       [0.16257669, 0.52067381, 0.37212864],\n       [0.15644172, 0.54517611, 0.36906585],\n       [0.14723926, 0.58346095, 0.37212864],\n       [0.14621677, 0.63705972, 0.38284839],\n       [0.14621677, 0.66003063, 0.39203675],\n       [0.14621677, 0.63859112, 0.4042879 ],\n       [0.16564417, 0.61102603, 0.41500766],\n       [0.17484663, 0.59724349, 0.4042879 ],\n       [0.19222904, 0.59724349, 0.39816233],\n       [0.20449898, 0.57886677, 0.39663093],\n       [0.2208589 , 0.58039816, 0.3797856 ],\n       [0.23415133, 0.5957121 , 0.36447167],\n       [0.24539877, 0.59111792, 0.37059724],\n       [0.24744376, 0.60336907, 0.37825421],\n       [0.23210634, 0.63399694, 0.40122511],\n       [0.18813906, 0.63859112, 0.40122511],\n       [0.18813906, 0.64624809, 0.39356815],\n       [0.15132924, 0.6431853 , 0.38897397],\n       [0.1400818 , 0.62787136, 0.37519142],\n       [0.12167689, 0.59877489, 0.3568147 ],\n       [0.11656442, 0.56967841, 0.33537519],\n       [0.10736196, 0.5712098 , 0.31240429]])"
     },
     "execution_count": 24,
     "metadata": {},
     "output_type": "execute_result"
    }
   ],
   "source": [
    "print(\"Second sample: \\n\")\n",
    "processed_data_train[1][1]"
   ],
   "metadata": {
    "collapsed": false
   }
  },
  {
   "cell_type": "code",
   "execution_count": 25,
   "outputs": [],
   "source": [
    "# Dividing the sampled data - training\n",
    "categorical_samples_training = torch.Tensor(processed_data_train[0])\n",
    "continuous_samples_training = torch.Tensor(processed_data_train[1])\n",
    "target_samples_training = torch.Tensor(processed_data_train[2])\n",
    "\n",
    "# Dividing the sampled data - validation\n",
    "categorical_samples_validation = torch.Tensor(processed_data_valid[0])\n",
    "continuous_samples_validation = torch.Tensor(processed_data_valid[1])\n",
    "target_samples_validation = torch.Tensor(processed_data_valid[2])\n",
    "\n",
    "# Dividing the sampled data - testing\n",
    "categorical_samples_testing = torch.Tensor(processed_data_test[0])\n",
    "continuous_samples_testing = torch.Tensor(processed_data_test[1])\n",
    "target_samples_testing = torch.Tensor(processed_data_test[2])"
   ],
   "metadata": {
    "collapsed": false
   }
  },
  {
   "cell_type": "code",
   "execution_count": 26,
   "outputs": [
    {
     "name": "stdout",
     "output_type": "stream",
     "text": [
      "Shape of categorical samples - training:  torch.Size([35338, 24, 74])\n",
      "Shape of continuous samples - training:  torch.Size([35338, 24, 3])\n",
      "Shape of target samples - training:  torch.Size([35338, 24, 1])\n",
      "\n",
      "\n",
      "Shape of categorical samples - validation:  torch.Size([163, 24, 74])\n",
      "Shape of continuous samples - validation:  torch.Size([163, 24, 3])\n",
      "Shape of target samples - validation:  torch.Size([163, 24, 1])\n",
      "\n",
      "\n",
      "Shape of categorical samples - testing:  torch.Size([181, 24, 74])\n",
      "Shape of continuous samples - testing:  torch.Size([181, 24, 3])\n",
      "Shape of target samples - testing:  torch.Size([181, 24, 1])\n"
     ]
    }
   ],
   "source": [
    "print(\"Shape of categorical samples - training: \", categorical_samples_training.shape)\n",
    "print(\"Shape of continuous samples - training: \", continuous_samples_training.shape)\n",
    "print(\"Shape of target samples - training: \", target_samples_training.shape)\n",
    "print(\"\\n\")\n",
    "print(\"Shape of categorical samples - validation: \", categorical_samples_validation.shape)\n",
    "print(\"Shape of continuous samples - validation: \", continuous_samples_validation.shape)\n",
    "print(\"Shape of target samples - validation: \", target_samples_validation.shape)\n",
    "print(\"\\n\")\n",
    "print(\"Shape of categorical samples - testing: \", categorical_samples_testing.shape)\n",
    "print(\"Shape of continuous samples - testing: \", continuous_samples_testing.shape)\n",
    "print(\"Shape of target samples - testing: \", target_samples_testing.shape)"
   ],
   "metadata": {
    "collapsed": false
   }
  },
  {
   "cell_type": "markdown",
   "source": [
    "### CREATING DATALOADER"
   ],
   "metadata": {
    "collapsed": false
   }
  },
  {
   "cell_type": "code",
   "execution_count": 27,
   "outputs": [],
   "source": [
    "BATCH_SIZE = 64"
   ],
   "metadata": {
    "collapsed": false
   }
  },
  {
   "cell_type": "code",
   "execution_count": 28,
   "outputs": [],
   "source": [
    "class TimeSeriesLoader(Dataset):\n",
    "    def __init__(self, categorical, continuous, target):\n",
    "        self.categorical, self.continuous, self.target = categorical, continuous, target\n",
    "\n",
    "    def __len__(self):\n",
    "        return len(self.categorical)\n",
    "\n",
    "    def __getitem__(self, idx):\n",
    "        return self.categorical[idx], self.continuous[idx], self.target[idx]"
   ],
   "metadata": {
    "collapsed": false
   }
  },
  {
   "cell_type": "code",
   "execution_count": 29,
   "outputs": [],
   "source": [
    "train_dataset = TimeSeriesLoader(categorical_samples_training,\n",
    "                                 continuous_samples_training,\n",
    "                                 target_samples_training)\n",
    "\n",
    "valid_dataset = TimeSeriesLoader(categorical_samples_validation,\n",
    "                                 continuous_samples_validation,\n",
    "                                 target_samples_validation)\n",
    "\n",
    "test_dataset = TimeSeriesLoader(categorical_samples_testing,\n",
    "                                continuous_samples_testing,\n",
    "                                target_samples_testing)"
   ],
   "metadata": {
    "collapsed": false
   }
  },
  {
   "cell_type": "code",
   "execution_count": 30,
   "outputs": [],
   "source": [
    "train_dataloader = DataLoader(train_dataset, batch_size=BATCH_SIZE, shuffle=True, drop_last=False)\n",
    "\n",
    "valid_dataloader = DataLoader(valid_dataset, batch_size=BATCH_SIZE, shuffle=False, drop_last=False)\n",
    "\n",
    "test_dataloader = DataLoader(test_dataset, batch_size=BATCH_SIZE, shuffle=False, drop_last=False)"
   ],
   "metadata": {
    "collapsed": false
   }
  },
  {
   "cell_type": "code",
   "execution_count": 31,
   "outputs": [
    {
     "name": "stdout",
     "output_type": "stream",
     "text": [
      "Number of batches in train dataloader:  553\n",
      "Number of batches in valid dataloader:  3\n",
      "Number of batches in test dataloader:  3\n"
     ]
    }
   ],
   "source": [
    "print(\"Number of batches in train dataloader: \", len(train_dataloader))\n",
    "print(\"Number of batches in valid dataloader: \", len(valid_dataloader))\n",
    "print(\"Number of batches in test dataloader: \", len(test_dataloader))"
   ],
   "metadata": {
    "collapsed": false
   }
  },
  {
   "cell_type": "code",
   "execution_count": 32,
   "outputs": [
    {
     "name": "stdout",
     "output_type": "stream",
     "text": [
      "Shape of categorical variables:  torch.Size([35338, 24, 74])\n",
      "Shape of continuous variables:  torch.Size([35338, 24, 3])\n",
      "Shape of target variables:  torch.Size([35338, 24, 1])\n"
     ]
    }
   ],
   "source": [
    "categorical_var_shape = train_dataloader.dataset.categorical.shape\n",
    "continuous_var_shape = train_dataloader.dataset.continuous.shape\n",
    "target_var_shape = train_dataloader.dataset.target.shape\n",
    "\n",
    "print(\"Shape of categorical variables: \", categorical_var_shape)\n",
    "print(\"Shape of continuous variables: \", continuous_var_shape)\n",
    "print(\"Shape of target variables: \", target_var_shape)"
   ],
   "metadata": {
    "collapsed": false
   }
  },
  {
   "cell_type": "code",
   "execution_count": 33,
   "outputs": [
    {
     "name": "stdout",
     "output_type": "stream",
     "text": [
      "Number of zones:  1\n",
      "Number of features per zone:  3\n"
     ]
    }
   ],
   "source": [
    "# Specifying number of zones and features per zone\n",
    "num_zones = target_var_shape[2]\n",
    "num_zone_features = int(continuous_var_shape[2] / target_var_shape[2])\n",
    "print(\"Number of zones: \", num_zones)\n",
    "print(\"Number of features per zone: \", num_zone_features)"
   ],
   "metadata": {
    "collapsed": false
   }
  },
  {
   "cell_type": "markdown",
   "source": [
    "## DEFINING MODEL ARCHITECTURE"
   ],
   "metadata": {
    "collapsed": false
   }
  },
  {
   "cell_type": "code",
   "execution_count": 34,
   "outputs": [],
   "source": [
    "args = easydict.EasyDict(\n",
    "        {\n",
    "            \"device\": torch.device(\"cuda\")\n",
    "            if torch.cuda.is_available()\n",
    "            else torch.device(\"cpu\"),\n",
    "            \"input_size\": 3,\n",
    "            \"hidden_size\": 2048,\n",
    "            \"latent_size\": 1024,\n",
    "            \"output_size\": 3,\n",
    "            \"learning_rate\": 0.001,\n",
    "            \"max_iter\": 1000,\n",
    "        }\n",
    "    )\n",
    "\n",
    "input_size = args.input_size\n",
    "hidden_size = args.hidden_size\n",
    "latent_size = args.latent_size\n",
    "output_size = args.output_size"
   ],
   "metadata": {
    "collapsed": false
   }
  },
  {
   "cell_type": "code",
   "execution_count": 35,
   "outputs": [],
   "source": [
    "def init_weights(model):\n",
    "    if isinstance(model, nn.Linear):\n",
    "        torch.nn.init.kaiming_uniform_(model.weight, nonlinearity='relu')\n",
    "        model.bias.data.fill_(0.01)\n",
    "\n",
    "def save_checkpoint(model, filename):\n",
    "    torch.save(model.state_dict(), filename)\n",
    "\n",
    "def load_from_checkpoint(model, filename):\n",
    "    model.load_state_dict(torch.load(filename))\n",
    "    return model"
   ],
   "metadata": {
    "collapsed": false
   }
  },
  {
   "cell_type": "code",
   "execution_count": 36,
   "outputs": [],
   "source": [
    "# Define LSTM-based VAE model\n",
    "vae_lstm_1 = VAE_LSTM(input_size, hidden_size, latent_size, output_size, device=args.device).to(args.device).apply(init_weights)"
   ],
   "metadata": {
    "collapsed": false
   }
  },
  {
   "cell_type": "code",
   "execution_count": 37,
   "outputs": [],
   "source": [
    "# Defining optimizers\n",
    "opt = torch.optim.Adam(list(vae_lstm_1.parameters()), lr=args.learning_rate)"
   ],
   "metadata": {
    "collapsed": false
   }
  },
  {
   "cell_type": "code",
   "execution_count": 38,
   "outputs": [],
   "source": [
    "def train(*models, optimizer, train_loader):\n",
    "\n",
    "    model_1 = models[0]\n",
    "\n",
    "    model_1.train()\n",
    "\n",
    "    # Resetting the calculated gradients\n",
    "    optimizer.zero_grad()\n",
    "\n",
    "    train_iterator = tqdm(\n",
    "        enumerate(train_loader), total=len(train_loader), desc=\"training\"\n",
    "    )\n",
    "\n",
    "    for i, (categorical_var, continuous_var, target_var) in train_iterator:\n",
    "\n",
    "        zone_1 = continuous_var[:, :, 0:3].to(device)\n",
    "\n",
    "        m_loss_1, recon_x_1, info_1 = model_1(zone_1)\n",
    "\n",
    "        # Resetting the calculated gradients\n",
    "        optimizer.zero_grad()\n",
    "\n",
    "        # Calculating the gradients for backprop\n",
    "        m_loss_1.mean().backward()\n",
    "\n",
    "        # Performing backprop step\n",
    "        optimizer.step()\n",
    "\n",
    "        train_iterator.set_postfix({\"train_loss_1\": float(m_loss_1.mean())})\n",
    "\n",
    "    writer.add_scalar(\"train_loss_1\", float(m_loss_1.mean()), epoch)\n",
    "\n",
    "    train_loss = (\n",
    "        m_loss_1.mean(),\n",
    "    )\n",
    "\n",
    "    return train_loss, model_1"
   ],
   "metadata": {
    "collapsed": false
   }
  },
  {
   "cell_type": "code",
   "execution_count": 39,
   "outputs": [],
   "source": [
    "def valid_or_test(*models, data_loader, mode):\n",
    "\n",
    "    model_1 = models[0]\n",
    "\n",
    "    model_1.eval()\n",
    "\n",
    "    eval_loss_1 = 0\n",
    "\n",
    "    orig_append_1, pred_append_1 = list(), list()\n",
    "\n",
    "    if mode == \"test\":\n",
    "        valid_or_test_iterator = tqdm(\n",
    "            enumerate(data_loader), total=len(data_loader), desc=\"testing\"\n",
    "        )\n",
    "    else:\n",
    "        valid_or_test_iterator = tqdm(\n",
    "            enumerate(data_loader), total=len(data_loader), desc=\"validation\"\n",
    "        )\n",
    "\n",
    "    with torch.no_grad():\n",
    "        for i, (categorical_var, continuous_var, target_var) in valid_or_test_iterator:\n",
    "\n",
    "            zone_1 = continuous_var[:, :, 0:3].to(device)\n",
    "\n",
    "            m_loss_1, recon_x_1, info_1 = model_1(zone_1)\n",
    "\n",
    "            eval_loss_1 += m_loss_1.mean().item()\n",
    "\n",
    "            valid_or_test_iterator.set_postfix({\"eval_loss_1\": float(m_loss_1.mean())})\n",
    "\n",
    "            if mode == \"test\":\n",
    "\n",
    "                orig_data_1 = zone_1.cpu().detach().numpy().reshape(-1, 3)\n",
    "                pred_data_1 = recon_x_1.cpu().detach().numpy().reshape(-1, 3)\n",
    "\n",
    "                orig_append_1.append(orig_data_1)\n",
    "                pred_append_1.append(pred_data_1)\n",
    "\n",
    "    eval_loss_1 = eval_loss_1 / len(data_loader)\n",
    "    writer.add_scalar(\"eval_loss_1\", float(eval_loss_1))\n",
    "\n",
    "    print(\"Evaluation Score 1 : [{}]\".format(eval_loss_1))\n",
    "    print(\"\\n\")\n",
    "\n",
    "    valid_loss = (\n",
    "        eval_loss_1\n",
    "    )\n",
    "\n",
    "    # In test mode, return the true and predicted data for evaluation on hold-out test set\n",
    "    if mode == \"test\":\n",
    "\n",
    "        # Concatenating all the appended data\n",
    "        orig_append_1 = pd.DataFrame(np.concatenate(orig_append_1))\n",
    "        pred_append_1 = pd.DataFrame(np.concatenate(pred_append_1))\n",
    "\n",
    "        return orig_append_1, pred_append_1\n",
    "\n",
    "    # In valid mode, return the validation losses for early stopping\n",
    "    else:\n",
    "        return valid_loss"
   ],
   "metadata": {
    "collapsed": false
   }
  },
  {
   "cell_type": "code",
   "execution_count": 40,
   "outputs": [],
   "source": [
    "# The parameters for early stopping\n",
    "early_stop_patience = 5\n",
    "\n",
    "lowest_loss_1 = np.inf\n",
    "lowest_loss_epoch_1 = -1\n",
    "\n",
    "model_train_flag_1 = False"
   ],
   "metadata": {
    "collapsed": false
   }
  },
  {
   "cell_type": "code",
   "execution_count": 41,
   "outputs": [
    {
     "name": "stdout",
     "output_type": "stream",
     "text": [
      "Epoch 1\n"
     ]
    },
    {
     "name": "stderr",
     "output_type": "stream",
     "text": [
      "training: 100%|██████████| 553/553 [00:36<00:00, 15.29it/s, train_loss_1=0.02]  \n",
      "validation: 100%|██████████| 3/3 [00:00<00:00, 43.48it/s, eval_loss_1=0.0305]\n"
     ]
    },
    {
     "name": "stdout",
     "output_type": "stream",
     "text": [
      "Evaluation Score 1 : [0.023586761206388474]\n",
      "\n",
      "\n",
      "Epoch 2\n"
     ]
    },
    {
     "name": "stderr",
     "output_type": "stream",
     "text": [
      "training: 100%|██████████| 553/553 [00:35<00:00, 15.40it/s, train_loss_1=0.0229]\n",
      "validation: 100%|██████████| 3/3 [00:00<00:00, 44.12it/s, eval_loss_1=0.0158]\n"
     ]
    },
    {
     "name": "stdout",
     "output_type": "stream",
     "text": [
      "Evaluation Score 1 : [0.01788500789552927]\n",
      "\n",
      "\n",
      "Epoch 3\n"
     ]
    },
    {
     "name": "stderr",
     "output_type": "stream",
     "text": [
      "training: 100%|██████████| 553/553 [00:35<00:00, 15.42it/s, train_loss_1=0.0166]\n",
      "validation: 100%|██████████| 3/3 [00:00<00:00, 45.10it/s, eval_loss_1=0.0226]\n"
     ]
    },
    {
     "name": "stdout",
     "output_type": "stream",
     "text": [
      "Evaluation Score 1 : [0.02044626045972109]\n",
      "\n",
      "\n",
      "Epoch 4\n"
     ]
    },
    {
     "name": "stderr",
     "output_type": "stream",
     "text": [
      "training: 100%|██████████| 553/553 [00:35<00:00, 15.45it/s, train_loss_1=0.0094] \n",
      "validation: 100%|██████████| 3/3 [00:00<00:00, 46.15it/s, eval_loss_1=0.0139]\n"
     ]
    },
    {
     "name": "stdout",
     "output_type": "stream",
     "text": [
      "Evaluation Score 1 : [0.012638770664731661]\n",
      "\n",
      "\n",
      "Epoch 5\n"
     ]
    },
    {
     "name": "stderr",
     "output_type": "stream",
     "text": [
      "training: 100%|██████████| 553/553 [00:35<00:00, 15.47it/s, train_loss_1=0.0096] \n",
      "validation: 100%|██████████| 3/3 [00:00<00:00, 45.45it/s, eval_loss_1=0.0126]\n"
     ]
    },
    {
     "name": "stdout",
     "output_type": "stream",
     "text": [
      "Evaluation Score 1 : [0.010435953425864378]\n",
      "\n",
      "\n",
      "Epoch 6\n"
     ]
    },
    {
     "name": "stderr",
     "output_type": "stream",
     "text": [
      "training: 100%|██████████| 553/553 [00:35<00:00, 15.51it/s, train_loss_1=0.0112] \n",
      "validation: 100%|██████████| 3/3 [00:00<00:00, 44.12it/s, eval_loss_1=0.0119]\n"
     ]
    },
    {
     "name": "stdout",
     "output_type": "stream",
     "text": [
      "Evaluation Score 1 : [0.00904497504234314]\n",
      "\n",
      "\n",
      "Epoch 7\n"
     ]
    },
    {
     "name": "stderr",
     "output_type": "stream",
     "text": [
      "training: 100%|██████████| 553/553 [00:35<00:00, 15.47it/s, train_loss_1=0.00832]\n",
      "validation: 100%|██████████| 3/3 [00:00<00:00, 46.15it/s, eval_loss_1=0.00979]\n"
     ]
    },
    {
     "name": "stdout",
     "output_type": "stream",
     "text": [
      "Evaluation Score 1 : [0.008688418194651604]\n",
      "\n",
      "\n",
      "Epoch 8\n"
     ]
    },
    {
     "name": "stderr",
     "output_type": "stream",
     "text": [
      "training: 100%|██████████| 553/553 [00:35<00:00, 15.52it/s, train_loss_1=0.00511]\n",
      "validation: 100%|██████████| 3/3 [00:00<00:00, 43.48it/s, eval_loss_1=0.00623]\n"
     ]
    },
    {
     "name": "stdout",
     "output_type": "stream",
     "text": [
      "Evaluation Score 1 : [0.00588007861127456]\n",
      "\n",
      "\n",
      "Epoch 9\n"
     ]
    },
    {
     "name": "stderr",
     "output_type": "stream",
     "text": [
      "training: 100%|██████████| 553/553 [00:35<00:00, 15.54it/s, train_loss_1=0.00519]\n",
      "validation: 100%|██████████| 3/3 [00:00<00:00, 44.78it/s, eval_loss_1=0.00489]\n"
     ]
    },
    {
     "name": "stdout",
     "output_type": "stream",
     "text": [
      "Evaluation Score 1 : [0.005187152264018853]\n",
      "\n",
      "\n",
      "Epoch 10\n"
     ]
    },
    {
     "name": "stderr",
     "output_type": "stream",
     "text": [
      "training: 100%|██████████| 553/553 [00:35<00:00, 15.50it/s, train_loss_1=0.00531]\n",
      "validation: 100%|██████████| 3/3 [00:00<00:00, 45.46it/s, eval_loss_1=0.00284]\n"
     ]
    },
    {
     "name": "stdout",
     "output_type": "stream",
     "text": [
      "Evaluation Score 1 : [0.003798134004076322]\n",
      "\n",
      "\n",
      "Epoch 11\n"
     ]
    },
    {
     "name": "stderr",
     "output_type": "stream",
     "text": [
      "training: 100%|██████████| 553/553 [00:35<00:00, 15.51it/s, train_loss_1=0.00406]\n",
      "validation: 100%|██████████| 3/3 [00:00<00:00, 46.15it/s, eval_loss_1=0.00441]\n"
     ]
    },
    {
     "name": "stdout",
     "output_type": "stream",
     "text": [
      "Evaluation Score 1 : [0.00528388066838185]\n",
      "\n",
      "\n",
      "Epoch 12\n"
     ]
    },
    {
     "name": "stderr",
     "output_type": "stream",
     "text": [
      "training: 100%|██████████| 553/553 [00:35<00:00, 15.53it/s, train_loss_1=0.00466]\n",
      "validation: 100%|██████████| 3/3 [00:00<00:00, 44.78it/s, eval_loss_1=0.00287]\n"
     ]
    },
    {
     "name": "stdout",
     "output_type": "stream",
     "text": [
      "Evaluation Score 1 : [0.0033472244006892047]\n",
      "\n",
      "\n",
      "Epoch 13\n"
     ]
    },
    {
     "name": "stderr",
     "output_type": "stream",
     "text": [
      "training: 100%|██████████| 553/553 [00:35<00:00, 15.54it/s, train_loss_1=0.00188]\n",
      "validation: 100%|██████████| 3/3 [00:00<00:00, 43.48it/s, eval_loss_1=0.00153]\n"
     ]
    },
    {
     "name": "stdout",
     "output_type": "stream",
     "text": [
      "Evaluation Score 1 : [0.0022398902413745723]\n",
      "\n",
      "\n",
      "Epoch 14\n"
     ]
    },
    {
     "name": "stderr",
     "output_type": "stream",
     "text": [
      "training: 100%|██████████| 553/553 [00:35<00:00, 15.51it/s, train_loss_1=0.00683]\n",
      "validation: 100%|██████████| 3/3 [00:00<00:00, 45.80it/s, eval_loss_1=0.00292]\n"
     ]
    },
    {
     "name": "stdout",
     "output_type": "stream",
     "text": [
      "Evaluation Score 1 : [0.0037821844841043153]\n",
      "\n",
      "\n",
      "Epoch 15\n"
     ]
    },
    {
     "name": "stderr",
     "output_type": "stream",
     "text": [
      "training: 100%|██████████| 553/553 [00:35<00:00, 15.53it/s, train_loss_1=0.00372]\n",
      "validation: 100%|██████████| 3/3 [00:00<00:00, 47.62it/s, eval_loss_1=0.00293]\n"
     ]
    },
    {
     "name": "stdout",
     "output_type": "stream",
     "text": [
      "Evaluation Score 1 : [0.003414043535788854]\n",
      "\n",
      "\n",
      "Epoch 16\n"
     ]
    },
    {
     "name": "stderr",
     "output_type": "stream",
     "text": [
      "training: 100%|██████████| 553/553 [00:35<00:00, 15.55it/s, train_loss_1=0.00167]\n",
      "validation: 100%|██████████| 3/3 [00:00<00:00, 45.46it/s, eval_loss_1=0.00155]\n"
     ]
    },
    {
     "name": "stdout",
     "output_type": "stream",
     "text": [
      "Evaluation Score 1 : [0.0016912942907462518]\n",
      "\n",
      "\n",
      "Epoch 17\n"
     ]
    },
    {
     "name": "stderr",
     "output_type": "stream",
     "text": [
      "training: 100%|██████████| 553/553 [00:35<00:00, 15.52it/s, train_loss_1=0.00251]\n",
      "validation: 100%|██████████| 3/3 [00:00<00:00, 51.72it/s, eval_loss_1=0.00154]\n"
     ]
    },
    {
     "name": "stdout",
     "output_type": "stream",
     "text": [
      "Evaluation Score 1 : [0.0016345295977468293]\n",
      "\n",
      "\n",
      "Epoch 18\n"
     ]
    },
    {
     "name": "stderr",
     "output_type": "stream",
     "text": [
      "training: 100%|██████████| 553/553 [00:35<00:00, 15.53it/s, train_loss_1=0.00131] \n",
      "validation: 100%|██████████| 3/3 [00:00<00:00, 45.80it/s, eval_loss_1=0.0011]\n"
     ]
    },
    {
     "name": "stdout",
     "output_type": "stream",
     "text": [
      "Evaluation Score 1 : [0.0011718216507385175]\n",
      "\n",
      "\n",
      "Epoch 19\n"
     ]
    },
    {
     "name": "stderr",
     "output_type": "stream",
     "text": [
      "training: 100%|██████████| 553/553 [00:35<00:00, 15.52it/s, train_loss_1=0.00168] \n",
      "validation: 100%|██████████| 3/3 [00:00<00:00, 45.11it/s, eval_loss_1=0.00234]\n"
     ]
    },
    {
     "name": "stdout",
     "output_type": "stream",
     "text": [
      "Evaluation Score 1 : [0.002176912617869675]\n",
      "\n",
      "\n",
      "Epoch 20\n"
     ]
    },
    {
     "name": "stderr",
     "output_type": "stream",
     "text": [
      "training: 100%|██████████| 553/553 [00:35<00:00, 15.51it/s, train_loss_1=0.00104] \n",
      "validation: 100%|██████████| 3/3 [00:00<00:00, 45.11it/s, eval_loss_1=0.000851]\n"
     ]
    },
    {
     "name": "stdout",
     "output_type": "stream",
     "text": [
      "Evaluation Score 1 : [0.0010297967431445916]\n",
      "\n",
      "\n",
      "Epoch 21\n"
     ]
    },
    {
     "name": "stderr",
     "output_type": "stream",
     "text": [
      "training: 100%|██████████| 553/553 [00:35<00:00, 15.53it/s, train_loss_1=0.000979]\n",
      "validation: 100%|██████████| 3/3 [00:00<00:00, 38.46it/s, eval_loss_1=0.00109]\n"
     ]
    },
    {
     "name": "stdout",
     "output_type": "stream",
     "text": [
      "Evaluation Score 1 : [0.0010752760184307892]\n",
      "\n",
      "\n",
      "Epoch 22\n"
     ]
    },
    {
     "name": "stderr",
     "output_type": "stream",
     "text": [
      "training: 100%|██████████| 553/553 [00:35<00:00, 15.51it/s, train_loss_1=0.00073] \n",
      "validation: 100%|██████████| 3/3 [00:00<00:00, 46.88it/s, eval_loss_1=0.00115]\n"
     ]
    },
    {
     "name": "stdout",
     "output_type": "stream",
     "text": [
      "Evaluation Score 1 : [0.0010276792648558815]\n",
      "\n",
      "\n",
      "Epoch 23\n"
     ]
    },
    {
     "name": "stderr",
     "output_type": "stream",
     "text": [
      "training: 100%|██████████| 553/553 [00:35<00:00, 15.54it/s, train_loss_1=0.000624]\n",
      "validation: 100%|██████████| 3/3 [00:00<00:00, 46.15it/s, eval_loss_1=0.000765]\n"
     ]
    },
    {
     "name": "stdout",
     "output_type": "stream",
     "text": [
      "Evaluation Score 1 : [0.0007459006543892125]\n",
      "\n",
      "\n",
      "Epoch 24\n"
     ]
    },
    {
     "name": "stderr",
     "output_type": "stream",
     "text": [
      "training: 100%|██████████| 553/553 [00:35<00:00, 15.54it/s, train_loss_1=0.00171] \n",
      "validation: 100%|██████████| 3/3 [00:00<00:00, 46.15it/s, eval_loss_1=0.00201]\n"
     ]
    },
    {
     "name": "stdout",
     "output_type": "stream",
     "text": [
      "Evaluation Score 1 : [0.0018700349222247799]\n",
      "\n",
      "\n",
      "Epoch 25\n"
     ]
    },
    {
     "name": "stderr",
     "output_type": "stream",
     "text": [
      "training: 100%|██████████| 553/553 [00:35<00:00, 15.52it/s, train_loss_1=0.00138] \n",
      "validation: 100%|██████████| 3/3 [00:00<00:00, 46.15it/s, eval_loss_1=0.00138]\n"
     ]
    },
    {
     "name": "stdout",
     "output_type": "stream",
     "text": [
      "Evaluation Score 1 : [0.0016151445064072807]\n",
      "\n",
      "\n",
      "Epoch 26\n"
     ]
    },
    {
     "name": "stderr",
     "output_type": "stream",
     "text": [
      "training: 100%|██████████| 553/553 [00:35<00:00, 15.50it/s, train_loss_1=0.00318] \n",
      "validation: 100%|██████████| 3/3 [00:00<00:00, 45.79it/s, eval_loss_1=0.00388]\n"
     ]
    },
    {
     "name": "stdout",
     "output_type": "stream",
     "text": [
      "Evaluation Score 1 : [0.0038072123813132444]\n",
      "\n",
      "\n",
      "Epoch 27\n"
     ]
    },
    {
     "name": "stderr",
     "output_type": "stream",
     "text": [
      "training: 100%|██████████| 553/553 [00:35<00:00, 15.53it/s, train_loss_1=0.00136] \n",
      "validation: 100%|██████████| 3/3 [00:00<00:00, 44.78it/s, eval_loss_1=0.00198]\n"
     ]
    },
    {
     "name": "stdout",
     "output_type": "stream",
     "text": [
      "Evaluation Score 1 : [0.002000464747349421]\n",
      "\n",
      "\n",
      "Epoch 28\n"
     ]
    },
    {
     "name": "stderr",
     "output_type": "stream",
     "text": [
      "training: 100%|██████████| 553/553 [00:35<00:00, 15.55it/s, train_loss_1=0.00107] \n",
      "validation: 100%|██████████| 3/3 [00:00<00:00, 44.78it/s, eval_loss_1=0.00098]\n"
     ]
    },
    {
     "name": "stdout",
     "output_type": "stream",
     "text": [
      "Evaluation Score 1 : [0.0011149506317451596]\n",
      "\n",
      "\n",
      "Epoch 29\n"
     ]
    },
    {
     "name": "stderr",
     "output_type": "stream",
     "text": [
      "training: 100%|██████████| 553/553 [00:35<00:00, 15.54it/s, train_loss_1=0.00207] \n",
      "validation: 100%|██████████| 3/3 [00:00<00:00, 45.45it/s, eval_loss_1=0.00191]"
     ]
    },
    {
     "name": "stdout",
     "output_type": "stream",
     "text": [
      "Evaluation Score 1 : [0.0016003195584441225]\n",
      "\n",
      "\n",
      "Individual model stopped training early at epoch 28\n",
      "\n",
      "Total time of training: 0.30388910790284474 hours\n"
     ]
    },
    {
     "name": "stderr",
     "output_type": "stream",
     "text": [
      "\n"
     ]
    }
   ],
   "source": [
    "start_time = time.time()\n",
    "\n",
    "# Train the VAE model\n",
    "for epoch in range(200):\n",
    "    print('Epoch', epoch + 1)\n",
    "\n",
    "    train_losses, \\\n",
    "    trained_model_1 = train(vae_lstm_1, optimizer=opt, train_loader=train_dataloader)\n",
    "\n",
    "    valid_losses = valid_or_test(trained_model_1, data_loader=valid_dataloader, mode=\"valid\")\n",
    "\n",
    "    # For model 1\n",
    "    if (valid_losses < lowest_loss_1) and (model_train_flag_1 == False):\n",
    "        lowest_loss_1 = valid_losses\n",
    "        lowest_loss_epoch_1 = epoch\n",
    "        save_checkpoint(trained_model_1, os.path.join(os.getcwd(), \"vae_checkpoint\", \"vae_best_model_1.pth\"))\n",
    "\n",
    "    elif epoch - lowest_loss_epoch_1 > early_stop_patience:\n",
    "        print(\"Individual model stopped training early at epoch {}\".format(epoch))\n",
    "        model_train_flag_1 = True\n",
    "        break\n",
    "\n",
    "end_time = time.time()\n",
    "\n",
    "total_time = end_time - start_time\n",
    "print(\"\\nTotal time of training: {} hours\".format(total_time/3600))"
   ],
   "metadata": {
    "collapsed": false
   }
  },
  {
   "cell_type": "markdown",
   "source": [
    "#### LOADING AND GENERATING RESULTS ON TEST DATALOADER"
   ],
   "metadata": {
    "collapsed": false
   }
  },
  {
   "cell_type": "code",
   "execution_count": 42,
   "outputs": [],
   "source": [
    "# Loading the models\n",
    "best_vae_lstm_model_1 = load_from_checkpoint(trained_model_1, os.path.join(os.getcwd(), \"vae_checkpoint\", \"vae_best_model_1.pth\"))"
   ],
   "metadata": {
    "collapsed": false
   }
  },
  {
   "cell_type": "code",
   "execution_count": 43,
   "outputs": [
    {
     "name": "stderr",
     "output_type": "stream",
     "text": [
      "testing: 100%|██████████| 3/3 [00:00<00:00, 48.39it/s, eval_loss_1=0.00093]"
     ]
    },
    {
     "name": "stdout",
     "output_type": "stream",
     "text": [
      "Evaluation Score 1 : [0.0008115638435507814]\n",
      "\n",
      "\n"
     ]
    },
    {
     "name": "stderr",
     "output_type": "stream",
     "text": [
      "\n"
     ]
    }
   ],
   "source": [
    "# Testing using the test dataloader\n",
    "orig_1, pred_1 = valid_or_test(best_vae_lstm_model_1, data_loader=test_dataloader, mode=\"test\")"
   ],
   "metadata": {
    "collapsed": false
   }
  },
  {
   "cell_type": "code",
   "execution_count": 44,
   "outputs": [],
   "source": [
    "orig = pd.DataFrame(orig_1)\n",
    "pred = pd.DataFrame(pred_1)"
   ],
   "metadata": {
    "collapsed": false
   }
  },
  {
   "cell_type": "code",
   "execution_count": 45,
   "outputs": [
    {
     "data": {
      "text/plain": "<AxesSubplot: >"
     },
     "execution_count": 45,
     "metadata": {},
     "output_type": "execute_result"
    },
    {
     "data": {
      "text/plain": "<Figure size 640x480 with 1 Axes>",
      "image/png": "[encoded data removed]"
     },
     "metadata": {},
     "output_type": "display_data"
    }
   ],
   "source": [
    "pd.concat((orig.iloc[:, 0], pred.iloc[:, 0]), axis=1).plot()"
   ],
   "metadata": {
    "collapsed": false
   }
  },
  {
   "cell_type": "code",
   "execution_count": 46,
   "outputs": [
    {
     "data": {
      "text/plain": "<AxesSubplot: >"
     },
     "execution_count": 46,
     "metadata": {},
     "output_type": "execute_result"
    },
    {
     "data": {
      "text/plain": "<Figure size 640x480 with 1 Axes>",
      "image/png": "[encoded data removed]"
     },
     "metadata": {},
     "output_type": "display_data"
    }
   ],
   "source": [
    "pd.concat((orig.iloc[:, 1], pred.iloc[:, 1]), axis=1).plot()"
   ],
   "metadata": {
    "collapsed": false
   }
  },
  {
   "cell_type": "code",
   "execution_count": 47,
   "outputs": [
    {
     "data": {
      "text/plain": "<AxesSubplot: >"
     },
     "execution_count": 47,
     "metadata": {},
     "output_type": "execute_result"
    },
    {
     "data": {
      "text/plain": "<Figure size 640x480 with 1 Axes>",
      "image/png": "[encoded data removed]"
     },
     "metadata": {},
     "output_type": "display_data"
    }
   ],
   "source": [
    "pd.concat((orig.iloc[:, 2], pred.iloc[:, 2]), axis=1).plot()"
   ],
   "metadata": {
    "collapsed": false
   }
  },
  {
   "cell_type": "code",
   "execution_count": 48,
   "outputs": [
    {
     "data": {
      "text/plain": "2.874870225787163"
     },
     "execution_count": 48,
     "metadata": {},
     "output_type": "execute_result"
    }
   ],
   "source": [
    "mape(orig.iloc[:, 0], pred.iloc[:, 0])"
   ],
   "metadata": {
    "collapsed": false
   }
  },
  {
   "cell_type": "code",
   "execution_count": 49,
   "outputs": [
    {
     "data": {
      "text/plain": "2.010459266602993"
     },
     "execution_count": 49,
     "metadata": {},
     "output_type": "execute_result"
    }
   ],
   "source": [
    "mape(orig.iloc[:, 1], pred.iloc[:, 1])"
   ],
   "metadata": {
    "collapsed": false
   }
  },
  {
   "cell_type": "code",
   "execution_count": 50,
   "outputs": [
    {
     "data": {
      "text/plain": "2.240876480937004"
     },
     "execution_count": 50,
     "metadata": {},
     "output_type": "execute_result"
    }
   ],
   "source": [
    "mape(orig.iloc[:, 2], pred.iloc[:, 2])"
   ],
   "metadata": {
    "collapsed": false
   }
  },
  {
   "cell_type": "code",
   "execution_count": 51,
   "outputs": [
    {
     "name": "stdout",
     "output_type": "stream",
     "text": [
      "Saving the best trained models.\n",
      "Saved !\n"
     ]
    }
   ],
   "source": [
    "print(\"Saving the best trained models.\")\n",
    "\n",
    "# Saving the models\n",
    "torch.save(best_vae_lstm_model_1, f\"vae_models/L5_best_zone_1.pth\")\n",
    "\n",
    "print(\"Saved !\")"
   ],
   "metadata": {
    "collapsed": false
   }
  },
  {
   "cell_type": "code",
   "execution_count": 52,
   "outputs": [
    {
     "data": {
      "text/plain": "{'status': 'ok', 'restart': True}"
     },
     "execution_count": 52,
     "metadata": {},
     "output_type": "execute_result"
    }
   ],
   "source": [
    "import IPython\n",
    "app = IPython.Application.instance()\n",
    "app.kernel.do_shutdown(True)"
   ],
   "metadata": {
    "collapsed": false
   }
  },
  {
   "cell_type": "code",
   "execution_count": 52,
   "outputs": [],
   "source": [],
   "metadata": {
    "collapsed": false
   }
  }
 ],
 "metadata": {
  "kernelspec": {
   "display_name": "Python 3",
   "language": "python",
   "name": "python3"
  },
  "language_info": {
   "codemirror_mode": {
    "name": "ipython",
    "version": 2
   },
   "file_extension": ".py",
   "mimetype": "text/x-python",
   "name": "python",
   "nbconvert_exporter": "python",
   "pygments_lexer": "ipython2",
   "version": "2.7.6"
  }
 },
 "nbformat": 4,
 "nbformat_minor": 0
}
