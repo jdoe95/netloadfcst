{
 "cells": [
  {
   "cell_type": "code",
   "execution_count": 1,
   "outputs": [
    {
     "name": "stdout",
     "output_type": "stream",
     "text": [
      "Using device cuda:0\n"
     ]
    }
   ],
   "source": [
    "# Importing the required libraries\n",
    "from IPython.display import display\n",
    "import os\n",
    "import numpy as np\n",
    "import pandas as pd\n",
    "from matplotlib import pyplot as plt\n",
    "from tqdm import tqdm\n",
    "from sklearn.preprocessing import MinMaxScaler, OneHotEncoder\n",
    "import time\n",
    "import easydict\n",
    "\n",
    "import torch\n",
    "import torch.nn as nn\n",
    "from torch.utils.tensorboard import SummaryWriter\n",
    "from tqdm import tqdm\n",
    "from torch.utils.data import DataLoader, Dataset\n",
    "\n",
    "from vae_lstm_model import VAE_LSTM\n",
    "\n",
    "# Training device check-up\n",
    "device = torch.device(\"cuda:0\" if torch.cuda.is_available() else \"cpu\")\n",
    "print(f\"Using device {device}\")\n",
    "\n",
    "writer = SummaryWriter()\n",
    "\n",
    "# Defining DOE custom mape formula\n",
    "def mape(y_true, y_pred):\n",
    "    y_true, y_pred = np.array(y_true), np.array(y_pred)\n",
    "    return np.mean(np.abs((y_true - y_pred) / max(y_true))) * 100"
   ],
   "metadata": {
    "collapsed": false
   }
  },
  {
   "cell_type": "markdown",
   "source": [
    "#### FETCHING AND PROCESSING CALENDER FEATURES"
   ],
   "metadata": {
    "collapsed": false
   }
  },
  {
   "cell_type": "code",
   "execution_count": 2,
   "outputs": [],
   "source": [
    "# Specifying the path of file\n",
    "path= r\"C:\\Users\\sashah8\\OneDrive - North Carolina State University\\Desktop\\DOE\\DOE_Q1\\L1\\data_cleaned\""
   ],
   "metadata": {
    "collapsed": false
   }
  },
  {
   "cell_type": "code",
   "execution_count": 3,
   "outputs": [
    {
     "name": "stdout",
     "output_type": "stream",
     "text": [
      "Sample dataframe: \n"
     ]
    },
    {
     "data": {
      "text/plain": "   Month  Day  Weekday  Hour\n0      1    1        1     0\n1      1    1        1     1",
      "text/html": "<div>\n<style scoped>\n    .dataframe tbody tr th:only-of-type {\n        vertical-align: middle;\n    }\n\n    .dataframe tbody tr th {\n        vertical-align: top;\n    }\n\n    .dataframe thead th {\n        text-align: right;\n    }\n</style>\n<table border=\"1\" class=\"dataframe\">\n  <thead>\n    <tr style=\"text-align: right;\">\n      <th></th>\n      <th>Month</th>\n      <th>Day</th>\n      <th>Weekday</th>\n      <th>Hour</th>\n    </tr>\n  </thead>\n  <tbody>\n    <tr>\n      <th>0</th>\n      <td>1</td>\n      <td>1</td>\n      <td>1</td>\n      <td>0</td>\n    </tr>\n    <tr>\n      <th>1</th>\n      <td>1</td>\n      <td>1</td>\n      <td>1</td>\n      <td>1</td>\n    </tr>\n  </tbody>\n</table>\n</div>"
     },
     "metadata": {},
     "output_type": "display_data"
    },
    {
     "name": "stdout",
     "output_type": "stream",
     "text": [
      "Available unique categories: \n"
     ]
    },
    {
     "data": {
      "text/plain": "Month      12\nDay        31\nWeekday     2\nHour       24\ndtype: int64"
     },
     "metadata": {},
     "output_type": "display_data"
    }
   ],
   "source": [
    "# Just for previewing the column name\n",
    "date = pd.read_csv(os.path.join(path, \"Date.csv\"))\n",
    "print(\"Sample dataframe: \")\n",
    "display(date.head(2))\n",
    "print(\"Available unique categories: \")\n",
    "display(date.nunique())"
   ],
   "metadata": {
    "collapsed": false
   }
  },
  {
   "cell_type": "code",
   "execution_count": 4,
   "outputs": [
    {
     "data": {
      "text/plain": "array([[1., 0., 0., ..., 0., 0., 0.],\n       [1., 0., 0., ..., 0., 0., 0.],\n       [1., 0., 0., ..., 0., 0., 0.],\n       ...,\n       [0., 0., 0., ..., 1., 0., 0.],\n       [0., 0., 0., ..., 0., 1., 0.],\n       [0., 0., 0., ..., 0., 0., 1.]])"
     },
     "execution_count": 4,
     "metadata": {},
     "output_type": "execute_result"
    }
   ],
   "source": [
    "# One-hot encoding the categorical calendar features\n",
    "date_enc = OneHotEncoder(sparse_output=False)\n",
    "categorical_data = date_enc.fit_transform(date)\n",
    "categorical_data"
   ],
   "metadata": {
    "collapsed": false
   }
  },
  {
   "cell_type": "code",
   "execution_count": 5,
   "outputs": [
    {
     "data": {
      "text/plain": "[12, 31, 2, 24]"
     },
     "execution_count": 5,
     "metadata": {},
     "output_type": "execute_result"
    }
   ],
   "source": [
    "category_count = [len(x_len) for x_len in date_enc.categories_]\n",
    "category_count"
   ],
   "metadata": {
    "collapsed": false
   }
  },
  {
   "cell_type": "markdown",
   "source": [
    "#### PROCESSING CONTINUOUS FEATURES FOR ALL AVAILABLE ZONES"
   ],
   "metadata": {
    "collapsed": false
   }
  },
  {
   "cell_type": "markdown",
   "source": [
    "PROCESSING LOAD DATA"
   ],
   "metadata": {
    "collapsed": false
   }
  },
  {
   "cell_type": "code",
   "execution_count": 6,
   "outputs": [
    {
     "name": "stdout",
     "output_type": "stream",
     "text": [
      "['MIDATL.csv', 'SOUTH.csv', 'WEST.csv']\n"
     ]
    }
   ],
   "source": [
    "# Listing just the required files\n",
    "fileList = os.listdir(path)\n",
    "fileList.remove(\"Date.csv\")\n",
    "\n",
    "# Previewing the required file names\n",
    "print(fileList)"
   ],
   "metadata": {
    "collapsed": false
   }
  },
  {
   "cell_type": "code",
   "execution_count": 7,
   "outputs": [
    {
     "data": {
      "text/plain": "         Net  Temperature\n0  31660.636         -7.6\n1  30766.066         -8.4",
      "text/html": "<div>\n<style scoped>\n    .dataframe tbody tr th:only-of-type {\n        vertical-align: middle;\n    }\n\n    .dataframe tbody tr th {\n        vertical-align: top;\n    }\n\n    .dataframe thead th {\n        text-align: right;\n    }\n</style>\n<table border=\"1\" class=\"dataframe\">\n  <thead>\n    <tr style=\"text-align: right;\">\n      <th></th>\n      <th>Net</th>\n      <th>Temperature</th>\n    </tr>\n  </thead>\n  <tbody>\n    <tr>\n      <th>0</th>\n      <td>31660.636</td>\n      <td>-7.6</td>\n    </tr>\n    <tr>\n      <th>1</th>\n      <td>30766.066</td>\n      <td>-8.4</td>\n    </tr>\n  </tbody>\n</table>\n</div>"
     },
     "execution_count": 7,
     "metadata": {},
     "output_type": "execute_result"
    }
   ],
   "source": [
    "# Just for previewing the column name\n",
    "pd.read_csv(os.path.join(path, fileList[0])).head(2)"
   ],
   "metadata": {
    "collapsed": false
   }
  },
  {
   "cell_type": "code",
   "execution_count": 8,
   "outputs": [
    {
     "data": {
      "text/plain": "       MIDATL_LOAD  SOUTH_LOAD  WEST_LOAD\n43822    28458.691   10838.550  45132.982\n43823    27428.213   10592.674  43501.529",
      "text/html": "<div>\n<style scoped>\n    .dataframe tbody tr th:only-of-type {\n        vertical-align: middle;\n    }\n\n    .dataframe tbody tr th {\n        vertical-align: top;\n    }\n\n    .dataframe thead th {\n        text-align: right;\n    }\n</style>\n<table border=\"1\" class=\"dataframe\">\n  <thead>\n    <tr style=\"text-align: right;\">\n      <th></th>\n      <th>MIDATL_LOAD</th>\n      <th>SOUTH_LOAD</th>\n      <th>WEST_LOAD</th>\n    </tr>\n  </thead>\n  <tbody>\n    <tr>\n      <th>43822</th>\n      <td>28458.691</td>\n      <td>10838.550</td>\n      <td>45132.982</td>\n    </tr>\n    <tr>\n      <th>43823</th>\n      <td>27428.213</td>\n      <td>10592.674</td>\n      <td>43501.529</td>\n    </tr>\n  </tbody>\n</table>\n</div>"
     },
     "execution_count": 8,
     "metadata": {},
     "output_type": "execute_result"
    }
   ],
   "source": [
    "# Fetching and concatenating the data\n",
    "load_ds = pd.concat([pd.read_csv(os.path.join(path, fileName), usecols= [\"Net\"]) for fileName in fileList], axis= 1)\n",
    "load_ds.columns = [i.removesuffix('.csv') for i in fileList]\n",
    "load_ds = load_ds.add_suffix(\"_LOAD\")\n",
    "load_ds.tail(2)"
   ],
   "metadata": {
    "collapsed": false
   }
  },
  {
   "cell_type": "code",
   "execution_count": 9,
   "outputs": [
    {
     "data": {
      "text/plain": "       MIDATL_LOAD_LAG1  SOUTH_LOAD_LAG1  WEST_LOAD_LAG1\n43822         28090.471         9718.976       39600.208\n43823         26375.029         9147.291       37687.068",
      "text/html": "<div>\n<style scoped>\n    .dataframe tbody tr th:only-of-type {\n        vertical-align: middle;\n    }\n\n    .dataframe tbody tr th {\n        vertical-align: top;\n    }\n\n    .dataframe thead th {\n        text-align: right;\n    }\n</style>\n<table border=\"1\" class=\"dataframe\">\n  <thead>\n    <tr style=\"text-align: right;\">\n      <th></th>\n      <th>MIDATL_LOAD_LAG1</th>\n      <th>SOUTH_LOAD_LAG1</th>\n      <th>WEST_LOAD_LAG1</th>\n    </tr>\n  </thead>\n  <tbody>\n    <tr>\n      <th>43822</th>\n      <td>28090.471</td>\n      <td>9718.976</td>\n      <td>39600.208</td>\n    </tr>\n    <tr>\n      <th>43823</th>\n      <td>26375.029</td>\n      <td>9147.291</td>\n      <td>37687.068</td>\n    </tr>\n  </tbody>\n</table>\n</div>"
     },
     "execution_count": 9,
     "metadata": {},
     "output_type": "execute_result"
    }
   ],
   "source": [
    "# Creating 1-day lag loads\n",
    "load_lag_1 = load_ds.shift(24*2).add_suffix(\"_LAG1\")\n",
    "load_lag_1.tail(2)"
   ],
   "metadata": {
    "collapsed": false
   }
  },
  {
   "cell_type": "code",
   "execution_count": 10,
   "outputs": [
    {
     "data": {
      "text/plain": "       MIDATL_LOAD_LAG7  SOUTH_LOAD_LAG7  WEST_LOAD_LAG7\n43822         29955.427        11519.032       41556.164\n43823         28929.156        11314.571       40399.011",
      "text/html": "<div>\n<style scoped>\n    .dataframe tbody tr th:only-of-type {\n        vertical-align: middle;\n    }\n\n    .dataframe tbody tr th {\n        vertical-align: top;\n    }\n\n    .dataframe thead th {\n        text-align: right;\n    }\n</style>\n<table border=\"1\" class=\"dataframe\">\n  <thead>\n    <tr style=\"text-align: right;\">\n      <th></th>\n      <th>MIDATL_LOAD_LAG7</th>\n      <th>SOUTH_LOAD_LAG7</th>\n      <th>WEST_LOAD_LAG7</th>\n    </tr>\n  </thead>\n  <tbody>\n    <tr>\n      <th>43822</th>\n      <td>29955.427</td>\n      <td>11519.032</td>\n      <td>41556.164</td>\n    </tr>\n    <tr>\n      <th>43823</th>\n      <td>28929.156</td>\n      <td>11314.571</td>\n      <td>40399.011</td>\n    </tr>\n  </tbody>\n</table>\n</div>"
     },
     "execution_count": 10,
     "metadata": {},
     "output_type": "execute_result"
    }
   ],
   "source": [
    "# Creating 7-day lag loads\n",
    "load_lag_7 = load_ds.shift(24*7).add_suffix(\"_LAG7\")\n",
    "load_lag_7.tail(2)"
   ],
   "metadata": {
    "collapsed": false
   }
  },
  {
   "cell_type": "code",
   "execution_count": 11,
   "outputs": [
    {
     "name": "stdout",
     "output_type": "stream",
     "text": [
      "Drop data before:  168\n"
     ]
    }
   ],
   "source": [
    "# Drop index for equalizing data\n",
    "drop_idx = load_lag_7.dropna(axis= 0).index[0]\n",
    "print(\"Drop data before: \", drop_idx)"
   ],
   "metadata": {
    "collapsed": false
   }
  },
  {
   "cell_type": "markdown",
   "source": [
    "PROCESSING TEMPERATURE DATA"
   ],
   "metadata": {
    "collapsed": false
   }
  },
  {
   "cell_type": "code",
   "execution_count": 12,
   "outputs": [
    {
     "data": {
      "text/plain": "       MIDATL_A_TEMP  SOUTH_A_TEMP  WEST_A_TEMP\n43822            2.8           9.0         -2.1\n43823            2.5           8.4         -2.6",
      "text/html": "<div>\n<style scoped>\n    .dataframe tbody tr th:only-of-type {\n        vertical-align: middle;\n    }\n\n    .dataframe tbody tr th {\n        vertical-align: top;\n    }\n\n    .dataframe thead th {\n        text-align: right;\n    }\n</style>\n<table border=\"1\" class=\"dataframe\">\n  <thead>\n    <tr style=\"text-align: right;\">\n      <th></th>\n      <th>MIDATL_A_TEMP</th>\n      <th>SOUTH_A_TEMP</th>\n      <th>WEST_A_TEMP</th>\n    </tr>\n  </thead>\n  <tbody>\n    <tr>\n      <th>43822</th>\n      <td>2.8</td>\n      <td>9.0</td>\n      <td>-2.1</td>\n    </tr>\n    <tr>\n      <th>43823</th>\n      <td>2.5</td>\n      <td>8.4</td>\n      <td>-2.6</td>\n    </tr>\n  </tbody>\n</table>\n</div>"
     },
     "execution_count": 12,
     "metadata": {},
     "output_type": "execute_result"
    }
   ],
   "source": [
    "# Fetching and concatenating the data\n",
    "temp_ds = pd.concat([pd.read_csv(os.path.join(path, fileName), usecols= [\"Temperature\"]) for fileName in fileList], axis= 1)\n",
    "temp_ds.columns = [i.removesuffix('.csv') for i in fileList]\n",
    "temp_ds = temp_ds.add_suffix(\"_A_TEMP\")\n",
    "temp_ds.tail(2)"
   ],
   "metadata": {
    "collapsed": false
   }
  },
  {
   "cell_type": "markdown",
   "source": [
    "### PREPARING X AND Y PART"
   ],
   "metadata": {
    "collapsed": false
   }
  },
  {
   "cell_type": "code",
   "execution_count": 13,
   "outputs": [
    {
     "data": {
      "text/plain": "       MIDATL_A_TEMP  MIDATL_LOAD_LAG1  MIDATL_LOAD_LAG7  SOUTH_A_TEMP  \\\n43654            2.8         28090.471         29955.427           9.0   \n43655            2.5         26375.029         28929.156           8.4   \n\n       SOUTH_LOAD_LAG1  SOUTH_LOAD_LAG7  WEST_A_TEMP  WEST_LOAD_LAG1  \\\n43654         9718.976        11519.032         -2.1       39600.208   \n43655         9147.291        11314.571         -2.6       37687.068   \n\n       WEST_LOAD_LAG7  \n43654       41556.164  \n43655       40399.011  ",
      "text/html": "<div>\n<style scoped>\n    .dataframe tbody tr th:only-of-type {\n        vertical-align: middle;\n    }\n\n    .dataframe tbody tr th {\n        vertical-align: top;\n    }\n\n    .dataframe thead th {\n        text-align: right;\n    }\n</style>\n<table border=\"1\" class=\"dataframe\">\n  <thead>\n    <tr style=\"text-align: right;\">\n      <th></th>\n      <th>MIDATL_A_TEMP</th>\n      <th>MIDATL_LOAD_LAG1</th>\n      <th>MIDATL_LOAD_LAG7</th>\n      <th>SOUTH_A_TEMP</th>\n      <th>SOUTH_LOAD_LAG1</th>\n      <th>SOUTH_LOAD_LAG7</th>\n      <th>WEST_A_TEMP</th>\n      <th>WEST_LOAD_LAG1</th>\n      <th>WEST_LOAD_LAG7</th>\n    </tr>\n  </thead>\n  <tbody>\n    <tr>\n      <th>43654</th>\n      <td>2.8</td>\n      <td>28090.471</td>\n      <td>29955.427</td>\n      <td>9.0</td>\n      <td>9718.976</td>\n      <td>11519.032</td>\n      <td>-2.1</td>\n      <td>39600.208</td>\n      <td>41556.164</td>\n    </tr>\n    <tr>\n      <th>43655</th>\n      <td>2.5</td>\n      <td>26375.029</td>\n      <td>28929.156</td>\n      <td>8.4</td>\n      <td>9147.291</td>\n      <td>11314.571</td>\n      <td>-2.6</td>\n      <td>37687.068</td>\n      <td>40399.011</td>\n    </tr>\n  </tbody>\n</table>\n</div>"
     },
     "execution_count": 13,
     "metadata": {},
     "output_type": "execute_result"
    }
   ],
   "source": [
    "X_continuous = pd.concat([load_lag_1, load_lag_7, temp_ds], axis=1)\n",
    "X_continuous = X_continuous.sort_index(axis=1)\n",
    "X_continuous = X_continuous.iloc[drop_idx:].reset_index(drop=True)\n",
    "X_continuous.tail(2)"
   ],
   "metadata": {
    "collapsed": false
   }
  },
  {
   "cell_type": "code",
   "execution_count": 14,
   "outputs": [
    {
     "data": {
      "text/plain": "        0    1    2    3    4    5    6    7    8    9   ...   59   60   61  \\\n43654  0.0  0.0  0.0  0.0  0.0  0.0  0.0  0.0  0.0  0.0  ...  0.0  0.0  0.0   \n43655  0.0  0.0  0.0  0.0  0.0  0.0  0.0  0.0  0.0  0.0  ...  0.0  0.0  0.0   \n\n        62   63   64   65   66   67   68  \n43654  0.0  0.0  0.0  0.0  0.0  1.0  0.0  \n43655  0.0  0.0  0.0  0.0  0.0  0.0  1.0  \n\n[2 rows x 69 columns]",
      "text/html": "<div>\n<style scoped>\n    .dataframe tbody tr th:only-of-type {\n        vertical-align: middle;\n    }\n\n    .dataframe tbody tr th {\n        vertical-align: top;\n    }\n\n    .dataframe thead th {\n        text-align: right;\n    }\n</style>\n<table border=\"1\" class=\"dataframe\">\n  <thead>\n    <tr style=\"text-align: right;\">\n      <th></th>\n      <th>0</th>\n      <th>1</th>\n      <th>2</th>\n      <th>3</th>\n      <th>4</th>\n      <th>5</th>\n      <th>6</th>\n      <th>7</th>\n      <th>8</th>\n      <th>9</th>\n      <th>...</th>\n      <th>59</th>\n      <th>60</th>\n      <th>61</th>\n      <th>62</th>\n      <th>63</th>\n      <th>64</th>\n      <th>65</th>\n      <th>66</th>\n      <th>67</th>\n      <th>68</th>\n    </tr>\n  </thead>\n  <tbody>\n    <tr>\n      <th>43654</th>\n      <td>0.0</td>\n      <td>0.0</td>\n      <td>0.0</td>\n      <td>0.0</td>\n      <td>0.0</td>\n      <td>0.0</td>\n      <td>0.0</td>\n      <td>0.0</td>\n      <td>0.0</td>\n      <td>0.0</td>\n      <td>...</td>\n      <td>0.0</td>\n      <td>0.0</td>\n      <td>0.0</td>\n      <td>0.0</td>\n      <td>0.0</td>\n      <td>0.0</td>\n      <td>0.0</td>\n      <td>0.0</td>\n      <td>1.0</td>\n      <td>0.0</td>\n    </tr>\n    <tr>\n      <th>43655</th>\n      <td>0.0</td>\n      <td>0.0</td>\n      <td>0.0</td>\n      <td>0.0</td>\n      <td>0.0</td>\n      <td>0.0</td>\n      <td>0.0</td>\n      <td>0.0</td>\n      <td>0.0</td>\n      <td>0.0</td>\n      <td>...</td>\n      <td>0.0</td>\n      <td>0.0</td>\n      <td>0.0</td>\n      <td>0.0</td>\n      <td>0.0</td>\n      <td>0.0</td>\n      <td>0.0</td>\n      <td>0.0</td>\n      <td>0.0</td>\n      <td>1.0</td>\n    </tr>\n  </tbody>\n</table>\n<p>2 rows × 69 columns</p>\n</div>"
     },
     "execution_count": 14,
     "metadata": {},
     "output_type": "execute_result"
    }
   ],
   "source": [
    "X_categorical = pd.DataFrame(categorical_data)\n",
    "X_categorical = X_categorical.iloc[drop_idx:].reset_index(drop=True)\n",
    "X_categorical.tail(2)"
   ],
   "metadata": {
    "collapsed": false
   }
  },
  {
   "cell_type": "code",
   "execution_count": 15,
   "outputs": [
    {
     "data": {
      "text/plain": "       MIDATL_LOAD  SOUTH_LOAD  WEST_LOAD\n43654    28458.691   10838.550  45132.982\n43655    27428.213   10592.674  43501.529",
      "text/html": "<div>\n<style scoped>\n    .dataframe tbody tr th:only-of-type {\n        vertical-align: middle;\n    }\n\n    .dataframe tbody tr th {\n        vertical-align: top;\n    }\n\n    .dataframe thead th {\n        text-align: right;\n    }\n</style>\n<table border=\"1\" class=\"dataframe\">\n  <thead>\n    <tr style=\"text-align: right;\">\n      <th></th>\n      <th>MIDATL_LOAD</th>\n      <th>SOUTH_LOAD</th>\n      <th>WEST_LOAD</th>\n    </tr>\n  </thead>\n  <tbody>\n    <tr>\n      <th>43654</th>\n      <td>28458.691</td>\n      <td>10838.550</td>\n      <td>45132.982</td>\n    </tr>\n    <tr>\n      <th>43655</th>\n      <td>27428.213</td>\n      <td>10592.674</td>\n      <td>43501.529</td>\n    </tr>\n  </tbody>\n</table>\n</div>"
     },
     "execution_count": 15,
     "metadata": {},
     "output_type": "execute_result"
    }
   ],
   "source": [
    "Y = load_ds.copy()\n",
    "Y = Y.sort_index(axis=1)\n",
    "Y = Y.iloc[drop_idx:].reset_index(drop=True)\n",
    "Y.tail(2)"
   ],
   "metadata": {
    "collapsed": false
   }
  },
  {
   "cell_type": "code",
   "execution_count": 16,
   "outputs": [
    {
     "name": "stdout",
     "output_type": "stream",
     "text": [
      "Train samples:  35361 \n",
      "Valid samples:  3929 \n",
      "Test samples:  4365\n"
     ]
    }
   ],
   "source": [
    "### SPLITTING THE DATA INTO TRAINING AND TESTING\n",
    "# Setting the train-test split\n",
    "ratio = 0.1\n",
    "train_size, test_size = int(len(X_continuous)/24 * (1 - ratio) * 24), int(len(X_continuous)/24 * ratio * 24)\n",
    "train_size, valid_size = int(train_size/24 * (1 - ratio) * 24), int(train_size/24 * ratio * 24)\n",
    "\n",
    "print(\"Train samples: \", train_size, \"\\nValid samples: \", valid_size, \"\\nTest samples: \", test_size)"
   ],
   "metadata": {
    "collapsed": false
   }
  },
  {
   "cell_type": "code",
   "execution_count": 17,
   "outputs": [
    {
     "name": "stdout",
     "output_type": "stream",
     "text": [
      "Train split of continuous data: \n"
     ]
    },
    {
     "data": {
      "text/plain": "       MIDATL_A_TEMP  MIDATL_LOAD_LAG1  MIDATL_LOAD_LAG7  SOUTH_A_TEMP  \\\n35359            1.0      37020.168000      32335.027000           1.8   \n35360            1.0      34183.688703      32117.330671           1.2   \n\n       SOUTH_LOAD_LAG1  SOUTH_LOAD_LAG7  WEST_A_TEMP  WEST_LOAD_LAG1  \\\n35359     14184.514000     13460.057000         -0.8    53632.721000   \n35360     13761.424062     13138.995947         -0.8    53884.891318   \n\n       WEST_LOAD_LAG7  \n35359    46726.019000  \n35360    45704.822258  ",
      "text/html": "<div>\n<style scoped>\n    .dataframe tbody tr th:only-of-type {\n        vertical-align: middle;\n    }\n\n    .dataframe tbody tr th {\n        vertical-align: top;\n    }\n\n    .dataframe thead th {\n        text-align: right;\n    }\n</style>\n<table border=\"1\" class=\"dataframe\">\n  <thead>\n    <tr style=\"text-align: right;\">\n      <th></th>\n      <th>MIDATL_A_TEMP</th>\n      <th>MIDATL_LOAD_LAG1</th>\n      <th>MIDATL_LOAD_LAG7</th>\n      <th>SOUTH_A_TEMP</th>\n      <th>SOUTH_LOAD_LAG1</th>\n      <th>SOUTH_LOAD_LAG7</th>\n      <th>WEST_A_TEMP</th>\n      <th>WEST_LOAD_LAG1</th>\n      <th>WEST_LOAD_LAG7</th>\n    </tr>\n  </thead>\n  <tbody>\n    <tr>\n      <th>35359</th>\n      <td>1.0</td>\n      <td>37020.168000</td>\n      <td>32335.027000</td>\n      <td>1.8</td>\n      <td>14184.514000</td>\n      <td>13460.057000</td>\n      <td>-0.8</td>\n      <td>53632.721000</td>\n      <td>46726.019000</td>\n    </tr>\n    <tr>\n      <th>35360</th>\n      <td>1.0</td>\n      <td>34183.688703</td>\n      <td>32117.330671</td>\n      <td>1.2</td>\n      <td>13761.424062</td>\n      <td>13138.995947</td>\n      <td>-0.8</td>\n      <td>53884.891318</td>\n      <td>45704.822258</td>\n    </tr>\n  </tbody>\n</table>\n</div>"
     },
     "metadata": {},
     "output_type": "display_data"
    },
    {
     "name": "stdout",
     "output_type": "stream",
     "text": [
      "Train split of categorical data: \n"
     ]
    },
    {
     "data": {
      "text/plain": "        0    1    2    3    4    5    6    7    8    9   ...   59   60   61  \\\n35359  1.0  0.0  0.0  0.0  0.0  0.0  0.0  0.0  0.0  0.0  ...  0.0  0.0  0.0   \n35360  1.0  0.0  0.0  0.0  0.0  0.0  0.0  0.0  0.0  0.0  ...  0.0  0.0  0.0   \n\n        62   63   64   65   66   67   68  \n35359  0.0  0.0  0.0  0.0  0.0  0.0  0.0  \n35360  0.0  0.0  0.0  0.0  0.0  0.0  0.0  \n\n[2 rows x 69 columns]",
      "text/html": "<div>\n<style scoped>\n    .dataframe tbody tr th:only-of-type {\n        vertical-align: middle;\n    }\n\n    .dataframe tbody tr th {\n        vertical-align: top;\n    }\n\n    .dataframe thead th {\n        text-align: right;\n    }\n</style>\n<table border=\"1\" class=\"dataframe\">\n  <thead>\n    <tr style=\"text-align: right;\">\n      <th></th>\n      <th>0</th>\n      <th>1</th>\n      <th>2</th>\n      <th>3</th>\n      <th>4</th>\n      <th>5</th>\n      <th>6</th>\n      <th>7</th>\n      <th>8</th>\n      <th>9</th>\n      <th>...</th>\n      <th>59</th>\n      <th>60</th>\n      <th>61</th>\n      <th>62</th>\n      <th>63</th>\n      <th>64</th>\n      <th>65</th>\n      <th>66</th>\n      <th>67</th>\n      <th>68</th>\n    </tr>\n  </thead>\n  <tbody>\n    <tr>\n      <th>35359</th>\n      <td>1.0</td>\n      <td>0.0</td>\n      <td>0.0</td>\n      <td>0.0</td>\n      <td>0.0</td>\n      <td>0.0</td>\n      <td>0.0</td>\n      <td>0.0</td>\n      <td>0.0</td>\n      <td>0.0</td>\n      <td>...</td>\n      <td>0.0</td>\n      <td>0.0</td>\n      <td>0.0</td>\n      <td>0.0</td>\n      <td>0.0</td>\n      <td>0.0</td>\n      <td>0.0</td>\n      <td>0.0</td>\n      <td>0.0</td>\n      <td>0.0</td>\n    </tr>\n    <tr>\n      <th>35360</th>\n      <td>1.0</td>\n      <td>0.0</td>\n      <td>0.0</td>\n      <td>0.0</td>\n      <td>0.0</td>\n      <td>0.0</td>\n      <td>0.0</td>\n      <td>0.0</td>\n      <td>0.0</td>\n      <td>0.0</td>\n      <td>...</td>\n      <td>0.0</td>\n      <td>0.0</td>\n      <td>0.0</td>\n      <td>0.0</td>\n      <td>0.0</td>\n      <td>0.0</td>\n      <td>0.0</td>\n      <td>0.0</td>\n      <td>0.0</td>\n      <td>0.0</td>\n    </tr>\n  </tbody>\n</table>\n<p>2 rows × 69 columns</p>\n</div>"
     },
     "metadata": {},
     "output_type": "display_data"
    },
    {
     "name": "stdout",
     "output_type": "stream",
     "text": [
      "Train split of target data Y: \n"
     ]
    },
    {
     "data": {
      "text/plain": "        MIDATL_LOAD   SOUTH_LOAD     WEST_LOAD\n35359  28305.707000  10439.49700  50076.225000\n35360  25645.871023   9910.53028  50985.314363",
      "text/html": "<div>\n<style scoped>\n    .dataframe tbody tr th:only-of-type {\n        vertical-align: middle;\n    }\n\n    .dataframe tbody tr th {\n        vertical-align: top;\n    }\n\n    .dataframe thead th {\n        text-align: right;\n    }\n</style>\n<table border=\"1\" class=\"dataframe\">\n  <thead>\n    <tr style=\"text-align: right;\">\n      <th></th>\n      <th>MIDATL_LOAD</th>\n      <th>SOUTH_LOAD</th>\n      <th>WEST_LOAD</th>\n    </tr>\n  </thead>\n  <tbody>\n    <tr>\n      <th>35359</th>\n      <td>28305.707000</td>\n      <td>10439.49700</td>\n      <td>50076.225000</td>\n    </tr>\n    <tr>\n      <th>35360</th>\n      <td>25645.871023</td>\n      <td>9910.53028</td>\n      <td>50985.314363</td>\n    </tr>\n  </tbody>\n</table>\n</div>"
     },
     "metadata": {},
     "output_type": "display_data"
    }
   ],
   "source": [
    "# Splitting the continuous data into training and test split\n",
    "X_continuous_train, X_continuous_valid, X_continuous_test = X_continuous[:train_size], \\\n",
    "                                                            X_continuous[train_size:train_size+valid_size], \\\n",
    "                                                            X_continuous[train_size+valid_size:]\n",
    "print(\"Train split of continuous data: \")\n",
    "display(X_continuous_train.tail(2))\n",
    "\n",
    "# Splitting the categorical data into training and test split\n",
    "X_categorical_train, X_categorical_valid, X_categorical_test = X_categorical[:train_size], \\\n",
    "                                                               X_categorical[train_size:train_size+valid_size], \\\n",
    "                                                               X_categorical[train_size+valid_size:]\n",
    "print(\"Train split of categorical data: \")\n",
    "display(X_categorical_train.tail(2))\n",
    "\n",
    "# Splitting the target into training and test split\n",
    "Y_train, Y_valid, Y_test = Y[:train_size],  Y[train_size:train_size+valid_size], Y[train_size+valid_size:]\n",
    "print(\"Train split of target data Y: \")\n",
    "display(Y_train.tail(2))"
   ],
   "metadata": {
    "collapsed": false
   }
  },
  {
   "cell_type": "code",
   "execution_count": 18,
   "outputs": [
    {
     "name": "stdout",
     "output_type": "stream",
     "text": [
      "Shape for continuous variable: \n",
      "(35361, 9) (3929, 9) (4366, 9) \n",
      "\n",
      "Shape for categorical variable: \n",
      "(35361, 69) (3929, 69) (4366, 69) \n",
      "\n",
      "Shape for target variable: \n",
      "(35361, 3) (3929, 3) (4366, 3) \n",
      "\n",
      "Does it cover entire training set:  True\n"
     ]
    }
   ],
   "source": [
    "print(\"Shape for continuous variable: \")\n",
    "print(X_continuous_train.shape, X_continuous_valid.shape, X_continuous_test.shape, \"\\n\")\n",
    "print(\"Shape for categorical variable: \")\n",
    "print(X_categorical_train.shape, X_categorical_valid.shape, X_categorical_test.shape, \"\\n\")\n",
    "print(\"Shape for target variable: \")\n",
    "print(Y_train.shape, Y_valid.shape, Y_test.shape, \"\\n\")\n",
    "print(\"Does it cover entire training set: \", (X_continuous_train.shape[0] +\n",
    "                                              X_continuous_valid.shape[0] +\n",
    "                                              X_continuous_test.shape[0]) == len(X_continuous))"
   ],
   "metadata": {
    "collapsed": false
   }
  },
  {
   "cell_type": "markdown",
   "source": [
    "### SCALING THE DATA"
   ],
   "metadata": {
    "collapsed": false
   }
  },
  {
   "cell_type": "code",
   "execution_count": 19,
   "outputs": [],
   "source": [
    "# Scaling values using min-max scaler\n",
    "mm_scaler_X = MinMaxScaler()\n",
    "mm_scaler_Y = MinMaxScaler()"
   ],
   "metadata": {
    "collapsed": false
   }
  },
  {
   "cell_type": "code",
   "execution_count": 20,
   "outputs": [
    {
     "name": "stdout",
     "output_type": "stream",
     "text": [
      "Scaled continuous X train: \n"
     ]
    },
    {
     "data": {
      "text/plain": "array([[0.22608696, 0.44511956, 0.43065024, ..., 0.10172745, 0.59168985,\n        0.50711927],\n       [0.19826087, 0.43145624, 0.41002199, ..., 0.0940499 , 0.56606337,\n        0.48722235],\n       [0.1826087 , 0.42411783, 0.39700564, ..., 0.08637236, 0.55328635,\n        0.47148018],\n       ...,\n       [0.43652174, 0.51459237, 0.42277485, ..., 0.44913628, 0.52582682,\n        0.42544195],\n       [0.44      , 0.55423788, 0.4462013 , ..., 0.44913628, 0.57998324,\n        0.44970732],\n       [0.44      , 0.48883035, 0.44118135, ..., 0.44913628, 0.58473974,\n        0.43044526]])"
     },
     "execution_count": 20,
     "metadata": {},
     "output_type": "execute_result"
    }
   ],
   "source": [
    "# Scaling continuous X train part\n",
    "X_scaled_continuous_train = mm_scaler_X.fit_transform(X_continuous_train)\n",
    "\n",
    "# Using the fit_scaler to scale the X valid part\n",
    "X_scaled_continuous_valid = mm_scaler_X.transform(X_continuous_valid)\n",
    "\n",
    "# Using the fit_scaler to scale the X test part\n",
    "X_scaled_continuous_test = mm_scaler_X.transform(X_continuous_test)\n",
    "\n",
    "print(\"Scaled continuous X train: \")\n",
    "X_scaled_continuous_train"
   ],
   "metadata": {
    "collapsed": false
   }
  },
  {
   "cell_type": "code",
   "execution_count": 21,
   "outputs": [
    {
     "name": "stdout",
     "output_type": "stream",
     "text": [
      "Scaled continuous Y train: \n"
     ]
    },
    {
     "data": {
      "text/plain": "array([[0.5998175 , 0.7220881 , 0.7510787 ],\n       [0.58696998, 0.72491528, 0.73463023],\n       [0.58072205, 0.73411311, 0.7314377 ],\n       ...,\n       [0.33094078, 0.30573853, 0.48249906],\n       [0.35328756, 0.33116576, 0.51289974],\n       [0.29195332, 0.2986623 , 0.5300472 ]])"
     },
     "execution_count": 21,
     "metadata": {},
     "output_type": "execute_result"
    }
   ],
   "source": [
    "# Scaling target Y train part\n",
    "Y_scaled_train = mm_scaler_Y.fit_transform(Y_train)\n",
    "\n",
    "# Using the fit_scaler to scale the Y valid part\n",
    "Y_scaled_valid = mm_scaler_Y.transform(Y_valid)\n",
    "\n",
    "# Using the fit_scaler to scale the Y test part\n",
    "Y_scaled_test = mm_scaler_Y.transform(Y_test)\n",
    "\n",
    "print(\"Scaled continuous Y train: \")\n",
    "Y_scaled_train"
   ],
   "metadata": {
    "collapsed": false
   }
  },
  {
   "cell_type": "code",
   "execution_count": 22,
   "outputs": [],
   "source": [
    "# Converting a multivariate dataset into slices of samples\n",
    "def split_data(calendar_data, x_data, y_data, n_steps, n_overlap):\n",
    "    calendar, x, y = list(), list(), list()\n",
    "    for i in range(0, len(x_data), n_steps-n_overlap):\n",
    "\n",
    "        # Finding the split index\n",
    "        end_idx = i + n_steps\n",
    "\n",
    "        # Break the loop at end of dataset\n",
    "        if end_idx > len(x_data):\n",
    "            break\n",
    "\n",
    "        # Appending the custom created samples with desired time-steps and features\n",
    "        sample_calendar, sample_x, sample_y = calendar_data[i:end_idx, :], \\\n",
    "                                              x_data[i:end_idx, :], \\\n",
    "                                              y_data[i:end_idx, :]\n",
    "        calendar.append(sample_calendar)\n",
    "        x.append(sample_x)\n",
    "        y.append(sample_y)\n",
    "\n",
    "    return np.array(calendar), np.array(x), np.array(y)"
   ],
   "metadata": {
    "collapsed": false
   }
  },
  {
   "cell_type": "code",
   "execution_count": 23,
   "outputs": [
    {
     "name": "stdout",
     "output_type": "stream",
     "text": [
      "Shape of the created samples for training:  (35338, 24, 3)\n",
      "Shape of the created samples for validation:  (163, 24, 3)\n",
      "Shape of the created samples for testing:  (181, 24, 3)\n"
     ]
    }
   ],
   "source": [
    "num_steps = 24\n",
    "train_num_overlap = 23\n",
    "test_valid_num_overlap = 0\n",
    "\n",
    "processed_data_train = split_data(calendar_data=X_categorical_train.to_numpy(),\n",
    "                            x_data=X_scaled_continuous_train,\n",
    "                            y_data=Y_scaled_train,\n",
    "                            n_steps=num_steps, n_overlap=train_num_overlap)\n",
    "\n",
    "processed_data_valid = split_data(calendar_data=X_categorical_valid.to_numpy(),\n",
    "                            x_data=X_scaled_continuous_valid,\n",
    "                            y_data=Y_scaled_valid,\n",
    "                            n_steps=num_steps, n_overlap=test_valid_num_overlap)\n",
    "\n",
    "processed_data_test = split_data(calendar_data=X_categorical_test.to_numpy(),\n",
    "                            x_data=X_scaled_continuous_test,\n",
    "                            y_data=Y_scaled_test,\n",
    "                            n_steps=num_steps, n_overlap=test_valid_num_overlap)\n",
    "\n",
    "print(\"Shape of the created samples for training: \", processed_data_train[2].shape)\n",
    "print(\"Shape of the created samples for validation: \", processed_data_valid[2].shape)\n",
    "print(\"Shape of the created samples for testing: \", processed_data_test[2].shape)"
   ],
   "metadata": {
    "collapsed": false
   }
  },
  {
   "cell_type": "code",
   "execution_count": 24,
   "outputs": [
    {
     "name": "stdout",
     "output_type": "stream",
     "text": [
      "First sample: \n",
      "\n"
     ]
    },
    {
     "data": {
      "text/plain": "array([[0.34086957, 0.49032569, 0.47194572, 0.3816047 , 0.43242641,\n        0.47248083, 0.44913628, 0.62245543, 0.5517334 ],\n       [0.32521739, 0.41865565, 0.43395031, 0.37377691, 0.35261394,\n        0.53536703, 0.44913628, 0.61601585, 0.55467797],\n       [0.31478261, 0.43367312, 0.31650136, 0.37181996, 0.40066822,\n        0.41097184, 0.44913628, 0.59866124, 0.53741151],\n       [0.31652174, 0.47885738, 0.32695062, 0.36203523, 0.38110631,\n        0.40754545, 0.44913628, 0.54958272, 0.55186689],\n       [0.37217391, 0.47745726, 0.35172153, 0.36007828, 0.39065141,\n        0.41198165, 0.44913628, 0.47522221, 0.54472642],\n       [0.41565217, 0.49168754, 0.38284162, 0.37964775, 0.40158755,\n        0.39961403, 0.44913628, 0.56310638, 0.50627102],\n       [0.43652174, 0.51451347, 0.4310779 , 0.3816047 , 0.45306831,\n        0.44838538, 0.44913628, 0.56049166, 0.53368906],\n       [0.44521739, 0.55385565, 0.5006673 , 0.3816047 , 0.50170953,\n        0.52328152, 0.44913628, 0.59078037, 0.48216845],\n       [0.45043478, 0.59956194, 0.54576703, 0.3776908 , 0.56408556,\n        0.59025771, 0.44913628, 0.62016201, 0.58097079],\n       [0.45217391, 0.60454881, 0.54837235, 0.37181996, 0.57522223,\n        0.59934985, 0.44913628, 0.63860371, 0.59572859],\n       [0.43652174, 0.59502119, 0.53794284, 0.36986301, 0.56956043,\n        0.59242476, 0.44913628, 0.62745367, 0.58069323],\n       [0.41913043, 0.57597075, 0.52513984, 0.36790607, 0.55049347,\n        0.57712192, 0.44913628, 0.61139459, 0.5649293 ],\n       [0.41043478, 0.53758878, 0.50196451, 0.36399217, 0.51810742,\n        0.55746015, 0.44913628, 0.57928171, 0.53687733],\n       [0.39652174, 0.48573055, 0.47062926, 0.36007828, 0.47090851,\n        0.52742783, 0.44913628, 0.52828989, 0.50604629],\n       [0.38782609, 0.44152794, 0.436926  , 0.35420744, 0.42933557,\n        0.49782294, 0.44913628, 0.47789437, 0.46882183],\n       [0.39304348, 0.41236745, 0.40725451, 0.35029354, 0.40585345,\n        0.4760649 , 0.44913628, 0.44483604, 0.4366246 ],\n       [0.40695652, 0.39511941, 0.38789914, 0.35225049, 0.3935268 ,\n        0.46266022, 0.44913628, 0.42289745, 0.41408077],\n       [0.4173913 , 0.39020655, 0.37969227, 0.35616438, 0.39003113,\n        0.45627089, 0.44913628, 0.41077538, 0.3998761 ],\n       [0.42608696, 0.39273276, 0.37807687, 0.36399217, 0.39490739,\n        0.45038217, 0.44913628, 0.40714136, 0.39381694],\n       [0.42608696, 0.40823527, 0.3842222 , 0.37573386, 0.41975339,\n        0.45621928, 0.44913628, 0.42120728, 0.39562345],\n       [0.43130435, 0.45160221, 0.39989273, 0.38943249, 0.46353345,\n        0.46802738, 0.44913628, 0.46084989, 0.40800856],\n       [0.43652174, 0.51459237, 0.42277485, 0.38943249, 0.53175076,\n        0.4878856 , 0.44913628, 0.52582682, 0.42544195],\n       [0.44      , 0.55423788, 0.4462013 , 0.38551859, 0.56128609,\n        0.51677033, 0.44913628, 0.57998324, 0.44970732],\n       [0.44      , 0.48883035, 0.44118135, 0.37377691, 0.53528845,\n        0.49704207, 0.44913628, 0.58473974, 0.43044526]])"
     },
     "execution_count": 24,
     "metadata": {},
     "output_type": "execute_result"
    }
   ],
   "source": [
    "## Sample check for sanity\n",
    "print(\"First sample: \\n\")\n",
    "processed_data_train[1][-1]"
   ],
   "metadata": {
    "collapsed": false
   }
  },
  {
   "cell_type": "code",
   "execution_count": 25,
   "outputs": [
    {
     "name": "stdout",
     "output_type": "stream",
     "text": [
      "Second sample: \n",
      "\n"
     ]
    },
    {
     "data": {
      "text/plain": "array([[0.19826087, 0.43145624, 0.41002199, 0.12720157, 0.39728287,\n        0.45465502, 0.0940499 , 0.56606337, 0.48722235],\n       [0.1826087 , 0.42411783, 0.39700564, 0.11741683, 0.40129991,\n        0.44521024, 0.08637236, 0.55328635, 0.47148018],\n       [0.17043478, 0.42606896, 0.39008344, 0.10763209, 0.40822629,\n        0.4488259 , 0.07677543, 0.549954  , 0.46204555],\n       [0.16173913, 0.44653594, 0.39430379, 0.09784736, 0.4399822 ,\n        0.46039565, 0.06909789, 0.5600569 , 0.45943157],\n       [0.15478261, 0.50279748, 0.40928955, 0.08806262, 0.49628228,\n        0.48041714, 0.06142035, 0.60011369, 0.47173184],\n       [0.14608696, 0.58839888, 0.43012813, 0.07827789, 0.57651249,\n        0.50234569, 0.0537428 , 0.66506704, 0.48780957],\n       [0.1373913 , 0.63738144, 0.43440079, 0.07240705, 0.61095199,\n        0.5013424 , 0.04798464, 0.71732035, 0.50201433],\n       [0.13043478, 0.58889666, 0.38189914, 0.0704501 , 0.55291717,\n        0.44390439, 0.04414587, 0.70068591, 0.50205164],\n       [0.12347826, 0.55183977, 0.33822015, 0.06262231, 0.50200223,\n        0.37551697, 0.0403071 , 0.6478662 , 0.49971591],\n       [0.12347826, 0.55183988, 0.30982871, 0.06066536, 0.4430016 ,\n        0.31773   , 0.03838772, 0.67548053, 0.49754305],\n       [0.12173913, 0.50641421, 0.31434413, 0.05870841, 0.40927353,\n        0.27565843, 0.03646833, 0.596956  , 0.48695926],\n       [0.12347826, 0.49616174, 0.30915322, 0.06457926, 0.35455885,\n        0.24936341, 0.03838772, 0.64341542, 0.43052282],\n       [0.14608696, 0.49938074, 0.28945469, 0.07240705, 0.33272161,\n        0.23001763, 0.04414587, 0.59413641, 0.4265651 ],\n       [0.17913043, 0.56362919, 0.29812554, 0.09784736, 0.35025601,\n        0.23859015, 0.06142035, 0.61939544, 0.43755746],\n       [0.20869565, 0.58090454, 0.34170325, 0.12133072, 0.38199007,\n        0.2755514 , 0.08637236, 0.61676066, 0.43753733],\n       [0.23478261, 0.61107393, 0.42031809, 0.15068493, 0.45177802,\n        0.34937947, 0.11516315, 0.67989764, 0.46428888],\n       [0.26434783, 0.69870923, 0.50744725, 0.18199609, 0.55204021,\n        0.45029916, 0.14011516, 0.75433238, 0.5322611 ],\n       [0.28869565, 0.70722698, 0.51221737, 0.20939335, 0.57562175,\n        0.46356325, 0.16698656, 0.79012109, 0.56099626],\n       [0.3026087 , 0.69830825, 0.50398553, 0.22504892, 0.57792006,\n        0.4583435 , 0.18618042, 0.78802167, 0.55431067],\n       [0.3026087 , 0.67667719, 0.49183202, 0.22896282, 0.56968486,\n        0.44662333, 0.21305182, 0.77588332, 0.53924977],\n       [0.28695652, 0.63629657, 0.46702669, 0.22113503, 0.54639101,\n        0.42455345, 0.22840691, 0.74388171, 0.51426717],\n       [0.25913043, 0.57788701, 0.42629584, 0.20547945, 0.50225678,\n        0.39106265, 0.23608445, 0.69628276, 0.48025383],\n       [0.23826087, 0.52600272, 0.38350452, 0.20156556, 0.46952251,\n        0.35396871, 0.24760077, 0.64673777, 0.44428241],\n       [0.22782609, 0.49106246, 0.35143017, 0.19765166, 0.44975087,\n        0.32576284, 0.24760077, 0.60429004, 0.41085845]])"
     },
     "execution_count": 25,
     "metadata": {},
     "output_type": "execute_result"
    }
   ],
   "source": [
    "print(\"Second sample: \\n\")\n",
    "processed_data_train[1][1]"
   ],
   "metadata": {
    "collapsed": false
   }
  },
  {
   "cell_type": "code",
   "execution_count": 26,
   "outputs": [],
   "source": [
    "# Dividing the sampled data - training\n",
    "categorical_samples_training = torch.Tensor(processed_data_train[0])\n",
    "continuous_samples_training = torch.Tensor(processed_data_train[1])\n",
    "target_samples_training = torch.Tensor(processed_data_train[2])\n",
    "\n",
    "# Dividing the sampled data - validation\n",
    "categorical_samples_validation = torch.Tensor(processed_data_valid[0])\n",
    "continuous_samples_validation = torch.Tensor(processed_data_valid[1])\n",
    "target_samples_validation = torch.Tensor(processed_data_valid[2])\n",
    "\n",
    "# Dividing the sampled data - testing\n",
    "categorical_samples_testing = torch.Tensor(processed_data_test[0])\n",
    "continuous_samples_testing = torch.Tensor(processed_data_test[1])\n",
    "target_samples_testing = torch.Tensor(processed_data_test[2])"
   ],
   "metadata": {
    "collapsed": false
   }
  },
  {
   "cell_type": "code",
   "execution_count": 27,
   "outputs": [
    {
     "name": "stdout",
     "output_type": "stream",
     "text": [
      "Shape of categorical samples - training:  torch.Size([35338, 24, 69])\n",
      "Shape of continuous samples - training:  torch.Size([35338, 24, 9])\n",
      "Shape of target samples - training:  torch.Size([35338, 24, 3])\n",
      "\n",
      "\n",
      "Shape of categorical samples - validation:  torch.Size([163, 24, 69])\n",
      "Shape of continuous samples - validation:  torch.Size([163, 24, 9])\n",
      "Shape of target samples - validation:  torch.Size([163, 24, 3])\n",
      "\n",
      "\n",
      "Shape of categorical samples - testing:  torch.Size([181, 24, 69])\n",
      "Shape of continuous samples - testing:  torch.Size([181, 24, 9])\n",
      "Shape of target samples - testing:  torch.Size([181, 24, 3])\n"
     ]
    }
   ],
   "source": [
    "print(\"Shape of categorical samples - training: \", categorical_samples_training.shape)\n",
    "print(\"Shape of continuous samples - training: \", continuous_samples_training.shape)\n",
    "print(\"Shape of target samples - training: \", target_samples_training.shape)\n",
    "print(\"\\n\")\n",
    "print(\"Shape of categorical samples - validation: \", categorical_samples_validation.shape)\n",
    "print(\"Shape of continuous samples - validation: \", continuous_samples_validation.shape)\n",
    "print(\"Shape of target samples - validation: \", target_samples_validation.shape)\n",
    "print(\"\\n\")\n",
    "print(\"Shape of categorical samples - testing: \", categorical_samples_testing.shape)\n",
    "print(\"Shape of continuous samples - testing: \", continuous_samples_testing.shape)\n",
    "print(\"Shape of target samples - testing: \", target_samples_testing.shape)"
   ],
   "metadata": {
    "collapsed": false
   }
  },
  {
   "cell_type": "markdown",
   "source": [
    "### CREATING DATALOADER"
   ],
   "metadata": {
    "collapsed": false
   }
  },
  {
   "cell_type": "code",
   "execution_count": 28,
   "outputs": [],
   "source": [
    "BATCH_SIZE = 64"
   ],
   "metadata": {
    "collapsed": false
   }
  },
  {
   "cell_type": "code",
   "execution_count": 29,
   "outputs": [],
   "source": [
    "class TimeSeriesLoader(Dataset):\n",
    "    def __init__(self, categorical, continuous, target):\n",
    "        self.categorical, self.continuous, self.target = categorical, continuous, target\n",
    "\n",
    "    def __len__(self):\n",
    "        return len(self.categorical)\n",
    "\n",
    "    def __getitem__(self, idx):\n",
    "        return self.categorical[idx], self.continuous[idx], self.target[idx]"
   ],
   "metadata": {
    "collapsed": false
   }
  },
  {
   "cell_type": "code",
   "execution_count": 30,
   "outputs": [],
   "source": [
    "train_dataset = TimeSeriesLoader(categorical_samples_training,\n",
    "                                 continuous_samples_training,\n",
    "                                 target_samples_training)\n",
    "\n",
    "valid_dataset = TimeSeriesLoader(categorical_samples_validation,\n",
    "                                 continuous_samples_validation,\n",
    "                                 target_samples_validation)\n",
    "\n",
    "test_dataset = TimeSeriesLoader(categorical_samples_testing,\n",
    "                                continuous_samples_testing,\n",
    "                                target_samples_testing)"
   ],
   "metadata": {
    "collapsed": false
   }
  },
  {
   "cell_type": "code",
   "execution_count": 31,
   "outputs": [],
   "source": [
    "train_dataloader = DataLoader(train_dataset, batch_size=BATCH_SIZE, shuffle=True, drop_last=False)\n",
    "\n",
    "valid_dataloader = DataLoader(valid_dataset, batch_size=BATCH_SIZE, shuffle=False, drop_last=False)\n",
    "\n",
    "test_dataloader = DataLoader(test_dataset, batch_size=BATCH_SIZE, shuffle=False, drop_last=False)"
   ],
   "metadata": {
    "collapsed": false
   }
  },
  {
   "cell_type": "code",
   "execution_count": 32,
   "outputs": [
    {
     "name": "stdout",
     "output_type": "stream",
     "text": [
      "Number of batches in train dataloader:  553\n",
      "Number of batches in valid dataloader:  3\n",
      "Number of batches in test dataloader:  3\n"
     ]
    }
   ],
   "source": [
    "print(\"Number of batches in train dataloader: \", len(train_dataloader))\n",
    "print(\"Number of batches in valid dataloader: \", len(valid_dataloader))\n",
    "print(\"Number of batches in test dataloader: \", len(test_dataloader))"
   ],
   "metadata": {
    "collapsed": false
   }
  },
  {
   "cell_type": "code",
   "execution_count": 33,
   "outputs": [
    {
     "name": "stdout",
     "output_type": "stream",
     "text": [
      "Shape of categorical variables:  torch.Size([35338, 24, 69])\n",
      "Shape of continuous variables:  torch.Size([35338, 24, 9])\n",
      "Shape of target variables:  torch.Size([35338, 24, 3])\n"
     ]
    }
   ],
   "source": [
    "categorical_var_shape = train_dataloader.dataset.categorical.shape\n",
    "continuous_var_shape = train_dataloader.dataset.continuous.shape\n",
    "target_var_shape = train_dataloader.dataset.target.shape\n",
    "\n",
    "print(\"Shape of categorical variables: \", categorical_var_shape)\n",
    "print(\"Shape of continuous variables: \", continuous_var_shape)\n",
    "print(\"Shape of target variables: \", target_var_shape)"
   ],
   "metadata": {
    "collapsed": false
   }
  },
  {
   "cell_type": "code",
   "execution_count": 34,
   "outputs": [
    {
     "name": "stdout",
     "output_type": "stream",
     "text": [
      "Number of zones:  3\n",
      "Number of features per zone:  3\n"
     ]
    }
   ],
   "source": [
    "# Specifying number of zones and features per zone\n",
    "num_zones = target_var_shape[2]\n",
    "num_zone_features = int(continuous_var_shape[2] / target_var_shape[2])\n",
    "print(\"Number of zones: \", num_zones)\n",
    "print(\"Number of features per zone: \", num_zone_features)"
   ],
   "metadata": {
    "collapsed": false
   }
  },
  {
   "cell_type": "markdown",
   "source": [
    "## DEFINING MODEL ARCHITECTURE"
   ],
   "metadata": {
    "collapsed": false
   }
  },
  {
   "cell_type": "code",
   "execution_count": 35,
   "outputs": [],
   "source": [
    "args = easydict.EasyDict(\n",
    "        {\n",
    "            \"device\": torch.device(\"cuda\")\n",
    "            if torch.cuda.is_available()\n",
    "            else torch.device(\"cpu\"),\n",
    "            \"input_size\": 3,\n",
    "            \"hidden_size\": 2048,\n",
    "            \"latent_size\": 1024,\n",
    "            \"output_size\": 3,\n",
    "            \"learning_rate\": 0.001,\n",
    "            \"max_iter\": 1000,\n",
    "        }\n",
    "    )\n",
    "\n",
    "input_size = args.input_size\n",
    "hidden_size = args.hidden_size\n",
    "latent_size = args.latent_size\n",
    "output_size = args.output_size"
   ],
   "metadata": {
    "collapsed": false
   }
  },
  {
   "cell_type": "code",
   "execution_count": 36,
   "outputs": [],
   "source": [
    "def init_weights(model):\n",
    "    if isinstance(model, nn.Linear):\n",
    "        torch.nn.init.kaiming_uniform_(model.weight, nonlinearity='relu')\n",
    "        model.bias.data.fill_(0.01)\n",
    "\n",
    "def save_checkpoint(model, filename):\n",
    "    torch.save(model.state_dict(), filename)\n",
    "\n",
    "def load_from_checkpoint(model, filename):\n",
    "    model.load_state_dict(torch.load(filename))\n",
    "    return model"
   ],
   "metadata": {
    "collapsed": false
   }
  },
  {
   "cell_type": "code",
   "execution_count": 37,
   "outputs": [],
   "source": [
    "# define LSTM-based VAE model\n",
    "vae_lstm_1 = VAE_LSTM(input_size, hidden_size, latent_size, output_size, device=args.device).to(args.device).apply(init_weights)\n",
    "vae_lstm_2 = VAE_LSTM(input_size, hidden_size, latent_size, output_size, device=args.device).to(args.device).apply(init_weights)\n",
    "vae_lstm_3 = VAE_LSTM(input_size, hidden_size, latent_size, output_size, device=args.device).to(args.device).apply(init_weights)"
   ],
   "metadata": {
    "collapsed": false
   }
  },
  {
   "cell_type": "code",
   "execution_count": 38,
   "outputs": [],
   "source": [
    "# Defining optimizers\n",
    "opt = torch.optim.Adam(list(vae_lstm_1.parameters()) +\n",
    "                       list(vae_lstm_2.parameters()) +\n",
    "                       list(vae_lstm_3.parameters()),\n",
    "                       lr=args.learning_rate)"
   ],
   "metadata": {
    "collapsed": false
   }
  },
  {
   "cell_type": "code",
   "execution_count": 39,
   "outputs": [],
   "source": [
    "def train(*models, optimizer, train_loader):\n",
    "\n",
    "    model_1 = models[0]\n",
    "    model_2 = models[1]\n",
    "    model_3 = models[2]\n",
    "\n",
    "    model_1.train()\n",
    "    model_2.train()\n",
    "    model_3.train()\n",
    "\n",
    "    # Resetting the calculated gradients\n",
    "    optimizer.zero_grad()\n",
    "\n",
    "    train_iterator = tqdm(\n",
    "        enumerate(train_loader), total=len(train_loader), desc=\"training\"\n",
    "    )\n",
    "\n",
    "    for i, (categorical_var, continuous_var, target_var) in train_iterator:\n",
    "\n",
    "        zone_1 = continuous_var[:, :, 0:3].to(device)\n",
    "        zone_2 = continuous_var[:, :, 3:6].to(device)\n",
    "        zone_3 = continuous_var[:, :, 6:9].to(device)\n",
    "\n",
    "        m_loss_1, recon_x_1, info_1 = model_1(zone_1)\n",
    "        m_loss_2, recon_x_2, info_2 = model_2(zone_2)\n",
    "        m_loss_3, recon_x_3, info_3 = model_3(zone_3)\n",
    "\n",
    "        # Resetting the calculated gradients\n",
    "        optimizer.zero_grad()\n",
    "\n",
    "        # Calculating the gradients for backprop\n",
    "        m_loss_1.mean().backward()\n",
    "        m_loss_2.mean().backward()\n",
    "        m_loss_3.mean().backward()\n",
    "\n",
    "        # Performing backprop step\n",
    "        optimizer.step()\n",
    "\n",
    "        train_iterator.set_postfix({\"train_loss_1\": float(m_loss_1.mean()),\n",
    "                                    \"train_loss_2\": float(m_loss_2.mean()),\n",
    "                                    \"train_loss_3\": float(m_loss_3.mean())})\n",
    "\n",
    "    writer.add_scalar(\"train_loss_1\", float(m_loss_1.mean()), epoch)\n",
    "    writer.add_scalar(\"train_loss_2\", float(m_loss_2.mean()), epoch)\n",
    "    writer.add_scalar(\"train_loss_3\", float(m_loss_3.mean()), epoch)\n",
    "\n",
    "    train_loss = (\n",
    "        m_loss_1.mean(),\n",
    "        m_loss_2.mean(),\n",
    "        m_loss_3.mean(),\n",
    "    )\n",
    "\n",
    "    return train_loss, model_1, model_2, model_3"
   ],
   "metadata": {
    "collapsed": false
   }
  },
  {
   "cell_type": "code",
   "execution_count": 40,
   "outputs": [],
   "source": [
    "def valid_or_test(*models, data_loader, mode):\n",
    "\n",
    "    model_1 = models[0]\n",
    "    model_2 = models[1]\n",
    "    model_3 = models[2]\n",
    "\n",
    "    model_1.eval()\n",
    "    model_2.eval()\n",
    "    model_3.eval()\n",
    "\n",
    "    eval_loss_1 = 0\n",
    "    eval_loss_2 = 0\n",
    "    eval_loss_3 = 0\n",
    "\n",
    "    orig_append_1, pred_append_1 = list(), list()\n",
    "    orig_append_2, pred_append_2 = list(), list()\n",
    "    orig_append_3, pred_append_3 = list(), list()\n",
    "\n",
    "    if mode == \"test\":\n",
    "        valid_or_test_iterator = tqdm(\n",
    "            enumerate(data_loader), total=len(data_loader), desc=\"testing\"\n",
    "        )\n",
    "    else:\n",
    "        valid_or_test_iterator = tqdm(\n",
    "            enumerate(data_loader), total=len(data_loader), desc=\"validation\"\n",
    "        )\n",
    "\n",
    "    with torch.no_grad():\n",
    "        for i, (categorical_var, continuous_var, target_var) in valid_or_test_iterator:\n",
    "\n",
    "            zone_1 = continuous_var[:, :, 0:3].to(device)\n",
    "            zone_2 = continuous_var[:, :, 3:6].to(device)\n",
    "            zone_3 = continuous_var[:, :, 6:9].to(device)\n",
    "\n",
    "            m_loss_1, recon_x_1, info_1 = model_1(zone_1)\n",
    "            m_loss_2, recon_x_2, info_2 = model_2(zone_2)\n",
    "            m_loss_3, recon_x_3, info_3 = model_3(zone_3)\n",
    "\n",
    "            eval_loss_1 += m_loss_1.mean().item()\n",
    "            eval_loss_2 += m_loss_2.mean().item()\n",
    "            eval_loss_3 += m_loss_3.mean().item()\n",
    "\n",
    "            valid_or_test_iterator.set_postfix({\"eval_loss_1\": float(m_loss_1.mean()),\n",
    "                                                \"eval_loss_2\": float(m_loss_2.mean()),\n",
    "                                                \"eval_loss_3\": float(m_loss_3.mean())})\n",
    "\n",
    "            if mode == \"test\":\n",
    "\n",
    "                orig_data_1 = zone_1.cpu().detach().numpy().reshape(-1, 3)\n",
    "                pred_data_1 = recon_x_1.cpu().detach().numpy().reshape(-1, 3)\n",
    "\n",
    "                orig_data_2 = zone_2.cpu().detach().numpy().reshape(-1, 3)\n",
    "                pred_data_2 = recon_x_2.cpu().detach().numpy().reshape(-1, 3)\n",
    "\n",
    "                orig_data_3 = zone_3.cpu().detach().numpy().reshape(-1, 3)\n",
    "                pred_data_3 = recon_x_3.cpu().detach().numpy().reshape(-1, 3)\n",
    "\n",
    "                orig_append_1.append(orig_data_1)\n",
    "                pred_append_1.append(pred_data_1)\n",
    "\n",
    "                orig_append_2.append(orig_data_2)\n",
    "                pred_append_2.append(pred_data_2)\n",
    "\n",
    "                orig_append_3.append(orig_data_3)\n",
    "                pred_append_3.append(pred_data_3)\n",
    "\n",
    "    eval_loss_1 = eval_loss_1 / len(data_loader)\n",
    "    writer.add_scalar(\"eval_loss_1\", float(eval_loss_1))\n",
    "\n",
    "    eval_loss_2 = eval_loss_2 / len(data_loader)\n",
    "    writer.add_scalar(\"eval_loss_2\", float(eval_loss_2))\n",
    "\n",
    "    eval_loss_3 = eval_loss_3 / len(data_loader)\n",
    "    writer.add_scalar(\"eval_loss_3\", float(eval_loss_3))\n",
    "\n",
    "    print(\"Evaluation Score 1 : [{}]\".format(eval_loss_1))\n",
    "    print(\"Evaluation Score 2 : [{}]\".format(eval_loss_2))\n",
    "    print(\"Evaluation Score 3 : [{}]\".format(eval_loss_3))\n",
    "    print(\"\\n\")\n",
    "\n",
    "    valid_loss = (\n",
    "        eval_loss_1,\n",
    "        eval_loss_2,\n",
    "        eval_loss_3\n",
    "    )\n",
    "\n",
    "    # In test mode, return the true and predicted data for evaluation on hold-out test set\n",
    "    if mode == \"test\":\n",
    "\n",
    "        # Concatenating all the appended data\n",
    "        orig_append_1 = pd.DataFrame(np.concatenate(orig_append_1))\n",
    "        pred_append_1 = pd.DataFrame(np.concatenate(pred_append_1))\n",
    "\n",
    "        orig_append_2 = pd.DataFrame(np.concatenate(orig_append_2))\n",
    "        pred_append_2 = pd.DataFrame(np.concatenate(pred_append_2))\n",
    "\n",
    "        orig_append_3 = pd.DataFrame(np.concatenate(orig_append_3))\n",
    "        pred_append_3 = pd.DataFrame(np.concatenate(pred_append_3))\n",
    "\n",
    "        return orig_append_1, pred_append_1, \\\n",
    "               orig_append_2, pred_append_2, \\\n",
    "               orig_append_3, pred_append_3\n",
    "\n",
    "    # In valid mode, return the validation losses for early stopping\n",
    "    else:\n",
    "        return valid_loss"
   ],
   "metadata": {
    "collapsed": false
   }
  },
  {
   "cell_type": "code",
   "execution_count": 41,
   "outputs": [],
   "source": [
    "# The parameters for early stopping\n",
    "early_stop_patience = 5\n",
    "\n",
    "lowest_loss_1 = np.inf\n",
    "lowest_loss_epoch_1 = -1\n",
    "\n",
    "lowest_loss_2 = np.inf\n",
    "lowest_loss_epoch_2 = -1\n",
    "\n",
    "lowest_loss_3 = np.inf\n",
    "lowest_loss_epoch_3 = -1\n",
    "\n",
    "model_train_flag_1 = False\n",
    "model_train_flag_2 = False\n",
    "model_train_flag_3 = False"
   ],
   "metadata": {
    "collapsed": false
   }
  },
  {
   "cell_type": "code",
   "execution_count": 42,
   "outputs": [
    {
     "name": "stdout",
     "output_type": "stream",
     "text": [
      "Epoch 1\n"
     ]
    },
    {
     "name": "stderr",
     "output_type": "stream",
     "text": [
      "training: 100%|██████████| 553/553 [01:23<00:00,  6.66it/s, train_loss_1=0.0286, train_loss_2=0.0359, train_loss_3=0.0359]\n",
      "validation: 100%|██████████| 3/3 [00:00<00:00, 21.33it/s, eval_loss_1=0.0206, eval_loss_2=0.0263, eval_loss_3=0.0551]\n"
     ]
    },
    {
     "name": "stdout",
     "output_type": "stream",
     "text": [
      "Evaluation Score 1 : [0.02236671621600787]\n",
      "Evaluation Score 2 : [0.02948351390659809]\n",
      "Evaluation Score 3 : [0.045781126866738]\n",
      "\n",
      "\n",
      "Epoch 2\n"
     ]
    },
    {
     "name": "stderr",
     "output_type": "stream",
     "text": [
      "training: 100%|██████████| 553/553 [01:23<00:00,  6.61it/s, train_loss_1=0.00895, train_loss_2=0.0152, train_loss_3=0.0137]\n",
      "validation: 100%|██████████| 3/3 [00:00<00:00, 21.31it/s, eval_loss_1=0.0147, eval_loss_2=0.0183, eval_loss_3=0.0153]\n"
     ]
    },
    {
     "name": "stdout",
     "output_type": "stream",
     "text": [
      "Evaluation Score 1 : [0.010840775134662787]\n",
      "Evaluation Score 2 : [0.016122406038145225]\n",
      "Evaluation Score 3 : [0.016322984049717586]\n",
      "\n",
      "\n",
      "Epoch 3\n"
     ]
    },
    {
     "name": "stderr",
     "output_type": "stream",
     "text": [
      "training: 100%|██████████| 553/553 [01:23<00:00,  6.59it/s, train_loss_1=0.00977, train_loss_2=0.0105, train_loss_3=0.0129]  \n",
      "validation: 100%|██████████| 3/3 [00:00<00:00, 21.33it/s, eval_loss_1=0.0102, eval_loss_2=0.0114, eval_loss_3=0.00988]\n"
     ]
    },
    {
     "name": "stdout",
     "output_type": "stream",
     "text": [
      "Evaluation Score 1 : [0.007734214421361685]\n",
      "Evaluation Score 2 : [0.008932210970669985]\n",
      "Evaluation Score 3 : [0.008508264242360989]\n",
      "\n",
      "\n",
      "Epoch 4\n"
     ]
    },
    {
     "name": "stderr",
     "output_type": "stream",
     "text": [
      "training: 100%|██████████| 553/553 [01:23<00:00,  6.59it/s, train_loss_1=0.00653, train_loss_2=0.00655, train_loss_3=0.0067] \n",
      "validation: 100%|██████████| 3/3 [00:00<00:00, 21.33it/s, eval_loss_1=0.0101, eval_loss_2=0.0108, eval_loss_3=0.00957]  \n"
     ]
    },
    {
     "name": "stdout",
     "output_type": "stream",
     "text": [
      "Evaluation Score 1 : [0.007513437885791063]\n",
      "Evaluation Score 2 : [0.008502958342432976]\n",
      "Evaluation Score 3 : [0.007740489362428586]\n",
      "\n",
      "\n",
      "Epoch 5\n"
     ]
    },
    {
     "name": "stderr",
     "output_type": "stream",
     "text": [
      "training: 100%|██████████| 553/553 [01:23<00:00,  6.63it/s, train_loss_1=0.00778, train_loss_2=0.00367, train_loss_3=0.00395]\n",
      "validation: 100%|██████████| 3/3 [00:00<00:00, 19.20it/s, eval_loss_1=0.0103, eval_loss_2=0.00462, eval_loss_3=0.00296]\n"
     ]
    },
    {
     "name": "stdout",
     "output_type": "stream",
     "text": [
      "Evaluation Score 1 : [0.007634893214950959]\n",
      "Evaluation Score 2 : [0.004589894010374944]\n",
      "Evaluation Score 3 : [0.0040449409279972315]\n",
      "\n",
      "\n",
      "Epoch 6\n"
     ]
    },
    {
     "name": "stderr",
     "output_type": "stream",
     "text": [
      "training: 100%|██████████| 553/553 [01:23<00:00,  6.62it/s, train_loss_1=0.00443, train_loss_2=0.00335, train_loss_3=0.00305]\n",
      "validation: 100%|██████████| 3/3 [00:00<00:00, 21.29it/s, eval_loss_1=0.0107, eval_loss_2=0.00192, eval_loss_3=0.00212]\n"
     ]
    },
    {
     "name": "stdout",
     "output_type": "stream",
     "text": [
      "Evaluation Score 1 : [0.00733944633975625]\n",
      "Evaluation Score 2 : [0.0031229446564490595]\n",
      "Evaluation Score 3 : [0.003088202870761355]\n",
      "\n",
      "\n",
      "Epoch 7\n"
     ]
    },
    {
     "name": "stderr",
     "output_type": "stream",
     "text": [
      "training: 100%|██████████| 553/553 [01:23<00:00,  6.62it/s, train_loss_1=0.00352, train_loss_2=0.00283, train_loss_3=0.00192]\n",
      "validation: 100%|██████████| 3/3 [00:00<00:00, 21.31it/s, eval_loss_1=0.00325, eval_loss_2=0.00155, eval_loss_3=0.00201]\n"
     ]
    },
    {
     "name": "stdout",
     "output_type": "stream",
     "text": [
      "Evaluation Score 1 : [0.0033465136463443437]\n",
      "Evaluation Score 2 : [0.0027373501022035875]\n",
      "Evaluation Score 3 : [0.002393766383950909]\n",
      "\n",
      "\n",
      "Epoch 8\n"
     ]
    },
    {
     "name": "stderr",
     "output_type": "stream",
     "text": [
      "training: 100%|██████████| 553/553 [01:23<00:00,  6.64it/s, train_loss_1=0.00254, train_loss_2=0.00149, train_loss_3=0.00195]\n",
      "validation: 100%|██████████| 3/3 [00:00<00:00, 21.34it/s, eval_loss_1=0.00283, eval_loss_2=0.00183, eval_loss_3=0.00171]\n"
     ]
    },
    {
     "name": "stdout",
     "output_type": "stream",
     "text": [
      "Evaluation Score 1 : [0.0030858394068976245]\n",
      "Evaluation Score 2 : [0.0020480635575950146]\n",
      "Evaluation Score 3 : [0.0020080791243041554]\n",
      "\n",
      "\n",
      "Epoch 9\n"
     ]
    },
    {
     "name": "stderr",
     "output_type": "stream",
     "text": [
      "training: 100%|██████████| 553/553 [01:23<00:00,  6.61it/s, train_loss_1=0.00219, train_loss_2=0.00118, train_loss_3=0.00159] \n",
      "validation: 100%|██████████| 3/3 [00:00<00:00, 21.38it/s, eval_loss_1=0.00238, eval_loss_2=0.00112, eval_loss_3=0.0014]\n"
     ]
    },
    {
     "name": "stdout",
     "output_type": "stream",
     "text": [
      "Evaluation Score 1 : [0.0027680789741377034]\n",
      "Evaluation Score 2 : [0.0013007020655398567]\n",
      "Evaluation Score 3 : [0.0016223795634383957]\n",
      "\n",
      "\n",
      "Epoch 10\n"
     ]
    },
    {
     "name": "stderr",
     "output_type": "stream",
     "text": [
      "training: 100%|██████████| 553/553 [01:23<00:00,  6.63it/s, train_loss_1=0.00171, train_loss_2=0.00073, train_loss_3=0.00131]  \n",
      "validation: 100%|██████████| 3/3 [00:00<00:00, 21.38it/s, eval_loss_1=0.00285, eval_loss_2=0.000914, eval_loss_3=0.00245]\n"
     ]
    },
    {
     "name": "stdout",
     "output_type": "stream",
     "text": [
      "Evaluation Score 1 : [0.002833412028849125]\n",
      "Evaluation Score 2 : [0.0010101563336017232]\n",
      "Evaluation Score 3 : [0.002598400693386793]\n",
      "\n",
      "\n",
      "Epoch 11\n"
     ]
    },
    {
     "name": "stderr",
     "output_type": "stream",
     "text": [
      "training: 100%|██████████| 553/553 [01:23<00:00,  6.63it/s, train_loss_1=0.00128, train_loss_2=0.000607, train_loss_3=0.000698] \n",
      "validation: 100%|██████████| 3/3 [00:00<00:00, 21.33it/s, eval_loss_1=0.00203, eval_loss_2=0.000902, eval_loss_3=0.00108]\n"
     ]
    },
    {
     "name": "stdout",
     "output_type": "stream",
     "text": [
      "Evaluation Score 1 : [0.0021415294613689184]\n",
      "Evaluation Score 2 : [0.0011809844872914255]\n",
      "Evaluation Score 3 : [0.0011722608469426632]\n",
      "\n",
      "\n",
      "Epoch 12\n"
     ]
    },
    {
     "name": "stderr",
     "output_type": "stream",
     "text": [
      "training: 100%|██████████| 553/553 [01:23<00:00,  6.62it/s, train_loss_1=0.000766, train_loss_2=0.000647, train_loss_3=0.000609]\n",
      "validation: 100%|██████████| 3/3 [00:00<00:00, 21.32it/s, eval_loss_1=0.000914, eval_loss_2=0.000712, eval_loss_3=0.000806]\n"
     ]
    },
    {
     "name": "stdout",
     "output_type": "stream",
     "text": [
      "Evaluation Score 1 : [0.0009210573043674231]\n",
      "Evaluation Score 2 : [0.0008526893798261881]\n",
      "Evaluation Score 3 : [0.0009005298488773406]\n",
      "\n",
      "\n",
      "Epoch 13\n"
     ]
    },
    {
     "name": "stderr",
     "output_type": "stream",
     "text": [
      "training: 100%|██████████| 553/553 [01:23<00:00,  6.61it/s, train_loss_1=0.00082, train_loss_2=0.000627, train_loss_3=0.001]    \n",
      "validation: 100%|██████████| 3/3 [00:00<00:00, 21.29it/s, eval_loss_1=0.00103, eval_loss_2=0.000806, eval_loss_3=0.000754]\n"
     ]
    },
    {
     "name": "stdout",
     "output_type": "stream",
     "text": [
      "Evaluation Score 1 : [0.0010928318370133638]\n",
      "Evaluation Score 2 : [0.000922132496877263]\n",
      "Evaluation Score 3 : [0.0008757182901414732]\n",
      "\n",
      "\n",
      "Epoch 14\n"
     ]
    },
    {
     "name": "stderr",
     "output_type": "stream",
     "text": [
      "training: 100%|██████████| 553/553 [01:23<00:00,  6.62it/s, train_loss_1=0.000602, train_loss_2=0.000453, train_loss_3=0.00045] \n",
      "validation: 100%|██████████| 3/3 [00:00<00:00, 21.33it/s, eval_loss_1=0.00125, eval_loss_2=0.000605, eval_loss_3=0.000963]\n"
     ]
    },
    {
     "name": "stdout",
     "output_type": "stream",
     "text": [
      "Evaluation Score 1 : [0.0012836847454309464]\n",
      "Evaluation Score 2 : [0.0006381284135083357]\n",
      "Evaluation Score 3 : [0.0009767323111494381]\n",
      "\n",
      "\n",
      "Epoch 15\n"
     ]
    },
    {
     "name": "stderr",
     "output_type": "stream",
     "text": [
      "training: 100%|██████████| 553/553 [01:23<00:00,  6.62it/s, train_loss_1=0.000874, train_loss_2=0.000475, train_loss_3=0.000651]\n",
      "validation: 100%|██████████| 3/3 [00:00<00:00, 21.33it/s, eval_loss_1=0.000991, eval_loss_2=0.000529, eval_loss_3=0.000953]\n"
     ]
    },
    {
     "name": "stdout",
     "output_type": "stream",
     "text": [
      "Evaluation Score 1 : [0.0008973414466405908]\n",
      "Evaluation Score 2 : [0.0005786087713204324]\n",
      "Evaluation Score 3 : [0.0009516025893390179]\n",
      "\n",
      "\n",
      "Epoch 16\n"
     ]
    },
    {
     "name": "stderr",
     "output_type": "stream",
     "text": [
      "training: 100%|██████████| 553/553 [01:24<00:00,  6.57it/s, train_loss_1=0.00048, train_loss_2=0.000315, train_loss_3=0.000744] \n",
      "validation: 100%|██████████| 3/3 [00:00<00:00, 21.33it/s, eval_loss_1=0.000868, eval_loss_2=0.000748, eval_loss_3=0.00102]\n"
     ]
    },
    {
     "name": "stdout",
     "output_type": "stream",
     "text": [
      "Evaluation Score 1 : [0.0009075490913043419]\n",
      "Evaluation Score 2 : [0.0007577251138476034]\n",
      "Evaluation Score 3 : [0.0012602436666687329]\n",
      "\n",
      "\n",
      "Epoch 17\n"
     ]
    },
    {
     "name": "stderr",
     "output_type": "stream",
     "text": [
      "training: 100%|██████████| 553/553 [01:24<00:00,  6.52it/s, train_loss_1=0.000716, train_loss_2=0.00066, train_loss_3=0.0008]   \n",
      "validation: 100%|██████████| 3/3 [00:00<00:00, 21.33it/s, eval_loss_1=0.000989, eval_loss_2=0.000562, eval_loss_3=0.000816]\n"
     ]
    },
    {
     "name": "stdout",
     "output_type": "stream",
     "text": [
      "Evaluation Score 1 : [0.0010510874562896788]\n",
      "Evaluation Score 2 : [0.0005740303701410691]\n",
      "Evaluation Score 3 : [0.0008739649589794377]\n",
      "\n",
      "\n",
      "Epoch 18\n"
     ]
    },
    {
     "name": "stderr",
     "output_type": "stream",
     "text": [
      "training: 100%|██████████| 553/553 [01:24<00:00,  6.52it/s, train_loss_1=0.000507, train_loss_2=0.000515, train_loss_3=0.000381]\n",
      "validation: 100%|██████████| 3/3 [00:00<00:00, 21.37it/s, eval_loss_1=0.000893, eval_loss_2=0.000527, eval_loss_3=0.000504]\n"
     ]
    },
    {
     "name": "stdout",
     "output_type": "stream",
     "text": [
      "Evaluation Score 1 : [0.0008518601534888148]\n",
      "Evaluation Score 2 : [0.0005666276556439698]\n",
      "Evaluation Score 3 : [0.0005182323705715438]\n",
      "\n",
      "\n",
      "Epoch 19\n"
     ]
    },
    {
     "name": "stderr",
     "output_type": "stream",
     "text": [
      "training: 100%|██████████| 553/553 [01:24<00:00,  6.52it/s, train_loss_1=0.000645, train_loss_2=0.000807, train_loss_3=0.00107] \n",
      "validation: 100%|██████████| 3/3 [00:00<00:00, 21.33it/s, eval_loss_1=0.000916, eval_loss_2=0.000808, eval_loss_3=0.000552]\n"
     ]
    },
    {
     "name": "stdout",
     "output_type": "stream",
     "text": [
      "Evaluation Score 1 : [0.000780185762171944]\n",
      "Evaluation Score 2 : [0.000762822882582744]\n",
      "Evaluation Score 3 : [0.0005709701799787581]\n",
      "\n",
      "\n",
      "Epoch 20\n"
     ]
    },
    {
     "name": "stderr",
     "output_type": "stream",
     "text": [
      "training: 100%|██████████| 553/553 [01:25<00:00,  6.51it/s, train_loss_1=0.000461, train_loss_2=0.000487, train_loss_3=0.00141] \n",
      "validation: 100%|██████████| 3/3 [00:00<00:00, 21.33it/s, eval_loss_1=0.000839, eval_loss_2=0.000457, eval_loss_3=0.00114]\n"
     ]
    },
    {
     "name": "stdout",
     "output_type": "stream",
     "text": [
      "Evaluation Score 1 : [0.0007417263695970178]\n",
      "Evaluation Score 2 : [0.0005349241546355188]\n",
      "Evaluation Score 3 : [0.0012004150388141472]\n",
      "\n",
      "\n",
      "Epoch 21\n"
     ]
    },
    {
     "name": "stderr",
     "output_type": "stream",
     "text": [
      "training: 100%|██████████| 553/553 [01:24<00:00,  6.51it/s, train_loss_1=0.000488, train_loss_2=0.00054, train_loss_3=0.000552] \n",
      "validation: 100%|██████████| 3/3 [00:00<00:00, 21.33it/s, eval_loss_1=0.000913, eval_loss_2=0.0006, eval_loss_3=0.001]\n"
     ]
    },
    {
     "name": "stdout",
     "output_type": "stream",
     "text": [
      "Evaluation Score 1 : [0.0008372408143865565]\n",
      "Evaluation Score 2 : [0.000809572966924558]\n",
      "Evaluation Score 3 : [0.001007118863829722]\n",
      "\n",
      "\n",
      "Epoch 22\n"
     ]
    },
    {
     "name": "stderr",
     "output_type": "stream",
     "text": [
      "training: 100%|██████████| 553/553 [01:24<00:00,  6.52it/s, train_loss_1=0.000757, train_loss_2=0.000413, train_loss_3=0.000474]\n",
      "validation: 100%|██████████| 3/3 [00:00<00:00, 21.34it/s, eval_loss_1=0.00128, eval_loss_2=0.000434, eval_loss_3=0.000463]\n"
     ]
    },
    {
     "name": "stdout",
     "output_type": "stream",
     "text": [
      "Evaluation Score 1 : [0.001242857154769202]\n",
      "Evaluation Score 2 : [0.0004581125588932385]\n",
      "Evaluation Score 3 : [0.0005062024089662979]\n",
      "\n",
      "\n",
      "Epoch 23\n"
     ]
    },
    {
     "name": "stderr",
     "output_type": "stream",
     "text": [
      "training: 100%|██████████| 553/553 [01:24<00:00,  6.52it/s, train_loss_1=0.000306, train_loss_2=0.000358, train_loss_3=0.000551]\n",
      "validation: 100%|██████████| 3/3 [00:00<00:00, 21.33it/s, eval_loss_1=0.000631, eval_loss_2=0.000485, eval_loss_3=0.000501]\n"
     ]
    },
    {
     "name": "stdout",
     "output_type": "stream",
     "text": [
      "Evaluation Score 1 : [0.0005589551098334292]\n",
      "Evaluation Score 2 : [0.0004942071585295101]\n",
      "Evaluation Score 3 : [0.0005550922360271215]\n",
      "\n",
      "\n",
      "Epoch 24\n"
     ]
    },
    {
     "name": "stderr",
     "output_type": "stream",
     "text": [
      "training: 100%|██████████| 553/553 [01:24<00:00,  6.52it/s, train_loss_1=0.000349, train_loss_2=0.000171, train_loss_3=0.000709]\n",
      "validation: 100%|██████████| 3/3 [00:00<00:00, 21.34it/s, eval_loss_1=0.000437, eval_loss_2=0.000318, eval_loss_3=0.00084]\n"
     ]
    },
    {
     "name": "stdout",
     "output_type": "stream",
     "text": [
      "Evaluation Score 1 : [0.00041442599225168425]\n",
      "Evaluation Score 2 : [0.00035026558907702565]\n",
      "Evaluation Score 3 : [0.0009024519628534714]\n",
      "\n",
      "\n",
      "Epoch 25\n"
     ]
    },
    {
     "name": "stderr",
     "output_type": "stream",
     "text": [
      "training: 100%|██████████| 553/553 [01:24<00:00,  6.52it/s, train_loss_1=0.000631, train_loss_2=0.000264, train_loss_3=0.000247]\n",
      "validation: 100%|██████████| 3/3 [00:00<00:00, 21.33it/s, eval_loss_1=0.000934, eval_loss_2=0.000446, eval_loss_3=0.000379]\n"
     ]
    },
    {
     "name": "stdout",
     "output_type": "stream",
     "text": [
      "Evaluation Score 1 : [0.0009426165488548577]\n",
      "Evaluation Score 2 : [0.0004405227567379673]\n",
      "Evaluation Score 3 : [0.00038863098598085344]\n",
      "\n",
      "\n",
      "Epoch 26\n"
     ]
    },
    {
     "name": "stderr",
     "output_type": "stream",
     "text": [
      "training: 100%|██████████| 553/553 [01:24<00:00,  6.51it/s, train_loss_1=0.000327, train_loss_2=0.000205, train_loss_3=0.000475]\n",
      "validation: 100%|██████████| 3/3 [00:00<00:00, 19.20it/s, eval_loss_1=0.000629, eval_loss_2=0.000251, eval_loss_3=0.000534]\n"
     ]
    },
    {
     "name": "stdout",
     "output_type": "stream",
     "text": [
      "Evaluation Score 1 : [0.0005515042381982008]\n",
      "Evaluation Score 2 : [0.0002896889636758715]\n",
      "Evaluation Score 3 : [0.0005714180685269336]\n",
      "\n",
      "\n",
      "Epoch 27\n"
     ]
    },
    {
     "name": "stderr",
     "output_type": "stream",
     "text": [
      "training: 100%|██████████| 553/553 [01:24<00:00,  6.52it/s, train_loss_1=0.000241, train_loss_2=0.000326, train_loss_3=0.000281]\n",
      "validation: 100%|██████████| 3/3 [00:00<00:00, 19.18it/s, eval_loss_1=0.000482, eval_loss_2=0.000305, eval_loss_3=0.000329]\n"
     ]
    },
    {
     "name": "stdout",
     "output_type": "stream",
     "text": [
      "Evaluation Score 1 : [0.0004327075633530815]\n",
      "Evaluation Score 2 : [0.0003155665666175385]\n",
      "Evaluation Score 3 : [0.00036352136521600187]\n",
      "\n",
      "\n",
      "Epoch 28\n"
     ]
    },
    {
     "name": "stderr",
     "output_type": "stream",
     "text": [
      "training: 100%|██████████| 553/553 [01:24<00:00,  6.52it/s, train_loss_1=0.000259, train_loss_2=0.000287, train_loss_3=0.000339]\n",
      "validation: 100%|██████████| 3/3 [00:00<00:00, 21.31it/s, eval_loss_1=0.000452, eval_loss_2=0.000304, eval_loss_3=0.000373]\n"
     ]
    },
    {
     "name": "stdout",
     "output_type": "stream",
     "text": [
      "Evaluation Score 1 : [0.00043188689354186255]\n",
      "Evaluation Score 2 : [0.0003140416811220348]\n",
      "Evaluation Score 3 : [0.0003903225491133829]\n",
      "\n",
      "\n",
      "Epoch 29\n"
     ]
    },
    {
     "name": "stderr",
     "output_type": "stream",
     "text": [
      "training: 100%|██████████| 553/553 [01:24<00:00,  6.51it/s, train_loss_1=0.000218, train_loss_2=0.000294, train_loss_3=0.000261]\n",
      "validation: 100%|██████████| 3/3 [00:00<00:00, 19.20it/s, eval_loss_1=0.000336, eval_loss_2=0.000363, eval_loss_3=0.000371]\n"
     ]
    },
    {
     "name": "stdout",
     "output_type": "stream",
     "text": [
      "Evaluation Score 1 : [0.0003304523415863514]\n",
      "Evaluation Score 2 : [0.0004009687788008402]\n",
      "Evaluation Score 3 : [0.0003948937519453466]\n",
      "\n",
      "\n",
      "Epoch 30\n"
     ]
    },
    {
     "name": "stderr",
     "output_type": "stream",
     "text": [
      "training: 100%|██████████| 553/553 [01:24<00:00,  6.53it/s, train_loss_1=0.000794, train_loss_2=0.00253, train_loss_3=0.000649] \n",
      "validation: 100%|██████████| 3/3 [00:00<00:00, 21.33it/s, eval_loss_1=0.00139, eval_loss_2=0.00326, eval_loss_3=0.000782]\n"
     ]
    },
    {
     "name": "stdout",
     "output_type": "stream",
     "text": [
      "Evaluation Score 1 : [0.0012113275782515605]\n",
      "Evaluation Score 2 : [0.0033396336560448012]\n",
      "Evaluation Score 3 : [0.0006816832077068588]\n",
      "\n",
      "\n",
      "Epoch 31\n"
     ]
    },
    {
     "name": "stderr",
     "output_type": "stream",
     "text": [
      "training: 100%|██████████| 553/553 [01:24<00:00,  6.51it/s, train_loss_1=0.000669, train_loss_2=0.000301, train_loss_3=0.000505]\n",
      "validation: 100%|██████████| 3/3 [00:00<00:00, 21.31it/s, eval_loss_1=0.00111, eval_loss_2=0.000283, eval_loss_3=0.000413]\n"
     ]
    },
    {
     "name": "stdout",
     "output_type": "stream",
     "text": [
      "Evaluation Score 1 : [0.0010530826014777024]\n",
      "Evaluation Score 2 : [0.0002966988637732963]\n",
      "Evaluation Score 3 : [0.0004515910695772618]\n",
      "\n",
      "\n",
      "Epoch 32\n"
     ]
    },
    {
     "name": "stderr",
     "output_type": "stream",
     "text": [
      "training: 100%|██████████| 553/553 [01:25<00:00,  6.50it/s, train_loss_1=0.000443, train_loss_2=0.000188, train_loss_3=0.000187]\n",
      "validation: 100%|██████████| 3/3 [00:00<00:00, 21.33it/s, eval_loss_1=0.000672, eval_loss_2=0.000295, eval_loss_3=0.000246]\n"
     ]
    },
    {
     "name": "stdout",
     "output_type": "stream",
     "text": [
      "Evaluation Score 1 : [0.0006028557545505464]\n",
      "Evaluation Score 2 : [0.0003002851056711127]\n",
      "Evaluation Score 3 : [0.0002565235287571947]\n",
      "\n",
      "\n",
      "Individual model stopped training early at epoch 31\n",
      "Epoch 33\n"
     ]
    },
    {
     "name": "stderr",
     "output_type": "stream",
     "text": [
      "training: 100%|██████████| 553/553 [01:23<00:00,  6.61it/s, train_loss_1=0.000534, train_loss_2=0.000368, train_loss_3=0.000749]\n",
      "validation: 100%|██████████| 3/3 [00:00<00:00, 21.30it/s, eval_loss_1=0.000679, eval_loss_2=0.000233, eval_loss_3=0.000503]\n"
     ]
    },
    {
     "name": "stdout",
     "output_type": "stream",
     "text": [
      "Evaluation Score 1 : [0.0005817842902615666]\n",
      "Evaluation Score 2 : [0.00022990008680305132]\n",
      "Evaluation Score 3 : [0.0005023945413995534]\n",
      "\n",
      "\n",
      "Epoch 34\n"
     ]
    },
    {
     "name": "stderr",
     "output_type": "stream",
     "text": [
      "training: 100%|██████████| 553/553 [01:23<00:00,  6.62it/s, train_loss_1=0.00032, train_loss_2=0.000306, train_loss_3=0.00023]  \n",
      "validation: 100%|██████████| 3/3 [00:00<00:00, 21.33it/s, eval_loss_1=0.000295, eval_loss_2=0.000493, eval_loss_3=0.000256]\n"
     ]
    },
    {
     "name": "stdout",
     "output_type": "stream",
     "text": [
      "Evaluation Score 1 : [0.0002731232380028814]\n",
      "Evaluation Score 2 : [0.0004347661354889472]\n",
      "Evaluation Score 3 : [0.0002621750463731587]\n",
      "\n",
      "\n",
      "Epoch 35\n"
     ]
    },
    {
     "name": "stderr",
     "output_type": "stream",
     "text": [
      "training: 100%|██████████| 553/553 [01:23<00:00,  6.66it/s, train_loss_1=0.000284, train_loss_2=0.00017, train_loss_3=0.000414] \n",
      "validation: 100%|██████████| 3/3 [00:00<00:00, 21.33it/s, eval_loss_1=0.000289, eval_loss_2=0.000245, eval_loss_3=0.000404]\n"
     ]
    },
    {
     "name": "stdout",
     "output_type": "stream",
     "text": [
      "Evaluation Score 1 : [0.00031431113408568007]\n",
      "Evaluation Score 2 : [0.00023985056517024836]\n",
      "Evaluation Score 3 : [0.00039165938505902886]\n",
      "\n",
      "\n",
      "Epoch 36\n"
     ]
    },
    {
     "name": "stderr",
     "output_type": "stream",
     "text": [
      "training: 100%|██████████| 553/553 [01:23<00:00,  6.66it/s, train_loss_1=0.000192, train_loss_2=0.000168, train_loss_3=0.000484]\n",
      "validation: 100%|██████████| 3/3 [00:00<00:00, 21.33it/s, eval_loss_1=0.000271, eval_loss_2=0.000213, eval_loss_3=0.000492]\n"
     ]
    },
    {
     "name": "stdout",
     "output_type": "stream",
     "text": [
      "Evaluation Score 1 : [0.0002887939238765587]\n",
      "Evaluation Score 2 : [0.0002256516988078753]\n",
      "Evaluation Score 3 : [0.0005439714295789599]\n",
      "\n",
      "\n",
      "Epoch 37\n"
     ]
    },
    {
     "name": "stderr",
     "output_type": "stream",
     "text": [
      "training: 100%|██████████| 553/553 [01:23<00:00,  6.66it/s, train_loss_1=0.000481, train_loss_2=0.000247, train_loss_3=0.00047] \n",
      "validation: 100%|██████████| 3/3 [00:00<00:00, 21.33it/s, eval_loss_1=0.000583, eval_loss_2=0.000295, eval_loss_3=0.000724]\n"
     ]
    },
    {
     "name": "stdout",
     "output_type": "stream",
     "text": [
      "Evaluation Score 1 : [0.0006142568308860064]\n",
      "Evaluation Score 2 : [0.0002897162630688399]\n",
      "Evaluation Score 3 : [0.0007064472883939743]\n",
      "\n",
      "\n",
      "Epoch 38\n"
     ]
    },
    {
     "name": "stderr",
     "output_type": "stream",
     "text": [
      "training: 100%|██████████| 553/553 [01:23<00:00,  6.66it/s, train_loss_1=0.00029, train_loss_2=0.000229, train_loss_3=0.000409] \n",
      "validation: 100%|██████████| 3/3 [00:00<00:00, 21.29it/s, eval_loss_1=0.000371, eval_loss_2=0.000271, eval_loss_3=0.000408]\n"
     ]
    },
    {
     "name": "stdout",
     "output_type": "stream",
     "text": [
      "Evaluation Score 1 : [0.0004113588947802782]\n",
      "Evaluation Score 2 : [0.00028140193414098275]\n",
      "Evaluation Score 3 : [0.00043795120048647124]\n",
      "\n",
      "\n",
      "Individual model stopped training early at epoch 37\n",
      "Epoch 39\n"
     ]
    },
    {
     "name": "stderr",
     "output_type": "stream",
     "text": [
      "training: 100%|██████████| 553/553 [01:22<00:00,  6.67it/s, train_loss_1=0.000331, train_loss_2=0.000304, train_loss_3=0.000438]\n",
      "validation: 100%|██████████| 3/3 [00:00<00:00, 21.33it/s, eval_loss_1=0.000197, eval_loss_2=0.000167, eval_loss_3=0.000203]\n"
     ]
    },
    {
     "name": "stdout",
     "output_type": "stream",
     "text": [
      "Evaluation Score 1 : [0.00021071877078308413]\n",
      "Evaluation Score 2 : [0.00017377200614040098]\n",
      "Evaluation Score 3 : [0.00021466660352113345]\n",
      "\n",
      "\n",
      "Epoch 40\n"
     ]
    },
    {
     "name": "stderr",
     "output_type": "stream",
     "text": [
      "training: 100%|██████████| 553/553 [01:22<00:00,  6.67it/s, train_loss_1=0.000395, train_loss_2=0.000369, train_loss_3=0.000712]\n",
      "validation: 100%|██████████| 3/3 [00:00<00:00, 23.99it/s, eval_loss_1=0.000214, eval_loss_2=0.000197, eval_loss_3=0.000436]\n"
     ]
    },
    {
     "name": "stdout",
     "output_type": "stream",
     "text": [
      "Evaluation Score 1 : [0.00022559883655048907]\n",
      "Evaluation Score 2 : [0.00019518565386533737]\n",
      "Evaluation Score 3 : [0.0004948443286896994]\n",
      "\n",
      "\n",
      "Epoch 41\n"
     ]
    },
    {
     "name": "stderr",
     "output_type": "stream",
     "text": [
      "training: 100%|██████████| 553/553 [01:23<00:00,  6.66it/s, train_loss_1=0.000171, train_loss_2=0.00019, train_loss_3=0.000153] \n",
      "validation: 100%|██████████| 3/3 [00:00<00:00, 21.33it/s, eval_loss_1=0.000408, eval_loss_2=0.000231, eval_loss_3=0.000206]\n"
     ]
    },
    {
     "name": "stdout",
     "output_type": "stream",
     "text": [
      "Evaluation Score 1 : [0.0004343158022190134]\n",
      "Evaluation Score 2 : [0.0002430519040596361]\n",
      "Evaluation Score 3 : [0.00021411153041602424]\n",
      "\n",
      "\n",
      "Epoch 42\n"
     ]
    },
    {
     "name": "stderr",
     "output_type": "stream",
     "text": [
      "training: 100%|██████████| 553/553 [01:23<00:00,  6.66it/s, train_loss_1=0.000149, train_loss_2=0.000145, train_loss_3=0.000388]\n",
      "validation: 100%|██████████| 3/3 [00:00<00:00, 21.32it/s, eval_loss_1=0.00023, eval_loss_2=0.000216, eval_loss_3=0.00034]\n"
     ]
    },
    {
     "name": "stdout",
     "output_type": "stream",
     "text": [
      "Evaluation Score 1 : [0.00023254017772463462]\n",
      "Evaluation Score 2 : [0.00021130819125877073]\n",
      "Evaluation Score 3 : [0.0003823240307004501]\n",
      "\n",
      "\n",
      "Epoch 43\n"
     ]
    },
    {
     "name": "stderr",
     "output_type": "stream",
     "text": [
      "training: 100%|██████████| 553/553 [01:22<00:00,  6.67it/s, train_loss_1=0.000164, train_loss_2=0.000242, train_loss_3=0.000712]\n",
      "validation: 100%|██████████| 3/3 [00:00<00:00, 21.33it/s, eval_loss_1=0.0002, eval_loss_2=0.000326, eval_loss_3=0.000591]\n"
     ]
    },
    {
     "name": "stdout",
     "output_type": "stream",
     "text": [
      "Evaluation Score 1 : [0.00023061783576849848]\n",
      "Evaluation Score 2 : [0.0003196025015010188]\n",
      "Evaluation Score 3 : [0.0006903224275447428]\n",
      "\n",
      "\n",
      "Epoch 44\n"
     ]
    },
    {
     "name": "stderr",
     "output_type": "stream",
     "text": [
      "training: 100%|██████████| 553/553 [01:22<00:00,  6.68it/s, train_loss_1=0.000156, train_loss_2=0.000614, train_loss_3=0.000741]\n",
      "validation: 100%|██████████| 3/3 [00:00<00:00, 21.98it/s, eval_loss_1=0.000226, eval_loss_2=0.000405, eval_loss_3=0.000618]\n"
     ]
    },
    {
     "name": "stdout",
     "output_type": "stream",
     "text": [
      "Evaluation Score 1 : [0.0002587313065305352]\n",
      "Evaluation Score 2 : [0.0005814868491142988]\n",
      "Evaluation Score 3 : [0.0007620152512875696]\n",
      "\n",
      "\n",
      "Epoch 45\n"
     ]
    },
    {
     "name": "stderr",
     "output_type": "stream",
     "text": [
      "training: 100%|██████████| 553/553 [01:22<00:00,  6.68it/s, train_loss_1=0.000182, train_loss_2=0.000137, train_loss_3=0.000133]\n",
      "validation: 100%|██████████| 3/3 [00:00<00:00, 21.27it/s, eval_loss_1=0.000283, eval_loss_2=0.000235, eval_loss_3=0.000142]\n"
     ]
    },
    {
     "name": "stdout",
     "output_type": "stream",
     "text": [
      "Evaluation Score 1 : [0.0002878918991579364]\n",
      "Evaluation Score 2 : [0.00023624485280985633]\n",
      "Evaluation Score 3 : [0.0001590656659876307]\n",
      "\n",
      "\n",
      "Individual model stopped training early at epoch 44\n",
      "Individual model stopped training early at epoch 44\n",
      "Entire zonal model training stopped early at epoch: 44\n",
      "\n",
      "Total time of training: 1.1089053005642362 hours\n"
     ]
    }
   ],
   "source": [
    "start_time = time.time()\n",
    "\n",
    "# Train the VAE model\n",
    "for epoch in range(200):\n",
    "    print('Epoch', epoch + 1)\n",
    "\n",
    "    train_losses, \\\n",
    "    trained_model_1, \\\n",
    "    trained_model_2, \\\n",
    "    trained_model_3 = train(vae_lstm_1, vae_lstm_2, vae_lstm_3, optimizer=opt, train_loader=train_dataloader)\n",
    "\n",
    "    valid_losses = valid_or_test(trained_model_1, trained_model_2, trained_model_3,\n",
    "                  data_loader=valid_dataloader, mode=\"valid\")\n",
    "\n",
    "    # For model 1\n",
    "    if valid_losses[0] < lowest_loss_1:\n",
    "        lowest_loss_1 = valid_losses[0]\n",
    "        lowest_loss_epoch_1 = epoch\n",
    "        save_checkpoint(trained_model_1, os.path.join(os.getcwd(), \"vae_checkpoint\", \"vae_best_model_1.pth\"))\n",
    "\n",
    "    elif epoch - lowest_loss_epoch_1 > early_stop_patience:\n",
    "        print(\"Individual model stopped training early at epoch {}\".format(epoch))\n",
    "        model_train_flag_1 = True\n",
    "\n",
    "    # For model 2\n",
    "    if valid_losses[1] < lowest_loss_2:\n",
    "        lowest_loss_2 = valid_losses[1]\n",
    "        lowest_loss_epoch_2 = epoch\n",
    "        save_checkpoint(trained_model_2, os.path.join(os.getcwd(), \"vae_checkpoint\", \"vae_best_model_2.pth\"))\n",
    "\n",
    "    elif epoch - lowest_loss_epoch_2 > early_stop_patience:\n",
    "        print(\"Individual model stopped training early at epoch {}\".format(epoch))\n",
    "        model_train_flag_2 = True\n",
    "\n",
    "    # For model 3\n",
    "    if valid_losses[2] < lowest_loss_3:\n",
    "        lowest_loss_3 = valid_losses[2]\n",
    "        lowest_loss_epoch_3 = epoch\n",
    "        save_checkpoint(trained_model_3, os.path.join(os.getcwd(), \"vae_checkpoint\", \"vae_best_model_3.pth\"))\n",
    "\n",
    "    elif epoch - lowest_loss_epoch_3 > early_stop_patience:\n",
    "        print(\"Individual model stopped training early at epoch {}\".format(epoch))\n",
    "        model_train_flag_3 = True\n",
    "\n",
    "\n",
    "    if all((model_train_flag_1, model_train_flag_2, model_train_flag_3)):\n",
    "        print(\"Entire zonal model training stopped early at epoch: {}\".format(epoch))\n",
    "        break\n",
    "\n",
    "end_time = time.time()\n",
    "\n",
    "total_time = end_time - start_time\n",
    "print(\"\\nTotal time of training: {} hours\".format(total_time/3600))"
   ],
   "metadata": {
    "collapsed": false
   }
  },
  {
   "cell_type": "markdown",
   "source": [
    "#### LOADING AND GENERATING RESULTS ON TEST DATALOADER"
   ],
   "metadata": {
    "collapsed": false
   }
  },
  {
   "cell_type": "code",
   "execution_count": 43,
   "outputs": [],
   "source": [
    "# Loading the models\n",
    "best_vae_lstm_model_1 = load_from_checkpoint(trained_model_1, os.path.join(os.getcwd(), \"vae_checkpoint\", \"vae_best_model_1.pth\"))\n",
    "best_vae_lstm_model_2 = load_from_checkpoint(trained_model_2, os.path.join(os.getcwd(), \"vae_checkpoint\", \"vae_best_model_2.pth\"))\n",
    "best_vae_lstm_model_3 = load_from_checkpoint(trained_model_3, os.path.join(os.getcwd(), \"vae_checkpoint\", \"vae_best_model_3.pth\"))"
   ],
   "metadata": {
    "collapsed": false
   }
  },
  {
   "cell_type": "code",
   "execution_count": 44,
   "outputs": [
    {
     "name": "stderr",
     "output_type": "stream",
     "text": [
      "testing: 100%|██████████| 3/3 [00:00<00:00, 10.67it/s, eval_loss_1=0.000236, eval_loss_2=0.000209, eval_loss_3=0.000212]"
     ]
    },
    {
     "name": "stdout",
     "output_type": "stream",
     "text": [
      "Evaluation Score 1 : [0.00024077908407586315]\n",
      "Evaluation Score 2 : [0.0002222133189206943]\n",
      "Evaluation Score 3 : [0.00018926846678368747]\n",
      "\n",
      "\n"
     ]
    },
    {
     "name": "stderr",
     "output_type": "stream",
     "text": [
      "\n"
     ]
    }
   ],
   "source": [
    "# Testing using the test dataloader\n",
    "orig_1, pred_1, \\\n",
    "orig_2, pred_2, \\\n",
    "orig_3, pred_3  = valid_or_test(best_vae_lstm_model_1,\n",
    "                                best_vae_lstm_model_2,\n",
    "                                best_vae_lstm_model_3, data_loader=test_dataloader, mode=\"test\")"
   ],
   "metadata": {
    "collapsed": false
   }
  },
  {
   "cell_type": "code",
   "execution_count": 45,
   "outputs": [],
   "source": [
    "orig = pd.DataFrame(orig_1)\n",
    "pred = pd.DataFrame(pred_1)"
   ],
   "metadata": {
    "collapsed": false
   }
  },
  {
   "cell_type": "code",
   "execution_count": 46,
   "outputs": [
    {
     "data": {
      "text/plain": "<AxesSubplot: >"
     },
     "execution_count": 46,
     "metadata": {},
     "output_type": "execute_result"
    },
    {
     "data": {
      "text/plain": "<Figure size 640x480 with 1 Axes>",
      "image/png": "[encoded data removed]"
     },
     "metadata": {},
     "output_type": "display_data"
    }
   ],
   "source": [
    "pd.concat((orig.iloc[:, 0], pred.iloc[:, 0]), axis=1).plot()"
   ],
   "metadata": {
    "collapsed": false
   }
  },
  {
   "cell_type": "code",
   "execution_count": 47,
   "outputs": [
    {
     "data": {
      "text/plain": "<AxesSubplot: >"
     },
     "execution_count": 47,
     "metadata": {},
     "output_type": "execute_result"
    },
    {
     "data": {
      "text/plain": "<Figure size 640x480 with 1 Axes>",
      "image/png": "[encoded data removed]"
     },
     "metadata": {},
     "output_type": "display_data"
    }
   ],
   "source": [
    "pd.concat((orig.iloc[:, 1], pred.iloc[:, 1]), axis=1).plot()"
   ],
   "metadata": {
    "collapsed": false
   }
  },
  {
   "cell_type": "code",
   "execution_count": 48,
   "outputs": [
    {
     "data": {
      "text/plain": "<AxesSubplot: >"
     },
     "execution_count": 48,
     "metadata": {},
     "output_type": "execute_result"
    },
    {
     "data": {
      "text/plain": "<Figure size 640x480 with 1 Axes>",
      "image/png": "[encoded data removed]"
     },
     "metadata": {},
     "output_type": "display_data"
    }
   ],
   "source": [
    "pd.concat((orig.iloc[:, 2], pred.iloc[:, 2]), axis=1).plot()"
   ],
   "metadata": {
    "collapsed": false
   }
  },
  {
   "cell_type": "code",
   "execution_count": 49,
   "outputs": [
    {
     "data": {
      "text/plain": "0.6914099678397179"
     },
     "execution_count": 49,
     "metadata": {},
     "output_type": "execute_result"
    }
   ],
   "source": [
    "mape(orig.iloc[:, 0], pred.iloc[:, 0])"
   ],
   "metadata": {
    "collapsed": false
   }
  },
  {
   "cell_type": "code",
   "execution_count": 50,
   "outputs": [
    {
     "data": {
      "text/plain": "1.1034228838980198"
     },
     "execution_count": 50,
     "metadata": {},
     "output_type": "execute_result"
    }
   ],
   "source": [
    "mape(orig.iloc[:, 1], pred.iloc[:, 1])"
   ],
   "metadata": {
    "collapsed": false
   }
  },
  {
   "cell_type": "code",
   "execution_count": 51,
   "outputs": [
    {
     "data": {
      "text/plain": "1.3189864344894886"
     },
     "execution_count": 51,
     "metadata": {},
     "output_type": "execute_result"
    }
   ],
   "source": [
    "mape(orig.iloc[:, 2], pred.iloc[:, 2])"
   ],
   "metadata": {
    "collapsed": false
   }
  },
  {
   "cell_type": "code",
   "execution_count": 52,
   "outputs": [
    {
     "name": "stdout",
     "output_type": "stream",
     "text": [
      "Saving the best trained models.\n",
      "Saved !\n"
     ]
    }
   ],
   "source": [
    "print(\"Saving the best trained models.\")\n",
    "\n",
    "# Saving the models\n",
    "torch.save(best_vae_lstm_model_1, f\"vae_models/L1_best_zone_1.pth\")\n",
    "torch.save(best_vae_lstm_model_2, f\"vae_models/L1_best_zone_2.pth\")\n",
    "torch.save(best_vae_lstm_model_3, f\"vae_models/L1_best_zone_3.pth\")\n",
    "\n",
    "print(\"Saved !\")"
   ],
   "metadata": {
    "collapsed": false
   }
  },
  {
   "cell_type": "code",
   "execution_count": null,
   "outputs": [],
   "source": [
    "import IPython\n",
    "app = IPython.Application.instance()\n",
    "app.kernel.do_shutdown(True)"
   ],
   "metadata": {
    "collapsed": false
   }
  }
 ],
 "metadata": {
  "kernelspec": {
   "display_name": "Python 3",
   "language": "python",
   "name": "python3"
  },
  "language_info": {
   "codemirror_mode": {
    "name": "ipython",
    "version": 2
   },
   "file_extension": ".py",
   "mimetype": "text/x-python",
   "name": "python",
   "nbconvert_exporter": "python",
   "pygments_lexer": "ipython2",
   "version": "2.7.6"
  }
 },
 "nbformat": 4,
 "nbformat_minor": 0
}
