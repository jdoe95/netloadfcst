{
 "cells": [
  {
   "cell_type": "code",
   "execution_count": 1,
   "outputs": [
    {
     "name": "stdout",
     "output_type": "stream",
     "text": [
      "Using device cuda:0\n"
     ]
    }
   ],
   "source": [
    "# Importing the required libraries\n",
    "from IPython.display import display\n",
    "import os\n",
    "import numpy as np\n",
    "import pandas as pd\n",
    "from matplotlib import pyplot as plt\n",
    "from tqdm import tqdm\n",
    "from sklearn.preprocessing import MinMaxScaler, OneHotEncoder\n",
    "import time\n",
    "import easydict\n",
    "\n",
    "import torch\n",
    "import torch.nn as nn\n",
    "from torch.utils.tensorboard import SummaryWriter\n",
    "from tqdm import tqdm\n",
    "from torch.utils.data import DataLoader, Dataset\n",
    "\n",
    "from vae_lstm_model import VAE_LSTM\n",
    "\n",
    "# Training device check-up\n",
    "device = torch.device(\"cuda:0\" if torch.cuda.is_available() else \"cpu\")\n",
    "print(f\"Using device {device}\")\n",
    "\n",
    "writer = SummaryWriter()\n",
    "\n",
    "# Defining DOE custom mape formula\n",
    "def mape(y_true, y_pred):\n",
    "    y_true, y_pred = np.array(y_true), np.array(y_pred)\n",
    "    return np.mean(np.abs((y_true - y_pred) / max(y_true))) * 100"
   ],
   "metadata": {
    "collapsed": false
   }
  },
  {
   "cell_type": "markdown",
   "source": [
    "#### FETCHING AND PROCESSING CALENDER FEATURES"
   ],
   "metadata": {
    "collapsed": false
   }
  },
  {
   "cell_type": "code",
   "execution_count": 2,
   "outputs": [],
   "source": [
    "# Specifying the path of file\n",
    "path= r\"C:\\Users\\sashah8\\OneDrive - North Carolina State University\\Desktop\\DOE\\DOE_Q1\\L3\\data_cleaned\""
   ],
   "metadata": {
    "collapsed": false
   }
  },
  {
   "cell_type": "code",
   "execution_count": 3,
   "outputs": [
    {
     "name": "stdout",
     "output_type": "stream",
     "text": [
      "Sample dataframe: \n"
     ]
    },
    {
     "data": {
      "text/plain": "   Month  Day  Weekday  Hour\n0      1    1        1     0\n1      1    1        1     1",
      "text/html": "<div>\n<style scoped>\n    .dataframe tbody tr th:only-of-type {\n        vertical-align: middle;\n    }\n\n    .dataframe tbody tr th {\n        vertical-align: top;\n    }\n\n    .dataframe thead th {\n        text-align: right;\n    }\n</style>\n<table border=\"1\" class=\"dataframe\">\n  <thead>\n    <tr style=\"text-align: right;\">\n      <th></th>\n      <th>Month</th>\n      <th>Day</th>\n      <th>Weekday</th>\n      <th>Hour</th>\n    </tr>\n  </thead>\n  <tbody>\n    <tr>\n      <th>0</th>\n      <td>1</td>\n      <td>1</td>\n      <td>1</td>\n      <td>0</td>\n    </tr>\n    <tr>\n      <th>1</th>\n      <td>1</td>\n      <td>1</td>\n      <td>1</td>\n      <td>1</td>\n    </tr>\n  </tbody>\n</table>\n</div>"
     },
     "metadata": {},
     "output_type": "display_data"
    },
    {
     "name": "stdout",
     "output_type": "stream",
     "text": [
      "Available unique categories: \n"
     ]
    },
    {
     "data": {
      "text/plain": "Month      12\nDay        31\nWeekday     2\nHour       24\ndtype: int64"
     },
     "metadata": {},
     "output_type": "display_data"
    }
   ],
   "source": [
    "# Just for previewing the column name\n",
    "date = pd.read_csv(os.path.join(path, \"Date.csv\"))\n",
    "print(\"Sample dataframe: \")\n",
    "display(date.head(2))\n",
    "print(\"Available unique categories: \")\n",
    "display(date.nunique())"
   ],
   "metadata": {
    "collapsed": false
   }
  },
  {
   "cell_type": "code",
   "execution_count": 4,
   "outputs": [
    {
     "data": {
      "text/plain": "array([[1., 0., 0., ..., 0., 0., 0.],\n       [1., 0., 0., ..., 0., 0., 0.],\n       [1., 0., 0., ..., 0., 0., 0.],\n       ...,\n       [0., 0., 0., ..., 1., 0., 0.],\n       [0., 0., 0., ..., 0., 1., 0.],\n       [0., 0., 0., ..., 0., 0., 1.]])"
     },
     "execution_count": 4,
     "metadata": {},
     "output_type": "execute_result"
    }
   ],
   "source": [
    "# One-hot encoding the categorical calendar features\n",
    "date_enc = OneHotEncoder(sparse_output=False)\n",
    "categorical_data = date_enc.fit_transform(date)\n",
    "categorical_data"
   ],
   "metadata": {
    "collapsed": false
   }
  },
  {
   "cell_type": "code",
   "execution_count": 5,
   "outputs": [
    {
     "data": {
      "text/plain": "[12, 31, 2, 24]"
     },
     "execution_count": 5,
     "metadata": {},
     "output_type": "execute_result"
    }
   ],
   "source": [
    "category_count = [len(x_len) for x_len in date_enc.categories_]\n",
    "category_count"
   ],
   "metadata": {
    "collapsed": false
   }
  },
  {
   "cell_type": "markdown",
   "source": [
    "#### PROCESSING CONTINUOUS FEATURES FOR ALL AVAILABLE ZONES"
   ],
   "metadata": {
    "collapsed": false
   }
  },
  {
   "cell_type": "markdown",
   "source": [
    "PROCESSING LOAD DATA"
   ],
   "metadata": {
    "collapsed": false
   }
  },
  {
   "cell_type": "code",
   "execution_count": 6,
   "outputs": [
    {
     "name": "stdout",
     "output_type": "stream",
     "text": [
      "['L3-AT.csv', 'L3-BE.csv', 'L3-BG.csv', 'L3-CH.csv', 'L3-CZ.csv', 'L3-DK.csv', 'L3-ES.csv', 'L3-FR.csv', 'L3-GR.csv', 'L3-IT.csv', 'L3-NL.csv', 'L3-PT.csv', 'L3-SI.csv', 'L3-SK.csv']\n"
     ]
    }
   ],
   "source": [
    "# Listing just the required files\n",
    "fileList = os.listdir(path)\n",
    "fileList.remove(\"Date.csv\")\n",
    "\n",
    "# Previewing the required file names\n",
    "print(fileList)"
   ],
   "metadata": {
    "collapsed": false
   }
  },
  {
   "cell_type": "code",
   "execution_count": 7,
   "outputs": [
    {
     "data": {
      "text/plain": "                   utc    mw   tmpc\n0  2015-01-01 00:00:00  5946 -6.503\n1  2015-01-01 01:00:00  5726 -6.458",
      "text/html": "<div>\n<style scoped>\n    .dataframe tbody tr th:only-of-type {\n        vertical-align: middle;\n    }\n\n    .dataframe tbody tr th {\n        vertical-align: top;\n    }\n\n    .dataframe thead th {\n        text-align: right;\n    }\n</style>\n<table border=\"1\" class=\"dataframe\">\n  <thead>\n    <tr style=\"text-align: right;\">\n      <th></th>\n      <th>utc</th>\n      <th>mw</th>\n      <th>tmpc</th>\n    </tr>\n  </thead>\n  <tbody>\n    <tr>\n      <th>0</th>\n      <td>2015-01-01 00:00:00</td>\n      <td>5946</td>\n      <td>-6.503</td>\n    </tr>\n    <tr>\n      <th>1</th>\n      <td>2015-01-01 01:00:00</td>\n      <td>5726</td>\n      <td>-6.458</td>\n    </tr>\n  </tbody>\n</table>\n</div>"
     },
     "execution_count": 7,
     "metadata": {},
     "output_type": "execute_result"
    }
   ],
   "source": [
    "# Just for previewing the column name\n",
    "pd.read_csv(os.path.join(path, fileList[0])).head(2)"
   ],
   "metadata": {
    "collapsed": false
   }
  },
  {
   "cell_type": "code",
   "execution_count": 8,
   "outputs": [
    {
     "data": {
      "text/plain": "       L3-AT_LOAD  L3-BE_LOAD  L3-BG_LOAD  L3-CH_LOAD  L3-CZ_LOAD  L3-DK_LOAD  \\\n43822        6206        9392      4410.0     6451.50     5822.73     3309.25   \n43823        5967        9069      4243.0     6891.33     5611.71     3315.91   \n\n       L3-ES_LOAD  L3-FR_LOAD  L3-GR_LOAD  L3-IT_LOAD  L3-NL_LOAD  L3-PT_LOAD  \\\n43822     23911.0     65865.0     5657.63     23876.0       11418      5484.7   \n43823     22963.0     64677.0     5337.38     22510.0       11215      5243.8   \n\n       L3-SI_LOAD  L3-SK_LOAD  \n43822     1134.03      2980.0  \n43823     1086.73      2814.0  ",
      "text/html": "<div>\n<style scoped>\n    .dataframe tbody tr th:only-of-type {\n        vertical-align: middle;\n    }\n\n    .dataframe tbody tr th {\n        vertical-align: top;\n    }\n\n    .dataframe thead th {\n        text-align: right;\n    }\n</style>\n<table border=\"1\" class=\"dataframe\">\n  <thead>\n    <tr style=\"text-align: right;\">\n      <th></th>\n      <th>L3-AT_LOAD</th>\n      <th>L3-BE_LOAD</th>\n      <th>L3-BG_LOAD</th>\n      <th>L3-CH_LOAD</th>\n      <th>L3-CZ_LOAD</th>\n      <th>L3-DK_LOAD</th>\n      <th>L3-ES_LOAD</th>\n      <th>L3-FR_LOAD</th>\n      <th>L3-GR_LOAD</th>\n      <th>L3-IT_LOAD</th>\n      <th>L3-NL_LOAD</th>\n      <th>L3-PT_LOAD</th>\n      <th>L3-SI_LOAD</th>\n      <th>L3-SK_LOAD</th>\n    </tr>\n  </thead>\n  <tbody>\n    <tr>\n      <th>43822</th>\n      <td>6206</td>\n      <td>9392</td>\n      <td>4410.0</td>\n      <td>6451.50</td>\n      <td>5822.73</td>\n      <td>3309.25</td>\n      <td>23911.0</td>\n      <td>65865.0</td>\n      <td>5657.63</td>\n      <td>23876.0</td>\n      <td>11418</td>\n      <td>5484.7</td>\n      <td>1134.03</td>\n      <td>2980.0</td>\n    </tr>\n    <tr>\n      <th>43823</th>\n      <td>5967</td>\n      <td>9069</td>\n      <td>4243.0</td>\n      <td>6891.33</td>\n      <td>5611.71</td>\n      <td>3315.91</td>\n      <td>22963.0</td>\n      <td>64677.0</td>\n      <td>5337.38</td>\n      <td>22510.0</td>\n      <td>11215</td>\n      <td>5243.8</td>\n      <td>1086.73</td>\n      <td>2814.0</td>\n    </tr>\n  </tbody>\n</table>\n</div>"
     },
     "execution_count": 8,
     "metadata": {},
     "output_type": "execute_result"
    }
   ],
   "source": [
    "# Fetching and concatenating the data\n",
    "load_ds = pd.concat([pd.read_csv(os.path.join(path, fileName), usecols= [\"mw\"]) for fileName in fileList], axis= 1)\n",
    "load_ds.columns = [i.removesuffix('.csv') for i in fileList]\n",
    "load_ds = load_ds.add_suffix(\"_LOAD\")\n",
    "load_ds.tail(2)"
   ],
   "metadata": {
    "collapsed": false
   }
  },
  {
   "cell_type": "code",
   "execution_count": 9,
   "outputs": [
    {
     "data": {
      "text/plain": "       L3-AT_LOAD_LAG1  L3-BE_LOAD_LAG1  L3-BG_LOAD_LAG1  L3-CH_LOAD_LAG1  \\\n43822           6602.0           8991.0           4520.0          6460.92   \n43823           6340.0           8598.0           4257.0          6562.41   \n\n       L3-CZ_LOAD_LAG1  L3-DK_LOAD_LAG1  L3-ES_LOAD_LAG1  L3-FR_LOAD_LAG1  \\\n43822          6416.28          3558.11          25629.0          65287.0   \n43823          6123.94          3426.94          23245.0          63016.0   \n\n       L3-GR_LOAD_LAG1  L3-IT_LOAD_LAG1  L3-NL_LOAD_LAG1  L3-PT_LOAD_LAG1  \\\n43822          5327.10          23499.0          11708.0           5857.5   \n43823          4840.37          21429.0          11172.0           5406.3   \n\n       L3-SI_LOAD_LAG1  L3-SK_LOAD_LAG1  \n43822          1156.82           2963.0  \n43823          1097.50           2941.0  ",
      "text/html": "<div>\n<style scoped>\n    .dataframe tbody tr th:only-of-type {\n        vertical-align: middle;\n    }\n\n    .dataframe tbody tr th {\n        vertical-align: top;\n    }\n\n    .dataframe thead th {\n        text-align: right;\n    }\n</style>\n<table border=\"1\" class=\"dataframe\">\n  <thead>\n    <tr style=\"text-align: right;\">\n      <th></th>\n      <th>L3-AT_LOAD_LAG1</th>\n      <th>L3-BE_LOAD_LAG1</th>\n      <th>L3-BG_LOAD_LAG1</th>\n      <th>L3-CH_LOAD_LAG1</th>\n      <th>L3-CZ_LOAD_LAG1</th>\n      <th>L3-DK_LOAD_LAG1</th>\n      <th>L3-ES_LOAD_LAG1</th>\n      <th>L3-FR_LOAD_LAG1</th>\n      <th>L3-GR_LOAD_LAG1</th>\n      <th>L3-IT_LOAD_LAG1</th>\n      <th>L3-NL_LOAD_LAG1</th>\n      <th>L3-PT_LOAD_LAG1</th>\n      <th>L3-SI_LOAD_LAG1</th>\n      <th>L3-SK_LOAD_LAG1</th>\n    </tr>\n  </thead>\n  <tbody>\n    <tr>\n      <th>43822</th>\n      <td>6602.0</td>\n      <td>8991.0</td>\n      <td>4520.0</td>\n      <td>6460.92</td>\n      <td>6416.28</td>\n      <td>3558.11</td>\n      <td>25629.0</td>\n      <td>65287.0</td>\n      <td>5327.10</td>\n      <td>23499.0</td>\n      <td>11708.0</td>\n      <td>5857.5</td>\n      <td>1156.82</td>\n      <td>2963.0</td>\n    </tr>\n    <tr>\n      <th>43823</th>\n      <td>6340.0</td>\n      <td>8598.0</td>\n      <td>4257.0</td>\n      <td>6562.41</td>\n      <td>6123.94</td>\n      <td>3426.94</td>\n      <td>23245.0</td>\n      <td>63016.0</td>\n      <td>4840.37</td>\n      <td>21429.0</td>\n      <td>11172.0</td>\n      <td>5406.3</td>\n      <td>1097.50</td>\n      <td>2941.0</td>\n    </tr>\n  </tbody>\n</table>\n</div>"
     },
     "execution_count": 9,
     "metadata": {},
     "output_type": "execute_result"
    }
   ],
   "source": [
    "# Creating 1-day lag loads\n",
    "load_lag_1 = load_ds.shift(24*2).add_suffix(\"_LAG1\")\n",
    "load_lag_1.tail(2)"
   ],
   "metadata": {
    "collapsed": false
   }
  },
  {
   "cell_type": "code",
   "execution_count": 10,
   "outputs": [
    {
     "data": {
      "text/plain": "       L3-AT_LOAD_LAG7  L3-BE_LOAD_LAG7  L3-BG_LOAD_LAG7  L3-CH_LOAD_LAG7  \\\n43822           5748.0           8691.0           3734.0          6645.40   \n43823           5444.0           8365.0           3510.0          7093.08   \n\n       L3-CZ_LOAD_LAG7  L3-DK_LOAD_LAG7  L3-ES_LOAD_LAG7  L3-FR_LOAD_LAG7  \\\n43822          5437.48          3194.35          21541.0          55237.0   \n43823          5087.48          3117.52          20946.0          53648.0   \n\n       L3-GR_LOAD_LAG7  L3-IT_LOAD_LAG7  L3-NL_LOAD_LAG7  L3-PT_LOAD_LAG7  \\\n43822          4764.68          22415.0          11622.0           4814.1   \n43823          4337.98          20677.0          11243.0           4683.2   \n\n       L3-SI_LOAD_LAG7  L3-SK_LOAD_LAG7  \n43822          1074.13           2641.0  \n43823           996.82           2557.0  ",
      "text/html": "<div>\n<style scoped>\n    .dataframe tbody tr th:only-of-type {\n        vertical-align: middle;\n    }\n\n    .dataframe tbody tr th {\n        vertical-align: top;\n    }\n\n    .dataframe thead th {\n        text-align: right;\n    }\n</style>\n<table border=\"1\" class=\"dataframe\">\n  <thead>\n    <tr style=\"text-align: right;\">\n      <th></th>\n      <th>L3-AT_LOAD_LAG7</th>\n      <th>L3-BE_LOAD_LAG7</th>\n      <th>L3-BG_LOAD_LAG7</th>\n      <th>L3-CH_LOAD_LAG7</th>\n      <th>L3-CZ_LOAD_LAG7</th>\n      <th>L3-DK_LOAD_LAG7</th>\n      <th>L3-ES_LOAD_LAG7</th>\n      <th>L3-FR_LOAD_LAG7</th>\n      <th>L3-GR_LOAD_LAG7</th>\n      <th>L3-IT_LOAD_LAG7</th>\n      <th>L3-NL_LOAD_LAG7</th>\n      <th>L3-PT_LOAD_LAG7</th>\n      <th>L3-SI_LOAD_LAG7</th>\n      <th>L3-SK_LOAD_LAG7</th>\n    </tr>\n  </thead>\n  <tbody>\n    <tr>\n      <th>43822</th>\n      <td>5748.0</td>\n      <td>8691.0</td>\n      <td>3734.0</td>\n      <td>6645.40</td>\n      <td>5437.48</td>\n      <td>3194.35</td>\n      <td>21541.0</td>\n      <td>55237.0</td>\n      <td>4764.68</td>\n      <td>22415.0</td>\n      <td>11622.0</td>\n      <td>4814.1</td>\n      <td>1074.13</td>\n      <td>2641.0</td>\n    </tr>\n    <tr>\n      <th>43823</th>\n      <td>5444.0</td>\n      <td>8365.0</td>\n      <td>3510.0</td>\n      <td>7093.08</td>\n      <td>5087.48</td>\n      <td>3117.52</td>\n      <td>20946.0</td>\n      <td>53648.0</td>\n      <td>4337.98</td>\n      <td>20677.0</td>\n      <td>11243.0</td>\n      <td>4683.2</td>\n      <td>996.82</td>\n      <td>2557.0</td>\n    </tr>\n  </tbody>\n</table>\n</div>"
     },
     "execution_count": 10,
     "metadata": {},
     "output_type": "execute_result"
    }
   ],
   "source": [
    "# Creating 7-day lag loads\n",
    "load_lag_7 = load_ds.shift(24*7).add_suffix(\"_LAG7\")\n",
    "load_lag_7.tail(2)"
   ],
   "metadata": {
    "collapsed": false
   }
  },
  {
   "cell_type": "code",
   "execution_count": 11,
   "outputs": [
    {
     "name": "stdout",
     "output_type": "stream",
     "text": [
      "Drop data before:  168\n"
     ]
    }
   ],
   "source": [
    "# Drop index for equalizing data\n",
    "drop_idx = load_lag_7.dropna(axis= 0).index[0]\n",
    "print(\"Drop data before: \", drop_idx)"
   ],
   "metadata": {
    "collapsed": false
   }
  },
  {
   "cell_type": "markdown",
   "source": [
    "PROCESSING TEMPERATURE DATA"
   ],
   "metadata": {
    "collapsed": false
   }
  },
  {
   "cell_type": "code",
   "execution_count": 12,
   "outputs": [
    {
     "data": {
      "text/plain": "       L3-AT_A_TEMP  L3-BE_A_TEMP  L3-BG_A_TEMP  L3-CH_A_TEMP  L3-CZ_A_TEMP  \\\n43822        -2.184         1.569        -1.270        -0.659        -0.311   \n43823        -2.271         1.216        -1.826        -0.617        -0.345   \n\n       L3-DK_A_TEMP  L3-ES_A_TEMP  L3-FR_A_TEMP  L3-GR_A_TEMP  L3-IT_A_TEMP  \\\n43822         2.213         6.959         2.280         4.143         3.752   \n43823         2.469         6.652         2.224         4.128         3.790   \n\n       L3-NL_A_TEMP  L3-PT_A_TEMP  L3-SI_A_TEMP  L3-SK_A_TEMP  \n43822         1.785         8.218        -0.032        -0.867  \n43823         1.444         7.735        -0.210        -0.936  ",
      "text/html": "<div>\n<style scoped>\n    .dataframe tbody tr th:only-of-type {\n        vertical-align: middle;\n    }\n\n    .dataframe tbody tr th {\n        vertical-align: top;\n    }\n\n    .dataframe thead th {\n        text-align: right;\n    }\n</style>\n<table border=\"1\" class=\"dataframe\">\n  <thead>\n    <tr style=\"text-align: right;\">\n      <th></th>\n      <th>L3-AT_A_TEMP</th>\n      <th>L3-BE_A_TEMP</th>\n      <th>L3-BG_A_TEMP</th>\n      <th>L3-CH_A_TEMP</th>\n      <th>L3-CZ_A_TEMP</th>\n      <th>L3-DK_A_TEMP</th>\n      <th>L3-ES_A_TEMP</th>\n      <th>L3-FR_A_TEMP</th>\n      <th>L3-GR_A_TEMP</th>\n      <th>L3-IT_A_TEMP</th>\n      <th>L3-NL_A_TEMP</th>\n      <th>L3-PT_A_TEMP</th>\n      <th>L3-SI_A_TEMP</th>\n      <th>L3-SK_A_TEMP</th>\n    </tr>\n  </thead>\n  <tbody>\n    <tr>\n      <th>43822</th>\n      <td>-2.184</td>\n      <td>1.569</td>\n      <td>-1.270</td>\n      <td>-0.659</td>\n      <td>-0.311</td>\n      <td>2.213</td>\n      <td>6.959</td>\n      <td>2.280</td>\n      <td>4.143</td>\n      <td>3.752</td>\n      <td>1.785</td>\n      <td>8.218</td>\n      <td>-0.032</td>\n      <td>-0.867</td>\n    </tr>\n    <tr>\n      <th>43823</th>\n      <td>-2.271</td>\n      <td>1.216</td>\n      <td>-1.826</td>\n      <td>-0.617</td>\n      <td>-0.345</td>\n      <td>2.469</td>\n      <td>6.652</td>\n      <td>2.224</td>\n      <td>4.128</td>\n      <td>3.790</td>\n      <td>1.444</td>\n      <td>7.735</td>\n      <td>-0.210</td>\n      <td>-0.936</td>\n    </tr>\n  </tbody>\n</table>\n</div>"
     },
     "execution_count": 12,
     "metadata": {},
     "output_type": "execute_result"
    }
   ],
   "source": [
    "# Fetching and concatenating the data\n",
    "temp_ds = pd.concat([pd.read_csv(os.path.join(path, fileName), usecols= [\"tmpc\"]) for fileName in fileList], axis= 1)\n",
    "temp_ds.columns = [i.removesuffix('.csv') for i in fileList]\n",
    "temp_ds = temp_ds.add_suffix(\"_A_TEMP\")\n",
    "temp_ds.tail(2)"
   ],
   "metadata": {
    "collapsed": false
   }
  },
  {
   "cell_type": "markdown",
   "source": [
    "### PREPARING X AND Y PART"
   ],
   "metadata": {
    "collapsed": false
   }
  },
  {
   "cell_type": "code",
   "execution_count": 13,
   "outputs": [
    {
     "data": {
      "text/plain": "   L3-AT_A_TEMP  L3-AT_LOAD_LAG1  L3-AT_LOAD_LAG7  L3-BE_A_TEMP  \\\n0        -4.576           5220.0           5946.0         1.499   \n1        -4.559           5015.0           5726.0         1.842   \n\n   L3-BE_LOAD_LAG1  L3-BE_LOAD_LAG7  L3-BG_A_TEMP  L3-BG_LOAD_LAG1  \\\n0          10657.0           9484.0       -12.111           4532.0   \n1          10281.0           9152.0       -12.294           4487.0   \n\n   L3-BG_LOAD_LAG7  L3-CH_A_TEMP  ...  L3-NL_LOAD_LAG7  L3-PT_A_TEMP  \\\n0           4585.0        -0.802  ...           9401.0         4.941   \n1           4585.0        -0.745  ...           8957.0         4.527   \n\n   L3-PT_LOAD_LAG1  L3-PT_LOAD_LAG7  L3-SI_A_TEMP  L3-SI_LOAD_LAG1  \\\n0           5740.7           5123.9        -2.913          1214.31   \n1           5270.9           5123.9        -3.012          1193.23   \n\n   L3-SI_LOAD_LAG7  L3-SK_A_TEMP  L3-SK_LOAD_LAG1  L3-SK_LOAD_LAG7  \n0          1045.47        -9.636           2853.0           2728.0  \n1          1045.47        -9.380           2775.0           2728.0  \n\n[2 rows x 42 columns]",
      "text/html": "<div>\n<style scoped>\n    .dataframe tbody tr th:only-of-type {\n        vertical-align: middle;\n    }\n\n    .dataframe tbody tr th {\n        vertical-align: top;\n    }\n\n    .dataframe thead th {\n        text-align: right;\n    }\n</style>\n<table border=\"1\" class=\"dataframe\">\n  <thead>\n    <tr style=\"text-align: right;\">\n      <th></th>\n      <th>L3-AT_A_TEMP</th>\n      <th>L3-AT_LOAD_LAG1</th>\n      <th>L3-AT_LOAD_LAG7</th>\n      <th>L3-BE_A_TEMP</th>\n      <th>L3-BE_LOAD_LAG1</th>\n      <th>L3-BE_LOAD_LAG7</th>\n      <th>L3-BG_A_TEMP</th>\n      <th>L3-BG_LOAD_LAG1</th>\n      <th>L3-BG_LOAD_LAG7</th>\n      <th>L3-CH_A_TEMP</th>\n      <th>...</th>\n      <th>L3-NL_LOAD_LAG7</th>\n      <th>L3-PT_A_TEMP</th>\n      <th>L3-PT_LOAD_LAG1</th>\n      <th>L3-PT_LOAD_LAG7</th>\n      <th>L3-SI_A_TEMP</th>\n      <th>L3-SI_LOAD_LAG1</th>\n      <th>L3-SI_LOAD_LAG7</th>\n      <th>L3-SK_A_TEMP</th>\n      <th>L3-SK_LOAD_LAG1</th>\n      <th>L3-SK_LOAD_LAG7</th>\n    </tr>\n  </thead>\n  <tbody>\n    <tr>\n      <th>0</th>\n      <td>-4.576</td>\n      <td>5220.0</td>\n      <td>5946.0</td>\n      <td>1.499</td>\n      <td>10657.0</td>\n      <td>9484.0</td>\n      <td>-12.111</td>\n      <td>4532.0</td>\n      <td>4585.0</td>\n      <td>-0.802</td>\n      <td>...</td>\n      <td>9401.0</td>\n      <td>4.941</td>\n      <td>5740.7</td>\n      <td>5123.9</td>\n      <td>-2.913</td>\n      <td>1214.31</td>\n      <td>1045.47</td>\n      <td>-9.636</td>\n      <td>2853.0</td>\n      <td>2728.0</td>\n    </tr>\n    <tr>\n      <th>1</th>\n      <td>-4.559</td>\n      <td>5015.0</td>\n      <td>5726.0</td>\n      <td>1.842</td>\n      <td>10281.0</td>\n      <td>9152.0</td>\n      <td>-12.294</td>\n      <td>4487.0</td>\n      <td>4585.0</td>\n      <td>-0.745</td>\n      <td>...</td>\n      <td>8957.0</td>\n      <td>4.527</td>\n      <td>5270.9</td>\n      <td>5123.9</td>\n      <td>-3.012</td>\n      <td>1193.23</td>\n      <td>1045.47</td>\n      <td>-9.380</td>\n      <td>2775.0</td>\n      <td>2728.0</td>\n    </tr>\n  </tbody>\n</table>\n<p>2 rows × 42 columns</p>\n</div>"
     },
     "execution_count": 13,
     "metadata": {},
     "output_type": "execute_result"
    }
   ],
   "source": [
    "X_continuous = pd.concat([load_lag_1, load_lag_7, temp_ds], axis=1)\n",
    "X_continuous = X_continuous.sort_index(axis=1)\n",
    "X_continuous = X_continuous.iloc[drop_idx:].reset_index(drop=True)\n",
    "X_continuous.head(2)"
   ],
   "metadata": {
    "collapsed": false
   }
  },
  {
   "cell_type": "code",
   "execution_count": 14,
   "outputs": [
    {
     "data": {
      "text/plain": "    0    1    2    3    4    5    6    7    8    9   ...   59   60   61   62  \\\n0  1.0  0.0  0.0  0.0  0.0  0.0  0.0  0.0  0.0  0.0  ...  0.0  0.0  0.0  0.0   \n1  1.0  0.0  0.0  0.0  0.0  0.0  0.0  0.0  0.0  0.0  ...  0.0  0.0  0.0  0.0   \n\n    63   64   65   66   67   68  \n0  0.0  0.0  0.0  0.0  0.0  0.0  \n1  0.0  0.0  0.0  0.0  0.0  0.0  \n\n[2 rows x 69 columns]",
      "text/html": "<div>\n<style scoped>\n    .dataframe tbody tr th:only-of-type {\n        vertical-align: middle;\n    }\n\n    .dataframe tbody tr th {\n        vertical-align: top;\n    }\n\n    .dataframe thead th {\n        text-align: right;\n    }\n</style>\n<table border=\"1\" class=\"dataframe\">\n  <thead>\n    <tr style=\"text-align: right;\">\n      <th></th>\n      <th>0</th>\n      <th>1</th>\n      <th>2</th>\n      <th>3</th>\n      <th>4</th>\n      <th>5</th>\n      <th>6</th>\n      <th>7</th>\n      <th>8</th>\n      <th>9</th>\n      <th>...</th>\n      <th>59</th>\n      <th>60</th>\n      <th>61</th>\n      <th>62</th>\n      <th>63</th>\n      <th>64</th>\n      <th>65</th>\n      <th>66</th>\n      <th>67</th>\n      <th>68</th>\n    </tr>\n  </thead>\n  <tbody>\n    <tr>\n      <th>0</th>\n      <td>1.0</td>\n      <td>0.0</td>\n      <td>0.0</td>\n      <td>0.0</td>\n      <td>0.0</td>\n      <td>0.0</td>\n      <td>0.0</td>\n      <td>0.0</td>\n      <td>0.0</td>\n      <td>0.0</td>\n      <td>...</td>\n      <td>0.0</td>\n      <td>0.0</td>\n      <td>0.0</td>\n      <td>0.0</td>\n      <td>0.0</td>\n      <td>0.0</td>\n      <td>0.0</td>\n      <td>0.0</td>\n      <td>0.0</td>\n      <td>0.0</td>\n    </tr>\n    <tr>\n      <th>1</th>\n      <td>1.0</td>\n      <td>0.0</td>\n      <td>0.0</td>\n      <td>0.0</td>\n      <td>0.0</td>\n      <td>0.0</td>\n      <td>0.0</td>\n      <td>0.0</td>\n      <td>0.0</td>\n      <td>0.0</td>\n      <td>...</td>\n      <td>0.0</td>\n      <td>0.0</td>\n      <td>0.0</td>\n      <td>0.0</td>\n      <td>0.0</td>\n      <td>0.0</td>\n      <td>0.0</td>\n      <td>0.0</td>\n      <td>0.0</td>\n      <td>0.0</td>\n    </tr>\n  </tbody>\n</table>\n<p>2 rows × 69 columns</p>\n</div>"
     },
     "execution_count": 14,
     "metadata": {},
     "output_type": "execute_result"
    }
   ],
   "source": [
    "X_categorical = pd.DataFrame(categorical_data)\n",
    "X_categorical = X_categorical.iloc[drop_idx:].reset_index(drop=True)\n",
    "X_categorical.head(2)"
   ],
   "metadata": {
    "collapsed": false
   }
  },
  {
   "cell_type": "code",
   "execution_count": 15,
   "outputs": [
    {
     "data": {
      "text/plain": "       L3-AT_LOAD  L3-BE_LOAD  L3-BG_LOAD  L3-CH_LOAD  L3-CZ_LOAD  L3-DK_LOAD  \\\n43654        6206        9392      4410.0     6451.50     5822.73     3309.25   \n43655        5967        9069      4243.0     6891.33     5611.71     3315.91   \n\n       L3-ES_LOAD  L3-FR_LOAD  L3-GR_LOAD  L3-IT_LOAD  L3-NL_LOAD  L3-PT_LOAD  \\\n43654     23911.0     65865.0     5657.63     23876.0       11418      5484.7   \n43655     22963.0     64677.0     5337.38     22510.0       11215      5243.8   \n\n       L3-SI_LOAD  L3-SK_LOAD  \n43654     1134.03      2980.0  \n43655     1086.73      2814.0  ",
      "text/html": "<div>\n<style scoped>\n    .dataframe tbody tr th:only-of-type {\n        vertical-align: middle;\n    }\n\n    .dataframe tbody tr th {\n        vertical-align: top;\n    }\n\n    .dataframe thead th {\n        text-align: right;\n    }\n</style>\n<table border=\"1\" class=\"dataframe\">\n  <thead>\n    <tr style=\"text-align: right;\">\n      <th></th>\n      <th>L3-AT_LOAD</th>\n      <th>L3-BE_LOAD</th>\n      <th>L3-BG_LOAD</th>\n      <th>L3-CH_LOAD</th>\n      <th>L3-CZ_LOAD</th>\n      <th>L3-DK_LOAD</th>\n      <th>L3-ES_LOAD</th>\n      <th>L3-FR_LOAD</th>\n      <th>L3-GR_LOAD</th>\n      <th>L3-IT_LOAD</th>\n      <th>L3-NL_LOAD</th>\n      <th>L3-PT_LOAD</th>\n      <th>L3-SI_LOAD</th>\n      <th>L3-SK_LOAD</th>\n    </tr>\n  </thead>\n  <tbody>\n    <tr>\n      <th>43654</th>\n      <td>6206</td>\n      <td>9392</td>\n      <td>4410.0</td>\n      <td>6451.50</td>\n      <td>5822.73</td>\n      <td>3309.25</td>\n      <td>23911.0</td>\n      <td>65865.0</td>\n      <td>5657.63</td>\n      <td>23876.0</td>\n      <td>11418</td>\n      <td>5484.7</td>\n      <td>1134.03</td>\n      <td>2980.0</td>\n    </tr>\n    <tr>\n      <th>43655</th>\n      <td>5967</td>\n      <td>9069</td>\n      <td>4243.0</td>\n      <td>6891.33</td>\n      <td>5611.71</td>\n      <td>3315.91</td>\n      <td>22963.0</td>\n      <td>64677.0</td>\n      <td>5337.38</td>\n      <td>22510.0</td>\n      <td>11215</td>\n      <td>5243.8</td>\n      <td>1086.73</td>\n      <td>2814.0</td>\n    </tr>\n  </tbody>\n</table>\n</div>"
     },
     "execution_count": 15,
     "metadata": {},
     "output_type": "execute_result"
    }
   ],
   "source": [
    "Y = load_ds.copy()\n",
    "Y = Y.sort_index(axis=1)\n",
    "Y = Y.iloc[drop_idx:].reset_index(drop=True)\n",
    "Y.tail(2)"
   ],
   "metadata": {
    "collapsed": false
   }
  },
  {
   "cell_type": "code",
   "execution_count": 16,
   "outputs": [
    {
     "name": "stdout",
     "output_type": "stream",
     "text": [
      "Train samples:  35361 \n",
      "Valid samples:  3929 \n",
      "Test samples:  4365\n"
     ]
    }
   ],
   "source": [
    "### SPLITTING THE DATA INTO TRAINING AND TESTING\n",
    "# Setting the train-test split\n",
    "ratio = 0.1\n",
    "train_size, test_size = int(len(X_continuous)/24 * (1 - ratio) * 24), int(len(X_continuous)/24 * ratio * 24)\n",
    "train_size, valid_size = int(train_size/24 * (1 - ratio) * 24), int(train_size/24 * ratio * 24)\n",
    "\n",
    "print(\"Train samples: \", train_size, \"\\nValid samples: \", valid_size, \"\\nTest samples: \", test_size)"
   ],
   "metadata": {
    "collapsed": false
   }
  },
  {
   "cell_type": "code",
   "execution_count": 17,
   "outputs": [
    {
     "name": "stdout",
     "output_type": "stream",
     "text": [
      "Train split of continuous data: \n"
     ]
    },
    {
     "data": {
      "text/plain": "       L3-AT_A_TEMP  L3-AT_LOAD_LAG1  L3-AT_LOAD_LAG7  L3-BE_A_TEMP  \\\n35359        -7.876           9964.0           7161.0        -4.100   \n35360        -5.956          10046.0           7508.0        -2.684   \n\n       L3-BE_LOAD_LAG1  L3-BE_LOAD_LAG7  L3-BG_A_TEMP  L3-BG_LOAD_LAG1  \\\n35359          12899.0           9050.0         2.420           6275.0   \n35360          12983.0           9504.0         3.381           6052.0   \n\n       L3-BG_LOAD_LAG7  L3-CH_A_TEMP  ...  L3-NL_LOAD_LAG7  L3-PT_A_TEMP  \\\n35359           5918.0        -4.846  ...          12351.0         8.773   \n35360           5999.0        -3.562  ...          12919.0         9.299   \n\n       L3-PT_LOAD_LAG1  L3-PT_LOAD_LAG7  L3-SI_A_TEMP  L3-SI_LOAD_LAG1  \\\n35359           6429.8           4704.0        -3.868          2081.10   \n35360           7300.6           4898.5        -1.860          2057.67   \n\n       L3-SI_LOAD_LAG7  L3-SK_A_TEMP  L3-SK_LOAD_LAG1  L3-SK_LOAD_LAG7  \n35359          1597.37        -5.374           4210.0           3456.0  \n35360          1657.51        -4.230           4261.0           3668.0  \n\n[2 rows x 42 columns]",
      "text/html": "<div>\n<style scoped>\n    .dataframe tbody tr th:only-of-type {\n        vertical-align: middle;\n    }\n\n    .dataframe tbody tr th {\n        vertical-align: top;\n    }\n\n    .dataframe thead th {\n        text-align: right;\n    }\n</style>\n<table border=\"1\" class=\"dataframe\">\n  <thead>\n    <tr style=\"text-align: right;\">\n      <th></th>\n      <th>L3-AT_A_TEMP</th>\n      <th>L3-AT_LOAD_LAG1</th>\n      <th>L3-AT_LOAD_LAG7</th>\n      <th>L3-BE_A_TEMP</th>\n      <th>L3-BE_LOAD_LAG1</th>\n      <th>L3-BE_LOAD_LAG7</th>\n      <th>L3-BG_A_TEMP</th>\n      <th>L3-BG_LOAD_LAG1</th>\n      <th>L3-BG_LOAD_LAG7</th>\n      <th>L3-CH_A_TEMP</th>\n      <th>...</th>\n      <th>L3-NL_LOAD_LAG7</th>\n      <th>L3-PT_A_TEMP</th>\n      <th>L3-PT_LOAD_LAG1</th>\n      <th>L3-PT_LOAD_LAG7</th>\n      <th>L3-SI_A_TEMP</th>\n      <th>L3-SI_LOAD_LAG1</th>\n      <th>L3-SI_LOAD_LAG7</th>\n      <th>L3-SK_A_TEMP</th>\n      <th>L3-SK_LOAD_LAG1</th>\n      <th>L3-SK_LOAD_LAG7</th>\n    </tr>\n  </thead>\n  <tbody>\n    <tr>\n      <th>35359</th>\n      <td>-7.876</td>\n      <td>9964.0</td>\n      <td>7161.0</td>\n      <td>-4.100</td>\n      <td>12899.0</td>\n      <td>9050.0</td>\n      <td>2.420</td>\n      <td>6275.0</td>\n      <td>5918.0</td>\n      <td>-4.846</td>\n      <td>...</td>\n      <td>12351.0</td>\n      <td>8.773</td>\n      <td>6429.8</td>\n      <td>4704.0</td>\n      <td>-3.868</td>\n      <td>2081.10</td>\n      <td>1597.37</td>\n      <td>-5.374</td>\n      <td>4210.0</td>\n      <td>3456.0</td>\n    </tr>\n    <tr>\n      <th>35360</th>\n      <td>-5.956</td>\n      <td>10046.0</td>\n      <td>7508.0</td>\n      <td>-2.684</td>\n      <td>12983.0</td>\n      <td>9504.0</td>\n      <td>3.381</td>\n      <td>6052.0</td>\n      <td>5999.0</td>\n      <td>-3.562</td>\n      <td>...</td>\n      <td>12919.0</td>\n      <td>9.299</td>\n      <td>7300.6</td>\n      <td>4898.5</td>\n      <td>-1.860</td>\n      <td>2057.67</td>\n      <td>1657.51</td>\n      <td>-4.230</td>\n      <td>4261.0</td>\n      <td>3668.0</td>\n    </tr>\n  </tbody>\n</table>\n<p>2 rows × 42 columns</p>\n</div>"
     },
     "metadata": {},
     "output_type": "display_data"
    },
    {
     "name": "stdout",
     "output_type": "stream",
     "text": [
      "Train split of categorical data: \n"
     ]
    },
    {
     "data": {
      "text/plain": "        0    1    2    3    4    5    6    7    8    9   ...   59   60   61  \\\n35359  1.0  0.0  0.0  0.0  0.0  0.0  0.0  0.0  0.0  0.0  ...  0.0  0.0  0.0   \n35360  1.0  0.0  0.0  0.0  0.0  0.0  0.0  0.0  0.0  0.0  ...  0.0  0.0  0.0   \n\n        62   63   64   65   66   67   68  \n35359  0.0  0.0  0.0  0.0  0.0  0.0  0.0  \n35360  0.0  0.0  0.0  0.0  0.0  0.0  0.0  \n\n[2 rows x 69 columns]",
      "text/html": "<div>\n<style scoped>\n    .dataframe tbody tr th:only-of-type {\n        vertical-align: middle;\n    }\n\n    .dataframe tbody tr th {\n        vertical-align: top;\n    }\n\n    .dataframe thead th {\n        text-align: right;\n    }\n</style>\n<table border=\"1\" class=\"dataframe\">\n  <thead>\n    <tr style=\"text-align: right;\">\n      <th></th>\n      <th>0</th>\n      <th>1</th>\n      <th>2</th>\n      <th>3</th>\n      <th>4</th>\n      <th>5</th>\n      <th>6</th>\n      <th>7</th>\n      <th>8</th>\n      <th>9</th>\n      <th>...</th>\n      <th>59</th>\n      <th>60</th>\n      <th>61</th>\n      <th>62</th>\n      <th>63</th>\n      <th>64</th>\n      <th>65</th>\n      <th>66</th>\n      <th>67</th>\n      <th>68</th>\n    </tr>\n  </thead>\n  <tbody>\n    <tr>\n      <th>35359</th>\n      <td>1.0</td>\n      <td>0.0</td>\n      <td>0.0</td>\n      <td>0.0</td>\n      <td>0.0</td>\n      <td>0.0</td>\n      <td>0.0</td>\n      <td>0.0</td>\n      <td>0.0</td>\n      <td>0.0</td>\n      <td>...</td>\n      <td>0.0</td>\n      <td>0.0</td>\n      <td>0.0</td>\n      <td>0.0</td>\n      <td>0.0</td>\n      <td>0.0</td>\n      <td>0.0</td>\n      <td>0.0</td>\n      <td>0.0</td>\n      <td>0.0</td>\n    </tr>\n    <tr>\n      <th>35360</th>\n      <td>1.0</td>\n      <td>0.0</td>\n      <td>0.0</td>\n      <td>0.0</td>\n      <td>0.0</td>\n      <td>0.0</td>\n      <td>0.0</td>\n      <td>0.0</td>\n      <td>0.0</td>\n      <td>0.0</td>\n      <td>...</td>\n      <td>0.0</td>\n      <td>0.0</td>\n      <td>0.0</td>\n      <td>0.0</td>\n      <td>0.0</td>\n      <td>0.0</td>\n      <td>0.0</td>\n      <td>0.0</td>\n      <td>0.0</td>\n      <td>0.0</td>\n    </tr>\n  </tbody>\n</table>\n<p>2 rows × 69 columns</p>\n</div>"
     },
     "metadata": {},
     "output_type": "display_data"
    },
    {
     "name": "stdout",
     "output_type": "stream",
     "text": [
      "Train split of target data Y: \n"
     ]
    },
    {
     "data": {
      "text/plain": "       L3-AT_LOAD  L3-BE_LOAD  L3-BG_LOAD  L3-CH_LOAD  L3-CZ_LOAD  L3-DK_LOAD  \\\n35359        7469       10166      5503.0     7069.66     7761.49     3999.98   \n35360        7876       10520      5718.0     7176.10     8403.64     4193.79   \n\n       L3-ES_LOAD  L3-FR_LOAD  L3-GR_LOAD  L3-IT_LOAD  L3-NL_LOAD  L3-PT_LOAD  \\\n35359     24470.0     63688.0     5860.00     27644.0       12744      4628.4   \n35360     26706.0     66551.0     6521.42     29462.0       13211      4840.3   \n\n       L3-SI_LOAD  L3-SK_LOAD  \n35359     1618.12      3496.0  \n35360     1711.78      3755.0  ",
      "text/html": "<div>\n<style scoped>\n    .dataframe tbody tr th:only-of-type {\n        vertical-align: middle;\n    }\n\n    .dataframe tbody tr th {\n        vertical-align: top;\n    }\n\n    .dataframe thead th {\n        text-align: right;\n    }\n</style>\n<table border=\"1\" class=\"dataframe\">\n  <thead>\n    <tr style=\"text-align: right;\">\n      <th></th>\n      <th>L3-AT_LOAD</th>\n      <th>L3-BE_LOAD</th>\n      <th>L3-BG_LOAD</th>\n      <th>L3-CH_LOAD</th>\n      <th>L3-CZ_LOAD</th>\n      <th>L3-DK_LOAD</th>\n      <th>L3-ES_LOAD</th>\n      <th>L3-FR_LOAD</th>\n      <th>L3-GR_LOAD</th>\n      <th>L3-IT_LOAD</th>\n      <th>L3-NL_LOAD</th>\n      <th>L3-PT_LOAD</th>\n      <th>L3-SI_LOAD</th>\n      <th>L3-SK_LOAD</th>\n    </tr>\n  </thead>\n  <tbody>\n    <tr>\n      <th>35359</th>\n      <td>7469</td>\n      <td>10166</td>\n      <td>5503.0</td>\n      <td>7069.66</td>\n      <td>7761.49</td>\n      <td>3999.98</td>\n      <td>24470.0</td>\n      <td>63688.0</td>\n      <td>5860.00</td>\n      <td>27644.0</td>\n      <td>12744</td>\n      <td>4628.4</td>\n      <td>1618.12</td>\n      <td>3496.0</td>\n    </tr>\n    <tr>\n      <th>35360</th>\n      <td>7876</td>\n      <td>10520</td>\n      <td>5718.0</td>\n      <td>7176.10</td>\n      <td>8403.64</td>\n      <td>4193.79</td>\n      <td>26706.0</td>\n      <td>66551.0</td>\n      <td>6521.42</td>\n      <td>29462.0</td>\n      <td>13211</td>\n      <td>4840.3</td>\n      <td>1711.78</td>\n      <td>3755.0</td>\n    </tr>\n  </tbody>\n</table>\n</div>"
     },
     "metadata": {},
     "output_type": "display_data"
    }
   ],
   "source": [
    "# Splitting the continuous data into training and test split\n",
    "X_continuous_train, X_continuous_valid, X_continuous_test = X_continuous[:train_size], \\\n",
    "                                                            X_continuous[train_size:train_size+valid_size], \\\n",
    "                                                            X_continuous[train_size+valid_size:]\n",
    "print(\"Train split of continuous data: \")\n",
    "display(X_continuous_train.tail(2))\n",
    "\n",
    "# Splitting the categorical data into training and test split\n",
    "X_categorical_train, X_categorical_valid, X_categorical_test = X_categorical[:train_size], \\\n",
    "                                                               X_categorical[train_size:train_size+valid_size], \\\n",
    "                                                               X_categorical[train_size+valid_size:]\n",
    "print(\"Train split of categorical data: \")\n",
    "display(X_categorical_train.tail(2))\n",
    "\n",
    "# Splitting the target into training and test split\n",
    "Y_train, Y_valid, Y_test = Y[:train_size],  Y[train_size:train_size+valid_size], Y[train_size+valid_size:]\n",
    "print(\"Train split of target data Y: \")\n",
    "display(Y_train.tail(2))"
   ],
   "metadata": {
    "collapsed": false
   }
  },
  {
   "cell_type": "code",
   "execution_count": 18,
   "outputs": [
    {
     "name": "stdout",
     "output_type": "stream",
     "text": [
      "Shape for continuous variable: \n",
      "(35361, 42) (3929, 42) (4366, 42) \n",
      "\n",
      "Shape for categorical variable: \n",
      "(35361, 69) (3929, 69) (4366, 69) \n",
      "\n",
      "Shape for target variable: \n",
      "(35361, 14) (3929, 14) (4366, 14) \n",
      "\n",
      "Does it cover entire training set:  True\n"
     ]
    }
   ],
   "source": [
    "print(\"Shape for continuous variable: \")\n",
    "print(X_continuous_train.shape, X_continuous_valid.shape, X_continuous_test.shape, \"\\n\")\n",
    "print(\"Shape for categorical variable: \")\n",
    "print(X_categorical_train.shape, X_categorical_valid.shape, X_categorical_test.shape, \"\\n\")\n",
    "print(\"Shape for target variable: \")\n",
    "print(Y_train.shape, Y_valid.shape, Y_test.shape, \"\\n\")\n",
    "print(\"Does it cover entire training set: \", (X_continuous_train.shape[0] +\n",
    "                                              X_continuous_valid.shape[0] +\n",
    "                                              X_continuous_test.shape[0]) == len(X_continuous))"
   ],
   "metadata": {
    "collapsed": false
   }
  },
  {
   "cell_type": "markdown",
   "source": [
    "### SCALING THE DATA"
   ],
   "metadata": {
    "collapsed": false
   }
  },
  {
   "cell_type": "code",
   "execution_count": 19,
   "outputs": [],
   "source": [
    "# Scaling values using min-max scaler\n",
    "mm_scaler_X = MinMaxScaler()\n",
    "mm_scaler_Y = MinMaxScaler()"
   ],
   "metadata": {
    "collapsed": false
   }
  },
  {
   "cell_type": "code",
   "execution_count": 20,
   "outputs": [
    {
     "name": "stdout",
     "output_type": "stream",
     "text": [
      "Scaled continuous X train: \n"
     ]
    },
    {
     "data": {
      "text/plain": "array([[0.25922313, 0.44935398, 0.52095867, ..., 0.17145333, 0.04071747,\n        0.03253469],\n       [0.25956159, 0.42913502, 0.49926028, ..., 0.17617239, 0.03561142,\n        0.03253469],\n       [0.26228921, 0.41463655, 0.46187987, ..., 0.18079929, 0.0344331 ,\n        0.02585755],\n       ...,\n       [0.17944532, 0.87592465, 0.60015781, ..., 0.24010102, 0.12261063,\n        0.0678188 ],\n       [0.19352141, 0.91725022, 0.64079298, ..., 0.25001843, 0.12954962,\n        0.08019115],\n       [0.23174786, 0.9253378 , 0.67501726, ..., 0.27110677, 0.13288819,\n        0.09406913]])"
     },
     "execution_count": 20,
     "metadata": {},
     "output_type": "execute_result"
    }
   ],
   "source": [
    "# Scaling continuous X train part\n",
    "X_scaled_continuous_train = mm_scaler_X.fit_transform(X_continuous_train)\n",
    "\n",
    "# Using the fit_scaler to scale the X valid part\n",
    "X_scaled_continuous_valid = mm_scaler_X.transform(X_continuous_valid)\n",
    "\n",
    "# Using the fit_scaler to scale the X test part\n",
    "X_scaled_continuous_test = mm_scaler_X.transform(X_continuous_test)\n",
    "\n",
    "print(\"Scaled continuous X train: \")\n",
    "X_scaled_continuous_train"
   ],
   "metadata": {
    "collapsed": false
   }
  },
  {
   "cell_type": "code",
   "execution_count": 21,
   "outputs": [
    {
     "name": "stdout",
     "output_type": "stream",
     "text": [
      "Scaled continuous Y train: \n"
     ]
    },
    {
     "data": {
      "text/plain": "array([[0.56149522, 0.55644707, 0.46707413, ..., 0.49710625, 0.3227454 ,\n        0.0610762 ],\n       [0.5617911 , 0.4950732 , 0.45347003, ..., 0.40047948, 0.28676811,\n        0.05852317],\n       [0.56741296, 0.45565878, 0.46253943, ..., 0.34880411, 0.30950476,\n        0.05780309],\n       ...,\n       [0.62225072, 0.4420045 , 0.49073344, ..., 0.22906482, 0.40107025,\n        0.07010998],\n       [0.67117073, 0.50675676, 0.56880915, ..., 0.23136858, 0.50980233,\n        0.08280964],\n       [0.71131275, 0.55658784, 0.61119874, ..., 0.27105692, 0.56835373,\n        0.09976434]])"
     },
     "execution_count": 21,
     "metadata": {},
     "output_type": "execute_result"
    }
   ],
   "source": [
    "# Scaling target Y train part\n",
    "Y_scaled_train = mm_scaler_Y.fit_transform(Y_train)\n",
    "\n",
    "# Using the fit_scaler to scale the Y valid part\n",
    "Y_scaled_valid = mm_scaler_Y.transform(Y_valid)\n",
    "\n",
    "# Using the fit_scaler to scale the Y test part\n",
    "Y_scaled_test = mm_scaler_Y.transform(Y_test)\n",
    "\n",
    "print(\"Scaled continuous Y train: \")\n",
    "Y_scaled_train"
   ],
   "metadata": {
    "collapsed": false
   }
  },
  {
   "cell_type": "code",
   "execution_count": 22,
   "outputs": [],
   "source": [
    "# Converting a multivariate dataset into slices of samples\n",
    "def split_data(calendar_data, x_data, y_data, n_steps, n_overlap):\n",
    "    calendar, x, y = list(), list(), list()\n",
    "    for i in range(0, len(x_data), n_steps-n_overlap):\n",
    "\n",
    "        # Finding the split index\n",
    "        end_idx = i + n_steps\n",
    "\n",
    "        # Break the loop at end of dataset\n",
    "        if end_idx > len(x_data):\n",
    "            break\n",
    "\n",
    "        # Appending the custom created samples with desired time-steps and features\n",
    "        sample_calendar, sample_x, sample_y = calendar_data[i:end_idx, :], \\\n",
    "                                              x_data[i:end_idx, :], \\\n",
    "                                              y_data[i:end_idx, :]\n",
    "        calendar.append(sample_calendar)\n",
    "        x.append(sample_x)\n",
    "        y.append(sample_y)\n",
    "\n",
    "    return np.array(calendar), np.array(x), np.array(y)"
   ],
   "metadata": {
    "collapsed": false
   }
  },
  {
   "cell_type": "code",
   "execution_count": 23,
   "outputs": [
    {
     "name": "stdout",
     "output_type": "stream",
     "text": [
      "Shape of the created samples for training:  (35338, 24, 14)\n",
      "Shape of the created samples for validation:  (163, 24, 14)\n",
      "Shape of the created samples for testing:  (181, 24, 14)\n"
     ]
    }
   ],
   "source": [
    "num_steps = 24\n",
    "train_num_overlap = 23\n",
    "test_valid_num_overlap = 0\n",
    "\n",
    "processed_data_train = split_data(calendar_data=X_categorical_train.to_numpy(),\n",
    "                            x_data=X_scaled_continuous_train,\n",
    "                            y_data=Y_scaled_train,\n",
    "                            n_steps=num_steps, n_overlap=train_num_overlap)\n",
    "\n",
    "processed_data_valid = split_data(calendar_data=X_categorical_valid.to_numpy(),\n",
    "                            x_data=X_scaled_continuous_valid,\n",
    "                            y_data=Y_scaled_valid,\n",
    "                            n_steps=num_steps, n_overlap=test_valid_num_overlap)\n",
    "\n",
    "processed_data_test = split_data(calendar_data=X_categorical_test.to_numpy(),\n",
    "                            x_data=X_scaled_continuous_test,\n",
    "                            y_data=Y_scaled_test,\n",
    "                            n_steps=num_steps, n_overlap=test_valid_num_overlap)\n",
    "\n",
    "print(\"Shape of the created samples for training: \", processed_data_train[2].shape)\n",
    "print(\"Shape of the created samples for validation: \", processed_data_valid[2].shape)\n",
    "print(\"Shape of the created samples for testing: \", processed_data_test[2].shape)"
   ],
   "metadata": {
    "collapsed": false
   }
  },
  {
   "cell_type": "code",
   "execution_count": 24,
   "outputs": [
    {
     "name": "stdout",
     "output_type": "stream",
     "text": [
      "First sample: \n",
      "\n"
     ]
    },
    {
     "data": {
      "text/plain": "array([[0.25456428, 0.91212151, 0.79544334, ..., 0.26716192, 0.12470542,\n        0.10925635],\n       [0.27755988, 0.89397376, 0.79968439, ..., 0.29586344, 0.12614559,\n        0.11874836],\n       [0.29324865, 0.86576585, 0.790216  , ..., 0.30878558, 0.12555643,\n        0.113315  ],\n       ...,\n       [0.17944532, 0.87592465, 0.60015781, ..., 0.24010102, 0.12261063,\n        0.0678188 ],\n       [0.19352141, 0.91725022, 0.64079298, ..., 0.25001843, 0.12954962,\n        0.08019115],\n       [0.23174786, 0.9253378 , 0.67501726, ..., 0.27110677, 0.13288819,\n        0.09406913]])"
     },
     "execution_count": 24,
     "metadata": {},
     "output_type": "execute_result"
    }
   ],
   "source": [
    "## Sample check for sanity\n",
    "print(\"First sample: \\n\")\n",
    "processed_data_train[1][-1]"
   ],
   "metadata": {
    "collapsed": false
   }
  },
  {
   "cell_type": "code",
   "execution_count": 25,
   "outputs": [
    {
     "name": "stdout",
     "output_type": "stream",
     "text": [
      "Second sample: \n",
      "\n"
     ]
    },
    {
     "data": {
      "text/plain": "array([[0.25956159, 0.42913502, 0.49926028, ..., 0.17617239, 0.03561142,\n        0.03253469],\n       [0.26228921, 0.41463655, 0.46187987, ..., 0.18079929, 0.0344331 ,\n        0.02585755],\n       [0.26384216, 0.42509123, 0.45221422, ..., 0.18271641, 0.03731343,\n        0.02533386],\n       ...,\n       [0.34983176, 0.49945754, 0.51287109, ..., 0.23436809, 0.05577376,\n        0.03665881],\n       [0.35697931, 0.52362166, 0.48022487, ..., 0.2405803 , 0.04981671,\n        0.03168369],\n       [0.36155852, 0.48367689, 0.44787454, ..., 0.25175122, 0.04438335,\n        0.02533386]])"
     },
     "execution_count": 25,
     "metadata": {},
     "output_type": "execute_result"
    }
   ],
   "source": [
    "print(\"Second sample: \\n\")\n",
    "processed_data_train[1][1]"
   ],
   "metadata": {
    "collapsed": false
   }
  },
  {
   "cell_type": "code",
   "execution_count": 26,
   "outputs": [],
   "source": [
    "# Dividing the sampled data - training\n",
    "categorical_samples_training = torch.Tensor(processed_data_train[0])\n",
    "continuous_samples_training = torch.Tensor(processed_data_train[1])\n",
    "target_samples_training = torch.Tensor(processed_data_train[2])\n",
    "\n",
    "# Dividing the sampled data - validation\n",
    "categorical_samples_validation = torch.Tensor(processed_data_valid[0])\n",
    "continuous_samples_validation = torch.Tensor(processed_data_valid[1])\n",
    "target_samples_validation = torch.Tensor(processed_data_valid[2])\n",
    "\n",
    "# Dividing the sampled data - testing\n",
    "categorical_samples_testing = torch.Tensor(processed_data_test[0])\n",
    "continuous_samples_testing = torch.Tensor(processed_data_test[1])\n",
    "target_samples_testing = torch.Tensor(processed_data_test[2])"
   ],
   "metadata": {
    "collapsed": false
   }
  },
  {
   "cell_type": "code",
   "execution_count": 27,
   "outputs": [
    {
     "name": "stdout",
     "output_type": "stream",
     "text": [
      "Shape of categorical samples - training:  torch.Size([35338, 24, 69])\n",
      "Shape of continuous samples - training:  torch.Size([35338, 24, 42])\n",
      "Shape of target samples - training:  torch.Size([35338, 24, 14])\n",
      "\n",
      "\n",
      "Shape of categorical samples - validation:  torch.Size([163, 24, 69])\n",
      "Shape of continuous samples - validation:  torch.Size([163, 24, 42])\n",
      "Shape of target samples - validation:  torch.Size([163, 24, 14])\n",
      "\n",
      "\n",
      "Shape of categorical samples - testing:  torch.Size([181, 24, 69])\n",
      "Shape of continuous samples - testing:  torch.Size([181, 24, 42])\n",
      "Shape of target samples - testing:  torch.Size([181, 24, 14])\n"
     ]
    }
   ],
   "source": [
    "print(\"Shape of categorical samples - training: \", categorical_samples_training.shape)\n",
    "print(\"Shape of continuous samples - training: \", continuous_samples_training.shape)\n",
    "print(\"Shape of target samples - training: \", target_samples_training.shape)\n",
    "print(\"\\n\")\n",
    "print(\"Shape of categorical samples - validation: \", categorical_samples_validation.shape)\n",
    "print(\"Shape of continuous samples - validation: \", continuous_samples_validation.shape)\n",
    "print(\"Shape of target samples - validation: \", target_samples_validation.shape)\n",
    "print(\"\\n\")\n",
    "print(\"Shape of categorical samples - testing: \", categorical_samples_testing.shape)\n",
    "print(\"Shape of continuous samples - testing: \", continuous_samples_testing.shape)\n",
    "print(\"Shape of target samples - testing: \", target_samples_testing.shape)"
   ],
   "metadata": {
    "collapsed": false
   }
  },
  {
   "cell_type": "markdown",
   "source": [
    "### CREATING DATALOADER"
   ],
   "metadata": {
    "collapsed": false
   }
  },
  {
   "cell_type": "code",
   "execution_count": 28,
   "outputs": [],
   "source": [
    "BATCH_SIZE = 4"
   ],
   "metadata": {
    "collapsed": false
   }
  },
  {
   "cell_type": "code",
   "execution_count": 29,
   "outputs": [],
   "source": [
    "class TimeSeriesLoader(Dataset):\n",
    "    def __init__(self, categorical, continuous, target):\n",
    "        self.categorical, self.continuous, self.target = categorical, continuous, target\n",
    "\n",
    "    def __len__(self):\n",
    "        return len(self.categorical)\n",
    "\n",
    "    def __getitem__(self, idx):\n",
    "        return self.categorical[idx], self.continuous[idx], self.target[idx]"
   ],
   "metadata": {
    "collapsed": false
   }
  },
  {
   "cell_type": "code",
   "execution_count": 30,
   "outputs": [],
   "source": [
    "train_dataset = TimeSeriesLoader(categorical_samples_training,\n",
    "                                 continuous_samples_training,\n",
    "                                 target_samples_training)\n",
    "\n",
    "valid_dataset = TimeSeriesLoader(categorical_samples_validation,\n",
    "                                 continuous_samples_validation,\n",
    "                                 target_samples_validation)\n",
    "\n",
    "test_dataset = TimeSeriesLoader(categorical_samples_testing,\n",
    "                                continuous_samples_testing,\n",
    "                                target_samples_testing)"
   ],
   "metadata": {
    "collapsed": false
   }
  },
  {
   "cell_type": "code",
   "execution_count": 31,
   "outputs": [],
   "source": [
    "train_dataloader = DataLoader(train_dataset, batch_size=BATCH_SIZE, shuffle=True, drop_last=False)\n",
    "\n",
    "valid_dataloader = DataLoader(valid_dataset, batch_size=BATCH_SIZE, shuffle=False, drop_last=False)\n",
    "\n",
    "test_dataloader = DataLoader(test_dataset, batch_size=BATCH_SIZE, shuffle=False, drop_last=False)"
   ],
   "metadata": {
    "collapsed": false
   }
  },
  {
   "cell_type": "code",
   "execution_count": 32,
   "outputs": [
    {
     "name": "stdout",
     "output_type": "stream",
     "text": [
      "Number of batches in train dataloader:  8835\n",
      "Number of batches in valid dataloader:  41\n",
      "Number of batches in test dataloader:  46\n"
     ]
    }
   ],
   "source": [
    "print(\"Number of batches in train dataloader: \", len(train_dataloader))\n",
    "print(\"Number of batches in valid dataloader: \", len(valid_dataloader))\n",
    "print(\"Number of batches in test dataloader: \", len(test_dataloader))"
   ],
   "metadata": {
    "collapsed": false
   }
  },
  {
   "cell_type": "code",
   "execution_count": 33,
   "outputs": [
    {
     "name": "stdout",
     "output_type": "stream",
     "text": [
      "Shape of categorical variables:  torch.Size([35338, 24, 69])\n",
      "Shape of continuous variables:  torch.Size([35338, 24, 42])\n",
      "Shape of target variables:  torch.Size([35338, 24, 14])\n"
     ]
    }
   ],
   "source": [
    "categorical_var_shape = train_dataloader.dataset.categorical.shape\n",
    "continuous_var_shape = train_dataloader.dataset.continuous.shape\n",
    "target_var_shape = train_dataloader.dataset.target.shape\n",
    "\n",
    "print(\"Shape of categorical variables: \", categorical_var_shape)\n",
    "print(\"Shape of continuous variables: \", continuous_var_shape)\n",
    "print(\"Shape of target variables: \", target_var_shape)"
   ],
   "metadata": {
    "collapsed": false
   }
  },
  {
   "cell_type": "code",
   "execution_count": 34,
   "outputs": [
    {
     "name": "stdout",
     "output_type": "stream",
     "text": [
      "Number of zones:  14\n",
      "Number of features per zone:  3\n"
     ]
    }
   ],
   "source": [
    "# Specifying number of zones and features per zone\n",
    "num_zones = target_var_shape[2]\n",
    "num_zone_features = int(continuous_var_shape[2] / target_var_shape[2])\n",
    "print(\"Number of zones: \", num_zones)\n",
    "print(\"Number of features per zone: \", num_zone_features)"
   ],
   "metadata": {
    "collapsed": false
   }
  },
  {
   "cell_type": "markdown",
   "source": [
    "## DEFINING MODEL ARCHITECTURE"
   ],
   "metadata": {
    "collapsed": false
   }
  },
  {
   "cell_type": "code",
   "execution_count": 35,
   "outputs": [],
   "source": [
    "args = easydict.EasyDict(\n",
    "        {\n",
    "            \"device\": torch.device(\"cuda\")\n",
    "            if torch.cuda.is_available()\n",
    "            else torch.device(\"cpu\"),\n",
    "            \"input_size\": 3,\n",
    "            \"hidden_size\": 2048,\n",
    "            \"latent_size\": 1024,\n",
    "            \"output_size\": 3,\n",
    "            \"learning_rate\": 0.001,\n",
    "            \"max_iter\": 1000,\n",
    "        }\n",
    "    )\n",
    "\n",
    "input_size = args.input_size\n",
    "hidden_size = args.hidden_size\n",
    "latent_size = args.latent_size\n",
    "output_size = args.output_size"
   ],
   "metadata": {
    "collapsed": false
   }
  },
  {
   "cell_type": "code",
   "execution_count": 36,
   "outputs": [],
   "source": [
    "def init_weights(model):\n",
    "    if isinstance(model, nn.Linear):\n",
    "        torch.nn.init.kaiming_uniform_(model.weight, nonlinearity='relu')\n",
    "        model.bias.data.fill_(0.01)\n",
    "\n",
    "def save_checkpoint(model, filename):\n",
    "    torch.save(model.state_dict(), filename)\n",
    "\n",
    "def load_from_checkpoint(model, filename):\n",
    "    model.load_state_dict(torch.load(filename))\n",
    "    return model"
   ],
   "metadata": {
    "collapsed": false
   }
  },
  {
   "cell_type": "code",
   "execution_count": 37,
   "outputs": [],
   "source": [
    "# Define LSTM-based VAE model\n",
    "vae_lstm_1 = VAE_LSTM(input_size, hidden_size, latent_size, output_size, device=args.device).to(args.device).apply(init_weights)\n",
    "vae_lstm_2 = VAE_LSTM(input_size, hidden_size, latent_size, output_size, device=args.device).to(args.device).apply(init_weights)\n",
    "vae_lstm_3 = VAE_LSTM(input_size, hidden_size, latent_size, output_size, device=args.device).to(args.device).apply(init_weights)\n",
    "vae_lstm_4 = VAE_LSTM(input_size, hidden_size, latent_size, output_size, device=args.device).to(args.device).apply(init_weights)\n",
    "vae_lstm_5 = VAE_LSTM(input_size, hidden_size, latent_size, output_size, device=args.device).to(args.device).apply(init_weights)\n",
    "vae_lstm_6 = VAE_LSTM(input_size, hidden_size, latent_size, output_size, device=args.device).to(args.device).apply(init_weights)\n",
    "vae_lstm_7 = VAE_LSTM(input_size, hidden_size, latent_size, output_size, device=args.device).to(args.device).apply(init_weights)\n",
    "vae_lstm_8 = VAE_LSTM(input_size, hidden_size, latent_size, output_size, device=args.device).to(args.device).apply(init_weights)\n",
    "vae_lstm_9 = VAE_LSTM(input_size, hidden_size, latent_size, output_size, device=args.device).to(args.device).apply(init_weights)\n",
    "vae_lstm_10 = VAE_LSTM(input_size, hidden_size, latent_size, output_size, device=args.device).to(args.device).apply(init_weights)\n",
    "vae_lstm_11 = VAE_LSTM(input_size, hidden_size, latent_size, output_size, device=args.device).to(args.device).apply(init_weights)\n",
    "vae_lstm_12 = VAE_LSTM(input_size, hidden_size, latent_size, output_size, device=args.device).to(args.device).apply(init_weights)\n",
    "vae_lstm_13 = VAE_LSTM(input_size, hidden_size, latent_size, output_size, device=args.device).to(args.device).apply(init_weights)\n",
    "vae_lstm_14 = VAE_LSTM(input_size, hidden_size, latent_size, output_size, device=args.device).to(args.device).apply(init_weights)"
   ],
   "metadata": {
    "collapsed": false
   }
  },
  {
   "cell_type": "code",
   "execution_count": 38,
   "outputs": [],
   "source": [
    "# Defining optimizers\n",
    "opt = torch.optim.Adam(list(vae_lstm_1.parameters()) +\n",
    "                       list(vae_lstm_2.parameters()) +\n",
    "                       list(vae_lstm_3.parameters()) +\n",
    "                       list(vae_lstm_4.parameters()) +\n",
    "                       list(vae_lstm_5.parameters()) +\n",
    "                       list(vae_lstm_6.parameters()) +\n",
    "                       list(vae_lstm_7.parameters()) +\n",
    "                       list(vae_lstm_8.parameters()) +\n",
    "                       list(vae_lstm_9.parameters()) +\n",
    "                       list(vae_lstm_10.parameters()) +\n",
    "                       list(vae_lstm_11.parameters()) +\n",
    "                       list(vae_lstm_12.parameters()) +\n",
    "                       list(vae_lstm_13.parameters()) +\n",
    "                       list(vae_lstm_14.parameters()),\n",
    "                       lr=args.learning_rate)"
   ],
   "metadata": {
    "collapsed": false
   }
  },
  {
   "cell_type": "code",
   "execution_count": 39,
   "outputs": [],
   "source": [
    "def train(*models, optimizer, train_loader):\n",
    "\n",
    "    model_1 = models[0]\n",
    "    model_2 = models[1]\n",
    "    model_3 = models[2]\n",
    "    model_4 = models[3]\n",
    "    model_5 = models[4]\n",
    "    model_6 = models[5]\n",
    "    model_7 = models[6]\n",
    "    model_8 = models[7]\n",
    "    model_9 = models[8]\n",
    "    model_10 = models[9]\n",
    "    model_11 = models[10]\n",
    "    model_12 = models[11]\n",
    "    model_13 = models[12]\n",
    "    model_14 = models[13]\n",
    "\n",
    "    model_1.train()\n",
    "    model_2.train()\n",
    "    model_3.train()\n",
    "    model_4.train()\n",
    "    model_5.train()\n",
    "    model_6.train()\n",
    "    model_7.train()\n",
    "    model_8.train()\n",
    "    model_9.train()\n",
    "    model_10.train()\n",
    "    model_11.train()\n",
    "    model_12.train()\n",
    "    model_13.train()\n",
    "    model_14.train()\n",
    "\n",
    "    # Resetting the calculated gradients\n",
    "    optimizer.zero_grad()\n",
    "\n",
    "    train_iterator = tqdm(\n",
    "        enumerate(train_loader), total=len(train_loader), desc=\"training\"\n",
    "    )\n",
    "\n",
    "    for i, (categorical_var, continuous_var, target_var) in train_iterator:\n",
    "\n",
    "        zone_1 = continuous_var[:, :, 0:3].to(device)\n",
    "        zone_2 = continuous_var[:, :, 3:6].to(device)\n",
    "        zone_3 = continuous_var[:, :, 6:9].to(device)\n",
    "        zone_4 = continuous_var[:, :, 9:12].to(device)\n",
    "        zone_5 = continuous_var[:, :, 12:15].to(device)\n",
    "        zone_6 = continuous_var[:, :, 15:18].to(device)\n",
    "        zone_7 = continuous_var[:, :, 18:21].to(device)\n",
    "        zone_8 = continuous_var[:, :, 21:24].to(device)\n",
    "        zone_9 = continuous_var[:, :, 24:27].to(device)\n",
    "        zone_10 = continuous_var[:, :, 27:30].to(device)\n",
    "        zone_11 = continuous_var[:, :, 30:33].to(device)\n",
    "        zone_12 = continuous_var[:, :, 33:36].to(device)\n",
    "        zone_13 = continuous_var[:, :, 36:39].to(device)\n",
    "        zone_14 = continuous_var[:, :, 39:42].to(device)\n",
    "\n",
    "        m_loss_1, recon_x_1, info_1 = model_1(zone_1)\n",
    "        m_loss_2, recon_x_2, info_2 = model_2(zone_2)\n",
    "        m_loss_3, recon_x_3, info_3 = model_3(zone_3)\n",
    "        m_loss_4, recon_x_4, info_4 = model_4(zone_4)\n",
    "        m_loss_5, recon_x_5, info_5 = model_5(zone_5)\n",
    "        m_loss_6, recon_x_6, info_6 = model_6(zone_6)\n",
    "        m_loss_7, recon_x_7, info_7 = model_7(zone_7)\n",
    "        m_loss_8, recon_x_8, info_8 = model_8(zone_8)\n",
    "        m_loss_9, recon_x_9, info_9 = model_9(zone_9)\n",
    "        m_loss_10, recon_x_10, info_10 = model_10(zone_10)\n",
    "        m_loss_11, recon_x_11, info_11 = model_11(zone_11)\n",
    "        m_loss_12, recon_x_12, info_12 = model_12(zone_12)\n",
    "        m_loss_13, recon_x_13, info_13 = model_13(zone_13)\n",
    "        m_loss_14, recon_x_14, info_14 = model_14(zone_14)\n",
    "\n",
    "        # Resetting the calculated gradients\n",
    "        optimizer.zero_grad()\n",
    "\n",
    "        # Calculating the gradients for backprop\n",
    "        m_loss_1.mean().backward()\n",
    "        m_loss_2.mean().backward()\n",
    "        m_loss_3.mean().backward()\n",
    "        m_loss_4.mean().backward()\n",
    "        m_loss_5.mean().backward()\n",
    "        m_loss_6.mean().backward()\n",
    "        m_loss_7.mean().backward()\n",
    "        m_loss_8.mean().backward()\n",
    "        m_loss_9.mean().backward()\n",
    "        m_loss_10.mean().backward()\n",
    "        m_loss_11.mean().backward()\n",
    "        m_loss_12.mean().backward()\n",
    "        m_loss_13.mean().backward()\n",
    "        m_loss_14.mean().backward()\n",
    "\n",
    "        # Performing backprop step\n",
    "        optimizer.step()\n",
    "\n",
    "        train_iterator.set_postfix({\"train_loss_1\": float(m_loss_1.mean()),\n",
    "                                    \"train_loss_2\": float(m_loss_2.mean()),\n",
    "                                    \"train_loss_3\": float(m_loss_3.mean()),\n",
    "                                    \"train_loss_4\": float(m_loss_4.mean()),\n",
    "                                    \"train_loss_5\": float(m_loss_5.mean()),\n",
    "                                    \"train_loss_6\": float(m_loss_6.mean()),\n",
    "                                    \"train_loss_7\": float(m_loss_7.mean()),\n",
    "                                    \"train_loss_8\": float(m_loss_8.mean()),\n",
    "                                    \"train_loss_9\": float(m_loss_9.mean()),\n",
    "                                    \"train_loss_10\": float(m_loss_10.mean()),\n",
    "                                    \"train_loss_11\": float(m_loss_11.mean()),\n",
    "                                    \"train_loss_12\": float(m_loss_12.mean()),\n",
    "                                    \"train_loss_13\": float(m_loss_13.mean()),\n",
    "                                    \"train_loss_14\": float(m_loss_14.mean())})\n",
    "\n",
    "    writer.add_scalar(\"train_loss_1\", float(m_loss_1.mean()), epoch)\n",
    "    writer.add_scalar(\"train_loss_2\", float(m_loss_2.mean()), epoch)\n",
    "    writer.add_scalar(\"train_loss_3\", float(m_loss_3.mean()), epoch)\n",
    "    writer.add_scalar(\"train_loss_4\", float(m_loss_4.mean()), epoch)\n",
    "    writer.add_scalar(\"train_loss_5\", float(m_loss_5.mean()), epoch)\n",
    "    writer.add_scalar(\"train_loss_6\", float(m_loss_6.mean()), epoch)\n",
    "    writer.add_scalar(\"train_loss_7\", float(m_loss_7.mean()), epoch)\n",
    "    writer.add_scalar(\"train_loss_8\", float(m_loss_8.mean()), epoch)\n",
    "    writer.add_scalar(\"train_loss_9\", float(m_loss_9.mean()), epoch)\n",
    "    writer.add_scalar(\"train_loss_10\", float(m_loss_10.mean()), epoch)\n",
    "    writer.add_scalar(\"train_loss_11\", float(m_loss_11.mean()), epoch)\n",
    "    writer.add_scalar(\"train_loss_12\", float(m_loss_12.mean()), epoch)\n",
    "    writer.add_scalar(\"train_loss_13\", float(m_loss_13.mean()), epoch)\n",
    "    writer.add_scalar(\"train_loss_14\", float(m_loss_14.mean()), epoch)\n",
    "\n",
    "    train_loss = (\n",
    "        m_loss_1.mean(),\n",
    "        m_loss_2.mean(),\n",
    "        m_loss_3.mean(),\n",
    "        m_loss_4.mean(),\n",
    "        m_loss_5.mean(),\n",
    "        m_loss_6.mean(),\n",
    "        m_loss_7.mean(),\n",
    "        m_loss_8.mean(),\n",
    "        m_loss_9.mean(),\n",
    "        m_loss_10.mean(),\n",
    "        m_loss_11.mean(),\n",
    "        m_loss_12.mean(),\n",
    "        m_loss_13.mean(),\n",
    "        m_loss_14.mean(),\n",
    "    )\n",
    "\n",
    "    return train_loss, model_1, model_2, model_3, model_4, model_5, model_6, model_7, \\\n",
    "           model_8, model_9, model_10, model_11, model_12, model_13, model_14"
   ],
   "metadata": {
    "collapsed": false
   }
  },
  {
   "cell_type": "code",
   "execution_count": 40,
   "outputs": [],
   "source": [
    "def valid_or_test(*models, data_loader, mode):\n",
    "\n",
    "    model_1 = models[0]\n",
    "    model_2 = models[1]\n",
    "    model_3 = models[2]\n",
    "    model_4 = models[3]\n",
    "    model_5 = models[4]\n",
    "    model_6 = models[5]\n",
    "    model_7 = models[6]\n",
    "    model_8 = models[7]\n",
    "    model_9 = models[8]\n",
    "    model_10 = models[9]\n",
    "    model_11 = models[10]\n",
    "    model_12 = models[11]\n",
    "    model_13 = models[12]\n",
    "    model_14 = models[13]\n",
    "\n",
    "    model_1.eval()\n",
    "    model_2.eval()\n",
    "    model_3.eval()\n",
    "    model_4.eval()\n",
    "    model_5.eval()\n",
    "    model_6.eval()\n",
    "    model_7.eval()\n",
    "    model_8.eval()\n",
    "    model_9.eval()\n",
    "    model_10.eval()\n",
    "    model_11.eval()\n",
    "    model_12.eval()\n",
    "    model_13.eval()\n",
    "    model_14.eval()\n",
    "\n",
    "    eval_loss_1, eval_loss_2, eval_loss_3, eval_loss_4 = 0, 0, 0, 0\n",
    "    eval_loss_5, eval_loss_6, eval_loss_7, eval_loss_8 = 0, 0, 0, 0\n",
    "    eval_loss_9, eval_loss_10, eval_loss_11, eval_loss_12 = 0, 0, 0, 0\n",
    "    eval_loss_13, eval_loss_14 = 0, 0\n",
    "\n",
    "    orig_append_1, pred_append_1 = list(), list()\n",
    "    orig_append_2, pred_append_2 = list(), list()\n",
    "    orig_append_3, pred_append_3 = list(), list()\n",
    "    orig_append_4, pred_append_4 = list(), list()\n",
    "    orig_append_5, pred_append_5 = list(), list()\n",
    "    orig_append_6, pred_append_6 = list(), list()\n",
    "    orig_append_7, pred_append_7 = list(), list()\n",
    "    orig_append_8, pred_append_8 = list(), list()\n",
    "    orig_append_9, pred_append_9 = list(), list()\n",
    "    orig_append_10, pred_append_10 = list(), list()\n",
    "    orig_append_11, pred_append_11 = list(), list()\n",
    "    orig_append_12, pred_append_12 = list(), list()\n",
    "    orig_append_13, pred_append_13 = list(), list()\n",
    "    orig_append_14, pred_append_14 = list(), list()\n",
    "\n",
    "    if mode == \"test\":\n",
    "        valid_or_test_iterator = tqdm(\n",
    "            enumerate(data_loader), total=len(data_loader), desc=\"testing\"\n",
    "        )\n",
    "    else:\n",
    "        valid_or_test_iterator = tqdm(\n",
    "            enumerate(data_loader), total=len(data_loader), desc=\"validation\"\n",
    "        )\n",
    "\n",
    "    with torch.no_grad():\n",
    "        for i, (categorical_var, continuous_var, target_var) in valid_or_test_iterator:\n",
    "\n",
    "            zone_1 = continuous_var[:, :, 0:3].to(device)\n",
    "            zone_2 = continuous_var[:, :, 3:6].to(device)\n",
    "            zone_3 = continuous_var[:, :, 6:9].to(device)\n",
    "            zone_4 = continuous_var[:, :, 9:12].to(device)\n",
    "            zone_5 = continuous_var[:, :, 12:15].to(device)\n",
    "            zone_6 = continuous_var[:, :, 15:18].to(device)\n",
    "            zone_7 = continuous_var[:, :, 18:21].to(device)\n",
    "            zone_8 = continuous_var[:, :, 21:24].to(device)\n",
    "            zone_9 = continuous_var[:, :, 24:27].to(device)\n",
    "            zone_10 = continuous_var[:, :, 27:30].to(device)\n",
    "            zone_11 = continuous_var[:, :, 30:33].to(device)\n",
    "            zone_12 = continuous_var[:, :, 33:36].to(device)\n",
    "            zone_13 = continuous_var[:, :, 36:39].to(device)\n",
    "            zone_14 = continuous_var[:, :, 39:42].to(device)\n",
    "\n",
    "            m_loss_1, recon_x_1, info_1 = model_1(zone_1)\n",
    "            m_loss_2, recon_x_2, info_2 = model_2(zone_2)\n",
    "            m_loss_3, recon_x_3, info_3 = model_3(zone_3)\n",
    "            m_loss_4, recon_x_4, info_4 = model_4(zone_4)\n",
    "            m_loss_5, recon_x_5, info_5 = model_5(zone_5)\n",
    "            m_loss_6, recon_x_6, info_6 = model_6(zone_6)\n",
    "            m_loss_7, recon_x_7, info_7 = model_7(zone_7)\n",
    "            m_loss_8, recon_x_8, info_8 = model_8(zone_8)\n",
    "            m_loss_9, recon_x_9, info_9 = model_9(zone_9)\n",
    "            m_loss_10, recon_x_10, info_10 = model_10(zone_10)\n",
    "            m_loss_11, recon_x_11, info_11 = model_11(zone_11)\n",
    "            m_loss_12, recon_x_12, info_12 = model_12(zone_12)\n",
    "            m_loss_13, recon_x_13, info_13 = model_13(zone_13)\n",
    "            m_loss_14, recon_x_14, info_14 = model_14(zone_14)\n",
    "\n",
    "            eval_loss_1 += m_loss_1.mean().item()\n",
    "            eval_loss_2 += m_loss_2.mean().item()\n",
    "            eval_loss_3 += m_loss_3.mean().item()\n",
    "            eval_loss_4 += m_loss_4.mean().item()\n",
    "            eval_loss_5 += m_loss_5.mean().item()\n",
    "            eval_loss_6 += m_loss_6.mean().item()\n",
    "            eval_loss_7 += m_loss_7.mean().item()\n",
    "            eval_loss_8 += m_loss_8.mean().item()\n",
    "            eval_loss_9 += m_loss_9.mean().item()\n",
    "            eval_loss_10 += m_loss_10.mean().item()\n",
    "            eval_loss_11 += m_loss_11.mean().item()\n",
    "            eval_loss_12 += m_loss_12.mean().item()\n",
    "            eval_loss_13 += m_loss_13.mean().item()\n",
    "            eval_loss_14 += m_loss_14.mean().item()\n",
    "\n",
    "            valid_or_test_iterator.set_postfix({\"eval_loss_1\": float(m_loss_1.mean()),\n",
    "                                                \"eval_loss_2\": float(m_loss_2.mean()),\n",
    "                                                \"eval_loss_3\": float(m_loss_3.mean()),\n",
    "                                                \"eval_loss_4\": float(m_loss_4.mean()),\n",
    "                                                \"eval_loss_5\": float(m_loss_5.mean()),\n",
    "                                                \"eval_loss_6\": float(m_loss_6.mean()),\n",
    "                                                \"eval_loss_7\": float(m_loss_7.mean()),\n",
    "                                                \"eval_loss_8\": float(m_loss_8.mean()),\n",
    "                                                \"eval_loss_9\": float(m_loss_9.mean()),\n",
    "                                                \"eval_loss_10\": float(m_loss_10.mean()),\n",
    "                                                \"eval_loss_11\": float(m_loss_11.mean()),\n",
    "                                                \"eval_loss_12\": float(m_loss_12.mean()),\n",
    "                                                \"eval_loss_13\": float(m_loss_13.mean()),\n",
    "                                                \"eval_loss_14\": float(m_loss_14.mean())})\n",
    "\n",
    "            if mode == \"test\":\n",
    "\n",
    "                orig_data_1 = zone_1.cpu().detach().numpy().reshape(-1, 3)\n",
    "                pred_data_1 = recon_x_1.cpu().detach().numpy().reshape(-1, 3)\n",
    "\n",
    "                orig_data_2 = zone_2.cpu().detach().numpy().reshape(-1, 3)\n",
    "                pred_data_2 = recon_x_2.cpu().detach().numpy().reshape(-1, 3)\n",
    "\n",
    "                orig_data_3 = zone_3.cpu().detach().numpy().reshape(-1, 3)\n",
    "                pred_data_3 = recon_x_3.cpu().detach().numpy().reshape(-1, 3)\n",
    "\n",
    "                orig_data_4 = zone_4.cpu().detach().numpy().reshape(-1, 3)\n",
    "                pred_data_4 = recon_x_4.cpu().detach().numpy().reshape(-1, 3)\n",
    "\n",
    "                orig_data_5 = zone_5.cpu().detach().numpy().reshape(-1, 3)\n",
    "                pred_data_5 = recon_x_5.cpu().detach().numpy().reshape(-1, 3)\n",
    "\n",
    "                orig_data_6 = zone_6.cpu().detach().numpy().reshape(-1, 3)\n",
    "                pred_data_6 = recon_x_6.cpu().detach().numpy().reshape(-1, 3)\n",
    "\n",
    "                orig_data_7 = zone_7.cpu().detach().numpy().reshape(-1, 3)\n",
    "                pred_data_7 = recon_x_7.cpu().detach().numpy().reshape(-1, 3)\n",
    "\n",
    "                orig_data_8 = zone_8.cpu().detach().numpy().reshape(-1, 3)\n",
    "                pred_data_8 = recon_x_8.cpu().detach().numpy().reshape(-1, 3)\n",
    "\n",
    "                orig_data_9 = zone_9.cpu().detach().numpy().reshape(-1, 3)\n",
    "                pred_data_9 = recon_x_9.cpu().detach().numpy().reshape(-1, 3)\n",
    "\n",
    "                orig_data_10 = zone_10.cpu().detach().numpy().reshape(-1, 3)\n",
    "                pred_data_10 = recon_x_10.cpu().detach().numpy().reshape(-1, 3)\n",
    "\n",
    "                orig_data_11 = zone_11.cpu().detach().numpy().reshape(-1, 3)\n",
    "                pred_data_11 = recon_x_11.cpu().detach().numpy().reshape(-1, 3)\n",
    "\n",
    "                orig_data_12 = zone_12.cpu().detach().numpy().reshape(-1, 3)\n",
    "                pred_data_12 = recon_x_12.cpu().detach().numpy().reshape(-1, 3)\n",
    "\n",
    "                orig_data_13 = zone_13.cpu().detach().numpy().reshape(-1, 3)\n",
    "                pred_data_13 = recon_x_13.cpu().detach().numpy().reshape(-1, 3)\n",
    "\n",
    "                orig_data_14 = zone_14.cpu().detach().numpy().reshape(-1, 3)\n",
    "                pred_data_14 = recon_x_14.cpu().detach().numpy().reshape(-1, 3)\n",
    "\n",
    "                orig_append_1.append(orig_data_1)\n",
    "                pred_append_1.append(pred_data_1)\n",
    "\n",
    "                orig_append_2.append(orig_data_2)\n",
    "                pred_append_2.append(pred_data_2)\n",
    "\n",
    "                orig_append_3.append(orig_data_3)\n",
    "                pred_append_3.append(pred_data_3)\n",
    "\n",
    "                orig_append_4.append(orig_data_4)\n",
    "                pred_append_4.append(pred_data_4)\n",
    "\n",
    "                orig_append_5.append(orig_data_5)\n",
    "                pred_append_5.append(pred_data_5)\n",
    "\n",
    "                orig_append_6.append(orig_data_6)\n",
    "                pred_append_6.append(pred_data_6)\n",
    "\n",
    "                orig_append_7.append(orig_data_7)\n",
    "                pred_append_7.append(pred_data_7)\n",
    "\n",
    "                orig_append_8.append(orig_data_8)\n",
    "                pred_append_8.append(pred_data_8)\n",
    "\n",
    "                orig_append_9.append(orig_data_9)\n",
    "                pred_append_9.append(pred_data_9)\n",
    "\n",
    "                orig_append_10.append(orig_data_10)\n",
    "                pred_append_10.append(pred_data_10)\n",
    "\n",
    "                orig_append_11.append(orig_data_11)\n",
    "                pred_append_11.append(pred_data_11)\n",
    "\n",
    "                orig_append_12.append(orig_data_12)\n",
    "                pred_append_12.append(pred_data_12)\n",
    "\n",
    "                orig_append_13.append(orig_data_13)\n",
    "                pred_append_13.append(pred_data_13)\n",
    "\n",
    "                orig_append_14.append(orig_data_14)\n",
    "                pred_append_14.append(pred_data_14)\n",
    "\n",
    "    eval_loss_1 = eval_loss_1 / len(data_loader)\n",
    "    writer.add_scalar(\"eval_loss_1\", float(eval_loss_1))\n",
    "\n",
    "    eval_loss_2 = eval_loss_2 / len(data_loader)\n",
    "    writer.add_scalar(\"eval_loss_2\", float(eval_loss_2))\n",
    "\n",
    "    eval_loss_3 = eval_loss_3 / len(data_loader)\n",
    "    writer.add_scalar(\"eval_loss_3\", float(eval_loss_3))\n",
    "\n",
    "    eval_loss_4 = eval_loss_4 / len(data_loader)\n",
    "    writer.add_scalar(\"eval_loss_4\", float(eval_loss_4))\n",
    "\n",
    "    eval_loss_5 = eval_loss_5 / len(data_loader)\n",
    "    writer.add_scalar(\"eval_loss_5\", float(eval_loss_5))\n",
    "\n",
    "    eval_loss_6 = eval_loss_6 / len(data_loader)\n",
    "    writer.add_scalar(\"eval_loss_6\", float(eval_loss_6))\n",
    "\n",
    "    eval_loss_7 = eval_loss_7 / len(data_loader)\n",
    "    writer.add_scalar(\"eval_loss_7\", float(eval_loss_7))\n",
    "\n",
    "    eval_loss_8 = eval_loss_8 / len(data_loader)\n",
    "    writer.add_scalar(\"eval_loss_8\", float(eval_loss_8))\n",
    "\n",
    "    eval_loss_9 = eval_loss_9 / len(data_loader)\n",
    "    writer.add_scalar(\"eval_loss_9\", float(eval_loss_9))\n",
    "\n",
    "    eval_loss_10 = eval_loss_10 / len(data_loader)\n",
    "    writer.add_scalar(\"eval_loss_10\", float(eval_loss_10))\n",
    "\n",
    "    eval_loss_11 = eval_loss_11 / len(data_loader)\n",
    "    writer.add_scalar(\"eval_loss_11\", float(eval_loss_11))\n",
    "\n",
    "    eval_loss_12 = eval_loss_12 / len(data_loader)\n",
    "    writer.add_scalar(\"eval_loss_12\", float(eval_loss_12))\n",
    "\n",
    "    eval_loss_13 = eval_loss_13 / len(data_loader)\n",
    "    writer.add_scalar(\"eval_loss_13\", float(eval_loss_13))\n",
    "\n",
    "    eval_loss_14 = eval_loss_14 / len(data_loader)\n",
    "    writer.add_scalar(\"eval_loss_14\", float(eval_loss_14))\n",
    "\n",
    "    print(\"Evaluation Score 1 : [{}]\".format(eval_loss_1))\n",
    "    print(\"Evaluation Score 2 : [{}]\".format(eval_loss_2))\n",
    "    print(\"Evaluation Score 3 : [{}]\".format(eval_loss_3))\n",
    "    print(\"Evaluation Score 4 : [{}]\".format(eval_loss_4))\n",
    "    print(\"Evaluation Score 5 : [{}]\".format(eval_loss_5))\n",
    "    print(\"Evaluation Score 6 : [{}]\".format(eval_loss_6))\n",
    "    print(\"Evaluation Score 7 : [{}]\".format(eval_loss_7))\n",
    "    print(\"Evaluation Score 8 : [{}]\".format(eval_loss_8))\n",
    "    print(\"Evaluation Score 9 : [{}]\".format(eval_loss_9))\n",
    "    print(\"Evaluation Score 10 : [{}]\".format(eval_loss_10))\n",
    "    print(\"Evaluation Score 11 : [{}]\".format(eval_loss_11))\n",
    "    print(\"Evaluation Score 12 : [{}]\".format(eval_loss_12))\n",
    "    print(\"Evaluation Score 13 : [{}]\".format(eval_loss_13))\n",
    "    print(\"Evaluation Score 14 : [{}]\".format(eval_loss_14))\n",
    "    print(\"\\n\")\n",
    "\n",
    "    valid_loss = (\n",
    "        eval_loss_1,\n",
    "        eval_loss_2,\n",
    "        eval_loss_3,\n",
    "        eval_loss_4,\n",
    "        eval_loss_5,\n",
    "        eval_loss_6,\n",
    "        eval_loss_7,\n",
    "        eval_loss_8,\n",
    "        eval_loss_9,\n",
    "        eval_loss_10,\n",
    "        eval_loss_11,\n",
    "        eval_loss_12,\n",
    "        eval_loss_13,\n",
    "        eval_loss_14\n",
    "    )\n",
    "\n",
    "    # In test mode, return the true and predicted data for evaluation on hold-out test set\n",
    "    if mode == \"test\":\n",
    "\n",
    "        # Concatenating all the appended data\n",
    "        orig_append_1 = pd.DataFrame(np.concatenate(orig_append_1))\n",
    "        pred_append_1 = pd.DataFrame(np.concatenate(pred_append_1))\n",
    "\n",
    "        orig_append_2 = pd.DataFrame(np.concatenate(orig_append_2))\n",
    "        pred_append_2 = pd.DataFrame(np.concatenate(pred_append_2))\n",
    "\n",
    "        orig_append_3 = pd.DataFrame(np.concatenate(orig_append_3))\n",
    "        pred_append_3 = pd.DataFrame(np.concatenate(pred_append_3))\n",
    "\n",
    "        orig_append_4 = pd.DataFrame(np.concatenate(orig_append_4))\n",
    "        pred_append_4 = pd.DataFrame(np.concatenate(pred_append_4))\n",
    "\n",
    "        orig_append_5 = pd.DataFrame(np.concatenate(orig_append_5))\n",
    "        pred_append_5 = pd.DataFrame(np.concatenate(pred_append_5))\n",
    "\n",
    "        orig_append_6 = pd.DataFrame(np.concatenate(orig_append_6))\n",
    "        pred_append_6 = pd.DataFrame(np.concatenate(pred_append_6))\n",
    "\n",
    "        orig_append_7 = pd.DataFrame(np.concatenate(orig_append_7))\n",
    "        pred_append_7 = pd.DataFrame(np.concatenate(pred_append_7))\n",
    "\n",
    "        orig_append_8 = pd.DataFrame(np.concatenate(orig_append_8))\n",
    "        pred_append_8 = pd.DataFrame(np.concatenate(pred_append_8))\n",
    "\n",
    "        orig_append_9 = pd.DataFrame(np.concatenate(orig_append_9))\n",
    "        pred_append_9 = pd.DataFrame(np.concatenate(pred_append_9))\n",
    "\n",
    "        orig_append_10 = pd.DataFrame(np.concatenate(orig_append_10))\n",
    "        pred_append_10 = pd.DataFrame(np.concatenate(pred_append_10))\n",
    "\n",
    "        orig_append_11 = pd.DataFrame(np.concatenate(orig_append_11))\n",
    "        pred_append_11 = pd.DataFrame(np.concatenate(pred_append_11))\n",
    "\n",
    "        orig_append_12 = pd.DataFrame(np.concatenate(orig_append_12))\n",
    "        pred_append_12 = pd.DataFrame(np.concatenate(pred_append_12))\n",
    "\n",
    "        orig_append_13 = pd.DataFrame(np.concatenate(orig_append_13))\n",
    "        pred_append_13 = pd.DataFrame(np.concatenate(pred_append_13))\n",
    "\n",
    "        orig_append_14 = pd.DataFrame(np.concatenate(orig_append_14))\n",
    "        pred_append_14 = pd.DataFrame(np.concatenate(pred_append_14))\n",
    "\n",
    "        return orig_append_1, pred_append_1, \\\n",
    "               orig_append_2, pred_append_2, \\\n",
    "               orig_append_3, pred_append_3, \\\n",
    "               orig_append_4, pred_append_4, \\\n",
    "               orig_append_5, pred_append_5, \\\n",
    "               orig_append_6, pred_append_6, \\\n",
    "               orig_append_7, pred_append_7, \\\n",
    "               orig_append_8, pred_append_8, \\\n",
    "               orig_append_9, pred_append_9, \\\n",
    "               orig_append_10, pred_append_10, \\\n",
    "               orig_append_11, pred_append_11, \\\n",
    "               orig_append_12, pred_append_12, \\\n",
    "               orig_append_13, pred_append_13, \\\n",
    "               orig_append_14, pred_append_14\n",
    "\n",
    "    # In valid mode, return the validation losses for early stopping\n",
    "    else:\n",
    "        return valid_loss"
   ],
   "metadata": {
    "collapsed": false
   }
  },
  {
   "cell_type": "code",
   "execution_count": 41,
   "outputs": [],
   "source": [
    "# The parameters for early stopping\n",
    "early_stop_patience = 5\n",
    "\n",
    "lowest_loss_1 = np.inf\n",
    "lowest_loss_epoch_1 = -1\n",
    "\n",
    "lowest_loss_2 = np.inf\n",
    "lowest_loss_epoch_2 = -1\n",
    "\n",
    "lowest_loss_3 = np.inf\n",
    "lowest_loss_epoch_3 = -1\n",
    "\n",
    "lowest_loss_4 = np.inf\n",
    "lowest_loss_epoch_4 = -1\n",
    "\n",
    "lowest_loss_5 = np.inf\n",
    "lowest_loss_epoch_5 = -1\n",
    "\n",
    "lowest_loss_6 = np.inf\n",
    "lowest_loss_epoch_6 = -1\n",
    "\n",
    "lowest_loss_7 = np.inf\n",
    "lowest_loss_epoch_7 = -1\n",
    "\n",
    "lowest_loss_8 = np.inf\n",
    "lowest_loss_epoch_8 = -1\n",
    "\n",
    "lowest_loss_9 = np.inf\n",
    "lowest_loss_epoch_9 = -1\n",
    "\n",
    "lowest_loss_10 = np.inf\n",
    "lowest_loss_epoch_10 = -1\n",
    "\n",
    "lowest_loss_11 = np.inf\n",
    "lowest_loss_epoch_11 = -1\n",
    "\n",
    "lowest_loss_12 = np.inf\n",
    "lowest_loss_epoch_12 = -1\n",
    "\n",
    "lowest_loss_13 = np.inf\n",
    "lowest_loss_epoch_13 = -1\n",
    "\n",
    "lowest_loss_14 = np.inf\n",
    "lowest_loss_epoch_14 = -1\n",
    "\n",
    "model_train_flag_1 = False\n",
    "model_train_flag_2 = False\n",
    "model_train_flag_3 = False\n",
    "model_train_flag_4 = False\n",
    "model_train_flag_5 = False\n",
    "model_train_flag_6 = False\n",
    "model_train_flag_7 = False\n",
    "model_train_flag_8 = False\n",
    "model_train_flag_9 = False\n",
    "model_train_flag_10 = False\n",
    "model_train_flag_11 = False\n",
    "model_train_flag_12 = False\n",
    "model_train_flag_13 = False\n",
    "model_train_flag_14 = False"
   ],
   "metadata": {
    "collapsed": false
   }
  },
  {
   "cell_type": "code",
   "execution_count": 42,
   "outputs": [
    {
     "name": "stdout",
     "output_type": "stream",
     "text": [
      "Epoch 1\n"
     ]
    },
    {
     "name": "stderr",
     "output_type": "stream",
     "text": [
      "training: 100%|██████████| 8835/8835 [1:08:41<00:00,  2.14it/s, train_loss_1=0.00114, train_loss_2=0.00918, train_loss_3=0.00165, train_loss_4=0.00199, train_loss_5=0.0022, train_loss_6=0.00151, train_loss_7=0.00504, train_loss_8=0.00593, train_loss_9=0.00819, train_loss_10=0.00565, train_loss_11=0.00912, train_loss_12=0.00587, train_loss_13=0.00947, train_loss_14=0.00476]  \n",
      "validation: 100%|██████████| 41/41 [00:06<00:00,  6.45it/s, eval_loss_1=0.00292, eval_loss_2=0.00838, eval_loss_3=0.00455, eval_loss_4=0.00557, eval_loss_5=0.00208, eval_loss_6=0.0041, eval_loss_7=0.00717, eval_loss_8=0.00884, eval_loss_9=0.00833, eval_loss_10=0.00633, eval_loss_11=0.0087, eval_loss_12=0.00335, eval_loss_13=0.00707, eval_loss_14=0.00751]  \n"
     ]
    },
    {
     "name": "stdout",
     "output_type": "stream",
     "text": [
      "Evaluation Score 1 : [0.0019256514468707327]\n",
      "Evaluation Score 2 : [0.007533039000430485]\n",
      "Evaluation Score 3 : [0.0057488747633902765]\n",
      "Evaluation Score 4 : [0.0038510645830594913]\n",
      "Evaluation Score 5 : [0.00260569555855288]\n",
      "Evaluation Score 6 : [0.003663435419339959]\n",
      "Evaluation Score 7 : [0.008166945300905443]\n",
      "Evaluation Score 8 : [0.007276899828689128]\n",
      "Evaluation Score 9 : [0.006233527961118919]\n",
      "Evaluation Score 10 : [0.0052539158453483404]\n",
      "Evaluation Score 11 : [0.009580010173433438]\n",
      "Evaluation Score 12 : [0.003801222555566488]\n",
      "Evaluation Score 13 : [0.005590258790861543]\n",
      "Evaluation Score 14 : [0.00653816715291724]\n",
      "\n",
      "\n",
      "Epoch 2\n"
     ]
    },
    {
     "name": "stderr",
     "output_type": "stream",
     "text": [
      "training: 100%|██████████| 8835/8835 [1:03:12<00:00,  2.33it/s, train_loss_1=0.000759, train_loss_2=0.00624, train_loss_3=0.00155, train_loss_4=0.00187, train_loss_5=0.00133, train_loss_6=0.000755, train_loss_7=0.00205, train_loss_8=0.00351, train_loss_9=0.00441, train_loss_10=0.00164, train_loss_11=0.00232, train_loss_12=0.00439, train_loss_13=0.00214, train_loss_14=0.00123]   \n",
      "validation: 100%|██████████| 41/41 [00:05<00:00,  7.17it/s, eval_loss_1=0.00123, eval_loss_2=0.003, eval_loss_3=0.00181, eval_loss_4=0.00516, eval_loss_5=0.00141, eval_loss_6=0.000902, eval_loss_7=0.00221, eval_loss_8=0.00461, eval_loss_9=0.00552, eval_loss_10=0.00234, eval_loss_11=0.00419, eval_loss_12=0.00234, eval_loss_13=0.00918, eval_loss_14=0.00164]  \n"
     ]
    },
    {
     "name": "stdout",
     "output_type": "stream",
     "text": [
      "Evaluation Score 1 : [0.0014465322956533693]\n",
      "Evaluation Score 2 : [0.002275392080929766]\n",
      "Evaluation Score 3 : [0.001807630590231317]\n",
      "Evaluation Score 4 : [0.004058482971542128]\n",
      "Evaluation Score 5 : [0.001126762750706204]\n",
      "Evaluation Score 6 : [0.0005733040480863121]\n",
      "Evaluation Score 7 : [0.001994290479981318]\n",
      "Evaluation Score 8 : [0.0034135340133727324]\n",
      "Evaluation Score 9 : [0.005941538787560492]\n",
      "Evaluation Score 10 : [0.001889791612218066]\n",
      "Evaluation Score 11 : [0.002628365014793306]\n",
      "Evaluation Score 12 : [0.0028298738605638104]\n",
      "Evaluation Score 13 : [0.008472644042496274]\n",
      "Evaluation Score 14 : [0.0016142368776632882]\n",
      "\n",
      "\n",
      "Epoch 3\n"
     ]
    },
    {
     "name": "stderr",
     "output_type": "stream",
     "text": [
      "training: 100%|██████████| 8835/8835 [1:02:04<00:00,  2.37it/s, train_loss_1=0.000879, train_loss_2=0.00257, train_loss_3=0.00188, train_loss_4=0.00125, train_loss_5=0.00135, train_loss_6=0.00056, train_loss_7=0.00213, train_loss_8=0.00169, train_loss_9=0.00171, train_loss_10=0.000387, train_loss_11=0.00178, train_loss_12=0.00118, train_loss_13=0.00181, train_loss_14=0.0015]       \n",
      "validation: 100%|██████████| 41/41 [00:05<00:00,  7.63it/s, eval_loss_1=0.00156, eval_loss_2=0.00331, eval_loss_3=0.00385, eval_loss_4=0.00184, eval_loss_5=0.00117, eval_loss_6=0.000686, eval_loss_7=0.00266, eval_loss_8=0.00152, eval_loss_9=0.00157, eval_loss_10=0.000991, eval_loss_11=0.00433, eval_loss_12=0.0015, eval_loss_13=0.00232, eval_loss_14=0.00269] \n"
     ]
    },
    {
     "name": "stdout",
     "output_type": "stream",
     "text": [
      "Evaluation Score 1 : [0.0012650034623220563]\n",
      "Evaluation Score 2 : [0.0031137460524716027]\n",
      "Evaluation Score 3 : [0.0044828461165108335]\n",
      "Evaluation Score 4 : [0.0016231076229681692]\n",
      "Evaluation Score 5 : [0.0011230883850125459]\n",
      "Evaluation Score 6 : [0.0006361172680754396]\n",
      "Evaluation Score 7 : [0.002674418325513238]\n",
      "Evaluation Score 8 : [0.0016744327277126835]\n",
      "Evaluation Score 9 : [0.0016241195503758584]\n",
      "Evaluation Score 10 : [0.0012490929064636186]\n",
      "Evaluation Score 11 : [0.00269954298656979]\n",
      "Evaluation Score 12 : [0.0018874317487111178]\n",
      "Evaluation Score 13 : [0.0036280375462388846]\n",
      "Evaluation Score 14 : [0.0032284239977143888]\n",
      "\n",
      "\n",
      "Epoch 4\n"
     ]
    },
    {
     "name": "stderr",
     "output_type": "stream",
     "text": [
      "training: 100%|██████████| 8835/8835 [1:02:05<00:00,  2.37it/s, train_loss_1=0.000484, train_loss_2=0.00232, train_loss_3=0.00116, train_loss_4=0.00137, train_loss_5=0.00066, train_loss_6=0.000538, train_loss_7=0.00114, train_loss_8=0.00101, train_loss_9=0.00334, train_loss_10=0.000695, train_loss_11=0.00383, train_loss_12=0.000908, train_loss_13=0.000723, train_loss_14=0.000903]     \n",
      "validation: 100%|██████████| 41/41 [00:05<00:00,  7.19it/s, eval_loss_1=0.000755, eval_loss_2=0.00105, eval_loss_3=0.000557, eval_loss_4=0.000967, eval_loss_5=0.000928, eval_loss_6=0.000476, eval_loss_7=0.00109, eval_loss_8=0.0013, eval_loss_9=0.00142, eval_loss_10=0.000543, eval_loss_11=0.00284, eval_loss_12=0.00113, eval_loss_13=0.00249, eval_loss_14=0.00128]  \n"
     ]
    },
    {
     "name": "stdout",
     "output_type": "stream",
     "text": [
      "Evaluation Score 1 : [0.0006208761457478764]\n",
      "Evaluation Score 2 : [0.0012647094256131024]\n",
      "Evaluation Score 3 : [0.0007445616775374041]\n",
      "Evaluation Score 4 : [0.0008315347027169858]\n",
      "Evaluation Score 5 : [0.0006694533200593801]\n",
      "Evaluation Score 6 : [0.0003867619621238058]\n",
      "Evaluation Score 7 : [0.0011468689502557603]\n",
      "Evaluation Score 8 : [0.0012674333879769575]\n",
      "Evaluation Score 9 : [0.0012069750582890176]\n",
      "Evaluation Score 10 : [0.0004945849636342468]\n",
      "Evaluation Score 11 : [0.0027283234124230904]\n",
      "Evaluation Score 12 : [0.0013609842834539894]\n",
      "Evaluation Score 13 : [0.003138177659044542]\n",
      "Evaluation Score 14 : [0.001175276256484411]\n",
      "\n",
      "\n",
      "Epoch 5\n"
     ]
    },
    {
     "name": "stderr",
     "output_type": "stream",
     "text": [
      "training: 100%|██████████| 8835/8835 [1:02:04<00:00,  2.37it/s, train_loss_1=0.000644, train_loss_2=0.00103, train_loss_3=0.00135, train_loss_4=0.00129, train_loss_5=0.00094, train_loss_6=0.00125, train_loss_7=0.00178, train_loss_8=0.00137, train_loss_9=0.00303, train_loss_10=0.000219, train_loss_11=0.000966, train_loss_12=0.00153, train_loss_13=0.000761, train_loss_14=0.00311]        \n",
      "validation: 100%|██████████| 41/41 [00:05<00:00,  7.54it/s, eval_loss_1=0.000357, eval_loss_2=0.00116, eval_loss_3=0.0036, eval_loss_4=0.00059, eval_loss_5=0.000696, eval_loss_6=0.0023, eval_loss_7=0.00241, eval_loss_8=0.00241, eval_loss_9=0.00284, eval_loss_10=0.000222, eval_loss_11=0.000983, eval_loss_12=0.00208, eval_loss_13=0.0005, eval_loss_14=0.00638]     \n"
     ]
    },
    {
     "name": "stdout",
     "output_type": "stream",
     "text": [
      "Evaluation Score 1 : [0.00027890133290983194]\n",
      "Evaluation Score 2 : [0.0012568593658393295]\n",
      "Evaluation Score 3 : [0.0035305570742887693]\n",
      "Evaluation Score 4 : [0.00048583427162999967]\n",
      "Evaluation Score 5 : [0.000652045856951168]\n",
      "Evaluation Score 6 : [0.0022909058451016503]\n",
      "Evaluation Score 7 : [0.0020884323109895356]\n",
      "Evaluation Score 8 : [0.002366434447694479]\n",
      "Evaluation Score 9 : [0.002587898855847193]\n",
      "Evaluation Score 10 : [0.00022087097821030312]\n",
      "Evaluation Score 11 : [0.0007594394264742732]\n",
      "Evaluation Score 12 : [0.0017473164877695282]\n",
      "Evaluation Score 13 : [0.0007425582699375454]\n",
      "Evaluation Score 14 : [0.0061525872158931525]\n",
      "\n",
      "\n",
      "Epoch 6\n"
     ]
    },
    {
     "name": "stderr",
     "output_type": "stream",
     "text": [
      "training: 100%|██████████| 8835/8835 [1:08:05<00:00,  2.16it/s, train_loss_1=9.65e-5, train_loss_2=0.0016, train_loss_3=0.000794, train_loss_4=0.00036, train_loss_5=0.0152, train_loss_6=0.00189, train_loss_7=0.00305, train_loss_8=0.00087, train_loss_9=0.00143, train_loss_10=0.000559, train_loss_11=0.00235, train_loss_12=0.0024, train_loss_13=0.00123, train_loss_14=0.000368]            \n",
      "validation: 100%|██████████| 41/41 [00:05<00:00,  7.39it/s, eval_loss_1=0.000212, eval_loss_2=0.00345, eval_loss_3=0.00182, eval_loss_4=0.000813, eval_loss_5=0.0114, eval_loss_6=0.000468, eval_loss_7=0.00152, eval_loss_8=0.00152, eval_loss_9=0.00117, eval_loss_10=0.000731, eval_loss_11=0.000648, eval_loss_12=0.00124, eval_loss_13=0.00167, eval_loss_14=0.000923]  \n"
     ]
    },
    {
     "name": "stdout",
     "output_type": "stream",
     "text": [
      "Evaluation Score 1 : [0.0002224987845515787]\n",
      "Evaluation Score 2 : [0.0035731530373507158]\n",
      "Evaluation Score 3 : [0.0021481720571656054]\n",
      "Evaluation Score 4 : [0.0007161262598479303]\n",
      "Evaluation Score 5 : [0.01175294141853001]\n",
      "Evaluation Score 6 : [0.0004430595805255196]\n",
      "Evaluation Score 7 : [0.0018324302395851147]\n",
      "Evaluation Score 8 : [0.0014257981475987813]\n",
      "Evaluation Score 9 : [0.0009188561873487765]\n",
      "Evaluation Score 10 : [0.0006012831532067006]\n",
      "Evaluation Score 11 : [0.0005936054278608048]\n",
      "Evaluation Score 12 : [0.0010653114636292363]\n",
      "Evaluation Score 13 : [0.0014395455861032555]\n",
      "Evaluation Score 14 : [0.0007766886619941854]\n",
      "\n",
      "\n",
      "Epoch 7\n"
     ]
    },
    {
     "name": "stderr",
     "output_type": "stream",
     "text": [
      "training: 100%|██████████| 8835/8835 [1:01:59<00:00,  2.38it/s, train_loss_1=8.71e-5, train_loss_2=0.00241, train_loss_3=0.000477, train_loss_4=0.000239, train_loss_5=0.000429, train_loss_6=0.000407, train_loss_7=0.000633, train_loss_8=0.000316, train_loss_9=0.00225, train_loss_10=0.000408, train_loss_11=0.000824, train_loss_12=0.000485, train_loss_13=0.000772, train_loss_14=0.00161]  \n",
      "validation: 100%|██████████| 41/41 [00:05<00:00,  7.39it/s, eval_loss_1=0.000282, eval_loss_2=0.00165, eval_loss_3=0.000864, eval_loss_4=0.000429, eval_loss_5=0.000635, eval_loss_6=0.000389, eval_loss_7=0.00101, eval_loss_8=0.00063, eval_loss_9=0.00152, eval_loss_10=0.000615, eval_loss_11=0.00076, eval_loss_12=0.000535, eval_loss_13=0.00101, eval_loss_14=0.0033]     \n"
     ]
    },
    {
     "name": "stdout",
     "output_type": "stream",
     "text": [
      "Evaluation Score 1 : [0.00018574661190519338]\n",
      "Evaluation Score 2 : [0.0017675079104331572]\n",
      "Evaluation Score 3 : [0.0008276328316707982]\n",
      "Evaluation Score 4 : [0.0003331923965938253]\n",
      "Evaluation Score 5 : [0.0006423398948887862]\n",
      "Evaluation Score 6 : [0.00031396881116429207]\n",
      "Evaluation Score 7 : [0.0009104546071484503]\n",
      "Evaluation Score 8 : [0.0006045052709296437]\n",
      "Evaluation Score 9 : [0.0014897221074689452]\n",
      "Evaluation Score 10 : [0.00035718442530019163]\n",
      "Evaluation Score 11 : [0.0008292563036708842]\n",
      "Evaluation Score 12 : [0.0005234790271681892]\n",
      "Evaluation Score 13 : [0.001357265857400418]\n",
      "Evaluation Score 14 : [0.0034288614874751103]\n",
      "\n",
      "\n",
      "Epoch 8\n"
     ]
    },
    {
     "name": "stderr",
     "output_type": "stream",
     "text": [
      "training: 100%|██████████| 8835/8835 [1:00:30<00:00,  2.43it/s, train_loss_1=0.000198, train_loss_2=0.00173, train_loss_3=0.0011, train_loss_4=0.000294, train_loss_5=0.000363, train_loss_6=0.00025, train_loss_7=0.00123, train_loss_8=0.00122, train_loss_9=0.000556, train_loss_10=0.000508, train_loss_11=0.0011, train_loss_12=0.000425, train_loss_13=0.000567, train_loss_14=0.000405]      \n",
      "validation: 100%|██████████| 41/41 [00:05<00:00,  8.07it/s, eval_loss_1=0.000382, eval_loss_2=0.00122, eval_loss_3=0.0012, eval_loss_4=0.000477, eval_loss_5=0.000429, eval_loss_6=0.000723, eval_loss_7=0.00132, eval_loss_8=0.00143, eval_loss_9=0.000561, eval_loss_10=0.000381, eval_loss_11=0.00454, eval_loss_12=0.000504, eval_loss_13=0.00108, eval_loss_14=0.000901]  \n"
     ]
    },
    {
     "name": "stdout",
     "output_type": "stream",
     "text": [
      "Evaluation Score 1 : [0.00029410629301820316]\n",
      "Evaluation Score 2 : [0.001280706770513661]\n",
      "Evaluation Score 3 : [0.0013166584029066853]\n",
      "Evaluation Score 4 : [0.0003639318413816665]\n",
      "Evaluation Score 5 : [0.0004035749926271553]\n",
      "Evaluation Score 6 : [0.000653837501531376]\n",
      "Evaluation Score 7 : [0.000999812769317409]\n",
      "Evaluation Score 8 : [0.0013990183162116787]\n",
      "Evaluation Score 9 : [0.0006425489668688941]\n",
      "Evaluation Score 10 : [0.00030700508725159327]\n",
      "Evaluation Score 11 : [0.005180121217740745]\n",
      "Evaluation Score 12 : [0.0005221591159281116]\n",
      "Evaluation Score 13 : [0.0011624759332867476]\n",
      "Evaluation Score 14 : [0.001073778347146311]\n",
      "\n",
      "\n",
      "Epoch 9\n"
     ]
    },
    {
     "name": "stderr",
     "output_type": "stream",
     "text": [
      "training: 100%|██████████| 8835/8835 [1:03:16<00:00,  2.33it/s, train_loss_1=0.000256, train_loss_2=0.000791, train_loss_3=0.00074, train_loss_4=0.000873, train_loss_5=0.000987, train_loss_6=0.00211, train_loss_7=0.000587, train_loss_8=0.00154, train_loss_9=0.00112, train_loss_10=0.000404, train_loss_11=0.000897, train_loss_12=0.000301, train_loss_13=0.000537, train_loss_14=0.00132]    \n",
      "validation: 100%|██████████| 41/41 [00:05<00:00,  7.41it/s, eval_loss_1=0.000416, eval_loss_2=0.000507, eval_loss_3=0.000577, eval_loss_4=0.00138, eval_loss_5=0.000937, eval_loss_6=0.00173, eval_loss_7=0.00234, eval_loss_8=0.000589, eval_loss_9=0.00265, eval_loss_10=0.000466, eval_loss_11=0.000725, eval_loss_12=0.000514, eval_loss_13=0.000443, eval_loss_14=0.00119]\n"
     ]
    },
    {
     "name": "stdout",
     "output_type": "stream",
     "text": [
      "Evaluation Score 1 : [0.00027973007051580837]\n",
      "Evaluation Score 2 : [0.0005438892148071673]\n",
      "Evaluation Score 3 : [0.0006419281814554025]\n",
      "Evaluation Score 4 : [0.00099546475074731]\n",
      "Evaluation Score 5 : [0.0012046355717224863]\n",
      "Evaluation Score 6 : [0.0019702105896502006]\n",
      "Evaluation Score 7 : [0.0022825490024576825]\n",
      "Evaluation Score 8 : [0.0006490797017382957]\n",
      "Evaluation Score 9 : [0.0023840839900757843]\n",
      "Evaluation Score 10 : [0.0006463069805205323]\n",
      "Evaluation Score 11 : [0.0006384709267877042]\n",
      "Evaluation Score 12 : [0.00041768959831310116]\n",
      "Evaluation Score 13 : [0.0005862260863423439]\n",
      "Evaluation Score 14 : [0.001074477635528438]\n",
      "\n",
      "\n",
      "Epoch 10\n"
     ]
    },
    {
     "name": "stderr",
     "output_type": "stream",
     "text": [
      "training: 100%|██████████| 8835/8835 [55:52<00:00,  2.64it/s, train_loss_1=0.000154, train_loss_2=0.00182, train_loss_3=0.00549, train_loss_4=0.000226, train_loss_5=0.000316, train_loss_6=0.000145, train_loss_7=0.00203, train_loss_8=0.00415, train_loss_9=0.0108, train_loss_10=0.000242, train_loss_11=0.00119, train_loss_12=0.000759, train_loss_13=0.00187, train_loss_14=0.00265]         \n",
      "validation: 100%|██████████| 41/41 [00:04<00:00,  9.49it/s, eval_loss_1=0.000312, eval_loss_2=0.00127, eval_loss_3=0.00597, eval_loss_4=0.000496, eval_loss_5=0.000315, eval_loss_6=0.00034, eval_loss_7=0.00132, eval_loss_8=0.00221, eval_loss_9=0.00555, eval_loss_10=0.000913, eval_loss_11=0.00061, eval_loss_12=0.000487, eval_loss_13=0.00139, eval_loss_14=0.00174]   \n"
     ]
    },
    {
     "name": "stdout",
     "output_type": "stream",
     "text": [
      "Evaluation Score 1 : [0.00034174205779336484]\n",
      "Evaluation Score 2 : [0.0011547690913331036]\n",
      "Evaluation Score 3 : [0.005418702880511197]\n",
      "Evaluation Score 4 : [0.0005246342689355426]\n",
      "Evaluation Score 5 : [0.0003247834438963498]\n",
      "Evaluation Score 6 : [0.00027135201472868554]\n",
      "Evaluation Score 7 : [0.0013388496136474536]\n",
      "Evaluation Score 8 : [0.0016498111483709114]\n",
      "Evaluation Score 9 : [0.004686557233515309]\n",
      "Evaluation Score 10 : [0.0006876313539290028]\n",
      "Evaluation Score 11 : [0.0006720604085386163]\n",
      "Evaluation Score 12 : [0.00038368721413085374]\n",
      "Evaluation Score 13 : [0.0012360286739904705]\n",
      "Evaluation Score 14 : [0.001601054157107705]\n",
      "\n",
      "\n",
      "Epoch 11\n"
     ]
    },
    {
     "name": "stderr",
     "output_type": "stream",
     "text": [
      "training: 100%|██████████| 8835/8835 [53:27<00:00,  2.75it/s, train_loss_1=7.92e-5, train_loss_2=0.000686, train_loss_3=0.00128, train_loss_4=0.000171, train_loss_5=0.000508, train_loss_6=0.000353, train_loss_7=0.000675, train_loss_8=0.000872, train_loss_9=0.000712, train_loss_10=0.000347, train_loss_11=0.00141, train_loss_12=0.000798, train_loss_13=0.000546, train_loss_14=0.000368]   \n",
      "validation: 100%|██████████| 41/41 [00:04<00:00,  9.51it/s, eval_loss_1=0.000457, eval_loss_2=0.000653, eval_loss_3=0.00116, eval_loss_4=0.000712, eval_loss_5=0.000403, eval_loss_6=0.000175, eval_loss_7=0.00199, eval_loss_8=0.000678, eval_loss_9=0.00143, eval_loss_10=0.000888, eval_loss_11=0.00088, eval_loss_12=0.00069, eval_loss_13=0.000522, eval_loss_14=0.000392]  \n"
     ]
    },
    {
     "name": "stdout",
     "output_type": "stream",
     "text": [
      "Evaluation Score 1 : [0.000250530047640318]\n",
      "Evaluation Score 2 : [0.0007873366547112422]\n",
      "Evaluation Score 3 : [0.0013247706938716696]\n",
      "Evaluation Score 4 : [0.0004716758075363298]\n",
      "Evaluation Score 5 : [0.00037012382257139173]\n",
      "Evaluation Score 6 : [0.00015807501767994836]\n",
      "Evaluation Score 7 : [0.0019849987286029427]\n",
      "Evaluation Score 8 : [0.0005100241268803252]\n",
      "Evaluation Score 9 : [0.0014161157986807933]\n",
      "Evaluation Score 10 : [0.000654322015712174]\n",
      "Evaluation Score 11 : [0.0007470040283983619]\n",
      "Evaluation Score 12 : [0.0006344234684436787]\n",
      "Evaluation Score 13 : [0.0006967577685761015]\n",
      "Evaluation Score 14 : [0.00023365640982974138]\n",
      "\n",
      "\n",
      "Individual model 10 stopped training early at epoch 10\n",
      "Epoch 12\n"
     ]
    },
    {
     "name": "stderr",
     "output_type": "stream",
     "text": [
      "training: 100%|██████████| 8835/8835 [52:54<00:00,  2.78it/s, train_loss_1=0.000781, train_loss_2=0.00145, train_loss_3=0.000258, train_loss_4=0.000746, train_loss_5=0.000446, train_loss_6=0.000255, train_loss_7=0.00061, train_loss_8=0.000198, train_loss_9=0.000414, train_loss_10=0.000928, train_loss_11=0.000939, train_loss_12=0.000421, train_loss_13=0.00116, train_loss_14=0.000711]   \n",
      "validation: 100%|██████████| 41/41 [00:04<00:00,  9.46it/s, eval_loss_1=0.00022, eval_loss_2=0.00108, eval_loss_3=0.00065, eval_loss_4=0.000488, eval_loss_5=0.000653, eval_loss_6=0.000164, eval_loss_7=0.000496, eval_loss_8=0.000766, eval_loss_9=0.000663, eval_loss_10=0.000602, eval_loss_11=0.000302, eval_loss_12=0.00029, eval_loss_13=0.00248, eval_loss_14=0.000701]    \n"
     ]
    },
    {
     "name": "stdout",
     "output_type": "stream",
     "text": [
      "Evaluation Score 1 : [0.00029025923761698166]\n",
      "Evaluation Score 2 : [0.0011393559497508516]\n",
      "Evaluation Score 3 : [0.0006161677159891441]\n",
      "Evaluation Score 4 : [0.0005219966278229727]\n",
      "Evaluation Score 5 : [0.0007104380900982949]\n",
      "Evaluation Score 6 : [0.00016226020723967473]\n",
      "Evaluation Score 7 : [0.000479251791569745]\n",
      "Evaluation Score 8 : [0.0006153392470612122]\n",
      "Evaluation Score 9 : [0.000400471512409972]\n",
      "Evaluation Score 10 : [0.000615939881976285]\n",
      "Evaluation Score 11 : [0.00030590886592285753]\n",
      "Evaluation Score 12 : [0.0002712399344578976]\n",
      "Evaluation Score 13 : [0.0026776749617988017]\n",
      "Evaluation Score 14 : [0.0006456578096443015]\n",
      "\n",
      "\n",
      "Epoch 13\n"
     ]
    },
    {
     "name": "stderr",
     "output_type": "stream",
     "text": [
      "training: 100%|██████████| 8835/8835 [53:33<00:00,  2.75it/s, train_loss_1=0.000278, train_loss_2=0.000769, train_loss_3=0.00122, train_loss_4=0.000191, train_loss_5=0.000467, train_loss_6=0.000613, train_loss_7=0.000444, train_loss_8=0.000525, train_loss_9=0.000398, train_loss_10=0.000474, train_loss_11=0.00344, train_loss_12=0.00228, train_loss_13=0.00129, train_loss_14=0.000356]    \n",
      "validation: 100%|██████████| 41/41 [00:04<00:00,  9.48it/s, eval_loss_1=0.000304, eval_loss_2=0.000739, eval_loss_3=0.00189, eval_loss_4=0.000279, eval_loss_5=0.000388, eval_loss_6=0.000312, eval_loss_7=0.00156, eval_loss_8=0.000569, eval_loss_9=0.000439, eval_loss_10=0.000557, eval_loss_11=0.000476, eval_loss_12=0.000647, eval_loss_13=0.000244, eval_loss_14=0.00103] \n"
     ]
    },
    {
     "name": "stdout",
     "output_type": "stream",
     "text": [
      "Evaluation Score 1 : [0.00021806173133039164]\n",
      "Evaluation Score 2 : [0.0006543983209866849]\n",
      "Evaluation Score 3 : [0.0021005330533470684]\n",
      "Evaluation Score 4 : [0.0002485492576208965]\n",
      "Evaluation Score 5 : [0.0004034466969087811]\n",
      "Evaluation Score 6 : [0.0002585945098317319]\n",
      "Evaluation Score 7 : [0.001308765833084358]\n",
      "Evaluation Score 8 : [0.0004488335277817053]\n",
      "Evaluation Score 9 : [0.00039213622931572723]\n",
      "Evaluation Score 10 : [0.0005354484218093226]\n",
      "Evaluation Score 11 : [0.0004195878672606607]\n",
      "Evaluation Score 12 : [0.000514750596044994]\n",
      "Evaluation Score 13 : [0.00040771402404416444]\n",
      "Evaluation Score 14 : [0.0009700128802938796]\n",
      "\n",
      "\n",
      "Individual model 1 stopped training early at epoch 12\n",
      "Epoch 14\n"
     ]
    },
    {
     "name": "stderr",
     "output_type": "stream",
     "text": [
      "training: 100%|██████████| 8835/8835 [52:54<00:00,  2.78it/s, train_loss_1=0.000364, train_loss_2=0.000951, train_loss_3=0.000195, train_loss_4=0.000136, train_loss_5=0.000734, train_loss_6=0.000196, train_loss_7=0.000349, train_loss_8=0.000305, train_loss_9=0.000726, train_loss_10=0.000233, train_loss_11=0.000662, train_loss_12=0.00026, train_loss_13=0.000418, train_loss_14=0.000198] \n",
      "validation: 100%|██████████| 41/41 [00:04<00:00,  9.44it/s, eval_loss_1=0.000885, eval_loss_2=0.00191, eval_loss_3=0.00024, eval_loss_4=0.000442, eval_loss_5=0.00136, eval_loss_6=0.000174, eval_loss_7=0.000423, eval_loss_8=0.000366, eval_loss_9=0.000295, eval_loss_10=0.000415, eval_loss_11=0.000268, eval_loss_12=0.000255, eval_loss_13=0.00257, eval_loss_14=0.000198] \n"
     ]
    },
    {
     "name": "stdout",
     "output_type": "stream",
     "text": [
      "Evaluation Score 1 : [0.0011163410409807976]\n",
      "Evaluation Score 2 : [0.0019664561813242916]\n",
      "Evaluation Score 3 : [0.000286625611607167]\n",
      "Evaluation Score 4 : [0.00029536269970022416]\n",
      "Evaluation Score 5 : [0.0012729764836499605]\n",
      "Evaluation Score 6 : [0.000152261370137084]\n",
      "Evaluation Score 7 : [0.0005280579654670252]\n",
      "Evaluation Score 8 : [0.000322047795279792]\n",
      "Evaluation Score 9 : [0.00034042724327286477]\n",
      "Evaluation Score 10 : [0.0002671425318112597]\n",
      "Evaluation Score 11 : [0.000389597903249967]\n",
      "Evaluation Score 12 : [0.00027572996978273204]\n",
      "Evaluation Score 13 : [0.003460594600566277]\n",
      "Evaluation Score 14 : [0.0001559594859760936]\n",
      "\n",
      "\n",
      "Epoch 15\n"
     ]
    },
    {
     "name": "stderr",
     "output_type": "stream",
     "text": [
      "training: 100%|██████████| 8835/8835 [1:02:59<00:00,  2.34it/s, train_loss_1=7.88e-5, train_loss_2=0.000297, train_loss_3=0.00111, train_loss_4=0.000154, train_loss_5=0.000301, train_loss_6=0.000362, train_loss_7=0.000966, train_loss_8=0.000895, train_loss_9=0.00109, train_loss_10=0.000129, train_loss_11=0.000356, train_loss_12=0.000189, train_loss_13=0.000506, train_loss_14=0.000236]   \n",
      "validation: 100%|██████████| 41/41 [00:05<00:00,  7.44it/s, eval_loss_1=0.000157, eval_loss_2=0.00203, eval_loss_3=0.00139, eval_loss_4=0.000229, eval_loss_5=0.000269, eval_loss_6=0.000347, eval_loss_7=0.00367, eval_loss_8=0.00108, eval_loss_9=0.00113, eval_loss_10=0.000123, eval_loss_11=0.00267, eval_loss_12=0.000351, eval_loss_13=0.000242, eval_loss_14=0.000235] \n"
     ]
    },
    {
     "name": "stdout",
     "output_type": "stream",
     "text": [
      "Evaluation Score 1 : [0.00014620136683267293]\n",
      "Evaluation Score 2 : [0.0019184252922991064]\n",
      "Evaluation Score 3 : [0.0014828953483119244]\n",
      "Evaluation Score 4 : [0.00017930214025687835]\n",
      "Evaluation Score 5 : [0.0002932093165127742]\n",
      "Evaluation Score 6 : [0.00029454586840030263]\n",
      "Evaluation Score 7 : [0.003799331584581878]\n",
      "Evaluation Score 8 : [0.000772164468710288]\n",
      "Evaluation Score 9 : [0.0013119403355209747]\n",
      "Evaluation Score 10 : [0.00010266581801527248]\n",
      "Evaluation Score 11 : [0.0028054424413911454]\n",
      "Evaluation Score 12 : [0.00032538647952251045]\n",
      "Evaluation Score 13 : [0.0004082387579440298]\n",
      "Evaluation Score 14 : [0.0002189669296679246]\n",
      "\n",
      "\n",
      "Individual model 2 stopped training early at epoch 14\n",
      "Epoch 16\n"
     ]
    },
    {
     "name": "stderr",
     "output_type": "stream",
     "text": [
      "training: 100%|██████████| 8835/8835 [1:02:39<00:00,  2.35it/s, train_loss_1=0.00032, train_loss_2=0.00154, train_loss_3=0.000721, train_loss_4=0.000126, train_loss_5=0.000923, train_loss_6=0.000252, train_loss_7=0.00132, train_loss_8=0.000712, train_loss_9=0.000957, train_loss_10=0.000162, train_loss_11=0.00234, train_loss_12=0.00349, train_loss_13=0.00017, train_loss_14=0.000755]      \n",
      "validation: 100%|██████████| 41/41 [00:04<00:00,  9.50it/s, eval_loss_1=0.000586, eval_loss_2=0.000351, eval_loss_3=0.000392, eval_loss_4=0.000361, eval_loss_5=0.000934, eval_loss_6=0.000432, eval_loss_7=0.000773, eval_loss_8=0.000179, eval_loss_9=0.00121, eval_loss_10=0.000549, eval_loss_11=0.000739, eval_loss_12=0.00183, eval_loss_13=0.000328, eval_loss_14=0.00107]\n"
     ]
    },
    {
     "name": "stdout",
     "output_type": "stream",
     "text": [
      "Evaluation Score 1 : [0.0007194245784975043]\n",
      "Evaluation Score 2 : [0.0005390991750684362]\n",
      "Evaluation Score 3 : [0.00046265932302581283]\n",
      "Evaluation Score 4 : [0.00035688630589170427]\n",
      "Evaluation Score 5 : [0.0007522471899325709]\n",
      "Evaluation Score 6 : [0.0004155581494759223]\n",
      "Evaluation Score 7 : [0.0007365464755311245]\n",
      "Evaluation Score 8 : [0.00019780923321377486]\n",
      "Evaluation Score 9 : [0.001059055123932478]\n",
      "Evaluation Score 10 : [0.00039956334938590483]\n",
      "Evaluation Score 11 : [0.000782245743122497]\n",
      "Evaluation Score 12 : [0.0016859685150315848]\n",
      "Evaluation Score 13 : [0.0006355762860749099]\n",
      "Evaluation Score 14 : [0.0011210059051447343]\n",
      "\n",
      "\n",
      "Epoch 17\n"
     ]
    },
    {
     "name": "stderr",
     "output_type": "stream",
     "text": [
      "training: 100%|██████████| 8835/8835 [52:52<00:00,  2.78it/s, train_loss_1=0.000234, train_loss_2=0.000715, train_loss_3=0.000334, train_loss_4=0.000149, train_loss_5=0.00045, train_loss_6=0.000419, train_loss_7=0.00151, train_loss_8=0.00208, train_loss_9=0.000334, train_loss_10=0.000133, train_loss_11=0.000562, train_loss_12=0.000137, train_loss_13=0.00088, train_loss_14=0.00243]     \n",
      "validation: 100%|██████████| 41/41 [00:04<00:00,  9.53it/s, eval_loss_1=0.000193, eval_loss_2=0.000748, eval_loss_3=0.000469, eval_loss_4=0.000534, eval_loss_5=0.000387, eval_loss_6=0.001, eval_loss_7=0.00191, eval_loss_8=0.00309, eval_loss_9=0.00494, eval_loss_10=0.000287, eval_loss_11=0.000386, eval_loss_12=0.000311, eval_loss_13=0.00149, eval_loss_14=0.00213]   \n"
     ]
    },
    {
     "name": "stdout",
     "output_type": "stream",
     "text": [
      "Evaluation Score 1 : [0.00017861561869589112]\n",
      "Evaluation Score 2 : [0.0006554060141419674]\n",
      "Evaluation Score 3 : [0.0005259891303267512]\n",
      "Evaluation Score 4 : [0.0005270586960960361]\n",
      "Evaluation Score 5 : [0.00032430913167290115]\n",
      "Evaluation Score 6 : [0.0010841652898617635]\n",
      "Evaluation Score 7 : [0.003219474598242924]\n",
      "Evaluation Score 8 : [0.0030645256771183594]\n",
      "Evaluation Score 9 : [0.0044929783609582155]\n",
      "Evaluation Score 10 : [0.00016678038419496905]\n",
      "Evaluation Score 11 : [0.00041037009072081163]\n",
      "Evaluation Score 12 : [0.0004027782969188127]\n",
      "Evaluation Score 13 : [0.001790807820947432]\n",
      "Evaluation Score 14 : [0.001931818014737673]\n",
      "\n",
      "\n",
      "Epoch 18\n"
     ]
    },
    {
     "name": "stderr",
     "output_type": "stream",
     "text": [
      "training: 100%|██████████| 8835/8835 [52:51<00:00,  2.79it/s, train_loss_1=0.000495, train_loss_2=0.000543, train_loss_3=0.000108, train_loss_4=0.00018, train_loss_5=0.000575, train_loss_6=0.0006, train_loss_7=0.00128, train_loss_8=0.000235, train_loss_9=0.00042, train_loss_10=0.000282, train_loss_11=0.000136, train_loss_12=0.000367, train_loss_13=0.000974, train_loss_14=0.000406]     \n",
      "validation: 100%|██████████| 41/41 [00:04<00:00,  9.48it/s, eval_loss_1=0.000534, eval_loss_2=0.000699, eval_loss_3=0.000492, eval_loss_4=0.000179, eval_loss_5=0.000872, eval_loss_6=0.000805, eval_loss_7=0.00121, eval_loss_8=0.000147, eval_loss_9=0.00073, eval_loss_10=0.000713, eval_loss_11=0.000246, eval_loss_12=0.00139, eval_loss_13=0.00107, eval_loss_14=0.000428]   \n"
     ]
    },
    {
     "name": "stdout",
     "output_type": "stream",
     "text": [
      "Evaluation Score 1 : [0.0004025316022041186]\n",
      "Evaluation Score 2 : [0.0007641280507214549]\n",
      "Evaluation Score 3 : [0.0005552567706284363]\n",
      "Evaluation Score 4 : [0.0001472100278677805]\n",
      "Evaluation Score 5 : [0.0008161668537934198]\n",
      "Evaluation Score 6 : [0.000686977103369583]\n",
      "Evaluation Score 7 : [0.0008970301828301716]\n",
      "Evaluation Score 8 : [0.00021043085711781027]\n",
      "Evaluation Score 9 : [0.0007152873327069711]\n",
      "Evaluation Score 10 : [0.0006019009302779124]\n",
      "Evaluation Score 11 : [0.0002730393135585118]\n",
      "Evaluation Score 12 : [0.0010871101275836004]\n",
      "Evaluation Score 13 : [0.001345542238218846]\n",
      "Evaluation Score 14 : [0.0004081118095200509]\n",
      "\n",
      "\n",
      "Individual model 7 stopped training early at epoch 17\n",
      "Individual model 12 stopped training early at epoch 17\n",
      "Epoch 19\n"
     ]
    },
    {
     "name": "stderr",
     "output_type": "stream",
     "text": [
      "training: 100%|██████████| 8835/8835 [1:01:13<00:00,  2.40it/s, train_loss_1=8.99e-5, train_loss_2=0.00278, train_loss_3=0.000545, train_loss_4=0.000429, train_loss_5=0.000583, train_loss_6=0.000229, train_loss_7=0.000831, train_loss_8=0.000305, train_loss_9=0.00123, train_loss_10=0.000408, train_loss_11=0.000446, train_loss_12=0.000953, train_loss_13=0.00581, train_loss_14=0.00155]    \n",
      "validation: 100%|██████████| 41/41 [00:04<00:00,  8.41it/s, eval_loss_1=0.000101, eval_loss_2=0.00547, eval_loss_3=0.000473, eval_loss_4=0.000848, eval_loss_5=0.000392, eval_loss_6=0.000992, eval_loss_7=0.00718, eval_loss_8=0.00125, eval_loss_9=0.00474, eval_loss_10=0.000496, eval_loss_11=0.000312, eval_loss_12=0.000746, eval_loss_13=0.00459, eval_loss_14=0.0028] \n"
     ]
    },
    {
     "name": "stdout",
     "output_type": "stream",
     "text": [
      "Evaluation Score 1 : [7.876557471562835e-05]\n",
      "Evaluation Score 2 : [0.0049120885229147065]\n",
      "Evaluation Score 3 : [0.0005030619958699568]\n",
      "Evaluation Score 4 : [0.0007259880871193983]\n",
      "Evaluation Score 5 : [0.0004126596081399972]\n",
      "Evaluation Score 6 : [0.000827264560318393]\n",
      "Evaluation Score 7 : [0.005723472014523861]\n",
      "Evaluation Score 8 : [0.0009913594609626184]\n",
      "Evaluation Score 9 : [0.003466883634512381]\n",
      "Evaluation Score 10 : [0.0004970191561946328]\n",
      "Evaluation Score 11 : [0.00024349173132000808]\n",
      "Evaluation Score 12 : [0.0007095326628342907]\n",
      "Evaluation Score 13 : [0.00391238602446165]\n",
      "Evaluation Score 14 : [0.0027998973013515153]\n",
      "\n",
      "\n",
      "Individual model 13 stopped training early at epoch 18\n",
      "Epoch 20\n"
     ]
    },
    {
     "name": "stderr",
     "output_type": "stream",
     "text": [
      "training: 100%|██████████| 8835/8835 [56:23<00:00,  2.61it/s, train_loss_1=0.000164, train_loss_2=0.000275, train_loss_3=0.000227, train_loss_4=0.000299, train_loss_5=0.000213, train_loss_6=0.00182, train_loss_7=0.00154, train_loss_8=0.000569, train_loss_9=0.00446, train_loss_10=0.000284, train_loss_11=0.000224, train_loss_12=0.000475, train_loss_13=0.000462, train_loss_14=0.000575]    \n",
      "validation: 100%|██████████| 41/41 [00:04<00:00,  9.49it/s, eval_loss_1=0.00036, eval_loss_2=0.000427, eval_loss_3=0.00014, eval_loss_4=0.000203, eval_loss_5=0.000292, eval_loss_6=0.000456, eval_loss_7=0.00168, eval_loss_8=0.0011, eval_loss_9=0.00752, eval_loss_10=9.63e-5, eval_loss_11=0.00139, eval_loss_12=0.000757, eval_loss_13=0.00027, eval_loss_14=0.00162]     \n"
     ]
    },
    {
     "name": "stdout",
     "output_type": "stream",
     "text": [
      "Evaluation Score 1 : [0.0002897643929960706]\n",
      "Evaluation Score 2 : [0.0004248797897783267]\n",
      "Evaluation Score 3 : [0.00023300750124290948]\n",
      "Evaluation Score 4 : [0.0001453358881252182]\n",
      "Evaluation Score 5 : [0.0003024218699798306]\n",
      "Evaluation Score 6 : [0.0003734595059252503]\n",
      "Evaluation Score 7 : [0.0015026482145824448]\n",
      "Evaluation Score 8 : [0.0012394248099043602]\n",
      "Evaluation Score 9 : [0.006732162338022779]\n",
      "Evaluation Score 10 : [8.745476473605533e-05]\n",
      "Evaluation Score 11 : [0.0015573771784036625]\n",
      "Evaluation Score 12 : [0.0009971848765683428]\n",
      "Evaluation Score 13 : [0.0003915356266988078]\n",
      "Evaluation Score 14 : [0.0013400411528603333]\n",
      "\n",
      "\n",
      "Individual model 6 stopped training early at epoch 19\n",
      "Individual model 9 stopped training early at epoch 19\n",
      "Individual model 14 stopped training early at epoch 19\n",
      "Epoch 21\n"
     ]
    },
    {
     "name": "stderr",
     "output_type": "stream",
     "text": [
      "training: 100%|██████████| 8835/8835 [53:50<00:00,  2.73it/s, train_loss_1=0.00151, train_loss_2=0.000195, train_loss_3=0.000554, train_loss_4=0.000695, train_loss_5=0.0012, train_loss_6=0.000225, train_loss_7=0.000295, train_loss_8=0.00363, train_loss_9=0.000164, train_loss_10=0.000448, train_loss_11=0.00188, train_loss_12=0.000711, train_loss_13=0.0004, train_loss_14=0.000922]       \n",
      "validation: 100%|██████████| 41/41 [00:05<00:00,  7.41it/s, eval_loss_1=0.00109, eval_loss_2=0.000336, eval_loss_3=0.000139, eval_loss_4=0.000614, eval_loss_5=0.000632, eval_loss_6=0.000302, eval_loss_7=0.00159, eval_loss_8=0.00191, eval_loss_9=0.000408, eval_loss_10=0.000237, eval_loss_11=0.0022, eval_loss_12=0.000817, eval_loss_13=0.000897, eval_loss_14=0.00101]   \n"
     ]
    },
    {
     "name": "stdout",
     "output_type": "stream",
     "text": [
      "Evaluation Score 1 : [0.00099081183477055]\n",
      "Evaluation Score 2 : [0.0004154626548392471]\n",
      "Evaluation Score 3 : [0.00021003216871333014]\n",
      "Evaluation Score 4 : [0.00073048579591758]\n",
      "Evaluation Score 5 : [0.0005225302053831245]\n",
      "Evaluation Score 6 : [0.00026325026289957416]\n",
      "Evaluation Score 7 : [0.0013779089587354443]\n",
      "Evaluation Score 8 : [0.0023661710594485444]\n",
      "Evaluation Score 9 : [0.0003590251765605744]\n",
      "Evaluation Score 10 : [0.0001634065955863107]\n",
      "Evaluation Score 11 : [0.001789146310240939]\n",
      "Evaluation Score 12 : [0.0007704179506839775]\n",
      "Evaluation Score 13 : [0.0006535841949232967]\n",
      "Evaluation Score 14 : [0.0009257772613725648]\n",
      "\n",
      "\n",
      "Individual model 5 stopped training early at epoch 20\n",
      "Epoch 22\n"
     ]
    },
    {
     "name": "stderr",
     "output_type": "stream",
     "text": [
      "training: 100%|██████████| 8835/8835 [1:01:15<00:00,  2.40it/s, train_loss_1=7.21e-5, train_loss_2=0.000549, train_loss_3=0.000132, train_loss_4=0.000499, train_loss_5=0.000302, train_loss_6=0.000467, train_loss_7=0.000307, train_loss_8=0.000622, train_loss_9=0.000313, train_loss_10=0.000182, train_loss_11=0.00083, train_loss_12=0.000187, train_loss_13=0.000981, train_loss_14=0.00015]   \n",
      "validation: 100%|██████████| 41/41 [00:04<00:00,  9.21it/s, eval_loss_1=0.000152, eval_loss_2=0.000215, eval_loss_3=0.000283, eval_loss_4=0.000325, eval_loss_5=0.000482, eval_loss_6=0.000368, eval_loss_7=0.00103, eval_loss_8=0.000152, eval_loss_9=0.000681, eval_loss_10=0.00044, eval_loss_11=0.000924, eval_loss_12=0.0004, eval_loss_13=0.0012, eval_loss_14=0.000179]    \n"
     ]
    },
    {
     "name": "stdout",
     "output_type": "stream",
     "text": [
      "Evaluation Score 1 : [0.00010869324313073488]\n",
      "Evaluation Score 2 : [0.0003554570756954845]\n",
      "Evaluation Score 3 : [0.00028581876221124266]\n",
      "Evaluation Score 4 : [0.00018498198968278835]\n",
      "Evaluation Score 5 : [0.0004753012582091842]\n",
      "Evaluation Score 6 : [0.0004187714707435722]\n",
      "Evaluation Score 7 : [0.0011807698728062395]\n",
      "Evaluation Score 8 : [0.00023050618886084456]\n",
      "Evaluation Score 9 : [0.000777492102337774]\n",
      "Evaluation Score 10 : [0.0004949329751714064]\n",
      "Evaluation Score 11 : [0.0008302951861945231]\n",
      "Evaluation Score 12 : [0.0005385142569316597]\n",
      "Evaluation Score 13 : [0.001383161024622074]\n",
      "Evaluation Score 14 : [0.00023899852154810527]\n",
      "\n",
      "\n",
      "Individual model 8 stopped training early at epoch 21\n",
      "Epoch 23\n"
     ]
    },
    {
     "name": "stderr",
     "output_type": "stream",
     "text": [
      "training: 100%|██████████| 8835/8835 [55:16<00:00,  2.66it/s, train_loss_1=0.000516, train_loss_2=0.000287, train_loss_3=0.000248, train_loss_4=0.000193, train_loss_5=0.000414, train_loss_6=0.000224, train_loss_7=0.000931, train_loss_8=0.00114, train_loss_9=0.000289, train_loss_10=0.000238, train_loss_11=0.000445, train_loss_12=0.000158, train_loss_13=0.000465, train_loss_14=0.00108]  \n",
      "validation: 100%|██████████| 41/41 [00:04<00:00,  9.42it/s, eval_loss_1=0.000483, eval_loss_2=0.00061, eval_loss_3=0.000155, eval_loss_4=0.000308, eval_loss_5=0.000596, eval_loss_6=0.000307, eval_loss_7=0.000421, eval_loss_8=0.000709, eval_loss_9=0.000414, eval_loss_10=0.000187, eval_loss_11=0.0012, eval_loss_12=0.000335, eval_loss_13=0.000129, eval_loss_14=0.000386]  \n"
     ]
    },
    {
     "name": "stdout",
     "output_type": "stream",
     "text": [
      "Evaluation Score 1 : [0.0003799707877233897]\n",
      "Evaluation Score 2 : [0.0006050539768028368]\n",
      "Evaluation Score 3 : [0.000187717074856287]\n",
      "Evaluation Score 4 : [0.00023164224002379696]\n",
      "Evaluation Score 5 : [0.0005152819482268902]\n",
      "Evaluation Score 6 : [0.00021332527635755335]\n",
      "Evaluation Score 7 : [0.0005634148099755006]\n",
      "Evaluation Score 8 : [0.0010363599924347931]\n",
      "Evaluation Score 9 : [0.00046745991964665493]\n",
      "Evaluation Score 10 : [0.00012193261837393681]\n",
      "Evaluation Score 11 : [0.000947134565028203]\n",
      "Evaluation Score 12 : [0.00029963080412083557]\n",
      "Evaluation Score 13 : [0.0003190573415628112]\n",
      "Evaluation Score 14 : [0.00046184054851282114]\n",
      "\n",
      "\n",
      "Epoch 24\n"
     ]
    },
    {
     "name": "stderr",
     "output_type": "stream",
     "text": [
      "training: 100%|██████████| 8835/8835 [56:15<00:00,  2.62it/s, train_loss_1=0.000484, train_loss_2=0.000266, train_loss_3=0.000393, train_loss_4=0.000293, train_loss_5=0.000322, train_loss_6=0.00064, train_loss_7=0.000727, train_loss_8=0.000425, train_loss_9=0.00195, train_loss_10=0.000518, train_loss_11=0.000195, train_loss_12=0.000288, train_loss_13=0.000142, train_loss_14=0.000751]  \n",
      "validation: 100%|██████████| 41/41 [00:06<00:00,  6.03it/s, eval_loss_1=0.00075, eval_loss_2=0.0022, eval_loss_3=0.00029, eval_loss_4=0.000432, eval_loss_5=0.00117, eval_loss_6=0.00156, eval_loss_7=0.000384, eval_loss_8=0.000332, eval_loss_9=0.0095, eval_loss_10=0.000199, eval_loss_11=0.000765, eval_loss_12=0.000623, eval_loss_13=0.00028, eval_loss_14=0.000983]      \n"
     ]
    },
    {
     "name": "stdout",
     "output_type": "stream",
     "text": [
      "Evaluation Score 1 : [0.000712237694221208]\n",
      "Evaluation Score 2 : [0.0021724457818469625]\n",
      "Evaluation Score 3 : [0.00028422696653628585]\n",
      "Evaluation Score 4 : [0.00031251525229535906]\n",
      "Evaluation Score 5 : [0.0006618156121254376]\n",
      "Evaluation Score 6 : [0.0012347232039290957]\n",
      "Evaluation Score 7 : [0.00047905357460854804]\n",
      "Evaluation Score 8 : [0.0003571832568878762]\n",
      "Evaluation Score 9 : [0.009571651905411628]\n",
      "Evaluation Score 10 : [0.00012241722572248475]\n",
      "Evaluation Score 11 : [0.0009797063241599173]\n",
      "Evaluation Score 12 : [0.0006683445024508528]\n",
      "Evaluation Score 13 : [0.00037795451303614623]\n",
      "Evaluation Score 14 : [0.0009055080491390716]\n",
      "\n",
      "\n",
      "Epoch 25\n"
     ]
    },
    {
     "name": "stderr",
     "output_type": "stream",
     "text": [
      "training: 100%|██████████| 8835/8835 [1:20:43<00:00,  1.82it/s, train_loss_1=0.000107, train_loss_2=0.000709, train_loss_3=0.00055, train_loss_4=0.00012, train_loss_5=0.00029, train_loss_6=0.000221, train_loss_7=0.000296, train_loss_8=0.00109, train_loss_9=0.00244, train_loss_10=0.000252, train_loss_11=0.000728, train_loss_12=0.000127, train_loss_13=0.00072, train_loss_14=0.000741]      \n",
      "validation: 100%|██████████| 41/41 [00:04<00:00,  9.52it/s, eval_loss_1=0.000288, eval_loss_2=0.00026, eval_loss_3=0.000238, eval_loss_4=0.000478, eval_loss_5=0.000519, eval_loss_6=0.000342, eval_loss_7=0.00065, eval_loss_8=0.000266, eval_loss_9=0.00141, eval_loss_10=0.000277, eval_loss_11=0.000647, eval_loss_12=0.000775, eval_loss_13=0.000174, eval_loss_14=0.000843]  \n"
     ]
    },
    {
     "name": "stdout",
     "output_type": "stream",
     "text": [
      "Evaluation Score 1 : [0.000243994494312352]\n",
      "Evaluation Score 2 : [0.00025747560969803756]\n",
      "Evaluation Score 3 : [0.0002693155196228451]\n",
      "Evaluation Score 4 : [0.00032779741137879106]\n",
      "Evaluation Score 5 : [0.0002692128526665861]\n",
      "Evaluation Score 6 : [0.00031347740753894535]\n",
      "Evaluation Score 7 : [0.0005091315351154019]\n",
      "Evaluation Score 8 : [0.0002277018704661736]\n",
      "Evaluation Score 9 : [0.0016833218126898494]\n",
      "Evaluation Score 10 : [0.00025890214424069245]\n",
      "Evaluation Score 11 : [0.0006335203922012957]\n",
      "Evaluation Score 12 : [0.000887730863036179]\n",
      "Evaluation Score 13 : [0.00026088129539502693]\n",
      "Evaluation Score 14 : [0.0007467890760248028]\n",
      "\n",
      "\n",
      "Individual model 11 stopped training early at epoch 24\n",
      "Epoch 26\n"
     ]
    },
    {
     "name": "stderr",
     "output_type": "stream",
     "text": [
      "training: 100%|██████████| 8835/8835 [53:24<00:00,  2.76it/s, train_loss_1=0.000132, train_loss_2=0.00152, train_loss_3=0.000842, train_loss_4=0.000106, train_loss_5=0.000303, train_loss_6=0.000108, train_loss_7=0.00017, train_loss_8=0.00102, train_loss_9=0.00909, train_loss_10=0.000281, train_loss_11=0.000328, train_loss_12=0.000761, train_loss_13=0.000768, train_loss_14=0.000948]    \n",
      "validation: 100%|██████████| 41/41 [00:04<00:00,  9.53it/s, eval_loss_1=0.000177, eval_loss_2=0.00155, eval_loss_3=0.00148, eval_loss_4=0.000173, eval_loss_5=0.000281, eval_loss_6=0.000336, eval_loss_7=0.000302, eval_loss_8=0.000454, eval_loss_9=0.00661, eval_loss_10=0.000496, eval_loss_11=0.000248, eval_loss_12=0.000724, eval_loss_13=0.00115, eval_loss_14=0.000383] \n"
     ]
    },
    {
     "name": "stdout",
     "output_type": "stream",
     "text": [
      "Evaluation Score 1 : [0.00014125520190246766]\n",
      "Evaluation Score 2 : [0.0014684941100024777]\n",
      "Evaluation Score 3 : [0.0014050129386482806]\n",
      "Evaluation Score 4 : [0.00012716879978032057]\n",
      "Evaluation Score 5 : [0.0002240326309508485]\n",
      "Evaluation Score 6 : [0.0002382595280878155]\n",
      "Evaluation Score 7 : [0.00031977943670027324]\n",
      "Evaluation Score 8 : [0.00042801283700278075]\n",
      "Evaluation Score 9 : [0.0059334124642901305]\n",
      "Evaluation Score 10 : [0.0004503168513510013]\n",
      "Evaluation Score 11 : [0.00018743215208282557]\n",
      "Evaluation Score 12 : [0.0007899875664606509]\n",
      "Evaluation Score 13 : [0.00101836571163248]\n",
      "Evaluation Score 14 : [0.0003331616952470163]\n",
      "\n",
      "\n",
      "Epoch 27\n"
     ]
    },
    {
     "name": "stderr",
     "output_type": "stream",
     "text": [
      "training: 100%|██████████| 8835/8835 [52:48<00:00,  2.79it/s, train_loss_1=0.000112, train_loss_2=0.000247, train_loss_3=0.000468, train_loss_4=0.000216, train_loss_5=0.000332, train_loss_6=0.0018, train_loss_7=0.000944, train_loss_8=0.000692, train_loss_9=0.000856, train_loss_10=0.00013, train_loss_11=0.0011, train_loss_12=0.000384, train_loss_13=0.00035, train_loss_14=0.000527]      \n",
      "validation: 100%|██████████| 41/41 [00:04<00:00,  9.49it/s, eval_loss_1=5.36e-5, eval_loss_2=0.000229, eval_loss_3=0.000171, eval_loss_4=0.000279, eval_loss_5=0.000377, eval_loss_6=0.000177, eval_loss_7=0.000174, eval_loss_8=0.000662, eval_loss_9=0.00171, eval_loss_10=0.000414, eval_loss_11=0.000404, eval_loss_12=0.000212, eval_loss_13=0.000152, eval_loss_14=0.000306] \n"
     ]
    },
    {
     "name": "stdout",
     "output_type": "stream",
     "text": [
      "Evaluation Score 1 : [5.996777016240763e-05]\n",
      "Evaluation Score 2 : [0.0002806429888218323]\n",
      "Evaluation Score 3 : [0.0002308484374846491]\n",
      "Evaluation Score 4 : [0.00018722897682270807]\n",
      "Evaluation Score 5 : [0.00027987173092608317]\n",
      "Evaluation Score 6 : [0.00010789094316040551]\n",
      "Evaluation Score 7 : [0.00016132876487795218]\n",
      "Evaluation Score 8 : [0.000500107841373126]\n",
      "Evaluation Score 9 : [0.001174333596193209]\n",
      "Evaluation Score 10 : [0.0003338571586049866]\n",
      "Evaluation Score 11 : [0.00043016071459732767]\n",
      "Evaluation Score 12 : [0.0003502663461315423]\n",
      "Evaluation Score 13 : [0.0002530580145170594]\n",
      "Evaluation Score 14 : [0.0003091510436384053]\n",
      "\n",
      "\n",
      "Epoch 28\n"
     ]
    },
    {
     "name": "stderr",
     "output_type": "stream",
     "text": [
      "training: 100%|██████████| 8835/8835 [52:50<00:00,  2.79it/s, train_loss_1=6e-5, train_loss_2=0.000982, train_loss_3=0.00162, train_loss_4=0.000296, train_loss_5=0.000312, train_loss_6=0.000357, train_loss_7=0.000662, train_loss_8=0.00315, train_loss_9=0.00112, train_loss_10=6.03e-5, train_loss_11=0.000603, train_loss_12=0.000116, train_loss_13=0.00292, train_loss_14=0.000584]         \n",
      "validation: 100%|██████████| 41/41 [00:04<00:00,  9.51it/s, eval_loss_1=0.000101, eval_loss_2=0.00186, eval_loss_3=0.000424, eval_loss_4=0.000509, eval_loss_5=0.000328, eval_loss_6=0.000695, eval_loss_7=0.00124, eval_loss_8=0.00538, eval_loss_9=0.00226, eval_loss_10=6e-5, eval_loss_11=0.00678, eval_loss_12=0.000318, eval_loss_13=0.00526, eval_loss_14=0.000785]     \n"
     ]
    },
    {
     "name": "stdout",
     "output_type": "stream",
     "text": [
      "Evaluation Score 1 : [8.374041996231848e-05]\n",
      "Evaluation Score 2 : [0.0012082209606177922]\n",
      "Evaluation Score 3 : [0.00037109441757088573]\n",
      "Evaluation Score 4 : [0.00042358345122122]\n",
      "Evaluation Score 5 : [0.00039165202675886995]\n",
      "Evaluation Score 6 : [0.000602270249368214]\n",
      "Evaluation Score 7 : [0.0009144727231525793]\n",
      "Evaluation Score 8 : [0.004783636163465861]\n",
      "Evaluation Score 9 : [0.001456194284667329]\n",
      "Evaluation Score 10 : [5.725375483119179e-05]\n",
      "Evaluation Score 11 : [0.006428406846414252]\n",
      "Evaluation Score 12 : [0.0004467381109063309]\n",
      "Evaluation Score 13 : [0.005778225922457329]\n",
      "Evaluation Score 14 : [0.0006738311821231391]\n",
      "\n",
      "\n",
      "Epoch 29\n"
     ]
    },
    {
     "name": "stderr",
     "output_type": "stream",
     "text": [
      "training: 100%|██████████| 8835/8835 [52:45<00:00,  2.79it/s, train_loss_1=4.05e-5, train_loss_2=0.000287, train_loss_3=0.00037, train_loss_4=0.000265, train_loss_5=0.000534, train_loss_6=0.000323, train_loss_7=0.00346, train_loss_8=0.000122, train_loss_9=0.00138, train_loss_10=0.000132, train_loss_11=0.00317, train_loss_12=0.0004, train_loss_13=0.00163, train_loss_14=0.000253]        \n",
      "validation: 100%|██████████| 41/41 [00:04<00:00,  9.53it/s, eval_loss_1=0.000113, eval_loss_2=0.000267, eval_loss_3=0.000585, eval_loss_4=0.000267, eval_loss_5=0.000244, eval_loss_6=0.000558, eval_loss_7=0.00272, eval_loss_8=0.000216, eval_loss_9=0.000691, eval_loss_10=0.000508, eval_loss_11=0.00178, eval_loss_12=0.000596, eval_loss_13=0.0011, eval_loss_14=0.000227]  \n"
     ]
    },
    {
     "name": "stdout",
     "output_type": "stream",
     "text": [
      "Evaluation Score 1 : [0.00013720245588934277]\n",
      "Evaluation Score 2 : [0.00025646911938277233]\n",
      "Evaluation Score 3 : [0.0007946561289406041]\n",
      "Evaluation Score 4 : [0.0002944884539962315]\n",
      "Evaluation Score 5 : [0.00019828659033675384]\n",
      "Evaluation Score 6 : [0.0003978701126648159]\n",
      "Evaluation Score 7 : [0.0024581970448219557]\n",
      "Evaluation Score 8 : [0.0002734929869070695]\n",
      "Evaluation Score 9 : [0.0009948713605564723]\n",
      "Evaluation Score 10 : [0.0005197932939442647]\n",
      "Evaluation Score 11 : [0.0019800283196495802]\n",
      "Evaluation Score 12 : [0.0005793621147437612]\n",
      "Evaluation Score 13 : [0.0009747650374930988]\n",
      "Evaluation Score 14 : [0.0003321986722123877]\n",
      "\n",
      "\n",
      "Individual model 3 stopped training early at epoch 28\n",
      "Epoch 30\n"
     ]
    },
    {
     "name": "stderr",
     "output_type": "stream",
     "text": [
      "training: 100%|██████████| 8835/8835 [52:51<00:00,  2.79it/s, train_loss_1=0.000178, train_loss_2=0.00671, train_loss_3=0.000438, train_loss_4=0.000357, train_loss_5=0.000339, train_loss_6=0.000149, train_loss_7=0.000276, train_loss_8=0.00113, train_loss_9=0.000283, train_loss_10=0.000165, train_loss_11=0.000265, train_loss_12=0.000162, train_loss_13=0.000292, train_loss_14=0.000826]  \n",
      "validation: 100%|██████████| 41/41 [00:04<00:00,  9.47it/s, eval_loss_1=0.000306, eval_loss_2=0.00101, eval_loss_3=0.000366, eval_loss_4=0.000193, eval_loss_5=0.000285, eval_loss_6=0.000161, eval_loss_7=0.000403, eval_loss_8=0.000886, eval_loss_9=0.000585, eval_loss_10=9.26e-5, eval_loss_11=0.000418, eval_loss_12=0.000204, eval_loss_13=8.72e-5, eval_loss_14=0.000927]   \n"
     ]
    },
    {
     "name": "stdout",
     "output_type": "stream",
     "text": [
      "Evaluation Score 1 : [0.0002671889733613991]\n",
      "Evaluation Score 2 : [0.0014137778510680285]\n",
      "Evaluation Score 3 : [0.00046425920601638897]\n",
      "Evaluation Score 4 : [0.0001545569448797146]\n",
      "Evaluation Score 5 : [0.00023631004633654546]\n",
      "Evaluation Score 6 : [0.00014123694936421177]\n",
      "Evaluation Score 7 : [0.0003495325012098453]\n",
      "Evaluation Score 8 : [0.0012455120506673688]\n",
      "Evaluation Score 9 : [0.0005047905504442297]\n",
      "Evaluation Score 10 : [9.745726306502503e-05]\n",
      "Evaluation Score 11 : [0.000574822777530133]\n",
      "Evaluation Score 12 : [0.00022815635588258596]\n",
      "Evaluation Score 13 : [0.0002142674175712916]\n",
      "Evaluation Score 14 : [0.0009018561842556043]\n",
      "\n",
      "\n",
      "Epoch 31\n"
     ]
    },
    {
     "name": "stderr",
     "output_type": "stream",
     "text": [
      "training: 100%|██████████| 8835/8835 [52:51<00:00,  2.79it/s, train_loss_1=8.01e-5, train_loss_2=0.000395, train_loss_3=0.000127, train_loss_4=9.89e-5, train_loss_5=0.000289, train_loss_6=0.000349, train_loss_7=0.00102, train_loss_8=8.86e-5, train_loss_9=0.0013, train_loss_10=0.000121, train_loss_11=0.00153, train_loss_12=0.000594, train_loss_13=0.000242, train_loss_14=0.00657]        \n",
      "validation: 100%|██████████| 41/41 [00:04<00:00,  9.49it/s, eval_loss_1=6.45e-5, eval_loss_2=0.00108, eval_loss_3=0.000161, eval_loss_4=0.000126, eval_loss_5=0.000294, eval_loss_6=0.00156, eval_loss_7=0.000649, eval_loss_8=0.000109, eval_loss_9=0.000325, eval_loss_10=0.000169, eval_loss_11=0.00201, eval_loss_12=0.000272, eval_loss_13=0.000373, eval_loss_14=0.00549] \n"
     ]
    },
    {
     "name": "stdout",
     "output_type": "stream",
     "text": [
      "Evaluation Score 1 : [8.201668996906204e-05]\n",
      "Evaluation Score 2 : [0.0009100437703792279]\n",
      "Evaluation Score 3 : [0.0002504024269888405]\n",
      "Evaluation Score 4 : [0.00012413602217282283]\n",
      "Evaluation Score 5 : [0.0002824445363352779]\n",
      "Evaluation Score 6 : [0.0013229944970367885]\n",
      "Evaluation Score 7 : [0.0004225465953179703]\n",
      "Evaluation Score 8 : [0.0001084317453915435]\n",
      "Evaluation Score 9 : [0.0002577332996269234]\n",
      "Evaluation Score 10 : [0.00013598835907831062]\n",
      "Evaluation Score 11 : [0.0017814331563053335]\n",
      "Evaluation Score 12 : [0.00025412225712476887]\n",
      "Evaluation Score 13 : [0.0005285088263917714]\n",
      "Evaluation Score 14 : [0.004589132555737728]\n",
      "\n",
      "\n",
      "Epoch 32\n"
     ]
    },
    {
     "name": "stderr",
     "output_type": "stream",
     "text": [
      "training: 100%|██████████| 8835/8835 [52:49<00:00,  2.79it/s, train_loss_1=0.00023, train_loss_2=0.000632, train_loss_3=0.000742, train_loss_4=0.000133, train_loss_5=0.000262, train_loss_6=0.000176, train_loss_7=0.00203, train_loss_8=0.000239, train_loss_9=0.000847, train_loss_10=8.17e-5, train_loss_11=0.000214, train_loss_12=0.00081, train_loss_13=0.000585, train_loss_14=0.000651]    \n",
      "validation: 100%|██████████| 41/41 [00:04<00:00,  9.47it/s, eval_loss_1=0.000344, eval_loss_2=0.000269, eval_loss_3=0.000341, eval_loss_4=0.000161, eval_loss_5=0.000684, eval_loss_6=0.000168, eval_loss_7=0.00104, eval_loss_8=0.00056, eval_loss_9=0.000276, eval_loss_10=9.15e-5, eval_loss_11=0.0004, eval_loss_12=0.000906, eval_loss_13=0.00165, eval_loss_14=0.000221]    \n"
     ]
    },
    {
     "name": "stdout",
     "output_type": "stream",
     "text": [
      "Evaluation Score 1 : [0.00037101399303959094]\n",
      "Evaluation Score 2 : [0.000322090711007349]\n",
      "Evaluation Score 3 : [0.0003819571433179989]\n",
      "Evaluation Score 4 : [0.00014780095984971876]\n",
      "Evaluation Score 5 : [0.0005776208254690395]\n",
      "Evaluation Score 6 : [0.00015495929876967085]\n",
      "Evaluation Score 7 : [0.0012346681934304353]\n",
      "Evaluation Score 8 : [0.0006514051339941145]\n",
      "Evaluation Score 9 : [0.00023626585465447023]\n",
      "Evaluation Score 10 : [7.974365303752852e-05]\n",
      "Evaluation Score 11 : [0.00040784765037753414]\n",
      "Evaluation Score 12 : [0.0010058152483685351]\n",
      "Evaluation Score 13 : [0.001907501284532794]\n",
      "Evaluation Score 14 : [0.00019885311662730555]\n",
      "\n",
      "\n",
      "Epoch 33\n"
     ]
    },
    {
     "name": "stderr",
     "output_type": "stream",
     "text": [
      "training: 100%|██████████| 8835/8835 [52:50<00:00,  2.79it/s, train_loss_1=0.000115, train_loss_2=0.00128, train_loss_3=0.000701, train_loss_4=0.000143, train_loss_5=0.000344, train_loss_6=0.000284, train_loss_7=0.000535, train_loss_8=0.000391, train_loss_9=0.00161, train_loss_10=0.000297, train_loss_11=0.000698, train_loss_12=0.000282, train_loss_13=0.000372, train_loss_14=0.00121]   \n",
      "validation: 100%|██████████| 41/41 [00:04<00:00,  9.51it/s, eval_loss_1=0.000164, eval_loss_2=0.00137, eval_loss_3=0.000141, eval_loss_4=0.000151, eval_loss_5=0.000326, eval_loss_6=0.000319, eval_loss_7=0.00158, eval_loss_8=0.00104, eval_loss_9=0.00107, eval_loss_10=0.000178, eval_loss_11=0.000333, eval_loss_12=0.000411, eval_loss_13=0.000789, eval_loss_14=0.00054]   \n"
     ]
    },
    {
     "name": "stdout",
     "output_type": "stream",
     "text": [
      "Evaluation Score 1 : [0.00013165502427798901]\n",
      "Evaluation Score 2 : [0.001234757129057515]\n",
      "Evaluation Score 3 : [0.00012952420596464923]\n",
      "Evaluation Score 4 : [0.00011403878413214598]\n",
      "Evaluation Score 5 : [0.00033482310125070464]\n",
      "Evaluation Score 6 : [0.00031918261332221603]\n",
      "Evaluation Score 7 : [0.0016495457356341366]\n",
      "Evaluation Score 8 : [0.000795944931735171]\n",
      "Evaluation Score 9 : [0.000963802774516275]\n",
      "Evaluation Score 10 : [0.00022047947153091294]\n",
      "Evaluation Score 11 : [0.0002914516953751445]\n",
      "Evaluation Score 12 : [0.00043709730806124465]\n",
      "Evaluation Score 13 : [0.0008984397977545131]\n",
      "Evaluation Score 14 : [0.0005284586286728793]\n",
      "\n",
      "\n",
      "Epoch 34\n"
     ]
    },
    {
     "name": "stderr",
     "output_type": "stream",
     "text": [
      "training: 100%|██████████| 8835/8835 [55:21<00:00,  2.66it/s, train_loss_1=0.000104, train_loss_2=0.00333, train_loss_3=0.00014, train_loss_4=0.000327, train_loss_5=0.000257, train_loss_6=0.000474, train_loss_7=0.00374, train_loss_8=0.00309, train_loss_9=0.00063, train_loss_10=8.62e-5, train_loss_11=0.00285, train_loss_12=0.00106, train_loss_13=0.00047, train_loss_14=0.00104]           \n",
      "validation: 100%|██████████| 41/41 [00:05<00:00,  7.45it/s, eval_loss_1=8.1e-5, eval_loss_2=0.00682, eval_loss_3=0.000161, eval_loss_4=0.000251, eval_loss_5=0.000254, eval_loss_6=0.00131, eval_loss_7=0.00211, eval_loss_8=0.00363, eval_loss_9=0.000737, eval_loss_10=0.000204, eval_loss_11=0.00403, eval_loss_12=0.00253, eval_loss_13=0.000313, eval_loss_14=0.00172]  \n"
     ]
    },
    {
     "name": "stdout",
     "output_type": "stream",
     "text": [
      "Evaluation Score 1 : [7.574815922785869e-05]\n",
      "Evaluation Score 2 : [0.0074767969639562976]\n",
      "Evaluation Score 3 : [0.0002445656931873911]\n",
      "Evaluation Score 4 : [0.00021221824792474963]\n",
      "Evaluation Score 5 : [0.0002117823609207734]\n",
      "Evaluation Score 6 : [0.001064784245610964]\n",
      "Evaluation Score 7 : [0.0024861647838317767]\n",
      "Evaluation Score 8 : [0.004080864509976492]\n",
      "Evaluation Score 9 : [0.0006222931047753863]\n",
      "Evaluation Score 10 : [0.00015413556986193104]\n",
      "Evaluation Score 11 : [0.004684329055613134]\n",
      "Evaluation Score 12 : [0.002327465537435761]\n",
      "Evaluation Score 13 : [0.0003875385850622523]\n",
      "Evaluation Score 14 : [0.0016499407725726685]\n",
      "\n",
      "\n",
      "Epoch 35\n"
     ]
    },
    {
     "name": "stderr",
     "output_type": "stream",
     "text": [
      "training: 100%|██████████| 8835/8835 [58:01<00:00,  2.54it/s, train_loss_1=8.58e-5, train_loss_2=0.000326, train_loss_3=0.00162, train_loss_4=0.000695, train_loss_5=0.000254, train_loss_6=5.59e-5, train_loss_7=0.00028, train_loss_8=0.00104, train_loss_9=0.000489, train_loss_10=0.00014, train_loss_11=0.000423, train_loss_12=0.000502, train_loss_13=0.000461, train_loss_14=0.000243]       \n",
      "validation: 100%|██████████| 41/41 [00:05<00:00,  7.75it/s, eval_loss_1=0.000239, eval_loss_2=0.000589, eval_loss_3=0.004, eval_loss_4=0.000621, eval_loss_5=0.000268, eval_loss_6=0.000178, eval_loss_7=0.00104, eval_loss_8=0.00108, eval_loss_9=0.000927, eval_loss_10=0.000378, eval_loss_11=0.000486, eval_loss_12=0.00031, eval_loss_13=0.000771, eval_loss_14=0.00164]   \n"
     ]
    },
    {
     "name": "stdout",
     "output_type": "stream",
     "text": [
      "Evaluation Score 1 : [0.00016289780810106229]\n",
      "Evaluation Score 2 : [0.0004381113046802944]\n",
      "Evaluation Score 3 : [0.003345952988261493]\n",
      "Evaluation Score 4 : [0.0006071082997794558]\n",
      "Evaluation Score 5 : [0.0003071093073586093]\n",
      "Evaluation Score 6 : [0.00013274487346501612]\n",
      "Evaluation Score 7 : [0.001230007537254473]\n",
      "Evaluation Score 8 : [0.0009341419947038336]\n",
      "Evaluation Score 9 : [0.0012186885763118725]\n",
      "Evaluation Score 10 : [0.0004949794220454173]\n",
      "Evaluation Score 11 : [0.0003590589980509632]\n",
      "Evaluation Score 12 : [0.00033353568976120343]\n",
      "Evaluation Score 13 : [0.0006404492291394713]\n",
      "Evaluation Score 14 : [0.0011587790724616953]\n",
      "\n",
      "\n",
      "Epoch 36\n"
     ]
    },
    {
     "name": "stderr",
     "output_type": "stream",
     "text": [
      "training: 100%|██████████| 8835/8835 [59:35<00:00,  2.47it/s, train_loss_1=0.000192, train_loss_2=0.000167, train_loss_3=0.000318, train_loss_4=0.000106, train_loss_5=0.000406, train_loss_6=0.000154, train_loss_7=0.00126, train_loss_8=0.000741, train_loss_9=0.000642, train_loss_10=6.98e-5, train_loss_11=0.000797, train_loss_12=0.000276, train_loss_13=0.000261, train_loss_14=9.36e-5]    \n",
      "validation: 100%|██████████| 41/41 [00:05<00:00,  7.02it/s, eval_loss_1=0.000199, eval_loss_2=0.000618, eval_loss_3=0.000403, eval_loss_4=0.00022, eval_loss_5=0.000674, eval_loss_6=0.000255, eval_loss_7=0.000333, eval_loss_8=0.000542, eval_loss_9=0.00393, eval_loss_10=0.000131, eval_loss_11=0.000121, eval_loss_12=0.00042, eval_loss_13=0.000446, eval_loss_14=0.000107]  \n"
     ]
    },
    {
     "name": "stdout",
     "output_type": "stream",
     "text": [
      "Evaluation Score 1 : [0.00012899096274362286]\n",
      "Evaluation Score 2 : [0.0006945491356707019]\n",
      "Evaluation Score 3 : [0.0004725497430360808]\n",
      "Evaluation Score 4 : [0.00015849092224238032]\n",
      "Evaluation Score 5 : [0.0007056316400582834]\n",
      "Evaluation Score 6 : [0.00016309975567642916]\n",
      "Evaluation Score 7 : [0.0003123242030397239]\n",
      "Evaluation Score 8 : [0.0006054798524440607]\n",
      "Evaluation Score 9 : [0.004162043537490252]\n",
      "Evaluation Score 10 : [0.00015255034366685034]\n",
      "Evaluation Score 11 : [0.00020519504589795295]\n",
      "Evaluation Score 12 : [0.0005481068070455477]\n",
      "Evaluation Score 13 : [0.0004392194202476431]\n",
      "Evaluation Score 14 : [0.00014320373706939836]\n",
      "\n",
      "\n",
      "Epoch 37\n"
     ]
    },
    {
     "name": "stderr",
     "output_type": "stream",
     "text": [
      "training: 100%|██████████| 8835/8835 [56:38<00:00,  2.60it/s, train_loss_1=0.000157, train_loss_2=0.000683, train_loss_3=0.000269, train_loss_4=0.000121, train_loss_5=0.000488, train_loss_6=0.000109, train_loss_7=0.000521, train_loss_8=0.0014, train_loss_9=0.000583, train_loss_10=6.2e-5, train_loss_11=0.00178, train_loss_12=0.000263, train_loss_13=0.000843, train_loss_14=0.00034]      \n",
      "validation: 100%|██████████| 41/41 [00:05<00:00,  7.90it/s, eval_loss_1=0.000147, eval_loss_2=0.000594, eval_loss_3=0.000671, eval_loss_4=0.000135, eval_loss_5=0.00066, eval_loss_6=0.000482, eval_loss_7=0.000534, eval_loss_8=0.00196, eval_loss_9=0.000115, eval_loss_10=6.37e-5, eval_loss_11=0.00304, eval_loss_12=0.000224, eval_loss_13=0.000972, eval_loss_14=0.000145]\n"
     ]
    },
    {
     "name": "stdout",
     "output_type": "stream",
     "text": [
      "Evaluation Score 1 : [0.0001358900442094792]\n",
      "Evaluation Score 2 : [0.0003370145352120034]\n",
      "Evaluation Score 3 : [0.0006748306090807225]\n",
      "Evaluation Score 4 : [0.00012064502516295761]\n",
      "Evaluation Score 5 : [0.0004965218633027156]\n",
      "Evaluation Score 6 : [0.00037759162695714975]\n",
      "Evaluation Score 7 : [0.0006673267542770723]\n",
      "Evaluation Score 8 : [0.0017217377870820645]\n",
      "Evaluation Score 9 : [0.00010568598141927818]\n",
      "Evaluation Score 10 : [5.243186671755322e-05]\n",
      "Evaluation Score 11 : [0.0029089099205121764]\n",
      "Evaluation Score 12 : [0.0002914992826224146]\n",
      "Evaluation Score 13 : [0.0008940206323863893]\n",
      "Evaluation Score 14 : [0.00014010613990760203]\n",
      "\n",
      "\n",
      "Epoch 38\n"
     ]
    },
    {
     "name": "stderr",
     "output_type": "stream",
     "text": [
      "training: 100%|██████████| 8835/8835 [56:32<00:00,  2.60it/s, train_loss_1=0.00012, train_loss_2=0.00096, train_loss_3=0.000539, train_loss_4=8.99e-5, train_loss_5=0.000413, train_loss_6=0.000261, train_loss_7=0.000371, train_loss_8=0.000208, train_loss_9=0.00179, train_loss_10=0.000139, train_loss_11=0.000835, train_loss_12=0.000111, train_loss_13=0.000646, train_loss_14=9.8e-5]        \n",
      "validation: 100%|██████████| 41/41 [00:05<00:00,  8.08it/s, eval_loss_1=0.000163, eval_loss_2=0.000686, eval_loss_3=0.000585, eval_loss_4=0.000221, eval_loss_5=0.00029, eval_loss_6=0.000332, eval_loss_7=0.000653, eval_loss_8=0.000537, eval_loss_9=0.00161, eval_loss_10=0.000113, eval_loss_11=0.00109, eval_loss_12=0.000121, eval_loss_13=0.000376, eval_loss_14=6.44e-5]  \n"
     ]
    },
    {
     "name": "stdout",
     "output_type": "stream",
     "text": [
      "Evaluation Score 1 : [0.00011078316852146555]\n",
      "Evaluation Score 2 : [0.0008475574077016152]\n",
      "Evaluation Score 3 : [0.0006187068122416371]\n",
      "Evaluation Score 4 : [0.00015605154156929065]\n",
      "Evaluation Score 5 : [0.0002551312209106982]\n",
      "Evaluation Score 6 : [0.0002703796823724832]\n",
      "Evaluation Score 7 : [0.0005646486910025975]\n",
      "Evaluation Score 8 : [0.0005748010731711075]\n",
      "Evaluation Score 9 : [0.0013490457701065192]\n",
      "Evaluation Score 10 : [0.0001172943183763248]\n",
      "Evaluation Score 11 : [0.000964866806298676]\n",
      "Evaluation Score 12 : [0.0002047356383849458]\n",
      "Evaluation Score 13 : [0.0004460907636335256]\n",
      "Evaluation Score 14 : [5.768890146211517e-05]\n",
      "\n",
      "\n",
      "Epoch 39\n"
     ]
    },
    {
     "name": "stderr",
     "output_type": "stream",
     "text": [
      "training: 100%|██████████| 8835/8835 [57:19<00:00,  2.57it/s, train_loss_1=0.000293, train_loss_2=0.000132, train_loss_3=0.000375, train_loss_4=0.000127, train_loss_5=0.000327, train_loss_6=0.000184, train_loss_7=0.000104, train_loss_8=0.000335, train_loss_9=0.00113, train_loss_10=0.000159, train_loss_11=0.000721, train_loss_12=0.000674, train_loss_13=0.000514, train_loss_14=0.000646] \n",
      "validation: 100%|██████████| 41/41 [00:05<00:00,  7.75it/s, eval_loss_1=0.000378, eval_loss_2=0.000335, eval_loss_3=6.77e-5, eval_loss_4=0.000122, eval_loss_5=0.000603, eval_loss_6=0.000266, eval_loss_7=0.00072, eval_loss_8=0.000909, eval_loss_9=0.000877, eval_loss_10=0.000424, eval_loss_11=0.000693, eval_loss_12=0.000776, eval_loss_13=0.000234, eval_loss_14=0.000652]  \n"
     ]
    },
    {
     "name": "stdout",
     "output_type": "stream",
     "text": [
      "Evaluation Score 1 : [0.00021156014696405292]\n",
      "Evaluation Score 2 : [0.00046368601601343693]\n",
      "Evaluation Score 3 : [9.24150023443295e-05]\n",
      "Evaluation Score 4 : [0.00010634657927567321]\n",
      "Evaluation Score 5 : [0.0006087049841880798]\n",
      "Evaluation Score 6 : [0.00024250481546027357]\n",
      "Evaluation Score 7 : [0.0006698119232612775]\n",
      "Evaluation Score 8 : [0.0008100270586111015]\n",
      "Evaluation Score 9 : [0.0005718558720063145]\n",
      "Evaluation Score 10 : [0.00038419292512826804]\n",
      "Evaluation Score 11 : [0.0006265519144263392]\n",
      "Evaluation Score 12 : [0.0007951341856202883]\n",
      "Evaluation Score 13 : [0.00028787427241118945]\n",
      "Evaluation Score 14 : [0.0004675137588936018]\n",
      "\n",
      "\n",
      "Epoch 40\n"
     ]
    },
    {
     "name": "stderr",
     "output_type": "stream",
     "text": [
      "training: 100%|██████████| 8835/8835 [56:40<00:00,  2.60it/s, train_loss_1=0.000149, train_loss_2=0.000463, train_loss_3=0.000798, train_loss_4=0.000167, train_loss_5=0.00101, train_loss_6=7.58e-5, train_loss_7=0.00211, train_loss_8=0.00187, train_loss_9=0.00127, train_loss_10=0.000746, train_loss_11=0.00237, train_loss_12=0.000423, train_loss_13=0.00144, train_loss_14=0.00216]        \n",
      "validation: 100%|██████████| 41/41 [00:06<00:00,  5.99it/s, eval_loss_1=0.000187, eval_loss_2=0.000215, eval_loss_3=0.000571, eval_loss_4=0.000178, eval_loss_5=0.000904, eval_loss_6=9.26e-5, eval_loss_7=0.000377, eval_loss_8=0.00118, eval_loss_9=0.0013, eval_loss_10=0.000211, eval_loss_11=0.000545, eval_loss_12=0.000539, eval_loss_13=0.000386, eval_loss_14=0.00116]   \n"
     ]
    },
    {
     "name": "stdout",
     "output_type": "stream",
     "text": [
      "Evaluation Score 1 : [0.00013177691147486656]\n",
      "Evaluation Score 2 : [0.0002133630808136176]\n",
      "Evaluation Score 3 : [0.0006212634240311184]\n",
      "Evaluation Score 4 : [0.0001495715226089332]\n",
      "Evaluation Score 5 : [0.0009832473474600148]\n",
      "Evaluation Score 6 : [7.039338503623517e-05]\n",
      "Evaluation Score 7 : [0.0004763080001661054]\n",
      "Evaluation Score 8 : [0.00097914825750106]\n",
      "Evaluation Score 9 : [0.0007453304985197397]\n",
      "Evaluation Score 10 : [0.00015990359537593066]\n",
      "Evaluation Score 11 : [0.0008011225826765705]\n",
      "Evaluation Score 12 : [0.00045630604769784683]\n",
      "Evaluation Score 13 : [0.0005070193991542044]\n",
      "Evaluation Score 14 : [0.0011434361378366991]\n",
      "\n",
      "\n",
      "Epoch 41\n"
     ]
    },
    {
     "name": "stderr",
     "output_type": "stream",
     "text": [
      "training: 100%|██████████| 8835/8835 [52:49<00:00,  2.79it/s, train_loss_1=5.59e-5, train_loss_2=0.000168, train_loss_3=0.000124, train_loss_4=0.00013, train_loss_5=0.000154, train_loss_6=0.000135, train_loss_7=0.000313, train_loss_8=0.000635, train_loss_9=0.000233, train_loss_10=8.57e-5, train_loss_11=0.000437, train_loss_12=0.000155, train_loss_13=0.000371, train_loss_14=0.00101]    \n",
      "validation: 100%|██████████| 41/41 [00:04<00:00,  9.50it/s, eval_loss_1=0.000178, eval_loss_2=0.000344, eval_loss_3=0.000321, eval_loss_4=0.000222, eval_loss_5=0.000246, eval_loss_6=0.000151, eval_loss_7=0.000534, eval_loss_8=0.000293, eval_loss_9=0.000147, eval_loss_10=6.13e-5, eval_loss_11=0.000313, eval_loss_12=0.000436, eval_loss_13=0.000411, eval_loss_14=0.00079] \n"
     ]
    },
    {
     "name": "stdout",
     "output_type": "stream",
     "text": [
      "Evaluation Score 1 : [0.0001389386857115868]\n",
      "Evaluation Score 2 : [0.00037490398972295225]\n",
      "Evaluation Score 3 : [0.00039727957287473924]\n",
      "Evaluation Score 4 : [0.00017443992532562556]\n",
      "Evaluation Score 5 : [0.0002184748758204145]\n",
      "Evaluation Score 6 : [0.00013441621665218162]\n",
      "Evaluation Score 7 : [0.0004191653428190365]\n",
      "Evaluation Score 8 : [0.00034821564125794374]\n",
      "Evaluation Score 9 : [0.00014344663497645454]\n",
      "Evaluation Score 10 : [4.732950889397549e-05]\n",
      "Evaluation Score 11 : [0.0003000724508438441]\n",
      "Evaluation Score 12 : [0.0005597047239439789]\n",
      "Evaluation Score 13 : [0.00047264728345908225]\n",
      "Evaluation Score 14 : [0.0010003681598435633]\n",
      "\n",
      "\n",
      "Epoch 42\n"
     ]
    },
    {
     "name": "stderr",
     "output_type": "stream",
     "text": [
      "training: 100%|██████████| 8835/8835 [54:02<00:00,  2.72it/s, train_loss_1=0.00028, train_loss_2=0.000441, train_loss_3=0.000859, train_loss_4=0.000107, train_loss_5=0.000372, train_loss_6=0.000461, train_loss_7=0.000245, train_loss_8=0.0028, train_loss_9=0.000604, train_loss_10=0.000132, train_loss_11=0.000391, train_loss_12=0.000288, train_loss_13=0.0011, train_loss_14=0.00083]      \n",
      "validation: 100%|██████████| 41/41 [00:04<00:00,  9.53it/s, eval_loss_1=6.1e-5, eval_loss_2=0.000389, eval_loss_3=0.00105, eval_loss_4=0.000126, eval_loss_5=0.000268, eval_loss_6=0.000393, eval_loss_7=0.000314, eval_loss_8=0.00215, eval_loss_9=0.000601, eval_loss_10=0.000123, eval_loss_11=0.000235, eval_loss_12=0.000125, eval_loss_13=0.00106, eval_loss_14=0.000892]  \n"
     ]
    },
    {
     "name": "stdout",
     "output_type": "stream",
     "text": [
      "Evaluation Score 1 : [5.72917688703278e-05]\n",
      "Evaluation Score 2 : [0.0003328198501726658]\n",
      "Evaluation Score 3 : [0.0009558277599309095]\n",
      "Evaluation Score 4 : [0.00012105129458288458]\n",
      "Evaluation Score 5 : [0.00024908902790828996]\n",
      "Evaluation Score 6 : [0.00029374258422360915]\n",
      "Evaluation Score 7 : [0.00019674888235607707]\n",
      "Evaluation Score 8 : [0.0019108663517527465]\n",
      "Evaluation Score 9 : [0.0009204591482468858]\n",
      "Evaluation Score 10 : [8.724322310072461e-05]\n",
      "Evaluation Score 11 : [0.00036827941416626476]\n",
      "Evaluation Score 12 : [0.00016990654073263767]\n",
      "Evaluation Score 13 : [0.0012256318160968765]\n",
      "Evaluation Score 14 : [0.0011014373030331804]\n",
      "\n",
      "\n",
      "Epoch 43\n"
     ]
    },
    {
     "name": "stderr",
     "output_type": "stream",
     "text": [
      "training: 100%|██████████| 8835/8835 [53:19<00:00,  2.76it/s, train_loss_1=0.000146, train_loss_2=0.000224, train_loss_3=0.000212, train_loss_4=6.05e-5, train_loss_5=0.000193, train_loss_6=0.000132, train_loss_7=0.000328, train_loss_8=0.000133, train_loss_9=0.000131, train_loss_10=0.000202, train_loss_11=0.000302, train_loss_12=0.000186, train_loss_13=0.000991, train_loss_14=0.000711] \n",
      "validation: 100%|██████████| 41/41 [00:04<00:00,  9.55it/s, eval_loss_1=0.00019, eval_loss_2=0.000215, eval_loss_3=0.000724, eval_loss_4=0.000163, eval_loss_5=0.00049, eval_loss_6=0.000136, eval_loss_7=0.000433, eval_loss_8=0.000937, eval_loss_9=0.000355, eval_loss_10=0.000143, eval_loss_11=0.000231, eval_loss_12=0.00123, eval_loss_13=0.000324, eval_loss_14=0.000825] \n"
     ]
    },
    {
     "name": "stdout",
     "output_type": "stream",
     "text": [
      "Evaluation Score 1 : [0.00016242973439014948]\n",
      "Evaluation Score 2 : [0.0003405808912669649]\n",
      "Evaluation Score 3 : [0.0007699113452761639]\n",
      "Evaluation Score 4 : [0.00014992663565818675]\n",
      "Evaluation Score 5 : [0.0003930984892621182]\n",
      "Evaluation Score 6 : [9.652074989323254e-05]\n",
      "Evaluation Score 7 : [0.0005470597073038267]\n",
      "Evaluation Score 8 : [0.0010897427919411623]\n",
      "Evaluation Score 9 : [0.0004373336098690676]\n",
      "Evaluation Score 10 : [0.00013696978957585353]\n",
      "Evaluation Score 11 : [0.00020921003838671688]\n",
      "Evaluation Score 12 : [0.0019555698126191047]\n",
      "Evaluation Score 13 : [0.0003821382830742883]\n",
      "Evaluation Score 14 : [0.000835024212237175]\n",
      "\n",
      "\n",
      "Epoch 44\n"
     ]
    },
    {
     "name": "stderr",
     "output_type": "stream",
     "text": [
      "training: 100%|██████████| 8835/8835 [54:47<00:00,  2.69it/s, train_loss_1=0.00016, train_loss_2=0.000253, train_loss_3=0.00106, train_loss_4=0.000304, train_loss_5=0.00158, train_loss_6=0.000179, train_loss_7=0.00266, train_loss_8=0.0011, train_loss_9=0.00092, train_loss_10=0.00015, train_loss_11=0.00307, train_loss_12=0.000413, train_loss_13=0.00113, train_loss_14=0.000733]          \n",
      "validation: 100%|██████████| 41/41 [00:04<00:00,  9.49it/s, eval_loss_1=0.000543, eval_loss_2=0.00048, eval_loss_3=0.00204, eval_loss_4=0.000146, eval_loss_5=0.000553, eval_loss_6=0.00031, eval_loss_7=0.00156, eval_loss_8=0.000639, eval_loss_9=0.00188, eval_loss_10=0.000316, eval_loss_11=0.00304, eval_loss_12=0.000218, eval_loss_13=0.000749, eval_loss_14=0.000603]  \n"
     ]
    },
    {
     "name": "stdout",
     "output_type": "stream",
     "text": [
      "Evaluation Score 1 : [0.0004111318508299386]\n",
      "Evaluation Score 2 : [0.0004853230096093129]\n",
      "Evaluation Score 3 : [0.0020903243723030132]\n",
      "Evaluation Score 4 : [0.000123674043052455]\n",
      "Evaluation Score 5 : [0.0005268162420223944]\n",
      "Evaluation Score 6 : [0.0003107011232314995]\n",
      "Evaluation Score 7 : [0.002169175922484478]\n",
      "Evaluation Score 8 : [0.000599667150243299]\n",
      "Evaluation Score 9 : [0.002036072007130559]\n",
      "Evaluation Score 10 : [0.0002277722729869732]\n",
      "Evaluation Score 11 : [0.002562739869307091]\n",
      "Evaluation Score 12 : [0.00022696381507202892]\n",
      "Evaluation Score 13 : [0.0008488024056820971]\n",
      "Evaluation Score 14 : [0.000554361514798252]\n",
      "\n",
      "\n",
      "Epoch 45\n"
     ]
    },
    {
     "name": "stderr",
     "output_type": "stream",
     "text": [
      "training: 100%|██████████| 8835/8835 [53:14<00:00,  2.77it/s, train_loss_1=0.000394, train_loss_2=9.11e-5, train_loss_3=0.000628, train_loss_4=0.000277, train_loss_5=0.000298, train_loss_6=0.000777, train_loss_7=0.000315, train_loss_8=0.000667, train_loss_9=0.000706, train_loss_10=8.04e-5, train_loss_11=0.000353, train_loss_12=0.000449, train_loss_13=0.000937, train_loss_14=0.000715]  \n",
      "validation: 100%|██████████| 41/41 [00:04<00:00,  9.53it/s, eval_loss_1=0.000576, eval_loss_2=0.000251, eval_loss_3=0.000596, eval_loss_4=0.000226, eval_loss_5=0.000474, eval_loss_6=0.000235, eval_loss_7=0.000362, eval_loss_8=0.00191, eval_loss_9=0.0028, eval_loss_10=8.15e-5, eval_loss_11=0.000542, eval_loss_12=0.000559, eval_loss_13=0.00073, eval_loss_14=0.000354]   "
     ]
    },
    {
     "name": "stdout",
     "output_type": "stream",
     "text": [
      "Evaluation Score 1 : [0.0005726587742839645]\n",
      "Evaluation Score 2 : [0.000303588352214386]\n",
      "Evaluation Score 3 : [0.0006339101024290047]\n",
      "Evaluation Score 4 : [0.00018037345207852834]\n",
      "Evaluation Score 5 : [0.0003259201813063289]\n",
      "Evaluation Score 6 : [0.0002114071202657481]\n",
      "Evaluation Score 7 : [0.000379202797974846]\n",
      "Evaluation Score 8 : [0.0012808302303821575]\n",
      "Evaluation Score 9 : [0.0023345390402870936]\n",
      "Evaluation Score 10 : [8.028610327306612e-05]\n",
      "Evaluation Score 11 : [0.0005508861994291315]\n",
      "Evaluation Score 12 : [0.0003945987171879629]\n",
      "Evaluation Score 13 : [0.0007704730577221731]\n",
      "Evaluation Score 14 : [0.0002606110835430871]\n",
      "\n",
      "\n",
      "Individual model 4 stopped training early at epoch 44\n",
      "Entire zonal model training stopped early at epoch: 44\n",
      "\n",
      "Total time of training: 43.30135886742009 hours\n"
     ]
    },
    {
     "name": "stderr",
     "output_type": "stream",
     "text": [
      "\n"
     ]
    }
   ],
   "source": [
    "start_time = time.time()\n",
    "\n",
    "# Train the VAE model\n",
    "for epoch in range(200):\n",
    "    print('Epoch', epoch + 1)\n",
    "\n",
    "    train_losses, \\\n",
    "    trained_model_1, \\\n",
    "    trained_model_2, \\\n",
    "    trained_model_3, \\\n",
    "    trained_model_4, \\\n",
    "    trained_model_5, \\\n",
    "    trained_model_6, \\\n",
    "    trained_model_7, \\\n",
    "    trained_model_8, \\\n",
    "    trained_model_9, \\\n",
    "    trained_model_10, \\\n",
    "    trained_model_11, \\\n",
    "    trained_model_12, \\\n",
    "    trained_model_13, \\\n",
    "    trained_model_14 = train(vae_lstm_1, vae_lstm_2, vae_lstm_3, vae_lstm_4,\n",
    "                             vae_lstm_5, vae_lstm_6, vae_lstm_7, vae_lstm_8,\n",
    "                             vae_lstm_9, vae_lstm_10, vae_lstm_11, vae_lstm_12,\n",
    "                             vae_lstm_13, vae_lstm_14, optimizer=opt, train_loader=train_dataloader)\n",
    "\n",
    "    valid_losses = valid_or_test(trained_model_1, trained_model_2, trained_model_3,\n",
    "                                 trained_model_4, trained_model_5, trained_model_6,\n",
    "                                 trained_model_7, trained_model_8, trained_model_9, trained_model_10,\n",
    "                                 trained_model_11, trained_model_12, trained_model_13, trained_model_14,\n",
    "                                 data_loader=valid_dataloader, mode=\"valid\")\n",
    "\n",
    "    # For model 1\n",
    "    if (valid_losses[0] < lowest_loss_1) and (model_train_flag_1 == False):\n",
    "        lowest_loss_1 = valid_losses[0]\n",
    "        lowest_loss_epoch_1 = epoch\n",
    "        save_checkpoint(trained_model_1, os.path.join(os.getcwd(), \"vae_checkpoint\", \"vae_best_model_1.pth\"))\n",
    "\n",
    "    elif (epoch - lowest_loss_epoch_1 > early_stop_patience) and (model_train_flag_1 == False):\n",
    "        print(\"Individual model {} stopped training early at epoch {}\".format(1, epoch))\n",
    "        model_train_flag_1 = True\n",
    "\n",
    "    # For model 2\n",
    "    if (valid_losses[1] < lowest_loss_2) and (model_train_flag_2 == False):\n",
    "        lowest_loss_2 = valid_losses[1]\n",
    "        lowest_loss_epoch_2 = epoch\n",
    "        save_checkpoint(trained_model_2, os.path.join(os.getcwd(), \"vae_checkpoint\", \"vae_best_model_2.pth\"))\n",
    "\n",
    "    elif (epoch - lowest_loss_epoch_2 > early_stop_patience) and (model_train_flag_2 == False):\n",
    "        print(\"Individual model {} stopped training early at epoch {}\".format(2, epoch))\n",
    "        model_train_flag_2 = True\n",
    "\n",
    "    # For model 3\n",
    "    if (valid_losses[2] < lowest_loss_3) and (model_train_flag_3 == False):\n",
    "        lowest_loss_3 = valid_losses[2]\n",
    "        lowest_loss_epoch_3 = epoch\n",
    "        save_checkpoint(trained_model_3, os.path.join(os.getcwd(), \"vae_checkpoint\", \"vae_best_model_3.pth\"))\n",
    "\n",
    "    elif (epoch - lowest_loss_epoch_3 > early_stop_patience) and (model_train_flag_3 == False):\n",
    "        print(\"Individual model {} stopped training early at epoch {}\".format(3, epoch))\n",
    "        model_train_flag_3 = True\n",
    "\n",
    "    # For model 4\n",
    "    if (valid_losses[3] < lowest_loss_4) and (model_train_flag_4 == False):\n",
    "        lowest_loss_4 = valid_losses[3]\n",
    "        lowest_loss_epoch_4 = epoch\n",
    "        save_checkpoint(trained_model_4, os.path.join(os.getcwd(), \"vae_checkpoint\", \"vae_best_model_4.pth\"))\n",
    "\n",
    "    elif (epoch - lowest_loss_epoch_4 > early_stop_patience) and (model_train_flag_4 == False):\n",
    "        print(\"Individual model {} stopped training early at epoch {}\".format(4, epoch))\n",
    "        model_train_flag_4 = True\n",
    "\n",
    "    # For model 5\n",
    "    if (valid_losses[4] < lowest_loss_5) and (model_train_flag_5 == False):\n",
    "        lowest_loss_5 = valid_losses[4]\n",
    "        lowest_loss_epoch_5 = epoch\n",
    "        save_checkpoint(trained_model_5, os.path.join(os.getcwd(), \"vae_checkpoint\", \"vae_best_model_5.pth\"))\n",
    "\n",
    "    elif (epoch - lowest_loss_epoch_5 > early_stop_patience) and (model_train_flag_5 == False):\n",
    "        print(\"Individual model {} stopped training early at epoch {}\".format(5, epoch))\n",
    "        model_train_flag_5 = True\n",
    "\n",
    "    # For model 6\n",
    "    if (valid_losses[5] < lowest_loss_6) and (model_train_flag_6 == False):\n",
    "        lowest_loss_6 = valid_losses[5]\n",
    "        lowest_loss_epoch_6 = epoch\n",
    "        save_checkpoint(trained_model_6, os.path.join(os.getcwd(), \"vae_checkpoint\", \"vae_best_model_6.pth\"))\n",
    "\n",
    "    elif (epoch - lowest_loss_epoch_6 > early_stop_patience) and (model_train_flag_6 == False):\n",
    "        print(\"Individual model {} stopped training early at epoch {}\".format(6, epoch))\n",
    "        model_train_flag_6 = True\n",
    "\n",
    "    # For model 7\n",
    "    if (valid_losses[6] < lowest_loss_7) and (model_train_flag_7 == False):\n",
    "        lowest_loss_7 = valid_losses[6]\n",
    "        lowest_loss_epoch_7 = epoch\n",
    "        save_checkpoint(trained_model_7, os.path.join(os.getcwd(), \"vae_checkpoint\", \"vae_best_model_7.pth\"))\n",
    "\n",
    "    elif (epoch - lowest_loss_epoch_7 > early_stop_patience) and (model_train_flag_7 == False):\n",
    "        print(\"Individual model {} stopped training early at epoch {}\".format(7, epoch))\n",
    "        model_train_flag_7 = True\n",
    "\n",
    "    # For model 8\n",
    "    if (valid_losses[7] < lowest_loss_8) and (model_train_flag_8 == False):\n",
    "        lowest_loss_8 = valid_losses[7]\n",
    "        lowest_loss_epoch_8 = epoch\n",
    "        save_checkpoint(trained_model_8, os.path.join(os.getcwd(), \"vae_checkpoint\", \"vae_best_model_8.pth\"))\n",
    "\n",
    "    elif (epoch - lowest_loss_epoch_8 > early_stop_patience) and (model_train_flag_8 == False):\n",
    "        print(\"Individual model {} stopped training early at epoch {}\".format(8, epoch))\n",
    "        model_train_flag_8 = True\n",
    "\n",
    "    # For model 9\n",
    "    if (valid_losses[8] < lowest_loss_9) and (model_train_flag_9 == False):\n",
    "        lowest_loss_9 = valid_losses[8]\n",
    "        lowest_loss_epoch_9 = epoch\n",
    "        save_checkpoint(trained_model_9, os.path.join(os.getcwd(), \"vae_checkpoint\", \"vae_best_model_9.pth\"))\n",
    "\n",
    "    elif (epoch - lowest_loss_epoch_9 > early_stop_patience) and (model_train_flag_9 == False):\n",
    "        print(\"Individual model {} stopped training early at epoch {}\".format(9, epoch))\n",
    "        model_train_flag_9 = True\n",
    "\n",
    "    # For model 10\n",
    "    if (valid_losses[9] < lowest_loss_10) and (model_train_flag_10 == False):\n",
    "        lowest_loss_10 = valid_losses[9]\n",
    "        lowest_loss_epoch_10 = epoch\n",
    "        save_checkpoint(trained_model_10, os.path.join(os.getcwd(), \"vae_checkpoint\", \"vae_best_model_10.pth\"))\n",
    "\n",
    "    elif (epoch - lowest_loss_epoch_10 > early_stop_patience) and (model_train_flag_10 == False):\n",
    "        print(\"Individual model {} stopped training early at epoch {}\".format(10, epoch))\n",
    "        model_train_flag_10 = True\n",
    "\n",
    "    # For model 11\n",
    "    if (valid_losses[10] < lowest_loss_11) and (model_train_flag_11 == False):\n",
    "        lowest_loss_11 = valid_losses[10]\n",
    "        lowest_loss_epoch_11 = epoch\n",
    "        save_checkpoint(trained_model_11, os.path.join(os.getcwd(), \"vae_checkpoint\", \"vae_best_model_11.pth\"))\n",
    "\n",
    "    elif (epoch - lowest_loss_epoch_11 > early_stop_patience) and (model_train_flag_11 == False):\n",
    "        print(\"Individual model {} stopped training early at epoch {}\".format(11, epoch))\n",
    "        model_train_flag_11 = True\n",
    "\n",
    "    # For model 12\n",
    "    if (valid_losses[11] < lowest_loss_12) and (model_train_flag_12 == False):\n",
    "        lowest_loss_12 = valid_losses[11]\n",
    "        lowest_loss_epoch_12 = epoch\n",
    "        save_checkpoint(trained_model_12, os.path.join(os.getcwd(), \"vae_checkpoint\", \"vae_best_model_12.pth\"))\n",
    "\n",
    "    elif (epoch - lowest_loss_epoch_12 > early_stop_patience) and (model_train_flag_12 == False):\n",
    "        print(\"Individual model {} stopped training early at epoch {}\".format(12, epoch))\n",
    "        model_train_flag_12 = True\n",
    "\n",
    "    # For model 13\n",
    "    if (valid_losses[12] < lowest_loss_13) and (model_train_flag_13 == False):\n",
    "        lowest_loss_13 = valid_losses[12]\n",
    "        lowest_loss_epoch_13 = epoch\n",
    "        save_checkpoint(trained_model_13, os.path.join(os.getcwd(), \"vae_checkpoint\", \"vae_best_model_13.pth\"))\n",
    "\n",
    "    elif (epoch - lowest_loss_epoch_13 > early_stop_patience) and (model_train_flag_13 == False):\n",
    "        print(\"Individual model {} stopped training early at epoch {}\".format(13, epoch))\n",
    "        model_train_flag_13 = True\n",
    "\n",
    "    # For model 14\n",
    "    if (valid_losses[13] < lowest_loss_14) and (model_train_flag_14 == False):\n",
    "        lowest_loss_14 = valid_losses[13]\n",
    "        lowest_loss_epoch_14 = epoch\n",
    "        save_checkpoint(trained_model_14, os.path.join(os.getcwd(), \"vae_checkpoint\", \"vae_best_model_14.pth\"))\n",
    "\n",
    "    elif (epoch - lowest_loss_epoch_14 > early_stop_patience) and (model_train_flag_14 == False):\n",
    "        print(\"Individual model {} stopped training early at epoch {}\".format(14, epoch))\n",
    "        model_train_flag_14 = True\n",
    "\n",
    "    if all((model_train_flag_1, model_train_flag_2, model_train_flag_3, model_train_flag_4, model_train_flag_5,\n",
    "            model_train_flag_6, model_train_flag_7, model_train_flag_8, model_train_flag_9, model_train_flag_10,\n",
    "            model_train_flag_11, model_train_flag_12, model_train_flag_13, model_train_flag_14)):\n",
    "        print(\"Entire zonal model training stopped early at epoch: {}\".format(epoch))\n",
    "        break\n",
    "\n",
    "end_time = time.time()\n",
    "\n",
    "total_time = end_time - start_time\n",
    "print(\"\\nTotal time of training: {} hours\".format(total_time/3600))"
   ],
   "metadata": {
    "collapsed": false
   }
  },
  {
   "cell_type": "markdown",
   "source": [
    "#### LOADING AND GENERATING RESULTS ON TEST DATALOADER"
   ],
   "metadata": {
    "collapsed": false
   }
  },
  {
   "cell_type": "code",
   "execution_count": 43,
   "outputs": [],
   "source": [
    "# Loading the models\n",
    "best_vae_lstm_model_1 = load_from_checkpoint(trained_model_1, os.path.join(os.getcwd(), \"vae_checkpoint\", \"vae_best_model_1.pth\"))\n",
    "best_vae_lstm_model_2 = load_from_checkpoint(trained_model_2, os.path.join(os.getcwd(), \"vae_checkpoint\", \"vae_best_model_2.pth\"))\n",
    "best_vae_lstm_model_3 = load_from_checkpoint(trained_model_3, os.path.join(os.getcwd(), \"vae_checkpoint\", \"vae_best_model_3.pth\"))\n",
    "best_vae_lstm_model_4 = load_from_checkpoint(trained_model_4, os.path.join(os.getcwd(), \"vae_checkpoint\", \"vae_best_model_4.pth\"))\n",
    "best_vae_lstm_model_5 = load_from_checkpoint(trained_model_5, os.path.join(os.getcwd(), \"vae_checkpoint\", \"vae_best_model_5.pth\"))\n",
    "best_vae_lstm_model_6 = load_from_checkpoint(trained_model_6, os.path.join(os.getcwd(), \"vae_checkpoint\", \"vae_best_model_6.pth\"))\n",
    "best_vae_lstm_model_7 = load_from_checkpoint(trained_model_7, os.path.join(os.getcwd(), \"vae_checkpoint\", \"vae_best_model_7.pth\"))\n",
    "best_vae_lstm_model_8 = load_from_checkpoint(trained_model_8, os.path.join(os.getcwd(), \"vae_checkpoint\", \"vae_best_model_8.pth\"))\n",
    "best_vae_lstm_model_9 = load_from_checkpoint(trained_model_9, os.path.join(os.getcwd(), \"vae_checkpoint\", \"vae_best_model_9.pth\"))\n",
    "best_vae_lstm_model_10 = load_from_checkpoint(trained_model_10, os.path.join(os.getcwd(), \"vae_checkpoint\", \"vae_best_model_10.pth\"))\n",
    "best_vae_lstm_model_11 = load_from_checkpoint(trained_model_11, os.path.join(os.getcwd(), \"vae_checkpoint\", \"vae_best_model_11.pth\"))\n",
    "best_vae_lstm_model_12 = load_from_checkpoint(trained_model_12, os.path.join(os.getcwd(), \"vae_checkpoint\", \"vae_best_model_12.pth\"))\n",
    "best_vae_lstm_model_13 = load_from_checkpoint(trained_model_13, os.path.join(os.getcwd(), \"vae_checkpoint\", \"vae_best_model_13.pth\"))\n",
    "best_vae_lstm_model_14 = load_from_checkpoint(trained_model_14, os.path.join(os.getcwd(), \"vae_checkpoint\", \"vae_best_model_14.pth\"))"
   ],
   "metadata": {
    "collapsed": false
   }
  },
  {
   "cell_type": "code",
   "execution_count": 44,
   "outputs": [
    {
     "name": "stderr",
     "output_type": "stream",
     "text": [
      "testing: 100%|██████████| 46/46 [00:04<00:00,  9.36it/s, eval_loss_1=0.000192, eval_loss_2=0.000418, eval_loss_3=0.000214, eval_loss_4=0.000166, eval_loss_5=0.000427, eval_loss_6=0.00021, eval_loss_7=0.000612, eval_loss_8=0.000288, eval_loss_9=0.000203, eval_loss_10=0.000231, eval_loss_11=0.000156, eval_loss_12=0.000254, eval_loss_13=0.000326, eval_loss_14=0.000123] "
     ]
    },
    {
     "name": "stdout",
     "output_type": "stream",
     "text": [
      "Evaluation Score 1 : [0.00013354813263108753]\n",
      "Evaluation Score 2 : [0.00034079504225899103]\n",
      "Evaluation Score 3 : [0.00018301385716767982]\n",
      "Evaluation Score 4 : [0.00010790193253184123]\n",
      "Evaluation Score 5 : [0.0003380232178049324]\n",
      "Evaluation Score 6 : [0.0001849288586843455]\n",
      "Evaluation Score 7 : [0.0005706284883553567]\n",
      "Evaluation Score 8 : [0.00027348864924810505]\n",
      "Evaluation Score 9 : [0.00015125288938060808]\n",
      "Evaluation Score 10 : [0.00023343364338633484]\n",
      "Evaluation Score 11 : [0.0001420663388473812]\n",
      "Evaluation Score 12 : [0.000167217462307156]\n",
      "Evaluation Score 13 : [0.00036868890880293253]\n",
      "Evaluation Score 14 : [0.00017516218656016028]\n",
      "\n",
      "\n"
     ]
    },
    {
     "name": "stderr",
     "output_type": "stream",
     "text": [
      "\n"
     ]
    }
   ],
   "source": [
    "# Testing using the test dataloader\n",
    "orig_1, pred_1, \\\n",
    "orig_2, pred_2, \\\n",
    "orig_3, pred_3, \\\n",
    "orig_4, pred_4, \\\n",
    "orig_5, pred_5, \\\n",
    "orig_6, pred_6, \\\n",
    "orig_7, pred_7, \\\n",
    "orig_8, pred_8, \\\n",
    "orig_9, pred_9, \\\n",
    "orig_10, pred_10, \\\n",
    "orig_11, pred_11, \\\n",
    "orig_12, pred_12, \\\n",
    "orig_13, pred_13, \\\n",
    "orig_14, pred_14  = valid_or_test(best_vae_lstm_model_1,\n",
    "                                  best_vae_lstm_model_2,\n",
    "                                  best_vae_lstm_model_3,\n",
    "                                  best_vae_lstm_model_4,\n",
    "                                  best_vae_lstm_model_5,\n",
    "                                  best_vae_lstm_model_6,\n",
    "                                  best_vae_lstm_model_7,\n",
    "                                  best_vae_lstm_model_8,\n",
    "                                  best_vae_lstm_model_9,\n",
    "                                  best_vae_lstm_model_10,\n",
    "                                  best_vae_lstm_model_11,\n",
    "                                  best_vae_lstm_model_12,\n",
    "                                  best_vae_lstm_model_13,\n",
    "                                  best_vae_lstm_model_14,\n",
    "                                  data_loader=test_dataloader, mode=\"test\")"
   ],
   "metadata": {
    "collapsed": false
   }
  },
  {
   "cell_type": "code",
   "execution_count": 45,
   "outputs": [],
   "source": [
    "orig = pd.DataFrame(orig_7)\n",
    "pred = pd.DataFrame(pred_7)"
   ],
   "metadata": {
    "collapsed": false
   }
  },
  {
   "cell_type": "code",
   "execution_count": 46,
   "outputs": [
    {
     "data": {
      "text/plain": "<AxesSubplot: >"
     },
     "execution_count": 46,
     "metadata": {},
     "output_type": "execute_result"
    },
    {
     "data": {
      "text/plain": "<Figure size 640x480 with 1 Axes>",
      "image/png": "[encoded data removed]"
     },
     "metadata": {},
     "output_type": "display_data"
    }
   ],
   "source": [
    "pd.concat((orig.iloc[:, 0], pred.iloc[:, 0]), axis=1).plot()"
   ],
   "metadata": {
    "collapsed": false
   }
  },
  {
   "cell_type": "code",
   "execution_count": 47,
   "outputs": [
    {
     "data": {
      "text/plain": "<AxesSubplot: >"
     },
     "execution_count": 47,
     "metadata": {},
     "output_type": "execute_result"
    },
    {
     "data": {
      "text/plain": "<Figure size 640x480 with 1 Axes>",
      "image/png": "[encoded data removed]"
     },
     "metadata": {},
     "output_type": "display_data"
    }
   ],
   "source": [
    "pd.concat((orig.iloc[:, 1], pred.iloc[:, 1]), axis=1).plot()"
   ],
   "metadata": {
    "collapsed": false
   }
  },
  {
   "cell_type": "code",
   "execution_count": 48,
   "outputs": [
    {
     "data": {
      "text/plain": "<AxesSubplot: >"
     },
     "execution_count": 48,
     "metadata": {},
     "output_type": "execute_result"
    },
    {
     "data": {
      "text/plain": "<Figure size 640x480 with 1 Axes>",
      "image/png": "[encoded data removed]"
     },
     "metadata": {},
     "output_type": "display_data"
    }
   ],
   "source": [
    "pd.concat((orig.iloc[:, 2], pred.iloc[:, 2]), axis=1).plot()"
   ],
   "metadata": {
    "collapsed": false
   }
  },
  {
   "cell_type": "code",
   "execution_count": 49,
   "outputs": [
    {
     "data": {
      "text/plain": "1.8571903929114342"
     },
     "execution_count": 49,
     "metadata": {},
     "output_type": "execute_result"
    }
   ],
   "source": [
    "mape(orig.iloc[:, 0], pred.iloc[:, 0])"
   ],
   "metadata": {
    "collapsed": false
   }
  },
  {
   "cell_type": "code",
   "execution_count": 50,
   "outputs": [
    {
     "data": {
      "text/plain": "1.8472323194146156"
     },
     "execution_count": 50,
     "metadata": {},
     "output_type": "execute_result"
    }
   ],
   "source": [
    "mape(orig.iloc[:, 1], pred.iloc[:, 1])"
   ],
   "metadata": {
    "collapsed": false
   }
  },
  {
   "cell_type": "code",
   "execution_count": 51,
   "outputs": [
    {
     "data": {
      "text/plain": "2.439565025269985"
     },
     "execution_count": 51,
     "metadata": {},
     "output_type": "execute_result"
    }
   ],
   "source": [
    "mape(orig.iloc[:, 2], pred.iloc[:, 2])"
   ],
   "metadata": {
    "collapsed": false
   }
  },
  {
   "cell_type": "code",
   "execution_count": 52,
   "outputs": [
    {
     "name": "stdout",
     "output_type": "stream",
     "text": [
      "Saving the best trained models.\n",
      "Saved !\n"
     ]
    }
   ],
   "source": [
    "print(\"Saving the best trained models.\")\n",
    "\n",
    "# Saving the models\n",
    "torch.save(best_vae_lstm_model_1, f\"vae_models/L3_best_zone_1.pth\")\n",
    "torch.save(best_vae_lstm_model_2, f\"vae_models/L3_best_zone_2.pth\")\n",
    "torch.save(best_vae_lstm_model_3, f\"vae_models/L3_best_zone_3.pth\")\n",
    "torch.save(best_vae_lstm_model_4, f\"vae_models/L3_best_zone_4.pth\")\n",
    "torch.save(best_vae_lstm_model_5, f\"vae_models/L3_best_zone_5.pth\")\n",
    "torch.save(best_vae_lstm_model_6, f\"vae_models/L3_best_zone_6.pth\")\n",
    "torch.save(best_vae_lstm_model_7, f\"vae_models/L3_best_zone_7.pth\")\n",
    "torch.save(best_vae_lstm_model_8, f\"vae_models/L3_best_zone_8.pth\")\n",
    "torch.save(best_vae_lstm_model_9, f\"vae_models/L3_best_zone_9.pth\")\n",
    "torch.save(best_vae_lstm_model_10, f\"vae_models/L3_best_zone_10.pth\")\n",
    "torch.save(best_vae_lstm_model_11, f\"vae_models/L3_best_zone_11.pth\")\n",
    "torch.save(best_vae_lstm_model_12, f\"vae_models/L3_best_zone_12.pth\")\n",
    "torch.save(best_vae_lstm_model_13, f\"vae_models/L3_best_zone_13.pth\")\n",
    "torch.save(best_vae_lstm_model_14, f\"vae_models/L3_best_zone_14.pth\")\n",
    "\n",
    "print(\"Saved !\")"
   ],
   "metadata": {
    "collapsed": false
   }
  },
  {
   "cell_type": "code",
   "execution_count": 53,
   "outputs": [
    {
     "data": {
      "text/plain": "{'status': 'ok', 'restart': True}"
     },
     "execution_count": 53,
     "metadata": {},
     "output_type": "execute_result"
    }
   ],
   "source": [
    "import IPython\n",
    "app = IPython.Application.instance()\n",
    "app.kernel.do_shutdown(True)"
   ],
   "metadata": {
    "collapsed": false
   }
  }
 ],
 "metadata": {
  "kernelspec": {
   "display_name": "Python 3",
   "language": "python",
   "name": "python3"
  },
  "language_info": {
   "codemirror_mode": {
    "name": "ipython",
    "version": 2
   },
   "file_extension": ".py",
   "mimetype": "text/x-python",
   "name": "python",
   "nbconvert_exporter": "python",
   "pygments_lexer": "ipython2",
   "version": "2.7.6"
  }
 },
 "nbformat": 4,
 "nbformat_minor": 0
}
