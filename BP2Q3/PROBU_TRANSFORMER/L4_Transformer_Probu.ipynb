{
 "cells": [
  {
   "cell_type": "code",
   "execution_count": 1,
   "outputs": [
    {
     "name": "stdout",
     "output_type": "stream",
     "text": [
      "Using device cuda:0\n"
     ]
    }
   ],
   "source": [
    "# Importing the required libraries\n",
    "from IPython.display import display\n",
    "import os\n",
    "import numpy as np\n",
    "import pandas as pd\n",
    "from matplotlib import pyplot as plt\n",
    "from tqdm import tqdm\n",
    "from sklearn.preprocessing import MinMaxScaler, OneHotEncoder\n",
    "import time\n",
    "import easydict\n",
    "import copy\n",
    "\n",
    "import torch\n",
    "import torch.nn as nn\n",
    "from torch.utils.tensorboard import SummaryWriter\n",
    "from torch.utils.data import DataLoader, Dataset\n",
    "import torch.optim as optim\n",
    "from tqdm import tqdm\n",
    "\n",
    "from time_transformer.transformer import Transformer\n",
    "\n",
    "# Training device check-up\n",
    "device = torch.device(\"cuda:0\" if torch.cuda.is_available() else \"cpu\")\n",
    "print(f\"Using device {device}\")\n",
    "\n",
    "writer = SummaryWriter()\n",
    "\n",
    "# Defining DOE custom mape formula\n",
    "def mape(y_true, y_pred):\n",
    "    y_true, y_pred = np.array(y_true), np.array(y_pred)\n",
    "    return np.mean(np.abs((y_true - y_pred) / max(y_true))) * 100"
   ],
   "metadata": {
    "collapsed": false
   }
  },
  {
   "cell_type": "markdown",
   "source": [
    "#### FETCHING AND PROCESSING CALENDER FEATURES"
   ],
   "metadata": {
    "collapsed": false
   }
  },
  {
   "cell_type": "code",
   "execution_count": 2,
   "outputs": [
    {
     "name": "stdout",
     "output_type": "stream",
     "text": [
      "['Capital.csv', 'Central.csv', 'Dunwoody.csv', 'Genese.csv', 'Hudson.csv', 'LongIsland.csv', 'Milwood.csv', 'NYC.csv']\n"
     ]
    }
   ],
   "source": [
    "# Specifying the path of file\n",
    "path= r\"C:\\Users\\sashah8\\DOE_Graph_Attention_Transformer\\DOE MODEL TRAINING\\Data Processing\\processed_data\"\n",
    "dataset = \"L4\"\n",
    "\n",
    "# Listing just the required files\n",
    "fileList = os.listdir(os.path.join(path, dataset))\n",
    "\n",
    "# Previewing the required file names\n",
    "print(fileList)"
   ],
   "metadata": {
    "collapsed": false
   }
  },
  {
   "cell_type": "code",
   "execution_count": 3,
   "outputs": [
    {
     "data": {
      "text/plain": "                   ept      mw  tmp\n0  2015-01-01 00:00:00  1280.8 -5.8\n1  2015-01-01 01:00:00  1230.8 -6.1",
      "text/html": "<div>\n<style scoped>\n    .dataframe tbody tr th:only-of-type {\n        vertical-align: middle;\n    }\n\n    .dataframe tbody tr th {\n        vertical-align: top;\n    }\n\n    .dataframe thead th {\n        text-align: right;\n    }\n</style>\n<table border=\"1\" class=\"dataframe\">\n  <thead>\n    <tr style=\"text-align: right;\">\n      <th></th>\n      <th>ept</th>\n      <th>mw</th>\n      <th>tmp</th>\n    </tr>\n  </thead>\n  <tbody>\n    <tr>\n      <th>0</th>\n      <td>2015-01-01 00:00:00</td>\n      <td>1280.8</td>\n      <td>-5.8</td>\n    </tr>\n    <tr>\n      <th>1</th>\n      <td>2015-01-01 01:00:00</td>\n      <td>1230.8</td>\n      <td>-6.1</td>\n    </tr>\n  </tbody>\n</table>\n</div>"
     },
     "metadata": {},
     "output_type": "display_data"
    }
   ],
   "source": [
    "# Just for previewing the column name\n",
    "display(pd.read_csv(os.path.join(path, dataset, fileList[0])).head(2))"
   ],
   "metadata": {
    "collapsed": false
   }
  },
  {
   "cell_type": "code",
   "execution_count": 4,
   "outputs": [
    {
     "name": "stdout",
     "output_type": "stream",
     "text": [
      "Sample dataframe: \n"
     ]
    },
    {
     "data": {
      "text/plain": "                  ept      mw  tmp\n0 2015-01-01 00:00:00  1280.8 -5.8\n1 2015-01-01 01:00:00  1230.8 -6.1",
      "text/html": "<div>\n<style scoped>\n    .dataframe tbody tr th:only-of-type {\n        vertical-align: middle;\n    }\n\n    .dataframe tbody tr th {\n        vertical-align: top;\n    }\n\n    .dataframe thead th {\n        text-align: right;\n    }\n</style>\n<table border=\"1\" class=\"dataframe\">\n  <thead>\n    <tr style=\"text-align: right;\">\n      <th></th>\n      <th>ept</th>\n      <th>mw</th>\n      <th>tmp</th>\n    </tr>\n  </thead>\n  <tbody>\n    <tr>\n      <th>0</th>\n      <td>2015-01-01 00:00:00</td>\n      <td>1280.8</td>\n      <td>-5.8</td>\n    </tr>\n    <tr>\n      <th>1</th>\n      <td>2015-01-01 01:00:00</td>\n      <td>1230.8</td>\n      <td>-6.1</td>\n    </tr>\n  </tbody>\n</table>\n</div>"
     },
     "metadata": {},
     "output_type": "display_data"
    }
   ],
   "source": [
    "# Just for previewing the column name\n",
    "data = pd.read_csv(os.path.join(path, dataset, fileList[0]), parse_dates=['ept'])\n",
    "print(\"Sample dataframe: \")\n",
    "display(data.head(2))"
   ],
   "metadata": {
    "collapsed": false
   }
  },
  {
   "cell_type": "code",
   "execution_count": 5,
   "outputs": [
    {
     "data": {
      "text/plain": "0   2015-01-01 00:00:00\n1   2015-01-01 01:00:00\nName: AA_ept, dtype: datetime64[ns]"
     },
     "execution_count": 5,
     "metadata": {},
     "output_type": "execute_result"
    }
   ],
   "source": [
    "# Fetching the date column only\n",
    "date_col = data.ept.copy()\n",
    "date_col.name = \"AA_ept\"\n",
    "date_col.head(2)"
   ],
   "metadata": {
    "collapsed": false
   }
  },
  {
   "cell_type": "code",
   "execution_count": 6,
   "outputs": [
    {
     "name": "stdout",
     "output_type": "stream",
     "text": [
      "Sample calendar features: \n"
     ]
    },
    {
     "data": {
      "text/plain": "   Month  Day  Hour  Weekday\n0      1    1     0        3\n1      1    1     1        3",
      "text/html": "<div>\n<style scoped>\n    .dataframe tbody tr th:only-of-type {\n        vertical-align: middle;\n    }\n\n    .dataframe tbody tr th {\n        vertical-align: top;\n    }\n\n    .dataframe thead th {\n        text-align: right;\n    }\n</style>\n<table border=\"1\" class=\"dataframe\">\n  <thead>\n    <tr style=\"text-align: right;\">\n      <th></th>\n      <th>Month</th>\n      <th>Day</th>\n      <th>Hour</th>\n      <th>Weekday</th>\n    </tr>\n  </thead>\n  <tbody>\n    <tr>\n      <th>0</th>\n      <td>1</td>\n      <td>1</td>\n      <td>0</td>\n      <td>3</td>\n    </tr>\n    <tr>\n      <th>1</th>\n      <td>1</td>\n      <td>1</td>\n      <td>1</td>\n      <td>3</td>\n    </tr>\n  </tbody>\n</table>\n</div>"
     },
     "metadata": {},
     "output_type": "display_data"
    },
    {
     "name": "stdout",
     "output_type": "stream",
     "text": [
      "Available unique categories: \n"
     ]
    },
    {
     "data": {
      "text/plain": "Month      12\nDay        31\nHour       24\nWeekday     7\ndtype: int64"
     },
     "metadata": {},
     "output_type": "display_data"
    },
    {
     "name": "stdout",
     "output_type": "stream",
     "text": [
      "Total number of observations:  43824\n"
     ]
    }
   ],
   "source": [
    "# Creating the calendar features\n",
    "date = pd.DataFrame()\n",
    "date['Month'] = date_col.dt.month\n",
    "date['Day'] = date_col.dt.day\n",
    "date['Hour'] = date_col.dt.hour\n",
    "date['Weekday'] = date_col.dt.weekday\n",
    "\n",
    "print(\"Sample calendar features: \")\n",
    "display(date.head(2))\n",
    "\n",
    "print(\"Available unique categories: \")\n",
    "display(date.nunique())\n",
    "\n",
    "print(\"Total number of observations: \", len(date))"
   ],
   "metadata": {
    "collapsed": false
   }
  },
  {
   "cell_type": "code",
   "execution_count": 7,
   "outputs": [
    {
     "data": {
      "text/plain": "array([[1., 0., 0., ..., 0., 0., 0.],\n       [1., 0., 0., ..., 0., 0., 0.],\n       [1., 0., 0., ..., 0., 0., 0.],\n       ...,\n       [0., 0., 0., ..., 0., 0., 0.],\n       [0., 0., 0., ..., 0., 0., 0.],\n       [0., 0., 0., ..., 0., 0., 0.]])"
     },
     "metadata": {},
     "output_type": "display_data"
    }
   ],
   "source": [
    "# One-hot encoding the categorical calendar features\n",
    "date_enc = OneHotEncoder(sparse_output=False)\n",
    "categorical_data = date_enc.fit_transform(date)\n",
    "display(categorical_data)"
   ],
   "metadata": {
    "collapsed": false
   }
  },
  {
   "cell_type": "code",
   "execution_count": 8,
   "outputs": [
    {
     "data": {
      "text/plain": "[12, 31, 24, 7]"
     },
     "execution_count": 8,
     "metadata": {},
     "output_type": "execute_result"
    }
   ],
   "source": [
    "category_count = [len(x_len) for x_len in date_enc.categories_]\n",
    "category_count"
   ],
   "metadata": {
    "collapsed": false
   }
  },
  {
   "cell_type": "markdown",
   "source": [
    "#### PROCESSING CONTINUOUS FEATURES FOR ALL AVAILABLE ZONES"
   ],
   "metadata": {
    "collapsed": false
   }
  },
  {
   "cell_type": "markdown",
   "source": [
    "PROCESSING LOAD DATA"
   ],
   "metadata": {
    "collapsed": false
   }
  },
  {
   "cell_type": "code",
   "execution_count": 9,
   "outputs": [
    {
     "data": {
      "text/plain": "       Capital_LOAD  Central_LOAD  Dunwoody_LOAD  Genese_LOAD  Hudson_LOAD  \\\n43822        1280.9        1734.2          608.4       1049.6       1041.3   \n43823        1225.9        1677.7          579.8       1023.4        994.3   \n\n       LongIsland_LOAD  Milwood_LOAD  NYC_LOAD  \n43822           2201.8         326.5    5276.0  \n43823           2090.2         309.9    5063.4  ",
      "text/html": "<div>\n<style scoped>\n    .dataframe tbody tr th:only-of-type {\n        vertical-align: middle;\n    }\n\n    .dataframe tbody tr th {\n        vertical-align: top;\n    }\n\n    .dataframe thead th {\n        text-align: right;\n    }\n</style>\n<table border=\"1\" class=\"dataframe\">\n  <thead>\n    <tr style=\"text-align: right;\">\n      <th></th>\n      <th>Capital_LOAD</th>\n      <th>Central_LOAD</th>\n      <th>Dunwoody_LOAD</th>\n      <th>Genese_LOAD</th>\n      <th>Hudson_LOAD</th>\n      <th>LongIsland_LOAD</th>\n      <th>Milwood_LOAD</th>\n      <th>NYC_LOAD</th>\n    </tr>\n  </thead>\n  <tbody>\n    <tr>\n      <th>43822</th>\n      <td>1280.9</td>\n      <td>1734.2</td>\n      <td>608.4</td>\n      <td>1049.6</td>\n      <td>1041.3</td>\n      <td>2201.8</td>\n      <td>326.5</td>\n      <td>5276.0</td>\n    </tr>\n    <tr>\n      <th>43823</th>\n      <td>1225.9</td>\n      <td>1677.7</td>\n      <td>579.8</td>\n      <td>1023.4</td>\n      <td>994.3</td>\n      <td>2090.2</td>\n      <td>309.9</td>\n      <td>5063.4</td>\n    </tr>\n  </tbody>\n</table>\n</div>"
     },
     "metadata": {},
     "output_type": "display_data"
    }
   ],
   "source": [
    "# Fetching and concatenating the data\n",
    "load_ds = pd.concat([pd.read_csv(os.path.join(path, dataset, fileName),\n",
    "                                 usecols= [\"mw\"]) for fileName in fileList], axis= 1)\n",
    "load_ds.columns = [i.removesuffix('.csv') for i in fileList]\n",
    "load_ds = load_ds.add_suffix(\"_LOAD\")\n",
    "display(load_ds.tail(2))"
   ],
   "metadata": {
    "collapsed": false
   }
  },
  {
   "cell_type": "code",
   "execution_count": 10,
   "outputs": [
    {
     "data": {
      "text/plain": "       Capital_LOAD_LAG1  Central_LOAD_LAG1  Dunwoody_LOAD_LAG1  \\\n43822             1288.4             1723.8               616.6   \n43823             1201.0             1640.1               572.9   \n\n       Genese_LOAD_LAG1  Hudson_LOAD_LAG1  LongIsland_LOAD_LAG1  \\\n43822            1014.3            1062.8                2183.3   \n43823             960.2             987.6                2004.6   \n\n       Milwood_LOAD_LAG1  NYC_LOAD_LAG1  \n43822              328.1         5226.6  \n43823              303.1         4947.4  ",
      "text/html": "<div>\n<style scoped>\n    .dataframe tbody tr th:only-of-type {\n        vertical-align: middle;\n    }\n\n    .dataframe tbody tr th {\n        vertical-align: top;\n    }\n\n    .dataframe thead th {\n        text-align: right;\n    }\n</style>\n<table border=\"1\" class=\"dataframe\">\n  <thead>\n    <tr style=\"text-align: right;\">\n      <th></th>\n      <th>Capital_LOAD_LAG1</th>\n      <th>Central_LOAD_LAG1</th>\n      <th>Dunwoody_LOAD_LAG1</th>\n      <th>Genese_LOAD_LAG1</th>\n      <th>Hudson_LOAD_LAG1</th>\n      <th>LongIsland_LOAD_LAG1</th>\n      <th>Milwood_LOAD_LAG1</th>\n      <th>NYC_LOAD_LAG1</th>\n    </tr>\n  </thead>\n  <tbody>\n    <tr>\n      <th>43822</th>\n      <td>1288.4</td>\n      <td>1723.8</td>\n      <td>616.6</td>\n      <td>1014.3</td>\n      <td>1062.8</td>\n      <td>2183.3</td>\n      <td>328.1</td>\n      <td>5226.6</td>\n    </tr>\n    <tr>\n      <th>43823</th>\n      <td>1201.0</td>\n      <td>1640.1</td>\n      <td>572.9</td>\n      <td>960.2</td>\n      <td>987.6</td>\n      <td>2004.6</td>\n      <td>303.1</td>\n      <td>4947.4</td>\n    </tr>\n  </tbody>\n</table>\n</div>"
     },
     "metadata": {},
     "output_type": "display_data"
    }
   ],
   "source": [
    "# Creating 1-day lag loads\n",
    "load_lag_1 = load_ds.shift(24*2).add_suffix(\"_LAG1\")\n",
    "display(load_lag_1.tail(2))"
   ],
   "metadata": {
    "collapsed": false
   }
  },
  {
   "cell_type": "code",
   "execution_count": 11,
   "outputs": [
    {
     "data": {
      "text/plain": "       Capital_LOAD_LAG7  Central_LOAD_LAG7  Dunwoody_LOAD_LAG7  \\\n43822             1304.1             1738.8               630.8   \n43823             1237.0             1662.0               602.3   \n\n       Genese_LOAD_LAG7  Hudson_LOAD_LAG7  LongIsland_LOAD_LAG7  \\\n43822            1046.8            1094.8                2292.6   \n43823            1005.7            1043.8                2184.3   \n\n       Milwood_LOAD_LAG7  NYC_LOAD_LAG7  \n43822              341.5         5244.8  \n43823              322.6         5038.8  ",
      "text/html": "<div>\n<style scoped>\n    .dataframe tbody tr th:only-of-type {\n        vertical-align: middle;\n    }\n\n    .dataframe tbody tr th {\n        vertical-align: top;\n    }\n\n    .dataframe thead th {\n        text-align: right;\n    }\n</style>\n<table border=\"1\" class=\"dataframe\">\n  <thead>\n    <tr style=\"text-align: right;\">\n      <th></th>\n      <th>Capital_LOAD_LAG7</th>\n      <th>Central_LOAD_LAG7</th>\n      <th>Dunwoody_LOAD_LAG7</th>\n      <th>Genese_LOAD_LAG7</th>\n      <th>Hudson_LOAD_LAG7</th>\n      <th>LongIsland_LOAD_LAG7</th>\n      <th>Milwood_LOAD_LAG7</th>\n      <th>NYC_LOAD_LAG7</th>\n    </tr>\n  </thead>\n  <tbody>\n    <tr>\n      <th>43822</th>\n      <td>1304.1</td>\n      <td>1738.8</td>\n      <td>630.8</td>\n      <td>1046.8</td>\n      <td>1094.8</td>\n      <td>2292.6</td>\n      <td>341.5</td>\n      <td>5244.8</td>\n    </tr>\n    <tr>\n      <th>43823</th>\n      <td>1237.0</td>\n      <td>1662.0</td>\n      <td>602.3</td>\n      <td>1005.7</td>\n      <td>1043.8</td>\n      <td>2184.3</td>\n      <td>322.6</td>\n      <td>5038.8</td>\n    </tr>\n  </tbody>\n</table>\n</div>"
     },
     "metadata": {},
     "output_type": "display_data"
    }
   ],
   "source": [
    "# Creating 7-day lag loads\n",
    "load_lag_7 = load_ds.shift(24*7).add_suffix(\"_LAG7\")\n",
    "display(load_lag_7.tail(2))"
   ],
   "metadata": {
    "collapsed": false
   }
  },
  {
   "cell_type": "code",
   "execution_count": 12,
   "outputs": [
    {
     "name": "stdout",
     "output_type": "stream",
     "text": [
      "Drop data before:  168\n"
     ]
    }
   ],
   "source": [
    "# Drop index for equalizing data\n",
    "drop_idx = load_lag_7.dropna(axis= 0).index[0]\n",
    "print(\"Drop data before: \", drop_idx)"
   ],
   "metadata": {
    "collapsed": false
   }
  },
  {
   "cell_type": "markdown",
   "source": [
    "PROCESSING TEMPERATURE DATA"
   ],
   "metadata": {
    "collapsed": false
   }
  },
  {
   "cell_type": "code",
   "execution_count": 13,
   "outputs": [
    {
     "data": {
      "text/plain": "       Capital_A_TEMP  Central_A_TEMP  Dunwoody_A_TEMP  Genese_A_TEMP  \\\n43822             2.7             2.7              2.7            0.1   \n43823             3.0             3.0              3.0            0.3   \n\n       Hudson_A_TEMP  LongIsland_A_TEMP  Milwood_A_TEMP  NYC_A_TEMP  \n43822            2.7                2.7             2.7         2.7  \n43823            3.0                3.0             3.0         3.0  ",
      "text/html": "<div>\n<style scoped>\n    .dataframe tbody tr th:only-of-type {\n        vertical-align: middle;\n    }\n\n    .dataframe tbody tr th {\n        vertical-align: top;\n    }\n\n    .dataframe thead th {\n        text-align: right;\n    }\n</style>\n<table border=\"1\" class=\"dataframe\">\n  <thead>\n    <tr style=\"text-align: right;\">\n      <th></th>\n      <th>Capital_A_TEMP</th>\n      <th>Central_A_TEMP</th>\n      <th>Dunwoody_A_TEMP</th>\n      <th>Genese_A_TEMP</th>\n      <th>Hudson_A_TEMP</th>\n      <th>LongIsland_A_TEMP</th>\n      <th>Milwood_A_TEMP</th>\n      <th>NYC_A_TEMP</th>\n    </tr>\n  </thead>\n  <tbody>\n    <tr>\n      <th>43822</th>\n      <td>2.7</td>\n      <td>2.7</td>\n      <td>2.7</td>\n      <td>0.1</td>\n      <td>2.7</td>\n      <td>2.7</td>\n      <td>2.7</td>\n      <td>2.7</td>\n    </tr>\n    <tr>\n      <th>43823</th>\n      <td>3.0</td>\n      <td>3.0</td>\n      <td>3.0</td>\n      <td>0.3</td>\n      <td>3.0</td>\n      <td>3.0</td>\n      <td>3.0</td>\n      <td>3.0</td>\n    </tr>\n  </tbody>\n</table>\n</div>"
     },
     "metadata": {},
     "output_type": "display_data"
    }
   ],
   "source": [
    "# Fetching and concatenating the data\n",
    "temp_ds = pd.concat([pd.read_csv(os.path.join(path, dataset, fileName),\n",
    "                                 usecols= [\"tmp\"]) for fileName in fileList], axis= 1)\n",
    "temp_ds.columns = [i.removesuffix('.csv') for i in fileList]\n",
    "temp_ds = temp_ds.add_suffix(\"_A_TEMP\")\n",
    "display(temp_ds.tail(2))"
   ],
   "metadata": {
    "collapsed": false
   }
  },
  {
   "cell_type": "markdown",
   "source": [
    "### PREPARING X AND Y PART"
   ],
   "metadata": {
    "collapsed": false
   }
  },
  {
   "cell_type": "code",
   "execution_count": 14,
   "outputs": [
    {
     "name": "stdout",
     "output_type": "stream",
     "text": [
      "The train-test split index is:  34895\n",
      "The last date of train dataset: \n"
     ]
    },
    {
     "data": {
      "text/plain": "                   AA_ept  Capital_A_TEMP  Capital_LOAD_LAG1  \\\n34894 2018-12-31 22:00:00             3.8             1332.1   \n34895 2018-12-31 23:00:00             3.5             1259.3   \n\n       Capital_LOAD_LAG7  Central_A_TEMP  Central_LOAD_LAG1  \\\n34894             1283.0             3.8             1840.0   \n34895             1212.0             3.5             1752.0   \n\n       Central_LOAD_LAG7  Dunwoody_A_TEMP  Dunwoody_LOAD_LAG1  \\\n34894             1757.1              3.8               640.2   \n34895             1678.4              3.5               602.2   \n\n       Dunwoody_LOAD_LAG7  ...  Hudson_LOAD_LAG7  LongIsland_A_TEMP  \\\n34894               649.9  ...            1084.9                3.8   \n34895               621.0  ...            1030.6                3.5   \n\n       LongIsland_LOAD_LAG1  LongIsland_LOAD_LAG7  Milwood_A_TEMP  \\\n34894                2246.7                2333.7             3.8   \n34895                2081.7                2207.5             3.5   \n\n       Milwood_LOAD_LAG1  Milwood_LOAD_LAG7  NYC_A_TEMP  NYC_LOAD_LAG1  \\\n34894              318.3              339.5         3.8         5210.6   \n34895              296.4              314.2         3.5         4985.6   \n\n       NYC_LOAD_LAG7  \n34894         5280.6  \n34895         5062.8  \n\n[2 rows x 25 columns]",
      "text/html": "<div>\n<style scoped>\n    .dataframe tbody tr th:only-of-type {\n        vertical-align: middle;\n    }\n\n    .dataframe tbody tr th {\n        vertical-align: top;\n    }\n\n    .dataframe thead th {\n        text-align: right;\n    }\n</style>\n<table border=\"1\" class=\"dataframe\">\n  <thead>\n    <tr style=\"text-align: right;\">\n      <th></th>\n      <th>AA_ept</th>\n      <th>Capital_A_TEMP</th>\n      <th>Capital_LOAD_LAG1</th>\n      <th>Capital_LOAD_LAG7</th>\n      <th>Central_A_TEMP</th>\n      <th>Central_LOAD_LAG1</th>\n      <th>Central_LOAD_LAG7</th>\n      <th>Dunwoody_A_TEMP</th>\n      <th>Dunwoody_LOAD_LAG1</th>\n      <th>Dunwoody_LOAD_LAG7</th>\n      <th>...</th>\n      <th>Hudson_LOAD_LAG7</th>\n      <th>LongIsland_A_TEMP</th>\n      <th>LongIsland_LOAD_LAG1</th>\n      <th>LongIsland_LOAD_LAG7</th>\n      <th>Milwood_A_TEMP</th>\n      <th>Milwood_LOAD_LAG1</th>\n      <th>Milwood_LOAD_LAG7</th>\n      <th>NYC_A_TEMP</th>\n      <th>NYC_LOAD_LAG1</th>\n      <th>NYC_LOAD_LAG7</th>\n    </tr>\n  </thead>\n  <tbody>\n    <tr>\n      <th>34894</th>\n      <td>2018-12-31 22:00:00</td>\n      <td>3.8</td>\n      <td>1332.1</td>\n      <td>1283.0</td>\n      <td>3.8</td>\n      <td>1840.0</td>\n      <td>1757.1</td>\n      <td>3.8</td>\n      <td>640.2</td>\n      <td>649.9</td>\n      <td>...</td>\n      <td>1084.9</td>\n      <td>3.8</td>\n      <td>2246.7</td>\n      <td>2333.7</td>\n      <td>3.8</td>\n      <td>318.3</td>\n      <td>339.5</td>\n      <td>3.8</td>\n      <td>5210.6</td>\n      <td>5280.6</td>\n    </tr>\n    <tr>\n      <th>34895</th>\n      <td>2018-12-31 23:00:00</td>\n      <td>3.5</td>\n      <td>1259.3</td>\n      <td>1212.0</td>\n      <td>3.5</td>\n      <td>1752.0</td>\n      <td>1678.4</td>\n      <td>3.5</td>\n      <td>602.2</td>\n      <td>621.0</td>\n      <td>...</td>\n      <td>1030.6</td>\n      <td>3.5</td>\n      <td>2081.7</td>\n      <td>2207.5</td>\n      <td>3.5</td>\n      <td>296.4</td>\n      <td>314.2</td>\n      <td>3.5</td>\n      <td>4985.6</td>\n      <td>5062.8</td>\n    </tr>\n  </tbody>\n</table>\n<p>2 rows × 25 columns</p>\n</div>"
     },
     "metadata": {},
     "output_type": "display_data"
    },
    {
     "name": "stdout",
     "output_type": "stream",
     "text": [
      "The first date of test dataset: \n"
     ]
    },
    {
     "data": {
      "text/plain": "                   AA_ept  Capital_A_TEMP  Capital_LOAD_LAG1  \\\n34896 2019-01-01 00:00:00             3.5             1202.6   \n34897 2019-01-01 01:00:00             3.7             1171.6   \n\n       Capital_LOAD_LAG7  Central_A_TEMP  Central_LOAD_LAG1  \\\n34896             1144.5             3.5             1692.3   \n34897             1102.4             3.7             1647.9   \n\n       Central_LOAD_LAG7  Dunwoody_A_TEMP  Dunwoody_LOAD_LAG1  \\\n34896             1603.8              3.5               563.2   \n34897             1552.2              3.7               540.9   \n\n       Dunwoody_LOAD_LAG7  ...  Hudson_LOAD_LAG7  LongIsland_A_TEMP  \\\n34896               584.8  ...             969.4                3.5   \n34897               560.1  ...             924.8                3.7   \n\n       LongIsland_LOAD_LAG1  LongIsland_LOAD_LAG7  Milwood_A_TEMP  \\\n34896                1930.6                2070.7             3.5   \n34897                1826.7                1953.9             3.7   \n\n       Milwood_LOAD_LAG1  Milwood_LOAD_LAG7  NYC_A_TEMP  NYC_LOAD_LAG1  \\\n34896              281.2              290.9         3.5         4740.4   \n34897              267.2              275.9         3.7         4539.7   \n\n       NYC_LOAD_LAG7  \n34896         4842.1  \n34897         4665.1  \n\n[2 rows x 25 columns]",
      "text/html": "<div>\n<style scoped>\n    .dataframe tbody tr th:only-of-type {\n        vertical-align: middle;\n    }\n\n    .dataframe tbody tr th {\n        vertical-align: top;\n    }\n\n    .dataframe thead th {\n        text-align: right;\n    }\n</style>\n<table border=\"1\" class=\"dataframe\">\n  <thead>\n    <tr style=\"text-align: right;\">\n      <th></th>\n      <th>AA_ept</th>\n      <th>Capital_A_TEMP</th>\n      <th>Capital_LOAD_LAG1</th>\n      <th>Capital_LOAD_LAG7</th>\n      <th>Central_A_TEMP</th>\n      <th>Central_LOAD_LAG1</th>\n      <th>Central_LOAD_LAG7</th>\n      <th>Dunwoody_A_TEMP</th>\n      <th>Dunwoody_LOAD_LAG1</th>\n      <th>Dunwoody_LOAD_LAG7</th>\n      <th>...</th>\n      <th>Hudson_LOAD_LAG7</th>\n      <th>LongIsland_A_TEMP</th>\n      <th>LongIsland_LOAD_LAG1</th>\n      <th>LongIsland_LOAD_LAG7</th>\n      <th>Milwood_A_TEMP</th>\n      <th>Milwood_LOAD_LAG1</th>\n      <th>Milwood_LOAD_LAG7</th>\n      <th>NYC_A_TEMP</th>\n      <th>NYC_LOAD_LAG1</th>\n      <th>NYC_LOAD_LAG7</th>\n    </tr>\n  </thead>\n  <tbody>\n    <tr>\n      <th>34896</th>\n      <td>2019-01-01 00:00:00</td>\n      <td>3.5</td>\n      <td>1202.6</td>\n      <td>1144.5</td>\n      <td>3.5</td>\n      <td>1692.3</td>\n      <td>1603.8</td>\n      <td>3.5</td>\n      <td>563.2</td>\n      <td>584.8</td>\n      <td>...</td>\n      <td>969.4</td>\n      <td>3.5</td>\n      <td>1930.6</td>\n      <td>2070.7</td>\n      <td>3.5</td>\n      <td>281.2</td>\n      <td>290.9</td>\n      <td>3.5</td>\n      <td>4740.4</td>\n      <td>4842.1</td>\n    </tr>\n    <tr>\n      <th>34897</th>\n      <td>2019-01-01 01:00:00</td>\n      <td>3.7</td>\n      <td>1171.6</td>\n      <td>1102.4</td>\n      <td>3.7</td>\n      <td>1647.9</td>\n      <td>1552.2</td>\n      <td>3.7</td>\n      <td>540.9</td>\n      <td>560.1</td>\n      <td>...</td>\n      <td>924.8</td>\n      <td>3.7</td>\n      <td>1826.7</td>\n      <td>1953.9</td>\n      <td>3.7</td>\n      <td>267.2</td>\n      <td>275.9</td>\n      <td>3.7</td>\n      <td>4539.7</td>\n      <td>4665.1</td>\n    </tr>\n  </tbody>\n</table>\n<p>2 rows × 25 columns</p>\n</div>"
     },
     "metadata": {},
     "output_type": "display_data"
    },
    {
     "name": "stdout",
     "output_type": "stream",
     "text": [
      "\n",
      "\n",
      "LENGTH OF DATASET:  43656\n"
     ]
    },
    {
     "data": {
      "text/plain": "       Capital_A_TEMP  Capital_LOAD_LAG1  Capital_LOAD_LAG7  Central_A_TEMP  \\\n43654             2.7             1288.4             1304.1             2.7   \n43655             3.0             1201.0             1237.0             3.0   \n\n       Central_LOAD_LAG1  Central_LOAD_LAG7  Dunwoody_A_TEMP  \\\n43654             1723.8             1738.8              2.7   \n43655             1640.1             1662.0              3.0   \n\n       Dunwoody_LOAD_LAG1  Dunwoody_LOAD_LAG7  Genese_A_TEMP  ...  \\\n43654               616.6               630.8            0.1  ...   \n43655               572.9               602.3            0.3  ...   \n\n       Hudson_LOAD_LAG7  LongIsland_A_TEMP  LongIsland_LOAD_LAG1  \\\n43654            1094.8                2.7                2183.3   \n43655            1043.8                3.0                2004.6   \n\n       LongIsland_LOAD_LAG7  Milwood_A_TEMP  Milwood_LOAD_LAG1  \\\n43654                2292.6             2.7              328.1   \n43655                2184.3             3.0              303.1   \n\n       Milwood_LOAD_LAG7  NYC_A_TEMP  NYC_LOAD_LAG1  NYC_LOAD_LAG7  \n43654              341.5         2.7         5226.6         5244.8  \n43655              322.6         3.0         4947.4         5038.8  \n\n[2 rows x 24 columns]",
      "text/html": "<div>\n<style scoped>\n    .dataframe tbody tr th:only-of-type {\n        vertical-align: middle;\n    }\n\n    .dataframe tbody tr th {\n        vertical-align: top;\n    }\n\n    .dataframe thead th {\n        text-align: right;\n    }\n</style>\n<table border=\"1\" class=\"dataframe\">\n  <thead>\n    <tr style=\"text-align: right;\">\n      <th></th>\n      <th>Capital_A_TEMP</th>\n      <th>Capital_LOAD_LAG1</th>\n      <th>Capital_LOAD_LAG7</th>\n      <th>Central_A_TEMP</th>\n      <th>Central_LOAD_LAG1</th>\n      <th>Central_LOAD_LAG7</th>\n      <th>Dunwoody_A_TEMP</th>\n      <th>Dunwoody_LOAD_LAG1</th>\n      <th>Dunwoody_LOAD_LAG7</th>\n      <th>Genese_A_TEMP</th>\n      <th>...</th>\n      <th>Hudson_LOAD_LAG7</th>\n      <th>LongIsland_A_TEMP</th>\n      <th>LongIsland_LOAD_LAG1</th>\n      <th>LongIsland_LOAD_LAG7</th>\n      <th>Milwood_A_TEMP</th>\n      <th>Milwood_LOAD_LAG1</th>\n      <th>Milwood_LOAD_LAG7</th>\n      <th>NYC_A_TEMP</th>\n      <th>NYC_LOAD_LAG1</th>\n      <th>NYC_LOAD_LAG7</th>\n    </tr>\n  </thead>\n  <tbody>\n    <tr>\n      <th>43654</th>\n      <td>2.7</td>\n      <td>1288.4</td>\n      <td>1304.1</td>\n      <td>2.7</td>\n      <td>1723.8</td>\n      <td>1738.8</td>\n      <td>2.7</td>\n      <td>616.6</td>\n      <td>630.8</td>\n      <td>0.1</td>\n      <td>...</td>\n      <td>1094.8</td>\n      <td>2.7</td>\n      <td>2183.3</td>\n      <td>2292.6</td>\n      <td>2.7</td>\n      <td>328.1</td>\n      <td>341.5</td>\n      <td>2.7</td>\n      <td>5226.6</td>\n      <td>5244.8</td>\n    </tr>\n    <tr>\n      <th>43655</th>\n      <td>3.0</td>\n      <td>1201.0</td>\n      <td>1237.0</td>\n      <td>3.0</td>\n      <td>1640.1</td>\n      <td>1662.0</td>\n      <td>3.0</td>\n      <td>572.9</td>\n      <td>602.3</td>\n      <td>0.3</td>\n      <td>...</td>\n      <td>1043.8</td>\n      <td>3.0</td>\n      <td>2004.6</td>\n      <td>2184.3</td>\n      <td>3.0</td>\n      <td>303.1</td>\n      <td>322.6</td>\n      <td>3.0</td>\n      <td>4947.4</td>\n      <td>5038.8</td>\n    </tr>\n  </tbody>\n</table>\n<p>2 rows × 24 columns</p>\n</div>"
     },
     "metadata": {},
     "output_type": "display_data"
    }
   ],
   "source": [
    "# Concatenating the engineered features\n",
    "X_continuous = pd.concat([date_col, load_lag_1, load_lag_7, temp_ds], axis=1)\n",
    "X_continuous = X_continuous.sort_index(axis=1)\n",
    "X_continuous = X_continuous.iloc[drop_idx:].reset_index(drop=True)\n",
    "\n",
    "# Fetching the train index from the processed dataframe\n",
    "train_end_idx = X_continuous[X_continuous.AA_ept.dt.year.between(2015, 2018)].index[-1]\n",
    "print(\"The train-test split index is: \", train_end_idx)\n",
    "print(\"The last date of train dataset: \")\n",
    "display(X_continuous.loc[:train_end_idx].tail(2))\n",
    "print(\"The first date of test dataset: \")\n",
    "display(X_continuous.loc[train_end_idx + 1:].head(2))\n",
    "print('\\n')\n",
    "\n",
    "# Dropping the datetime column after fetching the train-test split index\n",
    "X_continuous = X_continuous.drop(columns=['AA_ept'])\n",
    "print(\"LENGTH OF DATASET: \", len(X_continuous))\n",
    "display(X_continuous.tail(2))"
   ],
   "metadata": {
    "collapsed": false
   }
  },
  {
   "cell_type": "code",
   "execution_count": 15,
   "outputs": [
    {
     "name": "stdout",
     "output_type": "stream",
     "text": [
      "LENGTH OF DATASET:  43656\n"
     ]
    },
    {
     "data": {
      "text/plain": "        0    1    2    3    4    5    6    7    8    9   ...   64   65   66  \\\n43654  0.0  0.0  0.0  0.0  0.0  0.0  0.0  0.0  0.0  0.0  ...  0.0  1.0  0.0   \n43655  0.0  0.0  0.0  0.0  0.0  0.0  0.0  0.0  0.0  0.0  ...  0.0  0.0  1.0   \n\n        67   68   69   70   71   72   73  \n43654  0.0  1.0  0.0  0.0  0.0  0.0  0.0  \n43655  0.0  1.0  0.0  0.0  0.0  0.0  0.0  \n\n[2 rows x 74 columns]",
      "text/html": "<div>\n<style scoped>\n    .dataframe tbody tr th:only-of-type {\n        vertical-align: middle;\n    }\n\n    .dataframe tbody tr th {\n        vertical-align: top;\n    }\n\n    .dataframe thead th {\n        text-align: right;\n    }\n</style>\n<table border=\"1\" class=\"dataframe\">\n  <thead>\n    <tr style=\"text-align: right;\">\n      <th></th>\n      <th>0</th>\n      <th>1</th>\n      <th>2</th>\n      <th>3</th>\n      <th>4</th>\n      <th>5</th>\n      <th>6</th>\n      <th>7</th>\n      <th>8</th>\n      <th>9</th>\n      <th>...</th>\n      <th>64</th>\n      <th>65</th>\n      <th>66</th>\n      <th>67</th>\n      <th>68</th>\n      <th>69</th>\n      <th>70</th>\n      <th>71</th>\n      <th>72</th>\n      <th>73</th>\n    </tr>\n  </thead>\n  <tbody>\n    <tr>\n      <th>43654</th>\n      <td>0.0</td>\n      <td>0.0</td>\n      <td>0.0</td>\n      <td>0.0</td>\n      <td>0.0</td>\n      <td>0.0</td>\n      <td>0.0</td>\n      <td>0.0</td>\n      <td>0.0</td>\n      <td>0.0</td>\n      <td>...</td>\n      <td>0.0</td>\n      <td>1.0</td>\n      <td>0.0</td>\n      <td>0.0</td>\n      <td>1.0</td>\n      <td>0.0</td>\n      <td>0.0</td>\n      <td>0.0</td>\n      <td>0.0</td>\n      <td>0.0</td>\n    </tr>\n    <tr>\n      <th>43655</th>\n      <td>0.0</td>\n      <td>0.0</td>\n      <td>0.0</td>\n      <td>0.0</td>\n      <td>0.0</td>\n      <td>0.0</td>\n      <td>0.0</td>\n      <td>0.0</td>\n      <td>0.0</td>\n      <td>0.0</td>\n      <td>...</td>\n      <td>0.0</td>\n      <td>0.0</td>\n      <td>1.0</td>\n      <td>0.0</td>\n      <td>1.0</td>\n      <td>0.0</td>\n      <td>0.0</td>\n      <td>0.0</td>\n      <td>0.0</td>\n      <td>0.0</td>\n    </tr>\n  </tbody>\n</table>\n<p>2 rows × 74 columns</p>\n</div>"
     },
     "metadata": {},
     "output_type": "display_data"
    }
   ],
   "source": [
    "X_categorical = pd.DataFrame(categorical_data)\n",
    "X_categorical = X_categorical.iloc[drop_idx:].reset_index(drop=True)\n",
    "print(\"LENGTH OF DATASET: \", len(X_categorical))\n",
    "display(X_categorical.tail(2))"
   ],
   "metadata": {
    "collapsed": false
   }
  },
  {
   "cell_type": "code",
   "execution_count": 16,
   "outputs": [
    {
     "name": "stdout",
     "output_type": "stream",
     "text": [
      "LENGTH OF DATASET:  43656\n"
     ]
    },
    {
     "data": {
      "text/plain": "       Capital_LOAD  Central_LOAD  Dunwoody_LOAD  Genese_LOAD  Hudson_LOAD  \\\n43654        1280.9        1734.2          608.4       1049.6       1041.3   \n43655        1225.9        1677.7          579.8       1023.4        994.3   \n\n       LongIsland_LOAD  Milwood_LOAD  NYC_LOAD  \n43654           2201.8         326.5    5276.0  \n43655           2090.2         309.9    5063.4  ",
      "text/html": "<div>\n<style scoped>\n    .dataframe tbody tr th:only-of-type {\n        vertical-align: middle;\n    }\n\n    .dataframe tbody tr th {\n        vertical-align: top;\n    }\n\n    .dataframe thead th {\n        text-align: right;\n    }\n</style>\n<table border=\"1\" class=\"dataframe\">\n  <thead>\n    <tr style=\"text-align: right;\">\n      <th></th>\n      <th>Capital_LOAD</th>\n      <th>Central_LOAD</th>\n      <th>Dunwoody_LOAD</th>\n      <th>Genese_LOAD</th>\n      <th>Hudson_LOAD</th>\n      <th>LongIsland_LOAD</th>\n      <th>Milwood_LOAD</th>\n      <th>NYC_LOAD</th>\n    </tr>\n  </thead>\n  <tbody>\n    <tr>\n      <th>43654</th>\n      <td>1280.9</td>\n      <td>1734.2</td>\n      <td>608.4</td>\n      <td>1049.6</td>\n      <td>1041.3</td>\n      <td>2201.8</td>\n      <td>326.5</td>\n      <td>5276.0</td>\n    </tr>\n    <tr>\n      <th>43655</th>\n      <td>1225.9</td>\n      <td>1677.7</td>\n      <td>579.8</td>\n      <td>1023.4</td>\n      <td>994.3</td>\n      <td>2090.2</td>\n      <td>309.9</td>\n      <td>5063.4</td>\n    </tr>\n  </tbody>\n</table>\n</div>"
     },
     "metadata": {},
     "output_type": "display_data"
    }
   ],
   "source": [
    "Y = load_ds.copy()\n",
    "Y = Y.sort_index(axis=1)\n",
    "Y = Y.iloc[drop_idx:].reset_index(drop=True)\n",
    "print(\"LENGTH OF DATASET: \", len(Y))\n",
    "display(Y.tail(2))"
   ],
   "metadata": {
    "collapsed": false
   }
  },
  {
   "cell_type": "code",
   "execution_count": 17,
   "outputs": [
    {
     "name": "stdout",
     "output_type": "stream",
     "text": [
      "Train samples:  34896\n",
      "Test samples:  8760\n"
     ]
    }
   ],
   "source": [
    "### SPLITTING THE DATA INTO TRAINING AND TESTING\n",
    "print(\"Train samples: \", len(X_continuous.loc[:train_end_idx]))\n",
    "print(\"Test samples: \", len(X_continuous.loc[train_end_idx + 1:]))"
   ],
   "metadata": {
    "collapsed": false
   }
  },
  {
   "cell_type": "code",
   "execution_count": 18,
   "outputs": [
    {
     "name": "stdout",
     "output_type": "stream",
     "text": [
      "Train split of continuous data: \n"
     ]
    },
    {
     "data": {
      "text/plain": "       Capital_A_TEMP  Capital_LOAD_LAG1  Capital_LOAD_LAG7  Central_A_TEMP  \\\n34894             3.8             1332.1             1283.0             3.8   \n34895             3.5             1259.3             1212.0             3.5   \n\n       Central_LOAD_LAG1  Central_LOAD_LAG7  Dunwoody_A_TEMP  \\\n34894             1840.0             1757.1              3.8   \n34895             1752.0             1678.4              3.5   \n\n       Dunwoody_LOAD_LAG1  Dunwoody_LOAD_LAG7  Genese_A_TEMP  ...  \\\n34894               640.2               649.9            2.5  ...   \n34895               602.2               621.0            2.6  ...   \n\n       Hudson_LOAD_LAG7  LongIsland_A_TEMP  LongIsland_LOAD_LAG1  \\\n34894            1084.9                3.8                2246.7   \n34895            1030.6                3.5                2081.7   \n\n       LongIsland_LOAD_LAG7  Milwood_A_TEMP  Milwood_LOAD_LAG1  \\\n34894                2333.7             3.8              318.3   \n34895                2207.5             3.5              296.4   \n\n       Milwood_LOAD_LAG7  NYC_A_TEMP  NYC_LOAD_LAG1  NYC_LOAD_LAG7  \n34894              339.5         3.8         5210.6         5280.6  \n34895              314.2         3.5         4985.6         5062.8  \n\n[2 rows x 24 columns]",
      "text/html": "<div>\n<style scoped>\n    .dataframe tbody tr th:only-of-type {\n        vertical-align: middle;\n    }\n\n    .dataframe tbody tr th {\n        vertical-align: top;\n    }\n\n    .dataframe thead th {\n        text-align: right;\n    }\n</style>\n<table border=\"1\" class=\"dataframe\">\n  <thead>\n    <tr style=\"text-align: right;\">\n      <th></th>\n      <th>Capital_A_TEMP</th>\n      <th>Capital_LOAD_LAG1</th>\n      <th>Capital_LOAD_LAG7</th>\n      <th>Central_A_TEMP</th>\n      <th>Central_LOAD_LAG1</th>\n      <th>Central_LOAD_LAG7</th>\n      <th>Dunwoody_A_TEMP</th>\n      <th>Dunwoody_LOAD_LAG1</th>\n      <th>Dunwoody_LOAD_LAG7</th>\n      <th>Genese_A_TEMP</th>\n      <th>...</th>\n      <th>Hudson_LOAD_LAG7</th>\n      <th>LongIsland_A_TEMP</th>\n      <th>LongIsland_LOAD_LAG1</th>\n      <th>LongIsland_LOAD_LAG7</th>\n      <th>Milwood_A_TEMP</th>\n      <th>Milwood_LOAD_LAG1</th>\n      <th>Milwood_LOAD_LAG7</th>\n      <th>NYC_A_TEMP</th>\n      <th>NYC_LOAD_LAG1</th>\n      <th>NYC_LOAD_LAG7</th>\n    </tr>\n  </thead>\n  <tbody>\n    <tr>\n      <th>34894</th>\n      <td>3.8</td>\n      <td>1332.1</td>\n      <td>1283.0</td>\n      <td>3.8</td>\n      <td>1840.0</td>\n      <td>1757.1</td>\n      <td>3.8</td>\n      <td>640.2</td>\n      <td>649.9</td>\n      <td>2.5</td>\n      <td>...</td>\n      <td>1084.9</td>\n      <td>3.8</td>\n      <td>2246.7</td>\n      <td>2333.7</td>\n      <td>3.8</td>\n      <td>318.3</td>\n      <td>339.5</td>\n      <td>3.8</td>\n      <td>5210.6</td>\n      <td>5280.6</td>\n    </tr>\n    <tr>\n      <th>34895</th>\n      <td>3.5</td>\n      <td>1259.3</td>\n      <td>1212.0</td>\n      <td>3.5</td>\n      <td>1752.0</td>\n      <td>1678.4</td>\n      <td>3.5</td>\n      <td>602.2</td>\n      <td>621.0</td>\n      <td>2.6</td>\n      <td>...</td>\n      <td>1030.6</td>\n      <td>3.5</td>\n      <td>2081.7</td>\n      <td>2207.5</td>\n      <td>3.5</td>\n      <td>296.4</td>\n      <td>314.2</td>\n      <td>3.5</td>\n      <td>4985.6</td>\n      <td>5062.8</td>\n    </tr>\n  </tbody>\n</table>\n<p>2 rows × 24 columns</p>\n</div>"
     },
     "metadata": {},
     "output_type": "display_data"
    },
    {
     "name": "stdout",
     "output_type": "stream",
     "text": [
      "Train split of categorical data: \n"
     ]
    },
    {
     "data": {
      "text/plain": "        0    1    2    3    4    5    6    7    8    9   ...   64   65   66  \\\n34894  0.0  0.0  0.0  0.0  0.0  0.0  0.0  0.0  0.0  0.0  ...  0.0  1.0  0.0   \n34895  0.0  0.0  0.0  0.0  0.0  0.0  0.0  0.0  0.0  0.0  ...  0.0  0.0  1.0   \n\n        67   68   69   70   71   72   73  \n34894  1.0  0.0  0.0  0.0  0.0  0.0  0.0  \n34895  1.0  0.0  0.0  0.0  0.0  0.0  0.0  \n\n[2 rows x 74 columns]",
      "text/html": "<div>\n<style scoped>\n    .dataframe tbody tr th:only-of-type {\n        vertical-align: middle;\n    }\n\n    .dataframe tbody tr th {\n        vertical-align: top;\n    }\n\n    .dataframe thead th {\n        text-align: right;\n    }\n</style>\n<table border=\"1\" class=\"dataframe\">\n  <thead>\n    <tr style=\"text-align: right;\">\n      <th></th>\n      <th>0</th>\n      <th>1</th>\n      <th>2</th>\n      <th>3</th>\n      <th>4</th>\n      <th>5</th>\n      <th>6</th>\n      <th>7</th>\n      <th>8</th>\n      <th>9</th>\n      <th>...</th>\n      <th>64</th>\n      <th>65</th>\n      <th>66</th>\n      <th>67</th>\n      <th>68</th>\n      <th>69</th>\n      <th>70</th>\n      <th>71</th>\n      <th>72</th>\n      <th>73</th>\n    </tr>\n  </thead>\n  <tbody>\n    <tr>\n      <th>34894</th>\n      <td>0.0</td>\n      <td>0.0</td>\n      <td>0.0</td>\n      <td>0.0</td>\n      <td>0.0</td>\n      <td>0.0</td>\n      <td>0.0</td>\n      <td>0.0</td>\n      <td>0.0</td>\n      <td>0.0</td>\n      <td>...</td>\n      <td>0.0</td>\n      <td>1.0</td>\n      <td>0.0</td>\n      <td>1.0</td>\n      <td>0.0</td>\n      <td>0.0</td>\n      <td>0.0</td>\n      <td>0.0</td>\n      <td>0.0</td>\n      <td>0.0</td>\n    </tr>\n    <tr>\n      <th>34895</th>\n      <td>0.0</td>\n      <td>0.0</td>\n      <td>0.0</td>\n      <td>0.0</td>\n      <td>0.0</td>\n      <td>0.0</td>\n      <td>0.0</td>\n      <td>0.0</td>\n      <td>0.0</td>\n      <td>0.0</td>\n      <td>...</td>\n      <td>0.0</td>\n      <td>0.0</td>\n      <td>1.0</td>\n      <td>1.0</td>\n      <td>0.0</td>\n      <td>0.0</td>\n      <td>0.0</td>\n      <td>0.0</td>\n      <td>0.0</td>\n      <td>0.0</td>\n    </tr>\n  </tbody>\n</table>\n<p>2 rows × 74 columns</p>\n</div>"
     },
     "metadata": {},
     "output_type": "display_data"
    },
    {
     "name": "stdout",
     "output_type": "stream",
     "text": [
      "Train split of target data Y: \n"
     ]
    },
    {
     "data": {
      "text/plain": "       Capital_LOAD  Central_LOAD  Dunwoody_LOAD  Genese_LOAD  Hudson_LOAD  \\\n34894        1256.9        1742.2          651.7       1003.7       1049.9   \n34895        1188.9        1664.1          617.5        941.2        998.2   \n\n       LongIsland_LOAD  Milwood_LOAD  NYC_LOAD  \n34894           2236.5         313.3    5330.7  \n34895           2108.9         293.4    5103.1  ",
      "text/html": "<div>\n<style scoped>\n    .dataframe tbody tr th:only-of-type {\n        vertical-align: middle;\n    }\n\n    .dataframe tbody tr th {\n        vertical-align: top;\n    }\n\n    .dataframe thead th {\n        text-align: right;\n    }\n</style>\n<table border=\"1\" class=\"dataframe\">\n  <thead>\n    <tr style=\"text-align: right;\">\n      <th></th>\n      <th>Capital_LOAD</th>\n      <th>Central_LOAD</th>\n      <th>Dunwoody_LOAD</th>\n      <th>Genese_LOAD</th>\n      <th>Hudson_LOAD</th>\n      <th>LongIsland_LOAD</th>\n      <th>Milwood_LOAD</th>\n      <th>NYC_LOAD</th>\n    </tr>\n  </thead>\n  <tbody>\n    <tr>\n      <th>34894</th>\n      <td>1256.9</td>\n      <td>1742.2</td>\n      <td>651.7</td>\n      <td>1003.7</td>\n      <td>1049.9</td>\n      <td>2236.5</td>\n      <td>313.3</td>\n      <td>5330.7</td>\n    </tr>\n    <tr>\n      <th>34895</th>\n      <td>1188.9</td>\n      <td>1664.1</td>\n      <td>617.5</td>\n      <td>941.2</td>\n      <td>998.2</td>\n      <td>2108.9</td>\n      <td>293.4</td>\n      <td>5103.1</td>\n    </tr>\n  </tbody>\n</table>\n</div>"
     },
     "metadata": {},
     "output_type": "display_data"
    }
   ],
   "source": [
    "# Splitting the continuous data into training and test split\n",
    "X_continuous_train,  X_continuous_test = X_continuous.loc[:train_end_idx], X_continuous.loc[train_end_idx+1:]\n",
    "print(\"Train split of continuous data: \")\n",
    "display(X_continuous_train.tail(2))\n",
    "\n",
    "# Splitting the categorical data into training and test split\n",
    "X_categorical_train, X_categorical_test = X_categorical.loc[:train_end_idx], X_categorical.loc[train_end_idx+1:]\n",
    "print(\"Train split of categorical data: \")\n",
    "display(X_categorical_train.tail(2))\n",
    "\n",
    "# Splitting the target into training and test split\n",
    "Y_train, Y_test = Y.loc[:train_end_idx],  Y.loc[train_end_idx+1:]\n",
    "print(\"Train split of target data Y: \")\n",
    "display(Y_train.tail(2))"
   ],
   "metadata": {
    "collapsed": false
   }
  },
  {
   "cell_type": "code",
   "execution_count": 19,
   "outputs": [
    {
     "name": "stdout",
     "output_type": "stream",
     "text": [
      "Shape for continuous variable: \n",
      "(34896, 24) (8760, 24) \n",
      "\n",
      "Shape for categorical variable: \n",
      "(34896, 74) (8760, 74) \n",
      "\n",
      "Shape for target variable: \n",
      "(34896, 8) (8760, 8) \n",
      "\n",
      "Does it cover entire training set:  True\n"
     ]
    }
   ],
   "source": [
    "print(\"Shape for continuous variable: \")\n",
    "print(X_continuous_train.shape, X_continuous_test.shape, \"\\n\")\n",
    "print(\"Shape for categorical variable: \")\n",
    "print(X_categorical_train.shape, X_categorical_test.shape, \"\\n\")\n",
    "print(\"Shape for target variable: \")\n",
    "print(Y_train.shape, Y_test.shape, \"\\n\")\n",
    "print(\"Does it cover entire training set: \", (X_continuous_train.shape[0] +\n",
    "                                              X_continuous_test.shape[0]) == len(X_continuous))"
   ],
   "metadata": {
    "collapsed": false
   }
  },
  {
   "cell_type": "markdown",
   "source": [
    "### SCALING THE DATA"
   ],
   "metadata": {
    "collapsed": false
   }
  },
  {
   "cell_type": "code",
   "execution_count": 20,
   "outputs": [],
   "source": [
    "# Scaling values using min-max scaler\n",
    "mm_scaler_X = MinMaxScaler()\n",
    "mm_scaler_Y = MinMaxScaler()"
   ],
   "metadata": {
    "collapsed": false
   }
  },
  {
   "cell_type": "code",
   "execution_count": 21,
   "outputs": [
    {
     "name": "stdout",
     "output_type": "stream",
     "text": [
      "Scaled continuous X train: \n"
     ]
    },
    {
     "data": {
      "text/plain": "array([[0.21300813, 0.33520194, 0.311464  , ..., 0.21300813, 0.24221165,\n        0.25254137],\n       [0.20813008, 0.31779412, 0.28103076, ..., 0.20813008, 0.21173159,\n        0.22850567],\n       [0.19837398, 0.30689902, 0.26137088, ..., 0.19837398, 0.19290764,\n        0.20397424],\n       ...,\n       [0.51544715, 0.37884322, 0.34938383, ..., 0.51544715, 0.26832401,\n        0.2813735 ],\n       [0.50081301, 0.34268852, 0.31280307, ..., 0.50081301, 0.2443151 ,\n        0.25369358],\n       [0.49593496, 0.29837771, 0.26958786, ..., 0.49593496, 0.21416999,\n        0.22451311]])"
     },
     "metadata": {},
     "output_type": "display_data"
    }
   ],
   "source": [
    "# Scaling continuous X train part\n",
    "X_scaled_continuous_train = mm_scaler_X.fit_transform(X_continuous_train)\n",
    "\n",
    "# Using the fit_scaler to scale the X test part\n",
    "X_scaled_continuous_test = mm_scaler_X.transform(X_continuous_test)\n",
    "\n",
    "print(\"Scaled continuous X train: \")\n",
    "display(X_scaled_continuous_train)"
   ],
   "metadata": {
    "collapsed": false
   }
  },
  {
   "cell_type": "code",
   "execution_count": 22,
   "outputs": [
    {
     "name": "stdout",
     "output_type": "stream",
     "text": [
      "Scaled continuous Y train: \n"
     ]
    },
    {
     "data": {
      "text/plain": "array([[0.46308245, 0.51993802, 0.34076098, ..., 0.36262366, 0.54602951,\n        0.31200093],\n       [0.46831697, 0.49175058, 0.31423863, ..., 0.34065789, 0.52856175,\n        0.27790346],\n       [0.43179707, 0.47997326, 0.29911036, ..., 0.32798533, 0.52568047,\n        0.25907951],\n       ...,\n       [0.3361758 , 0.35628342, 0.33731403, ..., 0.34026972, 0.4423034 ,\n        0.29229273],\n       [0.29691691, 0.31285802, 0.30408929, ..., 0.31106576, 0.41024915,\n        0.2604059 ],\n       [0.25552769, 0.26926517, 0.27134329, ..., 0.28193029, 0.37441322,\n        0.22991244]])"
     },
     "metadata": {},
     "output_type": "display_data"
    }
   ],
   "source": [
    "# Scaling target Y train part\n",
    "Y_scaled_train = mm_scaler_Y.fit_transform(Y_train)\n",
    "\n",
    "# Using the fit_scaler to scale the Y test part\n",
    "Y_scaled_test = mm_scaler_Y.transform(Y_test)\n",
    "\n",
    "print(\"Scaled continuous Y train: \")\n",
    "display(Y_scaled_train)"
   ],
   "metadata": {
    "collapsed": false
   }
  },
  {
   "cell_type": "code",
   "execution_count": 23,
   "outputs": [],
   "source": [
    "# Converting a multivariate dataset into slices of samples\n",
    "def split_data(calendar_data, x_data, y_data, n_steps, n_overlap):\n",
    "    calendar, x, y = list(), list(), list()\n",
    "    for i in range(0, len(x_data), n_steps-n_overlap):\n",
    "\n",
    "        # Finding the split index\n",
    "        end_idx = i + n_steps\n",
    "\n",
    "        # Break the loop at end of dataset\n",
    "        if end_idx > len(x_data):\n",
    "            break\n",
    "\n",
    "        # Appending the custom created samples with desired time-steps and features\n",
    "        sample_calendar, sample_x, sample_y = calendar_data[i:end_idx, :], \\\n",
    "                                              x_data[i:end_idx, :], \\\n",
    "                                              y_data[i:end_idx, :]\n",
    "        calendar.append(sample_calendar)\n",
    "        x.append(sample_x)\n",
    "        y.append(sample_y)\n",
    "\n",
    "    return np.array(calendar), np.array(x), np.array(y)"
   ],
   "metadata": {
    "collapsed": false
   }
  },
  {
   "cell_type": "code",
   "execution_count": 24,
   "outputs": [
    {
     "name": "stdout",
     "output_type": "stream",
     "text": [
      "Shape of the created samples for training:  (34873, 24, 8)\n",
      "Shape of the created samples for testing:  (365, 24, 8)\n"
     ]
    }
   ],
   "source": [
    "num_steps = 24\n",
    "train_num_overlap = 23\n",
    "test_num_overlap = 0\n",
    "\n",
    "processed_data_train = split_data(calendar_data=X_categorical_train.to_numpy(),\n",
    "                            x_data=X_scaled_continuous_train,\n",
    "                            y_data=Y_scaled_train,\n",
    "                            n_steps=num_steps, n_overlap=train_num_overlap)\n",
    "\n",
    "processed_data_test = split_data(calendar_data=X_categorical_test.to_numpy(),\n",
    "                            x_data=X_scaled_continuous_test,\n",
    "                            y_data=Y_scaled_test,\n",
    "                            n_steps=num_steps, n_overlap=test_num_overlap)\n",
    "\n",
    "print(\"Shape of the created samples for training: \", processed_data_train[2].shape)\n",
    "print(\"Shape of the created samples for testing: \", processed_data_test[2].shape)"
   ],
   "metadata": {
    "collapsed": false
   }
  },
  {
   "cell_type": "code",
   "execution_count": 25,
   "outputs": [
    {
     "name": "stdout",
     "output_type": "stream",
     "text": [
      "First sample: \n",
      "\n"
     ]
    },
    {
     "data": {
      "text/plain": "array([[0.21300813, 0.33520194, 0.311464  , 0.21300813, 0.42091918,\n        0.35276697, 0.21300813, 0.25918322, 0.29652515, 0.19448947,\n        0.35694699, 0.31030523, 0.21300813, 0.31735908, 0.32509539,\n        0.21300813, 0.29668069, 0.3342417 , 0.21300813, 0.4468054 ,\n        0.45202772, 0.21300813, 0.24221165, 0.25254137],\n       [0.20813008, 0.31779412, 0.28103076, 0.20813008, 0.39970883,\n        0.31017882, 0.20813008, 0.24003351, 0.26693885, 0.18962723,\n        0.33575912, 0.27390191, 0.20813008, 0.298597  , 0.29500297,\n        0.20813008, 0.27542276, 0.29453435, 0.20813008, 0.4287974 ,\n        0.41817267, 0.20813008, 0.21173159, 0.22850567],\n       [0.19837398, 0.30689902, 0.26137088, 0.19837398, 0.38396851,\n        0.28969409, 0.19837398, 0.22519249, 0.24300172, 0.18800648,\n        0.32701379, 0.25278514, 0.19837398, 0.2886068 , 0.27209861,\n        0.19837398, 0.26485088, 0.27076474, 0.19837398, 0.41817267,\n        0.39890411, 0.19837398, 0.19290764, 0.20397424],\n       [0.18536585, 0.30951628, 0.25552769, 0.18536585, 0.38335453,\n        0.27998198, 0.18536585, 0.20096811, 0.22586273, 0.18800648,\n        0.32630279, 0.2425467 , 0.18536585, 0.28507368, 0.25948903,\n        0.18536585, 0.26115187, 0.2546215 , 0.18536585, 0.41168979,\n        0.38737898, 0.18536585, 0.18679823, 0.18547184],\n       [0.17886179, 0.33136735, 0.25674502, 0.17886179, 0.40852787,\n        0.28282863, 0.17886179, 0.21561764, 0.21963908, 0.18962723,\n        0.34493105, 0.24546181, 0.17886179, 0.29670861, 0.2566869 ,\n        0.17886179, 0.26738539, 0.24994065, 0.17886179, 0.42357507,\n        0.38341722, 0.17886179, 0.19147407, 0.17570482],\n       [0.16260163, 0.38292127, 0.26934439, 0.16260163, 0.45329287,\n        0.300076  , 0.16260163, 0.25870448, 0.22825644, 0.18638574,\n        0.39662093, 0.25925526, 0.16260163, 0.33478101, 0.2655197 ,\n        0.16260163, 0.29686336, 0.2539365 , 0.16260163, 0.46337277,\n        0.39368178, 0.16260163, 0.22405759, 0.17870594],\n       [0.1495935 , 0.48651605, 0.28705654, 0.1495935 , 0.579327  ,\n        0.32625403, 0.1495935 , 0.33434582, 0.24032076, 0.18314425,\n        0.49139755, 0.27631932, 0.1495935 , 0.40142294, 0.28190606,\n        0.1495935 , 0.35737197, 0.26208804, 0.1495935 , 0.54386855,\n        0.40682763, 0.1495935 , 0.29785283, 0.19079078],\n       [0.14471545, 0.54172196, 0.30476869, 0.14471545, 0.65328414,\n        0.3438363 , 0.14471545, 0.40615723, 0.23811854, 0.18962723,\n        0.55965378, 0.28989946, 0.14471545, 0.44881547, 0.28641383,\n        0.14471545, 0.3986759 , 0.26056919, 0.14471545, 0.58906865,\n        0.41132963, 0.14471545, 0.37688662, 0.19845434],\n       [0.1300813 , 0.53771755, 0.33188842, 0.1300813 , 0.63925038,\n        0.34904228, 0.1300813 , 0.4085112 , 0.19970556, 0.19286872,\n        0.56337286, 0.2920354 , 0.1300813 , 0.4263168 , 0.29673934,\n        0.1300813 , 0.39758636, 0.23074225, 0.1300813 , 0.55134698,\n        0.39335406, 0.1300813 , 0.4154949 , 0.1664444 ],\n       [0.11869919, 0.5312171 , 0.35469666, 0.11869919, 0.61950169,\n        0.36886913, 0.11869919, 0.42213109, 0.1856867 , 0.19611021,\n        0.561105  , 0.25716908, 0.11869919, 0.40478625, 0.27639977,\n        0.11869919, 0.38793096, 0.2178464 , 0.11869919, 0.52670284,\n        0.43813553, 0.11869919, 0.43937131, 0.15091597],\n       [0.10731707, 0.53092606, 0.35959858, 0.10731707, 0.62676581,\n        0.36404635, 0.10731707, 0.42389497, 0.18541227, 0.19124797,\n        0.55364412, 0.32659364, 0.10731707, 0.3955228 , 0.2730556 ,\n        0.10731707, 0.34627311, 0.21451642, 0.10731707, 0.52625924,\n        0.44482845, 0.10731707, 0.43816644, 0.14896343],\n       [0.10081301, 0.52139206, 0.36645653, 0.10081301, 0.60726785,\n        0.38406129, 0.10081301, 0.39320108, 0.18922166, 0.19286872,\n        0.52876842, 0.34154132, 0.10081301, 0.38766352, 0.27508936,\n        0.10081301, 0.33626686, 0.21767258, 0.10081301, 0.52492444,\n        0.42106576, 0.10081301, 0.44582354, 0.15483272],\n       [0.09918699, 0.51693243, 0.38999672, 0.09918699, 0.58062042,\n        0.37308166, 0.09918699, 0.39618354, 0.22714701, 0.20421394,\n        0.49649746, 0.31068425, 0.09918699, 0.3813023 , 0.30363969,\n        0.09918699, 0.35016556, 0.22175526, 0.09918699, 0.52057152,\n        0.41695277, 0.09918699, 0.42812217, 0.16427623],\n       [0.14634146, 0.49628649, 0.36543683, 0.14634146, 0.5948131 ,\n        0.40217496, 0.14634146, 0.41484028, 0.20797578, 0.20745543,\n        0.49512597, 0.26490085, 0.14634146, 0.38246689, 0.26941897,\n        0.14634146, 0.34429185, 0.2319917 , 0.14634146, 0.52664764,\n        0.43823717, 0.14634146, 0.44822625, 0.17750404],\n       [0.2195122 , 0.48645379, 0.37073671, 0.2195122 , 0.60470739,\n        0.32998656, 0.2195122 , 0.40217126, 0.23248544, 0.22204214,\n        0.48000214, 0.27730582, 0.2195122 , 0.39074759, 0.31299306,\n        0.2195122 , 0.3680019 , 0.25927269, 0.2195122 , 0.53652858,\n        0.45078384, 0.2195122 , 0.48316579, 0.20202751],\n       [0.2504065 , 0.52782058, 0.36435312, 0.2504065 , 0.62531467,\n        0.35122659, 0.2504065 , 0.43087818, 0.26942588, 0.24311183,\n        0.54222703, 0.31569083, 0.2504065 , 0.4276502 , 0.33619132,\n        0.2504065 , 0.40527163, 0.32190172, 0.2504065 , 0.57592046,\n        0.45477219, 0.2504065 , 0.48167937, 0.24199955],\n       [0.28130081, 0.57385947, 0.43709245, 0.28130081, 0.68727408,\n        0.44662069, 0.28130081, 0.48824879, 0.34439942, 0.26742301,\n        0.59483816, 0.40991667, 0.28130081, 0.50357881, 0.40099653,\n        0.28130081, 0.48238503, 0.37534188, 0.28130081, 0.65381131,\n        0.5127147 , 0.28130081, 0.50889856, 0.31106309],\n       [0.30243902, 0.64622974, 0.50264567, 0.30243902, 0.75967079,\n        0.54254379, 0.30243902, 0.53991793, 0.40663597, 0.28849271,\n        0.66594864, 0.48755814, 0.30243902, 0.57753064, 0.47476562,\n        0.30243902, 0.53965129, 0.45016705, 0.30243902, 0.72971117,\n        0.58114513, 0.30243902, 0.53254259, 0.34975601],\n       [0.31869919, 0.64927306, 0.49534169, 0.31869919, 0.76374541,\n        0.53149208, 0.31869919, 0.54824805, 0.41132765, 0.30794165,\n        0.66801055, 0.47291149, 0.31869919, 0.59263777, 0.47488745,\n        0.31869919, 0.54782566, 0.45331807, 0.31869919, 0.76392639,\n        0.58888857, 0.31869919, 0.5133703 , 0.35121638],\n       [0.32357724, 0.6361259 , 0.47489055, 0.32357724, 0.74035821,\n        0.5108399 , 0.32357724, 0.53723697, 0.40089106, 0.31280389,\n        0.63765075, 0.45421212, 0.32357724, 0.58142926, 0.4597194 ,\n        0.32357724, 0.53339493, 0.44105651, 0.32357724, 0.76212559,\n        0.5750224 , 0.32357724, 0.49275104, 0.34329826],\n       [0.31869919, 0.60325799, 0.44293564, 0.31869919, 0.70346337,\n        0.47969417, 0.31869919, 0.50698044, 0.3885395 , 0.30794165,\n        0.60167402, 0.42776283, 0.31869919, 0.56077879, 0.44004359,\n        0.31869919, 0.50921432, 0.42687695, 0.31869919, 0.72700997,\n        0.556114  , 0.31869919, 0.46665207, 0.3300746 ],\n       [0.30081301, 0.54525222, 0.39972042, 0.30081301, 0.63112491,\n        0.43716184, 0.30081301, 0.45929766, 0.3686238 , 0.30307942,\n        0.54081222, 0.39107511, 0.30081301, 0.51557923, 0.40842827,\n        0.30081301, 0.46957548, 0.40998021, 0.30081301, 0.66974452,\n        0.52496015, 0.30081301, 0.43039754, 0.31285839],\n       [0.28943089, 0.4664301 , 0.34153205, 0.28943089, 0.5308781 ,\n        0.37526111, 0.28943089, 0.388348  , 0.33022864, 0.2917342 ,\n        0.45335892, 0.33732332, 0.28943089, 0.44698799, 0.3593301 ,\n        0.28943089, 0.40877003, 0.35707513, 0.28943089, 0.58798817,\n        0.46895525, 0.28943089, 0.37507791, 0.28373152],\n       [0.28780488, 0.40258115, 0.28656961, 0.28780488, 0.45932107,\n        0.30688564, 0.28780488, 0.3293669 , 0.28130113, 0.28687196,\n        0.39349252, 0.29103707, 0.28780488, 0.3839401 , 0.30377485,\n        0.28780488, 0.3491291 , 0.30729824, 0.28780488, 0.51217446,\n        0.42285475, 0.28780488, 0.3140374 , 0.24398016]])"
     },
     "metadata": {},
     "output_type": "display_data"
    }
   ],
   "source": [
    "## Sample check for sanity\n",
    "print(\"First sample: \\n\")\n",
    "display(processed_data_train[1][0])"
   ],
   "metadata": {
    "collapsed": false
   }
  },
  {
   "cell_type": "code",
   "execution_count": 26,
   "outputs": [
    {
     "name": "stdout",
     "output_type": "stream",
     "text": [
      "Second sample: \n",
      "\n"
     ]
    },
    {
     "data": {
      "text/plain": "array([[0.20813008, 0.31779412, 0.28103076, 0.20813008, 0.39970883,\n        0.31017882, 0.20813008, 0.24003351, 0.26693885, 0.18962723,\n        0.33575912, 0.27390191, 0.20813008, 0.298597  , 0.29500297,\n        0.20813008, 0.27542276, 0.29453435, 0.20813008, 0.4287974 ,\n        0.41817267, 0.20813008, 0.21173159, 0.22850567],\n       [0.19837398, 0.30689902, 0.26137088, 0.19837398, 0.38396851,\n        0.28969409, 0.19837398, 0.22519249, 0.24300172, 0.18800648,\n        0.32701379, 0.25278514, 0.19837398, 0.2886068 , 0.27209861,\n        0.19837398, 0.26485088, 0.27076474, 0.19837398, 0.41817267,\n        0.39890411, 0.19837398, 0.19290764, 0.20397424],\n       [0.18536585, 0.30951628, 0.25552769, 0.18536585, 0.38335453,\n        0.27998198, 0.18536585, 0.20096811, 0.22586273, 0.18800648,\n        0.32630279, 0.2425467 , 0.18536585, 0.28507368, 0.25948903,\n        0.18536585, 0.26115187, 0.2546215 , 0.18536585, 0.41168979,\n        0.38737898, 0.18536585, 0.18679823, 0.18547184],\n       [0.17886179, 0.33136735, 0.25674502, 0.17886179, 0.40852787,\n        0.28282863, 0.17886179, 0.21561764, 0.21963908, 0.18962723,\n        0.34493105, 0.24546181, 0.17886179, 0.29670861, 0.2566869 ,\n        0.17886179, 0.26738539, 0.24994065, 0.17886179, 0.42357507,\n        0.38341722, 0.17886179, 0.19147407, 0.17570482],\n       [0.16260163, 0.38292127, 0.26934439, 0.16260163, 0.45329287,\n        0.300076  , 0.16260163, 0.25870448, 0.22825644, 0.18638574,\n        0.39662093, 0.25925526, 0.16260163, 0.33478101, 0.2655197 ,\n        0.16260163, 0.29686336, 0.2539365 , 0.16260163, 0.46337277,\n        0.39368178, 0.16260163, 0.22405759, 0.17870594],\n       [0.1495935 , 0.48651605, 0.28705654, 0.1495935 , 0.579327  ,\n        0.32625403, 0.1495935 , 0.33434582, 0.24032076, 0.18314425,\n        0.49139755, 0.27631932, 0.1495935 , 0.40142294, 0.28190606,\n        0.1495935 , 0.35737197, 0.26208804, 0.1495935 , 0.54386855,\n        0.40682763, 0.1495935 , 0.29785283, 0.19079078],\n       [0.14471545, 0.54172196, 0.30476869, 0.14471545, 0.65328414,\n        0.3438363 , 0.14471545, 0.40615723, 0.23811854, 0.18962723,\n        0.55965378, 0.28989946, 0.14471545, 0.44881547, 0.28641383,\n        0.14471545, 0.3986759 , 0.26056919, 0.14471545, 0.58906865,\n        0.41132963, 0.14471545, 0.37688662, 0.19845434],\n       [0.1300813 , 0.53771755, 0.33188842, 0.1300813 , 0.63925038,\n        0.34904228, 0.1300813 , 0.4085112 , 0.19970556, 0.19286872,\n        0.56337286, 0.2920354 , 0.1300813 , 0.4263168 , 0.29673934,\n        0.1300813 , 0.39758636, 0.23074225, 0.1300813 , 0.55134698,\n        0.39335406, 0.1300813 , 0.4154949 , 0.1664444 ],\n       [0.11869919, 0.5312171 , 0.35469666, 0.11869919, 0.61950169,\n        0.36886913, 0.11869919, 0.42213109, 0.1856867 , 0.19611021,\n        0.561105  , 0.25716908, 0.11869919, 0.40478625, 0.27639977,\n        0.11869919, 0.38793096, 0.2178464 , 0.11869919, 0.52670284,\n        0.43813553, 0.11869919, 0.43937131, 0.15091597],\n       [0.10731707, 0.53092606, 0.35959858, 0.10731707, 0.62676581,\n        0.36404635, 0.10731707, 0.42389497, 0.18541227, 0.19124797,\n        0.55364412, 0.32659364, 0.10731707, 0.3955228 , 0.2730556 ,\n        0.10731707, 0.34627311, 0.21451642, 0.10731707, 0.52625924,\n        0.44482845, 0.10731707, 0.43816644, 0.14896343],\n       [0.10081301, 0.52139206, 0.36645653, 0.10081301, 0.60726785,\n        0.38406129, 0.10081301, 0.39320108, 0.18922166, 0.19286872,\n        0.52876842, 0.34154132, 0.10081301, 0.38766352, 0.27508936,\n        0.10081301, 0.33626686, 0.21767258, 0.10081301, 0.52492444,\n        0.42106576, 0.10081301, 0.44582354, 0.15483272],\n       [0.09918699, 0.51693243, 0.38999672, 0.09918699, 0.58062042,\n        0.37308166, 0.09918699, 0.39618354, 0.22714701, 0.20421394,\n        0.49649746, 0.31068425, 0.09918699, 0.3813023 , 0.30363969,\n        0.09918699, 0.35016556, 0.22175526, 0.09918699, 0.52057152,\n        0.41695277, 0.09918699, 0.42812217, 0.16427623],\n       [0.14634146, 0.49628649, 0.36543683, 0.14634146, 0.5948131 ,\n        0.40217496, 0.14634146, 0.41484028, 0.20797578, 0.20745543,\n        0.49512597, 0.26490085, 0.14634146, 0.38246689, 0.26941897,\n        0.14634146, 0.34429185, 0.2319917 , 0.14634146, 0.52664764,\n        0.43823717, 0.14634146, 0.44822625, 0.17750404],\n       [0.2195122 , 0.48645379, 0.37073671, 0.2195122 , 0.60470739,\n        0.32998656, 0.2195122 , 0.40217126, 0.23248544, 0.22204214,\n        0.48000214, 0.27730582, 0.2195122 , 0.39074759, 0.31299306,\n        0.2195122 , 0.3680019 , 0.25927269, 0.2195122 , 0.53652858,\n        0.45078384, 0.2195122 , 0.48316579, 0.20202751],\n       [0.2504065 , 0.52782058, 0.36435312, 0.2504065 , 0.62531467,\n        0.35122659, 0.2504065 , 0.43087818, 0.26942588, 0.24311183,\n        0.54222703, 0.31569083, 0.2504065 , 0.4276502 , 0.33619132,\n        0.2504065 , 0.40527163, 0.32190172, 0.2504065 , 0.57592046,\n        0.45477219, 0.2504065 , 0.48167937, 0.24199955],\n       [0.28130081, 0.57385947, 0.43709245, 0.28130081, 0.68727408,\n        0.44662069, 0.28130081, 0.48824879, 0.34439942, 0.26742301,\n        0.59483816, 0.40991667, 0.28130081, 0.50357881, 0.40099653,\n        0.28130081, 0.48238503, 0.37534188, 0.28130081, 0.65381131,\n        0.5127147 , 0.28130081, 0.50889856, 0.31106309],\n       [0.30243902, 0.64622974, 0.50264567, 0.30243902, 0.75967079,\n        0.54254379, 0.30243902, 0.53991793, 0.40663597, 0.28849271,\n        0.66594864, 0.48755814, 0.30243902, 0.57753064, 0.47476562,\n        0.30243902, 0.53965129, 0.45016705, 0.30243902, 0.72971117,\n        0.58114513, 0.30243902, 0.53254259, 0.34975601],\n       [0.31869919, 0.64927306, 0.49534169, 0.31869919, 0.76374541,\n        0.53149208, 0.31869919, 0.54824805, 0.41132765, 0.30794165,\n        0.66801055, 0.47291149, 0.31869919, 0.59263777, 0.47488745,\n        0.31869919, 0.54782566, 0.45331807, 0.31869919, 0.76392639,\n        0.58888857, 0.31869919, 0.5133703 , 0.35121638],\n       [0.32357724, 0.6361259 , 0.47489055, 0.32357724, 0.74035821,\n        0.5108399 , 0.32357724, 0.53723697, 0.40089106, 0.31280389,\n        0.63765075, 0.45421212, 0.32357724, 0.58142926, 0.4597194 ,\n        0.32357724, 0.53339493, 0.44105651, 0.32357724, 0.76212559,\n        0.5750224 , 0.32357724, 0.49275104, 0.34329826],\n       [0.31869919, 0.60325799, 0.44293564, 0.31869919, 0.70346337,\n        0.47969417, 0.31869919, 0.50698044, 0.3885395 , 0.30794165,\n        0.60167402, 0.42776283, 0.31869919, 0.56077879, 0.44004359,\n        0.31869919, 0.50921432, 0.42687695, 0.31869919, 0.72700997,\n        0.556114  , 0.31869919, 0.46665207, 0.3300746 ],\n       [0.30081301, 0.54525222, 0.39972042, 0.30081301, 0.63112491,\n        0.43716184, 0.30081301, 0.45929766, 0.3686238 , 0.30307942,\n        0.54081222, 0.39107511, 0.30081301, 0.51557923, 0.40842827,\n        0.30081301, 0.46957548, 0.40998021, 0.30081301, 0.66974452,\n        0.52496015, 0.30081301, 0.43039754, 0.31285839],\n       [0.28943089, 0.4664301 , 0.34153205, 0.28943089, 0.5308781 ,\n        0.37526111, 0.28943089, 0.388348  , 0.33022864, 0.2917342 ,\n        0.45335892, 0.33732332, 0.28943089, 0.44698799, 0.3593301 ,\n        0.28943089, 0.40877003, 0.35707513, 0.28943089, 0.58798817,\n        0.46895525, 0.28943089, 0.37507791, 0.28373152],\n       [0.28780488, 0.40258115, 0.28656961, 0.28780488, 0.45932107,\n        0.30688564, 0.28780488, 0.3293669 , 0.28130113, 0.28687196,\n        0.39349252, 0.29103707, 0.28780488, 0.3839401 , 0.30377485,\n        0.28780488, 0.3491291 , 0.30729824, 0.28780488, 0.51217446,\n        0.42285475, 0.28780488, 0.3140374 , 0.24398016],\n       [0.28617886, 0.35948767, 0.24974538, 0.28617886, 0.42064009,\n        0.27417704, 0.28617886, 0.28302461, 0.23831004, 0.28687196,\n        0.35260988, 0.26039286, 0.28617886, 0.34184725, 0.26089009,\n        0.28617886, 0.31113426, 0.26599255, 0.28617886, 0.47705885,\n        0.36901082, 0.28617886, 0.26208062, 0.20524704]])"
     },
     "metadata": {},
     "output_type": "display_data"
    }
   ],
   "source": [
    "print(\"Second sample: \\n\")\n",
    "display(processed_data_train[1][1])"
   ],
   "metadata": {
    "collapsed": false
   }
  },
  {
   "cell_type": "code",
   "execution_count": 27,
   "outputs": [],
   "source": [
    "# Dividing the sampled data - training\n",
    "categorical_samples_training = torch.Tensor(processed_data_train[0])\n",
    "continuous_samples_training = torch.Tensor(processed_data_train[1])\n",
    "target_samples_training = torch.Tensor(processed_data_train[2])\n",
    "\n",
    "# Dividing the sampled data - testing\n",
    "categorical_samples_testing = torch.Tensor(processed_data_test[0])\n",
    "continuous_samples_testing = torch.Tensor(processed_data_test[1])\n",
    "target_samples_testing = torch.Tensor(processed_data_test[2])"
   ],
   "metadata": {
    "collapsed": false
   }
  },
  {
   "cell_type": "code",
   "execution_count": 28,
   "outputs": [
    {
     "name": "stdout",
     "output_type": "stream",
     "text": [
      "Shape of categorical samples - training:  torch.Size([34873, 24, 74])\n",
      "Shape of continuous samples - training:  torch.Size([34873, 24, 24])\n",
      "Shape of target samples - training:  torch.Size([34873, 24, 8])\n",
      "\n",
      "\n",
      "Shape of categorical samples - testing:  torch.Size([365, 24, 74])\n",
      "Shape of continuous samples - testing:  torch.Size([365, 24, 24])\n",
      "Shape of target samples - testing:  torch.Size([365, 24, 8])\n"
     ]
    }
   ],
   "source": [
    "print(\"Shape of categorical samples - training: \", categorical_samples_training.shape)\n",
    "print(\"Shape of continuous samples - training: \", continuous_samples_training.shape)\n",
    "print(\"Shape of target samples - training: \", target_samples_training.shape)\n",
    "print(\"\\n\")\n",
    "print(\"Shape of categorical samples - testing: \", categorical_samples_testing.shape)\n",
    "print(\"Shape of continuous samples - testing: \", continuous_samples_testing.shape)\n",
    "print(\"Shape of target samples - testing: \", target_samples_testing.shape)"
   ],
   "metadata": {
    "collapsed": false
   }
  },
  {
   "cell_type": "markdown",
   "source": [
    "### CREATING DATALOADER"
   ],
   "metadata": {
    "collapsed": false
   }
  },
  {
   "cell_type": "code",
   "execution_count": 29,
   "outputs": [],
   "source": [
    "BATCH_SIZE = 128"
   ],
   "metadata": {
    "collapsed": false
   }
  },
  {
   "cell_type": "code",
   "execution_count": 30,
   "outputs": [],
   "source": [
    "class TimeSeriesLoader(Dataset):\n",
    "    def __init__(self, categorical, continuous, target):\n",
    "        self.categorical, self.continuous, self.target = categorical, continuous, target\n",
    "\n",
    "    def __len__(self):\n",
    "        return len(self.categorical)\n",
    "\n",
    "    def __getitem__(self, idx):\n",
    "        return self.categorical[idx], self.continuous[idx], self.target[idx]"
   ],
   "metadata": {
    "collapsed": false
   }
  },
  {
   "cell_type": "code",
   "execution_count": 31,
   "outputs": [],
   "source": [
    "train_dataset = TimeSeriesLoader(categorical_samples_training,\n",
    "                                 continuous_samples_training,\n",
    "                                 target_samples_training)\n",
    "\n",
    "test_dataset = TimeSeriesLoader(categorical_samples_testing,\n",
    "                                continuous_samples_testing,\n",
    "                                target_samples_testing)"
   ],
   "metadata": {
    "collapsed": false
   }
  },
  {
   "cell_type": "code",
   "execution_count": 32,
   "outputs": [],
   "source": [
    "train_dataloader = DataLoader(train_dataset, batch_size=BATCH_SIZE, shuffle=True, drop_last=False)\n",
    "\n",
    "test_dataloader = DataLoader(test_dataset, batch_size=BATCH_SIZE, shuffle=False, drop_last=False)"
   ],
   "metadata": {
    "collapsed": false
   }
  },
  {
   "cell_type": "code",
   "execution_count": 33,
   "outputs": [
    {
     "name": "stdout",
     "output_type": "stream",
     "text": [
      "Number of batches in train dataloader:  273\n",
      "Number of batches in test dataloader:  3\n"
     ]
    }
   ],
   "source": [
    "print(\"Number of batches in train dataloader: \", len(train_dataloader))\n",
    "print(\"Number of batches in test dataloader: \", len(test_dataloader))"
   ],
   "metadata": {
    "collapsed": false
   }
  },
  {
   "cell_type": "code",
   "execution_count": 34,
   "outputs": [
    {
     "name": "stdout",
     "output_type": "stream",
     "text": [
      "Shape of categorical variables:  torch.Size([34873, 24, 74])\n",
      "Shape of continuous variables:  torch.Size([34873, 24, 24])\n",
      "Shape of target variables:  torch.Size([34873, 24, 8])\n"
     ]
    }
   ],
   "source": [
    "categorical_var_shape = train_dataloader.dataset.categorical.shape\n",
    "continuous_var_shape = train_dataloader.dataset.continuous.shape\n",
    "target_var_shape = train_dataloader.dataset.target.shape\n",
    "\n",
    "print(\"Shape of categorical variables: \", categorical_var_shape)\n",
    "print(\"Shape of continuous variables: \", continuous_var_shape)\n",
    "print(\"Shape of target variables: \", target_var_shape)"
   ],
   "metadata": {
    "collapsed": false
   }
  },
  {
   "cell_type": "code",
   "execution_count": 35,
   "outputs": [
    {
     "name": "stdout",
     "output_type": "stream",
     "text": [
      "Number of zones:  8\n",
      "Number of features per zone:  3\n"
     ]
    }
   ],
   "source": [
    "# Specifying number of zones and features per zone\n",
    "num_zones = target_var_shape[2]\n",
    "num_zone_features = int(continuous_var_shape[2] / target_var_shape[2])\n",
    "print(\"Number of zones: \", num_zones)\n",
    "print(\"Number of features per zone: \", num_zone_features)"
   ],
   "metadata": {
    "collapsed": false
   }
  },
  {
   "cell_type": "markdown",
   "source": [
    "### DEFINING LOSS FUNCTION"
   ],
   "metadata": {
    "collapsed": false
   }
  },
  {
   "cell_type": "code",
   "execution_count": 36,
   "outputs": [],
   "source": [
    "class QuantileLoss(nn.Module):\n",
    "    def __init__(self, quantiles):\n",
    "        super().__init__()\n",
    "        self.quantiles = quantiles\n",
    "\n",
    "    def forward(self, pred, target):\n",
    "        assert not target.requires_grad\n",
    "        assert pred.size(0) == target.size(0)\n",
    "        assert pred.size(1) == target.size(1)\n",
    "        losses = []\n",
    "        for i, q in enumerate(self.quantiles):\n",
    "            errors = target.reshape(-1,1) - pred[:, :, i].reshape(-1,1)\n",
    "            losses.append(torch.max((q-1) * errors, q * errors).unsqueeze(1))\n",
    "        loss = torch.mean(torch.sum(torch.cat(losses, dim=1), dim=1))\n",
    "        return loss"
   ],
   "metadata": {
    "collapsed": false
   }
  },
  {
   "cell_type": "code",
   "execution_count": 37,
   "outputs": [],
   "source": [
    "torch.manual_seed(111)\n",
    "\n",
    "quantile_list = np.arange(1, 10) * 0.1\n",
    "\n",
    "pinball_loss_func = QuantileLoss(quantile_list)"
   ],
   "metadata": {
    "collapsed": false
   }
  },
  {
   "cell_type": "markdown",
   "source": [
    "### DEFINING MODEL ARCHITECTURE"
   ],
   "metadata": {
    "collapsed": false
   }
  },
  {
   "cell_type": "code",
   "execution_count": 38,
   "outputs": [],
   "source": [
    "config_args = easydict.EasyDict(\n",
    "        {\n",
    "            \"device\": torch.device(\"cuda\")\n",
    "            if torch.cuda.is_available()\n",
    "            else torch.device(\"cpu\"),\n",
    "            \"learning_rate\": 2e-4,\n",
    "            \"max_iter\": 1000,\n",
    "            \"epochs\": 25\n",
    "        }\n",
    "    )\n",
    "\n",
    "model_args = easydict.EasyDict(\n",
    "        {\n",
    "            \"d_input\": 6 + X_categorical_train.shape[1],     # Model input -> Continuous + Categorical\n",
    "            \"d_output\": 9,                                   # Model output -> Quantile predictions\n",
    "            \"d_model\": 16,                                   # Model latent dimension\n",
    "            \"q\": 3,                                          # Query and Key dimensions\n",
    "            \"v\": 3,                                          # Value dimensions\n",
    "            \"h\": 3,                                          # Number of heads\n",
    "            \"N\": 1,                                          # Number of stacked of encoder and decoder\n",
    "            \"attention_size\": 24,                            # Attention window\n",
    "            \"dropout\": 0.9,                                  # Dropout rate\n",
    "            \"pe\": \"regular\",                                 # Positional encoding used\n",
    "            \"chunk_mode\": None,                              # Default -> MultiHeadAttention\n",
    "        }\n",
    "    )\n",
    "\n",
    "# Making directories to store values\n",
    "if not os.path.exists(\"logs\"):\n",
    "    os.mkdir(\"logs\")\n",
    "if not os.path.exists(\"models\"):\n",
    "    os.mkdir(\"models\")"
   ],
   "metadata": {
    "collapsed": false
   }
  },
  {
   "cell_type": "markdown",
   "source": [
    "### INSTANTIATING MODELS -> VAE AND LSTM"
   ],
   "metadata": {
    "collapsed": false
   }
  },
  {
   "cell_type": "code",
   "execution_count": 39,
   "outputs": [
    {
     "name": "stdout",
     "output_type": "stream",
     "text": [
      "Number of vae models:  8\n"
     ]
    }
   ],
   "source": [
    "# Address for saved VAE models\n",
    "vae_dirname = os.path.join(os.path.dirname(os.getcwd()), \"VAE_LSTM\", \"vae_models\")\n",
    "\n",
    "# Loading the vae models\n",
    "vae_model_1 = torch.load(os.path.join(vae_dirname, \"L4_best_zone_1.pth\"))\n",
    "vae_model_2 = torch.load(os.path.join(vae_dirname, \"L4_best_zone_2.pth\"))\n",
    "vae_model_3 = torch.load(os.path.join(vae_dirname, \"L4_best_zone_3.pth\"))\n",
    "vae_model_4 = torch.load(os.path.join(vae_dirname, \"L4_best_zone_4.pth\"))\n",
    "vae_model_5 = torch.load(os.path.join(vae_dirname, \"L4_best_zone_5.pth\"))\n",
    "vae_model_6 = torch.load(os.path.join(vae_dirname, \"L4_best_zone_6.pth\"))\n",
    "vae_model_7 = torch.load(os.path.join(vae_dirname, \"L4_best_zone_7.pth\"))\n",
    "vae_model_8 = torch.load(os.path.join(vae_dirname, \"L4_best_zone_8.pth\"))\n",
    "\n",
    "vae_models = nn.ModuleList([vae_model_1, vae_model_2, vae_model_3, vae_model_4,\n",
    "                            vae_model_5, vae_model_6, vae_model_7, vae_model_8])\n",
    "print(\"Number of vae models: \", len(vae_models))"
   ],
   "metadata": {
    "collapsed": false
   }
  },
  {
   "cell_type": "code",
   "execution_count": 40,
   "outputs": [
    {
     "name": "stdout",
     "output_type": "stream",
     "text": [
      "Number of transformer models:  8\n"
     ]
    }
   ],
   "source": [
    "# Instantiating transformer corresponding to each zone\n",
    "transformer_model = Transformer(model_args.d_input, model_args.d_model, model_args.d_output,\n",
    "                                model_args.q, model_args.v, model_args.h, model_args.N,\n",
    "                                attention_size=model_args.attention_size, dropout=model_args.dropout,\n",
    "                                chunk_mode=model_args.chunk_mode, pe=model_args.pe).to(device)\n",
    "\n",
    "transformer_models = nn.ModuleList([transformer_model for _ in range(num_zones)])\n",
    "print(\"Number of transformer models: \", len(transformer_models))"
   ],
   "metadata": {
    "collapsed": false
   }
  },
  {
   "cell_type": "code",
   "execution_count": 41,
   "outputs": [],
   "source": [
    "class VAE_TRANSFORMER(nn.Module):\n",
    "    def __init__(self, zonal_vae, zonal_transformer):\n",
    "        super(VAE_TRANSFORMER, self).__init__()\n",
    "        self.zonal_vae = zonal_vae\n",
    "        self.zonal_transformer = zonal_transformer\n",
    "\n",
    "    def forward(self, categorical, zonal_continuous):\n",
    "        out_var = self.zonal_vae(zonal_continuous)\n",
    "        in_transformer = torch.cat((categorical, zonal_continuous, out_var[1]), axis=-1)\n",
    "        out_transformer = self.zonal_transformer(in_transformer)\n",
    "        return out_var, out_transformer"
   ],
   "metadata": {
    "collapsed": false
   }
  },
  {
   "cell_type": "code",
   "execution_count": 42,
   "outputs": [],
   "source": [
    "def pinball(yhat, tau, y):\n",
    "    if yhat >= y:\n",
    "        score = (1 - tau) * (yhat - y)\n",
    "    else:\n",
    "        score = tau * (y - yhat)\n",
    "    return score"
   ],
   "metadata": {
    "collapsed": false
   }
  },
  {
   "cell_type": "code",
   "execution_count": 43,
   "outputs": [],
   "source": [
    "def frozen_param_model(net):\n",
    "    for name, param in net.named_parameters():\n",
    "        if param.requires_grad and 'zonal_vae' in name:\n",
    "            param.requires_grad = False\n",
    "\n",
    "    non_frozen_param = [p for p in net.parameters() if p.requires_grad]\n",
    "    return non_frozen_param"
   ],
   "metadata": {
    "collapsed": false
   }
  },
  {
   "cell_type": "code",
   "execution_count": 44,
   "outputs": [],
   "source": [
    "def save_checkpoint(model, filename):\n",
    "    torch.save(model.state_dict(), filename)\n",
    "\n",
    "def load_from_checkpoint(model, filename):\n",
    "    model.load_state_dict(torch.load(filename))\n",
    "    return model\n",
    "\n",
    "def init_weights(model):\n",
    "    if isinstance(model, nn.Linear):\n",
    "        torch.nn.init.kaiming_uniform_(model.weight, nonlinearity='relu')\n",
    "        model.bias.data.fill_(0.01)"
   ],
   "metadata": {
    "collapsed": false
   }
  },
  {
   "cell_type": "markdown",
   "source": [
    "### DEFINING ZONAL MODEL"
   ],
   "metadata": {
    "collapsed": false
   }
  },
  {
   "cell_type": "code",
   "execution_count": 45,
   "outputs": [],
   "source": [
    "model_1 = VAE_TRANSFORMER(vae_models[0], transformer_models[0]).apply(init_weights)\n",
    "model_2 = VAE_TRANSFORMER(vae_models[1], transformer_models[1]).apply(init_weights)\n",
    "model_3 = VAE_TRANSFORMER(vae_models[2], transformer_models[2]).apply(init_weights)\n",
    "model_4 = VAE_TRANSFORMER(vae_models[3], transformer_models[3]).apply(init_weights)\n",
    "model_5 = VAE_TRANSFORMER(vae_models[4], transformer_models[4]).apply(init_weights)\n",
    "model_6 = VAE_TRANSFORMER(vae_models[5], transformer_models[5]).apply(init_weights)\n",
    "model_7 = VAE_TRANSFORMER(vae_models[6], transformer_models[6]).apply(init_weights)\n",
    "model_8 = VAE_TRANSFORMER(vae_models[7], transformer_models[7]).apply(init_weights)"
   ],
   "metadata": {
    "collapsed": false
   }
  },
  {
   "cell_type": "code",
   "execution_count": 46,
   "outputs": [],
   "source": [
    "# Defining optimizer with frozen vae parameters -> Just training the Transformer\n",
    "optimizer_1 = optim.Adam(frozen_param_model(model_1), lr=config_args.learning_rate)\n",
    "optimizer_2 = optim.Adam(frozen_param_model(model_2), lr=config_args.learning_rate)\n",
    "optimizer_3 = optim.Adam(frozen_param_model(model_3), lr=config_args.learning_rate)\n",
    "optimizer_4 = optim.Adam(frozen_param_model(model_4), lr=config_args.learning_rate)\n",
    "optimizer_5 = optim.Adam(frozen_param_model(model_5), lr=config_args.learning_rate)\n",
    "optimizer_6 = optim.Adam(frozen_param_model(model_6), lr=config_args.learning_rate)\n",
    "optimizer_7 = optim.Adam(frozen_param_model(model_7), lr=config_args.learning_rate)\n",
    "optimizer_8 = optim.Adam(frozen_param_model(model_8), lr=config_args.learning_rate)"
   ],
   "metadata": {
    "collapsed": false
   }
  },
  {
   "cell_type": "markdown",
   "source": [
    "### PERFORMING MODEL TRAINING"
   ],
   "metadata": {
    "collapsed": false
   }
  },
  {
   "cell_type": "code",
   "execution_count": 47,
   "outputs": [
    {
     "name": "stderr",
     "output_type": "stream",
     "text": [
      "[Epoch   1/25]: 100%|██████████| 34873/34873 [01:44<00:00, 333.81it/s, loss_1=0.528, loss_2=0.551, loss_3=0.533, loss_4=0.514, loss_5=0.522, loss_6=0.522, loss_7=0.53, loss_8=0.566]              \n",
      "[Epoch   2/25]: 100%|██████████| 34873/34873 [01:48<00:00, 319.98it/s, loss_1=0.384, loss_2=0.411, loss_3=0.381, loss_4=0.368, loss_5=0.373, loss_6=0.367, loss_7=0.393, loss_8=0.419]              \n",
      "[Epoch   3/25]: 100%|██████████| 34873/34873 [01:50<00:00, 316.97it/s, loss_1=0.275, loss_2=0.31, loss_3=0.276, loss_4=0.276, loss_5=0.273, loss_6=0.256, loss_7=0.289, loss_8=0.308]               \n",
      "[Epoch   4/25]: 100%|██████████| 34873/34873 [01:47<00:00, 324.89it/s, loss_1=0.249, loss_2=0.285, loss_3=0.251, loss_4=0.252, loss_5=0.249, loss_6=0.231, loss_7=0.266, loss_8=0.28]                     \n",
      "[Epoch   5/25]: 100%|██████████| 34873/34873 [01:51<00:00, 312.54it/s, loss_1=0.234, loss_2=0.272, loss_3=0.237, loss_4=0.241, loss_5=0.235, loss_6=0.218, loss_7=0.252, loss_8=0.264]                    \n",
      "[Epoch   6/25]: 100%|██████████| 34873/34873 [01:54<00:00, 305.23it/s, loss_1=0.215, loss_2=0.254, loss_3=0.219, loss_4=0.224, loss_5=0.215, loss_6=0.201, loss_7=0.234, loss_8=0.244]                      \n",
      "[Epoch   7/25]: 100%|██████████| 34873/34873 [01:55<00:00, 300.95it/s, loss_1=0.195, loss_2=0.235, loss_3=0.199, loss_4=0.205, loss_5=0.195, loss_6=0.184, loss_7=0.213, loss_8=0.223]                     \n",
      "[Epoch   8/25]: 100%|██████████| 34873/34873 [01:54<00:00, 305.19it/s, loss_1=0.178, loss_2=0.219, loss_3=0.183, loss_4=0.189, loss_5=0.179, loss_6=0.169, loss_7=0.196, loss_8=0.203]                      \n",
      "[Epoch   9/25]: 100%|██████████| 34873/34873 [01:54<00:00, 304.11it/s, loss_1=0.166, loss_2=0.205, loss_3=0.171, loss_4=0.176, loss_5=0.166, loss_6=0.157, loss_7=0.184, loss_8=0.188]                     \n",
      "[Epoch  10/25]: 100%|██████████| 34873/34873 [01:54<00:00, 303.40it/s, loss_1=0.157, loss_2=0.195, loss_3=0.162, loss_4=0.167, loss_5=0.158, loss_6=0.149, loss_7=0.175, loss_8=0.177]                    \n",
      "[Epoch  11/25]: 100%|██████████| 34873/34873 [01:51<00:00, 313.25it/s, loss_1=0.151, loss_2=0.188, loss_3=0.157, loss_4=0.161, loss_5=0.152, loss_6=0.144, loss_7=0.169, loss_8=0.169]                     \n",
      "[Epoch  12/25]: 100%|██████████| 34873/34873 [01:48<00:00, 322.20it/s, loss_1=0.147, loss_2=0.183, loss_3=0.153, loss_4=0.157, loss_5=0.148, loss_6=0.14, loss_7=0.165, loss_8=0.165]                       \n",
      "[Epoch  13/25]: 100%|██████████| 34873/34873 [01:49<00:00, 319.80it/s, loss_1=0.145, loss_2=0.181, loss_3=0.151, loss_4=0.155, loss_5=0.146, loss_6=0.138, loss_7=0.163, loss_8=0.161]                     \n",
      "[Epoch  14/25]: 100%|██████████| 34873/34873 [01:49<00:00, 317.16it/s, loss_1=0.141, loss_2=0.178, loss_3=0.148, loss_4=0.151, loss_5=0.142, loss_6=0.135, loss_7=0.16, loss_8=0.158]                       \n",
      "[Epoch  15/25]: 100%|██████████| 34873/34873 [01:51<00:00, 312.13it/s, loss_1=0.141, loss_2=0.176, loss_3=0.147, loss_4=0.151, loss_5=0.142, loss_6=0.134, loss_7=0.16, loss_8=0.157]                       \n",
      "[Epoch  16/25]: 100%|██████████| 34873/34873 [01:49<00:00, 318.27it/s, loss_1=0.139, loss_2=0.174, loss_3=0.145, loss_4=0.149, loss_5=0.14, loss_6=0.132, loss_7=0.158, loss_8=0.154]                     \n",
      "[Epoch  17/25]: 100%|██████████| 34873/34873 [01:44<00:00, 334.90it/s, loss_1=0.136, loss_2=0.171, loss_3=0.142, loss_4=0.146, loss_5=0.137, loss_6=0.129, loss_7=0.155, loss_8=0.151]                    \n",
      "[Epoch  18/25]: 100%|██████████| 34873/34873 [01:38<00:00, 352.69it/s, loss_1=0.135, loss_2=0.17, loss_3=0.141, loss_4=0.145, loss_5=0.136, loss_6=0.128, loss_7=0.154, loss_8=0.15]                      \n",
      "[Epoch  19/25]: 100%|██████████| 34873/34873 [01:38<00:00, 353.98it/s, loss_1=0.135, loss_2=0.169, loss_3=0.14, loss_4=0.144, loss_5=0.135, loss_6=0.128, loss_7=0.154, loss_8=0.149]                       \n",
      "[Epoch  20/25]: 100%|██████████| 34873/34873 [01:37<00:00, 356.13it/s, loss_1=0.135, loss_2=0.168, loss_3=0.14, loss_4=0.144, loss_5=0.135, loss_6=0.127, loss_7=0.153, loss_8=0.148]                     \n",
      "[Epoch  21/25]: 100%|██████████| 34873/34873 [01:38<00:00, 353.98it/s, loss_1=0.132, loss_2=0.166, loss_3=0.137, loss_4=0.141, loss_5=0.133, loss_6=0.125, loss_7=0.151, loss_8=0.145]                      \n",
      "[Epoch  22/25]: 100%|██████████| 34873/34873 [01:38<00:00, 354.26it/s, loss_1=0.132, loss_2=0.165, loss_3=0.138, loss_4=0.141, loss_5=0.133, loss_6=0.125, loss_7=0.151, loss_8=0.145]                   \n",
      "[Epoch  23/25]: 100%|██████████| 34873/34873 [01:38<00:00, 354.04it/s, loss_1=0.13, loss_2=0.163, loss_3=0.135, loss_4=0.139, loss_5=0.131, loss_6=0.123, loss_7=0.149, loss_8=0.143]                    \n",
      "[Epoch  24/25]: 100%|██████████| 34873/34873 [01:38<00:00, 353.70it/s, loss_1=0.13, loss_2=0.162, loss_3=0.135, loss_4=0.139, loss_5=0.13, loss_6=0.123, loss_7=0.148, loss_8=0.142]                       \n",
      "[Epoch  25/25]: 100%|██████████| 34873/34873 [01:38<00:00, 353.93it/s, loss_1=0.129, loss_2=0.161, loss_3=0.133, loss_4=0.138, loss_5=0.129, loss_6=0.121, loss_7=0.147, loss_8=0.14]                      \n"
     ]
    },
    {
     "name": "stdout",
     "output_type": "stream",
     "text": [
      "All model stopped training at the end of epoch and final checkpoint saved !\n"
     ]
    },
    {
     "data": {
      "text/plain": "<Figure size 640x480 with 1 Axes>",
      "image/png": "[encoded data removed]"
     },
     "metadata": {},
     "output_type": "display_data"
    },
    {
     "data": {
      "text/plain": "<Figure size 640x480 with 1 Axes>",
      "image/png": "[encoded data removed]"
     },
     "metadata": {},
     "output_type": "display_data"
    },
    {
     "data": {
      "text/plain": "<Figure size 640x480 with 1 Axes>",
      "image/png": "[encoded data removed]"
     },
     "metadata": {},
     "output_type": "display_data"
    },
    {
     "data": {
      "text/plain": "<Figure size 640x480 with 1 Axes>",
      "image/png": "[encoded data removed]"
     },
     "metadata": {},
     "output_type": "display_data"
    },
    {
     "data": {
      "text/plain": "<Figure size 640x480 with 1 Axes>",
      "image/png": "[encoded data removed]"
     },
     "metadata": {},
     "output_type": "display_data"
    },
    {
     "data": {
      "text/plain": "<Figure size 640x480 with 1 Axes>",
      "image/png": "[encoded data removed]"
     },
     "metadata": {},
     "output_type": "display_data"
    },
    {
     "data": {
      "text/plain": "<Figure size 640x480 with 1 Axes>",
      "image/png": "[encoded data removed]"
     },
     "metadata": {},
     "output_type": "display_data"
    },
    {
     "data": {
      "text/plain": "<Figure size 640x480 with 1 Axes>",
      "image/png": "[encoded data removed]"
     },
     "metadata": {},
     "output_type": "display_data"
    },
    {
     "name": "stdout",
     "output_type": "stream",
     "text": [
      "\n",
      "Total time of training: 0.7503606190284093 hours\n"
     ]
    }
   ],
   "source": [
    "start_time = time.time()\n",
    "\n",
    "hist_loss_1 = np.zeros(config_args.epochs)\n",
    "hist_loss_2 = np.zeros(config_args.epochs)\n",
    "hist_loss_3 = np.zeros(config_args.epochs)\n",
    "hist_loss_4 = np.zeros(config_args.epochs)\n",
    "hist_loss_5 = np.zeros(config_args.epochs)\n",
    "hist_loss_6 = np.zeros(config_args.epochs)\n",
    "hist_loss_7 = np.zeros(config_args.epochs)\n",
    "hist_loss_8 = np.zeros(config_args.epochs)\n",
    "\n",
    "for epoch in range(config_args.epochs):\n",
    "\n",
    "    # Switching all models in training mode\n",
    "    model_1.train()\n",
    "    model_2.train()\n",
    "    model_3.train()\n",
    "    model_4.train()\n",
    "    model_5.train()\n",
    "    model_6.train()\n",
    "    model_7.train()\n",
    "    model_8.train()\n",
    "\n",
    "    running_loss_1 = 0\n",
    "    running_loss_2 = 0\n",
    "    running_loss_3 = 0\n",
    "    running_loss_4 = 0\n",
    "    running_loss_5 = 0\n",
    "    running_loss_6 = 0\n",
    "    running_loss_7 = 0\n",
    "    running_loss_8 = 0\n",
    "\n",
    "    with tqdm(total=len(train_dataloader.dataset),\n",
    "              desc=f\"[Epoch {epoch+1:3d}/{config_args.epochs}]\") as pbar:\n",
    "\n",
    "        for batch, (categorical_var, continuous_var, target_var) in enumerate(train_dataloader):\n",
    "\n",
    "            # Setting the gradients to zero\n",
    "            optimizer_1.zero_grad()\n",
    "            optimizer_2.zero_grad()\n",
    "            optimizer_3.zero_grad()\n",
    "            optimizer_4.zero_grad()\n",
    "            optimizer_5.zero_grad()\n",
    "            optimizer_6.zero_grad()\n",
    "            optimizer_7.zero_grad()\n",
    "            optimizer_8.zero_grad()\n",
    "\n",
    "            # The categorical variables are common for all zones.\n",
    "            common_categorical = copy.deepcopy(categorical_var).to(device)\n",
    "\n",
    "            zone_1_continuous = copy.deepcopy(continuous_var[:, :, 0:3]).to(device)\n",
    "            zone_2_continuous = copy.deepcopy(continuous_var[:, :, 3:6]).to(device)\n",
    "            zone_3_continuous = copy.deepcopy(continuous_var[:, :, 6:9]).to(device)\n",
    "            zone_4_continuous = copy.deepcopy(continuous_var[:, :, 9:12]).to(device)\n",
    "            zone_5_continuous = copy.deepcopy(continuous_var[:, :, 12:15]).to(device)\n",
    "            zone_6_continuous = copy.deepcopy(continuous_var[:, :, 15:18]).to(device)\n",
    "            zone_7_continuous = copy.deepcopy(continuous_var[:, :, 18:21]).to(device)\n",
    "            zone_8_continuous = copy.deepcopy(continuous_var[:, :, 21:24]).to(device)\n",
    "\n",
    "            zone_1_target = copy.deepcopy(target_var[:, :, 0:1])\n",
    "            zone_2_target = copy.deepcopy(target_var[:, :, 1:2])\n",
    "            zone_3_target = copy.deepcopy(target_var[:, :, 2:3])\n",
    "            zone_4_target = copy.deepcopy(target_var[:, :, 3:4])\n",
    "            zone_5_target = copy.deepcopy(target_var[:, :, 4:5])\n",
    "            zone_6_target = copy.deepcopy(target_var[:, :, 5:6])\n",
    "            zone_7_target = copy.deepcopy(target_var[:, :, 6:7])\n",
    "            zone_8_target = copy.deepcopy(target_var[:, :, 7:8])\n",
    "\n",
    "            # Propagating through the network\n",
    "            out_vae_1, out_transformer_1 = model_1(common_categorical, zone_1_continuous)\n",
    "            out_vae_2, out_transformer_2 = model_2(common_categorical, zone_2_continuous)\n",
    "            out_vae_3, out_transformer_3 = model_3(common_categorical, zone_3_continuous)\n",
    "            out_vae_4, out_transformer_4 = model_4(common_categorical, zone_4_continuous)\n",
    "            out_vae_5, out_transformer_5 = model_5(common_categorical, zone_5_continuous)\n",
    "            out_vae_6, out_transformer_6 = model_6(common_categorical, zone_6_continuous)\n",
    "            out_vae_7, out_transformer_7 = model_7(common_categorical, zone_7_continuous)\n",
    "            out_vae_8, out_transformer_8 = model_8(common_categorical, zone_8_continuous)\n",
    "\n",
    "            # Calculating the pinball loss\n",
    "            loss_1 = pinball_loss_func(out_transformer_1, zone_1_target.to(device))\n",
    "            loss_2 = pinball_loss_func(out_transformer_2, zone_2_target.to(device))\n",
    "            loss_3 = pinball_loss_func(out_transformer_3, zone_3_target.to(device))\n",
    "            loss_4 = pinball_loss_func(out_transformer_4, zone_4_target.to(device))\n",
    "            loss_5 = pinball_loss_func(out_transformer_5, zone_5_target.to(device))\n",
    "            loss_6 = pinball_loss_func(out_transformer_6, zone_6_target.to(device))\n",
    "            loss_7 = pinball_loss_func(out_transformer_7, zone_7_target.to(device))\n",
    "            loss_8 = pinball_loss_func(out_transformer_8, zone_8_target.to(device))\n",
    "\n",
    "            # Back-Propagating the loss\n",
    "            loss_1.backward()\n",
    "            loss_2.backward()\n",
    "            loss_3.backward()\n",
    "            loss_4.backward()\n",
    "            loss_5.backward()\n",
    "            loss_6.backward()\n",
    "            loss_7.backward()\n",
    "            loss_8.backward()\n",
    "\n",
    "            # Updating the parameters\n",
    "            optimizer_1.step()\n",
    "            optimizer_2.step()\n",
    "            optimizer_3.step()\n",
    "            optimizer_4.step()\n",
    "            optimizer_5.step()\n",
    "            optimizer_6.step()\n",
    "            optimizer_7.step()\n",
    "            optimizer_8.step()\n",
    "\n",
    "            # Accumulating the running loss\n",
    "            running_loss_1 += loss_1.item()\n",
    "            running_loss_2 += loss_2.item()\n",
    "            running_loss_3 += loss_3.item()\n",
    "            running_loss_4 += loss_4.item()\n",
    "            running_loss_5 += loss_5.item()\n",
    "            running_loss_6 += loss_6.item()\n",
    "            running_loss_7 += loss_7.item()\n",
    "            running_loss_8 += loss_8.item()\n",
    "\n",
    "            pbar.set_postfix({\n",
    "                'loss_1': running_loss_1/(batch+1),\n",
    "                'loss_2': running_loss_2/(batch+1),\n",
    "                'loss_3': running_loss_3/(batch+1),\n",
    "                'loss_4': running_loss_4/(batch+1),\n",
    "                'loss_5': running_loss_5/(batch+1),\n",
    "                'loss_6': running_loss_6/(batch+1),\n",
    "                'loss_7': running_loss_7/(batch+1),\n",
    "                'loss_8': running_loss_8/(batch+1)\n",
    "                              })\n",
    "            pbar.update(zone_1_continuous.shape[0])\n",
    "\n",
    "            train_loss_1 = running_loss_1/len(train_dataloader)\n",
    "            train_loss_2 = running_loss_2/len(train_dataloader)\n",
    "            train_loss_3 = running_loss_3/len(train_dataloader)\n",
    "            train_loss_4 = running_loss_4/len(train_dataloader)\n",
    "            train_loss_5 = running_loss_5/len(train_dataloader)\n",
    "            train_loss_6 = running_loss_6/len(train_dataloader)\n",
    "            train_loss_7 = running_loss_7/len(train_dataloader)\n",
    "            train_loss_8 = running_loss_8/len(train_dataloader)\n",
    "\n",
    "            pbar.set_postfix({\n",
    "                'loss_1': train_loss_1,\n",
    "                'loss_2': train_loss_2,\n",
    "                'loss_3': train_loss_3,\n",
    "                'loss_4': train_loss_4,\n",
    "                'loss_5': train_loss_5,\n",
    "                'loss_6': train_loss_6,\n",
    "                'loss_7': train_loss_7,\n",
    "                'loss_8': train_loss_8,\n",
    "                              })\n",
    "\n",
    "            hist_loss_1[epoch] = train_loss_1\n",
    "            hist_loss_2[epoch] = train_loss_2\n",
    "            hist_loss_3[epoch] = train_loss_3\n",
    "            hist_loss_4[epoch] = train_loss_4\n",
    "            hist_loss_5[epoch] = train_loss_5\n",
    "            hist_loss_6[epoch] = train_loss_6\n",
    "            hist_loss_7[epoch] = train_loss_7\n",
    "            hist_loss_8[epoch] = train_loss_8\n",
    "\n",
    "\n",
    "print(\"All model stopped training at the end of epoch and final checkpoint saved !\")\n",
    "save_checkpoint(model_1, os.path.join(os.getcwd(), \"vae_transformer_checkpoint\",\n",
    "                                                      \"vae_transformer_best_1.pth\"))\n",
    "save_checkpoint(model_2, os.path.join(os.getcwd(), \"vae_transformer_checkpoint\",\n",
    "                                                      \"vae_transformer_best_2.pth\"))\n",
    "save_checkpoint(model_3, os.path.join(os.getcwd(), \"vae_transformer_checkpoint\",\n",
    "                                                      \"vae_transformer_best_3.pth\"))\n",
    "save_checkpoint(model_4, os.path.join(os.getcwd(), \"vae_transformer_checkpoint\",\n",
    "                                                      \"vae_transformer_best_4.pth\"))\n",
    "save_checkpoint(model_5, os.path.join(os.getcwd(), \"vae_transformer_checkpoint\",\n",
    "                                                      \"vae_transformer_best_5.pth\"))\n",
    "save_checkpoint(model_6, os.path.join(os.getcwd(), \"vae_transformer_checkpoint\",\n",
    "                                                      \"vae_transformer_best_6.pth\"))\n",
    "save_checkpoint(model_7, os.path.join(os.getcwd(), \"vae_transformer_checkpoint\",\n",
    "                                                      \"vae_transformer_best_7.pth\"))\n",
    "save_checkpoint(model_8, os.path.join(os.getcwd(), \"vae_transformer_checkpoint\",\n",
    "                                                      \"vae_transformer_best_8.pth\"))\n",
    "\n",
    "\n",
    "plt.plot(np.trim_zeros(hist_loss_1, 'b'), 'o-', label='train')\n",
    "plt.legend()\n",
    "plt.show()\n",
    "\n",
    "plt.plot(np.trim_zeros(hist_loss_2, 'b'), 'o-', label='train')\n",
    "plt.legend()\n",
    "plt.show()\n",
    "\n",
    "plt.plot(np.trim_zeros(hist_loss_3, 'b'), 'o-', label='train')\n",
    "plt.legend()\n",
    "plt.show()\n",
    "\n",
    "plt.plot(np.trim_zeros(hist_loss_4, 'b'), 'o-', label='train')\n",
    "plt.legend()\n",
    "plt.show()\n",
    "\n",
    "plt.plot(np.trim_zeros(hist_loss_5, 'b'), 'o-', label='train')\n",
    "plt.legend()\n",
    "plt.show()\n",
    "\n",
    "plt.plot(np.trim_zeros(hist_loss_6, 'b'), 'o-', label='train')\n",
    "plt.legend()\n",
    "plt.show()\n",
    "\n",
    "plt.plot(np.trim_zeros(hist_loss_7, 'b'), 'o-', label='train')\n",
    "plt.legend()\n",
    "plt.show()\n",
    "\n",
    "plt.plot(np.trim_zeros(hist_loss_8, 'b'), 'o-', label='train')\n",
    "plt.legend()\n",
    "plt.show()\n",
    "\n",
    "end_time = time.time()\n",
    "\n",
    "total_time = end_time - start_time\n",
    "print(\"\\nTotal time of training: {} hours\".format(total_time/3600))"
   ],
   "metadata": {
    "collapsed": false
   }
  },
  {
   "cell_type": "markdown",
   "source": [
    "### LOADING AND GENERATING RESULTS ON TEST DATALOADER"
   ],
   "metadata": {
    "collapsed": false
   }
  },
  {
   "cell_type": "code",
   "execution_count": 48,
   "outputs": [],
   "source": [
    "# Loading the models\n",
    "best_vae_transformer_1 = load_from_checkpoint(model_1, os.path.join(os.getcwd(),\n",
    "                                                                    \"vae_transformer_checkpoint\",\n",
    "                                                                    \"vae_transformer_best_1.pth\"))\n",
    "best_vae_transformer_2 = load_from_checkpoint(model_2, os.path.join(os.getcwd(),\n",
    "                                                                    \"vae_transformer_checkpoint\",\n",
    "                                                                    \"vae_transformer_best_2.pth\"))\n",
    "best_vae_transformer_3 = load_from_checkpoint(model_3, os.path.join(os.getcwd(),\n",
    "                                                                    \"vae_transformer_checkpoint\",\n",
    "                                                                    \"vae_transformer_best_3.pth\"))\n",
    "best_vae_transformer_4 = load_from_checkpoint(model_4, os.path.join(os.getcwd(),\n",
    "                                                                    \"vae_transformer_checkpoint\",\n",
    "                                                                    \"vae_transformer_best_4.pth\"))\n",
    "best_vae_transformer_5 = load_from_checkpoint(model_5, os.path.join(os.getcwd(),\n",
    "                                                                    \"vae_transformer_checkpoint\",\n",
    "                                                                    \"vae_transformer_best_5.pth\"))\n",
    "best_vae_transformer_6 = load_from_checkpoint(model_6, os.path.join(os.getcwd(),\n",
    "                                                                    \"vae_transformer_checkpoint\",\n",
    "                                                                    \"vae_transformer_best_6.pth\"))\n",
    "best_vae_transformer_7 = load_from_checkpoint(model_7, os.path.join(os.getcwd(),\n",
    "                                                                    \"vae_transformer_checkpoint\",\n",
    "                                                                    \"vae_transformer_best_7.pth\"))\n",
    "best_vae_transformer_8 = load_from_checkpoint(model_8, os.path.join(os.getcwd(),\n",
    "                                                                    \"vae_transformer_checkpoint\",\n",
    "                                                                    \"vae_transformer_best_8.pth\"))"
   ],
   "metadata": {
    "collapsed": false
   }
  },
  {
   "cell_type": "code",
   "execution_count": 49,
   "outputs": [
    {
     "name": "stderr",
     "output_type": "stream",
     "text": [
      "100%|██████████| 3/3 [00:00<00:00,  4.09it/s]\n"
     ]
    }
   ],
   "source": [
    "quantile_pred_1 = np.empty(shape=(len(test_dataloader.dataset), 24, model_args.d_output))\n",
    "quantile_pred_2 = np.empty(shape=(len(test_dataloader.dataset), 24, model_args.d_output))\n",
    "quantile_pred_3 = np.empty(shape=(len(test_dataloader.dataset), 24, model_args.d_output))\n",
    "quantile_pred_4 = np.empty(shape=(len(test_dataloader.dataset), 24, model_args.d_output))\n",
    "quantile_pred_5 = np.empty(shape=(len(test_dataloader.dataset), 24, model_args.d_output))\n",
    "quantile_pred_6 = np.empty(shape=(len(test_dataloader.dataset), 24, model_args.d_output))\n",
    "quantile_pred_7 = np.empty(shape=(len(test_dataloader.dataset), 24, model_args.d_output))\n",
    "quantile_pred_8 = np.empty(shape=(len(test_dataloader.dataset), 24, model_args.d_output))\n",
    "idx_pred_1 = 0\n",
    "idx_pred_2 = 0\n",
    "idx_pred_3 = 0\n",
    "idx_pred_4 = 0\n",
    "idx_pred_5 = 0\n",
    "idx_pred_6 = 0\n",
    "idx_pred_7 = 0\n",
    "idx_pred_8 = 0\n",
    "\n",
    "# Switching all models to eval mode\n",
    "model_1.eval()\n",
    "model_2.eval()\n",
    "model_3.eval()\n",
    "model_4.eval()\n",
    "model_5.eval()\n",
    "model_6.eval()\n",
    "model_7.eval()\n",
    "model_8.eval()\n",
    "\n",
    "with torch.no_grad():\n",
    "    for (categorical_var, continuous_var, target_var) in tqdm(test_dataloader, total=len(test_dataloader)):\n",
    "\n",
    "        # The categorical variables are common for all zones.\n",
    "        common_categorical = copy.deepcopy(categorical_var).to(device)\n",
    "\n",
    "        zone_1_continuous = copy.deepcopy(continuous_var[:, :, 0:3]).to(device)\n",
    "        zone_2_continuous = copy.deepcopy(continuous_var[:, :, 3:6]).to(device)\n",
    "        zone_3_continuous = copy.deepcopy(continuous_var[:, :, 6:9]).to(device)\n",
    "        zone_4_continuous = copy.deepcopy(continuous_var[:, :, 9:12]).to(device)\n",
    "        zone_5_continuous = copy.deepcopy(continuous_var[:, :, 12:15]).to(device)\n",
    "        zone_6_continuous = copy.deepcopy(continuous_var[:, :, 15:18]).to(device)\n",
    "        zone_7_continuous = copy.deepcopy(continuous_var[:, :, 18:21]).to(device)\n",
    "        zone_8_continuous = copy.deepcopy(continuous_var[:, :, 21:24]).to(device)\n",
    "\n",
    "        zone_1_target = copy.deepcopy(target_var[:, :, 0:1])\n",
    "        zone_2_target = copy.deepcopy(target_var[:, :, 1:2])\n",
    "        zone_3_target = copy.deepcopy(target_var[:, :, 2:3])\n",
    "        zone_4_target = copy.deepcopy(target_var[:, :, 3:4])\n",
    "        zone_5_target = copy.deepcopy(target_var[:, :, 4:5])\n",
    "        zone_6_target = copy.deepcopy(target_var[:, :, 5:6])\n",
    "        zone_7_target = copy.deepcopy(target_var[:, :, 6:7])\n",
    "        zone_8_target = copy.deepcopy(target_var[:, :, 7:8])\n",
    "\n",
    "        # Propagating through the network\n",
    "        out_vae_1, out_transformer_1 = model_1(common_categorical, zone_1_continuous)\n",
    "        out_vae_2, out_transformer_2 = model_2(common_categorical, zone_2_continuous)\n",
    "        out_vae_3, out_transformer_3 = model_3(common_categorical, zone_3_continuous)\n",
    "        out_vae_4, out_transformer_4 = model_4(common_categorical, zone_4_continuous)\n",
    "        out_vae_5, out_transformer_5 = model_5(common_categorical, zone_5_continuous)\n",
    "        out_vae_6, out_transformer_6 = model_6(common_categorical, zone_6_continuous)\n",
    "        out_vae_7, out_transformer_7 = model_7(common_categorical, zone_7_continuous)\n",
    "        out_vae_8, out_transformer_8 = model_8(common_categorical, zone_8_continuous)\n",
    "\n",
    "        # Concatenating the predictions\n",
    "        quantile_pred_1[idx_pred_1:idx_pred_1+zone_1_continuous.shape[0]] = out_transformer_1.cpu().numpy()\n",
    "\n",
    "        quantile_pred_2[idx_pred_2:idx_pred_2+zone_2_continuous.shape[0]] = out_transformer_2.cpu().numpy()\n",
    "\n",
    "        quantile_pred_3[idx_pred_3:idx_pred_3+zone_3_continuous.shape[0]] = out_transformer_3.cpu().numpy()\n",
    "\n",
    "        quantile_pred_4[idx_pred_4:idx_pred_4+zone_4_continuous.shape[0]] = out_transformer_4.cpu().numpy()\n",
    "\n",
    "        quantile_pred_5[idx_pred_5:idx_pred_5+zone_5_continuous.shape[0]] = out_transformer_5.cpu().numpy()\n",
    "\n",
    "        quantile_pred_6[idx_pred_6:idx_pred_6+zone_6_continuous.shape[0]] = out_transformer_6.cpu().numpy()\n",
    "\n",
    "        quantile_pred_7[idx_pred_7:idx_pred_7+zone_7_continuous.shape[0]] = out_transformer_7.cpu().numpy()\n",
    "\n",
    "        quantile_pred_8[idx_pred_8:idx_pred_8+zone_8_continuous.shape[0]] = out_transformer_8.cpu().numpy()\n",
    "\n",
    "        idx_pred_1 += zone_1_continuous.shape[0]\n",
    "        idx_pred_2 += zone_2_continuous.shape[0]\n",
    "        idx_pred_3 += zone_3_continuous.shape[0]\n",
    "        idx_pred_4 += zone_4_continuous.shape[0]\n",
    "        idx_pred_5 += zone_5_continuous.shape[0]\n",
    "        idx_pred_6 += zone_6_continuous.shape[0]\n",
    "        idx_pred_7 += zone_7_continuous.shape[0]\n",
    "        idx_pred_8 += zone_8_continuous.shape[0]"
   ],
   "metadata": {
    "collapsed": false
   }
  },
  {
   "cell_type": "markdown",
   "source": [
    "#### FORMATTING PREDICTED AND TRUE DATA FOR GENERATING RESULTS"
   ],
   "metadata": {
    "collapsed": false
   }
  },
  {
   "cell_type": "code",
   "execution_count": 50,
   "outputs": [
    {
     "data": {
      "text/plain": "(8760, 9)"
     },
     "execution_count": 50,
     "metadata": {},
     "output_type": "execute_result"
    }
   ],
   "source": [
    "# Reshaping the predicted quantiles\n",
    "quantile_pred_arr_1 = quantile_pred_1.reshape(-1, model_args.d_output)\n",
    "quantile_pred_arr_2 = quantile_pred_2.reshape(-1, model_args.d_output)\n",
    "quantile_pred_arr_3 = quantile_pred_3.reshape(-1, model_args.d_output)\n",
    "quantile_pred_arr_4 = quantile_pred_4.reshape(-1, model_args.d_output)\n",
    "quantile_pred_arr_5 = quantile_pred_5.reshape(-1, model_args.d_output)\n",
    "quantile_pred_arr_6 = quantile_pred_6.reshape(-1, model_args.d_output)\n",
    "quantile_pred_arr_7 = quantile_pred_7.reshape(-1, model_args.d_output)\n",
    "quantile_pred_arr_8 = quantile_pred_8.reshape(-1, model_args.d_output)\n",
    "\n",
    "quantile_pred_arr_1.shape"
   ],
   "metadata": {
    "collapsed": false
   }
  },
  {
   "cell_type": "code",
   "execution_count": 51,
   "outputs": [
    {
     "data": {
      "text/plain": "(8760, 9)"
     },
     "execution_count": 51,
     "metadata": {},
     "output_type": "execute_result"
    }
   ],
   "source": [
    "quantile_pred_1_inv = quantile_pred_arr_1 * (mm_scaler_Y.data_max_[0] - mm_scaler_Y.data_min_[0]) + mm_scaler_Y.data_min_[0]\n",
    "quantile_pred_2_inv = quantile_pred_arr_2 * (mm_scaler_Y.data_max_[1] - mm_scaler_Y.data_min_[1]) + mm_scaler_Y.data_min_[1]\n",
    "quantile_pred_3_inv = quantile_pred_arr_3 * (mm_scaler_Y.data_max_[2] - mm_scaler_Y.data_min_[2]) + mm_scaler_Y.data_min_[2]\n",
    "quantile_pred_4_inv = quantile_pred_arr_4 * (mm_scaler_Y.data_max_[3] - mm_scaler_Y.data_min_[3]) + mm_scaler_Y.data_min_[3]\n",
    "quantile_pred_5_inv = quantile_pred_arr_5 * (mm_scaler_Y.data_max_[4] - mm_scaler_Y.data_min_[4]) + mm_scaler_Y.data_min_[4]\n",
    "quantile_pred_6_inv = quantile_pred_arr_6 * (mm_scaler_Y.data_max_[5] - mm_scaler_Y.data_min_[5]) + mm_scaler_Y.data_min_[5]\n",
    "quantile_pred_7_inv = quantile_pred_arr_7 * (mm_scaler_Y.data_max_[6] - mm_scaler_Y.data_min_[6]) + mm_scaler_Y.data_min_[6]\n",
    "quantile_pred_8_inv = quantile_pred_arr_8 * (mm_scaler_Y.data_max_[7] - mm_scaler_Y.data_min_[7]) + mm_scaler_Y.data_min_[7]\n",
    "\n",
    "quantile_pred_arr_1.shape"
   ],
   "metadata": {
    "collapsed": false
   }
  },
  {
   "cell_type": "code",
   "execution_count": 52,
   "outputs": [
    {
     "data": {
      "text/plain": "(8760, 1)"
     },
     "execution_count": 52,
     "metadata": {},
     "output_type": "execute_result"
    }
   ],
   "source": [
    "# Reshaping the true data\n",
    "Y_test_1 = target_samples_testing[:, :, 0:1]\n",
    "Y_test_2 = target_samples_testing[:, :, 1:2]\n",
    "Y_test_3 = target_samples_testing[:, :, 2:3]\n",
    "Y_test_4 = target_samples_testing[:, :, 3:4]\n",
    "Y_test_5 = target_samples_testing[:, :, 4:5]\n",
    "Y_test_6 = target_samples_testing[:, :, 5:6]\n",
    "Y_test_7 = target_samples_testing[:, :, 6:7]\n",
    "Y_test_8 = target_samples_testing[:, :, 7:8]\n",
    "\n",
    "yArr_1 = Y_test_1.reshape(Y_test_1.shape[0] * Y_test_1.shape[1], Y_test_1.shape[2]).numpy()\n",
    "yArr_2 = Y_test_2.reshape(Y_test_2.shape[0] * Y_test_2.shape[1], Y_test_2.shape[2]).numpy()\n",
    "yArr_3 = Y_test_3.reshape(Y_test_3.shape[0] * Y_test_3.shape[1], Y_test_3.shape[2]).numpy()\n",
    "yArr_4 = Y_test_4.reshape(Y_test_4.shape[0] * Y_test_4.shape[1], Y_test_4.shape[2]).numpy()\n",
    "yArr_5 = Y_test_5.reshape(Y_test_5.shape[0] * Y_test_5.shape[1], Y_test_5.shape[2]).numpy()\n",
    "yArr_6 = Y_test_6.reshape(Y_test_6.shape[0] * Y_test_6.shape[1], Y_test_6.shape[2]).numpy()\n",
    "yArr_7 = Y_test_7.reshape(Y_test_7.shape[0] * Y_test_7.shape[1], Y_test_7.shape[2]).numpy()\n",
    "yArr_8 = Y_test_8.reshape(Y_test_8.shape[0] * Y_test_8.shape[1], Y_test_8.shape[2]).numpy()\n",
    "\n",
    "yArr_1.shape"
   ],
   "metadata": {
    "collapsed": false
   }
  },
  {
   "cell_type": "code",
   "execution_count": 53,
   "outputs": [],
   "source": [
    "yArr_1_inv = yArr_1 * (mm_scaler_Y.data_max_[0] - mm_scaler_Y.data_min_[0]) + mm_scaler_Y.data_min_[0]\n",
    "yArr_2_inv = yArr_2 * (mm_scaler_Y.data_max_[1] - mm_scaler_Y.data_min_[1]) + mm_scaler_Y.data_min_[1]\n",
    "yArr_3_inv = yArr_3 * (mm_scaler_Y.data_max_[2] - mm_scaler_Y.data_min_[2]) + mm_scaler_Y.data_min_[2]\n",
    "yArr_4_inv = yArr_4 * (mm_scaler_Y.data_max_[3] - mm_scaler_Y.data_min_[3]) + mm_scaler_Y.data_min_[3]\n",
    "yArr_5_inv = yArr_5 * (mm_scaler_Y.data_max_[4] - mm_scaler_Y.data_min_[4]) + mm_scaler_Y.data_min_[4]\n",
    "yArr_6_inv = yArr_6 * (mm_scaler_Y.data_max_[5] - mm_scaler_Y.data_min_[5]) + mm_scaler_Y.data_min_[5]\n",
    "yArr_7_inv = yArr_7 * (mm_scaler_Y.data_max_[6] - mm_scaler_Y.data_min_[6]) + mm_scaler_Y.data_min_[6]\n",
    "yArr_8_inv = yArr_8 * (mm_scaler_Y.data_max_[7] - mm_scaler_Y.data_min_[7]) + mm_scaler_Y.data_min_[7]"
   ],
   "metadata": {
    "collapsed": false
   }
  },
  {
   "cell_type": "markdown",
   "source": [
    "#### CALCULATING THE PINBALL LOSS SCORE"
   ],
   "metadata": {
    "collapsed": false
   }
  },
  {
   "cell_type": "code",
   "execution_count": 54,
   "outputs": [],
   "source": [
    "def pinball_score_zone(quantile_pred_arr, true_data_arr):\n",
    "    pinball_trans = np.array([np.mean([pinball(quantile_pred_arr[t, i], tau, true_data_arr[t]) for t in range(len(true_data_arr))]) for i, tau in enumerate(quantile_list)])\n",
    "    return pinball_trans.mean()"
   ],
   "metadata": {
    "collapsed": false
   }
  },
  {
   "cell_type": "code",
   "execution_count": 55,
   "outputs": [
    {
     "name": "stdout",
     "output_type": "stream",
     "text": [
      "Zone 1 - Mean Pinball Loss:  29.446602\n"
     ]
    }
   ],
   "source": [
    "pinball_loss_mean_1 = pinball_score_zone(quantile_pred_1_inv, yArr_1_inv)\n",
    "print(\"Zone 1 - Mean Pinball Loss: \", pinball_loss_mean_1)"
   ],
   "metadata": {
    "collapsed": false
   }
  },
  {
   "cell_type": "code",
   "execution_count": 56,
   "outputs": [
    {
     "name": "stdout",
     "output_type": "stream",
     "text": [
      "Zone 2 - Mean Pinball Loss:  41.21389\n"
     ]
    }
   ],
   "source": [
    "pinball_loss_mean_2 = pinball_score_zone(quantile_pred_2_inv, yArr_2_inv)\n",
    "print(\"Zone 2 - Mean Pinball Loss: \", pinball_loss_mean_2)"
   ],
   "metadata": {
    "collapsed": false
   }
  },
  {
   "cell_type": "code",
   "execution_count": 57,
   "outputs": [
    {
     "name": "stdout",
     "output_type": "stream",
     "text": [
      "Zone 3 - Mean Pinball Loss:  18.076977\n"
     ]
    }
   ],
   "source": [
    "pinball_loss_mean_3 = pinball_score_zone(quantile_pred_3_inv, yArr_3_inv)\n",
    "print(\"Zone 3 - Mean Pinball Loss: \", pinball_loss_mean_3)"
   ],
   "metadata": {
    "collapsed": false
   }
  },
  {
   "cell_type": "code",
   "execution_count": 58,
   "outputs": [
    {
     "name": "stdout",
     "output_type": "stream",
     "text": [
      "Zone 4 - Mean Pinball Loss:  26.767542\n"
     ]
    }
   ],
   "source": [
    "pinball_loss_mean_4 = pinball_score_zone(quantile_pred_4_inv, yArr_4_inv)\n",
    "print(\"Zone 4 - Mean Pinball Loss: \", pinball_loss_mean_4)"
   ],
   "metadata": {
    "collapsed": false
   }
  },
  {
   "cell_type": "code",
   "execution_count": 59,
   "outputs": [
    {
     "name": "stdout",
     "output_type": "stream",
     "text": [
      "Zone 5 - Mean Pinball Loss:  29.915123\n"
     ]
    }
   ],
   "source": [
    "pinball_loss_mean_5 = pinball_score_zone(quantile_pred_5_inv, yArr_5_inv)\n",
    "print(\"Zone 5 - Mean Pinball Loss: \", pinball_loss_mean_5)"
   ],
   "metadata": {
    "collapsed": false
   }
  },
  {
   "cell_type": "code",
   "execution_count": 60,
   "outputs": [
    {
     "name": "stdout",
     "output_type": "stream",
     "text": [
      "Zone 6 - Mean Pinball Loss:  70.747475\n"
     ]
    }
   ],
   "source": [
    "pinball_loss_mean_6 = pinball_score_zone(quantile_pred_6_inv, yArr_6_inv)\n",
    "print(\"Zone 6 - Mean Pinball Loss: \", pinball_loss_mean_6)"
   ],
   "metadata": {
    "collapsed": false
   }
  },
  {
   "cell_type": "code",
   "execution_count": 61,
   "outputs": [
    {
     "name": "stdout",
     "output_type": "stream",
     "text": [
      "Zone 7 - Mean Pinball Loss:  9.981432\n"
     ]
    }
   ],
   "source": [
    "pinball_loss_mean_7 = pinball_score_zone(quantile_pred_7_inv, yArr_7_inv)\n",
    "print(\"Zone 7 - Mean Pinball Loss: \", pinball_loss_mean_7)"
   ],
   "metadata": {
    "collapsed": false
   }
  },
  {
   "cell_type": "code",
   "execution_count": 62,
   "outputs": [
    {
     "name": "stdout",
     "output_type": "stream",
     "text": [
      "Zone 8 - Mean Pinball Loss:  138.05365\n"
     ]
    }
   ],
   "source": [
    "pinball_loss_mean_8 = pinball_score_zone(quantile_pred_8_inv, yArr_8_inv)\n",
    "print(\"Zone 8 - Mean Pinball Loss: \", pinball_loss_mean_8)"
   ],
   "metadata": {
    "collapsed": false
   }
  },
  {
   "cell_type": "code",
   "execution_count": 63,
   "outputs": [
    {
     "name": "stdout",
     "output_type": "stream",
     "text": [
      "Saving the best trained models.\n",
      "Saved !\n"
     ]
    }
   ],
   "source": [
    "print(\"Saving the best trained models.\")\n",
    "\n",
    "# Saving the models\n",
    "torch.save(best_vae_transformer_1, f\"vae_transformer_models/L4_vae_transformer_1.pth\")\n",
    "torch.save(best_vae_transformer_2, f\"vae_transformer_models/L4_vae_transformer_2.pth\")\n",
    "torch.save(best_vae_transformer_3, f\"vae_transformer_models/L4_vae_transformer_3.pth\")\n",
    "torch.save(best_vae_transformer_4, f\"vae_transformer_models/L4_vae_transformer_4.pth\")\n",
    "torch.save(best_vae_transformer_5, f\"vae_transformer_models/L4_vae_transformer_5.pth\")\n",
    "torch.save(best_vae_transformer_6, f\"vae_transformer_models/L4_vae_transformer_6.pth\")\n",
    "torch.save(best_vae_transformer_7, f\"vae_transformer_models/L4_vae_transformer_7.pth\")\n",
    "torch.save(best_vae_transformer_8, f\"vae_transformer_models/L4_vae_transformer_8.pth\")\n",
    "\n",
    "print(\"Saved !\")"
   ],
   "metadata": {
    "collapsed": false
   }
  },
  {
   "cell_type": "code",
   "execution_count": 64,
   "outputs": [
    {
     "name": "stdout",
     "output_type": "stream",
     "text": [
      "Results saved !\n"
     ]
    }
   ],
   "source": [
    "resultsDf = pd.DataFrame()\n",
    "resultsDf[\"zone\"] = [i.removesuffix('.csv') for i in fileList]\n",
    "resultsDf[\"pinball_loss\"] = [\n",
    "    pinball_loss_mean_1, pinball_loss_mean_2, pinball_loss_mean_3,\n",
    "    pinball_loss_mean_4, pinball_loss_mean_5, pinball_loss_mean_6,\n",
    "    pinball_loss_mean_7, pinball_loss_mean_8\n",
    "]\n",
    "\n",
    "resultsDf.to_csv(os.path.join(\"results\", dataset + \".csv\"), index=False)\n",
    "print(\"Results saved !\")"
   ],
   "metadata": {
    "collapsed": false
   }
  },
  {
   "cell_type": "code",
   "execution_count": 65,
   "outputs": [
    {
     "data": {
      "text/plain": "{'status': 'ok', 'restart': True}"
     },
     "execution_count": 65,
     "metadata": {},
     "output_type": "execute_result"
    }
   ],
   "source": [
    "import IPython\n",
    "app = IPython.Application.instance()\n",
    "app.kernel.do_shutdown(True)"
   ],
   "metadata": {
    "collapsed": false
   }
  }
 ],
 "metadata": {
  "kernelspec": {
   "display_name": "Python 3",
   "language": "python",
   "name": "python3"
  },
  "language_info": {
   "codemirror_mode": {
    "name": "ipython",
    "version": 2
   },
   "file_extension": ".py",
   "mimetype": "text/x-python",
   "name": "python",
   "nbconvert_exporter": "python",
   "pygments_lexer": "ipython2",
   "version": "2.7.6"
  }
 },
 "nbformat": 4,
 "nbformat_minor": 0
}
