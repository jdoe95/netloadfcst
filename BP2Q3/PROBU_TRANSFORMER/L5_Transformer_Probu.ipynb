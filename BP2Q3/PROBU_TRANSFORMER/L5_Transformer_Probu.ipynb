{
 "cells": [
  {
   "cell_type": "code",
   "execution_count": 1,
   "outputs": [
    {
     "name": "stdout",
     "output_type": "stream",
     "text": [
      "Using device cuda:0\n"
     ]
    }
   ],
   "source": [
    "# Importing the required libraries\n",
    "from IPython.display import display\n",
    "import os\n",
    "import numpy as np\n",
    "import pandas as pd\n",
    "from matplotlib import pyplot as plt\n",
    "from tqdm import tqdm\n",
    "from sklearn.preprocessing import MinMaxScaler, OneHotEncoder\n",
    "import time\n",
    "import easydict\n",
    "import copy\n",
    "\n",
    "import torch\n",
    "import torch.nn as nn\n",
    "from torch.utils.tensorboard import SummaryWriter\n",
    "from torch.utils.data import DataLoader, Dataset\n",
    "import torch.optim as optim\n",
    "from tqdm import tqdm\n",
    "\n",
    "from time_transformer.transformer import Transformer\n",
    "\n",
    "# Training device check-up\n",
    "device = torch.device(\"cuda:0\" if torch.cuda.is_available() else \"cpu\")\n",
    "print(f\"Using device {device}\")\n",
    "\n",
    "writer = SummaryWriter()\n",
    "\n",
    "# Defining DOE custom mape formula\n",
    "def mape(y_true, y_pred):\n",
    "    y_true, y_pred = np.array(y_true), np.array(y_pred)\n",
    "    return np.mean(np.abs((y_true - y_pred) / max(y_true))) * 100"
   ],
   "metadata": {
    "collapsed": false
   }
  },
  {
   "cell_type": "markdown",
   "source": [
    "#### FETCHING AND PROCESSING CALENDER FEATURES"
   ],
   "metadata": {
    "collapsed": false
   }
  },
  {
   "cell_type": "code",
   "execution_count": 2,
   "outputs": [
    {
     "name": "stdout",
     "output_type": "stream",
     "text": [
      "['L5.csv']\n"
     ]
    }
   ],
   "source": [
    "# Specifying the path of file\n",
    "path= r\"C:\\Users\\sashah8\\DOE_Graph_Attention_Transformer\\DOE MODEL TRAINING\\Data Processing\\processed_data\"\n",
    "dataset = \"L5\"\n",
    "\n",
    "# Listing just the required files\n",
    "fileList = os.listdir(os.path.join(path, dataset))\n",
    "\n",
    "# Previewing the required file names\n",
    "print(fileList)"
   ],
   "metadata": {
    "collapsed": false
   }
  },
  {
   "cell_type": "code",
   "execution_count": 3,
   "outputs": [
    {
     "data": {
      "text/plain": "                   ept       kw   tmp\n0  2017-01-01 00:00:00  15984.0  48.0\n1  2017-01-01 01:00:00  15984.0  46.8",
      "text/html": "<div>\n<style scoped>\n    .dataframe tbody tr th:only-of-type {\n        vertical-align: middle;\n    }\n\n    .dataframe tbody tr th {\n        vertical-align: top;\n    }\n\n    .dataframe thead th {\n        text-align: right;\n    }\n</style>\n<table border=\"1\" class=\"dataframe\">\n  <thead>\n    <tr style=\"text-align: right;\">\n      <th></th>\n      <th>ept</th>\n      <th>kw</th>\n      <th>tmp</th>\n    </tr>\n  </thead>\n  <tbody>\n    <tr>\n      <th>0</th>\n      <td>2017-01-01 00:00:00</td>\n      <td>15984.0</td>\n      <td>48.0</td>\n    </tr>\n    <tr>\n      <th>1</th>\n      <td>2017-01-01 01:00:00</td>\n      <td>15984.0</td>\n      <td>46.8</td>\n    </tr>\n  </tbody>\n</table>\n</div>"
     },
     "metadata": {},
     "output_type": "display_data"
    }
   ],
   "source": [
    "# Just for previewing the column name\n",
    "display(pd.read_csv(os.path.join(path, dataset, fileList[0])).head(2))"
   ],
   "metadata": {
    "collapsed": false
   }
  },
  {
   "cell_type": "code",
   "execution_count": 4,
   "outputs": [
    {
     "name": "stdout",
     "output_type": "stream",
     "text": [
      "Sample dataframe: \n"
     ]
    },
    {
     "data": {
      "text/plain": "                  ept       kw   tmp\n0 2017-01-01 00:00:00  15984.0  48.0\n1 2017-01-01 01:00:00  15984.0  46.8",
      "text/html": "<div>\n<style scoped>\n    .dataframe tbody tr th:only-of-type {\n        vertical-align: middle;\n    }\n\n    .dataframe tbody tr th {\n        vertical-align: top;\n    }\n\n    .dataframe thead th {\n        text-align: right;\n    }\n</style>\n<table border=\"1\" class=\"dataframe\">\n  <thead>\n    <tr style=\"text-align: right;\">\n      <th></th>\n      <th>ept</th>\n      <th>kw</th>\n      <th>tmp</th>\n    </tr>\n  </thead>\n  <tbody>\n    <tr>\n      <th>0</th>\n      <td>2017-01-01 00:00:00</td>\n      <td>15984.0</td>\n      <td>48.0</td>\n    </tr>\n    <tr>\n      <th>1</th>\n      <td>2017-01-01 01:00:00</td>\n      <td>15984.0</td>\n      <td>46.8</td>\n    </tr>\n  </tbody>\n</table>\n</div>"
     },
     "metadata": {},
     "output_type": "display_data"
    }
   ],
   "source": [
    "# Just for previewing the column name\n",
    "data = pd.read_csv(os.path.join(path, dataset, fileList[0]), parse_dates=['ept'])\n",
    "print(\"Sample dataframe: \")\n",
    "display(data.head(2))"
   ],
   "metadata": {
    "collapsed": false
   }
  },
  {
   "cell_type": "code",
   "execution_count": 5,
   "outputs": [
    {
     "data": {
      "text/plain": "0   2017-01-01 00:00:00\n1   2017-01-01 01:00:00\nName: AA_ept, dtype: datetime64[ns]"
     },
     "execution_count": 5,
     "metadata": {},
     "output_type": "execute_result"
    }
   ],
   "source": [
    "# Fetching the date column only\n",
    "date_col = data.ept.copy()\n",
    "date_col.name = \"AA_ept\"\n",
    "date_col.head(2)"
   ],
   "metadata": {
    "collapsed": false
   }
  },
  {
   "cell_type": "code",
   "execution_count": 6,
   "outputs": [
    {
     "name": "stdout",
     "output_type": "stream",
     "text": [
      "Sample calendar features: \n"
     ]
    },
    {
     "data": {
      "text/plain": "   Month  Day  Hour  Weekday\n0      1    1     0        6\n1      1    1     1        6",
      "text/html": "<div>\n<style scoped>\n    .dataframe tbody tr th:only-of-type {\n        vertical-align: middle;\n    }\n\n    .dataframe tbody tr th {\n        vertical-align: top;\n    }\n\n    .dataframe thead th {\n        text-align: right;\n    }\n</style>\n<table border=\"1\" class=\"dataframe\">\n  <thead>\n    <tr style=\"text-align: right;\">\n      <th></th>\n      <th>Month</th>\n      <th>Day</th>\n      <th>Hour</th>\n      <th>Weekday</th>\n    </tr>\n  </thead>\n  <tbody>\n    <tr>\n      <th>0</th>\n      <td>1</td>\n      <td>1</td>\n      <td>0</td>\n      <td>6</td>\n    </tr>\n    <tr>\n      <th>1</th>\n      <td>1</td>\n      <td>1</td>\n      <td>1</td>\n      <td>6</td>\n    </tr>\n  </tbody>\n</table>\n</div>"
     },
     "metadata": {},
     "output_type": "display_data"
    },
    {
     "name": "stdout",
     "output_type": "stream",
     "text": [
      "Available unique categories: \n"
     ]
    },
    {
     "data": {
      "text/plain": "Month      12\nDay        31\nHour       24\nWeekday     7\ndtype: int64"
     },
     "metadata": {},
     "output_type": "display_data"
    },
    {
     "name": "stdout",
     "output_type": "stream",
     "text": [
      "Total number of observations:  43824\n"
     ]
    }
   ],
   "source": [
    "# Creating the calendar features\n",
    "date = pd.DataFrame()\n",
    "date['Month'] = date_col.dt.month\n",
    "date['Day'] = date_col.dt.day\n",
    "date['Hour'] = date_col.dt.hour\n",
    "date['Weekday'] = date_col.dt.weekday\n",
    "\n",
    "print(\"Sample calendar features: \")\n",
    "display(date.head(2))\n",
    "\n",
    "print(\"Available unique categories: \")\n",
    "display(date.nunique())\n",
    "\n",
    "print(\"Total number of observations: \", len(date))"
   ],
   "metadata": {
    "collapsed": false
   }
  },
  {
   "cell_type": "code",
   "execution_count": 7,
   "outputs": [
    {
     "data": {
      "text/plain": "array([[1., 0., 0., ..., 0., 0., 1.],\n       [1., 0., 0., ..., 0., 0., 1.],\n       [1., 0., 0., ..., 0., 0., 1.],\n       ...,\n       [0., 0., 0., ..., 1., 0., 0.],\n       [0., 0., 0., ..., 1., 0., 0.],\n       [0., 0., 0., ..., 1., 0., 0.]])"
     },
     "metadata": {},
     "output_type": "display_data"
    }
   ],
   "source": [
    "# One-hot encoding the categorical calendar features\n",
    "date_enc = OneHotEncoder(sparse_output=False)\n",
    "categorical_data = date_enc.fit_transform(date)\n",
    "display(categorical_data)"
   ],
   "metadata": {
    "collapsed": false
   }
  },
  {
   "cell_type": "code",
   "execution_count": 8,
   "outputs": [
    {
     "data": {
      "text/plain": "[12, 31, 24, 7]"
     },
     "execution_count": 8,
     "metadata": {},
     "output_type": "execute_result"
    }
   ],
   "source": [
    "category_count = [len(x_len) for x_len in date_enc.categories_]\n",
    "category_count"
   ],
   "metadata": {
    "collapsed": false
   }
  },
  {
   "cell_type": "markdown",
   "source": [
    "#### PROCESSING CONTINUOUS FEATURES FOR ALL AVAILABLE ZONES"
   ],
   "metadata": {
    "collapsed": false
   }
  },
  {
   "cell_type": "markdown",
   "source": [
    "PROCESSING LOAD DATA"
   ],
   "metadata": {
    "collapsed": false
   }
  },
  {
   "cell_type": "code",
   "execution_count": 9,
   "outputs": [
    {
     "data": {
      "text/plain": "       L5_LOAD\n43822  13122.0\n43823  12042.0",
      "text/html": "<div>\n<style scoped>\n    .dataframe tbody tr th:only-of-type {\n        vertical-align: middle;\n    }\n\n    .dataframe tbody tr th {\n        vertical-align: top;\n    }\n\n    .dataframe thead th {\n        text-align: right;\n    }\n</style>\n<table border=\"1\" class=\"dataframe\">\n  <thead>\n    <tr style=\"text-align: right;\">\n      <th></th>\n      <th>L5_LOAD</th>\n    </tr>\n  </thead>\n  <tbody>\n    <tr>\n      <th>43822</th>\n      <td>13122.0</td>\n    </tr>\n    <tr>\n      <th>43823</th>\n      <td>12042.0</td>\n    </tr>\n  </tbody>\n</table>\n</div>"
     },
     "metadata": {},
     "output_type": "display_data"
    }
   ],
   "source": [
    "# Fetching and concatenating the data\n",
    "load_ds = pd.concat([pd.read_csv(os.path.join(path, dataset, fileName),\n",
    "                                 usecols= [\"kw\"]) for fileName in fileList], axis= 1)\n",
    "load_ds.columns = [i.removesuffix('.csv') for i in fileList]\n",
    "load_ds = load_ds.add_suffix(\"_LOAD\")\n",
    "display(load_ds.tail(2))"
   ],
   "metadata": {
    "collapsed": false
   }
  },
  {
   "cell_type": "code",
   "execution_count": 10,
   "outputs": [
    {
     "data": {
      "text/plain": "       L5_LOAD_LAG1\n43822       17712.0\n43823       16740.0",
      "text/html": "<div>\n<style scoped>\n    .dataframe tbody tr th:only-of-type {\n        vertical-align: middle;\n    }\n\n    .dataframe tbody tr th {\n        vertical-align: top;\n    }\n\n    .dataframe thead th {\n        text-align: right;\n    }\n</style>\n<table border=\"1\" class=\"dataframe\">\n  <thead>\n    <tr style=\"text-align: right;\">\n      <th></th>\n      <th>L5_LOAD_LAG1</th>\n    </tr>\n  </thead>\n  <tbody>\n    <tr>\n      <th>43822</th>\n      <td>17712.0</td>\n    </tr>\n    <tr>\n      <th>43823</th>\n      <td>16740.0</td>\n    </tr>\n  </tbody>\n</table>\n</div>"
     },
     "metadata": {},
     "output_type": "display_data"
    }
   ],
   "source": [
    "# Creating 1-day lag loads\n",
    "load_lag_1 = load_ds.shift(24*2).add_suffix(\"_LAG1\")\n",
    "display(load_lag_1.tail(2))"
   ],
   "metadata": {
    "collapsed": false
   }
  },
  {
   "cell_type": "code",
   "execution_count": 11,
   "outputs": [
    {
     "data": {
      "text/plain": "       L5_LOAD_LAG7\n43822       14742.0\n43823       14202.0",
      "text/html": "<div>\n<style scoped>\n    .dataframe tbody tr th:only-of-type {\n        vertical-align: middle;\n    }\n\n    .dataframe tbody tr th {\n        vertical-align: top;\n    }\n\n    .dataframe thead th {\n        text-align: right;\n    }\n</style>\n<table border=\"1\" class=\"dataframe\">\n  <thead>\n    <tr style=\"text-align: right;\">\n      <th></th>\n      <th>L5_LOAD_LAG7</th>\n    </tr>\n  </thead>\n  <tbody>\n    <tr>\n      <th>43822</th>\n      <td>14742.0</td>\n    </tr>\n    <tr>\n      <th>43823</th>\n      <td>14202.0</td>\n    </tr>\n  </tbody>\n</table>\n</div>"
     },
     "metadata": {},
     "output_type": "display_data"
    }
   ],
   "source": [
    "# Creating 7-day lag loads\n",
    "load_lag_7 = load_ds.shift(24*7).add_suffix(\"_LAG7\")\n",
    "display(load_lag_7.tail(2))"
   ],
   "metadata": {
    "collapsed": false
   }
  },
  {
   "cell_type": "code",
   "execution_count": 12,
   "outputs": [
    {
     "name": "stdout",
     "output_type": "stream",
     "text": [
      "Drop data before:  168\n"
     ]
    }
   ],
   "source": [
    "# Drop index for equalizing data\n",
    "drop_idx = load_lag_7.dropna(axis= 0).index[0]\n",
    "print(\"Drop data before: \", drop_idx)"
   ],
   "metadata": {
    "collapsed": false
   }
  },
  {
   "cell_type": "markdown",
   "source": [
    "PROCESSING TEMPERATURE DATA"
   ],
   "metadata": {
    "collapsed": false
   }
  },
  {
   "cell_type": "code",
   "execution_count": 13,
   "outputs": [
    {
     "data": {
      "text/plain": "       L5_A_TEMP\n43822       63.5\n43823       63.0",
      "text/html": "<div>\n<style scoped>\n    .dataframe tbody tr th:only-of-type {\n        vertical-align: middle;\n    }\n\n    .dataframe tbody tr th {\n        vertical-align: top;\n    }\n\n    .dataframe thead th {\n        text-align: right;\n    }\n</style>\n<table border=\"1\" class=\"dataframe\">\n  <thead>\n    <tr style=\"text-align: right;\">\n      <th></th>\n      <th>L5_A_TEMP</th>\n    </tr>\n  </thead>\n  <tbody>\n    <tr>\n      <th>43822</th>\n      <td>63.5</td>\n    </tr>\n    <tr>\n      <th>43823</th>\n      <td>63.0</td>\n    </tr>\n  </tbody>\n</table>\n</div>"
     },
     "metadata": {},
     "output_type": "display_data"
    }
   ],
   "source": [
    "# Fetching and concatenating the data\n",
    "temp_ds = pd.concat([pd.read_csv(os.path.join(path, dataset, fileName),\n",
    "                                 usecols= [\"tmp\"]) for fileName in fileList], axis= 1)\n",
    "temp_ds.columns = [i.removesuffix('.csv') for i in fileList]\n",
    "temp_ds = temp_ds.add_suffix(\"_A_TEMP\")\n",
    "display(temp_ds.tail(2))"
   ],
   "metadata": {
    "collapsed": false
   }
  },
  {
   "cell_type": "markdown",
   "source": [
    "### PREPARING X AND Y PART"
   ],
   "metadata": {
    "collapsed": false
   }
  },
  {
   "cell_type": "code",
   "execution_count": 14,
   "outputs": [
    {
     "name": "stdout",
     "output_type": "stream",
     "text": [
      "The train-test split index is:  34895\n",
      "The last date of train dataset: \n"
     ]
    },
    {
     "data": {
      "text/plain": "                   AA_ept  L5_A_TEMP  L5_LOAD_LAG1  L5_LOAD_LAG7\n34894 2020-12-31 22:00:00       56.3       24084.0       13446.0\n34895 2020-12-31 23:00:00       57.4       22950.0       12366.0",
      "text/html": "<div>\n<style scoped>\n    .dataframe tbody tr th:only-of-type {\n        vertical-align: middle;\n    }\n\n    .dataframe tbody tr th {\n        vertical-align: top;\n    }\n\n    .dataframe thead th {\n        text-align: right;\n    }\n</style>\n<table border=\"1\" class=\"dataframe\">\n  <thead>\n    <tr style=\"text-align: right;\">\n      <th></th>\n      <th>AA_ept</th>\n      <th>L5_A_TEMP</th>\n      <th>L5_LOAD_LAG1</th>\n      <th>L5_LOAD_LAG7</th>\n    </tr>\n  </thead>\n  <tbody>\n    <tr>\n      <th>34894</th>\n      <td>2020-12-31 22:00:00</td>\n      <td>56.3</td>\n      <td>24084.0</td>\n      <td>13446.0</td>\n    </tr>\n    <tr>\n      <th>34895</th>\n      <td>2020-12-31 23:00:00</td>\n      <td>57.4</td>\n      <td>22950.0</td>\n      <td>12366.0</td>\n    </tr>\n  </tbody>\n</table>\n</div>"
     },
     "metadata": {},
     "output_type": "display_data"
    },
    {
     "name": "stdout",
     "output_type": "stream",
     "text": [
      "The first date of test dataset: \n"
     ]
    },
    {
     "data": {
      "text/plain": "                   AA_ept  L5_A_TEMP  L5_LOAD_LAG1  L5_LOAD_LAG7\n34896 2021-01-01 00:00:00       56.7       23004.0       11988.0\n34897 2021-01-01 01:00:00       54.1       23382.0       11826.0",
      "text/html": "<div>\n<style scoped>\n    .dataframe tbody tr th:only-of-type {\n        vertical-align: middle;\n    }\n\n    .dataframe tbody tr th {\n        vertical-align: top;\n    }\n\n    .dataframe thead th {\n        text-align: right;\n    }\n</style>\n<table border=\"1\" class=\"dataframe\">\n  <thead>\n    <tr style=\"text-align: right;\">\n      <th></th>\n      <th>AA_ept</th>\n      <th>L5_A_TEMP</th>\n      <th>L5_LOAD_LAG1</th>\n      <th>L5_LOAD_LAG7</th>\n    </tr>\n  </thead>\n  <tbody>\n    <tr>\n      <th>34896</th>\n      <td>2021-01-01 00:00:00</td>\n      <td>56.7</td>\n      <td>23004.0</td>\n      <td>11988.0</td>\n    </tr>\n    <tr>\n      <th>34897</th>\n      <td>2021-01-01 01:00:00</td>\n      <td>54.1</td>\n      <td>23382.0</td>\n      <td>11826.0</td>\n    </tr>\n  </tbody>\n</table>\n</div>"
     },
     "metadata": {},
     "output_type": "display_data"
    },
    {
     "name": "stdout",
     "output_type": "stream",
     "text": [
      "\n",
      "\n",
      "LENGTH OF DATASET:  43656\n"
     ]
    },
    {
     "data": {
      "text/plain": "       L5_A_TEMP  L5_LOAD_LAG1  L5_LOAD_LAG7\n43654       63.5       17712.0       14742.0\n43655       63.0       16740.0       14202.0",
      "text/html": "<div>\n<style scoped>\n    .dataframe tbody tr th:only-of-type {\n        vertical-align: middle;\n    }\n\n    .dataframe tbody tr th {\n        vertical-align: top;\n    }\n\n    .dataframe thead th {\n        text-align: right;\n    }\n</style>\n<table border=\"1\" class=\"dataframe\">\n  <thead>\n    <tr style=\"text-align: right;\">\n      <th></th>\n      <th>L5_A_TEMP</th>\n      <th>L5_LOAD_LAG1</th>\n      <th>L5_LOAD_LAG7</th>\n    </tr>\n  </thead>\n  <tbody>\n    <tr>\n      <th>43654</th>\n      <td>63.5</td>\n      <td>17712.0</td>\n      <td>14742.0</td>\n    </tr>\n    <tr>\n      <th>43655</th>\n      <td>63.0</td>\n      <td>16740.0</td>\n      <td>14202.0</td>\n    </tr>\n  </tbody>\n</table>\n</div>"
     },
     "metadata": {},
     "output_type": "display_data"
    }
   ],
   "source": [
    "# Concatenating the engineered features\n",
    "X_continuous = pd.concat([date_col, load_lag_1, load_lag_7, temp_ds], axis=1)\n",
    "X_continuous = X_continuous.sort_index(axis=1)\n",
    "X_continuous = X_continuous.iloc[drop_idx:].reset_index(drop=True)\n",
    "\n",
    "# Fetching the train index from the processed dataframe\n",
    "train_end_idx = X_continuous[X_continuous.AA_ept.dt.year.between(2017, 2020)].index[-1]\n",
    "print(\"The train-test split index is: \", train_end_idx)\n",
    "print(\"The last date of train dataset: \")\n",
    "display(X_continuous.loc[:train_end_idx].tail(2))\n",
    "print(\"The first date of test dataset: \")\n",
    "display(X_continuous.loc[train_end_idx + 1:].head(2))\n",
    "print('\\n')\n",
    "\n",
    "# Dropping the datetime column after fetching the train-test split index\n",
    "X_continuous = X_continuous.drop(columns=['AA_ept'])\n",
    "print(\"LENGTH OF DATASET: \", len(X_continuous))\n",
    "display(X_continuous.tail(2))"
   ],
   "metadata": {
    "collapsed": false
   }
  },
  {
   "cell_type": "code",
   "execution_count": 15,
   "outputs": [
    {
     "name": "stdout",
     "output_type": "stream",
     "text": [
      "LENGTH OF DATASET:  43656\n"
     ]
    },
    {
     "data": {
      "text/plain": "        0    1    2    3    4    5    6    7    8    9   ...   64   65   66  \\\n43654  0.0  0.0  0.0  0.0  0.0  0.0  0.0  0.0  0.0  0.0  ...  0.0  1.0  0.0   \n43655  0.0  0.0  0.0  0.0  0.0  0.0  0.0  0.0  0.0  0.0  ...  0.0  0.0  1.0   \n\n        67   68   69   70   71   72   73  \n43654  0.0  0.0  0.0  0.0  1.0  0.0  0.0  \n43655  0.0  0.0  0.0  0.0  1.0  0.0  0.0  \n\n[2 rows x 74 columns]",
      "text/html": "<div>\n<style scoped>\n    .dataframe tbody tr th:only-of-type {\n        vertical-align: middle;\n    }\n\n    .dataframe tbody tr th {\n        vertical-align: top;\n    }\n\n    .dataframe thead th {\n        text-align: right;\n    }\n</style>\n<table border=\"1\" class=\"dataframe\">\n  <thead>\n    <tr style=\"text-align: right;\">\n      <th></th>\n      <th>0</th>\n      <th>1</th>\n      <th>2</th>\n      <th>3</th>\n      <th>4</th>\n      <th>5</th>\n      <th>6</th>\n      <th>7</th>\n      <th>8</th>\n      <th>9</th>\n      <th>...</th>\n      <th>64</th>\n      <th>65</th>\n      <th>66</th>\n      <th>67</th>\n      <th>68</th>\n      <th>69</th>\n      <th>70</th>\n      <th>71</th>\n      <th>72</th>\n      <th>73</th>\n    </tr>\n  </thead>\n  <tbody>\n    <tr>\n      <th>43654</th>\n      <td>0.0</td>\n      <td>0.0</td>\n      <td>0.0</td>\n      <td>0.0</td>\n      <td>0.0</td>\n      <td>0.0</td>\n      <td>0.0</td>\n      <td>0.0</td>\n      <td>0.0</td>\n      <td>0.0</td>\n      <td>...</td>\n      <td>0.0</td>\n      <td>1.0</td>\n      <td>0.0</td>\n      <td>0.0</td>\n      <td>0.0</td>\n      <td>0.0</td>\n      <td>0.0</td>\n      <td>1.0</td>\n      <td>0.0</td>\n      <td>0.0</td>\n    </tr>\n    <tr>\n      <th>43655</th>\n      <td>0.0</td>\n      <td>0.0</td>\n      <td>0.0</td>\n      <td>0.0</td>\n      <td>0.0</td>\n      <td>0.0</td>\n      <td>0.0</td>\n      <td>0.0</td>\n      <td>0.0</td>\n      <td>0.0</td>\n      <td>...</td>\n      <td>0.0</td>\n      <td>0.0</td>\n      <td>1.0</td>\n      <td>0.0</td>\n      <td>0.0</td>\n      <td>0.0</td>\n      <td>0.0</td>\n      <td>1.0</td>\n      <td>0.0</td>\n      <td>0.0</td>\n    </tr>\n  </tbody>\n</table>\n<p>2 rows × 74 columns</p>\n</div>"
     },
     "metadata": {},
     "output_type": "display_data"
    }
   ],
   "source": [
    "X_categorical = pd.DataFrame(categorical_data)\n",
    "X_categorical = X_categorical.iloc[drop_idx:].reset_index(drop=True)\n",
    "print(\"LENGTH OF DATASET: \", len(X_categorical))\n",
    "display(X_categorical.tail(2))"
   ],
   "metadata": {
    "collapsed": false
   }
  },
  {
   "cell_type": "code",
   "execution_count": 16,
   "outputs": [
    {
     "name": "stdout",
     "output_type": "stream",
     "text": [
      "LENGTH OF DATASET:  43656\n"
     ]
    },
    {
     "data": {
      "text/plain": "       L5_LOAD\n43654  13122.0\n43655  12042.0",
      "text/html": "<div>\n<style scoped>\n    .dataframe tbody tr th:only-of-type {\n        vertical-align: middle;\n    }\n\n    .dataframe tbody tr th {\n        vertical-align: top;\n    }\n\n    .dataframe thead th {\n        text-align: right;\n    }\n</style>\n<table border=\"1\" class=\"dataframe\">\n  <thead>\n    <tr style=\"text-align: right;\">\n      <th></th>\n      <th>L5_LOAD</th>\n    </tr>\n  </thead>\n  <tbody>\n    <tr>\n      <th>43654</th>\n      <td>13122.0</td>\n    </tr>\n    <tr>\n      <th>43655</th>\n      <td>12042.0</td>\n    </tr>\n  </tbody>\n</table>\n</div>"
     },
     "metadata": {},
     "output_type": "display_data"
    }
   ],
   "source": [
    "Y = load_ds.copy()\n",
    "Y = Y.sort_index(axis=1)\n",
    "Y = Y.iloc[drop_idx:].reset_index(drop=True)\n",
    "print(\"LENGTH OF DATASET: \", len(Y))\n",
    "display(Y.tail(2))"
   ],
   "metadata": {
    "collapsed": false
   }
  },
  {
   "cell_type": "code",
   "execution_count": 17,
   "outputs": [
    {
     "name": "stdout",
     "output_type": "stream",
     "text": [
      "Train samples:  34896\n",
      "Test samples:  8760\n"
     ]
    }
   ],
   "source": [
    "### SPLITTING THE DATA INTO TRAINING AND TESTING\n",
    "print(\"Train samples: \", len(X_continuous.loc[:train_end_idx]))\n",
    "print(\"Test samples: \", len(X_continuous.loc[train_end_idx + 1:]))"
   ],
   "metadata": {
    "collapsed": false
   }
  },
  {
   "cell_type": "code",
   "execution_count": 18,
   "outputs": [
    {
     "name": "stdout",
     "output_type": "stream",
     "text": [
      "Train split of continuous data: \n"
     ]
    },
    {
     "data": {
      "text/plain": "       L5_A_TEMP  L5_LOAD_LAG1  L5_LOAD_LAG7\n34894       56.3       24084.0       13446.0\n34895       57.4       22950.0       12366.0",
      "text/html": "<div>\n<style scoped>\n    .dataframe tbody tr th:only-of-type {\n        vertical-align: middle;\n    }\n\n    .dataframe tbody tr th {\n        vertical-align: top;\n    }\n\n    .dataframe thead th {\n        text-align: right;\n    }\n</style>\n<table border=\"1\" class=\"dataframe\">\n  <thead>\n    <tr style=\"text-align: right;\">\n      <th></th>\n      <th>L5_A_TEMP</th>\n      <th>L5_LOAD_LAG1</th>\n      <th>L5_LOAD_LAG7</th>\n    </tr>\n  </thead>\n  <tbody>\n    <tr>\n      <th>34894</th>\n      <td>56.3</td>\n      <td>24084.0</td>\n      <td>13446.0</td>\n    </tr>\n    <tr>\n      <th>34895</th>\n      <td>57.4</td>\n      <td>22950.0</td>\n      <td>12366.0</td>\n    </tr>\n  </tbody>\n</table>\n</div>"
     },
     "metadata": {},
     "output_type": "display_data"
    },
    {
     "name": "stdout",
     "output_type": "stream",
     "text": [
      "Train split of categorical data: \n"
     ]
    },
    {
     "data": {
      "text/plain": "        0    1    2    3    4    5    6    7    8    9   ...   64   65   66  \\\n34894  0.0  0.0  0.0  0.0  0.0  0.0  0.0  0.0  0.0  0.0  ...  0.0  1.0  0.0   \n34895  0.0  0.0  0.0  0.0  0.0  0.0  0.0  0.0  0.0  0.0  ...  0.0  0.0  1.0   \n\n        67   68   69   70   71   72   73  \n34894  0.0  0.0  0.0  1.0  0.0  0.0  0.0  \n34895  0.0  0.0  0.0  1.0  0.0  0.0  0.0  \n\n[2 rows x 74 columns]",
      "text/html": "<div>\n<style scoped>\n    .dataframe tbody tr th:only-of-type {\n        vertical-align: middle;\n    }\n\n    .dataframe tbody tr th {\n        vertical-align: top;\n    }\n\n    .dataframe thead th {\n        text-align: right;\n    }\n</style>\n<table border=\"1\" class=\"dataframe\">\n  <thead>\n    <tr style=\"text-align: right;\">\n      <th></th>\n      <th>0</th>\n      <th>1</th>\n      <th>2</th>\n      <th>3</th>\n      <th>4</th>\n      <th>5</th>\n      <th>6</th>\n      <th>7</th>\n      <th>8</th>\n      <th>9</th>\n      <th>...</th>\n      <th>64</th>\n      <th>65</th>\n      <th>66</th>\n      <th>67</th>\n      <th>68</th>\n      <th>69</th>\n      <th>70</th>\n      <th>71</th>\n      <th>72</th>\n      <th>73</th>\n    </tr>\n  </thead>\n  <tbody>\n    <tr>\n      <th>34894</th>\n      <td>0.0</td>\n      <td>0.0</td>\n      <td>0.0</td>\n      <td>0.0</td>\n      <td>0.0</td>\n      <td>0.0</td>\n      <td>0.0</td>\n      <td>0.0</td>\n      <td>0.0</td>\n      <td>0.0</td>\n      <td>...</td>\n      <td>0.0</td>\n      <td>1.0</td>\n      <td>0.0</td>\n      <td>0.0</td>\n      <td>0.0</td>\n      <td>0.0</td>\n      <td>1.0</td>\n      <td>0.0</td>\n      <td>0.0</td>\n      <td>0.0</td>\n    </tr>\n    <tr>\n      <th>34895</th>\n      <td>0.0</td>\n      <td>0.0</td>\n      <td>0.0</td>\n      <td>0.0</td>\n      <td>0.0</td>\n      <td>0.0</td>\n      <td>0.0</td>\n      <td>0.0</td>\n      <td>0.0</td>\n      <td>0.0</td>\n      <td>...</td>\n      <td>0.0</td>\n      <td>0.0</td>\n      <td>1.0</td>\n      <td>0.0</td>\n      <td>0.0</td>\n      <td>0.0</td>\n      <td>1.0</td>\n      <td>0.0</td>\n      <td>0.0</td>\n      <td>0.0</td>\n    </tr>\n  </tbody>\n</table>\n<p>2 rows × 74 columns</p>\n</div>"
     },
     "metadata": {},
     "output_type": "display_data"
    },
    {
     "name": "stdout",
     "output_type": "stream",
     "text": [
      "Train split of target data Y: \n"
     ]
    },
    {
     "data": {
      "text/plain": "       L5_LOAD\n34894  15174.0\n34895  14148.0",
      "text/html": "<div>\n<style scoped>\n    .dataframe tbody tr th:only-of-type {\n        vertical-align: middle;\n    }\n\n    .dataframe tbody tr th {\n        vertical-align: top;\n    }\n\n    .dataframe thead th {\n        text-align: right;\n    }\n</style>\n<table border=\"1\" class=\"dataframe\">\n  <thead>\n    <tr style=\"text-align: right;\">\n      <th></th>\n      <th>L5_LOAD</th>\n    </tr>\n  </thead>\n  <tbody>\n    <tr>\n      <th>34894</th>\n      <td>15174.0</td>\n    </tr>\n    <tr>\n      <th>34895</th>\n      <td>14148.0</td>\n    </tr>\n  </tbody>\n</table>\n</div>"
     },
     "metadata": {},
     "output_type": "display_data"
    }
   ],
   "source": [
    "# Splitting the continuous data into training and test split\n",
    "X_continuous_train,  X_continuous_test = X_continuous.loc[:train_end_idx], X_continuous.loc[train_end_idx+1:]\n",
    "print(\"Train split of continuous data: \")\n",
    "display(X_continuous_train.tail(2))\n",
    "\n",
    "# Splitting the categorical data into training and test split\n",
    "X_categorical_train, X_categorical_test = X_categorical.loc[:train_end_idx], X_categorical.loc[train_end_idx+1:]\n",
    "print(\"Train split of categorical data: \")\n",
    "display(X_categorical_train.tail(2))\n",
    "\n",
    "# Splitting the target into training and test split\n",
    "Y_train, Y_test = Y.loc[:train_end_idx],  Y.loc[train_end_idx+1:]\n",
    "print(\"Train split of target data Y: \")\n",
    "display(Y_train.tail(2))"
   ],
   "metadata": {
    "collapsed": false
   }
  },
  {
   "cell_type": "code",
   "execution_count": 19,
   "outputs": [
    {
     "name": "stdout",
     "output_type": "stream",
     "text": [
      "Shape for continuous variable: \n",
      "(34896, 3) (8760, 3) \n",
      "\n",
      "Shape for categorical variable: \n",
      "(34896, 74) (8760, 74) \n",
      "\n",
      "Shape for target variable: \n",
      "(34896, 1) (8760, 1) \n",
      "\n",
      "Does it cover entire training set:  True\n"
     ]
    }
   ],
   "source": [
    "print(\"Shape for continuous variable: \")\n",
    "print(X_continuous_train.shape, X_continuous_test.shape, \"\\n\")\n",
    "print(\"Shape for categorical variable: \")\n",
    "print(X_categorical_train.shape, X_categorical_test.shape, \"\\n\")\n",
    "print(\"Shape for target variable: \")\n",
    "print(Y_train.shape, Y_test.shape, \"\\n\")\n",
    "print(\"Does it cover entire training set: \", (X_continuous_train.shape[0] +\n",
    "                                              X_continuous_test.shape[0]) == len(X_continuous))"
   ],
   "metadata": {
    "collapsed": false
   }
  },
  {
   "cell_type": "markdown",
   "source": [
    "### SCALING THE DATA"
   ],
   "metadata": {
    "collapsed": false
   }
  },
  {
   "cell_type": "code",
   "execution_count": 20,
   "outputs": [],
   "source": [
    "# Scaling values using min-max scaler\n",
    "mm_scaler_X = MinMaxScaler()\n",
    "mm_scaler_Y = MinMaxScaler()"
   ],
   "metadata": {
    "collapsed": false
   }
  },
  {
   "cell_type": "code",
   "execution_count": 21,
   "outputs": [
    {
     "name": "stdout",
     "output_type": "stream",
     "text": [
      "Scaled continuous X train: \n"
     ]
    },
    {
     "data": {
      "text/plain": "array([[0.18609407, 0.50535988, 0.39050536],\n       [0.17484663, 0.51607963, 0.39050536],\n       [0.16768916, 0.52986217, 0.38591118],\n       ...,\n       [0.57055215, 0.63552833, 0.34915773],\n       [0.56543967, 0.6202144 , 0.31852986],\n       [0.57668712, 0.58805513, 0.28790199]])"
     },
     "metadata": {},
     "output_type": "display_data"
    }
   ],
   "source": [
    "# Scaling continuous X train part\n",
    "X_scaled_continuous_train = mm_scaler_X.fit_transform(X_continuous_train)\n",
    "\n",
    "# Using the fit_scaler to scale the X test part\n",
    "X_scaled_continuous_test = mm_scaler_X.transform(X_continuous_test)\n",
    "\n",
    "print(\"Scaled continuous X train: \")\n",
    "display(X_scaled_continuous_train)"
   ],
   "metadata": {
    "collapsed": false
   }
  },
  {
   "cell_type": "code",
   "execution_count": 22,
   "outputs": [
    {
     "name": "stdout",
     "output_type": "stream",
     "text": [
      "Scaled continuous Y train: \n"
     ]
    },
    {
     "data": {
      "text/plain": "array([[0.69372129],\n       [0.6906585 ],\n       [0.69218989],\n       ...,\n       [0.39203675],\n       [0.36753446],\n       [0.33843798]])"
     },
     "metadata": {},
     "output_type": "display_data"
    }
   ],
   "source": [
    "# Scaling target Y train part\n",
    "Y_scaled_train = mm_scaler_Y.fit_transform(Y_train)\n",
    "\n",
    "# Using the fit_scaler to scale the Y test part\n",
    "Y_scaled_test = mm_scaler_Y.transform(Y_test)\n",
    "\n",
    "print(\"Scaled continuous Y train: \")\n",
    "display(Y_scaled_train)"
   ],
   "metadata": {
    "collapsed": false
   }
  },
  {
   "cell_type": "code",
   "execution_count": 23,
   "outputs": [],
   "source": [
    "# Converting a multivariate dataset into slices of samples\n",
    "def split_data(calendar_data, x_data, y_data, n_steps, n_overlap):\n",
    "    calendar, x, y = list(), list(), list()\n",
    "    for i in range(0, len(x_data), n_steps-n_overlap):\n",
    "\n",
    "        # Finding the split index\n",
    "        end_idx = i + n_steps\n",
    "\n",
    "        # Break the loop at end of dataset\n",
    "        if end_idx > len(x_data):\n",
    "            break\n",
    "\n",
    "        # Appending the custom created samples with desired time-steps and features\n",
    "        sample_calendar, sample_x, sample_y = calendar_data[i:end_idx, :], \\\n",
    "                                              x_data[i:end_idx, :], \\\n",
    "                                              y_data[i:end_idx, :]\n",
    "        calendar.append(sample_calendar)\n",
    "        x.append(sample_x)\n",
    "        y.append(sample_y)\n",
    "\n",
    "    return np.array(calendar), np.array(x), np.array(y)"
   ],
   "metadata": {
    "collapsed": false
   }
  },
  {
   "cell_type": "code",
   "execution_count": 24,
   "outputs": [
    {
     "name": "stdout",
     "output_type": "stream",
     "text": [
      "Shape of the created samples for training:  (34873, 24, 1)\n",
      "Shape of the created samples for testing:  (365, 24, 1)\n"
     ]
    }
   ],
   "source": [
    "num_steps = 24\n",
    "train_num_overlap = 23\n",
    "test_num_overlap = 0\n",
    "\n",
    "processed_data_train = split_data(calendar_data=X_categorical_train.to_numpy(),\n",
    "                            x_data=X_scaled_continuous_train,\n",
    "                            y_data=Y_scaled_train,\n",
    "                            n_steps=num_steps, n_overlap=train_num_overlap)\n",
    "\n",
    "processed_data_test = split_data(calendar_data=X_categorical_test.to_numpy(),\n",
    "                            x_data=X_scaled_continuous_test,\n",
    "                            y_data=Y_scaled_test,\n",
    "                            n_steps=num_steps, n_overlap=test_num_overlap)\n",
    "\n",
    "print(\"Shape of the created samples for training: \", processed_data_train[2].shape)\n",
    "print(\"Shape of the created samples for testing: \", processed_data_test[2].shape)"
   ],
   "metadata": {
    "collapsed": false
   }
  },
  {
   "cell_type": "code",
   "execution_count": 25,
   "outputs": [
    {
     "name": "stdout",
     "output_type": "stream",
     "text": [
      "First sample: \n",
      "\n"
     ]
    },
    {
     "data": {
      "text/plain": "array([[0.18609407, 0.50535988, 0.39050536],\n       [0.17484663, 0.51607963, 0.39050536],\n       [0.16768916, 0.52986217, 0.38591118],\n       [0.16257669, 0.52067381, 0.37212864],\n       [0.15644172, 0.54517611, 0.36906585],\n       [0.14723926, 0.58346095, 0.37212864],\n       [0.14621677, 0.63705972, 0.38284839],\n       [0.14621677, 0.66003063, 0.39203675],\n       [0.14621677, 0.63859112, 0.4042879 ],\n       [0.16564417, 0.61102603, 0.41500766],\n       [0.17484663, 0.59724349, 0.4042879 ],\n       [0.19222904, 0.59724349, 0.39816233],\n       [0.20449898, 0.57886677, 0.39663093],\n       [0.2208589 , 0.58039816, 0.3797856 ],\n       [0.23415133, 0.5957121 , 0.36447167],\n       [0.24539877, 0.59111792, 0.37059724],\n       [0.24744376, 0.60336907, 0.37825421],\n       [0.23210634, 0.63399694, 0.40122511],\n       [0.18813906, 0.63859112, 0.40122511],\n       [0.18813906, 0.64624809, 0.39356815],\n       [0.15132924, 0.6431853 , 0.38897397],\n       [0.1400818 , 0.62787136, 0.37519142],\n       [0.12167689, 0.59877489, 0.3568147 ],\n       [0.11656442, 0.56967841, 0.33537519]])"
     },
     "metadata": {},
     "output_type": "display_data"
    }
   ],
   "source": [
    "## Sample check for sanity\n",
    "print(\"First sample: \\n\")\n",
    "display(processed_data_train[1][0])"
   ],
   "metadata": {
    "collapsed": false
   }
  },
  {
   "cell_type": "code",
   "execution_count": 26,
   "outputs": [
    {
     "name": "stdout",
     "output_type": "stream",
     "text": [
      "Second sample: \n",
      "\n"
     ]
    },
    {
     "data": {
      "text/plain": "array([[0.17484663, 0.51607963, 0.39050536],\n       [0.16768916, 0.52986217, 0.38591118],\n       [0.16257669, 0.52067381, 0.37212864],\n       [0.15644172, 0.54517611, 0.36906585],\n       [0.14723926, 0.58346095, 0.37212864],\n       [0.14621677, 0.63705972, 0.38284839],\n       [0.14621677, 0.66003063, 0.39203675],\n       [0.14621677, 0.63859112, 0.4042879 ],\n       [0.16564417, 0.61102603, 0.41500766],\n       [0.17484663, 0.59724349, 0.4042879 ],\n       [0.19222904, 0.59724349, 0.39816233],\n       [0.20449898, 0.57886677, 0.39663093],\n       [0.2208589 , 0.58039816, 0.3797856 ],\n       [0.23415133, 0.5957121 , 0.36447167],\n       [0.24539877, 0.59111792, 0.37059724],\n       [0.24744376, 0.60336907, 0.37825421],\n       [0.23210634, 0.63399694, 0.40122511],\n       [0.18813906, 0.63859112, 0.40122511],\n       [0.18813906, 0.64624809, 0.39356815],\n       [0.15132924, 0.6431853 , 0.38897397],\n       [0.1400818 , 0.62787136, 0.37519142],\n       [0.12167689, 0.59877489, 0.3568147 ],\n       [0.11656442, 0.56967841, 0.33537519],\n       [0.10736196, 0.5712098 , 0.31240429]])"
     },
     "metadata": {},
     "output_type": "display_data"
    }
   ],
   "source": [
    "print(\"Second sample: \\n\")\n",
    "display(processed_data_train[1][1])"
   ],
   "metadata": {
    "collapsed": false
   }
  },
  {
   "cell_type": "code",
   "execution_count": 27,
   "outputs": [],
   "source": [
    "# Dividing the sampled data - training\n",
    "categorical_samples_training = torch.Tensor(processed_data_train[0])\n",
    "continuous_samples_training = torch.Tensor(processed_data_train[1])\n",
    "target_samples_training = torch.Tensor(processed_data_train[2])\n",
    "\n",
    "# Dividing the sampled data - testing\n",
    "categorical_samples_testing = torch.Tensor(processed_data_test[0])\n",
    "continuous_samples_testing = torch.Tensor(processed_data_test[1])\n",
    "target_samples_testing = torch.Tensor(processed_data_test[2])"
   ],
   "metadata": {
    "collapsed": false
   }
  },
  {
   "cell_type": "code",
   "execution_count": 28,
   "outputs": [
    {
     "name": "stdout",
     "output_type": "stream",
     "text": [
      "Shape of categorical samples - training:  torch.Size([34873, 24, 74])\n",
      "Shape of continuous samples - training:  torch.Size([34873, 24, 3])\n",
      "Shape of target samples - training:  torch.Size([34873, 24, 1])\n",
      "\n",
      "\n",
      "Shape of categorical samples - testing:  torch.Size([365, 24, 74])\n",
      "Shape of continuous samples - testing:  torch.Size([365, 24, 3])\n",
      "Shape of target samples - testing:  torch.Size([365, 24, 1])\n"
     ]
    }
   ],
   "source": [
    "print(\"Shape of categorical samples - training: \", categorical_samples_training.shape)\n",
    "print(\"Shape of continuous samples - training: \", continuous_samples_training.shape)\n",
    "print(\"Shape of target samples - training: \", target_samples_training.shape)\n",
    "print(\"\\n\")\n",
    "print(\"Shape of categorical samples - testing: \", categorical_samples_testing.shape)\n",
    "print(\"Shape of continuous samples - testing: \", continuous_samples_testing.shape)\n",
    "print(\"Shape of target samples - testing: \", target_samples_testing.shape)"
   ],
   "metadata": {
    "collapsed": false
   }
  },
  {
   "cell_type": "markdown",
   "source": [
    "### CREATING DATALOADER"
   ],
   "metadata": {
    "collapsed": false
   }
  },
  {
   "cell_type": "code",
   "execution_count": 29,
   "outputs": [],
   "source": [
    "BATCH_SIZE = 128"
   ],
   "metadata": {
    "collapsed": false
   }
  },
  {
   "cell_type": "code",
   "execution_count": 30,
   "outputs": [],
   "source": [
    "class TimeSeriesLoader(Dataset):\n",
    "    def __init__(self, categorical, continuous, target):\n",
    "        self.categorical, self.continuous, self.target = categorical, continuous, target\n",
    "\n",
    "    def __len__(self):\n",
    "        return len(self.categorical)\n",
    "\n",
    "    def __getitem__(self, idx):\n",
    "        return self.categorical[idx], self.continuous[idx], self.target[idx]"
   ],
   "metadata": {
    "collapsed": false
   }
  },
  {
   "cell_type": "code",
   "execution_count": 31,
   "outputs": [],
   "source": [
    "train_dataset = TimeSeriesLoader(categorical_samples_training,\n",
    "                                 continuous_samples_training,\n",
    "                                 target_samples_training)\n",
    "\n",
    "test_dataset = TimeSeriesLoader(categorical_samples_testing,\n",
    "                                continuous_samples_testing,\n",
    "                                target_samples_testing)"
   ],
   "metadata": {
    "collapsed": false
   }
  },
  {
   "cell_type": "code",
   "execution_count": 32,
   "outputs": [],
   "source": [
    "train_dataloader = DataLoader(train_dataset, batch_size=BATCH_SIZE, shuffle=True, drop_last=False)\n",
    "\n",
    "test_dataloader = DataLoader(test_dataset, batch_size=BATCH_SIZE, shuffle=False, drop_last=False)"
   ],
   "metadata": {
    "collapsed": false
   }
  },
  {
   "cell_type": "code",
   "execution_count": 33,
   "outputs": [
    {
     "name": "stdout",
     "output_type": "stream",
     "text": [
      "Number of batches in train dataloader:  273\n",
      "Number of batches in test dataloader:  3\n"
     ]
    }
   ],
   "source": [
    "print(\"Number of batches in train dataloader: \", len(train_dataloader))\n",
    "print(\"Number of batches in test dataloader: \", len(test_dataloader))"
   ],
   "metadata": {
    "collapsed": false
   }
  },
  {
   "cell_type": "code",
   "execution_count": 34,
   "outputs": [
    {
     "name": "stdout",
     "output_type": "stream",
     "text": [
      "Shape of categorical variables:  torch.Size([34873, 24, 74])\n",
      "Shape of continuous variables:  torch.Size([34873, 24, 3])\n",
      "Shape of target variables:  torch.Size([34873, 24, 1])\n"
     ]
    }
   ],
   "source": [
    "categorical_var_shape = train_dataloader.dataset.categorical.shape\n",
    "continuous_var_shape = train_dataloader.dataset.continuous.shape\n",
    "target_var_shape = train_dataloader.dataset.target.shape\n",
    "\n",
    "print(\"Shape of categorical variables: \", categorical_var_shape)\n",
    "print(\"Shape of continuous variables: \", continuous_var_shape)\n",
    "print(\"Shape of target variables: \", target_var_shape)"
   ],
   "metadata": {
    "collapsed": false
   }
  },
  {
   "cell_type": "code",
   "execution_count": 35,
   "outputs": [
    {
     "name": "stdout",
     "output_type": "stream",
     "text": [
      "Number of zones:  1\n",
      "Number of features per zone:  3\n"
     ]
    }
   ],
   "source": [
    "# Specifying number of zones and features per zone\n",
    "num_zones = target_var_shape[2]\n",
    "num_zone_features = int(continuous_var_shape[2] / target_var_shape[2])\n",
    "print(\"Number of zones: \", num_zones)\n",
    "print(\"Number of features per zone: \", num_zone_features)"
   ],
   "metadata": {
    "collapsed": false
   }
  },
  {
   "cell_type": "markdown",
   "source": [
    "### DEFINING LOSS FUNCTION"
   ],
   "metadata": {
    "collapsed": false
   }
  },
  {
   "cell_type": "code",
   "execution_count": 36,
   "outputs": [],
   "source": [
    "class QuantileLoss(nn.Module):\n",
    "    def __init__(self, quantiles):\n",
    "        super().__init__()\n",
    "        self.quantiles = quantiles\n",
    "\n",
    "    def forward(self, pred, target):\n",
    "        assert not target.requires_grad\n",
    "        assert pred.size(0) == target.size(0)\n",
    "        assert pred.size(1) == target.size(1)\n",
    "        losses = []\n",
    "        for i, q in enumerate(self.quantiles):\n",
    "            errors = target.reshape(-1,1) - pred[:, :, i].reshape(-1,1)\n",
    "            losses.append(torch.max((q-1) * errors, q * errors).unsqueeze(1))\n",
    "        loss = torch.mean(torch.sum(torch.cat(losses, dim=1), dim=1))\n",
    "        return loss"
   ],
   "metadata": {
    "collapsed": false
   }
  },
  {
   "cell_type": "code",
   "execution_count": 37,
   "outputs": [],
   "source": [
    "torch.manual_seed(111)\n",
    "\n",
    "quantile_list = np.arange(1, 10) * 0.1\n",
    "\n",
    "pinball_loss_func = QuantileLoss(quantile_list)"
   ],
   "metadata": {
    "collapsed": false
   }
  },
  {
   "cell_type": "markdown",
   "source": [
    "### DEFINING MODEL ARCHITECTURE"
   ],
   "metadata": {
    "collapsed": false
   }
  },
  {
   "cell_type": "code",
   "execution_count": 38,
   "outputs": [],
   "source": [
    "config_args = easydict.EasyDict(\n",
    "        {\n",
    "            \"device\": torch.device(\"cuda\")\n",
    "            if torch.cuda.is_available()\n",
    "            else torch.device(\"cpu\"),\n",
    "            \"learning_rate\": 2e-4,\n",
    "            \"max_iter\": 1000,\n",
    "            \"epochs\": 25\n",
    "        }\n",
    "    )\n",
    "\n",
    "model_args = easydict.EasyDict(\n",
    "        {\n",
    "            \"d_input\": 6 + X_categorical_train.shape[1],     # Model input -> Continuous + Categorical\n",
    "            \"d_output\": 9,                                   # Model output -> Quantile predictions\n",
    "            \"d_model\": 16,                                   # Model latent dimension\n",
    "            \"q\": 3,                                          # Query and Key dimensions\n",
    "            \"v\": 3,                                          # Value dimensions\n",
    "            \"h\": 3,                                          # Number of heads\n",
    "            \"N\": 1,                                          # Number of stacked of encoder and decoder\n",
    "            \"attention_size\": 24,                            # Attention window\n",
    "            \"dropout\": 0.9,                                  # Dropout rate\n",
    "            \"pe\": \"regular\",                                 # Positional encoding used\n",
    "            \"chunk_mode\": None,                              # Default -> MultiHeadAttention\n",
    "        }\n",
    "    )\n",
    "\n",
    "# Making directories to store values\n",
    "if not os.path.exists(\"logs\"):\n",
    "    os.mkdir(\"logs\")\n",
    "if not os.path.exists(\"models\"):\n",
    "    os.mkdir(\"models\")"
   ],
   "metadata": {
    "collapsed": false
   }
  },
  {
   "cell_type": "markdown",
   "source": [
    "### INSTANTIATING MODELS -> VAE AND LSTM"
   ],
   "metadata": {
    "collapsed": false
   }
  },
  {
   "cell_type": "code",
   "execution_count": 39,
   "outputs": [
    {
     "name": "stdout",
     "output_type": "stream",
     "text": [
      "Number of vae models:  1\n"
     ]
    }
   ],
   "source": [
    "# Address for saved VAE models\n",
    "vae_dirname = os.path.join(os.path.dirname(os.getcwd()), \"VAE_LSTM\", \"vae_models\")\n",
    "\n",
    "# Loading the vae models\n",
    "vae_model_1 = torch.load(os.path.join(vae_dirname, \"L5_best_zone_1.pth\"))\n",
    "\n",
    "vae_models = nn.ModuleList([vae_model_1])\n",
    "print(\"Number of vae models: \", len(vae_models))"
   ],
   "metadata": {
    "collapsed": false
   }
  },
  {
   "cell_type": "code",
   "execution_count": 40,
   "outputs": [
    {
     "name": "stdout",
     "output_type": "stream",
     "text": [
      "Number of transformer models:  1\n"
     ]
    }
   ],
   "source": [
    "# Instantiating transformer corresponding to each zone\n",
    "transformer_model = Transformer(model_args.d_input, model_args.d_model, model_args.d_output,\n",
    "                                model_args.q, model_args.v, model_args.h, model_args.N,\n",
    "                                attention_size=model_args.attention_size, dropout=model_args.dropout,\n",
    "                                chunk_mode=model_args.chunk_mode, pe=model_args.pe).to(device)\n",
    "\n",
    "transformer_models = nn.ModuleList([transformer_model for _ in range(num_zones)])\n",
    "print(\"Number of transformer models: \", len(transformer_models))"
   ],
   "metadata": {
    "collapsed": false
   }
  },
  {
   "cell_type": "code",
   "execution_count": 41,
   "outputs": [],
   "source": [
    "class VAE_TRANSFORMER(nn.Module):\n",
    "    def __init__(self, zonal_vae, zonal_transformer):\n",
    "        super(VAE_TRANSFORMER, self).__init__()\n",
    "        self.zonal_vae = zonal_vae\n",
    "        self.zonal_transformer = zonal_transformer\n",
    "\n",
    "    def forward(self, categorical, zonal_continuous):\n",
    "        out_var = self.zonal_vae(zonal_continuous)\n",
    "        in_transformer = torch.cat((categorical, zonal_continuous, out_var[1]), axis=-1)\n",
    "        out_transformer = self.zonal_transformer(in_transformer)\n",
    "        return out_var, out_transformer"
   ],
   "metadata": {
    "collapsed": false
   }
  },
  {
   "cell_type": "code",
   "execution_count": 42,
   "outputs": [],
   "source": [
    "def pinball(yhat, tau, y):\n",
    "    if yhat >= y:\n",
    "        score = (1 - tau) * (yhat - y)\n",
    "    else:\n",
    "        score = tau * (y - yhat)\n",
    "    return score"
   ],
   "metadata": {
    "collapsed": false
   }
  },
  {
   "cell_type": "code",
   "execution_count": 43,
   "outputs": [],
   "source": [
    "def frozen_param_model(net):\n",
    "    for name, param in net.named_parameters():\n",
    "        if param.requires_grad and 'zonal_vae' in name:\n",
    "            param.requires_grad = False\n",
    "\n",
    "    non_frozen_param = [p for p in net.parameters() if p.requires_grad]\n",
    "    return non_frozen_param"
   ],
   "metadata": {
    "collapsed": false
   }
  },
  {
   "cell_type": "code",
   "execution_count": 44,
   "outputs": [],
   "source": [
    "def save_checkpoint(model, filename):\n",
    "    torch.save(model.state_dict(), filename)\n",
    "\n",
    "def load_from_checkpoint(model, filename):\n",
    "    model.load_state_dict(torch.load(filename))\n",
    "    return model\n",
    "\n",
    "def init_weights(model):\n",
    "    if isinstance(model, nn.Linear):\n",
    "        torch.nn.init.kaiming_uniform_(model.weight, nonlinearity='relu')\n",
    "        model.bias.data.fill_(0.01)"
   ],
   "metadata": {
    "collapsed": false
   }
  },
  {
   "cell_type": "markdown",
   "source": [
    "### DEFINING ZONAL MODEL"
   ],
   "metadata": {
    "collapsed": false
   }
  },
  {
   "cell_type": "code",
   "execution_count": 45,
   "outputs": [],
   "source": [
    "model_1 = VAE_TRANSFORMER(vae_models[0], transformer_models[0]).apply(init_weights)"
   ],
   "metadata": {
    "collapsed": false
   }
  },
  {
   "cell_type": "code",
   "execution_count": 46,
   "outputs": [],
   "source": [
    "# Defining optimizer with frozen vae parameters -> Just training the Transformer\n",
    "optimizer_1 = optim.Adam(frozen_param_model(model_1), lr=config_args.learning_rate)"
   ],
   "metadata": {
    "collapsed": false
   }
  },
  {
   "cell_type": "markdown",
   "source": [
    "### PERFORMING MODEL TRAINING"
   ],
   "metadata": {
    "collapsed": false
   }
  },
  {
   "cell_type": "code",
   "execution_count": 47,
   "outputs": [
    {
     "name": "stderr",
     "output_type": "stream",
     "text": [
      "[Epoch   1/25]: 100%|██████████| 34873/34873 [00:13<00:00, 2638.13it/s, loss_1=0.813]\n",
      "[Epoch   2/25]: 100%|██████████| 34873/34873 [00:12<00:00, 2898.47it/s, loss_1=0.631]\n",
      "[Epoch   3/25]: 100%|██████████| 34873/34873 [00:12<00:00, 2890.95it/s, loss_1=0.532]\n",
      "[Epoch   4/25]: 100%|██████████| 34873/34873 [00:12<00:00, 2861.32it/s, loss_1=0.476]\n",
      "[Epoch   5/25]: 100%|██████████| 34873/34873 [00:12<00:00, 2846.69it/s, loss_1=0.443]\n",
      "[Epoch   6/25]: 100%|██████████| 34873/34873 [00:12<00:00, 2843.10it/s, loss_1=0.423]\n",
      "[Epoch   7/25]: 100%|██████████| 34873/34873 [00:12<00:00, 2807.30it/s, loss_1=0.407]\n",
      "[Epoch   8/25]: 100%|██████████| 34873/34873 [00:12<00:00, 2839.47it/s, loss_1=0.392]\n",
      "[Epoch   9/25]: 100%|██████████| 34873/34873 [00:12<00:00, 2832.25it/s, loss_1=0.374]\n",
      "[Epoch  10/25]: 100%|██████████| 34873/34873 [00:12<00:00, 2835.86it/s, loss_1=0.355]\n",
      "[Epoch  11/25]: 100%|██████████| 34873/34873 [00:12<00:00, 2832.25it/s, loss_1=0.338] \n",
      "[Epoch  12/25]: 100%|██████████| 34873/34873 [00:12<00:00, 2821.52it/s, loss_1=0.325] \n",
      "[Epoch  13/25]: 100%|██████████| 34873/34873 [00:12<00:00, 2828.64it/s, loss_1=0.312] \n",
      "[Epoch  14/25]: 100%|██████████| 34873/34873 [00:12<00:00, 2828.70it/s, loss_1=0.302] \n",
      "[Epoch  15/25]: 100%|██████████| 34873/34873 [00:12<00:00, 2821.50it/s, loss_1=0.293] \n",
      "[Epoch  16/25]: 100%|██████████| 34873/34873 [00:12<00:00, 2825.10it/s, loss_1=0.284] \n",
      "[Epoch  17/25]: 100%|██████████| 34873/34873 [00:12<00:00, 2800.28it/s, loss_1=0.277] \n",
      "[Epoch  18/25]: 100%|██████████| 34873/34873 [00:12<00:00, 2821.50it/s, loss_1=0.268] \n",
      "[Epoch  19/25]: 100%|██████████| 34873/34873 [00:12<00:00, 2821.52it/s, loss_1=0.261] \n",
      "[Epoch  20/25]: 100%|██████████| 34873/34873 [00:12<00:00, 2810.85it/s, loss_1=0.252] \n",
      "[Epoch  21/25]: 100%|██████████| 34873/34873 [00:12<00:00, 2789.79it/s, loss_1=0.244] \n",
      "[Epoch  22/25]: 100%|██████████| 34873/34873 [00:12<00:00, 2810.77it/s, loss_1=0.237] \n",
      "[Epoch  23/25]: 100%|██████████| 34873/34873 [00:12<00:00, 2810.94it/s, loss_1=0.23]  \n",
      "[Epoch  24/25]: 100%|██████████| 34873/34873 [00:12<00:00, 2825.10it/s, loss_1=0.223] \n",
      "[Epoch  25/25]: 100%|██████████| 34873/34873 [00:12<00:00, 2759.85it/s, loss_1=0.217] \n"
     ]
    },
    {
     "name": "stdout",
     "output_type": "stream",
     "text": [
      "All model stopped training at the end of epoch and final checkpoint saved !\n"
     ]
    },
    {
     "data": {
      "text/plain": "<Figure size 640x480 with 1 Axes>",
      "image/png": "[encoded data removed]"
     },
     "metadata": {},
     "output_type": "display_data"
    },
    {
     "name": "stdout",
     "output_type": "stream",
     "text": [
      "\n",
      "Total time of training: 0.08658651649951934 hours\n"
     ]
    }
   ],
   "source": [
    "start_time = time.time()\n",
    "\n",
    "hist_loss_1 = np.zeros(config_args.epochs)\n",
    "\n",
    "for epoch in range(config_args.epochs):\n",
    "\n",
    "    # Switching all models in training mode\n",
    "    model_1.train()\n",
    "\n",
    "    running_loss_1 = 0\n",
    "    running_loss_2 = 0\n",
    "    running_loss_3 = 0\n",
    "\n",
    "    with tqdm(total=len(train_dataloader.dataset),\n",
    "              desc=f\"[Epoch {epoch+1:3d}/{config_args.epochs}]\") as pbar:\n",
    "\n",
    "        for batch, (categorical_var, continuous_var, target_var) in enumerate(train_dataloader):\n",
    "\n",
    "            # Setting the gradients to zero\n",
    "            optimizer_1.zero_grad()\n",
    "\n",
    "            # The categorical variables are common for all zones.\n",
    "            common_categorical = copy.deepcopy(categorical_var).to(device)\n",
    "\n",
    "            zone_1_continuous = copy.deepcopy(continuous_var[:, :, 0:3]).to(device)\n",
    "\n",
    "            zone_1_target = copy.deepcopy(target_var[:, :, 0:1])\n",
    "\n",
    "            # Propagating through the network\n",
    "            out_vae_1, out_transformer_1 = model_1(common_categorical, zone_1_continuous)\n",
    "\n",
    "            # Calculating the pinball loss\n",
    "            loss_1 = pinball_loss_func(out_transformer_1, zone_1_target.to(device))\n",
    "\n",
    "            # Back-Propagating the loss\n",
    "            loss_1.backward()\n",
    "\n",
    "            # Updating the parameters\n",
    "            optimizer_1.step()\n",
    "\n",
    "            # Accumulating the running loss\n",
    "            running_loss_1 += loss_1.item()\n",
    "\n",
    "            pbar.set_postfix({\n",
    "                'loss_1': running_loss_1/(batch+1),\n",
    "                              })\n",
    "            pbar.update(zone_1_continuous.shape[0])\n",
    "\n",
    "            train_loss_1 = running_loss_1/len(train_dataloader)\n",
    "\n",
    "            pbar.set_postfix({\n",
    "                'loss_1': train_loss_1,\n",
    "                              })\n",
    "\n",
    "            hist_loss_1[epoch] = train_loss_1\n",
    "\n",
    "\n",
    "print(\"All model stopped training at the end of epoch and final checkpoint saved !\")\n",
    "save_checkpoint(model_1, os.path.join(os.getcwd(), \"vae_transformer_checkpoint\",\n",
    "                                                      \"vae_transformer_best_1.pth\"))\n",
    "\n",
    "plt.plot(np.trim_zeros(hist_loss_1, 'b'), 'o-', label='train')\n",
    "plt.legend()\n",
    "plt.show()\n",
    "\n",
    "end_time = time.time()\n",
    "\n",
    "total_time = end_time - start_time\n",
    "print(\"\\nTotal time of training: {} hours\".format(total_time/3600))"
   ],
   "metadata": {
    "collapsed": false
   }
  },
  {
   "cell_type": "markdown",
   "source": [
    "### LOADING AND GENERATING RESULTS ON TEST DATALOADER"
   ],
   "metadata": {
    "collapsed": false
   }
  },
  {
   "cell_type": "code",
   "execution_count": 48,
   "outputs": [],
   "source": [
    "# Loading the models\n",
    "best_vae_transformer_1 = load_from_checkpoint(model_1, os.path.join(os.getcwd(),\n",
    "                                                                    \"vae_transformer_checkpoint\",\n",
    "                                                                    \"vae_transformer_best_1.pth\"))"
   ],
   "metadata": {
    "collapsed": false
   }
  },
  {
   "cell_type": "code",
   "execution_count": 49,
   "outputs": [
    {
     "name": "stderr",
     "output_type": "stream",
     "text": [
      "100%|██████████| 3/3 [00:00<00:00, 14.41it/s]\n"
     ]
    }
   ],
   "source": [
    "quantile_pred_1 = np.empty(shape=(len(test_dataloader.dataset), 24, model_args.d_output))\n",
    "idx_pred_1 = 0\n",
    "\n",
    "# Switching all models to eval mode\n",
    "model_1.eval()\n",
    "\n",
    "with torch.no_grad():\n",
    "    for (categorical_var, continuous_var, target_var) in tqdm(test_dataloader, total=len(test_dataloader)):\n",
    "\n",
    "        # The categorical variables are common for all zones.\n",
    "        common_categorical = copy.deepcopy(categorical_var).to(device)\n",
    "\n",
    "        zone_1_continuous = copy.deepcopy(continuous_var[:, :, 0:3]).to(device)\n",
    "\n",
    "        zone_1_target = copy.deepcopy(target_var[:, :, 0:1])\n",
    "\n",
    "        # Propagating through the network\n",
    "        out_vae_1, out_transformer_1 = model_1(common_categorical, zone_1_continuous)\n",
    "\n",
    "        # Concatenating the predictions\n",
    "        quantile_pred_1[idx_pred_1:idx_pred_1+zone_1_continuous.shape[0]] = out_transformer_1.cpu().numpy()\n",
    "\n",
    "        idx_pred_1 += zone_1_continuous.shape[0]"
   ],
   "metadata": {
    "collapsed": false
   }
  },
  {
   "cell_type": "markdown",
   "source": [
    "#### FORMATTING PREDICTED AND TRUE DATA FOR GENERATING RESULTS"
   ],
   "metadata": {
    "collapsed": false
   }
  },
  {
   "cell_type": "code",
   "execution_count": 50,
   "outputs": [
    {
     "data": {
      "text/plain": "(8760, 9)"
     },
     "execution_count": 50,
     "metadata": {},
     "output_type": "execute_result"
    }
   ],
   "source": [
    "# Reshaping the predicted quantiles\n",
    "quantile_pred_arr_1 = quantile_pred_1.reshape(-1, model_args.d_output)\n",
    "\n",
    "quantile_pred_arr_1.shape"
   ],
   "metadata": {
    "collapsed": false
   }
  },
  {
   "cell_type": "code",
   "execution_count": 51,
   "outputs": [
    {
     "data": {
      "text/plain": "(8760, 9)"
     },
     "execution_count": 51,
     "metadata": {},
     "output_type": "execute_result"
    }
   ],
   "source": [
    "quantile_pred_1_inv = quantile_pred_arr_1 * (mm_scaler_Y.data_max_[0] - mm_scaler_Y.data_min_[0]) + mm_scaler_Y.data_min_[0]\n",
    "\n",
    "quantile_pred_arr_1.shape"
   ],
   "metadata": {
    "collapsed": false
   }
  },
  {
   "cell_type": "code",
   "execution_count": 52,
   "outputs": [
    {
     "data": {
      "text/plain": "(8760, 1)"
     },
     "execution_count": 52,
     "metadata": {},
     "output_type": "execute_result"
    }
   ],
   "source": [
    "# Reshaping the true data\n",
    "Y_test_1 = target_samples_testing[:, :, 0:1]\n",
    "\n",
    "yArr_1 = Y_test_1.reshape(Y_test_1.shape[0] * Y_test_1.shape[1], Y_test_1.shape[2]).numpy()\n",
    "\n",
    "yArr_1.shape"
   ],
   "metadata": {
    "collapsed": false
   }
  },
  {
   "cell_type": "code",
   "execution_count": 53,
   "outputs": [],
   "source": [
    "yArr_1_inv = yArr_1 * (mm_scaler_Y.data_max_[0] - mm_scaler_Y.data_min_[0]) + mm_scaler_Y.data_min_[0]"
   ],
   "metadata": {
    "collapsed": false
   }
  },
  {
   "cell_type": "markdown",
   "source": [
    "#### CALCULATING THE PINBALL LOSS SCORE"
   ],
   "metadata": {
    "collapsed": false
   }
  },
  {
   "cell_type": "code",
   "execution_count": 54,
   "outputs": [],
   "source": [
    "def pinball_score_zone(quantile_pred_arr, true_data_arr):\n",
    "    pinball_trans = np.array([np.mean([pinball(quantile_pred_arr[t, i], tau, true_data_arr[t]) for t in range(len(true_data_arr))]) for i, tau in enumerate(quantile_list)])\n",
    "    return pinball_trans.mean()"
   ],
   "metadata": {
    "collapsed": false
   }
  },
  {
   "cell_type": "code",
   "execution_count": 55,
   "outputs": [
    {
     "name": "stdout",
     "output_type": "stream",
     "text": [
      "Zone 1 - Mean Pinball Loss:  802.0363\n"
     ]
    }
   ],
   "source": [
    "pinball_loss_mean_1 = pinball_score_zone(quantile_pred_1_inv, yArr_1_inv)\n",
    "print(\"Zone 1 - Mean Pinball Loss: \", pinball_loss_mean_1)"
   ],
   "metadata": {
    "collapsed": false
   }
  },
  {
   "cell_type": "code",
   "execution_count": 56,
   "outputs": [
    {
     "name": "stdout",
     "output_type": "stream",
     "text": [
      "Saving the best trained models.\n",
      "Saved !\n"
     ]
    }
   ],
   "source": [
    "print(\"Saving the best trained models.\")\n",
    "\n",
    "# Saving the models\n",
    "torch.save(best_vae_transformer_1, f\"vae_transformer_models/L5_vae_transformer_1.pth\")\n",
    "\n",
    "print(\"Saved !\")"
   ],
   "metadata": {
    "collapsed": false
   }
  },
  {
   "cell_type": "code",
   "execution_count": 57,
   "outputs": [
    {
     "name": "stdout",
     "output_type": "stream",
     "text": [
      "Results saved !\n"
     ]
    }
   ],
   "source": [
    "resultsDf = pd.DataFrame()\n",
    "resultsDf[\"zone\"] = [i.removesuffix('.csv') for i in fileList]\n",
    "resultsDf[\"pinball_loss\"] = [\n",
    "    pinball_loss_mean_1\n",
    "]\n",
    "\n",
    "resultsDf.to_csv(os.path.join(\"results\", dataset + \".csv\"), index=False)\n",
    "print(\"Results saved !\")"
   ],
   "metadata": {
    "collapsed": false
   }
  },
  {
   "cell_type": "code",
   "execution_count": 58,
   "outputs": [
    {
     "data": {
      "text/plain": "{'status': 'ok', 'restart': True}"
     },
     "execution_count": 58,
     "metadata": {},
     "output_type": "execute_result"
    }
   ],
   "source": [
    "import IPython\n",
    "app = IPython.Application.instance()\n",
    "app.kernel.do_shutdown(True)"
   ],
   "metadata": {
    "collapsed": false
   }
  }
 ],
 "metadata": {
  "kernelspec": {
   "display_name": "Python 3",
   "language": "python",
   "name": "python3"
  },
  "language_info": {
   "codemirror_mode": {
    "name": "ipython",
    "version": 2
   },
   "file_extension": ".py",
   "mimetype": "text/x-python",
   "name": "python",
   "nbconvert_exporter": "python",
   "pygments_lexer": "ipython2",
   "version": "2.7.6"
  }
 },
 "nbformat": 4,
 "nbformat_minor": 0
}
