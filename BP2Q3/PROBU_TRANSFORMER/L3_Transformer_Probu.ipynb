{
 "cells": [
  {
   "cell_type": "code",
   "execution_count": 1,
   "outputs": [
    {
     "name": "stdout",
     "output_type": "stream",
     "text": [
      "Using device cuda:0\n"
     ]
    }
   ],
   "source": [
    "# Importing the required libraries\n",
    "from IPython.display import display\n",
    "import os\n",
    "import numpy as np\n",
    "import pandas as pd\n",
    "from matplotlib import pyplot as plt\n",
    "from tqdm import tqdm\n",
    "from sklearn.preprocessing import MinMaxScaler, OneHotEncoder\n",
    "import time\n",
    "import easydict\n",
    "import copy\n",
    "\n",
    "import torch\n",
    "import torch.nn as nn\n",
    "from torch.utils.tensorboard import SummaryWriter\n",
    "from torch.utils.data import DataLoader, Dataset\n",
    "import torch.optim as optim\n",
    "from tqdm import tqdm\n",
    "\n",
    "from time_transformer.transformer import Transformer\n",
    "\n",
    "# Training device check-up\n",
    "device = torch.device(\"cuda:0\" if torch.cuda.is_available() else \"cpu\")\n",
    "print(f\"Using device {device}\")\n",
    "\n",
    "writer = SummaryWriter()\n",
    "\n",
    "# Defining DOE custom mape formula\n",
    "def mape(y_true, y_pred):\n",
    "    y_true, y_pred = np.array(y_true), np.array(y_pred)\n",
    "    return np.mean(np.abs((y_true - y_pred) / max(y_true))) * 100"
   ],
   "metadata": {
    "collapsed": false
   }
  },
  {
   "cell_type": "markdown",
   "source": [
    "#### FETCHING AND PROCESSING CALENDER FEATURES"
   ],
   "metadata": {
    "collapsed": false
   }
  },
  {
   "cell_type": "code",
   "execution_count": 2,
   "outputs": [
    {
     "name": "stdout",
     "output_type": "stream",
     "text": [
      "['AT.csv', 'BE.csv', 'BG.csv', 'CH.csv', 'CZ.csv', 'DK.csv', 'ES.csv', 'FR.csv', 'GR.csv', 'IT.csv', 'NL.csv', 'PT.csv', 'SI.csv', 'SK.csv']\n"
     ]
    }
   ],
   "source": [
    "# Specifying the path of file\n",
    "path= r\"C:\\Users\\sashah8\\DOE_Graph_Attention_Transformer\\DOE MODEL TRAINING\\Data Processing\\processed_data\"\n",
    "dataset = \"L3\"\n",
    "\n",
    "# Listing just the required files\n",
    "fileList = os.listdir(os.path.join(path, dataset))\n",
    "\n",
    "# Previewing the required file names\n",
    "print(fileList)"
   ],
   "metadata": {
    "collapsed": false
   }
  },
  {
   "cell_type": "code",
   "execution_count": 3,
   "outputs": [
    {
     "data": {
      "text/plain": "                   ept    mw    tmp\n0  2015-01-01 00:00:00  5946 -6.503\n1  2015-01-01 01:00:00  5726 -6.458",
      "text/html": "<div>\n<style scoped>\n    .dataframe tbody tr th:only-of-type {\n        vertical-align: middle;\n    }\n\n    .dataframe tbody tr th {\n        vertical-align: top;\n    }\n\n    .dataframe thead th {\n        text-align: right;\n    }\n</style>\n<table border=\"1\" class=\"dataframe\">\n  <thead>\n    <tr style=\"text-align: right;\">\n      <th></th>\n      <th>ept</th>\n      <th>mw</th>\n      <th>tmp</th>\n    </tr>\n  </thead>\n  <tbody>\n    <tr>\n      <th>0</th>\n      <td>2015-01-01 00:00:00</td>\n      <td>5946</td>\n      <td>-6.503</td>\n    </tr>\n    <tr>\n      <th>1</th>\n      <td>2015-01-01 01:00:00</td>\n      <td>5726</td>\n      <td>-6.458</td>\n    </tr>\n  </tbody>\n</table>\n</div>"
     },
     "metadata": {},
     "output_type": "display_data"
    }
   ],
   "source": [
    "# Just for previewing the column name\n",
    "display(pd.read_csv(os.path.join(path, dataset, fileList[0])).head(2))"
   ],
   "metadata": {
    "collapsed": false
   }
  },
  {
   "cell_type": "code",
   "execution_count": 4,
   "outputs": [
    {
     "name": "stdout",
     "output_type": "stream",
     "text": [
      "Sample dataframe: \n"
     ]
    },
    {
     "data": {
      "text/plain": "                  ept    mw    tmp\n0 2015-01-01 00:00:00  5946 -6.503\n1 2015-01-01 01:00:00  5726 -6.458",
      "text/html": "<div>\n<style scoped>\n    .dataframe tbody tr th:only-of-type {\n        vertical-align: middle;\n    }\n\n    .dataframe tbody tr th {\n        vertical-align: top;\n    }\n\n    .dataframe thead th {\n        text-align: right;\n    }\n</style>\n<table border=\"1\" class=\"dataframe\">\n  <thead>\n    <tr style=\"text-align: right;\">\n      <th></th>\n      <th>ept</th>\n      <th>mw</th>\n      <th>tmp</th>\n    </tr>\n  </thead>\n  <tbody>\n    <tr>\n      <th>0</th>\n      <td>2015-01-01 00:00:00</td>\n      <td>5946</td>\n      <td>-6.503</td>\n    </tr>\n    <tr>\n      <th>1</th>\n      <td>2015-01-01 01:00:00</td>\n      <td>5726</td>\n      <td>-6.458</td>\n    </tr>\n  </tbody>\n</table>\n</div>"
     },
     "metadata": {},
     "output_type": "display_data"
    }
   ],
   "source": [
    "# Just for previewing the column name\n",
    "data = pd.read_csv(os.path.join(path, dataset, fileList[0]), parse_dates=['ept'])\n",
    "print(\"Sample dataframe: \")\n",
    "display(data.head(2))"
   ],
   "metadata": {
    "collapsed": false
   }
  },
  {
   "cell_type": "code",
   "execution_count": 5,
   "outputs": [
    {
     "data": {
      "text/plain": "0   2015-01-01 00:00:00\n1   2015-01-01 01:00:00\nName: AA_ept, dtype: datetime64[ns]"
     },
     "execution_count": 5,
     "metadata": {},
     "output_type": "execute_result"
    }
   ],
   "source": [
    "# Fetching the date column only\n",
    "date_col = data.ept.copy()\n",
    "date_col.name = \"AA_ept\"\n",
    "date_col.head(2)"
   ],
   "metadata": {
    "collapsed": false
   }
  },
  {
   "cell_type": "code",
   "execution_count": 6,
   "outputs": [
    {
     "name": "stdout",
     "output_type": "stream",
     "text": [
      "Sample calendar features: \n"
     ]
    },
    {
     "data": {
      "text/plain": "   Month  Day  Hour  Weekday\n0      1    1     0        3\n1      1    1     1        3",
      "text/html": "<div>\n<style scoped>\n    .dataframe tbody tr th:only-of-type {\n        vertical-align: middle;\n    }\n\n    .dataframe tbody tr th {\n        vertical-align: top;\n    }\n\n    .dataframe thead th {\n        text-align: right;\n    }\n</style>\n<table border=\"1\" class=\"dataframe\">\n  <thead>\n    <tr style=\"text-align: right;\">\n      <th></th>\n      <th>Month</th>\n      <th>Day</th>\n      <th>Hour</th>\n      <th>Weekday</th>\n    </tr>\n  </thead>\n  <tbody>\n    <tr>\n      <th>0</th>\n      <td>1</td>\n      <td>1</td>\n      <td>0</td>\n      <td>3</td>\n    </tr>\n    <tr>\n      <th>1</th>\n      <td>1</td>\n      <td>1</td>\n      <td>1</td>\n      <td>3</td>\n    </tr>\n  </tbody>\n</table>\n</div>"
     },
     "metadata": {},
     "output_type": "display_data"
    },
    {
     "name": "stdout",
     "output_type": "stream",
     "text": [
      "Available unique categories: \n"
     ]
    },
    {
     "data": {
      "text/plain": "Month      12\nDay        31\nHour       24\nWeekday     7\ndtype: int64"
     },
     "metadata": {},
     "output_type": "display_data"
    },
    {
     "name": "stdout",
     "output_type": "stream",
     "text": [
      "Total number of observations:  43824\n"
     ]
    }
   ],
   "source": [
    "# Creating the calendar features\n",
    "date = pd.DataFrame()\n",
    "date['Month'] = date_col.dt.month\n",
    "date['Day'] = date_col.dt.day\n",
    "date['Hour'] = date_col.dt.hour\n",
    "date['Weekday'] = date_col.dt.weekday\n",
    "\n",
    "print(\"Sample calendar features: \")\n",
    "display(date.head(2))\n",
    "\n",
    "print(\"Available unique categories: \")\n",
    "display(date.nunique())\n",
    "\n",
    "print(\"Total number of observations: \", len(date))"
   ],
   "metadata": {
    "collapsed": false
   }
  },
  {
   "cell_type": "code",
   "execution_count": 7,
   "outputs": [
    {
     "data": {
      "text/plain": "array([[1., 0., 0., ..., 0., 0., 0.],\n       [1., 0., 0., ..., 0., 0., 0.],\n       [1., 0., 0., ..., 0., 0., 0.],\n       ...,\n       [0., 0., 0., ..., 0., 0., 0.],\n       [0., 0., 0., ..., 0., 0., 0.],\n       [0., 0., 0., ..., 0., 0., 0.]])"
     },
     "metadata": {},
     "output_type": "display_data"
    }
   ],
   "source": [
    "# One-hot encoding the categorical calendar features\n",
    "date_enc = OneHotEncoder(sparse_output=False)\n",
    "categorical_data = date_enc.fit_transform(date)\n",
    "display(categorical_data)"
   ],
   "metadata": {
    "collapsed": false
   }
  },
  {
   "cell_type": "code",
   "execution_count": 8,
   "outputs": [
    {
     "data": {
      "text/plain": "[12, 31, 24, 7]"
     },
     "execution_count": 8,
     "metadata": {},
     "output_type": "execute_result"
    }
   ],
   "source": [
    "category_count = [len(x_len) for x_len in date_enc.categories_]\n",
    "category_count"
   ],
   "metadata": {
    "collapsed": false
   }
  },
  {
   "cell_type": "markdown",
   "source": [
    "#### PROCESSING CONTINUOUS FEATURES FOR ALL AVAILABLE ZONES"
   ],
   "metadata": {
    "collapsed": false
   }
  },
  {
   "cell_type": "markdown",
   "source": [
    "PROCESSING LOAD DATA"
   ],
   "metadata": {
    "collapsed": false
   }
  },
  {
   "cell_type": "code",
   "execution_count": 9,
   "outputs": [
    {
     "data": {
      "text/plain": "       AT_LOAD  BE_LOAD  BG_LOAD  CH_LOAD  CZ_LOAD  DK_LOAD  ES_LOAD  FR_LOAD  \\\n43822     6206     9392   4410.0  6451.50  5822.73  3309.25  23911.0  65865.0   \n43823     5967     9069   4243.0  6891.33  5611.71  3315.91  22963.0  64677.0   \n\n       GR_LOAD  IT_LOAD  NL_LOAD  PT_LOAD  SI_LOAD  SK_LOAD  \n43822  5657.63  23876.0    11418   5484.7  1134.03   2980.0  \n43823  5337.38  22510.0    11215   5243.8  1086.73   2814.0  ",
      "text/html": "<div>\n<style scoped>\n    .dataframe tbody tr th:only-of-type {\n        vertical-align: middle;\n    }\n\n    .dataframe tbody tr th {\n        vertical-align: top;\n    }\n\n    .dataframe thead th {\n        text-align: right;\n    }\n</style>\n<table border=\"1\" class=\"dataframe\">\n  <thead>\n    <tr style=\"text-align: right;\">\n      <th></th>\n      <th>AT_LOAD</th>\n      <th>BE_LOAD</th>\n      <th>BG_LOAD</th>\n      <th>CH_LOAD</th>\n      <th>CZ_LOAD</th>\n      <th>DK_LOAD</th>\n      <th>ES_LOAD</th>\n      <th>FR_LOAD</th>\n      <th>GR_LOAD</th>\n      <th>IT_LOAD</th>\n      <th>NL_LOAD</th>\n      <th>PT_LOAD</th>\n      <th>SI_LOAD</th>\n      <th>SK_LOAD</th>\n    </tr>\n  </thead>\n  <tbody>\n    <tr>\n      <th>43822</th>\n      <td>6206</td>\n      <td>9392</td>\n      <td>4410.0</td>\n      <td>6451.50</td>\n      <td>5822.73</td>\n      <td>3309.25</td>\n      <td>23911.0</td>\n      <td>65865.0</td>\n      <td>5657.63</td>\n      <td>23876.0</td>\n      <td>11418</td>\n      <td>5484.7</td>\n      <td>1134.03</td>\n      <td>2980.0</td>\n    </tr>\n    <tr>\n      <th>43823</th>\n      <td>5967</td>\n      <td>9069</td>\n      <td>4243.0</td>\n      <td>6891.33</td>\n      <td>5611.71</td>\n      <td>3315.91</td>\n      <td>22963.0</td>\n      <td>64677.0</td>\n      <td>5337.38</td>\n      <td>22510.0</td>\n      <td>11215</td>\n      <td>5243.8</td>\n      <td>1086.73</td>\n      <td>2814.0</td>\n    </tr>\n  </tbody>\n</table>\n</div>"
     },
     "metadata": {},
     "output_type": "display_data"
    }
   ],
   "source": [
    "# Fetching and concatenating the data\n",
    "load_ds = pd.concat([pd.read_csv(os.path.join(path, dataset, fileName),\n",
    "                                 usecols= [\"mw\"]) for fileName in fileList], axis= 1)\n",
    "load_ds.columns = [i.removesuffix('.csv') for i in fileList]\n",
    "load_ds = load_ds.add_suffix(\"_LOAD\")\n",
    "display(load_ds.tail(2))"
   ],
   "metadata": {
    "collapsed": false
   }
  },
  {
   "cell_type": "code",
   "execution_count": 10,
   "outputs": [
    {
     "data": {
      "text/plain": "       AT_LOAD_LAG1  BE_LOAD_LAG1  BG_LOAD_LAG1  CH_LOAD_LAG1  CZ_LOAD_LAG1  \\\n43822        6602.0        8991.0        4520.0       6460.92       6416.28   \n43823        6340.0        8598.0        4257.0       6562.41       6123.94   \n\n       DK_LOAD_LAG1  ES_LOAD_LAG1  FR_LOAD_LAG1  GR_LOAD_LAG1  IT_LOAD_LAG1  \\\n43822       3558.11       25629.0       65287.0       5327.10       23499.0   \n43823       3426.94       23245.0       63016.0       4840.37       21429.0   \n\n       NL_LOAD_LAG1  PT_LOAD_LAG1  SI_LOAD_LAG1  SK_LOAD_LAG1  \n43822       11708.0        5857.5       1156.82        2963.0  \n43823       11172.0        5406.3       1097.50        2941.0  ",
      "text/html": "<div>\n<style scoped>\n    .dataframe tbody tr th:only-of-type {\n        vertical-align: middle;\n    }\n\n    .dataframe tbody tr th {\n        vertical-align: top;\n    }\n\n    .dataframe thead th {\n        text-align: right;\n    }\n</style>\n<table border=\"1\" class=\"dataframe\">\n  <thead>\n    <tr style=\"text-align: right;\">\n      <th></th>\n      <th>AT_LOAD_LAG1</th>\n      <th>BE_LOAD_LAG1</th>\n      <th>BG_LOAD_LAG1</th>\n      <th>CH_LOAD_LAG1</th>\n      <th>CZ_LOAD_LAG1</th>\n      <th>DK_LOAD_LAG1</th>\n      <th>ES_LOAD_LAG1</th>\n      <th>FR_LOAD_LAG1</th>\n      <th>GR_LOAD_LAG1</th>\n      <th>IT_LOAD_LAG1</th>\n      <th>NL_LOAD_LAG1</th>\n      <th>PT_LOAD_LAG1</th>\n      <th>SI_LOAD_LAG1</th>\n      <th>SK_LOAD_LAG1</th>\n    </tr>\n  </thead>\n  <tbody>\n    <tr>\n      <th>43822</th>\n      <td>6602.0</td>\n      <td>8991.0</td>\n      <td>4520.0</td>\n      <td>6460.92</td>\n      <td>6416.28</td>\n      <td>3558.11</td>\n      <td>25629.0</td>\n      <td>65287.0</td>\n      <td>5327.10</td>\n      <td>23499.0</td>\n      <td>11708.0</td>\n      <td>5857.5</td>\n      <td>1156.82</td>\n      <td>2963.0</td>\n    </tr>\n    <tr>\n      <th>43823</th>\n      <td>6340.0</td>\n      <td>8598.0</td>\n      <td>4257.0</td>\n      <td>6562.41</td>\n      <td>6123.94</td>\n      <td>3426.94</td>\n      <td>23245.0</td>\n      <td>63016.0</td>\n      <td>4840.37</td>\n      <td>21429.0</td>\n      <td>11172.0</td>\n      <td>5406.3</td>\n      <td>1097.50</td>\n      <td>2941.0</td>\n    </tr>\n  </tbody>\n</table>\n</div>"
     },
     "metadata": {},
     "output_type": "display_data"
    }
   ],
   "source": [
    "# Creating 1-day lag loads\n",
    "load_lag_1 = load_ds.shift(24*2).add_suffix(\"_LAG1\")\n",
    "display(load_lag_1.tail(2))"
   ],
   "metadata": {
    "collapsed": false
   }
  },
  {
   "cell_type": "code",
   "execution_count": 11,
   "outputs": [
    {
     "data": {
      "text/plain": "       AT_LOAD_LAG7  BE_LOAD_LAG7  BG_LOAD_LAG7  CH_LOAD_LAG7  CZ_LOAD_LAG7  \\\n43822        5748.0        8691.0        3734.0       6645.40       5437.48   \n43823        5444.0        8365.0        3510.0       7093.08       5087.48   \n\n       DK_LOAD_LAG7  ES_LOAD_LAG7  FR_LOAD_LAG7  GR_LOAD_LAG7  IT_LOAD_LAG7  \\\n43822       3194.35       21541.0       55237.0       4764.68       22415.0   \n43823       3117.52       20946.0       53648.0       4337.98       20677.0   \n\n       NL_LOAD_LAG7  PT_LOAD_LAG7  SI_LOAD_LAG7  SK_LOAD_LAG7  \n43822       11622.0        4814.1       1074.13        2641.0  \n43823       11243.0        4683.2        996.82        2557.0  ",
      "text/html": "<div>\n<style scoped>\n    .dataframe tbody tr th:only-of-type {\n        vertical-align: middle;\n    }\n\n    .dataframe tbody tr th {\n        vertical-align: top;\n    }\n\n    .dataframe thead th {\n        text-align: right;\n    }\n</style>\n<table border=\"1\" class=\"dataframe\">\n  <thead>\n    <tr style=\"text-align: right;\">\n      <th></th>\n      <th>AT_LOAD_LAG7</th>\n      <th>BE_LOAD_LAG7</th>\n      <th>BG_LOAD_LAG7</th>\n      <th>CH_LOAD_LAG7</th>\n      <th>CZ_LOAD_LAG7</th>\n      <th>DK_LOAD_LAG7</th>\n      <th>ES_LOAD_LAG7</th>\n      <th>FR_LOAD_LAG7</th>\n      <th>GR_LOAD_LAG7</th>\n      <th>IT_LOAD_LAG7</th>\n      <th>NL_LOAD_LAG7</th>\n      <th>PT_LOAD_LAG7</th>\n      <th>SI_LOAD_LAG7</th>\n      <th>SK_LOAD_LAG7</th>\n    </tr>\n  </thead>\n  <tbody>\n    <tr>\n      <th>43822</th>\n      <td>5748.0</td>\n      <td>8691.0</td>\n      <td>3734.0</td>\n      <td>6645.40</td>\n      <td>5437.48</td>\n      <td>3194.35</td>\n      <td>21541.0</td>\n      <td>55237.0</td>\n      <td>4764.68</td>\n      <td>22415.0</td>\n      <td>11622.0</td>\n      <td>4814.1</td>\n      <td>1074.13</td>\n      <td>2641.0</td>\n    </tr>\n    <tr>\n      <th>43823</th>\n      <td>5444.0</td>\n      <td>8365.0</td>\n      <td>3510.0</td>\n      <td>7093.08</td>\n      <td>5087.48</td>\n      <td>3117.52</td>\n      <td>20946.0</td>\n      <td>53648.0</td>\n      <td>4337.98</td>\n      <td>20677.0</td>\n      <td>11243.0</td>\n      <td>4683.2</td>\n      <td>996.82</td>\n      <td>2557.0</td>\n    </tr>\n  </tbody>\n</table>\n</div>"
     },
     "metadata": {},
     "output_type": "display_data"
    }
   ],
   "source": [
    "# Creating 7-day lag loads\n",
    "load_lag_7 = load_ds.shift(24*7).add_suffix(\"_LAG7\")\n",
    "display(load_lag_7.tail(2))"
   ],
   "metadata": {
    "collapsed": false
   }
  },
  {
   "cell_type": "code",
   "execution_count": 12,
   "outputs": [
    {
     "name": "stdout",
     "output_type": "stream",
     "text": [
      "Drop data before:  168\n"
     ]
    }
   ],
   "source": [
    "# Drop index for equalizing data\n",
    "drop_idx = load_lag_7.dropna(axis= 0).index[0]\n",
    "print(\"Drop data before: \", drop_idx)"
   ],
   "metadata": {
    "collapsed": false
   }
  },
  {
   "cell_type": "markdown",
   "source": [
    "PROCESSING TEMPERATURE DATA"
   ],
   "metadata": {
    "collapsed": false
   }
  },
  {
   "cell_type": "code",
   "execution_count": 13,
   "outputs": [
    {
     "data": {
      "text/plain": "       AT_A_TEMP  BE_A_TEMP  BG_A_TEMP  CH_A_TEMP  CZ_A_TEMP  DK_A_TEMP  \\\n43822     -2.184      1.569     -1.270     -0.659     -0.311      2.213   \n43823     -2.271      1.216     -1.826     -0.617     -0.345      2.469   \n\n       ES_A_TEMP  FR_A_TEMP  GR_A_TEMP  IT_A_TEMP  NL_A_TEMP  PT_A_TEMP  \\\n43822      6.959      2.280      4.143      3.752      1.785      8.218   \n43823      6.652      2.224      4.128      3.790      1.444      7.735   \n\n       SI_A_TEMP  SK_A_TEMP  \n43822     -0.032     -0.867  \n43823     -0.210     -0.936  ",
      "text/html": "<div>\n<style scoped>\n    .dataframe tbody tr th:only-of-type {\n        vertical-align: middle;\n    }\n\n    .dataframe tbody tr th {\n        vertical-align: top;\n    }\n\n    .dataframe thead th {\n        text-align: right;\n    }\n</style>\n<table border=\"1\" class=\"dataframe\">\n  <thead>\n    <tr style=\"text-align: right;\">\n      <th></th>\n      <th>AT_A_TEMP</th>\n      <th>BE_A_TEMP</th>\n      <th>BG_A_TEMP</th>\n      <th>CH_A_TEMP</th>\n      <th>CZ_A_TEMP</th>\n      <th>DK_A_TEMP</th>\n      <th>ES_A_TEMP</th>\n      <th>FR_A_TEMP</th>\n      <th>GR_A_TEMP</th>\n      <th>IT_A_TEMP</th>\n      <th>NL_A_TEMP</th>\n      <th>PT_A_TEMP</th>\n      <th>SI_A_TEMP</th>\n      <th>SK_A_TEMP</th>\n    </tr>\n  </thead>\n  <tbody>\n    <tr>\n      <th>43822</th>\n      <td>-2.184</td>\n      <td>1.569</td>\n      <td>-1.270</td>\n      <td>-0.659</td>\n      <td>-0.311</td>\n      <td>2.213</td>\n      <td>6.959</td>\n      <td>2.280</td>\n      <td>4.143</td>\n      <td>3.752</td>\n      <td>1.785</td>\n      <td>8.218</td>\n      <td>-0.032</td>\n      <td>-0.867</td>\n    </tr>\n    <tr>\n      <th>43823</th>\n      <td>-2.271</td>\n      <td>1.216</td>\n      <td>-1.826</td>\n      <td>-0.617</td>\n      <td>-0.345</td>\n      <td>2.469</td>\n      <td>6.652</td>\n      <td>2.224</td>\n      <td>4.128</td>\n      <td>3.790</td>\n      <td>1.444</td>\n      <td>7.735</td>\n      <td>-0.210</td>\n      <td>-0.936</td>\n    </tr>\n  </tbody>\n</table>\n</div>"
     },
     "metadata": {},
     "output_type": "display_data"
    }
   ],
   "source": [
    "# Fetching and concatenating the data\n",
    "temp_ds = pd.concat([pd.read_csv(os.path.join(path, dataset, fileName),\n",
    "                                 usecols= [\"tmp\"]) for fileName in fileList], axis= 1)\n",
    "temp_ds.columns = [i.removesuffix('.csv') for i in fileList]\n",
    "temp_ds = temp_ds.add_suffix(\"_A_TEMP\")\n",
    "display(temp_ds.tail(2))"
   ],
   "metadata": {
    "collapsed": false
   }
  },
  {
   "cell_type": "markdown",
   "source": [
    "### PREPARING X AND Y PART"
   ],
   "metadata": {
    "collapsed": false
   }
  },
  {
   "cell_type": "code",
   "execution_count": 14,
   "outputs": [
    {
     "name": "stdout",
     "output_type": "stream",
     "text": [
      "The train-test split index is:  34895\n",
      "The last date of train dataset: \n"
     ]
    },
    {
     "data": {
      "text/plain": "                   AA_ept  AT_A_TEMP  AT_LOAD_LAG1  AT_LOAD_LAG7  BE_A_TEMP  \\\n34894 2018-12-31 22:00:00     -1.688        6285.0        6179.0      5.823   \n34895 2018-12-31 23:00:00     -1.666        5897.0        5841.0      5.753   \n\n       BE_LOAD_LAG1  BE_LOAD_LAG7  BG_A_TEMP  BG_LOAD_LAG1  BG_LOAD_LAG7  ...  \\\n34894        9332.0        9742.0     -1.792        4528.0        4193.0  ...   \n34895        8891.0        9356.0     -1.982        4272.0        3953.0  ...   \n\n       NL_LOAD_LAG7  PT_A_TEMP  PT_LOAD_LAG1  PT_LOAD_LAG7  SI_A_TEMP  \\\n34894       11886.0      8.894        6037.4        5060.3     -1.295   \n34895       11253.0      8.347        5571.4        4907.2     -1.224   \n\n       SI_LOAD_LAG1  SI_LOAD_LAG7  SK_A_TEMP  SK_LOAD_LAG1  SK_LOAD_LAG7  \n34894       1276.29       1155.17     -4.733        2848.0        2833.0  \n34895       1174.16       1075.92     -4.664        2744.0        2722.0  \n\n[2 rows x 43 columns]",
      "text/html": "<div>\n<style scoped>\n    .dataframe tbody tr th:only-of-type {\n        vertical-align: middle;\n    }\n\n    .dataframe tbody tr th {\n        vertical-align: top;\n    }\n\n    .dataframe thead th {\n        text-align: right;\n    }\n</style>\n<table border=\"1\" class=\"dataframe\">\n  <thead>\n    <tr style=\"text-align: right;\">\n      <th></th>\n      <th>AA_ept</th>\n      <th>AT_A_TEMP</th>\n      <th>AT_LOAD_LAG1</th>\n      <th>AT_LOAD_LAG7</th>\n      <th>BE_A_TEMP</th>\n      <th>BE_LOAD_LAG1</th>\n      <th>BE_LOAD_LAG7</th>\n      <th>BG_A_TEMP</th>\n      <th>BG_LOAD_LAG1</th>\n      <th>BG_LOAD_LAG7</th>\n      <th>...</th>\n      <th>NL_LOAD_LAG7</th>\n      <th>PT_A_TEMP</th>\n      <th>PT_LOAD_LAG1</th>\n      <th>PT_LOAD_LAG7</th>\n      <th>SI_A_TEMP</th>\n      <th>SI_LOAD_LAG1</th>\n      <th>SI_LOAD_LAG7</th>\n      <th>SK_A_TEMP</th>\n      <th>SK_LOAD_LAG1</th>\n      <th>SK_LOAD_LAG7</th>\n    </tr>\n  </thead>\n  <tbody>\n    <tr>\n      <th>34894</th>\n      <td>2018-12-31 22:00:00</td>\n      <td>-1.688</td>\n      <td>6285.0</td>\n      <td>6179.0</td>\n      <td>5.823</td>\n      <td>9332.0</td>\n      <td>9742.0</td>\n      <td>-1.792</td>\n      <td>4528.0</td>\n      <td>4193.0</td>\n      <td>...</td>\n      <td>11886.0</td>\n      <td>8.894</td>\n      <td>6037.4</td>\n      <td>5060.3</td>\n      <td>-1.295</td>\n      <td>1276.29</td>\n      <td>1155.17</td>\n      <td>-4.733</td>\n      <td>2848.0</td>\n      <td>2833.0</td>\n    </tr>\n    <tr>\n      <th>34895</th>\n      <td>2018-12-31 23:00:00</td>\n      <td>-1.666</td>\n      <td>5897.0</td>\n      <td>5841.0</td>\n      <td>5.753</td>\n      <td>8891.0</td>\n      <td>9356.0</td>\n      <td>-1.982</td>\n      <td>4272.0</td>\n      <td>3953.0</td>\n      <td>...</td>\n      <td>11253.0</td>\n      <td>8.347</td>\n      <td>5571.4</td>\n      <td>4907.2</td>\n      <td>-1.224</td>\n      <td>1174.16</td>\n      <td>1075.92</td>\n      <td>-4.664</td>\n      <td>2744.0</td>\n      <td>2722.0</td>\n    </tr>\n  </tbody>\n</table>\n<p>2 rows × 43 columns</p>\n</div>"
     },
     "metadata": {},
     "output_type": "display_data"
    },
    {
     "name": "stdout",
     "output_type": "stream",
     "text": [
      "The first date of test dataset: \n"
     ]
    },
    {
     "data": {
      "text/plain": "                   AA_ept  AT_A_TEMP  AT_LOAD_LAG1  AT_LOAD_LAG7  BE_A_TEMP  \\\n34896 2019-01-01 00:00:00     -1.524        5644.0        5554.0      5.750   \n34897 2019-01-01 01:00:00     -1.346        5560.0        5392.0      5.733   \n\n       BE_LOAD_LAG1  BE_LOAD_LAG7  BG_A_TEMP  BG_LOAD_LAG1  BG_LOAD_LAG7  ...  \\\n34896        8500.0        8904.0     -2.142        4127.0        3803.0  ...   \n34897        8326.0        8510.0     -2.198        4070.0        3742.0  ...   \n\n       NL_LOAD_LAG7  PT_A_TEMP  PT_LOAD_LAG1  PT_LOAD_LAG7  SI_A_TEMP  \\\n34896       10657.0      7.831        5088.0        4726.7     -1.218   \n34897       10258.0      7.319        4714.7        4561.9     -1.289   \n\n       SI_LOAD_LAG1  SI_LOAD_LAG7  SK_A_TEMP  SK_LOAD_LAG1  SK_LOAD_LAG7  \n34896       1099.27       1024.71     -4.549        2619.0        2611.0  \n34897       1100.46        988.26     -4.404        2643.0        2571.0  \n\n[2 rows x 43 columns]",
      "text/html": "<div>\n<style scoped>\n    .dataframe tbody tr th:only-of-type {\n        vertical-align: middle;\n    }\n\n    .dataframe tbody tr th {\n        vertical-align: top;\n    }\n\n    .dataframe thead th {\n        text-align: right;\n    }\n</style>\n<table border=\"1\" class=\"dataframe\">\n  <thead>\n    <tr style=\"text-align: right;\">\n      <th></th>\n      <th>AA_ept</th>\n      <th>AT_A_TEMP</th>\n      <th>AT_LOAD_LAG1</th>\n      <th>AT_LOAD_LAG7</th>\n      <th>BE_A_TEMP</th>\n      <th>BE_LOAD_LAG1</th>\n      <th>BE_LOAD_LAG7</th>\n      <th>BG_A_TEMP</th>\n      <th>BG_LOAD_LAG1</th>\n      <th>BG_LOAD_LAG7</th>\n      <th>...</th>\n      <th>NL_LOAD_LAG7</th>\n      <th>PT_A_TEMP</th>\n      <th>PT_LOAD_LAG1</th>\n      <th>PT_LOAD_LAG7</th>\n      <th>SI_A_TEMP</th>\n      <th>SI_LOAD_LAG1</th>\n      <th>SI_LOAD_LAG7</th>\n      <th>SK_A_TEMP</th>\n      <th>SK_LOAD_LAG1</th>\n      <th>SK_LOAD_LAG7</th>\n    </tr>\n  </thead>\n  <tbody>\n    <tr>\n      <th>34896</th>\n      <td>2019-01-01 00:00:00</td>\n      <td>-1.524</td>\n      <td>5644.0</td>\n      <td>5554.0</td>\n      <td>5.750</td>\n      <td>8500.0</td>\n      <td>8904.0</td>\n      <td>-2.142</td>\n      <td>4127.0</td>\n      <td>3803.0</td>\n      <td>...</td>\n      <td>10657.0</td>\n      <td>7.831</td>\n      <td>5088.0</td>\n      <td>4726.7</td>\n      <td>-1.218</td>\n      <td>1099.27</td>\n      <td>1024.71</td>\n      <td>-4.549</td>\n      <td>2619.0</td>\n      <td>2611.0</td>\n    </tr>\n    <tr>\n      <th>34897</th>\n      <td>2019-01-01 01:00:00</td>\n      <td>-1.346</td>\n      <td>5560.0</td>\n      <td>5392.0</td>\n      <td>5.733</td>\n      <td>8326.0</td>\n      <td>8510.0</td>\n      <td>-2.198</td>\n      <td>4070.0</td>\n      <td>3742.0</td>\n      <td>...</td>\n      <td>10258.0</td>\n      <td>7.319</td>\n      <td>4714.7</td>\n      <td>4561.9</td>\n      <td>-1.289</td>\n      <td>1100.46</td>\n      <td>988.26</td>\n      <td>-4.404</td>\n      <td>2643.0</td>\n      <td>2571.0</td>\n    </tr>\n  </tbody>\n</table>\n<p>2 rows × 43 columns</p>\n</div>"
     },
     "metadata": {},
     "output_type": "display_data"
    },
    {
     "name": "stdout",
     "output_type": "stream",
     "text": [
      "\n",
      "\n",
      "LENGTH OF DATASET:  43656\n"
     ]
    },
    {
     "data": {
      "text/plain": "       AT_A_TEMP  AT_LOAD_LAG1  AT_LOAD_LAG7  BE_A_TEMP  BE_LOAD_LAG1  \\\n43654     -2.184        6602.0        5748.0      1.569        8991.0   \n43655     -2.271        6340.0        5444.0      1.216        8598.0   \n\n       BE_LOAD_LAG7  BG_A_TEMP  BG_LOAD_LAG1  BG_LOAD_LAG7  CH_A_TEMP  ...  \\\n43654        8691.0     -1.270        4520.0        3734.0     -0.659  ...   \n43655        8365.0     -1.826        4257.0        3510.0     -0.617  ...   \n\n       NL_LOAD_LAG7  PT_A_TEMP  PT_LOAD_LAG1  PT_LOAD_LAG7  SI_A_TEMP  \\\n43654       11622.0      8.218        5857.5        4814.1     -0.032   \n43655       11243.0      7.735        5406.3        4683.2     -0.210   \n\n       SI_LOAD_LAG1  SI_LOAD_LAG7  SK_A_TEMP  SK_LOAD_LAG1  SK_LOAD_LAG7  \n43654       1156.82       1074.13     -0.867        2963.0        2641.0  \n43655       1097.50        996.82     -0.936        2941.0        2557.0  \n\n[2 rows x 42 columns]",
      "text/html": "<div>\n<style scoped>\n    .dataframe tbody tr th:only-of-type {\n        vertical-align: middle;\n    }\n\n    .dataframe tbody tr th {\n        vertical-align: top;\n    }\n\n    .dataframe thead th {\n        text-align: right;\n    }\n</style>\n<table border=\"1\" class=\"dataframe\">\n  <thead>\n    <tr style=\"text-align: right;\">\n      <th></th>\n      <th>AT_A_TEMP</th>\n      <th>AT_LOAD_LAG1</th>\n      <th>AT_LOAD_LAG7</th>\n      <th>BE_A_TEMP</th>\n      <th>BE_LOAD_LAG1</th>\n      <th>BE_LOAD_LAG7</th>\n      <th>BG_A_TEMP</th>\n      <th>BG_LOAD_LAG1</th>\n      <th>BG_LOAD_LAG7</th>\n      <th>CH_A_TEMP</th>\n      <th>...</th>\n      <th>NL_LOAD_LAG7</th>\n      <th>PT_A_TEMP</th>\n      <th>PT_LOAD_LAG1</th>\n      <th>PT_LOAD_LAG7</th>\n      <th>SI_A_TEMP</th>\n      <th>SI_LOAD_LAG1</th>\n      <th>SI_LOAD_LAG7</th>\n      <th>SK_A_TEMP</th>\n      <th>SK_LOAD_LAG1</th>\n      <th>SK_LOAD_LAG7</th>\n    </tr>\n  </thead>\n  <tbody>\n    <tr>\n      <th>43654</th>\n      <td>-2.184</td>\n      <td>6602.0</td>\n      <td>5748.0</td>\n      <td>1.569</td>\n      <td>8991.0</td>\n      <td>8691.0</td>\n      <td>-1.270</td>\n      <td>4520.0</td>\n      <td>3734.0</td>\n      <td>-0.659</td>\n      <td>...</td>\n      <td>11622.0</td>\n      <td>8.218</td>\n      <td>5857.5</td>\n      <td>4814.1</td>\n      <td>-0.032</td>\n      <td>1156.82</td>\n      <td>1074.13</td>\n      <td>-0.867</td>\n      <td>2963.0</td>\n      <td>2641.0</td>\n    </tr>\n    <tr>\n      <th>43655</th>\n      <td>-2.271</td>\n      <td>6340.0</td>\n      <td>5444.0</td>\n      <td>1.216</td>\n      <td>8598.0</td>\n      <td>8365.0</td>\n      <td>-1.826</td>\n      <td>4257.0</td>\n      <td>3510.0</td>\n      <td>-0.617</td>\n      <td>...</td>\n      <td>11243.0</td>\n      <td>7.735</td>\n      <td>5406.3</td>\n      <td>4683.2</td>\n      <td>-0.210</td>\n      <td>1097.50</td>\n      <td>996.82</td>\n      <td>-0.936</td>\n      <td>2941.0</td>\n      <td>2557.0</td>\n    </tr>\n  </tbody>\n</table>\n<p>2 rows × 42 columns</p>\n</div>"
     },
     "metadata": {},
     "output_type": "display_data"
    }
   ],
   "source": [
    "# Concatenating the engineered features\n",
    "X_continuous = pd.concat([date_col, load_lag_1, load_lag_7, temp_ds], axis=1)\n",
    "X_continuous = X_continuous.sort_index(axis=1)\n",
    "X_continuous = X_continuous.iloc[drop_idx:].reset_index(drop=True)\n",
    "\n",
    "# Fetching the train index from the processed dataframe\n",
    "train_end_idx = X_continuous[X_continuous.AA_ept.dt.year.between(2015, 2018)].index[-1]\n",
    "print(\"The train-test split index is: \", train_end_idx)\n",
    "print(\"The last date of train dataset: \")\n",
    "display(X_continuous.loc[:train_end_idx].tail(2))\n",
    "print(\"The first date of test dataset: \")\n",
    "display(X_continuous.loc[train_end_idx + 1:].head(2))\n",
    "print('\\n')\n",
    "\n",
    "# Dropping the datetime column after fetching the train-test split index\n",
    "X_continuous = X_continuous.drop(columns=['AA_ept'])\n",
    "print(\"LENGTH OF DATASET: \", len(X_continuous))\n",
    "display(X_continuous.tail(2))"
   ],
   "metadata": {
    "collapsed": false
   }
  },
  {
   "cell_type": "code",
   "execution_count": 15,
   "outputs": [
    {
     "name": "stdout",
     "output_type": "stream",
     "text": [
      "LENGTH OF DATASET:  43656\n"
     ]
    },
    {
     "data": {
      "text/plain": "        0    1    2    3    4    5    6    7    8    9   ...   64   65   66  \\\n43654  0.0  0.0  0.0  0.0  0.0  0.0  0.0  0.0  0.0  0.0  ...  0.0  1.0  0.0   \n43655  0.0  0.0  0.0  0.0  0.0  0.0  0.0  0.0  0.0  0.0  ...  0.0  0.0  1.0   \n\n        67   68   69   70   71   72   73  \n43654  0.0  1.0  0.0  0.0  0.0  0.0  0.0  \n43655  0.0  1.0  0.0  0.0  0.0  0.0  0.0  \n\n[2 rows x 74 columns]",
      "text/html": "<div>\n<style scoped>\n    .dataframe tbody tr th:only-of-type {\n        vertical-align: middle;\n    }\n\n    .dataframe tbody tr th {\n        vertical-align: top;\n    }\n\n    .dataframe thead th {\n        text-align: right;\n    }\n</style>\n<table border=\"1\" class=\"dataframe\">\n  <thead>\n    <tr style=\"text-align: right;\">\n      <th></th>\n      <th>0</th>\n      <th>1</th>\n      <th>2</th>\n      <th>3</th>\n      <th>4</th>\n      <th>5</th>\n      <th>6</th>\n      <th>7</th>\n      <th>8</th>\n      <th>9</th>\n      <th>...</th>\n      <th>64</th>\n      <th>65</th>\n      <th>66</th>\n      <th>67</th>\n      <th>68</th>\n      <th>69</th>\n      <th>70</th>\n      <th>71</th>\n      <th>72</th>\n      <th>73</th>\n    </tr>\n  </thead>\n  <tbody>\n    <tr>\n      <th>43654</th>\n      <td>0.0</td>\n      <td>0.0</td>\n      <td>0.0</td>\n      <td>0.0</td>\n      <td>0.0</td>\n      <td>0.0</td>\n      <td>0.0</td>\n      <td>0.0</td>\n      <td>0.0</td>\n      <td>0.0</td>\n      <td>...</td>\n      <td>0.0</td>\n      <td>1.0</td>\n      <td>0.0</td>\n      <td>0.0</td>\n      <td>1.0</td>\n      <td>0.0</td>\n      <td>0.0</td>\n      <td>0.0</td>\n      <td>0.0</td>\n      <td>0.0</td>\n    </tr>\n    <tr>\n      <th>43655</th>\n      <td>0.0</td>\n      <td>0.0</td>\n      <td>0.0</td>\n      <td>0.0</td>\n      <td>0.0</td>\n      <td>0.0</td>\n      <td>0.0</td>\n      <td>0.0</td>\n      <td>0.0</td>\n      <td>0.0</td>\n      <td>...</td>\n      <td>0.0</td>\n      <td>0.0</td>\n      <td>1.0</td>\n      <td>0.0</td>\n      <td>1.0</td>\n      <td>0.0</td>\n      <td>0.0</td>\n      <td>0.0</td>\n      <td>0.0</td>\n      <td>0.0</td>\n    </tr>\n  </tbody>\n</table>\n<p>2 rows × 74 columns</p>\n</div>"
     },
     "metadata": {},
     "output_type": "display_data"
    }
   ],
   "source": [
    "X_categorical = pd.DataFrame(categorical_data)\n",
    "X_categorical = X_categorical.iloc[drop_idx:].reset_index(drop=True)\n",
    "print(\"LENGTH OF DATASET: \", len(X_categorical))\n",
    "display(X_categorical.tail(2))"
   ],
   "metadata": {
    "collapsed": false
   }
  },
  {
   "cell_type": "code",
   "execution_count": 16,
   "outputs": [
    {
     "name": "stdout",
     "output_type": "stream",
     "text": [
      "LENGTH OF DATASET:  43656\n"
     ]
    },
    {
     "data": {
      "text/plain": "       AT_LOAD  BE_LOAD  BG_LOAD  CH_LOAD  CZ_LOAD  DK_LOAD  ES_LOAD  FR_LOAD  \\\n43654     6206     9392   4410.0  6451.50  5822.73  3309.25  23911.0  65865.0   \n43655     5967     9069   4243.0  6891.33  5611.71  3315.91  22963.0  64677.0   \n\n       GR_LOAD  IT_LOAD  NL_LOAD  PT_LOAD  SI_LOAD  SK_LOAD  \n43654  5657.63  23876.0    11418   5484.7  1134.03   2980.0  \n43655  5337.38  22510.0    11215   5243.8  1086.73   2814.0  ",
      "text/html": "<div>\n<style scoped>\n    .dataframe tbody tr th:only-of-type {\n        vertical-align: middle;\n    }\n\n    .dataframe tbody tr th {\n        vertical-align: top;\n    }\n\n    .dataframe thead th {\n        text-align: right;\n    }\n</style>\n<table border=\"1\" class=\"dataframe\">\n  <thead>\n    <tr style=\"text-align: right;\">\n      <th></th>\n      <th>AT_LOAD</th>\n      <th>BE_LOAD</th>\n      <th>BG_LOAD</th>\n      <th>CH_LOAD</th>\n      <th>CZ_LOAD</th>\n      <th>DK_LOAD</th>\n      <th>ES_LOAD</th>\n      <th>FR_LOAD</th>\n      <th>GR_LOAD</th>\n      <th>IT_LOAD</th>\n      <th>NL_LOAD</th>\n      <th>PT_LOAD</th>\n      <th>SI_LOAD</th>\n      <th>SK_LOAD</th>\n    </tr>\n  </thead>\n  <tbody>\n    <tr>\n      <th>43654</th>\n      <td>6206</td>\n      <td>9392</td>\n      <td>4410.0</td>\n      <td>6451.50</td>\n      <td>5822.73</td>\n      <td>3309.25</td>\n      <td>23911.0</td>\n      <td>65865.0</td>\n      <td>5657.63</td>\n      <td>23876.0</td>\n      <td>11418</td>\n      <td>5484.7</td>\n      <td>1134.03</td>\n      <td>2980.0</td>\n    </tr>\n    <tr>\n      <th>43655</th>\n      <td>5967</td>\n      <td>9069</td>\n      <td>4243.0</td>\n      <td>6891.33</td>\n      <td>5611.71</td>\n      <td>3315.91</td>\n      <td>22963.0</td>\n      <td>64677.0</td>\n      <td>5337.38</td>\n      <td>22510.0</td>\n      <td>11215</td>\n      <td>5243.8</td>\n      <td>1086.73</td>\n      <td>2814.0</td>\n    </tr>\n  </tbody>\n</table>\n</div>"
     },
     "metadata": {},
     "output_type": "display_data"
    }
   ],
   "source": [
    "Y = load_ds.copy()\n",
    "Y = Y.sort_index(axis=1)\n",
    "Y = Y.iloc[drop_idx:].reset_index(drop=True)\n",
    "print(\"LENGTH OF DATASET: \", len(Y))\n",
    "display(Y.tail(2))"
   ],
   "metadata": {
    "collapsed": false
   }
  },
  {
   "cell_type": "code",
   "execution_count": 17,
   "outputs": [
    {
     "name": "stdout",
     "output_type": "stream",
     "text": [
      "Train samples:  34896\n",
      "Test samples:  8760\n"
     ]
    }
   ],
   "source": [
    "### SPLITTING THE DATA INTO TRAINING AND TESTING\n",
    "print(\"Train samples: \", len(X_continuous.loc[:train_end_idx]))\n",
    "print(\"Test samples: \", len(X_continuous.loc[train_end_idx + 1:]))"
   ],
   "metadata": {
    "collapsed": false
   }
  },
  {
   "cell_type": "code",
   "execution_count": 18,
   "outputs": [
    {
     "name": "stdout",
     "output_type": "stream",
     "text": [
      "Train split of continuous data: \n"
     ]
    },
    {
     "data": {
      "text/plain": "       AT_A_TEMP  AT_LOAD_LAG1  AT_LOAD_LAG7  BE_A_TEMP  BE_LOAD_LAG1  \\\n34894     -1.688        6285.0        6179.0      5.823        9332.0   \n34895     -1.666        5897.0        5841.0      5.753        8891.0   \n\n       BE_LOAD_LAG7  BG_A_TEMP  BG_LOAD_LAG1  BG_LOAD_LAG7  CH_A_TEMP  ...  \\\n34894        9742.0     -1.792        4528.0        4193.0      0.046  ...   \n34895        9356.0     -1.982        4272.0        3953.0     -0.070  ...   \n\n       NL_LOAD_LAG7  PT_A_TEMP  PT_LOAD_LAG1  PT_LOAD_LAG7  SI_A_TEMP  \\\n34894       11886.0      8.894        6037.4        5060.3     -1.295   \n34895       11253.0      8.347        5571.4        4907.2     -1.224   \n\n       SI_LOAD_LAG1  SI_LOAD_LAG7  SK_A_TEMP  SK_LOAD_LAG1  SK_LOAD_LAG7  \n34894       1276.29       1155.17     -4.733        2848.0        2833.0  \n34895       1174.16       1075.92     -4.664        2744.0        2722.0  \n\n[2 rows x 42 columns]",
      "text/html": "<div>\n<style scoped>\n    .dataframe tbody tr th:only-of-type {\n        vertical-align: middle;\n    }\n\n    .dataframe tbody tr th {\n        vertical-align: top;\n    }\n\n    .dataframe thead th {\n        text-align: right;\n    }\n</style>\n<table border=\"1\" class=\"dataframe\">\n  <thead>\n    <tr style=\"text-align: right;\">\n      <th></th>\n      <th>AT_A_TEMP</th>\n      <th>AT_LOAD_LAG1</th>\n      <th>AT_LOAD_LAG7</th>\n      <th>BE_A_TEMP</th>\n      <th>BE_LOAD_LAG1</th>\n      <th>BE_LOAD_LAG7</th>\n      <th>BG_A_TEMP</th>\n      <th>BG_LOAD_LAG1</th>\n      <th>BG_LOAD_LAG7</th>\n      <th>CH_A_TEMP</th>\n      <th>...</th>\n      <th>NL_LOAD_LAG7</th>\n      <th>PT_A_TEMP</th>\n      <th>PT_LOAD_LAG1</th>\n      <th>PT_LOAD_LAG7</th>\n      <th>SI_A_TEMP</th>\n      <th>SI_LOAD_LAG1</th>\n      <th>SI_LOAD_LAG7</th>\n      <th>SK_A_TEMP</th>\n      <th>SK_LOAD_LAG1</th>\n      <th>SK_LOAD_LAG7</th>\n    </tr>\n  </thead>\n  <tbody>\n    <tr>\n      <th>34894</th>\n      <td>-1.688</td>\n      <td>6285.0</td>\n      <td>6179.0</td>\n      <td>5.823</td>\n      <td>9332.0</td>\n      <td>9742.0</td>\n      <td>-1.792</td>\n      <td>4528.0</td>\n      <td>4193.0</td>\n      <td>0.046</td>\n      <td>...</td>\n      <td>11886.0</td>\n      <td>8.894</td>\n      <td>6037.4</td>\n      <td>5060.3</td>\n      <td>-1.295</td>\n      <td>1276.29</td>\n      <td>1155.17</td>\n      <td>-4.733</td>\n      <td>2848.0</td>\n      <td>2833.0</td>\n    </tr>\n    <tr>\n      <th>34895</th>\n      <td>-1.666</td>\n      <td>5897.0</td>\n      <td>5841.0</td>\n      <td>5.753</td>\n      <td>8891.0</td>\n      <td>9356.0</td>\n      <td>-1.982</td>\n      <td>4272.0</td>\n      <td>3953.0</td>\n      <td>-0.070</td>\n      <td>...</td>\n      <td>11253.0</td>\n      <td>8.347</td>\n      <td>5571.4</td>\n      <td>4907.2</td>\n      <td>-1.224</td>\n      <td>1174.16</td>\n      <td>1075.92</td>\n      <td>-4.664</td>\n      <td>2744.0</td>\n      <td>2722.0</td>\n    </tr>\n  </tbody>\n</table>\n<p>2 rows × 42 columns</p>\n</div>"
     },
     "metadata": {},
     "output_type": "display_data"
    },
    {
     "name": "stdout",
     "output_type": "stream",
     "text": [
      "Train split of categorical data: \n"
     ]
    },
    {
     "data": {
      "text/plain": "        0    1    2    3    4    5    6    7    8    9   ...   64   65   66  \\\n34894  0.0  0.0  0.0  0.0  0.0  0.0  0.0  0.0  0.0  0.0  ...  0.0  1.0  0.0   \n34895  0.0  0.0  0.0  0.0  0.0  0.0  0.0  0.0  0.0  0.0  ...  0.0  0.0  1.0   \n\n        67   68   69   70   71   72   73  \n34894  1.0  0.0  0.0  0.0  0.0  0.0  0.0  \n34895  1.0  0.0  0.0  0.0  0.0  0.0  0.0  \n\n[2 rows x 74 columns]",
      "text/html": "<div>\n<style scoped>\n    .dataframe tbody tr th:only-of-type {\n        vertical-align: middle;\n    }\n\n    .dataframe tbody tr th {\n        vertical-align: top;\n    }\n\n    .dataframe thead th {\n        text-align: right;\n    }\n</style>\n<table border=\"1\" class=\"dataframe\">\n  <thead>\n    <tr style=\"text-align: right;\">\n      <th></th>\n      <th>0</th>\n      <th>1</th>\n      <th>2</th>\n      <th>3</th>\n      <th>4</th>\n      <th>5</th>\n      <th>6</th>\n      <th>7</th>\n      <th>8</th>\n      <th>9</th>\n      <th>...</th>\n      <th>64</th>\n      <th>65</th>\n      <th>66</th>\n      <th>67</th>\n      <th>68</th>\n      <th>69</th>\n      <th>70</th>\n      <th>71</th>\n      <th>72</th>\n      <th>73</th>\n    </tr>\n  </thead>\n  <tbody>\n    <tr>\n      <th>34894</th>\n      <td>0.0</td>\n      <td>0.0</td>\n      <td>0.0</td>\n      <td>0.0</td>\n      <td>0.0</td>\n      <td>0.0</td>\n      <td>0.0</td>\n      <td>0.0</td>\n      <td>0.0</td>\n      <td>0.0</td>\n      <td>...</td>\n      <td>0.0</td>\n      <td>1.0</td>\n      <td>0.0</td>\n      <td>1.0</td>\n      <td>0.0</td>\n      <td>0.0</td>\n      <td>0.0</td>\n      <td>0.0</td>\n      <td>0.0</td>\n      <td>0.0</td>\n    </tr>\n    <tr>\n      <th>34895</th>\n      <td>0.0</td>\n      <td>0.0</td>\n      <td>0.0</td>\n      <td>0.0</td>\n      <td>0.0</td>\n      <td>0.0</td>\n      <td>0.0</td>\n      <td>0.0</td>\n      <td>0.0</td>\n      <td>0.0</td>\n      <td>...</td>\n      <td>0.0</td>\n      <td>0.0</td>\n      <td>1.0</td>\n      <td>1.0</td>\n      <td>0.0</td>\n      <td>0.0</td>\n      <td>0.0</td>\n      <td>0.0</td>\n      <td>0.0</td>\n      <td>0.0</td>\n    </tr>\n  </tbody>\n</table>\n<p>2 rows × 74 columns</p>\n</div>"
     },
     "metadata": {},
     "output_type": "display_data"
    },
    {
     "name": "stdout",
     "output_type": "stream",
     "text": [
      "Train split of target data Y: \n"
     ]
    },
    {
     "data": {
      "text/plain": "       AT_LOAD  BE_LOAD  BG_LOAD  CH_LOAD  CZ_LOAD  DK_LOAD  ES_LOAD  FR_LOAD  \\\n34894     6290     9325   4488.0  6660.69  5917.23  3341.65  24455.0  63901.0   \n34895     6075     8973   4321.0  7126.16  5719.26  3260.30  23401.0  62176.0   \n\n       GR_LOAD  IT_LOAD  NL_LOAD  PT_LOAD  SI_LOAD  SK_LOAD  \n34894  5655.06  24941.0    11239   5276.8  1153.53   2895.0  \n34895  5319.33  23644.0    11285   5029.5  1089.47   2835.0  ",
      "text/html": "<div>\n<style scoped>\n    .dataframe tbody tr th:only-of-type {\n        vertical-align: middle;\n    }\n\n    .dataframe tbody tr th {\n        vertical-align: top;\n    }\n\n    .dataframe thead th {\n        text-align: right;\n    }\n</style>\n<table border=\"1\" class=\"dataframe\">\n  <thead>\n    <tr style=\"text-align: right;\">\n      <th></th>\n      <th>AT_LOAD</th>\n      <th>BE_LOAD</th>\n      <th>BG_LOAD</th>\n      <th>CH_LOAD</th>\n      <th>CZ_LOAD</th>\n      <th>DK_LOAD</th>\n      <th>ES_LOAD</th>\n      <th>FR_LOAD</th>\n      <th>GR_LOAD</th>\n      <th>IT_LOAD</th>\n      <th>NL_LOAD</th>\n      <th>PT_LOAD</th>\n      <th>SI_LOAD</th>\n      <th>SK_LOAD</th>\n    </tr>\n  </thead>\n  <tbody>\n    <tr>\n      <th>34894</th>\n      <td>6290</td>\n      <td>9325</td>\n      <td>4488.0</td>\n      <td>6660.69</td>\n      <td>5917.23</td>\n      <td>3341.65</td>\n      <td>24455.0</td>\n      <td>63901.0</td>\n      <td>5655.06</td>\n      <td>24941.0</td>\n      <td>11239</td>\n      <td>5276.8</td>\n      <td>1153.53</td>\n      <td>2895.0</td>\n    </tr>\n    <tr>\n      <th>34895</th>\n      <td>6075</td>\n      <td>8973</td>\n      <td>4321.0</td>\n      <td>7126.16</td>\n      <td>5719.26</td>\n      <td>3260.30</td>\n      <td>23401.0</td>\n      <td>62176.0</td>\n      <td>5319.33</td>\n      <td>23644.0</td>\n      <td>11285</td>\n      <td>5029.5</td>\n      <td>1089.47</td>\n      <td>2835.0</td>\n    </tr>\n  </tbody>\n</table>\n</div>"
     },
     "metadata": {},
     "output_type": "display_data"
    }
   ],
   "source": [
    "# Splitting the continuous data into training and test split\n",
    "X_continuous_train,  X_continuous_test = X_continuous.loc[:train_end_idx], X_continuous.loc[train_end_idx+1:]\n",
    "print(\"Train split of continuous data: \")\n",
    "display(X_continuous_train.tail(2))\n",
    "\n",
    "# Splitting the categorical data into training and test split\n",
    "X_categorical_train, X_categorical_test = X_categorical.loc[:train_end_idx], X_categorical.loc[train_end_idx+1:]\n",
    "print(\"Train split of categorical data: \")\n",
    "display(X_categorical_train.tail(2))\n",
    "\n",
    "# Splitting the target into training and test split\n",
    "Y_train, Y_test = Y.loc[:train_end_idx],  Y.loc[train_end_idx+1:]\n",
    "print(\"Train split of target data Y: \")\n",
    "display(Y_train.tail(2))"
   ],
   "metadata": {
    "collapsed": false
   }
  },
  {
   "cell_type": "code",
   "execution_count": 19,
   "outputs": [
    {
     "name": "stdout",
     "output_type": "stream",
     "text": [
      "Shape for continuous variable: \n",
      "(34896, 42) (8760, 42) \n",
      "\n",
      "Shape for categorical variable: \n",
      "(34896, 74) (8760, 74) \n",
      "\n",
      "Shape for target variable: \n",
      "(34896, 14) (8760, 14) \n",
      "\n",
      "Does it cover entire training set:  True\n"
     ]
    }
   ],
   "source": [
    "print(\"Shape for continuous variable: \")\n",
    "print(X_continuous_train.shape, X_continuous_test.shape, \"\\n\")\n",
    "print(\"Shape for categorical variable: \")\n",
    "print(X_categorical_train.shape, X_categorical_test.shape, \"\\n\")\n",
    "print(\"Shape for target variable: \")\n",
    "print(Y_train.shape, Y_test.shape, \"\\n\")\n",
    "print(\"Does it cover entire training set: \", (X_continuous_train.shape[0] +\n",
    "                                              X_continuous_test.shape[0]) == len(X_continuous))"
   ],
   "metadata": {
    "collapsed": false
   }
  },
  {
   "cell_type": "markdown",
   "source": [
    "### SCALING THE DATA"
   ],
   "metadata": {
    "collapsed": false
   }
  },
  {
   "cell_type": "code",
   "execution_count": 20,
   "outputs": [],
   "source": [
    "# Scaling values using min-max scaler\n",
    "mm_scaler_X = MinMaxScaler()\n",
    "mm_scaler_Y = MinMaxScaler()"
   ],
   "metadata": {
    "collapsed": false
   }
  },
  {
   "cell_type": "code",
   "execution_count": 21,
   "outputs": [
    {
     "name": "stdout",
     "output_type": "stream",
     "text": [
      "Scaled continuous X train: \n"
     ]
    },
    {
     "data": {
      "text/plain": "array([[0.25922313, 0.44935398, 0.52095867, ..., 0.17145333, 0.04071747,\n        0.03253469],\n       [0.25956159, 0.42913502, 0.49926028, ..., 0.17617239, 0.03561142,\n        0.03253469],\n       [0.26228921, 0.41463655, 0.46187987, ..., 0.18079929, 0.0344331 ,\n        0.02585755],\n       ...,\n       [0.31819539, 0.60410297, 0.57579643, ..., 0.26456275, 0.04981671,\n        0.0441215 ],\n       [0.31672208, 0.55439392, 0.54393924, ..., 0.26183454, 0.04039015,\n        0.03940822],\n       [0.31716009, 0.51612585, 0.51060262, ..., 0.26310647, 0.03358209,\n        0.03214192]])"
     },
     "metadata": {},
     "output_type": "display_data"
    }
   ],
   "source": [
    "# Scaling continuous X train part\n",
    "X_scaled_continuous_train = mm_scaler_X.fit_transform(X_continuous_train)\n",
    "\n",
    "# Using the fit_scaler to scale the X test part\n",
    "X_scaled_continuous_test = mm_scaler_X.transform(X_continuous_test)\n",
    "\n",
    "print(\"Scaled continuous X train: \")\n",
    "display(X_scaled_continuous_train)"
   ],
   "metadata": {
    "collapsed": false
   }
  },
  {
   "cell_type": "code",
   "execution_count": 22,
   "outputs": [
    {
     "name": "stdout",
     "output_type": "stream",
     "text": [
      "Scaled continuous Y train: \n"
     ]
    },
    {
     "data": {
      "text/plain": "array([[0.56149522, 0.55644707, 0.46707413, ..., 0.49710625, 0.3227454 ,\n        0.0610762 ],\n       [0.5617911 , 0.4950732 , 0.45347003, ..., 0.40047948, 0.28676811,\n        0.05852317],\n       [0.56741296, 0.45565878, 0.46253943, ..., 0.34880411, 0.30950476,\n        0.05780309],\n       ...,\n       [0.58240458, 0.37317005, 0.392153  , ..., 0.39579704, 0.25167227,\n        0.04621629],\n       [0.55488707, 0.38837275, 0.36869085, ..., 0.35281227, 0.2193646 ,\n        0.04346688],\n       [0.53368182, 0.3388232 , 0.33576498, ..., 0.3064936 , 0.17931759,\n        0.03953915]])"
     },
     "metadata": {},
     "output_type": "display_data"
    }
   ],
   "source": [
    "# Scaling target Y train part\n",
    "Y_scaled_train = mm_scaler_Y.fit_transform(Y_train)\n",
    "\n",
    "# Using the fit_scaler to scale the Y test part\n",
    "Y_scaled_test = mm_scaler_Y.transform(Y_test)\n",
    "\n",
    "print(\"Scaled continuous Y train: \")\n",
    "display(Y_scaled_train)"
   ],
   "metadata": {
    "collapsed": false
   }
  },
  {
   "cell_type": "code",
   "execution_count": 23,
   "outputs": [],
   "source": [
    "# Converting a multivariate dataset into slices of samples\n",
    "def split_data(calendar_data, x_data, y_data, n_steps, n_overlap):\n",
    "    calendar, x, y = list(), list(), list()\n",
    "    for i in range(0, len(x_data), n_steps-n_overlap):\n",
    "\n",
    "        # Finding the split index\n",
    "        end_idx = i + n_steps\n",
    "\n",
    "        # Break the loop at end of dataset\n",
    "        if end_idx > len(x_data):\n",
    "            break\n",
    "\n",
    "        # Appending the custom created samples with desired time-steps and features\n",
    "        sample_calendar, sample_x, sample_y = calendar_data[i:end_idx, :], \\\n",
    "                                              x_data[i:end_idx, :], \\\n",
    "                                              y_data[i:end_idx, :]\n",
    "        calendar.append(sample_calendar)\n",
    "        x.append(sample_x)\n",
    "        y.append(sample_y)\n",
    "\n",
    "    return np.array(calendar), np.array(x), np.array(y)"
   ],
   "metadata": {
    "collapsed": false
   }
  },
  {
   "cell_type": "code",
   "execution_count": 24,
   "outputs": [
    {
     "name": "stdout",
     "output_type": "stream",
     "text": [
      "Shape of the created samples for training:  (34873, 24, 14)\n",
      "Shape of the created samples for testing:  (365, 24, 14)\n"
     ]
    }
   ],
   "source": [
    "num_steps = 24\n",
    "train_num_overlap = 23\n",
    "test_num_overlap = 0\n",
    "\n",
    "processed_data_train = split_data(calendar_data=X_categorical_train.to_numpy(),\n",
    "                            x_data=X_scaled_continuous_train,\n",
    "                            y_data=Y_scaled_train,\n",
    "                            n_steps=num_steps, n_overlap=train_num_overlap)\n",
    "\n",
    "processed_data_test = split_data(calendar_data=X_categorical_test.to_numpy(),\n",
    "                            x_data=X_scaled_continuous_test,\n",
    "                            y_data=Y_scaled_test,\n",
    "                            n_steps=num_steps, n_overlap=test_num_overlap)\n",
    "\n",
    "print(\"Shape of the created samples for training: \", processed_data_train[2].shape)\n",
    "print(\"Shape of the created samples for testing: \", processed_data_test[2].shape)"
   ],
   "metadata": {
    "collapsed": false
   }
  },
  {
   "cell_type": "code",
   "execution_count": 25,
   "outputs": [
    {
     "name": "stdout",
     "output_type": "stream",
     "text": [
      "First sample: \n",
      "\n"
     ]
    },
    {
     "data": {
      "text/plain": "array([[0.25922313, 0.44935398, 0.52095867, ..., 0.17145333, 0.04071747,\n        0.03253469],\n       [0.25956159, 0.42913502, 0.49926028, ..., 0.17617239, 0.03561142,\n        0.03253469],\n       [0.26228921, 0.41463655, 0.46187987, ..., 0.18079929, 0.0344331 ,\n        0.02585755],\n       ...,\n       [0.3447349 , 0.53456948, 0.54808166, ..., 0.22987023, 0.06533124,\n        0.04503797],\n       [0.34983176, 0.49945754, 0.51287109, ..., 0.23436809, 0.05577376,\n        0.03665881],\n       [0.35697931, 0.52362166, 0.48022487, ..., 0.2405803 , 0.04981671,\n        0.03168369]])"
     },
     "metadata": {},
     "output_type": "display_data"
    }
   ],
   "source": [
    "## Sample check for sanity\n",
    "print(\"First sample: \\n\")\n",
    "display(processed_data_train[1][0])"
   ],
   "metadata": {
    "collapsed": false
   }
  },
  {
   "cell_type": "code",
   "execution_count": 26,
   "outputs": [
    {
     "name": "stdout",
     "output_type": "stream",
     "text": [
      "Second sample: \n",
      "\n"
     ]
    },
    {
     "data": {
      "text/plain": "array([[0.25956159, 0.42913502, 0.49926028, ..., 0.17617239, 0.03561142,\n        0.03253469],\n       [0.26228921, 0.41463655, 0.46187987, ..., 0.18079929, 0.0344331 ,\n        0.02585755],\n       [0.26384216, 0.42509123, 0.45221422, ..., 0.18271641, 0.03731343,\n        0.02533386],\n       ...,\n       [0.34983176, 0.49945754, 0.51287109, ..., 0.23436809, 0.05577376,\n        0.03665881],\n       [0.35697931, 0.52362166, 0.48022487, ..., 0.2405803 , 0.04981671,\n        0.03168369],\n       [0.36155852, 0.48367689, 0.44787454, ..., 0.25175122, 0.04438335,\n        0.02533386]])"
     },
     "metadata": {},
     "output_type": "display_data"
    }
   ],
   "source": [
    "print(\"Second sample: \\n\")\n",
    "display(processed_data_train[1][1])"
   ],
   "metadata": {
    "collapsed": false
   }
  },
  {
   "cell_type": "code",
   "execution_count": 27,
   "outputs": [],
   "source": [
    "# Dividing the sampled data - training\n",
    "categorical_samples_training = torch.Tensor(processed_data_train[0])\n",
    "continuous_samples_training = torch.Tensor(processed_data_train[1])\n",
    "target_samples_training = torch.Tensor(processed_data_train[2])\n",
    "\n",
    "# Dividing the sampled data - testing\n",
    "categorical_samples_testing = torch.Tensor(processed_data_test[0])\n",
    "continuous_samples_testing = torch.Tensor(processed_data_test[1])\n",
    "target_samples_testing = torch.Tensor(processed_data_test[2])"
   ],
   "metadata": {
    "collapsed": false
   }
  },
  {
   "cell_type": "code",
   "execution_count": 28,
   "outputs": [
    {
     "name": "stdout",
     "output_type": "stream",
     "text": [
      "Shape of categorical samples - training:  torch.Size([34873, 24, 74])\n",
      "Shape of continuous samples - training:  torch.Size([34873, 24, 42])\n",
      "Shape of target samples - training:  torch.Size([34873, 24, 14])\n",
      "\n",
      "\n",
      "Shape of categorical samples - testing:  torch.Size([365, 24, 74])\n",
      "Shape of continuous samples - testing:  torch.Size([365, 24, 42])\n",
      "Shape of target samples - testing:  torch.Size([365, 24, 14])\n"
     ]
    }
   ],
   "source": [
    "print(\"Shape of categorical samples - training: \", categorical_samples_training.shape)\n",
    "print(\"Shape of continuous samples - training: \", continuous_samples_training.shape)\n",
    "print(\"Shape of target samples - training: \", target_samples_training.shape)\n",
    "print(\"\\n\")\n",
    "print(\"Shape of categorical samples - testing: \", categorical_samples_testing.shape)\n",
    "print(\"Shape of continuous samples - testing: \", continuous_samples_testing.shape)\n",
    "print(\"Shape of target samples - testing: \", target_samples_testing.shape)"
   ],
   "metadata": {
    "collapsed": false
   }
  },
  {
   "cell_type": "markdown",
   "source": [
    "### CREATING DATALOADER"
   ],
   "metadata": {
    "collapsed": false
   }
  },
  {
   "cell_type": "code",
   "execution_count": 29,
   "outputs": [],
   "source": [
    "BATCH_SIZE = 128"
   ],
   "metadata": {
    "collapsed": false
   }
  },
  {
   "cell_type": "code",
   "execution_count": 30,
   "outputs": [],
   "source": [
    "class TimeSeriesLoader(Dataset):\n",
    "    def __init__(self, categorical, continuous, target):\n",
    "        self.categorical, self.continuous, self.target = categorical, continuous, target\n",
    "\n",
    "    def __len__(self):\n",
    "        return len(self.categorical)\n",
    "\n",
    "    def __getitem__(self, idx):\n",
    "        return self.categorical[idx], self.continuous[idx], self.target[idx]"
   ],
   "metadata": {
    "collapsed": false
   }
  },
  {
   "cell_type": "code",
   "execution_count": 31,
   "outputs": [],
   "source": [
    "train_dataset = TimeSeriesLoader(categorical_samples_training,\n",
    "                                 continuous_samples_training,\n",
    "                                 target_samples_training)\n",
    "\n",
    "test_dataset = TimeSeriesLoader(categorical_samples_testing,\n",
    "                                continuous_samples_testing,\n",
    "                                target_samples_testing)"
   ],
   "metadata": {
    "collapsed": false
   }
  },
  {
   "cell_type": "code",
   "execution_count": 32,
   "outputs": [],
   "source": [
    "train_dataloader = DataLoader(train_dataset, batch_size=BATCH_SIZE, shuffle=True, drop_last=False)\n",
    "\n",
    "test_dataloader = DataLoader(test_dataset, batch_size=BATCH_SIZE, shuffle=False, drop_last=False)"
   ],
   "metadata": {
    "collapsed": false
   }
  },
  {
   "cell_type": "code",
   "execution_count": 33,
   "outputs": [
    {
     "name": "stdout",
     "output_type": "stream",
     "text": [
      "Number of batches in train dataloader:  273\n",
      "Number of batches in test dataloader:  3\n"
     ]
    }
   ],
   "source": [
    "print(\"Number of batches in train dataloader: \", len(train_dataloader))\n",
    "print(\"Number of batches in test dataloader: \", len(test_dataloader))"
   ],
   "metadata": {
    "collapsed": false
   }
  },
  {
   "cell_type": "code",
   "execution_count": 34,
   "outputs": [
    {
     "name": "stdout",
     "output_type": "stream",
     "text": [
      "Shape of categorical variables:  torch.Size([34873, 24, 74])\n",
      "Shape of continuous variables:  torch.Size([34873, 24, 42])\n",
      "Shape of target variables:  torch.Size([34873, 24, 14])\n"
     ]
    }
   ],
   "source": [
    "categorical_var_shape = train_dataloader.dataset.categorical.shape\n",
    "continuous_var_shape = train_dataloader.dataset.continuous.shape\n",
    "target_var_shape = train_dataloader.dataset.target.shape\n",
    "\n",
    "print(\"Shape of categorical variables: \", categorical_var_shape)\n",
    "print(\"Shape of continuous variables: \", continuous_var_shape)\n",
    "print(\"Shape of target variables: \", target_var_shape)"
   ],
   "metadata": {
    "collapsed": false
   }
  },
  {
   "cell_type": "code",
   "execution_count": 35,
   "outputs": [
    {
     "name": "stdout",
     "output_type": "stream",
     "text": [
      "Number of zones:  14\n",
      "Number of features per zone:  3\n"
     ]
    }
   ],
   "source": [
    "# Specifying number of zones and features per zone\n",
    "num_zones = target_var_shape[2]\n",
    "num_zone_features = int(continuous_var_shape[2] / target_var_shape[2])\n",
    "print(\"Number of zones: \", num_zones)\n",
    "print(\"Number of features per zone: \", num_zone_features)"
   ],
   "metadata": {
    "collapsed": false
   }
  },
  {
   "cell_type": "markdown",
   "source": [
    "### DEFINING LOSS FUNCTION"
   ],
   "metadata": {
    "collapsed": false
   }
  },
  {
   "cell_type": "code",
   "execution_count": 36,
   "outputs": [],
   "source": [
    "class QuantileLoss(nn.Module):\n",
    "    def __init__(self, quantiles):\n",
    "        super().__init__()\n",
    "        self.quantiles = quantiles\n",
    "\n",
    "    def forward(self, pred, target):\n",
    "        assert not target.requires_grad\n",
    "        assert pred.size(0) == target.size(0)\n",
    "        assert pred.size(1) == target.size(1)\n",
    "        losses = []\n",
    "        for i, q in enumerate(self.quantiles):\n",
    "            errors = target.reshape(-1,1) - pred[:, :, i].reshape(-1,1)\n",
    "            losses.append(torch.max((q-1) * errors, q * errors).unsqueeze(1))\n",
    "        loss = torch.mean(torch.sum(torch.cat(losses, dim=1), dim=1))\n",
    "        return loss"
   ],
   "metadata": {
    "collapsed": false
   }
  },
  {
   "cell_type": "code",
   "execution_count": 37,
   "outputs": [],
   "source": [
    "torch.manual_seed(111)\n",
    "\n",
    "quantile_list = np.arange(1, 10) * 0.1\n",
    "\n",
    "pinball_loss_func = QuantileLoss(quantile_list)"
   ],
   "metadata": {
    "collapsed": false
   }
  },
  {
   "cell_type": "markdown",
   "source": [
    "### DEFINING MODEL ARCHITECTURE"
   ],
   "metadata": {
    "collapsed": false
   }
  },
  {
   "cell_type": "code",
   "execution_count": 38,
   "outputs": [],
   "source": [
    "config_args = easydict.EasyDict(\n",
    "        {\n",
    "            \"device\": torch.device(\"cuda\")\n",
    "            if torch.cuda.is_available()\n",
    "            else torch.device(\"cpu\"),\n",
    "            \"learning_rate\": 2e-4,\n",
    "            \"max_iter\": 1000,\n",
    "            \"epochs\": 25\n",
    "        }\n",
    "    )\n",
    "\n",
    "model_args = easydict.EasyDict(\n",
    "        {\n",
    "            \"d_input\": 6 + X_categorical_train.shape[1],     # Model input -> Continuous + Categorical\n",
    "            \"d_output\": 9,                                   # Model output -> Quantile predictions\n",
    "            \"d_model\": 16,                                   # Model latent dimension\n",
    "            \"q\": 3,                                          # Query and Key dimensions\n",
    "            \"v\": 3,                                          # Value dimensions\n",
    "            \"h\": 3,                                          # Number of heads\n",
    "            \"N\": 1,                                          # Number of stacked of encoder and decoder\n",
    "            \"attention_size\": 24,                            # Attention window\n",
    "            \"dropout\": 0.9,                                  # Dropout rate\n",
    "            \"pe\": \"regular\",                                 # Positional encoding used\n",
    "            \"chunk_mode\": None,                              # Default -> MultiHeadAttention\n",
    "        }\n",
    "    )\n",
    "\n",
    "# Making directories to store values\n",
    "if not os.path.exists(\"logs\"):\n",
    "    os.mkdir(\"logs\")\n",
    "if not os.path.exists(\"models\"):\n",
    "    os.mkdir(\"models\")"
   ],
   "metadata": {
    "collapsed": false
   }
  },
  {
   "cell_type": "markdown",
   "source": [
    "### INSTANTIATING MODELS -> VAE AND LSTM"
   ],
   "metadata": {
    "collapsed": false
   }
  },
  {
   "cell_type": "code",
   "execution_count": 39,
   "outputs": [
    {
     "name": "stdout",
     "output_type": "stream",
     "text": [
      "Number of vae models:  14\n"
     ]
    }
   ],
   "source": [
    "# Address for saved VAE models\n",
    "vae_dirname = os.path.join(os.path.dirname(os.getcwd()), \"VAE_LSTM\", \"vae_models\")\n",
    "\n",
    "# Loading the vae models\n",
    "vae_model_1 = torch.load(os.path.join(vae_dirname, \"L3_best_zone_1.pth\"))\n",
    "vae_model_2 = torch.load(os.path.join(vae_dirname, \"L3_best_zone_2.pth\"))\n",
    "vae_model_3 = torch.load(os.path.join(vae_dirname, \"L3_best_zone_3.pth\"))\n",
    "vae_model_4 = torch.load(os.path.join(vae_dirname, \"L3_best_zone_4.pth\"))\n",
    "vae_model_5 = torch.load(os.path.join(vae_dirname, \"L3_best_zone_5.pth\"))\n",
    "vae_model_6 = torch.load(os.path.join(vae_dirname, \"L3_best_zone_6.pth\"))\n",
    "vae_model_7 = torch.load(os.path.join(vae_dirname, \"L3_best_zone_7.pth\"))\n",
    "vae_model_8 = torch.load(os.path.join(vae_dirname, \"L3_best_zone_8.pth\"))\n",
    "vae_model_9 = torch.load(os.path.join(vae_dirname, \"L3_best_zone_9.pth\"))\n",
    "vae_model_10 = torch.load(os.path.join(vae_dirname, \"L3_best_zone_10.pth\"))\n",
    "vae_model_11 = torch.load(os.path.join(vae_dirname, \"L3_best_zone_11.pth\"))\n",
    "vae_model_12 = torch.load(os.path.join(vae_dirname, \"L3_best_zone_12.pth\"))\n",
    "vae_model_13 = torch.load(os.path.join(vae_dirname, \"L3_best_zone_13.pth\"))\n",
    "vae_model_14 = torch.load(os.path.join(vae_dirname, \"L3_best_zone_14.pth\"))\n",
    "\n",
    "vae_models = nn.ModuleList([vae_model_1, vae_model_2, vae_model_3, vae_model_4,\n",
    "                            vae_model_5, vae_model_6, vae_model_7, vae_model_8,\n",
    "                            vae_model_9, vae_model_10, vae_model_11, vae_model_12,\n",
    "                            vae_model_13, vae_model_14])\n",
    "print(\"Number of vae models: \", len(vae_models))"
   ],
   "metadata": {
    "collapsed": false
   }
  },
  {
   "cell_type": "code",
   "execution_count": 40,
   "outputs": [
    {
     "name": "stdout",
     "output_type": "stream",
     "text": [
      "Number of transformer models:  14\n"
     ]
    }
   ],
   "source": [
    "# Instantiating transformer corresponding to each zone\n",
    "transformer_model = Transformer(model_args.d_input, model_args.d_model, model_args.d_output,\n",
    "                                model_args.q, model_args.v, model_args.h, model_args.N,\n",
    "                                attention_size=model_args.attention_size, dropout=model_args.dropout,\n",
    "                                chunk_mode=model_args.chunk_mode, pe=model_args.pe).to(device)\n",
    "\n",
    "transformer_models = nn.ModuleList([transformer_model for _ in range(num_zones)])\n",
    "print(\"Number of transformer models: \", len(transformer_models))"
   ],
   "metadata": {
    "collapsed": false
   }
  },
  {
   "cell_type": "code",
   "execution_count": 41,
   "outputs": [],
   "source": [
    "class VAE_TRANSFORMER(nn.Module):\n",
    "    def __init__(self, zonal_vae, zonal_transformer):\n",
    "        super(VAE_TRANSFORMER, self).__init__()\n",
    "        self.zonal_vae = zonal_vae\n",
    "        self.zonal_transformer = zonal_transformer\n",
    "\n",
    "    def forward(self, categorical, zonal_continuous):\n",
    "        out_var = self.zonal_vae(zonal_continuous)\n",
    "        in_transformer = torch.cat((categorical, zonal_continuous, out_var[1]), axis=-1)\n",
    "        out_transformer = self.zonal_transformer(in_transformer)\n",
    "        return out_var, out_transformer"
   ],
   "metadata": {
    "collapsed": false
   }
  },
  {
   "cell_type": "code",
   "execution_count": 42,
   "outputs": [],
   "source": [
    "def pinball(yhat, tau, y):\n",
    "    if yhat >= y:\n",
    "        score = (1 - tau) * (yhat - y)\n",
    "    else:\n",
    "        score = tau * (y - yhat)\n",
    "    return score"
   ],
   "metadata": {
    "collapsed": false
   }
  },
  {
   "cell_type": "code",
   "execution_count": 43,
   "outputs": [],
   "source": [
    "def frozen_param_model(net):\n",
    "    for name, param in net.named_parameters():\n",
    "        if param.requires_grad and 'zonal_vae' in name:\n",
    "            param.requires_grad = False\n",
    "\n",
    "    non_frozen_param = [p for p in net.parameters() if p.requires_grad]\n",
    "    return non_frozen_param"
   ],
   "metadata": {
    "collapsed": false
   }
  },
  {
   "cell_type": "code",
   "execution_count": 44,
   "outputs": [],
   "source": [
    "def save_checkpoint(model, filename):\n",
    "    torch.save(model.state_dict(), filename)\n",
    "\n",
    "def load_from_checkpoint(model, filename):\n",
    "    model.load_state_dict(torch.load(filename))\n",
    "    return model\n",
    "\n",
    "def init_weights(model):\n",
    "    if isinstance(model, nn.Linear):\n",
    "        torch.nn.init.kaiming_uniform_(model.weight, nonlinearity='relu')\n",
    "        model.bias.data.fill_(0.01)"
   ],
   "metadata": {
    "collapsed": false
   }
  },
  {
   "cell_type": "markdown",
   "source": [
    "### DEFINING ZONAL MODEL"
   ],
   "metadata": {
    "collapsed": false
   }
  },
  {
   "cell_type": "code",
   "execution_count": 45,
   "outputs": [],
   "source": [
    "model_1 = VAE_TRANSFORMER(vae_models[0], transformer_models[0]).apply(init_weights)\n",
    "model_2 = VAE_TRANSFORMER(vae_models[1], transformer_models[1]).apply(init_weights)\n",
    "model_3 = VAE_TRANSFORMER(vae_models[2], transformer_models[2]).apply(init_weights)\n",
    "model_4 = VAE_TRANSFORMER(vae_models[3], transformer_models[3]).apply(init_weights)\n",
    "model_5 = VAE_TRANSFORMER(vae_models[4], transformer_models[4]).apply(init_weights)\n",
    "model_6 = VAE_TRANSFORMER(vae_models[5], transformer_models[5]).apply(init_weights)\n",
    "model_7 = VAE_TRANSFORMER(vae_models[6], transformer_models[6]).apply(init_weights)\n",
    "model_8 = VAE_TRANSFORMER(vae_models[7], transformer_models[7]).apply(init_weights)\n",
    "model_9 = VAE_TRANSFORMER(vae_models[8], transformer_models[8]).apply(init_weights)\n",
    "model_10 = VAE_TRANSFORMER(vae_models[9], transformer_models[9]).apply(init_weights)\n",
    "model_11 = VAE_TRANSFORMER(vae_models[10], transformer_models[10]).apply(init_weights)\n",
    "model_12 = VAE_TRANSFORMER(vae_models[11], transformer_models[11]).apply(init_weights)\n",
    "model_13 = VAE_TRANSFORMER(vae_models[12], transformer_models[12]).apply(init_weights)\n",
    "model_14 = VAE_TRANSFORMER(vae_models[13], transformer_models[13]).apply(init_weights)"
   ],
   "metadata": {
    "collapsed": false
   }
  },
  {
   "cell_type": "code",
   "execution_count": 46,
   "outputs": [],
   "source": [
    "# Defining optimizer with frozen vae parameters -> Just training the Transformer\n",
    "optimizer_1 = optim.Adam(frozen_param_model(model_1), lr=config_args.learning_rate)\n",
    "optimizer_2 = optim.Adam(frozen_param_model(model_2), lr=config_args.learning_rate)\n",
    "optimizer_3 = optim.Adam(frozen_param_model(model_3), lr=config_args.learning_rate)\n",
    "optimizer_4 = optim.Adam(frozen_param_model(model_4), lr=config_args.learning_rate)\n",
    "optimizer_5 = optim.Adam(frozen_param_model(model_5), lr=config_args.learning_rate)\n",
    "optimizer_6 = optim.Adam(frozen_param_model(model_6), lr=config_args.learning_rate)\n",
    "optimizer_7 = optim.Adam(frozen_param_model(model_7), lr=config_args.learning_rate)\n",
    "optimizer_8 = optim.Adam(frozen_param_model(model_8), lr=config_args.learning_rate)\n",
    "optimizer_9 = optim.Adam(frozen_param_model(model_9), lr=config_args.learning_rate)\n",
    "optimizer_10 = optim.Adam(frozen_param_model(model_10), lr=config_args.learning_rate)\n",
    "optimizer_11 = optim.Adam(frozen_param_model(model_11), lr=config_args.learning_rate)\n",
    "optimizer_12 = optim.Adam(frozen_param_model(model_12), lr=config_args.learning_rate)\n",
    "optimizer_13 = optim.Adam(frozen_param_model(model_13), lr=config_args.learning_rate)\n",
    "optimizer_14 = optim.Adam(frozen_param_model(model_14), lr=config_args.learning_rate)"
   ],
   "metadata": {
    "collapsed": false
   }
  },
  {
   "cell_type": "markdown",
   "source": [
    "### PERFORMING MODEL TRAINING"
   ],
   "metadata": {
    "collapsed": false
   }
  },
  {
   "cell_type": "code",
   "execution_count": 47,
   "outputs": [
    {
     "name": "stderr",
     "output_type": "stream",
     "text": [
      "[Epoch   1/25]: 100%|██████████| 34873/34873 [02:40<00:00, 216.96it/s, loss_1=0.864, loss_2=0.659, loss_3=0.566, loss_4=0.421, loss_5=0.616, loss_6=0.573, loss_7=0.658, loss_8=0.583, loss_9=0.552, loss_10=0.628, loss_11=0.662, loss_12=0.593, loss_13=0.538, loss_14=1.06]                          \n",
      "[Epoch   2/25]: 100%|██████████| 34873/34873 [02:42<00:00, 215.22it/s, loss_1=0.493, loss_2=0.399, loss_3=0.351, loss_4=0.259, loss_5=0.381, loss_6=0.335, loss_7=0.399, loss_8=0.349, loss_9=0.363, loss_10=0.377, loss_11=0.398, loss_12=0.355, loss_13=0.341, loss_14=0.638]                          \n",
      "[Epoch   3/25]: 100%|██████████| 34873/34873 [02:40<00:00, 217.74it/s, loss_1=0.379, loss_2=0.318, loss_3=0.284, loss_4=0.224, loss_5=0.307, loss_6=0.256, loss_7=0.316, loss_8=0.28, loss_9=0.299, loss_10=0.301, loss_11=0.31, loss_12=0.281, loss_13=0.282, loss_14=0.449]                             \n",
      "[Epoch   4/25]: 100%|██████████| 34873/34873 [02:39<00:00, 218.55it/s, loss_1=0.194, loss_2=0.198, loss_3=0.17, loss_4=0.129, loss_5=0.184, loss_6=0.123, loss_7=0.201, loss_8=0.17, loss_9=0.211, loss_10=0.203, loss_11=0.168, loss_12=0.175, loss_13=0.186, loss_14=0.116]                                        \n",
      "[Epoch   5/25]: 100%|██████████| 34873/34873 [02:42<00:00, 214.27it/s, loss_1=0.148, loss_2=0.169, loss_3=0.144, loss_4=0.101, loss_5=0.154, loss_6=0.0943, loss_7=0.17, loss_8=0.145, loss_9=0.197, loss_10=0.173, loss_11=0.133, loss_12=0.146, loss_13=0.164, loss_14=0.057]                                        \n",
      "[Epoch   6/25]: 100%|██████████| 34873/34873 [02:42<00:00, 215.16it/s, loss_1=0.138, loss_2=0.159, loss_3=0.134, loss_4=0.0946, loss_5=0.144, loss_6=0.0872, loss_7=0.159, loss_8=0.136, loss_9=0.19, loss_10=0.159, loss_11=0.126, loss_12=0.137, loss_13=0.156, loss_14=0.0478]                                     \n",
      "[Epoch   7/25]: 100%|██████████| 34873/34873 [02:41<00:00, 215.82it/s, loss_1=0.131, loss_2=0.151, loss_3=0.125, loss_4=0.0912, loss_5=0.135, loss_6=0.0829, loss_7=0.15, loss_8=0.128, loss_9=0.182, loss_10=0.149, loss_11=0.12, loss_12=0.131, loss_13=0.15, loss_14=0.0434]                                        \n",
      "[Epoch   8/25]: 100%|██████████| 34873/34873 [02:40<00:00, 217.78it/s, loss_1=0.126, loss_2=0.145, loss_3=0.117, loss_4=0.0891, loss_5=0.13, loss_6=0.0809, loss_7=0.141, loss_8=0.12, loss_9=0.172, loss_10=0.14, loss_11=0.117, loss_12=0.127, loss_13=0.147, loss_14=0.0416]                                        \n",
      "[Epoch   9/25]: 100%|██████████| 34873/34873 [02:42<00:00, 214.35it/s, loss_1=0.123, loss_2=0.142, loss_3=0.114, loss_4=0.0874, loss_5=0.127, loss_6=0.0798, loss_7=0.136, loss_8=0.114, loss_9=0.167, loss_10=0.134, loss_11=0.115, loss_12=0.125, loss_13=0.145, loss_14=0.0398]                                   \n",
      "[Epoch  10/25]: 100%|██████████| 34873/34873 [02:52<00:00, 202.59it/s, loss_1=0.12, loss_2=0.14, loss_3=0.112, loss_4=0.0861, loss_5=0.124, loss_6=0.0786, loss_7=0.131, loss_8=0.111, loss_9=0.163, loss_10=0.129, loss_11=0.113, loss_12=0.124, loss_13=0.144, loss_14=0.0383]                                     \n",
      "[Epoch  11/25]: 100%|██████████| 34873/34873 [02:45<00:00, 210.55it/s, loss_1=0.117, loss_2=0.138, loss_3=0.109, loss_4=0.085, loss_5=0.121, loss_6=0.0775, loss_7=0.128, loss_8=0.107, loss_9=0.157, loss_10=0.125, loss_11=0.111, loss_12=0.121, loss_13=0.142, loss_14=0.0367]                                    \n",
      "[Epoch  12/25]: 100%|██████████| 34873/34873 [02:39<00:00, 219.28it/s, loss_1=0.116, loss_2=0.137, loss_3=0.109, loss_4=0.0847, loss_5=0.119, loss_6=0.0771, loss_7=0.126, loss_8=0.106, loss_9=0.155, loss_10=0.123, loss_11=0.11, loss_12=0.121, loss_13=0.141, loss_14=0.0357]                                      \n",
      "[Epoch  13/25]: 100%|██████████| 34873/34873 [02:38<00:00, 219.63it/s, loss_1=0.114, loss_2=0.135, loss_3=0.107, loss_4=0.0834, loss_5=0.116, loss_6=0.0758, loss_7=0.124, loss_8=0.104, loss_9=0.151, loss_10=0.12, loss_11=0.108, loss_12=0.118, loss_13=0.139, loss_14=0.0342]                                   \n",
      "[Epoch  14/25]: 100%|██████████| 34873/34873 [02:38<00:00, 220.10it/s, loss_1=0.113, loss_2=0.134, loss_3=0.106, loss_4=0.0831, loss_5=0.115, loss_6=0.0753, loss_7=0.123, loss_8=0.103, loss_9=0.149, loss_10=0.119, loss_11=0.108, loss_12=0.118, loss_13=0.137, loss_14=0.0334]                                 \n",
      "[Epoch  15/25]: 100%|██████████| 34873/34873 [02:38<00:00, 219.67it/s, loss_1=0.111, loss_2=0.132, loss_3=0.105, loss_4=0.082, loss_5=0.112, loss_6=0.0741, loss_7=0.121, loss_8=0.101, loss_9=0.146, loss_10=0.116, loss_11=0.107, loss_12=0.116, loss_13=0.136, loss_14=0.0324]                                     \n",
      "[Epoch  16/25]: 100%|██████████| 34873/34873 [02:38<00:00, 219.45it/s, loss_1=0.111, loss_2=0.132, loss_3=0.104, loss_4=0.0813, loss_5=0.111, loss_6=0.0735, loss_7=0.12, loss_8=0.1, loss_9=0.144, loss_10=0.116, loss_11=0.106, loss_12=0.116, loss_13=0.135, loss_14=0.0317]                                       \n",
      "[Epoch  17/25]: 100%|██████████| 34873/34873 [02:39<00:00, 218.51it/s, loss_1=0.109, loss_2=0.13, loss_3=0.103, loss_4=0.0803, loss_5=0.11, loss_6=0.0726, loss_7=0.119, loss_8=0.0987, loss_9=0.142, loss_10=0.114, loss_11=0.105, loss_12=0.115, loss_13=0.134, loss_14=0.0308]                                      \n",
      "[Epoch  18/25]: 100%|██████████| 34873/34873 [02:49<00:00, 206.12it/s, loss_1=0.108, loss_2=0.129, loss_3=0.103, loss_4=0.08, loss_5=0.109, loss_6=0.0719, loss_7=0.118, loss_8=0.0978, loss_9=0.141, loss_10=0.113, loss_11=0.105, loss_12=0.114, loss_13=0.133, loss_14=0.0301]                                   \n",
      "[Epoch  19/25]: 100%|██████████| 34873/34873 [02:47<00:00, 208.30it/s, loss_1=0.107, loss_2=0.128, loss_3=0.102, loss_4=0.0793, loss_5=0.108, loss_6=0.0714, loss_7=0.117, loss_8=0.0969, loss_9=0.14, loss_10=0.112, loss_11=0.104, loss_12=0.114, loss_13=0.132, loss_14=0.0298]                                    \n",
      "[Epoch  20/25]: 100%|██████████| 34873/34873 [02:46<00:00, 209.97it/s, loss_1=0.106, loss_2=0.128, loss_3=0.102, loss_4=0.0789, loss_5=0.108, loss_6=0.071, loss_7=0.116, loss_8=0.0967, loss_9=0.139, loss_10=0.111, loss_11=0.104, loss_12=0.113, loss_13=0.132, loss_14=0.0293]                                     \n",
      "[Epoch  21/25]: 100%|██████████| 34873/34873 [02:38<00:00, 219.35it/s, loss_1=0.106, loss_2=0.128, loss_3=0.101, loss_4=0.0784, loss_5=0.107, loss_6=0.0707, loss_7=0.116, loss_8=0.096, loss_9=0.137, loss_10=0.111, loss_11=0.103, loss_12=0.113, loss_13=0.131, loss_14=0.029]                                     \n",
      "[Epoch  22/25]: 100%|██████████| 34873/34873 [02:39<00:00, 219.13it/s, loss_1=0.106, loss_2=0.127, loss_3=0.101, loss_4=0.0784, loss_5=0.106, loss_6=0.0704, loss_7=0.116, loss_8=0.0957, loss_9=0.137, loss_10=0.11, loss_11=0.103, loss_12=0.113, loss_13=0.131, loss_14=0.0288]                                     \n",
      "[Epoch  23/25]: 100%|██████████| 34873/34873 [02:39<00:00, 219.09it/s, loss_1=0.105, loss_2=0.126, loss_3=0.1, loss_4=0.0777, loss_5=0.106, loss_6=0.0701, loss_7=0.115, loss_8=0.0951, loss_9=0.136, loss_10=0.109, loss_11=0.102, loss_12=0.112, loss_13=0.13, loss_14=0.0284]                                       \n",
      "[Epoch  24/25]: 100%|██████████| 34873/34873 [02:39<00:00, 219.02it/s, loss_1=0.104, loss_2=0.125, loss_3=0.0994, loss_4=0.0773, loss_5=0.105, loss_6=0.0696, loss_7=0.114, loss_8=0.0944, loss_9=0.135, loss_10=0.108, loss_11=0.102, loss_12=0.111, loss_13=0.13, loss_14=0.028]                                    \n",
      "[Epoch  25/25]: 100%|██████████| 34873/34873 [02:40<00:00, 217.91it/s, loss_1=0.105, loss_2=0.126, loss_3=0.1, loss_4=0.0776, loss_5=0.105, loss_6=0.0697, loss_7=0.114, loss_8=0.0947, loss_9=0.135, loss_10=0.108, loss_11=0.102, loss_12=0.112, loss_13=0.13, loss_14=0.0283]                                      \n"
     ]
    },
    {
     "name": "stdout",
     "output_type": "stream",
     "text": [
      "All model stopped training at the end of epoch and final checkpoint saved !\n"
     ]
    },
    {
     "data": {
      "text/plain": "<Figure size 640x480 with 1 Axes>",
      "image/png": "[encoded data removed]"
     },
     "metadata": {},
     "output_type": "display_data"
    },
    {
     "data": {
      "text/plain": "<Figure size 640x480 with 1 Axes>",
      "image/png": "[encoded data removed]"
     },
     "metadata": {},
     "output_type": "display_data"
    },
    {
     "data": {
      "text/plain": "<Figure size 640x480 with 1 Axes>",
      "image/png": "[encoded data removed]"
     },
     "metadata": {},
     "output_type": "display_data"
    },
    {
     "data": {
      "text/plain": "<Figure size 640x480 with 1 Axes>",
      "image/png": "[encoded data removed]"
     },
     "metadata": {},
     "output_type": "display_data"
    },
    {
     "data": {
      "text/plain": "<Figure size 640x480 with 1 Axes>",
      "image/png": "[encoded data removed]"
     },
     "metadata": {},
     "output_type": "display_data"
    },
    {
     "data": {
      "text/plain": "<Figure size 640x480 with 1 Axes>",
      "image/png": "[encoded data removed]"
     },
     "metadata": {},
     "output_type": "display_data"
    },
    {
     "data": {
      "text/plain": "<Figure size 640x480 with 1 Axes>",
      "image/png": "[encoded data removed]"
     },
     "metadata": {},
     "output_type": "display_data"
    },
    {
     "data": {
      "text/plain": "<Figure size 640x480 with 1 Axes>",
      "image/png": "[encoded data removed]"
     },
     "metadata": {},
     "output_type": "display_data"
    },
    {
     "data": {
      "text/plain": "<Figure size 640x480 with 1 Axes>",
      "image/png": "[encoded data removed]"
     },
     "metadata": {},
     "output_type": "display_data"
    },
    {
     "data": {
      "text/plain": "<Figure size 640x480 with 1 Axes>",
      "image/png": "[encoded data removed]"
     },
     "metadata": {},
     "output_type": "display_data"
    },
    {
     "data": {
      "text/plain": "<Figure size 640x480 with 1 Axes>",
      "image/png": "[encoded data removed]"
     },
     "metadata": {},
     "output_type": "display_data"
    },
    {
     "data": {
      "text/plain": "<Figure size 640x480 with 1 Axes>",
      "image/png": "[encoded data removed]"
     },
     "metadata": {},
     "output_type": "display_data"
    },
    {
     "data": {
      "text/plain": "<Figure size 640x480 with 1 Axes>",
      "image/png": "[encoded data removed]"
     },
     "metadata": {},
     "output_type": "display_data"
    },
    {
     "data": {
      "text/plain": "<Figure size 640x480 with 1 Axes>",
      "image/png": "[encoded data removed]"
     },
     "metadata": {},
     "output_type": "display_data"
    },
    {
     "name": "stdout",
     "output_type": "stream",
     "text": [
      "\n",
      "Total time of training: 1.1400321617391374 hours\n"
     ]
    }
   ],
   "source": [
    "start_time = time.time()\n",
    "\n",
    "hist_loss_1 = np.zeros(config_args.epochs)\n",
    "hist_loss_2 = np.zeros(config_args.epochs)\n",
    "hist_loss_3 = np.zeros(config_args.epochs)\n",
    "hist_loss_4 = np.zeros(config_args.epochs)\n",
    "hist_loss_5 = np.zeros(config_args.epochs)\n",
    "hist_loss_6 = np.zeros(config_args.epochs)\n",
    "hist_loss_7 = np.zeros(config_args.epochs)\n",
    "hist_loss_8 = np.zeros(config_args.epochs)\n",
    "hist_loss_9 = np.zeros(config_args.epochs)\n",
    "hist_loss_10 = np.zeros(config_args.epochs)\n",
    "hist_loss_11 = np.zeros(config_args.epochs)\n",
    "hist_loss_12 = np.zeros(config_args.epochs)\n",
    "hist_loss_13 = np.zeros(config_args.epochs)\n",
    "hist_loss_14 = np.zeros(config_args.epochs)\n",
    "\n",
    "for epoch in range(config_args.epochs):\n",
    "\n",
    "    # Switching all models in training mode\n",
    "    model_1.train()\n",
    "    model_2.train()\n",
    "    model_3.train()\n",
    "    model_4.train()\n",
    "    model_5.train()\n",
    "    model_6.train()\n",
    "    model_7.train()\n",
    "    model_8.train()\n",
    "    model_9.train()\n",
    "    model_10.train()\n",
    "    model_11.train()\n",
    "    model_12.train()\n",
    "    model_13.train()\n",
    "    model_14.train()\n",
    "\n",
    "    running_loss_1 = 0\n",
    "    running_loss_2 = 0\n",
    "    running_loss_3 = 0\n",
    "    running_loss_4 = 0\n",
    "    running_loss_5 = 0\n",
    "    running_loss_6 = 0\n",
    "    running_loss_7 = 0\n",
    "    running_loss_8 = 0\n",
    "    running_loss_9 = 0\n",
    "    running_loss_10 = 0\n",
    "    running_loss_11 = 0\n",
    "    running_loss_12 = 0\n",
    "    running_loss_13 = 0\n",
    "    running_loss_14 = 0\n",
    "\n",
    "    with tqdm(total=len(train_dataloader.dataset),\n",
    "              desc=f\"[Epoch {epoch+1:3d}/{config_args.epochs}]\") as pbar:\n",
    "\n",
    "        for batch, (categorical_var, continuous_var, target_var) in enumerate(train_dataloader):\n",
    "\n",
    "            # Setting the gradients to zero\n",
    "            optimizer_1.zero_grad()\n",
    "            optimizer_2.zero_grad()\n",
    "            optimizer_3.zero_grad()\n",
    "            optimizer_4.zero_grad()\n",
    "            optimizer_5.zero_grad()\n",
    "            optimizer_6.zero_grad()\n",
    "            optimizer_7.zero_grad()\n",
    "            optimizer_8.zero_grad()\n",
    "            optimizer_9.zero_grad()\n",
    "            optimizer_10.zero_grad()\n",
    "            optimizer_11.zero_grad()\n",
    "            optimizer_12.zero_grad()\n",
    "            optimizer_13.zero_grad()\n",
    "            optimizer_14.zero_grad()\n",
    "\n",
    "            # The categorical variables are common for all zones.\n",
    "            common_categorical = copy.deepcopy(categorical_var).to(device)\n",
    "\n",
    "            zone_1_continuous = copy.deepcopy(continuous_var[:, :, 0:3]).to(device)\n",
    "            zone_2_continuous = copy.deepcopy(continuous_var[:, :, 3:6]).to(device)\n",
    "            zone_3_continuous = copy.deepcopy(continuous_var[:, :, 6:9]).to(device)\n",
    "            zone_4_continuous = copy.deepcopy(continuous_var[:, :, 9:12]).to(device)\n",
    "            zone_5_continuous = copy.deepcopy(continuous_var[:, :, 12:15]).to(device)\n",
    "            zone_6_continuous = copy.deepcopy(continuous_var[:, :, 15:18]).to(device)\n",
    "            zone_7_continuous = copy.deepcopy(continuous_var[:, :, 18:21]).to(device)\n",
    "            zone_8_continuous = copy.deepcopy(continuous_var[:, :, 21:24]).to(device)\n",
    "            zone_9_continuous = copy.deepcopy(continuous_var[:, :, 24:27]).to(device)\n",
    "            zone_10_continuous = copy.deepcopy(continuous_var[:, :, 27:30]).to(device)\n",
    "            zone_11_continuous = copy.deepcopy(continuous_var[:, :, 30:33]).to(device)\n",
    "            zone_12_continuous = copy.deepcopy(continuous_var[:, :, 33:36]).to(device)\n",
    "            zone_13_continuous = copy.deepcopy(continuous_var[:, :, 36:39]).to(device)\n",
    "            zone_14_continuous = copy.deepcopy(continuous_var[:, :, 39:42]).to(device)\n",
    "\n",
    "            zone_1_target = copy.deepcopy(target_var[:, :, 0:1])\n",
    "            zone_2_target = copy.deepcopy(target_var[:, :, 1:2])\n",
    "            zone_3_target = copy.deepcopy(target_var[:, :, 2:3])\n",
    "            zone_4_target = copy.deepcopy(target_var[:, :, 3:4])\n",
    "            zone_5_target = copy.deepcopy(target_var[:, :, 4:5])\n",
    "            zone_6_target = copy.deepcopy(target_var[:, :, 5:6])\n",
    "            zone_7_target = copy.deepcopy(target_var[:, :, 6:7])\n",
    "            zone_8_target = copy.deepcopy(target_var[:, :, 7:8])\n",
    "            zone_9_target = copy.deepcopy(target_var[:, :, 8:9])\n",
    "            zone_10_target = copy.deepcopy(target_var[:, :, 9:10])\n",
    "            zone_11_target = copy.deepcopy(target_var[:, :, 10:11])\n",
    "            zone_12_target = copy.deepcopy(target_var[:, :, 11:12])\n",
    "            zone_13_target = copy.deepcopy(target_var[:, :, 12:13])\n",
    "            zone_14_target = copy.deepcopy(target_var[:, :, 13:14])\n",
    "\n",
    "            # Propagating through the network\n",
    "            out_vae_1, out_transformer_1 = model_1(common_categorical, zone_1_continuous)\n",
    "            out_vae_2, out_transformer_2 = model_2(common_categorical, zone_2_continuous)\n",
    "            out_vae_3, out_transformer_3 = model_3(common_categorical, zone_3_continuous)\n",
    "            out_vae_4, out_transformer_4 = model_4(common_categorical, zone_4_continuous)\n",
    "            out_vae_5, out_transformer_5 = model_5(common_categorical, zone_5_continuous)\n",
    "            out_vae_6, out_transformer_6 = model_6(common_categorical, zone_6_continuous)\n",
    "            out_vae_7, out_transformer_7 = model_7(common_categorical, zone_7_continuous)\n",
    "            out_vae_8, out_transformer_8 = model_8(common_categorical, zone_8_continuous)\n",
    "            out_vae_9, out_transformer_9 = model_9(common_categorical, zone_9_continuous)\n",
    "            out_vae_10, out_transformer_10 = model_10(common_categorical, zone_10_continuous)\n",
    "            out_vae_11, out_transformer_11 = model_11(common_categorical, zone_11_continuous)\n",
    "            out_vae_12, out_transformer_12 = model_12(common_categorical, zone_12_continuous)\n",
    "            out_vae_13, out_transformer_13 = model_13(common_categorical, zone_13_continuous)\n",
    "            out_vae_14, out_transformer_14 = model_14(common_categorical, zone_14_continuous)\n",
    "\n",
    "            # Calculating the pinball loss\n",
    "            loss_1 = pinball_loss_func(out_transformer_1, zone_1_target.to(device))\n",
    "            loss_2 = pinball_loss_func(out_transformer_2, zone_2_target.to(device))\n",
    "            loss_3 = pinball_loss_func(out_transformer_3, zone_3_target.to(device))\n",
    "            loss_4 = pinball_loss_func(out_transformer_4, zone_4_target.to(device))\n",
    "            loss_5 = pinball_loss_func(out_transformer_5, zone_5_target.to(device))\n",
    "            loss_6 = pinball_loss_func(out_transformer_6, zone_6_target.to(device))\n",
    "            loss_7 = pinball_loss_func(out_transformer_7, zone_7_target.to(device))\n",
    "            loss_8 = pinball_loss_func(out_transformer_8, zone_8_target.to(device))\n",
    "            loss_9 = pinball_loss_func(out_transformer_9, zone_9_target.to(device))\n",
    "            loss_10 = pinball_loss_func(out_transformer_10, zone_10_target.to(device))\n",
    "            loss_11 = pinball_loss_func(out_transformer_11, zone_11_target.to(device))\n",
    "            loss_12 = pinball_loss_func(out_transformer_12, zone_12_target.to(device))\n",
    "            loss_13 = pinball_loss_func(out_transformer_13, zone_13_target.to(device))\n",
    "            loss_14 = pinball_loss_func(out_transformer_14, zone_14_target.to(device))\n",
    "\n",
    "            # Back-Propagating the loss\n",
    "            loss_1.backward()\n",
    "            loss_2.backward()\n",
    "            loss_3.backward()\n",
    "            loss_4.backward()\n",
    "            loss_5.backward()\n",
    "            loss_6.backward()\n",
    "            loss_7.backward()\n",
    "            loss_8.backward()\n",
    "            loss_9.backward()\n",
    "            loss_10.backward()\n",
    "            loss_11.backward()\n",
    "            loss_12.backward()\n",
    "            loss_13.backward()\n",
    "            loss_14.backward()\n",
    "\n",
    "            # Updating the parameters\n",
    "            optimizer_1.step()\n",
    "            optimizer_2.step()\n",
    "            optimizer_3.step()\n",
    "            optimizer_4.step()\n",
    "            optimizer_5.step()\n",
    "            optimizer_6.step()\n",
    "            optimizer_7.step()\n",
    "            optimizer_8.step()\n",
    "            optimizer_9.step()\n",
    "            optimizer_10.step()\n",
    "            optimizer_11.step()\n",
    "            optimizer_12.step()\n",
    "            optimizer_13.step()\n",
    "            optimizer_14.step()\n",
    "\n",
    "            # Accumulating the running loss\n",
    "            running_loss_1 += loss_1.item()\n",
    "            running_loss_2 += loss_2.item()\n",
    "            running_loss_3 += loss_3.item()\n",
    "            running_loss_4 += loss_4.item()\n",
    "            running_loss_5 += loss_5.item()\n",
    "            running_loss_6 += loss_6.item()\n",
    "            running_loss_7 += loss_7.item()\n",
    "            running_loss_8 += loss_8.item()\n",
    "            running_loss_9 += loss_9.item()\n",
    "            running_loss_10 += loss_10.item()\n",
    "            running_loss_11 += loss_11.item()\n",
    "            running_loss_12 += loss_12.item()\n",
    "            running_loss_13 += loss_13.item()\n",
    "            running_loss_14 += loss_14.item()\n",
    "\n",
    "            pbar.set_postfix({\n",
    "                'loss_1': running_loss_1/(batch+1),\n",
    "                'loss_2': running_loss_2/(batch+1),\n",
    "                'loss_3': running_loss_3/(batch+1),\n",
    "                'loss_4': running_loss_4/(batch+1),\n",
    "                'loss_5': running_loss_5/(batch+1),\n",
    "                'loss_6': running_loss_6/(batch+1),\n",
    "                'loss_7': running_loss_7/(batch+1),\n",
    "                'loss_8': running_loss_8/(batch+1),\n",
    "                'loss_9': running_loss_9/(batch+1),\n",
    "                'loss_10': running_loss_10/(batch+1),\n",
    "                'loss_11': running_loss_11/(batch+1),\n",
    "                'loss_12': running_loss_12/(batch+1),\n",
    "                'loss_13': running_loss_13/(batch+1),\n",
    "                'loss_14': running_loss_14/(batch+1)\n",
    "                              })\n",
    "            pbar.update(zone_1_continuous.shape[0])\n",
    "\n",
    "            train_loss_1 = running_loss_1/len(train_dataloader)\n",
    "            train_loss_2 = running_loss_2/len(train_dataloader)\n",
    "            train_loss_3 = running_loss_3/len(train_dataloader)\n",
    "            train_loss_4 = running_loss_4/len(train_dataloader)\n",
    "            train_loss_5 = running_loss_5/len(train_dataloader)\n",
    "            train_loss_6 = running_loss_6/len(train_dataloader)\n",
    "            train_loss_7 = running_loss_7/len(train_dataloader)\n",
    "            train_loss_8 = running_loss_8/len(train_dataloader)\n",
    "            train_loss_9 = running_loss_9/len(train_dataloader)\n",
    "            train_loss_10 = running_loss_10/len(train_dataloader)\n",
    "            train_loss_11 = running_loss_11/len(train_dataloader)\n",
    "            train_loss_12 = running_loss_12/len(train_dataloader)\n",
    "            train_loss_13 = running_loss_13/len(train_dataloader)\n",
    "            train_loss_14 = running_loss_14/len(train_dataloader)\n",
    "\n",
    "            pbar.set_postfix({\n",
    "                'loss_1': train_loss_1,\n",
    "                'loss_2': train_loss_2,\n",
    "                'loss_3': train_loss_3,\n",
    "                'loss_4': train_loss_4,\n",
    "                'loss_5': train_loss_5,\n",
    "                'loss_6': train_loss_6,\n",
    "                'loss_7': train_loss_7,\n",
    "                'loss_8': train_loss_8,\n",
    "                'loss_9': train_loss_9,\n",
    "                'loss_10': train_loss_10,\n",
    "                'loss_11': train_loss_11,\n",
    "                'loss_12': train_loss_12,\n",
    "                'loss_13': train_loss_13,\n",
    "                'loss_14': train_loss_14,\n",
    "                              })\n",
    "\n",
    "            hist_loss_1[epoch] = train_loss_1\n",
    "            hist_loss_2[epoch] = train_loss_2\n",
    "            hist_loss_3[epoch] = train_loss_3\n",
    "            hist_loss_4[epoch] = train_loss_4\n",
    "            hist_loss_5[epoch] = train_loss_5\n",
    "            hist_loss_6[epoch] = train_loss_6\n",
    "            hist_loss_7[epoch] = train_loss_7\n",
    "            hist_loss_8[epoch] = train_loss_8\n",
    "            hist_loss_9[epoch] = train_loss_9\n",
    "            hist_loss_10[epoch] = train_loss_10\n",
    "            hist_loss_11[epoch] = train_loss_11\n",
    "            hist_loss_12[epoch] = train_loss_12\n",
    "            hist_loss_13[epoch] = train_loss_13\n",
    "            hist_loss_14[epoch] = train_loss_14\n",
    "\n",
    "\n",
    "print(\"All model stopped training at the end of epoch and final checkpoint saved !\")\n",
    "save_checkpoint(model_1, os.path.join(os.getcwd(), \"vae_transformer_checkpoint\",\n",
    "                                                      \"vae_transformer_best_1.pth\"))\n",
    "save_checkpoint(model_2, os.path.join(os.getcwd(), \"vae_transformer_checkpoint\",\n",
    "                                                      \"vae_transformer_best_2.pth\"))\n",
    "save_checkpoint(model_3, os.path.join(os.getcwd(), \"vae_transformer_checkpoint\",\n",
    "                                                      \"vae_transformer_best_3.pth\"))\n",
    "save_checkpoint(model_4, os.path.join(os.getcwd(), \"vae_transformer_checkpoint\",\n",
    "                                                      \"vae_transformer_best_4.pth\"))\n",
    "save_checkpoint(model_5, os.path.join(os.getcwd(), \"vae_transformer_checkpoint\",\n",
    "                                                      \"vae_transformer_best_5.pth\"))\n",
    "save_checkpoint(model_6, os.path.join(os.getcwd(), \"vae_transformer_checkpoint\",\n",
    "                                                      \"vae_transformer_best_6.pth\"))\n",
    "save_checkpoint(model_7, os.path.join(os.getcwd(), \"vae_transformer_checkpoint\",\n",
    "                                                      \"vae_transformer_best_7.pth\"))\n",
    "save_checkpoint(model_8, os.path.join(os.getcwd(), \"vae_transformer_checkpoint\",\n",
    "                                                      \"vae_transformer_best_8.pth\"))\n",
    "save_checkpoint(model_9, os.path.join(os.getcwd(), \"vae_transformer_checkpoint\",\n",
    "                                                      \"vae_transformer_best_9.pth\"))\n",
    "save_checkpoint(model_10, os.path.join(os.getcwd(), \"vae_transformer_checkpoint\",\n",
    "                                                      \"vae_transformer_best_10.pth\"))\n",
    "save_checkpoint(model_11, os.path.join(os.getcwd(), \"vae_transformer_checkpoint\",\n",
    "                                                      \"vae_transformer_best_11.pth\"))\n",
    "save_checkpoint(model_12, os.path.join(os.getcwd(), \"vae_transformer_checkpoint\",\n",
    "                                                      \"vae_transformer_best_12.pth\"))\n",
    "save_checkpoint(model_13, os.path.join(os.getcwd(), \"vae_transformer_checkpoint\",\n",
    "                                                      \"vae_transformer_best_13.pth\"))\n",
    "save_checkpoint(model_14, os.path.join(os.getcwd(), \"vae_transformer_checkpoint\",\n",
    "                                                      \"vae_transformer_best_14.pth\"))\n",
    "\n",
    "\n",
    "plt.plot(np.trim_zeros(hist_loss_1, 'b'), 'o-', label='train')\n",
    "plt.legend()\n",
    "plt.show()\n",
    "\n",
    "plt.plot(np.trim_zeros(hist_loss_2, 'b'), 'o-', label='train')\n",
    "plt.legend()\n",
    "plt.show()\n",
    "\n",
    "plt.plot(np.trim_zeros(hist_loss_3, 'b'), 'o-', label='train')\n",
    "plt.legend()\n",
    "plt.show()\n",
    "\n",
    "plt.plot(np.trim_zeros(hist_loss_4, 'b'), 'o-', label='train')\n",
    "plt.legend()\n",
    "plt.show()\n",
    "\n",
    "plt.plot(np.trim_zeros(hist_loss_5, 'b'), 'o-', label='train')\n",
    "plt.legend()\n",
    "plt.show()\n",
    "\n",
    "plt.plot(np.trim_zeros(hist_loss_6, 'b'), 'o-', label='train')\n",
    "plt.legend()\n",
    "plt.show()\n",
    "\n",
    "plt.plot(np.trim_zeros(hist_loss_7, 'b'), 'o-', label='train')\n",
    "plt.legend()\n",
    "plt.show()\n",
    "\n",
    "plt.plot(np.trim_zeros(hist_loss_8, 'b'), 'o-', label='train')\n",
    "plt.legend()\n",
    "plt.show()\n",
    "\n",
    "plt.plot(np.trim_zeros(hist_loss_9, 'b'), 'o-', label='train')\n",
    "plt.legend()\n",
    "plt.show()\n",
    "\n",
    "plt.plot(np.trim_zeros(hist_loss_10, 'b'), 'o-', label='train')\n",
    "plt.legend()\n",
    "plt.show()\n",
    "\n",
    "plt.plot(np.trim_zeros(hist_loss_11, 'b'), 'o-', label='train')\n",
    "plt.legend()\n",
    "plt.show()\n",
    "\n",
    "plt.plot(np.trim_zeros(hist_loss_12, 'b'), 'o-', label='train')\n",
    "plt.legend()\n",
    "plt.show()\n",
    "\n",
    "plt.plot(np.trim_zeros(hist_loss_13, 'b'), 'o-', label='train')\n",
    "plt.legend()\n",
    "plt.show()\n",
    "\n",
    "plt.plot(np.trim_zeros(hist_loss_14, 'b'), 'o-', label='train')\n",
    "plt.legend()\n",
    "plt.show()\n",
    "\n",
    "end_time = time.time()\n",
    "\n",
    "total_time = end_time - start_time\n",
    "print(\"\\nTotal time of training: {} hours\".format(total_time/3600))"
   ],
   "metadata": {
    "collapsed": false
   }
  },
  {
   "cell_type": "markdown",
   "source": [
    "### LOADING AND GENERATING RESULTS ON TEST DATALOADER"
   ],
   "metadata": {
    "collapsed": false
   }
  },
  {
   "cell_type": "code",
   "execution_count": 48,
   "outputs": [],
   "source": [
    "# Loading the models\n",
    "best_vae_transformer_1 = load_from_checkpoint(model_1, os.path.join(os.getcwd(),\n",
    "                                                                    \"vae_transformer_checkpoint\",\n",
    "                                                                    \"vae_transformer_best_1.pth\"))\n",
    "best_vae_transformer_2 = load_from_checkpoint(model_2, os.path.join(os.getcwd(),\n",
    "                                                                    \"vae_transformer_checkpoint\",\n",
    "                                                                    \"vae_transformer_best_2.pth\"))\n",
    "best_vae_transformer_3 = load_from_checkpoint(model_3, os.path.join(os.getcwd(),\n",
    "                                                                    \"vae_transformer_checkpoint\",\n",
    "                                                                    \"vae_transformer_best_3.pth\"))\n",
    "best_vae_transformer_4 = load_from_checkpoint(model_4, os.path.join(os.getcwd(),\n",
    "                                                                    \"vae_transformer_checkpoint\",\n",
    "                                                                    \"vae_transformer_best_4.pth\"))\n",
    "best_vae_transformer_5 = load_from_checkpoint(model_5, os.path.join(os.getcwd(),\n",
    "                                                                    \"vae_transformer_checkpoint\",\n",
    "                                                                    \"vae_transformer_best_5.pth\"))\n",
    "best_vae_transformer_6 = load_from_checkpoint(model_6, os.path.join(os.getcwd(),\n",
    "                                                                    \"vae_transformer_checkpoint\",\n",
    "                                                                    \"vae_transformer_best_6.pth\"))\n",
    "best_vae_transformer_7 = load_from_checkpoint(model_7, os.path.join(os.getcwd(),\n",
    "                                                                    \"vae_transformer_checkpoint\",\n",
    "                                                                    \"vae_transformer_best_7.pth\"))\n",
    "best_vae_transformer_8 = load_from_checkpoint(model_8, os.path.join(os.getcwd(),\n",
    "                                                                    \"vae_transformer_checkpoint\",\n",
    "                                                                    \"vae_transformer_best_8.pth\"))\n",
    "best_vae_transformer_9 = load_from_checkpoint(model_9, os.path.join(os.getcwd(),\n",
    "                                                                    \"vae_transformer_checkpoint\",\n",
    "                                                                    \"vae_transformer_best_9.pth\"))\n",
    "best_vae_transformer_10 = load_from_checkpoint(model_10, os.path.join(os.getcwd(),\n",
    "                                                                    \"vae_transformer_checkpoint\",\n",
    "                                                                    \"vae_transformer_best_10.pth\"))\n",
    "best_vae_transformer_11 = load_from_checkpoint(model_11, os.path.join(os.getcwd(),\n",
    "                                                                    \"vae_transformer_checkpoint\",\n",
    "                                                                    \"vae_transformer_best_11.pth\"))\n",
    "best_vae_transformer_12 = load_from_checkpoint(model_12, os.path.join(os.getcwd(),\n",
    "                                                                    \"vae_transformer_checkpoint\",\n",
    "                                                                    \"vae_transformer_best_12.pth\"))\n",
    "best_vae_transformer_13 = load_from_checkpoint(model_13, os.path.join(os.getcwd(),\n",
    "                                                                    \"vae_transformer_checkpoint\",\n",
    "                                                                    \"vae_transformer_best_13.pth\"))\n",
    "best_vae_transformer_14 = load_from_checkpoint(model_14, os.path.join(os.getcwd(),\n",
    "                                                                    \"vae_transformer_checkpoint\",\n",
    "                                                                    \"vae_transformer_best_14.pth\"))"
   ],
   "metadata": {
    "collapsed": false
   }
  },
  {
   "cell_type": "code",
   "execution_count": 49,
   "outputs": [
    {
     "name": "stderr",
     "output_type": "stream",
     "text": [
      "100%|██████████| 3/3 [00:01<00:00,  2.49it/s]\n"
     ]
    }
   ],
   "source": [
    "quantile_pred_1 = np.empty(shape=(len(test_dataloader.dataset), 24, model_args.d_output))\n",
    "quantile_pred_2 = np.empty(shape=(len(test_dataloader.dataset), 24, model_args.d_output))\n",
    "quantile_pred_3 = np.empty(shape=(len(test_dataloader.dataset), 24, model_args.d_output))\n",
    "quantile_pred_4 = np.empty(shape=(len(test_dataloader.dataset), 24, model_args.d_output))\n",
    "quantile_pred_5 = np.empty(shape=(len(test_dataloader.dataset), 24, model_args.d_output))\n",
    "quantile_pred_6 = np.empty(shape=(len(test_dataloader.dataset), 24, model_args.d_output))\n",
    "quantile_pred_7 = np.empty(shape=(len(test_dataloader.dataset), 24, model_args.d_output))\n",
    "quantile_pred_8 = np.empty(shape=(len(test_dataloader.dataset), 24, model_args.d_output))\n",
    "quantile_pred_9 = np.empty(shape=(len(test_dataloader.dataset), 24, model_args.d_output))\n",
    "quantile_pred_10 = np.empty(shape=(len(test_dataloader.dataset), 24, model_args.d_output))\n",
    "quantile_pred_11 = np.empty(shape=(len(test_dataloader.dataset), 24, model_args.d_output))\n",
    "quantile_pred_12 = np.empty(shape=(len(test_dataloader.dataset), 24, model_args.d_output))\n",
    "quantile_pred_13 = np.empty(shape=(len(test_dataloader.dataset), 24, model_args.d_output))\n",
    "quantile_pred_14 = np.empty(shape=(len(test_dataloader.dataset), 24, model_args.d_output))\n",
    "idx_pred_1 = 0\n",
    "idx_pred_2 = 0\n",
    "idx_pred_3 = 0\n",
    "idx_pred_4 = 0\n",
    "idx_pred_5 = 0\n",
    "idx_pred_6 = 0\n",
    "idx_pred_7 = 0\n",
    "idx_pred_8 = 0\n",
    "idx_pred_9 = 0\n",
    "idx_pred_10 = 0\n",
    "idx_pred_11 = 0\n",
    "idx_pred_12 = 0\n",
    "idx_pred_13 = 0\n",
    "idx_pred_14 = 0\n",
    "\n",
    "# Switching all models to eval mode\n",
    "model_1.eval()\n",
    "model_2.eval()\n",
    "model_3.eval()\n",
    "model_4.eval()\n",
    "model_5.eval()\n",
    "model_6.eval()\n",
    "model_7.eval()\n",
    "model_8.eval()\n",
    "model_9.eval()\n",
    "model_10.eval()\n",
    "model_11.eval()\n",
    "model_12.eval()\n",
    "model_13.eval()\n",
    "model_14.eval()\n",
    "\n",
    "with torch.no_grad():\n",
    "    for (categorical_var, continuous_var, target_var) in tqdm(test_dataloader, total=len(test_dataloader)):\n",
    "\n",
    "        # The categorical variables are common for all zones.\n",
    "        common_categorical = copy.deepcopy(categorical_var).to(device)\n",
    "\n",
    "        zone_1_continuous = copy.deepcopy(continuous_var[:, :, 0:3]).to(device)\n",
    "        zone_2_continuous = copy.deepcopy(continuous_var[:, :, 3:6]).to(device)\n",
    "        zone_3_continuous = copy.deepcopy(continuous_var[:, :, 6:9]).to(device)\n",
    "        zone_4_continuous = copy.deepcopy(continuous_var[:, :, 9:12]).to(device)\n",
    "        zone_5_continuous = copy.deepcopy(continuous_var[:, :, 12:15]).to(device)\n",
    "        zone_6_continuous = copy.deepcopy(continuous_var[:, :, 15:18]).to(device)\n",
    "        zone_7_continuous = copy.deepcopy(continuous_var[:, :, 18:21]).to(device)\n",
    "        zone_8_continuous = copy.deepcopy(continuous_var[:, :, 21:24]).to(device)\n",
    "        zone_9_continuous = copy.deepcopy(continuous_var[:, :, 24:27]).to(device)\n",
    "        zone_10_continuous = copy.deepcopy(continuous_var[:, :, 27:30]).to(device)\n",
    "        zone_11_continuous = copy.deepcopy(continuous_var[:, :, 30:33]).to(device)\n",
    "        zone_12_continuous = copy.deepcopy(continuous_var[:, :, 33:36]).to(device)\n",
    "        zone_13_continuous = copy.deepcopy(continuous_var[:, :, 36:39]).to(device)\n",
    "        zone_14_continuous = copy.deepcopy(continuous_var[:, :, 39:42]).to(device)\n",
    "\n",
    "        zone_1_target = copy.deepcopy(target_var[:, :, 0:1])\n",
    "        zone_2_target = copy.deepcopy(target_var[:, :, 1:2])\n",
    "        zone_3_target = copy.deepcopy(target_var[:, :, 2:3])\n",
    "        zone_4_target = copy.deepcopy(target_var[:, :, 3:4])\n",
    "        zone_5_target = copy.deepcopy(target_var[:, :, 4:5])\n",
    "        zone_6_target = copy.deepcopy(target_var[:, :, 5:6])\n",
    "        zone_7_target = copy.deepcopy(target_var[:, :, 6:7])\n",
    "        zone_8_target = copy.deepcopy(target_var[:, :, 7:8])\n",
    "        zone_9_target = copy.deepcopy(target_var[:, :, 8:9])\n",
    "        zone_10_target = copy.deepcopy(target_var[:, :, 9:10])\n",
    "        zone_11_target = copy.deepcopy(target_var[:, :, 10:11])\n",
    "        zone_12_target = copy.deepcopy(target_var[:, :, 11:12])\n",
    "        zone_13_target = copy.deepcopy(target_var[:, :, 12:13])\n",
    "        zone_14_target = copy.deepcopy(target_var[:, :, 13:14])\n",
    "\n",
    "        # Propagating through the network\n",
    "        out_vae_1, out_transformer_1 = model_1(common_categorical, zone_1_continuous)\n",
    "        out_vae_2, out_transformer_2 = model_2(common_categorical, zone_2_continuous)\n",
    "        out_vae_3, out_transformer_3 = model_3(common_categorical, zone_3_continuous)\n",
    "        out_vae_4, out_transformer_4 = model_4(common_categorical, zone_4_continuous)\n",
    "        out_vae_5, out_transformer_5 = model_5(common_categorical, zone_5_continuous)\n",
    "        out_vae_6, out_transformer_6 = model_6(common_categorical, zone_6_continuous)\n",
    "        out_vae_7, out_transformer_7 = model_7(common_categorical, zone_7_continuous)\n",
    "        out_vae_8, out_transformer_8 = model_8(common_categorical, zone_8_continuous)\n",
    "        out_vae_9, out_transformer_9 = model_9(common_categorical, zone_9_continuous)\n",
    "        out_vae_10, out_transformer_10 = model_10(common_categorical, zone_10_continuous)\n",
    "        out_vae_11, out_transformer_11 = model_11(common_categorical, zone_11_continuous)\n",
    "        out_vae_12, out_transformer_12 = model_12(common_categorical, zone_12_continuous)\n",
    "        out_vae_13, out_transformer_13 = model_13(common_categorical, zone_13_continuous)\n",
    "        out_vae_14, out_transformer_14 = model_14(common_categorical, zone_14_continuous)\n",
    "\n",
    "        # Concatenating the predictions\n",
    "        quantile_pred_1[idx_pred_1:idx_pred_1+zone_1_continuous.shape[0]] = out_transformer_1.cpu().numpy()\n",
    "\n",
    "        quantile_pred_2[idx_pred_2:idx_pred_2+zone_2_continuous.shape[0]] = out_transformer_2.cpu().numpy()\n",
    "\n",
    "        quantile_pred_3[idx_pred_3:idx_pred_3+zone_3_continuous.shape[0]] = out_transformer_3.cpu().numpy()\n",
    "\n",
    "        quantile_pred_4[idx_pred_4:idx_pred_4+zone_4_continuous.shape[0]] = out_transformer_4.cpu().numpy()\n",
    "\n",
    "        quantile_pred_5[idx_pred_5:idx_pred_5+zone_5_continuous.shape[0]] = out_transformer_5.cpu().numpy()\n",
    "\n",
    "        quantile_pred_6[idx_pred_6:idx_pred_6+zone_6_continuous.shape[0]] = out_transformer_6.cpu().numpy()\n",
    "\n",
    "        quantile_pred_7[idx_pred_7:idx_pred_7+zone_7_continuous.shape[0]] = out_transformer_7.cpu().numpy()\n",
    "\n",
    "        quantile_pred_8[idx_pred_8:idx_pred_8+zone_8_continuous.shape[0]] = out_transformer_8.cpu().numpy()\n",
    "\n",
    "        quantile_pred_9[idx_pred_9:idx_pred_9+zone_9_continuous.shape[0]] = out_transformer_9.cpu().numpy()\n",
    "\n",
    "        quantile_pred_10[idx_pred_10:idx_pred_10+zone_10_continuous.shape[0]] = out_transformer_10.cpu().numpy()\n",
    "\n",
    "        quantile_pred_11[idx_pred_11:idx_pred_11+zone_11_continuous.shape[0]] = out_transformer_11.cpu().numpy()\n",
    "\n",
    "        quantile_pred_12[idx_pred_12:idx_pred_12+zone_12_continuous.shape[0]] = out_transformer_12.cpu().numpy()\n",
    "\n",
    "        quantile_pred_13[idx_pred_13:idx_pred_13+zone_13_continuous.shape[0]] = out_transformer_13.cpu().numpy()\n",
    "\n",
    "        quantile_pred_14[idx_pred_14:idx_pred_14+zone_14_continuous.shape[0]] = out_transformer_14.cpu().numpy()\n",
    "\n",
    "        idx_pred_1 += zone_1_continuous.shape[0]\n",
    "        idx_pred_2 += zone_2_continuous.shape[0]\n",
    "        idx_pred_3 += zone_3_continuous.shape[0]\n",
    "        idx_pred_4 += zone_4_continuous.shape[0]\n",
    "        idx_pred_5 += zone_5_continuous.shape[0]\n",
    "        idx_pred_6 += zone_6_continuous.shape[0]\n",
    "        idx_pred_7 += zone_7_continuous.shape[0]\n",
    "        idx_pred_8 += zone_8_continuous.shape[0]\n",
    "        idx_pred_9 += zone_9_continuous.shape[0]\n",
    "        idx_pred_10 += zone_10_continuous.shape[0]\n",
    "        idx_pred_11 += zone_11_continuous.shape[0]\n",
    "        idx_pred_12 += zone_12_continuous.shape[0]\n",
    "        idx_pred_13 += zone_13_continuous.shape[0]\n",
    "        idx_pred_14 += zone_14_continuous.shape[0]"
   ],
   "metadata": {
    "collapsed": false
   }
  },
  {
   "cell_type": "markdown",
   "source": [
    "#### FORMATTING PREDICTED AND TRUE DATA FOR GENERATING RESULTS"
   ],
   "metadata": {
    "collapsed": false
   }
  },
  {
   "cell_type": "code",
   "execution_count": 50,
   "outputs": [
    {
     "data": {
      "text/plain": "(8760, 9)"
     },
     "execution_count": 50,
     "metadata": {},
     "output_type": "execute_result"
    }
   ],
   "source": [
    "# Reshaping the predicted quantiles\n",
    "quantile_pred_arr_1 = quantile_pred_1.reshape(-1, model_args.d_output)\n",
    "quantile_pred_arr_2 = quantile_pred_2.reshape(-1, model_args.d_output)\n",
    "quantile_pred_arr_3 = quantile_pred_3.reshape(-1, model_args.d_output)\n",
    "quantile_pred_arr_4 = quantile_pred_4.reshape(-1, model_args.d_output)\n",
    "quantile_pred_arr_5 = quantile_pred_5.reshape(-1, model_args.d_output)\n",
    "quantile_pred_arr_6 = quantile_pred_6.reshape(-1, model_args.d_output)\n",
    "quantile_pred_arr_7 = quantile_pred_7.reshape(-1, model_args.d_output)\n",
    "quantile_pred_arr_8 = quantile_pred_8.reshape(-1, model_args.d_output)\n",
    "quantile_pred_arr_9 = quantile_pred_9.reshape(-1, model_args.d_output)\n",
    "quantile_pred_arr_10 = quantile_pred_10.reshape(-1, model_args.d_output)\n",
    "quantile_pred_arr_11 = quantile_pred_11.reshape(-1, model_args.d_output)\n",
    "quantile_pred_arr_12 = quantile_pred_12.reshape(-1, model_args.d_output)\n",
    "quantile_pred_arr_13 = quantile_pred_13.reshape(-1, model_args.d_output)\n",
    "quantile_pred_arr_14 = quantile_pred_14.reshape(-1, model_args.d_output)\n",
    "\n",
    "quantile_pred_arr_1.shape"
   ],
   "metadata": {
    "collapsed": false
   }
  },
  {
   "cell_type": "code",
   "execution_count": 51,
   "outputs": [
    {
     "data": {
      "text/plain": "(8760, 9)"
     },
     "execution_count": 51,
     "metadata": {},
     "output_type": "execute_result"
    }
   ],
   "source": [
    "quantile_pred_1_inv = quantile_pred_arr_1 * (mm_scaler_Y.data_max_[0] - mm_scaler_Y.data_min_[0]) + mm_scaler_Y.data_min_[0]\n",
    "quantile_pred_2_inv = quantile_pred_arr_2 * (mm_scaler_Y.data_max_[1] - mm_scaler_Y.data_min_[1]) + mm_scaler_Y.data_min_[1]\n",
    "quantile_pred_3_inv = quantile_pred_arr_3 * (mm_scaler_Y.data_max_[2] - mm_scaler_Y.data_min_[2]) + mm_scaler_Y.data_min_[2]\n",
    "quantile_pred_4_inv = quantile_pred_arr_4 * (mm_scaler_Y.data_max_[3] - mm_scaler_Y.data_min_[3]) + mm_scaler_Y.data_min_[3]\n",
    "quantile_pred_5_inv = quantile_pred_arr_5 * (mm_scaler_Y.data_max_[4] - mm_scaler_Y.data_min_[4]) + mm_scaler_Y.data_min_[4]\n",
    "quantile_pred_6_inv = quantile_pred_arr_6 * (mm_scaler_Y.data_max_[5] - mm_scaler_Y.data_min_[5]) + mm_scaler_Y.data_min_[5]\n",
    "quantile_pred_7_inv = quantile_pred_arr_7 * (mm_scaler_Y.data_max_[6] - mm_scaler_Y.data_min_[6]) + mm_scaler_Y.data_min_[6]\n",
    "quantile_pred_8_inv = quantile_pred_arr_8 * (mm_scaler_Y.data_max_[7] - mm_scaler_Y.data_min_[7]) + mm_scaler_Y.data_min_[7]\n",
    "quantile_pred_9_inv = quantile_pred_arr_9 * (mm_scaler_Y.data_max_[8] - mm_scaler_Y.data_min_[8]) + mm_scaler_Y.data_min_[8]\n",
    "quantile_pred_10_inv = quantile_pred_arr_10 * (mm_scaler_Y.data_max_[9] - mm_scaler_Y.data_min_[9]) + mm_scaler_Y.data_min_[9]\n",
    "quantile_pred_11_inv = quantile_pred_arr_11 * (mm_scaler_Y.data_max_[10] - mm_scaler_Y.data_min_[10]) + mm_scaler_Y.data_min_[10]\n",
    "quantile_pred_12_inv = quantile_pred_arr_12 * (mm_scaler_Y.data_max_[11] - mm_scaler_Y.data_min_[11]) + mm_scaler_Y.data_min_[11]\n",
    "quantile_pred_13_inv = quantile_pred_arr_13 * (mm_scaler_Y.data_max_[12] - mm_scaler_Y.data_min_[12]) + mm_scaler_Y.data_min_[12]\n",
    "quantile_pred_14_inv = quantile_pred_arr_14 * (mm_scaler_Y.data_max_[13] - mm_scaler_Y.data_min_[13]) + mm_scaler_Y.data_min_[13]\n",
    "\n",
    "quantile_pred_arr_1.shape"
   ],
   "metadata": {
    "collapsed": false
   }
  },
  {
   "cell_type": "code",
   "execution_count": 52,
   "outputs": [
    {
     "data": {
      "text/plain": "(8760, 1)"
     },
     "execution_count": 52,
     "metadata": {},
     "output_type": "execute_result"
    }
   ],
   "source": [
    "# Reshaping the true data\n",
    "Y_test_1 = target_samples_testing[:, :, 0:1]\n",
    "Y_test_2 = target_samples_testing[:, :, 1:2]\n",
    "Y_test_3 = target_samples_testing[:, :, 2:3]\n",
    "Y_test_4 = target_samples_testing[:, :, 3:4]\n",
    "Y_test_5 = target_samples_testing[:, :, 4:5]\n",
    "Y_test_6 = target_samples_testing[:, :, 5:6]\n",
    "Y_test_7 = target_samples_testing[:, :, 6:7]\n",
    "Y_test_8 = target_samples_testing[:, :, 7:8]\n",
    "Y_test_9 = target_samples_testing[:, :, 8:9]\n",
    "Y_test_10 = target_samples_testing[:, :, 9:10]\n",
    "Y_test_11 = target_samples_testing[:, :, 10:11]\n",
    "Y_test_12 = target_samples_testing[:, :, 11:12]\n",
    "Y_test_13 = target_samples_testing[:, :, 12:13]\n",
    "Y_test_14 = target_samples_testing[:, :, 13:14]\n",
    "\n",
    "yArr_1 = Y_test_1.reshape(Y_test_1.shape[0] * Y_test_1.shape[1], Y_test_1.shape[2]).numpy()\n",
    "yArr_2 = Y_test_2.reshape(Y_test_2.shape[0] * Y_test_2.shape[1], Y_test_2.shape[2]).numpy()\n",
    "yArr_3 = Y_test_3.reshape(Y_test_3.shape[0] * Y_test_3.shape[1], Y_test_3.shape[2]).numpy()\n",
    "yArr_4 = Y_test_4.reshape(Y_test_4.shape[0] * Y_test_4.shape[1], Y_test_4.shape[2]).numpy()\n",
    "yArr_5 = Y_test_5.reshape(Y_test_5.shape[0] * Y_test_5.shape[1], Y_test_5.shape[2]).numpy()\n",
    "yArr_6 = Y_test_6.reshape(Y_test_6.shape[0] * Y_test_6.shape[1], Y_test_6.shape[2]).numpy()\n",
    "yArr_7 = Y_test_7.reshape(Y_test_7.shape[0] * Y_test_7.shape[1], Y_test_7.shape[2]).numpy()\n",
    "yArr_8 = Y_test_8.reshape(Y_test_8.shape[0] * Y_test_8.shape[1], Y_test_8.shape[2]).numpy()\n",
    "yArr_9 = Y_test_9.reshape(Y_test_9.shape[0] * Y_test_9.shape[1], Y_test_9.shape[2]).numpy()\n",
    "yArr_10 = Y_test_10.reshape(Y_test_10.shape[0] * Y_test_10.shape[1], Y_test_10.shape[2]).numpy()\n",
    "yArr_11 = Y_test_11.reshape(Y_test_11.shape[0] * Y_test_11.shape[1], Y_test_11.shape[2]).numpy()\n",
    "yArr_12 = Y_test_12.reshape(Y_test_12.shape[0] * Y_test_12.shape[1], Y_test_12.shape[2]).numpy()\n",
    "yArr_13 = Y_test_13.reshape(Y_test_13.shape[0] * Y_test_13.shape[1], Y_test_13.shape[2]).numpy()\n",
    "yArr_14 = Y_test_14.reshape(Y_test_14.shape[0] * Y_test_14.shape[1], Y_test_14.shape[2]).numpy()\n",
    "\n",
    "yArr_1.shape"
   ],
   "metadata": {
    "collapsed": false
   }
  },
  {
   "cell_type": "code",
   "execution_count": 53,
   "outputs": [],
   "source": [
    "yArr_1_inv = yArr_1 * (mm_scaler_Y.data_max_[0] - mm_scaler_Y.data_min_[0]) + mm_scaler_Y.data_min_[0]\n",
    "yArr_2_inv = yArr_2 * (mm_scaler_Y.data_max_[1] - mm_scaler_Y.data_min_[1]) + mm_scaler_Y.data_min_[1]\n",
    "yArr_3_inv = yArr_3 * (mm_scaler_Y.data_max_[2] - mm_scaler_Y.data_min_[2]) + mm_scaler_Y.data_min_[2]\n",
    "yArr_4_inv = yArr_4 * (mm_scaler_Y.data_max_[3] - mm_scaler_Y.data_min_[3]) + mm_scaler_Y.data_min_[3]\n",
    "yArr_5_inv = yArr_5 * (mm_scaler_Y.data_max_[4] - mm_scaler_Y.data_min_[4]) + mm_scaler_Y.data_min_[4]\n",
    "yArr_6_inv = yArr_6 * (mm_scaler_Y.data_max_[5] - mm_scaler_Y.data_min_[5]) + mm_scaler_Y.data_min_[5]\n",
    "yArr_7_inv = yArr_7 * (mm_scaler_Y.data_max_[6] - mm_scaler_Y.data_min_[6]) + mm_scaler_Y.data_min_[6]\n",
    "yArr_8_inv = yArr_8 * (mm_scaler_Y.data_max_[7] - mm_scaler_Y.data_min_[7]) + mm_scaler_Y.data_min_[7]\n",
    "yArr_9_inv = yArr_9 * (mm_scaler_Y.data_max_[8] - mm_scaler_Y.data_min_[8]) + mm_scaler_Y.data_min_[8]\n",
    "yArr_10_inv = yArr_10 * (mm_scaler_Y.data_max_[9] - mm_scaler_Y.data_min_[9]) + mm_scaler_Y.data_min_[9]\n",
    "yArr_11_inv = yArr_11 * (mm_scaler_Y.data_max_[10] - mm_scaler_Y.data_min_[10]) + mm_scaler_Y.data_min_[10]\n",
    "yArr_12_inv = yArr_12 * (mm_scaler_Y.data_max_[11] - mm_scaler_Y.data_min_[11]) + mm_scaler_Y.data_min_[11]\n",
    "yArr_13_inv = yArr_13 * (mm_scaler_Y.data_max_[12] - mm_scaler_Y.data_min_[12]) + mm_scaler_Y.data_min_[12]\n",
    "yArr_14_inv = yArr_14 * (mm_scaler_Y.data_max_[13] - mm_scaler_Y.data_min_[13]) + mm_scaler_Y.data_min_[13]"
   ],
   "metadata": {
    "collapsed": false
   }
  },
  {
   "cell_type": "markdown",
   "source": [
    "#### CALCULATING THE PINBALL LOSS SCORE"
   ],
   "metadata": {
    "collapsed": false
   }
  },
  {
   "cell_type": "code",
   "execution_count": 54,
   "outputs": [],
   "source": [
    "def pinball_score_zone(quantile_pred_arr, true_data_arr):\n",
    "    pinball_trans = np.array([np.mean([pinball(quantile_pred_arr[t, i], tau, true_data_arr[t]) for t in range(len(true_data_arr))]) for i, tau in enumerate(quantile_list)])\n",
    "    return pinball_trans.mean()"
   ],
   "metadata": {
    "collapsed": false
   }
  },
  {
   "cell_type": "code",
   "execution_count": 55,
   "outputs": [
    {
     "name": "stdout",
     "output_type": "stream",
     "text": [
      "Zone 1 - Mean Pinball Loss:  109.327286\n"
     ]
    }
   ],
   "source": [
    "pinball_loss_mean_1 = pinball_score_zone(quantile_pred_1_inv, yArr_1_inv)\n",
    "print(\"Zone 1 - Mean Pinball Loss: \", pinball_loss_mean_1)"
   ],
   "metadata": {
    "collapsed": false
   }
  },
  {
   "cell_type": "code",
   "execution_count": 56,
   "outputs": [
    {
     "name": "stdout",
     "output_type": "stream",
     "text": [
      "Zone 2 - Mean Pinball Loss:  108.774155\n"
     ]
    }
   ],
   "source": [
    "pinball_loss_mean_2 = pinball_score_zone(quantile_pred_2_inv, yArr_2_inv)\n",
    "print(\"Zone 2 - Mean Pinball Loss: \", pinball_loss_mean_2)"
   ],
   "metadata": {
    "collapsed": false
   }
  },
  {
   "cell_type": "code",
   "execution_count": 57,
   "outputs": [
    {
     "name": "stdout",
     "output_type": "stream",
     "text": [
      "Zone 3 - Mean Pinball Loss:  58.56998\n"
     ]
    }
   ],
   "source": [
    "pinball_loss_mean_3 = pinball_score_zone(quantile_pred_3_inv, yArr_3_inv)\n",
    "print(\"Zone 3 - Mean Pinball Loss: \", pinball_loss_mean_3)"
   ],
   "metadata": {
    "collapsed": false
   }
  },
  {
   "cell_type": "code",
   "execution_count": 58,
   "outputs": [
    {
     "name": "stdout",
     "output_type": "stream",
     "text": [
      "Zone 4 - Mean Pinball Loss:  137.8\n"
     ]
    }
   ],
   "source": [
    "pinball_loss_mean_4 = pinball_score_zone(quantile_pred_4_inv, yArr_4_inv)\n",
    "print(\"Zone 4 - Mean Pinball Loss: \", pinball_loss_mean_4)"
   ],
   "metadata": {
    "collapsed": false
   }
  },
  {
   "cell_type": "code",
   "execution_count": 59,
   "outputs": [
    {
     "name": "stdout",
     "output_type": "stream",
     "text": [
      "Zone 5 - Mean Pinball Loss:  90.70792\n"
     ]
    }
   ],
   "source": [
    "pinball_loss_mean_5 = pinball_score_zone(quantile_pred_5_inv, yArr_5_inv)\n",
    "print(\"Zone 5 - Mean Pinball Loss: \", pinball_loss_mean_5)"
   ],
   "metadata": {
    "collapsed": false
   }
  },
  {
   "cell_type": "code",
   "execution_count": 60,
   "outputs": [
    {
     "name": "stdout",
     "output_type": "stream",
     "text": [
      "Zone 6 - Mean Pinball Loss:  56.099472\n"
     ]
    }
   ],
   "source": [
    "pinball_loss_mean_6 = pinball_score_zone(quantile_pred_6_inv, yArr_6_inv)\n",
    "print(\"Zone 6 - Mean Pinball Loss: \", pinball_loss_mean_6)"
   ],
   "metadata": {
    "collapsed": false
   }
  },
  {
   "cell_type": "code",
   "execution_count": 61,
   "outputs": [
    {
     "name": "stdout",
     "output_type": "stream",
     "text": [
      "Zone 7 - Mean Pinball Loss:  272.7236\n"
     ]
    }
   ],
   "source": [
    "pinball_loss_mean_7 = pinball_score_zone(quantile_pred_7_inv, yArr_7_inv)\n",
    "print(\"Zone 7 - Mean Pinball Loss: \", pinball_loss_mean_7)"
   ],
   "metadata": {
    "collapsed": false
   }
  },
  {
   "cell_type": "code",
   "execution_count": 62,
   "outputs": [
    {
     "name": "stdout",
     "output_type": "stream",
     "text": [
      "Zone 8 - Mean Pinball Loss:  618.2413\n"
     ]
    }
   ],
   "source": [
    "pinball_loss_mean_8 = pinball_score_zone(quantile_pred_8_inv, yArr_8_inv)\n",
    "print(\"Zone 8 - Mean Pinball Loss: \", pinball_loss_mean_8)"
   ],
   "metadata": {
    "collapsed": false
   }
  },
  {
   "cell_type": "code",
   "execution_count": 63,
   "outputs": [
    {
     "name": "stdout",
     "output_type": "stream",
     "text": [
      "Zone 9 - Mean Pinball Loss:  93.99997\n"
     ]
    }
   ],
   "source": [
    "pinball_loss_mean_9 = pinball_score_zone(quantile_pred_9_inv, yArr_9_inv)\n",
    "print(\"Zone 9 - Mean Pinball Loss: \", pinball_loss_mean_9)"
   ],
   "metadata": {
    "collapsed": false
   }
  },
  {
   "cell_type": "code",
   "execution_count": 64,
   "outputs": [
    {
     "name": "stdout",
     "output_type": "stream",
     "text": [
      "Zone 10 - Mean Pinball Loss:  473.23325\n"
     ]
    }
   ],
   "source": [
    "pinball_loss_mean_10 = pinball_score_zone(quantile_pred_10_inv, yArr_10_inv)\n",
    "print(\"Zone 10 - Mean Pinball Loss: \", pinball_loss_mean_10)"
   ],
   "metadata": {
    "collapsed": false
   }
  },
  {
   "cell_type": "code",
   "execution_count": 65,
   "outputs": [
    {
     "name": "stdout",
     "output_type": "stream",
     "text": [
      "Zone 11 - Mean Pinball Loss:  168.65985\n"
     ]
    }
   ],
   "source": [
    "pinball_loss_mean_11 = pinball_score_zone(quantile_pred_11_inv, yArr_11_inv)\n",
    "print(\"Zone 11 - Mean Pinball Loss: \", pinball_loss_mean_11)"
   ],
   "metadata": {
    "collapsed": false
   }
  },
  {
   "cell_type": "code",
   "execution_count": 66,
   "outputs": [
    {
     "name": "stdout",
     "output_type": "stream",
     "text": [
      "Zone 12 - Mean Pinball Loss:  68.041275\n"
     ]
    }
   ],
   "source": [
    "pinball_loss_mean_12 = pinball_score_zone(quantile_pred_12_inv, yArr_12_inv)\n",
    "print(\"Zone 12 - Mean Pinball Loss: \", pinball_loss_mean_12)"
   ],
   "metadata": {
    "collapsed": false
   }
  },
  {
   "cell_type": "code",
   "execution_count": 67,
   "outputs": [
    {
     "name": "stdout",
     "output_type": "stream",
     "text": [
      "Zone 13 - Mean Pinball Loss:  28.442007\n"
     ]
    }
   ],
   "source": [
    "pinball_loss_mean_13 = pinball_score_zone(quantile_pred_13_inv, yArr_13_inv)\n",
    "print(\"Zone 13 - Mean Pinball Loss: \", pinball_loss_mean_13)"
   ],
   "metadata": {
    "collapsed": false
   }
  },
  {
   "cell_type": "code",
   "execution_count": 68,
   "outputs": [
    {
     "name": "stdout",
     "output_type": "stream",
     "text": [
      "Zone 14 - Mean Pinball Loss:  45.04714\n"
     ]
    }
   ],
   "source": [
    "pinball_loss_mean_14 = pinball_score_zone(quantile_pred_14_inv, yArr_14_inv)\n",
    "print(\"Zone 14 - Mean Pinball Loss: \", pinball_loss_mean_14)"
   ],
   "metadata": {
    "collapsed": false
   }
  },
  {
   "cell_type": "code",
   "execution_count": 69,
   "outputs": [
    {
     "name": "stdout",
     "output_type": "stream",
     "text": [
      "Saving the best trained models.\n",
      "Saved !\n"
     ]
    }
   ],
   "source": [
    "print(\"Saving the best trained models.\")\n",
    "\n",
    "# Saving the models\n",
    "torch.save(best_vae_transformer_1, f\"vae_transformer_models/L3_vae_transformer_1.pth\")\n",
    "torch.save(best_vae_transformer_2, f\"vae_transformer_models/L3_vae_transformer_2.pth\")\n",
    "torch.save(best_vae_transformer_3, f\"vae_transformer_models/L3_vae_transformer_3.pth\")\n",
    "torch.save(best_vae_transformer_4, f\"vae_transformer_models/L3_vae_transformer_4.pth\")\n",
    "torch.save(best_vae_transformer_5, f\"vae_transformer_models/L3_vae_transformer_5.pth\")\n",
    "torch.save(best_vae_transformer_6, f\"vae_transformer_models/L3_vae_transformer_6.pth\")\n",
    "torch.save(best_vae_transformer_7, f\"vae_transformer_models/L3_vae_transformer_7.pth\")\n",
    "torch.save(best_vae_transformer_8, f\"vae_transformer_models/L3_vae_transformer_8.pth\")\n",
    "torch.save(best_vae_transformer_9, f\"vae_transformer_models/L3_vae_transformer_9.pth\")\n",
    "torch.save(best_vae_transformer_10, f\"vae_transformer_models/L3_vae_transformer_10.pth\")\n",
    "torch.save(best_vae_transformer_11, f\"vae_transformer_models/L3_vae_transformer_11.pth\")\n",
    "torch.save(best_vae_transformer_12, f\"vae_transformer_models/L3_vae_transformer_12.pth\")\n",
    "torch.save(best_vae_transformer_13, f\"vae_transformer_models/L3_vae_transformer_13.pth\")\n",
    "torch.save(best_vae_transformer_14, f\"vae_transformer_models/L3_vae_transformer_14.pth\")\n",
    "\n",
    "print(\"Saved !\")"
   ],
   "metadata": {
    "collapsed": false
   }
  },
  {
   "cell_type": "code",
   "execution_count": 70,
   "outputs": [
    {
     "name": "stdout",
     "output_type": "stream",
     "text": [
      "Results saved !\n"
     ]
    }
   ],
   "source": [
    "resultsDf = pd.DataFrame()\n",
    "resultsDf[\"zone\"] = [i.removesuffix('.csv') for i in fileList]\n",
    "resultsDf[\"pinball_loss\"] = [\n",
    "    pinball_loss_mean_1, pinball_loss_mean_2, pinball_loss_mean_3,\n",
    "    pinball_loss_mean_4, pinball_loss_mean_5, pinball_loss_mean_6,\n",
    "    pinball_loss_mean_7, pinball_loss_mean_8, pinball_loss_mean_9,\n",
    "    pinball_loss_mean_10, pinball_loss_mean_11, pinball_loss_mean_12,\n",
    "    pinball_loss_mean_13, pinball_loss_mean_14\n",
    "]\n",
    "\n",
    "resultsDf.to_csv(os.path.join(\"results\", dataset + \".csv\"), index=False)\n",
    "print(\"Results saved !\")"
   ],
   "metadata": {
    "collapsed": false
   }
  },
  {
   "cell_type": "code",
   "execution_count": 71,
   "outputs": [
    {
     "data": {
      "text/plain": "{'status': 'ok', 'restart': True}"
     },
     "execution_count": 71,
     "metadata": {},
     "output_type": "execute_result"
    }
   ],
   "source": [
    "import IPython\n",
    "app = IPython.Application.instance()\n",
    "app.kernel.do_shutdown(True)"
   ],
   "metadata": {
    "collapsed": false
   }
  }
 ],
 "metadata": {
  "kernelspec": {
   "display_name": "Python 3",
   "language": "python",
   "name": "python3"
  },
  "language_info": {
   "codemirror_mode": {
    "name": "ipython",
    "version": 2
   },
   "file_extension": ".py",
   "mimetype": "text/x-python",
   "name": "python",
   "nbconvert_exporter": "python",
   "pygments_lexer": "ipython2",
   "version": "2.7.6"
  }
 },
 "nbformat": 4,
 "nbformat_minor": 0
}
