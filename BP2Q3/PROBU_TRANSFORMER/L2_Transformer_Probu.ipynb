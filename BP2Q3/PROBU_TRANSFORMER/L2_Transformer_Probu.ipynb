{
 "cells": [
  {
   "cell_type": "code",
   "execution_count": 1,
   "outputs": [
    {
     "name": "stdout",
     "output_type": "stream",
     "text": [
      "Using device cuda:0\n"
     ]
    }
   ],
   "source": [
    "# Importing the required libraries\n",
    "from IPython.display import display\n",
    "import os\n",
    "import numpy as np\n",
    "import pandas as pd\n",
    "from matplotlib import pyplot as plt\n",
    "from tqdm import tqdm\n",
    "from sklearn.preprocessing import MinMaxScaler, OneHotEncoder\n",
    "import time\n",
    "import easydict\n",
    "import copy\n",
    "\n",
    "import torch\n",
    "import torch.nn as nn\n",
    "from torch.utils.tensorboard import SummaryWriter\n",
    "from torch.utils.data import DataLoader, Dataset\n",
    "import torch.optim as optim\n",
    "from tqdm import tqdm\n",
    "\n",
    "from time_transformer.transformer import Transformer\n",
    "\n",
    "# Training device check-up\n",
    "device = torch.device(\"cuda:0\" if torch.cuda.is_available() else \"cpu\")\n",
    "print(f\"Using device {device}\")\n",
    "\n",
    "writer = SummaryWriter()\n",
    "\n",
    "# Defining DOE custom mape formula\n",
    "def mape(y_true, y_pred):\n",
    "    y_true, y_pred = np.array(y_true), np.array(y_pred)\n",
    "    return np.mean(np.abs((y_true - y_pred) / max(y_true))) * 100"
   ],
   "metadata": {
    "collapsed": false
   }
  },
  {
   "cell_type": "markdown",
   "source": [
    "#### FETCHING AND PROCESSING CALENDER FEATURES"
   ],
   "metadata": {
    "collapsed": false
   }
  },
  {
   "cell_type": "code",
   "execution_count": 2,
   "outputs": [
    {
     "name": "stdout",
     "output_type": "stream",
     "text": [
      "['COAST.csv', 'EAST.csv', 'FWEST.csv', 'NCENT.csv', 'NORTH.csv', 'SCENT.csv', 'SOUTH.csv', 'WEST.csv']\n"
     ]
    }
   ],
   "source": [
    "# Specifying the path of file\n",
    "path= r\"C:\\Users\\sashah8\\DOE_Graph_Attention_Transformer\\DOE MODEL TRAINING\\Data Processing\\processed_data\"\n",
    "dataset = \"L2\"\n",
    "\n",
    "# Listing just the required files\n",
    "fileList = os.listdir(os.path.join(path, dataset))\n",
    "\n",
    "# Previewing the required file names\n",
    "print(fileList)"
   ],
   "metadata": {
    "collapsed": false
   }
  },
  {
   "cell_type": "code",
   "execution_count": 3,
   "outputs": [
    {
     "data": {
      "text/plain": "                   ept           mw  tmp\n0  2015-01-01 00:00:00  9844.200268  6.8\n1  2015-01-01 01:00:00  9653.456269  7.1",
      "text/html": "<div>\n<style scoped>\n    .dataframe tbody tr th:only-of-type {\n        vertical-align: middle;\n    }\n\n    .dataframe tbody tr th {\n        vertical-align: top;\n    }\n\n    .dataframe thead th {\n        text-align: right;\n    }\n</style>\n<table border=\"1\" class=\"dataframe\">\n  <thead>\n    <tr style=\"text-align: right;\">\n      <th></th>\n      <th>ept</th>\n      <th>mw</th>\n      <th>tmp</th>\n    </tr>\n  </thead>\n  <tbody>\n    <tr>\n      <th>0</th>\n      <td>2015-01-01 00:00:00</td>\n      <td>9844.200268</td>\n      <td>6.8</td>\n    </tr>\n    <tr>\n      <th>1</th>\n      <td>2015-01-01 01:00:00</td>\n      <td>9653.456269</td>\n      <td>7.1</td>\n    </tr>\n  </tbody>\n</table>\n</div>"
     },
     "metadata": {},
     "output_type": "display_data"
    }
   ],
   "source": [
    "# Just for previewing the column name\n",
    "display(pd.read_csv(os.path.join(path, dataset, fileList[0])).head(2))"
   ],
   "metadata": {
    "collapsed": false
   }
  },
  {
   "cell_type": "code",
   "execution_count": 4,
   "outputs": [
    {
     "name": "stdout",
     "output_type": "stream",
     "text": [
      "Sample dataframe: \n"
     ]
    },
    {
     "data": {
      "text/plain": "                  ept           mw  tmp\n0 2015-01-01 00:00:00  9844.200268  6.8\n1 2015-01-01 01:00:00  9653.456269  7.1",
      "text/html": "<div>\n<style scoped>\n    .dataframe tbody tr th:only-of-type {\n        vertical-align: middle;\n    }\n\n    .dataframe tbody tr th {\n        vertical-align: top;\n    }\n\n    .dataframe thead th {\n        text-align: right;\n    }\n</style>\n<table border=\"1\" class=\"dataframe\">\n  <thead>\n    <tr style=\"text-align: right;\">\n      <th></th>\n      <th>ept</th>\n      <th>mw</th>\n      <th>tmp</th>\n    </tr>\n  </thead>\n  <tbody>\n    <tr>\n      <th>0</th>\n      <td>2015-01-01 00:00:00</td>\n      <td>9844.200268</td>\n      <td>6.8</td>\n    </tr>\n    <tr>\n      <th>1</th>\n      <td>2015-01-01 01:00:00</td>\n      <td>9653.456269</td>\n      <td>7.1</td>\n    </tr>\n  </tbody>\n</table>\n</div>"
     },
     "metadata": {},
     "output_type": "display_data"
    }
   ],
   "source": [
    "# Just for previewing the column name\n",
    "data = pd.read_csv(os.path.join(path, dataset, fileList[0]), parse_dates=['ept'])\n",
    "print(\"Sample dataframe: \")\n",
    "display(data.head(2))"
   ],
   "metadata": {
    "collapsed": false
   }
  },
  {
   "cell_type": "code",
   "execution_count": 5,
   "outputs": [
    {
     "data": {
      "text/plain": "0   2015-01-01 00:00:00\n1   2015-01-01 01:00:00\nName: AA_ept, dtype: datetime64[ns]"
     },
     "execution_count": 5,
     "metadata": {},
     "output_type": "execute_result"
    }
   ],
   "source": [
    "# Fetching the date column only\n",
    "date_col = data.ept.copy()\n",
    "date_col.name = \"AA_ept\"\n",
    "date_col.head(2)"
   ],
   "metadata": {
    "collapsed": false
   }
  },
  {
   "cell_type": "code",
   "execution_count": 6,
   "outputs": [
    {
     "name": "stdout",
     "output_type": "stream",
     "text": [
      "Sample calendar features: \n"
     ]
    },
    {
     "data": {
      "text/plain": "   Month  Day  Hour  Weekday\n0      1    1     0        3\n1      1    1     1        3",
      "text/html": "<div>\n<style scoped>\n    .dataframe tbody tr th:only-of-type {\n        vertical-align: middle;\n    }\n\n    .dataframe tbody tr th {\n        vertical-align: top;\n    }\n\n    .dataframe thead th {\n        text-align: right;\n    }\n</style>\n<table border=\"1\" class=\"dataframe\">\n  <thead>\n    <tr style=\"text-align: right;\">\n      <th></th>\n      <th>Month</th>\n      <th>Day</th>\n      <th>Hour</th>\n      <th>Weekday</th>\n    </tr>\n  </thead>\n  <tbody>\n    <tr>\n      <th>0</th>\n      <td>1</td>\n      <td>1</td>\n      <td>0</td>\n      <td>3</td>\n    </tr>\n    <tr>\n      <th>1</th>\n      <td>1</td>\n      <td>1</td>\n      <td>1</td>\n      <td>3</td>\n    </tr>\n  </tbody>\n</table>\n</div>"
     },
     "metadata": {},
     "output_type": "display_data"
    },
    {
     "name": "stdout",
     "output_type": "stream",
     "text": [
      "Available unique categories: \n"
     ]
    },
    {
     "data": {
      "text/plain": "Month      12\nDay        31\nHour       24\nWeekday     7\ndtype: int64"
     },
     "metadata": {},
     "output_type": "display_data"
    },
    {
     "name": "stdout",
     "output_type": "stream",
     "text": [
      "Total number of observations:  43823\n"
     ]
    }
   ],
   "source": [
    "# Creating the calendar features\n",
    "date = pd.DataFrame()\n",
    "date['Month'] = date_col.dt.month\n",
    "date['Day'] = date_col.dt.day\n",
    "date['Hour'] = date_col.dt.hour\n",
    "date['Weekday'] = date_col.dt.weekday\n",
    "\n",
    "print(\"Sample calendar features: \")\n",
    "display(date.head(2))\n",
    "\n",
    "print(\"Available unique categories: \")\n",
    "display(date.nunique())\n",
    "\n",
    "print(\"Total number of observations: \", len(date))"
   ],
   "metadata": {
    "collapsed": false
   }
  },
  {
   "cell_type": "code",
   "execution_count": 7,
   "outputs": [
    {
     "data": {
      "text/plain": "array([[1., 0., 0., ..., 0., 0., 0.],\n       [1., 0., 0., ..., 0., 0., 0.],\n       [1., 0., 0., ..., 0., 0., 0.],\n       ...,\n       [0., 0., 0., ..., 0., 0., 0.],\n       [0., 0., 0., ..., 0., 0., 0.],\n       [0., 0., 0., ..., 0., 0., 0.]])"
     },
     "metadata": {},
     "output_type": "display_data"
    }
   ],
   "source": [
    "# One-hot encoding the categorical calendar features\n",
    "date_enc = OneHotEncoder(sparse_output=False)\n",
    "categorical_data = date_enc.fit_transform(date)\n",
    "display(categorical_data)"
   ],
   "metadata": {
    "collapsed": false
   }
  },
  {
   "cell_type": "code",
   "execution_count": 8,
   "outputs": [
    {
     "data": {
      "text/plain": "[12, 31, 24, 7]"
     },
     "execution_count": 8,
     "metadata": {},
     "output_type": "execute_result"
    }
   ],
   "source": [
    "category_count = [len(x_len) for x_len in date_enc.categories_]\n",
    "category_count"
   ],
   "metadata": {
    "collapsed": false
   }
  },
  {
   "cell_type": "markdown",
   "source": [
    "#### PROCESSING CONTINUOUS FEATURES FOR ALL AVAILABLE ZONES"
   ],
   "metadata": {
    "collapsed": false
   }
  },
  {
   "cell_type": "markdown",
   "source": [
    "PROCESSING LOAD DATA"
   ],
   "metadata": {
    "collapsed": false
   }
  },
  {
   "cell_type": "code",
   "execution_count": 9,
   "outputs": [
    {
     "data": {
      "text/plain": "         COAST_LOAD    EAST_LOAD   FWEST_LOAD    NCENT_LOAD  NORTH_LOAD  \\\n43821  10304.624870  1387.051521  3630.184859  12413.090126  804.714775   \n43822  10019.771129  1357.841863  3628.068853  12084.775970  790.865357   \n\n        SCENT_LOAD   SOUTH_LOAD    WEST_LOAD  \n43821  5769.745220  2829.531899  1238.412254  \n43822  5614.231555  2747.692143  1217.592105  ",
      "text/html": "<div>\n<style scoped>\n    .dataframe tbody tr th:only-of-type {\n        vertical-align: middle;\n    }\n\n    .dataframe tbody tr th {\n        vertical-align: top;\n    }\n\n    .dataframe thead th {\n        text-align: right;\n    }\n</style>\n<table border=\"1\" class=\"dataframe\">\n  <thead>\n    <tr style=\"text-align: right;\">\n      <th></th>\n      <th>COAST_LOAD</th>\n      <th>EAST_LOAD</th>\n      <th>FWEST_LOAD</th>\n      <th>NCENT_LOAD</th>\n      <th>NORTH_LOAD</th>\n      <th>SCENT_LOAD</th>\n      <th>SOUTH_LOAD</th>\n      <th>WEST_LOAD</th>\n    </tr>\n  </thead>\n  <tbody>\n    <tr>\n      <th>43821</th>\n      <td>10304.624870</td>\n      <td>1387.051521</td>\n      <td>3630.184859</td>\n      <td>12413.090126</td>\n      <td>804.714775</td>\n      <td>5769.745220</td>\n      <td>2829.531899</td>\n      <td>1238.412254</td>\n    </tr>\n    <tr>\n      <th>43822</th>\n      <td>10019.771129</td>\n      <td>1357.841863</td>\n      <td>3628.068853</td>\n      <td>12084.775970</td>\n      <td>790.865357</td>\n      <td>5614.231555</td>\n      <td>2747.692143</td>\n      <td>1217.592105</td>\n    </tr>\n  </tbody>\n</table>\n</div>"
     },
     "metadata": {},
     "output_type": "display_data"
    }
   ],
   "source": [
    "# Fetching and concatenating the data\n",
    "load_ds = pd.concat([pd.read_csv(os.path.join(path, dataset, fileName),\n",
    "                                 usecols= [\"mw\"]) for fileName in fileList], axis= 1)\n",
    "load_ds.columns = [i.removesuffix('.csv') for i in fileList]\n",
    "load_ds = load_ds.add_suffix(\"_LOAD\")\n",
    "display(load_ds.tail(2))"
   ],
   "metadata": {
    "collapsed": false
   }
  },
  {
   "cell_type": "code",
   "execution_count": 10,
   "outputs": [
    {
     "data": {
      "text/plain": "       COAST_LOAD_LAG1  EAST_LOAD_LAG1  FWEST_LOAD_LAG1  NCENT_LOAD_LAG1  \\\n43821     10005.692012     1350.918789      3779.620366     12987.897930   \n43822      9640.110639     1299.794530      3757.453274     12483.833157   \n\n       NORTH_LOAD_LAG1  SCENT_LOAD_LAG1  SOUTH_LOAD_LAG1  WEST_LOAD_LAG1  \n43821       821.959349      5939.445038      2825.076669     1322.793472  \n43822       801.513104      5699.539181      2699.267507     1301.403501  ",
      "text/html": "<div>\n<style scoped>\n    .dataframe tbody tr th:only-of-type {\n        vertical-align: middle;\n    }\n\n    .dataframe tbody tr th {\n        vertical-align: top;\n    }\n\n    .dataframe thead th {\n        text-align: right;\n    }\n</style>\n<table border=\"1\" class=\"dataframe\">\n  <thead>\n    <tr style=\"text-align: right;\">\n      <th></th>\n      <th>COAST_LOAD_LAG1</th>\n      <th>EAST_LOAD_LAG1</th>\n      <th>FWEST_LOAD_LAG1</th>\n      <th>NCENT_LOAD_LAG1</th>\n      <th>NORTH_LOAD_LAG1</th>\n      <th>SCENT_LOAD_LAG1</th>\n      <th>SOUTH_LOAD_LAG1</th>\n      <th>WEST_LOAD_LAG1</th>\n    </tr>\n  </thead>\n  <tbody>\n    <tr>\n      <th>43821</th>\n      <td>10005.692012</td>\n      <td>1350.918789</td>\n      <td>3779.620366</td>\n      <td>12987.897930</td>\n      <td>821.959349</td>\n      <td>5939.445038</td>\n      <td>2825.076669</td>\n      <td>1322.793472</td>\n    </tr>\n    <tr>\n      <th>43822</th>\n      <td>9640.110639</td>\n      <td>1299.794530</td>\n      <td>3757.453274</td>\n      <td>12483.833157</td>\n      <td>801.513104</td>\n      <td>5699.539181</td>\n      <td>2699.267507</td>\n      <td>1301.403501</td>\n    </tr>\n  </tbody>\n</table>\n</div>"
     },
     "metadata": {},
     "output_type": "display_data"
    }
   ],
   "source": [
    "# Creating 1-day lag loads\n",
    "load_lag_1 = load_ds.shift(24*2).add_suffix(\"_LAG1\")\n",
    "display(load_lag_1.tail(2))"
   ],
   "metadata": {
    "collapsed": false
   }
  },
  {
   "cell_type": "code",
   "execution_count": 11,
   "outputs": [
    {
     "data": {
      "text/plain": "       COAST_LOAD_LAG7  EAST_LOAD_LAG7  FWEST_LOAD_LAG7  NCENT_LOAD_LAG7  \\\n43821      9876.787820     1216.187797      3619.528769     10749.333909   \n43822      9562.900403     1166.584633      3606.519990     10336.276556   \n\n       NORTH_LOAD_LAG7  SCENT_LOAD_LAG7  SOUTH_LOAD_LAG7  WEST_LOAD_LAG7  \n43821       698.896222      5512.343425      2778.351469     1124.153791  \n43822       683.081316      5344.858187      2717.746859     1100.076605  ",
      "text/html": "<div>\n<style scoped>\n    .dataframe tbody tr th:only-of-type {\n        vertical-align: middle;\n    }\n\n    .dataframe tbody tr th {\n        vertical-align: top;\n    }\n\n    .dataframe thead th {\n        text-align: right;\n    }\n</style>\n<table border=\"1\" class=\"dataframe\">\n  <thead>\n    <tr style=\"text-align: right;\">\n      <th></th>\n      <th>COAST_LOAD_LAG7</th>\n      <th>EAST_LOAD_LAG7</th>\n      <th>FWEST_LOAD_LAG7</th>\n      <th>NCENT_LOAD_LAG7</th>\n      <th>NORTH_LOAD_LAG7</th>\n      <th>SCENT_LOAD_LAG7</th>\n      <th>SOUTH_LOAD_LAG7</th>\n      <th>WEST_LOAD_LAG7</th>\n    </tr>\n  </thead>\n  <tbody>\n    <tr>\n      <th>43821</th>\n      <td>9876.787820</td>\n      <td>1216.187797</td>\n      <td>3619.528769</td>\n      <td>10749.333909</td>\n      <td>698.896222</td>\n      <td>5512.343425</td>\n      <td>2778.351469</td>\n      <td>1124.153791</td>\n    </tr>\n    <tr>\n      <th>43822</th>\n      <td>9562.900403</td>\n      <td>1166.584633</td>\n      <td>3606.519990</td>\n      <td>10336.276556</td>\n      <td>683.081316</td>\n      <td>5344.858187</td>\n      <td>2717.746859</td>\n      <td>1100.076605</td>\n    </tr>\n  </tbody>\n</table>\n</div>"
     },
     "metadata": {},
     "output_type": "display_data"
    }
   ],
   "source": [
    "# Creating 7-day lag loads\n",
    "load_lag_7 = load_ds.shift(24*7).add_suffix(\"_LAG7\")\n",
    "display(load_lag_7.tail(2))"
   ],
   "metadata": {
    "collapsed": false
   }
  },
  {
   "cell_type": "code",
   "execution_count": 12,
   "outputs": [
    {
     "name": "stdout",
     "output_type": "stream",
     "text": [
      "Drop data before:  168\n"
     ]
    }
   ],
   "source": [
    "# Drop index for equalizing data\n",
    "drop_idx = load_lag_7.dropna(axis= 0).index[0]\n",
    "print(\"Drop data before: \", drop_idx)"
   ],
   "metadata": {
    "collapsed": false
   }
  },
  {
   "cell_type": "markdown",
   "source": [
    "PROCESSING TEMPERATURE DATA"
   ],
   "metadata": {
    "collapsed": false
   }
  },
  {
   "cell_type": "code",
   "execution_count": 13,
   "outputs": [
    {
     "data": {
      "text/plain": "       COAST_A_TEMP  EAST_A_TEMP  FWEST_A_TEMP  NCENT_A_TEMP  NORTH_A_TEMP  \\\n43821          13.7         12.5          13.2          12.5           9.2   \n43822          12.9          9.1          11.4           9.1           7.0   \n\n       SCENT_A_TEMP  SOUTH_A_TEMP  WEST_A_TEMP  \n43821          12.9          16.6         11.6  \n43822          11.1          15.9          9.6  ",
      "text/html": "<div>\n<style scoped>\n    .dataframe tbody tr th:only-of-type {\n        vertical-align: middle;\n    }\n\n    .dataframe tbody tr th {\n        vertical-align: top;\n    }\n\n    .dataframe thead th {\n        text-align: right;\n    }\n</style>\n<table border=\"1\" class=\"dataframe\">\n  <thead>\n    <tr style=\"text-align: right;\">\n      <th></th>\n      <th>COAST_A_TEMP</th>\n      <th>EAST_A_TEMP</th>\n      <th>FWEST_A_TEMP</th>\n      <th>NCENT_A_TEMP</th>\n      <th>NORTH_A_TEMP</th>\n      <th>SCENT_A_TEMP</th>\n      <th>SOUTH_A_TEMP</th>\n      <th>WEST_A_TEMP</th>\n    </tr>\n  </thead>\n  <tbody>\n    <tr>\n      <th>43821</th>\n      <td>13.7</td>\n      <td>12.5</td>\n      <td>13.2</td>\n      <td>12.5</td>\n      <td>9.2</td>\n      <td>12.9</td>\n      <td>16.6</td>\n      <td>11.6</td>\n    </tr>\n    <tr>\n      <th>43822</th>\n      <td>12.9</td>\n      <td>9.1</td>\n      <td>11.4</td>\n      <td>9.1</td>\n      <td>7.0</td>\n      <td>11.1</td>\n      <td>15.9</td>\n      <td>9.6</td>\n    </tr>\n  </tbody>\n</table>\n</div>"
     },
     "metadata": {},
     "output_type": "display_data"
    }
   ],
   "source": [
    "# Fetching and concatenating the data\n",
    "temp_ds = pd.concat([pd.read_csv(os.path.join(path, dataset, fileName),\n",
    "                                 usecols= [\"tmp\"]) for fileName in fileList], axis= 1)\n",
    "temp_ds.columns = [i.removesuffix('.csv') for i in fileList]\n",
    "temp_ds = temp_ds.add_suffix(\"_A_TEMP\")\n",
    "display(temp_ds.tail(2))"
   ],
   "metadata": {
    "collapsed": false
   }
  },
  {
   "cell_type": "markdown",
   "source": [
    "### PREPARING X AND Y PART"
   ],
   "metadata": {
    "collapsed": false
   }
  },
  {
   "cell_type": "code",
   "execution_count": 14,
   "outputs": [
    {
     "name": "stdout",
     "output_type": "stream",
     "text": [
      "The train-test split index is:  34895\n",
      "The last date of train dataset: \n"
     ]
    },
    {
     "data": {
      "text/plain": "                   AA_ept  COAST_A_TEMP  COAST_LOAD_LAG1  COAST_LOAD_LAG7  \\\n34894 2018-12-31 22:00:00          12.0     10120.036098      9035.216913   \n34895 2018-12-31 23:00:00           9.9      9759.553782      8674.752421   \n\n       EAST_A_TEMP  EAST_LOAD_LAG1  EAST_LOAD_LAG7  FWEST_A_TEMP  \\\n34894         11.6     1373.535127     1092.426622          14.3   \n34895          9.8     1296.361648      993.279927          11.0   \n\n       FWEST_LOAD_LAG1  FWEST_LOAD_LAG7  ...  NORTH_LOAD_LAG7  SCENT_A_TEMP  \\\n34894      3257.554084      2861.807930  ...       726.724452          13.5   \n34895      3225.068274      2935.515247  ...       699.513863          12.7   \n\n       SCENT_LOAD_LAG1  SCENT_LOAD_LAG7  SOUTH_A_TEMP  SOUTH_LOAD_LAG1  \\\n34894      6692.226496      5088.530961          14.8      3351.716113   \n34895      6439.903363      4797.279932          13.0      3248.779261   \n\n       SOUTH_LOAD_LAG7  WEST_A_TEMP  WEST_LOAD_LAG1  WEST_LOAD_LAG7  \n34894      2535.241223         13.3     1442.003681     1112.468599  \n34895      2469.963256          8.9     1367.422613     1120.088565  \n\n[2 rows x 25 columns]",
      "text/html": "<div>\n<style scoped>\n    .dataframe tbody tr th:only-of-type {\n        vertical-align: middle;\n    }\n\n    .dataframe tbody tr th {\n        vertical-align: top;\n    }\n\n    .dataframe thead th {\n        text-align: right;\n    }\n</style>\n<table border=\"1\" class=\"dataframe\">\n  <thead>\n    <tr style=\"text-align: right;\">\n      <th></th>\n      <th>AA_ept</th>\n      <th>COAST_A_TEMP</th>\n      <th>COAST_LOAD_LAG1</th>\n      <th>COAST_LOAD_LAG7</th>\n      <th>EAST_A_TEMP</th>\n      <th>EAST_LOAD_LAG1</th>\n      <th>EAST_LOAD_LAG7</th>\n      <th>FWEST_A_TEMP</th>\n      <th>FWEST_LOAD_LAG1</th>\n      <th>FWEST_LOAD_LAG7</th>\n      <th>...</th>\n      <th>NORTH_LOAD_LAG7</th>\n      <th>SCENT_A_TEMP</th>\n      <th>SCENT_LOAD_LAG1</th>\n      <th>SCENT_LOAD_LAG7</th>\n      <th>SOUTH_A_TEMP</th>\n      <th>SOUTH_LOAD_LAG1</th>\n      <th>SOUTH_LOAD_LAG7</th>\n      <th>WEST_A_TEMP</th>\n      <th>WEST_LOAD_LAG1</th>\n      <th>WEST_LOAD_LAG7</th>\n    </tr>\n  </thead>\n  <tbody>\n    <tr>\n      <th>34894</th>\n      <td>2018-12-31 22:00:00</td>\n      <td>12.0</td>\n      <td>10120.036098</td>\n      <td>9035.216913</td>\n      <td>11.6</td>\n      <td>1373.535127</td>\n      <td>1092.426622</td>\n      <td>14.3</td>\n      <td>3257.554084</td>\n      <td>2861.807930</td>\n      <td>...</td>\n      <td>726.724452</td>\n      <td>13.5</td>\n      <td>6692.226496</td>\n      <td>5088.530961</td>\n      <td>14.8</td>\n      <td>3351.716113</td>\n      <td>2535.241223</td>\n      <td>13.3</td>\n      <td>1442.003681</td>\n      <td>1112.468599</td>\n    </tr>\n    <tr>\n      <th>34895</th>\n      <td>2018-12-31 23:00:00</td>\n      <td>9.9</td>\n      <td>9759.553782</td>\n      <td>8674.752421</td>\n      <td>9.8</td>\n      <td>1296.361648</td>\n      <td>993.279927</td>\n      <td>11.0</td>\n      <td>3225.068274</td>\n      <td>2935.515247</td>\n      <td>...</td>\n      <td>699.513863</td>\n      <td>12.7</td>\n      <td>6439.903363</td>\n      <td>4797.279932</td>\n      <td>13.0</td>\n      <td>3248.779261</td>\n      <td>2469.963256</td>\n      <td>8.9</td>\n      <td>1367.422613</td>\n      <td>1120.088565</td>\n    </tr>\n  </tbody>\n</table>\n<p>2 rows × 25 columns</p>\n</div>"
     },
     "metadata": {},
     "output_type": "display_data"
    },
    {
     "name": "stdout",
     "output_type": "stream",
     "text": [
      "The first date of test dataset: \n"
     ]
    },
    {
     "data": {
      "text/plain": "                   AA_ept  COAST_A_TEMP  COAST_LOAD_LAG1  COAST_LOAD_LAG7  \\\n34896 2019-01-01 00:00:00           8.0      9505.309786      8417.175110   \n34897 2019-01-01 01:00:00           5.7      9347.130004      8219.786133   \n\n       EAST_A_TEMP  EAST_LOAD_LAG1  EAST_LOAD_LAG7  FWEST_A_TEMP  \\\n34896          8.7     1272.748797      988.642094           6.8   \n34897          8.6     1259.546733      962.315498           5.8   \n\n       FWEST_LOAD_LAG1  FWEST_LOAD_LAG7  ...  NORTH_LOAD_LAG7  SCENT_A_TEMP  \\\n34896      3193.257964      2914.990449  ...       684.735644          11.6   \n34897      3184.930125      2906.029581  ...       679.443659          12.0   \n\n       SCENT_LOAD_LAG1  SCENT_LOAD_LAG7  SOUTH_A_TEMP  SOUTH_LOAD_LAG1  \\\n34896      6274.486949      4590.908104          11.9      3165.677416   \n34897      6172.533592      4431.257098          10.9      3108.103284   \n\n       SOUTH_LOAD_LAG7  WEST_A_TEMP  WEST_LOAD_LAG1  WEST_LOAD_LAG7  \n34896      2396.517124          5.8     1351.361821     1100.920951  \n34897      2317.557767          3.7     1336.679123     1085.764682  \n\n[2 rows x 25 columns]",
      "text/html": "<div>\n<style scoped>\n    .dataframe tbody tr th:only-of-type {\n        vertical-align: middle;\n    }\n\n    .dataframe tbody tr th {\n        vertical-align: top;\n    }\n\n    .dataframe thead th {\n        text-align: right;\n    }\n</style>\n<table border=\"1\" class=\"dataframe\">\n  <thead>\n    <tr style=\"text-align: right;\">\n      <th></th>\n      <th>AA_ept</th>\n      <th>COAST_A_TEMP</th>\n      <th>COAST_LOAD_LAG1</th>\n      <th>COAST_LOAD_LAG7</th>\n      <th>EAST_A_TEMP</th>\n      <th>EAST_LOAD_LAG1</th>\n      <th>EAST_LOAD_LAG7</th>\n      <th>FWEST_A_TEMP</th>\n      <th>FWEST_LOAD_LAG1</th>\n      <th>FWEST_LOAD_LAG7</th>\n      <th>...</th>\n      <th>NORTH_LOAD_LAG7</th>\n      <th>SCENT_A_TEMP</th>\n      <th>SCENT_LOAD_LAG1</th>\n      <th>SCENT_LOAD_LAG7</th>\n      <th>SOUTH_A_TEMP</th>\n      <th>SOUTH_LOAD_LAG1</th>\n      <th>SOUTH_LOAD_LAG7</th>\n      <th>WEST_A_TEMP</th>\n      <th>WEST_LOAD_LAG1</th>\n      <th>WEST_LOAD_LAG7</th>\n    </tr>\n  </thead>\n  <tbody>\n    <tr>\n      <th>34896</th>\n      <td>2019-01-01 00:00:00</td>\n      <td>8.0</td>\n      <td>9505.309786</td>\n      <td>8417.175110</td>\n      <td>8.7</td>\n      <td>1272.748797</td>\n      <td>988.642094</td>\n      <td>6.8</td>\n      <td>3193.257964</td>\n      <td>2914.990449</td>\n      <td>...</td>\n      <td>684.735644</td>\n      <td>11.6</td>\n      <td>6274.486949</td>\n      <td>4590.908104</td>\n      <td>11.9</td>\n      <td>3165.677416</td>\n      <td>2396.517124</td>\n      <td>5.8</td>\n      <td>1351.361821</td>\n      <td>1100.920951</td>\n    </tr>\n    <tr>\n      <th>34897</th>\n      <td>2019-01-01 01:00:00</td>\n      <td>5.7</td>\n      <td>9347.130004</td>\n      <td>8219.786133</td>\n      <td>8.6</td>\n      <td>1259.546733</td>\n      <td>962.315498</td>\n      <td>5.8</td>\n      <td>3184.930125</td>\n      <td>2906.029581</td>\n      <td>...</td>\n      <td>679.443659</td>\n      <td>12.0</td>\n      <td>6172.533592</td>\n      <td>4431.257098</td>\n      <td>10.9</td>\n      <td>3108.103284</td>\n      <td>2317.557767</td>\n      <td>3.7</td>\n      <td>1336.679123</td>\n      <td>1085.764682</td>\n    </tr>\n  </tbody>\n</table>\n<p>2 rows × 25 columns</p>\n</div>"
     },
     "metadata": {},
     "output_type": "display_data"
    },
    {
     "name": "stdout",
     "output_type": "stream",
     "text": [
      "\n",
      "\n",
      "LENGTH OF DATASET:  43655\n"
     ]
    },
    {
     "data": {
      "text/plain": "       COAST_A_TEMP  COAST_LOAD_LAG1  COAST_LOAD_LAG7  EAST_A_TEMP  \\\n43653          13.7     10005.692012      9876.787820         12.5   \n43654          12.9      9640.110639      9562.900403          9.1   \n\n       EAST_LOAD_LAG1  EAST_LOAD_LAG7  FWEST_A_TEMP  FWEST_LOAD_LAG1  \\\n43653     1350.918789     1216.187797          13.2      3779.620366   \n43654     1299.794530     1166.584633          11.4      3757.453274   \n\n       FWEST_LOAD_LAG7  NCENT_A_TEMP  ...  NORTH_LOAD_LAG7  SCENT_A_TEMP  \\\n43653      3619.528769          12.5  ...       698.896222          12.9   \n43654      3606.519990           9.1  ...       683.081316          11.1   \n\n       SCENT_LOAD_LAG1  SCENT_LOAD_LAG7  SOUTH_A_TEMP  SOUTH_LOAD_LAG1  \\\n43653      5939.445038      5512.343425          16.6      2825.076669   \n43654      5699.539181      5344.858187          15.9      2699.267507   \n\n       SOUTH_LOAD_LAG7  WEST_A_TEMP  WEST_LOAD_LAG1  WEST_LOAD_LAG7  \n43653      2778.351469         11.6     1322.793472     1124.153791  \n43654      2717.746859          9.6     1301.403501     1100.076605  \n\n[2 rows x 24 columns]",
      "text/html": "<div>\n<style scoped>\n    .dataframe tbody tr th:only-of-type {\n        vertical-align: middle;\n    }\n\n    .dataframe tbody tr th {\n        vertical-align: top;\n    }\n\n    .dataframe thead th {\n        text-align: right;\n    }\n</style>\n<table border=\"1\" class=\"dataframe\">\n  <thead>\n    <tr style=\"text-align: right;\">\n      <th></th>\n      <th>COAST_A_TEMP</th>\n      <th>COAST_LOAD_LAG1</th>\n      <th>COAST_LOAD_LAG7</th>\n      <th>EAST_A_TEMP</th>\n      <th>EAST_LOAD_LAG1</th>\n      <th>EAST_LOAD_LAG7</th>\n      <th>FWEST_A_TEMP</th>\n      <th>FWEST_LOAD_LAG1</th>\n      <th>FWEST_LOAD_LAG7</th>\n      <th>NCENT_A_TEMP</th>\n      <th>...</th>\n      <th>NORTH_LOAD_LAG7</th>\n      <th>SCENT_A_TEMP</th>\n      <th>SCENT_LOAD_LAG1</th>\n      <th>SCENT_LOAD_LAG7</th>\n      <th>SOUTH_A_TEMP</th>\n      <th>SOUTH_LOAD_LAG1</th>\n      <th>SOUTH_LOAD_LAG7</th>\n      <th>WEST_A_TEMP</th>\n      <th>WEST_LOAD_LAG1</th>\n      <th>WEST_LOAD_LAG7</th>\n    </tr>\n  </thead>\n  <tbody>\n    <tr>\n      <th>43653</th>\n      <td>13.7</td>\n      <td>10005.692012</td>\n      <td>9876.787820</td>\n      <td>12.5</td>\n      <td>1350.918789</td>\n      <td>1216.187797</td>\n      <td>13.2</td>\n      <td>3779.620366</td>\n      <td>3619.528769</td>\n      <td>12.5</td>\n      <td>...</td>\n      <td>698.896222</td>\n      <td>12.9</td>\n      <td>5939.445038</td>\n      <td>5512.343425</td>\n      <td>16.6</td>\n      <td>2825.076669</td>\n      <td>2778.351469</td>\n      <td>11.6</td>\n      <td>1322.793472</td>\n      <td>1124.153791</td>\n    </tr>\n    <tr>\n      <th>43654</th>\n      <td>12.9</td>\n      <td>9640.110639</td>\n      <td>9562.900403</td>\n      <td>9.1</td>\n      <td>1299.794530</td>\n      <td>1166.584633</td>\n      <td>11.4</td>\n      <td>3757.453274</td>\n      <td>3606.519990</td>\n      <td>9.1</td>\n      <td>...</td>\n      <td>683.081316</td>\n      <td>11.1</td>\n      <td>5699.539181</td>\n      <td>5344.858187</td>\n      <td>15.9</td>\n      <td>2699.267507</td>\n      <td>2717.746859</td>\n      <td>9.6</td>\n      <td>1301.403501</td>\n      <td>1100.076605</td>\n    </tr>\n  </tbody>\n</table>\n<p>2 rows × 24 columns</p>\n</div>"
     },
     "metadata": {},
     "output_type": "display_data"
    }
   ],
   "source": [
    "# Concatenating the engineered features\n",
    "X_continuous = pd.concat([date_col, load_lag_1, load_lag_7, temp_ds], axis=1)\n",
    "X_continuous = X_continuous.sort_index(axis=1)\n",
    "X_continuous = X_continuous.iloc[drop_idx:].reset_index(drop=True)\n",
    "\n",
    "# Fetching the train index from the processed dataframe\n",
    "train_end_idx = X_continuous[X_continuous.AA_ept.dt.year.between(2015, 2018)].index[-1]\n",
    "print(\"The train-test split index is: \", train_end_idx)\n",
    "print(\"The last date of train dataset: \")\n",
    "display(X_continuous.loc[:train_end_idx].tail(2))\n",
    "print(\"The first date of test dataset: \")\n",
    "display(X_continuous.loc[train_end_idx + 1:].head(2))\n",
    "print('\\n')\n",
    "\n",
    "# Dropping the datetime column after fetching the train-test split index\n",
    "X_continuous = X_continuous.drop(columns=['AA_ept'])\n",
    "print(\"LENGTH OF DATASET: \", len(X_continuous))\n",
    "display(X_continuous.tail(2))"
   ],
   "metadata": {
    "collapsed": false
   }
  },
  {
   "cell_type": "code",
   "execution_count": 15,
   "outputs": [
    {
     "name": "stdout",
     "output_type": "stream",
     "text": [
      "LENGTH OF DATASET:  43655\n"
     ]
    },
    {
     "data": {
      "text/plain": "        0    1    2    3    4    5    6    7    8    9   ...   64   65   66  \\\n43653  0.0  0.0  0.0  0.0  0.0  0.0  0.0  0.0  0.0  0.0  ...  1.0  0.0  0.0   \n43654  0.0  0.0  0.0  0.0  0.0  0.0  0.0  0.0  0.0  0.0  ...  0.0  1.0  0.0   \n\n        67   68   69   70   71   72   73  \n43653  0.0  1.0  0.0  0.0  0.0  0.0  0.0  \n43654  0.0  1.0  0.0  0.0  0.0  0.0  0.0  \n\n[2 rows x 74 columns]",
      "text/html": "<div>\n<style scoped>\n    .dataframe tbody tr th:only-of-type {\n        vertical-align: middle;\n    }\n\n    .dataframe tbody tr th {\n        vertical-align: top;\n    }\n\n    .dataframe thead th {\n        text-align: right;\n    }\n</style>\n<table border=\"1\" class=\"dataframe\">\n  <thead>\n    <tr style=\"text-align: right;\">\n      <th></th>\n      <th>0</th>\n      <th>1</th>\n      <th>2</th>\n      <th>3</th>\n      <th>4</th>\n      <th>5</th>\n      <th>6</th>\n      <th>7</th>\n      <th>8</th>\n      <th>9</th>\n      <th>...</th>\n      <th>64</th>\n      <th>65</th>\n      <th>66</th>\n      <th>67</th>\n      <th>68</th>\n      <th>69</th>\n      <th>70</th>\n      <th>71</th>\n      <th>72</th>\n      <th>73</th>\n    </tr>\n  </thead>\n  <tbody>\n    <tr>\n      <th>43653</th>\n      <td>0.0</td>\n      <td>0.0</td>\n      <td>0.0</td>\n      <td>0.0</td>\n      <td>0.0</td>\n      <td>0.0</td>\n      <td>0.0</td>\n      <td>0.0</td>\n      <td>0.0</td>\n      <td>0.0</td>\n      <td>...</td>\n      <td>1.0</td>\n      <td>0.0</td>\n      <td>0.0</td>\n      <td>0.0</td>\n      <td>1.0</td>\n      <td>0.0</td>\n      <td>0.0</td>\n      <td>0.0</td>\n      <td>0.0</td>\n      <td>0.0</td>\n    </tr>\n    <tr>\n      <th>43654</th>\n      <td>0.0</td>\n      <td>0.0</td>\n      <td>0.0</td>\n      <td>0.0</td>\n      <td>0.0</td>\n      <td>0.0</td>\n      <td>0.0</td>\n      <td>0.0</td>\n      <td>0.0</td>\n      <td>0.0</td>\n      <td>...</td>\n      <td>0.0</td>\n      <td>1.0</td>\n      <td>0.0</td>\n      <td>0.0</td>\n      <td>1.0</td>\n      <td>0.0</td>\n      <td>0.0</td>\n      <td>0.0</td>\n      <td>0.0</td>\n      <td>0.0</td>\n    </tr>\n  </tbody>\n</table>\n<p>2 rows × 74 columns</p>\n</div>"
     },
     "metadata": {},
     "output_type": "display_data"
    }
   ],
   "source": [
    "X_categorical = pd.DataFrame(categorical_data)\n",
    "X_categorical = X_categorical.iloc[drop_idx:].reset_index(drop=True)\n",
    "print(\"LENGTH OF DATASET: \", len(X_categorical))\n",
    "display(X_categorical.tail(2))"
   ],
   "metadata": {
    "collapsed": false
   }
  },
  {
   "cell_type": "code",
   "execution_count": 16,
   "outputs": [
    {
     "name": "stdout",
     "output_type": "stream",
     "text": [
      "LENGTH OF DATASET:  43655\n"
     ]
    },
    {
     "data": {
      "text/plain": "         COAST_LOAD    EAST_LOAD   FWEST_LOAD    NCENT_LOAD  NORTH_LOAD  \\\n43653  10304.624870  1387.051521  3630.184859  12413.090126  804.714775   \n43654  10019.771129  1357.841863  3628.068853  12084.775970  790.865357   \n\n        SCENT_LOAD   SOUTH_LOAD    WEST_LOAD  \n43653  5769.745220  2829.531899  1238.412254  \n43654  5614.231555  2747.692143  1217.592105  ",
      "text/html": "<div>\n<style scoped>\n    .dataframe tbody tr th:only-of-type {\n        vertical-align: middle;\n    }\n\n    .dataframe tbody tr th {\n        vertical-align: top;\n    }\n\n    .dataframe thead th {\n        text-align: right;\n    }\n</style>\n<table border=\"1\" class=\"dataframe\">\n  <thead>\n    <tr style=\"text-align: right;\">\n      <th></th>\n      <th>COAST_LOAD</th>\n      <th>EAST_LOAD</th>\n      <th>FWEST_LOAD</th>\n      <th>NCENT_LOAD</th>\n      <th>NORTH_LOAD</th>\n      <th>SCENT_LOAD</th>\n      <th>SOUTH_LOAD</th>\n      <th>WEST_LOAD</th>\n    </tr>\n  </thead>\n  <tbody>\n    <tr>\n      <th>43653</th>\n      <td>10304.624870</td>\n      <td>1387.051521</td>\n      <td>3630.184859</td>\n      <td>12413.090126</td>\n      <td>804.714775</td>\n      <td>5769.745220</td>\n      <td>2829.531899</td>\n      <td>1238.412254</td>\n    </tr>\n    <tr>\n      <th>43654</th>\n      <td>10019.771129</td>\n      <td>1357.841863</td>\n      <td>3628.068853</td>\n      <td>12084.775970</td>\n      <td>790.865357</td>\n      <td>5614.231555</td>\n      <td>2747.692143</td>\n      <td>1217.592105</td>\n    </tr>\n  </tbody>\n</table>\n</div>"
     },
     "metadata": {},
     "output_type": "display_data"
    }
   ],
   "source": [
    "Y = load_ds.copy()\n",
    "Y = Y.sort_index(axis=1)\n",
    "Y = Y.iloc[drop_idx:].reset_index(drop=True)\n",
    "print(\"LENGTH OF DATASET: \", len(Y))\n",
    "display(Y.tail(2))"
   ],
   "metadata": {
    "collapsed": false
   }
  },
  {
   "cell_type": "code",
   "execution_count": 17,
   "outputs": [
    {
     "name": "stdout",
     "output_type": "stream",
     "text": [
      "Train samples:  34896\n",
      "Test samples:  8759\n"
     ]
    }
   ],
   "source": [
    "### SPLITTING THE DATA INTO TRAINING AND TESTING\n",
    "print(\"Train samples: \", len(X_continuous.loc[:train_end_idx]))\n",
    "print(\"Test samples: \", len(X_continuous.loc[train_end_idx + 1:]))"
   ],
   "metadata": {
    "collapsed": false
   }
  },
  {
   "cell_type": "code",
   "execution_count": 18,
   "outputs": [
    {
     "name": "stdout",
     "output_type": "stream",
     "text": [
      "Train split of continuous data: \n"
     ]
    },
    {
     "data": {
      "text/plain": "       COAST_A_TEMP  COAST_LOAD_LAG1  COAST_LOAD_LAG7  EAST_A_TEMP  \\\n34894          12.0     10120.036098      9035.216913         11.6   \n34895           9.9      9759.553782      8674.752421          9.8   \n\n       EAST_LOAD_LAG1  EAST_LOAD_LAG7  FWEST_A_TEMP  FWEST_LOAD_LAG1  \\\n34894     1373.535127     1092.426622          14.3      3257.554084   \n34895     1296.361648      993.279927          11.0      3225.068274   \n\n       FWEST_LOAD_LAG7  NCENT_A_TEMP  ...  NORTH_LOAD_LAG7  SCENT_A_TEMP  \\\n34894      2861.807930          11.6  ...       726.724452          13.5   \n34895      2935.515247           9.8  ...       699.513863          12.7   \n\n       SCENT_LOAD_LAG1  SCENT_LOAD_LAG7  SOUTH_A_TEMP  SOUTH_LOAD_LAG1  \\\n34894      6692.226496      5088.530961          14.8      3351.716113   \n34895      6439.903363      4797.279932          13.0      3248.779261   \n\n       SOUTH_LOAD_LAG7  WEST_A_TEMP  WEST_LOAD_LAG1  WEST_LOAD_LAG7  \n34894      2535.241223         13.3     1442.003681     1112.468599  \n34895      2469.963256          8.9     1367.422613     1120.088565  \n\n[2 rows x 24 columns]",
      "text/html": "<div>\n<style scoped>\n    .dataframe tbody tr th:only-of-type {\n        vertical-align: middle;\n    }\n\n    .dataframe tbody tr th {\n        vertical-align: top;\n    }\n\n    .dataframe thead th {\n        text-align: right;\n    }\n</style>\n<table border=\"1\" class=\"dataframe\">\n  <thead>\n    <tr style=\"text-align: right;\">\n      <th></th>\n      <th>COAST_A_TEMP</th>\n      <th>COAST_LOAD_LAG1</th>\n      <th>COAST_LOAD_LAG7</th>\n      <th>EAST_A_TEMP</th>\n      <th>EAST_LOAD_LAG1</th>\n      <th>EAST_LOAD_LAG7</th>\n      <th>FWEST_A_TEMP</th>\n      <th>FWEST_LOAD_LAG1</th>\n      <th>FWEST_LOAD_LAG7</th>\n      <th>NCENT_A_TEMP</th>\n      <th>...</th>\n      <th>NORTH_LOAD_LAG7</th>\n      <th>SCENT_A_TEMP</th>\n      <th>SCENT_LOAD_LAG1</th>\n      <th>SCENT_LOAD_LAG7</th>\n      <th>SOUTH_A_TEMP</th>\n      <th>SOUTH_LOAD_LAG1</th>\n      <th>SOUTH_LOAD_LAG7</th>\n      <th>WEST_A_TEMP</th>\n      <th>WEST_LOAD_LAG1</th>\n      <th>WEST_LOAD_LAG7</th>\n    </tr>\n  </thead>\n  <tbody>\n    <tr>\n      <th>34894</th>\n      <td>12.0</td>\n      <td>10120.036098</td>\n      <td>9035.216913</td>\n      <td>11.6</td>\n      <td>1373.535127</td>\n      <td>1092.426622</td>\n      <td>14.3</td>\n      <td>3257.554084</td>\n      <td>2861.807930</td>\n      <td>11.6</td>\n      <td>...</td>\n      <td>726.724452</td>\n      <td>13.5</td>\n      <td>6692.226496</td>\n      <td>5088.530961</td>\n      <td>14.8</td>\n      <td>3351.716113</td>\n      <td>2535.241223</td>\n      <td>13.3</td>\n      <td>1442.003681</td>\n      <td>1112.468599</td>\n    </tr>\n    <tr>\n      <th>34895</th>\n      <td>9.9</td>\n      <td>9759.553782</td>\n      <td>8674.752421</td>\n      <td>9.8</td>\n      <td>1296.361648</td>\n      <td>993.279927</td>\n      <td>11.0</td>\n      <td>3225.068274</td>\n      <td>2935.515247</td>\n      <td>9.8</td>\n      <td>...</td>\n      <td>699.513863</td>\n      <td>12.7</td>\n      <td>6439.903363</td>\n      <td>4797.279932</td>\n      <td>13.0</td>\n      <td>3248.779261</td>\n      <td>2469.963256</td>\n      <td>8.9</td>\n      <td>1367.422613</td>\n      <td>1120.088565</td>\n    </tr>\n  </tbody>\n</table>\n<p>2 rows × 24 columns</p>\n</div>"
     },
     "metadata": {},
     "output_type": "display_data"
    },
    {
     "name": "stdout",
     "output_type": "stream",
     "text": [
      "Train split of categorical data: \n"
     ]
    },
    {
     "data": {
      "text/plain": "        0    1    2    3    4    5    6    7    8    9   ...   64   65   66  \\\n34894  0.0  0.0  0.0  0.0  0.0  0.0  0.0  0.0  0.0  0.0  ...  0.0  1.0  0.0   \n34895  0.0  0.0  0.0  0.0  0.0  0.0  0.0  0.0  0.0  0.0  ...  0.0  0.0  1.0   \n\n        67   68   69   70   71   72   73  \n34894  1.0  0.0  0.0  0.0  0.0  0.0  0.0  \n34895  1.0  0.0  0.0  0.0  0.0  0.0  0.0  \n\n[2 rows x 74 columns]",
      "text/html": "<div>\n<style scoped>\n    .dataframe tbody tr th:only-of-type {\n        vertical-align: middle;\n    }\n\n    .dataframe tbody tr th {\n        vertical-align: top;\n    }\n\n    .dataframe thead th {\n        text-align: right;\n    }\n</style>\n<table border=\"1\" class=\"dataframe\">\n  <thead>\n    <tr style=\"text-align: right;\">\n      <th></th>\n      <th>0</th>\n      <th>1</th>\n      <th>2</th>\n      <th>3</th>\n      <th>4</th>\n      <th>5</th>\n      <th>6</th>\n      <th>7</th>\n      <th>8</th>\n      <th>9</th>\n      <th>...</th>\n      <th>64</th>\n      <th>65</th>\n      <th>66</th>\n      <th>67</th>\n      <th>68</th>\n      <th>69</th>\n      <th>70</th>\n      <th>71</th>\n      <th>72</th>\n      <th>73</th>\n    </tr>\n  </thead>\n  <tbody>\n    <tr>\n      <th>34894</th>\n      <td>0.0</td>\n      <td>0.0</td>\n      <td>0.0</td>\n      <td>0.0</td>\n      <td>0.0</td>\n      <td>0.0</td>\n      <td>0.0</td>\n      <td>0.0</td>\n      <td>0.0</td>\n      <td>0.0</td>\n      <td>...</td>\n      <td>0.0</td>\n      <td>1.0</td>\n      <td>0.0</td>\n      <td>1.0</td>\n      <td>0.0</td>\n      <td>0.0</td>\n      <td>0.0</td>\n      <td>0.0</td>\n      <td>0.0</td>\n      <td>0.0</td>\n    </tr>\n    <tr>\n      <th>34895</th>\n      <td>0.0</td>\n      <td>0.0</td>\n      <td>0.0</td>\n      <td>0.0</td>\n      <td>0.0</td>\n      <td>0.0</td>\n      <td>0.0</td>\n      <td>0.0</td>\n      <td>0.0</td>\n      <td>0.0</td>\n      <td>...</td>\n      <td>0.0</td>\n      <td>0.0</td>\n      <td>1.0</td>\n      <td>1.0</td>\n      <td>0.0</td>\n      <td>0.0</td>\n      <td>0.0</td>\n      <td>0.0</td>\n      <td>0.0</td>\n      <td>0.0</td>\n    </tr>\n  </tbody>\n</table>\n<p>2 rows × 74 columns</p>\n</div>"
     },
     "metadata": {},
     "output_type": "display_data"
    },
    {
     "name": "stdout",
     "output_type": "stream",
     "text": [
      "Train split of target data Y: \n"
     ]
    },
    {
     "data": {
      "text/plain": "         COAST_LOAD    EAST_LOAD   FWEST_LOAD    NCENT_LOAD  NORTH_LOAD  \\\n34894  10008.271141  1271.837587  3120.418939  11775.973366  826.962308   \n34895   9783.594839  1264.194059  3164.720629  11697.766093  827.759428   \n\n        SCENT_LOAD   SOUTH_LOAD    WEST_LOAD  \n34894  6035.861773  3071.164955  1260.779203  \n34895  5993.974289  3066.891146  1282.542956  ",
      "text/html": "<div>\n<style scoped>\n    .dataframe tbody tr th:only-of-type {\n        vertical-align: middle;\n    }\n\n    .dataframe tbody tr th {\n        vertical-align: top;\n    }\n\n    .dataframe thead th {\n        text-align: right;\n    }\n</style>\n<table border=\"1\" class=\"dataframe\">\n  <thead>\n    <tr style=\"text-align: right;\">\n      <th></th>\n      <th>COAST_LOAD</th>\n      <th>EAST_LOAD</th>\n      <th>FWEST_LOAD</th>\n      <th>NCENT_LOAD</th>\n      <th>NORTH_LOAD</th>\n      <th>SCENT_LOAD</th>\n      <th>SOUTH_LOAD</th>\n      <th>WEST_LOAD</th>\n    </tr>\n  </thead>\n  <tbody>\n    <tr>\n      <th>34894</th>\n      <td>10008.271141</td>\n      <td>1271.837587</td>\n      <td>3120.418939</td>\n      <td>11775.973366</td>\n      <td>826.962308</td>\n      <td>6035.861773</td>\n      <td>3071.164955</td>\n      <td>1260.779203</td>\n    </tr>\n    <tr>\n      <th>34895</th>\n      <td>9783.594839</td>\n      <td>1264.194059</td>\n      <td>3164.720629</td>\n      <td>11697.766093</td>\n      <td>827.759428</td>\n      <td>5993.974289</td>\n      <td>3066.891146</td>\n      <td>1282.542956</td>\n    </tr>\n  </tbody>\n</table>\n</div>"
     },
     "metadata": {},
     "output_type": "display_data"
    }
   ],
   "source": [
    "# Splitting the continuous data into training and test split\n",
    "X_continuous_train,  X_continuous_test = X_continuous.loc[:train_end_idx], X_continuous.loc[train_end_idx+1:]\n",
    "print(\"Train split of continuous data: \")\n",
    "display(X_continuous_train.tail(2))\n",
    "\n",
    "# Splitting the categorical data into training and test split\n",
    "X_categorical_train, X_categorical_test = X_categorical.loc[:train_end_idx], X_categorical.loc[train_end_idx+1:]\n",
    "print(\"Train split of categorical data: \")\n",
    "display(X_categorical_train.tail(2))\n",
    "\n",
    "# Splitting the target into training and test split\n",
    "Y_train, Y_test = Y.loc[:train_end_idx],  Y.loc[train_end_idx+1:]\n",
    "print(\"Train split of target data Y: \")\n",
    "display(Y_train.tail(2))"
   ],
   "metadata": {
    "collapsed": false
   }
  },
  {
   "cell_type": "code",
   "execution_count": 19,
   "outputs": [
    {
     "name": "stdout",
     "output_type": "stream",
     "text": [
      "Shape for continuous variable: \n",
      "(34896, 24) (8759, 24) \n",
      "\n",
      "Shape for categorical variable: \n",
      "(34896, 74) (8759, 74) \n",
      "\n",
      "Shape for target variable: \n",
      "(34896, 8) (8759, 8) \n",
      "\n",
      "Does it cover entire training set:  True\n"
     ]
    }
   ],
   "source": [
    "print(\"Shape for continuous variable: \")\n",
    "print(X_continuous_train.shape, X_continuous_test.shape, \"\\n\")\n",
    "print(\"Shape for categorical variable: \")\n",
    "print(X_categorical_train.shape, X_categorical_test.shape, \"\\n\")\n",
    "print(\"Shape for target variable: \")\n",
    "print(Y_train.shape, Y_test.shape, \"\\n\")\n",
    "print(\"Does it cover entire training set: \", (X_continuous_train.shape[0] +\n",
    "                                              X_continuous_test.shape[0]) == len(X_continuous))"
   ],
   "metadata": {
    "collapsed": false
   }
  },
  {
   "cell_type": "markdown",
   "source": [
    "### SCALING THE DATA"
   ],
   "metadata": {
    "collapsed": false
   }
  },
  {
   "cell_type": "code",
   "execution_count": 20,
   "outputs": [],
   "source": [
    "# Scaling values using min-max scaler\n",
    "mm_scaler_X = MinMaxScaler()\n",
    "mm_scaler_Y = MinMaxScaler()"
   ],
   "metadata": {
    "collapsed": false
   }
  },
  {
   "cell_type": "code",
   "execution_count": 21,
   "outputs": [
    {
     "name": "stdout",
     "output_type": "stream",
     "text": [
      "Scaled continuous X train: \n"
     ]
    },
    {
     "data": {
      "text/plain": "array([[0.47239264, 0.23449139, 0.19856039, ..., 0.20869565, 0.30745511,\n        0.54746011],\n       [0.47443763, 0.22237185, 0.18389753, ..., 0.20173913, 0.30554355,\n        0.52531792],\n       [0.43353783, 0.21880106, 0.17227783, ..., 0.19478261, 0.3114404 ,\n        0.51768315],\n       ...,\n       [0.5194274 , 0.25188487, 0.16303425, ..., 0.54434783, 0.57091494,\n        0.2977502 ],\n       [0.49079755, 0.21976441, 0.13637228, ..., 0.51130435, 0.52618253,\n        0.28281367],\n       [0.44785276, 0.19205345, 0.10866269, ..., 0.43478261, 0.47110278,\n        0.28844118]])"
     },
     "metadata": {},
     "output_type": "display_data"
    }
   ],
   "source": [
    "# Scaling continuous X train part\n",
    "X_scaled_continuous_train = mm_scaler_X.fit_transform(X_continuous_train)\n",
    "\n",
    "# Using the fit_scaler to scale the X test part\n",
    "X_scaled_continuous_test = mm_scaler_X.transform(X_continuous_test)\n",
    "\n",
    "print(\"Scaled continuous X train: \")\n",
    "display(X_scaled_continuous_train)"
   ],
   "metadata": {
    "collapsed": false
   }
  },
  {
   "cell_type": "code",
   "execution_count": 22,
   "outputs": [
    {
     "name": "stdout",
     "output_type": "stream",
     "text": [
      "Scaled continuous Y train: \n"
     ]
    },
    {
     "data": {
      "text/plain": "array([[0.26216915, 0.55021825, 0.2091388 , ..., 0.38905282, 0.3581734 ,\n        0.55546358],\n       [0.26325241, 0.55072333, 0.20228984, ..., 0.39087589, 0.3602255 ,\n        0.5552914 ],\n       [0.27329606, 0.56994517, 0.20106199, ..., 0.3965838 , 0.37146996,\n        0.56740107],\n       ...,\n       [0.22435239, 0.27169718, 0.72673052, ..., 0.23657667, 0.28044529,\n        0.38772706],\n       [0.21117283, 0.26442939, 0.73149934, ..., 0.22784033, 0.27551215,\n        0.39234429],\n       [0.19390153, 0.2602616 , 0.75374987, ..., 0.22386241, 0.27451492,\n        0.4084173 ]])"
     },
     "metadata": {},
     "output_type": "display_data"
    }
   ],
   "source": [
    "# Scaling target Y train part\n",
    "Y_scaled_train = mm_scaler_Y.fit_transform(Y_train)\n",
    "\n",
    "# Using the fit_scaler to scale the Y test part\n",
    "Y_scaled_test = mm_scaler_Y.transform(Y_test)\n",
    "\n",
    "print(\"Scaled continuous Y train: \")\n",
    "display(Y_scaled_train)"
   ],
   "metadata": {
    "collapsed": false
   }
  },
  {
   "cell_type": "code",
   "execution_count": 23,
   "outputs": [],
   "source": [
    "# Converting a multivariate dataset into slices of samples\n",
    "def split_data(calendar_data, x_data, y_data, n_steps, n_overlap):\n",
    "    calendar, x, y = list(), list(), list()\n",
    "    for i in range(0, len(x_data), n_steps-n_overlap):\n",
    "\n",
    "        # Finding the split index\n",
    "        end_idx = i + n_steps\n",
    "\n",
    "        # Break the loop at end of dataset\n",
    "        if end_idx > len(x_data):\n",
    "            break\n",
    "\n",
    "        # Appending the custom created samples with desired time-steps and features\n",
    "        sample_calendar, sample_x, sample_y = calendar_data[i:end_idx, :], \\\n",
    "                                              x_data[i:end_idx, :], \\\n",
    "                                              y_data[i:end_idx, :]\n",
    "        calendar.append(sample_calendar)\n",
    "        x.append(sample_x)\n",
    "        y.append(sample_y)\n",
    "\n",
    "    return np.array(calendar), np.array(x), np.array(y)"
   ],
   "metadata": {
    "collapsed": false
   }
  },
  {
   "cell_type": "code",
   "execution_count": 24,
   "outputs": [
    {
     "name": "stdout",
     "output_type": "stream",
     "text": [
      "Shape of the created samples for training:  (34873, 24, 8)\n",
      "Shape of the created samples for testing:  (364, 24, 8)\n"
     ]
    }
   ],
   "source": [
    "num_steps = 24\n",
    "train_num_overlap = 23\n",
    "test_num_overlap = 0\n",
    "\n",
    "processed_data_train = split_data(calendar_data=X_categorical_train.to_numpy(),\n",
    "                            x_data=X_scaled_continuous_train,\n",
    "                            y_data=Y_scaled_train,\n",
    "                            n_steps=num_steps, n_overlap=train_num_overlap)\n",
    "\n",
    "processed_data_test = split_data(calendar_data=X_categorical_test.to_numpy(),\n",
    "                            x_data=X_scaled_continuous_test,\n",
    "                            y_data=Y_scaled_test,\n",
    "                            n_steps=num_steps, n_overlap=test_num_overlap)\n",
    "\n",
    "print(\"Shape of the created samples for training: \", processed_data_train[2].shape)\n",
    "print(\"Shape of the created samples for testing: \", processed_data_test[2].shape)"
   ],
   "metadata": {
    "collapsed": false
   }
  },
  {
   "cell_type": "code",
   "execution_count": 25,
   "outputs": [
    {
     "name": "stdout",
     "output_type": "stream",
     "text": [
      "First sample: \n",
      "\n"
     ]
    },
    {
     "data": {
      "text/plain": "array([[0.47239264, 0.23449139, 0.19856039, 0.2891791 , 0.42362843,\n        0.30747691, 0.15572233, 0.01102423, 0.29986234, 0.2891791 ,\n        0.30745137, 0.33139125, 0.23214286, 0.33630549, 0.3751176 ,\n        0.24105461, 0.26618244, 0.29388401, 0.39732143, 0.35618171,\n        0.40075164, 0.20869565, 0.30745511, 0.54746011],\n       [0.47443763, 0.22237185, 0.18389753, 0.2630597 , 0.416606  ,\n        0.29801661, 0.15384615, 0.00917475, 0.29095308, 0.2630597 ,\n        0.29585628, 0.32021747, 0.22727273, 0.33487899, 0.36340769,\n        0.22033898, 0.25561296, 0.28169351, 0.34598214, 0.33567322,\n        0.40115179, 0.20173913, 0.30554355, 0.52531792],\n       [0.43353783, 0.21880106, 0.17227783, 0.2369403 , 0.42127419,\n        0.29282212, 0.14821764, 0.01229659, 0.28252911, 0.2369403 ,\n        0.29445531, 0.31298758, 0.22402597, 0.33975427, 0.35411245,\n        0.20150659, 0.25812192, 0.27483003, 0.31026786, 0.33129919,\n        0.39264419, 0.19478261, 0.3114404 , 0.51768315],\n       [0.40695297, 0.22580892, 0.17013913, 0.20895522, 0.42336256,\n        0.29393606, 0.13883677, 0.01355201, 0.27738416, 0.20895522,\n        0.30480828, 0.31427817, 0.2224026 , 0.35291159, 0.35720014,\n        0.18455744, 0.26746582, 0.27223788, 0.29910714, 0.33517498,\n        0.38453863, 0.18086957, 0.32073627, 0.5127434 ],\n       [0.38854806, 0.25167514, 0.17628061, 0.18843284, 0.44858549,\n        0.30141929, 0.12007505, 0.02101837, 0.27710826, 0.18843284,\n        0.33298522, 0.32012511, 0.22402597, 0.38083529, 0.36760995,\n        0.16760829, 0.28640196, 0.28172126, 0.29241071, 0.3533992 ,\n        0.38558515, 0.17217391, 0.34429416, 0.51597405],\n       [0.37014315, 0.31337875, 0.19063541, 0.16791045, 0.50849658,\n        0.31678101, 0.10506567, 0.04845565, 0.28172838, 0.16791045,\n        0.39840866, 0.33639569, 0.22564935, 0.44036578, 0.38259975,\n        0.15065913, 0.34103434, 0.30336102, 0.265625  , 0.40514363,\n        0.39665426, 0.16521739, 0.40020484, 0.53015088],\n       [0.34560327, 0.39042224, 0.20038746, 0.15671642, 0.61119175,\n        0.3398177 , 0.09380863, 0.09617777, 0.28259478, 0.15671642,\n        0.48559758, 0.35551303, 0.23051948, 0.52598347, 0.39928485,\n        0.13747646, 0.41205421, 0.31993966, 0.24107143, 0.51360003,\n        0.41511264, 0.16      , 0.49360973, 0.55128031],\n       [0.32310838, 0.39521956, 0.20310663, 0.14552239, 0.6173787 ,\n        0.359546  , 0.07879925, 0.12423918, 0.29298354, 0.14552239,\n        0.51043589, 0.37035756, 0.23376623, 0.56006075, 0.41547767,\n        0.12429379, 0.4231644 , 0.32955578, 0.22321429, 0.53002772,\n        0.41820688, 0.15478261, 0.52884071, 0.56894887],\n       [0.30265849, 0.35783363, 0.21268548, 0.13619403, 0.57580027,\n        0.38094031, 0.06941839, 0.10924381, 0.29668954, 0.13619403,\n        0.47155541, 0.38363204, 0.23863636, 0.52591296, 0.42664741,\n        0.11111111, 0.37916314, 0.33751846, 0.21428571, 0.47649294,\n        0.43259232, 0.14956522, 0.49013041, 0.5863501 ],\n       [0.28425358, 0.32589421, 0.23865615, 0.12686567, 0.50981608,\n        0.4077179 , 0.06754221, 0.09905923, 0.30560881, 0.12686567,\n        0.40755978, 0.41018359, 0.24025974, 0.47796551, 0.45304809,\n        0.09792844, 0.32527764, 0.36109981, 0.19642857, 0.42722125,\n        0.45935538, 0.1426087 , 0.43248386, 0.60234944],\n       [0.26789366, 0.29334213, 0.26462574, 0.11940299, 0.44323247,\n        0.42605332, 0.0619137 , 0.0766382 , 0.3083584 , 0.11940299,\n        0.35743789, 0.43054638, 0.2288961 , 0.43617821, 0.47344473,\n        0.08286252, 0.28384691, 0.38212795, 0.17857143, 0.37100038,\n        0.47775933, 0.12869565, 0.37098491, 0.60772402],\n       [0.2597137 , 0.26061734, 0.27952908, 0.11007463, 0.38236041,\n        0.43381471, 0.07692308, 0.05758267, 0.30769664, 0.11007463,\n        0.31670324, 0.44055935, 0.20779221, 0.38899075, 0.47820158,\n        0.07156309, 0.24691618, 0.39719938, 0.16741071, 0.30512461,\n        0.48522983, 0.12347826, 0.31609193, 0.60842959],\n       [0.24948875, 0.23297219, 0.28199953, 0.10261194, 0.31996278,\n        0.42572758, 0.09193246, 0.03550901, 0.29769551, 0.10261194,\n        0.28128377, 0.43960586, 0.20941558, 0.34633139, 0.46619327,\n        0.06403013, 0.21255541, 0.39973205, 0.15401786, 0.25474682,\n        0.48467052, 0.12173913, 0.27130841, 0.59779803],\n       [0.24335378, 0.21401633, 0.27499181, 0.0988806 , 0.29666718,\n        0.41120788, 0.08067542, 0.02559718, 0.28460715, 0.0988806 ,\n        0.25578603, 0.42799963, 0.23376623, 0.31742669, 0.44965251,\n        0.06214689, 0.18680477, 0.3944155 , 0.14285714, 0.22042353,\n        0.47375229, 0.12347826, 0.24039081, 0.57939819],\n       [0.24948875, 0.19533004, 0.26677266, 0.13619403, 0.23765587,\n        0.40336432, 0.08442777, 0.01582999, 0.28202648, 0.13619403,\n        0.22882218, 0.41474477, 0.24350649, 0.29547805, 0.43759987,\n        0.08474576, 0.17201113, 0.38187665, 0.13839286, 0.19375887,\n        0.46390902, 0.14782609, 0.21590056, 0.56137059],\n       [0.26789366, 0.18401138, 0.26197773, 0.16977612, 0.24443926,\n        0.3979214 , 0.11257036, 0.01162119, 0.27956491, 0.16977612,\n        0.21313141, 0.40828183, 0.27922078, 0.27824149, 0.43750491,\n        0.10922787, 0.16393048, 0.36947291, 0.140625  , 0.17746991,\n        0.45927044, 0.17913043, 0.2026694 , 0.54998409],\n       [0.3006135 , 0.18330672, 0.26830094, 0.20149254, 0.24381692,\n        0.39976613, 0.15009381, 0.02744356, 0.28174767, 0.20149254,\n        0.21932077, 0.41755126, 0.32467532, 0.28054346, 0.44420129,\n        0.12617702, 0.16558231, 0.36970005, 0.15401786, 0.17491929,\n        0.46320012, 0.20521739, 0.21006283, 0.55480254],\n       [0.33128834, 0.21782764, 0.3040557 , 0.23320896, 0.30192096,\n        0.43499184, 0.19136961, 0.03815016, 0.29392295, 0.23320896,\n        0.26096788, 0.44587431, 0.36363636, 0.32120366, 0.47207174,\n        0.1393597 , 0.19203464, 0.39472632, 0.15401786, 0.19899373,\n        0.48921608, 0.24173913, 0.23623439, 0.57978945],\n       [0.34969325, 0.26207717, 0.31471935, 0.26492537, 0.37586393,\n        0.44460363, 0.21013133, 0.09102032, 0.31854459, 0.26492537,\n        0.31841369, 0.45453578, 0.40097403, 0.38776076, 0.48605609,\n        0.14312618, 0.24807699, 0.41327293, 0.16517857, 0.27120111,\n        0.52526165, 0.27478261, 0.31330176, 0.60578007],\n       [0.36605317, 0.26622039, 0.30231821, 0.2891791 , 0.38288582,\n        0.43001827, 0.25703565, 0.11310063, 0.31632688, 0.2891791 ,\n        0.32524028, 0.44039611, 0.43831169, 0.39915398, 0.47252527,\n        0.15065913, 0.25874615, 0.40254392, 0.18080357, 0.29163452,\n        0.5194488 , 0.29043478, 0.33136807, 0.59014397],\n       [0.36400818, 0.26172332, 0.28557591, 0.30410448, 0.35704718,\n        0.41383855, 0.2739212 , 0.12122332, 0.31060718, 0.30410448,\n        0.32947617, 0.42482061, 0.4724026 , 0.40436641, 0.45550868,\n        0.17514124, 0.25819338, 0.38878679, 0.18973214, 0.30015435,\n        0.51260522, 0.30434783, 0.34302882, 0.56690502],\n       [0.36196319, 0.23963449, 0.26319051, 0.31156716, 0.35610399,\n        0.38840469, 0.26641651, 0.11313805, 0.2990549 , 0.31156716,\n        0.31833111, 0.39710571, 0.49188312, 0.38806605, 0.42715809,\n        0.1920904 , 0.23954843, 0.36541071, 0.19866071, 0.28987663,\n        0.49271371, 0.31130435, 0.32910692, 0.53894146],\n       [0.3599182 , 0.19921753, 0.22901347, 0.30970149, 0.30214441,\n        0.35010122, 0.28142589, 0.09358355, 0.27879727, 0.30970149,\n        0.28384473, 0.36058846, 0.47564935, 0.35606307, 0.3835358 ,\n        0.20150659, 0.20220686, 0.32912992, 0.203125  , 0.25420903,\n        0.45721696, 0.33217391, 0.29665516, 0.50066528],\n       [0.35378323, 0.15840335, 0.19057233, 0.30037313, 0.29179851,\n        0.30984908, 0.27767355, 0.06990867, 0.25817732, 0.30037313,\n        0.25004174, 0.32210948, 0.43506494, 0.32451651, 0.34617641,\n        0.20527307, 0.16414656, 0.29137403, 0.20089286, 0.20214419,\n        0.41445935, 0.32347826, 0.2687032 , 0.46495496]])"
     },
     "metadata": {},
     "output_type": "display_data"
    }
   ],
   "source": [
    "## Sample check for sanity\n",
    "print(\"First sample: \\n\")\n",
    "display(processed_data_train[1][0])"
   ],
   "metadata": {
    "collapsed": false
   }
  },
  {
   "cell_type": "code",
   "execution_count": 26,
   "outputs": [
    {
     "name": "stdout",
     "output_type": "stream",
     "text": [
      "Second sample: \n",
      "\n"
     ]
    },
    {
     "data": {
      "text/plain": "array([[0.47443763, 0.22237185, 0.18389753, 0.2630597 , 0.416606  ,\n        0.29801661, 0.15384615, 0.00917475, 0.29095308, 0.2630597 ,\n        0.29585628, 0.32021747, 0.22727273, 0.33487899, 0.36340769,\n        0.22033898, 0.25561296, 0.28169351, 0.34598214, 0.33567322,\n        0.40115179, 0.20173913, 0.30554355, 0.52531792],\n       [0.43353783, 0.21880106, 0.17227783, 0.2369403 , 0.42127419,\n        0.29282212, 0.14821764, 0.01229659, 0.28252911, 0.2369403 ,\n        0.29445531, 0.31298758, 0.22402597, 0.33975427, 0.35411245,\n        0.20150659, 0.25812192, 0.27483003, 0.31026786, 0.33129919,\n        0.39264419, 0.19478261, 0.3114404 , 0.51768315],\n       [0.40695297, 0.22580892, 0.17013913, 0.20895522, 0.42336256,\n        0.29393606, 0.13883677, 0.01355201, 0.27738416, 0.20895522,\n        0.30480828, 0.31427817, 0.2224026 , 0.35291159, 0.35720014,\n        0.18455744, 0.26746582, 0.27223788, 0.29910714, 0.33517498,\n        0.38453863, 0.18086957, 0.32073627, 0.5127434 ],\n       [0.38854806, 0.25167514, 0.17628061, 0.18843284, 0.44858549,\n        0.30141929, 0.12007505, 0.02101837, 0.27710826, 0.18843284,\n        0.33298522, 0.32012511, 0.22402597, 0.38083529, 0.36760995,\n        0.16760829, 0.28640196, 0.28172126, 0.29241071, 0.3533992 ,\n        0.38558515, 0.17217391, 0.34429416, 0.51597405],\n       [0.37014315, 0.31337875, 0.19063541, 0.16791045, 0.50849658,\n        0.31678101, 0.10506567, 0.04845565, 0.28172838, 0.16791045,\n        0.39840866, 0.33639569, 0.22564935, 0.44036578, 0.38259975,\n        0.15065913, 0.34103434, 0.30336102, 0.265625  , 0.40514363,\n        0.39665426, 0.16521739, 0.40020484, 0.53015088],\n       [0.34560327, 0.39042224, 0.20038746, 0.15671642, 0.61119175,\n        0.3398177 , 0.09380863, 0.09617777, 0.28259478, 0.15671642,\n        0.48559758, 0.35551303, 0.23051948, 0.52598347, 0.39928485,\n        0.13747646, 0.41205421, 0.31993966, 0.24107143, 0.51360003,\n        0.41511264, 0.16      , 0.49360973, 0.55128031],\n       [0.32310838, 0.39521956, 0.20310663, 0.14552239, 0.6173787 ,\n        0.359546  , 0.07879925, 0.12423918, 0.29298354, 0.14552239,\n        0.51043589, 0.37035756, 0.23376623, 0.56006075, 0.41547767,\n        0.12429379, 0.4231644 , 0.32955578, 0.22321429, 0.53002772,\n        0.41820688, 0.15478261, 0.52884071, 0.56894887],\n       [0.30265849, 0.35783363, 0.21268548, 0.13619403, 0.57580027,\n        0.38094031, 0.06941839, 0.10924381, 0.29668954, 0.13619403,\n        0.47155541, 0.38363204, 0.23863636, 0.52591296, 0.42664741,\n        0.11111111, 0.37916314, 0.33751846, 0.21428571, 0.47649294,\n        0.43259232, 0.14956522, 0.49013041, 0.5863501 ],\n       [0.28425358, 0.32589421, 0.23865615, 0.12686567, 0.50981608,\n        0.4077179 , 0.06754221, 0.09905923, 0.30560881, 0.12686567,\n        0.40755978, 0.41018359, 0.24025974, 0.47796551, 0.45304809,\n        0.09792844, 0.32527764, 0.36109981, 0.19642857, 0.42722125,\n        0.45935538, 0.1426087 , 0.43248386, 0.60234944],\n       [0.26789366, 0.29334213, 0.26462574, 0.11940299, 0.44323247,\n        0.42605332, 0.0619137 , 0.0766382 , 0.3083584 , 0.11940299,\n        0.35743789, 0.43054638, 0.2288961 , 0.43617821, 0.47344473,\n        0.08286252, 0.28384691, 0.38212795, 0.17857143, 0.37100038,\n        0.47775933, 0.12869565, 0.37098491, 0.60772402],\n       [0.2597137 , 0.26061734, 0.27952908, 0.11007463, 0.38236041,\n        0.43381471, 0.07692308, 0.05758267, 0.30769664, 0.11007463,\n        0.31670324, 0.44055935, 0.20779221, 0.38899075, 0.47820158,\n        0.07156309, 0.24691618, 0.39719938, 0.16741071, 0.30512461,\n        0.48522983, 0.12347826, 0.31609193, 0.60842959],\n       [0.24948875, 0.23297219, 0.28199953, 0.10261194, 0.31996278,\n        0.42572758, 0.09193246, 0.03550901, 0.29769551, 0.10261194,\n        0.28128377, 0.43960586, 0.20941558, 0.34633139, 0.46619327,\n        0.06403013, 0.21255541, 0.39973205, 0.15401786, 0.25474682,\n        0.48467052, 0.12173913, 0.27130841, 0.59779803],\n       [0.24335378, 0.21401633, 0.27499181, 0.0988806 , 0.29666718,\n        0.41120788, 0.08067542, 0.02559718, 0.28460715, 0.0988806 ,\n        0.25578603, 0.42799963, 0.23376623, 0.31742669, 0.44965251,\n        0.06214689, 0.18680477, 0.3944155 , 0.14285714, 0.22042353,\n        0.47375229, 0.12347826, 0.24039081, 0.57939819],\n       [0.24948875, 0.19533004, 0.26677266, 0.13619403, 0.23765587,\n        0.40336432, 0.08442777, 0.01582999, 0.28202648, 0.13619403,\n        0.22882218, 0.41474477, 0.24350649, 0.29547805, 0.43759987,\n        0.08474576, 0.17201113, 0.38187665, 0.13839286, 0.19375887,\n        0.46390902, 0.14782609, 0.21590056, 0.56137059],\n       [0.26789366, 0.18401138, 0.26197773, 0.16977612, 0.24443926,\n        0.3979214 , 0.11257036, 0.01162119, 0.27956491, 0.16977612,\n        0.21313141, 0.40828183, 0.27922078, 0.27824149, 0.43750491,\n        0.10922787, 0.16393048, 0.36947291, 0.140625  , 0.17746991,\n        0.45927044, 0.17913043, 0.2026694 , 0.54998409],\n       [0.3006135 , 0.18330672, 0.26830094, 0.20149254, 0.24381692,\n        0.39976613, 0.15009381, 0.02744356, 0.28174767, 0.20149254,\n        0.21932077, 0.41755126, 0.32467532, 0.28054346, 0.44420129,\n        0.12617702, 0.16558231, 0.36970005, 0.15401786, 0.17491929,\n        0.46320012, 0.20521739, 0.21006283, 0.55480254],\n       [0.33128834, 0.21782764, 0.3040557 , 0.23320896, 0.30192096,\n        0.43499184, 0.19136961, 0.03815016, 0.29392295, 0.23320896,\n        0.26096788, 0.44587431, 0.36363636, 0.32120366, 0.47207174,\n        0.1393597 , 0.19203464, 0.39472632, 0.15401786, 0.19899373,\n        0.48921608, 0.24173913, 0.23623439, 0.57978945],\n       [0.34969325, 0.26207717, 0.31471935, 0.26492537, 0.37586393,\n        0.44460363, 0.21013133, 0.09102032, 0.31854459, 0.26492537,\n        0.31841369, 0.45453578, 0.40097403, 0.38776076, 0.48605609,\n        0.14312618, 0.24807699, 0.41327293, 0.16517857, 0.27120111,\n        0.52526165, 0.27478261, 0.31330176, 0.60578007],\n       [0.36605317, 0.26622039, 0.30231821, 0.2891791 , 0.38288582,\n        0.43001827, 0.25703565, 0.11310063, 0.31632688, 0.2891791 ,\n        0.32524028, 0.44039611, 0.43831169, 0.39915398, 0.47252527,\n        0.15065913, 0.25874615, 0.40254392, 0.18080357, 0.29163452,\n        0.5194488 , 0.29043478, 0.33136807, 0.59014397],\n       [0.36400818, 0.26172332, 0.28557591, 0.30410448, 0.35704718,\n        0.41383855, 0.2739212 , 0.12122332, 0.31060718, 0.30410448,\n        0.32947617, 0.42482061, 0.4724026 , 0.40436641, 0.45550868,\n        0.17514124, 0.25819338, 0.38878679, 0.18973214, 0.30015435,\n        0.51260522, 0.30434783, 0.34302882, 0.56690502],\n       [0.36196319, 0.23963449, 0.26319051, 0.31156716, 0.35610399,\n        0.38840469, 0.26641651, 0.11313805, 0.2990549 , 0.31156716,\n        0.31833111, 0.39710571, 0.49188312, 0.38806605, 0.42715809,\n        0.1920904 , 0.23954843, 0.36541071, 0.19866071, 0.28987663,\n        0.49271371, 0.31130435, 0.32910692, 0.53894146],\n       [0.3599182 , 0.19921753, 0.22901347, 0.30970149, 0.30214441,\n        0.35010122, 0.28142589, 0.09358355, 0.27879727, 0.30970149,\n        0.28384473, 0.36058846, 0.47564935, 0.35606307, 0.3835358 ,\n        0.20150659, 0.20220686, 0.32912992, 0.203125  , 0.25420903,\n        0.45721696, 0.33217391, 0.29665516, 0.50066528],\n       [0.35378323, 0.15840335, 0.19057233, 0.30037313, 0.29179851,\n        0.30984908, 0.27767355, 0.06990867, 0.25817732, 0.30037313,\n        0.25004174, 0.32210948, 0.43506494, 0.32451651, 0.34617641,\n        0.20527307, 0.16414656, 0.29137403, 0.20089286, 0.20214419,\n        0.41445935, 0.32347826, 0.2687032 , 0.46495496],\n       [0.34764826, 0.13300971, 0.15747422, 0.2891791 , 0.28833462,\n        0.28534506, 0.26641651, 0.06282894, 0.24302146, 0.2891791 ,\n        0.23590091, 0.29186555, 0.35227273, 0.31755217, 0.32144157,\n        0.19020716, 0.13867183, 0.25977546, 0.20089286, 0.16598239,\n        0.37781769, 0.2973913 , 0.26037088, 0.43731793]])"
     },
     "metadata": {},
     "output_type": "display_data"
    }
   ],
   "source": [
    "print(\"Second sample: \\n\")\n",
    "display(processed_data_train[1][1])"
   ],
   "metadata": {
    "collapsed": false
   }
  },
  {
   "cell_type": "code",
   "execution_count": 27,
   "outputs": [],
   "source": [
    "# Dividing the sampled data - training\n",
    "categorical_samples_training = torch.Tensor(processed_data_train[0])\n",
    "continuous_samples_training = torch.Tensor(processed_data_train[1])\n",
    "target_samples_training = torch.Tensor(processed_data_train[2])\n",
    "\n",
    "# Dividing the sampled data - testing\n",
    "categorical_samples_testing = torch.Tensor(processed_data_test[0])\n",
    "continuous_samples_testing = torch.Tensor(processed_data_test[1])\n",
    "target_samples_testing = torch.Tensor(processed_data_test[2])"
   ],
   "metadata": {
    "collapsed": false
   }
  },
  {
   "cell_type": "code",
   "execution_count": 28,
   "outputs": [
    {
     "name": "stdout",
     "output_type": "stream",
     "text": [
      "Shape of categorical samples - training:  torch.Size([34873, 24, 74])\n",
      "Shape of continuous samples - training:  torch.Size([34873, 24, 24])\n",
      "Shape of target samples - training:  torch.Size([34873, 24, 8])\n",
      "\n",
      "\n",
      "Shape of categorical samples - testing:  torch.Size([364, 24, 74])\n",
      "Shape of continuous samples - testing:  torch.Size([364, 24, 24])\n",
      "Shape of target samples - testing:  torch.Size([364, 24, 8])\n"
     ]
    }
   ],
   "source": [
    "print(\"Shape of categorical samples - training: \", categorical_samples_training.shape)\n",
    "print(\"Shape of continuous samples - training: \", continuous_samples_training.shape)\n",
    "print(\"Shape of target samples - training: \", target_samples_training.shape)\n",
    "print(\"\\n\")\n",
    "print(\"Shape of categorical samples - testing: \", categorical_samples_testing.shape)\n",
    "print(\"Shape of continuous samples - testing: \", continuous_samples_testing.shape)\n",
    "print(\"Shape of target samples - testing: \", target_samples_testing.shape)"
   ],
   "metadata": {
    "collapsed": false
   }
  },
  {
   "cell_type": "markdown",
   "source": [
    "### CREATING DATALOADER"
   ],
   "metadata": {
    "collapsed": false
   }
  },
  {
   "cell_type": "code",
   "execution_count": 29,
   "outputs": [],
   "source": [
    "BATCH_SIZE = 128"
   ],
   "metadata": {
    "collapsed": false
   }
  },
  {
   "cell_type": "code",
   "execution_count": 30,
   "outputs": [],
   "source": [
    "class TimeSeriesLoader(Dataset):\n",
    "    def __init__(self, categorical, continuous, target):\n",
    "        self.categorical, self.continuous, self.target = categorical, continuous, target\n",
    "\n",
    "    def __len__(self):\n",
    "        return len(self.categorical)\n",
    "\n",
    "    def __getitem__(self, idx):\n",
    "        return self.categorical[idx], self.continuous[idx], self.target[idx]"
   ],
   "metadata": {
    "collapsed": false
   }
  },
  {
   "cell_type": "code",
   "execution_count": 31,
   "outputs": [],
   "source": [
    "train_dataset = TimeSeriesLoader(categorical_samples_training,\n",
    "                                 continuous_samples_training,\n",
    "                                 target_samples_training)\n",
    "\n",
    "test_dataset = TimeSeriesLoader(categorical_samples_testing,\n",
    "                                continuous_samples_testing,\n",
    "                                target_samples_testing)"
   ],
   "metadata": {
    "collapsed": false
   }
  },
  {
   "cell_type": "code",
   "execution_count": 32,
   "outputs": [],
   "source": [
    "train_dataloader = DataLoader(train_dataset, batch_size=BATCH_SIZE, shuffle=True, drop_last=False)\n",
    "\n",
    "test_dataloader = DataLoader(test_dataset, batch_size=BATCH_SIZE, shuffle=False, drop_last=False)"
   ],
   "metadata": {
    "collapsed": false
   }
  },
  {
   "cell_type": "code",
   "execution_count": 33,
   "outputs": [
    {
     "name": "stdout",
     "output_type": "stream",
     "text": [
      "Number of batches in train dataloader:  273\n",
      "Number of batches in test dataloader:  3\n"
     ]
    }
   ],
   "source": [
    "print(\"Number of batches in train dataloader: \", len(train_dataloader))\n",
    "print(\"Number of batches in test dataloader: \", len(test_dataloader))"
   ],
   "metadata": {
    "collapsed": false
   }
  },
  {
   "cell_type": "code",
   "execution_count": 34,
   "outputs": [
    {
     "name": "stdout",
     "output_type": "stream",
     "text": [
      "Shape of categorical variables:  torch.Size([34873, 24, 74])\n",
      "Shape of continuous variables:  torch.Size([34873, 24, 24])\n",
      "Shape of target variables:  torch.Size([34873, 24, 8])\n"
     ]
    }
   ],
   "source": [
    "categorical_var_shape = train_dataloader.dataset.categorical.shape\n",
    "continuous_var_shape = train_dataloader.dataset.continuous.shape\n",
    "target_var_shape = train_dataloader.dataset.target.shape\n",
    "\n",
    "print(\"Shape of categorical variables: \", categorical_var_shape)\n",
    "print(\"Shape of continuous variables: \", continuous_var_shape)\n",
    "print(\"Shape of target variables: \", target_var_shape)"
   ],
   "metadata": {
    "collapsed": false
   }
  },
  {
   "cell_type": "code",
   "execution_count": 35,
   "outputs": [
    {
     "name": "stdout",
     "output_type": "stream",
     "text": [
      "Number of zones:  8\n",
      "Number of features per zone:  3\n"
     ]
    }
   ],
   "source": [
    "# Specifying number of zones and features per zone\n",
    "num_zones = target_var_shape[2]\n",
    "num_zone_features = int(continuous_var_shape[2] / target_var_shape[2])\n",
    "print(\"Number of zones: \", num_zones)\n",
    "print(\"Number of features per zone: \", num_zone_features)"
   ],
   "metadata": {
    "collapsed": false
   }
  },
  {
   "cell_type": "markdown",
   "source": [
    "### DEFINING LOSS FUNCTION"
   ],
   "metadata": {
    "collapsed": false
   }
  },
  {
   "cell_type": "code",
   "execution_count": 36,
   "outputs": [],
   "source": [
    "class QuantileLoss(nn.Module):\n",
    "    def __init__(self, quantiles):\n",
    "        super().__init__()\n",
    "        self.quantiles = quantiles\n",
    "\n",
    "    def forward(self, pred, target):\n",
    "        assert not target.requires_grad\n",
    "        assert pred.size(0) == target.size(0)\n",
    "        assert pred.size(1) == target.size(1)\n",
    "        losses = []\n",
    "        for i, q in enumerate(self.quantiles):\n",
    "            errors = target.reshape(-1,1) - pred[:, :, i].reshape(-1,1)\n",
    "            losses.append(torch.max((q-1) * errors, q * errors).unsqueeze(1))\n",
    "        loss = torch.mean(torch.sum(torch.cat(losses, dim=1), dim=1))\n",
    "        return loss"
   ],
   "metadata": {
    "collapsed": false
   }
  },
  {
   "cell_type": "code",
   "execution_count": 37,
   "outputs": [],
   "source": [
    "torch.manual_seed(111)\n",
    "\n",
    "quantile_list = np.arange(1, 10) * 0.1\n",
    "\n",
    "pinball_loss_func = QuantileLoss(quantile_list)"
   ],
   "metadata": {
    "collapsed": false
   }
  },
  {
   "cell_type": "markdown",
   "source": [
    "### DEFINING MODEL ARCHITECTURE"
   ],
   "metadata": {
    "collapsed": false
   }
  },
  {
   "cell_type": "code",
   "execution_count": 38,
   "outputs": [],
   "source": [
    "config_args = easydict.EasyDict(\n",
    "        {\n",
    "            \"device\": torch.device(\"cuda\")\n",
    "            if torch.cuda.is_available()\n",
    "            else torch.device(\"cpu\"),\n",
    "            \"learning_rate\": 2e-4,\n",
    "            \"max_iter\": 1000,\n",
    "            \"epochs\": 25\n",
    "        }\n",
    "    )\n",
    "\n",
    "model_args = easydict.EasyDict(\n",
    "        {\n",
    "            \"d_input\": 6 + X_categorical_train.shape[1],     # Model input -> Continuous + Categorical\n",
    "            \"d_output\": 9,                                   # Model output -> Quantile predictions\n",
    "            \"d_model\": 16,                                   # Model latent dimension\n",
    "            \"q\": 3,                                          # Query and Key dimensions\n",
    "            \"v\": 3,                                          # Value dimensions\n",
    "            \"h\": 3,                                          # Number of heads\n",
    "            \"N\": 1,                                          # Number of stacked of encoder and decoder\n",
    "            \"attention_size\": 24,                            # Attention window\n",
    "            \"dropout\": 0.9,                                  # Dropout rate\n",
    "            \"pe\": \"regular\",                                 # Positional encoding used\n",
    "            \"chunk_mode\": None,                              # Default -> MultiHeadAttention\n",
    "        }\n",
    "    )\n",
    "\n",
    "# Making directories to store values\n",
    "if not os.path.exists(\"logs\"):\n",
    "    os.mkdir(\"logs\")\n",
    "if not os.path.exists(\"models\"):\n",
    "    os.mkdir(\"models\")"
   ],
   "metadata": {
    "collapsed": false
   }
  },
  {
   "cell_type": "markdown",
   "source": [
    "### INSTANTIATING MODELS -> VAE AND LSTM"
   ],
   "metadata": {
    "collapsed": false
   }
  },
  {
   "cell_type": "code",
   "execution_count": 39,
   "outputs": [
    {
     "name": "stdout",
     "output_type": "stream",
     "text": [
      "Number of vae models:  8\n"
     ]
    }
   ],
   "source": [
    "# Address for saved VAE models\n",
    "vae_dirname = os.path.join(os.path.dirname(os.getcwd()), \"VAE_LSTM\", \"vae_models\")\n",
    "\n",
    "# Loading the vae models\n",
    "vae_model_1 = torch.load(os.path.join(vae_dirname, \"L2_best_zone_1.pth\"))\n",
    "vae_model_2 = torch.load(os.path.join(vae_dirname, \"L2_best_zone_2.pth\"))\n",
    "vae_model_3 = torch.load(os.path.join(vae_dirname, \"L2_best_zone_3.pth\"))\n",
    "vae_model_4 = torch.load(os.path.join(vae_dirname, \"L2_best_zone_4.pth\"))\n",
    "vae_model_5 = torch.load(os.path.join(vae_dirname, \"L2_best_zone_5.pth\"))\n",
    "vae_model_6 = torch.load(os.path.join(vae_dirname, \"L2_best_zone_6.pth\"))\n",
    "vae_model_7 = torch.load(os.path.join(vae_dirname, \"L2_best_zone_7.pth\"))\n",
    "vae_model_8 = torch.load(os.path.join(vae_dirname, \"L2_best_zone_8.pth\"))\n",
    "\n",
    "vae_models = nn.ModuleList([vae_model_1, vae_model_2, vae_model_3, vae_model_4,\n",
    "                            vae_model_5, vae_model_6, vae_model_7, vae_model_8])\n",
    "print(\"Number of vae models: \", len(vae_models))"
   ],
   "metadata": {
    "collapsed": false
   }
  },
  {
   "cell_type": "code",
   "execution_count": 40,
   "outputs": [
    {
     "name": "stdout",
     "output_type": "stream",
     "text": [
      "Number of transformer models:  8\n"
     ]
    }
   ],
   "source": [
    "# Instantiating transformer corresponding to each zone\n",
    "transformer_model = Transformer(model_args.d_input, model_args.d_model, model_args.d_output,\n",
    "                                model_args.q, model_args.v, model_args.h, model_args.N,\n",
    "                                attention_size=model_args.attention_size, dropout=model_args.dropout,\n",
    "                                chunk_mode=model_args.chunk_mode, pe=model_args.pe).to(device)\n",
    "\n",
    "transformer_models = nn.ModuleList([transformer_model for _ in range(num_zones)])\n",
    "print(\"Number of transformer models: \", len(transformer_models))"
   ],
   "metadata": {
    "collapsed": false
   }
  },
  {
   "cell_type": "code",
   "execution_count": 41,
   "outputs": [],
   "source": [
    "class VAE_TRANSFORMER(nn.Module):\n",
    "    def __init__(self, zonal_vae, zonal_transformer):\n",
    "        super(VAE_TRANSFORMER, self).__init__()\n",
    "        self.zonal_vae = zonal_vae\n",
    "        self.zonal_transformer = zonal_transformer\n",
    "\n",
    "    def forward(self, categorical, zonal_continuous):\n",
    "        out_var = self.zonal_vae(zonal_continuous)\n",
    "        in_transformer = torch.cat((categorical, zonal_continuous, out_var[1]), axis=-1)\n",
    "        out_transformer = self.zonal_transformer(in_transformer)\n",
    "        return out_var, out_transformer"
   ],
   "metadata": {
    "collapsed": false
   }
  },
  {
   "cell_type": "code",
   "execution_count": 42,
   "outputs": [],
   "source": [
    "def pinball(yhat, tau, y):\n",
    "    if yhat >= y:\n",
    "        score = (1 - tau) * (yhat - y)\n",
    "    else:\n",
    "        score = tau * (y - yhat)\n",
    "    return score"
   ],
   "metadata": {
    "collapsed": false
   }
  },
  {
   "cell_type": "code",
   "execution_count": 43,
   "outputs": [],
   "source": [
    "def frozen_param_model(net):\n",
    "    for name, param in net.named_parameters():\n",
    "        if param.requires_grad and 'zonal_vae' in name:\n",
    "            param.requires_grad = False\n",
    "\n",
    "    non_frozen_param = [p for p in net.parameters() if p.requires_grad]\n",
    "    return non_frozen_param"
   ],
   "metadata": {
    "collapsed": false
   }
  },
  {
   "cell_type": "code",
   "execution_count": 44,
   "outputs": [],
   "source": [
    "def save_checkpoint(model, filename):\n",
    "    torch.save(model.state_dict(), filename)\n",
    "\n",
    "def load_from_checkpoint(model, filename):\n",
    "    model.load_state_dict(torch.load(filename))\n",
    "    return model\n",
    "\n",
    "def init_weights(model):\n",
    "    if isinstance(model, nn.Linear):\n",
    "        torch.nn.init.kaiming_uniform_(model.weight, nonlinearity='relu')\n",
    "        model.bias.data.fill_(0.01)"
   ],
   "metadata": {
    "collapsed": false
   }
  },
  {
   "cell_type": "markdown",
   "source": [
    "### DEFINING ZONAL MODEL"
   ],
   "metadata": {
    "collapsed": false
   }
  },
  {
   "cell_type": "code",
   "execution_count": 45,
   "outputs": [],
   "source": [
    "model_1 = VAE_TRANSFORMER(vae_models[0], transformer_models[0]).apply(init_weights)\n",
    "model_2 = VAE_TRANSFORMER(vae_models[1], transformer_models[1]).apply(init_weights)\n",
    "model_3 = VAE_TRANSFORMER(vae_models[2], transformer_models[2]).apply(init_weights)\n",
    "model_4 = VAE_TRANSFORMER(vae_models[3], transformer_models[3]).apply(init_weights)\n",
    "model_5 = VAE_TRANSFORMER(vae_models[4], transformer_models[4]).apply(init_weights)\n",
    "model_6 = VAE_TRANSFORMER(vae_models[5], transformer_models[5]).apply(init_weights)\n",
    "model_7 = VAE_TRANSFORMER(vae_models[6], transformer_models[6]).apply(init_weights)\n",
    "model_8 = VAE_TRANSFORMER(vae_models[7], transformer_models[7]).apply(init_weights)"
   ],
   "metadata": {
    "collapsed": false
   }
  },
  {
   "cell_type": "code",
   "execution_count": 46,
   "outputs": [],
   "source": [
    "# Defining optimizer with frozen vae parameters -> Just training the Transformer\n",
    "optimizer_1 = optim.Adam(frozen_param_model(model_1), lr=config_args.learning_rate)\n",
    "optimizer_2 = optim.Adam(frozen_param_model(model_2), lr=config_args.learning_rate)\n",
    "optimizer_3 = optim.Adam(frozen_param_model(model_3), lr=config_args.learning_rate)\n",
    "optimizer_4 = optim.Adam(frozen_param_model(model_4), lr=config_args.learning_rate)\n",
    "optimizer_5 = optim.Adam(frozen_param_model(model_5), lr=config_args.learning_rate)\n",
    "optimizer_6 = optim.Adam(frozen_param_model(model_6), lr=config_args.learning_rate)\n",
    "optimizer_7 = optim.Adam(frozen_param_model(model_7), lr=config_args.learning_rate)\n",
    "optimizer_8 = optim.Adam(frozen_param_model(model_8), lr=config_args.learning_rate)"
   ],
   "metadata": {
    "collapsed": false
   }
  },
  {
   "cell_type": "markdown",
   "source": [
    "### PERFORMING MODEL TRAINING"
   ],
   "metadata": {
    "collapsed": false
   }
  },
  {
   "cell_type": "code",
   "execution_count": 47,
   "outputs": [
    {
     "name": "stderr",
     "output_type": "stream",
     "text": [
      "[Epoch   1/25]: 100%|██████████| 34873/34873 [01:35<00:00, 366.06it/s, loss_1=0.658, loss_2=0.614, loss_3=0.657, loss_4=0.624, loss_5=0.609, loss_6=0.596, loss_7=0.649, loss_8=0.599]              \n",
      "[Epoch   2/25]: 100%|██████████| 34873/34873 [01:54<00:00, 303.73it/s, loss_1=0.457, loss_2=0.429, loss_3=0.446, loss_4=0.427, loss_5=0.417, loss_6=0.392, loss_7=0.459, loss_8=0.415]              \n",
      "[Epoch   3/25]: 100%|██████████| 34873/34873 [01:47<00:00, 323.23it/s, loss_1=0.348, loss_2=0.341, loss_3=0.319, loss_4=0.336, loss_5=0.33, loss_6=0.303, loss_7=0.354, loss_8=0.331]               \n",
      "[Epoch   4/25]: 100%|██████████| 34873/34873 [01:47<00:00, 324.07it/s, loss_1=0.316, loss_2=0.312, loss_3=0.29, loss_4=0.307, loss_5=0.302, loss_6=0.274, loss_7=0.322, loss_8=0.302]               \n",
      "[Epoch   5/25]: 100%|██████████| 34873/34873 [01:43<00:00, 337.59it/s, loss_1=0.287, loss_2=0.285, loss_3=0.261, loss_4=0.28, loss_5=0.277, loss_6=0.249, loss_7=0.292, loss_8=0.274]               \n",
      "[Epoch   6/25]: 100%|██████████| 34873/34873 [01:59<00:00, 290.68it/s, loss_1=0.263, loss_2=0.253, loss_3=0.24, loss_4=0.251, loss_5=0.249, loss_6=0.221, loss_7=0.263, loss_8=0.242]                       \n",
      "[Epoch   7/25]: 100%|██████████| 34873/34873 [01:42<00:00, 340.08it/s, loss_1=0.234, loss_2=0.22, loss_3=0.219, loss_4=0.22, loss_5=0.22, loss_6=0.19, loss_7=0.228, loss_8=0.209]                         \n",
      "[Epoch   8/25]: 100%|██████████| 34873/34873 [01:38<00:00, 354.50it/s, loss_1=0.212, loss_2=0.2, loss_3=0.198, loss_4=0.197, loss_5=0.201, loss_6=0.168, loss_7=0.205, loss_8=0.188]                      \n",
      "[Epoch   9/25]: 100%|██████████| 34873/34873 [01:35<00:00, 365.31it/s, loss_1=0.197, loss_2=0.186, loss_3=0.183, loss_4=0.184, loss_5=0.188, loss_6=0.155, loss_7=0.189, loss_8=0.174]                     \n",
      "[Epoch  10/25]: 100%|██████████| 34873/34873 [01:36<00:00, 363.16it/s, loss_1=0.189, loss_2=0.178, loss_3=0.173, loss_4=0.175, loss_5=0.181, loss_6=0.147, loss_7=0.181, loss_8=0.166]                      \n",
      "[Epoch  11/25]: 100%|██████████| 34873/34873 [01:34<00:00, 370.87it/s, loss_1=0.183, loss_2=0.173, loss_3=0.167, loss_4=0.169, loss_5=0.176, loss_6=0.142, loss_7=0.175, loss_8=0.16]                    \n",
      "[Epoch  12/25]: 100%|██████████| 34873/34873 [01:35<00:00, 366.59it/s, loss_1=0.178, loss_2=0.167, loss_3=0.159, loss_4=0.164, loss_5=0.172, loss_6=0.137, loss_7=0.169, loss_8=0.154]                     \n",
      "[Epoch  13/25]: 100%|██████████| 34873/34873 [01:38<00:00, 353.04it/s, loss_1=0.174, loss_2=0.163, loss_3=0.154, loss_4=0.16, loss_5=0.168, loss_6=0.134, loss_7=0.166, loss_8=0.151]                       \n",
      "[Epoch  14/25]: 100%|██████████| 34873/34873 [01:33<00:00, 371.02it/s, loss_1=0.173, loss_2=0.161, loss_3=0.151, loss_4=0.159, loss_5=0.167, loss_6=0.132, loss_7=0.164, loss_8=0.149]                     \n",
      "[Epoch  15/25]: 100%|██████████| 34873/34873 [01:37<00:00, 356.80it/s, loss_1=0.17, loss_2=0.159, loss_3=0.148, loss_4=0.156, loss_5=0.165, loss_6=0.13, loss_7=0.162, loss_8=0.147]                      \n",
      "[Epoch  16/25]: 100%|██████████| 34873/34873 [01:36<00:00, 361.35it/s, loss_1=0.168, loss_2=0.156, loss_3=0.143, loss_4=0.153, loss_5=0.163, loss_6=0.128, loss_7=0.159, loss_8=0.144]                     \n",
      "[Epoch  17/25]: 100%|██████████| 34873/34873 [01:37<00:00, 359.17it/s, loss_1=0.166, loss_2=0.154, loss_3=0.141, loss_4=0.152, loss_5=0.161, loss_6=0.127, loss_7=0.157, loss_8=0.142]                     \n",
      "[Epoch  18/25]: 100%|██████████| 34873/34873 [01:35<00:00, 364.76it/s, loss_1=0.163, loss_2=0.152, loss_3=0.137, loss_4=0.149, loss_5=0.159, loss_6=0.124, loss_7=0.155, loss_8=0.14]                      \n",
      "[Epoch  19/25]: 100%|██████████| 34873/34873 [01:36<00:00, 363.07it/s, loss_1=0.162, loss_2=0.15, loss_3=0.135, loss_4=0.148, loss_5=0.157, loss_6=0.124, loss_7=0.154, loss_8=0.139]                      \n",
      "[Epoch  20/25]: 100%|██████████| 34873/34873 [01:35<00:00, 366.58it/s, loss_1=0.16, loss_2=0.149, loss_3=0.133, loss_4=0.146, loss_5=0.155, loss_6=0.122, loss_7=0.152, loss_8=0.137]                       \n",
      "[Epoch  21/25]: 100%|██████████| 34873/34873 [01:34<00:00, 367.64it/s, loss_1=0.159, loss_2=0.148, loss_3=0.132, loss_4=0.146, loss_5=0.155, loss_6=0.122, loss_7=0.151, loss_8=0.137]                      \n",
      "[Epoch  22/25]: 100%|██████████| 34873/34873 [01:35<00:00, 366.52it/s, loss_1=0.157, loss_2=0.147, loss_3=0.13, loss_4=0.143, loss_5=0.152, loss_6=0.121, loss_7=0.149, loss_8=0.135]                     \n",
      "[Epoch  23/25]: 100%|██████████| 34873/34873 [01:34<00:00, 367.45it/s, loss_1=0.155, loss_2=0.145, loss_3=0.129, loss_4=0.142, loss_5=0.151, loss_6=0.12, loss_7=0.148, loss_8=0.134]                       \n",
      "[Epoch  24/25]: 100%|██████████| 34873/34873 [01:34<00:00, 367.19it/s, loss_1=0.154, loss_2=0.144, loss_3=0.126, loss_4=0.14, loss_5=0.149, loss_6=0.118, loss_7=0.147, loss_8=0.132]                       \n",
      "[Epoch  25/25]: 100%|██████████| 34873/34873 [01:34<00:00, 367.99it/s, loss_1=0.153, loss_2=0.143, loss_3=0.126, loss_4=0.139, loss_5=0.148, loss_6=0.118, loss_7=0.146, loss_8=0.132]                     \n"
     ]
    },
    {
     "name": "stdout",
     "output_type": "stream",
     "text": [
      "All model stopped training at the end of epoch and final checkpoint saved !\n"
     ]
    },
    {
     "data": {
      "text/plain": "<Figure size 640x480 with 1 Axes>",
      "image/png": "[encoded data removed]"
     },
     "metadata": {},
     "output_type": "display_data"
    },
    {
     "data": {
      "text/plain": "<Figure size 640x480 with 1 Axes>",
      "image/png": "[encoded data removed]"
     },
     "metadata": {},
     "output_type": "display_data"
    },
    {
     "data": {
      "text/plain": "<Figure size 640x480 with 1 Axes>",
      "image/png": "[encoded data removed]"
     },
     "metadata": {},
     "output_type": "display_data"
    },
    {
     "data": {
      "text/plain": "<Figure size 640x480 with 1 Axes>",
      "image/png": "[encoded data removed]"
     },
     "metadata": {},
     "output_type": "display_data"
    },
    {
     "data": {
      "text/plain": "<Figure size 640x480 with 1 Axes>",
      "image/png": "[encoded data removed]"
     },
     "metadata": {},
     "output_type": "display_data"
    },
    {
     "data": {
      "text/plain": "<Figure size 640x480 with 1 Axes>",
      "image/png": "[encoded data removed]"
     },
     "metadata": {},
     "output_type": "display_data"
    },
    {
     "data": {
      "text/plain": "<Figure size 640x480 with 1 Axes>",
      "image/png": "[encoded data removed]"
     },
     "metadata": {},
     "output_type": "display_data"
    },
    {
     "data": {
      "text/plain": "<Figure size 640x480 with 1 Axes>",
      "image/png": "[encoded data removed]"
     },
     "metadata": {},
     "output_type": "display_data"
    },
    {
     "name": "stdout",
     "output_type": "stream",
     "text": [
      "\n",
      "Total time of training: 0.6984623914294773 hours\n"
     ]
    }
   ],
   "source": [
    "start_time = time.time()\n",
    "\n",
    "hist_loss_1 = np.zeros(config_args.epochs)\n",
    "hist_loss_2 = np.zeros(config_args.epochs)\n",
    "hist_loss_3 = np.zeros(config_args.epochs)\n",
    "hist_loss_4 = np.zeros(config_args.epochs)\n",
    "hist_loss_5 = np.zeros(config_args.epochs)\n",
    "hist_loss_6 = np.zeros(config_args.epochs)\n",
    "hist_loss_7 = np.zeros(config_args.epochs)\n",
    "hist_loss_8 = np.zeros(config_args.epochs)\n",
    "\n",
    "for epoch in range(config_args.epochs):\n",
    "\n",
    "    # Switching all models in training mode\n",
    "    model_1.train()\n",
    "    model_2.train()\n",
    "    model_3.train()\n",
    "    model_4.train()\n",
    "    model_5.train()\n",
    "    model_6.train()\n",
    "    model_7.train()\n",
    "    model_8.train()\n",
    "\n",
    "    running_loss_1 = 0\n",
    "    running_loss_2 = 0\n",
    "    running_loss_3 = 0\n",
    "    running_loss_4 = 0\n",
    "    running_loss_5 = 0\n",
    "    running_loss_6 = 0\n",
    "    running_loss_7 = 0\n",
    "    running_loss_8 = 0\n",
    "\n",
    "    with tqdm(total=len(train_dataloader.dataset),\n",
    "              desc=f\"[Epoch {epoch+1:3d}/{config_args.epochs}]\") as pbar:\n",
    "\n",
    "        for batch, (categorical_var, continuous_var, target_var) in enumerate(train_dataloader):\n",
    "\n",
    "            # Setting the gradients to zero\n",
    "            optimizer_1.zero_grad()\n",
    "            optimizer_2.zero_grad()\n",
    "            optimizer_3.zero_grad()\n",
    "            optimizer_4.zero_grad()\n",
    "            optimizer_5.zero_grad()\n",
    "            optimizer_6.zero_grad()\n",
    "            optimizer_7.zero_grad()\n",
    "            optimizer_8.zero_grad()\n",
    "\n",
    "            # The categorical variables are common for all zones.\n",
    "            common_categorical = copy.deepcopy(categorical_var).to(device)\n",
    "\n",
    "            zone_1_continuous = copy.deepcopy(continuous_var[:, :, 0:3]).to(device)\n",
    "            zone_2_continuous = copy.deepcopy(continuous_var[:, :, 3:6]).to(device)\n",
    "            zone_3_continuous = copy.deepcopy(continuous_var[:, :, 6:9]).to(device)\n",
    "            zone_4_continuous = copy.deepcopy(continuous_var[:, :, 9:12]).to(device)\n",
    "            zone_5_continuous = copy.deepcopy(continuous_var[:, :, 12:15]).to(device)\n",
    "            zone_6_continuous = copy.deepcopy(continuous_var[:, :, 15:18]).to(device)\n",
    "            zone_7_continuous = copy.deepcopy(continuous_var[:, :, 18:21]).to(device)\n",
    "            zone_8_continuous = copy.deepcopy(continuous_var[:, :, 21:24]).to(device)\n",
    "\n",
    "            zone_1_target = copy.deepcopy(target_var[:, :, 0:1])\n",
    "            zone_2_target = copy.deepcopy(target_var[:, :, 1:2])\n",
    "            zone_3_target = copy.deepcopy(target_var[:, :, 2:3])\n",
    "            zone_4_target = copy.deepcopy(target_var[:, :, 3:4])\n",
    "            zone_5_target = copy.deepcopy(target_var[:, :, 4:5])\n",
    "            zone_6_target = copy.deepcopy(target_var[:, :, 5:6])\n",
    "            zone_7_target = copy.deepcopy(target_var[:, :, 6:7])\n",
    "            zone_8_target = copy.deepcopy(target_var[:, :, 7:8])\n",
    "\n",
    "            # Propagating through the network\n",
    "            out_vae_1, out_transformer_1 = model_1(common_categorical, zone_1_continuous)\n",
    "            out_vae_2, out_transformer_2 = model_2(common_categorical, zone_2_continuous)\n",
    "            out_vae_3, out_transformer_3 = model_3(common_categorical, zone_3_continuous)\n",
    "            out_vae_4, out_transformer_4 = model_4(common_categorical, zone_4_continuous)\n",
    "            out_vae_5, out_transformer_5 = model_5(common_categorical, zone_5_continuous)\n",
    "            out_vae_6, out_transformer_6 = model_6(common_categorical, zone_6_continuous)\n",
    "            out_vae_7, out_transformer_7 = model_7(common_categorical, zone_7_continuous)\n",
    "            out_vae_8, out_transformer_8 = model_8(common_categorical, zone_8_continuous)\n",
    "\n",
    "            # Calculating the pinball loss\n",
    "            loss_1 = pinball_loss_func(out_transformer_1, zone_1_target.to(device))\n",
    "            loss_2 = pinball_loss_func(out_transformer_2, zone_2_target.to(device))\n",
    "            loss_3 = pinball_loss_func(out_transformer_3, zone_3_target.to(device))\n",
    "            loss_4 = pinball_loss_func(out_transformer_4, zone_4_target.to(device))\n",
    "            loss_5 = pinball_loss_func(out_transformer_5, zone_5_target.to(device))\n",
    "            loss_6 = pinball_loss_func(out_transformer_6, zone_6_target.to(device))\n",
    "            loss_7 = pinball_loss_func(out_transformer_7, zone_7_target.to(device))\n",
    "            loss_8 = pinball_loss_func(out_transformer_8, zone_8_target.to(device))\n",
    "\n",
    "            # Back-Propagating the loss\n",
    "            loss_1.backward()\n",
    "            loss_2.backward()\n",
    "            loss_3.backward()\n",
    "            loss_4.backward()\n",
    "            loss_5.backward()\n",
    "            loss_6.backward()\n",
    "            loss_7.backward()\n",
    "            loss_8.backward()\n",
    "\n",
    "            # Updating the parameters\n",
    "            optimizer_1.step()\n",
    "            optimizer_2.step()\n",
    "            optimizer_3.step()\n",
    "            optimizer_4.step()\n",
    "            optimizer_5.step()\n",
    "            optimizer_6.step()\n",
    "            optimizer_7.step()\n",
    "            optimizer_8.step()\n",
    "\n",
    "            # Accumulating the running loss\n",
    "            running_loss_1 += loss_1.item()\n",
    "            running_loss_2 += loss_2.item()\n",
    "            running_loss_3 += loss_3.item()\n",
    "            running_loss_4 += loss_4.item()\n",
    "            running_loss_5 += loss_5.item()\n",
    "            running_loss_6 += loss_6.item()\n",
    "            running_loss_7 += loss_7.item()\n",
    "            running_loss_8 += loss_8.item()\n",
    "\n",
    "            pbar.set_postfix({\n",
    "                'loss_1': running_loss_1/(batch+1),\n",
    "                'loss_2': running_loss_2/(batch+1),\n",
    "                'loss_3': running_loss_3/(batch+1),\n",
    "                'loss_4': running_loss_4/(batch+1),\n",
    "                'loss_5': running_loss_5/(batch+1),\n",
    "                'loss_6': running_loss_6/(batch+1),\n",
    "                'loss_7': running_loss_7/(batch+1),\n",
    "                'loss_8': running_loss_8/(batch+1)\n",
    "                              })\n",
    "            pbar.update(zone_1_continuous.shape[0])\n",
    "\n",
    "            train_loss_1 = running_loss_1/len(train_dataloader)\n",
    "            train_loss_2 = running_loss_2/len(train_dataloader)\n",
    "            train_loss_3 = running_loss_3/len(train_dataloader)\n",
    "            train_loss_4 = running_loss_4/len(train_dataloader)\n",
    "            train_loss_5 = running_loss_5/len(train_dataloader)\n",
    "            train_loss_6 = running_loss_6/len(train_dataloader)\n",
    "            train_loss_7 = running_loss_7/len(train_dataloader)\n",
    "            train_loss_8 = running_loss_8/len(train_dataloader)\n",
    "\n",
    "            pbar.set_postfix({\n",
    "                'loss_1': train_loss_1,\n",
    "                'loss_2': train_loss_2,\n",
    "                'loss_3': train_loss_3,\n",
    "                'loss_4': train_loss_4,\n",
    "                'loss_5': train_loss_5,\n",
    "                'loss_6': train_loss_6,\n",
    "                'loss_7': train_loss_7,\n",
    "                'loss_8': train_loss_8,\n",
    "                              })\n",
    "\n",
    "            hist_loss_1[epoch] = train_loss_1\n",
    "            hist_loss_2[epoch] = train_loss_2\n",
    "            hist_loss_3[epoch] = train_loss_3\n",
    "            hist_loss_4[epoch] = train_loss_4\n",
    "            hist_loss_5[epoch] = train_loss_5\n",
    "            hist_loss_6[epoch] = train_loss_6\n",
    "            hist_loss_7[epoch] = train_loss_7\n",
    "            hist_loss_8[epoch] = train_loss_8\n",
    "\n",
    "\n",
    "print(\"All model stopped training at the end of epoch and final checkpoint saved !\")\n",
    "save_checkpoint(model_1, os.path.join(os.getcwd(), \"vae_transformer_checkpoint\",\n",
    "                                                      \"vae_transformer_best_1.pth\"))\n",
    "save_checkpoint(model_2, os.path.join(os.getcwd(), \"vae_transformer_checkpoint\",\n",
    "                                                      \"vae_transformer_best_2.pth\"))\n",
    "save_checkpoint(model_3, os.path.join(os.getcwd(), \"vae_transformer_checkpoint\",\n",
    "                                                      \"vae_transformer_best_3.pth\"))\n",
    "save_checkpoint(model_4, os.path.join(os.getcwd(), \"vae_transformer_checkpoint\",\n",
    "                                                      \"vae_transformer_best_4.pth\"))\n",
    "save_checkpoint(model_5, os.path.join(os.getcwd(), \"vae_transformer_checkpoint\",\n",
    "                                                      \"vae_transformer_best_5.pth\"))\n",
    "save_checkpoint(model_6, os.path.join(os.getcwd(), \"vae_transformer_checkpoint\",\n",
    "                                                      \"vae_transformer_best_6.pth\"))\n",
    "save_checkpoint(model_7, os.path.join(os.getcwd(), \"vae_transformer_checkpoint\",\n",
    "                                                      \"vae_transformer_best_7.pth\"))\n",
    "save_checkpoint(model_8, os.path.join(os.getcwd(), \"vae_transformer_checkpoint\",\n",
    "                                                      \"vae_transformer_best_8.pth\"))\n",
    "\n",
    "\n",
    "plt.plot(np.trim_zeros(hist_loss_1, 'b'), 'o-', label='train')\n",
    "plt.legend()\n",
    "plt.show()\n",
    "\n",
    "plt.plot(np.trim_zeros(hist_loss_2, 'b'), 'o-', label='train')\n",
    "plt.legend()\n",
    "plt.show()\n",
    "\n",
    "plt.plot(np.trim_zeros(hist_loss_3, 'b'), 'o-', label='train')\n",
    "plt.legend()\n",
    "plt.show()\n",
    "\n",
    "plt.plot(np.trim_zeros(hist_loss_4, 'b'), 'o-', label='train')\n",
    "plt.legend()\n",
    "plt.show()\n",
    "\n",
    "plt.plot(np.trim_zeros(hist_loss_5, 'b'), 'o-', label='train')\n",
    "plt.legend()\n",
    "plt.show()\n",
    "\n",
    "plt.plot(np.trim_zeros(hist_loss_6, 'b'), 'o-', label='train')\n",
    "plt.legend()\n",
    "plt.show()\n",
    "\n",
    "plt.plot(np.trim_zeros(hist_loss_7, 'b'), 'o-', label='train')\n",
    "plt.legend()\n",
    "plt.show()\n",
    "\n",
    "plt.plot(np.trim_zeros(hist_loss_8, 'b'), 'o-', label='train')\n",
    "plt.legend()\n",
    "plt.show()\n",
    "\n",
    "end_time = time.time()\n",
    "\n",
    "total_time = end_time - start_time\n",
    "print(\"\\nTotal time of training: {} hours\".format(total_time/3600))"
   ],
   "metadata": {
    "collapsed": false
   }
  },
  {
   "cell_type": "markdown",
   "source": [
    "### LOADING AND GENERATING RESULTS ON TEST DATALOADER"
   ],
   "metadata": {
    "collapsed": false
   }
  },
  {
   "cell_type": "code",
   "execution_count": 48,
   "outputs": [],
   "source": [
    "# Loading the models\n",
    "best_vae_transformer_1 = load_from_checkpoint(model_1, os.path.join(os.getcwd(),\n",
    "                                                                    \"vae_transformer_checkpoint\",\n",
    "                                                                    \"vae_transformer_best_1.pth\"))\n",
    "best_vae_transformer_2 = load_from_checkpoint(model_2, os.path.join(os.getcwd(),\n",
    "                                                                    \"vae_transformer_checkpoint\",\n",
    "                                                                    \"vae_transformer_best_2.pth\"))\n",
    "best_vae_transformer_3 = load_from_checkpoint(model_3, os.path.join(os.getcwd(),\n",
    "                                                                    \"vae_transformer_checkpoint\",\n",
    "                                                                    \"vae_transformer_best_3.pth\"))\n",
    "best_vae_transformer_4 = load_from_checkpoint(model_4, os.path.join(os.getcwd(),\n",
    "                                                                    \"vae_transformer_checkpoint\",\n",
    "                                                                    \"vae_transformer_best_4.pth\"))\n",
    "best_vae_transformer_5 = load_from_checkpoint(model_5, os.path.join(os.getcwd(),\n",
    "                                                                    \"vae_transformer_checkpoint\",\n",
    "                                                                    \"vae_transformer_best_5.pth\"))\n",
    "best_vae_transformer_6 = load_from_checkpoint(model_6, os.path.join(os.getcwd(),\n",
    "                                                                    \"vae_transformer_checkpoint\",\n",
    "                                                                    \"vae_transformer_best_6.pth\"))\n",
    "best_vae_transformer_7 = load_from_checkpoint(model_7, os.path.join(os.getcwd(),\n",
    "                                                                    \"vae_transformer_checkpoint\",\n",
    "                                                                    \"vae_transformer_best_7.pth\"))\n",
    "best_vae_transformer_8 = load_from_checkpoint(model_8, os.path.join(os.getcwd(),\n",
    "                                                                    \"vae_transformer_checkpoint\",\n",
    "                                                                    \"vae_transformer_best_8.pth\"))"
   ],
   "metadata": {
    "collapsed": false
   }
  },
  {
   "cell_type": "code",
   "execution_count": 49,
   "outputs": [
    {
     "name": "stderr",
     "output_type": "stream",
     "text": [
      "100%|██████████| 3/3 [00:00<00:00,  4.09it/s]\n"
     ]
    }
   ],
   "source": [
    "quantile_pred_1 = np.empty(shape=(len(test_dataloader.dataset), 24, model_args.d_output))\n",
    "quantile_pred_2 = np.empty(shape=(len(test_dataloader.dataset), 24, model_args.d_output))\n",
    "quantile_pred_3 = np.empty(shape=(len(test_dataloader.dataset), 24, model_args.d_output))\n",
    "quantile_pred_4 = np.empty(shape=(len(test_dataloader.dataset), 24, model_args.d_output))\n",
    "quantile_pred_5 = np.empty(shape=(len(test_dataloader.dataset), 24, model_args.d_output))\n",
    "quantile_pred_6 = np.empty(shape=(len(test_dataloader.dataset), 24, model_args.d_output))\n",
    "quantile_pred_7 = np.empty(shape=(len(test_dataloader.dataset), 24, model_args.d_output))\n",
    "quantile_pred_8 = np.empty(shape=(len(test_dataloader.dataset), 24, model_args.d_output))\n",
    "idx_pred_1 = 0\n",
    "idx_pred_2 = 0\n",
    "idx_pred_3 = 0\n",
    "idx_pred_4 = 0\n",
    "idx_pred_5 = 0\n",
    "idx_pred_6 = 0\n",
    "idx_pred_7 = 0\n",
    "idx_pred_8 = 0\n",
    "\n",
    "# Switching all models to eval mode\n",
    "model_1.eval()\n",
    "model_2.eval()\n",
    "model_3.eval()\n",
    "model_4.eval()\n",
    "model_5.eval()\n",
    "model_6.eval()\n",
    "model_7.eval()\n",
    "model_8.eval()\n",
    "\n",
    "with torch.no_grad():\n",
    "    for (categorical_var, continuous_var, target_var) in tqdm(test_dataloader, total=len(test_dataloader)):\n",
    "\n",
    "        # The categorical variables are common for all zones.\n",
    "        common_categorical = copy.deepcopy(categorical_var).to(device)\n",
    "\n",
    "        zone_1_continuous = copy.deepcopy(continuous_var[:, :, 0:3]).to(device)\n",
    "        zone_2_continuous = copy.deepcopy(continuous_var[:, :, 3:6]).to(device)\n",
    "        zone_3_continuous = copy.deepcopy(continuous_var[:, :, 6:9]).to(device)\n",
    "        zone_4_continuous = copy.deepcopy(continuous_var[:, :, 9:12]).to(device)\n",
    "        zone_5_continuous = copy.deepcopy(continuous_var[:, :, 12:15]).to(device)\n",
    "        zone_6_continuous = copy.deepcopy(continuous_var[:, :, 15:18]).to(device)\n",
    "        zone_7_continuous = copy.deepcopy(continuous_var[:, :, 18:21]).to(device)\n",
    "        zone_8_continuous = copy.deepcopy(continuous_var[:, :, 21:24]).to(device)\n",
    "\n",
    "        zone_1_target = copy.deepcopy(target_var[:, :, 0:1])\n",
    "        zone_2_target = copy.deepcopy(target_var[:, :, 1:2])\n",
    "        zone_3_target = copy.deepcopy(target_var[:, :, 2:3])\n",
    "        zone_4_target = copy.deepcopy(target_var[:, :, 3:4])\n",
    "        zone_5_target = copy.deepcopy(target_var[:, :, 4:5])\n",
    "        zone_6_target = copy.deepcopy(target_var[:, :, 5:6])\n",
    "        zone_7_target = copy.deepcopy(target_var[:, :, 6:7])\n",
    "        zone_8_target = copy.deepcopy(target_var[:, :, 7:8])\n",
    "\n",
    "        # Propagating through the network\n",
    "        out_vae_1, out_transformer_1 = model_1(common_categorical, zone_1_continuous)\n",
    "        out_vae_2, out_transformer_2 = model_2(common_categorical, zone_2_continuous)\n",
    "        out_vae_3, out_transformer_3 = model_3(common_categorical, zone_3_continuous)\n",
    "        out_vae_4, out_transformer_4 = model_4(common_categorical, zone_4_continuous)\n",
    "        out_vae_5, out_transformer_5 = model_5(common_categorical, zone_5_continuous)\n",
    "        out_vae_6, out_transformer_6 = model_6(common_categorical, zone_6_continuous)\n",
    "        out_vae_7, out_transformer_7 = model_7(common_categorical, zone_7_continuous)\n",
    "        out_vae_8, out_transformer_8 = model_8(common_categorical, zone_8_continuous)\n",
    "\n",
    "        # Concatenating the predictions\n",
    "        quantile_pred_1[idx_pred_1:idx_pred_1+zone_1_continuous.shape[0]] = out_transformer_1.cpu().numpy()\n",
    "\n",
    "        quantile_pred_2[idx_pred_2:idx_pred_2+zone_2_continuous.shape[0]] = out_transformer_2.cpu().numpy()\n",
    "\n",
    "        quantile_pred_3[idx_pred_3:idx_pred_3+zone_3_continuous.shape[0]] = out_transformer_3.cpu().numpy()\n",
    "\n",
    "        quantile_pred_4[idx_pred_4:idx_pred_4+zone_4_continuous.shape[0]] = out_transformer_4.cpu().numpy()\n",
    "\n",
    "        quantile_pred_5[idx_pred_5:idx_pred_5+zone_5_continuous.shape[0]] = out_transformer_5.cpu().numpy()\n",
    "\n",
    "        quantile_pred_6[idx_pred_6:idx_pred_6+zone_6_continuous.shape[0]] = out_transformer_6.cpu().numpy()\n",
    "\n",
    "        quantile_pred_7[idx_pred_7:idx_pred_7+zone_7_continuous.shape[0]] = out_transformer_7.cpu().numpy()\n",
    "\n",
    "        quantile_pred_8[idx_pred_8:idx_pred_8+zone_8_continuous.shape[0]] = out_transformer_8.cpu().numpy()\n",
    "\n",
    "        idx_pred_1 += zone_1_continuous.shape[0]\n",
    "        idx_pred_2 += zone_2_continuous.shape[0]\n",
    "        idx_pred_3 += zone_3_continuous.shape[0]\n",
    "        idx_pred_4 += zone_4_continuous.shape[0]\n",
    "        idx_pred_5 += zone_5_continuous.shape[0]\n",
    "        idx_pred_6 += zone_6_continuous.shape[0]\n",
    "        idx_pred_7 += zone_7_continuous.shape[0]\n",
    "        idx_pred_8 += zone_8_continuous.shape[0]"
   ],
   "metadata": {
    "collapsed": false
   }
  },
  {
   "cell_type": "markdown",
   "source": [
    "#### FORMATTING PREDICTED AND TRUE DATA FOR GENERATING RESULTS"
   ],
   "metadata": {
    "collapsed": false
   }
  },
  {
   "cell_type": "code",
   "execution_count": 50,
   "outputs": [
    {
     "data": {
      "text/plain": "(8736, 9)"
     },
     "execution_count": 50,
     "metadata": {},
     "output_type": "execute_result"
    }
   ],
   "source": [
    "# Reshaping the predicted quantiles\n",
    "quantile_pred_arr_1 = quantile_pred_1.reshape(-1, model_args.d_output)\n",
    "quantile_pred_arr_2 = quantile_pred_2.reshape(-1, model_args.d_output)\n",
    "quantile_pred_arr_3 = quantile_pred_3.reshape(-1, model_args.d_output)\n",
    "quantile_pred_arr_4 = quantile_pred_4.reshape(-1, model_args.d_output)\n",
    "quantile_pred_arr_5 = quantile_pred_5.reshape(-1, model_args.d_output)\n",
    "quantile_pred_arr_6 = quantile_pred_6.reshape(-1, model_args.d_output)\n",
    "quantile_pred_arr_7 = quantile_pred_7.reshape(-1, model_args.d_output)\n",
    "quantile_pred_arr_8 = quantile_pred_8.reshape(-1, model_args.d_output)\n",
    "\n",
    "quantile_pred_arr_1.shape"
   ],
   "metadata": {
    "collapsed": false
   }
  },
  {
   "cell_type": "code",
   "execution_count": 51,
   "outputs": [
    {
     "data": {
      "text/plain": "(8736, 9)"
     },
     "execution_count": 51,
     "metadata": {},
     "output_type": "execute_result"
    }
   ],
   "source": [
    "quantile_pred_1_inv = quantile_pred_arr_1 * (mm_scaler_Y.data_max_[0] - mm_scaler_Y.data_min_[0]) + mm_scaler_Y.data_min_[0]\n",
    "quantile_pred_2_inv = quantile_pred_arr_2 * (mm_scaler_Y.data_max_[1] - mm_scaler_Y.data_min_[1]) + mm_scaler_Y.data_min_[1]\n",
    "quantile_pred_3_inv = quantile_pred_arr_3 * (mm_scaler_Y.data_max_[2] - mm_scaler_Y.data_min_[2]) + mm_scaler_Y.data_min_[2]\n",
    "quantile_pred_4_inv = quantile_pred_arr_4 * (mm_scaler_Y.data_max_[3] - mm_scaler_Y.data_min_[3]) + mm_scaler_Y.data_min_[3]\n",
    "quantile_pred_5_inv = quantile_pred_arr_5 * (mm_scaler_Y.data_max_[4] - mm_scaler_Y.data_min_[4]) + mm_scaler_Y.data_min_[4]\n",
    "quantile_pred_6_inv = quantile_pred_arr_6 * (mm_scaler_Y.data_max_[5] - mm_scaler_Y.data_min_[5]) + mm_scaler_Y.data_min_[5]\n",
    "quantile_pred_7_inv = quantile_pred_arr_7 * (mm_scaler_Y.data_max_[6] - mm_scaler_Y.data_min_[6]) + mm_scaler_Y.data_min_[6]\n",
    "quantile_pred_8_inv = quantile_pred_arr_8 * (mm_scaler_Y.data_max_[7] - mm_scaler_Y.data_min_[7]) + mm_scaler_Y.data_min_[7]\n",
    "\n",
    "quantile_pred_arr_1.shape"
   ],
   "metadata": {
    "collapsed": false
   }
  },
  {
   "cell_type": "code",
   "execution_count": 52,
   "outputs": [
    {
     "data": {
      "text/plain": "(8736, 1)"
     },
     "execution_count": 52,
     "metadata": {},
     "output_type": "execute_result"
    }
   ],
   "source": [
    "# Reshaping the true data\n",
    "Y_test_1 = target_samples_testing[:, :, 0:1]\n",
    "Y_test_2 = target_samples_testing[:, :, 1:2]\n",
    "Y_test_3 = target_samples_testing[:, :, 2:3]\n",
    "Y_test_4 = target_samples_testing[:, :, 3:4]\n",
    "Y_test_5 = target_samples_testing[:, :, 4:5]\n",
    "Y_test_6 = target_samples_testing[:, :, 5:6]\n",
    "Y_test_7 = target_samples_testing[:, :, 6:7]\n",
    "Y_test_8 = target_samples_testing[:, :, 7:8]\n",
    "\n",
    "yArr_1 = Y_test_1.reshape(Y_test_1.shape[0] * Y_test_1.shape[1], Y_test_1.shape[2]).numpy()\n",
    "yArr_2 = Y_test_2.reshape(Y_test_2.shape[0] * Y_test_2.shape[1], Y_test_2.shape[2]).numpy()\n",
    "yArr_3 = Y_test_3.reshape(Y_test_3.shape[0] * Y_test_3.shape[1], Y_test_3.shape[2]).numpy()\n",
    "yArr_4 = Y_test_4.reshape(Y_test_4.shape[0] * Y_test_4.shape[1], Y_test_4.shape[2]).numpy()\n",
    "yArr_5 = Y_test_5.reshape(Y_test_5.shape[0] * Y_test_5.shape[1], Y_test_5.shape[2]).numpy()\n",
    "yArr_6 = Y_test_6.reshape(Y_test_6.shape[0] * Y_test_6.shape[1], Y_test_6.shape[2]).numpy()\n",
    "yArr_7 = Y_test_7.reshape(Y_test_7.shape[0] * Y_test_7.shape[1], Y_test_7.shape[2]).numpy()\n",
    "yArr_8 = Y_test_8.reshape(Y_test_8.shape[0] * Y_test_8.shape[1], Y_test_8.shape[2]).numpy()\n",
    "\n",
    "yArr_1.shape"
   ],
   "metadata": {
    "collapsed": false
   }
  },
  {
   "cell_type": "code",
   "execution_count": 53,
   "outputs": [],
   "source": [
    "yArr_1_inv = yArr_1 * (mm_scaler_Y.data_max_[0] - mm_scaler_Y.data_min_[0]) + mm_scaler_Y.data_min_[0]\n",
    "yArr_2_inv = yArr_2 * (mm_scaler_Y.data_max_[1] - mm_scaler_Y.data_min_[1]) + mm_scaler_Y.data_min_[1]\n",
    "yArr_3_inv = yArr_3 * (mm_scaler_Y.data_max_[2] - mm_scaler_Y.data_min_[2]) + mm_scaler_Y.data_min_[2]\n",
    "yArr_4_inv = yArr_4 * (mm_scaler_Y.data_max_[3] - mm_scaler_Y.data_min_[3]) + mm_scaler_Y.data_min_[3]\n",
    "yArr_5_inv = yArr_5 * (mm_scaler_Y.data_max_[4] - mm_scaler_Y.data_min_[4]) + mm_scaler_Y.data_min_[4]\n",
    "yArr_6_inv = yArr_6 * (mm_scaler_Y.data_max_[5] - mm_scaler_Y.data_min_[5]) + mm_scaler_Y.data_min_[5]\n",
    "yArr_7_inv = yArr_7 * (mm_scaler_Y.data_max_[6] - mm_scaler_Y.data_min_[6]) + mm_scaler_Y.data_min_[6]\n",
    "yArr_8_inv = yArr_8 * (mm_scaler_Y.data_max_[7] - mm_scaler_Y.data_min_[7]) + mm_scaler_Y.data_min_[7]"
   ],
   "metadata": {
    "collapsed": false
   }
  },
  {
   "cell_type": "markdown",
   "source": [
    "#### CALCULATING THE PINBALL LOSS SCORE"
   ],
   "metadata": {
    "collapsed": false
   }
  },
  {
   "cell_type": "code",
   "execution_count": 54,
   "outputs": [],
   "source": [
    "def pinball_score_zone(quantile_pred_arr, true_data_arr):\n",
    "    pinball_trans = np.array([np.mean([pinball(quantile_pred_arr[t, i], tau, true_data_arr[t]) for t in range(len(true_data_arr))]) for i, tau in enumerate(quantile_list)])\n",
    "    return pinball_trans.mean()"
   ],
   "metadata": {
    "collapsed": false
   }
  },
  {
   "cell_type": "code",
   "execution_count": 55,
   "outputs": [
    {
     "name": "stdout",
     "output_type": "stream",
     "text": [
      "Zone 1 - Mean Pinball Loss:  312.31836\n"
     ]
    }
   ],
   "source": [
    "pinball_loss_mean_1 = pinball_score_zone(quantile_pred_1_inv, yArr_1_inv)\n",
    "print(\"Zone 1 - Mean Pinball Loss: \", pinball_loss_mean_1)"
   ],
   "metadata": {
    "collapsed": false
   }
  },
  {
   "cell_type": "code",
   "execution_count": 56,
   "outputs": [
    {
     "name": "stdout",
     "output_type": "stream",
     "text": [
      "Zone 2 - Mean Pinball Loss:  44.832756\n"
     ]
    }
   ],
   "source": [
    "pinball_loss_mean_2 = pinball_score_zone(quantile_pred_2_inv, yArr_2_inv)\n",
    "print(\"Zone 2 - Mean Pinball Loss: \", pinball_loss_mean_2)"
   ],
   "metadata": {
    "collapsed": false
   }
  },
  {
   "cell_type": "code",
   "execution_count": 57,
   "outputs": [
    {
     "name": "stdout",
     "output_type": "stream",
     "text": [
      "Zone 3 - Mean Pinball Loss:  121.83819\n"
     ]
    }
   ],
   "source": [
    "pinball_loss_mean_3 = pinball_score_zone(quantile_pred_3_inv, yArr_3_inv)\n",
    "print(\"Zone 3 - Mean Pinball Loss: \", pinball_loss_mean_3)"
   ],
   "metadata": {
    "collapsed": false
   }
  },
  {
   "cell_type": "code",
   "execution_count": 58,
   "outputs": [
    {
     "name": "stdout",
     "output_type": "stream",
     "text": [
      "Zone 4 - Mean Pinball Loss:  454.68134\n"
     ]
    }
   ],
   "source": [
    "pinball_loss_mean_4 = pinball_score_zone(quantile_pred_4_inv, yArr_4_inv)\n",
    "print(\"Zone 4 - Mean Pinball Loss: \", pinball_loss_mean_4)"
   ],
   "metadata": {
    "collapsed": false
   }
  },
  {
   "cell_type": "code",
   "execution_count": 59,
   "outputs": [
    {
     "name": "stdout",
     "output_type": "stream",
     "text": [
      "Zone 5 - Mean Pinball Loss:  24.87942\n"
     ]
    }
   ],
   "source": [
    "pinball_loss_mean_5 = pinball_score_zone(quantile_pred_5_inv, yArr_5_inv)\n",
    "print(\"Zone 5 - Mean Pinball Loss: \", pinball_loss_mean_5)"
   ],
   "metadata": {
    "collapsed": false
   }
  },
  {
   "cell_type": "code",
   "execution_count": 60,
   "outputs": [
    {
     "name": "stdout",
     "output_type": "stream",
     "text": [
      "Zone 6 - Mean Pinball Loss:  189.15712\n"
     ]
    }
   ],
   "source": [
    "pinball_loss_mean_6 = pinball_score_zone(quantile_pred_6_inv, yArr_6_inv)\n",
    "print(\"Zone 6 - Mean Pinball Loss: \", pinball_loss_mean_6)"
   ],
   "metadata": {
    "collapsed": false
   }
  },
  {
   "cell_type": "code",
   "execution_count": 61,
   "outputs": [
    {
     "name": "stdout",
     "output_type": "stream",
     "text": [
      "Zone 7 - Mean Pinball Loss:  89.553085\n"
     ]
    }
   ],
   "source": [
    "pinball_loss_mean_7 = pinball_score_zone(quantile_pred_7_inv, yArr_7_inv)\n",
    "print(\"Zone 7 - Mean Pinball Loss: \", pinball_loss_mean_7)"
   ],
   "metadata": {
    "collapsed": false
   }
  },
  {
   "cell_type": "code",
   "execution_count": 62,
   "outputs": [
    {
     "name": "stdout",
     "output_type": "stream",
     "text": [
      "Zone 8 - Mean Pinball Loss:  34.643517\n"
     ]
    }
   ],
   "source": [
    "pinball_loss_mean_8 = pinball_score_zone(quantile_pred_8_inv, yArr_8_inv)\n",
    "print(\"Zone 8 - Mean Pinball Loss: \", pinball_loss_mean_8)"
   ],
   "metadata": {
    "collapsed": false
   }
  },
  {
   "cell_type": "code",
   "execution_count": 63,
   "outputs": [
    {
     "name": "stdout",
     "output_type": "stream",
     "text": [
      "Saving the best trained models.\n",
      "Saved !\n"
     ]
    }
   ],
   "source": [
    "print(\"Saving the best trained models.\")\n",
    "\n",
    "# Saving the models\n",
    "torch.save(best_vae_transformer_1, f\"vae_transformer_models/L2_vae_transformer_1.pth\")\n",
    "torch.save(best_vae_transformer_2, f\"vae_transformer_models/L2_vae_transformer_2.pth\")\n",
    "torch.save(best_vae_transformer_3, f\"vae_transformer_models/L2_vae_transformer_3.pth\")\n",
    "torch.save(best_vae_transformer_4, f\"vae_transformer_models/L2_vae_transformer_4.pth\")\n",
    "torch.save(best_vae_transformer_5, f\"vae_transformer_models/L2_vae_transformer_5.pth\")\n",
    "torch.save(best_vae_transformer_6, f\"vae_transformer_models/L2_vae_transformer_6.pth\")\n",
    "torch.save(best_vae_transformer_7, f\"vae_transformer_models/L2_vae_transformer_7.pth\")\n",
    "torch.save(best_vae_transformer_8, f\"vae_transformer_models/L2_vae_transformer_8.pth\")\n",
    "\n",
    "print(\"Saved !\")"
   ],
   "metadata": {
    "collapsed": false
   }
  },
  {
   "cell_type": "code",
   "execution_count": 64,
   "outputs": [
    {
     "name": "stdout",
     "output_type": "stream",
     "text": [
      "Results saved !\n"
     ]
    }
   ],
   "source": [
    "resultsDf = pd.DataFrame()\n",
    "resultsDf[\"zone\"] = [i.removesuffix('.csv') for i in fileList]\n",
    "resultsDf[\"pinball_loss\"] = [\n",
    "    pinball_loss_mean_1, pinball_loss_mean_2, pinball_loss_mean_3,\n",
    "    pinball_loss_mean_4, pinball_loss_mean_5, pinball_loss_mean_6,\n",
    "    pinball_loss_mean_7, pinball_loss_mean_8\n",
    "]\n",
    "\n",
    "resultsDf.to_csv(os.path.join(\"results\", dataset + \".csv\"), index=False)\n",
    "print(\"Results saved !\")"
   ],
   "metadata": {
    "collapsed": false
   }
  },
  {
   "cell_type": "code",
   "execution_count": 65,
   "outputs": [
    {
     "data": {
      "text/plain": "{'status': 'ok', 'restart': True}"
     },
     "execution_count": 65,
     "metadata": {},
     "output_type": "execute_result"
    }
   ],
   "source": [
    "import IPython\n",
    "app = IPython.Application.instance()\n",
    "app.kernel.do_shutdown(True)"
   ],
   "metadata": {
    "collapsed": false
   }
  }
 ],
 "metadata": {
  "kernelspec": {
   "display_name": "Python 3",
   "language": "python",
   "name": "python3"
  },
  "language_info": {
   "codemirror_mode": {
    "name": "ipython",
    "version": 2
   },
   "file_extension": ".py",
   "mimetype": "text/x-python",
   "name": "python",
   "nbconvert_exporter": "python",
   "pygments_lexer": "ipython2",
   "version": "2.7.6"
  }
 },
 "nbformat": 4,
 "nbformat_minor": 0
}
