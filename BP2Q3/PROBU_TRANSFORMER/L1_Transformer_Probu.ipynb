{
 "cells": [
  {
   "cell_type": "code",
   "execution_count": 1,
   "outputs": [
    {
     "name": "stdout",
     "output_type": "stream",
     "text": [
      "Using device cuda:0\n"
     ]
    }
   ],
   "source": [
    "# Importing the required libraries\n",
    "from IPython.display import display\n",
    "import os\n",
    "import numpy as np\n",
    "import pandas as pd\n",
    "from matplotlib import pyplot as plt\n",
    "from tqdm import tqdm\n",
    "from sklearn.preprocessing import MinMaxScaler, OneHotEncoder\n",
    "import time\n",
    "import easydict\n",
    "import copy\n",
    "\n",
    "import torch\n",
    "import torch.nn as nn\n",
    "from torch.utils.tensorboard import SummaryWriter\n",
    "from torch.utils.data import DataLoader, Dataset\n",
    "import torch.optim as optim\n",
    "from tqdm import tqdm\n",
    "\n",
    "from time_transformer.transformer import Transformer\n",
    "\n",
    "# Training device check-up\n",
    "device = torch.device(\"cuda:0\" if torch.cuda.is_available() else \"cpu\")\n",
    "print(f\"Using device {device}\")\n",
    "\n",
    "writer = SummaryWriter()\n",
    "\n",
    "# Defining DOE custom mape formula\n",
    "def mape(y_true, y_pred):\n",
    "    y_true, y_pred = np.array(y_true), np.array(y_pred)\n",
    "    return np.mean(np.abs((y_true - y_pred) / max(y_true))) * 100"
   ],
   "metadata": {
    "collapsed": false
   }
  },
  {
   "cell_type": "markdown",
   "source": [
    "#### FETCHING AND PROCESSING CALENDER FEATURES"
   ],
   "metadata": {
    "collapsed": false
   }
  },
  {
   "cell_type": "code",
   "execution_count": 2,
   "outputs": [
    {
     "name": "stdout",
     "output_type": "stream",
     "text": [
      "['MIDATL.csv', 'SOUTH.csv', 'WEST.csv']\n"
     ]
    }
   ],
   "source": [
    "# Specifying the path of file\n",
    "path= r\"C:\\Users\\sashah8\\DOE_Graph_Attention_Transformer\\DOE MODEL TRAINING\\Data Processing\\processed_data\"\n",
    "dataset = \"L1\"\n",
    "\n",
    "# Listing just the required files\n",
    "fileList = os.listdir(os.path.join(path, dataset))\n",
    "\n",
    "# Previewing the required file names\n",
    "print(fileList)"
   ],
   "metadata": {
    "collapsed": false
   }
  },
  {
   "cell_type": "code",
   "execution_count": 3,
   "outputs": [
    {
     "data": {
      "text/plain": "                   ept         mw  tmp\n0  2015-01-01 00:00:00  31660.636 -7.6\n1  2015-01-01 01:00:00  30766.066 -8.4",
      "text/html": "<div>\n<style scoped>\n    .dataframe tbody tr th:only-of-type {\n        vertical-align: middle;\n    }\n\n    .dataframe tbody tr th {\n        vertical-align: top;\n    }\n\n    .dataframe thead th {\n        text-align: right;\n    }\n</style>\n<table border=\"1\" class=\"dataframe\">\n  <thead>\n    <tr style=\"text-align: right;\">\n      <th></th>\n      <th>ept</th>\n      <th>mw</th>\n      <th>tmp</th>\n    </tr>\n  </thead>\n  <tbody>\n    <tr>\n      <th>0</th>\n      <td>2015-01-01 00:00:00</td>\n      <td>31660.636</td>\n      <td>-7.6</td>\n    </tr>\n    <tr>\n      <th>1</th>\n      <td>2015-01-01 01:00:00</td>\n      <td>30766.066</td>\n      <td>-8.4</td>\n    </tr>\n  </tbody>\n</table>\n</div>"
     },
     "metadata": {},
     "output_type": "display_data"
    }
   ],
   "source": [
    "# Just for previewing the column name\n",
    "display(pd.read_csv(os.path.join(path, dataset, fileList[0])).head(2))"
   ],
   "metadata": {
    "collapsed": false
   }
  },
  {
   "cell_type": "code",
   "execution_count": 4,
   "outputs": [
    {
     "name": "stdout",
     "output_type": "stream",
     "text": [
      "Sample dataframe: \n"
     ]
    },
    {
     "data": {
      "text/plain": "                  ept         mw  tmp\n0 2015-01-01 00:00:00  31660.636 -7.6\n1 2015-01-01 01:00:00  30766.066 -8.4",
      "text/html": "<div>\n<style scoped>\n    .dataframe tbody tr th:only-of-type {\n        vertical-align: middle;\n    }\n\n    .dataframe tbody tr th {\n        vertical-align: top;\n    }\n\n    .dataframe thead th {\n        text-align: right;\n    }\n</style>\n<table border=\"1\" class=\"dataframe\">\n  <thead>\n    <tr style=\"text-align: right;\">\n      <th></th>\n      <th>ept</th>\n      <th>mw</th>\n      <th>tmp</th>\n    </tr>\n  </thead>\n  <tbody>\n    <tr>\n      <th>0</th>\n      <td>2015-01-01 00:00:00</td>\n      <td>31660.636</td>\n      <td>-7.6</td>\n    </tr>\n    <tr>\n      <th>1</th>\n      <td>2015-01-01 01:00:00</td>\n      <td>30766.066</td>\n      <td>-8.4</td>\n    </tr>\n  </tbody>\n</table>\n</div>"
     },
     "metadata": {},
     "output_type": "display_data"
    }
   ],
   "source": [
    "# Just for previewing the column name\n",
    "data = pd.read_csv(os.path.join(path, dataset, fileList[0]), parse_dates=['ept'])\n",
    "print(\"Sample dataframe: \")\n",
    "display(data.head(2))"
   ],
   "metadata": {
    "collapsed": false
   }
  },
  {
   "cell_type": "code",
   "execution_count": 5,
   "outputs": [
    {
     "data": {
      "text/plain": "0   2015-01-01 00:00:00\n1   2015-01-01 01:00:00\nName: AA_ept, dtype: datetime64[ns]"
     },
     "execution_count": 5,
     "metadata": {},
     "output_type": "execute_result"
    }
   ],
   "source": [
    "# Fetching the date column only\n",
    "date_col = data.ept.copy()\n",
    "date_col.name = \"AA_ept\"\n",
    "date_col.head(2)"
   ],
   "metadata": {
    "collapsed": false
   }
  },
  {
   "cell_type": "code",
   "execution_count": 6,
   "outputs": [
    {
     "name": "stdout",
     "output_type": "stream",
     "text": [
      "Sample calendar features: \n"
     ]
    },
    {
     "data": {
      "text/plain": "   Month  Day  Hour  Weekday\n0      1    1     0        3\n1      1    1     1        3",
      "text/html": "<div>\n<style scoped>\n    .dataframe tbody tr th:only-of-type {\n        vertical-align: middle;\n    }\n\n    .dataframe tbody tr th {\n        vertical-align: top;\n    }\n\n    .dataframe thead th {\n        text-align: right;\n    }\n</style>\n<table border=\"1\" class=\"dataframe\">\n  <thead>\n    <tr style=\"text-align: right;\">\n      <th></th>\n      <th>Month</th>\n      <th>Day</th>\n      <th>Hour</th>\n      <th>Weekday</th>\n    </tr>\n  </thead>\n  <tbody>\n    <tr>\n      <th>0</th>\n      <td>1</td>\n      <td>1</td>\n      <td>0</td>\n      <td>3</td>\n    </tr>\n    <tr>\n      <th>1</th>\n      <td>1</td>\n      <td>1</td>\n      <td>1</td>\n      <td>3</td>\n    </tr>\n  </tbody>\n</table>\n</div>"
     },
     "metadata": {},
     "output_type": "display_data"
    },
    {
     "name": "stdout",
     "output_type": "stream",
     "text": [
      "Available unique categories: \n"
     ]
    },
    {
     "data": {
      "text/plain": "Month      12\nDay        31\nHour       24\nWeekday     7\ndtype: int64"
     },
     "metadata": {},
     "output_type": "display_data"
    },
    {
     "name": "stdout",
     "output_type": "stream",
     "text": [
      "Total number of observations:  43824\n"
     ]
    }
   ],
   "source": [
    "# Creating the calendar features\n",
    "date = pd.DataFrame()\n",
    "date['Month'] = date_col.dt.month\n",
    "date['Day'] = date_col.dt.day\n",
    "date['Hour'] = date_col.dt.hour\n",
    "date['Weekday'] = date_col.dt.weekday\n",
    "\n",
    "print(\"Sample calendar features: \")\n",
    "display(date.head(2))\n",
    "\n",
    "print(\"Available unique categories: \")\n",
    "display(date.nunique())\n",
    "\n",
    "print(\"Total number of observations: \", len(date))"
   ],
   "metadata": {
    "collapsed": false
   }
  },
  {
   "cell_type": "code",
   "execution_count": 7,
   "outputs": [
    {
     "data": {
      "text/plain": "array([[1., 0., 0., ..., 0., 0., 0.],\n       [1., 0., 0., ..., 0., 0., 0.],\n       [1., 0., 0., ..., 0., 0., 0.],\n       ...,\n       [0., 0., 0., ..., 0., 0., 0.],\n       [0., 0., 0., ..., 0., 0., 0.],\n       [0., 0., 0., ..., 0., 0., 0.]])"
     },
     "metadata": {},
     "output_type": "display_data"
    }
   ],
   "source": [
    "# One-hot encoding the categorical calendar features\n",
    "date_enc = OneHotEncoder(sparse_output=False)\n",
    "categorical_data = date_enc.fit_transform(date)\n",
    "display(categorical_data)"
   ],
   "metadata": {
    "collapsed": false
   }
  },
  {
   "cell_type": "code",
   "execution_count": 8,
   "outputs": [
    {
     "data": {
      "text/plain": "[12, 31, 24, 7]"
     },
     "execution_count": 8,
     "metadata": {},
     "output_type": "execute_result"
    }
   ],
   "source": [
    "category_count = [len(x_len) for x_len in date_enc.categories_]\n",
    "category_count"
   ],
   "metadata": {
    "collapsed": false
   }
  },
  {
   "cell_type": "markdown",
   "source": [
    "#### PROCESSING CONTINUOUS FEATURES FOR ALL AVAILABLE ZONES"
   ],
   "metadata": {
    "collapsed": false
   }
  },
  {
   "cell_type": "markdown",
   "source": [
    "PROCESSING LOAD DATA"
   ],
   "metadata": {
    "collapsed": false
   }
  },
  {
   "cell_type": "code",
   "execution_count": 9,
   "outputs": [
    {
     "data": {
      "text/plain": "       MIDATL_LOAD  SOUTH_LOAD  WEST_LOAD\n43822    28458.691   10838.550  45132.982\n43823    27428.213   10592.674  43501.529",
      "text/html": "<div>\n<style scoped>\n    .dataframe tbody tr th:only-of-type {\n        vertical-align: middle;\n    }\n\n    .dataframe tbody tr th {\n        vertical-align: top;\n    }\n\n    .dataframe thead th {\n        text-align: right;\n    }\n</style>\n<table border=\"1\" class=\"dataframe\">\n  <thead>\n    <tr style=\"text-align: right;\">\n      <th></th>\n      <th>MIDATL_LOAD</th>\n      <th>SOUTH_LOAD</th>\n      <th>WEST_LOAD</th>\n    </tr>\n  </thead>\n  <tbody>\n    <tr>\n      <th>43822</th>\n      <td>28458.691</td>\n      <td>10838.550</td>\n      <td>45132.982</td>\n    </tr>\n    <tr>\n      <th>43823</th>\n      <td>27428.213</td>\n      <td>10592.674</td>\n      <td>43501.529</td>\n    </tr>\n  </tbody>\n</table>\n</div>"
     },
     "metadata": {},
     "output_type": "display_data"
    }
   ],
   "source": [
    "# Fetching and concatenating the data\n",
    "load_ds = pd.concat([pd.read_csv(os.path.join(path, dataset, fileName),\n",
    "                                 usecols= [\"mw\"]) for fileName in fileList], axis= 1)\n",
    "load_ds.columns = [i.removesuffix('.csv') for i in fileList]\n",
    "load_ds = load_ds.add_suffix(\"_LOAD\")\n",
    "display(load_ds.tail(2))"
   ],
   "metadata": {
    "collapsed": false
   }
  },
  {
   "cell_type": "code",
   "execution_count": 10,
   "outputs": [
    {
     "data": {
      "text/plain": "       MIDATL_LOAD_LAG1  SOUTH_LOAD_LAG1  WEST_LOAD_LAG1\n43822         28090.471         9718.976       39600.208\n43823         26375.029         9147.291       37687.068",
      "text/html": "<div>\n<style scoped>\n    .dataframe tbody tr th:only-of-type {\n        vertical-align: middle;\n    }\n\n    .dataframe tbody tr th {\n        vertical-align: top;\n    }\n\n    .dataframe thead th {\n        text-align: right;\n    }\n</style>\n<table border=\"1\" class=\"dataframe\">\n  <thead>\n    <tr style=\"text-align: right;\">\n      <th></th>\n      <th>MIDATL_LOAD_LAG1</th>\n      <th>SOUTH_LOAD_LAG1</th>\n      <th>WEST_LOAD_LAG1</th>\n    </tr>\n  </thead>\n  <tbody>\n    <tr>\n      <th>43822</th>\n      <td>28090.471</td>\n      <td>9718.976</td>\n      <td>39600.208</td>\n    </tr>\n    <tr>\n      <th>43823</th>\n      <td>26375.029</td>\n      <td>9147.291</td>\n      <td>37687.068</td>\n    </tr>\n  </tbody>\n</table>\n</div>"
     },
     "metadata": {},
     "output_type": "display_data"
    }
   ],
   "source": [
    "# Creating 1-day lag loads\n",
    "load_lag_1 = load_ds.shift(24*2).add_suffix(\"_LAG1\")\n",
    "display(load_lag_1.tail(2))"
   ],
   "metadata": {
    "collapsed": false
   }
  },
  {
   "cell_type": "code",
   "execution_count": 11,
   "outputs": [
    {
     "data": {
      "text/plain": "       MIDATL_LOAD_LAG7  SOUTH_LOAD_LAG7  WEST_LOAD_LAG7\n43822         29955.427        11519.032       41556.164\n43823         28929.156        11314.571       40399.011",
      "text/html": "<div>\n<style scoped>\n    .dataframe tbody tr th:only-of-type {\n        vertical-align: middle;\n    }\n\n    .dataframe tbody tr th {\n        vertical-align: top;\n    }\n\n    .dataframe thead th {\n        text-align: right;\n    }\n</style>\n<table border=\"1\" class=\"dataframe\">\n  <thead>\n    <tr style=\"text-align: right;\">\n      <th></th>\n      <th>MIDATL_LOAD_LAG7</th>\n      <th>SOUTH_LOAD_LAG7</th>\n      <th>WEST_LOAD_LAG7</th>\n    </tr>\n  </thead>\n  <tbody>\n    <tr>\n      <th>43822</th>\n      <td>29955.427</td>\n      <td>11519.032</td>\n      <td>41556.164</td>\n    </tr>\n    <tr>\n      <th>43823</th>\n      <td>28929.156</td>\n      <td>11314.571</td>\n      <td>40399.011</td>\n    </tr>\n  </tbody>\n</table>\n</div>"
     },
     "metadata": {},
     "output_type": "display_data"
    }
   ],
   "source": [
    "# Creating 7-day lag loads\n",
    "load_lag_7 = load_ds.shift(24*7).add_suffix(\"_LAG7\")\n",
    "display(load_lag_7.tail(2))"
   ],
   "metadata": {
    "collapsed": false
   }
  },
  {
   "cell_type": "code",
   "execution_count": 12,
   "outputs": [
    {
     "name": "stdout",
     "output_type": "stream",
     "text": [
      "Drop data before:  168\n"
     ]
    }
   ],
   "source": [
    "# Drop index for equalizing data\n",
    "drop_idx = load_lag_7.dropna(axis= 0).index[0]\n",
    "print(\"Drop data before: \", drop_idx)"
   ],
   "metadata": {
    "collapsed": false
   }
  },
  {
   "cell_type": "markdown",
   "source": [
    "PROCESSING TEMPERATURE DATA"
   ],
   "metadata": {
    "collapsed": false
   }
  },
  {
   "cell_type": "code",
   "execution_count": 13,
   "outputs": [
    {
     "data": {
      "text/plain": "       MIDATL_A_TEMP  SOUTH_A_TEMP  WEST_A_TEMP\n43822            2.8           9.0         -2.1\n43823            2.5           8.4         -2.6",
      "text/html": "<div>\n<style scoped>\n    .dataframe tbody tr th:only-of-type {\n        vertical-align: middle;\n    }\n\n    .dataframe tbody tr th {\n        vertical-align: top;\n    }\n\n    .dataframe thead th {\n        text-align: right;\n    }\n</style>\n<table border=\"1\" class=\"dataframe\">\n  <thead>\n    <tr style=\"text-align: right;\">\n      <th></th>\n      <th>MIDATL_A_TEMP</th>\n      <th>SOUTH_A_TEMP</th>\n      <th>WEST_A_TEMP</th>\n    </tr>\n  </thead>\n  <tbody>\n    <tr>\n      <th>43822</th>\n      <td>2.8</td>\n      <td>9.0</td>\n      <td>-2.1</td>\n    </tr>\n    <tr>\n      <th>43823</th>\n      <td>2.5</td>\n      <td>8.4</td>\n      <td>-2.6</td>\n    </tr>\n  </tbody>\n</table>\n</div>"
     },
     "metadata": {},
     "output_type": "display_data"
    }
   ],
   "source": [
    "# Fetching and concatenating the data\n",
    "temp_ds = pd.concat([pd.read_csv(os.path.join(path, dataset, fileName),\n",
    "                                 usecols= [\"tmp\"]) for fileName in fileList], axis= 1)\n",
    "temp_ds.columns = [i.removesuffix('.csv') for i in fileList]\n",
    "temp_ds = temp_ds.add_suffix(\"_A_TEMP\")\n",
    "display(temp_ds.tail(2))"
   ],
   "metadata": {
    "collapsed": false
   }
  },
  {
   "cell_type": "markdown",
   "source": [
    "### PREPARING X AND Y PART"
   ],
   "metadata": {
    "collapsed": false
   }
  },
  {
   "cell_type": "code",
   "execution_count": 14,
   "outputs": [
    {
     "name": "stdout",
     "output_type": "stream",
     "text": [
      "The train-test split index is:  34895\n",
      "The last date of train dataset: \n"
     ]
    },
    {
     "data": {
      "text/plain": "                   AA_ept  MIDATL_A_TEMP  MIDATL_LOAD_LAG1  MIDATL_LOAD_LAG7  \\\n34894 2018-12-31 22:00:00            5.3         29136.647         30164.732   \n34895 2018-12-31 23:00:00            4.8         27649.755         28912.872   \n\n       SOUTH_A_TEMP  SOUTH_LOAD_LAG1  SOUTH_LOAD_LAG7  WEST_A_TEMP  \\\n34894           5.6        10424.461         11870.76         11.1   \n34895           5.9        10061.347         11628.11         12.1   \n\n       WEST_LOAD_LAG1  WEST_LOAD_LAG7  \n34894       46563.906       45389.004  \n34895       44744.944       44236.049  ",
      "text/html": "<div>\n<style scoped>\n    .dataframe tbody tr th:only-of-type {\n        vertical-align: middle;\n    }\n\n    .dataframe tbody tr th {\n        vertical-align: top;\n    }\n\n    .dataframe thead th {\n        text-align: right;\n    }\n</style>\n<table border=\"1\" class=\"dataframe\">\n  <thead>\n    <tr style=\"text-align: right;\">\n      <th></th>\n      <th>AA_ept</th>\n      <th>MIDATL_A_TEMP</th>\n      <th>MIDATL_LOAD_LAG1</th>\n      <th>MIDATL_LOAD_LAG7</th>\n      <th>SOUTH_A_TEMP</th>\n      <th>SOUTH_LOAD_LAG1</th>\n      <th>SOUTH_LOAD_LAG7</th>\n      <th>WEST_A_TEMP</th>\n      <th>WEST_LOAD_LAG1</th>\n      <th>WEST_LOAD_LAG7</th>\n    </tr>\n  </thead>\n  <tbody>\n    <tr>\n      <th>34894</th>\n      <td>2018-12-31 22:00:00</td>\n      <td>5.3</td>\n      <td>29136.647</td>\n      <td>30164.732</td>\n      <td>5.6</td>\n      <td>10424.461</td>\n      <td>11870.76</td>\n      <td>11.1</td>\n      <td>46563.906</td>\n      <td>45389.004</td>\n    </tr>\n    <tr>\n      <th>34895</th>\n      <td>2018-12-31 23:00:00</td>\n      <td>4.8</td>\n      <td>27649.755</td>\n      <td>28912.872</td>\n      <td>5.9</td>\n      <td>10061.347</td>\n      <td>11628.11</td>\n      <td>12.1</td>\n      <td>44744.944</td>\n      <td>44236.049</td>\n    </tr>\n  </tbody>\n</table>\n</div>"
     },
     "metadata": {},
     "output_type": "display_data"
    },
    {
     "name": "stdout",
     "output_type": "stream",
     "text": [
      "The first date of test dataset: \n"
     ]
    },
    {
     "data": {
      "text/plain": "                   AA_ept  MIDATL_A_TEMP  MIDATL_LOAD_LAG1  MIDATL_LOAD_LAG7  \\\n34896 2019-01-01 00:00:00            4.3         26419.791         27638.251   \n34897 2019-01-01 01:00:00            4.3         25611.538         26801.717   \n\n       SOUTH_A_TEMP  SOUTH_LOAD_LAG1  SOUTH_LOAD_LAG7  WEST_A_TEMP  \\\n34896           7.2         9813.724        11370.606         12.9   \n34897           8.0         9722.705        11300.246         12.8   \n\n       WEST_LOAD_LAG1  WEST_LOAD_LAG7  \n34896       42980.853       42529.114  \n34897       41645.869       41413.051  ",
      "text/html": "<div>\n<style scoped>\n    .dataframe tbody tr th:only-of-type {\n        vertical-align: middle;\n    }\n\n    .dataframe tbody tr th {\n        vertical-align: top;\n    }\n\n    .dataframe thead th {\n        text-align: right;\n    }\n</style>\n<table border=\"1\" class=\"dataframe\">\n  <thead>\n    <tr style=\"text-align: right;\">\n      <th></th>\n      <th>AA_ept</th>\n      <th>MIDATL_A_TEMP</th>\n      <th>MIDATL_LOAD_LAG1</th>\n      <th>MIDATL_LOAD_LAG7</th>\n      <th>SOUTH_A_TEMP</th>\n      <th>SOUTH_LOAD_LAG1</th>\n      <th>SOUTH_LOAD_LAG7</th>\n      <th>WEST_A_TEMP</th>\n      <th>WEST_LOAD_LAG1</th>\n      <th>WEST_LOAD_LAG7</th>\n    </tr>\n  </thead>\n  <tbody>\n    <tr>\n      <th>34896</th>\n      <td>2019-01-01 00:00:00</td>\n      <td>4.3</td>\n      <td>26419.791</td>\n      <td>27638.251</td>\n      <td>7.2</td>\n      <td>9813.724</td>\n      <td>11370.606</td>\n      <td>12.9</td>\n      <td>42980.853</td>\n      <td>42529.114</td>\n    </tr>\n    <tr>\n      <th>34897</th>\n      <td>2019-01-01 01:00:00</td>\n      <td>4.3</td>\n      <td>25611.538</td>\n      <td>26801.717</td>\n      <td>8.0</td>\n      <td>9722.705</td>\n      <td>11300.246</td>\n      <td>12.8</td>\n      <td>41645.869</td>\n      <td>41413.051</td>\n    </tr>\n  </tbody>\n</table>\n</div>"
     },
     "metadata": {},
     "output_type": "display_data"
    },
    {
     "name": "stdout",
     "output_type": "stream",
     "text": [
      "\n",
      "\n",
      "LENGTH OF DATASET:  43656\n"
     ]
    },
    {
     "data": {
      "text/plain": "       MIDATL_A_TEMP  MIDATL_LOAD_LAG1  MIDATL_LOAD_LAG7  SOUTH_A_TEMP  \\\n43654            2.8         28090.471         29955.427           9.0   \n43655            2.5         26375.029         28929.156           8.4   \n\n       SOUTH_LOAD_LAG1  SOUTH_LOAD_LAG7  WEST_A_TEMP  WEST_LOAD_LAG1  \\\n43654         9718.976        11519.032         -2.1       39600.208   \n43655         9147.291        11314.571         -2.6       37687.068   \n\n       WEST_LOAD_LAG7  \n43654       41556.164  \n43655       40399.011  ",
      "text/html": "<div>\n<style scoped>\n    .dataframe tbody tr th:only-of-type {\n        vertical-align: middle;\n    }\n\n    .dataframe tbody tr th {\n        vertical-align: top;\n    }\n\n    .dataframe thead th {\n        text-align: right;\n    }\n</style>\n<table border=\"1\" class=\"dataframe\">\n  <thead>\n    <tr style=\"text-align: right;\">\n      <th></th>\n      <th>MIDATL_A_TEMP</th>\n      <th>MIDATL_LOAD_LAG1</th>\n      <th>MIDATL_LOAD_LAG7</th>\n      <th>SOUTH_A_TEMP</th>\n      <th>SOUTH_LOAD_LAG1</th>\n      <th>SOUTH_LOAD_LAG7</th>\n      <th>WEST_A_TEMP</th>\n      <th>WEST_LOAD_LAG1</th>\n      <th>WEST_LOAD_LAG7</th>\n    </tr>\n  </thead>\n  <tbody>\n    <tr>\n      <th>43654</th>\n      <td>2.8</td>\n      <td>28090.471</td>\n      <td>29955.427</td>\n      <td>9.0</td>\n      <td>9718.976</td>\n      <td>11519.032</td>\n      <td>-2.1</td>\n      <td>39600.208</td>\n      <td>41556.164</td>\n    </tr>\n    <tr>\n      <th>43655</th>\n      <td>2.5</td>\n      <td>26375.029</td>\n      <td>28929.156</td>\n      <td>8.4</td>\n      <td>9147.291</td>\n      <td>11314.571</td>\n      <td>-2.6</td>\n      <td>37687.068</td>\n      <td>40399.011</td>\n    </tr>\n  </tbody>\n</table>\n</div>"
     },
     "metadata": {},
     "output_type": "display_data"
    }
   ],
   "source": [
    "# Concatenating the engineered features\n",
    "X_continuous = pd.concat([date_col, load_lag_1, load_lag_7, temp_ds], axis=1)\n",
    "X_continuous = X_continuous.sort_index(axis=1)\n",
    "X_continuous = X_continuous.iloc[drop_idx:].reset_index(drop=True)\n",
    "\n",
    "# Fetching the train index from the processed dataframe\n",
    "train_end_idx = X_continuous[X_continuous.AA_ept.dt.year.between(2015, 2018)].index[-1]\n",
    "print(\"The train-test split index is: \", train_end_idx)\n",
    "print(\"The last date of train dataset: \")\n",
    "display(X_continuous.loc[:train_end_idx].tail(2))\n",
    "print(\"The first date of test dataset: \")\n",
    "display(X_continuous.loc[train_end_idx + 1:].head(2))\n",
    "print('\\n')\n",
    "\n",
    "# Dropping the datetime column after fetching the train-test split index\n",
    "X_continuous = X_continuous.drop(columns=['AA_ept'])\n",
    "print(\"LENGTH OF DATASET: \", len(X_continuous))\n",
    "display(X_continuous.tail(2))"
   ],
   "metadata": {
    "collapsed": false
   }
  },
  {
   "cell_type": "code",
   "execution_count": 15,
   "outputs": [
    {
     "name": "stdout",
     "output_type": "stream",
     "text": [
      "LENGTH OF DATASET:  43656\n"
     ]
    },
    {
     "data": {
      "text/plain": "        0    1    2    3    4    5    6    7    8    9   ...   64   65   66  \\\n43654  0.0  0.0  0.0  0.0  0.0  0.0  0.0  0.0  0.0  0.0  ...  0.0  1.0  0.0   \n43655  0.0  0.0  0.0  0.0  0.0  0.0  0.0  0.0  0.0  0.0  ...  0.0  0.0  1.0   \n\n        67   68   69   70   71   72   73  \n43654  0.0  1.0  0.0  0.0  0.0  0.0  0.0  \n43655  0.0  1.0  0.0  0.0  0.0  0.0  0.0  \n\n[2 rows x 74 columns]",
      "text/html": "<div>\n<style scoped>\n    .dataframe tbody tr th:only-of-type {\n        vertical-align: middle;\n    }\n\n    .dataframe tbody tr th {\n        vertical-align: top;\n    }\n\n    .dataframe thead th {\n        text-align: right;\n    }\n</style>\n<table border=\"1\" class=\"dataframe\">\n  <thead>\n    <tr style=\"text-align: right;\">\n      <th></th>\n      <th>0</th>\n      <th>1</th>\n      <th>2</th>\n      <th>3</th>\n      <th>4</th>\n      <th>5</th>\n      <th>6</th>\n      <th>7</th>\n      <th>8</th>\n      <th>9</th>\n      <th>...</th>\n      <th>64</th>\n      <th>65</th>\n      <th>66</th>\n      <th>67</th>\n      <th>68</th>\n      <th>69</th>\n      <th>70</th>\n      <th>71</th>\n      <th>72</th>\n      <th>73</th>\n    </tr>\n  </thead>\n  <tbody>\n    <tr>\n      <th>43654</th>\n      <td>0.0</td>\n      <td>0.0</td>\n      <td>0.0</td>\n      <td>0.0</td>\n      <td>0.0</td>\n      <td>0.0</td>\n      <td>0.0</td>\n      <td>0.0</td>\n      <td>0.0</td>\n      <td>0.0</td>\n      <td>...</td>\n      <td>0.0</td>\n      <td>1.0</td>\n      <td>0.0</td>\n      <td>0.0</td>\n      <td>1.0</td>\n      <td>0.0</td>\n      <td>0.0</td>\n      <td>0.0</td>\n      <td>0.0</td>\n      <td>0.0</td>\n    </tr>\n    <tr>\n      <th>43655</th>\n      <td>0.0</td>\n      <td>0.0</td>\n      <td>0.0</td>\n      <td>0.0</td>\n      <td>0.0</td>\n      <td>0.0</td>\n      <td>0.0</td>\n      <td>0.0</td>\n      <td>0.0</td>\n      <td>0.0</td>\n      <td>...</td>\n      <td>0.0</td>\n      <td>0.0</td>\n      <td>1.0</td>\n      <td>0.0</td>\n      <td>1.0</td>\n      <td>0.0</td>\n      <td>0.0</td>\n      <td>0.0</td>\n      <td>0.0</td>\n      <td>0.0</td>\n    </tr>\n  </tbody>\n</table>\n<p>2 rows × 74 columns</p>\n</div>"
     },
     "metadata": {},
     "output_type": "display_data"
    }
   ],
   "source": [
    "X_categorical = pd.DataFrame(categorical_data)\n",
    "X_categorical = X_categorical.iloc[drop_idx:].reset_index(drop=True)\n",
    "print(\"LENGTH OF DATASET: \", len(X_categorical))\n",
    "display(X_categorical.tail(2))"
   ],
   "metadata": {
    "collapsed": false
   }
  },
  {
   "cell_type": "code",
   "execution_count": 16,
   "outputs": [
    {
     "name": "stdout",
     "output_type": "stream",
     "text": [
      "LENGTH OF DATASET:  43656\n"
     ]
    },
    {
     "data": {
      "text/plain": "       MIDATL_LOAD  SOUTH_LOAD  WEST_LOAD\n43654    28458.691   10838.550  45132.982\n43655    27428.213   10592.674  43501.529",
      "text/html": "<div>\n<style scoped>\n    .dataframe tbody tr th:only-of-type {\n        vertical-align: middle;\n    }\n\n    .dataframe tbody tr th {\n        vertical-align: top;\n    }\n\n    .dataframe thead th {\n        text-align: right;\n    }\n</style>\n<table border=\"1\" class=\"dataframe\">\n  <thead>\n    <tr style=\"text-align: right;\">\n      <th></th>\n      <th>MIDATL_LOAD</th>\n      <th>SOUTH_LOAD</th>\n      <th>WEST_LOAD</th>\n    </tr>\n  </thead>\n  <tbody>\n    <tr>\n      <th>43654</th>\n      <td>28458.691</td>\n      <td>10838.550</td>\n      <td>45132.982</td>\n    </tr>\n    <tr>\n      <th>43655</th>\n      <td>27428.213</td>\n      <td>10592.674</td>\n      <td>43501.529</td>\n    </tr>\n  </tbody>\n</table>\n</div>"
     },
     "metadata": {},
     "output_type": "display_data"
    }
   ],
   "source": [
    "Y = load_ds.copy()\n",
    "Y = Y.sort_index(axis=1)\n",
    "Y = Y.iloc[drop_idx:].reset_index(drop=True)\n",
    "print(\"LENGTH OF DATASET: \", len(Y))\n",
    "display(Y.tail(2))"
   ],
   "metadata": {
    "collapsed": false
   }
  },
  {
   "cell_type": "code",
   "execution_count": 17,
   "outputs": [
    {
     "name": "stdout",
     "output_type": "stream",
     "text": [
      "Train samples:  34896\n",
      "Test samples:  8760\n"
     ]
    }
   ],
   "source": [
    "### SPLITTING THE DATA INTO TRAINING AND TESTING\n",
    "print(\"Train samples: \", len(X_continuous.loc[:train_end_idx]))\n",
    "print(\"Test samples: \", len(X_continuous.loc[train_end_idx + 1:]))"
   ],
   "metadata": {
    "collapsed": false
   }
  },
  {
   "cell_type": "code",
   "execution_count": 18,
   "outputs": [
    {
     "name": "stdout",
     "output_type": "stream",
     "text": [
      "Train split of continuous data: \n"
     ]
    },
    {
     "data": {
      "text/plain": "       MIDATL_A_TEMP  MIDATL_LOAD_LAG1  MIDATL_LOAD_LAG7  SOUTH_A_TEMP  \\\n34894            5.3         29136.647         30164.732           5.6   \n34895            4.8         27649.755         28912.872           5.9   \n\n       SOUTH_LOAD_LAG1  SOUTH_LOAD_LAG7  WEST_A_TEMP  WEST_LOAD_LAG1  \\\n34894        10424.461         11870.76         11.1       46563.906   \n34895        10061.347         11628.11         12.1       44744.944   \n\n       WEST_LOAD_LAG7  \n34894       45389.004  \n34895       44236.049  ",
      "text/html": "<div>\n<style scoped>\n    .dataframe tbody tr th:only-of-type {\n        vertical-align: middle;\n    }\n\n    .dataframe tbody tr th {\n        vertical-align: top;\n    }\n\n    .dataframe thead th {\n        text-align: right;\n    }\n</style>\n<table border=\"1\" class=\"dataframe\">\n  <thead>\n    <tr style=\"text-align: right;\">\n      <th></th>\n      <th>MIDATL_A_TEMP</th>\n      <th>MIDATL_LOAD_LAG1</th>\n      <th>MIDATL_LOAD_LAG7</th>\n      <th>SOUTH_A_TEMP</th>\n      <th>SOUTH_LOAD_LAG1</th>\n      <th>SOUTH_LOAD_LAG7</th>\n      <th>WEST_A_TEMP</th>\n      <th>WEST_LOAD_LAG1</th>\n      <th>WEST_LOAD_LAG7</th>\n    </tr>\n  </thead>\n  <tbody>\n    <tr>\n      <th>34894</th>\n      <td>5.3</td>\n      <td>29136.647</td>\n      <td>30164.732</td>\n      <td>5.6</td>\n      <td>10424.461</td>\n      <td>11870.76</td>\n      <td>11.1</td>\n      <td>46563.906</td>\n      <td>45389.004</td>\n    </tr>\n    <tr>\n      <th>34895</th>\n      <td>4.8</td>\n      <td>27649.755</td>\n      <td>28912.872</td>\n      <td>5.9</td>\n      <td>10061.347</td>\n      <td>11628.11</td>\n      <td>12.1</td>\n      <td>44744.944</td>\n      <td>44236.049</td>\n    </tr>\n  </tbody>\n</table>\n</div>"
     },
     "metadata": {},
     "output_type": "display_data"
    },
    {
     "name": "stdout",
     "output_type": "stream",
     "text": [
      "Train split of categorical data: \n"
     ]
    },
    {
     "data": {
      "text/plain": "        0    1    2    3    4    5    6    7    8    9   ...   64   65   66  \\\n34894  0.0  0.0  0.0  0.0  0.0  0.0  0.0  0.0  0.0  0.0  ...  0.0  1.0  0.0   \n34895  0.0  0.0  0.0  0.0  0.0  0.0  0.0  0.0  0.0  0.0  ...  0.0  0.0  1.0   \n\n        67   68   69   70   71   72   73  \n34894  1.0  0.0  0.0  0.0  0.0  0.0  0.0  \n34895  1.0  0.0  0.0  0.0  0.0  0.0  0.0  \n\n[2 rows x 74 columns]",
      "text/html": "<div>\n<style scoped>\n    .dataframe tbody tr th:only-of-type {\n        vertical-align: middle;\n    }\n\n    .dataframe tbody tr th {\n        vertical-align: top;\n    }\n\n    .dataframe thead th {\n        text-align: right;\n    }\n</style>\n<table border=\"1\" class=\"dataframe\">\n  <thead>\n    <tr style=\"text-align: right;\">\n      <th></th>\n      <th>0</th>\n      <th>1</th>\n      <th>2</th>\n      <th>3</th>\n      <th>4</th>\n      <th>5</th>\n      <th>6</th>\n      <th>7</th>\n      <th>8</th>\n      <th>9</th>\n      <th>...</th>\n      <th>64</th>\n      <th>65</th>\n      <th>66</th>\n      <th>67</th>\n      <th>68</th>\n      <th>69</th>\n      <th>70</th>\n      <th>71</th>\n      <th>72</th>\n      <th>73</th>\n    </tr>\n  </thead>\n  <tbody>\n    <tr>\n      <th>34894</th>\n      <td>0.0</td>\n      <td>0.0</td>\n      <td>0.0</td>\n      <td>0.0</td>\n      <td>0.0</td>\n      <td>0.0</td>\n      <td>0.0</td>\n      <td>0.0</td>\n      <td>0.0</td>\n      <td>0.0</td>\n      <td>...</td>\n      <td>0.0</td>\n      <td>1.0</td>\n      <td>0.0</td>\n      <td>1.0</td>\n      <td>0.0</td>\n      <td>0.0</td>\n      <td>0.0</td>\n      <td>0.0</td>\n      <td>0.0</td>\n      <td>0.0</td>\n    </tr>\n    <tr>\n      <th>34895</th>\n      <td>0.0</td>\n      <td>0.0</td>\n      <td>0.0</td>\n      <td>0.0</td>\n      <td>0.0</td>\n      <td>0.0</td>\n      <td>0.0</td>\n      <td>0.0</td>\n      <td>0.0</td>\n      <td>0.0</td>\n      <td>...</td>\n      <td>0.0</td>\n      <td>0.0</td>\n      <td>1.0</td>\n      <td>1.0</td>\n      <td>0.0</td>\n      <td>0.0</td>\n      <td>0.0</td>\n      <td>0.0</td>\n      <td>0.0</td>\n      <td>0.0</td>\n    </tr>\n  </tbody>\n</table>\n<p>2 rows × 74 columns</p>\n</div>"
     },
     "metadata": {},
     "output_type": "display_data"
    },
    {
     "name": "stdout",
     "output_type": "stream",
     "text": [
      "Train split of target data Y: \n"
     ]
    },
    {
     "data": {
      "text/plain": "       MIDATL_LOAD  SOUTH_LOAD  WEST_LOAD\n34894    28248.171   10005.343  40608.049\n34895    26808.480    9565.197  38951.401",
      "text/html": "<div>\n<style scoped>\n    .dataframe tbody tr th:only-of-type {\n        vertical-align: middle;\n    }\n\n    .dataframe tbody tr th {\n        vertical-align: top;\n    }\n\n    .dataframe thead th {\n        text-align: right;\n    }\n</style>\n<table border=\"1\" class=\"dataframe\">\n  <thead>\n    <tr style=\"text-align: right;\">\n      <th></th>\n      <th>MIDATL_LOAD</th>\n      <th>SOUTH_LOAD</th>\n      <th>WEST_LOAD</th>\n    </tr>\n  </thead>\n  <tbody>\n    <tr>\n      <th>34894</th>\n      <td>28248.171</td>\n      <td>10005.343</td>\n      <td>40608.049</td>\n    </tr>\n    <tr>\n      <th>34895</th>\n      <td>26808.480</td>\n      <td>9565.197</td>\n      <td>38951.401</td>\n    </tr>\n  </tbody>\n</table>\n</div>"
     },
     "metadata": {},
     "output_type": "display_data"
    }
   ],
   "source": [
    "# Splitting the continuous data into training and test split\n",
    "X_continuous_train,  X_continuous_test = X_continuous.loc[:train_end_idx], X_continuous.loc[train_end_idx+1:]\n",
    "print(\"Train split of continuous data: \")\n",
    "display(X_continuous_train.tail(2))\n",
    "\n",
    "# Splitting the categorical data into training and test split\n",
    "X_categorical_train, X_categorical_test = X_categorical.loc[:train_end_idx], X_categorical.loc[train_end_idx+1:]\n",
    "print(\"Train split of categorical data: \")\n",
    "display(X_categorical_train.tail(2))\n",
    "\n",
    "# Splitting the target into training and test split\n",
    "Y_train, Y_test = Y.loc[:train_end_idx],  Y.loc[train_end_idx+1:]\n",
    "print(\"Train split of target data Y: \")\n",
    "display(Y_train.tail(2))"
   ],
   "metadata": {
    "collapsed": false
   }
  },
  {
   "cell_type": "code",
   "execution_count": 19,
   "outputs": [
    {
     "name": "stdout",
     "output_type": "stream",
     "text": [
      "Shape for continuous variable: \n",
      "(34896, 9) (8760, 9) \n",
      "\n",
      "Shape for categorical variable: \n",
      "(34896, 74) (8760, 74) \n",
      "\n",
      "Shape for target variable: \n",
      "(34896, 3) (8760, 3) \n",
      "\n",
      "Does it cover entire training set:  True\n"
     ]
    }
   ],
   "source": [
    "print(\"Shape for continuous variable: \")\n",
    "print(X_continuous_train.shape, X_continuous_test.shape, \"\\n\")\n",
    "print(\"Shape for categorical variable: \")\n",
    "print(X_categorical_train.shape, X_categorical_test.shape, \"\\n\")\n",
    "print(\"Shape for target variable: \")\n",
    "print(Y_train.shape, Y_test.shape, \"\\n\")\n",
    "print(\"Does it cover entire training set: \", (X_continuous_train.shape[0] +\n",
    "                                              X_continuous_test.shape[0]) == len(X_continuous))"
   ],
   "metadata": {
    "collapsed": false
   }
  },
  {
   "cell_type": "markdown",
   "source": [
    "### SCALING THE DATA"
   ],
   "metadata": {
    "collapsed": false
   }
  },
  {
   "cell_type": "code",
   "execution_count": 20,
   "outputs": [],
   "source": [
    "# Scaling values using min-max scaler\n",
    "mm_scaler_X = MinMaxScaler()\n",
    "mm_scaler_Y = MinMaxScaler()"
   ],
   "metadata": {
    "collapsed": false
   }
  },
  {
   "cell_type": "code",
   "execution_count": 21,
   "outputs": [
    {
     "name": "stdout",
     "output_type": "stream",
     "text": [
      "Scaled continuous X train: \n"
     ]
    },
    {
     "data": {
      "text/plain": "array([[0.22608696, 0.44511956, 0.43065024, ..., 0.10172745, 0.59168985,\n        0.50711927],\n       [0.19826087, 0.43145624, 0.41002199, ..., 0.0940499 , 0.56606337,\n        0.48722235],\n       [0.1826087 , 0.42411783, 0.39700564, ..., 0.08637236, 0.55328635,\n        0.47148018],\n       ...,\n       [0.51130435, 0.40183825, 0.41668037, ..., 0.66026871, 0.47389036,\n        0.43979978],\n       [0.51478261, 0.37244855, 0.39615558, ..., 0.67754319, 0.44664951,\n        0.42448822],\n       [0.50608696, 0.3381617 , 0.36728843, ..., 0.69673704, 0.4123398 ,\n        0.4027409 ]])"
     },
     "metadata": {},
     "output_type": "display_data"
    }
   ],
   "source": [
    "# Scaling continuous X train part\n",
    "X_scaled_continuous_train = mm_scaler_X.fit_transform(X_continuous_train)\n",
    "\n",
    "# Using the fit_scaler to scale the X test part\n",
    "X_scaled_continuous_test = mm_scaler_X.transform(X_continuous_test)\n",
    "\n",
    "print(\"Scaled continuous X train: \")\n",
    "display(X_scaled_continuous_train)"
   ],
   "metadata": {
    "collapsed": false
   }
  },
  {
   "cell_type": "code",
   "execution_count": 22,
   "outputs": [
    {
     "name": "stdout",
     "output_type": "stream",
     "text": [
      "Scaled continuous Y train: \n"
     ]
    },
    {
     "data": {
      "text/plain": "array([[0.5998175 , 0.7220881 , 0.7510787 ],\n       [0.58696998, 0.72491528, 0.73463023],\n       [0.58072205, 0.73411311, 0.7314377 ],\n       ...,\n       [0.38591386, 0.33897562, 0.36205661],\n       [0.35196082, 0.30448827, 0.33430867],\n       [0.31876239, 0.27744258, 0.30306056]])"
     },
     "metadata": {},
     "output_type": "display_data"
    }
   ],
   "source": [
    "# Scaling target Y train part\n",
    "Y_scaled_train = mm_scaler_Y.fit_transform(Y_train)\n",
    "\n",
    "# Using the fit_scaler to scale the Y test part\n",
    "Y_scaled_test = mm_scaler_Y.transform(Y_test)\n",
    "\n",
    "print(\"Scaled continuous Y train: \")\n",
    "display(Y_scaled_train)"
   ],
   "metadata": {
    "collapsed": false
   }
  },
  {
   "cell_type": "code",
   "execution_count": 23,
   "outputs": [],
   "source": [
    "# Converting a multivariate dataset into slices of samples\n",
    "def split_data(calendar_data, x_data, y_data, n_steps, n_overlap):\n",
    "    calendar, x, y = list(), list(), list()\n",
    "    for i in range(0, len(x_data), n_steps-n_overlap):\n",
    "\n",
    "        # Finding the split index\n",
    "        end_idx = i + n_steps\n",
    "\n",
    "        # Break the loop at end of dataset\n",
    "        if end_idx > len(x_data):\n",
    "            break\n",
    "\n",
    "        # Appending the custom created samples with desired time-steps and features\n",
    "        sample_calendar, sample_x, sample_y = calendar_data[i:end_idx, :], \\\n",
    "                                              x_data[i:end_idx, :], \\\n",
    "                                              y_data[i:end_idx, :]\n",
    "        calendar.append(sample_calendar)\n",
    "        x.append(sample_x)\n",
    "        y.append(sample_y)\n",
    "\n",
    "    return np.array(calendar), np.array(x), np.array(y)"
   ],
   "metadata": {
    "collapsed": false
   }
  },
  {
   "cell_type": "code",
   "execution_count": 24,
   "outputs": [
    {
     "name": "stdout",
     "output_type": "stream",
     "text": [
      "Shape of the created samples for training:  (34873, 24, 3)\n",
      "Shape of the created samples for testing:  (365, 24, 3)\n"
     ]
    }
   ],
   "source": [
    "num_steps = 24\n",
    "train_num_overlap = 23\n",
    "test_num_overlap = 0\n",
    "\n",
    "processed_data_train = split_data(calendar_data=X_categorical_train.to_numpy(),\n",
    "                            x_data=X_scaled_continuous_train,\n",
    "                            y_data=Y_scaled_train,\n",
    "                            n_steps=num_steps, n_overlap=train_num_overlap)\n",
    "\n",
    "processed_data_test = split_data(calendar_data=X_categorical_test.to_numpy(),\n",
    "                            x_data=X_scaled_continuous_test,\n",
    "                            y_data=Y_scaled_test,\n",
    "                            n_steps=num_steps, n_overlap=test_num_overlap)\n",
    "\n",
    "print(\"Shape of the created samples for training: \", processed_data_train[2].shape)\n",
    "print(\"Shape of the created samples for testing: \", processed_data_test[2].shape)"
   ],
   "metadata": {
    "collapsed": false
   }
  },
  {
   "cell_type": "code",
   "execution_count": 25,
   "outputs": [
    {
     "name": "stdout",
     "output_type": "stream",
     "text": [
      "First sample: \n",
      "\n"
     ]
    },
    {
     "data": {
      "text/plain": "array([[0.22608696, 0.44511956, 0.43065024, 0.13502935, 0.40576466,\n        0.46215937, 0.10172745, 0.59168985, 0.50711927],\n       [0.19826087, 0.43145624, 0.41002199, 0.12720157, 0.39728287,\n        0.45465502, 0.0940499 , 0.56606337, 0.48722235],\n       [0.1826087 , 0.42411783, 0.39700564, 0.11741683, 0.40129991,\n        0.44521024, 0.08637236, 0.55328635, 0.47148018],\n       [0.17043478, 0.42606896, 0.39008344, 0.10763209, 0.40822629,\n        0.4488259 , 0.07677543, 0.549954  , 0.46204555],\n       [0.16173913, 0.44653594, 0.39430379, 0.09784736, 0.4399822 ,\n        0.46039565, 0.06909789, 0.5600569 , 0.45943157],\n       [0.15478261, 0.50279748, 0.40928955, 0.08806262, 0.49628228,\n        0.48041714, 0.06142035, 0.60011369, 0.47173184],\n       [0.14608696, 0.58839888, 0.43012813, 0.07827789, 0.57651249,\n        0.50234569, 0.0537428 , 0.66506704, 0.48780957],\n       [0.1373913 , 0.63738144, 0.43440079, 0.07240705, 0.61095199,\n        0.5013424 , 0.04798464, 0.71732035, 0.50201433],\n       [0.13043478, 0.58889666, 0.38189914, 0.0704501 , 0.55291717,\n        0.44390439, 0.04414587, 0.70068591, 0.50205164],\n       [0.12347826, 0.55183977, 0.33822015, 0.06262231, 0.50200223,\n        0.37551697, 0.0403071 , 0.6478662 , 0.49971591],\n       [0.12347826, 0.55183988, 0.30982871, 0.06066536, 0.4430016 ,\n        0.31773   , 0.03838772, 0.67548053, 0.49754305],\n       [0.12173913, 0.50641421, 0.31434413, 0.05870841, 0.40927353,\n        0.27565843, 0.03646833, 0.596956  , 0.48695926],\n       [0.12347826, 0.49616174, 0.30915322, 0.06457926, 0.35455885,\n        0.24936341, 0.03838772, 0.64341542, 0.43052282],\n       [0.14608696, 0.49938074, 0.28945469, 0.07240705, 0.33272161,\n        0.23001763, 0.04414587, 0.59413641, 0.4265651 ],\n       [0.17913043, 0.56362919, 0.29812554, 0.09784736, 0.35025601,\n        0.23859015, 0.06142035, 0.61939544, 0.43755746],\n       [0.20869565, 0.58090454, 0.34170325, 0.12133072, 0.38199007,\n        0.2755514 , 0.08637236, 0.61676066, 0.43753733],\n       [0.23478261, 0.61107393, 0.42031809, 0.15068493, 0.45177802,\n        0.34937947, 0.11516315, 0.67989764, 0.46428888],\n       [0.26434783, 0.69870923, 0.50744725, 0.18199609, 0.55204021,\n        0.45029916, 0.14011516, 0.75433238, 0.5322611 ],\n       [0.28869565, 0.70722698, 0.51221737, 0.20939335, 0.57562175,\n        0.46356325, 0.16698656, 0.79012109, 0.56099626],\n       [0.3026087 , 0.69830825, 0.50398553, 0.22504892, 0.57792006,\n        0.4583435 , 0.18618042, 0.78802167, 0.55431067],\n       [0.3026087 , 0.67667719, 0.49183202, 0.22896282, 0.56968486,\n        0.44662333, 0.21305182, 0.77588332, 0.53924977],\n       [0.28695652, 0.63629657, 0.46702669, 0.22113503, 0.54639101,\n        0.42455345, 0.22840691, 0.74388171, 0.51426717],\n       [0.25913043, 0.57788701, 0.42629584, 0.20547945, 0.50225678,\n        0.39106265, 0.23608445, 0.69628276, 0.48025383],\n       [0.23826087, 0.52600272, 0.38350452, 0.20156556, 0.46952251,\n        0.35396871, 0.24760077, 0.64673777, 0.44428241]])"
     },
     "execution_count": 25,
     "metadata": {},
     "output_type": "execute_result"
    }
   ],
   "source": [
    "## Sample check for sanity\n",
    "print(\"First sample: \\n\")\n",
    "display(processed_data_train[1][0])"
   ],
   "metadata": {
    "collapsed": false
   }
  },
  {
   "cell_type": "code",
   "execution_count": 26,
   "outputs": [
    {
     "name": "stdout",
     "output_type": "stream",
     "text": [
      "Second sample: \n",
      "\n"
     ]
    },
    {
     "data": {
      "text/plain": "array([[0.19826087, 0.43145624, 0.41002199, 0.12720157, 0.39728287,\n        0.45465502, 0.0940499 , 0.56606337, 0.48722235],\n       [0.1826087 , 0.42411783, 0.39700564, 0.11741683, 0.40129991,\n        0.44521024, 0.08637236, 0.55328635, 0.47148018],\n       [0.17043478, 0.42606896, 0.39008344, 0.10763209, 0.40822629,\n        0.4488259 , 0.07677543, 0.549954  , 0.46204555],\n       [0.16173913, 0.44653594, 0.39430379, 0.09784736, 0.4399822 ,\n        0.46039565, 0.06909789, 0.5600569 , 0.45943157],\n       [0.15478261, 0.50279748, 0.40928955, 0.08806262, 0.49628228,\n        0.48041714, 0.06142035, 0.60011369, 0.47173184],\n       [0.14608696, 0.58839888, 0.43012813, 0.07827789, 0.57651249,\n        0.50234569, 0.0537428 , 0.66506704, 0.48780957],\n       [0.1373913 , 0.63738144, 0.43440079, 0.07240705, 0.61095199,\n        0.5013424 , 0.04798464, 0.71732035, 0.50201433],\n       [0.13043478, 0.58889666, 0.38189914, 0.0704501 , 0.55291717,\n        0.44390439, 0.04414587, 0.70068591, 0.50205164],\n       [0.12347826, 0.55183977, 0.33822015, 0.06262231, 0.50200223,\n        0.37551697, 0.0403071 , 0.6478662 , 0.49971591],\n       [0.12347826, 0.55183988, 0.30982871, 0.06066536, 0.4430016 ,\n        0.31773   , 0.03838772, 0.67548053, 0.49754305],\n       [0.12173913, 0.50641421, 0.31434413, 0.05870841, 0.40927353,\n        0.27565843, 0.03646833, 0.596956  , 0.48695926],\n       [0.12347826, 0.49616174, 0.30915322, 0.06457926, 0.35455885,\n        0.24936341, 0.03838772, 0.64341542, 0.43052282],\n       [0.14608696, 0.49938074, 0.28945469, 0.07240705, 0.33272161,\n        0.23001763, 0.04414587, 0.59413641, 0.4265651 ],\n       [0.17913043, 0.56362919, 0.29812554, 0.09784736, 0.35025601,\n        0.23859015, 0.06142035, 0.61939544, 0.43755746],\n       [0.20869565, 0.58090454, 0.34170325, 0.12133072, 0.38199007,\n        0.2755514 , 0.08637236, 0.61676066, 0.43753733],\n       [0.23478261, 0.61107393, 0.42031809, 0.15068493, 0.45177802,\n        0.34937947, 0.11516315, 0.67989764, 0.46428888],\n       [0.26434783, 0.69870923, 0.50744725, 0.18199609, 0.55204021,\n        0.45029916, 0.14011516, 0.75433238, 0.5322611 ],\n       [0.28869565, 0.70722698, 0.51221737, 0.20939335, 0.57562175,\n        0.46356325, 0.16698656, 0.79012109, 0.56099626],\n       [0.3026087 , 0.69830825, 0.50398553, 0.22504892, 0.57792006,\n        0.4583435 , 0.18618042, 0.78802167, 0.55431067],\n       [0.3026087 , 0.67667719, 0.49183202, 0.22896282, 0.56968486,\n        0.44662333, 0.21305182, 0.77588332, 0.53924977],\n       [0.28695652, 0.63629657, 0.46702669, 0.22113503, 0.54639101,\n        0.42455345, 0.22840691, 0.74388171, 0.51426717],\n       [0.25913043, 0.57788701, 0.42629584, 0.20547945, 0.50225678,\n        0.39106265, 0.23608445, 0.69628276, 0.48025383],\n       [0.23826087, 0.52600272, 0.38350452, 0.20156556, 0.46952251,\n        0.35396871, 0.24760077, 0.64673777, 0.44428241],\n       [0.22782609, 0.49106246, 0.35143017, 0.19765166, 0.44975087,\n        0.32576284, 0.24760077, 0.60429004, 0.41085845]])"
     },
     "execution_count": 26,
     "metadata": {},
     "output_type": "execute_result"
    }
   ],
   "source": [
    "print(\"Second sample: \\n\")\n",
    "display(processed_data_train[1][1])"
   ],
   "metadata": {
    "collapsed": false
   }
  },
  {
   "cell_type": "code",
   "execution_count": 27,
   "outputs": [],
   "source": [
    "# Dividing the sampled data - training\n",
    "categorical_samples_training = torch.Tensor(processed_data_train[0])\n",
    "continuous_samples_training = torch.Tensor(processed_data_train[1])\n",
    "target_samples_training = torch.Tensor(processed_data_train[2])\n",
    "\n",
    "# Dividing the sampled data - testing\n",
    "categorical_samples_testing = torch.Tensor(processed_data_test[0])\n",
    "continuous_samples_testing = torch.Tensor(processed_data_test[1])\n",
    "target_samples_testing = torch.Tensor(processed_data_test[2])"
   ],
   "metadata": {
    "collapsed": false
   }
  },
  {
   "cell_type": "code",
   "execution_count": 28,
   "outputs": [
    {
     "name": "stdout",
     "output_type": "stream",
     "text": [
      "Shape of categorical samples - training:  torch.Size([34873, 24, 74])\n",
      "Shape of continuous samples - training:  torch.Size([34873, 24, 9])\n",
      "Shape of target samples - training:  torch.Size([34873, 24, 3])\n",
      "\n",
      "\n",
      "Shape of categorical samples - testing:  torch.Size([365, 24, 74])\n",
      "Shape of continuous samples - testing:  torch.Size([365, 24, 9])\n",
      "Shape of target samples - testing:  torch.Size([365, 24, 3])\n"
     ]
    }
   ],
   "source": [
    "print(\"Shape of categorical samples - training: \", categorical_samples_training.shape)\n",
    "print(\"Shape of continuous samples - training: \", continuous_samples_training.shape)\n",
    "print(\"Shape of target samples - training: \", target_samples_training.shape)\n",
    "print(\"\\n\")\n",
    "print(\"Shape of categorical samples - testing: \", categorical_samples_testing.shape)\n",
    "print(\"Shape of continuous samples - testing: \", continuous_samples_testing.shape)\n",
    "print(\"Shape of target samples - testing: \", target_samples_testing.shape)"
   ],
   "metadata": {
    "collapsed": false
   }
  },
  {
   "cell_type": "markdown",
   "source": [
    "### CREATING DATALOADER"
   ],
   "metadata": {
    "collapsed": false
   }
  },
  {
   "cell_type": "code",
   "execution_count": 29,
   "outputs": [],
   "source": [
    "BATCH_SIZE = 128"
   ],
   "metadata": {
    "collapsed": false
   }
  },
  {
   "cell_type": "code",
   "execution_count": 30,
   "outputs": [],
   "source": [
    "class TimeSeriesLoader(Dataset):\n",
    "    def __init__(self, categorical, continuous, target):\n",
    "        self.categorical, self.continuous, self.target = categorical, continuous, target\n",
    "\n",
    "    def __len__(self):\n",
    "        return len(self.categorical)\n",
    "\n",
    "    def __getitem__(self, idx):\n",
    "        return self.categorical[idx], self.continuous[idx], self.target[idx]"
   ],
   "metadata": {
    "collapsed": false
   }
  },
  {
   "cell_type": "code",
   "execution_count": 31,
   "outputs": [],
   "source": [
    "train_dataset = TimeSeriesLoader(categorical_samples_training,\n",
    "                                 continuous_samples_training,\n",
    "                                 target_samples_training)\n",
    "\n",
    "test_dataset = TimeSeriesLoader(categorical_samples_testing,\n",
    "                                continuous_samples_testing,\n",
    "                                target_samples_testing)"
   ],
   "metadata": {
    "collapsed": false
   }
  },
  {
   "cell_type": "code",
   "execution_count": 32,
   "outputs": [],
   "source": [
    "train_dataloader = DataLoader(train_dataset, batch_size=BATCH_SIZE, shuffle=True, drop_last=False)\n",
    "\n",
    "test_dataloader = DataLoader(test_dataset, batch_size=BATCH_SIZE, shuffle=False, drop_last=False)"
   ],
   "metadata": {
    "collapsed": false
   }
  },
  {
   "cell_type": "code",
   "execution_count": 33,
   "outputs": [
    {
     "name": "stdout",
     "output_type": "stream",
     "text": [
      "Number of batches in train dataloader:  273\n",
      "Number of batches in test dataloader:  3\n"
     ]
    }
   ],
   "source": [
    "print(\"Number of batches in train dataloader: \", len(train_dataloader))\n",
    "print(\"Number of batches in test dataloader: \", len(test_dataloader))"
   ],
   "metadata": {
    "collapsed": false
   }
  },
  {
   "cell_type": "code",
   "execution_count": 34,
   "outputs": [
    {
     "name": "stdout",
     "output_type": "stream",
     "text": [
      "Shape of categorical variables:  torch.Size([34873, 24, 74])\n",
      "Shape of continuous variables:  torch.Size([34873, 24, 9])\n",
      "Shape of target variables:  torch.Size([34873, 24, 3])\n"
     ]
    }
   ],
   "source": [
    "categorical_var_shape = train_dataloader.dataset.categorical.shape\n",
    "continuous_var_shape = train_dataloader.dataset.continuous.shape\n",
    "target_var_shape = train_dataloader.dataset.target.shape\n",
    "\n",
    "print(\"Shape of categorical variables: \", categorical_var_shape)\n",
    "print(\"Shape of continuous variables: \", continuous_var_shape)\n",
    "print(\"Shape of target variables: \", target_var_shape)"
   ],
   "metadata": {
    "collapsed": false
   }
  },
  {
   "cell_type": "code",
   "execution_count": 35,
   "outputs": [
    {
     "name": "stdout",
     "output_type": "stream",
     "text": [
      "Number of zones:  3\n",
      "Number of features per zone:  3\n"
     ]
    }
   ],
   "source": [
    "# Specifying number of zones and features per zone\n",
    "num_zones = target_var_shape[2]\n",
    "num_zone_features = int(continuous_var_shape[2] / target_var_shape[2])\n",
    "print(\"Number of zones: \", num_zones)\n",
    "print(\"Number of features per zone: \", num_zone_features)"
   ],
   "metadata": {
    "collapsed": false
   }
  },
  {
   "cell_type": "markdown",
   "source": [
    "### DEFINING LOSS FUNCTION"
   ],
   "metadata": {
    "collapsed": false
   }
  },
  {
   "cell_type": "code",
   "execution_count": 36,
   "outputs": [],
   "source": [
    "class QuantileLoss(nn.Module):\n",
    "    def __init__(self, quantiles):\n",
    "        super().__init__()\n",
    "        self.quantiles = quantiles\n",
    "\n",
    "    def forward(self, pred, target):\n",
    "        assert not target.requires_grad\n",
    "        assert pred.size(0) == target.size(0)\n",
    "        assert pred.size(1) == target.size(1)\n",
    "        losses = []\n",
    "        for i, q in enumerate(self.quantiles):\n",
    "            errors = target.reshape(-1,1) - pred[:, :, i].reshape(-1,1)\n",
    "            losses.append(torch.max((q-1) * errors, q * errors).unsqueeze(1))\n",
    "        loss = torch.mean(torch.sum(torch.cat(losses, dim=1), dim=1))\n",
    "        return loss"
   ],
   "metadata": {
    "collapsed": false
   }
  },
  {
   "cell_type": "code",
   "execution_count": 37,
   "outputs": [],
   "source": [
    "torch.manual_seed(111)\n",
    "\n",
    "quantile_list = np.arange(1, 10) * 0.1\n",
    "\n",
    "pinball_loss_func = QuantileLoss(quantile_list)"
   ],
   "metadata": {
    "collapsed": false
   }
  },
  {
   "cell_type": "markdown",
   "source": [
    "### DEFINING MODEL ARCHITECTURE"
   ],
   "metadata": {
    "collapsed": false
   }
  },
  {
   "cell_type": "code",
   "execution_count": 38,
   "outputs": [],
   "source": [
    "config_args = easydict.EasyDict(\n",
    "        {\n",
    "            \"device\": torch.device(\"cuda\")\n",
    "            if torch.cuda.is_available()\n",
    "            else torch.device(\"cpu\"),\n",
    "            \"learning_rate\": 2e-4,\n",
    "            \"max_iter\": 1000,\n",
    "            \"epochs\": 25\n",
    "        }\n",
    "    )\n",
    "\n",
    "model_args = easydict.EasyDict(\n",
    "        {\n",
    "            \"d_input\": 6 + X_categorical_train.shape[1],     # Model input -> Continuous + Categorical\n",
    "            \"d_output\": 9,                                   # Model output -> Quantile predictions\n",
    "            \"d_model\": 16,                                   # Model latent dimension\n",
    "            \"q\": 3,                                          # Query and Key dimensions\n",
    "            \"v\": 3,                                          # Value dimensions\n",
    "            \"h\": 3,                                          # Number of heads\n",
    "            \"N\": 1,                                          # Number of stacked of encoder and decoder\n",
    "            \"attention_size\": 24,                            # Attention window\n",
    "            \"dropout\": 0.9,                                  # Dropout rate\n",
    "            \"pe\": \"regular\",                                 # Positional encoding used\n",
    "            \"chunk_mode\": None,                              # Default -> MultiHeadAttention\n",
    "        }\n",
    "    )\n",
    "\n",
    "# Making directories to store values\n",
    "if not os.path.exists(\"logs\"):\n",
    "    os.mkdir(\"logs\")\n",
    "if not os.path.exists(\"models\"):\n",
    "    os.mkdir(\"models\")"
   ],
   "metadata": {
    "collapsed": false
   }
  },
  {
   "cell_type": "markdown",
   "source": [
    "### INSTANTIATING MODELS -> VAE AND LSTM"
   ],
   "metadata": {
    "collapsed": false
   }
  },
  {
   "cell_type": "code",
   "execution_count": 39,
   "outputs": [
    {
     "name": "stdout",
     "output_type": "stream",
     "text": [
      "Number of vae models:  3\n"
     ]
    }
   ],
   "source": [
    "# Address for saved VAE models\n",
    "vae_dirname = os.path.join(os.path.dirname(os.getcwd()), \"VAE_LSTM\", \"vae_models\")\n",
    "\n",
    "# Loading the vae models\n",
    "vae_model_1 = torch.load(os.path.join(vae_dirname, \"L1_best_zone_1.pth\"))\n",
    "vae_model_2 = torch.load(os.path.join(vae_dirname, \"L1_best_zone_2.pth\"))\n",
    "vae_model_3 = torch.load(os.path.join(vae_dirname, \"L1_best_zone_3.pth\"))\n",
    "\n",
    "vae_models = nn.ModuleList([vae_model_1, vae_model_2, vae_model_3])\n",
    "print(\"Number of vae models: \", len(vae_models))"
   ],
   "metadata": {
    "collapsed": false
   }
  },
  {
   "cell_type": "code",
   "execution_count": 40,
   "outputs": [
    {
     "name": "stdout",
     "output_type": "stream",
     "text": [
      "Number of transformer models:  3\n"
     ]
    }
   ],
   "source": [
    "# Instantiating transformer corresponding to each zone\n",
    "transformer_model = Transformer(model_args.d_input, model_args.d_model, model_args.d_output,\n",
    "                                model_args.q, model_args.v, model_args.h, model_args.N,\n",
    "                                attention_size=model_args.attention_size, dropout=model_args.dropout,\n",
    "                                chunk_mode=model_args.chunk_mode, pe=model_args.pe).to(device)\n",
    "\n",
    "transformer_models = nn.ModuleList([transformer_model for _ in range(num_zones)])\n",
    "print(\"Number of transformer models: \", len(transformer_models))"
   ],
   "metadata": {
    "collapsed": false
   }
  },
  {
   "cell_type": "code",
   "execution_count": 41,
   "outputs": [],
   "source": [
    "class VAE_TRANSFORMER(nn.Module):\n",
    "    def __init__(self, zonal_vae, zonal_transformer):\n",
    "        super(VAE_TRANSFORMER, self).__init__()\n",
    "        self.zonal_vae = zonal_vae\n",
    "        self.zonal_transformer = zonal_transformer\n",
    "\n",
    "    def forward(self, categorical, zonal_continuous):\n",
    "        out_var = self.zonal_vae(zonal_continuous)\n",
    "        in_transformer = torch.cat((categorical, zonal_continuous, out_var[1]), axis=-1)\n",
    "        out_transformer = self.zonal_transformer(in_transformer)\n",
    "        return out_var, out_transformer"
   ],
   "metadata": {
    "collapsed": false
   }
  },
  {
   "cell_type": "code",
   "execution_count": 42,
   "outputs": [],
   "source": [
    "def pinball(yhat, tau, y):\n",
    "    if yhat >= y:\n",
    "        score = (1 - tau) * (yhat - y)\n",
    "    else:\n",
    "        score = tau * (y - yhat)\n",
    "    return score"
   ],
   "metadata": {
    "collapsed": false
   }
  },
  {
   "cell_type": "code",
   "execution_count": 43,
   "outputs": [],
   "source": [
    "def frozen_param_model(net):\n",
    "    for name, param in net.named_parameters():\n",
    "        if param.requires_grad and 'zonal_vae' in name:\n",
    "            param.requires_grad = False\n",
    "\n",
    "    non_frozen_param = [p for p in net.parameters() if p.requires_grad]\n",
    "    return non_frozen_param"
   ],
   "metadata": {
    "collapsed": false
   }
  },
  {
   "cell_type": "code",
   "execution_count": 44,
   "outputs": [],
   "source": [
    "def save_checkpoint(model, filename):\n",
    "    torch.save(model.state_dict(), filename)\n",
    "\n",
    "def load_from_checkpoint(model, filename):\n",
    "    model.load_state_dict(torch.load(filename))\n",
    "    return model\n",
    "\n",
    "def init_weights(model):\n",
    "    if isinstance(model, nn.Linear):\n",
    "        torch.nn.init.kaiming_uniform_(model.weight, nonlinearity='relu')\n",
    "        model.bias.data.fill_(0.01)"
   ],
   "metadata": {
    "collapsed": false
   }
  },
  {
   "cell_type": "markdown",
   "source": [
    "### DEFINING ZONAL MODEL"
   ],
   "metadata": {
    "collapsed": false
   }
  },
  {
   "cell_type": "code",
   "execution_count": 45,
   "outputs": [],
   "source": [
    "model_1 = VAE_TRANSFORMER(vae_models[0], transformer_models[0]).apply(init_weights)\n",
    "model_2 = VAE_TRANSFORMER(vae_models[1], transformer_models[1]).apply(init_weights)\n",
    "model_3 = VAE_TRANSFORMER(vae_models[2], transformer_models[2]).apply(init_weights)"
   ],
   "metadata": {
    "collapsed": false
   }
  },
  {
   "cell_type": "code",
   "execution_count": 46,
   "outputs": [],
   "source": [
    "# Defining optimizer with frozen vae parameters -> Just training the Transformer\n",
    "optimizer_1 = optim.Adam(frozen_param_model(model_1), lr=config_args.learning_rate)\n",
    "optimizer_2 = optim.Adam(frozen_param_model(model_2), lr=config_args.learning_rate)\n",
    "optimizer_3 = optim.Adam(frozen_param_model(model_3), lr=config_args.learning_rate)"
   ],
   "metadata": {
    "collapsed": false
   }
  },
  {
   "cell_type": "markdown",
   "source": [
    "### PERFORMING MODEL TRAINING"
   ],
   "metadata": {
    "collapsed": false
   }
  },
  {
   "cell_type": "code",
   "execution_count": 47,
   "outputs": [
    {
     "name": "stderr",
     "output_type": "stream",
     "text": [
      "[Epoch   1/25]: 100%|██████████| 34873/34873 [00:35<00:00, 973.76it/s, loss_1=0.687, loss_2=0.716, loss_3=0.696]    \n",
      "[Epoch   2/25]: 100%|██████████| 34873/34873 [00:35<00:00, 991.42it/s, loss_1=0.463, loss_2=0.487, loss_3=0.49]      \n",
      "[Epoch   3/25]: 100%|██████████| 34873/34873 [00:35<00:00, 983.72it/s, loss_1=0.409, loss_2=0.436, loss_3=0.437]    \n",
      "[Epoch   4/25]: 100%|██████████| 34873/34873 [00:35<00:00, 981.48it/s, loss_1=0.344, loss_2=0.372, loss_3=0.365]     \n",
      "[Epoch   5/25]: 100%|██████████| 34873/34873 [00:35<00:00, 981.47it/s, loss_1=0.295, loss_2=0.322, loss_3=0.312]     \n",
      "[Epoch   6/25]: 100%|██████████| 34873/34873 [00:35<00:00, 982.77it/s, loss_1=0.273, loss_2=0.297, loss_3=0.287]     \n",
      "[Epoch   7/25]: 100%|██████████| 34873/34873 [00:35<00:00, 980.18it/s, loss_1=0.258, loss_2=0.282, loss_3=0.271]     \n",
      "[Epoch   8/25]: 100%|██████████| 34873/34873 [00:35<00:00, 994.59it/s, loss_1=0.249, loss_2=0.272, loss_3=0.26]        \n",
      "[Epoch   9/25]: 100%|██████████| 34873/34873 [00:35<00:00, 995.04it/s, loss_1=0.24, loss_2=0.262, loss_3=0.25]        \n",
      "[Epoch  10/25]: 100%|██████████| 34873/34873 [00:35<00:00, 995.48it/s, loss_1=0.232, loss_2=0.251, loss_3=0.241]       \n",
      "[Epoch  11/25]: 100%|██████████| 34873/34873 [00:34<00:00, 998.56it/s, loss_1=0.217, loss_2=0.229, loss_3=0.227]       \n",
      "[Epoch  12/25]: 100%|██████████| 34873/34873 [00:35<00:00, 992.78it/s, loss_1=0.205, loss_2=0.209, loss_3=0.216]       \n",
      "[Epoch  13/25]: 100%|██████████| 34873/34873 [00:35<00:00, 987.07it/s, loss_1=0.197, loss_2=0.199, loss_3=0.207]       \n",
      "[Epoch  14/25]: 100%|██████████| 34873/34873 [00:35<00:00, 987.51it/s, loss_1=0.191, loss_2=0.192, loss_3=0.201]        \n",
      "[Epoch  15/25]: 100%|██████████| 34873/34873 [00:35<00:00, 987.07it/s, loss_1=0.188, loss_2=0.187, loss_3=0.197]       \n",
      "[Epoch  16/25]: 100%|██████████| 34873/34873 [00:35<00:00, 984.89it/s, loss_1=0.185, loss_2=0.184, loss_3=0.193]      \n",
      "[Epoch  17/25]: 100%|██████████| 34873/34873 [00:35<00:00, 984.89it/s, loss_1=0.183, loss_2=0.181, loss_3=0.191]       \n",
      "[Epoch  18/25]: 100%|██████████| 34873/34873 [00:35<00:00, 986.20it/s, loss_1=0.181, loss_2=0.179, loss_3=0.189]        \n",
      "[Epoch  19/25]: 100%|██████████| 34873/34873 [00:35<00:00, 986.21it/s, loss_1=0.181, loss_2=0.178, loss_3=0.188]       \n",
      "[Epoch  20/25]: 100%|██████████| 34873/34873 [00:35<00:00, 987.56it/s, loss_1=0.179, loss_2=0.176, loss_3=0.187]        \n",
      "[Epoch  21/25]: 100%|██████████| 34873/34873 [00:35<00:00, 985.38it/s, loss_1=0.177, loss_2=0.174, loss_3=0.184]      \n",
      "[Epoch  22/25]: 100%|██████████| 34873/34873 [00:35<00:00, 984.50it/s, loss_1=0.176, loss_2=0.174, loss_3=0.184]        \n",
      "[Epoch  23/25]: 100%|██████████| 34873/34873 [00:35<00:00, 986.24it/s, loss_1=0.176, loss_2=0.173, loss_3=0.183]       \n",
      "[Epoch  24/25]: 100%|██████████| 34873/34873 [00:35<00:00, 981.91it/s, loss_1=0.175, loss_2=0.172, loss_3=0.182]        \n",
      "[Epoch  25/25]: 100%|██████████| 34873/34873 [00:35<00:00, 986.24it/s, loss_1=0.173, loss_2=0.171, loss_3=0.18]         \n"
     ]
    },
    {
     "name": "stdout",
     "output_type": "stream",
     "text": [
      "All model stopped training at the end of epoch and final checkpoint saved !\n"
     ]
    },
    {
     "data": {
      "text/plain": "<Figure size 640x480 with 1 Axes>",
      "image/png": "[encoded data removed]"
     },
     "metadata": {},
     "output_type": "display_data"
    },
    {
     "data": {
      "text/plain": "<Figure size 640x480 with 1 Axes>",
      "image/png": "[encoded data removed]"
     },
     "metadata": {},
     "output_type": "display_data"
    },
    {
     "data": {
      "text/plain": "<Figure size 640x480 with 1 Axes>",
      "image/png": "[encoded data removed]"
     },
     "metadata": {},
     "output_type": "display_data"
    },
    {
     "name": "stdout",
     "output_type": "stream",
     "text": [
      "\n",
      "Total time of training: 0.24930957973003387 hours\n"
     ]
    }
   ],
   "source": [
    "start_time = time.time()\n",
    "\n",
    "hist_loss_1 = np.zeros(config_args.epochs)\n",
    "hist_loss_2 = np.zeros(config_args.epochs)\n",
    "hist_loss_3 = np.zeros(config_args.epochs)\n",
    "\n",
    "for epoch in range(config_args.epochs):\n",
    "\n",
    "    # Switching all models in training mode\n",
    "    model_1.train()\n",
    "    model_2.train()\n",
    "    model_3.train()\n",
    "\n",
    "    running_loss_1 = 0\n",
    "    running_loss_2 = 0\n",
    "    running_loss_3 = 0\n",
    "\n",
    "    with tqdm(total=len(train_dataloader.dataset),\n",
    "              desc=f\"[Epoch {epoch+1:3d}/{config_args.epochs}]\") as pbar:\n",
    "\n",
    "        for batch, (categorical_var, continuous_var, target_var) in enumerate(train_dataloader):\n",
    "\n",
    "            # Setting the gradients to zero\n",
    "            optimizer_1.zero_grad()\n",
    "            optimizer_2.zero_grad()\n",
    "            optimizer_3.zero_grad()\n",
    "\n",
    "            # The categorical variables are common for all zones.\n",
    "            common_categorical = copy.deepcopy(categorical_var).to(device)\n",
    "\n",
    "            zone_1_continuous = copy.deepcopy(continuous_var[:, :, 0:3]).to(device)\n",
    "            zone_2_continuous = copy.deepcopy(continuous_var[:, :, 3:6]).to(device)\n",
    "            zone_3_continuous = copy.deepcopy(continuous_var[:, :, 6:9]).to(device)\n",
    "\n",
    "            zone_1_target = copy.deepcopy(target_var[:, :, 0:1])\n",
    "            zone_2_target = copy.deepcopy(target_var[:, :, 1:2])\n",
    "            zone_3_target = copy.deepcopy(target_var[:, :, 2:3])\n",
    "\n",
    "            # Propagating through the network\n",
    "            out_vae_1, out_transformer_1 = model_1(common_categorical, zone_1_continuous)\n",
    "            out_vae_2, out_transformer_2 = model_2(common_categorical, zone_2_continuous)\n",
    "            out_vae_3, out_transformer_3 = model_3(common_categorical, zone_3_continuous)\n",
    "\n",
    "            # Calculating the pinball loss\n",
    "            loss_1 = pinball_loss_func(out_transformer_1, zone_1_target.to(device))\n",
    "            loss_2 = pinball_loss_func(out_transformer_2, zone_2_target.to(device))\n",
    "            loss_3 = pinball_loss_func(out_transformer_3, zone_3_target.to(device))\n",
    "\n",
    "            # Back-Propagating the loss\n",
    "            loss_1.backward()\n",
    "            loss_2.backward()\n",
    "            loss_3.backward()\n",
    "\n",
    "            # Updating the parameters\n",
    "            optimizer_1.step()\n",
    "            optimizer_2.step()\n",
    "            optimizer_3.step()\n",
    "\n",
    "            # Accumulating the running loss\n",
    "            running_loss_1 += loss_1.item()\n",
    "            running_loss_2 += loss_2.item()\n",
    "            running_loss_3 += loss_3.item()\n",
    "\n",
    "            pbar.set_postfix({\n",
    "                'loss_1': running_loss_1/(batch+1),\n",
    "                'loss_2': running_loss_2/(batch+1),\n",
    "                'loss_3': running_loss_3/(batch+1)\n",
    "                              })\n",
    "            pbar.update(zone_1_continuous.shape[0])\n",
    "\n",
    "            train_loss_1 = running_loss_1/len(train_dataloader)\n",
    "            train_loss_2 = running_loss_2/len(train_dataloader)\n",
    "            train_loss_3 = running_loss_3/len(train_dataloader)\n",
    "\n",
    "            pbar.set_postfix({\n",
    "                'loss_1': train_loss_1,\n",
    "                'loss_2': train_loss_2,\n",
    "                'loss_3': train_loss_3,\n",
    "                              })\n",
    "\n",
    "            hist_loss_1[epoch] = train_loss_1\n",
    "            hist_loss_2[epoch] = train_loss_2\n",
    "            hist_loss_3[epoch] = train_loss_3\n",
    "\n",
    "\n",
    "print(\"All model stopped training at the end of epoch and final checkpoint saved !\")\n",
    "save_checkpoint(model_1, os.path.join(os.getcwd(), \"vae_transformer_checkpoint\",\n",
    "                                                      \"vae_transformer_best_1.pth\"))\n",
    "save_checkpoint(model_2, os.path.join(os.getcwd(), \"vae_transformer_checkpoint\",\n",
    "                                                      \"vae_transformer_best_2.pth\"))\n",
    "save_checkpoint(model_3, os.path.join(os.getcwd(), \"vae_transformer_checkpoint\",\n",
    "                                                      \"vae_transformer_best_3.pth\"))\n",
    "\n",
    "plt.plot(np.trim_zeros(hist_loss_1, 'b'), 'o-', label='train')\n",
    "plt.legend()\n",
    "plt.show()\n",
    "\n",
    "plt.plot(np.trim_zeros(hist_loss_2, 'b'), 'o-', label='train')\n",
    "plt.legend()\n",
    "plt.show()\n",
    "\n",
    "plt.plot(np.trim_zeros(hist_loss_3, 'b'), 'o-', label='train')\n",
    "plt.legend()\n",
    "plt.show()\n",
    "\n",
    "end_time = time.time()\n",
    "\n",
    "total_time = end_time - start_time\n",
    "print(\"\\nTotal time of training: {} hours\".format(total_time/3600))"
   ],
   "metadata": {
    "collapsed": false
   }
  },
  {
   "cell_type": "markdown",
   "source": [
    "### LOADING AND GENERATING RESULTS ON TEST DATALOADER"
   ],
   "metadata": {
    "collapsed": false
   }
  },
  {
   "cell_type": "code",
   "execution_count": 48,
   "outputs": [],
   "source": [
    "# Loading the models\n",
    "best_vae_transformer_1 = load_from_checkpoint(model_1, os.path.join(os.getcwd(),\n",
    "                                                                    \"vae_transformer_checkpoint\",\n",
    "                                                                    \"vae_transformer_best_1.pth\"))\n",
    "best_vae_transformer_2 = load_from_checkpoint(model_2, os.path.join(os.getcwd(),\n",
    "                                                                    \"vae_transformer_checkpoint\",\n",
    "                                                                    \"vae_transformer_best_2.pth\"))\n",
    "best_vae_transformer_3 = load_from_checkpoint(model_3, os.path.join(os.getcwd(),\n",
    "                                                                    \"vae_transformer_checkpoint\",\n",
    "                                                                    \"vae_transformer_best_3.pth\"))"
   ],
   "metadata": {
    "collapsed": false
   }
  },
  {
   "cell_type": "code",
   "execution_count": 49,
   "outputs": [
    {
     "name": "stderr",
     "output_type": "stream",
     "text": [
      "100%|██████████| 3/3 [00:00<00:00, 10.11it/s]\n"
     ]
    }
   ],
   "source": [
    "quantile_pred_1 = np.empty(shape=(len(test_dataloader.dataset), 24, model_args.d_output))\n",
    "quantile_pred_2 = np.empty(shape=(len(test_dataloader.dataset), 24, model_args.d_output))\n",
    "quantile_pred_3 = np.empty(shape=(len(test_dataloader.dataset), 24, model_args.d_output))\n",
    "idx_pred_1 = 0\n",
    "idx_pred_2 = 0\n",
    "idx_pred_3 = 0\n",
    "\n",
    "# Switching all models to eval mode\n",
    "model_1.eval()\n",
    "model_2.eval()\n",
    "model_3.eval()\n",
    "\n",
    "with torch.no_grad():\n",
    "    for (categorical_var, continuous_var, target_var) in tqdm(test_dataloader, total=len(test_dataloader)):\n",
    "\n",
    "        # The categorical variables are common for all zones.\n",
    "        common_categorical = copy.deepcopy(categorical_var).to(device)\n",
    "\n",
    "        zone_1_continuous = copy.deepcopy(continuous_var[:, :, 0:3]).to(device)\n",
    "        zone_2_continuous = copy.deepcopy(continuous_var[:, :, 3:6]).to(device)\n",
    "        zone_3_continuous = copy.deepcopy(continuous_var[:, :, 6:9]).to(device)\n",
    "\n",
    "        zone_1_target = copy.deepcopy(target_var[:, :, 0:1])\n",
    "        zone_2_target = copy.deepcopy(target_var[:, :, 1:2])\n",
    "        zone_3_target = copy.deepcopy(target_var[:, :, 2:3])\n",
    "\n",
    "        # Propagating through the network\n",
    "        out_vae_1, out_transformer_1 = model_1(common_categorical, zone_1_continuous)\n",
    "        out_vae_2, out_transformer_2 = model_2(common_categorical, zone_2_continuous)\n",
    "        out_vae_3, out_transformer_3 = model_3(common_categorical, zone_3_continuous)\n",
    "\n",
    "        # Concatenating the predictions\n",
    "        quantile_pred_1[idx_pred_1:idx_pred_1+zone_1_continuous.shape[0]] = out_transformer_1.cpu().numpy()\n",
    "\n",
    "        quantile_pred_2[idx_pred_2:idx_pred_2+zone_2_continuous.shape[0]] = out_transformer_2.cpu().numpy()\n",
    "\n",
    "        quantile_pred_3[idx_pred_3:idx_pred_3+zone_3_continuous.shape[0]] = out_transformer_3.cpu().numpy()\n",
    "\n",
    "        idx_pred_1 += zone_1_continuous.shape[0]\n",
    "        idx_pred_2 += zone_2_continuous.shape[0]\n",
    "        idx_pred_3 += zone_3_continuous.shape[0]"
   ],
   "metadata": {
    "collapsed": false
   }
  },
  {
   "cell_type": "markdown",
   "source": [
    "#### FORMATTING PREDICTED AND TRUE DATA FOR GENERATING RESULTS"
   ],
   "metadata": {
    "collapsed": false
   }
  },
  {
   "cell_type": "code",
   "execution_count": 50,
   "outputs": [
    {
     "data": {
      "text/plain": "(8760, 9)"
     },
     "execution_count": 50,
     "metadata": {},
     "output_type": "execute_result"
    }
   ],
   "source": [
    "# Reshaping the predicted quantiles\n",
    "quantile_pred_arr_1 = quantile_pred_1.reshape(-1, model_args.d_output)\n",
    "quantile_pred_arr_2 = quantile_pred_2.reshape(-1, model_args.d_output)\n",
    "quantile_pred_arr_3 = quantile_pred_3.reshape(-1, model_args.d_output)\n",
    "\n",
    "quantile_pred_arr_1.shape"
   ],
   "metadata": {
    "collapsed": false
   }
  },
  {
   "cell_type": "code",
   "execution_count": 51,
   "outputs": [
    {
     "data": {
      "text/plain": "(8760, 9)"
     },
     "execution_count": 51,
     "metadata": {},
     "output_type": "execute_result"
    }
   ],
   "source": [
    "quantile_pred_1_inv = quantile_pred_arr_1 * (mm_scaler_Y.data_max_[0] - mm_scaler_Y.data_min_[0]) + mm_scaler_Y.data_min_[0]\n",
    "quantile_pred_2_inv = quantile_pred_arr_2 * (mm_scaler_Y.data_max_[1] - mm_scaler_Y.data_min_[1]) + mm_scaler_Y.data_min_[1]\n",
    "quantile_pred_3_inv = quantile_pred_arr_3 * (mm_scaler_Y.data_max_[2] - mm_scaler_Y.data_min_[2]) + mm_scaler_Y.data_min_[2]\n",
    "\n",
    "quantile_pred_arr_1.shape"
   ],
   "metadata": {
    "collapsed": false
   }
  },
  {
   "cell_type": "code",
   "execution_count": 52,
   "outputs": [
    {
     "data": {
      "text/plain": "(8760, 1)"
     },
     "execution_count": 52,
     "metadata": {},
     "output_type": "execute_result"
    }
   ],
   "source": [
    "# Reshaping the true data\n",
    "Y_test_1 = target_samples_testing[:, :, 0:1]\n",
    "Y_test_2 = target_samples_testing[:, :, 1:2]\n",
    "Y_test_3 = target_samples_testing[:, :, 2:3]\n",
    "\n",
    "yArr_1 = Y_test_1.reshape(Y_test_1.shape[0] * Y_test_1.shape[1], Y_test_1.shape[2]).numpy()\n",
    "yArr_2 = Y_test_2.reshape(Y_test_2.shape[0] * Y_test_2.shape[1], Y_test_2.shape[2]).numpy()\n",
    "yArr_3 = Y_test_3.reshape(Y_test_3.shape[0] * Y_test_3.shape[1], Y_test_3.shape[2]).numpy()\n",
    "\n",
    "yArr_1.shape"
   ],
   "metadata": {
    "collapsed": false
   }
  },
  {
   "cell_type": "code",
   "execution_count": 53,
   "outputs": [],
   "source": [
    "yArr_1_inv = yArr_1 * (mm_scaler_Y.data_max_[0] - mm_scaler_Y.data_min_[0]) + mm_scaler_Y.data_min_[0]\n",
    "yArr_2_inv = yArr_2 * (mm_scaler_Y.data_max_[1] - mm_scaler_Y.data_min_[1]) + mm_scaler_Y.data_min_[1]\n",
    "yArr_3_inv = yArr_3 * (mm_scaler_Y.data_max_[2] - mm_scaler_Y.data_min_[2]) + mm_scaler_Y.data_min_[2]"
   ],
   "metadata": {
    "collapsed": false
   }
  },
  {
   "cell_type": "markdown",
   "source": [
    "#### CALCULATING THE PINBALL LOSS SCORE"
   ],
   "metadata": {
    "collapsed": false
   }
  },
  {
   "cell_type": "code",
   "execution_count": 54,
   "outputs": [],
   "source": [
    "def pinball_score_zone(quantile_pred_arr, true_data_arr):\n",
    "    pinball_trans = np.array([np.mean([pinball(quantile_pred_arr[t, i], tau, true_data_arr[t]) for t in range(len(true_data_arr))]) for i, tau in enumerate(quantile_list)])\n",
    "    return pinball_trans.mean()"
   ],
   "metadata": {
    "collapsed": false
   }
  },
  {
   "cell_type": "code",
   "execution_count": 55,
   "outputs": [
    {
     "name": "stdout",
     "output_type": "stream",
     "text": [
      "Zone 1 - Mean Pinball Loss:  881.407\n"
     ]
    }
   ],
   "source": [
    "pinball_loss_mean_1 = pinball_score_zone(quantile_pred_1_inv, yArr_1_inv)\n",
    "print(\"Zone 1 - Mean Pinball Loss: \", pinball_loss_mean_1)"
   ],
   "metadata": {
    "collapsed": false
   }
  },
  {
   "cell_type": "code",
   "execution_count": 56,
   "outputs": [
    {
     "name": "stdout",
     "output_type": "stream",
     "text": [
      "Zone 2 - Mean Pinball Loss:  320.0101\n"
     ]
    }
   ],
   "source": [
    "pinball_loss_mean_2 = pinball_score_zone(quantile_pred_2_inv, yArr_2_inv)\n",
    "print(\"Zone 2 - Mean Pinball Loss: \", pinball_loss_mean_2)"
   ],
   "metadata": {
    "collapsed": false
   }
  },
  {
   "cell_type": "code",
   "execution_count": 57,
   "outputs": [
    {
     "name": "stdout",
     "output_type": "stream",
     "text": [
      "Zone 3 - Mean Pinball Loss:  1083.175\n"
     ]
    }
   ],
   "source": [
    "pinball_loss_mean_3 = pinball_score_zone(quantile_pred_3_inv, yArr_3_inv)\n",
    "print(\"Zone 3 - Mean Pinball Loss: \", pinball_loss_mean_3)"
   ],
   "metadata": {
    "collapsed": false
   }
  },
  {
   "cell_type": "code",
   "execution_count": 58,
   "outputs": [
    {
     "name": "stdout",
     "output_type": "stream",
     "text": [
      "Saving the best trained models.\n",
      "Saved !\n"
     ]
    }
   ],
   "source": [
    "print(\"Saving the best trained models.\")\n",
    "\n",
    "# Saving the models\n",
    "torch.save(best_vae_transformer_1, f\"vae_transformer_models/L1_vae_transformer_1.pth\")\n",
    "torch.save(best_vae_transformer_2, f\"vae_transformer_models/L1_vae_transformer_2.pth\")\n",
    "torch.save(best_vae_transformer_3, f\"vae_transformer_models/L1_vae_transformer_3.pth\")\n",
    "\n",
    "print(\"Saved !\")"
   ],
   "metadata": {
    "collapsed": false
   }
  },
  {
   "cell_type": "code",
   "execution_count": 59,
   "outputs": [
    {
     "name": "stdout",
     "output_type": "stream",
     "text": [
      "Results saved !\n"
     ]
    }
   ],
   "source": [
    "resultsDf = pd.DataFrame()\n",
    "resultsDf[\"zone\"] = [i.removesuffix('.csv') for i in fileList]\n",
    "resultsDf[\"pinball_loss\"] = [\n",
    "    pinball_loss_mean_1, pinball_loss_mean_2, pinball_loss_mean_3\n",
    "]\n",
    "\n",
    "resultsDf.to_csv(os.path.join(\"results\", dataset + \".csv\"), index=False)\n",
    "print(\"Results saved !\")"
   ],
   "metadata": {
    "collapsed": false
   }
  },
  {
   "cell_type": "code",
   "execution_count": 60,
   "outputs": [
    {
     "data": {
      "text/plain": "{'status': 'ok', 'restart': True}"
     },
     "execution_count": 60,
     "metadata": {},
     "output_type": "execute_result"
    }
   ],
   "source": [
    "import IPython\n",
    "app = IPython.Application.instance()\n",
    "app.kernel.do_shutdown(True)"
   ],
   "metadata": {
    "collapsed": false
   }
  }
 ],
 "metadata": {
  "kernelspec": {
   "display_name": "Python 3",
   "language": "python",
   "name": "python3"
  },
  "language_info": {
   "codemirror_mode": {
    "name": "ipython",
    "version": 2
   },
   "file_extension": ".py",
   "mimetype": "text/x-python",
   "name": "python",
   "nbconvert_exporter": "python",
   "pygments_lexer": "ipython2",
   "version": "2.7.6"
  }
 },
 "nbformat": 4,
 "nbformat_minor": 0
}
