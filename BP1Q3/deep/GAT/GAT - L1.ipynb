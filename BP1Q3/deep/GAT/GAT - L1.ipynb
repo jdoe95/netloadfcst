{
 "cells": [
  {
   "cell_type": "code",
   "execution_count": 1,
   "id": "9aa48d2f",
   "metadata": {},
   "outputs": [
    {
     "name": "stderr",
     "output_type": "stream",
     "text": [
      "c:\\users\\sashah8\\appdata\\local\\programs\\python\\python39\\lib\\site-packages\\tqdm\\auto.py:22: TqdmWarning: IProgress not found. Please update jupyter and ipywidgets. See https://ipywidgets.readthedocs.io/en/stable/user_install.html\n",
      "  from .autonotebook import tqdm as notebook_tqdm\n"
     ]
    }
   ],
   "source": [
    "# Importing required libraries\n",
    "from IPython.display import display\n",
    "import numpy as np\n",
    "import pandas as pd\n",
    "import random\n",
    "import argparse\n",
    "from torch.autograd import Variable\n",
    "import torch.nn as nn\n",
    "import torch.optim as optim\n",
    "import torch\n",
    "import torch.nn.functional as F\n",
    "from torch.utils.data import TensorDataset, DataLoader\n",
    "from sklearn.preprocessing import MinMaxScaler\n",
    "import os\n",
    "import glob"
   ]
  },
  {
   "cell_type": "code",
   "execution_count": 3,
   "id": "8318ebf3",
   "metadata": {},
   "outputs": [],
   "source": [
    "def mape(y_true, y_pred):\n",
    "    y_true, y_pred = np.array(y_true), np.array(y_pred)\n",
    "    return np.mean(np.abs((y_true - y_pred) / max(y_true))) * 100\n",
    "\n",
    "def RMSELoss(yhat,y):\n",
    "    return torch.sqrt(torch.mean((yhat-y)**2))"
   ]
  },
  {
   "cell_type": "code",
   "execution_count": 4,
   "id": "4373dbcb",
   "metadata": {},
   "outputs": [],
   "source": [
    "class GraphAttentionLayer(nn.Module):\n",
    "\n",
    "    def __init__(self, in_features, out_features, dropout, alpha, concat=True):\n",
    "        super(GraphAttentionLayer, self).__init__()\n",
    "        self.dropout = dropout\n",
    "        self.in_features = in_features\n",
    "        self.out_features = out_features\n",
    "        self.alpha = alpha\n",
    "        self.concat = concat\n",
    "        \n",
    "        # Initializing weights and activations\n",
    "        self.W = nn.Parameter(torch.zeros(size=(in_features, out_features)))\n",
    "        nn.init.xavier_uniform_(self.W.data, gain=1.414)\n",
    "        self.a = nn.Parameter(torch.zeros(size=(2*out_features, 1)))\n",
    "        nn.init.xavier_uniform_(self.a.data, gain=1.414)\n",
    "\n",
    "        self.leakyrelu = nn.LeakyReLU(self.alpha)\n",
    "        \n",
    "        \n",
    "    def _prepare_attentional_mechanism_input(self, Wh):\n",
    "        Wh1 = torch.matmul(Wh, self.a[:self.out_features, :])\n",
    "        Wh2 = torch.matmul(Wh, self.a[self.out_features:, :])\n",
    "        e = Wh1 + Wh2.T\n",
    "        return self.leakyrelu(e)\n",
    "    \n",
    "\n",
    "    def forward(self, input, adj):\n",
    "        \n",
    "        # Applying linear transformation to each node\n",
    "        Wh = torch.mm(input, self.W)\n",
    "        \n",
    "        # Performing the dot product of a_input & activations and applying leakyReLU to the dot product\n",
    "        e = self._prepare_attentional_mechanism_input(Wh)\n",
    "        \n",
    "        # Returning a tensor filled with 1, with the same shape\n",
    "        zero_vec = -9e15*torch.ones_like(e) \n",
    "        \n",
    "        # If nodes not connected then put attention equal to zero\n",
    "        attention = torch.where(adj > 0, e, zero_vec)\n",
    "        \n",
    "        # Applying softmax to the attentions\n",
    "        attention = F.softmax(attention, dim=1)\n",
    "        # attention = F.softmax(e, dim=1)\n",
    "        \n",
    "        # Applying dropout to avoid overfitting\n",
    "        attention = F.dropout(attention, self.dropout, training=self.training)\n",
    "        \n",
    "        # Embeddings are aggregated from neighbors and scaled by the attentions\n",
    "        h_prime = torch.matmul(attention, Wh)\n",
    "        \n",
    "        # For aggregation in intermediate layers, we apply concat and in final layer aggregation we apply average.\n",
    "        if self.concat:\n",
    "            return F.elu(h_prime)\n",
    "        else:\n",
    "            return h_prime\n",
    "    \n",
    "\n",
    "    def __repr__(self):\n",
    "        return self.__class__.__name__ + ' (' + str(self.in_features) + ' -> ' + str(self.out_features) + ')'"
   ]
  },
  {
   "cell_type": "code",
   "execution_count": 5,
   "id": "518444fc",
   "metadata": {},
   "outputs": [],
   "source": [
    "class GAT(nn.Module):\n",
    "    def __init__(self, nfeat, nhid, nclass, dropout, alpha, nheads):\n",
    "        \"\"\"Dense version of GAT.\"\"\"\n",
    "        super(GAT, self).__init__()\n",
    "        self.dropout = dropout\n",
    "        self.nclass = nclass\n",
    "        \n",
    "        # Concatenating the outputs with all the heads from intermediate layers \n",
    "        self.attentions = [GraphAttentionLayer(nfeat, nhid, dropout=dropout, alpha=alpha, concat=True) for _ in range(nheads)]\n",
    "        for i, attention in enumerate(self.attentions):\n",
    "            self.add_module('attention_{}'.format(i), attention)\n",
    "  \n",
    "        self.out_att = GraphAttentionLayer(nhid * nheads, nclass, dropout=dropout, alpha=alpha, concat=False)\n",
    "        \n",
    "        self.linears = torch.nn.ModuleList([torch.nn.Linear(nclass, 1) for _ in range(nclass)])\n",
    "        \n",
    "        \n",
    "\n",
    "    def forward(self, x, adj):\n",
    "        x = F.dropout(x, self.dropout, training=self.training)\n",
    "        x = torch.cat([att(x, adj) for att in self.attentions], dim=1)\n",
    "        x = F.dropout(x, self.dropout, training=self.training)\n",
    "        x = F.relu(self.out_att(x, adj))\n",
    "        out = [self.linears[i](x[i, :]) for i in range(self.nclass)]\n",
    "\n",
    "        return out"
   ]
  },
  {
   "cell_type": "markdown",
   "id": "cc44d954",
   "metadata": {},
   "source": [
    "## Processing the file to input into the model"
   ]
  },
  {
   "cell_type": "code",
   "execution_count": 6,
   "id": "11de1c47",
   "metadata": {},
   "outputs": [
    {
     "name": "stdout",
     "output_type": "stream",
     "text": [
      "['MIDATL.csv', 'SOUTH.csv', 'WEST.csv']\n"
     ]
    }
   ],
   "source": [
    "# Specifying the path of file\n",
    "path= r\"C:\\Users\\sashah8\\OneDrive - North Carolina State University\\Desktop\\DOE\\DOE_Q1\\L1\\data_cleaned\"\n",
    "\n",
    "# Listing just the required files\n",
    "fileList = os.listdir(path)\n",
    "fileList.remove(\"Date.csv\")\n",
    "\n",
    "# Previewing the required file names\n",
    "print(fileList)"
   ]
  },
  {
   "cell_type": "code",
   "execution_count": 7,
   "id": "80a72cc3",
   "metadata": {},
   "outputs": [
    {
     "data": {
      "text/html": [
       "<div>\n",
       "<style scoped>\n",
       "    .dataframe tbody tr th:only-of-type {\n",
       "        vertical-align: middle;\n",
       "    }\n",
       "\n",
       "    .dataframe tbody tr th {\n",
       "        vertical-align: top;\n",
       "    }\n",
       "\n",
       "    .dataframe thead th {\n",
       "        text-align: right;\n",
       "    }\n",
       "</style>\n",
       "<table border=\"1\" class=\"dataframe\">\n",
       "  <thead>\n",
       "    <tr style=\"text-align: right;\">\n",
       "      <th></th>\n",
       "      <th>Net</th>\n",
       "      <th>Temperature</th>\n",
       "    </tr>\n",
       "  </thead>\n",
       "  <tbody>\n",
       "    <tr>\n",
       "      <th>0</th>\n",
       "      <td>31660.636</td>\n",
       "      <td>-7.6</td>\n",
       "    </tr>\n",
       "    <tr>\n",
       "      <th>1</th>\n",
       "      <td>30766.066</td>\n",
       "      <td>-8.4</td>\n",
       "    </tr>\n",
       "    <tr>\n",
       "      <th>2</th>\n",
       "      <td>30201.596</td>\n",
       "      <td>-8.3</td>\n",
       "    </tr>\n",
       "    <tr>\n",
       "      <th>3</th>\n",
       "      <td>29901.406</td>\n",
       "      <td>-6.8</td>\n",
       "    </tr>\n",
       "    <tr>\n",
       "      <th>4</th>\n",
       "      <td>30084.427</td>\n",
       "      <td>-7.0</td>\n",
       "    </tr>\n",
       "    <tr>\n",
       "      <th>...</th>\n",
       "      <td>...</td>\n",
       "      <td>...</td>\n",
       "    </tr>\n",
       "    <tr>\n",
       "      <th>43819</th>\n",
       "      <td>31844.076</td>\n",
       "      <td>4.8</td>\n",
       "    </tr>\n",
       "    <tr>\n",
       "      <th>43820</th>\n",
       "      <td>30687.078</td>\n",
       "      <td>4.4</td>\n",
       "    </tr>\n",
       "    <tr>\n",
       "      <th>43821</th>\n",
       "      <td>29583.295</td>\n",
       "      <td>3.7</td>\n",
       "    </tr>\n",
       "    <tr>\n",
       "      <th>43822</th>\n",
       "      <td>28458.691</td>\n",
       "      <td>2.8</td>\n",
       "    </tr>\n",
       "    <tr>\n",
       "      <th>43823</th>\n",
       "      <td>27428.213</td>\n",
       "      <td>2.5</td>\n",
       "    </tr>\n",
       "  </tbody>\n",
       "</table>\n",
       "<p>43824 rows × 2 columns</p>\n",
       "</div>"
      ],
      "text/plain": [
       "             Net  Temperature\n",
       "0      31660.636         -7.6\n",
       "1      30766.066         -8.4\n",
       "2      30201.596         -8.3\n",
       "3      29901.406         -6.8\n",
       "4      30084.427         -7.0\n",
       "...          ...          ...\n",
       "43819  31844.076          4.8\n",
       "43820  30687.078          4.4\n",
       "43821  29583.295          3.7\n",
       "43822  28458.691          2.8\n",
       "43823  27428.213          2.5\n",
       "\n",
       "[43824 rows x 2 columns]"
      ]
     },
     "execution_count": 7,
     "metadata": {},
     "output_type": "execute_result"
    }
   ],
   "source": [
    "# Just for previewing the column name\n",
    "pd.read_csv(os.path.join(path, fileList[0]))"
   ]
  },
  {
   "cell_type": "markdown",
   "id": "93a5a762",
   "metadata": {},
   "source": [
    "## Processing the load data into train-test split"
   ]
  },
  {
   "cell_type": "code",
   "execution_count": 8,
   "id": "a22c0e63",
   "metadata": {},
   "outputs": [
    {
     "data": {
      "text/html": [
       "<div>\n",
       "<style scoped>\n",
       "    .dataframe tbody tr th:only-of-type {\n",
       "        vertical-align: middle;\n",
       "    }\n",
       "\n",
       "    .dataframe tbody tr th {\n",
       "        vertical-align: top;\n",
       "    }\n",
       "\n",
       "    .dataframe thead th {\n",
       "        text-align: right;\n",
       "    }\n",
       "</style>\n",
       "<table border=\"1\" class=\"dataframe\">\n",
       "  <thead>\n",
       "    <tr style=\"text-align: right;\">\n",
       "      <th></th>\n",
       "      <th>LOAD_MIDATL</th>\n",
       "      <th>LOAD_SOUTH</th>\n",
       "      <th>LOAD_WEST</th>\n",
       "    </tr>\n",
       "  </thead>\n",
       "  <tbody>\n",
       "    <tr>\n",
       "      <th>0</th>\n",
       "      <td>31660.636</td>\n",
       "      <td>12571.309</td>\n",
       "      <td>49769.768</td>\n",
       "    </tr>\n",
       "    <tr>\n",
       "      <th>1</th>\n",
       "      <td>30766.066</td>\n",
       "      <td>12449.182</td>\n",
       "      <td>48714.914</td>\n",
       "    </tr>\n",
       "    <tr>\n",
       "      <th>2</th>\n",
       "      <td>30201.596</td>\n",
       "      <td>12295.476</td>\n",
       "      <td>47880.328</td>\n",
       "    </tr>\n",
       "    <tr>\n",
       "      <th>3</th>\n",
       "      <td>29901.406</td>\n",
       "      <td>12354.318</td>\n",
       "      <td>47380.142</td>\n",
       "    </tr>\n",
       "    <tr>\n",
       "      <th>4</th>\n",
       "      <td>30084.427</td>\n",
       "      <td>12542.606</td>\n",
       "      <td>47241.559</td>\n",
       "    </tr>\n",
       "    <tr>\n",
       "      <th>...</th>\n",
       "      <td>...</td>\n",
       "      <td>...</td>\n",
       "      <td>...</td>\n",
       "    </tr>\n",
       "    <tr>\n",
       "      <th>43819</th>\n",
       "      <td>31844.076</td>\n",
       "      <td>11682.100</td>\n",
       "      <td>49258.613</td>\n",
       "    </tr>\n",
       "    <tr>\n",
       "      <th>43820</th>\n",
       "      <td>30687.078</td>\n",
       "      <td>11442.870</td>\n",
       "      <td>47886.874</td>\n",
       "    </tr>\n",
       "    <tr>\n",
       "      <th>43821</th>\n",
       "      <td>29583.295</td>\n",
       "      <td>11166.770</td>\n",
       "      <td>46582.286</td>\n",
       "    </tr>\n",
       "    <tr>\n",
       "      <th>43822</th>\n",
       "      <td>28458.691</td>\n",
       "      <td>10838.550</td>\n",
       "      <td>45132.982</td>\n",
       "    </tr>\n",
       "    <tr>\n",
       "      <th>43823</th>\n",
       "      <td>27428.213</td>\n",
       "      <td>10592.674</td>\n",
       "      <td>43501.529</td>\n",
       "    </tr>\n",
       "  </tbody>\n",
       "</table>\n",
       "<p>43824 rows × 3 columns</p>\n",
       "</div>"
      ],
      "text/plain": [
       "       LOAD_MIDATL  LOAD_SOUTH  LOAD_WEST\n",
       "0        31660.636   12571.309  49769.768\n",
       "1        30766.066   12449.182  48714.914\n",
       "2        30201.596   12295.476  47880.328\n",
       "3        29901.406   12354.318  47380.142\n",
       "4        30084.427   12542.606  47241.559\n",
       "...            ...         ...        ...\n",
       "43819    31844.076   11682.100  49258.613\n",
       "43820    30687.078   11442.870  47886.874\n",
       "43821    29583.295   11166.770  46582.286\n",
       "43822    28458.691   10838.550  45132.982\n",
       "43823    27428.213   10592.674  43501.529\n",
       "\n",
       "[43824 rows x 3 columns]"
      ]
     },
     "execution_count": 8,
     "metadata": {},
     "output_type": "execute_result"
    }
   ],
   "source": [
    "# Fetching and concatenating the data\n",
    "Load_DS = pd.concat([pd.read_csv(os.path.join(path, fileName), usecols= [\"Net\"]) for fileName in fileList], axis= 1)\n",
    "Load_DS.columns = [i.removesuffix('.csv') for i in fileList]\n",
    "Load_DS = Load_DS.add_prefix(\"LOAD_\")\n",
    "\n",
    "Load_DS"
   ]
  },
  {
   "cell_type": "code",
   "execution_count": 9,
   "id": "0788311c",
   "metadata": {},
   "outputs": [
    {
     "data": {
      "text/html": [
       "<div>\n",
       "<style scoped>\n",
       "    .dataframe tbody tr th:only-of-type {\n",
       "        vertical-align: middle;\n",
       "    }\n",
       "\n",
       "    .dataframe tbody tr th {\n",
       "        vertical-align: top;\n",
       "    }\n",
       "\n",
       "    .dataframe thead th {\n",
       "        text-align: right;\n",
       "    }\n",
       "</style>\n",
       "<table border=\"1\" class=\"dataframe\">\n",
       "  <thead>\n",
       "    <tr style=\"text-align: right;\">\n",
       "      <th></th>\n",
       "      <th>LAG1_MIDATL</th>\n",
       "      <th>LAG1_SOUTH</th>\n",
       "      <th>LAG1_WEST</th>\n",
       "    </tr>\n",
       "  </thead>\n",
       "  <tbody>\n",
       "    <tr>\n",
       "      <th>0</th>\n",
       "      <td>0.000</td>\n",
       "      <td>0.000</td>\n",
       "      <td>0.000</td>\n",
       "    </tr>\n",
       "    <tr>\n",
       "      <th>1</th>\n",
       "      <td>0.000</td>\n",
       "      <td>0.000</td>\n",
       "      <td>0.000</td>\n",
       "    </tr>\n",
       "    <tr>\n",
       "      <th>2</th>\n",
       "      <td>0.000</td>\n",
       "      <td>0.000</td>\n",
       "      <td>0.000</td>\n",
       "    </tr>\n",
       "    <tr>\n",
       "      <th>3</th>\n",
       "      <td>0.000</td>\n",
       "      <td>0.000</td>\n",
       "      <td>0.000</td>\n",
       "    </tr>\n",
       "    <tr>\n",
       "      <th>4</th>\n",
       "      <td>0.000</td>\n",
       "      <td>0.000</td>\n",
       "      <td>0.000</td>\n",
       "    </tr>\n",
       "    <tr>\n",
       "      <th>...</th>\n",
       "      <td>...</td>\n",
       "      <td>...</td>\n",
       "      <td>...</td>\n",
       "    </tr>\n",
       "    <tr>\n",
       "      <th>43819</th>\n",
       "      <td>33159.726</td>\n",
       "      <td>10860.510</td>\n",
       "      <td>49037.954</td>\n",
       "    </tr>\n",
       "    <tr>\n",
       "      <th>43820</th>\n",
       "      <td>32353.072</td>\n",
       "      <td>10608.808</td>\n",
       "      <td>48438.677</td>\n",
       "    </tr>\n",
       "    <tr>\n",
       "      <th>43821</th>\n",
       "      <td>31132.848</td>\n",
       "      <td>10213.428</td>\n",
       "      <td>47229.754</td>\n",
       "    </tr>\n",
       "    <tr>\n",
       "      <th>43822</th>\n",
       "      <td>29356.335</td>\n",
       "      <td>9765.158</td>\n",
       "      <td>45404.894</td>\n",
       "    </tr>\n",
       "    <tr>\n",
       "      <th>43823</th>\n",
       "      <td>27736.439</td>\n",
       "      <td>9225.152</td>\n",
       "      <td>43190.705</td>\n",
       "    </tr>\n",
       "  </tbody>\n",
       "</table>\n",
       "<p>43824 rows × 3 columns</p>\n",
       "</div>"
      ],
      "text/plain": [
       "       LAG1_MIDATL  LAG1_SOUTH  LAG1_WEST\n",
       "0            0.000       0.000      0.000\n",
       "1            0.000       0.000      0.000\n",
       "2            0.000       0.000      0.000\n",
       "3            0.000       0.000      0.000\n",
       "4            0.000       0.000      0.000\n",
       "...            ...         ...        ...\n",
       "43819    33159.726   10860.510  49037.954\n",
       "43820    32353.072   10608.808  48438.677\n",
       "43821    31132.848   10213.428  47229.754\n",
       "43822    29356.335    9765.158  45404.894\n",
       "43823    27736.439    9225.152  43190.705\n",
       "\n",
       "[43824 rows x 3 columns]"
      ]
     },
     "execution_count": 9,
     "metadata": {},
     "output_type": "execute_result"
    }
   ],
   "source": [
    "# Creating 1-day lag loads\n",
    "Load_lag_1 = Load_DS.shift(24).fillna(0)\n",
    "Load_lag_1.columns = [i.removeprefix('LOAD_') for i in Load_lag_1.columns]\n",
    "Load_lag_1 = Load_lag_1.add_prefix(\"LAG1_\")\n",
    "Load_lag_1"
   ]
  },
  {
   "cell_type": "code",
   "execution_count": 10,
   "id": "0658510b",
   "metadata": {},
   "outputs": [
    {
     "data": {
      "text/html": [
       "<div>\n",
       "<style scoped>\n",
       "    .dataframe tbody tr th:only-of-type {\n",
       "        vertical-align: middle;\n",
       "    }\n",
       "\n",
       "    .dataframe tbody tr th {\n",
       "        vertical-align: top;\n",
       "    }\n",
       "\n",
       "    .dataframe thead th {\n",
       "        text-align: right;\n",
       "    }\n",
       "</style>\n",
       "<table border=\"1\" class=\"dataframe\">\n",
       "  <thead>\n",
       "    <tr style=\"text-align: right;\">\n",
       "      <th></th>\n",
       "      <th>LAG7_MIDATL</th>\n",
       "      <th>LAG7_SOUTH</th>\n",
       "      <th>LAG7_WEST</th>\n",
       "    </tr>\n",
       "  </thead>\n",
       "  <tbody>\n",
       "    <tr>\n",
       "      <th>0</th>\n",
       "      <td>0.000</td>\n",
       "      <td>0.000</td>\n",
       "      <td>0.000</td>\n",
       "    </tr>\n",
       "    <tr>\n",
       "      <th>1</th>\n",
       "      <td>0.000</td>\n",
       "      <td>0.000</td>\n",
       "      <td>0.000</td>\n",
       "    </tr>\n",
       "    <tr>\n",
       "      <th>2</th>\n",
       "      <td>0.000</td>\n",
       "      <td>0.000</td>\n",
       "      <td>0.000</td>\n",
       "    </tr>\n",
       "    <tr>\n",
       "      <th>3</th>\n",
       "      <td>0.000</td>\n",
       "      <td>0.000</td>\n",
       "      <td>0.000</td>\n",
       "    </tr>\n",
       "    <tr>\n",
       "      <th>4</th>\n",
       "      <td>0.000</td>\n",
       "      <td>0.000</td>\n",
       "      <td>0.000</td>\n",
       "    </tr>\n",
       "    <tr>\n",
       "      <th>...</th>\n",
       "      <td>...</td>\n",
       "      <td>...</td>\n",
       "      <td>...</td>\n",
       "    </tr>\n",
       "    <tr>\n",
       "      <th>43819</th>\n",
       "      <td>31223.944</td>\n",
       "      <td>11705.914</td>\n",
       "      <td>42521.702</td>\n",
       "    </tr>\n",
       "    <tr>\n",
       "      <th>43820</th>\n",
       "      <td>30934.643</td>\n",
       "      <td>11709.951</td>\n",
       "      <td>42381.205</td>\n",
       "    </tr>\n",
       "    <tr>\n",
       "      <th>43821</th>\n",
       "      <td>30619.720</td>\n",
       "      <td>11663.864</td>\n",
       "      <td>42197.353</td>\n",
       "    </tr>\n",
       "    <tr>\n",
       "      <th>43822</th>\n",
       "      <td>29955.427</td>\n",
       "      <td>11519.032</td>\n",
       "      <td>41556.164</td>\n",
       "    </tr>\n",
       "    <tr>\n",
       "      <th>43823</th>\n",
       "      <td>28929.156</td>\n",
       "      <td>11314.571</td>\n",
       "      <td>40399.011</td>\n",
       "    </tr>\n",
       "  </tbody>\n",
       "</table>\n",
       "<p>43824 rows × 3 columns</p>\n",
       "</div>"
      ],
      "text/plain": [
       "       LAG7_MIDATL  LAG7_SOUTH  LAG7_WEST\n",
       "0            0.000       0.000      0.000\n",
       "1            0.000       0.000      0.000\n",
       "2            0.000       0.000      0.000\n",
       "3            0.000       0.000      0.000\n",
       "4            0.000       0.000      0.000\n",
       "...            ...         ...        ...\n",
       "43819    31223.944   11705.914  42521.702\n",
       "43820    30934.643   11709.951  42381.205\n",
       "43821    30619.720   11663.864  42197.353\n",
       "43822    29955.427   11519.032  41556.164\n",
       "43823    28929.156   11314.571  40399.011\n",
       "\n",
       "[43824 rows x 3 columns]"
      ]
     },
     "execution_count": 10,
     "metadata": {},
     "output_type": "execute_result"
    }
   ],
   "source": [
    "# Creating 7-day lag loads\n",
    "Load_lag_7 = Load_DS.shift(24*7).fillna(0)\n",
    "Load_lag_7.columns = [i.removeprefix('LOAD_') for i in Load_lag_7.columns]\n",
    "Load_lag_7 = Load_lag_7.add_prefix(\"LAG7_\")\n",
    "Load_lag_7"
   ]
  },
  {
   "cell_type": "code",
   "execution_count": 11,
   "id": "7f2e92ab",
   "metadata": {},
   "outputs": [],
   "source": [
    "# Setting the train-test split\n",
    "ratio = 0.2\n",
    "Num_test, Num_train = int(len(Load_DS) * ratio), len(Load_DS) - int(len(Load_DS) * ratio)"
   ]
  },
  {
   "cell_type": "code",
   "execution_count": 12,
   "id": "c259eb63",
   "metadata": {},
   "outputs": [
    {
     "name": "stdout",
     "output_type": "stream",
     "text": [
      "Raw load - Train: \n"
     ]
    },
    {
     "data": {
      "text/html": [
       "<div>\n",
       "<style scoped>\n",
       "    .dataframe tbody tr th:only-of-type {\n",
       "        vertical-align: middle;\n",
       "    }\n",
       "\n",
       "    .dataframe tbody tr th {\n",
       "        vertical-align: top;\n",
       "    }\n",
       "\n",
       "    .dataframe thead th {\n",
       "        text-align: right;\n",
       "    }\n",
       "</style>\n",
       "<table border=\"1\" class=\"dataframe\">\n",
       "  <thead>\n",
       "    <tr style=\"text-align: right;\">\n",
       "      <th></th>\n",
       "      <th>LOAD_MIDATL</th>\n",
       "      <th>LOAD_SOUTH</th>\n",
       "      <th>LOAD_WEST</th>\n",
       "    </tr>\n",
       "  </thead>\n",
       "  <tbody>\n",
       "    <tr>\n",
       "      <th>0</th>\n",
       "      <td>31660.636</td>\n",
       "      <td>12571.309</td>\n",
       "      <td>49769.768</td>\n",
       "    </tr>\n",
       "    <tr>\n",
       "      <th>1</th>\n",
       "      <td>30766.066</td>\n",
       "      <td>12449.182</td>\n",
       "      <td>48714.914</td>\n",
       "    </tr>\n",
       "  </tbody>\n",
       "</table>\n",
       "</div>"
      ],
      "text/plain": [
       "   LOAD_MIDATL  LOAD_SOUTH  LOAD_WEST\n",
       "0    31660.636   12571.309  49769.768\n",
       "1    30766.066   12449.182  48714.914"
      ]
     },
     "metadata": {},
     "output_type": "display_data"
    },
    {
     "name": "stdout",
     "output_type": "stream",
     "text": [
      "\n",
      "\n",
      "Raw lag 1 load - Train: \n"
     ]
    },
    {
     "data": {
      "text/html": [
       "<div>\n",
       "<style scoped>\n",
       "    .dataframe tbody tr th:only-of-type {\n",
       "        vertical-align: middle;\n",
       "    }\n",
       "\n",
       "    .dataframe tbody tr th {\n",
       "        vertical-align: top;\n",
       "    }\n",
       "\n",
       "    .dataframe thead th {\n",
       "        text-align: right;\n",
       "    }\n",
       "</style>\n",
       "<table border=\"1\" class=\"dataframe\">\n",
       "  <thead>\n",
       "    <tr style=\"text-align: right;\">\n",
       "      <th></th>\n",
       "      <th>LAG1_MIDATL</th>\n",
       "      <th>LAG1_SOUTH</th>\n",
       "      <th>LAG1_WEST</th>\n",
       "    </tr>\n",
       "  </thead>\n",
       "  <tbody>\n",
       "    <tr>\n",
       "      <th>0</th>\n",
       "      <td>0.0</td>\n",
       "      <td>0.0</td>\n",
       "      <td>0.0</td>\n",
       "    </tr>\n",
       "    <tr>\n",
       "      <th>1</th>\n",
       "      <td>0.0</td>\n",
       "      <td>0.0</td>\n",
       "      <td>0.0</td>\n",
       "    </tr>\n",
       "  </tbody>\n",
       "</table>\n",
       "</div>"
      ],
      "text/plain": [
       "   LAG1_MIDATL  LAG1_SOUTH  LAG1_WEST\n",
       "0          0.0         0.0        0.0\n",
       "1          0.0         0.0        0.0"
      ]
     },
     "metadata": {},
     "output_type": "display_data"
    },
    {
     "name": "stdout",
     "output_type": "stream",
     "text": [
      "\n",
      "\n",
      "Raw lag 7 load - Train: \n"
     ]
    },
    {
     "data": {
      "text/html": [
       "<div>\n",
       "<style scoped>\n",
       "    .dataframe tbody tr th:only-of-type {\n",
       "        vertical-align: middle;\n",
       "    }\n",
       "\n",
       "    .dataframe tbody tr th {\n",
       "        vertical-align: top;\n",
       "    }\n",
       "\n",
       "    .dataframe thead th {\n",
       "        text-align: right;\n",
       "    }\n",
       "</style>\n",
       "<table border=\"1\" class=\"dataframe\">\n",
       "  <thead>\n",
       "    <tr style=\"text-align: right;\">\n",
       "      <th></th>\n",
       "      <th>LAG7_MIDATL</th>\n",
       "      <th>LAG7_SOUTH</th>\n",
       "      <th>LAG7_WEST</th>\n",
       "    </tr>\n",
       "  </thead>\n",
       "  <tbody>\n",
       "    <tr>\n",
       "      <th>0</th>\n",
       "      <td>0.0</td>\n",
       "      <td>0.0</td>\n",
       "      <td>0.0</td>\n",
       "    </tr>\n",
       "    <tr>\n",
       "      <th>1</th>\n",
       "      <td>0.0</td>\n",
       "      <td>0.0</td>\n",
       "      <td>0.0</td>\n",
       "    </tr>\n",
       "  </tbody>\n",
       "</table>\n",
       "</div>"
      ],
      "text/plain": [
       "   LAG7_MIDATL  LAG7_SOUTH  LAG7_WEST\n",
       "0          0.0         0.0        0.0\n",
       "1          0.0         0.0        0.0"
      ]
     },
     "metadata": {},
     "output_type": "display_data"
    },
    {
     "name": "stdout",
     "output_type": "stream",
     "text": [
      "\n",
      "\n"
     ]
    }
   ],
   "source": [
    "# Scaling the load data wrt WEST\n",
    "mmScaler_load = MinMaxScaler()\n",
    "\n",
    "# Splitting the data into train and test [LOAD]\n",
    "Load_train, Load_test = Load_DS[:Num_train], Load_DS[Num_train:]\n",
    "print(\"Raw load - Train: \")\n",
    "display(Load_train.head(2))\n",
    "print(\"\\n\")\n",
    "\n",
    "# Splitting the data into train and test [LAG 1]\n",
    "Load_Lag1_train, Load_Lag1_test = Load_lag_1[:Num_train], Load_lag_1[Num_train:]\n",
    "print(\"Raw lag 1 load - Train: \")\n",
    "display(Load_Lag1_train.head(2))\n",
    "print(\"\\n\")\n",
    "\n",
    "# Splitting the data into train and test [LAG 7]\n",
    "Load_Lag7_train, Load_Lag7_test = Load_lag_7[:Num_train], Load_lag_7[Num_train:]\n",
    "print(\"Raw lag 7 load - Train: \")\n",
    "display(Load_Lag7_train.head(2))\n",
    "print(\"\\n\")"
   ]
  },
  {
   "cell_type": "code",
   "execution_count": 13,
   "id": "c49c56fd",
   "metadata": {},
   "outputs": [
    {
     "name": "stdout",
     "output_type": "stream",
     "text": [
      "Scaled load - Train: \n"
     ]
    },
    {
     "data": {
      "text/plain": [
       "array([[0.43065024, 0.46215937, 0.50711927],\n",
       "       [0.41002199, 0.45465502, 0.48722235],\n",
       "       [0.39700564, 0.44521024, 0.47148018],\n",
       "       ...,\n",
       "       [0.50850536, 0.44495941, 0.46824365],\n",
       "       [0.48777324, 0.42529905, 0.46160865],\n",
       "       [0.45314908, 0.39972509, 0.42831099]])"
      ]
     },
     "metadata": {},
     "output_type": "display_data"
    },
    {
     "name": "stdout",
     "output_type": "stream",
     "text": [
      "Scaled lag 1 load - Train: \n"
     ]
    },
    {
     "name": "stderr",
     "output_type": "stream",
     "text": [
      "c:\\users\\sashah8\\appdata\\local\\programs\\python\\python39\\lib\\site-packages\\sklearn\\base.py:493: FutureWarning: The feature names should match those that were passed during fit. Starting version 1.2, an error will be raised.\n",
      "Feature names unseen at fit time:\n",
      "- LAG1_MIDATL\n",
      "- LAG1_SOUTH\n",
      "- LAG1_WEST\n",
      "Feature names seen at fit time, yet now missing:\n",
      "- LOAD_MIDATL\n",
      "- LOAD_SOUTH\n",
      "- LOAD_WEST\n",
      "\n",
      "  warnings.warn(message, FutureWarning)\n"
     ]
    },
    {
     "data": {
      "text/plain": [
       "array([[-0.29942531, -0.31031077, -0.43165036],\n",
       "       [-0.29942531, -0.31031077, -0.43165036],\n",
       "       [-0.29942531, -0.31031077, -0.43165036],\n",
       "       ...,\n",
       "       [ 0.45386016,  0.40100908,  0.44641797],\n",
       "       [ 0.46159664,  0.41663176,  0.47836415],\n",
       "       [ 0.45793298,  0.41360616,  0.47607833]])"
      ]
     },
     "metadata": {},
     "output_type": "display_data"
    },
    {
     "name": "stdout",
     "output_type": "stream",
     "text": [
      "Scaled lag 7 load - Train: \n"
     ]
    },
    {
     "name": "stderr",
     "output_type": "stream",
     "text": [
      "c:\\users\\sashah8\\appdata\\local\\programs\\python\\python39\\lib\\site-packages\\sklearn\\base.py:493: FutureWarning: The feature names should match those that were passed during fit. Starting version 1.2, an error will be raised.\n",
      "Feature names unseen at fit time:\n",
      "- LAG7_MIDATL\n",
      "- LAG7_SOUTH\n",
      "- LAG7_WEST\n",
      "Feature names seen at fit time, yet now missing:\n",
      "- LOAD_MIDATL\n",
      "- LOAD_SOUTH\n",
      "- LOAD_WEST\n",
      "\n",
      "  warnings.warn(message, FutureWarning)\n"
     ]
    },
    {
     "data": {
      "text/plain": [
       "array([[-0.29942531, -0.31031077, -0.43165036],\n",
       "       [-0.29942531, -0.31031077, -0.43165036],\n",
       "       [-0.29942531, -0.31031077, -0.43165036],\n",
       "       ...,\n",
       "       [ 0.47526171,  0.43326407,  0.44862886],\n",
       "       [ 0.45846524,  0.4382983 ,  0.45863275],\n",
       "       [ 0.43902549,  0.43183898,  0.44878566]])"
      ]
     },
     "metadata": {},
     "output_type": "display_data"
    }
   ],
   "source": [
    "# Scaling the data using mix-max scaler [TRAINING]\n",
    "Load_train = mmScaler_load.fit_transform(Load_train)\n",
    "print(\"Scaled load - Train: \")\n",
    "display(Load_train)\n",
    "\n",
    "Load_Lag1_train = mmScaler_load.transform(Load_Lag1_train)\n",
    "print(\"Scaled lag 1 load - Train: \")\n",
    "display(Load_Lag1_train)\n",
    "\n",
    "Load_Lag7_train = mmScaler_load.transform(Load_Lag7_train)\n",
    "print(\"Scaled lag 7 load - Train: \")\n",
    "display(Load_Lag7_train)"
   ]
  },
  {
   "cell_type": "code",
   "execution_count": 14,
   "id": "48bc5d1e",
   "metadata": {},
   "outputs": [
    {
     "name": "stdout",
     "output_type": "stream",
     "text": [
      "Scaled load - Test: \n"
     ]
    },
    {
     "data": {
      "text/plain": [
       "array([[0.420077  , 0.3703234 , 0.39565754],\n",
       "       [0.38591386, 0.33897562, 0.36205661],\n",
       "       [0.35196082, 0.30448827, 0.33430867],\n",
       "       ...,\n",
       "       [0.38274799, 0.37585456, 0.4469962 ],\n",
       "       [0.35681528, 0.3556864 , 0.41965907],\n",
       "       [0.33305307, 0.34057804, 0.3888862 ]])"
      ]
     },
     "metadata": {},
     "output_type": "display_data"
    },
    {
     "name": "stdout",
     "output_type": "stream",
     "text": [
      "Scaled lag 1 load - Test: \n"
     ]
    },
    {
     "name": "stderr",
     "output_type": "stream",
     "text": [
      "c:\\users\\sashah8\\appdata\\local\\programs\\python\\python39\\lib\\site-packages\\sklearn\\base.py:493: FutureWarning: The feature names should match those that were passed during fit. Starting version 1.2, an error will be raised.\n",
      "Feature names unseen at fit time:\n",
      "- LAG1_MIDATL\n",
      "- LAG1_SOUTH\n",
      "- LAG1_WEST\n",
      "Feature names seen at fit time, yet now missing:\n",
      "- LOAD_MIDATL\n",
      "- LOAD_SOUTH\n",
      "- LOAD_WEST\n",
      "\n",
      "  warnings.warn(message, FutureWarning)\n"
     ]
    },
    {
     "data": {
      "text/plain": [
       "array([[0.45516996, 0.40676053, 0.47418211],\n",
       "       [0.43652896, 0.39468145, 0.45711798],\n",
       "       [0.40442413, 0.37164187, 0.42807378],\n",
       "       ...,\n",
       "       [0.41847976, 0.31727448, 0.4592089 ],\n",
       "       [0.37751442, 0.2897296 , 0.42478794],\n",
       "       [0.34016058, 0.25654781, 0.38302336]])"
      ]
     },
     "metadata": {},
     "output_type": "display_data"
    },
    {
     "name": "stdout",
     "output_type": "stream",
     "text": [
      "Scaled lag 7 load - Test: \n"
     ]
    },
    {
     "name": "stderr",
     "output_type": "stream",
     "text": [
      "c:\\users\\sashah8\\appdata\\local\\programs\\python\\python39\\lib\\site-packages\\sklearn\\base.py:493: FutureWarning: The feature names should match those that were passed during fit. Starting version 1.2, an error will be raised.\n",
      "Feature names unseen at fit time:\n",
      "- LAG7_MIDATL\n",
      "- LAG7_SOUTH\n",
      "- LAG7_WEST\n",
      "Feature names seen at fit time, yet now missing:\n",
      "- LOAD_MIDATL\n",
      "- LOAD_SOUTH\n",
      "- LOAD_WEST\n",
      "\n",
      "  warnings.warn(message, FutureWarning)\n"
     ]
    },
    {
     "data": {
      "text/plain": [
       "array([[0.42808262, 0.43024529, 0.44452534],\n",
       "       [0.41668037, 0.42899306, 0.43979978],\n",
       "       [0.39615558, 0.41911268, 0.42448822],\n",
       "       ...,\n",
       "       [0.40664733, 0.40639953, 0.36428651],\n",
       "       [0.39132913, 0.39750003, 0.35219224],\n",
       "       [0.36766393, 0.3849365 , 0.33036574]])"
      ]
     },
     "metadata": {},
     "output_type": "display_data"
    }
   ],
   "source": [
    "# Scaling the data using mix-max scaler [TESTING]\n",
    "Load_test = mmScaler_load.transform(Load_test)\n",
    "print(\"Scaled load - Test: \")\n",
    "display(Load_test)\n",
    "\n",
    "Load_Lag1_test = mmScaler_load.transform(Load_Lag1_test)\n",
    "print(\"Scaled lag 1 load - Test: \")\n",
    "display(Load_Lag1_test)\n",
    "\n",
    "Load_Lag7_test = mmScaler_load.transform(Load_Lag7_test)\n",
    "print(\"Scaled lag 7 load - Test: \")\n",
    "display(Load_Lag7_test)"
   ]
  },
  {
   "cell_type": "code",
   "execution_count": 15,
   "id": "5946861c",
   "metadata": {},
   "outputs": [
    {
     "data": {
      "text/plain": [
       "array([0.43065024, 0.46215937, 0.50711927])"
      ]
     },
     "execution_count": 15,
     "metadata": {},
     "output_type": "execute_result"
    }
   ],
   "source": [
    "## Transformation assigns perfectly.\n",
    "Load_train[0]"
   ]
  },
  {
   "cell_type": "code",
   "execution_count": 16,
   "id": "224fcb28",
   "metadata": {},
   "outputs": [
    {
     "data": {
      "text/plain": [
       "array([0.43065024, 0.46215937, 0.50711927])"
      ]
     },
     "execution_count": 16,
     "metadata": {},
     "output_type": "execute_result"
    }
   ],
   "source": [
    "Load_Lag1_train[24]"
   ]
  },
  {
   "cell_type": "code",
   "execution_count": 17,
   "id": "a1331ed3",
   "metadata": {},
   "outputs": [
    {
     "data": {
      "text/plain": [
       "array([0.43065024, 0.46215937, 0.50711927])"
      ]
     },
     "execution_count": 17,
     "metadata": {},
     "output_type": "execute_result"
    }
   ],
   "source": [
    "Load_Lag7_train[24*7]"
   ]
  },
  {
   "cell_type": "code",
   "execution_count": 18,
   "id": "f31d6b1f",
   "metadata": {},
   "outputs": [
    {
     "data": {
      "text/plain": [
       "array([0.26187365, 0.22331367, 0.25204169])"
      ]
     },
     "execution_count": 18,
     "metadata": {},
     "output_type": "execute_result"
    }
   ],
   "source": [
    "## Transformation assigns perfectly.\n",
    "Load_test[5]"
   ]
  },
  {
   "cell_type": "code",
   "execution_count": 19,
   "id": "7cbbd36f",
   "metadata": {},
   "outputs": [
    {
     "data": {
      "text/plain": [
       "array([0.26187365, 0.22331367, 0.25204169])"
      ]
     },
     "execution_count": 19,
     "metadata": {},
     "output_type": "execute_result"
    }
   ],
   "source": [
    "Load_Lag1_test[24+5]"
   ]
  },
  {
   "cell_type": "code",
   "execution_count": 20,
   "id": "4b85b032",
   "metadata": {},
   "outputs": [
    {
     "data": {
      "text/plain": [
       "array([0.26187365, 0.22331367, 0.25204169])"
      ]
     },
     "execution_count": 20,
     "metadata": {},
     "output_type": "execute_result"
    }
   ],
   "source": [
    "Load_Lag7_test[24*7+5]"
   ]
  },
  {
   "cell_type": "markdown",
   "id": "cd7a734d",
   "metadata": {},
   "source": [
    "## Processing the temperature data in train test split"
   ]
  },
  {
   "cell_type": "code",
   "execution_count": 21,
   "id": "99af4b13",
   "metadata": {},
   "outputs": [
    {
     "data": {
      "text/html": [
       "<div>\n",
       "<style scoped>\n",
       "    .dataframe tbody tr th:only-of-type {\n",
       "        vertical-align: middle;\n",
       "    }\n",
       "\n",
       "    .dataframe tbody tr th {\n",
       "        vertical-align: top;\n",
       "    }\n",
       "\n",
       "    .dataframe thead th {\n",
       "        text-align: right;\n",
       "    }\n",
       "</style>\n",
       "<table border=\"1\" class=\"dataframe\">\n",
       "  <thead>\n",
       "    <tr style=\"text-align: right;\">\n",
       "      <th></th>\n",
       "      <th>TEMP_MIDATL</th>\n",
       "      <th>TEMP_SOUTH</th>\n",
       "      <th>TEMP_WEST</th>\n",
       "    </tr>\n",
       "  </thead>\n",
       "  <tbody>\n",
       "    <tr>\n",
       "      <th>0</th>\n",
       "      <td>-7.6</td>\n",
       "      <td>0.5</td>\n",
       "      <td>-9.0</td>\n",
       "    </tr>\n",
       "    <tr>\n",
       "      <th>1</th>\n",
       "      <td>-8.4</td>\n",
       "      <td>0.1</td>\n",
       "      <td>-9.0</td>\n",
       "    </tr>\n",
       "    <tr>\n",
       "      <th>2</th>\n",
       "      <td>-8.3</td>\n",
       "      <td>-0.5</td>\n",
       "      <td>-9.0</td>\n",
       "    </tr>\n",
       "    <tr>\n",
       "      <th>3</th>\n",
       "      <td>-6.8</td>\n",
       "      <td>-0.7</td>\n",
       "      <td>-9.0</td>\n",
       "    </tr>\n",
       "    <tr>\n",
       "      <th>4</th>\n",
       "      <td>-7.0</td>\n",
       "      <td>-0.7</td>\n",
       "      <td>-9.1</td>\n",
       "    </tr>\n",
       "    <tr>\n",
       "      <th>...</th>\n",
       "      <td>...</td>\n",
       "      <td>...</td>\n",
       "      <td>...</td>\n",
       "    </tr>\n",
       "    <tr>\n",
       "      <th>43819</th>\n",
       "      <td>4.8</td>\n",
       "      <td>9.9</td>\n",
       "      <td>-1.3</td>\n",
       "    </tr>\n",
       "    <tr>\n",
       "      <th>43820</th>\n",
       "      <td>4.4</td>\n",
       "      <td>10.2</td>\n",
       "      <td>-1.5</td>\n",
       "    </tr>\n",
       "    <tr>\n",
       "      <th>43821</th>\n",
       "      <td>3.7</td>\n",
       "      <td>9.6</td>\n",
       "      <td>-1.7</td>\n",
       "    </tr>\n",
       "    <tr>\n",
       "      <th>43822</th>\n",
       "      <td>2.8</td>\n",
       "      <td>9.0</td>\n",
       "      <td>-2.1</td>\n",
       "    </tr>\n",
       "    <tr>\n",
       "      <th>43823</th>\n",
       "      <td>2.5</td>\n",
       "      <td>8.4</td>\n",
       "      <td>-2.6</td>\n",
       "    </tr>\n",
       "  </tbody>\n",
       "</table>\n",
       "<p>43824 rows × 3 columns</p>\n",
       "</div>"
      ],
      "text/plain": [
       "       TEMP_MIDATL  TEMP_SOUTH  TEMP_WEST\n",
       "0             -7.6         0.5       -9.0\n",
       "1             -8.4         0.1       -9.0\n",
       "2             -8.3        -0.5       -9.0\n",
       "3             -6.8        -0.7       -9.0\n",
       "4             -7.0        -0.7       -9.1\n",
       "...            ...         ...        ...\n",
       "43819          4.8         9.9       -1.3\n",
       "43820          4.4        10.2       -1.5\n",
       "43821          3.7         9.6       -1.7\n",
       "43822          2.8         9.0       -2.1\n",
       "43823          2.5         8.4       -2.6\n",
       "\n",
       "[43824 rows x 3 columns]"
      ]
     },
     "execution_count": 21,
     "metadata": {},
     "output_type": "execute_result"
    }
   ],
   "source": [
    "# Fetching and concatenating the data\n",
    "Temp_DS = pd.concat([pd.read_csv(os.path.join(path, fileName), usecols= [\"Temperature\"]) for fileName in fileList], axis= 1)\n",
    "Temp_DS.columns = [i.removesuffix('.csv') for i in fileList]\n",
    "Temp_DS = Temp_DS.add_prefix(\"TEMP_\")\n",
    "\n",
    "Temp_DS"
   ]
  },
  {
   "cell_type": "code",
   "execution_count": 22,
   "id": "66a768f9",
   "metadata": {},
   "outputs": [
    {
     "name": "stdout",
     "output_type": "stream",
     "text": [
      "Raw temperature - Train: \n"
     ]
    },
    {
     "data": {
      "text/html": [
       "<div>\n",
       "<style scoped>\n",
       "    .dataframe tbody tr th:only-of-type {\n",
       "        vertical-align: middle;\n",
       "    }\n",
       "\n",
       "    .dataframe tbody tr th {\n",
       "        vertical-align: top;\n",
       "    }\n",
       "\n",
       "    .dataframe thead th {\n",
       "        text-align: right;\n",
       "    }\n",
       "</style>\n",
       "<table border=\"1\" class=\"dataframe\">\n",
       "  <thead>\n",
       "    <tr style=\"text-align: right;\">\n",
       "      <th></th>\n",
       "      <th>TEMP_MIDATL</th>\n",
       "      <th>TEMP_SOUTH</th>\n",
       "      <th>TEMP_WEST</th>\n",
       "    </tr>\n",
       "  </thead>\n",
       "  <tbody>\n",
       "    <tr>\n",
       "      <th>0</th>\n",
       "      <td>-7.6</td>\n",
       "      <td>0.5</td>\n",
       "      <td>-9.0</td>\n",
       "    </tr>\n",
       "    <tr>\n",
       "      <th>1</th>\n",
       "      <td>-8.4</td>\n",
       "      <td>0.1</td>\n",
       "      <td>-9.0</td>\n",
       "    </tr>\n",
       "    <tr>\n",
       "      <th>2</th>\n",
       "      <td>-8.3</td>\n",
       "      <td>-0.5</td>\n",
       "      <td>-9.0</td>\n",
       "    </tr>\n",
       "    <tr>\n",
       "      <th>3</th>\n",
       "      <td>-6.8</td>\n",
       "      <td>-0.7</td>\n",
       "      <td>-9.0</td>\n",
       "    </tr>\n",
       "    <tr>\n",
       "      <th>4</th>\n",
       "      <td>-7.0</td>\n",
       "      <td>-0.7</td>\n",
       "      <td>-9.1</td>\n",
       "    </tr>\n",
       "  </tbody>\n",
       "</table>\n",
       "</div>"
      ],
      "text/plain": [
       "   TEMP_MIDATL  TEMP_SOUTH  TEMP_WEST\n",
       "0         -7.6         0.5       -9.0\n",
       "1         -8.4         0.1       -9.0\n",
       "2         -8.3        -0.5       -9.0\n",
       "3         -6.8        -0.7       -9.0\n",
       "4         -7.0        -0.7       -9.1"
      ]
     },
     "metadata": {},
     "output_type": "display_data"
    },
    {
     "name": "stdout",
     "output_type": "stream",
     "text": [
      "Raw temperature - Test: \n"
     ]
    },
    {
     "data": {
      "text/html": [
       "<div>\n",
       "<style scoped>\n",
       "    .dataframe tbody tr th:only-of-type {\n",
       "        vertical-align: middle;\n",
       "    }\n",
       "\n",
       "    .dataframe tbody tr th {\n",
       "        vertical-align: top;\n",
       "    }\n",
       "\n",
       "    .dataframe thead th {\n",
       "        text-align: right;\n",
       "    }\n",
       "</style>\n",
       "<table border=\"1\" class=\"dataframe\">\n",
       "  <thead>\n",
       "    <tr style=\"text-align: right;\">\n",
       "      <th></th>\n",
       "      <th>TEMP_MIDATL</th>\n",
       "      <th>TEMP_SOUTH</th>\n",
       "      <th>TEMP_WEST</th>\n",
       "    </tr>\n",
       "  </thead>\n",
       "  <tbody>\n",
       "    <tr>\n",
       "      <th>35060</th>\n",
       "      <td>5.1</td>\n",
       "      <td>5.2</td>\n",
       "      <td>9.8</td>\n",
       "    </tr>\n",
       "    <tr>\n",
       "      <th>35061</th>\n",
       "      <td>5.1</td>\n",
       "      <td>5.4</td>\n",
       "      <td>10.2</td>\n",
       "    </tr>\n",
       "    <tr>\n",
       "      <th>35062</th>\n",
       "      <td>5.3</td>\n",
       "      <td>5.6</td>\n",
       "      <td>11.1</td>\n",
       "    </tr>\n",
       "    <tr>\n",
       "      <th>35063</th>\n",
       "      <td>4.8</td>\n",
       "      <td>5.9</td>\n",
       "      <td>12.1</td>\n",
       "    </tr>\n",
       "    <tr>\n",
       "      <th>35064</th>\n",
       "      <td>4.3</td>\n",
       "      <td>7.2</td>\n",
       "      <td>12.9</td>\n",
       "    </tr>\n",
       "  </tbody>\n",
       "</table>\n",
       "</div>"
      ],
      "text/plain": [
       "       TEMP_MIDATL  TEMP_SOUTH  TEMP_WEST\n",
       "35060          5.1         5.2        9.8\n",
       "35061          5.1         5.4       10.2\n",
       "35062          5.3         5.6       11.1\n",
       "35063          4.8         5.9       12.1\n",
       "35064          4.3         7.2       12.9"
      ]
     },
     "metadata": {},
     "output_type": "display_data"
    },
    {
     "name": "stdout",
     "output_type": "stream",
     "text": [
      "\n",
      "\n",
      "Scaled temperature - Train: \n"
     ]
    },
    {
     "data": {
      "text/plain": [
       "array([[0.29043478, 0.36007828, 0.29174664],\n",
       "       [0.27652174, 0.35225049, 0.29174664],\n",
       "       [0.27826087, 0.34050881, 0.29174664],\n",
       "       ...,\n",
       "       [0.52173913, 0.44031311, 0.60268714],\n",
       "       [0.51652174, 0.43052838, 0.61612284],\n",
       "       [0.51478261, 0.44618395, 0.63339731]])"
      ]
     },
     "metadata": {},
     "output_type": "display_data"
    },
    {
     "name": "stdout",
     "output_type": "stream",
     "text": [
      "Scaled temperature - Test: \n"
     ]
    },
    {
     "data": {
      "text/plain": [
       "array([[0.51130435, 0.45205479, 0.65259117],\n",
       "       [0.51130435, 0.45596869, 0.66026871],\n",
       "       [0.51478261, 0.45988258, 0.67754319],\n",
       "       ...,\n",
       "       [0.48695652, 0.53816047, 0.4318618 ],\n",
       "       [0.47130435, 0.52641879, 0.42418426],\n",
       "       [0.46608696, 0.5146771 , 0.41458733]])"
      ]
     },
     "metadata": {},
     "output_type": "display_data"
    }
   ],
   "source": [
    "# Scaling the temperature data for each individual region\n",
    "mmScaler_temp = MinMaxScaler()\n",
    "\n",
    "# Splitting the data into train and test\n",
    "Temp_train, Temp_test = Temp_DS[:Num_train], Temp_DS[Num_train:]\n",
    "print(\"Raw temperature - Train: \")\n",
    "display(Temp_train.head(5))\n",
    "print(\"Raw temperature - Test: \")\n",
    "display(Temp_test.head(5))\n",
    "print(\"\\n\")\n",
    "\n",
    "# Scaling the data using mix-max scaler\n",
    "Temp_train = mmScaler_temp.fit_transform(Temp_train)\n",
    "print(\"Scaled temperature - Train: \")\n",
    "display(Temp_train)\n",
    "\n",
    "Temp_test = mmScaler_temp.transform(Temp_test)\n",
    "print(\"Scaled temperature - Test: \")\n",
    "display(Temp_test)"
   ]
  },
  {
   "cell_type": "markdown",
   "id": "3ccd98e1",
   "metadata": {},
   "source": [
    "# Preparing the training and testing split for model input"
   ]
  },
  {
   "cell_type": "code",
   "execution_count": 23,
   "id": "5972156f",
   "metadata": {},
   "outputs": [
    {
     "name": "stdout",
     "output_type": "stream",
     "text": [
      "(35060, 3, 3)\n",
      "[[ 0.29043478 -0.29942531 -0.29942531]\n",
      " [ 0.36007828 -0.31031077 -0.31031077]\n",
      " [ 0.29174664 -0.43165036 -0.43165036]]\n"
     ]
    }
   ],
   "source": [
    "X_train = np.array([[[i, j, k] for i,j,k in zip(Temp_train[m], Load_Lag1_train[m], Load_Lag7_train[m])] for m in range(len(Temp_train))])\n",
    "print(X_train.shape)\n",
    "print(X_train[0])"
   ]
  },
  {
   "cell_type": "code",
   "execution_count": 24,
   "id": "5d63e07c",
   "metadata": {},
   "outputs": [
    {
     "name": "stdout",
     "output_type": "stream",
     "text": [
      "(8764, 3, 3)\n",
      "[[0.51130435 0.45516996 0.42808262]\n",
      " [0.45205479 0.40676053 0.43024529]\n",
      " [0.65259117 0.47418211 0.44452534]]\n"
     ]
    }
   ],
   "source": [
    "X_test = np.array([[[i, j, k] for i,j,k in zip(Temp_test[m], Load_Lag1_test[m], Load_Lag7_test[m])] for m in range(len(Temp_test))])\n",
    "print(X_test.shape)\n",
    "print(X_test[0])"
   ]
  },
  {
   "cell_type": "code",
   "execution_count": 25,
   "id": "6b10482a",
   "metadata": {},
   "outputs": [
    {
     "name": "stdout",
     "output_type": "stream",
     "text": [
      "No. of batches:  43824\n",
      "No. of nodes:  3\n",
      "No. of features:  3\n"
     ]
    }
   ],
   "source": [
    "# Setting up the batch and node parameters\n",
    "num_batch, num_node = Load_DS.shape\n",
    "\n",
    "number_feat = X_train.shape[2]\n",
    "\n",
    "print(\"No. of batches: \", num_batch)\n",
    "print(\"No. of nodes: \" , num_node)\n",
    "print(\"No. of features: \", number_feat)"
   ]
  },
  {
   "cell_type": "code",
   "execution_count": 26,
   "id": "2bed4735",
   "metadata": {},
   "outputs": [],
   "source": [
    "X_train, X_test = Variable(torch.FloatTensor(X_train)), torch.FloatTensor(X_test)\n",
    "Y_train, Y_test = Variable(torch.FloatTensor(Load_train)), Load_test"
   ]
  },
  {
   "cell_type": "markdown",
   "id": "be51dbfb",
   "metadata": {},
   "source": [
    "## DEFINING THE MODEL"
   ]
  },
  {
   "cell_type": "code",
   "execution_count": 27,
   "id": "d9e51c5b",
   "metadata": {},
   "outputs": [
    {
     "data": {
      "text/plain": [
       "tensor([[0.3333, 0.3333, 0.3333],\n",
       "        [0.3333, 0.3333, 0.3333],\n",
       "        [0.3333, 0.3333, 0.3333]])"
      ]
     },
     "execution_count": 27,
     "metadata": {},
     "output_type": "execute_result"
    }
   ],
   "source": [
    "adj = np.ones((num_node, num_node))/num_node\n",
    "adj = Variable(torch.FloatTensor(adj))\n",
    "adj"
   ]
  },
  {
   "cell_type": "code",
   "execution_count": 28,
   "id": "f66c4ae7",
   "metadata": {},
   "outputs": [],
   "source": [
    "parser = argparse.ArgumentParser()\n",
    "parser.add_argument('--no-cuda', action='store_true', default=False, help='Disables CUDA training.')\n",
    "parser.add_argument('--seed', type=int, default=20, help='Random seed.')\n",
    "parser.add_argument('--epochs', type=int, default=10000, help='Number of epochs to train.')\n",
    "parser.add_argument('--lr', type=float, default=0.0001, help='Initial learning rate.')\n",
    "parser.add_argument('--weight_decay', type=float, default=5e-4, help='Weight decay (L2 loss on parameters).')\n",
    "parser.add_argument('--hidden', type=int, default=12, help='Number of hidden units.')\n",
    "parser.add_argument('--nb_heads', type=int, default=3, help='Number of head attentions.')\n",
    "parser.add_argument('--dropout', type=float, default=0., help='Dropout rate (1 - keep probability).')\n",
    "parser.add_argument('--alpha', type=float, default=0.2, help='Alpha for the leaky_relu.')\n",
    "parser.add_argument('--batch_size', type=float, default=Num_train, help='batch size')\n",
    "\n",
    "parser.add_argument(\"-f\", \"--fff\", help=\"a dummy argument to fool ipython\", default=\"1\")\n",
    "\n",
    "args = parser.parse_args()\n",
    "args.cuda = not args.no_cuda and torch.cuda.is_available()"
   ]
  },
  {
   "cell_type": "code",
   "execution_count": 29,
   "id": "900c8007",
   "metadata": {},
   "outputs": [
    {
     "data": {
      "text/plain": [
       "<torch._C.Generator at 0x2072c9728b0>"
      ]
     },
     "execution_count": 29,
     "metadata": {},
     "output_type": "execute_result"
    }
   ],
   "source": [
    "random.seed(args.seed)\n",
    "np.random.seed(args.seed)\n",
    "torch.manual_seed(args.seed)"
   ]
  },
  {
   "cell_type": "code",
   "execution_count": 30,
   "id": "57257d84",
   "metadata": {},
   "outputs": [],
   "source": [
    "model = GAT(nfeat=number_feat, \n",
    "            nhid=args.hidden, \n",
    "            nclass= num_node, #1\n",
    "            dropout=args.dropout, \n",
    "            nheads=args.nb_heads,\n",
    "            alpha=args.alpha)"
   ]
  },
  {
   "cell_type": "code",
   "execution_count": 31,
   "id": "0af32c9e",
   "metadata": {},
   "outputs": [],
   "source": [
    "optimizer = optim.Adam(model.parameters(), lr=args.lr, weight_decay=args.weight_decay)"
   ]
  },
  {
   "cell_type": "code",
   "execution_count": 33,
   "id": "af308c3d",
   "metadata": {},
   "outputs": [],
   "source": [
    "if args.cuda:\n",
    "    torch.cuda.manual_seed(args.seed)\n",
    "    X_train = X_train.to(device)\n",
    "    adj = adj.to(device)\n",
    "    Y_train = Y_train.to(device)\n",
    "    model.to(device)\n",
    "    print(\"Yes\")"
   ]
  },
  {
   "cell_type": "code",
   "execution_count": 34,
   "id": "79913af1",
   "metadata": {},
   "outputs": [],
   "source": [
    "Epochs = 150\n",
    "\n",
    "dataset = TensorDataset(X_train, Y_train)    \n",
    "loader = DataLoader(dataset, batch_size = 64, shuffle=False) "
   ]
  },
  {
   "cell_type": "code",
   "execution_count": 35,
   "id": "ea3e26cd",
   "metadata": {},
   "outputs": [
    {
     "name": "stdout",
     "output_type": "stream",
     "text": [
      "Epoch 1: the train loss = 1.2013\n",
      "Epoch 2: the train loss = 0.7811\n",
      "Epoch 3: the train loss = 0.5748\n",
      "Epoch 4: the train loss = 0.4112\n",
      "Epoch 5: the train loss = 0.3108\n",
      "Epoch 6: the train loss = 0.2734\n",
      "Epoch 7: the train loss = 0.2623\n",
      "Epoch 8: the train loss = 0.2572\n",
      "Epoch 9: the train loss = 0.2530\n",
      "Epoch 10: the train loss = 0.2492\n",
      "Epoch 11: the train loss = 0.2455\n",
      "Epoch 12: the train loss = 0.2420\n",
      "Epoch 13: the train loss = 0.2386\n",
      "Epoch 14: the train loss = 0.2334\n",
      "Epoch 15: the train loss = 0.2224\n",
      "Epoch 16: the train loss = 0.2125\n",
      "Epoch 17: the train loss = 0.2049\n",
      "Epoch 18: the train loss = 0.1994\n",
      "Epoch 19: the train loss = 0.1955\n",
      "Epoch 20: the train loss = 0.1927\n",
      "Epoch 21: the train loss = 0.1907\n",
      "Epoch 22: the train loss = 0.1891\n",
      "Epoch 23: the train loss = 0.1879\n",
      "Epoch 24: the train loss = 0.1869\n",
      "Epoch 25: the train loss = 0.1861\n",
      "Epoch 26: the train loss = 0.1854\n",
      "Epoch 27: the train loss = 0.1849\n",
      "Epoch 28: the train loss = 0.1844\n",
      "Epoch 29: the train loss = 0.1840\n",
      "Epoch 30: the train loss = 0.1835\n",
      "Epoch 31: the train loss = 0.1832\n",
      "Epoch 32: the train loss = 0.1828\n",
      "Epoch 33: the train loss = 0.1825\n",
      "Epoch 34: the train loss = 0.1822\n",
      "Epoch 35: the train loss = 0.1819\n",
      "Epoch 36: the train loss = 0.1817\n",
      "Epoch 37: the train loss = 0.1815\n",
      "Epoch 38: the train loss = 0.1813\n",
      "Epoch 39: the train loss = 0.1811\n",
      "Epoch 40: the train loss = 0.1809\n",
      "Epoch 41: the train loss = 0.1807\n",
      "Epoch 42: the train loss = 0.1806\n",
      "Epoch 43: the train loss = 0.1804\n",
      "Epoch 44: the train loss = 0.1803\n",
      "Epoch 45: the train loss = 0.1801\n",
      "Epoch 46: the train loss = 0.1800\n",
      "Epoch 47: the train loss = 0.1798\n",
      "Epoch 48: the train loss = 0.1797\n",
      "Epoch 49: the train loss = 0.1796\n",
      "Epoch 50: the train loss = 0.1795\n",
      "Epoch 51: the train loss = 0.1794\n",
      "Epoch 52: the train loss = 0.1793\n",
      "Epoch 53: the train loss = 0.1792\n",
      "Epoch 54: the train loss = 0.1791\n",
      "Epoch 55: the train loss = 0.1790\n",
      "Epoch 56: the train loss = 0.1789\n",
      "Epoch 57: the train loss = 0.1788\n",
      "Epoch 58: the train loss = 0.1787\n",
      "Epoch 59: the train loss = 0.1787\n",
      "Epoch 60: the train loss = 0.1786\n",
      "Epoch 61: the train loss = 0.1785\n",
      "Epoch 62: the train loss = 0.1784\n",
      "Epoch 63: the train loss = 0.1784\n",
      "Epoch 64: the train loss = 0.1783\n",
      "Epoch 65: the train loss = 0.1782\n",
      "Epoch 66: the train loss = 0.1782\n",
      "Epoch 67: the train loss = 0.1781\n",
      "Epoch 68: the train loss = 0.1781\n",
      "Epoch 69: the train loss = 0.1780\n",
      "Epoch 70: the train loss = 0.1779\n",
      "Epoch 71: the train loss = 0.1779\n",
      "Epoch 72: the train loss = 0.1778\n",
      "Epoch 73: the train loss = 0.1778\n",
      "Epoch 74: the train loss = 0.1777\n",
      "Epoch 75: the train loss = 0.1777\n",
      "Epoch 76: the train loss = 0.1776\n",
      "Epoch 77: the train loss = 0.1776\n",
      "Epoch 78: the train loss = 0.1775\n",
      "Epoch 79: the train loss = 0.1775\n",
      "Epoch 80: the train loss = 0.1774\n",
      "Epoch 81: the train loss = 0.1774\n",
      "Epoch 82: the train loss = 0.1773\n",
      "Epoch 83: the train loss = 0.1772\n",
      "Epoch 84: the train loss = 0.1772\n",
      "Epoch 85: the train loss = 0.1771\n",
      "Epoch 86: the train loss = 0.1771\n",
      "Epoch 87: the train loss = 0.1770\n",
      "Epoch 88: the train loss = 0.1770\n",
      "Epoch 89: the train loss = 0.1769\n",
      "Epoch 90: the train loss = 0.1769\n",
      "Epoch 91: the train loss = 0.1768\n",
      "Epoch 92: the train loss = 0.1768\n",
      "Epoch 93: the train loss = 0.1767\n",
      "Epoch 94: the train loss = 0.1767\n",
      "Epoch 95: the train loss = 0.1766\n",
      "Epoch 96: the train loss = 0.1766\n",
      "Epoch 97: the train loss = 0.1765\n",
      "Epoch 98: the train loss = 0.1765\n",
      "Epoch 99: the train loss = 0.1764\n",
      "Epoch 100: the train loss = 0.1763\n",
      "Epoch 101: the train loss = 0.1763\n",
      "Epoch 102: the train loss = 0.1762\n",
      "Epoch 103: the train loss = 0.1762\n",
      "Epoch 104: the train loss = 0.1761\n",
      "Epoch 105: the train loss = 0.1761\n",
      "Epoch 106: the train loss = 0.1760\n",
      "Epoch 107: the train loss = 0.1760\n",
      "Epoch 108: the train loss = 0.1759\n",
      "Epoch 109: the train loss = 0.1759\n",
      "Epoch 110: the train loss = 0.1758\n",
      "Epoch 111: the train loss = 0.1758\n",
      "Epoch 112: the train loss = 0.1757\n",
      "Epoch 113: the train loss = 0.1757\n",
      "Epoch 114: the train loss = 0.1756\n",
      "Epoch 115: the train loss = 0.1756\n",
      "Epoch 116: the train loss = 0.1755\n",
      "Epoch 117: the train loss = 0.1755\n",
      "Epoch 118: the train loss = 0.1755\n",
      "Epoch 119: the train loss = 0.1754\n",
      "Epoch 120: the train loss = 0.1754\n",
      "Epoch 121: the train loss = 0.1753\n",
      "Epoch 122: the train loss = 0.1753\n",
      "Epoch 123: the train loss = 0.1752\n",
      "Epoch 124: the train loss = 0.1752\n",
      "Epoch 125: the train loss = 0.1752\n",
      "Epoch 126: the train loss = 0.1751\n",
      "Epoch 127: the train loss = 0.1751\n",
      "Epoch 128: the train loss = 0.1750\n",
      "Epoch 129: the train loss = 0.1750\n",
      "Epoch 130: the train loss = 0.1750\n",
      "Epoch 131: the train loss = 0.1749\n",
      "Epoch 132: the train loss = 0.1749\n",
      "Epoch 133: the train loss = 0.1748\n",
      "Epoch 134: the train loss = 0.1748\n",
      "Epoch 135: the train loss = 0.1748\n",
      "Epoch 136: the train loss = 0.1747\n",
      "Epoch 137: the train loss = 0.1747\n",
      "Epoch 138: the train loss = 0.1747\n",
      "Epoch 139: the train loss = 0.1746\n",
      "Epoch 140: the train loss = 0.1746\n",
      "Epoch 141: the train loss = 0.1746\n",
      "Epoch 142: the train loss = 0.1745\n",
      "Epoch 143: the train loss = 0.1745\n",
      "Epoch 144: the train loss = 0.1745\n",
      "Epoch 145: the train loss = 0.1744\n",
      "Epoch 146: the train loss = 0.1744\n",
      "Epoch 147: the train loss = 0.1744\n",
      "Epoch 148: the train loss = 0.1744\n",
      "Epoch 149: the train loss = 0.1743\n",
      "Epoch 150: the train loss = 0.1743\n"
     ]
    }
   ],
   "source": [
    "model.train()\n",
    "\n",
    "for epoch in range(Epochs):\n",
    "    loss = 0\n",
    "    for step, (x, y) in enumerate(loader):\n",
    "        optimizer.zero_grad()\n",
    "        if args.cuda:\n",
    "            x = x.cuda()\n",
    "            y = y.cuda()\n",
    "            adj = adj.cuda()\n",
    "        loss_train = 0\n",
    "        for i in range(x.size(0)):\n",
    "            output = model(x[i], adj)\n",
    "            loss_train += F.l1_loss(output[0][0], y[i,0]) + F.l1_loss(output[1][0], y[i,1]) + F.l1_loss(output[2][0], y[i,2])\n",
    "        loss += loss_train/i\n",
    "        loss_train.backward()\n",
    "        optimizer.step()\n",
    "    loss = loss/step\n",
    "    print( \"Epoch {}: the train loss = {:.4f}\".format(epoch+1, loss))"
   ]
  },
  {
   "cell_type": "markdown",
   "id": "2aaee786",
   "metadata": {},
   "source": [
    "## MAKING PREDICTIONS"
   ]
  },
  {
   "cell_type": "code",
   "execution_count": 36,
   "id": "9525a5b0",
   "metadata": {},
   "outputs": [],
   "source": [
    "predictions = []\n",
    "\n",
    "# Switching to eval mode\n",
    "model.eval()\n",
    "\n",
    "with torch.no_grad():\n",
    "    for i in range(X_test.size(0)):\n",
    "        p = model(X_test[i], adj)\n",
    "        predictions.append(torch.cat([p[0], p[1], p[2]], dim=-1).tolist())\n",
    "\n",
    "predictions = np.array(predictions)"
   ]
  },
  {
   "cell_type": "code",
   "execution_count": 37,
   "id": "ea6caf00",
   "metadata": {},
   "outputs": [
    {
     "data": {
      "text/plain": [
       "array([[0.42028102, 0.3932184 , 0.47370422],\n",
       "       [0.40622798, 0.37893862, 0.46017754],\n",
       "       [0.38097081, 0.35303462, 0.43536523],\n",
       "       ...,\n",
       "       [0.38946995, 0.36345339, 0.44727695],\n",
       "       [0.3567906 , 0.3313185 , 0.41806462],\n",
       "       [0.31992024, 0.29462922, 0.38419926]])"
      ]
     },
     "execution_count": 37,
     "metadata": {},
     "output_type": "execute_result"
    }
   ],
   "source": [
    "predictions"
   ]
  },
  {
   "cell_type": "code",
   "execution_count": 38,
   "id": "55141db5",
   "metadata": {},
   "outputs": [
    {
     "data": {
      "text/plain": [
       "array([[31210.96186208, 11449.35207468, 47998.2372924 ],\n",
       "       [30601.53398341, 11216.96048622, 47281.10754224],\n",
       "       [29506.22533032, 10795.39443312, 45965.65919427],\n",
       "       ...,\n",
       "       [29874.80136416, 10964.95129372, 46597.17040201],\n",
       "       [28457.62067231, 10441.98267574, 45048.45106542],\n",
       "       [26858.6915587 ,  9844.89513351, 43253.04655238]])"
      ]
     },
     "execution_count": 38,
     "metadata": {},
     "output_type": "execute_result"
    }
   ],
   "source": [
    "inversed_predictions = mmScaler_load.inverse_transform(predictions)\n",
    "inversed_predictions"
   ]
  },
  {
   "cell_type": "code",
   "execution_count": 39,
   "id": "00315414",
   "metadata": {},
   "outputs": [
    {
     "data": {
      "text/plain": [
       "array([[31202.114, 11076.755, 43860.518],\n",
       "       [29720.587, 10566.596, 42079.133],\n",
       "       [28248.171, 10005.343, 40608.049],\n",
       "       ...,\n",
       "       [29583.295, 11166.77 , 46582.286],\n",
       "       [28458.691, 10838.55 , 45132.982],\n",
       "       [27428.213, 10592.674, 43501.529]])"
      ]
     },
     "execution_count": 39,
     "metadata": {},
     "output_type": "execute_result"
    }
   ],
   "source": [
    "inversed_Y_test = mmScaler_load.inverse_transform(Y_test)\n",
    "inversed_Y_test"
   ]
  },
  {
   "cell_type": "code",
   "execution_count": 40,
   "id": "b7d329d6",
   "metadata": {},
   "outputs": [
    {
     "name": "stdout",
     "output_type": "stream",
     "text": [
      "The test mape is 4.340, 4.865, 4.431\n"
     ]
    }
   ],
   "source": [
    "MAPE1 = mape(inversed_Y_test[:, 0].reshape(-1), inversed_predictions[:, 0].reshape(-1))\n",
    "MAPE2 = mape(inversed_Y_test[:, 1].reshape(-1), inversed_predictions[:, 1].reshape(-1))\n",
    "MAPE3 = mape(inversed_Y_test[:, 2].reshape(-1), inversed_predictions[:, 2].reshape(-1))\n",
    "\n",
    "print( \"The test mape is {:.3f}, {:.3f}, {:.3f}\".format(MAPE1, MAPE2, MAPE3))"
   ]
  },
  {
   "cell_type": "markdown",
   "id": "367fe5a1",
   "metadata": {},
   "source": [
    "#### AVERAGE MAPE"
   ]
  },
  {
   "cell_type": "code",
   "execution_count": 41,
   "id": "54378d3b",
   "metadata": {},
   "outputs": [
    {
     "data": {
      "text/plain": [
       "4.545584585521166"
      ]
     },
     "execution_count": 41,
     "metadata": {},
     "output_type": "execute_result"
    }
   ],
   "source": [
    "meanMAPE = np.mean([MAPE1, MAPE2, MAPE3])\n",
    "meanMAPE"
   ]
  },
  {
   "cell_type": "markdown",
   "id": "254154ec",
   "metadata": {},
   "source": [
    "#### WEIGHTED MAPE"
   ]
  },
  {
   "cell_type": "code",
   "execution_count": 42,
   "id": "19e0cb3a",
   "metadata": {},
   "outputs": [
    {
     "name": "stdout",
     "output_type": "stream",
     "text": [
      "0    0.366928\n",
      "1    0.138851\n",
      "2    0.494221\n",
      "dtype: float64\n",
      "\n",
      "\n",
      "0    4.340283\n",
      "1    4.865299\n",
      "2    4.431171\n",
      "dtype: float64\n",
      "\n",
      "\n",
      "Weighted using the max load of a region:  4.4581011460594056\n"
     ]
    }
   ],
   "source": [
    "# Scaled MAPE with max values\n",
    "weightMax = pd.Series(Load_DS.max() / sum(Load_DS.max())).reset_index(drop= True)\n",
    "print(weightMax)\n",
    "print(\"\\n\")\n",
    "mapeMetric = pd.Series([MAPE1, MAPE2, MAPE3])\n",
    "print(mapeMetric)\n",
    "print(\"\\n\")\n",
    "\n",
    "weightedMAPE = weightMax.multiply(mapeMetric)\n",
    "weightedMAPE = sum(weightedMAPE)\n",
    "print(\"Weighted using the max load of a region: \", weightedMAPE)"
   ]
  },
  {
   "cell_type": "code",
   "execution_count": 43,
   "id": "c794dbdb",
   "metadata": {},
   "outputs": [
    {
     "name": "stdout",
     "output_type": "stream",
     "text": [
      "0    0.345855\n",
      "1    0.125173\n",
      "2    0.528972\n",
      "dtype: float64\n",
      "\n",
      "\n",
      "0    4.340283\n",
      "1    4.865299\n",
      "2    4.431171\n",
      "dtype: float64\n",
      "\n",
      "\n",
      "Weighted using the mean load of a region:  4.45407817154547\n"
     ]
    }
   ],
   "source": [
    "# Scaled MAPE with average values\n",
    "weightMax = pd.Series(Load_DS.mean() / sum(Load_DS.mean())).reset_index(drop= True)\n",
    "print(weightMax)\n",
    "print(\"\\n\")\n",
    "mapeMetric = pd.Series([MAPE1, MAPE2, MAPE3])\n",
    "print(mapeMetric)\n",
    "print(\"\\n\")\n",
    "\n",
    "weightedMAPE = weightMax.multiply(mapeMetric)\n",
    "weightedMAPE = sum(weightedMAPE)\n",
    "print(\"Weighted using the mean load of a region: \", weightedMAPE)"
   ]
  }
 ],
 "metadata": {
  "kernelspec": {
   "display_name": "Python 3 (ipykernel)",
   "language": "python",
   "name": "python3"
  },
  "language_info": {
   "codemirror_mode": {
    "name": "ipython",
    "version": 3
   },
   "file_extension": ".py",
   "mimetype": "text/x-python",
   "name": "python",
   "nbconvert_exporter": "python",
   "pygments_lexer": "ipython3",
   "version": "3.9.4"
  }
 },
 "nbformat": 4,
 "nbformat_minor": 5
}
