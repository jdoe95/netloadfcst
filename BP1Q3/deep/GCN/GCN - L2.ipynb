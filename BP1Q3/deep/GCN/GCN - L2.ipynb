{
 "cells": [
  {
   "cell_type": "code",
   "execution_count": 1,
   "id": "36fec1bf",
   "metadata": {},
   "outputs": [],
   "source": [
    "# Importing the required libraries\n",
    "from IPython.display import display\n",
    "import pandas as pd\n",
    "import numpy as np\n",
    "import torch\n",
    "import torch.nn.functional as F\n",
    "import torch_geometric.transforms as T\n",
    "from torch.autograd import Variable\n",
    "from torch_geometric.nn import GCNConv\n",
    "from torch.utils.data import TensorDataset, DataLoader\n",
    "import os\n",
    "import glob\n",
    "from sklearn.preprocessing import MinMaxScaler\n",
    "import time\n",
    "\n",
    "def mape(y_true, y_pred):\n",
    "    y_true, y_pred = np.array(y_true), np.array(y_pred)\n",
    "    return np.mean(np.abs((y_true - y_pred) / max(y_true))) * 100"
   ]
  },
  {
   "cell_type": "code",
   "execution_count": 2,
   "id": "ae57c21c",
   "metadata": {},
   "outputs": [],
   "source": [
    "class Net(torch.nn.Module):\n",
    "    def __init__(self, d_feat, edge_indexs, nnode):\n",
    "        super(Net, self).__init__()\n",
    "        self.edge_index = edge_indexs\n",
    "        self.nnode = nnode\n",
    "        self.conv1 = GCNConv(d_feat, 32, cached=True,\n",
    "                             normalize= True)\n",
    "        self.conv2 = GCNConv(32, 32, cached=True,\n",
    "                             normalize=True)\n",
    "        self.conv3 = GCNConv(32, 8, cached=True,\n",
    "                             normalize=True)\n",
    "        self.linears = torch.nn.ModuleList([torch.nn.Linear(8, 1) for _ in range(nnode)])\n",
    "\n",
    "\n",
    "    def forward(self, x):\n",
    "        x, edge_index, edge_weight = x, self.edge_index, None\n",
    "        x = F.relu(self.conv1(x, edge_index, edge_weight))\n",
    "        x = F.dropout(x, training=self.training)\n",
    "        x = F.relu(self.conv2(x, edge_index, edge_weight))\n",
    "        x = F.relu(self.conv3(x, edge_index, edge_weight))\n",
    "        \n",
    "        out = [self.linears[i](x[i, :]) for i in range(self.nnode)]\n",
    "\n",
    "        return out"
   ]
  },
  {
   "cell_type": "markdown",
   "id": "cc44d954",
   "metadata": {},
   "source": [
    "## Processing the file to input into the model"
   ]
  },
  {
   "cell_type": "code",
   "execution_count": 3,
   "id": "11de1c47",
   "metadata": {},
   "outputs": [
    {
     "name": "stdout",
     "output_type": "stream",
     "text": [
      "['COAST.csv', 'EAST.csv', 'FWEST.csv', 'NCENT.csv', 'NORTH.csv', 'SCENT.csv', 'SOUTH.csv', 'WEST.csv']\n"
     ]
    }
   ],
   "source": [
    "# Specifying the path of file\n",
    "path= r\"F:\\GAMES Research\\GAT\\GAT\\DOE_Q1\\L2\\data_cleaned\"\n",
    "\n",
    "# Listing just the required files\n",
    "fileList = os.listdir(path)\n",
    "fileList.remove(\"Date.csv\")\n",
    "\n",
    "# Previewing the required file names\n",
    "print(fileList)"
   ]
  },
  {
   "cell_type": "code",
   "execution_count": 4,
   "id": "80a72cc3",
   "metadata": {},
   "outputs": [
    {
     "data": {
      "text/html": [
       "<div>\n",
       "<style scoped>\n",
       "    .dataframe tbody tr th:only-of-type {\n",
       "        vertical-align: middle;\n",
       "    }\n",
       "\n",
       "    .dataframe tbody tr th {\n",
       "        vertical-align: top;\n",
       "    }\n",
       "\n",
       "    .dataframe thead th {\n",
       "        text-align: right;\n",
       "    }\n",
       "</style>\n",
       "<table border=\"1\" class=\"dataframe\">\n",
       "  <thead>\n",
       "    <tr style=\"text-align: right;\">\n",
       "      <th></th>\n",
       "      <th>Net</th>\n",
       "      <th>Temprature</th>\n",
       "    </tr>\n",
       "  </thead>\n",
       "  <tbody>\n",
       "    <tr>\n",
       "      <th>0</th>\n",
       "      <td>9844.200268</td>\n",
       "      <td>6.8</td>\n",
       "    </tr>\n",
       "    <tr>\n",
       "      <th>1</th>\n",
       "      <td>9653.456269</td>\n",
       "      <td>7.1</td>\n",
       "    </tr>\n",
       "    <tr>\n",
       "      <th>2</th>\n",
       "      <td>9502.299659</td>\n",
       "      <td>7.1</td>\n",
       "    </tr>\n",
       "    <tr>\n",
       "      <th>3</th>\n",
       "      <td>9474.478036</td>\n",
       "      <td>7.0</td>\n",
       "    </tr>\n",
       "    <tr>\n",
       "      <th>4</th>\n",
       "      <td>9554.370489</td>\n",
       "      <td>6.5</td>\n",
       "    </tr>\n",
       "    <tr>\n",
       "      <th>...</th>\n",
       "      <td>...</td>\n",
       "      <td>...</td>\n",
       "    </tr>\n",
       "    <tr>\n",
       "      <th>43818</th>\n",
       "      <td>11109.257856</td>\n",
       "      <td>14.8</td>\n",
       "    </tr>\n",
       "    <tr>\n",
       "      <th>43819</th>\n",
       "      <td>10846.500062</td>\n",
       "      <td>14.3</td>\n",
       "    </tr>\n",
       "    <tr>\n",
       "      <th>43820</th>\n",
       "      <td>10592.539874</td>\n",
       "      <td>14.1</td>\n",
       "    </tr>\n",
       "    <tr>\n",
       "      <th>43821</th>\n",
       "      <td>10304.624870</td>\n",
       "      <td>13.7</td>\n",
       "    </tr>\n",
       "    <tr>\n",
       "      <th>43822</th>\n",
       "      <td>10019.771129</td>\n",
       "      <td>12.9</td>\n",
       "    </tr>\n",
       "  </tbody>\n",
       "</table>\n",
       "<p>43823 rows × 2 columns</p>\n",
       "</div>"
      ],
      "text/plain": [
       "                Net  Temprature\n",
       "0       9844.200268         6.8\n",
       "1       9653.456269         7.1\n",
       "2       9502.299659         7.1\n",
       "3       9474.478036         7.0\n",
       "4       9554.370489         6.5\n",
       "...             ...         ...\n",
       "43818  11109.257856        14.8\n",
       "43819  10846.500062        14.3\n",
       "43820  10592.539874        14.1\n",
       "43821  10304.624870        13.7\n",
       "43822  10019.771129        12.9\n",
       "\n",
       "[43823 rows x 2 columns]"
      ]
     },
     "execution_count": 4,
     "metadata": {},
     "output_type": "execute_result"
    }
   ],
   "source": [
    "# Just for previewing the columns\n",
    "pd.read_csv(os.path.join(path, fileList[0]))"
   ]
  },
  {
   "cell_type": "markdown",
   "id": "9ad4906c",
   "metadata": {},
   "source": [
    "## Processing the load data into train-test split"
   ]
  },
  {
   "cell_type": "code",
   "execution_count": 5,
   "id": "a22c0e63",
   "metadata": {},
   "outputs": [
    {
     "data": {
      "text/html": [
       "<div>\n",
       "<style scoped>\n",
       "    .dataframe tbody tr th:only-of-type {\n",
       "        vertical-align: middle;\n",
       "    }\n",
       "\n",
       "    .dataframe tbody tr th {\n",
       "        vertical-align: top;\n",
       "    }\n",
       "\n",
       "    .dataframe thead th {\n",
       "        text-align: right;\n",
       "    }\n",
       "</style>\n",
       "<table border=\"1\" class=\"dataframe\">\n",
       "  <thead>\n",
       "    <tr style=\"text-align: right;\">\n",
       "      <th></th>\n",
       "      <th>LOAD_COAST</th>\n",
       "      <th>LOAD_EAST</th>\n",
       "      <th>LOAD_FWEST</th>\n",
       "      <th>LOAD_NCENT</th>\n",
       "      <th>LOAD_NORTH</th>\n",
       "      <th>LOAD_SCENT</th>\n",
       "      <th>LOAD_SOUTH</th>\n",
       "      <th>LOAD_WEST</th>\n",
       "    </tr>\n",
       "  </thead>\n",
       "  <tbody>\n",
       "    <tr>\n",
       "      <th>0</th>\n",
       "      <td>9844.200268</td>\n",
       "      <td>1350.784678</td>\n",
       "      <td>2078.060021</td>\n",
       "      <td>13640.024978</td>\n",
       "      <td>901.770195</td>\n",
       "      <td>6731.301663</td>\n",
       "      <td>3607.904503</td>\n",
       "      <td>1470.814721</td>\n",
       "    </tr>\n",
       "    <tr>\n",
       "      <th>1</th>\n",
       "      <td>9653.456269</td>\n",
       "      <td>1333.434943</td>\n",
       "      <td>2057.993265</td>\n",
       "      <td>13425.121941</td>\n",
       "      <td>890.150373</td>\n",
       "      <td>6602.935629</td>\n",
       "      <td>3609.619438</td>\n",
       "      <td>1440.832944</td>\n",
       "    </tr>\n",
       "    <tr>\n",
       "      <th>2</th>\n",
       "      <td>9502.299659</td>\n",
       "      <td>1323.908498</td>\n",
       "      <td>2039.019542</td>\n",
       "      <td>13286.070909</td>\n",
       "      <td>880.926639</td>\n",
       "      <td>6530.663273</td>\n",
       "      <td>3573.158363</td>\n",
       "      <td>1430.495044</td>\n",
       "    </tr>\n",
       "    <tr>\n",
       "      <th>3</th>\n",
       "      <td>9474.478036</td>\n",
       "      <td>1325.951405</td>\n",
       "      <td>2027.431312</td>\n",
       "      <td>13310.892590</td>\n",
       "      <td>883.990576</td>\n",
       "      <td>6503.367925</td>\n",
       "      <td>3538.420320</td>\n",
       "      <td>1423.806348</td>\n",
       "    </tr>\n",
       "    <tr>\n",
       "      <th>4</th>\n",
       "      <td>9554.370489</td>\n",
       "      <td>1339.675290</td>\n",
       "      <td>2026.809889</td>\n",
       "      <td>13423.345503</td>\n",
       "      <td>894.320303</td>\n",
       "      <td>6603.227872</td>\n",
       "      <td>3542.905394</td>\n",
       "      <td>1428.180823</td>\n",
       "    </tr>\n",
       "    <tr>\n",
       "      <th>...</th>\n",
       "      <td>...</td>\n",
       "      <td>...</td>\n",
       "      <td>...</td>\n",
       "      <td>...</td>\n",
       "      <td>...</td>\n",
       "      <td>...</td>\n",
       "      <td>...</td>\n",
       "      <td>...</td>\n",
       "    </tr>\n",
       "    <tr>\n",
       "      <th>43818</th>\n",
       "      <td>11109.257856</td>\n",
       "      <td>1417.306742</td>\n",
       "      <td>3637.456602</td>\n",
       "      <td>13164.660616</td>\n",
       "      <td>825.761799</td>\n",
       "      <td>6453.697286</td>\n",
       "      <td>3181.359858</td>\n",
       "      <td>1290.258402</td>\n",
       "    </tr>\n",
       "    <tr>\n",
       "      <th>43819</th>\n",
       "      <td>10846.500062</td>\n",
       "      <td>1411.761157</td>\n",
       "      <td>3639.019312</td>\n",
       "      <td>12928.911509</td>\n",
       "      <td>822.190573</td>\n",
       "      <td>6175.763027</td>\n",
       "      <td>3044.648834</td>\n",
       "      <td>1276.748646</td>\n",
       "    </tr>\n",
       "    <tr>\n",
       "      <th>43820</th>\n",
       "      <td>10592.539874</td>\n",
       "      <td>1403.990584</td>\n",
       "      <td>3639.463899</td>\n",
       "      <td>12716.274141</td>\n",
       "      <td>819.394012</td>\n",
       "      <td>5968.287603</td>\n",
       "      <td>2930.563230</td>\n",
       "      <td>1260.087906</td>\n",
       "    </tr>\n",
       "    <tr>\n",
       "      <th>43821</th>\n",
       "      <td>10304.624870</td>\n",
       "      <td>1387.051521</td>\n",
       "      <td>3630.184859</td>\n",
       "      <td>12413.090126</td>\n",
       "      <td>804.714775</td>\n",
       "      <td>5769.745220</td>\n",
       "      <td>2829.531899</td>\n",
       "      <td>1238.412254</td>\n",
       "    </tr>\n",
       "    <tr>\n",
       "      <th>43822</th>\n",
       "      <td>10019.771129</td>\n",
       "      <td>1357.841863</td>\n",
       "      <td>3628.068853</td>\n",
       "      <td>12084.775970</td>\n",
       "      <td>790.865357</td>\n",
       "      <td>5614.231555</td>\n",
       "      <td>2747.692143</td>\n",
       "      <td>1217.592105</td>\n",
       "    </tr>\n",
       "  </tbody>\n",
       "</table>\n",
       "<p>43823 rows × 8 columns</p>\n",
       "</div>"
      ],
      "text/plain": [
       "         LOAD_COAST    LOAD_EAST   LOAD_FWEST    LOAD_NCENT  LOAD_NORTH  \\\n",
       "0       9844.200268  1350.784678  2078.060021  13640.024978  901.770195   \n",
       "1       9653.456269  1333.434943  2057.993265  13425.121941  890.150373   \n",
       "2       9502.299659  1323.908498  2039.019542  13286.070909  880.926639   \n",
       "3       9474.478036  1325.951405  2027.431312  13310.892590  883.990576   \n",
       "4       9554.370489  1339.675290  2026.809889  13423.345503  894.320303   \n",
       "...             ...          ...          ...           ...         ...   \n",
       "43818  11109.257856  1417.306742  3637.456602  13164.660616  825.761799   \n",
       "43819  10846.500062  1411.761157  3639.019312  12928.911509  822.190573   \n",
       "43820  10592.539874  1403.990584  3639.463899  12716.274141  819.394012   \n",
       "43821  10304.624870  1387.051521  3630.184859  12413.090126  804.714775   \n",
       "43822  10019.771129  1357.841863  3628.068853  12084.775970  790.865357   \n",
       "\n",
       "        LOAD_SCENT   LOAD_SOUTH    LOAD_WEST  \n",
       "0      6731.301663  3607.904503  1470.814721  \n",
       "1      6602.935629  3609.619438  1440.832944  \n",
       "2      6530.663273  3573.158363  1430.495044  \n",
       "3      6503.367925  3538.420320  1423.806348  \n",
       "4      6603.227872  3542.905394  1428.180823  \n",
       "...            ...          ...          ...  \n",
       "43818  6453.697286  3181.359858  1290.258402  \n",
       "43819  6175.763027  3044.648834  1276.748646  \n",
       "43820  5968.287603  2930.563230  1260.087906  \n",
       "43821  5769.745220  2829.531899  1238.412254  \n",
       "43822  5614.231555  2747.692143  1217.592105  \n",
       "\n",
       "[43823 rows x 8 columns]"
      ]
     },
     "execution_count": 5,
     "metadata": {},
     "output_type": "execute_result"
    }
   ],
   "source": [
    "# Fetching and concatenating the data\n",
    "Load_DS = pd.concat([pd.read_csv(os.path.join(path, fileName), usecols= [\"Net\"]) for fileName in fileList], axis= 1)\n",
    "Load_DS.columns = [i.removesuffix('.csv') for i in fileList]\n",
    "Load_DS = Load_DS.add_prefix(\"LOAD_\")\n",
    "\n",
    "Load_DS"
   ]
  },
  {
   "cell_type": "code",
   "execution_count": 6,
   "id": "2c948064",
   "metadata": {},
   "outputs": [
    {
     "data": {
      "text/html": [
       "<div>\n",
       "<style scoped>\n",
       "    .dataframe tbody tr th:only-of-type {\n",
       "        vertical-align: middle;\n",
       "    }\n",
       "\n",
       "    .dataframe tbody tr th {\n",
       "        vertical-align: top;\n",
       "    }\n",
       "\n",
       "    .dataframe thead th {\n",
       "        text-align: right;\n",
       "    }\n",
       "</style>\n",
       "<table border=\"1\" class=\"dataframe\">\n",
       "  <thead>\n",
       "    <tr style=\"text-align: right;\">\n",
       "      <th></th>\n",
       "      <th>LOAD_COAST</th>\n",
       "      <th>LOAD_EAST</th>\n",
       "      <th>LOAD_FWEST</th>\n",
       "      <th>LOAD_NCENT</th>\n",
       "      <th>LOAD_NORTH</th>\n",
       "      <th>LOAD_SCENT</th>\n",
       "      <th>LOAD_SOUTH</th>\n",
       "      <th>LOAD_WEST</th>\n",
       "    </tr>\n",
       "  </thead>\n",
       "  <tbody>\n",
       "  </tbody>\n",
       "</table>\n",
       "</div>"
      ],
      "text/plain": [
       "Empty DataFrame\n",
       "Columns: [LOAD_COAST, LOAD_EAST, LOAD_FWEST, LOAD_NCENT, LOAD_NORTH, LOAD_SCENT, LOAD_SOUTH, LOAD_WEST]\n",
       "Index: []"
      ]
     },
     "execution_count": 6,
     "metadata": {},
     "output_type": "execute_result"
    }
   ],
   "source": [
    "Load_DS[Load_DS.isna().any(axis=1)]"
   ]
  },
  {
   "cell_type": "code",
   "execution_count": 7,
   "id": "491d655d",
   "metadata": {},
   "outputs": [
    {
     "data": {
      "text/html": [
       "<div>\n",
       "<style scoped>\n",
       "    .dataframe tbody tr th:only-of-type {\n",
       "        vertical-align: middle;\n",
       "    }\n",
       "\n",
       "    .dataframe tbody tr th {\n",
       "        vertical-align: top;\n",
       "    }\n",
       "\n",
       "    .dataframe thead th {\n",
       "        text-align: right;\n",
       "    }\n",
       "</style>\n",
       "<table border=\"1\" class=\"dataframe\">\n",
       "  <thead>\n",
       "    <tr style=\"text-align: right;\">\n",
       "      <th></th>\n",
       "      <th>LAG1_COAST</th>\n",
       "      <th>LAG1_EAST</th>\n",
       "      <th>LAG1_FWEST</th>\n",
       "      <th>LAG1_NCENT</th>\n",
       "      <th>LAG1_NORTH</th>\n",
       "      <th>LAG1_SCENT</th>\n",
       "      <th>LAG1_SOUTH</th>\n",
       "      <th>LAG1_WEST</th>\n",
       "    </tr>\n",
       "  </thead>\n",
       "  <tbody>\n",
       "    <tr>\n",
       "      <th>0</th>\n",
       "      <td>0.000000</td>\n",
       "      <td>0.000000</td>\n",
       "      <td>0.000000</td>\n",
       "      <td>0.000000</td>\n",
       "      <td>0.000000</td>\n",
       "      <td>0.000000</td>\n",
       "      <td>0.000000</td>\n",
       "      <td>0.000000</td>\n",
       "    </tr>\n",
       "    <tr>\n",
       "      <th>1</th>\n",
       "      <td>0.000000</td>\n",
       "      <td>0.000000</td>\n",
       "      <td>0.000000</td>\n",
       "      <td>0.000000</td>\n",
       "      <td>0.000000</td>\n",
       "      <td>0.000000</td>\n",
       "      <td>0.000000</td>\n",
       "      <td>0.000000</td>\n",
       "    </tr>\n",
       "    <tr>\n",
       "      <th>2</th>\n",
       "      <td>0.000000</td>\n",
       "      <td>0.000000</td>\n",
       "      <td>0.000000</td>\n",
       "      <td>0.000000</td>\n",
       "      <td>0.000000</td>\n",
       "      <td>0.000000</td>\n",
       "      <td>0.000000</td>\n",
       "      <td>0.000000</td>\n",
       "    </tr>\n",
       "    <tr>\n",
       "      <th>3</th>\n",
       "      <td>0.000000</td>\n",
       "      <td>0.000000</td>\n",
       "      <td>0.000000</td>\n",
       "      <td>0.000000</td>\n",
       "      <td>0.000000</td>\n",
       "      <td>0.000000</td>\n",
       "      <td>0.000000</td>\n",
       "      <td>0.000000</td>\n",
       "    </tr>\n",
       "    <tr>\n",
       "      <th>4</th>\n",
       "      <td>0.000000</td>\n",
       "      <td>0.000000</td>\n",
       "      <td>0.000000</td>\n",
       "      <td>0.000000</td>\n",
       "      <td>0.000000</td>\n",
       "      <td>0.000000</td>\n",
       "      <td>0.000000</td>\n",
       "      <td>0.000000</td>\n",
       "    </tr>\n",
       "    <tr>\n",
       "      <th>...</th>\n",
       "      <td>...</td>\n",
       "      <td>...</td>\n",
       "      <td>...</td>\n",
       "      <td>...</td>\n",
       "      <td>...</td>\n",
       "      <td>...</td>\n",
       "      <td>...</td>\n",
       "      <td>...</td>\n",
       "    </tr>\n",
       "    <tr>\n",
       "      <th>43818</th>\n",
       "      <td>11383.135155</td>\n",
       "      <td>1501.958142</td>\n",
       "      <td>3785.625918</td>\n",
       "      <td>14134.787888</td>\n",
       "      <td>870.666623</td>\n",
       "      <td>6702.451162</td>\n",
       "      <td>3171.171394</td>\n",
       "      <td>1366.615020</td>\n",
       "    </tr>\n",
       "    <tr>\n",
       "      <th>43819</th>\n",
       "      <td>11373.392115</td>\n",
       "      <td>1512.317113</td>\n",
       "      <td>3819.840998</td>\n",
       "      <td>14219.251639</td>\n",
       "      <td>878.711519</td>\n",
       "      <td>6747.748182</td>\n",
       "      <td>3162.433299</td>\n",
       "      <td>1393.605790</td>\n",
       "    </tr>\n",
       "    <tr>\n",
       "      <th>43820</th>\n",
       "      <td>11207.914145</td>\n",
       "      <td>1505.305483</td>\n",
       "      <td>3835.426633</td>\n",
       "      <td>14082.197457</td>\n",
       "      <td>868.522154</td>\n",
       "      <td>6694.905174</td>\n",
       "      <td>3115.097385</td>\n",
       "      <td>1406.001524</td>\n",
       "    </tr>\n",
       "    <tr>\n",
       "      <th>43821</th>\n",
       "      <td>10894.781874</td>\n",
       "      <td>1458.874421</td>\n",
       "      <td>3823.477228</td>\n",
       "      <td>13637.973450</td>\n",
       "      <td>847.317385</td>\n",
       "      <td>6539.604065</td>\n",
       "      <td>3022.212876</td>\n",
       "      <td>1377.215087</td>\n",
       "    </tr>\n",
       "    <tr>\n",
       "      <th>43822</th>\n",
       "      <td>10519.377188</td>\n",
       "      <td>1409.760864</td>\n",
       "      <td>3794.794487</td>\n",
       "      <td>13162.540749</td>\n",
       "      <td>823.984073</td>\n",
       "      <td>6328.074663</td>\n",
       "      <td>2890.211181</td>\n",
       "      <td>1353.936812</td>\n",
       "    </tr>\n",
       "  </tbody>\n",
       "</table>\n",
       "<p>43823 rows × 8 columns</p>\n",
       "</div>"
      ],
      "text/plain": [
       "         LAG1_COAST    LAG1_EAST   LAG1_FWEST    LAG1_NCENT  LAG1_NORTH  \\\n",
       "0          0.000000     0.000000     0.000000      0.000000    0.000000   \n",
       "1          0.000000     0.000000     0.000000      0.000000    0.000000   \n",
       "2          0.000000     0.000000     0.000000      0.000000    0.000000   \n",
       "3          0.000000     0.000000     0.000000      0.000000    0.000000   \n",
       "4          0.000000     0.000000     0.000000      0.000000    0.000000   \n",
       "...             ...          ...          ...           ...         ...   \n",
       "43818  11383.135155  1501.958142  3785.625918  14134.787888  870.666623   \n",
       "43819  11373.392115  1512.317113  3819.840998  14219.251639  878.711519   \n",
       "43820  11207.914145  1505.305483  3835.426633  14082.197457  868.522154   \n",
       "43821  10894.781874  1458.874421  3823.477228  13637.973450  847.317385   \n",
       "43822  10519.377188  1409.760864  3794.794487  13162.540749  823.984073   \n",
       "\n",
       "        LAG1_SCENT   LAG1_SOUTH    LAG1_WEST  \n",
       "0         0.000000     0.000000     0.000000  \n",
       "1         0.000000     0.000000     0.000000  \n",
       "2         0.000000     0.000000     0.000000  \n",
       "3         0.000000     0.000000     0.000000  \n",
       "4         0.000000     0.000000     0.000000  \n",
       "...            ...          ...          ...  \n",
       "43818  6702.451162  3171.171394  1366.615020  \n",
       "43819  6747.748182  3162.433299  1393.605790  \n",
       "43820  6694.905174  3115.097385  1406.001524  \n",
       "43821  6539.604065  3022.212876  1377.215087  \n",
       "43822  6328.074663  2890.211181  1353.936812  \n",
       "\n",
       "[43823 rows x 8 columns]"
      ]
     },
     "execution_count": 7,
     "metadata": {},
     "output_type": "execute_result"
    }
   ],
   "source": [
    "# Creating 1-day lag loads\n",
    "Load_lag_1 = Load_DS.shift(24).fillna(0)\n",
    "Load_lag_1.columns = [i.removeprefix('LOAD_') for i in Load_lag_1.columns]\n",
    "Load_lag_1 = Load_lag_1.add_prefix(\"LAG1_\")\n",
    "Load_lag_1"
   ]
  },
  {
   "cell_type": "code",
   "execution_count": 8,
   "id": "caa1c925",
   "metadata": {},
   "outputs": [
    {
     "data": {
      "text/html": [
       "<div>\n",
       "<style scoped>\n",
       "    .dataframe tbody tr th:only-of-type {\n",
       "        vertical-align: middle;\n",
       "    }\n",
       "\n",
       "    .dataframe tbody tr th {\n",
       "        vertical-align: top;\n",
       "    }\n",
       "\n",
       "    .dataframe thead th {\n",
       "        text-align: right;\n",
       "    }\n",
       "</style>\n",
       "<table border=\"1\" class=\"dataframe\">\n",
       "  <thead>\n",
       "    <tr style=\"text-align: right;\">\n",
       "      <th></th>\n",
       "      <th>LAG7_COAST</th>\n",
       "      <th>LAG7_EAST</th>\n",
       "      <th>LAG7_FWEST</th>\n",
       "      <th>LAG7_NCENT</th>\n",
       "      <th>LAG7_NORTH</th>\n",
       "      <th>LAG7_SCENT</th>\n",
       "      <th>LAG7_SOUTH</th>\n",
       "      <th>LAG7_WEST</th>\n",
       "    </tr>\n",
       "  </thead>\n",
       "  <tbody>\n",
       "    <tr>\n",
       "      <th>0</th>\n",
       "      <td>0.000000</td>\n",
       "      <td>0.000000</td>\n",
       "      <td>0.000000</td>\n",
       "      <td>0.000000</td>\n",
       "      <td>0.000000</td>\n",
       "      <td>0.000000</td>\n",
       "      <td>0.000000</td>\n",
       "      <td>0.000000</td>\n",
       "    </tr>\n",
       "    <tr>\n",
       "      <th>1</th>\n",
       "      <td>0.000000</td>\n",
       "      <td>0.000000</td>\n",
       "      <td>0.000000</td>\n",
       "      <td>0.000000</td>\n",
       "      <td>0.000000</td>\n",
       "      <td>0.000000</td>\n",
       "      <td>0.000000</td>\n",
       "      <td>0.000000</td>\n",
       "    </tr>\n",
       "    <tr>\n",
       "      <th>2</th>\n",
       "      <td>0.000000</td>\n",
       "      <td>0.000000</td>\n",
       "      <td>0.000000</td>\n",
       "      <td>0.000000</td>\n",
       "      <td>0.000000</td>\n",
       "      <td>0.000000</td>\n",
       "      <td>0.000000</td>\n",
       "      <td>0.000000</td>\n",
       "    </tr>\n",
       "    <tr>\n",
       "      <th>3</th>\n",
       "      <td>0.000000</td>\n",
       "      <td>0.000000</td>\n",
       "      <td>0.000000</td>\n",
       "      <td>0.000000</td>\n",
       "      <td>0.000000</td>\n",
       "      <td>0.000000</td>\n",
       "      <td>0.000000</td>\n",
       "      <td>0.000000</td>\n",
       "    </tr>\n",
       "    <tr>\n",
       "      <th>4</th>\n",
       "      <td>0.000000</td>\n",
       "      <td>0.000000</td>\n",
       "      <td>0.000000</td>\n",
       "      <td>0.000000</td>\n",
       "      <td>0.000000</td>\n",
       "      <td>0.000000</td>\n",
       "      <td>0.000000</td>\n",
       "      <td>0.000000</td>\n",
       "    </tr>\n",
       "    <tr>\n",
       "      <th>...</th>\n",
       "      <td>...</td>\n",
       "      <td>...</td>\n",
       "      <td>...</td>\n",
       "      <td>...</td>\n",
       "      <td>...</td>\n",
       "      <td>...</td>\n",
       "      <td>...</td>\n",
       "      <td>...</td>\n",
       "    </tr>\n",
       "    <tr>\n",
       "      <th>43818</th>\n",
       "      <td>10523.664434</td>\n",
       "      <td>1222.397590</td>\n",
       "      <td>3649.932706</td>\n",
       "      <td>11434.247698</td>\n",
       "      <td>720.820842</td>\n",
       "      <td>5780.380475</td>\n",
       "      <td>3033.234778</td>\n",
       "      <td>1153.226635</td>\n",
       "    </tr>\n",
       "    <tr>\n",
       "      <th>43819</th>\n",
       "      <td>10335.992990</td>\n",
       "      <td>1237.349389</td>\n",
       "      <td>3640.453277</td>\n",
       "      <td>11231.263595</td>\n",
       "      <td>719.864419</td>\n",
       "      <td>5693.923783</td>\n",
       "      <td>2913.452696</td>\n",
       "      <td>1149.420623</td>\n",
       "    </tr>\n",
       "    <tr>\n",
       "      <th>43820</th>\n",
       "      <td>10144.751404</td>\n",
       "      <td>1236.197626</td>\n",
       "      <td>3624.437253</td>\n",
       "      <td>11031.084524</td>\n",
       "      <td>714.949676</td>\n",
       "      <td>5624.696898</td>\n",
       "      <td>2828.170796</td>\n",
       "      <td>1139.002281</td>\n",
       "    </tr>\n",
       "    <tr>\n",
       "      <th>43821</th>\n",
       "      <td>9876.787820</td>\n",
       "      <td>1216.187797</td>\n",
       "      <td>3619.528769</td>\n",
       "      <td>10749.333909</td>\n",
       "      <td>698.896222</td>\n",
       "      <td>5512.343425</td>\n",
       "      <td>2778.351469</td>\n",
       "      <td>1124.153791</td>\n",
       "    </tr>\n",
       "    <tr>\n",
       "      <th>43822</th>\n",
       "      <td>9562.900403</td>\n",
       "      <td>1166.584633</td>\n",
       "      <td>3606.519990</td>\n",
       "      <td>10336.276556</td>\n",
       "      <td>683.081316</td>\n",
       "      <td>5344.858187</td>\n",
       "      <td>2717.746859</td>\n",
       "      <td>1100.076605</td>\n",
       "    </tr>\n",
       "  </tbody>\n",
       "</table>\n",
       "<p>43823 rows × 8 columns</p>\n",
       "</div>"
      ],
      "text/plain": [
       "         LAG7_COAST    LAG7_EAST   LAG7_FWEST    LAG7_NCENT  LAG7_NORTH  \\\n",
       "0          0.000000     0.000000     0.000000      0.000000    0.000000   \n",
       "1          0.000000     0.000000     0.000000      0.000000    0.000000   \n",
       "2          0.000000     0.000000     0.000000      0.000000    0.000000   \n",
       "3          0.000000     0.000000     0.000000      0.000000    0.000000   \n",
       "4          0.000000     0.000000     0.000000      0.000000    0.000000   \n",
       "...             ...          ...          ...           ...         ...   \n",
       "43818  10523.664434  1222.397590  3649.932706  11434.247698  720.820842   \n",
       "43819  10335.992990  1237.349389  3640.453277  11231.263595  719.864419   \n",
       "43820  10144.751404  1236.197626  3624.437253  11031.084524  714.949676   \n",
       "43821   9876.787820  1216.187797  3619.528769  10749.333909  698.896222   \n",
       "43822   9562.900403  1166.584633  3606.519990  10336.276556  683.081316   \n",
       "\n",
       "        LAG7_SCENT   LAG7_SOUTH    LAG7_WEST  \n",
       "0         0.000000     0.000000     0.000000  \n",
       "1         0.000000     0.000000     0.000000  \n",
       "2         0.000000     0.000000     0.000000  \n",
       "3         0.000000     0.000000     0.000000  \n",
       "4         0.000000     0.000000     0.000000  \n",
       "...            ...          ...          ...  \n",
       "43818  5780.380475  3033.234778  1153.226635  \n",
       "43819  5693.923783  2913.452696  1149.420623  \n",
       "43820  5624.696898  2828.170796  1139.002281  \n",
       "43821  5512.343425  2778.351469  1124.153791  \n",
       "43822  5344.858187  2717.746859  1100.076605  \n",
       "\n",
       "[43823 rows x 8 columns]"
      ]
     },
     "execution_count": 8,
     "metadata": {},
     "output_type": "execute_result"
    }
   ],
   "source": [
    "# Creating 7-day lag loads\n",
    "Load_lag_7 = Load_DS.shift(24*7).fillna(0)\n",
    "Load_lag_7.columns = [i.removeprefix('LOAD_') for i in Load_lag_7.columns]\n",
    "Load_lag_7 = Load_lag_7.add_prefix(\"LAG7_\")\n",
    "Load_lag_7"
   ]
  },
  {
   "cell_type": "code",
   "execution_count": 9,
   "id": "e53d23a9",
   "metadata": {},
   "outputs": [],
   "source": [
    "# Setting the train-test split\n",
    "ratio = 0.2\n",
    "Num_test, Num_train = int(len(Load_DS) * ratio), len(Load_DS) - int(len(Load_DS) * ratio)"
   ]
  },
  {
   "cell_type": "code",
   "execution_count": 10,
   "id": "c259eb63",
   "metadata": {},
   "outputs": [
    {
     "name": "stdout",
     "output_type": "stream",
     "text": [
      "Raw load - Train: \n"
     ]
    },
    {
     "data": {
      "text/html": [
       "<div>\n",
       "<style scoped>\n",
       "    .dataframe tbody tr th:only-of-type {\n",
       "        vertical-align: middle;\n",
       "    }\n",
       "\n",
       "    .dataframe tbody tr th {\n",
       "        vertical-align: top;\n",
       "    }\n",
       "\n",
       "    .dataframe thead th {\n",
       "        text-align: right;\n",
       "    }\n",
       "</style>\n",
       "<table border=\"1\" class=\"dataframe\">\n",
       "  <thead>\n",
       "    <tr style=\"text-align: right;\">\n",
       "      <th></th>\n",
       "      <th>LOAD_COAST</th>\n",
       "      <th>LOAD_EAST</th>\n",
       "      <th>LOAD_FWEST</th>\n",
       "      <th>LOAD_NCENT</th>\n",
       "      <th>LOAD_NORTH</th>\n",
       "      <th>LOAD_SCENT</th>\n",
       "      <th>LOAD_SOUTH</th>\n",
       "      <th>LOAD_WEST</th>\n",
       "    </tr>\n",
       "  </thead>\n",
       "  <tbody>\n",
       "    <tr>\n",
       "      <th>0</th>\n",
       "      <td>9844.200268</td>\n",
       "      <td>1350.784678</td>\n",
       "      <td>2078.060021</td>\n",
       "      <td>13640.024978</td>\n",
       "      <td>901.770195</td>\n",
       "      <td>6731.301663</td>\n",
       "      <td>3607.904503</td>\n",
       "      <td>1470.814721</td>\n",
       "    </tr>\n",
       "    <tr>\n",
       "      <th>1</th>\n",
       "      <td>9653.456269</td>\n",
       "      <td>1333.434943</td>\n",
       "      <td>2057.993265</td>\n",
       "      <td>13425.121941</td>\n",
       "      <td>890.150373</td>\n",
       "      <td>6602.935629</td>\n",
       "      <td>3609.619438</td>\n",
       "      <td>1440.832944</td>\n",
       "    </tr>\n",
       "  </tbody>\n",
       "</table>\n",
       "</div>"
      ],
      "text/plain": [
       "    LOAD_COAST    LOAD_EAST   LOAD_FWEST    LOAD_NCENT  LOAD_NORTH  \\\n",
       "0  9844.200268  1350.784678  2078.060021  13640.024978  901.770195   \n",
       "1  9653.456269  1333.434943  2057.993265  13425.121941  890.150373   \n",
       "\n",
       "    LOAD_SCENT   LOAD_SOUTH    LOAD_WEST  \n",
       "0  6731.301663  3607.904503  1470.814721  \n",
       "1  6602.935629  3609.619438  1440.832944  "
      ]
     },
     "metadata": {},
     "output_type": "display_data"
    },
    {
     "name": "stdout",
     "output_type": "stream",
     "text": [
      "\n",
      "\n",
      "Raw lag 1 load - Train: \n"
     ]
    },
    {
     "data": {
      "text/html": [
       "<div>\n",
       "<style scoped>\n",
       "    .dataframe tbody tr th:only-of-type {\n",
       "        vertical-align: middle;\n",
       "    }\n",
       "\n",
       "    .dataframe tbody tr th {\n",
       "        vertical-align: top;\n",
       "    }\n",
       "\n",
       "    .dataframe thead th {\n",
       "        text-align: right;\n",
       "    }\n",
       "</style>\n",
       "<table border=\"1\" class=\"dataframe\">\n",
       "  <thead>\n",
       "    <tr style=\"text-align: right;\">\n",
       "      <th></th>\n",
       "      <th>LAG1_COAST</th>\n",
       "      <th>LAG1_EAST</th>\n",
       "      <th>LAG1_FWEST</th>\n",
       "      <th>LAG1_NCENT</th>\n",
       "      <th>LAG1_NORTH</th>\n",
       "      <th>LAG1_SCENT</th>\n",
       "      <th>LAG1_SOUTH</th>\n",
       "      <th>LAG1_WEST</th>\n",
       "    </tr>\n",
       "  </thead>\n",
       "  <tbody>\n",
       "    <tr>\n",
       "      <th>0</th>\n",
       "      <td>0.0</td>\n",
       "      <td>0.0</td>\n",
       "      <td>0.0</td>\n",
       "      <td>0.0</td>\n",
       "      <td>0.0</td>\n",
       "      <td>0.0</td>\n",
       "      <td>0.0</td>\n",
       "      <td>0.0</td>\n",
       "    </tr>\n",
       "    <tr>\n",
       "      <th>1</th>\n",
       "      <td>0.0</td>\n",
       "      <td>0.0</td>\n",
       "      <td>0.0</td>\n",
       "      <td>0.0</td>\n",
       "      <td>0.0</td>\n",
       "      <td>0.0</td>\n",
       "      <td>0.0</td>\n",
       "      <td>0.0</td>\n",
       "    </tr>\n",
       "  </tbody>\n",
       "</table>\n",
       "</div>"
      ],
      "text/plain": [
       "   LAG1_COAST  LAG1_EAST  LAG1_FWEST  LAG1_NCENT  LAG1_NORTH  LAG1_SCENT  \\\n",
       "0         0.0        0.0         0.0         0.0         0.0         0.0   \n",
       "1         0.0        0.0         0.0         0.0         0.0         0.0   \n",
       "\n",
       "   LAG1_SOUTH  LAG1_WEST  \n",
       "0         0.0        0.0  \n",
       "1         0.0        0.0  "
      ]
     },
     "metadata": {},
     "output_type": "display_data"
    },
    {
     "name": "stdout",
     "output_type": "stream",
     "text": [
      "\n",
      "\n",
      "Raw lag 7 load - Train: \n"
     ]
    },
    {
     "data": {
      "text/html": [
       "<div>\n",
       "<style scoped>\n",
       "    .dataframe tbody tr th:only-of-type {\n",
       "        vertical-align: middle;\n",
       "    }\n",
       "\n",
       "    .dataframe tbody tr th {\n",
       "        vertical-align: top;\n",
       "    }\n",
       "\n",
       "    .dataframe thead th {\n",
       "        text-align: right;\n",
       "    }\n",
       "</style>\n",
       "<table border=\"1\" class=\"dataframe\">\n",
       "  <thead>\n",
       "    <tr style=\"text-align: right;\">\n",
       "      <th></th>\n",
       "      <th>LAG7_COAST</th>\n",
       "      <th>LAG7_EAST</th>\n",
       "      <th>LAG7_FWEST</th>\n",
       "      <th>LAG7_NCENT</th>\n",
       "      <th>LAG7_NORTH</th>\n",
       "      <th>LAG7_SCENT</th>\n",
       "      <th>LAG7_SOUTH</th>\n",
       "      <th>LAG7_WEST</th>\n",
       "    </tr>\n",
       "  </thead>\n",
       "  <tbody>\n",
       "    <tr>\n",
       "      <th>0</th>\n",
       "      <td>0.0</td>\n",
       "      <td>0.0</td>\n",
       "      <td>0.0</td>\n",
       "      <td>0.0</td>\n",
       "      <td>0.0</td>\n",
       "      <td>0.0</td>\n",
       "      <td>0.0</td>\n",
       "      <td>0.0</td>\n",
       "    </tr>\n",
       "    <tr>\n",
       "      <th>1</th>\n",
       "      <td>0.0</td>\n",
       "      <td>0.0</td>\n",
       "      <td>0.0</td>\n",
       "      <td>0.0</td>\n",
       "      <td>0.0</td>\n",
       "      <td>0.0</td>\n",
       "      <td>0.0</td>\n",
       "      <td>0.0</td>\n",
       "    </tr>\n",
       "  </tbody>\n",
       "</table>\n",
       "</div>"
      ],
      "text/plain": [
       "   LAG7_COAST  LAG7_EAST  LAG7_FWEST  LAG7_NCENT  LAG7_NORTH  LAG7_SCENT  \\\n",
       "0         0.0        0.0         0.0         0.0         0.0         0.0   \n",
       "1         0.0        0.0         0.0         0.0         0.0         0.0   \n",
       "\n",
       "   LAG7_SOUTH  LAG7_WEST  \n",
       "0         0.0        0.0  \n",
       "1         0.0        0.0  "
      ]
     },
     "metadata": {},
     "output_type": "display_data"
    },
    {
     "name": "stdout",
     "output_type": "stream",
     "text": [
      "\n",
      "\n"
     ]
    }
   ],
   "source": [
    "# Scaling the load data wrt WEST\n",
    "mmScaler_load = MinMaxScaler()\n",
    "\n",
    "# Splitting the data into train and test [LOAD]\n",
    "Load_train, Load_test = Load_DS[:Num_train], Load_DS[Num_train:]\n",
    "print(\"Raw load - Train: \")\n",
    "display(Load_train.head(2))\n",
    "print(\"\\n\")\n",
    "\n",
    "# Splitting the data into train and test [LAG 1]\n",
    "Load_Lag1_train, Load_Lag1_test = Load_lag_1[:Num_train], Load_lag_1[Num_train:]\n",
    "print(\"Raw lag 1 load - Train: \")\n",
    "display(Load_Lag1_train.head(2))\n",
    "print(\"\\n\")\n",
    "\n",
    "# Splitting the data into train and test [LAG 7]\n",
    "Load_Lag7_train, Load_Lag7_test = Load_lag_7[:Num_train], Load_lag_7[Num_train:]\n",
    "print(\"Raw lag 7 load - Train: \")\n",
    "display(Load_Lag7_train.head(2))\n",
    "print(\"\\n\")"
   ]
  },
  {
   "cell_type": "code",
   "execution_count": 11,
   "id": "08bce764",
   "metadata": {},
   "outputs": [
    {
     "name": "stdout",
     "output_type": "stream",
     "text": [
      "Scaled load - Train: \n"
     ]
    },
    {
     "data": {
      "text/plain": [
       "array([[0.19856039, 0.30747691, 0.29986234, ..., 0.29388401, 0.40075164,\n",
       "        0.54746011],\n",
       "       [0.18389753, 0.29801661, 0.29095308, ..., 0.28169351, 0.40115179,\n",
       "        0.52531792],\n",
       "       [0.17227783, 0.29282212, 0.28252911, ..., 0.27483003, 0.39264419,\n",
       "        0.51768315],\n",
       "       ...,\n",
       "       [0.27123435, 0.27969052, 0.70051389, ..., 0.2438984 , 0.29417073,\n",
       "        0.31301885],\n",
       "       [0.29289962, 0.31276503, 0.74330209, ..., 0.28382077, 0.34106047,\n",
       "        0.38335221],\n",
       "       [0.2755846 , 0.29403583, 0.74936549, ..., 0.27174927, 0.32695204,\n",
       "        0.39355169]])"
      ]
     },
     "metadata": {},
     "output_type": "display_data"
    },
    {
     "name": "stdout",
     "output_type": "stream",
     "text": [
      "Scaled lag 1 load - Train: \n"
     ]
    },
    {
     "data": {
      "text/plain": [
       "array([[-0.55818217, -0.42906604, -0.62275662, ..., -0.34536602,\n",
       "        -0.4410945 , -0.53876871],\n",
       "       [-0.55818217, -0.42906604, -0.62275662, ..., -0.34536602,\n",
       "        -0.4410945 , -0.53876871],\n",
       "       [-0.55818217, -0.42906604, -0.62275662, ..., -0.34536602,\n",
       "        -0.4410945 , -0.53876871],\n",
       "       ...,\n",
       "       [ 0.30665217,  0.39624262,  0.77351347, ...,  0.38824738,\n",
       "         0.40656853,  0.48944813],\n",
       "       [ 0.32098894,  0.42290809,  0.81293524, ...,  0.40006934,\n",
       "         0.44338406,  0.52088999],\n",
       "       [ 0.31391909,  0.39200483,  0.82140623, ...,  0.39591403,\n",
       "         0.44660498,  0.52418617]])"
      ]
     },
     "metadata": {},
     "output_type": "display_data"
    },
    {
     "name": "stdout",
     "output_type": "stream",
     "text": [
      "Scaled lag 7 load - Train: \n"
     ]
    },
    {
     "data": {
      "text/plain": [
       "array([[-0.55818217, -0.42906604, -0.62275662, ..., -0.34536602,\n",
       "        -0.4410945 , -0.53876871],\n",
       "       [-0.55818217, -0.42906604, -0.62275662, ..., -0.34536602,\n",
       "        -0.4410945 , -0.53876871],\n",
       "       [-0.55818217, -0.42906604, -0.62275662, ..., -0.34536602,\n",
       "        -0.4410945 , -0.53876871],\n",
       "       ...,\n",
       "       [ 0.22943945,  0.22151142,  0.62590842, ...,  0.19902454,\n",
       "         0.26151862,  0.27595612],\n",
       "       [ 0.231143  ,  0.23979617,  0.64939785, ...,  0.22040623,\n",
       "         0.27810459,  0.31329784],\n",
       "       [ 0.21343718,  0.23971091,  0.65105144, ...,  0.20553165,\n",
       "         0.24673204,  0.31714201]])"
      ]
     },
     "metadata": {},
     "output_type": "display_data"
    }
   ],
   "source": [
    "# Scaling the data using mix-max scaler [TRAINING]\n",
    "Load_train = mmScaler_load.fit_transform(Load_train)\n",
    "print(\"Scaled load - Train: \")\n",
    "display(Load_train)\n",
    "\n",
    "Load_Lag1_train = mmScaler_load.transform(Load_Lag1_train)\n",
    "print(\"Scaled lag 1 load - Train: \")\n",
    "display(Load_Lag1_train)\n",
    "\n",
    "Load_Lag7_train = mmScaler_load.transform(Load_Lag7_train)\n",
    "print(\"Scaled lag 7 load - Train: \")\n",
    "display(Load_Lag7_train)"
   ]
  },
  {
   "cell_type": "code",
   "execution_count": 12,
   "id": "b575c3c6",
   "metadata": {},
   "outputs": [
    {
     "name": "stdout",
     "output_type": "stream",
     "text": [
      "Scaled load - Test: \n"
     ]
    },
    {
     "data": {
      "text/plain": [
       "array([[0.25466582, 0.29613534, 0.75384647, ..., 0.25714816, 0.3048297 ,\n",
       "        0.38588761],\n",
       "       [0.24051084, 0.28953229, 0.75899932, ..., 0.24841774, 0.29052281,\n",
       "        0.38305951],\n",
       "       [0.22435239, 0.27169718, 0.75843423, ..., 0.23657667, 0.28044529,\n",
       "        0.38772706],\n",
       "       ...,\n",
       "       [0.25608669, 0.33648852, 0.99309584, ..., 0.22142303, 0.24270501,\n",
       "        0.39183375],\n",
       "       [0.23395411, 0.32725215, 0.98897613, ..., 0.2025681 , 0.21913098,\n",
       "        0.37582581],\n",
       "       [0.21205685, 0.31132498, 0.98803666, ..., 0.18779946, 0.200035  ,\n",
       "        0.36044968]])"
      ]
     },
     "metadata": {},
     "output_type": "display_data"
    },
    {
     "name": "stdout",
     "output_type": "stream",
     "text": [
      "Scaled lag 1 load - Test: \n"
     ]
    },
    {
     "data": {
      "text/plain": [
       "array([[0.30113248, 0.38478634, 0.81860239, ..., 0.38494814, 0.43840778,\n",
       "        0.51463115],\n",
       "       [0.28174071, 0.35459275, 0.81469837, ..., 0.35982849, 0.42598168,\n",
       "        0.48850306],\n",
       "       [0.24905883, 0.33206893, 0.80004491, ..., 0.32316076, 0.40192601,\n",
       "        0.45290905],\n",
       "       ...,\n",
       "       [0.30339169, 0.39173253, 1.08009955, ..., 0.29042756, 0.28576307,\n",
       "        0.49959415],\n",
       "       [0.27932061, 0.36641505, 1.07479425, ..., 0.27567911, 0.26408997,\n",
       "        0.47833474],\n",
       "       [0.25046253, 0.33963488, 1.06205966, ..., 0.25559085, 0.23328951,\n",
       "        0.46114322]])"
      ]
     },
     "metadata": {},
     "output_type": "display_data"
    },
    {
     "name": "stdout",
     "output_type": "stream",
     "text": [
      "Scaled lag 7 load - Test: \n"
     ]
    },
    {
     "data": {
      "text/plain": [
       "array([[0.19931502, 0.22118697, 0.65766472, ..., 0.19380426, 0.21482035,\n",
       "        0.31719445],\n",
       "       [0.18429521, 0.22297768, 0.65582488, ..., 0.182058  , 0.19153506,\n",
       "        0.30907862],\n",
       "       [0.16303425, 0.20096888, 0.65502762, ..., 0.16297953, 0.17062645,\n",
       "        0.2977502 ],\n",
       "       ...,\n",
       "       [0.22166433, 0.24499598, 0.9864243 , ..., 0.18879332, 0.21881339,\n",
       "        0.30240937],\n",
       "       [0.20106545, 0.23408521, 0.98424503, ..., 0.17812348, 0.20718886,\n",
       "        0.29144344],\n",
       "       [0.17693633, 0.20703807, 0.97846938, ..., 0.16221794, 0.19304775,\n",
       "        0.27366191]])"
      ]
     },
     "metadata": {},
     "output_type": "display_data"
    }
   ],
   "source": [
    "# Scaling the data using mix-max scaler [TESTING]\n",
    "Load_test = mmScaler_load.transform(Load_test)\n",
    "print(\"Scaled load - Test: \")\n",
    "display(Load_test)\n",
    "\n",
    "Load_Lag1_test = mmScaler_load.transform(Load_Lag1_test)\n",
    "print(\"Scaled lag 1 load - Test: \")\n",
    "display(Load_Lag1_test)\n",
    "\n",
    "Load_Lag7_test = mmScaler_load.transform(Load_Lag7_test)\n",
    "print(\"Scaled lag 7 load - Test: \")\n",
    "display(Load_Lag7_test)"
   ]
  },
  {
   "cell_type": "code",
   "execution_count": 13,
   "id": "5946861c",
   "metadata": {},
   "outputs": [
    {
     "data": {
      "text/plain": [
       "array([0.19856039, 0.30747691, 0.29986234, 0.33139125, 0.3751176 ,\n",
       "       0.29388401, 0.40075164, 0.54746011])"
      ]
     },
     "execution_count": 13,
     "metadata": {},
     "output_type": "execute_result"
    }
   ],
   "source": [
    "## Transformation assigns perfectly.\n",
    "Load_train[0]"
   ]
  },
  {
   "cell_type": "code",
   "execution_count": 14,
   "id": "224fcb28",
   "metadata": {},
   "outputs": [
    {
     "data": {
      "text/plain": [
       "array([0.19856039, 0.30747691, 0.29986234, 0.33139125, 0.3751176 ,\n",
       "       0.29388401, 0.40075164, 0.54746011])"
      ]
     },
     "execution_count": 14,
     "metadata": {},
     "output_type": "execute_result"
    }
   ],
   "source": [
    "Load_Lag1_train[24]"
   ]
  },
  {
   "cell_type": "code",
   "execution_count": 15,
   "id": "a1331ed3",
   "metadata": {},
   "outputs": [
    {
     "data": {
      "text/plain": [
       "array([0.19856039, 0.30747691, 0.29986234, 0.33139125, 0.3751176 ,\n",
       "       0.29388401, 0.40075164, 0.54746011])"
      ]
     },
     "execution_count": 15,
     "metadata": {},
     "output_type": "execute_result"
    }
   ],
   "source": [
    "Load_Lag7_train[24*7]"
   ]
  },
  {
   "cell_type": "code",
   "execution_count": 16,
   "id": "f31d6b1f",
   "metadata": {},
   "outputs": [
    {
     "data": {
      "text/plain": [
       "array([0.18947889, 0.26369694, 0.78863684, 0.23509279, 0.30304928,\n",
       "       0.22726219, 0.29166311, 0.41771518])"
      ]
     },
     "execution_count": 16,
     "metadata": {},
     "output_type": "execute_result"
    }
   ],
   "source": [
    "## Transformation assigns perfectly.\n",
    "Load_test[5]"
   ]
  },
  {
   "cell_type": "code",
   "execution_count": 17,
   "id": "7cbbd36f",
   "metadata": {},
   "outputs": [
    {
     "data": {
      "text/plain": [
       "array([0.18947889, 0.26369694, 0.78863684, 0.23509279, 0.30304928,\n",
       "       0.22726219, 0.29166311, 0.41771518])"
      ]
     },
     "execution_count": 17,
     "metadata": {},
     "output_type": "execute_result"
    }
   ],
   "source": [
    "Load_Lag1_test[24+5]"
   ]
  },
  {
   "cell_type": "code",
   "execution_count": 18,
   "id": "4b85b032",
   "metadata": {},
   "outputs": [
    {
     "data": {
      "text/plain": [
       "array([0.18947889, 0.26369694, 0.78863684, 0.23509279, 0.30304928,\n",
       "       0.22726219, 0.29166311, 0.41771518])"
      ]
     },
     "execution_count": 18,
     "metadata": {},
     "output_type": "execute_result"
    }
   ],
   "source": [
    "Load_Lag7_test[24*7+5]"
   ]
  },
  {
   "cell_type": "markdown",
   "id": "68e5fc27",
   "metadata": {},
   "source": [
    "## Processing the temperature data in train test split"
   ]
  },
  {
   "cell_type": "code",
   "execution_count": 19,
   "id": "99af4b13",
   "metadata": {},
   "outputs": [
    {
     "data": {
      "text/html": [
       "<div>\n",
       "<style scoped>\n",
       "    .dataframe tbody tr th:only-of-type {\n",
       "        vertical-align: middle;\n",
       "    }\n",
       "\n",
       "    .dataframe tbody tr th {\n",
       "        vertical-align: top;\n",
       "    }\n",
       "\n",
       "    .dataframe thead th {\n",
       "        text-align: right;\n",
       "    }\n",
       "</style>\n",
       "<table border=\"1\" class=\"dataframe\">\n",
       "  <thead>\n",
       "    <tr style=\"text-align: right;\">\n",
       "      <th></th>\n",
       "      <th>TEMP_COAST</th>\n",
       "      <th>TEMP_EAST</th>\n",
       "      <th>TEMP_FWEST</th>\n",
       "      <th>TEMP_NCENT</th>\n",
       "      <th>TEMP_NORTH</th>\n",
       "      <th>TEMP_SCENT</th>\n",
       "      <th>TEMP_SOUTH</th>\n",
       "      <th>TEMP_WEST</th>\n",
       "    </tr>\n",
       "  </thead>\n",
       "  <tbody>\n",
       "    <tr>\n",
       "      <th>0</th>\n",
       "      <td>6.8</td>\n",
       "      <td>4.6</td>\n",
       "      <td>-5.9</td>\n",
       "      <td>4.6</td>\n",
       "      <td>-8.8</td>\n",
       "      <td>1.3</td>\n",
       "      <td>5.8</td>\n",
       "      <td>-7.1</td>\n",
       "    </tr>\n",
       "    <tr>\n",
       "      <th>1</th>\n",
       "      <td>7.1</td>\n",
       "      <td>4.6</td>\n",
       "      <td>-5.8</td>\n",
       "      <td>4.6</td>\n",
       "      <td>-8.8</td>\n",
       "      <td>0.8</td>\n",
       "      <td>5.7</td>\n",
       "      <td>-6.9</td>\n",
       "    </tr>\n",
       "    <tr>\n",
       "      <th>2</th>\n",
       "      <td>7.1</td>\n",
       "      <td>4.5</td>\n",
       "      <td>-5.8</td>\n",
       "      <td>4.5</td>\n",
       "      <td>-8.8</td>\n",
       "      <td>0.6</td>\n",
       "      <td>5.8</td>\n",
       "      <td>-6.5</td>\n",
       "    </tr>\n",
       "    <tr>\n",
       "      <th>3</th>\n",
       "      <td>7.0</td>\n",
       "      <td>4.3</td>\n",
       "      <td>-5.7</td>\n",
       "      <td>4.3</td>\n",
       "      <td>-8.7</td>\n",
       "      <td>0.8</td>\n",
       "      <td>5.7</td>\n",
       "      <td>-6.1</td>\n",
       "    </tr>\n",
       "    <tr>\n",
       "      <th>4</th>\n",
       "      <td>6.5</td>\n",
       "      <td>3.9</td>\n",
       "      <td>-5.7</td>\n",
       "      <td>3.9</td>\n",
       "      <td>-8.6</td>\n",
       "      <td>0.9</td>\n",
       "      <td>5.4</td>\n",
       "      <td>-5.7</td>\n",
       "    </tr>\n",
       "    <tr>\n",
       "      <th>...</th>\n",
       "      <td>...</td>\n",
       "      <td>...</td>\n",
       "      <td>...</td>\n",
       "      <td>...</td>\n",
       "      <td>...</td>\n",
       "      <td>...</td>\n",
       "      <td>...</td>\n",
       "      <td>...</td>\n",
       "    </tr>\n",
       "    <tr>\n",
       "      <th>43818</th>\n",
       "      <td>14.8</td>\n",
       "      <td>13.4</td>\n",
       "      <td>11.7</td>\n",
       "      <td>13.4</td>\n",
       "      <td>9.2</td>\n",
       "      <td>13.7</td>\n",
       "      <td>18.1</td>\n",
       "      <td>11.7</td>\n",
       "    </tr>\n",
       "    <tr>\n",
       "      <th>43819</th>\n",
       "      <td>14.3</td>\n",
       "      <td>13.8</td>\n",
       "      <td>12.3</td>\n",
       "      <td>13.8</td>\n",
       "      <td>9.9</td>\n",
       "      <td>14.2</td>\n",
       "      <td>17.8</td>\n",
       "      <td>12.2</td>\n",
       "    </tr>\n",
       "    <tr>\n",
       "      <th>43820</th>\n",
       "      <td>14.1</td>\n",
       "      <td>13.7</td>\n",
       "      <td>13.3</td>\n",
       "      <td>13.7</td>\n",
       "      <td>10.0</td>\n",
       "      <td>14.0</td>\n",
       "      <td>17.2</td>\n",
       "      <td>12.2</td>\n",
       "    </tr>\n",
       "    <tr>\n",
       "      <th>43821</th>\n",
       "      <td>13.7</td>\n",
       "      <td>12.5</td>\n",
       "      <td>13.2</td>\n",
       "      <td>12.5</td>\n",
       "      <td>9.2</td>\n",
       "      <td>12.9</td>\n",
       "      <td>16.6</td>\n",
       "      <td>11.6</td>\n",
       "    </tr>\n",
       "    <tr>\n",
       "      <th>43822</th>\n",
       "      <td>12.9</td>\n",
       "      <td>9.1</td>\n",
       "      <td>11.4</td>\n",
       "      <td>9.1</td>\n",
       "      <td>7.0</td>\n",
       "      <td>11.1</td>\n",
       "      <td>15.9</td>\n",
       "      <td>9.6</td>\n",
       "    </tr>\n",
       "  </tbody>\n",
       "</table>\n",
       "<p>43823 rows × 8 columns</p>\n",
       "</div>"
      ],
      "text/plain": [
       "       TEMP_COAST  TEMP_EAST  TEMP_FWEST  TEMP_NCENT  TEMP_NORTH  TEMP_SCENT  \\\n",
       "0             6.8        4.6        -5.9         4.6        -8.8         1.3   \n",
       "1             7.1        4.6        -5.8         4.6        -8.8         0.8   \n",
       "2             7.1        4.5        -5.8         4.5        -8.8         0.6   \n",
       "3             7.0        4.3        -5.7         4.3        -8.7         0.8   \n",
       "4             6.5        3.9        -5.7         3.9        -8.6         0.9   \n",
       "...           ...        ...         ...         ...         ...         ...   \n",
       "43818        14.8       13.4        11.7        13.4         9.2        13.7   \n",
       "43819        14.3       13.8        12.3        13.8         9.9        14.2   \n",
       "43820        14.1       13.7        13.3        13.7        10.0        14.0   \n",
       "43821        13.7       12.5        13.2        12.5         9.2        12.9   \n",
       "43822        12.9        9.1        11.4         9.1         7.0        11.1   \n",
       "\n",
       "       TEMP_SOUTH  TEMP_WEST  \n",
       "0             5.8       -7.1  \n",
       "1             5.7       -6.9  \n",
       "2             5.8       -6.5  \n",
       "3             5.7       -6.1  \n",
       "4             5.4       -5.7  \n",
       "...           ...        ...  \n",
       "43818        18.1       11.7  \n",
       "43819        17.8       12.2  \n",
       "43820        17.2       12.2  \n",
       "43821        16.6       11.6  \n",
       "43822        15.9        9.6  \n",
       "\n",
       "[43823 rows x 8 columns]"
      ]
     },
     "execution_count": 19,
     "metadata": {},
     "output_type": "execute_result"
    }
   ],
   "source": [
    "# Fetching and concatenating the data\n",
    "Temp_DS = pd.concat([pd.read_csv(os.path.join(path, fileName), usecols= [\"Temprature\"]) for fileName in fileList], axis= 1)\n",
    "Temp_DS.columns = [i.removesuffix('.csv') for i in fileList]\n",
    "Temp_DS = Temp_DS.add_prefix(\"TEMP_\")\n",
    "\n",
    "Temp_DS"
   ]
  },
  {
   "cell_type": "code",
   "execution_count": 20,
   "id": "66a768f9",
   "metadata": {},
   "outputs": [
    {
     "name": "stdout",
     "output_type": "stream",
     "text": [
      "Raw temperature - Train: \n"
     ]
    },
    {
     "data": {
      "text/html": [
       "<div>\n",
       "<style scoped>\n",
       "    .dataframe tbody tr th:only-of-type {\n",
       "        vertical-align: middle;\n",
       "    }\n",
       "\n",
       "    .dataframe tbody tr th {\n",
       "        vertical-align: top;\n",
       "    }\n",
       "\n",
       "    .dataframe thead th {\n",
       "        text-align: right;\n",
       "    }\n",
       "</style>\n",
       "<table border=\"1\" class=\"dataframe\">\n",
       "  <thead>\n",
       "    <tr style=\"text-align: right;\">\n",
       "      <th></th>\n",
       "      <th>TEMP_COAST</th>\n",
       "      <th>TEMP_EAST</th>\n",
       "      <th>TEMP_FWEST</th>\n",
       "      <th>TEMP_NCENT</th>\n",
       "      <th>TEMP_NORTH</th>\n",
       "      <th>TEMP_SCENT</th>\n",
       "      <th>TEMP_SOUTH</th>\n",
       "      <th>TEMP_WEST</th>\n",
       "    </tr>\n",
       "  </thead>\n",
       "  <tbody>\n",
       "    <tr>\n",
       "      <th>0</th>\n",
       "      <td>6.8</td>\n",
       "      <td>4.6</td>\n",
       "      <td>-5.9</td>\n",
       "      <td>4.6</td>\n",
       "      <td>-8.8</td>\n",
       "      <td>1.3</td>\n",
       "      <td>5.8</td>\n",
       "      <td>-7.1</td>\n",
       "    </tr>\n",
       "    <tr>\n",
       "      <th>1</th>\n",
       "      <td>7.1</td>\n",
       "      <td>4.6</td>\n",
       "      <td>-5.8</td>\n",
       "      <td>4.6</td>\n",
       "      <td>-8.8</td>\n",
       "      <td>0.8</td>\n",
       "      <td>5.7</td>\n",
       "      <td>-6.9</td>\n",
       "    </tr>\n",
       "    <tr>\n",
       "      <th>2</th>\n",
       "      <td>7.1</td>\n",
       "      <td>4.5</td>\n",
       "      <td>-5.8</td>\n",
       "      <td>4.5</td>\n",
       "      <td>-8.8</td>\n",
       "      <td>0.6</td>\n",
       "      <td>5.8</td>\n",
       "      <td>-6.5</td>\n",
       "    </tr>\n",
       "    <tr>\n",
       "      <th>3</th>\n",
       "      <td>7.0</td>\n",
       "      <td>4.3</td>\n",
       "      <td>-5.7</td>\n",
       "      <td>4.3</td>\n",
       "      <td>-8.7</td>\n",
       "      <td>0.8</td>\n",
       "      <td>5.7</td>\n",
       "      <td>-6.1</td>\n",
       "    </tr>\n",
       "    <tr>\n",
       "      <th>4</th>\n",
       "      <td>6.5</td>\n",
       "      <td>3.9</td>\n",
       "      <td>-5.7</td>\n",
       "      <td>3.9</td>\n",
       "      <td>-8.6</td>\n",
       "      <td>0.9</td>\n",
       "      <td>5.4</td>\n",
       "      <td>-5.7</td>\n",
       "    </tr>\n",
       "  </tbody>\n",
       "</table>\n",
       "</div>"
      ],
      "text/plain": [
       "   TEMP_COAST  TEMP_EAST  TEMP_FWEST  TEMP_NCENT  TEMP_NORTH  TEMP_SCENT  \\\n",
       "0         6.8        4.6        -5.9         4.6        -8.8         1.3   \n",
       "1         7.1        4.6        -5.8         4.6        -8.8         0.8   \n",
       "2         7.1        4.5        -5.8         4.5        -8.8         0.6   \n",
       "3         7.0        4.3        -5.7         4.3        -8.7         0.8   \n",
       "4         6.5        3.9        -5.7         3.9        -8.6         0.9   \n",
       "\n",
       "   TEMP_SOUTH  TEMP_WEST  \n",
       "0         5.8       -7.1  \n",
       "1         5.7       -6.9  \n",
       "2         5.8       -6.5  \n",
       "3         5.7       -6.1  \n",
       "4         5.4       -5.7  "
      ]
     },
     "metadata": {},
     "output_type": "display_data"
    },
    {
     "name": "stdout",
     "output_type": "stream",
     "text": [
      "Raw temperature - Test: \n"
     ]
    },
    {
     "data": {
      "text/html": [
       "<div>\n",
       "<style scoped>\n",
       "    .dataframe tbody tr th:only-of-type {\n",
       "        vertical-align: middle;\n",
       "    }\n",
       "\n",
       "    .dataframe tbody tr th {\n",
       "        vertical-align: top;\n",
       "    }\n",
       "\n",
       "    .dataframe thead th {\n",
       "        text-align: right;\n",
       "    }\n",
       "</style>\n",
       "<table border=\"1\" class=\"dataframe\">\n",
       "  <thead>\n",
       "    <tr style=\"text-align: right;\">\n",
       "      <th></th>\n",
       "      <th>TEMP_COAST</th>\n",
       "      <th>TEMP_EAST</th>\n",
       "      <th>TEMP_FWEST</th>\n",
       "      <th>TEMP_NCENT</th>\n",
       "      <th>TEMP_NORTH</th>\n",
       "      <th>TEMP_SCENT</th>\n",
       "      <th>TEMP_SOUTH</th>\n",
       "      <th>TEMP_WEST</th>\n",
       "    </tr>\n",
       "  </thead>\n",
       "  <tbody>\n",
       "    <tr>\n",
       "      <th>35059</th>\n",
       "      <td>16.2</td>\n",
       "      <td>14.9</td>\n",
       "      <td>15.1</td>\n",
       "      <td>14.9</td>\n",
       "      <td>11.0</td>\n",
       "      <td>16.1</td>\n",
       "      <td>17.6</td>\n",
       "      <td>15.5</td>\n",
       "    </tr>\n",
       "    <tr>\n",
       "      <th>35060</th>\n",
       "      <td>15.5</td>\n",
       "      <td>14.9</td>\n",
       "      <td>15.7</td>\n",
       "      <td>14.9</td>\n",
       "      <td>11.2</td>\n",
       "      <td>16.1</td>\n",
       "      <td>17.2</td>\n",
       "      <td>15.5</td>\n",
       "    </tr>\n",
       "    <tr>\n",
       "      <th>35061</th>\n",
       "      <td>13.4</td>\n",
       "      <td>13.8</td>\n",
       "      <td>15.6</td>\n",
       "      <td>13.8</td>\n",
       "      <td>10.8</td>\n",
       "      <td>15.8</td>\n",
       "      <td>16.4</td>\n",
       "      <td>15.2</td>\n",
       "    </tr>\n",
       "    <tr>\n",
       "      <th>35062</th>\n",
       "      <td>12.0</td>\n",
       "      <td>11.6</td>\n",
       "      <td>14.3</td>\n",
       "      <td>11.6</td>\n",
       "      <td>7.6</td>\n",
       "      <td>13.5</td>\n",
       "      <td>14.8</td>\n",
       "      <td>13.3</td>\n",
       "    </tr>\n",
       "    <tr>\n",
       "      <th>35063</th>\n",
       "      <td>9.9</td>\n",
       "      <td>9.8</td>\n",
       "      <td>11.0</td>\n",
       "      <td>9.8</td>\n",
       "      <td>2.8</td>\n",
       "      <td>12.7</td>\n",
       "      <td>13.0</td>\n",
       "      <td>8.9</td>\n",
       "    </tr>\n",
       "  </tbody>\n",
       "</table>\n",
       "</div>"
      ],
      "text/plain": [
       "       TEMP_COAST  TEMP_EAST  TEMP_FWEST  TEMP_NCENT  TEMP_NORTH  TEMP_SCENT  \\\n",
       "35059        16.2       14.9        15.1        14.9        11.0        16.1   \n",
       "35060        15.5       14.9        15.7        14.9        11.2        16.1   \n",
       "35061        13.4       13.8        15.6        13.8        10.8        15.8   \n",
       "35062        12.0       11.6        14.3        11.6         7.6        13.5   \n",
       "35063         9.9        9.8        11.0         9.8         2.8        12.7   \n",
       "\n",
       "       TEMP_SOUTH  TEMP_WEST  \n",
       "35059        17.6       15.5  \n",
       "35060        17.2       15.5  \n",
       "35061        16.4       15.2  \n",
       "35062        14.8       13.3  \n",
       "35063        13.0        8.9  "
      ]
     },
     "metadata": {},
     "output_type": "display_data"
    },
    {
     "name": "stdout",
     "output_type": "stream",
     "text": [
      "\n",
      "\n",
      "Scaled temperature - Train: \n"
     ]
    },
    {
     "data": {
      "text/plain": [
       "array([[0.38445808, 0.31902985, 0.08630394, ..., 0.23163842, 0.19642857,\n",
       "        0.15652174],\n",
       "       [0.39059305, 0.31902985, 0.08818011, ..., 0.22222222, 0.19419643,\n",
       "        0.16      ],\n",
       "       [0.39059305, 0.31716418, 0.08818011, ..., 0.21845574, 0.19642857,\n",
       "        0.16695652],\n",
       "       ...,\n",
       "       [0.48261759, 0.42910448, 0.41463415, ..., 0.41996234, 0.36830357,\n",
       "        0.49217391],\n",
       "       [0.53169734, 0.46641791, 0.44277674, ..., 0.46516008, 0.39955357,\n",
       "        0.51478261],\n",
       "       [0.55419223, 0.50373134, 0.46529081, ..., 0.4952919 , 0.44196429,\n",
       "        0.53565217]])"
      ]
     },
     "metadata": {},
     "output_type": "display_data"
    },
    {
     "name": "stdout",
     "output_type": "stream",
     "text": [
      "Scaled temperature - Test: \n"
     ]
    },
    {
     "data": {
      "text/plain": [
       "array([[0.57668712, 0.51119403, 0.48030019, ..., 0.51035782, 0.45982143,\n",
       "        0.54956522],\n",
       "       [0.56237219, 0.51119403, 0.49155722, ..., 0.51035782, 0.45089286,\n",
       "        0.54956522],\n",
       "       [0.5194274 , 0.49067164, 0.48968105, ..., 0.5047081 , 0.43303571,\n",
       "        0.54434783],\n",
       "       ...,\n",
       "       [0.53374233, 0.48880597, 0.44652908, ..., 0.47080979, 0.45089286,\n",
       "        0.49217391],\n",
       "       [0.52556237, 0.46641791, 0.44465291, ..., 0.45009416, 0.4375    ,\n",
       "        0.48173913],\n",
       "       [0.50920245, 0.40298507, 0.4108818 , ..., 0.41619586, 0.421875  ,\n",
       "        0.44695652]])"
      ]
     },
     "metadata": {},
     "output_type": "display_data"
    }
   ],
   "source": [
    "# Scaling the temperature data for each individual region\n",
    "mmScaler_temp = MinMaxScaler()\n",
    "\n",
    "# Splitting the data into train and test\n",
    "Temp_train, Temp_test = Temp_DS[:Num_train], Temp_DS[Num_train:]\n",
    "print(\"Raw temperature - Train: \")\n",
    "display(Temp_train.head(5))\n",
    "print(\"Raw temperature - Test: \")\n",
    "display(Temp_test.head(5))\n",
    "print(\"\\n\")\n",
    "\n",
    "# Scaling the data using mix-max scaler\n",
    "Temp_train = mmScaler_temp.fit_transform(Temp_train)\n",
    "print(\"Scaled temperature - Train: \")\n",
    "display(Temp_train)\n",
    "\n",
    "Temp_test = mmScaler_temp.transform(Temp_test)\n",
    "print(\"Scaled temperature - Test: \")\n",
    "display(Temp_test)"
   ]
  },
  {
   "cell_type": "markdown",
   "id": "3ad1ecc1",
   "metadata": {},
   "source": [
    "# Preparing the training and testing split for model input"
   ]
  },
  {
   "cell_type": "code",
   "execution_count": 21,
   "id": "5972156f",
   "metadata": {},
   "outputs": [
    {
     "name": "stdout",
     "output_type": "stream",
     "text": [
      "(35059, 8, 3)\n",
      "[[ 0.38445808 -0.55818217 -0.55818217]\n",
      " [ 0.31902985 -0.42906604 -0.42906604]\n",
      " [ 0.08630394 -0.62275662 -0.62275662]\n",
      " [ 0.31902985 -0.37781528 -0.37781528]\n",
      " [ 0.18019481 -0.5336438  -0.5336438 ]\n",
      " [ 0.23163842 -0.34536602 -0.34536602]\n",
      " [ 0.19642857 -0.4410945  -0.4410945 ]\n",
      " [ 0.15652174 -0.53876871 -0.53876871]]\n"
     ]
    }
   ],
   "source": [
    "X_train = np.array([[[i, j, k] for i,j,k in zip(Temp_train[m], Load_Lag1_train[m], Load_Lag7_train[m])] for m in range(len(Temp_train))])\n",
    "print(X_train.shape)\n",
    "print(X_train[0])"
   ]
  },
  {
   "cell_type": "code",
   "execution_count": 22,
   "id": "5d63e07c",
   "metadata": {},
   "outputs": [
    {
     "name": "stdout",
     "output_type": "stream",
     "text": [
      "(8764, 8, 3)\n",
      "[[0.57668712 0.30113248 0.19931502]\n",
      " [0.51119403 0.38478634 0.22118697]\n",
      " [0.48030019 0.81860239 0.65766472]\n",
      " [0.51119403 0.396774   0.2219211 ]\n",
      " [0.50162338 0.41072623 0.23564975]\n",
      " [0.51035782 0.38494814 0.19380426]\n",
      " [0.45982143 0.43840778 0.21482035]\n",
      " [0.54956522 0.51463115 0.31719445]]\n"
     ]
    }
   ],
   "source": [
    "X_test = np.array([[[i, j, k] for i,j,k in zip(Temp_test[m], Load_Lag1_test[m], Load_Lag7_test[m])] for m in range(len(Temp_test))])\n",
    "print(X_test.shape)\n",
    "print(X_test[0])"
   ]
  },
  {
   "cell_type": "code",
   "execution_count": 23,
   "id": "6b10482a",
   "metadata": {},
   "outputs": [
    {
     "name": "stdout",
     "output_type": "stream",
     "text": [
      "No. of batches:  43823\n",
      "No. of nodes:  8\n",
      "No. of features:  3\n"
     ]
    }
   ],
   "source": [
    "# Setting up the batch and node parameters\n",
    "num_batch, num_node = Load_DS.shape\n",
    "\n",
    "number_feat = X_train.shape[2]\n",
    "\n",
    "print(\"No. of batches: \", num_batch)\n",
    "print(\"No. of nodes: \" , num_node)\n",
    "print(\"No. of features: \", number_feat)"
   ]
  },
  {
   "cell_type": "code",
   "execution_count": 24,
   "id": "2bed4735",
   "metadata": {},
   "outputs": [],
   "source": [
    "edge_index = torch.LongTensor([np.repeat(range(num_node), num_node-1).tolist(),\n",
    "                               [j for i in range(num_node) for j in range(num_node) if i != j]])\n",
    "\n",
    "X_train, X_test = Variable(torch.FloatTensor(X_train)), torch.FloatTensor(X_test)\n",
    "Y_train, Y_test = Variable(torch.FloatTensor(Load_train)), Load_test"
   ]
  },
  {
   "cell_type": "code",
   "execution_count": 25,
   "id": "da92d112",
   "metadata": {},
   "outputs": [
    {
     "data": {
      "text/plain": [
       "tensor([[0, 0, 0, 0, 0, 0, 0, 1, 1, 1, 1, 1, 1, 1, 2, 2, 2, 2, 2, 2, 2, 3, 3, 3,\n",
       "         3, 3, 3, 3, 4, 4, 4, 4, 4, 4, 4, 5, 5, 5, 5, 5, 5, 5, 6, 6, 6, 6, 6, 6,\n",
       "         6, 7, 7, 7, 7, 7, 7, 7],\n",
       "        [1, 2, 3, 4, 5, 6, 7, 0, 2, 3, 4, 5, 6, 7, 0, 1, 3, 4, 5, 6, 7, 0, 1, 2,\n",
       "         4, 5, 6, 7, 0, 1, 2, 3, 5, 6, 7, 0, 1, 2, 3, 4, 6, 7, 0, 1, 2, 3, 4, 5,\n",
       "         7, 0, 1, 2, 3, 4, 5, 6]])"
      ]
     },
     "execution_count": 25,
     "metadata": {},
     "output_type": "execute_result"
    }
   ],
   "source": [
    "edge_index"
   ]
  },
  {
   "cell_type": "markdown",
   "id": "351ee820",
   "metadata": {},
   "source": [
    "## DEFINING THE MODEL"
   ]
  },
  {
   "cell_type": "code",
   "execution_count": 26,
   "id": "20d659ad",
   "metadata": {},
   "outputs": [],
   "source": [
    "torch.manual_seed(666)\n",
    "\n",
    "model = Net(number_feat, edge_index, num_node)\n",
    "\n",
    "optimizer = torch.optim.Adam([\n",
    "    dict(params=model.conv1.parameters(), weight_decay=5e-4),\n",
    "    dict(params=model.conv2.parameters(), weight_decay=0),\n",
    "    dict(params=model.conv3.parameters(), weight_decay=0),\n",
    "], lr=0.01) "
   ]
  },
  {
   "cell_type": "code",
   "execution_count": 27,
   "id": "1ec02351",
   "metadata": {},
   "outputs": [],
   "source": [
    "Epochs = 100\n",
    "\n",
    "dataset = TensorDataset(X_train, Y_train)    \n",
    "loader = DataLoader(dataset, batch_size = 64, shuffle=False)  "
   ]
  },
  {
   "cell_type": "code",
   "execution_count": 28,
   "id": "9efbc42b",
   "metadata": {},
   "outputs": [],
   "source": [
    "train_start = time.time()"
   ]
  },
  {
   "cell_type": "code",
   "execution_count": 29,
   "id": "134d327b",
   "metadata": {},
   "outputs": [
    {
     "name": "stdout",
     "output_type": "stream",
     "text": [
      "Epoch 1: the train loss = 1.7603\n",
      "Epoch 2: the train loss = 1.4988\n",
      "Epoch 3: the train loss = 1.4918\n",
      "Epoch 4: the train loss = 1.4908\n",
      "Epoch 5: the train loss = 1.4871\n",
      "Epoch 6: the train loss = 1.4860\n",
      "Epoch 7: the train loss = 1.4870\n",
      "Epoch 8: the train loss = 1.4830\n",
      "Epoch 9: the train loss = 1.4828\n",
      "Epoch 10: the train loss = 1.4816\n",
      "Epoch 11: the train loss = 1.4813\n",
      "Epoch 12: the train loss = 1.4812\n",
      "Epoch 13: the train loss = 1.4814\n",
      "Epoch 14: the train loss = 1.4805\n",
      "Epoch 15: the train loss = 1.4795\n",
      "Epoch 16: the train loss = 1.4784\n",
      "Epoch 17: the train loss = 1.4799\n",
      "Epoch 18: the train loss = 1.4793\n",
      "Epoch 19: the train loss = 1.4782\n",
      "Epoch 20: the train loss = 1.4773\n",
      "Epoch 21: the train loss = 1.4792\n",
      "Epoch 22: the train loss = 1.4802\n",
      "Epoch 23: the train loss = 1.4787\n",
      "Epoch 24: the train loss = 1.4785\n",
      "Epoch 25: the train loss = 1.4771\n",
      "Epoch 26: the train loss = 1.4774\n",
      "Epoch 27: the train loss = 1.4792\n",
      "Epoch 28: the train loss = 1.4771\n",
      "Epoch 29: the train loss = 1.4772\n",
      "Epoch 30: the train loss = 1.4779\n",
      "Epoch 31: the train loss = 1.4782\n",
      "Epoch 32: the train loss = 1.4779\n",
      "Epoch 33: the train loss = 1.4767\n",
      "Epoch 34: the train loss = 1.4765\n",
      "Epoch 35: the train loss = 1.4777\n",
      "Epoch 36: the train loss = 1.4771\n",
      "Epoch 37: the train loss = 1.4768\n",
      "Epoch 38: the train loss = 1.4763\n",
      "Epoch 39: the train loss = 1.4772\n",
      "Epoch 40: the train loss = 1.4766\n",
      "Epoch 41: the train loss = 1.4777\n",
      "Epoch 42: the train loss = 1.4773\n",
      "Epoch 43: the train loss = 1.4772\n",
      "Epoch 44: the train loss = 1.4764\n",
      "Epoch 45: the train loss = 1.4775\n",
      "Epoch 46: the train loss = 1.4775\n",
      "Epoch 47: the train loss = 1.4779\n",
      "Epoch 48: the train loss = 1.4782\n",
      "Epoch 49: the train loss = 1.4768\n",
      "Epoch 50: the train loss = 1.4777\n",
      "Epoch 51: the train loss = 1.4769\n",
      "Epoch 52: the train loss = 1.4783\n",
      "Epoch 53: the train loss = 1.4773\n",
      "Epoch 54: the train loss = 1.4776\n",
      "Epoch 55: the train loss = 1.4787\n",
      "Epoch 56: the train loss = 1.4780\n",
      "Epoch 57: the train loss = 1.4766\n",
      "Epoch 58: the train loss = 1.4777\n",
      "Epoch 59: the train loss = 1.4775\n",
      "Epoch 60: the train loss = 1.4775\n",
      "Epoch 61: the train loss = 1.4763\n",
      "Epoch 62: the train loss = 1.4782\n",
      "Epoch 63: the train loss = 1.4780\n",
      "Epoch 64: the train loss = 1.4769\n",
      "Epoch 65: the train loss = 1.4771\n",
      "Epoch 66: the train loss = 1.4777\n",
      "Epoch 67: the train loss = 1.4760\n",
      "Epoch 68: the train loss = 1.4766\n",
      "Epoch 69: the train loss = 1.4773\n",
      "Epoch 70: the train loss = 1.4772\n",
      "Epoch 71: the train loss = 1.4781\n",
      "Epoch 72: the train loss = 1.4775\n",
      "Epoch 73: the train loss = 1.4752\n",
      "Epoch 74: the train loss = 1.4773\n",
      "Epoch 75: the train loss = 1.4770\n",
      "Epoch 76: the train loss = 1.4758\n",
      "Epoch 77: the train loss = 1.4771\n",
      "Epoch 78: the train loss = 1.4768\n",
      "Epoch 79: the train loss = 1.4768\n",
      "Epoch 80: the train loss = 1.4764\n",
      "Epoch 81: the train loss = 1.4768\n",
      "Epoch 82: the train loss = 1.4754\n",
      "Epoch 83: the train loss = 1.4758\n",
      "Epoch 84: the train loss = 1.4780\n",
      "Epoch 85: the train loss = 1.4766\n",
      "Epoch 86: the train loss = 1.4768\n",
      "Epoch 87: the train loss = 1.4763\n",
      "Epoch 88: the train loss = 1.4774\n",
      "Epoch 89: the train loss = 1.4762\n",
      "Epoch 90: the train loss = 1.4757\n",
      "Epoch 91: the train loss = 1.4754\n",
      "Epoch 92: the train loss = 1.4769\n",
      "Epoch 93: the train loss = 1.4768\n",
      "Epoch 94: the train loss = 1.4768\n",
      "Epoch 95: the train loss = 1.4765\n",
      "Epoch 96: the train loss = 1.4772\n",
      "Epoch 97: the train loss = 1.4762\n",
      "Epoch 98: the train loss = 1.4772\n",
      "Epoch 99: the train loss = 1.4767\n",
      "Epoch 100: the train loss = 1.4764\n"
     ]
    }
   ],
   "source": [
    "model.train()\n",
    "\n",
    "for epoch in range(Epochs):\n",
    "    loss = 0\n",
    "    for step, (x, y) in enumerate(loader):\n",
    "        optimizer.zero_grad()\n",
    "        loss_train = 0\n",
    "        for i in range(x.size(0)):\n",
    "            output = model(x[i])\n",
    "            loss_train += F.l1_loss(output[0][0], y[i,0]) + F.l1_loss(output[1][0], y[i,1]) + F.l1_loss(output[2][0], y[i,2]) + F.l1_loss(output[3][0], y[i,3]) + F.l1_loss(output[4][0], y[i,4]) + F.l1_loss(output[5][0], y[i,5]) + F.l1_loss(output[6][0], y[i,6]) + F.l1_loss(output[7][0], y[i,7]) \n",
    "        loss += loss_train/i\n",
    "        loss_train.backward()\n",
    "        optimizer.step()\n",
    "    loss = loss/step\n",
    "    print( \"Epoch {}: the train loss = {:.4f}\".format(epoch+1, loss))"
   ]
  },
  {
   "cell_type": "code",
   "execution_count": 30,
   "id": "504691b2",
   "metadata": {},
   "outputs": [],
   "source": [
    "train_end = time.time()"
   ]
  },
  {
   "cell_type": "code",
   "execution_count": 31,
   "id": "3214376c",
   "metadata": {},
   "outputs": [
    {
     "name": "stdout",
     "output_type": "stream",
     "text": [
      "Training time:  11652.486827373505\n"
     ]
    }
   ],
   "source": [
    "print(\"Training time: \", train_end - train_start)"
   ]
  },
  {
   "cell_type": "markdown",
   "id": "784c6f8e",
   "metadata": {},
   "source": [
    "## MAKING PREDICTIONS"
   ]
  },
  {
   "cell_type": "code",
   "execution_count": 32,
   "id": "f80affb6",
   "metadata": {},
   "outputs": [],
   "source": [
    "test_start = time.time()"
   ]
  },
  {
   "cell_type": "code",
   "execution_count": 33,
   "id": "9525a5b0",
   "metadata": {},
   "outputs": [],
   "source": [
    "predictions = []\n",
    "\n",
    "# Switching to eval mode\n",
    "model.eval()\n",
    "\n",
    "with torch.no_grad():\n",
    "    for i in range(X_test.size(0)):\n",
    "        p = model(X_test[i])\n",
    "        predictions.append(torch.cat([p[0], p[1], p[2], p[3], p[4], p[5], p[6], p[7]], dim=-1).tolist())\n",
    "\n",
    "predictions = np.array(predictions)"
   ]
  },
  {
   "cell_type": "code",
   "execution_count": 34,
   "id": "02bcdf0d",
   "metadata": {},
   "outputs": [],
   "source": [
    "test_end = time.time()"
   ]
  },
  {
   "cell_type": "code",
   "execution_count": 35,
   "id": "0340d44d",
   "metadata": {},
   "outputs": [
    {
     "name": "stdout",
     "output_type": "stream",
     "text": [
      "Testing time:  7.785362482070923\n"
     ]
    }
   ],
   "source": [
    "print(\"Testing time: \", test_end - test_start)"
   ]
  },
  {
   "cell_type": "code",
   "execution_count": 36,
   "id": "038ae765",
   "metadata": {},
   "outputs": [
    {
     "data": {
      "text/plain": [
       "array([[0.21697968, 0.40198055, 0.0279208 , ..., 0.2590788 , 0.35938683,\n",
       "        0.75087082],\n",
       "       [0.20366171, 0.39539388, 0.02377558, ..., 0.25263041, 0.34726146,\n",
       "        0.73948097],\n",
       "       [0.19602028, 0.39161465, 0.02139723, ..., 0.24893057, 0.34030446,\n",
       "        0.7329458 ],\n",
       "       ...,\n",
       "       [0.20684403, 0.39696774, 0.02476607, ..., 0.25417128, 0.35015884,\n",
       "        0.74220252],\n",
       "       [0.19866976, 0.39292505, 0.02222191, ..., 0.25021338, 0.3427166 ,\n",
       "        0.73521185],\n",
       "       [0.16936705, 0.38237759, 0.01544304, ..., 0.23655456, 0.31744668,\n",
       "        0.71338737]])"
      ]
     },
     "execution_count": 36,
     "metadata": {},
     "output_type": "execute_result"
    }
   ],
   "source": [
    "predictions"
   ]
  },
  {
   "cell_type": "code",
   "execution_count": 37,
   "id": "1bbda0fd",
   "metadata": {},
   "outputs": [
    {
     "data": {
      "text/plain": [
       "array([[10083.81048959,  1524.0998543 ,  1465.55272056, ...,\n",
       "         6364.80282781,  3430.62713213,  1746.2442267 ],\n",
       "       [ 9910.56162602,  1512.02021364,  1456.21623806, ...,\n",
       "         6296.9013136 ,  3378.66135666,  1730.82172918],\n",
       "       [ 9811.1568645 ,  1505.08928124,  1450.85937581, ...,\n",
       "         6257.94201487,  3348.84572795,  1721.97273931],\n",
       "       ...,\n",
       "       [ 9951.9593415 ,  1514.9065991 ,  1458.44717881, ...,\n",
       "         6313.12666618,  3391.07868127,  1734.50685784],\n",
       "       [ 9845.6231057 ,  1507.49250731,  1452.71683175, ...,\n",
       "         6271.45001396,  3359.18345084,  1725.04109721],\n",
       "       [ 9464.4342783 ,  1488.14896966,  1437.44845867, ...,\n",
       "         6127.62264912,  3250.88399547,  1695.48952906]])"
      ]
     },
     "execution_count": 37,
     "metadata": {},
     "output_type": "execute_result"
    }
   ],
   "source": [
    "inversed_predictions = mmScaler_load.inverse_transform(predictions)\n",
    "inversed_predictions"
   ]
  },
  {
   "cell_type": "code",
   "execution_count": 38,
   "id": "ed90011b",
   "metadata": {},
   "outputs": [
    {
     "data": {
      "text/plain": [
       "array([[10574.056358,  1329.984791,  3100.590775, ...,  6344.473191,\n",
       "         3196.811331,  1252.0365  ],\n",
       "       [10389.919171,  1317.875105,  3112.196787, ...,  6252.541918,\n",
       "         3135.496237,  1248.207087],\n",
       "       [10179.719448,  1285.166362,  3110.924014, ...,  6127.855412,\n",
       "         3092.306962,  1254.527211],\n",
       "       ...,\n",
       "       [10592.539874,  1403.990584,  3639.463899, ...,  5968.287603,\n",
       "         2930.56323 ,  1260.087906],\n",
       "       [10304.62487 ,  1387.051521,  3630.184859, ...,  5769.74522 ,\n",
       "         2829.531899,  1238.412254],\n",
       "       [10019.771129,  1357.841863,  3628.068853, ...,  5614.231555,\n",
       "         2747.692143,  1217.592105]])"
      ]
     },
     "execution_count": 38,
     "metadata": {},
     "output_type": "execute_result"
    }
   ],
   "source": [
    "inversed_Y_test = mmScaler_load.inverse_transform(Y_test)\n",
    "inversed_Y_test"
   ]
  },
  {
   "cell_type": "code",
   "execution_count": 39,
   "id": "b7d329d6",
   "metadata": {},
   "outputs": [
    {
     "name": "stdout",
     "output_type": "stream",
     "text": [
      "The test mape is 10.088, 6.791, 45.232, 4.339, 13.506, 6.404, 4.864, 22.671\n"
     ]
    }
   ],
   "source": [
    "MAPE1 = mape(inversed_Y_test[:, 0].reshape(-1), inversed_predictions[:, 0].reshape(-1))\n",
    "MAPE2 = mape(inversed_Y_test[:, 1].reshape(-1), inversed_predictions[:, 1].reshape(-1))\n",
    "MAPE3 = mape(inversed_Y_test[:, 2].reshape(-1), inversed_predictions[:, 2].reshape(-1))\n",
    "MAPE4 = mape(inversed_Y_test[:, 3].reshape(-1), inversed_predictions[:, 3].reshape(-1))\n",
    "MAPE5 = mape(inversed_Y_test[:, 4].reshape(-1), inversed_predictions[:, 4].reshape(-1))\n",
    "MAPE6 = mape(inversed_Y_test[:, 5].reshape(-1), inversed_predictions[:, 5].reshape(-1))\n",
    "MAPE7 = mape(inversed_Y_test[:, 6].reshape(-1), inversed_predictions[:, 6].reshape(-1))\n",
    "MAPE8 = mape(inversed_Y_test[:, 7].reshape(-1), inversed_predictions[:, 7].reshape(-1))\n",
    "\n",
    "print( \"The test mape is {:.3f}, {:.3f}, {:.3f}, {:.3f}, {:.3f}, {:.3f}, {:.3f}, {:.3f}\".format(MAPE1, MAPE2, MAPE3, MAPE4, MAPE5, MAPE6, MAPE7, MAPE8))"
   ]
  },
  {
   "cell_type": "markdown",
   "id": "924b2bbc",
   "metadata": {},
   "source": [
    "#### AVERAGE MAPE"
   ]
  },
  {
   "cell_type": "code",
   "execution_count": 40,
   "id": "5c10f0b3",
   "metadata": {},
   "outputs": [
    {
     "data": {
      "text/plain": [
       "14.23689920968907"
      ]
     },
     "execution_count": 40,
     "metadata": {},
     "output_type": "execute_result"
    }
   ],
   "source": [
    "meanMAPE = np.mean([MAPE1, MAPE2, MAPE3, MAPE4, MAPE5, MAPE6, MAPE7, MAPE8])\n",
    "meanMAPE"
   ]
  },
  {
   "cell_type": "markdown",
   "id": "e7e7589a",
   "metadata": {},
   "source": [
    "#### WEIGHTED MAPE"
   ]
  },
  {
   "cell_type": "code",
   "execution_count": 41,
   "id": "79d7039c",
   "metadata": {},
   "outputs": [
    {
     "name": "stdout",
     "output_type": "stream",
     "text": [
      "0    0.270208\n",
      "1    0.033316\n",
      "2    0.054758\n",
      "3    0.336858\n",
      "4    0.019346\n",
      "5    0.180087\n",
      "6    0.078511\n",
      "7    0.026916\n",
      "dtype: float64\n",
      "\n",
      "\n",
      "0    10.088311\n",
      "1     6.790699\n",
      "2    45.232125\n",
      "3     4.339156\n",
      "4    13.505687\n",
      "5     6.403539\n",
      "6     4.864367\n",
      "7    22.671311\n",
      "dtype: float64\n",
      "\n",
      "\n",
      "Weighted using the max load of a region:  9.297272464052263\n"
     ]
    }
   ],
   "source": [
    "# Scaled MAPE with max values\n",
    "weightMax = pd.Series(Load_DS.max() / sum(Load_DS.max())).reset_index(drop= True)\n",
    "print(weightMax)\n",
    "print(\"\\n\")\n",
    "mapeMetric = pd.Series([MAPE1, MAPE2, MAPE3, MAPE4, MAPE5, MAPE6, MAPE7, MAPE8])\n",
    "print(mapeMetric)\n",
    "print(\"\\n\")\n",
    "\n",
    "weightedMAPE = weightMax.multiply(mapeMetric)\n",
    "weightedMAPE = sum(weightedMAPE)\n",
    "print(\"Weighted using the max load of a region: \", weightedMAPE)"
   ]
  },
  {
   "cell_type": "code",
   "execution_count": 42,
   "id": "f9004158",
   "metadata": {},
   "outputs": [
    {
     "name": "stdout",
     "output_type": "stream",
     "text": [
      "0    0.287236\n",
      "1    0.034634\n",
      "2    0.062310\n",
      "3    0.322066\n",
      "4    0.020268\n",
      "5    0.161189\n",
      "6    0.083478\n",
      "7    0.028818\n",
      "dtype: float64\n",
      "\n",
      "\n",
      "0    10.088311\n",
      "1     6.790699\n",
      "2    45.232125\n",
      "3     4.339156\n",
      "4    13.505687\n",
      "5     6.403539\n",
      "6     4.864367\n",
      "7    22.671311\n",
      "dtype: float64\n",
      "\n",
      "\n",
      "Weighted using the mean load of a region:  9.71415853698876\n"
     ]
    }
   ],
   "source": [
    "# Scaled MAPE with average values\n",
    "weightMax = pd.Series(Load_DS.mean() / sum(Load_DS.mean())).reset_index(drop= True)\n",
    "print(weightMax)\n",
    "print(\"\\n\")\n",
    "mapeMetric = pd.Series([MAPE1, MAPE2, MAPE3, MAPE4, MAPE5, MAPE6, MAPE7, MAPE8])\n",
    "print(mapeMetric)\n",
    "print(\"\\n\")\n",
    "\n",
    "weightedMAPE = weightMax.multiply(mapeMetric)\n",
    "weightedMAPE = sum(weightedMAPE)\n",
    "print(\"Weighted using the mean load of a region: \", weightedMAPE)"
   ]
  }
 ],
 "metadata": {
  "kernelspec": {
   "display_name": "Python 3 (ipykernel)",
   "language": "python",
   "name": "python3"
  },
  "language_info": {
   "codemirror_mode": {
    "name": "ipython",
    "version": 3
   },
   "file_extension": ".py",
   "mimetype": "text/x-python",
   "name": "python",
   "nbconvert_exporter": "python",
   "pygments_lexer": "ipython3",
   "version": "3.9.7"
  }
 },
 "nbformat": 4,
 "nbformat_minor": 5
}
