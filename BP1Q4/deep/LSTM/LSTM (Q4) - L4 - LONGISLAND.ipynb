{
 "cells": [
  {
   "cell_type": "code",
   "execution_count": 1,
   "id": "5f61b29f",
   "metadata": {},
   "outputs": [
    {
     "name": "stdout",
     "output_type": "stream",
     "text": [
      "Num GPUs Available:  1\n"
     ]
    }
   ],
   "source": [
    "import pandas as pd\n",
    "import numpy as np\n",
    "import os\n",
    "import matplotlib.pyplot as plt\n",
    "from datetime import datetime\n",
    "from sklearn.preprocessing import MinMaxScaler, RobustScaler, StandardScaler\n",
    "import time\n",
    "\n",
    "import tensorflow as tf\n",
    "tf.random.set_seed(42)\n",
    "\n",
    "def mape(y_true, y_pred):\n",
    "    y_true, y_pred = np.array(y_true), np.array(y_pred)\n",
    "    return np.mean(np.abs((y_true - y_pred) / max(y_true))) * 100\n",
    "\n",
    "def RMSELoss(yhat,y):\n",
    "    return torch.sqrt(torch.mean((yhat-y)**2))\n",
    "\n",
    "print(\"Num GPUs Available: \", len(tf.config.list_physical_devices('GPU')))"
   ]
  },
  {
   "cell_type": "code",
   "execution_count": 2,
   "id": "cea0abe2",
   "metadata": {},
   "outputs": [
    {
     "name": "stdout",
     "output_type": "stream",
     "text": [
      "['Capital.csv', 'Central.csv', 'Dunwoody.csv', 'Genese.csv', 'Hudson.csv', 'LongIsland.csv', 'Milwood.csv', 'NYC.csv']\n"
     ]
    }
   ],
   "source": [
    "# Specifying the path of file\n",
    "path= r\"C:\\Users\\sashah8\\OneDrive - North Carolina State University\\Desktop\\Q4\\Data\\L4\\data_cleaned\"\n",
    "\n",
    "# Listing just the required files\n",
    "fileList = os.listdir(path)\n",
    "fileList.remove(\"Date.csv\")\n",
    "\n",
    "# Previewing the required file names\n",
    "print(fileList)"
   ]
  },
  {
   "cell_type": "code",
   "execution_count": 3,
   "id": "a6fe9396",
   "metadata": {},
   "outputs": [
    {
     "data": {
      "text/html": [
       "<div>\n",
       "<style scoped>\n",
       "    .dataframe tbody tr th:only-of-type {\n",
       "        vertical-align: middle;\n",
       "    }\n",
       "\n",
       "    .dataframe tbody tr th {\n",
       "        vertical-align: top;\n",
       "    }\n",
       "\n",
       "    .dataframe thead th {\n",
       "        text-align: right;\n",
       "    }\n",
       "</style>\n",
       "<table border=\"1\" class=\"dataframe\">\n",
       "  <thead>\n",
       "    <tr style=\"text-align: right;\">\n",
       "      <th></th>\n",
       "      <th>Demand</th>\n",
       "      <th>Normalized_net</th>\n",
       "      <th>Temprature</th>\n",
       "    </tr>\n",
       "  </thead>\n",
       "  <tbody>\n",
       "    <tr>\n",
       "      <th>0</th>\n",
       "      <td>2338.0</td>\n",
       "      <td>0.443389</td>\n",
       "      <td>-5.8</td>\n",
       "    </tr>\n",
       "    <tr>\n",
       "      <th>1</th>\n",
       "      <td>2164.1</td>\n",
       "      <td>0.410410</td>\n",
       "      <td>-6.1</td>\n",
       "    </tr>\n",
       "    <tr>\n",
       "      <th>2</th>\n",
       "      <td>2060.0</td>\n",
       "      <td>0.390668</td>\n",
       "      <td>-7.5</td>\n",
       "    </tr>\n",
       "    <tr>\n",
       "      <th>3</th>\n",
       "      <td>1989.3</td>\n",
       "      <td>0.377260</td>\n",
       "      <td>-8.4</td>\n",
       "    </tr>\n",
       "    <tr>\n",
       "      <th>4</th>\n",
       "      <td>1968.8</td>\n",
       "      <td>0.373372</td>\n",
       "      <td>-7.4</td>\n",
       "    </tr>\n",
       "    <tr>\n",
       "      <th>...</th>\n",
       "      <td>...</td>\n",
       "      <td>...</td>\n",
       "      <td>...</td>\n",
       "    </tr>\n",
       "    <tr>\n",
       "      <th>43819</th>\n",
       "      <td>2574.2</td>\n",
       "      <td>0.488183</td>\n",
       "      <td>3.4</td>\n",
       "    </tr>\n",
       "    <tr>\n",
       "      <th>43820</th>\n",
       "      <td>2446.3</td>\n",
       "      <td>0.463928</td>\n",
       "      <td>3.3</td>\n",
       "    </tr>\n",
       "    <tr>\n",
       "      <th>43821</th>\n",
       "      <td>2324.1</td>\n",
       "      <td>0.440753</td>\n",
       "      <td>2.6</td>\n",
       "    </tr>\n",
       "    <tr>\n",
       "      <th>43822</th>\n",
       "      <td>2201.8</td>\n",
       "      <td>0.417560</td>\n",
       "      <td>2.7</td>\n",
       "    </tr>\n",
       "    <tr>\n",
       "      <th>43823</th>\n",
       "      <td>2090.2</td>\n",
       "      <td>0.396395</td>\n",
       "      <td>3.0</td>\n",
       "    </tr>\n",
       "  </tbody>\n",
       "</table>\n",
       "<p>43824 rows × 3 columns</p>\n",
       "</div>"
      ],
      "text/plain": [
       "       Demand  Normalized_net  Temprature\n",
       "0      2338.0        0.443389        -5.8\n",
       "1      2164.1        0.410410        -6.1\n",
       "2      2060.0        0.390668        -7.5\n",
       "3      1989.3        0.377260        -8.4\n",
       "4      1968.8        0.373372        -7.4\n",
       "...       ...             ...         ...\n",
       "43819  2574.2        0.488183         3.4\n",
       "43820  2446.3        0.463928         3.3\n",
       "43821  2324.1        0.440753         2.6\n",
       "43822  2201.8        0.417560         2.7\n",
       "43823  2090.2        0.396395         3.0\n",
       "\n",
       "[43824 rows x 3 columns]"
      ]
     },
     "execution_count": 3,
     "metadata": {},
     "output_type": "execute_result"
    }
   ],
   "source": [
    "# Just for previewing the columns\n",
    "pd.read_csv(os.path.join(path, fileList[5]))"
   ]
  },
  {
   "cell_type": "markdown",
   "id": "9ad4906c",
   "metadata": {
    "pycharm": {
     "name": "#%% md\n"
    }
   },
   "source": [
    "### PROCESSING THE DATA"
   ]
  },
  {
   "cell_type": "code",
   "execution_count": 4,
   "id": "f29f6db2",
   "metadata": {},
   "outputs": [
    {
     "data": {
      "text/html": [
       "<div>\n",
       "<style scoped>\n",
       "    .dataframe tbody tr th:only-of-type {\n",
       "        vertical-align: middle;\n",
       "    }\n",
       "\n",
       "    .dataframe tbody tr th {\n",
       "        vertical-align: top;\n",
       "    }\n",
       "\n",
       "    .dataframe thead th {\n",
       "        text-align: right;\n",
       "    }\n",
       "</style>\n",
       "<table border=\"1\" class=\"dataframe\">\n",
       "  <thead>\n",
       "    <tr style=\"text-align: right;\">\n",
       "      <th></th>\n",
       "      <th>Load_LongIsland</th>\n",
       "      <th>Temp_LongIsland</th>\n",
       "    </tr>\n",
       "  </thead>\n",
       "  <tbody>\n",
       "    <tr>\n",
       "      <th>0</th>\n",
       "      <td>2338.0</td>\n",
       "      <td>-5.8</td>\n",
       "    </tr>\n",
       "    <tr>\n",
       "      <th>1</th>\n",
       "      <td>2164.1</td>\n",
       "      <td>-6.1</td>\n",
       "    </tr>\n",
       "    <tr>\n",
       "      <th>2</th>\n",
       "      <td>2060.0</td>\n",
       "      <td>-7.5</td>\n",
       "    </tr>\n",
       "    <tr>\n",
       "      <th>3</th>\n",
       "      <td>1989.3</td>\n",
       "      <td>-8.4</td>\n",
       "    </tr>\n",
       "    <tr>\n",
       "      <th>4</th>\n",
       "      <td>1968.8</td>\n",
       "      <td>-7.4</td>\n",
       "    </tr>\n",
       "    <tr>\n",
       "      <th>...</th>\n",
       "      <td>...</td>\n",
       "      <td>...</td>\n",
       "    </tr>\n",
       "    <tr>\n",
       "      <th>43819</th>\n",
       "      <td>2574.2</td>\n",
       "      <td>3.4</td>\n",
       "    </tr>\n",
       "    <tr>\n",
       "      <th>43820</th>\n",
       "      <td>2446.3</td>\n",
       "      <td>3.3</td>\n",
       "    </tr>\n",
       "    <tr>\n",
       "      <th>43821</th>\n",
       "      <td>2324.1</td>\n",
       "      <td>2.6</td>\n",
       "    </tr>\n",
       "    <tr>\n",
       "      <th>43822</th>\n",
       "      <td>2201.8</td>\n",
       "      <td>2.7</td>\n",
       "    </tr>\n",
       "    <tr>\n",
       "      <th>43823</th>\n",
       "      <td>2090.2</td>\n",
       "      <td>3.0</td>\n",
       "    </tr>\n",
       "  </tbody>\n",
       "</table>\n",
       "<p>43824 rows × 2 columns</p>\n",
       "</div>"
      ],
      "text/plain": [
       "       Load_LongIsland  Temp_LongIsland\n",
       "0               2338.0             -5.8\n",
       "1               2164.1             -6.1\n",
       "2               2060.0             -7.5\n",
       "3               1989.3             -8.4\n",
       "4               1968.8             -7.4\n",
       "...                ...              ...\n",
       "43819           2574.2              3.4\n",
       "43820           2446.3              3.3\n",
       "43821           2324.1              2.6\n",
       "43822           2201.8              2.7\n",
       "43823           2090.2              3.0\n",
       "\n",
       "[43824 rows x 2 columns]"
      ]
     },
     "execution_count": 4,
     "metadata": {},
     "output_type": "execute_result"
    }
   ],
   "source": [
    "# Restricting the load data to a single zone\n",
    "fileName  = fileList[5]\n",
    "\n",
    "zoneData = pd.read_csv(os.path.join(path, fileName), usecols= [\"Demand\", \"Temprature\"])\n",
    "zoneData.columns = [\"Load_\"+str(fileName[:-4]), \"Temp_\"+str(fileName[:-4])]\n",
    "\n",
    "# For fixing one missing row\n",
    "# zoneData = pd.concat([zoneData.loc[[0]], zoneData], axis= 0).reset_index(drop= True)\n",
    "\n",
    "zoneData"
   ]
  },
  {
   "cell_type": "markdown",
   "id": "01cec4bd",
   "metadata": {},
   "source": [
    "### FEATURE ENGINEERING AND SPLITTING INTO TRAIN-TEST SPLIT"
   ]
  },
  {
   "cell_type": "code",
   "execution_count": 5,
   "id": "a1e1e8a3",
   "metadata": {},
   "outputs": [],
   "source": [
    "def lagGenerator(dF, lagList):\n",
    "    dF_temp = dF.filter(regex= \"Load\").copy()\n",
    "    \n",
    "    for i in lagList:\n",
    "        dF_temp.loc[:, \"Lag-\" + str(i)] = dF_temp.iloc[:,[0]].shift(i*24)\n",
    "    \n",
    "    return(dF_temp.filter(regex= \"Lag\"))"
   ]
  },
  {
   "cell_type": "code",
   "execution_count": 6,
   "id": "159a2a82",
   "metadata": {},
   "outputs": [
    {
     "data": {
      "text/html": [
       "<div>\n",
       "<style scoped>\n",
       "    .dataframe tbody tr th:only-of-type {\n",
       "        vertical-align: middle;\n",
       "    }\n",
       "\n",
       "    .dataframe tbody tr th {\n",
       "        vertical-align: top;\n",
       "    }\n",
       "\n",
       "    .dataframe thead th {\n",
       "        text-align: right;\n",
       "    }\n",
       "</style>\n",
       "<table border=\"1\" class=\"dataframe\">\n",
       "  <thead>\n",
       "    <tr style=\"text-align: right;\">\n",
       "      <th></th>\n",
       "      <th>Lag-2</th>\n",
       "      <th>Lag-7</th>\n",
       "    </tr>\n",
       "  </thead>\n",
       "  <tbody>\n",
       "    <tr>\n",
       "      <th>0</th>\n",
       "      <td>NaN</td>\n",
       "      <td>NaN</td>\n",
       "    </tr>\n",
       "    <tr>\n",
       "      <th>1</th>\n",
       "      <td>NaN</td>\n",
       "      <td>NaN</td>\n",
       "    </tr>\n",
       "  </tbody>\n",
       "</table>\n",
       "</div>"
      ],
      "text/plain": [
       "   Lag-2  Lag-7\n",
       "0    NaN    NaN\n",
       "1    NaN    NaN"
      ]
     },
     "execution_count": 6,
     "metadata": {},
     "output_type": "execute_result"
    }
   ],
   "source": [
    "Load_lags = lagGenerator(dF=zoneData, lagList=[2,7])\n",
    "Load_lags.head(2)"
   ]
  },
  {
   "cell_type": "code",
   "execution_count": 7,
   "id": "05896954",
   "metadata": {},
   "outputs": [
    {
     "data": {
      "text/html": [
       "<div>\n",
       "<style scoped>\n",
       "    .dataframe tbody tr th:only-of-type {\n",
       "        vertical-align: middle;\n",
       "    }\n",
       "\n",
       "    .dataframe tbody tr th {\n",
       "        vertical-align: top;\n",
       "    }\n",
       "\n",
       "    .dataframe thead th {\n",
       "        text-align: right;\n",
       "    }\n",
       "</style>\n",
       "<table border=\"1\" class=\"dataframe\">\n",
       "  <thead>\n",
       "    <tr style=\"text-align: right;\">\n",
       "      <th></th>\n",
       "      <th>Load_LongIsland</th>\n",
       "      <th>Temp_LongIsland</th>\n",
       "      <th>Lag-2</th>\n",
       "      <th>Lag-7</th>\n",
       "    </tr>\n",
       "  </thead>\n",
       "  <tbody>\n",
       "    <tr>\n",
       "      <th>0</th>\n",
       "      <td>2462.3</td>\n",
       "      <td>-13.9</td>\n",
       "      <td>2173.5</td>\n",
       "      <td>2338.0</td>\n",
       "    </tr>\n",
       "    <tr>\n",
       "      <th>1</th>\n",
       "      <td>2366.1</td>\n",
       "      <td>-14.2</td>\n",
       "      <td>2080.4</td>\n",
       "      <td>2164.1</td>\n",
       "    </tr>\n",
       "    <tr>\n",
       "      <th>2</th>\n",
       "      <td>2310.6</td>\n",
       "      <td>-14.8</td>\n",
       "      <td>2034.1</td>\n",
       "      <td>2060.0</td>\n",
       "    </tr>\n",
       "    <tr>\n",
       "      <th>3</th>\n",
       "      <td>2288.1</td>\n",
       "      <td>-15.6</td>\n",
       "      <td>2017.9</td>\n",
       "      <td>1989.3</td>\n",
       "    </tr>\n",
       "    <tr>\n",
       "      <th>4</th>\n",
       "      <td>2320.7</td>\n",
       "      <td>-16.0</td>\n",
       "      <td>2045.2</td>\n",
       "      <td>1968.8</td>\n",
       "    </tr>\n",
       "    <tr>\n",
       "      <th>...</th>\n",
       "      <td>...</td>\n",
       "      <td>...</td>\n",
       "      <td>...</td>\n",
       "      <td>...</td>\n",
       "    </tr>\n",
       "    <tr>\n",
       "      <th>43651</th>\n",
       "      <td>2574.2</td>\n",
       "      <td>3.4</td>\n",
       "      <td>2514.0</td>\n",
       "      <td>2508.5</td>\n",
       "    </tr>\n",
       "    <tr>\n",
       "      <th>43652</th>\n",
       "      <td>2446.3</td>\n",
       "      <td>3.3</td>\n",
       "      <td>2446.4</td>\n",
       "      <td>2438.5</td>\n",
       "    </tr>\n",
       "    <tr>\n",
       "      <th>43653</th>\n",
       "      <td>2324.1</td>\n",
       "      <td>2.6</td>\n",
       "      <td>2339.4</td>\n",
       "      <td>2376.6</td>\n",
       "    </tr>\n",
       "    <tr>\n",
       "      <th>43654</th>\n",
       "      <td>2201.8</td>\n",
       "      <td>2.7</td>\n",
       "      <td>2183.3</td>\n",
       "      <td>2292.6</td>\n",
       "    </tr>\n",
       "    <tr>\n",
       "      <th>43655</th>\n",
       "      <td>2090.2</td>\n",
       "      <td>3.0</td>\n",
       "      <td>2004.6</td>\n",
       "      <td>2184.3</td>\n",
       "    </tr>\n",
       "  </tbody>\n",
       "</table>\n",
       "<p>43656 rows × 4 columns</p>\n",
       "</div>"
      ],
      "text/plain": [
       "       Load_LongIsland  Temp_LongIsland   Lag-2   Lag-7\n",
       "0               2462.3            -13.9  2173.5  2338.0\n",
       "1               2366.1            -14.2  2080.4  2164.1\n",
       "2               2310.6            -14.8  2034.1  2060.0\n",
       "3               2288.1            -15.6  2017.9  1989.3\n",
       "4               2320.7            -16.0  2045.2  1968.8\n",
       "...                ...              ...     ...     ...\n",
       "43651           2574.2              3.4  2514.0  2508.5\n",
       "43652           2446.3              3.3  2446.4  2438.5\n",
       "43653           2324.1              2.6  2339.4  2376.6\n",
       "43654           2201.8              2.7  2183.3  2292.6\n",
       "43655           2090.2              3.0  2004.6  2184.3\n",
       "\n",
       "[43656 rows x 4 columns]"
      ]
     },
     "execution_count": 7,
     "metadata": {},
     "output_type": "execute_result"
    }
   ],
   "source": [
    "dataDf = pd.concat([zoneData, Load_lags], axis= 1).dropna(axis= 0).reset_index(drop= True)\n",
    "dataDf"
   ]
  },
  {
   "cell_type": "code",
   "execution_count": 8,
   "id": "6ad25321",
   "metadata": {},
   "outputs": [],
   "source": [
    "# Setting the train-test split ratio\n",
    "ratio = 0.1"
   ]
  },
  {
   "cell_type": "code",
   "execution_count": 9,
   "id": "3c08d963",
   "metadata": {},
   "outputs": [],
   "source": [
    "Num_train, Num_test = int(len(dataDf)/24 * (1 - ratio)) * 24, int(len(dataDf)/24 * ratio) * 24"
   ]
  },
  {
   "cell_type": "code",
   "execution_count": 10,
   "id": "cbe069ff",
   "metadata": {},
   "outputs": [],
   "source": [
    "# Splitting the data into train and test\n",
    "data_train, data_test = dataDf[:Num_train], dataDf[Num_train:]"
   ]
  },
  {
   "cell_type": "code",
   "execution_count": 11,
   "id": "d84e15c4",
   "metadata": {},
   "outputs": [],
   "source": [
    "Num_train, Num_valid = int(len(data_train)/24 * (1 - ratio)) * 24, int(len(data_train)/24 * ratio) * 24"
   ]
  },
  {
   "cell_type": "code",
   "execution_count": 12,
   "id": "c17d1723",
   "metadata": {},
   "outputs": [],
   "source": [
    "# Splitting the data into train and test\n",
    "data_train, data_valid = data_train[:Num_train], data_train[Num_train:]"
   ]
  },
  {
   "cell_type": "markdown",
   "id": "88d32011",
   "metadata": {},
   "source": [
    "### SPLITTING INTO X AND Y PART WITH SEQUENCE BATCHING"
   ]
  },
  {
   "cell_type": "code",
   "execution_count": 13,
   "id": "4ba286ca",
   "metadata": {},
   "outputs": [],
   "source": [
    "X_train_df, Y_train_df = data_train.iloc[:, 1:], data_train.iloc[:, :1]\n",
    "\n",
    "X_valid_df, Y_valid_df = data_valid.iloc[:, 1:], data_valid.iloc[:, :1]\n",
    "\n",
    "X_test_df, Y_test_df = data_test.iloc[:, 1:], data_test.iloc[:, :1]"
   ]
  },
  {
   "cell_type": "code",
   "execution_count": 14,
   "id": "ef1d9079",
   "metadata": {},
   "outputs": [],
   "source": [
    "# Preparing the scaler\n",
    "ValScaler = MinMaxScaler()\n",
    "\n",
    "X_train = ValScaler.fit_transform(X_train_df)\n",
    "X_valid = ValScaler.transform(X_valid_df)\n",
    "X_test = ValScaler.transform(X_test_df)\n",
    "\n",
    "Y_train = ValScaler.fit_transform(Y_train_df)\n",
    "Y_valid = ValScaler.transform(Y_valid_df)\n",
    "Y_test = ValScaler.transform(Y_test_df)"
   ]
  },
  {
   "cell_type": "code",
   "execution_count": 15,
   "id": "43594401",
   "metadata": {},
   "outputs": [],
   "source": [
    "def splitData(dataset):\n",
    "    data = np.array(np.split(dataset, len(dataset)/24))\n",
    "    return data"
   ]
  },
  {
   "cell_type": "code",
   "execution_count": 16,
   "id": "300696b2",
   "metadata": {},
   "outputs": [],
   "source": [
    "def supervisedSet(X_part, Y_part, steps= 24):\n",
    "    X_array, Y_array = np.array(X_part), np.array(Y_part)\n",
    "    X, Y = [], []\n",
    "    \n",
    "    for i in range(len(X_array)):\n",
    "        endIdx = i + steps\n",
    "        \n",
    "        if endIdx > len(X_array):\n",
    "            break\n",
    "        \n",
    "        batch_X, batch_Y = X_array[i:endIdx], Y_array[i:endIdx]\n",
    "        \n",
    "        X.append(batch_X)\n",
    "        Y.append(batch_Y)\n",
    "        \n",
    "    return np.array(X), np.array(Y)"
   ]
  },
  {
   "cell_type": "code",
   "execution_count": 17,
   "id": "fc9cd97d",
   "metadata": {},
   "outputs": [],
   "source": [
    "X_train, Y_train = supervisedSet(X_train, Y_train)\n",
    "\n",
    "X_valid, Y_valid = splitData(X_valid), splitData(Y_valid)\n",
    "\n",
    "X_test, Y_test = splitData(X_test), splitData(Y_test)"
   ]
  },
  {
   "cell_type": "markdown",
   "id": "a2a6bf32",
   "metadata": {},
   "source": [
    "### WORKING ON THE MODEL"
   ]
  },
  {
   "cell_type": "code",
   "execution_count": 18,
   "id": "ff71a98c",
   "metadata": {},
   "outputs": [],
   "source": [
    "epochs = 100\n",
    "batchSize = 32"
   ]
  },
  {
   "cell_type": "code",
   "execution_count": 19,
   "id": "8d600c17",
   "metadata": {},
   "outputs": [],
   "source": [
    "# Encoder-decoder architecture [tanh required to use tensorflow on gpu]\n",
    "model = tf.keras.Sequential([\n",
    "    tf.keras.layers.LSTM(units= 128, activation= \"tanh\", input_shape= (X_train.shape[1], X_train.shape[2]), dropout= 0.2),\n",
    "    tf.keras.layers.RepeatVector(Y_train.shape[1]),\n",
    "    tf.keras.layers.LSTM(units= 128, activation= \"tanh\", return_sequences= True, dropout= 0.2),\n",
    "    tf.keras.layers.TimeDistributed(tf.keras.layers.Dense(units= 128, activation= \"relu\")),\n",
    "    tf.keras.layers.Dropout(0.2),\n",
    "    tf.keras.layers.TimeDistributed(tf.keras.layers.Dense(units= 1))\n",
    "])\n",
    "\n",
    "model.compile(loss= \"mse\", optimizer= \"adam\",  metrics= ['mape', 'mae'])"
   ]
  },
  {
   "cell_type": "code",
   "execution_count": 20,
   "id": "a05c033a",
   "metadata": {},
   "outputs": [],
   "source": [
    "# model = tf.keras.Sequential([\n",
    "#     tf.keras.layers.LSTM(units= 256, activation= \"tanh\", input_shape= (X_train.shape[1], X_train.shape[2])),\n",
    "#     tf.keras.layers.Dense(units= 128, activation= \"tanh\"),\n",
    "#     tf.keras.layers.Dense(units= 1)\n",
    "# ])\n",
    "\n",
    "# model.compile(loss= \"mse\", optimizer= \"adam\",  metrics= ['mape', 'mae'])"
   ]
  },
  {
   "cell_type": "code",
   "execution_count": 21,
   "id": "c9390383",
   "metadata": {},
   "outputs": [],
   "source": [
    "# Storing the start time of model fitting process\n",
    "startTime = time.time()"
   ]
  },
  {
   "cell_type": "code",
   "execution_count": 22,
   "id": "e526e3ed",
   "metadata": {},
   "outputs": [
    {
     "name": "stdout",
     "output_type": "stream",
     "text": [
      "Epoch 1/100\n",
      "1105/1105 [==============================] - 18s 12ms/step - loss: 0.0101 - mape: 6144.2979 - mae: 0.0757 - val_loss: 0.0054 - val_mape: 90.2473 - val_mae: 0.0583\n",
      "Epoch 2/100\n",
      "1105/1105 [==============================] - 13s 11ms/step - loss: 0.0059 - mape: 5385.3618 - mae: 0.0579 - val_loss: 0.0065 - val_mape: 91.0018 - val_mae: 0.0580\n",
      "Epoch 3/100\n",
      "1105/1105 [==============================] - 12s 11ms/step - loss: 0.0041 - mape: 5047.0391 - mae: 0.0483 - val_loss: 0.0098 - val_mape: 109.6501 - val_mae: 0.0750\n",
      "Epoch 4/100\n",
      "1105/1105 [==============================] - 13s 11ms/step - loss: 0.0037 - mape: 4974.5723 - mae: 0.0454 - val_loss: 0.0071 - val_mape: 80.5082 - val_mae: 0.0600\n",
      "Epoch 5/100\n",
      "1105/1105 [==============================] - 12s 11ms/step - loss: 0.0033 - mape: 4692.1582 - mae: 0.0432 - val_loss: 0.0073 - val_mape: 63.6279 - val_mae: 0.0558\n",
      "Epoch 6/100\n",
      "1105/1105 [==============================] - 13s 11ms/step - loss: 0.0031 - mape: 4570.0137 - mae: 0.0417 - val_loss: 0.0075 - val_mape: 81.9639 - val_mae: 0.0598\n",
      "Epoch 7/100\n",
      "1105/1105 [==============================] - 13s 12ms/step - loss: 0.0030 - mape: 4485.7671 - mae: 0.0404 - val_loss: 0.0061 - val_mape: 67.7816 - val_mae: 0.0526\n",
      "Epoch 8/100\n",
      "1105/1105 [==============================] - 12s 11ms/step - loss: 0.0029 - mape: 4204.0547 - mae: 0.0393 - val_loss: 0.0066 - val_mape: 62.2911 - val_mae: 0.0558\n",
      "Epoch 9/100\n",
      "1105/1105 [==============================] - 13s 12ms/step - loss: 0.0028 - mape: 3981.8853 - mae: 0.0388 - val_loss: 0.0065 - val_mape: 75.4575 - val_mae: 0.0544\n",
      "Epoch 10/100\n",
      "1105/1105 [==============================] - 13s 11ms/step - loss: 0.0027 - mape: 3573.5776 - mae: 0.0377 - val_loss: 0.0061 - val_mape: 69.8945 - val_mae: 0.0519\n",
      "Epoch 11/100\n",
      "1105/1105 [==============================] - 13s 12ms/step - loss: 0.0026 - mape: 3225.4915 - mae: 0.0373 - val_loss: 0.0062 - val_mape: 55.6924 - val_mae: 0.0509\n",
      "Epoch 12/100\n",
      "1105/1105 [==============================] - 13s 11ms/step - loss: 0.0026 - mape: 3453.4536 - mae: 0.0370 - val_loss: 0.0067 - val_mape: 62.0425 - val_mae: 0.0522\n",
      "Epoch 13/100\n",
      "1105/1105 [==============================] - 13s 11ms/step - loss: 0.0025 - mape: 3260.5488 - mae: 0.0364 - val_loss: 0.0067 - val_mape: 50.0694 - val_mae: 0.0542\n",
      "Epoch 14/100\n",
      "1105/1105 [==============================] - 13s 12ms/step - loss: 0.0025 - mape: 3009.8857 - mae: 0.0364 - val_loss: 0.0062 - val_mape: 56.6897 - val_mae: 0.0505\n",
      "Epoch 15/100\n",
      "1105/1105 [==============================] - 13s 12ms/step - loss: 0.0025 - mape: 2988.8616 - mae: 0.0361 - val_loss: 0.0059 - val_mape: 69.8174 - val_mae: 0.0514\n",
      "Epoch 16/100\n",
      "1105/1105 [==============================] - 13s 12ms/step - loss: 0.0024 - mape: 3120.3860 - mae: 0.0355 - val_loss: 0.0068 - val_mape: 50.9793 - val_mae: 0.0553\n",
      "Epoch 17/100\n",
      "1105/1105 [==============================] - 13s 12ms/step - loss: 0.0024 - mape: 3397.2695 - mae: 0.0357 - val_loss: 0.0058 - val_mape: 53.4737 - val_mae: 0.0490\n",
      "Epoch 18/100\n",
      "1105/1105 [==============================] - 13s 12ms/step - loss: 0.0023 - mape: 3123.0635 - mae: 0.0351 - val_loss: 0.0058 - val_mape: 62.4791 - val_mae: 0.0498\n",
      "Epoch 19/100\n",
      "1105/1105 [==============================] - 13s 11ms/step - loss: 0.0023 - mape: 3147.8364 - mae: 0.0351 - val_loss: 0.0061 - val_mape: 58.3681 - val_mae: 0.0498\n",
      "Epoch 20/100\n",
      "1105/1105 [==============================] - 12s 11ms/step - loss: 0.0023 - mape: 2731.8164 - mae: 0.0348 - val_loss: 0.0061 - val_mape: 54.0036 - val_mae: 0.0513\n",
      "Epoch 21/100\n",
      "1105/1105 [==============================] - 12s 11ms/step - loss: 0.0023 - mape: 2753.6936 - mae: 0.0346 - val_loss: 0.0060 - val_mape: 58.1367 - val_mae: 0.0495\n",
      "Epoch 22/100\n",
      "1105/1105 [==============================] - 12s 11ms/step - loss: 0.0023 - mape: 2467.1470 - mae: 0.0345 - val_loss: 0.0058 - val_mape: 64.4169 - val_mae: 0.0488\n",
      "Epoch 23/100\n",
      "1105/1105 [==============================] - 12s 11ms/step - loss: 0.0023 - mape: 2853.9521 - mae: 0.0344 - val_loss: 0.0059 - val_mape: 68.5862 - val_mae: 0.0490\n",
      "Epoch 24/100\n",
      "1105/1105 [==============================] - 12s 11ms/step - loss: 0.0022 - mape: 2577.3696 - mae: 0.0342 - val_loss: 0.0060 - val_mape: 59.5057 - val_mae: 0.0504\n",
      "Epoch 25/100\n",
      "1105/1105 [==============================] - 12s 11ms/step - loss: 0.0022 - mape: 2716.2964 - mae: 0.0340 - val_loss: 0.0064 - val_mape: 56.2590 - val_mae: 0.0504\n",
      "Epoch 26/100\n",
      "1105/1105 [==============================] - 12s 11ms/step - loss: 0.0022 - mape: 2311.4631 - mae: 0.0339 - val_loss: 0.0060 - val_mape: 56.9982 - val_mae: 0.0484\n",
      "Epoch 27/100\n",
      "1105/1105 [==============================] - 12s 11ms/step - loss: 0.0021 - mape: 2206.6831 - mae: 0.0335 - val_loss: 0.0058 - val_mape: 61.8000 - val_mae: 0.0488\n",
      "Epoch 28/100\n",
      "1105/1105 [==============================] - 12s 11ms/step - loss: 0.0021 - mape: 2684.0151 - mae: 0.0335 - val_loss: 0.0060 - val_mape: 60.6443 - val_mae: 0.0492\n",
      "Epoch 29/100\n",
      "1105/1105 [==============================] - 12s 11ms/step - loss: 0.0021 - mape: 2506.3855 - mae: 0.0333 - val_loss: 0.0061 - val_mape: 69.5117 - val_mae: 0.0503\n",
      "Epoch 30/100\n",
      "1105/1105 [==============================] - 12s 11ms/step - loss: 0.0021 - mape: 2235.1509 - mae: 0.0331 - val_loss: 0.0060 - val_mape: 63.4945 - val_mae: 0.0495\n",
      "Epoch 31/100\n",
      "1105/1105 [==============================] - 12s 11ms/step - loss: 0.0021 - mape: 2402.7410 - mae: 0.0331 - val_loss: 0.0066 - val_mape: 65.4368 - val_mae: 0.0511\n",
      "Epoch 32/100\n",
      "1105/1105 [==============================] - 12s 11ms/step - loss: 0.0021 - mape: 2538.1475 - mae: 0.0330 - val_loss: 0.0062 - val_mape: 61.2515 - val_mae: 0.0499\n",
      "Epoch 33/100\n",
      "1105/1105 [==============================] - 12s 11ms/step - loss: 0.0020 - mape: 2287.2166 - mae: 0.0327 - val_loss: 0.0065 - val_mape: 62.5631 - val_mae: 0.0517\n",
      "Epoch 34/100\n",
      "1105/1105 [==============================] - 12s 11ms/step - loss: 0.0020 - mape: 1769.0859 - mae: 0.0326 - val_loss: 0.0063 - val_mape: 64.1797 - val_mae: 0.0499\n",
      "Epoch 35/100\n",
      "1105/1105 [==============================] - 12s 11ms/step - loss: 0.0020 - mape: 2180.6108 - mae: 0.0324 - val_loss: 0.0062 - val_mape: 74.1116 - val_mae: 0.0518\n",
      "Epoch 36/100\n",
      "1105/1105 [==============================] - 12s 11ms/step - loss: 0.0020 - mape: 2054.7559 - mae: 0.0323 - val_loss: 0.0063 - val_mape: 60.5497 - val_mae: 0.0497\n",
      "Epoch 37/100\n",
      "1105/1105 [==============================] - 12s 11ms/step - loss: 0.0020 - mape: 1810.5988 - mae: 0.0322 - val_loss: 0.0070 - val_mape: 58.2627 - val_mae: 0.0538\n",
      "Epoch 38/100\n",
      "1105/1105 [==============================] - 12s 11ms/step - loss: 0.0019 - mape: 1795.4731 - mae: 0.0319 - val_loss: 0.0060 - val_mape: 62.8079 - val_mae: 0.0517\n",
      "Epoch 39/100\n",
      "1105/1105 [==============================] - 12s 11ms/step - loss: 0.0019 - mape: 1804.8923 - mae: 0.0319 - val_loss: 0.0061 - val_mape: 55.7486 - val_mae: 0.0489\n",
      "Epoch 40/100\n",
      "1105/1105 [==============================] - 12s 11ms/step - loss: 0.0019 - mape: 1674.2683 - mae: 0.0316 - val_loss: 0.0059 - val_mape: 62.5225 - val_mae: 0.0484\n",
      "Epoch 41/100\n",
      "1105/1105 [==============================] - 12s 11ms/step - loss: 0.0019 - mape: 1673.9784 - mae: 0.0315 - val_loss: 0.0062 - val_mape: 69.5482 - val_mae: 0.0515\n",
      "Epoch 42/100\n",
      "1105/1105 [==============================] - 12s 11ms/step - loss: 0.0019 - mape: 1724.4475 - mae: 0.0313 - val_loss: 0.0063 - val_mape: 59.9162 - val_mae: 0.0509\n",
      "Epoch 43/100\n",
      "1105/1105 [==============================] - 12s 11ms/step - loss: 0.0019 - mape: 1517.1653 - mae: 0.0314 - val_loss: 0.0065 - val_mape: 67.5593 - val_mae: 0.0529\n",
      "Epoch 44/100\n",
      "1105/1105 [==============================] - 12s 11ms/step - loss: 0.0018 - mape: 1666.5764 - mae: 0.0310 - val_loss: 0.0066 - val_mape: 71.2214 - val_mae: 0.0518\n",
      "Epoch 45/100\n",
      "1105/1105 [==============================] - 12s 11ms/step - loss: 0.0018 - mape: 1520.6785 - mae: 0.0308 - val_loss: 0.0062 - val_mape: 61.7312 - val_mae: 0.0500\n",
      "Epoch 46/100\n",
      "1105/1105 [==============================] - 12s 11ms/step - loss: 0.0018 - mape: 1719.9404 - mae: 0.0307 - val_loss: 0.0065 - val_mape: 56.7677 - val_mae: 0.0513\n",
      "Epoch 47/100\n"
     ]
    },
    {
     "name": "stdout",
     "output_type": "stream",
     "text": [
      "1105/1105 [==============================] - 12s 11ms/step - loss: 0.0017 - mape: 1329.4363 - mae: 0.0304 - val_loss: 0.0061 - val_mape: 62.6211 - val_mae: 0.0510\n",
      "Epoch 48/100\n",
      "1105/1105 [==============================] - 12s 11ms/step - loss: 0.0017 - mape: 1228.1371 - mae: 0.0303 - val_loss: 0.0061 - val_mape: 66.2661 - val_mae: 0.0488\n",
      "Epoch 49/100\n",
      "1105/1105 [==============================] - 12s 11ms/step - loss: 0.0017 - mape: 1252.8407 - mae: 0.0302 - val_loss: 0.0063 - val_mape: 60.3358 - val_mae: 0.0507\n",
      "Epoch 50/100\n",
      "1105/1105 [==============================] - 12s 11ms/step - loss: 0.0017 - mape: 1444.7839 - mae: 0.0300 - val_loss: 0.0063 - val_mape: 63.7685 - val_mae: 0.0500\n",
      "Epoch 51/100\n",
      "1105/1105 [==============================] - 12s 11ms/step - loss: 0.0017 - mape: 1330.1405 - mae: 0.0299 - val_loss: 0.0061 - val_mape: 65.7152 - val_mae: 0.0490\n",
      "Epoch 52/100\n",
      "1105/1105 [==============================] - 12s 11ms/step - loss: 0.0016 - mape: 1313.9755 - mae: 0.0295 - val_loss: 0.0058 - val_mape: 57.9910 - val_mae: 0.0490\n",
      "Epoch 53/100\n",
      "1105/1105 [==============================] - 12s 11ms/step - loss: 0.0016 - mape: 1477.1117 - mae: 0.0294 - val_loss: 0.0065 - val_mape: 61.5712 - val_mae: 0.0516\n",
      "Epoch 54/100\n",
      "1105/1105 [==============================] - 12s 11ms/step - loss: 0.0016 - mape: 1603.3903 - mae: 0.0294 - val_loss: 0.0061 - val_mape: 61.2242 - val_mae: 0.0498\n",
      "Epoch 55/100\n",
      "1105/1105 [==============================] - 12s 11ms/step - loss: 0.0016 - mape: 1240.1616 - mae: 0.0292 - val_loss: 0.0060 - val_mape: 55.8353 - val_mae: 0.0501\n",
      "Epoch 56/100\n",
      "1105/1105 [==============================] - 12s 11ms/step - loss: 0.0016 - mape: 1345.1520 - mae: 0.0289 - val_loss: 0.0061 - val_mape: 56.3893 - val_mae: 0.0510\n",
      "Epoch 57/100\n",
      "1105/1105 [==============================] - 12s 11ms/step - loss: 0.0015 - mape: 1396.6803 - mae: 0.0287 - val_loss: 0.0061 - val_mape: 59.3782 - val_mae: 0.0502\n",
      "Epoch 58/100\n",
      "1105/1105 [==============================] - 12s 11ms/step - loss: 0.0016 - mape: 1481.2732 - mae: 0.0288 - val_loss: 0.0062 - val_mape: 59.8114 - val_mae: 0.0507\n",
      "Epoch 59/100\n",
      "1105/1105 [==============================] - 12s 11ms/step - loss: 0.0015 - mape: 989.8970 - mae: 0.0284 - val_loss: 0.0059 - val_mape: 65.5417 - val_mae: 0.0500\n",
      "Epoch 60/100\n",
      "1105/1105 [==============================] - 12s 11ms/step - loss: 0.0015 - mape: 1341.6726 - mae: 0.0281 - val_loss: 0.0066 - val_mape: 48.5427 - val_mae: 0.0543\n",
      "Epoch 61/100\n",
      "1105/1105 [==============================] - 12s 11ms/step - loss: 0.0015 - mape: 1340.5999 - mae: 0.0280 - val_loss: 0.0065 - val_mape: 60.2343 - val_mae: 0.0519\n",
      "Epoch 62/100\n",
      "1105/1105 [==============================] - 12s 11ms/step - loss: 0.0015 - mape: 1336.6511 - mae: 0.0281 - val_loss: 0.0069 - val_mape: 51.3432 - val_mae: 0.0546\n",
      "Epoch 63/100\n",
      "1105/1105 [==============================] - 12s 11ms/step - loss: 0.0014 - mape: 1097.0437 - mae: 0.0276 - val_loss: 0.0065 - val_mape: 57.2389 - val_mae: 0.0522\n",
      "Epoch 64/100\n",
      "1105/1105 [==============================] - 13s 11ms/step - loss: 0.0014 - mape: 1202.9144 - mae: 0.0275 - val_loss: 0.0065 - val_mape: 55.6450 - val_mae: 0.0525\n",
      "Epoch 65/100\n",
      "1105/1105 [==============================] - 13s 12ms/step - loss: 0.0014 - mape: 1140.9908 - mae: 0.0273 - val_loss: 0.0065 - val_mape: 59.9713 - val_mae: 0.0525\n",
      "Epoch 66/100\n",
      "1105/1105 [==============================] - 13s 11ms/step - loss: 0.0014 - mape: 1383.5791 - mae: 0.0272 - val_loss: 0.0058 - val_mape: 59.3812 - val_mae: 0.0513\n",
      "Epoch 67/100\n",
      "1105/1105 [==============================] - 13s 11ms/step - loss: 0.0014 - mape: 1149.8878 - mae: 0.0270 - val_loss: 0.0059 - val_mape: 66.8808 - val_mae: 0.0523\n",
      "Epoch 68/100\n",
      "1105/1105 [==============================] - 13s 11ms/step - loss: 0.0013 - mape: 1275.7091 - mae: 0.0269 - val_loss: 0.0074 - val_mape: 59.0468 - val_mae: 0.0583\n",
      "Epoch 69/100\n",
      "1105/1105 [==============================] - 12s 11ms/step - loss: 0.0013 - mape: 1159.8213 - mae: 0.0267 - val_loss: 0.0067 - val_mape: 57.4514 - val_mae: 0.0544\n",
      "Epoch 70/100\n",
      "1105/1105 [==============================] - 12s 11ms/step - loss: 0.0013 - mape: 1025.4041 - mae: 0.0264 - val_loss: 0.0062 - val_mape: 43.0549 - val_mae: 0.0508\n",
      "Epoch 71/100\n",
      "1105/1105 [==============================] - 13s 11ms/step - loss: 0.0013 - mape: 1288.5146 - mae: 0.0263 - val_loss: 0.0063 - val_mape: 55.1014 - val_mae: 0.0523\n",
      "Epoch 72/100\n",
      "1105/1105 [==============================] - 12s 11ms/step - loss: 0.0013 - mape: 1360.5677 - mae: 0.0262 - val_loss: 0.0066 - val_mape: 52.9223 - val_mae: 0.0539\n",
      "Epoch 73/100\n",
      "1105/1105 [==============================] - 12s 11ms/step - loss: 0.0013 - mape: 1333.6073 - mae: 0.0267 - val_loss: 0.0068 - val_mape: 54.5171 - val_mae: 0.0550\n",
      "Epoch 74/100\n",
      "1105/1105 [==============================] - 12s 11ms/step - loss: 0.0013 - mape: 1528.8837 - mae: 0.0261 - val_loss: 0.0062 - val_mape: 58.0078 - val_mae: 0.0516\n",
      "Epoch 75/100\n",
      "1105/1105 [==============================] - 12s 11ms/step - loss: 0.0012 - mape: 1233.6873 - mae: 0.0257 - val_loss: 0.0070 - val_mape: 52.3417 - val_mae: 0.0548\n",
      "Epoch 76/100\n",
      "1105/1105 [==============================] - 12s 11ms/step - loss: 0.0012 - mape: 1249.3906 - mae: 0.0256 - val_loss: 0.0071 - val_mape: 54.1591 - val_mae: 0.0568\n",
      "Epoch 77/100\n",
      "1105/1105 [==============================] - 12s 11ms/step - loss: 0.0012 - mape: 1360.0638 - mae: 0.0255 - val_loss: 0.0066 - val_mape: 63.2748 - val_mae: 0.0544\n",
      "Epoch 78/100\n",
      "1105/1105 [==============================] - 12s 11ms/step - loss: 0.0012 - mape: 1204.3792 - mae: 0.0252 - val_loss: 0.0069 - val_mape: 60.6083 - val_mae: 0.0559\n",
      "Epoch 79/100\n",
      "1105/1105 [==============================] - 12s 11ms/step - loss: 0.0012 - mape: 1210.3248 - mae: 0.0251 - val_loss: 0.0068 - val_mape: 58.1543 - val_mae: 0.0551\n",
      "Epoch 80/100\n",
      "1105/1105 [==============================] - 12s 11ms/step - loss: 0.0011 - mape: 1043.4479 - mae: 0.0250 - val_loss: 0.0071 - val_mape: 64.2161 - val_mae: 0.0580\n",
      "Epoch 81/100\n",
      "1105/1105 [==============================] - 12s 11ms/step - loss: 0.0011 - mape: 1182.1073 - mae: 0.0248 - val_loss: 0.0068 - val_mape: 59.9253 - val_mae: 0.0547\n",
      "Epoch 82/100\n",
      "1105/1105 [==============================] - 12s 11ms/step - loss: 0.0011 - mape: 1063.0165 - mae: 0.0246 - val_loss: 0.0070 - val_mape: 66.0595 - val_mae: 0.0570\n",
      "Epoch 83/100\n",
      "1105/1105 [==============================] - 12s 11ms/step - loss: 0.0011 - mape: 1116.8695 - mae: 0.0245 - val_loss: 0.0065 - val_mape: 70.7663 - val_mae: 0.0545\n",
      "Epoch 84/100\n",
      "1105/1105 [==============================] - 12s 11ms/step - loss: 0.0011 - mape: 1365.8884 - mae: 0.0244 - val_loss: 0.0075 - val_mape: 72.7836 - val_mae: 0.0614\n",
      "Epoch 85/100\n",
      "1105/1105 [==============================] - 12s 11ms/step - loss: 0.0011 - mape: 1052.2850 - mae: 0.0241 - val_loss: 0.0070 - val_mape: 73.4241 - val_mae: 0.0591\n",
      "Epoch 86/100\n",
      "1105/1105 [==============================] - 13s 11ms/step - loss: 0.0011 - mape: 1167.5256 - mae: 0.0242 - val_loss: 0.0074 - val_mape: 74.2383 - val_mae: 0.0600\n",
      "Epoch 87/100\n",
      "1105/1105 [==============================] - 13s 12ms/step - loss: 0.0010 - mape: 1134.5415 - mae: 0.0239 - val_loss: 0.0069 - val_mape: 80.6713 - val_mae: 0.0573\n",
      "Epoch 88/100\n",
      "1105/1105 [==============================] - 12s 11ms/step - loss: 0.0010 - mape: 1134.4337 - mae: 0.0236 - val_loss: 0.0080 - val_mape: 78.8004 - val_mae: 0.0630\n",
      "Epoch 89/100\n",
      "1105/1105 [==============================] - 13s 11ms/step - loss: 0.0010 - mape: 1019.3365 - mae: 0.0236 - val_loss: 0.0072 - val_mape: 75.7362 - val_mae: 0.0587\n",
      "Epoch 90/100\n",
      "1105/1105 [==============================] - 12s 11ms/step - loss: 0.0010 - mape: 1099.3378 - mae: 0.0235 - val_loss: 0.0069 - val_mape: 82.5068 - val_mae: 0.0581\n",
      "Epoch 91/100\n",
      "1105/1105 [==============================] - 12s 11ms/step - loss: 0.0010 - mape: 874.4944 - mae: 0.0234 - val_loss: 0.0072 - val_mape: 77.0749 - val_mae: 0.0589\n",
      "Epoch 92/100\n",
      "1105/1105 [==============================] - 12s 11ms/step - loss: 9.7586e-04 - mape: 1249.3121 - mae: 0.0232 - val_loss: 0.0082 - val_mape: 84.5815 - val_mae: 0.0656\n",
      "Epoch 93/100\n"
     ]
    },
    {
     "name": "stdout",
     "output_type": "stream",
     "text": [
      "1105/1105 [==============================] - 12s 11ms/step - loss: 9.6994e-04 - mape: 1072.5978 - mae: 0.0231 - val_loss: 0.0077 - val_mape: 73.8594 - val_mae: 0.0608\n",
      "Epoch 94/100\n",
      "1105/1105 [==============================] - 12s 11ms/step - loss: 9.6029e-04 - mape: 1209.5038 - mae: 0.0230 - val_loss: 0.0074 - val_mape: 83.9174 - val_mae: 0.0599\n",
      "Epoch 95/100\n",
      "1105/1105 [==============================] - 12s 11ms/step - loss: 9.3443e-04 - mape: 1388.8435 - mae: 0.0227 - val_loss: 0.0072 - val_mape: 73.1502 - val_mae: 0.0585\n",
      "Epoch 96/100\n",
      "1105/1105 [==============================] - 12s 11ms/step - loss: 9.4186e-04 - mape: 1237.7126 - mae: 0.0227 - val_loss: 0.0072 - val_mape: 87.2414 - val_mae: 0.0610\n",
      "Epoch 97/100\n",
      "1105/1105 [==============================] - 12s 11ms/step - loss: 0.0010 - mape: 1321.5331 - mae: 0.0233 - val_loss: 0.0076 - val_mape: 85.5059 - val_mae: 0.0626\n",
      "Epoch 98/100\n",
      "1105/1105 [==============================] - 12s 11ms/step - loss: 9.0981e-04 - mape: 996.0815 - mae: 0.0224 - val_loss: 0.0081 - val_mape: 80.5405 - val_mae: 0.0638\n",
      "Epoch 99/100\n",
      "1105/1105 [==============================] - 12s 11ms/step - loss: 9.0525e-04 - mape: 1003.7853 - mae: 0.0223 - val_loss: 0.0088 - val_mape: 87.2208 - val_mae: 0.0678\n",
      "Epoch 100/100\n",
      "1105/1105 [==============================] - 13s 12ms/step - loss: 8.8507e-04 - mape: 1087.8335 - mae: 0.0221 - val_loss: 0.0079 - val_mape: 87.9487 - val_mae: 0.0637\n"
     ]
    },
    {
     "data": {
      "text/plain": [
       "<keras.callbacks.History at 0x21a85f91790>"
      ]
     },
     "execution_count": 22,
     "metadata": {},
     "output_type": "execute_result"
    }
   ],
   "source": [
    "model.fit(X_train, Y_train, epochs= epochs, batch_size= batchSize, verbose= 1, shuffle= True, validation_data= (X_valid, Y_valid))"
   ]
  },
  {
   "cell_type": "code",
   "execution_count": 23,
   "id": "cd839153",
   "metadata": {},
   "outputs": [
    {
     "name": "stdout",
     "output_type": "stream",
     "text": [
      "Total execution time in seconds: 1240.921546459198\n"
     ]
    }
   ],
   "source": [
    "calcExecTime = (time.time() - startTime)\n",
    "print('Total execution time in seconds: ' + str(calcExecTime))"
   ]
  },
  {
   "cell_type": "markdown",
   "id": "72aafa74",
   "metadata": {},
   "source": [
    "### MAKING PREDICTIONS AND GENERATING RESULTS"
   ]
  },
  {
   "cell_type": "code",
   "execution_count": 24,
   "id": "259bfb49",
   "metadata": {},
   "outputs": [
    {
     "name": "stdout",
     "output_type": "stream",
     "text": [
      "6/6 [==============================] - 1s 6ms/step\n"
     ]
    }
   ],
   "source": [
    "predictions = model.predict(X_test)"
   ]
  },
  {
   "cell_type": "code",
   "execution_count": 25,
   "id": "2912d431",
   "metadata": {},
   "outputs": [
    {
     "data": {
      "text/plain": [
       "array([0.21827254, 0.20344839, 0.19795945, ..., 0.3420808 , 0.30420035,\n",
       "       0.26950797], dtype=float32)"
      ]
     },
     "execution_count": 25,
     "metadata": {},
     "output_type": "execute_result"
    }
   ],
   "source": [
    "predArr = predictions.reshape(predictions.shape[0] * predictions.shape[1], predictions.shape[2]).ravel()\n",
    "predArr"
   ]
  },
  {
   "cell_type": "code",
   "execution_count": 26,
   "id": "b01889f2",
   "metadata": {},
   "outputs": [
    {
     "data": {
      "text/plain": [
       "array([0.40230817, 0.37525055, 0.36036315, ..., 0.33106785, 0.30314256,\n",
       "       0.27766044])"
      ]
     },
     "execution_count": 26,
     "metadata": {},
     "output_type": "execute_result"
    }
   ],
   "source": [
    "Y_testArr = Y_test.reshape(Y_test.shape[0] * Y_test.shape[1], Y_test.shape[2]).ravel()\n",
    "Y_testArr"
   ]
  },
  {
   "cell_type": "code",
   "execution_count": 27,
   "id": "799c97e8",
   "metadata": {},
   "outputs": [],
   "source": [
    "def inverse_transform(df):\n",
    "    column_names = df.columns\n",
    "    for col in column_names:\n",
    "        df[col] = ValScaler.inverse_transform(df[[col]]) \n",
    "    return df"
   ]
  },
  {
   "cell_type": "code",
   "execution_count": 28,
   "id": "afa81e30",
   "metadata": {},
   "outputs": [
    {
     "data": {
      "text/html": [
       "<div>\n",
       "<style scoped>\n",
       "    .dataframe tbody tr th:only-of-type {\n",
       "        vertical-align: middle;\n",
       "    }\n",
       "\n",
       "    .dataframe tbody tr th {\n",
       "        vertical-align: top;\n",
       "    }\n",
       "\n",
       "    .dataframe thead th {\n",
       "        text-align: right;\n",
       "    }\n",
       "</style>\n",
       "<table border=\"1\" class=\"dataframe\">\n",
       "  <thead>\n",
       "    <tr style=\"text-align: right;\">\n",
       "      <th></th>\n",
       "      <th>Values</th>\n",
       "      <th>Predictions</th>\n",
       "    </tr>\n",
       "  </thead>\n",
       "  <tbody>\n",
       "    <tr>\n",
       "      <th>0</th>\n",
       "      <td>2636.1</td>\n",
       "      <td>1830.108276</td>\n",
       "    </tr>\n",
       "    <tr>\n",
       "      <th>1</th>\n",
       "      <td>2517.6</td>\n",
       "      <td>1765.185181</td>\n",
       "    </tr>\n",
       "    <tr>\n",
       "      <th>2</th>\n",
       "      <td>2452.4</td>\n",
       "      <td>1741.146240</td>\n",
       "    </tr>\n",
       "    <tr>\n",
       "      <th>3</th>\n",
       "      <td>2428.5</td>\n",
       "      <td>1736.122681</td>\n",
       "    </tr>\n",
       "    <tr>\n",
       "      <th>4</th>\n",
       "      <td>2459.8</td>\n",
       "      <td>1793.647583</td>\n",
       "    </tr>\n",
       "    <tr>\n",
       "      <th>...</th>\n",
       "      <td>...</td>\n",
       "      <td>...</td>\n",
       "    </tr>\n",
       "    <tr>\n",
       "      <th>4363</th>\n",
       "      <td>2574.2</td>\n",
       "      <td>2570.896973</td>\n",
       "    </tr>\n",
       "    <tr>\n",
       "      <th>4364</th>\n",
       "      <td>2446.3</td>\n",
       "      <td>2502.732666</td>\n",
       "    </tr>\n",
       "    <tr>\n",
       "      <th>4365</th>\n",
       "      <td>2324.1</td>\n",
       "      <td>2372.331787</td>\n",
       "    </tr>\n",
       "    <tr>\n",
       "      <th>4366</th>\n",
       "      <td>2201.8</td>\n",
       "      <td>2206.432617</td>\n",
       "    </tr>\n",
       "    <tr>\n",
       "      <th>4367</th>\n",
       "      <td>2090.2</td>\n",
       "      <td>2054.496094</td>\n",
       "    </tr>\n",
       "  </tbody>\n",
       "</table>\n",
       "<p>4368 rows × 2 columns</p>\n",
       "</div>"
      ],
      "text/plain": [
       "      Values  Predictions\n",
       "0     2636.1  1830.108276\n",
       "1     2517.6  1765.185181\n",
       "2     2452.4  1741.146240\n",
       "3     2428.5  1736.122681\n",
       "4     2459.8  1793.647583\n",
       "...      ...          ...\n",
       "4363  2574.2  2570.896973\n",
       "4364  2446.3  2502.732666\n",
       "4365  2324.1  2372.331787\n",
       "4366  2201.8  2206.432617\n",
       "4367  2090.2  2054.496094\n",
       "\n",
       "[4368 rows x 2 columns]"
      ]
     },
     "execution_count": 28,
     "metadata": {},
     "output_type": "execute_result"
    }
   ],
   "source": [
    "comparisionDf = pd.DataFrame(data= {\"Values\": Y_testArr, \"Predictions\": predArr})\n",
    "comparisionDf = inverse_transform(comparisionDf)\n",
    "comparisionDf"
   ]
  },
  {
   "cell_type": "code",
   "execution_count": 29,
   "id": "88222bae",
   "metadata": {},
   "outputs": [
    {
     "data": {
      "text/plain": [
       "8.981711143565349"
      ]
     },
     "execution_count": 29,
     "metadata": {},
     "output_type": "execute_result"
    }
   ],
   "source": [
    "mape(comparisionDf[\"Values\"], comparisionDf[\"Predictions\"])"
   ]
  }
 ],
 "metadata": {
  "kernelspec": {
   "display_name": "Python 3 (ipykernel)",
   "language": "python",
   "name": "python3"
  },
  "language_info": {
   "codemirror_mode": {
    "name": "ipython",
    "version": 3
   },
   "file_extension": ".py",
   "mimetype": "text/x-python",
   "name": "python",
   "nbconvert_exporter": "python",
   "pygments_lexer": "ipython3",
   "version": "3.9.12"
  }
 },
 "nbformat": 4,
 "nbformat_minor": 5
}
