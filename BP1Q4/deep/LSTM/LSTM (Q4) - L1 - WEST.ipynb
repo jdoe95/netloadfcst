{
 "cells": [
  {
   "cell_type": "code",
   "execution_count": 1,
   "id": "5f61b29f",
   "metadata": {},
   "outputs": [
    {
     "name": "stdout",
     "output_type": "stream",
     "text": [
      "Num GPUs Available:  1\n"
     ]
    }
   ],
   "source": [
    "import pandas as pd\n",
    "import numpy as np\n",
    "import os\n",
    "import matplotlib.pyplot as plt\n",
    "from datetime import datetime\n",
    "from sklearn.preprocessing import MinMaxScaler, RobustScaler, StandardScaler\n",
    "import time\n",
    "\n",
    "import tensorflow as tf\n",
    "tf.random.set_seed(42)\n",
    "\n",
    "def mape(y_true, y_pred):\n",
    "    y_true, y_pred = np.array(y_true), np.array(y_pred)\n",
    "    return np.mean(np.abs((y_true - y_pred) / max(y_true))) * 100\n",
    "\n",
    "def RMSELoss(yhat,y):\n",
    "    return torch.sqrt(torch.mean((yhat-y)**2))\n",
    "\n",
    "print(\"Num GPUs Available: \", len(tf.config.list_physical_devices('GPU')))"
   ]
  },
  {
   "cell_type": "code",
   "execution_count": 2,
   "id": "cea0abe2",
   "metadata": {},
   "outputs": [
    {
     "name": "stdout",
     "output_type": "stream",
     "text": [
      "['MIDATL.csv', 'SOUTH.csv', 'WEST.csv']\n"
     ]
    }
   ],
   "source": [
    "# Specifying the path of file\n",
    "path= r\"C:\\Users\\sashah8\\OneDrive - North Carolina State University\\Desktop\\Q4\\Data\\L1\\data_cleaned\"\n",
    "\n",
    "# Listing just the required files\n",
    "fileList = os.listdir(path)\n",
    "fileList.remove(\"Date.csv\")\n",
    "\n",
    "# Previewing the required file names\n",
    "print(fileList)"
   ]
  },
  {
   "cell_type": "code",
   "execution_count": 3,
   "id": "a6fe9396",
   "metadata": {},
   "outputs": [
    {
     "data": {
      "text/html": [
       "<div>\n",
       "<style scoped>\n",
       "    .dataframe tbody tr th:only-of-type {\n",
       "        vertical-align: middle;\n",
       "    }\n",
       "\n",
       "    .dataframe tbody tr th {\n",
       "        vertical-align: top;\n",
       "    }\n",
       "\n",
       "    .dataframe thead th {\n",
       "        text-align: right;\n",
       "    }\n",
       "</style>\n",
       "<table border=\"1\" class=\"dataframe\">\n",
       "  <thead>\n",
       "    <tr style=\"text-align: right;\">\n",
       "      <th></th>\n",
       "      <th>Net</th>\n",
       "      <th>Temperature</th>\n",
       "    </tr>\n",
       "  </thead>\n",
       "  <tbody>\n",
       "    <tr>\n",
       "      <th>0</th>\n",
       "      <td>49769.768</td>\n",
       "      <td>-9.0</td>\n",
       "    </tr>\n",
       "    <tr>\n",
       "      <th>1</th>\n",
       "      <td>48714.914</td>\n",
       "      <td>-9.0</td>\n",
       "    </tr>\n",
       "    <tr>\n",
       "      <th>2</th>\n",
       "      <td>47880.328</td>\n",
       "      <td>-9.0</td>\n",
       "    </tr>\n",
       "    <tr>\n",
       "      <th>3</th>\n",
       "      <td>47380.142</td>\n",
       "      <td>-9.0</td>\n",
       "    </tr>\n",
       "    <tr>\n",
       "      <th>4</th>\n",
       "      <td>47241.559</td>\n",
       "      <td>-9.1</td>\n",
       "    </tr>\n",
       "    <tr>\n",
       "      <th>...</th>\n",
       "      <td>...</td>\n",
       "      <td>...</td>\n",
       "    </tr>\n",
       "    <tr>\n",
       "      <th>43819</th>\n",
       "      <td>49258.613</td>\n",
       "      <td>-1.3</td>\n",
       "    </tr>\n",
       "    <tr>\n",
       "      <th>43820</th>\n",
       "      <td>47886.874</td>\n",
       "      <td>-1.5</td>\n",
       "    </tr>\n",
       "    <tr>\n",
       "      <th>43821</th>\n",
       "      <td>46582.286</td>\n",
       "      <td>-1.7</td>\n",
       "    </tr>\n",
       "    <tr>\n",
       "      <th>43822</th>\n",
       "      <td>45132.982</td>\n",
       "      <td>-2.1</td>\n",
       "    </tr>\n",
       "    <tr>\n",
       "      <th>43823</th>\n",
       "      <td>43501.529</td>\n",
       "      <td>-2.6</td>\n",
       "    </tr>\n",
       "  </tbody>\n",
       "</table>\n",
       "<p>43824 rows × 2 columns</p>\n",
       "</div>"
      ],
      "text/plain": [
       "             Net  Temperature\n",
       "0      49769.768         -9.0\n",
       "1      48714.914         -9.0\n",
       "2      47880.328         -9.0\n",
       "3      47380.142         -9.0\n",
       "4      47241.559         -9.1\n",
       "...          ...          ...\n",
       "43819  49258.613         -1.3\n",
       "43820  47886.874         -1.5\n",
       "43821  46582.286         -1.7\n",
       "43822  45132.982         -2.1\n",
       "43823  43501.529         -2.6\n",
       "\n",
       "[43824 rows x 2 columns]"
      ]
     },
     "execution_count": 3,
     "metadata": {},
     "output_type": "execute_result"
    }
   ],
   "source": [
    "# Just for previewing the columns\n",
    "pd.read_csv(os.path.join(path, fileList[2]))"
   ]
  },
  {
   "cell_type": "markdown",
   "id": "9ad4906c",
   "metadata": {
    "pycharm": {
     "name": "#%% md\n"
    }
   },
   "source": [
    "### PROCESSING THE DATA"
   ]
  },
  {
   "cell_type": "code",
   "execution_count": 4,
   "id": "f29f6db2",
   "metadata": {},
   "outputs": [
    {
     "data": {
      "text/html": [
       "<div>\n",
       "<style scoped>\n",
       "    .dataframe tbody tr th:only-of-type {\n",
       "        vertical-align: middle;\n",
       "    }\n",
       "\n",
       "    .dataframe tbody tr th {\n",
       "        vertical-align: top;\n",
       "    }\n",
       "\n",
       "    .dataframe thead th {\n",
       "        text-align: right;\n",
       "    }\n",
       "</style>\n",
       "<table border=\"1\" class=\"dataframe\">\n",
       "  <thead>\n",
       "    <tr style=\"text-align: right;\">\n",
       "      <th></th>\n",
       "      <th>Load_WEST</th>\n",
       "      <th>Temp_WEST</th>\n",
       "    </tr>\n",
       "  </thead>\n",
       "  <tbody>\n",
       "    <tr>\n",
       "      <th>0</th>\n",
       "      <td>49769.768</td>\n",
       "      <td>-9.0</td>\n",
       "    </tr>\n",
       "    <tr>\n",
       "      <th>1</th>\n",
       "      <td>48714.914</td>\n",
       "      <td>-9.0</td>\n",
       "    </tr>\n",
       "    <tr>\n",
       "      <th>2</th>\n",
       "      <td>47880.328</td>\n",
       "      <td>-9.0</td>\n",
       "    </tr>\n",
       "    <tr>\n",
       "      <th>3</th>\n",
       "      <td>47380.142</td>\n",
       "      <td>-9.0</td>\n",
       "    </tr>\n",
       "    <tr>\n",
       "      <th>4</th>\n",
       "      <td>47241.559</td>\n",
       "      <td>-9.1</td>\n",
       "    </tr>\n",
       "    <tr>\n",
       "      <th>...</th>\n",
       "      <td>...</td>\n",
       "      <td>...</td>\n",
       "    </tr>\n",
       "    <tr>\n",
       "      <th>43819</th>\n",
       "      <td>49258.613</td>\n",
       "      <td>-1.3</td>\n",
       "    </tr>\n",
       "    <tr>\n",
       "      <th>43820</th>\n",
       "      <td>47886.874</td>\n",
       "      <td>-1.5</td>\n",
       "    </tr>\n",
       "    <tr>\n",
       "      <th>43821</th>\n",
       "      <td>46582.286</td>\n",
       "      <td>-1.7</td>\n",
       "    </tr>\n",
       "    <tr>\n",
       "      <th>43822</th>\n",
       "      <td>45132.982</td>\n",
       "      <td>-2.1</td>\n",
       "    </tr>\n",
       "    <tr>\n",
       "      <th>43823</th>\n",
       "      <td>43501.529</td>\n",
       "      <td>-2.6</td>\n",
       "    </tr>\n",
       "  </tbody>\n",
       "</table>\n",
       "<p>43824 rows × 2 columns</p>\n",
       "</div>"
      ],
      "text/plain": [
       "       Load_WEST  Temp_WEST\n",
       "0      49769.768       -9.0\n",
       "1      48714.914       -9.0\n",
       "2      47880.328       -9.0\n",
       "3      47380.142       -9.0\n",
       "4      47241.559       -9.1\n",
       "...          ...        ...\n",
       "43819  49258.613       -1.3\n",
       "43820  47886.874       -1.5\n",
       "43821  46582.286       -1.7\n",
       "43822  45132.982       -2.1\n",
       "43823  43501.529       -2.6\n",
       "\n",
       "[43824 rows x 2 columns]"
      ]
     },
     "execution_count": 4,
     "metadata": {},
     "output_type": "execute_result"
    }
   ],
   "source": [
    "# Restricting the load data to a single zone\n",
    "fileName  = fileList[2]\n",
    "\n",
    "zoneData = pd.read_csv(os.path.join(path, fileName))\n",
    "zoneData.columns = [\"Load_\"+str(fileName[:-4]), \"Temp_\"+str(fileName[:-4])]\n",
    "\n",
    "# For fixing one missing row\n",
    "# zoneData = pd.concat([zoneData.loc[[0]], zoneData], axis= 0).reset_index(drop= True)\n",
    "\n",
    "zoneData"
   ]
  },
  {
   "cell_type": "markdown",
   "id": "01cec4bd",
   "metadata": {},
   "source": [
    "### FEATURE ENGINEERING AND SPLITTING INTO TRAIN-TEST SPLIT"
   ]
  },
  {
   "cell_type": "code",
   "execution_count": 5,
   "id": "a1e1e8a3",
   "metadata": {},
   "outputs": [],
   "source": [
    "def lagGenerator(dF, lagList):\n",
    "    dF_temp = dF.filter(regex= \"Load\").copy()\n",
    "    \n",
    "    for i in lagList:\n",
    "        dF_temp.loc[:, \"Lag-\" + str(i)] = dF_temp.iloc[:,[0]].shift(i*24)\n",
    "    \n",
    "    return(dF_temp.filter(regex= \"Lag\"))"
   ]
  },
  {
   "cell_type": "code",
   "execution_count": 6,
   "id": "159a2a82",
   "metadata": {},
   "outputs": [
    {
     "data": {
      "text/html": [
       "<div>\n",
       "<style scoped>\n",
       "    .dataframe tbody tr th:only-of-type {\n",
       "        vertical-align: middle;\n",
       "    }\n",
       "\n",
       "    .dataframe tbody tr th {\n",
       "        vertical-align: top;\n",
       "    }\n",
       "\n",
       "    .dataframe thead th {\n",
       "        text-align: right;\n",
       "    }\n",
       "</style>\n",
       "<table border=\"1\" class=\"dataframe\">\n",
       "  <thead>\n",
       "    <tr style=\"text-align: right;\">\n",
       "      <th></th>\n",
       "      <th>Lag-2</th>\n",
       "      <th>Lag-7</th>\n",
       "    </tr>\n",
       "  </thead>\n",
       "  <tbody>\n",
       "    <tr>\n",
       "      <th>0</th>\n",
       "      <td>NaN</td>\n",
       "      <td>NaN</td>\n",
       "    </tr>\n",
       "    <tr>\n",
       "      <th>1</th>\n",
       "      <td>NaN</td>\n",
       "      <td>NaN</td>\n",
       "    </tr>\n",
       "  </tbody>\n",
       "</table>\n",
       "</div>"
      ],
      "text/plain": [
       "   Lag-2  Lag-7\n",
       "0    NaN    NaN\n",
       "1    NaN    NaN"
      ]
     },
     "execution_count": 6,
     "metadata": {},
     "output_type": "execute_result"
    }
   ],
   "source": [
    "Load_lags = lagGenerator(dF=zoneData, lagList=[2,7])\n",
    "Load_lags.head(2)"
   ]
  },
  {
   "cell_type": "code",
   "execution_count": 7,
   "id": "05896954",
   "metadata": {},
   "outputs": [
    {
     "data": {
      "text/html": [
       "<div>\n",
       "<style scoped>\n",
       "    .dataframe tbody tr th:only-of-type {\n",
       "        vertical-align: middle;\n",
       "    }\n",
       "\n",
       "    .dataframe tbody tr th {\n",
       "        vertical-align: top;\n",
       "    }\n",
       "\n",
       "    .dataframe thead th {\n",
       "        text-align: right;\n",
       "    }\n",
       "</style>\n",
       "<table border=\"1\" class=\"dataframe\">\n",
       "  <thead>\n",
       "    <tr style=\"text-align: right;\">\n",
       "      <th></th>\n",
       "      <th>Load_WEST</th>\n",
       "      <th>Temp_WEST</th>\n",
       "      <th>Lag-2</th>\n",
       "      <th>Lag-7</th>\n",
       "    </tr>\n",
       "  </thead>\n",
       "  <tbody>\n",
       "    <tr>\n",
       "      <th>0</th>\n",
       "      <td>62703.510</td>\n",
       "      <td>-18.9</td>\n",
       "      <td>54253.358</td>\n",
       "      <td>49769.768</td>\n",
       "    </tr>\n",
       "    <tr>\n",
       "      <th>1</th>\n",
       "      <td>61831.479</td>\n",
       "      <td>-19.3</td>\n",
       "      <td>52894.746</td>\n",
       "      <td>48714.914</td>\n",
       "    </tr>\n",
       "    <tr>\n",
       "      <th>2</th>\n",
       "      <td>61662.224</td>\n",
       "      <td>-19.7</td>\n",
       "      <td>52217.360</td>\n",
       "      <td>47880.328</td>\n",
       "    </tr>\n",
       "    <tr>\n",
       "      <th>3</th>\n",
       "      <td>61596.448</td>\n",
       "      <td>-20.2</td>\n",
       "      <td>52040.692</td>\n",
       "      <td>47380.142</td>\n",
       "    </tr>\n",
       "    <tr>\n",
       "      <th>4</th>\n",
       "      <td>62540.295</td>\n",
       "      <td>-20.6</td>\n",
       "      <td>52576.307</td>\n",
       "      <td>47241.559</td>\n",
       "    </tr>\n",
       "    <tr>\n",
       "      <th>...</th>\n",
       "      <td>...</td>\n",
       "      <td>...</td>\n",
       "      <td>...</td>\n",
       "      <td>...</td>\n",
       "    </tr>\n",
       "    <tr>\n",
       "      <th>43651</th>\n",
       "      <td>49258.613</td>\n",
       "      <td>-1.3</td>\n",
       "      <td>42981.431</td>\n",
       "      <td>42521.702</td>\n",
       "    </tr>\n",
       "    <tr>\n",
       "      <th>43652</th>\n",
       "      <td>47886.874</td>\n",
       "      <td>-1.5</td>\n",
       "      <td>42260.559</td>\n",
       "      <td>42381.205</td>\n",
       "    </tr>\n",
       "    <tr>\n",
       "      <th>43653</th>\n",
       "      <td>46582.286</td>\n",
       "      <td>-1.7</td>\n",
       "      <td>41074.417</td>\n",
       "      <td>42197.353</td>\n",
       "    </tr>\n",
       "    <tr>\n",
       "      <th>43654</th>\n",
       "      <td>45132.982</td>\n",
       "      <td>-2.1</td>\n",
       "      <td>39600.208</td>\n",
       "      <td>41556.164</td>\n",
       "    </tr>\n",
       "    <tr>\n",
       "      <th>43655</th>\n",
       "      <td>43501.529</td>\n",
       "      <td>-2.6</td>\n",
       "      <td>37687.068</td>\n",
       "      <td>40399.011</td>\n",
       "    </tr>\n",
       "  </tbody>\n",
       "</table>\n",
       "<p>43656 rows × 4 columns</p>\n",
       "</div>"
      ],
      "text/plain": [
       "       Load_WEST  Temp_WEST      Lag-2      Lag-7\n",
       "0      62703.510      -18.9  54253.358  49769.768\n",
       "1      61831.479      -19.3  52894.746  48714.914\n",
       "2      61662.224      -19.7  52217.360  47880.328\n",
       "3      61596.448      -20.2  52040.692  47380.142\n",
       "4      62540.295      -20.6  52576.307  47241.559\n",
       "...          ...        ...        ...        ...\n",
       "43651  49258.613       -1.3  42981.431  42521.702\n",
       "43652  47886.874       -1.5  42260.559  42381.205\n",
       "43653  46582.286       -1.7  41074.417  42197.353\n",
       "43654  45132.982       -2.1  39600.208  41556.164\n",
       "43655  43501.529       -2.6  37687.068  40399.011\n",
       "\n",
       "[43656 rows x 4 columns]"
      ]
     },
     "execution_count": 7,
     "metadata": {},
     "output_type": "execute_result"
    }
   ],
   "source": [
    "dataDf = pd.concat([zoneData, Load_lags], axis= 1).dropna(axis= 0).reset_index(drop= True)\n",
    "dataDf"
   ]
  },
  {
   "cell_type": "code",
   "execution_count": 8,
   "id": "6ad25321",
   "metadata": {},
   "outputs": [],
   "source": [
    "# Setting the train-test split ratio\n",
    "ratio = 0.1"
   ]
  },
  {
   "cell_type": "code",
   "execution_count": 9,
   "id": "3c08d963",
   "metadata": {},
   "outputs": [],
   "source": [
    "Num_train, Num_test = int(len(dataDf)/24 * (1 - ratio)) * 24, int(len(dataDf)/24 * ratio) * 24"
   ]
  },
  {
   "cell_type": "code",
   "execution_count": 10,
   "id": "cbe069ff",
   "metadata": {},
   "outputs": [],
   "source": [
    "# Splitting the data into train and test\n",
    "data_train, data_test = dataDf[:Num_train], dataDf[Num_train:]"
   ]
  },
  {
   "cell_type": "code",
   "execution_count": 11,
   "id": "d84e15c4",
   "metadata": {},
   "outputs": [],
   "source": [
    "Num_train, Num_valid = int(len(data_train)/24 * (1 - ratio)) * 24, int(len(data_train)/24 * ratio) * 24"
   ]
  },
  {
   "cell_type": "code",
   "execution_count": 12,
   "id": "c17d1723",
   "metadata": {},
   "outputs": [],
   "source": [
    "# Splitting the data into train and test\n",
    "data_train, data_valid = data_train[:Num_train], data_train[Num_train:]"
   ]
  },
  {
   "cell_type": "markdown",
   "id": "88d32011",
   "metadata": {},
   "source": [
    "### SPLITTING INTO X AND Y PART WITH SEQUENCE BATCHING"
   ]
  },
  {
   "cell_type": "code",
   "execution_count": 13,
   "id": "4ba286ca",
   "metadata": {},
   "outputs": [],
   "source": [
    "X_train_df, Y_train_df = data_train.iloc[:, 1:], data_train.iloc[:, :1]\n",
    "\n",
    "X_valid_df, Y_valid_df = data_valid.iloc[:, 1:], data_valid.iloc[:, :1]\n",
    "\n",
    "X_test_df, Y_test_df = data_test.iloc[:, 1:], data_test.iloc[:, :1]"
   ]
  },
  {
   "cell_type": "code",
   "execution_count": 14,
   "id": "ef1d9079",
   "metadata": {},
   "outputs": [],
   "source": [
    "# Preparing the scaler\n",
    "ValScaler = MinMaxScaler()\n",
    "\n",
    "X_train = ValScaler.fit_transform(X_train_df)\n",
    "X_valid = ValScaler.transform(X_valid_df)\n",
    "X_test = ValScaler.transform(X_test_df)\n",
    "\n",
    "Y_train = ValScaler.fit_transform(Y_train_df)\n",
    "Y_valid = ValScaler.transform(Y_valid_df)\n",
    "Y_test = ValScaler.transform(Y_test_df)"
   ]
  },
  {
   "cell_type": "code",
   "execution_count": 15,
   "id": "43594401",
   "metadata": {},
   "outputs": [],
   "source": [
    "def splitData(dataset):\n",
    "    data = np.array(np.split(dataset, len(dataset)/24))\n",
    "    return data"
   ]
  },
  {
   "cell_type": "code",
   "execution_count": 16,
   "id": "300696b2",
   "metadata": {},
   "outputs": [],
   "source": [
    "def supervisedSet(X_part, Y_part, steps= 24):\n",
    "    X_array, Y_array = np.array(X_part), np.array(Y_part)\n",
    "    X, Y = [], []\n",
    "    \n",
    "    for i in range(len(X_array)):\n",
    "        endIdx = i + steps\n",
    "        \n",
    "        if endIdx > len(X_array):\n",
    "            break\n",
    "        \n",
    "        batch_X, batch_Y = X_array[i:endIdx], Y_array[i:endIdx]\n",
    "        \n",
    "        X.append(batch_X)\n",
    "        Y.append(batch_Y)\n",
    "        \n",
    "    return np.array(X), np.array(Y)"
   ]
  },
  {
   "cell_type": "code",
   "execution_count": 17,
   "id": "fc9cd97d",
   "metadata": {},
   "outputs": [],
   "source": [
    "X_train, Y_train = supervisedSet(X_train, Y_train)\n",
    "\n",
    "X_valid, Y_valid = splitData(X_valid), splitData(Y_valid)\n",
    "\n",
    "X_test, Y_test = splitData(X_test), splitData(Y_test)"
   ]
  },
  {
   "cell_type": "markdown",
   "id": "a2a6bf32",
   "metadata": {},
   "source": [
    "### WORKING ON THE MODEL"
   ]
  },
  {
   "cell_type": "code",
   "execution_count": 18,
   "id": "ff71a98c",
   "metadata": {},
   "outputs": [],
   "source": [
    "epochs = 100\n",
    "batchSize = 32"
   ]
  },
  {
   "cell_type": "code",
   "execution_count": 19,
   "id": "8d600c17",
   "metadata": {},
   "outputs": [],
   "source": [
    "# Encoder-decoder architecture [tanh required to use tensorflow on gpu]\n",
    "model = tf.keras.Sequential([\n",
    "    tf.keras.layers.LSTM(units= 128, activation= \"tanh\", input_shape= (X_train.shape[1], X_train.shape[2]), dropout= 0.2),\n",
    "    tf.keras.layers.RepeatVector(Y_train.shape[1]),\n",
    "    tf.keras.layers.LSTM(units= 128, activation= \"tanh\", return_sequences= True, dropout= 0.2),\n",
    "    tf.keras.layers.TimeDistributed(tf.keras.layers.Dense(units= 128, activation= \"relu\")),\n",
    "    tf.keras.layers.Dropout(0.2),\n",
    "    tf.keras.layers.TimeDistributed(tf.keras.layers.Dense(units= 1))\n",
    "])\n",
    "\n",
    "model.compile(loss= \"mse\", optimizer= \"adam\",  metrics= ['mape', 'mae'])"
   ]
  },
  {
   "cell_type": "code",
   "execution_count": 20,
   "id": "a05c033a",
   "metadata": {},
   "outputs": [],
   "source": [
    "# model = tf.keras.Sequential([\n",
    "#     tf.keras.layers.LSTM(units= 256, activation= \"tanh\", input_shape= (X_train.shape[1], X_train.shape[2])),\n",
    "#     tf.keras.layers.Dense(units= 128, activation= \"tanh\"),\n",
    "#     tf.keras.layers.Dense(units= 1)\n",
    "# ])\n",
    "\n",
    "# model.compile(loss= \"mse\", optimizer= \"adam\",  metrics= ['mape', 'mae'])"
   ]
  },
  {
   "cell_type": "code",
   "execution_count": 21,
   "id": "c9390383",
   "metadata": {},
   "outputs": [],
   "source": [
    "# Storing the start time of model fitting process\n",
    "startTime = time.time()"
   ]
  },
  {
   "cell_type": "code",
   "execution_count": 22,
   "id": "e526e3ed",
   "metadata": {},
   "outputs": [
    {
     "name": "stdout",
     "output_type": "stream",
     "text": [
      "Epoch 1/100\n",
      "1105/1105 [==============================] - 13s 8ms/step - loss: 0.0151 - mape: 8811.5957 - mae: 0.0953 - val_loss: 0.0090 - val_mape: 55.7136 - val_mae: 0.0739\n",
      "Epoch 2/100\n",
      "1105/1105 [==============================] - 8s 8ms/step - loss: 0.0104 - mape: 8053.8999 - mae: 0.0805 - val_loss: 0.0090 - val_mape: 59.0203 - val_mae: 0.0720\n",
      "Epoch 3/100\n",
      "1105/1105 [==============================] - 8s 7ms/step - loss: 0.0088 - mape: 7785.9922 - mae: 0.0740 - val_loss: 0.0144 - val_mape: 51.9056 - val_mae: 0.0884\n",
      "Epoch 4/100\n",
      "1105/1105 [==============================] - 8s 8ms/step - loss: 0.0079 - mape: 7450.9297 - mae: 0.0697 - val_loss: 0.0119 - val_mape: 48.1186 - val_mae: 0.0808\n",
      "Epoch 5/100\n",
      "1105/1105 [==============================] - 8s 7ms/step - loss: 0.0067 - mape: 7505.4287 - mae: 0.0634 - val_loss: 0.0150 - val_mape: 44.0552 - val_mae: 0.0942\n",
      "Epoch 6/100\n",
      "1105/1105 [==============================] - 8s 7ms/step - loss: 0.0060 - mape: 6708.6514 - mae: 0.0597 - val_loss: 0.0144 - val_mape: 35.3322 - val_mae: 0.0925\n",
      "Epoch 7/100\n",
      "1105/1105 [==============================] - 8s 7ms/step - loss: 0.0057 - mape: 6268.0786 - mae: 0.0577 - val_loss: 0.0089 - val_mape: 46.8717 - val_mae: 0.0697\n",
      "Epoch 8/100\n",
      "1105/1105 [==============================] - 8s 7ms/step - loss: 0.0055 - mape: 6208.9951 - mae: 0.0566 - val_loss: 0.0115 - val_mape: 39.0936 - val_mae: 0.0823\n",
      "Epoch 9/100\n",
      "1105/1105 [==============================] - 9s 8ms/step - loss: 0.0053 - mape: 6057.4814 - mae: 0.0556 - val_loss: 0.0088 - val_mape: 44.4487 - val_mae: 0.0695\n",
      "Epoch 10/100\n",
      "1105/1105 [==============================] - 9s 8ms/step - loss: 0.0051 - mape: 5955.1553 - mae: 0.0545 - val_loss: 0.0118 - val_mape: 40.3152 - val_mae: 0.0804\n",
      "Epoch 11/100\n",
      "1105/1105 [==============================] - 9s 8ms/step - loss: 0.0050 - mape: 5805.1304 - mae: 0.0541 - val_loss: 0.0100 - val_mape: 36.7038 - val_mae: 0.0739\n",
      "Epoch 12/100\n",
      "1105/1105 [==============================] - 9s 8ms/step - loss: 0.0049 - mape: 5659.5703 - mae: 0.0531 - val_loss: 0.0113 - val_mape: 39.4092 - val_mae: 0.0772\n",
      "Epoch 13/100\n",
      "1105/1105 [==============================] - 9s 8ms/step - loss: 0.0048 - mape: 5860.5840 - mae: 0.0527 - val_loss: 0.0099 - val_mape: 39.9325 - val_mae: 0.0731\n",
      "Epoch 14/100\n",
      "1105/1105 [==============================] - 9s 8ms/step - loss: 0.0047 - mape: 5505.3193 - mae: 0.0521 - val_loss: 0.0116 - val_mape: 38.7742 - val_mae: 0.0810\n",
      "Epoch 15/100\n",
      "1105/1105 [==============================] - 9s 8ms/step - loss: 0.0046 - mape: 5201.4897 - mae: 0.0515 - val_loss: 0.0106 - val_mape: 34.9711 - val_mae: 0.0777\n",
      "Epoch 16/100\n",
      "1105/1105 [==============================] - 9s 8ms/step - loss: 0.0045 - mape: 5567.7466 - mae: 0.0510 - val_loss: 0.0095 - val_mape: 40.2695 - val_mae: 0.0724\n",
      "Epoch 17/100\n",
      "1105/1105 [==============================] - 9s 8ms/step - loss: 0.0045 - mape: 5411.4180 - mae: 0.0510 - val_loss: 0.0122 - val_mape: 35.2905 - val_mae: 0.0807\n",
      "Epoch 18/100\n",
      "1105/1105 [==============================] - 9s 8ms/step - loss: 0.0044 - mape: 5179.4897 - mae: 0.0504 - val_loss: 0.0102 - val_mape: 37.6533 - val_mae: 0.0741\n",
      "Epoch 19/100\n",
      "1105/1105 [==============================] - 9s 8ms/step - loss: 0.0043 - mape: 5430.7412 - mae: 0.0498 - val_loss: 0.0099 - val_mape: 41.8589 - val_mae: 0.0734\n",
      "Epoch 20/100\n",
      "1105/1105 [==============================] - 9s 8ms/step - loss: 0.0044 - mape: 4867.1499 - mae: 0.0500 - val_loss: 0.0112 - val_mape: 41.0028 - val_mae: 0.0783\n",
      "Epoch 21/100\n",
      "1105/1105 [==============================] - 9s 8ms/step - loss: 0.0042 - mape: 5270.0454 - mae: 0.0493 - val_loss: 0.0101 - val_mape: 36.8560 - val_mae: 0.0730\n",
      "Epoch 22/100\n",
      "1105/1105 [==============================] - 8s 8ms/step - loss: 0.0041 - mape: 4941.9019 - mae: 0.0486 - val_loss: 0.0099 - val_mape: 37.3035 - val_mae: 0.0729\n",
      "Epoch 23/100\n",
      "1105/1105 [==============================] - 9s 8ms/step - loss: 0.0041 - mape: 4796.1636 - mae: 0.0483 - val_loss: 0.0110 - val_mape: 34.9675 - val_mae: 0.0778\n",
      "Epoch 24/100\n",
      "1105/1105 [==============================] - 9s 8ms/step - loss: 0.0040 - mape: 4622.1558 - mae: 0.0480 - val_loss: 0.0110 - val_mape: 33.4684 - val_mae: 0.0765\n",
      "Epoch 25/100\n",
      "1105/1105 [==============================] - 9s 9ms/step - loss: 0.0040 - mape: 4492.6045 - mae: 0.0477 - val_loss: 0.0100 - val_mape: 41.5090 - val_mae: 0.0753\n",
      "Epoch 26/100\n",
      "1105/1105 [==============================] - 9s 8ms/step - loss: 0.0040 - mape: 4582.7949 - mae: 0.0474 - val_loss: 0.0090 - val_mape: 43.7719 - val_mae: 0.0704\n",
      "Epoch 27/100\n",
      "1105/1105 [==============================] - 9s 8ms/step - loss: 0.0039 - mape: 3946.0322 - mae: 0.0470 - val_loss: 0.0093 - val_mape: 39.3265 - val_mae: 0.0720\n",
      "Epoch 28/100\n",
      "1105/1105 [==============================] - 9s 8ms/step - loss: 0.0039 - mape: 4193.6133 - mae: 0.0467 - val_loss: 0.0101 - val_mape: 39.2375 - val_mae: 0.0741\n",
      "Epoch 29/100\n",
      "1105/1105 [==============================] - 9s 8ms/step - loss: 0.0038 - mape: 3868.5237 - mae: 0.0463 - val_loss: 0.0092 - val_mape: 38.5634 - val_mae: 0.0695\n",
      "Epoch 30/100\n",
      "1105/1105 [==============================] - 8s 8ms/step - loss: 0.0038 - mape: 3700.2019 - mae: 0.0462 - val_loss: 0.0087 - val_mape: 41.1391 - val_mae: 0.0704\n",
      "Epoch 31/100\n",
      "1105/1105 [==============================] - 8s 8ms/step - loss: 0.0037 - mape: 3634.7026 - mae: 0.0458 - val_loss: 0.0100 - val_mape: 40.6652 - val_mae: 0.0724\n",
      "Epoch 32/100\n",
      "1105/1105 [==============================] - 9s 8ms/step - loss: 0.0037 - mape: 3847.3647 - mae: 0.0456 - val_loss: 0.0117 - val_mape: 38.6216 - val_mae: 0.0812\n",
      "Epoch 33/100\n",
      "1105/1105 [==============================] - 8s 8ms/step - loss: 0.0036 - mape: 3469.0376 - mae: 0.0452 - val_loss: 0.0118 - val_mape: 33.0895 - val_mae: 0.0826\n",
      "Epoch 34/100\n",
      "1105/1105 [==============================] - 9s 8ms/step - loss: 0.0036 - mape: 3318.7549 - mae: 0.0448 - val_loss: 0.0116 - val_mape: 36.8041 - val_mae: 0.0806\n",
      "Epoch 35/100\n",
      "1105/1105 [==============================] - 8s 8ms/step - loss: 0.0035 - mape: 3512.8120 - mae: 0.0445 - val_loss: 0.0102 - val_mape: 36.9451 - val_mae: 0.0761\n",
      "Epoch 36/100\n",
      "1105/1105 [==============================] - 8s 8ms/step - loss: 0.0035 - mape: 3754.6355 - mae: 0.0447 - val_loss: 0.0100 - val_mape: 37.4427 - val_mae: 0.0744\n",
      "Epoch 37/100\n",
      "1105/1105 [==============================] - 8s 8ms/step - loss: 0.0034 - mape: 3721.2192 - mae: 0.0438 - val_loss: 0.0107 - val_mape: 36.1833 - val_mae: 0.0755\n",
      "Epoch 38/100\n",
      "1105/1105 [==============================] - 8s 8ms/step - loss: 0.0034 - mape: 3658.8799 - mae: 0.0436 - val_loss: 0.0098 - val_mape: 39.4622 - val_mae: 0.0733\n",
      "Epoch 39/100\n",
      "1105/1105 [==============================] - 8s 8ms/step - loss: 0.0033 - mape: 3753.2400 - mae: 0.0431 - val_loss: 0.0117 - val_mape: 38.5644 - val_mae: 0.0807\n",
      "Epoch 40/100\n",
      "1105/1105 [==============================] - 8s 8ms/step - loss: 0.0033 - mape: 3568.9573 - mae: 0.0429 - val_loss: 0.0130 - val_mape: 39.7646 - val_mae: 0.0841\n",
      "Epoch 41/100\n",
      "1105/1105 [==============================] - 8s 8ms/step - loss: 0.0032 - mape: 3167.6304 - mae: 0.0425 - val_loss: 0.0101 - val_mape: 43.9958 - val_mae: 0.0734\n",
      "Epoch 42/100\n",
      "1105/1105 [==============================] - 8s 8ms/step - loss: 0.0032 - mape: 3082.3108 - mae: 0.0423 - val_loss: 0.0119 - val_mape: 39.2743 - val_mae: 0.0825\n",
      "Epoch 43/100\n",
      "1105/1105 [==============================] - 8s 7ms/step - loss: 0.0031 - mape: 3605.9897 - mae: 0.0419 - val_loss: 0.0098 - val_mape: 42.2263 - val_mae: 0.0731\n",
      "Epoch 44/100\n",
      "1105/1105 [==============================] - 8s 7ms/step - loss: 0.0031 - mape: 3349.6758 - mae: 0.0415 - val_loss: 0.0119 - val_mape: 42.0544 - val_mae: 0.0809\n",
      "Epoch 45/100\n",
      "1105/1105 [==============================] - 8s 7ms/step - loss: 0.0030 - mape: 3321.5693 - mae: 0.0412 - val_loss: 0.0116 - val_mape: 39.4799 - val_mae: 0.0798\n",
      "Epoch 46/100\n",
      "1105/1105 [==============================] - 8s 8ms/step - loss: 0.0030 - mape: 3312.8137 - mae: 0.0412 - val_loss: 0.0096 - val_mape: 41.1193 - val_mae: 0.0723\n",
      "Epoch 47/100\n",
      "1105/1105 [==============================] - 8s 7ms/step - loss: 0.0029 - mape: 3028.3225 - mae: 0.0405 - val_loss: 0.0101 - val_mape: 40.8143 - val_mae: 0.0736\n",
      "Epoch 48/100\n"
     ]
    },
    {
     "name": "stdout",
     "output_type": "stream",
     "text": [
      "1105/1105 [==============================] - 8s 7ms/step - loss: 0.0029 - mape: 2663.7139 - mae: 0.0401 - val_loss: 0.0115 - val_mape: 40.0431 - val_mae: 0.0802\n",
      "Epoch 49/100\n",
      "1105/1105 [==============================] - 8s 7ms/step - loss: 0.0028 - mape: 2918.9685 - mae: 0.0395 - val_loss: 0.0106 - val_mape: 45.1524 - val_mae: 0.0760\n",
      "Epoch 50/100\n",
      "1105/1105 [==============================] - 8s 7ms/step - loss: 0.0028 - mape: 2931.5557 - mae: 0.0397 - val_loss: 0.0108 - val_mape: 44.2042 - val_mae: 0.0755\n",
      "Epoch 51/100\n",
      "1105/1105 [==============================] - 8s 7ms/step - loss: 0.0029 - mape: 3237.8540 - mae: 0.0398 - val_loss: 0.0107 - val_mape: 40.5958 - val_mae: 0.0763\n",
      "Epoch 52/100\n",
      "1105/1105 [==============================] - 8s 7ms/step - loss: 0.0027 - mape: 3222.9441 - mae: 0.0390 - val_loss: 0.0104 - val_mape: 42.3981 - val_mae: 0.0741\n",
      "Epoch 53/100\n",
      "1105/1105 [==============================] - 8s 8ms/step - loss: 0.0027 - mape: 3400.0635 - mae: 0.0385 - val_loss: 0.0131 - val_mape: 38.8645 - val_mae: 0.0874\n",
      "Epoch 54/100\n",
      "1105/1105 [==============================] - 9s 8ms/step - loss: 0.0026 - mape: 2477.8433 - mae: 0.0379 - val_loss: 0.0100 - val_mape: 39.2795 - val_mae: 0.0747\n",
      "Epoch 55/100\n",
      "1105/1105 [==============================] - 10s 9ms/step - loss: 0.0025 - mape: 2723.9761 - mae: 0.0376 - val_loss: 0.0112 - val_mape: 46.4816 - val_mae: 0.0793\n",
      "Epoch 56/100\n",
      "1105/1105 [==============================] - 8s 7ms/step - loss: 0.0025 - mape: 2367.2126 - mae: 0.0374 - val_loss: 0.0113 - val_mape: 43.8770 - val_mae: 0.0809\n",
      "Epoch 57/100\n",
      "1105/1105 [==============================] - 8s 7ms/step - loss: 0.0025 - mape: 2556.7026 - mae: 0.0372 - val_loss: 0.0108 - val_mape: 40.8047 - val_mae: 0.0777\n",
      "Epoch 58/100\n",
      "1105/1105 [==============================] - 8s 7ms/step - loss: 0.0025 - mape: 2613.7046 - mae: 0.0371 - val_loss: 0.0113 - val_mape: 46.8806 - val_mae: 0.0774\n",
      "Epoch 59/100\n",
      "1105/1105 [==============================] - 8s 7ms/step - loss: 0.0024 - mape: 2989.9622 - mae: 0.0362 - val_loss: 0.0108 - val_mape: 44.8673 - val_mae: 0.0772\n",
      "Epoch 60/100\n",
      "1105/1105 [==============================] - 8s 7ms/step - loss: 0.0023 - mape: 2345.9089 - mae: 0.0360 - val_loss: 0.0103 - val_mape: 45.0079 - val_mae: 0.0742\n",
      "Epoch 61/100\n",
      "1105/1105 [==============================] - 8s 8ms/step - loss: 0.0023 - mape: 2563.2734 - mae: 0.0357 - val_loss: 0.0112 - val_mape: 39.5051 - val_mae: 0.0786\n",
      "Epoch 62/100\n",
      "1105/1105 [==============================] - 8s 7ms/step - loss: 0.0023 - mape: 2358.2085 - mae: 0.0354 - val_loss: 0.0107 - val_mape: 41.6192 - val_mae: 0.0761\n",
      "Epoch 63/100\n",
      "1105/1105 [==============================] - 8s 8ms/step - loss: 0.0022 - mape: 2219.1721 - mae: 0.0349 - val_loss: 0.0105 - val_mape: 44.2885 - val_mae: 0.0760\n",
      "Epoch 64/100\n",
      "1105/1105 [==============================] - 8s 7ms/step - loss: 0.0022 - mape: 2142.3499 - mae: 0.0347 - val_loss: 0.0100 - val_mape: 41.3748 - val_mae: 0.0728\n",
      "Epoch 65/100\n",
      "1105/1105 [==============================] - 8s 7ms/step - loss: 0.0021 - mape: 2623.4612 - mae: 0.0345 - val_loss: 0.0100 - val_mape: 41.5416 - val_mae: 0.0735\n",
      "Epoch 66/100\n",
      "1105/1105 [==============================] - 8s 7ms/step - loss: 0.0021 - mape: 1961.5139 - mae: 0.0340 - val_loss: 0.0106 - val_mape: 43.1044 - val_mae: 0.0747\n",
      "Epoch 67/100\n",
      "1105/1105 [==============================] - 8s 7ms/step - loss: 0.0021 - mape: 2601.9182 - mae: 0.0338 - val_loss: 0.0110 - val_mape: 44.3918 - val_mae: 0.0781\n",
      "Epoch 68/100\n",
      "1105/1105 [==============================] - 8s 7ms/step - loss: 0.0020 - mape: 2174.4395 - mae: 0.0335 - val_loss: 0.0118 - val_mape: 43.2782 - val_mae: 0.0813\n",
      "Epoch 69/100\n",
      "1105/1105 [==============================] - 8s 7ms/step - loss: 0.0020 - mape: 2179.9651 - mae: 0.0333 - val_loss: 0.0107 - val_mape: 43.8275 - val_mae: 0.0758\n",
      "Epoch 70/100\n",
      "1105/1105 [==============================] - 8s 8ms/step - loss: 0.0020 - mape: 2076.2864 - mae: 0.0330 - val_loss: 0.0117 - val_mape: 43.5158 - val_mae: 0.0792\n",
      "Epoch 71/100\n",
      "1105/1105 [==============================] - 8s 7ms/step - loss: 0.0020 - mape: 2464.2942 - mae: 0.0331 - val_loss: 0.0106 - val_mape: 39.2976 - val_mae: 0.0751\n",
      "Epoch 72/100\n",
      "1105/1105 [==============================] - 8s 7ms/step - loss: 0.0019 - mape: 2300.6572 - mae: 0.0325 - val_loss: 0.0104 - val_mape: 43.1781 - val_mae: 0.0749\n",
      "Epoch 73/100\n",
      "1105/1105 [==============================] - 8s 7ms/step - loss: 0.0019 - mape: 2319.9160 - mae: 0.0324 - val_loss: 0.0100 - val_mape: 44.6831 - val_mae: 0.0738\n",
      "Epoch 74/100\n",
      "1105/1105 [==============================] - 8s 8ms/step - loss: 0.0019 - mape: 2324.8750 - mae: 0.0323 - val_loss: 0.0109 - val_mape: 40.1605 - val_mae: 0.0775\n",
      "Epoch 75/100\n",
      "1105/1105 [==============================] - 8s 7ms/step - loss: 0.0018 - mape: 1986.7616 - mae: 0.0317 - val_loss: 0.0098 - val_mape: 40.3041 - val_mae: 0.0713\n",
      "Epoch 76/100\n",
      "1105/1105 [==============================] - 8s 8ms/step - loss: 0.0018 - mape: 1998.0958 - mae: 0.0317 - val_loss: 0.0106 - val_mape: 42.2114 - val_mae: 0.0747\n",
      "Epoch 77/100\n",
      "1105/1105 [==============================] - 8s 7ms/step - loss: 0.0018 - mape: 2287.4800 - mae: 0.0317 - val_loss: 0.0107 - val_mape: 40.3161 - val_mae: 0.0761\n",
      "Epoch 78/100\n",
      "1105/1105 [==============================] - 8s 8ms/step - loss: 0.0017 - mape: 2135.0566 - mae: 0.0311 - val_loss: 0.0092 - val_mape: 41.8583 - val_mae: 0.0702\n",
      "Epoch 79/100\n",
      "1105/1105 [==============================] - 8s 7ms/step - loss: 0.0017 - mape: 2290.4951 - mae: 0.0309 - val_loss: 0.0100 - val_mape: 41.2976 - val_mae: 0.0748\n",
      "Epoch 80/100\n",
      "1105/1105 [==============================] - 8s 7ms/step - loss: 0.0017 - mape: 1693.3728 - mae: 0.0306 - val_loss: 0.0114 - val_mape: 39.4196 - val_mae: 0.0802\n",
      "Epoch 81/100\n",
      "1105/1105 [==============================] - 8s 7ms/step - loss: 0.0017 - mape: 1668.7007 - mae: 0.0305 - val_loss: 0.0098 - val_mape: 42.2228 - val_mae: 0.0726\n",
      "Epoch 82/100\n",
      "1105/1105 [==============================] - 8s 7ms/step - loss: 0.0017 - mape: 2122.0483 - mae: 0.0305 - val_loss: 0.0102 - val_mape: 38.4612 - val_mae: 0.0737\n",
      "Epoch 83/100\n",
      "1105/1105 [==============================] - 8s 7ms/step - loss: 0.0016 - mape: 2333.9709 - mae: 0.0301 - val_loss: 0.0100 - val_mape: 42.6002 - val_mae: 0.0736\n",
      "Epoch 84/100\n",
      "1105/1105 [==============================] - 8s 7ms/step - loss: 0.0016 - mape: 2125.1172 - mae: 0.0299 - val_loss: 0.0098 - val_mape: 39.8874 - val_mae: 0.0721\n",
      "Epoch 85/100\n",
      "1105/1105 [==============================] - 8s 8ms/step - loss: 0.0016 - mape: 2186.7200 - mae: 0.0297 - val_loss: 0.0101 - val_mape: 43.0711 - val_mae: 0.0751\n",
      "Epoch 86/100\n",
      "1105/1105 [==============================] - 8s 7ms/step - loss: 0.0016 - mape: 2103.9468 - mae: 0.0296 - val_loss: 0.0105 - val_mape: 39.5664 - val_mae: 0.0755\n",
      "Epoch 87/100\n",
      "1105/1105 [==============================] - 8s 7ms/step - loss: 0.0016 - mape: 2092.6841 - mae: 0.0294 - val_loss: 0.0105 - val_mape: 43.6532 - val_mae: 0.0751\n",
      "Epoch 88/100\n",
      "1105/1105 [==============================] - 8s 7ms/step - loss: 0.0015 - mape: 1854.8351 - mae: 0.0292 - val_loss: 0.0108 - val_mape: 39.7122 - val_mae: 0.0763\n",
      "Epoch 89/100\n",
      "1105/1105 [==============================] - 8s 7ms/step - loss: 0.0015 - mape: 1852.5291 - mae: 0.0290 - val_loss: 0.0104 - val_mape: 39.2080 - val_mae: 0.0749\n",
      "Epoch 90/100\n",
      "1105/1105 [==============================] - 8s 8ms/step - loss: 0.0015 - mape: 1938.5201 - mae: 0.0290 - val_loss: 0.0101 - val_mape: 44.3153 - val_mae: 0.0741\n",
      "Epoch 91/100\n",
      "1105/1105 [==============================] - 8s 8ms/step - loss: 0.0015 - mape: 1944.4849 - mae: 0.0285 - val_loss: 0.0096 - val_mape: 39.7928 - val_mae: 0.0718\n",
      "Epoch 92/100\n",
      "1105/1105 [==============================] - 8s 8ms/step - loss: 0.0015 - mape: 2057.4919 - mae: 0.0287 - val_loss: 0.0106 - val_mape: 41.3590 - val_mae: 0.0767\n",
      "Epoch 93/100\n",
      "1105/1105 [==============================] - 8s 7ms/step - loss: 0.0015 - mape: 2217.5664 - mae: 0.0284 - val_loss: 0.0105 - val_mape: 39.8637 - val_mae: 0.0759\n",
      "Epoch 94/100\n",
      "1105/1105 [==============================] - 8s 8ms/step - loss: 0.0014 - mape: 1854.1012 - mae: 0.0282 - val_loss: 0.0098 - val_mape: 38.3473 - val_mae: 0.0728\n",
      "Epoch 95/100\n"
     ]
    },
    {
     "name": "stdout",
     "output_type": "stream",
     "text": [
      "1105/1105 [==============================] - 8s 7ms/step - loss: 0.0014 - mape: 1714.3585 - mae: 0.0281 - val_loss: 0.0112 - val_mape: 34.8071 - val_mae: 0.0786\n",
      "Epoch 96/100\n",
      "1105/1105 [==============================] - 8s 7ms/step - loss: 0.0014 - mape: 1704.9021 - mae: 0.0283 - val_loss: 0.0101 - val_mape: 39.9337 - val_mae: 0.0754\n",
      "Epoch 97/100\n",
      "1105/1105 [==============================] - 8s 7ms/step - loss: 0.0014 - mape: 1849.0828 - mae: 0.0278 - val_loss: 0.0096 - val_mape: 38.9591 - val_mae: 0.0727\n",
      "Epoch 98/100\n",
      "1105/1105 [==============================] - 8s 7ms/step - loss: 0.0014 - mape: 1695.7852 - mae: 0.0275 - val_loss: 0.0098 - val_mape: 37.6183 - val_mae: 0.0736\n",
      "Epoch 99/100\n",
      "1105/1105 [==============================] - 8s 7ms/step - loss: 0.0014 - mape: 1544.8610 - mae: 0.0276 - val_loss: 0.0102 - val_mape: 41.7748 - val_mae: 0.0752\n",
      "Epoch 100/100\n",
      "1105/1105 [==============================] - 8s 7ms/step - loss: 0.0014 - mape: 1883.9821 - mae: 0.0274 - val_loss: 0.0088 - val_mape: 39.1946 - val_mae: 0.0694\n"
     ]
    },
    {
     "data": {
      "text/plain": [
       "<keras.callbacks.History at 0x23b948f6a30>"
      ]
     },
     "execution_count": 22,
     "metadata": {},
     "output_type": "execute_result"
    }
   ],
   "source": [
    "model.fit(X_train, Y_train, epochs= epochs, batch_size= batchSize, verbose= 1, shuffle= True, validation_data= (X_valid, Y_valid))"
   ]
  },
  {
   "cell_type": "code",
   "execution_count": 23,
   "id": "cd839153",
   "metadata": {},
   "outputs": [
    {
     "name": "stdout",
     "output_type": "stream",
     "text": [
      "Total execution time in seconds: 848.1717329025269\n"
     ]
    }
   ],
   "source": [
    "calcExecTime = (time.time() - startTime)\n",
    "print('Total execution time in seconds: ' + str(calcExecTime))"
   ]
  },
  {
   "cell_type": "markdown",
   "id": "72aafa74",
   "metadata": {},
   "source": [
    "### MAKING PREDICTIONS AND GENERATING RESULTS"
   ]
  },
  {
   "cell_type": "code",
   "execution_count": 24,
   "id": "259bfb49",
   "metadata": {},
   "outputs": [
    {
     "name": "stdout",
     "output_type": "stream",
     "text": [
      "6/6 [==============================] - 1s 6ms/step\n"
     ]
    }
   ],
   "source": [
    "predictions = model.predict(X_test)"
   ]
  },
  {
   "cell_type": "code",
   "execution_count": 25,
   "id": "2912d431",
   "metadata": {},
   "outputs": [
    {
     "data": {
      "text/plain": [
       "array([0.3396658 , 0.27962273, 0.25314546, ..., 0.39647773, 0.37566495,\n",
       "       0.34374663], dtype=float32)"
      ]
     },
     "execution_count": 25,
     "metadata": {},
     "output_type": "execute_result"
    }
   ],
   "source": [
    "predArr = predictions.reshape(predictions.shape[0] * predictions.shape[1], predictions.shape[2]).ravel()\n",
    "predArr"
   ]
  },
  {
   "cell_type": "code",
   "execution_count": 26,
   "id": "b01889f2",
   "metadata": {},
   "outputs": [
    {
     "data": {
      "text/plain": [
       "array([0.48882585, 0.43512496, 0.39838085, ..., 0.4469962 , 0.41965907,\n",
       "       0.3888862 ])"
      ]
     },
     "execution_count": 26,
     "metadata": {},
     "output_type": "execute_result"
    }
   ],
   "source": [
    "Y_testArr = Y_test.reshape(Y_test.shape[0] * Y_test.shape[1], Y_test.shape[2]).ravel()\n",
    "Y_testArr"
   ]
  },
  {
   "cell_type": "code",
   "execution_count": 27,
   "id": "799c97e8",
   "metadata": {},
   "outputs": [],
   "source": [
    "def inverse_transform(df):\n",
    "    column_names = df.columns\n",
    "    for col in column_names:\n",
    "        df[col] = ValScaler.inverse_transform(df[[col]]) \n",
    "    return df"
   ]
  },
  {
   "cell_type": "code",
   "execution_count": 28,
   "id": "afa81e30",
   "metadata": {},
   "outputs": [
    {
     "data": {
      "text/html": [
       "<div>\n",
       "<style scoped>\n",
       "    .dataframe tbody tr th:only-of-type {\n",
       "        vertical-align: middle;\n",
       "    }\n",
       "\n",
       "    .dataframe tbody tr th {\n",
       "        vertical-align: top;\n",
       "    }\n",
       "\n",
       "    .dataframe thead th {\n",
       "        text-align: right;\n",
       "    }\n",
       "</style>\n",
       "<table border=\"1\" class=\"dataframe\">\n",
       "  <thead>\n",
       "    <tr style=\"text-align: right;\">\n",
       "      <th></th>\n",
       "      <th>Values</th>\n",
       "      <th>Predictions</th>\n",
       "    </tr>\n",
       "  </thead>\n",
       "  <tbody>\n",
       "    <tr>\n",
       "      <th>0</th>\n",
       "      <td>48799.925</td>\n",
       "      <td>40892.062500</td>\n",
       "    </tr>\n",
       "    <tr>\n",
       "      <th>1</th>\n",
       "      <td>45952.921</td>\n",
       "      <td>37708.820312</td>\n",
       "    </tr>\n",
       "    <tr>\n",
       "      <th>2</th>\n",
       "      <td>44004.897</td>\n",
       "      <td>36305.101562</td>\n",
       "    </tr>\n",
       "    <tr>\n",
       "      <th>3</th>\n",
       "      <td>42769.465</td>\n",
       "      <td>35463.937500</td>\n",
       "    </tr>\n",
       "    <tr>\n",
       "      <th>4</th>\n",
       "      <td>42277.236</td>\n",
       "      <td>35267.750000</td>\n",
       "    </tr>\n",
       "    <tr>\n",
       "      <th>...</th>\n",
       "      <td>...</td>\n",
       "      <td>...</td>\n",
       "    </tr>\n",
       "    <tr>\n",
       "      <th>4363</th>\n",
       "      <td>49258.613</td>\n",
       "      <td>43472.480469</td>\n",
       "    </tr>\n",
       "    <tr>\n",
       "      <th>4364</th>\n",
       "      <td>47886.874</td>\n",
       "      <td>44075.800781</td>\n",
       "    </tr>\n",
       "    <tr>\n",
       "      <th>4365</th>\n",
       "      <td>46582.286</td>\n",
       "      <td>43904.000000</td>\n",
       "    </tr>\n",
       "    <tr>\n",
       "      <th>4366</th>\n",
       "      <td>45132.982</td>\n",
       "      <td>42800.589844</td>\n",
       "    </tr>\n",
       "    <tr>\n",
       "      <th>4367</th>\n",
       "      <td>43501.529</td>\n",
       "      <td>41108.414062</td>\n",
       "    </tr>\n",
       "  </tbody>\n",
       "</table>\n",
       "<p>4368 rows × 2 columns</p>\n",
       "</div>"
      ],
      "text/plain": [
       "         Values   Predictions\n",
       "0     48799.925  40892.062500\n",
       "1     45952.921  37708.820312\n",
       "2     44004.897  36305.101562\n",
       "3     42769.465  35463.937500\n",
       "4     42277.236  35267.750000\n",
       "...         ...           ...\n",
       "4363  49258.613  43472.480469\n",
       "4364  47886.874  44075.800781\n",
       "4365  46582.286  43904.000000\n",
       "4366  45132.982  42800.589844\n",
       "4367  43501.529  41108.414062\n",
       "\n",
       "[4368 rows x 2 columns]"
      ]
     },
     "execution_count": 28,
     "metadata": {},
     "output_type": "execute_result"
    }
   ],
   "source": [
    "comparisionDf = pd.DataFrame(data= {\"Values\": Y_testArr, \"Predictions\": predArr})\n",
    "comparisionDf = inverse_transform(comparisionDf)\n",
    "comparisionDf"
   ]
  },
  {
   "cell_type": "code",
   "execution_count": 29,
   "id": "88222bae",
   "metadata": {},
   "outputs": [
    {
     "data": {
      "text/plain": [
       "7.312563839099784"
      ]
     },
     "execution_count": 29,
     "metadata": {},
     "output_type": "execute_result"
    }
   ],
   "source": [
    "mape(comparisionDf[\"Values\"], comparisionDf[\"Predictions\"])"
   ]
  }
 ],
 "metadata": {
  "kernelspec": {
   "display_name": "Python 3 (ipykernel)",
   "language": "python",
   "name": "python3"
  },
  "language_info": {
   "codemirror_mode": {
    "name": "ipython",
    "version": 3
   },
   "file_extension": ".py",
   "mimetype": "text/x-python",
   "name": "python",
   "nbconvert_exporter": "python",
   "pygments_lexer": "ipython3",
   "version": "3.9.12"
  }
 },
 "nbformat": 4,
 "nbformat_minor": 5
}
