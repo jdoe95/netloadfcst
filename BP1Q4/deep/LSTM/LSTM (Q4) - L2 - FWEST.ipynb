{
 "cells": [
  {
   "cell_type": "code",
   "execution_count": 1,
   "id": "5f61b29f",
   "metadata": {},
   "outputs": [
    {
     "name": "stdout",
     "output_type": "stream",
     "text": [
      "Num GPUs Available:  1\n"
     ]
    }
   ],
   "source": [
    "import pandas as pd\n",
    "import numpy as np\n",
    "import os\n",
    "import matplotlib.pyplot as plt\n",
    "from datetime import datetime\n",
    "from sklearn.preprocessing import MinMaxScaler, RobustScaler, StandardScaler\n",
    "import time\n",
    "\n",
    "import tensorflow as tf\n",
    "tf.random.set_seed(42)\n",
    "\n",
    "def mape(y_true, y_pred):\n",
    "    y_true, y_pred = np.array(y_true), np.array(y_pred)\n",
    "    return np.mean(np.abs((y_true - y_pred) / max(y_true))) * 100\n",
    "\n",
    "def RMSELoss(yhat,y):\n",
    "    return torch.sqrt(torch.mean((yhat-y)**2))\n",
    "\n",
    "print(\"Num GPUs Available: \", len(tf.config.list_physical_devices('GPU')))"
   ]
  },
  {
   "cell_type": "code",
   "execution_count": 2,
   "id": "cea0abe2",
   "metadata": {},
   "outputs": [
    {
     "name": "stdout",
     "output_type": "stream",
     "text": [
      "['COAST.csv', 'EAST.csv', 'FWEST.csv', 'NCENT.csv', 'NORTH.csv', 'SCENT.csv', 'SOUTH.csv', 'WEST.csv']\n"
     ]
    }
   ],
   "source": [
    "# Specifying the path of file\n",
    "path= r\"C:\\Users\\sashah8\\OneDrive - North Carolina State University\\Desktop\\Q4\\Data\\L2\\data_cleaned\"\n",
    "\n",
    "# Listing just the required files\n",
    "fileList = os.listdir(path)\n",
    "fileList.remove(\"Date.csv\")\n",
    "\n",
    "# Previewing the required file names\n",
    "print(fileList)"
   ]
  },
  {
   "cell_type": "code",
   "execution_count": 3,
   "id": "a6fe9396",
   "metadata": {},
   "outputs": [
    {
     "data": {
      "text/html": [
       "<div>\n",
       "<style scoped>\n",
       "    .dataframe tbody tr th:only-of-type {\n",
       "        vertical-align: middle;\n",
       "    }\n",
       "\n",
       "    .dataframe tbody tr th {\n",
       "        vertical-align: top;\n",
       "    }\n",
       "\n",
       "    .dataframe thead th {\n",
       "        text-align: right;\n",
       "    }\n",
       "</style>\n",
       "<table border=\"1\" class=\"dataframe\">\n",
       "  <thead>\n",
       "    <tr style=\"text-align: right;\">\n",
       "      <th></th>\n",
       "      <th>Net</th>\n",
       "      <th>Temprature</th>\n",
       "    </tr>\n",
       "  </thead>\n",
       "  <tbody>\n",
       "    <tr>\n",
       "      <th>0</th>\n",
       "      <td>2078.060021</td>\n",
       "      <td>-5.9</td>\n",
       "    </tr>\n",
       "    <tr>\n",
       "      <th>1</th>\n",
       "      <td>2057.993265</td>\n",
       "      <td>-5.8</td>\n",
       "    </tr>\n",
       "    <tr>\n",
       "      <th>2</th>\n",
       "      <td>2039.019542</td>\n",
       "      <td>-5.8</td>\n",
       "    </tr>\n",
       "    <tr>\n",
       "      <th>3</th>\n",
       "      <td>2027.431312</td>\n",
       "      <td>-5.7</td>\n",
       "    </tr>\n",
       "    <tr>\n",
       "      <th>4</th>\n",
       "      <td>2026.809889</td>\n",
       "      <td>-5.7</td>\n",
       "    </tr>\n",
       "    <tr>\n",
       "      <th>...</th>\n",
       "      <td>...</td>\n",
       "      <td>...</td>\n",
       "    </tr>\n",
       "    <tr>\n",
       "      <th>43818</th>\n",
       "      <td>3637.456602</td>\n",
       "      <td>11.7</td>\n",
       "    </tr>\n",
       "    <tr>\n",
       "      <th>43819</th>\n",
       "      <td>3639.019312</td>\n",
       "      <td>12.3</td>\n",
       "    </tr>\n",
       "    <tr>\n",
       "      <th>43820</th>\n",
       "      <td>3639.463899</td>\n",
       "      <td>13.3</td>\n",
       "    </tr>\n",
       "    <tr>\n",
       "      <th>43821</th>\n",
       "      <td>3630.184859</td>\n",
       "      <td>13.2</td>\n",
       "    </tr>\n",
       "    <tr>\n",
       "      <th>43822</th>\n",
       "      <td>3628.068853</td>\n",
       "      <td>11.4</td>\n",
       "    </tr>\n",
       "  </tbody>\n",
       "</table>\n",
       "<p>43823 rows × 2 columns</p>\n",
       "</div>"
      ],
      "text/plain": [
       "               Net  Temprature\n",
       "0      2078.060021        -5.9\n",
       "1      2057.993265        -5.8\n",
       "2      2039.019542        -5.8\n",
       "3      2027.431312        -5.7\n",
       "4      2026.809889        -5.7\n",
       "...            ...         ...\n",
       "43818  3637.456602        11.7\n",
       "43819  3639.019312        12.3\n",
       "43820  3639.463899        13.3\n",
       "43821  3630.184859        13.2\n",
       "43822  3628.068853        11.4\n",
       "\n",
       "[43823 rows x 2 columns]"
      ]
     },
     "execution_count": 3,
     "metadata": {},
     "output_type": "execute_result"
    }
   ],
   "source": [
    "# Just for previewing the columns\n",
    "pd.read_csv(os.path.join(path, fileList[2]))"
   ]
  },
  {
   "cell_type": "markdown",
   "id": "9ad4906c",
   "metadata": {
    "pycharm": {
     "name": "#%% md\n"
    }
   },
   "source": [
    "### PROCESSING THE DATA"
   ]
  },
  {
   "cell_type": "code",
   "execution_count": 4,
   "id": "f29f6db2",
   "metadata": {},
   "outputs": [
    {
     "data": {
      "text/html": [
       "<div>\n",
       "<style scoped>\n",
       "    .dataframe tbody tr th:only-of-type {\n",
       "        vertical-align: middle;\n",
       "    }\n",
       "\n",
       "    .dataframe tbody tr th {\n",
       "        vertical-align: top;\n",
       "    }\n",
       "\n",
       "    .dataframe thead th {\n",
       "        text-align: right;\n",
       "    }\n",
       "</style>\n",
       "<table border=\"1\" class=\"dataframe\">\n",
       "  <thead>\n",
       "    <tr style=\"text-align: right;\">\n",
       "      <th></th>\n",
       "      <th>Load_FWEST</th>\n",
       "      <th>Temp_FWEST</th>\n",
       "    </tr>\n",
       "  </thead>\n",
       "  <tbody>\n",
       "    <tr>\n",
       "      <th>0</th>\n",
       "      <td>2078.060021</td>\n",
       "      <td>-5.9</td>\n",
       "    </tr>\n",
       "    <tr>\n",
       "      <th>1</th>\n",
       "      <td>2078.060021</td>\n",
       "      <td>-5.9</td>\n",
       "    </tr>\n",
       "    <tr>\n",
       "      <th>2</th>\n",
       "      <td>2057.993265</td>\n",
       "      <td>-5.8</td>\n",
       "    </tr>\n",
       "    <tr>\n",
       "      <th>3</th>\n",
       "      <td>2039.019542</td>\n",
       "      <td>-5.8</td>\n",
       "    </tr>\n",
       "    <tr>\n",
       "      <th>4</th>\n",
       "      <td>2027.431312</td>\n",
       "      <td>-5.7</td>\n",
       "    </tr>\n",
       "    <tr>\n",
       "      <th>...</th>\n",
       "      <td>...</td>\n",
       "      <td>...</td>\n",
       "    </tr>\n",
       "    <tr>\n",
       "      <th>43819</th>\n",
       "      <td>3637.456602</td>\n",
       "      <td>11.7</td>\n",
       "    </tr>\n",
       "    <tr>\n",
       "      <th>43820</th>\n",
       "      <td>3639.019312</td>\n",
       "      <td>12.3</td>\n",
       "    </tr>\n",
       "    <tr>\n",
       "      <th>43821</th>\n",
       "      <td>3639.463899</td>\n",
       "      <td>13.3</td>\n",
       "    </tr>\n",
       "    <tr>\n",
       "      <th>43822</th>\n",
       "      <td>3630.184859</td>\n",
       "      <td>13.2</td>\n",
       "    </tr>\n",
       "    <tr>\n",
       "      <th>43823</th>\n",
       "      <td>3628.068853</td>\n",
       "      <td>11.4</td>\n",
       "    </tr>\n",
       "  </tbody>\n",
       "</table>\n",
       "<p>43824 rows × 2 columns</p>\n",
       "</div>"
      ],
      "text/plain": [
       "        Load_FWEST  Temp_FWEST\n",
       "0      2078.060021        -5.9\n",
       "1      2078.060021        -5.9\n",
       "2      2057.993265        -5.8\n",
       "3      2039.019542        -5.8\n",
       "4      2027.431312        -5.7\n",
       "...            ...         ...\n",
       "43819  3637.456602        11.7\n",
       "43820  3639.019312        12.3\n",
       "43821  3639.463899        13.3\n",
       "43822  3630.184859        13.2\n",
       "43823  3628.068853        11.4\n",
       "\n",
       "[43824 rows x 2 columns]"
      ]
     },
     "execution_count": 4,
     "metadata": {},
     "output_type": "execute_result"
    }
   ],
   "source": [
    "# Restricting the load data to a single zone\n",
    "fileName  = fileList[2]\n",
    "\n",
    "zoneData = pd.read_csv(os.path.join(path, fileName))\n",
    "zoneData.columns = [\"Load_\"+str(fileName[:-4]), \"Temp_\"+str(fileName[:-4])]\n",
    "\n",
    "# For fixing one missing row\n",
    "zoneData = pd.concat([zoneData.loc[[0]], zoneData], axis= 0).reset_index(drop= True)\n",
    "\n",
    "zoneData"
   ]
  },
  {
   "cell_type": "markdown",
   "id": "01cec4bd",
   "metadata": {},
   "source": [
    "### FEATURE ENGINEERING AND SPLITTING INTO TRAIN-TEST SPLIT"
   ]
  },
  {
   "cell_type": "code",
   "execution_count": 5,
   "id": "a1e1e8a3",
   "metadata": {},
   "outputs": [],
   "source": [
    "def lagGenerator(dF, lagList):\n",
    "    dF_temp = dF.filter(regex= \"Load\").copy()\n",
    "    \n",
    "    for i in lagList:\n",
    "        dF_temp.loc[:, \"Lag-\" + str(i)] = dF_temp.iloc[:,[0]].shift(i*24)\n",
    "    \n",
    "    return(dF_temp.filter(regex= \"Lag\"))"
   ]
  },
  {
   "cell_type": "code",
   "execution_count": 6,
   "id": "159a2a82",
   "metadata": {},
   "outputs": [
    {
     "data": {
      "text/html": [
       "<div>\n",
       "<style scoped>\n",
       "    .dataframe tbody tr th:only-of-type {\n",
       "        vertical-align: middle;\n",
       "    }\n",
       "\n",
       "    .dataframe tbody tr th {\n",
       "        vertical-align: top;\n",
       "    }\n",
       "\n",
       "    .dataframe thead th {\n",
       "        text-align: right;\n",
       "    }\n",
       "</style>\n",
       "<table border=\"1\" class=\"dataframe\">\n",
       "  <thead>\n",
       "    <tr style=\"text-align: right;\">\n",
       "      <th></th>\n",
       "      <th>Lag-2</th>\n",
       "      <th>Lag-7</th>\n",
       "    </tr>\n",
       "  </thead>\n",
       "  <tbody>\n",
       "    <tr>\n",
       "      <th>0</th>\n",
       "      <td>NaN</td>\n",
       "      <td>NaN</td>\n",
       "    </tr>\n",
       "    <tr>\n",
       "      <th>1</th>\n",
       "      <td>NaN</td>\n",
       "      <td>NaN</td>\n",
       "    </tr>\n",
       "  </tbody>\n",
       "</table>\n",
       "</div>"
      ],
      "text/plain": [
       "   Lag-2  Lag-7\n",
       "0    NaN    NaN\n",
       "1    NaN    NaN"
      ]
     },
     "execution_count": 6,
     "metadata": {},
     "output_type": "execute_result"
    }
   ],
   "source": [
    "Load_lags = lagGenerator(dF=zoneData, lagList=[2,7])\n",
    "Load_lags.head(2)"
   ]
  },
  {
   "cell_type": "code",
   "execution_count": 7,
   "id": "05896954",
   "metadata": {},
   "outputs": [
    {
     "data": {
      "text/html": [
       "<div>\n",
       "<style scoped>\n",
       "    .dataframe tbody tr th:only-of-type {\n",
       "        vertical-align: middle;\n",
       "    }\n",
       "\n",
       "    .dataframe tbody tr th {\n",
       "        vertical-align: top;\n",
       "    }\n",
       "\n",
       "    .dataframe thead th {\n",
       "        text-align: right;\n",
       "    }\n",
       "</style>\n",
       "<table border=\"1\" class=\"dataframe\">\n",
       "  <thead>\n",
       "    <tr style=\"text-align: right;\">\n",
       "      <th></th>\n",
       "      <th>Load_FWEST</th>\n",
       "      <th>Temp_FWEST</th>\n",
       "      <th>Lag-2</th>\n",
       "      <th>Lag-7</th>\n",
       "    </tr>\n",
       "  </thead>\n",
       "  <tbody>\n",
       "    <tr>\n",
       "      <th>0</th>\n",
       "      <td>2131.053000</td>\n",
       "      <td>-2.3</td>\n",
       "      <td>1716.526120</td>\n",
       "      <td>2078.060021</td>\n",
       "    </tr>\n",
       "    <tr>\n",
       "      <th>1</th>\n",
       "      <td>2080.378240</td>\n",
       "      <td>-2.2</td>\n",
       "      <td>1685.924215</td>\n",
       "      <td>2078.060021</td>\n",
       "    </tr>\n",
       "    <tr>\n",
       "      <th>2</th>\n",
       "      <td>2066.741680</td>\n",
       "      <td>-2.3</td>\n",
       "      <td>1682.241812</td>\n",
       "      <td>2057.993265</td>\n",
       "    </tr>\n",
       "    <tr>\n",
       "      <th>3</th>\n",
       "      <td>2064.296987</td>\n",
       "      <td>-2.6</td>\n",
       "      <td>1688.457529</td>\n",
       "      <td>2039.019542</td>\n",
       "    </tr>\n",
       "    <tr>\n",
       "      <th>4</th>\n",
       "      <td>2073.546964</td>\n",
       "      <td>-3.1</td>\n",
       "      <td>1690.957125</td>\n",
       "      <td>2027.431312</td>\n",
       "    </tr>\n",
       "    <tr>\n",
       "      <th>...</th>\n",
       "      <td>...</td>\n",
       "      <td>...</td>\n",
       "      <td>...</td>\n",
       "      <td>...</td>\n",
       "    </tr>\n",
       "    <tr>\n",
       "      <th>43651</th>\n",
       "      <td>3637.456602</td>\n",
       "      <td>11.7</td>\n",
       "      <td>3791.082901</td>\n",
       "      <td>3649.932706</td>\n",
       "    </tr>\n",
       "    <tr>\n",
       "      <th>43652</th>\n",
       "      <td>3639.019312</td>\n",
       "      <td>12.3</td>\n",
       "      <td>3793.651872</td>\n",
       "      <td>3640.453277</td>\n",
       "    </tr>\n",
       "    <tr>\n",
       "      <th>43653</th>\n",
       "      <td>3639.463899</td>\n",
       "      <td>13.3</td>\n",
       "      <td>3795.557217</td>\n",
       "      <td>3624.437253</td>\n",
       "    </tr>\n",
       "    <tr>\n",
       "      <th>43654</th>\n",
       "      <td>3630.184859</td>\n",
       "      <td>13.2</td>\n",
       "      <td>3779.620366</td>\n",
       "      <td>3619.528769</td>\n",
       "    </tr>\n",
       "    <tr>\n",
       "      <th>43655</th>\n",
       "      <td>3628.068853</td>\n",
       "      <td>11.4</td>\n",
       "      <td>3757.453274</td>\n",
       "      <td>3606.519990</td>\n",
       "    </tr>\n",
       "  </tbody>\n",
       "</table>\n",
       "<p>43656 rows × 4 columns</p>\n",
       "</div>"
      ],
      "text/plain": [
       "        Load_FWEST  Temp_FWEST        Lag-2        Lag-7\n",
       "0      2131.053000        -2.3  1716.526120  2078.060021\n",
       "1      2080.378240        -2.2  1685.924215  2078.060021\n",
       "2      2066.741680        -2.3  1682.241812  2057.993265\n",
       "3      2064.296987        -2.6  1688.457529  2039.019542\n",
       "4      2073.546964        -3.1  1690.957125  2027.431312\n",
       "...            ...         ...          ...          ...\n",
       "43651  3637.456602        11.7  3791.082901  3649.932706\n",
       "43652  3639.019312        12.3  3793.651872  3640.453277\n",
       "43653  3639.463899        13.3  3795.557217  3624.437253\n",
       "43654  3630.184859        13.2  3779.620366  3619.528769\n",
       "43655  3628.068853        11.4  3757.453274  3606.519990\n",
       "\n",
       "[43656 rows x 4 columns]"
      ]
     },
     "execution_count": 7,
     "metadata": {},
     "output_type": "execute_result"
    }
   ],
   "source": [
    "dataDf = pd.concat([zoneData, Load_lags], axis= 1).dropna(axis= 0).reset_index(drop= True)\n",
    "dataDf"
   ]
  },
  {
   "cell_type": "code",
   "execution_count": 8,
   "id": "6ad25321",
   "metadata": {},
   "outputs": [],
   "source": [
    "# Setting the train-test split ratio\n",
    "ratio = 0.1"
   ]
  },
  {
   "cell_type": "code",
   "execution_count": 9,
   "id": "3c08d963",
   "metadata": {},
   "outputs": [],
   "source": [
    "Num_train, Num_test = int(len(dataDf)/24 * (1 - ratio)) * 24, int(len(dataDf)/24 * ratio) * 24"
   ]
  },
  {
   "cell_type": "code",
   "execution_count": 10,
   "id": "cbe069ff",
   "metadata": {},
   "outputs": [],
   "source": [
    "# Splitting the data into train and test\n",
    "data_train, data_test = dataDf[:Num_train], dataDf[Num_train:]"
   ]
  },
  {
   "cell_type": "code",
   "execution_count": 11,
   "id": "d84e15c4",
   "metadata": {},
   "outputs": [],
   "source": [
    "Num_train, Num_valid = int(len(data_train)/24 * (1 - ratio)) * 24, int(len(data_train)/24 * ratio) * 24"
   ]
  },
  {
   "cell_type": "code",
   "execution_count": 12,
   "id": "c17d1723",
   "metadata": {},
   "outputs": [],
   "source": [
    "# Splitting the data into train and test\n",
    "data_train, data_valid = data_train[:Num_train], data_train[Num_train:]"
   ]
  },
  {
   "cell_type": "markdown",
   "id": "88d32011",
   "metadata": {},
   "source": [
    "### SPLITTING INTO X AND Y PART WITH SEQUENCE BATCHING"
   ]
  },
  {
   "cell_type": "code",
   "execution_count": 13,
   "id": "4ba286ca",
   "metadata": {},
   "outputs": [],
   "source": [
    "X_train_df, Y_train_df = data_train.iloc[:, 1:], data_train.iloc[:, :1]\n",
    "\n",
    "X_valid_df, Y_valid_df = data_valid.iloc[:, 1:], data_valid.iloc[:, :1]\n",
    "\n",
    "X_test_df, Y_test_df = data_test.iloc[:, 1:], data_test.iloc[:, :1]"
   ]
  },
  {
   "cell_type": "code",
   "execution_count": 14,
   "id": "ef1d9079",
   "metadata": {},
   "outputs": [],
   "source": [
    "# Preparing the scaler\n",
    "ValScaler = MinMaxScaler()\n",
    "\n",
    "X_train = ValScaler.fit_transform(X_train_df)\n",
    "X_valid = ValScaler.transform(X_valid_df)\n",
    "X_test = ValScaler.transform(X_test_df)\n",
    "\n",
    "Y_train = ValScaler.fit_transform(Y_train_df)\n",
    "Y_valid = ValScaler.transform(Y_valid_df)\n",
    "Y_test = ValScaler.transform(Y_test_df)"
   ]
  },
  {
   "cell_type": "code",
   "execution_count": 15,
   "id": "43594401",
   "metadata": {},
   "outputs": [],
   "source": [
    "def splitData(dataset):\n",
    "    data = np.array(np.split(dataset, len(dataset)/24))\n",
    "    return data"
   ]
  },
  {
   "cell_type": "code",
   "execution_count": 16,
   "id": "300696b2",
   "metadata": {},
   "outputs": [],
   "source": [
    "def supervisedSet(X_part, Y_part, steps= 24):\n",
    "    X_array, Y_array = np.array(X_part), np.array(Y_part)\n",
    "    X, Y = [], []\n",
    "    \n",
    "    for i in range(len(X_array)):\n",
    "        endIdx = i + steps\n",
    "        \n",
    "        if endIdx > len(X_array):\n",
    "            break\n",
    "        \n",
    "        batch_X, batch_Y = X_array[i:endIdx], Y_array[i:endIdx]\n",
    "        \n",
    "        X.append(batch_X)\n",
    "        Y.append(batch_Y)\n",
    "        \n",
    "    return np.array(X), np.array(Y)"
   ]
  },
  {
   "cell_type": "code",
   "execution_count": 17,
   "id": "fc9cd97d",
   "metadata": {},
   "outputs": [],
   "source": [
    "X_train, Y_train = supervisedSet(X_train, Y_train)\n",
    "\n",
    "X_valid, Y_valid = splitData(X_valid), splitData(Y_valid)\n",
    "\n",
    "X_test, Y_test = splitData(X_test), splitData(Y_test)"
   ]
  },
  {
   "cell_type": "markdown",
   "id": "a2a6bf32",
   "metadata": {},
   "source": [
    "### WORKING ON THE MODEL"
   ]
  },
  {
   "cell_type": "code",
   "execution_count": 18,
   "id": "ff71a98c",
   "metadata": {},
   "outputs": [],
   "source": [
    "epochs = 100\n",
    "batchSize = 32"
   ]
  },
  {
   "cell_type": "code",
   "execution_count": 19,
   "id": "8d600c17",
   "metadata": {},
   "outputs": [],
   "source": [
    "# Encoder-decoder architecture [tanh required to use tensorflow on gpu]\n",
    "model = tf.keras.Sequential([\n",
    "    tf.keras.layers.LSTM(units= 128, activation= \"tanh\", input_shape= (X_train.shape[1], X_train.shape[2]), dropout= 0.2),\n",
    "    tf.keras.layers.RepeatVector(Y_train.shape[1]),\n",
    "    tf.keras.layers.LSTM(units= 128, activation= \"tanh\", return_sequences= True, dropout= 0.2),\n",
    "    tf.keras.layers.TimeDistributed(tf.keras.layers.Dense(units= 128, activation= \"relu\")),\n",
    "    tf.keras.layers.Dropout(0.2),\n",
    "    tf.keras.layers.TimeDistributed(tf.keras.layers.Dense(units= 1))\n",
    "])\n",
    "\n",
    "model.compile(loss= \"mse\", optimizer= \"adam\",  metrics= ['mape', 'mae'])"
   ]
  },
  {
   "cell_type": "code",
   "execution_count": 20,
   "id": "a05c033a",
   "metadata": {},
   "outputs": [],
   "source": [
    "# model = tf.keras.Sequential([\n",
    "#     tf.keras.layers.LSTM(units= 256, activation= \"tanh\", input_shape= (X_train.shape[1], X_train.shape[2])),\n",
    "#     tf.keras.layers.Dense(units= 128, activation= \"tanh\"),\n",
    "#     tf.keras.layers.Dense(units= 1)\n",
    "# ])\n",
    "\n",
    "# model.compile(loss= \"mse\", optimizer= \"adam\",  metrics= ['mape', 'mae'])"
   ]
  },
  {
   "cell_type": "code",
   "execution_count": 21,
   "id": "c9390383",
   "metadata": {},
   "outputs": [],
   "source": [
    "# Storing the start time of model fitting process\n",
    "startTime = time.time()"
   ]
  },
  {
   "cell_type": "code",
   "execution_count": 22,
   "id": "e526e3ed",
   "metadata": {},
   "outputs": [
    {
     "name": "stdout",
     "output_type": "stream",
     "text": [
      "Epoch 1/100\n",
      "1105/1105 [==============================] - 23s 17ms/step - loss: 0.0088 - mape: 3282.8516 - mae: 0.0704 - val_loss: 0.0119 - val_mape: 9.5506 - val_mae: 0.0824\n",
      "Epoch 2/100\n",
      "1105/1105 [==============================] - 18s 16ms/step - loss: 0.0049 - mape: 3046.4666 - mae: 0.0537 - val_loss: 0.0153 - val_mape: 12.7362 - val_mae: 0.1064\n",
      "Epoch 3/100\n",
      "1105/1105 [==============================] - 18s 16ms/step - loss: 0.0037 - mape: 2670.0337 - mae: 0.0471 - val_loss: 0.0753 - val_mape: 31.8198 - val_mae: 0.2579\n",
      "Epoch 4/100\n",
      "1105/1105 [==============================] - 18s 16ms/step - loss: 0.0033 - mape: 2658.6997 - mae: 0.0446 - val_loss: 0.0508 - val_mape: 26.8234 - val_mae: 0.2159\n",
      "Epoch 5/100\n",
      "1105/1105 [==============================] - 18s 17ms/step - loss: 0.0030 - mape: 2124.5444 - mae: 0.0426 - val_loss: 0.0397 - val_mape: 22.4387 - val_mae: 0.1835\n",
      "Epoch 6/100\n",
      "1105/1105 [==============================] - 18s 16ms/step - loss: 0.0028 - mape: 2267.0847 - mae: 0.0409 - val_loss: 0.0540 - val_mape: 27.4979 - val_mae: 0.2220\n",
      "Epoch 7/100\n",
      "1105/1105 [==============================] - 18s 17ms/step - loss: 0.0027 - mape: 1859.0052 - mae: 0.0398 - val_loss: 0.0385 - val_mape: 22.6984 - val_mae: 0.1839\n",
      "Epoch 8/100\n",
      "1105/1105 [==============================] - 18s 16ms/step - loss: 0.0025 - mape: 2067.2036 - mae: 0.0386 - val_loss: 0.0628 - val_mape: 28.9458 - val_mae: 0.2350\n",
      "Epoch 9/100\n",
      "1105/1105 [==============================] - 18s 17ms/step - loss: 0.0024 - mape: 2334.9280 - mae: 0.0375 - val_loss: 0.0595 - val_mape: 29.3137 - val_mae: 0.2348\n",
      "Epoch 10/100\n",
      "1105/1105 [==============================] - 19s 17ms/step - loss: 0.0023 - mape: 2172.9700 - mae: 0.0366 - val_loss: 0.0722 - val_mape: 32.5538 - val_mae: 0.2602\n",
      "Epoch 11/100\n",
      "1105/1105 [==============================] - 19s 17ms/step - loss: 0.0022 - mape: 2062.6990 - mae: 0.0359 - val_loss: 0.0414 - val_mape: 22.1335 - val_mae: 0.1810\n",
      "Epoch 12/100\n",
      "1105/1105 [==============================] - 19s 17ms/step - loss: 0.0021 - mape: 1767.6777 - mae: 0.0355 - val_loss: 0.0591 - val_mape: 28.1607 - val_mae: 0.2279\n",
      "Epoch 13/100\n",
      "1105/1105 [==============================] - 19s 18ms/step - loss: 0.0020 - mape: 1982.0863 - mae: 0.0347 - val_loss: 0.0468 - val_mape: 24.3583 - val_mae: 0.1989\n",
      "Epoch 14/100\n",
      "1105/1105 [==============================] - 19s 18ms/step - loss: 0.0020 - mape: 1773.8058 - mae: 0.0341 - val_loss: 0.0855 - val_mape: 34.6299 - val_mae: 0.2791\n",
      "Epoch 15/100\n",
      "1105/1105 [==============================] - 20s 18ms/step - loss: 0.0019 - mape: 1785.9915 - mae: 0.0338 - val_loss: 0.0457 - val_mape: 23.9032 - val_mae: 0.1957\n",
      "Epoch 16/100\n",
      "1105/1105 [==============================] - 19s 18ms/step - loss: 0.0019 - mape: 1898.2339 - mae: 0.0331 - val_loss: 0.0339 - val_mape: 20.0883 - val_mae: 0.1651\n",
      "Epoch 17/100\n",
      "1105/1105 [==============================] - 20s 18ms/step - loss: 0.0018 - mape: 1971.0803 - mae: 0.0330 - val_loss: 0.0551 - val_mape: 26.9387 - val_mae: 0.2188\n",
      "Epoch 18/100\n",
      "1105/1105 [==============================] - 20s 18ms/step - loss: 0.0017 - mape: 1686.7008 - mae: 0.0321 - val_loss: 0.0509 - val_mape: 25.4868 - val_mae: 0.2078\n",
      "Epoch 19/100\n",
      "1105/1105 [==============================] - 20s 18ms/step - loss: 0.0017 - mape: 1535.4434 - mae: 0.0319 - val_loss: 0.0590 - val_mape: 27.4830 - val_mae: 0.2242\n",
      "Epoch 20/100\n",
      "1105/1105 [==============================] - 20s 18ms/step - loss: 0.0018 - mape: 1741.0498 - mae: 0.0329 - val_loss: 0.0519 - val_mape: 26.3937 - val_mae: 0.2133\n",
      "Epoch 21/100\n",
      "1105/1105 [==============================] - 20s 18ms/step - loss: 0.0017 - mape: 1729.8850 - mae: 0.0316 - val_loss: 0.0356 - val_mape: 20.4945 - val_mae: 0.1685\n",
      "Epoch 22/100\n",
      "1105/1105 [==============================] - 20s 18ms/step - loss: 0.0017 - mape: 1591.0900 - mae: 0.0313 - val_loss: 0.0454 - val_mape: 22.7923 - val_mae: 0.1882\n",
      "Epoch 23/100\n",
      "1105/1105 [==============================] - 21s 19ms/step - loss: 0.0016 - mape: 1817.3342 - mae: 0.0311 - val_loss: 0.0439 - val_mape: 23.8161 - val_mae: 0.1936\n",
      "Epoch 24/100\n",
      "1105/1105 [==============================] - 21s 19ms/step - loss: 0.0015 - mape: 1562.5562 - mae: 0.0303 - val_loss: 0.0427 - val_mape: 22.5943 - val_mae: 0.1855\n",
      "Epoch 25/100\n",
      "1105/1105 [==============================] - 20s 18ms/step - loss: 0.0015 - mape: 1991.2883 - mae: 0.0302 - val_loss: 0.0552 - val_mape: 26.0286 - val_mae: 0.2131\n",
      "Epoch 26/100\n",
      "1105/1105 [==============================] - 21s 19ms/step - loss: 0.0016 - mape: 1517.0828 - mae: 0.0303 - val_loss: 0.0467 - val_mape: 24.5458 - val_mae: 0.1995\n",
      "Epoch 27/100\n",
      "1105/1105 [==============================] - 20s 18ms/step - loss: 0.0015 - mape: 1821.8284 - mae: 0.0301 - val_loss: 0.0525 - val_mape: 25.3233 - val_mae: 0.2075\n",
      "Epoch 28/100\n",
      "1105/1105 [==============================] - 20s 18ms/step - loss: 0.0015 - mape: 1698.4977 - mae: 0.0295 - val_loss: 0.0497 - val_mape: 24.3506 - val_mae: 0.1997\n",
      "Epoch 29/100\n",
      "1105/1105 [==============================] - 20s 18ms/step - loss: 0.0015 - mape: 1567.9108 - mae: 0.0296 - val_loss: 0.0403 - val_mape: 21.8550 - val_mae: 0.1792\n",
      "Epoch 30/100\n",
      "1105/1105 [==============================] - 20s 18ms/step - loss: 0.0014 - mape: 1740.8755 - mae: 0.0291 - val_loss: 0.0687 - val_mape: 30.6020 - val_mae: 0.2475\n",
      "Epoch 31/100\n",
      "1105/1105 [==============================] - 20s 18ms/step - loss: 0.0014 - mape: 1394.7461 - mae: 0.0291 - val_loss: 0.0472 - val_mape: 24.4059 - val_mae: 0.1986\n",
      "Epoch 32/100\n",
      "1105/1105 [==============================] - 19s 18ms/step - loss: 0.0014 - mape: 1586.0913 - mae: 0.0284 - val_loss: 0.0634 - val_mape: 28.9849 - val_mae: 0.2353\n",
      "Epoch 33/100\n",
      "1105/1105 [==============================] - 20s 18ms/step - loss: 0.0014 - mape: 1703.4102 - mae: 0.0284 - val_loss: 0.0459 - val_mape: 23.1449 - val_mae: 0.1899\n",
      "Epoch 34/100\n",
      "1105/1105 [==============================] - 19s 17ms/step - loss: 0.0013 - mape: 1212.0232 - mae: 0.0282 - val_loss: 0.0399 - val_mape: 21.2603 - val_mae: 0.1754\n",
      "Epoch 35/100\n",
      "1105/1105 [==============================] - 20s 18ms/step - loss: 0.0014 - mape: 1521.4331 - mae: 0.0287 - val_loss: 0.0703 - val_mape: 30.8106 - val_mae: 0.2489\n",
      "Epoch 36/100\n",
      "1105/1105 [==============================] - 19s 17ms/step - loss: 0.0013 - mape: 1564.3839 - mae: 0.0277 - val_loss: 0.0632 - val_mape: 28.6409 - val_mae: 0.2330\n",
      "Epoch 37/100\n",
      "1105/1105 [==============================] - 19s 17ms/step - loss: 0.0013 - mape: 1581.3376 - mae: 0.0280 - val_loss: 0.0526 - val_mape: 25.0922 - val_mae: 0.2058\n",
      "Epoch 38/100\n",
      "1105/1105 [==============================] - 19s 17ms/step - loss: 0.0013 - mape: 1539.4260 - mae: 0.0273 - val_loss: 0.0467 - val_mape: 23.7968 - val_mae: 0.1950\n",
      "Epoch 39/100\n",
      "1105/1105 [==============================] - 18s 16ms/step - loss: 0.0013 - mape: 1466.4434 - mae: 0.0274 - val_loss: 0.0434 - val_mape: 21.3220 - val_mae: 0.1775\n",
      "Epoch 40/100\n",
      "1105/1105 [==============================] - 18s 17ms/step - loss: 0.0012 - mape: 1664.0570 - mae: 0.0270 - val_loss: 0.0503 - val_mape: 24.7435 - val_mae: 0.2025\n",
      "Epoch 41/100\n",
      "1105/1105 [==============================] - 18s 16ms/step - loss: 0.0013 - mape: 1620.4316 - mae: 0.0273 - val_loss: 0.0392 - val_mape: 21.1234 - val_mae: 0.1738\n",
      "Epoch 42/100\n",
      "1105/1105 [==============================] - 19s 17ms/step - loss: 0.0012 - mape: 1610.4507 - mae: 0.0266 - val_loss: 0.0553 - val_mape: 26.7504 - val_mae: 0.2176\n",
      "Epoch 43/100\n",
      "1105/1105 [==============================] - 19s 17ms/step - loss: 0.0012 - mape: 1784.9401 - mae: 0.0264 - val_loss: 0.0467 - val_mape: 23.5813 - val_mae: 0.1930\n",
      "Epoch 44/100\n",
      "1105/1105 [==============================] - 19s 18ms/step - loss: 0.0012 - mape: 1261.4679 - mae: 0.0263 - val_loss: 0.0562 - val_mape: 27.0219 - val_mae: 0.2196\n",
      "Epoch 45/100\n",
      "1105/1105 [==============================] - 19s 17ms/step - loss: 0.0012 - mape: 1749.7307 - mae: 0.0263 - val_loss: 0.0367 - val_mape: 20.0473 - val_mae: 0.1652\n",
      "Epoch 46/100\n",
      "1105/1105 [==============================] - 19s 17ms/step - loss: 0.0012 - mape: 1733.1143 - mae: 0.0261 - val_loss: 0.0514 - val_mape: 24.3652 - val_mae: 0.2007\n",
      "Epoch 47/100\n"
     ]
    },
    {
     "name": "stdout",
     "output_type": "stream",
     "text": [
      "1105/1105 [==============================] - 17s 16ms/step - loss: 0.0012 - mape: 1640.9563 - mae: 0.0260 - val_loss: 0.0593 - val_mape: 27.4124 - val_mae: 0.2236\n",
      "Epoch 48/100\n",
      "1105/1105 [==============================] - 17s 15ms/step - loss: 0.0012 - mape: 1839.8993 - mae: 0.0261 - val_loss: 0.0511 - val_mape: 25.1691 - val_mae: 0.2064\n",
      "Epoch 49/100\n",
      "1105/1105 [==============================] - 17s 16ms/step - loss: 0.0011 - mape: 1272.7202 - mae: 0.0259 - val_loss: 0.0582 - val_mape: 26.4893 - val_mae: 0.2171\n",
      "Epoch 50/100\n",
      "1105/1105 [==============================] - 17s 16ms/step - loss: 0.0011 - mape: 1430.4379 - mae: 0.0257 - val_loss: 0.0498 - val_mape: 24.6239 - val_mae: 0.2016\n",
      "Epoch 51/100\n",
      "1105/1105 [==============================] - 18s 16ms/step - loss: 0.0011 - mape: 1645.9089 - mae: 0.0253 - val_loss: 0.0395 - val_mape: 21.6542 - val_mae: 0.1777\n",
      "Epoch 52/100\n",
      "1105/1105 [==============================] - 17s 16ms/step - loss: 0.0011 - mape: 1268.6025 - mae: 0.0251 - val_loss: 0.0406 - val_mape: 21.3635 - val_mae: 0.1762\n",
      "Epoch 53/100\n",
      "1105/1105 [==============================] - 17s 16ms/step - loss: 0.0011 - mape: 1336.3223 - mae: 0.0250 - val_loss: 0.0428 - val_mape: 22.4025 - val_mae: 0.1840\n",
      "Epoch 54/100\n",
      "1105/1105 [==============================] - 17s 16ms/step - loss: 0.0011 - mape: 1779.1783 - mae: 0.0251 - val_loss: 0.0486 - val_mape: 23.4017 - val_mae: 0.1931\n",
      "Epoch 55/100\n",
      "1105/1105 [==============================] - 17s 16ms/step - loss: 0.0010 - mape: 1621.7620 - mae: 0.0246 - val_loss: 0.0536 - val_mape: 25.2680 - val_mae: 0.2072\n",
      "Epoch 56/100\n",
      "1105/1105 [==============================] - 17s 16ms/step - loss: 0.0010 - mape: 1634.9849 - mae: 0.0244 - val_loss: 0.0590 - val_mape: 27.1305 - val_mae: 0.2210\n",
      "Epoch 57/100\n",
      "1105/1105 [==============================] - 17s 15ms/step - loss: 0.0010 - mape: 1558.4530 - mae: 0.0243 - val_loss: 0.0525 - val_mape: 25.5108 - val_mae: 0.2079\n",
      "Epoch 58/100\n",
      "1105/1105 [==============================] - 17s 16ms/step - loss: 0.0010 - mape: 1559.0533 - mae: 0.0243 - val_loss: 0.0441 - val_mape: 22.6560 - val_mae: 0.1858\n",
      "Epoch 59/100\n",
      "1105/1105 [==============================] - 18s 16ms/step - loss: 0.0010 - mape: 1405.7292 - mae: 0.0245 - val_loss: 0.0520 - val_mape: 24.7856 - val_mae: 0.2034\n",
      "Epoch 60/100\n",
      "1105/1105 [==============================] - 18s 16ms/step - loss: 9.7007e-04 - mape: 1501.0302 - mae: 0.0239 - val_loss: 0.0474 - val_mape: 24.0365 - val_mae: 0.1962\n",
      "Epoch 61/100\n",
      "1105/1105 [==============================] - 18s 16ms/step - loss: 9.6446e-04 - mape: 1553.5084 - mae: 0.0238 - val_loss: 0.0546 - val_mape: 26.2136 - val_mae: 0.2134\n",
      "Epoch 62/100\n",
      "1105/1105 [==============================] - 18s 16ms/step - loss: 9.5816e-04 - mape: 1372.0431 - mae: 0.0237 - val_loss: 0.0539 - val_mape: 25.4614 - val_mae: 0.2077\n",
      "Epoch 63/100\n",
      "1105/1105 [==============================] - 18s 16ms/step - loss: 9.3322e-04 - mape: 1409.4620 - mae: 0.0234 - val_loss: 0.0455 - val_mape: 22.8994 - val_mae: 0.1883\n",
      "Epoch 64/100\n",
      "1105/1105 [==============================] - 18s 16ms/step - loss: 9.9130e-04 - mape: 1529.2798 - mae: 0.0240 - val_loss: 0.0463 - val_mape: 22.9808 - val_mae: 0.1899\n",
      "Epoch 65/100\n",
      "1105/1105 [==============================] - 18s 16ms/step - loss: 9.2673e-04 - mape: 1131.3666 - mae: 0.0233 - val_loss: 0.0607 - val_mape: 27.7799 - val_mae: 0.2258\n",
      "Epoch 66/100\n",
      "1105/1105 [==============================] - 18s 16ms/step - loss: 9.8959e-04 - mape: 1328.2080 - mae: 0.0239 - val_loss: 0.0525 - val_mape: 25.0448 - val_mae: 0.2051\n",
      "Epoch 67/100\n",
      "1105/1105 [==============================] - 18s 16ms/step - loss: 9.0929e-04 - mape: 1303.7975 - mae: 0.0230 - val_loss: 0.0583 - val_mape: 26.9534 - val_mae: 0.2199\n",
      "Epoch 68/100\n",
      "1105/1105 [==============================] - 18s 16ms/step - loss: 9.0337e-04 - mape: 1196.1816 - mae: 0.0230 - val_loss: 0.0627 - val_mape: 28.4243 - val_mae: 0.2308\n",
      "Epoch 69/100\n",
      "1105/1105 [==============================] - 18s 16ms/step - loss: 8.7168e-04 - mape: 1388.5753 - mae: 0.0226 - val_loss: 0.0529 - val_mape: 25.4574 - val_mae: 0.2077\n",
      "Epoch 70/100\n",
      "1105/1105 [==============================] - 18s 16ms/step - loss: 8.9971e-04 - mape: 1706.6628 - mae: 0.0229 - val_loss: 0.0403 - val_mape: 20.9262 - val_mae: 0.1735\n",
      "Epoch 71/100\n",
      "1105/1105 [==============================] - 18s 16ms/step - loss: 8.6805e-04 - mape: 1442.2753 - mae: 0.0226 - val_loss: 0.0451 - val_mape: 22.9414 - val_mae: 0.1886\n",
      "Epoch 72/100\n",
      "1105/1105 [==============================] - 18s 17ms/step - loss: 0.0010 - mape: 1681.1372 - mae: 0.0240 - val_loss: 0.0519 - val_mape: 25.6403 - val_mae: 0.2086\n",
      "Epoch 73/100\n",
      "1105/1105 [==============================] - 19s 17ms/step - loss: 8.5113e-04 - mape: 1264.4327 - mae: 0.0223 - val_loss: 0.0510 - val_mape: 25.3457 - val_mae: 0.2061\n",
      "Epoch 74/100\n",
      "1105/1105 [==============================] - 18s 17ms/step - loss: 8.4079e-04 - mape: 1237.2960 - mae: 0.0222 - val_loss: 0.0646 - val_mape: 29.2274 - val_mae: 0.2365\n",
      "Epoch 75/100\n",
      "1105/1105 [==============================] - 19s 17ms/step - loss: 8.3169e-04 - mape: 1469.8041 - mae: 0.0220 - val_loss: 0.0504 - val_mape: 24.8357 - val_mae: 0.2030\n",
      "Epoch 76/100\n",
      "1105/1105 [==============================] - 19s 17ms/step - loss: 8.3424e-04 - mape: 1726.1221 - mae: 0.0221 - val_loss: 0.0519 - val_mape: 24.8961 - val_mae: 0.2040\n",
      "Epoch 77/100\n",
      "1105/1105 [==============================] - 19s 17ms/step - loss: 8.2509e-04 - mape: 1620.3008 - mae: 0.0220 - val_loss: 0.0560 - val_mape: 26.2771 - val_mae: 0.2143\n",
      "Epoch 78/100\n",
      "1105/1105 [==============================] - 19s 17ms/step - loss: 8.3046e-04 - mape: 1174.8958 - mae: 0.0220 - val_loss: 0.0442 - val_mape: 22.3308 - val_mae: 0.1839\n",
      "Epoch 79/100\n",
      "1105/1105 [==============================] - 20s 18ms/step - loss: 8.1068e-04 - mape: 1571.2113 - mae: 0.0218 - val_loss: 0.0417 - val_mape: 21.0860 - val_mae: 0.1752\n",
      "Epoch 80/100\n",
      "1105/1105 [==============================] - 19s 18ms/step - loss: 8.0816e-04 - mape: 1284.9817 - mae: 0.0217 - val_loss: 0.0503 - val_mape: 24.5375 - val_mae: 0.2006\n",
      "Epoch 81/100\n",
      "1105/1105 [==============================] - 19s 18ms/step - loss: 7.9204e-04 - mape: 1379.6157 - mae: 0.0215 - val_loss: 0.0502 - val_mape: 24.5910 - val_mae: 0.2005\n",
      "Epoch 82/100\n",
      "1105/1105 [==============================] - 20s 18ms/step - loss: 7.8614e-04 - mape: 1867.7952 - mae: 0.0214 - val_loss: 0.0551 - val_mape: 25.7784 - val_mae: 0.2106\n",
      "Epoch 83/100\n",
      "1105/1105 [==============================] - 20s 18ms/step - loss: 7.8024e-04 - mape: 1210.4973 - mae: 0.0213 - val_loss: 0.0477 - val_mape: 24.1117 - val_mae: 0.1957\n",
      "Epoch 84/100\n",
      "1105/1105 [==============================] - 20s 18ms/step - loss: 7.8267e-04 - mape: 1382.4951 - mae: 0.0213 - val_loss: 0.0499 - val_mape: 24.4967 - val_mae: 0.1992\n",
      "Epoch 85/100\n",
      "1105/1105 [==============================] - 20s 18ms/step - loss: 7.5910e-04 - mape: 1316.3413 - mae: 0.0210 - val_loss: 0.0509 - val_mape: 24.6861 - val_mae: 0.2015\n",
      "Epoch 86/100\n",
      "1105/1105 [==============================] - 20s 18ms/step - loss: 7.6575e-04 - mape: 1276.6831 - mae: 0.0211 - val_loss: 0.0549 - val_mape: 25.7566 - val_mae: 0.2102\n",
      "Epoch 87/100\n",
      "1105/1105 [==============================] - 20s 19ms/step - loss: 7.6814e-04 - mape: 1261.6970 - mae: 0.0211 - val_loss: 0.0540 - val_mape: 25.4580 - val_mae: 0.2075\n",
      "Epoch 88/100\n",
      "1105/1105 [==============================] - 20s 18ms/step - loss: 7.5431e-04 - mape: 1569.1056 - mae: 0.0210 - val_loss: 0.0488 - val_mape: 23.7133 - val_mae: 0.1943\n",
      "Epoch 89/100\n",
      "1105/1105 [==============================] - 21s 19ms/step - loss: 7.4147e-04 - mape: 1467.9918 - mae: 0.0208 - val_loss: 0.0601 - val_mape: 27.7296 - val_mae: 0.2246\n",
      "Epoch 90/100\n",
      "1105/1105 [==============================] - 20s 18ms/step - loss: 7.4233e-04 - mape: 1304.2853 - mae: 0.0208 - val_loss: 0.0588 - val_mape: 27.2440 - val_mae: 0.2217\n",
      "Epoch 91/100\n",
      "1105/1105 [==============================] - 20s 18ms/step - loss: 7.3334e-04 - mape: 1224.7719 - mae: 0.0206 - val_loss: 0.0515 - val_mape: 25.0359 - val_mae: 0.2040\n",
      "Epoch 92/100\n",
      "1105/1105 [==============================] - 21s 19ms/step - loss: 7.3697e-04 - mape: 1258.7491 - mae: 0.0207 - val_loss: 0.0572 - val_mape: 26.5686 - val_mae: 0.2168\n"
     ]
    },
    {
     "name": "stdout",
     "output_type": "stream",
     "text": [
      "Epoch 93/100\n",
      "1105/1105 [==============================] - 17s 16ms/step - loss: 7.3219e-04 - mape: 1106.6215 - mae: 0.0206 - val_loss: 0.0521 - val_mape: 25.1942 - val_mae: 0.2054\n",
      "Epoch 94/100\n",
      "1105/1105 [==============================] - 17s 16ms/step - loss: 7.1077e-04 - mape: 1200.9221 - mae: 0.0203 - val_loss: 0.0526 - val_mape: 25.0758 - val_mae: 0.2051\n",
      "Epoch 95/100\n",
      "1105/1105 [==============================] - 17s 16ms/step - loss: 7.0449e-04 - mape: 1277.7438 - mae: 0.0202 - val_loss: 0.0444 - val_mape: 22.7526 - val_mae: 0.1865\n",
      "Epoch 96/100\n",
      "1105/1105 [==============================] - 18s 16ms/step - loss: 7.0081e-04 - mape: 1170.1425 - mae: 0.0202 - val_loss: 0.0589 - val_mape: 27.3531 - val_mae: 0.2222\n",
      "Epoch 97/100\n",
      "1105/1105 [==============================] - 17s 16ms/step - loss: 7.0024e-04 - mape: 1416.9839 - mae: 0.0202 - val_loss: 0.0479 - val_mape: 23.1685 - val_mae: 0.1910\n",
      "Epoch 98/100\n",
      "1105/1105 [==============================] - 18s 16ms/step - loss: 7.1777e-04 - mape: 992.5963 - mae: 0.0203 - val_loss: 0.0466 - val_mape: 22.3573 - val_mae: 0.1854\n",
      "Epoch 99/100\n",
      "1105/1105 [==============================] - 17s 15ms/step - loss: 6.8071e-04 - mape: 1474.8379 - mae: 0.0199 - val_loss: 0.0525 - val_mape: 25.5740 - val_mae: 0.2076\n",
      "Epoch 100/100\n",
      "1105/1105 [==============================] - 17s 16ms/step - loss: 7.0506e-04 - mape: 1407.2537 - mae: 0.0202 - val_loss: 0.0636 - val_mape: 28.1911 - val_mae: 0.2288\n"
     ]
    },
    {
     "data": {
      "text/plain": [
       "<keras.callbacks.History at 0x2cd8a20de80>"
      ]
     },
     "execution_count": 22,
     "metadata": {},
     "output_type": "execute_result"
    }
   ],
   "source": [
    "model.fit(X_train, Y_train, epochs= epochs, batch_size= batchSize, verbose= 1, shuffle= True, validation_data= (X_valid, Y_valid))"
   ]
  },
  {
   "cell_type": "code",
   "execution_count": 23,
   "id": "cd839153",
   "metadata": {},
   "outputs": [
    {
     "name": "stdout",
     "output_type": "stream",
     "text": [
      "Total execution time in seconds: 1882.4671833515167\n"
     ]
    }
   ],
   "source": [
    "calcExecTime = (time.time() - startTime)\n",
    "print('Total execution time in seconds: ' + str(calcExecTime))"
   ]
  },
  {
   "cell_type": "markdown",
   "id": "72aafa74",
   "metadata": {},
   "source": [
    "### MAKING PREDICTIONS AND GENERATING RESULTS"
   ]
  },
  {
   "cell_type": "code",
   "execution_count": 24,
   "id": "259bfb49",
   "metadata": {},
   "outputs": [
    {
     "name": "stdout",
     "output_type": "stream",
     "text": [
      "6/6 [==============================] - 1s 14ms/step\n"
     ]
    }
   ],
   "source": [
    "predictions = model.predict(X_test)"
   ]
  },
  {
   "cell_type": "code",
   "execution_count": 25,
   "id": "2912d431",
   "metadata": {},
   "outputs": [
    {
     "data": {
      "text/plain": [
       "array([0.6021396 , 0.5743512 , 0.55194104, ..., 0.8064606 , 0.78765196,\n",
       "       0.76443094], dtype=float32)"
      ]
     },
     "execution_count": 25,
     "metadata": {},
     "output_type": "execute_result"
    }
   ],
   "source": [
    "predArr = predictions.reshape(predictions.shape[0] * predictions.shape[1], predictions.shape[2]).ravel()\n",
    "predArr"
   ]
  },
  {
   "cell_type": "code",
   "execution_count": 26,
   "id": "b01889f2",
   "metadata": {},
   "outputs": [
    {
     "data": {
      "text/plain": [
       "array([0.88354441, 0.86621942, 0.84593882, ..., 0.99218972, 0.98752933,\n",
       "       0.98646656])"
      ]
     },
     "execution_count": 26,
     "metadata": {},
     "output_type": "execute_result"
    }
   ],
   "source": [
    "Y_testArr = Y_test.reshape(Y_test.shape[0] * Y_test.shape[1], Y_test.shape[2]).ravel()\n",
    "Y_testArr"
   ]
  },
  {
   "cell_type": "code",
   "execution_count": 27,
   "id": "799c97e8",
   "metadata": {},
   "outputs": [],
   "source": [
    "def inverse_transform(df):\n",
    "    column_names = df.columns\n",
    "    for col in column_names:\n",
    "        df[col] = ValScaler.inverse_transform(df[[col]]) \n",
    "    return df"
   ]
  },
  {
   "cell_type": "code",
   "execution_count": 28,
   "id": "afa81e30",
   "metadata": {},
   "outputs": [
    {
     "data": {
      "text/html": [
       "<div>\n",
       "<style scoped>\n",
       "    .dataframe tbody tr th:only-of-type {\n",
       "        vertical-align: middle;\n",
       "    }\n",
       "\n",
       "    .dataframe tbody tr th {\n",
       "        vertical-align: top;\n",
       "    }\n",
       "\n",
       "    .dataframe thead th {\n",
       "        text-align: right;\n",
       "    }\n",
       "</style>\n",
       "<table border=\"1\" class=\"dataframe\">\n",
       "  <thead>\n",
       "    <tr style=\"text-align: right;\">\n",
       "      <th></th>\n",
       "      <th>Values</th>\n",
       "      <th>Predictions</th>\n",
       "    </tr>\n",
       "  </thead>\n",
       "  <tbody>\n",
       "    <tr>\n",
       "      <th>0</th>\n",
       "      <td>3423.146738</td>\n",
       "      <td>2862.858643</td>\n",
       "    </tr>\n",
       "    <tr>\n",
       "      <th>1</th>\n",
       "      <td>3388.651995</td>\n",
       "      <td>2807.530762</td>\n",
       "    </tr>\n",
       "    <tr>\n",
       "      <th>2</th>\n",
       "      <td>3348.272503</td>\n",
       "      <td>2762.911133</td>\n",
       "    </tr>\n",
       "    <tr>\n",
       "      <th>3</th>\n",
       "      <td>3330.179385</td>\n",
       "      <td>2746.180908</td>\n",
       "    </tr>\n",
       "    <tr>\n",
       "      <th>4</th>\n",
       "      <td>3335.172114</td>\n",
       "      <td>2751.924805</td>\n",
       "    </tr>\n",
       "    <tr>\n",
       "      <th>...</th>\n",
       "      <td>...</td>\n",
       "      <td>...</td>\n",
       "    </tr>\n",
       "    <tr>\n",
       "      <th>4363</th>\n",
       "      <td>3637.456602</td>\n",
       "      <td>3287.982178</td>\n",
       "    </tr>\n",
       "    <tr>\n",
       "      <th>4364</th>\n",
       "      <td>3639.019312</td>\n",
       "      <td>3288.764648</td>\n",
       "    </tr>\n",
       "    <tr>\n",
       "      <th>4365</th>\n",
       "      <td>3639.463899</td>\n",
       "      <td>3269.669922</td>\n",
       "    </tr>\n",
       "    <tr>\n",
       "      <th>4366</th>\n",
       "      <td>3630.184859</td>\n",
       "      <td>3232.220947</td>\n",
       "    </tr>\n",
       "    <tr>\n",
       "      <th>4367</th>\n",
       "      <td>3628.068853</td>\n",
       "      <td>3185.987061</td>\n",
       "    </tr>\n",
       "  </tbody>\n",
       "</table>\n",
       "<p>4368 rows × 2 columns</p>\n",
       "</div>"
      ],
      "text/plain": [
       "           Values  Predictions\n",
       "0     3423.146738  2862.858643\n",
       "1     3388.651995  2807.530762\n",
       "2     3348.272503  2762.911133\n",
       "3     3330.179385  2746.180908\n",
       "4     3335.172114  2751.924805\n",
       "...           ...          ...\n",
       "4363  3637.456602  3287.982178\n",
       "4364  3639.019312  3288.764648\n",
       "4365  3639.463899  3269.669922\n",
       "4366  3630.184859  3232.220947\n",
       "4367  3628.068853  3185.987061\n",
       "\n",
       "[4368 rows x 2 columns]"
      ]
     },
     "execution_count": 28,
     "metadata": {},
     "output_type": "execute_result"
    }
   ],
   "source": [
    "comparisionDf = pd.DataFrame(data= {\"Values\": Y_testArr, \"Predictions\": predArr})\n",
    "comparisionDf = inverse_transform(comparisionDf)\n",
    "comparisionDf"
   ]
  },
  {
   "cell_type": "code",
   "execution_count": 29,
   "id": "88222bae",
   "metadata": {},
   "outputs": [
    {
     "data": {
      "text/plain": [
       "14.371877748471526"
      ]
     },
     "execution_count": 29,
     "metadata": {},
     "output_type": "execute_result"
    }
   ],
   "source": [
    "mape(comparisionDf[\"Values\"], comparisionDf[\"Predictions\"])"
   ]
  }
 ],
 "metadata": {
  "kernelspec": {
   "display_name": "Python 3 (ipykernel)",
   "language": "python",
   "name": "python3"
  },
  "language_info": {
   "codemirror_mode": {
    "name": "ipython",
    "version": 3
   },
   "file_extension": ".py",
   "mimetype": "text/x-python",
   "name": "python",
   "nbconvert_exporter": "python",
   "pygments_lexer": "ipython3",
   "version": "3.9.12"
  }
 },
 "nbformat": 4,
 "nbformat_minor": 5
}
