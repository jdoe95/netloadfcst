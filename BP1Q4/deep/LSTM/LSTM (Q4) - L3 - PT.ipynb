{
 "cells": [
  {
   "cell_type": "code",
   "execution_count": 1,
   "id": "5f61b29f",
   "metadata": {},
   "outputs": [
    {
     "name": "stdout",
     "output_type": "stream",
     "text": [
      "Num GPUs Available:  1\n"
     ]
    }
   ],
   "source": [
    "import pandas as pd\n",
    "import numpy as np\n",
    "import os\n",
    "import matplotlib.pyplot as plt\n",
    "from datetime import datetime\n",
    "from sklearn.preprocessing import MinMaxScaler, RobustScaler, StandardScaler\n",
    "import time\n",
    "\n",
    "import tensorflow as tf\n",
    "tf.random.set_seed(42)\n",
    "\n",
    "def mape(y_true, y_pred):\n",
    "    y_true, y_pred = np.array(y_true), np.array(y_pred)\n",
    "    return np.mean(np.abs((y_true - y_pred) / max(y_true))) * 100\n",
    "\n",
    "def RMSELoss(yhat,y):\n",
    "    return torch.sqrt(torch.mean((yhat-y)**2))\n",
    "\n",
    "print(\"Num GPUs Available: \", len(tf.config.list_physical_devices('GPU')))"
   ]
  },
  {
   "cell_type": "code",
   "execution_count": 2,
   "id": "cea0abe2",
   "metadata": {},
   "outputs": [
    {
     "name": "stdout",
     "output_type": "stream",
     "text": [
      "['AT.csv', 'BE.csv', 'BG.csv', 'CH.csv', 'CZ.csv', 'DK.csv', 'ES.csv', 'FR.csv', 'GR.csv', 'IT.csv', 'NL.csv', 'PT.csv', 'SI.csv', 'SK.csv']\n"
     ]
    }
   ],
   "source": [
    "# Specifying the path of file\n",
    "path= r\"C:\\Users\\sashah8\\OneDrive - North Carolina State University\\Desktop\\Q4\\Data\\L3\\data_cleaned\"\n",
    "\n",
    "# Listing just the required files\n",
    "fileList = os.listdir(path)\n",
    "fileList.remove(\"Date.csv\")\n",
    "\n",
    "# Previewing the required file names\n",
    "print(fileList)"
   ]
  },
  {
   "cell_type": "code",
   "execution_count": 3,
   "id": "a6fe9396",
   "metadata": {},
   "outputs": [
    {
     "data": {
      "text/html": [
       "<div>\n",
       "<style scoped>\n",
       "    .dataframe tbody tr th:only-of-type {\n",
       "        vertical-align: middle;\n",
       "    }\n",
       "\n",
       "    .dataframe tbody tr th {\n",
       "        vertical-align: top;\n",
       "    }\n",
       "\n",
       "    .dataframe thead th {\n",
       "        text-align: right;\n",
       "    }\n",
       "</style>\n",
       "<table border=\"1\" class=\"dataframe\">\n",
       "  <thead>\n",
       "    <tr style=\"text-align: right;\">\n",
       "      <th></th>\n",
       "      <th>Demand</th>\n",
       "      <th>Normalized_net</th>\n",
       "      <th>Temperature</th>\n",
       "      <th>DNI</th>\n",
       "      <th>DHI</th>\n",
       "    </tr>\n",
       "  </thead>\n",
       "  <tbody>\n",
       "    <tr>\n",
       "      <th>0</th>\n",
       "      <td>0.0</td>\n",
       "      <td>0.000000</td>\n",
       "      <td>5.584</td>\n",
       "      <td>0.0</td>\n",
       "      <td>0.0</td>\n",
       "    </tr>\n",
       "    <tr>\n",
       "      <th>1</th>\n",
       "      <td>5123.9</td>\n",
       "      <td>0.586782</td>\n",
       "      <td>5.219</td>\n",
       "      <td>0.0</td>\n",
       "      <td>0.0</td>\n",
       "    </tr>\n",
       "    <tr>\n",
       "      <th>2</th>\n",
       "      <td>4771.1</td>\n",
       "      <td>0.546380</td>\n",
       "      <td>5.034</td>\n",
       "      <td>0.0</td>\n",
       "      <td>0.0</td>\n",
       "    </tr>\n",
       "    <tr>\n",
       "      <th>3</th>\n",
       "      <td>4443.5</td>\n",
       "      <td>0.508864</td>\n",
       "      <td>4.708</td>\n",
       "      <td>0.0</td>\n",
       "      <td>0.0</td>\n",
       "    </tr>\n",
       "    <tr>\n",
       "      <th>4</th>\n",
       "      <td>4234.9</td>\n",
       "      <td>0.484975</td>\n",
       "      <td>4.353</td>\n",
       "      <td>0.0</td>\n",
       "      <td>0.0</td>\n",
       "    </tr>\n",
       "    <tr>\n",
       "      <th>...</th>\n",
       "      <td>...</td>\n",
       "      <td>...</td>\n",
       "      <td>...</td>\n",
       "      <td>...</td>\n",
       "      <td>...</td>\n",
       "    </tr>\n",
       "    <tr>\n",
       "      <th>43819</th>\n",
       "      <td>6788.8</td>\n",
       "      <td>0.777444</td>\n",
       "      <td>9.646</td>\n",
       "      <td>0.0</td>\n",
       "      <td>0.0</td>\n",
       "    </tr>\n",
       "    <tr>\n",
       "      <th>43820</th>\n",
       "      <td>6193.0</td>\n",
       "      <td>0.709214</td>\n",
       "      <td>9.172</td>\n",
       "      <td>0.0</td>\n",
       "      <td>0.0</td>\n",
       "    </tr>\n",
       "    <tr>\n",
       "      <th>43821</th>\n",
       "      <td>5706.9</td>\n",
       "      <td>0.653547</td>\n",
       "      <td>8.705</td>\n",
       "      <td>0.0</td>\n",
       "      <td>0.0</td>\n",
       "    </tr>\n",
       "    <tr>\n",
       "      <th>43822</th>\n",
       "      <td>5484.7</td>\n",
       "      <td>0.628101</td>\n",
       "      <td>8.218</td>\n",
       "      <td>0.0</td>\n",
       "      <td>0.0</td>\n",
       "    </tr>\n",
       "    <tr>\n",
       "      <th>43823</th>\n",
       "      <td>5243.8</td>\n",
       "      <td>0.600513</td>\n",
       "      <td>7.735</td>\n",
       "      <td>0.0</td>\n",
       "      <td>0.0</td>\n",
       "    </tr>\n",
       "  </tbody>\n",
       "</table>\n",
       "<p>43824 rows × 5 columns</p>\n",
       "</div>"
      ],
      "text/plain": [
       "       Demand  Normalized_net  Temperature  DNI  DHI\n",
       "0         0.0        0.000000        5.584  0.0  0.0\n",
       "1      5123.9        0.586782        5.219  0.0  0.0\n",
       "2      4771.1        0.546380        5.034  0.0  0.0\n",
       "3      4443.5        0.508864        4.708  0.0  0.0\n",
       "4      4234.9        0.484975        4.353  0.0  0.0\n",
       "...       ...             ...          ...  ...  ...\n",
       "43819  6788.8        0.777444        9.646  0.0  0.0\n",
       "43820  6193.0        0.709214        9.172  0.0  0.0\n",
       "43821  5706.9        0.653547        8.705  0.0  0.0\n",
       "43822  5484.7        0.628101        8.218  0.0  0.0\n",
       "43823  5243.8        0.600513        7.735  0.0  0.0\n",
       "\n",
       "[43824 rows x 5 columns]"
      ]
     },
     "execution_count": 3,
     "metadata": {},
     "output_type": "execute_result"
    }
   ],
   "source": [
    "# Just for previewing the columns\n",
    "pd.read_csv(os.path.join(path, fileList[11]))"
   ]
  },
  {
   "cell_type": "markdown",
   "id": "9ad4906c",
   "metadata": {
    "pycharm": {
     "name": "#%% md\n"
    }
   },
   "source": [
    "### PROCESSING THE DATA"
   ]
  },
  {
   "cell_type": "code",
   "execution_count": 4,
   "id": "f29f6db2",
   "metadata": {},
   "outputs": [
    {
     "data": {
      "text/html": [
       "<div>\n",
       "<style scoped>\n",
       "    .dataframe tbody tr th:only-of-type {\n",
       "        vertical-align: middle;\n",
       "    }\n",
       "\n",
       "    .dataframe tbody tr th {\n",
       "        vertical-align: top;\n",
       "    }\n",
       "\n",
       "    .dataframe thead th {\n",
       "        text-align: right;\n",
       "    }\n",
       "</style>\n",
       "<table border=\"1\" class=\"dataframe\">\n",
       "  <thead>\n",
       "    <tr style=\"text-align: right;\">\n",
       "      <th></th>\n",
       "      <th>Load_PT</th>\n",
       "      <th>Temp_PT</th>\n",
       "    </tr>\n",
       "  </thead>\n",
       "  <tbody>\n",
       "    <tr>\n",
       "      <th>0</th>\n",
       "      <td>0.0</td>\n",
       "      <td>5.584</td>\n",
       "    </tr>\n",
       "    <tr>\n",
       "      <th>1</th>\n",
       "      <td>5123.9</td>\n",
       "      <td>5.219</td>\n",
       "    </tr>\n",
       "    <tr>\n",
       "      <th>2</th>\n",
       "      <td>4771.1</td>\n",
       "      <td>5.034</td>\n",
       "    </tr>\n",
       "    <tr>\n",
       "      <th>3</th>\n",
       "      <td>4443.5</td>\n",
       "      <td>4.708</td>\n",
       "    </tr>\n",
       "    <tr>\n",
       "      <th>4</th>\n",
       "      <td>4234.9</td>\n",
       "      <td>4.353</td>\n",
       "    </tr>\n",
       "    <tr>\n",
       "      <th>...</th>\n",
       "      <td>...</td>\n",
       "      <td>...</td>\n",
       "    </tr>\n",
       "    <tr>\n",
       "      <th>43819</th>\n",
       "      <td>6788.8</td>\n",
       "      <td>9.646</td>\n",
       "    </tr>\n",
       "    <tr>\n",
       "      <th>43820</th>\n",
       "      <td>6193.0</td>\n",
       "      <td>9.172</td>\n",
       "    </tr>\n",
       "    <tr>\n",
       "      <th>43821</th>\n",
       "      <td>5706.9</td>\n",
       "      <td>8.705</td>\n",
       "    </tr>\n",
       "    <tr>\n",
       "      <th>43822</th>\n",
       "      <td>5484.7</td>\n",
       "      <td>8.218</td>\n",
       "    </tr>\n",
       "    <tr>\n",
       "      <th>43823</th>\n",
       "      <td>5243.8</td>\n",
       "      <td>7.735</td>\n",
       "    </tr>\n",
       "  </tbody>\n",
       "</table>\n",
       "<p>43824 rows × 2 columns</p>\n",
       "</div>"
      ],
      "text/plain": [
       "       Load_PT  Temp_PT\n",
       "0          0.0    5.584\n",
       "1       5123.9    5.219\n",
       "2       4771.1    5.034\n",
       "3       4443.5    4.708\n",
       "4       4234.9    4.353\n",
       "...        ...      ...\n",
       "43819   6788.8    9.646\n",
       "43820   6193.0    9.172\n",
       "43821   5706.9    8.705\n",
       "43822   5484.7    8.218\n",
       "43823   5243.8    7.735\n",
       "\n",
       "[43824 rows x 2 columns]"
      ]
     },
     "execution_count": 4,
     "metadata": {},
     "output_type": "execute_result"
    }
   ],
   "source": [
    "# Restricting the load data to a single zone\n",
    "fileName  = fileList[11]\n",
    "\n",
    "zoneData = pd.read_csv(os.path.join(path, fileName), usecols= [\"Demand\", \"Temperature\"])\n",
    "zoneData.columns = [\"Load_\"+str(fileName[:-4]), \"Temp_\"+str(fileName[:-4])]\n",
    "\n",
    "# For fixing one missing row\n",
    "# zoneData = pd.concat([zoneData.loc[[0]], zoneData], axis= 0).reset_index(drop= True)\n",
    "\n",
    "zoneData"
   ]
  },
  {
   "cell_type": "markdown",
   "id": "01cec4bd",
   "metadata": {},
   "source": [
    "### FEATURE ENGINEERING AND SPLITTING INTO TRAIN-TEST SPLIT"
   ]
  },
  {
   "cell_type": "code",
   "execution_count": 5,
   "id": "a1e1e8a3",
   "metadata": {},
   "outputs": [],
   "source": [
    "def lagGenerator(dF, lagList):\n",
    "    dF_temp = dF.filter(regex= \"Load\").copy()\n",
    "    \n",
    "    for i in lagList:\n",
    "        dF_temp.loc[:, \"Lag-\" + str(i)] = dF_temp.iloc[:,[0]].shift(i*24)\n",
    "    \n",
    "    return(dF_temp.filter(regex= \"Lag\"))"
   ]
  },
  {
   "cell_type": "code",
   "execution_count": 6,
   "id": "159a2a82",
   "metadata": {},
   "outputs": [
    {
     "data": {
      "text/html": [
       "<div>\n",
       "<style scoped>\n",
       "    .dataframe tbody tr th:only-of-type {\n",
       "        vertical-align: middle;\n",
       "    }\n",
       "\n",
       "    .dataframe tbody tr th {\n",
       "        vertical-align: top;\n",
       "    }\n",
       "\n",
       "    .dataframe thead th {\n",
       "        text-align: right;\n",
       "    }\n",
       "</style>\n",
       "<table border=\"1\" class=\"dataframe\">\n",
       "  <thead>\n",
       "    <tr style=\"text-align: right;\">\n",
       "      <th></th>\n",
       "      <th>Lag-2</th>\n",
       "      <th>Lag-7</th>\n",
       "    </tr>\n",
       "  </thead>\n",
       "  <tbody>\n",
       "    <tr>\n",
       "      <th>0</th>\n",
       "      <td>NaN</td>\n",
       "      <td>NaN</td>\n",
       "    </tr>\n",
       "    <tr>\n",
       "      <th>1</th>\n",
       "      <td>NaN</td>\n",
       "      <td>NaN</td>\n",
       "    </tr>\n",
       "  </tbody>\n",
       "</table>\n",
       "</div>"
      ],
      "text/plain": [
       "   Lag-2  Lag-7\n",
       "0    NaN    NaN\n",
       "1    NaN    NaN"
      ]
     },
     "execution_count": 6,
     "metadata": {},
     "output_type": "execute_result"
    }
   ],
   "source": [
    "Load_lags = lagGenerator(dF=zoneData, lagList=[2,7])\n",
    "Load_lags.head(2)"
   ]
  },
  {
   "cell_type": "code",
   "execution_count": 7,
   "id": "05896954",
   "metadata": {},
   "outputs": [
    {
     "data": {
      "text/html": [
       "<div>\n",
       "<style scoped>\n",
       "    .dataframe tbody tr th:only-of-type {\n",
       "        vertical-align: middle;\n",
       "    }\n",
       "\n",
       "    .dataframe tbody tr th {\n",
       "        vertical-align: top;\n",
       "    }\n",
       "\n",
       "    .dataframe thead th {\n",
       "        text-align: right;\n",
       "    }\n",
       "</style>\n",
       "<table border=\"1\" class=\"dataframe\">\n",
       "  <thead>\n",
       "    <tr style=\"text-align: right;\">\n",
       "      <th></th>\n",
       "      <th>Load_PT</th>\n",
       "      <th>Temp_PT</th>\n",
       "      <th>Lag-2</th>\n",
       "      <th>Lag-7</th>\n",
       "    </tr>\n",
       "  </thead>\n",
       "  <tbody>\n",
       "    <tr>\n",
       "      <th>0</th>\n",
       "      <td>6047.2</td>\n",
       "      <td>4.941</td>\n",
       "      <td>5740.7</td>\n",
       "      <td>0.0</td>\n",
       "    </tr>\n",
       "    <tr>\n",
       "      <th>1</th>\n",
       "      <td>5531.3</td>\n",
       "      <td>4.527</td>\n",
       "      <td>5270.9</td>\n",
       "      <td>5123.9</td>\n",
       "    </tr>\n",
       "    <tr>\n",
       "      <th>2</th>\n",
       "      <td>5255.4</td>\n",
       "      <td>4.240</td>\n",
       "      <td>4964.8</td>\n",
       "      <td>4771.1</td>\n",
       "    </tr>\n",
       "    <tr>\n",
       "      <th>3</th>\n",
       "      <td>5121.0</td>\n",
       "      <td>3.992</td>\n",
       "      <td>4851.3</td>\n",
       "      <td>4443.5</td>\n",
       "    </tr>\n",
       "    <tr>\n",
       "      <th>4</th>\n",
       "      <td>5076.9</td>\n",
       "      <td>3.816</td>\n",
       "      <td>4818.9</td>\n",
       "      <td>4234.9</td>\n",
       "    </tr>\n",
       "    <tr>\n",
       "      <th>...</th>\n",
       "      <td>...</td>\n",
       "      <td>...</td>\n",
       "      <td>...</td>\n",
       "      <td>...</td>\n",
       "    </tr>\n",
       "    <tr>\n",
       "      <th>43651</th>\n",
       "      <td>6788.8</td>\n",
       "      <td>9.646</td>\n",
       "      <td>6455.6</td>\n",
       "      <td>6030.4</td>\n",
       "    </tr>\n",
       "    <tr>\n",
       "      <th>43652</th>\n",
       "      <td>6193.0</td>\n",
       "      <td>9.172</td>\n",
       "      <td>6411.9</td>\n",
       "      <td>5400.7</td>\n",
       "    </tr>\n",
       "    <tr>\n",
       "      <th>43653</th>\n",
       "      <td>5706.9</td>\n",
       "      <td>8.705</td>\n",
       "      <td>6226.7</td>\n",
       "      <td>4945.0</td>\n",
       "    </tr>\n",
       "    <tr>\n",
       "      <th>43654</th>\n",
       "      <td>5484.7</td>\n",
       "      <td>8.218</td>\n",
       "      <td>5857.5</td>\n",
       "      <td>4814.1</td>\n",
       "    </tr>\n",
       "    <tr>\n",
       "      <th>43655</th>\n",
       "      <td>5243.8</td>\n",
       "      <td>7.735</td>\n",
       "      <td>5406.3</td>\n",
       "      <td>4683.2</td>\n",
       "    </tr>\n",
       "  </tbody>\n",
       "</table>\n",
       "<p>43656 rows × 4 columns</p>\n",
       "</div>"
      ],
      "text/plain": [
       "       Load_PT  Temp_PT   Lag-2   Lag-7\n",
       "0       6047.2    4.941  5740.7     0.0\n",
       "1       5531.3    4.527  5270.9  5123.9\n",
       "2       5255.4    4.240  4964.8  4771.1\n",
       "3       5121.0    3.992  4851.3  4443.5\n",
       "4       5076.9    3.816  4818.9  4234.9\n",
       "...        ...      ...     ...     ...\n",
       "43651   6788.8    9.646  6455.6  6030.4\n",
       "43652   6193.0    9.172  6411.9  5400.7\n",
       "43653   5706.9    8.705  6226.7  4945.0\n",
       "43654   5484.7    8.218  5857.5  4814.1\n",
       "43655   5243.8    7.735  5406.3  4683.2\n",
       "\n",
       "[43656 rows x 4 columns]"
      ]
     },
     "execution_count": 7,
     "metadata": {},
     "output_type": "execute_result"
    }
   ],
   "source": [
    "dataDf = pd.concat([zoneData, Load_lags], axis= 1).dropna(axis= 0).reset_index(drop= True)\n",
    "dataDf"
   ]
  },
  {
   "cell_type": "code",
   "execution_count": 8,
   "id": "6ad25321",
   "metadata": {},
   "outputs": [],
   "source": [
    "# Setting the train-test split ratio\n",
    "ratio = 0.1"
   ]
  },
  {
   "cell_type": "code",
   "execution_count": 9,
   "id": "3c08d963",
   "metadata": {},
   "outputs": [],
   "source": [
    "Num_train, Num_test = int(len(dataDf)/24 * (1 - ratio)) * 24, int(len(dataDf)/24 * ratio) * 24"
   ]
  },
  {
   "cell_type": "code",
   "execution_count": 10,
   "id": "cbe069ff",
   "metadata": {},
   "outputs": [],
   "source": [
    "# Splitting the data into train and test\n",
    "data_train, data_test = dataDf[:Num_train], dataDf[Num_train:]"
   ]
  },
  {
   "cell_type": "code",
   "execution_count": 11,
   "id": "d84e15c4",
   "metadata": {},
   "outputs": [],
   "source": [
    "Num_train, Num_valid = int(len(data_train)/24 * (1 - ratio)) * 24, int(len(data_train)/24 * ratio) * 24"
   ]
  },
  {
   "cell_type": "code",
   "execution_count": 12,
   "id": "c17d1723",
   "metadata": {},
   "outputs": [],
   "source": [
    "# Splitting the data into train and test\n",
    "data_train, data_valid = data_train[:Num_train], data_train[Num_train:]"
   ]
  },
  {
   "cell_type": "markdown",
   "id": "88d32011",
   "metadata": {},
   "source": [
    "### SPLITTING INTO X AND Y PART WITH SEQUENCE BATCHING"
   ]
  },
  {
   "cell_type": "code",
   "execution_count": 13,
   "id": "4ba286ca",
   "metadata": {},
   "outputs": [],
   "source": [
    "X_train_df, Y_train_df = data_train.iloc[:, 1:], data_train.iloc[:, :1]\n",
    "\n",
    "X_valid_df, Y_valid_df = data_valid.iloc[:, 1:], data_valid.iloc[:, :1]\n",
    "\n",
    "X_test_df, Y_test_df = data_test.iloc[:, 1:], data_test.iloc[:, :1]"
   ]
  },
  {
   "cell_type": "code",
   "execution_count": 14,
   "id": "ef1d9079",
   "metadata": {},
   "outputs": [],
   "source": [
    "# Preparing the scaler\n",
    "ValScaler = MinMaxScaler()\n",
    "\n",
    "X_train = ValScaler.fit_transform(X_train_df)\n",
    "X_valid = ValScaler.transform(X_valid_df)\n",
    "X_test = ValScaler.transform(X_test_df)\n",
    "\n",
    "Y_train = ValScaler.fit_transform(Y_train_df)\n",
    "Y_valid = ValScaler.transform(Y_valid_df)\n",
    "Y_test = ValScaler.transform(Y_test_df)"
   ]
  },
  {
   "cell_type": "code",
   "execution_count": 15,
   "id": "43594401",
   "metadata": {},
   "outputs": [],
   "source": [
    "def splitData(dataset):\n",
    "    data = np.array(np.split(dataset, len(dataset)/24))\n",
    "    return data"
   ]
  },
  {
   "cell_type": "code",
   "execution_count": 16,
   "id": "300696b2",
   "metadata": {},
   "outputs": [],
   "source": [
    "def supervisedSet(X_part, Y_part, steps= 24):\n",
    "    X_array, Y_array = np.array(X_part), np.array(Y_part)\n",
    "    X, Y = [], []\n",
    "    \n",
    "    for i in range(len(X_array)):\n",
    "        endIdx = i + steps\n",
    "        \n",
    "        if endIdx > len(X_array):\n",
    "            break\n",
    "        \n",
    "        batch_X, batch_Y = X_array[i:endIdx], Y_array[i:endIdx]\n",
    "        \n",
    "        X.append(batch_X)\n",
    "        Y.append(batch_Y)\n",
    "        \n",
    "    return np.array(X), np.array(Y)"
   ]
  },
  {
   "cell_type": "code",
   "execution_count": 17,
   "id": "fc9cd97d",
   "metadata": {},
   "outputs": [],
   "source": [
    "X_train, Y_train = supervisedSet(X_train, Y_train)\n",
    "\n",
    "X_valid, Y_valid = splitData(X_valid), splitData(Y_valid)\n",
    "\n",
    "X_test, Y_test = splitData(X_test), splitData(Y_test)"
   ]
  },
  {
   "cell_type": "markdown",
   "id": "a2a6bf32",
   "metadata": {},
   "source": [
    "### WORKING ON THE MODEL"
   ]
  },
  {
   "cell_type": "code",
   "execution_count": 18,
   "id": "ff71a98c",
   "metadata": {},
   "outputs": [],
   "source": [
    "epochs = 100\n",
    "batchSize = 32"
   ]
  },
  {
   "cell_type": "code",
   "execution_count": 19,
   "id": "8d600c17",
   "metadata": {},
   "outputs": [],
   "source": [
    "# Encoder-decoder architecture [tanh required to use tensorflow on gpu]\n",
    "model = tf.keras.Sequential([\n",
    "    tf.keras.layers.LSTM(units= 128, activation= \"tanh\", input_shape= (X_train.shape[1], X_train.shape[2]), dropout= 0.2),\n",
    "    tf.keras.layers.RepeatVector(Y_train.shape[1]),\n",
    "    tf.keras.layers.LSTM(units= 128, activation= \"tanh\", return_sequences= True, dropout= 0.2),\n",
    "    tf.keras.layers.TimeDistributed(tf.keras.layers.Dense(units= 128, activation= \"relu\")),\n",
    "    tf.keras.layers.Dropout(0.2),\n",
    "    tf.keras.layers.TimeDistributed(tf.keras.layers.Dense(units= 1))\n",
    "])\n",
    "\n",
    "model.compile(loss= \"mse\", optimizer= \"adam\",  metrics= ['mape', 'mae'])"
   ]
  },
  {
   "cell_type": "code",
   "execution_count": 20,
   "id": "a05c033a",
   "metadata": {},
   "outputs": [],
   "source": [
    "# model = tf.keras.Sequential([\n",
    "#     tf.keras.layers.LSTM(units= 256, activation= \"tanh\", input_shape= (X_train.shape[1], X_train.shape[2])),\n",
    "#     tf.keras.layers.Dense(units= 128, activation= \"tanh\"),\n",
    "#     tf.keras.layers.Dense(units= 1)\n",
    "# ])\n",
    "\n",
    "# model.compile(loss= \"mse\", optimizer= \"adam\",  metrics= ['mape', 'mae'])"
   ]
  },
  {
   "cell_type": "code",
   "execution_count": 21,
   "id": "c9390383",
   "metadata": {},
   "outputs": [],
   "source": [
    "# Storing the start time of model fitting process\n",
    "startTime = time.time()"
   ]
  },
  {
   "cell_type": "code",
   "execution_count": 22,
   "id": "e526e3ed",
   "metadata": {},
   "outputs": [
    {
     "name": "stdout",
     "output_type": "stream",
     "text": [
      "Epoch 1/100\n",
      "1105/1105 [==============================] - 33s 16ms/step - loss: 0.0188 - mape: 7138.0752 - mae: 0.1079 - val_loss: 0.0350 - val_mape: 34.0531 - val_mae: 0.1487\n",
      "Epoch 2/100\n",
      "1105/1105 [==============================] - 17s 16ms/step - loss: 0.0081 - mape: 4164.2754 - mae: 0.0671 - val_loss: 0.0185 - val_mape: 27.6355 - val_mae: 0.1139\n",
      "Epoch 3/100\n",
      "1105/1105 [==============================] - 16s 15ms/step - loss: 0.0069 - mape: 4144.7896 - mae: 0.0605 - val_loss: 0.0171 - val_mape: 26.2151 - val_mae: 0.1084\n",
      "Epoch 4/100\n",
      "1105/1105 [==============================] - 17s 15ms/step - loss: 0.0063 - mape: 3957.2505 - mae: 0.0575 - val_loss: 0.0294 - val_mape: 35.8883 - val_mae: 0.1462\n",
      "Epoch 5/100\n",
      "1105/1105 [==============================] - 15s 14ms/step - loss: 0.0058 - mape: 3479.3821 - mae: 0.0548 - val_loss: 0.0379 - val_mape: 42.5247 - val_mae: 0.1721\n",
      "Epoch 6/100\n",
      "1105/1105 [==============================] - 15s 14ms/step - loss: 0.0055 - mape: 3786.9263 - mae: 0.0529 - val_loss: 0.0271 - val_mape: 39.2581 - val_mae: 0.1486\n",
      "Epoch 7/100\n",
      "1105/1105 [==============================] - 16s 14ms/step - loss: 0.0052 - mape: 3756.0295 - mae: 0.0510 - val_loss: 0.0196 - val_mape: 32.3536 - val_mae: 0.1215\n",
      "Epoch 8/100\n",
      "1105/1105 [==============================] - 16s 14ms/step - loss: 0.0049 - mape: 3658.1660 - mae: 0.0495 - val_loss: 0.0158 - val_mape: 28.2794 - val_mae: 0.1069\n",
      "Epoch 9/100\n",
      "1105/1105 [==============================] - 15s 14ms/step - loss: 0.0048 - mape: 3400.6167 - mae: 0.0487 - val_loss: 0.0333 - val_mape: 41.7801 - val_mae: 0.1626\n",
      "Epoch 10/100\n",
      "1105/1105 [==============================] - 16s 14ms/step - loss: 0.0046 - mape: 3383.7224 - mae: 0.0476 - val_loss: 0.0215 - val_mape: 34.6396 - val_mae: 0.1300\n",
      "Epoch 11/100\n",
      "1105/1105 [==============================] - 16s 14ms/step - loss: 0.0045 - mape: 3285.1963 - mae: 0.0466 - val_loss: 0.0291 - val_mape: 36.6526 - val_mae: 0.1492\n",
      "Epoch 12/100\n",
      "1105/1105 [==============================] - 15s 14ms/step - loss: 0.0043 - mape: 3421.9106 - mae: 0.0456 - val_loss: 0.0200 - val_mape: 33.5634 - val_mae: 0.1244\n",
      "Epoch 13/100\n",
      "1105/1105 [==============================] - 15s 14ms/step - loss: 0.0042 - mape: 3563.2185 - mae: 0.0453 - val_loss: 0.0214 - val_mape: 35.7297 - val_mae: 0.1312\n",
      "Epoch 14/100\n",
      "1105/1105 [==============================] - 15s 14ms/step - loss: 0.0041 - mape: 3106.5486 - mae: 0.0446 - val_loss: 0.0173 - val_mape: 30.5133 - val_mae: 0.1124\n",
      "Epoch 15/100\n",
      "1105/1105 [==============================] - 16s 14ms/step - loss: 0.0040 - mape: 3470.9187 - mae: 0.0438 - val_loss: 0.0157 - val_mape: 29.3914 - val_mae: 0.1072\n",
      "Epoch 16/100\n",
      "1105/1105 [==============================] - 16s 14ms/step - loss: 0.0039 - mape: 3332.2722 - mae: 0.0432 - val_loss: 0.0243 - val_mape: 36.1354 - val_mae: 0.1385\n",
      "Epoch 17/100\n",
      "1105/1105 [==============================] - 16s 14ms/step - loss: 0.0039 - mape: 3450.9700 - mae: 0.0429 - val_loss: 0.0234 - val_mape: 34.9481 - val_mae: 0.1354\n",
      "Epoch 18/100\n",
      "1105/1105 [==============================] - 16s 14ms/step - loss: 0.0038 - mape: 3104.1497 - mae: 0.0423 - val_loss: 0.0260 - val_mape: 36.7444 - val_mae: 0.1405\n",
      "Epoch 19/100\n",
      "1105/1105 [==============================] - 16s 14ms/step - loss: 0.0037 - mape: 3533.5256 - mae: 0.0416 - val_loss: 0.0210 - val_mape: 35.7357 - val_mae: 0.1274\n",
      "Epoch 20/100\n",
      "1105/1105 [==============================] - 16s 14ms/step - loss: 0.0036 - mape: 3646.0776 - mae: 0.0410 - val_loss: 0.0153 - val_mape: 30.3605 - val_mae: 0.1087\n",
      "Epoch 21/100\n",
      "1105/1105 [==============================] - 16s 14ms/step - loss: 0.0035 - mape: 3548.9307 - mae: 0.0406 - val_loss: 0.0236 - val_mape: 37.5898 - val_mae: 0.1371\n",
      "Epoch 22/100\n",
      "1105/1105 [==============================] - 17s 15ms/step - loss: 0.0035 - mape: 3397.2815 - mae: 0.0403 - val_loss: 0.0193 - val_mape: 34.3342 - val_mae: 0.1206\n",
      "Epoch 23/100\n",
      "1105/1105 [==============================] - 16s 14ms/step - loss: 0.0035 - mape: 3322.0913 - mae: 0.0401 - val_loss: 0.0220 - val_mape: 35.6496 - val_mae: 0.1313\n",
      "Epoch 24/100\n",
      "1105/1105 [==============================] - 16s 15ms/step - loss: 0.0034 - mape: 3182.5596 - mae: 0.0400 - val_loss: 0.0190 - val_mape: 30.0682 - val_mae: 0.1157\n",
      "Epoch 25/100\n",
      "1105/1105 [==============================] - 16s 15ms/step - loss: 0.0033 - mape: 3248.2097 - mae: 0.0393 - val_loss: 0.0230 - val_mape: 37.4766 - val_mae: 0.1344\n",
      "Epoch 26/100\n",
      "1105/1105 [==============================] - 19s 17ms/step - loss: 0.0033 - mape: 3538.9248 - mae: 0.0392 - val_loss: 0.0237 - val_mape: 35.4687 - val_mae: 0.1326\n",
      "Epoch 27/100\n",
      "1105/1105 [==============================] - 16s 14ms/step - loss: 0.0032 - mape: 2881.8218 - mae: 0.0387 - val_loss: 0.0246 - val_mape: 37.3103 - val_mae: 0.1368\n",
      "Epoch 28/100\n",
      "1105/1105 [==============================] - 16s 15ms/step - loss: 0.0031 - mape: 2829.4688 - mae: 0.0379 - val_loss: 0.0193 - val_mape: 33.4842 - val_mae: 0.1194\n",
      "Epoch 29/100\n",
      "1105/1105 [==============================] - 17s 16ms/step - loss: 0.0031 - mape: 3328.6135 - mae: 0.0379 - val_loss: 0.0135 - val_mape: 25.9675 - val_mae: 0.0981\n",
      "Epoch 30/100\n",
      "1105/1105 [==============================] - 17s 15ms/step - loss: 0.0031 - mape: 3188.1094 - mae: 0.0377 - val_loss: 0.0225 - val_mape: 33.8972 - val_mae: 0.1278\n",
      "Epoch 31/100\n",
      "1105/1105 [==============================] - 17s 15ms/step - loss: 0.0030 - mape: 3204.2593 - mae: 0.0375 - val_loss: 0.0273 - val_mape: 38.8377 - val_mae: 0.1469\n",
      "Epoch 32/100\n",
      "1105/1105 [==============================] - 16s 15ms/step - loss: 0.0030 - mape: 2754.1799 - mae: 0.0374 - val_loss: 0.0192 - val_mape: 31.7880 - val_mae: 0.1171\n",
      "Epoch 33/100\n",
      "1105/1105 [==============================] - 17s 15ms/step - loss: 0.0029 - mape: 3018.1455 - mae: 0.0364 - val_loss: 0.0189 - val_mape: 32.6905 - val_mae: 0.1191\n",
      "Epoch 34/100\n",
      "1105/1105 [==============================] - 16s 15ms/step - loss: 0.0029 - mape: 2750.8323 - mae: 0.0365 - val_loss: 0.0230 - val_mape: 34.9022 - val_mae: 0.1296\n",
      "Epoch 35/100\n",
      "1105/1105 [==============================] - 17s 15ms/step - loss: 0.0029 - mape: 2727.4932 - mae: 0.0362 - val_loss: 0.0253 - val_mape: 39.0449 - val_mae: 0.1420\n",
      "Epoch 36/100\n",
      "1105/1105 [==============================] - 16s 15ms/step - loss: 0.0029 - mape: 3211.2720 - mae: 0.0364 - val_loss: 0.0196 - val_mape: 32.8710 - val_mae: 0.1212\n",
      "Epoch 37/100\n",
      "1105/1105 [==============================] - 17s 15ms/step - loss: 0.0028 - mape: 2553.1807 - mae: 0.0362 - val_loss: 0.0229 - val_mape: 33.7817 - val_mae: 0.1265\n",
      "Epoch 38/100\n",
      "1105/1105 [==============================] - 17s 15ms/step - loss: 0.0028 - mape: 2711.0957 - mae: 0.0358 - val_loss: 0.0258 - val_mape: 38.8050 - val_mae: 0.1413\n",
      "Epoch 39/100\n",
      "1105/1105 [==============================] - 17s 15ms/step - loss: 0.0027 - mape: 2580.7437 - mae: 0.0354 - val_loss: 0.0219 - val_mape: 34.7532 - val_mae: 0.1275\n",
      "Epoch 40/100\n",
      "1105/1105 [==============================] - 16s 15ms/step - loss: 0.0027 - mape: 2935.6140 - mae: 0.0355 - val_loss: 0.0232 - val_mape: 36.0853 - val_mae: 0.1316\n",
      "Epoch 41/100\n",
      "1105/1105 [==============================] - 17s 15ms/step - loss: 0.0027 - mape: 2316.7676 - mae: 0.0354 - val_loss: 0.0181 - val_mape: 29.9038 - val_mae: 0.1121\n",
      "Epoch 42/100\n",
      "1105/1105 [==============================] - 16s 14ms/step - loss: 0.0026 - mape: 2345.2627 - mae: 0.0348 - val_loss: 0.0213 - val_mape: 32.5389 - val_mae: 0.1221\n",
      "Epoch 43/100\n",
      "1105/1105 [==============================] - 17s 15ms/step - loss: 0.0026 - mape: 2204.3948 - mae: 0.0348 - val_loss: 0.0252 - val_mape: 33.2944 - val_mae: 0.1322\n",
      "Epoch 44/100\n",
      "1105/1105 [==============================] - 16s 14ms/step - loss: 0.0026 - mape: 2059.9199 - mae: 0.0346 - val_loss: 0.0233 - val_mape: 34.8206 - val_mae: 0.1307\n",
      "Epoch 45/100\n",
      "1105/1105 [==============================] - 17s 15ms/step - loss: 0.0026 - mape: 2650.4014 - mae: 0.0343 - val_loss: 0.0222 - val_mape: 35.2901 - val_mae: 0.1260\n",
      "Epoch 46/100\n",
      "1105/1105 [==============================] - 16s 15ms/step - loss: 0.0026 - mape: 2228.6353 - mae: 0.0345 - val_loss: 0.0211 - val_mape: 31.2337 - val_mae: 0.1161\n",
      "Epoch 47/100\n"
     ]
    },
    {
     "name": "stdout",
     "output_type": "stream",
     "text": [
      "1105/1105 [==============================] - 17s 15ms/step - loss: 0.0026 - mape: 1954.9202 - mae: 0.0344 - val_loss: 0.0205 - val_mape: 32.0241 - val_mae: 0.1189\n",
      "Epoch 48/100\n",
      "1105/1105 [==============================] - 16s 15ms/step - loss: 0.0025 - mape: 2110.6982 - mae: 0.0341 - val_loss: 0.0207 - val_mape: 30.9958 - val_mae: 0.1203\n",
      "Epoch 49/100\n",
      "1105/1105 [==============================] - 18s 16ms/step - loss: 0.0025 - mape: 2356.5078 - mae: 0.0343 - val_loss: 0.0217 - val_mape: 32.4165 - val_mae: 0.1217\n",
      "Epoch 50/100\n",
      "1105/1105 [==============================] - 18s 16ms/step - loss: 0.0025 - mape: 2221.5466 - mae: 0.0337 - val_loss: 0.0242 - val_mape: 36.1823 - val_mae: 0.1328\n",
      "Epoch 51/100\n",
      "1105/1105 [==============================] - 17s 16ms/step - loss: 0.0024 - mape: 2030.7837 - mae: 0.0334 - val_loss: 0.0230 - val_mape: 33.0908 - val_mae: 0.1242\n",
      "Epoch 52/100\n",
      "1105/1105 [==============================] - 17s 16ms/step - loss: 0.0024 - mape: 2151.8254 - mae: 0.0333 - val_loss: 0.0216 - val_mape: 35.4167 - val_mae: 0.1234\n",
      "Epoch 53/100\n",
      "1105/1105 [==============================] - 18s 16ms/step - loss: 0.0025 - mape: 2644.8630 - mae: 0.0336 - val_loss: 0.0257 - val_mape: 34.9046 - val_mae: 0.1312\n",
      "Epoch 54/100\n",
      "1105/1105 [==============================] - 18s 16ms/step - loss: 0.0024 - mape: 2208.9553 - mae: 0.0330 - val_loss: 0.0177 - val_mape: 31.2591 - val_mae: 0.1108\n",
      "Epoch 55/100\n",
      "1105/1105 [==============================] - 18s 16ms/step - loss: 0.0023 - mape: 2304.6946 - mae: 0.0328 - val_loss: 0.0205 - val_mape: 33.5331 - val_mae: 0.1196\n",
      "Epoch 56/100\n",
      "1105/1105 [==============================] - 18s 16ms/step - loss: 0.0023 - mape: 1878.7799 - mae: 0.0326 - val_loss: 0.0210 - val_mape: 32.4257 - val_mae: 0.1206\n",
      "Epoch 57/100\n",
      "1105/1105 [==============================] - 18s 17ms/step - loss: 0.0023 - mape: 1985.9177 - mae: 0.0327 - val_loss: 0.0212 - val_mape: 32.6722 - val_mae: 0.1183\n",
      "Epoch 58/100\n",
      "1105/1105 [==============================] - 18s 16ms/step - loss: 0.0023 - mape: 2283.7537 - mae: 0.0326 - val_loss: 0.0215 - val_mape: 32.4893 - val_mae: 0.1204\n",
      "Epoch 59/100\n",
      "1105/1105 [==============================] - 18s 16ms/step - loss: 0.0021 - mape: 1994.8931 - mae: 0.0316 - val_loss: 0.0208 - val_mape: 32.1561 - val_mae: 0.1206\n",
      "Epoch 60/100\n",
      "1105/1105 [==============================] - 18s 17ms/step - loss: 0.0022 - mape: 1807.3553 - mae: 0.0319 - val_loss: 0.0178 - val_mape: 29.4326 - val_mae: 0.1082\n",
      "Epoch 61/100\n",
      "1105/1105 [==============================] - 18s 17ms/step - loss: 0.0021 - mape: 1735.3123 - mae: 0.0316 - val_loss: 0.0191 - val_mape: 29.9536 - val_mae: 0.1099\n",
      "Epoch 62/100\n",
      "1105/1105 [==============================] - 19s 17ms/step - loss: 0.0022 - mape: 1772.2157 - mae: 0.0317 - val_loss: 0.0200 - val_mape: 32.7306 - val_mae: 0.1180\n",
      "Epoch 63/100\n",
      "1105/1105 [==============================] - 19s 17ms/step - loss: 0.0021 - mape: 1769.6063 - mae: 0.0316 - val_loss: 0.0210 - val_mape: 31.2003 - val_mae: 0.1165\n",
      "Epoch 64/100\n",
      "1105/1105 [==============================] - 19s 17ms/step - loss: 0.0021 - mape: 1739.7554 - mae: 0.0314 - val_loss: 0.0237 - val_mape: 33.9320 - val_mae: 0.1269\n",
      "Epoch 65/100\n",
      "1105/1105 [==============================] - 19s 17ms/step - loss: 0.0021 - mape: 1732.5897 - mae: 0.0313 - val_loss: 0.0210 - val_mape: 32.9606 - val_mae: 0.1194\n",
      "Epoch 66/100\n",
      "1105/1105 [==============================] - 19s 18ms/step - loss: 0.0022 - mape: 2131.1575 - mae: 0.0317 - val_loss: 0.0263 - val_mape: 35.5947 - val_mae: 0.1367\n",
      "Epoch 67/100\n",
      "1105/1105 [==============================] - 19s 18ms/step - loss: 0.0020 - mape: 1888.8683 - mae: 0.0309 - val_loss: 0.0200 - val_mape: 30.1891 - val_mae: 0.1145\n",
      "Epoch 68/100\n",
      "1105/1105 [==============================] - 19s 17ms/step - loss: 0.0021 - mape: 2109.1177 - mae: 0.0314 - val_loss: 0.0210 - val_mape: 30.6225 - val_mae: 0.1149\n",
      "Epoch 69/100\n",
      "1105/1105 [==============================] - 19s 18ms/step - loss: 0.0021 - mape: 1674.4297 - mae: 0.0314 - val_loss: 0.0228 - val_mape: 32.8167 - val_mae: 0.1252\n",
      "Epoch 70/100\n",
      "1105/1105 [==============================] - 19s 17ms/step - loss: 0.0020 - mape: 2085.9507 - mae: 0.0307 - val_loss: 0.0270 - val_mape: 36.4926 - val_mae: 0.1377\n",
      "Epoch 71/100\n",
      "1105/1105 [==============================] - 19s 17ms/step - loss: 0.0020 - mape: 1889.6132 - mae: 0.0305 - val_loss: 0.0258 - val_mape: 36.0995 - val_mae: 0.1343\n",
      "Epoch 72/100\n",
      "1105/1105 [==============================] - 20s 18ms/step - loss: 0.0019 - mape: 1525.6567 - mae: 0.0300 - val_loss: 0.0235 - val_mape: 33.8126 - val_mae: 0.1257\n",
      "Epoch 73/100\n",
      "1105/1105 [==============================] - 20s 18ms/step - loss: 0.0019 - mape: 1412.1001 - mae: 0.0300 - val_loss: 0.0260 - val_mape: 34.4301 - val_mae: 0.1315\n",
      "Epoch 74/100\n",
      "1105/1105 [==============================] - 19s 17ms/step - loss: 0.0018 - mape: 1994.5123 - mae: 0.0296 - val_loss: 0.0247 - val_mape: 33.9472 - val_mae: 0.1283\n",
      "Epoch 75/100\n",
      "1105/1105 [==============================] - 19s 18ms/step - loss: 0.0018 - mape: 2076.2646 - mae: 0.0295 - val_loss: 0.0232 - val_mape: 33.9659 - val_mae: 0.1287\n",
      "Epoch 76/100\n",
      "1105/1105 [==============================] - 20s 18ms/step - loss: 0.0019 - mape: 1676.4377 - mae: 0.0300 - val_loss: 0.0233 - val_mape: 34.0920 - val_mae: 0.1253\n",
      "Epoch 77/100\n",
      "1105/1105 [==============================] - 20s 18ms/step - loss: 0.0018 - mape: 1650.3629 - mae: 0.0291 - val_loss: 0.0282 - val_mape: 38.0133 - val_mae: 0.1402\n",
      "Epoch 78/100\n",
      "1105/1105 [==============================] - 20s 18ms/step - loss: 0.0019 - mape: 1295.2351 - mae: 0.0301 - val_loss: 0.0213 - val_mape: 32.2406 - val_mae: 0.1203\n",
      "Epoch 79/100\n",
      "1105/1105 [==============================] - 20s 18ms/step - loss: 0.0018 - mape: 1479.9722 - mae: 0.0291 - val_loss: 0.0223 - val_mape: 32.8377 - val_mae: 0.1212\n",
      "Epoch 80/100\n",
      "1105/1105 [==============================] - 20s 18ms/step - loss: 0.0017 - mape: 1624.2432 - mae: 0.0286 - val_loss: 0.0242 - val_mape: 33.9196 - val_mae: 0.1257\n",
      "Epoch 81/100\n",
      "1105/1105 [==============================] - 20s 18ms/step - loss: 0.0017 - mape: 1447.7670 - mae: 0.0290 - val_loss: 0.0201 - val_mape: 31.6680 - val_mae: 0.1127\n",
      "Epoch 82/100\n",
      "1105/1105 [==============================] - 20s 18ms/step - loss: 0.0017 - mape: 1724.0812 - mae: 0.0290 - val_loss: 0.0252 - val_mape: 34.9377 - val_mae: 0.1309\n",
      "Epoch 83/100\n",
      "1105/1105 [==============================] - 20s 18ms/step - loss: 0.0018 - mape: 1274.9944 - mae: 0.0290 - val_loss: 0.0249 - val_mape: 34.1577 - val_mae: 0.1300\n",
      "Epoch 84/100\n",
      "1105/1105 [==============================] - 20s 18ms/step - loss: 0.0017 - mape: 1653.9988 - mae: 0.0288 - val_loss: 0.0236 - val_mape: 34.9622 - val_mae: 0.1273\n",
      "Epoch 85/100\n",
      "1105/1105 [==============================] - 20s 18ms/step - loss: 0.0017 - mape: 1633.2784 - mae: 0.0285 - val_loss: 0.0281 - val_mape: 37.5577 - val_mae: 0.1369\n",
      "Epoch 86/100\n",
      "1105/1105 [==============================] - 19s 17ms/step - loss: 0.0017 - mape: 1575.7994 - mae: 0.0284 - val_loss: 0.0263 - val_mape: 35.8791 - val_mae: 0.1349\n",
      "Epoch 87/100\n",
      "1105/1105 [==============================] - 20s 18ms/step - loss: 0.0016 - mape: 1318.6968 - mae: 0.0278 - val_loss: 0.0277 - val_mape: 38.7370 - val_mae: 0.1419\n",
      "Epoch 88/100\n",
      "1105/1105 [==============================] - 19s 17ms/step - loss: 0.0017 - mape: 1916.9305 - mae: 0.0285 - val_loss: 0.0229 - val_mape: 32.6040 - val_mae: 0.1247\n",
      "Epoch 89/100\n",
      "1105/1105 [==============================] - 19s 17ms/step - loss: 0.0018 - mape: 1564.0995 - mae: 0.0290 - val_loss: 0.0243 - val_mape: 34.6182 - val_mae: 0.1286\n",
      "Epoch 90/100\n",
      "1105/1105 [==============================] - 19s 17ms/step - loss: 0.0016 - mape: 1437.1991 - mae: 0.0277 - val_loss: 0.0270 - val_mape: 36.0433 - val_mae: 0.1362\n",
      "Epoch 91/100\n",
      "1105/1105 [==============================] - 19s 17ms/step - loss: 0.0016 - mape: 1337.4500 - mae: 0.0278 - val_loss: 0.0234 - val_mape: 32.6852 - val_mae: 0.1255\n",
      "Epoch 92/100\n",
      "1105/1105 [==============================] - 19s 17ms/step - loss: 0.0017 - mape: 1297.1948 - mae: 0.0281 - val_loss: 0.0229 - val_mape: 33.3758 - val_mae: 0.1262\n",
      "Epoch 93/100\n"
     ]
    },
    {
     "name": "stdout",
     "output_type": "stream",
     "text": [
      "1105/1105 [==============================] - 18s 16ms/step - loss: 0.0018 - mape: 1348.6586 - mae: 0.0288 - val_loss: 0.0228 - val_mape: 32.8775 - val_mae: 0.1249\n",
      "Epoch 94/100\n",
      "1105/1105 [==============================] - 18s 16ms/step - loss: 0.0015 - mape: 1508.9277 - mae: 0.0269 - val_loss: 0.0233 - val_mape: 33.5043 - val_mae: 0.1237\n",
      "Epoch 95/100\n",
      "1105/1105 [==============================] - 18s 16ms/step - loss: 0.0015 - mape: 1316.1479 - mae: 0.0272 - val_loss: 0.0220 - val_mape: 31.8096 - val_mae: 0.1213\n",
      "Epoch 96/100\n",
      "1105/1105 [==============================] - 18s 16ms/step - loss: 0.0015 - mape: 1006.3196 - mae: 0.0271 - val_loss: 0.0269 - val_mape: 36.0682 - val_mae: 0.1378\n",
      "Epoch 97/100\n",
      "1105/1105 [==============================] - 18s 16ms/step - loss: 0.0015 - mape: 1268.5441 - mae: 0.0272 - val_loss: 0.0225 - val_mape: 30.7708 - val_mae: 0.1200\n",
      "Epoch 98/100\n",
      "1105/1105 [==============================] - 18s 16ms/step - loss: 0.0015 - mape: 1197.4901 - mae: 0.0270 - val_loss: 0.0221 - val_mape: 32.9591 - val_mae: 0.1235\n",
      "Epoch 99/100\n",
      "1105/1105 [==============================] - 18s 16ms/step - loss: 0.0015 - mape: 1517.3717 - mae: 0.0269 - val_loss: 0.0270 - val_mape: 35.8826 - val_mae: 0.1372\n",
      "Epoch 100/100\n",
      "1105/1105 [==============================] - 18s 16ms/step - loss: 0.0015 - mape: 1382.5433 - mae: 0.0268 - val_loss: 0.0244 - val_mape: 33.7985 - val_mae: 0.1270\n"
     ]
    },
    {
     "data": {
      "text/plain": [
       "<keras.callbacks.History at 0x24006c17fd0>"
      ]
     },
     "execution_count": 22,
     "metadata": {},
     "output_type": "execute_result"
    }
   ],
   "source": [
    "model.fit(X_train, Y_train, epochs= epochs, batch_size= batchSize, verbose= 1, shuffle= True, validation_data= (X_valid, Y_valid))"
   ]
  },
  {
   "cell_type": "code",
   "execution_count": 23,
   "id": "cd839153",
   "metadata": {},
   "outputs": [
    {
     "name": "stdout",
     "output_type": "stream",
     "text": [
      "Total execution time in seconds: 1772.6559019088745\n"
     ]
    }
   ],
   "source": [
    "calcExecTime = (time.time() - startTime)\n",
    "print('Total execution time in seconds: ' + str(calcExecTime))"
   ]
  },
  {
   "cell_type": "markdown",
   "id": "72aafa74",
   "metadata": {},
   "source": [
    "### MAKING PREDICTIONS AND GENERATING RESULTS"
   ]
  },
  {
   "cell_type": "code",
   "execution_count": 24,
   "id": "259bfb49",
   "metadata": {},
   "outputs": [
    {
     "name": "stdout",
     "output_type": "stream",
     "text": [
      "6/6 [==============================] - 1s 13ms/step\n"
     ]
    }
   ],
   "source": [
    "predictions = model.predict(X_test)"
   ]
  },
  {
   "cell_type": "code",
   "execution_count": 25,
   "id": "2912d431",
   "metadata": {},
   "outputs": [
    {
     "data": {
      "text/plain": [
       "array([0.17808601, 0.13874334, 0.11625142, ..., 0.36693567, 0.31898713,\n",
       "       0.26923972], dtype=float32)"
      ]
     },
     "execution_count": 25,
     "metadata": {},
     "output_type": "execute_result"
    }
   ],
   "source": [
    "predArr = predictions.reshape(predictions.shape[0] * predictions.shape[1], predictions.shape[2]).ravel()\n",
    "predArr"
   ]
  },
  {
   "cell_type": "code",
   "execution_count": 26,
   "id": "b01889f2",
   "metadata": {},
   "outputs": [
    {
     "data": {
      "text/plain": [
       "array([0.3081441 , 0.27428828, 0.25988553, ..., 0.43412143, 0.3925592 ,\n",
       "       0.34749916])"
      ]
     },
     "execution_count": 26,
     "metadata": {},
     "output_type": "execute_result"
    }
   ],
   "source": [
    "Y_testArr = Y_test.reshape(Y_test.shape[0] * Y_test.shape[1], Y_test.shape[2]).ravel()\n",
    "Y_testArr"
   ]
  },
  {
   "cell_type": "code",
   "execution_count": 27,
   "id": "799c97e8",
   "metadata": {},
   "outputs": [],
   "source": [
    "def inverse_transform(df):\n",
    "    column_names = df.columns\n",
    "    for col in column_names:\n",
    "        df[col] = ValScaler.inverse_transform(df[[col]]) \n",
    "    return df"
   ]
  },
  {
   "cell_type": "code",
   "execution_count": 28,
   "id": "afa81e30",
   "metadata": {},
   "outputs": [
    {
     "data": {
      "text/html": [
       "<div>\n",
       "<style scoped>\n",
       "    .dataframe tbody tr th:only-of-type {\n",
       "        vertical-align: middle;\n",
       "    }\n",
       "\n",
       "    .dataframe tbody tr th {\n",
       "        vertical-align: top;\n",
       "    }\n",
       "\n",
       "    .dataframe thead th {\n",
       "        text-align: right;\n",
       "    }\n",
       "</style>\n",
       "<table border=\"1\" class=\"dataframe\">\n",
       "  <thead>\n",
       "    <tr style=\"text-align: right;\">\n",
       "      <th></th>\n",
       "      <th>Values</th>\n",
       "      <th>Predictions</th>\n",
       "    </tr>\n",
       "  </thead>\n",
       "  <tbody>\n",
       "    <tr>\n",
       "      <th>0</th>\n",
       "      <td>5033.4</td>\n",
       "      <td>4338.083496</td>\n",
       "    </tr>\n",
       "    <tr>\n",
       "      <th>1</th>\n",
       "      <td>4852.4</td>\n",
       "      <td>4127.749512</td>\n",
       "    </tr>\n",
       "    <tr>\n",
       "      <th>2</th>\n",
       "      <td>4775.4</td>\n",
       "      <td>4007.503418</td>\n",
       "    </tr>\n",
       "    <tr>\n",
       "      <th>3</th>\n",
       "      <td>4733.0</td>\n",
       "      <td>3960.605957</td>\n",
       "    </tr>\n",
       "    <tr>\n",
       "      <th>4</th>\n",
       "      <td>4740.7</td>\n",
       "      <td>3857.183105</td>\n",
       "    </tr>\n",
       "    <tr>\n",
       "      <th>...</th>\n",
       "      <td>...</td>\n",
       "      <td>...</td>\n",
       "    </tr>\n",
       "    <tr>\n",
       "      <th>4363</th>\n",
       "      <td>6788.8</td>\n",
       "      <td>6131.937988</td>\n",
       "    </tr>\n",
       "    <tr>\n",
       "      <th>4364</th>\n",
       "      <td>6193.0</td>\n",
       "      <td>5770.743652</td>\n",
       "    </tr>\n",
       "    <tr>\n",
       "      <th>4365</th>\n",
       "      <td>5706.9</td>\n",
       "      <td>5347.711914</td>\n",
       "    </tr>\n",
       "    <tr>\n",
       "      <th>4366</th>\n",
       "      <td>5484.7</td>\n",
       "      <td>5091.369141</td>\n",
       "    </tr>\n",
       "    <tr>\n",
       "      <th>4367</th>\n",
       "      <td>5243.8</td>\n",
       "      <td>4825.409180</td>\n",
       "    </tr>\n",
       "  </tbody>\n",
       "</table>\n",
       "<p>4368 rows × 2 columns</p>\n",
       "</div>"
      ],
      "text/plain": [
       "      Values  Predictions\n",
       "0     5033.4  4338.083496\n",
       "1     4852.4  4127.749512\n",
       "2     4775.4  4007.503418\n",
       "3     4733.0  3960.605957\n",
       "4     4740.7  3857.183105\n",
       "...      ...          ...\n",
       "4363  6788.8  6131.937988\n",
       "4364  6193.0  5770.743652\n",
       "4365  5706.9  5347.711914\n",
       "4366  5484.7  5091.369141\n",
       "4367  5243.8  4825.409180\n",
       "\n",
       "[4368 rows x 2 columns]"
      ]
     },
     "execution_count": 28,
     "metadata": {},
     "output_type": "execute_result"
    }
   ],
   "source": [
    "comparisionDf = pd.DataFrame(data= {\"Values\": Y_testArr, \"Predictions\": predArr})\n",
    "comparisionDf = inverse_transform(comparisionDf)\n",
    "comparisionDf"
   ]
  },
  {
   "cell_type": "code",
   "execution_count": 29,
   "id": "88222bae",
   "metadata": {},
   "outputs": [
    {
     "data": {
      "text/plain": [
       "8.848128350329985"
      ]
     },
     "execution_count": 29,
     "metadata": {},
     "output_type": "execute_result"
    }
   ],
   "source": [
    "mape(comparisionDf[\"Values\"], comparisionDf[\"Predictions\"])"
   ]
  }
 ],
 "metadata": {
  "kernelspec": {
   "display_name": "Python 3 (ipykernel)",
   "language": "python",
   "name": "python3"
  },
  "language_info": {
   "codemirror_mode": {
    "name": "ipython",
    "version": 3
   },
   "file_extension": ".py",
   "mimetype": "text/x-python",
   "name": "python",
   "nbconvert_exporter": "python",
   "pygments_lexer": "ipython3",
   "version": "3.9.12"
  }
 },
 "nbformat": 4,
 "nbformat_minor": 5
}
