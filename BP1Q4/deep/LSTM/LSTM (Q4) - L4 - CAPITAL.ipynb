{
 "cells": [
  {
   "cell_type": "code",
   "execution_count": 1,
   "id": "5f61b29f",
   "metadata": {},
   "outputs": [
    {
     "name": "stdout",
     "output_type": "stream",
     "text": [
      "Num GPUs Available:  1\n"
     ]
    }
   ],
   "source": [
    "import pandas as pd\n",
    "import numpy as np\n",
    "import os\n",
    "import matplotlib.pyplot as plt\n",
    "from datetime import datetime\n",
    "from sklearn.preprocessing import MinMaxScaler, RobustScaler, StandardScaler\n",
    "import time\n",
    "\n",
    "import tensorflow as tf\n",
    "tf.random.set_seed(42)\n",
    "\n",
    "def mape(y_true, y_pred):\n",
    "    y_true, y_pred = np.array(y_true), np.array(y_pred)\n",
    "    return np.mean(np.abs((y_true - y_pred) / max(y_true))) * 100\n",
    "\n",
    "def RMSELoss(yhat,y):\n",
    "    return torch.sqrt(torch.mean((yhat-y)**2))\n",
    "\n",
    "print(\"Num GPUs Available: \", len(tf.config.list_physical_devices('GPU')))"
   ]
  },
  {
   "cell_type": "code",
   "execution_count": 2,
   "id": "cea0abe2",
   "metadata": {},
   "outputs": [
    {
     "name": "stdout",
     "output_type": "stream",
     "text": [
      "['Capital.csv', 'Central.csv', 'Dunwoody.csv', 'Genese.csv', 'Hudson.csv', 'LongIsland.csv', 'Milwood.csv', 'NYC.csv']\n"
     ]
    }
   ],
   "source": [
    "# Specifying the path of file\n",
    "path= r\"C:\\Users\\sashah8\\OneDrive - North Carolina State University\\Desktop\\Q4\\Data\\L4\\data_cleaned\"\n",
    "\n",
    "# Listing just the required files\n",
    "fileList = os.listdir(path)\n",
    "fileList.remove(\"Date.csv\")\n",
    "\n",
    "# Previewing the required file names\n",
    "print(fileList)"
   ]
  },
  {
   "cell_type": "code",
   "execution_count": 3,
   "id": "a6fe9396",
   "metadata": {},
   "outputs": [
    {
     "data": {
      "text/html": [
       "<div>\n",
       "<style scoped>\n",
       "    .dataframe tbody tr th:only-of-type {\n",
       "        vertical-align: middle;\n",
       "    }\n",
       "\n",
       "    .dataframe tbody tr th {\n",
       "        vertical-align: top;\n",
       "    }\n",
       "\n",
       "    .dataframe thead th {\n",
       "        text-align: right;\n",
       "    }\n",
       "</style>\n",
       "<table border=\"1\" class=\"dataframe\">\n",
       "  <thead>\n",
       "    <tr style=\"text-align: right;\">\n",
       "      <th></th>\n",
       "      <th>Demand</th>\n",
       "      <th>Normalized_net</th>\n",
       "      <th>Temprature</th>\n",
       "    </tr>\n",
       "  </thead>\n",
       "  <tbody>\n",
       "    <tr>\n",
       "      <th>0</th>\n",
       "      <td>1280.8</td>\n",
       "      <td>0.531006</td>\n",
       "      <td>-5.8</td>\n",
       "    </tr>\n",
       "    <tr>\n",
       "      <th>1</th>\n",
       "      <td>1230.8</td>\n",
       "      <td>0.510277</td>\n",
       "      <td>-6.1</td>\n",
       "    </tr>\n",
       "    <tr>\n",
       "      <th>2</th>\n",
       "      <td>1198.5</td>\n",
       "      <td>0.496886</td>\n",
       "      <td>-7.5</td>\n",
       "    </tr>\n",
       "    <tr>\n",
       "      <th>3</th>\n",
       "      <td>1188.9</td>\n",
       "      <td>0.492906</td>\n",
       "      <td>-8.4</td>\n",
       "    </tr>\n",
       "    <tr>\n",
       "      <th>4</th>\n",
       "      <td>1190.9</td>\n",
       "      <td>0.493735</td>\n",
       "      <td>-7.4</td>\n",
       "    </tr>\n",
       "    <tr>\n",
       "      <th>...</th>\n",
       "      <td>...</td>\n",
       "      <td>...</td>\n",
       "      <td>...</td>\n",
       "    </tr>\n",
       "    <tr>\n",
       "      <th>43819</th>\n",
       "      <td>1452.6</td>\n",
       "      <td>0.602233</td>\n",
       "      <td>3.4</td>\n",
       "    </tr>\n",
       "    <tr>\n",
       "      <th>43820</th>\n",
       "      <td>1399.7</td>\n",
       "      <td>0.580301</td>\n",
       "      <td>3.3</td>\n",
       "    </tr>\n",
       "    <tr>\n",
       "      <th>43821</th>\n",
       "      <td>1339.0</td>\n",
       "      <td>0.555136</td>\n",
       "      <td>2.6</td>\n",
       "    </tr>\n",
       "    <tr>\n",
       "      <th>43822</th>\n",
       "      <td>1280.9</td>\n",
       "      <td>0.531048</td>\n",
       "      <td>2.7</td>\n",
       "    </tr>\n",
       "    <tr>\n",
       "      <th>43823</th>\n",
       "      <td>1225.9</td>\n",
       "      <td>0.508246</td>\n",
       "      <td>3.0</td>\n",
       "    </tr>\n",
       "  </tbody>\n",
       "</table>\n",
       "<p>43824 rows × 3 columns</p>\n",
       "</div>"
      ],
      "text/plain": [
       "       Demand  Normalized_net  Temprature\n",
       "0      1280.8        0.531006        -5.8\n",
       "1      1230.8        0.510277        -6.1\n",
       "2      1198.5        0.496886        -7.5\n",
       "3      1188.9        0.492906        -8.4\n",
       "4      1190.9        0.493735        -7.4\n",
       "...       ...             ...         ...\n",
       "43819  1452.6        0.602233         3.4\n",
       "43820  1399.7        0.580301         3.3\n",
       "43821  1339.0        0.555136         2.6\n",
       "43822  1280.9        0.531048         2.7\n",
       "43823  1225.9        0.508246         3.0\n",
       "\n",
       "[43824 rows x 3 columns]"
      ]
     },
     "execution_count": 3,
     "metadata": {},
     "output_type": "execute_result"
    }
   ],
   "source": [
    "# Just for previewing the columns\n",
    "pd.read_csv(os.path.join(path, fileList[0]))"
   ]
  },
  {
   "cell_type": "markdown",
   "id": "9ad4906c",
   "metadata": {
    "pycharm": {
     "name": "#%% md\n"
    }
   },
   "source": [
    "### PROCESSING THE DATA"
   ]
  },
  {
   "cell_type": "code",
   "execution_count": 4,
   "id": "f29f6db2",
   "metadata": {},
   "outputs": [
    {
     "data": {
      "text/html": [
       "<div>\n",
       "<style scoped>\n",
       "    .dataframe tbody tr th:only-of-type {\n",
       "        vertical-align: middle;\n",
       "    }\n",
       "\n",
       "    .dataframe tbody tr th {\n",
       "        vertical-align: top;\n",
       "    }\n",
       "\n",
       "    .dataframe thead th {\n",
       "        text-align: right;\n",
       "    }\n",
       "</style>\n",
       "<table border=\"1\" class=\"dataframe\">\n",
       "  <thead>\n",
       "    <tr style=\"text-align: right;\">\n",
       "      <th></th>\n",
       "      <th>Load_Capital</th>\n",
       "      <th>Temp_Capital</th>\n",
       "    </tr>\n",
       "  </thead>\n",
       "  <tbody>\n",
       "    <tr>\n",
       "      <th>0</th>\n",
       "      <td>1280.8</td>\n",
       "      <td>-5.8</td>\n",
       "    </tr>\n",
       "    <tr>\n",
       "      <th>1</th>\n",
       "      <td>1230.8</td>\n",
       "      <td>-6.1</td>\n",
       "    </tr>\n",
       "    <tr>\n",
       "      <th>2</th>\n",
       "      <td>1198.5</td>\n",
       "      <td>-7.5</td>\n",
       "    </tr>\n",
       "    <tr>\n",
       "      <th>3</th>\n",
       "      <td>1188.9</td>\n",
       "      <td>-8.4</td>\n",
       "    </tr>\n",
       "    <tr>\n",
       "      <th>4</th>\n",
       "      <td>1190.9</td>\n",
       "      <td>-7.4</td>\n",
       "    </tr>\n",
       "    <tr>\n",
       "      <th>...</th>\n",
       "      <td>...</td>\n",
       "      <td>...</td>\n",
       "    </tr>\n",
       "    <tr>\n",
       "      <th>43819</th>\n",
       "      <td>1452.6</td>\n",
       "      <td>3.4</td>\n",
       "    </tr>\n",
       "    <tr>\n",
       "      <th>43820</th>\n",
       "      <td>1399.7</td>\n",
       "      <td>3.3</td>\n",
       "    </tr>\n",
       "    <tr>\n",
       "      <th>43821</th>\n",
       "      <td>1339.0</td>\n",
       "      <td>2.6</td>\n",
       "    </tr>\n",
       "    <tr>\n",
       "      <th>43822</th>\n",
       "      <td>1280.9</td>\n",
       "      <td>2.7</td>\n",
       "    </tr>\n",
       "    <tr>\n",
       "      <th>43823</th>\n",
       "      <td>1225.9</td>\n",
       "      <td>3.0</td>\n",
       "    </tr>\n",
       "  </tbody>\n",
       "</table>\n",
       "<p>43824 rows × 2 columns</p>\n",
       "</div>"
      ],
      "text/plain": [
       "       Load_Capital  Temp_Capital\n",
       "0            1280.8          -5.8\n",
       "1            1230.8          -6.1\n",
       "2            1198.5          -7.5\n",
       "3            1188.9          -8.4\n",
       "4            1190.9          -7.4\n",
       "...             ...           ...\n",
       "43819        1452.6           3.4\n",
       "43820        1399.7           3.3\n",
       "43821        1339.0           2.6\n",
       "43822        1280.9           2.7\n",
       "43823        1225.9           3.0\n",
       "\n",
       "[43824 rows x 2 columns]"
      ]
     },
     "execution_count": 4,
     "metadata": {},
     "output_type": "execute_result"
    }
   ],
   "source": [
    "# Restricting the load data to a single zone\n",
    "fileName  = fileList[0]\n",
    "\n",
    "zoneData = pd.read_csv(os.path.join(path, fileName), usecols= [\"Demand\", \"Temprature\"])\n",
    "zoneData.columns = [\"Load_\"+str(fileName[:-4]), \"Temp_\"+str(fileName[:-4])]\n",
    "\n",
    "# For fixing one missing row\n",
    "# zoneData = pd.concat([zoneData.loc[[0]], zoneData], axis= 0).reset_index(drop= True)\n",
    "\n",
    "zoneData"
   ]
  },
  {
   "cell_type": "markdown",
   "id": "01cec4bd",
   "metadata": {},
   "source": [
    "### FEATURE ENGINEERING AND SPLITTING INTO TRAIN-TEST SPLIT"
   ]
  },
  {
   "cell_type": "code",
   "execution_count": 5,
   "id": "a1e1e8a3",
   "metadata": {},
   "outputs": [],
   "source": [
    "def lagGenerator(dF, lagList):\n",
    "    dF_temp = dF.filter(regex= \"Load\").copy()\n",
    "    \n",
    "    for i in lagList:\n",
    "        dF_temp.loc[:, \"Lag-\" + str(i)] = dF_temp.iloc[:,[0]].shift(i*24)\n",
    "    \n",
    "    return(dF_temp.filter(regex= \"Lag\"))"
   ]
  },
  {
   "cell_type": "code",
   "execution_count": 6,
   "id": "159a2a82",
   "metadata": {},
   "outputs": [
    {
     "data": {
      "text/html": [
       "<div>\n",
       "<style scoped>\n",
       "    .dataframe tbody tr th:only-of-type {\n",
       "        vertical-align: middle;\n",
       "    }\n",
       "\n",
       "    .dataframe tbody tr th {\n",
       "        vertical-align: top;\n",
       "    }\n",
       "\n",
       "    .dataframe thead th {\n",
       "        text-align: right;\n",
       "    }\n",
       "</style>\n",
       "<table border=\"1\" class=\"dataframe\">\n",
       "  <thead>\n",
       "    <tr style=\"text-align: right;\">\n",
       "      <th></th>\n",
       "      <th>Lag-2</th>\n",
       "      <th>Lag-7</th>\n",
       "    </tr>\n",
       "  </thead>\n",
       "  <tbody>\n",
       "    <tr>\n",
       "      <th>0</th>\n",
       "      <td>NaN</td>\n",
       "      <td>NaN</td>\n",
       "    </tr>\n",
       "    <tr>\n",
       "      <th>1</th>\n",
       "      <td>NaN</td>\n",
       "      <td>NaN</td>\n",
       "    </tr>\n",
       "  </tbody>\n",
       "</table>\n",
       "</div>"
      ],
      "text/plain": [
       "   Lag-2  Lag-7\n",
       "0    NaN    NaN\n",
       "1    NaN    NaN"
      ]
     },
     "execution_count": 6,
     "metadata": {},
     "output_type": "execute_result"
    }
   ],
   "source": [
    "Load_lags = lagGenerator(dF=zoneData, lagList=[2,7])\n",
    "Load_lags.head(2)"
   ]
  },
  {
   "cell_type": "code",
   "execution_count": 7,
   "id": "05896954",
   "metadata": {},
   "outputs": [
    {
     "data": {
      "text/html": [
       "<div>\n",
       "<style scoped>\n",
       "    .dataframe tbody tr th:only-of-type {\n",
       "        vertical-align: middle;\n",
       "    }\n",
       "\n",
       "    .dataframe tbody tr th {\n",
       "        vertical-align: top;\n",
       "    }\n",
       "\n",
       "    .dataframe thead th {\n",
       "        text-align: right;\n",
       "    }\n",
       "</style>\n",
       "<table border=\"1\" class=\"dataframe\">\n",
       "  <thead>\n",
       "    <tr style=\"text-align: right;\">\n",
       "      <th></th>\n",
       "      <th>Load_Capital</th>\n",
       "      <th>Temp_Capital</th>\n",
       "      <th>Lag-2</th>\n",
       "      <th>Lag-7</th>\n",
       "    </tr>\n",
       "  </thead>\n",
       "  <tbody>\n",
       "    <tr>\n",
       "      <th>0</th>\n",
       "      <td>1529.9</td>\n",
       "      <td>-13.9</td>\n",
       "      <td>1319.8</td>\n",
       "      <td>1280.8</td>\n",
       "    </tr>\n",
       "    <tr>\n",
       "      <th>1</th>\n",
       "      <td>1538.5</td>\n",
       "      <td>-14.2</td>\n",
       "      <td>1291.2</td>\n",
       "      <td>1230.8</td>\n",
       "    </tr>\n",
       "    <tr>\n",
       "      <th>2</th>\n",
       "      <td>1478.5</td>\n",
       "      <td>-14.8</td>\n",
       "      <td>1273.3</td>\n",
       "      <td>1198.5</td>\n",
       "    </tr>\n",
       "    <tr>\n",
       "      <th>3</th>\n",
       "      <td>1456.9</td>\n",
       "      <td>-15.6</td>\n",
       "      <td>1277.6</td>\n",
       "      <td>1188.9</td>\n",
       "    </tr>\n",
       "    <tr>\n",
       "      <th>4</th>\n",
       "      <td>1484.0</td>\n",
       "      <td>-16.0</td>\n",
       "      <td>1313.5</td>\n",
       "      <td>1190.9</td>\n",
       "    </tr>\n",
       "    <tr>\n",
       "      <th>...</th>\n",
       "      <td>...</td>\n",
       "      <td>...</td>\n",
       "      <td>...</td>\n",
       "      <td>...</td>\n",
       "    </tr>\n",
       "    <tr>\n",
       "      <th>43651</th>\n",
       "      <td>1452.6</td>\n",
       "      <td>3.4</td>\n",
       "      <td>1502.3</td>\n",
       "      <td>1394.4</td>\n",
       "    </tr>\n",
       "    <tr>\n",
       "      <th>43652</th>\n",
       "      <td>1399.7</td>\n",
       "      <td>3.3</td>\n",
       "      <td>1453.5</td>\n",
       "      <td>1375.5</td>\n",
       "    </tr>\n",
       "    <tr>\n",
       "      <th>43653</th>\n",
       "      <td>1339.0</td>\n",
       "      <td>2.6</td>\n",
       "      <td>1381.0</td>\n",
       "      <td>1351.5</td>\n",
       "    </tr>\n",
       "    <tr>\n",
       "      <th>43654</th>\n",
       "      <td>1280.9</td>\n",
       "      <td>2.7</td>\n",
       "      <td>1288.4</td>\n",
       "      <td>1304.1</td>\n",
       "    </tr>\n",
       "    <tr>\n",
       "      <th>43655</th>\n",
       "      <td>1225.9</td>\n",
       "      <td>3.0</td>\n",
       "      <td>1201.0</td>\n",
       "      <td>1237.0</td>\n",
       "    </tr>\n",
       "  </tbody>\n",
       "</table>\n",
       "<p>43656 rows × 4 columns</p>\n",
       "</div>"
      ],
      "text/plain": [
       "       Load_Capital  Temp_Capital   Lag-2   Lag-7\n",
       "0            1529.9         -13.9  1319.8  1280.8\n",
       "1            1538.5         -14.2  1291.2  1230.8\n",
       "2            1478.5         -14.8  1273.3  1198.5\n",
       "3            1456.9         -15.6  1277.6  1188.9\n",
       "4            1484.0         -16.0  1313.5  1190.9\n",
       "...             ...           ...     ...     ...\n",
       "43651        1452.6           3.4  1502.3  1394.4\n",
       "43652        1399.7           3.3  1453.5  1375.5\n",
       "43653        1339.0           2.6  1381.0  1351.5\n",
       "43654        1280.9           2.7  1288.4  1304.1\n",
       "43655        1225.9           3.0  1201.0  1237.0\n",
       "\n",
       "[43656 rows x 4 columns]"
      ]
     },
     "execution_count": 7,
     "metadata": {},
     "output_type": "execute_result"
    }
   ],
   "source": [
    "dataDf = pd.concat([zoneData, Load_lags], axis= 1).dropna(axis= 0).reset_index(drop= True)\n",
    "dataDf"
   ]
  },
  {
   "cell_type": "code",
   "execution_count": 8,
   "id": "6ad25321",
   "metadata": {},
   "outputs": [],
   "source": [
    "# Setting the train-test split ratio\n",
    "ratio = 0.1"
   ]
  },
  {
   "cell_type": "code",
   "execution_count": 9,
   "id": "3c08d963",
   "metadata": {},
   "outputs": [],
   "source": [
    "Num_train, Num_test = int(len(dataDf)/24 * (1 - ratio)) * 24, int(len(dataDf)/24 * ratio) * 24"
   ]
  },
  {
   "cell_type": "code",
   "execution_count": 10,
   "id": "cbe069ff",
   "metadata": {},
   "outputs": [],
   "source": [
    "# Splitting the data into train and test\n",
    "data_train, data_test = dataDf[:Num_train], dataDf[Num_train:]"
   ]
  },
  {
   "cell_type": "code",
   "execution_count": 11,
   "id": "d84e15c4",
   "metadata": {},
   "outputs": [],
   "source": [
    "Num_train, Num_valid = int(len(data_train)/24 * (1 - ratio)) * 24, int(len(data_train)/24 * ratio) * 24"
   ]
  },
  {
   "cell_type": "code",
   "execution_count": 12,
   "id": "c17d1723",
   "metadata": {},
   "outputs": [],
   "source": [
    "# Splitting the data into train and test\n",
    "data_train, data_valid = data_train[:Num_train], data_train[Num_train:]"
   ]
  },
  {
   "cell_type": "markdown",
   "id": "88d32011",
   "metadata": {},
   "source": [
    "### SPLITTING INTO X AND Y PART WITH SEQUENCE BATCHING"
   ]
  },
  {
   "cell_type": "code",
   "execution_count": 13,
   "id": "4ba286ca",
   "metadata": {},
   "outputs": [],
   "source": [
    "X_train_df, Y_train_df = data_train.iloc[:, 1:], data_train.iloc[:, :1]\n",
    "\n",
    "X_valid_df, Y_valid_df = data_valid.iloc[:, 1:], data_valid.iloc[:, :1]\n",
    "\n",
    "X_test_df, Y_test_df = data_test.iloc[:, 1:], data_test.iloc[:, :1]"
   ]
  },
  {
   "cell_type": "code",
   "execution_count": 14,
   "id": "ef1d9079",
   "metadata": {},
   "outputs": [],
   "source": [
    "# Preparing the scaler\n",
    "ValScaler = MinMaxScaler()\n",
    "\n",
    "X_train = ValScaler.fit_transform(X_train_df)\n",
    "X_valid = ValScaler.transform(X_valid_df)\n",
    "X_test = ValScaler.transform(X_test_df)\n",
    "\n",
    "Y_train = ValScaler.fit_transform(Y_train_df)\n",
    "Y_valid = ValScaler.transform(Y_valid_df)\n",
    "Y_test = ValScaler.transform(Y_test_df)"
   ]
  },
  {
   "cell_type": "code",
   "execution_count": 15,
   "id": "43594401",
   "metadata": {},
   "outputs": [],
   "source": [
    "def splitData(dataset):\n",
    "    data = np.array(np.split(dataset, len(dataset)/24))\n",
    "    return data"
   ]
  },
  {
   "cell_type": "code",
   "execution_count": 16,
   "id": "300696b2",
   "metadata": {},
   "outputs": [],
   "source": [
    "def supervisedSet(X_part, Y_part, steps= 24):\n",
    "    X_array, Y_array = np.array(X_part), np.array(Y_part)\n",
    "    X, Y = [], []\n",
    "    \n",
    "    for i in range(len(X_array)):\n",
    "        endIdx = i + steps\n",
    "        \n",
    "        if endIdx > len(X_array):\n",
    "            break\n",
    "        \n",
    "        batch_X, batch_Y = X_array[i:endIdx], Y_array[i:endIdx]\n",
    "        \n",
    "        X.append(batch_X)\n",
    "        Y.append(batch_Y)\n",
    "        \n",
    "    return np.array(X), np.array(Y)"
   ]
  },
  {
   "cell_type": "code",
   "execution_count": 17,
   "id": "fc9cd97d",
   "metadata": {},
   "outputs": [],
   "source": [
    "X_train, Y_train = supervisedSet(X_train, Y_train)\n",
    "\n",
    "X_valid, Y_valid = splitData(X_valid), splitData(Y_valid)\n",
    "\n",
    "X_test, Y_test = splitData(X_test), splitData(Y_test)"
   ]
  },
  {
   "cell_type": "markdown",
   "id": "a2a6bf32",
   "metadata": {},
   "source": [
    "### WORKING ON THE MODEL"
   ]
  },
  {
   "cell_type": "code",
   "execution_count": 18,
   "id": "ff71a98c",
   "metadata": {},
   "outputs": [],
   "source": [
    "epochs = 100\n",
    "batchSize = 32"
   ]
  },
  {
   "cell_type": "code",
   "execution_count": 19,
   "id": "8d600c17",
   "metadata": {},
   "outputs": [],
   "source": [
    "# Encoder-decoder architecture [tanh required to use tensorflow on gpu]\n",
    "model = tf.keras.Sequential([\n",
    "    tf.keras.layers.LSTM(units= 128, activation= \"tanh\", input_shape= (X_train.shape[1], X_train.shape[2]), dropout= 0.2),\n",
    "    tf.keras.layers.RepeatVector(Y_train.shape[1]),\n",
    "    tf.keras.layers.LSTM(units= 128, activation= \"tanh\", return_sequences= True, dropout= 0.2),\n",
    "    tf.keras.layers.TimeDistributed(tf.keras.layers.Dense(units= 128, activation= \"relu\")),\n",
    "    tf.keras.layers.Dropout(0.2),\n",
    "    tf.keras.layers.TimeDistributed(tf.keras.layers.Dense(units= 1))\n",
    "])\n",
    "\n",
    "model.compile(loss= \"mse\", optimizer= \"adam\",  metrics= ['mape', 'mae'])"
   ]
  },
  {
   "cell_type": "code",
   "execution_count": 20,
   "id": "a05c033a",
   "metadata": {},
   "outputs": [],
   "source": [
    "# model = tf.keras.Sequential([\n",
    "#     tf.keras.layers.LSTM(units= 256, activation= \"tanh\", input_shape= (X_train.shape[1], X_train.shape[2])),\n",
    "#     tf.keras.layers.Dense(units= 128, activation= \"tanh\"),\n",
    "#     tf.keras.layers.Dense(units= 1)\n",
    "# ])\n",
    "\n",
    "# model.compile(loss= \"mse\", optimizer= \"adam\",  metrics= ['mape', 'mae'])"
   ]
  },
  {
   "cell_type": "code",
   "execution_count": 21,
   "id": "c9390383",
   "metadata": {},
   "outputs": [],
   "source": [
    "# Storing the start time of model fitting process\n",
    "startTime = time.time()"
   ]
  },
  {
   "cell_type": "code",
   "execution_count": 22,
   "id": "e526e3ed",
   "metadata": {},
   "outputs": [
    {
     "name": "stdout",
     "output_type": "stream",
     "text": [
      "Epoch 1/100\n",
      "1105/1105 [==============================] - 21s 9ms/step - loss: 0.0120 - mape: 5918.5137 - mae: 0.0850 - val_loss: 0.0077 - val_mape: 43.9476 - val_mae: 0.0728\n",
      "Epoch 2/100\n",
      "1105/1105 [==============================] - 9s 8ms/step - loss: 0.0070 - mape: 5536.7080 - mae: 0.0646 - val_loss: 0.0059 - val_mape: 36.7389 - val_mae: 0.0610\n",
      "Epoch 3/100\n",
      "1105/1105 [==============================] - 9s 8ms/step - loss: 0.0050 - mape: 5366.9302 - mae: 0.0544 - val_loss: 0.0062 - val_mape: 36.2428 - val_mae: 0.0614\n",
      "Epoch 4/100\n",
      "1105/1105 [==============================] - 8s 8ms/step - loss: 0.0043 - mape: 4910.0586 - mae: 0.0502 - val_loss: 0.0057 - val_mape: 29.9281 - val_mae: 0.0573\n",
      "Epoch 5/100\n",
      "1105/1105 [==============================] - 8s 7ms/step - loss: 0.0038 - mape: 4880.7163 - mae: 0.0472 - val_loss: 0.0077 - val_mape: 28.0757 - val_mae: 0.0663\n",
      "Epoch 6/100\n",
      "1105/1105 [==============================] - 10s 9ms/step - loss: 0.0035 - mape: 4134.0942 - mae: 0.0453 - val_loss: 0.0062 - val_mape: 26.9734 - val_mae: 0.0578\n",
      "Epoch 7/100\n",
      "1105/1105 [==============================] - 10s 9ms/step - loss: 0.0033 - mape: 4533.5518 - mae: 0.0438 - val_loss: 0.0054 - val_mape: 26.1663 - val_mae: 0.0552\n",
      "Epoch 8/100\n",
      "1105/1105 [==============================] - 10s 9ms/step - loss: 0.0032 - mape: 4010.7834 - mae: 0.0432 - val_loss: 0.0052 - val_mape: 28.8586 - val_mae: 0.0525\n",
      "Epoch 9/100\n",
      "1105/1105 [==============================] - 10s 9ms/step - loss: 0.0032 - mape: 3922.7112 - mae: 0.0430 - val_loss: 0.0044 - val_mape: 26.8215 - val_mae: 0.0489\n",
      "Epoch 10/100\n",
      "1105/1105 [==============================] - 8s 8ms/step - loss: 0.0029 - mape: 4082.2798 - mae: 0.0413 - val_loss: 0.0041 - val_mape: 23.2563 - val_mae: 0.0464\n",
      "Epoch 11/100\n",
      "1105/1105 [==============================] - 8s 8ms/step - loss: 0.0029 - mape: 4446.9087 - mae: 0.0410 - val_loss: 0.0047 - val_mape: 24.0931 - val_mae: 0.0499\n",
      "Epoch 12/100\n",
      "1105/1105 [==============================] - 9s 8ms/step - loss: 0.0028 - mape: 3904.6267 - mae: 0.0403 - val_loss: 0.0051 - val_mape: 23.5192 - val_mae: 0.0523\n",
      "Epoch 13/100\n",
      "1105/1105 [==============================] - 9s 8ms/step - loss: 0.0028 - mape: 3748.7598 - mae: 0.0399 - val_loss: 0.0064 - val_mape: 24.9102 - val_mae: 0.0597\n",
      "Epoch 14/100\n",
      "1105/1105 [==============================] - 9s 8ms/step - loss: 0.0027 - mape: 4176.1616 - mae: 0.0395 - val_loss: 0.0046 - val_mape: 25.2336 - val_mae: 0.0497\n",
      "Epoch 15/100\n",
      "1105/1105 [==============================] - 8s 7ms/step - loss: 0.0027 - mape: 4175.4009 - mae: 0.0393 - val_loss: 0.0042 - val_mape: 23.4272 - val_mae: 0.0474\n",
      "Epoch 16/100\n",
      "1105/1105 [==============================] - 8s 7ms/step - loss: 0.0026 - mape: 3823.4282 - mae: 0.0387 - val_loss: 0.0050 - val_mape: 25.0506 - val_mae: 0.0527\n",
      "Epoch 17/100\n",
      "1105/1105 [==============================] - 8s 7ms/step - loss: 0.0026 - mape: 4026.1501 - mae: 0.0385 - val_loss: 0.0048 - val_mape: 24.3483 - val_mae: 0.0494\n",
      "Epoch 18/100\n",
      "1105/1105 [==============================] - 8s 7ms/step - loss: 0.0025 - mape: 4096.0137 - mae: 0.0381 - val_loss: 0.0044 - val_mape: 24.7792 - val_mae: 0.0483\n",
      "Epoch 19/100\n",
      "1105/1105 [==============================] - 8s 7ms/step - loss: 0.0025 - mape: 3995.8438 - mae: 0.0378 - val_loss: 0.0049 - val_mape: 24.4143 - val_mae: 0.0503\n",
      "Epoch 20/100\n",
      "1105/1105 [==============================] - 8s 8ms/step - loss: 0.0025 - mape: 3627.7451 - mae: 0.0377 - val_loss: 0.0054 - val_mape: 23.9680 - val_mae: 0.0542\n",
      "Epoch 21/100\n",
      "1105/1105 [==============================] - 10s 9ms/step - loss: 0.0025 - mape: 3748.4536 - mae: 0.0376 - val_loss: 0.0045 - val_mape: 23.4420 - val_mae: 0.0483\n",
      "Epoch 22/100\n",
      "1105/1105 [==============================] - 8s 7ms/step - loss: 0.0024 - mape: 3994.1138 - mae: 0.0370 - val_loss: 0.0042 - val_mape: 23.0631 - val_mae: 0.0456\n",
      "Epoch 23/100\n",
      "1105/1105 [==============================] - 8s 7ms/step - loss: 0.0024 - mape: 3616.7209 - mae: 0.0368 - val_loss: 0.0055 - val_mape: 24.2008 - val_mae: 0.0544\n",
      "Epoch 24/100\n",
      "1105/1105 [==============================] - 8s 7ms/step - loss: 0.0024 - mape: 3701.4668 - mae: 0.0369 - val_loss: 0.0044 - val_mape: 25.0679 - val_mae: 0.0482\n",
      "Epoch 25/100\n",
      "1105/1105 [==============================] - 8s 7ms/step - loss: 0.0023 - mape: 3636.0281 - mae: 0.0361 - val_loss: 0.0046 - val_mape: 24.4280 - val_mae: 0.0484\n",
      "Epoch 26/100\n",
      "1105/1105 [==============================] - 8s 7ms/step - loss: 0.0023 - mape: 3401.5659 - mae: 0.0364 - val_loss: 0.0042 - val_mape: 24.1844 - val_mae: 0.0469\n",
      "Epoch 27/100\n",
      "1105/1105 [==============================] - 10s 9ms/step - loss: 0.0023 - mape: 3226.3337 - mae: 0.0359 - val_loss: 0.0047 - val_mape: 22.8367 - val_mae: 0.0490\n",
      "Epoch 28/100\n",
      "1105/1105 [==============================] - 9s 8ms/step - loss: 0.0022 - mape: 3310.8594 - mae: 0.0357 - val_loss: 0.0049 - val_mape: 25.0269 - val_mae: 0.0513\n",
      "Epoch 29/100\n",
      "1105/1105 [==============================] - 9s 8ms/step - loss: 0.0022 - mape: 3322.3408 - mae: 0.0354 - val_loss: 0.0049 - val_mape: 26.7247 - val_mae: 0.0510\n",
      "Epoch 30/100\n",
      "1105/1105 [==============================] - 9s 8ms/step - loss: 0.0022 - mape: 3376.1248 - mae: 0.0355 - val_loss: 0.0045 - val_mape: 23.9278 - val_mae: 0.0491\n",
      "Epoch 31/100\n",
      "1105/1105 [==============================] - 10s 9ms/step - loss: 0.0022 - mape: 3288.4651 - mae: 0.0351 - val_loss: 0.0047 - val_mape: 22.2311 - val_mae: 0.0484\n",
      "Epoch 32/100\n",
      "1105/1105 [==============================] - 8s 8ms/step - loss: 0.0021 - mape: 3056.9321 - mae: 0.0349 - val_loss: 0.0052 - val_mape: 23.8398 - val_mae: 0.0526\n",
      "Epoch 33/100\n",
      "1105/1105 [==============================] - 9s 8ms/step - loss: 0.0021 - mape: 3326.2341 - mae: 0.0347 - val_loss: 0.0051 - val_mape: 26.8557 - val_mae: 0.0533\n",
      "Epoch 34/100\n",
      "1105/1105 [==============================] - 9s 8ms/step - loss: 0.0021 - mape: 2993.5173 - mae: 0.0347 - val_loss: 0.0053 - val_mape: 25.4205 - val_mae: 0.0532\n",
      "Epoch 35/100\n",
      "1105/1105 [==============================] - 8s 7ms/step - loss: 0.0020 - mape: 2954.7585 - mae: 0.0341 - val_loss: 0.0046 - val_mape: 24.1617 - val_mae: 0.0489\n",
      "Epoch 36/100\n",
      "1105/1105 [==============================] - 9s 8ms/step - loss: 0.0020 - mape: 2690.0312 - mae: 0.0341 - val_loss: 0.0052 - val_mape: 27.3492 - val_mae: 0.0538\n",
      "Epoch 37/100\n",
      "1105/1105 [==============================] - 9s 9ms/step - loss: 0.0020 - mape: 2959.3384 - mae: 0.0339 - val_loss: 0.0048 - val_mape: 25.9988 - val_mae: 0.0500\n",
      "Epoch 38/100\n",
      "1105/1105 [==============================] - 9s 8ms/step - loss: 0.0020 - mape: 2500.4595 - mae: 0.0337 - val_loss: 0.0053 - val_mape: 27.9112 - val_mae: 0.0541\n",
      "Epoch 39/100\n",
      "1105/1105 [==============================] - 9s 8ms/step - loss: 0.0019 - mape: 2434.3220 - mae: 0.0333 - val_loss: 0.0046 - val_mape: 26.3792 - val_mae: 0.0493\n",
      "Epoch 40/100\n",
      "1105/1105 [==============================] - 9s 8ms/step - loss: 0.0019 - mape: 2507.7610 - mae: 0.0332 - val_loss: 0.0050 - val_mape: 25.7901 - val_mae: 0.0517\n",
      "Epoch 41/100\n",
      "1105/1105 [==============================] - 9s 8ms/step - loss: 0.0019 - mape: 2638.2178 - mae: 0.0331 - val_loss: 0.0050 - val_mape: 27.2253 - val_mae: 0.0520\n",
      "Epoch 42/100\n",
      "1105/1105 [==============================] - 9s 8ms/step - loss: 0.0019 - mape: 2353.5098 - mae: 0.0328 - val_loss: 0.0057 - val_mape: 26.3345 - val_mae: 0.0560\n",
      "Epoch 43/100\n",
      "1105/1105 [==============================] - 9s 8ms/step - loss: 0.0019 - mape: 2034.5310 - mae: 0.0327 - val_loss: 0.0054 - val_mape: 27.3983 - val_mae: 0.0535\n",
      "Epoch 44/100\n",
      "1105/1105 [==============================] - 9s 8ms/step - loss: 0.0018 - mape: 2559.7834 - mae: 0.0324 - val_loss: 0.0046 - val_mape: 25.4816 - val_mae: 0.0492\n",
      "Epoch 45/100\n",
      "1105/1105 [==============================] - 9s 8ms/step - loss: 0.0018 - mape: 2587.1462 - mae: 0.0323 - val_loss: 0.0057 - val_mape: 30.6237 - val_mae: 0.0556\n",
      "Epoch 46/100\n",
      "1105/1105 [==============================] - 9s 8ms/step - loss: 0.0018 - mape: 2511.3342 - mae: 0.0323 - val_loss: 0.0049 - val_mape: 27.6583 - val_mae: 0.0516\n",
      "Epoch 47/100\n",
      "1105/1105 [==============================] - 9s 8ms/step - loss: 0.0018 - mape: 2355.3184 - mae: 0.0317 - val_loss: 0.0050 - val_mape: 25.9086 - val_mae: 0.0502\n",
      "Epoch 48/100\n"
     ]
    },
    {
     "name": "stdout",
     "output_type": "stream",
     "text": [
      "1105/1105 [==============================] - 9s 8ms/step - loss: 0.0018 - mape: 2400.1069 - mae: 0.0319 - val_loss: 0.0057 - val_mape: 27.4353 - val_mae: 0.0553\n",
      "Epoch 49/100\n",
      "1105/1105 [==============================] - 9s 8ms/step - loss: 0.0017 - mape: 2191.0129 - mae: 0.0314 - val_loss: 0.0048 - val_mape: 24.6999 - val_mae: 0.0501\n",
      "Epoch 50/100\n",
      "1105/1105 [==============================] - 8s 8ms/step - loss: 0.0017 - mape: 2442.1079 - mae: 0.0311 - val_loss: 0.0049 - val_mape: 27.6434 - val_mae: 0.0517\n",
      "Epoch 51/100\n",
      "1105/1105 [==============================] - 9s 8ms/step - loss: 0.0017 - mape: 2485.5957 - mae: 0.0311 - val_loss: 0.0052 - val_mape: 26.6826 - val_mae: 0.0514\n",
      "Epoch 52/100\n",
      "1105/1105 [==============================] - 8s 8ms/step - loss: 0.0016 - mape: 2240.5159 - mae: 0.0306 - val_loss: 0.0049 - val_mape: 24.9476 - val_mae: 0.0502\n",
      "Epoch 53/100\n",
      "1105/1105 [==============================] - 8s 8ms/step - loss: 0.0016 - mape: 2197.0205 - mae: 0.0305 - val_loss: 0.0052 - val_mape: 27.5084 - val_mae: 0.0522\n",
      "Epoch 54/100\n",
      "1105/1105 [==============================] - 9s 8ms/step - loss: 0.0016 - mape: 1931.3679 - mae: 0.0302 - val_loss: 0.0057 - val_mape: 25.8317 - val_mae: 0.0544\n",
      "Epoch 55/100\n",
      "1105/1105 [==============================] - 8s 8ms/step - loss: 0.0016 - mape: 2074.7881 - mae: 0.0301 - val_loss: 0.0054 - val_mape: 25.9306 - val_mae: 0.0532\n",
      "Epoch 56/100\n",
      "1105/1105 [==============================] - 8s 8ms/step - loss: 0.0015 - mape: 2019.3197 - mae: 0.0297 - val_loss: 0.0052 - val_mape: 26.3259 - val_mae: 0.0520\n",
      "Epoch 57/100\n",
      "1105/1105 [==============================] - 8s 8ms/step - loss: 0.0015 - mape: 2185.6899 - mae: 0.0297 - val_loss: 0.0049 - val_mape: 26.0454 - val_mae: 0.0497\n",
      "Epoch 58/100\n",
      "1105/1105 [==============================] - 8s 8ms/step - loss: 0.0015 - mape: 2204.2615 - mae: 0.0295 - val_loss: 0.0054 - val_mape: 28.3641 - val_mae: 0.0537\n",
      "Epoch 59/100\n",
      "1105/1105 [==============================] - 9s 8ms/step - loss: 0.0015 - mape: 2020.4689 - mae: 0.0293 - val_loss: 0.0056 - val_mape: 26.8787 - val_mae: 0.0548\n",
      "Epoch 60/100\n",
      "1105/1105 [==============================] - 9s 8ms/step - loss: 0.0015 - mape: 1742.0643 - mae: 0.0291 - val_loss: 0.0054 - val_mape: 29.6450 - val_mae: 0.0547\n",
      "Epoch 61/100\n",
      "1105/1105 [==============================] - 9s 8ms/step - loss: 0.0015 - mape: 2101.7537 - mae: 0.0289 - val_loss: 0.0057 - val_mape: 26.2408 - val_mae: 0.0538\n",
      "Epoch 62/100\n",
      "1105/1105 [==============================] - 9s 8ms/step - loss: 0.0014 - mape: 2112.2026 - mae: 0.0286 - val_loss: 0.0054 - val_mape: 27.8081 - val_mae: 0.0544\n",
      "Epoch 63/100\n",
      "1105/1105 [==============================] - 9s 8ms/step - loss: 0.0014 - mape: 1877.4153 - mae: 0.0284 - val_loss: 0.0059 - val_mape: 28.0962 - val_mae: 0.0561\n",
      "Epoch 64/100\n",
      "1105/1105 [==============================] - 8s 8ms/step - loss: 0.0014 - mape: 1861.3577 - mae: 0.0282 - val_loss: 0.0056 - val_mape: 27.6525 - val_mae: 0.0540\n",
      "Epoch 65/100\n",
      "1105/1105 [==============================] - 8s 8ms/step - loss: 0.0014 - mape: 2021.7743 - mae: 0.0282 - val_loss: 0.0055 - val_mape: 27.2076 - val_mae: 0.0536\n",
      "Epoch 66/100\n",
      "1105/1105 [==============================] - 9s 8ms/step - loss: 0.0013 - mape: 1778.3834 - mae: 0.0276 - val_loss: 0.0056 - val_mape: 26.3170 - val_mae: 0.0552\n",
      "Epoch 67/100\n",
      "1105/1105 [==============================] - 9s 8ms/step - loss: 0.0013 - mape: 1872.1073 - mae: 0.0275 - val_loss: 0.0057 - val_mape: 26.7393 - val_mae: 0.0540\n",
      "Epoch 68/100\n",
      "1105/1105 [==============================] - 9s 8ms/step - loss: 0.0013 - mape: 1886.5441 - mae: 0.0274 - val_loss: 0.0058 - val_mape: 27.8925 - val_mae: 0.0550\n",
      "Epoch 69/100\n",
      "1105/1105 [==============================] - 9s 8ms/step - loss: 0.0013 - mape: 1735.7158 - mae: 0.0272 - val_loss: 0.0057 - val_mape: 26.8235 - val_mae: 0.0558\n",
      "Epoch 70/100\n",
      "1105/1105 [==============================] - 9s 8ms/step - loss: 0.0013 - mape: 2128.5310 - mae: 0.0269 - val_loss: 0.0063 - val_mape: 27.9308 - val_mae: 0.0583\n",
      "Epoch 71/100\n",
      "1105/1105 [==============================] - 8s 8ms/step - loss: 0.0013 - mape: 1571.1699 - mae: 0.0269 - val_loss: 0.0056 - val_mape: 27.3928 - val_mae: 0.0545\n",
      "Epoch 72/100\n",
      "1105/1105 [==============================] - 9s 8ms/step - loss: 0.0012 - mape: 1866.1094 - mae: 0.0267 - val_loss: 0.0064 - val_mape: 28.5615 - val_mae: 0.0587\n",
      "Epoch 73/100\n",
      "1105/1105 [==============================] - 8s 8ms/step - loss: 0.0012 - mape: 1808.9540 - mae: 0.0264 - val_loss: 0.0059 - val_mape: 28.0163 - val_mae: 0.0572\n",
      "Epoch 74/100\n",
      "1105/1105 [==============================] - 8s 8ms/step - loss: 0.0012 - mape: 2235.8115 - mae: 0.0264 - val_loss: 0.0061 - val_mape: 29.9798 - val_mae: 0.0581\n",
      "Epoch 75/100\n",
      "1105/1105 [==============================] - 9s 8ms/step - loss: 0.0012 - mape: 1952.2336 - mae: 0.0260 - val_loss: 0.0056 - val_mape: 26.8932 - val_mae: 0.0549\n",
      "Epoch 76/100\n",
      "1105/1105 [==============================] - 9s 8ms/step - loss: 0.0012 - mape: 1720.7793 - mae: 0.0259 - val_loss: 0.0057 - val_mape: 26.9790 - val_mae: 0.0550\n",
      "Epoch 77/100\n",
      "1105/1105 [==============================] - 9s 8ms/step - loss: 0.0011 - mape: 1499.9580 - mae: 0.0257 - val_loss: 0.0060 - val_mape: 31.2465 - val_mae: 0.0581\n",
      "Epoch 78/100\n",
      "1105/1105 [==============================] - 9s 8ms/step - loss: 0.0011 - mape: 1926.6423 - mae: 0.0257 - val_loss: 0.0061 - val_mape: 27.1795 - val_mae: 0.0567\n",
      "Epoch 79/100\n",
      "1105/1105 [==============================] - 9s 8ms/step - loss: 0.0011 - mape: 2054.5317 - mae: 0.0253 - val_loss: 0.0060 - val_mape: 27.2604 - val_mae: 0.0565\n",
      "Epoch 80/100\n",
      "1105/1105 [==============================] - 8s 8ms/step - loss: 0.0011 - mape: 1753.2975 - mae: 0.0252 - val_loss: 0.0055 - val_mape: 27.4528 - val_mae: 0.0546\n",
      "Epoch 81/100\n",
      "1105/1105 [==============================] - 8s 8ms/step - loss: 0.0011 - mape: 1858.3706 - mae: 0.0250 - val_loss: 0.0062 - val_mape: 27.9323 - val_mae: 0.0580\n",
      "Epoch 82/100\n",
      "1105/1105 [==============================] - 9s 8ms/step - loss: 0.0011 - mape: 1645.1091 - mae: 0.0249 - val_loss: 0.0061 - val_mape: 26.9378 - val_mae: 0.0569\n",
      "Epoch 83/100\n",
      "1105/1105 [==============================] - 8s 8ms/step - loss: 0.0011 - mape: 2046.9028 - mae: 0.0248 - val_loss: 0.0060 - val_mape: 28.9968 - val_mae: 0.0571\n",
      "Epoch 84/100\n",
      "1105/1105 [==============================] - 8s 8ms/step - loss: 0.0011 - mape: 1996.0208 - mae: 0.0248 - val_loss: 0.0062 - val_mape: 26.8108 - val_mae: 0.0567\n",
      "Epoch 85/100\n",
      "1105/1105 [==============================] - 8s 8ms/step - loss: 0.0010 - mape: 1581.7363 - mae: 0.0243 - val_loss: 0.0060 - val_mape: 28.8226 - val_mae: 0.0572\n",
      "Epoch 86/100\n",
      "1105/1105 [==============================] - 8s 8ms/step - loss: 0.0010 - mape: 1585.0436 - mae: 0.0245 - val_loss: 0.0061 - val_mape: 27.6895 - val_mae: 0.0567\n",
      "Epoch 87/100\n",
      "1105/1105 [==============================] - 9s 8ms/step - loss: 1.0000e-03 - mape: 1908.3953 - mae: 0.0241 - val_loss: 0.0066 - val_mape: 27.1818 - val_mae: 0.0590\n",
      "Epoch 88/100\n",
      "1105/1105 [==============================] - 8s 8ms/step - loss: 9.8543e-04 - mape: 1583.6951 - mae: 0.0240 - val_loss: 0.0064 - val_mape: 27.6536 - val_mae: 0.0584\n",
      "Epoch 89/100\n",
      "1105/1105 [==============================] - 8s 8ms/step - loss: 9.8305e-04 - mape: 1759.7098 - mae: 0.0240 - val_loss: 0.0058 - val_mape: 27.0258 - val_mae: 0.0555\n",
      "Epoch 90/100\n",
      "1105/1105 [==============================] - 9s 8ms/step - loss: 9.7839e-04 - mape: 1529.5720 - mae: 0.0238 - val_loss: 0.0065 - val_mape: 31.4896 - val_mae: 0.0597\n",
      "Epoch 91/100\n",
      "1105/1105 [==============================] - 8s 8ms/step - loss: 9.6221e-04 - mape: 1430.8977 - mae: 0.0237 - val_loss: 0.0061 - val_mape: 28.8752 - val_mae: 0.0573\n",
      "Epoch 92/100\n",
      "1105/1105 [==============================] - 8s 8ms/step - loss: 9.3807e-04 - mape: 1465.7109 - mae: 0.0234 - val_loss: 0.0060 - val_mape: 28.4353 - val_mae: 0.0575\n",
      "Epoch 93/100\n",
      "1105/1105 [==============================] - 9s 9ms/step - loss: 9.3460e-04 - mape: 1328.6096 - mae: 0.0233 - val_loss: 0.0062 - val_mape: 27.0319 - val_mae: 0.0568\n",
      "Epoch 94/100\n",
      "1105/1105 [==============================] - 9s 8ms/step - loss: 9.3166e-04 - mape: 1405.6316 - mae: 0.0233 - val_loss: 0.0059 - val_mape: 28.7032 - val_mae: 0.0565\n"
     ]
    },
    {
     "name": "stdout",
     "output_type": "stream",
     "text": [
      "Epoch 95/100\n",
      "1105/1105 [==============================] - 8s 8ms/step - loss: 9.1377e-04 - mape: 1535.0134 - mae: 0.0231 - val_loss: 0.0058 - val_mape: 29.2765 - val_mae: 0.0573\n",
      "Epoch 96/100\n",
      "1105/1105 [==============================] - 8s 8ms/step - loss: 9.0287e-04 - mape: 1595.0557 - mae: 0.0229 - val_loss: 0.0064 - val_mape: 28.1751 - val_mae: 0.0587\n",
      "Epoch 97/100\n",
      "1105/1105 [==============================] - 8s 8ms/step - loss: 8.9415e-04 - mape: 1651.1647 - mae: 0.0228 - val_loss: 0.0061 - val_mape: 28.2667 - val_mae: 0.0580\n",
      "Epoch 98/100\n",
      "1105/1105 [==============================] - 9s 8ms/step - loss: 8.7867e-04 - mape: 1228.6152 - mae: 0.0226 - val_loss: 0.0063 - val_mape: 27.2681 - val_mae: 0.0578\n",
      "Epoch 99/100\n",
      "1105/1105 [==============================] - 9s 8ms/step - loss: 8.6958e-04 - mape: 1536.0988 - mae: 0.0225 - val_loss: 0.0060 - val_mape: 27.8638 - val_mae: 0.0563\n",
      "Epoch 100/100\n",
      "1105/1105 [==============================] - 8s 8ms/step - loss: 8.8493e-04 - mape: 1489.6116 - mae: 0.0227 - val_loss: 0.0060 - val_mape: 28.5198 - val_mae: 0.0573\n"
     ]
    },
    {
     "data": {
      "text/plain": [
       "<keras.callbacks.History at 0x1a0c46ebfa0>"
      ]
     },
     "execution_count": 22,
     "metadata": {},
     "output_type": "execute_result"
    }
   ],
   "source": [
    "model.fit(X_train, Y_train, epochs= epochs, batch_size= batchSize, verbose= 1, shuffle= True, validation_data= (X_valid, Y_valid))"
   ]
  },
  {
   "cell_type": "code",
   "execution_count": 23,
   "id": "cd839153",
   "metadata": {},
   "outputs": [
    {
     "name": "stdout",
     "output_type": "stream",
     "text": [
      "Total execution time in seconds: 874.1745657920837\n"
     ]
    }
   ],
   "source": [
    "calcExecTime = (time.time() - startTime)\n",
    "print('Total execution time in seconds: ' + str(calcExecTime))"
   ]
  },
  {
   "cell_type": "markdown",
   "id": "72aafa74",
   "metadata": {},
   "source": [
    "### MAKING PREDICTIONS AND GENERATING RESULTS"
   ]
  },
  {
   "cell_type": "code",
   "execution_count": 24,
   "id": "259bfb49",
   "metadata": {},
   "outputs": [
    {
     "name": "stdout",
     "output_type": "stream",
     "text": [
      "6/6 [==============================] - 1s 5ms/step\n"
     ]
    }
   ],
   "source": [
    "predictions = model.predict(X_test)"
   ]
  },
  {
   "cell_type": "code",
   "execution_count": 25,
   "id": "2912d431",
   "metadata": {},
   "outputs": [
    {
     "data": {
      "text/plain": [
       "array([0.1791585 , 0.15095751, 0.13883707, ..., 0.34902343, 0.31317148,\n",
       "       0.28735515], dtype=float32)"
      ]
     },
     "execution_count": 25,
     "metadata": {},
     "output_type": "execute_result"
    }
   ],
   "source": [
    "predArr = predictions.reshape(predictions.shape[0] * predictions.shape[1], predictions.shape[2]).ravel()\n",
    "predArr"
   ]
  },
  {
   "cell_type": "code",
   "execution_count": 26,
   "id": "b01889f2",
   "metadata": {},
   "outputs": [
    {
     "data": {
      "text/plain": [
       "array([0.31389866, 0.27683097, 0.25978835, ..., 0.34688831, 0.31152487,\n",
       "       0.2780483 ])"
      ]
     },
     "execution_count": 26,
     "metadata": {},
     "output_type": "execute_result"
    }
   ],
   "source": [
    "Y_testArr = Y_test.reshape(Y_test.shape[0] * Y_test.shape[1], Y_test.shape[2]).ravel()\n",
    "Y_testArr"
   ]
  },
  {
   "cell_type": "code",
   "execution_count": 27,
   "id": "799c97e8",
   "metadata": {},
   "outputs": [],
   "source": [
    "def inverse_transform(df):\n",
    "    column_names = df.columns\n",
    "    for col in column_names:\n",
    "        df[col] = ValScaler.inverse_transform(df[[col]]) \n",
    "    return df"
   ]
  },
  {
   "cell_type": "code",
   "execution_count": 28,
   "id": "afa81e30",
   "metadata": {},
   "outputs": [
    {
     "data": {
      "text/html": [
       "<div>\n",
       "<style scoped>\n",
       "    .dataframe tbody tr th:only-of-type {\n",
       "        vertical-align: middle;\n",
       "    }\n",
       "\n",
       "    .dataframe tbody tr th {\n",
       "        vertical-align: top;\n",
       "    }\n",
       "\n",
       "    .dataframe thead th {\n",
       "        text-align: right;\n",
       "    }\n",
       "</style>\n",
       "<table border=\"1\" class=\"dataframe\">\n",
       "  <thead>\n",
       "    <tr style=\"text-align: right;\">\n",
       "      <th></th>\n",
       "      <th>Values</th>\n",
       "      <th>Predictions</th>\n",
       "    </tr>\n",
       "  </thead>\n",
       "  <tbody>\n",
       "    <tr>\n",
       "      <th>0</th>\n",
       "      <td>1284.8</td>\n",
       "      <td>1063.430054</td>\n",
       "    </tr>\n",
       "    <tr>\n",
       "      <th>1</th>\n",
       "      <td>1223.9</td>\n",
       "      <td>1017.097473</td>\n",
       "    </tr>\n",
       "    <tr>\n",
       "      <th>2</th>\n",
       "      <td>1195.9</td>\n",
       "      <td>997.184326</td>\n",
       "    </tr>\n",
       "    <tr>\n",
       "      <th>3</th>\n",
       "      <td>1190.7</td>\n",
       "      <td>996.312134</td>\n",
       "    </tr>\n",
       "    <tr>\n",
       "      <th>4</th>\n",
       "      <td>1211.9</td>\n",
       "      <td>1015.287720</td>\n",
       "    </tr>\n",
       "    <tr>\n",
       "      <th>...</th>\n",
       "      <td>...</td>\n",
       "      <td>...</td>\n",
       "    </tr>\n",
       "    <tr>\n",
       "      <th>4363</th>\n",
       "      <td>1452.6</td>\n",
       "      <td>1503.224243</td>\n",
       "    </tr>\n",
       "    <tr>\n",
       "      <th>4364</th>\n",
       "      <td>1399.7</td>\n",
       "      <td>1426.651123</td>\n",
       "    </tr>\n",
       "    <tr>\n",
       "      <th>4365</th>\n",
       "      <td>1339.0</td>\n",
       "      <td>1342.507935</td>\n",
       "    </tr>\n",
       "    <tr>\n",
       "      <th>4366</th>\n",
       "      <td>1280.9</td>\n",
       "      <td>1283.605347</td>\n",
       "    </tr>\n",
       "    <tr>\n",
       "      <th>4367</th>\n",
       "      <td>1225.9</td>\n",
       "      <td>1241.190674</td>\n",
       "    </tr>\n",
       "  </tbody>\n",
       "</table>\n",
       "<p>4368 rows × 2 columns</p>\n",
       "</div>"
      ],
      "text/plain": [
       "      Values  Predictions\n",
       "0     1284.8  1063.430054\n",
       "1     1223.9  1017.097473\n",
       "2     1195.9   997.184326\n",
       "3     1190.7   996.312134\n",
       "4     1211.9  1015.287720\n",
       "...      ...          ...\n",
       "4363  1452.6  1503.224243\n",
       "4364  1399.7  1426.651123\n",
       "4365  1339.0  1342.507935\n",
       "4366  1280.9  1283.605347\n",
       "4367  1225.9  1241.190674\n",
       "\n",
       "[4368 rows x 2 columns]"
      ]
     },
     "execution_count": 28,
     "metadata": {},
     "output_type": "execute_result"
    }
   ],
   "source": [
    "comparisionDf = pd.DataFrame(data= {\"Values\": Y_testArr, \"Predictions\": predArr})\n",
    "comparisionDf = inverse_transform(comparisionDf)\n",
    "comparisionDf"
   ]
  },
  {
   "cell_type": "code",
   "execution_count": 29,
   "id": "88222bae",
   "metadata": {},
   "outputs": [
    {
     "data": {
      "text/plain": [
       "6.940830472504683"
      ]
     },
     "execution_count": 29,
     "metadata": {},
     "output_type": "execute_result"
    }
   ],
   "source": [
    "mape(comparisionDf[\"Values\"], comparisionDf[\"Predictions\"])"
   ]
  }
 ],
 "metadata": {
  "kernelspec": {
   "display_name": "Python 3 (ipykernel)",
   "language": "python",
   "name": "python3"
  },
  "language_info": {
   "codemirror_mode": {
    "name": "ipython",
    "version": 3
   },
   "file_extension": ".py",
   "mimetype": "text/x-python",
   "name": "python",
   "nbconvert_exporter": "python",
   "pygments_lexer": "ipython3",
   "version": "3.9.12"
  }
 },
 "nbformat": 4,
 "nbformat_minor": 5
}
