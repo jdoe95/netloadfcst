{
 "cells": [
  {
   "cell_type": "code",
   "execution_count": 1,
   "id": "5f61b29f",
   "metadata": {},
   "outputs": [
    {
     "name": "stdout",
     "output_type": "stream",
     "text": [
      "Num GPUs Available:  1\n"
     ]
    }
   ],
   "source": [
    "import pandas as pd\n",
    "import numpy as np\n",
    "import os\n",
    "import matplotlib.pyplot as plt\n",
    "from datetime import datetime\n",
    "from sklearn.preprocessing import MinMaxScaler, RobustScaler, StandardScaler\n",
    "import time\n",
    "\n",
    "import tensorflow as tf\n",
    "tf.random.set_seed(42)\n",
    "\n",
    "def mape(y_true, y_pred):\n",
    "    y_true, y_pred = np.array(y_true), np.array(y_pred)\n",
    "    return np.mean(np.abs((y_true - y_pred) / max(y_true))) * 100\n",
    "\n",
    "def RMSELoss(yhat,y):\n",
    "    return torch.sqrt(torch.mean((yhat-y)**2))\n",
    "\n",
    "print(\"Num GPUs Available: \", len(tf.config.list_physical_devices('GPU')))"
   ]
  },
  {
   "cell_type": "code",
   "execution_count": 2,
   "id": "cea0abe2",
   "metadata": {},
   "outputs": [
    {
     "name": "stdout",
     "output_type": "stream",
     "text": [
      "['AT.csv', 'BE.csv', 'BG.csv', 'CH.csv', 'CZ.csv', 'DK.csv', 'ES.csv', 'FR.csv', 'GR.csv', 'IT.csv', 'NL.csv', 'PT.csv', 'SI.csv', 'SK.csv']\n"
     ]
    }
   ],
   "source": [
    "# Specifying the path of file\n",
    "path= r\"C:\\Users\\sashah8\\OneDrive - North Carolina State University\\Desktop\\Q4\\Data\\L3\\data_cleaned\"\n",
    "\n",
    "# Listing just the required files\n",
    "fileList = os.listdir(path)\n",
    "fileList.remove(\"Date.csv\")\n",
    "\n",
    "# Previewing the required file names\n",
    "print(fileList)"
   ]
  },
  {
   "cell_type": "code",
   "execution_count": 3,
   "id": "a6fe9396",
   "metadata": {},
   "outputs": [
    {
     "data": {
      "text/html": [
       "<div>\n",
       "<style scoped>\n",
       "    .dataframe tbody tr th:only-of-type {\n",
       "        vertical-align: middle;\n",
       "    }\n",
       "\n",
       "    .dataframe tbody tr th {\n",
       "        vertical-align: top;\n",
       "    }\n",
       "\n",
       "    .dataframe thead th {\n",
       "        text-align: right;\n",
       "    }\n",
       "</style>\n",
       "<table border=\"1\" class=\"dataframe\">\n",
       "  <thead>\n",
       "    <tr style=\"text-align: right;\">\n",
       "      <th></th>\n",
       "      <th>Demand</th>\n",
       "      <th>Normalized_net</th>\n",
       "      <th>Temperature</th>\n",
       "      <th>DNI</th>\n",
       "      <th>DHI</th>\n",
       "    </tr>\n",
       "  </thead>\n",
       "  <tbody>\n",
       "    <tr>\n",
       "      <th>0</th>\n",
       "      <td>0.0</td>\n",
       "      <td>0.013267</td>\n",
       "      <td>-8.272</td>\n",
       "      <td>0.0</td>\n",
       "      <td>0.0</td>\n",
       "    </tr>\n",
       "    <tr>\n",
       "      <th>1</th>\n",
       "      <td>2724.2</td>\n",
       "      <td>0.166936</td>\n",
       "      <td>-8.114</td>\n",
       "      <td>0.0</td>\n",
       "      <td>0.0</td>\n",
       "    </tr>\n",
       "    <tr>\n",
       "      <th>2</th>\n",
       "      <td>2622.2</td>\n",
       "      <td>0.161182</td>\n",
       "      <td>-7.898</td>\n",
       "      <td>0.0</td>\n",
       "      <td>0.0</td>\n",
       "    </tr>\n",
       "    <tr>\n",
       "      <th>3</th>\n",
       "      <td>2614.2</td>\n",
       "      <td>0.160731</td>\n",
       "      <td>-7.670</td>\n",
       "      <td>0.0</td>\n",
       "      <td>0.0</td>\n",
       "    </tr>\n",
       "    <tr>\n",
       "      <th>4</th>\n",
       "      <td>2622.2</td>\n",
       "      <td>0.161182</td>\n",
       "      <td>-7.399</td>\n",
       "      <td>0.0</td>\n",
       "      <td>0.0</td>\n",
       "    </tr>\n",
       "    <tr>\n",
       "      <th>...</th>\n",
       "      <td>...</td>\n",
       "      <td>...</td>\n",
       "      <td>...</td>\n",
       "      <td>...</td>\n",
       "      <td>...</td>\n",
       "    </tr>\n",
       "    <tr>\n",
       "      <th>43819</th>\n",
       "      <td>3079.5</td>\n",
       "      <td>0.186978</td>\n",
       "      <td>-0.766</td>\n",
       "      <td>0.0</td>\n",
       "      <td>0.0</td>\n",
       "    </tr>\n",
       "    <tr>\n",
       "      <th>43820</th>\n",
       "      <td>2985.5</td>\n",
       "      <td>0.181675</td>\n",
       "      <td>-0.742</td>\n",
       "      <td>0.0</td>\n",
       "      <td>0.0</td>\n",
       "    </tr>\n",
       "    <tr>\n",
       "      <th>43821</th>\n",
       "      <td>2964.5</td>\n",
       "      <td>0.180491</td>\n",
       "      <td>-0.764</td>\n",
       "      <td>0.0</td>\n",
       "      <td>0.0</td>\n",
       "    </tr>\n",
       "    <tr>\n",
       "      <th>43822</th>\n",
       "      <td>2979.5</td>\n",
       "      <td>0.181337</td>\n",
       "      <td>-0.867</td>\n",
       "      <td>0.0</td>\n",
       "      <td>0.0</td>\n",
       "    </tr>\n",
       "    <tr>\n",
       "      <th>43823</th>\n",
       "      <td>2813.5</td>\n",
       "      <td>0.171973</td>\n",
       "      <td>-0.936</td>\n",
       "      <td>0.0</td>\n",
       "      <td>0.0</td>\n",
       "    </tr>\n",
       "  </tbody>\n",
       "</table>\n",
       "<p>43824 rows × 5 columns</p>\n",
       "</div>"
      ],
      "text/plain": [
       "       Demand  Normalized_net  Temperature  DNI  DHI\n",
       "0         0.0        0.013267       -8.272  0.0  0.0\n",
       "1      2724.2        0.166936       -8.114  0.0  0.0\n",
       "2      2622.2        0.161182       -7.898  0.0  0.0\n",
       "3      2614.2        0.160731       -7.670  0.0  0.0\n",
       "4      2622.2        0.161182       -7.399  0.0  0.0\n",
       "...       ...             ...          ...  ...  ...\n",
       "43819  3079.5        0.186978       -0.766  0.0  0.0\n",
       "43820  2985.5        0.181675       -0.742  0.0  0.0\n",
       "43821  2964.5        0.180491       -0.764  0.0  0.0\n",
       "43822  2979.5        0.181337       -0.867  0.0  0.0\n",
       "43823  2813.5        0.171973       -0.936  0.0  0.0\n",
       "\n",
       "[43824 rows x 5 columns]"
      ]
     },
     "execution_count": 3,
     "metadata": {},
     "output_type": "execute_result"
    }
   ],
   "source": [
    "# Just for previewing the columns\n",
    "pd.read_csv(os.path.join(path, fileList[13]))"
   ]
  },
  {
   "cell_type": "markdown",
   "id": "9ad4906c",
   "metadata": {
    "pycharm": {
     "name": "#%% md\n"
    }
   },
   "source": [
    "### PROCESSING THE DATA"
   ]
  },
  {
   "cell_type": "code",
   "execution_count": 4,
   "id": "f29f6db2",
   "metadata": {},
   "outputs": [
    {
     "data": {
      "text/html": [
       "<div>\n",
       "<style scoped>\n",
       "    .dataframe tbody tr th:only-of-type {\n",
       "        vertical-align: middle;\n",
       "    }\n",
       "\n",
       "    .dataframe tbody tr th {\n",
       "        vertical-align: top;\n",
       "    }\n",
       "\n",
       "    .dataframe thead th {\n",
       "        text-align: right;\n",
       "    }\n",
       "</style>\n",
       "<table border=\"1\" class=\"dataframe\">\n",
       "  <thead>\n",
       "    <tr style=\"text-align: right;\">\n",
       "      <th></th>\n",
       "      <th>Load_SK</th>\n",
       "      <th>Temp_SK</th>\n",
       "    </tr>\n",
       "  </thead>\n",
       "  <tbody>\n",
       "    <tr>\n",
       "      <th>0</th>\n",
       "      <td>0.0</td>\n",
       "      <td>-8.272</td>\n",
       "    </tr>\n",
       "    <tr>\n",
       "      <th>1</th>\n",
       "      <td>2724.2</td>\n",
       "      <td>-8.114</td>\n",
       "    </tr>\n",
       "    <tr>\n",
       "      <th>2</th>\n",
       "      <td>2622.2</td>\n",
       "      <td>-7.898</td>\n",
       "    </tr>\n",
       "    <tr>\n",
       "      <th>3</th>\n",
       "      <td>2614.2</td>\n",
       "      <td>-7.670</td>\n",
       "    </tr>\n",
       "    <tr>\n",
       "      <th>4</th>\n",
       "      <td>2622.2</td>\n",
       "      <td>-7.399</td>\n",
       "    </tr>\n",
       "    <tr>\n",
       "      <th>...</th>\n",
       "      <td>...</td>\n",
       "      <td>...</td>\n",
       "    </tr>\n",
       "    <tr>\n",
       "      <th>43819</th>\n",
       "      <td>3079.5</td>\n",
       "      <td>-0.766</td>\n",
       "    </tr>\n",
       "    <tr>\n",
       "      <th>43820</th>\n",
       "      <td>2985.5</td>\n",
       "      <td>-0.742</td>\n",
       "    </tr>\n",
       "    <tr>\n",
       "      <th>43821</th>\n",
       "      <td>2964.5</td>\n",
       "      <td>-0.764</td>\n",
       "    </tr>\n",
       "    <tr>\n",
       "      <th>43822</th>\n",
       "      <td>2979.5</td>\n",
       "      <td>-0.867</td>\n",
       "    </tr>\n",
       "    <tr>\n",
       "      <th>43823</th>\n",
       "      <td>2813.5</td>\n",
       "      <td>-0.936</td>\n",
       "    </tr>\n",
       "  </tbody>\n",
       "</table>\n",
       "<p>43824 rows × 2 columns</p>\n",
       "</div>"
      ],
      "text/plain": [
       "       Load_SK  Temp_SK\n",
       "0          0.0   -8.272\n",
       "1       2724.2   -8.114\n",
       "2       2622.2   -7.898\n",
       "3       2614.2   -7.670\n",
       "4       2622.2   -7.399\n",
       "...        ...      ...\n",
       "43819   3079.5   -0.766\n",
       "43820   2985.5   -0.742\n",
       "43821   2964.5   -0.764\n",
       "43822   2979.5   -0.867\n",
       "43823   2813.5   -0.936\n",
       "\n",
       "[43824 rows x 2 columns]"
      ]
     },
     "execution_count": 4,
     "metadata": {},
     "output_type": "execute_result"
    }
   ],
   "source": [
    "# Restricting the load data to a single zone\n",
    "fileName  = fileList[13]\n",
    "\n",
    "zoneData = pd.read_csv(os.path.join(path, fileName), usecols= [\"Demand\", \"Temperature\"])\n",
    "zoneData.columns = [\"Load_\"+str(fileName[:-4]), \"Temp_\"+str(fileName[:-4])]\n",
    "\n",
    "# For fixing one missing row\n",
    "# zoneData = pd.concat([zoneData.loc[[0]], zoneData], axis= 0).reset_index(drop= True)\n",
    "\n",
    "zoneData"
   ]
  },
  {
   "cell_type": "markdown",
   "id": "01cec4bd",
   "metadata": {},
   "source": [
    "### FEATURE ENGINEERING AND SPLITTING INTO TRAIN-TEST SPLIT"
   ]
  },
  {
   "cell_type": "code",
   "execution_count": 5,
   "id": "a1e1e8a3",
   "metadata": {},
   "outputs": [],
   "source": [
    "def lagGenerator(dF, lagList):\n",
    "    dF_temp = dF.filter(regex= \"Load\").copy()\n",
    "    \n",
    "    for i in lagList:\n",
    "        dF_temp.loc[:, \"Lag-\" + str(i)] = dF_temp.iloc[:,[0]].shift(i*24)\n",
    "    \n",
    "    return(dF_temp.filter(regex= \"Lag\"))"
   ]
  },
  {
   "cell_type": "code",
   "execution_count": 6,
   "id": "159a2a82",
   "metadata": {},
   "outputs": [
    {
     "data": {
      "text/html": [
       "<div>\n",
       "<style scoped>\n",
       "    .dataframe tbody tr th:only-of-type {\n",
       "        vertical-align: middle;\n",
       "    }\n",
       "\n",
       "    .dataframe tbody tr th {\n",
       "        vertical-align: top;\n",
       "    }\n",
       "\n",
       "    .dataframe thead th {\n",
       "        text-align: right;\n",
       "    }\n",
       "</style>\n",
       "<table border=\"1\" class=\"dataframe\">\n",
       "  <thead>\n",
       "    <tr style=\"text-align: right;\">\n",
       "      <th></th>\n",
       "      <th>Lag-2</th>\n",
       "      <th>Lag-7</th>\n",
       "    </tr>\n",
       "  </thead>\n",
       "  <tbody>\n",
       "    <tr>\n",
       "      <th>0</th>\n",
       "      <td>NaN</td>\n",
       "      <td>NaN</td>\n",
       "    </tr>\n",
       "    <tr>\n",
       "      <th>1</th>\n",
       "      <td>NaN</td>\n",
       "      <td>NaN</td>\n",
       "    </tr>\n",
       "  </tbody>\n",
       "</table>\n",
       "</div>"
      ],
      "text/plain": [
       "   Lag-2  Lag-7\n",
       "0    NaN    NaN\n",
       "1    NaN    NaN"
      ]
     },
     "execution_count": 6,
     "metadata": {},
     "output_type": "execute_result"
    }
   ],
   "source": [
    "Load_lags = lagGenerator(dF=zoneData, lagList=[2,7])\n",
    "Load_lags.head(2)"
   ]
  },
  {
   "cell_type": "code",
   "execution_count": 7,
   "id": "05896954",
   "metadata": {},
   "outputs": [
    {
     "data": {
      "text/html": [
       "<div>\n",
       "<style scoped>\n",
       "    .dataframe tbody tr th:only-of-type {\n",
       "        vertical-align: middle;\n",
       "    }\n",
       "\n",
       "    .dataframe tbody tr th {\n",
       "        vertical-align: top;\n",
       "    }\n",
       "\n",
       "    .dataframe thead th {\n",
       "        text-align: right;\n",
       "    }\n",
       "</style>\n",
       "<table border=\"1\" class=\"dataframe\">\n",
       "  <thead>\n",
       "    <tr style=\"text-align: right;\">\n",
       "      <th></th>\n",
       "      <th>Load_SK</th>\n",
       "      <th>Temp_SK</th>\n",
       "      <th>Lag-2</th>\n",
       "      <th>Lag-7</th>\n",
       "    </tr>\n",
       "  </thead>\n",
       "  <tbody>\n",
       "    <tr>\n",
       "      <th>0</th>\n",
       "      <td>3162.6</td>\n",
       "      <td>-9.636</td>\n",
       "      <td>2851.1</td>\n",
       "      <td>0.0</td>\n",
       "    </tr>\n",
       "    <tr>\n",
       "      <th>1</th>\n",
       "      <td>3123.6</td>\n",
       "      <td>-9.380</td>\n",
       "      <td>2773.1</td>\n",
       "      <td>2724.2</td>\n",
       "    </tr>\n",
       "    <tr>\n",
       "      <th>2</th>\n",
       "      <td>3112.6</td>\n",
       "      <td>-9.129</td>\n",
       "      <td>2755.1</td>\n",
       "      <td>2622.2</td>\n",
       "    </tr>\n",
       "    <tr>\n",
       "      <th>3</th>\n",
       "      <td>3181.6</td>\n",
       "      <td>-9.025</td>\n",
       "      <td>2799.1</td>\n",
       "      <td>2614.2</td>\n",
       "    </tr>\n",
       "    <tr>\n",
       "      <th>4</th>\n",
       "      <td>3352.6</td>\n",
       "      <td>-9.007</td>\n",
       "      <td>2837.1</td>\n",
       "      <td>2622.2</td>\n",
       "    </tr>\n",
       "    <tr>\n",
       "      <th>...</th>\n",
       "      <td>...</td>\n",
       "      <td>...</td>\n",
       "      <td>...</td>\n",
       "      <td>...</td>\n",
       "    </tr>\n",
       "    <tr>\n",
       "      <th>43651</th>\n",
       "      <td>3079.5</td>\n",
       "      <td>-0.766</td>\n",
       "      <td>3409.5</td>\n",
       "      <td>2819.5</td>\n",
       "    </tr>\n",
       "    <tr>\n",
       "      <th>43652</th>\n",
       "      <td>2985.5</td>\n",
       "      <td>-0.742</td>\n",
       "      <td>3266.5</td>\n",
       "      <td>2796.5</td>\n",
       "    </tr>\n",
       "    <tr>\n",
       "      <th>43653</th>\n",
       "      <td>2964.5</td>\n",
       "      <td>-0.764</td>\n",
       "      <td>3117.5</td>\n",
       "      <td>2729.5</td>\n",
       "    </tr>\n",
       "    <tr>\n",
       "      <th>43654</th>\n",
       "      <td>2979.5</td>\n",
       "      <td>-0.867</td>\n",
       "      <td>2962.5</td>\n",
       "      <td>2640.5</td>\n",
       "    </tr>\n",
       "    <tr>\n",
       "      <th>43655</th>\n",
       "      <td>2813.5</td>\n",
       "      <td>-0.936</td>\n",
       "      <td>2940.5</td>\n",
       "      <td>2556.5</td>\n",
       "    </tr>\n",
       "  </tbody>\n",
       "</table>\n",
       "<p>43656 rows × 4 columns</p>\n",
       "</div>"
      ],
      "text/plain": [
       "       Load_SK  Temp_SK   Lag-2   Lag-7\n",
       "0       3162.6   -9.636  2851.1     0.0\n",
       "1       3123.6   -9.380  2773.1  2724.2\n",
       "2       3112.6   -9.129  2755.1  2622.2\n",
       "3       3181.6   -9.025  2799.1  2614.2\n",
       "4       3352.6   -9.007  2837.1  2622.2\n",
       "...        ...      ...     ...     ...\n",
       "43651   3079.5   -0.766  3409.5  2819.5\n",
       "43652   2985.5   -0.742  3266.5  2796.5\n",
       "43653   2964.5   -0.764  3117.5  2729.5\n",
       "43654   2979.5   -0.867  2962.5  2640.5\n",
       "43655   2813.5   -0.936  2940.5  2556.5\n",
       "\n",
       "[43656 rows x 4 columns]"
      ]
     },
     "execution_count": 7,
     "metadata": {},
     "output_type": "execute_result"
    }
   ],
   "source": [
    "dataDf = pd.concat([zoneData, Load_lags], axis= 1).dropna(axis= 0).reset_index(drop= True)\n",
    "dataDf"
   ]
  },
  {
   "cell_type": "code",
   "execution_count": 8,
   "id": "6ad25321",
   "metadata": {},
   "outputs": [],
   "source": [
    "# Setting the train-test split ratio\n",
    "ratio = 0.1"
   ]
  },
  {
   "cell_type": "code",
   "execution_count": 9,
   "id": "3c08d963",
   "metadata": {},
   "outputs": [],
   "source": [
    "Num_train, Num_test = int(len(dataDf)/24 * (1 - ratio)) * 24, int(len(dataDf)/24 * ratio) * 24"
   ]
  },
  {
   "cell_type": "code",
   "execution_count": 10,
   "id": "cbe069ff",
   "metadata": {},
   "outputs": [],
   "source": [
    "# Splitting the data into train and test\n",
    "data_train, data_test = dataDf[:Num_train], dataDf[Num_train:]"
   ]
  },
  {
   "cell_type": "code",
   "execution_count": 11,
   "id": "d84e15c4",
   "metadata": {},
   "outputs": [],
   "source": [
    "Num_train, Num_valid = int(len(data_train)/24 * (1 - ratio)) * 24, int(len(data_train)/24 * ratio) * 24"
   ]
  },
  {
   "cell_type": "code",
   "execution_count": 12,
   "id": "c17d1723",
   "metadata": {},
   "outputs": [],
   "source": [
    "# Splitting the data into train and test\n",
    "data_train, data_valid = data_train[:Num_train], data_train[Num_train:]"
   ]
  },
  {
   "cell_type": "markdown",
   "id": "88d32011",
   "metadata": {},
   "source": [
    "### SPLITTING INTO X AND Y PART WITH SEQUENCE BATCHING"
   ]
  },
  {
   "cell_type": "code",
   "execution_count": 13,
   "id": "4ba286ca",
   "metadata": {},
   "outputs": [],
   "source": [
    "X_train_df, Y_train_df = data_train.iloc[:, 1:], data_train.iloc[:, :1]\n",
    "\n",
    "X_valid_df, Y_valid_df = data_valid.iloc[:, 1:], data_valid.iloc[:, :1]\n",
    "\n",
    "X_test_df, Y_test_df = data_test.iloc[:, 1:], data_test.iloc[:, :1]"
   ]
  },
  {
   "cell_type": "code",
   "execution_count": 14,
   "id": "ef1d9079",
   "metadata": {},
   "outputs": [],
   "source": [
    "# Preparing the scaler\n",
    "ValScaler = MinMaxScaler()\n",
    "\n",
    "X_train = ValScaler.fit_transform(X_train_df)\n",
    "X_valid = ValScaler.transform(X_valid_df)\n",
    "X_test = ValScaler.transform(X_test_df)\n",
    "\n",
    "Y_train = ValScaler.fit_transform(Y_train_df)\n",
    "Y_valid = ValScaler.transform(Y_valid_df)\n",
    "Y_test = ValScaler.transform(Y_test_df)"
   ]
  },
  {
   "cell_type": "code",
   "execution_count": 15,
   "id": "43594401",
   "metadata": {},
   "outputs": [],
   "source": [
    "def splitData(dataset):\n",
    "    data = np.array(np.split(dataset, len(dataset)/24))\n",
    "    return data"
   ]
  },
  {
   "cell_type": "code",
   "execution_count": 16,
   "id": "300696b2",
   "metadata": {},
   "outputs": [],
   "source": [
    "def supervisedSet(X_part, Y_part, steps= 24):\n",
    "    X_array, Y_array = np.array(X_part), np.array(Y_part)\n",
    "    X, Y = [], []\n",
    "    \n",
    "    for i in range(len(X_array)):\n",
    "        endIdx = i + steps\n",
    "        \n",
    "        if endIdx > len(X_array):\n",
    "            break\n",
    "        \n",
    "        batch_X, batch_Y = X_array[i:endIdx], Y_array[i:endIdx]\n",
    "        \n",
    "        X.append(batch_X)\n",
    "        Y.append(batch_Y)\n",
    "        \n",
    "    return np.array(X), np.array(Y)"
   ]
  },
  {
   "cell_type": "code",
   "execution_count": 17,
   "id": "fc9cd97d",
   "metadata": {},
   "outputs": [],
   "source": [
    "X_train, Y_train = supervisedSet(X_train, Y_train)\n",
    "\n",
    "X_valid, Y_valid = splitData(X_valid), splitData(Y_valid)\n",
    "\n",
    "X_test, Y_test = splitData(X_test), splitData(Y_test)"
   ]
  },
  {
   "cell_type": "markdown",
   "id": "a2a6bf32",
   "metadata": {},
   "source": [
    "### WORKING ON THE MODEL"
   ]
  },
  {
   "cell_type": "code",
   "execution_count": 18,
   "id": "ff71a98c",
   "metadata": {},
   "outputs": [],
   "source": [
    "epochs = 100\n",
    "batchSize = 32"
   ]
  },
  {
   "cell_type": "code",
   "execution_count": 19,
   "id": "8d600c17",
   "metadata": {},
   "outputs": [],
   "source": [
    "# Encoder-decoder architecture [tanh required to use tensorflow on gpu]\n",
    "model = tf.keras.Sequential([\n",
    "    tf.keras.layers.LSTM(units= 128, activation= \"tanh\", input_shape= (X_train.shape[1], X_train.shape[2]), dropout= 0.2),\n",
    "    tf.keras.layers.RepeatVector(Y_train.shape[1]),\n",
    "    tf.keras.layers.LSTM(units= 128, activation= \"tanh\", return_sequences= True, dropout= 0.2),\n",
    "    tf.keras.layers.TimeDistributed(tf.keras.layers.Dense(units= 128, activation= \"relu\")),\n",
    "    tf.keras.layers.Dropout(0.2),\n",
    "    tf.keras.layers.TimeDistributed(tf.keras.layers.Dense(units= 1))\n",
    "])\n",
    "\n",
    "model.compile(loss= \"mse\", optimizer= \"adam\",  metrics= ['mape', 'mae'])"
   ]
  },
  {
   "cell_type": "code",
   "execution_count": 20,
   "id": "a05c033a",
   "metadata": {},
   "outputs": [],
   "source": [
    "# model = tf.keras.Sequential([\n",
    "#     tf.keras.layers.LSTM(units= 256, activation= \"tanh\", input_shape= (X_train.shape[1], X_train.shape[2])),\n",
    "#     tf.keras.layers.Dense(units= 128, activation= \"tanh\"),\n",
    "#     tf.keras.layers.Dense(units= 1)\n",
    "# ])\n",
    "\n",
    "# model.compile(loss= \"mse\", optimizer= \"adam\",  metrics= ['mape', 'mae'])"
   ]
  },
  {
   "cell_type": "code",
   "execution_count": 21,
   "id": "c9390383",
   "metadata": {},
   "outputs": [],
   "source": [
    "# Storing the start time of model fitting process\n",
    "startTime = time.time()"
   ]
  },
  {
   "cell_type": "code",
   "execution_count": 22,
   "id": "e526e3ed",
   "metadata": {},
   "outputs": [
    {
     "name": "stdout",
     "output_type": "stream",
     "text": [
      "Epoch 1/100\n",
      "1105/1105 [==============================] - 48s 32ms/step - loss: 7.2535e-04 - mape: 5279.0557 - mae: 0.0201 - val_loss: 4.2131e-04 - val_mape: 8.9071 - val_mae: 0.0178\n",
      "Epoch 2/100\n",
      "1105/1105 [==============================] - 34s 31ms/step - loss: 4.8291e-04 - mape: 5363.7690 - mae: 0.0171 - val_loss: 3.3507e-04 - val_mape: 8.0611 - val_mae: 0.0150\n",
      "Epoch 3/100\n",
      "1105/1105 [==============================] - 35s 32ms/step - loss: 3.6266e-04 - mape: 5378.4600 - mae: 0.0142 - val_loss: 2.7860e-04 - val_mape: 7.0619 - val_mae: 0.0133\n",
      "Epoch 4/100\n",
      "1105/1105 [==============================] - 34s 31ms/step - loss: 3.0699e-04 - mape: 5250.9604 - mae: 0.0127 - val_loss: 2.2062e-04 - val_mape: 6.0275 - val_mae: 0.0113\n",
      "Epoch 5/100\n",
      "1105/1105 [==============================] - 34s 31ms/step - loss: 2.6828e-04 - mape: 5294.5991 - mae: 0.0116 - val_loss: 8.4721e-04 - val_mape: 12.1703 - val_mae: 0.0254\n",
      "Epoch 6/100\n",
      "1105/1105 [==============================] - 34s 31ms/step - loss: 2.2633e-04 - mape: 4970.2759 - mae: 0.0102 - val_loss: 8.1762e-04 - val_mape: 12.1396 - val_mae: 0.0253\n",
      "Epoch 7/100\n",
      "1105/1105 [==============================] - 35s 31ms/step - loss: 2.0913e-04 - mape: 4804.8442 - mae: 0.0096 - val_loss: 9.7707e-04 - val_mape: 13.5419 - val_mae: 0.0281\n",
      "Epoch 8/100\n",
      "1105/1105 [==============================] - 35s 31ms/step - loss: 2.0362e-04 - mape: 4778.9570 - mae: 0.0093 - val_loss: 0.0011 - val_mape: 14.3331 - val_mae: 0.0293\n",
      "Epoch 9/100\n",
      "1105/1105 [==============================] - 34s 31ms/step - loss: 1.9846e-04 - mape: 4800.6362 - mae: 0.0091 - val_loss: 8.0495e-04 - val_mape: 12.1394 - val_mae: 0.0252\n",
      "Epoch 10/100\n",
      "1105/1105 [==============================] - 35s 31ms/step - loss: 1.9363e-04 - mape: 4710.5474 - mae: 0.0089 - val_loss: 0.0010 - val_mape: 14.2697 - val_mae: 0.0290\n",
      "Epoch 11/100\n",
      "1105/1105 [==============================] - 34s 31ms/step - loss: 1.9150e-04 - mape: 4642.1958 - mae: 0.0089 - val_loss: 9.6627e-04 - val_mape: 13.9093 - val_mae: 0.0285\n",
      "Epoch 12/100\n",
      "1105/1105 [==============================] - 33s 30ms/step - loss: 1.8908e-04 - mape: 4738.3047 - mae: 0.0088 - val_loss: 9.6486e-04 - val_mape: 13.2493 - val_mae: 0.0273\n",
      "Epoch 13/100\n",
      "1105/1105 [==============================] - 34s 31ms/step - loss: 1.8703e-04 - mape: 4661.1504 - mae: 0.0087 - val_loss: 0.0010 - val_mape: 13.9898 - val_mae: 0.0288\n",
      "Epoch 14/100\n",
      "1105/1105 [==============================] - 34s 30ms/step - loss: 1.8357e-04 - mape: 4645.3906 - mae: 0.0086 - val_loss: 4.9142e-04 - val_mape: 9.4965 - val_mae: 0.0194\n",
      "Epoch 15/100\n",
      "1105/1105 [==============================] - 34s 31ms/step - loss: 1.8031e-04 - mape: 4631.7544 - mae: 0.0084 - val_loss: 6.7716e-04 - val_mape: 11.0785 - val_mae: 0.0227\n",
      "Epoch 16/100\n",
      "1105/1105 [==============================] - 34s 31ms/step - loss: 1.7936e-04 - mape: 4613.8418 - mae: 0.0084 - val_loss: 7.9361e-04 - val_mape: 11.6707 - val_mae: 0.0242\n",
      "Epoch 17/100\n",
      "1105/1105 [==============================] - 34s 31ms/step - loss: 1.7773e-04 - mape: 4559.7949 - mae: 0.0084 - val_loss: 5.9041e-04 - val_mape: 10.1431 - val_mae: 0.0209\n",
      "Epoch 18/100\n",
      "1105/1105 [==============================] - 34s 31ms/step - loss: 1.7688e-04 - mape: 4679.3564 - mae: 0.0083 - val_loss: 7.2979e-04 - val_mape: 11.4045 - val_mae: 0.0236\n",
      "Epoch 19/100\n",
      "1105/1105 [==============================] - 34s 31ms/step - loss: 1.7408e-04 - mape: 4620.2041 - mae: 0.0082 - val_loss: 7.6558e-04 - val_mape: 11.6517 - val_mae: 0.0240\n",
      "Epoch 20/100\n",
      "1105/1105 [==============================] - 34s 31ms/step - loss: 1.7105e-04 - mape: 4545.2197 - mae: 0.0081 - val_loss: 7.4805e-04 - val_mape: 11.8713 - val_mae: 0.0245\n",
      "Epoch 21/100\n",
      "1105/1105 [==============================] - 33s 30ms/step - loss: 1.6834e-04 - mape: 4613.2397 - mae: 0.0080 - val_loss: 6.9856e-04 - val_mape: 11.2950 - val_mae: 0.0233\n",
      "Epoch 22/100\n",
      "1105/1105 [==============================] - 34s 31ms/step - loss: 1.6500e-04 - mape: 4605.5669 - mae: 0.0079 - val_loss: 7.8825e-04 - val_mape: 11.8507 - val_mae: 0.0246\n",
      "Epoch 23/100\n",
      "1105/1105 [==============================] - 34s 31ms/step - loss: 1.6361e-04 - mape: 4606.4814 - mae: 0.0078 - val_loss: 7.6524e-04 - val_mape: 12.0499 - val_mae: 0.0248\n",
      "Epoch 24/100\n",
      "1105/1105 [==============================] - 34s 31ms/step - loss: 1.6241e-04 - mape: 4600.4521 - mae: 0.0078 - val_loss: 6.1535e-04 - val_mape: 10.5054 - val_mae: 0.0215\n",
      "Epoch 25/100\n",
      "1105/1105 [==============================] - 34s 31ms/step - loss: 1.6057e-04 - mape: 4674.3340 - mae: 0.0077 - val_loss: 5.3859e-04 - val_mape: 9.8540 - val_mae: 0.0203\n",
      "Epoch 26/100\n",
      "1105/1105 [==============================] - 34s 31ms/step - loss: 1.5885e-04 - mape: 4649.1938 - mae: 0.0077 - val_loss: 6.3727e-04 - val_mape: 10.8571 - val_mae: 0.0224\n",
      "Epoch 27/100\n",
      "1105/1105 [==============================] - 34s 31ms/step - loss: 1.5681e-04 - mape: 4695.7617 - mae: 0.0076 - val_loss: 6.4676e-04 - val_mape: 10.9336 - val_mae: 0.0225\n",
      "Epoch 28/100\n",
      "1105/1105 [==============================] - 34s 31ms/step - loss: 1.5481e-04 - mape: 4588.8794 - mae: 0.0075 - val_loss: 6.3590e-04 - val_mape: 10.8274 - val_mae: 0.0222\n",
      "Epoch 29/100\n",
      "1105/1105 [==============================] - 34s 31ms/step - loss: 1.5516e-04 - mape: 4655.7310 - mae: 0.0075 - val_loss: 8.5182e-04 - val_mape: 12.5091 - val_mae: 0.0258\n",
      "Epoch 30/100\n",
      "1105/1105 [==============================] - 34s 31ms/step - loss: 1.5367e-04 - mape: 4550.7749 - mae: 0.0075 - val_loss: 6.7653e-04 - val_mape: 11.0650 - val_mae: 0.0227\n",
      "Epoch 31/100\n",
      "1105/1105 [==============================] - 34s 31ms/step - loss: 1.5355e-04 - mape: 4583.5576 - mae: 0.0075 - val_loss: 7.7091e-04 - val_mape: 11.9093 - val_mae: 0.0246\n",
      "Epoch 32/100\n",
      "1105/1105 [==============================] - 35s 31ms/step - loss: 1.5319e-04 - mape: 4535.6152 - mae: 0.0075 - val_loss: 5.6342e-04 - val_mape: 10.0310 - val_mae: 0.0207\n",
      "Epoch 33/100\n",
      "1105/1105 [==============================] - 35s 32ms/step - loss: 1.5192e-04 - mape: 4635.7188 - mae: 0.0074 - val_loss: 5.5411e-04 - val_mape: 10.4425 - val_mae: 0.0212\n",
      "Epoch 34/100\n",
      "1105/1105 [==============================] - 35s 31ms/step - loss: 1.5021e-04 - mape: 4587.3584 - mae: 0.0074 - val_loss: 8.0419e-04 - val_mape: 12.1911 - val_mae: 0.0251\n",
      "Epoch 35/100\n",
      "1105/1105 [==============================] - 34s 31ms/step - loss: 1.4918e-04 - mape: 4602.1348 - mae: 0.0073 - val_loss: 8.3379e-04 - val_mape: 13.1147 - val_mae: 0.0265\n",
      "Epoch 36/100\n",
      "1105/1105 [==============================] - 33s 30ms/step - loss: 1.4900e-04 - mape: 4540.4058 - mae: 0.0073 - val_loss: 5.9059e-04 - val_mape: 10.4194 - val_mae: 0.0213\n",
      "Epoch 37/100\n",
      "1105/1105 [==============================] - 35s 31ms/step - loss: 1.4993e-04 - mape: 4570.2319 - mae: 0.0073 - val_loss: 6.9017e-04 - val_mape: 11.4252 - val_mae: 0.0233\n",
      "Epoch 38/100\n",
      "1105/1105 [==============================] - 35s 31ms/step - loss: 1.4726e-04 - mape: 4590.9858 - mae: 0.0073 - val_loss: 6.4576e-04 - val_mape: 11.1684 - val_mae: 0.0228\n",
      "Epoch 39/100\n",
      "1105/1105 [==============================] - 35s 31ms/step - loss: 1.4588e-04 - mape: 4587.7803 - mae: 0.0072 - val_loss: 7.9295e-04 - val_mape: 12.5822 - val_mae: 0.0256\n",
      "Epoch 40/100\n",
      "1105/1105 [==============================] - 34s 31ms/step - loss: 1.4491e-04 - mape: 4648.3037 - mae: 0.0072 - val_loss: 0.0014 - val_mape: 16.2712 - val_mae: 0.0325\n",
      "Epoch 41/100\n",
      "1105/1105 [==============================] - 34s 31ms/step - loss: 1.4815e-04 - mape: 4611.4067 - mae: 0.0073 - val_loss: 4.6029e-04 - val_mape: 9.1146 - val_mae: 0.0184\n",
      "Epoch 42/100\n",
      "1105/1105 [==============================] - 35s 31ms/step - loss: 1.4420e-04 - mape: 4545.3833 - mae: 0.0072 - val_loss: 9.9783e-04 - val_mape: 13.6751 - val_mae: 0.0278\n",
      "Epoch 43/100\n",
      "1105/1105 [==============================] - 35s 32ms/step - loss: 1.4238e-04 - mape: 4547.7656 - mae: 0.0071 - val_loss: 8.9536e-04 - val_mape: 11.8695 - val_mae: 0.0242\n",
      "Epoch 44/100\n",
      "1105/1105 [==============================] - 33s 29ms/step - loss: 1.4358e-04 - mape: 4625.9277 - mae: 0.0071 - val_loss: 7.4142e-04 - val_mape: 11.6840 - val_mae: 0.0239\n",
      "Epoch 45/100\n",
      "1105/1105 [==============================] - 31s 28ms/step - loss: 1.4348e-04 - mape: 4643.3726 - mae: 0.0071 - val_loss: 0.0010 - val_mape: 14.0000 - val_mae: 0.0284\n"
     ]
    },
    {
     "name": "stdout",
     "output_type": "stream",
     "text": [
      "Epoch 46/100\n",
      "1105/1105 [==============================] - 32s 29ms/step - loss: 1.4148e-04 - mape: 4515.2495 - mae: 0.0071 - val_loss: 9.7217e-04 - val_mape: 13.9179 - val_mae: 0.0280\n",
      "Epoch 47/100\n",
      "1105/1105 [==============================] - 31s 28ms/step - loss: 1.4245e-04 - mape: 4695.3071 - mae: 0.0071 - val_loss: 4.6964e-04 - val_mape: 9.2213 - val_mae: 0.0189\n",
      "Epoch 48/100\n",
      "1105/1105 [==============================] - 34s 31ms/step - loss: 1.3999e-04 - mape: 4562.1279 - mae: 0.0070 - val_loss: 8.0449e-04 - val_mape: 12.4679 - val_mae: 0.0253\n",
      "Epoch 49/100\n",
      "1105/1105 [==============================] - 34s 31ms/step - loss: 1.4387e-04 - mape: 4611.0205 - mae: 0.0071 - val_loss: 8.3128e-04 - val_mape: 12.9426 - val_mae: 0.0261\n",
      "Epoch 50/100\n",
      "1105/1105 [==============================] - 34s 31ms/step - loss: 1.3935e-04 - mape: 4601.6094 - mae: 0.0070 - val_loss: 9.1506e-04 - val_mape: 13.2248 - val_mae: 0.0262\n",
      "Epoch 51/100\n",
      "1105/1105 [==============================] - 34s 31ms/step - loss: 1.4564e-04 - mape: 4613.5356 - mae: 0.0071 - val_loss: 6.1052e-04 - val_mape: 10.7520 - val_mae: 0.0217\n",
      "Epoch 52/100\n",
      "1105/1105 [==============================] - 34s 31ms/step - loss: 1.4032e-04 - mape: 4508.4282 - mae: 0.0070 - val_loss: 5.7813e-04 - val_mape: 10.4752 - val_mae: 0.0211\n",
      "Epoch 53/100\n",
      "1105/1105 [==============================] - 35s 32ms/step - loss: 1.3820e-04 - mape: 4548.9409 - mae: 0.0069 - val_loss: 5.6521e-04 - val_mape: 10.5690 - val_mae: 0.0212\n",
      "Epoch 54/100\n",
      "1105/1105 [==============================] - 34s 31ms/step - loss: 1.4034e-04 - mape: 4561.5703 - mae: 0.0071 - val_loss: 7.7389e-04 - val_mape: 12.5469 - val_mae: 0.0251\n",
      "Epoch 55/100\n",
      "1105/1105 [==============================] - 34s 31ms/step - loss: 1.5449e-04 - mape: 4456.3042 - mae: 0.0075 - val_loss: 5.5157e-04 - val_mape: 9.9616 - val_mae: 0.0205\n",
      "Epoch 56/100\n",
      "1105/1105 [==============================] - 34s 31ms/step - loss: 1.4399e-04 - mape: 4539.0894 - mae: 0.0072 - val_loss: 3.9388e-04 - val_mape: 8.6211 - val_mae: 0.0173\n",
      "Epoch 57/100\n",
      "1105/1105 [==============================] - 34s 31ms/step - loss: 1.3852e-04 - mape: 4586.9707 - mae: 0.0070 - val_loss: 7.3128e-04 - val_mape: 11.8809 - val_mae: 0.0241\n",
      "Epoch 58/100\n",
      "1105/1105 [==============================] - 34s 31ms/step - loss: 1.3809e-04 - mape: 4523.3506 - mae: 0.0070 - val_loss: 8.6208e-04 - val_mape: 12.2313 - val_mae: 0.0237\n",
      "Epoch 59/100\n",
      "1105/1105 [==============================] - 35s 31ms/step - loss: 1.3634e-04 - mape: 4462.8618 - mae: 0.0069 - val_loss: 7.5938e-04 - val_mape: 12.2059 - val_mae: 0.0244\n",
      "Epoch 60/100\n",
      "1105/1105 [==============================] - 34s 31ms/step - loss: 1.4241e-04 - mape: 4540.5488 - mae: 0.0071 - val_loss: 7.6509e-04 - val_mape: 12.0977 - val_mae: 0.0245\n",
      "Epoch 61/100\n",
      "1105/1105 [==============================] - 34s 31ms/step - loss: 1.3597e-04 - mape: 4436.6157 - mae: 0.0069 - val_loss: 6.3092e-04 - val_mape: 10.9944 - val_mae: 0.0223\n",
      "Epoch 62/100\n",
      "1105/1105 [==============================] - 34s 31ms/step - loss: 1.3561e-04 - mape: 4478.0264 - mae: 0.0069 - val_loss: 5.9054e-04 - val_mape: 10.6354 - val_mae: 0.0214\n",
      "Epoch 63/100\n",
      "1105/1105 [==============================] - 34s 30ms/step - loss: 1.3732e-04 - mape: 4532.7783 - mae: 0.0070 - val_loss: 5.8277e-04 - val_mape: 10.4871 - val_mae: 0.0211\n",
      "Epoch 64/100\n",
      "1105/1105 [==============================] - 34s 30ms/step - loss: 1.4368e-04 - mape: 4605.5649 - mae: 0.0072 - val_loss: 6.7180e-04 - val_mape: 11.3501 - val_mae: 0.0230\n",
      "Epoch 65/100\n",
      "1105/1105 [==============================] - 34s 31ms/step - loss: 1.3869e-04 - mape: 4498.9673 - mae: 0.0069 - val_loss: 4.1724e-04 - val_mape: 8.7192 - val_mae: 0.0175\n",
      "Epoch 66/100\n",
      "1105/1105 [==============================] - 34s 31ms/step - loss: 1.3349e-04 - mape: 4483.0156 - mae: 0.0068 - val_loss: 8.6517e-04 - val_mape: 13.2369 - val_mae: 0.0263\n",
      "Epoch 67/100\n",
      "1105/1105 [==============================] - 34s 31ms/step - loss: 1.3923e-04 - mape: 4503.0620 - mae: 0.0070 - val_loss: 6.8599e-04 - val_mape: 11.8613 - val_mae: 0.0238\n",
      "Epoch 68/100\n",
      "1105/1105 [==============================] - 34s 31ms/step - loss: 1.4473e-04 - mape: 4506.6592 - mae: 0.0071 - val_loss: 7.8769e-04 - val_mape: 12.5585 - val_mae: 0.0251\n",
      "Epoch 69/100\n",
      "1105/1105 [==============================] - 35s 31ms/step - loss: 1.3269e-04 - mape: 4410.7329 - mae: 0.0068 - val_loss: 6.5176e-04 - val_mape: 11.0959 - val_mae: 0.0225\n",
      "Epoch 70/100\n",
      "1105/1105 [==============================] - 34s 31ms/step - loss: 1.3744e-04 - mape: 4467.8296 - mae: 0.0070 - val_loss: 0.0010 - val_mape: 14.7366 - val_mae: 0.0294\n",
      "Epoch 71/100\n",
      "1105/1105 [==============================] - 34s 31ms/step - loss: 1.3502e-04 - mape: 4567.1182 - mae: 0.0069 - val_loss: 4.8422e-04 - val_mape: 9.3725 - val_mae: 0.0191\n",
      "Epoch 72/100\n",
      "1105/1105 [==============================] - 34s 31ms/step - loss: 1.4288e-04 - mape: 4453.7363 - mae: 0.0072 - val_loss: 6.4674e-04 - val_mape: 11.0727 - val_mae: 0.0225\n",
      "Epoch 73/100\n",
      "1105/1105 [==============================] - 34s 31ms/step - loss: 1.3427e-04 - mape: 4369.6938 - mae: 0.0068 - val_loss: 6.7303e-04 - val_mape: 11.5138 - val_mae: 0.0233\n",
      "Epoch 74/100\n",
      "1105/1105 [==============================] - 35s 31ms/step - loss: 1.3244e-04 - mape: 4629.8706 - mae: 0.0068 - val_loss: 5.4933e-04 - val_mape: 10.1116 - val_mae: 0.0206\n",
      "Epoch 75/100\n",
      "1105/1105 [==============================] - 35s 31ms/step - loss: 1.3624e-04 - mape: 4452.3843 - mae: 0.0069 - val_loss: 6.4885e-04 - val_mape: 11.5316 - val_mae: 0.0232\n",
      "Epoch 76/100\n",
      "1105/1105 [==============================] - 34s 31ms/step - loss: 1.3241e-04 - mape: 4396.7900 - mae: 0.0068 - val_loss: 7.4023e-04 - val_mape: 11.9755 - val_mae: 0.0243\n",
      "Epoch 77/100\n",
      "1105/1105 [==============================] - 35s 31ms/step - loss: 1.2943e-04 - mape: 4307.1196 - mae: 0.0068 - val_loss: 5.9777e-04 - val_mape: 10.6370 - val_mae: 0.0216\n",
      "Epoch 78/100\n",
      "1105/1105 [==============================] - 35s 31ms/step - loss: 1.3566e-04 - mape: 4344.8018 - mae: 0.0069 - val_loss: 5.4666e-04 - val_mape: 10.2265 - val_mae: 0.0209\n",
      "Epoch 79/100\n",
      "1105/1105 [==============================] - 34s 31ms/step - loss: 1.3648e-04 - mape: 4311.5806 - mae: 0.0070 - val_loss: 6.8145e-04 - val_mape: 11.6654 - val_mae: 0.0235\n",
      "Epoch 80/100\n",
      "1105/1105 [==============================] - 34s 31ms/step - loss: 1.3350e-04 - mape: 4382.4888 - mae: 0.0068 - val_loss: 4.8390e-04 - val_mape: 9.9497 - val_mae: 0.0199\n",
      "Epoch 81/100\n",
      "1105/1105 [==============================] - 35s 31ms/step - loss: 1.3356e-04 - mape: 4419.7959 - mae: 0.0069 - val_loss: 5.1996e-04 - val_mape: 9.5377 - val_mae: 0.0194\n",
      "Epoch 82/100\n",
      "1105/1105 [==============================] - 34s 31ms/step - loss: 1.3420e-04 - mape: 4429.1382 - mae: 0.0069 - val_loss: 6.7603e-04 - val_mape: 11.6038 - val_mae: 0.0233\n",
      "Epoch 83/100\n",
      "1105/1105 [==============================] - 31s 28ms/step - loss: 1.2965e-04 - mape: 4305.8521 - mae: 0.0067 - val_loss: 0.0011 - val_mape: 14.6439 - val_mae: 0.0298\n",
      "Epoch 84/100\n",
      "1105/1105 [==============================] - 29s 26ms/step - loss: 1.3319e-04 - mape: 4347.9653 - mae: 0.0068 - val_loss: 8.3170e-04 - val_mape: 12.7793 - val_mae: 0.0258\n",
      "Epoch 85/100\n",
      "1105/1105 [==============================] - 28s 26ms/step - loss: 1.2921e-04 - mape: 4169.3628 - mae: 0.0067 - val_loss: 6.4539e-04 - val_mape: 10.7318 - val_mae: 0.0218\n",
      "Epoch 86/100\n",
      "1105/1105 [==============================] - 28s 26ms/step - loss: 1.2857e-04 - mape: 4415.0864 - mae: 0.0067 - val_loss: 9.6025e-04 - val_mape: 13.6652 - val_mae: 0.0275\n",
      "Epoch 87/100\n",
      "1105/1105 [==============================] - 28s 26ms/step - loss: 1.3076e-04 - mape: 4344.3726 - mae: 0.0068 - val_loss: 7.1560e-04 - val_mape: 11.8618 - val_mae: 0.0239\n",
      "Epoch 88/100\n",
      "1105/1105 [==============================] - 28s 26ms/step - loss: 1.2638e-04 - mape: 4236.4355 - mae: 0.0066 - val_loss: 6.9407e-04 - val_mape: 11.4429 - val_mae: 0.0230\n",
      "Epoch 89/100\n",
      "1105/1105 [==============================] - 28s 26ms/step - loss: 1.3565e-04 - mape: 4397.2354 - mae: 0.0069 - val_loss: 6.5860e-04 - val_mape: 11.3958 - val_mae: 0.0230\n",
      "Epoch 90/100\n"
     ]
    },
    {
     "name": "stdout",
     "output_type": "stream",
     "text": [
      "1105/1105 [==============================] - 28s 26ms/step - loss: 1.3045e-04 - mape: 4212.3755 - mae: 0.0067 - val_loss: 5.2945e-04 - val_mape: 9.6574 - val_mae: 0.0194\n",
      "Epoch 91/100\n",
      "1105/1105 [==============================] - 28s 26ms/step - loss: 1.3278e-04 - mape: 4126.3179 - mae: 0.0068 - val_loss: 5.5963e-04 - val_mape: 10.4781 - val_mae: 0.0210\n",
      "Epoch 92/100\n",
      "1105/1105 [==============================] - 29s 26ms/step - loss: 1.3885e-04 - mape: 4277.9204 - mae: 0.0070 - val_loss: 6.6623e-04 - val_mape: 11.3183 - val_mae: 0.0229\n",
      "Epoch 93/100\n",
      "1105/1105 [==============================] - 28s 26ms/step - loss: 1.2792e-04 - mape: 4145.5107 - mae: 0.0067 - val_loss: 0.0011 - val_mape: 13.0900 - val_mae: 0.0266\n",
      "Epoch 94/100\n",
      "1105/1105 [==============================] - 29s 26ms/step - loss: 1.3160e-04 - mape: 4371.3560 - mae: 0.0068 - val_loss: 4.5442e-04 - val_mape: 9.3432 - val_mae: 0.0187\n",
      "Epoch 95/100\n",
      "1105/1105 [==============================] - 29s 26ms/step - loss: 1.3179e-04 - mape: 4336.5830 - mae: 0.0067 - val_loss: 5.9093e-04 - val_mape: 10.5787 - val_mae: 0.0212\n",
      "Epoch 96/100\n",
      "1105/1105 [==============================] - 29s 26ms/step - loss: 1.2523e-04 - mape: 3973.9475 - mae: 0.0066 - val_loss: 0.0012 - val_mape: 13.2836 - val_mae: 0.0262\n",
      "Epoch 97/100\n",
      "1105/1105 [==============================] - 29s 26ms/step - loss: 1.5715e-04 - mape: 4350.1729 - mae: 0.0076 - val_loss: 7.8786e-04 - val_mape: 12.5098 - val_mae: 0.0252\n",
      "Epoch 98/100\n",
      "1105/1105 [==============================] - 29s 26ms/step - loss: 1.5187e-04 - mape: 4328.4570 - mae: 0.0073 - val_loss: 0.0013 - val_mape: 16.4955 - val_mae: 0.0334\n",
      "Epoch 99/100\n",
      "1105/1105 [==============================] - 29s 26ms/step - loss: 1.3671e-04 - mape: 4242.9058 - mae: 0.0068 - val_loss: 7.9485e-04 - val_mape: 12.5829 - val_mae: 0.0254\n",
      "Epoch 100/100\n",
      "1105/1105 [==============================] - 29s 26ms/step - loss: 1.3108e-04 - mape: 4228.3623 - mae: 0.0067 - val_loss: 8.7095e-04 - val_mape: 13.0879 - val_mae: 0.0258\n"
     ]
    },
    {
     "data": {
      "text/plain": [
       "<keras.callbacks.History at 0x17c57ea1cd0>"
      ]
     },
     "execution_count": 22,
     "metadata": {},
     "output_type": "execute_result"
    }
   ],
   "source": [
    "model.fit(X_train, Y_train, epochs= epochs, batch_size= batchSize, verbose= 1, shuffle= True, validation_data= (X_valid, Y_valid))"
   ]
  },
  {
   "cell_type": "code",
   "execution_count": 23,
   "id": "cd839153",
   "metadata": {},
   "outputs": [
    {
     "name": "stdout",
     "output_type": "stream",
     "text": [
      "Total execution time in seconds: 3329.0832619667053\n"
     ]
    }
   ],
   "source": [
    "calcExecTime = (time.time() - startTime)\n",
    "print('Total execution time in seconds: ' + str(calcExecTime))"
   ]
  },
  {
   "cell_type": "markdown",
   "id": "72aafa74",
   "metadata": {},
   "source": [
    "### MAKING PREDICTIONS AND GENERATING RESULTS"
   ]
  },
  {
   "cell_type": "code",
   "execution_count": 24,
   "id": "259bfb49",
   "metadata": {},
   "outputs": [
    {
     "name": "stdout",
     "output_type": "stream",
     "text": [
      "6/6 [==============================] - 1s 17ms/step\n"
     ]
    }
   ],
   "source": [
    "predictions = model.predict(X_test)"
   ]
  },
  {
   "cell_type": "code",
   "execution_count": 25,
   "id": "2912d431",
   "metadata": {},
   "outputs": [
    {
     "data": {
      "text/plain": [
       "array([0.14970444, 0.14135376, 0.14106674, ..., 0.18235412, 0.18471776,\n",
       "       0.1864486 ], dtype=float32)"
      ]
     },
     "execution_count": 25,
     "metadata": {},
     "output_type": "execute_result"
    }
   ],
   "source": [
    "predArr = predictions.reshape(predictions.shape[0] * predictions.shape[1], predictions.shape[2]).ravel()\n",
    "predArr"
   ]
  },
  {
   "cell_type": "code",
   "execution_count": 26,
   "id": "b01889f2",
   "metadata": {},
   "outputs": [
    {
     "data": {
      "text/plain": [
       "array([0.16652941, 0.16636018, 0.16754476, ..., 0.18049053, 0.18133666,\n",
       "       0.17197283])"
      ]
     },
     "execution_count": 26,
     "metadata": {},
     "output_type": "execute_result"
    }
   ],
   "source": [
    "Y_testArr = Y_test.reshape(Y_test.shape[0] * Y_test.shape[1], Y_test.shape[2]).ravel()\n",
    "Y_testArr"
   ]
  },
  {
   "cell_type": "code",
   "execution_count": 27,
   "id": "799c97e8",
   "metadata": {},
   "outputs": [],
   "source": [
    "def inverse_transform(df):\n",
    "    column_names = df.columns\n",
    "    for col in column_names:\n",
    "        df[col] = ValScaler.inverse_transform(df[[col]]) \n",
    "    return df"
   ]
  },
  {
   "cell_type": "code",
   "execution_count": 28,
   "id": "afa81e30",
   "metadata": {},
   "outputs": [
    {
     "data": {
      "text/html": [
       "<div>\n",
       "<style scoped>\n",
       "    .dataframe tbody tr th:only-of-type {\n",
       "        vertical-align: middle;\n",
       "    }\n",
       "\n",
       "    .dataframe tbody tr th {\n",
       "        vertical-align: top;\n",
       "    }\n",
       "\n",
       "    .dataframe thead th {\n",
       "        text-align: right;\n",
       "    }\n",
       "</style>\n",
       "<table border=\"1\" class=\"dataframe\">\n",
       "  <thead>\n",
       "    <tr style=\"text-align: right;\">\n",
       "      <th></th>\n",
       "      <th>Values</th>\n",
       "      <th>Predictions</th>\n",
       "    </tr>\n",
       "  </thead>\n",
       "  <tbody>\n",
       "    <tr>\n",
       "      <th>0</th>\n",
       "      <td>2717.0</td>\n",
       "      <td>2418.730469</td>\n",
       "    </tr>\n",
       "    <tr>\n",
       "      <th>1</th>\n",
       "      <td>2714.0</td>\n",
       "      <td>2270.691162</td>\n",
       "    </tr>\n",
       "    <tr>\n",
       "      <th>2</th>\n",
       "      <td>2735.0</td>\n",
       "      <td>2265.603027</td>\n",
       "    </tr>\n",
       "    <tr>\n",
       "      <th>3</th>\n",
       "      <td>2824.8</td>\n",
       "      <td>2466.028076</td>\n",
       "    </tr>\n",
       "    <tr>\n",
       "      <th>4</th>\n",
       "      <td>3117.9</td>\n",
       "      <td>2740.957275</td>\n",
       "    </tr>\n",
       "    <tr>\n",
       "      <th>...</th>\n",
       "      <td>...</td>\n",
       "      <td>...</td>\n",
       "    </tr>\n",
       "    <tr>\n",
       "      <th>4363</th>\n",
       "      <td>3079.5</td>\n",
       "      <td>2900.448730</td>\n",
       "    </tr>\n",
       "    <tr>\n",
       "      <th>4364</th>\n",
       "      <td>2985.5</td>\n",
       "      <td>2950.152100</td>\n",
       "    </tr>\n",
       "    <tr>\n",
       "      <th>4365</th>\n",
       "      <td>2964.5</td>\n",
       "      <td>2997.537598</td>\n",
       "    </tr>\n",
       "    <tr>\n",
       "      <th>4366</th>\n",
       "      <td>2979.5</td>\n",
       "      <td>3039.439453</td>\n",
       "    </tr>\n",
       "    <tr>\n",
       "      <th>4367</th>\n",
       "      <td>2813.5</td>\n",
       "      <td>3070.123535</td>\n",
       "    </tr>\n",
       "  </tbody>\n",
       "</table>\n",
       "<p>4368 rows × 2 columns</p>\n",
       "</div>"
      ],
      "text/plain": [
       "      Values  Predictions\n",
       "0     2717.0  2418.730469\n",
       "1     2714.0  2270.691162\n",
       "2     2735.0  2265.603027\n",
       "3     2824.8  2466.028076\n",
       "4     3117.9  2740.957275\n",
       "...      ...          ...\n",
       "4363  3079.5  2900.448730\n",
       "4364  2985.5  2950.152100\n",
       "4365  2964.5  2997.537598\n",
       "4366  2979.5  3039.439453\n",
       "4367  2813.5  3070.123535\n",
       "\n",
       "[4368 rows x 2 columns]"
      ]
     },
     "execution_count": 28,
     "metadata": {},
     "output_type": "execute_result"
    }
   ],
   "source": [
    "comparisionDf = pd.DataFrame(data= {\"Values\": Y_testArr, \"Predictions\": predArr})\n",
    "comparisionDf = inverse_transform(comparisionDf)\n",
    "comparisionDf"
   ]
  },
  {
   "cell_type": "code",
   "execution_count": 29,
   "id": "88222bae",
   "metadata": {},
   "outputs": [
    {
     "data": {
      "text/plain": [
       "9.627646250502558"
      ]
     },
     "execution_count": 29,
     "metadata": {},
     "output_type": "execute_result"
    }
   ],
   "source": [
    "mape(comparisionDf[\"Values\"], comparisionDf[\"Predictions\"])"
   ]
  }
 ],
 "metadata": {
  "kernelspec": {
   "display_name": "Python 3 (ipykernel)",
   "language": "python",
   "name": "python3"
  },
  "language_info": {
   "codemirror_mode": {
    "name": "ipython",
    "version": 3
   },
   "file_extension": ".py",
   "mimetype": "text/x-python",
   "name": "python",
   "nbconvert_exporter": "python",
   "pygments_lexer": "ipython3",
   "version": "3.9.12"
  }
 },
 "nbformat": 4,
 "nbformat_minor": 5
}
