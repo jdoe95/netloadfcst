{
 "cells": [
  {
   "cell_type": "code",
   "execution_count": 1,
   "id": "5f61b29f",
   "metadata": {},
   "outputs": [
    {
     "name": "stdout",
     "output_type": "stream",
     "text": [
      "Num GPUs Available:  1\n"
     ]
    }
   ],
   "source": [
    "import pandas as pd\n",
    "import numpy as np\n",
    "import os\n",
    "import matplotlib.pyplot as plt\n",
    "from datetime import datetime\n",
    "from sklearn.preprocessing import MinMaxScaler, RobustScaler, StandardScaler\n",
    "import time\n",
    "\n",
    "import tensorflow as tf\n",
    "tf.random.set_seed(42)\n",
    "\n",
    "def mape(y_true, y_pred):\n",
    "    y_true, y_pred = np.array(y_true), np.array(y_pred)\n",
    "    return np.mean(np.abs((y_true - y_pred) / max(y_true))) * 100\n",
    "\n",
    "def RMSELoss(yhat,y):\n",
    "    return torch.sqrt(torch.mean((yhat-y)**2))\n",
    "\n",
    "print(\"Num GPUs Available: \", len(tf.config.list_physical_devices('GPU')))"
   ]
  },
  {
   "cell_type": "code",
   "execution_count": 2,
   "id": "cea0abe2",
   "metadata": {},
   "outputs": [
    {
     "name": "stdout",
     "output_type": "stream",
     "text": [
      "['COAST.csv', 'EAST.csv', 'FWEST.csv', 'NCENT.csv', 'NORTH.csv', 'SCENT.csv', 'SOUTH.csv', 'WEST.csv']\n"
     ]
    }
   ],
   "source": [
    "# Specifying the path of file\n",
    "path= r\"C:\\Users\\sashah8\\OneDrive - North Carolina State University\\Desktop\\Q4\\Data\\L2\\data_cleaned\"\n",
    "\n",
    "# Listing just the required files\n",
    "fileList = os.listdir(path)\n",
    "fileList.remove(\"Date.csv\")\n",
    "\n",
    "# Previewing the required file names\n",
    "print(fileList)"
   ]
  },
  {
   "cell_type": "code",
   "execution_count": 3,
   "id": "a6fe9396",
   "metadata": {},
   "outputs": [
    {
     "data": {
      "text/html": [
       "<div>\n",
       "<style scoped>\n",
       "    .dataframe tbody tr th:only-of-type {\n",
       "        vertical-align: middle;\n",
       "    }\n",
       "\n",
       "    .dataframe tbody tr th {\n",
       "        vertical-align: top;\n",
       "    }\n",
       "\n",
       "    .dataframe thead th {\n",
       "        text-align: right;\n",
       "    }\n",
       "</style>\n",
       "<table border=\"1\" class=\"dataframe\">\n",
       "  <thead>\n",
       "    <tr style=\"text-align: right;\">\n",
       "      <th></th>\n",
       "      <th>Net</th>\n",
       "      <th>Temprature</th>\n",
       "    </tr>\n",
       "  </thead>\n",
       "  <tbody>\n",
       "    <tr>\n",
       "      <th>0</th>\n",
       "      <td>6731.301663</td>\n",
       "      <td>1.3</td>\n",
       "    </tr>\n",
       "    <tr>\n",
       "      <th>1</th>\n",
       "      <td>6602.935629</td>\n",
       "      <td>0.8</td>\n",
       "    </tr>\n",
       "    <tr>\n",
       "      <th>2</th>\n",
       "      <td>6530.663273</td>\n",
       "      <td>0.6</td>\n",
       "    </tr>\n",
       "    <tr>\n",
       "      <th>3</th>\n",
       "      <td>6503.367925</td>\n",
       "      <td>0.8</td>\n",
       "    </tr>\n",
       "    <tr>\n",
       "      <th>4</th>\n",
       "      <td>6603.227872</td>\n",
       "      <td>0.9</td>\n",
       "    </tr>\n",
       "    <tr>\n",
       "      <th>...</th>\n",
       "      <td>...</td>\n",
       "      <td>...</td>\n",
       "    </tr>\n",
       "    <tr>\n",
       "      <th>43818</th>\n",
       "      <td>6453.697286</td>\n",
       "      <td>13.7</td>\n",
       "    </tr>\n",
       "    <tr>\n",
       "      <th>43819</th>\n",
       "      <td>6175.763027</td>\n",
       "      <td>14.2</td>\n",
       "    </tr>\n",
       "    <tr>\n",
       "      <th>43820</th>\n",
       "      <td>5968.287603</td>\n",
       "      <td>14.0</td>\n",
       "    </tr>\n",
       "    <tr>\n",
       "      <th>43821</th>\n",
       "      <td>5769.745220</td>\n",
       "      <td>12.9</td>\n",
       "    </tr>\n",
       "    <tr>\n",
       "      <th>43822</th>\n",
       "      <td>5614.231555</td>\n",
       "      <td>11.1</td>\n",
       "    </tr>\n",
       "  </tbody>\n",
       "</table>\n",
       "<p>43823 rows × 2 columns</p>\n",
       "</div>"
      ],
      "text/plain": [
       "               Net  Temprature\n",
       "0      6731.301663         1.3\n",
       "1      6602.935629         0.8\n",
       "2      6530.663273         0.6\n",
       "3      6503.367925         0.8\n",
       "4      6603.227872         0.9\n",
       "...            ...         ...\n",
       "43818  6453.697286        13.7\n",
       "43819  6175.763027        14.2\n",
       "43820  5968.287603        14.0\n",
       "43821  5769.745220        12.9\n",
       "43822  5614.231555        11.1\n",
       "\n",
       "[43823 rows x 2 columns]"
      ]
     },
     "execution_count": 3,
     "metadata": {},
     "output_type": "execute_result"
    }
   ],
   "source": [
    "# Just for previewing the columns\n",
    "pd.read_csv(os.path.join(path, fileList[5]))"
   ]
  },
  {
   "cell_type": "markdown",
   "id": "9ad4906c",
   "metadata": {
    "pycharm": {
     "name": "#%% md\n"
    }
   },
   "source": [
    "### PROCESSING THE DATA"
   ]
  },
  {
   "cell_type": "code",
   "execution_count": 4,
   "id": "f29f6db2",
   "metadata": {},
   "outputs": [
    {
     "data": {
      "text/html": [
       "<div>\n",
       "<style scoped>\n",
       "    .dataframe tbody tr th:only-of-type {\n",
       "        vertical-align: middle;\n",
       "    }\n",
       "\n",
       "    .dataframe tbody tr th {\n",
       "        vertical-align: top;\n",
       "    }\n",
       "\n",
       "    .dataframe thead th {\n",
       "        text-align: right;\n",
       "    }\n",
       "</style>\n",
       "<table border=\"1\" class=\"dataframe\">\n",
       "  <thead>\n",
       "    <tr style=\"text-align: right;\">\n",
       "      <th></th>\n",
       "      <th>Load_SCENT</th>\n",
       "      <th>Temp_SCENT</th>\n",
       "    </tr>\n",
       "  </thead>\n",
       "  <tbody>\n",
       "    <tr>\n",
       "      <th>0</th>\n",
       "      <td>6731.301663</td>\n",
       "      <td>1.3</td>\n",
       "    </tr>\n",
       "    <tr>\n",
       "      <th>1</th>\n",
       "      <td>6731.301663</td>\n",
       "      <td>1.3</td>\n",
       "    </tr>\n",
       "    <tr>\n",
       "      <th>2</th>\n",
       "      <td>6602.935629</td>\n",
       "      <td>0.8</td>\n",
       "    </tr>\n",
       "    <tr>\n",
       "      <th>3</th>\n",
       "      <td>6530.663273</td>\n",
       "      <td>0.6</td>\n",
       "    </tr>\n",
       "    <tr>\n",
       "      <th>4</th>\n",
       "      <td>6503.367925</td>\n",
       "      <td>0.8</td>\n",
       "    </tr>\n",
       "    <tr>\n",
       "      <th>...</th>\n",
       "      <td>...</td>\n",
       "      <td>...</td>\n",
       "    </tr>\n",
       "    <tr>\n",
       "      <th>43819</th>\n",
       "      <td>6453.697286</td>\n",
       "      <td>13.7</td>\n",
       "    </tr>\n",
       "    <tr>\n",
       "      <th>43820</th>\n",
       "      <td>6175.763027</td>\n",
       "      <td>14.2</td>\n",
       "    </tr>\n",
       "    <tr>\n",
       "      <th>43821</th>\n",
       "      <td>5968.287603</td>\n",
       "      <td>14.0</td>\n",
       "    </tr>\n",
       "    <tr>\n",
       "      <th>43822</th>\n",
       "      <td>5769.745220</td>\n",
       "      <td>12.9</td>\n",
       "    </tr>\n",
       "    <tr>\n",
       "      <th>43823</th>\n",
       "      <td>5614.231555</td>\n",
       "      <td>11.1</td>\n",
       "    </tr>\n",
       "  </tbody>\n",
       "</table>\n",
       "<p>43824 rows × 2 columns</p>\n",
       "</div>"
      ],
      "text/plain": [
       "        Load_SCENT  Temp_SCENT\n",
       "0      6731.301663         1.3\n",
       "1      6731.301663         1.3\n",
       "2      6602.935629         0.8\n",
       "3      6530.663273         0.6\n",
       "4      6503.367925         0.8\n",
       "...            ...         ...\n",
       "43819  6453.697286        13.7\n",
       "43820  6175.763027        14.2\n",
       "43821  5968.287603        14.0\n",
       "43822  5769.745220        12.9\n",
       "43823  5614.231555        11.1\n",
       "\n",
       "[43824 rows x 2 columns]"
      ]
     },
     "execution_count": 4,
     "metadata": {},
     "output_type": "execute_result"
    }
   ],
   "source": [
    "# Restricting the load data to a single zone\n",
    "fileName  = fileList[5]\n",
    "\n",
    "zoneData = pd.read_csv(os.path.join(path, fileName))\n",
    "zoneData.columns = [\"Load_\"+str(fileName[:-4]), \"Temp_\"+str(fileName[:-4])]\n",
    "\n",
    "# For fixing one missing row\n",
    "zoneData = pd.concat([zoneData.loc[[0]], zoneData], axis= 0).reset_index(drop= True)\n",
    "\n",
    "zoneData"
   ]
  },
  {
   "cell_type": "markdown",
   "id": "01cec4bd",
   "metadata": {},
   "source": [
    "### FEATURE ENGINEERING AND SPLITTING INTO TRAIN-TEST SPLIT"
   ]
  },
  {
   "cell_type": "code",
   "execution_count": 5,
   "id": "a1e1e8a3",
   "metadata": {},
   "outputs": [],
   "source": [
    "def lagGenerator(dF, lagList):\n",
    "    dF_temp = dF.filter(regex= \"Load\").copy()\n",
    "    \n",
    "    for i in lagList:\n",
    "        dF_temp.loc[:, \"Lag-\" + str(i)] = dF_temp.iloc[:,[0]].shift(i*24)\n",
    "    \n",
    "    return(dF_temp.filter(regex= \"Lag\"))"
   ]
  },
  {
   "cell_type": "code",
   "execution_count": 6,
   "id": "159a2a82",
   "metadata": {},
   "outputs": [
    {
     "data": {
      "text/html": [
       "<div>\n",
       "<style scoped>\n",
       "    .dataframe tbody tr th:only-of-type {\n",
       "        vertical-align: middle;\n",
       "    }\n",
       "\n",
       "    .dataframe tbody tr th {\n",
       "        vertical-align: top;\n",
       "    }\n",
       "\n",
       "    .dataframe thead th {\n",
       "        text-align: right;\n",
       "    }\n",
       "</style>\n",
       "<table border=\"1\" class=\"dataframe\">\n",
       "  <thead>\n",
       "    <tr style=\"text-align: right;\">\n",
       "      <th></th>\n",
       "      <th>Lag-2</th>\n",
       "      <th>Lag-7</th>\n",
       "    </tr>\n",
       "  </thead>\n",
       "  <tbody>\n",
       "    <tr>\n",
       "      <th>0</th>\n",
       "      <td>NaN</td>\n",
       "      <td>NaN</td>\n",
       "    </tr>\n",
       "    <tr>\n",
       "      <th>1</th>\n",
       "      <td>NaN</td>\n",
       "      <td>NaN</td>\n",
       "    </tr>\n",
       "  </tbody>\n",
       "</table>\n",
       "</div>"
      ],
      "text/plain": [
       "   Lag-2  Lag-7\n",
       "0    NaN    NaN\n",
       "1    NaN    NaN"
      ]
     },
     "execution_count": 6,
     "metadata": {},
     "output_type": "execute_result"
    }
   ],
   "source": [
    "Load_lags = lagGenerator(dF=zoneData, lagList=[2,7])\n",
    "Load_lags.head(2)"
   ]
  },
  {
   "cell_type": "code",
   "execution_count": 7,
   "id": "05896954",
   "metadata": {},
   "outputs": [
    {
     "data": {
      "text/html": [
       "<div>\n",
       "<style scoped>\n",
       "    .dataframe tbody tr th:only-of-type {\n",
       "        vertical-align: middle;\n",
       "    }\n",
       "\n",
       "    .dataframe tbody tr th {\n",
       "        vertical-align: top;\n",
       "    }\n",
       "\n",
       "    .dataframe thead th {\n",
       "        text-align: right;\n",
       "    }\n",
       "</style>\n",
       "<table border=\"1\" class=\"dataframe\">\n",
       "  <thead>\n",
       "    <tr style=\"text-align: right;\">\n",
       "      <th></th>\n",
       "      <th>Load_SCENT</th>\n",
       "      <th>Temp_SCENT</th>\n",
       "      <th>Lag-2</th>\n",
       "      <th>Lag-7</th>\n",
       "    </tr>\n",
       "  </thead>\n",
       "  <tbody>\n",
       "    <tr>\n",
       "      <th>0</th>\n",
       "      <td>7863.816740</td>\n",
       "      <td>3.2</td>\n",
       "      <td>6688.205300</td>\n",
       "      <td>6731.301663</td>\n",
       "    </tr>\n",
       "    <tr>\n",
       "      <th>1</th>\n",
       "      <td>7733.428965</td>\n",
       "      <td>1.8</td>\n",
       "      <td>6439.604153</td>\n",
       "      <td>6731.301663</td>\n",
       "    </tr>\n",
       "    <tr>\n",
       "      <th>2</th>\n",
       "      <td>7752.625903</td>\n",
       "      <td>0.7</td>\n",
       "      <td>6328.307514</td>\n",
       "      <td>6602.935629</td>\n",
       "    </tr>\n",
       "    <tr>\n",
       "      <th>3</th>\n",
       "      <td>7812.730198</td>\n",
       "      <td>-0.3</td>\n",
       "      <td>6354.726927</td>\n",
       "      <td>6530.663273</td>\n",
       "    </tr>\n",
       "    <tr>\n",
       "      <th>4</th>\n",
       "      <td>7987.837391</td>\n",
       "      <td>-1.2</td>\n",
       "      <td>6453.118126</td>\n",
       "      <td>6503.367925</td>\n",
       "    </tr>\n",
       "    <tr>\n",
       "      <th>...</th>\n",
       "      <td>...</td>\n",
       "      <td>...</td>\n",
       "      <td>...</td>\n",
       "      <td>...</td>\n",
       "    </tr>\n",
       "    <tr>\n",
       "      <th>43651</th>\n",
       "      <td>6453.697286</td>\n",
       "      <td>13.7</td>\n",
       "      <td>6210.557281</td>\n",
       "      <td>5780.380475</td>\n",
       "    </tr>\n",
       "    <tr>\n",
       "      <th>43652</th>\n",
       "      <td>6175.763027</td>\n",
       "      <td>14.2</td>\n",
       "      <td>6207.856531</td>\n",
       "      <td>5693.923783</td>\n",
       "    </tr>\n",
       "    <tr>\n",
       "      <th>43653</th>\n",
       "      <td>5968.287603</td>\n",
       "      <td>14.0</td>\n",
       "      <td>6140.580238</td>\n",
       "      <td>5624.696898</td>\n",
       "    </tr>\n",
       "    <tr>\n",
       "      <th>43654</th>\n",
       "      <td>5769.745220</td>\n",
       "      <td>12.9</td>\n",
       "      <td>5939.445038</td>\n",
       "      <td>5512.343425</td>\n",
       "    </tr>\n",
       "    <tr>\n",
       "      <th>43655</th>\n",
       "      <td>5614.231555</td>\n",
       "      <td>11.1</td>\n",
       "      <td>5699.539181</td>\n",
       "      <td>5344.858187</td>\n",
       "    </tr>\n",
       "  </tbody>\n",
       "</table>\n",
       "<p>43656 rows × 4 columns</p>\n",
       "</div>"
      ],
      "text/plain": [
       "        Load_SCENT  Temp_SCENT        Lag-2        Lag-7\n",
       "0      7863.816740         3.2  6688.205300  6731.301663\n",
       "1      7733.428965         1.8  6439.604153  6731.301663\n",
       "2      7752.625903         0.7  6328.307514  6602.935629\n",
       "3      7812.730198        -0.3  6354.726927  6530.663273\n",
       "4      7987.837391        -1.2  6453.118126  6503.367925\n",
       "...            ...         ...          ...          ...\n",
       "43651  6453.697286        13.7  6210.557281  5780.380475\n",
       "43652  6175.763027        14.2  6207.856531  5693.923783\n",
       "43653  5968.287603        14.0  6140.580238  5624.696898\n",
       "43654  5769.745220        12.9  5939.445038  5512.343425\n",
       "43655  5614.231555        11.1  5699.539181  5344.858187\n",
       "\n",
       "[43656 rows x 4 columns]"
      ]
     },
     "execution_count": 7,
     "metadata": {},
     "output_type": "execute_result"
    }
   ],
   "source": [
    "dataDf = pd.concat([zoneData, Load_lags], axis= 1).dropna(axis= 0).reset_index(drop= True)\n",
    "dataDf"
   ]
  },
  {
   "cell_type": "code",
   "execution_count": 8,
   "id": "6ad25321",
   "metadata": {},
   "outputs": [],
   "source": [
    "# Setting the train-test split ratio\n",
    "ratio = 0.1"
   ]
  },
  {
   "cell_type": "code",
   "execution_count": 9,
   "id": "3c08d963",
   "metadata": {},
   "outputs": [],
   "source": [
    "Num_train, Num_test = int(len(dataDf)/24 * (1 - ratio)) * 24, int(len(dataDf)/24 * ratio) * 24"
   ]
  },
  {
   "cell_type": "code",
   "execution_count": 10,
   "id": "cbe069ff",
   "metadata": {},
   "outputs": [],
   "source": [
    "# Splitting the data into train and test\n",
    "data_train, data_test = dataDf[:Num_train], dataDf[Num_train:]"
   ]
  },
  {
   "cell_type": "code",
   "execution_count": 11,
   "id": "d84e15c4",
   "metadata": {},
   "outputs": [],
   "source": [
    "Num_train, Num_valid = int(len(data_train)/24 * (1 - ratio)) * 24, int(len(data_train)/24 * ratio) * 24"
   ]
  },
  {
   "cell_type": "code",
   "execution_count": 12,
   "id": "c17d1723",
   "metadata": {},
   "outputs": [],
   "source": [
    "# Splitting the data into train and test\n",
    "data_train, data_valid = data_train[:Num_train], data_train[Num_train:]"
   ]
  },
  {
   "cell_type": "markdown",
   "id": "88d32011",
   "metadata": {},
   "source": [
    "### SPLITTING INTO X AND Y PART WITH SEQUENCE BATCHING"
   ]
  },
  {
   "cell_type": "code",
   "execution_count": 13,
   "id": "4ba286ca",
   "metadata": {},
   "outputs": [],
   "source": [
    "X_train_df, Y_train_df = data_train.iloc[:, 1:], data_train.iloc[:, :1]\n",
    "\n",
    "X_valid_df, Y_valid_df = data_valid.iloc[:, 1:], data_valid.iloc[:, :1]\n",
    "\n",
    "X_test_df, Y_test_df = data_test.iloc[:, 1:], data_test.iloc[:, :1]"
   ]
  },
  {
   "cell_type": "code",
   "execution_count": 14,
   "id": "ef1d9079",
   "metadata": {},
   "outputs": [],
   "source": [
    "# Preparing the scaler\n",
    "ValScaler = MinMaxScaler()\n",
    "\n",
    "X_train = ValScaler.fit_transform(X_train_df)\n",
    "X_valid = ValScaler.transform(X_valid_df)\n",
    "X_test = ValScaler.transform(X_test_df)\n",
    "\n",
    "Y_train = ValScaler.fit_transform(Y_train_df)\n",
    "Y_valid = ValScaler.transform(Y_valid_df)\n",
    "Y_test = ValScaler.transform(Y_test_df)"
   ]
  },
  {
   "cell_type": "code",
   "execution_count": 15,
   "id": "43594401",
   "metadata": {},
   "outputs": [],
   "source": [
    "def splitData(dataset):\n",
    "    data = np.array(np.split(dataset, len(dataset)/24))\n",
    "    return data"
   ]
  },
  {
   "cell_type": "code",
   "execution_count": 16,
   "id": "300696b2",
   "metadata": {},
   "outputs": [],
   "source": [
    "def supervisedSet(X_part, Y_part, steps= 24):\n",
    "    X_array, Y_array = np.array(X_part), np.array(Y_part)\n",
    "    X, Y = [], []\n",
    "    \n",
    "    for i in range(len(X_array)):\n",
    "        endIdx = i + steps\n",
    "        \n",
    "        if endIdx > len(X_array):\n",
    "            break\n",
    "        \n",
    "        batch_X, batch_Y = X_array[i:endIdx], Y_array[i:endIdx]\n",
    "        \n",
    "        X.append(batch_X)\n",
    "        Y.append(batch_Y)\n",
    "        \n",
    "    return np.array(X), np.array(Y)"
   ]
  },
  {
   "cell_type": "code",
   "execution_count": 17,
   "id": "fc9cd97d",
   "metadata": {},
   "outputs": [],
   "source": [
    "X_train, Y_train = supervisedSet(X_train, Y_train)\n",
    "\n",
    "X_valid, Y_valid = splitData(X_valid), splitData(Y_valid)\n",
    "\n",
    "X_test, Y_test = splitData(X_test), splitData(Y_test)"
   ]
  },
  {
   "cell_type": "markdown",
   "id": "a2a6bf32",
   "metadata": {},
   "source": [
    "### WORKING ON THE MODEL"
   ]
  },
  {
   "cell_type": "code",
   "execution_count": 18,
   "id": "ff71a98c",
   "metadata": {},
   "outputs": [],
   "source": [
    "epochs = 100\n",
    "batchSize = 32"
   ]
  },
  {
   "cell_type": "code",
   "execution_count": 19,
   "id": "8d600c17",
   "metadata": {},
   "outputs": [],
   "source": [
    "# Encoder-decoder architecture [tanh required to use tensorflow on gpu]\n",
    "model = tf.keras.Sequential([\n",
    "    tf.keras.layers.LSTM(units= 128, activation= \"tanh\", input_shape= (X_train.shape[1], X_train.shape[2]), dropout= 0.2),\n",
    "    tf.keras.layers.RepeatVector(Y_train.shape[1]),\n",
    "    tf.keras.layers.LSTM(units= 128, activation= \"tanh\", return_sequences= True, dropout= 0.2),\n",
    "    tf.keras.layers.TimeDistributed(tf.keras.layers.Dense(units= 128, activation= \"relu\")),\n",
    "    tf.keras.layers.Dropout(0.2),\n",
    "    tf.keras.layers.TimeDistributed(tf.keras.layers.Dense(units= 1))\n",
    "])\n",
    "\n",
    "model.compile(loss= \"mse\", optimizer= \"adam\",  metrics= ['mape', 'mae'])"
   ]
  },
  {
   "cell_type": "code",
   "execution_count": 20,
   "id": "a05c033a",
   "metadata": {},
   "outputs": [],
   "source": [
    "# model = tf.keras.Sequential([\n",
    "#     tf.keras.layers.LSTM(units= 256, activation= \"tanh\", input_shape= (X_train.shape[1], X_train.shape[2])),\n",
    "#     tf.keras.layers.Dense(units= 128, activation= \"tanh\"),\n",
    "#     tf.keras.layers.Dense(units= 1)\n",
    "# ])\n",
    "\n",
    "# model.compile(loss= \"mse\", optimizer= \"adam\",  metrics= ['mape', 'mae'])"
   ]
  },
  {
   "cell_type": "code",
   "execution_count": 21,
   "id": "c9390383",
   "metadata": {},
   "outputs": [],
   "source": [
    "# Storing the start time of model fitting process\n",
    "startTime = time.time()"
   ]
  },
  {
   "cell_type": "code",
   "execution_count": 22,
   "id": "e526e3ed",
   "metadata": {},
   "outputs": [
    {
     "name": "stdout",
     "output_type": "stream",
     "text": [
      "Epoch 1/100\n",
      "1105/1105 [==============================] - 23s 16ms/step - loss: 0.0087 - mape: 3061.3716 - mae: 0.0699 - val_loss: 0.0076 - val_mape: 33.6999 - val_mae: 0.0692\n",
      "Epoch 2/100\n",
      "1105/1105 [==============================] - 17s 16ms/step - loss: 0.0045 - mape: 1940.9948 - mae: 0.0511 - val_loss: 0.0187 - val_mape: 39.6364 - val_mae: 0.1009\n",
      "Epoch 3/100\n",
      "1105/1105 [==============================] - 16s 15ms/step - loss: 0.0030 - mape: 1705.3773 - mae: 0.0419 - val_loss: 0.0187 - val_mape: 47.9331 - val_mae: 0.1054\n",
      "Epoch 4/100\n",
      "1105/1105 [==============================] - 16s 14ms/step - loss: 0.0028 - mape: 1626.7726 - mae: 0.0403 - val_loss: 0.0152 - val_mape: 35.2620 - val_mae: 0.0939\n",
      "Epoch 5/100\n",
      "1105/1105 [==============================] - 15s 14ms/step - loss: 0.0026 - mape: 1396.1748 - mae: 0.0388 - val_loss: 0.0181 - val_mape: 39.2424 - val_mae: 0.0985\n",
      "Epoch 6/100\n",
      "1105/1105 [==============================] - 16s 14ms/step - loss: 0.0024 - mape: 1309.3586 - mae: 0.0372 - val_loss: 0.0169 - val_mape: 36.2413 - val_mae: 0.0970\n",
      "Epoch 7/100\n",
      "1105/1105 [==============================] - 15s 14ms/step - loss: 0.0023 - mape: 1189.9578 - mae: 0.0364 - val_loss: 0.0148 - val_mape: 36.8611 - val_mae: 0.0930\n",
      "Epoch 8/100\n",
      "1105/1105 [==============================] - 16s 14ms/step - loss: 0.0022 - mape: 1332.7255 - mae: 0.0356 - val_loss: 0.0194 - val_mape: 37.1535 - val_mae: 0.1025\n",
      "Epoch 9/100\n",
      "1105/1105 [==============================] - 16s 14ms/step - loss: 0.0021 - mape: 1183.5630 - mae: 0.0346 - val_loss: 0.0195 - val_mape: 39.9360 - val_mae: 0.1058\n",
      "Epoch 10/100\n",
      "1105/1105 [==============================] - 16s 15ms/step - loss: 0.0020 - mape: 905.1663 - mae: 0.0338 - val_loss: 0.0197 - val_mape: 38.1853 - val_mae: 0.1043\n",
      "Epoch 11/100\n",
      "1105/1105 [==============================] - 16s 15ms/step - loss: 0.0018 - mape: 1123.3191 - mae: 0.0327 - val_loss: 0.0181 - val_mape: 42.0660 - val_mae: 0.1062\n",
      "Epoch 12/100\n",
      "1105/1105 [==============================] - 16s 14ms/step - loss: 0.0018 - mape: 1276.6388 - mae: 0.0322 - val_loss: 0.0203 - val_mape: 38.2729 - val_mae: 0.1056\n",
      "Epoch 13/100\n",
      "1105/1105 [==============================] - 16s 14ms/step - loss: 0.0018 - mape: 1016.5441 - mae: 0.0318 - val_loss: 0.0221 - val_mape: 41.7618 - val_mae: 0.1128\n",
      "Epoch 14/100\n",
      "1105/1105 [==============================] - 16s 15ms/step - loss: 0.0017 - mape: 1133.5485 - mae: 0.0315 - val_loss: 0.0170 - val_mape: 37.6926 - val_mae: 0.0981\n",
      "Epoch 15/100\n",
      "1105/1105 [==============================] - 17s 15ms/step - loss: 0.0017 - mape: 919.4036 - mae: 0.0309 - val_loss: 0.0175 - val_mape: 39.4037 - val_mae: 0.1014\n",
      "Epoch 16/100\n",
      "1105/1105 [==============================] - 17s 15ms/step - loss: 0.0016 - mape: 1002.7292 - mae: 0.0306 - val_loss: 0.0151 - val_mape: 32.3605 - val_mae: 0.0906\n",
      "Epoch 17/100\n",
      "1105/1105 [==============================] - 16s 15ms/step - loss: 0.0016 - mape: 1173.7185 - mae: 0.0304 - val_loss: 0.0156 - val_mape: 37.1924 - val_mae: 0.0964\n",
      "Epoch 18/100\n",
      "1105/1105 [==============================] - 16s 15ms/step - loss: 0.0016 - mape: 1059.7605 - mae: 0.0304 - val_loss: 0.0193 - val_mape: 37.5047 - val_mae: 0.1026\n",
      "Epoch 19/100\n",
      "1105/1105 [==============================] - 16s 14ms/step - loss: 0.0016 - mape: 1058.4661 - mae: 0.0300 - val_loss: 0.0162 - val_mape: 40.3432 - val_mae: 0.1016\n",
      "Epoch 20/100\n",
      "1105/1105 [==============================] - 17s 15ms/step - loss: 0.0015 - mape: 1049.5151 - mae: 0.0297 - val_loss: 0.0168 - val_mape: 39.4719 - val_mae: 0.1031\n",
      "Epoch 21/100\n",
      "1105/1105 [==============================] - 16s 15ms/step - loss: 0.0015 - mape: 1038.5441 - mae: 0.0293 - val_loss: 0.0158 - val_mape: 32.8149 - val_mae: 0.0925\n",
      "Epoch 22/100\n",
      "1105/1105 [==============================] - 16s 14ms/step - loss: 0.0015 - mape: 1048.1021 - mae: 0.0291 - val_loss: 0.0167 - val_mape: 35.8411 - val_mae: 0.0988\n",
      "Epoch 23/100\n",
      "1105/1105 [==============================] - 17s 15ms/step - loss: 0.0015 - mape: 743.1713 - mae: 0.0289 - val_loss: 0.0174 - val_mape: 37.9772 - val_mae: 0.1004\n",
      "Epoch 24/100\n",
      "1105/1105 [==============================] - 17s 15ms/step - loss: 0.0014 - mape: 1103.7715 - mae: 0.0287 - val_loss: 0.0181 - val_mape: 39.7743 - val_mae: 0.1042\n",
      "Epoch 25/100\n",
      "1105/1105 [==============================] - 16s 14ms/step - loss: 0.0014 - mape: 941.8046 - mae: 0.0284 - val_loss: 0.0182 - val_mape: 41.6681 - val_mae: 0.1060\n",
      "Epoch 26/100\n",
      "1105/1105 [==============================] - 17s 15ms/step - loss: 0.0014 - mape: 898.3232 - mae: 0.0282 - val_loss: 0.0169 - val_mape: 39.2851 - val_mae: 0.1021\n",
      "Epoch 27/100\n",
      "1105/1105 [==============================] - 16s 15ms/step - loss: 0.0014 - mape: 977.7962 - mae: 0.0280 - val_loss: 0.0142 - val_mape: 33.4469 - val_mae: 0.0902\n",
      "Epoch 28/100\n",
      "1105/1105 [==============================] - 16s 15ms/step - loss: 0.0013 - mape: 979.1323 - mae: 0.0278 - val_loss: 0.0188 - val_mape: 37.8823 - val_mae: 0.1024\n",
      "Epoch 29/100\n",
      "1105/1105 [==============================] - 17s 15ms/step - loss: 0.0013 - mape: 1121.7169 - mae: 0.0274 - val_loss: 0.0167 - val_mape: 37.6876 - val_mae: 0.0994\n",
      "Epoch 30/100\n",
      "1105/1105 [==============================] - 17s 15ms/step - loss: 0.0013 - mape: 824.3120 - mae: 0.0272 - val_loss: 0.0179 - val_mape: 38.2775 - val_mae: 0.1035\n",
      "Epoch 31/100\n",
      "1105/1105 [==============================] - 17s 15ms/step - loss: 0.0013 - mape: 841.3659 - mae: 0.0271 - val_loss: 0.0142 - val_mape: 32.1016 - val_mae: 0.0889\n",
      "Epoch 32/100\n",
      "1105/1105 [==============================] - 16s 15ms/step - loss: 0.0013 - mape: 824.0395 - mae: 0.0270 - val_loss: 0.0158 - val_mape: 33.5079 - val_mae: 0.0925\n",
      "Epoch 33/100\n",
      "1105/1105 [==============================] - 17s 15ms/step - loss: 0.0013 - mape: 926.5626 - mae: 0.0268 - val_loss: 0.0168 - val_mape: 33.7785 - val_mae: 0.0949\n",
      "Epoch 34/100\n",
      "1105/1105 [==============================] - 18s 17ms/step - loss: 0.0012 - mape: 949.6646 - mae: 0.0266 - val_loss: 0.0184 - val_mape: 36.5497 - val_mae: 0.1025\n",
      "Epoch 35/100\n",
      "1105/1105 [==============================] - 19s 18ms/step - loss: 0.0012 - mape: 874.8445 - mae: 0.0264 - val_loss: 0.0192 - val_mape: 37.8510 - val_mae: 0.1040\n",
      "Epoch 36/100\n",
      "1105/1105 [==============================] - 20s 18ms/step - loss: 0.0012 - mape: 720.9860 - mae: 0.0263 - val_loss: 0.0193 - val_mape: 40.1560 - val_mae: 0.1066\n",
      "Epoch 37/100\n",
      "1105/1105 [==============================] - 20s 18ms/step - loss: 0.0012 - mape: 976.8318 - mae: 0.0261 - val_loss: 0.0187 - val_mape: 35.4379 - val_mae: 0.0994\n",
      "Epoch 38/100\n",
      "1105/1105 [==============================] - 19s 17ms/step - loss: 0.0012 - mape: 881.9153 - mae: 0.0259 - val_loss: 0.0182 - val_mape: 36.4987 - val_mae: 0.1014\n",
      "Epoch 39/100\n",
      "1105/1105 [==============================] - 20s 18ms/step - loss: 0.0012 - mape: 812.7247 - mae: 0.0258 - val_loss: 0.0173 - val_mape: 37.9207 - val_mae: 0.1020\n",
      "Epoch 40/100\n",
      "1105/1105 [==============================] - 19s 18ms/step - loss: 0.0012 - mape: 984.9259 - mae: 0.0256 - val_loss: 0.0199 - val_mape: 38.5000 - val_mae: 0.1053\n",
      "Epoch 41/100\n",
      "1105/1105 [==============================] - 20s 18ms/step - loss: 0.0012 - mape: 669.7297 - mae: 0.0257 - val_loss: 0.0195 - val_mape: 36.4994 - val_mae: 0.1022\n",
      "Epoch 42/100\n",
      "1105/1105 [==============================] - 19s 18ms/step - loss: 0.0012 - mape: 896.1390 - mae: 0.0256 - val_loss: 0.0175 - val_mape: 35.0823 - val_mae: 0.0980\n",
      "Epoch 43/100\n",
      "1105/1105 [==============================] - 19s 17ms/step - loss: 0.0011 - mape: 794.8635 - mae: 0.0253 - val_loss: 0.0168 - val_mape: 35.7688 - val_mae: 0.0971\n",
      "Epoch 44/100\n",
      "1105/1105 [==============================] - 19s 17ms/step - loss: 0.0011 - mape: 637.0704 - mae: 0.0251 - val_loss: 0.0149 - val_mape: 32.4225 - val_mae: 0.0905\n",
      "Epoch 45/100\n",
      "1105/1105 [==============================] - 19s 17ms/step - loss: 0.0011 - mape: 994.9507 - mae: 0.0250 - val_loss: 0.0180 - val_mape: 34.9445 - val_mae: 0.0994\n",
      "Epoch 46/100\n",
      "1105/1105 [==============================] - 19s 17ms/step - loss: 0.0011 - mape: 740.3380 - mae: 0.0250 - val_loss: 0.0158 - val_mape: 34.6040 - val_mae: 0.0930\n",
      "Epoch 47/100\n",
      "1105/1105 [==============================] - 19s 17ms/step - loss: 0.0011 - mape: 736.0653 - mae: 0.0247 - val_loss: 0.0186 - val_mape: 37.9932 - val_mae: 0.1031\n"
     ]
    },
    {
     "name": "stdout",
     "output_type": "stream",
     "text": [
      "Epoch 48/100\n",
      "1105/1105 [==============================] - 17s 16ms/step - loss: 0.0011 - mape: 981.0356 - mae: 0.0245 - val_loss: 0.0162 - val_mape: 34.4115 - val_mae: 0.0940\n",
      "Epoch 49/100\n",
      "1105/1105 [==============================] - 17s 16ms/step - loss: 0.0011 - mape: 711.0790 - mae: 0.0246 - val_loss: 0.0189 - val_mape: 35.4117 - val_mae: 0.1007\n",
      "Epoch 50/100\n",
      "1105/1105 [==============================] - 17s 15ms/step - loss: 0.0010 - mape: 597.2659 - mae: 0.0244 - val_loss: 0.0172 - val_mape: 35.4384 - val_mae: 0.0980\n",
      "Epoch 51/100\n",
      "1105/1105 [==============================] - 18s 16ms/step - loss: 0.0010 - mape: 766.4883 - mae: 0.0243 - val_loss: 0.0170 - val_mape: 34.1981 - val_mae: 0.0961\n",
      "Epoch 52/100\n",
      "1105/1105 [==============================] - 17s 16ms/step - loss: 0.0010 - mape: 765.9509 - mae: 0.0241 - val_loss: 0.0180 - val_mape: 36.4651 - val_mae: 0.1003\n",
      "Epoch 53/100\n",
      "1105/1105 [==============================] - 17s 16ms/step - loss: 0.0010 - mape: 940.3752 - mae: 0.0243 - val_loss: 0.0167 - val_mape: 34.3072 - val_mae: 0.0967\n",
      "Epoch 54/100\n",
      "1105/1105 [==============================] - 17s 16ms/step - loss: 0.0010 - mape: 785.5924 - mae: 0.0241 - val_loss: 0.0169 - val_mape: 35.1321 - val_mae: 0.0972\n",
      "Epoch 55/100\n",
      "1105/1105 [==============================] - 17s 15ms/step - loss: 0.0010 - mape: 787.1826 - mae: 0.0238 - val_loss: 0.0149 - val_mape: 33.4372 - val_mae: 0.0910\n",
      "Epoch 56/100\n",
      "1105/1105 [==============================] - 18s 17ms/step - loss: 9.8724e-04 - mape: 980.2100 - mae: 0.0236 - val_loss: 0.0178 - val_mape: 37.4780 - val_mae: 0.1020\n",
      "Epoch 57/100\n",
      "1105/1105 [==============================] - 19s 17ms/step - loss: 9.9359e-04 - mape: 562.6600 - mae: 0.0237 - val_loss: 0.0158 - val_mape: 34.4776 - val_mae: 0.0948\n",
      "Epoch 58/100\n",
      "1105/1105 [==============================] - 19s 18ms/step - loss: 9.7134e-04 - mape: 772.9234 - mae: 0.0234 - val_loss: 0.0181 - val_mape: 36.1129 - val_mae: 0.1004\n",
      "Epoch 59/100\n",
      "1105/1105 [==============================] - 19s 18ms/step - loss: 9.6414e-04 - mape: 962.6438 - mae: 0.0233 - val_loss: 0.0181 - val_mape: 36.5350 - val_mae: 0.1011\n",
      "Epoch 60/100\n",
      "1105/1105 [==============================] - 20s 18ms/step - loss: 9.5004e-04 - mape: 1075.3064 - mae: 0.0232 - val_loss: 0.0159 - val_mape: 33.5408 - val_mae: 0.0925\n",
      "Epoch 61/100\n",
      "1105/1105 [==============================] - 20s 18ms/step - loss: 9.4577e-04 - mape: 968.2114 - mae: 0.0231 - val_loss: 0.0190 - val_mape: 36.4354 - val_mae: 0.1015\n",
      "Epoch 62/100\n",
      "1105/1105 [==============================] - 19s 18ms/step - loss: 9.3668e-04 - mape: 664.6879 - mae: 0.0230 - val_loss: 0.0159 - val_mape: 34.5340 - val_mae: 0.0947\n",
      "Epoch 63/100\n",
      "1105/1105 [==============================] - 20s 18ms/step - loss: 9.3594e-04 - mape: 839.0065 - mae: 0.0230 - val_loss: 0.0162 - val_mape: 34.4955 - val_mae: 0.0953\n",
      "Epoch 64/100\n",
      "1105/1105 [==============================] - 20s 18ms/step - loss: 9.2321e-04 - mape: 819.6091 - mae: 0.0228 - val_loss: 0.0178 - val_mape: 36.1105 - val_mae: 0.0997\n",
      "Epoch 65/100\n",
      "1105/1105 [==============================] - 19s 18ms/step - loss: 9.1144e-04 - mape: 822.3052 - mae: 0.0227 - val_loss: 0.0184 - val_mape: 35.6367 - val_mae: 0.1003\n",
      "Epoch 66/100\n",
      "1105/1105 [==============================] - 20s 18ms/step - loss: 9.2068e-04 - mape: 887.7078 - mae: 0.0228 - val_loss: 0.0150 - val_mape: 34.5919 - val_mae: 0.0921\n",
      "Epoch 67/100\n",
      "1105/1105 [==============================] - 20s 18ms/step - loss: 8.9722e-04 - mape: 859.9543 - mae: 0.0225 - val_loss: 0.0166 - val_mape: 34.9829 - val_mae: 0.0964\n",
      "Epoch 68/100\n",
      "1105/1105 [==============================] - 20s 18ms/step - loss: 8.9494e-04 - mape: 854.1594 - mae: 0.0225 - val_loss: 0.0149 - val_mape: 33.4342 - val_mae: 0.0915\n",
      "Epoch 69/100\n",
      "1105/1105 [==============================] - 20s 18ms/step - loss: 8.7451e-04 - mape: 774.5859 - mae: 0.0222 - val_loss: 0.0163 - val_mape: 35.1666 - val_mae: 0.0958\n",
      "Epoch 70/100\n",
      "1105/1105 [==============================] - 20s 18ms/step - loss: 8.7809e-04 - mape: 778.7350 - mae: 0.0222 - val_loss: 0.0181 - val_mape: 36.0514 - val_mae: 0.1002\n",
      "Epoch 71/100\n",
      "1105/1105 [==============================] - 20s 18ms/step - loss: 8.6557e-04 - mape: 866.7104 - mae: 0.0221 - val_loss: 0.0174 - val_mape: 35.9783 - val_mae: 0.0995\n",
      "Epoch 72/100\n",
      "1105/1105 [==============================] - 19s 18ms/step - loss: 8.5797e-04 - mape: 526.2510 - mae: 0.0220 - val_loss: 0.0184 - val_mape: 35.2961 - val_mae: 0.0997\n",
      "Epoch 73/100\n",
      "1105/1105 [==============================] - 20s 18ms/step - loss: 8.4032e-04 - mape: 1016.2922 - mae: 0.0218 - val_loss: 0.0170 - val_mape: 35.7285 - val_mae: 0.0976\n",
      "Epoch 74/100\n",
      "1105/1105 [==============================] - 19s 18ms/step - loss: 8.6304e-04 - mape: 926.0566 - mae: 0.0220 - val_loss: 0.0186 - val_mape: 37.3457 - val_mae: 0.1019\n",
      "Epoch 75/100\n",
      "1105/1105 [==============================] - 19s 17ms/step - loss: 8.2763e-04 - mape: 945.9415 - mae: 0.0216 - val_loss: 0.0159 - val_mape: 34.2504 - val_mae: 0.0941\n",
      "Epoch 76/100\n",
      "1105/1105 [==============================] - 19s 17ms/step - loss: 8.2139e-04 - mape: 849.2717 - mae: 0.0215 - val_loss: 0.0179 - val_mape: 36.8305 - val_mae: 0.1009\n",
      "Epoch 77/100\n",
      "1105/1105 [==============================] - 19s 17ms/step - loss: 8.2184e-04 - mape: 964.5318 - mae: 0.0215 - val_loss: 0.0159 - val_mape: 34.0707 - val_mae: 0.0941\n",
      "Epoch 78/100\n",
      "1105/1105 [==============================] - 19s 17ms/step - loss: 8.1534e-04 - mape: 922.3726 - mae: 0.0214 - val_loss: 0.0209 - val_mape: 38.7358 - val_mae: 0.1079\n",
      "Epoch 79/100\n",
      "1105/1105 [==============================] - 19s 17ms/step - loss: 8.1116e-04 - mape: 657.3253 - mae: 0.0213 - val_loss: 0.0188 - val_mape: 37.5695 - val_mae: 0.1034\n",
      "Epoch 80/100\n",
      "1105/1105 [==============================] - 19s 17ms/step - loss: 8.0529e-04 - mape: 836.7614 - mae: 0.0213 - val_loss: 0.0176 - val_mape: 35.6285 - val_mae: 0.0992\n",
      "Epoch 81/100\n",
      "1105/1105 [==============================] - 19s 17ms/step - loss: 7.9271e-04 - mape: 979.4680 - mae: 0.0211 - val_loss: 0.0156 - val_mape: 34.5913 - val_mae: 0.0930\n",
      "Epoch 82/100\n",
      "1105/1105 [==============================] - 19s 17ms/step - loss: 7.9546e-04 - mape: 712.9943 - mae: 0.0212 - val_loss: 0.0184 - val_mape: 36.8612 - val_mae: 0.1016\n",
      "Epoch 83/100\n",
      "1105/1105 [==============================] - 19s 17ms/step - loss: 7.9476e-04 - mape: 723.6337 - mae: 0.0212 - val_loss: 0.0179 - val_mape: 36.6671 - val_mae: 0.1007\n",
      "Epoch 84/100\n",
      "1105/1105 [==============================] - 19s 17ms/step - loss: 7.8131e-04 - mape: 681.5461 - mae: 0.0210 - val_loss: 0.0183 - val_mape: 35.5200 - val_mae: 0.1004\n",
      "Epoch 85/100\n",
      "1105/1105 [==============================] - 19s 17ms/step - loss: 7.8064e-04 - mape: 698.2029 - mae: 0.0209 - val_loss: 0.0178 - val_mape: 35.8125 - val_mae: 0.0984\n",
      "Epoch 86/100\n",
      "1105/1105 [==============================] - 18s 16ms/step - loss: 7.5447e-04 - mape: 809.9547 - mae: 0.0206 - val_loss: 0.0209 - val_mape: 39.9881 - val_mae: 0.1093\n",
      "Epoch 87/100\n",
      "1105/1105 [==============================] - 18s 16ms/step - loss: 7.5991e-04 - mape: 969.6193 - mae: 0.0207 - val_loss: 0.0177 - val_mape: 35.6127 - val_mae: 0.0986\n",
      "Epoch 88/100\n",
      "1105/1105 [==============================] - 18s 17ms/step - loss: 7.4309e-04 - mape: 963.5469 - mae: 0.0205 - val_loss: 0.0178 - val_mape: 36.2908 - val_mae: 0.1000\n",
      "Epoch 89/100\n",
      "1105/1105 [==============================] - 19s 17ms/step - loss: 7.4385e-04 - mape: 701.1348 - mae: 0.0205 - val_loss: 0.0179 - val_mape: 36.0279 - val_mae: 0.0999\n",
      "Epoch 90/100\n",
      "1105/1105 [==============================] - 19s 17ms/step - loss: 7.4966e-04 - mape: 978.7338 - mae: 0.0205 - val_loss: 0.0159 - val_mape: 34.2852 - val_mae: 0.0942\n",
      "Epoch 91/100\n",
      "1105/1105 [==============================] - 19s 17ms/step - loss: 7.5665e-04 - mape: 849.0547 - mae: 0.0206 - val_loss: 0.0167 - val_mape: 36.3437 - val_mae: 0.0985\n",
      "Epoch 92/100\n",
      "1105/1105 [==============================] - 19s 17ms/step - loss: 7.2842e-04 - mape: 823.9493 - mae: 0.0202 - val_loss: 0.0170 - val_mape: 35.7309 - val_mae: 0.0979\n",
      "Epoch 93/100\n",
      "1105/1105 [==============================] - 20s 18ms/step - loss: 7.1925e-04 - mape: 931.1417 - mae: 0.0201 - val_loss: 0.0180 - val_mape: 36.2295 - val_mae: 0.1001\n"
     ]
    },
    {
     "name": "stdout",
     "output_type": "stream",
     "text": [
      "Epoch 94/100\n",
      "1105/1105 [==============================] - 17s 16ms/step - loss: 7.2516e-04 - mape: 781.6058 - mae: 0.0202 - val_loss: 0.0187 - val_mape: 36.5249 - val_mae: 0.1013\n",
      "Epoch 95/100\n",
      "1105/1105 [==============================] - 17s 16ms/step - loss: 7.0436e-04 - mape: 648.9227 - mae: 0.0199 - val_loss: 0.0165 - val_mape: 35.7362 - val_mae: 0.0973\n",
      "Epoch 96/100\n",
      "1105/1105 [==============================] - 17s 16ms/step - loss: 7.0830e-04 - mape: 923.0394 - mae: 0.0200 - val_loss: 0.0187 - val_mape: 37.6660 - val_mae: 0.1022\n",
      "Epoch 97/100\n",
      "1105/1105 [==============================] - 17s 16ms/step - loss: 7.0504e-04 - mape: 880.3671 - mae: 0.0199 - val_loss: 0.0179 - val_mape: 37.2535 - val_mae: 0.1006\n",
      "Epoch 98/100\n",
      "1105/1105 [==============================] - 18s 16ms/step - loss: 6.9927e-04 - mape: 969.3981 - mae: 0.0198 - val_loss: 0.0174 - val_mape: 36.7080 - val_mae: 0.0986\n",
      "Epoch 99/100\n",
      "1105/1105 [==============================] - 17s 16ms/step - loss: 6.8918e-04 - mape: 628.0785 - mae: 0.0197 - val_loss: 0.0186 - val_mape: 36.1935 - val_mae: 0.1008\n",
      "Epoch 100/100\n",
      "1105/1105 [==============================] - 17s 16ms/step - loss: 6.8715e-04 - mape: 921.5002 - mae: 0.0197 - val_loss: 0.0174 - val_mape: 36.9166 - val_mae: 0.0991\n"
     ]
    },
    {
     "data": {
      "text/plain": [
       "<keras.callbacks.History at 0x27234fa7100>"
      ]
     },
     "execution_count": 22,
     "metadata": {},
     "output_type": "execute_result"
    }
   ],
   "source": [
    "model.fit(X_train, Y_train, epochs= epochs, batch_size= batchSize, verbose= 1, shuffle= True, validation_data= (X_valid, Y_valid))"
   ]
  },
  {
   "cell_type": "code",
   "execution_count": 23,
   "id": "cd839153",
   "metadata": {},
   "outputs": [
    {
     "name": "stdout",
     "output_type": "stream",
     "text": [
      "Total execution time in seconds: 1804.254863023758\n"
     ]
    }
   ],
   "source": [
    "calcExecTime = (time.time() - startTime)\n",
    "print('Total execution time in seconds: ' + str(calcExecTime))"
   ]
  },
  {
   "cell_type": "markdown",
   "id": "72aafa74",
   "metadata": {},
   "source": [
    "### MAKING PREDICTIONS AND GENERATING RESULTS"
   ]
  },
  {
   "cell_type": "code",
   "execution_count": 24,
   "id": "259bfb49",
   "metadata": {},
   "outputs": [
    {
     "name": "stdout",
     "output_type": "stream",
     "text": [
      "6/6 [==============================] - 1s 16ms/step\n"
     ]
    }
   ],
   "source": [
    "predictions = model.predict(X_test)"
   ]
  },
  {
   "cell_type": "code",
   "execution_count": 25,
   "id": "2912d431",
   "metadata": {},
   "outputs": [
    {
     "data": {
      "text/plain": [
       "array([0.10821219, 0.08045383, 0.06673777, ..., 0.33825195, 0.2945911 ,\n",
       "       0.24975957], dtype=float32)"
      ]
     },
     "execution_count": 25,
     "metadata": {},
     "output_type": "execute_result"
    }
   ],
   "source": [
    "predArr = predictions.reshape(predictions.shape[0] * predictions.shape[1], predictions.shape[2]).ravel()\n",
    "predArr"
   ]
  },
  {
   "cell_type": "code",
   "execution_count": 26,
   "id": "b01889f2",
   "metadata": {},
   "outputs": [
    {
     "data": {
      "text/plain": [
       "array([0.26600104, 0.242116  , 0.22642119, ..., 0.22142303, 0.2025681 ,\n",
       "       0.18779946])"
      ]
     },
     "execution_count": 26,
     "metadata": {},
     "output_type": "execute_result"
    }
   ],
   "source": [
    "Y_testArr = Y_test.reshape(Y_test.shape[0] * Y_test.shape[1], Y_test.shape[2]).ravel()\n",
    "Y_testArr"
   ]
  },
  {
   "cell_type": "code",
   "execution_count": 27,
   "id": "799c97e8",
   "metadata": {},
   "outputs": [],
   "source": [
    "def inverse_transform(df):\n",
    "    column_names = df.columns\n",
    "    for col in column_names:\n",
    "        df[col] = ValScaler.inverse_transform(df[[col]]) \n",
    "    return df"
   ]
  },
  {
   "cell_type": "code",
   "execution_count": 28,
   "id": "afa81e30",
   "metadata": {},
   "outputs": [
    {
     "data": {
      "text/html": [
       "<div>\n",
       "<style scoped>\n",
       "    .dataframe tbody tr th:only-of-type {\n",
       "        vertical-align: middle;\n",
       "    }\n",
       "\n",
       "    .dataframe tbody tr th {\n",
       "        vertical-align: top;\n",
       "    }\n",
       "\n",
       "    .dataframe thead th {\n",
       "        text-align: right;\n",
       "    }\n",
       "</style>\n",
       "<table border=\"1\" class=\"dataframe\">\n",
       "  <thead>\n",
       "    <tr style=\"text-align: right;\">\n",
       "      <th></th>\n",
       "      <th>Values</th>\n",
       "      <th>Predictions</th>\n",
       "    </tr>\n",
       "  </thead>\n",
       "  <tbody>\n",
       "    <tr>\n",
       "      <th>0</th>\n",
       "      <td>6437.694035</td>\n",
       "      <td>4776.177734</td>\n",
       "    </tr>\n",
       "    <tr>\n",
       "      <th>1</th>\n",
       "      <td>6186.184567</td>\n",
       "      <td>4483.882324</td>\n",
       "    </tr>\n",
       "    <tr>\n",
       "      <th>2</th>\n",
       "      <td>6020.918290</td>\n",
       "      <td>4339.452148</td>\n",
       "    </tr>\n",
       "    <tr>\n",
       "      <th>3</th>\n",
       "      <td>6036.897519</td>\n",
       "      <td>4289.166992</td>\n",
       "    </tr>\n",
       "    <tr>\n",
       "      <th>4</th>\n",
       "      <td>6172.562026</td>\n",
       "      <td>4421.524902</td>\n",
       "    </tr>\n",
       "    <tr>\n",
       "      <th>...</th>\n",
       "      <td>...</td>\n",
       "      <td>...</td>\n",
       "    </tr>\n",
       "    <tr>\n",
       "      <th>4363</th>\n",
       "      <td>6453.697286</td>\n",
       "      <td>7496.837402</td>\n",
       "    </tr>\n",
       "    <tr>\n",
       "      <th>4364</th>\n",
       "      <td>6175.763027</td>\n",
       "      <td>7450.188477</td>\n",
       "    </tr>\n",
       "    <tr>\n",
       "      <th>4365</th>\n",
       "      <td>5968.287603</td>\n",
       "      <td>7198.495605</td>\n",
       "    </tr>\n",
       "    <tr>\n",
       "      <th>4366</th>\n",
       "      <td>5769.745220</td>\n",
       "      <td>6738.747559</td>\n",
       "    </tr>\n",
       "    <tr>\n",
       "      <th>4367</th>\n",
       "      <td>5614.231555</td>\n",
       "      <td>6266.671387</td>\n",
       "    </tr>\n",
       "  </tbody>\n",
       "</table>\n",
       "<p>4368 rows × 2 columns</p>\n",
       "</div>"
      ],
      "text/plain": [
       "           Values  Predictions\n",
       "0     6437.694035  4776.177734\n",
       "1     6186.184567  4483.882324\n",
       "2     6020.918290  4339.452148\n",
       "3     6036.897519  4289.166992\n",
       "4     6172.562026  4421.524902\n",
       "...           ...          ...\n",
       "4363  6453.697286  7496.837402\n",
       "4364  6175.763027  7450.188477\n",
       "4365  5968.287603  7198.495605\n",
       "4366  5769.745220  6738.747559\n",
       "4367  5614.231555  6266.671387\n",
       "\n",
       "[4368 rows x 2 columns]"
      ]
     },
     "execution_count": 28,
     "metadata": {},
     "output_type": "execute_result"
    }
   ],
   "source": [
    "comparisionDf = pd.DataFrame(data= {\"Values\": Y_testArr, \"Predictions\": predArr})\n",
    "comparisionDf = inverse_transform(comparisionDf)\n",
    "comparisionDf"
   ]
  },
  {
   "cell_type": "code",
   "execution_count": 29,
   "id": "88222bae",
   "metadata": {},
   "outputs": [
    {
     "data": {
      "text/plain": [
       "13.17602294261721"
      ]
     },
     "execution_count": 29,
     "metadata": {},
     "output_type": "execute_result"
    }
   ],
   "source": [
    "mape(comparisionDf[\"Values\"], comparisionDf[\"Predictions\"])"
   ]
  }
 ],
 "metadata": {
  "kernelspec": {
   "display_name": "Python 3 (ipykernel)",
   "language": "python",
   "name": "python3"
  },
  "language_info": {
   "codemirror_mode": {
    "name": "ipython",
    "version": 3
   },
   "file_extension": ".py",
   "mimetype": "text/x-python",
   "name": "python",
   "nbconvert_exporter": "python",
   "pygments_lexer": "ipython3",
   "version": "3.9.12"
  }
 },
 "nbformat": 4,
 "nbformat_minor": 5
}
