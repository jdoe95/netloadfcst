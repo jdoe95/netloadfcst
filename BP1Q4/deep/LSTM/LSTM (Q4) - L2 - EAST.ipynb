{
 "cells": [
  {
   "cell_type": "code",
   "execution_count": 1,
   "id": "5f61b29f",
   "metadata": {},
   "outputs": [
    {
     "name": "stdout",
     "output_type": "stream",
     "text": [
      "Num GPUs Available:  1\n"
     ]
    }
   ],
   "source": [
    "import pandas as pd\n",
    "import numpy as np\n",
    "import os\n",
    "import matplotlib.pyplot as plt\n",
    "from datetime import datetime\n",
    "from sklearn.preprocessing import MinMaxScaler, RobustScaler, StandardScaler\n",
    "import time\n",
    "\n",
    "import tensorflow as tf\n",
    "tf.random.set_seed(42)\n",
    "\n",
    "def mape(y_true, y_pred):\n",
    "    y_true, y_pred = np.array(y_true), np.array(y_pred)\n",
    "    return np.mean(np.abs((y_true - y_pred) / max(y_true))) * 100\n",
    "\n",
    "def RMSELoss(yhat,y):\n",
    "    return torch.sqrt(torch.mean((yhat-y)**2))\n",
    "\n",
    "print(\"Num GPUs Available: \", len(tf.config.list_physical_devices('GPU')))"
   ]
  },
  {
   "cell_type": "code",
   "execution_count": 2,
   "id": "cea0abe2",
   "metadata": {},
   "outputs": [
    {
     "name": "stdout",
     "output_type": "stream",
     "text": [
      "['COAST.csv', 'EAST.csv', 'FWEST.csv', 'NCENT.csv', 'NORTH.csv', 'SCENT.csv', 'SOUTH.csv', 'WEST.csv']\n"
     ]
    }
   ],
   "source": [
    "# Specifying the path of file\n",
    "path= r\"C:\\Users\\sashah8\\OneDrive - North Carolina State University\\Desktop\\Q4\\Data\\L2\\data_cleaned\"\n",
    "\n",
    "# Listing just the required files\n",
    "fileList = os.listdir(path)\n",
    "fileList.remove(\"Date.csv\")\n",
    "\n",
    "# Previewing the required file names\n",
    "print(fileList)"
   ]
  },
  {
   "cell_type": "code",
   "execution_count": 3,
   "id": "a6fe9396",
   "metadata": {},
   "outputs": [
    {
     "data": {
      "text/html": [
       "<div>\n",
       "<style scoped>\n",
       "    .dataframe tbody tr th:only-of-type {\n",
       "        vertical-align: middle;\n",
       "    }\n",
       "\n",
       "    .dataframe tbody tr th {\n",
       "        vertical-align: top;\n",
       "    }\n",
       "\n",
       "    .dataframe thead th {\n",
       "        text-align: right;\n",
       "    }\n",
       "</style>\n",
       "<table border=\"1\" class=\"dataframe\">\n",
       "  <thead>\n",
       "    <tr style=\"text-align: right;\">\n",
       "      <th></th>\n",
       "      <th>Net</th>\n",
       "      <th>Temprature</th>\n",
       "    </tr>\n",
       "  </thead>\n",
       "  <tbody>\n",
       "    <tr>\n",
       "      <th>0</th>\n",
       "      <td>1350.784678</td>\n",
       "      <td>4.6</td>\n",
       "    </tr>\n",
       "    <tr>\n",
       "      <th>1</th>\n",
       "      <td>1333.434943</td>\n",
       "      <td>4.6</td>\n",
       "    </tr>\n",
       "    <tr>\n",
       "      <th>2</th>\n",
       "      <td>1323.908498</td>\n",
       "      <td>4.5</td>\n",
       "    </tr>\n",
       "    <tr>\n",
       "      <th>3</th>\n",
       "      <td>1325.951405</td>\n",
       "      <td>4.3</td>\n",
       "    </tr>\n",
       "    <tr>\n",
       "      <th>4</th>\n",
       "      <td>1339.675290</td>\n",
       "      <td>3.9</td>\n",
       "    </tr>\n",
       "    <tr>\n",
       "      <th>...</th>\n",
       "      <td>...</td>\n",
       "      <td>...</td>\n",
       "    </tr>\n",
       "    <tr>\n",
       "      <th>43818</th>\n",
       "      <td>1417.306742</td>\n",
       "      <td>13.4</td>\n",
       "    </tr>\n",
       "    <tr>\n",
       "      <th>43819</th>\n",
       "      <td>1411.761157</td>\n",
       "      <td>13.8</td>\n",
       "    </tr>\n",
       "    <tr>\n",
       "      <th>43820</th>\n",
       "      <td>1403.990584</td>\n",
       "      <td>13.7</td>\n",
       "    </tr>\n",
       "    <tr>\n",
       "      <th>43821</th>\n",
       "      <td>1387.051521</td>\n",
       "      <td>12.5</td>\n",
       "    </tr>\n",
       "    <tr>\n",
       "      <th>43822</th>\n",
       "      <td>1357.841863</td>\n",
       "      <td>9.1</td>\n",
       "    </tr>\n",
       "  </tbody>\n",
       "</table>\n",
       "<p>43823 rows × 2 columns</p>\n",
       "</div>"
      ],
      "text/plain": [
       "               Net  Temprature\n",
       "0      1350.784678         4.6\n",
       "1      1333.434943         4.6\n",
       "2      1323.908498         4.5\n",
       "3      1325.951405         4.3\n",
       "4      1339.675290         3.9\n",
       "...            ...         ...\n",
       "43818  1417.306742        13.4\n",
       "43819  1411.761157        13.8\n",
       "43820  1403.990584        13.7\n",
       "43821  1387.051521        12.5\n",
       "43822  1357.841863         9.1\n",
       "\n",
       "[43823 rows x 2 columns]"
      ]
     },
     "execution_count": 3,
     "metadata": {},
     "output_type": "execute_result"
    }
   ],
   "source": [
    "# Just for previewing the columns\n",
    "pd.read_csv(os.path.join(path, fileList[1]))"
   ]
  },
  {
   "cell_type": "markdown",
   "id": "9ad4906c",
   "metadata": {
    "pycharm": {
     "name": "#%% md\n"
    }
   },
   "source": [
    "### PROCESSING THE DATA"
   ]
  },
  {
   "cell_type": "code",
   "execution_count": 4,
   "id": "f29f6db2",
   "metadata": {},
   "outputs": [
    {
     "data": {
      "text/html": [
       "<div>\n",
       "<style scoped>\n",
       "    .dataframe tbody tr th:only-of-type {\n",
       "        vertical-align: middle;\n",
       "    }\n",
       "\n",
       "    .dataframe tbody tr th {\n",
       "        vertical-align: top;\n",
       "    }\n",
       "\n",
       "    .dataframe thead th {\n",
       "        text-align: right;\n",
       "    }\n",
       "</style>\n",
       "<table border=\"1\" class=\"dataframe\">\n",
       "  <thead>\n",
       "    <tr style=\"text-align: right;\">\n",
       "      <th></th>\n",
       "      <th>Load_EAST</th>\n",
       "      <th>Temp_EAST</th>\n",
       "    </tr>\n",
       "  </thead>\n",
       "  <tbody>\n",
       "    <tr>\n",
       "      <th>0</th>\n",
       "      <td>1350.784678</td>\n",
       "      <td>4.6</td>\n",
       "    </tr>\n",
       "    <tr>\n",
       "      <th>1</th>\n",
       "      <td>1350.784678</td>\n",
       "      <td>4.6</td>\n",
       "    </tr>\n",
       "    <tr>\n",
       "      <th>2</th>\n",
       "      <td>1333.434943</td>\n",
       "      <td>4.6</td>\n",
       "    </tr>\n",
       "    <tr>\n",
       "      <th>3</th>\n",
       "      <td>1323.908498</td>\n",
       "      <td>4.5</td>\n",
       "    </tr>\n",
       "    <tr>\n",
       "      <th>4</th>\n",
       "      <td>1325.951405</td>\n",
       "      <td>4.3</td>\n",
       "    </tr>\n",
       "    <tr>\n",
       "      <th>...</th>\n",
       "      <td>...</td>\n",
       "      <td>...</td>\n",
       "    </tr>\n",
       "    <tr>\n",
       "      <th>43819</th>\n",
       "      <td>1417.306742</td>\n",
       "      <td>13.4</td>\n",
       "    </tr>\n",
       "    <tr>\n",
       "      <th>43820</th>\n",
       "      <td>1411.761157</td>\n",
       "      <td>13.8</td>\n",
       "    </tr>\n",
       "    <tr>\n",
       "      <th>43821</th>\n",
       "      <td>1403.990584</td>\n",
       "      <td>13.7</td>\n",
       "    </tr>\n",
       "    <tr>\n",
       "      <th>43822</th>\n",
       "      <td>1387.051521</td>\n",
       "      <td>12.5</td>\n",
       "    </tr>\n",
       "    <tr>\n",
       "      <th>43823</th>\n",
       "      <td>1357.841863</td>\n",
       "      <td>9.1</td>\n",
       "    </tr>\n",
       "  </tbody>\n",
       "</table>\n",
       "<p>43824 rows × 2 columns</p>\n",
       "</div>"
      ],
      "text/plain": [
       "         Load_EAST  Temp_EAST\n",
       "0      1350.784678        4.6\n",
       "1      1350.784678        4.6\n",
       "2      1333.434943        4.6\n",
       "3      1323.908498        4.5\n",
       "4      1325.951405        4.3\n",
       "...            ...        ...\n",
       "43819  1417.306742       13.4\n",
       "43820  1411.761157       13.8\n",
       "43821  1403.990584       13.7\n",
       "43822  1387.051521       12.5\n",
       "43823  1357.841863        9.1\n",
       "\n",
       "[43824 rows x 2 columns]"
      ]
     },
     "execution_count": 4,
     "metadata": {},
     "output_type": "execute_result"
    }
   ],
   "source": [
    "# Restricting the load data to a single zone\n",
    "fileName  = fileList[1]\n",
    "\n",
    "zoneData = pd.read_csv(os.path.join(path, fileName))\n",
    "zoneData.columns = [\"Load_\"+str(fileName[:-4]), \"Temp_\"+str(fileName[:-4])]\n",
    "\n",
    "# For fixing one missing row\n",
    "zoneData = pd.concat([zoneData.loc[[0]], zoneData], axis= 0).reset_index(drop= True)\n",
    "\n",
    "zoneData"
   ]
  },
  {
   "cell_type": "markdown",
   "id": "01cec4bd",
   "metadata": {},
   "source": [
    "### FEATURE ENGINEERING AND SPLITTING INTO TRAIN-TEST SPLIT"
   ]
  },
  {
   "cell_type": "code",
   "execution_count": 5,
   "id": "a1e1e8a3",
   "metadata": {},
   "outputs": [],
   "source": [
    "def lagGenerator(dF, lagList):\n",
    "    dF_temp = dF.filter(regex= \"Load\").copy()\n",
    "    \n",
    "    for i in lagList:\n",
    "        dF_temp.loc[:, \"Lag-\" + str(i)] = dF_temp.iloc[:,[0]].shift(i*24)\n",
    "    \n",
    "    return(dF_temp.filter(regex= \"Lag\"))"
   ]
  },
  {
   "cell_type": "code",
   "execution_count": 6,
   "id": "159a2a82",
   "metadata": {},
   "outputs": [
    {
     "data": {
      "text/html": [
       "<div>\n",
       "<style scoped>\n",
       "    .dataframe tbody tr th:only-of-type {\n",
       "        vertical-align: middle;\n",
       "    }\n",
       "\n",
       "    .dataframe tbody tr th {\n",
       "        vertical-align: top;\n",
       "    }\n",
       "\n",
       "    .dataframe thead th {\n",
       "        text-align: right;\n",
       "    }\n",
       "</style>\n",
       "<table border=\"1\" class=\"dataframe\">\n",
       "  <thead>\n",
       "    <tr style=\"text-align: right;\">\n",
       "      <th></th>\n",
       "      <th>Lag-2</th>\n",
       "      <th>Lag-7</th>\n",
       "    </tr>\n",
       "  </thead>\n",
       "  <tbody>\n",
       "    <tr>\n",
       "      <th>0</th>\n",
       "      <td>NaN</td>\n",
       "      <td>NaN</td>\n",
       "    </tr>\n",
       "    <tr>\n",
       "      <th>1</th>\n",
       "      <td>NaN</td>\n",
       "      <td>NaN</td>\n",
       "    </tr>\n",
       "  </tbody>\n",
       "</table>\n",
       "</div>"
      ],
      "text/plain": [
       "   Lag-2  Lag-7\n",
       "0    NaN    NaN\n",
       "1    NaN    NaN"
      ]
     },
     "execution_count": 6,
     "metadata": {},
     "output_type": "execute_result"
    }
   ],
   "source": [
    "Load_lags = lagGenerator(dF=zoneData, lagList=[2,7])\n",
    "Load_lags.head(2)"
   ]
  },
  {
   "cell_type": "code",
   "execution_count": 7,
   "id": "05896954",
   "metadata": {},
   "outputs": [
    {
     "data": {
      "text/html": [
       "<div>\n",
       "<style scoped>\n",
       "    .dataframe tbody tr th:only-of-type {\n",
       "        vertical-align: middle;\n",
       "    }\n",
       "\n",
       "    .dataframe tbody tr th {\n",
       "        vertical-align: top;\n",
       "    }\n",
       "\n",
       "    .dataframe thead th {\n",
       "        text-align: right;\n",
       "    }\n",
       "</style>\n",
       "<table border=\"1\" class=\"dataframe\">\n",
       "  <thead>\n",
       "    <tr style=\"text-align: right;\">\n",
       "      <th></th>\n",
       "      <th>Load_EAST</th>\n",
       "      <th>Temp_EAST</th>\n",
       "      <th>Lag-2</th>\n",
       "      <th>Lag-7</th>\n",
       "    </tr>\n",
       "  </thead>\n",
       "  <tbody>\n",
       "    <tr>\n",
       "      <th>0</th>\n",
       "      <td>1811.886000</td>\n",
       "      <td>4.6</td>\n",
       "      <td>1566.078230</td>\n",
       "      <td>1350.784678</td>\n",
       "    </tr>\n",
       "    <tr>\n",
       "      <th>1</th>\n",
       "      <td>1795.960738</td>\n",
       "      <td>3.0</td>\n",
       "      <td>1563.801029</td>\n",
       "      <td>1350.784678</td>\n",
       "    </tr>\n",
       "    <tr>\n",
       "      <th>2</th>\n",
       "      <td>1796.887029</td>\n",
       "      <td>1.6</td>\n",
       "      <td>1550.922231</td>\n",
       "      <td>1333.434943</td>\n",
       "    </tr>\n",
       "    <tr>\n",
       "      <th>3</th>\n",
       "      <td>1832.138977</td>\n",
       "      <td>0.2</td>\n",
       "      <td>1559.483464</td>\n",
       "      <td>1323.908498</td>\n",
       "    </tr>\n",
       "    <tr>\n",
       "      <th>4</th>\n",
       "      <td>1806.797437</td>\n",
       "      <td>-1.3</td>\n",
       "      <td>1563.313440</td>\n",
       "      <td>1325.951405</td>\n",
       "    </tr>\n",
       "    <tr>\n",
       "      <th>...</th>\n",
       "      <td>...</td>\n",
       "      <td>...</td>\n",
       "      <td>...</td>\n",
       "      <td>...</td>\n",
       "    </tr>\n",
       "    <tr>\n",
       "      <th>43651</th>\n",
       "      <td>1417.306742</td>\n",
       "      <td>13.4</td>\n",
       "      <td>1360.791751</td>\n",
       "      <td>1222.397590</td>\n",
       "    </tr>\n",
       "    <tr>\n",
       "      <th>43652</th>\n",
       "      <td>1411.761157</td>\n",
       "      <td>13.8</td>\n",
       "      <td>1388.562537</td>\n",
       "      <td>1237.349389</td>\n",
       "    </tr>\n",
       "    <tr>\n",
       "      <th>43653</th>\n",
       "      <td>1403.990584</td>\n",
       "      <td>13.7</td>\n",
       "      <td>1387.373894</td>\n",
       "      <td>1236.197626</td>\n",
       "    </tr>\n",
       "    <tr>\n",
       "      <th>43654</th>\n",
       "      <td>1387.051521</td>\n",
       "      <td>12.5</td>\n",
       "      <td>1350.918789</td>\n",
       "      <td>1216.187797</td>\n",
       "    </tr>\n",
       "    <tr>\n",
       "      <th>43655</th>\n",
       "      <td>1357.841863</td>\n",
       "      <td>9.1</td>\n",
       "      <td>1299.794530</td>\n",
       "      <td>1166.584633</td>\n",
       "    </tr>\n",
       "  </tbody>\n",
       "</table>\n",
       "<p>43656 rows × 4 columns</p>\n",
       "</div>"
      ],
      "text/plain": [
       "         Load_EAST  Temp_EAST        Lag-2        Lag-7\n",
       "0      1811.886000        4.6  1566.078230  1350.784678\n",
       "1      1795.960738        3.0  1563.801029  1350.784678\n",
       "2      1796.887029        1.6  1550.922231  1333.434943\n",
       "3      1832.138977        0.2  1559.483464  1323.908498\n",
       "4      1806.797437       -1.3  1563.313440  1325.951405\n",
       "...            ...        ...          ...          ...\n",
       "43651  1417.306742       13.4  1360.791751  1222.397590\n",
       "43652  1411.761157       13.8  1388.562537  1237.349389\n",
       "43653  1403.990584       13.7  1387.373894  1236.197626\n",
       "43654  1387.051521       12.5  1350.918789  1216.187797\n",
       "43655  1357.841863        9.1  1299.794530  1166.584633\n",
       "\n",
       "[43656 rows x 4 columns]"
      ]
     },
     "execution_count": 7,
     "metadata": {},
     "output_type": "execute_result"
    }
   ],
   "source": [
    "dataDf = pd.concat([zoneData, Load_lags], axis= 1).dropna(axis= 0).reset_index(drop= True)\n",
    "dataDf"
   ]
  },
  {
   "cell_type": "code",
   "execution_count": 8,
   "id": "6ad25321",
   "metadata": {},
   "outputs": [],
   "source": [
    "# Setting the train-test split ratio\n",
    "ratio = 0.1"
   ]
  },
  {
   "cell_type": "code",
   "execution_count": 9,
   "id": "3c08d963",
   "metadata": {},
   "outputs": [],
   "source": [
    "Num_train, Num_test = int(len(dataDf)/24 * (1 - ratio)) * 24, int(len(dataDf)/24 * ratio) * 24"
   ]
  },
  {
   "cell_type": "code",
   "execution_count": 10,
   "id": "cbe069ff",
   "metadata": {},
   "outputs": [],
   "source": [
    "# Splitting the data into train and test\n",
    "data_train, data_test = dataDf[:Num_train], dataDf[Num_train:]"
   ]
  },
  {
   "cell_type": "code",
   "execution_count": 11,
   "id": "d84e15c4",
   "metadata": {},
   "outputs": [],
   "source": [
    "Num_train, Num_valid = int(len(data_train)/24 * (1 - ratio)) * 24, int(len(data_train)/24 * ratio) * 24"
   ]
  },
  {
   "cell_type": "code",
   "execution_count": 12,
   "id": "c17d1723",
   "metadata": {},
   "outputs": [],
   "source": [
    "# Splitting the data into train and test\n",
    "data_train, data_valid = data_train[:Num_train], data_train[Num_train:]"
   ]
  },
  {
   "cell_type": "markdown",
   "id": "88d32011",
   "metadata": {},
   "source": [
    "### SPLITTING INTO X AND Y PART WITH SEQUENCE BATCHING"
   ]
  },
  {
   "cell_type": "code",
   "execution_count": 13,
   "id": "4ba286ca",
   "metadata": {},
   "outputs": [],
   "source": [
    "X_train_df, Y_train_df = data_train.iloc[:, 1:], data_train.iloc[:, :1]\n",
    "\n",
    "X_valid_df, Y_valid_df = data_valid.iloc[:, 1:], data_valid.iloc[:, :1]\n",
    "\n",
    "X_test_df, Y_test_df = data_test.iloc[:, 1:], data_test.iloc[:, :1]"
   ]
  },
  {
   "cell_type": "code",
   "execution_count": 14,
   "id": "ef1d9079",
   "metadata": {},
   "outputs": [],
   "source": [
    "# Preparing the scaler\n",
    "ValScaler = MinMaxScaler()\n",
    "\n",
    "X_train = ValScaler.fit_transform(X_train_df)\n",
    "X_valid = ValScaler.transform(X_valid_df)\n",
    "X_test = ValScaler.transform(X_test_df)\n",
    "\n",
    "Y_train = ValScaler.fit_transform(Y_train_df)\n",
    "Y_valid = ValScaler.transform(Y_valid_df)\n",
    "Y_test = ValScaler.transform(Y_test_df)"
   ]
  },
  {
   "cell_type": "code",
   "execution_count": 15,
   "id": "43594401",
   "metadata": {},
   "outputs": [],
   "source": [
    "def splitData(dataset):\n",
    "    data = np.array(np.split(dataset, len(dataset)/24))\n",
    "    return data"
   ]
  },
  {
   "cell_type": "code",
   "execution_count": 16,
   "id": "300696b2",
   "metadata": {},
   "outputs": [],
   "source": [
    "def supervisedSet(X_part, Y_part, steps= 24):\n",
    "    X_array, Y_array = np.array(X_part), np.array(Y_part)\n",
    "    X, Y = [], []\n",
    "    \n",
    "    for i in range(len(X_array)):\n",
    "        endIdx = i + steps\n",
    "        \n",
    "        if endIdx > len(X_array):\n",
    "            break\n",
    "        \n",
    "        batch_X, batch_Y = X_array[i:endIdx], Y_array[i:endIdx]\n",
    "        \n",
    "        X.append(batch_X)\n",
    "        Y.append(batch_Y)\n",
    "        \n",
    "    return np.array(X), np.array(Y)"
   ]
  },
  {
   "cell_type": "code",
   "execution_count": 17,
   "id": "fc9cd97d",
   "metadata": {},
   "outputs": [],
   "source": [
    "X_train, Y_train = supervisedSet(X_train, Y_train)\n",
    "\n",
    "X_valid, Y_valid = splitData(X_valid), splitData(Y_valid)\n",
    "\n",
    "X_test, Y_test = splitData(X_test), splitData(Y_test)"
   ]
  },
  {
   "cell_type": "markdown",
   "id": "a2a6bf32",
   "metadata": {},
   "source": [
    "### WORKING ON THE MODEL"
   ]
  },
  {
   "cell_type": "code",
   "execution_count": 18,
   "id": "ff71a98c",
   "metadata": {},
   "outputs": [],
   "source": [
    "epochs = 100\n",
    "batchSize = 32"
   ]
  },
  {
   "cell_type": "code",
   "execution_count": 19,
   "id": "8d600c17",
   "metadata": {},
   "outputs": [],
   "source": [
    "# Encoder-decoder architecture [tanh required to use tensorflow on gpu]\n",
    "model = tf.keras.Sequential([\n",
    "    tf.keras.layers.LSTM(units= 128, activation= \"tanh\", input_shape= (X_train.shape[1], X_train.shape[2]), dropout= 0.2),\n",
    "    tf.keras.layers.RepeatVector(Y_train.shape[1]),\n",
    "    tf.keras.layers.LSTM(units= 128, activation= \"tanh\", return_sequences= True, dropout= 0.2),\n",
    "    tf.keras.layers.TimeDistributed(tf.keras.layers.Dense(units= 128, activation= \"relu\")),\n",
    "    tf.keras.layers.Dropout(0.2),\n",
    "    tf.keras.layers.TimeDistributed(tf.keras.layers.Dense(units= 1))\n",
    "])\n",
    "\n",
    "model.compile(loss= \"mse\", optimizer= \"adam\",  metrics= ['mape', 'mae'])"
   ]
  },
  {
   "cell_type": "code",
   "execution_count": 20,
   "id": "a05c033a",
   "metadata": {},
   "outputs": [],
   "source": [
    "# model = tf.keras.Sequential([\n",
    "#     tf.keras.layers.LSTM(units= 256, activation= \"tanh\", input_shape= (X_train.shape[1], X_train.shape[2])),\n",
    "#     tf.keras.layers.Dense(units= 128, activation= \"tanh\"),\n",
    "#     tf.keras.layers.Dense(units= 1)\n",
    "# ])\n",
    "\n",
    "# model.compile(loss= \"mse\", optimizer= \"adam\",  metrics= ['mape', 'mae'])"
   ]
  },
  {
   "cell_type": "code",
   "execution_count": 21,
   "id": "c9390383",
   "metadata": {},
   "outputs": [],
   "source": [
    "# Storing the start time of model fitting process\n",
    "startTime = time.time()"
   ]
  },
  {
   "cell_type": "code",
   "execution_count": 22,
   "id": "e526e3ed",
   "metadata": {},
   "outputs": [
    {
     "name": "stdout",
     "output_type": "stream",
     "text": [
      "Epoch 1/100\n",
      "1105/1105 [==============================] - 13s 8ms/step - loss: 0.0127 - mape: 7964.6104 - mae: 0.0854 - val_loss: 0.0091 - val_mape: 24.6471 - val_mae: 0.0744\n",
      "Epoch 2/100\n",
      "1105/1105 [==============================] - 8s 7ms/step - loss: 0.0067 - mape: 6550.4370 - mae: 0.0630 - val_loss: 0.0192 - val_mape: 32.0672 - val_mae: 0.1031\n",
      "Epoch 3/100\n",
      "1105/1105 [==============================] - 8s 7ms/step - loss: 0.0047 - mape: 5490.2021 - mae: 0.0526 - val_loss: 0.0233 - val_mape: 39.4225 - val_mae: 0.1167\n",
      "Epoch 4/100\n",
      "1105/1105 [==============================] - 8s 7ms/step - loss: 0.0043 - mape: 5023.5938 - mae: 0.0504 - val_loss: 0.0175 - val_mape: 31.7451 - val_mae: 0.1011\n",
      "Epoch 5/100\n",
      "1105/1105 [==============================] - 8s 7ms/step - loss: 0.0039 - mape: 4891.3677 - mae: 0.0481 - val_loss: 0.0244 - val_mape: 37.6646 - val_mae: 0.1178\n",
      "Epoch 6/100\n",
      "1105/1105 [==============================] - 8s 7ms/step - loss: 0.0036 - mape: 4937.8115 - mae: 0.0463 - val_loss: 0.0195 - val_mape: 31.1279 - val_mae: 0.1046\n",
      "Epoch 7/100\n",
      "1105/1105 [==============================] - 8s 7ms/step - loss: 0.0034 - mape: 4803.7744 - mae: 0.0452 - val_loss: 0.0194 - val_mape: 32.5338 - val_mae: 0.1048\n",
      "Epoch 8/100\n",
      "1105/1105 [==============================] - 8s 7ms/step - loss: 0.0033 - mape: 4866.5791 - mae: 0.0445 - val_loss: 0.0232 - val_mape: 32.2771 - val_mae: 0.1102\n",
      "Epoch 9/100\n",
      "1105/1105 [==============================] - 8s 7ms/step - loss: 0.0032 - mape: 4675.5620 - mae: 0.0436 - val_loss: 0.0211 - val_mape: 31.7710 - val_mae: 0.1077\n",
      "Epoch 10/100\n",
      "1105/1105 [==============================] - 8s 7ms/step - loss: 0.0030 - mape: 3920.3013 - mae: 0.0424 - val_loss: 0.0202 - val_mape: 30.7385 - val_mae: 0.1043\n",
      "Epoch 11/100\n",
      "1105/1105 [==============================] - 8s 7ms/step - loss: 0.0028 - mape: 3596.3037 - mae: 0.0412 - val_loss: 0.0166 - val_mape: 30.6712 - val_mae: 0.0985\n",
      "Epoch 12/100\n",
      "1105/1105 [==============================] - 8s 7ms/step - loss: 0.0027 - mape: 3317.4490 - mae: 0.0404 - val_loss: 0.0217 - val_mape: 31.3111 - val_mae: 0.1079\n",
      "Epoch 13/100\n",
      "1105/1105 [==============================] - 8s 7ms/step - loss: 0.0026 - mape: 2634.2397 - mae: 0.0395 - val_loss: 0.0212 - val_mape: 31.5538 - val_mae: 0.1082\n",
      "Epoch 14/100\n",
      "1105/1105 [==============================] - 8s 7ms/step - loss: 0.0025 - mape: 2299.6023 - mae: 0.0390 - val_loss: 0.0208 - val_mape: 32.2136 - val_mae: 0.1068\n",
      "Epoch 15/100\n",
      "1105/1105 [==============================] - 8s 7ms/step - loss: 0.0025 - mape: 2516.4341 - mae: 0.0383 - val_loss: 0.0195 - val_mape: 32.0471 - val_mae: 0.1050\n",
      "Epoch 16/100\n",
      "1105/1105 [==============================] - 8s 7ms/step - loss: 0.0024 - mape: 2363.3604 - mae: 0.0378 - val_loss: 0.0200 - val_mape: 28.5159 - val_mae: 0.1032\n",
      "Epoch 17/100\n",
      "1105/1105 [==============================] - 8s 7ms/step - loss: 0.0024 - mape: 2260.0427 - mae: 0.0376 - val_loss: 0.0208 - val_mape: 32.9102 - val_mae: 0.1104\n",
      "Epoch 18/100\n",
      "1105/1105 [==============================] - 8s 7ms/step - loss: 0.0023 - mape: 2198.2917 - mae: 0.0371 - val_loss: 0.0233 - val_mape: 31.4728 - val_mae: 0.1106\n",
      "Epoch 19/100\n",
      "1105/1105 [==============================] - 7s 7ms/step - loss: 0.0023 - mape: 2293.2354 - mae: 0.0367 - val_loss: 0.0203 - val_mape: 31.2822 - val_mae: 0.1065\n",
      "Epoch 20/100\n",
      "1105/1105 [==============================] - 8s 7ms/step - loss: 0.0022 - mape: 2473.9038 - mae: 0.0361 - val_loss: 0.0210 - val_mape: 29.6763 - val_mae: 0.1046\n",
      "Epoch 21/100\n",
      "1105/1105 [==============================] - 7s 7ms/step - loss: 0.0022 - mape: 2066.2222 - mae: 0.0359 - val_loss: 0.0187 - val_mape: 30.2921 - val_mae: 0.1019\n",
      "Epoch 22/100\n",
      "1105/1105 [==============================] - 8s 7ms/step - loss: 0.0021 - mape: 1877.4541 - mae: 0.0353 - val_loss: 0.0199 - val_mape: 30.9092 - val_mae: 0.1073\n",
      "Epoch 23/100\n",
      "1105/1105 [==============================] - 8s 7ms/step - loss: 0.0021 - mape: 1554.1240 - mae: 0.0352 - val_loss: 0.0197 - val_mape: 30.3279 - val_mae: 0.1045\n",
      "Epoch 24/100\n",
      "1105/1105 [==============================] - 8s 7ms/step - loss: 0.0021 - mape: 1483.9081 - mae: 0.0349 - val_loss: 0.0212 - val_mape: 30.4071 - val_mae: 0.1065\n",
      "Epoch 25/100\n",
      "1105/1105 [==============================] - 8s 7ms/step - loss: 0.0020 - mape: 1990.8911 - mae: 0.0346 - val_loss: 0.0202 - val_mape: 30.8922 - val_mae: 0.1048\n",
      "Epoch 26/100\n",
      "1105/1105 [==============================] - 8s 7ms/step - loss: 0.0020 - mape: 1906.6364 - mae: 0.0343 - val_loss: 0.0222 - val_mape: 31.3182 - val_mae: 0.1091\n",
      "Epoch 27/100\n",
      "1105/1105 [==============================] - 8s 7ms/step - loss: 0.0020 - mape: 1910.1449 - mae: 0.0342 - val_loss: 0.0191 - val_mape: 29.5859 - val_mae: 0.1013\n",
      "Epoch 28/100\n",
      "1105/1105 [==============================] - 7s 7ms/step - loss: 0.0020 - mape: 1613.5918 - mae: 0.0341 - val_loss: 0.0208 - val_mape: 30.8968 - val_mae: 0.1054\n",
      "Epoch 29/100\n",
      "1105/1105 [==============================] - 8s 7ms/step - loss: 0.0019 - mape: 1217.9761 - mae: 0.0335 - val_loss: 0.0193 - val_mape: 28.5641 - val_mae: 0.0999\n",
      "Epoch 30/100\n",
      "1105/1105 [==============================] - 8s 7ms/step - loss: 0.0019 - mape: 1351.1204 - mae: 0.0333 - val_loss: 0.0227 - val_mape: 32.5907 - val_mae: 0.1126\n",
      "Epoch 31/100\n",
      "1105/1105 [==============================] - 8s 7ms/step - loss: 0.0019 - mape: 1675.3306 - mae: 0.0333 - val_loss: 0.0205 - val_mape: 30.1297 - val_mae: 0.1059\n",
      "Epoch 32/100\n",
      "1105/1105 [==============================] - 8s 7ms/step - loss: 0.0018 - mape: 1406.3947 - mae: 0.0330 - val_loss: 0.0210 - val_mape: 29.1219 - val_mae: 0.1039\n",
      "Epoch 33/100\n",
      "1105/1105 [==============================] - 7s 7ms/step - loss: 0.0018 - mape: 1281.0667 - mae: 0.0328 - val_loss: 0.0218 - val_mape: 30.9853 - val_mae: 0.1091\n",
      "Epoch 34/100\n",
      "1105/1105 [==============================] - 8s 7ms/step - loss: 0.0018 - mape: 1514.7418 - mae: 0.0325 - val_loss: 0.0219 - val_mape: 29.4190 - val_mae: 0.1058\n",
      "Epoch 35/100\n",
      "1105/1105 [==============================] - 8s 7ms/step - loss: 0.0018 - mape: 1570.9164 - mae: 0.0323 - val_loss: 0.0233 - val_mape: 31.2829 - val_mae: 0.1104\n",
      "Epoch 36/100\n",
      "1105/1105 [==============================] - 8s 7ms/step - loss: 0.0017 - mape: 1345.1251 - mae: 0.0320 - val_loss: 0.0215 - val_mape: 29.1159 - val_mae: 0.1047\n",
      "Epoch 37/100\n",
      "1105/1105 [==============================] - 8s 7ms/step - loss: 0.0017 - mape: 1496.5491 - mae: 0.0319 - val_loss: 0.0205 - val_mape: 28.9297 - val_mae: 0.1027\n",
      "Epoch 38/100\n",
      "1105/1105 [==============================] - 8s 7ms/step - loss: 0.0017 - mape: 1078.0734 - mae: 0.0316 - val_loss: 0.0217 - val_mape: 30.9481 - val_mae: 0.1087\n",
      "Epoch 39/100\n",
      "1105/1105 [==============================] - 7s 7ms/step - loss: 0.0017 - mape: 1156.7120 - mae: 0.0314 - val_loss: 0.0228 - val_mape: 30.7983 - val_mae: 0.1093\n",
      "Epoch 40/100\n",
      "1105/1105 [==============================] - 8s 7ms/step - loss: 0.0016 - mape: 1459.0726 - mae: 0.0312 - val_loss: 0.0248 - val_mape: 33.2107 - val_mae: 0.1152\n",
      "Epoch 41/100\n",
      "1105/1105 [==============================] - 8s 7ms/step - loss: 0.0016 - mape: 1476.7687 - mae: 0.0310 - val_loss: 0.0212 - val_mape: 30.2963 - val_mae: 0.1067\n",
      "Epoch 42/100\n",
      "1105/1105 [==============================] - 7s 7ms/step - loss: 0.0016 - mape: 1410.8613 - mae: 0.0309 - val_loss: 0.0197 - val_mape: 28.0499 - val_mae: 0.1003\n",
      "Epoch 43/100\n",
      "1105/1105 [==============================] - 8s 7ms/step - loss: 0.0016 - mape: 1171.2329 - mae: 0.0307 - val_loss: 0.0214 - val_mape: 29.8215 - val_mae: 0.1057\n",
      "Epoch 44/100\n",
      "1105/1105 [==============================] - 8s 7ms/step - loss: 0.0016 - mape: 1153.9899 - mae: 0.0305 - val_loss: 0.0182 - val_mape: 27.7452 - val_mae: 0.0981\n",
      "Epoch 45/100\n",
      "1105/1105 [==============================] - 8s 7ms/step - loss: 0.0016 - mape: 1471.9974 - mae: 0.0303 - val_loss: 0.0226 - val_mape: 30.5995 - val_mae: 0.1088\n",
      "Epoch 46/100\n",
      "1105/1105 [==============================] - 8s 7ms/step - loss: 0.0015 - mape: 1000.5776 - mae: 0.0302 - val_loss: 0.0206 - val_mape: 28.8945 - val_mae: 0.1016\n",
      "Epoch 47/100\n",
      "1105/1105 [==============================] - 8s 7ms/step - loss: 0.0015 - mape: 1429.4114 - mae: 0.0299 - val_loss: 0.0202 - val_mape: 29.9197 - val_mae: 0.1034\n",
      "Epoch 48/100\n"
     ]
    },
    {
     "name": "stdout",
     "output_type": "stream",
     "text": [
      "1105/1105 [==============================] - 8s 7ms/step - loss: 0.0015 - mape: 1019.5509 - mae: 0.0299 - val_loss: 0.0219 - val_mape: 30.9027 - val_mae: 0.1081\n",
      "Epoch 49/100\n",
      "1105/1105 [==============================] - 7s 7ms/step - loss: 0.0015 - mape: 1210.6473 - mae: 0.0296 - val_loss: 0.0215 - val_mape: 30.4734 - val_mae: 0.1063\n",
      "Epoch 50/100\n",
      "1105/1105 [==============================] - 8s 7ms/step - loss: 0.0015 - mape: 1121.4833 - mae: 0.0294 - val_loss: 0.0219 - val_mape: 30.9318 - val_mae: 0.1091\n",
      "Epoch 51/100\n",
      "1105/1105 [==============================] - 8s 7ms/step - loss: 0.0015 - mape: 857.8231 - mae: 0.0294 - val_loss: 0.0165 - val_mape: 26.6040 - val_mae: 0.0933\n",
      "Epoch 52/100\n",
      "1105/1105 [==============================] - 8s 7ms/step - loss: 0.0014 - mape: 1259.7509 - mae: 0.0292 - val_loss: 0.0190 - val_mape: 29.2487 - val_mae: 0.1019\n",
      "Epoch 53/100\n",
      "1105/1105 [==============================] - 8s 7ms/step - loss: 0.0015 - mape: 1297.6444 - mae: 0.0293 - val_loss: 0.0233 - val_mape: 31.3913 - val_mae: 0.1111\n",
      "Epoch 54/100\n",
      "1105/1105 [==============================] - 8s 7ms/step - loss: 0.0014 - mape: 882.7699 - mae: 0.0287 - val_loss: 0.0219 - val_mape: 30.7099 - val_mae: 0.1086\n",
      "Epoch 55/100\n",
      "1105/1105 [==============================] - 7s 7ms/step - loss: 0.0014 - mape: 1164.1770 - mae: 0.0287 - val_loss: 0.0227 - val_mape: 30.7223 - val_mae: 0.1089\n",
      "Epoch 56/100\n",
      "1105/1105 [==============================] - 8s 7ms/step - loss: 0.0014 - mape: 940.0477 - mae: 0.0284 - val_loss: 0.0200 - val_mape: 29.7915 - val_mae: 0.1046\n",
      "Epoch 57/100\n",
      "1105/1105 [==============================] - 8s 7ms/step - loss: 0.0014 - mape: 1081.3645 - mae: 0.0282 - val_loss: 0.0228 - val_mape: 31.8354 - val_mae: 0.1115\n",
      "Epoch 58/100\n",
      "1105/1105 [==============================] - 7s 7ms/step - loss: 0.0013 - mape: 936.5740 - mae: 0.0280 - val_loss: 0.0231 - val_mape: 32.3478 - val_mae: 0.1127\n",
      "Epoch 59/100\n",
      "1105/1105 [==============================] - 8s 7ms/step - loss: 0.0013 - mape: 1124.1133 - mae: 0.0280 - val_loss: 0.0233 - val_mape: 31.5269 - val_mae: 0.1112\n",
      "Epoch 60/100\n",
      "1105/1105 [==============================] - 8s 7ms/step - loss: 0.0013 - mape: 770.7663 - mae: 0.0279 - val_loss: 0.0203 - val_mape: 29.2921 - val_mae: 0.1028\n",
      "Epoch 61/100\n",
      "1105/1105 [==============================] - 8s 7ms/step - loss: 0.0013 - mape: 1070.4519 - mae: 0.0277 - val_loss: 0.0209 - val_mape: 28.8583 - val_mae: 0.1038\n",
      "Epoch 62/100\n",
      "1105/1105 [==============================] - 8s 7ms/step - loss: 0.0013 - mape: 996.2642 - mae: 0.0275 - val_loss: 0.0219 - val_mape: 30.6107 - val_mae: 0.1071\n",
      "Epoch 63/100\n",
      "1105/1105 [==============================] - 8s 7ms/step - loss: 0.0013 - mape: 828.6843 - mae: 0.0274 - val_loss: 0.0206 - val_mape: 29.3241 - val_mae: 0.1036\n",
      "Epoch 64/100\n",
      "1105/1105 [==============================] - 8s 7ms/step - loss: 0.0013 - mape: 890.7156 - mae: 0.0272 - val_loss: 0.0228 - val_mape: 31.2804 - val_mae: 0.1103\n",
      "Epoch 65/100\n",
      "1105/1105 [==============================] - 8s 7ms/step - loss: 0.0012 - mape: 856.6097 - mae: 0.0270 - val_loss: 0.0238 - val_mape: 32.3224 - val_mae: 0.1134\n",
      "Epoch 66/100\n",
      "1105/1105 [==============================] - 8s 7ms/step - loss: 0.0012 - mape: 1276.4462 - mae: 0.0270 - val_loss: 0.0216 - val_mape: 30.5408 - val_mae: 0.1070\n",
      "Epoch 67/100\n",
      "1105/1105 [==============================] - 8s 7ms/step - loss: 0.0012 - mape: 850.1061 - mae: 0.0267 - val_loss: 0.0203 - val_mape: 29.8740 - val_mae: 0.1051\n",
      "Epoch 68/100\n",
      "1105/1105 [==============================] - 8s 7ms/step - loss: 0.0012 - mape: 1093.0148 - mae: 0.0264 - val_loss: 0.0226 - val_mape: 31.1434 - val_mae: 0.1096\n",
      "Epoch 69/100\n",
      "1105/1105 [==============================] - 9s 8ms/step - loss: 0.0012 - mape: 849.0372 - mae: 0.0267 - val_loss: 0.0197 - val_mape: 28.9290 - val_mae: 0.1022\n",
      "Epoch 70/100\n",
      "1105/1105 [==============================] - 8s 7ms/step - loss: 0.0012 - mape: 1243.2584 - mae: 0.0265 - val_loss: 0.0210 - val_mape: 30.5632 - val_mae: 0.1074\n",
      "Epoch 71/100\n",
      "1105/1105 [==============================] - 8s 7ms/step - loss: 0.0012 - mape: 1080.4805 - mae: 0.0261 - val_loss: 0.0226 - val_mape: 31.4425 - val_mae: 0.1103\n",
      "Epoch 72/100\n",
      "1105/1105 [==============================] - 8s 7ms/step - loss: 0.0012 - mape: 771.7023 - mae: 0.0260 - val_loss: 0.0236 - val_mape: 32.5197 - val_mae: 0.1139\n",
      "Epoch 73/100\n",
      "1105/1105 [==============================] - 8s 8ms/step - loss: 0.0012 - mape: 992.7858 - mae: 0.0260 - val_loss: 0.0214 - val_mape: 30.5312 - val_mae: 0.1072\n",
      "Epoch 74/100\n",
      "1105/1105 [==============================] - 8s 7ms/step - loss: 0.0011 - mape: 1148.2395 - mae: 0.0258 - val_loss: 0.0233 - val_mape: 31.2323 - val_mae: 0.1109\n",
      "Epoch 75/100\n",
      "1105/1105 [==============================] - 7s 7ms/step - loss: 0.0011 - mape: 958.5017 - mae: 0.0257 - val_loss: 0.0204 - val_mape: 29.1585 - val_mae: 0.1036\n",
      "Epoch 76/100\n",
      "1105/1105 [==============================] - 7s 7ms/step - loss: 0.0011 - mape: 836.6290 - mae: 0.0257 - val_loss: 0.0220 - val_mape: 30.5323 - val_mae: 0.1073\n",
      "Epoch 77/100\n",
      "1105/1105 [==============================] - 7s 7ms/step - loss: 0.0011 - mape: 1004.2316 - mae: 0.0255 - val_loss: 0.0255 - val_mape: 33.5787 - val_mae: 0.1177\n",
      "Epoch 78/100\n",
      "1105/1105 [==============================] - 8s 7ms/step - loss: 0.0011 - mape: 1088.1940 - mae: 0.0253 - val_loss: 0.0232 - val_mape: 31.3605 - val_mae: 0.1110\n",
      "Epoch 79/100\n",
      "1105/1105 [==============================] - 8s 7ms/step - loss: 0.0011 - mape: 858.8202 - mae: 0.0252 - val_loss: 0.0225 - val_mape: 31.7003 - val_mae: 0.1096\n",
      "Epoch 80/100\n",
      "1105/1105 [==============================] - 9s 8ms/step - loss: 0.0011 - mape: 898.3526 - mae: 0.0250 - val_loss: 0.0225 - val_mape: 31.0324 - val_mae: 0.1090\n",
      "Epoch 81/100\n",
      "1105/1105 [==============================] - 9s 8ms/step - loss: 0.0011 - mape: 748.2164 - mae: 0.0251 - val_loss: 0.0202 - val_mape: 29.7697 - val_mae: 0.1035\n",
      "Epoch 82/100\n",
      "1105/1105 [==============================] - 8s 8ms/step - loss: 0.0011 - mape: 816.1256 - mae: 0.0248 - val_loss: 0.0230 - val_mape: 32.1242 - val_mae: 0.1125\n",
      "Epoch 83/100\n",
      "1105/1105 [==============================] - 8s 8ms/step - loss: 0.0010 - mape: 673.8018 - mae: 0.0246 - val_loss: 0.0225 - val_mape: 30.5388 - val_mae: 0.1085\n",
      "Epoch 84/100\n",
      "1105/1105 [==============================] - 9s 8ms/step - loss: 0.0011 - mape: 872.9140 - mae: 0.0249 - val_loss: 0.0239 - val_mape: 32.1875 - val_mae: 0.1135\n",
      "Epoch 85/100\n",
      "1105/1105 [==============================] - 8s 8ms/step - loss: 0.0010 - mape: 940.0275 - mae: 0.0244 - val_loss: 0.0210 - val_mape: 31.0635 - val_mae: 0.1080\n",
      "Epoch 86/100\n",
      "1105/1105 [==============================] - 8s 7ms/step - loss: 0.0011 - mape: 917.6652 - mae: 0.0247 - val_loss: 0.0230 - val_mape: 31.3619 - val_mae: 0.1112\n",
      "Epoch 87/100\n",
      "1105/1105 [==============================] - 8s 7ms/step - loss: 9.9158e-04 - mape: 944.2346 - mae: 0.0241 - val_loss: 0.0222 - val_mape: 30.3255 - val_mae: 0.1081\n",
      "Epoch 88/100\n",
      "1105/1105 [==============================] - 8s 7ms/step - loss: 9.8761e-04 - mape: 725.2151 - mae: 0.0240 - val_loss: 0.0226 - val_mape: 31.5765 - val_mae: 0.1115\n",
      "Epoch 89/100\n",
      "1105/1105 [==============================] - 8s 7ms/step - loss: 9.9246e-04 - mape: 924.2573 - mae: 0.0241 - val_loss: 0.0213 - val_mape: 30.0407 - val_mae: 0.1063\n",
      "Epoch 90/100\n",
      "1105/1105 [==============================] - 8s 8ms/step - loss: 9.8073e-04 - mape: 1053.3197 - mae: 0.0239 - val_loss: 0.0213 - val_mape: 30.4647 - val_mae: 0.1072\n",
      "Epoch 91/100\n",
      "1105/1105 [==============================] - 9s 8ms/step - loss: 9.9045e-04 - mape: 1049.9119 - mae: 0.0240 - val_loss: 0.0228 - val_mape: 31.1285 - val_mae: 0.1100\n",
      "Epoch 92/100\n",
      "1105/1105 [==============================] - 9s 8ms/step - loss: 9.5614e-04 - mape: 608.9239 - mae: 0.0237 - val_loss: 0.0199 - val_mape: 29.2655 - val_mae: 0.1025\n",
      "Epoch 93/100\n",
      "1105/1105 [==============================] - 9s 8ms/step - loss: 9.4770e-04 - mape: 531.8290 - mae: 0.0235 - val_loss: 0.0212 - val_mape: 30.3606 - val_mae: 0.1069\n",
      "Epoch 94/100\n",
      "1105/1105 [==============================] - 9s 8ms/step - loss: 9.3413e-04 - mape: 927.5351 - mae: 0.0234 - val_loss: 0.0230 - val_mape: 31.2918 - val_mae: 0.1101\n",
      "Epoch 95/100\n"
     ]
    },
    {
     "name": "stdout",
     "output_type": "stream",
     "text": [
      "1105/1105 [==============================] - 9s 8ms/step - loss: 9.2482e-04 - mape: 761.3038 - mae: 0.0233 - val_loss: 0.0215 - val_mape: 30.7367 - val_mae: 0.1078\n",
      "Epoch 96/100\n",
      "1105/1105 [==============================] - 9s 8ms/step - loss: 9.5453e-04 - mape: 579.0182 - mae: 0.0236 - val_loss: 0.0221 - val_mape: 30.7053 - val_mae: 0.1080\n",
      "Epoch 97/100\n",
      "1105/1105 [==============================] - 9s 8ms/step - loss: 9.0526e-04 - mape: 720.6031 - mae: 0.0230 - val_loss: 0.0221 - val_mape: 31.6259 - val_mae: 0.1094\n",
      "Epoch 98/100\n",
      "1105/1105 [==============================] - 8s 8ms/step - loss: 9.0696e-04 - mape: 835.5345 - mae: 0.0230 - val_loss: 0.0209 - val_mape: 30.2147 - val_mae: 0.1061\n",
      "Epoch 99/100\n",
      "1105/1105 [==============================] - 9s 8ms/step - loss: 9.0955e-04 - mape: 670.6819 - mae: 0.0230 - val_loss: 0.0225 - val_mape: 31.3141 - val_mae: 0.1101\n",
      "Epoch 100/100\n",
      "1105/1105 [==============================] - 9s 8ms/step - loss: 8.9280e-04 - mape: 716.5109 - mae: 0.0228 - val_loss: 0.0222 - val_mape: 32.2527 - val_mae: 0.1113\n"
     ]
    },
    {
     "data": {
      "text/plain": [
       "<keras.callbacks.History at 0x21056989a30>"
      ]
     },
     "execution_count": 22,
     "metadata": {},
     "output_type": "execute_result"
    }
   ],
   "source": [
    "model.fit(X_train, Y_train, epochs= epochs, batch_size= batchSize, verbose= 1, shuffle= True, validation_data= (X_valid, Y_valid))"
   ]
  },
  {
   "cell_type": "code",
   "execution_count": 23,
   "id": "cd839153",
   "metadata": {},
   "outputs": [
    {
     "name": "stdout",
     "output_type": "stream",
     "text": [
      "Total execution time in seconds: 792.938371181488\n"
     ]
    }
   ],
   "source": [
    "calcExecTime = (time.time() - startTime)\n",
    "print('Total execution time in seconds: ' + str(calcExecTime))"
   ]
  },
  {
   "cell_type": "markdown",
   "id": "72aafa74",
   "metadata": {},
   "source": [
    "### MAKING PREDICTIONS AND GENERATING RESULTS"
   ]
  },
  {
   "cell_type": "code",
   "execution_count": 24,
   "id": "259bfb49",
   "metadata": {},
   "outputs": [
    {
     "name": "stdout",
     "output_type": "stream",
     "text": [
      "6/6 [==============================] - 1s 5ms/step\n"
     ]
    }
   ],
   "source": [
    "predictions = model.predict(X_test)"
   ]
  },
  {
   "cell_type": "code",
   "execution_count": 25,
   "id": "2912d431",
   "metadata": {},
   "outputs": [
    {
     "data": {
      "text/plain": [
       "array([0.1261042 , 0.1052054 , 0.09761809, ..., 0.45604992, 0.4198601 ,\n",
       "       0.39123443], dtype=float32)"
      ]
     },
     "execution_count": 25,
     "metadata": {},
     "output_type": "execute_result"
    }
   ],
   "source": [
    "predArr = predictions.reshape(predictions.shape[0] * predictions.shape[1], predictions.shape[2]).ravel()\n",
    "predArr"
   ]
  },
  {
   "cell_type": "code",
   "execution_count": 26,
   "id": "b01889f2",
   "metadata": {},
   "outputs": [
    {
     "data": {
      "text/plain": [
       "array([0.28107855, 0.24879522, 0.22672484, ..., 0.33648852, 0.32725215,\n",
       "       0.31132498])"
      ]
     },
     "execution_count": 26,
     "metadata": {},
     "output_type": "execute_result"
    }
   ],
   "source": [
    "Y_testArr = Y_test.reshape(Y_test.shape[0] * Y_test.shape[1], Y_test.shape[2]).ravel()\n",
    "Y_testArr"
   ]
  },
  {
   "cell_type": "code",
   "execution_count": 27,
   "id": "799c97e8",
   "metadata": {},
   "outputs": [],
   "source": [
    "def inverse_transform(df):\n",
    "    column_names = df.columns\n",
    "    for col in column_names:\n",
    "        df[col] = ValScaler.inverse_transform(df[[col]]) \n",
    "    return df"
   ]
  },
  {
   "cell_type": "code",
   "execution_count": 28,
   "id": "afa81e30",
   "metadata": {},
   "outputs": [
    {
     "data": {
      "text/html": [
       "<div>\n",
       "<style scoped>\n",
       "    .dataframe tbody tr th:only-of-type {\n",
       "        vertical-align: middle;\n",
       "    }\n",
       "\n",
       "    .dataframe tbody tr th {\n",
       "        vertical-align: top;\n",
       "    }\n",
       "\n",
       "    .dataframe thead th {\n",
       "        text-align: right;\n",
       "    }\n",
       "</style>\n",
       "<table border=\"1\" class=\"dataframe\">\n",
       "  <thead>\n",
       "    <tr style=\"text-align: right;\">\n",
       "      <th></th>\n",
       "      <th>Values</th>\n",
       "      <th>Predictions</th>\n",
       "    </tr>\n",
       "  </thead>\n",
       "  <tbody>\n",
       "    <tr>\n",
       "      <th>0</th>\n",
       "      <td>1302.371352</td>\n",
       "      <td>1018.155762</td>\n",
       "    </tr>\n",
       "    <tr>\n",
       "      <th>1</th>\n",
       "      <td>1243.165263</td>\n",
       "      <td>979.828308</td>\n",
       "    </tr>\n",
       "    <tr>\n",
       "      <th>2</th>\n",
       "      <td>1202.689236</td>\n",
       "      <td>965.913574</td>\n",
       "    </tr>\n",
       "    <tr>\n",
       "      <th>3</th>\n",
       "      <td>1208.718450</td>\n",
       "      <td>964.505981</td>\n",
       "    </tr>\n",
       "    <tr>\n",
       "      <th>4</th>\n",
       "      <td>1235.412147</td>\n",
       "      <td>979.738831</td>\n",
       "    </tr>\n",
       "    <tr>\n",
       "      <th>...</th>\n",
       "      <td>...</td>\n",
       "      <td>...</td>\n",
       "    </tr>\n",
       "    <tr>\n",
       "      <th>4363</th>\n",
       "      <td>1417.306742</td>\n",
       "      <td>1676.644775</td>\n",
       "    </tr>\n",
       "    <tr>\n",
       "      <th>4364</th>\n",
       "      <td>1411.761157</td>\n",
       "      <td>1666.770874</td>\n",
       "    </tr>\n",
       "    <tr>\n",
       "      <th>4365</th>\n",
       "      <td>1403.990584</td>\n",
       "      <td>1623.260498</td>\n",
       "    </tr>\n",
       "    <tr>\n",
       "      <th>4366</th>\n",
       "      <td>1387.051521</td>\n",
       "      <td>1556.890137</td>\n",
       "    </tr>\n",
       "    <tr>\n",
       "      <th>4367</th>\n",
       "      <td>1357.841863</td>\n",
       "      <td>1504.391968</td>\n",
       "    </tr>\n",
       "  </tbody>\n",
       "</table>\n",
       "<p>4368 rows × 2 columns</p>\n",
       "</div>"
      ],
      "text/plain": [
       "           Values  Predictions\n",
       "0     1302.371352  1018.155762\n",
       "1     1243.165263   979.828308\n",
       "2     1202.689236   965.913574\n",
       "3     1208.718450   964.505981\n",
       "4     1235.412147   979.738831\n",
       "...           ...          ...\n",
       "4363  1417.306742  1676.644775\n",
       "4364  1411.761157  1666.770874\n",
       "4365  1403.990584  1623.260498\n",
       "4366  1387.051521  1556.890137\n",
       "4367  1357.841863  1504.391968\n",
       "\n",
       "[4368 rows x 2 columns]"
      ]
     },
     "execution_count": 28,
     "metadata": {},
     "output_type": "execute_result"
    }
   ],
   "source": [
    "comparisionDf = pd.DataFrame(data= {\"Values\": Y_testArr, \"Predictions\": predArr})\n",
    "comparisionDf = inverse_transform(comparisionDf)\n",
    "comparisionDf"
   ]
  },
  {
   "cell_type": "code",
   "execution_count": 29,
   "id": "88222bae",
   "metadata": {},
   "outputs": [
    {
     "data": {
      "text/plain": [
       "12.933630084700349"
      ]
     },
     "execution_count": 29,
     "metadata": {},
     "output_type": "execute_result"
    }
   ],
   "source": [
    "mape(comparisionDf[\"Values\"], comparisionDf[\"Predictions\"])"
   ]
  }
 ],
 "metadata": {
  "kernelspec": {
   "display_name": "Python 3 (ipykernel)",
   "language": "python",
   "name": "python3"
  },
  "language_info": {
   "codemirror_mode": {
    "name": "ipython",
    "version": 3
   },
   "file_extension": ".py",
   "mimetype": "text/x-python",
   "name": "python",
   "nbconvert_exporter": "python",
   "pygments_lexer": "ipython3",
   "version": "3.9.12"
  }
 },
 "nbformat": 4,
 "nbformat_minor": 5
}
