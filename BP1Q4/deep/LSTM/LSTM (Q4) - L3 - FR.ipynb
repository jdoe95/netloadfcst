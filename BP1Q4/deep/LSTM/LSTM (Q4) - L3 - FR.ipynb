{
 "cells": [
  {
   "cell_type": "code",
   "execution_count": 1,
   "id": "5f61b29f",
   "metadata": {},
   "outputs": [
    {
     "name": "stdout",
     "output_type": "stream",
     "text": [
      "Num GPUs Available:  1\n"
     ]
    }
   ],
   "source": [
    "import pandas as pd\n",
    "import numpy as np\n",
    "import os\n",
    "import matplotlib.pyplot as plt\n",
    "from datetime import datetime\n",
    "from sklearn.preprocessing import MinMaxScaler, RobustScaler, StandardScaler\n",
    "import time\n",
    "\n",
    "import tensorflow as tf\n",
    "tf.random.set_seed(42)\n",
    "\n",
    "def mape(y_true, y_pred):\n",
    "    y_true, y_pred = np.array(y_true), np.array(y_pred)\n",
    "    return np.mean(np.abs((y_true - y_pred) / max(y_true))) * 100\n",
    "\n",
    "def RMSELoss(yhat,y):\n",
    "    return torch.sqrt(torch.mean((yhat-y)**2))\n",
    "\n",
    "print(\"Num GPUs Available: \", len(tf.config.list_physical_devices('GPU')))"
   ]
  },
  {
   "cell_type": "code",
   "execution_count": 2,
   "id": "cea0abe2",
   "metadata": {},
   "outputs": [
    {
     "name": "stdout",
     "output_type": "stream",
     "text": [
      "['AT.csv', 'BE.csv', 'BG.csv', 'CH.csv', 'CZ.csv', 'DK.csv', 'ES.csv', 'FR.csv', 'GR.csv', 'IT.csv', 'NL.csv', 'PT.csv', 'SI.csv', 'SK.csv']\n"
     ]
    }
   ],
   "source": [
    "# Specifying the path of file\n",
    "path= r\"C:\\Users\\sashah8\\OneDrive - North Carolina State University\\Desktop\\Q4\\Data\\L3\\data_cleaned\"\n",
    "\n",
    "# Listing just the required files\n",
    "fileList = os.listdir(path)\n",
    "fileList.remove(\"Date.csv\")\n",
    "\n",
    "# Previewing the required file names\n",
    "print(fileList)"
   ]
  },
  {
   "cell_type": "code",
   "execution_count": 3,
   "id": "a6fe9396",
   "metadata": {},
   "outputs": [
    {
     "data": {
      "text/html": [
       "<div>\n",
       "<style scoped>\n",
       "    .dataframe tbody tr th:only-of-type {\n",
       "        vertical-align: middle;\n",
       "    }\n",
       "\n",
       "    .dataframe tbody tr th {\n",
       "        vertical-align: top;\n",
       "    }\n",
       "\n",
       "    .dataframe thead th {\n",
       "        text-align: right;\n",
       "    }\n",
       "</style>\n",
       "<table border=\"1\" class=\"dataframe\">\n",
       "  <thead>\n",
       "    <tr style=\"text-align: right;\">\n",
       "      <th></th>\n",
       "      <th>Demand</th>\n",
       "      <th>Normalized_net</th>\n",
       "      <th>Temperature</th>\n",
       "      <th>DNI</th>\n",
       "      <th>DHI</th>\n",
       "    </tr>\n",
       "  </thead>\n",
       "  <tbody>\n",
       "    <tr>\n",
       "      <th>0</th>\n",
       "      <td>0.0</td>\n",
       "      <td>0.053609</td>\n",
       "      <td>-1.670</td>\n",
       "      <td>0.0</td>\n",
       "      <td>0.0</td>\n",
       "    </tr>\n",
       "    <tr>\n",
       "      <th>1</th>\n",
       "      <td>69773.0</td>\n",
       "      <td>0.753803</td>\n",
       "      <td>-1.768</td>\n",
       "      <td>0.0</td>\n",
       "      <td>0.0</td>\n",
       "    </tr>\n",
       "    <tr>\n",
       "      <th>2</th>\n",
       "      <td>66417.0</td>\n",
       "      <td>0.720125</td>\n",
       "      <td>-1.841</td>\n",
       "      <td>0.0</td>\n",
       "      <td>0.0</td>\n",
       "    </tr>\n",
       "    <tr>\n",
       "      <th>3</th>\n",
       "      <td>64182.0</td>\n",
       "      <td>0.697696</td>\n",
       "      <td>-1.908</td>\n",
       "      <td>0.0</td>\n",
       "      <td>0.0</td>\n",
       "    </tr>\n",
       "    <tr>\n",
       "      <th>4</th>\n",
       "      <td>63859.0</td>\n",
       "      <td>0.694454</td>\n",
       "      <td>-1.962</td>\n",
       "      <td>0.0</td>\n",
       "      <td>0.0</td>\n",
       "    </tr>\n",
       "    <tr>\n",
       "      <th>...</th>\n",
       "      <td>...</td>\n",
       "      <td>...</td>\n",
       "      <td>...</td>\n",
       "      <td>...</td>\n",
       "      <td>...</td>\n",
       "    </tr>\n",
       "    <tr>\n",
       "      <th>43819</th>\n",
       "      <td>64771.0</td>\n",
       "      <td>0.703607</td>\n",
       "      <td>2.048</td>\n",
       "      <td>0.0</td>\n",
       "      <td>0.0</td>\n",
       "    </tr>\n",
       "    <tr>\n",
       "      <th>43820</th>\n",
       "      <td>62259.0</td>\n",
       "      <td>0.678398</td>\n",
       "      <td>1.995</td>\n",
       "      <td>0.0</td>\n",
       "      <td>0.0</td>\n",
       "    </tr>\n",
       "    <tr>\n",
       "      <th>43821</th>\n",
       "      <td>63774.0</td>\n",
       "      <td>0.693601</td>\n",
       "      <td>2.107</td>\n",
       "      <td>0.0</td>\n",
       "      <td>0.0</td>\n",
       "    </tr>\n",
       "    <tr>\n",
       "      <th>43822</th>\n",
       "      <td>65865.0</td>\n",
       "      <td>0.714585</td>\n",
       "      <td>2.280</td>\n",
       "      <td>0.0</td>\n",
       "      <td>0.0</td>\n",
       "    </tr>\n",
       "    <tr>\n",
       "      <th>43823</th>\n",
       "      <td>64677.0</td>\n",
       "      <td>0.702663</td>\n",
       "      <td>2.224</td>\n",
       "      <td>0.0</td>\n",
       "      <td>0.0</td>\n",
       "    </tr>\n",
       "  </tbody>\n",
       "</table>\n",
       "<p>43824 rows × 5 columns</p>\n",
       "</div>"
      ],
      "text/plain": [
       "        Demand  Normalized_net  Temperature  DNI  DHI\n",
       "0          0.0        0.053609       -1.670  0.0  0.0\n",
       "1      69773.0        0.753803       -1.768  0.0  0.0\n",
       "2      66417.0        0.720125       -1.841  0.0  0.0\n",
       "3      64182.0        0.697696       -1.908  0.0  0.0\n",
       "4      63859.0        0.694454       -1.962  0.0  0.0\n",
       "...        ...             ...          ...  ...  ...\n",
       "43819  64771.0        0.703607        2.048  0.0  0.0\n",
       "43820  62259.0        0.678398        1.995  0.0  0.0\n",
       "43821  63774.0        0.693601        2.107  0.0  0.0\n",
       "43822  65865.0        0.714585        2.280  0.0  0.0\n",
       "43823  64677.0        0.702663        2.224  0.0  0.0\n",
       "\n",
       "[43824 rows x 5 columns]"
      ]
     },
     "execution_count": 3,
     "metadata": {},
     "output_type": "execute_result"
    }
   ],
   "source": [
    "# Just for previewing the columns\n",
    "pd.read_csv(os.path.join(path, fileList[7]))"
   ]
  },
  {
   "cell_type": "markdown",
   "id": "9ad4906c",
   "metadata": {
    "pycharm": {
     "name": "#%% md\n"
    }
   },
   "source": [
    "### PROCESSING THE DATA"
   ]
  },
  {
   "cell_type": "code",
   "execution_count": 4,
   "id": "f29f6db2",
   "metadata": {},
   "outputs": [
    {
     "data": {
      "text/html": [
       "<div>\n",
       "<style scoped>\n",
       "    .dataframe tbody tr th:only-of-type {\n",
       "        vertical-align: middle;\n",
       "    }\n",
       "\n",
       "    .dataframe tbody tr th {\n",
       "        vertical-align: top;\n",
       "    }\n",
       "\n",
       "    .dataframe thead th {\n",
       "        text-align: right;\n",
       "    }\n",
       "</style>\n",
       "<table border=\"1\" class=\"dataframe\">\n",
       "  <thead>\n",
       "    <tr style=\"text-align: right;\">\n",
       "      <th></th>\n",
       "      <th>Load_FR</th>\n",
       "      <th>Temp_FR</th>\n",
       "    </tr>\n",
       "  </thead>\n",
       "  <tbody>\n",
       "    <tr>\n",
       "      <th>0</th>\n",
       "      <td>0.0</td>\n",
       "      <td>-1.670</td>\n",
       "    </tr>\n",
       "    <tr>\n",
       "      <th>1</th>\n",
       "      <td>69773.0</td>\n",
       "      <td>-1.768</td>\n",
       "    </tr>\n",
       "    <tr>\n",
       "      <th>2</th>\n",
       "      <td>66417.0</td>\n",
       "      <td>-1.841</td>\n",
       "    </tr>\n",
       "    <tr>\n",
       "      <th>3</th>\n",
       "      <td>64182.0</td>\n",
       "      <td>-1.908</td>\n",
       "    </tr>\n",
       "    <tr>\n",
       "      <th>4</th>\n",
       "      <td>63859.0</td>\n",
       "      <td>-1.962</td>\n",
       "    </tr>\n",
       "    <tr>\n",
       "      <th>...</th>\n",
       "      <td>...</td>\n",
       "      <td>...</td>\n",
       "    </tr>\n",
       "    <tr>\n",
       "      <th>43819</th>\n",
       "      <td>64771.0</td>\n",
       "      <td>2.048</td>\n",
       "    </tr>\n",
       "    <tr>\n",
       "      <th>43820</th>\n",
       "      <td>62259.0</td>\n",
       "      <td>1.995</td>\n",
       "    </tr>\n",
       "    <tr>\n",
       "      <th>43821</th>\n",
       "      <td>63774.0</td>\n",
       "      <td>2.107</td>\n",
       "    </tr>\n",
       "    <tr>\n",
       "      <th>43822</th>\n",
       "      <td>65865.0</td>\n",
       "      <td>2.280</td>\n",
       "    </tr>\n",
       "    <tr>\n",
       "      <th>43823</th>\n",
       "      <td>64677.0</td>\n",
       "      <td>2.224</td>\n",
       "    </tr>\n",
       "  </tbody>\n",
       "</table>\n",
       "<p>43824 rows × 2 columns</p>\n",
       "</div>"
      ],
      "text/plain": [
       "       Load_FR  Temp_FR\n",
       "0          0.0   -1.670\n",
       "1      69773.0   -1.768\n",
       "2      66417.0   -1.841\n",
       "3      64182.0   -1.908\n",
       "4      63859.0   -1.962\n",
       "...        ...      ...\n",
       "43819  64771.0    2.048\n",
       "43820  62259.0    1.995\n",
       "43821  63774.0    2.107\n",
       "43822  65865.0    2.280\n",
       "43823  64677.0    2.224\n",
       "\n",
       "[43824 rows x 2 columns]"
      ]
     },
     "execution_count": 4,
     "metadata": {},
     "output_type": "execute_result"
    }
   ],
   "source": [
    "# Restricting the load data to a single zone\n",
    "fileName  = fileList[7]\n",
    "\n",
    "zoneData = pd.read_csv(os.path.join(path, fileName), usecols= [\"Demand\", \"Temperature\"])\n",
    "zoneData.columns = [\"Load_\"+str(fileName[:-4]), \"Temp_\"+str(fileName[:-4])]\n",
    "\n",
    "# For fixing one missing row\n",
    "# zoneData = pd.concat([zoneData.loc[[0]], zoneData], axis= 0).reset_index(drop= True)\n",
    "\n",
    "zoneData"
   ]
  },
  {
   "cell_type": "markdown",
   "id": "01cec4bd",
   "metadata": {},
   "source": [
    "### FEATURE ENGINEERING AND SPLITTING INTO TRAIN-TEST SPLIT"
   ]
  },
  {
   "cell_type": "code",
   "execution_count": 5,
   "id": "a1e1e8a3",
   "metadata": {},
   "outputs": [],
   "source": [
    "def lagGenerator(dF, lagList):\n",
    "    dF_temp = dF.filter(regex= \"Load\").copy()\n",
    "    \n",
    "    for i in lagList:\n",
    "        dF_temp.loc[:, \"Lag-\" + str(i)] = dF_temp.iloc[:,[0]].shift(i*24)\n",
    "    \n",
    "    return(dF_temp.filter(regex= \"Lag\"))"
   ]
  },
  {
   "cell_type": "code",
   "execution_count": 6,
   "id": "159a2a82",
   "metadata": {},
   "outputs": [
    {
     "data": {
      "text/html": [
       "<div>\n",
       "<style scoped>\n",
       "    .dataframe tbody tr th:only-of-type {\n",
       "        vertical-align: middle;\n",
       "    }\n",
       "\n",
       "    .dataframe tbody tr th {\n",
       "        vertical-align: top;\n",
       "    }\n",
       "\n",
       "    .dataframe thead th {\n",
       "        text-align: right;\n",
       "    }\n",
       "</style>\n",
       "<table border=\"1\" class=\"dataframe\">\n",
       "  <thead>\n",
       "    <tr style=\"text-align: right;\">\n",
       "      <th></th>\n",
       "      <th>Lag-2</th>\n",
       "      <th>Lag-7</th>\n",
       "    </tr>\n",
       "  </thead>\n",
       "  <tbody>\n",
       "    <tr>\n",
       "      <th>0</th>\n",
       "      <td>NaN</td>\n",
       "      <td>NaN</td>\n",
       "    </tr>\n",
       "    <tr>\n",
       "      <th>1</th>\n",
       "      <td>NaN</td>\n",
       "      <td>NaN</td>\n",
       "    </tr>\n",
       "  </tbody>\n",
       "</table>\n",
       "</div>"
      ],
      "text/plain": [
       "   Lag-2  Lag-7\n",
       "0    NaN    NaN\n",
       "1    NaN    NaN"
      ]
     },
     "execution_count": 6,
     "metadata": {},
     "output_type": "execute_result"
    }
   ],
   "source": [
    "Load_lags = lagGenerator(dF=zoneData, lagList=[2,7])\n",
    "Load_lags.head(2)"
   ]
  },
  {
   "cell_type": "code",
   "execution_count": 7,
   "id": "05896954",
   "metadata": {},
   "outputs": [
    {
     "data": {
      "text/html": [
       "<div>\n",
       "<style scoped>\n",
       "    .dataframe tbody tr th:only-of-type {\n",
       "        vertical-align: middle;\n",
       "    }\n",
       "\n",
       "    .dataframe tbody tr th {\n",
       "        vertical-align: top;\n",
       "    }\n",
       "\n",
       "    .dataframe thead th {\n",
       "        text-align: right;\n",
       "    }\n",
       "</style>\n",
       "<table border=\"1\" class=\"dataframe\">\n",
       "  <thead>\n",
       "    <tr style=\"text-align: right;\">\n",
       "      <th></th>\n",
       "      <th>Load_FR</th>\n",
       "      <th>Temp_FR</th>\n",
       "      <th>Lag-2</th>\n",
       "      <th>Lag-7</th>\n",
       "    </tr>\n",
       "  </thead>\n",
       "  <tbody>\n",
       "    <tr>\n",
       "      <th>0</th>\n",
       "      <td>65948.0</td>\n",
       "      <td>3.926</td>\n",
       "      <td>67795.0</td>\n",
       "      <td>0.0</td>\n",
       "    </tr>\n",
       "    <tr>\n",
       "      <th>1</th>\n",
       "      <td>64676.0</td>\n",
       "      <td>4.000</td>\n",
       "      <td>66811.0</td>\n",
       "      <td>69773.0</td>\n",
       "    </tr>\n",
       "    <tr>\n",
       "      <th>2</th>\n",
       "      <td>61551.0</td>\n",
       "      <td>4.109</td>\n",
       "      <td>64040.0</td>\n",
       "      <td>66417.0</td>\n",
       "    </tr>\n",
       "    <tr>\n",
       "      <th>3</th>\n",
       "      <td>60541.0</td>\n",
       "      <td>4.202</td>\n",
       "      <td>63275.0</td>\n",
       "      <td>64182.0</td>\n",
       "    </tr>\n",
       "    <tr>\n",
       "      <th>4</th>\n",
       "      <td>62833.0</td>\n",
       "      <td>4.258</td>\n",
       "      <td>65977.0</td>\n",
       "      <td>63859.0</td>\n",
       "    </tr>\n",
       "    <tr>\n",
       "      <th>...</th>\n",
       "      <td>...</td>\n",
       "      <td>...</td>\n",
       "      <td>...</td>\n",
       "      <td>...</td>\n",
       "    </tr>\n",
       "    <tr>\n",
       "      <th>43651</th>\n",
       "      <td>64771.0</td>\n",
       "      <td>2.048</td>\n",
       "      <td>64448.0</td>\n",
       "      <td>52597.0</td>\n",
       "    </tr>\n",
       "    <tr>\n",
       "      <th>43652</th>\n",
       "      <td>62259.0</td>\n",
       "      <td>1.995</td>\n",
       "      <td>62679.0</td>\n",
       "      <td>50947.0</td>\n",
       "    </tr>\n",
       "    <tr>\n",
       "      <th>43653</th>\n",
       "      <td>63774.0</td>\n",
       "      <td>2.107</td>\n",
       "      <td>63851.0</td>\n",
       "      <td>52867.0</td>\n",
       "    </tr>\n",
       "    <tr>\n",
       "      <th>43654</th>\n",
       "      <td>65865.0</td>\n",
       "      <td>2.280</td>\n",
       "      <td>65287.0</td>\n",
       "      <td>55237.0</td>\n",
       "    </tr>\n",
       "    <tr>\n",
       "      <th>43655</th>\n",
       "      <td>64677.0</td>\n",
       "      <td>2.224</td>\n",
       "      <td>63016.0</td>\n",
       "      <td>53648.0</td>\n",
       "    </tr>\n",
       "  </tbody>\n",
       "</table>\n",
       "<p>43656 rows × 4 columns</p>\n",
       "</div>"
      ],
      "text/plain": [
       "       Load_FR  Temp_FR    Lag-2    Lag-7\n",
       "0      65948.0    3.926  67795.0      0.0\n",
       "1      64676.0    4.000  66811.0  69773.0\n",
       "2      61551.0    4.109  64040.0  66417.0\n",
       "3      60541.0    4.202  63275.0  64182.0\n",
       "4      62833.0    4.258  65977.0  63859.0\n",
       "...        ...      ...      ...      ...\n",
       "43651  64771.0    2.048  64448.0  52597.0\n",
       "43652  62259.0    1.995  62679.0  50947.0\n",
       "43653  63774.0    2.107  63851.0  52867.0\n",
       "43654  65865.0    2.280  65287.0  55237.0\n",
       "43655  64677.0    2.224  63016.0  53648.0\n",
       "\n",
       "[43656 rows x 4 columns]"
      ]
     },
     "execution_count": 7,
     "metadata": {},
     "output_type": "execute_result"
    }
   ],
   "source": [
    "dataDf = pd.concat([zoneData, Load_lags], axis= 1).dropna(axis= 0).reset_index(drop= True)\n",
    "dataDf"
   ]
  },
  {
   "cell_type": "code",
   "execution_count": 8,
   "id": "6ad25321",
   "metadata": {},
   "outputs": [],
   "source": [
    "# Setting the train-test split ratio\n",
    "ratio = 0.1"
   ]
  },
  {
   "cell_type": "code",
   "execution_count": 9,
   "id": "3c08d963",
   "metadata": {},
   "outputs": [],
   "source": [
    "Num_train, Num_test = int(len(dataDf)/24 * (1 - ratio)) * 24, int(len(dataDf)/24 * ratio) * 24"
   ]
  },
  {
   "cell_type": "code",
   "execution_count": 10,
   "id": "cbe069ff",
   "metadata": {},
   "outputs": [],
   "source": [
    "# Splitting the data into train and test\n",
    "data_train, data_test = dataDf[:Num_train], dataDf[Num_train:]"
   ]
  },
  {
   "cell_type": "code",
   "execution_count": 11,
   "id": "d84e15c4",
   "metadata": {},
   "outputs": [],
   "source": [
    "Num_train, Num_valid = int(len(data_train)/24 * (1 - ratio)) * 24, int(len(data_train)/24 * ratio) * 24"
   ]
  },
  {
   "cell_type": "code",
   "execution_count": 12,
   "id": "c17d1723",
   "metadata": {},
   "outputs": [],
   "source": [
    "# Splitting the data into train and test\n",
    "data_train, data_valid = data_train[:Num_train], data_train[Num_train:]"
   ]
  },
  {
   "cell_type": "markdown",
   "id": "88d32011",
   "metadata": {},
   "source": [
    "### SPLITTING INTO X AND Y PART WITH SEQUENCE BATCHING"
   ]
  },
  {
   "cell_type": "code",
   "execution_count": 13,
   "id": "4ba286ca",
   "metadata": {},
   "outputs": [],
   "source": [
    "X_train_df, Y_train_df = data_train.iloc[:, 1:], data_train.iloc[:, :1]\n",
    "\n",
    "X_valid_df, Y_valid_df = data_valid.iloc[:, 1:], data_valid.iloc[:, :1]\n",
    "\n",
    "X_test_df, Y_test_df = data_test.iloc[:, 1:], data_test.iloc[:, :1]"
   ]
  },
  {
   "cell_type": "code",
   "execution_count": 14,
   "id": "ef1d9079",
   "metadata": {},
   "outputs": [],
   "source": [
    "# Preparing the scaler\n",
    "ValScaler = MinMaxScaler()\n",
    "\n",
    "X_train = ValScaler.fit_transform(X_train_df)\n",
    "X_valid = ValScaler.transform(X_valid_df)\n",
    "X_test = ValScaler.transform(X_test_df)\n",
    "\n",
    "Y_train = ValScaler.fit_transform(Y_train_df)\n",
    "Y_valid = ValScaler.transform(Y_valid_df)\n",
    "Y_test = ValScaler.transform(Y_test_df)"
   ]
  },
  {
   "cell_type": "code",
   "execution_count": 15,
   "id": "43594401",
   "metadata": {},
   "outputs": [],
   "source": [
    "def splitData(dataset):\n",
    "    data = np.array(np.split(dataset, len(dataset)/24))\n",
    "    return data"
   ]
  },
  {
   "cell_type": "code",
   "execution_count": 16,
   "id": "300696b2",
   "metadata": {},
   "outputs": [],
   "source": [
    "def supervisedSet(X_part, Y_part, steps= 24):\n",
    "    X_array, Y_array = np.array(X_part), np.array(Y_part)\n",
    "    X, Y = [], []\n",
    "    \n",
    "    for i in range(len(X_array)):\n",
    "        endIdx = i + steps\n",
    "        \n",
    "        if endIdx > len(X_array):\n",
    "            break\n",
    "        \n",
    "        batch_X, batch_Y = X_array[i:endIdx], Y_array[i:endIdx]\n",
    "        \n",
    "        X.append(batch_X)\n",
    "        Y.append(batch_Y)\n",
    "        \n",
    "    return np.array(X), np.array(Y)"
   ]
  },
  {
   "cell_type": "code",
   "execution_count": 17,
   "id": "fc9cd97d",
   "metadata": {},
   "outputs": [],
   "source": [
    "X_train, Y_train = supervisedSet(X_train, Y_train)\n",
    "\n",
    "X_valid, Y_valid = splitData(X_valid), splitData(Y_valid)\n",
    "\n",
    "X_test, Y_test = splitData(X_test), splitData(Y_test)"
   ]
  },
  {
   "cell_type": "markdown",
   "id": "a2a6bf32",
   "metadata": {},
   "source": [
    "### WORKING ON THE MODEL"
   ]
  },
  {
   "cell_type": "code",
   "execution_count": 18,
   "id": "ff71a98c",
   "metadata": {},
   "outputs": [],
   "source": [
    "epochs = 100\n",
    "batchSize = 32"
   ]
  },
  {
   "cell_type": "code",
   "execution_count": 19,
   "id": "8d600c17",
   "metadata": {},
   "outputs": [],
   "source": [
    "# Encoder-decoder architecture [tanh required to use tensorflow on gpu]\n",
    "model = tf.keras.Sequential([\n",
    "    tf.keras.layers.LSTM(units= 128, activation= \"tanh\", input_shape= (X_train.shape[1], X_train.shape[2]), dropout= 0.2),\n",
    "    tf.keras.layers.RepeatVector(Y_train.shape[1]),\n",
    "    tf.keras.layers.LSTM(units= 128, activation= \"tanh\", return_sequences= True, dropout= 0.2),\n",
    "    tf.keras.layers.TimeDistributed(tf.keras.layers.Dense(units= 128, activation= \"relu\")),\n",
    "    tf.keras.layers.Dropout(0.2),\n",
    "    tf.keras.layers.TimeDistributed(tf.keras.layers.Dense(units= 1))\n",
    "])\n",
    "\n",
    "model.compile(loss= \"mse\", optimizer= \"adam\",  metrics= ['mape', 'mae'])"
   ]
  },
  {
   "cell_type": "code",
   "execution_count": 20,
   "id": "a05c033a",
   "metadata": {},
   "outputs": [],
   "source": [
    "# model = tf.keras.Sequential([\n",
    "#     tf.keras.layers.LSTM(units= 256, activation= \"tanh\", input_shape= (X_train.shape[1], X_train.shape[2])),\n",
    "#     tf.keras.layers.Dense(units= 128, activation= \"tanh\"),\n",
    "#     tf.keras.layers.Dense(units= 1)\n",
    "# ])\n",
    "\n",
    "# model.compile(loss= \"mse\", optimizer= \"adam\",  metrics= ['mape', 'mae'])"
   ]
  },
  {
   "cell_type": "code",
   "execution_count": 21,
   "id": "c9390383",
   "metadata": {},
   "outputs": [],
   "source": [
    "# Storing the start time of model fitting process\n",
    "startTime = time.time()"
   ]
  },
  {
   "cell_type": "code",
   "execution_count": 22,
   "id": "e526e3ed",
   "metadata": {},
   "outputs": [
    {
     "name": "stdout",
     "output_type": "stream",
     "text": [
      "Epoch 1/100\n",
      "1105/1105 [==============================] - 14s 9ms/step - loss: 0.0075 - mape: 13374.5469 - mae: 0.0641 - val_loss: 0.0034 - val_mape: 8.1795 - val_mae: 0.0483\n",
      "Epoch 2/100\n",
      "1105/1105 [==============================] - 9s 8ms/step - loss: 0.0048 - mape: 13565.7559 - mae: 0.0551 - val_loss: 0.0030 - val_mape: 8.1742 - val_mae: 0.0445\n",
      "Epoch 3/100\n",
      "1105/1105 [==============================] - 9s 8ms/step - loss: 0.0042 - mape: 13203.7920 - mae: 0.0514 - val_loss: 0.0029 - val_mape: 7.3761 - val_mae: 0.0438\n",
      "Epoch 4/100\n",
      "1105/1105 [==============================] - 9s 8ms/step - loss: 0.0034 - mape: 13207.6260 - mae: 0.0447 - val_loss: 0.0104 - val_mape: 14.9984 - val_mae: 0.0901\n",
      "Epoch 5/100\n",
      "1105/1105 [==============================] - 9s 8ms/step - loss: 0.0024 - mape: 13508.1885 - mae: 0.0367 - val_loss: 0.0050 - val_mape: 10.1454 - val_mae: 0.0600\n",
      "Epoch 6/100\n",
      "1105/1105 [==============================] - 9s 8ms/step - loss: 0.0020 - mape: 13309.8203 - mae: 0.0330 - val_loss: 0.0037 - val_mape: 8.6012 - val_mae: 0.0508\n",
      "Epoch 7/100\n",
      "1105/1105 [==============================] - 9s 8ms/step - loss: 0.0018 - mape: 13412.9316 - mae: 0.0307 - val_loss: 0.0025 - val_mape: 6.8857 - val_mae: 0.0409\n",
      "Epoch 8/100\n",
      "1105/1105 [==============================] - 9s 8ms/step - loss: 0.0017 - mape: 13055.5459 - mae: 0.0297 - val_loss: 0.0023 - val_mape: 6.7202 - val_mae: 0.0394\n",
      "Epoch 9/100\n",
      "1105/1105 [==============================] - 9s 8ms/step - loss: 0.0016 - mape: 13006.9600 - mae: 0.0282 - val_loss: 0.0033 - val_mape: 8.1269 - val_mae: 0.0477\n",
      "Epoch 10/100\n",
      "1105/1105 [==============================] - 9s 8ms/step - loss: 0.0015 - mape: 13103.8379 - mae: 0.0274 - val_loss: 0.0020 - val_mape: 5.9377 - val_mae: 0.0338\n",
      "Epoch 11/100\n",
      "1105/1105 [==============================] - 9s 8ms/step - loss: 0.0015 - mape: 12805.4541 - mae: 0.0267 - val_loss: 0.0079 - val_mape: 12.0951 - val_mae: 0.0745\n",
      "Epoch 12/100\n",
      "1105/1105 [==============================] - 9s 8ms/step - loss: 0.0016 - mape: 13000.0410 - mae: 0.0285 - val_loss: 0.0025 - val_mape: 7.0098 - val_mae: 0.0409\n",
      "Epoch 13/100\n",
      "1105/1105 [==============================] - 9s 8ms/step - loss: 0.0014 - mape: 13055.1729 - mae: 0.0257 - val_loss: 0.0041 - val_mape: 8.8322 - val_mae: 0.0536\n",
      "Epoch 14/100\n",
      "1105/1105 [==============================] - 9s 8ms/step - loss: 0.0013 - mape: 12828.7900 - mae: 0.0250 - val_loss: 0.0039 - val_mape: 9.1884 - val_mae: 0.0512\n",
      "Epoch 15/100\n",
      "1105/1105 [==============================] - 9s 8ms/step - loss: 0.0013 - mape: 12994.4023 - mae: 0.0247 - val_loss: 0.0024 - val_mape: 6.7373 - val_mae: 0.0391\n",
      "Epoch 16/100\n",
      "1105/1105 [==============================] - 9s 8ms/step - loss: 0.0012 - mape: 12864.8799 - mae: 0.0241 - val_loss: 0.0029 - val_mape: 7.5540 - val_mae: 0.0448\n",
      "Epoch 17/100\n",
      "1105/1105 [==============================] - 9s 8ms/step - loss: 0.0012 - mape: 12638.5518 - mae: 0.0237 - val_loss: 0.0027 - val_mape: 7.3178 - val_mae: 0.0421\n",
      "Epoch 18/100\n",
      "1105/1105 [==============================] - 9s 8ms/step - loss: 0.0012 - mape: 12981.2607 - mae: 0.0233 - val_loss: 0.0022 - val_mape: 6.3234 - val_mae: 0.0375\n",
      "Epoch 19/100\n",
      "1105/1105 [==============================] - 9s 8ms/step - loss: 0.0012 - mape: 12791.4307 - mae: 0.0232 - val_loss: 0.0030 - val_mape: 7.9674 - val_mae: 0.0459\n",
      "Epoch 20/100\n",
      "1105/1105 [==============================] - 9s 8ms/step - loss: 0.0012 - mape: 12839.7998 - mae: 0.0228 - val_loss: 0.0041 - val_mape: 9.5922 - val_mae: 0.0556\n",
      "Epoch 21/100\n",
      "1105/1105 [==============================] - 9s 8ms/step - loss: 0.0011 - mape: 12749.6895 - mae: 0.0225 - val_loss: 0.0024 - val_mape: 6.7280 - val_mae: 0.0403\n",
      "Epoch 22/100\n",
      "1105/1105 [==============================] - 9s 8ms/step - loss: 0.0011 - mape: 12793.0664 - mae: 0.0223 - val_loss: 0.0026 - val_mape: 7.2222 - val_mae: 0.0417\n",
      "Epoch 23/100\n",
      "1105/1105 [==============================] - 10s 9ms/step - loss: 0.0011 - mape: 12766.8984 - mae: 0.0221 - val_loss: 0.0025 - val_mape: 6.8078 - val_mae: 0.0407\n",
      "Epoch 24/100\n",
      "1105/1105 [==============================] - 10s 9ms/step - loss: 0.0011 - mape: 12942.5547 - mae: 0.0220 - val_loss: 0.0031 - val_mape: 8.1062 - val_mae: 0.0470\n",
      "Epoch 25/100\n",
      "1105/1105 [==============================] - 9s 8ms/step - loss: 0.0011 - mape: 12541.7666 - mae: 0.0217 - val_loss: 0.0036 - val_mape: 8.2685 - val_mae: 0.0492\n",
      "Epoch 26/100\n",
      "1105/1105 [==============================] - 9s 8ms/step - loss: 0.0011 - mape: 12444.4238 - mae: 0.0218 - val_loss: 0.0033 - val_mape: 8.2543 - val_mae: 0.0486\n",
      "Epoch 27/100\n",
      "1105/1105 [==============================] - 10s 9ms/step - loss: 0.0010 - mape: 12739.2822 - mae: 0.0214 - val_loss: 0.0020 - val_mape: 6.1292 - val_mae: 0.0357\n",
      "Epoch 28/100\n",
      "1105/1105 [==============================] - 11s 10ms/step - loss: 0.0010 - mape: 12576.1631 - mae: 0.0214 - val_loss: 0.0022 - val_mape: 6.5806 - val_mae: 0.0381\n",
      "Epoch 29/100\n",
      "1105/1105 [==============================] - 11s 10ms/step - loss: 0.0010 - mape: 12649.2832 - mae: 0.0212 - val_loss: 0.0018 - val_mape: 5.9145 - val_mae: 0.0338\n",
      "Epoch 30/100\n",
      "1105/1105 [==============================] - 11s 10ms/step - loss: 0.0010 - mape: 12682.1709 - mae: 0.0211 - val_loss: 0.0018 - val_mape: 5.8185 - val_mae: 0.0336\n",
      "Epoch 31/100\n",
      "1105/1105 [==============================] - 11s 10ms/step - loss: 9.9742e-04 - mape: 12315.4932 - mae: 0.0209 - val_loss: 0.0016 - val_mape: 5.5658 - val_mae: 0.0313\n",
      "Epoch 32/100\n",
      "1105/1105 [==============================] - 11s 10ms/step - loss: 9.9683e-04 - mape: 12183.3691 - mae: 0.0209 - val_loss: 0.0023 - val_mape: 6.7807 - val_mae: 0.0394\n",
      "Epoch 33/100\n",
      "1105/1105 [==============================] - 11s 10ms/step - loss: 9.9201e-04 - mape: 12442.9873 - mae: 0.0208 - val_loss: 0.0024 - val_mape: 7.0450 - val_mae: 0.0402\n",
      "Epoch 34/100\n",
      "1105/1105 [==============================] - 11s 10ms/step - loss: 9.8490e-04 - mape: 12225.1094 - mae: 0.0208 - val_loss: 0.0030 - val_mape: 7.4461 - val_mae: 0.0449\n",
      "Epoch 35/100\n",
      "1105/1105 [==============================] - 11s 10ms/step - loss: 9.6484e-04 - mape: 12286.3252 - mae: 0.0205 - val_loss: 0.0024 - val_mape: 6.8146 - val_mae: 0.0399\n",
      "Epoch 36/100\n",
      "1105/1105 [==============================] - 11s 10ms/step - loss: 9.5658e-04 - mape: 12229.7080 - mae: 0.0203 - val_loss: 0.0019 - val_mape: 6.0253 - val_mae: 0.0343\n",
      "Epoch 37/100\n",
      "1105/1105 [==============================] - 11s 10ms/step - loss: 9.5693e-04 - mape: 12491.2275 - mae: 0.0204 - val_loss: 0.0031 - val_mape: 7.8725 - val_mae: 0.0457\n",
      "Epoch 38/100\n",
      "1105/1105 [==============================] - 11s 10ms/step - loss: 9.4780e-04 - mape: 12239.1592 - mae: 0.0203 - val_loss: 0.0021 - val_mape: 6.2182 - val_mae: 0.0361\n",
      "Epoch 39/100\n",
      "1105/1105 [==============================] - 11s 10ms/step - loss: 9.4353e-04 - mape: 12360.7744 - mae: 0.0202 - val_loss: 0.0028 - val_mape: 7.5795 - val_mae: 0.0434\n",
      "Epoch 40/100\n",
      "1105/1105 [==============================] - 11s 10ms/step - loss: 9.3318e-04 - mape: 12134.5518 - mae: 0.0201 - val_loss: 0.0032 - val_mape: 8.1005 - val_mae: 0.0472\n",
      "Epoch 41/100\n",
      "1105/1105 [==============================] - 11s 10ms/step - loss: 9.2539e-04 - mape: 11670.6064 - mae: 0.0201 - val_loss: 0.0024 - val_mape: 6.7589 - val_mae: 0.0379\n",
      "Epoch 42/100\n",
      "1105/1105 [==============================] - 11s 10ms/step - loss: 9.2087e-04 - mape: 12164.1387 - mae: 0.0200 - val_loss: 0.0028 - val_mape: 7.4898 - val_mae: 0.0426\n",
      "Epoch 43/100\n",
      "1105/1105 [==============================] - 11s 10ms/step - loss: 9.2490e-04 - mape: 11743.8799 - mae: 0.0200 - val_loss: 0.0032 - val_mape: 7.8131 - val_mae: 0.0461\n",
      "Epoch 44/100\n",
      "1105/1105 [==============================] - 11s 10ms/step - loss: 9.1651e-04 - mape: 11903.6270 - mae: 0.0199 - val_loss: 0.0030 - val_mape: 7.5633 - val_mae: 0.0445\n",
      "Epoch 45/100\n",
      "1105/1105 [==============================] - 11s 10ms/step - loss: 9.1231e-04 - mape: 11714.0098 - mae: 0.0199 - val_loss: 0.0032 - val_mape: 7.8410 - val_mae: 0.0460\n",
      "Epoch 46/100\n",
      "1105/1105 [==============================] - 11s 10ms/step - loss: 9.0126e-04 - mape: 11535.2168 - mae: 0.0197 - val_loss: 0.0024 - val_mape: 6.8432 - val_mae: 0.0396\n",
      "Epoch 47/100\n"
     ]
    },
    {
     "name": "stdout",
     "output_type": "stream",
     "text": [
      "1105/1105 [==============================] - 11s 10ms/step - loss: 8.9684e-04 - mape: 11684.2148 - mae: 0.0196 - val_loss: 0.0023 - val_mape: 6.7833 - val_mae: 0.0382\n",
      "Epoch 48/100\n",
      "1105/1105 [==============================] - 11s 10ms/step - loss: 9.0299e-04 - mape: 11950.4814 - mae: 0.0197 - val_loss: 0.0019 - val_mape: 6.0450 - val_mae: 0.0342\n",
      "Epoch 49/100\n",
      "1105/1105 [==============================] - 11s 10ms/step - loss: 8.6177e-04 - mape: 11701.7959 - mae: 0.0193 - val_loss: 0.0030 - val_mape: 7.5848 - val_mae: 0.0451\n",
      "Epoch 50/100\n",
      "1105/1105 [==============================] - 11s 10ms/step - loss: 9.0715e-04 - mape: 11469.9160 - mae: 0.0197 - val_loss: 0.0029 - val_mape: 7.4987 - val_mae: 0.0438\n",
      "Epoch 51/100\n",
      "1105/1105 [==============================] - 11s 10ms/step - loss: 8.8008e-04 - mape: 11483.4961 - mae: 0.0194 - val_loss: 0.0026 - val_mape: 7.2266 - val_mae: 0.0417\n",
      "Epoch 52/100\n",
      "1105/1105 [==============================] - 11s 10ms/step - loss: 8.6566e-04 - mape: 11552.8711 - mae: 0.0193 - val_loss: 0.0024 - val_mape: 6.5575 - val_mae: 0.0375\n",
      "Epoch 53/100\n",
      "1105/1105 [==============================] - 11s 10ms/step - loss: 8.7717e-04 - mape: 11389.5947 - mae: 0.0195 - val_loss: 0.0032 - val_mape: 8.3024 - val_mae: 0.0481\n",
      "Epoch 54/100\n",
      "1105/1105 [==============================] - 11s 10ms/step - loss: 8.6751e-04 - mape: 11220.4648 - mae: 0.0193 - val_loss: 0.0025 - val_mape: 7.0306 - val_mae: 0.0403\n",
      "Epoch 55/100\n",
      "1105/1105 [==============================] - 11s 10ms/step - loss: 8.4525e-04 - mape: 11143.6035 - mae: 0.0191 - val_loss: 0.0035 - val_mape: 8.5195 - val_mae: 0.0499\n",
      "Epoch 56/100\n",
      "1105/1105 [==============================] - 11s 10ms/step - loss: 8.7881e-04 - mape: 11159.0068 - mae: 0.0193 - val_loss: 0.0020 - val_mape: 6.1943 - val_mae: 0.0356\n",
      "Epoch 57/100\n",
      "1105/1105 [==============================] - 11s 10ms/step - loss: 8.6313e-04 - mape: 11203.7666 - mae: 0.0192 - val_loss: 0.0022 - val_mape: 6.5086 - val_mae: 0.0377\n",
      "Epoch 58/100\n",
      "1105/1105 [==============================] - 11s 10ms/step - loss: 8.4598e-04 - mape: 10764.9971 - mae: 0.0191 - val_loss: 0.0025 - val_mape: 6.8479 - val_mae: 0.0391\n",
      "Epoch 59/100\n",
      "1105/1105 [==============================] - 11s 10ms/step - loss: 8.5595e-04 - mape: 11326.8408 - mae: 0.0192 - val_loss: 0.0024 - val_mape: 6.7634 - val_mae: 0.0388\n",
      "Epoch 60/100\n",
      "1105/1105 [==============================] - 11s 10ms/step - loss: 8.4186e-04 - mape: 10586.2812 - mae: 0.0189 - val_loss: 0.0023 - val_mape: 6.9673 - val_mae: 0.0391\n",
      "Epoch 61/100\n",
      "1105/1105 [==============================] - 11s 10ms/step - loss: 8.4202e-04 - mape: 11235.0996 - mae: 0.0189 - val_loss: 0.0032 - val_mape: 7.7707 - val_mae: 0.0455\n",
      "Epoch 62/100\n",
      "1105/1105 [==============================] - 11s 10ms/step - loss: 8.5256e-04 - mape: 11082.4492 - mae: 0.0190 - val_loss: 0.0027 - val_mape: 7.1522 - val_mae: 0.0412\n",
      "Epoch 63/100\n",
      "1105/1105 [==============================] - 11s 10ms/step - loss: 8.3058e-04 - mape: 10927.5625 - mae: 0.0189 - val_loss: 0.0026 - val_mape: 7.0571 - val_mae: 0.0407\n",
      "Epoch 64/100\n",
      "1105/1105 [==============================] - 11s 10ms/step - loss: 8.2307e-04 - mape: 10756.5625 - mae: 0.0187 - val_loss: 0.0028 - val_mape: 7.5392 - val_mae: 0.0426\n",
      "Epoch 65/100\n",
      "1105/1105 [==============================] - 9s 8ms/step - loss: 8.3501e-04 - mape: 11203.7773 - mae: 0.0188 - val_loss: 0.0022 - val_mape: 6.6547 - val_mae: 0.0375\n",
      "Epoch 66/100\n",
      "1105/1105 [==============================] - 9s 8ms/step - loss: 8.1146e-04 - mape: 10802.6660 - mae: 0.0187 - val_loss: 0.0026 - val_mape: 7.2144 - val_mae: 0.0411\n",
      "Epoch 67/100\n",
      "1105/1105 [==============================] - 8s 8ms/step - loss: 8.0459e-04 - mape: 10195.6514 - mae: 0.0185 - val_loss: 0.0024 - val_mape: 6.8766 - val_mae: 0.0398\n",
      "Epoch 68/100\n",
      "1105/1105 [==============================] - 8s 8ms/step - loss: 7.8095e-04 - mape: 10237.2500 - mae: 0.0183 - val_loss: 0.0027 - val_mape: 7.1918 - val_mae: 0.0416\n",
      "Epoch 69/100\n",
      "1105/1105 [==============================] - 9s 8ms/step - loss: 8.5973e-04 - mape: 10863.4873 - mae: 0.0192 - val_loss: 0.0030 - val_mape: 7.7475 - val_mae: 0.0456\n",
      "Epoch 70/100\n",
      "1105/1105 [==============================] - 9s 8ms/step - loss: 7.7865e-04 - mape: 9606.0693 - mae: 0.0182 - val_loss: 0.0021 - val_mape: 6.5364 - val_mae: 0.0367\n",
      "Epoch 71/100\n",
      "1105/1105 [==============================] - 8s 8ms/step - loss: 7.9010e-04 - mape: 10554.0801 - mae: 0.0183 - val_loss: 0.0030 - val_mape: 6.9625 - val_mae: 0.0399\n",
      "Epoch 72/100\n",
      "1105/1105 [==============================] - 8s 8ms/step - loss: 7.8945e-04 - mape: 11000.3594 - mae: 0.0185 - val_loss: 0.0022 - val_mape: 6.4966 - val_mae: 0.0366\n",
      "Epoch 73/100\n",
      "1105/1105 [==============================] - 8s 8ms/step - loss: 7.6572e-04 - mape: 9645.6748 - mae: 0.0180 - val_loss: 0.0026 - val_mape: 7.0540 - val_mae: 0.0401\n",
      "Epoch 74/100\n",
      "1105/1105 [==============================] - 8s 8ms/step - loss: 7.9710e-04 - mape: 10903.5654 - mae: 0.0183 - val_loss: 0.0024 - val_mape: 6.8160 - val_mae: 0.0387\n",
      "Epoch 75/100\n",
      "1105/1105 [==============================] - 9s 8ms/step - loss: 7.5463e-04 - mape: 10274.1787 - mae: 0.0179 - val_loss: 0.0031 - val_mape: 7.6040 - val_mae: 0.0445\n",
      "Epoch 76/100\n",
      "1105/1105 [==============================] - 9s 8ms/step - loss: 8.0091e-04 - mape: 10006.4023 - mae: 0.0184 - val_loss: 0.0027 - val_mape: 7.4292 - val_mae: 0.0417\n",
      "Epoch 77/100\n",
      "1105/1105 [==============================] - 9s 8ms/step - loss: 7.7573e-04 - mape: 10024.7461 - mae: 0.0181 - val_loss: 0.0028 - val_mape: 7.4519 - val_mae: 0.0423\n",
      "Epoch 78/100\n",
      "1105/1105 [==============================] - 9s 8ms/step - loss: 7.3708e-04 - mape: 9636.9160 - mae: 0.0179 - val_loss: 0.0035 - val_mape: 7.6245 - val_mae: 0.0444\n",
      "Epoch 79/100\n",
      "1105/1105 [==============================] - 8s 8ms/step - loss: 7.7434e-04 - mape: 9192.3633 - mae: 0.0182 - val_loss: 0.0026 - val_mape: 6.9082 - val_mae: 0.0397\n",
      "Epoch 80/100\n",
      "1105/1105 [==============================] - 8s 8ms/step - loss: 7.4491e-04 - mape: 9740.4248 - mae: 0.0178 - val_loss: 0.0027 - val_mape: 7.1753 - val_mae: 0.0413\n",
      "Epoch 81/100\n",
      "1105/1105 [==============================] - 9s 8ms/step - loss: 7.5868e-04 - mape: 10755.5254 - mae: 0.0181 - val_loss: 0.0023 - val_mape: 6.7437 - val_mae: 0.0391\n",
      "Epoch 82/100\n",
      "1105/1105 [==============================] - 9s 8ms/step - loss: 7.3468e-04 - mape: 9670.0234 - mae: 0.0178 - val_loss: 0.0027 - val_mape: 7.2166 - val_mae: 0.0415\n",
      "Epoch 83/100\n",
      "1105/1105 [==============================] - 8s 8ms/step - loss: 7.5084e-04 - mape: 9382.0146 - mae: 0.0180 - val_loss: 0.0033 - val_mape: 7.9753 - val_mae: 0.0458\n",
      "Epoch 84/100\n",
      "1105/1105 [==============================] - 9s 8ms/step - loss: 7.4545e-04 - mape: 9446.5176 - mae: 0.0178 - val_loss: 0.0029 - val_mape: 7.3952 - val_mae: 0.0427\n",
      "Epoch 85/100\n",
      "1105/1105 [==============================] - 9s 8ms/step - loss: 7.3934e-04 - mape: 9693.0859 - mae: 0.0178 - val_loss: 0.0027 - val_mape: 7.0967 - val_mae: 0.0407\n",
      "Epoch 86/100\n",
      "1105/1105 [==============================] - 9s 8ms/step - loss: 7.2597e-04 - mape: 10142.0596 - mae: 0.0176 - val_loss: 0.0038 - val_mape: 8.5686 - val_mae: 0.0499\n",
      "Epoch 87/100\n",
      "1105/1105 [==============================] - 9s 8ms/step - loss: 6.9026e-04 - mape: 9122.6230 - mae: 0.0174 - val_loss: 0.0039 - val_mape: 8.8685 - val_mae: 0.0514\n",
      "Epoch 88/100\n",
      "1105/1105 [==============================] - 9s 8ms/step - loss: 7.6263e-04 - mape: 9026.0039 - mae: 0.0181 - val_loss: 0.0030 - val_mape: 7.7642 - val_mae: 0.0445\n",
      "Epoch 89/100\n",
      "1105/1105 [==============================] - 8s 7ms/step - loss: 8.1531e-04 - mape: 10304.0225 - mae: 0.0187 - val_loss: 0.0029 - val_mape: 7.0724 - val_mae: 0.0418\n",
      "Epoch 90/100\n",
      "1105/1105 [==============================] - 9s 8ms/step - loss: 7.4828e-04 - mape: 11125.8164 - mae: 0.0180 - val_loss: 0.0031 - val_mape: 7.7809 - val_mae: 0.0447\n",
      "Epoch 91/100\n",
      "1105/1105 [==============================] - 8s 8ms/step - loss: 7.2956e-04 - mape: 8905.5361 - mae: 0.0175 - val_loss: 0.0026 - val_mape: 6.9526 - val_mae: 0.0400\n",
      "Epoch 92/100\n",
      "1105/1105 [==============================] - 8s 7ms/step - loss: 6.8962e-04 - mape: 9990.1045 - mae: 0.0172 - val_loss: 0.0026 - val_mape: 7.0966 - val_mae: 0.0407\n"
     ]
    },
    {
     "name": "stdout",
     "output_type": "stream",
     "text": [
      "Epoch 93/100\n",
      "1105/1105 [==============================] - 8s 8ms/step - loss: 7.0429e-04 - mape: 9025.7148 - mae: 0.0173 - val_loss: 0.0026 - val_mape: 6.9938 - val_mae: 0.0389\n",
      "Epoch 94/100\n",
      "1105/1105 [==============================] - 8s 8ms/step - loss: 7.3156e-04 - mape: 8508.4980 - mae: 0.0178 - val_loss: 0.0030 - val_mape: 7.0033 - val_mae: 0.0408\n",
      "Epoch 95/100\n",
      "1105/1105 [==============================] - 9s 8ms/step - loss: 7.0100e-04 - mape: 10768.3906 - mae: 0.0175 - val_loss: 0.0026 - val_mape: 7.1999 - val_mae: 0.0415\n",
      "Epoch 96/100\n",
      "1105/1105 [==============================] - 9s 8ms/step - loss: 7.0819e-04 - mape: 8668.8828 - mae: 0.0174 - val_loss: 0.0032 - val_mape: 7.7451 - val_mae: 0.0441\n",
      "Epoch 97/100\n",
      "1105/1105 [==============================] - 9s 8ms/step - loss: 6.4794e-04 - mape: 9090.1309 - mae: 0.0168 - val_loss: 0.0030 - val_mape: 7.5314 - val_mae: 0.0432\n",
      "Epoch 98/100\n",
      "1105/1105 [==============================] - 9s 8ms/step - loss: 7.0399e-04 - mape: 9425.9932 - mae: 0.0175 - val_loss: 0.0026 - val_mape: 6.3279 - val_mae: 0.0365\n",
      "Epoch 99/100\n",
      "1105/1105 [==============================] - 9s 8ms/step - loss: 6.7750e-04 - mape: 9317.9668 - mae: 0.0171 - val_loss: 0.0026 - val_mape: 6.9606 - val_mae: 0.0398\n",
      "Epoch 100/100\n",
      "1105/1105 [==============================] - 9s 8ms/step - loss: 5.9178e-04 - mape: 7955.3740 - mae: 0.0163 - val_loss: 0.0031 - val_mape: 7.3613 - val_mae: 0.0413\n"
     ]
    },
    {
     "data": {
      "text/plain": [
       "<keras.callbacks.History at 0x17d24cb9fa0>"
      ]
     },
     "execution_count": 22,
     "metadata": {},
     "output_type": "execute_result"
    }
   ],
   "source": [
    "model.fit(X_train, Y_train, epochs= epochs, batch_size= batchSize, verbose= 1, shuffle= True, validation_data= (X_valid, Y_valid))"
   ]
  },
  {
   "cell_type": "code",
   "execution_count": 23,
   "id": "cd839153",
   "metadata": {},
   "outputs": [
    {
     "name": "stdout",
     "output_type": "stream",
     "text": [
      "Total execution time in seconds: 959.6981873512268\n"
     ]
    }
   ],
   "source": [
    "calcExecTime = (time.time() - startTime)\n",
    "print('Total execution time in seconds: ' + str(calcExecTime))"
   ]
  },
  {
   "cell_type": "markdown",
   "id": "72aafa74",
   "metadata": {},
   "source": [
    "### MAKING PREDICTIONS AND GENERATING RESULTS"
   ]
  },
  {
   "cell_type": "code",
   "execution_count": 24,
   "id": "259bfb49",
   "metadata": {},
   "outputs": [
    {
     "name": "stdout",
     "output_type": "stream",
     "text": [
      "6/6 [==============================] - 1s 6ms/step\n"
     ]
    }
   ],
   "source": [
    "predictions = model.predict(X_test)"
   ]
  },
  {
   "cell_type": "code",
   "execution_count": 25,
   "id": "2912d431",
   "metadata": {},
   "outputs": [
    {
     "data": {
      "text/plain": [
       "array([0.42211035, 0.4195129 , 0.4295141 , ..., 0.73443663, 0.70760787,\n",
       "       0.68535566], dtype=float32)"
      ]
     },
     "execution_count": 25,
     "metadata": {},
     "output_type": "execute_result"
    }
   ],
   "source": [
    "predArr = predictions.reshape(predictions.shape[0] * predictions.shape[1], predictions.shape[2]).ravel()\n",
    "predArr"
   ]
  },
  {
   "cell_type": "code",
   "execution_count": 26,
   "id": "b01889f2",
   "metadata": {},
   "outputs": [
    {
     "data": {
      "text/plain": [
       "array([0.46444485, 0.4457089 , 0.44084176, ..., 0.69360148, 0.71458534,\n",
       "       0.70266338])"
      ]
     },
     "execution_count": 26,
     "metadata": {},
     "output_type": "execute_result"
    }
   ],
   "source": [
    "Y_testArr = Y_test.reshape(Y_test.shape[0] * Y_test.shape[1], Y_test.shape[2]).ravel()\n",
    "Y_testArr"
   ]
  },
  {
   "cell_type": "code",
   "execution_count": 27,
   "id": "799c97e8",
   "metadata": {},
   "outputs": [],
   "source": [
    "def inverse_transform(df):\n",
    "    column_names = df.columns\n",
    "    for col in column_names:\n",
    "        df[col] = ValScaler.inverse_transform(df[[col]]) \n",
    "    return df"
   ]
  },
  {
   "cell_type": "code",
   "execution_count": 28,
   "id": "afa81e30",
   "metadata": {},
   "outputs": [
    {
     "data": {
      "text/html": [
       "<div>\n",
       "<style scoped>\n",
       "    .dataframe tbody tr th:only-of-type {\n",
       "        vertical-align: middle;\n",
       "    }\n",
       "\n",
       "    .dataframe tbody tr th {\n",
       "        vertical-align: top;\n",
       "    }\n",
       "\n",
       "    .dataframe thead th {\n",
       "        text-align: right;\n",
       "    }\n",
       "</style>\n",
       "<table border=\"1\" class=\"dataframe\">\n",
       "  <thead>\n",
       "    <tr style=\"text-align: right;\">\n",
       "      <th></th>\n",
       "      <th>Values</th>\n",
       "      <th>Predictions</th>\n",
       "    </tr>\n",
       "  </thead>\n",
       "  <tbody>\n",
       "    <tr>\n",
       "      <th>0</th>\n",
       "      <td>40939.0</td>\n",
       "      <td>36720.449219</td>\n",
       "    </tr>\n",
       "    <tr>\n",
       "      <th>1</th>\n",
       "      <td>39072.0</td>\n",
       "      <td>36461.621094</td>\n",
       "    </tr>\n",
       "    <tr>\n",
       "      <th>2</th>\n",
       "      <td>38587.0</td>\n",
       "      <td>37458.222656</td>\n",
       "    </tr>\n",
       "    <tr>\n",
       "      <th>3</th>\n",
       "      <td>39762.0</td>\n",
       "      <td>38927.546875</td>\n",
       "    </tr>\n",
       "    <tr>\n",
       "      <th>4</th>\n",
       "      <td>42435.0</td>\n",
       "      <td>42844.730469</td>\n",
       "    </tr>\n",
       "    <tr>\n",
       "      <th>...</th>\n",
       "      <td>...</td>\n",
       "      <td>...</td>\n",
       "    </tr>\n",
       "    <tr>\n",
       "      <th>4363</th>\n",
       "      <td>64771.0</td>\n",
       "      <td>68148.757812</td>\n",
       "    </tr>\n",
       "    <tr>\n",
       "      <th>4364</th>\n",
       "      <td>62259.0</td>\n",
       "      <td>68442.101562</td>\n",
       "    </tr>\n",
       "    <tr>\n",
       "      <th>4365</th>\n",
       "      <td>63774.0</td>\n",
       "      <td>67843.140625</td>\n",
       "    </tr>\n",
       "    <tr>\n",
       "      <th>4366</th>\n",
       "      <td>65865.0</td>\n",
       "      <td>65169.707031</td>\n",
       "    </tr>\n",
       "    <tr>\n",
       "      <th>4367</th>\n",
       "      <td>64677.0</td>\n",
       "      <td>62952.320312</td>\n",
       "    </tr>\n",
       "  </tbody>\n",
       "</table>\n",
       "<p>4368 rows × 2 columns</p>\n",
       "</div>"
      ],
      "text/plain": [
       "       Values   Predictions\n",
       "0     40939.0  36720.449219\n",
       "1     39072.0  36461.621094\n",
       "2     38587.0  37458.222656\n",
       "3     39762.0  38927.546875\n",
       "4     42435.0  42844.730469\n",
       "...       ...           ...\n",
       "4363  64771.0  68148.757812\n",
       "4364  62259.0  68442.101562\n",
       "4365  63774.0  67843.140625\n",
       "4366  65865.0  65169.707031\n",
       "4367  64677.0  62952.320312\n",
       "\n",
       "[4368 rows x 2 columns]"
      ]
     },
     "execution_count": 28,
     "metadata": {},
     "output_type": "execute_result"
    }
   ],
   "source": [
    "comparisionDf = pd.DataFrame(data= {\"Values\": Y_testArr, \"Predictions\": predArr})\n",
    "comparisionDf = inverse_transform(comparisionDf)\n",
    "comparisionDf"
   ]
  },
  {
   "cell_type": "code",
   "execution_count": 29,
   "id": "88222bae",
   "metadata": {},
   "outputs": [
    {
     "data": {
      "text/plain": [
       "4.961990182058484"
      ]
     },
     "execution_count": 29,
     "metadata": {},
     "output_type": "execute_result"
    }
   ],
   "source": [
    "mape(comparisionDf[\"Values\"], comparisionDf[\"Predictions\"])"
   ]
  }
 ],
 "metadata": {
  "kernelspec": {
   "display_name": "Python 3 (ipykernel)",
   "language": "python",
   "name": "python3"
  },
  "language_info": {
   "codemirror_mode": {
    "name": "ipython",
    "version": 3
   },
   "file_extension": ".py",
   "mimetype": "text/x-python",
   "name": "python",
   "nbconvert_exporter": "python",
   "pygments_lexer": "ipython3",
   "version": "3.9.12"
  }
 },
 "nbformat": 4,
 "nbformat_minor": 5
}
