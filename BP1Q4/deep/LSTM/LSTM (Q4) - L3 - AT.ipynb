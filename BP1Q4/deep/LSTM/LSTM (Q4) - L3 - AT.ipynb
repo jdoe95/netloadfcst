{
 "cells": [
  {
   "cell_type": "code",
   "execution_count": 1,
   "id": "5f61b29f",
   "metadata": {},
   "outputs": [
    {
     "name": "stdout",
     "output_type": "stream",
     "text": [
      "Num GPUs Available:  1\n"
     ]
    }
   ],
   "source": [
    "import pandas as pd\n",
    "import numpy as np\n",
    "import os\n",
    "import matplotlib.pyplot as plt\n",
    "from datetime import datetime\n",
    "from sklearn.preprocessing import MinMaxScaler, RobustScaler, StandardScaler\n",
    "import time\n",
    "\n",
    "import tensorflow as tf\n",
    "tf.random.set_seed(42)\n",
    "\n",
    "def mape(y_true, y_pred):\n",
    "    y_true, y_pred = np.array(y_true), np.array(y_pred)\n",
    "    return np.mean(np.abs((y_true - y_pred) / max(y_true))) * 100\n",
    "\n",
    "def RMSELoss(yhat,y):\n",
    "    return torch.sqrt(torch.mean((yhat-y)**2))\n",
    "\n",
    "print(\"Num GPUs Available: \", len(tf.config.list_physical_devices('GPU')))"
   ]
  },
  {
   "cell_type": "code",
   "execution_count": 2,
   "id": "cea0abe2",
   "metadata": {},
   "outputs": [
    {
     "name": "stdout",
     "output_type": "stream",
     "text": [
      "['AT.csv', 'BE.csv', 'BG.csv', 'CH.csv', 'CZ.csv', 'DK.csv', 'ES.csv', 'FR.csv', 'GR.csv', 'IT.csv', 'NL.csv', 'PT.csv', 'SI.csv', 'SK.csv']\n"
     ]
    }
   ],
   "source": [
    "# Specifying the path of file\n",
    "path= r\"C:\\Users\\sashah8\\OneDrive - North Carolina State University\\Desktop\\Q4\\Data\\L3\\data_cleaned\"\n",
    "\n",
    "# Listing just the required files\n",
    "fileList = os.listdir(path)\n",
    "fileList.remove(\"Date.csv\")\n",
    "\n",
    "# Previewing the required file names\n",
    "print(fileList)"
   ]
  },
  {
   "cell_type": "code",
   "execution_count": 3,
   "id": "a6fe9396",
   "metadata": {},
   "outputs": [
    {
     "data": {
      "text/html": [
       "<div>\n",
       "<style scoped>\n",
       "    .dataframe tbody tr th:only-of-type {\n",
       "        vertical-align: middle;\n",
       "    }\n",
       "\n",
       "    .dataframe tbody tr th {\n",
       "        vertical-align: top;\n",
       "    }\n",
       "\n",
       "    .dataframe thead th {\n",
       "        text-align: right;\n",
       "    }\n",
       "</style>\n",
       "<table border=\"1\" class=\"dataframe\">\n",
       "  <thead>\n",
       "    <tr style=\"text-align: right;\">\n",
       "      <th></th>\n",
       "      <th>Demand</th>\n",
       "      <th>Normalized_net</th>\n",
       "      <th>Temperature</th>\n",
       "      <th>DNI</th>\n",
       "      <th>DHI</th>\n",
       "    </tr>\n",
       "  </thead>\n",
       "  <tbody>\n",
       "    <tr>\n",
       "      <th>0</th>\n",
       "      <td>5946.0</td>\n",
       "      <td>0.521164</td>\n",
       "      <td>-6.503</td>\n",
       "      <td>0.0</td>\n",
       "      <td>0.0</td>\n",
       "    </tr>\n",
       "    <tr>\n",
       "      <th>1</th>\n",
       "      <td>5726.0</td>\n",
       "      <td>0.499457</td>\n",
       "      <td>-6.458</td>\n",
       "      <td>0.0</td>\n",
       "      <td>0.0</td>\n",
       "    </tr>\n",
       "    <tr>\n",
       "      <th>2</th>\n",
       "      <td>5347.0</td>\n",
       "      <td>0.462062</td>\n",
       "      <td>-6.253</td>\n",
       "      <td>0.0</td>\n",
       "      <td>0.0</td>\n",
       "    </tr>\n",
       "    <tr>\n",
       "      <th>3</th>\n",
       "      <td>5249.0</td>\n",
       "      <td>0.452393</td>\n",
       "      <td>-5.908</td>\n",
       "      <td>0.0</td>\n",
       "      <td>0.0</td>\n",
       "    </tr>\n",
       "    <tr>\n",
       "      <th>4</th>\n",
       "      <td>5309.0</td>\n",
       "      <td>0.458313</td>\n",
       "      <td>-5.516</td>\n",
       "      <td>0.0</td>\n",
       "      <td>0.0</td>\n",
       "    </tr>\n",
       "    <tr>\n",
       "      <th>...</th>\n",
       "      <td>...</td>\n",
       "      <td>...</td>\n",
       "      <td>...</td>\n",
       "      <td>...</td>\n",
       "      <td>...</td>\n",
       "    </tr>\n",
       "    <tr>\n",
       "      <th>43819</th>\n",
       "      <td>6748.0</td>\n",
       "      <td>0.600296</td>\n",
       "      <td>-1.386</td>\n",
       "      <td>0.0</td>\n",
       "      <td>0.0</td>\n",
       "    </tr>\n",
       "    <tr>\n",
       "      <th>43820</th>\n",
       "      <td>6429.0</td>\n",
       "      <td>0.568821</td>\n",
       "      <td>-1.661</td>\n",
       "      <td>0.0</td>\n",
       "      <td>0.0</td>\n",
       "    </tr>\n",
       "    <tr>\n",
       "      <th>43821</th>\n",
       "      <td>6492.0</td>\n",
       "      <td>0.575037</td>\n",
       "      <td>-1.986</td>\n",
       "      <td>0.0</td>\n",
       "      <td>0.0</td>\n",
       "    </tr>\n",
       "    <tr>\n",
       "      <th>43822</th>\n",
       "      <td>6206.0</td>\n",
       "      <td>0.546818</td>\n",
       "      <td>-2.184</td>\n",
       "      <td>0.0</td>\n",
       "      <td>0.0</td>\n",
       "    </tr>\n",
       "    <tr>\n",
       "      <th>43823</th>\n",
       "      <td>5967.0</td>\n",
       "      <td>0.523236</td>\n",
       "      <td>-2.271</td>\n",
       "      <td>0.0</td>\n",
       "      <td>0.0</td>\n",
       "    </tr>\n",
       "  </tbody>\n",
       "</table>\n",
       "<p>43824 rows × 5 columns</p>\n",
       "</div>"
      ],
      "text/plain": [
       "       Demand  Normalized_net  Temperature  DNI  DHI\n",
       "0      5946.0        0.521164       -6.503  0.0  0.0\n",
       "1      5726.0        0.499457       -6.458  0.0  0.0\n",
       "2      5347.0        0.462062       -6.253  0.0  0.0\n",
       "3      5249.0        0.452393       -5.908  0.0  0.0\n",
       "4      5309.0        0.458313       -5.516  0.0  0.0\n",
       "...       ...             ...          ...  ...  ...\n",
       "43819  6748.0        0.600296       -1.386  0.0  0.0\n",
       "43820  6429.0        0.568821       -1.661  0.0  0.0\n",
       "43821  6492.0        0.575037       -1.986  0.0  0.0\n",
       "43822  6206.0        0.546818       -2.184  0.0  0.0\n",
       "43823  5967.0        0.523236       -2.271  0.0  0.0\n",
       "\n",
       "[43824 rows x 5 columns]"
      ]
     },
     "execution_count": 3,
     "metadata": {},
     "output_type": "execute_result"
    }
   ],
   "source": [
    "# Just for previewing the columns\n",
    "pd.read_csv(os.path.join(path, fileList[0]))"
   ]
  },
  {
   "cell_type": "markdown",
   "id": "9ad4906c",
   "metadata": {
    "pycharm": {
     "name": "#%% md\n"
    }
   },
   "source": [
    "### PROCESSING THE DATA"
   ]
  },
  {
   "cell_type": "code",
   "execution_count": 4,
   "id": "f29f6db2",
   "metadata": {},
   "outputs": [
    {
     "data": {
      "text/html": [
       "<div>\n",
       "<style scoped>\n",
       "    .dataframe tbody tr th:only-of-type {\n",
       "        vertical-align: middle;\n",
       "    }\n",
       "\n",
       "    .dataframe tbody tr th {\n",
       "        vertical-align: top;\n",
       "    }\n",
       "\n",
       "    .dataframe thead th {\n",
       "        text-align: right;\n",
       "    }\n",
       "</style>\n",
       "<table border=\"1\" class=\"dataframe\">\n",
       "  <thead>\n",
       "    <tr style=\"text-align: right;\">\n",
       "      <th></th>\n",
       "      <th>Load_AT</th>\n",
       "      <th>Temp_AT</th>\n",
       "    </tr>\n",
       "  </thead>\n",
       "  <tbody>\n",
       "    <tr>\n",
       "      <th>0</th>\n",
       "      <td>5946.0</td>\n",
       "      <td>-6.503</td>\n",
       "    </tr>\n",
       "    <tr>\n",
       "      <th>1</th>\n",
       "      <td>5726.0</td>\n",
       "      <td>-6.458</td>\n",
       "    </tr>\n",
       "    <tr>\n",
       "      <th>2</th>\n",
       "      <td>5347.0</td>\n",
       "      <td>-6.253</td>\n",
       "    </tr>\n",
       "    <tr>\n",
       "      <th>3</th>\n",
       "      <td>5249.0</td>\n",
       "      <td>-5.908</td>\n",
       "    </tr>\n",
       "    <tr>\n",
       "      <th>4</th>\n",
       "      <td>5309.0</td>\n",
       "      <td>-5.516</td>\n",
       "    </tr>\n",
       "    <tr>\n",
       "      <th>...</th>\n",
       "      <td>...</td>\n",
       "      <td>...</td>\n",
       "    </tr>\n",
       "    <tr>\n",
       "      <th>43819</th>\n",
       "      <td>6748.0</td>\n",
       "      <td>-1.386</td>\n",
       "    </tr>\n",
       "    <tr>\n",
       "      <th>43820</th>\n",
       "      <td>6429.0</td>\n",
       "      <td>-1.661</td>\n",
       "    </tr>\n",
       "    <tr>\n",
       "      <th>43821</th>\n",
       "      <td>6492.0</td>\n",
       "      <td>-1.986</td>\n",
       "    </tr>\n",
       "    <tr>\n",
       "      <th>43822</th>\n",
       "      <td>6206.0</td>\n",
       "      <td>-2.184</td>\n",
       "    </tr>\n",
       "    <tr>\n",
       "      <th>43823</th>\n",
       "      <td>5967.0</td>\n",
       "      <td>-2.271</td>\n",
       "    </tr>\n",
       "  </tbody>\n",
       "</table>\n",
       "<p>43824 rows × 2 columns</p>\n",
       "</div>"
      ],
      "text/plain": [
       "       Load_AT  Temp_AT\n",
       "0       5946.0   -6.503\n",
       "1       5726.0   -6.458\n",
       "2       5347.0   -6.253\n",
       "3       5249.0   -5.908\n",
       "4       5309.0   -5.516\n",
       "...        ...      ...\n",
       "43819   6748.0   -1.386\n",
       "43820   6429.0   -1.661\n",
       "43821   6492.0   -1.986\n",
       "43822   6206.0   -2.184\n",
       "43823   5967.0   -2.271\n",
       "\n",
       "[43824 rows x 2 columns]"
      ]
     },
     "execution_count": 4,
     "metadata": {},
     "output_type": "execute_result"
    }
   ],
   "source": [
    "# Restricting the load data to a single zone\n",
    "fileName  = fileList[0]\n",
    "\n",
    "zoneData = pd.read_csv(os.path.join(path, fileName), usecols= [\"Demand\", \"Temperature\"])\n",
    "zoneData.columns = [\"Load_\"+str(fileName[:-4]), \"Temp_\"+str(fileName[:-4])]\n",
    "\n",
    "# For fixing one missing row\n",
    "# zoneData = pd.concat([zoneData.loc[[0]], zoneData], axis= 0).reset_index(drop= True)\n",
    "\n",
    "zoneData"
   ]
  },
  {
   "cell_type": "markdown",
   "id": "01cec4bd",
   "metadata": {},
   "source": [
    "### FEATURE ENGINEERING AND SPLITTING INTO TRAIN-TEST SPLIT"
   ]
  },
  {
   "cell_type": "code",
   "execution_count": 5,
   "id": "a1e1e8a3",
   "metadata": {},
   "outputs": [],
   "source": [
    "def lagGenerator(dF, lagList):\n",
    "    dF_temp = dF.filter(regex= \"Load\").copy()\n",
    "    \n",
    "    for i in lagList:\n",
    "        dF_temp.loc[:, \"Lag-\" + str(i)] = dF_temp.iloc[:,[0]].shift(i*24)\n",
    "    \n",
    "    return(dF_temp.filter(regex= \"Lag\"))"
   ]
  },
  {
   "cell_type": "code",
   "execution_count": 6,
   "id": "159a2a82",
   "metadata": {},
   "outputs": [
    {
     "data": {
      "text/html": [
       "<div>\n",
       "<style scoped>\n",
       "    .dataframe tbody tr th:only-of-type {\n",
       "        vertical-align: middle;\n",
       "    }\n",
       "\n",
       "    .dataframe tbody tr th {\n",
       "        vertical-align: top;\n",
       "    }\n",
       "\n",
       "    .dataframe thead th {\n",
       "        text-align: right;\n",
       "    }\n",
       "</style>\n",
       "<table border=\"1\" class=\"dataframe\">\n",
       "  <thead>\n",
       "    <tr style=\"text-align: right;\">\n",
       "      <th></th>\n",
       "      <th>Lag-2</th>\n",
       "      <th>Lag-7</th>\n",
       "    </tr>\n",
       "  </thead>\n",
       "  <tbody>\n",
       "    <tr>\n",
       "      <th>0</th>\n",
       "      <td>NaN</td>\n",
       "      <td>NaN</td>\n",
       "    </tr>\n",
       "    <tr>\n",
       "      <th>1</th>\n",
       "      <td>NaN</td>\n",
       "      <td>NaN</td>\n",
       "    </tr>\n",
       "  </tbody>\n",
       "</table>\n",
       "</div>"
      ],
      "text/plain": [
       "   Lag-2  Lag-7\n",
       "0    NaN    NaN\n",
       "1    NaN    NaN"
      ]
     },
     "execution_count": 6,
     "metadata": {},
     "output_type": "execute_result"
    }
   ],
   "source": [
    "Load_lags = lagGenerator(dF=zoneData, lagList=[2,7])\n",
    "Load_lags.head(2)"
   ]
  },
  {
   "cell_type": "code",
   "execution_count": 7,
   "id": "05896954",
   "metadata": {},
   "outputs": [
    {
     "data": {
      "text/html": [
       "<div>\n",
       "<style scoped>\n",
       "    .dataframe tbody tr th:only-of-type {\n",
       "        vertical-align: middle;\n",
       "    }\n",
       "\n",
       "    .dataframe tbody tr th {\n",
       "        vertical-align: top;\n",
       "    }\n",
       "\n",
       "    .dataframe thead th {\n",
       "        text-align: right;\n",
       "    }\n",
       "</style>\n",
       "<table border=\"1\" class=\"dataframe\">\n",
       "  <thead>\n",
       "    <tr style=\"text-align: right;\">\n",
       "      <th></th>\n",
       "      <th>Load_AT</th>\n",
       "      <th>Temp_AT</th>\n",
       "      <th>Lag-2</th>\n",
       "      <th>Lag-7</th>\n",
       "    </tr>\n",
       "  </thead>\n",
       "  <tbody>\n",
       "    <tr>\n",
       "      <th>0</th>\n",
       "      <td>6357.0</td>\n",
       "      <td>-4.576</td>\n",
       "      <td>5220.0</td>\n",
       "      <td>5946.0</td>\n",
       "    </tr>\n",
       "    <tr>\n",
       "      <th>1</th>\n",
       "      <td>6360.0</td>\n",
       "      <td>-4.559</td>\n",
       "      <td>5015.0</td>\n",
       "      <td>5726.0</td>\n",
       "    </tr>\n",
       "    <tr>\n",
       "      <th>2</th>\n",
       "      <td>6417.0</td>\n",
       "      <td>-4.422</td>\n",
       "      <td>4868.0</td>\n",
       "      <td>5347.0</td>\n",
       "    </tr>\n",
       "    <tr>\n",
       "      <th>3</th>\n",
       "      <td>6302.0</td>\n",
       "      <td>-4.344</td>\n",
       "      <td>4974.0</td>\n",
       "      <td>5249.0</td>\n",
       "    </tr>\n",
       "    <tr>\n",
       "      <th>4</th>\n",
       "      <td>6601.0</td>\n",
       "      <td>-4.187</td>\n",
       "      <td>4926.0</td>\n",
       "      <td>5309.0</td>\n",
       "    </tr>\n",
       "    <tr>\n",
       "      <th>...</th>\n",
       "      <td>...</td>\n",
       "      <td>...</td>\n",
       "      <td>...</td>\n",
       "      <td>...</td>\n",
       "    </tr>\n",
       "    <tr>\n",
       "      <th>43651</th>\n",
       "      <td>6748.0</td>\n",
       "      <td>-1.386</td>\n",
       "      <td>7357.0</td>\n",
       "      <td>6158.0</td>\n",
       "    </tr>\n",
       "    <tr>\n",
       "      <th>43652</th>\n",
       "      <td>6429.0</td>\n",
       "      <td>-1.661</td>\n",
       "      <td>7000.0</td>\n",
       "      <td>5957.0</td>\n",
       "    </tr>\n",
       "    <tr>\n",
       "      <th>43653</th>\n",
       "      <td>6492.0</td>\n",
       "      <td>-1.986</td>\n",
       "      <td>6985.0</td>\n",
       "      <td>6075.0</td>\n",
       "    </tr>\n",
       "    <tr>\n",
       "      <th>43654</th>\n",
       "      <td>6206.0</td>\n",
       "      <td>-2.184</td>\n",
       "      <td>6602.0</td>\n",
       "      <td>5748.0</td>\n",
       "    </tr>\n",
       "    <tr>\n",
       "      <th>43655</th>\n",
       "      <td>5967.0</td>\n",
       "      <td>-2.271</td>\n",
       "      <td>6340.0</td>\n",
       "      <td>5444.0</td>\n",
       "    </tr>\n",
       "  </tbody>\n",
       "</table>\n",
       "<p>43656 rows × 4 columns</p>\n",
       "</div>"
      ],
      "text/plain": [
       "       Load_AT  Temp_AT   Lag-2   Lag-7\n",
       "0       6357.0   -4.576  5220.0  5946.0\n",
       "1       6360.0   -4.559  5015.0  5726.0\n",
       "2       6417.0   -4.422  4868.0  5347.0\n",
       "3       6302.0   -4.344  4974.0  5249.0\n",
       "4       6601.0   -4.187  4926.0  5309.0\n",
       "...        ...      ...     ...     ...\n",
       "43651   6748.0   -1.386  7357.0  6158.0\n",
       "43652   6429.0   -1.661  7000.0  5957.0\n",
       "43653   6492.0   -1.986  6985.0  6075.0\n",
       "43654   6206.0   -2.184  6602.0  5748.0\n",
       "43655   5967.0   -2.271  6340.0  5444.0\n",
       "\n",
       "[43656 rows x 4 columns]"
      ]
     },
     "execution_count": 7,
     "metadata": {},
     "output_type": "execute_result"
    }
   ],
   "source": [
    "dataDf = pd.concat([zoneData, Load_lags], axis= 1).dropna(axis= 0).reset_index(drop= True)\n",
    "dataDf"
   ]
  },
  {
   "cell_type": "code",
   "execution_count": 8,
   "id": "6ad25321",
   "metadata": {},
   "outputs": [],
   "source": [
    "# Setting the train-test split ratio\n",
    "ratio = 0.1"
   ]
  },
  {
   "cell_type": "code",
   "execution_count": 9,
   "id": "3c08d963",
   "metadata": {},
   "outputs": [],
   "source": [
    "Num_train, Num_test = int(len(dataDf)/24 * (1 - ratio)) * 24, int(len(dataDf)/24 * ratio) * 24"
   ]
  },
  {
   "cell_type": "code",
   "execution_count": 10,
   "id": "cbe069ff",
   "metadata": {},
   "outputs": [],
   "source": [
    "# Splitting the data into train and test\n",
    "data_train, data_test = dataDf[:Num_train], dataDf[Num_train:]"
   ]
  },
  {
   "cell_type": "code",
   "execution_count": 11,
   "id": "d84e15c4",
   "metadata": {},
   "outputs": [],
   "source": [
    "Num_train, Num_valid = int(len(data_train)/24 * (1 - ratio)) * 24, int(len(data_train)/24 * ratio) * 24"
   ]
  },
  {
   "cell_type": "code",
   "execution_count": 12,
   "id": "c17d1723",
   "metadata": {},
   "outputs": [],
   "source": [
    "# Splitting the data into train and test\n",
    "data_train, data_valid = data_train[:Num_train], data_train[Num_train:]"
   ]
  },
  {
   "cell_type": "markdown",
   "id": "88d32011",
   "metadata": {},
   "source": [
    "### SPLITTING INTO X AND Y PART WITH SEQUENCE BATCHING"
   ]
  },
  {
   "cell_type": "code",
   "execution_count": 13,
   "id": "4ba286ca",
   "metadata": {},
   "outputs": [],
   "source": [
    "X_train_df, Y_train_df = data_train.iloc[:, 1:], data_train.iloc[:, :1]\n",
    "\n",
    "X_valid_df, Y_valid_df = data_valid.iloc[:, 1:], data_valid.iloc[:, :1]\n",
    "\n",
    "X_test_df, Y_test_df = data_test.iloc[:, 1:], data_test.iloc[:, :1]"
   ]
  },
  {
   "cell_type": "code",
   "execution_count": 14,
   "id": "ef1d9079",
   "metadata": {},
   "outputs": [],
   "source": [
    "# Preparing the scaler\n",
    "ValScaler = MinMaxScaler()\n",
    "\n",
    "X_train = ValScaler.fit_transform(X_train_df)\n",
    "X_valid = ValScaler.transform(X_valid_df)\n",
    "X_test = ValScaler.transform(X_test_df)\n",
    "\n",
    "Y_train = ValScaler.fit_transform(Y_train_df)\n",
    "Y_valid = ValScaler.transform(Y_valid_df)\n",
    "Y_test = ValScaler.transform(Y_test_df)"
   ]
  },
  {
   "cell_type": "code",
   "execution_count": 15,
   "id": "43594401",
   "metadata": {},
   "outputs": [],
   "source": [
    "def splitData(dataset):\n",
    "    data = np.array(np.split(dataset, len(dataset)/24))\n",
    "    return data"
   ]
  },
  {
   "cell_type": "code",
   "execution_count": 16,
   "id": "300696b2",
   "metadata": {},
   "outputs": [],
   "source": [
    "def supervisedSet(X_part, Y_part, steps= 24):\n",
    "    X_array, Y_array = np.array(X_part), np.array(Y_part)\n",
    "    X, Y = [], []\n",
    "    \n",
    "    for i in range(len(X_array)):\n",
    "        endIdx = i + steps\n",
    "        \n",
    "        if endIdx > len(X_array):\n",
    "            break\n",
    "        \n",
    "        batch_X, batch_Y = X_array[i:endIdx], Y_array[i:endIdx]\n",
    "        \n",
    "        X.append(batch_X)\n",
    "        Y.append(batch_Y)\n",
    "        \n",
    "    return np.array(X), np.array(Y)"
   ]
  },
  {
   "cell_type": "code",
   "execution_count": 17,
   "id": "fc9cd97d",
   "metadata": {},
   "outputs": [],
   "source": [
    "X_train, Y_train = supervisedSet(X_train, Y_train)\n",
    "\n",
    "X_valid, Y_valid = splitData(X_valid), splitData(Y_valid)\n",
    "\n",
    "X_test, Y_test = splitData(X_test), splitData(Y_test)"
   ]
  },
  {
   "cell_type": "markdown",
   "id": "a2a6bf32",
   "metadata": {},
   "source": [
    "### WORKING ON THE MODEL"
   ]
  },
  {
   "cell_type": "code",
   "execution_count": 18,
   "id": "ff71a98c",
   "metadata": {},
   "outputs": [],
   "source": [
    "epochs = 100\n",
    "batchSize = 32"
   ]
  },
  {
   "cell_type": "code",
   "execution_count": 19,
   "id": "8d600c17",
   "metadata": {},
   "outputs": [],
   "source": [
    "# Encoder-decoder architecture [tanh required to use tensorflow on gpu]\n",
    "model = tf.keras.Sequential([\n",
    "    tf.keras.layers.LSTM(units= 128, activation= \"tanh\", input_shape= (X_train.shape[1], X_train.shape[2]), dropout= 0.2),\n",
    "    tf.keras.layers.RepeatVector(Y_train.shape[1]),\n",
    "    tf.keras.layers.LSTM(units= 128, activation= \"tanh\", return_sequences= True, dropout= 0.2),\n",
    "    tf.keras.layers.TimeDistributed(tf.keras.layers.Dense(units= 128, activation= \"relu\")),\n",
    "    tf.keras.layers.Dropout(0.2),\n",
    "    tf.keras.layers.TimeDistributed(tf.keras.layers.Dense(units= 1))\n",
    "])\n",
    "\n",
    "model.compile(loss= \"mse\", optimizer= \"adam\",  metrics= ['mape', 'mae'])"
   ]
  },
  {
   "cell_type": "code",
   "execution_count": 20,
   "id": "a05c033a",
   "metadata": {},
   "outputs": [],
   "source": [
    "# model = tf.keras.Sequential([\n",
    "#     tf.keras.layers.LSTM(units= 256, activation= \"tanh\", input_shape= (X_train.shape[1], X_train.shape[2])),\n",
    "#     tf.keras.layers.Dense(units= 128, activation= \"tanh\"),\n",
    "#     tf.keras.layers.Dense(units= 1)\n",
    "# ])\n",
    "\n",
    "# model.compile(loss= \"mse\", optimizer= \"adam\",  metrics= ['mape', 'mae'])"
   ]
  },
  {
   "cell_type": "code",
   "execution_count": 21,
   "id": "c9390383",
   "metadata": {},
   "outputs": [],
   "source": [
    "# Storing the start time of model fitting process\n",
    "startTime = time.time()"
   ]
  },
  {
   "cell_type": "code",
   "execution_count": 22,
   "id": "e526e3ed",
   "metadata": {},
   "outputs": [
    {
     "name": "stdout",
     "output_type": "stream",
     "text": [
      "Epoch 1/100\n",
      "1105/1105 [==============================] - 13s 8ms/step - loss: 0.0158 - mape: 18160.2871 - mae: 0.0993 - val_loss: 0.0087 - val_mape: 11.8057 - val_mae: 0.0762\n",
      "Epoch 2/100\n",
      "1105/1105 [==============================] - 8s 7ms/step - loss: 0.0080 - mape: 18548.8320 - mae: 0.0684 - val_loss: 0.0049 - val_mape: 8.3512 - val_mae: 0.0533\n",
      "Epoch 3/100\n",
      "1105/1105 [==============================] - 8s 7ms/step - loss: 0.0057 - mape: 19113.2734 - mae: 0.0550 - val_loss: 0.0131 - val_mape: 13.9899 - val_mae: 0.0954\n",
      "Epoch 4/100\n",
      "1105/1105 [==============================] - 8s 7ms/step - loss: 0.0050 - mape: 19100.7109 - mae: 0.0507 - val_loss: 0.0108 - val_mape: 13.1051 - val_mae: 0.0882\n",
      "Epoch 5/100\n",
      "1105/1105 [==============================] - 8s 8ms/step - loss: 0.0045 - mape: 19040.2383 - mae: 0.0476 - val_loss: 0.0084 - val_mape: 11.9608 - val_mae: 0.0785\n",
      "Epoch 6/100\n",
      "1105/1105 [==============================] - 9s 8ms/step - loss: 0.0043 - mape: 18580.6484 - mae: 0.0459 - val_loss: 0.0104 - val_mape: 13.3735 - val_mae: 0.0887\n",
      "Epoch 7/100\n",
      "1105/1105 [==============================] - 8s 8ms/step - loss: 0.0041 - mape: 18776.1719 - mae: 0.0444 - val_loss: 0.0090 - val_mape: 12.7480 - val_mae: 0.0835\n",
      "Epoch 8/100\n",
      "1105/1105 [==============================] - 8s 8ms/step - loss: 0.0039 - mape: 18735.2578 - mae: 0.0432 - val_loss: 0.0052 - val_mape: 9.3476 - val_mae: 0.0594\n",
      "Epoch 9/100\n",
      "1105/1105 [==============================] - 8s 8ms/step - loss: 0.0038 - mape: 18855.1133 - mae: 0.0427 - val_loss: 0.0071 - val_mape: 11.1120 - val_mae: 0.0717\n",
      "Epoch 10/100\n",
      "1105/1105 [==============================] - 8s 8ms/step - loss: 0.0037 - mape: 18978.6914 - mae: 0.0416 - val_loss: 0.0070 - val_mape: 11.1118 - val_mae: 0.0713\n",
      "Epoch 11/100\n",
      "1105/1105 [==============================] - 8s 7ms/step - loss: 0.0037 - mape: 18861.2617 - mae: 0.0415 - val_loss: 0.0066 - val_mape: 11.2941 - val_mae: 0.0700\n",
      "Epoch 12/100\n",
      "1105/1105 [==============================] - 8s 8ms/step - loss: 0.0036 - mape: 19061.1758 - mae: 0.0409 - val_loss: 0.0074 - val_mape: 11.5006 - val_mae: 0.0740\n",
      "Epoch 13/100\n",
      "1105/1105 [==============================] - 9s 8ms/step - loss: 0.0035 - mape: 18570.6074 - mae: 0.0404 - val_loss: 0.0048 - val_mape: 8.9668 - val_mae: 0.0558\n",
      "Epoch 14/100\n",
      "1105/1105 [==============================] - 8s 8ms/step - loss: 0.0035 - mape: 19090.7129 - mae: 0.0398 - val_loss: 0.0054 - val_mape: 9.6923 - val_mae: 0.0593\n",
      "Epoch 15/100\n",
      "1105/1105 [==============================] - 9s 8ms/step - loss: 0.0034 - mape: 18868.3008 - mae: 0.0396 - val_loss: 0.0052 - val_mape: 8.9095 - val_mae: 0.0573\n",
      "Epoch 16/100\n",
      "1105/1105 [==============================] - 8s 8ms/step - loss: 0.0033 - mape: 18542.9414 - mae: 0.0388 - val_loss: 0.0071 - val_mape: 11.1550 - val_mae: 0.0721\n",
      "Epoch 17/100\n",
      "1105/1105 [==============================] - 8s 7ms/step - loss: 0.0032 - mape: 18783.4023 - mae: 0.0383 - val_loss: 0.0068 - val_mape: 10.4035 - val_mae: 0.0627\n",
      "Epoch 18/100\n",
      "1105/1105 [==============================] - 8s 7ms/step - loss: 0.0032 - mape: 18729.0703 - mae: 0.0379 - val_loss: 0.0110 - val_mape: 13.7874 - val_mae: 0.0904\n",
      "Epoch 19/100\n",
      "1105/1105 [==============================] - 8s 8ms/step - loss: 0.0032 - mape: 19082.4219 - mae: 0.0377 - val_loss: 0.0058 - val_mape: 9.5740 - val_mae: 0.0603\n",
      "Epoch 20/100\n",
      "1105/1105 [==============================] - 9s 8ms/step - loss: 0.0031 - mape: 18717.8008 - mae: 0.0371 - val_loss: 0.0058 - val_mape: 9.6746 - val_mae: 0.0628\n",
      "Epoch 21/100\n",
      "1105/1105 [==============================] - 9s 8ms/step - loss: 0.0030 - mape: 18689.7266 - mae: 0.0366 - val_loss: 0.0062 - val_mape: 10.3707 - val_mae: 0.0656\n",
      "Epoch 22/100\n",
      "1105/1105 [==============================] - 8s 8ms/step - loss: 0.0030 - mape: 18543.2402 - mae: 0.0363 - val_loss: 0.0057 - val_mape: 9.6077 - val_mae: 0.0620\n",
      "Epoch 23/100\n",
      "1105/1105 [==============================] - 8s 8ms/step - loss: 0.0029 - mape: 18608.5391 - mae: 0.0357 - val_loss: 0.0087 - val_mape: 12.3272 - val_mae: 0.0806\n",
      "Epoch 24/100\n",
      "1105/1105 [==============================] - 8s 8ms/step - loss: 0.0029 - mape: 18301.3477 - mae: 0.0354 - val_loss: 0.0087 - val_mape: 12.4171 - val_mae: 0.0798\n",
      "Epoch 25/100\n",
      "1105/1105 [==============================] - 9s 8ms/step - loss: 0.0029 - mape: 18391.7637 - mae: 0.0353 - val_loss: 0.0093 - val_mape: 12.3434 - val_mae: 0.0814\n",
      "Epoch 26/100\n",
      "1105/1105 [==============================] - 9s 8ms/step - loss: 0.0028 - mape: 18196.2949 - mae: 0.0350 - val_loss: 0.0122 - val_mape: 14.7364 - val_mae: 0.0962\n",
      "Epoch 27/100\n",
      "1105/1105 [==============================] - 9s 8ms/step - loss: 0.0028 - mape: 18070.3750 - mae: 0.0346 - val_loss: 0.0075 - val_mape: 11.4836 - val_mae: 0.0735\n",
      "Epoch 28/100\n",
      "1105/1105 [==============================] - 9s 8ms/step - loss: 0.0027 - mape: 18165.3281 - mae: 0.0341 - val_loss: 0.0076 - val_mape: 11.2198 - val_mae: 0.0715\n",
      "Epoch 29/100\n",
      "1105/1105 [==============================] - 9s 8ms/step - loss: 0.0027 - mape: 18237.6172 - mae: 0.0341 - val_loss: 0.0092 - val_mape: 12.9537 - val_mae: 0.0828\n",
      "Epoch 30/100\n",
      "1105/1105 [==============================] - 9s 8ms/step - loss: 0.0026 - mape: 17818.6836 - mae: 0.0336 - val_loss: 0.0062 - val_mape: 9.8142 - val_mae: 0.0600\n",
      "Epoch 31/100\n",
      "1105/1105 [==============================] - 8s 8ms/step - loss: 0.0026 - mape: 17939.1289 - mae: 0.0334 - val_loss: 0.0080 - val_mape: 11.5451 - val_mae: 0.0737\n",
      "Epoch 32/100\n",
      "1105/1105 [==============================] - 9s 8ms/step - loss: 0.0026 - mape: 17810.0605 - mae: 0.0332 - val_loss: 0.0073 - val_mape: 11.1817 - val_mae: 0.0708\n",
      "Epoch 33/100\n",
      "1105/1105 [==============================] - 9s 8ms/step - loss: 0.0025 - mape: 17587.3301 - mae: 0.0330 - val_loss: 0.0097 - val_mape: 12.7729 - val_mae: 0.0813\n",
      "Epoch 34/100\n",
      "1105/1105 [==============================] - 9s 8ms/step - loss: 0.0026 - mape: 17930.7852 - mae: 0.0332 - val_loss: 0.0114 - val_mape: 13.6743 - val_mae: 0.0895\n",
      "Epoch 35/100\n",
      "1105/1105 [==============================] - 9s 8ms/step - loss: 0.0025 - mape: 17430.6855 - mae: 0.0325 - val_loss: 0.0104 - val_mape: 13.5706 - val_mae: 0.0873\n",
      "Epoch 36/100\n",
      "1105/1105 [==============================] - 9s 8ms/step - loss: 0.0025 - mape: 17831.1094 - mae: 0.0324 - val_loss: 0.0086 - val_mape: 11.8457 - val_mae: 0.0759\n",
      "Epoch 37/100\n",
      "1105/1105 [==============================] - 9s 8ms/step - loss: 0.0025 - mape: 17401.1953 - mae: 0.0324 - val_loss: 0.0104 - val_mape: 13.1059 - val_mae: 0.0855\n",
      "Epoch 38/100\n",
      "1105/1105 [==============================] - 9s 8ms/step - loss: 0.0024 - mape: 17786.1992 - mae: 0.0318 - val_loss: 0.0110 - val_mape: 13.5380 - val_mae: 0.0875\n",
      "Epoch 39/100\n",
      "1105/1105 [==============================] - 8s 8ms/step - loss: 0.0023 - mape: 17068.9531 - mae: 0.0315 - val_loss: 0.0120 - val_mape: 14.4572 - val_mae: 0.0916\n",
      "Epoch 40/100\n",
      "1105/1105 [==============================] - 8s 7ms/step - loss: 0.0024 - mape: 16785.4238 - mae: 0.0318 - val_loss: 0.0108 - val_mape: 13.1569 - val_mae: 0.0859\n",
      "Epoch 41/100\n",
      "1105/1105 [==============================] - 8s 7ms/step - loss: 0.0023 - mape: 17022.9453 - mae: 0.0313 - val_loss: 0.0093 - val_mape: 12.5882 - val_mae: 0.0801\n",
      "Epoch 42/100\n",
      "1105/1105 [==============================] - 8s 7ms/step - loss: 0.0022 - mape: 16734.1582 - mae: 0.0309 - val_loss: 0.0123 - val_mape: 14.5078 - val_mae: 0.0940\n",
      "Epoch 43/100\n",
      "1105/1105 [==============================] - 8s 7ms/step - loss: 0.0023 - mape: 16979.6934 - mae: 0.0310 - val_loss: 0.0109 - val_mape: 13.6861 - val_mae: 0.0867\n",
      "Epoch 44/100\n",
      "1105/1105 [==============================] - 8s 8ms/step - loss: 0.0022 - mape: 16483.5391 - mae: 0.0306 - val_loss: 0.0111 - val_mape: 13.7192 - val_mae: 0.0880\n",
      "Epoch 45/100\n",
      "1105/1105 [==============================] - 9s 8ms/step - loss: 0.0022 - mape: 17026.1641 - mae: 0.0303 - val_loss: 0.0090 - val_mape: 12.1569 - val_mae: 0.0774\n",
      "Epoch 46/100\n",
      "1105/1105 [==============================] - 9s 8ms/step - loss: 0.0022 - mape: 16337.4746 - mae: 0.0304 - val_loss: 0.0087 - val_mape: 11.6885 - val_mae: 0.0756\n",
      "Epoch 47/100\n",
      "1105/1105 [==============================] - 9s 8ms/step - loss: 0.0022 - mape: 16322.5898 - mae: 0.0306 - val_loss: 0.0117 - val_mape: 14.0910 - val_mae: 0.0874\n"
     ]
    },
    {
     "name": "stdout",
     "output_type": "stream",
     "text": [
      "Epoch 48/100\n",
      "1105/1105 [==============================] - 9s 8ms/step - loss: 0.0021 - mape: 15534.4434 - mae: 0.0301 - val_loss: 0.0111 - val_mape: 13.7282 - val_mae: 0.0881\n",
      "Epoch 49/100\n",
      "1105/1105 [==============================] - 9s 8ms/step - loss: 0.0021 - mape: 16821.4941 - mae: 0.0300 - val_loss: 0.0134 - val_mape: 14.5422 - val_mae: 0.0942\n",
      "Epoch 50/100\n",
      "1105/1105 [==============================] - 9s 8ms/step - loss: 0.0021 - mape: 15055.7812 - mae: 0.0300 - val_loss: 0.0109 - val_mape: 13.3315 - val_mae: 0.0843\n",
      "Epoch 51/100\n",
      "1105/1105 [==============================] - 9s 8ms/step - loss: 0.0021 - mape: 15098.2383 - mae: 0.0301 - val_loss: 0.0100 - val_mape: 12.6386 - val_mae: 0.0803\n",
      "Epoch 52/100\n",
      "1105/1105 [==============================] - 9s 8ms/step - loss: 0.0021 - mape: 15134.7119 - mae: 0.0298 - val_loss: 0.0095 - val_mape: 12.5530 - val_mae: 0.0796\n",
      "Epoch 53/100\n",
      "1105/1105 [==============================] - 9s 8ms/step - loss: 0.0021 - mape: 14727.4355 - mae: 0.0302 - val_loss: 0.0094 - val_mape: 12.6113 - val_mae: 0.0811\n",
      "Epoch 54/100\n",
      "1105/1105 [==============================] - 9s 8ms/step - loss: 0.0020 - mape: 14888.6338 - mae: 0.0292 - val_loss: 0.0096 - val_mape: 12.6530 - val_mae: 0.0815\n",
      "Epoch 55/100\n",
      "1105/1105 [==============================] - 9s 8ms/step - loss: 0.0020 - mape: 12560.2559 - mae: 0.0293 - val_loss: 0.0115 - val_mape: 13.5124 - val_mae: 0.0879\n",
      "Epoch 56/100\n",
      "1105/1105 [==============================] - 9s 8ms/step - loss: 0.0020 - mape: 15645.4219 - mae: 0.0292 - val_loss: 0.0095 - val_mape: 12.4363 - val_mae: 0.0791\n",
      "Epoch 57/100\n",
      "1105/1105 [==============================] - 9s 8ms/step - loss: 0.0020 - mape: 13493.8936 - mae: 0.0292 - val_loss: 0.0105 - val_mape: 13.0842 - val_mae: 0.0826\n",
      "Epoch 58/100\n",
      "1105/1105 [==============================] - 9s 8ms/step - loss: 0.0019 - mape: 14279.5781 - mae: 0.0288 - val_loss: 0.0111 - val_mape: 13.3418 - val_mae: 0.0845\n",
      "Epoch 59/100\n",
      "1105/1105 [==============================] - 9s 8ms/step - loss: 0.0019 - mape: 14605.1455 - mae: 0.0287 - val_loss: 0.0077 - val_mape: 11.0355 - val_mae: 0.0693\n",
      "Epoch 60/100\n",
      "1105/1105 [==============================] - 9s 8ms/step - loss: 0.0019 - mape: 13204.8281 - mae: 0.0290 - val_loss: 0.0099 - val_mape: 12.7941 - val_mae: 0.0805\n",
      "Epoch 61/100\n",
      "1105/1105 [==============================] - 9s 8ms/step - loss: 0.0019 - mape: 14110.6914 - mae: 0.0289 - val_loss: 0.0140 - val_mape: 15.8702 - val_mae: 0.1002\n",
      "Epoch 62/100\n",
      "1105/1105 [==============================] - 9s 8ms/step - loss: 0.0018 - mape: 13868.6543 - mae: 0.0285 - val_loss: 0.0102 - val_mape: 12.6727 - val_mae: 0.0803\n",
      "Epoch 63/100\n",
      "1105/1105 [==============================] - 9s 8ms/step - loss: 0.0020 - mape: 14255.4971 - mae: 0.0290 - val_loss: 0.0103 - val_mape: 13.1896 - val_mae: 0.0826\n",
      "Epoch 64/100\n",
      "1105/1105 [==============================] - 9s 8ms/step - loss: 0.0018 - mape: 10518.0283 - mae: 0.0284 - val_loss: 0.0142 - val_mape: 15.6269 - val_mae: 0.0973\n",
      "Epoch 65/100\n",
      "1105/1105 [==============================] - 9s 8ms/step - loss: 0.0018 - mape: 12918.5918 - mae: 0.0283 - val_loss: 0.0097 - val_mape: 12.9378 - val_mae: 0.0809\n",
      "Epoch 66/100\n",
      "1105/1105 [==============================] - 9s 8ms/step - loss: 0.0019 - mape: 16006.1553 - mae: 0.0285 - val_loss: 0.0159 - val_mape: 16.2699 - val_mae: 0.1051\n",
      "Epoch 67/100\n",
      "1105/1105 [==============================] - 9s 8ms/step - loss: 0.0019 - mape: 11702.8438 - mae: 0.0287 - val_loss: 0.0101 - val_mape: 13.2637 - val_mae: 0.0844\n",
      "Epoch 68/100\n",
      "1105/1105 [==============================] - 9s 8ms/step - loss: 0.0018 - mape: 11449.6875 - mae: 0.0280 - val_loss: 0.0128 - val_mape: 14.4674 - val_mae: 0.0933\n",
      "Epoch 69/100\n",
      "1105/1105 [==============================] - 9s 8ms/step - loss: 0.0018 - mape: 14366.0811 - mae: 0.0279 - val_loss: 0.0105 - val_mape: 12.8877 - val_mae: 0.0831\n",
      "Epoch 70/100\n",
      "1105/1105 [==============================] - 9s 8ms/step - loss: 0.0017 - mape: 10539.8369 - mae: 0.0277 - val_loss: 0.0103 - val_mape: 13.2179 - val_mae: 0.0837\n",
      "Epoch 71/100\n",
      "1105/1105 [==============================] - 9s 8ms/step - loss: 0.0018 - mape: 10290.0205 - mae: 0.0278 - val_loss: 0.0124 - val_mape: 14.3655 - val_mae: 0.0915\n",
      "Epoch 72/100\n",
      "1105/1105 [==============================] - 9s 8ms/step - loss: 0.0017 - mape: 13114.0752 - mae: 0.0275 - val_loss: 0.0118 - val_mape: 13.7269 - val_mae: 0.0892\n",
      "Epoch 73/100\n",
      "1105/1105 [==============================] - 9s 8ms/step - loss: 0.0017 - mape: 10592.9258 - mae: 0.0277 - val_loss: 0.0102 - val_mape: 12.7689 - val_mae: 0.0805\n",
      "Epoch 74/100\n",
      "1105/1105 [==============================] - 9s 8ms/step - loss: 0.0016 - mape: 7928.1777 - mae: 0.0270 - val_loss: 0.0130 - val_mape: 14.4783 - val_mae: 0.0928\n",
      "Epoch 75/100\n",
      "1105/1105 [==============================] - 9s 8ms/step - loss: 0.0017 - mape: 12370.4502 - mae: 0.0277 - val_loss: 0.0123 - val_mape: 14.1706 - val_mae: 0.0905\n",
      "Epoch 76/100\n",
      "1105/1105 [==============================] - 9s 8ms/step - loss: 0.0017 - mape: 12241.8428 - mae: 0.0274 - val_loss: 0.0109 - val_mape: 13.1128 - val_mae: 0.0825\n",
      "Epoch 77/100\n",
      "1105/1105 [==============================] - 9s 8ms/step - loss: 0.0017 - mape: 13218.8262 - mae: 0.0271 - val_loss: 0.0126 - val_mape: 14.8593 - val_mae: 0.0933\n",
      "Epoch 78/100\n",
      "1105/1105 [==============================] - 9s 8ms/step - loss: 0.0017 - mape: 11533.2207 - mae: 0.0276 - val_loss: 0.0101 - val_mape: 12.8696 - val_mae: 0.0816\n",
      "Epoch 79/100\n",
      "1105/1105 [==============================] - 9s 8ms/step - loss: 0.0016 - mape: 9476.8154 - mae: 0.0270 - val_loss: 0.0092 - val_mape: 12.2907 - val_mae: 0.0780\n",
      "Epoch 80/100\n",
      "1105/1105 [==============================] - 9s 8ms/step - loss: 0.0016 - mape: 10496.0918 - mae: 0.0267 - val_loss: 0.0109 - val_mape: 13.1134 - val_mae: 0.0829\n",
      "Epoch 81/100\n",
      "1105/1105 [==============================] - 9s 8ms/step - loss: 0.0017 - mape: 11458.6006 - mae: 0.0272 - val_loss: 0.0087 - val_mape: 11.6718 - val_mae: 0.0734\n",
      "Epoch 82/100\n",
      "1105/1105 [==============================] - 9s 8ms/step - loss: 0.0016 - mape: 9442.9883 - mae: 0.0266 - val_loss: 0.0127 - val_mape: 14.3465 - val_mae: 0.0913\n",
      "Epoch 83/100\n",
      "1105/1105 [==============================] - 9s 8ms/step - loss: 0.0015 - mape: 7941.7886 - mae: 0.0262 - val_loss: 0.0104 - val_mape: 13.0305 - val_mae: 0.0820\n",
      "Epoch 84/100\n",
      "1105/1105 [==============================] - 9s 8ms/step - loss: 0.0017 - mape: 10274.7031 - mae: 0.0275 - val_loss: 0.0088 - val_mape: 11.7073 - val_mae: 0.0734\n",
      "Epoch 85/100\n",
      "1105/1105 [==============================] - 9s 8ms/step - loss: 0.0017 - mape: 11252.8389 - mae: 0.0271 - val_loss: 0.0110 - val_mape: 13.4459 - val_mae: 0.0850\n",
      "Epoch 86/100\n",
      "1105/1105 [==============================] - 8s 8ms/step - loss: 0.0016 - mape: 10766.2686 - mae: 0.0269 - val_loss: 0.0105 - val_mape: 12.9598 - val_mae: 0.0826\n",
      "Epoch 87/100\n",
      "1105/1105 [==============================] - 8s 8ms/step - loss: 0.0016 - mape: 11404.7422 - mae: 0.0265 - val_loss: 0.0104 - val_mape: 13.3805 - val_mae: 0.0834\n",
      "Epoch 88/100\n",
      "1105/1105 [==============================] - 9s 8ms/step - loss: 0.0014 - mape: 5752.7017 - mae: 0.0258 - val_loss: 0.0075 - val_mape: 11.3014 - val_mae: 0.0707\n",
      "Epoch 89/100\n",
      "1105/1105 [==============================] - 9s 8ms/step - loss: 0.0015 - mape: 10950.2471 - mae: 0.0263 - val_loss: 0.0135 - val_mape: 14.7094 - val_mae: 0.0949\n",
      "Epoch 90/100\n",
      "1105/1105 [==============================] - 9s 8ms/step - loss: 0.0015 - mape: 11270.0820 - mae: 0.0258 - val_loss: 0.0114 - val_mape: 13.5182 - val_mae: 0.0857\n",
      "Epoch 91/100\n",
      "1105/1105 [==============================] - 9s 8ms/step - loss: 0.0015 - mape: 9422.8271 - mae: 0.0258 - val_loss: 0.0120 - val_mape: 13.7997 - val_mae: 0.0877\n",
      "Epoch 92/100\n",
      "1105/1105 [==============================] - 9s 8ms/step - loss: 0.0014 - mape: 9655.5586 - mae: 0.0254 - val_loss: 0.0101 - val_mape: 12.5168 - val_mae: 0.0790\n",
      "Epoch 93/100\n",
      "1105/1105 [==============================] - 9s 8ms/step - loss: 0.0015 - mape: 8011.8354 - mae: 0.0261 - val_loss: 0.0089 - val_mape: 12.2066 - val_mae: 0.0775\n",
      "Epoch 94/100\n",
      "1105/1105 [==============================] - 9s 8ms/step - loss: 0.0015 - mape: 8938.8369 - mae: 0.0261 - val_loss: 0.0115 - val_mape: 13.4575 - val_mae: 0.0862\n"
     ]
    },
    {
     "name": "stdout",
     "output_type": "stream",
     "text": [
      "Epoch 95/100\n",
      "1105/1105 [==============================] - 9s 8ms/step - loss: 0.0013 - mape: 6442.2373 - mae: 0.0247 - val_loss: 0.0108 - val_mape: 13.1025 - val_mae: 0.0834\n",
      "Epoch 96/100\n",
      "1105/1105 [==============================] - 9s 8ms/step - loss: 0.0014 - mape: 8490.9287 - mae: 0.0255 - val_loss: 0.0105 - val_mape: 12.7555 - val_mae: 0.0821\n",
      "Epoch 97/100\n",
      "1105/1105 [==============================] - 9s 8ms/step - loss: 0.0014 - mape: 4819.1729 - mae: 0.0252 - val_loss: 0.0106 - val_mape: 13.0259 - val_mae: 0.0822\n",
      "Epoch 98/100\n",
      "1105/1105 [==============================] - 9s 8ms/step - loss: 0.0013 - mape: 9952.6406 - mae: 0.0249 - val_loss: 0.0099 - val_mape: 12.4718 - val_mae: 0.0787\n",
      "Epoch 99/100\n",
      "1105/1105 [==============================] - 9s 8ms/step - loss: 0.0012 - mape: 4289.6108 - mae: 0.0244 - val_loss: 0.0108 - val_mape: 13.0813 - val_mae: 0.0826\n",
      "Epoch 100/100\n",
      "1105/1105 [==============================] - 9s 8ms/step - loss: 0.0014 - mape: 8084.1885 - mae: 0.0253 - val_loss: 0.0109 - val_mape: 13.4458 - val_mae: 0.0834\n"
     ]
    },
    {
     "data": {
      "text/plain": [
       "<keras.callbacks.History at 0x1fe87f1f580>"
      ]
     },
     "execution_count": 22,
     "metadata": {},
     "output_type": "execute_result"
    }
   ],
   "source": [
    "model.fit(X_train, Y_train, epochs= epochs, batch_size= batchSize, verbose= 1, shuffle= True, validation_data= (X_valid, Y_valid))"
   ]
  },
  {
   "cell_type": "code",
   "execution_count": 23,
   "id": "cd839153",
   "metadata": {},
   "outputs": [
    {
     "name": "stdout",
     "output_type": "stream",
     "text": [
      "Total execution time in seconds: 867.9719169139862\n"
     ]
    }
   ],
   "source": [
    "calcExecTime = (time.time() - startTime)\n",
    "print('Total execution time in seconds: ' + str(calcExecTime))"
   ]
  },
  {
   "cell_type": "markdown",
   "id": "72aafa74",
   "metadata": {},
   "source": [
    "### MAKING PREDICTIONS AND GENERATING RESULTS"
   ]
  },
  {
   "cell_type": "code",
   "execution_count": 24,
   "id": "259bfb49",
   "metadata": {},
   "outputs": [
    {
     "name": "stdout",
     "output_type": "stream",
     "text": [
      "6/6 [==============================] - 1s 7ms/step\n"
     ]
    }
   ],
   "source": [
    "predictions = model.predict(X_test)"
   ]
  },
  {
   "cell_type": "code",
   "execution_count": 25,
   "id": "2912d431",
   "metadata": {},
   "outputs": [
    {
     "data": {
      "text/plain": [
       "array([0.36989126, 0.34595966, 0.37775493, ..., 0.60349154, 0.5886885 ,\n",
       "       0.5730443 ], dtype=float32)"
      ]
     },
     "execution_count": 25,
     "metadata": {},
     "output_type": "execute_result"
    }
   ],
   "source": [
    "predArr = predictions.reshape(predictions.shape[0] * predictions.shape[1], predictions.shape[2]).ravel()\n",
    "predArr"
   ]
  },
  {
   "cell_type": "code",
   "execution_count": 26,
   "id": "b01889f2",
   "metadata": {},
   "outputs": [
    {
     "data": {
      "text/plain": [
       "array([0.4699556 , 0.45663542, 0.46591021, ..., 0.575037  , 0.54681796,\n",
       "       0.52323631])"
      ]
     },
     "execution_count": 26,
     "metadata": {},
     "output_type": "execute_result"
    }
   ],
   "source": [
    "Y_testArr = Y_test.reshape(Y_test.shape[0] * Y_test.shape[1], Y_test.shape[2]).ravel()\n",
    "Y_testArr"
   ]
  },
  {
   "cell_type": "code",
   "execution_count": 27,
   "id": "799c97e8",
   "metadata": {},
   "outputs": [],
   "source": [
    "def inverse_transform(df):\n",
    "    column_names = df.columns\n",
    "    for col in column_names:\n",
    "        df[col] = ValScaler.inverse_transform(df[[col]]) \n",
    "    return df"
   ]
  },
  {
   "cell_type": "code",
   "execution_count": 28,
   "id": "afa81e30",
   "metadata": {},
   "outputs": [
    {
     "data": {
      "text/html": [
       "<div>\n",
       "<style scoped>\n",
       "    .dataframe tbody tr th:only-of-type {\n",
       "        vertical-align: middle;\n",
       "    }\n",
       "\n",
       "    .dataframe tbody tr th {\n",
       "        vertical-align: top;\n",
       "    }\n",
       "\n",
       "    .dataframe thead th {\n",
       "        text-align: right;\n",
       "    }\n",
       "</style>\n",
       "<table border=\"1\" class=\"dataframe\">\n",
       "  <thead>\n",
       "    <tr style=\"text-align: right;\">\n",
       "      <th></th>\n",
       "      <th>Values</th>\n",
       "      <th>Predictions</th>\n",
       "    </tr>\n",
       "  </thead>\n",
       "  <tbody>\n",
       "    <tr>\n",
       "      <th>0</th>\n",
       "      <td>5427.0</td>\n",
       "      <td>4412.848145</td>\n",
       "    </tr>\n",
       "    <tr>\n",
       "      <th>1</th>\n",
       "      <td>5292.0</td>\n",
       "      <td>4170.301270</td>\n",
       "    </tr>\n",
       "    <tr>\n",
       "      <th>2</th>\n",
       "      <td>5386.0</td>\n",
       "      <td>4492.546387</td>\n",
       "    </tr>\n",
       "    <tr>\n",
       "      <th>3</th>\n",
       "      <td>5848.0</td>\n",
       "      <td>4669.992676</td>\n",
       "    </tr>\n",
       "    <tr>\n",
       "      <th>4</th>\n",
       "      <td>6826.0</td>\n",
       "      <td>5053.202637</td>\n",
       "    </tr>\n",
       "    <tr>\n",
       "      <th>...</th>\n",
       "      <td>...</td>\n",
       "      <td>...</td>\n",
       "    </tr>\n",
       "    <tr>\n",
       "      <th>4363</th>\n",
       "      <td>6748.0</td>\n",
       "      <td>7140.683594</td>\n",
       "    </tr>\n",
       "    <tr>\n",
       "      <th>4364</th>\n",
       "      <td>6429.0</td>\n",
       "      <td>6938.542480</td>\n",
       "    </tr>\n",
       "    <tr>\n",
       "      <th>4365</th>\n",
       "      <td>6492.0</td>\n",
       "      <td>6780.386719</td>\n",
       "    </tr>\n",
       "    <tr>\n",
       "      <th>4366</th>\n",
       "      <td>6206.0</td>\n",
       "      <td>6630.357422</td>\n",
       "    </tr>\n",
       "    <tr>\n",
       "      <th>4367</th>\n",
       "      <td>5967.0</td>\n",
       "      <td>6471.803711</td>\n",
       "    </tr>\n",
       "  </tbody>\n",
       "</table>\n",
       "<p>4368 rows × 2 columns</p>\n",
       "</div>"
      ],
      "text/plain": [
       "      Values  Predictions\n",
       "0     5427.0  4412.848145\n",
       "1     5292.0  4170.301270\n",
       "2     5386.0  4492.546387\n",
       "3     5848.0  4669.992676\n",
       "4     6826.0  5053.202637\n",
       "...      ...          ...\n",
       "4363  6748.0  7140.683594\n",
       "4364  6429.0  6938.542480\n",
       "4365  6492.0  6780.386719\n",
       "4366  6206.0  6630.357422\n",
       "4367  5967.0  6471.803711\n",
       "\n",
       "[4368 rows x 2 columns]"
      ]
     },
     "execution_count": 28,
     "metadata": {},
     "output_type": "execute_result"
    }
   ],
   "source": [
    "comparisionDf = pd.DataFrame(data= {\"Values\": Y_testArr, \"Predictions\": predArr})\n",
    "comparisionDf = inverse_transform(comparisionDf)\n",
    "comparisionDf"
   ]
  },
  {
   "cell_type": "code",
   "execution_count": 29,
   "id": "88222bae",
   "metadata": {},
   "outputs": [
    {
     "data": {
      "text/plain": [
       "8.081912386467337"
      ]
     },
     "execution_count": 29,
     "metadata": {},
     "output_type": "execute_result"
    }
   ],
   "source": [
    "mape(comparisionDf[\"Values\"], comparisionDf[\"Predictions\"])"
   ]
  }
 ],
 "metadata": {
  "kernelspec": {
   "display_name": "Python 3 (ipykernel)",
   "language": "python",
   "name": "python3"
  },
  "language_info": {
   "codemirror_mode": {
    "name": "ipython",
    "version": 3
   },
   "file_extension": ".py",
   "mimetype": "text/x-python",
   "name": "python",
   "nbconvert_exporter": "python",
   "pygments_lexer": "ipython3",
   "version": "3.9.12"
  }
 },
 "nbformat": 4,
 "nbformat_minor": 5
}
