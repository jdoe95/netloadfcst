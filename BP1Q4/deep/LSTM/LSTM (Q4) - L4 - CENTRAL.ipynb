{
 "cells": [
  {
   "cell_type": "code",
   "execution_count": 1,
   "id": "5f61b29f",
   "metadata": {},
   "outputs": [
    {
     "name": "stdout",
     "output_type": "stream",
     "text": [
      "Num GPUs Available:  1\n"
     ]
    }
   ],
   "source": [
    "import pandas as pd\n",
    "import numpy as np\n",
    "import os\n",
    "import matplotlib.pyplot as plt\n",
    "from datetime import datetime\n",
    "from sklearn.preprocessing import MinMaxScaler, RobustScaler, StandardScaler\n",
    "import time\n",
    "\n",
    "import tensorflow as tf\n",
    "tf.random.set_seed(42)\n",
    "\n",
    "def mape(y_true, y_pred):\n",
    "    y_true, y_pred = np.array(y_true), np.array(y_pred)\n",
    "    return np.mean(np.abs((y_true - y_pred) / max(y_true))) * 100\n",
    "\n",
    "def RMSELoss(yhat,y):\n",
    "    return torch.sqrt(torch.mean((yhat-y)**2))\n",
    "\n",
    "print(\"Num GPUs Available: \", len(tf.config.list_physical_devices('GPU')))"
   ]
  },
  {
   "cell_type": "code",
   "execution_count": 2,
   "id": "cea0abe2",
   "metadata": {},
   "outputs": [
    {
     "name": "stdout",
     "output_type": "stream",
     "text": [
      "['Capital.csv', 'Central.csv', 'Dunwoody.csv', 'Genese.csv', 'Hudson.csv', 'LongIsland.csv', 'Milwood.csv', 'NYC.csv']\n"
     ]
    }
   ],
   "source": [
    "# Specifying the path of file\n",
    "path= r\"C:\\Users\\sashah8\\OneDrive - North Carolina State University\\Desktop\\Q4\\Data\\L4\\data_cleaned\"\n",
    "\n",
    "# Listing just the required files\n",
    "fileList = os.listdir(path)\n",
    "fileList.remove(\"Date.csv\")\n",
    "\n",
    "# Previewing the required file names\n",
    "print(fileList)"
   ]
  },
  {
   "cell_type": "code",
   "execution_count": 3,
   "id": "a6fe9396",
   "metadata": {},
   "outputs": [
    {
     "data": {
      "text/html": [
       "<div>\n",
       "<style scoped>\n",
       "    .dataframe tbody tr th:only-of-type {\n",
       "        vertical-align: middle;\n",
       "    }\n",
       "\n",
       "    .dataframe tbody tr th {\n",
       "        vertical-align: top;\n",
       "    }\n",
       "\n",
       "    .dataframe thead th {\n",
       "        text-align: right;\n",
       "    }\n",
       "</style>\n",
       "<table border=\"1\" class=\"dataframe\">\n",
       "  <thead>\n",
       "    <tr style=\"text-align: right;\">\n",
       "      <th></th>\n",
       "      <th>Demand</th>\n",
       "      <th>Normalized_net</th>\n",
       "      <th>Temprature</th>\n",
       "    </tr>\n",
       "  </thead>\n",
       "  <tbody>\n",
       "    <tr>\n",
       "      <th>0</th>\n",
       "      <td>1813.7</td>\n",
       "      <td>0.610002</td>\n",
       "      <td>-5.8</td>\n",
       "    </tr>\n",
       "    <tr>\n",
       "      <th>1</th>\n",
       "      <td>1737.4</td>\n",
       "      <td>0.584340</td>\n",
       "      <td>-6.1</td>\n",
       "    </tr>\n",
       "    <tr>\n",
       "      <th>2</th>\n",
       "      <td>1700.7</td>\n",
       "      <td>0.571997</td>\n",
       "      <td>-7.5</td>\n",
       "    </tr>\n",
       "    <tr>\n",
       "      <th>3</th>\n",
       "      <td>1683.3</td>\n",
       "      <td>0.566145</td>\n",
       "      <td>-8.4</td>\n",
       "    </tr>\n",
       "    <tr>\n",
       "      <th>4</th>\n",
       "      <td>1688.4</td>\n",
       "      <td>0.567860</td>\n",
       "      <td>-7.4</td>\n",
       "    </tr>\n",
       "    <tr>\n",
       "      <th>...</th>\n",
       "      <td>...</td>\n",
       "      <td>...</td>\n",
       "      <td>...</td>\n",
       "    </tr>\n",
       "    <tr>\n",
       "      <th>43819</th>\n",
       "      <td>1947.5</td>\n",
       "      <td>0.655003</td>\n",
       "      <td>3.4</td>\n",
       "    </tr>\n",
       "    <tr>\n",
       "      <th>43820</th>\n",
       "      <td>1881.5</td>\n",
       "      <td>0.632805</td>\n",
       "      <td>3.3</td>\n",
       "    </tr>\n",
       "    <tr>\n",
       "      <th>43821</th>\n",
       "      <td>1804.6</td>\n",
       "      <td>0.606941</td>\n",
       "      <td>2.6</td>\n",
       "    </tr>\n",
       "    <tr>\n",
       "      <th>43822</th>\n",
       "      <td>1734.2</td>\n",
       "      <td>0.583264</td>\n",
       "      <td>2.7</td>\n",
       "    </tr>\n",
       "    <tr>\n",
       "      <th>43823</th>\n",
       "      <td>1677.7</td>\n",
       "      <td>0.564261</td>\n",
       "      <td>3.0</td>\n",
       "    </tr>\n",
       "  </tbody>\n",
       "</table>\n",
       "<p>43824 rows × 3 columns</p>\n",
       "</div>"
      ],
      "text/plain": [
       "       Demand  Normalized_net  Temprature\n",
       "0      1813.7        0.610002        -5.8\n",
       "1      1737.4        0.584340        -6.1\n",
       "2      1700.7        0.571997        -7.5\n",
       "3      1683.3        0.566145        -8.4\n",
       "4      1688.4        0.567860        -7.4\n",
       "...       ...             ...         ...\n",
       "43819  1947.5        0.655003         3.4\n",
       "43820  1881.5        0.632805         3.3\n",
       "43821  1804.6        0.606941         2.6\n",
       "43822  1734.2        0.583264         2.7\n",
       "43823  1677.7        0.564261         3.0\n",
       "\n",
       "[43824 rows x 3 columns]"
      ]
     },
     "execution_count": 3,
     "metadata": {},
     "output_type": "execute_result"
    }
   ],
   "source": [
    "# Just for previewing the columns\n",
    "pd.read_csv(os.path.join(path, fileList[1]))"
   ]
  },
  {
   "cell_type": "markdown",
   "id": "9ad4906c",
   "metadata": {
    "pycharm": {
     "name": "#%% md\n"
    }
   },
   "source": [
    "### PROCESSING THE DATA"
   ]
  },
  {
   "cell_type": "code",
   "execution_count": 4,
   "id": "f29f6db2",
   "metadata": {},
   "outputs": [
    {
     "data": {
      "text/html": [
       "<div>\n",
       "<style scoped>\n",
       "    .dataframe tbody tr th:only-of-type {\n",
       "        vertical-align: middle;\n",
       "    }\n",
       "\n",
       "    .dataframe tbody tr th {\n",
       "        vertical-align: top;\n",
       "    }\n",
       "\n",
       "    .dataframe thead th {\n",
       "        text-align: right;\n",
       "    }\n",
       "</style>\n",
       "<table border=\"1\" class=\"dataframe\">\n",
       "  <thead>\n",
       "    <tr style=\"text-align: right;\">\n",
       "      <th></th>\n",
       "      <th>Load_Central</th>\n",
       "      <th>Temp_Central</th>\n",
       "    </tr>\n",
       "  </thead>\n",
       "  <tbody>\n",
       "    <tr>\n",
       "      <th>0</th>\n",
       "      <td>1813.7</td>\n",
       "      <td>-5.8</td>\n",
       "    </tr>\n",
       "    <tr>\n",
       "      <th>1</th>\n",
       "      <td>1737.4</td>\n",
       "      <td>-6.1</td>\n",
       "    </tr>\n",
       "    <tr>\n",
       "      <th>2</th>\n",
       "      <td>1700.7</td>\n",
       "      <td>-7.5</td>\n",
       "    </tr>\n",
       "    <tr>\n",
       "      <th>3</th>\n",
       "      <td>1683.3</td>\n",
       "      <td>-8.4</td>\n",
       "    </tr>\n",
       "    <tr>\n",
       "      <th>4</th>\n",
       "      <td>1688.4</td>\n",
       "      <td>-7.4</td>\n",
       "    </tr>\n",
       "    <tr>\n",
       "      <th>...</th>\n",
       "      <td>...</td>\n",
       "      <td>...</td>\n",
       "    </tr>\n",
       "    <tr>\n",
       "      <th>43819</th>\n",
       "      <td>1947.5</td>\n",
       "      <td>3.4</td>\n",
       "    </tr>\n",
       "    <tr>\n",
       "      <th>43820</th>\n",
       "      <td>1881.5</td>\n",
       "      <td>3.3</td>\n",
       "    </tr>\n",
       "    <tr>\n",
       "      <th>43821</th>\n",
       "      <td>1804.6</td>\n",
       "      <td>2.6</td>\n",
       "    </tr>\n",
       "    <tr>\n",
       "      <th>43822</th>\n",
       "      <td>1734.2</td>\n",
       "      <td>2.7</td>\n",
       "    </tr>\n",
       "    <tr>\n",
       "      <th>43823</th>\n",
       "      <td>1677.7</td>\n",
       "      <td>3.0</td>\n",
       "    </tr>\n",
       "  </tbody>\n",
       "</table>\n",
       "<p>43824 rows × 2 columns</p>\n",
       "</div>"
      ],
      "text/plain": [
       "       Load_Central  Temp_Central\n",
       "0            1813.7          -5.8\n",
       "1            1737.4          -6.1\n",
       "2            1700.7          -7.5\n",
       "3            1683.3          -8.4\n",
       "4            1688.4          -7.4\n",
       "...             ...           ...\n",
       "43819        1947.5           3.4\n",
       "43820        1881.5           3.3\n",
       "43821        1804.6           2.6\n",
       "43822        1734.2           2.7\n",
       "43823        1677.7           3.0\n",
       "\n",
       "[43824 rows x 2 columns]"
      ]
     },
     "execution_count": 4,
     "metadata": {},
     "output_type": "execute_result"
    }
   ],
   "source": [
    "# Restricting the load data to a single zone\n",
    "fileName  = fileList[1]\n",
    "\n",
    "zoneData = pd.read_csv(os.path.join(path, fileName), usecols= [\"Demand\", \"Temprature\"])\n",
    "zoneData.columns = [\"Load_\"+str(fileName[:-4]), \"Temp_\"+str(fileName[:-4])]\n",
    "\n",
    "# For fixing one missing row\n",
    "# zoneData = pd.concat([zoneData.loc[[0]], zoneData], axis= 0).reset_index(drop= True)\n",
    "\n",
    "zoneData"
   ]
  },
  {
   "cell_type": "markdown",
   "id": "01cec4bd",
   "metadata": {},
   "source": [
    "### FEATURE ENGINEERING AND SPLITTING INTO TRAIN-TEST SPLIT"
   ]
  },
  {
   "cell_type": "code",
   "execution_count": 5,
   "id": "a1e1e8a3",
   "metadata": {},
   "outputs": [],
   "source": [
    "def lagGenerator(dF, lagList):\n",
    "    dF_temp = dF.filter(regex= \"Load\").copy()\n",
    "    \n",
    "    for i in lagList:\n",
    "        dF_temp.loc[:, \"Lag-\" + str(i)] = dF_temp.iloc[:,[0]].shift(i*24)\n",
    "    \n",
    "    return(dF_temp.filter(regex= \"Lag\"))"
   ]
  },
  {
   "cell_type": "code",
   "execution_count": 6,
   "id": "159a2a82",
   "metadata": {},
   "outputs": [
    {
     "data": {
      "text/html": [
       "<div>\n",
       "<style scoped>\n",
       "    .dataframe tbody tr th:only-of-type {\n",
       "        vertical-align: middle;\n",
       "    }\n",
       "\n",
       "    .dataframe tbody tr th {\n",
       "        vertical-align: top;\n",
       "    }\n",
       "\n",
       "    .dataframe thead th {\n",
       "        text-align: right;\n",
       "    }\n",
       "</style>\n",
       "<table border=\"1\" class=\"dataframe\">\n",
       "  <thead>\n",
       "    <tr style=\"text-align: right;\">\n",
       "      <th></th>\n",
       "      <th>Lag-2</th>\n",
       "      <th>Lag-7</th>\n",
       "    </tr>\n",
       "  </thead>\n",
       "  <tbody>\n",
       "    <tr>\n",
       "      <th>0</th>\n",
       "      <td>NaN</td>\n",
       "      <td>NaN</td>\n",
       "    </tr>\n",
       "    <tr>\n",
       "      <th>1</th>\n",
       "      <td>NaN</td>\n",
       "      <td>NaN</td>\n",
       "    </tr>\n",
       "  </tbody>\n",
       "</table>\n",
       "</div>"
      ],
      "text/plain": [
       "   Lag-2  Lag-7\n",
       "0    NaN    NaN\n",
       "1    NaN    NaN"
      ]
     },
     "execution_count": 6,
     "metadata": {},
     "output_type": "execute_result"
    }
   ],
   "source": [
    "Load_lags = lagGenerator(dF=zoneData, lagList=[2,7])\n",
    "Load_lags.head(2)"
   ]
  },
  {
   "cell_type": "code",
   "execution_count": 7,
   "id": "05896954",
   "metadata": {},
   "outputs": [
    {
     "data": {
      "text/html": [
       "<div>\n",
       "<style scoped>\n",
       "    .dataframe tbody tr th:only-of-type {\n",
       "        vertical-align: middle;\n",
       "    }\n",
       "\n",
       "    .dataframe tbody tr th {\n",
       "        vertical-align: top;\n",
       "    }\n",
       "\n",
       "    .dataframe thead th {\n",
       "        text-align: right;\n",
       "    }\n",
       "</style>\n",
       "<table border=\"1\" class=\"dataframe\">\n",
       "  <thead>\n",
       "    <tr style=\"text-align: right;\">\n",
       "      <th></th>\n",
       "      <th>Load_Central</th>\n",
       "      <th>Temp_Central</th>\n",
       "      <th>Lag-2</th>\n",
       "      <th>Lag-7</th>\n",
       "    </tr>\n",
       "  </thead>\n",
       "  <tbody>\n",
       "    <tr>\n",
       "      <th>0</th>\n",
       "      <td>2113.2</td>\n",
       "      <td>-13.9</td>\n",
       "      <td>1935.8</td>\n",
       "      <td>1813.7</td>\n",
       "    </tr>\n",
       "    <tr>\n",
       "      <th>1</th>\n",
       "      <td>2062.7</td>\n",
       "      <td>-14.2</td>\n",
       "      <td>1897.8</td>\n",
       "      <td>1737.4</td>\n",
       "    </tr>\n",
       "    <tr>\n",
       "      <th>2</th>\n",
       "      <td>2041.6</td>\n",
       "      <td>-14.8</td>\n",
       "      <td>1869.6</td>\n",
       "      <td>1700.7</td>\n",
       "    </tr>\n",
       "    <tr>\n",
       "      <th>3</th>\n",
       "      <td>2040.6</td>\n",
       "      <td>-15.6</td>\n",
       "      <td>1868.5</td>\n",
       "      <td>1683.3</td>\n",
       "    </tr>\n",
       "    <tr>\n",
       "      <th>4</th>\n",
       "      <td>2097.5</td>\n",
       "      <td>-16.0</td>\n",
       "      <td>1913.6</td>\n",
       "      <td>1688.4</td>\n",
       "    </tr>\n",
       "    <tr>\n",
       "      <th>...</th>\n",
       "      <td>...</td>\n",
       "      <td>...</td>\n",
       "      <td>...</td>\n",
       "      <td>...</td>\n",
       "    </tr>\n",
       "    <tr>\n",
       "      <th>43651</th>\n",
       "      <td>1947.5</td>\n",
       "      <td>3.4</td>\n",
       "      <td>1979.2</td>\n",
       "      <td>1846.2</td>\n",
       "    </tr>\n",
       "    <tr>\n",
       "      <th>43652</th>\n",
       "      <td>1881.5</td>\n",
       "      <td>3.3</td>\n",
       "      <td>1920.9</td>\n",
       "      <td>1826.5</td>\n",
       "    </tr>\n",
       "    <tr>\n",
       "      <th>43653</th>\n",
       "      <td>1804.6</td>\n",
       "      <td>2.6</td>\n",
       "      <td>1821.3</td>\n",
       "      <td>1805.3</td>\n",
       "    </tr>\n",
       "    <tr>\n",
       "      <th>43654</th>\n",
       "      <td>1734.2</td>\n",
       "      <td>2.7</td>\n",
       "      <td>1723.8</td>\n",
       "      <td>1738.8</td>\n",
       "    </tr>\n",
       "    <tr>\n",
       "      <th>43655</th>\n",
       "      <td>1677.7</td>\n",
       "      <td>3.0</td>\n",
       "      <td>1640.1</td>\n",
       "      <td>1662.0</td>\n",
       "    </tr>\n",
       "  </tbody>\n",
       "</table>\n",
       "<p>43656 rows × 4 columns</p>\n",
       "</div>"
      ],
      "text/plain": [
       "       Load_Central  Temp_Central   Lag-2   Lag-7\n",
       "0            2113.2         -13.9  1935.8  1813.7\n",
       "1            2062.7         -14.2  1897.8  1737.4\n",
       "2            2041.6         -14.8  1869.6  1700.7\n",
       "3            2040.6         -15.6  1868.5  1683.3\n",
       "4            2097.5         -16.0  1913.6  1688.4\n",
       "...             ...           ...     ...     ...\n",
       "43651        1947.5           3.4  1979.2  1846.2\n",
       "43652        1881.5           3.3  1920.9  1826.5\n",
       "43653        1804.6           2.6  1821.3  1805.3\n",
       "43654        1734.2           2.7  1723.8  1738.8\n",
       "43655        1677.7           3.0  1640.1  1662.0\n",
       "\n",
       "[43656 rows x 4 columns]"
      ]
     },
     "execution_count": 7,
     "metadata": {},
     "output_type": "execute_result"
    }
   ],
   "source": [
    "dataDf = pd.concat([zoneData, Load_lags], axis= 1).dropna(axis= 0).reset_index(drop= True)\n",
    "dataDf"
   ]
  },
  {
   "cell_type": "code",
   "execution_count": 8,
   "id": "6ad25321",
   "metadata": {},
   "outputs": [],
   "source": [
    "# Setting the train-test split ratio\n",
    "ratio = 0.1"
   ]
  },
  {
   "cell_type": "code",
   "execution_count": 9,
   "id": "3c08d963",
   "metadata": {},
   "outputs": [],
   "source": [
    "Num_train, Num_test = int(len(dataDf)/24 * (1 - ratio)) * 24, int(len(dataDf)/24 * ratio) * 24"
   ]
  },
  {
   "cell_type": "code",
   "execution_count": 10,
   "id": "cbe069ff",
   "metadata": {},
   "outputs": [],
   "source": [
    "# Splitting the data into train and test\n",
    "data_train, data_test = dataDf[:Num_train], dataDf[Num_train:]"
   ]
  },
  {
   "cell_type": "code",
   "execution_count": 11,
   "id": "d84e15c4",
   "metadata": {},
   "outputs": [],
   "source": [
    "Num_train, Num_valid = int(len(data_train)/24 * (1 - ratio)) * 24, int(len(data_train)/24 * ratio) * 24"
   ]
  },
  {
   "cell_type": "code",
   "execution_count": 12,
   "id": "c17d1723",
   "metadata": {},
   "outputs": [],
   "source": [
    "# Splitting the data into train and test\n",
    "data_train, data_valid = data_train[:Num_train], data_train[Num_train:]"
   ]
  },
  {
   "cell_type": "markdown",
   "id": "88d32011",
   "metadata": {},
   "source": [
    "### SPLITTING INTO X AND Y PART WITH SEQUENCE BATCHING"
   ]
  },
  {
   "cell_type": "code",
   "execution_count": 13,
   "id": "4ba286ca",
   "metadata": {},
   "outputs": [],
   "source": [
    "X_train_df, Y_train_df = data_train.iloc[:, 1:], data_train.iloc[:, :1]\n",
    "\n",
    "X_valid_df, Y_valid_df = data_valid.iloc[:, 1:], data_valid.iloc[:, :1]\n",
    "\n",
    "X_test_df, Y_test_df = data_test.iloc[:, 1:], data_test.iloc[:, :1]"
   ]
  },
  {
   "cell_type": "code",
   "execution_count": 14,
   "id": "ef1d9079",
   "metadata": {},
   "outputs": [],
   "source": [
    "# Preparing the scaler\n",
    "ValScaler = MinMaxScaler()\n",
    "\n",
    "X_train = ValScaler.fit_transform(X_train_df)\n",
    "X_valid = ValScaler.transform(X_valid_df)\n",
    "X_test = ValScaler.transform(X_test_df)\n",
    "\n",
    "Y_train = ValScaler.fit_transform(Y_train_df)\n",
    "Y_valid = ValScaler.transform(Y_valid_df)\n",
    "Y_test = ValScaler.transform(Y_test_df)"
   ]
  },
  {
   "cell_type": "code",
   "execution_count": 15,
   "id": "43594401",
   "metadata": {},
   "outputs": [],
   "source": [
    "def splitData(dataset):\n",
    "    data = np.array(np.split(dataset, len(dataset)/24))\n",
    "    return data"
   ]
  },
  {
   "cell_type": "code",
   "execution_count": 16,
   "id": "300696b2",
   "metadata": {},
   "outputs": [],
   "source": [
    "def supervisedSet(X_part, Y_part, steps= 24):\n",
    "    X_array, Y_array = np.array(X_part), np.array(Y_part)\n",
    "    X, Y = [], []\n",
    "    \n",
    "    for i in range(len(X_array)):\n",
    "        endIdx = i + steps\n",
    "        \n",
    "        if endIdx > len(X_array):\n",
    "            break\n",
    "        \n",
    "        batch_X, batch_Y = X_array[i:endIdx], Y_array[i:endIdx]\n",
    "        \n",
    "        X.append(batch_X)\n",
    "        Y.append(batch_Y)\n",
    "        \n",
    "    return np.array(X), np.array(Y)"
   ]
  },
  {
   "cell_type": "code",
   "execution_count": 17,
   "id": "fc9cd97d",
   "metadata": {},
   "outputs": [],
   "source": [
    "X_train, Y_train = supervisedSet(X_train, Y_train)\n",
    "\n",
    "X_valid, Y_valid = splitData(X_valid), splitData(Y_valid)\n",
    "\n",
    "X_test, Y_test = splitData(X_test), splitData(Y_test)"
   ]
  },
  {
   "cell_type": "markdown",
   "id": "a2a6bf32",
   "metadata": {},
   "source": [
    "### WORKING ON THE MODEL"
   ]
  },
  {
   "cell_type": "code",
   "execution_count": 18,
   "id": "ff71a98c",
   "metadata": {},
   "outputs": [],
   "source": [
    "epochs = 100\n",
    "batchSize = 32"
   ]
  },
  {
   "cell_type": "code",
   "execution_count": 19,
   "id": "8d600c17",
   "metadata": {},
   "outputs": [],
   "source": [
    "# Encoder-decoder architecture [tanh required to use tensorflow on gpu]\n",
    "model = tf.keras.Sequential([\n",
    "    tf.keras.layers.LSTM(units= 128, activation= \"tanh\", input_shape= (X_train.shape[1], X_train.shape[2]), dropout= 0.2),\n",
    "    tf.keras.layers.RepeatVector(Y_train.shape[1]),\n",
    "    tf.keras.layers.LSTM(units= 128, activation= \"tanh\", return_sequences= True, dropout= 0.2),\n",
    "    tf.keras.layers.TimeDistributed(tf.keras.layers.Dense(units= 128, activation= \"relu\")),\n",
    "    tf.keras.layers.Dropout(0.2),\n",
    "    tf.keras.layers.TimeDistributed(tf.keras.layers.Dense(units= 1))\n",
    "])\n",
    "\n",
    "model.compile(loss= \"mse\", optimizer= \"adam\",  metrics= ['mape', 'mae'])"
   ]
  },
  {
   "cell_type": "code",
   "execution_count": 20,
   "id": "a05c033a",
   "metadata": {},
   "outputs": [],
   "source": [
    "# model = tf.keras.Sequential([\n",
    "#     tf.keras.layers.LSTM(units= 256, activation= \"tanh\", input_shape= (X_train.shape[1], X_train.shape[2])),\n",
    "#     tf.keras.layers.Dense(units= 128, activation= \"tanh\"),\n",
    "#     tf.keras.layers.Dense(units= 1)\n",
    "# ])\n",
    "\n",
    "# model.compile(loss= \"mse\", optimizer= \"adam\",  metrics= ['mape', 'mae'])"
   ]
  },
  {
   "cell_type": "code",
   "execution_count": 21,
   "id": "c9390383",
   "metadata": {},
   "outputs": [],
   "source": [
    "# Storing the start time of model fitting process\n",
    "startTime = time.time()"
   ]
  },
  {
   "cell_type": "code",
   "execution_count": 22,
   "id": "e526e3ed",
   "metadata": {},
   "outputs": [
    {
     "name": "stdout",
     "output_type": "stream",
     "text": [
      "Epoch 1/100\n",
      "1105/1105 [==============================] - 17s 11ms/step - loss: 0.0144 - mape: 6399.5620 - mae: 0.0949 - val_loss: 0.0098 - val_mape: 114.4603 - val_mae: 0.0814\n",
      "Epoch 2/100\n",
      "1105/1105 [==============================] - 12s 11ms/step - loss: 0.0096 - mape: 6344.8936 - mae: 0.0769 - val_loss: 0.0090 - val_mape: 108.9015 - val_mae: 0.0760\n",
      "Epoch 3/100\n",
      "1105/1105 [==============================] - 12s 11ms/step - loss: 0.0071 - mape: 7132.0688 - mae: 0.0657 - val_loss: 0.0089 - val_mape: 81.6624 - val_mae: 0.0727\n",
      "Epoch 4/100\n",
      "1105/1105 [==============================] - 12s 11ms/step - loss: 0.0061 - mape: 6761.8096 - mae: 0.0602 - val_loss: 0.0081 - val_mape: 92.7753 - val_mae: 0.0709\n",
      "Epoch 5/100\n",
      "1105/1105 [==============================] - 12s 11ms/step - loss: 0.0055 - mape: 5182.4160 - mae: 0.0570 - val_loss: 0.0075 - val_mape: 47.4575 - val_mae: 0.0654\n",
      "Epoch 6/100\n",
      "1105/1105 [==============================] - 12s 11ms/step - loss: 0.0051 - mape: 4959.3574 - mae: 0.0546 - val_loss: 0.0063 - val_mape: 53.7186 - val_mae: 0.0595\n",
      "Epoch 7/100\n",
      "1105/1105 [==============================] - 12s 11ms/step - loss: 0.0048 - mape: 4724.3159 - mae: 0.0532 - val_loss: 0.0070 - val_mape: 63.6628 - val_mae: 0.0639\n",
      "Epoch 8/100\n",
      "1105/1105 [==============================] - 12s 11ms/step - loss: 0.0047 - mape: 4155.1558 - mae: 0.0523 - val_loss: 0.0074 - val_mape: 96.3222 - val_mae: 0.0661\n",
      "Epoch 9/100\n",
      "1105/1105 [==============================] - 12s 11ms/step - loss: 0.0047 - mape: 4963.0669 - mae: 0.0523 - val_loss: 0.0071 - val_mape: 81.5411 - val_mae: 0.0641\n",
      "Epoch 10/100\n",
      "1105/1105 [==============================] - 12s 11ms/step - loss: 0.0044 - mape: 4531.4590 - mae: 0.0506 - val_loss: 0.0060 - val_mape: 74.9510 - val_mae: 0.0582\n",
      "Epoch 11/100\n",
      "1105/1105 [==============================] - 12s 11ms/step - loss: 0.0044 - mape: 4547.6821 - mae: 0.0507 - val_loss: 0.0062 - val_mape: 63.7334 - val_mae: 0.0599\n",
      "Epoch 12/100\n",
      "1105/1105 [==============================] - 12s 11ms/step - loss: 0.0042 - mape: 4374.9380 - mae: 0.0496 - val_loss: 0.0063 - val_mape: 77.5849 - val_mae: 0.0595\n",
      "Epoch 13/100\n",
      "1105/1105 [==============================] - 12s 11ms/step - loss: 0.0042 - mape: 4599.1953 - mae: 0.0494 - val_loss: 0.0069 - val_mape: 85.4843 - val_mae: 0.0636\n",
      "Epoch 14/100\n",
      "1105/1105 [==============================] - 12s 11ms/step - loss: 0.0041 - mape: 4297.9653 - mae: 0.0489 - val_loss: 0.0080 - val_mape: 59.4951 - val_mae: 0.0683\n",
      "Epoch 15/100\n",
      "1105/1105 [==============================] - 12s 11ms/step - loss: 0.0041 - mape: 4368.7256 - mae: 0.0486 - val_loss: 0.0079 - val_mape: 102.7726 - val_mae: 0.0685\n",
      "Epoch 16/100\n",
      "1105/1105 [==============================] - 12s 11ms/step - loss: 0.0040 - mape: 4535.3086 - mae: 0.0480 - val_loss: 0.0067 - val_mape: 80.7221 - val_mae: 0.0628\n",
      "Epoch 17/100\n",
      "1105/1105 [==============================] - 12s 11ms/step - loss: 0.0039 - mape: 4179.7920 - mae: 0.0474 - val_loss: 0.0072 - val_mape: 87.2686 - val_mae: 0.0642\n",
      "Epoch 18/100\n",
      "1105/1105 [==============================] - 13s 11ms/step - loss: 0.0039 - mape: 4128.6641 - mae: 0.0474 - val_loss: 0.0077 - val_mape: 90.7952 - val_mae: 0.0659\n",
      "Epoch 19/100\n",
      "1105/1105 [==============================] - 13s 11ms/step - loss: 0.0038 - mape: 4104.8843 - mae: 0.0468 - val_loss: 0.0071 - val_mape: 72.1960 - val_mae: 0.0626\n",
      "Epoch 20/100\n",
      "1105/1105 [==============================] - 13s 12ms/step - loss: 0.0037 - mape: 3439.7969 - mae: 0.0465 - val_loss: 0.0069 - val_mape: 82.1440 - val_mae: 0.0620\n",
      "Epoch 21/100\n",
      "1105/1105 [==============================] - 13s 11ms/step - loss: 0.0037 - mape: 3990.0852 - mae: 0.0465 - val_loss: 0.0065 - val_mape: 65.0257 - val_mae: 0.0606\n",
      "Epoch 22/100\n",
      "1105/1105 [==============================] - 12s 11ms/step - loss: 0.0037 - mape: 3631.0779 - mae: 0.0458 - val_loss: 0.0073 - val_mape: 88.6795 - val_mae: 0.0645\n",
      "Epoch 23/100\n",
      "1105/1105 [==============================] - 13s 12ms/step - loss: 0.0036 - mape: 3912.5063 - mae: 0.0454 - val_loss: 0.0065 - val_mape: 57.6668 - val_mae: 0.0592\n",
      "Epoch 24/100\n",
      "1105/1105 [==============================] - 13s 12ms/step - loss: 0.0035 - mape: 3212.1521 - mae: 0.0451 - val_loss: 0.0077 - val_mape: 101.6233 - val_mae: 0.0670\n",
      "Epoch 25/100\n",
      "1105/1105 [==============================] - 13s 12ms/step - loss: 0.0035 - mape: 2974.0352 - mae: 0.0447 - val_loss: 0.0068 - val_mape: 86.3820 - val_mae: 0.0611\n",
      "Epoch 26/100\n",
      "1105/1105 [==============================] - 13s 11ms/step - loss: 0.0035 - mape: 3263.4773 - mae: 0.0446 - val_loss: 0.0069 - val_mape: 81.9218 - val_mae: 0.0613\n",
      "Epoch 27/100\n",
      "1105/1105 [==============================] - 13s 11ms/step - loss: 0.0034 - mape: 3276.9329 - mae: 0.0442 - val_loss: 0.0076 - val_mape: 83.0141 - val_mae: 0.0648\n",
      "Epoch 28/100\n",
      "1105/1105 [==============================] - 13s 11ms/step - loss: 0.0033 - mape: 3266.7935 - mae: 0.0438 - val_loss: 0.0071 - val_mape: 81.4100 - val_mae: 0.0626\n",
      "Epoch 29/100\n",
      "1105/1105 [==============================] - 13s 12ms/step - loss: 0.0033 - mape: 2202.2073 - mae: 0.0436 - val_loss: 0.0072 - val_mape: 95.7194 - val_mae: 0.0625\n",
      "Epoch 30/100\n",
      "1105/1105 [==============================] - 13s 12ms/step - loss: 0.0032 - mape: 2821.2036 - mae: 0.0432 - val_loss: 0.0075 - val_mape: 86.6993 - val_mae: 0.0644\n",
      "Epoch 31/100\n",
      "1105/1105 [==============================] - 13s 11ms/step - loss: 0.0032 - mape: 2655.1675 - mae: 0.0429 - val_loss: 0.0078 - val_mape: 89.2276 - val_mae: 0.0654\n",
      "Epoch 32/100\n",
      "1105/1105 [==============================] - 12s 11ms/step - loss: 0.0032 - mape: 2552.4326 - mae: 0.0427 - val_loss: 0.0073 - val_mape: 86.5617 - val_mae: 0.0637\n",
      "Epoch 33/100\n",
      "1105/1105 [==============================] - 12s 11ms/step - loss: 0.0032 - mape: 2637.9878 - mae: 0.0427 - val_loss: 0.0077 - val_mape: 99.4735 - val_mae: 0.0649\n",
      "Epoch 34/100\n",
      "1105/1105 [==============================] - 13s 12ms/step - loss: 0.0031 - mape: 2369.6509 - mae: 0.0420 - val_loss: 0.0081 - val_mape: 102.0876 - val_mae: 0.0661\n",
      "Epoch 35/100\n",
      "1105/1105 [==============================] - 13s 12ms/step - loss: 0.0030 - mape: 2571.5867 - mae: 0.0415 - val_loss: 0.0072 - val_mape: 85.1709 - val_mae: 0.0620\n",
      "Epoch 36/100\n",
      "1105/1105 [==============================] - 13s 11ms/step - loss: 0.0030 - mape: 2070.7307 - mae: 0.0412 - val_loss: 0.0078 - val_mape: 102.2759 - val_mae: 0.0660\n",
      "Epoch 37/100\n",
      "1105/1105 [==============================] - 13s 11ms/step - loss: 0.0029 - mape: 1969.5934 - mae: 0.0410 - val_loss: 0.0070 - val_mape: 88.4938 - val_mae: 0.0609\n",
      "Epoch 38/100\n",
      "1105/1105 [==============================] - 13s 11ms/step - loss: 0.0029 - mape: 2129.1924 - mae: 0.0407 - val_loss: 0.0073 - val_mape: 82.3906 - val_mae: 0.0617\n",
      "Epoch 39/100\n",
      "1105/1105 [==============================] - 13s 11ms/step - loss: 0.0028 - mape: 2226.1453 - mae: 0.0403 - val_loss: 0.0073 - val_mape: 94.8005 - val_mae: 0.0631\n",
      "Epoch 40/100\n",
      "1105/1105 [==============================] - 12s 11ms/step - loss: 0.0028 - mape: 2161.2627 - mae: 0.0400 - val_loss: 0.0080 - val_mape: 107.7329 - val_mae: 0.0639\n",
      "Epoch 41/100\n",
      "1105/1105 [==============================] - 13s 11ms/step - loss: 0.0027 - mape: 2233.8511 - mae: 0.0395 - val_loss: 0.0088 - val_mape: 117.8014 - val_mae: 0.0684\n",
      "Epoch 42/100\n",
      "1105/1105 [==============================] - 12s 11ms/step - loss: 0.0026 - mape: 2270.4497 - mae: 0.0391 - val_loss: 0.0080 - val_mape: 113.2627 - val_mae: 0.0637\n",
      "Epoch 43/100\n",
      "1105/1105 [==============================] - 13s 11ms/step - loss: 0.0026 - mape: 2283.3633 - mae: 0.0388 - val_loss: 0.0075 - val_mape: 99.2946 - val_mae: 0.0619\n",
      "Epoch 44/100\n",
      "1105/1105 [==============================] - 12s 11ms/step - loss: 0.0026 - mape: 1934.7316 - mae: 0.0387 - val_loss: 0.0078 - val_mape: 100.1951 - val_mae: 0.0648\n",
      "Epoch 45/100\n",
      "1105/1105 [==============================] - 12s 11ms/step - loss: 0.0025 - mape: 1705.4248 - mae: 0.0382 - val_loss: 0.0082 - val_mape: 112.0251 - val_mae: 0.0681\n",
      "Epoch 46/100\n",
      "1105/1105 [==============================] - 13s 11ms/step - loss: 0.0025 - mape: 2274.8745 - mae: 0.0383 - val_loss: 0.0082 - val_mape: 92.2469 - val_mae: 0.0660\n",
      "Epoch 47/100\n"
     ]
    },
    {
     "name": "stdout",
     "output_type": "stream",
     "text": [
      "1105/1105 [==============================] - 12s 11ms/step - loss: 0.0024 - mape: 2053.4500 - mae: 0.0373 - val_loss: 0.0075 - val_mape: 89.9974 - val_mae: 0.0634\n",
      "Epoch 48/100\n",
      "1105/1105 [==============================] - 12s 11ms/step - loss: 0.0024 - mape: 1709.6918 - mae: 0.0372 - val_loss: 0.0084 - val_mape: 114.5407 - val_mae: 0.0644\n",
      "Epoch 49/100\n",
      "1105/1105 [==============================] - 12s 11ms/step - loss: 0.0023 - mape: 2000.0237 - mae: 0.0368 - val_loss: 0.0081 - val_mape: 102.8075 - val_mae: 0.0655\n",
      "Epoch 50/100\n",
      "1105/1105 [==============================] - 13s 11ms/step - loss: 0.0023 - mape: 1593.0070 - mae: 0.0364 - val_loss: 0.0081 - val_mape: 108.9515 - val_mae: 0.0652\n",
      "Epoch 51/100\n",
      "1105/1105 [==============================] - 12s 11ms/step - loss: 0.0023 - mape: 2104.6738 - mae: 0.0363 - val_loss: 0.0087 - val_mape: 114.4304 - val_mae: 0.0670\n",
      "Epoch 52/100\n",
      "1105/1105 [==============================] - 13s 11ms/step - loss: 0.0022 - mape: 1480.8213 - mae: 0.0360 - val_loss: 0.0091 - val_mape: 128.8857 - val_mae: 0.0676\n",
      "Epoch 53/100\n",
      "1105/1105 [==============================] - 13s 11ms/step - loss: 0.0022 - mape: 1797.2970 - mae: 0.0356 - val_loss: 0.0084 - val_mape: 123.0826 - val_mae: 0.0639\n",
      "Epoch 54/100\n",
      "1105/1105 [==============================] - 12s 11ms/step - loss: 0.0022 - mape: 1634.2446 - mae: 0.0354 - val_loss: 0.0087 - val_mape: 119.5606 - val_mae: 0.0658\n",
      "Epoch 55/100\n",
      "1105/1105 [==============================] - 12s 11ms/step - loss: 0.0021 - mape: 1965.1431 - mae: 0.0348 - val_loss: 0.0083 - val_mape: 118.1719 - val_mae: 0.0635\n",
      "Epoch 56/100\n",
      "1105/1105 [==============================] - 12s 11ms/step - loss: 0.0020 - mape: 1828.6464 - mae: 0.0345 - val_loss: 0.0095 - val_mape: 112.7115 - val_mae: 0.0689\n",
      "Epoch 57/100\n",
      "1105/1105 [==============================] - 12s 11ms/step - loss: 0.0020 - mape: 1693.1298 - mae: 0.0344 - val_loss: 0.0089 - val_mape: 118.3747 - val_mae: 0.0654\n",
      "Epoch 58/100\n",
      "1105/1105 [==============================] - 12s 11ms/step - loss: 0.0020 - mape: 1789.6963 - mae: 0.0342 - val_loss: 0.0086 - val_mape: 118.6373 - val_mae: 0.0653\n",
      "Epoch 59/100\n",
      "1105/1105 [==============================] - 12s 11ms/step - loss: 0.0020 - mape: 1302.9115 - mae: 0.0337 - val_loss: 0.0091 - val_mape: 110.7967 - val_mae: 0.0677\n",
      "Epoch 60/100\n",
      "1105/1105 [==============================] - 12s 11ms/step - loss: 0.0019 - mape: 1636.8827 - mae: 0.0333 - val_loss: 0.0101 - val_mape: 133.5087 - val_mae: 0.0716\n",
      "Epoch 61/100\n",
      "1105/1105 [==============================] - 12s 11ms/step - loss: 0.0019 - mape: 1609.6293 - mae: 0.0333 - val_loss: 0.0090 - val_mape: 114.3341 - val_mae: 0.0679\n",
      "Epoch 62/100\n",
      "1105/1105 [==============================] - 12s 11ms/step - loss: 0.0018 - mape: 1662.2738 - mae: 0.0327 - val_loss: 0.0087 - val_mape: 111.9432 - val_mae: 0.0660\n",
      "Epoch 63/100\n",
      "1105/1105 [==============================] - 12s 11ms/step - loss: 0.0018 - mape: 1495.7457 - mae: 0.0325 - val_loss: 0.0093 - val_mape: 128.0923 - val_mae: 0.0678\n",
      "Epoch 64/100\n",
      "1105/1105 [==============================] - 12s 11ms/step - loss: 0.0018 - mape: 1683.6837 - mae: 0.0323 - val_loss: 0.0093 - val_mape: 129.8993 - val_mae: 0.0686\n",
      "Epoch 65/100\n",
      "1105/1105 [==============================] - 12s 11ms/step - loss: 0.0018 - mape: 1841.6116 - mae: 0.0321 - val_loss: 0.0095 - val_mape: 127.4227 - val_mae: 0.0701\n",
      "Epoch 66/100\n",
      "1105/1105 [==============================] - 12s 11ms/step - loss: 0.0017 - mape: 1487.5887 - mae: 0.0318 - val_loss: 0.0104 - val_mape: 127.8046 - val_mae: 0.0730\n",
      "Epoch 67/100\n",
      "1105/1105 [==============================] - 13s 11ms/step - loss: 0.0017 - mape: 1182.0286 - mae: 0.0315 - val_loss: 0.0097 - val_mape: 132.1918 - val_mae: 0.0692\n",
      "Epoch 68/100\n",
      "1105/1105 [==============================] - 13s 11ms/step - loss: 0.0017 - mape: 1318.5555 - mae: 0.0313 - val_loss: 0.0102 - val_mape: 119.0326 - val_mae: 0.0722\n",
      "Epoch 69/100\n",
      "1105/1105 [==============================] - 13s 11ms/step - loss: 0.0017 - mape: 1451.9192 - mae: 0.0313 - val_loss: 0.0101 - val_mape: 134.2021 - val_mae: 0.0711\n",
      "Epoch 70/100\n",
      "1105/1105 [==============================] - 12s 11ms/step - loss: 0.0016 - mape: 1215.9775 - mae: 0.0306 - val_loss: 0.0098 - val_mape: 126.0419 - val_mae: 0.0708\n",
      "Epoch 71/100\n",
      "1105/1105 [==============================] - 12s 11ms/step - loss: 0.0016 - mape: 1458.3457 - mae: 0.0306 - val_loss: 0.0095 - val_mape: 129.1896 - val_mae: 0.0689\n",
      "Epoch 72/100\n",
      "1105/1105 [==============================] - 13s 11ms/step - loss: 0.0016 - mape: 1554.1150 - mae: 0.0305 - val_loss: 0.0094 - val_mape: 107.6929 - val_mae: 0.0692\n",
      "Epoch 73/100\n",
      "1105/1105 [==============================] - 13s 12ms/step - loss: 0.0015 - mape: 1349.6069 - mae: 0.0300 - val_loss: 0.0099 - val_mape: 131.0462 - val_mae: 0.0703\n",
      "Epoch 74/100\n",
      "1105/1105 [==============================] - 13s 12ms/step - loss: 0.0015 - mape: 1652.3949 - mae: 0.0300 - val_loss: 0.0120 - val_mape: 123.0081 - val_mae: 0.0791\n",
      "Epoch 75/100\n",
      "1105/1105 [==============================] - 13s 11ms/step - loss: 0.0015 - mape: 1286.9989 - mae: 0.0295 - val_loss: 0.0101 - val_mape: 125.3269 - val_mae: 0.0710\n",
      "Epoch 76/100\n",
      "1105/1105 [==============================] - 13s 11ms/step - loss: 0.0015 - mape: 972.1197 - mae: 0.0295 - val_loss: 0.0106 - val_mape: 128.2548 - val_mae: 0.0746\n",
      "Epoch 77/100\n",
      "1105/1105 [==============================] - 13s 11ms/step - loss: 0.0015 - mape: 1300.5425 - mae: 0.0292 - val_loss: 0.0095 - val_mape: 115.4328 - val_mae: 0.0696\n",
      "Epoch 78/100\n",
      "1105/1105 [==============================] - 13s 11ms/step - loss: 0.0015 - mape: 1505.2604 - mae: 0.0293 - val_loss: 0.0095 - val_mape: 112.2583 - val_mae: 0.0690\n",
      "Epoch 79/100\n",
      "1105/1105 [==============================] - 12s 11ms/step - loss: 0.0014 - mape: 1564.0385 - mae: 0.0289 - val_loss: 0.0100 - val_mape: 124.1454 - val_mae: 0.0717\n",
      "Epoch 80/100\n",
      "1105/1105 [==============================] - 13s 11ms/step - loss: 0.0014 - mape: 1198.8335 - mae: 0.0289 - val_loss: 0.0106 - val_mape: 134.6314 - val_mae: 0.0751\n",
      "Epoch 81/100\n",
      "1105/1105 [==============================] - 12s 11ms/step - loss: 0.0014 - mape: 1052.1658 - mae: 0.0284 - val_loss: 0.0113 - val_mape: 132.4007 - val_mae: 0.0784\n",
      "Epoch 82/100\n",
      "1105/1105 [==============================] - 13s 11ms/step - loss: 0.0014 - mape: 923.1475 - mae: 0.0283 - val_loss: 0.0102 - val_mape: 127.2765 - val_mae: 0.0738\n",
      "Epoch 83/100\n",
      "1105/1105 [==============================] - 13s 11ms/step - loss: 0.0014 - mape: 1093.1964 - mae: 0.0284 - val_loss: 0.0102 - val_mape: 123.9975 - val_mae: 0.0733\n",
      "Epoch 84/100\n",
      "1105/1105 [==============================] - 13s 11ms/step - loss: 0.0014 - mape: 1025.1902 - mae: 0.0283 - val_loss: 0.0114 - val_mape: 127.2635 - val_mae: 0.0776\n",
      "Epoch 85/100\n",
      "1105/1105 [==============================] - 13s 11ms/step - loss: 0.0013 - mape: 1142.5800 - mae: 0.0280 - val_loss: 0.0102 - val_mape: 126.9401 - val_mae: 0.0727\n",
      "Epoch 86/100\n",
      "1105/1105 [==============================] - 13s 11ms/step - loss: 0.0013 - mape: 984.2609 - mae: 0.0276 - val_loss: 0.0100 - val_mape: 123.5617 - val_mae: 0.0716\n",
      "Epoch 87/100\n",
      "1105/1105 [==============================] - 12s 11ms/step - loss: 0.0013 - mape: 1248.5515 - mae: 0.0280 - val_loss: 0.0101 - val_mape: 121.4281 - val_mae: 0.0706\n",
      "Epoch 88/100\n",
      "1105/1105 [==============================] - 13s 11ms/step - loss: 0.0013 - mape: 1075.0800 - mae: 0.0273 - val_loss: 0.0111 - val_mape: 124.6039 - val_mae: 0.0748\n",
      "Epoch 89/100\n",
      "1105/1105 [==============================] - 12s 11ms/step - loss: 0.0013 - mape: 1302.4524 - mae: 0.0274 - val_loss: 0.0101 - val_mape: 133.2490 - val_mae: 0.0721\n",
      "Epoch 90/100\n",
      "1105/1105 [==============================] - 13s 12ms/step - loss: 0.0012 - mape: 1065.1064 - mae: 0.0270 - val_loss: 0.0106 - val_mape: 132.4206 - val_mae: 0.0737\n",
      "Epoch 91/100\n",
      "1105/1105 [==============================] - 13s 11ms/step - loss: 0.0012 - mape: 1329.4918 - mae: 0.0270 - val_loss: 0.0109 - val_mape: 116.6499 - val_mae: 0.0759\n",
      "Epoch 92/100\n",
      "1105/1105 [==============================] - 12s 11ms/step - loss: 0.0013 - mape: 1073.4376 - mae: 0.0271 - val_loss: 0.0101 - val_mape: 115.3495 - val_mae: 0.0721\n",
      "Epoch 93/100\n"
     ]
    },
    {
     "name": "stdout",
     "output_type": "stream",
     "text": [
      "1105/1105 [==============================] - 12s 11ms/step - loss: 0.0012 - mape: 1132.5953 - mae: 0.0270 - val_loss: 0.0102 - val_mape: 123.9152 - val_mae: 0.0723\n",
      "Epoch 94/100\n",
      "1105/1105 [==============================] - 13s 11ms/step - loss: 0.0013 - mape: 767.7687 - mae: 0.0272 - val_loss: 0.0095 - val_mape: 119.8883 - val_mae: 0.0703\n",
      "Epoch 95/100\n",
      "1105/1105 [==============================] - 13s 11ms/step - loss: 0.0012 - mape: 943.5735 - mae: 0.0263 - val_loss: 0.0104 - val_mape: 126.4151 - val_mae: 0.0740\n",
      "Epoch 96/100\n",
      "1105/1105 [==============================] - 13s 11ms/step - loss: 0.0012 - mape: 971.9782 - mae: 0.0264 - val_loss: 0.0100 - val_mape: 125.6964 - val_mae: 0.0716\n",
      "Epoch 97/100\n",
      "1105/1105 [==============================] - 13s 11ms/step - loss: 0.0012 - mape: 1247.1857 - mae: 0.0262 - val_loss: 0.0107 - val_mape: 121.8816 - val_mae: 0.0745\n",
      "Epoch 98/100\n",
      "1105/1105 [==============================] - 12s 11ms/step - loss: 0.0012 - mape: 1206.0841 - mae: 0.0265 - val_loss: 0.0104 - val_mape: 111.9646 - val_mae: 0.0745\n",
      "Epoch 99/100\n",
      "1105/1105 [==============================] - 12s 11ms/step - loss: 0.0011 - mape: 1114.1165 - mae: 0.0259 - val_loss: 0.0112 - val_mape: 130.5760 - val_mae: 0.0768\n",
      "Epoch 100/100\n",
      "1105/1105 [==============================] - 13s 11ms/step - loss: 0.0011 - mape: 1171.0066 - mae: 0.0259 - val_loss: 0.0101 - val_mape: 118.8086 - val_mae: 0.0735\n"
     ]
    },
    {
     "data": {
      "text/plain": [
       "<keras.callbacks.History at 0x237bdae8d30>"
      ]
     },
     "execution_count": 22,
     "metadata": {},
     "output_type": "execute_result"
    }
   ],
   "source": [
    "model.fit(X_train, Y_train, epochs= epochs, batch_size= batchSize, verbose= 1, shuffle= True, validation_data= (X_valid, Y_valid))"
   ]
  },
  {
   "cell_type": "code",
   "execution_count": 23,
   "id": "cd839153",
   "metadata": {},
   "outputs": [
    {
     "name": "stdout",
     "output_type": "stream",
     "text": [
      "Total execution time in seconds: 1252.3907544612885\n"
     ]
    }
   ],
   "source": [
    "calcExecTime = (time.time() - startTime)\n",
    "print('Total execution time in seconds: ' + str(calcExecTime))"
   ]
  },
  {
   "cell_type": "markdown",
   "id": "72aafa74",
   "metadata": {},
   "source": [
    "### MAKING PREDICTIONS AND GENERATING RESULTS"
   ]
  },
  {
   "cell_type": "code",
   "execution_count": 24,
   "id": "259bfb49",
   "metadata": {},
   "outputs": [
    {
     "name": "stdout",
     "output_type": "stream",
     "text": [
      "6/6 [==============================] - 1s 7ms/step\n"
     ]
    }
   ],
   "source": [
    "predictions = model.predict(X_test)"
   ]
  },
  {
   "cell_type": "code",
   "execution_count": 25,
   "id": "2912d431",
   "metadata": {},
   "outputs": [
    {
     "data": {
      "text/plain": [
       "array([0.09004185, 0.06655023, 0.06084581, ..., 0.4211714 , 0.36518553,\n",
       "       0.32583106], dtype=float32)"
      ]
     },
     "execution_count": 25,
     "metadata": {},
     "output_type": "execute_result"
    }
   ],
   "source": [
    "predArr = predictions.reshape(predictions.shape[0] * predictions.shape[1], predictions.shape[2]).ravel()\n",
    "predArr"
   ]
  },
  {
   "cell_type": "code",
   "execution_count": 26,
   "id": "b01889f2",
   "metadata": {},
   "outputs": [
    {
     "data": {
      "text/plain": [
       "array([0.19491731, 0.1775025 , 0.16371577, ..., 0.34768765, 0.30839269,\n",
       "       0.27685624])"
      ]
     },
     "execution_count": 26,
     "metadata": {},
     "output_type": "execute_result"
    }
   ],
   "source": [
    "Y_testArr = Y_test.reshape(Y_test.shape[0] * Y_test.shape[1], Y_test.shape[2]).ravel()\n",
    "Y_testArr"
   ]
  },
  {
   "cell_type": "code",
   "execution_count": 27,
   "id": "799c97e8",
   "metadata": {},
   "outputs": [],
   "source": [
    "def inverse_transform(df):\n",
    "    column_names = df.columns\n",
    "    for col in column_names:\n",
    "        df[col] = ValScaler.inverse_transform(df[[col]]) \n",
    "    return df"
   ]
  },
  {
   "cell_type": "code",
   "execution_count": 28,
   "id": "afa81e30",
   "metadata": {},
   "outputs": [
    {
     "data": {
      "text/html": [
       "<div>\n",
       "<style scoped>\n",
       "    .dataframe tbody tr th:only-of-type {\n",
       "        vertical-align: middle;\n",
       "    }\n",
       "\n",
       "    .dataframe tbody tr th {\n",
       "        vertical-align: top;\n",
       "    }\n",
       "\n",
       "    .dataframe thead th {\n",
       "        text-align: right;\n",
       "    }\n",
       "</style>\n",
       "<table border=\"1\" class=\"dataframe\">\n",
       "  <thead>\n",
       "    <tr style=\"text-align: right;\">\n",
       "      <th></th>\n",
       "      <th>Values</th>\n",
       "      <th>Predictions</th>\n",
       "    </tr>\n",
       "  </thead>\n",
       "  <tbody>\n",
       "    <tr>\n",
       "      <th>0</th>\n",
       "      <td>1530.9</td>\n",
       "      <td>1343.007446</td>\n",
       "    </tr>\n",
       "    <tr>\n",
       "      <th>1</th>\n",
       "      <td>1499.7</td>\n",
       "      <td>1300.920410</td>\n",
       "    </tr>\n",
       "    <tr>\n",
       "      <th>2</th>\n",
       "      <td>1475.0</td>\n",
       "      <td>1290.700439</td>\n",
       "    </tr>\n",
       "    <tr>\n",
       "      <th>3</th>\n",
       "      <td>1486.7</td>\n",
       "      <td>1308.134888</td>\n",
       "    </tr>\n",
       "    <tr>\n",
       "      <th>4</th>\n",
       "      <td>1534.1</td>\n",
       "      <td>1345.334961</td>\n",
       "    </tr>\n",
       "    <tr>\n",
       "      <th>...</th>\n",
       "      <td>...</td>\n",
       "      <td>...</td>\n",
       "    </tr>\n",
       "    <tr>\n",
       "      <th>4363</th>\n",
       "      <td>1947.5</td>\n",
       "      <td>2118.111084</td>\n",
       "    </tr>\n",
       "    <tr>\n",
       "      <th>4364</th>\n",
       "      <td>1881.5</td>\n",
       "      <td>2047.588501</td>\n",
       "    </tr>\n",
       "    <tr>\n",
       "      <th>4365</th>\n",
       "      <td>1804.6</td>\n",
       "      <td>1936.251953</td>\n",
       "    </tr>\n",
       "    <tr>\n",
       "      <th>4366</th>\n",
       "      <td>1734.2</td>\n",
       "      <td>1835.948730</td>\n",
       "    </tr>\n",
       "    <tr>\n",
       "      <th>4367</th>\n",
       "      <td>1677.7</td>\n",
       "      <td>1765.442139</td>\n",
       "    </tr>\n",
       "  </tbody>\n",
       "</table>\n",
       "<p>4368 rows × 2 columns</p>\n",
       "</div>"
      ],
      "text/plain": [
       "      Values  Predictions\n",
       "0     1530.9  1343.007446\n",
       "1     1499.7  1300.920410\n",
       "2     1475.0  1290.700439\n",
       "3     1486.7  1308.134888\n",
       "4     1534.1  1345.334961\n",
       "...      ...          ...\n",
       "4363  1947.5  2118.111084\n",
       "4364  1881.5  2047.588501\n",
       "4365  1804.6  1936.251953\n",
       "4366  1734.2  1835.948730\n",
       "4367  1677.7  1765.442139\n",
       "\n",
       "[4368 rows x 2 columns]"
      ]
     },
     "execution_count": 28,
     "metadata": {},
     "output_type": "execute_result"
    }
   ],
   "source": [
    "comparisionDf = pd.DataFrame(data= {\"Values\": Y_testArr, \"Predictions\": predArr})\n",
    "comparisionDf = inverse_transform(comparisionDf)\n",
    "comparisionDf"
   ]
  },
  {
   "cell_type": "code",
   "execution_count": 29,
   "id": "88222bae",
   "metadata": {},
   "outputs": [
    {
     "data": {
      "text/plain": [
       "7.004683517796793"
      ]
     },
     "execution_count": 29,
     "metadata": {},
     "output_type": "execute_result"
    }
   ],
   "source": [
    "mape(comparisionDf[\"Values\"], comparisionDf[\"Predictions\"])"
   ]
  }
 ],
 "metadata": {
  "kernelspec": {
   "display_name": "Python 3 (ipykernel)",
   "language": "python",
   "name": "python3"
  },
  "language_info": {
   "codemirror_mode": {
    "name": "ipython",
    "version": 3
   },
   "file_extension": ".py",
   "mimetype": "text/x-python",
   "name": "python",
   "nbconvert_exporter": "python",
   "pygments_lexer": "ipython3",
   "version": "3.9.12"
  }
 },
 "nbformat": 4,
 "nbformat_minor": 5
}
