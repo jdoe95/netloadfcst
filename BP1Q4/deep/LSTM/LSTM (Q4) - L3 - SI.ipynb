{
 "cells": [
  {
   "cell_type": "code",
   "execution_count": 1,
   "id": "5f61b29f",
   "metadata": {},
   "outputs": [
    {
     "name": "stdout",
     "output_type": "stream",
     "text": [
      "Num GPUs Available:  1\n"
     ]
    }
   ],
   "source": [
    "import pandas as pd\n",
    "import numpy as np\n",
    "import os\n",
    "import matplotlib.pyplot as plt\n",
    "from datetime import datetime\n",
    "from sklearn.preprocessing import MinMaxScaler, RobustScaler, StandardScaler\n",
    "import time\n",
    "\n",
    "import tensorflow as tf\n",
    "tf.random.set_seed(42)\n",
    "\n",
    "def mape(y_true, y_pred):\n",
    "    y_true, y_pred = np.array(y_true), np.array(y_pred)\n",
    "    return np.mean(np.abs((y_true - y_pred) / max(y_true))) * 100\n",
    "\n",
    "def RMSELoss(yhat,y):\n",
    "    return torch.sqrt(torch.mean((yhat-y)**2))\n",
    "\n",
    "print(\"Num GPUs Available: \", len(tf.config.list_physical_devices('GPU')))"
   ]
  },
  {
   "cell_type": "code",
   "execution_count": 2,
   "id": "cea0abe2",
   "metadata": {},
   "outputs": [
    {
     "name": "stdout",
     "output_type": "stream",
     "text": [
      "['AT.csv', 'BE.csv', 'BG.csv', 'CH.csv', 'CZ.csv', 'DK.csv', 'ES.csv', 'FR.csv', 'GR.csv', 'IT.csv', 'NL.csv', 'PT.csv', 'SI.csv', 'SK.csv']\n"
     ]
    }
   ],
   "source": [
    "# Specifying the path of file\n",
    "path= r\"C:\\Users\\sashah8\\OneDrive - North Carolina State University\\Desktop\\Q4\\Data\\L3\\data_cleaned\"\n",
    "\n",
    "# Listing just the required files\n",
    "fileList = os.listdir(path)\n",
    "fileList.remove(\"Date.csv\")\n",
    "\n",
    "# Previewing the required file names\n",
    "print(fileList)"
   ]
  },
  {
   "cell_type": "code",
   "execution_count": 3,
   "id": "a6fe9396",
   "metadata": {},
   "outputs": [
    {
     "data": {
      "text/html": [
       "<div>\n",
       "<style scoped>\n",
       "    .dataframe tbody tr th:only-of-type {\n",
       "        vertical-align: middle;\n",
       "    }\n",
       "\n",
       "    .dataframe tbody tr th {\n",
       "        vertical-align: top;\n",
       "    }\n",
       "\n",
       "    .dataframe thead th {\n",
       "        text-align: right;\n",
       "    }\n",
       "</style>\n",
       "<table border=\"1\" class=\"dataframe\">\n",
       "  <thead>\n",
       "    <tr style=\"text-align: right;\">\n",
       "      <th></th>\n",
       "      <th>Demand</th>\n",
       "      <th>Normalized_net</th>\n",
       "      <th>Temperature</th>\n",
       "      <th>DNI</th>\n",
       "      <th>DHI</th>\n",
       "    </tr>\n",
       "  </thead>\n",
       "  <tbody>\n",
       "    <tr>\n",
       "      <th>0</th>\n",
       "      <td>0.00</td>\n",
       "      <td>0.017762</td>\n",
       "      <td>-11.261</td>\n",
       "      <td>0.0</td>\n",
       "      <td>0.0</td>\n",
       "    </tr>\n",
       "    <tr>\n",
       "      <th>1</th>\n",
       "      <td>1045.47</td>\n",
       "      <td>0.445247</td>\n",
       "      <td>-10.975</td>\n",
       "      <td>0.0</td>\n",
       "      <td>0.0</td>\n",
       "    </tr>\n",
       "    <tr>\n",
       "      <th>2</th>\n",
       "      <td>1004.79</td>\n",
       "      <td>0.428613</td>\n",
       "      <td>-10.772</td>\n",
       "      <td>0.0</td>\n",
       "      <td>0.0</td>\n",
       "    </tr>\n",
       "    <tr>\n",
       "      <th>3</th>\n",
       "      <td>983.79</td>\n",
       "      <td>0.420027</td>\n",
       "      <td>-10.667</td>\n",
       "      <td>0.0</td>\n",
       "      <td>0.0</td>\n",
       "    </tr>\n",
       "    <tr>\n",
       "      <th>4</th>\n",
       "      <td>998.67</td>\n",
       "      <td>0.426111</td>\n",
       "      <td>-10.467</td>\n",
       "      <td>0.0</td>\n",
       "      <td>0.0</td>\n",
       "    </tr>\n",
       "    <tr>\n",
       "      <th>...</th>\n",
       "      <td>...</td>\n",
       "      <td>...</td>\n",
       "      <td>...</td>\n",
       "      <td>...</td>\n",
       "      <td>...</td>\n",
       "    </tr>\n",
       "    <tr>\n",
       "      <th>43819</th>\n",
       "      <td>1367.13</td>\n",
       "      <td>0.576772</td>\n",
       "      <td>0.053</td>\n",
       "      <td>0.0</td>\n",
       "      <td>0.0</td>\n",
       "    </tr>\n",
       "    <tr>\n",
       "      <th>43820</th>\n",
       "      <td>1261.40</td>\n",
       "      <td>0.533539</td>\n",
       "      <td>-0.207</td>\n",
       "      <td>0.0</td>\n",
       "      <td>0.0</td>\n",
       "    </tr>\n",
       "    <tr>\n",
       "      <th>43821</th>\n",
       "      <td>1192.50</td>\n",
       "      <td>0.505367</td>\n",
       "      <td>-0.203</td>\n",
       "      <td>0.0</td>\n",
       "      <td>0.0</td>\n",
       "    </tr>\n",
       "    <tr>\n",
       "      <th>43822</th>\n",
       "      <td>1133.98</td>\n",
       "      <td>0.481438</td>\n",
       "      <td>-0.032</td>\n",
       "      <td>0.0</td>\n",
       "      <td>0.0</td>\n",
       "    </tr>\n",
       "    <tr>\n",
       "      <th>43823</th>\n",
       "      <td>1086.67</td>\n",
       "      <td>0.462094</td>\n",
       "      <td>-0.210</td>\n",
       "      <td>0.0</td>\n",
       "      <td>0.0</td>\n",
       "    </tr>\n",
       "  </tbody>\n",
       "</table>\n",
       "<p>43824 rows × 5 columns</p>\n",
       "</div>"
      ],
      "text/plain": [
       "        Demand  Normalized_net  Temperature  DNI  DHI\n",
       "0         0.00        0.017762      -11.261  0.0  0.0\n",
       "1      1045.47        0.445247      -10.975  0.0  0.0\n",
       "2      1004.79        0.428613      -10.772  0.0  0.0\n",
       "3       983.79        0.420027      -10.667  0.0  0.0\n",
       "4       998.67        0.426111      -10.467  0.0  0.0\n",
       "...        ...             ...          ...  ...  ...\n",
       "43819  1367.13        0.576772        0.053  0.0  0.0\n",
       "43820  1261.40        0.533539       -0.207  0.0  0.0\n",
       "43821  1192.50        0.505367       -0.203  0.0  0.0\n",
       "43822  1133.98        0.481438       -0.032  0.0  0.0\n",
       "43823  1086.67        0.462094       -0.210  0.0  0.0\n",
       "\n",
       "[43824 rows x 5 columns]"
      ]
     },
     "execution_count": 3,
     "metadata": {},
     "output_type": "execute_result"
    }
   ],
   "source": [
    "# Just for previewing the columns\n",
    "pd.read_csv(os.path.join(path, fileList[12]))"
   ]
  },
  {
   "cell_type": "markdown",
   "id": "9ad4906c",
   "metadata": {
    "pycharm": {
     "name": "#%% md\n"
    }
   },
   "source": [
    "### PROCESSING THE DATA"
   ]
  },
  {
   "cell_type": "code",
   "execution_count": 4,
   "id": "f29f6db2",
   "metadata": {},
   "outputs": [
    {
     "data": {
      "text/html": [
       "<div>\n",
       "<style scoped>\n",
       "    .dataframe tbody tr th:only-of-type {\n",
       "        vertical-align: middle;\n",
       "    }\n",
       "\n",
       "    .dataframe tbody tr th {\n",
       "        vertical-align: top;\n",
       "    }\n",
       "\n",
       "    .dataframe thead th {\n",
       "        text-align: right;\n",
       "    }\n",
       "</style>\n",
       "<table border=\"1\" class=\"dataframe\">\n",
       "  <thead>\n",
       "    <tr style=\"text-align: right;\">\n",
       "      <th></th>\n",
       "      <th>Load_SI</th>\n",
       "      <th>Temp_SI</th>\n",
       "    </tr>\n",
       "  </thead>\n",
       "  <tbody>\n",
       "    <tr>\n",
       "      <th>0</th>\n",
       "      <td>0.00</td>\n",
       "      <td>-11.261</td>\n",
       "    </tr>\n",
       "    <tr>\n",
       "      <th>1</th>\n",
       "      <td>1045.47</td>\n",
       "      <td>-10.975</td>\n",
       "    </tr>\n",
       "    <tr>\n",
       "      <th>2</th>\n",
       "      <td>1004.79</td>\n",
       "      <td>-10.772</td>\n",
       "    </tr>\n",
       "    <tr>\n",
       "      <th>3</th>\n",
       "      <td>983.79</td>\n",
       "      <td>-10.667</td>\n",
       "    </tr>\n",
       "    <tr>\n",
       "      <th>4</th>\n",
       "      <td>998.67</td>\n",
       "      <td>-10.467</td>\n",
       "    </tr>\n",
       "    <tr>\n",
       "      <th>...</th>\n",
       "      <td>...</td>\n",
       "      <td>...</td>\n",
       "    </tr>\n",
       "    <tr>\n",
       "      <th>43819</th>\n",
       "      <td>1367.13</td>\n",
       "      <td>0.053</td>\n",
       "    </tr>\n",
       "    <tr>\n",
       "      <th>43820</th>\n",
       "      <td>1261.40</td>\n",
       "      <td>-0.207</td>\n",
       "    </tr>\n",
       "    <tr>\n",
       "      <th>43821</th>\n",
       "      <td>1192.50</td>\n",
       "      <td>-0.203</td>\n",
       "    </tr>\n",
       "    <tr>\n",
       "      <th>43822</th>\n",
       "      <td>1133.98</td>\n",
       "      <td>-0.032</td>\n",
       "    </tr>\n",
       "    <tr>\n",
       "      <th>43823</th>\n",
       "      <td>1086.67</td>\n",
       "      <td>-0.210</td>\n",
       "    </tr>\n",
       "  </tbody>\n",
       "</table>\n",
       "<p>43824 rows × 2 columns</p>\n",
       "</div>"
      ],
      "text/plain": [
       "       Load_SI  Temp_SI\n",
       "0         0.00  -11.261\n",
       "1      1045.47  -10.975\n",
       "2      1004.79  -10.772\n",
       "3       983.79  -10.667\n",
       "4       998.67  -10.467\n",
       "...        ...      ...\n",
       "43819  1367.13    0.053\n",
       "43820  1261.40   -0.207\n",
       "43821  1192.50   -0.203\n",
       "43822  1133.98   -0.032\n",
       "43823  1086.67   -0.210\n",
       "\n",
       "[43824 rows x 2 columns]"
      ]
     },
     "execution_count": 4,
     "metadata": {},
     "output_type": "execute_result"
    }
   ],
   "source": [
    "# Restricting the load data to a single zone\n",
    "fileName  = fileList[12]\n",
    "\n",
    "zoneData = pd.read_csv(os.path.join(path, fileName), usecols= [\"Demand\", \"Temperature\"])\n",
    "zoneData.columns = [\"Load_\"+str(fileName[:-4]), \"Temp_\"+str(fileName[:-4])]\n",
    "\n",
    "# For fixing one missing row\n",
    "# zoneData = pd.concat([zoneData.loc[[0]], zoneData], axis= 0).reset_index(drop= True)\n",
    "\n",
    "zoneData"
   ]
  },
  {
   "cell_type": "markdown",
   "id": "01cec4bd",
   "metadata": {},
   "source": [
    "### FEATURE ENGINEERING AND SPLITTING INTO TRAIN-TEST SPLIT"
   ]
  },
  {
   "cell_type": "code",
   "execution_count": 5,
   "id": "a1e1e8a3",
   "metadata": {},
   "outputs": [],
   "source": [
    "def lagGenerator(dF, lagList):\n",
    "    dF_temp = dF.filter(regex= \"Load\").copy()\n",
    "    \n",
    "    for i in lagList:\n",
    "        dF_temp.loc[:, \"Lag-\" + str(i)] = dF_temp.iloc[:,[0]].shift(i*24)\n",
    "    \n",
    "    return(dF_temp.filter(regex= \"Lag\"))"
   ]
  },
  {
   "cell_type": "code",
   "execution_count": 6,
   "id": "159a2a82",
   "metadata": {},
   "outputs": [
    {
     "data": {
      "text/html": [
       "<div>\n",
       "<style scoped>\n",
       "    .dataframe tbody tr th:only-of-type {\n",
       "        vertical-align: middle;\n",
       "    }\n",
       "\n",
       "    .dataframe tbody tr th {\n",
       "        vertical-align: top;\n",
       "    }\n",
       "\n",
       "    .dataframe thead th {\n",
       "        text-align: right;\n",
       "    }\n",
       "</style>\n",
       "<table border=\"1\" class=\"dataframe\">\n",
       "  <thead>\n",
       "    <tr style=\"text-align: right;\">\n",
       "      <th></th>\n",
       "      <th>Lag-2</th>\n",
       "      <th>Lag-7</th>\n",
       "    </tr>\n",
       "  </thead>\n",
       "  <tbody>\n",
       "    <tr>\n",
       "      <th>0</th>\n",
       "      <td>NaN</td>\n",
       "      <td>NaN</td>\n",
       "    </tr>\n",
       "    <tr>\n",
       "      <th>1</th>\n",
       "      <td>NaN</td>\n",
       "      <td>NaN</td>\n",
       "    </tr>\n",
       "  </tbody>\n",
       "</table>\n",
       "</div>"
      ],
      "text/plain": [
       "   Lag-2  Lag-7\n",
       "0    NaN    NaN\n",
       "1    NaN    NaN"
      ]
     },
     "execution_count": 6,
     "metadata": {},
     "output_type": "execute_result"
    }
   ],
   "source": [
    "Load_lags = lagGenerator(dF=zoneData, lagList=[2,7])\n",
    "Load_lags.head(2)"
   ]
  },
  {
   "cell_type": "code",
   "execution_count": 7,
   "id": "05896954",
   "metadata": {},
   "outputs": [
    {
     "data": {
      "text/html": [
       "<div>\n",
       "<style scoped>\n",
       "    .dataframe tbody tr th:only-of-type {\n",
       "        vertical-align: middle;\n",
       "    }\n",
       "\n",
       "    .dataframe tbody tr th {\n",
       "        vertical-align: top;\n",
       "    }\n",
       "\n",
       "    .dataframe thead th {\n",
       "        text-align: right;\n",
       "    }\n",
       "</style>\n",
       "<table border=\"1\" class=\"dataframe\">\n",
       "  <thead>\n",
       "    <tr style=\"text-align: right;\">\n",
       "      <th></th>\n",
       "      <th>Load_SI</th>\n",
       "      <th>Temp_SI</th>\n",
       "      <th>Lag-2</th>\n",
       "      <th>Lag-7</th>\n",
       "    </tr>\n",
       "  </thead>\n",
       "  <tbody>\n",
       "    <tr>\n",
       "      <th>0</th>\n",
       "      <td>1318.90</td>\n",
       "      <td>-2.913</td>\n",
       "      <td>1214.31</td>\n",
       "      <td>0.00</td>\n",
       "    </tr>\n",
       "    <tr>\n",
       "      <th>1</th>\n",
       "      <td>1261.35</td>\n",
       "      <td>-3.012</td>\n",
       "      <td>1193.23</td>\n",
       "      <td>1045.47</td>\n",
       "    </tr>\n",
       "    <tr>\n",
       "      <th>2</th>\n",
       "      <td>1297.72</td>\n",
       "      <td>-2.931</td>\n",
       "      <td>1201.24</td>\n",
       "      <td>1004.79</td>\n",
       "    </tr>\n",
       "    <tr>\n",
       "      <th>3</th>\n",
       "      <td>1274.97</td>\n",
       "      <td>-2.727</td>\n",
       "      <td>1202.41</td>\n",
       "      <td>983.79</td>\n",
       "    </tr>\n",
       "    <tr>\n",
       "      <th>4</th>\n",
       "      <td>1414.87</td>\n",
       "      <td>-2.633</td>\n",
       "      <td>1327.59</td>\n",
       "      <td>998.67</td>\n",
       "    </tr>\n",
       "    <tr>\n",
       "      <th>...</th>\n",
       "      <td>...</td>\n",
       "      <td>...</td>\n",
       "      <td>...</td>\n",
       "      <td>...</td>\n",
       "    </tr>\n",
       "    <tr>\n",
       "      <th>43651</th>\n",
       "      <td>1367.13</td>\n",
       "      <td>0.053</td>\n",
       "      <td>1436.34</td>\n",
       "      <td>1256.83</td>\n",
       "    </tr>\n",
       "    <tr>\n",
       "      <th>43652</th>\n",
       "      <td>1261.40</td>\n",
       "      <td>-0.207</td>\n",
       "      <td>1359.71</td>\n",
       "      <td>1202.55</td>\n",
       "    </tr>\n",
       "    <tr>\n",
       "      <th>43653</th>\n",
       "      <td>1192.50</td>\n",
       "      <td>-0.203</td>\n",
       "      <td>1270.75</td>\n",
       "      <td>1155.58</td>\n",
       "    </tr>\n",
       "    <tr>\n",
       "      <th>43654</th>\n",
       "      <td>1133.98</td>\n",
       "      <td>-0.032</td>\n",
       "      <td>1156.78</td>\n",
       "      <td>1074.09</td>\n",
       "    </tr>\n",
       "    <tr>\n",
       "      <th>43655</th>\n",
       "      <td>1086.67</td>\n",
       "      <td>-0.210</td>\n",
       "      <td>1097.46</td>\n",
       "      <td>996.78</td>\n",
       "    </tr>\n",
       "  </tbody>\n",
       "</table>\n",
       "<p>43656 rows × 4 columns</p>\n",
       "</div>"
      ],
      "text/plain": [
       "       Load_SI  Temp_SI    Lag-2    Lag-7\n",
       "0      1318.90   -2.913  1214.31     0.00\n",
       "1      1261.35   -3.012  1193.23  1045.47\n",
       "2      1297.72   -2.931  1201.24  1004.79\n",
       "3      1274.97   -2.727  1202.41   983.79\n",
       "4      1414.87   -2.633  1327.59   998.67\n",
       "...        ...      ...      ...      ...\n",
       "43651  1367.13    0.053  1436.34  1256.83\n",
       "43652  1261.40   -0.207  1359.71  1202.55\n",
       "43653  1192.50   -0.203  1270.75  1155.58\n",
       "43654  1133.98   -0.032  1156.78  1074.09\n",
       "43655  1086.67   -0.210  1097.46   996.78\n",
       "\n",
       "[43656 rows x 4 columns]"
      ]
     },
     "execution_count": 7,
     "metadata": {},
     "output_type": "execute_result"
    }
   ],
   "source": [
    "dataDf = pd.concat([zoneData, Load_lags], axis= 1).dropna(axis= 0).reset_index(drop= True)\n",
    "dataDf"
   ]
  },
  {
   "cell_type": "code",
   "execution_count": 8,
   "id": "6ad25321",
   "metadata": {},
   "outputs": [],
   "source": [
    "# Setting the train-test split ratio\n",
    "ratio = 0.1"
   ]
  },
  {
   "cell_type": "code",
   "execution_count": 9,
   "id": "3c08d963",
   "metadata": {},
   "outputs": [],
   "source": [
    "Num_train, Num_test = int(len(dataDf)/24 * (1 - ratio)) * 24, int(len(dataDf)/24 * ratio) * 24"
   ]
  },
  {
   "cell_type": "code",
   "execution_count": 10,
   "id": "cbe069ff",
   "metadata": {},
   "outputs": [],
   "source": [
    "# Splitting the data into train and test\n",
    "data_train, data_test = dataDf[:Num_train], dataDf[Num_train:]"
   ]
  },
  {
   "cell_type": "code",
   "execution_count": 11,
   "id": "d84e15c4",
   "metadata": {},
   "outputs": [],
   "source": [
    "Num_train, Num_valid = int(len(data_train)/24 * (1 - ratio)) * 24, int(len(data_train)/24 * ratio) * 24"
   ]
  },
  {
   "cell_type": "code",
   "execution_count": 12,
   "id": "c17d1723",
   "metadata": {},
   "outputs": [],
   "source": [
    "# Splitting the data into train and test\n",
    "data_train, data_valid = data_train[:Num_train], data_train[Num_train:]"
   ]
  },
  {
   "cell_type": "markdown",
   "id": "88d32011",
   "metadata": {},
   "source": [
    "### SPLITTING INTO X AND Y PART WITH SEQUENCE BATCHING"
   ]
  },
  {
   "cell_type": "code",
   "execution_count": 13,
   "id": "4ba286ca",
   "metadata": {},
   "outputs": [],
   "source": [
    "X_train_df, Y_train_df = data_train.iloc[:, 1:], data_train.iloc[:, :1]\n",
    "\n",
    "X_valid_df, Y_valid_df = data_valid.iloc[:, 1:], data_valid.iloc[:, :1]\n",
    "\n",
    "X_test_df, Y_test_df = data_test.iloc[:, 1:], data_test.iloc[:, :1]"
   ]
  },
  {
   "cell_type": "code",
   "execution_count": 14,
   "id": "ef1d9079",
   "metadata": {},
   "outputs": [],
   "source": [
    "# Preparing the scaler\n",
    "ValScaler = MinMaxScaler()\n",
    "\n",
    "X_train = ValScaler.fit_transform(X_train_df)\n",
    "X_valid = ValScaler.transform(X_valid_df)\n",
    "X_test = ValScaler.transform(X_test_df)\n",
    "\n",
    "Y_train = ValScaler.fit_transform(Y_train_df)\n",
    "Y_valid = ValScaler.transform(Y_valid_df)\n",
    "Y_test = ValScaler.transform(Y_test_df)"
   ]
  },
  {
   "cell_type": "code",
   "execution_count": 15,
   "id": "43594401",
   "metadata": {},
   "outputs": [],
   "source": [
    "def splitData(dataset):\n",
    "    data = np.array(np.split(dataset, len(dataset)/24))\n",
    "    return data"
   ]
  },
  {
   "cell_type": "code",
   "execution_count": 16,
   "id": "300696b2",
   "metadata": {},
   "outputs": [],
   "source": [
    "def supervisedSet(X_part, Y_part, steps= 24):\n",
    "    X_array, Y_array = np.array(X_part), np.array(Y_part)\n",
    "    X, Y = [], []\n",
    "    \n",
    "    for i in range(len(X_array)):\n",
    "        endIdx = i + steps\n",
    "        \n",
    "        if endIdx > len(X_array):\n",
    "            break\n",
    "        \n",
    "        batch_X, batch_Y = X_array[i:endIdx], Y_array[i:endIdx]\n",
    "        \n",
    "        X.append(batch_X)\n",
    "        Y.append(batch_Y)\n",
    "        \n",
    "    return np.array(X), np.array(Y)"
   ]
  },
  {
   "cell_type": "code",
   "execution_count": 17,
   "id": "fc9cd97d",
   "metadata": {},
   "outputs": [],
   "source": [
    "X_train, Y_train = supervisedSet(X_train, Y_train)\n",
    "\n",
    "X_valid, Y_valid = splitData(X_valid), splitData(Y_valid)\n",
    "\n",
    "X_test, Y_test = splitData(X_test), splitData(Y_test)"
   ]
  },
  {
   "cell_type": "markdown",
   "id": "a2a6bf32",
   "metadata": {},
   "source": [
    "### WORKING ON THE MODEL"
   ]
  },
  {
   "cell_type": "code",
   "execution_count": 18,
   "id": "ff71a98c",
   "metadata": {},
   "outputs": [],
   "source": [
    "epochs = 100\n",
    "batchSize = 32"
   ]
  },
  {
   "cell_type": "code",
   "execution_count": 19,
   "id": "8d600c17",
   "metadata": {},
   "outputs": [],
   "source": [
    "# Encoder-decoder architecture [tanh required to use tensorflow on gpu]\n",
    "model = tf.keras.Sequential([\n",
    "    tf.keras.layers.LSTM(units= 128, activation= \"tanh\", input_shape= (X_train.shape[1], X_train.shape[2]), dropout= 0.2),\n",
    "    tf.keras.layers.RepeatVector(Y_train.shape[1]),\n",
    "    tf.keras.layers.LSTM(units= 128, activation= \"tanh\", return_sequences= True, dropout= 0.2),\n",
    "    tf.keras.layers.TimeDistributed(tf.keras.layers.Dense(units= 128, activation= \"relu\")),\n",
    "    tf.keras.layers.Dropout(0.2),\n",
    "    tf.keras.layers.TimeDistributed(tf.keras.layers.Dense(units= 1))\n",
    "])\n",
    "\n",
    "model.compile(loss= \"mse\", optimizer= \"adam\",  metrics= ['mape', 'mae'])"
   ]
  },
  {
   "cell_type": "code",
   "execution_count": 20,
   "id": "a05c033a",
   "metadata": {},
   "outputs": [],
   "source": [
    "# model = tf.keras.Sequential([\n",
    "#     tf.keras.layers.LSTM(units= 256, activation= \"tanh\", input_shape= (X_train.shape[1], X_train.shape[2])),\n",
    "#     tf.keras.layers.Dense(units= 128, activation= \"tanh\"),\n",
    "#     tf.keras.layers.Dense(units= 1)\n",
    "# ])\n",
    "\n",
    "# model.compile(loss= \"mse\", optimizer= \"adam\",  metrics= ['mape', 'mae'])"
   ]
  },
  {
   "cell_type": "code",
   "execution_count": 21,
   "id": "c9390383",
   "metadata": {},
   "outputs": [],
   "source": [
    "# Storing the start time of model fitting process\n",
    "startTime = time.time()"
   ]
  },
  {
   "cell_type": "code",
   "execution_count": 22,
   "id": "e526e3ed",
   "metadata": {},
   "outputs": [
    {
     "name": "stdout",
     "output_type": "stream",
     "text": [
      "Epoch 1/100\n",
      "1105/1105 [==============================] - 38s 22ms/step - loss: 0.0166 - mape: 11545.1904 - mae: 0.1046 - val_loss: 0.0170 - val_mape: 22.3490 - val_mae: 0.1055\n",
      "Epoch 2/100\n",
      "1105/1105 [==============================] - 34s 31ms/step - loss: 0.0091 - mape: 11393.5674 - mae: 0.0742 - val_loss: 0.0115 - val_mape: 18.2621 - val_mae: 0.0847\n",
      "Epoch 3/100\n",
      "1105/1105 [==============================] - 34s 31ms/step - loss: 0.0069 - mape: 10252.5137 - mae: 0.0629 - val_loss: 0.0185 - val_mape: 22.3636 - val_mae: 0.1115\n",
      "Epoch 4/100\n",
      "1105/1105 [==============================] - 35s 32ms/step - loss: 0.0062 - mape: 9847.0586 - mae: 0.0585 - val_loss: 0.0170 - val_mape: 22.5052 - val_mae: 0.1100\n",
      "Epoch 5/100\n",
      "1105/1105 [==============================] - 34s 31ms/step - loss: 0.0057 - mape: 9867.7852 - mae: 0.0557 - val_loss: 0.0215 - val_mape: 25.1432 - val_mae: 0.1255\n",
      "Epoch 6/100\n",
      "1105/1105 [==============================] - 34s 31ms/step - loss: 0.0054 - mape: 9596.1143 - mae: 0.0539 - val_loss: 0.0277 - val_mape: 28.7005 - val_mae: 0.1450\n",
      "Epoch 7/100\n",
      "1105/1105 [==============================] - 35s 32ms/step - loss: 0.0051 - mape: 9698.2900 - mae: 0.0526 - val_loss: 0.0184 - val_mape: 24.7944 - val_mae: 0.1174\n",
      "Epoch 8/100\n",
      "1105/1105 [==============================] - 34s 31ms/step - loss: 0.0049 - mape: 9509.6318 - mae: 0.0513 - val_loss: 0.0200 - val_mape: 24.6481 - val_mae: 0.1224\n",
      "Epoch 9/100\n",
      "1105/1105 [==============================] - 35s 32ms/step - loss: 0.0047 - mape: 9581.5918 - mae: 0.0504 - val_loss: 0.0154 - val_mape: 22.9026 - val_mae: 0.1062\n",
      "Epoch 10/100\n",
      "1105/1105 [==============================] - 35s 32ms/step - loss: 0.0045 - mape: 9632.4932 - mae: 0.0489 - val_loss: 0.0131 - val_mape: 21.0155 - val_mae: 0.0981\n",
      "Epoch 11/100\n",
      "1105/1105 [==============================] - 34s 31ms/step - loss: 0.0044 - mape: 9428.3457 - mae: 0.0483 - val_loss: 0.0264 - val_mape: 28.5880 - val_mae: 0.1415\n",
      "Epoch 12/100\n",
      "1105/1105 [==============================] - 34s 31ms/step - loss: 0.0042 - mape: 9423.3604 - mae: 0.0473 - val_loss: 0.0219 - val_mape: 26.4203 - val_mae: 0.1285\n",
      "Epoch 13/100\n",
      "1105/1105 [==============================] - 34s 31ms/step - loss: 0.0042 - mape: 9596.6846 - mae: 0.0471 - val_loss: 0.0158 - val_mape: 22.8214 - val_mae: 0.1079\n",
      "Epoch 14/100\n",
      "1105/1105 [==============================] - 35s 31ms/step - loss: 0.0041 - mape: 9565.5459 - mae: 0.0464 - val_loss: 0.0162 - val_mape: 23.6492 - val_mae: 0.1095\n",
      "Epoch 15/100\n",
      "1105/1105 [==============================] - 35s 31ms/step - loss: 0.0039 - mape: 9500.0479 - mae: 0.0457 - val_loss: 0.0202 - val_mape: 25.0966 - val_mae: 0.1235\n",
      "Epoch 16/100\n",
      "1105/1105 [==============================] - 35s 31ms/step - loss: 0.0039 - mape: 9354.4307 - mae: 0.0451 - val_loss: 0.0241 - val_mape: 27.9010 - val_mae: 0.1351\n",
      "Epoch 17/100\n",
      "1105/1105 [==============================] - 35s 31ms/step - loss: 0.0039 - mape: 9607.4863 - mae: 0.0454 - val_loss: 0.0158 - val_mape: 22.9133 - val_mae: 0.1088\n",
      "Epoch 18/100\n",
      "1105/1105 [==============================] - 35s 31ms/step - loss: 0.0037 - mape: 9135.2480 - mae: 0.0443 - val_loss: 0.0214 - val_mape: 26.2119 - val_mae: 0.1277\n",
      "Epoch 19/100\n",
      "1105/1105 [==============================] - 35s 32ms/step - loss: 0.0036 - mape: 9301.5039 - mae: 0.0437 - val_loss: 0.0141 - val_mape: 21.6781 - val_mae: 0.1010\n",
      "Epoch 20/100\n",
      "1105/1105 [==============================] - 34s 31ms/step - loss: 0.0036 - mape: 9483.8115 - mae: 0.0434 - val_loss: 0.0207 - val_mape: 25.7654 - val_mae: 0.1255\n",
      "Epoch 21/100\n",
      "1105/1105 [==============================] - 34s 31ms/step - loss: 0.0035 - mape: 9540.9121 - mae: 0.0432 - val_loss: 0.0190 - val_mape: 24.4247 - val_mae: 0.1200\n",
      "Epoch 22/100\n",
      "1105/1105 [==============================] - 35s 31ms/step - loss: 0.0034 - mape: 9538.7588 - mae: 0.0425 - val_loss: 0.0173 - val_mape: 23.7923 - val_mae: 0.1114\n",
      "Epoch 23/100\n",
      "1105/1105 [==============================] - 35s 32ms/step - loss: 0.0034 - mape: 9207.1172 - mae: 0.0420 - val_loss: 0.0176 - val_mape: 23.6003 - val_mae: 0.1137\n",
      "Epoch 24/100\n",
      "1105/1105 [==============================] - 35s 31ms/step - loss: 0.0033 - mape: 9113.1445 - mae: 0.0418 - val_loss: 0.0215 - val_mape: 26.0200 - val_mae: 0.1258\n",
      "Epoch 25/100\n",
      "1105/1105 [==============================] - 35s 32ms/step - loss: 0.0033 - mape: 9584.9473 - mae: 0.0415 - val_loss: 0.0178 - val_mape: 23.4349 - val_mae: 0.1134\n",
      "Epoch 26/100\n",
      "1105/1105 [==============================] - 35s 32ms/step - loss: 0.0032 - mape: 9309.5459 - mae: 0.0411 - val_loss: 0.0205 - val_mape: 25.2256 - val_mae: 0.1235\n",
      "Epoch 27/100\n",
      "1105/1105 [==============================] - 35s 31ms/step - loss: 0.0031 - mape: 9363.6992 - mae: 0.0407 - val_loss: 0.0157 - val_mape: 22.0020 - val_mae: 0.1051\n",
      "Epoch 28/100\n",
      "1105/1105 [==============================] - 35s 31ms/step - loss: 0.0032 - mape: 9666.8516 - mae: 0.0408 - val_loss: 0.0189 - val_mape: 23.6770 - val_mae: 0.1166\n",
      "Epoch 29/100\n",
      "1105/1105 [==============================] - 35s 31ms/step - loss: 0.0031 - mape: 9312.4189 - mae: 0.0403 - val_loss: 0.0190 - val_mape: 24.4893 - val_mae: 0.1168\n",
      "Epoch 30/100\n",
      "1105/1105 [==============================] - 35s 32ms/step - loss: 0.0030 - mape: 9342.1201 - mae: 0.0397 - val_loss: 0.0174 - val_mape: 23.1127 - val_mae: 0.1108\n",
      "Epoch 31/100\n",
      "1105/1105 [==============================] - 35s 31ms/step - loss: 0.0029 - mape: 9424.3457 - mae: 0.0390 - val_loss: 0.0154 - val_mape: 22.8545 - val_mae: 0.1021\n",
      "Epoch 32/100\n",
      "1105/1105 [==============================] - 35s 32ms/step - loss: 0.0028 - mape: 9406.1260 - mae: 0.0387 - val_loss: 0.0164 - val_mape: 23.1525 - val_mae: 0.1109\n",
      "Epoch 33/100\n",
      "1105/1105 [==============================] - 35s 32ms/step - loss: 0.0028 - mape: 9401.4160 - mae: 0.0386 - val_loss: 0.0228 - val_mape: 26.9581 - val_mae: 0.1300\n",
      "Epoch 34/100\n",
      "1105/1105 [==============================] - 35s 32ms/step - loss: 0.0029 - mape: 9458.4189 - mae: 0.0387 - val_loss: 0.0238 - val_mape: 26.8264 - val_mae: 0.1324\n",
      "Epoch 35/100\n",
      "1105/1105 [==============================] - 35s 31ms/step - loss: 0.0027 - mape: 9325.2129 - mae: 0.0378 - val_loss: 0.0207 - val_mape: 25.7938 - val_mae: 0.1247\n",
      "Epoch 36/100\n",
      "1105/1105 [==============================] - 34s 31ms/step - loss: 0.0028 - mape: 9292.3213 - mae: 0.0382 - val_loss: 0.0150 - val_mape: 22.3906 - val_mae: 0.1018\n",
      "Epoch 37/100\n",
      "1105/1105 [==============================] - 35s 32ms/step - loss: 0.0027 - mape: 9350.8506 - mae: 0.0373 - val_loss: 0.0206 - val_mape: 26.0208 - val_mae: 0.1226\n",
      "Epoch 38/100\n",
      "1105/1105 [==============================] - 35s 32ms/step - loss: 0.0026 - mape: 9449.8047 - mae: 0.0373 - val_loss: 0.0201 - val_mape: 24.4910 - val_mae: 0.1201\n",
      "Epoch 39/100\n",
      "1105/1105 [==============================] - 35s 32ms/step - loss: 0.0025 - mape: 9559.7412 - mae: 0.0366 - val_loss: 0.0231 - val_mape: 25.8962 - val_mae: 0.1279\n",
      "Epoch 40/100\n",
      "1105/1105 [==============================] - 35s 32ms/step - loss: 0.0025 - mape: 9358.3193 - mae: 0.0365 - val_loss: 0.0243 - val_mape: 27.1468 - val_mae: 0.1325\n",
      "Epoch 41/100\n",
      "1105/1105 [==============================] - 35s 32ms/step - loss: 0.0025 - mape: 9205.4023 - mae: 0.0362 - val_loss: 0.0241 - val_mape: 26.6143 - val_mae: 0.1305\n",
      "Epoch 42/100\n",
      "1105/1105 [==============================] - 35s 31ms/step - loss: 0.0024 - mape: 9224.4258 - mae: 0.0357 - val_loss: 0.0240 - val_mape: 26.3392 - val_mae: 0.1302\n",
      "Epoch 43/100\n",
      "1105/1105 [==============================] - 35s 32ms/step - loss: 0.0025 - mape: 9336.1748 - mae: 0.0362 - val_loss: 0.0245 - val_mape: 26.6397 - val_mae: 0.1343\n",
      "Epoch 44/100\n",
      "1105/1105 [==============================] - 33s 30ms/step - loss: 0.0023 - mape: 9306.8027 - mae: 0.0352 - val_loss: 0.0221 - val_mape: 25.5343 - val_mae: 0.1241\n",
      "Epoch 45/100\n",
      "1105/1105 [==============================] - 31s 28ms/step - loss: 0.0023 - mape: 9380.1963 - mae: 0.0349 - val_loss: 0.0226 - val_mape: 25.3325 - val_mae: 0.1262\n",
      "Epoch 46/100\n",
      "1105/1105 [==============================] - 33s 30ms/step - loss: 0.0023 - mape: 9218.8965 - mae: 0.0348 - val_loss: 0.0228 - val_mape: 25.4182 - val_mae: 0.1268\n",
      "Epoch 47/100\n"
     ]
    },
    {
     "name": "stdout",
     "output_type": "stream",
     "text": [
      "1105/1105 [==============================] - 31s 28ms/step - loss: 0.0023 - mape: 9507.7090 - mae: 0.0347 - val_loss: 0.0277 - val_mape: 28.3482 - val_mae: 0.1428\n",
      "Epoch 48/100\n",
      "1105/1105 [==============================] - 35s 31ms/step - loss: 0.0022 - mape: 9241.8672 - mae: 0.0344 - val_loss: 0.0259 - val_mape: 27.2367 - val_mae: 0.1369\n",
      "Epoch 49/100\n",
      "1105/1105 [==============================] - 35s 31ms/step - loss: 0.0023 - mape: 9365.3906 - mae: 0.0351 - val_loss: 0.0265 - val_mape: 26.9575 - val_mae: 0.1353\n",
      "Epoch 50/100\n",
      "1105/1105 [==============================] - 34s 31ms/step - loss: 0.0022 - mape: 9453.0195 - mae: 0.0341 - val_loss: 0.0243 - val_mape: 25.9050 - val_mae: 0.1319\n",
      "Epoch 51/100\n",
      "1105/1105 [==============================] - 34s 31ms/step - loss: 0.0021 - mape: 9226.0430 - mae: 0.0337 - val_loss: 0.0246 - val_mape: 27.2043 - val_mae: 0.1328\n",
      "Epoch 52/100\n",
      "1105/1105 [==============================] - 35s 31ms/step - loss: 0.0021 - mape: 9350.8076 - mae: 0.0333 - val_loss: 0.0174 - val_mape: 23.1305 - val_mae: 0.1108\n",
      "Epoch 53/100\n",
      "1105/1105 [==============================] - 35s 32ms/step - loss: 0.0021 - mape: 9616.1387 - mae: 0.0332 - val_loss: 0.0266 - val_mape: 26.9300 - val_mae: 0.1380\n",
      "Epoch 54/100\n",
      "1105/1105 [==============================] - 34s 31ms/step - loss: 0.0020 - mape: 9322.4678 - mae: 0.0332 - val_loss: 0.0200 - val_mape: 24.8722 - val_mae: 0.1206\n",
      "Epoch 55/100\n",
      "1105/1105 [==============================] - 34s 31ms/step - loss: 0.0020 - mape: 9198.7344 - mae: 0.0330 - val_loss: 0.0201 - val_mape: 24.4706 - val_mae: 0.1196\n",
      "Epoch 56/100\n",
      "1105/1105 [==============================] - 34s 31ms/step - loss: 0.0019 - mape: 9200.1660 - mae: 0.0324 - val_loss: 0.0221 - val_mape: 24.6531 - val_mae: 0.1240\n",
      "Epoch 57/100\n",
      "1105/1105 [==============================] - 34s 31ms/step - loss: 0.0020 - mape: 9408.4990 - mae: 0.0327 - val_loss: 0.0219 - val_mape: 25.0707 - val_mae: 0.1250\n",
      "Epoch 58/100\n",
      "1105/1105 [==============================] - 34s 31ms/step - loss: 0.0019 - mape: 9165.3799 - mae: 0.0319 - val_loss: 0.0214 - val_mape: 24.4702 - val_mae: 0.1226\n",
      "Epoch 59/100\n",
      "1105/1105 [==============================] - 35s 31ms/step - loss: 0.0019 - mape: 9248.0234 - mae: 0.0318 - val_loss: 0.0197 - val_mape: 24.3293 - val_mae: 0.1171\n",
      "Epoch 60/100\n",
      "1105/1105 [==============================] - 34s 31ms/step - loss: 0.0019 - mape: 9370.3457 - mae: 0.0318 - val_loss: 0.0245 - val_mape: 27.2115 - val_mae: 0.1339\n",
      "Epoch 61/100\n",
      "1105/1105 [==============================] - 34s 31ms/step - loss: 0.0018 - mape: 9406.9658 - mae: 0.0313 - val_loss: 0.0194 - val_mape: 25.1168 - val_mae: 0.1194\n",
      "Epoch 62/100\n",
      "1105/1105 [==============================] - 34s 31ms/step - loss: 0.0018 - mape: 9153.7188 - mae: 0.0310 - val_loss: 0.0200 - val_mape: 24.6684 - val_mae: 0.1207\n",
      "Epoch 63/100\n",
      "1105/1105 [==============================] - 34s 31ms/step - loss: 0.0017 - mape: 9140.2148 - mae: 0.0307 - val_loss: 0.0212 - val_mape: 24.3020 - val_mae: 0.1219\n",
      "Epoch 64/100\n",
      "1105/1105 [==============================] - 34s 30ms/step - loss: 0.0017 - mape: 9025.3477 - mae: 0.0306 - val_loss: 0.0250 - val_mape: 27.0534 - val_mae: 0.1342\n",
      "Epoch 65/100\n",
      "1105/1105 [==============================] - 34s 31ms/step - loss: 0.0017 - mape: 8912.8633 - mae: 0.0304 - val_loss: 0.0211 - val_mape: 25.7614 - val_mae: 0.1237\n",
      "Epoch 66/100\n",
      "1105/1105 [==============================] - 34s 31ms/step - loss: 0.0017 - mape: 8957.0498 - mae: 0.0305 - val_loss: 0.0238 - val_mape: 27.3230 - val_mae: 0.1330\n",
      "Epoch 67/100\n",
      "1105/1105 [==============================] - 34s 31ms/step - loss: 0.0016 - mape: 8997.7900 - mae: 0.0299 - val_loss: 0.0196 - val_mape: 24.2172 - val_mae: 0.1191\n",
      "Epoch 68/100\n",
      "1105/1105 [==============================] - 34s 31ms/step - loss: 0.0016 - mape: 9178.8154 - mae: 0.0301 - val_loss: 0.0230 - val_mape: 24.8423 - val_mae: 0.1261\n",
      "Epoch 69/100\n",
      "1105/1105 [==============================] - 35s 31ms/step - loss: 0.0016 - mape: 9036.7988 - mae: 0.0293 - val_loss: 0.0286 - val_mape: 28.7302 - val_mae: 0.1432\n",
      "Epoch 70/100\n",
      "1105/1105 [==============================] - 34s 30ms/step - loss: 0.0016 - mape: 9173.6006 - mae: 0.0299 - val_loss: 0.0243 - val_mape: 26.8512 - val_mae: 0.1323\n",
      "Epoch 71/100\n",
      "1105/1105 [==============================] - 34s 31ms/step - loss: 0.0015 - mape: 9264.2920 - mae: 0.0290 - val_loss: 0.0222 - val_mape: 26.1728 - val_mae: 0.1277\n",
      "Epoch 72/100\n",
      "1105/1105 [==============================] - 34s 31ms/step - loss: 0.0016 - mape: 9136.9043 - mae: 0.0293 - val_loss: 0.0221 - val_mape: 25.7309 - val_mae: 0.1265\n",
      "Epoch 73/100\n",
      "1105/1105 [==============================] - 34s 31ms/step - loss: 0.0015 - mape: 8979.4199 - mae: 0.0289 - val_loss: 0.0207 - val_mape: 25.2480 - val_mae: 0.1212\n",
      "Epoch 74/100\n",
      "1105/1105 [==============================] - 35s 31ms/step - loss: 0.0016 - mape: 9084.9531 - mae: 0.0293 - val_loss: 0.0226 - val_mape: 25.5787 - val_mae: 0.1270\n",
      "Epoch 75/100\n",
      "1105/1105 [==============================] - 35s 31ms/step - loss: 0.0015 - mape: 9023.7393 - mae: 0.0283 - val_loss: 0.0231 - val_mape: 25.4318 - val_mae: 0.1270\n",
      "Epoch 76/100\n",
      "1105/1105 [==============================] - 34s 31ms/step - loss: 0.0015 - mape: 9047.1572 - mae: 0.0285 - val_loss: 0.0197 - val_mape: 24.1876 - val_mae: 0.1179\n",
      "Epoch 77/100\n",
      "1105/1105 [==============================] - 35s 31ms/step - loss: 0.0016 - mape: 9400.0088 - mae: 0.0294 - val_loss: 0.0243 - val_mape: 26.3366 - val_mae: 0.1299\n",
      "Epoch 78/100\n",
      "1105/1105 [==============================] - 35s 31ms/step - loss: 0.0014 - mape: 9146.6533 - mae: 0.0277 - val_loss: 0.0229 - val_mape: 25.4052 - val_mae: 0.1274\n",
      "Epoch 79/100\n",
      "1105/1105 [==============================] - 34s 31ms/step - loss: 0.0014 - mape: 9001.7100 - mae: 0.0280 - val_loss: 0.0247 - val_mape: 26.9156 - val_mae: 0.1338\n",
      "Epoch 80/100\n",
      "1105/1105 [==============================] - 34s 31ms/step - loss: 0.0015 - mape: 8981.1230 - mae: 0.0284 - val_loss: 0.0224 - val_mape: 25.5972 - val_mae: 0.1267\n",
      "Epoch 81/100\n",
      "1105/1105 [==============================] - 35s 31ms/step - loss: 0.0014 - mape: 8899.3916 - mae: 0.0275 - val_loss: 0.0212 - val_mape: 25.1825 - val_mae: 0.1223\n",
      "Epoch 82/100\n",
      "1105/1105 [==============================] - 34s 31ms/step - loss: 0.0014 - mape: 9150.9385 - mae: 0.0277 - val_loss: 0.0232 - val_mape: 26.5948 - val_mae: 0.1292\n",
      "Epoch 83/100\n",
      "1105/1105 [==============================] - 31s 28ms/step - loss: 0.0013 - mape: 9059.2578 - mae: 0.0272 - val_loss: 0.0245 - val_mape: 26.9021 - val_mae: 0.1327\n",
      "Epoch 84/100\n",
      "1105/1105 [==============================] - 29s 26ms/step - loss: 0.0014 - mape: 8933.1270 - mae: 0.0277 - val_loss: 0.0245 - val_mape: 27.1658 - val_mae: 0.1343\n",
      "Epoch 85/100\n",
      "1105/1105 [==============================] - 29s 26ms/step - loss: 0.0013 - mape: 8976.5830 - mae: 0.0272 - val_loss: 0.0238 - val_mape: 26.4156 - val_mae: 0.1302\n",
      "Epoch 86/100\n",
      "1105/1105 [==============================] - 28s 26ms/step - loss: 0.0013 - mape: 8646.0410 - mae: 0.0270 - val_loss: 0.0227 - val_mape: 25.0328 - val_mae: 0.1250\n",
      "Epoch 87/100\n",
      "1105/1105 [==============================] - 28s 26ms/step - loss: 0.0013 - mape: 9137.8203 - mae: 0.0267 - val_loss: 0.0185 - val_mape: 23.6606 - val_mae: 0.1130\n",
      "Epoch 88/100\n",
      "1105/1105 [==============================] - 28s 26ms/step - loss: 0.0013 - mape: 8853.3789 - mae: 0.0271 - val_loss: 0.0245 - val_mape: 26.8255 - val_mae: 0.1320\n",
      "Epoch 89/100\n",
      "1105/1105 [==============================] - 29s 26ms/step - loss: 0.0013 - mape: 8999.6934 - mae: 0.0270 - val_loss: 0.0235 - val_mape: 26.2037 - val_mae: 0.1309\n",
      "Epoch 90/100\n",
      "1105/1105 [==============================] - 29s 26ms/step - loss: 0.0013 - mape: 9004.4932 - mae: 0.0270 - val_loss: 0.0206 - val_mape: 25.9010 - val_mae: 0.1216\n",
      "Epoch 91/100\n",
      "1105/1105 [==============================] - 29s 26ms/step - loss: 0.0014 - mape: 9026.6055 - mae: 0.0272 - val_loss: 0.0223 - val_mape: 25.3208 - val_mae: 0.1262\n",
      "Epoch 92/100\n",
      "1105/1105 [==============================] - 29s 26ms/step - loss: 0.0012 - mape: 9061.1055 - mae: 0.0258 - val_loss: 0.0277 - val_mape: 28.4856 - val_mae: 0.1411\n",
      "Epoch 93/100\n"
     ]
    },
    {
     "name": "stdout",
     "output_type": "stream",
     "text": [
      "1105/1105 [==============================] - 29s 26ms/step - loss: 0.0012 - mape: 8984.2334 - mae: 0.0260 - val_loss: 0.0228 - val_mape: 26.9533 - val_mae: 0.1300\n",
      "Epoch 94/100\n",
      "1105/1105 [==============================] - 29s 26ms/step - loss: 0.0013 - mape: 8908.3516 - mae: 0.0270 - val_loss: 0.0254 - val_mape: 26.6603 - val_mae: 0.1330\n",
      "Epoch 95/100\n",
      "1105/1105 [==============================] - 29s 26ms/step - loss: 0.0012 - mape: 8986.3340 - mae: 0.0262 - val_loss: 0.0204 - val_mape: 24.1533 - val_mae: 0.1197\n",
      "Epoch 96/100\n",
      "1105/1105 [==============================] - 29s 26ms/step - loss: 0.0012 - mape: 9017.8809 - mae: 0.0255 - val_loss: 0.0223 - val_mape: 25.0466 - val_mae: 0.1244\n",
      "Epoch 97/100\n",
      "1105/1105 [==============================] - 29s 26ms/step - loss: 0.0012 - mape: 8929.2305 - mae: 0.0256 - val_loss: 0.0206 - val_mape: 24.4516 - val_mae: 0.1189\n",
      "Epoch 98/100\n",
      "1105/1105 [==============================] - 29s 26ms/step - loss: 0.0011 - mape: 8966.2754 - mae: 0.0254 - val_loss: 0.0191 - val_mape: 25.0513 - val_mae: 0.1165\n",
      "Epoch 99/100\n",
      "1105/1105 [==============================] - 29s 26ms/step - loss: 0.0012 - mape: 9009.0713 - mae: 0.0254 - val_loss: 0.0201 - val_mape: 24.4236 - val_mae: 0.1186\n",
      "Epoch 100/100\n",
      "1105/1105 [==============================] - 28s 26ms/step - loss: 0.0012 - mape: 9012.3975 - mae: 0.0259 - val_loss: 0.0211 - val_mape: 24.7077 - val_mae: 0.1209\n"
     ]
    },
    {
     "data": {
      "text/plain": [
       "<keras.callbacks.History at 0x2a93265e580>"
      ]
     },
     "execution_count": 22,
     "metadata": {},
     "output_type": "execute_result"
    }
   ],
   "source": [
    "model.fit(X_train, Y_train, epochs= epochs, batch_size= batchSize, verbose= 1, shuffle= True, validation_data= (X_valid, Y_valid))"
   ]
  },
  {
   "cell_type": "code",
   "execution_count": 23,
   "id": "cd839153",
   "metadata": {},
   "outputs": [
    {
     "name": "stdout",
     "output_type": "stream",
     "text": [
      "Total execution time in seconds: 3343.1898629665375\n"
     ]
    }
   ],
   "source": [
    "calcExecTime = (time.time() - startTime)\n",
    "print('Total execution time in seconds: ' + str(calcExecTime))"
   ]
  },
  {
   "cell_type": "markdown",
   "id": "72aafa74",
   "metadata": {},
   "source": [
    "### MAKING PREDICTIONS AND GENERATING RESULTS"
   ]
  },
  {
   "cell_type": "code",
   "execution_count": 24,
   "id": "259bfb49",
   "metadata": {},
   "outputs": [
    {
     "name": "stdout",
     "output_type": "stream",
     "text": [
      "6/6 [==============================] - 1s 7ms/step\n"
     ]
    }
   ],
   "source": [
    "predictions = model.predict(X_test)"
   ]
  },
  {
   "cell_type": "code",
   "execution_count": 25,
   "id": "2912d431",
   "metadata": {},
   "outputs": [
    {
     "data": {
      "text/plain": [
       "array([0.27845496, 0.24700826, 0.23968314, ..., 0.3392128 , 0.29750717,\n",
       "       0.270818  ], dtype=float32)"
      ]
     },
     "execution_count": 25,
     "metadata": {},
     "output_type": "execute_result"
    }
   ],
   "source": [
    "predArr = predictions.reshape(predictions.shape[0] * predictions.shape[1], predictions.shape[2]).ravel()\n",
    "predArr"
   ]
  },
  {
   "cell_type": "code",
   "execution_count": 26,
   "id": "b01889f2",
   "metadata": {},
   "outputs": [
    {
     "data": {
      "text/plain": [
       "array([0.37099958, 0.385915  , 0.40530228, ..., 0.33297492, 0.3007069 ,\n",
       "       0.27462008])"
      ]
     },
     "execution_count": 26,
     "metadata": {},
     "output_type": "execute_result"
    }
   ],
   "source": [
    "Y_testArr = Y_test.reshape(Y_test.shape[0] * Y_test.shape[1], Y_test.shape[2]).ravel()\n",
    "Y_testArr"
   ]
  },
  {
   "cell_type": "code",
   "execution_count": 27,
   "id": "799c97e8",
   "metadata": {},
   "outputs": [],
   "source": [
    "def inverse_transform(df):\n",
    "    column_names = df.columns\n",
    "    for col in column_names:\n",
    "        df[col] = ValScaler.inverse_transform(df[[col]]) \n",
    "    return df"
   ]
  },
  {
   "cell_type": "code",
   "execution_count": 28,
   "id": "afa81e30",
   "metadata": {},
   "outputs": [
    {
     "data": {
      "text/html": [
       "<div>\n",
       "<style scoped>\n",
       "    .dataframe tbody tr th:only-of-type {\n",
       "        vertical-align: middle;\n",
       "    }\n",
       "\n",
       "    .dataframe tbody tr th {\n",
       "        vertical-align: top;\n",
       "    }\n",
       "\n",
       "    .dataframe thead th {\n",
       "        text-align: right;\n",
       "    }\n",
       "</style>\n",
       "<table border=\"1\" class=\"dataframe\">\n",
       "  <thead>\n",
       "    <tr style=\"text-align: right;\">\n",
       "      <th></th>\n",
       "      <th>Values</th>\n",
       "      <th>Predictions</th>\n",
       "    </tr>\n",
       "  </thead>\n",
       "  <tbody>\n",
       "    <tr>\n",
       "      <th>0</th>\n",
       "      <td>1261.46</td>\n",
       "      <td>1093.624756</td>\n",
       "    </tr>\n",
       "    <tr>\n",
       "      <th>1</th>\n",
       "      <td>1288.51</td>\n",
       "      <td>1036.594238</td>\n",
       "    </tr>\n",
       "    <tr>\n",
       "      <th>2</th>\n",
       "      <td>1323.67</td>\n",
       "      <td>1023.309753</td>\n",
       "    </tr>\n",
       "    <tr>\n",
       "      <th>3</th>\n",
       "      <td>1348.93</td>\n",
       "      <td>1034.205200</td>\n",
       "    </tr>\n",
       "    <tr>\n",
       "      <th>4</th>\n",
       "      <td>1582.86</td>\n",
       "      <td>1128.434082</td>\n",
       "    </tr>\n",
       "    <tr>\n",
       "      <th>...</th>\n",
       "      <td>...</td>\n",
       "      <td>...</td>\n",
       "    </tr>\n",
       "    <tr>\n",
       "      <th>4363</th>\n",
       "      <td>1367.13</td>\n",
       "      <td>1385.406982</td>\n",
       "    </tr>\n",
       "    <tr>\n",
       "      <th>4364</th>\n",
       "      <td>1261.40</td>\n",
       "      <td>1287.860352</td>\n",
       "    </tr>\n",
       "    <tr>\n",
       "      <th>4365</th>\n",
       "      <td>1192.50</td>\n",
       "      <td>1203.812866</td>\n",
       "    </tr>\n",
       "    <tr>\n",
       "      <th>4366</th>\n",
       "      <td>1133.98</td>\n",
       "      <td>1128.177124</td>\n",
       "    </tr>\n",
       "    <tr>\n",
       "      <th>4367</th>\n",
       "      <td>1086.67</td>\n",
       "      <td>1079.774658</td>\n",
       "    </tr>\n",
       "  </tbody>\n",
       "</table>\n",
       "<p>4368 rows × 2 columns</p>\n",
       "</div>"
      ],
      "text/plain": [
       "       Values  Predictions\n",
       "0     1261.46  1093.624756\n",
       "1     1288.51  1036.594238\n",
       "2     1323.67  1023.309753\n",
       "3     1348.93  1034.205200\n",
       "4     1582.86  1128.434082\n",
       "...       ...          ...\n",
       "4363  1367.13  1385.406982\n",
       "4364  1261.40  1287.860352\n",
       "4365  1192.50  1203.812866\n",
       "4366  1133.98  1128.177124\n",
       "4367  1086.67  1079.774658\n",
       "\n",
       "[4368 rows x 2 columns]"
      ]
     },
     "execution_count": 28,
     "metadata": {},
     "output_type": "execute_result"
    }
   ],
   "source": [
    "comparisionDf = pd.DataFrame(data= {\"Values\": Y_testArr, \"Predictions\": predArr})\n",
    "comparisionDf = inverse_transform(comparisionDf)\n",
    "comparisionDf"
   ]
  },
  {
   "cell_type": "code",
   "execution_count": 29,
   "id": "88222bae",
   "metadata": {},
   "outputs": [
    {
     "data": {
      "text/plain": [
       "8.345574684755794"
      ]
     },
     "execution_count": 29,
     "metadata": {},
     "output_type": "execute_result"
    }
   ],
   "source": [
    "mape(comparisionDf[\"Values\"], comparisionDf[\"Predictions\"])"
   ]
  }
 ],
 "metadata": {
  "kernelspec": {
   "display_name": "Python 3 (ipykernel)",
   "language": "python",
   "name": "python3"
  },
  "language_info": {
   "codemirror_mode": {
    "name": "ipython",
    "version": 3
   },
   "file_extension": ".py",
   "mimetype": "text/x-python",
   "name": "python",
   "nbconvert_exporter": "python",
   "pygments_lexer": "ipython3",
   "version": "3.9.12"
  }
 },
 "nbformat": 4,
 "nbformat_minor": 5
}
