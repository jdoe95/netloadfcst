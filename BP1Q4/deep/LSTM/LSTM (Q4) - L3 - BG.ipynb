{
 "cells": [
  {
   "cell_type": "code",
   "execution_count": 1,
   "id": "5f61b29f",
   "metadata": {},
   "outputs": [
    {
     "name": "stdout",
     "output_type": "stream",
     "text": [
      "Num GPUs Available:  1\n"
     ]
    }
   ],
   "source": [
    "import pandas as pd\n",
    "import numpy as np\n",
    "import os\n",
    "import matplotlib.pyplot as plt\n",
    "from datetime import datetime\n",
    "from sklearn.preprocessing import MinMaxScaler, RobustScaler, StandardScaler\n",
    "import time\n",
    "\n",
    "import tensorflow as tf\n",
    "tf.random.set_seed(42)\n",
    "\n",
    "def mape(y_true, y_pred):\n",
    "    y_true, y_pred = np.array(y_true), np.array(y_pred)\n",
    "    return np.mean(np.abs((y_true - y_pred) / max(y_true))) * 100\n",
    "\n",
    "def RMSELoss(yhat,y):\n",
    "    return torch.sqrt(torch.mean((yhat-y)**2))\n",
    "\n",
    "print(\"Num GPUs Available: \", len(tf.config.list_physical_devices('GPU')))"
   ]
  },
  {
   "cell_type": "code",
   "execution_count": 2,
   "id": "cea0abe2",
   "metadata": {},
   "outputs": [
    {
     "name": "stdout",
     "output_type": "stream",
     "text": [
      "['AT.csv', 'BE.csv', 'BG.csv', 'CH.csv', 'CZ.csv', 'DK.csv', 'ES.csv', 'FR.csv', 'GR.csv', 'IT.csv', 'NL.csv', 'PT.csv', 'SI.csv', 'SK.csv']\n"
     ]
    }
   ],
   "source": [
    "# Specifying the path of file\n",
    "path= r\"C:\\Users\\sashah8\\OneDrive - North Carolina State University\\Desktop\\Q4\\Data\\L3\\data_cleaned\"\n",
    "\n",
    "# Listing just the required files\n",
    "fileList = os.listdir(path)\n",
    "fileList.remove(\"Date.csv\")\n",
    "\n",
    "# Previewing the required file names\n",
    "print(fileList)"
   ]
  },
  {
   "cell_type": "code",
   "execution_count": 3,
   "id": "a6fe9396",
   "metadata": {},
   "outputs": [
    {
     "data": {
      "text/html": [
       "<div>\n",
       "<style scoped>\n",
       "    .dataframe tbody tr th:only-of-type {\n",
       "        vertical-align: middle;\n",
       "    }\n",
       "\n",
       "    .dataframe tbody tr th {\n",
       "        vertical-align: top;\n",
       "    }\n",
       "\n",
       "    .dataframe thead th {\n",
       "        text-align: right;\n",
       "    }\n",
       "</style>\n",
       "<table border=\"1\" class=\"dataframe\">\n",
       "  <thead>\n",
       "    <tr style=\"text-align: right;\">\n",
       "      <th></th>\n",
       "      <th>Demand</th>\n",
       "      <th>Normalized_net</th>\n",
       "      <th>Temperature</th>\n",
       "      <th>DNI</th>\n",
       "      <th>DHI</th>\n",
       "    </tr>\n",
       "  </thead>\n",
       "  <tbody>\n",
       "    <tr>\n",
       "      <th>0</th>\n",
       "      <td>0.0</td>\n",
       "      <td>0.071032</td>\n",
       "      <td>-13.350</td>\n",
       "      <td>0.0</td>\n",
       "      <td>0.0</td>\n",
       "    </tr>\n",
       "    <tr>\n",
       "      <th>1</th>\n",
       "      <td>4585.0</td>\n",
       "      <td>0.624909</td>\n",
       "      <td>-13.594</td>\n",
       "      <td>0.0</td>\n",
       "      <td>0.0</td>\n",
       "    </tr>\n",
       "    <tr>\n",
       "      <th>2</th>\n",
       "      <td>4440.0</td>\n",
       "      <td>0.607393</td>\n",
       "      <td>-13.781</td>\n",
       "      <td>0.0</td>\n",
       "      <td>0.0</td>\n",
       "    </tr>\n",
       "    <tr>\n",
       "      <th>3</th>\n",
       "      <td>4418.0</td>\n",
       "      <td>0.604735</td>\n",
       "      <td>-14.042</td>\n",
       "      <td>0.0</td>\n",
       "      <td>0.0</td>\n",
       "    </tr>\n",
       "    <tr>\n",
       "      <th>4</th>\n",
       "      <td>4393.0</td>\n",
       "      <td>0.601715</td>\n",
       "      <td>-14.340</td>\n",
       "      <td>0.0</td>\n",
       "      <td>0.0</td>\n",
       "    </tr>\n",
       "    <tr>\n",
       "      <th>...</th>\n",
       "      <td>...</td>\n",
       "      <td>...</td>\n",
       "      <td>...</td>\n",
       "      <td>...</td>\n",
       "      <td>...</td>\n",
       "    </tr>\n",
       "    <tr>\n",
       "      <th>43819</th>\n",
       "      <td>4760.0</td>\n",
       "      <td>0.646050</td>\n",
       "      <td>-1.351</td>\n",
       "      <td>0.0</td>\n",
       "      <td>0.0</td>\n",
       "    </tr>\n",
       "    <tr>\n",
       "      <th>43820</th>\n",
       "      <td>4613.0</td>\n",
       "      <td>0.628292</td>\n",
       "      <td>-1.009</td>\n",
       "      <td>0.0</td>\n",
       "      <td>0.0</td>\n",
       "    </tr>\n",
       "    <tr>\n",
       "      <th>43821</th>\n",
       "      <td>4558.0</td>\n",
       "      <td>0.621648</td>\n",
       "      <td>-0.986</td>\n",
       "      <td>0.0</td>\n",
       "      <td>0.0</td>\n",
       "    </tr>\n",
       "    <tr>\n",
       "      <th>43822</th>\n",
       "      <td>4410.0</td>\n",
       "      <td>0.603769</td>\n",
       "      <td>-1.270</td>\n",
       "      <td>0.0</td>\n",
       "      <td>0.0</td>\n",
       "    </tr>\n",
       "    <tr>\n",
       "      <th>43823</th>\n",
       "      <td>4243.0</td>\n",
       "      <td>0.583595</td>\n",
       "      <td>-1.826</td>\n",
       "      <td>0.0</td>\n",
       "      <td>0.0</td>\n",
       "    </tr>\n",
       "  </tbody>\n",
       "</table>\n",
       "<p>43824 rows × 5 columns</p>\n",
       "</div>"
      ],
      "text/plain": [
       "       Demand  Normalized_net  Temperature  DNI  DHI\n",
       "0         0.0        0.071032      -13.350  0.0  0.0\n",
       "1      4585.0        0.624909      -13.594  0.0  0.0\n",
       "2      4440.0        0.607393      -13.781  0.0  0.0\n",
       "3      4418.0        0.604735      -14.042  0.0  0.0\n",
       "4      4393.0        0.601715      -14.340  0.0  0.0\n",
       "...       ...             ...          ...  ...  ...\n",
       "43819  4760.0        0.646050       -1.351  0.0  0.0\n",
       "43820  4613.0        0.628292       -1.009  0.0  0.0\n",
       "43821  4558.0        0.621648       -0.986  0.0  0.0\n",
       "43822  4410.0        0.603769       -1.270  0.0  0.0\n",
       "43823  4243.0        0.583595       -1.826  0.0  0.0\n",
       "\n",
       "[43824 rows x 5 columns]"
      ]
     },
     "execution_count": 3,
     "metadata": {},
     "output_type": "execute_result"
    }
   ],
   "source": [
    "# Just for previewing the columns\n",
    "pd.read_csv(os.path.join(path, fileList[2]))"
   ]
  },
  {
   "cell_type": "markdown",
   "id": "9ad4906c",
   "metadata": {
    "pycharm": {
     "name": "#%% md\n"
    }
   },
   "source": [
    "### PROCESSING THE DATA"
   ]
  },
  {
   "cell_type": "code",
   "execution_count": 4,
   "id": "f29f6db2",
   "metadata": {},
   "outputs": [
    {
     "data": {
      "text/html": [
       "<div>\n",
       "<style scoped>\n",
       "    .dataframe tbody tr th:only-of-type {\n",
       "        vertical-align: middle;\n",
       "    }\n",
       "\n",
       "    .dataframe tbody tr th {\n",
       "        vertical-align: top;\n",
       "    }\n",
       "\n",
       "    .dataframe thead th {\n",
       "        text-align: right;\n",
       "    }\n",
       "</style>\n",
       "<table border=\"1\" class=\"dataframe\">\n",
       "  <thead>\n",
       "    <tr style=\"text-align: right;\">\n",
       "      <th></th>\n",
       "      <th>Load_BG</th>\n",
       "      <th>Temp_BG</th>\n",
       "    </tr>\n",
       "  </thead>\n",
       "  <tbody>\n",
       "    <tr>\n",
       "      <th>0</th>\n",
       "      <td>0.0</td>\n",
       "      <td>-13.350</td>\n",
       "    </tr>\n",
       "    <tr>\n",
       "      <th>1</th>\n",
       "      <td>4585.0</td>\n",
       "      <td>-13.594</td>\n",
       "    </tr>\n",
       "    <tr>\n",
       "      <th>2</th>\n",
       "      <td>4440.0</td>\n",
       "      <td>-13.781</td>\n",
       "    </tr>\n",
       "    <tr>\n",
       "      <th>3</th>\n",
       "      <td>4418.0</td>\n",
       "      <td>-14.042</td>\n",
       "    </tr>\n",
       "    <tr>\n",
       "      <th>4</th>\n",
       "      <td>4393.0</td>\n",
       "      <td>-14.340</td>\n",
       "    </tr>\n",
       "    <tr>\n",
       "      <th>...</th>\n",
       "      <td>...</td>\n",
       "      <td>...</td>\n",
       "    </tr>\n",
       "    <tr>\n",
       "      <th>43819</th>\n",
       "      <td>4760.0</td>\n",
       "      <td>-1.351</td>\n",
       "    </tr>\n",
       "    <tr>\n",
       "      <th>43820</th>\n",
       "      <td>4613.0</td>\n",
       "      <td>-1.009</td>\n",
       "    </tr>\n",
       "    <tr>\n",
       "      <th>43821</th>\n",
       "      <td>4558.0</td>\n",
       "      <td>-0.986</td>\n",
       "    </tr>\n",
       "    <tr>\n",
       "      <th>43822</th>\n",
       "      <td>4410.0</td>\n",
       "      <td>-1.270</td>\n",
       "    </tr>\n",
       "    <tr>\n",
       "      <th>43823</th>\n",
       "      <td>4243.0</td>\n",
       "      <td>-1.826</td>\n",
       "    </tr>\n",
       "  </tbody>\n",
       "</table>\n",
       "<p>43824 rows × 2 columns</p>\n",
       "</div>"
      ],
      "text/plain": [
       "       Load_BG  Temp_BG\n",
       "0          0.0  -13.350\n",
       "1       4585.0  -13.594\n",
       "2       4440.0  -13.781\n",
       "3       4418.0  -14.042\n",
       "4       4393.0  -14.340\n",
       "...        ...      ...\n",
       "43819   4760.0   -1.351\n",
       "43820   4613.0   -1.009\n",
       "43821   4558.0   -0.986\n",
       "43822   4410.0   -1.270\n",
       "43823   4243.0   -1.826\n",
       "\n",
       "[43824 rows x 2 columns]"
      ]
     },
     "execution_count": 4,
     "metadata": {},
     "output_type": "execute_result"
    }
   ],
   "source": [
    "# Restricting the load data to a single zone\n",
    "fileName  = fileList[2]\n",
    "\n",
    "zoneData = pd.read_csv(os.path.join(path, fileName), usecols= [\"Demand\", \"Temperature\"])\n",
    "zoneData.columns = [\"Load_\"+str(fileName[:-4]), \"Temp_\"+str(fileName[:-4])]\n",
    "\n",
    "# For fixing one missing row\n",
    "# zoneData = pd.concat([zoneData.loc[[0]], zoneData], axis= 0).reset_index(drop= True)\n",
    "\n",
    "zoneData"
   ]
  },
  {
   "cell_type": "markdown",
   "id": "01cec4bd",
   "metadata": {},
   "source": [
    "### FEATURE ENGINEERING AND SPLITTING INTO TRAIN-TEST SPLIT"
   ]
  },
  {
   "cell_type": "code",
   "execution_count": 5,
   "id": "a1e1e8a3",
   "metadata": {},
   "outputs": [],
   "source": [
    "def lagGenerator(dF, lagList):\n",
    "    dF_temp = dF.filter(regex= \"Load\").copy()\n",
    "    \n",
    "    for i in lagList:\n",
    "        dF_temp.loc[:, \"Lag-\" + str(i)] = dF_temp.iloc[:,[0]].shift(i*24)\n",
    "    \n",
    "    return(dF_temp.filter(regex= \"Lag\"))"
   ]
  },
  {
   "cell_type": "code",
   "execution_count": 6,
   "id": "159a2a82",
   "metadata": {},
   "outputs": [
    {
     "data": {
      "text/html": [
       "<div>\n",
       "<style scoped>\n",
       "    .dataframe tbody tr th:only-of-type {\n",
       "        vertical-align: middle;\n",
       "    }\n",
       "\n",
       "    .dataframe tbody tr th {\n",
       "        vertical-align: top;\n",
       "    }\n",
       "\n",
       "    .dataframe thead th {\n",
       "        text-align: right;\n",
       "    }\n",
       "</style>\n",
       "<table border=\"1\" class=\"dataframe\">\n",
       "  <thead>\n",
       "    <tr style=\"text-align: right;\">\n",
       "      <th></th>\n",
       "      <th>Lag-2</th>\n",
       "      <th>Lag-7</th>\n",
       "    </tr>\n",
       "  </thead>\n",
       "  <tbody>\n",
       "    <tr>\n",
       "      <th>0</th>\n",
       "      <td>NaN</td>\n",
       "      <td>NaN</td>\n",
       "    </tr>\n",
       "    <tr>\n",
       "      <th>1</th>\n",
       "      <td>NaN</td>\n",
       "      <td>NaN</td>\n",
       "    </tr>\n",
       "  </tbody>\n",
       "</table>\n",
       "</div>"
      ],
      "text/plain": [
       "   Lag-2  Lag-7\n",
       "0    NaN    NaN\n",
       "1    NaN    NaN"
      ]
     },
     "execution_count": 6,
     "metadata": {},
     "output_type": "execute_result"
    }
   ],
   "source": [
    "Load_lags = lagGenerator(dF=zoneData, lagList=[2,7])\n",
    "Load_lags.head(2)"
   ]
  },
  {
   "cell_type": "code",
   "execution_count": 7,
   "id": "05896954",
   "metadata": {},
   "outputs": [
    {
     "data": {
      "text/html": [
       "<div>\n",
       "<style scoped>\n",
       "    .dataframe tbody tr th:only-of-type {\n",
       "        vertical-align: middle;\n",
       "    }\n",
       "\n",
       "    .dataframe tbody tr th {\n",
       "        vertical-align: top;\n",
       "    }\n",
       "\n",
       "    .dataframe thead th {\n",
       "        text-align: right;\n",
       "    }\n",
       "</style>\n",
       "<table border=\"1\" class=\"dataframe\">\n",
       "  <thead>\n",
       "    <tr style=\"text-align: right;\">\n",
       "      <th></th>\n",
       "      <th>Load_BG</th>\n",
       "      <th>Temp_BG</th>\n",
       "      <th>Lag-2</th>\n",
       "      <th>Lag-7</th>\n",
       "    </tr>\n",
       "  </thead>\n",
       "  <tbody>\n",
       "    <tr>\n",
       "      <th>0</th>\n",
       "      <td>4987.0</td>\n",
       "      <td>-12.111</td>\n",
       "      <td>4532.0</td>\n",
       "      <td>0.0</td>\n",
       "    </tr>\n",
       "    <tr>\n",
       "      <th>1</th>\n",
       "      <td>4918.0</td>\n",
       "      <td>-12.294</td>\n",
       "      <td>4487.0</td>\n",
       "      <td>4585.0</td>\n",
       "    </tr>\n",
       "    <tr>\n",
       "      <th>2</th>\n",
       "      <td>4964.0</td>\n",
       "      <td>-12.553</td>\n",
       "      <td>4519.0</td>\n",
       "      <td>4440.0</td>\n",
       "    </tr>\n",
       "    <tr>\n",
       "      <th>3</th>\n",
       "      <td>5081.0</td>\n",
       "      <td>-12.860</td>\n",
       "      <td>4678.0</td>\n",
       "      <td>4418.0</td>\n",
       "    </tr>\n",
       "    <tr>\n",
       "      <th>4</th>\n",
       "      <td>5570.0</td>\n",
       "      <td>-13.264</td>\n",
       "      <td>5190.0</td>\n",
       "      <td>4393.0</td>\n",
       "    </tr>\n",
       "    <tr>\n",
       "      <th>...</th>\n",
       "      <td>...</td>\n",
       "      <td>...</td>\n",
       "      <td>...</td>\n",
       "      <td>...</td>\n",
       "    </tr>\n",
       "    <tr>\n",
       "      <th>43651</th>\n",
       "      <td>4760.0</td>\n",
       "      <td>-1.351</td>\n",
       "      <td>5053.0</td>\n",
       "      <td>4146.0</td>\n",
       "    </tr>\n",
       "    <tr>\n",
       "      <th>43652</th>\n",
       "      <td>4613.0</td>\n",
       "      <td>-1.009</td>\n",
       "      <td>4956.0</td>\n",
       "      <td>4108.0</td>\n",
       "    </tr>\n",
       "    <tr>\n",
       "      <th>43653</th>\n",
       "      <td>4558.0</td>\n",
       "      <td>-0.986</td>\n",
       "      <td>4631.0</td>\n",
       "      <td>3964.0</td>\n",
       "    </tr>\n",
       "    <tr>\n",
       "      <th>43654</th>\n",
       "      <td>4410.0</td>\n",
       "      <td>-1.270</td>\n",
       "      <td>4520.0</td>\n",
       "      <td>3734.0</td>\n",
       "    </tr>\n",
       "    <tr>\n",
       "      <th>43655</th>\n",
       "      <td>4243.0</td>\n",
       "      <td>-1.826</td>\n",
       "      <td>4257.0</td>\n",
       "      <td>3510.0</td>\n",
       "    </tr>\n",
       "  </tbody>\n",
       "</table>\n",
       "<p>43656 rows × 4 columns</p>\n",
       "</div>"
      ],
      "text/plain": [
       "       Load_BG  Temp_BG   Lag-2   Lag-7\n",
       "0       4987.0  -12.111  4532.0     0.0\n",
       "1       4918.0  -12.294  4487.0  4585.0\n",
       "2       4964.0  -12.553  4519.0  4440.0\n",
       "3       5081.0  -12.860  4678.0  4418.0\n",
       "4       5570.0  -13.264  5190.0  4393.0\n",
       "...        ...      ...     ...     ...\n",
       "43651   4760.0   -1.351  5053.0  4146.0\n",
       "43652   4613.0   -1.009  4956.0  4108.0\n",
       "43653   4558.0   -0.986  4631.0  3964.0\n",
       "43654   4410.0   -1.270  4520.0  3734.0\n",
       "43655   4243.0   -1.826  4257.0  3510.0\n",
       "\n",
       "[43656 rows x 4 columns]"
      ]
     },
     "execution_count": 7,
     "metadata": {},
     "output_type": "execute_result"
    }
   ],
   "source": [
    "dataDf = pd.concat([zoneData, Load_lags], axis= 1).dropna(axis= 0).reset_index(drop= True)\n",
    "dataDf"
   ]
  },
  {
   "cell_type": "code",
   "execution_count": 8,
   "id": "6ad25321",
   "metadata": {},
   "outputs": [],
   "source": [
    "# Setting the train-test split ratio\n",
    "ratio = 0.1"
   ]
  },
  {
   "cell_type": "code",
   "execution_count": 9,
   "id": "3c08d963",
   "metadata": {},
   "outputs": [],
   "source": [
    "Num_train, Num_test = int(len(dataDf)/24 * (1 - ratio)) * 24, int(len(dataDf)/24 * ratio) * 24"
   ]
  },
  {
   "cell_type": "code",
   "execution_count": 10,
   "id": "cbe069ff",
   "metadata": {},
   "outputs": [],
   "source": [
    "# Splitting the data into train and test\n",
    "data_train, data_test = dataDf[:Num_train], dataDf[Num_train:]"
   ]
  },
  {
   "cell_type": "code",
   "execution_count": 11,
   "id": "d84e15c4",
   "metadata": {},
   "outputs": [],
   "source": [
    "Num_train, Num_valid = int(len(data_train)/24 * (1 - ratio)) * 24, int(len(data_train)/24 * ratio) * 24"
   ]
  },
  {
   "cell_type": "code",
   "execution_count": 12,
   "id": "c17d1723",
   "metadata": {},
   "outputs": [],
   "source": [
    "# Splitting the data into train and test\n",
    "data_train, data_valid = data_train[:Num_train], data_train[Num_train:]"
   ]
  },
  {
   "cell_type": "markdown",
   "id": "88d32011",
   "metadata": {},
   "source": [
    "### SPLITTING INTO X AND Y PART WITH SEQUENCE BATCHING"
   ]
  },
  {
   "cell_type": "code",
   "execution_count": 13,
   "id": "4ba286ca",
   "metadata": {},
   "outputs": [],
   "source": [
    "X_train_df, Y_train_df = data_train.iloc[:, 1:], data_train.iloc[:, :1]\n",
    "\n",
    "X_valid_df, Y_valid_df = data_valid.iloc[:, 1:], data_valid.iloc[:, :1]\n",
    "\n",
    "X_test_df, Y_test_df = data_test.iloc[:, 1:], data_test.iloc[:, :1]"
   ]
  },
  {
   "cell_type": "code",
   "execution_count": 14,
   "id": "ef1d9079",
   "metadata": {},
   "outputs": [],
   "source": [
    "# Preparing the scaler\n",
    "ValScaler = MinMaxScaler()\n",
    "\n",
    "X_train = ValScaler.fit_transform(X_train_df)\n",
    "X_valid = ValScaler.transform(X_valid_df)\n",
    "X_test = ValScaler.transform(X_test_df)\n",
    "\n",
    "Y_train = ValScaler.fit_transform(Y_train_df)\n",
    "Y_valid = ValScaler.transform(Y_valid_df)\n",
    "Y_test = ValScaler.transform(Y_test_df)"
   ]
  },
  {
   "cell_type": "code",
   "execution_count": 15,
   "id": "43594401",
   "metadata": {},
   "outputs": [],
   "source": [
    "def splitData(dataset):\n",
    "    data = np.array(np.split(dataset, len(dataset)/24))\n",
    "    return data"
   ]
  },
  {
   "cell_type": "code",
   "execution_count": 16,
   "id": "300696b2",
   "metadata": {},
   "outputs": [],
   "source": [
    "def supervisedSet(X_part, Y_part, steps= 24):\n",
    "    X_array, Y_array = np.array(X_part), np.array(Y_part)\n",
    "    X, Y = [], []\n",
    "    \n",
    "    for i in range(len(X_array)):\n",
    "        endIdx = i + steps\n",
    "        \n",
    "        if endIdx > len(X_array):\n",
    "            break\n",
    "        \n",
    "        batch_X, batch_Y = X_array[i:endIdx], Y_array[i:endIdx]\n",
    "        \n",
    "        X.append(batch_X)\n",
    "        Y.append(batch_Y)\n",
    "        \n",
    "    return np.array(X), np.array(Y)"
   ]
  },
  {
   "cell_type": "code",
   "execution_count": 17,
   "id": "fc9cd97d",
   "metadata": {},
   "outputs": [],
   "source": [
    "X_train, Y_train = supervisedSet(X_train, Y_train)\n",
    "\n",
    "X_valid, Y_valid = splitData(X_valid), splitData(Y_valid)\n",
    "\n",
    "X_test, Y_test = splitData(X_test), splitData(Y_test)"
   ]
  },
  {
   "cell_type": "markdown",
   "id": "a2a6bf32",
   "metadata": {},
   "source": [
    "### WORKING ON THE MODEL"
   ]
  },
  {
   "cell_type": "code",
   "execution_count": 18,
   "id": "ff71a98c",
   "metadata": {},
   "outputs": [],
   "source": [
    "epochs = 100\n",
    "batchSize = 32"
   ]
  },
  {
   "cell_type": "code",
   "execution_count": 19,
   "id": "8d600c17",
   "metadata": {},
   "outputs": [],
   "source": [
    "# Encoder-decoder architecture [tanh required to use tensorflow on gpu]\n",
    "model = tf.keras.Sequential([\n",
    "    tf.keras.layers.LSTM(units= 128, activation= \"tanh\", input_shape= (X_train.shape[1], X_train.shape[2]), dropout= 0.2),\n",
    "    tf.keras.layers.RepeatVector(Y_train.shape[1]),\n",
    "    tf.keras.layers.LSTM(units= 128, activation= \"tanh\", return_sequences= True, dropout= 0.2),\n",
    "    tf.keras.layers.TimeDistributed(tf.keras.layers.Dense(units= 128, activation= \"relu\")),\n",
    "    tf.keras.layers.Dropout(0.2),\n",
    "    tf.keras.layers.TimeDistributed(tf.keras.layers.Dense(units= 1))\n",
    "])\n",
    "\n",
    "model.compile(loss= \"mse\", optimizer= \"adam\",  metrics= ['mape', 'mae'])"
   ]
  },
  {
   "cell_type": "code",
   "execution_count": 20,
   "id": "a05c033a",
   "metadata": {},
   "outputs": [],
   "source": [
    "# model = tf.keras.Sequential([\n",
    "#     tf.keras.layers.LSTM(units= 256, activation= \"tanh\", input_shape= (X_train.shape[1], X_train.shape[2])),\n",
    "#     tf.keras.layers.Dense(units= 128, activation= \"tanh\"),\n",
    "#     tf.keras.layers.Dense(units= 1)\n",
    "# ])\n",
    "\n",
    "# model.compile(loss= \"mse\", optimizer= \"adam\",  metrics= ['mape', 'mae'])"
   ]
  },
  {
   "cell_type": "code",
   "execution_count": 21,
   "id": "c9390383",
   "metadata": {},
   "outputs": [],
   "source": [
    "# Storing the start time of model fitting process\n",
    "startTime = time.time()"
   ]
  },
  {
   "cell_type": "code",
   "execution_count": 22,
   "id": "e526e3ed",
   "metadata": {},
   "outputs": [
    {
     "name": "stdout",
     "output_type": "stream",
     "text": [
      "Epoch 1/100\n",
      "1105/1105 [==============================] - 15s 9ms/step - loss: 0.0087 - mape: 15646.9824 - mae: 0.0702 - val_loss: 0.0041 - val_mape: 9.3611 - val_mae: 0.0535\n",
      "Epoch 2/100\n",
      "1105/1105 [==============================] - 9s 9ms/step - loss: 0.0060 - mape: 15040.3291 - mae: 0.0611 - val_loss: 0.0032 - val_mape: 8.7199 - val_mae: 0.0467\n",
      "Epoch 3/100\n",
      "1105/1105 [==============================] - 9s 8ms/step - loss: 0.0037 - mape: 14317.0996 - mae: 0.0455 - val_loss: 0.0027 - val_mape: 7.4936 - val_mae: 0.0423\n",
      "Epoch 4/100\n",
      "1105/1105 [==============================] - 9s 8ms/step - loss: 0.0026 - mape: 13742.3389 - mae: 0.0367 - val_loss: 0.0021 - val_mape: 6.1601 - val_mae: 0.0353\n",
      "Epoch 5/100\n",
      "1105/1105 [==============================] - 9s 8ms/step - loss: 0.0022 - mape: 13638.4990 - mae: 0.0330 - val_loss: 0.0022 - val_mape: 5.9913 - val_mae: 0.0353\n",
      "Epoch 6/100\n",
      "1105/1105 [==============================] - 9s 9ms/step - loss: 0.0020 - mape: 13324.1807 - mae: 0.0310 - val_loss: 0.0017 - val_mape: 5.6884 - val_mae: 0.0329\n",
      "Epoch 7/100\n",
      "1105/1105 [==============================] - 9s 8ms/step - loss: 0.0019 - mape: 13519.6436 - mae: 0.0303 - val_loss: 0.0018 - val_mape: 6.0281 - val_mae: 0.0343\n",
      "Epoch 8/100\n",
      "1105/1105 [==============================] - 8s 7ms/step - loss: 0.0018 - mape: 13363.2676 - mae: 0.0295 - val_loss: 0.0021 - val_mape: 6.4760 - val_mae: 0.0369\n",
      "Epoch 9/100\n",
      "1105/1105 [==============================] - 8s 7ms/step - loss: 0.0017 - mape: 13402.0938 - mae: 0.0287 - val_loss: 0.0023 - val_mape: 6.6999 - val_mae: 0.0393\n",
      "Epoch 10/100\n",
      "1105/1105 [==============================] - 8s 7ms/step - loss: 0.0016 - mape: 13372.5322 - mae: 0.0278 - val_loss: 0.0021 - val_mape: 6.2218 - val_mae: 0.0368\n",
      "Epoch 11/100\n",
      "1105/1105 [==============================] - 8s 7ms/step - loss: 0.0016 - mape: 13384.3281 - mae: 0.0272 - val_loss: 0.0028 - val_mape: 7.8008 - val_mae: 0.0447\n",
      "Epoch 12/100\n",
      "1105/1105 [==============================] - 8s 7ms/step - loss: 0.0016 - mape: 13346.1982 - mae: 0.0267 - val_loss: 0.0030 - val_mape: 7.7598 - val_mae: 0.0454\n",
      "Epoch 13/100\n",
      "1105/1105 [==============================] - 8s 7ms/step - loss: 0.0015 - mape: 13288.2871 - mae: 0.0263 - val_loss: 0.0049 - val_mape: 10.2572 - val_mae: 0.0609\n",
      "Epoch 14/100\n",
      "1105/1105 [==============================] - 8s 7ms/step - loss: 0.0015 - mape: 13326.1055 - mae: 0.0259 - val_loss: 0.0038 - val_mape: 9.2920 - val_mae: 0.0535\n",
      "Epoch 15/100\n",
      "1105/1105 [==============================] - 8s 7ms/step - loss: 0.0014 - mape: 13178.3730 - mae: 0.0254 - val_loss: 0.0033 - val_mape: 8.1038 - val_mae: 0.0476\n",
      "Epoch 16/100\n",
      "1105/1105 [==============================] - 8s 8ms/step - loss: 0.0014 - mape: 13185.1719 - mae: 0.0254 - val_loss: 0.0021 - val_mape: 6.3663 - val_mae: 0.0373\n",
      "Epoch 17/100\n",
      "1105/1105 [==============================] - 8s 7ms/step - loss: 0.0014 - mape: 13237.4160 - mae: 0.0249 - val_loss: 0.0035 - val_mape: 9.0708 - val_mae: 0.0516\n",
      "Epoch 18/100\n",
      "1105/1105 [==============================] - 8s 8ms/step - loss: 0.0014 - mape: 13058.2617 - mae: 0.0248 - val_loss: 0.0023 - val_mape: 6.8452 - val_mae: 0.0403\n",
      "Epoch 19/100\n",
      "1105/1105 [==============================] - 8s 7ms/step - loss: 0.0014 - mape: 13093.1611 - mae: 0.0245 - val_loss: 0.0022 - val_mape: 6.8065 - val_mae: 0.0393\n",
      "Epoch 20/100\n",
      "1105/1105 [==============================] - 8s 7ms/step - loss: 0.0014 - mape: 12955.8447 - mae: 0.0244 - val_loss: 0.0027 - val_mape: 7.3748 - val_mae: 0.0435\n",
      "Epoch 21/100\n",
      "1105/1105 [==============================] - 8s 7ms/step - loss: 0.0013 - mape: 12997.2725 - mae: 0.0240 - val_loss: 0.0017 - val_mape: 5.9394 - val_mae: 0.0345\n",
      "Epoch 22/100\n",
      "1105/1105 [==============================] - 8s 8ms/step - loss: 0.0013 - mape: 12983.0391 - mae: 0.0238 - val_loss: 0.0027 - val_mape: 7.5630 - val_mae: 0.0444\n",
      "Epoch 23/100\n",
      "1105/1105 [==============================] - 8s 7ms/step - loss: 0.0013 - mape: 12989.4316 - mae: 0.0235 - val_loss: 0.0029 - val_mape: 7.5264 - val_mae: 0.0450\n",
      "Epoch 24/100\n",
      "1105/1105 [==============================] - 8s 7ms/step - loss: 0.0013 - mape: 12652.4473 - mae: 0.0235 - val_loss: 0.0017 - val_mape: 6.0696 - val_mae: 0.0345\n",
      "Epoch 25/100\n",
      "1105/1105 [==============================] - 8s 7ms/step - loss: 0.0013 - mape: 12759.5361 - mae: 0.0232 - val_loss: 0.0038 - val_mape: 8.8338 - val_mae: 0.0526\n",
      "Epoch 26/100\n",
      "1105/1105 [==============================] - 8s 8ms/step - loss: 0.0013 - mape: 12552.6865 - mae: 0.0233 - val_loss: 0.0031 - val_mape: 8.1900 - val_mae: 0.0478\n",
      "Epoch 27/100\n",
      "1105/1105 [==============================] - 8s 7ms/step - loss: 0.0013 - mape: 12740.6250 - mae: 0.0231 - val_loss: 0.0021 - val_mape: 6.5618 - val_mae: 0.0385\n",
      "Epoch 28/100\n",
      "1105/1105 [==============================] - 8s 7ms/step - loss: 0.0012 - mape: 12936.8574 - mae: 0.0230 - val_loss: 0.0030 - val_mape: 7.5094 - val_mae: 0.0451\n",
      "Epoch 29/100\n",
      "1105/1105 [==============================] - 8s 7ms/step - loss: 0.0012 - mape: 12635.0732 - mae: 0.0227 - val_loss: 0.0034 - val_mape: 8.1969 - val_mae: 0.0492\n",
      "Epoch 30/100\n",
      "1105/1105 [==============================] - 8s 7ms/step - loss: 0.0012 - mape: 12887.6885 - mae: 0.0229 - val_loss: 0.0021 - val_mape: 6.6340 - val_mae: 0.0385\n",
      "Epoch 31/100\n",
      "1105/1105 [==============================] - 8s 7ms/step - loss: 0.0012 - mape: 12353.9326 - mae: 0.0226 - val_loss: 0.0013 - val_mape: 5.1010 - val_mae: 0.0294\n",
      "Epoch 32/100\n",
      "1105/1105 [==============================] - 8s 7ms/step - loss: 0.0012 - mape: 12470.6016 - mae: 0.0227 - val_loss: 0.0019 - val_mape: 6.3271 - val_mae: 0.0360\n",
      "Epoch 33/100\n",
      "1105/1105 [==============================] - 8s 7ms/step - loss: 0.0012 - mape: 12343.3945 - mae: 0.0224 - val_loss: 0.0017 - val_mape: 6.0740 - val_mae: 0.0342\n",
      "Epoch 34/100\n",
      "1105/1105 [==============================] - 8s 7ms/step - loss: 0.0012 - mape: 12543.2686 - mae: 0.0223 - val_loss: 0.0020 - val_mape: 6.4258 - val_mae: 0.0373\n",
      "Epoch 35/100\n",
      "1105/1105 [==============================] - 8s 7ms/step - loss: 0.0012 - mape: 12356.9824 - mae: 0.0223 - val_loss: 0.0034 - val_mape: 8.6426 - val_mae: 0.0505\n",
      "Epoch 36/100\n",
      "1105/1105 [==============================] - 8s 7ms/step - loss: 0.0012 - mape: 12141.2510 - mae: 0.0225 - val_loss: 0.0035 - val_mape: 8.4687 - val_mae: 0.0500\n",
      "Epoch 37/100\n",
      "1105/1105 [==============================] - 8s 7ms/step - loss: 0.0012 - mape: 11880.2451 - mae: 0.0223 - val_loss: 0.0047 - val_mape: 10.2637 - val_mae: 0.0601\n",
      "Epoch 38/100\n",
      "1105/1105 [==============================] - 8s 7ms/step - loss: 0.0012 - mape: 12094.6191 - mae: 0.0221 - val_loss: 0.0020 - val_mape: 6.3350 - val_mae: 0.0364\n",
      "Epoch 39/100\n",
      "1105/1105 [==============================] - 8s 7ms/step - loss: 0.0011 - mape: 11826.4072 - mae: 0.0219 - val_loss: 0.0020 - val_mape: 6.5418 - val_mae: 0.0375\n",
      "Epoch 40/100\n",
      "1105/1105 [==============================] - 8s 8ms/step - loss: 0.0011 - mape: 11599.6572 - mae: 0.0216 - val_loss: 0.0026 - val_mape: 7.6775 - val_mae: 0.0433\n",
      "Epoch 41/100\n",
      "1105/1105 [==============================] - 8s 7ms/step - loss: 0.0012 - mape: 12489.9102 - mae: 0.0222 - val_loss: 0.0030 - val_mape: 7.7954 - val_mae: 0.0460\n",
      "Epoch 42/100\n",
      "1105/1105 [==============================] - 8s 7ms/step - loss: 0.0011 - mape: 12150.0039 - mae: 0.0221 - val_loss: 0.0018 - val_mape: 6.3520 - val_mae: 0.0359\n",
      "Epoch 43/100\n",
      "1105/1105 [==============================] - 8s 7ms/step - loss: 0.0011 - mape: 11055.0049 - mae: 0.0217 - val_loss: 0.0034 - val_mape: 8.3393 - val_mae: 0.0494\n",
      "Epoch 44/100\n",
      "1105/1105 [==============================] - 8s 7ms/step - loss: 0.0011 - mape: 11697.9004 - mae: 0.0218 - val_loss: 0.0021 - val_mape: 6.3775 - val_mae: 0.0374\n",
      "Epoch 45/100\n",
      "1105/1105 [==============================] - 8s 7ms/step - loss: 0.0011 - mape: 11952.1074 - mae: 0.0220 - val_loss: 0.0032 - val_mape: 7.7056 - val_mae: 0.0458\n",
      "Epoch 46/100\n",
      "1105/1105 [==============================] - 9s 8ms/step - loss: 0.0011 - mape: 10036.4189 - mae: 0.0219 - val_loss: 0.0017 - val_mape: 6.0262 - val_mae: 0.0338\n",
      "Epoch 47/100\n",
      "1105/1105 [==============================] - 8s 8ms/step - loss: 0.0011 - mape: 10894.1904 - mae: 0.0218 - val_loss: 0.0019 - val_mape: 6.0711 - val_mae: 0.0351\n",
      "Epoch 48/100\n"
     ]
    },
    {
     "name": "stdout",
     "output_type": "stream",
     "text": [
      "1105/1105 [==============================] - 9s 8ms/step - loss: 0.0011 - mape: 11824.4092 - mae: 0.0215 - val_loss: 0.0035 - val_mape: 7.9397 - val_mae: 0.0440\n",
      "Epoch 49/100\n",
      "1105/1105 [==============================] - 8s 7ms/step - loss: 0.0011 - mape: 11257.4941 - mae: 0.0215 - val_loss: 0.0023 - val_mape: 6.7668 - val_mae: 0.0389\n",
      "Epoch 50/100\n",
      "1105/1105 [==============================] - 9s 8ms/step - loss: 0.0011 - mape: 10397.2705 - mae: 0.0215 - val_loss: 0.0028 - val_mape: 7.5703 - val_mae: 0.0443\n",
      "Epoch 51/100\n",
      "1105/1105 [==============================] - 9s 8ms/step - loss: 0.0011 - mape: 10835.8271 - mae: 0.0218 - val_loss: 0.0023 - val_mape: 6.4395 - val_mae: 0.0381\n",
      "Epoch 52/100\n",
      "1105/1105 [==============================] - 9s 8ms/step - loss: 0.0011 - mape: 11132.3994 - mae: 0.0212 - val_loss: 0.0018 - val_mape: 6.0709 - val_mae: 0.0339\n",
      "Epoch 53/100\n",
      "1105/1105 [==============================] - 9s 8ms/step - loss: 0.0011 - mape: 11507.0098 - mae: 0.0214 - val_loss: 0.0029 - val_mape: 8.1524 - val_mae: 0.0458\n",
      "Epoch 54/100\n",
      "1105/1105 [==============================] - 8s 8ms/step - loss: 0.0011 - mape: 10785.2559 - mae: 0.0214 - val_loss: 0.0022 - val_mape: 7.1603 - val_mae: 0.0397\n",
      "Epoch 55/100\n",
      "1105/1105 [==============================] - 9s 8ms/step - loss: 0.0010 - mape: 10866.6006 - mae: 0.0211 - val_loss: 0.0031 - val_mape: 7.7839 - val_mae: 0.0452\n",
      "Epoch 56/100\n",
      "1105/1105 [==============================] - 8s 8ms/step - loss: 0.0011 - mape: 9434.5254 - mae: 0.0217 - val_loss: 0.0017 - val_mape: 5.8856 - val_mae: 0.0326\n",
      "Epoch 57/100\n",
      "1105/1105 [==============================] - 8s 8ms/step - loss: 0.0011 - mape: 10959.6074 - mae: 0.0214 - val_loss: 0.0018 - val_mape: 6.1966 - val_mae: 0.0352\n",
      "Epoch 58/100\n",
      "1105/1105 [==============================] - 8s 8ms/step - loss: 0.0010 - mape: 9835.2910 - mae: 0.0212 - val_loss: 0.0024 - val_mape: 7.1457 - val_mae: 0.0407\n",
      "Epoch 59/100\n",
      "1105/1105 [==============================] - 9s 8ms/step - loss: 0.0010 - mape: 9488.2744 - mae: 0.0212 - val_loss: 0.0020 - val_mape: 6.4845 - val_mae: 0.0358\n",
      "Epoch 60/100\n",
      "1105/1105 [==============================] - 8s 7ms/step - loss: 0.0010 - mape: 10999.4277 - mae: 0.0211 - val_loss: 0.0022 - val_mape: 6.8603 - val_mae: 0.0386\n",
      "Epoch 61/100\n",
      "1105/1105 [==============================] - 8s 7ms/step - loss: 9.7337e-04 - mape: 8466.8916 - mae: 0.0207 - val_loss: 0.0046 - val_mape: 10.4491 - val_mae: 0.0604\n",
      "Epoch 62/100\n",
      "1105/1105 [==============================] - 8s 8ms/step - loss: 0.0011 - mape: 11376.5908 - mae: 0.0213 - val_loss: 0.0025 - val_mape: 7.2246 - val_mae: 0.0415\n",
      "Epoch 63/100\n",
      "1105/1105 [==============================] - 8s 8ms/step - loss: 0.0011 - mape: 11073.2227 - mae: 0.0213 - val_loss: 0.0018 - val_mape: 6.0303 - val_mae: 0.0343\n",
      "Epoch 64/100\n",
      "1105/1105 [==============================] - 8s 8ms/step - loss: 0.0011 - mape: 11971.7002 - mae: 0.0211 - val_loss: 0.0023 - val_mape: 6.7350 - val_mae: 0.0384\n",
      "Epoch 65/100\n",
      "1105/1105 [==============================] - 8s 8ms/step - loss: 0.0010 - mape: 10290.8359 - mae: 0.0207 - val_loss: 0.0020 - val_mape: 6.6133 - val_mae: 0.0372\n",
      "Epoch 66/100\n",
      "1105/1105 [==============================] - 9s 8ms/step - loss: 0.0010 - mape: 9882.0264 - mae: 0.0208 - val_loss: 0.0025 - val_mape: 7.5225 - val_mae: 0.0419\n",
      "Epoch 67/100\n",
      "1105/1105 [==============================] - 9s 8ms/step - loss: 0.0010 - mape: 11170.2227 - mae: 0.0209 - val_loss: 0.0020 - val_mape: 6.1680 - val_mae: 0.0358\n",
      "Epoch 68/100\n",
      "1105/1105 [==============================] - 9s 8ms/step - loss: 0.0011 - mape: 10678.3633 - mae: 0.0211 - val_loss: 0.0019 - val_mape: 6.2167 - val_mae: 0.0353\n",
      "Epoch 69/100\n",
      "1105/1105 [==============================] - 9s 8ms/step - loss: 0.0010 - mape: 10686.9961 - mae: 0.0208 - val_loss: 0.0015 - val_mape: 5.6048 - val_mae: 0.0321\n",
      "Epoch 70/100\n",
      "1105/1105 [==============================] - 9s 8ms/step - loss: 9.8325e-04 - mape: 9358.4209 - mae: 0.0204 - val_loss: 0.0020 - val_mape: 6.2584 - val_mae: 0.0357\n",
      "Epoch 71/100\n",
      "1105/1105 [==============================] - 9s 8ms/step - loss: 9.7577e-04 - mape: 9149.2148 - mae: 0.0206 - val_loss: 0.0023 - val_mape: 6.7646 - val_mae: 0.0379\n",
      "Epoch 72/100\n",
      "1105/1105 [==============================] - 9s 8ms/step - loss: 9.8423e-04 - mape: 10533.0586 - mae: 0.0205 - val_loss: 0.0027 - val_mape: 7.1934 - val_mae: 0.0407\n",
      "Epoch 73/100\n",
      "1105/1105 [==============================] - 9s 8ms/step - loss: 9.1499e-04 - mape: 6871.5293 - mae: 0.0201 - val_loss: 0.0028 - val_mape: 7.7458 - val_mae: 0.0441\n",
      "Epoch 74/100\n",
      "1105/1105 [==============================] - 9s 8ms/step - loss: 9.9504e-04 - mape: 8211.9482 - mae: 0.0210 - val_loss: 0.0024 - val_mape: 7.2480 - val_mae: 0.0410\n",
      "Epoch 75/100\n",
      "1105/1105 [==============================] - 9s 8ms/step - loss: 9.5754e-04 - mape: 7284.4966 - mae: 0.0204 - val_loss: 0.0028 - val_mape: 7.4175 - val_mae: 0.0410\n",
      "Epoch 76/100\n",
      "1105/1105 [==============================] - 8s 8ms/step - loss: 9.0366e-04 - mape: 5690.6021 - mae: 0.0202 - val_loss: 0.0027 - val_mape: 7.5517 - val_mae: 0.0436\n",
      "Epoch 77/100\n",
      "1105/1105 [==============================] - 8s 7ms/step - loss: 9.8133e-04 - mape: 8514.8926 - mae: 0.0208 - val_loss: 0.0024 - val_mape: 7.2823 - val_mae: 0.0410\n",
      "Epoch 78/100\n",
      "1105/1105 [==============================] - 8s 7ms/step - loss: 9.5817e-04 - mape: 10280.4434 - mae: 0.0204 - val_loss: 0.0026 - val_mape: 7.4023 - val_mae: 0.0422\n",
      "Epoch 79/100\n",
      "1105/1105 [==============================] - 8s 7ms/step - loss: 9.1146e-04 - mape: 7711.1030 - mae: 0.0201 - val_loss: 0.0033 - val_mape: 8.0263 - val_mae: 0.0450\n",
      "Epoch 80/100\n",
      "1105/1105 [==============================] - 8s 7ms/step - loss: 8.9210e-04 - mape: 8011.2378 - mae: 0.0200 - val_loss: 0.0026 - val_mape: 7.3924 - val_mae: 0.0412\n",
      "Epoch 81/100\n",
      "1105/1105 [==============================] - 8s 7ms/step - loss: 9.8635e-04 - mape: 9002.0264 - mae: 0.0206 - val_loss: 0.0024 - val_mape: 6.9011 - val_mae: 0.0389\n",
      "Epoch 82/100\n",
      "1105/1105 [==============================] - 8s 7ms/step - loss: 9.4591e-04 - mape: 8567.0635 - mae: 0.0203 - val_loss: 0.0026 - val_mape: 7.1871 - val_mae: 0.0418\n",
      "Epoch 83/100\n",
      "1105/1105 [==============================] - 8s 8ms/step - loss: 8.6893e-04 - mape: 7673.4531 - mae: 0.0198 - val_loss: 0.0028 - val_mape: 7.6692 - val_mae: 0.0434\n",
      "Epoch 84/100\n",
      "1105/1105 [==============================] - 8s 7ms/step - loss: 9.5099e-04 - mape: 8845.6943 - mae: 0.0203 - val_loss: 0.0020 - val_mape: 6.3981 - val_mae: 0.0358\n",
      "Epoch 85/100\n",
      "1105/1105 [==============================] - 9s 8ms/step - loss: 9.2941e-04 - mape: 9568.9951 - mae: 0.0200 - val_loss: 0.0026 - val_mape: 7.2158 - val_mae: 0.0403\n",
      "Epoch 86/100\n",
      "1105/1105 [==============================] - 9s 8ms/step - loss: 8.6179e-04 - mape: 6024.6675 - mae: 0.0198 - val_loss: 0.0021 - val_mape: 6.6436 - val_mae: 0.0377\n",
      "Epoch 87/100\n",
      "1105/1105 [==============================] - 9s 8ms/step - loss: 8.9552e-04 - mape: 7936.4507 - mae: 0.0201 - val_loss: 0.0035 - val_mape: 8.4397 - val_mae: 0.0468\n",
      "Epoch 88/100\n",
      "1105/1105 [==============================] - 9s 8ms/step - loss: 8.4587e-04 - mape: 5719.1040 - mae: 0.0196 - val_loss: 0.0029 - val_mape: 7.4027 - val_mae: 0.0418\n",
      "Epoch 89/100\n",
      "1105/1105 [==============================] - 9s 8ms/step - loss: 8.3007e-04 - mape: 5546.7520 - mae: 0.0195 - val_loss: 0.0046 - val_mape: 9.3991 - val_mae: 0.0516\n",
      "Epoch 90/100\n",
      "1105/1105 [==============================] - 9s 8ms/step - loss: 9.0675e-04 - mape: 8466.0527 - mae: 0.0200 - val_loss: 0.0022 - val_mape: 6.6711 - val_mae: 0.0372\n",
      "Epoch 91/100\n",
      "1105/1105 [==============================] - 9s 8ms/step - loss: 8.4534e-04 - mape: 6010.1694 - mae: 0.0194 - val_loss: 0.0018 - val_mape: 6.0568 - val_mae: 0.0337\n",
      "Epoch 92/100\n",
      "1105/1105 [==============================] - 9s 8ms/step - loss: 7.9750e-04 - mape: 5410.2573 - mae: 0.0194 - val_loss: 0.0021 - val_mape: 6.6747 - val_mae: 0.0374\n",
      "Epoch 93/100\n",
      "1105/1105 [==============================] - 9s 8ms/step - loss: 9.0619e-04 - mape: 8196.6172 - mae: 0.0199 - val_loss: 0.0020 - val_mape: 6.3578 - val_mae: 0.0368\n",
      "Epoch 94/100\n",
      "1105/1105 [==============================] - 9s 8ms/step - loss: 8.2352e-04 - mape: 5647.2231 - mae: 0.0195 - val_loss: 0.0024 - val_mape: 6.5661 - val_mae: 0.0389\n"
     ]
    },
    {
     "name": "stdout",
     "output_type": "stream",
     "text": [
      "Epoch 95/100\n",
      "1105/1105 [==============================] - 9s 8ms/step - loss: 8.5393e-04 - mape: 6599.9839 - mae: 0.0197 - val_loss: 0.0021 - val_mape: 6.6660 - val_mae: 0.0382\n",
      "Epoch 96/100\n",
      "1105/1105 [==============================] - 9s 8ms/step - loss: 8.8399e-04 - mape: 10215.4531 - mae: 0.0197 - val_loss: 0.0019 - val_mape: 6.1715 - val_mae: 0.0356\n",
      "Epoch 97/100\n",
      "1105/1105 [==============================] - 9s 8ms/step - loss: 8.3579e-04 - mape: 5859.3994 - mae: 0.0195 - val_loss: 0.0018 - val_mape: 6.0903 - val_mae: 0.0343\n",
      "Epoch 98/100\n",
      "1105/1105 [==============================] - 9s 8ms/step - loss: 7.8126e-04 - mape: 5295.5566 - mae: 0.0191 - val_loss: 0.0022 - val_mape: 6.4732 - val_mae: 0.0371\n",
      "Epoch 99/100\n",
      "1105/1105 [==============================] - 9s 8ms/step - loss: 7.7180e-04 - mape: 4406.9434 - mae: 0.0190 - val_loss: 0.0017 - val_mape: 5.7569 - val_mae: 0.0323\n",
      "Epoch 100/100\n",
      "1105/1105 [==============================] - 9s 8ms/step - loss: 7.6209e-04 - mape: 4758.1411 - mae: 0.0189 - val_loss: 0.0023 - val_mape: 6.7353 - val_mae: 0.0386\n"
     ]
    },
    {
     "data": {
      "text/plain": [
       "<keras.callbacks.History at 0x20825667fd0>"
      ]
     },
     "execution_count": 22,
     "metadata": {},
     "output_type": "execute_result"
    }
   ],
   "source": [
    "model.fit(X_train, Y_train, epochs= epochs, batch_size= batchSize, verbose= 1, shuffle= True, validation_data= (X_valid, Y_valid))"
   ]
  },
  {
   "cell_type": "code",
   "execution_count": 23,
   "id": "cd839153",
   "metadata": {},
   "outputs": [
    {
     "name": "stdout",
     "output_type": "stream",
     "text": [
      "Total execution time in seconds: 852.8627743721008\n"
     ]
    }
   ],
   "source": [
    "calcExecTime = (time.time() - startTime)\n",
    "print('Total execution time in seconds: ' + str(calcExecTime))"
   ]
  },
  {
   "cell_type": "markdown",
   "id": "72aafa74",
   "metadata": {},
   "source": [
    "### MAKING PREDICTIONS AND GENERATING RESULTS"
   ]
  },
  {
   "cell_type": "code",
   "execution_count": 24,
   "id": "259bfb49",
   "metadata": {},
   "outputs": [
    {
     "name": "stdout",
     "output_type": "stream",
     "text": [
      "6/6 [==============================] - 1s 7ms/step\n"
     ]
    }
   ],
   "source": [
    "predictions = model.predict(X_test)"
   ]
  },
  {
   "cell_type": "code",
   "execution_count": 25,
   "id": "2912d431",
   "metadata": {},
   "outputs": [
    {
     "data": {
      "text/plain": [
       "array([0.40625325, 0.41254568, 0.42211902, ..., 0.5954155 , 0.58227384,\n",
       "       0.57655215], dtype=float32)"
      ]
     },
     "execution_count": 25,
     "metadata": {},
     "output_type": "execute_result"
    }
   ],
   "source": [
    "predArr = predictions.reshape(predictions.shape[0] * predictions.shape[1], predictions.shape[2]).ravel()\n",
    "predArr"
   ]
  },
  {
   "cell_type": "code",
   "execution_count": 26,
   "id": "b01889f2",
   "metadata": {},
   "outputs": [
    {
     "data": {
      "text/plain": [
       "array([0.45385359, 0.45796086, 0.4659338 , ..., 0.62164774, 0.60376903,\n",
       "       0.58359507])"
      ]
     },
     "execution_count": 26,
     "metadata": {},
     "output_type": "execute_result"
    }
   ],
   "source": [
    "Y_testArr = Y_test.reshape(Y_test.shape[0] * Y_test.shape[1], Y_test.shape[2]).ravel()\n",
    "Y_testArr"
   ]
  },
  {
   "cell_type": "code",
   "execution_count": 27,
   "id": "799c97e8",
   "metadata": {},
   "outputs": [],
   "source": [
    "def inverse_transform(df):\n",
    "    column_names = df.columns\n",
    "    for col in column_names:\n",
    "        df[col] = ValScaler.inverse_transform(df[[col]]) \n",
    "    return df"
   ]
  },
  {
   "cell_type": "code",
   "execution_count": 28,
   "id": "afa81e30",
   "metadata": {},
   "outputs": [
    {
     "data": {
      "text/html": [
       "<div>\n",
       "<style scoped>\n",
       "    .dataframe tbody tr th:only-of-type {\n",
       "        vertical-align: middle;\n",
       "    }\n",
       "\n",
       "    .dataframe tbody tr th {\n",
       "        vertical-align: top;\n",
       "    }\n",
       "\n",
       "    .dataframe thead th {\n",
       "        text-align: right;\n",
       "    }\n",
       "</style>\n",
       "<table border=\"1\" class=\"dataframe\">\n",
       "  <thead>\n",
       "    <tr style=\"text-align: right;\">\n",
       "      <th></th>\n",
       "      <th>Values</th>\n",
       "      <th>Predictions</th>\n",
       "    </tr>\n",
       "  </thead>\n",
       "  <tbody>\n",
       "    <tr>\n",
       "      <th>0</th>\n",
       "      <td>3169.0</td>\n",
       "      <td>2774.964355</td>\n",
       "    </tr>\n",
       "    <tr>\n",
       "      <th>1</th>\n",
       "      <td>3203.0</td>\n",
       "      <td>2827.052979</td>\n",
       "    </tr>\n",
       "    <tr>\n",
       "      <th>2</th>\n",
       "      <td>3269.0</td>\n",
       "      <td>2906.301270</td>\n",
       "    </tr>\n",
       "    <tr>\n",
       "      <th>3</th>\n",
       "      <td>3521.0</td>\n",
       "      <td>3049.727051</td>\n",
       "    </tr>\n",
       "    <tr>\n",
       "      <th>4</th>\n",
       "      <td>3848.0</td>\n",
       "      <td>3184.976562</td>\n",
       "    </tr>\n",
       "    <tr>\n",
       "      <th>...</th>\n",
       "      <td>...</td>\n",
       "      <td>...</td>\n",
       "    </tr>\n",
       "    <tr>\n",
       "      <th>4363</th>\n",
       "      <td>4760.0</td>\n",
       "      <td>5001.333496</td>\n",
       "    </tr>\n",
       "    <tr>\n",
       "      <th>4364</th>\n",
       "      <td>4613.0</td>\n",
       "      <td>4589.671387</td>\n",
       "    </tr>\n",
       "    <tr>\n",
       "      <th>4365</th>\n",
       "      <td>4558.0</td>\n",
       "      <td>4340.849609</td>\n",
       "    </tr>\n",
       "    <tr>\n",
       "      <th>4366</th>\n",
       "      <td>4410.0</td>\n",
       "      <td>4232.062988</td>\n",
       "    </tr>\n",
       "    <tr>\n",
       "      <th>4367</th>\n",
       "      <td>4243.0</td>\n",
       "      <td>4184.698730</td>\n",
       "    </tr>\n",
       "  </tbody>\n",
       "</table>\n",
       "<p>4368 rows × 2 columns</p>\n",
       "</div>"
      ],
      "text/plain": [
       "      Values  Predictions\n",
       "0     3169.0  2774.964355\n",
       "1     3203.0  2827.052979\n",
       "2     3269.0  2906.301270\n",
       "3     3521.0  3049.727051\n",
       "4     3848.0  3184.976562\n",
       "...      ...          ...\n",
       "4363  4760.0  5001.333496\n",
       "4364  4613.0  4589.671387\n",
       "4365  4558.0  4340.849609\n",
       "4366  4410.0  4232.062988\n",
       "4367  4243.0  4184.698730\n",
       "\n",
       "[4368 rows x 2 columns]"
      ]
     },
     "execution_count": 28,
     "metadata": {},
     "output_type": "execute_result"
    }
   ],
   "source": [
    "comparisionDf = pd.DataFrame(data= {\"Values\": Y_testArr, \"Predictions\": predArr})\n",
    "comparisionDf = inverse_transform(comparisionDf)\n",
    "comparisionDf"
   ]
  },
  {
   "cell_type": "code",
   "execution_count": 29,
   "id": "88222bae",
   "metadata": {},
   "outputs": [
    {
     "data": {
      "text/plain": [
       "6.5205820428433965"
      ]
     },
     "execution_count": 29,
     "metadata": {},
     "output_type": "execute_result"
    }
   ],
   "source": [
    "mape(comparisionDf[\"Values\"], comparisionDf[\"Predictions\"])"
   ]
  }
 ],
 "metadata": {
  "kernelspec": {
   "display_name": "Python 3 (ipykernel)",
   "language": "python",
   "name": "python3"
  },
  "language_info": {
   "codemirror_mode": {
    "name": "ipython",
    "version": 3
   },
   "file_extension": ".py",
   "mimetype": "text/x-python",
   "name": "python",
   "nbconvert_exporter": "python",
   "pygments_lexer": "ipython3",
   "version": "3.9.12"
  }
 },
 "nbformat": 4,
 "nbformat_minor": 5
}
