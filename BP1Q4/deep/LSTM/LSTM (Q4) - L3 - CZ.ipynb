{
 "cells": [
  {
   "cell_type": "code",
   "execution_count": 1,
   "id": "5f61b29f",
   "metadata": {},
   "outputs": [
    {
     "name": "stdout",
     "output_type": "stream",
     "text": [
      "Num GPUs Available:  1\n"
     ]
    }
   ],
   "source": [
    "import pandas as pd\n",
    "import numpy as np\n",
    "import os\n",
    "import matplotlib.pyplot as plt\n",
    "from datetime import datetime\n",
    "from sklearn.preprocessing import MinMaxScaler, RobustScaler, StandardScaler\n",
    "import time\n",
    "\n",
    "import tensorflow as tf\n",
    "tf.random.set_seed(42)\n",
    "\n",
    "def mape(y_true, y_pred):\n",
    "    y_true, y_pred = np.array(y_true), np.array(y_pred)\n",
    "    return np.mean(np.abs((y_true - y_pred) / max(y_true))) * 100\n",
    "\n",
    "def RMSELoss(yhat,y):\n",
    "    return torch.sqrt(torch.mean((yhat-y)**2))\n",
    "\n",
    "print(\"Num GPUs Available: \", len(tf.config.list_physical_devices('GPU')))"
   ]
  },
  {
   "cell_type": "code",
   "execution_count": 2,
   "id": "cea0abe2",
   "metadata": {},
   "outputs": [
    {
     "name": "stdout",
     "output_type": "stream",
     "text": [
      "['AT.csv', 'BE.csv', 'BG.csv', 'CH.csv', 'CZ.csv', 'DK.csv', 'ES.csv', 'FR.csv', 'GR.csv', 'IT.csv', 'NL.csv', 'PT.csv', 'SI.csv', 'SK.csv']\n"
     ]
    }
   ],
   "source": [
    "# Specifying the path of file\n",
    "path= r\"C:\\Users\\sashah8\\OneDrive - North Carolina State University\\Desktop\\Q4\\Data\\L3\\data_cleaned\"\n",
    "\n",
    "# Listing just the required files\n",
    "fileList = os.listdir(path)\n",
    "fileList.remove(\"Date.csv\")\n",
    "\n",
    "# Previewing the required file names\n",
    "print(fileList)"
   ]
  },
  {
   "cell_type": "code",
   "execution_count": 3,
   "id": "a6fe9396",
   "metadata": {},
   "outputs": [
    {
     "data": {
      "text/html": [
       "<div>\n",
       "<style scoped>\n",
       "    .dataframe tbody tr th:only-of-type {\n",
       "        vertical-align: middle;\n",
       "    }\n",
       "\n",
       "    .dataframe tbody tr th {\n",
       "        vertical-align: top;\n",
       "    }\n",
       "\n",
       "    .dataframe thead th {\n",
       "        text-align: right;\n",
       "    }\n",
       "</style>\n",
       "<table border=\"1\" class=\"dataframe\">\n",
       "  <thead>\n",
       "    <tr style=\"text-align: right;\">\n",
       "      <th></th>\n",
       "      <th>Demand</th>\n",
       "      <th>Normalized_net</th>\n",
       "      <th>Temperature</th>\n",
       "      <th>DNI</th>\n",
       "      <th>DHI</th>\n",
       "    </tr>\n",
       "  </thead>\n",
       "  <tbody>\n",
       "    <tr>\n",
       "      <th>0</th>\n",
       "      <td>0.00</td>\n",
       "      <td>0.088523</td>\n",
       "      <td>-2.372</td>\n",
       "      <td>0.0</td>\n",
       "      <td>0.0</td>\n",
       "    </tr>\n",
       "    <tr>\n",
       "      <th>1</th>\n",
       "      <td>5957.57</td>\n",
       "      <td>0.587007</td>\n",
       "      <td>-2.126</td>\n",
       "      <td>0.0</td>\n",
       "      <td>0.0</td>\n",
       "    </tr>\n",
       "    <tr>\n",
       "      <th>2</th>\n",
       "      <td>5878.87</td>\n",
       "      <td>0.580422</td>\n",
       "      <td>-1.839</td>\n",
       "      <td>0.0</td>\n",
       "      <td>0.0</td>\n",
       "    </tr>\n",
       "    <tr>\n",
       "      <th>3</th>\n",
       "      <td>5827.80</td>\n",
       "      <td>0.576149</td>\n",
       "      <td>-1.521</td>\n",
       "      <td>0.0</td>\n",
       "      <td>0.0</td>\n",
       "    </tr>\n",
       "    <tr>\n",
       "      <th>4</th>\n",
       "      <td>5730.89</td>\n",
       "      <td>0.568040</td>\n",
       "      <td>-1.223</td>\n",
       "      <td>0.0</td>\n",
       "      <td>0.0</td>\n",
       "    </tr>\n",
       "    <tr>\n",
       "      <th>...</th>\n",
       "      <td>...</td>\n",
       "      <td>...</td>\n",
       "      <td>...</td>\n",
       "      <td>...</td>\n",
       "      <td>...</td>\n",
       "    </tr>\n",
       "    <tr>\n",
       "      <th>43819</th>\n",
       "      <td>6255.85</td>\n",
       "      <td>0.611964</td>\n",
       "      <td>0.048</td>\n",
       "      <td>0.0</td>\n",
       "      <td>0.0</td>\n",
       "    </tr>\n",
       "    <tr>\n",
       "      <th>43820</th>\n",
       "      <td>6191.86</td>\n",
       "      <td>0.606610</td>\n",
       "      <td>-0.163</td>\n",
       "      <td>0.0</td>\n",
       "      <td>0.0</td>\n",
       "    </tr>\n",
       "    <tr>\n",
       "      <th>43821</th>\n",
       "      <td>6070.38</td>\n",
       "      <td>0.596446</td>\n",
       "      <td>-0.274</td>\n",
       "      <td>0.0</td>\n",
       "      <td>0.0</td>\n",
       "    </tr>\n",
       "    <tr>\n",
       "      <th>43822</th>\n",
       "      <td>5822.73</td>\n",
       "      <td>0.575724</td>\n",
       "      <td>-0.311</td>\n",
       "      <td>0.0</td>\n",
       "      <td>0.0</td>\n",
       "    </tr>\n",
       "    <tr>\n",
       "      <th>43823</th>\n",
       "      <td>5611.71</td>\n",
       "      <td>0.558068</td>\n",
       "      <td>-0.345</td>\n",
       "      <td>0.0</td>\n",
       "      <td>0.0</td>\n",
       "    </tr>\n",
       "  </tbody>\n",
       "</table>\n",
       "<p>43824 rows × 5 columns</p>\n",
       "</div>"
      ],
      "text/plain": [
       "        Demand  Normalized_net  Temperature  DNI  DHI\n",
       "0         0.00        0.088523       -2.372  0.0  0.0\n",
       "1      5957.57        0.587007       -2.126  0.0  0.0\n",
       "2      5878.87        0.580422       -1.839  0.0  0.0\n",
       "3      5827.80        0.576149       -1.521  0.0  0.0\n",
       "4      5730.89        0.568040       -1.223  0.0  0.0\n",
       "...        ...             ...          ...  ...  ...\n",
       "43819  6255.85        0.611964        0.048  0.0  0.0\n",
       "43820  6191.86        0.606610       -0.163  0.0  0.0\n",
       "43821  6070.38        0.596446       -0.274  0.0  0.0\n",
       "43822  5822.73        0.575724       -0.311  0.0  0.0\n",
       "43823  5611.71        0.558068       -0.345  0.0  0.0\n",
       "\n",
       "[43824 rows x 5 columns]"
      ]
     },
     "execution_count": 3,
     "metadata": {},
     "output_type": "execute_result"
    }
   ],
   "source": [
    "# Just for previewing the columns\n",
    "pd.read_csv(os.path.join(path, fileList[4]))"
   ]
  },
  {
   "cell_type": "markdown",
   "id": "9ad4906c",
   "metadata": {
    "pycharm": {
     "name": "#%% md\n"
    }
   },
   "source": [
    "### PROCESSING THE DATA"
   ]
  },
  {
   "cell_type": "code",
   "execution_count": 4,
   "id": "f29f6db2",
   "metadata": {},
   "outputs": [
    {
     "data": {
      "text/html": [
       "<div>\n",
       "<style scoped>\n",
       "    .dataframe tbody tr th:only-of-type {\n",
       "        vertical-align: middle;\n",
       "    }\n",
       "\n",
       "    .dataframe tbody tr th {\n",
       "        vertical-align: top;\n",
       "    }\n",
       "\n",
       "    .dataframe thead th {\n",
       "        text-align: right;\n",
       "    }\n",
       "</style>\n",
       "<table border=\"1\" class=\"dataframe\">\n",
       "  <thead>\n",
       "    <tr style=\"text-align: right;\">\n",
       "      <th></th>\n",
       "      <th>Load_CZ</th>\n",
       "      <th>Temp_CZ</th>\n",
       "    </tr>\n",
       "  </thead>\n",
       "  <tbody>\n",
       "    <tr>\n",
       "      <th>0</th>\n",
       "      <td>0.00</td>\n",
       "      <td>-2.372</td>\n",
       "    </tr>\n",
       "    <tr>\n",
       "      <th>1</th>\n",
       "      <td>5957.57</td>\n",
       "      <td>-2.126</td>\n",
       "    </tr>\n",
       "    <tr>\n",
       "      <th>2</th>\n",
       "      <td>5878.87</td>\n",
       "      <td>-1.839</td>\n",
       "    </tr>\n",
       "    <tr>\n",
       "      <th>3</th>\n",
       "      <td>5827.80</td>\n",
       "      <td>-1.521</td>\n",
       "    </tr>\n",
       "    <tr>\n",
       "      <th>4</th>\n",
       "      <td>5730.89</td>\n",
       "      <td>-1.223</td>\n",
       "    </tr>\n",
       "    <tr>\n",
       "      <th>...</th>\n",
       "      <td>...</td>\n",
       "      <td>...</td>\n",
       "    </tr>\n",
       "    <tr>\n",
       "      <th>43819</th>\n",
       "      <td>6255.85</td>\n",
       "      <td>0.048</td>\n",
       "    </tr>\n",
       "    <tr>\n",
       "      <th>43820</th>\n",
       "      <td>6191.86</td>\n",
       "      <td>-0.163</td>\n",
       "    </tr>\n",
       "    <tr>\n",
       "      <th>43821</th>\n",
       "      <td>6070.38</td>\n",
       "      <td>-0.274</td>\n",
       "    </tr>\n",
       "    <tr>\n",
       "      <th>43822</th>\n",
       "      <td>5822.73</td>\n",
       "      <td>-0.311</td>\n",
       "    </tr>\n",
       "    <tr>\n",
       "      <th>43823</th>\n",
       "      <td>5611.71</td>\n",
       "      <td>-0.345</td>\n",
       "    </tr>\n",
       "  </tbody>\n",
       "</table>\n",
       "<p>43824 rows × 2 columns</p>\n",
       "</div>"
      ],
      "text/plain": [
       "       Load_CZ  Temp_CZ\n",
       "0         0.00   -2.372\n",
       "1      5957.57   -2.126\n",
       "2      5878.87   -1.839\n",
       "3      5827.80   -1.521\n",
       "4      5730.89   -1.223\n",
       "...        ...      ...\n",
       "43819  6255.85    0.048\n",
       "43820  6191.86   -0.163\n",
       "43821  6070.38   -0.274\n",
       "43822  5822.73   -0.311\n",
       "43823  5611.71   -0.345\n",
       "\n",
       "[43824 rows x 2 columns]"
      ]
     },
     "execution_count": 4,
     "metadata": {},
     "output_type": "execute_result"
    }
   ],
   "source": [
    "# Restricting the load data to a single zone\n",
    "fileName  = fileList[4]\n",
    "\n",
    "zoneData = pd.read_csv(os.path.join(path, fileName), usecols= [\"Demand\", \"Temperature\"])\n",
    "zoneData.columns = [\"Load_\"+str(fileName[:-4]), \"Temp_\"+str(fileName[:-4])]\n",
    "\n",
    "# For fixing one missing row\n",
    "# zoneData = pd.concat([zoneData.loc[[0]], zoneData], axis= 0).reset_index(drop= True)\n",
    "\n",
    "zoneData"
   ]
  },
  {
   "cell_type": "markdown",
   "id": "01cec4bd",
   "metadata": {},
   "source": [
    "### FEATURE ENGINEERING AND SPLITTING INTO TRAIN-TEST SPLIT"
   ]
  },
  {
   "cell_type": "code",
   "execution_count": 5,
   "id": "a1e1e8a3",
   "metadata": {},
   "outputs": [],
   "source": [
    "def lagGenerator(dF, lagList):\n",
    "    dF_temp = dF.filter(regex= \"Load\").copy()\n",
    "    \n",
    "    for i in lagList:\n",
    "        dF_temp.loc[:, \"Lag-\" + str(i)] = dF_temp.iloc[:,[0]].shift(i*24)\n",
    "    \n",
    "    return(dF_temp.filter(regex= \"Lag\"))"
   ]
  },
  {
   "cell_type": "code",
   "execution_count": 6,
   "id": "159a2a82",
   "metadata": {},
   "outputs": [
    {
     "data": {
      "text/html": [
       "<div>\n",
       "<style scoped>\n",
       "    .dataframe tbody tr th:only-of-type {\n",
       "        vertical-align: middle;\n",
       "    }\n",
       "\n",
       "    .dataframe tbody tr th {\n",
       "        vertical-align: top;\n",
       "    }\n",
       "\n",
       "    .dataframe thead th {\n",
       "        text-align: right;\n",
       "    }\n",
       "</style>\n",
       "<table border=\"1\" class=\"dataframe\">\n",
       "  <thead>\n",
       "    <tr style=\"text-align: right;\">\n",
       "      <th></th>\n",
       "      <th>Lag-2</th>\n",
       "      <th>Lag-7</th>\n",
       "    </tr>\n",
       "  </thead>\n",
       "  <tbody>\n",
       "    <tr>\n",
       "      <th>0</th>\n",
       "      <td>NaN</td>\n",
       "      <td>NaN</td>\n",
       "    </tr>\n",
       "    <tr>\n",
       "      <th>1</th>\n",
       "      <td>NaN</td>\n",
       "      <td>NaN</td>\n",
       "    </tr>\n",
       "  </tbody>\n",
       "</table>\n",
       "</div>"
      ],
      "text/plain": [
       "   Lag-2  Lag-7\n",
       "0    NaN    NaN\n",
       "1    NaN    NaN"
      ]
     },
     "execution_count": 6,
     "metadata": {},
     "output_type": "execute_result"
    }
   ],
   "source": [
    "Load_lags = lagGenerator(dF=zoneData, lagList=[2,7])\n",
    "Load_lags.head(2)"
   ]
  },
  {
   "cell_type": "code",
   "execution_count": 7,
   "id": "05896954",
   "metadata": {},
   "outputs": [
    {
     "data": {
      "text/html": [
       "<div>\n",
       "<style scoped>\n",
       "    .dataframe tbody tr th:only-of-type {\n",
       "        vertical-align: middle;\n",
       "    }\n",
       "\n",
       "    .dataframe tbody tr th {\n",
       "        vertical-align: top;\n",
       "    }\n",
       "\n",
       "    .dataframe thead th {\n",
       "        text-align: right;\n",
       "    }\n",
       "</style>\n",
       "<table border=\"1\" class=\"dataframe\">\n",
       "  <thead>\n",
       "    <tr style=\"text-align: right;\">\n",
       "      <th></th>\n",
       "      <th>Load_CZ</th>\n",
       "      <th>Temp_CZ</th>\n",
       "      <th>Lag-2</th>\n",
       "      <th>Lag-7</th>\n",
       "    </tr>\n",
       "  </thead>\n",
       "  <tbody>\n",
       "    <tr>\n",
       "      <th>0</th>\n",
       "      <td>7549.63</td>\n",
       "      <td>-4.644</td>\n",
       "      <td>7192.18</td>\n",
       "      <td>0.00</td>\n",
       "    </tr>\n",
       "    <tr>\n",
       "      <th>1</th>\n",
       "      <td>7485.12</td>\n",
       "      <td>-4.709</td>\n",
       "      <td>7120.78</td>\n",
       "      <td>5957.57</td>\n",
       "    </tr>\n",
       "    <tr>\n",
       "      <th>2</th>\n",
       "      <td>7378.78</td>\n",
       "      <td>-4.749</td>\n",
       "      <td>6992.29</td>\n",
       "      <td>5878.87</td>\n",
       "    </tr>\n",
       "    <tr>\n",
       "      <th>3</th>\n",
       "      <td>7443.10</td>\n",
       "      <td>-4.821</td>\n",
       "      <td>7062.87</td>\n",
       "      <td>5827.80</td>\n",
       "    </tr>\n",
       "    <tr>\n",
       "      <th>4</th>\n",
       "      <td>7879.07</td>\n",
       "      <td>-4.843</td>\n",
       "      <td>7480.10</td>\n",
       "      <td>5730.89</td>\n",
       "    </tr>\n",
       "    <tr>\n",
       "      <th>...</th>\n",
       "      <td>...</td>\n",
       "      <td>...</td>\n",
       "      <td>...</td>\n",
       "      <td>...</td>\n",
       "    </tr>\n",
       "    <tr>\n",
       "      <th>43651</th>\n",
       "      <td>6255.85</td>\n",
       "      <td>0.048</td>\n",
       "      <td>7185.40</td>\n",
       "      <td>5715.00</td>\n",
       "    </tr>\n",
       "    <tr>\n",
       "      <th>43652</th>\n",
       "      <td>6191.86</td>\n",
       "      <td>-0.163</td>\n",
       "      <td>6888.20</td>\n",
       "      <td>5604.65</td>\n",
       "    </tr>\n",
       "    <tr>\n",
       "      <th>43653</th>\n",
       "      <td>6070.38</td>\n",
       "      <td>-0.274</td>\n",
       "      <td>6711.40</td>\n",
       "      <td>5654.16</td>\n",
       "    </tr>\n",
       "    <tr>\n",
       "      <th>43654</th>\n",
       "      <td>5822.73</td>\n",
       "      <td>-0.311</td>\n",
       "      <td>6416.28</td>\n",
       "      <td>5437.48</td>\n",
       "    </tr>\n",
       "    <tr>\n",
       "      <th>43655</th>\n",
       "      <td>5611.71</td>\n",
       "      <td>-0.345</td>\n",
       "      <td>6123.94</td>\n",
       "      <td>5087.48</td>\n",
       "    </tr>\n",
       "  </tbody>\n",
       "</table>\n",
       "<p>43656 rows × 4 columns</p>\n",
       "</div>"
      ],
      "text/plain": [
       "       Load_CZ  Temp_CZ    Lag-2    Lag-7\n",
       "0      7549.63   -4.644  7192.18     0.00\n",
       "1      7485.12   -4.709  7120.78  5957.57\n",
       "2      7378.78   -4.749  6992.29  5878.87\n",
       "3      7443.10   -4.821  7062.87  5827.80\n",
       "4      7879.07   -4.843  7480.10  5730.89\n",
       "...        ...      ...      ...      ...\n",
       "43651  6255.85    0.048  7185.40  5715.00\n",
       "43652  6191.86   -0.163  6888.20  5604.65\n",
       "43653  6070.38   -0.274  6711.40  5654.16\n",
       "43654  5822.73   -0.311  6416.28  5437.48\n",
       "43655  5611.71   -0.345  6123.94  5087.48\n",
       "\n",
       "[43656 rows x 4 columns]"
      ]
     },
     "execution_count": 7,
     "metadata": {},
     "output_type": "execute_result"
    }
   ],
   "source": [
    "dataDf = pd.concat([zoneData, Load_lags], axis= 1).dropna(axis= 0).reset_index(drop= True)\n",
    "dataDf"
   ]
  },
  {
   "cell_type": "code",
   "execution_count": 8,
   "id": "6ad25321",
   "metadata": {},
   "outputs": [],
   "source": [
    "# Setting the train-test split ratio\n",
    "ratio = 0.1"
   ]
  },
  {
   "cell_type": "code",
   "execution_count": 9,
   "id": "3c08d963",
   "metadata": {},
   "outputs": [],
   "source": [
    "Num_train, Num_test = int(len(dataDf)/24 * (1 - ratio)) * 24, int(len(dataDf)/24 * ratio) * 24"
   ]
  },
  {
   "cell_type": "code",
   "execution_count": 10,
   "id": "cbe069ff",
   "metadata": {},
   "outputs": [],
   "source": [
    "# Splitting the data into train and test\n",
    "data_train, data_test = dataDf[:Num_train], dataDf[Num_train:]"
   ]
  },
  {
   "cell_type": "code",
   "execution_count": 11,
   "id": "d84e15c4",
   "metadata": {},
   "outputs": [],
   "source": [
    "Num_train, Num_valid = int(len(data_train)/24 * (1 - ratio)) * 24, int(len(data_train)/24 * ratio) * 24"
   ]
  },
  {
   "cell_type": "code",
   "execution_count": 12,
   "id": "c17d1723",
   "metadata": {},
   "outputs": [],
   "source": [
    "# Splitting the data into train and test\n",
    "data_train, data_valid = data_train[:Num_train], data_train[Num_train:]"
   ]
  },
  {
   "cell_type": "markdown",
   "id": "88d32011",
   "metadata": {},
   "source": [
    "### SPLITTING INTO X AND Y PART WITH SEQUENCE BATCHING"
   ]
  },
  {
   "cell_type": "code",
   "execution_count": 13,
   "id": "4ba286ca",
   "metadata": {},
   "outputs": [],
   "source": [
    "X_train_df, Y_train_df = data_train.iloc[:, 1:], data_train.iloc[:, :1]\n",
    "\n",
    "X_valid_df, Y_valid_df = data_valid.iloc[:, 1:], data_valid.iloc[:, :1]\n",
    "\n",
    "X_test_df, Y_test_df = data_test.iloc[:, 1:], data_test.iloc[:, :1]"
   ]
  },
  {
   "cell_type": "code",
   "execution_count": 14,
   "id": "ef1d9079",
   "metadata": {},
   "outputs": [],
   "source": [
    "# Preparing the scaler\n",
    "ValScaler = MinMaxScaler()\n",
    "\n",
    "X_train = ValScaler.fit_transform(X_train_df)\n",
    "X_valid = ValScaler.transform(X_valid_df)\n",
    "X_test = ValScaler.transform(X_test_df)\n",
    "\n",
    "Y_train = ValScaler.fit_transform(Y_train_df)\n",
    "Y_valid = ValScaler.transform(Y_valid_df)\n",
    "Y_test = ValScaler.transform(Y_test_df)"
   ]
  },
  {
   "cell_type": "code",
   "execution_count": 15,
   "id": "43594401",
   "metadata": {},
   "outputs": [],
   "source": [
    "def splitData(dataset):\n",
    "    data = np.array(np.split(dataset, len(dataset)/24))\n",
    "    return data"
   ]
  },
  {
   "cell_type": "code",
   "execution_count": 16,
   "id": "300696b2",
   "metadata": {},
   "outputs": [],
   "source": [
    "def supervisedSet(X_part, Y_part, steps= 24):\n",
    "    X_array, Y_array = np.array(X_part), np.array(Y_part)\n",
    "    X, Y = [], []\n",
    "    \n",
    "    for i in range(len(X_array)):\n",
    "        endIdx = i + steps\n",
    "        \n",
    "        if endIdx > len(X_array):\n",
    "            break\n",
    "        \n",
    "        batch_X, batch_Y = X_array[i:endIdx], Y_array[i:endIdx]\n",
    "        \n",
    "        X.append(batch_X)\n",
    "        Y.append(batch_Y)\n",
    "        \n",
    "    return np.array(X), np.array(Y)"
   ]
  },
  {
   "cell_type": "code",
   "execution_count": 17,
   "id": "fc9cd97d",
   "metadata": {},
   "outputs": [],
   "source": [
    "X_train, Y_train = supervisedSet(X_train, Y_train)\n",
    "\n",
    "X_valid, Y_valid = splitData(X_valid), splitData(Y_valid)\n",
    "\n",
    "X_test, Y_test = splitData(X_test), splitData(Y_test)"
   ]
  },
  {
   "cell_type": "markdown",
   "id": "a2a6bf32",
   "metadata": {},
   "source": [
    "### WORKING ON THE MODEL"
   ]
  },
  {
   "cell_type": "code",
   "execution_count": 18,
   "id": "ff71a98c",
   "metadata": {},
   "outputs": [],
   "source": [
    "epochs = 100\n",
    "batchSize = 32"
   ]
  },
  {
   "cell_type": "code",
   "execution_count": 19,
   "id": "8d600c17",
   "metadata": {},
   "outputs": [],
   "source": [
    "# Encoder-decoder architecture [tanh required to use tensorflow on gpu]\n",
    "model = tf.keras.Sequential([\n",
    "    tf.keras.layers.LSTM(units= 128, activation= \"tanh\", input_shape= (X_train.shape[1], X_train.shape[2]), dropout= 0.2),\n",
    "    tf.keras.layers.RepeatVector(Y_train.shape[1]),\n",
    "    tf.keras.layers.LSTM(units= 128, activation= \"tanh\", return_sequences= True, dropout= 0.2),\n",
    "    tf.keras.layers.TimeDistributed(tf.keras.layers.Dense(units= 128, activation= \"relu\")),\n",
    "    tf.keras.layers.Dropout(0.2),\n",
    "    tf.keras.layers.TimeDistributed(tf.keras.layers.Dense(units= 1))\n",
    "])\n",
    "\n",
    "model.compile(loss= \"mse\", optimizer= \"adam\",  metrics= ['mape', 'mae'])"
   ]
  },
  {
   "cell_type": "code",
   "execution_count": 20,
   "id": "a05c033a",
   "metadata": {},
   "outputs": [],
   "source": [
    "# model = tf.keras.Sequential([\n",
    "#     tf.keras.layers.LSTM(units= 256, activation= \"tanh\", input_shape= (X_train.shape[1], X_train.shape[2])),\n",
    "#     tf.keras.layers.Dense(units= 128, activation= \"tanh\"),\n",
    "#     tf.keras.layers.Dense(units= 1)\n",
    "# ])\n",
    "\n",
    "# model.compile(loss= \"mse\", optimizer= \"adam\",  metrics= ['mape', 'mae'])"
   ]
  },
  {
   "cell_type": "code",
   "execution_count": 21,
   "id": "c9390383",
   "metadata": {},
   "outputs": [],
   "source": [
    "# Storing the start time of model fitting process\n",
    "startTime = time.time()"
   ]
  },
  {
   "cell_type": "code",
   "execution_count": 22,
   "id": "e526e3ed",
   "metadata": {},
   "outputs": [
    {
     "name": "stdout",
     "output_type": "stream",
     "text": [
      "Epoch 1/100\n",
      "1105/1105 [==============================] - 13s 8ms/step - loss: 0.0123 - mape: 16809.3848 - mae: 0.0827 - val_loss: 0.0054 - val_mape: 8.5788 - val_mae: 0.0615\n",
      "Epoch 2/100\n",
      "1105/1105 [==============================] - 8s 7ms/step - loss: 0.0087 - mape: 15719.1895 - mae: 0.0733 - val_loss: 0.0053 - val_mape: 9.1590 - val_mae: 0.0607\n",
      "Epoch 3/100\n",
      "1105/1105 [==============================] - 8s 7ms/step - loss: 0.0079 - mape: 15858.2383 - mae: 0.0691 - val_loss: 0.0065 - val_mape: 9.1019 - val_mae: 0.0669\n",
      "Epoch 4/100\n",
      "1105/1105 [==============================] - 8s 7ms/step - loss: 0.0059 - mape: 15667.5781 - mae: 0.0563 - val_loss: 0.0126 - val_mape: 13.7898 - val_mae: 0.1005\n",
      "Epoch 5/100\n",
      "1105/1105 [==============================] - 8s 7ms/step - loss: 0.0048 - mape: 16247.4531 - mae: 0.0484 - val_loss: 0.0147 - val_mape: 14.9343 - val_mae: 0.1088\n",
      "Epoch 6/100\n",
      "1105/1105 [==============================] - 8s 7ms/step - loss: 0.0043 - mape: 14959.9160 - mae: 0.0450 - val_loss: 0.0141 - val_mape: 14.1155 - val_mae: 0.1042\n",
      "Epoch 7/100\n",
      "1105/1105 [==============================] - 9s 8ms/step - loss: 0.0040 - mape: 13653.6387 - mae: 0.0427 - val_loss: 0.0085 - val_mape: 10.8275 - val_mae: 0.0796\n",
      "Epoch 8/100\n",
      "1105/1105 [==============================] - 9s 8ms/step - loss: 0.0039 - mape: 10862.5215 - mae: 0.0417 - val_loss: 0.0101 - val_mape: 11.6883 - val_mae: 0.0861\n",
      "Epoch 9/100\n",
      "1105/1105 [==============================] - 9s 8ms/step - loss: 0.0037 - mape: 8664.2051 - mae: 0.0404 - val_loss: 0.0110 - val_mape: 12.5517 - val_mae: 0.0928\n",
      "Epoch 10/100\n",
      "1105/1105 [==============================] - 9s 8ms/step - loss: 0.0036 - mape: 9477.2900 - mae: 0.0393 - val_loss: 0.0119 - val_mape: 13.4050 - val_mae: 0.0976\n",
      "Epoch 11/100\n",
      "1105/1105 [==============================] - 9s 8ms/step - loss: 0.0034 - mape: 8689.1709 - mae: 0.0384 - val_loss: 0.0112 - val_mape: 12.7409 - val_mae: 0.0936\n",
      "Epoch 12/100\n",
      "1105/1105 [==============================] - 9s 8ms/step - loss: 0.0033 - mape: 8785.3662 - mae: 0.0371 - val_loss: 0.0107 - val_mape: 12.3681 - val_mae: 0.0906\n",
      "Epoch 13/100\n",
      "1105/1105 [==============================] - 8s 8ms/step - loss: 0.0032 - mape: 9047.4570 - mae: 0.0368 - val_loss: 0.0160 - val_mape: 16.0193 - val_mae: 0.1153\n",
      "Epoch 14/100\n",
      "1105/1105 [==============================] - 8s 7ms/step - loss: 0.0031 - mape: 6504.2593 - mae: 0.0363 - val_loss: 0.0091 - val_mape: 11.5581 - val_mae: 0.0838\n",
      "Epoch 15/100\n",
      "1105/1105 [==============================] - 8s 7ms/step - loss: 0.0031 - mape: 6662.5688 - mae: 0.0359 - val_loss: 0.0111 - val_mape: 12.5803 - val_mae: 0.0923\n",
      "Epoch 16/100\n",
      "1105/1105 [==============================] - 8s 7ms/step - loss: 0.0030 - mape: 5305.3032 - mae: 0.0352 - val_loss: 0.0076 - val_mape: 9.9025 - val_mae: 0.0734\n",
      "Epoch 17/100\n",
      "1105/1105 [==============================] - 8s 7ms/step - loss: 0.0030 - mape: 6376.6528 - mae: 0.0354 - val_loss: 0.0071 - val_mape: 9.7744 - val_mae: 0.0715\n",
      "Epoch 18/100\n",
      "1105/1105 [==============================] - 8s 7ms/step - loss: 0.0029 - mape: 7870.5435 - mae: 0.0345 - val_loss: 0.0104 - val_mape: 12.0560 - val_mae: 0.0889\n",
      "Epoch 19/100\n",
      "1105/1105 [==============================] - 9s 8ms/step - loss: 0.0029 - mape: 7903.5063 - mae: 0.0342 - val_loss: 0.0077 - val_mape: 10.1625 - val_mae: 0.0742\n",
      "Epoch 20/100\n",
      "1105/1105 [==============================] - 9s 8ms/step - loss: 0.0028 - mape: 5065.1538 - mae: 0.0340 - val_loss: 0.0103 - val_mape: 12.2183 - val_mae: 0.0897\n",
      "Epoch 21/100\n",
      "1105/1105 [==============================] - 8s 8ms/step - loss: 0.0028 - mape: 6493.7837 - mae: 0.0338 - val_loss: 0.0083 - val_mape: 10.7298 - val_mae: 0.0784\n",
      "Epoch 22/100\n",
      "1105/1105 [==============================] - 9s 8ms/step - loss: 0.0029 - mape: 8151.6001 - mae: 0.0342 - val_loss: 0.0097 - val_mape: 11.6207 - val_mae: 0.0851\n",
      "Epoch 23/100\n",
      "1105/1105 [==============================] - 9s 8ms/step - loss: 0.0027 - mape: 7092.6416 - mae: 0.0331 - val_loss: 0.0097 - val_mape: 11.1937 - val_mae: 0.0832\n",
      "Epoch 24/100\n",
      "1105/1105 [==============================] - 9s 8ms/step - loss: 0.0027 - mape: 5744.6641 - mae: 0.0326 - val_loss: 0.0080 - val_mape: 10.2761 - val_mae: 0.0757\n",
      "Epoch 25/100\n",
      "1105/1105 [==============================] - 9s 9ms/step - loss: 0.0027 - mape: 5470.5005 - mae: 0.0328 - val_loss: 0.0111 - val_mape: 12.5236 - val_mae: 0.0919\n",
      "Epoch 26/100\n",
      "1105/1105 [==============================] - 9s 9ms/step - loss: 0.0027 - mape: 5109.9937 - mae: 0.0330 - val_loss: 0.0074 - val_mape: 9.8930 - val_mae: 0.0728\n",
      "Epoch 27/100\n",
      "1105/1105 [==============================] - 9s 8ms/step - loss: 0.0025 - mape: 4230.3330 - mae: 0.0316 - val_loss: 0.0070 - val_mape: 9.8802 - val_mae: 0.0718\n",
      "Epoch 28/100\n",
      "1105/1105 [==============================] - 8s 8ms/step - loss: 0.0025 - mape: 5132.8354 - mae: 0.0319 - val_loss: 0.0115 - val_mape: 12.3809 - val_mae: 0.0916\n",
      "Epoch 29/100\n",
      "1105/1105 [==============================] - 8s 8ms/step - loss: 0.0024 - mape: 3614.9417 - mae: 0.0310 - val_loss: 0.0088 - val_mape: 10.9911 - val_mae: 0.0804\n",
      "Epoch 30/100\n",
      "1105/1105 [==============================] - 8s 8ms/step - loss: 0.0025 - mape: 3979.3767 - mae: 0.0316 - val_loss: 0.0068 - val_mape: 9.6863 - val_mae: 0.0704\n",
      "Epoch 31/100\n",
      "1105/1105 [==============================] - 8s 8ms/step - loss: 0.0026 - mape: 7797.9497 - mae: 0.0314 - val_loss: 0.0091 - val_mape: 11.5005 - val_mae: 0.0840\n",
      "Epoch 32/100\n",
      "1105/1105 [==============================] - 8s 8ms/step - loss: 0.0026 - mape: 5628.1470 - mae: 0.0316 - val_loss: 0.0077 - val_mape: 10.0438 - val_mae: 0.0738\n",
      "Epoch 33/100\n",
      "1105/1105 [==============================] - 8s 8ms/step - loss: 0.0025 - mape: 4307.4712 - mae: 0.0308 - val_loss: 0.0106 - val_mape: 11.8446 - val_mae: 0.0869\n",
      "Epoch 34/100\n",
      "1105/1105 [==============================] - 8s 8ms/step - loss: 0.0025 - mape: 5341.1001 - mae: 0.0310 - val_loss: 0.0109 - val_mape: 12.2522 - val_mae: 0.0900\n",
      "Epoch 35/100\n",
      "1105/1105 [==============================] - 8s 7ms/step - loss: 0.0026 - mape: 12586.5605 - mae: 0.0308 - val_loss: 0.0091 - val_mape: 11.2064 - val_mae: 0.0818\n",
      "Epoch 36/100\n",
      "1105/1105 [==============================] - 8s 7ms/step - loss: 0.0024 - mape: 6321.8579 - mae: 0.0304 - val_loss: 0.0064 - val_mape: 9.5005 - val_mae: 0.0683\n",
      "Epoch 37/100\n",
      "1105/1105 [==============================] - 8s 8ms/step - loss: 0.0023 - mape: 5040.1748 - mae: 0.0293 - val_loss: 0.0076 - val_mape: 10.1425 - val_mae: 0.0736\n",
      "Epoch 38/100\n",
      "1105/1105 [==============================] - 8s 7ms/step - loss: 0.0024 - mape: 5135.3022 - mae: 0.0301 - val_loss: 0.0081 - val_mape: 10.9020 - val_mae: 0.0789\n",
      "Epoch 39/100\n",
      "1105/1105 [==============================] - 8s 7ms/step - loss: 0.0024 - mape: 7584.7954 - mae: 0.0300 - val_loss: 0.0083 - val_mape: 11.0839 - val_mae: 0.0798\n",
      "Epoch 40/100\n",
      "1105/1105 [==============================] - 8s 8ms/step - loss: 0.0021 - mape: 3581.3713 - mae: 0.0283 - val_loss: 0.0096 - val_mape: 11.7432 - val_mae: 0.0855\n",
      "Epoch 41/100\n",
      "1105/1105 [==============================] - 8s 8ms/step - loss: 0.0024 - mape: 7261.3320 - mae: 0.0299 - val_loss: 0.0078 - val_mape: 10.5165 - val_mae: 0.0766\n",
      "Epoch 42/100\n",
      "1105/1105 [==============================] - 8s 7ms/step - loss: 0.0022 - mape: 5430.3638 - mae: 0.0287 - val_loss: 0.0112 - val_mape: 12.7659 - val_mae: 0.0926\n",
      "Epoch 43/100\n",
      "1105/1105 [==============================] - 8s 7ms/step - loss: 0.0023 - mape: 6379.3730 - mae: 0.0291 - val_loss: 0.0096 - val_mape: 11.2199 - val_mae: 0.0825\n",
      "Epoch 44/100\n",
      "1105/1105 [==============================] - 8s 7ms/step - loss: 0.0021 - mape: 2695.0723 - mae: 0.0284 - val_loss: 0.0097 - val_mape: 11.6009 - val_mae: 0.0848\n",
      "Epoch 45/100\n",
      "1105/1105 [==============================] - 8s 7ms/step - loss: 0.0019 - mape: 2329.0083 - mae: 0.0273 - val_loss: 0.0100 - val_mape: 11.9850 - val_mae: 0.0874\n",
      "Epoch 46/100\n",
      "1105/1105 [==============================] - 8s 7ms/step - loss: 0.0020 - mape: 3506.5637 - mae: 0.0276 - val_loss: 0.0092 - val_mape: 11.2987 - val_mae: 0.0824\n",
      "Epoch 47/100\n",
      "1105/1105 [==============================] - 8s 8ms/step - loss: 0.0022 - mape: 6570.2832 - mae: 0.0283 - val_loss: 0.0090 - val_mape: 11.1635 - val_mae: 0.0814\n",
      "Epoch 48/100\n"
     ]
    },
    {
     "name": "stdout",
     "output_type": "stream",
     "text": [
      "1105/1105 [==============================] - 8s 8ms/step - loss: 0.0020 - mape: 3188.6094 - mae: 0.0276 - val_loss: 0.0085 - val_mape: 10.9923 - val_mae: 0.0798\n",
      "Epoch 49/100\n",
      "1105/1105 [==============================] - 8s 8ms/step - loss: 0.0021 - mape: 4575.0142 - mae: 0.0280 - val_loss: 0.0087 - val_mape: 11.2215 - val_mae: 0.0816\n",
      "Epoch 50/100\n",
      "1105/1105 [==============================] - 8s 8ms/step - loss: 0.0020 - mape: 4417.4956 - mae: 0.0271 - val_loss: 0.0069 - val_mape: 9.5894 - val_mae: 0.0698\n",
      "Epoch 51/100\n",
      "1105/1105 [==============================] - 8s 8ms/step - loss: 0.0019 - mape: 3035.0552 - mae: 0.0271 - val_loss: 0.0089 - val_mape: 10.9674 - val_mae: 0.0806\n",
      "Epoch 52/100\n",
      "1105/1105 [==============================] - 8s 8ms/step - loss: 0.0020 - mape: 2943.1782 - mae: 0.0271 - val_loss: 0.0103 - val_mape: 11.7184 - val_mae: 0.0861\n",
      "Epoch 53/100\n",
      "1105/1105 [==============================] - 8s 8ms/step - loss: 0.0021 - mape: 4342.7192 - mae: 0.0279 - val_loss: 0.0078 - val_mape: 10.5267 - val_mae: 0.0769\n",
      "Epoch 54/100\n",
      "1105/1105 [==============================] - 8s 8ms/step - loss: 0.0019 - mape: 3590.2942 - mae: 0.0263 - val_loss: 0.0078 - val_mape: 10.1894 - val_mae: 0.0746\n",
      "Epoch 55/100\n",
      "1105/1105 [==============================] - 9s 8ms/step - loss: 0.0019 - mape: 3510.1772 - mae: 0.0264 - val_loss: 0.0093 - val_mape: 11.5062 - val_mae: 0.0835\n",
      "Epoch 56/100\n",
      "1105/1105 [==============================] - 8s 8ms/step - loss: 0.0019 - mape: 3971.8770 - mae: 0.0266 - val_loss: 0.0128 - val_mape: 12.5772 - val_mae: 0.0902\n",
      "Epoch 57/100\n",
      "1105/1105 [==============================] - 8s 8ms/step - loss: 0.0019 - mape: 2880.0588 - mae: 0.0266 - val_loss: 0.0121 - val_mape: 13.3713 - val_mae: 0.0959\n",
      "Epoch 58/100\n",
      "1105/1105 [==============================] - 8s 8ms/step - loss: 0.0018 - mape: 2348.9431 - mae: 0.0261 - val_loss: 0.0117 - val_mape: 12.7834 - val_mae: 0.0931\n",
      "Epoch 59/100\n",
      "1105/1105 [==============================] - 8s 8ms/step - loss: 0.0018 - mape: 2748.9609 - mae: 0.0263 - val_loss: 0.0073 - val_mape: 10.0917 - val_mae: 0.0719\n",
      "Epoch 60/100\n",
      "1105/1105 [==============================] - 8s 8ms/step - loss: 0.0018 - mape: 2490.0793 - mae: 0.0259 - val_loss: 0.0130 - val_mape: 13.6703 - val_mae: 0.0996\n",
      "Epoch 61/100\n",
      "1105/1105 [==============================] - 9s 8ms/step - loss: 0.0018 - mape: 2373.2527 - mae: 0.0261 - val_loss: 0.0188 - val_mape: 16.5782 - val_mae: 0.1196\n",
      "Epoch 62/100\n",
      "1105/1105 [==============================] - 9s 8ms/step - loss: 0.0018 - mape: 2677.5200 - mae: 0.0255 - val_loss: 0.0102 - val_mape: 11.8549 - val_mae: 0.0854\n",
      "Epoch 63/100\n",
      "1105/1105 [==============================] - 9s 8ms/step - loss: 0.0019 - mape: 3861.2388 - mae: 0.0262 - val_loss: 0.0074 - val_mape: 9.9549 - val_mae: 0.0706\n",
      "Epoch 64/100\n",
      "1105/1105 [==============================] - 9s 8ms/step - loss: 0.0017 - mape: 2905.9431 - mae: 0.0253 - val_loss: 0.0155 - val_mape: 14.9652 - val_mae: 0.1071\n",
      "Epoch 65/100\n",
      "1105/1105 [==============================] - 8s 8ms/step - loss: 0.0020 - mape: 2580.0676 - mae: 0.0267 - val_loss: 0.0142 - val_mape: 14.1661 - val_mae: 0.1021\n",
      "Epoch 66/100\n",
      "1105/1105 [==============================] - 9s 8ms/step - loss: 0.0017 - mape: 2538.2146 - mae: 0.0254 - val_loss: 0.0115 - val_mape: 12.8281 - val_mae: 0.0925\n",
      "Epoch 67/100\n",
      "1105/1105 [==============================] - 9s 8ms/step - loss: 0.0018 - mape: 3784.3020 - mae: 0.0258 - val_loss: 0.0130 - val_mape: 13.5775 - val_mae: 0.0986\n",
      "Epoch 68/100\n",
      "1105/1105 [==============================] - 9s 8ms/step - loss: 0.0017 - mape: 2277.0527 - mae: 0.0252 - val_loss: 0.0109 - val_mape: 12.0755 - val_mae: 0.0876\n",
      "Epoch 69/100\n",
      "1105/1105 [==============================] - 8s 8ms/step - loss: 0.0017 - mape: 2068.6577 - mae: 0.0254 - val_loss: 0.0102 - val_mape: 12.1806 - val_mae: 0.0882\n",
      "Epoch 70/100\n",
      "1105/1105 [==============================] - 9s 8ms/step - loss: 0.0018 - mape: 2963.3293 - mae: 0.0257 - val_loss: 0.0106 - val_mape: 12.0827 - val_mae: 0.0878\n",
      "Epoch 71/100\n",
      "1105/1105 [==============================] - 9s 8ms/step - loss: 0.0018 - mape: 2447.4817 - mae: 0.0253 - val_loss: 0.0116 - val_mape: 12.7687 - val_mae: 0.0932\n",
      "Epoch 72/100\n",
      "1105/1105 [==============================] - 9s 8ms/step - loss: 0.0016 - mape: 3077.2048 - mae: 0.0247 - val_loss: 0.0110 - val_mape: 12.3658 - val_mae: 0.0904\n",
      "Epoch 73/100\n",
      "1105/1105 [==============================] - 9s 8ms/step - loss: 0.0016 - mape: 2199.6182 - mae: 0.0247 - val_loss: 0.0137 - val_mape: 13.6494 - val_mae: 0.0998\n",
      "Epoch 74/100\n",
      "1105/1105 [==============================] - 9s 8ms/step - loss: 0.0016 - mape: 2637.0757 - mae: 0.0244 - val_loss: 0.0113 - val_mape: 12.4916 - val_mae: 0.0906\n",
      "Epoch 75/100\n",
      "1105/1105 [==============================] - 9s 8ms/step - loss: 0.0017 - mape: 2762.8755 - mae: 0.0254 - val_loss: 0.0165 - val_mape: 14.9024 - val_mae: 0.1087\n",
      "Epoch 76/100\n",
      "1105/1105 [==============================] - 9s 8ms/step - loss: 0.0019 - mape: 3681.6917 - mae: 0.0259 - val_loss: 0.0166 - val_mape: 15.3485 - val_mae: 0.1101\n",
      "Epoch 77/100\n",
      "1105/1105 [==============================] - 9s 8ms/step - loss: 0.0017 - mape: 2991.8030 - mae: 0.0246 - val_loss: 0.0107 - val_mape: 12.3032 - val_mae: 0.0891\n",
      "Epoch 78/100\n",
      "1105/1105 [==============================] - 9s 8ms/step - loss: 0.0017 - mape: 2580.4624 - mae: 0.0250 - val_loss: 0.0137 - val_mape: 13.5525 - val_mae: 0.0983\n",
      "Epoch 79/100\n",
      "1105/1105 [==============================] - 9s 8ms/step - loss: 0.0016 - mape: 2241.8992 - mae: 0.0245 - val_loss: 0.0132 - val_mape: 13.5211 - val_mae: 0.0982\n",
      "Epoch 80/100\n",
      "1105/1105 [==============================] - 9s 8ms/step - loss: 0.0017 - mape: 2736.2502 - mae: 0.0253 - val_loss: 0.0139 - val_mape: 13.8463 - val_mae: 0.1006\n",
      "Epoch 81/100\n",
      "1105/1105 [==============================] - 9s 8ms/step - loss: 0.0017 - mape: 3351.9841 - mae: 0.0250 - val_loss: 0.0174 - val_mape: 15.8748 - val_mae: 0.1152\n",
      "Epoch 82/100\n",
      "1105/1105 [==============================] - 8s 8ms/step - loss: 0.0016 - mape: 2495.8760 - mae: 0.0239 - val_loss: 0.0173 - val_mape: 15.7218 - val_mae: 0.1141\n",
      "Epoch 83/100\n",
      "1105/1105 [==============================] - 9s 8ms/step - loss: 0.0015 - mape: 2487.1191 - mae: 0.0240 - val_loss: 0.0129 - val_mape: 13.3372 - val_mae: 0.0966\n",
      "Epoch 84/100\n",
      "1105/1105 [==============================] - 9s 8ms/step - loss: 0.0016 - mape: 2358.6929 - mae: 0.0246 - val_loss: 0.0135 - val_mape: 13.8200 - val_mae: 0.1008\n",
      "Epoch 85/100\n",
      "1105/1105 [==============================] - 8s 8ms/step - loss: 0.0017 - mape: 3594.4709 - mae: 0.0249 - val_loss: 0.0144 - val_mape: 14.3602 - val_mae: 0.1030\n",
      "Epoch 86/100\n",
      "1105/1105 [==============================] - 9s 8ms/step - loss: 0.0017 - mape: 2810.8682 - mae: 0.0247 - val_loss: 0.0130 - val_mape: 13.6657 - val_mae: 0.0988\n",
      "Epoch 87/100\n",
      "1105/1105 [==============================] - 9s 8ms/step - loss: 0.0016 - mape: 2958.3533 - mae: 0.0242 - val_loss: 0.0133 - val_mape: 13.9658 - val_mae: 0.1004\n",
      "Epoch 88/100\n",
      "1105/1105 [==============================] - 9s 8ms/step - loss: 0.0016 - mape: 2707.0039 - mae: 0.0241 - val_loss: 0.0146 - val_mape: 14.5260 - val_mae: 0.1042\n",
      "Epoch 89/100\n",
      "1105/1105 [==============================] - 9s 8ms/step - loss: 0.0016 - mape: 2189.5273 - mae: 0.0244 - val_loss: 0.0159 - val_mape: 15.0743 - val_mae: 0.1094\n",
      "Epoch 90/100\n",
      "1105/1105 [==============================] - 9s 8ms/step - loss: 0.0016 - mape: 3193.7668 - mae: 0.0244 - val_loss: 0.0153 - val_mape: 14.6762 - val_mae: 0.1067\n",
      "Epoch 91/100\n",
      "1105/1105 [==============================] - 9s 8ms/step - loss: 0.0015 - mape: 1937.0179 - mae: 0.0237 - val_loss: 0.0163 - val_mape: 15.4726 - val_mae: 0.1107\n",
      "Epoch 92/100\n",
      "1105/1105 [==============================] - 9s 8ms/step - loss: 0.0014 - mape: 2488.0496 - mae: 0.0236 - val_loss: 0.0150 - val_mape: 14.8120 - val_mae: 0.1070\n",
      "Epoch 93/100\n",
      "1105/1105 [==============================] - 9s 8ms/step - loss: 0.0015 - mape: 2251.4902 - mae: 0.0241 - val_loss: 0.0111 - val_mape: 12.5584 - val_mae: 0.0905\n",
      "Epoch 94/100\n",
      "1105/1105 [==============================] - 9s 8ms/step - loss: 0.0015 - mape: 2705.8518 - mae: 0.0241 - val_loss: 0.0130 - val_mape: 13.4756 - val_mae: 0.0977\n",
      "Epoch 95/100\n"
     ]
    },
    {
     "name": "stdout",
     "output_type": "stream",
     "text": [
      "1105/1105 [==============================] - 8s 8ms/step - loss: 0.0015 - mape: 2730.5974 - mae: 0.0240 - val_loss: 0.0152 - val_mape: 14.8003 - val_mae: 0.1063\n",
      "Epoch 96/100\n",
      "1105/1105 [==============================] - 9s 8ms/step - loss: 0.0017 - mape: 3836.5977 - mae: 0.0247 - val_loss: 0.0111 - val_mape: 12.5840 - val_mae: 0.0908\n",
      "Epoch 97/100\n",
      "1105/1105 [==============================] - 9s 8ms/step - loss: 0.0015 - mape: 3456.1821 - mae: 0.0238 - val_loss: 0.0152 - val_mape: 14.8123 - val_mae: 0.1077\n",
      "Epoch 98/100\n",
      "1105/1105 [==============================] - 9s 8ms/step - loss: 0.0014 - mape: 2930.0188 - mae: 0.0232 - val_loss: 0.0129 - val_mape: 13.3786 - val_mae: 0.0973\n",
      "Epoch 99/100\n",
      "1105/1105 [==============================] - 8s 8ms/step - loss: 0.0015 - mape: 2641.3721 - mae: 0.0234 - val_loss: 0.0113 - val_mape: 12.3588 - val_mae: 0.0892\n",
      "Epoch 100/100\n",
      "1105/1105 [==============================] - 8s 8ms/step - loss: 0.0017 - mape: 2893.4419 - mae: 0.0249 - val_loss: 0.0135 - val_mape: 13.9067 - val_mae: 0.1003\n"
     ]
    },
    {
     "data": {
      "text/plain": [
       "<keras.callbacks.History at 0x1680b22ffd0>"
      ]
     },
     "execution_count": 22,
     "metadata": {},
     "output_type": "execute_result"
    }
   ],
   "source": [
    "model.fit(X_train, Y_train, epochs= epochs, batch_size= batchSize, verbose= 1, shuffle= True, validation_data= (X_valid, Y_valid))"
   ]
  },
  {
   "cell_type": "code",
   "execution_count": 23,
   "id": "cd839153",
   "metadata": {},
   "outputs": [
    {
     "name": "stdout",
     "output_type": "stream",
     "text": [
      "Total execution time in seconds: 856.0361888408661\n"
     ]
    }
   ],
   "source": [
    "calcExecTime = (time.time() - startTime)\n",
    "print('Total execution time in seconds: ' + str(calcExecTime))"
   ]
  },
  {
   "cell_type": "markdown",
   "id": "72aafa74",
   "metadata": {},
   "source": [
    "### MAKING PREDICTIONS AND GENERATING RESULTS"
   ]
  },
  {
   "cell_type": "code",
   "execution_count": 24,
   "id": "259bfb49",
   "metadata": {},
   "outputs": [
    {
     "name": "stdout",
     "output_type": "stream",
     "text": [
      "6/6 [==============================] - 1s 7ms/step\n"
     ]
    }
   ],
   "source": [
    "predictions = model.predict(X_test)"
   ]
  },
  {
   "cell_type": "code",
   "execution_count": 25,
   "id": "2912d431",
   "metadata": {},
   "outputs": [
    {
     "data": {
      "text/plain": [
       "array([0.5291238 , 0.5145987 , 0.4979536 , ..., 0.6001205 , 0.5869183 ,\n",
       "       0.57691616], dtype=float32)"
      ]
     },
     "execution_count": 25,
     "metadata": {},
     "output_type": "execute_result"
    }
   ],
   "source": [
    "predArr = predictions.reshape(predictions.shape[0] * predictions.shape[1], predictions.shape[2]).ravel()\n",
    "predArr"
   ]
  },
  {
   "cell_type": "code",
   "execution_count": 26,
   "id": "b01889f2",
   "metadata": {},
   "outputs": [
    {
     "data": {
      "text/plain": [
       "array([0.58507135, 0.58092873, 0.5809714 , ..., 0.59644577, 0.57572431,\n",
       "       0.55806777])"
      ]
     },
     "execution_count": 26,
     "metadata": {},
     "output_type": "execute_result"
    }
   ],
   "source": [
    "Y_testArr = Y_test.reshape(Y_test.shape[0] * Y_test.shape[1], Y_test.shape[2]).ravel()\n",
    "Y_testArr"
   ]
  },
  {
   "cell_type": "code",
   "execution_count": 27,
   "id": "799c97e8",
   "metadata": {},
   "outputs": [],
   "source": [
    "def inverse_transform(df):\n",
    "    column_names = df.columns\n",
    "    for col in column_names:\n",
    "        df[col] = ValScaler.inverse_transform(df[[col]]) \n",
    "    return df"
   ]
  },
  {
   "cell_type": "code",
   "execution_count": 28,
   "id": "afa81e30",
   "metadata": {},
   "outputs": [
    {
     "data": {
      "text/html": [
       "<div>\n",
       "<style scoped>\n",
       "    .dataframe tbody tr th:only-of-type {\n",
       "        vertical-align: middle;\n",
       "    }\n",
       "\n",
       "    .dataframe tbody tr th {\n",
       "        vertical-align: top;\n",
       "    }\n",
       "\n",
       "    .dataframe thead th {\n",
       "        text-align: right;\n",
       "    }\n",
       "</style>\n",
       "<table border=\"1\" class=\"dataframe\">\n",
       "  <thead>\n",
       "    <tr style=\"text-align: right;\">\n",
       "      <th></th>\n",
       "      <th>Values</th>\n",
       "      <th>Predictions</th>\n",
       "    </tr>\n",
       "  </thead>\n",
       "  <tbody>\n",
       "    <tr>\n",
       "      <th>0</th>\n",
       "      <td>5934.44</td>\n",
       "      <td>5265.789551</td>\n",
       "    </tr>\n",
       "    <tr>\n",
       "      <th>1</th>\n",
       "      <td>5884.93</td>\n",
       "      <td>5092.194824</td>\n",
       "    </tr>\n",
       "    <tr>\n",
       "      <th>2</th>\n",
       "      <td>5885.44</td>\n",
       "      <td>4893.262695</td>\n",
       "    </tr>\n",
       "    <tr>\n",
       "      <th>3</th>\n",
       "      <td>6091.43</td>\n",
       "      <td>4778.916992</td>\n",
       "    </tr>\n",
       "    <tr>\n",
       "      <th>4</th>\n",
       "      <td>6858.88</td>\n",
       "      <td>4745.947754</td>\n",
       "    </tr>\n",
       "    <tr>\n",
       "      <th>...</th>\n",
       "      <td>...</td>\n",
       "      <td>...</td>\n",
       "    </tr>\n",
       "    <tr>\n",
       "      <th>4363</th>\n",
       "      <td>6255.85</td>\n",
       "      <td>6455.327637</td>\n",
       "    </tr>\n",
       "    <tr>\n",
       "      <th>4364</th>\n",
       "      <td>6191.86</td>\n",
       "      <td>6283.231934</td>\n",
       "    </tr>\n",
       "    <tr>\n",
       "      <th>4365</th>\n",
       "      <td>6070.38</td>\n",
       "      <td>6114.297852</td>\n",
       "    </tr>\n",
       "    <tr>\n",
       "      <th>4366</th>\n",
       "      <td>5822.73</td>\n",
       "      <td>5956.513672</td>\n",
       "    </tr>\n",
       "    <tr>\n",
       "      <th>4367</th>\n",
       "      <td>5611.71</td>\n",
       "      <td>5836.974121</td>\n",
       "    </tr>\n",
       "  </tbody>\n",
       "</table>\n",
       "<p>4368 rows × 2 columns</p>\n",
       "</div>"
      ],
      "text/plain": [
       "       Values  Predictions\n",
       "0     5934.44  5265.789551\n",
       "1     5884.93  5092.194824\n",
       "2     5885.44  4893.262695\n",
       "3     6091.43  4778.916992\n",
       "4     6858.88  4745.947754\n",
       "...       ...          ...\n",
       "4363  6255.85  6455.327637\n",
       "4364  6191.86  6283.231934\n",
       "4365  6070.38  6114.297852\n",
       "4366  5822.73  5956.513672\n",
       "4367  5611.71  5836.974121\n",
       "\n",
       "[4368 rows x 2 columns]"
      ]
     },
     "execution_count": 28,
     "metadata": {},
     "output_type": "execute_result"
    }
   ],
   "source": [
    "comparisionDf = pd.DataFrame(data= {\"Values\": Y_testArr, \"Predictions\": predArr})\n",
    "comparisionDf = inverse_transform(comparisionDf)\n",
    "comparisionDf"
   ]
  },
  {
   "cell_type": "code",
   "execution_count": 29,
   "id": "88222bae",
   "metadata": {},
   "outputs": [
    {
     "data": {
      "text/plain": [
       "12.27946735546909"
      ]
     },
     "execution_count": 29,
     "metadata": {},
     "output_type": "execute_result"
    }
   ],
   "source": [
    "mape(comparisionDf[\"Values\"], comparisionDf[\"Predictions\"])"
   ]
  }
 ],
 "metadata": {
  "kernelspec": {
   "display_name": "Python 3 (ipykernel)",
   "language": "python",
   "name": "python3"
  },
  "language_info": {
   "codemirror_mode": {
    "name": "ipython",
    "version": 3
   },
   "file_extension": ".py",
   "mimetype": "text/x-python",
   "name": "python",
   "nbconvert_exporter": "python",
   "pygments_lexer": "ipython3",
   "version": "3.9.12"
  }
 },
 "nbformat": 4,
 "nbformat_minor": 5
}
