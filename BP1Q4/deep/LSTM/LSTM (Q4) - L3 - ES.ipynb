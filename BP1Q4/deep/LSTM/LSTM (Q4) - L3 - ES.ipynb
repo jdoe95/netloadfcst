{
 "cells": [
  {
   "cell_type": "code",
   "execution_count": 1,
   "id": "5f61b29f",
   "metadata": {},
   "outputs": [
    {
     "name": "stdout",
     "output_type": "stream",
     "text": [
      "Num GPUs Available:  1\n"
     ]
    }
   ],
   "source": [
    "import pandas as pd\n",
    "import numpy as np\n",
    "import os\n",
    "import matplotlib.pyplot as plt\n",
    "from datetime import datetime\n",
    "from sklearn.preprocessing import MinMaxScaler, RobustScaler, StandardScaler\n",
    "import time\n",
    "\n",
    "import tensorflow as tf\n",
    "tf.random.set_seed(42)\n",
    "\n",
    "def mape(y_true, y_pred):\n",
    "    y_true, y_pred = np.array(y_true), np.array(y_pred)\n",
    "    return np.mean(np.abs((y_true - y_pred) / max(y_true))) * 100\n",
    "\n",
    "def RMSELoss(yhat,y):\n",
    "    return torch.sqrt(torch.mean((yhat-y)**2))\n",
    "\n",
    "print(\"Num GPUs Available: \", len(tf.config.list_physical_devices('GPU')))"
   ]
  },
  {
   "cell_type": "code",
   "execution_count": 2,
   "id": "cea0abe2",
   "metadata": {},
   "outputs": [
    {
     "name": "stdout",
     "output_type": "stream",
     "text": [
      "['AT.csv', 'BE.csv', 'BG.csv', 'CH.csv', 'CZ.csv', 'DK.csv', 'ES.csv', 'FR.csv', 'GR.csv', 'IT.csv', 'NL.csv', 'PT.csv', 'SI.csv', 'SK.csv']\n"
     ]
    }
   ],
   "source": [
    "# Specifying the path of file\n",
    "path= r\"C:\\Users\\sashah8\\OneDrive - North Carolina State University\\Desktop\\Q4\\Data\\L3\\data_cleaned\"\n",
    "\n",
    "# Listing just the required files\n",
    "fileList = os.listdir(path)\n",
    "fileList.remove(\"Date.csv\")\n",
    "\n",
    "# Previewing the required file names\n",
    "print(fileList)"
   ]
  },
  {
   "cell_type": "code",
   "execution_count": 3,
   "id": "a6fe9396",
   "metadata": {},
   "outputs": [
    {
     "data": {
      "text/html": [
       "<div>\n",
       "<style scoped>\n",
       "    .dataframe tbody tr th:only-of-type {\n",
       "        vertical-align: middle;\n",
       "    }\n",
       "\n",
       "    .dataframe tbody tr th {\n",
       "        vertical-align: top;\n",
       "    }\n",
       "\n",
       "    .dataframe thead th {\n",
       "        text-align: right;\n",
       "    }\n",
       "</style>\n",
       "<table border=\"1\" class=\"dataframe\">\n",
       "  <thead>\n",
       "    <tr style=\"text-align: right;\">\n",
       "      <th></th>\n",
       "      <th>Demand</th>\n",
       "      <th>Normalized_net</th>\n",
       "      <th>Temperature</th>\n",
       "      <th>DNI</th>\n",
       "      <th>DHI</th>\n",
       "    </tr>\n",
       "  </thead>\n",
       "  <tbody>\n",
       "    <tr>\n",
       "      <th>0</th>\n",
       "      <td>0.0</td>\n",
       "      <td>0.085725</td>\n",
       "      <td>3.438</td>\n",
       "      <td>0.0</td>\n",
       "      <td>0.0</td>\n",
       "    </tr>\n",
       "    <tr>\n",
       "      <th>1</th>\n",
       "      <td>22684.0</td>\n",
       "      <td>0.592652</td>\n",
       "      <td>3.217</td>\n",
       "      <td>0.0</td>\n",
       "      <td>0.0</td>\n",
       "    </tr>\n",
       "    <tr>\n",
       "      <th>2</th>\n",
       "      <td>21236.0</td>\n",
       "      <td>0.560293</td>\n",
       "      <td>3.103</td>\n",
       "      <td>0.0</td>\n",
       "      <td>0.0</td>\n",
       "    </tr>\n",
       "    <tr>\n",
       "      <th>3</th>\n",
       "      <td>20222.0</td>\n",
       "      <td>0.537633</td>\n",
       "      <td>3.051</td>\n",
       "      <td>0.0</td>\n",
       "      <td>0.0</td>\n",
       "    </tr>\n",
       "    <tr>\n",
       "      <th>4</th>\n",
       "      <td>19871.0</td>\n",
       "      <td>0.529789</td>\n",
       "      <td>2.982</td>\n",
       "      <td>0.0</td>\n",
       "      <td>0.0</td>\n",
       "    </tr>\n",
       "    <tr>\n",
       "      <th>...</th>\n",
       "      <td>...</td>\n",
       "      <td>...</td>\n",
       "      <td>...</td>\n",
       "      <td>...</td>\n",
       "      <td>...</td>\n",
       "    </tr>\n",
       "    <tr>\n",
       "      <th>43819</th>\n",
       "      <td>29347.0</td>\n",
       "      <td>0.741553</td>\n",
       "      <td>8.295</td>\n",
       "      <td>0.0</td>\n",
       "      <td>0.0</td>\n",
       "    </tr>\n",
       "    <tr>\n",
       "      <th>43820</th>\n",
       "      <td>27593.0</td>\n",
       "      <td>0.702355</td>\n",
       "      <td>7.805</td>\n",
       "      <td>0.0</td>\n",
       "      <td>0.0</td>\n",
       "    </tr>\n",
       "    <tr>\n",
       "      <th>43821</th>\n",
       "      <td>25226.0</td>\n",
       "      <td>0.649459</td>\n",
       "      <td>7.342</td>\n",
       "      <td>0.0</td>\n",
       "      <td>0.0</td>\n",
       "    </tr>\n",
       "    <tr>\n",
       "      <th>43822</th>\n",
       "      <td>23896.0</td>\n",
       "      <td>0.619737</td>\n",
       "      <td>6.959</td>\n",
       "      <td>0.0</td>\n",
       "      <td>0.0</td>\n",
       "    </tr>\n",
       "    <tr>\n",
       "      <th>43823</th>\n",
       "      <td>22948.0</td>\n",
       "      <td>0.598552</td>\n",
       "      <td>6.652</td>\n",
       "      <td>0.0</td>\n",
       "      <td>0.0</td>\n",
       "    </tr>\n",
       "  </tbody>\n",
       "</table>\n",
       "<p>43824 rows × 5 columns</p>\n",
       "</div>"
      ],
      "text/plain": [
       "        Demand  Normalized_net  Temperature  DNI  DHI\n",
       "0          0.0        0.085725        3.438  0.0  0.0\n",
       "1      22684.0        0.592652        3.217  0.0  0.0\n",
       "2      21236.0        0.560293        3.103  0.0  0.0\n",
       "3      20222.0        0.537633        3.051  0.0  0.0\n",
       "4      19871.0        0.529789        2.982  0.0  0.0\n",
       "...        ...             ...          ...  ...  ...\n",
       "43819  29347.0        0.741553        8.295  0.0  0.0\n",
       "43820  27593.0        0.702355        7.805  0.0  0.0\n",
       "43821  25226.0        0.649459        7.342  0.0  0.0\n",
       "43822  23896.0        0.619737        6.959  0.0  0.0\n",
       "43823  22948.0        0.598552        6.652  0.0  0.0\n",
       "\n",
       "[43824 rows x 5 columns]"
      ]
     },
     "execution_count": 3,
     "metadata": {},
     "output_type": "execute_result"
    }
   ],
   "source": [
    "# Just for previewing the columns\n",
    "pd.read_csv(os.path.join(path, fileList[6]))"
   ]
  },
  {
   "cell_type": "markdown",
   "id": "9ad4906c",
   "metadata": {
    "pycharm": {
     "name": "#%% md\n"
    }
   },
   "source": [
    "### PROCESSING THE DATA"
   ]
  },
  {
   "cell_type": "code",
   "execution_count": 4,
   "id": "f29f6db2",
   "metadata": {},
   "outputs": [
    {
     "data": {
      "text/html": [
       "<div>\n",
       "<style scoped>\n",
       "    .dataframe tbody tr th:only-of-type {\n",
       "        vertical-align: middle;\n",
       "    }\n",
       "\n",
       "    .dataframe tbody tr th {\n",
       "        vertical-align: top;\n",
       "    }\n",
       "\n",
       "    .dataframe thead th {\n",
       "        text-align: right;\n",
       "    }\n",
       "</style>\n",
       "<table border=\"1\" class=\"dataframe\">\n",
       "  <thead>\n",
       "    <tr style=\"text-align: right;\">\n",
       "      <th></th>\n",
       "      <th>Load_ES</th>\n",
       "      <th>Temp_ES</th>\n",
       "    </tr>\n",
       "  </thead>\n",
       "  <tbody>\n",
       "    <tr>\n",
       "      <th>0</th>\n",
       "      <td>0.0</td>\n",
       "      <td>3.438</td>\n",
       "    </tr>\n",
       "    <tr>\n",
       "      <th>1</th>\n",
       "      <td>22684.0</td>\n",
       "      <td>3.217</td>\n",
       "    </tr>\n",
       "    <tr>\n",
       "      <th>2</th>\n",
       "      <td>21236.0</td>\n",
       "      <td>3.103</td>\n",
       "    </tr>\n",
       "    <tr>\n",
       "      <th>3</th>\n",
       "      <td>20222.0</td>\n",
       "      <td>3.051</td>\n",
       "    </tr>\n",
       "    <tr>\n",
       "      <th>4</th>\n",
       "      <td>19871.0</td>\n",
       "      <td>2.982</td>\n",
       "    </tr>\n",
       "    <tr>\n",
       "      <th>...</th>\n",
       "      <td>...</td>\n",
       "      <td>...</td>\n",
       "    </tr>\n",
       "    <tr>\n",
       "      <th>43819</th>\n",
       "      <td>29347.0</td>\n",
       "      <td>8.295</td>\n",
       "    </tr>\n",
       "    <tr>\n",
       "      <th>43820</th>\n",
       "      <td>27593.0</td>\n",
       "      <td>7.805</td>\n",
       "    </tr>\n",
       "    <tr>\n",
       "      <th>43821</th>\n",
       "      <td>25226.0</td>\n",
       "      <td>7.342</td>\n",
       "    </tr>\n",
       "    <tr>\n",
       "      <th>43822</th>\n",
       "      <td>23896.0</td>\n",
       "      <td>6.959</td>\n",
       "    </tr>\n",
       "    <tr>\n",
       "      <th>43823</th>\n",
       "      <td>22948.0</td>\n",
       "      <td>6.652</td>\n",
       "    </tr>\n",
       "  </tbody>\n",
       "</table>\n",
       "<p>43824 rows × 2 columns</p>\n",
       "</div>"
      ],
      "text/plain": [
       "       Load_ES  Temp_ES\n",
       "0          0.0    3.438\n",
       "1      22684.0    3.217\n",
       "2      21236.0    3.103\n",
       "3      20222.0    3.051\n",
       "4      19871.0    2.982\n",
       "...        ...      ...\n",
       "43819  29347.0    8.295\n",
       "43820  27593.0    7.805\n",
       "43821  25226.0    7.342\n",
       "43822  23896.0    6.959\n",
       "43823  22948.0    6.652\n",
       "\n",
       "[43824 rows x 2 columns]"
      ]
     },
     "execution_count": 4,
     "metadata": {},
     "output_type": "execute_result"
    }
   ],
   "source": [
    "# Restricting the load data to a single zone\n",
    "fileName  = fileList[6]\n",
    "\n",
    "zoneData = pd.read_csv(os.path.join(path, fileName), usecols= [\"Demand\", \"Temperature\"])\n",
    "zoneData.columns = [\"Load_\"+str(fileName[:-4]), \"Temp_\"+str(fileName[:-4])]\n",
    "\n",
    "# For fixing one missing row\n",
    "# zoneData = pd.concat([zoneData.loc[[0]], zoneData], axis= 0).reset_index(drop= True)\n",
    "\n",
    "zoneData"
   ]
  },
  {
   "cell_type": "markdown",
   "id": "01cec4bd",
   "metadata": {},
   "source": [
    "### FEATURE ENGINEERING AND SPLITTING INTO TRAIN-TEST SPLIT"
   ]
  },
  {
   "cell_type": "code",
   "execution_count": 5,
   "id": "a1e1e8a3",
   "metadata": {},
   "outputs": [],
   "source": [
    "def lagGenerator(dF, lagList):\n",
    "    dF_temp = dF.filter(regex= \"Load\").copy()\n",
    "    \n",
    "    for i in lagList:\n",
    "        dF_temp.loc[:, \"Lag-\" + str(i)] = dF_temp.iloc[:,[0]].shift(i*24)\n",
    "    \n",
    "    return(dF_temp.filter(regex= \"Lag\"))"
   ]
  },
  {
   "cell_type": "code",
   "execution_count": 6,
   "id": "159a2a82",
   "metadata": {},
   "outputs": [
    {
     "data": {
      "text/html": [
       "<div>\n",
       "<style scoped>\n",
       "    .dataframe tbody tr th:only-of-type {\n",
       "        vertical-align: middle;\n",
       "    }\n",
       "\n",
       "    .dataframe tbody tr th {\n",
       "        vertical-align: top;\n",
       "    }\n",
       "\n",
       "    .dataframe thead th {\n",
       "        text-align: right;\n",
       "    }\n",
       "</style>\n",
       "<table border=\"1\" class=\"dataframe\">\n",
       "  <thead>\n",
       "    <tr style=\"text-align: right;\">\n",
       "      <th></th>\n",
       "      <th>Lag-2</th>\n",
       "      <th>Lag-7</th>\n",
       "    </tr>\n",
       "  </thead>\n",
       "  <tbody>\n",
       "    <tr>\n",
       "      <th>0</th>\n",
       "      <td>NaN</td>\n",
       "      <td>NaN</td>\n",
       "    </tr>\n",
       "    <tr>\n",
       "      <th>1</th>\n",
       "      <td>NaN</td>\n",
       "      <td>NaN</td>\n",
       "    </tr>\n",
       "  </tbody>\n",
       "</table>\n",
       "</div>"
      ],
      "text/plain": [
       "   Lag-2  Lag-7\n",
       "0    NaN    NaN\n",
       "1    NaN    NaN"
      ]
     },
     "execution_count": 6,
     "metadata": {},
     "output_type": "execute_result"
    }
   ],
   "source": [
    "Load_lags = lagGenerator(dF=zoneData, lagList=[2,7])\n",
    "Load_lags.head(2)"
   ]
  },
  {
   "cell_type": "code",
   "execution_count": 7,
   "id": "05896954",
   "metadata": {},
   "outputs": [
    {
     "data": {
      "text/html": [
       "<div>\n",
       "<style scoped>\n",
       "    .dataframe tbody tr th:only-of-type {\n",
       "        vertical-align: middle;\n",
       "    }\n",
       "\n",
       "    .dataframe tbody tr th {\n",
       "        vertical-align: top;\n",
       "    }\n",
       "\n",
       "    .dataframe thead th {\n",
       "        text-align: right;\n",
       "    }\n",
       "</style>\n",
       "<table border=\"1\" class=\"dataframe\">\n",
       "  <thead>\n",
       "    <tr style=\"text-align: right;\">\n",
       "      <th></th>\n",
       "      <th>Load_ES</th>\n",
       "      <th>Temp_ES</th>\n",
       "      <th>Lag-2</th>\n",
       "      <th>Lag-7</th>\n",
       "    </tr>\n",
       "  </thead>\n",
       "  <tbody>\n",
       "    <tr>\n",
       "      <th>0</th>\n",
       "      <td>25747.0</td>\n",
       "      <td>5.151</td>\n",
       "      <td>23909.0</td>\n",
       "      <td>0.0</td>\n",
       "    </tr>\n",
       "    <tr>\n",
       "      <th>1</th>\n",
       "      <td>24445.0</td>\n",
       "      <td>4.890</td>\n",
       "      <td>22087.0</td>\n",
       "      <td>22684.0</td>\n",
       "    </tr>\n",
       "    <tr>\n",
       "      <th>2</th>\n",
       "      <td>23847.0</td>\n",
       "      <td>4.670</td>\n",
       "      <td>20984.0</td>\n",
       "      <td>21236.0</td>\n",
       "    </tr>\n",
       "    <tr>\n",
       "      <th>3</th>\n",
       "      <td>23725.0</td>\n",
       "      <td>4.455</td>\n",
       "      <td>20487.0</td>\n",
       "      <td>20222.0</td>\n",
       "    </tr>\n",
       "    <tr>\n",
       "      <th>4</th>\n",
       "      <td>24384.0</td>\n",
       "      <td>4.295</td>\n",
       "      <td>20447.0</td>\n",
       "      <td>19871.0</td>\n",
       "    </tr>\n",
       "    <tr>\n",
       "      <th>...</th>\n",
       "      <td>...</td>\n",
       "      <td>...</td>\n",
       "      <td>...</td>\n",
       "      <td>...</td>\n",
       "    </tr>\n",
       "    <tr>\n",
       "      <th>43651</th>\n",
       "      <td>29347.0</td>\n",
       "      <td>8.295</td>\n",
       "      <td>28758.0</td>\n",
       "      <td>26307.0</td>\n",
       "    </tr>\n",
       "    <tr>\n",
       "      <th>43652</th>\n",
       "      <td>27593.0</td>\n",
       "      <td>7.805</td>\n",
       "      <td>28881.0</td>\n",
       "      <td>24646.0</td>\n",
       "    </tr>\n",
       "    <tr>\n",
       "      <th>43653</th>\n",
       "      <td>25226.0</td>\n",
       "      <td>7.342</td>\n",
       "      <td>27809.0</td>\n",
       "      <td>22481.0</td>\n",
       "    </tr>\n",
       "    <tr>\n",
       "      <th>43654</th>\n",
       "      <td>23896.0</td>\n",
       "      <td>6.959</td>\n",
       "      <td>25615.0</td>\n",
       "      <td>21518.0</td>\n",
       "    </tr>\n",
       "    <tr>\n",
       "      <th>43655</th>\n",
       "      <td>22948.0</td>\n",
       "      <td>6.652</td>\n",
       "      <td>23231.0</td>\n",
       "      <td>20922.0</td>\n",
       "    </tr>\n",
       "  </tbody>\n",
       "</table>\n",
       "<p>43656 rows × 4 columns</p>\n",
       "</div>"
      ],
      "text/plain": [
       "       Load_ES  Temp_ES    Lag-2    Lag-7\n",
       "0      25747.0    5.151  23909.0      0.0\n",
       "1      24445.0    4.890  22087.0  22684.0\n",
       "2      23847.0    4.670  20984.0  21236.0\n",
       "3      23725.0    4.455  20487.0  20222.0\n",
       "4      24384.0    4.295  20447.0  19871.0\n",
       "...        ...      ...      ...      ...\n",
       "43651  29347.0    8.295  28758.0  26307.0\n",
       "43652  27593.0    7.805  28881.0  24646.0\n",
       "43653  25226.0    7.342  27809.0  22481.0\n",
       "43654  23896.0    6.959  25615.0  21518.0\n",
       "43655  22948.0    6.652  23231.0  20922.0\n",
       "\n",
       "[43656 rows x 4 columns]"
      ]
     },
     "execution_count": 7,
     "metadata": {},
     "output_type": "execute_result"
    }
   ],
   "source": [
    "dataDf = pd.concat([zoneData, Load_lags], axis= 1).dropna(axis= 0).reset_index(drop= True)\n",
    "dataDf"
   ]
  },
  {
   "cell_type": "code",
   "execution_count": 8,
   "id": "6ad25321",
   "metadata": {},
   "outputs": [],
   "source": [
    "# Setting the train-test split ratio\n",
    "ratio = 0.1"
   ]
  },
  {
   "cell_type": "code",
   "execution_count": 9,
   "id": "3c08d963",
   "metadata": {},
   "outputs": [],
   "source": [
    "Num_train, Num_test = int(len(dataDf)/24 * (1 - ratio)) * 24, int(len(dataDf)/24 * ratio) * 24"
   ]
  },
  {
   "cell_type": "code",
   "execution_count": 10,
   "id": "cbe069ff",
   "metadata": {},
   "outputs": [],
   "source": [
    "# Splitting the data into train and test\n",
    "data_train, data_test = dataDf[:Num_train], dataDf[Num_train:]"
   ]
  },
  {
   "cell_type": "code",
   "execution_count": 11,
   "id": "d84e15c4",
   "metadata": {},
   "outputs": [],
   "source": [
    "Num_train, Num_valid = int(len(data_train)/24 * (1 - ratio)) * 24, int(len(data_train)/24 * ratio) * 24"
   ]
  },
  {
   "cell_type": "code",
   "execution_count": 12,
   "id": "c17d1723",
   "metadata": {},
   "outputs": [],
   "source": [
    "# Splitting the data into train and test\n",
    "data_train, data_valid = data_train[:Num_train], data_train[Num_train:]"
   ]
  },
  {
   "cell_type": "markdown",
   "id": "88d32011",
   "metadata": {},
   "source": [
    "### SPLITTING INTO X AND Y PART WITH SEQUENCE BATCHING"
   ]
  },
  {
   "cell_type": "code",
   "execution_count": 13,
   "id": "4ba286ca",
   "metadata": {},
   "outputs": [],
   "source": [
    "X_train_df, Y_train_df = data_train.iloc[:, 1:], data_train.iloc[:, :1]\n",
    "\n",
    "X_valid_df, Y_valid_df = data_valid.iloc[:, 1:], data_valid.iloc[:, :1]\n",
    "\n",
    "X_test_df, Y_test_df = data_test.iloc[:, 1:], data_test.iloc[:, :1]"
   ]
  },
  {
   "cell_type": "code",
   "execution_count": 14,
   "id": "ef1d9079",
   "metadata": {},
   "outputs": [],
   "source": [
    "# Preparing the scaler\n",
    "ValScaler = MinMaxScaler()\n",
    "\n",
    "X_train = ValScaler.fit_transform(X_train_df)\n",
    "X_valid = ValScaler.transform(X_valid_df)\n",
    "X_test = ValScaler.transform(X_test_df)\n",
    "\n",
    "Y_train = ValScaler.fit_transform(Y_train_df)\n",
    "Y_valid = ValScaler.transform(Y_valid_df)\n",
    "Y_test = ValScaler.transform(Y_test_df)"
   ]
  },
  {
   "cell_type": "code",
   "execution_count": 15,
   "id": "43594401",
   "metadata": {},
   "outputs": [],
   "source": [
    "def splitData(dataset):\n",
    "    data = np.array(np.split(dataset, len(dataset)/24))\n",
    "    return data"
   ]
  },
  {
   "cell_type": "code",
   "execution_count": 16,
   "id": "300696b2",
   "metadata": {},
   "outputs": [],
   "source": [
    "def supervisedSet(X_part, Y_part, steps= 24):\n",
    "    X_array, Y_array = np.array(X_part), np.array(Y_part)\n",
    "    X, Y = [], []\n",
    "    \n",
    "    for i in range(len(X_array)):\n",
    "        endIdx = i + steps\n",
    "        \n",
    "        if endIdx > len(X_array):\n",
    "            break\n",
    "        \n",
    "        batch_X, batch_Y = X_array[i:endIdx], Y_array[i:endIdx]\n",
    "        \n",
    "        X.append(batch_X)\n",
    "        Y.append(batch_Y)\n",
    "        \n",
    "    return np.array(X), np.array(Y)"
   ]
  },
  {
   "cell_type": "code",
   "execution_count": 17,
   "id": "fc9cd97d",
   "metadata": {},
   "outputs": [],
   "source": [
    "X_train, Y_train = supervisedSet(X_train, Y_train)\n",
    "\n",
    "X_valid, Y_valid = splitData(X_valid), splitData(Y_valid)\n",
    "\n",
    "X_test, Y_test = splitData(X_test), splitData(Y_test)"
   ]
  },
  {
   "cell_type": "markdown",
   "id": "a2a6bf32",
   "metadata": {},
   "source": [
    "### WORKING ON THE MODEL"
   ]
  },
  {
   "cell_type": "code",
   "execution_count": 18,
   "id": "ff71a98c",
   "metadata": {},
   "outputs": [],
   "source": [
    "epochs = 100\n",
    "batchSize = 32"
   ]
  },
  {
   "cell_type": "code",
   "execution_count": 19,
   "id": "8d600c17",
   "metadata": {},
   "outputs": [],
   "source": [
    "# Encoder-decoder architecture [tanh required to use tensorflow on gpu]\n",
    "model = tf.keras.Sequential([\n",
    "    tf.keras.layers.LSTM(units= 128, activation= \"tanh\", input_shape= (X_train.shape[1], X_train.shape[2]), dropout= 0.2),\n",
    "    tf.keras.layers.RepeatVector(Y_train.shape[1]),\n",
    "    tf.keras.layers.LSTM(units= 128, activation= \"tanh\", return_sequences= True, dropout= 0.2),\n",
    "    tf.keras.layers.TimeDistributed(tf.keras.layers.Dense(units= 128, activation= \"relu\")),\n",
    "    tf.keras.layers.Dropout(0.2),\n",
    "    tf.keras.layers.TimeDistributed(tf.keras.layers.Dense(units= 1))\n",
    "])\n",
    "\n",
    "model.compile(loss= \"mse\", optimizer= \"adam\",  metrics= ['mape', 'mae'])"
   ]
  },
  {
   "cell_type": "code",
   "execution_count": 20,
   "id": "a05c033a",
   "metadata": {},
   "outputs": [],
   "source": [
    "# model = tf.keras.Sequential([\n",
    "#     tf.keras.layers.LSTM(units= 256, activation= \"tanh\", input_shape= (X_train.shape[1], X_train.shape[2])),\n",
    "#     tf.keras.layers.Dense(units= 128, activation= \"tanh\"),\n",
    "#     tf.keras.layers.Dense(units= 1)\n",
    "# ])\n",
    "\n",
    "# model.compile(loss= \"mse\", optimizer= \"adam\",  metrics= ['mape', 'mae'])"
   ]
  },
  {
   "cell_type": "code",
   "execution_count": 21,
   "id": "c9390383",
   "metadata": {},
   "outputs": [],
   "source": [
    "# Storing the start time of model fitting process\n",
    "startTime = time.time()"
   ]
  },
  {
   "cell_type": "code",
   "execution_count": 22,
   "id": "e526e3ed",
   "metadata": {},
   "outputs": [
    {
     "name": "stdout",
     "output_type": "stream",
     "text": [
      "Epoch 1/100\n",
      "1105/1105 [==============================] - 14s 9ms/step - loss: 0.0137 - mape: 109400.7266 - mae: 0.0919 - val_loss: 0.0068 - val_mape: 10.4167 - val_mae: 0.0670\n",
      "Epoch 2/100\n",
      "1105/1105 [==============================] - 9s 8ms/step - loss: 0.0096 - mape: 106579.8828 - mae: 0.0802 - val_loss: 0.0046 - val_mape: 8.2896 - val_mae: 0.0537\n",
      "Epoch 3/100\n",
      "1105/1105 [==============================] - 9s 8ms/step - loss: 0.0058 - mape: 111991.8359 - mae: 0.0592 - val_loss: 0.0122 - val_mape: 13.3663 - val_mae: 0.0923\n",
      "Epoch 4/100\n",
      "1105/1105 [==============================] - 9s 8ms/step - loss: 0.0043 - mape: 109424.4453 - mae: 0.0496 - val_loss: 0.0124 - val_mape: 13.8619 - val_mae: 0.0946\n",
      "Epoch 5/100\n",
      "1105/1105 [==============================] - 9s 8ms/step - loss: 0.0034 - mape: 108898.8281 - mae: 0.0438 - val_loss: 0.0125 - val_mape: 13.8287 - val_mae: 0.0943\n",
      "Epoch 6/100\n",
      "1105/1105 [==============================] - 9s 8ms/step - loss: 0.0031 - mape: 108655.3047 - mae: 0.0407 - val_loss: 0.0073 - val_mape: 10.8106 - val_mae: 0.0721\n",
      "Epoch 7/100\n",
      "1105/1105 [==============================] - 9s 8ms/step - loss: 0.0028 - mape: 109302.1250 - mae: 0.0387 - val_loss: 0.0065 - val_mape: 10.0254 - val_mae: 0.0670\n",
      "Epoch 8/100\n",
      "1105/1105 [==============================] - 9s 8ms/step - loss: 0.0026 - mape: 108299.8906 - mae: 0.0371 - val_loss: 0.0061 - val_mape: 9.7946 - val_mae: 0.0639\n",
      "Epoch 9/100\n",
      "1105/1105 [==============================] - 9s 8ms/step - loss: 0.0025 - mape: 108371.2422 - mae: 0.0364 - val_loss: 0.0077 - val_mape: 10.9995 - val_mae: 0.0735\n",
      "Epoch 10/100\n",
      "1105/1105 [==============================] - 9s 8ms/step - loss: 0.0024 - mape: 107983.1016 - mae: 0.0355 - val_loss: 0.0058 - val_mape: 9.5227 - val_mae: 0.0624\n",
      "Epoch 11/100\n",
      "1105/1105 [==============================] - 9s 8ms/step - loss: 0.0024 - mape: 108639.0234 - mae: 0.0348 - val_loss: 0.0066 - val_mape: 9.9843 - val_mae: 0.0666\n",
      "Epoch 12/100\n",
      "1105/1105 [==============================] - 9s 8ms/step - loss: 0.0023 - mape: 108163.8672 - mae: 0.0344 - val_loss: 0.0090 - val_mape: 12.2113 - val_mae: 0.0789\n",
      "Epoch 13/100\n",
      "1105/1105 [==============================] - 9s 8ms/step - loss: 0.0024 - mape: 108650.3438 - mae: 0.0351 - val_loss: 0.0058 - val_mape: 9.5507 - val_mae: 0.0633\n",
      "Epoch 14/100\n",
      "1105/1105 [==============================] - 9s 8ms/step - loss: 0.0022 - mape: 107336.7578 - mae: 0.0331 - val_loss: 0.0057 - val_mape: 9.6080 - val_mae: 0.0631\n",
      "Epoch 15/100\n",
      "1105/1105 [==============================] - 9s 8ms/step - loss: 0.0021 - mape: 107988.5078 - mae: 0.0327 - val_loss: 0.0048 - val_mape: 8.6452 - val_mae: 0.0566\n",
      "Epoch 16/100\n",
      "1105/1105 [==============================] - 9s 8ms/step - loss: 0.0021 - mape: 107181.7500 - mae: 0.0321 - val_loss: 0.0088 - val_mape: 11.9126 - val_mae: 0.0798\n",
      "Epoch 17/100\n",
      "1105/1105 [==============================] - 9s 8ms/step - loss: 0.0021 - mape: 107917.6797 - mae: 0.0320 - val_loss: 0.0055 - val_mape: 9.3090 - val_mae: 0.0612\n",
      "Epoch 18/100\n",
      "1105/1105 [==============================] - 9s 8ms/step - loss: 0.0020 - mape: 106570.6875 - mae: 0.0314 - val_loss: 0.0049 - val_mape: 8.7655 - val_mae: 0.0577\n",
      "Epoch 19/100\n",
      "1105/1105 [==============================] - 9s 8ms/step - loss: 0.0019 - mape: 106886.8594 - mae: 0.0308 - val_loss: 0.0045 - val_mape: 8.6218 - val_mae: 0.0557\n",
      "Epoch 20/100\n",
      "1105/1105 [==============================] - 9s 8ms/step - loss: 0.0019 - mape: 107499.9922 - mae: 0.0306 - val_loss: 0.0044 - val_mape: 8.3927 - val_mae: 0.0550\n",
      "Epoch 21/100\n",
      "1105/1105 [==============================] - 9s 8ms/step - loss: 0.0019 - mape: 107613.8828 - mae: 0.0302 - val_loss: 0.0049 - val_mape: 9.2283 - val_mae: 0.0598\n",
      "Epoch 22/100\n",
      "1105/1105 [==============================] - 9s 8ms/step - loss: 0.0019 - mape: 106884.9844 - mae: 0.0299 - val_loss: 0.0032 - val_mape: 7.2140 - val_mae: 0.0458\n",
      "Epoch 23/100\n",
      "1105/1105 [==============================] - 9s 8ms/step - loss: 0.0018 - mape: 106223.1172 - mae: 0.0295 - val_loss: 0.0052 - val_mape: 9.3198 - val_mae: 0.0602\n",
      "Epoch 24/100\n",
      "1105/1105 [==============================] - 8s 8ms/step - loss: 0.0018 - mape: 107749.6484 - mae: 0.0291 - val_loss: 0.0041 - val_mape: 7.9895 - val_mae: 0.0526\n",
      "Epoch 25/100\n",
      "1105/1105 [==============================] - 8s 8ms/step - loss: 0.0017 - mape: 106810.2500 - mae: 0.0289 - val_loss: 0.0115 - val_mape: 13.8826 - val_mae: 0.0916\n",
      "Epoch 26/100\n",
      "1105/1105 [==============================] - 9s 8ms/step - loss: 0.0017 - mape: 107026.4453 - mae: 0.0286 - val_loss: 0.0066 - val_mape: 10.3289 - val_mae: 0.0677\n",
      "Epoch 27/100\n",
      "1105/1105 [==============================] - 9s 8ms/step - loss: 0.0017 - mape: 106433.7500 - mae: 0.0281 - val_loss: 0.0058 - val_mape: 9.5558 - val_mae: 0.0629\n",
      "Epoch 28/100\n",
      "1105/1105 [==============================] - 9s 8ms/step - loss: 0.0016 - mape: 106505.7188 - mae: 0.0277 - val_loss: 0.0066 - val_mape: 9.9177 - val_mae: 0.0636\n",
      "Epoch 29/100\n",
      "1105/1105 [==============================] - 9s 8ms/step - loss: 0.0016 - mape: 106724.2656 - mae: 0.0277 - val_loss: 0.0136 - val_mape: 15.1780 - val_mae: 0.0998\n",
      "Epoch 30/100\n",
      "1105/1105 [==============================] - 9s 8ms/step - loss: 0.0016 - mape: 105703.2188 - mae: 0.0272 - val_loss: 0.0068 - val_mape: 10.0863 - val_mae: 0.0656\n",
      "Epoch 31/100\n",
      "1105/1105 [==============================] - 9s 8ms/step - loss: 0.0015 - mape: 106855.8047 - mae: 0.0268 - val_loss: 0.0101 - val_mape: 12.8689 - val_mae: 0.0850\n",
      "Epoch 32/100\n",
      "1105/1105 [==============================] - 9s 8ms/step - loss: 0.0015 - mape: 106087.0938 - mae: 0.0266 - val_loss: 0.0070 - val_mape: 10.2103 - val_mae: 0.0680\n",
      "Epoch 33/100\n",
      "1105/1105 [==============================] - 9s 8ms/step - loss: 0.0015 - mape: 104259.1172 - mae: 0.0264 - val_loss: 0.0080 - val_mape: 10.9906 - val_mae: 0.0727\n",
      "Epoch 34/100\n",
      "1105/1105 [==============================] - 9s 8ms/step - loss: 0.0014 - mape: 105921.9609 - mae: 0.0261 - val_loss: 0.0129 - val_mape: 14.4999 - val_mae: 0.0962\n",
      "Epoch 35/100\n",
      "1105/1105 [==============================] - 9s 8ms/step - loss: 0.0014 - mape: 105959.5547 - mae: 0.0259 - val_loss: 0.0140 - val_mape: 15.6394 - val_mae: 0.1036\n",
      "Epoch 36/100\n",
      "1105/1105 [==============================] - 9s 8ms/step - loss: 0.0014 - mape: 105223.9297 - mae: 0.0258 - val_loss: 0.0098 - val_mape: 12.2719 - val_mae: 0.0811\n",
      "Epoch 37/100\n",
      "1105/1105 [==============================] - 9s 8ms/step - loss: 0.0014 - mape: 104031.2578 - mae: 0.0257 - val_loss: 0.0113 - val_mape: 13.3764 - val_mae: 0.0883\n",
      "Epoch 38/100\n",
      "1105/1105 [==============================] - 9s 8ms/step - loss: 0.0013 - mape: 105779.3906 - mae: 0.0250 - val_loss: 0.0102 - val_mape: 12.5616 - val_mae: 0.0833\n",
      "Epoch 39/100\n",
      "1105/1105 [==============================] - 9s 8ms/step - loss: 0.0013 - mape: 104068.5234 - mae: 0.0249 - val_loss: 0.0066 - val_mape: 10.2406 - val_mae: 0.0667\n",
      "Epoch 40/100\n",
      "1105/1105 [==============================] - 9s 8ms/step - loss: 0.0013 - mape: 103891.3047 - mae: 0.0249 - val_loss: 0.0130 - val_mape: 13.9027 - val_mae: 0.0929\n",
      "Epoch 41/100\n",
      "1105/1105 [==============================] - 8s 8ms/step - loss: 0.0013 - mape: 104564.5469 - mae: 0.0245 - val_loss: 0.0095 - val_mape: 11.6698 - val_mae: 0.0771\n",
      "Epoch 42/100\n",
      "1105/1105 [==============================] - 8s 7ms/step - loss: 0.0013 - mape: 103656.3984 - mae: 0.0245 - val_loss: 0.0126 - val_mape: 14.3247 - val_mae: 0.0948\n",
      "Epoch 43/100\n",
      "1105/1105 [==============================] - 8s 8ms/step - loss: 0.0012 - mape: 103570.5234 - mae: 0.0241 - val_loss: 0.0122 - val_mape: 13.4358 - val_mae: 0.0914\n",
      "Epoch 44/100\n",
      "1105/1105 [==============================] - 8s 7ms/step - loss: 0.0012 - mape: 103330.9844 - mae: 0.0240 - val_loss: 0.0130 - val_mape: 14.3062 - val_mae: 0.0941\n",
      "Epoch 45/100\n",
      "1105/1105 [==============================] - 8s 7ms/step - loss: 0.0012 - mape: 102441.8672 - mae: 0.0238 - val_loss: 0.0101 - val_mape: 12.1000 - val_mae: 0.0801\n",
      "Epoch 46/100\n",
      "1105/1105 [==============================] - 8s 7ms/step - loss: 0.0012 - mape: 101085.0312 - mae: 0.0236 - val_loss: 0.0154 - val_mape: 15.2392 - val_mae: 0.1020\n",
      "Epoch 47/100\n",
      "1105/1105 [==============================] - 8s 7ms/step - loss: 0.0012 - mape: 102341.4766 - mae: 0.0235 - val_loss: 0.0110 - val_mape: 12.7522 - val_mae: 0.0846\n"
     ]
    },
    {
     "name": "stdout",
     "output_type": "stream",
     "text": [
      "Epoch 48/100\n",
      "1105/1105 [==============================] - 8s 7ms/step - loss: 0.0012 - mape: 101827.5781 - mae: 0.0238 - val_loss: 0.0095 - val_mape: 12.2780 - val_mae: 0.0806\n",
      "Epoch 49/100\n",
      "1105/1105 [==============================] - 8s 7ms/step - loss: 0.0011 - mape: 98579.5469 - mae: 0.0232 - val_loss: 0.0125 - val_mape: 14.0046 - val_mae: 0.0923\n",
      "Epoch 50/100\n",
      "1105/1105 [==============================] - 8s 7ms/step - loss: 0.0011 - mape: 98733.3203 - mae: 0.0230 - val_loss: 0.0117 - val_mape: 13.4047 - val_mae: 0.0881\n",
      "Epoch 51/100\n",
      "1105/1105 [==============================] - 8s 8ms/step - loss: 0.0011 - mape: 95374.6172 - mae: 0.0228 - val_loss: 0.0149 - val_mape: 15.3909 - val_mae: 0.1017\n",
      "Epoch 52/100\n",
      "1105/1105 [==============================] - 8s 8ms/step - loss: 0.0011 - mape: 96787.1328 - mae: 0.0228 - val_loss: 0.0139 - val_mape: 14.8639 - val_mae: 0.0994\n",
      "Epoch 53/100\n",
      "1105/1105 [==============================] - 8s 7ms/step - loss: 0.0011 - mape: 94821.5781 - mae: 0.0227 - val_loss: 0.0107 - val_mape: 12.7190 - val_mae: 0.0849\n",
      "Epoch 54/100\n",
      "1105/1105 [==============================] - 8s 7ms/step - loss: 0.0010 - mape: 93533.1484 - mae: 0.0223 - val_loss: 0.0128 - val_mape: 14.3498 - val_mae: 0.0942\n",
      "Epoch 55/100\n",
      "1105/1105 [==============================] - 8s 7ms/step - loss: 0.0011 - mape: 93614.3359 - mae: 0.0224 - val_loss: 0.0155 - val_mape: 15.8436 - val_mae: 0.1037\n",
      "Epoch 56/100\n",
      "1105/1105 [==============================] - 8s 8ms/step - loss: 0.0010 - mape: 92484.0547 - mae: 0.0222 - val_loss: 0.0153 - val_mape: 15.6447 - val_mae: 0.1031\n",
      "Epoch 57/100\n",
      "1105/1105 [==============================] - 8s 8ms/step - loss: 0.0011 - mape: 92869.8047 - mae: 0.0224 - val_loss: 0.0124 - val_mape: 13.8485 - val_mae: 0.0924\n",
      "Epoch 58/100\n",
      "1105/1105 [==============================] - 8s 7ms/step - loss: 0.0010 - mape: 87945.9297 - mae: 0.0223 - val_loss: 0.0124 - val_mape: 14.2629 - val_mae: 0.0937\n",
      "Epoch 59/100\n",
      "1105/1105 [==============================] - 8s 8ms/step - loss: 0.0010 - mape: 91080.3984 - mae: 0.0220 - val_loss: 0.0117 - val_mape: 13.7339 - val_mae: 0.0901\n",
      "Epoch 60/100\n",
      "1105/1105 [==============================] - 9s 8ms/step - loss: 9.6383e-04 - mape: 77993.5156 - mae: 0.0216 - val_loss: 0.0131 - val_mape: 14.2151 - val_mae: 0.0948\n",
      "Epoch 61/100\n",
      "1105/1105 [==============================] - 9s 8ms/step - loss: 9.9640e-04 - mape: 79778.7969 - mae: 0.0218 - val_loss: 0.0123 - val_mape: 13.6549 - val_mae: 0.0905\n",
      "Epoch 62/100\n",
      "1105/1105 [==============================] - 9s 8ms/step - loss: 0.0010 - mape: 89455.2656 - mae: 0.0222 - val_loss: 0.0130 - val_mape: 14.4109 - val_mae: 0.0951\n",
      "Epoch 63/100\n",
      "1105/1105 [==============================] - 8s 8ms/step - loss: 9.4226e-04 - mape: 81076.3359 - mae: 0.0213 - val_loss: 0.0119 - val_mape: 13.8182 - val_mae: 0.0914\n",
      "Epoch 64/100\n",
      "1105/1105 [==============================] - 9s 8ms/step - loss: 9.7112e-04 - mape: 77613.0938 - mae: 0.0215 - val_loss: 0.0095 - val_mape: 12.2892 - val_mae: 0.0796\n",
      "Epoch 65/100\n",
      "1105/1105 [==============================] - 9s 8ms/step - loss: 9.8543e-04 - mape: 89370.8906 - mae: 0.0216 - val_loss: 0.0087 - val_mape: 11.8779 - val_mae: 0.0758\n",
      "Epoch 66/100\n",
      "1105/1105 [==============================] - 9s 8ms/step - loss: 9.1977e-04 - mape: 87887.3672 - mae: 0.0210 - val_loss: 0.0136 - val_mape: 15.0152 - val_mae: 0.0984\n",
      "Epoch 67/100\n",
      "1105/1105 [==============================] - 9s 8ms/step - loss: 9.4530e-04 - mape: 79770.9609 - mae: 0.0214 - val_loss: 0.0136 - val_mape: 14.8772 - val_mae: 0.0981\n",
      "Epoch 68/100\n",
      "1105/1105 [==============================] - 9s 8ms/step - loss: 9.1705e-04 - mape: 73371.2266 - mae: 0.0211 - val_loss: 0.0119 - val_mape: 14.0779 - val_mae: 0.0928\n",
      "Epoch 69/100\n",
      "1105/1105 [==============================] - 9s 8ms/step - loss: 9.2061e-04 - mape: 82174.9766 - mae: 0.0211 - val_loss: 0.0139 - val_mape: 14.9519 - val_mae: 0.0981\n",
      "Epoch 70/100\n",
      "1105/1105 [==============================] - 8s 8ms/step - loss: 8.6032e-04 - mape: 67897.4609 - mae: 0.0206 - val_loss: 0.0108 - val_mape: 13.1388 - val_mae: 0.0867\n",
      "Epoch 71/100\n",
      "1105/1105 [==============================] - 9s 8ms/step - loss: 9.0258e-04 - mape: 75107.5078 - mae: 0.0209 - val_loss: 0.0129 - val_mape: 14.4957 - val_mae: 0.0946\n",
      "Epoch 72/100\n",
      "1105/1105 [==============================] - 8s 8ms/step - loss: 8.5993e-04 - mape: 59709.9180 - mae: 0.0206 - val_loss: 0.0129 - val_mape: 14.2839 - val_mae: 0.0943\n",
      "Epoch 73/100\n",
      "1105/1105 [==============================] - 9s 8ms/step - loss: 8.9269e-04 - mape: 77431.9609 - mae: 0.0208 - val_loss: 0.0119 - val_mape: 13.8432 - val_mae: 0.0905\n",
      "Epoch 74/100\n",
      "1105/1105 [==============================] - 9s 8ms/step - loss: 8.5738e-04 - mape: 76670.5625 - mae: 0.0204 - val_loss: 0.0124 - val_mape: 14.0935 - val_mae: 0.0920\n",
      "Epoch 75/100\n",
      "1105/1105 [==============================] - 9s 8ms/step - loss: 8.0513e-04 - mape: 61099.3125 - mae: 0.0199 - val_loss: 0.0133 - val_mape: 14.6452 - val_mae: 0.0972\n",
      "Epoch 76/100\n",
      "1105/1105 [==============================] - 9s 8ms/step - loss: 8.8915e-04 - mape: 66225.7656 - mae: 0.0208 - val_loss: 0.0141 - val_mape: 15.0074 - val_mae: 0.0989\n",
      "Epoch 77/100\n",
      "1105/1105 [==============================] - 9s 8ms/step - loss: 8.4744e-04 - mape: 67381.8672 - mae: 0.0203 - val_loss: 0.0132 - val_mape: 14.6977 - val_mae: 0.0961\n",
      "Epoch 78/100\n",
      "1105/1105 [==============================] - 9s 8ms/step - loss: 8.2152e-04 - mape: 56741.3789 - mae: 0.0201 - val_loss: 0.0130 - val_mape: 14.8047 - val_mae: 0.0962\n",
      "Epoch 79/100\n",
      "1105/1105 [==============================] - 8s 8ms/step - loss: 8.8492e-04 - mape: 81520.7266 - mae: 0.0206 - val_loss: 0.0155 - val_mape: 16.0817 - val_mae: 0.1061\n",
      "Epoch 80/100\n",
      "1105/1105 [==============================] - 8s 8ms/step - loss: 8.2639e-04 - mape: 64918.7695 - mae: 0.0201 - val_loss: 0.0149 - val_mape: 16.0083 - val_mae: 0.1050\n",
      "Epoch 81/100\n",
      "1105/1105 [==============================] - 8s 8ms/step - loss: 7.9701e-04 - mape: 48687.2656 - mae: 0.0199 - val_loss: 0.0151 - val_mape: 15.9986 - val_mae: 0.1042\n",
      "Epoch 82/100\n",
      "1105/1105 [==============================] - 8s 8ms/step - loss: 7.8944e-04 - mape: 53878.8633 - mae: 0.0198 - val_loss: 0.0127 - val_mape: 14.3996 - val_mae: 0.0948\n",
      "Epoch 83/100\n",
      "1105/1105 [==============================] - 9s 8ms/step - loss: 7.8521e-04 - mape: 56366.3555 - mae: 0.0197 - val_loss: 0.0162 - val_mape: 16.6154 - val_mae: 0.1086\n",
      "Epoch 84/100\n",
      "1105/1105 [==============================] - 9s 8ms/step - loss: 7.7025e-04 - mape: 55078.0781 - mae: 0.0196 - val_loss: 0.0148 - val_mape: 15.4780 - val_mae: 0.1033\n",
      "Epoch 85/100\n",
      "1105/1105 [==============================] - 8s 8ms/step - loss: 8.0621e-04 - mape: 63393.7109 - mae: 0.0199 - val_loss: 0.0141 - val_mape: 15.2354 - val_mae: 0.1004\n",
      "Epoch 86/100\n",
      "1105/1105 [==============================] - 8s 8ms/step - loss: 8.2581e-04 - mape: 67725.0859 - mae: 0.0200 - val_loss: 0.0127 - val_mape: 14.5659 - val_mae: 0.0958\n",
      "Epoch 87/100\n",
      "1105/1105 [==============================] - 9s 8ms/step - loss: 7.4445e-04 - mape: 62202.0234 - mae: 0.0193 - val_loss: 0.0117 - val_mape: 13.6742 - val_mae: 0.0907\n",
      "Epoch 88/100\n",
      "1105/1105 [==============================] - 8s 8ms/step - loss: 7.6911e-04 - mape: 54941.4844 - mae: 0.0195 - val_loss: 0.0173 - val_mape: 17.0402 - val_mae: 0.1117\n",
      "Epoch 89/100\n",
      "1105/1105 [==============================] - 8s 8ms/step - loss: 7.1913e-04 - mape: 46274.9492 - mae: 0.0190 - val_loss: 0.0128 - val_mape: 14.3248 - val_mae: 0.0942\n",
      "Epoch 90/100\n",
      "1105/1105 [==============================] - 9s 8ms/step - loss: 7.9444e-04 - mape: 50945.0664 - mae: 0.0198 - val_loss: 0.0113 - val_mape: 13.5309 - val_mae: 0.0889\n",
      "Epoch 91/100\n",
      "1105/1105 [==============================] - 8s 8ms/step - loss: 7.1516e-04 - mape: 48631.5508 - mae: 0.0189 - val_loss: 0.0151 - val_mape: 15.9121 - val_mae: 0.1047\n",
      "Epoch 92/100\n",
      "1105/1105 [==============================] - 8s 8ms/step - loss: 7.7220e-04 - mape: 57979.1953 - mae: 0.0195 - val_loss: 0.0139 - val_mape: 14.9924 - val_mae: 0.0990\n",
      "Epoch 93/100\n",
      "1105/1105 [==============================] - 8s 7ms/step - loss: 6.8811e-04 - mape: 30805.8711 - mae: 0.0186 - val_loss: 0.0160 - val_mape: 16.4234 - val_mae: 0.1086\n",
      "Epoch 94/100\n"
     ]
    },
    {
     "name": "stdout",
     "output_type": "stream",
     "text": [
      "1105/1105 [==============================] - 8s 7ms/step - loss: 6.9754e-04 - mape: 33470.4883 - mae: 0.0188 - val_loss: 0.0141 - val_mape: 15.2045 - val_mae: 0.0999\n",
      "Epoch 95/100\n",
      "1105/1105 [==============================] - 8s 7ms/step - loss: 7.2841e-04 - mape: 58730.8672 - mae: 0.0190 - val_loss: 0.0142 - val_mape: 15.2005 - val_mae: 0.0991\n",
      "Epoch 96/100\n",
      "1105/1105 [==============================] - 8s 7ms/step - loss: 7.7171e-04 - mape: 57280.1367 - mae: 0.0194 - val_loss: 0.0151 - val_mape: 15.8384 - val_mae: 0.1042\n",
      "Epoch 97/100\n",
      "1105/1105 [==============================] - 8s 7ms/step - loss: 6.6485e-04 - mape: 49072.8281 - mae: 0.0183 - val_loss: 0.0131 - val_mape: 14.6991 - val_mae: 0.0970\n",
      "Epoch 98/100\n",
      "1105/1105 [==============================] - 8s 7ms/step - loss: 6.9833e-04 - mape: 44399.4258 - mae: 0.0187 - val_loss: 0.0144 - val_mape: 15.4040 - val_mae: 0.1017\n",
      "Epoch 99/100\n",
      "1105/1105 [==============================] - 8s 7ms/step - loss: 6.6932e-04 - mape: 39531.4336 - mae: 0.0183 - val_loss: 0.0157 - val_mape: 16.2475 - val_mae: 0.1071\n",
      "Epoch 100/100\n",
      "1105/1105 [==============================] - 8s 7ms/step - loss: 6.8661e-04 - mape: 46595.8750 - mae: 0.0185 - val_loss: 0.0140 - val_mape: 15.2972 - val_mae: 0.1008\n"
     ]
    },
    {
     "data": {
      "text/plain": [
       "<keras.callbacks.History at 0x26a16394fd0>"
      ]
     },
     "execution_count": 22,
     "metadata": {},
     "output_type": "execute_result"
    }
   ],
   "source": [
    "model.fit(X_train, Y_train, epochs= epochs, batch_size= batchSize, verbose= 1, shuffle= True, validation_data= (X_valid, Y_valid))"
   ]
  },
  {
   "cell_type": "code",
   "execution_count": 23,
   "id": "cd839153",
   "metadata": {},
   "outputs": [
    {
     "name": "stdout",
     "output_type": "stream",
     "text": [
      "Total execution time in seconds: 864.4418270587921\n"
     ]
    }
   ],
   "source": [
    "calcExecTime = (time.time() - startTime)\n",
    "print('Total execution time in seconds: ' + str(calcExecTime))"
   ]
  },
  {
   "cell_type": "markdown",
   "id": "72aafa74",
   "metadata": {},
   "source": [
    "### MAKING PREDICTIONS AND GENERATING RESULTS"
   ]
  },
  {
   "cell_type": "code",
   "execution_count": 24,
   "id": "259bfb49",
   "metadata": {},
   "outputs": [
    {
     "name": "stdout",
     "output_type": "stream",
     "text": [
      "6/6 [==============================] - 1s 9ms/step\n"
     ]
    }
   ],
   "source": [
    "predictions = model.predict(X_test)"
   ]
  },
  {
   "cell_type": "code",
   "execution_count": 25,
   "id": "2912d431",
   "metadata": {},
   "outputs": [
    {
     "data": {
      "text/plain": [
       "array([0.5104737 , 0.50272423, 0.50041497, ..., 0.62319344, 0.58877695,\n",
       "       0.5505075 ], dtype=float32)"
      ]
     },
     "execution_count": 25,
     "metadata": {},
     "output_type": "execute_result"
    }
   ],
   "source": [
    "predArr = predictions.reshape(predictions.shape[0] * predictions.shape[1], predictions.shape[2]).ravel()\n",
    "predArr"
   ]
  },
  {
   "cell_type": "code",
   "execution_count": 26,
   "id": "b01889f2",
   "metadata": {},
   "outputs": [
    {
     "data": {
      "text/plain": [
       "array([0.6159562 , 0.60151056, 0.59801525, ..., 0.61659171, 0.58408291,\n",
       "       0.56091122])"
      ]
     },
     "execution_count": 26,
     "metadata": {},
     "output_type": "execute_result"
    }
   ],
   "source": [
    "Y_testArr = Y_test.reshape(Y_test.shape[0] * Y_test.shape[1], Y_test.shape[2]).ravel()\n",
    "Y_testArr"
   ]
  },
  {
   "cell_type": "code",
   "execution_count": 27,
   "id": "799c97e8",
   "metadata": {},
   "outputs": [],
   "source": [
    "def inverse_transform(df):\n",
    "    column_names = df.columns\n",
    "    for col in column_names:\n",
    "        df[col] = ValScaler.inverse_transform(df[[col]]) \n",
    "    return df"
   ]
  },
  {
   "cell_type": "code",
   "execution_count": 28,
   "id": "afa81e30",
   "metadata": {},
   "outputs": [
    {
     "data": {
      "text/html": [
       "<div>\n",
       "<style scoped>\n",
       "    .dataframe tbody tr th:only-of-type {\n",
       "        vertical-align: middle;\n",
       "    }\n",
       "\n",
       "    .dataframe tbody tr th {\n",
       "        vertical-align: top;\n",
       "    }\n",
       "\n",
       "    .dataframe thead th {\n",
       "        text-align: right;\n",
       "    }\n",
       "</style>\n",
       "<table border=\"1\" class=\"dataframe\">\n",
       "  <thead>\n",
       "    <tr style=\"text-align: right;\">\n",
       "      <th></th>\n",
       "      <th>Values</th>\n",
       "      <th>Predictions</th>\n",
       "    </tr>\n",
       "  </thead>\n",
       "  <tbody>\n",
       "    <tr>\n",
       "      <th>0</th>\n",
       "      <td>25200.0</td>\n",
       "      <td>20884.501953</td>\n",
       "    </tr>\n",
       "    <tr>\n",
       "      <th>1</th>\n",
       "      <td>24609.0</td>\n",
       "      <td>20567.453125</td>\n",
       "    </tr>\n",
       "    <tr>\n",
       "      <th>2</th>\n",
       "      <td>24466.0</td>\n",
       "      <td>20472.976562</td>\n",
       "    </tr>\n",
       "    <tr>\n",
       "      <th>3</th>\n",
       "      <td>24763.0</td>\n",
       "      <td>21117.839844</td>\n",
       "    </tr>\n",
       "    <tr>\n",
       "      <th>4</th>\n",
       "      <td>26454.0</td>\n",
       "      <td>22680.912109</td>\n",
       "    </tr>\n",
       "    <tr>\n",
       "      <th>...</th>\n",
       "      <td>...</td>\n",
       "      <td>...</td>\n",
       "    </tr>\n",
       "    <tr>\n",
       "      <th>4363</th>\n",
       "      <td>29347.0</td>\n",
       "      <td>29426.578125</td>\n",
       "    </tr>\n",
       "    <tr>\n",
       "      <th>4364</th>\n",
       "      <td>27593.0</td>\n",
       "      <td>26826.121094</td>\n",
       "    </tr>\n",
       "    <tr>\n",
       "      <th>4365</th>\n",
       "      <td>25226.0</td>\n",
       "      <td>25496.089844</td>\n",
       "    </tr>\n",
       "    <tr>\n",
       "      <th>4366</th>\n",
       "      <td>23896.0</td>\n",
       "      <td>24088.042969</td>\n",
       "    </tr>\n",
       "    <tr>\n",
       "      <th>4367</th>\n",
       "      <td>22948.0</td>\n",
       "      <td>22522.361328</td>\n",
       "    </tr>\n",
       "  </tbody>\n",
       "</table>\n",
       "<p>4368 rows × 2 columns</p>\n",
       "</div>"
      ],
      "text/plain": [
       "       Values   Predictions\n",
       "0     25200.0  20884.501953\n",
       "1     24609.0  20567.453125\n",
       "2     24466.0  20472.976562\n",
       "3     24763.0  21117.839844\n",
       "4     26454.0  22680.912109\n",
       "...       ...           ...\n",
       "4363  29347.0  29426.578125\n",
       "4364  27593.0  26826.121094\n",
       "4365  25226.0  25496.089844\n",
       "4366  23896.0  24088.042969\n",
       "4367  22948.0  22522.361328\n",
       "\n",
       "[4368 rows x 2 columns]"
      ]
     },
     "execution_count": 28,
     "metadata": {},
     "output_type": "execute_result"
    }
   ],
   "source": [
    "comparisionDf = pd.DataFrame(data= {\"Values\": Y_testArr, \"Predictions\": predArr})\n",
    "comparisionDf = inverse_transform(comparisionDf)\n",
    "comparisionDf"
   ]
  },
  {
   "cell_type": "code",
   "execution_count": 29,
   "id": "88222bae",
   "metadata": {},
   "outputs": [
    {
     "data": {
      "text/plain": [
       "9.550343937060475"
      ]
     },
     "execution_count": 29,
     "metadata": {},
     "output_type": "execute_result"
    }
   ],
   "source": [
    "mape(comparisionDf[\"Values\"], comparisionDf[\"Predictions\"])"
   ]
  }
 ],
 "metadata": {
  "kernelspec": {
   "display_name": "Python 3 (ipykernel)",
   "language": "python",
   "name": "python3"
  },
  "language_info": {
   "codemirror_mode": {
    "name": "ipython",
    "version": 3
   },
   "file_extension": ".py",
   "mimetype": "text/x-python",
   "name": "python",
   "nbconvert_exporter": "python",
   "pygments_lexer": "ipython3",
   "version": "3.9.12"
  }
 },
 "nbformat": 4,
 "nbformat_minor": 5
}
