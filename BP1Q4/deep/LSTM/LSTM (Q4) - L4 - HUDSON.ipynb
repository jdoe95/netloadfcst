{
 "cells": [
  {
   "cell_type": "code",
   "execution_count": 1,
   "id": "5f61b29f",
   "metadata": {},
   "outputs": [
    {
     "name": "stdout",
     "output_type": "stream",
     "text": [
      "Num GPUs Available:  1\n"
     ]
    }
   ],
   "source": [
    "import pandas as pd\n",
    "import numpy as np\n",
    "import os\n",
    "import matplotlib.pyplot as plt\n",
    "from datetime import datetime\n",
    "from sklearn.preprocessing import MinMaxScaler, RobustScaler, StandardScaler\n",
    "import time\n",
    "\n",
    "import tensorflow as tf\n",
    "tf.random.set_seed(42)\n",
    "\n",
    "def mape(y_true, y_pred):\n",
    "    y_true, y_pred = np.array(y_true), np.array(y_pred)\n",
    "    return np.mean(np.abs((y_true - y_pred) / max(y_true))) * 100\n",
    "\n",
    "def RMSELoss(yhat,y):\n",
    "    return torch.sqrt(torch.mean((yhat-y)**2))\n",
    "\n",
    "print(\"Num GPUs Available: \", len(tf.config.list_physical_devices('GPU')))"
   ]
  },
  {
   "cell_type": "code",
   "execution_count": 2,
   "id": "cea0abe2",
   "metadata": {},
   "outputs": [
    {
     "name": "stdout",
     "output_type": "stream",
     "text": [
      "['Capital.csv', 'Central.csv', 'Dunwoody.csv', 'Genese.csv', 'Hudson.csv', 'LongIsland.csv', 'Milwood.csv', 'NYC.csv']\n"
     ]
    }
   ],
   "source": [
    "# Specifying the path of file\n",
    "path= r\"C:\\Users\\sashah8\\OneDrive - North Carolina State University\\Desktop\\Q4\\Data\\L4\\data_cleaned\"\n",
    "\n",
    "# Listing just the required files\n",
    "fileList = os.listdir(path)\n",
    "fileList.remove(\"Date.csv\")\n",
    "\n",
    "# Previewing the required file names\n",
    "print(fileList)"
   ]
  },
  {
   "cell_type": "code",
   "execution_count": 3,
   "id": "a6fe9396",
   "metadata": {},
   "outputs": [
    {
     "data": {
      "text/html": [
       "<div>\n",
       "<style scoped>\n",
       "    .dataframe tbody tr th:only-of-type {\n",
       "        vertical-align: middle;\n",
       "    }\n",
       "\n",
       "    .dataframe tbody tr th {\n",
       "        vertical-align: top;\n",
       "    }\n",
       "\n",
       "    .dataframe thead th {\n",
       "        text-align: right;\n",
       "    }\n",
       "</style>\n",
       "<table border=\"1\" class=\"dataframe\">\n",
       "  <thead>\n",
       "    <tr style=\"text-align: right;\">\n",
       "      <th></th>\n",
       "      <th>Demand</th>\n",
       "      <th>Normalized_net</th>\n",
       "      <th>Temprature</th>\n",
       "    </tr>\n",
       "  </thead>\n",
       "  <tbody>\n",
       "    <tr>\n",
       "      <th>0</th>\n",
       "      <td>1069.8</td>\n",
       "      <td>0.491246</td>\n",
       "      <td>-5.8</td>\n",
       "    </tr>\n",
       "    <tr>\n",
       "      <th>1</th>\n",
       "      <td>1020.4</td>\n",
       "      <td>0.468561</td>\n",
       "      <td>-6.1</td>\n",
       "    </tr>\n",
       "    <tr>\n",
       "      <th>2</th>\n",
       "      <td>982.8</td>\n",
       "      <td>0.451296</td>\n",
       "      <td>-7.5</td>\n",
       "    </tr>\n",
       "    <tr>\n",
       "      <th>3</th>\n",
       "      <td>962.1</td>\n",
       "      <td>0.441790</td>\n",
       "      <td>-8.4</td>\n",
       "    </tr>\n",
       "    <tr>\n",
       "      <th>4</th>\n",
       "      <td>957.5</td>\n",
       "      <td>0.439678</td>\n",
       "      <td>-7.4</td>\n",
       "    </tr>\n",
       "    <tr>\n",
       "      <th>...</th>\n",
       "      <td>...</td>\n",
       "      <td>...</td>\n",
       "      <td>...</td>\n",
       "    </tr>\n",
       "    <tr>\n",
       "      <th>43819</th>\n",
       "      <td>1180.2</td>\n",
       "      <td>0.541941</td>\n",
       "      <td>3.4</td>\n",
       "    </tr>\n",
       "    <tr>\n",
       "      <th>43820</th>\n",
       "      <td>1134.0</td>\n",
       "      <td>0.520726</td>\n",
       "      <td>3.3</td>\n",
       "    </tr>\n",
       "    <tr>\n",
       "      <th>43821</th>\n",
       "      <td>1091.2</td>\n",
       "      <td>0.501072</td>\n",
       "      <td>2.6</td>\n",
       "    </tr>\n",
       "    <tr>\n",
       "      <th>43822</th>\n",
       "      <td>1041.3</td>\n",
       "      <td>0.478159</td>\n",
       "      <td>2.7</td>\n",
       "    </tr>\n",
       "    <tr>\n",
       "      <th>43823</th>\n",
       "      <td>994.3</td>\n",
       "      <td>0.456576</td>\n",
       "      <td>3.0</td>\n",
       "    </tr>\n",
       "  </tbody>\n",
       "</table>\n",
       "<p>43824 rows × 3 columns</p>\n",
       "</div>"
      ],
      "text/plain": [
       "       Demand  Normalized_net  Temprature\n",
       "0      1069.8        0.491246        -5.8\n",
       "1      1020.4        0.468561        -6.1\n",
       "2       982.8        0.451296        -7.5\n",
       "3       962.1        0.441790        -8.4\n",
       "4       957.5        0.439678        -7.4\n",
       "...       ...             ...         ...\n",
       "43819  1180.2        0.541941         3.4\n",
       "43820  1134.0        0.520726         3.3\n",
       "43821  1091.2        0.501072         2.6\n",
       "43822  1041.3        0.478159         2.7\n",
       "43823   994.3        0.456576         3.0\n",
       "\n",
       "[43824 rows x 3 columns]"
      ]
     },
     "execution_count": 3,
     "metadata": {},
     "output_type": "execute_result"
    }
   ],
   "source": [
    "# Just for previewing the columns\n",
    "pd.read_csv(os.path.join(path, fileList[4]))"
   ]
  },
  {
   "cell_type": "markdown",
   "id": "9ad4906c",
   "metadata": {
    "pycharm": {
     "name": "#%% md\n"
    }
   },
   "source": [
    "### PROCESSING THE DATA"
   ]
  },
  {
   "cell_type": "code",
   "execution_count": 4,
   "id": "f29f6db2",
   "metadata": {},
   "outputs": [
    {
     "data": {
      "text/html": [
       "<div>\n",
       "<style scoped>\n",
       "    .dataframe tbody tr th:only-of-type {\n",
       "        vertical-align: middle;\n",
       "    }\n",
       "\n",
       "    .dataframe tbody tr th {\n",
       "        vertical-align: top;\n",
       "    }\n",
       "\n",
       "    .dataframe thead th {\n",
       "        text-align: right;\n",
       "    }\n",
       "</style>\n",
       "<table border=\"1\" class=\"dataframe\">\n",
       "  <thead>\n",
       "    <tr style=\"text-align: right;\">\n",
       "      <th></th>\n",
       "      <th>Load_Hudson</th>\n",
       "      <th>Temp_Hudson</th>\n",
       "    </tr>\n",
       "  </thead>\n",
       "  <tbody>\n",
       "    <tr>\n",
       "      <th>0</th>\n",
       "      <td>1069.8</td>\n",
       "      <td>-5.8</td>\n",
       "    </tr>\n",
       "    <tr>\n",
       "      <th>1</th>\n",
       "      <td>1020.4</td>\n",
       "      <td>-6.1</td>\n",
       "    </tr>\n",
       "    <tr>\n",
       "      <th>2</th>\n",
       "      <td>982.8</td>\n",
       "      <td>-7.5</td>\n",
       "    </tr>\n",
       "    <tr>\n",
       "      <th>3</th>\n",
       "      <td>962.1</td>\n",
       "      <td>-8.4</td>\n",
       "    </tr>\n",
       "    <tr>\n",
       "      <th>4</th>\n",
       "      <td>957.5</td>\n",
       "      <td>-7.4</td>\n",
       "    </tr>\n",
       "    <tr>\n",
       "      <th>...</th>\n",
       "      <td>...</td>\n",
       "      <td>...</td>\n",
       "    </tr>\n",
       "    <tr>\n",
       "      <th>43819</th>\n",
       "      <td>1180.2</td>\n",
       "      <td>3.4</td>\n",
       "    </tr>\n",
       "    <tr>\n",
       "      <th>43820</th>\n",
       "      <td>1134.0</td>\n",
       "      <td>3.3</td>\n",
       "    </tr>\n",
       "    <tr>\n",
       "      <th>43821</th>\n",
       "      <td>1091.2</td>\n",
       "      <td>2.6</td>\n",
       "    </tr>\n",
       "    <tr>\n",
       "      <th>43822</th>\n",
       "      <td>1041.3</td>\n",
       "      <td>2.7</td>\n",
       "    </tr>\n",
       "    <tr>\n",
       "      <th>43823</th>\n",
       "      <td>994.3</td>\n",
       "      <td>3.0</td>\n",
       "    </tr>\n",
       "  </tbody>\n",
       "</table>\n",
       "<p>43824 rows × 2 columns</p>\n",
       "</div>"
      ],
      "text/plain": [
       "       Load_Hudson  Temp_Hudson\n",
       "0           1069.8         -5.8\n",
       "1           1020.4         -6.1\n",
       "2            982.8         -7.5\n",
       "3            962.1         -8.4\n",
       "4            957.5         -7.4\n",
       "...            ...          ...\n",
       "43819       1180.2          3.4\n",
       "43820       1134.0          3.3\n",
       "43821       1091.2          2.6\n",
       "43822       1041.3          2.7\n",
       "43823        994.3          3.0\n",
       "\n",
       "[43824 rows x 2 columns]"
      ]
     },
     "execution_count": 4,
     "metadata": {},
     "output_type": "execute_result"
    }
   ],
   "source": [
    "# Restricting the load data to a single zone\n",
    "fileName  = fileList[4]\n",
    "\n",
    "zoneData = pd.read_csv(os.path.join(path, fileName), usecols= [\"Demand\", \"Temprature\"])\n",
    "zoneData.columns = [\"Load_\"+str(fileName[:-4]), \"Temp_\"+str(fileName[:-4])]\n",
    "\n",
    "# For fixing one missing row\n",
    "# zoneData = pd.concat([zoneData.loc[[0]], zoneData], axis= 0).reset_index(drop= True)\n",
    "\n",
    "zoneData"
   ]
  },
  {
   "cell_type": "markdown",
   "id": "01cec4bd",
   "metadata": {},
   "source": [
    "### FEATURE ENGINEERING AND SPLITTING INTO TRAIN-TEST SPLIT"
   ]
  },
  {
   "cell_type": "code",
   "execution_count": 5,
   "id": "a1e1e8a3",
   "metadata": {},
   "outputs": [],
   "source": [
    "def lagGenerator(dF, lagList):\n",
    "    dF_temp = dF.filter(regex= \"Load\").copy()\n",
    "    \n",
    "    for i in lagList:\n",
    "        dF_temp.loc[:, \"Lag-\" + str(i)] = dF_temp.iloc[:,[0]].shift(i*24)\n",
    "    \n",
    "    return(dF_temp.filter(regex= \"Lag\"))"
   ]
  },
  {
   "cell_type": "code",
   "execution_count": 6,
   "id": "159a2a82",
   "metadata": {},
   "outputs": [
    {
     "data": {
      "text/html": [
       "<div>\n",
       "<style scoped>\n",
       "    .dataframe tbody tr th:only-of-type {\n",
       "        vertical-align: middle;\n",
       "    }\n",
       "\n",
       "    .dataframe tbody tr th {\n",
       "        vertical-align: top;\n",
       "    }\n",
       "\n",
       "    .dataframe thead th {\n",
       "        text-align: right;\n",
       "    }\n",
       "</style>\n",
       "<table border=\"1\" class=\"dataframe\">\n",
       "  <thead>\n",
       "    <tr style=\"text-align: right;\">\n",
       "      <th></th>\n",
       "      <th>Lag-2</th>\n",
       "      <th>Lag-7</th>\n",
       "    </tr>\n",
       "  </thead>\n",
       "  <tbody>\n",
       "    <tr>\n",
       "      <th>0</th>\n",
       "      <td>NaN</td>\n",
       "      <td>NaN</td>\n",
       "    </tr>\n",
       "    <tr>\n",
       "      <th>1</th>\n",
       "      <td>NaN</td>\n",
       "      <td>NaN</td>\n",
       "    </tr>\n",
       "  </tbody>\n",
       "</table>\n",
       "</div>"
      ],
      "text/plain": [
       "   Lag-2  Lag-7\n",
       "0    NaN    NaN\n",
       "1    NaN    NaN"
      ]
     },
     "execution_count": 6,
     "metadata": {},
     "output_type": "execute_result"
    }
   ],
   "source": [
    "Load_lags = lagGenerator(dF=zoneData, lagList=[2,7])\n",
    "Load_lags.head(2)"
   ]
  },
  {
   "cell_type": "code",
   "execution_count": 7,
   "id": "05896954",
   "metadata": {},
   "outputs": [
    {
     "data": {
      "text/html": [
       "<div>\n",
       "<style scoped>\n",
       "    .dataframe tbody tr th:only-of-type {\n",
       "        vertical-align: middle;\n",
       "    }\n",
       "\n",
       "    .dataframe tbody tr th {\n",
       "        vertical-align: top;\n",
       "    }\n",
       "\n",
       "    .dataframe thead th {\n",
       "        text-align: right;\n",
       "    }\n",
       "</style>\n",
       "<table border=\"1\" class=\"dataframe\">\n",
       "  <thead>\n",
       "    <tr style=\"text-align: right;\">\n",
       "      <th></th>\n",
       "      <th>Load_Hudson</th>\n",
       "      <th>Temp_Hudson</th>\n",
       "      <th>Lag-2</th>\n",
       "      <th>Lag-7</th>\n",
       "    </tr>\n",
       "  </thead>\n",
       "  <tbody>\n",
       "    <tr>\n",
       "      <th>0</th>\n",
       "      <td>1177.7</td>\n",
       "      <td>-13.9</td>\n",
       "      <td>1057.1</td>\n",
       "      <td>1069.8</td>\n",
       "    </tr>\n",
       "    <tr>\n",
       "      <th>1</th>\n",
       "      <td>1140.2</td>\n",
       "      <td>-14.2</td>\n",
       "      <td>1026.3</td>\n",
       "      <td>1020.4</td>\n",
       "    </tr>\n",
       "    <tr>\n",
       "      <th>2</th>\n",
       "      <td>1122.8</td>\n",
       "      <td>-14.8</td>\n",
       "      <td>1009.9</td>\n",
       "      <td>982.8</td>\n",
       "    </tr>\n",
       "    <tr>\n",
       "      <th>3</th>\n",
       "      <td>1119.9</td>\n",
       "      <td>-15.6</td>\n",
       "      <td>1004.1</td>\n",
       "      <td>962.1</td>\n",
       "    </tr>\n",
       "    <tr>\n",
       "      <th>4</th>\n",
       "      <td>1138.0</td>\n",
       "      <td>-16.0</td>\n",
       "      <td>1023.2</td>\n",
       "      <td>957.5</td>\n",
       "    </tr>\n",
       "    <tr>\n",
       "      <th>...</th>\n",
       "      <td>...</td>\n",
       "      <td>...</td>\n",
       "      <td>...</td>\n",
       "      <td>...</td>\n",
       "    </tr>\n",
       "    <tr>\n",
       "      <th>43651</th>\n",
       "      <td>1180.2</td>\n",
       "      <td>3.4</td>\n",
       "      <td>1222.0</td>\n",
       "      <td>1172.9</td>\n",
       "    </tr>\n",
       "    <tr>\n",
       "      <th>43652</th>\n",
       "      <td>1134.0</td>\n",
       "      <td>3.3</td>\n",
       "      <td>1186.6</td>\n",
       "      <td>1151.3</td>\n",
       "    </tr>\n",
       "    <tr>\n",
       "      <th>43653</th>\n",
       "      <td>1091.2</td>\n",
       "      <td>2.6</td>\n",
       "      <td>1132.2</td>\n",
       "      <td>1130.6</td>\n",
       "    </tr>\n",
       "    <tr>\n",
       "      <th>43654</th>\n",
       "      <td>1041.3</td>\n",
       "      <td>2.7</td>\n",
       "      <td>1062.8</td>\n",
       "      <td>1094.8</td>\n",
       "    </tr>\n",
       "    <tr>\n",
       "      <th>43655</th>\n",
       "      <td>994.3</td>\n",
       "      <td>3.0</td>\n",
       "      <td>987.6</td>\n",
       "      <td>1043.8</td>\n",
       "    </tr>\n",
       "  </tbody>\n",
       "</table>\n",
       "<p>43656 rows × 4 columns</p>\n",
       "</div>"
      ],
      "text/plain": [
       "       Load_Hudson  Temp_Hudson   Lag-2   Lag-7\n",
       "0           1177.7        -13.9  1057.1  1069.8\n",
       "1           1140.2        -14.2  1026.3  1020.4\n",
       "2           1122.8        -14.8  1009.9   982.8\n",
       "3           1119.9        -15.6  1004.1   962.1\n",
       "4           1138.0        -16.0  1023.2   957.5\n",
       "...            ...          ...     ...     ...\n",
       "43651       1180.2          3.4  1222.0  1172.9\n",
       "43652       1134.0          3.3  1186.6  1151.3\n",
       "43653       1091.2          2.6  1132.2  1130.6\n",
       "43654       1041.3          2.7  1062.8  1094.8\n",
       "43655        994.3          3.0   987.6  1043.8\n",
       "\n",
       "[43656 rows x 4 columns]"
      ]
     },
     "execution_count": 7,
     "metadata": {},
     "output_type": "execute_result"
    }
   ],
   "source": [
    "dataDf = pd.concat([zoneData, Load_lags], axis= 1).dropna(axis= 0).reset_index(drop= True)\n",
    "dataDf"
   ]
  },
  {
   "cell_type": "code",
   "execution_count": 8,
   "id": "6ad25321",
   "metadata": {},
   "outputs": [],
   "source": [
    "# Setting the train-test split ratio\n",
    "ratio = 0.1"
   ]
  },
  {
   "cell_type": "code",
   "execution_count": 9,
   "id": "3c08d963",
   "metadata": {},
   "outputs": [],
   "source": [
    "Num_train, Num_test = int(len(dataDf)/24 * (1 - ratio)) * 24, int(len(dataDf)/24 * ratio) * 24"
   ]
  },
  {
   "cell_type": "code",
   "execution_count": 10,
   "id": "cbe069ff",
   "metadata": {},
   "outputs": [],
   "source": [
    "# Splitting the data into train and test\n",
    "data_train, data_test = dataDf[:Num_train], dataDf[Num_train:]"
   ]
  },
  {
   "cell_type": "code",
   "execution_count": 11,
   "id": "d84e15c4",
   "metadata": {},
   "outputs": [],
   "source": [
    "Num_train, Num_valid = int(len(data_train)/24 * (1 - ratio)) * 24, int(len(data_train)/24 * ratio) * 24"
   ]
  },
  {
   "cell_type": "code",
   "execution_count": 12,
   "id": "c17d1723",
   "metadata": {},
   "outputs": [],
   "source": [
    "# Splitting the data into train and test\n",
    "data_train, data_valid = data_train[:Num_train], data_train[Num_train:]"
   ]
  },
  {
   "cell_type": "markdown",
   "id": "88d32011",
   "metadata": {},
   "source": [
    "### SPLITTING INTO X AND Y PART WITH SEQUENCE BATCHING"
   ]
  },
  {
   "cell_type": "code",
   "execution_count": 13,
   "id": "4ba286ca",
   "metadata": {},
   "outputs": [],
   "source": [
    "X_train_df, Y_train_df = data_train.iloc[:, 1:], data_train.iloc[:, :1]\n",
    "\n",
    "X_valid_df, Y_valid_df = data_valid.iloc[:, 1:], data_valid.iloc[:, :1]\n",
    "\n",
    "X_test_df, Y_test_df = data_test.iloc[:, 1:], data_test.iloc[:, :1]"
   ]
  },
  {
   "cell_type": "code",
   "execution_count": 14,
   "id": "ef1d9079",
   "metadata": {},
   "outputs": [],
   "source": [
    "# Preparing the scaler\n",
    "ValScaler = MinMaxScaler()\n",
    "\n",
    "X_train = ValScaler.fit_transform(X_train_df)\n",
    "X_valid = ValScaler.transform(X_valid_df)\n",
    "X_test = ValScaler.transform(X_test_df)\n",
    "\n",
    "Y_train = ValScaler.fit_transform(Y_train_df)\n",
    "Y_valid = ValScaler.transform(Y_valid_df)\n",
    "Y_test = ValScaler.transform(Y_test_df)"
   ]
  },
  {
   "cell_type": "code",
   "execution_count": 15,
   "id": "43594401",
   "metadata": {},
   "outputs": [],
   "source": [
    "def splitData(dataset):\n",
    "    data = np.array(np.split(dataset, len(dataset)/24))\n",
    "    return data"
   ]
  },
  {
   "cell_type": "code",
   "execution_count": 16,
   "id": "300696b2",
   "metadata": {},
   "outputs": [],
   "source": [
    "def supervisedSet(X_part, Y_part, steps= 24):\n",
    "    X_array, Y_array = np.array(X_part), np.array(Y_part)\n",
    "    X, Y = [], []\n",
    "    \n",
    "    for i in range(len(X_array)):\n",
    "        endIdx = i + steps\n",
    "        \n",
    "        if endIdx > len(X_array):\n",
    "            break\n",
    "        \n",
    "        batch_X, batch_Y = X_array[i:endIdx], Y_array[i:endIdx]\n",
    "        \n",
    "        X.append(batch_X)\n",
    "        Y.append(batch_Y)\n",
    "        \n",
    "    return np.array(X), np.array(Y)"
   ]
  },
  {
   "cell_type": "code",
   "execution_count": 17,
   "id": "fc9cd97d",
   "metadata": {},
   "outputs": [],
   "source": [
    "X_train, Y_train = supervisedSet(X_train, Y_train)\n",
    "\n",
    "X_valid, Y_valid = splitData(X_valid), splitData(Y_valid)\n",
    "\n",
    "X_test, Y_test = splitData(X_test), splitData(Y_test)"
   ]
  },
  {
   "cell_type": "markdown",
   "id": "a2a6bf32",
   "metadata": {},
   "source": [
    "### WORKING ON THE MODEL"
   ]
  },
  {
   "cell_type": "code",
   "execution_count": 18,
   "id": "ff71a98c",
   "metadata": {},
   "outputs": [],
   "source": [
    "epochs = 100\n",
    "batchSize = 32"
   ]
  },
  {
   "cell_type": "code",
   "execution_count": 19,
   "id": "8d600c17",
   "metadata": {},
   "outputs": [],
   "source": [
    "# Encoder-decoder architecture [tanh required to use tensorflow on gpu]\n",
    "model = tf.keras.Sequential([\n",
    "    tf.keras.layers.LSTM(units= 128, activation= \"tanh\", input_shape= (X_train.shape[1], X_train.shape[2]), dropout= 0.2),\n",
    "    tf.keras.layers.RepeatVector(Y_train.shape[1]),\n",
    "    tf.keras.layers.LSTM(units= 128, activation= \"tanh\", return_sequences= True, dropout= 0.2),\n",
    "    tf.keras.layers.TimeDistributed(tf.keras.layers.Dense(units= 128, activation= \"relu\")),\n",
    "    tf.keras.layers.Dropout(0.2),\n",
    "    tf.keras.layers.TimeDistributed(tf.keras.layers.Dense(units= 1))\n",
    "])\n",
    "\n",
    "model.compile(loss= \"mse\", optimizer= \"adam\",  metrics= ['mape', 'mae'])"
   ]
  },
  {
   "cell_type": "code",
   "execution_count": 20,
   "id": "a05c033a",
   "metadata": {},
   "outputs": [],
   "source": [
    "# model = tf.keras.Sequential([\n",
    "#     tf.keras.layers.LSTM(units= 256, activation= \"tanh\", input_shape= (X_train.shape[1], X_train.shape[2])),\n",
    "#     tf.keras.layers.Dense(units= 128, activation= \"tanh\"),\n",
    "#     tf.keras.layers.Dense(units= 1)\n",
    "# ])\n",
    "\n",
    "# model.compile(loss= \"mse\", optimizer= \"adam\",  metrics= ['mape', 'mae'])"
   ]
  },
  {
   "cell_type": "code",
   "execution_count": 21,
   "id": "c9390383",
   "metadata": {},
   "outputs": [],
   "source": [
    "# Storing the start time of model fitting process\n",
    "startTime = time.time()"
   ]
  },
  {
   "cell_type": "code",
   "execution_count": 22,
   "id": "e526e3ed",
   "metadata": {},
   "outputs": [
    {
     "name": "stdout",
     "output_type": "stream",
     "text": [
      "Epoch 1/100\n",
      "1105/1105 [==============================] - 17s 11ms/step - loss: 0.0114 - mape: 5708.0493 - mae: 0.0812 - val_loss: 0.0078 - val_mape: 83.9004 - val_mae: 0.0721\n",
      "Epoch 2/100\n",
      "1105/1105 [==============================] - 12s 11ms/step - loss: 0.0063 - mape: 5086.7212 - mae: 0.0609 - val_loss: 0.0091 - val_mape: 86.6254 - val_mae: 0.0747\n",
      "Epoch 3/100\n",
      "1105/1105 [==============================] - 12s 11ms/step - loss: 0.0042 - mape: 4666.2681 - mae: 0.0500 - val_loss: 0.0077 - val_mape: 73.8086 - val_mae: 0.0640\n",
      "Epoch 4/100\n",
      "1105/1105 [==============================] - 12s 11ms/step - loss: 0.0038 - mape: 4825.4062 - mae: 0.0472 - val_loss: 0.0070 - val_mape: 67.9959 - val_mae: 0.0605\n",
      "Epoch 5/100\n",
      "1105/1105 [==============================] - 12s 11ms/step - loss: 0.0034 - mape: 4827.9199 - mae: 0.0447 - val_loss: 0.0080 - val_mape: 48.1421 - val_mae: 0.0630\n",
      "Epoch 6/100\n",
      "1105/1105 [==============================] - 12s 11ms/step - loss: 0.0032 - mape: 4629.1265 - mae: 0.0430 - val_loss: 0.0075 - val_mape: 67.3240 - val_mae: 0.0626\n",
      "Epoch 7/100\n",
      "1105/1105 [==============================] - 12s 11ms/step - loss: 0.0030 - mape: 4371.2734 - mae: 0.0417 - val_loss: 0.0077 - val_mape: 66.9857 - val_mae: 0.0652\n",
      "Epoch 8/100\n",
      "1105/1105 [==============================] - 12s 11ms/step - loss: 0.0030 - mape: 4448.3784 - mae: 0.0410 - val_loss: 0.0072 - val_mape: 72.3627 - val_mae: 0.0621\n",
      "Epoch 9/100\n",
      "1105/1105 [==============================] - 12s 11ms/step - loss: 0.0029 - mape: 4277.5542 - mae: 0.0404 - val_loss: 0.0071 - val_mape: 74.5514 - val_mae: 0.0619\n",
      "Epoch 10/100\n",
      "1105/1105 [==============================] - 12s 11ms/step - loss: 0.0027 - mape: 4167.1812 - mae: 0.0394 - val_loss: 0.0066 - val_mape: 55.3104 - val_mae: 0.0557\n",
      "Epoch 11/100\n",
      "1105/1105 [==============================] - 12s 11ms/step - loss: 0.0026 - mape: 3892.1885 - mae: 0.0386 - val_loss: 0.0066 - val_mape: 57.2923 - val_mae: 0.0561\n",
      "Epoch 12/100\n",
      "1105/1105 [==============================] - 12s 11ms/step - loss: 0.0026 - mape: 4097.7061 - mae: 0.0381 - val_loss: 0.0071 - val_mape: 55.7853 - val_mae: 0.0572\n",
      "Epoch 13/100\n",
      "1105/1105 [==============================] - 13s 11ms/step - loss: 0.0025 - mape: 3541.6504 - mae: 0.0375 - val_loss: 0.0071 - val_mape: 53.4083 - val_mae: 0.0578\n",
      "Epoch 14/100\n",
      "1105/1105 [==============================] - 13s 11ms/step - loss: 0.0025 - mape: 3786.3020 - mae: 0.0376 - val_loss: 0.0069 - val_mape: 54.8897 - val_mae: 0.0574\n",
      "Epoch 15/100\n",
      "1105/1105 [==============================] - 12s 11ms/step - loss: 0.0024 - mape: 3662.7988 - mae: 0.0370 - val_loss: 0.0058 - val_mape: 62.5783 - val_mae: 0.0546\n",
      "Epoch 16/100\n",
      "1105/1105 [==============================] - 12s 11ms/step - loss: 0.0024 - mape: 3854.9434 - mae: 0.0367 - val_loss: 0.0071 - val_mape: 52.8815 - val_mae: 0.0583\n",
      "Epoch 17/100\n",
      "1105/1105 [==============================] - 12s 11ms/step - loss: 0.0024 - mape: 3684.2427 - mae: 0.0363 - val_loss: 0.0076 - val_mape: 59.9322 - val_mae: 0.0602\n",
      "Epoch 18/100\n",
      "1105/1105 [==============================] - 12s 11ms/step - loss: 0.0023 - mape: 3697.7842 - mae: 0.0360 - val_loss: 0.0065 - val_mape: 56.3886 - val_mae: 0.0546\n",
      "Epoch 19/100\n",
      "1105/1105 [==============================] - 12s 11ms/step - loss: 0.0023 - mape: 3756.1489 - mae: 0.0358 - val_loss: 0.0074 - val_mape: 60.7650 - val_mae: 0.0595\n",
      "Epoch 20/100\n",
      "1105/1105 [==============================] - 12s 11ms/step - loss: 0.0023 - mape: 3613.3857 - mae: 0.0355 - val_loss: 0.0070 - val_mape: 63.4980 - val_mae: 0.0568\n",
      "Epoch 21/100\n",
      "1105/1105 [==============================] - 13s 11ms/step - loss: 0.0022 - mape: 3572.0039 - mae: 0.0353 - val_loss: 0.0067 - val_mape: 57.2874 - val_mae: 0.0565\n",
      "Epoch 22/100\n",
      "1105/1105 [==============================] - 12s 11ms/step - loss: 0.0022 - mape: 3529.9868 - mae: 0.0351 - val_loss: 0.0069 - val_mape: 59.4878 - val_mae: 0.0566\n",
      "Epoch 23/100\n",
      "1105/1105 [==============================] - 12s 11ms/step - loss: 0.0022 - mape: 3671.8457 - mae: 0.0348 - val_loss: 0.0081 - val_mape: 49.8375 - val_mae: 0.0609\n",
      "Epoch 24/100\n",
      "1105/1105 [==============================] - 12s 11ms/step - loss: 0.0022 - mape: 3627.3396 - mae: 0.0347 - val_loss: 0.0061 - val_mape: 52.5677 - val_mae: 0.0537\n",
      "Epoch 25/100\n",
      "1105/1105 [==============================] - 12s 11ms/step - loss: 0.0021 - mape: 3702.1643 - mae: 0.0344 - val_loss: 0.0065 - val_mape: 59.1780 - val_mae: 0.0548\n",
      "Epoch 26/100\n",
      "1105/1105 [==============================] - 12s 11ms/step - loss: 0.0021 - mape: 3359.9121 - mae: 0.0344 - val_loss: 0.0071 - val_mape: 60.1404 - val_mae: 0.0569\n",
      "Epoch 27/100\n",
      "1105/1105 [==============================] - 12s 11ms/step - loss: 0.0021 - mape: 3614.6589 - mae: 0.0340 - val_loss: 0.0068 - val_mape: 57.9744 - val_mae: 0.0559\n",
      "Epoch 28/100\n",
      "1105/1105 [==============================] - 12s 11ms/step - loss: 0.0021 - mape: 3263.0750 - mae: 0.0339 - val_loss: 0.0079 - val_mape: 71.1066 - val_mae: 0.0607\n",
      "Epoch 29/100\n",
      "1105/1105 [==============================] - 12s 11ms/step - loss: 0.0021 - mape: 3453.0237 - mae: 0.0337 - val_loss: 0.0071 - val_mape: 67.8825 - val_mae: 0.0584\n",
      "Epoch 30/100\n",
      "1105/1105 [==============================] - 12s 11ms/step - loss: 0.0020 - mape: 3115.0815 - mae: 0.0336 - val_loss: 0.0068 - val_mape: 52.1826 - val_mae: 0.0554\n",
      "Epoch 31/100\n",
      "1105/1105 [==============================] - 12s 11ms/step - loss: 0.0020 - mape: 3318.0103 - mae: 0.0334 - val_loss: 0.0082 - val_mape: 64.6464 - val_mae: 0.0614\n",
      "Epoch 32/100\n",
      "1105/1105 [==============================] - 12s 11ms/step - loss: 0.0020 - mape: 2850.8755 - mae: 0.0332 - val_loss: 0.0077 - val_mape: 54.8795 - val_mae: 0.0592\n",
      "Epoch 33/100\n",
      "1105/1105 [==============================] - 12s 11ms/step - loss: 0.0020 - mape: 2825.1045 - mae: 0.0332 - val_loss: 0.0076 - val_mape: 53.2196 - val_mae: 0.0592\n",
      "Epoch 34/100\n",
      "1105/1105 [==============================] - 12s 11ms/step - loss: 0.0020 - mape: 2963.7986 - mae: 0.0330 - val_loss: 0.0076 - val_mape: 74.6279 - val_mae: 0.0602\n",
      "Epoch 35/100\n",
      "1105/1105 [==============================] - 12s 11ms/step - loss: 0.0019 - mape: 2867.4045 - mae: 0.0327 - val_loss: 0.0066 - val_mape: 55.2566 - val_mae: 0.0551\n",
      "Epoch 36/100\n",
      "1105/1105 [==============================] - 12s 11ms/step - loss: 0.0019 - mape: 2899.7520 - mae: 0.0326 - val_loss: 0.0072 - val_mape: 62.6803 - val_mae: 0.0582\n",
      "Epoch 37/100\n",
      "1105/1105 [==============================] - 12s 11ms/step - loss: 0.0019 - mape: 2557.3669 - mae: 0.0324 - val_loss: 0.0071 - val_mape: 58.6192 - val_mae: 0.0576\n",
      "Epoch 38/100\n",
      "1105/1105 [==============================] - 12s 11ms/step - loss: 0.0019 - mape: 3359.3340 - mae: 0.0324 - val_loss: 0.0065 - val_mape: 52.6807 - val_mae: 0.0549\n",
      "Epoch 39/100\n",
      "1105/1105 [==============================] - 12s 11ms/step - loss: 0.0019 - mape: 2678.1238 - mae: 0.0322 - val_loss: 0.0069 - val_mape: 50.5588 - val_mae: 0.0570\n",
      "Epoch 40/100\n",
      "1105/1105 [==============================] - 12s 11ms/step - loss: 0.0019 - mape: 2679.2949 - mae: 0.0320 - val_loss: 0.0073 - val_mape: 54.0760 - val_mae: 0.0577\n",
      "Epoch 41/100\n",
      "1105/1105 [==============================] - 12s 11ms/step - loss: 0.0018 - mape: 2458.7568 - mae: 0.0317 - val_loss: 0.0077 - val_mape: 65.0506 - val_mae: 0.0603\n",
      "Epoch 42/100\n",
      "1105/1105 [==============================] - 12s 11ms/step - loss: 0.0018 - mape: 2181.1890 - mae: 0.0316 - val_loss: 0.0077 - val_mape: 49.6293 - val_mae: 0.0597\n",
      "Epoch 43/100\n",
      "1105/1105 [==============================] - 12s 11ms/step - loss: 0.0018 - mape: 2551.0325 - mae: 0.0316 - val_loss: 0.0068 - val_mape: 57.9642 - val_mae: 0.0561\n",
      "Epoch 44/100\n",
      "1105/1105 [==============================] - 12s 11ms/step - loss: 0.0018 - mape: 2502.5439 - mae: 0.0315 - val_loss: 0.0071 - val_mape: 50.3959 - val_mae: 0.0568\n",
      "Epoch 45/100\n",
      "1105/1105 [==============================] - 12s 11ms/step - loss: 0.0018 - mape: 2275.7195 - mae: 0.0311 - val_loss: 0.0072 - val_mape: 60.1916 - val_mae: 0.0583\n",
      "Epoch 46/100\n",
      "1105/1105 [==============================] - 12s 11ms/step - loss: 0.0017 - mape: 2230.4590 - mae: 0.0310 - val_loss: 0.0068 - val_mape: 63.9339 - val_mae: 0.0570\n",
      "Epoch 47/100\n"
     ]
    },
    {
     "name": "stdout",
     "output_type": "stream",
     "text": [
      "1105/1105 [==============================] - 12s 11ms/step - loss: 0.0017 - mape: 2242.4067 - mae: 0.0307 - val_loss: 0.0067 - val_mape: 61.6317 - val_mae: 0.0563\n",
      "Epoch 48/100\n",
      "1105/1105 [==============================] - 12s 11ms/step - loss: 0.0017 - mape: 2243.5627 - mae: 0.0308 - val_loss: 0.0069 - val_mape: 56.1892 - val_mae: 0.0576\n",
      "Epoch 49/100\n",
      "1105/1105 [==============================] - 12s 11ms/step - loss: 0.0017 - mape: 2218.6287 - mae: 0.0303 - val_loss: 0.0073 - val_mape: 53.8080 - val_mae: 0.0587\n",
      "Epoch 50/100\n",
      "1105/1105 [==============================] - 12s 11ms/step - loss: 0.0017 - mape: 1984.2080 - mae: 0.0303 - val_loss: 0.0067 - val_mape: 49.6821 - val_mae: 0.0547\n",
      "Epoch 51/100\n",
      "1105/1105 [==============================] - 12s 11ms/step - loss: 0.0016 - mape: 2073.9465 - mae: 0.0301 - val_loss: 0.0074 - val_mape: 48.4523 - val_mae: 0.0589\n",
      "Epoch 52/100\n",
      "1105/1105 [==============================] - 12s 11ms/step - loss: 0.0016 - mape: 2291.3325 - mae: 0.0301 - val_loss: 0.0069 - val_mape: 61.7464 - val_mae: 0.0568\n",
      "Epoch 53/100\n",
      "1105/1105 [==============================] - 12s 11ms/step - loss: 0.0016 - mape: 1930.7861 - mae: 0.0299 - val_loss: 0.0070 - val_mape: 49.9532 - val_mae: 0.0568\n",
      "Epoch 54/100\n",
      "1105/1105 [==============================] - 12s 11ms/step - loss: 0.0016 - mape: 1637.5100 - mae: 0.0296 - val_loss: 0.0077 - val_mape: 49.5364 - val_mae: 0.0605\n",
      "Epoch 55/100\n",
      "1105/1105 [==============================] - 12s 11ms/step - loss: 0.0016 - mape: 1803.3528 - mae: 0.0294 - val_loss: 0.0072 - val_mape: 44.2482 - val_mae: 0.0583\n",
      "Epoch 56/100\n",
      "1105/1105 [==============================] - 12s 11ms/step - loss: 0.0016 - mape: 2148.6819 - mae: 0.0293 - val_loss: 0.0067 - val_mape: 51.3154 - val_mae: 0.0558\n",
      "Epoch 57/100\n",
      "1105/1105 [==============================] - 12s 11ms/step - loss: 0.0015 - mape: 1572.7142 - mae: 0.0291 - val_loss: 0.0067 - val_mape: 52.6125 - val_mae: 0.0554\n",
      "Epoch 58/100\n",
      "1105/1105 [==============================] - 12s 11ms/step - loss: 0.0015 - mape: 1849.7000 - mae: 0.0290 - val_loss: 0.0072 - val_mape: 47.8362 - val_mae: 0.0582\n",
      "Epoch 59/100\n",
      "1105/1105 [==============================] - 12s 11ms/step - loss: 0.0015 - mape: 2055.0632 - mae: 0.0289 - val_loss: 0.0079 - val_mape: 56.4072 - val_mae: 0.0615\n",
      "Epoch 60/100\n",
      "1105/1105 [==============================] - 12s 11ms/step - loss: 0.0015 - mape: 1739.6761 - mae: 0.0286 - val_loss: 0.0070 - val_mape: 56.4312 - val_mae: 0.0575\n",
      "Epoch 61/100\n",
      "1105/1105 [==============================] - 12s 11ms/step - loss: 0.0015 - mape: 1922.0194 - mae: 0.0285 - val_loss: 0.0075 - val_mape: 55.9922 - val_mae: 0.0600\n",
      "Epoch 62/100\n",
      "1105/1105 [==============================] - 12s 11ms/step - loss: 0.0015 - mape: 1547.9949 - mae: 0.0285 - val_loss: 0.0065 - val_mape: 50.9510 - val_mae: 0.0552\n",
      "Epoch 63/100\n",
      "1105/1105 [==============================] - 12s 11ms/step - loss: 0.0014 - mape: 1779.0826 - mae: 0.0280 - val_loss: 0.0074 - val_mape: 52.8692 - val_mae: 0.0593\n",
      "Epoch 64/100\n",
      "1105/1105 [==============================] - 12s 11ms/step - loss: 0.0014 - mape: 1741.1870 - mae: 0.0280 - val_loss: 0.0067 - val_mape: 57.4110 - val_mae: 0.0558\n",
      "Epoch 65/100\n",
      "1105/1105 [==============================] - 13s 11ms/step - loss: 0.0014 - mape: 1483.3661 - mae: 0.0278 - val_loss: 0.0076 - val_mape: 61.3992 - val_mae: 0.0600\n",
      "Epoch 66/100\n",
      "1105/1105 [==============================] - 12s 11ms/step - loss: 0.0014 - mape: 1644.6127 - mae: 0.0278 - val_loss: 0.0072 - val_mape: 51.9660 - val_mae: 0.0570\n",
      "Epoch 67/100\n",
      "1105/1105 [==============================] - 13s 11ms/step - loss: 0.0013 - mape: 1718.1796 - mae: 0.0274 - val_loss: 0.0076 - val_mape: 60.9894 - val_mae: 0.0601\n",
      "Epoch 68/100\n",
      "1105/1105 [==============================] - 12s 11ms/step - loss: 0.0013 - mape: 1350.8120 - mae: 0.0273 - val_loss: 0.0074 - val_mape: 55.6452 - val_mae: 0.0585\n",
      "Epoch 69/100\n",
      "1105/1105 [==============================] - 12s 11ms/step - loss: 0.0013 - mape: 1296.7406 - mae: 0.0270 - val_loss: 0.0071 - val_mape: 65.6322 - val_mae: 0.0583\n",
      "Epoch 70/100\n",
      "1105/1105 [==============================] - 12s 11ms/step - loss: 0.0013 - mape: 1541.9955 - mae: 0.0269 - val_loss: 0.0083 - val_mape: 62.7843 - val_mae: 0.0636\n",
      "Epoch 71/100\n",
      "1105/1105 [==============================] - 12s 11ms/step - loss: 0.0013 - mape: 1497.0092 - mae: 0.0269 - val_loss: 0.0081 - val_mape: 49.9724 - val_mae: 0.0627\n",
      "Epoch 72/100\n",
      "1105/1105 [==============================] - 12s 11ms/step - loss: 0.0013 - mape: 1245.2100 - mae: 0.0266 - val_loss: 0.0086 - val_mape: 66.4641 - val_mae: 0.0647\n",
      "Epoch 73/100\n",
      "1105/1105 [==============================] - 12s 11ms/step - loss: 0.0013 - mape: 1657.1246 - mae: 0.0267 - val_loss: 0.0077 - val_mape: 70.8427 - val_mae: 0.0603\n",
      "Epoch 74/100\n",
      "1105/1105 [==============================] - 12s 11ms/step - loss: 0.0012 - mape: 1222.0620 - mae: 0.0264 - val_loss: 0.0080 - val_mape: 70.9527 - val_mae: 0.0615\n",
      "Epoch 75/100\n",
      "1105/1105 [==============================] - 12s 11ms/step - loss: 0.0012 - mape: 1492.1484 - mae: 0.0262 - val_loss: 0.0075 - val_mape: 63.1669 - val_mae: 0.0593\n",
      "Epoch 76/100\n",
      "1105/1105 [==============================] - 12s 11ms/step - loss: 0.0012 - mape: 1231.7869 - mae: 0.0259 - val_loss: 0.0081 - val_mape: 67.9716 - val_mae: 0.0618\n",
      "Epoch 77/100\n",
      "1105/1105 [==============================] - 12s 11ms/step - loss: 0.0012 - mape: 1297.6130 - mae: 0.0260 - val_loss: 0.0075 - val_mape: 69.1723 - val_mae: 0.0590\n",
      "Epoch 78/100\n",
      "1105/1105 [==============================] - 12s 11ms/step - loss: 0.0012 - mape: 1174.6042 - mae: 0.0258 - val_loss: 0.0082 - val_mape: 58.6085 - val_mae: 0.0622\n",
      "Epoch 79/100\n",
      "1105/1105 [==============================] - 12s 11ms/step - loss: 0.0011 - mape: 1465.8876 - mae: 0.0254 - val_loss: 0.0075 - val_mape: 65.3921 - val_mae: 0.0597\n",
      "Epoch 80/100\n",
      "1105/1105 [==============================] - 12s 11ms/step - loss: 0.0012 - mape: 1205.1587 - mae: 0.0255 - val_loss: 0.0078 - val_mape: 64.8673 - val_mae: 0.0608\n",
      "Epoch 81/100\n",
      "1105/1105 [==============================] - 12s 11ms/step - loss: 0.0011 - mape: 1403.9980 - mae: 0.0252 - val_loss: 0.0089 - val_mape: 63.4955 - val_mae: 0.0658\n",
      "Epoch 82/100\n",
      "1105/1105 [==============================] - 12s 11ms/step - loss: 0.0011 - mape: 1350.7522 - mae: 0.0252 - val_loss: 0.0075 - val_mape: 65.6734 - val_mae: 0.0589\n",
      "Epoch 83/100\n",
      "1105/1105 [==============================] - 12s 11ms/step - loss: 0.0011 - mape: 1096.4030 - mae: 0.0250 - val_loss: 0.0075 - val_mape: 64.3530 - val_mae: 0.0588\n",
      "Epoch 84/100\n",
      "1105/1105 [==============================] - 12s 11ms/step - loss: 0.0011 - mape: 1064.3942 - mae: 0.0249 - val_loss: 0.0082 - val_mape: 66.3182 - val_mae: 0.0622\n",
      "Epoch 85/100\n",
      "1105/1105 [==============================] - 12s 11ms/step - loss: 0.0011 - mape: 1013.6932 - mae: 0.0248 - val_loss: 0.0079 - val_mape: 62.1419 - val_mae: 0.0605\n",
      "Epoch 86/100\n",
      "1105/1105 [==============================] - 12s 11ms/step - loss: 0.0011 - mape: 1045.1780 - mae: 0.0246 - val_loss: 0.0078 - val_mape: 68.6718 - val_mae: 0.0610\n",
      "Epoch 87/100\n",
      "1105/1105 [==============================] - 12s 11ms/step - loss: 0.0011 - mape: 1027.4785 - mae: 0.0244 - val_loss: 0.0074 - val_mape: 59.1461 - val_mae: 0.0592\n",
      "Epoch 88/100\n",
      "1105/1105 [==============================] - 12s 11ms/step - loss: 0.0011 - mape: 1041.0813 - mae: 0.0243 - val_loss: 0.0079 - val_mape: 67.5012 - val_mae: 0.0608\n",
      "Epoch 89/100\n",
      "1105/1105 [==============================] - 12s 11ms/step - loss: 0.0010 - mape: 1083.8361 - mae: 0.0241 - val_loss: 0.0075 - val_mape: 69.5156 - val_mae: 0.0594\n",
      "Epoch 90/100\n",
      "1105/1105 [==============================] - 12s 11ms/step - loss: 0.0010 - mape: 1055.6436 - mae: 0.0241 - val_loss: 0.0080 - val_mape: 70.4084 - val_mae: 0.0614\n",
      "Epoch 91/100\n",
      "1105/1105 [==============================] - 12s 11ms/step - loss: 0.0010 - mape: 1369.0093 - mae: 0.0238 - val_loss: 0.0077 - val_mape: 70.3684 - val_mae: 0.0610\n",
      "Epoch 92/100\n",
      "1105/1105 [==============================] - 12s 11ms/step - loss: 0.0010 - mape: 1196.2257 - mae: 0.0238 - val_loss: 0.0078 - val_mape: 66.2014 - val_mae: 0.0602\n",
      "Epoch 93/100\n"
     ]
    },
    {
     "name": "stdout",
     "output_type": "stream",
     "text": [
      "1105/1105 [==============================] - 12s 11ms/step - loss: 0.0010 - mape: 1393.4155 - mae: 0.0238 - val_loss: 0.0074 - val_mape: 59.6160 - val_mae: 0.0588\n",
      "Epoch 94/100\n",
      "1105/1105 [==============================] - 12s 11ms/step - loss: 9.7973e-04 - mape: 846.7833 - mae: 0.0235 - val_loss: 0.0072 - val_mape: 62.0860 - val_mae: 0.0588\n",
      "Epoch 95/100\n",
      "1105/1105 [==============================] - 12s 11ms/step - loss: 9.7492e-04 - mape: 883.6955 - mae: 0.0234 - val_loss: 0.0068 - val_mape: 60.8730 - val_mae: 0.0563\n",
      "Epoch 96/100\n",
      "1105/1105 [==============================] - 12s 11ms/step - loss: 9.6532e-04 - mape: 1324.6558 - mae: 0.0233 - val_loss: 0.0070 - val_mape: 64.3646 - val_mae: 0.0572\n",
      "Epoch 97/100\n",
      "1105/1105 [==============================] - 12s 11ms/step - loss: 9.5864e-04 - mape: 1169.1884 - mae: 0.0232 - val_loss: 0.0078 - val_mape: 66.6075 - val_mae: 0.0616\n",
      "Epoch 98/100\n",
      "1105/1105 [==============================] - 12s 11ms/step - loss: 9.3244e-04 - mape: 997.8507 - mae: 0.0229 - val_loss: 0.0078 - val_mape: 62.5240 - val_mae: 0.0612\n",
      "Epoch 99/100\n",
      "1105/1105 [==============================] - 12s 11ms/step - loss: 9.3327e-04 - mape: 1017.3380 - mae: 0.0230 - val_loss: 0.0078 - val_mape: 69.9203 - val_mae: 0.0616\n",
      "Epoch 100/100\n",
      "1105/1105 [==============================] - 12s 11ms/step - loss: 9.2791e-04 - mape: 960.5590 - mae: 0.0229 - val_loss: 0.0079 - val_mape: 64.5509 - val_mae: 0.0614\n"
     ]
    },
    {
     "data": {
      "text/plain": [
       "<keras.callbacks.History at 0x17cba046220>"
      ]
     },
     "execution_count": 22,
     "metadata": {},
     "output_type": "execute_result"
    }
   ],
   "source": [
    "model.fit(X_train, Y_train, epochs= epochs, batch_size= batchSize, verbose= 1, shuffle= True, validation_data= (X_valid, Y_valid))"
   ]
  },
  {
   "cell_type": "code",
   "execution_count": 23,
   "id": "cd839153",
   "metadata": {},
   "outputs": [
    {
     "name": "stdout",
     "output_type": "stream",
     "text": [
      "Total execution time in seconds: 1205.4449772834778\n"
     ]
    }
   ],
   "source": [
    "calcExecTime = (time.time() - startTime)\n",
    "print('Total execution time in seconds: ' + str(calcExecTime))"
   ]
  },
  {
   "cell_type": "markdown",
   "id": "72aafa74",
   "metadata": {},
   "source": [
    "### MAKING PREDICTIONS AND GENERATING RESULTS"
   ]
  },
  {
   "cell_type": "code",
   "execution_count": 24,
   "id": "259bfb49",
   "metadata": {},
   "outputs": [
    {
     "name": "stdout",
     "output_type": "stream",
     "text": [
      "6/6 [==============================] - 1s 6ms/step\n"
     ]
    }
   ],
   "source": [
    "predictions = model.predict(X_test)"
   ]
  },
  {
   "cell_type": "code",
   "execution_count": 25,
   "id": "2912d431",
   "metadata": {},
   "outputs": [
    {
     "data": {
      "text/plain": [
       "array([0.16865605, 0.14181146, 0.13019302, ..., 0.38698304, 0.3483673 ,\n",
       "       0.3154336 ], dtype=float32)"
      ]
     },
     "execution_count": 25,
     "metadata": {},
     "output_type": "execute_result"
    }
   ],
   "source": [
    "predArr = predictions.reshape(predictions.shape[0] * predictions.shape[1], predictions.shape[2]).ravel()\n",
    "predArr"
   ]
  },
  {
   "cell_type": "code",
   "execution_count": 26,
   "id": "b01889f2",
   "metadata": {},
   "outputs": [
    {
     "data": {
      "text/plain": [
       "array([0.31748091, 0.28677933, 0.2639968 , ..., 0.33813138, 0.30773438,\n",
       "       0.27910393])"
      ]
     },
     "execution_count": 26,
     "metadata": {},
     "output_type": "execute_result"
    }
   ],
   "source": [
    "Y_testArr = Y_test.reshape(Y_test.shape[0] * Y_test.shape[1], Y_test.shape[2]).ravel()\n",
    "Y_testArr"
   ]
  },
  {
   "cell_type": "code",
   "execution_count": 27,
   "id": "799c97e8",
   "metadata": {},
   "outputs": [],
   "source": [
    "def inverse_transform(df):\n",
    "    column_names = df.columns\n",
    "    for col in column_names:\n",
    "        df[col] = ValScaler.inverse_transform(df[[col]]) \n",
    "    return df"
   ]
  },
  {
   "cell_type": "code",
   "execution_count": 28,
   "id": "afa81e30",
   "metadata": {},
   "outputs": [
    {
     "data": {
      "text/html": [
       "<div>\n",
       "<style scoped>\n",
       "    .dataframe tbody tr th:only-of-type {\n",
       "        vertical-align: middle;\n",
       "    }\n",
       "\n",
       "    .dataframe tbody tr th {\n",
       "        vertical-align: top;\n",
       "    }\n",
       "\n",
       "    .dataframe thead th {\n",
       "        text-align: right;\n",
       "    }\n",
       "</style>\n",
       "<table border=\"1\" class=\"dataframe\">\n",
       "  <thead>\n",
       "    <tr style=\"text-align: right;\">\n",
       "      <th></th>\n",
       "      <th>Values</th>\n",
       "      <th>Predictions</th>\n",
       "    </tr>\n",
       "  </thead>\n",
       "  <tbody>\n",
       "    <tr>\n",
       "      <th>0</th>\n",
       "      <td>1057.3</td>\n",
       "      <td>812.987732</td>\n",
       "    </tr>\n",
       "    <tr>\n",
       "      <th>1</th>\n",
       "      <td>1006.9</td>\n",
       "      <td>768.919434</td>\n",
       "    </tr>\n",
       "    <tr>\n",
       "      <th>2</th>\n",
       "      <td>969.5</td>\n",
       "      <td>749.846497</td>\n",
       "    </tr>\n",
       "    <tr>\n",
       "      <th>3</th>\n",
       "      <td>953.6</td>\n",
       "      <td>756.933594</td>\n",
       "    </tr>\n",
       "    <tr>\n",
       "      <th>4</th>\n",
       "      <td>979.1</td>\n",
       "      <td>796.581848</td>\n",
       "    </tr>\n",
       "    <tr>\n",
       "      <th>...</th>\n",
       "      <td>...</td>\n",
       "      <td>...</td>\n",
       "    </tr>\n",
       "    <tr>\n",
       "      <th>4363</th>\n",
       "      <td>1180.2</td>\n",
       "      <td>1277.204712</td>\n",
       "    </tr>\n",
       "    <tr>\n",
       "      <th>4364</th>\n",
       "      <td>1134.0</td>\n",
       "      <td>1233.523682</td>\n",
       "    </tr>\n",
       "    <tr>\n",
       "      <th>4365</th>\n",
       "      <td>1091.2</td>\n",
       "      <td>1171.395386</td>\n",
       "    </tr>\n",
       "    <tr>\n",
       "      <th>4366</th>\n",
       "      <td>1041.3</td>\n",
       "      <td>1108.003418</td>\n",
       "    </tr>\n",
       "    <tr>\n",
       "      <th>4367</th>\n",
       "      <td>994.3</td>\n",
       "      <td>1053.939087</td>\n",
       "    </tr>\n",
       "  </tbody>\n",
       "</table>\n",
       "<p>4368 rows × 2 columns</p>\n",
       "</div>"
      ],
      "text/plain": [
       "      Values  Predictions\n",
       "0     1057.3   812.987732\n",
       "1     1006.9   768.919434\n",
       "2      969.5   749.846497\n",
       "3      953.6   756.933594\n",
       "4      979.1   796.581848\n",
       "...      ...          ...\n",
       "4363  1180.2  1277.204712\n",
       "4364  1134.0  1233.523682\n",
       "4365  1091.2  1171.395386\n",
       "4366  1041.3  1108.003418\n",
       "4367   994.3  1053.939087\n",
       "\n",
       "[4368 rows x 2 columns]"
      ]
     },
     "execution_count": 28,
     "metadata": {},
     "output_type": "execute_result"
    }
   ],
   "source": [
    "comparisionDf = pd.DataFrame(data= {\"Values\": Y_testArr, \"Predictions\": predArr})\n",
    "comparisionDf = inverse_transform(comparisionDf)\n",
    "comparisionDf"
   ]
  },
  {
   "cell_type": "code",
   "execution_count": 29,
   "id": "88222bae",
   "metadata": {},
   "outputs": [
    {
     "data": {
      "text/plain": [
       "7.798578058457157"
      ]
     },
     "execution_count": 29,
     "metadata": {},
     "output_type": "execute_result"
    }
   ],
   "source": [
    "mape(comparisionDf[\"Values\"], comparisionDf[\"Predictions\"])"
   ]
  }
 ],
 "metadata": {
  "kernelspec": {
   "display_name": "Python 3 (ipykernel)",
   "language": "python",
   "name": "python3"
  },
  "language_info": {
   "codemirror_mode": {
    "name": "ipython",
    "version": 3
   },
   "file_extension": ".py",
   "mimetype": "text/x-python",
   "name": "python",
   "nbconvert_exporter": "python",
   "pygments_lexer": "ipython3",
   "version": "3.9.12"
  }
 },
 "nbformat": 4,
 "nbformat_minor": 5
}
