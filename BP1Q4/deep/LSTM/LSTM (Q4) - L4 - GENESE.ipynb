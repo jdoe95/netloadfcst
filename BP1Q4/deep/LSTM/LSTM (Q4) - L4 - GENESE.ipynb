{
 "cells": [
  {
   "cell_type": "code",
   "execution_count": 1,
   "id": "5f61b29f",
   "metadata": {},
   "outputs": [
    {
     "name": "stdout",
     "output_type": "stream",
     "text": [
      "Num GPUs Available:  1\n"
     ]
    }
   ],
   "source": [
    "import pandas as pd\n",
    "import numpy as np\n",
    "import os\n",
    "import matplotlib.pyplot as plt\n",
    "from datetime import datetime\n",
    "from sklearn.preprocessing import MinMaxScaler, RobustScaler, StandardScaler\n",
    "import time\n",
    "\n",
    "import tensorflow as tf\n",
    "tf.random.set_seed(42)\n",
    "\n",
    "def mape(y_true, y_pred):\n",
    "    y_true, y_pred = np.array(y_true), np.array(y_pred)\n",
    "    return np.mean(np.abs((y_true - y_pred) / max(y_true))) * 100\n",
    "\n",
    "def RMSELoss(yhat,y):\n",
    "    return torch.sqrt(torch.mean((yhat-y)**2))\n",
    "\n",
    "print(\"Num GPUs Available: \", len(tf.config.list_physical_devices('GPU')))"
   ]
  },
  {
   "cell_type": "code",
   "execution_count": 2,
   "id": "cea0abe2",
   "metadata": {},
   "outputs": [
    {
     "name": "stdout",
     "output_type": "stream",
     "text": [
      "['Capital.csv', 'Central.csv', 'Dunwoody.csv', 'Genese.csv', 'Hudson.csv', 'LongIsland.csv', 'Milwood.csv', 'NYC.csv']\n"
     ]
    }
   ],
   "source": [
    "# Specifying the path of file\n",
    "path= r\"C:\\Users\\sashah8\\OneDrive - North Carolina State University\\Desktop\\Q4\\Data\\L4\\data_cleaned\"\n",
    "\n",
    "# Listing just the required files\n",
    "fileList = os.listdir(path)\n",
    "fileList.remove(\"Date.csv\")\n",
    "\n",
    "# Previewing the required file names\n",
    "print(fileList)"
   ]
  },
  {
   "cell_type": "code",
   "execution_count": 3,
   "id": "a6fe9396",
   "metadata": {},
   "outputs": [
    {
     "data": {
      "text/html": [
       "<div>\n",
       "<style scoped>\n",
       "    .dataframe tbody tr th:only-of-type {\n",
       "        vertical-align: middle;\n",
       "    }\n",
       "\n",
       "    .dataframe tbody tr th {\n",
       "        vertical-align: top;\n",
       "    }\n",
       "\n",
       "    .dataframe thead th {\n",
       "        text-align: right;\n",
       "    }\n",
       "</style>\n",
       "<table border=\"1\" class=\"dataframe\">\n",
       "  <thead>\n",
       "    <tr style=\"text-align: right;\">\n",
       "      <th></th>\n",
       "      <th>Demand</th>\n",
       "      <th>Normalized_net</th>\n",
       "      <th>Temprature</th>\n",
       "    </tr>\n",
       "  </thead>\n",
       "  <tbody>\n",
       "    <tr>\n",
       "      <th>0</th>\n",
       "      <td>1042.4</td>\n",
       "      <td>0.517980</td>\n",
       "      <td>-8.1</td>\n",
       "    </tr>\n",
       "    <tr>\n",
       "      <th>1</th>\n",
       "      <td>991.2</td>\n",
       "      <td>0.492538</td>\n",
       "      <td>-8.0</td>\n",
       "    </tr>\n",
       "    <tr>\n",
       "      <th>2</th>\n",
       "      <td>961.5</td>\n",
       "      <td>0.477780</td>\n",
       "      <td>-7.9</td>\n",
       "    </tr>\n",
       "    <tr>\n",
       "      <th>3</th>\n",
       "      <td>947.1</td>\n",
       "      <td>0.470625</td>\n",
       "      <td>-7.7</td>\n",
       "    </tr>\n",
       "    <tr>\n",
       "      <th>4</th>\n",
       "      <td>951.2</td>\n",
       "      <td>0.472662</td>\n",
       "      <td>-7.7</td>\n",
       "    </tr>\n",
       "    <tr>\n",
       "      <th>...</th>\n",
       "      <td>...</td>\n",
       "      <td>...</td>\n",
       "      <td>...</td>\n",
       "    </tr>\n",
       "    <tr>\n",
       "      <th>43819</th>\n",
       "      <td>1179.4</td>\n",
       "      <td>0.586057</td>\n",
       "      <td>3.2</td>\n",
       "    </tr>\n",
       "    <tr>\n",
       "      <th>43820</th>\n",
       "      <td>1136.7</td>\n",
       "      <td>0.564839</td>\n",
       "      <td>2.6</td>\n",
       "    </tr>\n",
       "    <tr>\n",
       "      <th>43821</th>\n",
       "      <td>1094.5</td>\n",
       "      <td>0.543869</td>\n",
       "      <td>1.9</td>\n",
       "    </tr>\n",
       "    <tr>\n",
       "      <th>43822</th>\n",
       "      <td>1049.6</td>\n",
       "      <td>0.521558</td>\n",
       "      <td>0.1</td>\n",
       "    </tr>\n",
       "    <tr>\n",
       "      <th>43823</th>\n",
       "      <td>1023.4</td>\n",
       "      <td>0.508539</td>\n",
       "      <td>0.3</td>\n",
       "    </tr>\n",
       "  </tbody>\n",
       "</table>\n",
       "<p>43824 rows × 3 columns</p>\n",
       "</div>"
      ],
      "text/plain": [
       "       Demand  Normalized_net  Temprature\n",
       "0      1042.4        0.517980        -8.1\n",
       "1       991.2        0.492538        -8.0\n",
       "2       961.5        0.477780        -7.9\n",
       "3       947.1        0.470625        -7.7\n",
       "4       951.2        0.472662        -7.7\n",
       "...       ...             ...         ...\n",
       "43819  1179.4        0.586057         3.2\n",
       "43820  1136.7        0.564839         2.6\n",
       "43821  1094.5        0.543869         1.9\n",
       "43822  1049.6        0.521558         0.1\n",
       "43823  1023.4        0.508539         0.3\n",
       "\n",
       "[43824 rows x 3 columns]"
      ]
     },
     "execution_count": 3,
     "metadata": {},
     "output_type": "execute_result"
    }
   ],
   "source": [
    "# Just for previewing the columns\n",
    "pd.read_csv(os.path.join(path, fileList[3]))"
   ]
  },
  {
   "cell_type": "markdown",
   "id": "9ad4906c",
   "metadata": {
    "pycharm": {
     "name": "#%% md\n"
    }
   },
   "source": [
    "### PROCESSING THE DATA"
   ]
  },
  {
   "cell_type": "code",
   "execution_count": 4,
   "id": "f29f6db2",
   "metadata": {},
   "outputs": [
    {
     "data": {
      "text/html": [
       "<div>\n",
       "<style scoped>\n",
       "    .dataframe tbody tr th:only-of-type {\n",
       "        vertical-align: middle;\n",
       "    }\n",
       "\n",
       "    .dataframe tbody tr th {\n",
       "        vertical-align: top;\n",
       "    }\n",
       "\n",
       "    .dataframe thead th {\n",
       "        text-align: right;\n",
       "    }\n",
       "</style>\n",
       "<table border=\"1\" class=\"dataframe\">\n",
       "  <thead>\n",
       "    <tr style=\"text-align: right;\">\n",
       "      <th></th>\n",
       "      <th>Load_Genese</th>\n",
       "      <th>Temp_Genese</th>\n",
       "    </tr>\n",
       "  </thead>\n",
       "  <tbody>\n",
       "    <tr>\n",
       "      <th>0</th>\n",
       "      <td>1042.4</td>\n",
       "      <td>-8.1</td>\n",
       "    </tr>\n",
       "    <tr>\n",
       "      <th>1</th>\n",
       "      <td>991.2</td>\n",
       "      <td>-8.0</td>\n",
       "    </tr>\n",
       "    <tr>\n",
       "      <th>2</th>\n",
       "      <td>961.5</td>\n",
       "      <td>-7.9</td>\n",
       "    </tr>\n",
       "    <tr>\n",
       "      <th>3</th>\n",
       "      <td>947.1</td>\n",
       "      <td>-7.7</td>\n",
       "    </tr>\n",
       "    <tr>\n",
       "      <th>4</th>\n",
       "      <td>951.2</td>\n",
       "      <td>-7.7</td>\n",
       "    </tr>\n",
       "    <tr>\n",
       "      <th>...</th>\n",
       "      <td>...</td>\n",
       "      <td>...</td>\n",
       "    </tr>\n",
       "    <tr>\n",
       "      <th>43819</th>\n",
       "      <td>1179.4</td>\n",
       "      <td>3.2</td>\n",
       "    </tr>\n",
       "    <tr>\n",
       "      <th>43820</th>\n",
       "      <td>1136.7</td>\n",
       "      <td>2.6</td>\n",
       "    </tr>\n",
       "    <tr>\n",
       "      <th>43821</th>\n",
       "      <td>1094.5</td>\n",
       "      <td>1.9</td>\n",
       "    </tr>\n",
       "    <tr>\n",
       "      <th>43822</th>\n",
       "      <td>1049.6</td>\n",
       "      <td>0.1</td>\n",
       "    </tr>\n",
       "    <tr>\n",
       "      <th>43823</th>\n",
       "      <td>1023.4</td>\n",
       "      <td>0.3</td>\n",
       "    </tr>\n",
       "  </tbody>\n",
       "</table>\n",
       "<p>43824 rows × 2 columns</p>\n",
       "</div>"
      ],
      "text/plain": [
       "       Load_Genese  Temp_Genese\n",
       "0           1042.4         -8.1\n",
       "1            991.2         -8.0\n",
       "2            961.5         -7.9\n",
       "3            947.1         -7.7\n",
       "4            951.2         -7.7\n",
       "...            ...          ...\n",
       "43819       1179.4          3.2\n",
       "43820       1136.7          2.6\n",
       "43821       1094.5          1.9\n",
       "43822       1049.6          0.1\n",
       "43823       1023.4          0.3\n",
       "\n",
       "[43824 rows x 2 columns]"
      ]
     },
     "execution_count": 4,
     "metadata": {},
     "output_type": "execute_result"
    }
   ],
   "source": [
    "# Restricting the load data to a single zone\n",
    "fileName  = fileList[3]\n",
    "\n",
    "zoneData = pd.read_csv(os.path.join(path, fileName), usecols= [\"Demand\", \"Temprature\"])\n",
    "zoneData.columns = [\"Load_\"+str(fileName[:-4]), \"Temp_\"+str(fileName[:-4])]\n",
    "\n",
    "# For fixing one missing row\n",
    "# zoneData = pd.concat([zoneData.loc[[0]], zoneData], axis= 0).reset_index(drop= True)\n",
    "\n",
    "zoneData"
   ]
  },
  {
   "cell_type": "markdown",
   "id": "01cec4bd",
   "metadata": {},
   "source": [
    "### FEATURE ENGINEERING AND SPLITTING INTO TRAIN-TEST SPLIT"
   ]
  },
  {
   "cell_type": "code",
   "execution_count": 5,
   "id": "a1e1e8a3",
   "metadata": {},
   "outputs": [],
   "source": [
    "def lagGenerator(dF, lagList):\n",
    "    dF_temp = dF.filter(regex= \"Load\").copy()\n",
    "    \n",
    "    for i in lagList:\n",
    "        dF_temp.loc[:, \"Lag-\" + str(i)] = dF_temp.iloc[:,[0]].shift(i*24)\n",
    "    \n",
    "    return(dF_temp.filter(regex= \"Lag\"))"
   ]
  },
  {
   "cell_type": "code",
   "execution_count": 6,
   "id": "159a2a82",
   "metadata": {},
   "outputs": [
    {
     "data": {
      "text/html": [
       "<div>\n",
       "<style scoped>\n",
       "    .dataframe tbody tr th:only-of-type {\n",
       "        vertical-align: middle;\n",
       "    }\n",
       "\n",
       "    .dataframe tbody tr th {\n",
       "        vertical-align: top;\n",
       "    }\n",
       "\n",
       "    .dataframe thead th {\n",
       "        text-align: right;\n",
       "    }\n",
       "</style>\n",
       "<table border=\"1\" class=\"dataframe\">\n",
       "  <thead>\n",
       "    <tr style=\"text-align: right;\">\n",
       "      <th></th>\n",
       "      <th>Lag-2</th>\n",
       "      <th>Lag-7</th>\n",
       "    </tr>\n",
       "  </thead>\n",
       "  <tbody>\n",
       "    <tr>\n",
       "      <th>0</th>\n",
       "      <td>NaN</td>\n",
       "      <td>NaN</td>\n",
       "    </tr>\n",
       "    <tr>\n",
       "      <th>1</th>\n",
       "      <td>NaN</td>\n",
       "      <td>NaN</td>\n",
       "    </tr>\n",
       "  </tbody>\n",
       "</table>\n",
       "</div>"
      ],
      "text/plain": [
       "   Lag-2  Lag-7\n",
       "0    NaN    NaN\n",
       "1    NaN    NaN"
      ]
     },
     "execution_count": 6,
     "metadata": {},
     "output_type": "execute_result"
    }
   ],
   "source": [
    "Load_lags = lagGenerator(dF=zoneData, lagList=[2,7])\n",
    "Load_lags.head(2)"
   ]
  },
  {
   "cell_type": "code",
   "execution_count": 7,
   "id": "05896954",
   "metadata": {},
   "outputs": [
    {
     "data": {
      "text/html": [
       "<div>\n",
       "<style scoped>\n",
       "    .dataframe tbody tr th:only-of-type {\n",
       "        vertical-align: middle;\n",
       "    }\n",
       "\n",
       "    .dataframe tbody tr th {\n",
       "        vertical-align: top;\n",
       "    }\n",
       "\n",
       "    .dataframe thead th {\n",
       "        text-align: right;\n",
       "    }\n",
       "</style>\n",
       "<table border=\"1\" class=\"dataframe\">\n",
       "  <thead>\n",
       "    <tr style=\"text-align: right;\">\n",
       "      <th></th>\n",
       "      <th>Load_Genese</th>\n",
       "      <th>Temp_Genese</th>\n",
       "      <th>Lag-2</th>\n",
       "      <th>Lag-7</th>\n",
       "    </tr>\n",
       "  </thead>\n",
       "  <tbody>\n",
       "    <tr>\n",
       "      <th>0</th>\n",
       "      <td>1181.6</td>\n",
       "      <td>-17.0</td>\n",
       "      <td>1108.0</td>\n",
       "      <td>1042.4</td>\n",
       "    </tr>\n",
       "    <tr>\n",
       "      <th>1</th>\n",
       "      <td>1144.1</td>\n",
       "      <td>-17.3</td>\n",
       "      <td>1078.2</td>\n",
       "      <td>991.2</td>\n",
       "    </tr>\n",
       "    <tr>\n",
       "      <th>2</th>\n",
       "      <td>1125.8</td>\n",
       "      <td>-17.4</td>\n",
       "      <td>1065.9</td>\n",
       "      <td>961.5</td>\n",
       "    </tr>\n",
       "    <tr>\n",
       "      <th>3</th>\n",
       "      <td>1130.8</td>\n",
       "      <td>-17.4</td>\n",
       "      <td>1064.9</td>\n",
       "      <td>947.1</td>\n",
       "    </tr>\n",
       "    <tr>\n",
       "      <th>4</th>\n",
       "      <td>1177.2</td>\n",
       "      <td>-17.3</td>\n",
       "      <td>1091.1</td>\n",
       "      <td>951.2</td>\n",
       "    </tr>\n",
       "    <tr>\n",
       "      <th>...</th>\n",
       "      <td>...</td>\n",
       "      <td>...</td>\n",
       "      <td>...</td>\n",
       "      <td>...</td>\n",
       "    </tr>\n",
       "    <tr>\n",
       "      <th>43651</th>\n",
       "      <td>1179.4</td>\n",
       "      <td>3.2</td>\n",
       "      <td>1171.5</td>\n",
       "      <td>1119.7</td>\n",
       "    </tr>\n",
       "    <tr>\n",
       "      <th>43652</th>\n",
       "      <td>1136.7</td>\n",
       "      <td>2.6</td>\n",
       "      <td>1130.0</td>\n",
       "      <td>1105.0</td>\n",
       "    </tr>\n",
       "    <tr>\n",
       "      <th>43653</th>\n",
       "      <td>1094.5</td>\n",
       "      <td>1.9</td>\n",
       "      <td>1078.4</td>\n",
       "      <td>1085.8</td>\n",
       "    </tr>\n",
       "    <tr>\n",
       "      <th>43654</th>\n",
       "      <td>1049.6</td>\n",
       "      <td>0.1</td>\n",
       "      <td>1014.3</td>\n",
       "      <td>1046.8</td>\n",
       "    </tr>\n",
       "    <tr>\n",
       "      <th>43655</th>\n",
       "      <td>1023.4</td>\n",
       "      <td>0.3</td>\n",
       "      <td>960.2</td>\n",
       "      <td>1005.7</td>\n",
       "    </tr>\n",
       "  </tbody>\n",
       "</table>\n",
       "<p>43656 rows × 4 columns</p>\n",
       "</div>"
      ],
      "text/plain": [
       "       Load_Genese  Temp_Genese   Lag-2   Lag-7\n",
       "0           1181.6        -17.0  1108.0  1042.4\n",
       "1           1144.1        -17.3  1078.2   991.2\n",
       "2           1125.8        -17.4  1065.9   961.5\n",
       "3           1130.8        -17.4  1064.9   947.1\n",
       "4           1177.2        -17.3  1091.1   951.2\n",
       "...            ...          ...     ...     ...\n",
       "43651       1179.4          3.2  1171.5  1119.7\n",
       "43652       1136.7          2.6  1130.0  1105.0\n",
       "43653       1094.5          1.9  1078.4  1085.8\n",
       "43654       1049.6          0.1  1014.3  1046.8\n",
       "43655       1023.4          0.3   960.2  1005.7\n",
       "\n",
       "[43656 rows x 4 columns]"
      ]
     },
     "execution_count": 7,
     "metadata": {},
     "output_type": "execute_result"
    }
   ],
   "source": [
    "dataDf = pd.concat([zoneData, Load_lags], axis= 1).dropna(axis= 0).reset_index(drop= True)\n",
    "dataDf"
   ]
  },
  {
   "cell_type": "code",
   "execution_count": 8,
   "id": "6ad25321",
   "metadata": {},
   "outputs": [],
   "source": [
    "# Setting the train-test split ratio\n",
    "ratio = 0.1"
   ]
  },
  {
   "cell_type": "code",
   "execution_count": 9,
   "id": "3c08d963",
   "metadata": {},
   "outputs": [],
   "source": [
    "Num_train, Num_test = int(len(dataDf)/24 * (1 - ratio)) * 24, int(len(dataDf)/24 * ratio) * 24"
   ]
  },
  {
   "cell_type": "code",
   "execution_count": 10,
   "id": "cbe069ff",
   "metadata": {},
   "outputs": [],
   "source": [
    "# Splitting the data into train and test\n",
    "data_train, data_test = dataDf[:Num_train], dataDf[Num_train:]"
   ]
  },
  {
   "cell_type": "code",
   "execution_count": 11,
   "id": "d84e15c4",
   "metadata": {},
   "outputs": [],
   "source": [
    "Num_train, Num_valid = int(len(data_train)/24 * (1 - ratio)) * 24, int(len(data_train)/24 * ratio) * 24"
   ]
  },
  {
   "cell_type": "code",
   "execution_count": 12,
   "id": "c17d1723",
   "metadata": {},
   "outputs": [],
   "source": [
    "# Splitting the data into train and test\n",
    "data_train, data_valid = data_train[:Num_train], data_train[Num_train:]"
   ]
  },
  {
   "cell_type": "markdown",
   "id": "88d32011",
   "metadata": {},
   "source": [
    "### SPLITTING INTO X AND Y PART WITH SEQUENCE BATCHING"
   ]
  },
  {
   "cell_type": "code",
   "execution_count": 13,
   "id": "4ba286ca",
   "metadata": {},
   "outputs": [],
   "source": [
    "X_train_df, Y_train_df = data_train.iloc[:, 1:], data_train.iloc[:, :1]\n",
    "\n",
    "X_valid_df, Y_valid_df = data_valid.iloc[:, 1:], data_valid.iloc[:, :1]\n",
    "\n",
    "X_test_df, Y_test_df = data_test.iloc[:, 1:], data_test.iloc[:, :1]"
   ]
  },
  {
   "cell_type": "code",
   "execution_count": 14,
   "id": "ef1d9079",
   "metadata": {},
   "outputs": [],
   "source": [
    "# Preparing the scaler\n",
    "ValScaler = MinMaxScaler()\n",
    "\n",
    "X_train = ValScaler.fit_transform(X_train_df)\n",
    "X_valid = ValScaler.transform(X_valid_df)\n",
    "X_test = ValScaler.transform(X_test_df)\n",
    "\n",
    "Y_train = ValScaler.fit_transform(Y_train_df)\n",
    "Y_valid = ValScaler.transform(Y_valid_df)\n",
    "Y_test = ValScaler.transform(Y_test_df)"
   ]
  },
  {
   "cell_type": "code",
   "execution_count": 15,
   "id": "43594401",
   "metadata": {},
   "outputs": [],
   "source": [
    "def splitData(dataset):\n",
    "    data = np.array(np.split(dataset, len(dataset)/24))\n",
    "    return data"
   ]
  },
  {
   "cell_type": "code",
   "execution_count": 16,
   "id": "300696b2",
   "metadata": {},
   "outputs": [],
   "source": [
    "def supervisedSet(X_part, Y_part, steps= 24):\n",
    "    X_array, Y_array = np.array(X_part), np.array(Y_part)\n",
    "    X, Y = [], []\n",
    "    \n",
    "    for i in range(len(X_array)):\n",
    "        endIdx = i + steps\n",
    "        \n",
    "        if endIdx > len(X_array):\n",
    "            break\n",
    "        \n",
    "        batch_X, batch_Y = X_array[i:endIdx], Y_array[i:endIdx]\n",
    "        \n",
    "        X.append(batch_X)\n",
    "        Y.append(batch_Y)\n",
    "        \n",
    "    return np.array(X), np.array(Y)"
   ]
  },
  {
   "cell_type": "code",
   "execution_count": 17,
   "id": "fc9cd97d",
   "metadata": {},
   "outputs": [],
   "source": [
    "X_train, Y_train = supervisedSet(X_train, Y_train)\n",
    "\n",
    "X_valid, Y_valid = splitData(X_valid), splitData(Y_valid)\n",
    "\n",
    "X_test, Y_test = splitData(X_test), splitData(Y_test)"
   ]
  },
  {
   "cell_type": "markdown",
   "id": "a2a6bf32",
   "metadata": {},
   "source": [
    "### WORKING ON THE MODEL"
   ]
  },
  {
   "cell_type": "code",
   "execution_count": 18,
   "id": "ff71a98c",
   "metadata": {},
   "outputs": [],
   "source": [
    "epochs = 100\n",
    "batchSize = 32"
   ]
  },
  {
   "cell_type": "code",
   "execution_count": 19,
   "id": "8d600c17",
   "metadata": {},
   "outputs": [],
   "source": [
    "# Encoder-decoder architecture [tanh required to use tensorflow on gpu]\n",
    "model = tf.keras.Sequential([\n",
    "    tf.keras.layers.LSTM(units= 128, activation= \"tanh\", input_shape= (X_train.shape[1], X_train.shape[2]), dropout= 0.2),\n",
    "    tf.keras.layers.RepeatVector(Y_train.shape[1]),\n",
    "    tf.keras.layers.LSTM(units= 128, activation= \"tanh\", return_sequences= True, dropout= 0.2),\n",
    "    tf.keras.layers.TimeDistributed(tf.keras.layers.Dense(units= 128, activation= \"relu\")),\n",
    "    tf.keras.layers.Dropout(0.2),\n",
    "    tf.keras.layers.TimeDistributed(tf.keras.layers.Dense(units= 1))\n",
    "])\n",
    "\n",
    "model.compile(loss= \"mse\", optimizer= \"adam\",  metrics= ['mape', 'mae'])"
   ]
  },
  {
   "cell_type": "code",
   "execution_count": 20,
   "id": "a05c033a",
   "metadata": {},
   "outputs": [],
   "source": [
    "# model = tf.keras.Sequential([\n",
    "#     tf.keras.layers.LSTM(units= 256, activation= \"tanh\", input_shape= (X_train.shape[1], X_train.shape[2])),\n",
    "#     tf.keras.layers.Dense(units= 128, activation= \"tanh\"),\n",
    "#     tf.keras.layers.Dense(units= 1)\n",
    "# ])\n",
    "\n",
    "# model.compile(loss= \"mse\", optimizer= \"adam\",  metrics= ['mape', 'mae'])"
   ]
  },
  {
   "cell_type": "code",
   "execution_count": 21,
   "id": "c9390383",
   "metadata": {},
   "outputs": [],
   "source": [
    "# Storing the start time of model fitting process\n",
    "startTime = time.time()"
   ]
  },
  {
   "cell_type": "code",
   "execution_count": 22,
   "id": "e526e3ed",
   "metadata": {},
   "outputs": [
    {
     "name": "stdout",
     "output_type": "stream",
     "text": [
      "Epoch 1/100\n",
      "1105/1105 [==============================] - 18s 12ms/step - loss: 0.0130 - mape: 6556.2500 - mae: 0.0885 - val_loss: 0.0077 - val_mape: 46.6328 - val_mae: 0.0717\n",
      "Epoch 2/100\n",
      "1105/1105 [==============================] - 12s 11ms/step - loss: 0.0083 - mape: 6214.7837 - mae: 0.0704 - val_loss: 0.0078 - val_mape: 47.7305 - val_mae: 0.0697\n",
      "Epoch 3/100\n",
      "1105/1105 [==============================] - 12s 11ms/step - loss: 0.0060 - mape: 5832.1875 - mae: 0.0599 - val_loss: 0.0080 - val_mape: 39.9067 - val_mae: 0.0674\n",
      "Epoch 4/100\n",
      "1105/1105 [==============================] - 12s 11ms/step - loss: 0.0053 - mape: 5541.8516 - mae: 0.0557 - val_loss: 0.0066 - val_mape: 40.6845 - val_mae: 0.0603\n",
      "Epoch 5/100\n",
      "1105/1105 [==============================] - 12s 11ms/step - loss: 0.0047 - mape: 5546.8359 - mae: 0.0523 - val_loss: 0.0075 - val_mape: 33.3134 - val_mae: 0.0650\n",
      "Epoch 6/100\n",
      "1105/1105 [==============================] - 12s 11ms/step - loss: 0.0044 - mape: 4946.5640 - mae: 0.0499 - val_loss: 0.0078 - val_mape: 33.6415 - val_mae: 0.0673\n",
      "Epoch 7/100\n",
      "1105/1105 [==============================] - 12s 11ms/step - loss: 0.0041 - mape: 5022.1079 - mae: 0.0481 - val_loss: 0.0062 - val_mape: 32.7762 - val_mae: 0.0581\n",
      "Epoch 8/100\n",
      "1105/1105 [==============================] - 12s 11ms/step - loss: 0.0039 - mape: 4905.7637 - mae: 0.0471 - val_loss: 0.0056 - val_mape: 35.2690 - val_mae: 0.0539\n",
      "Epoch 9/100\n",
      "1105/1105 [==============================] - 12s 11ms/step - loss: 0.0038 - mape: 4622.5127 - mae: 0.0460 - val_loss: 0.0053 - val_mape: 32.6717 - val_mae: 0.0524\n",
      "Epoch 10/100\n",
      "1105/1105 [==============================] - 12s 11ms/step - loss: 0.0037 - mape: 4786.6787 - mae: 0.0455 - val_loss: 0.0057 - val_mape: 31.7779 - val_mae: 0.0551\n",
      "Epoch 11/100\n",
      "1105/1105 [==============================] - 13s 11ms/step - loss: 0.0037 - mape: 4433.9580 - mae: 0.0453 - val_loss: 0.0058 - val_mape: 31.0986 - val_mae: 0.0573\n",
      "Epoch 12/100\n",
      "1105/1105 [==============================] - 12s 11ms/step - loss: 0.0035 - mape: 4228.4443 - mae: 0.0443 - val_loss: 0.0065 - val_mape: 31.1691 - val_mae: 0.0608\n",
      "Epoch 13/100\n",
      "1105/1105 [==============================] - 12s 11ms/step - loss: 0.0034 - mape: 4282.3125 - mae: 0.0437 - val_loss: 0.0053 - val_mape: 31.1511 - val_mae: 0.0542\n",
      "Epoch 14/100\n",
      "1105/1105 [==============================] - 12s 11ms/step - loss: 0.0034 - mape: 4390.6807 - mae: 0.0436 - val_loss: 0.0073 - val_mape: 32.7658 - val_mae: 0.0645\n",
      "Epoch 15/100\n",
      "1105/1105 [==============================] - 12s 11ms/step - loss: 0.0034 - mape: 4077.1597 - mae: 0.0431 - val_loss: 0.0053 - val_mape: 32.9378 - val_mae: 0.0542\n",
      "Epoch 16/100\n",
      "1105/1105 [==============================] - 12s 11ms/step - loss: 0.0033 - mape: 4228.2422 - mae: 0.0429 - val_loss: 0.0067 - val_mape: 32.8199 - val_mae: 0.0621\n",
      "Epoch 17/100\n",
      "1105/1105 [==============================] - 12s 11ms/step - loss: 0.0032 - mape: 3983.6448 - mae: 0.0422 - val_loss: 0.0068 - val_mape: 34.0243 - val_mae: 0.0624\n",
      "Epoch 18/100\n",
      "1105/1105 [==============================] - 12s 11ms/step - loss: 0.0032 - mape: 3680.0930 - mae: 0.0420 - val_loss: 0.0055 - val_mape: 33.1290 - val_mae: 0.0548\n",
      "Epoch 19/100\n",
      "1105/1105 [==============================] - 12s 11ms/step - loss: 0.0031 - mape: 3840.8804 - mae: 0.0416 - val_loss: 0.0067 - val_mape: 33.9732 - val_mae: 0.0605\n",
      "Epoch 20/100\n",
      "1105/1105 [==============================] - 12s 11ms/step - loss: 0.0031 - mape: 3817.1885 - mae: 0.0415 - val_loss: 0.0057 - val_mape: 33.8565 - val_mae: 0.0564\n",
      "Epoch 21/100\n",
      "1105/1105 [==============================] - 12s 11ms/step - loss: 0.0031 - mape: 3665.4778 - mae: 0.0412 - val_loss: 0.0076 - val_mape: 30.4465 - val_mae: 0.0656\n",
      "Epoch 22/100\n",
      "1105/1105 [==============================] - 12s 11ms/step - loss: 0.0030 - mape: 3562.0105 - mae: 0.0408 - val_loss: 0.0060 - val_mape: 32.7097 - val_mae: 0.0567\n",
      "Epoch 23/100\n",
      "1105/1105 [==============================] - 12s 11ms/step - loss: 0.0031 - mape: 3949.0154 - mae: 0.0409 - val_loss: 0.0071 - val_mape: 32.3276 - val_mae: 0.0614\n",
      "Epoch 24/100\n",
      "1105/1105 [==============================] - 12s 11ms/step - loss: 0.0030 - mape: 3656.8362 - mae: 0.0402 - val_loss: 0.0061 - val_mape: 33.3780 - val_mae: 0.0577\n",
      "Epoch 25/100\n",
      "1105/1105 [==============================] - 12s 11ms/step - loss: 0.0030 - mape: 3969.4465 - mae: 0.0402 - val_loss: 0.0072 - val_mape: 31.3760 - val_mae: 0.0636\n",
      "Epoch 26/100\n",
      "1105/1105 [==============================] - 12s 11ms/step - loss: 0.0029 - mape: 3417.6965 - mae: 0.0396 - val_loss: 0.0058 - val_mape: 32.8527 - val_mae: 0.0566\n",
      "Epoch 27/100\n",
      "1105/1105 [==============================] - 12s 11ms/step - loss: 0.0028 - mape: 3599.8225 - mae: 0.0394 - val_loss: 0.0070 - val_mape: 33.6258 - val_mae: 0.0614\n",
      "Epoch 28/100\n",
      "1105/1105 [==============================] - 12s 11ms/step - loss: 0.0028 - mape: 4042.8110 - mae: 0.0393 - val_loss: 0.0065 - val_mape: 33.7229 - val_mae: 0.0580\n",
      "Epoch 29/100\n",
      "1105/1105 [==============================] - 12s 11ms/step - loss: 0.0028 - mape: 3648.9226 - mae: 0.0390 - val_loss: 0.0064 - val_mape: 32.6903 - val_mae: 0.0567\n",
      "Epoch 30/100\n",
      "1105/1105 [==============================] - 12s 11ms/step - loss: 0.0027 - mape: 3540.0850 - mae: 0.0387 - val_loss: 0.0060 - val_mape: 30.6138 - val_mae: 0.0558\n",
      "Epoch 31/100\n",
      "1105/1105 [==============================] - 12s 11ms/step - loss: 0.0027 - mape: 3734.4976 - mae: 0.0382 - val_loss: 0.0065 - val_mape: 30.6895 - val_mae: 0.0571\n",
      "Epoch 32/100\n",
      "1105/1105 [==============================] - 12s 11ms/step - loss: 0.0027 - mape: 3709.6628 - mae: 0.0382 - val_loss: 0.0085 - val_mape: 33.8702 - val_mae: 0.0693\n",
      "Epoch 33/100\n",
      "1105/1105 [==============================] - 12s 11ms/step - loss: 0.0026 - mape: 3767.7852 - mae: 0.0380 - val_loss: 0.0064 - val_mape: 31.2007 - val_mae: 0.0584\n",
      "Epoch 34/100\n",
      "1105/1105 [==============================] - 12s 11ms/step - loss: 0.0026 - mape: 3613.1736 - mae: 0.0378 - val_loss: 0.0069 - val_mape: 33.5880 - val_mae: 0.0606\n",
      "Epoch 35/100\n",
      "1105/1105 [==============================] - 12s 11ms/step - loss: 0.0026 - mape: 3685.0425 - mae: 0.0375 - val_loss: 0.0067 - val_mape: 30.6225 - val_mae: 0.0615\n",
      "Epoch 36/100\n",
      "1105/1105 [==============================] - 12s 11ms/step - loss: 0.0025 - mape: 3547.6204 - mae: 0.0371 - val_loss: 0.0064 - val_mape: 31.6716 - val_mae: 0.0570\n",
      "Epoch 37/100\n",
      "1105/1105 [==============================] - 12s 11ms/step - loss: 0.0025 - mape: 3692.0796 - mae: 0.0368 - val_loss: 0.0071 - val_mape: 33.6689 - val_mae: 0.0610\n",
      "Epoch 38/100\n",
      "1105/1105 [==============================] - 12s 11ms/step - loss: 0.0024 - mape: 3716.7195 - mae: 0.0365 - val_loss: 0.0067 - val_mape: 32.0959 - val_mae: 0.0574\n",
      "Epoch 39/100\n",
      "1105/1105 [==============================] - 12s 11ms/step - loss: 0.0024 - mape: 3398.4578 - mae: 0.0363 - val_loss: 0.0064 - val_mape: 32.4364 - val_mae: 0.0568\n",
      "Epoch 40/100\n",
      "1105/1105 [==============================] - 12s 11ms/step - loss: 0.0024 - mape: 3854.1736 - mae: 0.0360 - val_loss: 0.0069 - val_mape: 32.0581 - val_mae: 0.0589\n",
      "Epoch 41/100\n",
      "1105/1105 [==============================] - 12s 11ms/step - loss: 0.0023 - mape: 3535.6895 - mae: 0.0357 - val_loss: 0.0063 - val_mape: 32.1959 - val_mae: 0.0550\n",
      "Epoch 42/100\n",
      "1105/1105 [==============================] - 12s 11ms/step - loss: 0.0023 - mape: 3830.8115 - mae: 0.0354 - val_loss: 0.0078 - val_mape: 32.8871 - val_mae: 0.0647\n",
      "Epoch 43/100\n",
      "1105/1105 [==============================] - 12s 11ms/step - loss: 0.0023 - mape: 3145.2305 - mae: 0.0353 - val_loss: 0.0083 - val_mape: 33.8325 - val_mae: 0.0679\n",
      "Epoch 44/100\n",
      "1105/1105 [==============================] - 12s 11ms/step - loss: 0.0022 - mape: 3292.2844 - mae: 0.0350 - val_loss: 0.0069 - val_mape: 29.7708 - val_mae: 0.0597\n",
      "Epoch 45/100\n",
      "1105/1105 [==============================] - 12s 11ms/step - loss: 0.0022 - mape: 3357.6602 - mae: 0.0345 - val_loss: 0.0064 - val_mape: 31.0830 - val_mae: 0.0572\n",
      "Epoch 46/100\n",
      "1105/1105 [==============================] - 12s 11ms/step - loss: 0.0022 - mape: 3369.6201 - mae: 0.0349 - val_loss: 0.0064 - val_mape: 31.6423 - val_mae: 0.0564\n",
      "Epoch 47/100\n"
     ]
    },
    {
     "name": "stdout",
     "output_type": "stream",
     "text": [
      "1105/1105 [==============================] - 12s 11ms/step - loss: 0.0021 - mape: 3232.9170 - mae: 0.0339 - val_loss: 0.0059 - val_mape: 31.3834 - val_mae: 0.0548\n",
      "Epoch 48/100\n",
      "1105/1105 [==============================] - 12s 11ms/step - loss: 0.0021 - mape: 3023.6624 - mae: 0.0339 - val_loss: 0.0074 - val_mape: 31.6896 - val_mae: 0.0621\n",
      "Epoch 49/100\n",
      "1105/1105 [==============================] - 12s 11ms/step - loss: 0.0020 - mape: 3515.7625 - mae: 0.0334 - val_loss: 0.0068 - val_mape: 32.6421 - val_mae: 0.0577\n",
      "Epoch 50/100\n",
      "1105/1105 [==============================] - 12s 11ms/step - loss: 0.0020 - mape: 3299.2725 - mae: 0.0333 - val_loss: 0.0070 - val_mape: 34.2485 - val_mae: 0.0593\n",
      "Epoch 51/100\n",
      "1105/1105 [==============================] - 12s 11ms/step - loss: 0.0020 - mape: 3249.3823 - mae: 0.0332 - val_loss: 0.0065 - val_mape: 32.6892 - val_mae: 0.0566\n",
      "Epoch 52/100\n",
      "1105/1105 [==============================] - 12s 11ms/step - loss: 0.0019 - mape: 3522.9905 - mae: 0.0326 - val_loss: 0.0065 - val_mape: 30.3943 - val_mae: 0.0573\n",
      "Epoch 53/100\n",
      "1105/1105 [==============================] - 12s 11ms/step - loss: 0.0019 - mape: 3197.6260 - mae: 0.0326 - val_loss: 0.0068 - val_mape: 31.1002 - val_mae: 0.0593\n",
      "Epoch 54/100\n",
      "1105/1105 [==============================] - 12s 11ms/step - loss: 0.0019 - mape: 3132.1714 - mae: 0.0324 - val_loss: 0.0067 - val_mape: 31.5958 - val_mae: 0.0578\n",
      "Epoch 55/100\n",
      "1105/1105 [==============================] - 12s 11ms/step - loss: 0.0018 - mape: 3251.7146 - mae: 0.0319 - val_loss: 0.0068 - val_mape: 33.9191 - val_mae: 0.0595\n",
      "Epoch 56/100\n",
      "1105/1105 [==============================] - 12s 11ms/step - loss: 0.0018 - mape: 3382.6086 - mae: 0.0316 - val_loss: 0.0069 - val_mape: 31.5736 - val_mae: 0.0590\n",
      "Epoch 57/100\n",
      "1105/1105 [==============================] - 12s 11ms/step - loss: 0.0018 - mape: 3147.4136 - mae: 0.0314 - val_loss: 0.0067 - val_mape: 30.7633 - val_mae: 0.0594\n",
      "Epoch 58/100\n",
      "1105/1105 [==============================] - 12s 11ms/step - loss: 0.0018 - mape: 3176.2368 - mae: 0.0314 - val_loss: 0.0071 - val_mape: 33.0036 - val_mae: 0.0595\n",
      "Epoch 59/100\n",
      "1105/1105 [==============================] - 12s 11ms/step - loss: 0.0017 - mape: 3169.8293 - mae: 0.0310 - val_loss: 0.0072 - val_mape: 32.5893 - val_mae: 0.0597\n",
      "Epoch 60/100\n",
      "1105/1105 [==============================] - 12s 11ms/step - loss: 0.0017 - mape: 3098.0056 - mae: 0.0306 - val_loss: 0.0074 - val_mape: 32.8538 - val_mae: 0.0633\n",
      "Epoch 61/100\n",
      "1105/1105 [==============================] - 12s 11ms/step - loss: 0.0017 - mape: 3170.9785 - mae: 0.0307 - val_loss: 0.0083 - val_mape: 34.0789 - val_mae: 0.0666\n",
      "Epoch 62/100\n",
      "1105/1105 [==============================] - 12s 11ms/step - loss: 0.0016 - mape: 2834.1748 - mae: 0.0302 - val_loss: 0.0061 - val_mape: 30.1984 - val_mae: 0.0554\n",
      "Epoch 63/100\n",
      "1105/1105 [==============================] - 12s 11ms/step - loss: 0.0016 - mape: 3143.9253 - mae: 0.0300 - val_loss: 0.0064 - val_mape: 32.3825 - val_mae: 0.0565\n",
      "Epoch 64/100\n",
      "1105/1105 [==============================] - 12s 11ms/step - loss: 0.0016 - mape: 2865.6079 - mae: 0.0298 - val_loss: 0.0069 - val_mape: 32.6840 - val_mae: 0.0593\n",
      "Epoch 65/100\n",
      "1105/1105 [==============================] - 12s 11ms/step - loss: 0.0016 - mape: 2694.0669 - mae: 0.0298 - val_loss: 0.0069 - val_mape: 33.2408 - val_mae: 0.0591\n",
      "Epoch 66/100\n",
      "1105/1105 [==============================] - 12s 11ms/step - loss: 0.0015 - mape: 2886.2827 - mae: 0.0293 - val_loss: 0.0066 - val_mape: 32.3491 - val_mae: 0.0569\n",
      "Epoch 67/100\n",
      "1105/1105 [==============================] - 12s 11ms/step - loss: 0.0015 - mape: 2901.8550 - mae: 0.0292 - val_loss: 0.0074 - val_mape: 34.9928 - val_mae: 0.0621\n",
      "Epoch 68/100\n",
      "1105/1105 [==============================] - 12s 11ms/step - loss: 0.0015 - mape: 2821.9404 - mae: 0.0290 - val_loss: 0.0067 - val_mape: 34.2612 - val_mae: 0.0568\n",
      "Epoch 69/100\n",
      "1105/1105 [==============================] - 12s 11ms/step - loss: 0.0014 - mape: 3138.3269 - mae: 0.0286 - val_loss: 0.0075 - val_mape: 33.0420 - val_mae: 0.0615\n",
      "Epoch 70/100\n",
      "1105/1105 [==============================] - 12s 11ms/step - loss: 0.0014 - mape: 2898.7498 - mae: 0.0283 - val_loss: 0.0072 - val_mape: 34.2590 - val_mae: 0.0610\n",
      "Epoch 71/100\n",
      "1105/1105 [==============================] - 12s 11ms/step - loss: 0.0014 - mape: 2611.2690 - mae: 0.0282 - val_loss: 0.0080 - val_mape: 34.8000 - val_mae: 0.0640\n",
      "Epoch 72/100\n",
      "1105/1105 [==============================] - 12s 11ms/step - loss: 0.0014 - mape: 2935.7219 - mae: 0.0280 - val_loss: 0.0071 - val_mape: 34.5075 - val_mae: 0.0602\n",
      "Epoch 73/100\n",
      "1105/1105 [==============================] - 12s 11ms/step - loss: 0.0014 - mape: 2967.6052 - mae: 0.0279 - val_loss: 0.0069 - val_mape: 34.1535 - val_mae: 0.0592\n",
      "Epoch 74/100\n",
      "1105/1105 [==============================] - 12s 11ms/step - loss: 0.0014 - mape: 2803.0764 - mae: 0.0278 - val_loss: 0.0071 - val_mape: 33.2414 - val_mae: 0.0602\n",
      "Epoch 75/100\n",
      "1105/1105 [==============================] - 12s 11ms/step - loss: 0.0014 - mape: 2563.8057 - mae: 0.0277 - val_loss: 0.0075 - val_mape: 32.8702 - val_mae: 0.0616\n",
      "Epoch 76/100\n",
      "1105/1105 [==============================] - 12s 11ms/step - loss: 0.0013 - mape: 2960.0173 - mae: 0.0274 - val_loss: 0.0079 - val_mape: 36.1448 - val_mae: 0.0643\n",
      "Epoch 77/100\n",
      "1105/1105 [==============================] - 12s 11ms/step - loss: 0.0013 - mape: 2899.0088 - mae: 0.0274 - val_loss: 0.0074 - val_mape: 33.2805 - val_mae: 0.0614\n",
      "Epoch 78/100\n",
      "1105/1105 [==============================] - 12s 11ms/step - loss: 0.0013 - mape: 2777.3101 - mae: 0.0269 - val_loss: 0.0087 - val_mape: 34.3312 - val_mae: 0.0676\n",
      "Epoch 79/100\n",
      "1105/1105 [==============================] - 12s 11ms/step - loss: 0.0013 - mape: 2941.8201 - mae: 0.0269 - val_loss: 0.0077 - val_mape: 33.5925 - val_mae: 0.0636\n",
      "Epoch 80/100\n",
      "1105/1105 [==============================] - 12s 11ms/step - loss: 0.0012 - mape: 2722.5271 - mae: 0.0266 - val_loss: 0.0073 - val_mape: 32.4291 - val_mae: 0.0619\n",
      "Epoch 81/100\n",
      "1105/1105 [==============================] - 12s 11ms/step - loss: 0.0013 - mape: 2827.7900 - mae: 0.0266 - val_loss: 0.0074 - val_mape: 33.7381 - val_mae: 0.0606\n",
      "Epoch 82/100\n",
      "1105/1105 [==============================] - 12s 11ms/step - loss: 0.0012 - mape: 2722.7107 - mae: 0.0262 - val_loss: 0.0072 - val_mape: 33.0544 - val_mae: 0.0607\n",
      "Epoch 83/100\n",
      "1105/1105 [==============================] - 12s 11ms/step - loss: 0.0012 - mape: 2496.5095 - mae: 0.0263 - val_loss: 0.0072 - val_mape: 34.0393 - val_mae: 0.0608\n",
      "Epoch 84/100\n",
      "1105/1105 [==============================] - 12s 11ms/step - loss: 0.0012 - mape: 2741.5649 - mae: 0.0261 - val_loss: 0.0074 - val_mape: 33.3196 - val_mae: 0.0612\n",
      "Epoch 85/100\n",
      "1105/1105 [==============================] - 12s 11ms/step - loss: 0.0012 - mape: 3044.5339 - mae: 0.0258 - val_loss: 0.0073 - val_mape: 34.7923 - val_mae: 0.0603\n",
      "Epoch 86/100\n",
      "1105/1105 [==============================] - 12s 11ms/step - loss: 0.0012 - mape: 2573.8721 - mae: 0.0256 - val_loss: 0.0068 - val_mape: 33.3266 - val_mae: 0.0577\n",
      "Epoch 87/100\n",
      "1105/1105 [==============================] - 12s 11ms/step - loss: 0.0012 - mape: 2462.2527 - mae: 0.0256 - val_loss: 0.0074 - val_mape: 37.0131 - val_mae: 0.0611\n",
      "Epoch 88/100\n",
      "1105/1105 [==============================] - 12s 11ms/step - loss: 0.0011 - mape: 3190.6790 - mae: 0.0252 - val_loss: 0.0073 - val_mape: 34.2781 - val_mae: 0.0602\n",
      "Epoch 89/100\n",
      "1105/1105 [==============================] - 12s 11ms/step - loss: 0.0011 - mape: 2416.2236 - mae: 0.0251 - val_loss: 0.0070 - val_mape: 33.1963 - val_mae: 0.0596\n",
      "Epoch 90/100\n",
      "1105/1105 [==============================] - 12s 11ms/step - loss: 0.0011 - mape: 3085.0273 - mae: 0.0251 - val_loss: 0.0069 - val_mape: 33.5103 - val_mae: 0.0590\n",
      "Epoch 91/100\n",
      "1105/1105 [==============================] - 12s 11ms/step - loss: 0.0011 - mape: 2476.2229 - mae: 0.0251 - val_loss: 0.0076 - val_mape: 34.8165 - val_mae: 0.0621\n",
      "Epoch 92/100\n",
      "1105/1105 [==============================] - 12s 11ms/step - loss: 0.0011 - mape: 2770.1299 - mae: 0.0248 - val_loss: 0.0078 - val_mape: 35.4974 - val_mae: 0.0647\n",
      "Epoch 93/100\n"
     ]
    },
    {
     "name": "stdout",
     "output_type": "stream",
     "text": [
      "1105/1105 [==============================] - 12s 10ms/step - loss: 0.0011 - mape: 2821.5361 - mae: 0.0248 - val_loss: 0.0076 - val_mape: 34.5054 - val_mae: 0.0621\n",
      "Epoch 94/100\n",
      "1105/1105 [==============================] - 12s 11ms/step - loss: 0.0011 - mape: 2733.4543 - mae: 0.0245 - val_loss: 0.0074 - val_mape: 34.5748 - val_mae: 0.0615\n",
      "Epoch 95/100\n",
      "1105/1105 [==============================] - 12s 11ms/step - loss: 0.0011 - mape: 2325.5657 - mae: 0.0245 - val_loss: 0.0077 - val_mape: 35.3272 - val_mae: 0.0630\n",
      "Epoch 96/100\n",
      "1105/1105 [==============================] - 12s 11ms/step - loss: 0.0010 - mape: 2605.2732 - mae: 0.0244 - val_loss: 0.0074 - val_mape: 34.9479 - val_mae: 0.0621\n",
      "Epoch 97/100\n",
      "1105/1105 [==============================] - 12s 11ms/step - loss: 0.0010 - mape: 2515.5488 - mae: 0.0242 - val_loss: 0.0069 - val_mape: 34.2512 - val_mae: 0.0589\n",
      "Epoch 98/100\n",
      "1105/1105 [==============================] - 12s 11ms/step - loss: 0.0010 - mape: 2727.9983 - mae: 0.0241 - val_loss: 0.0070 - val_mape: 33.8689 - val_mae: 0.0605\n",
      "Epoch 99/100\n",
      "1105/1105 [==============================] - 12s 11ms/step - loss: 9.8890e-04 - mape: 2454.0002 - mae: 0.0238 - val_loss: 0.0070 - val_mape: 35.4000 - val_mae: 0.0605\n",
      "Epoch 100/100\n",
      "1105/1105 [==============================] - 12s 11ms/step - loss: 9.9404e-04 - mape: 2786.8062 - mae: 0.0238 - val_loss: 0.0077 - val_mape: 34.8998 - val_mae: 0.0642\n"
     ]
    },
    {
     "data": {
      "text/plain": [
       "<keras.callbacks.History at 0x239b3d6bfa0>"
      ]
     },
     "execution_count": 22,
     "metadata": {},
     "output_type": "execute_result"
    }
   ],
   "source": [
    "model.fit(X_train, Y_train, epochs= epochs, batch_size= batchSize, verbose= 1, shuffle= True, validation_data= (X_valid, Y_valid))"
   ]
  },
  {
   "cell_type": "code",
   "execution_count": 23,
   "id": "cd839153",
   "metadata": {},
   "outputs": [
    {
     "name": "stdout",
     "output_type": "stream",
     "text": [
      "Total execution time in seconds: 1201.112779378891\n"
     ]
    }
   ],
   "source": [
    "calcExecTime = (time.time() - startTime)\n",
    "print('Total execution time in seconds: ' + str(calcExecTime))"
   ]
  },
  {
   "cell_type": "markdown",
   "id": "72aafa74",
   "metadata": {},
   "source": [
    "### MAKING PREDICTIONS AND GENERATING RESULTS"
   ]
  },
  {
   "cell_type": "code",
   "execution_count": 24,
   "id": "259bfb49",
   "metadata": {},
   "outputs": [
    {
     "name": "stdout",
     "output_type": "stream",
     "text": [
      "6/6 [==============================] - 1s 6ms/step\n"
     ]
    }
   ],
   "source": [
    "predictions = model.predict(X_test)"
   ]
  },
  {
   "cell_type": "code",
   "execution_count": 25,
   "id": "2912d431",
   "metadata": {},
   "outputs": [
    {
     "data": {
      "text/plain": [
       "array([0.1824688 , 0.17067903, 0.1582426 , ..., 0.38144845, 0.33287492,\n",
       "       0.29165882], dtype=float32)"
      ]
     },
     "execution_count": 25,
     "metadata": {},
     "output_type": "execute_result"
    }
   ],
   "source": [
    "predArr = predictions.reshape(predictions.shape[0] * predictions.shape[1], predictions.shape[2]).ravel()\n",
    "predArr"
   ]
  },
  {
   "cell_type": "code",
   "execution_count": 26,
   "id": "b01889f2",
   "metadata": {},
   "outputs": [
    {
     "data": {
      "text/plain": [
       "array([0.29217467, 0.26451668, 0.25029663, ..., 0.34734846, 0.31542445,\n",
       "       0.29679619])"
      ]
     },
     "execution_count": 26,
     "metadata": {},
     "output_type": "execute_result"
    }
   ],
   "source": [
    "Y_testArr = Y_test.reshape(Y_test.shape[0] * Y_test.shape[1], Y_test.shape[2]).ravel()\n",
    "Y_testArr"
   ]
  },
  {
   "cell_type": "code",
   "execution_count": 27,
   "id": "799c97e8",
   "metadata": {},
   "outputs": [],
   "source": [
    "def inverse_transform(df):\n",
    "    column_names = df.columns\n",
    "    for col in column_names:\n",
    "        df[col] = ValScaler.inverse_transform(df[[col]]) \n",
    "    return df"
   ]
  },
  {
   "cell_type": "code",
   "execution_count": 28,
   "id": "afa81e30",
   "metadata": {},
   "outputs": [
    {
     "data": {
      "text/html": [
       "<div>\n",
       "<style scoped>\n",
       "    .dataframe tbody tr th:only-of-type {\n",
       "        vertical-align: middle;\n",
       "    }\n",
       "\n",
       "    .dataframe tbody tr th {\n",
       "        vertical-align: top;\n",
       "    }\n",
       "\n",
       "    .dataframe thead th {\n",
       "        text-align: right;\n",
       "    }\n",
       "</style>\n",
       "<table border=\"1\" class=\"dataframe\">\n",
       "  <thead>\n",
       "    <tr style=\"text-align: right;\">\n",
       "      <th></th>\n",
       "      <th>Values</th>\n",
       "      <th>Predictions</th>\n",
       "    </tr>\n",
       "  </thead>\n",
       "  <tbody>\n",
       "    <tr>\n",
       "      <th>0</th>\n",
       "      <td>1016.9</td>\n",
       "      <td>862.602539</td>\n",
       "    </tr>\n",
       "    <tr>\n",
       "      <th>1</th>\n",
       "      <td>978.0</td>\n",
       "      <td>846.020691</td>\n",
       "    </tr>\n",
       "    <tr>\n",
       "      <th>2</th>\n",
       "      <td>958.0</td>\n",
       "      <td>828.529236</td>\n",
       "    </tr>\n",
       "    <tr>\n",
       "      <th>3</th>\n",
       "      <td>962.4</td>\n",
       "      <td>828.194519</td>\n",
       "    </tr>\n",
       "    <tr>\n",
       "      <th>4</th>\n",
       "      <td>998.4</td>\n",
       "      <td>864.586853</td>\n",
       "    </tr>\n",
       "    <tr>\n",
       "      <th>...</th>\n",
       "      <td>...</td>\n",
       "      <td>...</td>\n",
       "    </tr>\n",
       "    <tr>\n",
       "      <th>4363</th>\n",
       "      <td>1179.4</td>\n",
       "      <td>1231.430908</td>\n",
       "    </tr>\n",
       "    <tr>\n",
       "      <th>4364</th>\n",
       "      <td>1136.7</td>\n",
       "      <td>1203.267456</td>\n",
       "    </tr>\n",
       "    <tr>\n",
       "      <th>4365</th>\n",
       "      <td>1094.5</td>\n",
       "      <td>1142.460449</td>\n",
       "    </tr>\n",
       "    <tr>\n",
       "      <th>4366</th>\n",
       "      <td>1049.6</td>\n",
       "      <td>1074.143433</td>\n",
       "    </tr>\n",
       "    <tr>\n",
       "      <th>4367</th>\n",
       "      <td>1023.4</td>\n",
       "      <td>1016.174500</td>\n",
       "    </tr>\n",
       "  </tbody>\n",
       "</table>\n",
       "<p>4368 rows × 2 columns</p>\n",
       "</div>"
      ],
      "text/plain": [
       "      Values  Predictions\n",
       "0     1016.9   862.602539\n",
       "1      978.0   846.020691\n",
       "2      958.0   828.529236\n",
       "3      962.4   828.194519\n",
       "4      998.4   864.586853\n",
       "...      ...          ...\n",
       "4363  1179.4  1231.430908\n",
       "4364  1136.7  1203.267456\n",
       "4365  1094.5  1142.460449\n",
       "4366  1049.6  1074.143433\n",
       "4367  1023.4  1016.174500\n",
       "\n",
       "[4368 rows x 2 columns]"
      ]
     },
     "execution_count": 28,
     "metadata": {},
     "output_type": "execute_result"
    }
   ],
   "source": [
    "comparisionDf = pd.DataFrame(data= {\"Values\": Y_testArr, \"Predictions\": predArr})\n",
    "comparisionDf = inverse_transform(comparisionDf)\n",
    "comparisionDf"
   ]
  },
  {
   "cell_type": "code",
   "execution_count": 29,
   "id": "88222bae",
   "metadata": {},
   "outputs": [
    {
     "data": {
      "text/plain": [
       "7.256660723123251"
      ]
     },
     "execution_count": 29,
     "metadata": {},
     "output_type": "execute_result"
    }
   ],
   "source": [
    "mape(comparisionDf[\"Values\"], comparisionDf[\"Predictions\"])"
   ]
  }
 ],
 "metadata": {
  "kernelspec": {
   "display_name": "Python 3 (ipykernel)",
   "language": "python",
   "name": "python3"
  },
  "language_info": {
   "codemirror_mode": {
    "name": "ipython",
    "version": 3
   },
   "file_extension": ".py",
   "mimetype": "text/x-python",
   "name": "python",
   "nbconvert_exporter": "python",
   "pygments_lexer": "ipython3",
   "version": "3.9.12"
  }
 },
 "nbformat": 4,
 "nbformat_minor": 5
}
