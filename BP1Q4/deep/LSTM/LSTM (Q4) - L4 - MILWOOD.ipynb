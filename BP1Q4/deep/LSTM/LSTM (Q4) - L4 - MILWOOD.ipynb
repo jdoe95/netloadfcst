{
 "cells": [
  {
   "cell_type": "code",
   "execution_count": 1,
   "id": "5f61b29f",
   "metadata": {},
   "outputs": [
    {
     "name": "stdout",
     "output_type": "stream",
     "text": [
      "Num GPUs Available:  1\n"
     ]
    }
   ],
   "source": [
    "import pandas as pd\n",
    "import numpy as np\n",
    "import os\n",
    "import matplotlib.pyplot as plt\n",
    "from datetime import datetime\n",
    "from sklearn.preprocessing import MinMaxScaler, RobustScaler, StandardScaler\n",
    "import time\n",
    "\n",
    "import tensorflow as tf\n",
    "tf.random.set_seed(42)\n",
    "\n",
    "def mape(y_true, y_pred):\n",
    "    y_true, y_pred = np.array(y_true), np.array(y_pred)\n",
    "    return np.mean(np.abs((y_true - y_pred) / max(y_true))) * 100\n",
    "\n",
    "def RMSELoss(yhat,y):\n",
    "    return torch.sqrt(torch.mean((yhat-y)**2))\n",
    "\n",
    "print(\"Num GPUs Available: \", len(tf.config.list_physical_devices('GPU')))"
   ]
  },
  {
   "cell_type": "code",
   "execution_count": 2,
   "id": "cea0abe2",
   "metadata": {},
   "outputs": [
    {
     "name": "stdout",
     "output_type": "stream",
     "text": [
      "['Capital.csv', 'Central.csv', 'Dunwoody.csv', 'Genese.csv', 'Hudson.csv', 'LongIsland.csv', 'Milwood.csv', 'NYC.csv']\n"
     ]
    }
   ],
   "source": [
    "# Specifying the path of file\n",
    "path= r\"C:\\Users\\sashah8\\OneDrive - North Carolina State University\\Desktop\\Q4\\Data\\L4\\data_cleaned\"\n",
    "\n",
    "# Listing just the required files\n",
    "fileList = os.listdir(path)\n",
    "fileList.remove(\"Date.csv\")\n",
    "\n",
    "# Previewing the required file names\n",
    "print(fileList)"
   ]
  },
  {
   "cell_type": "code",
   "execution_count": 3,
   "id": "a6fe9396",
   "metadata": {},
   "outputs": [
    {
     "data": {
      "text/html": [
       "<div>\n",
       "<style scoped>\n",
       "    .dataframe tbody tr th:only-of-type {\n",
       "        vertical-align: middle;\n",
       "    }\n",
       "\n",
       "    .dataframe tbody tr th {\n",
       "        vertical-align: top;\n",
       "    }\n",
       "\n",
       "    .dataframe thead th {\n",
       "        text-align: right;\n",
       "    }\n",
       "</style>\n",
       "<table border=\"1\" class=\"dataframe\">\n",
       "  <thead>\n",
       "    <tr style=\"text-align: right;\">\n",
       "      <th></th>\n",
       "      <th>Demand</th>\n",
       "      <th>Normalized_net</th>\n",
       "      <th>Temprature</th>\n",
       "    </tr>\n",
       "  </thead>\n",
       "  <tbody>\n",
       "    <tr>\n",
       "      <th>0</th>\n",
       "      <td>336.5</td>\n",
       "      <td>0.525130</td>\n",
       "      <td>-5.8</td>\n",
       "    </tr>\n",
       "    <tr>\n",
       "      <th>1</th>\n",
       "      <td>317.7</td>\n",
       "      <td>0.495791</td>\n",
       "      <td>-6.1</td>\n",
       "    </tr>\n",
       "    <tr>\n",
       "      <th>2</th>\n",
       "      <td>307.0</td>\n",
       "      <td>0.479093</td>\n",
       "      <td>-7.5</td>\n",
       "    </tr>\n",
       "    <tr>\n",
       "      <th>3</th>\n",
       "      <td>300.6</td>\n",
       "      <td>0.469106</td>\n",
       "      <td>-8.4</td>\n",
       "    </tr>\n",
       "    <tr>\n",
       "      <th>4</th>\n",
       "      <td>298.4</td>\n",
       "      <td>0.465672</td>\n",
       "      <td>-7.4</td>\n",
       "    </tr>\n",
       "    <tr>\n",
       "      <th>...</th>\n",
       "      <td>...</td>\n",
       "      <td>...</td>\n",
       "      <td>...</td>\n",
       "    </tr>\n",
       "    <tr>\n",
       "      <th>43819</th>\n",
       "      <td>385.7</td>\n",
       "      <td>0.601910</td>\n",
       "      <td>3.4</td>\n",
       "    </tr>\n",
       "    <tr>\n",
       "      <th>43820</th>\n",
       "      <td>366.2</td>\n",
       "      <td>0.571479</td>\n",
       "      <td>3.3</td>\n",
       "    </tr>\n",
       "    <tr>\n",
       "      <th>43821</th>\n",
       "      <td>347.3</td>\n",
       "      <td>0.541984</td>\n",
       "      <td>2.6</td>\n",
       "    </tr>\n",
       "    <tr>\n",
       "      <th>43822</th>\n",
       "      <td>326.5</td>\n",
       "      <td>0.509524</td>\n",
       "      <td>2.7</td>\n",
       "    </tr>\n",
       "    <tr>\n",
       "      <th>43823</th>\n",
       "      <td>309.9</td>\n",
       "      <td>0.483619</td>\n",
       "      <td>3.0</td>\n",
       "    </tr>\n",
       "  </tbody>\n",
       "</table>\n",
       "<p>43824 rows × 3 columns</p>\n",
       "</div>"
      ],
      "text/plain": [
       "       Demand  Normalized_net  Temprature\n",
       "0       336.5        0.525130        -5.8\n",
       "1       317.7        0.495791        -6.1\n",
       "2       307.0        0.479093        -7.5\n",
       "3       300.6        0.469106        -8.4\n",
       "4       298.4        0.465672        -7.4\n",
       "...       ...             ...         ...\n",
       "43819   385.7        0.601910         3.4\n",
       "43820   366.2        0.571479         3.3\n",
       "43821   347.3        0.541984         2.6\n",
       "43822   326.5        0.509524         2.7\n",
       "43823   309.9        0.483619         3.0\n",
       "\n",
       "[43824 rows x 3 columns]"
      ]
     },
     "execution_count": 3,
     "metadata": {},
     "output_type": "execute_result"
    }
   ],
   "source": [
    "# Just for previewing the columns\n",
    "pd.read_csv(os.path.join(path, fileList[6]))"
   ]
  },
  {
   "cell_type": "markdown",
   "id": "9ad4906c",
   "metadata": {
    "pycharm": {
     "name": "#%% md\n"
    }
   },
   "source": [
    "### PROCESSING THE DATA"
   ]
  },
  {
   "cell_type": "code",
   "execution_count": 4,
   "id": "f29f6db2",
   "metadata": {},
   "outputs": [
    {
     "data": {
      "text/html": [
       "<div>\n",
       "<style scoped>\n",
       "    .dataframe tbody tr th:only-of-type {\n",
       "        vertical-align: middle;\n",
       "    }\n",
       "\n",
       "    .dataframe tbody tr th {\n",
       "        vertical-align: top;\n",
       "    }\n",
       "\n",
       "    .dataframe thead th {\n",
       "        text-align: right;\n",
       "    }\n",
       "</style>\n",
       "<table border=\"1\" class=\"dataframe\">\n",
       "  <thead>\n",
       "    <tr style=\"text-align: right;\">\n",
       "      <th></th>\n",
       "      <th>Load_Milwood</th>\n",
       "      <th>Temp_Milwood</th>\n",
       "    </tr>\n",
       "  </thead>\n",
       "  <tbody>\n",
       "    <tr>\n",
       "      <th>0</th>\n",
       "      <td>336.5</td>\n",
       "      <td>-5.8</td>\n",
       "    </tr>\n",
       "    <tr>\n",
       "      <th>1</th>\n",
       "      <td>317.7</td>\n",
       "      <td>-6.1</td>\n",
       "    </tr>\n",
       "    <tr>\n",
       "      <th>2</th>\n",
       "      <td>307.0</td>\n",
       "      <td>-7.5</td>\n",
       "    </tr>\n",
       "    <tr>\n",
       "      <th>3</th>\n",
       "      <td>300.6</td>\n",
       "      <td>-8.4</td>\n",
       "    </tr>\n",
       "    <tr>\n",
       "      <th>4</th>\n",
       "      <td>298.4</td>\n",
       "      <td>-7.4</td>\n",
       "    </tr>\n",
       "    <tr>\n",
       "      <th>...</th>\n",
       "      <td>...</td>\n",
       "      <td>...</td>\n",
       "    </tr>\n",
       "    <tr>\n",
       "      <th>43819</th>\n",
       "      <td>385.7</td>\n",
       "      <td>3.4</td>\n",
       "    </tr>\n",
       "    <tr>\n",
       "      <th>43820</th>\n",
       "      <td>366.2</td>\n",
       "      <td>3.3</td>\n",
       "    </tr>\n",
       "    <tr>\n",
       "      <th>43821</th>\n",
       "      <td>347.3</td>\n",
       "      <td>2.6</td>\n",
       "    </tr>\n",
       "    <tr>\n",
       "      <th>43822</th>\n",
       "      <td>326.5</td>\n",
       "      <td>2.7</td>\n",
       "    </tr>\n",
       "    <tr>\n",
       "      <th>43823</th>\n",
       "      <td>309.9</td>\n",
       "      <td>3.0</td>\n",
       "    </tr>\n",
       "  </tbody>\n",
       "</table>\n",
       "<p>43824 rows × 2 columns</p>\n",
       "</div>"
      ],
      "text/plain": [
       "       Load_Milwood  Temp_Milwood\n",
       "0             336.5          -5.8\n",
       "1             317.7          -6.1\n",
       "2             307.0          -7.5\n",
       "3             300.6          -8.4\n",
       "4             298.4          -7.4\n",
       "...             ...           ...\n",
       "43819         385.7           3.4\n",
       "43820         366.2           3.3\n",
       "43821         347.3           2.6\n",
       "43822         326.5           2.7\n",
       "43823         309.9           3.0\n",
       "\n",
       "[43824 rows x 2 columns]"
      ]
     },
     "execution_count": 4,
     "metadata": {},
     "output_type": "execute_result"
    }
   ],
   "source": [
    "# Restricting the load data to a single zone\n",
    "fileName  = fileList[6]\n",
    "\n",
    "zoneData = pd.read_csv(os.path.join(path, fileName), usecols= [\"Demand\", \"Temprature\"])\n",
    "zoneData.columns = [\"Load_\"+str(fileName[:-4]), \"Temp_\"+str(fileName[:-4])]\n",
    "\n",
    "# For fixing one missing row\n",
    "# zoneData = pd.concat([zoneData.loc[[0]], zoneData], axis= 0).reset_index(drop= True)\n",
    "\n",
    "zoneData"
   ]
  },
  {
   "cell_type": "markdown",
   "id": "01cec4bd",
   "metadata": {},
   "source": [
    "### FEATURE ENGINEERING AND SPLITTING INTO TRAIN-TEST SPLIT"
   ]
  },
  {
   "cell_type": "code",
   "execution_count": 5,
   "id": "a1e1e8a3",
   "metadata": {},
   "outputs": [],
   "source": [
    "def lagGenerator(dF, lagList):\n",
    "    dF_temp = dF.filter(regex= \"Load\").copy()\n",
    "    \n",
    "    for i in lagList:\n",
    "        dF_temp.loc[:, \"Lag-\" + str(i)] = dF_temp.iloc[:,[0]].shift(i*24)\n",
    "    \n",
    "    return(dF_temp.filter(regex= \"Lag\"))"
   ]
  },
  {
   "cell_type": "code",
   "execution_count": 6,
   "id": "159a2a82",
   "metadata": {},
   "outputs": [
    {
     "data": {
      "text/html": [
       "<div>\n",
       "<style scoped>\n",
       "    .dataframe tbody tr th:only-of-type {\n",
       "        vertical-align: middle;\n",
       "    }\n",
       "\n",
       "    .dataframe tbody tr th {\n",
       "        vertical-align: top;\n",
       "    }\n",
       "\n",
       "    .dataframe thead th {\n",
       "        text-align: right;\n",
       "    }\n",
       "</style>\n",
       "<table border=\"1\" class=\"dataframe\">\n",
       "  <thead>\n",
       "    <tr style=\"text-align: right;\">\n",
       "      <th></th>\n",
       "      <th>Lag-2</th>\n",
       "      <th>Lag-7</th>\n",
       "    </tr>\n",
       "  </thead>\n",
       "  <tbody>\n",
       "    <tr>\n",
       "      <th>0</th>\n",
       "      <td>NaN</td>\n",
       "      <td>NaN</td>\n",
       "    </tr>\n",
       "    <tr>\n",
       "      <th>1</th>\n",
       "      <td>NaN</td>\n",
       "      <td>NaN</td>\n",
       "    </tr>\n",
       "  </tbody>\n",
       "</table>\n",
       "</div>"
      ],
      "text/plain": [
       "   Lag-2  Lag-7\n",
       "0    NaN    NaN\n",
       "1    NaN    NaN"
      ]
     },
     "execution_count": 6,
     "metadata": {},
     "output_type": "execute_result"
    }
   ],
   "source": [
    "Load_lags = lagGenerator(dF=zoneData, lagList=[2,7])\n",
    "Load_lags.head(2)"
   ]
  },
  {
   "cell_type": "code",
   "execution_count": 7,
   "id": "05896954",
   "metadata": {},
   "outputs": [
    {
     "data": {
      "text/html": [
       "<div>\n",
       "<style scoped>\n",
       "    .dataframe tbody tr th:only-of-type {\n",
       "        vertical-align: middle;\n",
       "    }\n",
       "\n",
       "    .dataframe tbody tr th {\n",
       "        vertical-align: top;\n",
       "    }\n",
       "\n",
       "    .dataframe thead th {\n",
       "        text-align: right;\n",
       "    }\n",
       "</style>\n",
       "<table border=\"1\" class=\"dataframe\">\n",
       "  <thead>\n",
       "    <tr style=\"text-align: right;\">\n",
       "      <th></th>\n",
       "      <th>Load_Milwood</th>\n",
       "      <th>Temp_Milwood</th>\n",
       "      <th>Lag-2</th>\n",
       "      <th>Lag-7</th>\n",
       "    </tr>\n",
       "  </thead>\n",
       "  <tbody>\n",
       "    <tr>\n",
       "      <th>0</th>\n",
       "      <td>388.7</td>\n",
       "      <td>-13.9</td>\n",
       "      <td>333.6</td>\n",
       "      <td>336.5</td>\n",
       "    </tr>\n",
       "    <tr>\n",
       "      <th>1</th>\n",
       "      <td>379.0</td>\n",
       "      <td>-14.2</td>\n",
       "      <td>323.6</td>\n",
       "      <td>317.7</td>\n",
       "    </tr>\n",
       "    <tr>\n",
       "      <th>2</th>\n",
       "      <td>377.4</td>\n",
       "      <td>-14.8</td>\n",
       "      <td>317.7</td>\n",
       "      <td>307.0</td>\n",
       "    </tr>\n",
       "    <tr>\n",
       "      <th>3</th>\n",
       "      <td>377.9</td>\n",
       "      <td>-15.6</td>\n",
       "      <td>314.1</td>\n",
       "      <td>300.6</td>\n",
       "    </tr>\n",
       "    <tr>\n",
       "      <th>4</th>\n",
       "      <td>384.7</td>\n",
       "      <td>-16.0</td>\n",
       "      <td>320.7</td>\n",
       "      <td>298.4</td>\n",
       "    </tr>\n",
       "    <tr>\n",
       "      <th>...</th>\n",
       "      <td>...</td>\n",
       "      <td>...</td>\n",
       "      <td>...</td>\n",
       "      <td>...</td>\n",
       "    </tr>\n",
       "    <tr>\n",
       "      <th>43651</th>\n",
       "      <td>385.7</td>\n",
       "      <td>3.4</td>\n",
       "      <td>380.2</td>\n",
       "      <td>369.0</td>\n",
       "    </tr>\n",
       "    <tr>\n",
       "      <th>43652</th>\n",
       "      <td>366.2</td>\n",
       "      <td>3.3</td>\n",
       "      <td>375.4</td>\n",
       "      <td>364.1</td>\n",
       "    </tr>\n",
       "    <tr>\n",
       "      <th>43653</th>\n",
       "      <td>347.3</td>\n",
       "      <td>2.6</td>\n",
       "      <td>356.6</td>\n",
       "      <td>352.2</td>\n",
       "    </tr>\n",
       "    <tr>\n",
       "      <th>43654</th>\n",
       "      <td>326.5</td>\n",
       "      <td>2.7</td>\n",
       "      <td>328.1</td>\n",
       "      <td>341.5</td>\n",
       "    </tr>\n",
       "    <tr>\n",
       "      <th>43655</th>\n",
       "      <td>309.9</td>\n",
       "      <td>3.0</td>\n",
       "      <td>303.1</td>\n",
       "      <td>322.6</td>\n",
       "    </tr>\n",
       "  </tbody>\n",
       "</table>\n",
       "<p>43656 rows × 4 columns</p>\n",
       "</div>"
      ],
      "text/plain": [
       "       Load_Milwood  Temp_Milwood  Lag-2  Lag-7\n",
       "0             388.7         -13.9  333.6  336.5\n",
       "1             379.0         -14.2  323.6  317.7\n",
       "2             377.4         -14.8  317.7  307.0\n",
       "3             377.9         -15.6  314.1  300.6\n",
       "4             384.7         -16.0  320.7  298.4\n",
       "...             ...           ...    ...    ...\n",
       "43651         385.7           3.4  380.2  369.0\n",
       "43652         366.2           3.3  375.4  364.1\n",
       "43653         347.3           2.6  356.6  352.2\n",
       "43654         326.5           2.7  328.1  341.5\n",
       "43655         309.9           3.0  303.1  322.6\n",
       "\n",
       "[43656 rows x 4 columns]"
      ]
     },
     "execution_count": 7,
     "metadata": {},
     "output_type": "execute_result"
    }
   ],
   "source": [
    "dataDf = pd.concat([zoneData, Load_lags], axis= 1).dropna(axis= 0).reset_index(drop= True)\n",
    "dataDf"
   ]
  },
  {
   "cell_type": "code",
   "execution_count": 8,
   "id": "6ad25321",
   "metadata": {},
   "outputs": [],
   "source": [
    "# Setting the train-test split ratio\n",
    "ratio = 0.1"
   ]
  },
  {
   "cell_type": "code",
   "execution_count": 9,
   "id": "3c08d963",
   "metadata": {},
   "outputs": [],
   "source": [
    "Num_train, Num_test = int(len(dataDf)/24 * (1 - ratio)) * 24, int(len(dataDf)/24 * ratio) * 24"
   ]
  },
  {
   "cell_type": "code",
   "execution_count": 10,
   "id": "cbe069ff",
   "metadata": {},
   "outputs": [],
   "source": [
    "# Splitting the data into train and test\n",
    "data_train, data_test = dataDf[:Num_train], dataDf[Num_train:]"
   ]
  },
  {
   "cell_type": "code",
   "execution_count": 11,
   "id": "d84e15c4",
   "metadata": {},
   "outputs": [],
   "source": [
    "Num_train, Num_valid = int(len(data_train)/24 * (1 - ratio)) * 24, int(len(data_train)/24 * ratio) * 24"
   ]
  },
  {
   "cell_type": "code",
   "execution_count": 12,
   "id": "c17d1723",
   "metadata": {},
   "outputs": [],
   "source": [
    "# Splitting the data into train and test\n",
    "data_train, data_valid = data_train[:Num_train], data_train[Num_train:]"
   ]
  },
  {
   "cell_type": "markdown",
   "id": "88d32011",
   "metadata": {},
   "source": [
    "### SPLITTING INTO X AND Y PART WITH SEQUENCE BATCHING"
   ]
  },
  {
   "cell_type": "code",
   "execution_count": 13,
   "id": "4ba286ca",
   "metadata": {},
   "outputs": [],
   "source": [
    "X_train_df, Y_train_df = data_train.iloc[:, 1:], data_train.iloc[:, :1]\n",
    "\n",
    "X_valid_df, Y_valid_df = data_valid.iloc[:, 1:], data_valid.iloc[:, :1]\n",
    "\n",
    "X_test_df, Y_test_df = data_test.iloc[:, 1:], data_test.iloc[:, :1]"
   ]
  },
  {
   "cell_type": "code",
   "execution_count": 14,
   "id": "ef1d9079",
   "metadata": {},
   "outputs": [],
   "source": [
    "# Preparing the scaler\n",
    "ValScaler = MinMaxScaler()\n",
    "\n",
    "X_train = ValScaler.fit_transform(X_train_df)\n",
    "X_valid = ValScaler.transform(X_valid_df)\n",
    "X_test = ValScaler.transform(X_test_df)\n",
    "\n",
    "Y_train = ValScaler.fit_transform(Y_train_df)\n",
    "Y_valid = ValScaler.transform(Y_valid_df)\n",
    "Y_test = ValScaler.transform(Y_test_df)"
   ]
  },
  {
   "cell_type": "code",
   "execution_count": 15,
   "id": "43594401",
   "metadata": {},
   "outputs": [],
   "source": [
    "def splitData(dataset):\n",
    "    data = np.array(np.split(dataset, len(dataset)/24))\n",
    "    return data"
   ]
  },
  {
   "cell_type": "code",
   "execution_count": 16,
   "id": "300696b2",
   "metadata": {},
   "outputs": [],
   "source": [
    "def supervisedSet(X_part, Y_part, steps= 24):\n",
    "    X_array, Y_array = np.array(X_part), np.array(Y_part)\n",
    "    X, Y = [], []\n",
    "    \n",
    "    for i in range(len(X_array)):\n",
    "        endIdx = i + steps\n",
    "        \n",
    "        if endIdx > len(X_array):\n",
    "            break\n",
    "        \n",
    "        batch_X, batch_Y = X_array[i:endIdx], Y_array[i:endIdx]\n",
    "        \n",
    "        X.append(batch_X)\n",
    "        Y.append(batch_Y)\n",
    "        \n",
    "    return np.array(X), np.array(Y)"
   ]
  },
  {
   "cell_type": "code",
   "execution_count": 17,
   "id": "fc9cd97d",
   "metadata": {},
   "outputs": [],
   "source": [
    "X_train, Y_train = supervisedSet(X_train, Y_train)\n",
    "\n",
    "X_valid, Y_valid = splitData(X_valid), splitData(Y_valid)\n",
    "\n",
    "X_test, Y_test = splitData(X_test), splitData(Y_test)"
   ]
  },
  {
   "cell_type": "markdown",
   "id": "a2a6bf32",
   "metadata": {},
   "source": [
    "### WORKING ON THE MODEL"
   ]
  },
  {
   "cell_type": "code",
   "execution_count": 18,
   "id": "ff71a98c",
   "metadata": {},
   "outputs": [],
   "source": [
    "epochs = 100\n",
    "batchSize = 32"
   ]
  },
  {
   "cell_type": "code",
   "execution_count": 19,
   "id": "8d600c17",
   "metadata": {},
   "outputs": [],
   "source": [
    "# Encoder-decoder architecture [tanh required to use tensorflow on gpu]\n",
    "model = tf.keras.Sequential([\n",
    "    tf.keras.layers.LSTM(units= 128, activation= \"tanh\", input_shape= (X_train.shape[1], X_train.shape[2]), dropout= 0.2),\n",
    "    tf.keras.layers.RepeatVector(Y_train.shape[1]),\n",
    "    tf.keras.layers.LSTM(units= 128, activation= \"tanh\", return_sequences= True, dropout= 0.2),\n",
    "    tf.keras.layers.TimeDistributed(tf.keras.layers.Dense(units= 128, activation= \"relu\")),\n",
    "    tf.keras.layers.Dropout(0.2),\n",
    "    tf.keras.layers.TimeDistributed(tf.keras.layers.Dense(units= 1))\n",
    "])\n",
    "\n",
    "model.compile(loss= \"mse\", optimizer= \"adam\",  metrics= ['mape', 'mae'])"
   ]
  },
  {
   "cell_type": "code",
   "execution_count": 20,
   "id": "a05c033a",
   "metadata": {},
   "outputs": [],
   "source": [
    "# model = tf.keras.Sequential([\n",
    "#     tf.keras.layers.LSTM(units= 256, activation= \"tanh\", input_shape= (X_train.shape[1], X_train.shape[2])),\n",
    "#     tf.keras.layers.Dense(units= 128, activation= \"tanh\"),\n",
    "#     tf.keras.layers.Dense(units= 1)\n",
    "# ])\n",
    "\n",
    "# model.compile(loss= \"mse\", optimizer= \"adam\",  metrics= ['mape', 'mae'])"
   ]
  },
  {
   "cell_type": "code",
   "execution_count": 21,
   "id": "c9390383",
   "metadata": {},
   "outputs": [],
   "source": [
    "# Storing the start time of model fitting process\n",
    "startTime = time.time()"
   ]
  },
  {
   "cell_type": "code",
   "execution_count": 22,
   "id": "e526e3ed",
   "metadata": {},
   "outputs": [
    {
     "name": "stdout",
     "output_type": "stream",
     "text": [
      "Epoch 1/100\n",
      "1105/1105 [==============================] - 14s 9ms/step - loss: 0.0122 - mape: 10879.9531 - mae: 0.0853 - val_loss: 0.0063 - val_mape: 23.3892 - val_mae: 0.0647\n",
      "Epoch 2/100\n",
      "1105/1105 [==============================] - 9s 8ms/step - loss: 0.0073 - mape: 10893.2158 - mae: 0.0664 - val_loss: 0.0071 - val_mape: 21.1444 - val_mae: 0.0631\n",
      "Epoch 3/100\n",
      "1105/1105 [==============================] - 9s 8ms/step - loss: 0.0050 - mape: 10811.0322 - mae: 0.0549 - val_loss: 0.0079 - val_mape: 22.0264 - val_mae: 0.0652\n",
      "Epoch 4/100\n",
      "1105/1105 [==============================] - 9s 8ms/step - loss: 0.0044 - mape: 10527.7539 - mae: 0.0511 - val_loss: 0.0078 - val_mape: 22.7520 - val_mae: 0.0659\n",
      "Epoch 5/100\n",
      "1105/1105 [==============================] - 8s 8ms/step - loss: 0.0040 - mape: 10571.2910 - mae: 0.0486 - val_loss: 0.0078 - val_mape: 18.4412 - val_mae: 0.0605\n",
      "Epoch 6/100\n",
      "1105/1105 [==============================] - 9s 8ms/step - loss: 0.0037 - mape: 10454.6787 - mae: 0.0465 - val_loss: 0.0070 - val_mape: 19.6028 - val_mae: 0.0591\n",
      "Epoch 7/100\n",
      "1105/1105 [==============================] - 8s 8ms/step - loss: 0.0035 - mape: 10148.3828 - mae: 0.0455 - val_loss: 0.0071 - val_mape: 19.0453 - val_mae: 0.0596\n",
      "Epoch 8/100\n",
      "1105/1105 [==============================] - 9s 8ms/step - loss: 0.0034 - mape: 10365.3145 - mae: 0.0446 - val_loss: 0.0072 - val_mape: 21.2589 - val_mae: 0.0612\n",
      "Epoch 9/100\n",
      "1105/1105 [==============================] - 9s 8ms/step - loss: 0.0034 - mape: 10499.1680 - mae: 0.0444 - val_loss: 0.0070 - val_mape: 18.8072 - val_mae: 0.0583\n",
      "Epoch 10/100\n",
      "1105/1105 [==============================] - 9s 8ms/step - loss: 0.0032 - mape: 10414.8691 - mae: 0.0434 - val_loss: 0.0074 - val_mape: 22.0401 - val_mae: 0.0626\n",
      "Epoch 11/100\n",
      "1105/1105 [==============================] - 9s 8ms/step - loss: 0.0031 - mape: 10615.2549 - mae: 0.0429 - val_loss: 0.0073 - val_mape: 19.1966 - val_mae: 0.0603\n",
      "Epoch 12/100\n",
      "1105/1105 [==============================] - 9s 8ms/step - loss: 0.0031 - mape: 10536.1865 - mae: 0.0425 - val_loss: 0.0079 - val_mape: 18.3493 - val_mae: 0.0614\n",
      "Epoch 13/100\n",
      "1105/1105 [==============================] - 9s 8ms/step - loss: 0.0030 - mape: 10473.9258 - mae: 0.0421 - val_loss: 0.0066 - val_mape: 17.8564 - val_mae: 0.0564\n",
      "Epoch 14/100\n",
      "1105/1105 [==============================] - 9s 8ms/step - loss: 0.0030 - mape: 10641.8828 - mae: 0.0419 - val_loss: 0.0067 - val_mape: 18.3217 - val_mae: 0.0568\n",
      "Epoch 15/100\n",
      "1105/1105 [==============================] - 9s 8ms/step - loss: 0.0030 - mape: 10824.9434 - mae: 0.0417 - val_loss: 0.0066 - val_mape: 18.7111 - val_mae: 0.0571\n",
      "Epoch 16/100\n",
      "1105/1105 [==============================] - 9s 8ms/step - loss: 0.0029 - mape: 10602.3506 - mae: 0.0412 - val_loss: 0.0075 - val_mape: 17.6014 - val_mae: 0.0594\n",
      "Epoch 17/100\n",
      "1105/1105 [==============================] - 9s 8ms/step - loss: 0.0029 - mape: 10632.8330 - mae: 0.0409 - val_loss: 0.0072 - val_mape: 18.1977 - val_mae: 0.0584\n",
      "Epoch 18/100\n",
      "1105/1105 [==============================] - 9s 8ms/step - loss: 0.0028 - mape: 10773.6055 - mae: 0.0406 - val_loss: 0.0074 - val_mape: 18.3529 - val_mae: 0.0593\n",
      "Epoch 19/100\n",
      "1105/1105 [==============================] - 8s 8ms/step - loss: 0.0028 - mape: 10934.3369 - mae: 0.0406 - val_loss: 0.0084 - val_mape: 19.6875 - val_mae: 0.0633\n",
      "Epoch 20/100\n",
      "1105/1105 [==============================] - 8s 7ms/step - loss: 0.0027 - mape: 10619.7764 - mae: 0.0401 - val_loss: 0.0070 - val_mape: 17.2121 - val_mae: 0.0571\n",
      "Epoch 21/100\n",
      "1105/1105 [==============================] - 9s 8ms/step - loss: 0.0027 - mape: 10807.0723 - mae: 0.0400 - val_loss: 0.0071 - val_mape: 18.8412 - val_mae: 0.0585\n",
      "Epoch 22/100\n",
      "1105/1105 [==============================] - 9s 8ms/step - loss: 0.0027 - mape: 10959.1709 - mae: 0.0397 - val_loss: 0.0077 - val_mape: 19.3023 - val_mae: 0.0618\n",
      "Epoch 23/100\n",
      "1105/1105 [==============================] - 9s 8ms/step - loss: 0.0027 - mape: 10563.0273 - mae: 0.0396 - val_loss: 0.0068 - val_mape: 18.0106 - val_mae: 0.0575\n",
      "Epoch 24/100\n",
      "1105/1105 [==============================] - 9s 8ms/step - loss: 0.0026 - mape: 10776.1709 - mae: 0.0392 - val_loss: 0.0082 - val_mape: 19.1120 - val_mae: 0.0643\n",
      "Epoch 25/100\n",
      "1105/1105 [==============================] - 9s 8ms/step - loss: 0.0026 - mape: 10667.2969 - mae: 0.0391 - val_loss: 0.0075 - val_mape: 17.8234 - val_mae: 0.0591\n",
      "Epoch 26/100\n",
      "1105/1105 [==============================] - 9s 8ms/step - loss: 0.0026 - mape: 10747.3115 - mae: 0.0389 - val_loss: 0.0078 - val_mape: 18.6177 - val_mae: 0.0608\n",
      "Epoch 27/100\n",
      "1105/1105 [==============================] - 9s 8ms/step - loss: 0.0025 - mape: 10825.7529 - mae: 0.0386 - val_loss: 0.0082 - val_mape: 18.9403 - val_mae: 0.0623\n",
      "Epoch 28/100\n",
      "1105/1105 [==============================] - 9s 8ms/step - loss: 0.0025 - mape: 10458.5088 - mae: 0.0385 - val_loss: 0.0075 - val_mape: 17.8541 - val_mae: 0.0590\n",
      "Epoch 29/100\n",
      "1105/1105 [==============================] - 9s 8ms/step - loss: 0.0025 - mape: 10730.4355 - mae: 0.0382 - val_loss: 0.0092 - val_mape: 20.6606 - val_mae: 0.0689\n",
      "Epoch 30/100\n",
      "1105/1105 [==============================] - 9s 8ms/step - loss: 0.0025 - mape: 10629.1426 - mae: 0.0380 - val_loss: 0.0086 - val_mape: 19.1212 - val_mae: 0.0638\n",
      "Epoch 31/100\n",
      "1105/1105 [==============================] - 9s 8ms/step - loss: 0.0025 - mape: 10589.8848 - mae: 0.0379 - val_loss: 0.0083 - val_mape: 19.8386 - val_mae: 0.0645\n",
      "Epoch 32/100\n",
      "1105/1105 [==============================] - 9s 8ms/step - loss: 0.0024 - mape: 10594.1943 - mae: 0.0377 - val_loss: 0.0085 - val_mape: 19.9585 - val_mae: 0.0649\n",
      "Epoch 33/100\n",
      "1105/1105 [==============================] - 9s 8ms/step - loss: 0.0024 - mape: 10466.4639 - mae: 0.0374 - val_loss: 0.0097 - val_mape: 20.8424 - val_mae: 0.0700\n",
      "Epoch 34/100\n",
      "1105/1105 [==============================] - 8s 8ms/step - loss: 0.0024 - mape: 10560.1387 - mae: 0.0373 - val_loss: 0.0084 - val_mape: 18.5652 - val_mae: 0.0629\n",
      "Epoch 35/100\n",
      "1105/1105 [==============================] - 8s 7ms/step - loss: 0.0023 - mape: 10403.8037 - mae: 0.0369 - val_loss: 0.0078 - val_mape: 17.7541 - val_mae: 0.0600\n",
      "Epoch 36/100\n",
      "1105/1105 [==============================] - 8s 7ms/step - loss: 0.0023 - mape: 10703.8447 - mae: 0.0369 - val_loss: 0.0080 - val_mape: 18.2591 - val_mae: 0.0618\n",
      "Epoch 37/100\n",
      "1105/1105 [==============================] - 8s 7ms/step - loss: 0.0023 - mape: 10427.7461 - mae: 0.0367 - val_loss: 0.0085 - val_mape: 19.6858 - val_mae: 0.0642\n",
      "Epoch 38/100\n",
      "1105/1105 [==============================] - 8s 7ms/step - loss: 0.0023 - mape: 10654.4824 - mae: 0.0365 - val_loss: 0.0103 - val_mape: 22.5925 - val_mae: 0.0751\n",
      "Epoch 39/100\n",
      "1105/1105 [==============================] - 8s 7ms/step - loss: 0.0022 - mape: 10575.3887 - mae: 0.0362 - val_loss: 0.0085 - val_mape: 19.3914 - val_mae: 0.0641\n",
      "Epoch 40/100\n",
      "1105/1105 [==============================] - 8s 8ms/step - loss: 0.0022 - mape: 10555.9453 - mae: 0.0361 - val_loss: 0.0087 - val_mape: 19.0357 - val_mae: 0.0639\n",
      "Epoch 41/100\n",
      "1105/1105 [==============================] - 9s 8ms/step - loss: 0.0022 - mape: 10414.9375 - mae: 0.0357 - val_loss: 0.0092 - val_mape: 20.8656 - val_mae: 0.0685\n",
      "Epoch 42/100\n",
      "1105/1105 [==============================] - 8s 8ms/step - loss: 0.0022 - mape: 10190.8574 - mae: 0.0356 - val_loss: 0.0101 - val_mape: 20.6233 - val_mae: 0.0705\n",
      "Epoch 43/100\n",
      "1105/1105 [==============================] - 8s 7ms/step - loss: 0.0021 - mape: 10256.7979 - mae: 0.0354 - val_loss: 0.0080 - val_mape: 18.7578 - val_mae: 0.0625\n",
      "Epoch 44/100\n",
      "1105/1105 [==============================] - 8s 7ms/step - loss: 0.0021 - mape: 10218.1260 - mae: 0.0351 - val_loss: 0.0083 - val_mape: 20.0519 - val_mae: 0.0638\n",
      "Epoch 45/100\n",
      "1105/1105 [==============================] - 8s 8ms/step - loss: 0.0021 - mape: 10285.8818 - mae: 0.0350 - val_loss: 0.0094 - val_mape: 20.2140 - val_mae: 0.0680\n",
      "Epoch 46/100\n",
      "1105/1105 [==============================] - 8s 7ms/step - loss: 0.0021 - mape: 10226.0537 - mae: 0.0347 - val_loss: 0.0090 - val_mape: 20.0008 - val_mae: 0.0662\n",
      "Epoch 47/100\n",
      "1105/1105 [==============================] - 8s 7ms/step - loss: 0.0020 - mape: 10298.0254 - mae: 0.0345 - val_loss: 0.0080 - val_mape: 18.6355 - val_mae: 0.0617\n"
     ]
    },
    {
     "name": "stdout",
     "output_type": "stream",
     "text": [
      "Epoch 48/100\n",
      "1105/1105 [==============================] - 8s 7ms/step - loss: 0.0020 - mape: 10212.0869 - mae: 0.0345 - val_loss: 0.0091 - val_mape: 19.6946 - val_mae: 0.0662\n",
      "Epoch 49/100\n",
      "1105/1105 [==============================] - 8s 7ms/step - loss: 0.0020 - mape: 9907.6143 - mae: 0.0340 - val_loss: 0.0091 - val_mape: 20.3680 - val_mae: 0.0664\n",
      "Epoch 50/100\n",
      "1105/1105 [==============================] - 8s 7ms/step - loss: 0.0019 - mape: 9755.1289 - mae: 0.0338 - val_loss: 0.0082 - val_mape: 18.6622 - val_mae: 0.0626\n",
      "Epoch 51/100\n",
      "1105/1105 [==============================] - 8s 7ms/step - loss: 0.0019 - mape: 9754.2344 - mae: 0.0337 - val_loss: 0.0085 - val_mape: 19.3170 - val_mae: 0.0640\n",
      "Epoch 52/100\n",
      "1105/1105 [==============================] - 8s 7ms/step - loss: 0.0019 - mape: 9523.7832 - mae: 0.0335 - val_loss: 0.0081 - val_mape: 19.9210 - val_mae: 0.0643\n",
      "Epoch 53/100\n",
      "1105/1105 [==============================] - 8s 7ms/step - loss: 0.0019 - mape: 9164.6172 - mae: 0.0332 - val_loss: 0.0087 - val_mape: 19.5437 - val_mae: 0.0652\n",
      "Epoch 54/100\n",
      "1105/1105 [==============================] - 8s 8ms/step - loss: 0.0019 - mape: 9279.8350 - mae: 0.0330 - val_loss: 0.0091 - val_mape: 20.2748 - val_mae: 0.0675\n",
      "Epoch 55/100\n",
      "1105/1105 [==============================] - 8s 7ms/step - loss: 0.0018 - mape: 9050.6504 - mae: 0.0327 - val_loss: 0.0097 - val_mape: 20.9022 - val_mae: 0.0702\n",
      "Epoch 56/100\n",
      "1105/1105 [==============================] - 8s 7ms/step - loss: 0.0018 - mape: 9081.0918 - mae: 0.0324 - val_loss: 0.0088 - val_mape: 19.5806 - val_mae: 0.0653\n",
      "Epoch 57/100\n",
      "1105/1105 [==============================] - 8s 7ms/step - loss: 0.0019 - mape: 9179.5762 - mae: 0.0332 - val_loss: 0.0090 - val_mape: 20.9492 - val_mae: 0.0660\n",
      "Epoch 58/100\n",
      "1105/1105 [==============================] - 8s 7ms/step - loss: 0.0018 - mape: 8645.4463 - mae: 0.0322 - val_loss: 0.0107 - val_mape: 22.5540 - val_mae: 0.0757\n",
      "Epoch 59/100\n",
      "1105/1105 [==============================] - 8s 7ms/step - loss: 0.0017 - mape: 8421.4795 - mae: 0.0320 - val_loss: 0.0105 - val_mape: 21.8472 - val_mae: 0.0729\n",
      "Epoch 60/100\n",
      "1105/1105 [==============================] - 8s 7ms/step - loss: 0.0017 - mape: 8221.3525 - mae: 0.0318 - val_loss: 0.0089 - val_mape: 19.7266 - val_mae: 0.0662\n",
      "Epoch 61/100\n",
      "1105/1105 [==============================] - 8s 7ms/step - loss: 0.0017 - mape: 7930.8184 - mae: 0.0313 - val_loss: 0.0094 - val_mape: 20.7376 - val_mae: 0.0691\n",
      "Epoch 62/100\n",
      "1105/1105 [==============================] - 8s 7ms/step - loss: 0.0017 - mape: 7422.8628 - mae: 0.0313 - val_loss: 0.0088 - val_mape: 19.7388 - val_mae: 0.0650\n",
      "Epoch 63/100\n",
      "1105/1105 [==============================] - 8s 8ms/step - loss: 0.0016 - mape: 7221.8936 - mae: 0.0310 - val_loss: 0.0091 - val_mape: 19.6895 - val_mae: 0.0666\n",
      "Epoch 64/100\n",
      "1105/1105 [==============================] - 8s 8ms/step - loss: 0.0016 - mape: 6970.0176 - mae: 0.0307 - val_loss: 0.0090 - val_mape: 19.8635 - val_mae: 0.0663\n",
      "Epoch 65/100\n",
      "1105/1105 [==============================] - 8s 8ms/step - loss: 0.0016 - mape: 5826.5498 - mae: 0.0303 - val_loss: 0.0092 - val_mape: 20.3150 - val_mae: 0.0668\n",
      "Epoch 66/100\n",
      "1105/1105 [==============================] - 8s 8ms/step - loss: 0.0016 - mape: 6367.5649 - mae: 0.0304 - val_loss: 0.0084 - val_mape: 20.0556 - val_mae: 0.0644\n",
      "Epoch 67/100\n",
      "1105/1105 [==============================] - 8s 8ms/step - loss: 0.0015 - mape: 5501.7437 - mae: 0.0301 - val_loss: 0.0096 - val_mape: 20.7535 - val_mae: 0.0693\n",
      "Epoch 68/100\n",
      "1105/1105 [==============================] - 8s 7ms/step - loss: 0.0015 - mape: 6385.1504 - mae: 0.0302 - val_loss: 0.0095 - val_mape: 20.5499 - val_mae: 0.0681\n",
      "Epoch 69/100\n",
      "1105/1105 [==============================] - 8s 7ms/step - loss: 0.0015 - mape: 5368.7778 - mae: 0.0295 - val_loss: 0.0087 - val_mape: 19.6378 - val_mae: 0.0653\n",
      "Epoch 70/100\n",
      "1105/1105 [==============================] - 8s 8ms/step - loss: 0.0015 - mape: 4370.9263 - mae: 0.0295 - val_loss: 0.0097 - val_mape: 20.7153 - val_mae: 0.0695\n",
      "Epoch 71/100\n",
      "1105/1105 [==============================] - 8s 8ms/step - loss: 0.0014 - mape: 4760.1812 - mae: 0.0291 - val_loss: 0.0090 - val_mape: 20.2411 - val_mae: 0.0665\n",
      "Epoch 72/100\n",
      "1105/1105 [==============================] - 8s 7ms/step - loss: 0.0014 - mape: 4557.1592 - mae: 0.0292 - val_loss: 0.0096 - val_mape: 21.2554 - val_mae: 0.0702\n",
      "Epoch 73/100\n",
      "1105/1105 [==============================] - 8s 8ms/step - loss: 0.0014 - mape: 4193.2021 - mae: 0.0291 - val_loss: 0.0097 - val_mape: 20.2398 - val_mae: 0.0680\n",
      "Epoch 74/100\n",
      "1105/1105 [==============================] - 8s 8ms/step - loss: 0.0014 - mape: 4549.1631 - mae: 0.0286 - val_loss: 0.0098 - val_mape: 21.0955 - val_mae: 0.0708\n",
      "Epoch 75/100\n",
      "1105/1105 [==============================] - 8s 7ms/step - loss: 0.0014 - mape: 4670.5728 - mae: 0.0284 - val_loss: 0.0095 - val_mape: 20.6303 - val_mae: 0.0684\n",
      "Epoch 76/100\n",
      "1105/1105 [==============================] - 8s 7ms/step - loss: 0.0014 - mape: 4339.8169 - mae: 0.0283 - val_loss: 0.0092 - val_mape: 19.9166 - val_mae: 0.0657\n",
      "Epoch 77/100\n",
      "1105/1105 [==============================] - 9s 8ms/step - loss: 0.0014 - mape: 3644.2634 - mae: 0.0283 - val_loss: 0.0099 - val_mape: 21.3539 - val_mae: 0.0703\n",
      "Epoch 78/100\n",
      "1105/1105 [==============================] - 9s 8ms/step - loss: 0.0013 - mape: 3052.3948 - mae: 0.0277 - val_loss: 0.0102 - val_mape: 21.5061 - val_mae: 0.0719\n",
      "Epoch 79/100\n",
      "1105/1105 [==============================] - 8s 7ms/step - loss: 0.0013 - mape: 4296.8828 - mae: 0.0276 - val_loss: 0.0113 - val_mape: 22.5861 - val_mae: 0.0756\n",
      "Epoch 80/100\n",
      "1105/1105 [==============================] - 8s 7ms/step - loss: 0.0013 - mape: 3212.7319 - mae: 0.0275 - val_loss: 0.0097 - val_mape: 20.6065 - val_mae: 0.0691\n",
      "Epoch 81/100\n",
      "1105/1105 [==============================] - 8s 7ms/step - loss: 0.0013 - mape: 3396.9602 - mae: 0.0274 - val_loss: 0.0092 - val_mape: 20.6643 - val_mae: 0.0683\n",
      "Epoch 82/100\n",
      "1105/1105 [==============================] - 8s 7ms/step - loss: 0.0012 - mape: 3418.5527 - mae: 0.0270 - val_loss: 0.0089 - val_mape: 21.1776 - val_mae: 0.0674\n",
      "Epoch 83/100\n",
      "1105/1105 [==============================] - 8s 7ms/step - loss: 0.0012 - mape: 2874.1528 - mae: 0.0270 - val_loss: 0.0087 - val_mape: 20.4151 - val_mae: 0.0658\n",
      "Epoch 84/100\n",
      "1105/1105 [==============================] - 8s 8ms/step - loss: 0.0012 - mape: 3099.1868 - mae: 0.0268 - val_loss: 0.0094 - val_mape: 21.3555 - val_mae: 0.0687\n",
      "Epoch 85/100\n",
      "1105/1105 [==============================] - 8s 7ms/step - loss: 0.0012 - mape: 3195.1086 - mae: 0.0265 - val_loss: 0.0100 - val_mape: 22.4009 - val_mae: 0.0721\n",
      "Epoch 86/100\n",
      "1105/1105 [==============================] - 8s 7ms/step - loss: 0.0012 - mape: 2536.0000 - mae: 0.0267 - val_loss: 0.0102 - val_mape: 22.0931 - val_mae: 0.0722\n",
      "Epoch 87/100\n",
      "1105/1105 [==============================] - 8s 7ms/step - loss: 0.0012 - mape: 3403.1294 - mae: 0.0266 - val_loss: 0.0093 - val_mape: 20.8157 - val_mae: 0.0681\n",
      "Epoch 88/100\n",
      "1105/1105 [==============================] - 8s 7ms/step - loss: 0.0012 - mape: 3218.6531 - mae: 0.0261 - val_loss: 0.0099 - val_mape: 21.3378 - val_mae: 0.0692\n",
      "Epoch 89/100\n",
      "1105/1105 [==============================] - 8s 7ms/step - loss: 0.0011 - mape: 3074.6641 - mae: 0.0259 - val_loss: 0.0092 - val_mape: 21.0787 - val_mae: 0.0673\n",
      "Epoch 90/100\n",
      "1105/1105 [==============================] - 8s 7ms/step - loss: 0.0011 - mape: 3704.8552 - mae: 0.0258 - val_loss: 0.0097 - val_mape: 22.7244 - val_mae: 0.0702\n",
      "Epoch 91/100\n",
      "1105/1105 [==============================] - 8s 7ms/step - loss: 0.0011 - mape: 3429.3186 - mae: 0.0258 - val_loss: 0.0101 - val_mape: 22.5669 - val_mae: 0.0715\n",
      "Epoch 92/100\n",
      "1105/1105 [==============================] - 8s 7ms/step - loss: 0.0011 - mape: 3441.3647 - mae: 0.0257 - val_loss: 0.0099 - val_mape: 21.8434 - val_mae: 0.0704\n",
      "Epoch 93/100\n",
      "1105/1105 [==============================] - 8s 7ms/step - loss: 0.0011 - mape: 2891.9717 - mae: 0.0253 - val_loss: 0.0103 - val_mape: 22.7136 - val_mae: 0.0722\n",
      "Epoch 94/100\n",
      "1105/1105 [==============================] - 8s 7ms/step - loss: 0.0011 - mape: 2842.9607 - mae: 0.0253 - val_loss: 0.0103 - val_mape: 23.0321 - val_mae: 0.0728\n",
      "Epoch 95/100\n"
     ]
    },
    {
     "name": "stdout",
     "output_type": "stream",
     "text": [
      "1105/1105 [==============================] - 8s 7ms/step - loss: 0.0011 - mape: 2363.7012 - mae: 0.0250 - val_loss: 0.0094 - val_mape: 21.7541 - val_mae: 0.0690\n",
      "Epoch 96/100\n",
      "1105/1105 [==============================] - 8s 7ms/step - loss: 0.0011 - mape: 2810.0247 - mae: 0.0249 - val_loss: 0.0099 - val_mape: 22.4739 - val_mae: 0.0714\n",
      "Epoch 97/100\n",
      "1105/1105 [==============================] - 8s 7ms/step - loss: 0.0011 - mape: 3665.3530 - mae: 0.0254 - val_loss: 0.0096 - val_mape: 21.9186 - val_mae: 0.0696\n",
      "Epoch 98/100\n",
      "1105/1105 [==============================] - 8s 7ms/step - loss: 0.0010 - mape: 2397.6565 - mae: 0.0247 - val_loss: 0.0098 - val_mape: 22.0216 - val_mae: 0.0700\n",
      "Epoch 99/100\n",
      "1105/1105 [==============================] - 8s 7ms/step - loss: 0.0010 - mape: 3617.1990 - mae: 0.0247 - val_loss: 0.0093 - val_mape: 21.5415 - val_mae: 0.0680\n",
      "Epoch 100/100\n",
      "1105/1105 [==============================] - 8s 7ms/step - loss: 0.0010 - mape: 2807.1023 - mae: 0.0245 - val_loss: 0.0102 - val_mape: 22.7824 - val_mae: 0.0718\n"
     ]
    },
    {
     "data": {
      "text/plain": [
       "<keras.callbacks.History at 0x202d643a7f0>"
      ]
     },
     "execution_count": 22,
     "metadata": {},
     "output_type": "execute_result"
    }
   ],
   "source": [
    "model.fit(X_train, Y_train, epochs= epochs, batch_size= batchSize, verbose= 1, shuffle= True, validation_data= (X_valid, Y_valid))"
   ]
  },
  {
   "cell_type": "code",
   "execution_count": 23,
   "id": "cd839153",
   "metadata": {},
   "outputs": [
    {
     "name": "stdout",
     "output_type": "stream",
     "text": [
      "Total execution time in seconds: 844.007395029068\n"
     ]
    }
   ],
   "source": [
    "calcExecTime = (time.time() - startTime)\n",
    "print('Total execution time in seconds: ' + str(calcExecTime))"
   ]
  },
  {
   "cell_type": "markdown",
   "id": "72aafa74",
   "metadata": {},
   "source": [
    "### MAKING PREDICTIONS AND GENERATING RESULTS"
   ]
  },
  {
   "cell_type": "code",
   "execution_count": 24,
   "id": "259bfb49",
   "metadata": {},
   "outputs": [
    {
     "name": "stdout",
     "output_type": "stream",
     "text": [
      "6/6 [==============================] - 1s 6ms/step\n"
     ]
    }
   ],
   "source": [
    "predictions = model.predict(X_test)"
   ]
  },
  {
   "cell_type": "code",
   "execution_count": 25,
   "id": "2912d431",
   "metadata": {},
   "outputs": [
    {
     "data": {
      "text/plain": [
       "array([0.23130906, 0.19442303, 0.18412563, ..., 0.47949338, 0.4316701 ,\n",
       "       0.39298368], dtype=float32)"
      ]
     },
     "execution_count": 25,
     "metadata": {},
     "output_type": "execute_result"
    }
   ],
   "source": [
    "predArr = predictions.reshape(predictions.shape[0] * predictions.shape[1], predictions.shape[2]).ravel()\n",
    "predArr"
   ]
  },
  {
   "cell_type": "code",
   "execution_count": 26,
   "id": "b01889f2",
   "metadata": {},
   "outputs": [
    {
     "data": {
      "text/plain": [
       "array([0.45526916, 0.41691211, 0.38233674, ..., 0.47147637, 0.43401972,\n",
       "       0.40412643])"
      ]
     },
     "execution_count": 26,
     "metadata": {},
     "output_type": "execute_result"
    }
   ],
   "source": [
    "Y_testArr = Y_test.reshape(Y_test.shape[0] * Y_test.shape[1], Y_test.shape[2]).ravel()\n",
    "Y_testArr"
   ]
  },
  {
   "cell_type": "code",
   "execution_count": 27,
   "id": "799c97e8",
   "metadata": {},
   "outputs": [],
   "source": [
    "def inverse_transform(df):\n",
    "    column_names = df.columns\n",
    "    for col in column_names:\n",
    "        df[col] = ValScaler.inverse_transform(df[[col]]) \n",
    "    return df"
   ]
  },
  {
   "cell_type": "code",
   "execution_count": 28,
   "id": "afa81e30",
   "metadata": {},
   "outputs": [
    {
     "data": {
      "text/html": [
       "<div>\n",
       "<style scoped>\n",
       "    .dataframe tbody tr th:only-of-type {\n",
       "        vertical-align: middle;\n",
       "    }\n",
       "\n",
       "    .dataframe tbody tr th {\n",
       "        vertical-align: top;\n",
       "    }\n",
       "\n",
       "    .dataframe thead th {\n",
       "        text-align: right;\n",
       "    }\n",
       "</style>\n",
       "<table border=\"1\" class=\"dataframe\">\n",
       "  <thead>\n",
       "    <tr style=\"text-align: right;\">\n",
       "      <th></th>\n",
       "      <th>Values</th>\n",
       "      <th>Predictions</th>\n",
       "    </tr>\n",
       "  </thead>\n",
       "  <tbody>\n",
       "    <tr>\n",
       "      <th>0</th>\n",
       "      <td>338.3</td>\n",
       "      <td>213.933029</td>\n",
       "    </tr>\n",
       "    <tr>\n",
       "      <th>1</th>\n",
       "      <td>317.0</td>\n",
       "      <td>193.449905</td>\n",
       "    </tr>\n",
       "    <tr>\n",
       "      <th>2</th>\n",
       "      <td>297.8</td>\n",
       "      <td>187.731659</td>\n",
       "    </tr>\n",
       "    <tr>\n",
       "      <th>3</th>\n",
       "      <td>296.2</td>\n",
       "      <td>189.875168</td>\n",
       "    </tr>\n",
       "    <tr>\n",
       "      <th>4</th>\n",
       "      <td>292.7</td>\n",
       "      <td>198.539093</td>\n",
       "    </tr>\n",
       "    <tr>\n",
       "      <th>...</th>\n",
       "      <td>...</td>\n",
       "      <td>...</td>\n",
       "    </tr>\n",
       "    <tr>\n",
       "      <th>4363</th>\n",
       "      <td>385.7</td>\n",
       "      <td>388.185028</td>\n",
       "    </tr>\n",
       "    <tr>\n",
       "      <th>4364</th>\n",
       "      <td>366.2</td>\n",
       "      <td>373.764008</td>\n",
       "    </tr>\n",
       "    <tr>\n",
       "      <th>4365</th>\n",
       "      <td>347.3</td>\n",
       "      <td>351.751923</td>\n",
       "    </tr>\n",
       "    <tr>\n",
       "      <th>4366</th>\n",
       "      <td>326.5</td>\n",
       "      <td>325.195221</td>\n",
       "    </tr>\n",
       "    <tr>\n",
       "      <th>4367</th>\n",
       "      <td>309.9</td>\n",
       "      <td>303.712341</td>\n",
       "    </tr>\n",
       "  </tbody>\n",
       "</table>\n",
       "<p>4368 rows × 2 columns</p>\n",
       "</div>"
      ],
      "text/plain": [
       "      Values  Predictions\n",
       "0      338.3   213.933029\n",
       "1      317.0   193.449905\n",
       "2      297.8   187.731659\n",
       "3      296.2   189.875168\n",
       "4      292.7   198.539093\n",
       "...      ...          ...\n",
       "4363   385.7   388.185028\n",
       "4364   366.2   373.764008\n",
       "4365   347.3   351.751923\n",
       "4366   326.5   325.195221\n",
       "4367   309.9   303.712341\n",
       "\n",
       "[4368 rows x 2 columns]"
      ]
     },
     "execution_count": 28,
     "metadata": {},
     "output_type": "execute_result"
    }
   ],
   "source": [
    "comparisionDf = pd.DataFrame(data= {\"Values\": Y_testArr, \"Predictions\": predArr})\n",
    "comparisionDf = inverse_transform(comparisionDf)\n",
    "comparisionDf"
   ]
  },
  {
   "cell_type": "code",
   "execution_count": 29,
   "id": "88222bae",
   "metadata": {},
   "outputs": [
    {
     "data": {
      "text/plain": [
       "9.370008017473747"
      ]
     },
     "execution_count": 29,
     "metadata": {},
     "output_type": "execute_result"
    }
   ],
   "source": [
    "mape(comparisionDf[\"Values\"], comparisionDf[\"Predictions\"])"
   ]
  }
 ],
 "metadata": {
  "kernelspec": {
   "display_name": "Python 3 (ipykernel)",
   "language": "python",
   "name": "python3"
  },
  "language_info": {
   "codemirror_mode": {
    "name": "ipython",
    "version": 3
   },
   "file_extension": ".py",
   "mimetype": "text/x-python",
   "name": "python",
   "nbconvert_exporter": "python",
   "pygments_lexer": "ipython3",
   "version": "3.9.12"
  }
 },
 "nbformat": 4,
 "nbformat_minor": 5
}
