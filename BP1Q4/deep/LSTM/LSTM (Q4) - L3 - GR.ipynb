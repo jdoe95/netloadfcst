{
 "cells": [
  {
   "cell_type": "code",
   "execution_count": 1,
   "id": "5f61b29f",
   "metadata": {},
   "outputs": [
    {
     "name": "stdout",
     "output_type": "stream",
     "text": [
      "Num GPUs Available:  1\n"
     ]
    }
   ],
   "source": [
    "import pandas as pd\n",
    "import numpy as np\n",
    "import os\n",
    "import matplotlib.pyplot as plt\n",
    "from datetime import datetime\n",
    "from sklearn.preprocessing import MinMaxScaler, RobustScaler, StandardScaler\n",
    "import time\n",
    "\n",
    "import tensorflow as tf\n",
    "tf.random.set_seed(42)\n",
    "\n",
    "def mape(y_true, y_pred):\n",
    "    y_true, y_pred = np.array(y_true), np.array(y_pred)\n",
    "    return np.mean(np.abs((y_true - y_pred) / max(y_true))) * 100\n",
    "\n",
    "def RMSELoss(yhat,y):\n",
    "    return torch.sqrt(torch.mean((yhat-y)**2))\n",
    "\n",
    "print(\"Num GPUs Available: \", len(tf.config.list_physical_devices('GPU')))"
   ]
  },
  {
   "cell_type": "code",
   "execution_count": 2,
   "id": "cea0abe2",
   "metadata": {},
   "outputs": [
    {
     "name": "stdout",
     "output_type": "stream",
     "text": [
      "['AT.csv', 'BE.csv', 'BG.csv', 'CH.csv', 'CZ.csv', 'DK.csv', 'ES.csv', 'FR.csv', 'GR.csv', 'IT.csv', 'NL.csv', 'PT.csv', 'SI.csv', 'SK.csv']\n"
     ]
    }
   ],
   "source": [
    "# Specifying the path of file\n",
    "path= r\"C:\\Users\\sashah8\\OneDrive - North Carolina State University\\Desktop\\Q4\\Data\\L3\\data_cleaned\"\n",
    "\n",
    "# Listing just the required files\n",
    "fileList = os.listdir(path)\n",
    "fileList.remove(\"Date.csv\")\n",
    "\n",
    "# Previewing the required file names\n",
    "print(fileList)"
   ]
  },
  {
   "cell_type": "code",
   "execution_count": 3,
   "id": "a6fe9396",
   "metadata": {},
   "outputs": [
    {
     "data": {
      "text/html": [
       "<div>\n",
       "<style scoped>\n",
       "    .dataframe tbody tr th:only-of-type {\n",
       "        vertical-align: middle;\n",
       "    }\n",
       "\n",
       "    .dataframe tbody tr th {\n",
       "        vertical-align: top;\n",
       "    }\n",
       "\n",
       "    .dataframe thead th {\n",
       "        text-align: right;\n",
       "    }\n",
       "</style>\n",
       "<table border=\"1\" class=\"dataframe\">\n",
       "  <thead>\n",
       "    <tr style=\"text-align: right;\">\n",
       "      <th></th>\n",
       "      <th>Demand</th>\n",
       "      <th>Normalized_net</th>\n",
       "      <th>Temperature</th>\n",
       "      <th>DNI</th>\n",
       "      <th>DHI</th>\n",
       "    </tr>\n",
       "  </thead>\n",
       "  <tbody>\n",
       "    <tr>\n",
       "      <th>0</th>\n",
       "      <td>0.00</td>\n",
       "      <td>0.128929</td>\n",
       "      <td>1.248</td>\n",
       "      <td>0.0</td>\n",
       "      <td>0.0</td>\n",
       "    </tr>\n",
       "    <tr>\n",
       "      <th>1</th>\n",
       "      <td>5226.83</td>\n",
       "      <td>0.611315</td>\n",
       "      <td>1.192</td>\n",
       "      <td>0.0</td>\n",
       "      <td>0.0</td>\n",
       "    </tr>\n",
       "    <tr>\n",
       "      <th>2</th>\n",
       "      <td>4987.34</td>\n",
       "      <td>0.589212</td>\n",
       "      <td>1.129</td>\n",
       "      <td>0.0</td>\n",
       "      <td>0.0</td>\n",
       "    </tr>\n",
       "    <tr>\n",
       "      <th>3</th>\n",
       "      <td>4879.48</td>\n",
       "      <td>0.579258</td>\n",
       "      <td>1.040</td>\n",
       "      <td>0.0</td>\n",
       "      <td>0.0</td>\n",
       "    </tr>\n",
       "    <tr>\n",
       "      <th>4</th>\n",
       "      <td>4909.53</td>\n",
       "      <td>0.582031</td>\n",
       "      <td>0.850</td>\n",
       "      <td>0.0</td>\n",
       "      <td>0.0</td>\n",
       "    </tr>\n",
       "    <tr>\n",
       "      <th>...</th>\n",
       "      <td>...</td>\n",
       "      <td>...</td>\n",
       "      <td>...</td>\n",
       "      <td>...</td>\n",
       "      <td>...</td>\n",
       "    </tr>\n",
       "    <tr>\n",
       "      <th>43819</th>\n",
       "      <td>7530.86</td>\n",
       "      <td>0.823954</td>\n",
       "      <td>4.503</td>\n",
       "      <td>0.0</td>\n",
       "      <td>0.0</td>\n",
       "    </tr>\n",
       "    <tr>\n",
       "      <th>43820</th>\n",
       "      <td>6585.61</td>\n",
       "      <td>0.736717</td>\n",
       "      <td>4.342</td>\n",
       "      <td>0.0</td>\n",
       "      <td>0.0</td>\n",
       "    </tr>\n",
       "    <tr>\n",
       "      <th>43821</th>\n",
       "      <td>6108.25</td>\n",
       "      <td>0.692661</td>\n",
       "      <td>4.219</td>\n",
       "      <td>0.0</td>\n",
       "      <td>0.0</td>\n",
       "    </tr>\n",
       "    <tr>\n",
       "      <th>43822</th>\n",
       "      <td>5657.63</td>\n",
       "      <td>0.651074</td>\n",
       "      <td>4.143</td>\n",
       "      <td>0.0</td>\n",
       "      <td>0.0</td>\n",
       "    </tr>\n",
       "    <tr>\n",
       "      <th>43823</th>\n",
       "      <td>5337.38</td>\n",
       "      <td>0.621518</td>\n",
       "      <td>4.128</td>\n",
       "      <td>0.0</td>\n",
       "      <td>0.0</td>\n",
       "    </tr>\n",
       "  </tbody>\n",
       "</table>\n",
       "<p>43824 rows × 5 columns</p>\n",
       "</div>"
      ],
      "text/plain": [
       "        Demand  Normalized_net  Temperature  DNI  DHI\n",
       "0         0.00        0.128929        1.248  0.0  0.0\n",
       "1      5226.83        0.611315        1.192  0.0  0.0\n",
       "2      4987.34        0.589212        1.129  0.0  0.0\n",
       "3      4879.48        0.579258        1.040  0.0  0.0\n",
       "4      4909.53        0.582031        0.850  0.0  0.0\n",
       "...        ...             ...          ...  ...  ...\n",
       "43819  7530.86        0.823954        4.503  0.0  0.0\n",
       "43820  6585.61        0.736717        4.342  0.0  0.0\n",
       "43821  6108.25        0.692661        4.219  0.0  0.0\n",
       "43822  5657.63        0.651074        4.143  0.0  0.0\n",
       "43823  5337.38        0.621518        4.128  0.0  0.0\n",
       "\n",
       "[43824 rows x 5 columns]"
      ]
     },
     "execution_count": 3,
     "metadata": {},
     "output_type": "execute_result"
    }
   ],
   "source": [
    "# Just for previewing the columns\n",
    "pd.read_csv(os.path.join(path, fileList[8]))"
   ]
  },
  {
   "cell_type": "markdown",
   "id": "9ad4906c",
   "metadata": {
    "pycharm": {
     "name": "#%% md\n"
    }
   },
   "source": [
    "### PROCESSING THE DATA"
   ]
  },
  {
   "cell_type": "code",
   "execution_count": 4,
   "id": "f29f6db2",
   "metadata": {},
   "outputs": [
    {
     "data": {
      "text/html": [
       "<div>\n",
       "<style scoped>\n",
       "    .dataframe tbody tr th:only-of-type {\n",
       "        vertical-align: middle;\n",
       "    }\n",
       "\n",
       "    .dataframe tbody tr th {\n",
       "        vertical-align: top;\n",
       "    }\n",
       "\n",
       "    .dataframe thead th {\n",
       "        text-align: right;\n",
       "    }\n",
       "</style>\n",
       "<table border=\"1\" class=\"dataframe\">\n",
       "  <thead>\n",
       "    <tr style=\"text-align: right;\">\n",
       "      <th></th>\n",
       "      <th>Load_GR</th>\n",
       "      <th>Temp_GR</th>\n",
       "    </tr>\n",
       "  </thead>\n",
       "  <tbody>\n",
       "    <tr>\n",
       "      <th>0</th>\n",
       "      <td>0.00</td>\n",
       "      <td>1.248</td>\n",
       "    </tr>\n",
       "    <tr>\n",
       "      <th>1</th>\n",
       "      <td>5226.83</td>\n",
       "      <td>1.192</td>\n",
       "    </tr>\n",
       "    <tr>\n",
       "      <th>2</th>\n",
       "      <td>4987.34</td>\n",
       "      <td>1.129</td>\n",
       "    </tr>\n",
       "    <tr>\n",
       "      <th>3</th>\n",
       "      <td>4879.48</td>\n",
       "      <td>1.040</td>\n",
       "    </tr>\n",
       "    <tr>\n",
       "      <th>4</th>\n",
       "      <td>4909.53</td>\n",
       "      <td>0.850</td>\n",
       "    </tr>\n",
       "    <tr>\n",
       "      <th>...</th>\n",
       "      <td>...</td>\n",
       "      <td>...</td>\n",
       "    </tr>\n",
       "    <tr>\n",
       "      <th>43819</th>\n",
       "      <td>7530.86</td>\n",
       "      <td>4.503</td>\n",
       "    </tr>\n",
       "    <tr>\n",
       "      <th>43820</th>\n",
       "      <td>6585.61</td>\n",
       "      <td>4.342</td>\n",
       "    </tr>\n",
       "    <tr>\n",
       "      <th>43821</th>\n",
       "      <td>6108.25</td>\n",
       "      <td>4.219</td>\n",
       "    </tr>\n",
       "    <tr>\n",
       "      <th>43822</th>\n",
       "      <td>5657.63</td>\n",
       "      <td>4.143</td>\n",
       "    </tr>\n",
       "    <tr>\n",
       "      <th>43823</th>\n",
       "      <td>5337.38</td>\n",
       "      <td>4.128</td>\n",
       "    </tr>\n",
       "  </tbody>\n",
       "</table>\n",
       "<p>43824 rows × 2 columns</p>\n",
       "</div>"
      ],
      "text/plain": [
       "       Load_GR  Temp_GR\n",
       "0         0.00    1.248\n",
       "1      5226.83    1.192\n",
       "2      4987.34    1.129\n",
       "3      4879.48    1.040\n",
       "4      4909.53    0.850\n",
       "...        ...      ...\n",
       "43819  7530.86    4.503\n",
       "43820  6585.61    4.342\n",
       "43821  6108.25    4.219\n",
       "43822  5657.63    4.143\n",
       "43823  5337.38    4.128\n",
       "\n",
       "[43824 rows x 2 columns]"
      ]
     },
     "execution_count": 4,
     "metadata": {},
     "output_type": "execute_result"
    }
   ],
   "source": [
    "# Restricting the load data to a single zone\n",
    "fileName  = fileList[8]\n",
    "\n",
    "zoneData = pd.read_csv(os.path.join(path, fileName), usecols= [\"Demand\", \"Temperature\"])\n",
    "zoneData.columns = [\"Load_\"+str(fileName[:-4]), \"Temp_\"+str(fileName[:-4])]\n",
    "\n",
    "# For fixing one missing row\n",
    "# zoneData = pd.concat([zoneData.loc[[0]], zoneData], axis= 0).reset_index(drop= True)\n",
    "\n",
    "zoneData"
   ]
  },
  {
   "cell_type": "markdown",
   "id": "01cec4bd",
   "metadata": {},
   "source": [
    "### FEATURE ENGINEERING AND SPLITTING INTO TRAIN-TEST SPLIT"
   ]
  },
  {
   "cell_type": "code",
   "execution_count": 5,
   "id": "a1e1e8a3",
   "metadata": {},
   "outputs": [],
   "source": [
    "def lagGenerator(dF, lagList):\n",
    "    dF_temp = dF.filter(regex= \"Load\").copy()\n",
    "    \n",
    "    for i in lagList:\n",
    "        dF_temp.loc[:, \"Lag-\" + str(i)] = dF_temp.iloc[:,[0]].shift(i*24)\n",
    "    \n",
    "    return(dF_temp.filter(regex= \"Lag\"))"
   ]
  },
  {
   "cell_type": "code",
   "execution_count": 6,
   "id": "159a2a82",
   "metadata": {},
   "outputs": [
    {
     "data": {
      "text/html": [
       "<div>\n",
       "<style scoped>\n",
       "    .dataframe tbody tr th:only-of-type {\n",
       "        vertical-align: middle;\n",
       "    }\n",
       "\n",
       "    .dataframe tbody tr th {\n",
       "        vertical-align: top;\n",
       "    }\n",
       "\n",
       "    .dataframe thead th {\n",
       "        text-align: right;\n",
       "    }\n",
       "</style>\n",
       "<table border=\"1\" class=\"dataframe\">\n",
       "  <thead>\n",
       "    <tr style=\"text-align: right;\">\n",
       "      <th></th>\n",
       "      <th>Lag-2</th>\n",
       "      <th>Lag-7</th>\n",
       "    </tr>\n",
       "  </thead>\n",
       "  <tbody>\n",
       "    <tr>\n",
       "      <th>0</th>\n",
       "      <td>NaN</td>\n",
       "      <td>NaN</td>\n",
       "    </tr>\n",
       "    <tr>\n",
       "      <th>1</th>\n",
       "      <td>NaN</td>\n",
       "      <td>NaN</td>\n",
       "    </tr>\n",
       "  </tbody>\n",
       "</table>\n",
       "</div>"
      ],
      "text/plain": [
       "   Lag-2  Lag-7\n",
       "0    NaN    NaN\n",
       "1    NaN    NaN"
      ]
     },
     "execution_count": 6,
     "metadata": {},
     "output_type": "execute_result"
    }
   ],
   "source": [
    "Load_lags = lagGenerator(dF=zoneData, lagList=[2,7])\n",
    "Load_lags.head(2)"
   ]
  },
  {
   "cell_type": "code",
   "execution_count": 7,
   "id": "05896954",
   "metadata": {},
   "outputs": [
    {
     "data": {
      "text/html": [
       "<div>\n",
       "<style scoped>\n",
       "    .dataframe tbody tr th:only-of-type {\n",
       "        vertical-align: middle;\n",
       "    }\n",
       "\n",
       "    .dataframe tbody tr th {\n",
       "        vertical-align: top;\n",
       "    }\n",
       "\n",
       "    .dataframe thead th {\n",
       "        text-align: right;\n",
       "    }\n",
       "</style>\n",
       "<table border=\"1\" class=\"dataframe\">\n",
       "  <thead>\n",
       "    <tr style=\"text-align: right;\">\n",
       "      <th></th>\n",
       "      <th>Load_GR</th>\n",
       "      <th>Temp_GR</th>\n",
       "      <th>Lag-2</th>\n",
       "      <th>Lag-7</th>\n",
       "    </tr>\n",
       "  </thead>\n",
       "  <tbody>\n",
       "    <tr>\n",
       "      <th>0</th>\n",
       "      <td>5869.19</td>\n",
       "      <td>-0.927</td>\n",
       "      <td>5577.53</td>\n",
       "      <td>0.00</td>\n",
       "    </tr>\n",
       "    <tr>\n",
       "      <th>1</th>\n",
       "      <td>5707.95</td>\n",
       "      <td>-0.990</td>\n",
       "      <td>5342.29</td>\n",
       "      <td>5226.83</td>\n",
       "    </tr>\n",
       "    <tr>\n",
       "      <th>2</th>\n",
       "      <td>5552.57</td>\n",
       "      <td>-1.046</td>\n",
       "      <td>5158.07</td>\n",
       "      <td>4987.34</td>\n",
       "    </tr>\n",
       "    <tr>\n",
       "      <th>3</th>\n",
       "      <td>5562.97</td>\n",
       "      <td>-1.198</td>\n",
       "      <td>5151.00</td>\n",
       "      <td>4879.48</td>\n",
       "    </tr>\n",
       "    <tr>\n",
       "      <th>4</th>\n",
       "      <td>6053.18</td>\n",
       "      <td>-1.348</td>\n",
       "      <td>5253.96</td>\n",
       "      <td>4909.53</td>\n",
       "    </tr>\n",
       "    <tr>\n",
       "      <th>...</th>\n",
       "      <td>...</td>\n",
       "      <td>...</td>\n",
       "      <td>...</td>\n",
       "      <td>...</td>\n",
       "    </tr>\n",
       "    <tr>\n",
       "      <th>43651</th>\n",
       "      <td>7530.86</td>\n",
       "      <td>4.503</td>\n",
       "      <td>6812.94</td>\n",
       "      <td>6303.19</td>\n",
       "    </tr>\n",
       "    <tr>\n",
       "      <th>43652</th>\n",
       "      <td>6585.61</td>\n",
       "      <td>4.342</td>\n",
       "      <td>6366.50</td>\n",
       "      <td>5662.10</td>\n",
       "    </tr>\n",
       "    <tr>\n",
       "      <th>43653</th>\n",
       "      <td>6108.25</td>\n",
       "      <td>4.219</td>\n",
       "      <td>5939.61</td>\n",
       "      <td>5237.44</td>\n",
       "    </tr>\n",
       "    <tr>\n",
       "      <th>43654</th>\n",
       "      <td>5657.63</td>\n",
       "      <td>4.143</td>\n",
       "      <td>5327.10</td>\n",
       "      <td>4764.68</td>\n",
       "    </tr>\n",
       "    <tr>\n",
       "      <th>43655</th>\n",
       "      <td>5337.38</td>\n",
       "      <td>4.128</td>\n",
       "      <td>4840.37</td>\n",
       "      <td>4337.98</td>\n",
       "    </tr>\n",
       "  </tbody>\n",
       "</table>\n",
       "<p>43656 rows × 4 columns</p>\n",
       "</div>"
      ],
      "text/plain": [
       "       Load_GR  Temp_GR    Lag-2    Lag-7\n",
       "0      5869.19   -0.927  5577.53     0.00\n",
       "1      5707.95   -0.990  5342.29  5226.83\n",
       "2      5552.57   -1.046  5158.07  4987.34\n",
       "3      5562.97   -1.198  5151.00  4879.48\n",
       "4      6053.18   -1.348  5253.96  4909.53\n",
       "...        ...      ...      ...      ...\n",
       "43651  7530.86    4.503  6812.94  6303.19\n",
       "43652  6585.61    4.342  6366.50  5662.10\n",
       "43653  6108.25    4.219  5939.61  5237.44\n",
       "43654  5657.63    4.143  5327.10  4764.68\n",
       "43655  5337.38    4.128  4840.37  4337.98\n",
       "\n",
       "[43656 rows x 4 columns]"
      ]
     },
     "execution_count": 7,
     "metadata": {},
     "output_type": "execute_result"
    }
   ],
   "source": [
    "dataDf = pd.concat([zoneData, Load_lags], axis= 1).dropna(axis= 0).reset_index(drop= True)\n",
    "dataDf"
   ]
  },
  {
   "cell_type": "code",
   "execution_count": 8,
   "id": "6ad25321",
   "metadata": {},
   "outputs": [],
   "source": [
    "# Setting the train-test split ratio\n",
    "ratio = 0.1"
   ]
  },
  {
   "cell_type": "code",
   "execution_count": 9,
   "id": "3c08d963",
   "metadata": {},
   "outputs": [],
   "source": [
    "Num_train, Num_test = int(len(dataDf)/24 * (1 - ratio)) * 24, int(len(dataDf)/24 * ratio) * 24"
   ]
  },
  {
   "cell_type": "code",
   "execution_count": 10,
   "id": "cbe069ff",
   "metadata": {},
   "outputs": [],
   "source": [
    "# Splitting the data into train and test\n",
    "data_train, data_test = dataDf[:Num_train], dataDf[Num_train:]"
   ]
  },
  {
   "cell_type": "code",
   "execution_count": 11,
   "id": "d84e15c4",
   "metadata": {},
   "outputs": [],
   "source": [
    "Num_train, Num_valid = int(len(data_train)/24 * (1 - ratio)) * 24, int(len(data_train)/24 * ratio) * 24"
   ]
  },
  {
   "cell_type": "code",
   "execution_count": 12,
   "id": "c17d1723",
   "metadata": {},
   "outputs": [],
   "source": [
    "# Splitting the data into train and test\n",
    "data_train, data_valid = data_train[:Num_train], data_train[Num_train:]"
   ]
  },
  {
   "cell_type": "markdown",
   "id": "88d32011",
   "metadata": {},
   "source": [
    "### SPLITTING INTO X AND Y PART WITH SEQUENCE BATCHING"
   ]
  },
  {
   "cell_type": "code",
   "execution_count": 13,
   "id": "4ba286ca",
   "metadata": {},
   "outputs": [],
   "source": [
    "X_train_df, Y_train_df = data_train.iloc[:, 1:], data_train.iloc[:, :1]\n",
    "\n",
    "X_valid_df, Y_valid_df = data_valid.iloc[:, 1:], data_valid.iloc[:, :1]\n",
    "\n",
    "X_test_df, Y_test_df = data_test.iloc[:, 1:], data_test.iloc[:, :1]"
   ]
  },
  {
   "cell_type": "code",
   "execution_count": 14,
   "id": "ef1d9079",
   "metadata": {},
   "outputs": [],
   "source": [
    "# Preparing the scaler\n",
    "ValScaler = MinMaxScaler()\n",
    "\n",
    "X_train = ValScaler.fit_transform(X_train_df)\n",
    "X_valid = ValScaler.transform(X_valid_df)\n",
    "X_test = ValScaler.transform(X_test_df)\n",
    "\n",
    "Y_train = ValScaler.fit_transform(Y_train_df)\n",
    "Y_valid = ValScaler.transform(Y_valid_df)\n",
    "Y_test = ValScaler.transform(Y_test_df)"
   ]
  },
  {
   "cell_type": "code",
   "execution_count": 15,
   "id": "43594401",
   "metadata": {},
   "outputs": [],
   "source": [
    "def splitData(dataset):\n",
    "    data = np.array(np.split(dataset, len(dataset)/24))\n",
    "    return data"
   ]
  },
  {
   "cell_type": "code",
   "execution_count": 16,
   "id": "300696b2",
   "metadata": {},
   "outputs": [],
   "source": [
    "def supervisedSet(X_part, Y_part, steps= 24):\n",
    "    X_array, Y_array = np.array(X_part), np.array(Y_part)\n",
    "    X, Y = [], []\n",
    "    \n",
    "    for i in range(len(X_array)):\n",
    "        endIdx = i + steps\n",
    "        \n",
    "        if endIdx > len(X_array):\n",
    "            break\n",
    "        \n",
    "        batch_X, batch_Y = X_array[i:endIdx], Y_array[i:endIdx]\n",
    "        \n",
    "        X.append(batch_X)\n",
    "        Y.append(batch_Y)\n",
    "        \n",
    "    return np.array(X), np.array(Y)"
   ]
  },
  {
   "cell_type": "code",
   "execution_count": 17,
   "id": "fc9cd97d",
   "metadata": {},
   "outputs": [],
   "source": [
    "X_train, Y_train = supervisedSet(X_train, Y_train)\n",
    "\n",
    "X_valid, Y_valid = splitData(X_valid), splitData(Y_valid)\n",
    "\n",
    "X_test, Y_test = splitData(X_test), splitData(Y_test)"
   ]
  },
  {
   "cell_type": "markdown",
   "id": "a2a6bf32",
   "metadata": {},
   "source": [
    "### WORKING ON THE MODEL"
   ]
  },
  {
   "cell_type": "code",
   "execution_count": 18,
   "id": "ff71a98c",
   "metadata": {},
   "outputs": [],
   "source": [
    "epochs = 100\n",
    "batchSize = 32"
   ]
  },
  {
   "cell_type": "code",
   "execution_count": 19,
   "id": "8d600c17",
   "metadata": {},
   "outputs": [],
   "source": [
    "# Encoder-decoder architecture [tanh required to use tensorflow on gpu]\n",
    "model = tf.keras.Sequential([\n",
    "    tf.keras.layers.LSTM(units= 128, activation= \"tanh\", input_shape= (X_train.shape[1], X_train.shape[2]), dropout= 0.2),\n",
    "    tf.keras.layers.RepeatVector(Y_train.shape[1]),\n",
    "    tf.keras.layers.LSTM(units= 128, activation= \"tanh\", return_sequences= True, dropout= 0.2),\n",
    "    tf.keras.layers.TimeDistributed(tf.keras.layers.Dense(units= 128, activation= \"relu\")),\n",
    "    tf.keras.layers.Dropout(0.2),\n",
    "    tf.keras.layers.TimeDistributed(tf.keras.layers.Dense(units= 1))\n",
    "])\n",
    "\n",
    "model.compile(loss= \"mse\", optimizer= \"adam\",  metrics= ['mape', 'mae'])"
   ]
  },
  {
   "cell_type": "code",
   "execution_count": 20,
   "id": "a05c033a",
   "metadata": {},
   "outputs": [],
   "source": [
    "# model = tf.keras.Sequential([\n",
    "#     tf.keras.layers.LSTM(units= 256, activation= \"tanh\", input_shape= (X_train.shape[1], X_train.shape[2])),\n",
    "#     tf.keras.layers.Dense(units= 128, activation= \"tanh\"),\n",
    "#     tf.keras.layers.Dense(units= 1)\n",
    "# ])\n",
    "\n",
    "# model.compile(loss= \"mse\", optimizer= \"adam\",  metrics= ['mape', 'mae'])"
   ]
  },
  {
   "cell_type": "code",
   "execution_count": 21,
   "id": "c9390383",
   "metadata": {},
   "outputs": [],
   "source": [
    "# Storing the start time of model fitting process\n",
    "startTime = time.time()"
   ]
  },
  {
   "cell_type": "code",
   "execution_count": 22,
   "id": "e526e3ed",
   "metadata": {},
   "outputs": [
    {
     "name": "stdout",
     "output_type": "stream",
     "text": [
      "Epoch 1/100\n",
      "1105/1105 [==============================] - 28s 18ms/step - loss: 0.0112 - mape: 16333.5156 - mae: 0.0809 - val_loss: 0.0058 - val_mape: 9.5166 - val_mae: 0.0609\n",
      "Epoch 2/100\n",
      "1105/1105 [==============================] - 19s 17ms/step - loss: 0.0073 - mape: 16059.9873 - mae: 0.0674 - val_loss: 0.0031 - val_mape: 7.5206 - val_mae: 0.0459\n",
      "Epoch 3/100\n",
      "1105/1105 [==============================] - 19s 17ms/step - loss: 0.0042 - mape: 15363.1035 - mae: 0.0495 - val_loss: 0.0086 - val_mape: 11.3239 - val_mae: 0.0736\n",
      "Epoch 4/100\n",
      "1105/1105 [==============================] - 19s 17ms/step - loss: 0.0033 - mape: 15025.0957 - mae: 0.0427 - val_loss: 0.0069 - val_mape: 10.3606 - val_mae: 0.0678\n",
      "Epoch 5/100\n",
      "1105/1105 [==============================] - 19s 18ms/step - loss: 0.0028 - mape: 15112.0732 - mae: 0.0390 - val_loss: 0.0086 - val_mape: 11.3095 - val_mae: 0.0743\n",
      "Epoch 6/100\n",
      "1105/1105 [==============================] - 19s 18ms/step - loss: 0.0026 - mape: 14767.5566 - mae: 0.0370 - val_loss: 0.0053 - val_mape: 8.8054 - val_mae: 0.0571\n",
      "Epoch 7/100\n",
      "1105/1105 [==============================] - 20s 18ms/step - loss: 0.0024 - mape: 14985.9893 - mae: 0.0358 - val_loss: 0.0060 - val_mape: 9.0276 - val_mae: 0.0589\n",
      "Epoch 8/100\n",
      "1105/1105 [==============================] - 20s 18ms/step - loss: 0.0024 - mape: 15076.5205 - mae: 0.0356 - val_loss: 0.0043 - val_mape: 7.7389 - val_mae: 0.0501\n",
      "Epoch 9/100\n",
      "1105/1105 [==============================] - 20s 18ms/step - loss: 0.0023 - mape: 14870.4893 - mae: 0.0345 - val_loss: 0.0049 - val_mape: 8.6031 - val_mae: 0.0554\n",
      "Epoch 10/100\n",
      "1105/1105 [==============================] - 20s 18ms/step - loss: 0.0022 - mape: 14873.5586 - mae: 0.0334 - val_loss: 0.0073 - val_mape: 10.6722 - val_mae: 0.0695\n",
      "Epoch 11/100\n",
      "1105/1105 [==============================] - 20s 18ms/step - loss: 0.0021 - mape: 14845.1611 - mae: 0.0329 - val_loss: 0.0044 - val_mape: 8.2515 - val_mae: 0.0522\n",
      "Epoch 12/100\n",
      "1105/1105 [==============================] - 20s 18ms/step - loss: 0.0020 - mape: 14930.2197 - mae: 0.0320 - val_loss: 0.0078 - val_mape: 11.6415 - val_mae: 0.0751\n",
      "Epoch 13/100\n",
      "1105/1105 [==============================] - 20s 18ms/step - loss: 0.0020 - mape: 14779.0439 - mae: 0.0315 - val_loss: 0.0061 - val_mape: 10.1284 - val_mae: 0.0650\n",
      "Epoch 14/100\n",
      "1105/1105 [==============================] - 20s 18ms/step - loss: 0.0019 - mape: 14920.2930 - mae: 0.0309 - val_loss: 0.0052 - val_mape: 9.1393 - val_mae: 0.0577\n",
      "Epoch 15/100\n",
      "1105/1105 [==============================] - 19s 18ms/step - loss: 0.0019 - mape: 14784.3271 - mae: 0.0301 - val_loss: 0.0047 - val_mape: 8.4071 - val_mae: 0.0535\n",
      "Epoch 16/100\n",
      "1105/1105 [==============================] - 20s 18ms/step - loss: 0.0018 - mape: 14628.8477 - mae: 0.0298 - val_loss: 0.0053 - val_mape: 9.3033 - val_mae: 0.0596\n",
      "Epoch 17/100\n",
      "1105/1105 [==============================] - 19s 18ms/step - loss: 0.0018 - mape: 14693.9951 - mae: 0.0293 - val_loss: 0.0068 - val_mape: 10.8754 - val_mae: 0.0695\n",
      "Epoch 18/100\n",
      "1105/1105 [==============================] - 19s 18ms/step - loss: 0.0017 - mape: 14879.2832 - mae: 0.0288 - val_loss: 0.0058 - val_mape: 9.8591 - val_mae: 0.0631\n",
      "Epoch 19/100\n",
      "1105/1105 [==============================] - 18s 17ms/step - loss: 0.0017 - mape: 14689.7988 - mae: 0.0285 - val_loss: 0.0052 - val_mape: 9.3117 - val_mae: 0.0589\n",
      "Epoch 20/100\n",
      "1105/1105 [==============================] - 18s 16ms/step - loss: 0.0017 - mape: 14704.2217 - mae: 0.0283 - val_loss: 0.0059 - val_mape: 9.6733 - val_mae: 0.0622\n",
      "Epoch 21/100\n",
      "1105/1105 [==============================] - 18s 16ms/step - loss: 0.0016 - mape: 14720.2021 - mae: 0.0278 - val_loss: 0.0063 - val_mape: 10.3070 - val_mae: 0.0658\n",
      "Epoch 22/100\n",
      "1105/1105 [==============================] - 18s 16ms/step - loss: 0.0016 - mape: 14563.5850 - mae: 0.0276 - val_loss: 0.0069 - val_mape: 10.5528 - val_mae: 0.0679\n",
      "Epoch 23/100\n",
      "1105/1105 [==============================] - 18s 16ms/step - loss: 0.0016 - mape: 14829.3838 - mae: 0.0275 - val_loss: 0.0057 - val_mape: 9.4198 - val_mae: 0.0604\n",
      "Epoch 24/100\n",
      "1105/1105 [==============================] - 18s 16ms/step - loss: 0.0016 - mape: 14597.9844 - mae: 0.0270 - val_loss: 0.0050 - val_mape: 8.8904 - val_mae: 0.0564\n",
      "Epoch 25/100\n",
      "1105/1105 [==============================] - 18s 16ms/step - loss: 0.0015 - mape: 14476.2520 - mae: 0.0268 - val_loss: 0.0053 - val_mape: 9.0682 - val_mae: 0.0580\n",
      "Epoch 26/100\n",
      "1105/1105 [==============================] - 18s 16ms/step - loss: 0.0015 - mape: 14555.9707 - mae: 0.0265 - val_loss: 0.0063 - val_mape: 10.1389 - val_mae: 0.0643\n",
      "Epoch 27/100\n",
      "1105/1105 [==============================] - 19s 17ms/step - loss: 0.0015 - mape: 14454.0518 - mae: 0.0266 - val_loss: 0.0053 - val_mape: 9.0433 - val_mae: 0.0577\n",
      "Epoch 28/100\n",
      "1105/1105 [==============================] - 19s 17ms/step - loss: 0.0015 - mape: 14315.9854 - mae: 0.0261 - val_loss: 0.0066 - val_mape: 10.2855 - val_mae: 0.0653\n",
      "Epoch 29/100\n",
      "1105/1105 [==============================] - 19s 17ms/step - loss: 0.0015 - mape: 14428.8730 - mae: 0.0261 - val_loss: 0.0056 - val_mape: 9.3606 - val_mae: 0.0594\n",
      "Epoch 30/100\n",
      "1105/1105 [==============================] - 19s 17ms/step - loss: 0.0014 - mape: 14371.2559 - mae: 0.0258 - val_loss: 0.0066 - val_mape: 10.3075 - val_mae: 0.0666\n",
      "Epoch 31/100\n",
      "1105/1105 [==============================] - 19s 17ms/step - loss: 0.0014 - mape: 14403.2363 - mae: 0.0257 - val_loss: 0.0045 - val_mape: 8.0675 - val_mae: 0.0508\n",
      "Epoch 32/100\n",
      "1105/1105 [==============================] - 19s 17ms/step - loss: 0.0014 - mape: 14301.0732 - mae: 0.0258 - val_loss: 0.0061 - val_mape: 9.8187 - val_mae: 0.0626\n",
      "Epoch 33/100\n",
      "1105/1105 [==============================] - 19s 17ms/step - loss: 0.0014 - mape: 14323.7646 - mae: 0.0254 - val_loss: 0.0053 - val_mape: 8.8088 - val_mae: 0.0560\n",
      "Epoch 34/100\n",
      "1105/1105 [==============================] - 20s 18ms/step - loss: 0.0014 - mape: 14303.8447 - mae: 0.0252 - val_loss: 0.0054 - val_mape: 9.0689 - val_mae: 0.0581\n",
      "Epoch 35/100\n",
      "1105/1105 [==============================] - 20s 18ms/step - loss: 0.0014 - mape: 14155.2344 - mae: 0.0251 - val_loss: 0.0078 - val_mape: 10.9362 - val_mae: 0.0712\n",
      "Epoch 36/100\n",
      "1105/1105 [==============================] - 20s 18ms/step - loss: 0.0014 - mape: 13992.6797 - mae: 0.0250 - val_loss: 0.0056 - val_mape: 9.1261 - val_mae: 0.0580\n",
      "Epoch 37/100\n",
      "1105/1105 [==============================] - 20s 18ms/step - loss: 0.0014 - mape: 13908.2441 - mae: 0.0249 - val_loss: 0.0075 - val_mape: 10.8677 - val_mae: 0.0704\n",
      "Epoch 38/100\n",
      "1105/1105 [==============================] - 20s 18ms/step - loss: 0.0013 - mape: 13978.3955 - mae: 0.0248 - val_loss: 0.0081 - val_mape: 11.0635 - val_mae: 0.0709\n",
      "Epoch 39/100\n",
      "1105/1105 [==============================] - 20s 18ms/step - loss: 0.0013 - mape: 14084.6475 - mae: 0.0246 - val_loss: 0.0067 - val_mape: 10.2115 - val_mae: 0.0658\n",
      "Epoch 40/100\n",
      "1105/1105 [==============================] - 20s 18ms/step - loss: 0.0013 - mape: 13893.8623 - mae: 0.0245 - val_loss: 0.0083 - val_mape: 10.8403 - val_mae: 0.0710\n",
      "Epoch 41/100\n",
      "1105/1105 [==============================] - 19s 17ms/step - loss: 0.0013 - mape: 13591.1104 - mae: 0.0246 - val_loss: 0.0067 - val_mape: 10.1804 - val_mae: 0.0660\n",
      "Epoch 42/100\n",
      "1105/1105 [==============================] - 19s 17ms/step - loss: 0.0013 - mape: 13796.4268 - mae: 0.0243 - val_loss: 0.0055 - val_mape: 9.0721 - val_mae: 0.0578\n",
      "Epoch 43/100\n",
      "1105/1105 [==============================] - 19s 17ms/step - loss: 0.0013 - mape: 13837.0850 - mae: 0.0243 - val_loss: 0.0085 - val_mape: 11.4343 - val_mae: 0.0741\n",
      "Epoch 44/100\n",
      "1105/1105 [==============================] - 18s 17ms/step - loss: 0.0013 - mape: 13886.0801 - mae: 0.0245 - val_loss: 0.0053 - val_mape: 9.0108 - val_mae: 0.0576\n",
      "Epoch 45/100\n",
      "1105/1105 [==============================] - 19s 17ms/step - loss: 0.0013 - mape: 13718.6182 - mae: 0.0242 - val_loss: 0.0061 - val_mape: 9.3950 - val_mae: 0.0602\n",
      "Epoch 46/100\n",
      "1105/1105 [==============================] - 19s 18ms/step - loss: 0.0013 - mape: 13424.3232 - mae: 0.0243 - val_loss: 0.0054 - val_mape: 9.0024 - val_mae: 0.0571\n",
      "Epoch 47/100\n"
     ]
    },
    {
     "name": "stdout",
     "output_type": "stream",
     "text": [
      "1105/1105 [==============================] - 18s 16ms/step - loss: 0.0013 - mape: 13593.2900 - mae: 0.0239 - val_loss: 0.0063 - val_mape: 9.7029 - val_mae: 0.0622\n",
      "Epoch 48/100\n",
      "1105/1105 [==============================] - 18s 16ms/step - loss: 0.0013 - mape: 13125.2295 - mae: 0.0244 - val_loss: 0.0057 - val_mape: 9.3885 - val_mae: 0.0598\n",
      "Epoch 49/100\n",
      "1105/1105 [==============================] - 17s 16ms/step - loss: 0.0012 - mape: 13195.4180 - mae: 0.0238 - val_loss: 0.0059 - val_mape: 9.1361 - val_mae: 0.0591\n",
      "Epoch 50/100\n",
      "1105/1105 [==============================] - 17s 16ms/step - loss: 0.0012 - mape: 13546.5439 - mae: 0.0236 - val_loss: 0.0057 - val_mape: 8.8270 - val_mae: 0.0574\n",
      "Epoch 51/100\n",
      "1105/1105 [==============================] - 17s 15ms/step - loss: 0.0012 - mape: 13430.7148 - mae: 0.0237 - val_loss: 0.0061 - val_mape: 9.4194 - val_mae: 0.0609\n",
      "Epoch 52/100\n",
      "1105/1105 [==============================] - 17s 16ms/step - loss: 0.0013 - mape: 13195.1816 - mae: 0.0240 - val_loss: 0.0058 - val_mape: 9.2528 - val_mae: 0.0603\n",
      "Epoch 53/100\n",
      "1105/1105 [==============================] - 17s 16ms/step - loss: 0.0012 - mape: 13218.0283 - mae: 0.0236 - val_loss: 0.0058 - val_mape: 9.1633 - val_mae: 0.0593\n",
      "Epoch 54/100\n",
      "1105/1105 [==============================] - 17s 16ms/step - loss: 0.0012 - mape: 12851.4697 - mae: 0.0235 - val_loss: 0.0053 - val_mape: 8.7086 - val_mae: 0.0561\n",
      "Epoch 55/100\n",
      "1105/1105 [==============================] - 17s 16ms/step - loss: 0.0012 - mape: 13664.0049 - mae: 0.0235 - val_loss: 0.0061 - val_mape: 9.9547 - val_mae: 0.0636\n",
      "Epoch 56/100\n",
      "1105/1105 [==============================] - 17s 15ms/step - loss: 0.0012 - mape: 13090.1162 - mae: 0.0235 - val_loss: 0.0057 - val_mape: 9.5438 - val_mae: 0.0603\n",
      "Epoch 57/100\n",
      "1105/1105 [==============================] - 18s 16ms/step - loss: 0.0012 - mape: 13188.9961 - mae: 0.0232 - val_loss: 0.0059 - val_mape: 9.4416 - val_mae: 0.0608\n",
      "Epoch 58/100\n",
      "1105/1105 [==============================] - 17s 16ms/step - loss: 0.0012 - mape: 12986.5596 - mae: 0.0232 - val_loss: 0.0053 - val_mape: 8.9711 - val_mae: 0.0570\n",
      "Epoch 59/100\n",
      "1105/1105 [==============================] - 17s 16ms/step - loss: 0.0012 - mape: 13271.9277 - mae: 0.0230 - val_loss: 0.0062 - val_mape: 9.6881 - val_mae: 0.0624\n",
      "Epoch 60/100\n",
      "1105/1105 [==============================] - 18s 16ms/step - loss: 0.0012 - mape: 12275.4893 - mae: 0.0233 - val_loss: 0.0072 - val_mape: 10.6163 - val_mae: 0.0689\n",
      "Epoch 61/100\n",
      "1105/1105 [==============================] - 17s 16ms/step - loss: 0.0012 - mape: 13027.1104 - mae: 0.0235 - val_loss: 0.0063 - val_mape: 9.7473 - val_mae: 0.0630\n",
      "Epoch 62/100\n",
      "1105/1105 [==============================] - 17s 16ms/step - loss: 0.0012 - mape: 13187.3770 - mae: 0.0230 - val_loss: 0.0050 - val_mape: 8.5891 - val_mae: 0.0548\n",
      "Epoch 63/100\n",
      "1105/1105 [==============================] - 17s 16ms/step - loss: 0.0011 - mape: 11832.8584 - mae: 0.0230 - val_loss: 0.0057 - val_mape: 9.0783 - val_mae: 0.0581\n",
      "Epoch 64/100\n",
      "1105/1105 [==============================] - 17s 16ms/step - loss: 0.0012 - mape: 13538.4463 - mae: 0.0232 - val_loss: 0.0061 - val_mape: 9.3686 - val_mae: 0.0604\n",
      "Epoch 65/100\n",
      "1105/1105 [==============================] - 17s 16ms/step - loss: 0.0012 - mape: 13117.7480 - mae: 0.0230 - val_loss: 0.0055 - val_mape: 9.0469 - val_mae: 0.0575\n",
      "Epoch 66/100\n",
      "1105/1105 [==============================] - 17s 16ms/step - loss: 0.0011 - mape: 12930.5889 - mae: 0.0224 - val_loss: 0.0059 - val_mape: 9.3285 - val_mae: 0.0601\n",
      "Epoch 67/100\n",
      "1105/1105 [==============================] - 18s 16ms/step - loss: 0.0011 - mape: 12564.2100 - mae: 0.0229 - val_loss: 0.0057 - val_mape: 9.1171 - val_mae: 0.0595\n",
      "Epoch 68/100\n",
      "1105/1105 [==============================] - 17s 16ms/step - loss: 0.0011 - mape: 12758.7891 - mae: 0.0228 - val_loss: 0.0056 - val_mape: 9.1880 - val_mae: 0.0589\n",
      "Epoch 69/100\n",
      "1105/1105 [==============================] - 17s 16ms/step - loss: 0.0011 - mape: 11802.7236 - mae: 0.0225 - val_loss: 0.0057 - val_mape: 9.6724 - val_mae: 0.0612\n",
      "Epoch 70/100\n",
      "1105/1105 [==============================] - 17s 16ms/step - loss: 0.0011 - mape: 12791.0801 - mae: 0.0229 - val_loss: 0.0055 - val_mape: 9.0450 - val_mae: 0.0578\n",
      "Epoch 71/100\n",
      "1105/1105 [==============================] - 18s 16ms/step - loss: 0.0011 - mape: 11992.7764 - mae: 0.0225 - val_loss: 0.0060 - val_mape: 9.5017 - val_mae: 0.0612\n",
      "Epoch 72/100\n",
      "1105/1105 [==============================] - 17s 15ms/step - loss: 0.0011 - mape: 11632.7041 - mae: 0.0224 - val_loss: 0.0058 - val_mape: 9.3900 - val_mae: 0.0608\n",
      "Epoch 73/100\n",
      "1105/1105 [==============================] - 17s 15ms/step - loss: 0.0011 - mape: 12858.0264 - mae: 0.0222 - val_loss: 0.0059 - val_mape: 9.3394 - val_mae: 0.0600\n",
      "Epoch 74/100\n",
      "1105/1105 [==============================] - 17s 15ms/step - loss: 0.0011 - mape: 11552.2881 - mae: 0.0221 - val_loss: 0.0057 - val_mape: 9.2096 - val_mae: 0.0599\n",
      "Epoch 75/100\n",
      "1105/1105 [==============================] - 18s 16ms/step - loss: 0.0011 - mape: 10906.6875 - mae: 0.0224 - val_loss: 0.0055 - val_mape: 9.1900 - val_mae: 0.0590\n",
      "Epoch 76/100\n",
      "1105/1105 [==============================] - 18s 17ms/step - loss: 0.0011 - mape: 11610.0039 - mae: 0.0226 - val_loss: 0.0072 - val_mape: 10.7161 - val_mae: 0.0681\n",
      "Epoch 77/100\n",
      "1105/1105 [==============================] - 18s 16ms/step - loss: 0.0011 - mape: 11883.4004 - mae: 0.0226 - val_loss: 0.0070 - val_mape: 10.4814 - val_mae: 0.0669\n",
      "Epoch 78/100\n",
      "1105/1105 [==============================] - 18s 16ms/step - loss: 0.0011 - mape: 11709.5068 - mae: 0.0228 - val_loss: 0.0063 - val_mape: 10.0202 - val_mae: 0.0640\n",
      "Epoch 79/100\n",
      "1105/1105 [==============================] - 19s 17ms/step - loss: 0.0010 - mape: 13355.0156 - mae: 0.0218 - val_loss: 0.0054 - val_mape: 8.6732 - val_mae: 0.0559\n",
      "Epoch 80/100\n",
      "1105/1105 [==============================] - 19s 17ms/step - loss: 0.0011 - mape: 12687.8809 - mae: 0.0222 - val_loss: 0.0049 - val_mape: 8.3263 - val_mae: 0.0530\n",
      "Epoch 81/100\n",
      "1105/1105 [==============================] - 19s 17ms/step - loss: 0.0011 - mape: 11421.9053 - mae: 0.0223 - val_loss: 0.0046 - val_mape: 8.1116 - val_mae: 0.0516\n",
      "Epoch 82/100\n",
      "1105/1105 [==============================] - 19s 18ms/step - loss: 0.0011 - mape: 10344.3604 - mae: 0.0223 - val_loss: 0.0059 - val_mape: 9.7105 - val_mae: 0.0620\n",
      "Epoch 83/100\n",
      "1105/1105 [==============================] - 20s 18ms/step - loss: 0.0011 - mape: 11096.7705 - mae: 0.0220 - val_loss: 0.0056 - val_mape: 9.0334 - val_mae: 0.0577\n",
      "Epoch 84/100\n",
      "1105/1105 [==============================] - 20s 18ms/step - loss: 0.0010 - mape: 11270.1396 - mae: 0.0220 - val_loss: 0.0059 - val_mape: 9.2591 - val_mae: 0.0590\n",
      "Epoch 85/100\n",
      "1105/1105 [==============================] - 20s 18ms/step - loss: 0.0010 - mape: 9804.4639 - mae: 0.0218 - val_loss: 0.0063 - val_mape: 10.0801 - val_mae: 0.0644\n",
      "Epoch 86/100\n",
      "1105/1105 [==============================] - 20s 18ms/step - loss: 0.0011 - mape: 11073.0889 - mae: 0.0223 - val_loss: 0.0058 - val_mape: 9.2841 - val_mae: 0.0592\n",
      "Epoch 87/100\n",
      "1105/1105 [==============================] - 20s 18ms/step - loss: 0.0011 - mape: 12592.3887 - mae: 0.0225 - val_loss: 0.0047 - val_mape: 8.6093 - val_mae: 0.0539\n",
      "Epoch 88/100\n",
      "1105/1105 [==============================] - 20s 18ms/step - loss: 0.0010 - mape: 12586.6738 - mae: 0.0218 - val_loss: 0.0063 - val_mape: 9.7060 - val_mae: 0.0618\n",
      "Epoch 89/100\n",
      "1105/1105 [==============================] - 20s 18ms/step - loss: 0.0010 - mape: 10440.6211 - mae: 0.0216 - val_loss: 0.0053 - val_mape: 8.9073 - val_mae: 0.0562\n",
      "Epoch 90/100\n",
      "1105/1105 [==============================] - 20s 18ms/step - loss: 0.0010 - mape: 11771.5195 - mae: 0.0219 - val_loss: 0.0056 - val_mape: 9.0937 - val_mae: 0.0585\n",
      "Epoch 91/100\n",
      "1105/1105 [==============================] - 20s 18ms/step - loss: 0.0010 - mape: 11383.1523 - mae: 0.0220 - val_loss: 0.0049 - val_mape: 8.7545 - val_mae: 0.0556\n",
      "Epoch 92/100\n",
      "1105/1105 [==============================] - 20s 18ms/step - loss: 9.6065e-04 - mape: 12163.9658 - mae: 0.0213 - val_loss: 0.0058 - val_mape: 9.3231 - val_mae: 0.0596\n",
      "Epoch 93/100\n"
     ]
    },
    {
     "name": "stdout",
     "output_type": "stream",
     "text": [
      "1105/1105 [==============================] - 18s 16ms/step - loss: 0.0010 - mape: 11276.5283 - mae: 0.0219 - val_loss: 0.0055 - val_mape: 9.2855 - val_mae: 0.0595\n",
      "Epoch 94/100\n",
      "1105/1105 [==============================] - 17s 16ms/step - loss: 9.8774e-04 - mape: 9553.0244 - mae: 0.0216 - val_loss: 0.0059 - val_mape: 9.6043 - val_mae: 0.0616\n",
      "Epoch 95/100\n",
      "1105/1105 [==============================] - 17s 15ms/step - loss: 9.6289e-04 - mape: 10155.1689 - mae: 0.0214 - val_loss: 0.0053 - val_mape: 8.8200 - val_mae: 0.0567\n",
      "Epoch 96/100\n",
      "1105/1105 [==============================] - 18s 16ms/step - loss: 0.0010 - mape: 10791.8682 - mae: 0.0218 - val_loss: 0.0055 - val_mape: 8.8635 - val_mae: 0.0570\n",
      "Epoch 97/100\n",
      "1105/1105 [==============================] - 17s 16ms/step - loss: 9.3952e-04 - mape: 9937.3428 - mae: 0.0212 - val_loss: 0.0057 - val_mape: 9.3260 - val_mae: 0.0595\n",
      "Epoch 98/100\n",
      "1105/1105 [==============================] - 17s 16ms/step - loss: 0.0010 - mape: 11405.0586 - mae: 0.0218 - val_loss: 0.0053 - val_mape: 8.8431 - val_mae: 0.0557\n",
      "Epoch 99/100\n",
      "1105/1105 [==============================] - 17s 15ms/step - loss: 9.5544e-04 - mape: 10391.7109 - mae: 0.0213 - val_loss: 0.0059 - val_mape: 9.4724 - val_mae: 0.0605\n",
      "Epoch 100/100\n",
      "1105/1105 [==============================] - 17s 15ms/step - loss: 9.1071e-04 - mape: 10215.3828 - mae: 0.0208 - val_loss: 0.0059 - val_mape: 9.6316 - val_mae: 0.0614\n"
     ]
    },
    {
     "data": {
      "text/plain": [
       "<keras.callbacks.History at 0x139a70b6fd0>"
      ]
     },
     "execution_count": 22,
     "metadata": {},
     "output_type": "execute_result"
    }
   ],
   "source": [
    "model.fit(X_train, Y_train, epochs= epochs, batch_size= batchSize, verbose= 1, shuffle= True, validation_data= (X_valid, Y_valid))"
   ]
  },
  {
   "cell_type": "code",
   "execution_count": 23,
   "id": "cd839153",
   "metadata": {},
   "outputs": [
    {
     "name": "stdout",
     "output_type": "stream",
     "text": [
      "Total execution time in seconds: 1864.2898907661438\n"
     ]
    }
   ],
   "source": [
    "calcExecTime = (time.time() - startTime)\n",
    "print('Total execution time in seconds: ' + str(calcExecTime))"
   ]
  },
  {
   "cell_type": "markdown",
   "id": "72aafa74",
   "metadata": {},
   "source": [
    "### MAKING PREDICTIONS AND GENERATING RESULTS"
   ]
  },
  {
   "cell_type": "code",
   "execution_count": 24,
   "id": "259bfb49",
   "metadata": {},
   "outputs": [
    {
     "name": "stdout",
     "output_type": "stream",
     "text": [
      "6/6 [==============================] - 1s 13ms/step\n"
     ]
    }
   ],
   "source": [
    "predictions = model.predict(X_test)"
   ]
  },
  {
   "cell_type": "code",
   "execution_count": 25,
   "id": "2912d431",
   "metadata": {},
   "outputs": [
    {
     "data": {
      "text/plain": [
       "array([0.50400984, 0.4912454 , 0.4919544 , ..., 0.6016162 , 0.5554011 ,\n",
       "       0.53100777], dtype=float32)"
      ]
     },
     "execution_count": 25,
     "metadata": {},
     "output_type": "execute_result"
    }
   ],
   "source": [
    "predArr = predictions.reshape(predictions.shape[0] * predictions.shape[1], predictions.shape[2]).ravel()\n",
    "predArr"
   ]
  },
  {
   "cell_type": "code",
   "execution_count": 26,
   "id": "b01889f2",
   "metadata": {},
   "outputs": [
    {
     "data": {
      "text/plain": [
       "array([0.63924662, 0.63049565, 0.62862401, ..., 0.69266145, 0.65107361,\n",
       "       0.62151766])"
      ]
     },
     "execution_count": 26,
     "metadata": {},
     "output_type": "execute_result"
    }
   ],
   "source": [
    "Y_testArr = Y_test.reshape(Y_test.shape[0] * Y_test.shape[1], Y_test.shape[2]).ravel()\n",
    "Y_testArr"
   ]
  },
  {
   "cell_type": "code",
   "execution_count": 27,
   "id": "799c97e8",
   "metadata": {},
   "outputs": [],
   "source": [
    "def inverse_transform(df):\n",
    "    column_names = df.columns\n",
    "    for col in column_names:\n",
    "        df[col] = ValScaler.inverse_transform(df[[col]]) \n",
    "    return df"
   ]
  },
  {
   "cell_type": "code",
   "execution_count": 28,
   "id": "afa81e30",
   "metadata": {},
   "outputs": [
    {
     "data": {
      "text/html": [
       "<div>\n",
       "<style scoped>\n",
       "    .dataframe tbody tr th:only-of-type {\n",
       "        vertical-align: middle;\n",
       "    }\n",
       "\n",
       "    .dataframe tbody tr th {\n",
       "        vertical-align: top;\n",
       "    }\n",
       "\n",
       "    .dataframe thead th {\n",
       "        text-align: right;\n",
       "    }\n",
       "</style>\n",
       "<table border=\"1\" class=\"dataframe\">\n",
       "  <thead>\n",
       "    <tr style=\"text-align: right;\">\n",
       "      <th></th>\n",
       "      <th>Values</th>\n",
       "      <th>Predictions</th>\n",
       "    </tr>\n",
       "  </thead>\n",
       "  <tbody>\n",
       "    <tr>\n",
       "      <th>0</th>\n",
       "      <td>5529.48</td>\n",
       "      <td>4064.138184</td>\n",
       "    </tr>\n",
       "    <tr>\n",
       "      <th>1</th>\n",
       "      <td>5434.66</td>\n",
       "      <td>3925.830322</td>\n",
       "    </tr>\n",
       "    <tr>\n",
       "      <th>2</th>\n",
       "      <td>5414.38</td>\n",
       "      <td>3933.512695</td>\n",
       "    </tr>\n",
       "    <tr>\n",
       "      <th>3</th>\n",
       "      <td>5494.99</td>\n",
       "      <td>4070.795410</td>\n",
       "    </tr>\n",
       "    <tr>\n",
       "      <th>4</th>\n",
       "      <td>5933.21</td>\n",
       "      <td>4335.573730</td>\n",
       "    </tr>\n",
       "    <tr>\n",
       "      <th>...</th>\n",
       "      <td>...</td>\n",
       "      <td>...</td>\n",
       "    </tr>\n",
       "    <tr>\n",
       "      <th>4363</th>\n",
       "      <td>7530.86</td>\n",
       "      <td>6061.744629</td>\n",
       "    </tr>\n",
       "    <tr>\n",
       "      <th>4364</th>\n",
       "      <td>6585.61</td>\n",
       "      <td>5597.503418</td>\n",
       "    </tr>\n",
       "    <tr>\n",
       "      <th>4365</th>\n",
       "      <td>6108.25</td>\n",
       "      <td>5121.740234</td>\n",
       "    </tr>\n",
       "    <tr>\n",
       "      <th>4366</th>\n",
       "      <td>5657.63</td>\n",
       "      <td>4620.981934</td>\n",
       "    </tr>\n",
       "    <tr>\n",
       "      <th>4367</th>\n",
       "      <td>5337.38</td>\n",
       "      <td>4356.670898</td>\n",
       "    </tr>\n",
       "  </tbody>\n",
       "</table>\n",
       "<p>4368 rows × 2 columns</p>\n",
       "</div>"
      ],
      "text/plain": [
       "       Values  Predictions\n",
       "0     5529.48  4064.138184\n",
       "1     5434.66  3925.830322\n",
       "2     5414.38  3933.512695\n",
       "3     5494.99  4070.795410\n",
       "4     5933.21  4335.573730\n",
       "...       ...          ...\n",
       "4363  7530.86  6061.744629\n",
       "4364  6585.61  5597.503418\n",
       "4365  6108.25  5121.740234\n",
       "4366  5657.63  4620.981934\n",
       "4367  5337.38  4356.670898\n",
       "\n",
       "[4368 rows x 2 columns]"
      ]
     },
     "execution_count": 28,
     "metadata": {},
     "output_type": "execute_result"
    }
   ],
   "source": [
    "comparisionDf = pd.DataFrame(data= {\"Values\": Y_testArr, \"Predictions\": predArr})\n",
    "comparisionDf = inverse_transform(comparisionDf)\n",
    "comparisionDf"
   ]
  },
  {
   "cell_type": "code",
   "execution_count": 29,
   "id": "88222bae",
   "metadata": {},
   "outputs": [
    {
     "data": {
      "text/plain": [
       "9.874274616774242"
      ]
     },
     "execution_count": 29,
     "metadata": {},
     "output_type": "execute_result"
    }
   ],
   "source": [
    "mape(comparisionDf[\"Values\"], comparisionDf[\"Predictions\"])"
   ]
  }
 ],
 "metadata": {
  "kernelspec": {
   "display_name": "Python 3 (ipykernel)",
   "language": "python",
   "name": "python3"
  },
  "language_info": {
   "codemirror_mode": {
    "name": "ipython",
    "version": 3
   },
   "file_extension": ".py",
   "mimetype": "text/x-python",
   "name": "python",
   "nbconvert_exporter": "python",
   "pygments_lexer": "ipython3",
   "version": "3.9.12"
  }
 },
 "nbformat": 4,
 "nbformat_minor": 5
}
