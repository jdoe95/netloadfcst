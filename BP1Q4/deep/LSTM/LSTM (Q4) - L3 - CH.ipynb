{
 "cells": [
  {
   "cell_type": "code",
   "execution_count": 1,
   "id": "5f61b29f",
   "metadata": {},
   "outputs": [
    {
     "name": "stdout",
     "output_type": "stream",
     "text": [
      "Num GPUs Available:  1\n"
     ]
    }
   ],
   "source": [
    "import pandas as pd\n",
    "import numpy as np\n",
    "import os\n",
    "import matplotlib.pyplot as plt\n",
    "from datetime import datetime\n",
    "from sklearn.preprocessing import MinMaxScaler, RobustScaler, StandardScaler\n",
    "import time\n",
    "\n",
    "import tensorflow as tf\n",
    "tf.random.set_seed(42)\n",
    "\n",
    "def mape(y_true, y_pred):\n",
    "    y_true, y_pred = np.array(y_true), np.array(y_pred)\n",
    "    return np.mean(np.abs((y_true - y_pred) / max(y_true))) * 100\n",
    "\n",
    "def RMSELoss(yhat,y):\n",
    "    return torch.sqrt(torch.mean((yhat-y)**2))\n",
    "\n",
    "print(\"Num GPUs Available: \", len(tf.config.list_physical_devices('GPU')))"
   ]
  },
  {
   "cell_type": "code",
   "execution_count": 2,
   "id": "cea0abe2",
   "metadata": {},
   "outputs": [
    {
     "name": "stdout",
     "output_type": "stream",
     "text": [
      "['AT.csv', 'BE.csv', 'BG.csv', 'CH.csv', 'CZ.csv', 'DK.csv', 'ES.csv', 'FR.csv', 'GR.csv', 'IT.csv', 'NL.csv', 'PT.csv', 'SI.csv', 'SK.csv']\n"
     ]
    }
   ],
   "source": [
    "# Specifying the path of file\n",
    "path= r\"C:\\Users\\sashah8\\OneDrive - North Carolina State University\\Desktop\\Q4\\Data\\L3\\data_cleaned\"\n",
    "\n",
    "# Listing just the required files\n",
    "fileList = os.listdir(path)\n",
    "fileList.remove(\"Date.csv\")\n",
    "\n",
    "# Previewing the required file names\n",
    "print(fileList)"
   ]
  },
  {
   "cell_type": "code",
   "execution_count": 3,
   "id": "a6fe9396",
   "metadata": {},
   "outputs": [
    {
     "data": {
      "text/html": [
       "<div>\n",
       "<style scoped>\n",
       "    .dataframe tbody tr th:only-of-type {\n",
       "        vertical-align: middle;\n",
       "    }\n",
       "\n",
       "    .dataframe tbody tr th {\n",
       "        vertical-align: top;\n",
       "    }\n",
       "\n",
       "    .dataframe thead th {\n",
       "        text-align: right;\n",
       "    }\n",
       "</style>\n",
       "<table border=\"1\" class=\"dataframe\">\n",
       "  <thead>\n",
       "    <tr style=\"text-align: right;\">\n",
       "      <th></th>\n",
       "      <th>Demand</th>\n",
       "      <th>Normalized_net</th>\n",
       "      <th>Temperature</th>\n",
       "      <th>DNI</th>\n",
       "      <th>DHI</th>\n",
       "    </tr>\n",
       "  </thead>\n",
       "  <tbody>\n",
       "    <tr>\n",
       "      <th>0</th>\n",
       "      <td>0.00</td>\n",
       "      <td>0.000000</td>\n",
       "      <td>-9.152</td>\n",
       "      <td>0.0</td>\n",
       "      <td>0.0</td>\n",
       "    </tr>\n",
       "    <tr>\n",
       "      <th>1</th>\n",
       "      <td>7640.09</td>\n",
       "      <td>0.412318</td>\n",
       "      <td>-8.946</td>\n",
       "      <td>0.0</td>\n",
       "      <td>0.0</td>\n",
       "    </tr>\n",
       "    <tr>\n",
       "      <th>2</th>\n",
       "      <td>7391.37</td>\n",
       "      <td>0.398895</td>\n",
       "      <td>-8.676</td>\n",
       "      <td>0.0</td>\n",
       "      <td>0.0</td>\n",
       "    </tr>\n",
       "    <tr>\n",
       "      <th>3</th>\n",
       "      <td>7332.50</td>\n",
       "      <td>0.395718</td>\n",
       "      <td>-8.373</td>\n",
       "      <td>0.0</td>\n",
       "      <td>0.0</td>\n",
       "    </tr>\n",
       "    <tr>\n",
       "      <th>4</th>\n",
       "      <td>7002.01</td>\n",
       "      <td>0.377882</td>\n",
       "      <td>-8.140</td>\n",
       "      <td>0.0</td>\n",
       "      <td>0.0</td>\n",
       "    </tr>\n",
       "    <tr>\n",
       "      <th>...</th>\n",
       "      <td>...</td>\n",
       "      <td>...</td>\n",
       "      <td>...</td>\n",
       "      <td>...</td>\n",
       "      <td>...</td>\n",
       "    </tr>\n",
       "    <tr>\n",
       "      <th>43819</th>\n",
       "      <td>6911.08</td>\n",
       "      <td>0.372975</td>\n",
       "      <td>-0.174</td>\n",
       "      <td>0.0</td>\n",
       "      <td>0.0</td>\n",
       "    </tr>\n",
       "    <tr>\n",
       "      <th>43820</th>\n",
       "      <td>6638.85</td>\n",
       "      <td>0.358283</td>\n",
       "      <td>-0.627</td>\n",
       "      <td>0.0</td>\n",
       "      <td>0.0</td>\n",
       "    </tr>\n",
       "    <tr>\n",
       "      <th>43821</th>\n",
       "      <td>6412.14</td>\n",
       "      <td>0.346048</td>\n",
       "      <td>-0.723</td>\n",
       "      <td>0.0</td>\n",
       "      <td>0.0</td>\n",
       "    </tr>\n",
       "    <tr>\n",
       "      <th>43822</th>\n",
       "      <td>6451.50</td>\n",
       "      <td>0.348172</td>\n",
       "      <td>-0.659</td>\n",
       "      <td>0.0</td>\n",
       "      <td>0.0</td>\n",
       "    </tr>\n",
       "    <tr>\n",
       "      <th>43823</th>\n",
       "      <td>6891.33</td>\n",
       "      <td>0.371909</td>\n",
       "      <td>-0.617</td>\n",
       "      <td>0.0</td>\n",
       "      <td>0.0</td>\n",
       "    </tr>\n",
       "  </tbody>\n",
       "</table>\n",
       "<p>43824 rows × 5 columns</p>\n",
       "</div>"
      ],
      "text/plain": [
       "        Demand  Normalized_net  Temperature  DNI  DHI\n",
       "0         0.00        0.000000       -9.152  0.0  0.0\n",
       "1      7640.09        0.412318       -8.946  0.0  0.0\n",
       "2      7391.37        0.398895       -8.676  0.0  0.0\n",
       "3      7332.50        0.395718       -8.373  0.0  0.0\n",
       "4      7002.01        0.377882       -8.140  0.0  0.0\n",
       "...        ...             ...          ...  ...  ...\n",
       "43819  6911.08        0.372975       -0.174  0.0  0.0\n",
       "43820  6638.85        0.358283       -0.627  0.0  0.0\n",
       "43821  6412.14        0.346048       -0.723  0.0  0.0\n",
       "43822  6451.50        0.348172       -0.659  0.0  0.0\n",
       "43823  6891.33        0.371909       -0.617  0.0  0.0\n",
       "\n",
       "[43824 rows x 5 columns]"
      ]
     },
     "execution_count": 3,
     "metadata": {},
     "output_type": "execute_result"
    }
   ],
   "source": [
    "# Just for previewing the columns\n",
    "pd.read_csv(os.path.join(path, fileList[3]))"
   ]
  },
  {
   "cell_type": "markdown",
   "id": "9ad4906c",
   "metadata": {
    "pycharm": {
     "name": "#%% md\n"
    }
   },
   "source": [
    "### PROCESSING THE DATA"
   ]
  },
  {
   "cell_type": "code",
   "execution_count": 4,
   "id": "f29f6db2",
   "metadata": {},
   "outputs": [
    {
     "data": {
      "text/html": [
       "<div>\n",
       "<style scoped>\n",
       "    .dataframe tbody tr th:only-of-type {\n",
       "        vertical-align: middle;\n",
       "    }\n",
       "\n",
       "    .dataframe tbody tr th {\n",
       "        vertical-align: top;\n",
       "    }\n",
       "\n",
       "    .dataframe thead th {\n",
       "        text-align: right;\n",
       "    }\n",
       "</style>\n",
       "<table border=\"1\" class=\"dataframe\">\n",
       "  <thead>\n",
       "    <tr style=\"text-align: right;\">\n",
       "      <th></th>\n",
       "      <th>Load_CH</th>\n",
       "      <th>Temp_CH</th>\n",
       "    </tr>\n",
       "  </thead>\n",
       "  <tbody>\n",
       "    <tr>\n",
       "      <th>0</th>\n",
       "      <td>0.00</td>\n",
       "      <td>-9.152</td>\n",
       "    </tr>\n",
       "    <tr>\n",
       "      <th>1</th>\n",
       "      <td>7640.09</td>\n",
       "      <td>-8.946</td>\n",
       "    </tr>\n",
       "    <tr>\n",
       "      <th>2</th>\n",
       "      <td>7391.37</td>\n",
       "      <td>-8.676</td>\n",
       "    </tr>\n",
       "    <tr>\n",
       "      <th>3</th>\n",
       "      <td>7332.50</td>\n",
       "      <td>-8.373</td>\n",
       "    </tr>\n",
       "    <tr>\n",
       "      <th>4</th>\n",
       "      <td>7002.01</td>\n",
       "      <td>-8.140</td>\n",
       "    </tr>\n",
       "    <tr>\n",
       "      <th>...</th>\n",
       "      <td>...</td>\n",
       "      <td>...</td>\n",
       "    </tr>\n",
       "    <tr>\n",
       "      <th>43819</th>\n",
       "      <td>6911.08</td>\n",
       "      <td>-0.174</td>\n",
       "    </tr>\n",
       "    <tr>\n",
       "      <th>43820</th>\n",
       "      <td>6638.85</td>\n",
       "      <td>-0.627</td>\n",
       "    </tr>\n",
       "    <tr>\n",
       "      <th>43821</th>\n",
       "      <td>6412.14</td>\n",
       "      <td>-0.723</td>\n",
       "    </tr>\n",
       "    <tr>\n",
       "      <th>43822</th>\n",
       "      <td>6451.50</td>\n",
       "      <td>-0.659</td>\n",
       "    </tr>\n",
       "    <tr>\n",
       "      <th>43823</th>\n",
       "      <td>6891.33</td>\n",
       "      <td>-0.617</td>\n",
       "    </tr>\n",
       "  </tbody>\n",
       "</table>\n",
       "<p>43824 rows × 2 columns</p>\n",
       "</div>"
      ],
      "text/plain": [
       "       Load_CH  Temp_CH\n",
       "0         0.00   -9.152\n",
       "1      7640.09   -8.946\n",
       "2      7391.37   -8.676\n",
       "3      7332.50   -8.373\n",
       "4      7002.01   -8.140\n",
       "...        ...      ...\n",
       "43819  6911.08   -0.174\n",
       "43820  6638.85   -0.627\n",
       "43821  6412.14   -0.723\n",
       "43822  6451.50   -0.659\n",
       "43823  6891.33   -0.617\n",
       "\n",
       "[43824 rows x 2 columns]"
      ]
     },
     "execution_count": 4,
     "metadata": {},
     "output_type": "execute_result"
    }
   ],
   "source": [
    "# Restricting the load data to a single zone\n",
    "fileName  = fileList[3]\n",
    "\n",
    "zoneData = pd.read_csv(os.path.join(path, fileName), usecols= [\"Demand\", \"Temperature\"])\n",
    "zoneData.columns = [\"Load_\"+str(fileName[:-4]), \"Temp_\"+str(fileName[:-4])]\n",
    "\n",
    "# For fixing one missing row\n",
    "# zoneData = pd.concat([zoneData.loc[[0]], zoneData], axis= 0).reset_index(drop= True)\n",
    "\n",
    "zoneData"
   ]
  },
  {
   "cell_type": "markdown",
   "id": "01cec4bd",
   "metadata": {},
   "source": [
    "### FEATURE ENGINEERING AND SPLITTING INTO TRAIN-TEST SPLIT"
   ]
  },
  {
   "cell_type": "code",
   "execution_count": 5,
   "id": "a1e1e8a3",
   "metadata": {},
   "outputs": [],
   "source": [
    "def lagGenerator(dF, lagList):\n",
    "    dF_temp = dF.filter(regex= \"Load\").copy()\n",
    "    \n",
    "    for i in lagList:\n",
    "        dF_temp.loc[:, \"Lag-\" + str(i)] = dF_temp.iloc[:,[0]].shift(i*24)\n",
    "    \n",
    "    return(dF_temp.filter(regex= \"Lag\"))"
   ]
  },
  {
   "cell_type": "code",
   "execution_count": 6,
   "id": "159a2a82",
   "metadata": {},
   "outputs": [
    {
     "data": {
      "text/html": [
       "<div>\n",
       "<style scoped>\n",
       "    .dataframe tbody tr th:only-of-type {\n",
       "        vertical-align: middle;\n",
       "    }\n",
       "\n",
       "    .dataframe tbody tr th {\n",
       "        vertical-align: top;\n",
       "    }\n",
       "\n",
       "    .dataframe thead th {\n",
       "        text-align: right;\n",
       "    }\n",
       "</style>\n",
       "<table border=\"1\" class=\"dataframe\">\n",
       "  <thead>\n",
       "    <tr style=\"text-align: right;\">\n",
       "      <th></th>\n",
       "      <th>Lag-2</th>\n",
       "      <th>Lag-7</th>\n",
       "    </tr>\n",
       "  </thead>\n",
       "  <tbody>\n",
       "    <tr>\n",
       "      <th>0</th>\n",
       "      <td>NaN</td>\n",
       "      <td>NaN</td>\n",
       "    </tr>\n",
       "    <tr>\n",
       "      <th>1</th>\n",
       "      <td>NaN</td>\n",
       "      <td>NaN</td>\n",
       "    </tr>\n",
       "  </tbody>\n",
       "</table>\n",
       "</div>"
      ],
      "text/plain": [
       "   Lag-2  Lag-7\n",
       "0    NaN    NaN\n",
       "1    NaN    NaN"
      ]
     },
     "execution_count": 6,
     "metadata": {},
     "output_type": "execute_result"
    }
   ],
   "source": [
    "Load_lags = lagGenerator(dF=zoneData, lagList=[2,7])\n",
    "Load_lags.head(2)"
   ]
  },
  {
   "cell_type": "code",
   "execution_count": 7,
   "id": "05896954",
   "metadata": {},
   "outputs": [
    {
     "data": {
      "text/html": [
       "<div>\n",
       "<style scoped>\n",
       "    .dataframe tbody tr th:only-of-type {\n",
       "        vertical-align: middle;\n",
       "    }\n",
       "\n",
       "    .dataframe tbody tr th {\n",
       "        vertical-align: top;\n",
       "    }\n",
       "\n",
       "    .dataframe thead th {\n",
       "        text-align: right;\n",
       "    }\n",
       "</style>\n",
       "<table border=\"1\" class=\"dataframe\">\n",
       "  <thead>\n",
       "    <tr style=\"text-align: right;\">\n",
       "      <th></th>\n",
       "      <th>Load_CH</th>\n",
       "      <th>Temp_CH</th>\n",
       "      <th>Lag-2</th>\n",
       "      <th>Lag-7</th>\n",
       "    </tr>\n",
       "  </thead>\n",
       "  <tbody>\n",
       "    <tr>\n",
       "      <th>0</th>\n",
       "      <td>7563.04</td>\n",
       "      <td>-0.802</td>\n",
       "      <td>7536.97</td>\n",
       "      <td>0.00</td>\n",
       "    </tr>\n",
       "    <tr>\n",
       "      <th>1</th>\n",
       "      <td>7477.88</td>\n",
       "      <td>-0.745</td>\n",
       "      <td>7485.64</td>\n",
       "      <td>7640.09</td>\n",
       "    </tr>\n",
       "    <tr>\n",
       "      <th>2</th>\n",
       "      <td>7353.60</td>\n",
       "      <td>-0.743</td>\n",
       "      <td>7443.50</td>\n",
       "      <td>7391.37</td>\n",
       "    </tr>\n",
       "    <tr>\n",
       "      <th>3</th>\n",
       "      <td>7239.86</td>\n",
       "      <td>-0.902</td>\n",
       "      <td>7562.51</td>\n",
       "      <td>7332.50</td>\n",
       "    </tr>\n",
       "    <tr>\n",
       "      <th>4</th>\n",
       "      <td>7057.60</td>\n",
       "      <td>-0.991</td>\n",
       "      <td>7432.66</td>\n",
       "      <td>7002.01</td>\n",
       "    </tr>\n",
       "    <tr>\n",
       "      <th>...</th>\n",
       "      <td>...</td>\n",
       "      <td>...</td>\n",
       "      <td>...</td>\n",
       "      <td>...</td>\n",
       "    </tr>\n",
       "    <tr>\n",
       "      <th>43651</th>\n",
       "      <td>6911.08</td>\n",
       "      <td>-0.174</td>\n",
       "      <td>6872.48</td>\n",
       "      <td>6337.79</td>\n",
       "    </tr>\n",
       "    <tr>\n",
       "      <th>43652</th>\n",
       "      <td>6638.85</td>\n",
       "      <td>-0.627</td>\n",
       "      <td>6669.51</td>\n",
       "      <td>6145.57</td>\n",
       "    </tr>\n",
       "    <tr>\n",
       "      <th>43653</th>\n",
       "      <td>6412.14</td>\n",
       "      <td>-0.723</td>\n",
       "      <td>6513.77</td>\n",
       "      <td>6205.19</td>\n",
       "    </tr>\n",
       "    <tr>\n",
       "      <th>43654</th>\n",
       "      <td>6451.50</td>\n",
       "      <td>-0.659</td>\n",
       "      <td>6460.92</td>\n",
       "      <td>6645.40</td>\n",
       "    </tr>\n",
       "    <tr>\n",
       "      <th>43655</th>\n",
       "      <td>6891.33</td>\n",
       "      <td>-0.617</td>\n",
       "      <td>6562.41</td>\n",
       "      <td>7093.08</td>\n",
       "    </tr>\n",
       "  </tbody>\n",
       "</table>\n",
       "<p>43656 rows × 4 columns</p>\n",
       "</div>"
      ],
      "text/plain": [
       "       Load_CH  Temp_CH    Lag-2    Lag-7\n",
       "0      7563.04   -0.802  7536.97     0.00\n",
       "1      7477.88   -0.745  7485.64  7640.09\n",
       "2      7353.60   -0.743  7443.50  7391.37\n",
       "3      7239.86   -0.902  7562.51  7332.50\n",
       "4      7057.60   -0.991  7432.66  7002.01\n",
       "...        ...      ...      ...      ...\n",
       "43651  6911.08   -0.174  6872.48  6337.79\n",
       "43652  6638.85   -0.627  6669.51  6145.57\n",
       "43653  6412.14   -0.723  6513.77  6205.19\n",
       "43654  6451.50   -0.659  6460.92  6645.40\n",
       "43655  6891.33   -0.617  6562.41  7093.08\n",
       "\n",
       "[43656 rows x 4 columns]"
      ]
     },
     "execution_count": 7,
     "metadata": {},
     "output_type": "execute_result"
    }
   ],
   "source": [
    "dataDf = pd.concat([zoneData, Load_lags], axis= 1).dropna(axis= 0).reset_index(drop= True)\n",
    "dataDf"
   ]
  },
  {
   "cell_type": "code",
   "execution_count": 8,
   "id": "6ad25321",
   "metadata": {},
   "outputs": [],
   "source": [
    "# Setting the train-test split ratio\n",
    "ratio = 0.1"
   ]
  },
  {
   "cell_type": "code",
   "execution_count": 9,
   "id": "3c08d963",
   "metadata": {},
   "outputs": [],
   "source": [
    "Num_train, Num_test = int(len(dataDf)/24 * (1 - ratio)) * 24, int(len(dataDf)/24 * ratio) * 24"
   ]
  },
  {
   "cell_type": "code",
   "execution_count": 10,
   "id": "cbe069ff",
   "metadata": {},
   "outputs": [],
   "source": [
    "# Splitting the data into train and test\n",
    "data_train, data_test = dataDf[:Num_train], dataDf[Num_train:]"
   ]
  },
  {
   "cell_type": "code",
   "execution_count": 11,
   "id": "d84e15c4",
   "metadata": {},
   "outputs": [],
   "source": [
    "Num_train, Num_valid = int(len(data_train)/24 * (1 - ratio)) * 24, int(len(data_train)/24 * ratio) * 24"
   ]
  },
  {
   "cell_type": "code",
   "execution_count": 12,
   "id": "c17d1723",
   "metadata": {},
   "outputs": [],
   "source": [
    "# Splitting the data into train and test\n",
    "data_train, data_valid = data_train[:Num_train], data_train[Num_train:]"
   ]
  },
  {
   "cell_type": "markdown",
   "id": "88d32011",
   "metadata": {},
   "source": [
    "### SPLITTING INTO X AND Y PART WITH SEQUENCE BATCHING"
   ]
  },
  {
   "cell_type": "code",
   "execution_count": 13,
   "id": "4ba286ca",
   "metadata": {},
   "outputs": [],
   "source": [
    "X_train_df, Y_train_df = data_train.iloc[:, 1:], data_train.iloc[:, :1]\n",
    "\n",
    "X_valid_df, Y_valid_df = data_valid.iloc[:, 1:], data_valid.iloc[:, :1]\n",
    "\n",
    "X_test_df, Y_test_df = data_test.iloc[:, 1:], data_test.iloc[:, :1]"
   ]
  },
  {
   "cell_type": "code",
   "execution_count": 14,
   "id": "ef1d9079",
   "metadata": {},
   "outputs": [],
   "source": [
    "# Preparing the scaler\n",
    "ValScaler = MinMaxScaler()\n",
    "\n",
    "X_train = ValScaler.fit_transform(X_train_df)\n",
    "X_valid = ValScaler.transform(X_valid_df)\n",
    "X_test = ValScaler.transform(X_test_df)\n",
    "\n",
    "Y_train = ValScaler.fit_transform(Y_train_df)\n",
    "Y_valid = ValScaler.transform(Y_valid_df)\n",
    "Y_test = ValScaler.transform(Y_test_df)"
   ]
  },
  {
   "cell_type": "code",
   "execution_count": 15,
   "id": "43594401",
   "metadata": {},
   "outputs": [],
   "source": [
    "def splitData(dataset):\n",
    "    data = np.array(np.split(dataset, len(dataset)/24))\n",
    "    return data"
   ]
  },
  {
   "cell_type": "code",
   "execution_count": 16,
   "id": "300696b2",
   "metadata": {},
   "outputs": [],
   "source": [
    "def supervisedSet(X_part, Y_part, steps= 24):\n",
    "    X_array, Y_array = np.array(X_part), np.array(Y_part)\n",
    "    X, Y = [], []\n",
    "    \n",
    "    for i in range(len(X_array)):\n",
    "        endIdx = i + steps\n",
    "        \n",
    "        if endIdx > len(X_array):\n",
    "            break\n",
    "        \n",
    "        batch_X, batch_Y = X_array[i:endIdx], Y_array[i:endIdx]\n",
    "        \n",
    "        X.append(batch_X)\n",
    "        Y.append(batch_Y)\n",
    "        \n",
    "    return np.array(X), np.array(Y)"
   ]
  },
  {
   "cell_type": "code",
   "execution_count": 17,
   "id": "fc9cd97d",
   "metadata": {},
   "outputs": [],
   "source": [
    "X_train, Y_train = supervisedSet(X_train, Y_train)\n",
    "\n",
    "X_valid, Y_valid = splitData(X_valid), splitData(Y_valid)\n",
    "\n",
    "X_test, Y_test = splitData(X_test), splitData(Y_test)"
   ]
  },
  {
   "cell_type": "markdown",
   "id": "a2a6bf32",
   "metadata": {},
   "source": [
    "### WORKING ON THE MODEL"
   ]
  },
  {
   "cell_type": "code",
   "execution_count": 18,
   "id": "ff71a98c",
   "metadata": {},
   "outputs": [],
   "source": [
    "epochs = 100\n",
    "batchSize = 32"
   ]
  },
  {
   "cell_type": "code",
   "execution_count": 19,
   "id": "8d600c17",
   "metadata": {},
   "outputs": [],
   "source": [
    "# Encoder-decoder architecture [tanh required to use tensorflow on gpu]\n",
    "model = tf.keras.Sequential([\n",
    "    tf.keras.layers.LSTM(units= 128, activation= \"tanh\", input_shape= (X_train.shape[1], X_train.shape[2]), dropout= 0.2),\n",
    "    tf.keras.layers.RepeatVector(Y_train.shape[1]),\n",
    "    tf.keras.layers.LSTM(units= 128, activation= \"tanh\", return_sequences= True, dropout= 0.2),\n",
    "    tf.keras.layers.TimeDistributed(tf.keras.layers.Dense(units= 128, activation= \"relu\")),\n",
    "    tf.keras.layers.Dropout(0.2),\n",
    "    tf.keras.layers.TimeDistributed(tf.keras.layers.Dense(units= 1))\n",
    "])\n",
    "\n",
    "model.compile(loss= \"mse\", optimizer= \"adam\",  metrics= ['mape', 'mae'])"
   ]
  },
  {
   "cell_type": "code",
   "execution_count": 20,
   "id": "a05c033a",
   "metadata": {},
   "outputs": [],
   "source": [
    "# model = tf.keras.Sequential([\n",
    "#     tf.keras.layers.LSTM(units= 256, activation= \"tanh\", input_shape= (X_train.shape[1], X_train.shape[2])),\n",
    "#     tf.keras.layers.Dense(units= 128, activation= \"tanh\"),\n",
    "#     tf.keras.layers.Dense(units= 1)\n",
    "# ])\n",
    "\n",
    "# model.compile(loss= \"mse\", optimizer= \"adam\",  metrics= ['mape', 'mae'])"
   ]
  },
  {
   "cell_type": "code",
   "execution_count": 21,
   "id": "c9390383",
   "metadata": {},
   "outputs": [],
   "source": [
    "# Storing the start time of model fitting process\n",
    "startTime = time.time()"
   ]
  },
  {
   "cell_type": "code",
   "execution_count": 22,
   "id": "e526e3ed",
   "metadata": {},
   "outputs": [
    {
     "name": "stdout",
     "output_type": "stream",
     "text": [
      "Epoch 1/100\n",
      "1105/1105 [==============================] - 23s 16ms/step - loss: 0.0031 - mape: 7122.6211 - mae: 0.0419 - val_loss: 0.0012 - val_mape: 9.7709 - val_mae: 0.0283\n",
      "Epoch 2/100\n",
      "1105/1105 [==============================] - 17s 15ms/step - loss: 0.0024 - mape: 6862.4556 - mae: 0.0366 - val_loss: 0.0013 - val_mape: 10.4433 - val_mae: 0.0288\n",
      "Epoch 3/100\n",
      "1105/1105 [==============================] - 16s 15ms/step - loss: 0.0018 - mape: 6378.0767 - mae: 0.0306 - val_loss: 0.0015 - val_mape: 9.9391 - val_mae: 0.0309\n",
      "Epoch 4/100\n",
      "1105/1105 [==============================] - 17s 15ms/step - loss: 0.0016 - mape: 6330.2510 - mae: 0.0275 - val_loss: 0.0028 - val_mape: 15.0471 - val_mae: 0.0472\n",
      "Epoch 5/100\n",
      "1105/1105 [==============================] - 17s 15ms/step - loss: 0.0015 - mape: 6342.1196 - mae: 0.0266 - val_loss: 0.0035 - val_mape: 16.6812 - val_mae: 0.0527\n",
      "Epoch 6/100\n",
      "1105/1105 [==============================] - 17s 15ms/step - loss: 0.0014 - mape: 6287.9595 - mae: 0.0262 - val_loss: 0.0027 - val_mape: 14.1139 - val_mae: 0.0450\n",
      "Epoch 7/100\n",
      "1105/1105 [==============================] - 17s 15ms/step - loss: 0.0014 - mape: 6320.9067 - mae: 0.0260 - val_loss: 0.0028 - val_mape: 14.8162 - val_mae: 0.0470\n",
      "Epoch 8/100\n",
      "1105/1105 [==============================] - 17s 15ms/step - loss: 0.0014 - mape: 6186.7109 - mae: 0.0255 - val_loss: 0.0016 - val_mape: 10.4940 - val_mae: 0.0330\n",
      "Epoch 9/100\n",
      "1105/1105 [==============================] - 17s 16ms/step - loss: 0.0014 - mape: 6059.1074 - mae: 0.0252 - val_loss: 0.0027 - val_mape: 14.4071 - val_mae: 0.0452\n",
      "Epoch 10/100\n",
      "1105/1105 [==============================] - 18s 16ms/step - loss: 0.0013 - mape: 6063.8721 - mae: 0.0250 - val_loss: 0.0033 - val_mape: 16.4252 - val_mae: 0.0515\n",
      "Epoch 11/100\n",
      "1105/1105 [==============================] - 17s 15ms/step - loss: 0.0013 - mape: 5949.5176 - mae: 0.0250 - val_loss: 0.0049 - val_mape: 20.6327 - val_mae: 0.0636\n",
      "Epoch 12/100\n",
      "1105/1105 [==============================] - 17s 16ms/step - loss: 0.0013 - mape: 5915.6338 - mae: 0.0246 - val_loss: 0.0022 - val_mape: 13.0392 - val_mae: 0.0411\n",
      "Epoch 13/100\n",
      "1105/1105 [==============================] - 18s 16ms/step - loss: 0.0013 - mape: 5915.5693 - mae: 0.0244 - val_loss: 0.0057 - val_mape: 22.7292 - val_mae: 0.0697\n",
      "Epoch 14/100\n",
      "1105/1105 [==============================] - 18s 16ms/step - loss: 0.0013 - mape: 5794.0986 - mae: 0.0245 - val_loss: 0.0030 - val_mape: 15.5808 - val_mae: 0.0487\n",
      "Epoch 15/100\n",
      "1105/1105 [==============================] - 18s 17ms/step - loss: 0.0013 - mape: 5837.5034 - mae: 0.0241 - val_loss: 0.0034 - val_mape: 16.9614 - val_mae: 0.0524\n",
      "Epoch 16/100\n",
      "1105/1105 [==============================] - 18s 17ms/step - loss: 0.0012 - mape: 6152.6167 - mae: 0.0240 - val_loss: 0.0020 - val_mape: 12.0920 - val_mae: 0.0372\n",
      "Epoch 17/100\n",
      "1105/1105 [==============================] - 19s 17ms/step - loss: 0.0012 - mape: 5898.0991 - mae: 0.0239 - val_loss: 0.0046 - val_mape: 19.9921 - val_mae: 0.0602\n",
      "Epoch 18/100\n",
      "1105/1105 [==============================] - 18s 16ms/step - loss: 0.0012 - mape: 5933.8193 - mae: 0.0238 - val_loss: 0.0023 - val_mape: 13.0266 - val_mae: 0.0408\n",
      "Epoch 19/100\n",
      "1105/1105 [==============================] - 18s 17ms/step - loss: 0.0012 - mape: 5996.2559 - mae: 0.0237 - val_loss: 0.0027 - val_mape: 14.5621 - val_mae: 0.0444\n",
      "Epoch 20/100\n",
      "1105/1105 [==============================] - 18s 17ms/step - loss: 0.0013 - mape: 6292.3867 - mae: 0.0249 - val_loss: 0.0018 - val_mape: 11.5677 - val_mae: 0.0365\n",
      "Epoch 21/100\n",
      "1105/1105 [==============================] - 18s 17ms/step - loss: 0.0012 - mape: 5961.0933 - mae: 0.0236 - val_loss: 0.0036 - val_mape: 17.2426 - val_mae: 0.0532\n",
      "Epoch 22/100\n",
      "1105/1105 [==============================] - 18s 16ms/step - loss: 0.0012 - mape: 5959.6572 - mae: 0.0233 - val_loss: 0.0034 - val_mape: 16.9615 - val_mae: 0.0522\n",
      "Epoch 23/100\n",
      "1105/1105 [==============================] - 18s 16ms/step - loss: 0.0012 - mape: 5892.4795 - mae: 0.0233 - val_loss: 0.0038 - val_mape: 17.8209 - val_mae: 0.0545\n",
      "Epoch 24/100\n",
      "1105/1105 [==============================] - 19s 17ms/step - loss: 0.0012 - mape: 5847.8672 - mae: 0.0233 - val_loss: 0.0031 - val_mape: 15.7721 - val_mae: 0.0481\n",
      "Epoch 25/100\n",
      "1105/1105 [==============================] - 18s 17ms/step - loss: 0.0012 - mape: 5964.7290 - mae: 0.0233 - val_loss: 0.0041 - val_mape: 18.6139 - val_mae: 0.0573\n",
      "Epoch 26/100\n",
      "1105/1105 [==============================] - 18s 17ms/step - loss: 0.0012 - mape: 5740.0420 - mae: 0.0230 - val_loss: 0.0033 - val_mape: 16.2491 - val_mae: 0.0504\n",
      "Epoch 27/100\n",
      "1105/1105 [==============================] - 18s 17ms/step - loss: 0.0011 - mape: 5823.2578 - mae: 0.0229 - val_loss: 0.0029 - val_mape: 15.0502 - val_mae: 0.0458\n",
      "Epoch 28/100\n",
      "1105/1105 [==============================] - 18s 16ms/step - loss: 0.0012 - mape: 5877.7202 - mae: 0.0229 - val_loss: 0.0038 - val_mape: 17.9593 - val_mae: 0.0544\n",
      "Epoch 29/100\n",
      "1105/1105 [==============================] - 18s 17ms/step - loss: 0.0011 - mape: 5751.0083 - mae: 0.0228 - val_loss: 0.0049 - val_mape: 19.9770 - val_mae: 0.0615\n",
      "Epoch 30/100\n",
      "1105/1105 [==============================] - 18s 16ms/step - loss: 0.0011 - mape: 5848.1685 - mae: 0.0226 - val_loss: 0.0051 - val_mape: 21.0264 - val_mae: 0.0646\n",
      "Epoch 31/100\n",
      "1105/1105 [==============================] - 19s 17ms/step - loss: 0.0011 - mape: 5739.8853 - mae: 0.0225 - val_loss: 0.0039 - val_mape: 17.9401 - val_mae: 0.0549\n",
      "Epoch 32/100\n",
      "1105/1105 [==============================] - 18s 17ms/step - loss: 0.0011 - mape: 5707.3198 - mae: 0.0224 - val_loss: 0.0046 - val_mape: 19.6163 - val_mae: 0.0593\n",
      "Epoch 33/100\n",
      "1105/1105 [==============================] - 18s 16ms/step - loss: 0.0011 - mape: 5566.3008 - mae: 0.0224 - val_loss: 0.0059 - val_mape: 22.1894 - val_mae: 0.0673\n",
      "Epoch 34/100\n",
      "1105/1105 [==============================] - 18s 17ms/step - loss: 0.0011 - mape: 5592.7637 - mae: 0.0223 - val_loss: 0.0034 - val_mape: 16.3918 - val_mae: 0.0505\n",
      "Epoch 35/100\n",
      "1105/1105 [==============================] - 18s 17ms/step - loss: 0.0011 - mape: 5640.7207 - mae: 0.0223 - val_loss: 0.0043 - val_mape: 18.8753 - val_mae: 0.0572\n",
      "Epoch 36/100\n",
      "1105/1105 [==============================] - 18s 17ms/step - loss: 0.0011 - mape: 5544.5171 - mae: 0.0221 - val_loss: 0.0052 - val_mape: 20.4451 - val_mae: 0.0612\n",
      "Epoch 37/100\n",
      "1105/1105 [==============================] - 18s 16ms/step - loss: 0.0011 - mape: 5431.3716 - mae: 0.0221 - val_loss: 0.0074 - val_mape: 25.3983 - val_mae: 0.0769\n",
      "Epoch 38/100\n",
      "1105/1105 [==============================] - 18s 16ms/step - loss: 0.0011 - mape: 5346.6777 - mae: 0.0220 - val_loss: 0.0077 - val_mape: 25.8235 - val_mae: 0.0778\n",
      "Epoch 39/100\n",
      "1105/1105 [==============================] - 18s 17ms/step - loss: 0.0011 - mape: 5455.5039 - mae: 0.0220 - val_loss: 0.0063 - val_mape: 22.8559 - val_mae: 0.0708\n",
      "Epoch 40/100\n",
      "1105/1105 [==============================] - 18s 16ms/step - loss: 0.0010 - mape: 5436.4976 - mae: 0.0218 - val_loss: 0.0057 - val_mape: 21.5775 - val_mae: 0.0663\n",
      "Epoch 41/100\n",
      "1105/1105 [==============================] - 18s 17ms/step - loss: 0.0010 - mape: 5373.6602 - mae: 0.0218 - val_loss: 0.0048 - val_mape: 19.9436 - val_mae: 0.0607\n",
      "Epoch 42/100\n",
      "1105/1105 [==============================] - 18s 17ms/step - loss: 0.0010 - mape: 5253.5801 - mae: 0.0216 - val_loss: 0.0052 - val_mape: 20.5355 - val_mae: 0.0633\n",
      "Epoch 43/100\n",
      "1105/1105 [==============================] - 19s 17ms/step - loss: 0.0010 - mape: 5105.8130 - mae: 0.0217 - val_loss: 0.0039 - val_mape: 17.6273 - val_mae: 0.0547\n",
      "Epoch 44/100\n",
      "1105/1105 [==============================] - 19s 17ms/step - loss: 0.0010 - mape: 5118.5039 - mae: 0.0217 - val_loss: 0.0057 - val_mape: 21.4645 - val_mae: 0.0648\n",
      "Epoch 45/100\n",
      "1105/1105 [==============================] - 19s 17ms/step - loss: 0.0010 - mape: 5226.7314 - mae: 0.0215 - val_loss: 0.0071 - val_mape: 24.7130 - val_mae: 0.0739\n",
      "Epoch 46/100\n",
      "1105/1105 [==============================] - 19s 17ms/step - loss: 0.0010 - mape: 4724.6279 - mae: 0.0216 - val_loss: 0.0035 - val_mape: 16.6206 - val_mae: 0.0513\n",
      "Epoch 47/100\n"
     ]
    },
    {
     "name": "stdout",
     "output_type": "stream",
     "text": [
      "1105/1105 [==============================] - 17s 16ms/step - loss: 9.9403e-04 - mape: 4711.4541 - mae: 0.0214 - val_loss: 0.0072 - val_mape: 24.5396 - val_mae: 0.0755\n",
      "Epoch 48/100\n",
      "1105/1105 [==============================] - 17s 15ms/step - loss: 0.0010 - mape: 4913.2051 - mae: 0.0216 - val_loss: 0.0043 - val_mape: 18.2906 - val_mae: 0.0556\n",
      "Epoch 49/100\n",
      "1105/1105 [==============================] - 17s 15ms/step - loss: 9.9527e-04 - mape: 4892.3291 - mae: 0.0215 - val_loss: 0.0068 - val_mape: 23.9178 - val_mae: 0.0739\n",
      "Epoch 50/100\n",
      "1105/1105 [==============================] - 17s 16ms/step - loss: 0.0010 - mape: 4938.3218 - mae: 0.0216 - val_loss: 0.0053 - val_mape: 21.0086 - val_mae: 0.0644\n",
      "Epoch 51/100\n",
      "1105/1105 [==============================] - 17s 16ms/step - loss: 9.8077e-04 - mape: 4720.1299 - mae: 0.0213 - val_loss: 0.0053 - val_mape: 20.5477 - val_mae: 0.0629\n",
      "Epoch 52/100\n",
      "1105/1105 [==============================] - 17s 16ms/step - loss: 0.0010 - mape: 4566.4922 - mae: 0.0216 - val_loss: 0.0049 - val_mape: 19.7082 - val_mae: 0.0601\n",
      "Epoch 53/100\n",
      "1105/1105 [==============================] - 17s 15ms/step - loss: 9.8256e-04 - mape: 4687.1470 - mae: 0.0215 - val_loss: 0.0040 - val_mape: 18.1545 - val_mae: 0.0561\n",
      "Epoch 54/100\n",
      "1105/1105 [==============================] - 17s 16ms/step - loss: 9.8591e-04 - mape: 4538.6973 - mae: 0.0213 - val_loss: 0.0048 - val_mape: 19.6952 - val_mae: 0.0604\n",
      "Epoch 55/100\n",
      "1105/1105 [==============================] - 17s 16ms/step - loss: 9.9963e-04 - mape: 5057.3398 - mae: 0.0216 - val_loss: 0.0047 - val_mape: 19.6060 - val_mae: 0.0600\n",
      "Epoch 56/100\n",
      "1105/1105 [==============================] - 17s 16ms/step - loss: 9.6308e-04 - mape: 4797.4604 - mae: 0.0211 - val_loss: 0.0046 - val_mape: 18.8979 - val_mae: 0.0572\n",
      "Epoch 57/100\n",
      "1105/1105 [==============================] - 17s 15ms/step - loss: 9.6932e-04 - mape: 4515.8618 - mae: 0.0212 - val_loss: 0.0044 - val_mape: 18.7390 - val_mae: 0.0569\n",
      "Epoch 58/100\n",
      "1105/1105 [==============================] - 17s 16ms/step - loss: 9.3264e-04 - mape: 3490.9663 - mae: 0.0210 - val_loss: 0.0048 - val_mape: 19.9907 - val_mae: 0.0620\n",
      "Epoch 59/100\n",
      "1105/1105 [==============================] - 17s 16ms/step - loss: 9.4125e-04 - mape: 3620.4263 - mae: 0.0210 - val_loss: 0.0049 - val_mape: 19.9912 - val_mae: 0.0613\n",
      "Epoch 60/100\n",
      "1105/1105 [==============================] - 17s 16ms/step - loss: 9.9461e-04 - mape: 4786.4058 - mae: 0.0215 - val_loss: 0.0041 - val_mape: 18.2104 - val_mae: 0.0560\n",
      "Epoch 61/100\n",
      "1105/1105 [==============================] - 17s 16ms/step - loss: 9.7921e-04 - mape: 4328.5474 - mae: 0.0213 - val_loss: 0.0051 - val_mape: 20.3747 - val_mae: 0.0628\n",
      "Epoch 62/100\n",
      "1105/1105 [==============================] - 18s 16ms/step - loss: 9.5048e-04 - mape: 3939.9006 - mae: 0.0210 - val_loss: 0.0045 - val_mape: 19.1624 - val_mae: 0.0592\n",
      "Epoch 63/100\n",
      "1105/1105 [==============================] - 18s 16ms/step - loss: 9.5249e-04 - mape: 3662.1846 - mae: 0.0211 - val_loss: 0.0041 - val_mape: 18.3929 - val_mae: 0.0570\n",
      "Epoch 64/100\n",
      "1105/1105 [==============================] - 17s 16ms/step - loss: 9.4621e-04 - mape: 3988.0291 - mae: 0.0210 - val_loss: 0.0050 - val_mape: 20.3108 - val_mae: 0.0626\n",
      "Epoch 65/100\n",
      "1105/1105 [==============================] - 18s 16ms/step - loss: 9.3606e-04 - mape: 3401.4897 - mae: 0.0210 - val_loss: 0.0050 - val_mape: 20.3773 - val_mae: 0.0621\n",
      "Epoch 66/100\n",
      "1105/1105 [==============================] - 18s 16ms/step - loss: 9.1559e-04 - mape: 3489.6084 - mae: 0.0210 - val_loss: 0.0046 - val_mape: 19.0190 - val_mae: 0.0583\n",
      "Epoch 67/100\n",
      "1105/1105 [==============================] - 18s 16ms/step - loss: 8.9656e-04 - mape: 3546.7307 - mae: 0.0207 - val_loss: 0.0053 - val_mape: 20.7246 - val_mae: 0.0632\n",
      "Epoch 68/100\n",
      "1105/1105 [==============================] - 18s 17ms/step - loss: 9.1709e-04 - mape: 3592.4219 - mae: 0.0208 - val_loss: 0.0038 - val_mape: 17.3918 - val_mae: 0.0522\n",
      "Epoch 69/100\n",
      "1105/1105 [==============================] - 18s 16ms/step - loss: 9.3375e-04 - mape: 3778.2566 - mae: 0.0209 - val_loss: 0.0046 - val_mape: 19.3291 - val_mae: 0.0587\n",
      "Epoch 70/100\n",
      "1105/1105 [==============================] - 18s 16ms/step - loss: 8.7453e-04 - mape: 2937.9875 - mae: 0.0204 - val_loss: 0.0045 - val_mape: 18.7371 - val_mae: 0.0564\n",
      "Epoch 71/100\n",
      "1105/1105 [==============================] - 17s 16ms/step - loss: 9.4868e-04 - mape: 4331.7129 - mae: 0.0209 - val_loss: 0.0045 - val_mape: 18.9644 - val_mae: 0.0577\n",
      "Epoch 72/100\n",
      "1105/1105 [==============================] - 18s 16ms/step - loss: 9.2875e-04 - mape: 3926.6611 - mae: 0.0209 - val_loss: 0.0039 - val_mape: 17.5595 - val_mae: 0.0540\n",
      "Epoch 73/100\n",
      "1105/1105 [==============================] - 18s 16ms/step - loss: 8.7779e-04 - mape: 2927.2446 - mae: 0.0206 - val_loss: 0.0044 - val_mape: 18.7458 - val_mae: 0.0571\n",
      "Epoch 74/100\n",
      "1105/1105 [==============================] - 18s 16ms/step - loss: 8.8769e-04 - mape: 3531.8735 - mae: 0.0206 - val_loss: 0.0053 - val_mape: 20.8897 - val_mae: 0.0646\n",
      "Epoch 75/100\n",
      "1105/1105 [==============================] - 18s 17ms/step - loss: 9.3066e-04 - mape: 3239.1785 - mae: 0.0209 - val_loss: 0.0030 - val_mape: 14.9648 - val_mae: 0.0468\n",
      "Epoch 76/100\n",
      "1105/1105 [==============================] - 18s 16ms/step - loss: 9.1810e-04 - mape: 3495.1997 - mae: 0.0208 - val_loss: 0.0057 - val_mape: 21.7506 - val_mae: 0.0659\n",
      "Epoch 77/100\n",
      "1105/1105 [==============================] - 18s 16ms/step - loss: 8.4493e-04 - mape: 3328.4500 - mae: 0.0204 - val_loss: 0.0054 - val_mape: 21.1053 - val_mae: 0.0646\n",
      "Epoch 78/100\n",
      "1105/1105 [==============================] - 18s 16ms/step - loss: 9.3114e-04 - mape: 3430.4141 - mae: 0.0207 - val_loss: 0.0043 - val_mape: 18.4690 - val_mae: 0.0562\n",
      "Epoch 79/100\n",
      "1105/1105 [==============================] - 18s 16ms/step - loss: 8.7931e-04 - mape: 2662.5007 - mae: 0.0205 - val_loss: 0.0051 - val_mape: 20.1160 - val_mae: 0.0612\n",
      "Epoch 80/100\n",
      "1105/1105 [==============================] - 18s 16ms/step - loss: 8.7880e-04 - mape: 3608.1516 - mae: 0.0206 - val_loss: 0.0044 - val_mape: 18.7575 - val_mae: 0.0561\n",
      "Epoch 81/100\n",
      "1105/1105 [==============================] - 18s 17ms/step - loss: 8.4775e-04 - mape: 2468.8650 - mae: 0.0203 - val_loss: 0.0048 - val_mape: 19.6606 - val_mae: 0.0594\n",
      "Epoch 82/100\n",
      "1105/1105 [==============================] - 18s 16ms/step - loss: 9.0246e-04 - mape: 2916.4470 - mae: 0.0208 - val_loss: 0.0047 - val_mape: 19.1904 - val_mae: 0.0583\n",
      "Epoch 83/100\n",
      "1105/1105 [==============================] - 18s 17ms/step - loss: 8.8864e-04 - mape: 3464.1824 - mae: 0.0205 - val_loss: 0.0037 - val_mape: 16.7974 - val_mae: 0.0504\n",
      "Epoch 84/100\n",
      "1105/1105 [==============================] - 18s 17ms/step - loss: 9.0348e-04 - mape: 2391.2061 - mae: 0.0206 - val_loss: 0.0046 - val_mape: 19.3957 - val_mae: 0.0591\n",
      "Epoch 85/100\n",
      "1105/1105 [==============================] - 19s 17ms/step - loss: 8.3864e-04 - mape: 3786.9321 - mae: 0.0202 - val_loss: 0.0044 - val_mape: 18.5797 - val_mae: 0.0561\n",
      "Epoch 86/100\n",
      "1105/1105 [==============================] - 18s 16ms/step - loss: 8.3661e-04 - mape: 2771.6008 - mae: 0.0201 - val_loss: 0.0033 - val_mape: 16.0347 - val_mae: 0.0498\n",
      "Epoch 87/100\n",
      "1105/1105 [==============================] - 18s 17ms/step - loss: 8.6976e-04 - mape: 3781.3064 - mae: 0.0204 - val_loss: 0.0049 - val_mape: 19.8735 - val_mae: 0.0607\n",
      "Epoch 88/100\n",
      "1105/1105 [==============================] - 18s 16ms/step - loss: 7.9065e-04 - mape: 2772.0640 - mae: 0.0199 - val_loss: 0.0032 - val_mape: 15.7706 - val_mae: 0.0481\n",
      "Epoch 89/100\n",
      "1105/1105 [==============================] - 18s 16ms/step - loss: 8.1796e-04 - mape: 2773.9033 - mae: 0.0201 - val_loss: 0.0049 - val_mape: 20.0739 - val_mae: 0.0613\n",
      "Epoch 90/100\n",
      "1105/1105 [==============================] - 18s 16ms/step - loss: 8.5355e-04 - mape: 3078.4678 - mae: 0.0203 - val_loss: 0.0063 - val_mape: 23.2583 - val_mae: 0.0700\n",
      "Epoch 91/100\n",
      "1105/1105 [==============================] - 18s 16ms/step - loss: 8.1578e-04 - mape: 2210.2871 - mae: 0.0199 - val_loss: 0.0039 - val_mape: 17.4216 - val_mae: 0.0534\n",
      "Epoch 92/100\n",
      "1105/1105 [==============================] - 18s 16ms/step - loss: 7.8605e-04 - mape: 2434.6196 - mae: 0.0197 - val_loss: 0.0036 - val_mape: 16.6381 - val_mae: 0.0505\n"
     ]
    },
    {
     "name": "stdout",
     "output_type": "stream",
     "text": [
      "Epoch 93/100\n",
      "1105/1105 [==============================] - 17s 15ms/step - loss: 8.7887e-04 - mape: 3134.2280 - mae: 0.0205 - val_loss: 0.0037 - val_mape: 16.4990 - val_mae: 0.0511\n",
      "Epoch 94/100\n",
      "1105/1105 [==============================] - 17s 15ms/step - loss: 9.1038e-04 - mape: 3607.5256 - mae: 0.0206 - val_loss: 0.0061 - val_mape: 22.5208 - val_mae: 0.0682\n",
      "Epoch 95/100\n",
      "1105/1105 [==============================] - 17s 16ms/step - loss: 7.7244e-04 - mape: 2661.5872 - mae: 0.0197 - val_loss: 0.0055 - val_mape: 21.3254 - val_mae: 0.0642\n",
      "Epoch 96/100\n",
      "1105/1105 [==============================] - 17s 15ms/step - loss: 8.5126e-04 - mape: 3791.4255 - mae: 0.0202 - val_loss: 0.0044 - val_mape: 18.9221 - val_mae: 0.0584\n",
      "Epoch 97/100\n",
      "1105/1105 [==============================] - 17s 16ms/step - loss: 7.8155e-04 - mape: 2105.6140 - mae: 0.0197 - val_loss: 0.0037 - val_mape: 16.9399 - val_mae: 0.0518\n",
      "Epoch 98/100\n",
      "1105/1105 [==============================] - 18s 16ms/step - loss: 7.5431e-04 - mape: 2741.1462 - mae: 0.0195 - val_loss: 0.0052 - val_mape: 20.4920 - val_mae: 0.0627\n",
      "Epoch 99/100\n",
      "1105/1105 [==============================] - 17s 16ms/step - loss: 7.8172e-04 - mape: 2875.1602 - mae: 0.0198 - val_loss: 0.0046 - val_mape: 18.8422 - val_mae: 0.0565\n",
      "Epoch 100/100\n",
      "1105/1105 [==============================] - 17s 15ms/step - loss: 8.0184e-04 - mape: 2215.1057 - mae: 0.0199 - val_loss: 0.0038 - val_mape: 17.1305 - val_mae: 0.0521\n"
     ]
    },
    {
     "data": {
      "text/plain": [
       "<keras.callbacks.History at 0x2381a32ba00>"
      ]
     },
     "execution_count": 22,
     "metadata": {},
     "output_type": "execute_result"
    }
   ],
   "source": [
    "model.fit(X_train, Y_train, epochs= epochs, batch_size= batchSize, verbose= 1, shuffle= True, validation_data= (X_valid, Y_valid))"
   ]
  },
  {
   "cell_type": "code",
   "execution_count": 23,
   "id": "cd839153",
   "metadata": {},
   "outputs": [
    {
     "name": "stdout",
     "output_type": "stream",
     "text": [
      "Total execution time in seconds: 1789.6310725212097\n"
     ]
    }
   ],
   "source": [
    "calcExecTime = (time.time() - startTime)\n",
    "print('Total execution time in seconds: ' + str(calcExecTime))"
   ]
  },
  {
   "cell_type": "markdown",
   "id": "72aafa74",
   "metadata": {},
   "source": [
    "### MAKING PREDICTIONS AND GENERATING RESULTS"
   ]
  },
  {
   "cell_type": "code",
   "execution_count": 24,
   "id": "259bfb49",
   "metadata": {},
   "outputs": [
    {
     "name": "stdout",
     "output_type": "stream",
     "text": [
      "6/6 [==============================] - 1s 10ms/step\n"
     ]
    }
   ],
   "source": [
    "predictions = model.predict(X_test)"
   ]
  },
  {
   "cell_type": "code",
   "execution_count": 25,
   "id": "2912d431",
   "metadata": {},
   "outputs": [
    {
     "data": {
      "text/plain": [
       "array([0.18149284, 0.18148564, 0.18593463, ..., 0.25480166, 0.25552678,\n",
       "       0.25651166], dtype=float32)"
      ]
     },
     "execution_count": 25,
     "metadata": {},
     "output_type": "execute_result"
    }
   ],
   "source": [
    "predArr = predictions.reshape(predictions.shape[0] * predictions.shape[1], predictions.shape[2]).ravel()\n",
    "predArr"
   ]
  },
  {
   "cell_type": "code",
   "execution_count": 26,
   "id": "b01889f2",
   "metadata": {},
   "outputs": [
    {
     "data": {
      "text/plain": [
       "array([0.23495642, 0.23426242, 0.2382909 , ..., 0.28913643, 0.29144545,\n",
       "       0.31724778])"
      ]
     },
     "execution_count": 26,
     "metadata": {},
     "output_type": "execute_result"
    }
   ],
   "source": [
    "Y_testArr = Y_test.reshape(Y_test.shape[0] * Y_test.shape[1], Y_test.shape[2]).ravel()\n",
    "Y_testArr"
   ]
  },
  {
   "cell_type": "code",
   "execution_count": 27,
   "id": "799c97e8",
   "metadata": {},
   "outputs": [],
   "source": [
    "def inverse_transform(df):\n",
    "    column_names = df.columns\n",
    "    for col in column_names:\n",
    "        df[col] = ValScaler.inverse_transform(df[[col]]) \n",
    "    return df"
   ]
  },
  {
   "cell_type": "code",
   "execution_count": 28,
   "id": "afa81e30",
   "metadata": {},
   "outputs": [
    {
     "data": {
      "text/html": [
       "<div>\n",
       "<style scoped>\n",
       "    .dataframe tbody tr th:only-of-type {\n",
       "        vertical-align: middle;\n",
       "    }\n",
       "\n",
       "    .dataframe tbody tr th {\n",
       "        vertical-align: top;\n",
       "    }\n",
       "\n",
       "    .dataframe thead th {\n",
       "        text-align: right;\n",
       "    }\n",
       "</style>\n",
       "<table border=\"1\" class=\"dataframe\">\n",
       "  <thead>\n",
       "    <tr style=\"text-align: right;\">\n",
       "      <th></th>\n",
       "      <th>Values</th>\n",
       "      <th>Predictions</th>\n",
       "    </tr>\n",
       "  </thead>\n",
       "  <tbody>\n",
       "    <tr>\n",
       "      <th>0</th>\n",
       "      <td>5488.58</td>\n",
       "      <td>4577.232422</td>\n",
       "    </tr>\n",
       "    <tr>\n",
       "      <th>1</th>\n",
       "      <td>5476.75</td>\n",
       "      <td>4577.109375</td>\n",
       "    </tr>\n",
       "    <tr>\n",
       "      <th>2</th>\n",
       "      <td>5545.42</td>\n",
       "      <td>4652.948242</td>\n",
       "    </tr>\n",
       "    <tr>\n",
       "      <th>3</th>\n",
       "      <td>5443.58</td>\n",
       "      <td>4570.843750</td>\n",
       "    </tr>\n",
       "    <tr>\n",
       "      <th>4</th>\n",
       "      <td>5289.07</td>\n",
       "      <td>4658.024902</td>\n",
       "    </tr>\n",
       "    <tr>\n",
       "      <th>...</th>\n",
       "      <td>...</td>\n",
       "      <td>...</td>\n",
       "    </tr>\n",
       "    <tr>\n",
       "      <th>4363</th>\n",
       "      <td>6911.08</td>\n",
       "      <td>5815.622559</td>\n",
       "    </tr>\n",
       "    <tr>\n",
       "      <th>4364</th>\n",
       "      <td>6638.85</td>\n",
       "      <td>5818.473633</td>\n",
       "    </tr>\n",
       "    <tr>\n",
       "      <th>4365</th>\n",
       "      <td>6412.14</td>\n",
       "      <td>5826.865234</td>\n",
       "    </tr>\n",
       "    <tr>\n",
       "      <th>4366</th>\n",
       "      <td>6451.50</td>\n",
       "      <td>5839.225586</td>\n",
       "    </tr>\n",
       "    <tr>\n",
       "      <th>4367</th>\n",
       "      <td>6891.33</td>\n",
       "      <td>5856.013672</td>\n",
       "    </tr>\n",
       "  </tbody>\n",
       "</table>\n",
       "<p>4368 rows × 2 columns</p>\n",
       "</div>"
      ],
      "text/plain": [
       "       Values  Predictions\n",
       "0     5488.58  4577.232422\n",
       "1     5476.75  4577.109375\n",
       "2     5545.42  4652.948242\n",
       "3     5443.58  4570.843750\n",
       "4     5289.07  4658.024902\n",
       "...       ...          ...\n",
       "4363  6911.08  5815.622559\n",
       "4364  6638.85  5818.473633\n",
       "4365  6412.14  5826.865234\n",
       "4366  6451.50  5839.225586\n",
       "4367  6891.33  5856.013672\n",
       "\n",
       "[4368 rows x 2 columns]"
      ]
     },
     "execution_count": 28,
     "metadata": {},
     "output_type": "execute_result"
    }
   ],
   "source": [
    "comparisionDf = pd.DataFrame(data= {\"Values\": Y_testArr, \"Predictions\": predArr})\n",
    "comparisionDf = inverse_transform(comparisionDf)\n",
    "comparisionDf"
   ]
  },
  {
   "cell_type": "code",
   "execution_count": 29,
   "id": "88222bae",
   "metadata": {},
   "outputs": [
    {
     "data": {
      "text/plain": [
       "8.692620908851254"
      ]
     },
     "execution_count": 29,
     "metadata": {},
     "output_type": "execute_result"
    }
   ],
   "source": [
    "mape(comparisionDf[\"Values\"], comparisionDf[\"Predictions\"])"
   ]
  }
 ],
 "metadata": {
  "kernelspec": {
   "display_name": "Python 3 (ipykernel)",
   "language": "python",
   "name": "python3"
  },
  "language_info": {
   "codemirror_mode": {
    "name": "ipython",
    "version": 3
   },
   "file_extension": ".py",
   "mimetype": "text/x-python",
   "name": "python",
   "nbconvert_exporter": "python",
   "pygments_lexer": "ipython3",
   "version": "3.9.12"
  }
 },
 "nbformat": 4,
 "nbformat_minor": 5
}
