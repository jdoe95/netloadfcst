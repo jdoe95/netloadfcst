{
 "cells": [
  {
   "cell_type": "code",
   "execution_count": 1,
   "id": "5f61b29f",
   "metadata": {},
   "outputs": [
    {
     "name": "stdout",
     "output_type": "stream",
     "text": [
      "Num GPUs Available:  1\n"
     ]
    }
   ],
   "source": [
    "import pandas as pd\n",
    "import numpy as np\n",
    "import os\n",
    "import matplotlib.pyplot as plt\n",
    "from datetime import datetime\n",
    "from sklearn.preprocessing import MinMaxScaler, RobustScaler, StandardScaler\n",
    "import time\n",
    "\n",
    "import tensorflow as tf\n",
    "tf.random.set_seed(42)\n",
    "\n",
    "def mape(y_true, y_pred):\n",
    "    y_true, y_pred = np.array(y_true), np.array(y_pred)\n",
    "    return np.mean(np.abs((y_true - y_pred) / max(y_true))) * 100\n",
    "\n",
    "def RMSELoss(yhat,y):\n",
    "    return torch.sqrt(torch.mean((yhat-y)**2))\n",
    "\n",
    "print(\"Num GPUs Available: \", len(tf.config.list_physical_devices('GPU')))"
   ]
  },
  {
   "cell_type": "code",
   "execution_count": 2,
   "id": "cea0abe2",
   "metadata": {},
   "outputs": [
    {
     "name": "stdout",
     "output_type": "stream",
     "text": [
      "['COAST.csv', 'EAST.csv', 'FWEST.csv', 'NCENT.csv', 'NORTH.csv', 'SCENT.csv', 'SOUTH.csv', 'WEST.csv']\n"
     ]
    }
   ],
   "source": [
    "# Specifying the path of file\n",
    "path= r\"C:\\Users\\sashah8\\OneDrive - North Carolina State University\\Desktop\\Q4\\Data\\L2\\data_cleaned\"\n",
    "\n",
    "# Listing just the required files\n",
    "fileList = os.listdir(path)\n",
    "fileList.remove(\"Date.csv\")\n",
    "\n",
    "# Previewing the required file names\n",
    "print(fileList)"
   ]
  },
  {
   "cell_type": "code",
   "execution_count": 3,
   "id": "a6fe9396",
   "metadata": {},
   "outputs": [
    {
     "data": {
      "text/html": [
       "<div>\n",
       "<style scoped>\n",
       "    .dataframe tbody tr th:only-of-type {\n",
       "        vertical-align: middle;\n",
       "    }\n",
       "\n",
       "    .dataframe tbody tr th {\n",
       "        vertical-align: top;\n",
       "    }\n",
       "\n",
       "    .dataframe thead th {\n",
       "        text-align: right;\n",
       "    }\n",
       "</style>\n",
       "<table border=\"1\" class=\"dataframe\">\n",
       "  <thead>\n",
       "    <tr style=\"text-align: right;\">\n",
       "      <th></th>\n",
       "      <th>Net</th>\n",
       "      <th>Temprature</th>\n",
       "    </tr>\n",
       "  </thead>\n",
       "  <tbody>\n",
       "    <tr>\n",
       "      <th>0</th>\n",
       "      <td>9844.200268</td>\n",
       "      <td>6.8</td>\n",
       "    </tr>\n",
       "    <tr>\n",
       "      <th>1</th>\n",
       "      <td>9653.456269</td>\n",
       "      <td>7.1</td>\n",
       "    </tr>\n",
       "    <tr>\n",
       "      <th>2</th>\n",
       "      <td>9502.299659</td>\n",
       "      <td>7.1</td>\n",
       "    </tr>\n",
       "    <tr>\n",
       "      <th>3</th>\n",
       "      <td>9474.478036</td>\n",
       "      <td>7.0</td>\n",
       "    </tr>\n",
       "    <tr>\n",
       "      <th>4</th>\n",
       "      <td>9554.370489</td>\n",
       "      <td>6.5</td>\n",
       "    </tr>\n",
       "    <tr>\n",
       "      <th>...</th>\n",
       "      <td>...</td>\n",
       "      <td>...</td>\n",
       "    </tr>\n",
       "    <tr>\n",
       "      <th>43818</th>\n",
       "      <td>11109.257856</td>\n",
       "      <td>14.8</td>\n",
       "    </tr>\n",
       "    <tr>\n",
       "      <th>43819</th>\n",
       "      <td>10846.500062</td>\n",
       "      <td>14.3</td>\n",
       "    </tr>\n",
       "    <tr>\n",
       "      <th>43820</th>\n",
       "      <td>10592.539874</td>\n",
       "      <td>14.1</td>\n",
       "    </tr>\n",
       "    <tr>\n",
       "      <th>43821</th>\n",
       "      <td>10304.624870</td>\n",
       "      <td>13.7</td>\n",
       "    </tr>\n",
       "    <tr>\n",
       "      <th>43822</th>\n",
       "      <td>10019.771129</td>\n",
       "      <td>12.9</td>\n",
       "    </tr>\n",
       "  </tbody>\n",
       "</table>\n",
       "<p>43823 rows × 2 columns</p>\n",
       "</div>"
      ],
      "text/plain": [
       "                Net  Temprature\n",
       "0       9844.200268         6.8\n",
       "1       9653.456269         7.1\n",
       "2       9502.299659         7.1\n",
       "3       9474.478036         7.0\n",
       "4       9554.370489         6.5\n",
       "...             ...         ...\n",
       "43818  11109.257856        14.8\n",
       "43819  10846.500062        14.3\n",
       "43820  10592.539874        14.1\n",
       "43821  10304.624870        13.7\n",
       "43822  10019.771129        12.9\n",
       "\n",
       "[43823 rows x 2 columns]"
      ]
     },
     "execution_count": 3,
     "metadata": {},
     "output_type": "execute_result"
    }
   ],
   "source": [
    "# Just for previewing the columns\n",
    "pd.read_csv(os.path.join(path, fileList[0]))"
   ]
  },
  {
   "cell_type": "markdown",
   "id": "9ad4906c",
   "metadata": {
    "pycharm": {
     "name": "#%% md\n"
    }
   },
   "source": [
    "### PROCESSING THE DATA"
   ]
  },
  {
   "cell_type": "code",
   "execution_count": 4,
   "id": "f29f6db2",
   "metadata": {},
   "outputs": [
    {
     "data": {
      "text/html": [
       "<div>\n",
       "<style scoped>\n",
       "    .dataframe tbody tr th:only-of-type {\n",
       "        vertical-align: middle;\n",
       "    }\n",
       "\n",
       "    .dataframe tbody tr th {\n",
       "        vertical-align: top;\n",
       "    }\n",
       "\n",
       "    .dataframe thead th {\n",
       "        text-align: right;\n",
       "    }\n",
       "</style>\n",
       "<table border=\"1\" class=\"dataframe\">\n",
       "  <thead>\n",
       "    <tr style=\"text-align: right;\">\n",
       "      <th></th>\n",
       "      <th>Load_COAST</th>\n",
       "      <th>Temp_COAST</th>\n",
       "    </tr>\n",
       "  </thead>\n",
       "  <tbody>\n",
       "    <tr>\n",
       "      <th>0</th>\n",
       "      <td>9844.200268</td>\n",
       "      <td>6.8</td>\n",
       "    </tr>\n",
       "    <tr>\n",
       "      <th>1</th>\n",
       "      <td>9844.200268</td>\n",
       "      <td>6.8</td>\n",
       "    </tr>\n",
       "    <tr>\n",
       "      <th>2</th>\n",
       "      <td>9653.456269</td>\n",
       "      <td>7.1</td>\n",
       "    </tr>\n",
       "    <tr>\n",
       "      <th>3</th>\n",
       "      <td>9502.299659</td>\n",
       "      <td>7.1</td>\n",
       "    </tr>\n",
       "    <tr>\n",
       "      <th>4</th>\n",
       "      <td>9474.478036</td>\n",
       "      <td>7.0</td>\n",
       "    </tr>\n",
       "    <tr>\n",
       "      <th>...</th>\n",
       "      <td>...</td>\n",
       "      <td>...</td>\n",
       "    </tr>\n",
       "    <tr>\n",
       "      <th>43819</th>\n",
       "      <td>11109.257856</td>\n",
       "      <td>14.8</td>\n",
       "    </tr>\n",
       "    <tr>\n",
       "      <th>43820</th>\n",
       "      <td>10846.500062</td>\n",
       "      <td>14.3</td>\n",
       "    </tr>\n",
       "    <tr>\n",
       "      <th>43821</th>\n",
       "      <td>10592.539874</td>\n",
       "      <td>14.1</td>\n",
       "    </tr>\n",
       "    <tr>\n",
       "      <th>43822</th>\n",
       "      <td>10304.624870</td>\n",
       "      <td>13.7</td>\n",
       "    </tr>\n",
       "    <tr>\n",
       "      <th>43823</th>\n",
       "      <td>10019.771129</td>\n",
       "      <td>12.9</td>\n",
       "    </tr>\n",
       "  </tbody>\n",
       "</table>\n",
       "<p>43824 rows × 2 columns</p>\n",
       "</div>"
      ],
      "text/plain": [
       "         Load_COAST  Temp_COAST\n",
       "0       9844.200268         6.8\n",
       "1       9844.200268         6.8\n",
       "2       9653.456269         7.1\n",
       "3       9502.299659         7.1\n",
       "4       9474.478036         7.0\n",
       "...             ...         ...\n",
       "43819  11109.257856        14.8\n",
       "43820  10846.500062        14.3\n",
       "43821  10592.539874        14.1\n",
       "43822  10304.624870        13.7\n",
       "43823  10019.771129        12.9\n",
       "\n",
       "[43824 rows x 2 columns]"
      ]
     },
     "execution_count": 4,
     "metadata": {},
     "output_type": "execute_result"
    }
   ],
   "source": [
    "# Restricting the load data to a single zone\n",
    "fileName  = fileList[0]\n",
    "\n",
    "zoneData = pd.read_csv(os.path.join(path, fileName))\n",
    "zoneData.columns = [\"Load_\"+str(fileName[:-4]), \"Temp_\"+str(fileName[:-4])]\n",
    "\n",
    "# For fixing one missing row\n",
    "zoneData = pd.concat([zoneData.loc[[0]], zoneData], axis= 0).reset_index(drop= True)\n",
    "\n",
    "zoneData"
   ]
  },
  {
   "cell_type": "markdown",
   "id": "01cec4bd",
   "metadata": {},
   "source": [
    "### FEATURE ENGINEERING AND SPLITTING INTO TRAIN-TEST SPLIT"
   ]
  },
  {
   "cell_type": "code",
   "execution_count": 5,
   "id": "a1e1e8a3",
   "metadata": {},
   "outputs": [],
   "source": [
    "def lagGenerator(dF, lagList):\n",
    "    dF_temp = dF.filter(regex= \"Load\").copy()\n",
    "    \n",
    "    for i in lagList:\n",
    "        dF_temp.loc[:, \"Lag-\" + str(i)] = dF_temp.iloc[:,[0]].shift(i*24)\n",
    "    \n",
    "    return(dF_temp.filter(regex= \"Lag\"))"
   ]
  },
  {
   "cell_type": "code",
   "execution_count": 6,
   "id": "159a2a82",
   "metadata": {},
   "outputs": [
    {
     "data": {
      "text/html": [
       "<div>\n",
       "<style scoped>\n",
       "    .dataframe tbody tr th:only-of-type {\n",
       "        vertical-align: middle;\n",
       "    }\n",
       "\n",
       "    .dataframe tbody tr th {\n",
       "        vertical-align: top;\n",
       "    }\n",
       "\n",
       "    .dataframe thead th {\n",
       "        text-align: right;\n",
       "    }\n",
       "</style>\n",
       "<table border=\"1\" class=\"dataframe\">\n",
       "  <thead>\n",
       "    <tr style=\"text-align: right;\">\n",
       "      <th></th>\n",
       "      <th>Lag-2</th>\n",
       "      <th>Lag-7</th>\n",
       "    </tr>\n",
       "  </thead>\n",
       "  <tbody>\n",
       "    <tr>\n",
       "      <th>0</th>\n",
       "      <td>NaN</td>\n",
       "      <td>NaN</td>\n",
       "    </tr>\n",
       "    <tr>\n",
       "      <th>1</th>\n",
       "      <td>NaN</td>\n",
       "      <td>NaN</td>\n",
       "    </tr>\n",
       "  </tbody>\n",
       "</table>\n",
       "</div>"
      ],
      "text/plain": [
       "   Lag-2  Lag-7\n",
       "0    NaN    NaN\n",
       "1    NaN    NaN"
      ]
     },
     "execution_count": 6,
     "metadata": {},
     "output_type": "execute_result"
    }
   ],
   "source": [
    "Load_lags = lagGenerator(dF=zoneData, lagList=[2,7])\n",
    "Load_lags.head(2)"
   ]
  },
  {
   "cell_type": "code",
   "execution_count": 7,
   "id": "05896954",
   "metadata": {},
   "outputs": [
    {
     "data": {
      "text/html": [
       "<div>\n",
       "<style scoped>\n",
       "    .dataframe tbody tr th:only-of-type {\n",
       "        vertical-align: middle;\n",
       "    }\n",
       "\n",
       "    .dataframe tbody tr th {\n",
       "        vertical-align: top;\n",
       "    }\n",
       "\n",
       "    .dataframe thead th {\n",
       "        text-align: right;\n",
       "    }\n",
       "</style>\n",
       "<table border=\"1\" class=\"dataframe\">\n",
       "  <thead>\n",
       "    <tr style=\"text-align: right;\">\n",
       "      <th></th>\n",
       "      <th>Load_COAST</th>\n",
       "      <th>Temp_COAST</th>\n",
       "      <th>Lag-2</th>\n",
       "      <th>Lag-7</th>\n",
       "    </tr>\n",
       "  </thead>\n",
       "  <tbody>\n",
       "    <tr>\n",
       "      <th>0</th>\n",
       "      <td>10882.679600</td>\n",
       "      <td>11.0</td>\n",
       "      <td>10663.854100</td>\n",
       "      <td>9844.200268</td>\n",
       "    </tr>\n",
       "    <tr>\n",
       "      <th>1</th>\n",
       "      <td>10671.664509</td>\n",
       "      <td>11.1</td>\n",
       "      <td>10311.614249</td>\n",
       "      <td>9844.200268</td>\n",
       "    </tr>\n",
       "    <tr>\n",
       "      <th>2</th>\n",
       "      <td>10685.756321</td>\n",
       "      <td>11.2</td>\n",
       "      <td>10153.955297</td>\n",
       "      <td>9653.456269</td>\n",
       "    </tr>\n",
       "    <tr>\n",
       "      <th>3</th>\n",
       "      <td>10816.410606</td>\n",
       "      <td>9.2</td>\n",
       "      <td>10107.504102</td>\n",
       "      <td>9502.299659</td>\n",
       "    </tr>\n",
       "    <tr>\n",
       "      <th>4</th>\n",
       "      <td>11045.887947</td>\n",
       "      <td>7.9</td>\n",
       "      <td>10198.666936</td>\n",
       "      <td>9474.478036</td>\n",
       "    </tr>\n",
       "    <tr>\n",
       "      <th>...</th>\n",
       "      <td>...</td>\n",
       "      <td>...</td>\n",
       "      <td>...</td>\n",
       "      <td>...</td>\n",
       "    </tr>\n",
       "    <tr>\n",
       "      <th>43651</th>\n",
       "      <td>11109.257856</td>\n",
       "      <td>14.8</td>\n",
       "      <td>10520.134445</td>\n",
       "      <td>10523.664434</td>\n",
       "    </tr>\n",
       "    <tr>\n",
       "      <th>43652</th>\n",
       "      <td>10846.500062</td>\n",
       "      <td>14.3</td>\n",
       "      <td>10438.584114</td>\n",
       "      <td>10335.992990</td>\n",
       "    </tr>\n",
       "    <tr>\n",
       "      <th>43653</th>\n",
       "      <td>10592.539874</td>\n",
       "      <td>14.1</td>\n",
       "      <td>10306.359839</td>\n",
       "      <td>10144.751404</td>\n",
       "    </tr>\n",
       "    <tr>\n",
       "      <th>43654</th>\n",
       "      <td>10304.624870</td>\n",
       "      <td>13.7</td>\n",
       "      <td>10005.692012</td>\n",
       "      <td>9876.787820</td>\n",
       "    </tr>\n",
       "    <tr>\n",
       "      <th>43655</th>\n",
       "      <td>10019.771129</td>\n",
       "      <td>12.9</td>\n",
       "      <td>9640.110639</td>\n",
       "      <td>9562.900403</td>\n",
       "    </tr>\n",
       "  </tbody>\n",
       "</table>\n",
       "<p>43656 rows × 4 columns</p>\n",
       "</div>"
      ],
      "text/plain": [
       "         Load_COAST  Temp_COAST         Lag-2         Lag-7\n",
       "0      10882.679600        11.0  10663.854100   9844.200268\n",
       "1      10671.664509        11.1  10311.614249   9844.200268\n",
       "2      10685.756321        11.2  10153.955297   9653.456269\n",
       "3      10816.410606         9.2  10107.504102   9502.299659\n",
       "4      11045.887947         7.9  10198.666936   9474.478036\n",
       "...             ...         ...           ...           ...\n",
       "43651  11109.257856        14.8  10520.134445  10523.664434\n",
       "43652  10846.500062        14.3  10438.584114  10335.992990\n",
       "43653  10592.539874        14.1  10306.359839  10144.751404\n",
       "43654  10304.624870        13.7  10005.692012   9876.787820\n",
       "43655  10019.771129        12.9   9640.110639   9562.900403\n",
       "\n",
       "[43656 rows x 4 columns]"
      ]
     },
     "execution_count": 7,
     "metadata": {},
     "output_type": "execute_result"
    }
   ],
   "source": [
    "dataDf = pd.concat([zoneData, Load_lags], axis= 1).dropna(axis= 0).reset_index(drop= True)\n",
    "dataDf"
   ]
  },
  {
   "cell_type": "code",
   "execution_count": 8,
   "id": "6ad25321",
   "metadata": {},
   "outputs": [],
   "source": [
    "# Setting the train-test split ratio\n",
    "ratio = 0.1"
   ]
  },
  {
   "cell_type": "code",
   "execution_count": 9,
   "id": "3c08d963",
   "metadata": {},
   "outputs": [],
   "source": [
    "Num_train, Num_test = int(len(dataDf)/24 * (1 - ratio)) * 24, int(len(dataDf)/24 * ratio) * 24"
   ]
  },
  {
   "cell_type": "code",
   "execution_count": 10,
   "id": "cbe069ff",
   "metadata": {},
   "outputs": [],
   "source": [
    "# Splitting the data into train and test\n",
    "data_train, data_test = dataDf[:Num_train], dataDf[Num_train:]"
   ]
  },
  {
   "cell_type": "code",
   "execution_count": 11,
   "id": "d84e15c4",
   "metadata": {},
   "outputs": [],
   "source": [
    "Num_train, Num_valid = int(len(data_train)/24 * (1 - ratio)) * 24, int(len(data_train)/24 * ratio) * 24"
   ]
  },
  {
   "cell_type": "code",
   "execution_count": 12,
   "id": "c17d1723",
   "metadata": {},
   "outputs": [],
   "source": [
    "# Splitting the data into train and test\n",
    "data_train, data_valid = data_train[:Num_train], data_train[Num_train:]"
   ]
  },
  {
   "cell_type": "markdown",
   "id": "88d32011",
   "metadata": {},
   "source": [
    "### SPLITTING INTO X AND Y PART WITH SEQUENCE BATCHING"
   ]
  },
  {
   "cell_type": "code",
   "execution_count": 13,
   "id": "4ba286ca",
   "metadata": {},
   "outputs": [],
   "source": [
    "X_train_df, Y_train_df = data_train.iloc[:, 1:], data_train.iloc[:, :1]\n",
    "\n",
    "X_valid_df, Y_valid_df = data_valid.iloc[:, 1:], data_valid.iloc[:, :1]\n",
    "\n",
    "X_test_df, Y_test_df = data_test.iloc[:, 1:], data_test.iloc[:, :1]"
   ]
  },
  {
   "cell_type": "code",
   "execution_count": 14,
   "id": "ef1d9079",
   "metadata": {},
   "outputs": [],
   "source": [
    "# Preparing the scaler\n",
    "ValScaler = MinMaxScaler()\n",
    "\n",
    "X_train = ValScaler.fit_transform(X_train_df)\n",
    "X_valid = ValScaler.transform(X_valid_df)\n",
    "X_test = ValScaler.transform(X_test_df)\n",
    "\n",
    "Y_train = ValScaler.fit_transform(Y_train_df)\n",
    "Y_valid = ValScaler.transform(Y_valid_df)\n",
    "Y_test = ValScaler.transform(Y_test_df)"
   ]
  },
  {
   "cell_type": "code",
   "execution_count": 15,
   "id": "43594401",
   "metadata": {},
   "outputs": [],
   "source": [
    "def splitData(dataset):\n",
    "    data = np.array(np.split(dataset, len(dataset)/24))\n",
    "    return data"
   ]
  },
  {
   "cell_type": "code",
   "execution_count": 16,
   "id": "300696b2",
   "metadata": {},
   "outputs": [],
   "source": [
    "def supervisedSet(X_part, Y_part, steps= 24):\n",
    "    X_array, Y_array = np.array(X_part), np.array(Y_part)\n",
    "    X, Y = [], []\n",
    "    \n",
    "    for i in range(len(X_array)):\n",
    "        endIdx = i + steps\n",
    "        \n",
    "        if endIdx > len(X_array):\n",
    "            break\n",
    "        \n",
    "        batch_X, batch_Y = X_array[i:endIdx], Y_array[i:endIdx]\n",
    "        \n",
    "        X.append(batch_X)\n",
    "        Y.append(batch_Y)\n",
    "        \n",
    "    return np.array(X), np.array(Y)"
   ]
  },
  {
   "cell_type": "code",
   "execution_count": 17,
   "id": "fc9cd97d",
   "metadata": {},
   "outputs": [],
   "source": [
    "X_train, Y_train = supervisedSet(X_train, Y_train)\n",
    "\n",
    "X_valid, Y_valid = splitData(X_valid), splitData(Y_valid)\n",
    "\n",
    "X_test, Y_test = splitData(X_test), splitData(Y_test)"
   ]
  },
  {
   "cell_type": "markdown",
   "id": "a2a6bf32",
   "metadata": {},
   "source": [
    "### WORKING ON THE MODEL"
   ]
  },
  {
   "cell_type": "code",
   "execution_count": 18,
   "id": "ff71a98c",
   "metadata": {},
   "outputs": [],
   "source": [
    "epochs = 100\n",
    "batchSize = 32"
   ]
  },
  {
   "cell_type": "code",
   "execution_count": 19,
   "id": "8d600c17",
   "metadata": {},
   "outputs": [],
   "source": [
    "# Encoder-decoder architecture [tanh required to use tensorflow on gpu]\n",
    "model = tf.keras.Sequential([\n",
    "    tf.keras.layers.LSTM(units= 128, activation= \"tanh\", input_shape= (X_train.shape[1], X_train.shape[2]), dropout= 0.2),\n",
    "    tf.keras.layers.RepeatVector(Y_train.shape[1]),\n",
    "    tf.keras.layers.LSTM(units= 128, activation= \"tanh\", return_sequences= True, dropout= 0.2),\n",
    "    tf.keras.layers.TimeDistributed(tf.keras.layers.Dense(units= 128, activation= \"relu\")),\n",
    "    tf.keras.layers.Dropout(0.2),\n",
    "    tf.keras.layers.TimeDistributed(tf.keras.layers.Dense(units= 1))\n",
    "])\n",
    "\n",
    "model.compile(loss= \"mse\", optimizer= \"adam\",  metrics= ['mape', 'mae'])"
   ]
  },
  {
   "cell_type": "code",
   "execution_count": 20,
   "id": "a05c033a",
   "metadata": {},
   "outputs": [],
   "source": [
    "# model = tf.keras.Sequential([\n",
    "#     tf.keras.layers.LSTM(units= 256, activation= \"tanh\", input_shape= (X_train.shape[1], X_train.shape[2])),\n",
    "#     tf.keras.layers.Dense(units= 128, activation= \"tanh\"),\n",
    "#     tf.keras.layers.Dense(units= 1)\n",
    "# ])\n",
    "\n",
    "# model.compile(loss= \"mse\", optimizer= \"adam\",  metrics= ['mape', 'mae'])"
   ]
  },
  {
   "cell_type": "code",
   "execution_count": 21,
   "id": "c9390383",
   "metadata": {},
   "outputs": [],
   "source": [
    "# Storing the start time of model fitting process\n",
    "startTime = time.time()"
   ]
  },
  {
   "cell_type": "code",
   "execution_count": 22,
   "id": "e526e3ed",
   "metadata": {},
   "outputs": [
    {
     "name": "stdout",
     "output_type": "stream",
     "text": [
      "Epoch 1/100\n",
      "1105/1105 [==============================] - 17s 12ms/step - loss: 0.0137 - mape: 3507.9475 - mae: 0.0880 - val_loss: 0.0072 - val_mape: 21.9190 - val_mae: 0.0654\n",
      "Epoch 2/100\n",
      "1105/1105 [==============================] - 12s 11ms/step - loss: 0.0082 - mape: 2300.4463 - mae: 0.0690 - val_loss: 0.0149 - val_mape: 26.1825 - val_mae: 0.0935\n",
      "Epoch 3/100\n",
      "1105/1105 [==============================] - 11s 10ms/step - loss: 0.0061 - mape: 1885.8324 - mae: 0.0593 - val_loss: 0.0434 - val_mape: 42.6299 - val_mae: 0.1502\n",
      "Epoch 4/100\n",
      "1105/1105 [==============================] - 11s 10ms/step - loss: 0.0056 - mape: 1297.5703 - mae: 0.0569 - val_loss: 0.0325 - val_mape: 34.4074 - val_mae: 0.1316\n",
      "Epoch 5/100\n",
      "1105/1105 [==============================] - 11s 10ms/step - loss: 0.0052 - mape: 1612.3761 - mae: 0.0548 - val_loss: 0.0472 - val_mape: 41.1532 - val_mae: 0.1542\n",
      "Epoch 6/100\n",
      "1105/1105 [==============================] - 11s 10ms/step - loss: 0.0051 - mape: 1537.8566 - mae: 0.0540 - val_loss: 0.0432 - val_mape: 38.6862 - val_mae: 0.1496\n",
      "Epoch 7/100\n",
      "1105/1105 [==============================] - 11s 10ms/step - loss: 0.0049 - mape: 1402.5006 - mae: 0.0531 - val_loss: 0.0371 - val_mape: 34.5587 - val_mae: 0.1390\n",
      "Epoch 8/100\n",
      "1105/1105 [==============================] - 11s 10ms/step - loss: 0.0048 - mape: 1285.9935 - mae: 0.0525 - val_loss: 0.0474 - val_mape: 38.3818 - val_mae: 0.1533\n",
      "Epoch 9/100\n",
      "1105/1105 [==============================] - 11s 10ms/step - loss: 0.0048 - mape: 1295.3533 - mae: 0.0522 - val_loss: 0.0389 - val_mape: 35.0450 - val_mae: 0.1410\n",
      "Epoch 10/100\n",
      "1105/1105 [==============================] - 11s 10ms/step - loss: 0.0045 - mape: 1293.0033 - mae: 0.0506 - val_loss: 0.0408 - val_mape: 37.3368 - val_mae: 0.1459\n",
      "Epoch 11/100\n",
      "1105/1105 [==============================] - 11s 10ms/step - loss: 0.0045 - mape: 1105.6412 - mae: 0.0505 - val_loss: 0.0416 - val_mape: 40.0766 - val_mae: 0.1486\n",
      "Epoch 12/100\n",
      "1105/1105 [==============================] - 11s 10ms/step - loss: 0.0044 - mape: 1304.7308 - mae: 0.0501 - val_loss: 0.0438 - val_mape: 36.7944 - val_mae: 0.1503\n",
      "Epoch 13/100\n",
      "1105/1105 [==============================] - 11s 10ms/step - loss: 0.0042 - mape: 1074.4795 - mae: 0.0490 - val_loss: 0.0417 - val_mape: 35.4948 - val_mae: 0.1453\n",
      "Epoch 14/100\n",
      "1105/1105 [==============================] - 11s 10ms/step - loss: 0.0042 - mape: 1065.3660 - mae: 0.0487 - val_loss: 0.0419 - val_mape: 34.5033 - val_mae: 0.1440\n",
      "Epoch 15/100\n",
      "1105/1105 [==============================] - 11s 10ms/step - loss: 0.0041 - mape: 1024.2764 - mae: 0.0478 - val_loss: 0.0422 - val_mape: 36.2199 - val_mae: 0.1472\n",
      "Epoch 16/100\n",
      "1105/1105 [==============================] - 11s 10ms/step - loss: 0.0040 - mape: 1184.3787 - mae: 0.0474 - val_loss: 0.0405 - val_mape: 35.5303 - val_mae: 0.1453\n",
      "Epoch 17/100\n",
      "1105/1105 [==============================] - 11s 10ms/step - loss: 0.0039 - mape: 1167.0233 - mae: 0.0468 - val_loss: 0.0367 - val_mape: 33.4584 - val_mae: 0.1369\n",
      "Epoch 18/100\n",
      "1105/1105 [==============================] - 11s 10ms/step - loss: 0.0039 - mape: 1025.0295 - mae: 0.0469 - val_loss: 0.0456 - val_mape: 38.1633 - val_mae: 0.1540\n",
      "Epoch 19/100\n",
      "1105/1105 [==============================] - 11s 10ms/step - loss: 0.0039 - mape: 986.4949 - mae: 0.0465 - val_loss: 0.0399 - val_mape: 35.4690 - val_mae: 0.1418\n",
      "Epoch 20/100\n",
      "1105/1105 [==============================] - 11s 10ms/step - loss: 0.0038 - mape: 1182.8988 - mae: 0.0460 - val_loss: 0.0402 - val_mape: 35.5897 - val_mae: 0.1431\n",
      "Epoch 21/100\n",
      "1105/1105 [==============================] - 11s 10ms/step - loss: 0.0037 - mape: 1157.7079 - mae: 0.0454 - val_loss: 0.0350 - val_mape: 32.5615 - val_mae: 0.1329\n",
      "Epoch 22/100\n",
      "1105/1105 [==============================] - 11s 10ms/step - loss: 0.0037 - mape: 1171.1652 - mae: 0.0453 - val_loss: 0.0405 - val_mape: 36.5560 - val_mae: 0.1457\n",
      "Epoch 23/100\n",
      "1105/1105 [==============================] - 12s 10ms/step - loss: 0.0036 - mape: 1102.4442 - mae: 0.0449 - val_loss: 0.0368 - val_mape: 33.2664 - val_mae: 0.1366\n",
      "Epoch 24/100\n",
      "1105/1105 [==============================] - 11s 10ms/step - loss: 0.0036 - mape: 1233.4011 - mae: 0.0446 - val_loss: 0.0378 - val_mape: 35.3335 - val_mae: 0.1412\n",
      "Epoch 25/100\n",
      "1105/1105 [==============================] - 11s 10ms/step - loss: 0.0035 - mape: 1140.2428 - mae: 0.0442 - val_loss: 0.0397 - val_mape: 35.0884 - val_mae: 0.1415\n",
      "Epoch 26/100\n",
      "1105/1105 [==============================] - 11s 10ms/step - loss: 0.0035 - mape: 1248.2673 - mae: 0.0440 - val_loss: 0.0351 - val_mape: 34.6992 - val_mae: 0.1346\n",
      "Epoch 27/100\n",
      "1105/1105 [==============================] - 12s 11ms/step - loss: 0.0034 - mape: 936.3091 - mae: 0.0435 - val_loss: 0.0440 - val_mape: 36.0396 - val_mae: 0.1483\n",
      "Epoch 28/100\n",
      "1105/1105 [==============================] - 12s 11ms/step - loss: 0.0034 - mape: 988.4143 - mae: 0.0432 - val_loss: 0.0439 - val_mape: 35.1868 - val_mae: 0.1474\n",
      "Epoch 29/100\n",
      "1105/1105 [==============================] - 12s 11ms/step - loss: 0.0034 - mape: 1030.0300 - mae: 0.0432 - val_loss: 0.0401 - val_mape: 33.7064 - val_mae: 0.1409\n",
      "Epoch 30/100\n",
      "1105/1105 [==============================] - 12s 11ms/step - loss: 0.0034 - mape: 1079.4131 - mae: 0.0429 - val_loss: 0.0469 - val_mape: 38.0448 - val_mae: 0.1550\n",
      "Epoch 31/100\n",
      "1105/1105 [==============================] - 12s 11ms/step - loss: 0.0034 - mape: 1111.8723 - mae: 0.0429 - val_loss: 0.0424 - val_mape: 36.9700 - val_mae: 0.1468\n",
      "Epoch 32/100\n",
      "1105/1105 [==============================] - 11s 10ms/step - loss: 0.0033 - mape: 955.2533 - mae: 0.0426 - val_loss: 0.0448 - val_mape: 36.5199 - val_mae: 0.1508\n",
      "Epoch 33/100\n",
      "1105/1105 [==============================] - 12s 10ms/step - loss: 0.0032 - mape: 1014.9344 - mae: 0.0421 - val_loss: 0.0371 - val_mape: 32.8925 - val_mae: 0.1362\n",
      "Epoch 34/100\n",
      "1105/1105 [==============================] - 11s 10ms/step - loss: 0.0032 - mape: 1071.0114 - mae: 0.0421 - val_loss: 0.0387 - val_mape: 34.0288 - val_mae: 0.1407\n",
      "Epoch 35/100\n",
      "1105/1105 [==============================] - 12s 11ms/step - loss: 0.0032 - mape: 892.8523 - mae: 0.0416 - val_loss: 0.0467 - val_mape: 36.8653 - val_mae: 0.1533\n",
      "Epoch 36/100\n",
      "1105/1105 [==============================] - 12s 11ms/step - loss: 0.0032 - mape: 1086.3765 - mae: 0.0416 - val_loss: 0.0443 - val_mape: 36.2617 - val_mae: 0.1497\n",
      "Epoch 37/100\n",
      "1105/1105 [==============================] - 12s 11ms/step - loss: 0.0031 - mape: 963.3128 - mae: 0.0411 - val_loss: 0.0432 - val_mape: 34.5615 - val_mae: 0.1459\n",
      "Epoch 38/100\n",
      "1105/1105 [==============================] - 12s 11ms/step - loss: 0.0031 - mape: 877.0099 - mae: 0.0410 - val_loss: 0.0421 - val_mape: 36.3066 - val_mae: 0.1481\n",
      "Epoch 39/100\n",
      "1105/1105 [==============================] - 12s 11ms/step - loss: 0.0030 - mape: 934.1458 - mae: 0.0407 - val_loss: 0.0445 - val_mape: 36.5738 - val_mae: 0.1497\n",
      "Epoch 40/100\n",
      "1105/1105 [==============================] - 12s 11ms/step - loss: 0.0030 - mape: 923.6503 - mae: 0.0405 - val_loss: 0.0434 - val_mape: 34.8492 - val_mae: 0.1475\n",
      "Epoch 41/100\n",
      "1105/1105 [==============================] - 11s 10ms/step - loss: 0.0030 - mape: 1067.7479 - mae: 0.0405 - val_loss: 0.0445 - val_mape: 36.1866 - val_mae: 0.1501\n",
      "Epoch 42/100\n",
      "1105/1105 [==============================] - 11s 10ms/step - loss: 0.0029 - mape: 1224.2234 - mae: 0.0400 - val_loss: 0.0373 - val_mape: 32.8412 - val_mae: 0.1361\n",
      "Epoch 43/100\n",
      "1105/1105 [==============================] - 11s 10ms/step - loss: 0.0029 - mape: 730.6460 - mae: 0.0399 - val_loss: 0.0483 - val_mape: 38.3813 - val_mae: 0.1572\n",
      "Epoch 44/100\n",
      "1105/1105 [==============================] - 12s 11ms/step - loss: 0.0029 - mape: 733.0330 - mae: 0.0396 - val_loss: 0.0360 - val_mape: 33.3884 - val_mae: 0.1353\n",
      "Epoch 45/100\n",
      "1105/1105 [==============================] - 12s 11ms/step - loss: 0.0030 - mape: 980.0352 - mae: 0.0402 - val_loss: 0.0439 - val_mape: 36.8196 - val_mae: 0.1504\n",
      "Epoch 46/100\n",
      "1105/1105 [==============================] - 12s 11ms/step - loss: 0.0028 - mape: 791.5247 - mae: 0.0392 - val_loss: 0.0453 - val_mape: 37.5246 - val_mae: 0.1543\n",
      "Epoch 47/100\n",
      "1105/1105 [==============================] - 12s 11ms/step - loss: 0.0028 - mape: 809.3214 - mae: 0.0391 - val_loss: 0.0432 - val_mape: 35.5615 - val_mae: 0.1462\n"
     ]
    },
    {
     "name": "stdout",
     "output_type": "stream",
     "text": [
      "Epoch 48/100\n",
      "1105/1105 [==============================] - 12s 11ms/step - loss: 0.0028 - mape: 971.7347 - mae: 0.0389 - val_loss: 0.0406 - val_mape: 34.4620 - val_mae: 0.1423\n",
      "Epoch 49/100\n",
      "1105/1105 [==============================] - 12s 11ms/step - loss: 0.0028 - mape: 1164.5428 - mae: 0.0388 - val_loss: 0.0426 - val_mape: 36.5727 - val_mae: 0.1495\n",
      "Epoch 50/100\n",
      "1105/1105 [==============================] - 12s 11ms/step - loss: 0.0027 - mape: 1096.5574 - mae: 0.0385 - val_loss: 0.0440 - val_mape: 37.7387 - val_mae: 0.1525\n",
      "Epoch 51/100\n",
      "1105/1105 [==============================] - 12s 11ms/step - loss: 0.0027 - mape: 942.1529 - mae: 0.0382 - val_loss: 0.0445 - val_mape: 36.5252 - val_mae: 0.1511\n",
      "Epoch 52/100\n",
      "1105/1105 [==============================] - 12s 11ms/step - loss: 0.0027 - mape: 907.6771 - mae: 0.0379 - val_loss: 0.0398 - val_mape: 34.8436 - val_mae: 0.1430\n",
      "Epoch 53/100\n",
      "1105/1105 [==============================] - 12s 11ms/step - loss: 0.0026 - mape: 994.0379 - mae: 0.0379 - val_loss: 0.0447 - val_mape: 35.8732 - val_mae: 0.1508\n",
      "Epoch 54/100\n",
      "1105/1105 [==============================] - 12s 11ms/step - loss: 0.0026 - mape: 795.4979 - mae: 0.0375 - val_loss: 0.0438 - val_mape: 36.7442 - val_mae: 0.1494\n",
      "Epoch 55/100\n",
      "1105/1105 [==============================] - 12s 11ms/step - loss: 0.0026 - mape: 970.8675 - mae: 0.0375 - val_loss: 0.0487 - val_mape: 39.0221 - val_mae: 0.1589\n",
      "Epoch 56/100\n",
      "1105/1105 [==============================] - 12s 11ms/step - loss: 0.0025 - mape: 795.1107 - mae: 0.0371 - val_loss: 0.0371 - val_mape: 32.9277 - val_mae: 0.1351\n",
      "Epoch 57/100\n",
      "1105/1105 [==============================] - 12s 11ms/step - loss: 0.0025 - mape: 784.8361 - mae: 0.0369 - val_loss: 0.0455 - val_mape: 37.7219 - val_mae: 0.1542\n",
      "Epoch 58/100\n",
      "1105/1105 [==============================] - 11s 10ms/step - loss: 0.0025 - mape: 748.5602 - mae: 0.0367 - val_loss: 0.0478 - val_mape: 37.8923 - val_mae: 0.1556\n",
      "Epoch 59/100\n",
      "1105/1105 [==============================] - 12s 11ms/step - loss: 0.0024 - mape: 917.8624 - mae: 0.0363 - val_loss: 0.0455 - val_mape: 37.5973 - val_mae: 0.1525\n",
      "Epoch 60/100\n",
      "1105/1105 [==============================] - 12s 11ms/step - loss: 0.0024 - mape: 913.9361 - mae: 0.0362 - val_loss: 0.0390 - val_mape: 34.1706 - val_mae: 0.1414\n",
      "Epoch 61/100\n",
      "1105/1105 [==============================] - 12s 11ms/step - loss: 0.0024 - mape: 940.8116 - mae: 0.0360 - val_loss: 0.0402 - val_mape: 34.6182 - val_mae: 0.1418\n",
      "Epoch 62/100\n",
      "1105/1105 [==============================] - 12s 11ms/step - loss: 0.0024 - mape: 1017.3800 - mae: 0.0360 - val_loss: 0.0417 - val_mape: 34.9719 - val_mae: 0.1448\n",
      "Epoch 63/100\n",
      "1105/1105 [==============================] - 12s 11ms/step - loss: 0.0024 - mape: 1084.3655 - mae: 0.0360 - val_loss: 0.0452 - val_mape: 37.6853 - val_mae: 0.1531\n",
      "Epoch 64/100\n",
      "1105/1105 [==============================] - 12s 11ms/step - loss: 0.0023 - mape: 718.3696 - mae: 0.0356 - val_loss: 0.0451 - val_mape: 37.2827 - val_mae: 0.1524\n",
      "Epoch 65/100\n",
      "1105/1105 [==============================] - 12s 11ms/step - loss: 0.0023 - mape: 923.9415 - mae: 0.0353 - val_loss: 0.0454 - val_mape: 37.3173 - val_mae: 0.1531\n",
      "Epoch 66/100\n",
      "1105/1105 [==============================] - 12s 11ms/step - loss: 0.0022 - mape: 678.8884 - mae: 0.0349 - val_loss: 0.0436 - val_mape: 37.0815 - val_mae: 0.1510\n",
      "Epoch 67/100\n",
      "1105/1105 [==============================] - 12s 11ms/step - loss: 0.0022 - mape: 856.3597 - mae: 0.0348 - val_loss: 0.0444 - val_mape: 38.1346 - val_mae: 0.1526\n",
      "Epoch 68/100\n",
      "1105/1105 [==============================] - 12s 11ms/step - loss: 0.0022 - mape: 910.8043 - mae: 0.0346 - val_loss: 0.0449 - val_mape: 38.7546 - val_mae: 0.1552\n",
      "Epoch 69/100\n",
      "1105/1105 [==============================] - 12s 11ms/step - loss: 0.0022 - mape: 979.4666 - mae: 0.0344 - val_loss: 0.0410 - val_mape: 35.7827 - val_mae: 0.1453\n",
      "Epoch 70/100\n",
      "1105/1105 [==============================] - 12s 11ms/step - loss: 0.0021 - mape: 907.8239 - mae: 0.0341 - val_loss: 0.0436 - val_mape: 36.5224 - val_mae: 0.1499\n",
      "Epoch 71/100\n",
      "1105/1105 [==============================] - 12s 11ms/step - loss: 0.0021 - mape: 847.3758 - mae: 0.0339 - val_loss: 0.0427 - val_mape: 36.7586 - val_mae: 0.1490\n",
      "Epoch 72/100\n",
      "1105/1105 [==============================] - 12s 11ms/step - loss: 0.0021 - mape: 861.2917 - mae: 0.0338 - val_loss: 0.0382 - val_mape: 33.5479 - val_mae: 0.1385\n",
      "Epoch 73/100\n",
      "1105/1105 [==============================] - 12s 11ms/step - loss: 0.0021 - mape: 726.5049 - mae: 0.0336 - val_loss: 0.0450 - val_mape: 38.0217 - val_mae: 0.1540\n",
      "Epoch 74/100\n",
      "1105/1105 [==============================] - 12s 11ms/step - loss: 0.0020 - mape: 984.9565 - mae: 0.0335 - val_loss: 0.0446 - val_mape: 37.2132 - val_mae: 0.1518\n",
      "Epoch 75/100\n",
      "1105/1105 [==============================] - 12s 11ms/step - loss: 0.0020 - mape: 1040.4530 - mae: 0.0330 - val_loss: 0.0396 - val_mape: 35.7165 - val_mae: 0.1430\n",
      "Epoch 76/100\n",
      "1105/1105 [==============================] - 12s 10ms/step - loss: 0.0020 - mape: 1013.0051 - mae: 0.0331 - val_loss: 0.0421 - val_mape: 36.4597 - val_mae: 0.1475\n",
      "Epoch 77/100\n",
      "1105/1105 [==============================] - 11s 10ms/step - loss: 0.0019 - mape: 957.2624 - mae: 0.0325 - val_loss: 0.0373 - val_mape: 34.6084 - val_mae: 0.1391\n",
      "Epoch 78/100\n",
      "1105/1105 [==============================] - 11s 10ms/step - loss: 0.0019 - mape: 1079.3752 - mae: 0.0325 - val_loss: 0.0406 - val_mape: 35.9511 - val_mae: 0.1454\n",
      "Epoch 79/100\n",
      "1105/1105 [==============================] - 11s 10ms/step - loss: 0.0019 - mape: 810.4127 - mae: 0.0323 - val_loss: 0.0381 - val_mape: 34.5510 - val_mae: 0.1409\n",
      "Epoch 80/100\n",
      "1105/1105 [==============================] - 11s 10ms/step - loss: 0.0019 - mape: 1007.0095 - mae: 0.0323 - val_loss: 0.0456 - val_mape: 38.2654 - val_mae: 0.1545\n",
      "Epoch 81/100\n",
      "1105/1105 [==============================] - 11s 10ms/step - loss: 0.0018 - mape: 758.3492 - mae: 0.0316 - val_loss: 0.0432 - val_mape: 36.9715 - val_mae: 0.1496\n",
      "Epoch 82/100\n",
      "1105/1105 [==============================] - 11s 10ms/step - loss: 0.0018 - mape: 1004.8060 - mae: 0.0315 - val_loss: 0.0426 - val_mape: 36.0039 - val_mae: 0.1476\n",
      "Epoch 83/100\n",
      "1105/1105 [==============================] - 12s 11ms/step - loss: 0.0019 - mape: 1001.7037 - mae: 0.0322 - val_loss: 0.0397 - val_mape: 35.4703 - val_mae: 0.1431\n",
      "Epoch 84/100\n",
      "1105/1105 [==============================] - 12s 11ms/step - loss: 0.0018 - mape: 1039.5438 - mae: 0.0313 - val_loss: 0.0413 - val_mape: 35.8438 - val_mae: 0.1459\n",
      "Epoch 85/100\n",
      "1105/1105 [==============================] - 12s 11ms/step - loss: 0.0017 - mape: 902.0853 - mae: 0.0308 - val_loss: 0.0413 - val_mape: 35.4706 - val_mae: 0.1447\n",
      "Epoch 86/100\n",
      "1105/1105 [==============================] - 12s 11ms/step - loss: 0.0018 - mape: 711.1486 - mae: 0.0312 - val_loss: 0.0447 - val_mape: 37.0793 - val_mae: 0.1520\n",
      "Epoch 87/100\n",
      "1105/1105 [==============================] - 12s 11ms/step - loss: 0.0017 - mape: 846.9000 - mae: 0.0309 - val_loss: 0.0406 - val_mape: 36.6827 - val_mae: 0.1471\n",
      "Epoch 88/100\n",
      "1105/1105 [==============================] - 12s 11ms/step - loss: 0.0017 - mape: 888.2108 - mae: 0.0305 - val_loss: 0.0436 - val_mape: 37.3587 - val_mae: 0.1512\n",
      "Epoch 89/100\n",
      "1105/1105 [==============================] - 12s 11ms/step - loss: 0.0016 - mape: 1007.2497 - mae: 0.0303 - val_loss: 0.0432 - val_mape: 37.6941 - val_mae: 0.1512\n",
      "Epoch 90/100\n",
      "1105/1105 [==============================] - 12s 11ms/step - loss: 0.0016 - mape: 1026.3260 - mae: 0.0300 - val_loss: 0.0412 - val_mape: 37.8768 - val_mae: 0.1494\n",
      "Epoch 91/100\n",
      "1105/1105 [==============================] - 12s 11ms/step - loss: 0.0017 - mape: 805.9841 - mae: 0.0306 - val_loss: 0.0437 - val_mape: 38.0372 - val_mae: 0.1527\n",
      "Epoch 92/100\n",
      "1105/1105 [==============================] - 12s 11ms/step - loss: 0.0016 - mape: 1004.7234 - mae: 0.0298 - val_loss: 0.0397 - val_mape: 35.1317 - val_mae: 0.1430\n",
      "Epoch 93/100\n",
      "1105/1105 [==============================] - 12s 11ms/step - loss: 0.0016 - mape: 1061.2111 - mae: 0.0299 - val_loss: 0.0434 - val_mape: 37.1986 - val_mae: 0.1509\n",
      "Epoch 94/100\n",
      "1105/1105 [==============================] - 12s 11ms/step - loss: 0.0016 - mape: 729.2552 - mae: 0.0294 - val_loss: 0.0388 - val_mape: 35.3068 - val_mae: 0.1415\n"
     ]
    },
    {
     "name": "stdout",
     "output_type": "stream",
     "text": [
      "Epoch 95/100\n",
      "1105/1105 [==============================] - 12s 11ms/step - loss: 0.0016 - mape: 906.8042 - mae: 0.0295 - val_loss: 0.0358 - val_mape: 33.8896 - val_mae: 0.1355\n",
      "Epoch 96/100\n",
      "1105/1105 [==============================] - 12s 11ms/step - loss: 0.0015 - mape: 883.1916 - mae: 0.0292 - val_loss: 0.0393 - val_mape: 35.4388 - val_mae: 0.1428\n",
      "Epoch 97/100\n",
      "1105/1105 [==============================] - 12s 11ms/step - loss: 0.0016 - mape: 981.9465 - mae: 0.0298 - val_loss: 0.0365 - val_mape: 33.4843 - val_mae: 0.1372\n",
      "Epoch 98/100\n",
      "1105/1105 [==============================] - 12s 11ms/step - loss: 0.0015 - mape: 1001.3812 - mae: 0.0290 - val_loss: 0.0398 - val_mape: 35.2310 - val_mae: 0.1428\n",
      "Epoch 99/100\n",
      "1105/1105 [==============================] - 12s 10ms/step - loss: 0.0015 - mape: 849.4227 - mae: 0.0288 - val_loss: 0.0400 - val_mape: 35.3490 - val_mae: 0.1433\n",
      "Epoch 100/100\n",
      "1105/1105 [==============================] - 11s 10ms/step - loss: 0.0015 - mape: 1107.3884 - mae: 0.0285 - val_loss: 0.0397 - val_mape: 36.2307 - val_mae: 0.1439\n"
     ]
    },
    {
     "data": {
      "text/plain": [
       "<keras.callbacks.History at 0x23915cbbb80>"
      ]
     },
     "execution_count": 22,
     "metadata": {},
     "output_type": "execute_result"
    }
   ],
   "source": [
    "model.fit(X_train, Y_train, epochs= epochs, batch_size= batchSize, verbose= 1, shuffle= True, validation_data= (X_valid, Y_valid))"
   ]
  },
  {
   "cell_type": "code",
   "execution_count": 23,
   "id": "cd839153",
   "metadata": {},
   "outputs": [
    {
     "name": "stdout",
     "output_type": "stream",
     "text": [
      "Total execution time in seconds: 1167.590999364853\n"
     ]
    }
   ],
   "source": [
    "calcExecTime = (time.time() - startTime)\n",
    "print('Total execution time in seconds: ' + str(calcExecTime))"
   ]
  },
  {
   "cell_type": "markdown",
   "id": "72aafa74",
   "metadata": {},
   "source": [
    "### MAKING PREDICTIONS AND GENERATING RESULTS"
   ]
  },
  {
   "cell_type": "code",
   "execution_count": 24,
   "id": "259bfb49",
   "metadata": {},
   "outputs": [
    {
     "name": "stdout",
     "output_type": "stream",
     "text": [
      "6/6 [==============================] - 1s 6ms/step\n"
     ]
    }
   ],
   "source": [
    "predictions = model.predict(X_test)"
   ]
  },
  {
   "cell_type": "code",
   "execution_count": 25,
   "id": "2912d431",
   "metadata": {},
   "outputs": [
    {
     "data": {
      "text/plain": [
       "array([0.16729274, 0.13779773, 0.13813841, ..., 0.33452636, 0.3005378 ,\n",
       "       0.26555336], dtype=float32)"
      ]
     },
     "execution_count": 25,
     "metadata": {},
     "output_type": "execute_result"
    }
   ],
   "source": [
    "predArr = predictions.reshape(predictions.shape[0] * predictions.shape[1], predictions.shape[2]).ravel()\n",
    "predArr"
   ]
  },
  {
   "cell_type": "code",
   "execution_count": 26,
   "id": "b01889f2",
   "metadata": {},
   "outputs": [
    {
     "data": {
      "text/plain": [
       "array([0.34604847, 0.32097241, 0.30230427, ..., 0.25608669, 0.23395411,\n",
       "       0.21205685])"
      ]
     },
     "execution_count": 26,
     "metadata": {},
     "output_type": "execute_result"
    }
   ],
   "source": [
    "Y_testArr = Y_test.reshape(Y_test.shape[0] * Y_test.shape[1], Y_test.shape[2]).ravel()\n",
    "Y_testArr"
   ]
  },
  {
   "cell_type": "code",
   "execution_count": 27,
   "id": "799c97e8",
   "metadata": {},
   "outputs": [],
   "source": [
    "def inverse_transform(df):\n",
    "    column_names = df.columns\n",
    "    for col in column_names:\n",
    "        df[col] = ValScaler.inverse_transform(df[[col]]) \n",
    "    return df"
   ]
  },
  {
   "cell_type": "code",
   "execution_count": 28,
   "id": "afa81e30",
   "metadata": {},
   "outputs": [
    {
     "data": {
      "text/html": [
       "<div>\n",
       "<style scoped>\n",
       "    .dataframe tbody tr th:only-of-type {\n",
       "        vertical-align: middle;\n",
       "    }\n",
       "\n",
       "    .dataframe tbody tr th {\n",
       "        vertical-align: top;\n",
       "    }\n",
       "\n",
       "    .dataframe thead th {\n",
       "        text-align: right;\n",
       "    }\n",
       "</style>\n",
       "<table border=\"1\" class=\"dataframe\">\n",
       "  <thead>\n",
       "    <tr style=\"text-align: right;\">\n",
       "      <th></th>\n",
       "      <th>Values</th>\n",
       "      <th>Predictions</th>\n",
       "    </tr>\n",
       "  </thead>\n",
       "  <tbody>\n",
       "    <tr>\n",
       "      <th>0</th>\n",
       "      <td>11762.821446</td>\n",
       "      <td>9437.450195</td>\n",
       "    </tr>\n",
       "    <tr>\n",
       "      <th>1</th>\n",
       "      <td>11436.615685</td>\n",
       "      <td>9053.759766</td>\n",
       "    </tr>\n",
       "    <tr>\n",
       "      <th>2</th>\n",
       "      <td>11193.768371</td>\n",
       "      <td>9058.192383</td>\n",
       "    </tr>\n",
       "    <tr>\n",
       "      <th>3</th>\n",
       "      <td>11255.497390</td>\n",
       "      <td>9338.033203</td>\n",
       "    </tr>\n",
       "    <tr>\n",
       "      <th>4</th>\n",
       "      <td>11660.651512</td>\n",
       "      <td>9795.186523</td>\n",
       "    </tr>\n",
       "    <tr>\n",
       "      <th>...</th>\n",
       "      <td>...</td>\n",
       "      <td>...</td>\n",
       "    </tr>\n",
       "    <tr>\n",
       "      <th>4363</th>\n",
       "      <td>11109.257856</td>\n",
       "      <td>12171.953125</td>\n",
       "    </tr>\n",
       "    <tr>\n",
       "      <th>4364</th>\n",
       "      <td>10846.500062</td>\n",
       "      <td>11993.094727</td>\n",
       "    </tr>\n",
       "    <tr>\n",
       "      <th>4365</th>\n",
       "      <td>10592.539874</td>\n",
       "      <td>11612.934570</td>\n",
       "    </tr>\n",
       "    <tr>\n",
       "      <th>4366</th>\n",
       "      <td>10304.624870</td>\n",
       "      <td>11170.789062</td>\n",
       "    </tr>\n",
       "    <tr>\n",
       "      <th>4367</th>\n",
       "      <td>10019.771129</td>\n",
       "      <td>10715.688477</td>\n",
       "    </tr>\n",
       "  </tbody>\n",
       "</table>\n",
       "<p>4368 rows × 2 columns</p>\n",
       "</div>"
      ],
      "text/plain": [
       "            Values   Predictions\n",
       "0     11762.821446   9437.450195\n",
       "1     11436.615685   9053.759766\n",
       "2     11193.768371   9058.192383\n",
       "3     11255.497390   9338.033203\n",
       "4     11660.651512   9795.186523\n",
       "...            ...           ...\n",
       "4363  11109.257856  12171.953125\n",
       "4364  10846.500062  11993.094727\n",
       "4365  10592.539874  11612.934570\n",
       "4366  10304.624870  11170.789062\n",
       "4367  10019.771129  10715.688477\n",
       "\n",
       "[4368 rows x 2 columns]"
      ]
     },
     "execution_count": 28,
     "metadata": {},
     "output_type": "execute_result"
    }
   ],
   "source": [
    "comparisionDf = pd.DataFrame(data= {\"Values\": Y_testArr, \"Predictions\": predArr})\n",
    "comparisionDf = inverse_transform(comparisionDf)\n",
    "comparisionDf"
   ]
  },
  {
   "cell_type": "code",
   "execution_count": 29,
   "id": "88222bae",
   "metadata": {},
   "outputs": [
    {
     "data": {
      "text/plain": [
       "12.83326038828963"
      ]
     },
     "execution_count": 29,
     "metadata": {},
     "output_type": "execute_result"
    }
   ],
   "source": [
    "mape(comparisionDf[\"Values\"], comparisionDf[\"Predictions\"])"
   ]
  }
 ],
 "metadata": {
  "kernelspec": {
   "display_name": "Python 3 (ipykernel)",
   "language": "python",
   "name": "python3"
  },
  "language_info": {
   "codemirror_mode": {
    "name": "ipython",
    "version": 3
   },
   "file_extension": ".py",
   "mimetype": "text/x-python",
   "name": "python",
   "nbconvert_exporter": "python",
   "pygments_lexer": "ipython3",
   "version": "3.9.12"
  }
 },
 "nbformat": 4,
 "nbformat_minor": 5
}
