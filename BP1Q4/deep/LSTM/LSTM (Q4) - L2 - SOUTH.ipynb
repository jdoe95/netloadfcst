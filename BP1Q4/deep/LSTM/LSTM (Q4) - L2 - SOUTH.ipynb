{
 "cells": [
  {
   "cell_type": "code",
   "execution_count": 1,
   "id": "5f61b29f",
   "metadata": {},
   "outputs": [
    {
     "name": "stdout",
     "output_type": "stream",
     "text": [
      "Num GPUs Available:  1\n"
     ]
    }
   ],
   "source": [
    "import pandas as pd\n",
    "import numpy as np\n",
    "import os\n",
    "import matplotlib.pyplot as plt\n",
    "from datetime import datetime\n",
    "from sklearn.preprocessing import MinMaxScaler, RobustScaler, StandardScaler\n",
    "import time\n",
    "\n",
    "import tensorflow as tf\n",
    "tf.random.set_seed(42)\n",
    "\n",
    "def mape(y_true, y_pred):\n",
    "    y_true, y_pred = np.array(y_true), np.array(y_pred)\n",
    "    return np.mean(np.abs((y_true - y_pred) / max(y_true))) * 100\n",
    "\n",
    "def RMSELoss(yhat,y):\n",
    "    return torch.sqrt(torch.mean((yhat-y)**2))\n",
    "\n",
    "print(\"Num GPUs Available: \", len(tf.config.list_physical_devices('GPU')))"
   ]
  },
  {
   "cell_type": "code",
   "execution_count": 2,
   "id": "cea0abe2",
   "metadata": {},
   "outputs": [
    {
     "name": "stdout",
     "output_type": "stream",
     "text": [
      "['COAST.csv', 'EAST.csv', 'FWEST.csv', 'NCENT.csv', 'NORTH.csv', 'SCENT.csv', 'SOUTH.csv', 'WEST.csv']\n"
     ]
    }
   ],
   "source": [
    "# Specifying the path of file\n",
    "path= r\"C:\\Users\\sashah8\\OneDrive - North Carolina State University\\Desktop\\Q4\\Data\\L2\\data_cleaned\"\n",
    "\n",
    "# Listing just the required files\n",
    "fileList = os.listdir(path)\n",
    "fileList.remove(\"Date.csv\")\n",
    "\n",
    "# Previewing the required file names\n",
    "print(fileList)"
   ]
  },
  {
   "cell_type": "code",
   "execution_count": 3,
   "id": "a6fe9396",
   "metadata": {},
   "outputs": [
    {
     "data": {
      "text/html": [
       "<div>\n",
       "<style scoped>\n",
       "    .dataframe tbody tr th:only-of-type {\n",
       "        vertical-align: middle;\n",
       "    }\n",
       "\n",
       "    .dataframe tbody tr th {\n",
       "        vertical-align: top;\n",
       "    }\n",
       "\n",
       "    .dataframe thead th {\n",
       "        text-align: right;\n",
       "    }\n",
       "</style>\n",
       "<table border=\"1\" class=\"dataframe\">\n",
       "  <thead>\n",
       "    <tr style=\"text-align: right;\">\n",
       "      <th></th>\n",
       "      <th>Net</th>\n",
       "      <th>Temprature</th>\n",
       "    </tr>\n",
       "  </thead>\n",
       "  <tbody>\n",
       "    <tr>\n",
       "      <th>0</th>\n",
       "      <td>3607.904503</td>\n",
       "      <td>5.8</td>\n",
       "    </tr>\n",
       "    <tr>\n",
       "      <th>1</th>\n",
       "      <td>3609.619438</td>\n",
       "      <td>5.7</td>\n",
       "    </tr>\n",
       "    <tr>\n",
       "      <th>2</th>\n",
       "      <td>3573.158363</td>\n",
       "      <td>5.8</td>\n",
       "    </tr>\n",
       "    <tr>\n",
       "      <th>3</th>\n",
       "      <td>3538.420320</td>\n",
       "      <td>5.7</td>\n",
       "    </tr>\n",
       "    <tr>\n",
       "      <th>4</th>\n",
       "      <td>3542.905394</td>\n",
       "      <td>5.4</td>\n",
       "    </tr>\n",
       "    <tr>\n",
       "      <th>...</th>\n",
       "      <td>...</td>\n",
       "      <td>...</td>\n",
       "    </tr>\n",
       "    <tr>\n",
       "      <th>43818</th>\n",
       "      <td>3181.359858</td>\n",
       "      <td>18.1</td>\n",
       "    </tr>\n",
       "    <tr>\n",
       "      <th>43819</th>\n",
       "      <td>3044.648834</td>\n",
       "      <td>17.8</td>\n",
       "    </tr>\n",
       "    <tr>\n",
       "      <th>43820</th>\n",
       "      <td>2930.563230</td>\n",
       "      <td>17.2</td>\n",
       "    </tr>\n",
       "    <tr>\n",
       "      <th>43821</th>\n",
       "      <td>2829.531899</td>\n",
       "      <td>16.6</td>\n",
       "    </tr>\n",
       "    <tr>\n",
       "      <th>43822</th>\n",
       "      <td>2747.692143</td>\n",
       "      <td>15.9</td>\n",
       "    </tr>\n",
       "  </tbody>\n",
       "</table>\n",
       "<p>43823 rows × 2 columns</p>\n",
       "</div>"
      ],
      "text/plain": [
       "               Net  Temprature\n",
       "0      3607.904503         5.8\n",
       "1      3609.619438         5.7\n",
       "2      3573.158363         5.8\n",
       "3      3538.420320         5.7\n",
       "4      3542.905394         5.4\n",
       "...            ...         ...\n",
       "43818  3181.359858        18.1\n",
       "43819  3044.648834        17.8\n",
       "43820  2930.563230        17.2\n",
       "43821  2829.531899        16.6\n",
       "43822  2747.692143        15.9\n",
       "\n",
       "[43823 rows x 2 columns]"
      ]
     },
     "execution_count": 3,
     "metadata": {},
     "output_type": "execute_result"
    }
   ],
   "source": [
    "# Just for previewing the columns\n",
    "pd.read_csv(os.path.join(path, fileList[6]))"
   ]
  },
  {
   "cell_type": "markdown",
   "id": "9ad4906c",
   "metadata": {
    "pycharm": {
     "name": "#%% md\n"
    }
   },
   "source": [
    "### PROCESSING THE DATA"
   ]
  },
  {
   "cell_type": "code",
   "execution_count": 4,
   "id": "f29f6db2",
   "metadata": {},
   "outputs": [
    {
     "data": {
      "text/html": [
       "<div>\n",
       "<style scoped>\n",
       "    .dataframe tbody tr th:only-of-type {\n",
       "        vertical-align: middle;\n",
       "    }\n",
       "\n",
       "    .dataframe tbody tr th {\n",
       "        vertical-align: top;\n",
       "    }\n",
       "\n",
       "    .dataframe thead th {\n",
       "        text-align: right;\n",
       "    }\n",
       "</style>\n",
       "<table border=\"1\" class=\"dataframe\">\n",
       "  <thead>\n",
       "    <tr style=\"text-align: right;\">\n",
       "      <th></th>\n",
       "      <th>Load_SOUTH</th>\n",
       "      <th>Temp_SOUTH</th>\n",
       "    </tr>\n",
       "  </thead>\n",
       "  <tbody>\n",
       "    <tr>\n",
       "      <th>0</th>\n",
       "      <td>3607.904503</td>\n",
       "      <td>5.8</td>\n",
       "    </tr>\n",
       "    <tr>\n",
       "      <th>1</th>\n",
       "      <td>3607.904503</td>\n",
       "      <td>5.8</td>\n",
       "    </tr>\n",
       "    <tr>\n",
       "      <th>2</th>\n",
       "      <td>3609.619438</td>\n",
       "      <td>5.7</td>\n",
       "    </tr>\n",
       "    <tr>\n",
       "      <th>3</th>\n",
       "      <td>3573.158363</td>\n",
       "      <td>5.8</td>\n",
       "    </tr>\n",
       "    <tr>\n",
       "      <th>4</th>\n",
       "      <td>3538.420320</td>\n",
       "      <td>5.7</td>\n",
       "    </tr>\n",
       "    <tr>\n",
       "      <th>...</th>\n",
       "      <td>...</td>\n",
       "      <td>...</td>\n",
       "    </tr>\n",
       "    <tr>\n",
       "      <th>43819</th>\n",
       "      <td>3181.359858</td>\n",
       "      <td>18.1</td>\n",
       "    </tr>\n",
       "    <tr>\n",
       "      <th>43820</th>\n",
       "      <td>3044.648834</td>\n",
       "      <td>17.8</td>\n",
       "    </tr>\n",
       "    <tr>\n",
       "      <th>43821</th>\n",
       "      <td>2930.563230</td>\n",
       "      <td>17.2</td>\n",
       "    </tr>\n",
       "    <tr>\n",
       "      <th>43822</th>\n",
       "      <td>2829.531899</td>\n",
       "      <td>16.6</td>\n",
       "    </tr>\n",
       "    <tr>\n",
       "      <th>43823</th>\n",
       "      <td>2747.692143</td>\n",
       "      <td>15.9</td>\n",
       "    </tr>\n",
       "  </tbody>\n",
       "</table>\n",
       "<p>43824 rows × 2 columns</p>\n",
       "</div>"
      ],
      "text/plain": [
       "        Load_SOUTH  Temp_SOUTH\n",
       "0      3607.904503         5.8\n",
       "1      3607.904503         5.8\n",
       "2      3609.619438         5.7\n",
       "3      3573.158363         5.8\n",
       "4      3538.420320         5.7\n",
       "...            ...         ...\n",
       "43819  3181.359858        18.1\n",
       "43820  3044.648834        17.8\n",
       "43821  2930.563230        17.2\n",
       "43822  2829.531899        16.6\n",
       "43823  2747.692143        15.9\n",
       "\n",
       "[43824 rows x 2 columns]"
      ]
     },
     "execution_count": 4,
     "metadata": {},
     "output_type": "execute_result"
    }
   ],
   "source": [
    "# Restricting the load data to a single zone\n",
    "fileName  = fileList[6]\n",
    "\n",
    "zoneData = pd.read_csv(os.path.join(path, fileName))\n",
    "zoneData.columns = [\"Load_\"+str(fileName[:-4]), \"Temp_\"+str(fileName[:-4])]\n",
    "\n",
    "# For fixing one missing row\n",
    "zoneData = pd.concat([zoneData.loc[[0]], zoneData], axis= 0).reset_index(drop= True)\n",
    "\n",
    "zoneData"
   ]
  },
  {
   "cell_type": "markdown",
   "id": "01cec4bd",
   "metadata": {},
   "source": [
    "### FEATURE ENGINEERING AND SPLITTING INTO TRAIN-TEST SPLIT"
   ]
  },
  {
   "cell_type": "code",
   "execution_count": 5,
   "id": "a1e1e8a3",
   "metadata": {},
   "outputs": [],
   "source": [
    "def lagGenerator(dF, lagList):\n",
    "    dF_temp = dF.filter(regex= \"Load\").copy()\n",
    "    \n",
    "    for i in lagList:\n",
    "        dF_temp.loc[:, \"Lag-\" + str(i)] = dF_temp.iloc[:,[0]].shift(i*24)\n",
    "    \n",
    "    return(dF_temp.filter(regex= \"Lag\"))"
   ]
  },
  {
   "cell_type": "code",
   "execution_count": 6,
   "id": "159a2a82",
   "metadata": {},
   "outputs": [
    {
     "data": {
      "text/html": [
       "<div>\n",
       "<style scoped>\n",
       "    .dataframe tbody tr th:only-of-type {\n",
       "        vertical-align: middle;\n",
       "    }\n",
       "\n",
       "    .dataframe tbody tr th {\n",
       "        vertical-align: top;\n",
       "    }\n",
       "\n",
       "    .dataframe thead th {\n",
       "        text-align: right;\n",
       "    }\n",
       "</style>\n",
       "<table border=\"1\" class=\"dataframe\">\n",
       "  <thead>\n",
       "    <tr style=\"text-align: right;\">\n",
       "      <th></th>\n",
       "      <th>Lag-2</th>\n",
       "      <th>Lag-7</th>\n",
       "    </tr>\n",
       "  </thead>\n",
       "  <tbody>\n",
       "    <tr>\n",
       "      <th>0</th>\n",
       "      <td>NaN</td>\n",
       "      <td>NaN</td>\n",
       "    </tr>\n",
       "    <tr>\n",
       "      <th>1</th>\n",
       "      <td>NaN</td>\n",
       "      <td>NaN</td>\n",
       "    </tr>\n",
       "  </tbody>\n",
       "</table>\n",
       "</div>"
      ],
      "text/plain": [
       "   Lag-2  Lag-7\n",
       "0    NaN    NaN\n",
       "1    NaN    NaN"
      ]
     },
     "execution_count": 6,
     "metadata": {},
     "output_type": "execute_result"
    }
   ],
   "source": [
    "Load_lags = lagGenerator(dF=zoneData, lagList=[2,7])\n",
    "Load_lags.head(2)"
   ]
  },
  {
   "cell_type": "code",
   "execution_count": 7,
   "id": "05896954",
   "metadata": {},
   "outputs": [
    {
     "data": {
      "text/html": [
       "<div>\n",
       "<style scoped>\n",
       "    .dataframe tbody tr th:only-of-type {\n",
       "        vertical-align: middle;\n",
       "    }\n",
       "\n",
       "    .dataframe tbody tr th {\n",
       "        vertical-align: top;\n",
       "    }\n",
       "\n",
       "    .dataframe thead th {\n",
       "        text-align: right;\n",
       "    }\n",
       "</style>\n",
       "<table border=\"1\" class=\"dataframe\">\n",
       "  <thead>\n",
       "    <tr style=\"text-align: right;\">\n",
       "      <th></th>\n",
       "      <th>Load_SOUTH</th>\n",
       "      <th>Temp_SOUTH</th>\n",
       "      <th>Lag-2</th>\n",
       "      <th>Lag-7</th>\n",
       "    </tr>\n",
       "  </thead>\n",
       "  <tbody>\n",
       "    <tr>\n",
       "      <th>0</th>\n",
       "      <td>3487.058100</td>\n",
       "      <td>15.9</td>\n",
       "      <td>3588.640200</td>\n",
       "      <td>3607.904503</td>\n",
       "    </tr>\n",
       "    <tr>\n",
       "      <th>1</th>\n",
       "      <td>3425.426721</td>\n",
       "      <td>14.8</td>\n",
       "      <td>3416.890946</td>\n",
       "      <td>3607.904503</td>\n",
       "    </tr>\n",
       "    <tr>\n",
       "      <th>2</th>\n",
       "      <td>3434.221408</td>\n",
       "      <td>12.5</td>\n",
       "      <td>3328.997595</td>\n",
       "      <td>3609.619438</td>\n",
       "    </tr>\n",
       "    <tr>\n",
       "      <th>3</th>\n",
       "      <td>3482.411848</td>\n",
       "      <td>10.9</td>\n",
       "      <td>3310.251773</td>\n",
       "      <td>3573.158363</td>\n",
       "    </tr>\n",
       "    <tr>\n",
       "      <th>4</th>\n",
       "      <td>3576.147399</td>\n",
       "      <td>10.4</td>\n",
       "      <td>3326.862273</td>\n",
       "      <td>3538.420320</td>\n",
       "    </tr>\n",
       "    <tr>\n",
       "      <th>...</th>\n",
       "      <td>...</td>\n",
       "      <td>...</td>\n",
       "      <td>...</td>\n",
       "      <td>...</td>\n",
       "    </tr>\n",
       "    <tr>\n",
       "      <th>43651</th>\n",
       "      <td>3181.359858</td>\n",
       "      <td>18.1</td>\n",
       "      <td>3003.465976</td>\n",
       "      <td>3033.234778</td>\n",
       "    </tr>\n",
       "    <tr>\n",
       "      <th>43652</th>\n",
       "      <td>3044.648834</td>\n",
       "      <td>17.8</td>\n",
       "      <td>2959.195602</td>\n",
       "      <td>2913.452696</td>\n",
       "    </tr>\n",
       "    <tr>\n",
       "      <th>43653</th>\n",
       "      <td>2930.563230</td>\n",
       "      <td>17.2</td>\n",
       "      <td>2905.932666</td>\n",
       "      <td>2828.170796</td>\n",
       "    </tr>\n",
       "    <tr>\n",
       "      <th>43654</th>\n",
       "      <td>2829.531899</td>\n",
       "      <td>16.6</td>\n",
       "      <td>2825.076669</td>\n",
       "      <td>2778.351469</td>\n",
       "    </tr>\n",
       "    <tr>\n",
       "      <th>43655</th>\n",
       "      <td>2747.692143</td>\n",
       "      <td>15.9</td>\n",
       "      <td>2699.267507</td>\n",
       "      <td>2717.746859</td>\n",
       "    </tr>\n",
       "  </tbody>\n",
       "</table>\n",
       "<p>43656 rows × 4 columns</p>\n",
       "</div>"
      ],
      "text/plain": [
       "        Load_SOUTH  Temp_SOUTH        Lag-2        Lag-7\n",
       "0      3487.058100        15.9  3588.640200  3607.904503\n",
       "1      3425.426721        14.8  3416.890946  3607.904503\n",
       "2      3434.221408        12.5  3328.997595  3609.619438\n",
       "3      3482.411848        10.9  3310.251773  3573.158363\n",
       "4      3576.147399        10.4  3326.862273  3538.420320\n",
       "...            ...         ...          ...          ...\n",
       "43651  3181.359858        18.1  3003.465976  3033.234778\n",
       "43652  3044.648834        17.8  2959.195602  2913.452696\n",
       "43653  2930.563230        17.2  2905.932666  2828.170796\n",
       "43654  2829.531899        16.6  2825.076669  2778.351469\n",
       "43655  2747.692143        15.9  2699.267507  2717.746859\n",
       "\n",
       "[43656 rows x 4 columns]"
      ]
     },
     "execution_count": 7,
     "metadata": {},
     "output_type": "execute_result"
    }
   ],
   "source": [
    "dataDf = pd.concat([zoneData, Load_lags], axis= 1).dropna(axis= 0).reset_index(drop= True)\n",
    "dataDf"
   ]
  },
  {
   "cell_type": "code",
   "execution_count": 8,
   "id": "6ad25321",
   "metadata": {},
   "outputs": [],
   "source": [
    "# Setting the train-test split ratio\n",
    "ratio = 0.1"
   ]
  },
  {
   "cell_type": "code",
   "execution_count": 9,
   "id": "3c08d963",
   "metadata": {},
   "outputs": [],
   "source": [
    "Num_train, Num_test = int(len(dataDf)/24 * (1 - ratio)) * 24, int(len(dataDf)/24 * ratio) * 24"
   ]
  },
  {
   "cell_type": "code",
   "execution_count": 10,
   "id": "cbe069ff",
   "metadata": {},
   "outputs": [],
   "source": [
    "# Splitting the data into train and test\n",
    "data_train, data_test = dataDf[:Num_train], dataDf[Num_train:]"
   ]
  },
  {
   "cell_type": "code",
   "execution_count": 11,
   "id": "d84e15c4",
   "metadata": {},
   "outputs": [],
   "source": [
    "Num_train, Num_valid = int(len(data_train)/24 * (1 - ratio)) * 24, int(len(data_train)/24 * ratio) * 24"
   ]
  },
  {
   "cell_type": "code",
   "execution_count": 12,
   "id": "c17d1723",
   "metadata": {},
   "outputs": [],
   "source": [
    "# Splitting the data into train and test\n",
    "data_train, data_valid = data_train[:Num_train], data_train[Num_train:]"
   ]
  },
  {
   "cell_type": "markdown",
   "id": "88d32011",
   "metadata": {},
   "source": [
    "### SPLITTING INTO X AND Y PART WITH SEQUENCE BATCHING"
   ]
  },
  {
   "cell_type": "code",
   "execution_count": 13,
   "id": "4ba286ca",
   "metadata": {},
   "outputs": [],
   "source": [
    "X_train_df, Y_train_df = data_train.iloc[:, 1:], data_train.iloc[:, :1]\n",
    "\n",
    "X_valid_df, Y_valid_df = data_valid.iloc[:, 1:], data_valid.iloc[:, :1]\n",
    "\n",
    "X_test_df, Y_test_df = data_test.iloc[:, 1:], data_test.iloc[:, :1]"
   ]
  },
  {
   "cell_type": "code",
   "execution_count": 14,
   "id": "ef1d9079",
   "metadata": {},
   "outputs": [],
   "source": [
    "# Preparing the scaler\n",
    "ValScaler = MinMaxScaler()\n",
    "\n",
    "X_train = ValScaler.fit_transform(X_train_df)\n",
    "X_valid = ValScaler.transform(X_valid_df)\n",
    "X_test = ValScaler.transform(X_test_df)\n",
    "\n",
    "Y_train = ValScaler.fit_transform(Y_train_df)\n",
    "Y_valid = ValScaler.transform(Y_valid_df)\n",
    "Y_test = ValScaler.transform(Y_test_df)"
   ]
  },
  {
   "cell_type": "code",
   "execution_count": 15,
   "id": "43594401",
   "metadata": {},
   "outputs": [],
   "source": [
    "def splitData(dataset):\n",
    "    data = np.array(np.split(dataset, len(dataset)/24))\n",
    "    return data"
   ]
  },
  {
   "cell_type": "code",
   "execution_count": 16,
   "id": "300696b2",
   "metadata": {},
   "outputs": [],
   "source": [
    "def supervisedSet(X_part, Y_part, steps= 24):\n",
    "    X_array, Y_array = np.array(X_part), np.array(Y_part)\n",
    "    X, Y = [], []\n",
    "    \n",
    "    for i in range(len(X_array)):\n",
    "        endIdx = i + steps\n",
    "        \n",
    "        if endIdx > len(X_array):\n",
    "            break\n",
    "        \n",
    "        batch_X, batch_Y = X_array[i:endIdx], Y_array[i:endIdx]\n",
    "        \n",
    "        X.append(batch_X)\n",
    "        Y.append(batch_Y)\n",
    "        \n",
    "    return np.array(X), np.array(Y)"
   ]
  },
  {
   "cell_type": "code",
   "execution_count": 17,
   "id": "fc9cd97d",
   "metadata": {},
   "outputs": [],
   "source": [
    "X_train, Y_train = supervisedSet(X_train, Y_train)\n",
    "\n",
    "X_valid, Y_valid = splitData(X_valid), splitData(Y_valid)\n",
    "\n",
    "X_test, Y_test = splitData(X_test), splitData(Y_test)"
   ]
  },
  {
   "cell_type": "markdown",
   "id": "a2a6bf32",
   "metadata": {},
   "source": [
    "### WORKING ON THE MODEL"
   ]
  },
  {
   "cell_type": "code",
   "execution_count": 18,
   "id": "ff71a98c",
   "metadata": {},
   "outputs": [],
   "source": [
    "epochs = 100\n",
    "batchSize = 32"
   ]
  },
  {
   "cell_type": "code",
   "execution_count": 19,
   "id": "8d600c17",
   "metadata": {},
   "outputs": [],
   "source": [
    "# Encoder-decoder architecture [tanh required to use tensorflow on gpu]\n",
    "model = tf.keras.Sequential([\n",
    "    tf.keras.layers.LSTM(units= 128, activation= \"tanh\", input_shape= (X_train.shape[1], X_train.shape[2]), dropout= 0.2),\n",
    "    tf.keras.layers.RepeatVector(Y_train.shape[1]),\n",
    "    tf.keras.layers.LSTM(units= 128, activation= \"tanh\", return_sequences= True, dropout= 0.2),\n",
    "    tf.keras.layers.TimeDistributed(tf.keras.layers.Dense(units= 128, activation= \"relu\")),\n",
    "    tf.keras.layers.Dropout(0.2),\n",
    "    tf.keras.layers.TimeDistributed(tf.keras.layers.Dense(units= 1))\n",
    "])\n",
    "\n",
    "model.compile(loss= \"mse\", optimizer= \"adam\",  metrics= ['mape', 'mae'])"
   ]
  },
  {
   "cell_type": "code",
   "execution_count": 20,
   "id": "a05c033a",
   "metadata": {},
   "outputs": [],
   "source": [
    "# model = tf.keras.Sequential([\n",
    "#     tf.keras.layers.LSTM(units= 256, activation= \"tanh\", input_shape= (X_train.shape[1], X_train.shape[2])),\n",
    "#     tf.keras.layers.Dense(units= 128, activation= \"tanh\"),\n",
    "#     tf.keras.layers.Dense(units= 1)\n",
    "# ])\n",
    "\n",
    "# model.compile(loss= \"mse\", optimizer= \"adam\",  metrics= ['mape', 'mae'])"
   ]
  },
  {
   "cell_type": "code",
   "execution_count": 21,
   "id": "c9390383",
   "metadata": {},
   "outputs": [],
   "source": [
    "# Storing the start time of model fitting process\n",
    "startTime = time.time()"
   ]
  },
  {
   "cell_type": "code",
   "execution_count": 22,
   "id": "e526e3ed",
   "metadata": {},
   "outputs": [
    {
     "name": "stdout",
     "output_type": "stream",
     "text": [
      "Epoch 1/100\n",
      "1105/1105 [==============================] - 14s 9ms/step - loss: 0.0125 - mape: 4545.5591 - mae: 0.0838 - val_loss: 0.0050 - val_mape: 18.5479 - val_mae: 0.0551\n",
      "Epoch 2/100\n",
      "1105/1105 [==============================] - 9s 8ms/step - loss: 0.0056 - mape: 3544.0728 - mae: 0.0569 - val_loss: 0.0366 - val_mape: 36.0426 - val_mae: 0.1459\n",
      "Epoch 3/100\n",
      "1105/1105 [==============================] - 9s 8ms/step - loss: 0.0044 - mape: 2943.9072 - mae: 0.0501 - val_loss: 0.0284 - val_mape: 36.2436 - val_mae: 0.1312\n",
      "Epoch 4/100\n",
      "1105/1105 [==============================] - 9s 8ms/step - loss: 0.0040 - mape: 2878.8950 - mae: 0.0482 - val_loss: 0.0248 - val_mape: 32.7874 - val_mae: 0.1249\n",
      "Epoch 5/100\n",
      "1105/1105 [==============================] - 9s 8ms/step - loss: 0.0037 - mape: 2704.4062 - mae: 0.0464 - val_loss: 0.0353 - val_mape: 36.6910 - val_mae: 0.1428\n",
      "Epoch 6/100\n",
      "1105/1105 [==============================] - 9s 8ms/step - loss: 0.0035 - mape: 2017.4102 - mae: 0.0452 - val_loss: 0.0201 - val_mape: 30.5783 - val_mae: 0.1140\n",
      "Epoch 7/100\n",
      "1105/1105 [==============================] - 9s 8ms/step - loss: 0.0034 - mape: 2705.5720 - mae: 0.0447 - val_loss: 0.0235 - val_mape: 33.8172 - val_mae: 0.1230\n",
      "Epoch 8/100\n",
      "1105/1105 [==============================] - 9s 8ms/step - loss: 0.0033 - mape: 2442.6335 - mae: 0.0436 - val_loss: 0.0324 - val_mape: 35.2487 - val_mae: 0.1394\n",
      "Epoch 9/100\n",
      "1105/1105 [==============================] - 9s 8ms/step - loss: 0.0032 - mape: 2828.1138 - mae: 0.0430 - val_loss: 0.0298 - val_mape: 34.6170 - val_mae: 0.1347\n",
      "Epoch 10/100\n",
      "1105/1105 [==============================] - 9s 8ms/step - loss: 0.0031 - mape: 2282.8677 - mae: 0.0424 - val_loss: 0.0266 - val_mape: 33.6007 - val_mae: 0.1292\n",
      "Epoch 11/100\n",
      "1105/1105 [==============================] - 9s 8ms/step - loss: 0.0030 - mape: 2241.8247 - mae: 0.0419 - val_loss: 0.0293 - val_mape: 35.6298 - val_mae: 0.1340\n",
      "Epoch 12/100\n",
      "1105/1105 [==============================] - 9s 8ms/step - loss: 0.0029 - mape: 2076.4143 - mae: 0.0413 - val_loss: 0.0313 - val_mape: 36.7527 - val_mae: 0.1393\n",
      "Epoch 13/100\n",
      "1105/1105 [==============================] - 9s 8ms/step - loss: 0.0028 - mape: 1802.1409 - mae: 0.0407 - val_loss: 0.0310 - val_mape: 37.5895 - val_mae: 0.1412\n",
      "Epoch 14/100\n",
      "1105/1105 [==============================] - 9s 8ms/step - loss: 0.0028 - mape: 1617.4664 - mae: 0.0403 - val_loss: 0.0302 - val_mape: 33.0634 - val_mae: 0.1316\n",
      "Epoch 15/100\n",
      "1105/1105 [==============================] - 9s 8ms/step - loss: 0.0027 - mape: 1903.3656 - mae: 0.0399 - val_loss: 0.0244 - val_mape: 31.9436 - val_mae: 0.1222\n",
      "Epoch 16/100\n",
      "1105/1105 [==============================] - 9s 8ms/step - loss: 0.0026 - mape: 1751.1387 - mae: 0.0392 - val_loss: 0.0227 - val_mape: 30.0182 - val_mae: 0.1176\n",
      "Epoch 17/100\n",
      "1105/1105 [==============================] - 9s 8ms/step - loss: 0.0026 - mape: 1844.6605 - mae: 0.0389 - val_loss: 0.0232 - val_mape: 30.4072 - val_mae: 0.1173\n",
      "Epoch 18/100\n",
      "1105/1105 [==============================] - 9s 8ms/step - loss: 0.0025 - mape: 1567.3423 - mae: 0.0383 - val_loss: 0.0301 - val_mape: 35.4828 - val_mae: 0.1364\n",
      "Epoch 19/100\n",
      "1105/1105 [==============================] - 9s 8ms/step - loss: 0.0025 - mape: 1556.9624 - mae: 0.0382 - val_loss: 0.0238 - val_mape: 33.4251 - val_mae: 0.1219\n",
      "Epoch 20/100\n",
      "1105/1105 [==============================] - 9s 8ms/step - loss: 0.0024 - mape: 1585.4337 - mae: 0.0378 - val_loss: 0.0234 - val_mape: 32.9812 - val_mae: 0.1230\n",
      "Epoch 21/100\n",
      "1105/1105 [==============================] - 9s 8ms/step - loss: 0.0024 - mape: 1239.6775 - mae: 0.0374 - val_loss: 0.0244 - val_mape: 31.7075 - val_mae: 0.1227\n",
      "Epoch 22/100\n",
      "1105/1105 [==============================] - 9s 8ms/step - loss: 0.0023 - mape: 1479.7185 - mae: 0.0369 - val_loss: 0.0237 - val_mape: 33.6902 - val_mae: 0.1249\n",
      "Epoch 23/100\n",
      "1105/1105 [==============================] - 9s 8ms/step - loss: 0.0023 - mape: 1124.0278 - mae: 0.0365 - val_loss: 0.0258 - val_mape: 33.1141 - val_mae: 0.1264\n",
      "Epoch 24/100\n",
      "1105/1105 [==============================] - 9s 8ms/step - loss: 0.0022 - mape: 1403.5245 - mae: 0.0362 - val_loss: 0.0220 - val_mape: 31.7280 - val_mae: 0.1194\n",
      "Epoch 25/100\n",
      "1105/1105 [==============================] - 9s 8ms/step - loss: 0.0022 - mape: 1296.5255 - mae: 0.0357 - val_loss: 0.0246 - val_mape: 32.7495 - val_mae: 0.1239\n",
      "Epoch 26/100\n",
      "1105/1105 [==============================] - 9s 8ms/step - loss: 0.0021 - mape: 1017.1439 - mae: 0.0354 - val_loss: 0.0261 - val_mape: 34.0292 - val_mae: 0.1276\n",
      "Epoch 27/100\n",
      "1105/1105 [==============================] - 9s 8ms/step - loss: 0.0021 - mape: 1234.2795 - mae: 0.0352 - val_loss: 0.0228 - val_mape: 30.8061 - val_mae: 0.1190\n",
      "Epoch 28/100\n",
      "1105/1105 [==============================] - 8s 8ms/step - loss: 0.0021 - mape: 1149.1216 - mae: 0.0350 - val_loss: 0.0226 - val_mape: 30.3783 - val_mae: 0.1178\n",
      "Epoch 29/100\n",
      "1105/1105 [==============================] - 8s 7ms/step - loss: 0.0020 - mape: 977.3360 - mae: 0.0344 - val_loss: 0.0212 - val_mape: 31.7016 - val_mae: 0.1180\n",
      "Epoch 30/100\n",
      "1105/1105 [==============================] - 8s 7ms/step - loss: 0.0020 - mape: 1113.1332 - mae: 0.0343 - val_loss: 0.0297 - val_mape: 34.5256 - val_mae: 0.1344\n",
      "Epoch 31/100\n",
      "1105/1105 [==============================] - 8s 7ms/step - loss: 0.0020 - mape: 985.1223 - mae: 0.0343 - val_loss: 0.0285 - val_mape: 38.4169 - val_mae: 0.1400\n",
      "Epoch 32/100\n",
      "1105/1105 [==============================] - 8s 7ms/step - loss: 0.0020 - mape: 1177.6503 - mae: 0.0342 - val_loss: 0.0263 - val_mape: 31.5371 - val_mae: 0.1249\n",
      "Epoch 33/100\n",
      "1105/1105 [==============================] - 8s 7ms/step - loss: 0.0019 - mape: 873.3991 - mae: 0.0334 - val_loss: 0.0280 - val_mape: 34.6617 - val_mae: 0.1327\n",
      "Epoch 34/100\n",
      "1105/1105 [==============================] - 8s 7ms/step - loss: 0.0019 - mape: 1275.5006 - mae: 0.0334 - val_loss: 0.0234 - val_mape: 32.4300 - val_mae: 0.1226\n",
      "Epoch 35/100\n",
      "1105/1105 [==============================] - 8s 7ms/step - loss: 0.0019 - mape: 927.6973 - mae: 0.0331 - val_loss: 0.0267 - val_mape: 34.7604 - val_mae: 0.1306\n",
      "Epoch 36/100\n",
      "1105/1105 [==============================] - 8s 7ms/step - loss: 0.0018 - mape: 757.7342 - mae: 0.0329 - val_loss: 0.0279 - val_mape: 35.7739 - val_mae: 0.1346\n",
      "Epoch 37/100\n",
      "1105/1105 [==============================] - 8s 7ms/step - loss: 0.0019 - mape: 651.6883 - mae: 0.0330 - val_loss: 0.0270 - val_mape: 33.9699 - val_mae: 0.1298\n",
      "Epoch 38/100\n",
      "1105/1105 [==============================] - 8s 7ms/step - loss: 0.0018 - mape: 939.0830 - mae: 0.0323 - val_loss: 0.0239 - val_mape: 33.1197 - val_mae: 0.1247\n",
      "Epoch 39/100\n",
      "1105/1105 [==============================] - 8s 7ms/step - loss: 0.0018 - mape: 913.2759 - mae: 0.0324 - val_loss: 0.0227 - val_mape: 31.3116 - val_mae: 0.1198\n",
      "Epoch 40/100\n",
      "1105/1105 [==============================] - 8s 7ms/step - loss: 0.0018 - mape: 913.6323 - mae: 0.0320 - val_loss: 0.0266 - val_mape: 35.2555 - val_mae: 0.1317\n",
      "Epoch 41/100\n",
      "1105/1105 [==============================] - 8s 7ms/step - loss: 0.0017 - mape: 954.2727 - mae: 0.0318 - val_loss: 0.0265 - val_mape: 35.3730 - val_mae: 0.1317\n",
      "Epoch 42/100\n",
      "1105/1105 [==============================] - 8s 7ms/step - loss: 0.0017 - mape: 862.5331 - mae: 0.0315 - val_loss: 0.0206 - val_mape: 30.5417 - val_mae: 0.1151\n",
      "Epoch 43/100\n",
      "1105/1105 [==============================] - 8s 7ms/step - loss: 0.0017 - mape: 1090.5784 - mae: 0.0313 - val_loss: 0.0235 - val_mape: 31.8169 - val_mae: 0.1215\n",
      "Epoch 44/100\n",
      "1105/1105 [==============================] - 8s 7ms/step - loss: 0.0017 - mape: 740.4434 - mae: 0.0313 - val_loss: 0.0279 - val_mape: 34.7732 - val_mae: 0.1323\n",
      "Epoch 45/100\n",
      "1105/1105 [==============================] - 8s 7ms/step - loss: 0.0017 - mape: 920.7794 - mae: 0.0311 - val_loss: 0.0249 - val_mape: 33.5212 - val_mae: 0.1266\n",
      "Epoch 46/100\n",
      "1105/1105 [==============================] - 8s 7ms/step - loss: 0.0016 - mape: 815.2792 - mae: 0.0309 - val_loss: 0.0238 - val_mape: 30.5417 - val_mae: 0.1201\n",
      "Epoch 47/100\n",
      "1105/1105 [==============================] - 8s 7ms/step - loss: 0.0016 - mape: 786.9158 - mae: 0.0303 - val_loss: 0.0219 - val_mape: 30.5805 - val_mae: 0.1176\n",
      "Epoch 48/100\n"
     ]
    },
    {
     "name": "stdout",
     "output_type": "stream",
     "text": [
      "1105/1105 [==============================] - 8s 7ms/step - loss: 0.0016 - mape: 715.3013 - mae: 0.0306 - val_loss: 0.0258 - val_mape: 32.3734 - val_mae: 0.1256\n",
      "Epoch 49/100\n",
      "1105/1105 [==============================] - 8s 7ms/step - loss: 0.0016 - mape: 824.0928 - mae: 0.0303 - val_loss: 0.0245 - val_mape: 31.7466 - val_mae: 0.1227\n",
      "Epoch 50/100\n",
      "1105/1105 [==============================] - 8s 7ms/step - loss: 0.0015 - mape: 815.9623 - mae: 0.0300 - val_loss: 0.0252 - val_mape: 35.5632 - val_mae: 0.1313\n",
      "Epoch 51/100\n",
      "1105/1105 [==============================] - 8s 7ms/step - loss: 0.0016 - mape: 634.2921 - mae: 0.0303 - val_loss: 0.0257 - val_mape: 32.8041 - val_mae: 0.1263\n",
      "Epoch 52/100\n",
      "1105/1105 [==============================] - 8s 7ms/step - loss: 0.0015 - mape: 784.7373 - mae: 0.0295 - val_loss: 0.0226 - val_mape: 33.0183 - val_mae: 0.1222\n",
      "Epoch 53/100\n",
      "1105/1105 [==============================] - 8s 7ms/step - loss: 0.0015 - mape: 821.8857 - mae: 0.0296 - val_loss: 0.0295 - val_mape: 35.7540 - val_mae: 0.1362\n",
      "Epoch 54/100\n",
      "1105/1105 [==============================] - 8s 7ms/step - loss: 0.0015 - mape: 823.9245 - mae: 0.0295 - val_loss: 0.0224 - val_mape: 32.8883 - val_mae: 0.1221\n",
      "Epoch 55/100\n",
      "1105/1105 [==============================] - 8s 7ms/step - loss: 0.0015 - mape: 684.7805 - mae: 0.0297 - val_loss: 0.0215 - val_mape: 30.7160 - val_mae: 0.1172\n",
      "Epoch 56/100\n",
      "1105/1105 [==============================] - 8s 7ms/step - loss: 0.0015 - mape: 846.8773 - mae: 0.0291 - val_loss: 0.0243 - val_mape: 33.2092 - val_mae: 0.1251\n",
      "Epoch 57/100\n",
      "1105/1105 [==============================] - 8s 7ms/step - loss: 0.0014 - mape: 806.0881 - mae: 0.0290 - val_loss: 0.0238 - val_mape: 33.5337 - val_mae: 0.1253\n",
      "Epoch 58/100\n",
      "1105/1105 [==============================] - 8s 7ms/step - loss: 0.0015 - mape: 920.9143 - mae: 0.0291 - val_loss: 0.0256 - val_mape: 32.6322 - val_mae: 0.1255\n",
      "Epoch 59/100\n",
      "1105/1105 [==============================] - 8s 7ms/step - loss: 0.0014 - mape: 673.8691 - mae: 0.0285 - val_loss: 0.0266 - val_mape: 34.0614 - val_mae: 0.1295\n",
      "Epoch 60/100\n",
      "1105/1105 [==============================] - 8s 7ms/step - loss: 0.0014 - mape: 711.4396 - mae: 0.0283 - val_loss: 0.0215 - val_mape: 29.3692 - val_mae: 0.1138\n",
      "Epoch 61/100\n",
      "1105/1105 [==============================] - 8s 7ms/step - loss: 0.0014 - mape: 889.9150 - mae: 0.0284 - val_loss: 0.0250 - val_mape: 32.0553 - val_mae: 0.1242\n",
      "Epoch 62/100\n",
      "1105/1105 [==============================] - 8s 7ms/step - loss: 0.0013 - mape: 808.3616 - mae: 0.0280 - val_loss: 0.0228 - val_mape: 31.2071 - val_mae: 0.1200\n",
      "Epoch 63/100\n",
      "1105/1105 [==============================] - 8s 7ms/step - loss: 0.0013 - mape: 843.7407 - mae: 0.0279 - val_loss: 0.0237 - val_mape: 31.8035 - val_mae: 0.1217\n",
      "Epoch 64/100\n",
      "1105/1105 [==============================] - 9s 8ms/step - loss: 0.0013 - mape: 782.7087 - mae: 0.0278 - val_loss: 0.0301 - val_mape: 37.8813 - val_mae: 0.1411\n",
      "Epoch 65/100\n",
      "1105/1105 [==============================] - 8s 7ms/step - loss: 0.0013 - mape: 843.5607 - mae: 0.0276 - val_loss: 0.0272 - val_mape: 35.7175 - val_mae: 0.1333\n",
      "Epoch 66/100\n",
      "1105/1105 [==============================] - 8s 7ms/step - loss: 0.0013 - mape: 942.6130 - mae: 0.0274 - val_loss: 0.0275 - val_mape: 34.0091 - val_mae: 0.1312\n",
      "Epoch 67/100\n",
      "1105/1105 [==============================] - 8s 7ms/step - loss: 0.0013 - mape: 648.2146 - mae: 0.0275 - val_loss: 0.0241 - val_mape: 32.2226 - val_mae: 0.1236\n",
      "Epoch 68/100\n",
      "1105/1105 [==============================] - 8s 7ms/step - loss: 0.0013 - mape: 777.7834 - mae: 0.0270 - val_loss: 0.0233 - val_mape: 31.6682 - val_mae: 0.1214\n",
      "Epoch 69/100\n",
      "1105/1105 [==============================] - 8s 8ms/step - loss: 0.0012 - mape: 811.8278 - mae: 0.0270 - val_loss: 0.0267 - val_mape: 34.5308 - val_mae: 0.1308\n",
      "Epoch 70/100\n",
      "1105/1105 [==============================] - 8s 8ms/step - loss: 0.0012 - mape: 596.7844 - mae: 0.0268 - val_loss: 0.0279 - val_mape: 34.4156 - val_mae: 0.1323\n",
      "Epoch 71/100\n",
      "1105/1105 [==============================] - 8s 8ms/step - loss: 0.0012 - mape: 578.9103 - mae: 0.0268 - val_loss: 0.0265 - val_mape: 35.2010 - val_mae: 0.1320\n",
      "Epoch 72/100\n",
      "1105/1105 [==============================] - 9s 8ms/step - loss: 0.0012 - mape: 785.5396 - mae: 0.0268 - val_loss: 0.0246 - val_mape: 34.3816 - val_mae: 0.1276\n",
      "Epoch 73/100\n",
      "1105/1105 [==============================] - 8s 7ms/step - loss: 0.0012 - mape: 783.3665 - mae: 0.0264 - val_loss: 0.0246 - val_mape: 32.7608 - val_mae: 0.1252\n",
      "Epoch 74/100\n",
      "1105/1105 [==============================] - 8s 7ms/step - loss: 0.0012 - mape: 640.1613 - mae: 0.0264 - val_loss: 0.0257 - val_mape: 32.6433 - val_mae: 0.1266\n",
      "Epoch 75/100\n",
      "1105/1105 [==============================] - 8s 7ms/step - loss: 0.0012 - mape: 781.5286 - mae: 0.0262 - val_loss: 0.0277 - val_mape: 35.8533 - val_mae: 0.1345\n",
      "Epoch 76/100\n",
      "1105/1105 [==============================] - 8s 7ms/step - loss: 0.0012 - mape: 787.9099 - mae: 0.0259 - val_loss: 0.0284 - val_mape: 35.9762 - val_mae: 0.1356\n",
      "Epoch 77/100\n",
      "1105/1105 [==============================] - 8s 7ms/step - loss: 0.0012 - mape: 721.6387 - mae: 0.0260 - val_loss: 0.0242 - val_mape: 32.8213 - val_mae: 0.1242\n",
      "Epoch 78/100\n",
      "1105/1105 [==============================] - 8s 7ms/step - loss: 0.0012 - mape: 551.1451 - mae: 0.0259 - val_loss: 0.0301 - val_mape: 37.6920 - val_mae: 0.1408\n",
      "Epoch 79/100\n",
      "1105/1105 [==============================] - 8s 7ms/step - loss: 0.0011 - mape: 611.9642 - mae: 0.0258 - val_loss: 0.0277 - val_mape: 35.3893 - val_mae: 0.1336\n",
      "Epoch 80/100\n",
      "1105/1105 [==============================] - 8s 7ms/step - loss: 0.0011 - mape: 795.6562 - mae: 0.0254 - val_loss: 0.0273 - val_mape: 34.9486 - val_mae: 0.1327\n",
      "Epoch 81/100\n",
      "1105/1105 [==============================] - 8s 7ms/step - loss: 0.0011 - mape: 691.3280 - mae: 0.0255 - val_loss: 0.0263 - val_mape: 33.0762 - val_mae: 0.1276\n",
      "Epoch 82/100\n",
      "1105/1105 [==============================] - 8s 7ms/step - loss: 0.0011 - mape: 484.7118 - mae: 0.0253 - val_loss: 0.0247 - val_mape: 34.6925 - val_mae: 0.1286\n",
      "Epoch 83/100\n",
      "1105/1105 [==============================] - 8s 7ms/step - loss: 0.0011 - mape: 754.8033 - mae: 0.0253 - val_loss: 0.0260 - val_mape: 33.9681 - val_mae: 0.1292\n",
      "Epoch 84/100\n",
      "1105/1105 [==============================] - 8s 7ms/step - loss: 0.0011 - mape: 653.1766 - mae: 0.0250 - val_loss: 0.0307 - val_mape: 36.1664 - val_mae: 0.1391\n",
      "Epoch 85/100\n",
      "1105/1105 [==============================] - 8s 7ms/step - loss: 0.0011 - mape: 764.3574 - mae: 0.0250 - val_loss: 0.0272 - val_mape: 33.4328 - val_mae: 0.1301\n",
      "Epoch 86/100\n",
      "1105/1105 [==============================] - 8s 7ms/step - loss: 0.0010 - mape: 938.4243 - mae: 0.0247 - val_loss: 0.0267 - val_mape: 35.2625 - val_mae: 0.1325\n",
      "Epoch 87/100\n",
      "1105/1105 [==============================] - 8s 7ms/step - loss: 0.0010 - mape: 636.4128 - mae: 0.0246 - val_loss: 0.0294 - val_mape: 35.5846 - val_mae: 0.1364\n",
      "Epoch 88/100\n",
      "1105/1105 [==============================] - 8s 7ms/step - loss: 0.0010 - mape: 698.4337 - mae: 0.0246 - val_loss: 0.0235 - val_mape: 31.3178 - val_mae: 0.1210\n",
      "Epoch 89/100\n",
      "1105/1105 [==============================] - 8s 7ms/step - loss: 0.0010 - mape: 872.3322 - mae: 0.0245 - val_loss: 0.0254 - val_mape: 32.6630 - val_mae: 0.1259\n",
      "Epoch 90/100\n",
      "1105/1105 [==============================] - 8s 7ms/step - loss: 0.0010 - mape: 905.0900 - mae: 0.0244 - val_loss: 0.0270 - val_mape: 33.6872 - val_mae: 0.1299\n",
      "Epoch 91/100\n",
      "1105/1105 [==============================] - 8s 7ms/step - loss: 0.0011 - mape: 855.2478 - mae: 0.0248 - val_loss: 0.0268 - val_mape: 35.4701 - val_mae: 0.1326\n",
      "Epoch 92/100\n",
      "1105/1105 [==============================] - 8s 8ms/step - loss: 0.0010 - mape: 666.9061 - mae: 0.0242 - val_loss: 0.0246 - val_mape: 32.8711 - val_mae: 0.1255\n",
      "Epoch 93/100\n",
      "1105/1105 [==============================] - 8s 7ms/step - loss: 9.7636e-04 - mape: 513.6627 - mae: 0.0239 - val_loss: 0.0271 - val_mape: 33.3925 - val_mae: 0.1297\n",
      "Epoch 94/100\n",
      "1105/1105 [==============================] - 8s 7ms/step - loss: 9.7599e-04 - mape: 780.4441 - mae: 0.0238 - val_loss: 0.0289 - val_mape: 34.9665 - val_mae: 0.1344\n",
      "Epoch 95/100\n"
     ]
    },
    {
     "name": "stdout",
     "output_type": "stream",
     "text": [
      "1105/1105 [==============================] - 8s 7ms/step - loss: 9.9837e-04 - mape: 689.6562 - mae: 0.0241 - val_loss: 0.0265 - val_mape: 34.4780 - val_mae: 0.1306\n",
      "Epoch 96/100\n",
      "1105/1105 [==============================] - 8s 7ms/step - loss: 9.8127e-04 - mape: 745.5559 - mae: 0.0239 - val_loss: 0.0286 - val_mape: 34.3994 - val_mae: 0.1330\n",
      "Epoch 97/100\n",
      "1105/1105 [==============================] - 8s 7ms/step - loss: 9.3966e-04 - mape: 759.8892 - mae: 0.0235 - val_loss: 0.0250 - val_mape: 33.6029 - val_mae: 0.1271\n",
      "Epoch 98/100\n",
      "1105/1105 [==============================] - 8s 7ms/step - loss: 9.4996e-04 - mape: 787.1582 - mae: 0.0235 - val_loss: 0.0281 - val_mape: 34.4995 - val_mae: 0.1325\n",
      "Epoch 99/100\n",
      "1105/1105 [==============================] - 8s 7ms/step - loss: 9.2852e-04 - mape: 686.2654 - mae: 0.0233 - val_loss: 0.0260 - val_mape: 34.0167 - val_mae: 0.1294\n",
      "Epoch 100/100\n",
      "1105/1105 [==============================] - 8s 7ms/step - loss: 9.5768e-04 - mape: 820.0742 - mae: 0.0236 - val_loss: 0.0273 - val_mape: 34.3082 - val_mae: 0.1315\n"
     ]
    },
    {
     "data": {
      "text/plain": [
       "<keras.callbacks.History at 0x159945597c0>"
      ]
     },
     "execution_count": 22,
     "metadata": {},
     "output_type": "execute_result"
    }
   ],
   "source": [
    "model.fit(X_train, Y_train, epochs= epochs, batch_size= batchSize, verbose= 1, shuffle= True, validation_data= (X_valid, Y_valid))"
   ]
  },
  {
   "cell_type": "code",
   "execution_count": 23,
   "id": "cd839153",
   "metadata": {},
   "outputs": [
    {
     "name": "stdout",
     "output_type": "stream",
     "text": [
      "Total execution time in seconds: 842.3956274986267\n"
     ]
    }
   ],
   "source": [
    "calcExecTime = (time.time() - startTime)\n",
    "print('Total execution time in seconds: ' + str(calcExecTime))"
   ]
  },
  {
   "cell_type": "markdown",
   "id": "72aafa74",
   "metadata": {},
   "source": [
    "### MAKING PREDICTIONS AND GENERATING RESULTS"
   ]
  },
  {
   "cell_type": "code",
   "execution_count": 24,
   "id": "259bfb49",
   "metadata": {},
   "outputs": [
    {
     "name": "stdout",
     "output_type": "stream",
     "text": [
      "6/6 [==============================] - 1s 9ms/step\n"
     ]
    }
   ],
   "source": [
    "predictions = model.predict(X_test)"
   ]
  },
  {
   "cell_type": "code",
   "execution_count": 25,
   "id": "2912d431",
   "metadata": {},
   "outputs": [
    {
     "data": {
      "text/plain": [
       "array([0.17003721, 0.13916573, 0.11989564, ..., 0.247644  , 0.20992139,\n",
       "       0.18223713], dtype=float32)"
      ]
     },
     "execution_count": 25,
     "metadata": {},
     "output_type": "execute_result"
    }
   ],
   "source": [
    "predArr = predictions.reshape(predictions.shape[0] * predictions.shape[1], predictions.shape[2]).ravel()\n",
    "predArr"
   ]
  },
  {
   "cell_type": "code",
   "execution_count": 26,
   "id": "b01889f2",
   "metadata": {},
   "outputs": [
    {
     "data": {
      "text/plain": [
       "array([0.39291765, 0.359126  , 0.33636044, ..., 0.24270501, 0.21913098,\n",
       "       0.200035  ])"
      ]
     },
     "execution_count": 26,
     "metadata": {},
     "output_type": "execute_result"
    }
   ],
   "source": [
    "Y_testArr = Y_test.reshape(Y_test.shape[0] * Y_test.shape[1], Y_test.shape[2]).ravel()\n",
    "Y_testArr"
   ]
  },
  {
   "cell_type": "code",
   "execution_count": 27,
   "id": "799c97e8",
   "metadata": {},
   "outputs": [],
   "source": [
    "def inverse_transform(df):\n",
    "    column_names = df.columns\n",
    "    for col in column_names:\n",
    "        df[col] = ValScaler.inverse_transform(df[[col]]) \n",
    "    return df"
   ]
  },
  {
   "cell_type": "code",
   "execution_count": 28,
   "id": "afa81e30",
   "metadata": {},
   "outputs": [
    {
     "data": {
      "text/html": [
       "<div>\n",
       "<style scoped>\n",
       "    .dataframe tbody tr th:only-of-type {\n",
       "        vertical-align: middle;\n",
       "    }\n",
       "\n",
       "    .dataframe tbody tr th {\n",
       "        vertical-align: top;\n",
       "    }\n",
       "\n",
       "    .dataframe thead th {\n",
       "        text-align: right;\n",
       "    }\n",
       "</style>\n",
       "<table border=\"1\" class=\"dataframe\">\n",
       "  <thead>\n",
       "    <tr style=\"text-align: right;\">\n",
       "      <th></th>\n",
       "      <th>Values</th>\n",
       "      <th>Predictions</th>\n",
       "    </tr>\n",
       "  </thead>\n",
       "  <tbody>\n",
       "    <tr>\n",
       "      <th>0</th>\n",
       "      <td>3574.330342</td>\n",
       "      <td>2619.130615</td>\n",
       "    </tr>\n",
       "    <tr>\n",
       "      <th>1</th>\n",
       "      <td>3429.509300</td>\n",
       "      <td>2486.824219</td>\n",
       "    </tr>\n",
       "    <tr>\n",
       "      <th>2</th>\n",
       "      <td>3331.942799</td>\n",
       "      <td>2404.238525</td>\n",
       "    </tr>\n",
       "    <tr>\n",
       "      <th>3</th>\n",
       "      <td>3289.798182</td>\n",
       "      <td>2387.514648</td>\n",
       "    </tr>\n",
       "    <tr>\n",
       "      <th>4</th>\n",
       "      <td>3339.593959</td>\n",
       "      <td>2430.484131</td>\n",
       "    </tr>\n",
       "    <tr>\n",
       "      <th>...</th>\n",
       "      <td>...</td>\n",
       "      <td>...</td>\n",
       "    </tr>\n",
       "    <tr>\n",
       "      <th>4363</th>\n",
       "      <td>3181.359858</td>\n",
       "      <td>3150.912354</td>\n",
       "    </tr>\n",
       "    <tr>\n",
       "      <th>4364</th>\n",
       "      <td>3044.648834</td>\n",
       "      <td>3091.416748</td>\n",
       "    </tr>\n",
       "    <tr>\n",
       "      <th>4365</th>\n",
       "      <td>2930.563230</td>\n",
       "      <td>2951.730469</td>\n",
       "    </tr>\n",
       "    <tr>\n",
       "      <th>4366</th>\n",
       "      <td>2829.531899</td>\n",
       "      <td>2790.062256</td>\n",
       "    </tr>\n",
       "    <tr>\n",
       "      <th>4367</th>\n",
       "      <td>2747.692143</td>\n",
       "      <td>2671.415527</td>\n",
       "    </tr>\n",
       "  </tbody>\n",
       "</table>\n",
       "<p>4368 rows × 2 columns</p>\n",
       "</div>"
      ],
      "text/plain": [
       "           Values  Predictions\n",
       "0     3574.330342  2619.130615\n",
       "1     3429.509300  2486.824219\n",
       "2     3331.942799  2404.238525\n",
       "3     3289.798182  2387.514648\n",
       "4     3339.593959  2430.484131\n",
       "...           ...          ...\n",
       "4363  3181.359858  3150.912354\n",
       "4364  3044.648834  3091.416748\n",
       "4365  2930.563230  2951.730469\n",
       "4366  2829.531899  2790.062256\n",
       "4367  2747.692143  2671.415527\n",
       "\n",
       "[4368 rows x 2 columns]"
      ]
     },
     "execution_count": 28,
     "metadata": {},
     "output_type": "execute_result"
    }
   ],
   "source": [
    "comparisionDf = pd.DataFrame(data= {\"Values\": Y_testArr, \"Predictions\": predArr})\n",
    "comparisionDf = inverse_transform(comparisionDf)\n",
    "comparisionDf"
   ]
  },
  {
   "cell_type": "code",
   "execution_count": 29,
   "id": "88222bae",
   "metadata": {},
   "outputs": [
    {
     "data": {
      "text/plain": [
       "13.825613382234977"
      ]
     },
     "execution_count": 29,
     "metadata": {},
     "output_type": "execute_result"
    }
   ],
   "source": [
    "mape(comparisionDf[\"Values\"], comparisionDf[\"Predictions\"])"
   ]
  }
 ],
 "metadata": {
  "kernelspec": {
   "display_name": "Python 3 (ipykernel)",
   "language": "python",
   "name": "python3"
  },
  "language_info": {
   "codemirror_mode": {
    "name": "ipython",
    "version": 3
   },
   "file_extension": ".py",
   "mimetype": "text/x-python",
   "name": "python",
   "nbconvert_exporter": "python",
   "pygments_lexer": "ipython3",
   "version": "3.9.12"
  }
 },
 "nbformat": 4,
 "nbformat_minor": 5
}
