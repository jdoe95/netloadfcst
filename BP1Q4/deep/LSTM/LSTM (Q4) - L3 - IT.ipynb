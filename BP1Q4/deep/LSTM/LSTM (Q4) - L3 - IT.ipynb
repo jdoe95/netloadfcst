{
 "cells": [
  {
   "cell_type": "code",
   "execution_count": 1,
   "id": "5f61b29f",
   "metadata": {},
   "outputs": [
    {
     "name": "stdout",
     "output_type": "stream",
     "text": [
      "Num GPUs Available:  1\n"
     ]
    }
   ],
   "source": [
    "import pandas as pd\n",
    "import numpy as np\n",
    "import os\n",
    "import matplotlib.pyplot as plt\n",
    "from datetime import datetime\n",
    "from sklearn.preprocessing import MinMaxScaler, RobustScaler, StandardScaler\n",
    "import time\n",
    "\n",
    "import tensorflow as tf\n",
    "tf.random.set_seed(42)\n",
    "\n",
    "def mape(y_true, y_pred):\n",
    "    y_true, y_pred = np.array(y_true), np.array(y_pred)\n",
    "    return np.mean(np.abs((y_true - y_pred) / max(y_true))) * 100\n",
    "\n",
    "def RMSELoss(yhat,y):\n",
    "    return torch.sqrt(torch.mean((yhat-y)**2))\n",
    "\n",
    "print(\"Num GPUs Available: \", len(tf.config.list_physical_devices('GPU')))"
   ]
  },
  {
   "cell_type": "code",
   "execution_count": 2,
   "id": "cea0abe2",
   "metadata": {},
   "outputs": [
    {
     "name": "stdout",
     "output_type": "stream",
     "text": [
      "['AT.csv', 'BE.csv', 'BG.csv', 'CH.csv', 'CZ.csv', 'DK.csv', 'ES.csv', 'FR.csv', 'GR.csv', 'IT.csv', 'NL.csv', 'PT.csv', 'SI.csv', 'SK.csv']\n"
     ]
    }
   ],
   "source": [
    "# Specifying the path of file\n",
    "path= r\"C:\\Users\\sashah8\\OneDrive - North Carolina State University\\Desktop\\Q4\\Data\\L3\\data_cleaned\"\n",
    "\n",
    "# Listing just the required files\n",
    "fileList = os.listdir(path)\n",
    "fileList.remove(\"Date.csv\")\n",
    "\n",
    "# Previewing the required file names\n",
    "print(fileList)"
   ]
  },
  {
   "cell_type": "code",
   "execution_count": 3,
   "id": "a6fe9396",
   "metadata": {},
   "outputs": [
    {
     "data": {
      "text/html": [
       "<div>\n",
       "<style scoped>\n",
       "    .dataframe tbody tr th:only-of-type {\n",
       "        vertical-align: middle;\n",
       "    }\n",
       "\n",
       "    .dataframe tbody tr th {\n",
       "        vertical-align: top;\n",
       "    }\n",
       "\n",
       "    .dataframe thead th {\n",
       "        text-align: right;\n",
       "    }\n",
       "</style>\n",
       "<table border=\"1\" class=\"dataframe\">\n",
       "  <thead>\n",
       "    <tr style=\"text-align: right;\">\n",
       "      <th></th>\n",
       "      <th>Demand</th>\n",
       "      <th>Normalized_net</th>\n",
       "      <th>Temperature</th>\n",
       "      <th>DNI</th>\n",
       "      <th>DHI</th>\n",
       "    </tr>\n",
       "  </thead>\n",
       "  <tbody>\n",
       "    <tr>\n",
       "      <th>0</th>\n",
       "      <td>0.0</td>\n",
       "      <td>0.000000</td>\n",
       "      <td>-1.123</td>\n",
       "      <td>0.0</td>\n",
       "      <td>0.0</td>\n",
       "    </tr>\n",
       "    <tr>\n",
       "      <th>1</th>\n",
       "      <td>21534.0</td>\n",
       "      <td>0.390413</td>\n",
       "      <td>-1.111</td>\n",
       "      <td>0.0</td>\n",
       "      <td>0.0</td>\n",
       "    </tr>\n",
       "    <tr>\n",
       "      <th>2</th>\n",
       "      <td>20219.0</td>\n",
       "      <td>0.366572</td>\n",
       "      <td>-1.036</td>\n",
       "      <td>0.0</td>\n",
       "      <td>0.0</td>\n",
       "    </tr>\n",
       "    <tr>\n",
       "      <th>3</th>\n",
       "      <td>19470.0</td>\n",
       "      <td>0.352992</td>\n",
       "      <td>-0.955</td>\n",
       "      <td>0.0</td>\n",
       "      <td>0.0</td>\n",
       "    </tr>\n",
       "    <tr>\n",
       "      <th>4</th>\n",
       "      <td>19485.0</td>\n",
       "      <td>0.353264</td>\n",
       "      <td>-0.905</td>\n",
       "      <td>0.0</td>\n",
       "      <td>0.0</td>\n",
       "    </tr>\n",
       "    <tr>\n",
       "      <th>...</th>\n",
       "      <td>...</td>\n",
       "      <td>...</td>\n",
       "      <td>...</td>\n",
       "      <td>...</td>\n",
       "      <td>...</td>\n",
       "    </tr>\n",
       "    <tr>\n",
       "      <th>43819</th>\n",
       "      <td>29746.0</td>\n",
       "      <td>0.539297</td>\n",
       "      <td>3.951</td>\n",
       "      <td>0.0</td>\n",
       "      <td>0.0</td>\n",
       "    </tr>\n",
       "    <tr>\n",
       "      <th>43820</th>\n",
       "      <td>27140.0</td>\n",
       "      <td>0.492050</td>\n",
       "      <td>3.825</td>\n",
       "      <td>0.0</td>\n",
       "      <td>0.0</td>\n",
       "    </tr>\n",
       "    <tr>\n",
       "      <th>43821</th>\n",
       "      <td>25336.0</td>\n",
       "      <td>0.459343</td>\n",
       "      <td>3.764</td>\n",
       "      <td>0.0</td>\n",
       "      <td>0.0</td>\n",
       "    </tr>\n",
       "    <tr>\n",
       "      <th>43822</th>\n",
       "      <td>23875.0</td>\n",
       "      <td>0.432855</td>\n",
       "      <td>3.752</td>\n",
       "      <td>0.0</td>\n",
       "      <td>0.0</td>\n",
       "    </tr>\n",
       "    <tr>\n",
       "      <th>43823</th>\n",
       "      <td>22509.0</td>\n",
       "      <td>0.408090</td>\n",
       "      <td>3.790</td>\n",
       "      <td>0.0</td>\n",
       "      <td>0.0</td>\n",
       "    </tr>\n",
       "  </tbody>\n",
       "</table>\n",
       "<p>43824 rows × 5 columns</p>\n",
       "</div>"
      ],
      "text/plain": [
       "        Demand  Normalized_net  Temperature  DNI  DHI\n",
       "0          0.0        0.000000       -1.123  0.0  0.0\n",
       "1      21534.0        0.390413       -1.111  0.0  0.0\n",
       "2      20219.0        0.366572       -1.036  0.0  0.0\n",
       "3      19470.0        0.352992       -0.955  0.0  0.0\n",
       "4      19485.0        0.353264       -0.905  0.0  0.0\n",
       "...        ...             ...          ...  ...  ...\n",
       "43819  29746.0        0.539297        3.951  0.0  0.0\n",
       "43820  27140.0        0.492050        3.825  0.0  0.0\n",
       "43821  25336.0        0.459343        3.764  0.0  0.0\n",
       "43822  23875.0        0.432855        3.752  0.0  0.0\n",
       "43823  22509.0        0.408090        3.790  0.0  0.0\n",
       "\n",
       "[43824 rows x 5 columns]"
      ]
     },
     "execution_count": 3,
     "metadata": {},
     "output_type": "execute_result"
    }
   ],
   "source": [
    "# Just for previewing the columns\n",
    "pd.read_csv(os.path.join(path, fileList[9]))"
   ]
  },
  {
   "cell_type": "markdown",
   "id": "9ad4906c",
   "metadata": {
    "pycharm": {
     "name": "#%% md\n"
    }
   },
   "source": [
    "### PROCESSING THE DATA"
   ]
  },
  {
   "cell_type": "code",
   "execution_count": 4,
   "id": "f29f6db2",
   "metadata": {},
   "outputs": [
    {
     "data": {
      "text/html": [
       "<div>\n",
       "<style scoped>\n",
       "    .dataframe tbody tr th:only-of-type {\n",
       "        vertical-align: middle;\n",
       "    }\n",
       "\n",
       "    .dataframe tbody tr th {\n",
       "        vertical-align: top;\n",
       "    }\n",
       "\n",
       "    .dataframe thead th {\n",
       "        text-align: right;\n",
       "    }\n",
       "</style>\n",
       "<table border=\"1\" class=\"dataframe\">\n",
       "  <thead>\n",
       "    <tr style=\"text-align: right;\">\n",
       "      <th></th>\n",
       "      <th>Load_IT</th>\n",
       "      <th>Temp_IT</th>\n",
       "    </tr>\n",
       "  </thead>\n",
       "  <tbody>\n",
       "    <tr>\n",
       "      <th>0</th>\n",
       "      <td>0.0</td>\n",
       "      <td>-1.123</td>\n",
       "    </tr>\n",
       "    <tr>\n",
       "      <th>1</th>\n",
       "      <td>21534.0</td>\n",
       "      <td>-1.111</td>\n",
       "    </tr>\n",
       "    <tr>\n",
       "      <th>2</th>\n",
       "      <td>20219.0</td>\n",
       "      <td>-1.036</td>\n",
       "    </tr>\n",
       "    <tr>\n",
       "      <th>3</th>\n",
       "      <td>19470.0</td>\n",
       "      <td>-0.955</td>\n",
       "    </tr>\n",
       "    <tr>\n",
       "      <th>4</th>\n",
       "      <td>19485.0</td>\n",
       "      <td>-0.905</td>\n",
       "    </tr>\n",
       "    <tr>\n",
       "      <th>...</th>\n",
       "      <td>...</td>\n",
       "      <td>...</td>\n",
       "    </tr>\n",
       "    <tr>\n",
       "      <th>43819</th>\n",
       "      <td>29746.0</td>\n",
       "      <td>3.951</td>\n",
       "    </tr>\n",
       "    <tr>\n",
       "      <th>43820</th>\n",
       "      <td>27140.0</td>\n",
       "      <td>3.825</td>\n",
       "    </tr>\n",
       "    <tr>\n",
       "      <th>43821</th>\n",
       "      <td>25336.0</td>\n",
       "      <td>3.764</td>\n",
       "    </tr>\n",
       "    <tr>\n",
       "      <th>43822</th>\n",
       "      <td>23875.0</td>\n",
       "      <td>3.752</td>\n",
       "    </tr>\n",
       "    <tr>\n",
       "      <th>43823</th>\n",
       "      <td>22509.0</td>\n",
       "      <td>3.790</td>\n",
       "    </tr>\n",
       "  </tbody>\n",
       "</table>\n",
       "<p>43824 rows × 2 columns</p>\n",
       "</div>"
      ],
      "text/plain": [
       "       Load_IT  Temp_IT\n",
       "0          0.0   -1.123\n",
       "1      21534.0   -1.111\n",
       "2      20219.0   -1.036\n",
       "3      19470.0   -0.955\n",
       "4      19485.0   -0.905\n",
       "...        ...      ...\n",
       "43819  29746.0    3.951\n",
       "43820  27140.0    3.825\n",
       "43821  25336.0    3.764\n",
       "43822  23875.0    3.752\n",
       "43823  22509.0    3.790\n",
       "\n",
       "[43824 rows x 2 columns]"
      ]
     },
     "execution_count": 4,
     "metadata": {},
     "output_type": "execute_result"
    }
   ],
   "source": [
    "# Restricting the load data to a single zone\n",
    "fileName  = fileList[9]\n",
    "\n",
    "zoneData = pd.read_csv(os.path.join(path, fileName), usecols= [\"Demand\", \"Temperature\"])\n",
    "zoneData.columns = [\"Load_\"+str(fileName[:-4]), \"Temp_\"+str(fileName[:-4])]\n",
    "\n",
    "# For fixing one missing row\n",
    "# zoneData = pd.concat([zoneData.loc[[0]], zoneData], axis= 0).reset_index(drop= True)\n",
    "\n",
    "zoneData"
   ]
  },
  {
   "cell_type": "markdown",
   "id": "01cec4bd",
   "metadata": {},
   "source": [
    "### FEATURE ENGINEERING AND SPLITTING INTO TRAIN-TEST SPLIT"
   ]
  },
  {
   "cell_type": "code",
   "execution_count": 5,
   "id": "a1e1e8a3",
   "metadata": {},
   "outputs": [],
   "source": [
    "def lagGenerator(dF, lagList):\n",
    "    dF_temp = dF.filter(regex= \"Load\").copy()\n",
    "    \n",
    "    for i in lagList:\n",
    "        dF_temp.loc[:, \"Lag-\" + str(i)] = dF_temp.iloc[:,[0]].shift(i*24)\n",
    "    \n",
    "    return(dF_temp.filter(regex= \"Lag\"))"
   ]
  },
  {
   "cell_type": "code",
   "execution_count": 6,
   "id": "159a2a82",
   "metadata": {},
   "outputs": [
    {
     "data": {
      "text/html": [
       "<div>\n",
       "<style scoped>\n",
       "    .dataframe tbody tr th:only-of-type {\n",
       "        vertical-align: middle;\n",
       "    }\n",
       "\n",
       "    .dataframe tbody tr th {\n",
       "        vertical-align: top;\n",
       "    }\n",
       "\n",
       "    .dataframe thead th {\n",
       "        text-align: right;\n",
       "    }\n",
       "</style>\n",
       "<table border=\"1\" class=\"dataframe\">\n",
       "  <thead>\n",
       "    <tr style=\"text-align: right;\">\n",
       "      <th></th>\n",
       "      <th>Lag-2</th>\n",
       "      <th>Lag-7</th>\n",
       "    </tr>\n",
       "  </thead>\n",
       "  <tbody>\n",
       "    <tr>\n",
       "      <th>0</th>\n",
       "      <td>NaN</td>\n",
       "      <td>NaN</td>\n",
       "    </tr>\n",
       "    <tr>\n",
       "      <th>1</th>\n",
       "      <td>NaN</td>\n",
       "      <td>NaN</td>\n",
       "    </tr>\n",
       "  </tbody>\n",
       "</table>\n",
       "</div>"
      ],
      "text/plain": [
       "   Lag-2  Lag-7\n",
       "0    NaN    NaN\n",
       "1    NaN    NaN"
      ]
     },
     "execution_count": 6,
     "metadata": {},
     "output_type": "execute_result"
    }
   ],
   "source": [
    "Load_lags = lagGenerator(dF=zoneData, lagList=[2,7])\n",
    "Load_lags.head(2)"
   ]
  },
  {
   "cell_type": "code",
   "execution_count": 7,
   "id": "05896954",
   "metadata": {},
   "outputs": [
    {
     "data": {
      "text/html": [
       "<div>\n",
       "<style scoped>\n",
       "    .dataframe tbody tr th:only-of-type {\n",
       "        vertical-align: middle;\n",
       "    }\n",
       "\n",
       "    .dataframe tbody tr th {\n",
       "        vertical-align: top;\n",
       "    }\n",
       "\n",
       "    .dataframe thead th {\n",
       "        text-align: right;\n",
       "    }\n",
       "</style>\n",
       "<table border=\"1\" class=\"dataframe\">\n",
       "  <thead>\n",
       "    <tr style=\"text-align: right;\">\n",
       "      <th></th>\n",
       "      <th>Load_IT</th>\n",
       "      <th>Temp_IT</th>\n",
       "      <th>Lag-2</th>\n",
       "      <th>Lag-7</th>\n",
       "    </tr>\n",
       "  </thead>\n",
       "  <tbody>\n",
       "    <tr>\n",
       "      <th>0</th>\n",
       "      <td>24256.0</td>\n",
       "      <td>4.327</td>\n",
       "      <td>21259.0</td>\n",
       "      <td>0.0</td>\n",
       "    </tr>\n",
       "    <tr>\n",
       "      <th>1</th>\n",
       "      <td>23337.0</td>\n",
       "      <td>4.118</td>\n",
       "      <td>20186.0</td>\n",
       "      <td>21534.0</td>\n",
       "    </tr>\n",
       "    <tr>\n",
       "      <th>2</th>\n",
       "      <td>23058.0</td>\n",
       "      <td>3.929</td>\n",
       "      <td>19612.0</td>\n",
       "      <td>20219.0</td>\n",
       "    </tr>\n",
       "    <tr>\n",
       "      <th>3</th>\n",
       "      <td>23350.0</td>\n",
       "      <td>3.746</td>\n",
       "      <td>19599.0</td>\n",
       "      <td>19470.0</td>\n",
       "    </tr>\n",
       "    <tr>\n",
       "      <th>4</th>\n",
       "      <td>24947.0</td>\n",
       "      <td>3.636</td>\n",
       "      <td>20115.0</td>\n",
       "      <td>19485.0</td>\n",
       "    </tr>\n",
       "    <tr>\n",
       "      <th>...</th>\n",
       "      <td>...</td>\n",
       "      <td>...</td>\n",
       "      <td>...</td>\n",
       "      <td>...</td>\n",
       "    </tr>\n",
       "    <tr>\n",
       "      <th>43651</th>\n",
       "      <td>29746.0</td>\n",
       "      <td>3.951</td>\n",
       "      <td>30693.0</td>\n",
       "      <td>28134.0</td>\n",
       "    </tr>\n",
       "    <tr>\n",
       "      <th>43652</th>\n",
       "      <td>27140.0</td>\n",
       "      <td>3.825</td>\n",
       "      <td>28829.0</td>\n",
       "      <td>25691.0</td>\n",
       "    </tr>\n",
       "    <tr>\n",
       "      <th>43653</th>\n",
       "      <td>25336.0</td>\n",
       "      <td>3.764</td>\n",
       "      <td>26171.0</td>\n",
       "      <td>23874.0</td>\n",
       "    </tr>\n",
       "    <tr>\n",
       "      <th>43654</th>\n",
       "      <td>23875.0</td>\n",
       "      <td>3.752</td>\n",
       "      <td>23499.0</td>\n",
       "      <td>22415.0</td>\n",
       "    </tr>\n",
       "    <tr>\n",
       "      <th>43655</th>\n",
       "      <td>22509.0</td>\n",
       "      <td>3.790</td>\n",
       "      <td>21428.0</td>\n",
       "      <td>20677.0</td>\n",
       "    </tr>\n",
       "  </tbody>\n",
       "</table>\n",
       "<p>43656 rows × 4 columns</p>\n",
       "</div>"
      ],
      "text/plain": [
       "       Load_IT  Temp_IT    Lag-2    Lag-7\n",
       "0      24256.0    4.327  21259.0      0.0\n",
       "1      23337.0    4.118  20186.0  21534.0\n",
       "2      23058.0    3.929  19612.0  20219.0\n",
       "3      23350.0    3.746  19599.0  19470.0\n",
       "4      24947.0    3.636  20115.0  19485.0\n",
       "...        ...      ...      ...      ...\n",
       "43651  29746.0    3.951  30693.0  28134.0\n",
       "43652  27140.0    3.825  28829.0  25691.0\n",
       "43653  25336.0    3.764  26171.0  23874.0\n",
       "43654  23875.0    3.752  23499.0  22415.0\n",
       "43655  22509.0    3.790  21428.0  20677.0\n",
       "\n",
       "[43656 rows x 4 columns]"
      ]
     },
     "execution_count": 7,
     "metadata": {},
     "output_type": "execute_result"
    }
   ],
   "source": [
    "dataDf = pd.concat([zoneData, Load_lags], axis= 1).dropna(axis= 0).reset_index(drop= True)\n",
    "dataDf"
   ]
  },
  {
   "cell_type": "code",
   "execution_count": 8,
   "id": "6ad25321",
   "metadata": {},
   "outputs": [],
   "source": [
    "# Setting the train-test split ratio\n",
    "ratio = 0.1"
   ]
  },
  {
   "cell_type": "code",
   "execution_count": 9,
   "id": "3c08d963",
   "metadata": {},
   "outputs": [],
   "source": [
    "Num_train, Num_test = int(len(dataDf)/24 * (1 - ratio)) * 24, int(len(dataDf)/24 * ratio) * 24"
   ]
  },
  {
   "cell_type": "code",
   "execution_count": 10,
   "id": "cbe069ff",
   "metadata": {},
   "outputs": [],
   "source": [
    "# Splitting the data into train and test\n",
    "data_train, data_test = dataDf[:Num_train], dataDf[Num_train:]"
   ]
  },
  {
   "cell_type": "code",
   "execution_count": 11,
   "id": "d84e15c4",
   "metadata": {},
   "outputs": [],
   "source": [
    "Num_train, Num_valid = int(len(data_train)/24 * (1 - ratio)) * 24, int(len(data_train)/24 * ratio) * 24"
   ]
  },
  {
   "cell_type": "code",
   "execution_count": 12,
   "id": "c17d1723",
   "metadata": {},
   "outputs": [],
   "source": [
    "# Splitting the data into train and test\n",
    "data_train, data_valid = data_train[:Num_train], data_train[Num_train:]"
   ]
  },
  {
   "cell_type": "markdown",
   "id": "88d32011",
   "metadata": {},
   "source": [
    "### SPLITTING INTO X AND Y PART WITH SEQUENCE BATCHING"
   ]
  },
  {
   "cell_type": "code",
   "execution_count": 13,
   "id": "4ba286ca",
   "metadata": {},
   "outputs": [],
   "source": [
    "X_train_df, Y_train_df = data_train.iloc[:, 1:], data_train.iloc[:, :1]\n",
    "\n",
    "X_valid_df, Y_valid_df = data_valid.iloc[:, 1:], data_valid.iloc[:, :1]\n",
    "\n",
    "X_test_df, Y_test_df = data_test.iloc[:, 1:], data_test.iloc[:, :1]"
   ]
  },
  {
   "cell_type": "code",
   "execution_count": 14,
   "id": "ef1d9079",
   "metadata": {},
   "outputs": [],
   "source": [
    "# Preparing the scaler\n",
    "ValScaler = MinMaxScaler()\n",
    "\n",
    "X_train = ValScaler.fit_transform(X_train_df)\n",
    "X_valid = ValScaler.transform(X_valid_df)\n",
    "X_test = ValScaler.transform(X_test_df)\n",
    "\n",
    "Y_train = ValScaler.fit_transform(Y_train_df)\n",
    "Y_valid = ValScaler.transform(Y_valid_df)\n",
    "Y_test = ValScaler.transform(Y_test_df)"
   ]
  },
  {
   "cell_type": "code",
   "execution_count": 15,
   "id": "43594401",
   "metadata": {},
   "outputs": [],
   "source": [
    "def splitData(dataset):\n",
    "    data = np.array(np.split(dataset, len(dataset)/24))\n",
    "    return data"
   ]
  },
  {
   "cell_type": "code",
   "execution_count": 16,
   "id": "300696b2",
   "metadata": {},
   "outputs": [],
   "source": [
    "def supervisedSet(X_part, Y_part, steps= 24):\n",
    "    X_array, Y_array = np.array(X_part), np.array(Y_part)\n",
    "    X, Y = [], []\n",
    "    \n",
    "    for i in range(len(X_array)):\n",
    "        endIdx = i + steps\n",
    "        \n",
    "        if endIdx > len(X_array):\n",
    "            break\n",
    "        \n",
    "        batch_X, batch_Y = X_array[i:endIdx], Y_array[i:endIdx]\n",
    "        \n",
    "        X.append(batch_X)\n",
    "        Y.append(batch_Y)\n",
    "        \n",
    "    return np.array(X), np.array(Y)"
   ]
  },
  {
   "cell_type": "code",
   "execution_count": 17,
   "id": "fc9cd97d",
   "metadata": {},
   "outputs": [],
   "source": [
    "X_train, Y_train = supervisedSet(X_train, Y_train)\n",
    "\n",
    "X_valid, Y_valid = splitData(X_valid), splitData(Y_valid)\n",
    "\n",
    "X_test, Y_test = splitData(X_test), splitData(Y_test)"
   ]
  },
  {
   "cell_type": "markdown",
   "id": "a2a6bf32",
   "metadata": {},
   "source": [
    "### WORKING ON THE MODEL"
   ]
  },
  {
   "cell_type": "code",
   "execution_count": 18,
   "id": "ff71a98c",
   "metadata": {},
   "outputs": [],
   "source": [
    "epochs = 100\n",
    "batchSize = 32"
   ]
  },
  {
   "cell_type": "code",
   "execution_count": 19,
   "id": "8d600c17",
   "metadata": {},
   "outputs": [],
   "source": [
    "# Encoder-decoder architecture [tanh required to use tensorflow on gpu]\n",
    "model = tf.keras.Sequential([\n",
    "    tf.keras.layers.LSTM(units= 128, activation= \"tanh\", input_shape= (X_train.shape[1], X_train.shape[2]), dropout= 0.2),\n",
    "    tf.keras.layers.RepeatVector(Y_train.shape[1]),\n",
    "    tf.keras.layers.LSTM(units= 128, activation= \"tanh\", return_sequences= True, dropout= 0.2),\n",
    "    tf.keras.layers.TimeDistributed(tf.keras.layers.Dense(units= 128, activation= \"relu\")),\n",
    "    tf.keras.layers.Dropout(0.2),\n",
    "    tf.keras.layers.TimeDistributed(tf.keras.layers.Dense(units= 1))\n",
    "])\n",
    "\n",
    "model.compile(loss= \"mse\", optimizer= \"adam\",  metrics= ['mape', 'mae'])"
   ]
  },
  {
   "cell_type": "code",
   "execution_count": 20,
   "id": "a05c033a",
   "metadata": {},
   "outputs": [],
   "source": [
    "# model = tf.keras.Sequential([\n",
    "#     tf.keras.layers.LSTM(units= 256, activation= \"tanh\", input_shape= (X_train.shape[1], X_train.shape[2])),\n",
    "#     tf.keras.layers.Dense(units= 128, activation= \"tanh\"),\n",
    "#     tf.keras.layers.Dense(units= 1)\n",
    "# ])\n",
    "\n",
    "# model.compile(loss= \"mse\", optimizer= \"adam\",  metrics= ['mape', 'mae'])"
   ]
  },
  {
   "cell_type": "code",
   "execution_count": 21,
   "id": "c9390383",
   "metadata": {},
   "outputs": [],
   "source": [
    "# Storing the start time of model fitting process\n",
    "startTime = time.time()"
   ]
  },
  {
   "cell_type": "code",
   "execution_count": 22,
   "id": "e526e3ed",
   "metadata": {},
   "outputs": [
    {
     "name": "stdout",
     "output_type": "stream",
     "text": [
      "Epoch 1/100\n",
      "1105/1105 [==============================] - 37s 23ms/step - loss: 0.0197 - mape: 11542.9971 - mae: 0.1118 - val_loss: 0.0236 - val_mape: 26.7623 - val_mae: 0.1266\n",
      "Epoch 2/100\n",
      "1105/1105 [==============================] - 24s 22ms/step - loss: 0.0099 - mape: 11595.9229 - mae: 0.0752 - val_loss: 0.0124 - val_mape: 22.0793 - val_mae: 0.0911\n",
      "Epoch 3/100\n",
      "1105/1105 [==============================] - 25s 22ms/step - loss: 0.0080 - mape: 10822.0049 - mae: 0.0656 - val_loss: 0.0155 - val_mape: 22.2502 - val_mae: 0.1021\n",
      "Epoch 4/100\n",
      "1105/1105 [==============================] - 24s 22ms/step - loss: 0.0071 - mape: 10926.4453 - mae: 0.0609 - val_loss: 0.0245 - val_mape: 28.8727 - val_mae: 0.1354\n",
      "Epoch 5/100\n",
      "1105/1105 [==============================] - 24s 22ms/step - loss: 0.0066 - mape: 10691.9258 - mae: 0.0582 - val_loss: 0.0135 - val_mape: 23.2606 - val_mae: 0.1014\n",
      "Epoch 6/100\n",
      "1105/1105 [==============================] - 25s 22ms/step - loss: 0.0061 - mape: 10522.6367 - mae: 0.0556 - val_loss: 0.0241 - val_mape: 31.1471 - val_mae: 0.1406\n",
      "Epoch 7/100\n",
      "1105/1105 [==============================] - 25s 22ms/step - loss: 0.0060 - mape: 10866.7441 - mae: 0.0545 - val_loss: 0.0164 - val_mape: 26.8571 - val_mae: 0.1130\n",
      "Epoch 8/100\n",
      "1105/1105 [==============================] - 25s 22ms/step - loss: 0.0056 - mape: 10615.8359 - mae: 0.0523 - val_loss: 0.0133 - val_mape: 26.0377 - val_mae: 0.0923\n",
      "Epoch 9/100\n",
      "1105/1105 [==============================] - 25s 22ms/step - loss: 0.0053 - mape: 10523.0742 - mae: 0.0510 - val_loss: 0.0151 - val_mape: 27.3556 - val_mae: 0.1056\n",
      "Epoch 10/100\n",
      "1105/1105 [==============================] - 25s 23ms/step - loss: 0.0052 - mape: 10725.1416 - mae: 0.0501 - val_loss: 0.0150 - val_mape: 27.4966 - val_mae: 0.1034\n",
      "Epoch 11/100\n",
      "1105/1105 [==============================] - 25s 23ms/step - loss: 0.0049 - mape: 10251.5381 - mae: 0.0486 - val_loss: 0.0164 - val_mape: 28.4551 - val_mae: 0.1149\n",
      "Epoch 12/100\n",
      "1105/1105 [==============================] - 25s 23ms/step - loss: 0.0047 - mape: 10241.0000 - mae: 0.0474 - val_loss: 0.0198 - val_mape: 29.9858 - val_mae: 0.1224\n",
      "Epoch 13/100\n",
      "1105/1105 [==============================] - 25s 23ms/step - loss: 0.0046 - mape: 10588.7109 - mae: 0.0472 - val_loss: 0.0163 - val_mape: 27.8526 - val_mae: 0.1122\n",
      "Epoch 14/100\n",
      "1105/1105 [==============================] - 25s 23ms/step - loss: 0.0043 - mape: 10251.6172 - mae: 0.0454 - val_loss: 0.0168 - val_mape: 29.6484 - val_mae: 0.1144\n",
      "Epoch 15/100\n",
      "1105/1105 [==============================] - 25s 23ms/step - loss: 0.0043 - mape: 9878.3975 - mae: 0.0449 - val_loss: 0.0143 - val_mape: 25.5372 - val_mae: 0.0986\n",
      "Epoch 16/100\n",
      "1105/1105 [==============================] - 25s 23ms/step - loss: 0.0041 - mape: 9672.5645 - mae: 0.0438 - val_loss: 0.0248 - val_mape: 33.4945 - val_mae: 0.1413\n",
      "Epoch 17/100\n",
      "1105/1105 [==============================] - 25s 23ms/step - loss: 0.0040 - mape: 9282.5986 - mae: 0.0434 - val_loss: 0.0152 - val_mape: 27.6926 - val_mae: 0.1029\n",
      "Epoch 18/100\n",
      "1105/1105 [==============================] - 25s 23ms/step - loss: 0.0038 - mape: 8477.7549 - mae: 0.0422 - val_loss: 0.0192 - val_mape: 28.2302 - val_mae: 0.1224\n",
      "Epoch 19/100\n",
      "1105/1105 [==============================] - 25s 23ms/step - loss: 0.0037 - mape: 8941.8320 - mae: 0.0415 - val_loss: 0.0208 - val_mape: 31.0595 - val_mae: 0.1230\n",
      "Epoch 20/100\n",
      "1105/1105 [==============================] - 25s 23ms/step - loss: 0.0036 - mape: 7712.0469 - mae: 0.0408 - val_loss: 0.0189 - val_mape: 29.8224 - val_mae: 0.1183\n",
      "Epoch 21/100\n",
      "1105/1105 [==============================] - 25s 23ms/step - loss: 0.0034 - mape: 7741.6328 - mae: 0.0400 - val_loss: 0.0182 - val_mape: 30.1256 - val_mae: 0.1196\n",
      "Epoch 22/100\n",
      "1105/1105 [==============================] - 25s 23ms/step - loss: 0.0034 - mape: 8539.9004 - mae: 0.0395 - val_loss: 0.0189 - val_mape: 29.2472 - val_mae: 0.1187\n",
      "Epoch 23/100\n",
      "1105/1105 [==============================] - 25s 23ms/step - loss: 0.0033 - mape: 7531.1055 - mae: 0.0390 - val_loss: 0.0167 - val_mape: 26.4734 - val_mae: 0.1098\n",
      "Epoch 24/100\n",
      "1105/1105 [==============================] - 25s 23ms/step - loss: 0.0032 - mape: 7468.7676 - mae: 0.0383 - val_loss: 0.0209 - val_mape: 31.2179 - val_mae: 0.1187\n",
      "Epoch 25/100\n",
      "1105/1105 [==============================] - 26s 23ms/step - loss: 0.0031 - mape: 7731.8882 - mae: 0.0379 - val_loss: 0.0209 - val_mape: 30.7546 - val_mae: 0.1236\n",
      "Epoch 26/100\n",
      "1105/1105 [==============================] - 26s 23ms/step - loss: 0.0031 - mape: 7098.1191 - mae: 0.0377 - val_loss: 0.0228 - val_mape: 31.9326 - val_mae: 0.1314\n",
      "Epoch 27/100\n",
      "1105/1105 [==============================] - 23s 21ms/step - loss: 0.0030 - mape: 6914.8555 - mae: 0.0373 - val_loss: 0.0237 - val_mape: 32.1414 - val_mae: 0.1313\n",
      "Epoch 28/100\n",
      "1105/1105 [==============================] - 19s 17ms/step - loss: 0.0029 - mape: 6859.7139 - mae: 0.0367 - val_loss: 0.0250 - val_mape: 32.4514 - val_mae: 0.1322\n",
      "Epoch 29/100\n",
      "1105/1105 [==============================] - 19s 17ms/step - loss: 0.0028 - mape: 6182.8286 - mae: 0.0362 - val_loss: 0.0203 - val_mape: 30.0536 - val_mae: 0.1213\n",
      "Epoch 30/100\n",
      "1105/1105 [==============================] - 19s 17ms/step - loss: 0.0027 - mape: 6131.5908 - mae: 0.0357 - val_loss: 0.0206 - val_mape: 30.0755 - val_mae: 0.1072\n",
      "Epoch 31/100\n",
      "1105/1105 [==============================] - 19s 17ms/step - loss: 0.0027 - mape: 5784.5464 - mae: 0.0354 - val_loss: 0.0179 - val_mape: 27.2457 - val_mae: 0.1096\n",
      "Epoch 32/100\n",
      "1105/1105 [==============================] - 19s 17ms/step - loss: 0.0027 - mape: 6448.6543 - mae: 0.0352 - val_loss: 0.0235 - val_mape: 29.0807 - val_mae: 0.1230\n",
      "Epoch 33/100\n",
      "1105/1105 [==============================] - 19s 18ms/step - loss: 0.0026 - mape: 4160.9116 - mae: 0.0345 - val_loss: 0.0289 - val_mape: 35.2536 - val_mae: 0.1444\n",
      "Epoch 34/100\n",
      "1105/1105 [==============================] - 19s 17ms/step - loss: 0.0025 - mape: 5154.8604 - mae: 0.0342 - val_loss: 0.0210 - val_mape: 30.2410 - val_mae: 0.1203\n",
      "Epoch 35/100\n",
      "1105/1105 [==============================] - 19s 17ms/step - loss: 0.0026 - mape: 5870.5239 - mae: 0.0344 - val_loss: 0.0254 - val_mape: 33.6183 - val_mae: 0.1362\n",
      "Epoch 36/100\n",
      "1105/1105 [==============================] - 18s 16ms/step - loss: 0.0025 - mape: 4993.8892 - mae: 0.0337 - val_loss: 0.0243 - val_mape: 32.9090 - val_mae: 0.1307\n",
      "Epoch 37/100\n",
      "1105/1105 [==============================] - 18s 16ms/step - loss: 0.0024 - mape: 4725.9917 - mae: 0.0336 - val_loss: 0.0258 - val_mape: 31.7665 - val_mae: 0.1335\n",
      "Epoch 38/100\n",
      "1105/1105 [==============================] - 17s 16ms/step - loss: 0.0023 - mape: 3967.1270 - mae: 0.0326 - val_loss: 0.0174 - val_mape: 28.0574 - val_mae: 0.1103\n",
      "Epoch 39/100\n",
      "1105/1105 [==============================] - 18s 16ms/step - loss: 0.0024 - mape: 4875.9355 - mae: 0.0331 - val_loss: 0.0284 - val_mape: 34.0288 - val_mae: 0.1384\n",
      "Epoch 40/100\n",
      "1105/1105 [==============================] - 19s 17ms/step - loss: 0.0023 - mape: 4359.3491 - mae: 0.0327 - val_loss: 0.0214 - val_mape: 30.4918 - val_mae: 0.1227\n",
      "Epoch 41/100\n",
      "1105/1105 [==============================] - 18s 17ms/step - loss: 0.0022 - mape: 4569.8066 - mae: 0.0322 - val_loss: 0.0234 - val_mape: 30.7782 - val_mae: 0.1305\n",
      "Epoch 42/100\n",
      "1105/1105 [==============================] - 17s 16ms/step - loss: 0.0022 - mape: 4358.5293 - mae: 0.0319 - val_loss: 0.0241 - val_mape: 32.0748 - val_mae: 0.1290\n",
      "Epoch 43/100\n",
      "1105/1105 [==============================] - 18s 16ms/step - loss: 0.0024 - mape: 5649.9351 - mae: 0.0332 - val_loss: 0.0256 - val_mape: 30.7116 - val_mae: 0.1338\n",
      "Epoch 44/100\n",
      "1105/1105 [==============================] - 18s 16ms/step - loss: 0.0022 - mape: 3982.1895 - mae: 0.0318 - val_loss: 0.0262 - val_mape: 30.4498 - val_mae: 0.1368\n",
      "Epoch 45/100\n",
      "1105/1105 [==============================] - 18s 17ms/step - loss: 0.0022 - mape: 4707.9595 - mae: 0.0315 - val_loss: 0.0169 - val_mape: 28.3102 - val_mae: 0.1094\n",
      "Epoch 46/100\n",
      "1105/1105 [==============================] - 18s 16ms/step - loss: 0.0021 - mape: 3693.9014 - mae: 0.0312 - val_loss: 0.0196 - val_mape: 29.3129 - val_mae: 0.1120\n",
      "Epoch 47/100\n"
     ]
    },
    {
     "name": "stdout",
     "output_type": "stream",
     "text": [
      "1105/1105 [==============================] - 17s 15ms/step - loss: 0.0021 - mape: 3860.4014 - mae: 0.0309 - val_loss: 0.0274 - val_mape: 34.8459 - val_mae: 0.1396\n",
      "Epoch 48/100\n",
      "1105/1105 [==============================] - 17s 15ms/step - loss: 0.0020 - mape: 3084.7131 - mae: 0.0304 - val_loss: 0.0205 - val_mape: 29.3683 - val_mae: 0.1181\n",
      "Epoch 49/100\n",
      "1105/1105 [==============================] - 17s 15ms/step - loss: 0.0020 - mape: 3735.6672 - mae: 0.0306 - val_loss: 0.0199 - val_mape: 28.3523 - val_mae: 0.1153\n",
      "Epoch 50/100\n",
      "1105/1105 [==============================] - 17s 15ms/step - loss: 0.0020 - mape: 2940.9248 - mae: 0.0303 - val_loss: 0.0236 - val_mape: 31.2789 - val_mae: 0.1281\n",
      "Epoch 51/100\n",
      "1105/1105 [==============================] - 17s 15ms/step - loss: 0.0020 - mape: 3159.5183 - mae: 0.0301 - val_loss: 0.0199 - val_mape: 28.6235 - val_mae: 0.1193\n",
      "Epoch 52/100\n",
      "1105/1105 [==============================] - 17s 15ms/step - loss: 0.0019 - mape: 3061.6418 - mae: 0.0298 - val_loss: 0.0233 - val_mape: 31.1105 - val_mae: 0.1264\n",
      "Epoch 53/100\n",
      "1105/1105 [==============================] - 17s 15ms/step - loss: 0.0019 - mape: 3264.8547 - mae: 0.0295 - val_loss: 0.0283 - val_mape: 33.7120 - val_mae: 0.1380\n",
      "Epoch 54/100\n",
      "1105/1105 [==============================] - 17s 15ms/step - loss: 0.0020 - mape: 4209.5522 - mae: 0.0299 - val_loss: 0.0320 - val_mape: 35.0567 - val_mae: 0.1475\n",
      "Epoch 55/100\n",
      "1105/1105 [==============================] - 17s 15ms/step - loss: 0.0018 - mape: 3174.4304 - mae: 0.0291 - val_loss: 0.0188 - val_mape: 28.3735 - val_mae: 0.1155\n",
      "Epoch 56/100\n",
      "1105/1105 [==============================] - 17s 15ms/step - loss: 0.0018 - mape: 3311.7183 - mae: 0.0293 - val_loss: 0.0270 - val_mape: 32.8521 - val_mae: 0.1377\n",
      "Epoch 57/100\n",
      "1105/1105 [==============================] - 16s 15ms/step - loss: 0.0018 - mape: 3498.5173 - mae: 0.0288 - val_loss: 0.0234 - val_mape: 31.5102 - val_mae: 0.1278\n",
      "Epoch 58/100\n",
      "1105/1105 [==============================] - 16s 14ms/step - loss: 0.0018 - mape: 3504.0303 - mae: 0.0287 - val_loss: 0.0231 - val_mape: 31.3240 - val_mae: 0.1257\n",
      "Epoch 59/100\n",
      "1105/1105 [==============================] - 15s 14ms/step - loss: 0.0018 - mape: 3472.8130 - mae: 0.0285 - val_loss: 0.0247 - val_mape: 33.0635 - val_mae: 0.1315\n",
      "Epoch 60/100\n",
      "1105/1105 [==============================] - 15s 14ms/step - loss: 0.0018 - mape: 2886.9216 - mae: 0.0291 - val_loss: 0.0230 - val_mape: 30.3102 - val_mae: 0.1267\n",
      "Epoch 61/100\n",
      "1105/1105 [==============================] - 15s 14ms/step - loss: 0.0017 - mape: 2443.4460 - mae: 0.0282 - val_loss: 0.0228 - val_mape: 30.1625 - val_mae: 0.1241\n",
      "Epoch 62/100\n",
      "1105/1105 [==============================] - 15s 14ms/step - loss: 0.0018 - mape: 3038.2053 - mae: 0.0287 - val_loss: 0.0307 - val_mape: 34.9888 - val_mae: 0.1511\n",
      "Epoch 63/100\n",
      "1105/1105 [==============================] - 15s 14ms/step - loss: 0.0016 - mape: 2557.8162 - mae: 0.0272 - val_loss: 0.0220 - val_mape: 29.9971 - val_mae: 0.1222\n",
      "Epoch 64/100\n",
      "1105/1105 [==============================] - 15s 14ms/step - loss: 0.0016 - mape: 2723.8398 - mae: 0.0278 - val_loss: 0.0222 - val_mape: 30.2301 - val_mae: 0.1234\n",
      "Epoch 65/100\n",
      "1105/1105 [==============================] - 15s 14ms/step - loss: 0.0016 - mape: 2843.4238 - mae: 0.0270 - val_loss: 0.0152 - val_mape: 24.9006 - val_mae: 0.1001\n",
      "Epoch 66/100\n",
      "1105/1105 [==============================] - 15s 14ms/step - loss: 0.0016 - mape: 1862.8295 - mae: 0.0275 - val_loss: 0.0233 - val_mape: 31.5124 - val_mae: 0.1265\n",
      "Epoch 67/100\n",
      "1105/1105 [==============================] - 15s 14ms/step - loss: 0.0016 - mape: 2044.1927 - mae: 0.0272 - val_loss: 0.0191 - val_mape: 29.6110 - val_mae: 0.1143\n",
      "Epoch 68/100\n",
      "1105/1105 [==============================] - 15s 13ms/step - loss: 0.0016 - mape: 2238.2998 - mae: 0.0276 - val_loss: 0.0190 - val_mape: 28.3846 - val_mae: 0.1108\n",
      "Epoch 69/100\n",
      "1105/1105 [==============================] - 15s 14ms/step - loss: 0.0016 - mape: 3552.1045 - mae: 0.0269 - val_loss: 0.0235 - val_mape: 30.8684 - val_mae: 0.1259\n",
      "Epoch 70/100\n",
      "1105/1105 [==============================] - 15s 14ms/step - loss: 0.0016 - mape: 2086.4878 - mae: 0.0274 - val_loss: 0.0287 - val_mape: 33.7768 - val_mae: 0.1411\n",
      "Epoch 71/100\n",
      "1105/1105 [==============================] - 15s 14ms/step - loss: 0.0014 - mape: 2059.5681 - mae: 0.0261 - val_loss: 0.0193 - val_mape: 28.1429 - val_mae: 0.1132\n",
      "Epoch 72/100\n",
      "1105/1105 [==============================] - 15s 14ms/step - loss: 0.0015 - mape: 2828.3508 - mae: 0.0269 - val_loss: 0.0231 - val_mape: 31.9449 - val_mae: 0.1282\n",
      "Epoch 73/100\n",
      "1105/1105 [==============================] - 15s 14ms/step - loss: 0.0015 - mape: 2229.5427 - mae: 0.0262 - val_loss: 0.0197 - val_mape: 28.8916 - val_mae: 0.1145\n",
      "Epoch 74/100\n",
      "1105/1105 [==============================] - 15s 14ms/step - loss: 0.0015 - mape: 3836.3718 - mae: 0.0264 - val_loss: 0.0234 - val_mape: 30.7654 - val_mae: 0.1251\n",
      "Epoch 75/100\n",
      "1105/1105 [==============================] - 15s 14ms/step - loss: 0.0015 - mape: 2090.5762 - mae: 0.0263 - val_loss: 0.0238 - val_mape: 29.9113 - val_mae: 0.1254\n",
      "Epoch 76/100\n",
      "1105/1105 [==============================] - 15s 14ms/step - loss: 0.0015 - mape: 2186.2629 - mae: 0.0263 - val_loss: 0.0238 - val_mape: 30.5099 - val_mae: 0.1301\n",
      "Epoch 77/100\n",
      "1105/1105 [==============================] - 15s 14ms/step - loss: 0.0015 - mape: 3402.5679 - mae: 0.0266 - val_loss: 0.0255 - val_mape: 32.6752 - val_mae: 0.1333\n",
      "Epoch 78/100\n",
      "1105/1105 [==============================] - 15s 14ms/step - loss: 0.0014 - mape: 2203.8467 - mae: 0.0256 - val_loss: 0.0217 - val_mape: 30.0394 - val_mae: 0.1240\n",
      "Epoch 79/100\n",
      "1105/1105 [==============================] - 15s 14ms/step - loss: 0.0014 - mape: 3109.8767 - mae: 0.0258 - val_loss: 0.0241 - val_mape: 32.7390 - val_mae: 0.1313\n",
      "Epoch 80/100\n",
      "1105/1105 [==============================] - 15s 14ms/step - loss: 0.0013 - mape: 1732.5746 - mae: 0.0250 - val_loss: 0.0225 - val_mape: 31.2507 - val_mae: 0.1243\n",
      "Epoch 81/100\n",
      "1105/1105 [==============================] - 15s 14ms/step - loss: 0.0014 - mape: 2001.7599 - mae: 0.0258 - val_loss: 0.0215 - val_mape: 30.0282 - val_mae: 0.1215\n",
      "Epoch 82/100\n",
      "1105/1105 [==============================] - 15s 14ms/step - loss: 0.0014 - mape: 2209.7168 - mae: 0.0254 - val_loss: 0.0232 - val_mape: 31.4956 - val_mae: 0.1276\n",
      "Epoch 83/100\n",
      "1105/1105 [==============================] - 15s 14ms/step - loss: 0.0013 - mape: 2090.4553 - mae: 0.0245 - val_loss: 0.0222 - val_mape: 30.2676 - val_mae: 0.1228\n",
      "Epoch 84/100\n",
      "1105/1105 [==============================] - 15s 14ms/step - loss: 0.0014 - mape: 2619.5476 - mae: 0.0254 - val_loss: 0.0219 - val_mape: 29.4404 - val_mae: 0.1216\n",
      "Epoch 85/100\n",
      "1105/1105 [==============================] - 15s 14ms/step - loss: 0.0013 - mape: 1772.3306 - mae: 0.0248 - val_loss: 0.0208 - val_mape: 29.3502 - val_mae: 0.1196\n",
      "Epoch 86/100\n",
      "1105/1105 [==============================] - 15s 14ms/step - loss: 0.0014 - mape: 2714.1663 - mae: 0.0256 - val_loss: 0.0179 - val_mape: 27.6478 - val_mae: 0.1106\n",
      "Epoch 87/100\n",
      "1105/1105 [==============================] - 15s 14ms/step - loss: 0.0012 - mape: 1931.7811 - mae: 0.0242 - val_loss: 0.0205 - val_mape: 29.8028 - val_mae: 0.1199\n",
      "Epoch 88/100\n",
      "1105/1105 [==============================] - 15s 14ms/step - loss: 0.0013 - mape: 1862.1935 - mae: 0.0246 - val_loss: 0.0190 - val_mape: 27.7316 - val_mae: 0.1142\n",
      "Epoch 89/100\n",
      "1105/1105 [==============================] - 15s 14ms/step - loss: 0.0015 - mape: 2523.4856 - mae: 0.0262 - val_loss: 0.0186 - val_mape: 27.7368 - val_mae: 0.1102\n",
      "Epoch 90/100\n",
      "1105/1105 [==============================] - 15s 14ms/step - loss: 0.0012 - mape: 2194.9661 - mae: 0.0243 - val_loss: 0.0246 - val_mape: 30.8140 - val_mae: 0.1292\n",
      "Epoch 91/100\n",
      "1105/1105 [==============================] - 15s 14ms/step - loss: 0.0013 - mape: 2007.8628 - mae: 0.0250 - val_loss: 0.0202 - val_mape: 28.7857 - val_mae: 0.1156\n",
      "Epoch 92/100\n",
      "1105/1105 [==============================] - 15s 14ms/step - loss: 0.0013 - mape: 2647.6433 - mae: 0.0247 - val_loss: 0.0198 - val_mape: 29.7707 - val_mae: 0.1160\n",
      "Epoch 93/100\n"
     ]
    },
    {
     "name": "stdout",
     "output_type": "stream",
     "text": [
      "1105/1105 [==============================] - 15s 14ms/step - loss: 0.0012 - mape: 1761.5178 - mae: 0.0241 - val_loss: 0.0191 - val_mape: 28.9736 - val_mae: 0.1138\n",
      "Epoch 94/100\n",
      "1105/1105 [==============================] - 15s 14ms/step - loss: 0.0013 - mape: 1781.1113 - mae: 0.0248 - val_loss: 0.0208 - val_mape: 28.9091 - val_mae: 0.1186\n",
      "Epoch 95/100\n",
      "1105/1105 [==============================] - 15s 14ms/step - loss: 0.0012 - mape: 2276.8396 - mae: 0.0240 - val_loss: 0.0186 - val_mape: 28.9742 - val_mae: 0.1136\n",
      "Epoch 96/100\n",
      "1105/1105 [==============================] - 15s 14ms/step - loss: 0.0011 - mape: 1581.3015 - mae: 0.0233 - val_loss: 0.0244 - val_mape: 32.8416 - val_mae: 0.1308\n",
      "Epoch 97/100\n",
      "1105/1105 [==============================] - 15s 14ms/step - loss: 0.0012 - mape: 1931.6461 - mae: 0.0244 - val_loss: 0.0230 - val_mape: 30.9862 - val_mae: 0.1268\n",
      "Epoch 98/100\n",
      "1105/1105 [==============================] - 15s 14ms/step - loss: 0.0012 - mape: 1616.9801 - mae: 0.0238 - val_loss: 0.0211 - val_mape: 30.1272 - val_mae: 0.1204\n",
      "Epoch 99/100\n",
      "1105/1105 [==============================] - 15s 14ms/step - loss: 0.0013 - mape: 1719.3763 - mae: 0.0245 - val_loss: 0.0220 - val_mape: 31.7741 - val_mae: 0.1248\n",
      "Epoch 100/100\n",
      "1105/1105 [==============================] - 15s 14ms/step - loss: 0.0012 - mape: 1657.0068 - mae: 0.0240 - val_loss: 0.0215 - val_mape: 30.5761 - val_mae: 0.1220\n"
     ]
    },
    {
     "data": {
      "text/plain": [
       "<keras.callbacks.History at 0x20542094fd0>"
      ]
     },
     "execution_count": 22,
     "metadata": {},
     "output_type": "execute_result"
    }
   ],
   "source": [
    "model.fit(X_train, Y_train, epochs= epochs, batch_size= batchSize, verbose= 1, shuffle= True, validation_data= (X_valid, Y_valid))"
   ]
  },
  {
   "cell_type": "code",
   "execution_count": 23,
   "id": "cd839153",
   "metadata": {},
   "outputs": [
    {
     "name": "stdout",
     "output_type": "stream",
     "text": [
      "Total execution time in seconds: 1874.0072515010834\n"
     ]
    }
   ],
   "source": [
    "calcExecTime = (time.time() - startTime)\n",
    "print('Total execution time in seconds: ' + str(calcExecTime))"
   ]
  },
  {
   "cell_type": "markdown",
   "id": "72aafa74",
   "metadata": {},
   "source": [
    "### MAKING PREDICTIONS AND GENERATING RESULTS"
   ]
  },
  {
   "cell_type": "code",
   "execution_count": 24,
   "id": "259bfb49",
   "metadata": {},
   "outputs": [
    {
     "name": "stdout",
     "output_type": "stream",
     "text": [
      "6/6 [==============================] - 1s 8ms/step\n"
     ]
    }
   ],
   "source": [
    "predictions = model.predict(X_test)"
   ]
  },
  {
   "cell_type": "code",
   "execution_count": 25,
   "id": "2912d431",
   "metadata": {},
   "outputs": [
    {
     "data": {
      "text/plain": [
       "array([0.37715173, 0.36079386, 0.35815617, ..., 0.32125708, 0.26933724,\n",
       "       0.23131393], dtype=float32)"
      ]
     },
     "execution_count": 25,
     "metadata": {},
     "output_type": "execute_result"
    }
   ],
   "source": [
    "predArr = predictions.reshape(predictions.shape[0] * predictions.shape[1], predictions.shape[2]).ravel()\n",
    "predArr"
   ]
  },
  {
   "cell_type": "code",
   "execution_count": 26,
   "id": "b01889f2",
   "metadata": {},
   "outputs": [
    {
     "data": {
      "text/plain": [
       "array([0.50102113, 0.48692506, 0.4848162 , ..., 0.33801723, 0.30558515,\n",
       "       0.27526194])"
      ]
     },
     "execution_count": 26,
     "metadata": {},
     "output_type": "execute_result"
    }
   ],
   "source": [
    "Y_testArr = Y_test.reshape(Y_test.shape[0] * Y_test.shape[1], Y_test.shape[2]).ravel()\n",
    "Y_testArr"
   ]
  },
  {
   "cell_type": "code",
   "execution_count": 27,
   "id": "799c97e8",
   "metadata": {},
   "outputs": [],
   "source": [
    "def inverse_transform(df):\n",
    "    column_names = df.columns\n",
    "    for col in column_names:\n",
    "        df[col] = ValScaler.inverse_transform(df[[col]]) \n",
    "    return df"
   ]
  },
  {
   "cell_type": "code",
   "execution_count": 28,
   "id": "afa81e30",
   "metadata": {},
   "outputs": [
    {
     "data": {
      "text/html": [
       "<div>\n",
       "<style scoped>\n",
       "    .dataframe tbody tr th:only-of-type {\n",
       "        vertical-align: middle;\n",
       "    }\n",
       "\n",
       "    .dataframe tbody tr th {\n",
       "        vertical-align: top;\n",
       "    }\n",
       "\n",
       "    .dataframe thead th {\n",
       "        text-align: right;\n",
       "    }\n",
       "</style>\n",
       "<table border=\"1\" class=\"dataframe\">\n",
       "  <thead>\n",
       "    <tr style=\"text-align: right;\">\n",
       "      <th></th>\n",
       "      <th>Values</th>\n",
       "      <th>Predictions</th>\n",
       "    </tr>\n",
       "  </thead>\n",
       "  <tbody>\n",
       "    <tr>\n",
       "      <th>0</th>\n",
       "      <td>32679.0</td>\n",
       "      <td>27098.929688</td>\n",
       "    </tr>\n",
       "    <tr>\n",
       "      <th>1</th>\n",
       "      <td>32044.0</td>\n",
       "      <td>26362.041016</td>\n",
       "    </tr>\n",
       "    <tr>\n",
       "      <th>2</th>\n",
       "      <td>31949.0</td>\n",
       "      <td>26243.218750</td>\n",
       "    </tr>\n",
       "    <tr>\n",
       "      <th>3</th>\n",
       "      <td>32372.0</td>\n",
       "      <td>27060.087891</td>\n",
       "    </tr>\n",
       "    <tr>\n",
       "      <th>4</th>\n",
       "      <td>35416.0</td>\n",
       "      <td>29917.763672</td>\n",
       "    </tr>\n",
       "    <tr>\n",
       "      <th>...</th>\n",
       "      <td>...</td>\n",
       "      <td>...</td>\n",
       "    </tr>\n",
       "    <tr>\n",
       "      <th>4363</th>\n",
       "      <td>29746.0</td>\n",
       "      <td>29176.341797</td>\n",
       "    </tr>\n",
       "    <tr>\n",
       "      <th>4364</th>\n",
       "      <td>27140.0</td>\n",
       "      <td>27543.572266</td>\n",
       "    </tr>\n",
       "    <tr>\n",
       "      <th>4365</th>\n",
       "      <td>25336.0</td>\n",
       "      <td>24580.988281</td>\n",
       "    </tr>\n",
       "    <tr>\n",
       "      <th>4366</th>\n",
       "      <td>23875.0</td>\n",
       "      <td>22242.103516</td>\n",
       "    </tr>\n",
       "    <tr>\n",
       "      <th>4367</th>\n",
       "      <td>22509.0</td>\n",
       "      <td>20529.228516</td>\n",
       "    </tr>\n",
       "  </tbody>\n",
       "</table>\n",
       "<p>4368 rows × 2 columns</p>\n",
       "</div>"
      ],
      "text/plain": [
       "       Values   Predictions\n",
       "0     32679.0  27098.929688\n",
       "1     32044.0  26362.041016\n",
       "2     31949.0  26243.218750\n",
       "3     32372.0  27060.087891\n",
       "4     35416.0  29917.763672\n",
       "...       ...           ...\n",
       "4363  29746.0  29176.341797\n",
       "4364  27140.0  27543.572266\n",
       "4365  25336.0  24580.988281\n",
       "4366  23875.0  22242.103516\n",
       "4367  22509.0  20529.228516\n",
       "\n",
       "[4368 rows x 2 columns]"
      ]
     },
     "execution_count": 28,
     "metadata": {},
     "output_type": "execute_result"
    }
   ],
   "source": [
    "comparisionDf = pd.DataFrame(data= {\"Values\": Y_testArr, \"Predictions\": predArr})\n",
    "comparisionDf = inverse_transform(comparisionDf)\n",
    "comparisionDf"
   ]
  },
  {
   "cell_type": "code",
   "execution_count": 29,
   "id": "88222bae",
   "metadata": {},
   "outputs": [
    {
     "data": {
      "text/plain": [
       "10.438488043052574"
      ]
     },
     "execution_count": 29,
     "metadata": {},
     "output_type": "execute_result"
    }
   ],
   "source": [
    "mape(comparisionDf[\"Values\"], comparisionDf[\"Predictions\"])"
   ]
  }
 ],
 "metadata": {
  "kernelspec": {
   "display_name": "Python 3 (ipykernel)",
   "language": "python",
   "name": "python3"
  },
  "language_info": {
   "codemirror_mode": {
    "name": "ipython",
    "version": 3
   },
   "file_extension": ".py",
   "mimetype": "text/x-python",
   "name": "python",
   "nbconvert_exporter": "python",
   "pygments_lexer": "ipython3",
   "version": "3.9.12"
  }
 },
 "nbformat": 4,
 "nbformat_minor": 5
}
