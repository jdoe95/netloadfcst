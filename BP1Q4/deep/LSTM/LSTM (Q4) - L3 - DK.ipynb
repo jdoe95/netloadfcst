{
 "cells": [
  {
   "cell_type": "code",
   "execution_count": 1,
   "id": "5f61b29f",
   "metadata": {},
   "outputs": [
    {
     "name": "stdout",
     "output_type": "stream",
     "text": [
      "Num GPUs Available:  1\n"
     ]
    }
   ],
   "source": [
    "import pandas as pd\n",
    "import numpy as np\n",
    "import os\n",
    "import matplotlib.pyplot as plt\n",
    "from datetime import datetime\n",
    "from sklearn.preprocessing import MinMaxScaler, RobustScaler, StandardScaler\n",
    "import time\n",
    "\n",
    "import tensorflow as tf\n",
    "tf.random.set_seed(42)\n",
    "\n",
    "def mape(y_true, y_pred):\n",
    "    y_true, y_pred = np.array(y_true), np.array(y_pred)\n",
    "    return np.mean(np.abs((y_true - y_pred) / max(y_true))) * 100\n",
    "\n",
    "def RMSELoss(yhat,y):\n",
    "    return torch.sqrt(torch.mean((yhat-y)**2))\n",
    "\n",
    "print(\"Num GPUs Available: \", len(tf.config.list_physical_devices('GPU')))"
   ]
  },
  {
   "cell_type": "code",
   "execution_count": 2,
   "id": "cea0abe2",
   "metadata": {},
   "outputs": [
    {
     "name": "stdout",
     "output_type": "stream",
     "text": [
      "['AT.csv', 'BE.csv', 'BG.csv', 'CH.csv', 'CZ.csv', 'DK.csv', 'ES.csv', 'FR.csv', 'GR.csv', 'IT.csv', 'NL.csv', 'PT.csv', 'SI.csv', 'SK.csv']\n"
     ]
    }
   ],
   "source": [
    "# Specifying the path of file\n",
    "path= r\"C:\\Users\\sashah8\\OneDrive - North Carolina State University\\Desktop\\Q4\\Data\\L3\\data_cleaned\"\n",
    "\n",
    "# Listing just the required files\n",
    "fileList = os.listdir(path)\n",
    "fileList.remove(\"Date.csv\")\n",
    "\n",
    "# Previewing the required file names\n",
    "print(fileList)"
   ]
  },
  {
   "cell_type": "code",
   "execution_count": 3,
   "id": "a6fe9396",
   "metadata": {},
   "outputs": [
    {
     "data": {
      "text/html": [
       "<div>\n",
       "<style scoped>\n",
       "    .dataframe tbody tr th:only-of-type {\n",
       "        vertical-align: middle;\n",
       "    }\n",
       "\n",
       "    .dataframe tbody tr th {\n",
       "        vertical-align: top;\n",
       "    }\n",
       "\n",
       "    .dataframe thead th {\n",
       "        text-align: right;\n",
       "    }\n",
       "</style>\n",
       "<table border=\"1\" class=\"dataframe\">\n",
       "  <thead>\n",
       "    <tr style=\"text-align: right;\">\n",
       "      <th></th>\n",
       "      <th>Demand</th>\n",
       "      <th>Normalized_net</th>\n",
       "      <th>Temperature</th>\n",
       "      <th>DNI</th>\n",
       "      <th>DHI</th>\n",
       "    </tr>\n",
       "  </thead>\n",
       "  <tbody>\n",
       "    <tr>\n",
       "      <th>0</th>\n",
       "      <td>0.00</td>\n",
       "      <td>0.000000</td>\n",
       "      <td>3.983</td>\n",
       "      <td>0.0</td>\n",
       "      <td>0.0</td>\n",
       "    </tr>\n",
       "    <tr>\n",
       "      <th>1</th>\n",
       "      <td>3100.02</td>\n",
       "      <td>0.360299</td>\n",
       "      <td>4.273</td>\n",
       "      <td>0.0</td>\n",
       "      <td>0.0</td>\n",
       "    </tr>\n",
       "    <tr>\n",
       "      <th>2</th>\n",
       "      <td>2980.39</td>\n",
       "      <td>0.346395</td>\n",
       "      <td>4.563</td>\n",
       "      <td>0.0</td>\n",
       "      <td>0.0</td>\n",
       "    </tr>\n",
       "    <tr>\n",
       "      <th>3</th>\n",
       "      <td>2933.49</td>\n",
       "      <td>0.340944</td>\n",
       "      <td>4.674</td>\n",
       "      <td>0.0</td>\n",
       "      <td>0.0</td>\n",
       "    </tr>\n",
       "    <tr>\n",
       "      <th>4</th>\n",
       "      <td>2941.53</td>\n",
       "      <td>0.341878</td>\n",
       "      <td>4.635</td>\n",
       "      <td>0.0</td>\n",
       "      <td>0.0</td>\n",
       "    </tr>\n",
       "    <tr>\n",
       "      <th>...</th>\n",
       "      <td>...</td>\n",
       "      <td>...</td>\n",
       "      <td>...</td>\n",
       "      <td>...</td>\n",
       "      <td>...</td>\n",
       "    </tr>\n",
       "    <tr>\n",
       "      <th>43819</th>\n",
       "      <td>3785.27</td>\n",
       "      <td>0.439942</td>\n",
       "      <td>1.961</td>\n",
       "      <td>0.0</td>\n",
       "      <td>0.0</td>\n",
       "    </tr>\n",
       "    <tr>\n",
       "      <th>43820</th>\n",
       "      <td>3582.21</td>\n",
       "      <td>0.416341</td>\n",
       "      <td>1.874</td>\n",
       "      <td>0.0</td>\n",
       "      <td>0.0</td>\n",
       "    </tr>\n",
       "    <tr>\n",
       "      <th>43821</th>\n",
       "      <td>3438.26</td>\n",
       "      <td>0.399610</td>\n",
       "      <td>1.957</td>\n",
       "      <td>0.0</td>\n",
       "      <td>0.0</td>\n",
       "    </tr>\n",
       "    <tr>\n",
       "      <th>43822</th>\n",
       "      <td>3309.25</td>\n",
       "      <td>0.384616</td>\n",
       "      <td>2.213</td>\n",
       "      <td>0.0</td>\n",
       "      <td>0.0</td>\n",
       "    </tr>\n",
       "    <tr>\n",
       "      <th>43823</th>\n",
       "      <td>3315.91</td>\n",
       "      <td>0.385390</td>\n",
       "      <td>2.469</td>\n",
       "      <td>0.0</td>\n",
       "      <td>0.0</td>\n",
       "    </tr>\n",
       "  </tbody>\n",
       "</table>\n",
       "<p>43824 rows × 5 columns</p>\n",
       "</div>"
      ],
      "text/plain": [
       "        Demand  Normalized_net  Temperature  DNI  DHI\n",
       "0         0.00        0.000000        3.983  0.0  0.0\n",
       "1      3100.02        0.360299        4.273  0.0  0.0\n",
       "2      2980.39        0.346395        4.563  0.0  0.0\n",
       "3      2933.49        0.340944        4.674  0.0  0.0\n",
       "4      2941.53        0.341878        4.635  0.0  0.0\n",
       "...        ...             ...          ...  ...  ...\n",
       "43819  3785.27        0.439942        1.961  0.0  0.0\n",
       "43820  3582.21        0.416341        1.874  0.0  0.0\n",
       "43821  3438.26        0.399610        1.957  0.0  0.0\n",
       "43822  3309.25        0.384616        2.213  0.0  0.0\n",
       "43823  3315.91        0.385390        2.469  0.0  0.0\n",
       "\n",
       "[43824 rows x 5 columns]"
      ]
     },
     "execution_count": 3,
     "metadata": {},
     "output_type": "execute_result"
    }
   ],
   "source": [
    "# Just for previewing the columns\n",
    "pd.read_csv(os.path.join(path, fileList[5]))"
   ]
  },
  {
   "cell_type": "markdown",
   "id": "9ad4906c",
   "metadata": {
    "pycharm": {
     "name": "#%% md\n"
    }
   },
   "source": [
    "### PROCESSING THE DATA"
   ]
  },
  {
   "cell_type": "code",
   "execution_count": 4,
   "id": "f29f6db2",
   "metadata": {},
   "outputs": [
    {
     "data": {
      "text/html": [
       "<div>\n",
       "<style scoped>\n",
       "    .dataframe tbody tr th:only-of-type {\n",
       "        vertical-align: middle;\n",
       "    }\n",
       "\n",
       "    .dataframe tbody tr th {\n",
       "        vertical-align: top;\n",
       "    }\n",
       "\n",
       "    .dataframe thead th {\n",
       "        text-align: right;\n",
       "    }\n",
       "</style>\n",
       "<table border=\"1\" class=\"dataframe\">\n",
       "  <thead>\n",
       "    <tr style=\"text-align: right;\">\n",
       "      <th></th>\n",
       "      <th>Load_DK</th>\n",
       "      <th>Temp_DK</th>\n",
       "    </tr>\n",
       "  </thead>\n",
       "  <tbody>\n",
       "    <tr>\n",
       "      <th>0</th>\n",
       "      <td>0.00</td>\n",
       "      <td>3.983</td>\n",
       "    </tr>\n",
       "    <tr>\n",
       "      <th>1</th>\n",
       "      <td>3100.02</td>\n",
       "      <td>4.273</td>\n",
       "    </tr>\n",
       "    <tr>\n",
       "      <th>2</th>\n",
       "      <td>2980.39</td>\n",
       "      <td>4.563</td>\n",
       "    </tr>\n",
       "    <tr>\n",
       "      <th>3</th>\n",
       "      <td>2933.49</td>\n",
       "      <td>4.674</td>\n",
       "    </tr>\n",
       "    <tr>\n",
       "      <th>4</th>\n",
       "      <td>2941.53</td>\n",
       "      <td>4.635</td>\n",
       "    </tr>\n",
       "    <tr>\n",
       "      <th>...</th>\n",
       "      <td>...</td>\n",
       "      <td>...</td>\n",
       "    </tr>\n",
       "    <tr>\n",
       "      <th>43819</th>\n",
       "      <td>3785.27</td>\n",
       "      <td>1.961</td>\n",
       "    </tr>\n",
       "    <tr>\n",
       "      <th>43820</th>\n",
       "      <td>3582.21</td>\n",
       "      <td>1.874</td>\n",
       "    </tr>\n",
       "    <tr>\n",
       "      <th>43821</th>\n",
       "      <td>3438.26</td>\n",
       "      <td>1.957</td>\n",
       "    </tr>\n",
       "    <tr>\n",
       "      <th>43822</th>\n",
       "      <td>3309.25</td>\n",
       "      <td>2.213</td>\n",
       "    </tr>\n",
       "    <tr>\n",
       "      <th>43823</th>\n",
       "      <td>3315.91</td>\n",
       "      <td>2.469</td>\n",
       "    </tr>\n",
       "  </tbody>\n",
       "</table>\n",
       "<p>43824 rows × 2 columns</p>\n",
       "</div>"
      ],
      "text/plain": [
       "       Load_DK  Temp_DK\n",
       "0         0.00    3.983\n",
       "1      3100.02    4.273\n",
       "2      2980.39    4.563\n",
       "3      2933.49    4.674\n",
       "4      2941.53    4.635\n",
       "...        ...      ...\n",
       "43819  3785.27    1.961\n",
       "43820  3582.21    1.874\n",
       "43821  3438.26    1.957\n",
       "43822  3309.25    2.213\n",
       "43823  3315.91    2.469\n",
       "\n",
       "[43824 rows x 2 columns]"
      ]
     },
     "execution_count": 4,
     "metadata": {},
     "output_type": "execute_result"
    }
   ],
   "source": [
    "# Restricting the load data to a single zone\n",
    "fileName  = fileList[5]\n",
    "\n",
    "zoneData = pd.read_csv(os.path.join(path, fileName), usecols= [\"Demand\", \"Temperature\"])\n",
    "zoneData.columns = [\"Load_\"+str(fileName[:-4]), \"Temp_\"+str(fileName[:-4])]\n",
    "\n",
    "# For fixing one missing row\n",
    "# zoneData = pd.concat([zoneData.loc[[0]], zoneData], axis= 0).reset_index(drop= True)\n",
    "\n",
    "zoneData"
   ]
  },
  {
   "cell_type": "markdown",
   "id": "01cec4bd",
   "metadata": {},
   "source": [
    "### FEATURE ENGINEERING AND SPLITTING INTO TRAIN-TEST SPLIT"
   ]
  },
  {
   "cell_type": "code",
   "execution_count": 5,
   "id": "a1e1e8a3",
   "metadata": {},
   "outputs": [],
   "source": [
    "def lagGenerator(dF, lagList):\n",
    "    dF_temp = dF.filter(regex= \"Load\").copy()\n",
    "    \n",
    "    for i in lagList:\n",
    "        dF_temp.loc[:, \"Lag-\" + str(i)] = dF_temp.iloc[:,[0]].shift(i*24)\n",
    "    \n",
    "    return(dF_temp.filter(regex= \"Lag\"))"
   ]
  },
  {
   "cell_type": "code",
   "execution_count": 6,
   "id": "159a2a82",
   "metadata": {},
   "outputs": [
    {
     "data": {
      "text/html": [
       "<div>\n",
       "<style scoped>\n",
       "    .dataframe tbody tr th:only-of-type {\n",
       "        vertical-align: middle;\n",
       "    }\n",
       "\n",
       "    .dataframe tbody tr th {\n",
       "        vertical-align: top;\n",
       "    }\n",
       "\n",
       "    .dataframe thead th {\n",
       "        text-align: right;\n",
       "    }\n",
       "</style>\n",
       "<table border=\"1\" class=\"dataframe\">\n",
       "  <thead>\n",
       "    <tr style=\"text-align: right;\">\n",
       "      <th></th>\n",
       "      <th>Lag-2</th>\n",
       "      <th>Lag-7</th>\n",
       "    </tr>\n",
       "  </thead>\n",
       "  <tbody>\n",
       "    <tr>\n",
       "      <th>0</th>\n",
       "      <td>NaN</td>\n",
       "      <td>NaN</td>\n",
       "    </tr>\n",
       "    <tr>\n",
       "      <th>1</th>\n",
       "      <td>NaN</td>\n",
       "      <td>NaN</td>\n",
       "    </tr>\n",
       "  </tbody>\n",
       "</table>\n",
       "</div>"
      ],
      "text/plain": [
       "   Lag-2  Lag-7\n",
       "0    NaN    NaN\n",
       "1    NaN    NaN"
      ]
     },
     "execution_count": 6,
     "metadata": {},
     "output_type": "execute_result"
    }
   ],
   "source": [
    "Load_lags = lagGenerator(dF=zoneData, lagList=[2,7])\n",
    "Load_lags.head(2)"
   ]
  },
  {
   "cell_type": "code",
   "execution_count": 7,
   "id": "05896954",
   "metadata": {},
   "outputs": [
    {
     "data": {
      "text/html": [
       "<div>\n",
       "<style scoped>\n",
       "    .dataframe tbody tr th:only-of-type {\n",
       "        vertical-align: middle;\n",
       "    }\n",
       "\n",
       "    .dataframe tbody tr th {\n",
       "        vertical-align: top;\n",
       "    }\n",
       "\n",
       "    .dataframe thead th {\n",
       "        text-align: right;\n",
       "    }\n",
       "</style>\n",
       "<table border=\"1\" class=\"dataframe\">\n",
       "  <thead>\n",
       "    <tr style=\"text-align: right;\">\n",
       "      <th></th>\n",
       "      <th>Load_DK</th>\n",
       "      <th>Temp_DK</th>\n",
       "      <th>Lag-2</th>\n",
       "      <th>Lag-7</th>\n",
       "    </tr>\n",
       "  </thead>\n",
       "  <tbody>\n",
       "    <tr>\n",
       "      <th>0</th>\n",
       "      <td>3300.30</td>\n",
       "      <td>4.104</td>\n",
       "      <td>3137.68</td>\n",
       "      <td>0.00</td>\n",
       "    </tr>\n",
       "    <tr>\n",
       "      <th>1</th>\n",
       "      <td>3277.88</td>\n",
       "      <td>3.889</td>\n",
       "      <td>3102.22</td>\n",
       "      <td>3100.02</td>\n",
       "    </tr>\n",
       "    <tr>\n",
       "      <th>2</th>\n",
       "      <td>3300.41</td>\n",
       "      <td>3.640</td>\n",
       "      <td>3088.44</td>\n",
       "      <td>2980.39</td>\n",
       "    </tr>\n",
       "    <tr>\n",
       "      <th>3</th>\n",
       "      <td>3375.16</td>\n",
       "      <td>3.446</td>\n",
       "      <td>3168.02</td>\n",
       "      <td>2933.49</td>\n",
       "    </tr>\n",
       "    <tr>\n",
       "      <th>4</th>\n",
       "      <td>3634.32</td>\n",
       "      <td>3.534</td>\n",
       "      <td>3426.03</td>\n",
       "      <td>2941.53</td>\n",
       "    </tr>\n",
       "    <tr>\n",
       "      <th>...</th>\n",
       "      <td>...</td>\n",
       "      <td>...</td>\n",
       "      <td>...</td>\n",
       "      <td>...</td>\n",
       "    </tr>\n",
       "    <tr>\n",
       "      <th>43651</th>\n",
       "      <td>3785.27</td>\n",
       "      <td>1.961</td>\n",
       "      <td>4158.58</td>\n",
       "      <td>3510.73</td>\n",
       "    </tr>\n",
       "    <tr>\n",
       "      <th>43652</th>\n",
       "      <td>3582.21</td>\n",
       "      <td>1.874</td>\n",
       "      <td>4001.25</td>\n",
       "      <td>3358.03</td>\n",
       "    </tr>\n",
       "    <tr>\n",
       "      <th>43653</th>\n",
       "      <td>3438.26</td>\n",
       "      <td>1.957</td>\n",
       "      <td>3786.00</td>\n",
       "      <td>3243.88</td>\n",
       "    </tr>\n",
       "    <tr>\n",
       "      <th>43654</th>\n",
       "      <td>3309.25</td>\n",
       "      <td>2.213</td>\n",
       "      <td>3558.11</td>\n",
       "      <td>3194.35</td>\n",
       "    </tr>\n",
       "    <tr>\n",
       "      <th>43655</th>\n",
       "      <td>3315.91</td>\n",
       "      <td>2.469</td>\n",
       "      <td>3426.94</td>\n",
       "      <td>3117.52</td>\n",
       "    </tr>\n",
       "  </tbody>\n",
       "</table>\n",
       "<p>43656 rows × 4 columns</p>\n",
       "</div>"
      ],
      "text/plain": [
       "       Load_DK  Temp_DK    Lag-2    Lag-7\n",
       "0      3300.30    4.104  3137.68     0.00\n",
       "1      3277.88    3.889  3102.22  3100.02\n",
       "2      3300.41    3.640  3088.44  2980.39\n",
       "3      3375.16    3.446  3168.02  2933.49\n",
       "4      3634.32    3.534  3426.03  2941.53\n",
       "...        ...      ...      ...      ...\n",
       "43651  3785.27    1.961  4158.58  3510.73\n",
       "43652  3582.21    1.874  4001.25  3358.03\n",
       "43653  3438.26    1.957  3786.00  3243.88\n",
       "43654  3309.25    2.213  3558.11  3194.35\n",
       "43655  3315.91    2.469  3426.94  3117.52\n",
       "\n",
       "[43656 rows x 4 columns]"
      ]
     },
     "execution_count": 7,
     "metadata": {},
     "output_type": "execute_result"
    }
   ],
   "source": [
    "dataDf = pd.concat([zoneData, Load_lags], axis= 1).dropna(axis= 0).reset_index(drop= True)\n",
    "dataDf"
   ]
  },
  {
   "cell_type": "code",
   "execution_count": 8,
   "id": "6ad25321",
   "metadata": {},
   "outputs": [],
   "source": [
    "# Setting the train-test split ratio\n",
    "ratio = 0.1"
   ]
  },
  {
   "cell_type": "code",
   "execution_count": 9,
   "id": "3c08d963",
   "metadata": {},
   "outputs": [],
   "source": [
    "Num_train, Num_test = int(len(dataDf)/24 * (1 - ratio)) * 24, int(len(dataDf)/24 * ratio) * 24"
   ]
  },
  {
   "cell_type": "code",
   "execution_count": 10,
   "id": "cbe069ff",
   "metadata": {},
   "outputs": [],
   "source": [
    "# Splitting the data into train and test\n",
    "data_train, data_test = dataDf[:Num_train], dataDf[Num_train:]"
   ]
  },
  {
   "cell_type": "code",
   "execution_count": 11,
   "id": "d84e15c4",
   "metadata": {},
   "outputs": [],
   "source": [
    "Num_train, Num_valid = int(len(data_train)/24 * (1 - ratio)) * 24, int(len(data_train)/24 * ratio) * 24"
   ]
  },
  {
   "cell_type": "code",
   "execution_count": 12,
   "id": "c17d1723",
   "metadata": {},
   "outputs": [],
   "source": [
    "# Splitting the data into train and test\n",
    "data_train, data_valid = data_train[:Num_train], data_train[Num_train:]"
   ]
  },
  {
   "cell_type": "markdown",
   "id": "88d32011",
   "metadata": {},
   "source": [
    "### SPLITTING INTO X AND Y PART WITH SEQUENCE BATCHING"
   ]
  },
  {
   "cell_type": "code",
   "execution_count": 13,
   "id": "4ba286ca",
   "metadata": {},
   "outputs": [],
   "source": [
    "X_train_df, Y_train_df = data_train.iloc[:, 1:], data_train.iloc[:, :1]\n",
    "\n",
    "X_valid_df, Y_valid_df = data_valid.iloc[:, 1:], data_valid.iloc[:, :1]\n",
    "\n",
    "X_test_df, Y_test_df = data_test.iloc[:, 1:], data_test.iloc[:, :1]"
   ]
  },
  {
   "cell_type": "code",
   "execution_count": 14,
   "id": "ef1d9079",
   "metadata": {},
   "outputs": [],
   "source": [
    "# Preparing the scaler\n",
    "ValScaler = MinMaxScaler()\n",
    "\n",
    "X_train = ValScaler.fit_transform(X_train_df)\n",
    "X_valid = ValScaler.transform(X_valid_df)\n",
    "X_test = ValScaler.transform(X_test_df)\n",
    "\n",
    "Y_train = ValScaler.fit_transform(Y_train_df)\n",
    "Y_valid = ValScaler.transform(Y_valid_df)\n",
    "Y_test = ValScaler.transform(Y_test_df)"
   ]
  },
  {
   "cell_type": "code",
   "execution_count": 15,
   "id": "43594401",
   "metadata": {},
   "outputs": [],
   "source": [
    "def splitData(dataset):\n",
    "    data = np.array(np.split(dataset, len(dataset)/24))\n",
    "    return data"
   ]
  },
  {
   "cell_type": "code",
   "execution_count": 16,
   "id": "300696b2",
   "metadata": {},
   "outputs": [],
   "source": [
    "def supervisedSet(X_part, Y_part, steps= 24):\n",
    "    X_array, Y_array = np.array(X_part), np.array(Y_part)\n",
    "    X, Y = [], []\n",
    "    \n",
    "    for i in range(len(X_array)):\n",
    "        endIdx = i + steps\n",
    "        \n",
    "        if endIdx > len(X_array):\n",
    "            break\n",
    "        \n",
    "        batch_X, batch_Y = X_array[i:endIdx], Y_array[i:endIdx]\n",
    "        \n",
    "        X.append(batch_X)\n",
    "        Y.append(batch_Y)\n",
    "        \n",
    "    return np.array(X), np.array(Y)"
   ]
  },
  {
   "cell_type": "code",
   "execution_count": 17,
   "id": "fc9cd97d",
   "metadata": {},
   "outputs": [],
   "source": [
    "X_train, Y_train = supervisedSet(X_train, Y_train)\n",
    "\n",
    "X_valid, Y_valid = splitData(X_valid), splitData(Y_valid)\n",
    "\n",
    "X_test, Y_test = splitData(X_test), splitData(Y_test)"
   ]
  },
  {
   "cell_type": "markdown",
   "id": "a2a6bf32",
   "metadata": {},
   "source": [
    "### WORKING ON THE MODEL"
   ]
  },
  {
   "cell_type": "code",
   "execution_count": 18,
   "id": "ff71a98c",
   "metadata": {},
   "outputs": [],
   "source": [
    "epochs = 100\n",
    "batchSize = 32"
   ]
  },
  {
   "cell_type": "code",
   "execution_count": 19,
   "id": "8d600c17",
   "metadata": {},
   "outputs": [],
   "source": [
    "# Encoder-decoder architecture [tanh required to use tensorflow on gpu]\n",
    "model = tf.keras.Sequential([\n",
    "    tf.keras.layers.LSTM(units= 128, activation= \"tanh\", input_shape= (X_train.shape[1], X_train.shape[2]), dropout= 0.2),\n",
    "    tf.keras.layers.RepeatVector(Y_train.shape[1]),\n",
    "    tf.keras.layers.LSTM(units= 128, activation= \"tanh\", return_sequences= True, dropout= 0.2),\n",
    "    tf.keras.layers.TimeDistributed(tf.keras.layers.Dense(units= 128, activation= \"relu\")),\n",
    "    tf.keras.layers.Dropout(0.2),\n",
    "    tf.keras.layers.TimeDistributed(tf.keras.layers.Dense(units= 1))\n",
    "])\n",
    "\n",
    "model.compile(loss= \"mse\", optimizer= \"adam\",  metrics= ['mape', 'mae'])"
   ]
  },
  {
   "cell_type": "code",
   "execution_count": 20,
   "id": "a05c033a",
   "metadata": {},
   "outputs": [],
   "source": [
    "# model = tf.keras.Sequential([\n",
    "#     tf.keras.layers.LSTM(units= 256, activation= \"tanh\", input_shape= (X_train.shape[1], X_train.shape[2])),\n",
    "#     tf.keras.layers.Dense(units= 128, activation= \"tanh\"),\n",
    "#     tf.keras.layers.Dense(units= 1)\n",
    "# ])\n",
    "\n",
    "# model.compile(loss= \"mse\", optimizer= \"adam\",  metrics= ['mape', 'mae'])"
   ]
  },
  {
   "cell_type": "code",
   "execution_count": 21,
   "id": "c9390383",
   "metadata": {},
   "outputs": [],
   "source": [
    "# Storing the start time of model fitting process\n",
    "startTime = time.time()"
   ]
  },
  {
   "cell_type": "code",
   "execution_count": 22,
   "id": "e526e3ed",
   "metadata": {},
   "outputs": [
    {
     "name": "stdout",
     "output_type": "stream",
     "text": [
      "Epoch 1/100\n",
      "1105/1105 [==============================] - 23s 16ms/step - loss: 0.0067 - mape: 3950.6436 - mae: 0.0643 - val_loss: 0.0045 - val_mape: 20.9946 - val_mae: 0.0507\n",
      "Epoch 2/100\n",
      "1105/1105 [==============================] - 17s 16ms/step - loss: 0.0029 - mape: 2374.8716 - mae: 0.0406 - val_loss: 0.0032 - val_mape: 20.4883 - val_mae: 0.0453\n",
      "Epoch 3/100\n",
      "1105/1105 [==============================] - 18s 16ms/step - loss: 0.0024 - mape: 2416.5383 - mae: 0.0364 - val_loss: 0.0085 - val_mape: 32.2107 - val_mae: 0.0784\n",
      "Epoch 4/100\n",
      "1105/1105 [==============================] - 18s 16ms/step - loss: 0.0021 - mape: 2132.9392 - mae: 0.0340 - val_loss: 0.0069 - val_mape: 30.5897 - val_mae: 0.0723\n",
      "Epoch 5/100\n",
      "1105/1105 [==============================] - 18s 16ms/step - loss: 0.0020 - mape: 1867.2500 - mae: 0.0329 - val_loss: 0.0074 - val_mape: 32.3343 - val_mae: 0.0742\n",
      "Epoch 6/100\n",
      "1105/1105 [==============================] - 17s 16ms/step - loss: 0.0020 - mape: 1545.7258 - mae: 0.0321 - val_loss: 0.0061 - val_mape: 29.2900 - val_mae: 0.0675\n",
      "Epoch 7/100\n",
      "1105/1105 [==============================] - 17s 16ms/step - loss: 0.0019 - mape: 1550.3607 - mae: 0.0315 - val_loss: 0.0080 - val_mape: 30.4019 - val_mae: 0.0744\n",
      "Epoch 8/100\n",
      "1105/1105 [==============================] - 17s 16ms/step - loss: 0.0018 - mape: 1623.4440 - mae: 0.0310 - val_loss: 0.0055 - val_mape: 29.1677 - val_mae: 0.0643\n",
      "Epoch 9/100\n",
      "1105/1105 [==============================] - 18s 16ms/step - loss: 0.0018 - mape: 1659.6587 - mae: 0.0304 - val_loss: 0.0085 - val_mape: 35.9442 - val_mae: 0.0817\n",
      "Epoch 10/100\n",
      "1105/1105 [==============================] - 18s 16ms/step - loss: 0.0017 - mape: 1599.7791 - mae: 0.0300 - val_loss: 0.0066 - val_mape: 28.9473 - val_mae: 0.0692\n",
      "Epoch 11/100\n",
      "1105/1105 [==============================] - 18s 16ms/step - loss: 0.0017 - mape: 1569.0552 - mae: 0.0298 - val_loss: 0.0093 - val_mape: 35.9907 - val_mae: 0.0841\n",
      "Epoch 12/100\n",
      "1105/1105 [==============================] - 18s 16ms/step - loss: 0.0017 - mape: 1214.2135 - mae: 0.0294 - val_loss: 0.0073 - val_mape: 34.6347 - val_mae: 0.0762\n",
      "Epoch 13/100\n",
      "1105/1105 [==============================] - 18s 17ms/step - loss: 0.0016 - mape: 1346.6788 - mae: 0.0291 - val_loss: 0.0061 - val_mape: 31.0714 - val_mae: 0.0683\n",
      "Epoch 14/100\n",
      "1105/1105 [==============================] - 18s 16ms/step - loss: 0.0016 - mape: 1335.2657 - mae: 0.0287 - val_loss: 0.0082 - val_mape: 34.7815 - val_mae: 0.0800\n",
      "Epoch 15/100\n",
      "1105/1105 [==============================] - 18s 16ms/step - loss: 0.0016 - mape: 1206.1661 - mae: 0.0285 - val_loss: 0.0061 - val_mape: 29.3172 - val_mae: 0.0674\n",
      "Epoch 16/100\n",
      "1105/1105 [==============================] - 18s 16ms/step - loss: 0.0015 - mape: 1296.5653 - mae: 0.0281 - val_loss: 0.0082 - val_mape: 33.7084 - val_mae: 0.0789\n",
      "Epoch 17/100\n",
      "1105/1105 [==============================] - 19s 17ms/step - loss: 0.0015 - mape: 1427.4788 - mae: 0.0278 - val_loss: 0.0059 - val_mape: 27.4028 - val_mae: 0.0654\n",
      "Epoch 18/100\n",
      "1105/1105 [==============================] - 18s 17ms/step - loss: 0.0015 - mape: 1791.9368 - mae: 0.0277 - val_loss: 0.0062 - val_mape: 29.2170 - val_mae: 0.0676\n",
      "Epoch 19/100\n",
      "1105/1105 [==============================] - 19s 17ms/step - loss: 0.0014 - mape: 1436.5836 - mae: 0.0272 - val_loss: 0.0063 - val_mape: 30.6083 - val_mae: 0.0695\n",
      "Epoch 20/100\n",
      "1105/1105 [==============================] - 19s 17ms/step - loss: 0.0014 - mape: 1448.5193 - mae: 0.0270 - val_loss: 0.0061 - val_mape: 30.3986 - val_mae: 0.0686\n",
      "Epoch 21/100\n",
      "1105/1105 [==============================] - 19s 17ms/step - loss: 0.0014 - mape: 1218.8385 - mae: 0.0270 - val_loss: 0.0044 - val_mape: 26.7402 - val_mae: 0.0577\n",
      "Epoch 22/100\n",
      "1105/1105 [==============================] - 19s 17ms/step - loss: 0.0014 - mape: 1371.6428 - mae: 0.0266 - val_loss: 0.0045 - val_mape: 26.4275 - val_mae: 0.0583\n",
      "Epoch 23/100\n",
      "1105/1105 [==============================] - 19s 17ms/step - loss: 0.0014 - mape: 1619.0596 - mae: 0.0264 - val_loss: 0.0069 - val_mape: 29.7383 - val_mae: 0.0713\n",
      "Epoch 24/100\n",
      "1105/1105 [==============================] - 20s 18ms/step - loss: 0.0013 - mape: 1088.1823 - mae: 0.0260 - val_loss: 0.0049 - val_mape: 25.7088 - val_mae: 0.0596\n",
      "Epoch 25/100\n",
      "1105/1105 [==============================] - 19s 18ms/step - loss: 0.0013 - mape: 1372.7396 - mae: 0.0259 - val_loss: 0.0068 - val_mape: 28.6601 - val_mae: 0.0685\n",
      "Epoch 26/100\n",
      "1105/1105 [==============================] - 20s 18ms/step - loss: 0.0013 - mape: 1334.9779 - mae: 0.0259 - val_loss: 0.0046 - val_mape: 25.5128 - val_mae: 0.0577\n",
      "Epoch 27/100\n",
      "1105/1105 [==============================] - 20s 18ms/step - loss: 0.0013 - mape: 1264.6718 - mae: 0.0256 - val_loss: 0.0073 - val_mape: 30.6494 - val_mae: 0.0729\n",
      "Epoch 28/100\n",
      "1105/1105 [==============================] - 20s 18ms/step - loss: 0.0013 - mape: 1365.4044 - mae: 0.0255 - val_loss: 0.0053 - val_mape: 27.7842 - val_mae: 0.0624\n",
      "Epoch 29/100\n",
      "1105/1105 [==============================] - 21s 19ms/step - loss: 0.0013 - mape: 1416.5430 - mae: 0.0253 - val_loss: 0.0057 - val_mape: 28.5056 - val_mae: 0.0652\n",
      "Epoch 30/100\n",
      "1105/1105 [==============================] - 20s 18ms/step - loss: 0.0012 - mape: 1198.2035 - mae: 0.0250 - val_loss: 0.0041 - val_mape: 23.4878 - val_mae: 0.0531\n",
      "Epoch 31/100\n",
      "1105/1105 [==============================] - 20s 18ms/step - loss: 0.0012 - mape: 1390.2905 - mae: 0.0249 - val_loss: 0.0047 - val_mape: 24.7896 - val_mae: 0.0571\n",
      "Epoch 32/100\n",
      "1105/1105 [==============================] - 20s 18ms/step - loss: 0.0013 - mape: 1348.3022 - mae: 0.0253 - val_loss: 0.0061 - val_mape: 30.5900 - val_mae: 0.0680\n",
      "Epoch 33/100\n",
      "1105/1105 [==============================] - 20s 18ms/step - loss: 0.0012 - mape: 1160.9431 - mae: 0.0245 - val_loss: 0.0057 - val_mape: 27.4370 - val_mae: 0.0643\n",
      "Epoch 34/100\n",
      "1105/1105 [==============================] - 20s 18ms/step - loss: 0.0012 - mape: 1086.0327 - mae: 0.0245 - val_loss: 0.0039 - val_mape: 22.3411 - val_mae: 0.0518\n",
      "Epoch 35/100\n",
      "1105/1105 [==============================] - 20s 18ms/step - loss: 0.0012 - mape: 1268.5979 - mae: 0.0245 - val_loss: 0.0052 - val_mape: 27.1109 - val_mae: 0.0621\n",
      "Epoch 36/100\n",
      "1105/1105 [==============================] - 18s 17ms/step - loss: 0.0011 - mape: 1328.9257 - mae: 0.0242 - val_loss: 0.0047 - val_mape: 24.6844 - val_mae: 0.0577\n",
      "Epoch 37/100\n",
      "1105/1105 [==============================] - 19s 17ms/step - loss: 0.0011 - mape: 956.1949 - mae: 0.0240 - val_loss: 0.0048 - val_mape: 24.0616 - val_mae: 0.0550\n",
      "Epoch 38/100\n",
      "1105/1105 [==============================] - 19s 17ms/step - loss: 0.0011 - mape: 971.7479 - mae: 0.0240 - val_loss: 0.0051 - val_mape: 24.3320 - val_mae: 0.0577\n",
      "Epoch 39/100\n",
      "1105/1105 [==============================] - 18s 17ms/step - loss: 0.0011 - mape: 1284.0955 - mae: 0.0239 - val_loss: 0.0050 - val_mape: 25.3364 - val_mae: 0.0581\n",
      "Epoch 40/100\n",
      "1105/1105 [==============================] - 18s 17ms/step - loss: 0.0011 - mape: 1254.7335 - mae: 0.0235 - val_loss: 0.0065 - val_mape: 30.4567 - val_mae: 0.0696\n",
      "Epoch 41/100\n",
      "1105/1105 [==============================] - 19s 17ms/step - loss: 0.0011 - mape: 1262.2655 - mae: 0.0235 - val_loss: 0.0052 - val_mape: 25.3610 - val_mae: 0.0603\n",
      "Epoch 42/100\n",
      "1105/1105 [==============================] - 19s 17ms/step - loss: 0.0010 - mape: 1148.4625 - mae: 0.0232 - val_loss: 0.0050 - val_mape: 25.7909 - val_mae: 0.0581\n",
      "Epoch 43/100\n",
      "1105/1105 [==============================] - 18s 17ms/step - loss: 0.0010 - mape: 1020.5624 - mae: 0.0232 - val_loss: 0.0068 - val_mape: 29.5193 - val_mae: 0.0679\n",
      "Epoch 44/100\n",
      "1105/1105 [==============================] - 19s 17ms/step - loss: 0.0010 - mape: 1073.8677 - mae: 0.0230 - val_loss: 0.0060 - val_mape: 26.6826 - val_mae: 0.0640\n",
      "Epoch 45/100\n",
      "1105/1105 [==============================] - 19s 17ms/step - loss: 0.0010 - mape: 1023.7745 - mae: 0.0230 - val_loss: 0.0063 - val_mape: 28.4803 - val_mae: 0.0670\n",
      "Epoch 46/100\n",
      "1105/1105 [==============================] - 19s 18ms/step - loss: 0.0010 - mape: 1056.9459 - mae: 0.0230 - val_loss: 0.0076 - val_mape: 31.3164 - val_mae: 0.0742\n",
      "Epoch 47/100\n"
     ]
    },
    {
     "name": "stdout",
     "output_type": "stream",
     "text": [
      "1105/1105 [==============================] - 17s 15ms/step - loss: 9.8731e-04 - mape: 1039.1841 - mae: 0.0226 - val_loss: 0.0066 - val_mape: 29.1028 - val_mae: 0.0689\n",
      "Epoch 48/100\n",
      "1105/1105 [==============================] - 17s 15ms/step - loss: 9.8677e-04 - mape: 1248.9750 - mae: 0.0226 - val_loss: 0.0052 - val_mape: 25.6448 - val_mae: 0.0586\n",
      "Epoch 49/100\n",
      "1105/1105 [==============================] - 17s 15ms/step - loss: 9.6745e-04 - mape: 1003.0936 - mae: 0.0224 - val_loss: 0.0050 - val_mape: 27.3410 - val_mae: 0.0587\n",
      "Epoch 50/100\n",
      "1105/1105 [==============================] - 17s 15ms/step - loss: 9.5632e-04 - mape: 960.1555 - mae: 0.0223 - val_loss: 0.0056 - val_mape: 26.4664 - val_mae: 0.0606\n",
      "Epoch 51/100\n",
      "1105/1105 [==============================] - 17s 15ms/step - loss: 9.3991e-04 - mape: 1156.6519 - mae: 0.0220 - val_loss: 0.0046 - val_mape: 24.9841 - val_mae: 0.0559\n",
      "Epoch 52/100\n",
      "1105/1105 [==============================] - 17s 15ms/step - loss: 9.5002e-04 - mape: 1136.1167 - mae: 0.0222 - val_loss: 0.0056 - val_mape: 27.7868 - val_mae: 0.0623\n",
      "Epoch 53/100\n",
      "1105/1105 [==============================] - 17s 16ms/step - loss: 9.2934e-04 - mape: 1014.3317 - mae: 0.0220 - val_loss: 0.0054 - val_mape: 26.9362 - val_mae: 0.0623\n",
      "Epoch 54/100\n",
      "1105/1105 [==============================] - 17s 15ms/step - loss: 9.0678e-04 - mape: 1087.1202 - mae: 0.0217 - val_loss: 0.0054 - val_mape: 25.5140 - val_mae: 0.0603\n",
      "Epoch 55/100\n",
      "1105/1105 [==============================] - 17s 15ms/step - loss: 9.0563e-04 - mape: 884.1880 - mae: 0.0217 - val_loss: 0.0053 - val_mape: 27.4610 - val_mae: 0.0604\n",
      "Epoch 56/100\n",
      "1105/1105 [==============================] - 17s 15ms/step - loss: 8.9898e-04 - mape: 1021.0088 - mae: 0.0216 - val_loss: 0.0050 - val_mape: 25.7542 - val_mae: 0.0585\n",
      "Epoch 57/100\n",
      "1105/1105 [==============================] - 17s 16ms/step - loss: 8.8142e-04 - mape: 951.5727 - mae: 0.0214 - val_loss: 0.0042 - val_mape: 22.5882 - val_mae: 0.0518\n",
      "Epoch 58/100\n",
      "1105/1105 [==============================] - 17s 15ms/step - loss: 8.7033e-04 - mape: 1130.5090 - mae: 0.0213 - val_loss: 0.0046 - val_mape: 25.2137 - val_mae: 0.0552\n",
      "Epoch 59/100\n",
      "1105/1105 [==============================] - 17s 16ms/step - loss: 9.0058e-04 - mape: 979.4667 - mae: 0.0216 - val_loss: 0.0049 - val_mape: 25.5524 - val_mae: 0.0562\n",
      "Epoch 60/100\n",
      "1105/1105 [==============================] - 18s 16ms/step - loss: 8.6468e-04 - mape: 1015.2582 - mae: 0.0212 - val_loss: 0.0060 - val_mape: 27.0581 - val_mae: 0.0633\n",
      "Epoch 61/100\n",
      "1105/1105 [==============================] - 17s 16ms/step - loss: 8.4705e-04 - mape: 821.2092 - mae: 0.0210 - val_loss: 0.0073 - val_mape: 31.5360 - val_mae: 0.0722\n",
      "Epoch 62/100\n",
      "1105/1105 [==============================] - 18s 16ms/step - loss: 8.2939e-04 - mape: 935.3083 - mae: 0.0208 - val_loss: 0.0060 - val_mape: 27.4094 - val_mae: 0.0637\n",
      "Epoch 63/100\n",
      "1105/1105 [==============================] - 18s 16ms/step - loss: 8.5558e-04 - mape: 914.0035 - mae: 0.0210 - val_loss: 0.0056 - val_mape: 25.8647 - val_mae: 0.0613\n",
      "Epoch 64/100\n",
      "1105/1105 [==============================] - 18s 16ms/step - loss: 8.2663e-04 - mape: 873.5465 - mae: 0.0207 - val_loss: 0.0060 - val_mape: 28.3621 - val_mae: 0.0635\n",
      "Epoch 65/100\n",
      "1105/1105 [==============================] - 18s 17ms/step - loss: 8.1945e-04 - mape: 912.9613 - mae: 0.0207 - val_loss: 0.0056 - val_mape: 27.9415 - val_mae: 0.0624\n",
      "Epoch 66/100\n",
      "1105/1105 [==============================] - 18s 16ms/step - loss: 8.0282e-04 - mape: 1028.5609 - mae: 0.0204 - val_loss: 0.0052 - val_mape: 25.3644 - val_mae: 0.0590\n",
      "Epoch 67/100\n",
      "1105/1105 [==============================] - 19s 17ms/step - loss: 7.8398e-04 - mape: 758.7629 - mae: 0.0202 - val_loss: 0.0054 - val_mape: 26.4359 - val_mae: 0.0606\n",
      "Epoch 68/100\n",
      "1105/1105 [==============================] - 19s 17ms/step - loss: 7.9184e-04 - mape: 1029.2050 - mae: 0.0204 - val_loss: 0.0068 - val_mape: 29.4161 - val_mae: 0.0691\n",
      "Epoch 69/100\n",
      "1105/1105 [==============================] - 19s 17ms/step - loss: 7.6584e-04 - mape: 1064.9644 - mae: 0.0200 - val_loss: 0.0058 - val_mape: 27.6793 - val_mae: 0.0631\n",
      "Epoch 70/100\n",
      "1105/1105 [==============================] - 19s 17ms/step - loss: 7.8106e-04 - mape: 1006.1347 - mae: 0.0202 - val_loss: 0.0046 - val_mape: 22.9131 - val_mae: 0.0536\n",
      "Epoch 71/100\n",
      "1105/1105 [==============================] - 19s 17ms/step - loss: 7.5827e-04 - mape: 996.4476 - mae: 0.0199 - val_loss: 0.0077 - val_mape: 32.7353 - val_mae: 0.0754\n",
      "Epoch 72/100\n",
      "1105/1105 [==============================] - 19s 17ms/step - loss: 7.5093e-04 - mape: 903.7305 - mae: 0.0198 - val_loss: 0.0051 - val_mape: 26.3055 - val_mae: 0.0583\n",
      "Epoch 73/100\n",
      "1105/1105 [==============================] - 20s 18ms/step - loss: 7.4290e-04 - mape: 884.8876 - mae: 0.0198 - val_loss: 0.0058 - val_mape: 26.2185 - val_mae: 0.0610\n",
      "Epoch 74/100\n",
      "1105/1105 [==============================] - 19s 18ms/step - loss: 7.4972e-04 - mape: 853.0532 - mae: 0.0198 - val_loss: 0.0073 - val_mape: 31.9940 - val_mae: 0.0729\n",
      "Epoch 75/100\n",
      "1105/1105 [==============================] - 20s 18ms/step - loss: 7.2740e-04 - mape: 837.3129 - mae: 0.0196 - val_loss: 0.0054 - val_mape: 27.9520 - val_mae: 0.0604\n",
      "Epoch 76/100\n",
      "1105/1105 [==============================] - 20s 18ms/step - loss: 7.7160e-04 - mape: 913.7409 - mae: 0.0200 - val_loss: 0.0066 - val_mape: 31.8132 - val_mae: 0.0686\n",
      "Epoch 77/100\n",
      "1105/1105 [==============================] - 20s 18ms/step - loss: 7.1277e-04 - mape: 900.5052 - mae: 0.0193 - val_loss: 0.0052 - val_mape: 24.7112 - val_mae: 0.0560\n",
      "Epoch 78/100\n",
      "1105/1105 [==============================] - 20s 18ms/step - loss: 7.0932e-04 - mape: 839.4677 - mae: 0.0193 - val_loss: 0.0070 - val_mape: 31.2892 - val_mae: 0.0707\n",
      "Epoch 79/100\n",
      "1105/1105 [==============================] - 20s 18ms/step - loss: 7.2442e-04 - mape: 947.9805 - mae: 0.0195 - val_loss: 0.0054 - val_mape: 26.1293 - val_mae: 0.0601\n",
      "Epoch 80/100\n",
      "1105/1105 [==============================] - 20s 18ms/step - loss: 6.8048e-04 - mape: 889.0248 - mae: 0.0190 - val_loss: 0.0064 - val_mape: 28.2698 - val_mae: 0.0654\n",
      "Epoch 81/100\n",
      "1105/1105 [==============================] - 20s 18ms/step - loss: 6.8003e-04 - mape: 901.7200 - mae: 0.0190 - val_loss: 0.0063 - val_mape: 28.4828 - val_mae: 0.0665\n",
      "Epoch 82/100\n",
      "1105/1105 [==============================] - 19s 17ms/step - loss: 6.9635e-04 - mape: 1026.9324 - mae: 0.0192 - val_loss: 0.0069 - val_mape: 29.9621 - val_mae: 0.0690\n",
      "Epoch 83/100\n",
      "1105/1105 [==============================] - 19s 17ms/step - loss: 6.6496e-04 - mape: 769.8747 - mae: 0.0188 - val_loss: 0.0067 - val_mape: 28.1777 - val_mae: 0.0669\n",
      "Epoch 84/100\n",
      "1105/1105 [==============================] - 19s 18ms/step - loss: 7.8832e-04 - mape: 783.2374 - mae: 0.0201 - val_loss: 0.0056 - val_mape: 27.6764 - val_mae: 0.0625\n",
      "Epoch 85/100\n",
      "1105/1105 [==============================] - 19s 17ms/step - loss: 6.6443e-04 - mape: 783.3273 - mae: 0.0188 - val_loss: 0.0053 - val_mape: 25.2056 - val_mae: 0.0576\n",
      "Epoch 86/100\n",
      "1105/1105 [==============================] - 19s 17ms/step - loss: 6.6929e-04 - mape: 795.4418 - mae: 0.0188 - val_loss: 0.0064 - val_mape: 28.2531 - val_mae: 0.0660\n",
      "Epoch 87/100\n",
      "1105/1105 [==============================] - 19s 17ms/step - loss: 6.4941e-04 - mape: 1113.6686 - mae: 0.0186 - val_loss: 0.0056 - val_mape: 26.1491 - val_mae: 0.0599\n",
      "Epoch 88/100\n",
      "1105/1105 [==============================] - 19s 17ms/step - loss: 6.5227e-04 - mape: 1031.3125 - mae: 0.0186 - val_loss: 0.0058 - val_mape: 26.9337 - val_mae: 0.0616\n",
      "Epoch 89/100\n",
      "1105/1105 [==============================] - 19s 17ms/step - loss: 6.4957e-04 - mape: 889.0106 - mae: 0.0186 - val_loss: 0.0062 - val_mape: 29.0756 - val_mae: 0.0655\n",
      "Epoch 90/100\n",
      "1105/1105 [==============================] - 19s 18ms/step - loss: 6.2441e-04 - mape: 820.2502 - mae: 0.0182 - val_loss: 0.0066 - val_mape: 29.1196 - val_mae: 0.0657\n",
      "Epoch 91/100\n",
      "1105/1105 [==============================] - 19s 17ms/step - loss: 6.4730e-04 - mape: 986.2534 - mae: 0.0185 - val_loss: 0.0057 - val_mape: 27.9317 - val_mae: 0.0624\n",
      "Epoch 92/100\n",
      "1105/1105 [==============================] - 19s 17ms/step - loss: 6.5959e-04 - mape: 998.5776 - mae: 0.0186 - val_loss: 0.0053 - val_mape: 24.3960 - val_mae: 0.0572\n"
     ]
    },
    {
     "name": "stdout",
     "output_type": "stream",
     "text": [
      "Epoch 93/100\n",
      "1105/1105 [==============================] - 17s 16ms/step - loss: 6.1276e-04 - mape: 732.4505 - mae: 0.0181 - val_loss: 0.0048 - val_mape: 23.7693 - val_mae: 0.0540\n",
      "Epoch 94/100\n",
      "1105/1105 [==============================] - 17s 16ms/step - loss: 6.1266e-04 - mape: 955.5308 - mae: 0.0181 - val_loss: 0.0055 - val_mape: 25.3720 - val_mae: 0.0601\n",
      "Epoch 95/100\n",
      "1105/1105 [==============================] - 17s 16ms/step - loss: 6.1598e-04 - mape: 1020.9557 - mae: 0.0181 - val_loss: 0.0054 - val_mape: 26.2775 - val_mae: 0.0605\n",
      "Epoch 96/100\n",
      "1105/1105 [==============================] - 17s 16ms/step - loss: 6.0626e-04 - mape: 829.7574 - mae: 0.0180 - val_loss: 0.0063 - val_mape: 28.4146 - val_mae: 0.0650\n",
      "Epoch 97/100\n",
      "1105/1105 [==============================] - 17s 15ms/step - loss: 6.0185e-04 - mape: 883.6456 - mae: 0.0179 - val_loss: 0.0065 - val_mape: 28.9613 - val_mae: 0.0660\n",
      "Epoch 98/100\n",
      "1105/1105 [==============================] - 18s 16ms/step - loss: 5.8658e-04 - mape: 803.3688 - mae: 0.0177 - val_loss: 0.0053 - val_mape: 24.8509 - val_mae: 0.0583\n",
      "Epoch 99/100\n",
      "1105/1105 [==============================] - 17s 16ms/step - loss: 6.0319e-04 - mape: 801.6877 - mae: 0.0179 - val_loss: 0.0046 - val_mape: 24.8981 - val_mae: 0.0548\n",
      "Epoch 100/100\n",
      "1105/1105 [==============================] - 17s 16ms/step - loss: 5.8177e-04 - mape: 742.7175 - mae: 0.0177 - val_loss: 0.0047 - val_mape: 23.9370 - val_mae: 0.0540\n"
     ]
    },
    {
     "data": {
      "text/plain": [
       "<keras.callbacks.History at 0x1914cc35ca0>"
      ]
     },
     "execution_count": 22,
     "metadata": {},
     "output_type": "execute_result"
    }
   ],
   "source": [
    "model.fit(X_train, Y_train, epochs= epochs, batch_size= batchSize, verbose= 1, shuffle= True, validation_data= (X_valid, Y_valid))"
   ]
  },
  {
   "cell_type": "code",
   "execution_count": 23,
   "id": "cd839153",
   "metadata": {},
   "outputs": [
    {
     "name": "stdout",
     "output_type": "stream",
     "text": [
      "Total execution time in seconds: 1854.821475982666\n"
     ]
    }
   ],
   "source": [
    "calcExecTime = (time.time() - startTime)\n",
    "print('Total execution time in seconds: ' + str(calcExecTime))"
   ]
  },
  {
   "cell_type": "markdown",
   "id": "72aafa74",
   "metadata": {},
   "source": [
    "### MAKING PREDICTIONS AND GENERATING RESULTS"
   ]
  },
  {
   "cell_type": "code",
   "execution_count": 24,
   "id": "259bfb49",
   "metadata": {},
   "outputs": [
    {
     "name": "stdout",
     "output_type": "stream",
     "text": [
      "6/6 [==============================] - 1s 11ms/step\n"
     ]
    }
   ],
   "source": [
    "predictions = model.predict(X_test)"
   ]
  },
  {
   "cell_type": "code",
   "execution_count": 25,
   "id": "2912d431",
   "metadata": {},
   "outputs": [
    {
     "data": {
      "text/plain": [
       "array([0.09464108, 0.10197148, 0.12213306, ..., 0.15921584, 0.12174509,\n",
       "       0.09730389], dtype=float32)"
      ]
     },
     "execution_count": 25,
     "metadata": {},
     "output_type": "execute_result"
    }
   ],
   "source": [
    "predArr = predictions.reshape(predictions.shape[0] * predictions.shape[1], predictions.shape[2]).ravel()\n",
    "predArr"
   ]
  },
  {
   "cell_type": "code",
   "execution_count": 26,
   "id": "b01889f2",
   "metadata": {},
   "outputs": [
    {
     "data": {
      "text/plain": [
       "array([0.13871727, 0.13797705, 0.12397894, ..., 0.2066807 , 0.18686834,\n",
       "       0.18789113])"
      ]
     },
     "execution_count": 26,
     "metadata": {},
     "output_type": "execute_result"
    }
   ],
   "source": [
    "Y_testArr = Y_test.reshape(Y_test.shape[0] * Y_test.shape[1], Y_test.shape[2]).ravel()\n",
    "Y_testArr"
   ]
  },
  {
   "cell_type": "code",
   "execution_count": 27,
   "id": "799c97e8",
   "metadata": {},
   "outputs": [],
   "source": [
    "def inverse_transform(df):\n",
    "    column_names = df.columns\n",
    "    for col in column_names:\n",
    "        df[col] = ValScaler.inverse_transform(df[[col]]) \n",
    "    return df"
   ]
  },
  {
   "cell_type": "code",
   "execution_count": 28,
   "id": "afa81e30",
   "metadata": {},
   "outputs": [
    {
     "data": {
      "text/html": [
       "<div>\n",
       "<style scoped>\n",
       "    .dataframe tbody tr th:only-of-type {\n",
       "        vertical-align: middle;\n",
       "    }\n",
       "\n",
       "    .dataframe tbody tr th {\n",
       "        vertical-align: top;\n",
       "    }\n",
       "\n",
       "    .dataframe thead th {\n",
       "        text-align: right;\n",
       "    }\n",
       "</style>\n",
       "<table border=\"1\" class=\"dataframe\">\n",
       "  <thead>\n",
       "    <tr style=\"text-align: right;\">\n",
       "      <th></th>\n",
       "      <th>Values</th>\n",
       "      <th>Predictions</th>\n",
       "    </tr>\n",
       "  </thead>\n",
       "  <tbody>\n",
       "    <tr>\n",
       "      <th>0</th>\n",
       "      <td>2995.71</td>\n",
       "      <td>2708.703857</td>\n",
       "    </tr>\n",
       "    <tr>\n",
       "      <th>1</th>\n",
       "      <td>2990.89</td>\n",
       "      <td>2756.436279</td>\n",
       "    </tr>\n",
       "    <tr>\n",
       "      <th>2</th>\n",
       "      <td>2899.74</td>\n",
       "      <td>2887.720459</td>\n",
       "    </tr>\n",
       "    <tr>\n",
       "      <th>3</th>\n",
       "      <td>2988.63</td>\n",
       "      <td>3036.507324</td>\n",
       "    </tr>\n",
       "    <tr>\n",
       "      <th>4</th>\n",
       "      <td>3380.95</td>\n",
       "      <td>3374.795898</td>\n",
       "    </tr>\n",
       "    <tr>\n",
       "      <th>...</th>\n",
       "      <td>...</td>\n",
       "      <td>...</td>\n",
       "    </tr>\n",
       "    <tr>\n",
       "      <th>4363</th>\n",
       "      <td>3785.27</td>\n",
       "      <td>3536.033936</td>\n",
       "    </tr>\n",
       "    <tr>\n",
       "      <th>4364</th>\n",
       "      <td>3582.21</td>\n",
       "      <td>3355.729492</td>\n",
       "    </tr>\n",
       "    <tr>\n",
       "      <th>4365</th>\n",
       "      <td>3438.26</td>\n",
       "      <td>3129.188232</td>\n",
       "    </tr>\n",
       "    <tr>\n",
       "      <th>4366</th>\n",
       "      <td>3309.25</td>\n",
       "      <td>2885.194092</td>\n",
       "    </tr>\n",
       "    <tr>\n",
       "      <th>4367</th>\n",
       "      <td>3315.91</td>\n",
       "      <td>2726.042969</td>\n",
       "    </tr>\n",
       "  </tbody>\n",
       "</table>\n",
       "<p>4368 rows × 2 columns</p>\n",
       "</div>"
      ],
      "text/plain": [
       "       Values  Predictions\n",
       "0     2995.71  2708.703857\n",
       "1     2990.89  2756.436279\n",
       "2     2899.74  2887.720459\n",
       "3     2988.63  3036.507324\n",
       "4     3380.95  3374.795898\n",
       "...       ...          ...\n",
       "4363  3785.27  3536.033936\n",
       "4364  3582.21  3355.729492\n",
       "4365  3438.26  3129.188232\n",
       "4366  3309.25  2885.194092\n",
       "4367  3315.91  2726.042969\n",
       "\n",
       "[4368 rows x 2 columns]"
      ]
     },
     "execution_count": 28,
     "metadata": {},
     "output_type": "execute_result"
    }
   ],
   "source": [
    "comparisionDf = pd.DataFrame(data= {\"Values\": Y_testArr, \"Predictions\": predArr})\n",
    "comparisionDf = inverse_transform(comparisionDf)\n",
    "comparisionDf"
   ]
  },
  {
   "cell_type": "code",
   "execution_count": 29,
   "id": "88222bae",
   "metadata": {},
   "outputs": [
    {
     "data": {
      "text/plain": [
       "6.385112860849886"
      ]
     },
     "execution_count": 29,
     "metadata": {},
     "output_type": "execute_result"
    }
   ],
   "source": [
    "mape(comparisionDf[\"Values\"], comparisionDf[\"Predictions\"])"
   ]
  }
 ],
 "metadata": {
  "kernelspec": {
   "display_name": "Python 3 (ipykernel)",
   "language": "python",
   "name": "python3"
  },
  "language_info": {
   "codemirror_mode": {
    "name": "ipython",
    "version": 3
   },
   "file_extension": ".py",
   "mimetype": "text/x-python",
   "name": "python",
   "nbconvert_exporter": "python",
   "pygments_lexer": "ipython3",
   "version": "3.9.12"
  }
 },
 "nbformat": 4,
 "nbformat_minor": 5
}
