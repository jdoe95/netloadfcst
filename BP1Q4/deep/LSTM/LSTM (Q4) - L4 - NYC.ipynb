{
 "cells": [
  {
   "cell_type": "code",
   "execution_count": 1,
   "id": "5f61b29f",
   "metadata": {},
   "outputs": [
    {
     "name": "stdout",
     "output_type": "stream",
     "text": [
      "Num GPUs Available:  1\n"
     ]
    }
   ],
   "source": [
    "import pandas as pd\n",
    "import numpy as np\n",
    "import os\n",
    "import matplotlib.pyplot as plt\n",
    "from datetime import datetime\n",
    "from sklearn.preprocessing import MinMaxScaler, RobustScaler, StandardScaler\n",
    "import time\n",
    "\n",
    "import tensorflow as tf\n",
    "tf.random.set_seed(42)\n",
    "\n",
    "def mape(y_true, y_pred):\n",
    "    y_true, y_pred = np.array(y_true), np.array(y_pred)\n",
    "    return np.mean(np.abs((y_true - y_pred) / max(y_true))) * 100\n",
    "\n",
    "def RMSELoss(yhat,y):\n",
    "    return torch.sqrt(torch.mean((yhat-y)**2))\n",
    "\n",
    "print(\"Num GPUs Available: \", len(tf.config.list_physical_devices('GPU')))"
   ]
  },
  {
   "cell_type": "code",
   "execution_count": 2,
   "id": "cea0abe2",
   "metadata": {},
   "outputs": [
    {
     "name": "stdout",
     "output_type": "stream",
     "text": [
      "['Capital.csv', 'Central.csv', 'Dunwoody.csv', 'Genese.csv', 'Hudson.csv', 'LongIsland.csv', 'Milwood.csv', 'NYC.csv']\n"
     ]
    }
   ],
   "source": [
    "# Specifying the path of file\n",
    "path= r\"C:\\Users\\sashah8\\OneDrive - North Carolina State University\\Desktop\\Q4\\Data\\L4\\data_cleaned\"\n",
    "\n",
    "# Listing just the required files\n",
    "fileList = os.listdir(path)\n",
    "fileList.remove(\"Date.csv\")\n",
    "\n",
    "# Previewing the required file names\n",
    "print(fileList)"
   ]
  },
  {
   "cell_type": "code",
   "execution_count": 3,
   "id": "a6fe9396",
   "metadata": {},
   "outputs": [
    {
     "data": {
      "text/html": [
       "<div>\n",
       "<style scoped>\n",
       "    .dataframe tbody tr th:only-of-type {\n",
       "        vertical-align: middle;\n",
       "    }\n",
       "\n",
       "    .dataframe tbody tr th {\n",
       "        vertical-align: top;\n",
       "    }\n",
       "\n",
       "    .dataframe thead th {\n",
       "        text-align: right;\n",
       "    }\n",
       "</style>\n",
       "<table border=\"1\" class=\"dataframe\">\n",
       "  <thead>\n",
       "    <tr style=\"text-align: right;\">\n",
       "      <th></th>\n",
       "      <th>Demand</th>\n",
       "      <th>Normalized_net</th>\n",
       "      <th>Temprature</th>\n",
       "    </tr>\n",
       "  </thead>\n",
       "  <tbody>\n",
       "    <tr>\n",
       "      <th>0</th>\n",
       "      <td>5272.0</td>\n",
       "      <td>0.485856</td>\n",
       "      <td>-5.8</td>\n",
       "    </tr>\n",
       "    <tr>\n",
       "      <th>1</th>\n",
       "      <td>5092.6</td>\n",
       "      <td>0.469323</td>\n",
       "      <td>-6.1</td>\n",
       "    </tr>\n",
       "    <tr>\n",
       "      <th>2</th>\n",
       "      <td>4909.5</td>\n",
       "      <td>0.452449</td>\n",
       "      <td>-7.5</td>\n",
       "    </tr>\n",
       "    <tr>\n",
       "      <th>3</th>\n",
       "      <td>4771.4</td>\n",
       "      <td>0.439722</td>\n",
       "      <td>-8.4</td>\n",
       "    </tr>\n",
       "    <tr>\n",
       "      <th>4</th>\n",
       "      <td>4698.5</td>\n",
       "      <td>0.433003</td>\n",
       "      <td>-7.4</td>\n",
       "    </tr>\n",
       "    <tr>\n",
       "      <th>...</th>\n",
       "      <td>...</td>\n",
       "      <td>...</td>\n",
       "      <td>...</td>\n",
       "    </tr>\n",
       "    <tr>\n",
       "      <th>43819</th>\n",
       "      <td>5909.3</td>\n",
       "      <td>0.544588</td>\n",
       "      <td>3.4</td>\n",
       "    </tr>\n",
       "    <tr>\n",
       "      <th>43820</th>\n",
       "      <td>5689.2</td>\n",
       "      <td>0.524304</td>\n",
       "      <td>3.3</td>\n",
       "    </tr>\n",
       "    <tr>\n",
       "      <th>43821</th>\n",
       "      <td>5488.3</td>\n",
       "      <td>0.505790</td>\n",
       "      <td>2.6</td>\n",
       "    </tr>\n",
       "    <tr>\n",
       "      <th>43822</th>\n",
       "      <td>5276.0</td>\n",
       "      <td>0.486225</td>\n",
       "      <td>2.7</td>\n",
       "    </tr>\n",
       "    <tr>\n",
       "      <th>43823</th>\n",
       "      <td>5063.4</td>\n",
       "      <td>0.466632</td>\n",
       "      <td>3.0</td>\n",
       "    </tr>\n",
       "  </tbody>\n",
       "</table>\n",
       "<p>43824 rows × 3 columns</p>\n",
       "</div>"
      ],
      "text/plain": [
       "       Demand  Normalized_net  Temprature\n",
       "0      5272.0        0.485856        -5.8\n",
       "1      5092.6        0.469323        -6.1\n",
       "2      4909.5        0.452449        -7.5\n",
       "3      4771.4        0.439722        -8.4\n",
       "4      4698.5        0.433003        -7.4\n",
       "...       ...             ...         ...\n",
       "43819  5909.3        0.544588         3.4\n",
       "43820  5689.2        0.524304         3.3\n",
       "43821  5488.3        0.505790         2.6\n",
       "43822  5276.0        0.486225         2.7\n",
       "43823  5063.4        0.466632         3.0\n",
       "\n",
       "[43824 rows x 3 columns]"
      ]
     },
     "execution_count": 3,
     "metadata": {},
     "output_type": "execute_result"
    }
   ],
   "source": [
    "# Just for previewing the columns\n",
    "pd.read_csv(os.path.join(path, fileList[7]))"
   ]
  },
  {
   "cell_type": "markdown",
   "id": "9ad4906c",
   "metadata": {
    "pycharm": {
     "name": "#%% md\n"
    }
   },
   "source": [
    "### PROCESSING THE DATA"
   ]
  },
  {
   "cell_type": "code",
   "execution_count": 4,
   "id": "f29f6db2",
   "metadata": {},
   "outputs": [
    {
     "data": {
      "text/html": [
       "<div>\n",
       "<style scoped>\n",
       "    .dataframe tbody tr th:only-of-type {\n",
       "        vertical-align: middle;\n",
       "    }\n",
       "\n",
       "    .dataframe tbody tr th {\n",
       "        vertical-align: top;\n",
       "    }\n",
       "\n",
       "    .dataframe thead th {\n",
       "        text-align: right;\n",
       "    }\n",
       "</style>\n",
       "<table border=\"1\" class=\"dataframe\">\n",
       "  <thead>\n",
       "    <tr style=\"text-align: right;\">\n",
       "      <th></th>\n",
       "      <th>Load_NYC</th>\n",
       "      <th>Temp_NYC</th>\n",
       "    </tr>\n",
       "  </thead>\n",
       "  <tbody>\n",
       "    <tr>\n",
       "      <th>0</th>\n",
       "      <td>5272.0</td>\n",
       "      <td>-5.8</td>\n",
       "    </tr>\n",
       "    <tr>\n",
       "      <th>1</th>\n",
       "      <td>5092.6</td>\n",
       "      <td>-6.1</td>\n",
       "    </tr>\n",
       "    <tr>\n",
       "      <th>2</th>\n",
       "      <td>4909.5</td>\n",
       "      <td>-7.5</td>\n",
       "    </tr>\n",
       "    <tr>\n",
       "      <th>3</th>\n",
       "      <td>4771.4</td>\n",
       "      <td>-8.4</td>\n",
       "    </tr>\n",
       "    <tr>\n",
       "      <th>4</th>\n",
       "      <td>4698.5</td>\n",
       "      <td>-7.4</td>\n",
       "    </tr>\n",
       "    <tr>\n",
       "      <th>...</th>\n",
       "      <td>...</td>\n",
       "      <td>...</td>\n",
       "    </tr>\n",
       "    <tr>\n",
       "      <th>43819</th>\n",
       "      <td>5909.3</td>\n",
       "      <td>3.4</td>\n",
       "    </tr>\n",
       "    <tr>\n",
       "      <th>43820</th>\n",
       "      <td>5689.2</td>\n",
       "      <td>3.3</td>\n",
       "    </tr>\n",
       "    <tr>\n",
       "      <th>43821</th>\n",
       "      <td>5488.3</td>\n",
       "      <td>2.6</td>\n",
       "    </tr>\n",
       "    <tr>\n",
       "      <th>43822</th>\n",
       "      <td>5276.0</td>\n",
       "      <td>2.7</td>\n",
       "    </tr>\n",
       "    <tr>\n",
       "      <th>43823</th>\n",
       "      <td>5063.4</td>\n",
       "      <td>3.0</td>\n",
       "    </tr>\n",
       "  </tbody>\n",
       "</table>\n",
       "<p>43824 rows × 2 columns</p>\n",
       "</div>"
      ],
      "text/plain": [
       "       Load_NYC  Temp_NYC\n",
       "0        5272.0      -5.8\n",
       "1        5092.6      -6.1\n",
       "2        4909.5      -7.5\n",
       "3        4771.4      -8.4\n",
       "4        4698.5      -7.4\n",
       "...         ...       ...\n",
       "43819    5909.3       3.4\n",
       "43820    5689.2       3.3\n",
       "43821    5488.3       2.6\n",
       "43822    5276.0       2.7\n",
       "43823    5063.4       3.0\n",
       "\n",
       "[43824 rows x 2 columns]"
      ]
     },
     "execution_count": 4,
     "metadata": {},
     "output_type": "execute_result"
    }
   ],
   "source": [
    "# Restricting the load data to a single zone\n",
    "fileName  = fileList[7]\n",
    "\n",
    "zoneData = pd.read_csv(os.path.join(path, fileName), usecols= [\"Demand\", \"Temprature\"])\n",
    "zoneData.columns = [\"Load_\"+str(fileName[:-4]), \"Temp_\"+str(fileName[:-4])]\n",
    "\n",
    "# For fixing one missing row\n",
    "# zoneData = pd.concat([zoneData.loc[[0]], zoneData], axis= 0).reset_index(drop= True)\n",
    "\n",
    "zoneData"
   ]
  },
  {
   "cell_type": "markdown",
   "id": "01cec4bd",
   "metadata": {},
   "source": [
    "### FEATURE ENGINEERING AND SPLITTING INTO TRAIN-TEST SPLIT"
   ]
  },
  {
   "cell_type": "code",
   "execution_count": 5,
   "id": "a1e1e8a3",
   "metadata": {},
   "outputs": [],
   "source": [
    "def lagGenerator(dF, lagList):\n",
    "    dF_temp = dF.filter(regex= \"Load\").copy()\n",
    "    \n",
    "    for i in lagList:\n",
    "        dF_temp.loc[:, \"Lag-\" + str(i)] = dF_temp.iloc[:,[0]].shift(i*24)\n",
    "    \n",
    "    return(dF_temp.filter(regex= \"Lag\"))"
   ]
  },
  {
   "cell_type": "code",
   "execution_count": 6,
   "id": "159a2a82",
   "metadata": {},
   "outputs": [
    {
     "data": {
      "text/html": [
       "<div>\n",
       "<style scoped>\n",
       "    .dataframe tbody tr th:only-of-type {\n",
       "        vertical-align: middle;\n",
       "    }\n",
       "\n",
       "    .dataframe tbody tr th {\n",
       "        vertical-align: top;\n",
       "    }\n",
       "\n",
       "    .dataframe thead th {\n",
       "        text-align: right;\n",
       "    }\n",
       "</style>\n",
       "<table border=\"1\" class=\"dataframe\">\n",
       "  <thead>\n",
       "    <tr style=\"text-align: right;\">\n",
       "      <th></th>\n",
       "      <th>Lag-2</th>\n",
       "      <th>Lag-7</th>\n",
       "    </tr>\n",
       "  </thead>\n",
       "  <tbody>\n",
       "    <tr>\n",
       "      <th>0</th>\n",
       "      <td>NaN</td>\n",
       "      <td>NaN</td>\n",
       "    </tr>\n",
       "    <tr>\n",
       "      <th>1</th>\n",
       "      <td>NaN</td>\n",
       "      <td>NaN</td>\n",
       "    </tr>\n",
       "  </tbody>\n",
       "</table>\n",
       "</div>"
      ],
      "text/plain": [
       "   Lag-2  Lag-7\n",
       "0    NaN    NaN\n",
       "1    NaN    NaN"
      ]
     },
     "execution_count": 6,
     "metadata": {},
     "output_type": "execute_result"
    }
   ],
   "source": [
    "Load_lags = lagGenerator(dF=zoneData, lagList=[2,7])\n",
    "Load_lags.head(2)"
   ]
  },
  {
   "cell_type": "code",
   "execution_count": 7,
   "id": "05896954",
   "metadata": {},
   "outputs": [
    {
     "data": {
      "text/html": [
       "<div>\n",
       "<style scoped>\n",
       "    .dataframe tbody tr th:only-of-type {\n",
       "        vertical-align: middle;\n",
       "    }\n",
       "\n",
       "    .dataframe tbody tr th {\n",
       "        vertical-align: top;\n",
       "    }\n",
       "\n",
       "    .dataframe thead th {\n",
       "        text-align: right;\n",
       "    }\n",
       "</style>\n",
       "<table border=\"1\" class=\"dataframe\">\n",
       "  <thead>\n",
       "    <tr style=\"text-align: right;\">\n",
       "      <th></th>\n",
       "      <th>Load_NYC</th>\n",
       "      <th>Temp_NYC</th>\n",
       "      <th>Lag-2</th>\n",
       "      <th>Lag-7</th>\n",
       "    </tr>\n",
       "  </thead>\n",
       "  <tbody>\n",
       "    <tr>\n",
       "      <th>0</th>\n",
       "      <td>5715.8</td>\n",
       "      <td>-13.9</td>\n",
       "      <td>5194.9</td>\n",
       "      <td>5272.0</td>\n",
       "    </tr>\n",
       "    <tr>\n",
       "      <th>1</th>\n",
       "      <td>5461.3</td>\n",
       "      <td>-14.2</td>\n",
       "      <td>4967.4</td>\n",
       "      <td>5092.6</td>\n",
       "    </tr>\n",
       "    <tr>\n",
       "      <th>2</th>\n",
       "      <td>5320.8</td>\n",
       "      <td>-14.8</td>\n",
       "      <td>4826.9</td>\n",
       "      <td>4909.5</td>\n",
       "    </tr>\n",
       "    <tr>\n",
       "      <th>3</th>\n",
       "      <td>5261.7</td>\n",
       "      <td>-15.6</td>\n",
       "      <td>4781.3</td>\n",
       "      <td>4771.4</td>\n",
       "    </tr>\n",
       "    <tr>\n",
       "      <th>4</th>\n",
       "      <td>5292.5</td>\n",
       "      <td>-16.0</td>\n",
       "      <td>4816.2</td>\n",
       "      <td>4698.5</td>\n",
       "    </tr>\n",
       "    <tr>\n",
       "      <th>...</th>\n",
       "      <td>...</td>\n",
       "      <td>...</td>\n",
       "      <td>...</td>\n",
       "      <td>...</td>\n",
       "    </tr>\n",
       "    <tr>\n",
       "      <th>43651</th>\n",
       "      <td>5909.3</td>\n",
       "      <td>3.4</td>\n",
       "      <td>5649.6</td>\n",
       "      <td>5756.6</td>\n",
       "    </tr>\n",
       "    <tr>\n",
       "      <th>43652</th>\n",
       "      <td>5689.2</td>\n",
       "      <td>3.3</td>\n",
       "      <td>5563.1</td>\n",
       "      <td>5594.8</td>\n",
       "    </tr>\n",
       "    <tr>\n",
       "      <th>43653</th>\n",
       "      <td>5488.3</td>\n",
       "      <td>2.6</td>\n",
       "      <td>5430.6</td>\n",
       "      <td>5431.0</td>\n",
       "    </tr>\n",
       "    <tr>\n",
       "      <th>43654</th>\n",
       "      <td>5276.0</td>\n",
       "      <td>2.7</td>\n",
       "      <td>5226.6</td>\n",
       "      <td>5244.8</td>\n",
       "    </tr>\n",
       "    <tr>\n",
       "      <th>43655</th>\n",
       "      <td>5063.4</td>\n",
       "      <td>3.0</td>\n",
       "      <td>4947.4</td>\n",
       "      <td>5038.8</td>\n",
       "    </tr>\n",
       "  </tbody>\n",
       "</table>\n",
       "<p>43656 rows × 4 columns</p>\n",
       "</div>"
      ],
      "text/plain": [
       "       Load_NYC  Temp_NYC   Lag-2   Lag-7\n",
       "0        5715.8     -13.9  5194.9  5272.0\n",
       "1        5461.3     -14.2  4967.4  5092.6\n",
       "2        5320.8     -14.8  4826.9  4909.5\n",
       "3        5261.7     -15.6  4781.3  4771.4\n",
       "4        5292.5     -16.0  4816.2  4698.5\n",
       "...         ...       ...     ...     ...\n",
       "43651    5909.3       3.4  5649.6  5756.6\n",
       "43652    5689.2       3.3  5563.1  5594.8\n",
       "43653    5488.3       2.6  5430.6  5431.0\n",
       "43654    5276.0       2.7  5226.6  5244.8\n",
       "43655    5063.4       3.0  4947.4  5038.8\n",
       "\n",
       "[43656 rows x 4 columns]"
      ]
     },
     "execution_count": 7,
     "metadata": {},
     "output_type": "execute_result"
    }
   ],
   "source": [
    "dataDf = pd.concat([zoneData, Load_lags], axis= 1).dropna(axis= 0).reset_index(drop= True)\n",
    "dataDf"
   ]
  },
  {
   "cell_type": "code",
   "execution_count": 8,
   "id": "6ad25321",
   "metadata": {},
   "outputs": [],
   "source": [
    "# Setting the train-test split ratio\n",
    "ratio = 0.1"
   ]
  },
  {
   "cell_type": "code",
   "execution_count": 9,
   "id": "3c08d963",
   "metadata": {},
   "outputs": [],
   "source": [
    "Num_train, Num_test = int(len(dataDf)/24 * (1 - ratio)) * 24, int(len(dataDf)/24 * ratio) * 24"
   ]
  },
  {
   "cell_type": "code",
   "execution_count": 10,
   "id": "cbe069ff",
   "metadata": {},
   "outputs": [],
   "source": [
    "# Splitting the data into train and test\n",
    "data_train, data_test = dataDf[:Num_train], dataDf[Num_train:]"
   ]
  },
  {
   "cell_type": "code",
   "execution_count": 11,
   "id": "d84e15c4",
   "metadata": {},
   "outputs": [],
   "source": [
    "Num_train, Num_valid = int(len(data_train)/24 * (1 - ratio)) * 24, int(len(data_train)/24 * ratio) * 24"
   ]
  },
  {
   "cell_type": "code",
   "execution_count": 12,
   "id": "c17d1723",
   "metadata": {},
   "outputs": [],
   "source": [
    "# Splitting the data into train and test\n",
    "data_train, data_valid = data_train[:Num_train], data_train[Num_train:]"
   ]
  },
  {
   "cell_type": "markdown",
   "id": "88d32011",
   "metadata": {},
   "source": [
    "### SPLITTING INTO X AND Y PART WITH SEQUENCE BATCHING"
   ]
  },
  {
   "cell_type": "code",
   "execution_count": 13,
   "id": "4ba286ca",
   "metadata": {},
   "outputs": [],
   "source": [
    "X_train_df, Y_train_df = data_train.iloc[:, 1:], data_train.iloc[:, :1]\n",
    "\n",
    "X_valid_df, Y_valid_df = data_valid.iloc[:, 1:], data_valid.iloc[:, :1]\n",
    "\n",
    "X_test_df, Y_test_df = data_test.iloc[:, 1:], data_test.iloc[:, :1]"
   ]
  },
  {
   "cell_type": "code",
   "execution_count": 14,
   "id": "ef1d9079",
   "metadata": {},
   "outputs": [],
   "source": [
    "# Preparing the scaler\n",
    "ValScaler = MinMaxScaler()\n",
    "\n",
    "X_train = ValScaler.fit_transform(X_train_df)\n",
    "X_valid = ValScaler.transform(X_valid_df)\n",
    "X_test = ValScaler.transform(X_test_df)\n",
    "\n",
    "Y_train = ValScaler.fit_transform(Y_train_df)\n",
    "Y_valid = ValScaler.transform(Y_valid_df)\n",
    "Y_test = ValScaler.transform(Y_test_df)"
   ]
  },
  {
   "cell_type": "code",
   "execution_count": 15,
   "id": "43594401",
   "metadata": {},
   "outputs": [],
   "source": [
    "def splitData(dataset):\n",
    "    data = np.array(np.split(dataset, len(dataset)/24))\n",
    "    return data"
   ]
  },
  {
   "cell_type": "code",
   "execution_count": 16,
   "id": "300696b2",
   "metadata": {},
   "outputs": [],
   "source": [
    "def supervisedSet(X_part, Y_part, steps= 24):\n",
    "    X_array, Y_array = np.array(X_part), np.array(Y_part)\n",
    "    X, Y = [], []\n",
    "    \n",
    "    for i in range(len(X_array)):\n",
    "        endIdx = i + steps\n",
    "        \n",
    "        if endIdx > len(X_array):\n",
    "            break\n",
    "        \n",
    "        batch_X, batch_Y = X_array[i:endIdx], Y_array[i:endIdx]\n",
    "        \n",
    "        X.append(batch_X)\n",
    "        Y.append(batch_Y)\n",
    "        \n",
    "    return np.array(X), np.array(Y)"
   ]
  },
  {
   "cell_type": "code",
   "execution_count": 17,
   "id": "fc9cd97d",
   "metadata": {},
   "outputs": [],
   "source": [
    "X_train, Y_train = supervisedSet(X_train, Y_train)\n",
    "\n",
    "X_valid, Y_valid = splitData(X_valid), splitData(Y_valid)\n",
    "\n",
    "X_test, Y_test = splitData(X_test), splitData(Y_test)"
   ]
  },
  {
   "cell_type": "markdown",
   "id": "a2a6bf32",
   "metadata": {},
   "source": [
    "### WORKING ON THE MODEL"
   ]
  },
  {
   "cell_type": "code",
   "execution_count": 18,
   "id": "ff71a98c",
   "metadata": {},
   "outputs": [],
   "source": [
    "epochs = 100\n",
    "batchSize = 32"
   ]
  },
  {
   "cell_type": "code",
   "execution_count": 19,
   "id": "8d600c17",
   "metadata": {},
   "outputs": [],
   "source": [
    "# Encoder-decoder architecture [tanh required to use tensorflow on gpu]\n",
    "model = tf.keras.Sequential([\n",
    "    tf.keras.layers.LSTM(units= 128, activation= \"tanh\", input_shape= (X_train.shape[1], X_train.shape[2]), dropout= 0.2),\n",
    "    tf.keras.layers.RepeatVector(Y_train.shape[1]),\n",
    "    tf.keras.layers.LSTM(units= 128, activation= \"tanh\", return_sequences= True, dropout= 0.2),\n",
    "    tf.keras.layers.TimeDistributed(tf.keras.layers.Dense(units= 128, activation= \"relu\")),\n",
    "    tf.keras.layers.Dropout(0.2),\n",
    "    tf.keras.layers.TimeDistributed(tf.keras.layers.Dense(units= 1))\n",
    "])\n",
    "\n",
    "model.compile(loss= \"mse\", optimizer= \"adam\",  metrics= ['mape', 'mae'])"
   ]
  },
  {
   "cell_type": "code",
   "execution_count": 20,
   "id": "a05c033a",
   "metadata": {},
   "outputs": [],
   "source": [
    "# model = tf.keras.Sequential([\n",
    "#     tf.keras.layers.LSTM(units= 256, activation= \"tanh\", input_shape= (X_train.shape[1], X_train.shape[2])),\n",
    "#     tf.keras.layers.Dense(units= 128, activation= \"tanh\"),\n",
    "#     tf.keras.layers.Dense(units= 1)\n",
    "# ])\n",
    "\n",
    "# model.compile(loss= \"mse\", optimizer= \"adam\",  metrics= ['mape', 'mae'])"
   ]
  },
  {
   "cell_type": "code",
   "execution_count": 21,
   "id": "c9390383",
   "metadata": {},
   "outputs": [],
   "source": [
    "# Storing the start time of model fitting process\n",
    "startTime = time.time()"
   ]
  },
  {
   "cell_type": "code",
   "execution_count": 22,
   "id": "e526e3ed",
   "metadata": {},
   "outputs": [
    {
     "name": "stdout",
     "output_type": "stream",
     "text": [
      "Epoch 1/100\n",
      "1105/1105 [==============================] - 25s 19ms/step - loss: 0.0125 - mape: 5010.8481 - mae: 0.0855 - val_loss: 0.0058 - val_mape: 50.5975 - val_mae: 0.0610\n",
      "Epoch 2/100\n",
      "1105/1105 [==============================] - 19s 17ms/step - loss: 0.0080 - mape: 4696.0420 - mae: 0.0676 - val_loss: 0.0076 - val_mape: 51.0620 - val_mae: 0.0653\n",
      "Epoch 3/100\n",
      "1105/1105 [==============================] - 19s 17ms/step - loss: 0.0058 - mape: 4013.9927 - mae: 0.0576 - val_loss: 0.0090 - val_mape: 47.0163 - val_mae: 0.0671\n",
      "Epoch 4/100\n",
      "1105/1105 [==============================] - 18s 17ms/step - loss: 0.0053 - mape: 4209.2202 - mae: 0.0548 - val_loss: 0.0080 - val_mape: 47.3732 - val_mae: 0.0637\n",
      "Epoch 5/100\n",
      "1105/1105 [==============================] - 18s 16ms/step - loss: 0.0048 - mape: 4024.8005 - mae: 0.0520 - val_loss: 0.0099 - val_mape: 43.0940 - val_mae: 0.0705\n",
      "Epoch 6/100\n",
      "1105/1105 [==============================] - 18s 16ms/step - loss: 0.0045 - mape: 3829.5522 - mae: 0.0498 - val_loss: 0.0085 - val_mape: 40.4202 - val_mae: 0.0628\n",
      "Epoch 7/100\n",
      "1105/1105 [==============================] - 18s 16ms/step - loss: 0.0042 - mape: 3928.0242 - mae: 0.0482 - val_loss: 0.0080 - val_mape: 36.9031 - val_mae: 0.0608\n",
      "Epoch 8/100\n",
      "1105/1105 [==============================] - 18s 16ms/step - loss: 0.0040 - mape: 3481.2886 - mae: 0.0467 - val_loss: 0.0081 - val_mape: 36.5696 - val_mae: 0.0599\n",
      "Epoch 9/100\n",
      "1105/1105 [==============================] - 18s 16ms/step - loss: 0.0038 - mape: 3540.0562 - mae: 0.0456 - val_loss: 0.0079 - val_mape: 41.8233 - val_mae: 0.0620\n",
      "Epoch 10/100\n",
      "1105/1105 [==============================] - 18s 16ms/step - loss: 0.0036 - mape: 3587.5327 - mae: 0.0446 - val_loss: 0.0081 - val_mape: 36.9313 - val_mae: 0.0596\n",
      "Epoch 11/100\n",
      "1105/1105 [==============================] - 18s 16ms/step - loss: 0.0036 - mape: 3411.7256 - mae: 0.0441 - val_loss: 0.0076 - val_mape: 32.2434 - val_mae: 0.0582\n",
      "Epoch 12/100\n",
      "1105/1105 [==============================] - 18s 16ms/step - loss: 0.0034 - mape: 3158.3735 - mae: 0.0430 - val_loss: 0.0090 - val_mape: 34.4107 - val_mae: 0.0641\n",
      "Epoch 13/100\n",
      "1105/1105 [==============================] - 18s 16ms/step - loss: 0.0033 - mape: 3366.4897 - mae: 0.0424 - val_loss: 0.0083 - val_mape: 33.1898 - val_mae: 0.0617\n",
      "Epoch 14/100\n",
      "1105/1105 [==============================] - 18s 16ms/step - loss: 0.0033 - mape: 3240.3057 - mae: 0.0423 - val_loss: 0.0079 - val_mape: 37.0499 - val_mae: 0.0604\n",
      "Epoch 15/100\n",
      "1105/1105 [==============================] - 18s 16ms/step - loss: 0.0032 - mape: 3230.0293 - mae: 0.0419 - val_loss: 0.0070 - val_mape: 35.1738 - val_mae: 0.0559\n",
      "Epoch 16/100\n",
      "1105/1105 [==============================] - 17s 16ms/step - loss: 0.0032 - mape: 3262.6338 - mae: 0.0415 - val_loss: 0.0091 - val_mape: 33.8623 - val_mae: 0.0670\n",
      "Epoch 17/100\n",
      "1105/1105 [==============================] - 18s 16ms/step - loss: 0.0032 - mape: 2732.7092 - mae: 0.0413 - val_loss: 0.0076 - val_mape: 33.7966 - val_mae: 0.0584\n",
      "Epoch 18/100\n",
      "1105/1105 [==============================] - 18s 16ms/step - loss: 0.0030 - mape: 2956.7549 - mae: 0.0406 - val_loss: 0.0075 - val_mape: 35.0502 - val_mae: 0.0577\n",
      "Epoch 19/100\n",
      "1105/1105 [==============================] - 18s 16ms/step - loss: 0.0030 - mape: 2892.3408 - mae: 0.0404 - val_loss: 0.0080 - val_mape: 34.6905 - val_mae: 0.0586\n",
      "Epoch 20/100\n",
      "1105/1105 [==============================] - 18s 16ms/step - loss: 0.0030 - mape: 2940.1794 - mae: 0.0402 - val_loss: 0.0076 - val_mape: 32.7422 - val_mae: 0.0574\n",
      "Epoch 21/100\n",
      "1105/1105 [==============================] - 18s 16ms/step - loss: 0.0029 - mape: 2990.9312 - mae: 0.0399 - val_loss: 0.0075 - val_mape: 36.3688 - val_mae: 0.0576\n",
      "Epoch 22/100\n",
      "1105/1105 [==============================] - 18s 16ms/step - loss: 0.0029 - mape: 2983.9731 - mae: 0.0396 - val_loss: 0.0068 - val_mape: 35.0238 - val_mae: 0.0543\n",
      "Epoch 23/100\n",
      "1105/1105 [==============================] - 18s 16ms/step - loss: 0.0029 - mape: 2672.5312 - mae: 0.0394 - val_loss: 0.0074 - val_mape: 34.8784 - val_mae: 0.0564\n",
      "Epoch 24/100\n",
      "1105/1105 [==============================] - 18s 17ms/step - loss: 0.0028 - mape: 2789.7800 - mae: 0.0392 - val_loss: 0.0075 - val_mape: 34.5959 - val_mae: 0.0576\n",
      "Epoch 25/100\n",
      "1105/1105 [==============================] - 19s 17ms/step - loss: 0.0028 - mape: 2937.8176 - mae: 0.0389 - val_loss: 0.0077 - val_mape: 35.6782 - val_mae: 0.0575\n",
      "Epoch 26/100\n",
      "1105/1105 [==============================] - 18s 17ms/step - loss: 0.0027 - mape: 2843.5681 - mae: 0.0385 - val_loss: 0.0081 - val_mape: 36.2869 - val_mae: 0.0606\n",
      "Epoch 27/100\n",
      "1105/1105 [==============================] - 18s 16ms/step - loss: 0.0027 - mape: 3085.4319 - mae: 0.0384 - val_loss: 0.0076 - val_mape: 34.0269 - val_mae: 0.0572\n",
      "Epoch 28/100\n",
      "1105/1105 [==============================] - 18s 17ms/step - loss: 0.0027 - mape: 2646.6777 - mae: 0.0383 - val_loss: 0.0080 - val_mape: 35.4007 - val_mae: 0.0596\n",
      "Epoch 29/100\n",
      "1105/1105 [==============================] - 18s 16ms/step - loss: 0.0026 - mape: 2940.0989 - mae: 0.0378 - val_loss: 0.0072 - val_mape: 37.4626 - val_mae: 0.0556\n",
      "Epoch 30/100\n",
      "1105/1105 [==============================] - 18s 16ms/step - loss: 0.0026 - mape: 2956.9373 - mae: 0.0375 - val_loss: 0.0073 - val_mape: 36.9154 - val_mae: 0.0559\n",
      "Epoch 31/100\n",
      "1105/1105 [==============================] - 18s 16ms/step - loss: 0.0026 - mape: 2752.9822 - mae: 0.0375 - val_loss: 0.0084 - val_mape: 35.4551 - val_mae: 0.0613\n",
      "Epoch 32/100\n",
      "1105/1105 [==============================] - 18s 16ms/step - loss: 0.0025 - mape: 2877.4963 - mae: 0.0371 - val_loss: 0.0079 - val_mape: 35.7173 - val_mae: 0.0577\n",
      "Epoch 33/100\n",
      "1105/1105 [==============================] - 18s 16ms/step - loss: 0.0025 - mape: 2738.5508 - mae: 0.0369 - val_loss: 0.0082 - val_mape: 36.5911 - val_mae: 0.0603\n",
      "Epoch 34/100\n",
      "1105/1105 [==============================] - 18s 17ms/step - loss: 0.0025 - mape: 2947.3972 - mae: 0.0367 - val_loss: 0.0075 - val_mape: 34.9382 - val_mae: 0.0564\n",
      "Epoch 35/100\n",
      "1105/1105 [==============================] - 19s 17ms/step - loss: 0.0024 - mape: 2512.9368 - mae: 0.0363 - val_loss: 0.0074 - val_mape: 36.3770 - val_mae: 0.0563\n",
      "Epoch 36/100\n",
      "1105/1105 [==============================] - 20s 18ms/step - loss: 0.0024 - mape: 2633.5537 - mae: 0.0362 - val_loss: 0.0074 - val_mape: 33.7965 - val_mae: 0.0560\n",
      "Epoch 37/100\n",
      "1105/1105 [==============================] - 20s 18ms/step - loss: 0.0024 - mape: 2999.6597 - mae: 0.0359 - val_loss: 0.0078 - val_mape: 36.0280 - val_mae: 0.0574\n",
      "Epoch 38/100\n",
      "1105/1105 [==============================] - 20s 18ms/step - loss: 0.0023 - mape: 2779.7605 - mae: 0.0356 - val_loss: 0.0087 - val_mape: 35.4655 - val_mae: 0.0634\n",
      "Epoch 39/100\n",
      "1105/1105 [==============================] - 20s 18ms/step - loss: 0.0023 - mape: 2623.4548 - mae: 0.0353 - val_loss: 0.0073 - val_mape: 34.5478 - val_mae: 0.0566\n",
      "Epoch 40/100\n",
      "1105/1105 [==============================] - 20s 18ms/step - loss: 0.0023 - mape: 2748.1946 - mae: 0.0352 - val_loss: 0.0080 - val_mape: 33.7389 - val_mae: 0.0584\n",
      "Epoch 41/100\n",
      "1105/1105 [==============================] - 20s 18ms/step - loss: 0.0022 - mape: 2939.5120 - mae: 0.0349 - val_loss: 0.0078 - val_mape: 37.2702 - val_mae: 0.0573\n",
      "Epoch 42/100\n",
      "1105/1105 [==============================] - 20s 18ms/step - loss: 0.0022 - mape: 2693.6150 - mae: 0.0347 - val_loss: 0.0089 - val_mape: 33.8681 - val_mae: 0.0626\n",
      "Epoch 43/100\n",
      "1105/1105 [==============================] - 20s 19ms/step - loss: 0.0022 - mape: 2765.1064 - mae: 0.0343 - val_loss: 0.0090 - val_mape: 35.3400 - val_mae: 0.0628\n",
      "Epoch 44/100\n",
      "1105/1105 [==============================] - 20s 18ms/step - loss: 0.0022 - mape: 2796.7915 - mae: 0.0343 - val_loss: 0.0083 - val_mape: 36.1370 - val_mae: 0.0595\n",
      "Epoch 45/100\n",
      "1105/1105 [==============================] - 21s 19ms/step - loss: 0.0021 - mape: 2826.8254 - mae: 0.0339 - val_loss: 0.0082 - val_mape: 39.2254 - val_mae: 0.0598\n",
      "Epoch 46/100\n",
      "1105/1105 [==============================] - 20s 18ms/step - loss: 0.0021 - mape: 2550.8689 - mae: 0.0339 - val_loss: 0.0079 - val_mape: 36.8792 - val_mae: 0.0589\n",
      "Epoch 47/100\n"
     ]
    },
    {
     "name": "stdout",
     "output_type": "stream",
     "text": [
      "1105/1105 [==============================] - 19s 18ms/step - loss: 0.0020 - mape: 2565.8296 - mae: 0.0333 - val_loss: 0.0078 - val_mape: 38.0845 - val_mae: 0.0586\n",
      "Epoch 48/100\n",
      "1105/1105 [==============================] - 20s 18ms/step - loss: 0.0021 - mape: 3021.9573 - mae: 0.0335 - val_loss: 0.0080 - val_mape: 37.0233 - val_mae: 0.0588\n",
      "Epoch 49/100\n",
      "1105/1105 [==============================] - 19s 17ms/step - loss: 0.0020 - mape: 2534.1599 - mae: 0.0330 - val_loss: 0.0078 - val_mape: 39.4168 - val_mae: 0.0578\n",
      "Epoch 50/100\n",
      "1105/1105 [==============================] - 19s 17ms/step - loss: 0.0019 - mape: 2642.2864 - mae: 0.0326 - val_loss: 0.0078 - val_mape: 39.2801 - val_mae: 0.0587\n",
      "Epoch 51/100\n",
      "1105/1105 [==============================] - 19s 17ms/step - loss: 0.0019 - mape: 2623.6799 - mae: 0.0323 - val_loss: 0.0079 - val_mape: 42.7319 - val_mae: 0.0590\n",
      "Epoch 52/100\n",
      "1105/1105 [==============================] - 18s 16ms/step - loss: 0.0019 - mape: 2627.8906 - mae: 0.0323 - val_loss: 0.0072 - val_mape: 41.4618 - val_mae: 0.0582\n",
      "Epoch 53/100\n",
      "1105/1105 [==============================] - 18s 16ms/step - loss: 0.0019 - mape: 3122.6135 - mae: 0.0322 - val_loss: 0.0079 - val_mape: 37.2344 - val_mae: 0.0595\n",
      "Epoch 54/100\n",
      "1105/1105 [==============================] - 17s 16ms/step - loss: 0.0018 - mape: 2858.3765 - mae: 0.0318 - val_loss: 0.0082 - val_mape: 37.6132 - val_mae: 0.0611\n",
      "Epoch 55/100\n",
      "1105/1105 [==============================] - 17s 16ms/step - loss: 0.0018 - mape: 2825.6594 - mae: 0.0318 - val_loss: 0.0079 - val_mape: 38.1722 - val_mae: 0.0599\n",
      "Epoch 56/100\n",
      "1105/1105 [==============================] - 17s 16ms/step - loss: 0.0018 - mape: 2833.0786 - mae: 0.0312 - val_loss: 0.0097 - val_mape: 40.4776 - val_mae: 0.0677\n",
      "Epoch 57/100\n",
      "1105/1105 [==============================] - 17s 16ms/step - loss: 0.0017 - mape: 2808.4453 - mae: 0.0310 - val_loss: 0.0087 - val_mape: 42.9400 - val_mae: 0.0644\n",
      "Epoch 58/100\n",
      "1105/1105 [==============================] - 17s 16ms/step - loss: 0.0017 - mape: 3049.4961 - mae: 0.0308 - val_loss: 0.0083 - val_mape: 41.0657 - val_mae: 0.0614\n",
      "Epoch 59/100\n",
      "1105/1105 [==============================] - 17s 16ms/step - loss: 0.0017 - mape: 2963.9460 - mae: 0.0306 - val_loss: 0.0083 - val_mape: 42.8619 - val_mae: 0.0608\n",
      "Epoch 60/100\n",
      "1105/1105 [==============================] - 17s 15ms/step - loss: 0.0017 - mape: 2742.4202 - mae: 0.0303 - val_loss: 0.0084 - val_mape: 43.6443 - val_mae: 0.0635\n",
      "Epoch 61/100\n",
      "1105/1105 [==============================] - 17s 15ms/step - loss: 0.0016 - mape: 2809.3674 - mae: 0.0301 - val_loss: 0.0091 - val_mape: 40.4830 - val_mae: 0.0639\n",
      "Epoch 62/100\n",
      "1105/1105 [==============================] - 17s 15ms/step - loss: 0.0016 - mape: 2732.8765 - mae: 0.0299 - val_loss: 0.0086 - val_mape: 40.9941 - val_mae: 0.0608\n",
      "Epoch 63/100\n",
      "1105/1105 [==============================] - 17s 15ms/step - loss: 0.0016 - mape: 2586.9932 - mae: 0.0296 - val_loss: 0.0092 - val_mape: 41.8103 - val_mae: 0.0647\n",
      "Epoch 64/100\n",
      "1105/1105 [==============================] - 17s 15ms/step - loss: 0.0016 - mape: 2819.7656 - mae: 0.0296 - val_loss: 0.0088 - val_mape: 43.5442 - val_mae: 0.0636\n",
      "Epoch 65/100\n",
      "1105/1105 [==============================] - 16s 15ms/step - loss: 0.0016 - mape: 2922.3982 - mae: 0.0296 - val_loss: 0.0083 - val_mape: 39.6673 - val_mae: 0.0597\n",
      "Epoch 66/100\n",
      "1105/1105 [==============================] - 15s 14ms/step - loss: 0.0015 - mape: 3191.3838 - mae: 0.0292 - val_loss: 0.0077 - val_mape: 42.4630 - val_mae: 0.0586\n",
      "Epoch 67/100\n",
      "1105/1105 [==============================] - 15s 14ms/step - loss: 0.0015 - mape: 3060.1912 - mae: 0.0288 - val_loss: 0.0081 - val_mape: 42.5303 - val_mae: 0.0616\n",
      "Epoch 68/100\n",
      "1105/1105 [==============================] - 15s 14ms/step - loss: 0.0015 - mape: 2704.8308 - mae: 0.0287 - val_loss: 0.0080 - val_mape: 40.3100 - val_mae: 0.0590\n",
      "Epoch 69/100\n",
      "1105/1105 [==============================] - 15s 14ms/step - loss: 0.0015 - mape: 2823.7126 - mae: 0.0286 - val_loss: 0.0095 - val_mape: 41.4992 - val_mae: 0.0657\n",
      "Epoch 70/100\n",
      "1105/1105 [==============================] - 15s 14ms/step - loss: 0.0015 - mape: 2801.4524 - mae: 0.0284 - val_loss: 0.0083 - val_mape: 46.1825 - val_mae: 0.0617\n",
      "Epoch 71/100\n",
      "1105/1105 [==============================] - 15s 14ms/step - loss: 0.0014 - mape: 2923.5867 - mae: 0.0283 - val_loss: 0.0092 - val_mape: 45.4979 - val_mae: 0.0656\n",
      "Epoch 72/100\n",
      "1105/1105 [==============================] - 15s 14ms/step - loss: 0.0014 - mape: 2876.8875 - mae: 0.0280 - val_loss: 0.0091 - val_mape: 41.0989 - val_mae: 0.0651\n",
      "Epoch 73/100\n",
      "1105/1105 [==============================] - 15s 14ms/step - loss: 0.0014 - mape: 3048.7305 - mae: 0.0279 - val_loss: 0.0095 - val_mape: 41.4174 - val_mae: 0.0656\n",
      "Epoch 74/100\n",
      "1105/1105 [==============================] - 15s 14ms/step - loss: 0.0014 - mape: 3146.9248 - mae: 0.0278 - val_loss: 0.0083 - val_mape: 44.8762 - val_mae: 0.0612\n",
      "Epoch 75/100\n",
      "1105/1105 [==============================] - 15s 14ms/step - loss: 0.0014 - mape: 3068.5837 - mae: 0.0277 - val_loss: 0.0095 - val_mape: 46.3198 - val_mae: 0.0651\n",
      "Epoch 76/100\n",
      "1105/1105 [==============================] - 15s 14ms/step - loss: 0.0013 - mape: 3044.8569 - mae: 0.0272 - val_loss: 0.0097 - val_mape: 48.9234 - val_mae: 0.0662\n",
      "Epoch 77/100\n",
      "1105/1105 [==============================] - 15s 14ms/step - loss: 0.0013 - mape: 2658.2607 - mae: 0.0269 - val_loss: 0.0090 - val_mape: 46.6752 - val_mae: 0.0634\n",
      "Epoch 78/100\n",
      "1105/1105 [==============================] - 15s 14ms/step - loss: 0.0014 - mape: 2714.7798 - mae: 0.0274 - val_loss: 0.0092 - val_mape: 45.4357 - val_mae: 0.0642\n",
      "Epoch 79/100\n",
      "1105/1105 [==============================] - 15s 14ms/step - loss: 0.0013 - mape: 2651.3516 - mae: 0.0267 - val_loss: 0.0090 - val_mape: 44.1475 - val_mae: 0.0651\n",
      "Epoch 80/100\n",
      "1105/1105 [==============================] - 15s 14ms/step - loss: 0.0013 - mape: 2755.6636 - mae: 0.0269 - val_loss: 0.0093 - val_mape: 49.1410 - val_mae: 0.0661\n",
      "Epoch 81/100\n",
      "1105/1105 [==============================] - 15s 14ms/step - loss: 0.0012 - mape: 2945.5203 - mae: 0.0264 - val_loss: 0.0085 - val_mape: 46.0598 - val_mae: 0.0628\n",
      "Epoch 82/100\n",
      "1105/1105 [==============================] - 15s 14ms/step - loss: 0.0013 - mape: 3135.2717 - mae: 0.0264 - val_loss: 0.0082 - val_mape: 43.6602 - val_mae: 0.0617\n",
      "Epoch 83/100\n",
      "1105/1105 [==============================] - 15s 14ms/step - loss: 0.0012 - mape: 3091.8958 - mae: 0.0262 - val_loss: 0.0088 - val_mape: 48.0857 - val_mae: 0.0641\n",
      "Epoch 84/100\n",
      "1105/1105 [==============================] - 16s 14ms/step - loss: 0.0012 - mape: 2992.3528 - mae: 0.0260 - val_loss: 0.0087 - val_mape: 46.7127 - val_mae: 0.0638\n",
      "Epoch 85/100\n",
      "1105/1105 [==============================] - 15s 14ms/step - loss: 0.0012 - mape: 2806.7478 - mae: 0.0259 - val_loss: 0.0090 - val_mape: 48.2039 - val_mae: 0.0652\n",
      "Epoch 86/100\n",
      "1105/1105 [==============================] - 15s 14ms/step - loss: 0.0012 - mape: 3090.0864 - mae: 0.0256 - val_loss: 0.0090 - val_mape: 46.4975 - val_mae: 0.0659\n",
      "Epoch 87/100\n",
      "1105/1105 [==============================] - 15s 14ms/step - loss: 0.0012 - mape: 2743.5344 - mae: 0.0257 - val_loss: 0.0084 - val_mape: 43.5841 - val_mae: 0.0626\n",
      "Epoch 88/100\n",
      "1105/1105 [==============================] - 15s 14ms/step - loss: 0.0012 - mape: 3009.7351 - mae: 0.0253 - val_loss: 0.0086 - val_mape: 47.7622 - val_mae: 0.0646\n",
      "Epoch 89/100\n",
      "1105/1105 [==============================] - 15s 14ms/step - loss: 0.0011 - mape: 2924.8535 - mae: 0.0253 - val_loss: 0.0093 - val_mape: 46.0167 - val_mae: 0.0666\n",
      "Epoch 90/100\n",
      "1105/1105 [==============================] - 15s 14ms/step - loss: 0.0012 - mape: 3098.0935 - mae: 0.0254 - val_loss: 0.0086 - val_mape: 46.9227 - val_mae: 0.0657\n",
      "Epoch 91/100\n",
      "1105/1105 [==============================] - 15s 14ms/step - loss: 0.0011 - mape: 2799.3665 - mae: 0.0253 - val_loss: 0.0093 - val_mape: 45.5807 - val_mae: 0.0674\n",
      "Epoch 92/100\n",
      "1105/1105 [==============================] - 15s 14ms/step - loss: 0.0011 - mape: 3050.5776 - mae: 0.0248 - val_loss: 0.0092 - val_mape: 46.9298 - val_mae: 0.0663\n",
      "Epoch 93/100\n"
     ]
    },
    {
     "name": "stdout",
     "output_type": "stream",
     "text": [
      "1105/1105 [==============================] - 15s 14ms/step - loss: 0.0011 - mape: 3049.0110 - mae: 0.0248 - val_loss: 0.0083 - val_mape: 46.5716 - val_mae: 0.0636\n",
      "Epoch 94/100\n",
      "1105/1105 [==============================] - 15s 14ms/step - loss: 0.0011 - mape: 2669.8904 - mae: 0.0248 - val_loss: 0.0085 - val_mape: 46.0209 - val_mae: 0.0639\n",
      "Epoch 95/100\n",
      "1105/1105 [==============================] - 15s 14ms/step - loss: 0.0010 - mape: 2883.0830 - mae: 0.0242 - val_loss: 0.0088 - val_mape: 46.5222 - val_mae: 0.0663\n",
      "Epoch 96/100\n",
      "1105/1105 [==============================] - 15s 14ms/step - loss: 0.0011 - mape: 3030.6406 - mae: 0.0244 - val_loss: 0.0087 - val_mape: 46.6338 - val_mae: 0.0648\n",
      "Epoch 97/100\n",
      "1105/1105 [==============================] - 15s 14ms/step - loss: 0.0011 - mape: 3061.6926 - mae: 0.0246 - val_loss: 0.0090 - val_mape: 47.7488 - val_mae: 0.0667\n",
      "Epoch 98/100\n",
      "1105/1105 [==============================] - 15s 14ms/step - loss: 0.0010 - mape: 2918.4634 - mae: 0.0240 - val_loss: 0.0090 - val_mape: 45.7467 - val_mae: 0.0657\n",
      "Epoch 99/100\n",
      "1105/1105 [==============================] - 16s 14ms/step - loss: 0.0010 - mape: 2871.9763 - mae: 0.0238 - val_loss: 0.0087 - val_mape: 45.6756 - val_mae: 0.0636\n",
      "Epoch 100/100\n",
      "1105/1105 [==============================] - 16s 14ms/step - loss: 0.0010 - mape: 3003.1143 - mae: 0.0238 - val_loss: 0.0093 - val_mape: 50.5308 - val_mae: 0.0680\n"
     ]
    },
    {
     "data": {
      "text/plain": [
       "<keras.callbacks.History at 0x1da24bce520>"
      ]
     },
     "execution_count": 22,
     "metadata": {},
     "output_type": "execute_result"
    }
   ],
   "source": [
    "model.fit(X_train, Y_train, epochs= epochs, batch_size= batchSize, verbose= 1, shuffle= True, validation_data= (X_valid, Y_valid))"
   ]
  },
  {
   "cell_type": "code",
   "execution_count": 23,
   "id": "cd839153",
   "metadata": {},
   "outputs": [
    {
     "name": "stdout",
     "output_type": "stream",
     "text": [
      "Total execution time in seconds: 1731.761873960495\n"
     ]
    }
   ],
   "source": [
    "calcExecTime = (time.time() - startTime)\n",
    "print('Total execution time in seconds: ' + str(calcExecTime))"
   ]
  },
  {
   "cell_type": "markdown",
   "id": "72aafa74",
   "metadata": {},
   "source": [
    "### MAKING PREDICTIONS AND GENERATING RESULTS"
   ]
  },
  {
   "cell_type": "code",
   "execution_count": 24,
   "id": "259bfb49",
   "metadata": {},
   "outputs": [
    {
     "name": "stdout",
     "output_type": "stream",
     "text": [
      "6/6 [==============================] - 1s 9ms/step\n"
     ]
    }
   ],
   "source": [
    "predictions = model.predict(X_test)"
   ]
  },
  {
   "cell_type": "code",
   "execution_count": 25,
   "id": "2912d431",
   "metadata": {},
   "outputs": [
    {
     "data": {
      "text/plain": [
       "array([0.19205846, 0.17388847, 0.15608777, ..., 0.31883657, 0.27348608,\n",
       "       0.23650986], dtype=float32)"
      ]
     },
     "execution_count": 25,
     "metadata": {},
     "output_type": "execute_result"
    }
   ],
   "source": [
    "predArr = predictions.reshape(predictions.shape[0] * predictions.shape[1], predictions.shape[2]).ravel()\n",
    "predArr"
   ]
  },
  {
   "cell_type": "code",
   "execution_count": 26,
   "id": "b01889f2",
   "metadata": {},
   "outputs": [
    {
     "data": {
      "text/plain": [
       "array([0.45135175, 0.41929074, 0.39828295, ..., 0.28152087, 0.25307728,\n",
       "       0.2245935 ])"
      ]
     },
     "execution_count": 26,
     "metadata": {},
     "output_type": "execute_result"
    }
   ],
   "source": [
    "Y_testArr = Y_test.reshape(Y_test.shape[0] * Y_test.shape[1], Y_test.shape[2]).ravel()\n",
    "Y_testArr"
   ]
  },
  {
   "cell_type": "code",
   "execution_count": 27,
   "id": "799c97e8",
   "metadata": {},
   "outputs": [],
   "source": [
    "def inverse_transform(df):\n",
    "    column_names = df.columns\n",
    "    for col in column_names:\n",
    "        df[col] = ValScaler.inverse_transform(df[[col]]) \n",
    "    return df"
   ]
  },
  {
   "cell_type": "code",
   "execution_count": 28,
   "id": "afa81e30",
   "metadata": {},
   "outputs": [
    {
     "data": {
      "text/html": [
       "<div>\n",
       "<style scoped>\n",
       "    .dataframe tbody tr th:only-of-type {\n",
       "        vertical-align: middle;\n",
       "    }\n",
       "\n",
       "    .dataframe tbody tr th {\n",
       "        vertical-align: top;\n",
       "    }\n",
       "\n",
       "    .dataframe thead th {\n",
       "        text-align: right;\n",
       "    }\n",
       "</style>\n",
       "<table border=\"1\" class=\"dataframe\">\n",
       "  <thead>\n",
       "    <tr style=\"text-align: right;\">\n",
       "      <th></th>\n",
       "      <th>Values</th>\n",
       "      <th>Predictions</th>\n",
       "    </tr>\n",
       "  </thead>\n",
       "  <tbody>\n",
       "    <tr>\n",
       "      <th>0</th>\n",
       "      <td>6755.9</td>\n",
       "      <td>4820.562012</td>\n",
       "    </tr>\n",
       "    <tr>\n",
       "      <th>1</th>\n",
       "      <td>6516.6</td>\n",
       "      <td>4684.942871</td>\n",
       "    </tr>\n",
       "    <tr>\n",
       "      <th>2</th>\n",
       "      <td>6359.8</td>\n",
       "      <td>4552.080078</td>\n",
       "    </tr>\n",
       "    <tr>\n",
       "      <th>3</th>\n",
       "      <td>6324.5</td>\n",
       "      <td>4459.239258</td>\n",
       "    </tr>\n",
       "    <tr>\n",
       "      <th>4</th>\n",
       "      <td>6495.6</td>\n",
       "      <td>4483.193359</td>\n",
       "    </tr>\n",
       "    <tr>\n",
       "      <th>...</th>\n",
       "      <td>...</td>\n",
       "      <td>...</td>\n",
       "    </tr>\n",
       "    <tr>\n",
       "      <th>4363</th>\n",
       "      <td>5909.3</td>\n",
       "      <td>6182.153809</td>\n",
       "    </tr>\n",
       "    <tr>\n",
       "      <th>4364</th>\n",
       "      <td>5689.2</td>\n",
       "      <td>6006.617188</td>\n",
       "    </tr>\n",
       "    <tr>\n",
       "      <th>4365</th>\n",
       "      <td>5488.3</td>\n",
       "      <td>5766.820312</td>\n",
       "    </tr>\n",
       "    <tr>\n",
       "      <th>4366</th>\n",
       "      <td>5276.0</td>\n",
       "      <td>5428.329102</td>\n",
       "    </tr>\n",
       "    <tr>\n",
       "      <th>4367</th>\n",
       "      <td>5063.4</td>\n",
       "      <td>5152.342285</td>\n",
       "    </tr>\n",
       "  </tbody>\n",
       "</table>\n",
       "<p>4368 rows × 2 columns</p>\n",
       "</div>"
      ],
      "text/plain": [
       "      Values  Predictions\n",
       "0     6755.9  4820.562012\n",
       "1     6516.6  4684.942871\n",
       "2     6359.8  4552.080078\n",
       "3     6324.5  4459.239258\n",
       "4     6495.6  4483.193359\n",
       "...      ...          ...\n",
       "4363  5909.3  6182.153809\n",
       "4364  5689.2  6006.617188\n",
       "4365  5488.3  5766.820312\n",
       "4366  5276.0  5428.329102\n",
       "4367  5063.4  5152.342285\n",
       "\n",
       "[4368 rows x 2 columns]"
      ]
     },
     "execution_count": 28,
     "metadata": {},
     "output_type": "execute_result"
    }
   ],
   "source": [
    "comparisionDf = pd.DataFrame(data= {\"Values\": Y_testArr, \"Predictions\": predArr})\n",
    "comparisionDf = inverse_transform(comparisionDf)\n",
    "comparisionDf"
   ]
  },
  {
   "cell_type": "code",
   "execution_count": 29,
   "id": "88222bae",
   "metadata": {},
   "outputs": [
    {
     "data": {
      "text/plain": [
       "8.32387868945907"
      ]
     },
     "execution_count": 29,
     "metadata": {},
     "output_type": "execute_result"
    }
   ],
   "source": [
    "mape(comparisionDf[\"Values\"], comparisionDf[\"Predictions\"])"
   ]
  }
 ],
 "metadata": {
  "kernelspec": {
   "display_name": "Python 3 (ipykernel)",
   "language": "python",
   "name": "python3"
  },
  "language_info": {
   "codemirror_mode": {
    "name": "ipython",
    "version": 3
   },
   "file_extension": ".py",
   "mimetype": "text/x-python",
   "name": "python",
   "nbconvert_exporter": "python",
   "pygments_lexer": "ipython3",
   "version": "3.9.12"
  }
 },
 "nbformat": 4,
 "nbformat_minor": 5
}
