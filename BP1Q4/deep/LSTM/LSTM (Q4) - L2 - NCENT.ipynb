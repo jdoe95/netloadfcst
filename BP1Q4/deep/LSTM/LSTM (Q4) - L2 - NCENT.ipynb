{
 "cells": [
  {
   "cell_type": "code",
   "execution_count": 1,
   "id": "5f61b29f",
   "metadata": {},
   "outputs": [
    {
     "name": "stdout",
     "output_type": "stream",
     "text": [
      "Num GPUs Available:  1\n"
     ]
    }
   ],
   "source": [
    "import pandas as pd\n",
    "import numpy as np\n",
    "import os\n",
    "import matplotlib.pyplot as plt\n",
    "from datetime import datetime\n",
    "from sklearn.preprocessing import MinMaxScaler, RobustScaler, StandardScaler\n",
    "import time\n",
    "\n",
    "import tensorflow as tf\n",
    "tf.random.set_seed(42)\n",
    "\n",
    "def mape(y_true, y_pred):\n",
    "    y_true, y_pred = np.array(y_true), np.array(y_pred)\n",
    "    return np.mean(np.abs((y_true - y_pred) / max(y_true))) * 100\n",
    "\n",
    "def RMSELoss(yhat,y):\n",
    "    return torch.sqrt(torch.mean((yhat-y)**2))\n",
    "\n",
    "print(\"Num GPUs Available: \", len(tf.config.list_physical_devices('GPU')))"
   ]
  },
  {
   "cell_type": "code",
   "execution_count": 2,
   "id": "cea0abe2",
   "metadata": {},
   "outputs": [
    {
     "name": "stdout",
     "output_type": "stream",
     "text": [
      "['COAST.csv', 'EAST.csv', 'FWEST.csv', 'NCENT.csv', 'NORTH.csv', 'SCENT.csv', 'SOUTH.csv', 'WEST.csv']\n"
     ]
    }
   ],
   "source": [
    "# Specifying the path of file\n",
    "path= r\"C:\\Users\\sashah8\\OneDrive - North Carolina State University\\Desktop\\Q4\\Data\\L2\\data_cleaned\"\n",
    "\n",
    "# Listing just the required files\n",
    "fileList = os.listdir(path)\n",
    "fileList.remove(\"Date.csv\")\n",
    "\n",
    "# Previewing the required file names\n",
    "print(fileList)"
   ]
  },
  {
   "cell_type": "code",
   "execution_count": 3,
   "id": "a6fe9396",
   "metadata": {},
   "outputs": [
    {
     "data": {
      "text/html": [
       "<div>\n",
       "<style scoped>\n",
       "    .dataframe tbody tr th:only-of-type {\n",
       "        vertical-align: middle;\n",
       "    }\n",
       "\n",
       "    .dataframe tbody tr th {\n",
       "        vertical-align: top;\n",
       "    }\n",
       "\n",
       "    .dataframe thead th {\n",
       "        text-align: right;\n",
       "    }\n",
       "</style>\n",
       "<table border=\"1\" class=\"dataframe\">\n",
       "  <thead>\n",
       "    <tr style=\"text-align: right;\">\n",
       "      <th></th>\n",
       "      <th>Net</th>\n",
       "      <th>Temprature</th>\n",
       "    </tr>\n",
       "  </thead>\n",
       "  <tbody>\n",
       "    <tr>\n",
       "      <th>0</th>\n",
       "      <td>13640.024978</td>\n",
       "      <td>4.6</td>\n",
       "    </tr>\n",
       "    <tr>\n",
       "      <th>1</th>\n",
       "      <td>13425.121941</td>\n",
       "      <td>4.6</td>\n",
       "    </tr>\n",
       "    <tr>\n",
       "      <th>2</th>\n",
       "      <td>13286.070909</td>\n",
       "      <td>4.5</td>\n",
       "    </tr>\n",
       "    <tr>\n",
       "      <th>3</th>\n",
       "      <td>13310.892590</td>\n",
       "      <td>4.3</td>\n",
       "    </tr>\n",
       "    <tr>\n",
       "      <th>4</th>\n",
       "      <td>13423.345503</td>\n",
       "      <td>3.9</td>\n",
       "    </tr>\n",
       "    <tr>\n",
       "      <th>...</th>\n",
       "      <td>...</td>\n",
       "      <td>...</td>\n",
       "    </tr>\n",
       "    <tr>\n",
       "      <th>43818</th>\n",
       "      <td>13164.660616</td>\n",
       "      <td>13.4</td>\n",
       "    </tr>\n",
       "    <tr>\n",
       "      <th>43819</th>\n",
       "      <td>12928.911509</td>\n",
       "      <td>13.8</td>\n",
       "    </tr>\n",
       "    <tr>\n",
       "      <th>43820</th>\n",
       "      <td>12716.274141</td>\n",
       "      <td>13.7</td>\n",
       "    </tr>\n",
       "    <tr>\n",
       "      <th>43821</th>\n",
       "      <td>12413.090126</td>\n",
       "      <td>12.5</td>\n",
       "    </tr>\n",
       "    <tr>\n",
       "      <th>43822</th>\n",
       "      <td>12084.775970</td>\n",
       "      <td>9.1</td>\n",
       "    </tr>\n",
       "  </tbody>\n",
       "</table>\n",
       "<p>43823 rows × 2 columns</p>\n",
       "</div>"
      ],
      "text/plain": [
       "                Net  Temprature\n",
       "0      13640.024978         4.6\n",
       "1      13425.121941         4.6\n",
       "2      13286.070909         4.5\n",
       "3      13310.892590         4.3\n",
       "4      13423.345503         3.9\n",
       "...             ...         ...\n",
       "43818  13164.660616        13.4\n",
       "43819  12928.911509        13.8\n",
       "43820  12716.274141        13.7\n",
       "43821  12413.090126        12.5\n",
       "43822  12084.775970         9.1\n",
       "\n",
       "[43823 rows x 2 columns]"
      ]
     },
     "execution_count": 3,
     "metadata": {},
     "output_type": "execute_result"
    }
   ],
   "source": [
    "# Just for previewing the columns\n",
    "pd.read_csv(os.path.join(path, fileList[3]))"
   ]
  },
  {
   "cell_type": "markdown",
   "id": "9ad4906c",
   "metadata": {
    "pycharm": {
     "name": "#%% md\n"
    }
   },
   "source": [
    "### PROCESSING THE DATA"
   ]
  },
  {
   "cell_type": "code",
   "execution_count": 4,
   "id": "f29f6db2",
   "metadata": {},
   "outputs": [
    {
     "data": {
      "text/html": [
       "<div>\n",
       "<style scoped>\n",
       "    .dataframe tbody tr th:only-of-type {\n",
       "        vertical-align: middle;\n",
       "    }\n",
       "\n",
       "    .dataframe tbody tr th {\n",
       "        vertical-align: top;\n",
       "    }\n",
       "\n",
       "    .dataframe thead th {\n",
       "        text-align: right;\n",
       "    }\n",
       "</style>\n",
       "<table border=\"1\" class=\"dataframe\">\n",
       "  <thead>\n",
       "    <tr style=\"text-align: right;\">\n",
       "      <th></th>\n",
       "      <th>Load_NCENT</th>\n",
       "      <th>Temp_NCENT</th>\n",
       "    </tr>\n",
       "  </thead>\n",
       "  <tbody>\n",
       "    <tr>\n",
       "      <th>0</th>\n",
       "      <td>13640.024978</td>\n",
       "      <td>4.6</td>\n",
       "    </tr>\n",
       "    <tr>\n",
       "      <th>1</th>\n",
       "      <td>13640.024978</td>\n",
       "      <td>4.6</td>\n",
       "    </tr>\n",
       "    <tr>\n",
       "      <th>2</th>\n",
       "      <td>13425.121941</td>\n",
       "      <td>4.6</td>\n",
       "    </tr>\n",
       "    <tr>\n",
       "      <th>3</th>\n",
       "      <td>13286.070909</td>\n",
       "      <td>4.5</td>\n",
       "    </tr>\n",
       "    <tr>\n",
       "      <th>4</th>\n",
       "      <td>13310.892590</td>\n",
       "      <td>4.3</td>\n",
       "    </tr>\n",
       "    <tr>\n",
       "      <th>...</th>\n",
       "      <td>...</td>\n",
       "      <td>...</td>\n",
       "    </tr>\n",
       "    <tr>\n",
       "      <th>43819</th>\n",
       "      <td>13164.660616</td>\n",
       "      <td>13.4</td>\n",
       "    </tr>\n",
       "    <tr>\n",
       "      <th>43820</th>\n",
       "      <td>12928.911509</td>\n",
       "      <td>13.8</td>\n",
       "    </tr>\n",
       "    <tr>\n",
       "      <th>43821</th>\n",
       "      <td>12716.274141</td>\n",
       "      <td>13.7</td>\n",
       "    </tr>\n",
       "    <tr>\n",
       "      <th>43822</th>\n",
       "      <td>12413.090126</td>\n",
       "      <td>12.5</td>\n",
       "    </tr>\n",
       "    <tr>\n",
       "      <th>43823</th>\n",
       "      <td>12084.775970</td>\n",
       "      <td>9.1</td>\n",
       "    </tr>\n",
       "  </tbody>\n",
       "</table>\n",
       "<p>43824 rows × 2 columns</p>\n",
       "</div>"
      ],
      "text/plain": [
       "         Load_NCENT  Temp_NCENT\n",
       "0      13640.024978         4.6\n",
       "1      13640.024978         4.6\n",
       "2      13425.121941         4.6\n",
       "3      13286.070909         4.5\n",
       "4      13310.892590         4.3\n",
       "...             ...         ...\n",
       "43819  13164.660616        13.4\n",
       "43820  12928.911509        13.8\n",
       "43821  12716.274141        13.7\n",
       "43822  12413.090126        12.5\n",
       "43823  12084.775970         9.1\n",
       "\n",
       "[43824 rows x 2 columns]"
      ]
     },
     "execution_count": 4,
     "metadata": {},
     "output_type": "execute_result"
    }
   ],
   "source": [
    "# Restricting the load data to a single zone\n",
    "fileName  = fileList[3]\n",
    "\n",
    "zoneData = pd.read_csv(os.path.join(path, fileName))\n",
    "zoneData.columns = [\"Load_\"+str(fileName[:-4]), \"Temp_\"+str(fileName[:-4])]\n",
    "\n",
    "# For fixing one missing row\n",
    "zoneData = pd.concat([zoneData.loc[[0]], zoneData], axis= 0).reset_index(drop= True)\n",
    "\n",
    "zoneData"
   ]
  },
  {
   "cell_type": "markdown",
   "id": "01cec4bd",
   "metadata": {},
   "source": [
    "### FEATURE ENGINEERING AND SPLITTING INTO TRAIN-TEST SPLIT"
   ]
  },
  {
   "cell_type": "code",
   "execution_count": 5,
   "id": "a1e1e8a3",
   "metadata": {},
   "outputs": [],
   "source": [
    "def lagGenerator(dF, lagList):\n",
    "    dF_temp = dF.filter(regex= \"Load\").copy()\n",
    "    \n",
    "    for i in lagList:\n",
    "        dF_temp.loc[:, \"Lag-\" + str(i)] = dF_temp.iloc[:,[0]].shift(i*24)\n",
    "    \n",
    "    return(dF_temp.filter(regex= \"Lag\"))"
   ]
  },
  {
   "cell_type": "code",
   "execution_count": 6,
   "id": "159a2a82",
   "metadata": {},
   "outputs": [
    {
     "data": {
      "text/html": [
       "<div>\n",
       "<style scoped>\n",
       "    .dataframe tbody tr th:only-of-type {\n",
       "        vertical-align: middle;\n",
       "    }\n",
       "\n",
       "    .dataframe tbody tr th {\n",
       "        vertical-align: top;\n",
       "    }\n",
       "\n",
       "    .dataframe thead th {\n",
       "        text-align: right;\n",
       "    }\n",
       "</style>\n",
       "<table border=\"1\" class=\"dataframe\">\n",
       "  <thead>\n",
       "    <tr style=\"text-align: right;\">\n",
       "      <th></th>\n",
       "      <th>Lag-2</th>\n",
       "      <th>Lag-7</th>\n",
       "    </tr>\n",
       "  </thead>\n",
       "  <tbody>\n",
       "    <tr>\n",
       "      <th>0</th>\n",
       "      <td>NaN</td>\n",
       "      <td>NaN</td>\n",
       "    </tr>\n",
       "    <tr>\n",
       "      <th>1</th>\n",
       "      <td>NaN</td>\n",
       "      <td>NaN</td>\n",
       "    </tr>\n",
       "  </tbody>\n",
       "</table>\n",
       "</div>"
      ],
      "text/plain": [
       "   Lag-2  Lag-7\n",
       "0    NaN    NaN\n",
       "1    NaN    NaN"
      ]
     },
     "execution_count": 6,
     "metadata": {},
     "output_type": "execute_result"
    }
   ],
   "source": [
    "Load_lags = lagGenerator(dF=zoneData, lagList=[2,7])\n",
    "Load_lags.head(2)"
   ]
  },
  {
   "cell_type": "code",
   "execution_count": 7,
   "id": "05896954",
   "metadata": {},
   "outputs": [
    {
     "data": {
      "text/html": [
       "<div>\n",
       "<style scoped>\n",
       "    .dataframe tbody tr th:only-of-type {\n",
       "        vertical-align: middle;\n",
       "    }\n",
       "\n",
       "    .dataframe tbody tr th {\n",
       "        vertical-align: top;\n",
       "    }\n",
       "\n",
       "    .dataframe thead th {\n",
       "        text-align: right;\n",
       "    }\n",
       "</style>\n",
       "<table border=\"1\" class=\"dataframe\">\n",
       "  <thead>\n",
       "    <tr style=\"text-align: right;\">\n",
       "      <th></th>\n",
       "      <th>Load_NCENT</th>\n",
       "      <th>Temp_NCENT</th>\n",
       "      <th>Lag-2</th>\n",
       "      <th>Lag-7</th>\n",
       "    </tr>\n",
       "  </thead>\n",
       "  <tbody>\n",
       "    <tr>\n",
       "      <th>0</th>\n",
       "      <td>17906.589200</td>\n",
       "      <td>4.6</td>\n",
       "      <td>13710.913700</td>\n",
       "      <td>13640.024978</td>\n",
       "    </tr>\n",
       "    <tr>\n",
       "      <th>1</th>\n",
       "      <td>17453.598477</td>\n",
       "      <td>3.0</td>\n",
       "      <td>13179.594044</td>\n",
       "      <td>13640.024978</td>\n",
       "    </tr>\n",
       "    <tr>\n",
       "      <th>2</th>\n",
       "      <td>17277.881196</td>\n",
       "      <td>1.6</td>\n",
       "      <td>12956.587981</td>\n",
       "      <td>13425.121941</td>\n",
       "    </tr>\n",
       "    <tr>\n",
       "      <th>3</th>\n",
       "      <td>17309.339711</td>\n",
       "      <td>0.2</td>\n",
       "      <td>12929.643478</td>\n",
       "      <td>13286.070909</td>\n",
       "    </tr>\n",
       "    <tr>\n",
       "      <th>4</th>\n",
       "      <td>17505.010490</td>\n",
       "      <td>-1.3</td>\n",
       "      <td>13128.760126</td>\n",
       "      <td>13310.892590</td>\n",
       "    </tr>\n",
       "    <tr>\n",
       "      <th>...</th>\n",
       "      <td>...</td>\n",
       "      <td>...</td>\n",
       "      <td>...</td>\n",
       "      <td>...</td>\n",
       "    </tr>\n",
       "    <tr>\n",
       "      <th>43651</th>\n",
       "      <td>13164.660616</td>\n",
       "      <td>13.4</td>\n",
       "      <td>13575.920065</td>\n",
       "      <td>11434.247698</td>\n",
       "    </tr>\n",
       "    <tr>\n",
       "      <th>43652</th>\n",
       "      <td>12928.911509</td>\n",
       "      <td>13.8</td>\n",
       "      <td>13552.882422</td>\n",
       "      <td>11231.263595</td>\n",
       "    </tr>\n",
       "    <tr>\n",
       "      <th>43653</th>\n",
       "      <td>12716.274141</td>\n",
       "      <td>13.7</td>\n",
       "      <td>13453.520609</td>\n",
       "      <td>11031.084524</td>\n",
       "    </tr>\n",
       "    <tr>\n",
       "      <th>43654</th>\n",
       "      <td>12413.090126</td>\n",
       "      <td>12.5</td>\n",
       "      <td>12987.897930</td>\n",
       "      <td>10749.333909</td>\n",
       "    </tr>\n",
       "    <tr>\n",
       "      <th>43655</th>\n",
       "      <td>12084.775970</td>\n",
       "      <td>9.1</td>\n",
       "      <td>12483.833157</td>\n",
       "      <td>10336.276556</td>\n",
       "    </tr>\n",
       "  </tbody>\n",
       "</table>\n",
       "<p>43656 rows × 4 columns</p>\n",
       "</div>"
      ],
      "text/plain": [
       "         Load_NCENT  Temp_NCENT         Lag-2         Lag-7\n",
       "0      17906.589200         4.6  13710.913700  13640.024978\n",
       "1      17453.598477         3.0  13179.594044  13640.024978\n",
       "2      17277.881196         1.6  12956.587981  13425.121941\n",
       "3      17309.339711         0.2  12929.643478  13286.070909\n",
       "4      17505.010490        -1.3  13128.760126  13310.892590\n",
       "...             ...         ...           ...           ...\n",
       "43651  13164.660616        13.4  13575.920065  11434.247698\n",
       "43652  12928.911509        13.8  13552.882422  11231.263595\n",
       "43653  12716.274141        13.7  13453.520609  11031.084524\n",
       "43654  12413.090126        12.5  12987.897930  10749.333909\n",
       "43655  12084.775970         9.1  12483.833157  10336.276556\n",
       "\n",
       "[43656 rows x 4 columns]"
      ]
     },
     "execution_count": 7,
     "metadata": {},
     "output_type": "execute_result"
    }
   ],
   "source": [
    "dataDf = pd.concat([zoneData, Load_lags], axis= 1).dropna(axis= 0).reset_index(drop= True)\n",
    "dataDf"
   ]
  },
  {
   "cell_type": "code",
   "execution_count": 8,
   "id": "6ad25321",
   "metadata": {},
   "outputs": [],
   "source": [
    "# Setting the train-test split ratio\n",
    "ratio = 0.1"
   ]
  },
  {
   "cell_type": "code",
   "execution_count": 9,
   "id": "3c08d963",
   "metadata": {},
   "outputs": [],
   "source": [
    "Num_train, Num_test = int(len(dataDf)/24 * (1 - ratio)) * 24, int(len(dataDf)/24 * ratio) * 24"
   ]
  },
  {
   "cell_type": "code",
   "execution_count": 10,
   "id": "cbe069ff",
   "metadata": {},
   "outputs": [],
   "source": [
    "# Splitting the data into train and test\n",
    "data_train, data_test = dataDf[:Num_train], dataDf[Num_train:]"
   ]
  },
  {
   "cell_type": "code",
   "execution_count": 11,
   "id": "d84e15c4",
   "metadata": {},
   "outputs": [],
   "source": [
    "Num_train, Num_valid = int(len(data_train)/24 * (1 - ratio)) * 24, int(len(data_train)/24 * ratio) * 24"
   ]
  },
  {
   "cell_type": "code",
   "execution_count": 12,
   "id": "c17d1723",
   "metadata": {},
   "outputs": [],
   "source": [
    "# Splitting the data into train and test\n",
    "data_train, data_valid = data_train[:Num_train], data_train[Num_train:]"
   ]
  },
  {
   "cell_type": "markdown",
   "id": "88d32011",
   "metadata": {},
   "source": [
    "### SPLITTING INTO X AND Y PART WITH SEQUENCE BATCHING"
   ]
  },
  {
   "cell_type": "code",
   "execution_count": 13,
   "id": "4ba286ca",
   "metadata": {},
   "outputs": [],
   "source": [
    "X_train_df, Y_train_df = data_train.iloc[:, 1:], data_train.iloc[:, :1]\n",
    "\n",
    "X_valid_df, Y_valid_df = data_valid.iloc[:, 1:], data_valid.iloc[:, :1]\n",
    "\n",
    "X_test_df, Y_test_df = data_test.iloc[:, 1:], data_test.iloc[:, :1]"
   ]
  },
  {
   "cell_type": "code",
   "execution_count": 14,
   "id": "ef1d9079",
   "metadata": {},
   "outputs": [],
   "source": [
    "# Preparing the scaler\n",
    "ValScaler = MinMaxScaler()\n",
    "\n",
    "X_train = ValScaler.fit_transform(X_train_df)\n",
    "X_valid = ValScaler.transform(X_valid_df)\n",
    "X_test = ValScaler.transform(X_test_df)\n",
    "\n",
    "Y_train = ValScaler.fit_transform(Y_train_df)\n",
    "Y_valid = ValScaler.transform(Y_valid_df)\n",
    "Y_test = ValScaler.transform(Y_test_df)"
   ]
  },
  {
   "cell_type": "code",
   "execution_count": 15,
   "id": "43594401",
   "metadata": {},
   "outputs": [],
   "source": [
    "def splitData(dataset):\n",
    "    data = np.array(np.split(dataset, len(dataset)/24))\n",
    "    return data"
   ]
  },
  {
   "cell_type": "code",
   "execution_count": 16,
   "id": "300696b2",
   "metadata": {},
   "outputs": [],
   "source": [
    "def supervisedSet(X_part, Y_part, steps= 24):\n",
    "    X_array, Y_array = np.array(X_part), np.array(Y_part)\n",
    "    X, Y = [], []\n",
    "    \n",
    "    for i in range(len(X_array)):\n",
    "        endIdx = i + steps\n",
    "        \n",
    "        if endIdx > len(X_array):\n",
    "            break\n",
    "        \n",
    "        batch_X, batch_Y = X_array[i:endIdx], Y_array[i:endIdx]\n",
    "        \n",
    "        X.append(batch_X)\n",
    "        Y.append(batch_Y)\n",
    "        \n",
    "    return np.array(X), np.array(Y)"
   ]
  },
  {
   "cell_type": "code",
   "execution_count": 17,
   "id": "fc9cd97d",
   "metadata": {},
   "outputs": [],
   "source": [
    "X_train, Y_train = supervisedSet(X_train, Y_train)\n",
    "\n",
    "X_valid, Y_valid = splitData(X_valid), splitData(Y_valid)\n",
    "\n",
    "X_test, Y_test = splitData(X_test), splitData(Y_test)"
   ]
  },
  {
   "cell_type": "markdown",
   "id": "a2a6bf32",
   "metadata": {},
   "source": [
    "### WORKING ON THE MODEL"
   ]
  },
  {
   "cell_type": "code",
   "execution_count": 18,
   "id": "ff71a98c",
   "metadata": {},
   "outputs": [],
   "source": [
    "epochs = 100\n",
    "batchSize = 32"
   ]
  },
  {
   "cell_type": "code",
   "execution_count": 19,
   "id": "8d600c17",
   "metadata": {},
   "outputs": [],
   "source": [
    "# Encoder-decoder architecture [tanh required to use tensorflow on gpu]\n",
    "model = tf.keras.Sequential([\n",
    "    tf.keras.layers.LSTM(units= 128, activation= \"tanh\", input_shape= (X_train.shape[1], X_train.shape[2]), dropout= 0.2),\n",
    "    tf.keras.layers.RepeatVector(Y_train.shape[1]),\n",
    "    tf.keras.layers.LSTM(units= 128, activation= \"tanh\", return_sequences= True, dropout= 0.2),\n",
    "    tf.keras.layers.TimeDistributed(tf.keras.layers.Dense(units= 128, activation= \"relu\")),\n",
    "    tf.keras.layers.Dropout(0.2),\n",
    "    tf.keras.layers.TimeDistributed(tf.keras.layers.Dense(units= 1))\n",
    "])\n",
    "\n",
    "model.compile(loss= \"mse\", optimizer= \"adam\",  metrics= ['mape', 'mae'])"
   ]
  },
  {
   "cell_type": "code",
   "execution_count": 20,
   "id": "a05c033a",
   "metadata": {},
   "outputs": [],
   "source": [
    "# model = tf.keras.Sequential([\n",
    "#     tf.keras.layers.LSTM(units= 256, activation= \"tanh\", input_shape= (X_train.shape[1], X_train.shape[2])),\n",
    "#     tf.keras.layers.Dense(units= 128, activation= \"tanh\"),\n",
    "#     tf.keras.layers.Dense(units= 1)\n",
    "# ])\n",
    "\n",
    "# model.compile(loss= \"mse\", optimizer= \"adam\",  metrics= ['mape', 'mae'])"
   ]
  },
  {
   "cell_type": "code",
   "execution_count": 21,
   "id": "c9390383",
   "metadata": {},
   "outputs": [],
   "source": [
    "# Storing the start time of model fitting process\n",
    "startTime = time.time()"
   ]
  },
  {
   "cell_type": "code",
   "execution_count": 22,
   "id": "e526e3ed",
   "metadata": {},
   "outputs": [
    {
     "name": "stdout",
     "output_type": "stream",
     "text": [
      "Epoch 1/100\n",
      "1105/1105 [==============================] - 13s 8ms/step - loss: 0.0125 - mape: 3469.6304 - mae: 0.0837 - val_loss: 0.0061 - val_mape: 28.7888 - val_mae: 0.0614\n",
      "Epoch 2/100\n",
      "1105/1105 [==============================] - 8s 7ms/step - loss: 0.0076 - mape: 2211.6091 - mae: 0.0662 - val_loss: 0.0148 - val_mape: 33.5929 - val_mae: 0.0887\n",
      "Epoch 3/100\n",
      "1105/1105 [==============================] - 8s 7ms/step - loss: 0.0054 - mape: 1975.3279 - mae: 0.0555 - val_loss: 0.0210 - val_mape: 44.2188 - val_mae: 0.1059\n",
      "Epoch 4/100\n",
      "1105/1105 [==============================] - 8s 7ms/step - loss: 0.0048 - mape: 1730.7618 - mae: 0.0522 - val_loss: 0.0181 - val_mape: 37.8049 - val_mae: 0.0984\n",
      "Epoch 5/100\n",
      "1105/1105 [==============================] - 8s 7ms/step - loss: 0.0044 - mape: 1566.1018 - mae: 0.0501 - val_loss: 0.0221 - val_mape: 41.6581 - val_mae: 0.1068\n",
      "Epoch 6/100\n",
      "1105/1105 [==============================] - 8s 7ms/step - loss: 0.0042 - mape: 1734.4047 - mae: 0.0491 - val_loss: 0.0209 - val_mape: 39.2591 - val_mae: 0.1044\n",
      "Epoch 7/100\n",
      "1105/1105 [==============================] - 8s 7ms/step - loss: 0.0041 - mape: 1513.5581 - mae: 0.0481 - val_loss: 0.0202 - val_mape: 42.5400 - val_mae: 0.1097\n",
      "Epoch 8/100\n",
      "1105/1105 [==============================] - 8s 7ms/step - loss: 0.0039 - mape: 1575.5858 - mae: 0.0470 - val_loss: 0.0201 - val_mape: 37.6306 - val_mae: 0.1003\n",
      "Epoch 9/100\n",
      "1105/1105 [==============================] - 8s 7ms/step - loss: 0.0038 - mape: 1498.9706 - mae: 0.0464 - val_loss: 0.0226 - val_mape: 38.2771 - val_mae: 0.1063\n",
      "Epoch 10/100\n",
      "1105/1105 [==============================] - 8s 7ms/step - loss: 0.0037 - mape: 1139.6746 - mae: 0.0454 - val_loss: 0.0220 - val_mape: 36.4838 - val_mae: 0.1032\n",
      "Epoch 11/100\n",
      "1105/1105 [==============================] - 8s 7ms/step - loss: 0.0035 - mape: 1282.0310 - mae: 0.0444 - val_loss: 0.0216 - val_mape: 39.2477 - val_mae: 0.1092\n",
      "Epoch 12/100\n",
      "1105/1105 [==============================] - 9s 8ms/step - loss: 0.0034 - mape: 1355.2712 - mae: 0.0435 - val_loss: 0.0216 - val_mape: 39.3548 - val_mae: 0.1086\n",
      "Epoch 13/100\n",
      "1105/1105 [==============================] - 9s 8ms/step - loss: 0.0034 - mape: 871.3025 - mae: 0.0434 - val_loss: 0.0211 - val_mape: 40.2720 - val_mae: 0.1066\n",
      "Epoch 14/100\n",
      "1105/1105 [==============================] - 9s 8ms/step - loss: 0.0032 - mape: 1184.3123 - mae: 0.0425 - val_loss: 0.0206 - val_mape: 37.3964 - val_mae: 0.1028\n",
      "Epoch 15/100\n",
      "1105/1105 [==============================] - 9s 8ms/step - loss: 0.0032 - mape: 1209.9486 - mae: 0.0424 - val_loss: 0.0204 - val_mape: 39.2563 - val_mae: 0.1051\n",
      "Epoch 16/100\n",
      "1105/1105 [==============================] - 10s 9ms/step - loss: 0.0031 - mape: 1213.2861 - mae: 0.0419 - val_loss: 0.0181 - val_mape: 34.9355 - val_mae: 0.0973\n",
      "Epoch 17/100\n",
      "1105/1105 [==============================] - 9s 9ms/step - loss: 0.0031 - mape: 1155.1221 - mae: 0.0413 - val_loss: 0.0208 - val_mape: 34.7833 - val_mae: 0.1026\n",
      "Epoch 18/100\n",
      "1105/1105 [==============================] - 9s 9ms/step - loss: 0.0030 - mape: 1448.2579 - mae: 0.0412 - val_loss: 0.0194 - val_mape: 33.7555 - val_mae: 0.0977\n",
      "Epoch 19/100\n",
      "1105/1105 [==============================] - 9s 8ms/step - loss: 0.0030 - mape: 1138.9824 - mae: 0.0407 - val_loss: 0.0162 - val_mape: 33.2988 - val_mae: 0.0936\n",
      "Epoch 20/100\n",
      "1105/1105 [==============================] - 9s 8ms/step - loss: 0.0029 - mape: 1049.3176 - mae: 0.0401 - val_loss: 0.0210 - val_mape: 36.4137 - val_mae: 0.1052\n",
      "Epoch 21/100\n",
      "1105/1105 [==============================] - 8s 7ms/step - loss: 0.0028 - mape: 1236.9493 - mae: 0.0397 - val_loss: 0.0194 - val_mape: 37.0519 - val_mae: 0.1026\n",
      "Epoch 22/100\n",
      "1105/1105 [==============================] - 8s 7ms/step - loss: 0.0028 - mape: 996.8970 - mae: 0.0395 - val_loss: 0.0188 - val_mape: 34.5855 - val_mae: 0.0983\n",
      "Epoch 23/100\n",
      "1105/1105 [==============================] - 8s 7ms/step - loss: 0.0028 - mape: 823.7554 - mae: 0.0391 - val_loss: 0.0211 - val_mape: 35.6794 - val_mae: 0.1032\n",
      "Epoch 24/100\n",
      "1105/1105 [==============================] - 8s 7ms/step - loss: 0.0028 - mape: 1304.7863 - mae: 0.0390 - val_loss: 0.0185 - val_mape: 34.1207 - val_mae: 0.0990\n",
      "Epoch 25/100\n",
      "1105/1105 [==============================] - 8s 8ms/step - loss: 0.0027 - mape: 1067.8280 - mae: 0.0387 - val_loss: 0.0203 - val_mape: 36.4080 - val_mae: 0.1033\n",
      "Epoch 26/100\n",
      "1105/1105 [==============================] - 9s 8ms/step - loss: 0.0026 - mape: 1074.6549 - mae: 0.0382 - val_loss: 0.0201 - val_mape: 37.6436 - val_mae: 0.1031\n",
      "Epoch 27/100\n",
      "1105/1105 [==============================] - 8s 7ms/step - loss: 0.0026 - mape: 1266.3612 - mae: 0.0379 - val_loss: 0.0193 - val_mape: 35.0155 - val_mae: 0.0997\n",
      "Epoch 28/100\n",
      "1105/1105 [==============================] - 8s 8ms/step - loss: 0.0026 - mape: 1171.0634 - mae: 0.0381 - val_loss: 0.0166 - val_mape: 33.9526 - val_mae: 0.0938\n",
      "Epoch 29/100\n",
      "1105/1105 [==============================] - 8s 8ms/step - loss: 0.0025 - mape: 1195.2892 - mae: 0.0374 - val_loss: 0.0193 - val_mape: 34.3713 - val_mae: 0.0996\n",
      "Epoch 30/100\n",
      "1105/1105 [==============================] - 8s 8ms/step - loss: 0.0025 - mape: 1315.1733 - mae: 0.0374 - val_loss: 0.0198 - val_mape: 35.8553 - val_mae: 0.1024\n",
      "Epoch 31/100\n",
      "1105/1105 [==============================] - 9s 8ms/step - loss: 0.0025 - mape: 1009.0565 - mae: 0.0368 - val_loss: 0.0180 - val_mape: 34.6769 - val_mae: 0.0972\n",
      "Epoch 32/100\n",
      "1105/1105 [==============================] - 9s 8ms/step - loss: 0.0025 - mape: 1077.3621 - mae: 0.0367 - val_loss: 0.0192 - val_mape: 34.7587 - val_mae: 0.0981\n",
      "Epoch 33/100\n",
      "1105/1105 [==============================] - 9s 8ms/step - loss: 0.0024 - mape: 1177.3857 - mae: 0.0365 - val_loss: 0.0185 - val_mape: 33.0266 - val_mae: 0.0959\n",
      "Epoch 34/100\n",
      "1105/1105 [==============================] - 9s 8ms/step - loss: 0.0024 - mape: 1154.4583 - mae: 0.0364 - val_loss: 0.0214 - val_mape: 35.2076 - val_mae: 0.1052\n",
      "Epoch 35/100\n",
      "1105/1105 [==============================] - 9s 8ms/step - loss: 0.0024 - mape: 1368.5640 - mae: 0.0363 - val_loss: 0.0200 - val_mape: 34.5387 - val_mae: 0.1016\n",
      "Epoch 36/100\n",
      "1105/1105 [==============================] - 9s 8ms/step - loss: 0.0024 - mape: 1130.7465 - mae: 0.0358 - val_loss: 0.0193 - val_mape: 34.8509 - val_mae: 0.1010\n",
      "Epoch 37/100\n",
      "1105/1105 [==============================] - 9s 8ms/step - loss: 0.0023 - mape: 1163.9193 - mae: 0.0356 - val_loss: 0.0180 - val_mape: 34.6349 - val_mae: 0.0970\n",
      "Epoch 38/100\n",
      "1105/1105 [==============================] - 9s 8ms/step - loss: 0.0023 - mape: 926.3980 - mae: 0.0354 - val_loss: 0.0209 - val_mape: 34.1773 - val_mae: 0.1018\n",
      "Epoch 39/100\n",
      "1105/1105 [==============================] - 9s 8ms/step - loss: 0.0022 - mape: 1091.9729 - mae: 0.0350 - val_loss: 0.0195 - val_mape: 34.7454 - val_mae: 0.0989\n",
      "Epoch 40/100\n",
      "1105/1105 [==============================] - 8s 8ms/step - loss: 0.0022 - mape: 1029.8431 - mae: 0.0349 - val_loss: 0.0222 - val_mape: 35.9133 - val_mae: 0.1054\n",
      "Epoch 41/100\n",
      "1105/1105 [==============================] - 8s 7ms/step - loss: 0.0022 - mape: 1034.1577 - mae: 0.0347 - val_loss: 0.0206 - val_mape: 33.8554 - val_mae: 0.1017\n",
      "Epoch 42/100\n",
      "1105/1105 [==============================] - 8s 7ms/step - loss: 0.0022 - mape: 937.5235 - mae: 0.0345 - val_loss: 0.0177 - val_mape: 31.7525 - val_mae: 0.0937\n",
      "Epoch 43/100\n",
      "1105/1105 [==============================] - 8s 7ms/step - loss: 0.0022 - mape: 1220.6266 - mae: 0.0342 - val_loss: 0.0202 - val_mape: 35.1773 - val_mae: 0.1016\n",
      "Epoch 44/100\n",
      "1105/1105 [==============================] - 8s 7ms/step - loss: 0.0021 - mape: 944.4615 - mae: 0.0340 - val_loss: 0.0218 - val_mape: 35.7942 - val_mae: 0.1042\n",
      "Epoch 45/100\n",
      "1105/1105 [==============================] - 8s 7ms/step - loss: 0.0022 - mape: 1175.3269 - mae: 0.0345 - val_loss: 0.0203 - val_mape: 34.9451 - val_mae: 0.1014\n",
      "Epoch 46/100\n",
      "1105/1105 [==============================] - 8s 7ms/step - loss: 0.0021 - mape: 1067.6722 - mae: 0.0337 - val_loss: 0.0184 - val_mape: 32.2067 - val_mae: 0.0946\n",
      "Epoch 47/100\n",
      "1105/1105 [==============================] - 8s 7ms/step - loss: 0.0021 - mape: 961.0820 - mae: 0.0338 - val_loss: 0.0200 - val_mape: 36.9141 - val_mae: 0.1026\n",
      "Epoch 48/100\n"
     ]
    },
    {
     "name": "stdout",
     "output_type": "stream",
     "text": [
      "1105/1105 [==============================] - 8s 7ms/step - loss: 0.0021 - mape: 1033.2649 - mae: 0.0334 - val_loss: 0.0195 - val_mape: 35.0183 - val_mae: 0.1020\n",
      "Epoch 49/100\n",
      "1105/1105 [==============================] - 8s 7ms/step - loss: 0.0020 - mape: 911.9404 - mae: 0.0331 - val_loss: 0.0193 - val_mape: 35.5924 - val_mae: 0.1013\n",
      "Epoch 50/100\n",
      "1105/1105 [==============================] - 8s 7ms/step - loss: 0.0020 - mape: 716.3168 - mae: 0.0327 - val_loss: 0.0183 - val_mape: 33.2017 - val_mae: 0.0960\n",
      "Epoch 51/100\n",
      "1105/1105 [==============================] - 8s 7ms/step - loss: 0.0020 - mape: 1051.3369 - mae: 0.0328 - val_loss: 0.0207 - val_mape: 35.7959 - val_mae: 0.1046\n",
      "Epoch 52/100\n",
      "1105/1105 [==============================] - 8s 7ms/step - loss: 0.0019 - mape: 922.1035 - mae: 0.0324 - val_loss: 0.0192 - val_mape: 33.6630 - val_mae: 0.0990\n",
      "Epoch 53/100\n",
      "1105/1105 [==============================] - 9s 8ms/step - loss: 0.0019 - mape: 862.4594 - mae: 0.0323 - val_loss: 0.0210 - val_mape: 35.5075 - val_mae: 0.1044\n",
      "Epoch 54/100\n",
      "1105/1105 [==============================] - 9s 8ms/step - loss: 0.0019 - mape: 864.2618 - mae: 0.0320 - val_loss: 0.0190 - val_mape: 35.8837 - val_mae: 0.1028\n",
      "Epoch 55/100\n",
      "1105/1105 [==============================] - 8s 7ms/step - loss: 0.0019 - mape: 883.0011 - mae: 0.0318 - val_loss: 0.0194 - val_mape: 37.5503 - val_mae: 0.1031\n",
      "Epoch 56/100\n",
      "1105/1105 [==============================] - 8s 7ms/step - loss: 0.0019 - mape: 1054.8678 - mae: 0.0317 - val_loss: 0.0186 - val_mape: 33.8135 - val_mae: 0.0976\n",
      "Epoch 57/100\n",
      "1105/1105 [==============================] - 8s 7ms/step - loss: 0.0018 - mape: 822.3126 - mae: 0.0315 - val_loss: 0.0180 - val_mape: 32.5720 - val_mae: 0.0961\n",
      "Epoch 58/100\n",
      "1105/1105 [==============================] - 8s 7ms/step - loss: 0.0018 - mape: 736.4070 - mae: 0.0311 - val_loss: 0.0205 - val_mape: 35.5805 - val_mae: 0.1039\n",
      "Epoch 59/100\n",
      "1105/1105 [==============================] - 8s 7ms/step - loss: 0.0018 - mape: 953.0889 - mae: 0.0310 - val_loss: 0.0186 - val_mape: 33.0902 - val_mae: 0.0979\n",
      "Epoch 60/100\n",
      "1105/1105 [==============================] - 8s 7ms/step - loss: 0.0017 - mape: 1039.2605 - mae: 0.0307 - val_loss: 0.0190 - val_mape: 34.4935 - val_mae: 0.0996\n",
      "Epoch 61/100\n",
      "1105/1105 [==============================] - 8s 7ms/step - loss: 0.0017 - mape: 1231.0333 - mae: 0.0305 - val_loss: 0.0210 - val_mape: 36.0831 - val_mae: 0.1054\n",
      "Epoch 62/100\n",
      "1105/1105 [==============================] - 8s 7ms/step - loss: 0.0017 - mape: 779.6179 - mae: 0.0304 - val_loss: 0.0180 - val_mape: 31.7522 - val_mae: 0.0954\n",
      "Epoch 63/100\n",
      "1105/1105 [==============================] - 8s 7ms/step - loss: 0.0017 - mape: 880.4550 - mae: 0.0301 - val_loss: 0.0204 - val_mape: 35.5737 - val_mae: 0.1047\n",
      "Epoch 64/100\n",
      "1105/1105 [==============================] - 8s 7ms/step - loss: 0.0017 - mape: 1021.0395 - mae: 0.0300 - val_loss: 0.0188 - val_mape: 34.4803 - val_mae: 0.1007\n",
      "Epoch 65/100\n",
      "1105/1105 [==============================] - 8s 7ms/step - loss: 0.0016 - mape: 718.8206 - mae: 0.0298 - val_loss: 0.0193 - val_mape: 33.7943 - val_mae: 0.0994\n",
      "Epoch 66/100\n",
      "1105/1105 [==============================] - 8s 7ms/step - loss: 0.0016 - mape: 798.1601 - mae: 0.0296 - val_loss: 0.0187 - val_mape: 33.9664 - val_mae: 0.0983\n",
      "Epoch 67/100\n",
      "1105/1105 [==============================] - 8s 7ms/step - loss: 0.0016 - mape: 929.4244 - mae: 0.0293 - val_loss: 0.0208 - val_mape: 34.7022 - val_mae: 0.1030\n",
      "Epoch 68/100\n",
      "1105/1105 [==============================] - 8s 7ms/step - loss: 0.0016 - mape: 992.3013 - mae: 0.0291 - val_loss: 0.0209 - val_mape: 34.5557 - val_mae: 0.1028\n",
      "Epoch 69/100\n",
      "1105/1105 [==============================] - 8s 7ms/step - loss: 0.0016 - mape: 860.5873 - mae: 0.0293 - val_loss: 0.0185 - val_mape: 33.3762 - val_mae: 0.0980\n",
      "Epoch 70/100\n",
      "1105/1105 [==============================] - 8s 8ms/step - loss: 0.0015 - mape: 784.3201 - mae: 0.0289 - val_loss: 0.0212 - val_mape: 35.4012 - val_mae: 0.1048\n",
      "Epoch 71/100\n",
      "1105/1105 [==============================] - 8s 7ms/step - loss: 0.0015 - mape: 818.9781 - mae: 0.0284 - val_loss: 0.0189 - val_mape: 33.0512 - val_mae: 0.0988\n",
      "Epoch 72/100\n",
      "1105/1105 [==============================] - 8s 7ms/step - loss: 0.0015 - mape: 584.2235 - mae: 0.0287 - val_loss: 0.0192 - val_mape: 33.5802 - val_mae: 0.0994\n",
      "Epoch 73/100\n",
      "1105/1105 [==============================] - 8s 7ms/step - loss: 0.0015 - mape: 1106.3896 - mae: 0.0284 - val_loss: 0.0182 - val_mape: 32.6549 - val_mae: 0.0973\n",
      "Epoch 74/100\n",
      "1105/1105 [==============================] - 8s 7ms/step - loss: 0.0014 - mape: 938.6627 - mae: 0.0281 - val_loss: 0.0221 - val_mape: 37.1236 - val_mae: 0.1079\n",
      "Epoch 75/100\n",
      "1105/1105 [==============================] - 8s 7ms/step - loss: 0.0014 - mape: 961.8510 - mae: 0.0280 - val_loss: 0.0203 - val_mape: 34.0859 - val_mae: 0.1006\n",
      "Epoch 76/100\n",
      "1105/1105 [==============================] - 8s 7ms/step - loss: 0.0014 - mape: 833.3012 - mae: 0.0280 - val_loss: 0.0204 - val_mape: 35.0117 - val_mae: 0.1034\n",
      "Epoch 77/100\n",
      "1105/1105 [==============================] - 8s 7ms/step - loss: 0.0014 - mape: 1054.6550 - mae: 0.0278 - val_loss: 0.0198 - val_mape: 35.9807 - val_mae: 0.1047\n",
      "Epoch 78/100\n",
      "1105/1105 [==============================] - 8s 7ms/step - loss: 0.0014 - mape: 973.0555 - mae: 0.0274 - val_loss: 0.0183 - val_mape: 33.1294 - val_mae: 0.0977\n",
      "Epoch 79/100\n",
      "1105/1105 [==============================] - 8s 7ms/step - loss: 0.0014 - mape: 717.7900 - mae: 0.0273 - val_loss: 0.0208 - val_mape: 35.0725 - val_mae: 0.1039\n",
      "Epoch 80/100\n",
      "1105/1105 [==============================] - 8s 7ms/step - loss: 0.0013 - mape: 824.4574 - mae: 0.0270 - val_loss: 0.0192 - val_mape: 33.8446 - val_mae: 0.1001\n",
      "Epoch 81/100\n",
      "1105/1105 [==============================] - 9s 8ms/step - loss: 0.0013 - mape: 865.2314 - mae: 0.0271 - val_loss: 0.0205 - val_mape: 33.9820 - val_mae: 0.1015\n",
      "Epoch 82/100\n",
      "1105/1105 [==============================] - 9s 9ms/step - loss: 0.0013 - mape: 673.5262 - mae: 0.0266 - val_loss: 0.0194 - val_mape: 33.9393 - val_mae: 0.1012\n",
      "Epoch 83/100\n",
      "1105/1105 [==============================] - 8s 7ms/step - loss: 0.0013 - mape: 893.2918 - mae: 0.0265 - val_loss: 0.0205 - val_mape: 34.9047 - val_mae: 0.1031\n",
      "Epoch 84/100\n",
      "1105/1105 [==============================] - 8s 7ms/step - loss: 0.0013 - mape: 832.5553 - mae: 0.0264 - val_loss: 0.0200 - val_mape: 34.5874 - val_mae: 0.1022\n",
      "Epoch 85/100\n",
      "1105/1105 [==============================] - 8s 7ms/step - loss: 0.0013 - mape: 709.7416 - mae: 0.0263 - val_loss: 0.0193 - val_mape: 33.3892 - val_mae: 0.0994\n",
      "Epoch 86/100\n",
      "1105/1105 [==============================] - 8s 7ms/step - loss: 0.0012 - mape: 583.3996 - mae: 0.0262 - val_loss: 0.0207 - val_mape: 34.4839 - val_mae: 0.1040\n",
      "Epoch 87/100\n",
      "1105/1105 [==============================] - 8s 7ms/step - loss: 0.0012 - mape: 791.8600 - mae: 0.0259 - val_loss: 0.0207 - val_mape: 35.0942 - val_mae: 0.1041\n",
      "Epoch 88/100\n",
      "1105/1105 [==============================] - 8s 7ms/step - loss: 0.0012 - mape: 880.6566 - mae: 0.0258 - val_loss: 0.0199 - val_mape: 33.9075 - val_mae: 0.1012\n",
      "Epoch 89/100\n",
      "1105/1105 [==============================] - 8s 7ms/step - loss: 0.0012 - mape: 882.8539 - mae: 0.0255 - val_loss: 0.0196 - val_mape: 33.7697 - val_mae: 0.1005\n",
      "Epoch 90/100\n",
      "1105/1105 [==============================] - 8s 7ms/step - loss: 0.0012 - mape: 953.1691 - mae: 0.0258 - val_loss: 0.0193 - val_mape: 33.7308 - val_mae: 0.1000\n",
      "Epoch 91/100\n",
      "1105/1105 [==============================] - 8s 7ms/step - loss: 0.0012 - mape: 938.5427 - mae: 0.0254 - val_loss: 0.0212 - val_mape: 34.7650 - val_mae: 0.1037\n",
      "Epoch 92/100\n",
      "1105/1105 [==============================] - 8s 7ms/step - loss: 0.0012 - mape: 794.3134 - mae: 0.0257 - val_loss: 0.0189 - val_mape: 34.0485 - val_mae: 0.0990\n",
      "Epoch 93/100\n",
      "1105/1105 [==============================] - 8s 7ms/step - loss: 0.0011 - mape: 864.2425 - mae: 0.0249 - val_loss: 0.0182 - val_mape: 32.7118 - val_mae: 0.0961\n",
      "Epoch 94/100\n",
      "1105/1105 [==============================] - 8s 7ms/step - loss: 0.0011 - mape: 804.4179 - mae: 0.0248 - val_loss: 0.0187 - val_mape: 32.4035 - val_mae: 0.0976\n",
      "Epoch 95/100\n"
     ]
    },
    {
     "name": "stdout",
     "output_type": "stream",
     "text": [
      "1105/1105 [==============================] - 8s 7ms/step - loss: 0.0011 - mape: 765.3469 - mae: 0.0247 - val_loss: 0.0184 - val_mape: 32.4554 - val_mae: 0.0968\n",
      "Epoch 96/100\n",
      "1105/1105 [==============================] - 8s 7ms/step - loss: 0.0011 - mape: 651.0001 - mae: 0.0247 - val_loss: 0.0201 - val_mape: 34.9174 - val_mae: 0.1028\n",
      "Epoch 97/100\n",
      "1105/1105 [==============================] - 8s 7ms/step - loss: 0.0011 - mape: 962.5476 - mae: 0.0244 - val_loss: 0.0197 - val_mape: 33.6984 - val_mae: 0.0997\n",
      "Epoch 98/100\n",
      "1105/1105 [==============================] - 8s 7ms/step - loss: 0.0011 - mape: 1019.8465 - mae: 0.0243 - val_loss: 0.0193 - val_mape: 33.4347 - val_mae: 0.0993\n",
      "Epoch 99/100\n",
      "1105/1105 [==============================] - 8s 7ms/step - loss: 0.0010 - mape: 603.0565 - mae: 0.0241 - val_loss: 0.0193 - val_mape: 33.3331 - val_mae: 0.0996\n",
      "Epoch 100/100\n",
      "1105/1105 [==============================] - 8s 7ms/step - loss: 0.0011 - mape: 943.8434 - mae: 0.0247 - val_loss: 0.0201 - val_mape: 33.7952 - val_mae: 0.1015\n"
     ]
    },
    {
     "data": {
      "text/plain": [
       "<keras.callbacks.History at 0x22e584e0a30>"
      ]
     },
     "execution_count": 22,
     "metadata": {},
     "output_type": "execute_result"
    }
   ],
   "source": [
    "model.fit(X_train, Y_train, epochs= epochs, batch_size= batchSize, verbose= 1, shuffle= True, validation_data= (X_valid, Y_valid))"
   ]
  },
  {
   "cell_type": "code",
   "execution_count": 23,
   "id": "cd839153",
   "metadata": {},
   "outputs": [
    {
     "name": "stdout",
     "output_type": "stream",
     "text": [
      "Total execution time in seconds: 835.0351634025574\n"
     ]
    }
   ],
   "source": [
    "calcExecTime = (time.time() - startTime)\n",
    "print('Total execution time in seconds: ' + str(calcExecTime))"
   ]
  },
  {
   "cell_type": "markdown",
   "id": "72aafa74",
   "metadata": {},
   "source": [
    "### MAKING PREDICTIONS AND GENERATING RESULTS"
   ]
  },
  {
   "cell_type": "code",
   "execution_count": 24,
   "id": "259bfb49",
   "metadata": {},
   "outputs": [
    {
     "name": "stdout",
     "output_type": "stream",
     "text": [
      "6/6 [==============================] - 1s 8ms/step\n"
     ]
    }
   ],
   "source": [
    "predictions = model.predict(X_test)"
   ]
  },
  {
   "cell_type": "code",
   "execution_count": 25,
   "id": "2912d431",
   "metadata": {},
   "outputs": [
    {
     "data": {
      "text/plain": [
       "array([0.09141159, 0.06661786, 0.06734449, ..., 0.35445017, 0.319644  ,\n",
       "       0.2926563 ], dtype=float32)"
      ]
     },
     "execution_count": 25,
     "metadata": {},
     "output_type": "execute_result"
    }
   ],
   "source": [
    "predArr = predictions.reshape(predictions.shape[0] * predictions.shape[1], predictions.shape[2]).ravel()\n",
    "predArr"
   ]
  },
  {
   "cell_type": "code",
   "execution_count": 26,
   "id": "b01889f2",
   "metadata": {},
   "outputs": [
    {
     "data": {
      "text/plain": [
       "array([0.28139508, 0.24340256, 0.22392499, ..., 0.28336127, 0.26759737,\n",
       "       0.25052683])"
      ]
     },
     "execution_count": 26,
     "metadata": {},
     "output_type": "execute_result"
    }
   ],
   "source": [
    "Y_testArr = Y_test.reshape(Y_test.shape[0] * Y_test.shape[1], Y_test.shape[2]).ravel()\n",
    "Y_testArr"
   ]
  },
  {
   "cell_type": "code",
   "execution_count": 27,
   "id": "799c97e8",
   "metadata": {},
   "outputs": [],
   "source": [
    "def inverse_transform(df):\n",
    "    column_names = df.columns\n",
    "    for col in column_names:\n",
    "        df[col] = ValScaler.inverse_transform(df[[col]]) \n",
    "    return df"
   ]
  },
  {
   "cell_type": "code",
   "execution_count": 28,
   "id": "afa81e30",
   "metadata": {},
   "outputs": [
    {
     "data": {
      "text/html": [
       "<div>\n",
       "<style scoped>\n",
       "    .dataframe tbody tr th:only-of-type {\n",
       "        vertical-align: middle;\n",
       "    }\n",
       "\n",
       "    .dataframe tbody tr th {\n",
       "        vertical-align: top;\n",
       "    }\n",
       "\n",
       "    .dataframe thead th {\n",
       "        text-align: right;\n",
       "    }\n",
       "</style>\n",
       "<table border=\"1\" class=\"dataframe\">\n",
       "  <thead>\n",
       "    <tr style=\"text-align: right;\">\n",
       "      <th></th>\n",
       "      <th>Values</th>\n",
       "      <th>Predictions</th>\n",
       "    </tr>\n",
       "  </thead>\n",
       "  <tbody>\n",
       "    <tr>\n",
       "      <th>0</th>\n",
       "      <td>12678.458738</td>\n",
       "      <td>9024.544922</td>\n",
       "    </tr>\n",
       "    <tr>\n",
       "      <th>1</th>\n",
       "      <td>11947.756347</td>\n",
       "      <td>8547.692383</td>\n",
       "    </tr>\n",
       "    <tr>\n",
       "      <th>2</th>\n",
       "      <td>11573.148128</td>\n",
       "      <td>8561.666992</td>\n",
       "    </tr>\n",
       "    <tr>\n",
       "      <th>3</th>\n",
       "      <td>11526.586317</td>\n",
       "      <td>8767.881836</td>\n",
       "    </tr>\n",
       "    <tr>\n",
       "      <th>4</th>\n",
       "      <td>11893.973828</td>\n",
       "      <td>9026.034180</td>\n",
       "    </tr>\n",
       "    <tr>\n",
       "      <th>...</th>\n",
       "      <td>...</td>\n",
       "      <td>...</td>\n",
       "    </tr>\n",
       "    <tr>\n",
       "      <th>4363</th>\n",
       "      <td>13164.660616</td>\n",
       "      <td>15071.098633</td>\n",
       "    </tr>\n",
       "    <tr>\n",
       "      <th>4364</th>\n",
       "      <td>12928.911509</td>\n",
       "      <td>14702.140625</td>\n",
       "    </tr>\n",
       "    <tr>\n",
       "      <th>4365</th>\n",
       "      <td>12716.274141</td>\n",
       "      <td>14083.512695</td>\n",
       "    </tr>\n",
       "    <tr>\n",
       "      <th>4366</th>\n",
       "      <td>12413.090126</td>\n",
       "      <td>13414.092773</td>\n",
       "    </tr>\n",
       "    <tr>\n",
       "      <th>4367</th>\n",
       "      <td>12084.775970</td>\n",
       "      <td>12895.043945</td>\n",
       "    </tr>\n",
       "  </tbody>\n",
       "</table>\n",
       "<p>4368 rows × 2 columns</p>\n",
       "</div>"
      ],
      "text/plain": [
       "            Values   Predictions\n",
       "0     12678.458738   9024.544922\n",
       "1     11947.756347   8547.692383\n",
       "2     11573.148128   8561.666992\n",
       "3     11526.586317   8767.881836\n",
       "4     11893.973828   9026.034180\n",
       "...            ...           ...\n",
       "4363  13164.660616  15071.098633\n",
       "4364  12928.911509  14702.140625\n",
       "4365  12716.274141  14083.512695\n",
       "4366  12413.090126  13414.092773\n",
       "4367  12084.775970  12895.043945\n",
       "\n",
       "[4368 rows x 2 columns]"
      ]
     },
     "execution_count": 28,
     "metadata": {},
     "output_type": "execute_result"
    }
   ],
   "source": [
    "comparisionDf = pd.DataFrame(data= {\"Values\": Y_testArr, \"Predictions\": predArr})\n",
    "comparisionDf = inverse_transform(comparisionDf)\n",
    "comparisionDf"
   ]
  },
  {
   "cell_type": "code",
   "execution_count": 29,
   "id": "88222bae",
   "metadata": {},
   "outputs": [
    {
     "data": {
      "text/plain": [
       "12.92276661787492"
      ]
     },
     "execution_count": 29,
     "metadata": {},
     "output_type": "execute_result"
    }
   ],
   "source": [
    "mape(comparisionDf[\"Values\"], comparisionDf[\"Predictions\"])"
   ]
  }
 ],
 "metadata": {
  "kernelspec": {
   "display_name": "Python 3 (ipykernel)",
   "language": "python",
   "name": "python3"
  },
  "language_info": {
   "codemirror_mode": {
    "name": "ipython",
    "version": 3
   },
   "file_extension": ".py",
   "mimetype": "text/x-python",
   "name": "python",
   "nbconvert_exporter": "python",
   "pygments_lexer": "ipython3",
   "version": "3.9.12"
  }
 },
 "nbformat": 4,
 "nbformat_minor": 5
}
