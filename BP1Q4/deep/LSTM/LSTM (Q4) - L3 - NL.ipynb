{
 "cells": [
  {
   "cell_type": "code",
   "execution_count": 1,
   "id": "5f61b29f",
   "metadata": {},
   "outputs": [
    {
     "name": "stdout",
     "output_type": "stream",
     "text": [
      "Num GPUs Available:  1\n"
     ]
    }
   ],
   "source": [
    "import pandas as pd\n",
    "import numpy as np\n",
    "import os\n",
    "import matplotlib.pyplot as plt\n",
    "from datetime import datetime\n",
    "from sklearn.preprocessing import MinMaxScaler, RobustScaler, StandardScaler\n",
    "import time\n",
    "\n",
    "import tensorflow as tf\n",
    "tf.random.set_seed(42)\n",
    "\n",
    "def mape(y_true, y_pred):\n",
    "    y_true, y_pred = np.array(y_true), np.array(y_pred)\n",
    "    return np.mean(np.abs((y_true - y_pred) / max(y_true))) * 100\n",
    "\n",
    "def RMSELoss(yhat,y):\n",
    "    return torch.sqrt(torch.mean((yhat-y)**2))\n",
    "\n",
    "print(\"Num GPUs Available: \", len(tf.config.list_physical_devices('GPU')))"
   ]
  },
  {
   "cell_type": "code",
   "execution_count": 2,
   "id": "cea0abe2",
   "metadata": {},
   "outputs": [
    {
     "name": "stdout",
     "output_type": "stream",
     "text": [
      "['AT.csv', 'BE.csv', 'BG.csv', 'CH.csv', 'CZ.csv', 'DK.csv', 'ES.csv', 'FR.csv', 'GR.csv', 'IT.csv', 'NL.csv', 'PT.csv', 'SI.csv', 'SK.csv']\n"
     ]
    }
   ],
   "source": [
    "# Specifying the path of file\n",
    "path= r\"C:\\Users\\sashah8\\OneDrive - North Carolina State University\\Desktop\\Q4\\Data\\L3\\data_cleaned\"\n",
    "\n",
    "# Listing just the required files\n",
    "fileList = os.listdir(path)\n",
    "fileList.remove(\"Date.csv\")\n",
    "\n",
    "# Previewing the required file names\n",
    "print(fileList)"
   ]
  },
  {
   "cell_type": "code",
   "execution_count": 3,
   "id": "a6fe9396",
   "metadata": {},
   "outputs": [
    {
     "data": {
      "text/html": [
       "<div>\n",
       "<style scoped>\n",
       "    .dataframe tbody tr th:only-of-type {\n",
       "        vertical-align: middle;\n",
       "    }\n",
       "\n",
       "    .dataframe tbody tr th {\n",
       "        vertical-align: top;\n",
       "    }\n",
       "\n",
       "    .dataframe thead th {\n",
       "        text-align: right;\n",
       "    }\n",
       "</style>\n",
       "<table border=\"1\" class=\"dataframe\">\n",
       "  <thead>\n",
       "    <tr style=\"text-align: right;\">\n",
       "      <th></th>\n",
       "      <th>Demand</th>\n",
       "      <th>Normalized_net</th>\n",
       "      <th>Temperature</th>\n",
       "      <th>DNI</th>\n",
       "      <th>DHI</th>\n",
       "    </tr>\n",
       "  </thead>\n",
       "  <tbody>\n",
       "    <tr>\n",
       "      <th>0</th>\n",
       "      <td>9401.0</td>\n",
       "      <td>0.228165</td>\n",
       "      <td>1.869</td>\n",
       "      <td>0.0</td>\n",
       "      <td>0.0</td>\n",
       "    </tr>\n",
       "    <tr>\n",
       "      <th>1</th>\n",
       "      <td>8957.0</td>\n",
       "      <td>0.193447</td>\n",
       "      <td>1.625</td>\n",
       "      <td>0.0</td>\n",
       "      <td>0.0</td>\n",
       "    </tr>\n",
       "    <tr>\n",
       "      <th>2</th>\n",
       "      <td>8462.0</td>\n",
       "      <td>0.154742</td>\n",
       "      <td>1.448</td>\n",
       "      <td>0.0</td>\n",
       "      <td>0.0</td>\n",
       "    </tr>\n",
       "    <tr>\n",
       "      <th>3</th>\n",
       "      <td>8156.0</td>\n",
       "      <td>0.130816</td>\n",
       "      <td>1.250</td>\n",
       "      <td>0.0</td>\n",
       "      <td>0.0</td>\n",
       "    </tr>\n",
       "    <tr>\n",
       "      <th>4</th>\n",
       "      <td>8126.0</td>\n",
       "      <td>0.128470</td>\n",
       "      <td>1.102</td>\n",
       "      <td>0.0</td>\n",
       "      <td>0.0</td>\n",
       "    </tr>\n",
       "    <tr>\n",
       "      <th>...</th>\n",
       "      <td>...</td>\n",
       "      <td>...</td>\n",
       "      <td>...</td>\n",
       "      <td>...</td>\n",
       "      <td>...</td>\n",
       "    </tr>\n",
       "    <tr>\n",
       "      <th>43819</th>\n",
       "      <td>12799.0</td>\n",
       "      <td>0.493862</td>\n",
       "      <td>2.909</td>\n",
       "      <td>0.0</td>\n",
       "      <td>0.0</td>\n",
       "    </tr>\n",
       "    <tr>\n",
       "      <th>43820</th>\n",
       "      <td>12065.0</td>\n",
       "      <td>0.436469</td>\n",
       "      <td>2.635</td>\n",
       "      <td>0.0</td>\n",
       "      <td>0.0</td>\n",
       "    </tr>\n",
       "    <tr>\n",
       "      <th>43821</th>\n",
       "      <td>11641.0</td>\n",
       "      <td>0.403315</td>\n",
       "      <td>2.210</td>\n",
       "      <td>0.0</td>\n",
       "      <td>0.0</td>\n",
       "    </tr>\n",
       "    <tr>\n",
       "      <th>43822</th>\n",
       "      <td>11418.0</td>\n",
       "      <td>0.385878</td>\n",
       "      <td>1.785</td>\n",
       "      <td>0.0</td>\n",
       "      <td>0.0</td>\n",
       "    </tr>\n",
       "    <tr>\n",
       "      <th>43823</th>\n",
       "      <td>11215.0</td>\n",
       "      <td>0.370005</td>\n",
       "      <td>1.444</td>\n",
       "      <td>0.0</td>\n",
       "      <td>0.0</td>\n",
       "    </tr>\n",
       "  </tbody>\n",
       "</table>\n",
       "<p>43824 rows × 5 columns</p>\n",
       "</div>"
      ],
      "text/plain": [
       "        Demand  Normalized_net  Temperature  DNI  DHI\n",
       "0       9401.0        0.228165        1.869  0.0  0.0\n",
       "1       8957.0        0.193447        1.625  0.0  0.0\n",
       "2       8462.0        0.154742        1.448  0.0  0.0\n",
       "3       8156.0        0.130816        1.250  0.0  0.0\n",
       "4       8126.0        0.128470        1.102  0.0  0.0\n",
       "...        ...             ...          ...  ...  ...\n",
       "43819  12799.0        0.493862        2.909  0.0  0.0\n",
       "43820  12065.0        0.436469        2.635  0.0  0.0\n",
       "43821  11641.0        0.403315        2.210  0.0  0.0\n",
       "43822  11418.0        0.385878        1.785  0.0  0.0\n",
       "43823  11215.0        0.370005        1.444  0.0  0.0\n",
       "\n",
       "[43824 rows x 5 columns]"
      ]
     },
     "execution_count": 3,
     "metadata": {},
     "output_type": "execute_result"
    }
   ],
   "source": [
    "# Just for previewing the columns\n",
    "pd.read_csv(os.path.join(path, fileList[10]))"
   ]
  },
  {
   "cell_type": "markdown",
   "id": "9ad4906c",
   "metadata": {
    "pycharm": {
     "name": "#%% md\n"
    }
   },
   "source": [
    "### PROCESSING THE DATA"
   ]
  },
  {
   "cell_type": "code",
   "execution_count": 4,
   "id": "f29f6db2",
   "metadata": {},
   "outputs": [
    {
     "data": {
      "text/html": [
       "<div>\n",
       "<style scoped>\n",
       "    .dataframe tbody tr th:only-of-type {\n",
       "        vertical-align: middle;\n",
       "    }\n",
       "\n",
       "    .dataframe tbody tr th {\n",
       "        vertical-align: top;\n",
       "    }\n",
       "\n",
       "    .dataframe thead th {\n",
       "        text-align: right;\n",
       "    }\n",
       "</style>\n",
       "<table border=\"1\" class=\"dataframe\">\n",
       "  <thead>\n",
       "    <tr style=\"text-align: right;\">\n",
       "      <th></th>\n",
       "      <th>Load_NL</th>\n",
       "      <th>Temp_NL</th>\n",
       "    </tr>\n",
       "  </thead>\n",
       "  <tbody>\n",
       "    <tr>\n",
       "      <th>0</th>\n",
       "      <td>9401.0</td>\n",
       "      <td>1.869</td>\n",
       "    </tr>\n",
       "    <tr>\n",
       "      <th>1</th>\n",
       "      <td>8957.0</td>\n",
       "      <td>1.625</td>\n",
       "    </tr>\n",
       "    <tr>\n",
       "      <th>2</th>\n",
       "      <td>8462.0</td>\n",
       "      <td>1.448</td>\n",
       "    </tr>\n",
       "    <tr>\n",
       "      <th>3</th>\n",
       "      <td>8156.0</td>\n",
       "      <td>1.250</td>\n",
       "    </tr>\n",
       "    <tr>\n",
       "      <th>4</th>\n",
       "      <td>8126.0</td>\n",
       "      <td>1.102</td>\n",
       "    </tr>\n",
       "    <tr>\n",
       "      <th>...</th>\n",
       "      <td>...</td>\n",
       "      <td>...</td>\n",
       "    </tr>\n",
       "    <tr>\n",
       "      <th>43819</th>\n",
       "      <td>12799.0</td>\n",
       "      <td>2.909</td>\n",
       "    </tr>\n",
       "    <tr>\n",
       "      <th>43820</th>\n",
       "      <td>12065.0</td>\n",
       "      <td>2.635</td>\n",
       "    </tr>\n",
       "    <tr>\n",
       "      <th>43821</th>\n",
       "      <td>11641.0</td>\n",
       "      <td>2.210</td>\n",
       "    </tr>\n",
       "    <tr>\n",
       "      <th>43822</th>\n",
       "      <td>11418.0</td>\n",
       "      <td>1.785</td>\n",
       "    </tr>\n",
       "    <tr>\n",
       "      <th>43823</th>\n",
       "      <td>11215.0</td>\n",
       "      <td>1.444</td>\n",
       "    </tr>\n",
       "  </tbody>\n",
       "</table>\n",
       "<p>43824 rows × 2 columns</p>\n",
       "</div>"
      ],
      "text/plain": [
       "       Load_NL  Temp_NL\n",
       "0       9401.0    1.869\n",
       "1       8957.0    1.625\n",
       "2       8462.0    1.448\n",
       "3       8156.0    1.250\n",
       "4       8126.0    1.102\n",
       "...        ...      ...\n",
       "43819  12799.0    2.909\n",
       "43820  12065.0    2.635\n",
       "43821  11641.0    2.210\n",
       "43822  11418.0    1.785\n",
       "43823  11215.0    1.444\n",
       "\n",
       "[43824 rows x 2 columns]"
      ]
     },
     "execution_count": 4,
     "metadata": {},
     "output_type": "execute_result"
    }
   ],
   "source": [
    "# Restricting the load data to a single zone\n",
    "fileName  = fileList[10]\n",
    "\n",
    "zoneData = pd.read_csv(os.path.join(path, fileName), usecols= [\"Demand\", \"Temperature\"])\n",
    "zoneData.columns = [\"Load_\"+str(fileName[:-4]), \"Temp_\"+str(fileName[:-4])]\n",
    "\n",
    "# For fixing one missing row\n",
    "# zoneData = pd.concat([zoneData.loc[[0]], zoneData], axis= 0).reset_index(drop= True)\n",
    "\n",
    "zoneData"
   ]
  },
  {
   "cell_type": "markdown",
   "id": "01cec4bd",
   "metadata": {},
   "source": [
    "### FEATURE ENGINEERING AND SPLITTING INTO TRAIN-TEST SPLIT"
   ]
  },
  {
   "cell_type": "code",
   "execution_count": 5,
   "id": "a1e1e8a3",
   "metadata": {},
   "outputs": [],
   "source": [
    "def lagGenerator(dF, lagList):\n",
    "    dF_temp = dF.filter(regex= \"Load\").copy()\n",
    "    \n",
    "    for i in lagList:\n",
    "        dF_temp.loc[:, \"Lag-\" + str(i)] = dF_temp.iloc[:,[0]].shift(i*24)\n",
    "    \n",
    "    return(dF_temp.filter(regex= \"Lag\"))"
   ]
  },
  {
   "cell_type": "code",
   "execution_count": 6,
   "id": "159a2a82",
   "metadata": {},
   "outputs": [
    {
     "data": {
      "text/html": [
       "<div>\n",
       "<style scoped>\n",
       "    .dataframe tbody tr th:only-of-type {\n",
       "        vertical-align: middle;\n",
       "    }\n",
       "\n",
       "    .dataframe tbody tr th {\n",
       "        vertical-align: top;\n",
       "    }\n",
       "\n",
       "    .dataframe thead th {\n",
       "        text-align: right;\n",
       "    }\n",
       "</style>\n",
       "<table border=\"1\" class=\"dataframe\">\n",
       "  <thead>\n",
       "    <tr style=\"text-align: right;\">\n",
       "      <th></th>\n",
       "      <th>Lag-2</th>\n",
       "      <th>Lag-7</th>\n",
       "    </tr>\n",
       "  </thead>\n",
       "  <tbody>\n",
       "    <tr>\n",
       "      <th>0</th>\n",
       "      <td>NaN</td>\n",
       "      <td>NaN</td>\n",
       "    </tr>\n",
       "    <tr>\n",
       "      <th>1</th>\n",
       "      <td>NaN</td>\n",
       "      <td>NaN</td>\n",
       "    </tr>\n",
       "  </tbody>\n",
       "</table>\n",
       "</div>"
      ],
      "text/plain": [
       "   Lag-2  Lag-7\n",
       "0    NaN    NaN\n",
       "1    NaN    NaN"
      ]
     },
     "execution_count": 6,
     "metadata": {},
     "output_type": "execute_result"
    }
   ],
   "source": [
    "Load_lags = lagGenerator(dF=zoneData, lagList=[2,7])\n",
    "Load_lags.head(2)"
   ]
  },
  {
   "cell_type": "code",
   "execution_count": 7,
   "id": "05896954",
   "metadata": {},
   "outputs": [
    {
     "data": {
      "text/html": [
       "<div>\n",
       "<style scoped>\n",
       "    .dataframe tbody tr th:only-of-type {\n",
       "        vertical-align: middle;\n",
       "    }\n",
       "\n",
       "    .dataframe tbody tr th {\n",
       "        vertical-align: top;\n",
       "    }\n",
       "\n",
       "    .dataframe thead th {\n",
       "        text-align: right;\n",
       "    }\n",
       "</style>\n",
       "<table border=\"1\" class=\"dataframe\">\n",
       "  <thead>\n",
       "    <tr style=\"text-align: right;\">\n",
       "      <th></th>\n",
       "      <th>Load_NL</th>\n",
       "      <th>Temp_NL</th>\n",
       "      <th>Lag-2</th>\n",
       "      <th>Lag-7</th>\n",
       "    </tr>\n",
       "  </thead>\n",
       "  <tbody>\n",
       "    <tr>\n",
       "      <th>0</th>\n",
       "      <td>9341.0</td>\n",
       "      <td>2.153</td>\n",
       "      <td>12082.0</td>\n",
       "      <td>9401.0</td>\n",
       "    </tr>\n",
       "    <tr>\n",
       "      <th>1</th>\n",
       "      <td>9008.0</td>\n",
       "      <td>2.465</td>\n",
       "      <td>11748.0</td>\n",
       "      <td>8957.0</td>\n",
       "    </tr>\n",
       "    <tr>\n",
       "      <th>2</th>\n",
       "      <td>8889.0</td>\n",
       "      <td>2.813</td>\n",
       "      <td>11644.0</td>\n",
       "      <td>8462.0</td>\n",
       "    </tr>\n",
       "    <tr>\n",
       "      <th>3</th>\n",
       "      <td>8929.0</td>\n",
       "      <td>3.286</td>\n",
       "      <td>11709.0</td>\n",
       "      <td>8156.0</td>\n",
       "    </tr>\n",
       "    <tr>\n",
       "      <th>4</th>\n",
       "      <td>9424.0</td>\n",
       "      <td>3.831</td>\n",
       "      <td>12060.0</td>\n",
       "      <td>8126.0</td>\n",
       "    </tr>\n",
       "    <tr>\n",
       "      <th>...</th>\n",
       "      <td>...</td>\n",
       "      <td>...</td>\n",
       "      <td>...</td>\n",
       "      <td>...</td>\n",
       "    </tr>\n",
       "    <tr>\n",
       "      <th>43651</th>\n",
       "      <td>12799.0</td>\n",
       "      <td>2.909</td>\n",
       "      <td>13718.0</td>\n",
       "      <td>13265.0</td>\n",
       "    </tr>\n",
       "    <tr>\n",
       "      <th>43652</th>\n",
       "      <td>12065.0</td>\n",
       "      <td>2.635</td>\n",
       "      <td>13133.0</td>\n",
       "      <td>12680.0</td>\n",
       "    </tr>\n",
       "    <tr>\n",
       "      <th>43653</th>\n",
       "      <td>11641.0</td>\n",
       "      <td>2.210</td>\n",
       "      <td>12522.0</td>\n",
       "      <td>12073.0</td>\n",
       "    </tr>\n",
       "    <tr>\n",
       "      <th>43654</th>\n",
       "      <td>11418.0</td>\n",
       "      <td>1.785</td>\n",
       "      <td>11708.0</td>\n",
       "      <td>11622.0</td>\n",
       "    </tr>\n",
       "    <tr>\n",
       "      <th>43655</th>\n",
       "      <td>11215.0</td>\n",
       "      <td>1.444</td>\n",
       "      <td>11172.0</td>\n",
       "      <td>11243.0</td>\n",
       "    </tr>\n",
       "  </tbody>\n",
       "</table>\n",
       "<p>43656 rows × 4 columns</p>\n",
       "</div>"
      ],
      "text/plain": [
       "       Load_NL  Temp_NL    Lag-2    Lag-7\n",
       "0       9341.0    2.153  12082.0   9401.0\n",
       "1       9008.0    2.465  11748.0   8957.0\n",
       "2       8889.0    2.813  11644.0   8462.0\n",
       "3       8929.0    3.286  11709.0   8156.0\n",
       "4       9424.0    3.831  12060.0   8126.0\n",
       "...        ...      ...      ...      ...\n",
       "43651  12799.0    2.909  13718.0  13265.0\n",
       "43652  12065.0    2.635  13133.0  12680.0\n",
       "43653  11641.0    2.210  12522.0  12073.0\n",
       "43654  11418.0    1.785  11708.0  11622.0\n",
       "43655  11215.0    1.444  11172.0  11243.0\n",
       "\n",
       "[43656 rows x 4 columns]"
      ]
     },
     "execution_count": 7,
     "metadata": {},
     "output_type": "execute_result"
    }
   ],
   "source": [
    "dataDf = pd.concat([zoneData, Load_lags], axis= 1).dropna(axis= 0).reset_index(drop= True)\n",
    "dataDf"
   ]
  },
  {
   "cell_type": "code",
   "execution_count": 8,
   "id": "6ad25321",
   "metadata": {},
   "outputs": [],
   "source": [
    "# Setting the train-test split ratio\n",
    "ratio = 0.1"
   ]
  },
  {
   "cell_type": "code",
   "execution_count": 9,
   "id": "3c08d963",
   "metadata": {},
   "outputs": [],
   "source": [
    "Num_train, Num_test = int(len(dataDf)/24 * (1 - ratio)) * 24, int(len(dataDf)/24 * ratio) * 24"
   ]
  },
  {
   "cell_type": "code",
   "execution_count": 10,
   "id": "cbe069ff",
   "metadata": {},
   "outputs": [],
   "source": [
    "# Splitting the data into train and test\n",
    "data_train, data_test = dataDf[:Num_train], dataDf[Num_train:]"
   ]
  },
  {
   "cell_type": "code",
   "execution_count": 11,
   "id": "d84e15c4",
   "metadata": {},
   "outputs": [],
   "source": [
    "Num_train, Num_valid = int(len(data_train)/24 * (1 - ratio)) * 24, int(len(data_train)/24 * ratio) * 24"
   ]
  },
  {
   "cell_type": "code",
   "execution_count": 12,
   "id": "c17d1723",
   "metadata": {},
   "outputs": [],
   "source": [
    "# Splitting the data into train and test\n",
    "data_train, data_valid = data_train[:Num_train], data_train[Num_train:]"
   ]
  },
  {
   "cell_type": "markdown",
   "id": "88d32011",
   "metadata": {},
   "source": [
    "### SPLITTING INTO X AND Y PART WITH SEQUENCE BATCHING"
   ]
  },
  {
   "cell_type": "code",
   "execution_count": 13,
   "id": "4ba286ca",
   "metadata": {},
   "outputs": [],
   "source": [
    "X_train_df, Y_train_df = data_train.iloc[:, 1:], data_train.iloc[:, :1]\n",
    "\n",
    "X_valid_df, Y_valid_df = data_valid.iloc[:, 1:], data_valid.iloc[:, :1]\n",
    "\n",
    "X_test_df, Y_test_df = data_test.iloc[:, 1:], data_test.iloc[:, :1]"
   ]
  },
  {
   "cell_type": "code",
   "execution_count": 14,
   "id": "ef1d9079",
   "metadata": {},
   "outputs": [],
   "source": [
    "# Preparing the scaler\n",
    "ValScaler = MinMaxScaler()\n",
    "\n",
    "X_train = ValScaler.fit_transform(X_train_df)\n",
    "X_valid = ValScaler.transform(X_valid_df)\n",
    "X_test = ValScaler.transform(X_test_df)\n",
    "\n",
    "Y_train = ValScaler.fit_transform(Y_train_df)\n",
    "Y_valid = ValScaler.transform(Y_valid_df)\n",
    "Y_test = ValScaler.transform(Y_test_df)"
   ]
  },
  {
   "cell_type": "code",
   "execution_count": 15,
   "id": "43594401",
   "metadata": {},
   "outputs": [],
   "source": [
    "def splitData(dataset):\n",
    "    data = np.array(np.split(dataset, len(dataset)/24))\n",
    "    return data"
   ]
  },
  {
   "cell_type": "code",
   "execution_count": 16,
   "id": "300696b2",
   "metadata": {},
   "outputs": [],
   "source": [
    "def supervisedSet(X_part, Y_part, steps= 24):\n",
    "    X_array, Y_array = np.array(X_part), np.array(Y_part)\n",
    "    X, Y = [], []\n",
    "    \n",
    "    for i in range(len(X_array)):\n",
    "        endIdx = i + steps\n",
    "        \n",
    "        if endIdx > len(X_array):\n",
    "            break\n",
    "        \n",
    "        batch_X, batch_Y = X_array[i:endIdx], Y_array[i:endIdx]\n",
    "        \n",
    "        X.append(batch_X)\n",
    "        Y.append(batch_Y)\n",
    "        \n",
    "    return np.array(X), np.array(Y)"
   ]
  },
  {
   "cell_type": "code",
   "execution_count": 17,
   "id": "fc9cd97d",
   "metadata": {},
   "outputs": [],
   "source": [
    "X_train, Y_train = supervisedSet(X_train, Y_train)\n",
    "\n",
    "X_valid, Y_valid = splitData(X_valid), splitData(Y_valid)\n",
    "\n",
    "X_test, Y_test = splitData(X_test), splitData(Y_test)"
   ]
  },
  {
   "cell_type": "markdown",
   "id": "a2a6bf32",
   "metadata": {},
   "source": [
    "### WORKING ON THE MODEL"
   ]
  },
  {
   "cell_type": "code",
   "execution_count": 18,
   "id": "ff71a98c",
   "metadata": {},
   "outputs": [],
   "source": [
    "epochs = 100\n",
    "batchSize = 32"
   ]
  },
  {
   "cell_type": "code",
   "execution_count": 19,
   "id": "8d600c17",
   "metadata": {},
   "outputs": [],
   "source": [
    "# Encoder-decoder architecture [tanh required to use tensorflow on gpu]\n",
    "model = tf.keras.Sequential([\n",
    "    tf.keras.layers.LSTM(units= 128, activation= \"tanh\", input_shape= (X_train.shape[1], X_train.shape[2]), dropout= 0.2),\n",
    "    tf.keras.layers.RepeatVector(Y_train.shape[1]),\n",
    "    tf.keras.layers.LSTM(units= 128, activation= \"tanh\", return_sequences= True, dropout= 0.2),\n",
    "    tf.keras.layers.TimeDistributed(tf.keras.layers.Dense(units= 128, activation= \"relu\")),\n",
    "    tf.keras.layers.Dropout(0.2),\n",
    "    tf.keras.layers.TimeDistributed(tf.keras.layers.Dense(units= 1))\n",
    "])\n",
    "\n",
    "model.compile(loss= \"mse\", optimizer= \"adam\",  metrics= ['mape', 'mae'])"
   ]
  },
  {
   "cell_type": "code",
   "execution_count": 20,
   "id": "a05c033a",
   "metadata": {},
   "outputs": [],
   "source": [
    "# model = tf.keras.Sequential([\n",
    "#     tf.keras.layers.LSTM(units= 256, activation= \"tanh\", input_shape= (X_train.shape[1], X_train.shape[2])),\n",
    "#     tf.keras.layers.Dense(units= 128, activation= \"tanh\"),\n",
    "#     tf.keras.layers.Dense(units= 1)\n",
    "# ])\n",
    "\n",
    "# model.compile(loss= \"mse\", optimizer= \"adam\",  metrics= ['mape', 'mae'])"
   ]
  },
  {
   "cell_type": "code",
   "execution_count": 21,
   "id": "c9390383",
   "metadata": {},
   "outputs": [],
   "source": [
    "# Storing the start time of model fitting process\n",
    "startTime = time.time()"
   ]
  },
  {
   "cell_type": "code",
   "execution_count": 22,
   "id": "e526e3ed",
   "metadata": {},
   "outputs": [
    {
     "name": "stdout",
     "output_type": "stream",
     "text": [
      "Epoch 1/100\n",
      "1105/1105 [==============================] - 14s 9ms/step - loss: 0.0166 - mape: 5208.9912 - mae: 0.0994 - val_loss: 0.0207 - val_mape: 19.8103 - val_mae: 0.1112\n",
      "Epoch 2/100\n",
      "1105/1105 [==============================] - 10s 9ms/step - loss: 0.0078 - mape: 3678.7610 - mae: 0.0665 - val_loss: 0.0097 - val_mape: 15.8572 - val_mae: 0.0828\n",
      "Epoch 3/100\n",
      "1105/1105 [==============================] - 10s 9ms/step - loss: 0.0064 - mape: 3667.1816 - mae: 0.0594 - val_loss: 0.0100 - val_mape: 16.4676 - val_mae: 0.0853\n",
      "Epoch 4/100\n",
      "1105/1105 [==============================] - 9s 9ms/step - loss: 0.0058 - mape: 3222.4895 - mae: 0.0555 - val_loss: 0.0120 - val_mape: 17.9814 - val_mae: 0.0941\n",
      "Epoch 5/100\n",
      "1105/1105 [==============================] - 9s 9ms/step - loss: 0.0053 - mape: 3591.6069 - mae: 0.0529 - val_loss: 0.0177 - val_mape: 23.1454 - val_mae: 0.1186\n",
      "Epoch 6/100\n",
      "1105/1105 [==============================] - 10s 9ms/step - loss: 0.0051 - mape: 3123.0525 - mae: 0.0512 - val_loss: 0.0137 - val_mape: 19.7270 - val_mae: 0.1033\n",
      "Epoch 7/100\n",
      "1105/1105 [==============================] - 9s 9ms/step - loss: 0.0048 - mape: 2801.3442 - mae: 0.0499 - val_loss: 0.0101 - val_mape: 16.0337 - val_mae: 0.0849\n",
      "Epoch 8/100\n",
      "1105/1105 [==============================] - 9s 9ms/step - loss: 0.0046 - mape: 2488.1218 - mae: 0.0487 - val_loss: 0.0115 - val_mape: 17.0336 - val_mae: 0.0909\n",
      "Epoch 9/100\n",
      "1105/1105 [==============================] - 8s 8ms/step - loss: 0.0044 - mape: 2566.5134 - mae: 0.0476 - val_loss: 0.0160 - val_mape: 22.0051 - val_mae: 0.1128\n",
      "Epoch 10/100\n",
      "1105/1105 [==============================] - 9s 8ms/step - loss: 0.0043 - mape: 2636.6675 - mae: 0.0468 - val_loss: 0.0098 - val_mape: 16.4570 - val_mae: 0.0840\n",
      "Epoch 11/100\n",
      "1105/1105 [==============================] - 8s 8ms/step - loss: 0.0042 - mape: 2859.7705 - mae: 0.0461 - val_loss: 0.0145 - val_mape: 19.9316 - val_mae: 0.1056\n",
      "Epoch 12/100\n",
      "1105/1105 [==============================] - 8s 7ms/step - loss: 0.0041 - mape: 2042.6570 - mae: 0.0453 - val_loss: 0.0112 - val_mape: 19.0849 - val_mae: 0.0940\n",
      "Epoch 13/100\n",
      "1105/1105 [==============================] - 8s 7ms/step - loss: 0.0039 - mape: 2077.0286 - mae: 0.0448 - val_loss: 0.0094 - val_mape: 16.5930 - val_mae: 0.0840\n",
      "Epoch 14/100\n",
      "1105/1105 [==============================] - 8s 7ms/step - loss: 0.0038 - mape: 2079.4028 - mae: 0.0437 - val_loss: 0.0124 - val_mape: 19.5660 - val_mae: 0.0977\n",
      "Epoch 15/100\n",
      "1105/1105 [==============================] - 8s 7ms/step - loss: 0.0037 - mape: 2033.9032 - mae: 0.0434 - val_loss: 0.0124 - val_mape: 19.4602 - val_mae: 0.0987\n",
      "Epoch 16/100\n",
      "1105/1105 [==============================] - 8s 7ms/step - loss: 0.0036 - mape: 2124.4592 - mae: 0.0425 - val_loss: 0.0159 - val_mape: 20.6015 - val_mae: 0.1038\n",
      "Epoch 17/100\n",
      "1105/1105 [==============================] - 8s 8ms/step - loss: 0.0034 - mape: 1946.2003 - mae: 0.0416 - val_loss: 0.0085 - val_mape: 15.1812 - val_mae: 0.0789\n",
      "Epoch 18/100\n",
      "1105/1105 [==============================] - 8s 8ms/step - loss: 0.0033 - mape: 1678.4724 - mae: 0.0409 - val_loss: 0.0085 - val_mape: 16.2601 - val_mae: 0.0786\n",
      "Epoch 19/100\n",
      "1105/1105 [==============================] - 8s 8ms/step - loss: 0.0033 - mape: 1989.0585 - mae: 0.0406 - val_loss: 0.0135 - val_mape: 19.5096 - val_mae: 0.1014\n",
      "Epoch 20/100\n",
      "1105/1105 [==============================] - 8s 7ms/step - loss: 0.0031 - mape: 1689.0026 - mae: 0.0395 - val_loss: 0.0133 - val_mape: 19.4523 - val_mae: 0.1009\n",
      "Epoch 21/100\n",
      "1105/1105 [==============================] - 8s 7ms/step - loss: 0.0031 - mape: 1848.8890 - mae: 0.0394 - val_loss: 0.0123 - val_mape: 18.8908 - val_mae: 0.0920\n",
      "Epoch 22/100\n",
      "1105/1105 [==============================] - 8s 7ms/step - loss: 0.0030 - mape: 1441.6147 - mae: 0.0387 - val_loss: 0.0114 - val_mape: 17.8087 - val_mae: 0.0896\n",
      "Epoch 23/100\n",
      "1105/1105 [==============================] - 8s 7ms/step - loss: 0.0029 - mape: 1518.7415 - mae: 0.0381 - val_loss: 0.0148 - val_mape: 20.5535 - val_mae: 0.1066\n",
      "Epoch 24/100\n",
      "1105/1105 [==============================] - 8s 7ms/step - loss: 0.0028 - mape: 1562.2329 - mae: 0.0375 - val_loss: 0.0133 - val_mape: 18.8719 - val_mae: 0.0943\n",
      "Epoch 25/100\n",
      "1105/1105 [==============================] - 8s 7ms/step - loss: 0.0028 - mape: 1712.7006 - mae: 0.0373 - val_loss: 0.0126 - val_mape: 18.0480 - val_mae: 0.0894\n",
      "Epoch 26/100\n",
      "1105/1105 [==============================] - 8s 7ms/step - loss: 0.0027 - mape: 1813.9246 - mae: 0.0368 - val_loss: 0.0135 - val_mape: 18.7924 - val_mae: 0.0971\n",
      "Epoch 27/100\n",
      "1105/1105 [==============================] - 8s 7ms/step - loss: 0.0026 - mape: 1759.1785 - mae: 0.0363 - val_loss: 0.0146 - val_mape: 20.4386 - val_mae: 0.1055\n",
      "Epoch 28/100\n",
      "1105/1105 [==============================] - 8s 7ms/step - loss: 0.0025 - mape: 1511.6490 - mae: 0.0358 - val_loss: 0.0128 - val_mape: 17.3382 - val_mae: 0.0834\n",
      "Epoch 29/100\n",
      "1105/1105 [==============================] - 8s 7ms/step - loss: 0.0025 - mape: 1630.5781 - mae: 0.0355 - val_loss: 0.0144 - val_mape: 19.1116 - val_mae: 0.0930\n",
      "Epoch 30/100\n",
      "1105/1105 [==============================] - 8s 8ms/step - loss: 0.0025 - mape: 1628.0238 - mae: 0.0353 - val_loss: 0.0115 - val_mape: 17.7352 - val_mae: 0.0854\n",
      "Epoch 31/100\n",
      "1105/1105 [==============================] - 10s 9ms/step - loss: 0.0024 - mape: 1409.9901 - mae: 0.0348 - val_loss: 0.0090 - val_mape: 16.2446 - val_mae: 0.0774\n",
      "Epoch 32/100\n",
      "1105/1105 [==============================] - 10s 9ms/step - loss: 0.0024 - mape: 1664.5295 - mae: 0.0346 - val_loss: 0.0113 - val_mape: 17.5620 - val_mae: 0.0907\n",
      "Epoch 33/100\n",
      "1105/1105 [==============================] - 9s 9ms/step - loss: 0.0023 - mape: 1459.4596 - mae: 0.0341 - val_loss: 0.0109 - val_mape: 16.9305 - val_mae: 0.0867\n",
      "Epoch 34/100\n",
      "1105/1105 [==============================] - 9s 8ms/step - loss: 0.0023 - mape: 1620.9132 - mae: 0.0340 - val_loss: 0.0119 - val_mape: 18.2990 - val_mae: 0.0916\n",
      "Epoch 35/100\n",
      "1105/1105 [==============================] - 9s 8ms/step - loss: 0.0022 - mape: 1701.5936 - mae: 0.0336 - val_loss: 0.0140 - val_mape: 20.4806 - val_mae: 0.1029\n",
      "Epoch 36/100\n",
      "1105/1105 [==============================] - 9s 8ms/step - loss: 0.0022 - mape: 1234.9069 - mae: 0.0332 - val_loss: 0.0128 - val_mape: 18.8058 - val_mae: 0.0920\n",
      "Epoch 37/100\n",
      "1105/1105 [==============================] - 9s 8ms/step - loss: 0.0022 - mape: 1290.1516 - mae: 0.0332 - val_loss: 0.0132 - val_mape: 19.4972 - val_mae: 0.0963\n",
      "Epoch 38/100\n",
      "1105/1105 [==============================] - 9s 8ms/step - loss: 0.0021 - mape: 1467.9677 - mae: 0.0329 - val_loss: 0.0158 - val_mape: 20.2419 - val_mae: 0.1038\n",
      "Epoch 39/100\n",
      "1105/1105 [==============================] - 9s 9ms/step - loss: 0.0021 - mape: 1507.2078 - mae: 0.0325 - val_loss: 0.0146 - val_mape: 19.4908 - val_mae: 0.0975\n",
      "Epoch 40/100\n",
      "1105/1105 [==============================] - 9s 8ms/step - loss: 0.0020 - mape: 1273.7745 - mae: 0.0322 - val_loss: 0.0164 - val_mape: 19.9797 - val_mae: 0.1035\n",
      "Epoch 41/100\n",
      "1105/1105 [==============================] - 9s 9ms/step - loss: 0.0020 - mape: 1696.0542 - mae: 0.0321 - val_loss: 0.0141 - val_mape: 18.0484 - val_mae: 0.0952\n",
      "Epoch 42/100\n",
      "1105/1105 [==============================] - 9s 9ms/step - loss: 0.0020 - mape: 1105.8317 - mae: 0.0318 - val_loss: 0.0131 - val_mape: 18.2063 - val_mae: 0.0878\n",
      "Epoch 43/100\n",
      "1105/1105 [==============================] - 9s 8ms/step - loss: 0.0019 - mape: 1183.6758 - mae: 0.0313 - val_loss: 0.0134 - val_mape: 18.5997 - val_mae: 0.0916\n",
      "Epoch 44/100\n",
      "1105/1105 [==============================] - 9s 8ms/step - loss: 0.0019 - mape: 1281.4746 - mae: 0.0312 - val_loss: 0.0150 - val_mape: 19.5584 - val_mae: 0.0988\n",
      "Epoch 45/100\n",
      "1105/1105 [==============================] - 8s 8ms/step - loss: 0.0019 - mape: 1457.8491 - mae: 0.0315 - val_loss: 0.0122 - val_mape: 18.1957 - val_mae: 0.0908\n",
      "Epoch 46/100\n",
      "1105/1105 [==============================] - 8s 7ms/step - loss: 0.0018 - mape: 1178.5353 - mae: 0.0309 - val_loss: 0.0145 - val_mape: 18.5764 - val_mae: 0.0915\n",
      "Epoch 47/100\n",
      "1105/1105 [==============================] - 8s 7ms/step - loss: 0.0018 - mape: 1253.1769 - mae: 0.0305 - val_loss: 0.0153 - val_mape: 19.3279 - val_mae: 0.0950\n",
      "Epoch 48/100\n"
     ]
    },
    {
     "name": "stdout",
     "output_type": "stream",
     "text": [
      "1105/1105 [==============================] - 8s 7ms/step - loss: 0.0018 - mape: 1466.7747 - mae: 0.0306 - val_loss: 0.0108 - val_mape: 16.8899 - val_mae: 0.0837\n",
      "Epoch 49/100\n",
      "1105/1105 [==============================] - 8s 7ms/step - loss: 0.0018 - mape: 1286.4927 - mae: 0.0302 - val_loss: 0.0150 - val_mape: 20.0030 - val_mae: 0.0960\n",
      "Epoch 50/100\n",
      "1105/1105 [==============================] - 8s 8ms/step - loss: 0.0017 - mape: 1199.4346 - mae: 0.0297 - val_loss: 0.0122 - val_mape: 18.2032 - val_mae: 0.0879\n",
      "Epoch 51/100\n",
      "1105/1105 [==============================] - 9s 8ms/step - loss: 0.0017 - mape: 1154.0533 - mae: 0.0295 - val_loss: 0.0108 - val_mape: 16.4485 - val_mae: 0.0836\n",
      "Epoch 52/100\n",
      "1105/1105 [==============================] - 10s 9ms/step - loss: 0.0017 - mape: 1361.7446 - mae: 0.0294 - val_loss: 0.0100 - val_mape: 15.6369 - val_mae: 0.0788\n",
      "Epoch 53/100\n",
      "1105/1105 [==============================] - 9s 8ms/step - loss: 0.0017 - mape: 1245.3378 - mae: 0.0294 - val_loss: 0.0116 - val_mape: 17.0776 - val_mae: 0.0839\n",
      "Epoch 54/100\n",
      "1105/1105 [==============================] - 9s 8ms/step - loss: 0.0016 - mape: 1559.5922 - mae: 0.0288 - val_loss: 0.0119 - val_mape: 17.5027 - val_mae: 0.0880\n",
      "Epoch 55/100\n",
      "1105/1105 [==============================] - 9s 8ms/step - loss: 0.0016 - mape: 1235.9902 - mae: 0.0289 - val_loss: 0.0111 - val_mape: 17.3911 - val_mae: 0.0859\n",
      "Epoch 56/100\n",
      "1105/1105 [==============================] - 9s 8ms/step - loss: 0.0015 - mape: 1394.0813 - mae: 0.0281 - val_loss: 0.0109 - val_mape: 17.2029 - val_mae: 0.0842\n",
      "Epoch 57/100\n",
      "1105/1105 [==============================] - 9s 8ms/step - loss: 0.0015 - mape: 1479.8337 - mae: 0.0283 - val_loss: 0.0099 - val_mape: 16.4765 - val_mae: 0.0796\n",
      "Epoch 58/100\n",
      "1105/1105 [==============================] - 9s 8ms/step - loss: 0.0015 - mape: 971.2619 - mae: 0.0282 - val_loss: 0.0103 - val_mape: 17.4800 - val_mae: 0.0862\n",
      "Epoch 59/100\n",
      "1105/1105 [==============================] - 9s 8ms/step - loss: 0.0016 - mape: 996.4338 - mae: 0.0287 - val_loss: 0.0119 - val_mape: 17.8241 - val_mae: 0.0872\n",
      "Epoch 60/100\n",
      "1105/1105 [==============================] - 9s 8ms/step - loss: 0.0014 - mape: 1186.2671 - mae: 0.0273 - val_loss: 0.0102 - val_mape: 16.8863 - val_mae: 0.0821\n",
      "Epoch 61/100\n",
      "1105/1105 [==============================] - 9s 8ms/step - loss: 0.0015 - mape: 1006.3467 - mae: 0.0279 - val_loss: 0.0104 - val_mape: 16.7700 - val_mae: 0.0834\n",
      "Epoch 62/100\n",
      "1105/1105 [==============================] - 9s 8ms/step - loss: 0.0015 - mape: 1411.2164 - mae: 0.0281 - val_loss: 0.0108 - val_mape: 16.1454 - val_mae: 0.0808\n",
      "Epoch 63/100\n",
      "1105/1105 [==============================] - 9s 8ms/step - loss: 0.0014 - mape: 1522.9797 - mae: 0.0272 - val_loss: 0.0122 - val_mape: 17.8696 - val_mae: 0.0885\n",
      "Epoch 64/100\n",
      "1105/1105 [==============================] - 9s 8ms/step - loss: 0.0014 - mape: 1248.4673 - mae: 0.0268 - val_loss: 0.0106 - val_mape: 16.6977 - val_mae: 0.0816\n",
      "Epoch 65/100\n",
      "1105/1105 [==============================] - 9s 8ms/step - loss: 0.0014 - mape: 1299.1807 - mae: 0.0269 - val_loss: 0.0112 - val_mape: 18.3703 - val_mae: 0.0896\n",
      "Epoch 66/100\n",
      "1105/1105 [==============================] - 9s 8ms/step - loss: 0.0013 - mape: 1188.1995 - mae: 0.0268 - val_loss: 0.0126 - val_mape: 18.3286 - val_mae: 0.0922\n",
      "Epoch 67/100\n",
      "1105/1105 [==============================] - 9s 8ms/step - loss: 0.0014 - mape: 1121.5391 - mae: 0.0268 - val_loss: 0.0133 - val_mape: 18.7364 - val_mae: 0.0937\n",
      "Epoch 68/100\n",
      "1105/1105 [==============================] - 9s 8ms/step - loss: 0.0013 - mape: 1113.4851 - mae: 0.0263 - val_loss: 0.0148 - val_mape: 18.5800 - val_mae: 0.0946\n",
      "Epoch 69/100\n",
      "1105/1105 [==============================] - 9s 8ms/step - loss: 0.0013 - mape: 881.9080 - mae: 0.0264 - val_loss: 0.0102 - val_mape: 16.2230 - val_mae: 0.0818\n",
      "Epoch 70/100\n",
      "1105/1105 [==============================] - 9s 8ms/step - loss: 0.0013 - mape: 1446.7305 - mae: 0.0259 - val_loss: 0.0110 - val_mape: 17.2752 - val_mae: 0.0859\n",
      "Epoch 71/100\n",
      "1105/1105 [==============================] - 9s 8ms/step - loss: 0.0013 - mape: 1139.8947 - mae: 0.0261 - val_loss: 0.0125 - val_mape: 17.9976 - val_mae: 0.0885\n",
      "Epoch 72/100\n",
      "1105/1105 [==============================] - 9s 8ms/step - loss: 0.0013 - mape: 1008.5772 - mae: 0.0261 - val_loss: 0.0105 - val_mape: 16.5258 - val_mae: 0.0813\n",
      "Epoch 73/100\n",
      "1105/1105 [==============================] - 9s 8ms/step - loss: 0.0013 - mape: 1273.6251 - mae: 0.0259 - val_loss: 0.0149 - val_mape: 19.4348 - val_mae: 0.0951\n",
      "Epoch 74/100\n",
      "1105/1105 [==============================] - 9s 8ms/step - loss: 0.0012 - mape: 1022.2240 - mae: 0.0257 - val_loss: 0.0153 - val_mape: 20.3030 - val_mae: 0.1026\n",
      "Epoch 75/100\n",
      "1105/1105 [==============================] - 9s 8ms/step - loss: 0.0012 - mape: 1189.3375 - mae: 0.0254 - val_loss: 0.0095 - val_mape: 15.9656 - val_mae: 0.0773\n",
      "Epoch 76/100\n",
      "1105/1105 [==============================] - 9s 8ms/step - loss: 0.0012 - mape: 1151.9143 - mae: 0.0253 - val_loss: 0.0151 - val_mape: 19.2211 - val_mae: 0.0994\n",
      "Epoch 77/100\n",
      "1105/1105 [==============================] - 9s 8ms/step - loss: 0.0012 - mape: 1096.0009 - mae: 0.0253 - val_loss: 0.0142 - val_mape: 18.8220 - val_mae: 0.0960\n",
      "Epoch 78/100\n",
      "1105/1105 [==============================] - 9s 8ms/step - loss: 0.0011 - mape: 958.3213 - mae: 0.0247 - val_loss: 0.0121 - val_mape: 17.7752 - val_mae: 0.0876\n",
      "Epoch 79/100\n",
      "1105/1105 [==============================] - 9s 8ms/step - loss: 0.0012 - mape: 1212.2262 - mae: 0.0252 - val_loss: 0.0118 - val_mape: 17.7292 - val_mae: 0.0860\n",
      "Epoch 80/100\n",
      "1105/1105 [==============================] - 9s 8ms/step - loss: 0.0012 - mape: 734.9399 - mae: 0.0251 - val_loss: 0.0131 - val_mape: 18.8065 - val_mae: 0.0911\n",
      "Epoch 81/100\n",
      "1105/1105 [==============================] - 9s 8ms/step - loss: 0.0012 - mape: 1179.8062 - mae: 0.0251 - val_loss: 0.0149 - val_mape: 18.5538 - val_mae: 0.0957\n",
      "Epoch 82/100\n",
      "1105/1105 [==============================] - 9s 8ms/step - loss: 0.0011 - mape: 1314.4890 - mae: 0.0247 - val_loss: 0.0108 - val_mape: 16.2077 - val_mae: 0.0807\n",
      "Epoch 83/100\n",
      "1105/1105 [==============================] - 9s 8ms/step - loss: 0.0011 - mape: 1237.0183 - mae: 0.0243 - val_loss: 0.0123 - val_mape: 17.9301 - val_mae: 0.0887\n",
      "Epoch 84/100\n",
      "1105/1105 [==============================] - 9s 8ms/step - loss: 0.0011 - mape: 1085.3950 - mae: 0.0247 - val_loss: 0.0133 - val_mape: 17.8405 - val_mae: 0.0907\n",
      "Epoch 85/100\n",
      "1105/1105 [==============================] - 8s 8ms/step - loss: 0.0011 - mape: 1296.8020 - mae: 0.0244 - val_loss: 0.0113 - val_mape: 16.9719 - val_mae: 0.0836\n",
      "Epoch 86/100\n",
      "1105/1105 [==============================] - 9s 8ms/step - loss: 0.0011 - mape: 1330.3097 - mae: 0.0240 - val_loss: 0.0140 - val_mape: 19.1373 - val_mae: 0.0968\n",
      "Epoch 87/100\n",
      "1105/1105 [==============================] - 9s 8ms/step - loss: 0.0011 - mape: 1441.0447 - mae: 0.0240 - val_loss: 0.0126 - val_mape: 17.7016 - val_mae: 0.0882\n",
      "Epoch 88/100\n",
      "1105/1105 [==============================] - 8s 8ms/step - loss: 0.0010 - mape: 1008.8776 - mae: 0.0238 - val_loss: 0.0093 - val_mape: 15.4850 - val_mae: 0.0768\n",
      "Epoch 89/100\n",
      "1105/1105 [==============================] - 8s 7ms/step - loss: 0.0011 - mape: 1028.6930 - mae: 0.0240 - val_loss: 0.0094 - val_mape: 15.4945 - val_mae: 0.0759\n",
      "Epoch 90/100\n",
      "1105/1105 [==============================] - 8s 7ms/step - loss: 0.0010 - mape: 1189.2288 - mae: 0.0233 - val_loss: 0.0126 - val_mape: 17.2341 - val_mae: 0.0886\n",
      "Epoch 91/100\n",
      "1105/1105 [==============================] - 8s 8ms/step - loss: 0.0010 - mape: 865.3522 - mae: 0.0236 - val_loss: 0.0117 - val_mape: 17.3266 - val_mae: 0.0864\n",
      "Epoch 92/100\n",
      "1105/1105 [==============================] - 8s 8ms/step - loss: 0.0010 - mape: 890.6954 - mae: 0.0234 - val_loss: 0.0117 - val_mape: 17.2663 - val_mae: 0.0852\n",
      "Epoch 93/100\n",
      "1105/1105 [==============================] - 9s 8ms/step - loss: 0.0011 - mape: 1445.4961 - mae: 0.0240 - val_loss: 0.0100 - val_mape: 16.1573 - val_mae: 0.0797\n",
      "Epoch 94/100\n",
      "1105/1105 [==============================] - 9s 8ms/step - loss: 0.0010 - mape: 979.6171 - mae: 0.0233 - val_loss: 0.0107 - val_mape: 15.8941 - val_mae: 0.0809\n",
      "Epoch 95/100\n"
     ]
    },
    {
     "name": "stdout",
     "output_type": "stream",
     "text": [
      "1105/1105 [==============================] - 9s 8ms/step - loss: 9.8788e-04 - mape: 1280.5593 - mae: 0.0231 - val_loss: 0.0121 - val_mape: 17.5512 - val_mae: 0.0896\n",
      "Epoch 96/100\n",
      "1105/1105 [==============================] - 9s 8ms/step - loss: 9.3778e-04 - mape: 1067.7815 - mae: 0.0226 - val_loss: 0.0136 - val_mape: 18.3500 - val_mae: 0.0925\n",
      "Epoch 97/100\n",
      "1105/1105 [==============================] - 8s 8ms/step - loss: 9.6758e-04 - mape: 1073.8962 - mae: 0.0229 - val_loss: 0.0106 - val_mape: 16.7046 - val_mae: 0.0826\n",
      "Epoch 98/100\n",
      "1105/1105 [==============================] - 9s 8ms/step - loss: 0.0010 - mape: 1131.2615 - mae: 0.0235 - val_loss: 0.0121 - val_mape: 17.5140 - val_mae: 0.0892\n",
      "Epoch 99/100\n",
      "1105/1105 [==============================] - 8s 8ms/step - loss: 9.6268e-04 - mape: 1262.6841 - mae: 0.0228 - val_loss: 0.0101 - val_mape: 16.1185 - val_mae: 0.0815\n",
      "Epoch 100/100\n",
      "1105/1105 [==============================] - 8s 8ms/step - loss: 9.6122e-04 - mape: 1185.6859 - mae: 0.0228 - val_loss: 0.0109 - val_mape: 17.1832 - val_mae: 0.0828\n"
     ]
    },
    {
     "data": {
      "text/plain": [
       "<keras.callbacks.History at 0x145c2213520>"
      ]
     },
     "execution_count": 22,
     "metadata": {},
     "output_type": "execute_result"
    }
   ],
   "source": [
    "model.fit(X_train, Y_train, epochs= epochs, batch_size= batchSize, verbose= 1, shuffle= True, validation_data= (X_valid, Y_valid))"
   ]
  },
  {
   "cell_type": "code",
   "execution_count": 23,
   "id": "cd839153",
   "metadata": {},
   "outputs": [
    {
     "name": "stdout",
     "output_type": "stream",
     "text": [
      "Total execution time in seconds: 876.1113169193268\n"
     ]
    }
   ],
   "source": [
    "calcExecTime = (time.time() - startTime)\n",
    "print('Total execution time in seconds: ' + str(calcExecTime))"
   ]
  },
  {
   "cell_type": "markdown",
   "id": "72aafa74",
   "metadata": {},
   "source": [
    "### MAKING PREDICTIONS AND GENERATING RESULTS"
   ]
  },
  {
   "cell_type": "code",
   "execution_count": 24,
   "id": "259bfb49",
   "metadata": {},
   "outputs": [
    {
     "name": "stdout",
     "output_type": "stream",
     "text": [
      "6/6 [==============================] - 1s 6ms/step\n"
     ]
    }
   ],
   "source": [
    "predictions = model.predict(X_test)"
   ]
  },
  {
   "cell_type": "code",
   "execution_count": 25,
   "id": "2912d431",
   "metadata": {},
   "outputs": [
    {
     "data": {
      "text/plain": [
       "array([0.27162677, 0.2398089 , 0.24078214, ..., 0.40556067, 0.36857817,\n",
       "       0.35180002], dtype=float32)"
      ]
     },
     "execution_count": 25,
     "metadata": {},
     "output_type": "execute_result"
    }
   ],
   "source": [
    "predArr = predictions.reshape(predictions.shape[0] * predictions.shape[1], predictions.shape[2]).ravel()\n",
    "predArr"
   ]
  },
  {
   "cell_type": "code",
   "execution_count": 26,
   "id": "b01889f2",
   "metadata": {},
   "outputs": [
    {
     "data": {
      "text/plain": [
       "array([0.35744, 0.34448, 0.34344, ..., 0.41264, 0.3948 , 0.37856])"
      ]
     },
     "execution_count": 26,
     "metadata": {},
     "output_type": "execute_result"
    }
   ],
   "source": [
    "Y_testArr = Y_test.reshape(Y_test.shape[0] * Y_test.shape[1], Y_test.shape[2]).ravel()\n",
    "Y_testArr"
   ]
  },
  {
   "cell_type": "code",
   "execution_count": 27,
   "id": "799c97e8",
   "metadata": {},
   "outputs": [],
   "source": [
    "def inverse_transform(df):\n",
    "    column_names = df.columns\n",
    "    for col in column_names:\n",
    "        df[col] = ValScaler.inverse_transform(df[[col]]) \n",
    "    return df"
   ]
  },
  {
   "cell_type": "code",
   "execution_count": 28,
   "id": "afa81e30",
   "metadata": {},
   "outputs": [
    {
     "data": {
      "text/html": [
       "<div>\n",
       "<style scoped>\n",
       "    .dataframe tbody tr th:only-of-type {\n",
       "        vertical-align: middle;\n",
       "    }\n",
       "\n",
       "    .dataframe tbody tr th {\n",
       "        vertical-align: top;\n",
       "    }\n",
       "\n",
       "    .dataframe thead th {\n",
       "        text-align: right;\n",
       "    }\n",
       "</style>\n",
       "<table border=\"1\" class=\"dataframe\">\n",
       "  <thead>\n",
       "    <tr style=\"text-align: right;\">\n",
       "      <th></th>\n",
       "      <th>Values</th>\n",
       "      <th>Predictions</th>\n",
       "    </tr>\n",
       "  </thead>\n",
       "  <tbody>\n",
       "    <tr>\n",
       "      <th>0</th>\n",
       "      <td>10951.0</td>\n",
       "      <td>9878.333984</td>\n",
       "    </tr>\n",
       "    <tr>\n",
       "      <th>1</th>\n",
       "      <td>10789.0</td>\n",
       "      <td>9480.611328</td>\n",
       "    </tr>\n",
       "    <tr>\n",
       "      <th>2</th>\n",
       "      <td>10776.0</td>\n",
       "      <td>9492.776367</td>\n",
       "    </tr>\n",
       "    <tr>\n",
       "      <th>3</th>\n",
       "      <td>10842.0</td>\n",
       "      <td>9638.143555</td>\n",
       "    </tr>\n",
       "    <tr>\n",
       "      <th>4</th>\n",
       "      <td>11558.0</td>\n",
       "      <td>10062.678711</td>\n",
       "    </tr>\n",
       "    <tr>\n",
       "      <th>...</th>\n",
       "      <td>...</td>\n",
       "      <td>...</td>\n",
       "    </tr>\n",
       "    <tr>\n",
       "      <th>4363</th>\n",
       "      <td>12799.0</td>\n",
       "      <td>13260.385742</td>\n",
       "    </tr>\n",
       "    <tr>\n",
       "      <th>4364</th>\n",
       "      <td>12065.0</td>\n",
       "      <td>12342.008789</td>\n",
       "    </tr>\n",
       "    <tr>\n",
       "      <th>4365</th>\n",
       "      <td>11641.0</td>\n",
       "      <td>11552.507812</td>\n",
       "    </tr>\n",
       "    <tr>\n",
       "      <th>4366</th>\n",
       "      <td>11418.0</td>\n",
       "      <td>11090.227539</td>\n",
       "    </tr>\n",
       "    <tr>\n",
       "      <th>4367</th>\n",
       "      <td>11215.0</td>\n",
       "      <td>10880.500000</td>\n",
       "    </tr>\n",
       "  </tbody>\n",
       "</table>\n",
       "<p>4368 rows × 2 columns</p>\n",
       "</div>"
      ],
      "text/plain": [
       "       Values   Predictions\n",
       "0     10951.0   9878.333984\n",
       "1     10789.0   9480.611328\n",
       "2     10776.0   9492.776367\n",
       "3     10842.0   9638.143555\n",
       "4     11558.0  10062.678711\n",
       "...       ...           ...\n",
       "4363  12799.0  13260.385742\n",
       "4364  12065.0  12342.008789\n",
       "4365  11641.0  11552.507812\n",
       "4366  11418.0  11090.227539\n",
       "4367  11215.0  10880.500000\n",
       "\n",
       "[4368 rows x 2 columns]"
      ]
     },
     "execution_count": 28,
     "metadata": {},
     "output_type": "execute_result"
    }
   ],
   "source": [
    "comparisionDf = pd.DataFrame(data= {\"Values\": Y_testArr, \"Predictions\": predArr})\n",
    "comparisionDf = inverse_transform(comparisionDf)\n",
    "comparisionDf"
   ]
  },
  {
   "cell_type": "code",
   "execution_count": 29,
   "id": "88222bae",
   "metadata": {},
   "outputs": [
    {
     "data": {
      "text/plain": [
       "5.916817208852109"
      ]
     },
     "execution_count": 29,
     "metadata": {},
     "output_type": "execute_result"
    }
   ],
   "source": [
    "mape(comparisionDf[\"Values\"], comparisionDf[\"Predictions\"])"
   ]
  }
 ],
 "metadata": {
  "kernelspec": {
   "display_name": "Python 3 (ipykernel)",
   "language": "python",
   "name": "python3"
  },
  "language_info": {
   "codemirror_mode": {
    "name": "ipython",
    "version": 3
   },
   "file_extension": ".py",
   "mimetype": "text/x-python",
   "name": "python",
   "nbconvert_exporter": "python",
   "pygments_lexer": "ipython3",
   "version": "3.9.12"
  }
 },
 "nbformat": 4,
 "nbformat_minor": 5
}
