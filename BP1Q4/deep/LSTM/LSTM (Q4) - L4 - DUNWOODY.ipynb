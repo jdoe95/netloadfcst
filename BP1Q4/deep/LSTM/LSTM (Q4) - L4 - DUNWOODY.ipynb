{
 "cells": [
  {
   "cell_type": "code",
   "execution_count": 1,
   "id": "5f61b29f",
   "metadata": {},
   "outputs": [
    {
     "name": "stdout",
     "output_type": "stream",
     "text": [
      "Num GPUs Available:  1\n"
     ]
    }
   ],
   "source": [
    "import pandas as pd\n",
    "import numpy as np\n",
    "import os\n",
    "import matplotlib.pyplot as plt\n",
    "from datetime import datetime\n",
    "from sklearn.preprocessing import MinMaxScaler, RobustScaler, StandardScaler\n",
    "import time\n",
    "\n",
    "import tensorflow as tf\n",
    "tf.random.set_seed(42)\n",
    "\n",
    "def mape(y_true, y_pred):\n",
    "    y_true, y_pred = np.array(y_true), np.array(y_pred)\n",
    "    return np.mean(np.abs((y_true - y_pred) / max(y_true))) * 100\n",
    "\n",
    "def RMSELoss(yhat,y):\n",
    "    return torch.sqrt(torch.mean((yhat-y)**2))\n",
    "\n",
    "print(\"Num GPUs Available: \", len(tf.config.list_physical_devices('GPU')))"
   ]
  },
  {
   "cell_type": "code",
   "execution_count": 2,
   "id": "cea0abe2",
   "metadata": {},
   "outputs": [
    {
     "name": "stdout",
     "output_type": "stream",
     "text": [
      "['Capital.csv', 'Central.csv', 'Dunwoody.csv', 'Genese.csv', 'Hudson.csv', 'LongIsland.csv', 'Milwood.csv', 'NYC.csv']\n"
     ]
    }
   ],
   "source": [
    "# Specifying the path of file\n",
    "path= r\"C:\\Users\\sashah8\\OneDrive - North Carolina State University\\Desktop\\Q4\\Data\\L4\\data_cleaned\"\n",
    "\n",
    "# Listing just the required files\n",
    "fileList = os.listdir(path)\n",
    "fileList.remove(\"Date.csv\")\n",
    "\n",
    "# Previewing the required file names\n",
    "print(fileList)"
   ]
  },
  {
   "cell_type": "code",
   "execution_count": 3,
   "id": "a6fe9396",
   "metadata": {},
   "outputs": [
    {
     "data": {
      "text/html": [
       "<div>\n",
       "<style scoped>\n",
       "    .dataframe tbody tr th:only-of-type {\n",
       "        vertical-align: middle;\n",
       "    }\n",
       "\n",
       "    .dataframe tbody tr th {\n",
       "        vertical-align: top;\n",
       "    }\n",
       "\n",
       "    .dataframe thead th {\n",
       "        text-align: right;\n",
       "    }\n",
       "</style>\n",
       "<table border=\"1\" class=\"dataframe\">\n",
       "  <thead>\n",
       "    <tr style=\"text-align: right;\">\n",
       "      <th></th>\n",
       "      <th>Demand</th>\n",
       "      <th>Normalized_net</th>\n",
       "      <th>Temprature</th>\n",
       "    </tr>\n",
       "  </thead>\n",
       "  <tbody>\n",
       "    <tr>\n",
       "      <th>0</th>\n",
       "      <td>643.8</td>\n",
       "      <td>0.467026</td>\n",
       "      <td>-5.8</td>\n",
       "    </tr>\n",
       "    <tr>\n",
       "      <th>1</th>\n",
       "      <td>612.9</td>\n",
       "      <td>0.444610</td>\n",
       "      <td>-6.1</td>\n",
       "    </tr>\n",
       "    <tr>\n",
       "      <th>2</th>\n",
       "      <td>587.9</td>\n",
       "      <td>0.426475</td>\n",
       "      <td>-7.5</td>\n",
       "    </tr>\n",
       "    <tr>\n",
       "      <th>3</th>\n",
       "      <td>570.0</td>\n",
       "      <td>0.413490</td>\n",
       "      <td>-8.4</td>\n",
       "    </tr>\n",
       "    <tr>\n",
       "      <th>4</th>\n",
       "      <td>563.5</td>\n",
       "      <td>0.408774</td>\n",
       "      <td>-7.4</td>\n",
       "    </tr>\n",
       "    <tr>\n",
       "      <th>...</th>\n",
       "      <td>...</td>\n",
       "      <td>...</td>\n",
       "      <td>...</td>\n",
       "    </tr>\n",
       "    <tr>\n",
       "      <th>43819</th>\n",
       "      <td>696.4</td>\n",
       "      <td>0.505183</td>\n",
       "      <td>3.4</td>\n",
       "    </tr>\n",
       "    <tr>\n",
       "      <th>43820</th>\n",
       "      <td>668.5</td>\n",
       "      <td>0.484944</td>\n",
       "      <td>3.3</td>\n",
       "    </tr>\n",
       "    <tr>\n",
       "      <th>43821</th>\n",
       "      <td>637.9</td>\n",
       "      <td>0.462746</td>\n",
       "      <td>2.6</td>\n",
       "    </tr>\n",
       "    <tr>\n",
       "      <th>43822</th>\n",
       "      <td>608.4</td>\n",
       "      <td>0.441346</td>\n",
       "      <td>2.7</td>\n",
       "    </tr>\n",
       "    <tr>\n",
       "      <th>43823</th>\n",
       "      <td>579.8</td>\n",
       "      <td>0.420599</td>\n",
       "      <td>3.0</td>\n",
       "    </tr>\n",
       "  </tbody>\n",
       "</table>\n",
       "<p>43824 rows × 3 columns</p>\n",
       "</div>"
      ],
      "text/plain": [
       "       Demand  Normalized_net  Temprature\n",
       "0       643.8        0.467026        -5.8\n",
       "1       612.9        0.444610        -6.1\n",
       "2       587.9        0.426475        -7.5\n",
       "3       570.0        0.413490        -8.4\n",
       "4       563.5        0.408774        -7.4\n",
       "...       ...             ...         ...\n",
       "43819   696.4        0.505183         3.4\n",
       "43820   668.5        0.484944         3.3\n",
       "43821   637.9        0.462746         2.6\n",
       "43822   608.4        0.441346         2.7\n",
       "43823   579.8        0.420599         3.0\n",
       "\n",
       "[43824 rows x 3 columns]"
      ]
     },
     "execution_count": 3,
     "metadata": {},
     "output_type": "execute_result"
    }
   ],
   "source": [
    "# Just for previewing the columns\n",
    "pd.read_csv(os.path.join(path, fileList[2]))"
   ]
  },
  {
   "cell_type": "markdown",
   "id": "9ad4906c",
   "metadata": {
    "pycharm": {
     "name": "#%% md\n"
    }
   },
   "source": [
    "### PROCESSING THE DATA"
   ]
  },
  {
   "cell_type": "code",
   "execution_count": 4,
   "id": "f29f6db2",
   "metadata": {},
   "outputs": [
    {
     "data": {
      "text/html": [
       "<div>\n",
       "<style scoped>\n",
       "    .dataframe tbody tr th:only-of-type {\n",
       "        vertical-align: middle;\n",
       "    }\n",
       "\n",
       "    .dataframe tbody tr th {\n",
       "        vertical-align: top;\n",
       "    }\n",
       "\n",
       "    .dataframe thead th {\n",
       "        text-align: right;\n",
       "    }\n",
       "</style>\n",
       "<table border=\"1\" class=\"dataframe\">\n",
       "  <thead>\n",
       "    <tr style=\"text-align: right;\">\n",
       "      <th></th>\n",
       "      <th>Load_Dunwoody</th>\n",
       "      <th>Temp_Dunwoody</th>\n",
       "    </tr>\n",
       "  </thead>\n",
       "  <tbody>\n",
       "    <tr>\n",
       "      <th>0</th>\n",
       "      <td>643.8</td>\n",
       "      <td>-5.8</td>\n",
       "    </tr>\n",
       "    <tr>\n",
       "      <th>1</th>\n",
       "      <td>612.9</td>\n",
       "      <td>-6.1</td>\n",
       "    </tr>\n",
       "    <tr>\n",
       "      <th>2</th>\n",
       "      <td>587.9</td>\n",
       "      <td>-7.5</td>\n",
       "    </tr>\n",
       "    <tr>\n",
       "      <th>3</th>\n",
       "      <td>570.0</td>\n",
       "      <td>-8.4</td>\n",
       "    </tr>\n",
       "    <tr>\n",
       "      <th>4</th>\n",
       "      <td>563.5</td>\n",
       "      <td>-7.4</td>\n",
       "    </tr>\n",
       "    <tr>\n",
       "      <th>...</th>\n",
       "      <td>...</td>\n",
       "      <td>...</td>\n",
       "    </tr>\n",
       "    <tr>\n",
       "      <th>43819</th>\n",
       "      <td>696.4</td>\n",
       "      <td>3.4</td>\n",
       "    </tr>\n",
       "    <tr>\n",
       "      <th>43820</th>\n",
       "      <td>668.5</td>\n",
       "      <td>3.3</td>\n",
       "    </tr>\n",
       "    <tr>\n",
       "      <th>43821</th>\n",
       "      <td>637.9</td>\n",
       "      <td>2.6</td>\n",
       "    </tr>\n",
       "    <tr>\n",
       "      <th>43822</th>\n",
       "      <td>608.4</td>\n",
       "      <td>2.7</td>\n",
       "    </tr>\n",
       "    <tr>\n",
       "      <th>43823</th>\n",
       "      <td>579.8</td>\n",
       "      <td>3.0</td>\n",
       "    </tr>\n",
       "  </tbody>\n",
       "</table>\n",
       "<p>43824 rows × 2 columns</p>\n",
       "</div>"
      ],
      "text/plain": [
       "       Load_Dunwoody  Temp_Dunwoody\n",
       "0              643.8           -5.8\n",
       "1              612.9           -6.1\n",
       "2              587.9           -7.5\n",
       "3              570.0           -8.4\n",
       "4              563.5           -7.4\n",
       "...              ...            ...\n",
       "43819          696.4            3.4\n",
       "43820          668.5            3.3\n",
       "43821          637.9            2.6\n",
       "43822          608.4            2.7\n",
       "43823          579.8            3.0\n",
       "\n",
       "[43824 rows x 2 columns]"
      ]
     },
     "execution_count": 4,
     "metadata": {},
     "output_type": "execute_result"
    }
   ],
   "source": [
    "# Restricting the load data to a single zone\n",
    "fileName  = fileList[2]\n",
    "\n",
    "zoneData = pd.read_csv(os.path.join(path, fileName), usecols= [\"Demand\", \"Temprature\"])\n",
    "zoneData.columns = [\"Load_\"+str(fileName[:-4]), \"Temp_\"+str(fileName[:-4])]\n",
    "\n",
    "# For fixing one missing row\n",
    "# zoneData = pd.concat([zoneData.loc[[0]], zoneData], axis= 0).reset_index(drop= True)\n",
    "\n",
    "zoneData"
   ]
  },
  {
   "cell_type": "markdown",
   "id": "01cec4bd",
   "metadata": {},
   "source": [
    "### FEATURE ENGINEERING AND SPLITTING INTO TRAIN-TEST SPLIT"
   ]
  },
  {
   "cell_type": "code",
   "execution_count": 5,
   "id": "a1e1e8a3",
   "metadata": {},
   "outputs": [],
   "source": [
    "def lagGenerator(dF, lagList):\n",
    "    dF_temp = dF.filter(regex= \"Load\").copy()\n",
    "    \n",
    "    for i in lagList:\n",
    "        dF_temp.loc[:, \"Lag-\" + str(i)] = dF_temp.iloc[:,[0]].shift(i*24)\n",
    "    \n",
    "    return(dF_temp.filter(regex= \"Lag\"))"
   ]
  },
  {
   "cell_type": "code",
   "execution_count": 6,
   "id": "159a2a82",
   "metadata": {},
   "outputs": [
    {
     "data": {
      "text/html": [
       "<div>\n",
       "<style scoped>\n",
       "    .dataframe tbody tr th:only-of-type {\n",
       "        vertical-align: middle;\n",
       "    }\n",
       "\n",
       "    .dataframe tbody tr th {\n",
       "        vertical-align: top;\n",
       "    }\n",
       "\n",
       "    .dataframe thead th {\n",
       "        text-align: right;\n",
       "    }\n",
       "</style>\n",
       "<table border=\"1\" class=\"dataframe\">\n",
       "  <thead>\n",
       "    <tr style=\"text-align: right;\">\n",
       "      <th></th>\n",
       "      <th>Lag-2</th>\n",
       "      <th>Lag-7</th>\n",
       "    </tr>\n",
       "  </thead>\n",
       "  <tbody>\n",
       "    <tr>\n",
       "      <th>0</th>\n",
       "      <td>NaN</td>\n",
       "      <td>NaN</td>\n",
       "    </tr>\n",
       "    <tr>\n",
       "      <th>1</th>\n",
       "      <td>NaN</td>\n",
       "      <td>NaN</td>\n",
       "    </tr>\n",
       "  </tbody>\n",
       "</table>\n",
       "</div>"
      ],
      "text/plain": [
       "   Lag-2  Lag-7\n",
       "0    NaN    NaN\n",
       "1    NaN    NaN"
      ]
     },
     "execution_count": 6,
     "metadata": {},
     "output_type": "execute_result"
    }
   ],
   "source": [
    "Load_lags = lagGenerator(dF=zoneData, lagList=[2,7])\n",
    "Load_lags.head(2)"
   ]
  },
  {
   "cell_type": "code",
   "execution_count": 7,
   "id": "05896954",
   "metadata": {},
   "outputs": [
    {
     "data": {
      "text/html": [
       "<div>\n",
       "<style scoped>\n",
       "    .dataframe tbody tr th:only-of-type {\n",
       "        vertical-align: middle;\n",
       "    }\n",
       "\n",
       "    .dataframe tbody tr th {\n",
       "        vertical-align: top;\n",
       "    }\n",
       "\n",
       "    .dataframe thead th {\n",
       "        text-align: right;\n",
       "    }\n",
       "</style>\n",
       "<table border=\"1\" class=\"dataframe\">\n",
       "  <thead>\n",
       "    <tr style=\"text-align: right;\">\n",
       "      <th></th>\n",
       "      <th>Load_Dunwoody</th>\n",
       "      <th>Temp_Dunwoody</th>\n",
       "      <th>Lag-2</th>\n",
       "      <th>Lag-7</th>\n",
       "    </tr>\n",
       "  </thead>\n",
       "  <tbody>\n",
       "    <tr>\n",
       "      <th>0</th>\n",
       "      <td>690.0</td>\n",
       "      <td>-13.9</td>\n",
       "      <td>604.8</td>\n",
       "      <td>643.8</td>\n",
       "    </tr>\n",
       "    <tr>\n",
       "      <th>1</th>\n",
       "      <td>662.3</td>\n",
       "      <td>-14.2</td>\n",
       "      <td>584.8</td>\n",
       "      <td>612.9</td>\n",
       "    </tr>\n",
       "    <tr>\n",
       "      <th>2</th>\n",
       "      <td>646.5</td>\n",
       "      <td>-14.8</td>\n",
       "      <td>569.3</td>\n",
       "      <td>587.9</td>\n",
       "    </tr>\n",
       "    <tr>\n",
       "      <th>3</th>\n",
       "      <td>640.1</td>\n",
       "      <td>-15.6</td>\n",
       "      <td>544.0</td>\n",
       "      <td>570.0</td>\n",
       "    </tr>\n",
       "    <tr>\n",
       "      <th>4</th>\n",
       "      <td>645.9</td>\n",
       "      <td>-16.0</td>\n",
       "      <td>559.3</td>\n",
       "      <td>563.5</td>\n",
       "    </tr>\n",
       "    <tr>\n",
       "      <th>...</th>\n",
       "      <td>...</td>\n",
       "      <td>...</td>\n",
       "      <td>...</td>\n",
       "      <td>...</td>\n",
       "    </tr>\n",
       "    <tr>\n",
       "      <th>43651</th>\n",
       "      <td>696.4</td>\n",
       "      <td>3.4</td>\n",
       "      <td>687.7</td>\n",
       "      <td>693.1</td>\n",
       "    </tr>\n",
       "    <tr>\n",
       "      <th>43652</th>\n",
       "      <td>668.5</td>\n",
       "      <td>3.3</td>\n",
       "      <td>678.1</td>\n",
       "      <td>672.7</td>\n",
       "    </tr>\n",
       "    <tr>\n",
       "      <th>43653</th>\n",
       "      <td>637.9</td>\n",
       "      <td>2.6</td>\n",
       "      <td>654.5</td>\n",
       "      <td>655.1</td>\n",
       "    </tr>\n",
       "    <tr>\n",
       "      <th>43654</th>\n",
       "      <td>608.4</td>\n",
       "      <td>2.7</td>\n",
       "      <td>616.6</td>\n",
       "      <td>630.8</td>\n",
       "    </tr>\n",
       "    <tr>\n",
       "      <th>43655</th>\n",
       "      <td>579.8</td>\n",
       "      <td>3.0</td>\n",
       "      <td>572.9</td>\n",
       "      <td>602.3</td>\n",
       "    </tr>\n",
       "  </tbody>\n",
       "</table>\n",
       "<p>43656 rows × 4 columns</p>\n",
       "</div>"
      ],
      "text/plain": [
       "       Load_Dunwoody  Temp_Dunwoody  Lag-2  Lag-7\n",
       "0              690.0          -13.9  604.8  643.8\n",
       "1              662.3          -14.2  584.8  612.9\n",
       "2              646.5          -14.8  569.3  587.9\n",
       "3              640.1          -15.6  544.0  570.0\n",
       "4              645.9          -16.0  559.3  563.5\n",
       "...              ...            ...    ...    ...\n",
       "43651          696.4            3.4  687.7  693.1\n",
       "43652          668.5            3.3  678.1  672.7\n",
       "43653          637.9            2.6  654.5  655.1\n",
       "43654          608.4            2.7  616.6  630.8\n",
       "43655          579.8            3.0  572.9  602.3\n",
       "\n",
       "[43656 rows x 4 columns]"
      ]
     },
     "execution_count": 7,
     "metadata": {},
     "output_type": "execute_result"
    }
   ],
   "source": [
    "dataDf = pd.concat([zoneData, Load_lags], axis= 1).dropna(axis= 0).reset_index(drop= True)\n",
    "dataDf"
   ]
  },
  {
   "cell_type": "code",
   "execution_count": 8,
   "id": "6ad25321",
   "metadata": {},
   "outputs": [],
   "source": [
    "# Setting the train-test split ratio\n",
    "ratio = 0.1"
   ]
  },
  {
   "cell_type": "code",
   "execution_count": 9,
   "id": "3c08d963",
   "metadata": {},
   "outputs": [],
   "source": [
    "Num_train, Num_test = int(len(dataDf)/24 * (1 - ratio)) * 24, int(len(dataDf)/24 * ratio) * 24"
   ]
  },
  {
   "cell_type": "code",
   "execution_count": 10,
   "id": "cbe069ff",
   "metadata": {},
   "outputs": [],
   "source": [
    "# Splitting the data into train and test\n",
    "data_train, data_test = dataDf[:Num_train], dataDf[Num_train:]"
   ]
  },
  {
   "cell_type": "code",
   "execution_count": 11,
   "id": "d84e15c4",
   "metadata": {},
   "outputs": [],
   "source": [
    "Num_train, Num_valid = int(len(data_train)/24 * (1 - ratio)) * 24, int(len(data_train)/24 * ratio) * 24"
   ]
  },
  {
   "cell_type": "code",
   "execution_count": 12,
   "id": "c17d1723",
   "metadata": {},
   "outputs": [],
   "source": [
    "# Splitting the data into train and test\n",
    "data_train, data_valid = data_train[:Num_train], data_train[Num_train:]"
   ]
  },
  {
   "cell_type": "markdown",
   "id": "88d32011",
   "metadata": {},
   "source": [
    "### SPLITTING INTO X AND Y PART WITH SEQUENCE BATCHING"
   ]
  },
  {
   "cell_type": "code",
   "execution_count": 13,
   "id": "4ba286ca",
   "metadata": {},
   "outputs": [],
   "source": [
    "X_train_df, Y_train_df = data_train.iloc[:, 1:], data_train.iloc[:, :1]\n",
    "\n",
    "X_valid_df, Y_valid_df = data_valid.iloc[:, 1:], data_valid.iloc[:, :1]\n",
    "\n",
    "X_test_df, Y_test_df = data_test.iloc[:, 1:], data_test.iloc[:, :1]"
   ]
  },
  {
   "cell_type": "code",
   "execution_count": 14,
   "id": "ef1d9079",
   "metadata": {},
   "outputs": [],
   "source": [
    "# Preparing the scaler\n",
    "ValScaler = MinMaxScaler()\n",
    "\n",
    "X_train = ValScaler.fit_transform(X_train_df)\n",
    "X_valid = ValScaler.transform(X_valid_df)\n",
    "X_test = ValScaler.transform(X_test_df)\n",
    "\n",
    "Y_train = ValScaler.fit_transform(Y_train_df)\n",
    "Y_valid = ValScaler.transform(Y_valid_df)\n",
    "Y_test = ValScaler.transform(Y_test_df)"
   ]
  },
  {
   "cell_type": "code",
   "execution_count": 15,
   "id": "43594401",
   "metadata": {},
   "outputs": [],
   "source": [
    "def splitData(dataset):\n",
    "    data = np.array(np.split(dataset, len(dataset)/24))\n",
    "    return data"
   ]
  },
  {
   "cell_type": "code",
   "execution_count": 16,
   "id": "300696b2",
   "metadata": {},
   "outputs": [],
   "source": [
    "def supervisedSet(X_part, Y_part, steps= 24):\n",
    "    X_array, Y_array = np.array(X_part), np.array(Y_part)\n",
    "    X, Y = [], []\n",
    "    \n",
    "    for i in range(len(X_array)):\n",
    "        endIdx = i + steps\n",
    "        \n",
    "        if endIdx > len(X_array):\n",
    "            break\n",
    "        \n",
    "        batch_X, batch_Y = X_array[i:endIdx], Y_array[i:endIdx]\n",
    "        \n",
    "        X.append(batch_X)\n",
    "        Y.append(batch_Y)\n",
    "        \n",
    "    return np.array(X), np.array(Y)"
   ]
  },
  {
   "cell_type": "code",
   "execution_count": 17,
   "id": "fc9cd97d",
   "metadata": {},
   "outputs": [],
   "source": [
    "X_train, Y_train = supervisedSet(X_train, Y_train)\n",
    "\n",
    "X_valid, Y_valid = splitData(X_valid), splitData(Y_valid)\n",
    "\n",
    "X_test, Y_test = splitData(X_test), splitData(Y_test)"
   ]
  },
  {
   "cell_type": "markdown",
   "id": "a2a6bf32",
   "metadata": {},
   "source": [
    "### WORKING ON THE MODEL"
   ]
  },
  {
   "cell_type": "code",
   "execution_count": 18,
   "id": "ff71a98c",
   "metadata": {},
   "outputs": [],
   "source": [
    "epochs = 100\n",
    "batchSize = 32"
   ]
  },
  {
   "cell_type": "code",
   "execution_count": 19,
   "id": "8d600c17",
   "metadata": {},
   "outputs": [],
   "source": [
    "# Encoder-decoder architecture [tanh required to use tensorflow on gpu]\n",
    "model = tf.keras.Sequential([\n",
    "    tf.keras.layers.LSTM(units= 128, activation= \"tanh\", input_shape= (X_train.shape[1], X_train.shape[2]), dropout= 0.2),\n",
    "    tf.keras.layers.RepeatVector(Y_train.shape[1]),\n",
    "    tf.keras.layers.LSTM(units= 128, activation= \"tanh\", return_sequences= True, dropout= 0.2),\n",
    "    tf.keras.layers.TimeDistributed(tf.keras.layers.Dense(units= 128, activation= \"relu\")),\n",
    "    tf.keras.layers.Dropout(0.2),\n",
    "    tf.keras.layers.TimeDistributed(tf.keras.layers.Dense(units= 1))\n",
    "])\n",
    "\n",
    "model.compile(loss= \"mse\", optimizer= \"adam\",  metrics= ['mape', 'mae'])"
   ]
  },
  {
   "cell_type": "code",
   "execution_count": 20,
   "id": "a05c033a",
   "metadata": {},
   "outputs": [],
   "source": [
    "# model = tf.keras.Sequential([\n",
    "#     tf.keras.layers.LSTM(units= 256, activation= \"tanh\", input_shape= (X_train.shape[1], X_train.shape[2])),\n",
    "#     tf.keras.layers.Dense(units= 128, activation= \"tanh\"),\n",
    "#     tf.keras.layers.Dense(units= 1)\n",
    "# ])\n",
    "\n",
    "# model.compile(loss= \"mse\", optimizer= \"adam\",  metrics= ['mape', 'mae'])"
   ]
  },
  {
   "cell_type": "code",
   "execution_count": 21,
   "id": "c9390383",
   "metadata": {},
   "outputs": [],
   "source": [
    "# Storing the start time of model fitting process\n",
    "startTime = time.time()"
   ]
  },
  {
   "cell_type": "code",
   "execution_count": 22,
   "id": "e526e3ed",
   "metadata": {},
   "outputs": [
    {
     "name": "stdout",
     "output_type": "stream",
     "text": [
      "Epoch 1/100\n",
      "1105/1105 [==============================] - 15s 9ms/step - loss: 0.0116 - mape: 5970.7881 - mae: 0.0821 - val_loss: 0.0060 - val_mape: 36.1355 - val_mae: 0.0614\n",
      "Epoch 2/100\n",
      "1105/1105 [==============================] - 9s 8ms/step - loss: 0.0070 - mape: 5279.6831 - mae: 0.0640 - val_loss: 0.0070 - val_mape: 36.1349 - val_mae: 0.0626\n",
      "Epoch 3/100\n",
      "1105/1105 [==============================] - 9s 8ms/step - loss: 0.0050 - mape: 4398.9448 - mae: 0.0542 - val_loss: 0.0080 - val_mape: 36.0545 - val_mae: 0.0650\n",
      "Epoch 4/100\n",
      "1105/1105 [==============================] - 9s 9ms/step - loss: 0.0045 - mape: 4237.0898 - mae: 0.0511 - val_loss: 0.0071 - val_mape: 32.4921 - val_mae: 0.0615\n",
      "Epoch 5/100\n",
      "1105/1105 [==============================] - 9s 8ms/step - loss: 0.0041 - mape: 4313.9248 - mae: 0.0485 - val_loss: 0.0092 - val_mape: 27.6452 - val_mae: 0.0674\n",
      "Epoch 6/100\n",
      "1105/1105 [==============================] - 9s 8ms/step - loss: 0.0038 - mape: 3735.3857 - mae: 0.0469 - val_loss: 0.0070 - val_mape: 28.3626 - val_mae: 0.0560\n",
      "Epoch 7/100\n",
      "1105/1105 [==============================] - 9s 9ms/step - loss: 0.0037 - mape: 3790.0535 - mae: 0.0456 - val_loss: 0.0069 - val_mape: 26.2094 - val_mae: 0.0569\n",
      "Epoch 8/100\n",
      "1105/1105 [==============================] - 10s 9ms/step - loss: 0.0036 - mape: 3541.5374 - mae: 0.0451 - val_loss: 0.0069 - val_mape: 26.6439 - val_mae: 0.0560\n",
      "Epoch 9/100\n",
      "1105/1105 [==============================] - 9s 9ms/step - loss: 0.0035 - mape: 3347.3748 - mae: 0.0443 - val_loss: 0.0069 - val_mape: 26.5758 - val_mae: 0.0565\n",
      "Epoch 10/100\n",
      "1105/1105 [==============================] - 10s 9ms/step - loss: 0.0033 - mape: 2964.0110 - mae: 0.0432 - val_loss: 0.0064 - val_mape: 23.3581 - val_mae: 0.0524\n",
      "Epoch 11/100\n",
      "1105/1105 [==============================] - 9s 8ms/step - loss: 0.0032 - mape: 3139.3496 - mae: 0.0427 - val_loss: 0.0078 - val_mape: 24.5079 - val_mae: 0.0601\n",
      "Epoch 12/100\n",
      "1105/1105 [==============================] - 9s 8ms/step - loss: 0.0031 - mape: 3373.7405 - mae: 0.0421 - val_loss: 0.0068 - val_mape: 26.4966 - val_mae: 0.0561\n",
      "Epoch 13/100\n",
      "1105/1105 [==============================] - 9s 8ms/step - loss: 0.0031 - mape: 2940.7300 - mae: 0.0416 - val_loss: 0.0063 - val_mape: 23.1656 - val_mae: 0.0526\n",
      "Epoch 14/100\n",
      "1105/1105 [==============================] - 9s 9ms/step - loss: 0.0030 - mape: 3026.6111 - mae: 0.0414 - val_loss: 0.0068 - val_mape: 23.9353 - val_mae: 0.0549\n",
      "Epoch 15/100\n",
      "1105/1105 [==============================] - 9s 8ms/step - loss: 0.0030 - mape: 2917.9941 - mae: 0.0409 - val_loss: 0.0064 - val_mape: 24.5210 - val_mae: 0.0529\n",
      "Epoch 16/100\n",
      "1105/1105 [==============================] - 9s 9ms/step - loss: 0.0029 - mape: 2993.0776 - mae: 0.0405 - val_loss: 0.0083 - val_mape: 26.1123 - val_mae: 0.0644\n",
      "Epoch 17/100\n",
      "1105/1105 [==============================] - 9s 8ms/step - loss: 0.0029 - mape: 2881.8000 - mae: 0.0405 - val_loss: 0.0069 - val_mape: 24.3346 - val_mae: 0.0559\n",
      "Epoch 18/100\n",
      "1105/1105 [==============================] - 9s 8ms/step - loss: 0.0028 - mape: 3069.2012 - mae: 0.0397 - val_loss: 0.0059 - val_mape: 23.2913 - val_mae: 0.0511\n",
      "Epoch 19/100\n",
      "1105/1105 [==============================] - 10s 9ms/step - loss: 0.0028 - mape: 2933.9519 - mae: 0.0398 - val_loss: 0.0077 - val_mape: 24.4073 - val_mae: 0.0592\n",
      "Epoch 20/100\n",
      "1105/1105 [==============================] - 9s 9ms/step - loss: 0.0028 - mape: 2303.0947 - mae: 0.0394 - val_loss: 0.0067 - val_mape: 24.0257 - val_mae: 0.0554\n",
      "Epoch 21/100\n",
      "1105/1105 [==============================] - 10s 9ms/step - loss: 0.0028 - mape: 2600.3403 - mae: 0.0393 - val_loss: 0.0064 - val_mape: 24.2005 - val_mae: 0.0528\n",
      "Epoch 22/100\n",
      "1105/1105 [==============================] - 10s 9ms/step - loss: 0.0027 - mape: 2594.1899 - mae: 0.0391 - val_loss: 0.0062 - val_mape: 23.1699 - val_mae: 0.0519\n",
      "Epoch 23/100\n",
      "1105/1105 [==============================] - 9s 8ms/step - loss: 0.0027 - mape: 2102.2800 - mae: 0.0389 - val_loss: 0.0086 - val_mape: 25.0062 - val_mae: 0.0643\n",
      "Epoch 24/100\n",
      "1105/1105 [==============================] - 9s 8ms/step - loss: 0.0026 - mape: 2165.6714 - mae: 0.0385 - val_loss: 0.0070 - val_mape: 24.4088 - val_mae: 0.0560\n",
      "Epoch 25/100\n",
      "1105/1105 [==============================] - 9s 9ms/step - loss: 0.0026 - mape: 2605.0574 - mae: 0.0384 - val_loss: 0.0068 - val_mape: 22.5056 - val_mae: 0.0546\n",
      "Epoch 26/100\n",
      "1105/1105 [==============================] - 9s 9ms/step - loss: 0.0026 - mape: 2071.0159 - mae: 0.0380 - val_loss: 0.0067 - val_mape: 25.1880 - val_mae: 0.0547\n",
      "Epoch 27/100\n",
      "1105/1105 [==============================] - 9s 8ms/step - loss: 0.0025 - mape: 2279.6472 - mae: 0.0377 - val_loss: 0.0070 - val_mape: 25.2234 - val_mae: 0.0566\n",
      "Epoch 28/100\n",
      "1105/1105 [==============================] - 9s 8ms/step - loss: 0.0025 - mape: 2243.1692 - mae: 0.0377 - val_loss: 0.0071 - val_mape: 24.2816 - val_mae: 0.0557\n",
      "Epoch 29/100\n",
      "1105/1105 [==============================] - 9s 8ms/step - loss: 0.0025 - mape: 2026.1995 - mae: 0.0374 - val_loss: 0.0065 - val_mape: 25.1945 - val_mae: 0.0541\n",
      "Epoch 30/100\n",
      "1105/1105 [==============================] - 9s 8ms/step - loss: 0.0025 - mape: 2058.3440 - mae: 0.0374 - val_loss: 0.0077 - val_mape: 24.1761 - val_mae: 0.0599\n",
      "Epoch 31/100\n",
      "1105/1105 [==============================] - 9s 8ms/step - loss: 0.0024 - mape: 2154.7546 - mae: 0.0371 - val_loss: 0.0074 - val_mape: 26.0039 - val_mae: 0.0586\n",
      "Epoch 32/100\n",
      "1105/1105 [==============================] - 8s 8ms/step - loss: 0.0024 - mape: 2029.6219 - mae: 0.0368 - val_loss: 0.0067 - val_mape: 25.8181 - val_mae: 0.0543\n",
      "Epoch 33/100\n",
      "1105/1105 [==============================] - 9s 8ms/step - loss: 0.0024 - mape: 2013.3422 - mae: 0.0367 - val_loss: 0.0069 - val_mape: 24.2729 - val_mae: 0.0572\n",
      "Epoch 34/100\n",
      "1105/1105 [==============================] - 9s 8ms/step - loss: 0.0024 - mape: 1623.8779 - mae: 0.0365 - val_loss: 0.0072 - val_mape: 26.9477 - val_mae: 0.0577\n",
      "Epoch 35/100\n",
      "1105/1105 [==============================] - 9s 8ms/step - loss: 0.0023 - mape: 1745.8280 - mae: 0.0362 - val_loss: 0.0066 - val_mape: 25.1133 - val_mae: 0.0553\n",
      "Epoch 36/100\n",
      "1105/1105 [==============================] - 9s 8ms/step - loss: 0.0023 - mape: 1779.5447 - mae: 0.0361 - val_loss: 0.0078 - val_mape: 26.2274 - val_mae: 0.0605\n",
      "Epoch 37/100\n",
      "1105/1105 [==============================] - 9s 8ms/step - loss: 0.0023 - mape: 1665.4938 - mae: 0.0357 - val_loss: 0.0074 - val_mape: 25.9966 - val_mae: 0.0589\n",
      "Epoch 38/100\n",
      "1105/1105 [==============================] - 9s 8ms/step - loss: 0.0023 - mape: 1617.6506 - mae: 0.0358 - val_loss: 0.0079 - val_mape: 26.0151 - val_mae: 0.0611\n",
      "Epoch 39/100\n",
      "1105/1105 [==============================] - 9s 8ms/step - loss: 0.0022 - mape: 1722.2693 - mae: 0.0354 - val_loss: 0.0072 - val_mape: 24.9183 - val_mae: 0.0561\n",
      "Epoch 40/100\n",
      "1105/1105 [==============================] - 9s 8ms/step - loss: 0.0022 - mape: 1520.6204 - mae: 0.0352 - val_loss: 0.0074 - val_mape: 26.8309 - val_mae: 0.0584\n",
      "Epoch 41/100\n",
      "1105/1105 [==============================] - 9s 8ms/step - loss: 0.0022 - mape: 1635.0215 - mae: 0.0349 - val_loss: 0.0077 - val_mape: 27.1577 - val_mae: 0.0595\n",
      "Epoch 42/100\n",
      "1105/1105 [==============================] - 9s 8ms/step - loss: 0.0021 - mape: 1461.2319 - mae: 0.0348 - val_loss: 0.0072 - val_mape: 27.2709 - val_mae: 0.0583\n",
      "Epoch 43/100\n",
      "1105/1105 [==============================] - 9s 8ms/step - loss: 0.0021 - mape: 1273.3022 - mae: 0.0345 - val_loss: 0.0071 - val_mape: 27.3161 - val_mae: 0.0581\n",
      "Epoch 44/100\n",
      "1105/1105 [==============================] - 9s 8ms/step - loss: 0.0021 - mape: 1491.9078 - mae: 0.0343 - val_loss: 0.0073 - val_mape: 27.1573 - val_mae: 0.0593\n",
      "Epoch 45/100\n",
      "1105/1105 [==============================] - 9s 8ms/step - loss: 0.0021 - mape: 1429.3982 - mae: 0.0341 - val_loss: 0.0070 - val_mape: 28.4990 - val_mae: 0.0576\n",
      "Epoch 46/100\n",
      "1105/1105 [==============================] - 9s 8ms/step - loss: 0.0021 - mape: 1160.0094 - mae: 0.0341 - val_loss: 0.0074 - val_mape: 25.2733 - val_mae: 0.0578\n",
      "Epoch 47/100\n",
      "1105/1105 [==============================] - 9s 9ms/step - loss: 0.0020 - mape: 1268.1582 - mae: 0.0336 - val_loss: 0.0077 - val_mape: 27.7734 - val_mae: 0.0599\n",
      "Epoch 48/100\n"
     ]
    },
    {
     "name": "stdout",
     "output_type": "stream",
     "text": [
      "1105/1105 [==============================] - 9s 8ms/step - loss: 0.0020 - mape: 1286.2599 - mae: 0.0335 - val_loss: 0.0078 - val_mape: 27.7889 - val_mae: 0.0607\n",
      "Epoch 49/100\n",
      "1105/1105 [==============================] - 8s 7ms/step - loss: 0.0020 - mape: 1558.9640 - mae: 0.0334 - val_loss: 0.0074 - val_mape: 27.3807 - val_mae: 0.0585\n",
      "Epoch 50/100\n",
      "1105/1105 [==============================] - 8s 8ms/step - loss: 0.0019 - mape: 1447.4261 - mae: 0.0331 - val_loss: 0.0075 - val_mape: 25.8842 - val_mae: 0.0591\n",
      "Epoch 51/100\n",
      "1105/1105 [==============================] - 8s 8ms/step - loss: 0.0019 - mape: 1641.8143 - mae: 0.0330 - val_loss: 0.0070 - val_mape: 26.2746 - val_mae: 0.0564\n",
      "Epoch 52/100\n",
      "1105/1105 [==============================] - 9s 8ms/step - loss: 0.0019 - mape: 1306.2633 - mae: 0.0325 - val_loss: 0.0077 - val_mape: 26.7916 - val_mae: 0.0588\n",
      "Epoch 53/100\n",
      "1105/1105 [==============================] - 9s 8ms/step - loss: 0.0018 - mape: 1192.0323 - mae: 0.0324 - val_loss: 0.0078 - val_mape: 27.1196 - val_mae: 0.0602\n",
      "Epoch 54/100\n",
      "1105/1105 [==============================] - 9s 9ms/step - loss: 0.0018 - mape: 1487.6639 - mae: 0.0323 - val_loss: 0.0073 - val_mape: 28.1868 - val_mae: 0.0583\n",
      "Epoch 55/100\n",
      "1105/1105 [==============================] - 9s 8ms/step - loss: 0.0018 - mape: 1269.5197 - mae: 0.0320 - val_loss: 0.0072 - val_mape: 27.8292 - val_mae: 0.0583\n",
      "Epoch 56/100\n",
      "1105/1105 [==============================] - 9s 8ms/step - loss: 0.0018 - mape: 1268.8878 - mae: 0.0317 - val_loss: 0.0084 - val_mape: 27.1309 - val_mae: 0.0633\n",
      "Epoch 57/100\n",
      "1105/1105 [==============================] - 8s 7ms/step - loss: 0.0017 - mape: 1206.9325 - mae: 0.0314 - val_loss: 0.0074 - val_mape: 26.2854 - val_mae: 0.0588\n",
      "Epoch 58/100\n",
      "1105/1105 [==============================] - 8s 7ms/step - loss: 0.0017 - mape: 1282.2605 - mae: 0.0313 - val_loss: 0.0080 - val_mape: 29.2966 - val_mae: 0.0622\n",
      "Epoch 59/100\n",
      "1105/1105 [==============================] - 8s 7ms/step - loss: 0.0017 - mape: 1180.5502 - mae: 0.0311 - val_loss: 0.0091 - val_mape: 27.3213 - val_mae: 0.0663\n",
      "Epoch 60/100\n",
      "1105/1105 [==============================] - 8s 7ms/step - loss: 0.0017 - mape: 1063.4001 - mae: 0.0310 - val_loss: 0.0078 - val_mape: 29.3761 - val_mae: 0.0602\n",
      "Epoch 61/100\n",
      "1105/1105 [==============================] - 8s 7ms/step - loss: 0.0016 - mape: 1142.3608 - mae: 0.0306 - val_loss: 0.0088 - val_mape: 27.9690 - val_mae: 0.0654\n",
      "Epoch 62/100\n",
      "1105/1105 [==============================] - 8s 7ms/step - loss: 0.0016 - mape: 1205.5260 - mae: 0.0305 - val_loss: 0.0077 - val_mape: 27.6943 - val_mae: 0.0601\n",
      "Epoch 63/100\n",
      "1105/1105 [==============================] - 8s 7ms/step - loss: 0.0016 - mape: 1138.6123 - mae: 0.0303 - val_loss: 0.0076 - val_mape: 28.6017 - val_mae: 0.0604\n",
      "Epoch 64/100\n",
      "1105/1105 [==============================] - 8s 7ms/step - loss: 0.0016 - mape: 1133.1925 - mae: 0.0302 - val_loss: 0.0078 - val_mape: 28.0614 - val_mae: 0.0607\n",
      "Epoch 65/100\n",
      "1105/1105 [==============================] - 8s 7ms/step - loss: 0.0016 - mape: 1164.3763 - mae: 0.0299 - val_loss: 0.0082 - val_mape: 29.1480 - val_mae: 0.0623\n",
      "Epoch 66/100\n",
      "1105/1105 [==============================] - 8s 7ms/step - loss: 0.0016 - mape: 1378.5118 - mae: 0.0298 - val_loss: 0.0079 - val_mape: 29.8990 - val_mae: 0.0619\n",
      "Epoch 67/100\n",
      "1105/1105 [==============================] - 8s 7ms/step - loss: 0.0015 - mape: 997.1908 - mae: 0.0293 - val_loss: 0.0073 - val_mape: 26.8781 - val_mae: 0.0587\n",
      "Epoch 68/100\n",
      "1105/1105 [==============================] - 8s 7ms/step - loss: 0.0015 - mape: 1149.7559 - mae: 0.0293 - val_loss: 0.0084 - val_mape: 27.0595 - val_mae: 0.0625\n",
      "Epoch 69/100\n",
      "1105/1105 [==============================] - 8s 7ms/step - loss: 0.0015 - mape: 1369.5668 - mae: 0.0290 - val_loss: 0.0081 - val_mape: 26.8953 - val_mae: 0.0620\n",
      "Epoch 70/100\n",
      "1105/1105 [==============================] - 8s 7ms/step - loss: 0.0015 - mape: 946.5201 - mae: 0.0290 - val_loss: 0.0085 - val_mape: 29.8594 - val_mae: 0.0642\n",
      "Epoch 71/100\n",
      "1105/1105 [==============================] - 8s 7ms/step - loss: 0.0014 - mape: 949.3546 - mae: 0.0287 - val_loss: 0.0089 - val_mape: 29.2023 - val_mae: 0.0650\n",
      "Epoch 72/100\n",
      "1105/1105 [==============================] - 8s 7ms/step - loss: 0.0014 - mape: 1086.9675 - mae: 0.0283 - val_loss: 0.0087 - val_mape: 28.1432 - val_mae: 0.0640\n",
      "Epoch 73/100\n",
      "1105/1105 [==============================] - 8s 7ms/step - loss: 0.0014 - mape: 1290.2238 - mae: 0.0282 - val_loss: 0.0078 - val_mape: 27.4299 - val_mae: 0.0603\n",
      "Epoch 74/100\n",
      "1105/1105 [==============================] - 8s 7ms/step - loss: 0.0014 - mape: 1146.5780 - mae: 0.0281 - val_loss: 0.0082 - val_mape: 28.1996 - val_mae: 0.0635\n",
      "Epoch 75/100\n",
      "1105/1105 [==============================] - 8s 7ms/step - loss: 0.0013 - mape: 1023.7856 - mae: 0.0278 - val_loss: 0.0091 - val_mape: 28.2187 - val_mae: 0.0665\n",
      "Epoch 76/100\n",
      "1105/1105 [==============================] - 8s 7ms/step - loss: 0.0014 - mape: 1243.9486 - mae: 0.0279 - val_loss: 0.0083 - val_mape: 29.2364 - val_mae: 0.0630\n",
      "Epoch 77/100\n",
      "1105/1105 [==============================] - 8s 7ms/step - loss: 0.0013 - mape: 1022.1545 - mae: 0.0276 - val_loss: 0.0076 - val_mape: 29.4218 - val_mae: 0.0606\n",
      "Epoch 78/100\n",
      "1105/1105 [==============================] - 8s 7ms/step - loss: 0.0013 - mape: 835.9296 - mae: 0.0273 - val_loss: 0.0081 - val_mape: 29.3509 - val_mae: 0.0633\n",
      "Epoch 79/100\n",
      "1105/1105 [==============================] - 8s 7ms/step - loss: 0.0013 - mape: 1187.4778 - mae: 0.0272 - val_loss: 0.0077 - val_mape: 27.2221 - val_mae: 0.0603\n",
      "Epoch 80/100\n",
      "1105/1105 [==============================] - 8s 7ms/step - loss: 0.0013 - mape: 1046.7583 - mae: 0.0271 - val_loss: 0.0080 - val_mape: 29.0222 - val_mae: 0.0627\n",
      "Epoch 81/100\n",
      "1105/1105 [==============================] - 8s 7ms/step - loss: 0.0012 - mape: 1076.4877 - mae: 0.0267 - val_loss: 0.0080 - val_mape: 27.7364 - val_mae: 0.0623\n",
      "Epoch 82/100\n",
      "1105/1105 [==============================] - 8s 7ms/step - loss: 0.0012 - mape: 933.2014 - mae: 0.0266 - val_loss: 0.0084 - val_mape: 29.9778 - val_mae: 0.0640\n",
      "Epoch 83/100\n",
      "1105/1105 [==============================] - 8s 7ms/step - loss: 0.0013 - mape: 1110.4326 - mae: 0.0269 - val_loss: 0.0084 - val_mape: 28.0386 - val_mae: 0.0625\n",
      "Epoch 84/100\n",
      "1105/1105 [==============================] - 8s 7ms/step - loss: 0.0012 - mape: 1057.6921 - mae: 0.0264 - val_loss: 0.0083 - val_mape: 28.4500 - val_mae: 0.0632\n",
      "Epoch 85/100\n",
      "1105/1105 [==============================] - 8s 7ms/step - loss: 0.0012 - mape: 915.3684 - mae: 0.0262 - val_loss: 0.0080 - val_mape: 29.8009 - val_mae: 0.0632\n",
      "Epoch 86/100\n",
      "1105/1105 [==============================] - 8s 7ms/step - loss: 0.0012 - mape: 1000.0795 - mae: 0.0261 - val_loss: 0.0083 - val_mape: 27.9186 - val_mae: 0.0634\n",
      "Epoch 87/100\n",
      "1105/1105 [==============================] - 8s 7ms/step - loss: 0.0012 - mape: 1052.1274 - mae: 0.0260 - val_loss: 0.0076 - val_mape: 28.2560 - val_mae: 0.0604\n",
      "Epoch 88/100\n",
      "1105/1105 [==============================] - 8s 7ms/step - loss: 0.0012 - mape: 1037.3793 - mae: 0.0258 - val_loss: 0.0090 - val_mape: 29.9757 - val_mae: 0.0669\n",
      "Epoch 89/100\n",
      "1105/1105 [==============================] - 8s 7ms/step - loss: 0.0011 - mape: 946.7870 - mae: 0.0254 - val_loss: 0.0081 - val_mape: 27.8121 - val_mae: 0.0621\n",
      "Epoch 90/100\n",
      "1105/1105 [==============================] - 8s 7ms/step - loss: 0.0012 - mape: 1077.1958 - mae: 0.0257 - val_loss: 0.0079 - val_mape: 28.8772 - val_mae: 0.0622\n",
      "Epoch 91/100\n",
      "1105/1105 [==============================] - 8s 7ms/step - loss: 0.0011 - mape: 884.0122 - mae: 0.0254 - val_loss: 0.0081 - val_mape: 28.2007 - val_mae: 0.0627\n",
      "Epoch 92/100\n",
      "1105/1105 [==============================] - 8s 7ms/step - loss: 0.0011 - mape: 1138.4924 - mae: 0.0253 - val_loss: 0.0081 - val_mape: 27.2493 - val_mae: 0.0621\n",
      "Epoch 93/100\n",
      "1105/1105 [==============================] - 8s 7ms/step - loss: 0.0011 - mape: 1012.7755 - mae: 0.0251 - val_loss: 0.0084 - val_mape: 29.2610 - val_mae: 0.0646\n",
      "Epoch 94/100\n",
      "1105/1105 [==============================] - 8s 7ms/step - loss: 0.0011 - mape: 1239.2213 - mae: 0.0250 - val_loss: 0.0075 - val_mape: 27.0830 - val_mae: 0.0607\n",
      "Epoch 95/100\n"
     ]
    },
    {
     "name": "stdout",
     "output_type": "stream",
     "text": [
      "1105/1105 [==============================] - 8s 7ms/step - loss: 0.0011 - mape: 1193.4943 - mae: 0.0248 - val_loss: 0.0080 - val_mape: 29.8584 - val_mae: 0.0631\n",
      "Epoch 96/100\n",
      "1105/1105 [==============================] - 8s 7ms/step - loss: 0.0011 - mape: 755.7092 - mae: 0.0248 - val_loss: 0.0075 - val_mape: 27.4308 - val_mae: 0.0606\n",
      "Epoch 97/100\n",
      "1105/1105 [==============================] - 8s 7ms/step - loss: 0.0011 - mape: 1165.5835 - mae: 0.0248 - val_loss: 0.0077 - val_mape: 29.6864 - val_mae: 0.0622\n",
      "Epoch 98/100\n",
      "1105/1105 [==============================] - 8s 7ms/step - loss: 0.0010 - mape: 907.2338 - mae: 0.0244 - val_loss: 0.0078 - val_mape: 28.8810 - val_mae: 0.0619\n",
      "Epoch 99/100\n",
      "1105/1105 [==============================] - 8s 7ms/step - loss: 0.0010 - mape: 758.8801 - mae: 0.0243 - val_loss: 0.0075 - val_mape: 28.5428 - val_mae: 0.0605\n",
      "Epoch 100/100\n",
      "1105/1105 [==============================] - 8s 7ms/step - loss: 0.0010 - mape: 965.6078 - mae: 0.0242 - val_loss: 0.0079 - val_mape: 28.7670 - val_mae: 0.0622\n"
     ]
    },
    {
     "data": {
      "text/plain": [
       "<keras.callbacks.History at 0x1ead0a67310>"
      ]
     },
     "execution_count": 22,
     "metadata": {},
     "output_type": "execute_result"
    }
   ],
   "source": [
    "model.fit(X_train, Y_train, epochs= epochs, batch_size= batchSize, verbose= 1, shuffle= True, validation_data= (X_valid, Y_valid))"
   ]
  },
  {
   "cell_type": "code",
   "execution_count": 23,
   "id": "cd839153",
   "metadata": {},
   "outputs": [
    {
     "name": "stdout",
     "output_type": "stream",
     "text": [
      "Total execution time in seconds: 875.6800487041473\n"
     ]
    }
   ],
   "source": [
    "calcExecTime = (time.time() - startTime)\n",
    "print('Total execution time in seconds: ' + str(calcExecTime))"
   ]
  },
  {
   "cell_type": "markdown",
   "id": "72aafa74",
   "metadata": {},
   "source": [
    "### MAKING PREDICTIONS AND GENERATING RESULTS"
   ]
  },
  {
   "cell_type": "code",
   "execution_count": 24,
   "id": "259bfb49",
   "metadata": {},
   "outputs": [
    {
     "name": "stdout",
     "output_type": "stream",
     "text": [
      "6/6 [==============================] - 1s 5ms/step\n"
     ]
    }
   ],
   "source": [
    "predictions = model.predict(X_test)"
   ]
  },
  {
   "cell_type": "code",
   "execution_count": 25,
   "id": "2912d431",
   "metadata": {},
   "outputs": [
    {
     "data": {
      "text/plain": [
       "array([0.19199145, 0.16926467, 0.1589391 , ..., 0.33064115, 0.2826948 ,\n",
       "       0.23839688], dtype=float32)"
      ]
     },
     "execution_count": 25,
     "metadata": {},
     "output_type": "execute_result"
    }
   ],
   "source": [
    "predArr = predictions.reshape(predictions.shape[0] * predictions.shape[1], predictions.shape[2]).ravel()\n",
    "predArr"
   ]
  },
  {
   "cell_type": "code",
   "execution_count": 26,
   "id": "b01889f2",
   "metadata": {},
   "outputs": [
    {
     "data": {
      "text/plain": [
       "array([0.39619938, 0.36517685, 0.34248445, ..., 0.29087599, 0.26263017,\n",
       "       0.23524609])"
      ]
     },
     "execution_count": 26,
     "metadata": {},
     "output_type": "execute_result"
    }
   ],
   "source": [
    "Y_testArr = Y_test.reshape(Y_test.shape[0] * Y_test.shape[1], Y_test.shape[2]).ravel()\n",
    "Y_testArr"
   ]
  },
  {
   "cell_type": "code",
   "execution_count": 27,
   "id": "799c97e8",
   "metadata": {},
   "outputs": [],
   "source": [
    "def inverse_transform(df):\n",
    "    column_names = df.columns\n",
    "    for col in column_names:\n",
    "        df[col] = ValScaler.inverse_transform(df[[col]]) \n",
    "    return df"
   ]
  },
  {
   "cell_type": "code",
   "execution_count": 28,
   "id": "afa81e30",
   "metadata": {},
   "outputs": [
    {
     "data": {
      "text/html": [
       "<div>\n",
       "<style scoped>\n",
       "    .dataframe tbody tr th:only-of-type {\n",
       "        vertical-align: middle;\n",
       "    }\n",
       "\n",
       "    .dataframe tbody tr th {\n",
       "        vertical-align: top;\n",
       "    }\n",
       "\n",
       "    .dataframe thead th {\n",
       "        text-align: right;\n",
       "    }\n",
       "</style>\n",
       "<table border=\"1\" class=\"dataframe\">\n",
       "  <thead>\n",
       "    <tr style=\"text-align: right;\">\n",
       "      <th></th>\n",
       "      <th>Values</th>\n",
       "      <th>Predictions</th>\n",
       "    </tr>\n",
       "  </thead>\n",
       "  <tbody>\n",
       "    <tr>\n",
       "      <th>0</th>\n",
       "      <td>747.9</td>\n",
       "      <td>534.624756</td>\n",
       "    </tr>\n",
       "    <tr>\n",
       "      <th>1</th>\n",
       "      <td>715.5</td>\n",
       "      <td>510.888855</td>\n",
       "    </tr>\n",
       "    <tr>\n",
       "      <th>2</th>\n",
       "      <td>691.8</td>\n",
       "      <td>500.104797</td>\n",
       "    </tr>\n",
       "    <tr>\n",
       "      <th>3</th>\n",
       "      <td>680.0</td>\n",
       "      <td>492.621765</td>\n",
       "    </tr>\n",
       "    <tr>\n",
       "      <th>4</th>\n",
       "      <td>699.9</td>\n",
       "      <td>509.379242</td>\n",
       "    </tr>\n",
       "    <tr>\n",
       "      <th>...</th>\n",
       "      <td>...</td>\n",
       "      <td>...</td>\n",
       "    </tr>\n",
       "    <tr>\n",
       "      <th>4363</th>\n",
       "      <td>696.4</td>\n",
       "      <td>749.399597</td>\n",
       "    </tr>\n",
       "    <tr>\n",
       "      <th>4364</th>\n",
       "      <td>668.5</td>\n",
       "      <td>726.371948</td>\n",
       "    </tr>\n",
       "    <tr>\n",
       "      <th>4365</th>\n",
       "      <td>637.9</td>\n",
       "      <td>679.430786</td>\n",
       "    </tr>\n",
       "    <tr>\n",
       "      <th>4366</th>\n",
       "      <td>608.4</td>\n",
       "      <td>629.355530</td>\n",
       "    </tr>\n",
       "    <tr>\n",
       "      <th>4367</th>\n",
       "      <td>579.8</td>\n",
       "      <td>583.090698</td>\n",
       "    </tr>\n",
       "  </tbody>\n",
       "</table>\n",
       "<p>4368 rows × 2 columns</p>\n",
       "</div>"
      ],
      "text/plain": [
       "      Values  Predictions\n",
       "0      747.9   534.624756\n",
       "1      715.5   510.888855\n",
       "2      691.8   500.104797\n",
       "3      680.0   492.621765\n",
       "4      699.9   509.379242\n",
       "...      ...          ...\n",
       "4363   696.4   749.399597\n",
       "4364   668.5   726.371948\n",
       "4365   637.9   679.430786\n",
       "4366   608.4   629.355530\n",
       "4367   579.8   583.090698\n",
       "\n",
       "[4368 rows x 2 columns]"
      ]
     },
     "execution_count": 28,
     "metadata": {},
     "output_type": "execute_result"
    }
   ],
   "source": [
    "comparisionDf = pd.DataFrame(data= {\"Values\": Y_testArr, \"Predictions\": predArr})\n",
    "comparisionDf = inverse_transform(comparisionDf)\n",
    "comparisionDf"
   ]
  },
  {
   "cell_type": "code",
   "execution_count": 29,
   "id": "88222bae",
   "metadata": {},
   "outputs": [
    {
     "data": {
      "text/plain": [
       "8.490245476867301"
      ]
     },
     "execution_count": 29,
     "metadata": {},
     "output_type": "execute_result"
    }
   ],
   "source": [
    "mape(comparisionDf[\"Values\"], comparisionDf[\"Predictions\"])"
   ]
  }
 ],
 "metadata": {
  "kernelspec": {
   "display_name": "Python 3 (ipykernel)",
   "language": "python",
   "name": "python3"
  },
  "language_info": {
   "codemirror_mode": {
    "name": "ipython",
    "version": 3
   },
   "file_extension": ".py",
   "mimetype": "text/x-python",
   "name": "python",
   "nbconvert_exporter": "python",
   "pygments_lexer": "ipython3",
   "version": "3.9.12"
  }
 },
 "nbformat": 4,
 "nbformat_minor": 5
}
