{
 "cells": [
  {
   "cell_type": "code",
   "execution_count": 1,
   "id": "5f61b29f",
   "metadata": {},
   "outputs": [
    {
     "name": "stdout",
     "output_type": "stream",
     "text": [
      "Num GPUs Available:  1\n"
     ]
    }
   ],
   "source": [
    "import pandas as pd\n",
    "import numpy as np\n",
    "import os\n",
    "import matplotlib.pyplot as plt\n",
    "from datetime import datetime\n",
    "from sklearn.preprocessing import MinMaxScaler, RobustScaler, StandardScaler\n",
    "import time\n",
    "\n",
    "import tensorflow as tf\n",
    "tf.random.set_seed(42)\n",
    "\n",
    "def mape(y_true, y_pred):\n",
    "    y_true, y_pred = np.array(y_true), np.array(y_pred)\n",
    "    return np.mean(np.abs((y_true - y_pred) / max(y_true))) * 100\n",
    "\n",
    "def RMSELoss(yhat,y):\n",
    "    return torch.sqrt(torch.mean((yhat-y)**2))\n",
    "\n",
    "print(\"Num GPUs Available: \", len(tf.config.list_physical_devices('GPU')))"
   ]
  },
  {
   "cell_type": "code",
   "execution_count": 2,
   "id": "cea0abe2",
   "metadata": {},
   "outputs": [
    {
     "name": "stdout",
     "output_type": "stream",
     "text": [
      "['AT.csv', 'BE.csv', 'BG.csv', 'CH.csv', 'CZ.csv', 'DK.csv', 'ES.csv', 'FR.csv', 'GR.csv', 'IT.csv', 'NL.csv', 'PT.csv', 'SI.csv', 'SK.csv']\n"
     ]
    }
   ],
   "source": [
    "# Specifying the path of file\n",
    "path= r\"C:\\Users\\sashah8\\OneDrive - North Carolina State University\\Desktop\\Q4\\Data\\L3\\data_cleaned\"\n",
    "\n",
    "# Listing just the required files\n",
    "fileList = os.listdir(path)\n",
    "fileList.remove(\"Date.csv\")\n",
    "\n",
    "# Previewing the required file names\n",
    "print(fileList)"
   ]
  },
  {
   "cell_type": "code",
   "execution_count": 3,
   "id": "a6fe9396",
   "metadata": {},
   "outputs": [
    {
     "data": {
      "text/html": [
       "<div>\n",
       "<style scoped>\n",
       "    .dataframe tbody tr th:only-of-type {\n",
       "        vertical-align: middle;\n",
       "    }\n",
       "\n",
       "    .dataframe tbody tr th {\n",
       "        vertical-align: top;\n",
       "    }\n",
       "\n",
       "    .dataframe thead th {\n",
       "        text-align: right;\n",
       "    }\n",
       "</style>\n",
       "<table border=\"1\" class=\"dataframe\">\n",
       "  <thead>\n",
       "    <tr style=\"text-align: right;\">\n",
       "      <th></th>\n",
       "      <th>Demand</th>\n",
       "      <th>Normalized_net</th>\n",
       "      <th>Temperature</th>\n",
       "      <th>DNI</th>\n",
       "      <th>DHI</th>\n",
       "    </tr>\n",
       "  </thead>\n",
       "  <tbody>\n",
       "    <tr>\n",
       "      <th>0</th>\n",
       "      <td>9484.0</td>\n",
       "      <td>0.513492</td>\n",
       "      <td>-0.046</td>\n",
       "      <td>0.0</td>\n",
       "      <td>0.0</td>\n",
       "    </tr>\n",
       "    <tr>\n",
       "      <th>1</th>\n",
       "      <td>9152.0</td>\n",
       "      <td>0.474906</td>\n",
       "      <td>-0.302</td>\n",
       "      <td>0.0</td>\n",
       "      <td>0.0</td>\n",
       "    </tr>\n",
       "    <tr>\n",
       "      <th>2</th>\n",
       "      <td>8799.0</td>\n",
       "      <td>0.433880</td>\n",
       "      <td>-0.541</td>\n",
       "      <td>0.0</td>\n",
       "      <td>0.0</td>\n",
       "    </tr>\n",
       "    <tr>\n",
       "      <th>3</th>\n",
       "      <td>8567.0</td>\n",
       "      <td>0.406916</td>\n",
       "      <td>-0.794</td>\n",
       "      <td>0.0</td>\n",
       "      <td>0.0</td>\n",
       "    </tr>\n",
       "    <tr>\n",
       "      <th>4</th>\n",
       "      <td>8487.0</td>\n",
       "      <td>0.397618</td>\n",
       "      <td>-1.053</td>\n",
       "      <td>0.0</td>\n",
       "      <td>0.0</td>\n",
       "    </tr>\n",
       "    <tr>\n",
       "      <th>...</th>\n",
       "      <td>...</td>\n",
       "      <td>...</td>\n",
       "      <td>...</td>\n",
       "      <td>...</td>\n",
       "      <td>...</td>\n",
       "    </tr>\n",
       "    <tr>\n",
       "      <th>43819</th>\n",
       "      <td>9369.0</td>\n",
       "      <td>0.500127</td>\n",
       "      <td>1.684</td>\n",
       "      <td>0.0</td>\n",
       "      <td>0.0</td>\n",
       "    </tr>\n",
       "    <tr>\n",
       "      <th>43820</th>\n",
       "      <td>9105.0</td>\n",
       "      <td>0.469444</td>\n",
       "      <td>1.718</td>\n",
       "      <td>0.0</td>\n",
       "      <td>0.0</td>\n",
       "    </tr>\n",
       "    <tr>\n",
       "      <th>43821</th>\n",
       "      <td>9346.0</td>\n",
       "      <td>0.497454</td>\n",
       "      <td>1.726</td>\n",
       "      <td>0.0</td>\n",
       "      <td>0.0</td>\n",
       "    </tr>\n",
       "    <tr>\n",
       "      <th>43822</th>\n",
       "      <td>9392.0</td>\n",
       "      <td>0.502800</td>\n",
       "      <td>1.569</td>\n",
       "      <td>0.0</td>\n",
       "      <td>0.0</td>\n",
       "    </tr>\n",
       "    <tr>\n",
       "      <th>43823</th>\n",
       "      <td>9069.0</td>\n",
       "      <td>0.465260</td>\n",
       "      <td>1.216</td>\n",
       "      <td>0.0</td>\n",
       "      <td>0.0</td>\n",
       "    </tr>\n",
       "  </tbody>\n",
       "</table>\n",
       "<p>43824 rows × 5 columns</p>\n",
       "</div>"
      ],
      "text/plain": [
       "       Demand  Normalized_net  Temperature  DNI  DHI\n",
       "0      9484.0        0.513492       -0.046  0.0  0.0\n",
       "1      9152.0        0.474906       -0.302  0.0  0.0\n",
       "2      8799.0        0.433880       -0.541  0.0  0.0\n",
       "3      8567.0        0.406916       -0.794  0.0  0.0\n",
       "4      8487.0        0.397618       -1.053  0.0  0.0\n",
       "...       ...             ...          ...  ...  ...\n",
       "43819  9369.0        0.500127        1.684  0.0  0.0\n",
       "43820  9105.0        0.469444        1.718  0.0  0.0\n",
       "43821  9346.0        0.497454        1.726  0.0  0.0\n",
       "43822  9392.0        0.502800        1.569  0.0  0.0\n",
       "43823  9069.0        0.465260        1.216  0.0  0.0\n",
       "\n",
       "[43824 rows x 5 columns]"
      ]
     },
     "execution_count": 3,
     "metadata": {},
     "output_type": "execute_result"
    }
   ],
   "source": [
    "# Just for previewing the columns\n",
    "pd.read_csv(os.path.join(path, fileList[1]))"
   ]
  },
  {
   "cell_type": "markdown",
   "id": "9ad4906c",
   "metadata": {
    "pycharm": {
     "name": "#%% md\n"
    }
   },
   "source": [
    "### PROCESSING THE DATA"
   ]
  },
  {
   "cell_type": "code",
   "execution_count": 4,
   "id": "f29f6db2",
   "metadata": {},
   "outputs": [
    {
     "data": {
      "text/html": [
       "<div>\n",
       "<style scoped>\n",
       "    .dataframe tbody tr th:only-of-type {\n",
       "        vertical-align: middle;\n",
       "    }\n",
       "\n",
       "    .dataframe tbody tr th {\n",
       "        vertical-align: top;\n",
       "    }\n",
       "\n",
       "    .dataframe thead th {\n",
       "        text-align: right;\n",
       "    }\n",
       "</style>\n",
       "<table border=\"1\" class=\"dataframe\">\n",
       "  <thead>\n",
       "    <tr style=\"text-align: right;\">\n",
       "      <th></th>\n",
       "      <th>Load_BE</th>\n",
       "      <th>Temp_BE</th>\n",
       "    </tr>\n",
       "  </thead>\n",
       "  <tbody>\n",
       "    <tr>\n",
       "      <th>0</th>\n",
       "      <td>9484.0</td>\n",
       "      <td>-0.046</td>\n",
       "    </tr>\n",
       "    <tr>\n",
       "      <th>1</th>\n",
       "      <td>9152.0</td>\n",
       "      <td>-0.302</td>\n",
       "    </tr>\n",
       "    <tr>\n",
       "      <th>2</th>\n",
       "      <td>8799.0</td>\n",
       "      <td>-0.541</td>\n",
       "    </tr>\n",
       "    <tr>\n",
       "      <th>3</th>\n",
       "      <td>8567.0</td>\n",
       "      <td>-0.794</td>\n",
       "    </tr>\n",
       "    <tr>\n",
       "      <th>4</th>\n",
       "      <td>8487.0</td>\n",
       "      <td>-1.053</td>\n",
       "    </tr>\n",
       "    <tr>\n",
       "      <th>...</th>\n",
       "      <td>...</td>\n",
       "      <td>...</td>\n",
       "    </tr>\n",
       "    <tr>\n",
       "      <th>43819</th>\n",
       "      <td>9369.0</td>\n",
       "      <td>1.684</td>\n",
       "    </tr>\n",
       "    <tr>\n",
       "      <th>43820</th>\n",
       "      <td>9105.0</td>\n",
       "      <td>1.718</td>\n",
       "    </tr>\n",
       "    <tr>\n",
       "      <th>43821</th>\n",
       "      <td>9346.0</td>\n",
       "      <td>1.726</td>\n",
       "    </tr>\n",
       "    <tr>\n",
       "      <th>43822</th>\n",
       "      <td>9392.0</td>\n",
       "      <td>1.569</td>\n",
       "    </tr>\n",
       "    <tr>\n",
       "      <th>43823</th>\n",
       "      <td>9069.0</td>\n",
       "      <td>1.216</td>\n",
       "    </tr>\n",
       "  </tbody>\n",
       "</table>\n",
       "<p>43824 rows × 2 columns</p>\n",
       "</div>"
      ],
      "text/plain": [
       "       Load_BE  Temp_BE\n",
       "0       9484.0   -0.046\n",
       "1       9152.0   -0.302\n",
       "2       8799.0   -0.541\n",
       "3       8567.0   -0.794\n",
       "4       8487.0   -1.053\n",
       "...        ...      ...\n",
       "43819   9369.0    1.684\n",
       "43820   9105.0    1.718\n",
       "43821   9346.0    1.726\n",
       "43822   9392.0    1.569\n",
       "43823   9069.0    1.216\n",
       "\n",
       "[43824 rows x 2 columns]"
      ]
     },
     "execution_count": 4,
     "metadata": {},
     "output_type": "execute_result"
    }
   ],
   "source": [
    "# Restricting the load data to a single zone\n",
    "fileName  = fileList[1]\n",
    "\n",
    "zoneData = pd.read_csv(os.path.join(path, fileName), usecols= [\"Demand\", \"Temperature\"])\n",
    "zoneData.columns = [\"Load_\"+str(fileName[:-4]), \"Temp_\"+str(fileName[:-4])]\n",
    "\n",
    "# For fixing one missing row\n",
    "# zoneData = pd.concat([zoneData.loc[[0]], zoneData], axis= 0).reset_index(drop= True)\n",
    "\n",
    "zoneData"
   ]
  },
  {
   "cell_type": "markdown",
   "id": "01cec4bd",
   "metadata": {},
   "source": [
    "### FEATURE ENGINEERING AND SPLITTING INTO TRAIN-TEST SPLIT"
   ]
  },
  {
   "cell_type": "code",
   "execution_count": 5,
   "id": "a1e1e8a3",
   "metadata": {},
   "outputs": [],
   "source": [
    "def lagGenerator(dF, lagList):\n",
    "    dF_temp = dF.filter(regex= \"Load\").copy()\n",
    "    \n",
    "    for i in lagList:\n",
    "        dF_temp.loc[:, \"Lag-\" + str(i)] = dF_temp.iloc[:,[0]].shift(i*24)\n",
    "    \n",
    "    return(dF_temp.filter(regex= \"Lag\"))"
   ]
  },
  {
   "cell_type": "code",
   "execution_count": 6,
   "id": "159a2a82",
   "metadata": {},
   "outputs": [
    {
     "data": {
      "text/html": [
       "<div>\n",
       "<style scoped>\n",
       "    .dataframe tbody tr th:only-of-type {\n",
       "        vertical-align: middle;\n",
       "    }\n",
       "\n",
       "    .dataframe tbody tr th {\n",
       "        vertical-align: top;\n",
       "    }\n",
       "\n",
       "    .dataframe thead th {\n",
       "        text-align: right;\n",
       "    }\n",
       "</style>\n",
       "<table border=\"1\" class=\"dataframe\">\n",
       "  <thead>\n",
       "    <tr style=\"text-align: right;\">\n",
       "      <th></th>\n",
       "      <th>Lag-2</th>\n",
       "      <th>Lag-7</th>\n",
       "    </tr>\n",
       "  </thead>\n",
       "  <tbody>\n",
       "    <tr>\n",
       "      <th>0</th>\n",
       "      <td>NaN</td>\n",
       "      <td>NaN</td>\n",
       "    </tr>\n",
       "    <tr>\n",
       "      <th>1</th>\n",
       "      <td>NaN</td>\n",
       "      <td>NaN</td>\n",
       "    </tr>\n",
       "  </tbody>\n",
       "</table>\n",
       "</div>"
      ],
      "text/plain": [
       "   Lag-2  Lag-7\n",
       "0    NaN    NaN\n",
       "1    NaN    NaN"
      ]
     },
     "execution_count": 6,
     "metadata": {},
     "output_type": "execute_result"
    }
   ],
   "source": [
    "Load_lags = lagGenerator(dF=zoneData, lagList=[2,7])\n",
    "Load_lags.head(2)"
   ]
  },
  {
   "cell_type": "code",
   "execution_count": 7,
   "id": "05896954",
   "metadata": {},
   "outputs": [
    {
     "data": {
      "text/html": [
       "<div>\n",
       "<style scoped>\n",
       "    .dataframe tbody tr th:only-of-type {\n",
       "        vertical-align: middle;\n",
       "    }\n",
       "\n",
       "    .dataframe tbody tr th {\n",
       "        vertical-align: top;\n",
       "    }\n",
       "\n",
       "    .dataframe thead th {\n",
       "        text-align: right;\n",
       "    }\n",
       "</style>\n",
       "<table border=\"1\" class=\"dataframe\">\n",
       "  <thead>\n",
       "    <tr style=\"text-align: right;\">\n",
       "      <th></th>\n",
       "      <th>Load_BE</th>\n",
       "      <th>Temp_BE</th>\n",
       "      <th>Lag-2</th>\n",
       "      <th>Lag-7</th>\n",
       "    </tr>\n",
       "  </thead>\n",
       "  <tbody>\n",
       "    <tr>\n",
       "      <th>0</th>\n",
       "      <td>10519.0</td>\n",
       "      <td>1.499</td>\n",
       "      <td>10657.0</td>\n",
       "      <td>9484.0</td>\n",
       "    </tr>\n",
       "    <tr>\n",
       "      <th>1</th>\n",
       "      <td>10083.0</td>\n",
       "      <td>1.842</td>\n",
       "      <td>10281.0</td>\n",
       "      <td>9152.0</td>\n",
       "    </tr>\n",
       "    <tr>\n",
       "      <th>2</th>\n",
       "      <td>9803.0</td>\n",
       "      <td>2.338</td>\n",
       "      <td>10054.0</td>\n",
       "      <td>8799.0</td>\n",
       "    </tr>\n",
       "    <tr>\n",
       "      <th>3</th>\n",
       "      <td>9828.0</td>\n",
       "      <td>2.934</td>\n",
       "      <td>10078.0</td>\n",
       "      <td>8567.0</td>\n",
       "    </tr>\n",
       "    <tr>\n",
       "      <th>4</th>\n",
       "      <td>10238.0</td>\n",
       "      <td>3.446</td>\n",
       "      <td>10415.0</td>\n",
       "      <td>8487.0</td>\n",
       "    </tr>\n",
       "    <tr>\n",
       "      <th>...</th>\n",
       "      <td>...</td>\n",
       "      <td>...</td>\n",
       "      <td>...</td>\n",
       "      <td>...</td>\n",
       "    </tr>\n",
       "    <tr>\n",
       "      <th>43651</th>\n",
       "      <td>9369.0</td>\n",
       "      <td>1.684</td>\n",
       "      <td>9420.0</td>\n",
       "      <td>8654.0</td>\n",
       "    </tr>\n",
       "    <tr>\n",
       "      <th>43652</th>\n",
       "      <td>9105.0</td>\n",
       "      <td>1.718</td>\n",
       "      <td>9091.0</td>\n",
       "      <td>8253.0</td>\n",
       "    </tr>\n",
       "    <tr>\n",
       "      <th>43653</th>\n",
       "      <td>9346.0</td>\n",
       "      <td>1.726</td>\n",
       "      <td>9067.0</td>\n",
       "      <td>8638.0</td>\n",
       "    </tr>\n",
       "    <tr>\n",
       "      <th>43654</th>\n",
       "      <td>9392.0</td>\n",
       "      <td>1.569</td>\n",
       "      <td>8991.0</td>\n",
       "      <td>8691.0</td>\n",
       "    </tr>\n",
       "    <tr>\n",
       "      <th>43655</th>\n",
       "      <td>9069.0</td>\n",
       "      <td>1.216</td>\n",
       "      <td>8598.0</td>\n",
       "      <td>8365.0</td>\n",
       "    </tr>\n",
       "  </tbody>\n",
       "</table>\n",
       "<p>43656 rows × 4 columns</p>\n",
       "</div>"
      ],
      "text/plain": [
       "       Load_BE  Temp_BE    Lag-2   Lag-7\n",
       "0      10519.0    1.499  10657.0  9484.0\n",
       "1      10083.0    1.842  10281.0  9152.0\n",
       "2       9803.0    2.338  10054.0  8799.0\n",
       "3       9828.0    2.934  10078.0  8567.0\n",
       "4      10238.0    3.446  10415.0  8487.0\n",
       "...        ...      ...      ...     ...\n",
       "43651   9369.0    1.684   9420.0  8654.0\n",
       "43652   9105.0    1.718   9091.0  8253.0\n",
       "43653   9346.0    1.726   9067.0  8638.0\n",
       "43654   9392.0    1.569   8991.0  8691.0\n",
       "43655   9069.0    1.216   8598.0  8365.0\n",
       "\n",
       "[43656 rows x 4 columns]"
      ]
     },
     "execution_count": 7,
     "metadata": {},
     "output_type": "execute_result"
    }
   ],
   "source": [
    "dataDf = pd.concat([zoneData, Load_lags], axis= 1).dropna(axis= 0).reset_index(drop= True)\n",
    "dataDf"
   ]
  },
  {
   "cell_type": "code",
   "execution_count": 8,
   "id": "6ad25321",
   "metadata": {},
   "outputs": [],
   "source": [
    "# Setting the train-test split ratio\n",
    "ratio = 0.1"
   ]
  },
  {
   "cell_type": "code",
   "execution_count": 9,
   "id": "3c08d963",
   "metadata": {},
   "outputs": [],
   "source": [
    "Num_train, Num_test = int(len(dataDf)/24 * (1 - ratio)) * 24, int(len(dataDf)/24 * ratio) * 24"
   ]
  },
  {
   "cell_type": "code",
   "execution_count": 10,
   "id": "cbe069ff",
   "metadata": {},
   "outputs": [],
   "source": [
    "# Splitting the data into train and test\n",
    "data_train, data_test = dataDf[:Num_train], dataDf[Num_train:]"
   ]
  },
  {
   "cell_type": "code",
   "execution_count": 11,
   "id": "d84e15c4",
   "metadata": {},
   "outputs": [],
   "source": [
    "Num_train, Num_valid = int(len(data_train)/24 * (1 - ratio)) * 24, int(len(data_train)/24 * ratio) * 24"
   ]
  },
  {
   "cell_type": "code",
   "execution_count": 12,
   "id": "c17d1723",
   "metadata": {},
   "outputs": [],
   "source": [
    "# Splitting the data into train and test\n",
    "data_train, data_valid = data_train[:Num_train], data_train[Num_train:]"
   ]
  },
  {
   "cell_type": "markdown",
   "id": "88d32011",
   "metadata": {},
   "source": [
    "### SPLITTING INTO X AND Y PART WITH SEQUENCE BATCHING"
   ]
  },
  {
   "cell_type": "code",
   "execution_count": 13,
   "id": "4ba286ca",
   "metadata": {},
   "outputs": [],
   "source": [
    "X_train_df, Y_train_df = data_train.iloc[:, 1:], data_train.iloc[:, :1]\n",
    "\n",
    "X_valid_df, Y_valid_df = data_valid.iloc[:, 1:], data_valid.iloc[:, :1]\n",
    "\n",
    "X_test_df, Y_test_df = data_test.iloc[:, 1:], data_test.iloc[:, :1]"
   ]
  },
  {
   "cell_type": "code",
   "execution_count": 14,
   "id": "ef1d9079",
   "metadata": {},
   "outputs": [],
   "source": [
    "# Preparing the scaler\n",
    "ValScaler = MinMaxScaler()\n",
    "\n",
    "X_train = ValScaler.fit_transform(X_train_df)\n",
    "X_valid = ValScaler.transform(X_valid_df)\n",
    "X_test = ValScaler.transform(X_test_df)\n",
    "\n",
    "Y_train = ValScaler.fit_transform(Y_train_df)\n",
    "Y_valid = ValScaler.transform(Y_valid_df)\n",
    "Y_test = ValScaler.transform(Y_test_df)"
   ]
  },
  {
   "cell_type": "code",
   "execution_count": 15,
   "id": "43594401",
   "metadata": {},
   "outputs": [],
   "source": [
    "def splitData(dataset):\n",
    "    data = np.array(np.split(dataset, len(dataset)/24))\n",
    "    return data"
   ]
  },
  {
   "cell_type": "code",
   "execution_count": 16,
   "id": "300696b2",
   "metadata": {},
   "outputs": [],
   "source": [
    "def supervisedSet(X_part, Y_part, steps= 24):\n",
    "    X_array, Y_array = np.array(X_part), np.array(Y_part)\n",
    "    X, Y = [], []\n",
    "    \n",
    "    for i in range(len(X_array)):\n",
    "        endIdx = i + steps\n",
    "        \n",
    "        if endIdx > len(X_array):\n",
    "            break\n",
    "        \n",
    "        batch_X, batch_Y = X_array[i:endIdx], Y_array[i:endIdx]\n",
    "        \n",
    "        X.append(batch_X)\n",
    "        Y.append(batch_Y)\n",
    "        \n",
    "    return np.array(X), np.array(Y)"
   ]
  },
  {
   "cell_type": "code",
   "execution_count": 17,
   "id": "fc9cd97d",
   "metadata": {},
   "outputs": [],
   "source": [
    "X_train, Y_train = supervisedSet(X_train, Y_train)\n",
    "\n",
    "X_valid, Y_valid = splitData(X_valid), splitData(Y_valid)\n",
    "\n",
    "X_test, Y_test = splitData(X_test), splitData(Y_test)"
   ]
  },
  {
   "cell_type": "markdown",
   "id": "a2a6bf32",
   "metadata": {},
   "source": [
    "### WORKING ON THE MODEL"
   ]
  },
  {
   "cell_type": "code",
   "execution_count": 18,
   "id": "ff71a98c",
   "metadata": {},
   "outputs": [],
   "source": [
    "epochs = 100\n",
    "batchSize = 32"
   ]
  },
  {
   "cell_type": "code",
   "execution_count": 19,
   "id": "8d600c17",
   "metadata": {},
   "outputs": [],
   "source": [
    "# Encoder-decoder architecture [tanh required to use tensorflow on gpu]\n",
    "model = tf.keras.Sequential([\n",
    "    tf.keras.layers.LSTM(units= 128, activation= \"tanh\", input_shape= (X_train.shape[1], X_train.shape[2]), dropout= 0.2),\n",
    "    tf.keras.layers.RepeatVector(Y_train.shape[1]),\n",
    "    tf.keras.layers.LSTM(units= 128, activation= \"tanh\", return_sequences= True, dropout= 0.2),\n",
    "    tf.keras.layers.TimeDistributed(tf.keras.layers.Dense(units= 128, activation= \"relu\")),\n",
    "    tf.keras.layers.Dropout(0.2),\n",
    "    tf.keras.layers.TimeDistributed(tf.keras.layers.Dense(units= 1))\n",
    "])\n",
    "\n",
    "model.compile(loss= \"mse\", optimizer= \"adam\",  metrics= ['mape', 'mae'])"
   ]
  },
  {
   "cell_type": "code",
   "execution_count": 20,
   "id": "a05c033a",
   "metadata": {},
   "outputs": [],
   "source": [
    "# model = tf.keras.Sequential([\n",
    "#     tf.keras.layers.LSTM(units= 256, activation= \"tanh\", input_shape= (X_train.shape[1], X_train.shape[2])),\n",
    "#     tf.keras.layers.Dense(units= 128, activation= \"tanh\"),\n",
    "#     tf.keras.layers.Dense(units= 1)\n",
    "# ])\n",
    "\n",
    "# model.compile(loss= \"mse\", optimizer= \"adam\",  metrics= ['mape', 'mae'])"
   ]
  },
  {
   "cell_type": "code",
   "execution_count": 21,
   "id": "c9390383",
   "metadata": {},
   "outputs": [],
   "source": [
    "# Storing the start time of model fitting process\n",
    "startTime = time.time()"
   ]
  },
  {
   "cell_type": "code",
   "execution_count": 22,
   "id": "e526e3ed",
   "metadata": {},
   "outputs": [
    {
     "name": "stdout",
     "output_type": "stream",
     "text": [
      "Epoch 1/100\n",
      "1105/1105 [==============================] - 24s 18ms/step - loss: 0.0188 - mape: 7311.1582 - mae: 0.1099 - val_loss: 0.0140 - val_mape: 91.1797 - val_mae: 0.0958\n",
      "Epoch 2/100\n",
      "1105/1105 [==============================] - 18s 16ms/step - loss: 0.0122 - mape: 6983.5488 - mae: 0.0861 - val_loss: 0.0123 - val_mape: 101.1405 - val_mae: 0.0830\n",
      "Epoch 3/100\n",
      "1105/1105 [==============================] - 18s 16ms/step - loss: 0.0096 - mape: 5819.0830 - mae: 0.0741 - val_loss: 0.0090 - val_mape: 71.5503 - val_mae: 0.0743\n",
      "Epoch 4/100\n",
      "1105/1105 [==============================] - 18s 16ms/step - loss: 0.0083 - mape: 5697.7295 - mae: 0.0682 - val_loss: 0.0114 - val_mape: 60.5966 - val_mae: 0.0852\n",
      "Epoch 5/100\n",
      "1105/1105 [==============================] - 18s 16ms/step - loss: 0.0074 - mape: 5409.2866 - mae: 0.0639 - val_loss: 0.0119 - val_mape: 65.6638 - val_mae: 0.0881\n",
      "Epoch 6/100\n",
      "1105/1105 [==============================] - 18s 16ms/step - loss: 0.0069 - mape: 4933.3667 - mae: 0.0612 - val_loss: 0.0095 - val_mape: 81.0748 - val_mae: 0.0743\n",
      "Epoch 7/100\n",
      "1105/1105 [==============================] - 18s 16ms/step - loss: 0.0065 - mape: 5034.0845 - mae: 0.0592 - val_loss: 0.0079 - val_mape: 71.7218 - val_mae: 0.0696\n",
      "Epoch 8/100\n",
      "1105/1105 [==============================] - 18s 17ms/step - loss: 0.0061 - mape: 4902.0444 - mae: 0.0573 - val_loss: 0.0080 - val_mape: 59.3748 - val_mae: 0.0701\n",
      "Epoch 9/100\n",
      "1105/1105 [==============================] - 18s 17ms/step - loss: 0.0059 - mape: 4155.1245 - mae: 0.0565 - val_loss: 0.0086 - val_mape: 49.0667 - val_mae: 0.0744\n",
      "Epoch 10/100\n",
      "1105/1105 [==============================] - 18s 17ms/step - loss: 0.0057 - mape: 4302.6606 - mae: 0.0552 - val_loss: 0.0078 - val_mape: 68.2662 - val_mae: 0.0675\n",
      "Epoch 11/100\n",
      "1105/1105 [==============================] - 18s 16ms/step - loss: 0.0056 - mape: 4068.3284 - mae: 0.0544 - val_loss: 0.0120 - val_mape: 61.7574 - val_mae: 0.0906\n",
      "Epoch 12/100\n",
      "1105/1105 [==============================] - 18s 16ms/step - loss: 0.0054 - mape: 4176.1187 - mae: 0.0537 - val_loss: 0.0086 - val_mape: 57.4413 - val_mae: 0.0727\n",
      "Epoch 13/100\n",
      "1105/1105 [==============================] - 18s 16ms/step - loss: 0.0053 - mape: 4056.0830 - mae: 0.0528 - val_loss: 0.0085 - val_mape: 61.1683 - val_mae: 0.0712\n",
      "Epoch 14/100\n",
      "1105/1105 [==============================] - 18s 17ms/step - loss: 0.0051 - mape: 4089.6865 - mae: 0.0521 - val_loss: 0.0095 - val_mape: 58.8471 - val_mae: 0.0777\n",
      "Epoch 15/100\n",
      "1105/1105 [==============================] - 18s 16ms/step - loss: 0.0051 - mape: 4237.1675 - mae: 0.0516 - val_loss: 0.0083 - val_mape: 58.1121 - val_mae: 0.0695\n",
      "Epoch 16/100\n",
      "1105/1105 [==============================] - 18s 17ms/step - loss: 0.0049 - mape: 3805.4426 - mae: 0.0508 - val_loss: 0.0109 - val_mape: 53.1438 - val_mae: 0.0829\n",
      "Epoch 17/100\n",
      "1105/1105 [==============================] - 18s 16ms/step - loss: 0.0048 - mape: 4057.2844 - mae: 0.0502 - val_loss: 0.0087 - val_mape: 59.5470 - val_mae: 0.0714\n",
      "Epoch 18/100\n",
      "1105/1105 [==============================] - 18s 16ms/step - loss: 0.0047 - mape: 3802.5457 - mae: 0.0499 - val_loss: 0.0098 - val_mape: 74.4362 - val_mae: 0.0752\n",
      "Epoch 19/100\n",
      "1105/1105 [==============================] - 19s 17ms/step - loss: 0.0045 - mape: 4079.4995 - mae: 0.0487 - val_loss: 0.0100 - val_mape: 54.4986 - val_mae: 0.0771\n",
      "Epoch 20/100\n",
      "1105/1105 [==============================] - 18s 16ms/step - loss: 0.0044 - mape: 3243.2625 - mae: 0.0482 - val_loss: 0.0086 - val_mape: 61.3336 - val_mae: 0.0703\n",
      "Epoch 21/100\n",
      "1105/1105 [==============================] - 18s 17ms/step - loss: 0.0043 - mape: 3290.5769 - mae: 0.0478 - val_loss: 0.0094 - val_mape: 53.1551 - val_mae: 0.0741\n",
      "Epoch 22/100\n",
      "1105/1105 [==============================] - 19s 17ms/step - loss: 0.0043 - mape: 2763.0024 - mae: 0.0475 - val_loss: 0.0114 - val_mape: 71.2362 - val_mae: 0.0801\n",
      "Epoch 23/100\n",
      "1105/1105 [==============================] - 19s 17ms/step - loss: 0.0042 - mape: 3806.1016 - mae: 0.0468 - val_loss: 0.0101 - val_mape: 51.1749 - val_mae: 0.0777\n",
      "Epoch 24/100\n",
      "1105/1105 [==============================] - 19s 17ms/step - loss: 0.0040 - mape: 3084.8149 - mae: 0.0459 - val_loss: 0.0094 - val_mape: 62.5500 - val_mae: 0.0743\n",
      "Epoch 25/100\n",
      "1105/1105 [==============================] - 19s 17ms/step - loss: 0.0040 - mape: 3139.6292 - mae: 0.0458 - val_loss: 0.0118 - val_mape: 50.6374 - val_mae: 0.0838\n",
      "Epoch 26/100\n",
      "1105/1105 [==============================] - 19s 17ms/step - loss: 0.0040 - mape: 3383.6035 - mae: 0.0458 - val_loss: 0.0122 - val_mape: 64.1499 - val_mae: 0.0828\n",
      "Epoch 27/100\n",
      "1105/1105 [==============================] - 19s 18ms/step - loss: 0.0038 - mape: 2943.3965 - mae: 0.0447 - val_loss: 0.0111 - val_mape: 55.1863 - val_mae: 0.0795\n",
      "Epoch 28/100\n",
      "1105/1105 [==============================] - 19s 18ms/step - loss: 0.0037 - mape: 3394.8711 - mae: 0.0444 - val_loss: 0.0095 - val_mape: 59.5045 - val_mae: 0.0735\n",
      "Epoch 29/100\n",
      "1105/1105 [==============================] - 20s 18ms/step - loss: 0.0038 - mape: 3429.1306 - mae: 0.0445 - val_loss: 0.0099 - val_mape: 44.2351 - val_mae: 0.0763\n",
      "Epoch 30/100\n",
      "1105/1105 [==============================] - 20s 18ms/step - loss: 0.0036 - mape: 2734.5212 - mae: 0.0439 - val_loss: 0.0081 - val_mape: 36.1635 - val_mae: 0.0686\n",
      "Epoch 31/100\n",
      "1105/1105 [==============================] - 20s 18ms/step - loss: 0.0035 - mape: 2652.6753 - mae: 0.0431 - val_loss: 0.0091 - val_mape: 51.1087 - val_mae: 0.0717\n",
      "Epoch 32/100\n",
      "1105/1105 [==============================] - 20s 18ms/step - loss: 0.0034 - mape: 2710.2766 - mae: 0.0427 - val_loss: 0.0085 - val_mape: 54.2971 - val_mae: 0.0698\n",
      "Epoch 33/100\n",
      "1105/1105 [==============================] - 21s 19ms/step - loss: 0.0033 - mape: 3374.2131 - mae: 0.0420 - val_loss: 0.0106 - val_mape: 53.4658 - val_mae: 0.0787\n",
      "Epoch 34/100\n",
      "1105/1105 [==============================] - 21s 19ms/step - loss: 0.0033 - mape: 2933.1577 - mae: 0.0420 - val_loss: 0.0120 - val_mape: 50.5632 - val_mae: 0.0819\n",
      "Epoch 35/100\n",
      "1105/1105 [==============================] - 21s 19ms/step - loss: 0.0032 - mape: 2900.7612 - mae: 0.0414 - val_loss: 0.0099 - val_mape: 52.2459 - val_mae: 0.0756\n",
      "Epoch 36/100\n",
      "1105/1105 [==============================] - 21s 19ms/step - loss: 0.0033 - mape: 2937.8054 - mae: 0.0417 - val_loss: 0.0101 - val_mape: 46.8679 - val_mae: 0.0752\n",
      "Epoch 37/100\n",
      "1105/1105 [==============================] - 21s 19ms/step - loss: 0.0031 - mape: 3030.3701 - mae: 0.0406 - val_loss: 0.0120 - val_mape: 58.2009 - val_mae: 0.0816\n",
      "Epoch 38/100\n",
      "1105/1105 [==============================] - 21s 19ms/step - loss: 0.0031 - mape: 2715.9426 - mae: 0.0407 - val_loss: 0.0095 - val_mape: 39.9131 - val_mae: 0.0734\n",
      "Epoch 39/100\n",
      "1105/1105 [==============================] - 20s 18ms/step - loss: 0.0031 - mape: 2680.6306 - mae: 0.0403 - val_loss: 0.0108 - val_mape: 43.0412 - val_mae: 0.0780\n",
      "Epoch 40/100\n",
      "1105/1105 [==============================] - 20s 19ms/step - loss: 0.0030 - mape: 2826.1948 - mae: 0.0402 - val_loss: 0.0087 - val_mape: 44.9639 - val_mae: 0.0719\n",
      "Epoch 41/100\n",
      "1105/1105 [==============================] - 21s 19ms/step - loss: 0.0029 - mape: 2321.5464 - mae: 0.0395 - val_loss: 0.0112 - val_mape: 49.2092 - val_mae: 0.0794\n",
      "Epoch 42/100\n",
      "1105/1105 [==============================] - 21s 19ms/step - loss: 0.0028 - mape: 2970.9626 - mae: 0.0387 - val_loss: 0.0112 - val_mape: 38.0333 - val_mae: 0.0798\n",
      "Epoch 43/100\n",
      "1105/1105 [==============================] - 20s 19ms/step - loss: 0.0028 - mape: 2815.6848 - mae: 0.0386 - val_loss: 0.0123 - val_mape: 37.1458 - val_mae: 0.0828\n",
      "Epoch 44/100\n",
      "1105/1105 [==============================] - 20s 18ms/step - loss: 0.0027 - mape: 2564.6604 - mae: 0.0385 - val_loss: 0.0126 - val_mape: 46.9480 - val_mae: 0.0819\n",
      "Epoch 45/100\n",
      "1105/1105 [==============================] - 20s 18ms/step - loss: 0.0027 - mape: 2618.2388 - mae: 0.0379 - val_loss: 0.0104 - val_mape: 54.5577 - val_mae: 0.0772\n",
      "Epoch 46/100\n",
      "1105/1105 [==============================] - 20s 18ms/step - loss: 0.0026 - mape: 2410.0776 - mae: 0.0378 - val_loss: 0.0109 - val_mape: 49.9602 - val_mae: 0.0792\n",
      "Epoch 47/100\n"
     ]
    },
    {
     "name": "stdout",
     "output_type": "stream",
     "text": [
      "1105/1105 [==============================] - 19s 17ms/step - loss: 0.0027 - mape: 2450.4048 - mae: 0.0383 - val_loss: 0.0105 - val_mape: 42.3609 - val_mae: 0.0774\n",
      "Epoch 48/100\n",
      "1105/1105 [==============================] - 18s 16ms/step - loss: 0.0025 - mape: 2331.8103 - mae: 0.0371 - val_loss: 0.0098 - val_mape: 38.8354 - val_mae: 0.0740\n",
      "Epoch 49/100\n",
      "1105/1105 [==============================] - 18s 16ms/step - loss: 0.0025 - mape: 2273.8662 - mae: 0.0369 - val_loss: 0.0101 - val_mape: 50.5770 - val_mae: 0.0758\n",
      "Epoch 50/100\n",
      "1105/1105 [==============================] - 18s 16ms/step - loss: 0.0025 - mape: 2710.2378 - mae: 0.0366 - val_loss: 0.0117 - val_mape: 50.6343 - val_mae: 0.0804\n",
      "Epoch 51/100\n",
      "1105/1105 [==============================] - 18s 17ms/step - loss: 0.0025 - mape: 3072.2441 - mae: 0.0366 - val_loss: 0.0100 - val_mape: 56.3937 - val_mae: 0.0747\n",
      "Epoch 52/100\n",
      "1105/1105 [==============================] - 18s 16ms/step - loss: 0.0024 - mape: 2517.7559 - mae: 0.0365 - val_loss: 0.0113 - val_mape: 37.1109 - val_mae: 0.0789\n",
      "Epoch 53/100\n",
      "1105/1105 [==============================] - 18s 17ms/step - loss: 0.0023 - mape: 2265.0071 - mae: 0.0357 - val_loss: 0.0091 - val_mape: 52.7937 - val_mae: 0.0721\n",
      "Epoch 54/100\n",
      "1105/1105 [==============================] - 18s 16ms/step - loss: 0.0024 - mape: 2333.6941 - mae: 0.0360 - val_loss: 0.0089 - val_mape: 52.7629 - val_mae: 0.0722\n",
      "Epoch 55/100\n",
      "1105/1105 [==============================] - 18s 17ms/step - loss: 0.0023 - mape: 2353.0059 - mae: 0.0355 - val_loss: 0.0096 - val_mape: 53.2197 - val_mae: 0.0752\n",
      "Epoch 56/100\n",
      "1105/1105 [==============================] - 18s 17ms/step - loss: 0.0022 - mape: 2472.3491 - mae: 0.0350 - val_loss: 0.0115 - val_mape: 45.2294 - val_mae: 0.0806\n",
      "Epoch 57/100\n",
      "1105/1105 [==============================] - 18s 16ms/step - loss: 0.0022 - mape: 1844.9556 - mae: 0.0347 - val_loss: 0.0114 - val_mape: 43.9824 - val_mae: 0.0804\n",
      "Epoch 58/100\n",
      "1105/1105 [==============================] - 18s 17ms/step - loss: 0.0022 - mape: 2281.3313 - mae: 0.0349 - val_loss: 0.0111 - val_mape: 51.1195 - val_mae: 0.0791\n",
      "Epoch 59/100\n",
      "1105/1105 [==============================] - 18s 16ms/step - loss: 0.0022 - mape: 2427.1594 - mae: 0.0346 - val_loss: 0.0106 - val_mape: 38.4327 - val_mae: 0.0781\n",
      "Epoch 60/100\n",
      "1105/1105 [==============================] - 18s 16ms/step - loss: 0.0023 - mape: 2470.3782 - mae: 0.0351 - val_loss: 0.0114 - val_mape: 64.7165 - val_mae: 0.0778\n",
      "Epoch 61/100\n",
      "1105/1105 [==============================] - 18s 17ms/step - loss: 0.0022 - mape: 2642.8264 - mae: 0.0347 - val_loss: 0.0116 - val_mape: 34.4700 - val_mae: 0.0800\n",
      "Epoch 62/100\n",
      "1105/1105 [==============================] - 18s 17ms/step - loss: 0.0020 - mape: 2278.3198 - mae: 0.0330 - val_loss: 0.0107 - val_mape: 49.2515 - val_mae: 0.0780\n",
      "Epoch 63/100\n",
      "1105/1105 [==============================] - 18s 17ms/step - loss: 0.0020 - mape: 2234.0334 - mae: 0.0332 - val_loss: 0.0106 - val_mape: 44.7882 - val_mae: 0.0773\n",
      "Epoch 64/100\n",
      "1105/1105 [==============================] - 18s 16ms/step - loss: 0.0020 - mape: 2131.0098 - mae: 0.0333 - val_loss: 0.0106 - val_mape: 39.9132 - val_mae: 0.0783\n",
      "Epoch 65/100\n",
      "1105/1105 [==============================] - 18s 17ms/step - loss: 0.0020 - mape: 1654.0586 - mae: 0.0331 - val_loss: 0.0111 - val_mape: 49.0430 - val_mae: 0.0772\n",
      "Epoch 66/100\n",
      "1105/1105 [==============================] - 18s 16ms/step - loss: 0.0019 - mape: 1549.8206 - mae: 0.0329 - val_loss: 0.0125 - val_mape: 46.6861 - val_mae: 0.0845\n",
      "Epoch 67/100\n",
      "1105/1105 [==============================] - 18s 17ms/step - loss: 0.0019 - mape: 2001.3386 - mae: 0.0327 - val_loss: 0.0106 - val_mape: 42.7565 - val_mae: 0.0782\n",
      "Epoch 68/100\n",
      "1105/1105 [==============================] - 18s 17ms/step - loss: 0.0019 - mape: 1958.0854 - mae: 0.0323 - val_loss: 0.0111 - val_mape: 55.0118 - val_mae: 0.0774\n",
      "Epoch 69/100\n",
      "1105/1105 [==============================] - 19s 17ms/step - loss: 0.0018 - mape: 2091.8813 - mae: 0.0314 - val_loss: 0.0102 - val_mape: 39.3130 - val_mae: 0.0754\n",
      "Epoch 70/100\n",
      "1105/1105 [==============================] - 19s 17ms/step - loss: 0.0019 - mape: 2120.0752 - mae: 0.0323 - val_loss: 0.0102 - val_mape: 40.7445 - val_mae: 0.0753\n",
      "Epoch 71/100\n",
      "1105/1105 [==============================] - 19s 17ms/step - loss: 0.0018 - mape: 1676.3121 - mae: 0.0318 - val_loss: 0.0109 - val_mape: 44.3106 - val_mae: 0.0791\n",
      "Epoch 72/100\n",
      "1105/1105 [==============================] - 19s 17ms/step - loss: 0.0018 - mape: 1403.8004 - mae: 0.0316 - val_loss: 0.0111 - val_mape: 48.1807 - val_mae: 0.0793\n",
      "Epoch 73/100\n",
      "1105/1105 [==============================] - 19s 17ms/step - loss: 0.0017 - mape: 2049.8350 - mae: 0.0310 - val_loss: 0.0099 - val_mape: 42.8651 - val_mae: 0.0754\n",
      "Epoch 74/100\n",
      "1105/1105 [==============================] - 19s 18ms/step - loss: 0.0018 - mape: 2123.8167 - mae: 0.0318 - val_loss: 0.0110 - val_mape: 71.5996 - val_mae: 0.0795\n",
      "Epoch 75/100\n",
      "1105/1105 [==============================] - 19s 18ms/step - loss: 0.0018 - mape: 1886.0193 - mae: 0.0316 - val_loss: 0.0114 - val_mape: 51.9186 - val_mae: 0.0795\n",
      "Epoch 76/100\n",
      "1105/1105 [==============================] - 20s 18ms/step - loss: 0.0016 - mape: 1870.0935 - mae: 0.0300 - val_loss: 0.0101 - val_mape: 49.6220 - val_mae: 0.0749\n",
      "Epoch 77/100\n",
      "1105/1105 [==============================] - 20s 18ms/step - loss: 0.0016 - mape: 1637.3842 - mae: 0.0300 - val_loss: 0.0108 - val_mape: 57.8234 - val_mae: 0.0779\n",
      "Epoch 78/100\n",
      "1105/1105 [==============================] - 20s 18ms/step - loss: 0.0017 - mape: 1373.3258 - mae: 0.0306 - val_loss: 0.0101 - val_mape: 40.2689 - val_mae: 0.0773\n",
      "Epoch 79/100\n",
      "1105/1105 [==============================] - 20s 18ms/step - loss: 0.0016 - mape: 1871.3506 - mae: 0.0301 - val_loss: 0.0101 - val_mape: 41.8061 - val_mae: 0.0759\n",
      "Epoch 80/100\n",
      "1105/1105 [==============================] - 21s 19ms/step - loss: 0.0016 - mape: 1661.3600 - mae: 0.0301 - val_loss: 0.0108 - val_mape: 51.1115 - val_mae: 0.0776\n",
      "Epoch 81/100\n",
      "1105/1105 [==============================] - 21s 19ms/step - loss: 0.0016 - mape: 1582.8036 - mae: 0.0298 - val_loss: 0.0098 - val_mape: 51.1143 - val_mae: 0.0743\n",
      "Epoch 82/100\n",
      "1105/1105 [==============================] - 21s 19ms/step - loss: 0.0015 - mape: 1491.7631 - mae: 0.0292 - val_loss: 0.0104 - val_mape: 51.4777 - val_mae: 0.0774\n",
      "Epoch 83/100\n",
      "1105/1105 [==============================] - 21s 19ms/step - loss: 0.0017 - mape: 1596.7043 - mae: 0.0306 - val_loss: 0.0101 - val_mape: 46.5324 - val_mae: 0.0761\n",
      "Epoch 84/100\n",
      "1105/1105 [==============================] - 18s 16ms/step - loss: 0.0015 - mape: 1708.5181 - mae: 0.0291 - val_loss: 0.0100 - val_mape: 43.8262 - val_mae: 0.0747\n",
      "Epoch 85/100\n",
      "1105/1105 [==============================] - 21s 19ms/step - loss: 0.0015 - mape: 1458.5149 - mae: 0.0289 - val_loss: 0.0113 - val_mape: 48.5732 - val_mae: 0.0777\n",
      "Epoch 86/100\n",
      "1105/1105 [==============================] - 21s 19ms/step - loss: 0.0016 - mape: 1674.1147 - mae: 0.0296 - val_loss: 0.0105 - val_mape: 47.6296 - val_mae: 0.0768\n",
      "Epoch 87/100\n",
      "1105/1105 [==============================] - 21s 19ms/step - loss: 0.0014 - mape: 1516.9133 - mae: 0.0285 - val_loss: 0.0100 - val_mape: 50.9998 - val_mae: 0.0751\n",
      "Epoch 88/100\n",
      "1105/1105 [==============================] - 20s 19ms/step - loss: 0.0014 - mape: 1370.3265 - mae: 0.0286 - val_loss: 0.0099 - val_mape: 43.6092 - val_mae: 0.0749\n",
      "Epoch 89/100\n",
      "1105/1105 [==============================] - 21s 19ms/step - loss: 0.0014 - mape: 1642.3081 - mae: 0.0283 - val_loss: 0.0109 - val_mape: 67.7037 - val_mae: 0.0775\n",
      "Epoch 90/100\n",
      "1105/1105 [==============================] - 21s 19ms/step - loss: 0.0015 - mape: 1662.7797 - mae: 0.0287 - val_loss: 0.0123 - val_mape: 33.4630 - val_mae: 0.0864\n",
      "Epoch 91/100\n",
      "1105/1105 [==============================] - 21s 19ms/step - loss: 0.0014 - mape: 1552.1506 - mae: 0.0284 - val_loss: 0.0104 - val_mape: 54.3510 - val_mae: 0.0767\n",
      "Epoch 92/100\n",
      "1105/1105 [==============================] - 21s 19ms/step - loss: 0.0015 - mape: 1246.4983 - mae: 0.0290 - val_loss: 0.0104 - val_mape: 40.5844 - val_mae: 0.0777\n",
      "Epoch 93/100\n"
     ]
    },
    {
     "name": "stdout",
     "output_type": "stream",
     "text": [
      "1105/1105 [==============================] - 19s 17ms/step - loss: 0.0017 - mape: 1709.2522 - mae: 0.0305 - val_loss: 0.0116 - val_mape: 36.3139 - val_mae: 0.0828\n",
      "Epoch 94/100\n",
      "1105/1105 [==============================] - 17s 16ms/step - loss: 0.0013 - mape: 1560.3008 - mae: 0.0277 - val_loss: 0.0112 - val_mape: 40.6822 - val_mae: 0.0793\n",
      "Epoch 95/100\n",
      "1105/1105 [==============================] - 18s 16ms/step - loss: 0.0013 - mape: 1318.5469 - mae: 0.0270 - val_loss: 0.0104 - val_mape: 43.6396 - val_mae: 0.0775\n",
      "Epoch 96/100\n",
      "1105/1105 [==============================] - 18s 16ms/step - loss: 0.0014 - mape: 1407.3132 - mae: 0.0279 - val_loss: 0.0107 - val_mape: 33.1689 - val_mae: 0.0794\n",
      "Epoch 97/100\n",
      "1105/1105 [==============================] - 18s 16ms/step - loss: 0.0013 - mape: 1206.4934 - mae: 0.0275 - val_loss: 0.0110 - val_mape: 56.8655 - val_mae: 0.0789\n",
      "Epoch 98/100\n",
      "1105/1105 [==============================] - 18s 16ms/step - loss: 0.0014 - mape: 1757.6151 - mae: 0.0280 - val_loss: 0.0118 - val_mape: 61.6430 - val_mae: 0.0816\n",
      "Epoch 99/100\n",
      "1105/1105 [==============================] - 18s 17ms/step - loss: 0.0012 - mape: 1565.4194 - mae: 0.0267 - val_loss: 0.0116 - val_mape: 49.9654 - val_mae: 0.0799\n",
      "Epoch 100/100\n",
      "1105/1105 [==============================] - 18s 16ms/step - loss: 0.0013 - mape: 1606.4633 - mae: 0.0272 - val_loss: 0.0108 - val_mape: 36.7898 - val_mae: 0.0793\n"
     ]
    },
    {
     "data": {
      "text/plain": [
       "<keras.callbacks.History at 0x1dc221367c0>"
      ]
     },
     "execution_count": 22,
     "metadata": {},
     "output_type": "execute_result"
    }
   ],
   "source": [
    "model.fit(X_train, Y_train, epochs= epochs, batch_size= batchSize, verbose= 1, shuffle= True, validation_data= (X_valid, Y_valid))"
   ]
  },
  {
   "cell_type": "code",
   "execution_count": 23,
   "id": "cd839153",
   "metadata": {},
   "outputs": [
    {
     "name": "stdout",
     "output_type": "stream",
     "text": [
      "Total execution time in seconds: 1916.5259385108948\n"
     ]
    }
   ],
   "source": [
    "calcExecTime = (time.time() - startTime)\n",
    "print('Total execution time in seconds: ' + str(calcExecTime))"
   ]
  },
  {
   "cell_type": "markdown",
   "id": "72aafa74",
   "metadata": {},
   "source": [
    "### MAKING PREDICTIONS AND GENERATING RESULTS"
   ]
  },
  {
   "cell_type": "code",
   "execution_count": 24,
   "id": "259bfb49",
   "metadata": {},
   "outputs": [
    {
     "name": "stdout",
     "output_type": "stream",
     "text": [
      "6/6 [==============================] - 1s 11ms/step\n"
     ]
    }
   ],
   "source": [
    "predictions = model.predict(X_test)"
   ]
  },
  {
   "cell_type": "code",
   "execution_count": 25,
   "id": "2912d431",
   "metadata": {},
   "outputs": [
    {
     "data": {
      "text/plain": [
       "array([0.21539026, 0.1963035 , 0.22169524, ..., 0.44300312, 0.38409305,\n",
       "       0.3189086 ], dtype=float32)"
      ]
     },
     "execution_count": 25,
     "metadata": {},
     "output_type": "execute_result"
    }
   ],
   "source": [
    "predArr = predictions.reshape(predictions.shape[0] * predictions.shape[1], predictions.shape[2]).ravel()\n",
    "predArr"
   ]
  },
  {
   "cell_type": "code",
   "execution_count": 26,
   "id": "b01889f2",
   "metadata": {},
   "outputs": [
    {
     "data": {
      "text/plain": [
       "array([0.29823529, 0.287744  , 0.28825577, ..., 0.44677655, 0.45266191,\n",
       "       0.41133647])"
      ]
     },
     "execution_count": 26,
     "metadata": {},
     "output_type": "execute_result"
    }
   ],
   "source": [
    "Y_testArr = Y_test.reshape(Y_test.shape[0] * Y_test.shape[1], Y_test.shape[2]).ravel()\n",
    "Y_testArr"
   ]
  },
  {
   "cell_type": "code",
   "execution_count": 27,
   "id": "799c97e8",
   "metadata": {},
   "outputs": [],
   "source": [
    "def inverse_transform(df):\n",
    "    column_names = df.columns\n",
    "    for col in column_names:\n",
    "        df[col] = ValScaler.inverse_transform(df[[col]]) \n",
    "    return df"
   ]
  },
  {
   "cell_type": "code",
   "execution_count": 28,
   "id": "afa81e30",
   "metadata": {},
   "outputs": [
    {
     "data": {
      "text/html": [
       "<div>\n",
       "<style scoped>\n",
       "    .dataframe tbody tr th:only-of-type {\n",
       "        vertical-align: middle;\n",
       "    }\n",
       "\n",
       "    .dataframe tbody tr th {\n",
       "        vertical-align: top;\n",
       "    }\n",
       "\n",
       "    .dataframe thead th {\n",
       "        text-align: right;\n",
       "    }\n",
       "</style>\n",
       "<table border=\"1\" class=\"dataframe\">\n",
       "  <thead>\n",
       "    <tr style=\"text-align: right;\">\n",
       "      <th></th>\n",
       "      <th>Values</th>\n",
       "      <th>Predictions</th>\n",
       "    </tr>\n",
       "  </thead>\n",
       "  <tbody>\n",
       "    <tr>\n",
       "      <th>0</th>\n",
       "      <td>8185.00</td>\n",
       "      <td>7537.482422</td>\n",
       "    </tr>\n",
       "    <tr>\n",
       "      <th>1</th>\n",
       "      <td>8103.00</td>\n",
       "      <td>7388.300293</td>\n",
       "    </tr>\n",
       "    <tr>\n",
       "      <th>2</th>\n",
       "      <td>8107.00</td>\n",
       "      <td>7586.762207</td>\n",
       "    </tr>\n",
       "    <tr>\n",
       "      <th>3</th>\n",
       "      <td>8244.26</td>\n",
       "      <td>8030.872070</td>\n",
       "    </tr>\n",
       "    <tr>\n",
       "      <th>4</th>\n",
       "      <td>8819.67</td>\n",
       "      <td>8846.067383</td>\n",
       "    </tr>\n",
       "    <tr>\n",
       "      <th>...</th>\n",
       "      <td>...</td>\n",
       "      <td>...</td>\n",
       "    </tr>\n",
       "    <tr>\n",
       "      <th>4363</th>\n",
       "      <td>9369.00</td>\n",
       "      <td>9371.152344</td>\n",
       "    </tr>\n",
       "    <tr>\n",
       "      <th>4364</th>\n",
       "      <td>9105.00</td>\n",
       "      <td>9372.593750</td>\n",
       "    </tr>\n",
       "    <tr>\n",
       "      <th>4365</th>\n",
       "      <td>9346.00</td>\n",
       "      <td>9316.506836</td>\n",
       "    </tr>\n",
       "    <tr>\n",
       "      <th>4366</th>\n",
       "      <td>9392.00</td>\n",
       "      <td>8856.065430</td>\n",
       "    </tr>\n",
       "    <tr>\n",
       "      <th>4367</th>\n",
       "      <td>9069.00</td>\n",
       "      <td>8346.582031</td>\n",
       "    </tr>\n",
       "  </tbody>\n",
       "</table>\n",
       "<p>4368 rows × 2 columns</p>\n",
       "</div>"
      ],
      "text/plain": [
       "       Values  Predictions\n",
       "0     8185.00  7537.482422\n",
       "1     8103.00  7388.300293\n",
       "2     8107.00  7586.762207\n",
       "3     8244.26  8030.872070\n",
       "4     8819.67  8846.067383\n",
       "...       ...          ...\n",
       "4363  9369.00  9371.152344\n",
       "4364  9105.00  9372.593750\n",
       "4365  9346.00  9316.506836\n",
       "4366  9392.00  8856.065430\n",
       "4367  9069.00  8346.582031\n",
       "\n",
       "[4368 rows x 2 columns]"
      ]
     },
     "execution_count": 28,
     "metadata": {},
     "output_type": "execute_result"
    }
   ],
   "source": [
    "comparisionDf = pd.DataFrame(data= {\"Values\": Y_testArr, \"Predictions\": predArr})\n",
    "comparisionDf = inverse_transform(comparisionDf)\n",
    "comparisionDf"
   ]
  },
  {
   "cell_type": "code",
   "execution_count": 29,
   "id": "88222bae",
   "metadata": {},
   "outputs": [
    {
     "data": {
      "text/plain": [
       "4.950886941507138"
      ]
     },
     "execution_count": 29,
     "metadata": {},
     "output_type": "execute_result"
    }
   ],
   "source": [
    "mape(comparisionDf[\"Values\"], comparisionDf[\"Predictions\"])"
   ]
  }
 ],
 "metadata": {
  "kernelspec": {
   "display_name": "Python 3 (ipykernel)",
   "language": "python",
   "name": "python3"
  },
  "language_info": {
   "codemirror_mode": {
    "name": "ipython",
    "version": 3
   },
   "file_extension": ".py",
   "mimetype": "text/x-python",
   "name": "python",
   "nbconvert_exporter": "python",
   "pygments_lexer": "ipython3",
   "version": "3.9.12"
  }
 },
 "nbformat": 4,
 "nbformat_minor": 5
}
