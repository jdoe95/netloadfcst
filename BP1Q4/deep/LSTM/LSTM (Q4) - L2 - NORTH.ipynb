{
 "cells": [
  {
   "cell_type": "code",
   "execution_count": 1,
   "id": "5f61b29f",
   "metadata": {},
   "outputs": [
    {
     "name": "stdout",
     "output_type": "stream",
     "text": [
      "Num GPUs Available:  1\n"
     ]
    }
   ],
   "source": [
    "import pandas as pd\n",
    "import numpy as np\n",
    "import os\n",
    "import matplotlib.pyplot as plt\n",
    "from datetime import datetime\n",
    "from sklearn.preprocessing import MinMaxScaler, RobustScaler, StandardScaler\n",
    "import time\n",
    "\n",
    "import tensorflow as tf\n",
    "tf.random.set_seed(42)\n",
    "\n",
    "def mape(y_true, y_pred):\n",
    "    y_true, y_pred = np.array(y_true), np.array(y_pred)\n",
    "    return np.mean(np.abs((y_true - y_pred) / max(y_true))) * 100\n",
    "\n",
    "def RMSELoss(yhat,y):\n",
    "    return torch.sqrt(torch.mean((yhat-y)**2))\n",
    "\n",
    "print(\"Num GPUs Available: \", len(tf.config.list_physical_devices('GPU')))"
   ]
  },
  {
   "cell_type": "code",
   "execution_count": 2,
   "id": "cea0abe2",
   "metadata": {},
   "outputs": [
    {
     "name": "stdout",
     "output_type": "stream",
     "text": [
      "['COAST.csv', 'EAST.csv', 'FWEST.csv', 'NCENT.csv', 'NORTH.csv', 'SCENT.csv', 'SOUTH.csv', 'WEST.csv']\n"
     ]
    }
   ],
   "source": [
    "# Specifying the path of file\n",
    "path= r\"C:\\Users\\sashah8\\OneDrive - North Carolina State University\\Desktop\\Q4\\Data\\L2\\data_cleaned\"\n",
    "\n",
    "# Listing just the required files\n",
    "fileList = os.listdir(path)\n",
    "fileList.remove(\"Date.csv\")\n",
    "\n",
    "# Previewing the required file names\n",
    "print(fileList)"
   ]
  },
  {
   "cell_type": "code",
   "execution_count": 3,
   "id": "a6fe9396",
   "metadata": {},
   "outputs": [
    {
     "data": {
      "text/html": [
       "<div>\n",
       "<style scoped>\n",
       "    .dataframe tbody tr th:only-of-type {\n",
       "        vertical-align: middle;\n",
       "    }\n",
       "\n",
       "    .dataframe tbody tr th {\n",
       "        vertical-align: top;\n",
       "    }\n",
       "\n",
       "    .dataframe thead th {\n",
       "        text-align: right;\n",
       "    }\n",
       "</style>\n",
       "<table border=\"1\" class=\"dataframe\">\n",
       "  <thead>\n",
       "    <tr style=\"text-align: right;\">\n",
       "      <th></th>\n",
       "      <th>Net</th>\n",
       "      <th>Temprature</th>\n",
       "    </tr>\n",
       "  </thead>\n",
       "  <tbody>\n",
       "    <tr>\n",
       "      <th>0</th>\n",
       "      <td>901.770195</td>\n",
       "      <td>-8.8</td>\n",
       "    </tr>\n",
       "    <tr>\n",
       "      <th>1</th>\n",
       "      <td>890.150373</td>\n",
       "      <td>-8.8</td>\n",
       "    </tr>\n",
       "    <tr>\n",
       "      <th>2</th>\n",
       "      <td>880.926639</td>\n",
       "      <td>-8.8</td>\n",
       "    </tr>\n",
       "    <tr>\n",
       "      <th>3</th>\n",
       "      <td>883.990576</td>\n",
       "      <td>-8.7</td>\n",
       "    </tr>\n",
       "    <tr>\n",
       "      <th>4</th>\n",
       "      <td>894.320303</td>\n",
       "      <td>-8.6</td>\n",
       "    </tr>\n",
       "    <tr>\n",
       "      <th>...</th>\n",
       "      <td>...</td>\n",
       "      <td>...</td>\n",
       "    </tr>\n",
       "    <tr>\n",
       "      <th>43818</th>\n",
       "      <td>825.761799</td>\n",
       "      <td>9.2</td>\n",
       "    </tr>\n",
       "    <tr>\n",
       "      <th>43819</th>\n",
       "      <td>822.190573</td>\n",
       "      <td>9.9</td>\n",
       "    </tr>\n",
       "    <tr>\n",
       "      <th>43820</th>\n",
       "      <td>819.394012</td>\n",
       "      <td>10.0</td>\n",
       "    </tr>\n",
       "    <tr>\n",
       "      <th>43821</th>\n",
       "      <td>804.714775</td>\n",
       "      <td>9.2</td>\n",
       "    </tr>\n",
       "    <tr>\n",
       "      <th>43822</th>\n",
       "      <td>790.865357</td>\n",
       "      <td>7.0</td>\n",
       "    </tr>\n",
       "  </tbody>\n",
       "</table>\n",
       "<p>43823 rows × 2 columns</p>\n",
       "</div>"
      ],
      "text/plain": [
       "              Net  Temprature\n",
       "0      901.770195        -8.8\n",
       "1      890.150373        -8.8\n",
       "2      880.926639        -8.8\n",
       "3      883.990576        -8.7\n",
       "4      894.320303        -8.6\n",
       "...           ...         ...\n",
       "43818  825.761799         9.2\n",
       "43819  822.190573         9.9\n",
       "43820  819.394012        10.0\n",
       "43821  804.714775         9.2\n",
       "43822  790.865357         7.0\n",
       "\n",
       "[43823 rows x 2 columns]"
      ]
     },
     "execution_count": 3,
     "metadata": {},
     "output_type": "execute_result"
    }
   ],
   "source": [
    "# Just for previewing the columns\n",
    "pd.read_csv(os.path.join(path, fileList[4]))"
   ]
  },
  {
   "cell_type": "markdown",
   "id": "9ad4906c",
   "metadata": {
    "pycharm": {
     "name": "#%% md\n"
    }
   },
   "source": [
    "### PROCESSING THE DATA"
   ]
  },
  {
   "cell_type": "code",
   "execution_count": 4,
   "id": "f29f6db2",
   "metadata": {},
   "outputs": [
    {
     "data": {
      "text/html": [
       "<div>\n",
       "<style scoped>\n",
       "    .dataframe tbody tr th:only-of-type {\n",
       "        vertical-align: middle;\n",
       "    }\n",
       "\n",
       "    .dataframe tbody tr th {\n",
       "        vertical-align: top;\n",
       "    }\n",
       "\n",
       "    .dataframe thead th {\n",
       "        text-align: right;\n",
       "    }\n",
       "</style>\n",
       "<table border=\"1\" class=\"dataframe\">\n",
       "  <thead>\n",
       "    <tr style=\"text-align: right;\">\n",
       "      <th></th>\n",
       "      <th>Load_NORTH</th>\n",
       "      <th>Temp_NORTH</th>\n",
       "    </tr>\n",
       "  </thead>\n",
       "  <tbody>\n",
       "    <tr>\n",
       "      <th>0</th>\n",
       "      <td>901.770195</td>\n",
       "      <td>-8.8</td>\n",
       "    </tr>\n",
       "    <tr>\n",
       "      <th>1</th>\n",
       "      <td>901.770195</td>\n",
       "      <td>-8.8</td>\n",
       "    </tr>\n",
       "    <tr>\n",
       "      <th>2</th>\n",
       "      <td>890.150373</td>\n",
       "      <td>-8.8</td>\n",
       "    </tr>\n",
       "    <tr>\n",
       "      <th>3</th>\n",
       "      <td>880.926639</td>\n",
       "      <td>-8.8</td>\n",
       "    </tr>\n",
       "    <tr>\n",
       "      <th>4</th>\n",
       "      <td>883.990576</td>\n",
       "      <td>-8.7</td>\n",
       "    </tr>\n",
       "    <tr>\n",
       "      <th>...</th>\n",
       "      <td>...</td>\n",
       "      <td>...</td>\n",
       "    </tr>\n",
       "    <tr>\n",
       "      <th>43819</th>\n",
       "      <td>825.761799</td>\n",
       "      <td>9.2</td>\n",
       "    </tr>\n",
       "    <tr>\n",
       "      <th>43820</th>\n",
       "      <td>822.190573</td>\n",
       "      <td>9.9</td>\n",
       "    </tr>\n",
       "    <tr>\n",
       "      <th>43821</th>\n",
       "      <td>819.394012</td>\n",
       "      <td>10.0</td>\n",
       "    </tr>\n",
       "    <tr>\n",
       "      <th>43822</th>\n",
       "      <td>804.714775</td>\n",
       "      <td>9.2</td>\n",
       "    </tr>\n",
       "    <tr>\n",
       "      <th>43823</th>\n",
       "      <td>790.865357</td>\n",
       "      <td>7.0</td>\n",
       "    </tr>\n",
       "  </tbody>\n",
       "</table>\n",
       "<p>43824 rows × 2 columns</p>\n",
       "</div>"
      ],
      "text/plain": [
       "       Load_NORTH  Temp_NORTH\n",
       "0      901.770195        -8.8\n",
       "1      901.770195        -8.8\n",
       "2      890.150373        -8.8\n",
       "3      880.926639        -8.8\n",
       "4      883.990576        -8.7\n",
       "...           ...         ...\n",
       "43819  825.761799         9.2\n",
       "43820  822.190573         9.9\n",
       "43821  819.394012        10.0\n",
       "43822  804.714775         9.2\n",
       "43823  790.865357         7.0\n",
       "\n",
       "[43824 rows x 2 columns]"
      ]
     },
     "execution_count": 4,
     "metadata": {},
     "output_type": "execute_result"
    }
   ],
   "source": [
    "# Restricting the load data to a single zone\n",
    "fileName  = fileList[4]\n",
    "\n",
    "zoneData = pd.read_csv(os.path.join(path, fileName))\n",
    "zoneData.columns = [\"Load_\"+str(fileName[:-4]), \"Temp_\"+str(fileName[:-4])]\n",
    "\n",
    "# For fixing one missing row\n",
    "zoneData = pd.concat([zoneData.loc[[0]], zoneData], axis= 0).reset_index(drop= True)\n",
    "\n",
    "zoneData"
   ]
  },
  {
   "cell_type": "markdown",
   "id": "01cec4bd",
   "metadata": {},
   "source": [
    "### FEATURE ENGINEERING AND SPLITTING INTO TRAIN-TEST SPLIT"
   ]
  },
  {
   "cell_type": "code",
   "execution_count": 5,
   "id": "a1e1e8a3",
   "metadata": {},
   "outputs": [],
   "source": [
    "def lagGenerator(dF, lagList):\n",
    "    dF_temp = dF.filter(regex= \"Load\").copy()\n",
    "    \n",
    "    for i in lagList:\n",
    "        dF_temp.loc[:, \"Lag-\" + str(i)] = dF_temp.iloc[:,[0]].shift(i*24)\n",
    "    \n",
    "    return(dF_temp.filter(regex= \"Lag\"))"
   ]
  },
  {
   "cell_type": "code",
   "execution_count": 6,
   "id": "159a2a82",
   "metadata": {},
   "outputs": [
    {
     "data": {
      "text/html": [
       "<div>\n",
       "<style scoped>\n",
       "    .dataframe tbody tr th:only-of-type {\n",
       "        vertical-align: middle;\n",
       "    }\n",
       "\n",
       "    .dataframe tbody tr th {\n",
       "        vertical-align: top;\n",
       "    }\n",
       "\n",
       "    .dataframe thead th {\n",
       "        text-align: right;\n",
       "    }\n",
       "</style>\n",
       "<table border=\"1\" class=\"dataframe\">\n",
       "  <thead>\n",
       "    <tr style=\"text-align: right;\">\n",
       "      <th></th>\n",
       "      <th>Lag-2</th>\n",
       "      <th>Lag-7</th>\n",
       "    </tr>\n",
       "  </thead>\n",
       "  <tbody>\n",
       "    <tr>\n",
       "      <th>0</th>\n",
       "      <td>NaN</td>\n",
       "      <td>NaN</td>\n",
       "    </tr>\n",
       "    <tr>\n",
       "      <th>1</th>\n",
       "      <td>NaN</td>\n",
       "      <td>NaN</td>\n",
       "    </tr>\n",
       "  </tbody>\n",
       "</table>\n",
       "</div>"
      ],
      "text/plain": [
       "   Lag-2  Lag-7\n",
       "0    NaN    NaN\n",
       "1    NaN    NaN"
      ]
     },
     "execution_count": 6,
     "metadata": {},
     "output_type": "execute_result"
    }
   ],
   "source": [
    "Load_lags = lagGenerator(dF=zoneData, lagList=[2,7])\n",
    "Load_lags.head(2)"
   ]
  },
  {
   "cell_type": "code",
   "execution_count": 7,
   "id": "05896954",
   "metadata": {},
   "outputs": [
    {
     "data": {
      "text/html": [
       "<div>\n",
       "<style scoped>\n",
       "    .dataframe tbody tr th:only-of-type {\n",
       "        vertical-align: middle;\n",
       "    }\n",
       "\n",
       "    .dataframe tbody tr th {\n",
       "        vertical-align: top;\n",
       "    }\n",
       "\n",
       "    .dataframe thead th {\n",
       "        text-align: right;\n",
       "    }\n",
       "</style>\n",
       "<table border=\"1\" class=\"dataframe\">\n",
       "  <thead>\n",
       "    <tr style=\"text-align: right;\">\n",
       "      <th></th>\n",
       "      <th>Load_NORTH</th>\n",
       "      <th>Temp_NORTH</th>\n",
       "      <th>Lag-2</th>\n",
       "      <th>Lag-7</th>\n",
       "    </tr>\n",
       "  </thead>\n",
       "  <tbody>\n",
       "    <tr>\n",
       "      <th>0</th>\n",
       "      <td>1085.239500</td>\n",
       "      <td>-5.5</td>\n",
       "      <td>888.111250</td>\n",
       "      <td>901.770195</td>\n",
       "    </tr>\n",
       "    <tr>\n",
       "      <th>1</th>\n",
       "      <td>1069.995045</td>\n",
       "      <td>-5.6</td>\n",
       "      <td>863.256668</td>\n",
       "      <td>901.770195</td>\n",
       "    </tr>\n",
       "    <tr>\n",
       "      <th>2</th>\n",
       "      <td>1074.042161</td>\n",
       "      <td>-5.9</td>\n",
       "      <td>861.841143</td>\n",
       "      <td>890.150373</td>\n",
       "    </tr>\n",
       "    <tr>\n",
       "      <th>3</th>\n",
       "      <td>1076.248185</td>\n",
       "      <td>-6.1</td>\n",
       "      <td>866.678923</td>\n",
       "      <td>880.926639</td>\n",
       "    </tr>\n",
       "    <tr>\n",
       "      <th>4</th>\n",
       "      <td>1089.438363</td>\n",
       "      <td>-6.2</td>\n",
       "      <td>879.735020</td>\n",
       "      <td>883.990576</td>\n",
       "    </tr>\n",
       "    <tr>\n",
       "      <th>...</th>\n",
       "      <td>...</td>\n",
       "      <td>...</td>\n",
       "      <td>...</td>\n",
       "      <td>...</td>\n",
       "    </tr>\n",
       "    <tr>\n",
       "      <th>43651</th>\n",
       "      <td>825.761799</td>\n",
       "      <td>9.2</td>\n",
       "      <td>865.670716</td>\n",
       "      <td>720.820842</td>\n",
       "    </tr>\n",
       "    <tr>\n",
       "      <th>43652</th>\n",
       "      <td>822.190573</td>\n",
       "      <td>9.9</td>\n",
       "      <td>864.507781</td>\n",
       "      <td>719.864419</td>\n",
       "    </tr>\n",
       "    <tr>\n",
       "      <th>43653</th>\n",
       "      <td>819.394012</td>\n",
       "      <td>10.0</td>\n",
       "      <td>850.149917</td>\n",
       "      <td>714.949676</td>\n",
       "    </tr>\n",
       "    <tr>\n",
       "      <th>43654</th>\n",
       "      <td>804.714775</td>\n",
       "      <td>9.2</td>\n",
       "      <td>821.959349</td>\n",
       "      <td>698.896222</td>\n",
       "    </tr>\n",
       "    <tr>\n",
       "      <th>43655</th>\n",
       "      <td>790.865357</td>\n",
       "      <td>7.0</td>\n",
       "      <td>801.513104</td>\n",
       "      <td>683.081316</td>\n",
       "    </tr>\n",
       "  </tbody>\n",
       "</table>\n",
       "<p>43656 rows × 4 columns</p>\n",
       "</div>"
      ],
      "text/plain": [
       "        Load_NORTH  Temp_NORTH       Lag-2       Lag-7\n",
       "0      1085.239500        -5.5  888.111250  901.770195\n",
       "1      1069.995045        -5.6  863.256668  901.770195\n",
       "2      1074.042161        -5.9  861.841143  890.150373\n",
       "3      1076.248185        -6.1  866.678923  880.926639\n",
       "4      1089.438363        -6.2  879.735020  883.990576\n",
       "...            ...         ...         ...         ...\n",
       "43651   825.761799         9.2  865.670716  720.820842\n",
       "43652   822.190573         9.9  864.507781  719.864419\n",
       "43653   819.394012        10.0  850.149917  714.949676\n",
       "43654   804.714775         9.2  821.959349  698.896222\n",
       "43655   790.865357         7.0  801.513104  683.081316\n",
       "\n",
       "[43656 rows x 4 columns]"
      ]
     },
     "execution_count": 7,
     "metadata": {},
     "output_type": "execute_result"
    }
   ],
   "source": [
    "dataDf = pd.concat([zoneData, Load_lags], axis= 1).dropna(axis= 0).reset_index(drop= True)\n",
    "dataDf"
   ]
  },
  {
   "cell_type": "code",
   "execution_count": 8,
   "id": "6ad25321",
   "metadata": {},
   "outputs": [],
   "source": [
    "# Setting the train-test split ratio\n",
    "ratio = 0.1"
   ]
  },
  {
   "cell_type": "code",
   "execution_count": 9,
   "id": "3c08d963",
   "metadata": {},
   "outputs": [],
   "source": [
    "Num_train, Num_test = int(len(dataDf)/24 * (1 - ratio)) * 24, int(len(dataDf)/24 * ratio) * 24"
   ]
  },
  {
   "cell_type": "code",
   "execution_count": 10,
   "id": "cbe069ff",
   "metadata": {},
   "outputs": [],
   "source": [
    "# Splitting the data into train and test\n",
    "data_train, data_test = dataDf[:Num_train], dataDf[Num_train:]"
   ]
  },
  {
   "cell_type": "code",
   "execution_count": 11,
   "id": "d84e15c4",
   "metadata": {},
   "outputs": [],
   "source": [
    "Num_train, Num_valid = int(len(data_train)/24 * (1 - ratio)) * 24, int(len(data_train)/24 * ratio) * 24"
   ]
  },
  {
   "cell_type": "code",
   "execution_count": 12,
   "id": "c17d1723",
   "metadata": {},
   "outputs": [],
   "source": [
    "# Splitting the data into train and test\n",
    "data_train, data_valid = data_train[:Num_train], data_train[Num_train:]"
   ]
  },
  {
   "cell_type": "markdown",
   "id": "88d32011",
   "metadata": {},
   "source": [
    "### SPLITTING INTO X AND Y PART WITH SEQUENCE BATCHING"
   ]
  },
  {
   "cell_type": "code",
   "execution_count": 13,
   "id": "4ba286ca",
   "metadata": {},
   "outputs": [],
   "source": [
    "X_train_df, Y_train_df = data_train.iloc[:, 1:], data_train.iloc[:, :1]\n",
    "\n",
    "X_valid_df, Y_valid_df = data_valid.iloc[:, 1:], data_valid.iloc[:, :1]\n",
    "\n",
    "X_test_df, Y_test_df = data_test.iloc[:, 1:], data_test.iloc[:, :1]"
   ]
  },
  {
   "cell_type": "code",
   "execution_count": 14,
   "id": "ef1d9079",
   "metadata": {},
   "outputs": [],
   "source": [
    "# Preparing the scaler\n",
    "ValScaler = MinMaxScaler()\n",
    "\n",
    "X_train = ValScaler.fit_transform(X_train_df)\n",
    "X_valid = ValScaler.transform(X_valid_df)\n",
    "X_test = ValScaler.transform(X_test_df)\n",
    "\n",
    "Y_train = ValScaler.fit_transform(Y_train_df)\n",
    "Y_valid = ValScaler.transform(Y_valid_df)\n",
    "Y_test = ValScaler.transform(Y_test_df)"
   ]
  },
  {
   "cell_type": "code",
   "execution_count": 15,
   "id": "43594401",
   "metadata": {},
   "outputs": [],
   "source": [
    "def splitData(dataset):\n",
    "    data = np.array(np.split(dataset, len(dataset)/24))\n",
    "    return data"
   ]
  },
  {
   "cell_type": "code",
   "execution_count": 16,
   "id": "300696b2",
   "metadata": {},
   "outputs": [],
   "source": [
    "def supervisedSet(X_part, Y_part, steps= 24):\n",
    "    X_array, Y_array = np.array(X_part), np.array(Y_part)\n",
    "    X, Y = [], []\n",
    "    \n",
    "    for i in range(len(X_array)):\n",
    "        endIdx = i + steps\n",
    "        \n",
    "        if endIdx > len(X_array):\n",
    "            break\n",
    "        \n",
    "        batch_X, batch_Y = X_array[i:endIdx], Y_array[i:endIdx]\n",
    "        \n",
    "        X.append(batch_X)\n",
    "        Y.append(batch_Y)\n",
    "        \n",
    "    return np.array(X), np.array(Y)"
   ]
  },
  {
   "cell_type": "code",
   "execution_count": 17,
   "id": "fc9cd97d",
   "metadata": {},
   "outputs": [],
   "source": [
    "X_train, Y_train = supervisedSet(X_train, Y_train)\n",
    "\n",
    "X_valid, Y_valid = splitData(X_valid), splitData(Y_valid)\n",
    "\n",
    "X_test, Y_test = splitData(X_test), splitData(Y_test)"
   ]
  },
  {
   "cell_type": "markdown",
   "id": "a2a6bf32",
   "metadata": {},
   "source": [
    "### WORKING ON THE MODEL"
   ]
  },
  {
   "cell_type": "code",
   "execution_count": 18,
   "id": "ff71a98c",
   "metadata": {},
   "outputs": [],
   "source": [
    "epochs = 100\n",
    "batchSize = 32"
   ]
  },
  {
   "cell_type": "code",
   "execution_count": 19,
   "id": "8d600c17",
   "metadata": {},
   "outputs": [],
   "source": [
    "# Encoder-decoder architecture [tanh required to use tensorflow on gpu]\n",
    "model = tf.keras.Sequential([\n",
    "    tf.keras.layers.LSTM(units= 128, activation= \"tanh\", input_shape= (X_train.shape[1], X_train.shape[2]), dropout= 0.2),\n",
    "    tf.keras.layers.RepeatVector(Y_train.shape[1]),\n",
    "    tf.keras.layers.LSTM(units= 128, activation= \"tanh\", return_sequences= True, dropout= 0.2),\n",
    "    tf.keras.layers.TimeDistributed(tf.keras.layers.Dense(units= 128, activation= \"relu\")),\n",
    "    tf.keras.layers.Dropout(0.2),\n",
    "    tf.keras.layers.TimeDistributed(tf.keras.layers.Dense(units= 1))\n",
    "])\n",
    "\n",
    "model.compile(loss= \"mse\", optimizer= \"adam\",  metrics= ['mape', 'mae'])"
   ]
  },
  {
   "cell_type": "code",
   "execution_count": 20,
   "id": "a05c033a",
   "metadata": {},
   "outputs": [],
   "source": [
    "# model = tf.keras.Sequential([\n",
    "#     tf.keras.layers.LSTM(units= 256, activation= \"tanh\", input_shape= (X_train.shape[1], X_train.shape[2])),\n",
    "#     tf.keras.layers.Dense(units= 128, activation= \"tanh\"),\n",
    "#     tf.keras.layers.Dense(units= 1)\n",
    "# ])\n",
    "\n",
    "# model.compile(loss= \"mse\", optimizer= \"adam\",  metrics= ['mape', 'mae'])"
   ]
  },
  {
   "cell_type": "code",
   "execution_count": 21,
   "id": "c9390383",
   "metadata": {},
   "outputs": [],
   "source": [
    "# Storing the start time of model fitting process\n",
    "startTime = time.time()"
   ]
  },
  {
   "cell_type": "code",
   "execution_count": 22,
   "id": "e526e3ed",
   "metadata": {},
   "outputs": [
    {
     "name": "stdout",
     "output_type": "stream",
     "text": [
      "Epoch 1/100\n",
      "1105/1105 [==============================] - 27s 17ms/step - loss: 0.0121 - mape: 3710.9709 - mae: 0.0823 - val_loss: 0.0093 - val_mape: 36.6731 - val_mae: 0.0717\n",
      "Epoch 2/100\n",
      "1105/1105 [==============================] - 18s 16ms/step - loss: 0.0076 - mape: 3050.6287 - mae: 0.0662 - val_loss: 0.0102 - val_mape: 34.6289 - val_mae: 0.0759\n",
      "Epoch 3/100\n",
      "1105/1105 [==============================] - 18s 16ms/step - loss: 0.0059 - mape: 2496.2881 - mae: 0.0580 - val_loss: 0.0109 - val_mape: 38.4694 - val_mae: 0.0799\n",
      "Epoch 4/100\n",
      "1105/1105 [==============================] - 18s 16ms/step - loss: 0.0054 - mape: 2430.1772 - mae: 0.0552 - val_loss: 0.0093 - val_mape: 38.0810 - val_mae: 0.0762\n",
      "Epoch 5/100\n",
      "1105/1105 [==============================] - 18s 16ms/step - loss: 0.0051 - mape: 2143.1794 - mae: 0.0539 - val_loss: 0.0127 - val_mape: 33.8720 - val_mae: 0.0828\n",
      "Epoch 6/100\n",
      "1105/1105 [==============================] - 18s 16ms/step - loss: 0.0049 - mape: 2383.1802 - mae: 0.0530 - val_loss: 0.0146 - val_mape: 38.1591 - val_mae: 0.0884\n",
      "Epoch 7/100\n",
      "1105/1105 [==============================] - 18s 16ms/step - loss: 0.0048 - mape: 2221.8726 - mae: 0.0522 - val_loss: 0.0094 - val_mape: 34.9671 - val_mae: 0.0746\n",
      "Epoch 8/100\n",
      "1105/1105 [==============================] - 18s 16ms/step - loss: 0.0046 - mape: 2120.0579 - mae: 0.0511 - val_loss: 0.0143 - val_mape: 34.2002 - val_mae: 0.0855\n",
      "Epoch 9/100\n",
      "1105/1105 [==============================] - 18s 16ms/step - loss: 0.0045 - mape: 2112.3354 - mae: 0.0505 - val_loss: 0.0129 - val_mape: 33.9850 - val_mae: 0.0837\n",
      "Epoch 10/100\n",
      "1105/1105 [==============================] - 18s 16ms/step - loss: 0.0044 - mape: 2060.5044 - mae: 0.0496 - val_loss: 0.0113 - val_mape: 32.7891 - val_mae: 0.0799\n",
      "Epoch 11/100\n",
      "1105/1105 [==============================] - 18s 16ms/step - loss: 0.0043 - mape: 2143.0056 - mae: 0.0489 - val_loss: 0.0138 - val_mape: 38.6457 - val_mae: 0.0899\n",
      "Epoch 12/100\n",
      "1105/1105 [==============================] - 18s 17ms/step - loss: 0.0042 - mape: 1682.8280 - mae: 0.0486 - val_loss: 0.0130 - val_mape: 35.8135 - val_mae: 0.0854\n",
      "Epoch 13/100\n",
      "1105/1105 [==============================] - 18s 16ms/step - loss: 0.0041 - mape: 2090.0266 - mae: 0.0481 - val_loss: 0.0105 - val_mape: 32.1065 - val_mae: 0.0753\n",
      "Epoch 14/100\n",
      "1105/1105 [==============================] - 18s 16ms/step - loss: 0.0040 - mape: 1896.3070 - mae: 0.0473 - val_loss: 0.0140 - val_mape: 38.7631 - val_mae: 0.0890\n",
      "Epoch 15/100\n",
      "1105/1105 [==============================] - 18s 16ms/step - loss: 0.0040 - mape: 2022.0509 - mae: 0.0471 - val_loss: 0.0152 - val_mape: 42.8104 - val_mae: 0.0917\n",
      "Epoch 16/100\n",
      "1105/1105 [==============================] - 18s 16ms/step - loss: 0.0039 - mape: 2183.0815 - mae: 0.0466 - val_loss: 0.0105 - val_mape: 31.1654 - val_mae: 0.0754\n",
      "Epoch 17/100\n",
      "1105/1105 [==============================] - 18s 17ms/step - loss: 0.0038 - mape: 1709.6464 - mae: 0.0460 - val_loss: 0.0154 - val_mape: 39.0336 - val_mae: 0.0939\n",
      "Epoch 18/100\n",
      "1105/1105 [==============================] - 18s 16ms/step - loss: 0.0038 - mape: 2088.7917 - mae: 0.0460 - val_loss: 0.0155 - val_mape: 39.3784 - val_mae: 0.0933\n",
      "Epoch 19/100\n",
      "1105/1105 [==============================] - 18s 16ms/step - loss: 0.0038 - mape: 1853.4176 - mae: 0.0458 - val_loss: 0.0149 - val_mape: 44.1556 - val_mae: 0.0944\n",
      "Epoch 20/100\n",
      "1105/1105 [==============================] - 18s 16ms/step - loss: 0.0037 - mape: 1727.7927 - mae: 0.0451 - val_loss: 0.0119 - val_mape: 37.9481 - val_mae: 0.0838\n",
      "Epoch 21/100\n",
      "1105/1105 [==============================] - 18s 17ms/step - loss: 0.0036 - mape: 1792.6179 - mae: 0.0450 - val_loss: 0.0111 - val_mape: 36.5787 - val_mae: 0.0802\n",
      "Epoch 22/100\n",
      "1105/1105 [==============================] - 18s 16ms/step - loss: 0.0036 - mape: 1805.9597 - mae: 0.0449 - val_loss: 0.0122 - val_mape: 33.5189 - val_mae: 0.0828\n",
      "Epoch 23/100\n",
      "1105/1105 [==============================] - 18s 17ms/step - loss: 0.0035 - mape: 2262.8572 - mae: 0.0442 - val_loss: 0.0138 - val_mape: 35.6624 - val_mae: 0.0879\n",
      "Epoch 24/100\n",
      "1105/1105 [==============================] - 18s 17ms/step - loss: 0.0035 - mape: 1805.0278 - mae: 0.0439 - val_loss: 0.0126 - val_mape: 32.0649 - val_mae: 0.0817\n",
      "Epoch 25/100\n",
      "1105/1105 [==============================] - 18s 17ms/step - loss: 0.0034 - mape: 2368.3711 - mae: 0.0434 - val_loss: 0.0155 - val_mape: 37.6808 - val_mae: 0.0940\n",
      "Epoch 26/100\n",
      "1105/1105 [==============================] - 18s 17ms/step - loss: 0.0034 - mape: 1606.4821 - mae: 0.0432 - val_loss: 0.0150 - val_mape: 40.8330 - val_mae: 0.0935\n",
      "Epoch 27/100\n",
      "1105/1105 [==============================] - 18s 17ms/step - loss: 0.0033 - mape: 1842.0026 - mae: 0.0431 - val_loss: 0.0152 - val_mape: 36.4373 - val_mae: 0.0916\n",
      "Epoch 28/100\n",
      "1105/1105 [==============================] - 19s 17ms/step - loss: 0.0033 - mape: 1765.6333 - mae: 0.0427 - val_loss: 0.0101 - val_mape: 33.1051 - val_mae: 0.0759\n",
      "Epoch 29/100\n",
      "1105/1105 [==============================] - 19s 17ms/step - loss: 0.0032 - mape: 2067.4065 - mae: 0.0424 - val_loss: 0.0146 - val_mape: 36.4985 - val_mae: 0.0917\n",
      "Epoch 30/100\n",
      "1105/1105 [==============================] - 18s 17ms/step - loss: 0.0032 - mape: 2167.7651 - mae: 0.0421 - val_loss: 0.0127 - val_mape: 33.6496 - val_mae: 0.0823\n",
      "Epoch 31/100\n",
      "1105/1105 [==============================] - 19s 17ms/step - loss: 0.0031 - mape: 1821.7419 - mae: 0.0417 - val_loss: 0.0142 - val_mape: 32.2381 - val_mae: 0.0858\n",
      "Epoch 32/100\n",
      "1105/1105 [==============================] - 19s 17ms/step - loss: 0.0031 - mape: 2027.9025 - mae: 0.0413 - val_loss: 0.0135 - val_mape: 32.1175 - val_mae: 0.0844\n",
      "Epoch 33/100\n",
      "1105/1105 [==============================] - 19s 17ms/step - loss: 0.0030 - mape: 1801.6208 - mae: 0.0411 - val_loss: 0.0139 - val_mape: 33.0909 - val_mae: 0.0860\n",
      "Epoch 34/100\n",
      "1105/1105 [==============================] - 19s 17ms/step - loss: 0.0030 - mape: 2074.5801 - mae: 0.0407 - val_loss: 0.0124 - val_mape: 29.6169 - val_mae: 0.0807\n",
      "Epoch 35/100\n",
      "1105/1105 [==============================] - 19s 17ms/step - loss: 0.0029 - mape: 1823.5139 - mae: 0.0404 - val_loss: 0.0141 - val_mape: 32.1681 - val_mae: 0.0863\n",
      "Epoch 36/100\n",
      "1105/1105 [==============================] - 19s 18ms/step - loss: 0.0029 - mape: 2009.7302 - mae: 0.0401 - val_loss: 0.0127 - val_mape: 32.2846 - val_mae: 0.0825\n",
      "Epoch 37/100\n",
      "1105/1105 [==============================] - 19s 18ms/step - loss: 0.0028 - mape: 2135.8335 - mae: 0.0398 - val_loss: 0.0150 - val_mape: 35.9766 - val_mae: 0.0904\n",
      "Epoch 38/100\n",
      "1105/1105 [==============================] - 19s 18ms/step - loss: 0.0028 - mape: 1768.0333 - mae: 0.0396 - val_loss: 0.0123 - val_mape: 29.9797 - val_mae: 0.0810\n",
      "Epoch 39/100\n",
      "1105/1105 [==============================] - 19s 18ms/step - loss: 0.0028 - mape: 1745.1613 - mae: 0.0391 - val_loss: 0.0142 - val_mape: 33.2014 - val_mae: 0.0876\n",
      "Epoch 40/100\n",
      "1105/1105 [==============================] - 19s 17ms/step - loss: 0.0027 - mape: 1905.9402 - mae: 0.0388 - val_loss: 0.0119 - val_mape: 31.6062 - val_mae: 0.0802\n",
      "Epoch 41/100\n",
      "1105/1105 [==============================] - 19s 17ms/step - loss: 0.0027 - mape: 1839.6996 - mae: 0.0388 - val_loss: 0.0125 - val_mape: 31.7795 - val_mae: 0.0828\n",
      "Epoch 42/100\n",
      "1105/1105 [==============================] - 19s 17ms/step - loss: 0.0026 - mape: 1908.6414 - mae: 0.0380 - val_loss: 0.0111 - val_mape: 30.6172 - val_mae: 0.0789\n",
      "Epoch 43/100\n",
      "1105/1105 [==============================] - 20s 18ms/step - loss: 0.0026 - mape: 1716.5166 - mae: 0.0378 - val_loss: 0.0143 - val_mape: 32.8518 - val_mae: 0.0862\n",
      "Epoch 44/100\n",
      "1105/1105 [==============================] - 20s 18ms/step - loss: 0.0026 - mape: 1773.6083 - mae: 0.0377 - val_loss: 0.0121 - val_mape: 31.2715 - val_mae: 0.0805\n",
      "Epoch 45/100\n",
      "1105/1105 [==============================] - 20s 18ms/step - loss: 0.0025 - mape: 1861.9956 - mae: 0.0375 - val_loss: 0.0128 - val_mape: 31.6075 - val_mae: 0.0818\n",
      "Epoch 46/100\n",
      "1105/1105 [==============================] - 19s 17ms/step - loss: 0.0024 - mape: 1852.4248 - mae: 0.0368 - val_loss: 0.0145 - val_mape: 33.2121 - val_mae: 0.0892\n",
      "Epoch 47/100\n"
     ]
    },
    {
     "name": "stdout",
     "output_type": "stream",
     "text": [
      "1105/1105 [==============================] - 18s 16ms/step - loss: 0.0024 - mape: 2003.4917 - mae: 0.0365 - val_loss: 0.0123 - val_mape: 30.1719 - val_mae: 0.0808\n",
      "Epoch 48/100\n",
      "1105/1105 [==============================] - 18s 16ms/step - loss: 0.0024 - mape: 2096.0593 - mae: 0.0362 - val_loss: 0.0137 - val_mape: 33.6192 - val_mae: 0.0873\n",
      "Epoch 49/100\n",
      "1105/1105 [==============================] - 18s 16ms/step - loss: 0.0023 - mape: 1834.3279 - mae: 0.0360 - val_loss: 0.0130 - val_mape: 32.1815 - val_mae: 0.0848\n",
      "Epoch 50/100\n",
      "1105/1105 [==============================] - 18s 16ms/step - loss: 0.0023 - mape: 1838.7505 - mae: 0.0358 - val_loss: 0.0117 - val_mape: 30.9489 - val_mae: 0.0794\n",
      "Epoch 51/100\n",
      "1105/1105 [==============================] - 17s 16ms/step - loss: 0.0022 - mape: 1835.0452 - mae: 0.0353 - val_loss: 0.0131 - val_mape: 34.8785 - val_mae: 0.0867\n",
      "Epoch 52/100\n",
      "1105/1105 [==============================] - 17s 16ms/step - loss: 0.0022 - mape: 1806.6453 - mae: 0.0350 - val_loss: 0.0140 - val_mape: 32.3460 - val_mae: 0.0867\n",
      "Epoch 53/100\n",
      "1105/1105 [==============================] - 17s 16ms/step - loss: 0.0022 - mape: 1935.4924 - mae: 0.0348 - val_loss: 0.0149 - val_mape: 32.8568 - val_mae: 0.0899\n",
      "Epoch 54/100\n",
      "1105/1105 [==============================] - 17s 16ms/step - loss: 0.0021 - mape: 2068.1423 - mae: 0.0345 - val_loss: 0.0134 - val_mape: 31.7816 - val_mae: 0.0860\n",
      "Epoch 55/100\n",
      "1105/1105 [==============================] - 18s 16ms/step - loss: 0.0021 - mape: 2042.4553 - mae: 0.0342 - val_loss: 0.0135 - val_mape: 33.6496 - val_mae: 0.0872\n",
      "Epoch 56/100\n",
      "1105/1105 [==============================] - 17s 16ms/step - loss: 0.0021 - mape: 1958.6652 - mae: 0.0339 - val_loss: 0.0142 - val_mape: 34.4067 - val_mae: 0.0881\n",
      "Epoch 57/100\n",
      "1105/1105 [==============================] - 19s 17ms/step - loss: 0.0021 - mape: 1909.1881 - mae: 0.0338 - val_loss: 0.0104 - val_mape: 28.1846 - val_mae: 0.0755\n",
      "Epoch 58/100\n",
      "1105/1105 [==============================] - 19s 17ms/step - loss: 0.0020 - mape: 1814.2891 - mae: 0.0333 - val_loss: 0.0131 - val_mape: 33.4379 - val_mae: 0.0855\n",
      "Epoch 59/100\n",
      "1105/1105 [==============================] - 19s 17ms/step - loss: 0.0020 - mape: 1713.6897 - mae: 0.0332 - val_loss: 0.0143 - val_mape: 32.0346 - val_mae: 0.0878\n",
      "Epoch 60/100\n",
      "1105/1105 [==============================] - 19s 17ms/step - loss: 0.0019 - mape: 1928.2786 - mae: 0.0328 - val_loss: 0.0141 - val_mape: 33.7513 - val_mae: 0.0889\n",
      "Epoch 61/100\n",
      "1105/1105 [==============================] - 19s 17ms/step - loss: 0.0019 - mape: 1995.9011 - mae: 0.0323 - val_loss: 0.0131 - val_mape: 30.7224 - val_mae: 0.0831\n",
      "Epoch 62/100\n",
      "1105/1105 [==============================] - 19s 17ms/step - loss: 0.0019 - mape: 1771.0077 - mae: 0.0322 - val_loss: 0.0158 - val_mape: 34.5330 - val_mae: 0.0935\n",
      "Epoch 63/100\n",
      "1105/1105 [==============================] - 19s 17ms/step - loss: 0.0018 - mape: 1822.2454 - mae: 0.0318 - val_loss: 0.0139 - val_mape: 33.8027 - val_mae: 0.0883\n",
      "Epoch 64/100\n",
      "1105/1105 [==============================] - 19s 17ms/step - loss: 0.0018 - mape: 2134.9766 - mae: 0.0319 - val_loss: 0.0128 - val_mape: 32.4478 - val_mae: 0.0840\n",
      "Epoch 65/100\n",
      "1105/1105 [==============================] - 20s 18ms/step - loss: 0.0018 - mape: 1694.8737 - mae: 0.0314 - val_loss: 0.0125 - val_mape: 32.4991 - val_mae: 0.0829\n",
      "Epoch 66/100\n",
      "1105/1105 [==============================] - 19s 17ms/step - loss: 0.0018 - mape: 1575.3406 - mae: 0.0313 - val_loss: 0.0141 - val_mape: 35.6055 - val_mae: 0.0896\n",
      "Epoch 67/100\n",
      "1105/1105 [==============================] - 20s 18ms/step - loss: 0.0018 - mape: 1811.5183 - mae: 0.0311 - val_loss: 0.0142 - val_mape: 32.7596 - val_mae: 0.0876\n",
      "Epoch 68/100\n",
      "1105/1105 [==============================] - 19s 18ms/step - loss: 0.0017 - mape: 1708.6445 - mae: 0.0308 - val_loss: 0.0120 - val_mape: 31.1527 - val_mae: 0.0810\n",
      "Epoch 69/100\n",
      "1105/1105 [==============================] - 19s 18ms/step - loss: 0.0017 - mape: 1729.9037 - mae: 0.0304 - val_loss: 0.0143 - val_mape: 35.6309 - val_mae: 0.0909\n",
      "Epoch 70/100\n",
      "1105/1105 [==============================] - 19s 17ms/step - loss: 0.0017 - mape: 1533.2217 - mae: 0.0304 - val_loss: 0.0142 - val_mape: 33.2431 - val_mae: 0.0891\n",
      "Epoch 71/100\n",
      "1105/1105 [==============================] - 19s 17ms/step - loss: 0.0016 - mape: 1629.5991 - mae: 0.0302 - val_loss: 0.0140 - val_mape: 35.8512 - val_mae: 0.0908\n",
      "Epoch 72/100\n",
      "1105/1105 [==============================] - 19s 17ms/step - loss: 0.0016 - mape: 1966.0873 - mae: 0.0298 - val_loss: 0.0138 - val_mape: 33.7844 - val_mae: 0.0883\n",
      "Epoch 73/100\n",
      "1105/1105 [==============================] - 19s 17ms/step - loss: 0.0016 - mape: 1753.6384 - mae: 0.0297 - val_loss: 0.0141 - val_mape: 33.6945 - val_mae: 0.0880\n",
      "Epoch 74/100\n",
      "1105/1105 [==============================] - 19s 17ms/step - loss: 0.0016 - mape: 1643.9343 - mae: 0.0296 - val_loss: 0.0137 - val_mape: 33.0785 - val_mae: 0.0865\n",
      "Epoch 75/100\n",
      "1105/1105 [==============================] - 19s 18ms/step - loss: 0.0015 - mape: 1978.6582 - mae: 0.0292 - val_loss: 0.0130 - val_mape: 32.4911 - val_mae: 0.0853\n",
      "Epoch 76/100\n",
      "1105/1105 [==============================] - 19s 17ms/step - loss: 0.0015 - mape: 1752.3756 - mae: 0.0291 - val_loss: 0.0126 - val_mape: 30.8361 - val_mae: 0.0825\n",
      "Epoch 77/100\n",
      "1105/1105 [==============================] - 20s 18ms/step - loss: 0.0015 - mape: 2019.5536 - mae: 0.0289 - val_loss: 0.0138 - val_mape: 33.5916 - val_mae: 0.0878\n",
      "Epoch 78/100\n",
      "1105/1105 [==============================] - 19s 17ms/step - loss: 0.0014 - mape: 1630.8408 - mae: 0.0283 - val_loss: 0.0128 - val_mape: 31.3022 - val_mae: 0.0835\n",
      "Epoch 79/100\n",
      "1105/1105 [==============================] - 19s 17ms/step - loss: 0.0014 - mape: 1772.8408 - mae: 0.0283 - val_loss: 0.0141 - val_mape: 33.3643 - val_mae: 0.0878\n",
      "Epoch 80/100\n",
      "1105/1105 [==============================] - 19s 17ms/step - loss: 0.0015 - mape: 1985.6423 - mae: 0.0288 - val_loss: 0.0138 - val_mape: 33.2377 - val_mae: 0.0879\n",
      "Epoch 81/100\n",
      "1105/1105 [==============================] - 19s 17ms/step - loss: 0.0014 - mape: 1879.4946 - mae: 0.0278 - val_loss: 0.0129 - val_mape: 32.5316 - val_mae: 0.0848\n",
      "Epoch 82/100\n",
      "1105/1105 [==============================] - 19s 18ms/step - loss: 0.0014 - mape: 1607.7712 - mae: 0.0280 - val_loss: 0.0136 - val_mape: 34.7262 - val_mae: 0.0888\n",
      "Epoch 83/100\n",
      "1105/1105 [==============================] - 19s 17ms/step - loss: 0.0013 - mape: 1514.6348 - mae: 0.0274 - val_loss: 0.0129 - val_mape: 33.3483 - val_mae: 0.0856\n",
      "Epoch 84/100\n",
      "1105/1105 [==============================] - 19s 17ms/step - loss: 0.0013 - mape: 1876.3850 - mae: 0.0274 - val_loss: 0.0130 - val_mape: 33.2541 - val_mae: 0.0861\n",
      "Epoch 85/100\n",
      "1105/1105 [==============================] - 19s 17ms/step - loss: 0.0013 - mape: 1861.9907 - mae: 0.0269 - val_loss: 0.0123 - val_mape: 32.0620 - val_mae: 0.0827\n",
      "Epoch 86/100\n",
      "1105/1105 [==============================] - 19s 17ms/step - loss: 0.0013 - mape: 1671.1443 - mae: 0.0271 - val_loss: 0.0131 - val_mape: 31.5705 - val_mae: 0.0848\n",
      "Epoch 87/100\n",
      "1105/1105 [==============================] - 19s 17ms/step - loss: 0.0013 - mape: 1789.7765 - mae: 0.0266 - val_loss: 0.0125 - val_mape: 32.8886 - val_mae: 0.0825\n",
      "Epoch 88/100\n",
      "1105/1105 [==============================] - 19s 17ms/step - loss: 0.0013 - mape: 1729.9385 - mae: 0.0267 - val_loss: 0.0133 - val_mape: 31.6127 - val_mae: 0.0847\n",
      "Epoch 89/100\n",
      "1105/1105 [==============================] - 19s 17ms/step - loss: 0.0013 - mape: 1630.8546 - mae: 0.0268 - val_loss: 0.0136 - val_mape: 34.4280 - val_mae: 0.0881\n",
      "Epoch 90/100\n",
      "1105/1105 [==============================] - 19s 17ms/step - loss: 0.0012 - mape: 1612.9906 - mae: 0.0263 - val_loss: 0.0123 - val_mape: 31.1259 - val_mae: 0.0816\n",
      "Epoch 91/100\n",
      "1105/1105 [==============================] - 19s 17ms/step - loss: 0.0012 - mape: 1761.8231 - mae: 0.0260 - val_loss: 0.0135 - val_mape: 34.1976 - val_mae: 0.0876\n",
      "Epoch 92/100\n",
      "1105/1105 [==============================] - 19s 17ms/step - loss: 0.0012 - mape: 1593.5746 - mae: 0.0258 - val_loss: 0.0133 - val_mape: 32.8280 - val_mae: 0.0858\n",
      "Epoch 93/100\n"
     ]
    },
    {
     "name": "stdout",
     "output_type": "stream",
     "text": [
      "1105/1105 [==============================] - 18s 16ms/step - loss: 0.0012 - mape: 1613.3622 - mae: 0.0259 - val_loss: 0.0124 - val_mape: 31.4636 - val_mae: 0.0819\n",
      "Epoch 94/100\n",
      "1105/1105 [==============================] - 18s 16ms/step - loss: 0.0012 - mape: 1552.4025 - mae: 0.0255 - val_loss: 0.0128 - val_mape: 32.3838 - val_mae: 0.0840\n",
      "Epoch 95/100\n",
      "1105/1105 [==============================] - 18s 16ms/step - loss: 0.0011 - mape: 1799.5964 - mae: 0.0254 - val_loss: 0.0145 - val_mape: 35.0539 - val_mae: 0.0908\n",
      "Epoch 96/100\n",
      "1105/1105 [==============================] - 18s 16ms/step - loss: 0.0012 - mape: 1809.0748 - mae: 0.0260 - val_loss: 0.0127 - val_mape: 32.6325 - val_mae: 0.0839\n",
      "Epoch 97/100\n",
      "1105/1105 [==============================] - 18s 16ms/step - loss: 0.0011 - mape: 1744.5314 - mae: 0.0252 - val_loss: 0.0135 - val_mape: 33.5620 - val_mae: 0.0876\n",
      "Epoch 98/100\n",
      "1105/1105 [==============================] - 18s 16ms/step - loss: 0.0011 - mape: 1793.8409 - mae: 0.0254 - val_loss: 0.0132 - val_mape: 32.8439 - val_mae: 0.0840\n",
      "Epoch 99/100\n",
      "1105/1105 [==============================] - 18s 16ms/step - loss: 0.0011 - mape: 1703.0970 - mae: 0.0246 - val_loss: 0.0131 - val_mape: 32.6558 - val_mae: 0.0847\n",
      "Epoch 100/100\n",
      "1105/1105 [==============================] - 18s 16ms/step - loss: 0.0011 - mape: 1655.8752 - mae: 0.0253 - val_loss: 0.0133 - val_mape: 33.3636 - val_mae: 0.0864\n"
     ]
    },
    {
     "data": {
      "text/plain": [
       "<keras.callbacks.History at 0x12a14888a30>"
      ]
     },
     "execution_count": 22,
     "metadata": {},
     "output_type": "execute_result"
    }
   ],
   "source": [
    "model.fit(X_train, Y_train, epochs= epochs, batch_size= batchSize, verbose= 1, shuffle= True, validation_data= (X_valid, Y_valid))"
   ]
  },
  {
   "cell_type": "code",
   "execution_count": 23,
   "id": "cd839153",
   "metadata": {},
   "outputs": [
    {
     "name": "stdout",
     "output_type": "stream",
     "text": [
      "Total execution time in seconds: 1867.7108180522919\n"
     ]
    }
   ],
   "source": [
    "calcExecTime = (time.time() - startTime)\n",
    "print('Total execution time in seconds: ' + str(calcExecTime))"
   ]
  },
  {
   "cell_type": "markdown",
   "id": "72aafa74",
   "metadata": {},
   "source": [
    "### MAKING PREDICTIONS AND GENERATING RESULTS"
   ]
  },
  {
   "cell_type": "code",
   "execution_count": 24,
   "id": "259bfb49",
   "metadata": {},
   "outputs": [
    {
     "name": "stdout",
     "output_type": "stream",
     "text": [
      "6/6 [==============================] - 1s 11ms/step\n"
     ]
    }
   ],
   "source": [
    "predictions = model.predict(X_test)"
   ]
  },
  {
   "cell_type": "code",
   "execution_count": 25,
   "id": "2912d431",
   "metadata": {},
   "outputs": [
    {
     "data": {
      "text/plain": [
       "array([0.1618011 , 0.13752317, 0.12072557, ..., 0.4042502 , 0.37266988,\n",
       "       0.3431908 ], dtype=float32)"
      ]
     },
     "execution_count": 25,
     "metadata": {},
     "output_type": "execute_result"
    }
   ],
   "source": [
    "predArr = predictions.reshape(predictions.shape[0] * predictions.shape[1], predictions.shape[2]).ravel()\n",
    "predArr"
   ]
  },
  {
   "cell_type": "code",
   "execution_count": 26,
   "id": "b01889f2",
   "metadata": {},
   "outputs": [
    {
     "data": {
      "text/plain": [
       "array([0.30705154, 0.26919234, 0.24240777, ..., 0.29210277, 0.27730973,\n",
       "       0.26335294])"
      ]
     },
     "execution_count": 26,
     "metadata": {},
     "output_type": "execute_result"
    }
   ],
   "source": [
    "Y_testArr = Y_test.reshape(Y_test.shape[0] * Y_test.shape[1], Y_test.shape[2]).ravel()\n",
    "Y_testArr"
   ]
  },
  {
   "cell_type": "code",
   "execution_count": 27,
   "id": "799c97e8",
   "metadata": {},
   "outputs": [],
   "source": [
    "def inverse_transform(df):\n",
    "    column_names = df.columns\n",
    "    for col in column_names:\n",
    "        df[col] = ValScaler.inverse_transform(df[[col]]) \n",
    "    return df"
   ]
  },
  {
   "cell_type": "code",
   "execution_count": 28,
   "id": "afa81e30",
   "metadata": {},
   "outputs": [
    {
     "data": {
      "text/html": [
       "<div>\n",
       "<style scoped>\n",
       "    .dataframe tbody tr th:only-of-type {\n",
       "        vertical-align: middle;\n",
       "    }\n",
       "\n",
       "    .dataframe tbody tr th {\n",
       "        vertical-align: top;\n",
       "    }\n",
       "\n",
       "    .dataframe thead th {\n",
       "        text-align: right;\n",
       "    }\n",
       "</style>\n",
       "<table border=\"1\" class=\"dataframe\">\n",
       "  <thead>\n",
       "    <tr style=\"text-align: right;\">\n",
       "      <th></th>\n",
       "      <th>Values</th>\n",
       "      <th>Predictions</th>\n",
       "    </tr>\n",
       "  </thead>\n",
       "  <tbody>\n",
       "    <tr>\n",
       "      <th>0</th>\n",
       "      <td>834.227772</td>\n",
       "      <td>690.094727</td>\n",
       "    </tr>\n",
       "    <tr>\n",
       "      <th>1</th>\n",
       "      <td>796.659830</td>\n",
       "      <td>666.003601</td>\n",
       "    </tr>\n",
       "    <tr>\n",
       "      <th>2</th>\n",
       "      <td>770.081317</td>\n",
       "      <td>649.335205</td>\n",
       "    </tr>\n",
       "    <tr>\n",
       "      <th>3</th>\n",
       "      <td>768.146601</td>\n",
       "      <td>643.297424</td>\n",
       "    </tr>\n",
       "    <tr>\n",
       "      <th>4</th>\n",
       "      <td>783.320723</td>\n",
       "      <td>655.694153</td>\n",
       "    </tr>\n",
       "    <tr>\n",
       "      <th>...</th>\n",
       "      <td>...</td>\n",
       "      <td>...</td>\n",
       "    </tr>\n",
       "    <tr>\n",
       "      <th>4363</th>\n",
       "      <td>825.761799</td>\n",
       "      <td>954.334167</td>\n",
       "    </tr>\n",
       "    <tr>\n",
       "      <th>4364</th>\n",
       "      <td>822.190573</td>\n",
       "      <td>951.434265</td>\n",
       "    </tr>\n",
       "    <tr>\n",
       "      <th>4365</th>\n",
       "      <td>819.394012</td>\n",
       "      <td>930.678650</td>\n",
       "    </tr>\n",
       "    <tr>\n",
       "      <th>4366</th>\n",
       "      <td>804.714775</td>\n",
       "      <td>899.341309</td>\n",
       "    </tr>\n",
       "    <tr>\n",
       "      <th>4367</th>\n",
       "      <td>790.865357</td>\n",
       "      <td>870.088989</td>\n",
       "    </tr>\n",
       "  </tbody>\n",
       "</table>\n",
       "<p>4368 rows × 2 columns</p>\n",
       "</div>"
      ],
      "text/plain": [
       "          Values  Predictions\n",
       "0     834.227772   690.094727\n",
       "1     796.659830   666.003601\n",
       "2     770.081317   649.335205\n",
       "3     768.146601   643.297424\n",
       "4     783.320723   655.694153\n",
       "...          ...          ...\n",
       "4363  825.761799   954.334167\n",
       "4364  822.190573   951.434265\n",
       "4365  819.394012   930.678650\n",
       "4366  804.714775   899.341309\n",
       "4367  790.865357   870.088989\n",
       "\n",
       "[4368 rows x 2 columns]"
      ]
     },
     "execution_count": 28,
     "metadata": {},
     "output_type": "execute_result"
    }
   ],
   "source": [
    "comparisionDf = pd.DataFrame(data= {\"Values\": Y_testArr, \"Predictions\": predArr})\n",
    "comparisionDf = inverse_transform(comparisionDf)\n",
    "comparisionDf"
   ]
  },
  {
   "cell_type": "code",
   "execution_count": 29,
   "id": "88222bae",
   "metadata": {},
   "outputs": [
    {
     "data": {
      "text/plain": [
       "10.579628657903978"
      ]
     },
     "execution_count": 29,
     "metadata": {},
     "output_type": "execute_result"
    }
   ],
   "source": [
    "mape(comparisionDf[\"Values\"], comparisionDf[\"Predictions\"])"
   ]
  }
 ],
 "metadata": {
  "kernelspec": {
   "display_name": "Python 3 (ipykernel)",
   "language": "python",
   "name": "python3"
  },
  "language_info": {
   "codemirror_mode": {
    "name": "ipython",
    "version": 3
   },
   "file_extension": ".py",
   "mimetype": "text/x-python",
   "name": "python",
   "nbconvert_exporter": "python",
   "pygments_lexer": "ipython3",
   "version": "3.9.12"
  }
 },
 "nbformat": 4,
 "nbformat_minor": 5
}
