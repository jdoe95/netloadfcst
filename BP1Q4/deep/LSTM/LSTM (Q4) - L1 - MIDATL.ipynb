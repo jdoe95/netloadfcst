{
 "cells": [
  {
   "cell_type": "code",
   "execution_count": 1,
   "id": "5f61b29f",
   "metadata": {},
   "outputs": [
    {
     "name": "stdout",
     "output_type": "stream",
     "text": [
      "Num GPUs Available:  1\n"
     ]
    }
   ],
   "source": [
    "import pandas as pd\n",
    "import numpy as np\n",
    "import os\n",
    "import matplotlib.pyplot as plt\n",
    "from datetime import datetime\n",
    "from sklearn.preprocessing import MinMaxScaler, RobustScaler, StandardScaler\n",
    "import time\n",
    "\n",
    "import tensorflow as tf\n",
    "tf.random.set_seed(42)\n",
    "\n",
    "def mape(y_true, y_pred):\n",
    "    y_true, y_pred = np.array(y_true), np.array(y_pred)\n",
    "    return np.mean(np.abs((y_true - y_pred) / max(y_true))) * 100\n",
    "\n",
    "def RMSELoss(yhat,y):\n",
    "    return torch.sqrt(torch.mean((yhat-y)**2))\n",
    "\n",
    "print(\"Num GPUs Available: \", len(tf.config.list_physical_devices('GPU')))"
   ]
  },
  {
   "cell_type": "code",
   "execution_count": 2,
   "id": "cea0abe2",
   "metadata": {},
   "outputs": [
    {
     "name": "stdout",
     "output_type": "stream",
     "text": [
      "['MIDATL.csv', 'SOUTH.csv', 'WEST.csv']\n"
     ]
    }
   ],
   "source": [
    "# Specifying the path of file\n",
    "path= r\"C:\\Users\\sashah8\\OneDrive - North Carolina State University\\Desktop\\Q4\\Data\\L1\\data_cleaned\"\n",
    "\n",
    "# Listing just the required files\n",
    "fileList = os.listdir(path)\n",
    "fileList.remove(\"Date.csv\")\n",
    "\n",
    "# Previewing the required file names\n",
    "print(fileList)"
   ]
  },
  {
   "cell_type": "code",
   "execution_count": 3,
   "id": "a6fe9396",
   "metadata": {},
   "outputs": [
    {
     "data": {
      "text/html": [
       "<div>\n",
       "<style scoped>\n",
       "    .dataframe tbody tr th:only-of-type {\n",
       "        vertical-align: middle;\n",
       "    }\n",
       "\n",
       "    .dataframe tbody tr th {\n",
       "        vertical-align: top;\n",
       "    }\n",
       "\n",
       "    .dataframe thead th {\n",
       "        text-align: right;\n",
       "    }\n",
       "</style>\n",
       "<table border=\"1\" class=\"dataframe\">\n",
       "  <thead>\n",
       "    <tr style=\"text-align: right;\">\n",
       "      <th></th>\n",
       "      <th>Net</th>\n",
       "      <th>Temperature</th>\n",
       "    </tr>\n",
       "  </thead>\n",
       "  <tbody>\n",
       "    <tr>\n",
       "      <th>0</th>\n",
       "      <td>31660.636</td>\n",
       "      <td>-7.6</td>\n",
       "    </tr>\n",
       "    <tr>\n",
       "      <th>1</th>\n",
       "      <td>30766.066</td>\n",
       "      <td>-8.4</td>\n",
       "    </tr>\n",
       "    <tr>\n",
       "      <th>2</th>\n",
       "      <td>30201.596</td>\n",
       "      <td>-8.3</td>\n",
       "    </tr>\n",
       "    <tr>\n",
       "      <th>3</th>\n",
       "      <td>29901.406</td>\n",
       "      <td>-6.8</td>\n",
       "    </tr>\n",
       "    <tr>\n",
       "      <th>4</th>\n",
       "      <td>30084.427</td>\n",
       "      <td>-7.0</td>\n",
       "    </tr>\n",
       "    <tr>\n",
       "      <th>...</th>\n",
       "      <td>...</td>\n",
       "      <td>...</td>\n",
       "    </tr>\n",
       "    <tr>\n",
       "      <th>43819</th>\n",
       "      <td>31844.076</td>\n",
       "      <td>4.8</td>\n",
       "    </tr>\n",
       "    <tr>\n",
       "      <th>43820</th>\n",
       "      <td>30687.078</td>\n",
       "      <td>4.4</td>\n",
       "    </tr>\n",
       "    <tr>\n",
       "      <th>43821</th>\n",
       "      <td>29583.295</td>\n",
       "      <td>3.7</td>\n",
       "    </tr>\n",
       "    <tr>\n",
       "      <th>43822</th>\n",
       "      <td>28458.691</td>\n",
       "      <td>2.8</td>\n",
       "    </tr>\n",
       "    <tr>\n",
       "      <th>43823</th>\n",
       "      <td>27428.213</td>\n",
       "      <td>2.5</td>\n",
       "    </tr>\n",
       "  </tbody>\n",
       "</table>\n",
       "<p>43824 rows × 2 columns</p>\n",
       "</div>"
      ],
      "text/plain": [
       "             Net  Temperature\n",
       "0      31660.636         -7.6\n",
       "1      30766.066         -8.4\n",
       "2      30201.596         -8.3\n",
       "3      29901.406         -6.8\n",
       "4      30084.427         -7.0\n",
       "...          ...          ...\n",
       "43819  31844.076          4.8\n",
       "43820  30687.078          4.4\n",
       "43821  29583.295          3.7\n",
       "43822  28458.691          2.8\n",
       "43823  27428.213          2.5\n",
       "\n",
       "[43824 rows x 2 columns]"
      ]
     },
     "execution_count": 3,
     "metadata": {},
     "output_type": "execute_result"
    }
   ],
   "source": [
    "# Just for previewing the columns\n",
    "pd.read_csv(os.path.join(path, fileList[0]))"
   ]
  },
  {
   "cell_type": "markdown",
   "id": "9ad4906c",
   "metadata": {
    "pycharm": {
     "name": "#%% md\n"
    }
   },
   "source": [
    "### PROCESSING THE DATA"
   ]
  },
  {
   "cell_type": "code",
   "execution_count": 4,
   "id": "f29f6db2",
   "metadata": {},
   "outputs": [
    {
     "data": {
      "text/html": [
       "<div>\n",
       "<style scoped>\n",
       "    .dataframe tbody tr th:only-of-type {\n",
       "        vertical-align: middle;\n",
       "    }\n",
       "\n",
       "    .dataframe tbody tr th {\n",
       "        vertical-align: top;\n",
       "    }\n",
       "\n",
       "    .dataframe thead th {\n",
       "        text-align: right;\n",
       "    }\n",
       "</style>\n",
       "<table border=\"1\" class=\"dataframe\">\n",
       "  <thead>\n",
       "    <tr style=\"text-align: right;\">\n",
       "      <th></th>\n",
       "      <th>Load_MIDATL</th>\n",
       "      <th>Temp_MIDATL</th>\n",
       "    </tr>\n",
       "  </thead>\n",
       "  <tbody>\n",
       "    <tr>\n",
       "      <th>0</th>\n",
       "      <td>31660.636</td>\n",
       "      <td>-7.6</td>\n",
       "    </tr>\n",
       "    <tr>\n",
       "      <th>1</th>\n",
       "      <td>30766.066</td>\n",
       "      <td>-8.4</td>\n",
       "    </tr>\n",
       "    <tr>\n",
       "      <th>2</th>\n",
       "      <td>30201.596</td>\n",
       "      <td>-8.3</td>\n",
       "    </tr>\n",
       "    <tr>\n",
       "      <th>3</th>\n",
       "      <td>29901.406</td>\n",
       "      <td>-6.8</td>\n",
       "    </tr>\n",
       "    <tr>\n",
       "      <th>4</th>\n",
       "      <td>30084.427</td>\n",
       "      <td>-7.0</td>\n",
       "    </tr>\n",
       "    <tr>\n",
       "      <th>...</th>\n",
       "      <td>...</td>\n",
       "      <td>...</td>\n",
       "    </tr>\n",
       "    <tr>\n",
       "      <th>43819</th>\n",
       "      <td>31844.076</td>\n",
       "      <td>4.8</td>\n",
       "    </tr>\n",
       "    <tr>\n",
       "      <th>43820</th>\n",
       "      <td>30687.078</td>\n",
       "      <td>4.4</td>\n",
       "    </tr>\n",
       "    <tr>\n",
       "      <th>43821</th>\n",
       "      <td>29583.295</td>\n",
       "      <td>3.7</td>\n",
       "    </tr>\n",
       "    <tr>\n",
       "      <th>43822</th>\n",
       "      <td>28458.691</td>\n",
       "      <td>2.8</td>\n",
       "    </tr>\n",
       "    <tr>\n",
       "      <th>43823</th>\n",
       "      <td>27428.213</td>\n",
       "      <td>2.5</td>\n",
       "    </tr>\n",
       "  </tbody>\n",
       "</table>\n",
       "<p>43824 rows × 2 columns</p>\n",
       "</div>"
      ],
      "text/plain": [
       "       Load_MIDATL  Temp_MIDATL\n",
       "0        31660.636         -7.6\n",
       "1        30766.066         -8.4\n",
       "2        30201.596         -8.3\n",
       "3        29901.406         -6.8\n",
       "4        30084.427         -7.0\n",
       "...            ...          ...\n",
       "43819    31844.076          4.8\n",
       "43820    30687.078          4.4\n",
       "43821    29583.295          3.7\n",
       "43822    28458.691          2.8\n",
       "43823    27428.213          2.5\n",
       "\n",
       "[43824 rows x 2 columns]"
      ]
     },
     "execution_count": 4,
     "metadata": {},
     "output_type": "execute_result"
    }
   ],
   "source": [
    "# Restricting the load data to a single zone\n",
    "fileName  = fileList[0]\n",
    "\n",
    "zoneData = pd.read_csv(os.path.join(path, fileName))\n",
    "zoneData.columns = [\"Load_\"+str(fileName[:-4]), \"Temp_\"+str(fileName[:-4])]\n",
    "\n",
    "# For fixing one missing row\n",
    "# zoneData = pd.concat([zoneData.loc[[0]], zoneData], axis= 0).reset_index(drop= True)\n",
    "\n",
    "zoneData"
   ]
  },
  {
   "cell_type": "markdown",
   "id": "01cec4bd",
   "metadata": {},
   "source": [
    "### FEATURE ENGINEERING AND SPLITTING INTO TRAIN-TEST SPLIT"
   ]
  },
  {
   "cell_type": "code",
   "execution_count": 5,
   "id": "a1e1e8a3",
   "metadata": {},
   "outputs": [],
   "source": [
    "def lagGenerator(dF, lagList):\n",
    "    dF_temp = dF.filter(regex= \"Load\").copy()\n",
    "    \n",
    "    for i in lagList:\n",
    "        dF_temp.loc[:, \"Lag-\" + str(i)] = dF_temp.iloc[:,[0]].shift(i*24)\n",
    "    \n",
    "    return(dF_temp.filter(regex= \"Lag\"))"
   ]
  },
  {
   "cell_type": "code",
   "execution_count": 6,
   "id": "159a2a82",
   "metadata": {},
   "outputs": [
    {
     "data": {
      "text/html": [
       "<div>\n",
       "<style scoped>\n",
       "    .dataframe tbody tr th:only-of-type {\n",
       "        vertical-align: middle;\n",
       "    }\n",
       "\n",
       "    .dataframe tbody tr th {\n",
       "        vertical-align: top;\n",
       "    }\n",
       "\n",
       "    .dataframe thead th {\n",
       "        text-align: right;\n",
       "    }\n",
       "</style>\n",
       "<table border=\"1\" class=\"dataframe\">\n",
       "  <thead>\n",
       "    <tr style=\"text-align: right;\">\n",
       "      <th></th>\n",
       "      <th>Lag-2</th>\n",
       "      <th>Lag-7</th>\n",
       "    </tr>\n",
       "  </thead>\n",
       "  <tbody>\n",
       "    <tr>\n",
       "      <th>0</th>\n",
       "      <td>NaN</td>\n",
       "      <td>NaN</td>\n",
       "    </tr>\n",
       "    <tr>\n",
       "      <th>1</th>\n",
       "      <td>NaN</td>\n",
       "      <td>NaN</td>\n",
       "    </tr>\n",
       "  </tbody>\n",
       "</table>\n",
       "</div>"
      ],
      "text/plain": [
       "   Lag-2  Lag-7\n",
       "0    NaN    NaN\n",
       "1    NaN    NaN"
      ]
     },
     "execution_count": 6,
     "metadata": {},
     "output_type": "execute_result"
    }
   ],
   "source": [
    "Load_lags = lagGenerator(dF=zoneData, lagList=[2,7])\n",
    "Load_lags.head(2)"
   ]
  },
  {
   "cell_type": "code",
   "execution_count": 7,
   "id": "05896954",
   "metadata": {},
   "outputs": [
    {
     "data": {
      "text/html": [
       "<div>\n",
       "<style scoped>\n",
       "    .dataframe tbody tr th:only-of-type {\n",
       "        vertical-align: middle;\n",
       "    }\n",
       "\n",
       "    .dataframe tbody tr th {\n",
       "        vertical-align: top;\n",
       "    }\n",
       "\n",
       "    .dataframe thead th {\n",
       "        text-align: right;\n",
       "    }\n",
       "</style>\n",
       "<table border=\"1\" class=\"dataframe\">\n",
       "  <thead>\n",
       "    <tr style=\"text-align: right;\">\n",
       "      <th></th>\n",
       "      <th>Load_MIDATL</th>\n",
       "      <th>Temp_MIDATL</th>\n",
       "      <th>Lag-2</th>\n",
       "      <th>Lag-7</th>\n",
       "    </tr>\n",
       "  </thead>\n",
       "  <tbody>\n",
       "    <tr>\n",
       "      <th>0</th>\n",
       "      <td>38996.785</td>\n",
       "      <td>-11.3</td>\n",
       "      <td>32288.116</td>\n",
       "      <td>31660.636</td>\n",
       "    </tr>\n",
       "    <tr>\n",
       "      <th>1</th>\n",
       "      <td>38439.636</td>\n",
       "      <td>-12.9</td>\n",
       "      <td>31695.589</td>\n",
       "      <td>30766.066</td>\n",
       "    </tr>\n",
       "    <tr>\n",
       "      <th>2</th>\n",
       "      <td>38168.687</td>\n",
       "      <td>-13.8</td>\n",
       "      <td>31377.350</td>\n",
       "      <td>30201.596</td>\n",
       "    </tr>\n",
       "    <tr>\n",
       "      <th>3</th>\n",
       "      <td>38288.055</td>\n",
       "      <td>-14.5</td>\n",
       "      <td>31461.963</td>\n",
       "      <td>29901.406</td>\n",
       "    </tr>\n",
       "    <tr>\n",
       "      <th>4</th>\n",
       "      <td>39122.047</td>\n",
       "      <td>-15.0</td>\n",
       "      <td>32349.539</td>\n",
       "      <td>30084.427</td>\n",
       "    </tr>\n",
       "    <tr>\n",
       "      <th>...</th>\n",
       "      <td>...</td>\n",
       "      <td>...</td>\n",
       "      <td>...</td>\n",
       "      <td>...</td>\n",
       "    </tr>\n",
       "    <tr>\n",
       "      <th>43651</th>\n",
       "      <td>31844.076</td>\n",
       "      <td>4.8</td>\n",
       "      <td>31492.518</td>\n",
       "      <td>31223.944</td>\n",
       "    </tr>\n",
       "    <tr>\n",
       "      <th>43652</th>\n",
       "      <td>30687.078</td>\n",
       "      <td>4.4</td>\n",
       "      <td>30943.798</td>\n",
       "      <td>30934.643</td>\n",
       "    </tr>\n",
       "    <tr>\n",
       "      <th>43653</th>\n",
       "      <td>29583.295</td>\n",
       "      <td>3.7</td>\n",
       "      <td>29728.352</td>\n",
       "      <td>30619.720</td>\n",
       "    </tr>\n",
       "    <tr>\n",
       "      <th>43654</th>\n",
       "      <td>28458.691</td>\n",
       "      <td>2.8</td>\n",
       "      <td>28090.471</td>\n",
       "      <td>29955.427</td>\n",
       "    </tr>\n",
       "    <tr>\n",
       "      <th>43655</th>\n",
       "      <td>27428.213</td>\n",
       "      <td>2.5</td>\n",
       "      <td>26375.029</td>\n",
       "      <td>28929.156</td>\n",
       "    </tr>\n",
       "  </tbody>\n",
       "</table>\n",
       "<p>43656 rows × 4 columns</p>\n",
       "</div>"
      ],
      "text/plain": [
       "       Load_MIDATL  Temp_MIDATL      Lag-2      Lag-7\n",
       "0        38996.785        -11.3  32288.116  31660.636\n",
       "1        38439.636        -12.9  31695.589  30766.066\n",
       "2        38168.687        -13.8  31377.350  30201.596\n",
       "3        38288.055        -14.5  31461.963  29901.406\n",
       "4        39122.047        -15.0  32349.539  30084.427\n",
       "...            ...          ...        ...        ...\n",
       "43651    31844.076          4.8  31492.518  31223.944\n",
       "43652    30687.078          4.4  30943.798  30934.643\n",
       "43653    29583.295          3.7  29728.352  30619.720\n",
       "43654    28458.691          2.8  28090.471  29955.427\n",
       "43655    27428.213          2.5  26375.029  28929.156\n",
       "\n",
       "[43656 rows x 4 columns]"
      ]
     },
     "execution_count": 7,
     "metadata": {},
     "output_type": "execute_result"
    }
   ],
   "source": [
    "dataDf = pd.concat([zoneData, Load_lags], axis= 1).dropna(axis= 0).reset_index(drop= True)\n",
    "dataDf"
   ]
  },
  {
   "cell_type": "code",
   "execution_count": 8,
   "id": "6ad25321",
   "metadata": {},
   "outputs": [],
   "source": [
    "# Setting the train-test split ratio\n",
    "ratio = 0.1"
   ]
  },
  {
   "cell_type": "code",
   "execution_count": 9,
   "id": "3c08d963",
   "metadata": {},
   "outputs": [],
   "source": [
    "Num_train, Num_test = int(len(dataDf)/24 * (1 - ratio)) * 24, int(len(dataDf)/24 * ratio) * 24"
   ]
  },
  {
   "cell_type": "code",
   "execution_count": 10,
   "id": "cbe069ff",
   "metadata": {},
   "outputs": [],
   "source": [
    "# Splitting the data into train and test\n",
    "data_train, data_test = dataDf[:Num_train], dataDf[Num_train:]"
   ]
  },
  {
   "cell_type": "code",
   "execution_count": 11,
   "id": "d84e15c4",
   "metadata": {},
   "outputs": [],
   "source": [
    "Num_train, Num_valid = int(len(data_train)/24 * (1 - ratio)) * 24, int(len(data_train)/24 * ratio) * 24"
   ]
  },
  {
   "cell_type": "code",
   "execution_count": 12,
   "id": "c17d1723",
   "metadata": {},
   "outputs": [],
   "source": [
    "# Splitting the data into train and test\n",
    "data_train, data_valid = data_train[:Num_train], data_train[Num_train:]"
   ]
  },
  {
   "cell_type": "markdown",
   "id": "88d32011",
   "metadata": {},
   "source": [
    "### SPLITTING INTO X AND Y PART WITH SEQUENCE BATCHING"
   ]
  },
  {
   "cell_type": "code",
   "execution_count": 13,
   "id": "4ba286ca",
   "metadata": {},
   "outputs": [],
   "source": [
    "X_train_df, Y_train_df = data_train.iloc[:, 1:], data_train.iloc[:, :1]\n",
    "\n",
    "X_valid_df, Y_valid_df = data_valid.iloc[:, 1:], data_valid.iloc[:, :1]\n",
    "\n",
    "X_test_df, Y_test_df = data_test.iloc[:, 1:], data_test.iloc[:, :1]"
   ]
  },
  {
   "cell_type": "code",
   "execution_count": 14,
   "id": "ef1d9079",
   "metadata": {},
   "outputs": [],
   "source": [
    "# Preparing the scaler\n",
    "ValScaler = MinMaxScaler()\n",
    "\n",
    "X_train = ValScaler.fit_transform(X_train_df)\n",
    "X_valid = ValScaler.transform(X_valid_df)\n",
    "X_test = ValScaler.transform(X_test_df)\n",
    "\n",
    "Y_train = ValScaler.fit_transform(Y_train_df)\n",
    "Y_valid = ValScaler.transform(Y_valid_df)\n",
    "Y_test = ValScaler.transform(Y_test_df)"
   ]
  },
  {
   "cell_type": "code",
   "execution_count": 15,
   "id": "43594401",
   "metadata": {},
   "outputs": [],
   "source": [
    "def splitData(dataset):\n",
    "    data = np.array(np.split(dataset, len(dataset)/24))\n",
    "    return data"
   ]
  },
  {
   "cell_type": "code",
   "execution_count": 16,
   "id": "300696b2",
   "metadata": {},
   "outputs": [],
   "source": [
    "def supervisedSet(X_part, Y_part, steps= 24):\n",
    "    X_array, Y_array = np.array(X_part), np.array(Y_part)\n",
    "    X, Y = [], []\n",
    "    \n",
    "    for i in range(len(X_array)):\n",
    "        endIdx = i + steps\n",
    "        \n",
    "        if endIdx > len(X_array):\n",
    "            break\n",
    "        \n",
    "        batch_X, batch_Y = X_array[i:endIdx], Y_array[i:endIdx]\n",
    "        \n",
    "        X.append(batch_X)\n",
    "        Y.append(batch_Y)\n",
    "        \n",
    "    return np.array(X), np.array(Y)"
   ]
  },
  {
   "cell_type": "code",
   "execution_count": 17,
   "id": "fc9cd97d",
   "metadata": {},
   "outputs": [],
   "source": [
    "X_train, Y_train = supervisedSet(X_train, Y_train)\n",
    "\n",
    "X_valid, Y_valid = splitData(X_valid), splitData(Y_valid)\n",
    "\n",
    "X_test, Y_test = splitData(X_test), splitData(Y_test)"
   ]
  },
  {
   "cell_type": "markdown",
   "id": "a2a6bf32",
   "metadata": {},
   "source": [
    "### WORKING ON THE MODEL"
   ]
  },
  {
   "cell_type": "code",
   "execution_count": 18,
   "id": "ff71a98c",
   "metadata": {},
   "outputs": [],
   "source": [
    "epochs = 100\n",
    "batchSize = 32"
   ]
  },
  {
   "cell_type": "code",
   "execution_count": 19,
   "id": "8d600c17",
   "metadata": {},
   "outputs": [],
   "source": [
    "# Encoder-decoder architecture [tanh required to use tensorflow on gpu]\n",
    "model = tf.keras.Sequential([\n",
    "    tf.keras.layers.LSTM(units= 128, activation= \"tanh\", input_shape= (X_train.shape[1], X_train.shape[2]), dropout= 0.2),\n",
    "    tf.keras.layers.RepeatVector(Y_train.shape[1]),\n",
    "    tf.keras.layers.LSTM(units= 128, activation= \"tanh\", return_sequences= True, dropout= 0.2),\n",
    "    tf.keras.layers.TimeDistributed(tf.keras.layers.Dense(units= 128, activation= \"relu\")),\n",
    "    tf.keras.layers.Dropout(0.2),\n",
    "    tf.keras.layers.TimeDistributed(tf.keras.layers.Dense(units= 1))\n",
    "])\n",
    "\n",
    "model.compile(loss= \"mse\", optimizer= \"adam\",  metrics= ['mape', 'mae'])"
   ]
  },
  {
   "cell_type": "code",
   "execution_count": 20,
   "id": "a05c033a",
   "metadata": {},
   "outputs": [],
   "source": [
    "# model = tf.keras.Sequential([\n",
    "#     tf.keras.layers.LSTM(units= 256, activation= \"tanh\", input_shape= (X_train.shape[1], X_train.shape[2])),\n",
    "#     tf.keras.layers.Dense(units= 128, activation= \"tanh\"),\n",
    "#     tf.keras.layers.Dense(units= 1)\n",
    "# ])\n",
    "\n",
    "# model.compile(loss= \"mse\", optimizer= \"adam\",  metrics= ['mape', 'mae'])"
   ]
  },
  {
   "cell_type": "code",
   "execution_count": 21,
   "id": "c9390383",
   "metadata": {},
   "outputs": [],
   "source": [
    "# Storing the start time of model fitting process\n",
    "startTime = time.time()"
   ]
  },
  {
   "cell_type": "code",
   "execution_count": 22,
   "id": "e526e3ed",
   "metadata": {},
   "outputs": [
    {
     "name": "stdout",
     "output_type": "stream",
     "text": [
      "Epoch 1/100\n",
      "1105/1105 [==============================] - 13s 8ms/step - loss: 0.0137 - mape: 7115.8530 - mae: 0.0902 - val_loss: 0.0088 - val_mape: 49.1574 - val_mae: 0.0741\n",
      "Epoch 2/100\n",
      "1105/1105 [==============================] - 8s 7ms/step - loss: 0.0090 - mape: 6271.5713 - mae: 0.0741 - val_loss: 0.0110 - val_mape: 47.7333 - val_mae: 0.0795\n",
      "Epoch 3/100\n",
      "1105/1105 [==============================] - 8s 7ms/step - loss: 0.0068 - mape: 5672.6392 - mae: 0.0639 - val_loss: 0.0141 - val_mape: 58.4397 - val_mae: 0.0953\n",
      "Epoch 4/100\n",
      "1105/1105 [==============================] - 8s 7ms/step - loss: 0.0062 - mape: 5234.6899 - mae: 0.0608 - val_loss: 0.0104 - val_mape: 48.8504 - val_mae: 0.0775\n",
      "Epoch 5/100\n",
      "1105/1105 [==============================] - 8s 7ms/step - loss: 0.0057 - mape: 5209.0024 - mae: 0.0580 - val_loss: 0.0126 - val_mape: 32.3401 - val_mae: 0.0811\n",
      "Epoch 6/100\n",
      "1105/1105 [==============================] - 8s 7ms/step - loss: 0.0051 - mape: 5514.5122 - mae: 0.0545 - val_loss: 0.0104 - val_mape: 34.1729 - val_mae: 0.0712\n",
      "Epoch 7/100\n",
      "1105/1105 [==============================] - 8s 7ms/step - loss: 0.0048 - mape: 4651.9399 - mae: 0.0529 - val_loss: 0.0084 - val_mape: 43.5088 - val_mae: 0.0699\n",
      "Epoch 8/100\n",
      "1105/1105 [==============================] - 8s 7ms/step - loss: 0.0046 - mape: 4590.6450 - mae: 0.0517 - val_loss: 0.0100 - val_mape: 42.6518 - val_mae: 0.0718\n",
      "Epoch 9/100\n",
      "1105/1105 [==============================] - 8s 7ms/step - loss: 0.0045 - mape: 4500.6450 - mae: 0.0511 - val_loss: 0.0092 - val_mape: 43.2848 - val_mae: 0.0703\n",
      "Epoch 10/100\n",
      "1105/1105 [==============================] - 8s 7ms/step - loss: 0.0043 - mape: 4220.4810 - mae: 0.0499 - val_loss: 0.0101 - val_mape: 36.7874 - val_mae: 0.0709\n",
      "Epoch 11/100\n",
      "1105/1105 [==============================] - 8s 7ms/step - loss: 0.0042 - mape: 4283.9111 - mae: 0.0494 - val_loss: 0.0101 - val_mape: 35.9233 - val_mae: 0.0708\n",
      "Epoch 12/100\n",
      "1105/1105 [==============================] - 8s 7ms/step - loss: 0.0041 - mape: 3954.8962 - mae: 0.0487 - val_loss: 0.0111 - val_mape: 35.6914 - val_mae: 0.0733\n",
      "Epoch 13/100\n",
      "1105/1105 [==============================] - 8s 7ms/step - loss: 0.0040 - mape: 4152.8101 - mae: 0.0481 - val_loss: 0.0085 - val_mape: 38.2625 - val_mae: 0.0658\n",
      "Epoch 14/100\n",
      "1105/1105 [==============================] - 8s 7ms/step - loss: 0.0040 - mape: 3812.6648 - mae: 0.0478 - val_loss: 0.0092 - val_mape: 38.9505 - val_mae: 0.0690\n",
      "Epoch 15/100\n",
      "1105/1105 [==============================] - 8s 7ms/step - loss: 0.0039 - mape: 3705.4011 - mae: 0.0473 - val_loss: 0.0090 - val_mape: 38.7551 - val_mae: 0.0688\n",
      "Epoch 16/100\n",
      "1105/1105 [==============================] - 8s 7ms/step - loss: 0.0038 - mape: 3822.7241 - mae: 0.0469 - val_loss: 0.0086 - val_mape: 32.5914 - val_mae: 0.0654\n",
      "Epoch 17/100\n",
      "1105/1105 [==============================] - 8s 7ms/step - loss: 0.0038 - mape: 3755.8391 - mae: 0.0466 - val_loss: 0.0096 - val_mape: 34.4182 - val_mae: 0.0690\n",
      "Epoch 18/100\n",
      "1105/1105 [==============================] - 8s 7ms/step - loss: 0.0037 - mape: 3836.7654 - mae: 0.0462 - val_loss: 0.0087 - val_mape: 34.1765 - val_mae: 0.0664\n",
      "Epoch 19/100\n",
      "1105/1105 [==============================] - 8s 7ms/step - loss: 0.0037 - mape: 3598.5073 - mae: 0.0461 - val_loss: 0.0088 - val_mape: 38.7019 - val_mae: 0.0664\n",
      "Epoch 20/100\n",
      "1105/1105 [==============================] - 8s 7ms/step - loss: 0.0037 - mape: 3626.1790 - mae: 0.0457 - val_loss: 0.0094 - val_mape: 35.9143 - val_mae: 0.0687\n",
      "Epoch 21/100\n",
      "1105/1105 [==============================] - 8s 7ms/step - loss: 0.0036 - mape: 3781.8313 - mae: 0.0454 - val_loss: 0.0099 - val_mape: 34.6734 - val_mae: 0.0699\n",
      "Epoch 22/100\n",
      "1105/1105 [==============================] - 8s 7ms/step - loss: 0.0036 - mape: 3724.4309 - mae: 0.0451 - val_loss: 0.0089 - val_mape: 32.6650 - val_mae: 0.0671\n",
      "Epoch 23/100\n",
      "1105/1105 [==============================] - 8s 7ms/step - loss: 0.0035 - mape: 3407.4211 - mae: 0.0448 - val_loss: 0.0092 - val_mape: 37.0571 - val_mae: 0.0678\n",
      "Epoch 24/100\n",
      "1105/1105 [==============================] - 8s 8ms/step - loss: 0.0035 - mape: 3370.1797 - mae: 0.0444 - val_loss: 0.0089 - val_mape: 33.3177 - val_mae: 0.0662\n",
      "Epoch 25/100\n",
      "1105/1105 [==============================] - 8s 7ms/step - loss: 0.0034 - mape: 3606.7283 - mae: 0.0442 - val_loss: 0.0102 - val_mape: 31.0315 - val_mae: 0.0726\n",
      "Epoch 26/100\n",
      "1105/1105 [==============================] - 8s 7ms/step - loss: 0.0034 - mape: 3528.5559 - mae: 0.0443 - val_loss: 0.0094 - val_mape: 40.7750 - val_mae: 0.0688\n",
      "Epoch 27/100\n",
      "1105/1105 [==============================] - 9s 8ms/step - loss: 0.0034 - mape: 3529.3738 - mae: 0.0437 - val_loss: 0.0097 - val_mape: 34.7695 - val_mae: 0.0687\n",
      "Epoch 28/100\n",
      "1105/1105 [==============================] - 8s 7ms/step - loss: 0.0033 - mape: 3105.1353 - mae: 0.0432 - val_loss: 0.0092 - val_mape: 35.7489 - val_mae: 0.0671\n",
      "Epoch 29/100\n",
      "1105/1105 [==============================] - 8s 7ms/step - loss: 0.0033 - mape: 3190.0159 - mae: 0.0431 - val_loss: 0.0086 - val_mape: 33.4137 - val_mae: 0.0654\n",
      "Epoch 30/100\n",
      "1105/1105 [==============================] - 8s 7ms/step - loss: 0.0032 - mape: 3139.1606 - mae: 0.0427 - val_loss: 0.0092 - val_mape: 32.9708 - val_mae: 0.0681\n",
      "Epoch 31/100\n",
      "1105/1105 [==============================] - 7s 7ms/step - loss: 0.0032 - mape: 3158.4792 - mae: 0.0426 - val_loss: 0.0088 - val_mape: 33.7173 - val_mae: 0.0674\n",
      "Epoch 32/100\n",
      "1105/1105 [==============================] - 7s 7ms/step - loss: 0.0031 - mape: 3040.9009 - mae: 0.0422 - val_loss: 0.0091 - val_mape: 35.1695 - val_mae: 0.0664\n",
      "Epoch 33/100\n",
      "1105/1105 [==============================] - 8s 7ms/step - loss: 0.0031 - mape: 3438.6648 - mae: 0.0422 - val_loss: 0.0100 - val_mape: 30.2343 - val_mae: 0.0722\n",
      "Epoch 34/100\n",
      "1105/1105 [==============================] - 8s 7ms/step - loss: 0.0031 - mape: 3045.5254 - mae: 0.0417 - val_loss: 0.0094 - val_mape: 32.2932 - val_mae: 0.0688\n",
      "Epoch 35/100\n",
      "1105/1105 [==============================] - 8s 7ms/step - loss: 0.0030 - mape: 2836.4373 - mae: 0.0411 - val_loss: 0.0100 - val_mape: 36.5571 - val_mae: 0.0699\n",
      "Epoch 36/100\n",
      "1105/1105 [==============================] - 8s 7ms/step - loss: 0.0030 - mape: 2829.3999 - mae: 0.0412 - val_loss: 0.0113 - val_mape: 31.6527 - val_mae: 0.0734\n",
      "Epoch 37/100\n",
      "1105/1105 [==============================] - 8s 7ms/step - loss: 0.0029 - mape: 3186.1587 - mae: 0.0407 - val_loss: 0.0100 - val_mape: 31.3366 - val_mae: 0.0703\n",
      "Epoch 38/100\n",
      "1105/1105 [==============================] - 8s 7ms/step - loss: 0.0029 - mape: 2738.7578 - mae: 0.0403 - val_loss: 0.0092 - val_mape: 32.5161 - val_mae: 0.0688\n",
      "Epoch 39/100\n",
      "1105/1105 [==============================] - 8s 7ms/step - loss: 0.0029 - mape: 3072.6885 - mae: 0.0403 - val_loss: 0.0088 - val_mape: 33.2198 - val_mae: 0.0661\n",
      "Epoch 40/100\n",
      "1105/1105 [==============================] - 8s 7ms/step - loss: 0.0028 - mape: 2845.6016 - mae: 0.0397 - val_loss: 0.0105 - val_mape: 32.4584 - val_mae: 0.0735\n",
      "Epoch 41/100\n",
      "1105/1105 [==============================] - 8s 7ms/step - loss: 0.0027 - mape: 3264.0837 - mae: 0.0394 - val_loss: 0.0108 - val_mape: 34.9555 - val_mae: 0.0740\n",
      "Epoch 42/100\n",
      "1105/1105 [==============================] - 8s 7ms/step - loss: 0.0027 - mape: 2725.8889 - mae: 0.0391 - val_loss: 0.0096 - val_mape: 33.0310 - val_mae: 0.0693\n",
      "Epoch 43/100\n",
      "1105/1105 [==============================] - 8s 7ms/step - loss: 0.0026 - mape: 2993.6824 - mae: 0.0386 - val_loss: 0.0104 - val_mape: 32.9167 - val_mae: 0.0723\n",
      "Epoch 44/100\n",
      "1105/1105 [==============================] - 8s 7ms/step - loss: 0.0026 - mape: 2836.3467 - mae: 0.0385 - val_loss: 0.0094 - val_mape: 32.1577 - val_mae: 0.0683\n",
      "Epoch 45/100\n",
      "1105/1105 [==============================] - 8s 7ms/step - loss: 0.0026 - mape: 2961.4434 - mae: 0.0381 - val_loss: 0.0105 - val_mape: 31.6397 - val_mae: 0.0728\n",
      "Epoch 46/100\n",
      "1105/1105 [==============================] - 8s 7ms/step - loss: 0.0025 - mape: 2688.3689 - mae: 0.0378 - val_loss: 0.0094 - val_mape: 34.0278 - val_mae: 0.0689\n",
      "Epoch 47/100\n",
      "1105/1105 [==============================] - 8s 7ms/step - loss: 0.0025 - mape: 2418.1013 - mae: 0.0374 - val_loss: 0.0097 - val_mape: 33.1424 - val_mae: 0.0683\n",
      "Epoch 48/100\n"
     ]
    },
    {
     "name": "stdout",
     "output_type": "stream",
     "text": [
      "1105/1105 [==============================] - 8s 7ms/step - loss: 0.0025 - mape: 2735.2952 - mae: 0.0373 - val_loss: 0.0090 - val_mape: 34.8220 - val_mae: 0.0664\n",
      "Epoch 49/100\n",
      "1105/1105 [==============================] - 10s 9ms/step - loss: 0.0024 - mape: 2433.3291 - mae: 0.0370 - val_loss: 0.0086 - val_mape: 34.7846 - val_mae: 0.0660\n",
      "Epoch 50/100\n",
      "1105/1105 [==============================] - 11s 10ms/step - loss: 0.0024 - mape: 2596.8398 - mae: 0.0365 - val_loss: 0.0104 - val_mape: 30.8119 - val_mae: 0.0711\n",
      "Epoch 51/100\n",
      "1105/1105 [==============================] - 10s 9ms/step - loss: 0.0023 - mape: 2311.4194 - mae: 0.0361 - val_loss: 0.0091 - val_mape: 33.1080 - val_mae: 0.0668\n",
      "Epoch 52/100\n",
      "1105/1105 [==============================] - 9s 8ms/step - loss: 0.0023 - mape: 2214.0381 - mae: 0.0360 - val_loss: 0.0091 - val_mape: 35.6392 - val_mae: 0.0672\n",
      "Epoch 53/100\n",
      "1105/1105 [==============================] - 8s 7ms/step - loss: 0.0023 - mape: 2571.2671 - mae: 0.0357 - val_loss: 0.0102 - val_mape: 29.0203 - val_mae: 0.0718\n",
      "Epoch 54/100\n",
      "1105/1105 [==============================] - 8s 7ms/step - loss: 0.0022 - mape: 2283.4521 - mae: 0.0353 - val_loss: 0.0112 - val_mape: 30.2603 - val_mae: 0.0740\n",
      "Epoch 55/100\n",
      "1105/1105 [==============================] - 8s 7ms/step - loss: 0.0022 - mape: 2645.4937 - mae: 0.0351 - val_loss: 0.0103 - val_mape: 36.2653 - val_mae: 0.0715\n",
      "Epoch 56/100\n",
      "1105/1105 [==============================] - 8s 7ms/step - loss: 0.0021 - mape: 2061.3081 - mae: 0.0345 - val_loss: 0.0091 - val_mape: 35.2211 - val_mae: 0.0670\n",
      "Epoch 57/100\n",
      "1105/1105 [==============================] - 8s 7ms/step - loss: 0.0021 - mape: 2141.3853 - mae: 0.0342 - val_loss: 0.0096 - val_mape: 32.8678 - val_mae: 0.0687\n",
      "Epoch 58/100\n",
      "1105/1105 [==============================] - 8s 7ms/step - loss: 0.0021 - mape: 2265.7124 - mae: 0.0344 - val_loss: 0.0096 - val_mape: 34.4839 - val_mae: 0.0687\n",
      "Epoch 59/100\n",
      "1105/1105 [==============================] - 8s 7ms/step - loss: 0.0020 - mape: 1895.6823 - mae: 0.0337 - val_loss: 0.0090 - val_mape: 35.7300 - val_mae: 0.0671\n",
      "Epoch 60/100\n",
      "1105/1105 [==============================] - 8s 7ms/step - loss: 0.0020 - mape: 2146.2966 - mae: 0.0336 - val_loss: 0.0098 - val_mape: 38.7892 - val_mae: 0.0700\n",
      "Epoch 61/100\n",
      "1105/1105 [==============================] - 8s 7ms/step - loss: 0.0020 - mape: 2117.9753 - mae: 0.0334 - val_loss: 0.0091 - val_mape: 38.1727 - val_mae: 0.0680\n",
      "Epoch 62/100\n",
      "1105/1105 [==============================] - 8s 7ms/step - loss: 0.0019 - mape: 2555.4783 - mae: 0.0332 - val_loss: 0.0095 - val_mape: 34.0353 - val_mae: 0.0677\n",
      "Epoch 63/100\n",
      "1105/1105 [==============================] - 8s 7ms/step - loss: 0.0019 - mape: 2066.1841 - mae: 0.0328 - val_loss: 0.0093 - val_mape: 37.7292 - val_mae: 0.0684\n",
      "Epoch 64/100\n",
      "1105/1105 [==============================] - 8s 7ms/step - loss: 0.0019 - mape: 1865.8085 - mae: 0.0325 - val_loss: 0.0099 - val_mape: 35.3299 - val_mae: 0.0706\n",
      "Epoch 65/100\n",
      "1105/1105 [==============================] - 8s 7ms/step - loss: 0.0018 - mape: 1987.1532 - mae: 0.0322 - val_loss: 0.0105 - val_mape: 37.9584 - val_mae: 0.0724\n",
      "Epoch 66/100\n",
      "1105/1105 [==============================] - 8s 7ms/step - loss: 0.0018 - mape: 1677.5601 - mae: 0.0319 - val_loss: 0.0117 - val_mape: 35.7153 - val_mae: 0.0773\n",
      "Epoch 67/100\n",
      "1105/1105 [==============================] - 8s 7ms/step - loss: 0.0018 - mape: 2025.0590 - mae: 0.0316 - val_loss: 0.0105 - val_mape: 34.5241 - val_mae: 0.0725\n",
      "Epoch 68/100\n",
      "1105/1105 [==============================] - 8s 7ms/step - loss: 0.0018 - mape: 1629.8724 - mae: 0.0317 - val_loss: 0.0107 - val_mape: 37.9429 - val_mae: 0.0729\n",
      "Epoch 69/100\n",
      "1105/1105 [==============================] - 8s 7ms/step - loss: 0.0017 - mape: 2074.6902 - mae: 0.0314 - val_loss: 0.0099 - val_mape: 40.0819 - val_mae: 0.0703\n",
      "Epoch 70/100\n",
      "1105/1105 [==============================] - 8s 7ms/step - loss: 0.0017 - mape: 1752.2587 - mae: 0.0311 - val_loss: 0.0106 - val_mape: 36.4029 - val_mae: 0.0732\n",
      "Epoch 71/100\n",
      "1105/1105 [==============================] - 8s 7ms/step - loss: 0.0017 - mape: 1561.4144 - mae: 0.0309 - val_loss: 0.0098 - val_mape: 38.0610 - val_mae: 0.0693\n",
      "Epoch 72/100\n",
      "1105/1105 [==============================] - 8s 7ms/step - loss: 0.0016 - mape: 1505.1351 - mae: 0.0306 - val_loss: 0.0106 - val_mape: 38.5525 - val_mae: 0.0724\n",
      "Epoch 73/100\n",
      "1105/1105 [==============================] - 8s 7ms/step - loss: 0.0017 - mape: 1606.2952 - mae: 0.0307 - val_loss: 0.0101 - val_mape: 36.2980 - val_mae: 0.0708\n",
      "Epoch 74/100\n",
      "1105/1105 [==============================] - 8s 7ms/step - loss: 0.0016 - mape: 1599.3589 - mae: 0.0299 - val_loss: 0.0107 - val_mape: 34.0359 - val_mae: 0.0726\n",
      "Epoch 75/100\n",
      "1105/1105 [==============================] - 8s 7ms/step - loss: 0.0016 - mape: 1658.1832 - mae: 0.0299 - val_loss: 0.0106 - val_mape: 37.0514 - val_mae: 0.0724\n",
      "Epoch 76/100\n",
      "1105/1105 [==============================] - 8s 7ms/step - loss: 0.0016 - mape: 1801.5739 - mae: 0.0297 - val_loss: 0.0096 - val_mape: 37.0284 - val_mae: 0.0689\n",
      "Epoch 77/100\n",
      "1105/1105 [==============================] - 8s 7ms/step - loss: 0.0016 - mape: 1728.4392 - mae: 0.0297 - val_loss: 0.0098 - val_mape: 34.3800 - val_mae: 0.0695\n",
      "Epoch 78/100\n",
      "1105/1105 [==============================] - 8s 7ms/step - loss: 0.0015 - mape: 1672.0286 - mae: 0.0293 - val_loss: 0.0114 - val_mape: 36.3504 - val_mae: 0.0757\n",
      "Epoch 79/100\n",
      "1105/1105 [==============================] - 8s 7ms/step - loss: 0.0015 - mape: 1463.5933 - mae: 0.0293 - val_loss: 0.0094 - val_mape: 36.2240 - val_mae: 0.0680\n",
      "Epoch 80/100\n",
      "1105/1105 [==============================] - 8s 7ms/step - loss: 0.0015 - mape: 1780.6384 - mae: 0.0288 - val_loss: 0.0113 - val_mape: 37.2515 - val_mae: 0.0744\n",
      "Epoch 81/100\n",
      "1105/1105 [==============================] - 8s 7ms/step - loss: 0.0015 - mape: 1466.0919 - mae: 0.0287 - val_loss: 0.0096 - val_mape: 39.2899 - val_mae: 0.0694\n",
      "Epoch 82/100\n",
      "1105/1105 [==============================] - 8s 7ms/step - loss: 0.0014 - mape: 1485.4673 - mae: 0.0285 - val_loss: 0.0098 - val_mape: 40.2467 - val_mae: 0.0699\n",
      "Epoch 83/100\n",
      "1105/1105 [==============================] - 8s 7ms/step - loss: 0.0014 - mape: 1532.7552 - mae: 0.0284 - val_loss: 0.0097 - val_mape: 39.1954 - val_mae: 0.0693\n",
      "Epoch 84/100\n",
      "1105/1105 [==============================] - 8s 7ms/step - loss: 0.0014 - mape: 1379.7053 - mae: 0.0282 - val_loss: 0.0096 - val_mape: 42.0602 - val_mae: 0.0686\n",
      "Epoch 85/100\n",
      "1105/1105 [==============================] - 8s 7ms/step - loss: 0.0014 - mape: 1681.1689 - mae: 0.0280 - val_loss: 0.0095 - val_mape: 39.5957 - val_mae: 0.0695\n",
      "Epoch 86/100\n",
      "1105/1105 [==============================] - 8s 7ms/step - loss: 0.0014 - mape: 1552.2173 - mae: 0.0279 - val_loss: 0.0102 - val_mape: 36.9520 - val_mae: 0.0719\n",
      "Epoch 87/100\n",
      "1105/1105 [==============================] - 8s 7ms/step - loss: 0.0014 - mape: 1760.5105 - mae: 0.0277 - val_loss: 0.0103 - val_mape: 37.6519 - val_mae: 0.0709\n",
      "Epoch 88/100\n",
      "1105/1105 [==============================] - 8s 7ms/step - loss: 0.0013 - mape: 1614.6945 - mae: 0.0275 - val_loss: 0.0097 - val_mape: 37.6455 - val_mae: 0.0691\n",
      "Epoch 89/100\n",
      "1105/1105 [==============================] - 8s 7ms/step - loss: 0.0013 - mape: 1442.2456 - mae: 0.0273 - val_loss: 0.0100 - val_mape: 38.9429 - val_mae: 0.0702\n",
      "Epoch 90/100\n",
      "1105/1105 [==============================] - 8s 7ms/step - loss: 0.0013 - mape: 1908.5575 - mae: 0.0272 - val_loss: 0.0096 - val_mape: 37.9945 - val_mae: 0.0688\n",
      "Epoch 91/100\n",
      "1105/1105 [==============================] - 8s 7ms/step - loss: 0.0013 - mape: 1486.2593 - mae: 0.0271 - val_loss: 0.0097 - val_mape: 37.5657 - val_mae: 0.0689\n",
      "Epoch 92/100\n",
      "1105/1105 [==============================] - 8s 7ms/step - loss: 0.0013 - mape: 1651.9187 - mae: 0.0273 - val_loss: 0.0092 - val_mape: 40.2124 - val_mae: 0.0682\n",
      "Epoch 93/100\n",
      "1105/1105 [==============================] - 8s 7ms/step - loss: 0.0013 - mape: 1833.1074 - mae: 0.0267 - val_loss: 0.0102 - val_mape: 37.5212 - val_mae: 0.0707\n",
      "Epoch 94/100\n",
      "1105/1105 [==============================] - 8s 7ms/step - loss: 0.0013 - mape: 1575.3722 - mae: 0.0268 - val_loss: 0.0094 - val_mape: 37.1104 - val_mae: 0.0684\n",
      "Epoch 95/100\n"
     ]
    },
    {
     "name": "stdout",
     "output_type": "stream",
     "text": [
      "1105/1105 [==============================] - 8s 7ms/step - loss: 0.0012 - mape: 1408.7760 - mae: 0.0266 - val_loss: 0.0091 - val_mape: 39.0452 - val_mae: 0.0676\n",
      "Epoch 96/100\n",
      "1105/1105 [==============================] - 8s 7ms/step - loss: 0.0012 - mape: 1354.5393 - mae: 0.0264 - val_loss: 0.0092 - val_mape: 37.4003 - val_mae: 0.0678\n",
      "Epoch 97/100\n",
      "1105/1105 [==============================] - 8s 7ms/step - loss: 0.0012 - mape: 1350.4897 - mae: 0.0266 - val_loss: 0.0101 - val_mape: 37.6298 - val_mae: 0.0715\n",
      "Epoch 98/100\n",
      "1105/1105 [==============================] - 8s 7ms/step - loss: 0.0012 - mape: 1607.4589 - mae: 0.0259 - val_loss: 0.0099 - val_mape: 37.6644 - val_mae: 0.0705\n",
      "Epoch 99/100\n",
      "1105/1105 [==============================] - 8s 7ms/step - loss: 0.0012 - mape: 1546.8667 - mae: 0.0258 - val_loss: 0.0090 - val_mape: 38.8431 - val_mae: 0.0674\n",
      "Epoch 100/100\n",
      "1105/1105 [==============================] - 8s 8ms/step - loss: 0.0012 - mape: 1503.2905 - mae: 0.0258 - val_loss: 0.0097 - val_mape: 39.2973 - val_mae: 0.0701\n"
     ]
    },
    {
     "data": {
      "text/plain": [
       "<keras.callbacks.History at 0x1e022af12e0>"
      ]
     },
     "execution_count": 22,
     "metadata": {},
     "output_type": "execute_result"
    }
   ],
   "source": [
    "model.fit(X_train, Y_train, epochs= epochs, batch_size= batchSize, verbose= 1, shuffle= True, validation_data= (X_valid, Y_valid))"
   ]
  },
  {
   "cell_type": "code",
   "execution_count": 23,
   "id": "cd839153",
   "metadata": {},
   "outputs": [
    {
     "name": "stdout",
     "output_type": "stream",
     "text": [
      "Total execution time in seconds: 812.6091666221619\n"
     ]
    }
   ],
   "source": [
    "calcExecTime = (time.time() - startTime)\n",
    "print('Total execution time in seconds: ' + str(calcExecTime))"
   ]
  },
  {
   "cell_type": "markdown",
   "id": "72aafa74",
   "metadata": {},
   "source": [
    "### MAKING PREDICTIONS AND GENERATING RESULTS"
   ]
  },
  {
   "cell_type": "code",
   "execution_count": 24,
   "id": "259bfb49",
   "metadata": {},
   "outputs": [
    {
     "name": "stdout",
     "output_type": "stream",
     "text": [
      "6/6 [==============================] - 1s 6ms/step\n"
     ]
    }
   ],
   "source": [
    "predictions = model.predict(X_test)"
   ]
  },
  {
   "cell_type": "code",
   "execution_count": 25,
   "id": "2912d431",
   "metadata": {},
   "outputs": [
    {
     "data": {
      "text/plain": [
       "array([0.2799341 , 0.23662221, 0.21669614, ..., 0.42282987, 0.38114357,\n",
       "       0.33922747], dtype=float32)"
      ]
     },
     "execution_count": 25,
     "metadata": {},
     "output_type": "execute_result"
    }
   ],
   "source": [
    "predArr = predictions.reshape(predictions.shape[0] * predictions.shape[1], predictions.shape[2]).ravel()\n",
    "predArr"
   ]
  },
  {
   "cell_type": "code",
   "execution_count": 26,
   "id": "b01889f2",
   "metadata": {},
   "outputs": [
    {
     "data": {
      "text/plain": [
       "array([0.44718243, 0.40340449, 0.37590709, ..., 0.38274799, 0.35681528,\n",
       "       0.33305307])"
      ]
     },
     "execution_count": 26,
     "metadata": {},
     "output_type": "execute_result"
    }
   ],
   "source": [
    "Y_testArr = Y_test.reshape(Y_test.shape[0] * Y_test.shape[1], Y_test.shape[2]).ravel()\n",
    "Y_testArr"
   ]
  },
  {
   "cell_type": "code",
   "execution_count": 27,
   "id": "799c97e8",
   "metadata": {},
   "outputs": [],
   "source": [
    "def inverse_transform(df):\n",
    "    column_names = df.columns\n",
    "    for col in column_names:\n",
    "        df[col] = ValScaler.inverse_transform(df[[col]]) \n",
    "    return df"
   ]
  },
  {
   "cell_type": "code",
   "execution_count": 28,
   "id": "afa81e30",
   "metadata": {},
   "outputs": [
    {
     "data": {
      "text/html": [
       "<div>\n",
       "<style scoped>\n",
       "    .dataframe tbody tr th:only-of-type {\n",
       "        vertical-align: middle;\n",
       "    }\n",
       "\n",
       "    .dataframe tbody tr th {\n",
       "        vertical-align: top;\n",
       "    }\n",
       "\n",
       "    .dataframe thead th {\n",
       "        text-align: right;\n",
       "    }\n",
       "</style>\n",
       "<table border=\"1\" class=\"dataframe\">\n",
       "  <thead>\n",
       "    <tr style=\"text-align: right;\">\n",
       "      <th></th>\n",
       "      <th>Values</th>\n",
       "      <th>Predictions</th>\n",
       "    </tr>\n",
       "  </thead>\n",
       "  <tbody>\n",
       "    <tr>\n",
       "      <th>0</th>\n",
       "      <td>32377.575</td>\n",
       "      <td>25124.642578</td>\n",
       "    </tr>\n",
       "    <tr>\n",
       "      <th>1</th>\n",
       "      <td>30479.090</td>\n",
       "      <td>23246.369141</td>\n",
       "    </tr>\n",
       "    <tr>\n",
       "      <th>2</th>\n",
       "      <td>29286.631</td>\n",
       "      <td>22382.250000</td>\n",
       "    </tr>\n",
       "    <tr>\n",
       "      <th>3</th>\n",
       "      <td>28585.638</td>\n",
       "      <td>22154.300781</td>\n",
       "    </tr>\n",
       "    <tr>\n",
       "      <th>4</th>\n",
       "      <td>28604.834</td>\n",
       "      <td>22210.740234</td>\n",
       "    </tr>\n",
       "    <tr>\n",
       "      <th>...</th>\n",
       "      <td>...</td>\n",
       "      <td>...</td>\n",
       "    </tr>\n",
       "    <tr>\n",
       "      <th>4363</th>\n",
       "      <td>31844.076</td>\n",
       "      <td>32681.595703</td>\n",
       "    </tr>\n",
       "    <tr>\n",
       "      <th>4364</th>\n",
       "      <td>30687.078</td>\n",
       "      <td>32368.062500</td>\n",
       "    </tr>\n",
       "    <tr>\n",
       "      <th>4365</th>\n",
       "      <td>29583.295</td>\n",
       "      <td>31321.496094</td>\n",
       "    </tr>\n",
       "    <tr>\n",
       "      <th>4366</th>\n",
       "      <td>28458.691</td>\n",
       "      <td>29513.716797</td>\n",
       "    </tr>\n",
       "    <tr>\n",
       "      <th>4367</th>\n",
       "      <td>27428.213</td>\n",
       "      <td>27695.974609</td>\n",
       "    </tr>\n",
       "  </tbody>\n",
       "</table>\n",
       "<p>4368 rows × 2 columns</p>\n",
       "</div>"
      ],
      "text/plain": [
       "         Values   Predictions\n",
       "0     32377.575  25124.642578\n",
       "1     30479.090  23246.369141\n",
       "2     29286.631  22382.250000\n",
       "3     28585.638  22154.300781\n",
       "4     28604.834  22210.740234\n",
       "...         ...           ...\n",
       "4363  31844.076  32681.595703\n",
       "4364  30687.078  32368.062500\n",
       "4365  29583.295  31321.496094\n",
       "4366  28458.691  29513.716797\n",
       "4367  27428.213  27695.974609\n",
       "\n",
       "[4368 rows x 2 columns]"
      ]
     },
     "execution_count": 28,
     "metadata": {},
     "output_type": "execute_result"
    }
   ],
   "source": [
    "comparisionDf = pd.DataFrame(data= {\"Values\": Y_testArr, \"Predictions\": predArr})\n",
    "comparisionDf = inverse_transform(comparisionDf)\n",
    "comparisionDf"
   ]
  },
  {
   "cell_type": "code",
   "execution_count": 29,
   "id": "88222bae",
   "metadata": {},
   "outputs": [
    {
     "data": {
      "text/plain": [
       "8.56913053385808"
      ]
     },
     "execution_count": 29,
     "metadata": {},
     "output_type": "execute_result"
    }
   ],
   "source": [
    "mape(comparisionDf[\"Values\"], comparisionDf[\"Predictions\"])"
   ]
  }
 ],
 "metadata": {
  "kernelspec": {
   "display_name": "Python 3 (ipykernel)",
   "language": "python",
   "name": "python3"
  },
  "language_info": {
   "codemirror_mode": {
    "name": "ipython",
    "version": 3
   },
   "file_extension": ".py",
   "mimetype": "text/x-python",
   "name": "python",
   "nbconvert_exporter": "python",
   "pygments_lexer": "ipython3",
   "version": "3.9.12"
  }
 },
 "nbformat": 4,
 "nbformat_minor": 5
}
