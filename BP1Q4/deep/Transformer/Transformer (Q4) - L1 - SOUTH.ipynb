{
 "cells": [
  {
   "cell_type": "code",
   "execution_count": 1,
   "id": "354fb2e6",
   "metadata": {},
   "outputs": [
    {
     "name": "stdout",
     "output_type": "stream",
     "text": [
      "Using device cuda:0\n"
     ]
    }
   ],
   "source": [
    "# Importing the required libraries\n",
    "import datetime\n",
    "import os\n",
    "import numpy as np\n",
    "import pandas as pd\n",
    "from matplotlib import pyplot as plt\n",
    "from tqdm import tqdm\n",
    "import seaborn as sns\n",
    "from sklearn.preprocessing import MinMaxScaler, RobustScaler, StandardScaler\n",
    "import time\n",
    "\n",
    "import torch\n",
    "import torch.nn as nn\n",
    "import torch.optim as optim\n",
    "from torch.utils.data import DataLoader, random_split, TensorDataset\n",
    "\n",
    "from doe import Transformer\n",
    "from doe.utils_loss import compute_loss\n",
    "\n",
    "# Training device check-up\n",
    "device = torch.device(\"cuda:0\" if torch.cuda.is_available() else \"cpu\")\n",
    "print(f\"Using device {device}\")\n",
    "\n",
    "# Defining DOE custom mape formula\n",
    "def mape(y_true, y_pred):\n",
    "    y_true, y_pred = np.array(y_true), np.array(y_pred)\n",
    "    return np.mean(np.abs((y_true - y_pred) / max(y_true))) * 100"
   ]
  },
  {
   "cell_type": "code",
   "execution_count": 2,
   "id": "54501761",
   "metadata": {},
   "outputs": [],
   "source": [
    "# Setting the parameters and hyperparameters\n",
    "BATCH_SIZE = 8  #128#64#8\n",
    "NUM_WORKERS = 0\n",
    "LR = 2e-4\n",
    "EPOCHS = 10\n",
    "\n",
    "\n",
    "# Setting model parameters\n",
    "d_model = 64 # Latent dimension\n",
    "q = 8 # Query and Key dimensions\n",
    "v = 8 # Value dimension\n",
    "h = 8 # Number of heads\n",
    "N = 4 # Number of stacked encoder and decoder layers\n",
    "\n",
    "attention_size = 24 # Attention window\n",
    "dropout = 0.2 # Dropout rate\n",
    "pe = 'regular' # Positional encoding used\n",
    "chunk_mode = None # Default -> MultiHeadAttention\n",
    "\n",
    "\n",
    "# Setting the input and output of the model\n",
    "d_input = 3  \n",
    "d_output = 1 \n",
    "\n",
    "# Making directories to store values\n",
    "if not os.path.exists(\"logs\"):\n",
    "    os.mkdir(\"logs\")\n",
    "if not os.path.exists(\"models\"):\n",
    "    os.mkdir(\"models\")"
   ]
  },
  {
   "cell_type": "markdown",
   "id": "1b89bd47",
   "metadata": {},
   "source": [
    "## LOADING AND PROCESSING DATA"
   ]
  },
  {
   "cell_type": "code",
   "execution_count": 3,
   "id": "b9809e6a",
   "metadata": {},
   "outputs": [
    {
     "name": "stdout",
     "output_type": "stream",
     "text": [
      "['MIDATL.csv', 'SOUTH.csv', 'WEST.csv']\n"
     ]
    }
   ],
   "source": [
    "# Specifying the path of file\n",
    "path= r\"C:\\Users\\sashah8\\OneDrive - North Carolina State University\\Desktop\\Q4\\Data\\L1\\data_cleaned\"\n",
    "\n",
    "# Listing just the required files\n",
    "fileList = os.listdir(path)\n",
    "fileList.remove(\"Date.csv\")\n",
    "\n",
    "# Previewing the required file names\n",
    "print(fileList)"
   ]
  },
  {
   "cell_type": "code",
   "execution_count": 4,
   "id": "7ac5ab48",
   "metadata": {},
   "outputs": [
    {
     "data": {
      "text/html": [
       "<div>\n",
       "<style scoped>\n",
       "    .dataframe tbody tr th:only-of-type {\n",
       "        vertical-align: middle;\n",
       "    }\n",
       "\n",
       "    .dataframe tbody tr th {\n",
       "        vertical-align: top;\n",
       "    }\n",
       "\n",
       "    .dataframe thead th {\n",
       "        text-align: right;\n",
       "    }\n",
       "</style>\n",
       "<table border=\"1\" class=\"dataframe\">\n",
       "  <thead>\n",
       "    <tr style=\"text-align: right;\">\n",
       "      <th></th>\n",
       "      <th>Net</th>\n",
       "      <th>Temperature</th>\n",
       "    </tr>\n",
       "  </thead>\n",
       "  <tbody>\n",
       "    <tr>\n",
       "      <th>0</th>\n",
       "      <td>12571.309</td>\n",
       "      <td>0.5</td>\n",
       "    </tr>\n",
       "    <tr>\n",
       "      <th>1</th>\n",
       "      <td>12449.182</td>\n",
       "      <td>0.1</td>\n",
       "    </tr>\n",
       "    <tr>\n",
       "      <th>2</th>\n",
       "      <td>12295.476</td>\n",
       "      <td>-0.5</td>\n",
       "    </tr>\n",
       "    <tr>\n",
       "      <th>3</th>\n",
       "      <td>12354.318</td>\n",
       "      <td>-0.7</td>\n",
       "    </tr>\n",
       "    <tr>\n",
       "      <th>4</th>\n",
       "      <td>12542.606</td>\n",
       "      <td>-0.7</td>\n",
       "    </tr>\n",
       "    <tr>\n",
       "      <th>...</th>\n",
       "      <td>...</td>\n",
       "      <td>...</td>\n",
       "    </tr>\n",
       "    <tr>\n",
       "      <th>43819</th>\n",
       "      <td>11682.100</td>\n",
       "      <td>9.9</td>\n",
       "    </tr>\n",
       "    <tr>\n",
       "      <th>43820</th>\n",
       "      <td>11442.870</td>\n",
       "      <td>10.2</td>\n",
       "    </tr>\n",
       "    <tr>\n",
       "      <th>43821</th>\n",
       "      <td>11166.770</td>\n",
       "      <td>9.6</td>\n",
       "    </tr>\n",
       "    <tr>\n",
       "      <th>43822</th>\n",
       "      <td>10838.550</td>\n",
       "      <td>9.0</td>\n",
       "    </tr>\n",
       "    <tr>\n",
       "      <th>43823</th>\n",
       "      <td>10592.674</td>\n",
       "      <td>8.4</td>\n",
       "    </tr>\n",
       "  </tbody>\n",
       "</table>\n",
       "<p>43824 rows × 2 columns</p>\n",
       "</div>"
      ],
      "text/plain": [
       "             Net  Temperature\n",
       "0      12571.309          0.5\n",
       "1      12449.182          0.1\n",
       "2      12295.476         -0.5\n",
       "3      12354.318         -0.7\n",
       "4      12542.606         -0.7\n",
       "...          ...          ...\n",
       "43819  11682.100          9.9\n",
       "43820  11442.870         10.2\n",
       "43821  11166.770          9.6\n",
       "43822  10838.550          9.0\n",
       "43823  10592.674          8.4\n",
       "\n",
       "[43824 rows x 2 columns]"
      ]
     },
     "execution_count": 4,
     "metadata": {},
     "output_type": "execute_result"
    }
   ],
   "source": [
    "# Just for previewing the columns\n",
    "pd.read_csv(os.path.join(path, fileList[1]))"
   ]
  },
  {
   "cell_type": "code",
   "execution_count": 5,
   "id": "2d0dbfe8",
   "metadata": {},
   "outputs": [
    {
     "data": {
      "text/html": [
       "<div>\n",
       "<style scoped>\n",
       "    .dataframe tbody tr th:only-of-type {\n",
       "        vertical-align: middle;\n",
       "    }\n",
       "\n",
       "    .dataframe tbody tr th {\n",
       "        vertical-align: top;\n",
       "    }\n",
       "\n",
       "    .dataframe thead th {\n",
       "        text-align: right;\n",
       "    }\n",
       "</style>\n",
       "<table border=\"1\" class=\"dataframe\">\n",
       "  <thead>\n",
       "    <tr style=\"text-align: right;\">\n",
       "      <th></th>\n",
       "      <th>Load_SOUTH</th>\n",
       "      <th>Temp_SOUTH</th>\n",
       "    </tr>\n",
       "  </thead>\n",
       "  <tbody>\n",
       "    <tr>\n",
       "      <th>0</th>\n",
       "      <td>12571.309</td>\n",
       "      <td>0.5</td>\n",
       "    </tr>\n",
       "    <tr>\n",
       "      <th>1</th>\n",
       "      <td>12449.182</td>\n",
       "      <td>0.1</td>\n",
       "    </tr>\n",
       "    <tr>\n",
       "      <th>2</th>\n",
       "      <td>12295.476</td>\n",
       "      <td>-0.5</td>\n",
       "    </tr>\n",
       "    <tr>\n",
       "      <th>3</th>\n",
       "      <td>12354.318</td>\n",
       "      <td>-0.7</td>\n",
       "    </tr>\n",
       "    <tr>\n",
       "      <th>4</th>\n",
       "      <td>12542.606</td>\n",
       "      <td>-0.7</td>\n",
       "    </tr>\n",
       "    <tr>\n",
       "      <th>...</th>\n",
       "      <td>...</td>\n",
       "      <td>...</td>\n",
       "    </tr>\n",
       "    <tr>\n",
       "      <th>43819</th>\n",
       "      <td>11682.100</td>\n",
       "      <td>9.9</td>\n",
       "    </tr>\n",
       "    <tr>\n",
       "      <th>43820</th>\n",
       "      <td>11442.870</td>\n",
       "      <td>10.2</td>\n",
       "    </tr>\n",
       "    <tr>\n",
       "      <th>43821</th>\n",
       "      <td>11166.770</td>\n",
       "      <td>9.6</td>\n",
       "    </tr>\n",
       "    <tr>\n",
       "      <th>43822</th>\n",
       "      <td>10838.550</td>\n",
       "      <td>9.0</td>\n",
       "    </tr>\n",
       "    <tr>\n",
       "      <th>43823</th>\n",
       "      <td>10592.674</td>\n",
       "      <td>8.4</td>\n",
       "    </tr>\n",
       "  </tbody>\n",
       "</table>\n",
       "<p>43824 rows × 2 columns</p>\n",
       "</div>"
      ],
      "text/plain": [
       "       Load_SOUTH  Temp_SOUTH\n",
       "0       12571.309         0.5\n",
       "1       12449.182         0.1\n",
       "2       12295.476        -0.5\n",
       "3       12354.318        -0.7\n",
       "4       12542.606        -0.7\n",
       "...           ...         ...\n",
       "43819   11682.100         9.9\n",
       "43820   11442.870        10.2\n",
       "43821   11166.770         9.6\n",
       "43822   10838.550         9.0\n",
       "43823   10592.674         8.4\n",
       "\n",
       "[43824 rows x 2 columns]"
      ]
     },
     "execution_count": 5,
     "metadata": {},
     "output_type": "execute_result"
    }
   ],
   "source": [
    "# Restricting the load data to a single zone\n",
    "fileName  = fileList[1]\n",
    "\n",
    "zoneData = pd.read_csv(os.path.join(path, fileName))\n",
    "zoneData.columns = [\"Load_\"+str(fileName[:-4]), \"Temp_\"+str(fileName[:-4])]\n",
    "\n",
    "# For fixing one missing row\n",
    "# zoneData = pd.concat([zoneData.loc[[0]], zoneData], axis= 0).reset_index(drop= True)\n",
    "\n",
    "zoneData"
   ]
  },
  {
   "cell_type": "code",
   "execution_count": 6,
   "id": "6de9194e",
   "metadata": {},
   "outputs": [],
   "source": [
    "def lagGenerator(dF, lagList):\n",
    "    dF_temp = dF.filter(regex= \"Load\").copy()\n",
    "    \n",
    "    for i in lagList:\n",
    "        dF_temp.loc[:, \"Lag-\" + str(i)] = dF_temp.iloc[:,[0]].shift(i*24)\n",
    "    \n",
    "    return(dF_temp.filter(regex= \"Lag\"))"
   ]
  },
  {
   "cell_type": "code",
   "execution_count": 7,
   "id": "15fa9fa0",
   "metadata": {},
   "outputs": [
    {
     "data": {
      "text/html": [
       "<div>\n",
       "<style scoped>\n",
       "    .dataframe tbody tr th:only-of-type {\n",
       "        vertical-align: middle;\n",
       "    }\n",
       "\n",
       "    .dataframe tbody tr th {\n",
       "        vertical-align: top;\n",
       "    }\n",
       "\n",
       "    .dataframe thead th {\n",
       "        text-align: right;\n",
       "    }\n",
       "</style>\n",
       "<table border=\"1\" class=\"dataframe\">\n",
       "  <thead>\n",
       "    <tr style=\"text-align: right;\">\n",
       "      <th></th>\n",
       "      <th>Lag-2</th>\n",
       "      <th>Lag-7</th>\n",
       "    </tr>\n",
       "  </thead>\n",
       "  <tbody>\n",
       "    <tr>\n",
       "      <th>0</th>\n",
       "      <td>NaN</td>\n",
       "      <td>NaN</td>\n",
       "    </tr>\n",
       "    <tr>\n",
       "      <th>1</th>\n",
       "      <td>NaN</td>\n",
       "      <td>NaN</td>\n",
       "    </tr>\n",
       "  </tbody>\n",
       "</table>\n",
       "</div>"
      ],
      "text/plain": [
       "   Lag-2  Lag-7\n",
       "0    NaN    NaN\n",
       "1    NaN    NaN"
      ]
     },
     "execution_count": 7,
     "metadata": {},
     "output_type": "execute_result"
    }
   ],
   "source": [
    "Load_lags = lagGenerator(dF=zoneData, lagList=[2,7])\n",
    "Load_lags.head(2)"
   ]
  },
  {
   "cell_type": "code",
   "execution_count": 8,
   "id": "88cedc37",
   "metadata": {},
   "outputs": [
    {
     "data": {
      "text/html": [
       "<div>\n",
       "<style scoped>\n",
       "    .dataframe tbody tr th:only-of-type {\n",
       "        vertical-align: middle;\n",
       "    }\n",
       "\n",
       "    .dataframe tbody tr th {\n",
       "        vertical-align: top;\n",
       "    }\n",
       "\n",
       "    .dataframe thead th {\n",
       "        text-align: right;\n",
       "    }\n",
       "</style>\n",
       "<table border=\"1\" class=\"dataframe\">\n",
       "  <thead>\n",
       "    <tr style=\"text-align: right;\">\n",
       "      <th></th>\n",
       "      <th>Load_SOUTH</th>\n",
       "      <th>Temp_SOUTH</th>\n",
       "      <th>Lag-2</th>\n",
       "      <th>Lag-7</th>\n",
       "    </tr>\n",
       "  </thead>\n",
       "  <tbody>\n",
       "    <tr>\n",
       "      <th>0</th>\n",
       "      <td>16801.433</td>\n",
       "      <td>-11.0</td>\n",
       "      <td>11653.532</td>\n",
       "      <td>12571.309</td>\n",
       "    </tr>\n",
       "    <tr>\n",
       "      <th>1</th>\n",
       "      <td>16847.443</td>\n",
       "      <td>-11.4</td>\n",
       "      <td>11515.498</td>\n",
       "      <td>12449.182</td>\n",
       "    </tr>\n",
       "    <tr>\n",
       "      <th>2</th>\n",
       "      <td>16997.130</td>\n",
       "      <td>-11.9</td>\n",
       "      <td>11580.872</td>\n",
       "      <td>12295.476</td>\n",
       "    </tr>\n",
       "    <tr>\n",
       "      <th>3</th>\n",
       "      <td>17259.598</td>\n",
       "      <td>-12.4</td>\n",
       "      <td>11693.593</td>\n",
       "      <td>12354.318</td>\n",
       "    </tr>\n",
       "    <tr>\n",
       "      <th>4</th>\n",
       "      <td>17653.417</td>\n",
       "      <td>-12.9</td>\n",
       "      <td>12210.394</td>\n",
       "      <td>12542.606</td>\n",
       "    </tr>\n",
       "    <tr>\n",
       "      <th>...</th>\n",
       "      <td>...</td>\n",
       "      <td>...</td>\n",
       "      <td>...</td>\n",
       "      <td>...</td>\n",
       "    </tr>\n",
       "    <tr>\n",
       "      <th>43651</th>\n",
       "      <td>11682.100</td>\n",
       "      <td>9.9</td>\n",
       "      <td>10942.579</td>\n",
       "      <td>11705.914</td>\n",
       "    </tr>\n",
       "    <tr>\n",
       "      <th>43652</th>\n",
       "      <td>11442.870</td>\n",
       "      <td>10.2</td>\n",
       "      <td>10694.315</td>\n",
       "      <td>11709.951</td>\n",
       "    </tr>\n",
       "    <tr>\n",
       "      <th>43653</th>\n",
       "      <td>11166.770</td>\n",
       "      <td>9.6</td>\n",
       "      <td>10272.441</td>\n",
       "      <td>11663.864</td>\n",
       "    </tr>\n",
       "    <tr>\n",
       "      <th>43654</th>\n",
       "      <td>10838.550</td>\n",
       "      <td>9.0</td>\n",
       "      <td>9718.976</td>\n",
       "      <td>11519.032</td>\n",
       "    </tr>\n",
       "    <tr>\n",
       "      <th>43655</th>\n",
       "      <td>10592.674</td>\n",
       "      <td>8.4</td>\n",
       "      <td>9147.291</td>\n",
       "      <td>11314.571</td>\n",
       "    </tr>\n",
       "  </tbody>\n",
       "</table>\n",
       "<p>43656 rows × 4 columns</p>\n",
       "</div>"
      ],
      "text/plain": [
       "       Load_SOUTH  Temp_SOUTH      Lag-2      Lag-7\n",
       "0       16801.433       -11.0  11653.532  12571.309\n",
       "1       16847.443       -11.4  11515.498  12449.182\n",
       "2       16997.130       -11.9  11580.872  12295.476\n",
       "3       17259.598       -12.4  11693.593  12354.318\n",
       "4       17653.417       -12.9  12210.394  12542.606\n",
       "...           ...         ...        ...        ...\n",
       "43651   11682.100         9.9  10942.579  11705.914\n",
       "43652   11442.870        10.2  10694.315  11709.951\n",
       "43653   11166.770         9.6  10272.441  11663.864\n",
       "43654   10838.550         9.0   9718.976  11519.032\n",
       "43655   10592.674         8.4   9147.291  11314.571\n",
       "\n",
       "[43656 rows x 4 columns]"
      ]
     },
     "execution_count": 8,
     "metadata": {},
     "output_type": "execute_result"
    }
   ],
   "source": [
    "dataDf = pd.concat([zoneData, Load_lags], axis= 1).dropna(axis= 0).reset_index(drop= True)\n",
    "dataDf"
   ]
  },
  {
   "cell_type": "code",
   "execution_count": 9,
   "id": "6ad25321",
   "metadata": {},
   "outputs": [],
   "source": [
    "# Setting the train-test split ratio\n",
    "ratio = 0.1"
   ]
  },
  {
   "cell_type": "code",
   "execution_count": 10,
   "id": "3c08d963",
   "metadata": {},
   "outputs": [],
   "source": [
    "Num_train, Num_test = int(len(dataDf)/24 * (1 - ratio)) * 24, int(len(dataDf)/24 * ratio) * 24"
   ]
  },
  {
   "cell_type": "code",
   "execution_count": 11,
   "id": "cbe069ff",
   "metadata": {},
   "outputs": [],
   "source": [
    "# Splitting the data into train and test\n",
    "data_train, data_test = dataDf[:Num_train], dataDf[Num_train:]"
   ]
  },
  {
   "cell_type": "code",
   "execution_count": 12,
   "id": "d84e15c4",
   "metadata": {},
   "outputs": [],
   "source": [
    "Num_train, Num_valid = int(len(data_train)/24 * (1 - ratio)) * 24, int(len(data_train)/24 * ratio) * 24"
   ]
  },
  {
   "cell_type": "code",
   "execution_count": 13,
   "id": "c17d1723",
   "metadata": {},
   "outputs": [],
   "source": [
    "# Splitting the data into train and test\n",
    "data_train, data_valid = data_train[:Num_train], data_train[Num_train:]"
   ]
  },
  {
   "cell_type": "markdown",
   "id": "6f93bb7d",
   "metadata": {},
   "source": [
    "#### SPLITTING INTO X-Y TRAIN/TEST SPLITS"
   ]
  },
  {
   "cell_type": "code",
   "execution_count": 14,
   "id": "4ba286ca",
   "metadata": {},
   "outputs": [],
   "source": [
    "X_train_df, Y_train_df = data_train.iloc[:, 1:], data_train.iloc[:, :1]\n",
    "\n",
    "X_valid_df, Y_valid_df = data_valid.iloc[:, 1:], data_valid.iloc[:, :1]\n",
    "\n",
    "X_test_df, Y_test_df = data_test.iloc[:, 1:], data_test.iloc[:, :1]"
   ]
  },
  {
   "cell_type": "code",
   "execution_count": 15,
   "id": "ef1d9079",
   "metadata": {},
   "outputs": [],
   "source": [
    "# Preparing the scaler\n",
    "ValScaler = MinMaxScaler()\n",
    "\n",
    "X_train = ValScaler.fit_transform(X_train_df)\n",
    "X_valid = ValScaler.transform(X_valid_df)\n",
    "X_test = ValScaler.transform(X_test_df)\n",
    "\n",
    "Y_train = ValScaler.fit_transform(Y_train_df)\n",
    "Y_valid = ValScaler.transform(Y_valid_df)\n",
    "Y_test = ValScaler.transform(Y_test_df)"
   ]
  },
  {
   "cell_type": "code",
   "execution_count": 16,
   "id": "f24e197e",
   "metadata": {},
   "outputs": [],
   "source": [
    "def splitData(dataset):\n",
    "    data = np.array(np.split(dataset, len(dataset)/24))\n",
    "    return data"
   ]
  },
  {
   "cell_type": "code",
   "execution_count": 17,
   "id": "07527a9b",
   "metadata": {},
   "outputs": [],
   "source": [
    "X_train, Y_train = splitData(X_train), splitData(Y_train)\n",
    "\n",
    "X_valid, Y_valid = splitData(X_valid), splitData(Y_valid)\n",
    "\n",
    "X_test, Y_test = splitData(X_test), splitData(Y_test)"
   ]
  },
  {
   "cell_type": "code",
   "execution_count": 18,
   "id": "8eeac82b",
   "metadata": {},
   "outputs": [],
   "source": [
    "## Converting data into tensors\n",
    "X_train = torch.Tensor(X_train)\n",
    "Y_train = torch.Tensor(Y_train)\n",
    "\n",
    "X_valid = torch.Tensor(X_valid)\n",
    "Y_valid = torch.Tensor(Y_valid)\n",
    "\n",
    "X_test = torch.Tensor(X_test)\n",
    "Y_test = torch.Tensor(Y_test)"
   ]
  },
  {
   "cell_type": "code",
   "execution_count": 19,
   "id": "b0abf3d6",
   "metadata": {},
   "outputs": [],
   "source": [
    "dataset_train = TensorDataset(X_train, Y_train)\n",
    "dataset_valid = TensorDataset(X_valid, Y_valid)\n",
    "dataset_test = TensorDataset(X_test, Y_test)"
   ]
  },
  {
   "cell_type": "code",
   "execution_count": 20,
   "id": "d6b2ad50",
   "metadata": {},
   "outputs": [],
   "source": [
    "dataloader_train = DataLoader(dataset_train, batch_size= BATCH_SIZE, shuffle= True, drop_last= False)\n",
    "dataloader_valid = DataLoader(dataset_valid, batch_size= BATCH_SIZE, shuffle= False, drop_last= False)\n",
    "dataloader_test = DataLoader(dataset_test, batch_size= BATCH_SIZE, shuffle= False, drop_last= False)"
   ]
  },
  {
   "cell_type": "markdown",
   "id": "b7930d42",
   "metadata": {},
   "source": [
    "## LOADING NETWORK MODEL"
   ]
  },
  {
   "cell_type": "code",
   "execution_count": 21,
   "id": "71f45357",
   "metadata": {},
   "outputs": [],
   "source": [
    "torch.manual_seed(111)\n",
    "\n",
    "# Load transformer with Adam optimizer and MSE loss function\n",
    "net = Transformer(d_input, d_model, d_output, q, v, h, N, attention_size=attention_size, dropout=dropout, chunk_mode=chunk_mode, pe=pe).to(device)\n",
    "optimizer = optim.Adam(net.parameters(), lr=LR)\n",
    "loss_function = nn.MSELoss()"
   ]
  },
  {
   "cell_type": "markdown",
   "id": "6e0b8966",
   "metadata": {},
   "source": [
    "## MODEL TRAINING"
   ]
  },
  {
   "cell_type": "code",
   "execution_count": 22,
   "id": "a5febf3a",
   "metadata": {},
   "outputs": [
    {
     "name": "stderr",
     "output_type": "stream",
     "text": [
      "[Epoch   1/10]: 100%|██████████████████████████████████| 1473/1473 [00:51<00:00, 28.86it/s, loss=0.119, val_loss=0.102]\n",
      "[Epoch   2/10]: 100%|████████████████████████████████| 1473/1473 [00:48<00:00, 30.19it/s, loss=0.0743, val_loss=0.0675]\n",
      "[Epoch   3/10]: 100%|█████████████████████████████████| 1473/1473 [00:48<00:00, 30.26it/s, loss=0.069, val_loss=0.0786]\n",
      "[Epoch   4/10]: 100%|████████████████████████████████| 1473/1473 [00:48<00:00, 30.25it/s, loss=0.0696, val_loss=0.0676]\n",
      "[Epoch   5/10]: 100%|████████████████████████████████| 1473/1473 [00:48<00:00, 30.25it/s, loss=0.0661, val_loss=0.0658]\n",
      "[Epoch   6/10]: 100%|█████████████████████████████████| 1473/1473 [00:49<00:00, 29.87it/s, loss=0.065, val_loss=0.0668]\n",
      "[Epoch   7/10]: 100%|████████████████████████████████| 1473/1473 [00:51<00:00, 28.74it/s, loss=0.0636, val_loss=0.0655]\n",
      "[Epoch   8/10]: 100%|████████████████████████████████| 1473/1473 [00:50<00:00, 28.94it/s, loss=0.0626, val_loss=0.0694]\n",
      "[Epoch   9/10]: 100%|████████████████████████████████| 1473/1473 [00:50<00:00, 29.33it/s, loss=0.0614, val_loss=0.0764]\n",
      "[Epoch  10/10]: 100%|████████████████████████████████| 1473/1473 [00:49<00:00, 29.73it/s, loss=0.0611, val_loss=0.0708]"
     ]
    },
    {
     "name": "stdout",
     "output_type": "stream",
     "text": [
      "model exported to models/model_2022_06_13__120621.pth with loss 0.061082\n"
     ]
    },
    {
     "name": "stderr",
     "output_type": "stream",
     "text": [
      "\n"
     ]
    },
    {
     "data": {
      "image/png": "[encoded data removed]",
      "text/plain": [
       "<Figure size 432x288 with 1 Axes>"
      ]
     },
     "metadata": {
      "needs_background": "light"
     },
     "output_type": "display_data"
    }
   ],
   "source": [
    "model_save_path = f'models/model_{datetime.datetime.now().strftime(\"%Y_%m_%d__%H%M%S\")}.pth'\n",
    "val_loss_best = np.inf\n",
    "\n",
    "hist_loss = np.zeros(EPOCHS)\n",
    "hist_loss_val = np.zeros(EPOCHS)\n",
    "\n",
    "for idx_epoch in range(EPOCHS):\n",
    "    running_loss = 0\n",
    "    with tqdm(total=len(dataloader_train.dataset), desc=f\"[Epoch {idx_epoch+1:3d}/{EPOCHS}]\") as pbar:\n",
    "        \n",
    "        for idx_batch, (x, y) in enumerate(dataloader_train):\n",
    "            optimizer.zero_grad()\n",
    "            \n",
    "            # Propagating through the network\n",
    "            output = net(x.to(device))\n",
    "            \n",
    "            # Calculating loss\n",
    "            loss = torch.sqrt(loss_function(output, y.to(device)))\n",
    "            \n",
    "            # Back-Propagating the loss\n",
    "            loss.backward()\n",
    "            \n",
    "            # Updating weights\n",
    "            optimizer.step()\n",
    "            \n",
    "            # Accumulating the running loss\n",
    "            running_loss += loss.item()\n",
    "            pbar.set_postfix({'loss': running_loss/(idx_batch+1)})\n",
    "            pbar.update(x.shape[0])\n",
    "            \n",
    "            train_loss = running_loss/len(dataloader_train)\n",
    "            val_loss = compute_loss(net, dataloader_valid, loss_function, device).item()\n",
    "            pbar.set_postfix({'loss': train_loss, 'val_loss': val_loss})\n",
    "            \n",
    "            hist_loss[idx_epoch] = train_loss\n",
    "            hist_loss_val[idx_epoch] = val_loss\n",
    "            \n",
    "            if val_loss < val_loss_best:\n",
    "                val_loss_best = val_loss\n",
    "                torch.save(net.state_dict(), model_save_path)\n",
    "        \n",
    "plt.plot(hist_loss, 'o-', label='train')\n",
    "plt.plot(hist_loss_val, 'o-', label='val')\n",
    "plt.legend()\n",
    "print(f\"model exported to {model_save_path} with loss {val_loss_best:5f}\")"
   ]
  },
  {
   "cell_type": "markdown",
   "id": "8d020bf7",
   "metadata": {},
   "source": [
    "## MODEL EVALUATION"
   ]
  },
  {
   "cell_type": "code",
   "execution_count": 23,
   "id": "219feb84",
   "metadata": {},
   "outputs": [],
   "source": [
    "_ = net.eval()"
   ]
  },
  {
   "cell_type": "code",
   "execution_count": 24,
   "id": "fa645e4f",
   "metadata": {},
   "outputs": [
    {
     "name": "stderr",
     "output_type": "stream",
     "text": [
      "100%|██████████████████████████████████████████████████████████████████████████████████| 23/23 [00:00<00:00, 89.04it/s]\n"
     ]
    }
   ],
   "source": [
    "predictions = np.empty(shape=(len(dataloader_test.dataset), 24, 1))\n",
    "idx_prediction = 0\n",
    "\n",
    "with torch.no_grad():\n",
    "    for x, y in tqdm(dataloader_test, total=len(dataloader_test)):\n",
    "        output = net(x.to(device)).cpu().numpy()\n",
    "        predictions[idx_prediction:idx_prediction+x.shape[0]] = output\n",
    "        idx_prediction += x.shape[0]"
   ]
  },
  {
   "cell_type": "code",
   "execution_count": 25,
   "id": "ba4cec13",
   "metadata": {},
   "outputs": [
    {
     "data": {
      "text/plain": [
       "(182, 24, 1)"
      ]
     },
     "execution_count": 25,
     "metadata": {},
     "output_type": "execute_result"
    }
   ],
   "source": [
    "predictions.shape"
   ]
  },
  {
   "cell_type": "code",
   "execution_count": 26,
   "id": "60969978",
   "metadata": {},
   "outputs": [
    {
     "data": {
      "text/plain": [
       "(4368,)"
      ]
     },
     "execution_count": 26,
     "metadata": {},
     "output_type": "execute_result"
    }
   ],
   "source": [
    "predArr = predictions.reshape(predictions.shape[0] * predictions.shape[1], predictions.shape[2]).ravel()\n",
    "predArr.shape"
   ]
  },
  {
   "cell_type": "code",
   "execution_count": 27,
   "id": "bacfa153",
   "metadata": {},
   "outputs": [
    {
     "data": {
      "text/plain": [
       "(4368,)"
      ]
     },
     "execution_count": 27,
     "metadata": {},
     "output_type": "execute_result"
    }
   ],
   "source": [
    "Y_testArr = Y_test.reshape(Y_test.shape[0] * Y_test.shape[1], Y_test.shape[2]).ravel().numpy()\n",
    "Y_testArr.shape"
   ]
  },
  {
   "cell_type": "code",
   "execution_count": 28,
   "id": "55a4d281",
   "metadata": {},
   "outputs": [],
   "source": [
    "def inverse_transform(df):\n",
    "    column_names = df.columns\n",
    "    for col in column_names:\n",
    "        df[col] = ValScaler.inverse_transform(df[[col]]) \n",
    "    return df"
   ]
  },
  {
   "cell_type": "code",
   "execution_count": 29,
   "id": "1513fc17",
   "metadata": {},
   "outputs": [
    {
     "data": {
      "text/html": [
       "<div>\n",
       "<style scoped>\n",
       "    .dataframe tbody tr th:only-of-type {\n",
       "        vertical-align: middle;\n",
       "    }\n",
       "\n",
       "    .dataframe tbody tr th {\n",
       "        vertical-align: top;\n",
       "    }\n",
       "\n",
       "    .dataframe thead th {\n",
       "        text-align: right;\n",
       "    }\n",
       "</style>\n",
       "<table border=\"1\" class=\"dataframe\">\n",
       "  <thead>\n",
       "    <tr style=\"text-align: right;\">\n",
       "      <th></th>\n",
       "      <th>Values</th>\n",
       "      <th>Predictions</th>\n",
       "    </tr>\n",
       "  </thead>\n",
       "  <tbody>\n",
       "    <tr>\n",
       "      <th>0</th>\n",
       "      <td>11851.538086</td>\n",
       "      <td>11296.086148</td>\n",
       "    </tr>\n",
       "    <tr>\n",
       "      <th>1</th>\n",
       "      <td>11151.139648</td>\n",
       "      <td>10369.811544</td>\n",
       "    </tr>\n",
       "    <tr>\n",
       "      <th>2</th>\n",
       "      <td>10703.377930</td>\n",
       "      <td>9660.201173</td>\n",
       "    </tr>\n",
       "    <tr>\n",
       "      <th>3</th>\n",
       "      <td>10389.772461</td>\n",
       "      <td>9192.875584</td>\n",
       "    </tr>\n",
       "    <tr>\n",
       "      <th>4</th>\n",
       "      <td>10352.725586</td>\n",
       "      <td>9157.610651</td>\n",
       "    </tr>\n",
       "    <tr>\n",
       "      <th>...</th>\n",
       "      <td>...</td>\n",
       "      <td>...</td>\n",
       "    </tr>\n",
       "    <tr>\n",
       "      <th>4363</th>\n",
       "      <td>11682.099609</td>\n",
       "      <td>10462.475719</td>\n",
       "    </tr>\n",
       "    <tr>\n",
       "      <th>4364</th>\n",
       "      <td>11442.870117</td>\n",
       "      <td>10340.663532</td>\n",
       "    </tr>\n",
       "    <tr>\n",
       "      <th>4365</th>\n",
       "      <td>11166.770508</td>\n",
       "      <td>10131.635750</td>\n",
       "    </tr>\n",
       "    <tr>\n",
       "      <th>4366</th>\n",
       "      <td>10838.549805</td>\n",
       "      <td>9690.724182</td>\n",
       "    </tr>\n",
       "    <tr>\n",
       "      <th>4367</th>\n",
       "      <td>10592.673828</td>\n",
       "      <td>9060.078693</td>\n",
       "    </tr>\n",
       "  </tbody>\n",
       "</table>\n",
       "<p>4368 rows × 2 columns</p>\n",
       "</div>"
      ],
      "text/plain": [
       "            Values   Predictions\n",
       "0     11851.538086  11296.086148\n",
       "1     11151.139648  10369.811544\n",
       "2     10703.377930   9660.201173\n",
       "3     10389.772461   9192.875584\n",
       "4     10352.725586   9157.610651\n",
       "...            ...           ...\n",
       "4363  11682.099609  10462.475719\n",
       "4364  11442.870117  10340.663532\n",
       "4365  11166.770508  10131.635750\n",
       "4366  10838.549805   9690.724182\n",
       "4367  10592.673828   9060.078693\n",
       "\n",
       "[4368 rows x 2 columns]"
      ]
     },
     "execution_count": 29,
     "metadata": {},
     "output_type": "execute_result"
    }
   ],
   "source": [
    "comparisionDf = pd.DataFrame(data= {\"Values\": Y_testArr, \"Predictions\": predArr})\n",
    "comparisionDf = inverse_transform(comparisionDf)\n",
    "comparisionDf"
   ]
  },
  {
   "cell_type": "code",
   "execution_count": 30,
   "id": "27c25363",
   "metadata": {},
   "outputs": [
    {
     "data": {
      "text/plain": [
       "<AxesSubplot:>"
      ]
     },
     "execution_count": 30,
     "metadata": {},
     "output_type": "execute_result"
    },
    {
     "data": {
      "image/png": "[encoded data removed]",
      "text/plain": [
       "<Figure size 432x288 with 1 Axes>"
      ]
     },
     "metadata": {
      "needs_background": "light"
     },
     "output_type": "display_data"
    }
   ],
   "source": [
    "comparisionDf.plot()"
   ]
  },
  {
   "cell_type": "code",
   "execution_count": 31,
   "id": "5ab3fa0b",
   "metadata": {},
   "outputs": [
    {
     "data": {
      "text/plain": [
       "5.451430062577919"
      ]
     },
     "execution_count": 31,
     "metadata": {},
     "output_type": "execute_result"
    }
   ],
   "source": [
    "mape(comparisionDf[\"Values\"], comparisionDf[\"Predictions\"])"
   ]
  }
 ],
 "metadata": {
  "kernelspec": {
   "display_name": "Python 3 (ipykernel)",
   "language": "python",
   "name": "python3"
  },
  "language_info": {
   "codemirror_mode": {
    "name": "ipython",
    "version": 3
   },
   "file_extension": ".py",
   "mimetype": "text/x-python",
   "name": "python",
   "nbconvert_exporter": "python",
   "pygments_lexer": "ipython3",
   "version": "3.9.12"
  }
 },
 "nbformat": 4,
 "nbformat_minor": 5
}
