{
 "cells": [
  {
   "cell_type": "code",
   "execution_count": 1,
   "metadata": {},
   "outputs": [
    {
     "name": "stdout",
     "output_type": "stream",
     "text": [
      "Using device cuda:0\n"
     ]
    }
   ],
   "source": [
    "# Importing the required libraries\n",
    "from IPython.display import display\n",
    "import os\n",
    "import numpy as np\n",
    "import pandas as pd\n",
    "from matplotlib import pyplot as plt\n",
    "from tqdm import tqdm\n",
    "from sklearn.preprocessing import MinMaxScaler, OneHotEncoder, StandardScaler\n",
    "import time\n",
    "import easydict\n",
    "import copy\n",
    "\n",
    "import torch\n",
    "import torch.nn as nn\n",
    "from torch.utils.tensorboard import SummaryWriter\n",
    "from torch.utils.data import DataLoader, Dataset\n",
    "import torch.optim as optim\n",
    "from torch.optim.lr_scheduler import CyclicLR, LinearLR\n",
    "\n",
    "from time_transformer.transformer import Transformer\n",
    "from time_transformer.utils_valid_loss_point import compute_val_point_score\n",
    "\n",
    "# Training device check-up\n",
    "device = torch.device(\"cuda:0\" if torch.cuda.is_available() else \"cpu\")\n",
    "print(f\"Using device {device}\")\n",
    "\n",
    "writer = SummaryWriter()\n",
    "\n",
    "# Defining DOE custom mape formula\n",
    "def new_mape(y_true, y_pred, max_val):\n",
    "    y_true, y_pred = np.array(y_true), np.array(y_pred)\n",
    "    return np.mean(np.abs((y_true - y_pred) / max_val)) * 100\n",
    "\n",
    "# Defining DOE custom mape formula\n",
    "def mape(y_true, y_pred):\n",
    "    y_true, y_pred = np.array(y_true), np.array(y_pred)\n",
    "    return np.mean(np.abs((y_true - y_pred) / max(y_true))) * 100"
   ]
  },
  {
   "cell_type": "markdown",
   "metadata": {},
   "source": [
    "#### FETCHING AND PROCESSING CALENDER FEATURES"
   ]
  },
  {
   "cell_type": "code",
   "execution_count": 2,
   "metadata": {},
   "outputs": [
    {
     "name": "stdout",
     "output_type": "stream",
     "text": [
      "['MIDATL.csv', 'SOUTH.csv', 'WEST.csv']\n"
     ]
    }
   ],
   "source": [
    "# Specifying the path of file\n",
    "path= r\"C:\\Users\\sashah8\\DOE_Graph_Attention_Transformer\\DOE MODEL TRAINING\\Cleaned data - Station mapped\"\n",
    "dataset = \"L1\"\n",
    "\n",
    "# Listing just the required files\n",
    "fileList = os.listdir(os.path.join(path, dataset))\n",
    "\n",
    "# Previewing the required file names\n",
    "print(fileList)"
   ]
  },
  {
   "cell_type": "code",
   "execution_count": 3,
   "metadata": {},
   "outputs": [
    {
     "data": {
      "text/html": [
       "<div>\n",
       "<style scoped>\n",
       "    .dataframe tbody tr th:only-of-type {\n",
       "        vertical-align: middle;\n",
       "    }\n",
       "\n",
       "    .dataframe tbody tr th {\n",
       "        vertical-align: top;\n",
       "    }\n",
       "\n",
       "    .dataframe thead th {\n",
       "        text-align: right;\n",
       "    }\n",
       "</style>\n",
       "<table border=\"1\" class=\"dataframe\">\n",
       "  <thead>\n",
       "    <tr style=\"text-align: right;\">\n",
       "      <th></th>\n",
       "      <th>utc</th>\n",
       "      <th>ept</th>\n",
       "      <th>mw</th>\n",
       "      <th>tmpf</th>\n",
       "    </tr>\n",
       "  </thead>\n",
       "  <tbody>\n",
       "    <tr>\n",
       "      <th>0</th>\n",
       "      <td>2015-01-01 05:00:00</td>\n",
       "      <td>2015-01-01 00:00:00</td>\n",
       "      <td>12571.309</td>\n",
       "      <td>32.0</td>\n",
       "    </tr>\n",
       "    <tr>\n",
       "      <th>1</th>\n",
       "      <td>2015-01-01 06:00:00</td>\n",
       "      <td>2015-01-01 01:00:00</td>\n",
       "      <td>12449.182</td>\n",
       "      <td>32.0</td>\n",
       "    </tr>\n",
       "  </tbody>\n",
       "</table>\n",
       "</div>"
      ],
      "text/plain": [
       "                   utc                  ept         mw  tmpf\n",
       "0  2015-01-01 05:00:00  2015-01-01 00:00:00  12571.309  32.0\n",
       "1  2015-01-01 06:00:00  2015-01-01 01:00:00  12449.182  32.0"
      ]
     },
     "metadata": {},
     "output_type": "display_data"
    }
   ],
   "source": [
    "# Just for previewing the column name\n",
    "display(pd.read_csv(os.path.join(path, dataset, fileList[1])).head(2))"
   ]
  },
  {
   "cell_type": "code",
   "execution_count": 4,
   "metadata": {},
   "outputs": [
    {
     "name": "stdout",
     "output_type": "stream",
     "text": [
      "Sample dataframe: \n"
     ]
    },
    {
     "data": {
      "text/html": [
       "<div>\n",
       "<style scoped>\n",
       "    .dataframe tbody tr th:only-of-type {\n",
       "        vertical-align: middle;\n",
       "    }\n",
       "\n",
       "    .dataframe tbody tr th {\n",
       "        vertical-align: top;\n",
       "    }\n",
       "\n",
       "    .dataframe thead th {\n",
       "        text-align: right;\n",
       "    }\n",
       "</style>\n",
       "<table border=\"1\" class=\"dataframe\">\n",
       "  <thead>\n",
       "    <tr style=\"text-align: right;\">\n",
       "      <th></th>\n",
       "      <th>ept</th>\n",
       "      <th>mw</th>\n",
       "      <th>tmpf</th>\n",
       "    </tr>\n",
       "  </thead>\n",
       "  <tbody>\n",
       "    <tr>\n",
       "      <th>0</th>\n",
       "      <td>2015-01-01 00:00:00</td>\n",
       "      <td>31660.636</td>\n",
       "      <td>28.94</td>\n",
       "    </tr>\n",
       "    <tr>\n",
       "      <th>1</th>\n",
       "      <td>2015-01-01 01:00:00</td>\n",
       "      <td>30766.066</td>\n",
       "      <td>28.94</td>\n",
       "    </tr>\n",
       "  </tbody>\n",
       "</table>\n",
       "</div>"
      ],
      "text/plain": [
       "                  ept         mw   tmpf\n",
       "0 2015-01-01 00:00:00  31660.636  28.94\n",
       "1 2015-01-01 01:00:00  30766.066  28.94"
      ]
     },
     "metadata": {},
     "output_type": "display_data"
    }
   ],
   "source": [
    "# Just for previewing the column name\n",
    "data = pd.read_csv(os.path.join(path, dataset, fileList[0]), parse_dates=['ept'], usecols=['ept', 'mw', 'tmpf'])\n",
    "print(\"Sample dataframe: \")\n",
    "display(data.head(2))"
   ]
  },
  {
   "cell_type": "code",
   "execution_count": 5,
   "metadata": {},
   "outputs": [
    {
     "data": {
      "text/plain": [
       "0   2015-01-01 00:00:00\n",
       "1   2015-01-01 01:00:00\n",
       "Name: AA_ept, dtype: datetime64[ns]"
      ]
     },
     "execution_count": 5,
     "metadata": {},
     "output_type": "execute_result"
    }
   ],
   "source": [
    "# Fetching the date column only\n",
    "date_col = data.ept.copy()\n",
    "date_col.name = \"AA_ept\"\n",
    "date_col.head(2)"
   ]
  },
  {
   "cell_type": "code",
   "execution_count": 6,
   "metadata": {},
   "outputs": [
    {
     "name": "stdout",
     "output_type": "stream",
     "text": [
      "Sample calendar features: \n"
     ]
    },
    {
     "data": {
      "text/html": [
       "<div>\n",
       "<style scoped>\n",
       "    .dataframe tbody tr th:only-of-type {\n",
       "        vertical-align: middle;\n",
       "    }\n",
       "\n",
       "    .dataframe tbody tr th {\n",
       "        vertical-align: top;\n",
       "    }\n",
       "\n",
       "    .dataframe thead th {\n",
       "        text-align: right;\n",
       "    }\n",
       "</style>\n",
       "<table border=\"1\" class=\"dataframe\">\n",
       "  <thead>\n",
       "    <tr style=\"text-align: right;\">\n",
       "      <th></th>\n",
       "      <th>Month</th>\n",
       "      <th>Day</th>\n",
       "      <th>Hour</th>\n",
       "      <th>Weekday</th>\n",
       "    </tr>\n",
       "  </thead>\n",
       "  <tbody>\n",
       "    <tr>\n",
       "      <th>0</th>\n",
       "      <td>1</td>\n",
       "      <td>1</td>\n",
       "      <td>0</td>\n",
       "      <td>3</td>\n",
       "    </tr>\n",
       "    <tr>\n",
       "      <th>1</th>\n",
       "      <td>1</td>\n",
       "      <td>1</td>\n",
       "      <td>1</td>\n",
       "      <td>3</td>\n",
       "    </tr>\n",
       "  </tbody>\n",
       "</table>\n",
       "</div>"
      ],
      "text/plain": [
       "   Month  Day  Hour  Weekday\n",
       "0      1    1     0        3\n",
       "1      1    1     1        3"
      ]
     },
     "metadata": {},
     "output_type": "display_data"
    },
    {
     "name": "stdout",
     "output_type": "stream",
     "text": [
      "Available unique categories: \n"
     ]
    },
    {
     "data": {
      "text/plain": [
       "Month      12\n",
       "Day        31\n",
       "Hour       24\n",
       "Weekday     7\n",
       "dtype: int64"
      ]
     },
     "metadata": {},
     "output_type": "display_data"
    },
    {
     "name": "stdout",
     "output_type": "stream",
     "text": [
      "Total number of observations:  43824\n"
     ]
    }
   ],
   "source": [
    "# Creating the calendar features\n",
    "date = pd.DataFrame()\n",
    "date['Month'] = date_col.dt.month\n",
    "date['Day'] = date_col.dt.day\n",
    "date['Hour'] = date_col.dt.hour\n",
    "date['Weekday'] = date_col.dt.weekday\n",
    "\n",
    "print(\"Sample calendar features: \")\n",
    "display(date.head(2))\n",
    "\n",
    "print(\"Available unique categories: \")\n",
    "display(date.nunique())\n",
    "\n",
    "print(\"Total number of observations: \", len(date))"
   ]
  },
  {
   "cell_type": "code",
   "execution_count": 7,
   "metadata": {},
   "outputs": [
    {
     "data": {
      "text/plain": [
       "array([[1., 0., 0., ..., 0., 0., 0.],\n",
       "       [1., 0., 0., ..., 0., 0., 0.],\n",
       "       [1., 0., 0., ..., 0., 0., 0.],\n",
       "       ...,\n",
       "       [0., 0., 0., ..., 0., 0., 0.],\n",
       "       [0., 0., 0., ..., 0., 0., 0.],\n",
       "       [0., 0., 0., ..., 0., 0., 0.]])"
      ]
     },
     "metadata": {},
     "output_type": "display_data"
    }
   ],
   "source": [
    "# One-hot encoding the categorical calendar features\n",
    "date_enc = OneHotEncoder(sparse_output=False)\n",
    "categorical_data = date_enc.fit_transform(date)\n",
    "display(categorical_data)"
   ]
  },
  {
   "cell_type": "code",
   "execution_count": 8,
   "metadata": {},
   "outputs": [
    {
     "data": {
      "text/plain": [
       "[12, 31, 24, 7]"
      ]
     },
     "execution_count": 8,
     "metadata": {},
     "output_type": "execute_result"
    }
   ],
   "source": [
    "category_count = [len(x_len) for x_len in date_enc.categories_]\n",
    "category_count"
   ]
  },
  {
   "cell_type": "markdown",
   "metadata": {},
   "source": [
    "#### PROCESSING CONTINUOUS FEATURES FOR ALL AVAILABLE ZONES"
   ]
  },
  {
   "cell_type": "markdown",
   "metadata": {},
   "source": [
    "PROCESSING LOAD DATA"
   ]
  },
  {
   "cell_type": "code",
   "execution_count": 9,
   "metadata": {},
   "outputs": [
    {
     "data": {
      "text/html": [
       "<div>\n",
       "<style scoped>\n",
       "    .dataframe tbody tr th:only-of-type {\n",
       "        vertical-align: middle;\n",
       "    }\n",
       "\n",
       "    .dataframe tbody tr th {\n",
       "        vertical-align: top;\n",
       "    }\n",
       "\n",
       "    .dataframe thead th {\n",
       "        text-align: right;\n",
       "    }\n",
       "</style>\n",
       "<table border=\"1\" class=\"dataframe\">\n",
       "  <thead>\n",
       "    <tr style=\"text-align: right;\">\n",
       "      <th></th>\n",
       "      <th>MIDATL_A_LOAD</th>\n",
       "      <th>SOUTH_A_LOAD</th>\n",
       "      <th>WEST_A_LOAD</th>\n",
       "    </tr>\n",
       "  </thead>\n",
       "  <tbody>\n",
       "    <tr>\n",
       "      <th>43822</th>\n",
       "      <td>28458.691</td>\n",
       "      <td>10838.550</td>\n",
       "      <td>45132.982</td>\n",
       "    </tr>\n",
       "    <tr>\n",
       "      <th>43823</th>\n",
       "      <td>27428.213</td>\n",
       "      <td>10592.674</td>\n",
       "      <td>43501.529</td>\n",
       "    </tr>\n",
       "  </tbody>\n",
       "</table>\n",
       "</div>"
      ],
      "text/plain": [
       "       MIDATL_A_LOAD  SOUTH_A_LOAD  WEST_A_LOAD\n",
       "43822      28458.691     10838.550    45132.982\n",
       "43823      27428.213     10592.674    43501.529"
      ]
     },
     "metadata": {},
     "output_type": "display_data"
    }
   ],
   "source": [
    "# Fetching and concatenating the data\n",
    "load_ds = pd.concat([pd.read_csv(os.path.join(path, dataset, fileName),\n",
    "                                 usecols= [\"mw\"]) for fileName in fileList], axis= 1)\n",
    "load_ds.columns = [i.removesuffix('.csv') for i in fileList]\n",
    "load_ds = load_ds.add_suffix(\"_A_LOAD\")\n",
    "display(load_ds.tail(2))"
   ]
  },
  {
   "cell_type": "code",
   "execution_count": 10,
   "metadata": {},
   "outputs": [
    {
     "data": {
      "text/html": [
       "<div>\n",
       "<style scoped>\n",
       "    .dataframe tbody tr th:only-of-type {\n",
       "        vertical-align: middle;\n",
       "    }\n",
       "\n",
       "    .dataframe tbody tr th {\n",
       "        vertical-align: top;\n",
       "    }\n",
       "\n",
       "    .dataframe thead th {\n",
       "        text-align: right;\n",
       "    }\n",
       "</style>\n",
       "<table border=\"1\" class=\"dataframe\">\n",
       "  <thead>\n",
       "    <tr style=\"text-align: right;\">\n",
       "      <th></th>\n",
       "      <th>MIDATL_A_LOAD_LAG1</th>\n",
       "      <th>SOUTH_A_LOAD_LAG1</th>\n",
       "      <th>WEST_A_LOAD_LAG1</th>\n",
       "    </tr>\n",
       "  </thead>\n",
       "  <tbody>\n",
       "    <tr>\n",
       "      <th>43822</th>\n",
       "      <td>29356.335</td>\n",
       "      <td>9765.158</td>\n",
       "      <td>45404.894</td>\n",
       "    </tr>\n",
       "    <tr>\n",
       "      <th>43823</th>\n",
       "      <td>27736.439</td>\n",
       "      <td>9225.152</td>\n",
       "      <td>43190.705</td>\n",
       "    </tr>\n",
       "  </tbody>\n",
       "</table>\n",
       "</div>"
      ],
      "text/plain": [
       "       MIDATL_A_LOAD_LAG1  SOUTH_A_LOAD_LAG1  WEST_A_LOAD_LAG1\n",
       "43822           29356.335           9765.158         45404.894\n",
       "43823           27736.439           9225.152         43190.705"
      ]
     },
     "metadata": {},
     "output_type": "display_data"
    }
   ],
   "source": [
    "lag_24_ahead = True\n",
    "\n",
    "# Creating 1-day lag loads\n",
    "if lag_24_ahead:\n",
    "    lag_val = 1\n",
    "else:\n",
    "    lag_val = 2\n",
    "\n",
    "load_lag_1 = load_ds.shift(24*lag_val).add_suffix(\"_LAG1\")\n",
    "display(load_lag_1.tail(2))"
   ]
  },
  {
   "cell_type": "code",
   "execution_count": 11,
   "metadata": {},
   "outputs": [
    {
     "data": {
      "text/html": [
       "<div>\n",
       "<style scoped>\n",
       "    .dataframe tbody tr th:only-of-type {\n",
       "        vertical-align: middle;\n",
       "    }\n",
       "\n",
       "    .dataframe tbody tr th {\n",
       "        vertical-align: top;\n",
       "    }\n",
       "\n",
       "    .dataframe thead th {\n",
       "        text-align: right;\n",
       "    }\n",
       "</style>\n",
       "<table border=\"1\" class=\"dataframe\">\n",
       "  <thead>\n",
       "    <tr style=\"text-align: right;\">\n",
       "      <th></th>\n",
       "      <th>MIDATL_A_LOAD_LAG7</th>\n",
       "      <th>SOUTH_A_LOAD_LAG7</th>\n",
       "      <th>WEST_A_LOAD_LAG7</th>\n",
       "    </tr>\n",
       "  </thead>\n",
       "  <tbody>\n",
       "    <tr>\n",
       "      <th>43822</th>\n",
       "      <td>29955.427</td>\n",
       "      <td>11519.032</td>\n",
       "      <td>41556.164</td>\n",
       "    </tr>\n",
       "    <tr>\n",
       "      <th>43823</th>\n",
       "      <td>28929.156</td>\n",
       "      <td>11314.571</td>\n",
       "      <td>40399.011</td>\n",
       "    </tr>\n",
       "  </tbody>\n",
       "</table>\n",
       "</div>"
      ],
      "text/plain": [
       "       MIDATL_A_LOAD_LAG7  SOUTH_A_LOAD_LAG7  WEST_A_LOAD_LAG7\n",
       "43822           29955.427          11519.032         41556.164\n",
       "43823           28929.156          11314.571         40399.011"
      ]
     },
     "metadata": {},
     "output_type": "display_data"
    }
   ],
   "source": [
    "# Creating 7-day lag loads\n",
    "load_lag_7 = load_ds.shift(24*7).add_suffix(\"_LAG7\")\n",
    "display(load_lag_7.tail(2))"
   ]
  },
  {
   "cell_type": "code",
   "execution_count": 12,
   "metadata": {},
   "outputs": [
    {
     "name": "stdout",
     "output_type": "stream",
     "text": [
      "Drop data before:  168\n"
     ]
    }
   ],
   "source": [
    "# Drop index for equalizing data\n",
    "drop_idx = load_lag_7.dropna(axis=0).index[0]\n",
    "print(\"Drop data before: \", drop_idx)"
   ]
  },
  {
   "cell_type": "markdown",
   "metadata": {},
   "source": [
    "ADDING LAST LOAD VALUE FROM PREVIOUS DAY AS FEATURE"
   ]
  },
  {
   "cell_type": "code",
   "execution_count": 13,
   "metadata": {},
   "outputs": [
    {
     "data": {
      "text/html": [
       "<div>\n",
       "<style scoped>\n",
       "    .dataframe tbody tr th:only-of-type {\n",
       "        vertical-align: middle;\n",
       "    }\n",
       "\n",
       "    .dataframe tbody tr th {\n",
       "        vertical-align: top;\n",
       "    }\n",
       "\n",
       "    .dataframe thead th {\n",
       "        text-align: right;\n",
       "    }\n",
       "</style>\n",
       "<table border=\"1\" class=\"dataframe\">\n",
       "  <thead>\n",
       "    <tr style=\"text-align: right;\">\n",
       "      <th></th>\n",
       "      <th>MIDATL_LAST_ELEM</th>\n",
       "      <th>SOUTH_LAST_ELEM</th>\n",
       "      <th>WEST_LAST_ELEM</th>\n",
       "    </tr>\n",
       "  </thead>\n",
       "  <tbody>\n",
       "    <tr>\n",
       "      <th>0</th>\n",
       "      <td>NaN</td>\n",
       "      <td>NaN</td>\n",
       "      <td>NaN</td>\n",
       "    </tr>\n",
       "    <tr>\n",
       "      <th>1</th>\n",
       "      <td>NaN</td>\n",
       "      <td>NaN</td>\n",
       "      <td>NaN</td>\n",
       "    </tr>\n",
       "    <tr>\n",
       "      <th>2</th>\n",
       "      <td>NaN</td>\n",
       "      <td>NaN</td>\n",
       "      <td>NaN</td>\n",
       "    </tr>\n",
       "    <tr>\n",
       "      <th>3</th>\n",
       "      <td>NaN</td>\n",
       "      <td>NaN</td>\n",
       "      <td>NaN</td>\n",
       "    </tr>\n",
       "    <tr>\n",
       "      <th>4</th>\n",
       "      <td>NaN</td>\n",
       "      <td>NaN</td>\n",
       "      <td>NaN</td>\n",
       "    </tr>\n",
       "    <tr>\n",
       "      <th>...</th>\n",
       "      <td>...</td>\n",
       "      <td>...</td>\n",
       "      <td>...</td>\n",
       "    </tr>\n",
       "    <tr>\n",
       "      <th>43819</th>\n",
       "      <td>27736.439</td>\n",
       "      <td>9225.152</td>\n",
       "      <td>43190.705</td>\n",
       "    </tr>\n",
       "    <tr>\n",
       "      <th>43820</th>\n",
       "      <td>27736.439</td>\n",
       "      <td>9225.152</td>\n",
       "      <td>43190.705</td>\n",
       "    </tr>\n",
       "    <tr>\n",
       "      <th>43821</th>\n",
       "      <td>27736.439</td>\n",
       "      <td>9225.152</td>\n",
       "      <td>43190.705</td>\n",
       "    </tr>\n",
       "    <tr>\n",
       "      <th>43822</th>\n",
       "      <td>27736.439</td>\n",
       "      <td>9225.152</td>\n",
       "      <td>43190.705</td>\n",
       "    </tr>\n",
       "    <tr>\n",
       "      <th>43823</th>\n",
       "      <td>27736.439</td>\n",
       "      <td>9225.152</td>\n",
       "      <td>43190.705</td>\n",
       "    </tr>\n",
       "  </tbody>\n",
       "</table>\n",
       "<p>43824 rows × 3 columns</p>\n",
       "</div>"
      ],
      "text/plain": [
       "       MIDATL_LAST_ELEM  SOUTH_LAST_ELEM  WEST_LAST_ELEM\n",
       "0                   NaN              NaN             NaN\n",
       "1                   NaN              NaN             NaN\n",
       "2                   NaN              NaN             NaN\n",
       "3                   NaN              NaN             NaN\n",
       "4                   NaN              NaN             NaN\n",
       "...                 ...              ...             ...\n",
       "43819         27736.439         9225.152       43190.705\n",
       "43820         27736.439         9225.152       43190.705\n",
       "43821         27736.439         9225.152       43190.705\n",
       "43822         27736.439         9225.152       43190.705\n",
       "43823         27736.439         9225.152       43190.705\n",
       "\n",
       "[43824 rows x 3 columns]"
      ]
     },
     "execution_count": 13,
     "metadata": {},
     "output_type": "execute_result"
    }
   ],
   "source": [
    "n = 24\n",
    "last_elem = pd.DataFrame(np.column_stack([np.concatenate([np.repeat(load_ds[col].values[n-1::n], n), \n",
    "                                                          np.repeat(np.NaN, len(load_ds)%n)]) for col in load_ds.columns]))\n",
    "last_elem.columns = [i.removesuffix('.csv') for i in fileList]\n",
    "last_elem = last_elem.add_suffix(\"_LAST_ELEM\")\n",
    "last_elem = last_elem.shift(24)\n",
    "last_elem"
   ]
  },
  {
   "cell_type": "markdown",
   "metadata": {},
   "source": [
    "FINDING MIN AND MAX VALUES OF LOAD ON PREVIOUS DAY"
   ]
  },
  {
   "cell_type": "code",
   "execution_count": 14,
   "metadata": {},
   "outputs": [
    {
     "name": "stdout",
     "output_type": "stream",
     "text": [
      "Columns with max load from previous day: \n"
     ]
    },
    {
     "data": {
      "text/html": [
       "<div>\n",
       "<style scoped>\n",
       "    .dataframe tbody tr th:only-of-type {\n",
       "        vertical-align: middle;\n",
       "    }\n",
       "\n",
       "    .dataframe tbody tr th {\n",
       "        vertical-align: top;\n",
       "    }\n",
       "\n",
       "    .dataframe thead th {\n",
       "        text-align: right;\n",
       "    }\n",
       "</style>\n",
       "<table border=\"1\" class=\"dataframe\">\n",
       "  <thead>\n",
       "    <tr style=\"text-align: right;\">\n",
       "      <th></th>\n",
       "      <th>MIDATL_PREV_MAX</th>\n",
       "      <th>SOUTH_PREV_MAX</th>\n",
       "      <th>WEST_PREV_MAX</th>\n",
       "    </tr>\n",
       "  </thead>\n",
       "  <tbody>\n",
       "    <tr>\n",
       "      <th>43822</th>\n",
       "      <td>33886.695</td>\n",
       "      <td>11062.641</td>\n",
       "      <td>49664.699</td>\n",
       "    </tr>\n",
       "    <tr>\n",
       "      <th>43823</th>\n",
       "      <td>33886.695</td>\n",
       "      <td>11062.641</td>\n",
       "      <td>49664.699</td>\n",
       "    </tr>\n",
       "  </tbody>\n",
       "</table>\n",
       "</div>"
      ],
      "text/plain": [
       "       MIDATL_PREV_MAX  SOUTH_PREV_MAX  WEST_PREV_MAX\n",
       "43822        33886.695       11062.641      49664.699\n",
       "43823        33886.695       11062.641      49664.699"
      ]
     },
     "metadata": {},
     "output_type": "display_data"
    },
    {
     "name": "stdout",
     "output_type": "stream",
     "text": [
      "\n",
      "\n",
      "Columns with min load from previous day: \n"
     ]
    },
    {
     "data": {
      "text/html": [
       "<div>\n",
       "<style scoped>\n",
       "    .dataframe tbody tr th:only-of-type {\n",
       "        vertical-align: middle;\n",
       "    }\n",
       "\n",
       "    .dataframe tbody tr th {\n",
       "        vertical-align: top;\n",
       "    }\n",
       "\n",
       "    .dataframe thead th {\n",
       "        text-align: right;\n",
       "    }\n",
       "</style>\n",
       "<table border=\"1\" class=\"dataframe\">\n",
       "  <thead>\n",
       "    <tr style=\"text-align: right;\">\n",
       "      <th></th>\n",
       "      <th>MIDATL_PREV_MIN</th>\n",
       "      <th>SOUTH_PREV_MIN</th>\n",
       "      <th>WEST_PREV_MIN</th>\n",
       "    </tr>\n",
       "  </thead>\n",
       "  <tbody>\n",
       "    <tr>\n",
       "      <th>43822</th>\n",
       "      <td>23677.338</td>\n",
       "      <td>8222.136</td>\n",
       "      <td>34568.761</td>\n",
       "    </tr>\n",
       "    <tr>\n",
       "      <th>43823</th>\n",
       "      <td>23677.338</td>\n",
       "      <td>8222.136</td>\n",
       "      <td>34568.761</td>\n",
       "    </tr>\n",
       "  </tbody>\n",
       "</table>\n",
       "</div>"
      ],
      "text/plain": [
       "       MIDATL_PREV_MIN  SOUTH_PREV_MIN  WEST_PREV_MIN\n",
       "43822        23677.338        8222.136      34568.761\n",
       "43823        23677.338        8222.136      34568.761"
      ]
     },
     "metadata": {},
     "output_type": "display_data"
    },
    {
     "name": "stdout",
     "output_type": "stream",
     "text": [
      "\n",
      "\n"
     ]
    }
   ],
   "source": [
    "# Creating block of indices repeating after every 24 rows\n",
    "blocks = [load_lag_1[i:i+24] for i in range(0, len(load_lag_1), 24)]\n",
    "\n",
    "# Finding max and min values on the previous day (T-1)\n",
    "max_values_df = pd.DataFrame([block.max() for block in blocks])\n",
    "max_values_df = max_values_df.iloc[np.repeat(np.arange(len(max_values_df)), 24)]\n",
    "max_values_df = max_values_df.reset_index(drop=True)\n",
    "\n",
    "max_values_df.columns = [i.removesuffix('_A_LOAD_LAG1') for i in max_values_df.columns]\n",
    "max_values_df = max_values_df.add_suffix(\"_PREV_MAX\")\n",
    "print(\"Columns with max load from previous day: \")\n",
    "display(max_values_df.tail(2))\n",
    "print(\"\\n\")\n",
    "\n",
    "min_values_df = pd.DataFrame([block.min() for block in blocks])\n",
    "min_values_df = min_values_df.iloc[np.repeat(np.arange(len(min_values_df)), 24)]\n",
    "min_values_df = min_values_df.reset_index(drop=True)\n",
    "\n",
    "min_values_df.columns = [i.removesuffix('_A_LOAD_LAG1') for i in min_values_df.columns]\n",
    "min_values_df = min_values_df.add_suffix(\"_PREV_MIN\")\n",
    "print(\"Columns with min load from previous day: \")\n",
    "display(min_values_df.tail(2))\n",
    "print(\"\\n\")"
   ]
  },
  {
   "cell_type": "code",
   "execution_count": 15,
   "metadata": {},
   "outputs": [
    {
     "data": {
      "text/html": [
       "<div>\n",
       "<style scoped>\n",
       "    .dataframe tbody tr th:only-of-type {\n",
       "        vertical-align: middle;\n",
       "    }\n",
       "\n",
       "    .dataframe tbody tr th {\n",
       "        vertical-align: top;\n",
       "    }\n",
       "\n",
       "    .dataframe thead th {\n",
       "        text-align: right;\n",
       "    }\n",
       "</style>\n",
       "<table border=\"1\" class=\"dataframe\">\n",
       "  <thead>\n",
       "    <tr style=\"text-align: right;\">\n",
       "      <th></th>\n",
       "      <th>MIDATL_A_LOAD_LAG1</th>\n",
       "      <th>SOUTH_A_LOAD_LAG1</th>\n",
       "      <th>WEST_A_LOAD_LAG1</th>\n",
       "    </tr>\n",
       "  </thead>\n",
       "  <tbody>\n",
       "    <tr>\n",
       "      <th>0</th>\n",
       "      <td>33886.695</td>\n",
       "      <td>11062.641</td>\n",
       "      <td>49664.699</td>\n",
       "    </tr>\n",
       "  </tbody>\n",
       "</table>\n",
       "</div>"
      ],
      "text/plain": [
       "   MIDATL_A_LOAD_LAG1  SOUTH_A_LOAD_LAG1  WEST_A_LOAD_LAG1\n",
       "0           33886.695          11062.641         49664.699"
      ]
     },
     "execution_count": 15,
     "metadata": {},
     "output_type": "execute_result"
    }
   ],
   "source": [
    "pd.DataFrame(load_lag_1.iloc[-24:].max()).T"
   ]
  },
  {
   "cell_type": "markdown",
   "metadata": {},
   "source": [
    "PROCESSING TEMPERATURE DATA"
   ]
  },
  {
   "cell_type": "code",
   "execution_count": 16,
   "metadata": {},
   "outputs": [
    {
     "data": {
      "text/html": [
       "<div>\n",
       "<style scoped>\n",
       "    .dataframe tbody tr th:only-of-type {\n",
       "        vertical-align: middle;\n",
       "    }\n",
       "\n",
       "    .dataframe tbody tr th {\n",
       "        vertical-align: top;\n",
       "    }\n",
       "\n",
       "    .dataframe thead th {\n",
       "        text-align: right;\n",
       "    }\n",
       "</style>\n",
       "<table border=\"1\" class=\"dataframe\">\n",
       "  <thead>\n",
       "    <tr style=\"text-align: right;\">\n",
       "      <th></th>\n",
       "      <th>MIDATL_A_TEMP</th>\n",
       "      <th>SOUTH_A_TEMP</th>\n",
       "      <th>WEST_A_TEMP</th>\n",
       "    </tr>\n",
       "  </thead>\n",
       "  <tbody>\n",
       "    <tr>\n",
       "      <th>43822</th>\n",
       "      <td>45.0</td>\n",
       "      <td>46.0</td>\n",
       "      <td>34.0</td>\n",
       "    </tr>\n",
       "    <tr>\n",
       "      <th>43823</th>\n",
       "      <td>43.0</td>\n",
       "      <td>45.0</td>\n",
       "      <td>33.1</td>\n",
       "    </tr>\n",
       "  </tbody>\n",
       "</table>\n",
       "</div>"
      ],
      "text/plain": [
       "       MIDATL_A_TEMP  SOUTH_A_TEMP  WEST_A_TEMP\n",
       "43822           45.0          46.0         34.0\n",
       "43823           43.0          45.0         33.1"
      ]
     },
     "metadata": {},
     "output_type": "display_data"
    }
   ],
   "source": [
    "# Fetching and concatenating the data\n",
    "temp_ds = pd.concat([pd.read_csv(os.path.join(path, dataset, fileName),\n",
    "                                 usecols= [\"tmpf\"]) for fileName in fileList], axis= 1)\n",
    "temp_ds.columns = [i.removesuffix('.csv') for i in fileList]\n",
    "temp_ds = temp_ds.add_suffix(\"_A_TEMP\")\n",
    "display(temp_ds.tail(2))"
   ]
  },
  {
   "cell_type": "markdown",
   "metadata": {},
   "source": [
    "### PREPARING X AND Y PART"
   ]
  },
  {
   "cell_type": "code",
   "execution_count": 17,
   "metadata": {},
   "outputs": [
    {
     "name": "stdout",
     "output_type": "stream",
     "text": [
      "NUMBER OF COLUMNS:  19 \n",
      "\n",
      "The train-test split index is:  34895\n",
      "The last date of train dataset: \n"
     ]
    },
    {
     "data": {
      "text/html": [
       "<div>\n",
       "<style scoped>\n",
       "    .dataframe tbody tr th:only-of-type {\n",
       "        vertical-align: middle;\n",
       "    }\n",
       "\n",
       "    .dataframe tbody tr th {\n",
       "        vertical-align: top;\n",
       "    }\n",
       "\n",
       "    .dataframe thead th {\n",
       "        text-align: right;\n",
       "    }\n",
       "</style>\n",
       "<table border=\"1\" class=\"dataframe\">\n",
       "  <thead>\n",
       "    <tr style=\"text-align: right;\">\n",
       "      <th></th>\n",
       "      <th>AA_ept</th>\n",
       "      <th>MIDATL_A_LOAD_LAG1</th>\n",
       "      <th>MIDATL_A_LOAD_LAG7</th>\n",
       "      <th>MIDATL_A_TEMP</th>\n",
       "      <th>MIDATL_LAST_ELEM</th>\n",
       "      <th>MIDATL_PREV_MAX</th>\n",
       "      <th>MIDATL_PREV_MIN</th>\n",
       "      <th>SOUTH_A_LOAD_LAG1</th>\n",
       "      <th>SOUTH_A_LOAD_LAG7</th>\n",
       "      <th>SOUTH_A_TEMP</th>\n",
       "      <th>SOUTH_LAST_ELEM</th>\n",
       "      <th>SOUTH_PREV_MAX</th>\n",
       "      <th>SOUTH_PREV_MIN</th>\n",
       "      <th>WEST_A_LOAD_LAG1</th>\n",
       "      <th>WEST_A_LOAD_LAG7</th>\n",
       "      <th>WEST_A_TEMP</th>\n",
       "      <th>WEST_LAST_ELEM</th>\n",
       "      <th>WEST_PREV_MAX</th>\n",
       "      <th>WEST_PREV_MIN</th>\n",
       "    </tr>\n",
       "  </thead>\n",
       "  <tbody>\n",
       "    <tr>\n",
       "      <th>34894</th>\n",
       "      <td>2018-12-31 22:00:00</td>\n",
       "      <td>30523.308</td>\n",
       "      <td>30164.732</td>\n",
       "      <td>46.0</td>\n",
       "      <td>28960.725</td>\n",
       "      <td>33002.665</td>\n",
       "      <td>25172.324</td>\n",
       "      <td>11098.212</td>\n",
       "      <td>11870.76</td>\n",
       "      <td>57.9</td>\n",
       "      <td>10679.493</td>\n",
       "      <td>11830.385</td>\n",
       "      <td>9655.646</td>\n",
       "      <td>45579.096</td>\n",
       "      <td>45389.004</td>\n",
       "      <td>60.1</td>\n",
       "      <td>43485.199</td>\n",
       "      <td>48245.288</td>\n",
       "      <td>40687.59</td>\n",
       "    </tr>\n",
       "    <tr>\n",
       "      <th>34895</th>\n",
       "      <td>2018-12-31 23:00:00</td>\n",
       "      <td>28960.725</td>\n",
       "      <td>28912.872</td>\n",
       "      <td>46.9</td>\n",
       "      <td>28960.725</td>\n",
       "      <td>33002.665</td>\n",
       "      <td>25172.324</td>\n",
       "      <td>10679.493</td>\n",
       "      <td>11628.11</td>\n",
       "      <td>61.0</td>\n",
       "      <td>10679.493</td>\n",
       "      <td>11830.385</td>\n",
       "      <td>9655.646</td>\n",
       "      <td>43485.199</td>\n",
       "      <td>44236.049</td>\n",
       "      <td>59.0</td>\n",
       "      <td>43485.199</td>\n",
       "      <td>48245.288</td>\n",
       "      <td>40687.59</td>\n",
       "    </tr>\n",
       "  </tbody>\n",
       "</table>\n",
       "</div>"
      ],
      "text/plain": [
       "                   AA_ept  MIDATL_A_LOAD_LAG1  MIDATL_A_LOAD_LAG7   \n",
       "34894 2018-12-31 22:00:00           30523.308           30164.732  \\\n",
       "34895 2018-12-31 23:00:00           28960.725           28912.872   \n",
       "\n",
       "       MIDATL_A_TEMP  MIDATL_LAST_ELEM  MIDATL_PREV_MAX  MIDATL_PREV_MIN   \n",
       "34894           46.0         28960.725        33002.665        25172.324  \\\n",
       "34895           46.9         28960.725        33002.665        25172.324   \n",
       "\n",
       "       SOUTH_A_LOAD_LAG1  SOUTH_A_LOAD_LAG7  SOUTH_A_TEMP  SOUTH_LAST_ELEM   \n",
       "34894          11098.212           11870.76          57.9        10679.493  \\\n",
       "34895          10679.493           11628.11          61.0        10679.493   \n",
       "\n",
       "       SOUTH_PREV_MAX  SOUTH_PREV_MIN  WEST_A_LOAD_LAG1  WEST_A_LOAD_LAG7   \n",
       "34894       11830.385        9655.646         45579.096         45389.004  \\\n",
       "34895       11830.385        9655.646         43485.199         44236.049   \n",
       "\n",
       "       WEST_A_TEMP  WEST_LAST_ELEM  WEST_PREV_MAX  WEST_PREV_MIN  \n",
       "34894         60.1       43485.199      48245.288       40687.59  \n",
       "34895         59.0       43485.199      48245.288       40687.59  "
      ]
     },
     "metadata": {},
     "output_type": "display_data"
    },
    {
     "name": "stdout",
     "output_type": "stream",
     "text": [
      "The first date of test dataset: \n"
     ]
    },
    {
     "data": {
      "text/html": [
       "<div>\n",
       "<style scoped>\n",
       "    .dataframe tbody tr th:only-of-type {\n",
       "        vertical-align: middle;\n",
       "    }\n",
       "\n",
       "    .dataframe tbody tr th {\n",
       "        vertical-align: top;\n",
       "    }\n",
       "\n",
       "    .dataframe thead th {\n",
       "        text-align: right;\n",
       "    }\n",
       "</style>\n",
       "<table border=\"1\" class=\"dataframe\">\n",
       "  <thead>\n",
       "    <tr style=\"text-align: right;\">\n",
       "      <th></th>\n",
       "      <th>AA_ept</th>\n",
       "      <th>MIDATL_A_LOAD_LAG1</th>\n",
       "      <th>MIDATL_A_LOAD_LAG7</th>\n",
       "      <th>MIDATL_A_TEMP</th>\n",
       "      <th>MIDATL_LAST_ELEM</th>\n",
       "      <th>MIDATL_PREV_MAX</th>\n",
       "      <th>MIDATL_PREV_MIN</th>\n",
       "      <th>SOUTH_A_LOAD_LAG1</th>\n",
       "      <th>SOUTH_A_LOAD_LAG7</th>\n",
       "      <th>SOUTH_A_TEMP</th>\n",
       "      <th>SOUTH_LAST_ELEM</th>\n",
       "      <th>SOUTH_PREV_MAX</th>\n",
       "      <th>SOUTH_PREV_MIN</th>\n",
       "      <th>WEST_A_LOAD_LAG1</th>\n",
       "      <th>WEST_A_LOAD_LAG7</th>\n",
       "      <th>WEST_A_TEMP</th>\n",
       "      <th>WEST_LAST_ELEM</th>\n",
       "      <th>WEST_PREV_MAX</th>\n",
       "      <th>WEST_PREV_MIN</th>\n",
       "    </tr>\n",
       "  </thead>\n",
       "  <tbody>\n",
       "    <tr>\n",
       "      <th>34896</th>\n",
       "      <td>2019-01-01 00:00:00</td>\n",
       "      <td>27705.901</td>\n",
       "      <td>27638.251</td>\n",
       "      <td>48.9</td>\n",
       "      <td>26808.48</td>\n",
       "      <td>35036.92</td>\n",
       "      <td>26734.653</td>\n",
       "      <td>10440.547</td>\n",
       "      <td>11370.606</td>\n",
       "      <td>64.0</td>\n",
       "      <td>9565.197</td>\n",
       "      <td>12291.394</td>\n",
       "      <td>9565.197</td>\n",
       "      <td>42003.07</td>\n",
       "      <td>42529.114</td>\n",
       "      <td>57.9</td>\n",
       "      <td>38951.401</td>\n",
       "      <td>47708.74</td>\n",
       "      <td>38951.401</td>\n",
       "    </tr>\n",
       "    <tr>\n",
       "      <th>34897</th>\n",
       "      <td>2019-01-01 01:00:00</td>\n",
       "      <td>27031.480</td>\n",
       "      <td>26801.717</td>\n",
       "      <td>52.0</td>\n",
       "      <td>26808.48</td>\n",
       "      <td>35036.92</td>\n",
       "      <td>26734.653</td>\n",
       "      <td>10240.250</td>\n",
       "      <td>11300.246</td>\n",
       "      <td>66.0</td>\n",
       "      <td>9565.197</td>\n",
       "      <td>12291.394</td>\n",
       "      <td>9565.197</td>\n",
       "      <td>40758.01</td>\n",
       "      <td>41413.051</td>\n",
       "      <td>54.0</td>\n",
       "      <td>38951.401</td>\n",
       "      <td>47708.74</td>\n",
       "      <td>38951.401</td>\n",
       "    </tr>\n",
       "  </tbody>\n",
       "</table>\n",
       "</div>"
      ],
      "text/plain": [
       "                   AA_ept  MIDATL_A_LOAD_LAG1  MIDATL_A_LOAD_LAG7   \n",
       "34896 2019-01-01 00:00:00           27705.901           27638.251  \\\n",
       "34897 2019-01-01 01:00:00           27031.480           26801.717   \n",
       "\n",
       "       MIDATL_A_TEMP  MIDATL_LAST_ELEM  MIDATL_PREV_MAX  MIDATL_PREV_MIN   \n",
       "34896           48.9          26808.48         35036.92        26734.653  \\\n",
       "34897           52.0          26808.48         35036.92        26734.653   \n",
       "\n",
       "       SOUTH_A_LOAD_LAG1  SOUTH_A_LOAD_LAG7  SOUTH_A_TEMP  SOUTH_LAST_ELEM   \n",
       "34896          10440.547          11370.606          64.0         9565.197  \\\n",
       "34897          10240.250          11300.246          66.0         9565.197   \n",
       "\n",
       "       SOUTH_PREV_MAX  SOUTH_PREV_MIN  WEST_A_LOAD_LAG1  WEST_A_LOAD_LAG7   \n",
       "34896       12291.394        9565.197          42003.07         42529.114  \\\n",
       "34897       12291.394        9565.197          40758.01         41413.051   \n",
       "\n",
       "       WEST_A_TEMP  WEST_LAST_ELEM  WEST_PREV_MAX  WEST_PREV_MIN  \n",
       "34896         57.9       38951.401       47708.74      38951.401  \n",
       "34897         54.0       38951.401       47708.74      38951.401  "
      ]
     },
     "metadata": {},
     "output_type": "display_data"
    },
    {
     "name": "stdout",
     "output_type": "stream",
     "text": [
      "\n",
      "\n",
      "LENGTH OF DATASET:  43656\n"
     ]
    },
    {
     "data": {
      "text/html": [
       "<div>\n",
       "<style scoped>\n",
       "    .dataframe tbody tr th:only-of-type {\n",
       "        vertical-align: middle;\n",
       "    }\n",
       "\n",
       "    .dataframe tbody tr th {\n",
       "        vertical-align: top;\n",
       "    }\n",
       "\n",
       "    .dataframe thead th {\n",
       "        text-align: right;\n",
       "    }\n",
       "</style>\n",
       "<table border=\"1\" class=\"dataframe\">\n",
       "  <thead>\n",
       "    <tr style=\"text-align: right;\">\n",
       "      <th></th>\n",
       "      <th>MIDATL_A_LOAD_LAG1</th>\n",
       "      <th>MIDATL_A_LOAD_LAG7</th>\n",
       "      <th>MIDATL_A_TEMP</th>\n",
       "      <th>MIDATL_LAST_ELEM</th>\n",
       "      <th>MIDATL_PREV_MAX</th>\n",
       "      <th>MIDATL_PREV_MIN</th>\n",
       "      <th>SOUTH_A_LOAD_LAG1</th>\n",
       "      <th>SOUTH_A_LOAD_LAG7</th>\n",
       "      <th>SOUTH_A_TEMP</th>\n",
       "      <th>SOUTH_LAST_ELEM</th>\n",
       "      <th>SOUTH_PREV_MAX</th>\n",
       "      <th>SOUTH_PREV_MIN</th>\n",
       "      <th>WEST_A_LOAD_LAG1</th>\n",
       "      <th>WEST_A_LOAD_LAG7</th>\n",
       "      <th>WEST_A_TEMP</th>\n",
       "      <th>WEST_LAST_ELEM</th>\n",
       "      <th>WEST_PREV_MAX</th>\n",
       "      <th>WEST_PREV_MIN</th>\n",
       "    </tr>\n",
       "  </thead>\n",
       "  <tbody>\n",
       "    <tr>\n",
       "      <th>43654</th>\n",
       "      <td>29356.335</td>\n",
       "      <td>29955.427</td>\n",
       "      <td>45.0</td>\n",
       "      <td>27736.439</td>\n",
       "      <td>33886.695</td>\n",
       "      <td>23677.338</td>\n",
       "      <td>9765.158</td>\n",
       "      <td>11519.032</td>\n",
       "      <td>46.0</td>\n",
       "      <td>9225.152</td>\n",
       "      <td>11062.641</td>\n",
       "      <td>8222.136</td>\n",
       "      <td>45404.894</td>\n",
       "      <td>41556.164</td>\n",
       "      <td>34.0</td>\n",
       "      <td>43190.705</td>\n",
       "      <td>49664.699</td>\n",
       "      <td>34568.761</td>\n",
       "    </tr>\n",
       "    <tr>\n",
       "      <th>43655</th>\n",
       "      <td>27736.439</td>\n",
       "      <td>28929.156</td>\n",
       "      <td>43.0</td>\n",
       "      <td>27736.439</td>\n",
       "      <td>33886.695</td>\n",
       "      <td>23677.338</td>\n",
       "      <td>9225.152</td>\n",
       "      <td>11314.571</td>\n",
       "      <td>45.0</td>\n",
       "      <td>9225.152</td>\n",
       "      <td>11062.641</td>\n",
       "      <td>8222.136</td>\n",
       "      <td>43190.705</td>\n",
       "      <td>40399.011</td>\n",
       "      <td>33.1</td>\n",
       "      <td>43190.705</td>\n",
       "      <td>49664.699</td>\n",
       "      <td>34568.761</td>\n",
       "    </tr>\n",
       "  </tbody>\n",
       "</table>\n",
       "</div>"
      ],
      "text/plain": [
       "       MIDATL_A_LOAD_LAG1  MIDATL_A_LOAD_LAG7  MIDATL_A_TEMP   \n",
       "43654           29356.335           29955.427           45.0  \\\n",
       "43655           27736.439           28929.156           43.0   \n",
       "\n",
       "       MIDATL_LAST_ELEM  MIDATL_PREV_MAX  MIDATL_PREV_MIN  SOUTH_A_LOAD_LAG1   \n",
       "43654         27736.439        33886.695        23677.338           9765.158  \\\n",
       "43655         27736.439        33886.695        23677.338           9225.152   \n",
       "\n",
       "       SOUTH_A_LOAD_LAG7  SOUTH_A_TEMP  SOUTH_LAST_ELEM  SOUTH_PREV_MAX   \n",
       "43654          11519.032          46.0         9225.152       11062.641  \\\n",
       "43655          11314.571          45.0         9225.152       11062.641   \n",
       "\n",
       "       SOUTH_PREV_MIN  WEST_A_LOAD_LAG1  WEST_A_LOAD_LAG7  WEST_A_TEMP   \n",
       "43654        8222.136         45404.894         41556.164         34.0  \\\n",
       "43655        8222.136         43190.705         40399.011         33.1   \n",
       "\n",
       "       WEST_LAST_ELEM  WEST_PREV_MAX  WEST_PREV_MIN  \n",
       "43654       43190.705      49664.699      34568.761  \n",
       "43655       43190.705      49664.699      34568.761  "
      ]
     },
     "metadata": {},
     "output_type": "display_data"
    },
    {
     "name": "stdout",
     "output_type": "stream",
     "text": [
      "\n",
      "\n",
      "First few values of continuous values dataframe: \n"
     ]
    },
    {
     "data": {
      "text/html": [
       "<div>\n",
       "<style scoped>\n",
       "    .dataframe tbody tr th:only-of-type {\n",
       "        vertical-align: middle;\n",
       "    }\n",
       "\n",
       "    .dataframe tbody tr th {\n",
       "        vertical-align: top;\n",
       "    }\n",
       "\n",
       "    .dataframe thead th {\n",
       "        text-align: right;\n",
       "    }\n",
       "</style>\n",
       "<table border=\"1\" class=\"dataframe\">\n",
       "  <thead>\n",
       "    <tr style=\"text-align: right;\">\n",
       "      <th></th>\n",
       "      <th>MIDATL_A_LOAD_LAG1</th>\n",
       "      <th>MIDATL_A_LOAD_LAG7</th>\n",
       "      <th>MIDATL_A_TEMP</th>\n",
       "      <th>MIDATL_LAST_ELEM</th>\n",
       "      <th>MIDATL_PREV_MAX</th>\n",
       "      <th>MIDATL_PREV_MIN</th>\n",
       "      <th>SOUTH_A_LOAD_LAG1</th>\n",
       "      <th>SOUTH_A_LOAD_LAG7</th>\n",
       "      <th>SOUTH_A_TEMP</th>\n",
       "      <th>SOUTH_LAST_ELEM</th>\n",
       "      <th>SOUTH_PREV_MAX</th>\n",
       "      <th>SOUTH_PREV_MIN</th>\n",
       "      <th>WEST_A_LOAD_LAG1</th>\n",
       "      <th>WEST_A_LOAD_LAG7</th>\n",
       "      <th>WEST_A_TEMP</th>\n",
       "      <th>WEST_LAST_ELEM</th>\n",
       "      <th>WEST_PREV_MAX</th>\n",
       "      <th>WEST_PREV_MIN</th>\n",
       "    </tr>\n",
       "  </thead>\n",
       "  <tbody>\n",
       "    <tr>\n",
       "      <th>0</th>\n",
       "      <td>34280.487</td>\n",
       "      <td>31660.636</td>\n",
       "      <td>12.92</td>\n",
       "      <td>40278.503</td>\n",
       "      <td>46771.182</td>\n",
       "      <td>33197.699</td>\n",
       "      <td>12369.371</td>\n",
       "      <td>12571.309</td>\n",
       "      <td>17.06</td>\n",
       "      <td>16866.808</td>\n",
       "      <td>17994.681</td>\n",
       "      <td>12223.193</td>\n",
       "      <td>54921.369</td>\n",
       "      <td>49769.768</td>\n",
       "      <td>1.94</td>\n",
       "      <td>64477.44</td>\n",
       "      <td>71090.7</td>\n",
       "      <td>53383.381</td>\n",
       "    </tr>\n",
       "    <tr>\n",
       "      <th>1</th>\n",
       "      <td>33507.163</td>\n",
       "      <td>30766.066</td>\n",
       "      <td>12.02</td>\n",
       "      <td>40278.503</td>\n",
       "      <td>46771.182</td>\n",
       "      <td>33197.699</td>\n",
       "      <td>12298.817</td>\n",
       "      <td>12449.182</td>\n",
       "      <td>15.98</td>\n",
       "      <td>16866.808</td>\n",
       "      <td>17994.681</td>\n",
       "      <td>12223.193</td>\n",
       "      <td>53773.069</td>\n",
       "      <td>48714.914</td>\n",
       "      <td>1.04</td>\n",
       "      <td>64477.44</td>\n",
       "      <td>71090.7</td>\n",
       "      <td>53383.381</td>\n",
       "    </tr>\n",
       "  </tbody>\n",
       "</table>\n",
       "</div>"
      ],
      "text/plain": [
       "   MIDATL_A_LOAD_LAG1  MIDATL_A_LOAD_LAG7  MIDATL_A_TEMP  MIDATL_LAST_ELEM   \n",
       "0           34280.487           31660.636          12.92         40278.503  \\\n",
       "1           33507.163           30766.066          12.02         40278.503   \n",
       "\n",
       "   MIDATL_PREV_MAX  MIDATL_PREV_MIN  SOUTH_A_LOAD_LAG1  SOUTH_A_LOAD_LAG7   \n",
       "0        46771.182        33197.699          12369.371          12571.309  \\\n",
       "1        46771.182        33197.699          12298.817          12449.182   \n",
       "\n",
       "   SOUTH_A_TEMP  SOUTH_LAST_ELEM  SOUTH_PREV_MAX  SOUTH_PREV_MIN   \n",
       "0         17.06        16866.808       17994.681       12223.193  \\\n",
       "1         15.98        16866.808       17994.681       12223.193   \n",
       "\n",
       "   WEST_A_LOAD_LAG1  WEST_A_LOAD_LAG7  WEST_A_TEMP  WEST_LAST_ELEM   \n",
       "0         54921.369         49769.768         1.94        64477.44  \\\n",
       "1         53773.069         48714.914         1.04        64477.44   \n",
       "\n",
       "   WEST_PREV_MAX  WEST_PREV_MIN  \n",
       "0        71090.7      53383.381  \n",
       "1        71090.7      53383.381  "
      ]
     },
     "metadata": {},
     "output_type": "display_data"
    }
   ],
   "source": [
    "# Concatenating the engineered features\n",
    "X_continuous = pd.concat([date_col, load_lag_1, load_lag_7, temp_ds, last_elem, max_values_df, min_values_df], axis=1)\n",
    "X_continuous = X_continuous.sort_index(axis=1)\n",
    "X_continuous = X_continuous.iloc[drop_idx:].reset_index(drop=True)\n",
    "\n",
    "# Fetching the train index from the processed dataframe\n",
    "train_end_idx = X_continuous[X_continuous.AA_ept.dt.year.between(2015, 2018)].index[-1]\n",
    "print(\"NUMBER OF COLUMNS: \", len(X_continuous.columns), \"\\n\")\n",
    "print(\"The train-test split index is: \", train_end_idx)\n",
    "print(\"The last date of train dataset: \")\n",
    "display(X_continuous.loc[:train_end_idx].tail(2))\n",
    "\n",
    "print(\"The first date of test dataset: \")\n",
    "display(X_continuous.loc[train_end_idx + 1:].head(2))\n",
    "print('\\n')\n",
    "\n",
    "# Dropping the datetime column after fetching the train-test split index\n",
    "X_continuous = X_continuous.drop(columns=['AA_ept'])\n",
    "print(\"LENGTH OF DATASET: \", len(X_continuous))\n",
    "display(X_continuous.tail(2))\n",
    "print(\"\\n\")\n",
    "\n",
    "# First few values of the continuous values dataframe\n",
    "print(\"First few values of continuous values dataframe: \")\n",
    "display(X_continuous.head(2))"
   ]
  },
  {
   "cell_type": "code",
   "execution_count": 18,
   "metadata": {},
   "outputs": [
    {
     "data": {
      "text/plain": [
       "MIDATL_A_LOAD_LAG1    False\n",
       "MIDATL_A_LOAD_LAG7    False\n",
       "MIDATL_A_TEMP         False\n",
       "MIDATL_LAST_ELEM      False\n",
       "MIDATL_PREV_MAX       False\n",
       "MIDATL_PREV_MIN       False\n",
       "SOUTH_A_LOAD_LAG1     False\n",
       "SOUTH_A_LOAD_LAG7     False\n",
       "SOUTH_A_TEMP          False\n",
       "SOUTH_LAST_ELEM       False\n",
       "SOUTH_PREV_MAX        False\n",
       "SOUTH_PREV_MIN        False\n",
       "WEST_A_LOAD_LAG1      False\n",
       "WEST_A_LOAD_LAG7      False\n",
       "WEST_A_TEMP           False\n",
       "WEST_LAST_ELEM        False\n",
       "WEST_PREV_MAX         False\n",
       "WEST_PREV_MIN         False\n",
       "dtype: bool"
      ]
     },
     "execution_count": 18,
     "metadata": {},
     "output_type": "execute_result"
    }
   ],
   "source": [
    "X_continuous.isna().any()"
   ]
  },
  {
   "cell_type": "code",
   "execution_count": 19,
   "metadata": {},
   "outputs": [
    {
     "name": "stdout",
     "output_type": "stream",
     "text": [
      "LENGTH OF DATASET:  43656\n",
      "NUMBER OF COLUMNS:  74\n"
     ]
    },
    {
     "data": {
      "text/html": [
       "<div>\n",
       "<style scoped>\n",
       "    .dataframe tbody tr th:only-of-type {\n",
       "        vertical-align: middle;\n",
       "    }\n",
       "\n",
       "    .dataframe tbody tr th {\n",
       "        vertical-align: top;\n",
       "    }\n",
       "\n",
       "    .dataframe thead th {\n",
       "        text-align: right;\n",
       "    }\n",
       "</style>\n",
       "<table border=\"1\" class=\"dataframe\">\n",
       "  <thead>\n",
       "    <tr style=\"text-align: right;\">\n",
       "      <th></th>\n",
       "      <th>0</th>\n",
       "      <th>1</th>\n",
       "      <th>2</th>\n",
       "      <th>3</th>\n",
       "      <th>4</th>\n",
       "      <th>5</th>\n",
       "      <th>6</th>\n",
       "      <th>7</th>\n",
       "      <th>8</th>\n",
       "      <th>9</th>\n",
       "      <th>...</th>\n",
       "      <th>64</th>\n",
       "      <th>65</th>\n",
       "      <th>66</th>\n",
       "      <th>67</th>\n",
       "      <th>68</th>\n",
       "      <th>69</th>\n",
       "      <th>70</th>\n",
       "      <th>71</th>\n",
       "      <th>72</th>\n",
       "      <th>73</th>\n",
       "    </tr>\n",
       "  </thead>\n",
       "  <tbody>\n",
       "    <tr>\n",
       "      <th>43654</th>\n",
       "      <td>0.0</td>\n",
       "      <td>0.0</td>\n",
       "      <td>0.0</td>\n",
       "      <td>0.0</td>\n",
       "      <td>0.0</td>\n",
       "      <td>0.0</td>\n",
       "      <td>0.0</td>\n",
       "      <td>0.0</td>\n",
       "      <td>0.0</td>\n",
       "      <td>0.0</td>\n",
       "      <td>...</td>\n",
       "      <td>0.0</td>\n",
       "      <td>1.0</td>\n",
       "      <td>0.0</td>\n",
       "      <td>0.0</td>\n",
       "      <td>1.0</td>\n",
       "      <td>0.0</td>\n",
       "      <td>0.0</td>\n",
       "      <td>0.0</td>\n",
       "      <td>0.0</td>\n",
       "      <td>0.0</td>\n",
       "    </tr>\n",
       "    <tr>\n",
       "      <th>43655</th>\n",
       "      <td>0.0</td>\n",
       "      <td>0.0</td>\n",
       "      <td>0.0</td>\n",
       "      <td>0.0</td>\n",
       "      <td>0.0</td>\n",
       "      <td>0.0</td>\n",
       "      <td>0.0</td>\n",
       "      <td>0.0</td>\n",
       "      <td>0.0</td>\n",
       "      <td>0.0</td>\n",
       "      <td>...</td>\n",
       "      <td>0.0</td>\n",
       "      <td>0.0</td>\n",
       "      <td>1.0</td>\n",
       "      <td>0.0</td>\n",
       "      <td>1.0</td>\n",
       "      <td>0.0</td>\n",
       "      <td>0.0</td>\n",
       "      <td>0.0</td>\n",
       "      <td>0.0</td>\n",
       "      <td>0.0</td>\n",
       "    </tr>\n",
       "  </tbody>\n",
       "</table>\n",
       "<p>2 rows × 74 columns</p>\n",
       "</div>"
      ],
      "text/plain": [
       "        0    1    2    3    4    5    6    7    8    9   ...   64   65   66   \n",
       "43654  0.0  0.0  0.0  0.0  0.0  0.0  0.0  0.0  0.0  0.0  ...  0.0  1.0  0.0  \\\n",
       "43655  0.0  0.0  0.0  0.0  0.0  0.0  0.0  0.0  0.0  0.0  ...  0.0  0.0  1.0   \n",
       "\n",
       "        67   68   69   70   71   72   73  \n",
       "43654  0.0  1.0  0.0  0.0  0.0  0.0  0.0  \n",
       "43655  0.0  1.0  0.0  0.0  0.0  0.0  0.0  \n",
       "\n",
       "[2 rows x 74 columns]"
      ]
     },
     "metadata": {},
     "output_type": "display_data"
    }
   ],
   "source": [
    "X_categorical = pd.DataFrame(categorical_data)\n",
    "X_categorical = X_categorical.iloc[drop_idx:].reset_index(drop=True)\n",
    "print(\"LENGTH OF DATASET: \", len(X_categorical))\n",
    "print(\"NUMBER OF COLUMNS: \", len(X_categorical.columns))\n",
    "display(X_categorical.tail(2))"
   ]
  },
  {
   "cell_type": "code",
   "execution_count": 20,
   "metadata": {},
   "outputs": [
    {
     "name": "stdout",
     "output_type": "stream",
     "text": [
      "LENGTH OF DATASET:  43656\n"
     ]
    },
    {
     "data": {
      "text/html": [
       "<div>\n",
       "<style scoped>\n",
       "    .dataframe tbody tr th:only-of-type {\n",
       "        vertical-align: middle;\n",
       "    }\n",
       "\n",
       "    .dataframe tbody tr th {\n",
       "        vertical-align: top;\n",
       "    }\n",
       "\n",
       "    .dataframe thead th {\n",
       "        text-align: right;\n",
       "    }\n",
       "</style>\n",
       "<table border=\"1\" class=\"dataframe\">\n",
       "  <thead>\n",
       "    <tr style=\"text-align: right;\">\n",
       "      <th></th>\n",
       "      <th>MIDATL_A_LOAD</th>\n",
       "      <th>SOUTH_A_LOAD</th>\n",
       "      <th>WEST_A_LOAD</th>\n",
       "    </tr>\n",
       "  </thead>\n",
       "  <tbody>\n",
       "    <tr>\n",
       "      <th>43654</th>\n",
       "      <td>28458.691</td>\n",
       "      <td>10838.550</td>\n",
       "      <td>45132.982</td>\n",
       "    </tr>\n",
       "    <tr>\n",
       "      <th>43655</th>\n",
       "      <td>27428.213</td>\n",
       "      <td>10592.674</td>\n",
       "      <td>43501.529</td>\n",
       "    </tr>\n",
       "  </tbody>\n",
       "</table>\n",
       "</div>"
      ],
      "text/plain": [
       "       MIDATL_A_LOAD  SOUTH_A_LOAD  WEST_A_LOAD\n",
       "43654      28458.691     10838.550    45132.982\n",
       "43655      27428.213     10592.674    43501.529"
      ]
     },
     "metadata": {},
     "output_type": "display_data"
    }
   ],
   "source": [
    "Y = load_ds.copy()\n",
    "Y = Y.sort_index(axis=1)\n",
    "Y = Y.iloc[drop_idx:].reset_index(drop=True)\n",
    "print(\"LENGTH OF DATASET: \", len(Y))\n",
    "display(Y.tail(2))"
   ]
  },
  {
   "cell_type": "code",
   "execution_count": 21,
   "metadata": {},
   "outputs": [
    {
     "name": "stdout",
     "output_type": "stream",
     "text": [
      "Train samples:  34896\n",
      "Test samples:  8760\n"
     ]
    }
   ],
   "source": [
    "### SPLITTING THE DATA INTO TRAINING AND TESTING\n",
    "print(\"Train samples: \", len(X_continuous.loc[:train_end_idx]))\n",
    "print(\"Test samples: \", len(X_continuous.loc[train_end_idx + 1:]))"
   ]
  },
  {
   "cell_type": "code",
   "execution_count": 22,
   "metadata": {},
   "outputs": [
    {
     "name": "stdout",
     "output_type": "stream",
     "text": [
      "Train split of continuous data: \n"
     ]
    },
    {
     "data": {
      "text/html": [
       "<div>\n",
       "<style scoped>\n",
       "    .dataframe tbody tr th:only-of-type {\n",
       "        vertical-align: middle;\n",
       "    }\n",
       "\n",
       "    .dataframe tbody tr th {\n",
       "        vertical-align: top;\n",
       "    }\n",
       "\n",
       "    .dataframe thead th {\n",
       "        text-align: right;\n",
       "    }\n",
       "</style>\n",
       "<table border=\"1\" class=\"dataframe\">\n",
       "  <thead>\n",
       "    <tr style=\"text-align: right;\">\n",
       "      <th></th>\n",
       "      <th>MIDATL_A_LOAD_LAG1</th>\n",
       "      <th>MIDATL_A_LOAD_LAG7</th>\n",
       "      <th>MIDATL_A_TEMP</th>\n",
       "      <th>MIDATL_LAST_ELEM</th>\n",
       "      <th>MIDATL_PREV_MAX</th>\n",
       "      <th>MIDATL_PREV_MIN</th>\n",
       "      <th>SOUTH_A_LOAD_LAG1</th>\n",
       "      <th>SOUTH_A_LOAD_LAG7</th>\n",
       "      <th>SOUTH_A_TEMP</th>\n",
       "      <th>SOUTH_LAST_ELEM</th>\n",
       "      <th>SOUTH_PREV_MAX</th>\n",
       "      <th>SOUTH_PREV_MIN</th>\n",
       "      <th>WEST_A_LOAD_LAG1</th>\n",
       "      <th>WEST_A_LOAD_LAG7</th>\n",
       "      <th>WEST_A_TEMP</th>\n",
       "      <th>WEST_LAST_ELEM</th>\n",
       "      <th>WEST_PREV_MAX</th>\n",
       "      <th>WEST_PREV_MIN</th>\n",
       "    </tr>\n",
       "  </thead>\n",
       "  <tbody>\n",
       "    <tr>\n",
       "      <th>34894</th>\n",
       "      <td>30523.308</td>\n",
       "      <td>30164.732</td>\n",
       "      <td>46.0</td>\n",
       "      <td>28960.725</td>\n",
       "      <td>33002.665</td>\n",
       "      <td>25172.324</td>\n",
       "      <td>11098.212</td>\n",
       "      <td>11870.76</td>\n",
       "      <td>57.9</td>\n",
       "      <td>10679.493</td>\n",
       "      <td>11830.385</td>\n",
       "      <td>9655.646</td>\n",
       "      <td>45579.096</td>\n",
       "      <td>45389.004</td>\n",
       "      <td>60.1</td>\n",
       "      <td>43485.199</td>\n",
       "      <td>48245.288</td>\n",
       "      <td>40687.59</td>\n",
       "    </tr>\n",
       "    <tr>\n",
       "      <th>34895</th>\n",
       "      <td>28960.725</td>\n",
       "      <td>28912.872</td>\n",
       "      <td>46.9</td>\n",
       "      <td>28960.725</td>\n",
       "      <td>33002.665</td>\n",
       "      <td>25172.324</td>\n",
       "      <td>10679.493</td>\n",
       "      <td>11628.11</td>\n",
       "      <td>61.0</td>\n",
       "      <td>10679.493</td>\n",
       "      <td>11830.385</td>\n",
       "      <td>9655.646</td>\n",
       "      <td>43485.199</td>\n",
       "      <td>44236.049</td>\n",
       "      <td>59.0</td>\n",
       "      <td>43485.199</td>\n",
       "      <td>48245.288</td>\n",
       "      <td>40687.59</td>\n",
       "    </tr>\n",
       "  </tbody>\n",
       "</table>\n",
       "</div>"
      ],
      "text/plain": [
       "       MIDATL_A_LOAD_LAG1  MIDATL_A_LOAD_LAG7  MIDATL_A_TEMP   \n",
       "34894           30523.308           30164.732           46.0  \\\n",
       "34895           28960.725           28912.872           46.9   \n",
       "\n",
       "       MIDATL_LAST_ELEM  MIDATL_PREV_MAX  MIDATL_PREV_MIN  SOUTH_A_LOAD_LAG1   \n",
       "34894         28960.725        33002.665        25172.324          11098.212  \\\n",
       "34895         28960.725        33002.665        25172.324          10679.493   \n",
       "\n",
       "       SOUTH_A_LOAD_LAG7  SOUTH_A_TEMP  SOUTH_LAST_ELEM  SOUTH_PREV_MAX   \n",
       "34894           11870.76          57.9        10679.493       11830.385  \\\n",
       "34895           11628.11          61.0        10679.493       11830.385   \n",
       "\n",
       "       SOUTH_PREV_MIN  WEST_A_LOAD_LAG1  WEST_A_LOAD_LAG7  WEST_A_TEMP   \n",
       "34894        9655.646         45579.096         45389.004         60.1  \\\n",
       "34895        9655.646         43485.199         44236.049         59.0   \n",
       "\n",
       "       WEST_LAST_ELEM  WEST_PREV_MAX  WEST_PREV_MIN  \n",
       "34894       43485.199      48245.288       40687.59  \n",
       "34895       43485.199      48245.288       40687.59  "
      ]
     },
     "metadata": {},
     "output_type": "display_data"
    },
    {
     "name": "stdout",
     "output_type": "stream",
     "text": [
      "Train split of categorical data: \n"
     ]
    },
    {
     "data": {
      "text/html": [
       "<div>\n",
       "<style scoped>\n",
       "    .dataframe tbody tr th:only-of-type {\n",
       "        vertical-align: middle;\n",
       "    }\n",
       "\n",
       "    .dataframe tbody tr th {\n",
       "        vertical-align: top;\n",
       "    }\n",
       "\n",
       "    .dataframe thead th {\n",
       "        text-align: right;\n",
       "    }\n",
       "</style>\n",
       "<table border=\"1\" class=\"dataframe\">\n",
       "  <thead>\n",
       "    <tr style=\"text-align: right;\">\n",
       "      <th></th>\n",
       "      <th>0</th>\n",
       "      <th>1</th>\n",
       "      <th>2</th>\n",
       "      <th>3</th>\n",
       "      <th>4</th>\n",
       "      <th>5</th>\n",
       "      <th>6</th>\n",
       "      <th>7</th>\n",
       "      <th>8</th>\n",
       "      <th>9</th>\n",
       "      <th>...</th>\n",
       "      <th>64</th>\n",
       "      <th>65</th>\n",
       "      <th>66</th>\n",
       "      <th>67</th>\n",
       "      <th>68</th>\n",
       "      <th>69</th>\n",
       "      <th>70</th>\n",
       "      <th>71</th>\n",
       "      <th>72</th>\n",
       "      <th>73</th>\n",
       "    </tr>\n",
       "  </thead>\n",
       "  <tbody>\n",
       "    <tr>\n",
       "      <th>34894</th>\n",
       "      <td>0.0</td>\n",
       "      <td>0.0</td>\n",
       "      <td>0.0</td>\n",
       "      <td>0.0</td>\n",
       "      <td>0.0</td>\n",
       "      <td>0.0</td>\n",
       "      <td>0.0</td>\n",
       "      <td>0.0</td>\n",
       "      <td>0.0</td>\n",
       "      <td>0.0</td>\n",
       "      <td>...</td>\n",
       "      <td>0.0</td>\n",
       "      <td>1.0</td>\n",
       "      <td>0.0</td>\n",
       "      <td>1.0</td>\n",
       "      <td>0.0</td>\n",
       "      <td>0.0</td>\n",
       "      <td>0.0</td>\n",
       "      <td>0.0</td>\n",
       "      <td>0.0</td>\n",
       "      <td>0.0</td>\n",
       "    </tr>\n",
       "    <tr>\n",
       "      <th>34895</th>\n",
       "      <td>0.0</td>\n",
       "      <td>0.0</td>\n",
       "      <td>0.0</td>\n",
       "      <td>0.0</td>\n",
       "      <td>0.0</td>\n",
       "      <td>0.0</td>\n",
       "      <td>0.0</td>\n",
       "      <td>0.0</td>\n",
       "      <td>0.0</td>\n",
       "      <td>0.0</td>\n",
       "      <td>...</td>\n",
       "      <td>0.0</td>\n",
       "      <td>0.0</td>\n",
       "      <td>1.0</td>\n",
       "      <td>1.0</td>\n",
       "      <td>0.0</td>\n",
       "      <td>0.0</td>\n",
       "      <td>0.0</td>\n",
       "      <td>0.0</td>\n",
       "      <td>0.0</td>\n",
       "      <td>0.0</td>\n",
       "    </tr>\n",
       "  </tbody>\n",
       "</table>\n",
       "<p>2 rows × 74 columns</p>\n",
       "</div>"
      ],
      "text/plain": [
       "        0    1    2    3    4    5    6    7    8    9   ...   64   65   66   \n",
       "34894  0.0  0.0  0.0  0.0  0.0  0.0  0.0  0.0  0.0  0.0  ...  0.0  1.0  0.0  \\\n",
       "34895  0.0  0.0  0.0  0.0  0.0  0.0  0.0  0.0  0.0  0.0  ...  0.0  0.0  1.0   \n",
       "\n",
       "        67   68   69   70   71   72   73  \n",
       "34894  1.0  0.0  0.0  0.0  0.0  0.0  0.0  \n",
       "34895  1.0  0.0  0.0  0.0  0.0  0.0  0.0  \n",
       "\n",
       "[2 rows x 74 columns]"
      ]
     },
     "metadata": {},
     "output_type": "display_data"
    },
    {
     "name": "stdout",
     "output_type": "stream",
     "text": [
      "Train split of target data Y: \n"
     ]
    },
    {
     "data": {
      "text/html": [
       "<div>\n",
       "<style scoped>\n",
       "    .dataframe tbody tr th:only-of-type {\n",
       "        vertical-align: middle;\n",
       "    }\n",
       "\n",
       "    .dataframe tbody tr th {\n",
       "        vertical-align: top;\n",
       "    }\n",
       "\n",
       "    .dataframe thead th {\n",
       "        text-align: right;\n",
       "    }\n",
       "</style>\n",
       "<table border=\"1\" class=\"dataframe\">\n",
       "  <thead>\n",
       "    <tr style=\"text-align: right;\">\n",
       "      <th></th>\n",
       "      <th>MIDATL_A_LOAD</th>\n",
       "      <th>SOUTH_A_LOAD</th>\n",
       "      <th>WEST_A_LOAD</th>\n",
       "    </tr>\n",
       "  </thead>\n",
       "  <tbody>\n",
       "    <tr>\n",
       "      <th>34894</th>\n",
       "      <td>28248.171</td>\n",
       "      <td>10005.343</td>\n",
       "      <td>40608.049</td>\n",
       "    </tr>\n",
       "    <tr>\n",
       "      <th>34895</th>\n",
       "      <td>26808.480</td>\n",
       "      <td>9565.197</td>\n",
       "      <td>38951.401</td>\n",
       "    </tr>\n",
       "  </tbody>\n",
       "</table>\n",
       "</div>"
      ],
      "text/plain": [
       "       MIDATL_A_LOAD  SOUTH_A_LOAD  WEST_A_LOAD\n",
       "34894      28248.171     10005.343    40608.049\n",
       "34895      26808.480      9565.197    38951.401"
      ]
     },
     "metadata": {},
     "output_type": "display_data"
    }
   ],
   "source": [
    "# Splitting the continuous data into training and test split\n",
    "X_continuous_train,  X_continuous_test = X_continuous.loc[:train_end_idx], X_continuous.loc[train_end_idx+1:]\n",
    "print(\"Train split of continuous data: \")\n",
    "display(X_continuous_train.tail(2))\n",
    "\n",
    "# Splitting the categorical data into training and test split\n",
    "X_categorical_train, X_categorical_test = X_categorical.loc[:train_end_idx], X_categorical.loc[train_end_idx+1:]\n",
    "print(\"Train split of categorical data: \")\n",
    "display(X_categorical_train.tail(2))\n",
    "\n",
    "# Splitting the target into training and test split\n",
    "Y_train, Y_test = Y.loc[:train_end_idx],  Y.loc[train_end_idx+1:]\n",
    "print(\"Train split of target data Y: \")\n",
    "display(Y_train.tail(2))"
   ]
  },
  {
   "cell_type": "code",
   "execution_count": 23,
   "metadata": {},
   "outputs": [
    {
     "name": "stdout",
     "output_type": "stream",
     "text": [
      "Shape for continuous variable: \n",
      "(34896, 18) (8760, 18) \n",
      "\n",
      "Shape for categorical variable: \n",
      "(34896, 74) (8760, 74) \n",
      "\n",
      "Shape for target variable: \n",
      "(34896, 3) (8760, 3) \n",
      "\n",
      "Does it cover entire training set:  True\n"
     ]
    }
   ],
   "source": [
    "print(\"Shape for continuous variable: \")\n",
    "print(X_continuous_train.shape, X_continuous_test.shape, \"\\n\")\n",
    "print(\"Shape for categorical variable: \")\n",
    "print(X_categorical_train.shape, X_categorical_test.shape, \"\\n\")\n",
    "print(\"Shape for target variable: \")\n",
    "print(Y_train.shape, Y_test.shape, \"\\n\")\n",
    "print(\"Does it cover entire training set: \", (X_continuous_train.shape[0] +\n",
    "                                              X_continuous_test.shape[0]) == len(X_continuous))"
   ]
  },
  {
   "cell_type": "markdown",
   "metadata": {},
   "source": [
    "### SCALING THE DATA"
   ]
  },
  {
   "cell_type": "code",
   "execution_count": 24,
   "metadata": {},
   "outputs": [],
   "source": [
    "# Scaling values using min-max scaler\n",
    "mm_scaler_X = MinMaxScaler()\n",
    "mm_scaler_Y = MinMaxScaler()"
   ]
  },
  {
   "cell_type": "code",
   "execution_count": 25,
   "metadata": {},
   "outputs": [
    {
     "name": "stdout",
     "output_type": "stream",
     "text": [
      "Scaled continuous X train: \n",
      "Shape:  (34896, 18)\n"
     ]
    },
    {
     "data": {
      "text/plain": [
       "array([[0.40103697, 0.33111147, 0.1155303 , ..., 0.93525362, 0.81761405,\n",
       "        0.75715536],\n",
       "       [0.38039646, 0.30723482, 0.10606061, ..., 0.93525362, 0.81761405,\n",
       "        0.75715536],\n",
       "       [0.37213667, 0.29216876, 0.09469697, ..., 0.93525362, 0.81761405,\n",
       "        0.75715536],\n",
       "       ...,\n",
       "       [0.33791593, 0.31494172, 0.45307239, ..., 0.30197771, 0.22529237,\n",
       "        0.33110397],\n",
       "       [0.30075546, 0.29118483, 0.46359428, ..., 0.30197771, 0.22529237,\n",
       "        0.33110397],\n",
       "       [0.25904911, 0.25777189, 0.47306397, ..., 0.30197771, 0.22529237,\n",
       "        0.33110397]])"
      ]
     },
     "metadata": {},
     "output_type": "display_data"
    }
   ],
   "source": [
    "# Scaling continuous X train part\n",
    "X_scaled_continuous_train = mm_scaler_X.fit_transform(X_continuous_train)\n",
    "\n",
    "# Using the fit_scaler to scale the X test part\n",
    "X_scaled_continuous_test = mm_scaler_X.transform(X_continuous_test)\n",
    "\n",
    "print(\"Scaled continuous X train: \")\n",
    "print(\"Shape: \", X_scaled_continuous_train.shape)\n",
    "display(X_scaled_continuous_train)"
   ]
  },
  {
   "cell_type": "code",
   "execution_count": 26,
   "metadata": {},
   "outputs": [
    {
     "name": "stdout",
     "output_type": "stream",
     "text": [
      "Scaled continuous Y train: \n",
      "Shape:  (34896, 3)\n"
     ]
    },
    {
     "data": {
      "text/plain": [
       "array([[0.52691799, 0.67783968, 0.67398833],\n",
       "       [0.51204733, 0.68089624, 0.65555375],\n",
       "       [0.50481553, 0.69084033, 0.65197573],\n",
       "       ...,\n",
       "       [0.27933032, 0.26364331, 0.2379926 ],\n",
       "       [0.24003059, 0.22635782, 0.20689414],\n",
       "       [0.20160432, 0.19711778, 0.17187289]])"
      ]
     },
     "metadata": {},
     "output_type": "display_data"
    }
   ],
   "source": [
    "# Scaling target Y train part\n",
    "Y_scaled_train = mm_scaler_Y.fit_transform(Y_train)\n",
    "\n",
    "# Using the fit_scaler to scale the Y test part\n",
    "Y_scaled_test = mm_scaler_Y.transform(Y_test)\n",
    "\n",
    "print(\"Scaled continuous Y train: \")\n",
    "print(\"Shape: \", Y_scaled_train.shape)\n",
    "display(Y_scaled_train)"
   ]
  },
  {
   "cell_type": "code",
   "execution_count": 27,
   "metadata": {},
   "outputs": [],
   "source": [
    "# Converting a multivariate dataset into slices of samples\n",
    "def split_data(calendar_data, x_data, y_data, n_steps, n_overlap):\n",
    "    calendar, x, y = list(), list(), list()\n",
    "    for i in range(0, len(x_data), n_steps-n_overlap):\n",
    "\n",
    "        # Finding the split index\n",
    "        end_idx = i + n_steps\n",
    "\n",
    "        # Break the loop at end of dataset\n",
    "        if end_idx > len(x_data):\n",
    "            break\n",
    "\n",
    "        # Appending the custom created samples with desired time-steps and features\n",
    "        sample_calendar, sample_x, sample_y = calendar_data[i:end_idx, :], \\\n",
    "                                              x_data[i:end_idx, :], \\\n",
    "                                              y_data[i:end_idx, :]\n",
    "        calendar.append(sample_calendar)\n",
    "        x.append(sample_x)\n",
    "        y.append(sample_y)\n",
    "\n",
    "    return np.array(calendar), np.array(x), np.array(y)"
   ]
  },
  {
   "cell_type": "code",
   "execution_count": 28,
   "metadata": {},
   "outputs": [
    {
     "name": "stdout",
     "output_type": "stream",
     "text": [
      "Shape of the created samples for training:  (34873, 24, 18)\n",
      "Shape of the created samples for testing:  (365, 24, 18)\n"
     ]
    }
   ],
   "source": [
    "num_steps = 24\n",
    "train_num_overlap = 23\n",
    "test_num_overlap = 0\n",
    "\n",
    "processed_data_train = split_data(calendar_data=X_categorical_train.to_numpy(),\n",
    "                            x_data=X_scaled_continuous_train,\n",
    "                            y_data=Y_scaled_train,\n",
    "                            n_steps=num_steps, n_overlap=train_num_overlap)\n",
    "\n",
    "processed_data_test = split_data(calendar_data=X_categorical_test.to_numpy(),\n",
    "                            x_data=X_scaled_continuous_test,\n",
    "                            y_data=Y_scaled_test,\n",
    "                            n_steps=num_steps, n_overlap=test_num_overlap)\n",
    "\n",
    "print(\"Shape of the created samples for training: \", processed_data_train[1].shape)\n",
    "print(\"Shape of the created samples for testing: \", processed_data_test[1].shape)"
   ]
  },
  {
   "cell_type": "code",
   "execution_count": 29,
   "metadata": {},
   "outputs": [
    {
     "name": "stdout",
     "output_type": "stream",
     "text": [
      "First sample: \n",
      "\n"
     ]
    },
    {
     "data": {
      "text/plain": [
       "array([[0.40103697, 0.33111147, 0.1155303 , 0.87371891, 0.6785787 ,\n",
       "        0.61915578, 0.38340632, 0.39682159, 0.18686275, 0.80077901,\n",
       "        0.70497893, 0.54733625, 0.50947523, 0.40057128, 0.11438475,\n",
       "        0.93525362, 0.81761405, 0.75715536],\n",
       "       [0.38039646, 0.30723482, 0.10606061, 0.87371891, 0.6785787 ,\n",
       "        0.61915578, 0.37871924, 0.38870837, 0.17627451, 0.80077901,\n",
       "        0.70497893, 0.54733625, 0.48520037, 0.37827185, 0.10571924,\n",
       "        0.93525362, 0.81761405, 0.75715536],\n",
       "       [0.37213667, 0.29216876, 0.09469697, 0.87371891, 0.6785787 ,\n",
       "        0.61915578, 0.37369534, 0.37849729, 0.17627451, 0.80077901,\n",
       "        0.70497893, 0.54733625, 0.47696243, 0.36062885, 0.08665511,\n",
       "        0.93525362, 0.81761405, 0.75715536],\n",
       "       [0.37531494, 0.28415649, 0.09469697, 0.87371891, 0.6785787 ,\n",
       "        0.61915578, 0.3828083 , 0.38240631, 0.16745098, 0.80077901,\n",
       "        0.70497893, 0.54733625, 0.48007652, 0.35005501, 0.0762565 ,\n",
       "        0.93525362, 0.81761405, 0.75715536],\n",
       "       [0.3957987 , 0.28904144, 0.09469697, 0.87371891, 0.6785787 ,\n",
       "        0.61915578, 0.41536086, 0.39491477, 0.14627451, 0.80077901,\n",
       "        0.70497893, 0.54733625, 0.49845237, 0.34712539, 0.06759099,\n",
       "        0.93525362, 0.81761405, 0.75715536],\n",
       "       [0.45454707, 0.30638705, 0.08522727, 0.87371891, 0.6785787 ,\n",
       "        0.61915578, 0.46580877, 0.4165607 , 0.14627451, 0.80077901,\n",
       "        0.70497893, 0.54733625, 0.54887099, 0.3609109 , 0.05719237,\n",
       "        0.93525362, 0.81761405, 0.75715536],\n",
       "       [0.54461813, 0.33050714, 0.08522727, 0.87371891, 0.6785787 ,\n",
       "        0.61915578, 0.54171299, 0.44026843, 0.13745098, 0.80077901,\n",
       "        0.70497893, 0.54733625, 0.62760331, 0.37892998, 0.04679376,\n",
       "        0.93525362, 0.81761405, 0.75715536],\n",
       "       [0.59351007, 0.33545262, 0.08522727, 0.87371891, 0.6785787 ,\n",
       "        0.61915578, 0.57420557, 0.44778189, 0.13745098, 0.80077901,\n",
       "        0.70497893, 0.54733625, 0.69564222, 0.39484994, 0.04679376,\n",
       "        0.93525362, 0.81761405, 0.75715536],\n",
       "       [0.59360013, 0.33355431, 0.08522727, 0.87371891, 0.6785787 ,\n",
       "        0.61915578, 0.56493311, 0.43456327, 0.14627451, 0.80077901,\n",
       "        0.70497893, 0.54733625, 0.71185219, 0.39489175, 0.03812825,\n",
       "        0.93525362, 0.81761405, 0.75715536],\n",
       "       [0.58024677, 0.32764716, 0.1155303 , 0.87371891, 0.6785787 ,\n",
       "        0.61915578, 0.54756869, 0.40426456, 0.17627451, 0.80077901,\n",
       "        0.70497893, 0.54733625, 0.71161361, 0.3923451 , 0.04679376,\n",
       "        0.93525362, 0.81761405, 0.75715536],\n",
       "       [0.57237752, 0.32436093, 0.12689394, 0.87371891, 0.6785787 ,\n",
       "        0.61915578, 0.53574628, 0.37332464, 0.19568627, 0.80077901,\n",
       "        0.70497893, 0.54733625, 0.71472135, 0.39299895, 0.06759099,\n",
       "        0.93525362, 0.81761405, 0.75715536],\n",
       "       [0.56914566, 0.31888222, 0.14772727, 0.87371891, 0.6785787 ,\n",
       "        0.61915578, 0.52174395, 0.3442748 , 0.20627451, 0.80077901,\n",
       "        0.70497893, 0.54733625, 0.71298484, 0.38778797, 0.09532062,\n",
       "        0.93525362, 0.81761405, 0.75715536],\n",
       "       [0.56845221, 0.30703982, 0.15909091, 0.87371891, 0.6785787 ,\n",
       "        0.61915578, 0.51416366, 0.31878103, 0.2345098 , 0.80077901,\n",
       "        0.70497893, 0.54733625, 0.70771384, 0.37493529, 0.11438475,\n",
       "        0.93525362, 0.81761405, 0.75715536],\n",
       "       [0.56977377, 0.29237815, 0.16856061, 0.87371891, 0.6785787 ,\n",
       "        0.61915578, 0.51947441, 0.28728899, 0.2345098 , 0.80077901,\n",
       "        0.70497893, 0.54733625, 0.70708294, 0.35904755, 0.13344887,\n",
       "        0.93525362, 0.81761405, 0.75715536],\n",
       "       [0.57188243, 0.28518392, 0.17992424, 0.87371891, 0.6785787 ,\n",
       "        0.61915578, 0.52760184, 0.27319884, 0.25568627, 0.80077901,\n",
       "        0.70497893, 0.54733625, 0.70284111, 0.3402323 , 0.16291161,\n",
       "        0.93525362, 0.81761405, 0.75715536],\n",
       "       [0.58742602, 0.29429622, 0.16856061, 0.87371891, 0.6785787 ,\n",
       "        0.61915578, 0.54836183, 0.27276338, 0.2645098 , 0.80077901,\n",
       "        0.70497893, 0.54733625, 0.70726058, 0.33470094, 0.18197574,\n",
       "        0.93525362, 0.81761405, 0.75715536],\n",
       "       [0.63494532, 0.3364216 , 0.16856061, 0.87371891, 0.6785787 ,\n",
       "        0.61915578, 0.59645378, 0.30163877, 0.27509804, 0.80077901,\n",
       "        0.70497893, 0.54733625, 0.73563445, 0.3543061 , 0.19237435,\n",
       "        0.93525362, 0.81761405, 0.75715536],\n",
       "       [0.7215344 , 0.42000193, 0.15909091, 0.87371891, 0.6785787 ,\n",
       "        0.61915578, 0.69107757, 0.3839991 , 0.2345098 , 0.80077901,\n",
       "        0.70497893, 0.54733625, 0.7999966 , 0.42874894, 0.20103986,\n",
       "        0.93525362, 0.81761405, 0.75715536],\n",
       "       [0.73442163, 0.42552321, 0.16856061, 0.87371891, 0.6785787 ,\n",
       "        0.61915578, 0.73084053, 0.39833937, 0.21509804, 0.80077901,\n",
       "        0.70497893, 0.54733625, 0.85051363, 0.46095381, 0.21143847,\n",
       "        0.93525362, 0.81761405, 0.75715536],\n",
       "       [0.73218477, 0.41599508, 0.15909091, 0.87371891, 0.6785787 ,\n",
       "        0.61915578, 0.74824673, 0.39269612, 0.20627451, 0.80077901,\n",
       "        0.70497893, 0.54733625, 0.85129207, 0.45346095, 0.22010399,\n",
       "        0.93525362, 0.81761405, 0.75715536],\n",
       "       [0.71857991, 0.40192772, 0.15909091, 0.87371891, 0.6785787 ,\n",
       "        0.61915578, 0.75711023, 0.38002504, 0.21509804, 0.80077901,\n",
       "        0.70497893, 0.54733625, 0.84072004, 0.43658147, 0.2305026 ,\n",
       "        0.93525362, 0.81761405, 0.75715536],\n",
       "       [0.68107102, 0.37321622, 0.15909091, 0.87371891, 0.6785787 ,\n",
       "        0.61915578, 0.7483388 , 0.35616451, 0.20627451, 0.80077901,\n",
       "        0.70497893, 0.54733625, 0.81217252, 0.40858228, 0.24090121,\n",
       "        0.93525362, 0.81761405, 0.75715536],\n",
       "       [0.61816854, 0.32607137, 0.15909091, 0.87371891, 0.6785787 ,\n",
       "        0.61915578, 0.71154538, 0.31995642, 0.21509804, 0.80077901,\n",
       "        0.70497893, 0.54733625, 0.76251571, 0.37046189, 0.24956672,\n",
       "        0.93525362, 0.81761405, 0.75715536],\n",
       "       [0.56112787, 0.27654157, 0.16856061, 0.87371891, 0.6785787 ,\n",
       "        0.61915578, 0.68218271, 0.27985286, 0.24509804, 0.80077901,\n",
       "        0.70497893, 0.54733625, 0.7114889 , 0.330147  , 0.27902946,\n",
       "        0.93525362, 0.81761405, 0.75715536]])"
      ]
     },
     "metadata": {},
     "output_type": "display_data"
    }
   ],
   "source": [
    "## Sample check for sanity\n",
    "print(\"First sample: \\n\")\n",
    "display(processed_data_train[1][0])"
   ]
  },
  {
   "cell_type": "code",
   "execution_count": 30,
   "metadata": {},
   "outputs": [
    {
     "name": "stdout",
     "output_type": "stream",
     "text": [
      "Second sample: \n",
      "\n"
     ]
    },
    {
     "data": {
      "text/plain": [
       "array([[0.38039646, 0.30723482, 0.10606061, 0.87371891, 0.6785787 ,\n",
       "        0.61915578, 0.37871924, 0.38870837, 0.17627451, 0.80077901,\n",
       "        0.70497893, 0.54733625, 0.48520037, 0.37827185, 0.10571924,\n",
       "        0.93525362, 0.81761405, 0.75715536],\n",
       "       [0.37213667, 0.29216876, 0.09469697, 0.87371891, 0.6785787 ,\n",
       "        0.61915578, 0.37369534, 0.37849729, 0.17627451, 0.80077901,\n",
       "        0.70497893, 0.54733625, 0.47696243, 0.36062885, 0.08665511,\n",
       "        0.93525362, 0.81761405, 0.75715536],\n",
       "       [0.37531494, 0.28415649, 0.09469697, 0.87371891, 0.6785787 ,\n",
       "        0.61915578, 0.3828083 , 0.38240631, 0.16745098, 0.80077901,\n",
       "        0.70497893, 0.54733625, 0.48007652, 0.35005501, 0.0762565 ,\n",
       "        0.93525362, 0.81761405, 0.75715536],\n",
       "       [0.3957987 , 0.28904144, 0.09469697, 0.87371891, 0.6785787 ,\n",
       "        0.61915578, 0.41536086, 0.39491477, 0.14627451, 0.80077901,\n",
       "        0.70497893, 0.54733625, 0.49845237, 0.34712539, 0.06759099,\n",
       "        0.93525362, 0.81761405, 0.75715536],\n",
       "       [0.45454707, 0.30638705, 0.08522727, 0.87371891, 0.6785787 ,\n",
       "        0.61915578, 0.46580877, 0.4165607 , 0.14627451, 0.80077901,\n",
       "        0.70497893, 0.54733625, 0.54887099, 0.3609109 , 0.05719237,\n",
       "        0.93525362, 0.81761405, 0.75715536],\n",
       "       [0.54461813, 0.33050714, 0.08522727, 0.87371891, 0.6785787 ,\n",
       "        0.61915578, 0.54171299, 0.44026843, 0.13745098, 0.80077901,\n",
       "        0.70497893, 0.54733625, 0.62760331, 0.37892998, 0.04679376,\n",
       "        0.93525362, 0.81761405, 0.75715536],\n",
       "       [0.59351007, 0.33545262, 0.08522727, 0.87371891, 0.6785787 ,\n",
       "        0.61915578, 0.57420557, 0.44778189, 0.13745098, 0.80077901,\n",
       "        0.70497893, 0.54733625, 0.69564222, 0.39484994, 0.04679376,\n",
       "        0.93525362, 0.81761405, 0.75715536],\n",
       "       [0.59360013, 0.33355431, 0.08522727, 0.87371891, 0.6785787 ,\n",
       "        0.61915578, 0.56493311, 0.43456327, 0.14627451, 0.80077901,\n",
       "        0.70497893, 0.54733625, 0.71185219, 0.39489175, 0.03812825,\n",
       "        0.93525362, 0.81761405, 0.75715536],\n",
       "       [0.58024677, 0.32764716, 0.1155303 , 0.87371891, 0.6785787 ,\n",
       "        0.61915578, 0.54756869, 0.40426456, 0.17627451, 0.80077901,\n",
       "        0.70497893, 0.54733625, 0.71161361, 0.3923451 , 0.04679376,\n",
       "        0.93525362, 0.81761405, 0.75715536],\n",
       "       [0.57237752, 0.32436093, 0.12689394, 0.87371891, 0.6785787 ,\n",
       "        0.61915578, 0.53574628, 0.37332464, 0.19568627, 0.80077901,\n",
       "        0.70497893, 0.54733625, 0.71472135, 0.39299895, 0.06759099,\n",
       "        0.93525362, 0.81761405, 0.75715536],\n",
       "       [0.56914566, 0.31888222, 0.14772727, 0.87371891, 0.6785787 ,\n",
       "        0.61915578, 0.52174395, 0.3442748 , 0.20627451, 0.80077901,\n",
       "        0.70497893, 0.54733625, 0.71298484, 0.38778797, 0.09532062,\n",
       "        0.93525362, 0.81761405, 0.75715536],\n",
       "       [0.56845221, 0.30703982, 0.15909091, 0.87371891, 0.6785787 ,\n",
       "        0.61915578, 0.51416366, 0.31878103, 0.2345098 , 0.80077901,\n",
       "        0.70497893, 0.54733625, 0.70771384, 0.37493529, 0.11438475,\n",
       "        0.93525362, 0.81761405, 0.75715536],\n",
       "       [0.56977377, 0.29237815, 0.16856061, 0.87371891, 0.6785787 ,\n",
       "        0.61915578, 0.51947441, 0.28728899, 0.2345098 , 0.80077901,\n",
       "        0.70497893, 0.54733625, 0.70708294, 0.35904755, 0.13344887,\n",
       "        0.93525362, 0.81761405, 0.75715536],\n",
       "       [0.57188243, 0.28518392, 0.17992424, 0.87371891, 0.6785787 ,\n",
       "        0.61915578, 0.52760184, 0.27319884, 0.25568627, 0.80077901,\n",
       "        0.70497893, 0.54733625, 0.70284111, 0.3402323 , 0.16291161,\n",
       "        0.93525362, 0.81761405, 0.75715536],\n",
       "       [0.58742602, 0.29429622, 0.16856061, 0.87371891, 0.6785787 ,\n",
       "        0.61915578, 0.54836183, 0.27276338, 0.2645098 , 0.80077901,\n",
       "        0.70497893, 0.54733625, 0.70726058, 0.33470094, 0.18197574,\n",
       "        0.93525362, 0.81761405, 0.75715536],\n",
       "       [0.63494532, 0.3364216 , 0.16856061, 0.87371891, 0.6785787 ,\n",
       "        0.61915578, 0.59645378, 0.30163877, 0.27509804, 0.80077901,\n",
       "        0.70497893, 0.54733625, 0.73563445, 0.3543061 , 0.19237435,\n",
       "        0.93525362, 0.81761405, 0.75715536],\n",
       "       [0.7215344 , 0.42000193, 0.15909091, 0.87371891, 0.6785787 ,\n",
       "        0.61915578, 0.69107757, 0.3839991 , 0.2345098 , 0.80077901,\n",
       "        0.70497893, 0.54733625, 0.7999966 , 0.42874894, 0.20103986,\n",
       "        0.93525362, 0.81761405, 0.75715536],\n",
       "       [0.73442163, 0.42552321, 0.16856061, 0.87371891, 0.6785787 ,\n",
       "        0.61915578, 0.73084053, 0.39833937, 0.21509804, 0.80077901,\n",
       "        0.70497893, 0.54733625, 0.85051363, 0.46095381, 0.21143847,\n",
       "        0.93525362, 0.81761405, 0.75715536],\n",
       "       [0.73218477, 0.41599508, 0.15909091, 0.87371891, 0.6785787 ,\n",
       "        0.61915578, 0.74824673, 0.39269612, 0.20627451, 0.80077901,\n",
       "        0.70497893, 0.54733625, 0.85129207, 0.45346095, 0.22010399,\n",
       "        0.93525362, 0.81761405, 0.75715536],\n",
       "       [0.71857991, 0.40192772, 0.15909091, 0.87371891, 0.6785787 ,\n",
       "        0.61915578, 0.75711023, 0.38002504, 0.21509804, 0.80077901,\n",
       "        0.70497893, 0.54733625, 0.84072004, 0.43658147, 0.2305026 ,\n",
       "        0.93525362, 0.81761405, 0.75715536],\n",
       "       [0.68107102, 0.37321622, 0.15909091, 0.87371891, 0.6785787 ,\n",
       "        0.61915578, 0.7483388 , 0.35616451, 0.20627451, 0.80077901,\n",
       "        0.70497893, 0.54733625, 0.81217252, 0.40858228, 0.24090121,\n",
       "        0.93525362, 0.81761405, 0.75715536],\n",
       "       [0.61816854, 0.32607137, 0.15909091, 0.87371891, 0.6785787 ,\n",
       "        0.61915578, 0.71154538, 0.31995642, 0.21509804, 0.80077901,\n",
       "        0.70497893, 0.54733625, 0.76251571, 0.37046189, 0.24956672,\n",
       "        0.93525362, 0.81761405, 0.75715536],\n",
       "       [0.56112787, 0.27654157, 0.16856061, 0.87371891, 0.6785787 ,\n",
       "        0.61915578, 0.68218271, 0.27985286, 0.24509804, 0.80077901,\n",
       "        0.70497893, 0.54733625, 0.7114889 , 0.330147  , 0.27902946,\n",
       "        0.93525362, 0.81761405, 0.75715536],\n",
       "       [0.52691799, 0.23941639, 0.20075758, 0.77326151, 0.67579781,\n",
       "        0.83366033, 0.67783968, 0.24935851, 0.24509804, 0.68651096,\n",
       "        0.8562612 , 0.84150966, 0.67398833, 0.29268716, 0.28769497,\n",
       "        0.80663483, 0.80173395, 0.98637721]])"
      ]
     },
     "metadata": {},
     "output_type": "display_data"
    }
   ],
   "source": [
    "print(\"Second sample: \\n\")\n",
    "display(processed_data_train[1][1])"
   ]
  },
  {
   "cell_type": "code",
   "execution_count": 31,
   "metadata": {},
   "outputs": [],
   "source": [
    "# Dividing the sampled data - training\n",
    "categorical_samples_training = torch.Tensor(processed_data_train[0])\n",
    "continuous_samples_training = torch.Tensor(processed_data_train[1])\n",
    "target_samples_training = torch.Tensor(processed_data_train[2])\n",
    "\n",
    "# Dividing the sampled data - testing\n",
    "categorical_samples_testing = torch.Tensor(processed_data_test[0])\n",
    "continuous_samples_testing = torch.Tensor(processed_data_test[1])\n",
    "target_samples_testing = torch.Tensor(processed_data_test[2])"
   ]
  },
  {
   "cell_type": "code",
   "execution_count": 32,
   "metadata": {},
   "outputs": [
    {
     "name": "stdout",
     "output_type": "stream",
     "text": [
      "Shape of categorical samples - training:  torch.Size([34873, 24, 74])\n",
      "Shape of continuous samples - training:  torch.Size([34873, 24, 18])\n",
      "Shape of target samples - training:  torch.Size([34873, 24, 3])\n",
      "\n",
      "\n",
      "Shape of categorical samples - testing:  torch.Size([365, 24, 74])\n",
      "Shape of continuous samples - testing:  torch.Size([365, 24, 18])\n",
      "Shape of target samples - testing:  torch.Size([365, 24, 3])\n"
     ]
    }
   ],
   "source": [
    "print(\"Shape of categorical samples - training: \", categorical_samples_training.shape)\n",
    "print(\"Shape of continuous samples - training: \", continuous_samples_training.shape)\n",
    "print(\"Shape of target samples - training: \", target_samples_training.shape)\n",
    "print(\"\\n\")\n",
    "print(\"Shape of categorical samples - testing: \", categorical_samples_testing.shape)\n",
    "print(\"Shape of continuous samples - testing: \", continuous_samples_testing.shape)\n",
    "print(\"Shape of target samples - testing: \", target_samples_testing.shape)"
   ]
  },
  {
   "cell_type": "markdown",
   "metadata": {},
   "source": [
    "### CREATING DATALOADER"
   ]
  },
  {
   "cell_type": "code",
   "execution_count": 33,
   "metadata": {},
   "outputs": [],
   "source": [
    "BATCH_SIZE = 1024"
   ]
  },
  {
   "cell_type": "code",
   "execution_count": 34,
   "metadata": {},
   "outputs": [],
   "source": [
    "class TimeSeriesLoader(Dataset):\n",
    "    def __init__(self, categorical, continuous, target):\n",
    "        self.categorical, self.continuous, self.target = categorical, continuous, target\n",
    "\n",
    "    def __len__(self):\n",
    "        return len(self.categorical)\n",
    "\n",
    "    def __getitem__(self, idx):\n",
    "        return self.categorical[idx], self.continuous[idx], self.target[idx]"
   ]
  },
  {
   "cell_type": "code",
   "execution_count": 35,
   "metadata": {},
   "outputs": [],
   "source": [
    "train_dataset = TimeSeriesLoader(categorical_samples_training,\n",
    "                                 continuous_samples_training,\n",
    "                                 target_samples_training)\n",
    "\n",
    "test_dataset = TimeSeriesLoader(categorical_samples_testing,\n",
    "                                continuous_samples_testing,\n",
    "                                target_samples_testing)"
   ]
  },
  {
   "cell_type": "code",
   "execution_count": 36,
   "metadata": {},
   "outputs": [],
   "source": [
    "train_dataloader = DataLoader(train_dataset, batch_size=BATCH_SIZE, shuffle=True, drop_last=False)\n",
    "\n",
    "test_dataloader = DataLoader(test_dataset, batch_size=BATCH_SIZE, shuffle=False, drop_last=False)"
   ]
  },
  {
   "cell_type": "code",
   "execution_count": 37,
   "metadata": {},
   "outputs": [
    {
     "name": "stdout",
     "output_type": "stream",
     "text": [
      "Number of batches in train dataloader:  35\n",
      "Number of batches in test dataloader:  1\n"
     ]
    }
   ],
   "source": [
    "print(\"Number of batches in train dataloader: \", len(train_dataloader))\n",
    "print(\"Number of batches in test dataloader: \", len(test_dataloader))"
   ]
  },
  {
   "cell_type": "code",
   "execution_count": 38,
   "metadata": {},
   "outputs": [
    {
     "name": "stdout",
     "output_type": "stream",
     "text": [
      "Shape of categorical variables:  torch.Size([34873, 24, 74])\n",
      "Shape of continuous variables:  torch.Size([34873, 24, 18])\n",
      "Shape of target variables:  torch.Size([34873, 24, 3])\n"
     ]
    }
   ],
   "source": [
    "categorical_var_shape = train_dataloader.dataset.categorical.shape\n",
    "continuous_var_shape = train_dataloader.dataset.continuous.shape\n",
    "target_var_shape = train_dataloader.dataset.target.shape\n",
    "\n",
    "print(\"Shape of categorical variables: \", categorical_var_shape)\n",
    "print(\"Shape of continuous variables: \", continuous_var_shape)\n",
    "print(\"Shape of target variables: \", target_var_shape)"
   ]
  },
  {
   "cell_type": "code",
   "execution_count": 39,
   "metadata": {},
   "outputs": [
    {
     "name": "stdout",
     "output_type": "stream",
     "text": [
      "Number of zones:  3\n",
      "Number of features per zone:  6\n"
     ]
    }
   ],
   "source": [
    "# Specifying number of zones and features per zone\n",
    "num_zones = target_var_shape[2]\n",
    "num_zone_features = int(continuous_var_shape[2] / target_var_shape[2])\n",
    "print(\"Number of zones: \", num_zones)\n",
    "print(\"Number of features per zone: \", num_zone_features)"
   ]
  },
  {
   "cell_type": "markdown",
   "metadata": {},
   "source": [
    "### DEFINING LOSS FUNCTION"
   ]
  },
  {
   "cell_type": "code",
   "execution_count": 40,
   "metadata": {},
   "outputs": [],
   "source": [
    "loss_function = nn.MSELoss()"
   ]
  },
  {
   "cell_type": "markdown",
   "metadata": {},
   "source": [
    "### DEFINING MODEL ARCHITECTURE"
   ]
  },
  {
   "cell_type": "code",
   "execution_count": 41,
   "metadata": {},
   "outputs": [],
   "source": [
    "config_args = easydict.EasyDict(\n",
    "        {\n",
    "            \"device\": torch.device(\"cuda\")\n",
    "            if torch.cuda.is_available()\n",
    "            else torch.device(\"cpu\"),\n",
    "            \"learning_rate\": 1e-4,\n",
    "            \"weight_decay\": 1e-3,\n",
    "            \"max_iter\": 1000,\n",
    "            \"epochs\": 200,\n",
    "            \"update_freq\": 10\n",
    "        }\n",
    "    )\n",
    "\n",
    "model_args = easydict.EasyDict(\n",
    "        {\n",
    "            \"d_input\": num_zone_features + 3 + X_categorical_train.shape[1],     # Model input -> Continuous + Categorical\n",
    "            \"d_output\": 1,                                                       # Model output -> Point predictions\n",
    "            \"d_model\": 200,                                                       # Model latent dimension\n",
    "            \"q\": 3,                                                              # Query and Key dimensions\n",
    "            \"v\": 3,                                                              # Value dimensions\n",
    "            \"h\": 3,                                                              # Number of heads\n",
    "            \"N\": 1,                                                              # Number of stacked of encoder and decoder\n",
    "            \"attention_size\": 24*7,                                              # Attention window\n",
    "            \"dropout\": 0.5,                                                      # Dropout rate\n",
    "            \"pe\": \"regular\",                                                     # Positional encoding used\n",
    "            \"chunk_mode\": None,                                                  # Default -> MultiHeadAttention\n",
    "        }\n",
    "    )\n",
    "\n",
    "# Making directories to store values\n",
    "if not os.path.exists(\"logs\"):\n",
    "    os.mkdir(\"logs\")\n",
    "if not os.path.exists(\"models\"):\n",
    "    os.mkdir(\"models\")"
   ]
  },
  {
   "cell_type": "markdown",
   "metadata": {},
   "source": [
    "### INSTANTIATING MODELS -> VAE AND LSTM"
   ]
  },
  {
   "cell_type": "code",
   "execution_count": 42,
   "metadata": {},
   "outputs": [
    {
     "name": "stdout",
     "output_type": "stream",
     "text": [
      "Number of vae models:  3\n"
     ]
    }
   ],
   "source": [
    "# Address for saved VAE models\n",
    "vae_dirname = os.path.join(os.path.dirname(os.getcwd()), \"VAE_LSTM\", \"vae_models\")\n",
    "\n",
    "# Loading the vae models\n",
    "vae_model_1 = torch.load(os.path.join(vae_dirname, \"L1_best_zone_1.pth\"))\n",
    "vae_model_2 = torch.load(os.path.join(vae_dirname, \"L1_best_zone_2.pth\"))\n",
    "vae_model_3 = torch.load(os.path.join(vae_dirname, \"L1_best_zone_3.pth\"))\n",
    "\n",
    "vae_models = nn.ModuleList([vae_model_1, vae_model_2, vae_model_3])\n",
    "print(\"Number of vae models: \", len(vae_models))"
   ]
  },
  {
   "cell_type": "code",
   "execution_count": 43,
   "metadata": {},
   "outputs": [
    {
     "name": "stdout",
     "output_type": "stream",
     "text": [
      "Number of transformer models:  3\n"
     ]
    }
   ],
   "source": [
    "# Instantiating transformer corresponding to each zone\n",
    "transformer_model = Transformer(model_args.d_input, model_args.d_model, model_args.d_output,\n",
    "                                model_args.q, model_args.v, model_args.h, model_args.N,\n",
    "                                attention_size=model_args.attention_size, dropout=model_args.dropout,\n",
    "                                chunk_mode=model_args.chunk_mode, pe=model_args.pe).to(device)\n",
    "\n",
    "transformer_models = nn.ModuleList([transformer_model for _ in range(num_zones)])\n",
    "print(\"Number of transformer models: \", len(transformer_models))"
   ]
  },
  {
   "cell_type": "code",
   "execution_count": 44,
   "metadata": {},
   "outputs": [],
   "source": [
    "class VAE_TRANSFORMER(nn.Module):\n",
    "    def __init__(self, zonal_vae, zonal_transformer):\n",
    "        super(VAE_TRANSFORMER, self).__init__()\n",
    "        self.zonal_vae = zonal_vae\n",
    "        self.zonal_transformer = zonal_transformer\n",
    "\n",
    "    def forward(self, categorical, zonal_continuous):\n",
    "        zonal_continuous_reconstr = zonal_continuous[:, :, :3]\n",
    "        out_var = self.zonal_vae(zonal_continuous_reconstr)\n",
    "        in_transformer = torch.cat((categorical, zonal_continuous, out_var[1]), axis=-1)\n",
    "        out_transformer = self.zonal_transformer(in_transformer)\n",
    "        return out_var, out_transformer"
   ]
  },
  {
   "cell_type": "code",
   "execution_count": 45,
   "metadata": {},
   "outputs": [],
   "source": [
    "def frozen_param_model(net):\n",
    "    for name, param in net.named_parameters():\n",
    "        if param.requires_grad and 'zonal_vae' in name:\n",
    "            param.requires_grad = False\n",
    "\n",
    "    non_frozen_param = [p for p in net.parameters() if p.requires_grad]\n",
    "    return non_frozen_param"
   ]
  },
  {
   "cell_type": "code",
   "execution_count": 46,
   "metadata": {},
   "outputs": [],
   "source": [
    "def save_checkpoint(model, filename):\n",
    "    torch.save(model.state_dict(), filename)\n",
    "\n",
    "def load_from_checkpoint(model, filename):\n",
    "    model.load_state_dict(torch.load(filename))\n",
    "    return model\n",
    "\n",
    "def init_weights(model):\n",
    "    if isinstance(model, nn.Linear):\n",
    "        torch.nn.init.kaiming_uniform_(model.weight, nonlinearity='relu')\n",
    "        model.bias.data.fill_(0.01)"
   ]
  },
  {
   "cell_type": "markdown",
   "metadata": {},
   "source": [
    "### SPECIFYING EARLY STOPPING FUNCTION"
   ]
  },
  {
   "cell_type": "code",
   "execution_count": 47,
   "metadata": {},
   "outputs": [],
   "source": [
    "class EarlyStopping:\n",
    "    def __init__(self, patience=8, verbose=False, \n",
    "                 path=\"best_model.pth\", trace_func=print,\n",
    "                 model_name=\"model_x\"):\n",
    "\n",
    "        self.patience = patience\n",
    "        self.verbose = verbose\n",
    "        self.counter = 0\n",
    "        self.best_score = None\n",
    "        self.early_stop = False\n",
    "        self.val_loss_min = np.Inf\n",
    "        self.path = path\n",
    "        self.trace_func = trace_func\n",
    "        self.model_name = model_name\n",
    "\n",
    "    def __call__(self, val_loss, model):\n",
    "\n",
    "        score = -val_loss\n",
    "\n",
    "        if self.best_score is None:\n",
    "            self.best_score = score\n",
    "            self.save_checkpoint(val_loss, model)\n",
    "            \n",
    "        elif score < self.best_score:\n",
    "            self.counter += 1\n",
    "            self.trace_func(f'[{self.model_name}] EarlyStopping counter: {self.counter} out of {self.patience}')\n",
    "            if self.counter >= self.patience:\n",
    "                self.early_stop = True\n",
    "        else:\n",
    "            self.best_score = score\n",
    "            self.save_checkpoint(val_loss, model)\n",
    "            self.counter = 0\n",
    "\n",
    "    def save_checkpoint(self, val_loss, model):\n",
    "        if self.verbose:\n",
    "            self.trace_func(f'[{self.model_name}] Validation loss decreased ({self.val_loss_min:.6f} --> {val_loss:.6f}).  Saving model ...')\n",
    "        torch.save(model.state_dict(), self.path)\n",
    "        self.val_loss_min = val_loss"
   ]
  },
  {
   "cell_type": "code",
   "execution_count": 48,
   "metadata": {},
   "outputs": [],
   "source": [
    "early_stop_patience = 5\n",
    "\n",
    "model_path_1 = os.path.join(os.getcwd(), \"transformer_checkpoint_point_forecast\", \"vae_transformer_best_1.pth\")\n",
    "model_path_2 = os.path.join(os.getcwd(), \"transformer_checkpoint_point_forecast\", \"vae_transformer_best_2.pth\")\n",
    "model_path_3 = os.path.join(os.getcwd(), \"transformer_checkpoint_point_forecast\", \"vae_transformer_best_3.pth\")\n",
    "\n",
    "early_stopping_1 = EarlyStopping(patience=early_stop_patience, verbose=True, path=model_path_1, model_name=\"model_1\")\n",
    "early_stopping_2 = EarlyStopping(patience=early_stop_patience, verbose=True, path=model_path_2, model_name=\"model_2\")\n",
    "early_stopping_3 = EarlyStopping(patience=early_stop_patience, verbose=True, path=model_path_3, model_name=\"model_3\")"
   ]
  },
  {
   "cell_type": "markdown",
   "metadata": {},
   "source": [
    "### DEFINING ZONAL MODEL"
   ]
  },
  {
   "cell_type": "code",
   "execution_count": 49,
   "metadata": {},
   "outputs": [],
   "source": [
    "model_1 = VAE_TRANSFORMER(vae_models[0], transformer_models[0]).apply(init_weights)\n",
    "model_2 = VAE_TRANSFORMER(vae_models[1], transformer_models[1]).apply(init_weights)\n",
    "model_3 = VAE_TRANSFORMER(vae_models[2], transformer_models[2]).apply(init_weights)"
   ]
  },
  {
   "cell_type": "code",
   "execution_count": 50,
   "metadata": {},
   "outputs": [],
   "source": [
    "# Defining optimizer with frozen vae parameters -> Just training the Transformer\n",
    "optimizer_1 = optim.Adam(frozen_param_model(model_1), lr=config_args.learning_rate, weight_decay=config_args.weight_decay)\n",
    "optimizer_2 = optim.Adam(frozen_param_model(model_2), lr=config_args.learning_rate, weight_decay=config_args.weight_decay)\n",
    "optimizer_3 = optim.Adam(frozen_param_model(model_3), lr=config_args.learning_rate, weight_decay=config_args.weight_decay)"
   ]
  },
  {
   "cell_type": "code",
   "execution_count": 51,
   "metadata": {},
   "outputs": [],
   "source": [
    "# # Defining optimizer with frozen vae parameters -> Just training the Transformer\n",
    "# optimizer_1 = optim.SGD(frozen_param_model(model_1), lr=config_args.learning_rate, weight_decay=config_args.weight_decay)\n",
    "# optimizer_2 = optim.SGD(frozen_param_model(model_2), lr=config_args.learning_rate, weight_decay=config_args.weight_decay)\n",
    "# optimizer_3 = optim.SGD(frozen_param_model(model_3), lr=config_args.learning_rate, weight_decay=config_args.weight_decay)"
   ]
  },
  {
   "cell_type": "code",
   "execution_count": 52,
   "metadata": {},
   "outputs": [],
   "source": [
    "# max_lr_value = 1e-2\n",
    "# base_lr_value = 1e-5\n",
    "# step_size_value = 10\n",
    "\n",
    "# scheduler_1 = CyclicLR(optimizer_1, \n",
    "#                      base_lr = base_lr_value,\n",
    "#                      max_lr = max_lr_value, \n",
    "#                      step_size_up = step_size_value,\n",
    "#                      mode = \"exp_range\")\n",
    "# scheduler_2 = CyclicLR(optimizer_2, \n",
    "#                      base_lr = base_lr_value,\n",
    "#                      max_lr = max_lr_value, \n",
    "#                      step_size_up = step_size_value,\n",
    "#                      mode = \"exp_range\")\n",
    "# scheduler_3 = CyclicLR(optimizer_3, \n",
    "#                      base_lr = base_lr_value,\n",
    "#                      max_lr = max_lr_value, \n",
    "#                      step_size_up = step_size_value,\n",
    "#                      mode = \"exp_range\")"
   ]
  },
  {
   "cell_type": "code",
   "execution_count": 53,
   "metadata": {},
   "outputs": [],
   "source": [
    "# start_fac_val = 1\n",
    "# end_fac_val = 0.001\n",
    "# total_iter_val = 30\n",
    "\n",
    "# scheduler_1 = LinearLR(optimizer_1, start_factor=start_fac_val, end_factor=end_fac_val, total_iters=total_iter_val)\n",
    "\n",
    "# scheduler_2 = LinearLR(optimizer_2, start_factor=start_fac_val, end_factor=end_fac_val, total_iters=total_iter_val)\n",
    "\n",
    "# scheduler_3 = LinearLR(optimizer_3, start_factor=start_fac_val, end_factor=end_fac_val, total_iters=total_iter_val)"
   ]
  },
  {
   "cell_type": "markdown",
   "metadata": {},
   "source": [
    "### PERFORMING MODEL TRAINING"
   ]
  },
  {
   "cell_type": "code",
   "execution_count": 54,
   "metadata": {},
   "outputs": [
    {
     "name": "stdout",
     "output_type": "stream",
     "text": [
      "\n",
      "[Epoch     1 of 200] loss_1: 0.133026 val_loss_1: 0.127682 loss_2: 0.122952 val_loss_2: 0.139739 loss_3: 0.155587 val_loss_3: 0.147565\n",
      "[model_1] Validation loss decreased (inf --> 0.127682).  Saving model ...\n",
      "[model_2] Validation loss decreased (inf --> 0.139739).  Saving model ...\n",
      "[model_3] Validation loss decreased (inf --> 0.147565).  Saving model ...\n",
      "\n",
      "[Epoch     2 of 200] loss_1: 0.134264 val_loss_1: 0.127682 loss_2: 0.123907 val_loss_2: 0.139739 loss_3: 0.157454 val_loss_3: 0.147566\n",
      "[model_1] EarlyStopping counter: 1 out of 5\n",
      "[model_2] EarlyStopping counter: 1 out of 5\n",
      "[model_3] EarlyStopping counter: 1 out of 5\n",
      "\n",
      "[Epoch     3 of 200] loss_1: 0.133390 val_loss_1: 0.127677 loss_2: 0.122870 val_loss_2: 0.139733 loss_3: 0.156339 val_loss_3: 0.147559\n",
      "[model_1] Validation loss decreased (0.127682 --> 0.127677).  Saving model ...\n",
      "[model_2] Validation loss decreased (0.139739 --> 0.139733).  Saving model ...\n",
      "[model_3] Validation loss decreased (0.147565 --> 0.147559).  Saving model ...\n",
      "\n",
      "[Epoch     4 of 200] loss_1: 0.133709 val_loss_1: 0.127566 loss_2: 0.123188 val_loss_2: 0.139602 loss_3: 0.156973 val_loss_3: 0.147421\n",
      "[model_1] Validation loss decreased (0.127677 --> 0.127566).  Saving model ...\n",
      "[model_2] Validation loss decreased (0.139733 --> 0.139602).  Saving model ...\n",
      "[model_3] Validation loss decreased (0.147559 --> 0.147421).  Saving model ...\n",
      "\n",
      "[Epoch     5 of 200] loss_1: 0.070532 val_loss_1: 0.024016 loss_2: 0.065317 val_loss_2: 0.021501 loss_3: 0.079451 val_loss_3: 0.024760\n",
      "[model_1] Validation loss decreased (0.127566 --> 0.024016).  Saving model ...\n",
      "[model_2] Validation loss decreased (0.139602 --> 0.021501).  Saving model ...\n",
      "[model_3] Validation loss decreased (0.147421 --> 0.024760).  Saving model ...\n",
      "\n",
      "[Epoch     6 of 200] loss_1: 0.020696 val_loss_1: 0.015442 loss_2: 0.019363 val_loss_2: 0.016350 loss_3: 0.022256 val_loss_3: 0.016042\n",
      "[model_1] Validation loss decreased (0.024016 --> 0.015442).  Saving model ...\n",
      "[model_2] Validation loss decreased (0.021501 --> 0.016350).  Saving model ...\n",
      "[model_3] Validation loss decreased (0.024760 --> 0.016042).  Saving model ...\n",
      "\n",
      "[Epoch     7 of 200] loss_1: 0.014715 val_loss_1: 0.012811 loss_2: 0.014148 val_loss_2: 0.013446 loss_3: 0.015898 val_loss_3: 0.012389\n",
      "[model_1] Validation loss decreased (0.015442 --> 0.012811).  Saving model ...\n",
      "[model_2] Validation loss decreased (0.016350 --> 0.013446).  Saving model ...\n",
      "[model_3] Validation loss decreased (0.016042 --> 0.012389).  Saving model ...\n",
      "\n",
      "[Epoch     8 of 200] loss_1: 0.007483 val_loss_1: 0.004805 loss_2: 0.008169 val_loss_2: 0.005866 loss_3: 0.007764 val_loss_3: 0.004193\n",
      "[model_1] Validation loss decreased (0.012811 --> 0.004805).  Saving model ...\n",
      "[model_2] Validation loss decreased (0.013446 --> 0.005866).  Saving model ...\n",
      "[model_3] Validation loss decreased (0.012389 --> 0.004193).  Saving model ...\n",
      "\n",
      "[Epoch     9 of 200] loss_1: 0.004111 val_loss_1: 0.005540 loss_2: 0.005087 val_loss_2: 0.005998 loss_3: 0.003988 val_loss_3: 0.004466\n",
      "[model_1] EarlyStopping counter: 1 out of 5\n",
      "[model_2] EarlyStopping counter: 1 out of 5\n",
      "[model_3] EarlyStopping counter: 1 out of 5\n",
      "\n",
      "[Epoch    10 of 200] loss_1: 0.004643 val_loss_1: 0.003871 loss_2: 0.005507 val_loss_2: 0.004976 loss_3: 0.004542 val_loss_3: 0.002936\n",
      "[model_1] Validation loss decreased (0.004805 --> 0.003871).  Saving model ...\n",
      "[model_2] Validation loss decreased (0.005866 --> 0.004976).  Saving model ...\n",
      "[model_3] Validation loss decreased (0.004193 --> 0.002936).  Saving model ...\n",
      "The plots at epoch 10 are:\n",
      "\n"
     ]
    },
    {
     "data": {
      "image/png": "[encoded data removed]",
      "text/plain": [
       "<Figure size 640x480 with 1 Axes>"
      ]
     },
     "metadata": {},
     "output_type": "display_data"
    },
    {
     "data": {
      "image/png": "[encoded data removed]",
      "text/plain": [
       "<Figure size 640x480 with 1 Axes>"
      ]
     },
     "metadata": {},
     "output_type": "display_data"
    },
    {
     "data": {
      "image/png": "[encoded data removed]",
      "text/plain": [
       "<Figure size 640x480 with 1 Axes>"
      ]
     },
     "metadata": {},
     "output_type": "display_data"
    },
    {
     "name": "stdout",
     "output_type": "stream",
     "text": [
      "\n",
      "[Epoch    11 of 200] loss_1: 0.003127 val_loss_1: 0.003541 loss_2: 0.004003 val_loss_2: 0.004367 loss_3: 0.002990 val_loss_3: 0.002559\n",
      "[model_1] Validation loss decreased (0.003871 --> 0.003541).  Saving model ...\n",
      "[model_2] Validation loss decreased (0.004976 --> 0.004367).  Saving model ...\n",
      "[model_3] Validation loss decreased (0.002936 --> 0.002559).  Saving model ...\n",
      "\n",
      "[Epoch    12 of 200] loss_1: 0.003032 val_loss_1: 0.003419 loss_2: 0.003850 val_loss_2: 0.004118 loss_3: 0.002883 val_loss_3: 0.002465\n",
      "[model_1] Validation loss decreased (0.003541 --> 0.003419).  Saving model ...\n",
      "[model_2] Validation loss decreased (0.004367 --> 0.004118).  Saving model ...\n",
      "[model_3] Validation loss decreased (0.002559 --> 0.002465).  Saving model ...\n",
      "\n",
      "[Epoch    13 of 200] loss_1: 0.002700 val_loss_1: 0.003151 loss_2: 0.003445 val_loss_2: 0.003808 loss_3: 0.002551 val_loss_3: 0.002256\n",
      "[model_1] Validation loss decreased (0.003419 --> 0.003151).  Saving model ...\n",
      "[model_2] Validation loss decreased (0.004118 --> 0.003808).  Saving model ...\n",
      "[model_3] Validation loss decreased (0.002465 --> 0.002256).  Saving model ...\n",
      "\n",
      "[Epoch    14 of 200] loss_1: 0.002693 val_loss_1: 0.003153 loss_2: 0.003368 val_loss_2: 0.003711 loss_3: 0.002541 val_loss_3: 0.002248\n",
      "[model_1] EarlyStopping counter: 1 out of 5\n",
      "[model_2] Validation loss decreased (0.003808 --> 0.003711).  Saving model ...\n",
      "[model_3] Validation loss decreased (0.002256 --> 0.002248).  Saving model ...\n",
      "\n",
      "[Epoch    15 of 200] loss_1: 0.002624 val_loss_1: 0.003585 loss_2: 0.003218 val_loss_2: 0.003856 loss_3: 0.002472 val_loss_3: 0.002826\n",
      "[model_1] EarlyStopping counter: 2 out of 5\n",
      "[model_2] EarlyStopping counter: 1 out of 5\n",
      "[model_3] EarlyStopping counter: 1 out of 5\n",
      "\n",
      "[Epoch    16 of 200] loss_1: 0.003026 val_loss_1: 0.003069 loss_2: 0.003630 val_loss_2: 0.003479 loss_3: 0.002916 val_loss_3: 0.002185\n",
      "[model_1] Validation loss decreased (0.003151 --> 0.003069).  Saving model ...\n",
      "[model_2] Validation loss decreased (0.003711 --> 0.003479).  Saving model ...\n",
      "[model_3] Validation loss decreased (0.002248 --> 0.002185).  Saving model ...\n",
      "\n",
      "[Epoch    17 of 200] loss_1: 0.002407 val_loss_1: 0.003327 loss_2: 0.002958 val_loss_2: 0.003468 loss_3: 0.002273 val_loss_3: 0.002266\n",
      "[model_1] EarlyStopping counter: 1 out of 5\n",
      "[model_2] Validation loss decreased (0.003479 --> 0.003468).  Saving model ...\n",
      "[model_3] EarlyStopping counter: 1 out of 5\n",
      "\n",
      "[Epoch    18 of 200] loss_1: 0.002367 val_loss_1: 0.003005 loss_2: 0.002851 val_loss_2: 0.003263 loss_3: 0.002231 val_loss_3: 0.002038\n",
      "[model_1] Validation loss decreased (0.003069 --> 0.003005).  Saving model ...\n",
      "[model_2] Validation loss decreased (0.003468 --> 0.003263).  Saving model ...\n",
      "[model_3] Validation loss decreased (0.002185 --> 0.002038).  Saving model ...\n",
      "\n",
      "[Epoch    19 of 200] loss_1: 0.002282 val_loss_1: 0.003098 loss_2: 0.002709 val_loss_2: 0.003132 loss_3: 0.002144 val_loss_3: 0.002024\n",
      "[model_1] EarlyStopping counter: 1 out of 5\n",
      "[model_2] Validation loss decreased (0.003263 --> 0.003132).  Saving model ...\n",
      "[model_3] Validation loss decreased (0.002038 --> 0.002024).  Saving model ...\n",
      "\n",
      "[Epoch    20 of 200] loss_1: 0.002139 val_loss_1: 0.002629 loss_2: 0.002542 val_loss_2: 0.002962 loss_3: 0.002020 val_loss_3: 0.001846\n",
      "[model_1] Validation loss decreased (0.003005 --> 0.002629).  Saving model ...\n",
      "[model_2] Validation loss decreased (0.003132 --> 0.002962).  Saving model ...\n",
      "[model_3] Validation loss decreased (0.002024 --> 0.001846).  Saving model ...\n",
      "The plots at epoch 20 are:\n",
      "\n"
     ]
    },
    {
     "data": {
      "image/png": "[encoded data removed]",
      "text/plain": [
       "<Figure size 640x480 with 1 Axes>"
      ]
     },
     "metadata": {},
     "output_type": "display_data"
    },
    {
     "data": {
      "image/png": "[encoded data removed]",
      "text/plain": [
       "<Figure size 640x480 with 1 Axes>"
      ]
     },
     "metadata": {},
     "output_type": "display_data"
    },
    {
     "data": {
      "image/png": "[encoded data removed]",
      "text/plain": [
       "<Figure size 640x480 with 1 Axes>"
      ]
     },
     "metadata": {},
     "output_type": "display_data"
    },
    {
     "name": "stdout",
     "output_type": "stream",
     "text": [
      "\n",
      "[Epoch    21 of 200] loss_1: 0.002166 val_loss_1: 0.002494 loss_2: 0.002493 val_loss_2: 0.002819 loss_3: 0.002047 val_loss_3: 0.001785\n",
      "[model_1] Validation loss decreased (0.002629 --> 0.002494).  Saving model ...\n",
      "[model_2] Validation loss decreased (0.002962 --> 0.002819).  Saving model ...\n",
      "[model_3] Validation loss decreased (0.001846 --> 0.001785).  Saving model ...\n",
      "\n",
      "[Epoch    22 of 200] loss_1: 0.002079 val_loss_1: 0.003301 loss_2: 0.002360 val_loss_2: 0.003166 loss_3: 0.001979 val_loss_3: 0.002472\n",
      "[model_1] EarlyStopping counter: 1 out of 5\n",
      "[model_2] EarlyStopping counter: 1 out of 5\n",
      "[model_3] EarlyStopping counter: 1 out of 5\n",
      "\n",
      "[Epoch    23 of 200] loss_1: 0.002286 val_loss_1: 0.002411 loss_2: 0.002552 val_loss_2: 0.002607 loss_3: 0.002162 val_loss_3: 0.001774\n",
      "[model_1] Validation loss decreased (0.002494 --> 0.002411).  Saving model ...\n",
      "[model_2] Validation loss decreased (0.002819 --> 0.002607).  Saving model ...\n",
      "[model_3] Validation loss decreased (0.001785 --> 0.001774).  Saving model ...\n",
      "\n",
      "[Epoch    24 of 200] loss_1: 0.001922 val_loss_1: 0.002327 loss_2: 0.002187 val_loss_2: 0.002485 loss_3: 0.001831 val_loss_3: 0.001634\n",
      "[model_1] Validation loss decreased (0.002411 --> 0.002327).  Saving model ...\n",
      "[model_2] Validation loss decreased (0.002607 --> 0.002485).  Saving model ...\n",
      "[model_3] Validation loss decreased (0.001774 --> 0.001634).  Saving model ...\n",
      "\n",
      "[Epoch    25 of 200] loss_1: 0.002026 val_loss_1: 0.002249 loss_2: 0.002252 val_loss_2: 0.002352 loss_3: 0.001924 val_loss_3: 0.001718\n",
      "[model_1] Validation loss decreased (0.002327 --> 0.002249).  Saving model ...\n",
      "[model_2] Validation loss decreased (0.002485 --> 0.002352).  Saving model ...\n",
      "[model_3] EarlyStopping counter: 1 out of 5\n",
      "\n",
      "[Epoch    26 of 200] loss_1: 0.001863 val_loss_1: 0.002090 loss_2: 0.002052 val_loss_2: 0.002377 loss_3: 0.001778 val_loss_3: 0.001507\n",
      "[model_1] Validation loss decreased (0.002249 --> 0.002090).  Saving model ...\n",
      "[model_2] EarlyStopping counter: 1 out of 5\n",
      "[model_3] Validation loss decreased (0.001634 --> 0.001507).  Saving model ...\n",
      "\n",
      "[Epoch    27 of 200] loss_1: 0.001952 val_loss_1: 0.002117 loss_2: 0.002103 val_loss_2: 0.002108 loss_3: 0.001875 val_loss_3: 0.001579\n",
      "[model_1] EarlyStopping counter: 1 out of 5\n",
      "[model_2] Validation loss decreased (0.002352 --> 0.002108).  Saving model ...\n",
      "[model_3] EarlyStopping counter: 1 out of 5\n",
      "\n",
      "[Epoch    28 of 200] loss_1: 0.002191 val_loss_1: 0.002028 loss_2: 0.002339 val_loss_2: 0.002263 loss_3: 0.002162 val_loss_3: 0.001474\n",
      "[model_1] Validation loss decreased (0.002090 --> 0.002028).  Saving model ...\n",
      "[model_2] EarlyStopping counter: 1 out of 5\n",
      "[model_3] Validation loss decreased (0.001507 --> 0.001474).  Saving model ...\n",
      "\n",
      "[Epoch    29 of 200] loss_1: 0.001594 val_loss_1: 0.001914 loss_2: 0.001736 val_loss_2: 0.001974 loss_3: 0.001521 val_loss_3: 0.001477\n",
      "[model_1] Validation loss decreased (0.002028 --> 0.001914).  Saving model ...\n",
      "[model_2] Validation loss decreased (0.002108 --> 0.001974).  Saving model ...\n",
      "[model_3] EarlyStopping counter: 1 out of 5\n",
      "\n",
      "[Epoch    30 of 200] loss_1: 0.001681 val_loss_1: 0.002184 loss_2: 0.001785 val_loss_2: 0.002048 loss_3: 0.001613 val_loss_3: 0.001829\n",
      "[model_1] EarlyStopping counter: 1 out of 5\n",
      "[model_2] EarlyStopping counter: 1 out of 5\n",
      "[model_3] EarlyStopping counter: 2 out of 5\n",
      "The plots at epoch 30 are:\n",
      "\n"
     ]
    },
    {
     "data": {
      "image/png": "[encoded data removed]",
      "text/plain": [
       "<Figure size 640x480 with 1 Axes>"
      ]
     },
     "metadata": {},
     "output_type": "display_data"
    },
    {
     "data": {
      "image/png": "[encoded data removed]",
      "text/plain": [
       "<Figure size 640x480 with 1 Axes>"
      ]
     },
     "metadata": {},
     "output_type": "display_data"
    },
    {
     "data": {
      "image/png": "[encoded data removed]",
      "text/plain": [
       "<Figure size 640x480 with 1 Axes>"
      ]
     },
     "metadata": {},
     "output_type": "display_data"
    },
    {
     "name": "stdout",
     "output_type": "stream",
     "text": [
      "\n",
      "[Epoch    31 of 200] loss_1: 0.001623 val_loss_1: 0.001815 loss_2: 0.001710 val_loss_2: 0.001858 loss_3: 0.001564 val_loss_3: 0.001605\n",
      "[model_1] Validation loss decreased (0.001914 --> 0.001815).  Saving model ...\n",
      "[model_2] Validation loss decreased (0.001974 --> 0.001858).  Saving model ...\n",
      "[model_3] EarlyStopping counter: 3 out of 5\n",
      "\n",
      "[Epoch    32 of 200] loss_1: 0.001582 val_loss_1: 0.001743 loss_2: 0.001645 val_loss_2: 0.002069 loss_3: 0.001549 val_loss_3: 0.001469\n",
      "[model_1] Validation loss decreased (0.001815 --> 0.001743).  Saving model ...\n",
      "[model_2] EarlyStopping counter: 1 out of 5\n",
      "[model_3] Validation loss decreased (0.001474 --> 0.001469).  Saving model ...\n",
      "\n",
      "[Epoch    33 of 200] loss_1: 0.002118 val_loss_1: 0.002129 loss_2: 0.002218 val_loss_2: 0.001923 loss_3: 0.002113 val_loss_3: 0.001514\n",
      "[model_1] EarlyStopping counter: 1 out of 5\n",
      "[model_2] EarlyStopping counter: 2 out of 5\n",
      "[model_3] EarlyStopping counter: 1 out of 5\n",
      "\n",
      "[Epoch    34 of 200] loss_1: 0.001594 val_loss_1: 0.002056 loss_2: 0.001658 val_loss_2: 0.001857 loss_3: 0.001539 val_loss_3: 0.001740\n",
      "[model_1] EarlyStopping counter: 2 out of 5\n",
      "[model_2] Validation loss decreased (0.001858 --> 0.001857).  Saving model ...\n",
      "[model_3] EarlyStopping counter: 2 out of 5\n",
      "\n",
      "[Epoch    35 of 200] loss_1: 0.001449 val_loss_1: 0.001712 loss_2: 0.001530 val_loss_2: 0.002019 loss_3: 0.001408 val_loss_3: 0.001381\n",
      "[model_1] Validation loss decreased (0.001743 --> 0.001712).  Saving model ...\n",
      "[model_2] EarlyStopping counter: 1 out of 5\n",
      "[model_3] Validation loss decreased (0.001469 --> 0.001381).  Saving model ...\n",
      "\n",
      "[Epoch    36 of 200] loss_1: 0.001535 val_loss_1: 0.001690 loss_2: 0.001613 val_loss_2: 0.001718 loss_3: 0.001527 val_loss_3: 0.001440\n",
      "[model_1] Validation loss decreased (0.001712 --> 0.001690).  Saving model ...\n",
      "[model_2] Validation loss decreased (0.001857 --> 0.001718).  Saving model ...\n",
      "[model_3] EarlyStopping counter: 1 out of 5\n",
      "\n",
      "[Epoch    37 of 200] loss_1: 0.001393 val_loss_1: 0.001715 loss_2: 0.001449 val_loss_2: 0.001740 loss_3: 0.001382 val_loss_3: 0.001832\n",
      "[model_1] EarlyStopping counter: 1 out of 5\n",
      "[model_2] EarlyStopping counter: 1 out of 5\n",
      "[model_3] EarlyStopping counter: 2 out of 5\n",
      "\n",
      "[Epoch    38 of 200] loss_1: 0.001372 val_loss_1: 0.001540 loss_2: 0.001433 val_loss_2: 0.001682 loss_3: 0.001360 val_loss_3: 0.001393\n",
      "[model_1] Validation loss decreased (0.001690 --> 0.001540).  Saving model ...\n",
      "[model_2] Validation loss decreased (0.001718 --> 0.001682).  Saving model ...\n",
      "[model_3] EarlyStopping counter: 3 out of 5\n",
      "\n",
      "[Epoch    39 of 200] loss_1: 0.001390 val_loss_1: 0.001567 loss_2: 0.001439 val_loss_2: 0.001826 loss_3: 0.001398 val_loss_3: 0.001355\n",
      "[model_1] EarlyStopping counter: 1 out of 5\n",
      "[model_2] EarlyStopping counter: 1 out of 5\n",
      "[model_3] Validation loss decreased (0.001381 --> 0.001355).  Saving model ...\n",
      "\n",
      "[Epoch    40 of 200] loss_1: 0.001564 val_loss_1: 0.001960 loss_2: 0.001635 val_loss_2: 0.001841 loss_3: 0.001575 val_loss_3: 0.001841\n",
      "[model_1] EarlyStopping counter: 2 out of 5\n",
      "[model_2] EarlyStopping counter: 2 out of 5\n",
      "[model_3] EarlyStopping counter: 1 out of 5\n",
      "The plots at epoch 40 are:\n",
      "\n"
     ]
    },
    {
     "data": {
      "image/png": "[encoded data removed]",
      "text/plain": [
       "<Figure size 640x480 with 1 Axes>"
      ]
     },
     "metadata": {},
     "output_type": "display_data"
    },
    {
     "data": {
      "image/png": "[encoded data removed]",
      "text/plain": [
       "<Figure size 640x480 with 1 Axes>"
      ]
     },
     "metadata": {},
     "output_type": "display_data"
    },
    {
     "data": {
      "image/png": "[encoded data removed]",
      "text/plain": [
       "<Figure size 640x480 with 1 Axes>"
      ]
     },
     "metadata": {},
     "output_type": "display_data"
    },
    {
     "name": "stdout",
     "output_type": "stream",
     "text": [
      "\n",
      "[Epoch    41 of 200] loss_1: 0.001328 val_loss_1: 0.001510 loss_2: 0.001391 val_loss_2: 0.001746 loss_3: 0.001325 val_loss_3: 0.001326\n",
      "[model_1] Validation loss decreased (0.001540 --> 0.001510).  Saving model ...\n",
      "[model_2] EarlyStopping counter: 3 out of 5\n",
      "[model_3] Validation loss decreased (0.001355 --> 0.001326).  Saving model ...\n",
      "\n",
      "[Epoch    42 of 200] loss_1: 0.001305 val_loss_1: 0.001529 loss_2: 0.001368 val_loss_2: 0.001766 loss_3: 0.001312 val_loss_3: 0.001351\n",
      "[model_1] EarlyStopping counter: 1 out of 5\n",
      "[model_2] EarlyStopping counter: 4 out of 5\n",
      "[model_3] EarlyStopping counter: 1 out of 5\n",
      "\n",
      "[Epoch    43 of 200] loss_1: 0.001451 val_loss_1: 0.001532 loss_2: 0.001512 val_loss_2: 0.001600 loss_3: 0.001463 val_loss_3: 0.001482\n",
      "[model_1] EarlyStopping counter: 2 out of 5\n",
      "[model_2] Validation loss decreased (0.001682 --> 0.001600).  Saving model ...\n",
      "[model_3] EarlyStopping counter: 2 out of 5\n",
      "\n",
      "[Epoch    44 of 200] loss_1: 0.001222 val_loss_1: 0.001499 loss_2: 0.001283 val_loss_2: 0.001763 loss_3: 0.001242 val_loss_3: 0.001332\n",
      "[model_1] Validation loss decreased (0.001510 --> 0.001499).  Saving model ...\n",
      "[model_2] EarlyStopping counter: 1 out of 5\n",
      "[model_3] EarlyStopping counter: 3 out of 5\n",
      "\n",
      "[Epoch    45 of 200] loss_1: 0.001307 val_loss_1: 0.001533 loss_2: 0.001358 val_loss_2: 0.001818 loss_3: 0.001303 val_loss_3: 0.001219\n",
      "[model_1] EarlyStopping counter: 1 out of 5\n",
      "[model_2] EarlyStopping counter: 2 out of 5\n",
      "[model_3] Validation loss decreased (0.001326 --> 0.001219).  Saving model ...\n",
      "\n",
      "[Epoch    46 of 200] loss_1: 0.001225 val_loss_1: 0.001457 loss_2: 0.001265 val_loss_2: 0.001554 loss_3: 0.001227 val_loss_3: 0.001257\n",
      "[model_1] Validation loss decreased (0.001499 --> 0.001457).  Saving model ...\n",
      "[model_2] Validation loss decreased (0.001600 --> 0.001554).  Saving model ...\n",
      "[model_3] EarlyStopping counter: 1 out of 5\n",
      "\n",
      "[Epoch    47 of 200] loss_1: 0.001211 val_loss_1: 0.001443 loss_2: 0.001255 val_loss_2: 0.001592 loss_3: 0.001229 val_loss_3: 0.001262\n",
      "[model_1] Validation loss decreased (0.001457 --> 0.001443).  Saving model ...\n",
      "[model_2] EarlyStopping counter: 1 out of 5\n",
      "[model_3] EarlyStopping counter: 2 out of 5\n",
      "\n",
      "[Epoch    48 of 200] loss_1: 0.001205 val_loss_1: 0.001552 loss_2: 0.001252 val_loss_2: 0.001540 loss_3: 0.001211 val_loss_3: 0.001323\n",
      "[model_1] EarlyStopping counter: 1 out of 5\n",
      "[model_2] Validation loss decreased (0.001554 --> 0.001540).  Saving model ...\n",
      "[model_3] EarlyStopping counter: 3 out of 5\n",
      "\n",
      "[Epoch    49 of 200] loss_1: 0.001188 val_loss_1: 0.001482 loss_2: 0.001239 val_loss_2: 0.001572 loss_3: 0.001203 val_loss_3: 0.001242\n",
      "[model_1] EarlyStopping counter: 2 out of 5\n",
      "[model_2] EarlyStopping counter: 1 out of 5\n",
      "[model_3] EarlyStopping counter: 4 out of 5\n",
      "\n",
      "[Epoch    50 of 200] loss_1: 0.001137 val_loss_1: 0.001435 loss_2: 0.001175 val_loss_2: 0.001634 loss_3: 0.001138 val_loss_3: 0.001300\n",
      "[model_1] Validation loss decreased (0.001443 --> 0.001435).  Saving model ...\n",
      "[model_2] EarlyStopping counter: 2 out of 5\n",
      "[model_3] EarlyStopping counter: 5 out of 5\n",
      "Early stopping - model_3\n",
      "The plots at epoch 50 are:\n",
      "\n"
     ]
    },
    {
     "data": {
      "image/png": "[encoded data removed]",
      "text/plain": [
       "<Figure size 640x480 with 1 Axes>"
      ]
     },
     "metadata": {},
     "output_type": "display_data"
    },
    {
     "data": {
      "image/png": "[encoded data removed]",
      "text/plain": [
       "<Figure size 640x480 with 1 Axes>"
      ]
     },
     "metadata": {},
     "output_type": "display_data"
    },
    {
     "data": {
      "image/png": "[encoded data removed]",
      "text/plain": [
       "<Figure size 640x480 with 1 Axes>"
      ]
     },
     "metadata": {},
     "output_type": "display_data"
    },
    {
     "name": "stdout",
     "output_type": "stream",
     "text": [
      "\n",
      "[Epoch    51 of 200] loss_1: 0.001170 val_loss_1: 0.001477 loss_2: 0.001215 val_loss_2: 0.001496 loss_3: 0.001183 val_loss_3: 0.001280\n",
      "[model_1] EarlyStopping counter: 1 out of 5\n",
      "[model_2] Validation loss decreased (0.001540 --> 0.001496).  Saving model ...\n",
      "[model_3] EarlyStopping counter: 6 out of 5\n",
      "Early stopping - model_3\n",
      "\n",
      "[Epoch    52 of 200] loss_1: 0.001094 val_loss_1: 0.001456 loss_2: 0.001145 val_loss_2: 0.001481 loss_3: 0.001113 val_loss_3: 0.001343\n",
      "[model_1] EarlyStopping counter: 2 out of 5\n",
      "[model_2] Validation loss decreased (0.001496 --> 0.001481).  Saving model ...\n",
      "[model_3] EarlyStopping counter: 7 out of 5\n",
      "Early stopping - model_3\n",
      "\n",
      "[Epoch    53 of 200] loss_1: 0.001129 val_loss_1: 0.001447 loss_2: 0.001169 val_loss_2: 0.001681 loss_3: 0.001135 val_loss_3: 0.001226\n",
      "[model_1] EarlyStopping counter: 3 out of 5\n",
      "[model_2] EarlyStopping counter: 1 out of 5\n",
      "[model_3] EarlyStopping counter: 8 out of 5\n",
      "Early stopping - model_3\n",
      "\n",
      "[Epoch    54 of 200] loss_1: 0.001160 val_loss_1: 0.001428 loss_2: 0.001201 val_loss_2: 0.001581 loss_3: 0.001160 val_loss_3: 0.001288\n",
      "[model_1] Validation loss decreased (0.001435 --> 0.001428).  Saving model ...\n",
      "[model_2] EarlyStopping counter: 2 out of 5\n",
      "[model_3] EarlyStopping counter: 9 out of 5\n",
      "Early stopping - model_3\n",
      "\n",
      "[Epoch    55 of 200] loss_1: 0.001086 val_loss_1: 0.001769 loss_2: 0.001129 val_loss_2: 0.001540 loss_3: 0.001094 val_loss_3: 0.001465\n",
      "[model_1] EarlyStopping counter: 1 out of 5\n",
      "[model_2] EarlyStopping counter: 3 out of 5\n",
      "[model_3] EarlyStopping counter: 10 out of 5\n",
      "Early stopping - model_3\n",
      "\n",
      "[Epoch    56 of 200] loss_1: 0.001213 val_loss_1: 0.001775 loss_2: 0.001269 val_loss_2: 0.001609 loss_3: 0.001221 val_loss_3: 0.001541\n",
      "[model_1] EarlyStopping counter: 2 out of 5\n",
      "[model_2] EarlyStopping counter: 4 out of 5\n",
      "[model_3] EarlyStopping counter: 11 out of 5\n",
      "Early stopping - model_3\n",
      "\n",
      "[Epoch    57 of 200] loss_1: 0.001159 val_loss_1: 0.001450 loss_2: 0.001191 val_loss_2: 0.001673 loss_3: 0.001169 val_loss_3: 0.001295\n",
      "[model_1] EarlyStopping counter: 3 out of 5\n",
      "[model_2] EarlyStopping counter: 5 out of 5\n",
      "[model_3] EarlyStopping counter: 12 out of 5\n",
      "Early stopping - model_2\n",
      "Early stopping - model_3\n",
      "\n",
      "[Epoch    58 of 200] loss_1: 0.001102 val_loss_1: 0.001536 loss_2: 0.001142 val_loss_2: 0.001512 loss_3: 0.001115 val_loss_3: 0.001385\n",
      "[model_1] EarlyStopping counter: 4 out of 5\n",
      "[model_2] EarlyStopping counter: 6 out of 5\n",
      "[model_3] EarlyStopping counter: 13 out of 5\n",
      "Early stopping - model_2\n",
      "Early stopping - model_3\n",
      "\n",
      "[Epoch    59 of 200] loss_1: 0.001084 val_loss_1: 0.001436 loss_2: 0.001119 val_loss_2: 0.001502 loss_3: 0.001090 val_loss_3: 0.001182\n",
      "[model_1] EarlyStopping counter: 5 out of 5\n",
      "[model_2] EarlyStopping counter: 7 out of 5\n",
      "[model_3] Validation loss decreased (0.001219 --> 0.001182).  Saving model ...\n",
      "Early stopping - model_1\n",
      "Early stopping - model_2\n",
      "Early stopping - model_3\n",
      "\n",
      "All model stopped early...\n"
     ]
    },
    {
     "data": {
      "image/png": "[encoded data removed]",
      "text/plain": [
       "<Figure size 640x480 with 1 Axes>"
      ]
     },
     "metadata": {},
     "output_type": "display_data"
    },
    {
     "data": {
      "image/png": "[encoded data removed]",
      "text/plain": [
       "<Figure size 640x480 with 1 Axes>"
      ]
     },
     "metadata": {},
     "output_type": "display_data"
    },
    {
     "data": {
      "image/png": "[encoded data removed]",
      "text/plain": [
       "<Figure size 640x480 with 1 Axes>"
      ]
     },
     "metadata": {},
     "output_type": "display_data"
    },
    {
     "name": "stdout",
     "output_type": "stream",
     "text": [
      "\n",
      "Total time of training: 0.5937801661756303 hours\n"
     ]
    }
   ],
   "source": [
    "start_time = time.time()\n",
    "\n",
    "hist_loss_1 = np.zeros(config_args.epochs)\n",
    "hist_loss_2 = np.zeros(config_args.epochs)\n",
    "hist_loss_3 = np.zeros(config_args.epochs)\n",
    "\n",
    "val_hist_loss_1 = np.zeros(config_args.epochs)\n",
    "val_hist_loss_2 = np.zeros(config_args.epochs)\n",
    "val_hist_loss_3 = np.zeros(config_args.epochs)\n",
    "\n",
    "val_loss_best_1 = np.inf\n",
    "val_loss_best_2 = np.inf\n",
    "val_loss_best_3 = np.inf\n",
    "\n",
    "count_1 = 0\n",
    "count_2 = 0\n",
    "count_3 = 0\n",
    "\n",
    "for epoch in range(config_args.epochs):\n",
    "\n",
    "    # Switching all models in training mode\n",
    "    model_1.train()\n",
    "    model_2.train()\n",
    "    model_3.train()\n",
    "\n",
    "    running_loss_1 = 0\n",
    "    running_loss_2 = 0\n",
    "    running_loss_3 = 0\n",
    "\n",
    "\n",
    "    for batch, (categorical_var, continuous_var, target_var) in enumerate(train_dataloader):\n",
    "\n",
    "        # Setting the gradients to zero\n",
    "        optimizer_1.zero_grad()\n",
    "        optimizer_2.zero_grad()\n",
    "        optimizer_3.zero_grad()\n",
    "\n",
    "        # The categorical variables are common for all zones.\n",
    "        common_categorical = copy.deepcopy(categorical_var).to(device)\n",
    "\n",
    "        zone_1_continuous = copy.deepcopy(continuous_var[:, :, 0:6]).to(device)\n",
    "        zone_2_continuous = copy.deepcopy(continuous_var[:, :, 6:12]).to(device)\n",
    "        zone_3_continuous = copy.deepcopy(continuous_var[:, :, 12:18]).to(device)\n",
    "\n",
    "        zone_1_target = copy.deepcopy(target_var[:, :, 0:1])\n",
    "        zone_2_target = copy.deepcopy(target_var[:, :, 1:2])\n",
    "        zone_3_target = copy.deepcopy(target_var[:, :, 2:3])\n",
    "\n",
    "        # Propagating through the network\n",
    "        out_vae_1, out_transformer_1 = model_1(common_categorical, zone_1_continuous)\n",
    "        out_vae_2, out_transformer_2 = model_2(common_categorical, zone_2_continuous)\n",
    "        out_vae_3, out_transformer_3 = model_3(common_categorical, zone_3_continuous)\n",
    "\n",
    "        # Calculating the pinball loss\n",
    "        loss_1 = loss_function(out_transformer_1, zone_1_target.to(device))\n",
    "        loss_2 = loss_function(out_transformer_2, zone_2_target.to(device))\n",
    "        loss_3 = loss_function(out_transformer_3, zone_3_target.to(device))\n",
    "\n",
    "        # Back-Propagating the loss\n",
    "        loss_1.backward()\n",
    "        loss_2.backward()\n",
    "        loss_3.backward()\n",
    "\n",
    "        # Updating the parameters\n",
    "        optimizer_1.step()\n",
    "        optimizer_2.step()\n",
    "        optimizer_3.step()\n",
    "\n",
    "        # Accumulating the running loss\n",
    "        running_loss_1 += loss_1.item()\n",
    "        running_loss_2 += loss_2.item()\n",
    "        running_loss_3 += loss_3.item()\n",
    "\n",
    "        train_loss_1 = running_loss_1/len(train_dataloader)\n",
    "        train_loss_2 = running_loss_2/len(train_dataloader)\n",
    "        train_loss_3 = running_loss_3/len(train_dataloader)\n",
    "\n",
    "        val_loss_1 = compute_val_point_score(model_1, test_dataloader,\n",
    "                                             loss_function, \"zone_1\",\n",
    "                                             device).item()\n",
    "        val_loss_2 = compute_val_point_score(model_2, test_dataloader,\n",
    "                                             loss_function, \"zone_2\",\n",
    "                                             device).item()\n",
    "        val_loss_3 = compute_val_point_score(model_3, test_dataloader,\n",
    "                                             loss_function, \"zone_3\",\n",
    "                                             device).item()\n",
    "\n",
    "        hist_loss_1[epoch] = train_loss_1\n",
    "        hist_loss_2[epoch] = train_loss_2\n",
    "        hist_loss_3[epoch] = train_loss_3\n",
    "\n",
    "        val_hist_loss_1[epoch] = val_loss_1\n",
    "        val_hist_loss_2[epoch] = val_loss_2\n",
    "        val_hist_loss_3[epoch] = val_loss_3\n",
    "    \n",
    "#     # Checking the change in learning rates\n",
    "#     before_lr_1 = optimizer_1.param_groups[0][\"lr\"]\n",
    "#     before_lr_2 = optimizer_2.param_groups[0][\"lr\"]\n",
    "#     before_lr_3 = optimizer_3.param_groups[0][\"lr\"]\n",
    "    \n",
    "#     scheduler_1.step()\n",
    "#     scheduler_2.step()\n",
    "#     scheduler_3.step()\n",
    "    \n",
    "#     after_lr_1 = optimizer_1.param_groups[0][\"lr\"]\n",
    "#     after_lr_2 = optimizer_2.param_groups[0][\"lr\"]\n",
    "#     after_lr_3 = optimizer_3.param_groups[0][\"lr\"]\n",
    "\n",
    "#     print('LR_1: {before_1:1.6f} -> {after_1:1.6f}, LR_2: {before_2:1.6f} -> {after_2:1.6f}, LR_3: {before_3:1.6f} -> {after_3:1.6f}'.format(t=epoch+1,\n",
    "#                                                                                epochs=config_args.epochs,\n",
    "#                                                                                before_1=before_lr_1, after_1=after_lr_1,\n",
    "#                                                                                before_2=before_lr_2, after_2=after_lr_2,\n",
    "#                                                                                before_3=before_lr_3, after_3=after_lr_3,\n",
    "#                                                                                ))\n",
    "\n",
    "    \n",
    "    print('\\n[Epoch {t:5d} of {epochs}] loss_1: {loss_1:1.6f} val_loss_1: {val_loss_1:1.6f} loss_2: {loss_2:1.6f} val_loss_2: {val_loss_2:1.6f} loss_3: {loss_3:1.6f} val_loss_3: {val_loss_3:1.6f}'.format(t=epoch+1,\n",
    "                                                                                                                                                                                                          epochs=config_args.epochs,\n",
    "                                                                                                                                                                                                          loss_1=train_loss_1,\n",
    "                                                                                                                                                                                                          val_loss_1=val_loss_1,\n",
    "                                                                                                                                                                                                          loss_2=train_loss_2, \n",
    "                                                                                                                                                                                                          val_loss_2=val_loss_2,\n",
    "                                                                                                                                                                                                          loss_3=train_loss_3,\n",
    "                                                                                                                                                                                                          val_loss_3=val_loss_3))\n",
    "    \n",
    "    # Employing early stopping to avoid overfitting\n",
    "    early_stopping_1(val_loss_1, model_1)\n",
    "    early_stopping_2(val_loss_2, model_2)\n",
    "    early_stopping_3(val_loss_3, model_3)\n",
    "\n",
    "    if early_stopping_1.early_stop and count_1 < 1:\n",
    "        print(\"Early stopping - {}\".format(early_stopping_1.model_name))\n",
    "\n",
    "    if early_stopping_2.early_stop and count_2 < 1:\n",
    "        print(\"Early stopping - {}\".format(early_stopping_2.model_name))\n",
    "\n",
    "    if early_stopping_3.early_stop and count_3 < 1:\n",
    "        print(\"Early stopping - {}\".format(early_stopping_3.model_name))\n",
    "\n",
    "    if all((early_stopping_1.early_stop, early_stopping_2.early_stop, early_stopping_3.early_stop)):\n",
    "        print(\"\\nAll model stopped early...\")\n",
    "        break\n",
    "\n",
    "    if (epoch + 1) % config_args.update_freq == 0:\n",
    "        print(\"The plots at epoch {} are:\\n\".format(epoch+1))\n",
    "        plt.plot(np.trim_zeros(hist_loss_1, 'b'), 'o-', label='train')\n",
    "        plt.plot(np.trim_zeros(val_hist_loss_1, 'b'), 'o-', label='val')\n",
    "        plt.legend()\n",
    "        plt.show()\n",
    "\n",
    "        plt.plot(np.trim_zeros(hist_loss_2, 'b'), 'o-', label='train')\n",
    "        plt.plot(np.trim_zeros(val_hist_loss_2, 'b'), 'o-', label='val')\n",
    "        plt.legend()\n",
    "        plt.show()\n",
    "\n",
    "        plt.plot(np.trim_zeros(hist_loss_3, 'b'), 'o-', label='train')\n",
    "        plt.plot(np.trim_zeros(val_hist_loss_3, 'b'), 'o-', label='val')\n",
    "        plt.legend()\n",
    "        plt.show()\n",
    "\n",
    "        \n",
    "plt.plot(np.trim_zeros(hist_loss_1, 'b'), 'o-', label='train')\n",
    "plt.plot(np.trim_zeros(val_hist_loss_1, 'b'), 'o-', label='val')\n",
    "plt.legend()\n",
    "plt.show()\n",
    "\n",
    "plt.plot(np.trim_zeros(hist_loss_2, 'b'), 'o-', label='train')\n",
    "plt.plot(np.trim_zeros(val_hist_loss_2, 'b'), 'o-', label='val')\n",
    "plt.legend()\n",
    "plt.show()\n",
    "\n",
    "plt.plot(np.trim_zeros(hist_loss_3, 'b'), 'o-', label='train')\n",
    "plt.plot(np.trim_zeros(val_hist_loss_3, 'b'), 'o-', label='val')\n",
    "plt.legend()\n",
    "plt.show()\n",
    "        \n",
    "end_time = time.time()\n",
    "\n",
    "total_time = end_time - start_time\n",
    "print(\"\\nTotal time of training: {} hours\".format(total_time/3600))"
   ]
  },
  {
   "cell_type": "markdown",
   "metadata": {},
   "source": [
    "### LOADING AND GENERATING RESULTS ON TEST DATALOADER"
   ]
  },
  {
   "cell_type": "code",
   "execution_count": 55,
   "metadata": {},
   "outputs": [],
   "source": [
    "# Loading the models\n",
    "best_vae_transformer_1 = load_from_checkpoint(model_1, model_path_1)\n",
    "best_vae_transformer_2 = load_from_checkpoint(model_2, model_path_2)\n",
    "best_vae_transformer_3 = load_from_checkpoint(model_3, model_path_3)"
   ]
  },
  {
   "cell_type": "code",
   "execution_count": 56,
   "metadata": {},
   "outputs": [
    {
     "name": "stderr",
     "output_type": "stream",
     "text": [
      "100%|███████████████████████████████████████████████████████████████████████████████████████████████████████████████████████████████████████████████████████████████████████████████████████████████████████████████████████████████████████████████████████████████████████████████| 1/1 [00:00<00:00,  2.48it/s]\n"
     ]
    }
   ],
   "source": [
    "point_pred_1 = np.empty(shape=(len(test_dataloader.dataset), 24, model_args.d_output))\n",
    "point_pred_2 = np.empty(shape=(len(test_dataloader.dataset), 24, model_args.d_output))\n",
    "point_pred_3 = np.empty(shape=(len(test_dataloader.dataset), 24, model_args.d_output))\n",
    "idx_pred_1 = 0\n",
    "idx_pred_2 = 0\n",
    "idx_pred_3 = 0\n",
    "\n",
    "# Switching all models to eval mode\n",
    "model_1.eval()\n",
    "model_2.eval()\n",
    "model_3.eval()\n",
    "\n",
    "with torch.no_grad():\n",
    "    for (categorical_var, continuous_var, target_var) in tqdm(test_dataloader, total=len(test_dataloader)):\n",
    "\n",
    "        # The categorical variables are common for all zones.\n",
    "        common_categorical = copy.deepcopy(categorical_var).to(device)\n",
    "\n",
    "        zone_1_continuous = copy.deepcopy(continuous_var[:, :, 0:6]).to(device)\n",
    "        zone_2_continuous = copy.deepcopy(continuous_var[:, :, 6:12]).to(device)\n",
    "        zone_3_continuous = copy.deepcopy(continuous_var[:, :, 12:18]).to(device)\n",
    "\n",
    "        zone_1_target = copy.deepcopy(target_var[:, :, 0:1])\n",
    "        zone_2_target = copy.deepcopy(target_var[:, :, 1:2])\n",
    "        zone_3_target = copy.deepcopy(target_var[:, :, 2:3])\n",
    "\n",
    "        # Propagating through the network\n",
    "        out_vae_1, out_transformer_1 = model_1(common_categorical, zone_1_continuous)\n",
    "        out_vae_2, out_transformer_2 = model_2(common_categorical, zone_2_continuous)\n",
    "        out_vae_3, out_transformer_3 = model_3(common_categorical, zone_3_continuous)\n",
    "\n",
    "        # Concatenating the predictions\n",
    "        point_pred_1[idx_pred_1:idx_pred_1+zone_1_continuous.shape[0]] = out_transformer_1.cpu().numpy()\n",
    "\n",
    "        point_pred_2[idx_pred_2:idx_pred_2+zone_2_continuous.shape[0]] = out_transformer_2.cpu().numpy()\n",
    "\n",
    "        point_pred_3[idx_pred_3:idx_pred_3+zone_3_continuous.shape[0]] = out_transformer_3.cpu().numpy()\n",
    "\n",
    "        idx_pred_1 += zone_1_continuous.shape[0]\n",
    "        idx_pred_2 += zone_2_continuous.shape[0]\n",
    "        idx_pred_3 += zone_3_continuous.shape[0]"
   ]
  },
  {
   "cell_type": "markdown",
   "metadata": {},
   "source": [
    "#### FORMATTING PREDICTED AND TRUE DATA FOR GENERATING RESULTS"
   ]
  },
  {
   "cell_type": "code",
   "execution_count": 57,
   "metadata": {},
   "outputs": [
    {
     "data": {
      "text/plain": [
       "(8760, 1)"
      ]
     },
     "execution_count": 57,
     "metadata": {},
     "output_type": "execute_result"
    }
   ],
   "source": [
    "# Reshaping the predicted quantiles\n",
    "point_pred_arr_1 = point_pred_1.reshape(-1, model_args.d_output)\n",
    "point_pred_arr_2 = point_pred_2.reshape(-1, model_args.d_output)\n",
    "point_pred_arr_3 = point_pred_3.reshape(-1, model_args.d_output)\n",
    "\n",
    "point_pred_arr_1.shape"
   ]
  },
  {
   "cell_type": "code",
   "execution_count": 58,
   "metadata": {},
   "outputs": [
    {
     "data": {
      "text/plain": [
       "(8760, 1)"
      ]
     },
     "execution_count": 58,
     "metadata": {},
     "output_type": "execute_result"
    }
   ],
   "source": [
    "point_pred_1_inv = point_pred_arr_1 * (mm_scaler_Y.data_max_[0] - mm_scaler_Y.data_min_[0]) + mm_scaler_Y.data_min_[0]\n",
    "point_pred_2_inv = point_pred_arr_2 * (mm_scaler_Y.data_max_[1] - mm_scaler_Y.data_min_[1]) + mm_scaler_Y.data_min_[1]\n",
    "point_pred_3_inv = point_pred_arr_3 * (mm_scaler_Y.data_max_[2] - mm_scaler_Y.data_min_[2]) + mm_scaler_Y.data_min_[2]\n",
    "\n",
    "point_pred_1_inv.shape"
   ]
  },
  {
   "cell_type": "code",
   "execution_count": 59,
   "metadata": {},
   "outputs": [
    {
     "data": {
      "text/plain": [
       "(8760, 1)"
      ]
     },
     "execution_count": 59,
     "metadata": {},
     "output_type": "execute_result"
    }
   ],
   "source": [
    "# Reshaping the true data\n",
    "Y_test_1 = target_samples_testing[:, :, 0:1]\n",
    "Y_test_2 = target_samples_testing[:, :, 1:2]\n",
    "Y_test_3 = target_samples_testing[:, :, 2:3]\n",
    "\n",
    "yArr_1 = Y_test_1.reshape(Y_test_1.shape[0] * Y_test_1.shape[1], Y_test_1.shape[2]).numpy()\n",
    "yArr_2 = Y_test_2.reshape(Y_test_2.shape[0] * Y_test_2.shape[1], Y_test_2.shape[2]).numpy()\n",
    "yArr_3 = Y_test_3.reshape(Y_test_3.shape[0] * Y_test_3.shape[1], Y_test_3.shape[2]).numpy()\n",
    "\n",
    "yArr_1.shape"
   ]
  },
  {
   "cell_type": "code",
   "execution_count": 60,
   "metadata": {},
   "outputs": [],
   "source": [
    "yArr_1_inv = yArr_1 * (mm_scaler_Y.data_max_[0] - mm_scaler_Y.data_min_[0]) + mm_scaler_Y.data_min_[0]\n",
    "yArr_2_inv = yArr_2 * (mm_scaler_Y.data_max_[1] - mm_scaler_Y.data_min_[1]) + mm_scaler_Y.data_min_[1]\n",
    "yArr_3_inv = yArr_3 * (mm_scaler_Y.data_max_[2] - mm_scaler_Y.data_min_[2]) + mm_scaler_Y.data_min_[2]"
   ]
  },
  {
   "cell_type": "markdown",
   "metadata": {},
   "source": [
    "#### CALCULATING THE MAPE ON TEST DATA"
   ]
  },
  {
   "cell_type": "code",
   "execution_count": 61,
   "metadata": {},
   "outputs": [
    {
     "data": {
      "text/html": [
       "<div>\n",
       "<style scoped>\n",
       "    .dataframe tbody tr th:only-of-type {\n",
       "        vertical-align: middle;\n",
       "    }\n",
       "\n",
       "    .dataframe tbody tr th {\n",
       "        vertical-align: top;\n",
       "    }\n",
       "\n",
       "    .dataframe thead th {\n",
       "        text-align: right;\n",
       "    }\n",
       "</style>\n",
       "<table border=\"1\" class=\"dataframe\">\n",
       "  <thead>\n",
       "    <tr style=\"text-align: right;\">\n",
       "      <th></th>\n",
       "      <th>Values</th>\n",
       "      <th>Predictions</th>\n",
       "    </tr>\n",
       "  </thead>\n",
       "  <tbody>\n",
       "    <tr>\n",
       "      <th>0</th>\n",
       "      <td>25457.519531</td>\n",
       "      <td>25814.267256</td>\n",
       "    </tr>\n",
       "    <tr>\n",
       "      <th>1</th>\n",
       "      <td>24341.429688</td>\n",
       "      <td>25218.884422</td>\n",
       "    </tr>\n",
       "    <tr>\n",
       "      <th>2</th>\n",
       "      <td>23409.070312</td>\n",
       "      <td>24771.608537</td>\n",
       "    </tr>\n",
       "    <tr>\n",
       "      <th>3</th>\n",
       "      <td>22785.869141</td>\n",
       "      <td>24680.931930</td>\n",
       "    </tr>\n",
       "    <tr>\n",
       "      <th>4</th>\n",
       "      <td>22584.080078</td>\n",
       "      <td>25192.210923</td>\n",
       "    </tr>\n",
       "    <tr>\n",
       "      <th>...</th>\n",
       "      <td>...</td>\n",
       "      <td>...</td>\n",
       "    </tr>\n",
       "    <tr>\n",
       "      <th>8755</th>\n",
       "      <td>31844.076172</td>\n",
       "      <td>33551.582722</td>\n",
       "    </tr>\n",
       "    <tr>\n",
       "      <th>8756</th>\n",
       "      <td>30687.078125</td>\n",
       "      <td>33088.317924</td>\n",
       "    </tr>\n",
       "    <tr>\n",
       "      <th>8757</th>\n",
       "      <td>29583.296875</td>\n",
       "      <td>31517.611364</td>\n",
       "    </tr>\n",
       "    <tr>\n",
       "      <th>8758</th>\n",
       "      <td>28458.691406</td>\n",
       "      <td>29732.466112</td>\n",
       "    </tr>\n",
       "    <tr>\n",
       "      <th>8759</th>\n",
       "      <td>27428.212891</td>\n",
       "      <td>28268.665697</td>\n",
       "    </tr>\n",
       "  </tbody>\n",
       "</table>\n",
       "<p>8760 rows × 2 columns</p>\n",
       "</div>"
      ],
      "text/plain": [
       "            Values   Predictions\n",
       "0     25457.519531  25814.267256\n",
       "1     24341.429688  25218.884422\n",
       "2     23409.070312  24771.608537\n",
       "3     22785.869141  24680.931930\n",
       "4     22584.080078  25192.210923\n",
       "...            ...           ...\n",
       "8755  31844.076172  33551.582722\n",
       "8756  30687.078125  33088.317924\n",
       "8757  29583.296875  31517.611364\n",
       "8758  28458.691406  29732.466112\n",
       "8759  27428.212891  28268.665697\n",
       "\n",
       "[8760 rows x 2 columns]"
      ]
     },
     "execution_count": 61,
     "metadata": {},
     "output_type": "execute_result"
    }
   ],
   "source": [
    "compare_df_1 = pd.DataFrame(data= {\"Values\": yArr_1_inv[:, 0], \"Predictions\": point_pred_1_inv[:, 0]})\n",
    "compare_df_1"
   ]
  },
  {
   "cell_type": "code",
   "execution_count": 62,
   "metadata": {},
   "outputs": [
    {
     "data": {
      "text/html": [
       "<div>\n",
       "<style scoped>\n",
       "    .dataframe tbody tr th:only-of-type {\n",
       "        vertical-align: middle;\n",
       "    }\n",
       "\n",
       "    .dataframe tbody tr th {\n",
       "        vertical-align: top;\n",
       "    }\n",
       "\n",
       "    .dataframe thead th {\n",
       "        text-align: right;\n",
       "    }\n",
       "</style>\n",
       "<table border=\"1\" class=\"dataframe\">\n",
       "  <thead>\n",
       "    <tr style=\"text-align: right;\">\n",
       "      <th></th>\n",
       "      <th>Values</th>\n",
       "      <th>Predictions</th>\n",
       "    </tr>\n",
       "  </thead>\n",
       "  <tbody>\n",
       "    <tr>\n",
       "      <th>0</th>\n",
       "      <td>9088.189453</td>\n",
       "      <td>9359.190489</td>\n",
       "    </tr>\n",
       "    <tr>\n",
       "      <th>1</th>\n",
       "      <td>8684.293945</td>\n",
       "      <td>8986.407485</td>\n",
       "    </tr>\n",
       "    <tr>\n",
       "      <th>2</th>\n",
       "      <td>8323.870117</td>\n",
       "      <td>8810.800231</td>\n",
       "    </tr>\n",
       "    <tr>\n",
       "      <th>3</th>\n",
       "      <td>8164.973145</td>\n",
       "      <td>8687.548453</td>\n",
       "    </tr>\n",
       "    <tr>\n",
       "      <th>4</th>\n",
       "      <td>8126.982422</td>\n",
       "      <td>8919.345004</td>\n",
       "    </tr>\n",
       "    <tr>\n",
       "      <th>...</th>\n",
       "      <td>...</td>\n",
       "      <td>...</td>\n",
       "    </tr>\n",
       "    <tr>\n",
       "      <th>8755</th>\n",
       "      <td>11682.099609</td>\n",
       "      <td>11676.110516</td>\n",
       "    </tr>\n",
       "    <tr>\n",
       "      <th>8756</th>\n",
       "      <td>11442.870117</td>\n",
       "      <td>11345.093775</td>\n",
       "    </tr>\n",
       "    <tr>\n",
       "      <th>8757</th>\n",
       "      <td>11166.769531</td>\n",
       "      <td>10793.070224</td>\n",
       "    </tr>\n",
       "    <tr>\n",
       "      <th>8758</th>\n",
       "      <td>10838.549805</td>\n",
       "      <td>10075.564772</td>\n",
       "    </tr>\n",
       "    <tr>\n",
       "      <th>8759</th>\n",
       "      <td>10592.673828</td>\n",
       "      <td>9522.070678</td>\n",
       "    </tr>\n",
       "  </tbody>\n",
       "</table>\n",
       "<p>8760 rows × 2 columns</p>\n",
       "</div>"
      ],
      "text/plain": [
       "            Values   Predictions\n",
       "0      9088.189453   9359.190489\n",
       "1      8684.293945   8986.407485\n",
       "2      8323.870117   8810.800231\n",
       "3      8164.973145   8687.548453\n",
       "4      8126.982422   8919.345004\n",
       "...            ...           ...\n",
       "8755  11682.099609  11676.110516\n",
       "8756  11442.870117  11345.093775\n",
       "8757  11166.769531  10793.070224\n",
       "8758  10838.549805  10075.564772\n",
       "8759  10592.673828   9522.070678\n",
       "\n",
       "[8760 rows x 2 columns]"
      ]
     },
     "execution_count": 62,
     "metadata": {},
     "output_type": "execute_result"
    }
   ],
   "source": [
    "compare_df_2 = pd.DataFrame(data= {\"Values\": yArr_2_inv[:, 0], \"Predictions\": point_pred_2_inv[:, 0]})\n",
    "compare_df_2"
   ]
  },
  {
   "cell_type": "code",
   "execution_count": 63,
   "metadata": {},
   "outputs": [
    {
     "data": {
      "text/html": [
       "<div>\n",
       "<style scoped>\n",
       "    .dataframe tbody tr th:only-of-type {\n",
       "        vertical-align: middle;\n",
       "    }\n",
       "\n",
       "    .dataframe tbody tr th {\n",
       "        vertical-align: top;\n",
       "    }\n",
       "\n",
       "    .dataframe thead th {\n",
       "        text-align: right;\n",
       "    }\n",
       "</style>\n",
       "<table border=\"1\" class=\"dataframe\">\n",
       "  <thead>\n",
       "    <tr style=\"text-align: right;\">\n",
       "      <th></th>\n",
       "      <th>Values</th>\n",
       "      <th>Predictions</th>\n",
       "    </tr>\n",
       "  </thead>\n",
       "  <tbody>\n",
       "    <tr>\n",
       "      <th>0</th>\n",
       "      <td>37595.378906</td>\n",
       "      <td>39457.715840</td>\n",
       "    </tr>\n",
       "    <tr>\n",
       "      <th>1</th>\n",
       "      <td>36246.585938</td>\n",
       "      <td>38361.613610</td>\n",
       "    </tr>\n",
       "    <tr>\n",
       "      <th>2</th>\n",
       "      <td>35429.871094</td>\n",
       "      <td>37237.043864</td>\n",
       "    </tr>\n",
       "    <tr>\n",
       "      <th>3</th>\n",
       "      <td>35011.558594</td>\n",
       "      <td>37881.384131</td>\n",
       "    </tr>\n",
       "    <tr>\n",
       "      <th>4</th>\n",
       "      <td>35128.800781</td>\n",
       "      <td>38287.864236</td>\n",
       "    </tr>\n",
       "    <tr>\n",
       "      <th>...</th>\n",
       "      <td>...</td>\n",
       "      <td>...</td>\n",
       "    </tr>\n",
       "    <tr>\n",
       "      <th>8755</th>\n",
       "      <td>49258.609375</td>\n",
       "      <td>51434.654693</td>\n",
       "    </tr>\n",
       "    <tr>\n",
       "      <th>8756</th>\n",
       "      <td>47886.875000</td>\n",
       "      <td>50908.066995</td>\n",
       "    </tr>\n",
       "    <tr>\n",
       "      <th>8757</th>\n",
       "      <td>46582.285156</td>\n",
       "      <td>49222.985517</td>\n",
       "    </tr>\n",
       "    <tr>\n",
       "      <th>8758</th>\n",
       "      <td>45132.980469</td>\n",
       "      <td>46763.365740</td>\n",
       "    </tr>\n",
       "    <tr>\n",
       "      <th>8759</th>\n",
       "      <td>43501.527344</td>\n",
       "      <td>44643.210468</td>\n",
       "    </tr>\n",
       "  </tbody>\n",
       "</table>\n",
       "<p>8760 rows × 2 columns</p>\n",
       "</div>"
      ],
      "text/plain": [
       "            Values   Predictions\n",
       "0     37595.378906  39457.715840\n",
       "1     36246.585938  38361.613610\n",
       "2     35429.871094  37237.043864\n",
       "3     35011.558594  37881.384131\n",
       "4     35128.800781  38287.864236\n",
       "...            ...           ...\n",
       "8755  49258.609375  51434.654693\n",
       "8756  47886.875000  50908.066995\n",
       "8757  46582.285156  49222.985517\n",
       "8758  45132.980469  46763.365740\n",
       "8759  43501.527344  44643.210468\n",
       "\n",
       "[8760 rows x 2 columns]"
      ]
     },
     "execution_count": 63,
     "metadata": {},
     "output_type": "execute_result"
    }
   ],
   "source": [
    "compare_df_3 = pd.DataFrame(data= {\"Values\": yArr_3_inv[:, 0], \"Predictions\": point_pred_3_inv[:, 0]})\n",
    "compare_df_3"
   ]
  },
  {
   "cell_type": "code",
   "execution_count": 64,
   "metadata": {},
   "outputs": [
    {
     "name": "stdout",
     "output_type": "stream",
     "text": [
      "Saving the best trained models.\n",
      "Saved !\n"
     ]
    }
   ],
   "source": [
    "print(\"Saving the best trained models.\")\n",
    "\n",
    "# Saving the models\n",
    "torch.save(best_vae_transformer_1, f\"vae_transformer_models/L1_vae_transformer_1.pth\")\n",
    "torch.save(best_vae_transformer_2, f\"vae_transformer_models/L1_vae_transformer_2.pth\")\n",
    "torch.save(best_vae_transformer_3, f\"vae_transformer_models/L1_vae_transformer_3.pth\")\n",
    "\n",
    "print(\"Saved !\")"
   ]
  },
  {
   "cell_type": "markdown",
   "metadata": {},
   "source": [
    "#### EXAMINING THE RESULTS"
   ]
  },
  {
   "cell_type": "code",
   "execution_count": 65,
   "metadata": {},
   "outputs": [],
   "source": [
    "mape_max_val = mm_scaler_Y.data_max_.max()"
   ]
  },
  {
   "cell_type": "code",
   "execution_count": 66,
   "metadata": {},
   "outputs": [
    {
     "name": "stdout",
     "output_type": "stream",
     "text": [
      "New MAPE:  1.2816967970194286\n",
      "Old MAPE:  1.7695985210831746\n"
     ]
    },
    {
     "data": {
      "text/plain": [
       "<Axes: >"
      ]
     },
     "execution_count": 66,
     "metadata": {},
     "output_type": "execute_result"
    },
    {
     "data": {
      "image/png": "[encoded data removed]",
      "text/plain": [
       "<Figure size 640x480 with 1 Axes>"
      ]
     },
     "metadata": {},
     "output_type": "display_data"
    }
   ],
   "source": [
    "result_mape_1 = new_mape(compare_df_1[\"Values\"], compare_df_1[\"Predictions\"], max_val=mape_max_val)\n",
    "print(\"New MAPE: \", result_mape_1)\n",
    "print(\"Old MAPE: \", mape(compare_df_1[\"Values\"], compare_df_1[\"Predictions\"]))\n",
    "compare_df_1.iloc[:100].plot()"
   ]
  },
  {
   "cell_type": "code",
   "execution_count": 67,
   "metadata": {},
   "outputs": [
    {
     "name": "stdout",
     "output_type": "stream",
     "text": [
      "New MAPE:  0.557127210344668\n",
      "Old MAPE:  2.1838767509238175\n"
     ]
    },
    {
     "data": {
      "text/plain": [
       "<Axes: >"
      ]
     },
     "execution_count": 67,
     "metadata": {},
     "output_type": "execute_result"
    },
    {
     "data": {
      "image/png": "[encoded data removed]",
      "text/plain": [
       "<Figure size 640x480 with 1 Axes>"
      ]
     },
     "metadata": {},
     "output_type": "display_data"
    }
   ],
   "source": [
    "result_mape_2 =  new_mape(compare_df_2[\"Values\"], compare_df_2[\"Predictions\"], max_val=mape_max_val)\n",
    "print(\"New MAPE: \", result_mape_2)\n",
    "print(\"Old MAPE: \", mape(compare_df_2[\"Values\"], compare_df_2[\"Predictions\"]))\n",
    "compare_df_2.plot()"
   ]
  },
  {
   "cell_type": "code",
   "execution_count": 68,
   "metadata": {},
   "outputs": [
    {
     "name": "stdout",
     "output_type": "stream",
     "text": [
      "New MAPE:  1.5114133094424065\n",
      "Old MAPE:  1.541228388111644\n"
     ]
    },
    {
     "data": {
      "text/plain": [
       "<Axes: >"
      ]
     },
     "execution_count": 68,
     "metadata": {},
     "output_type": "execute_result"
    },
    {
     "data": {
      "image/png": "[encoded data removed]",
      "text/plain": [
       "<Figure size 640x480 with 1 Axes>"
      ]
     },
     "metadata": {},
     "output_type": "display_data"
    }
   ],
   "source": [
    "result_mape_3 = new_mape(compare_df_3[\"Values\"], compare_df_3[\"Predictions\"], max_val=mape_max_val)\n",
    "print(\"New MAPE: \", result_mape_3)\n",
    "print(\"Old MAPE: \", mape(compare_df_3[\"Values\"], compare_df_3[\"Predictions\"]))\n",
    "compare_df_3.plot()"
   ]
  },
  {
   "cell_type": "code",
   "execution_count": 69,
   "metadata": {},
   "outputs": [
    {
     "name": "stdout",
     "output_type": "stream",
     "text": [
      "Results saved !\n"
     ]
    },
    {
     "data": {
      "text/html": [
       "<div>\n",
       "<style scoped>\n",
       "    .dataframe tbody tr th:only-of-type {\n",
       "        vertical-align: middle;\n",
       "    }\n",
       "\n",
       "    .dataframe tbody tr th {\n",
       "        vertical-align: top;\n",
       "    }\n",
       "\n",
       "    .dataframe thead th {\n",
       "        text-align: right;\n",
       "    }\n",
       "</style>\n",
       "<table border=\"1\" class=\"dataframe\">\n",
       "  <thead>\n",
       "    <tr style=\"text-align: right;\">\n",
       "      <th></th>\n",
       "      <th>zone</th>\n",
       "      <th>mape</th>\n",
       "    </tr>\n",
       "  </thead>\n",
       "  <tbody>\n",
       "    <tr>\n",
       "      <th>0</th>\n",
       "      <td>MIDATL</td>\n",
       "      <td>1.281697</td>\n",
       "    </tr>\n",
       "    <tr>\n",
       "      <th>1</th>\n",
       "      <td>SOUTH</td>\n",
       "      <td>0.557127</td>\n",
       "    </tr>\n",
       "    <tr>\n",
       "      <th>2</th>\n",
       "      <td>WEST</td>\n",
       "      <td>1.511413</td>\n",
       "    </tr>\n",
       "  </tbody>\n",
       "</table>\n",
       "</div>"
      ],
      "text/plain": [
       "     zone      mape\n",
       "0  MIDATL  1.281697\n",
       "1   SOUTH  0.557127\n",
       "2    WEST  1.511413"
      ]
     },
     "execution_count": 69,
     "metadata": {},
     "output_type": "execute_result"
    }
   ],
   "source": [
    "resultsDf = pd.DataFrame()\n",
    "resultsDf[\"zone\"] = [i.removesuffix('.csv') for i in fileList]\n",
    "resultsDf[\"mape\"] = [\n",
    "result_mape_1, result_mape_2, result_mape_3,\n",
    "]\n",
    "\n",
    "resultsDf.to_csv(os.path.join(\"lag_24_results\", \"new_v2_\" + dataset + \".csv\"), index=False)\n",
    "print(\"Results saved !\")\n",
    "\n",
    "resultsDf"
   ]
  },
  {
   "cell_type": "code",
   "execution_count": 70,
   "metadata": {},
   "outputs": [],
   "source": [
    "# import IPython\n",
    "# app = IPython.Application.instance()\n",
    "# app.kernel.do_shutdown(True)"
   ]
  },
  {
   "cell_type": "code",
   "execution_count": 71,
   "metadata": {},
   "outputs": [
    {
     "name": "stdout",
     "output_type": "stream",
     "text": [
      "Results saved !\n"
     ]
    },
    {
     "data": {
      "text/html": [
       "<div>\n",
       "<style scoped>\n",
       "    .dataframe tbody tr th:only-of-type {\n",
       "        vertical-align: middle;\n",
       "    }\n",
       "\n",
       "    .dataframe tbody tr th {\n",
       "        vertical-align: top;\n",
       "    }\n",
       "\n",
       "    .dataframe thead th {\n",
       "        text-align: right;\n",
       "    }\n",
       "</style>\n",
       "<table border=\"1\" class=\"dataframe\">\n",
       "  <thead>\n",
       "    <tr style=\"text-align: right;\">\n",
       "      <th></th>\n",
       "      <th>zone</th>\n",
       "      <th>mape</th>\n",
       "    </tr>\n",
       "  </thead>\n",
       "  <tbody>\n",
       "    <tr>\n",
       "      <th>0</th>\n",
       "      <td>MIDATL</td>\n",
       "      <td>1.769599</td>\n",
       "    </tr>\n",
       "    <tr>\n",
       "      <th>1</th>\n",
       "      <td>SOUTH</td>\n",
       "      <td>2.183877</td>\n",
       "    </tr>\n",
       "    <tr>\n",
       "      <th>2</th>\n",
       "      <td>WEST</td>\n",
       "      <td>1.541228</td>\n",
       "    </tr>\n",
       "  </tbody>\n",
       "</table>\n",
       "</div>"
      ],
      "text/plain": [
       "     zone      mape\n",
       "0  MIDATL  1.769599\n",
       "1   SOUTH  2.183877\n",
       "2    WEST  1.541228"
      ]
     },
     "execution_count": 71,
     "metadata": {},
     "output_type": "execute_result"
    }
   ],
   "source": [
    "oldResultsDf = pd.DataFrame()\n",
    "oldResultsDf[\"zone\"] = [i.removesuffix('.csv') for i in fileList]\n",
    "oldResultsDf[\"mape\"] = [\n",
    "    mape(compare_df_1[\"Values\"], compare_df_1[\"Predictions\"]), \n",
    "    mape(compare_df_2[\"Values\"], compare_df_2[\"Predictions\"]), \n",
    "    mape(compare_df_3[\"Values\"], compare_df_3[\"Predictions\"]),\n",
    "]\n",
    "\n",
    "oldResultsDf.to_csv(os.path.join(\"lag_24_results\", \"old_v2_\" + dataset + \".csv\"), index=False)\n",
    "print(\"Results saved !\")\n",
    "\n",
    "oldResultsDf"
   ]
  }
 ],
 "metadata": {
  "kernelspec": {
   "display_name": "Python 3 (ipykernel)",
   "language": "python",
   "name": "python3"
  },
  "language_info": {
   "codemirror_mode": {
    "name": "ipython",
    "version": 3
   },
   "file_extension": ".py",
   "mimetype": "text/x-python",
   "name": "python",
   "nbconvert_exporter": "python",
   "pygments_lexer": "ipython3",
   "version": "3.10.11"
  }
 },
 "nbformat": 4,
 "nbformat_minor": 1
}
