{
 "cells": [
  {
   "cell_type": "code",
   "execution_count": 1,
   "metadata": {},
   "outputs": [
    {
     "name": "stdout",
     "output_type": "stream",
     "text": [
      "Using device cuda:0\n"
     ]
    }
   ],
   "source": [
    "# Importing the required libraries\n",
    "from IPython.display import display\n",
    "import os\n",
    "import numpy as np\n",
    "import pandas as pd\n",
    "from matplotlib import pyplot as plt\n",
    "from tqdm import tqdm\n",
    "from sklearn.preprocessing import MinMaxScaler, OneHotEncoder, StandardScaler\n",
    "import time\n",
    "import easydict\n",
    "import copy\n",
    "\n",
    "import torch\n",
    "import torch.nn as nn\n",
    "from torch.utils.tensorboard import SummaryWriter\n",
    "from torch.utils.data import DataLoader, Dataset\n",
    "import torch.optim as optim\n",
    "from torch.optim.lr_scheduler import CyclicLR, LinearLR\n",
    "\n",
    "from time_transformer.transformer import Transformer\n",
    "from time_transformer.utils_valid_loss_point import compute_val_point_score\n",
    "\n",
    "# Training device check-up\n",
    "device = torch.device(\"cuda:0\" if torch.cuda.is_available() else \"cpu\")\n",
    "print(f\"Using device {device}\")\n",
    "\n",
    "writer = SummaryWriter()\n",
    "\n",
    "# Defining DOE custom mape formula\n",
    "def new_mape(y_true, y_pred, max_val):\n",
    "    y_true, y_pred = np.array(y_true), np.array(y_pred)\n",
    "    return np.mean(np.abs((y_true - y_pred) / max_val)) * 100\n",
    "\n",
    "# Defining DOE custom mape formula\n",
    "def mape(y_true, y_pred):\n",
    "    y_true, y_pred = np.array(y_true), np.array(y_pred)\n",
    "    return np.mean(np.abs((y_true - y_pred) / max(y_true))) * 100"
   ]
  },
  {
   "cell_type": "markdown",
   "metadata": {},
   "source": [
    "#### FETCHING AND PROCESSING CALENDER FEATURES"
   ]
  },
  {
   "cell_type": "code",
   "execution_count": 2,
   "metadata": {},
   "outputs": [
    {
     "name": "stdout",
     "output_type": "stream",
     "text": [
      "['L5.csv']\n"
     ]
    }
   ],
   "source": [
    "# Specifying the path of file\n",
    "path= r\"C:\\Users\\sashah8\\DOE_Graph_Attention_Transformer\\DOE MODEL TRAINING\\Data Processing\\processed_data\"\n",
    "dataset = \"L5\"\n",
    "\n",
    "# Listing just the required files\n",
    "fileList = os.listdir(os.path.join(path, dataset))\n",
    "\n",
    "# Previewing the required file names\n",
    "print(fileList)"
   ]
  },
  {
   "cell_type": "code",
   "execution_count": 3,
   "metadata": {},
   "outputs": [
    {
     "data": {
      "text/html": [
       "<div>\n",
       "<style scoped>\n",
       "    .dataframe tbody tr th:only-of-type {\n",
       "        vertical-align: middle;\n",
       "    }\n",
       "\n",
       "    .dataframe tbody tr th {\n",
       "        vertical-align: top;\n",
       "    }\n",
       "\n",
       "    .dataframe thead th {\n",
       "        text-align: right;\n",
       "    }\n",
       "</style>\n",
       "<table border=\"1\" class=\"dataframe\">\n",
       "  <thead>\n",
       "    <tr style=\"text-align: right;\">\n",
       "      <th></th>\n",
       "      <th>ept</th>\n",
       "      <th>kw</th>\n",
       "      <th>tmp</th>\n",
       "    </tr>\n",
       "  </thead>\n",
       "  <tbody>\n",
       "    <tr>\n",
       "      <th>0</th>\n",
       "      <td>2017-01-01 00:00:00</td>\n",
       "      <td>15984.0</td>\n",
       "      <td>48.0</td>\n",
       "    </tr>\n",
       "    <tr>\n",
       "      <th>1</th>\n",
       "      <td>2017-01-01 01:00:00</td>\n",
       "      <td>15984.0</td>\n",
       "      <td>46.8</td>\n",
       "    </tr>\n",
       "  </tbody>\n",
       "</table>\n",
       "</div>"
      ],
      "text/plain": [
       "                   ept       kw   tmp\n",
       "0  2017-01-01 00:00:00  15984.0  48.0\n",
       "1  2017-01-01 01:00:00  15984.0  46.8"
      ]
     },
     "metadata": {},
     "output_type": "display_data"
    }
   ],
   "source": [
    "# Just for previewing the column name\n",
    "display(pd.read_csv(os.path.join(path, dataset, fileList[0])).head(2))"
   ]
  },
  {
   "cell_type": "code",
   "execution_count": 4,
   "metadata": {},
   "outputs": [
    {
     "name": "stdout",
     "output_type": "stream",
     "text": [
      "Sample dataframe: \n"
     ]
    },
    {
     "data": {
      "text/html": [
       "<div>\n",
       "<style scoped>\n",
       "    .dataframe tbody tr th:only-of-type {\n",
       "        vertical-align: middle;\n",
       "    }\n",
       "\n",
       "    .dataframe tbody tr th {\n",
       "        vertical-align: top;\n",
       "    }\n",
       "\n",
       "    .dataframe thead th {\n",
       "        text-align: right;\n",
       "    }\n",
       "</style>\n",
       "<table border=\"1\" class=\"dataframe\">\n",
       "  <thead>\n",
       "    <tr style=\"text-align: right;\">\n",
       "      <th></th>\n",
       "      <th>ept</th>\n",
       "      <th>kw</th>\n",
       "      <th>tmp</th>\n",
       "    </tr>\n",
       "  </thead>\n",
       "  <tbody>\n",
       "    <tr>\n",
       "      <th>0</th>\n",
       "      <td>2017-01-01 00:00:00</td>\n",
       "      <td>15984.0</td>\n",
       "      <td>48.0</td>\n",
       "    </tr>\n",
       "    <tr>\n",
       "      <th>1</th>\n",
       "      <td>2017-01-01 01:00:00</td>\n",
       "      <td>15984.0</td>\n",
       "      <td>46.8</td>\n",
       "    </tr>\n",
       "  </tbody>\n",
       "</table>\n",
       "</div>"
      ],
      "text/plain": [
       "                  ept       kw   tmp\n",
       "0 2017-01-01 00:00:00  15984.0  48.0\n",
       "1 2017-01-01 01:00:00  15984.0  46.8"
      ]
     },
     "metadata": {},
     "output_type": "display_data"
    }
   ],
   "source": [
    "# Just for previewing the column name\n",
    "data = pd.read_csv(os.path.join(path, dataset, fileList[0]), parse_dates=['ept'], usecols=['ept', 'kw', 'tmp'])\n",
    "print(\"Sample dataframe: \")\n",
    "display(data.head(2))"
   ]
  },
  {
   "cell_type": "code",
   "execution_count": 5,
   "metadata": {},
   "outputs": [
    {
     "data": {
      "text/plain": [
       "0   2017-01-01 00:00:00\n",
       "1   2017-01-01 01:00:00\n",
       "Name: AA_ept, dtype: datetime64[ns]"
      ]
     },
     "execution_count": 5,
     "metadata": {},
     "output_type": "execute_result"
    }
   ],
   "source": [
    "# Fetching the date column only\n",
    "date_col = data.ept.copy()\n",
    "date_col.name = \"AA_ept\"\n",
    "date_col.head(2)"
   ]
  },
  {
   "cell_type": "code",
   "execution_count": 6,
   "metadata": {},
   "outputs": [
    {
     "name": "stdout",
     "output_type": "stream",
     "text": [
      "Sample calendar features: \n"
     ]
    },
    {
     "data": {
      "text/html": [
       "<div>\n",
       "<style scoped>\n",
       "    .dataframe tbody tr th:only-of-type {\n",
       "        vertical-align: middle;\n",
       "    }\n",
       "\n",
       "    .dataframe tbody tr th {\n",
       "        vertical-align: top;\n",
       "    }\n",
       "\n",
       "    .dataframe thead th {\n",
       "        text-align: right;\n",
       "    }\n",
       "</style>\n",
       "<table border=\"1\" class=\"dataframe\">\n",
       "  <thead>\n",
       "    <tr style=\"text-align: right;\">\n",
       "      <th></th>\n",
       "      <th>Month</th>\n",
       "      <th>Day</th>\n",
       "      <th>Hour</th>\n",
       "      <th>Weekday</th>\n",
       "    </tr>\n",
       "  </thead>\n",
       "  <tbody>\n",
       "    <tr>\n",
       "      <th>0</th>\n",
       "      <td>1</td>\n",
       "      <td>1</td>\n",
       "      <td>0</td>\n",
       "      <td>6</td>\n",
       "    </tr>\n",
       "    <tr>\n",
       "      <th>1</th>\n",
       "      <td>1</td>\n",
       "      <td>1</td>\n",
       "      <td>1</td>\n",
       "      <td>6</td>\n",
       "    </tr>\n",
       "  </tbody>\n",
       "</table>\n",
       "</div>"
      ],
      "text/plain": [
       "   Month  Day  Hour  Weekday\n",
       "0      1    1     0        6\n",
       "1      1    1     1        6"
      ]
     },
     "metadata": {},
     "output_type": "display_data"
    },
    {
     "name": "stdout",
     "output_type": "stream",
     "text": [
      "Available unique categories: \n"
     ]
    },
    {
     "data": {
      "text/plain": [
       "Month      12\n",
       "Day        31\n",
       "Hour       24\n",
       "Weekday     7\n",
       "dtype: int64"
      ]
     },
     "metadata": {},
     "output_type": "display_data"
    },
    {
     "name": "stdout",
     "output_type": "stream",
     "text": [
      "Total number of observations:  43824\n"
     ]
    }
   ],
   "source": [
    "# Creating the calendar features\n",
    "date = pd.DataFrame()\n",
    "date['Month'] = date_col.dt.month\n",
    "date['Day'] = date_col.dt.day\n",
    "date['Hour'] = date_col.dt.hour\n",
    "date['Weekday'] = date_col.dt.weekday\n",
    "\n",
    "print(\"Sample calendar features: \")\n",
    "display(date.head(2))\n",
    "\n",
    "print(\"Available unique categories: \")\n",
    "display(date.nunique())\n",
    "\n",
    "print(\"Total number of observations: \", len(date))"
   ]
  },
  {
   "cell_type": "code",
   "execution_count": 7,
   "metadata": {},
   "outputs": [
    {
     "data": {
      "text/plain": [
       "array([[1., 0., 0., ..., 0., 0., 1.],\n",
       "       [1., 0., 0., ..., 0., 0., 1.],\n",
       "       [1., 0., 0., ..., 0., 0., 1.],\n",
       "       ...,\n",
       "       [0., 0., 0., ..., 1., 0., 0.],\n",
       "       [0., 0., 0., ..., 1., 0., 0.],\n",
       "       [0., 0., 0., ..., 1., 0., 0.]])"
      ]
     },
     "metadata": {},
     "output_type": "display_data"
    }
   ],
   "source": [
    "# One-hot encoding the categorical calendar features\n",
    "date_enc = OneHotEncoder(sparse_output=False)\n",
    "categorical_data = date_enc.fit_transform(date)\n",
    "display(categorical_data)"
   ]
  },
  {
   "cell_type": "code",
   "execution_count": 8,
   "metadata": {},
   "outputs": [
    {
     "data": {
      "text/plain": [
       "[12, 31, 24, 7]"
      ]
     },
     "execution_count": 8,
     "metadata": {},
     "output_type": "execute_result"
    }
   ],
   "source": [
    "category_count = [len(x_len) for x_len in date_enc.categories_]\n",
    "category_count"
   ]
  },
  {
   "cell_type": "markdown",
   "metadata": {},
   "source": [
    "#### PROCESSING CONTINUOUS FEATURES FOR ALL AVAILABLE ZONES"
   ]
  },
  {
   "cell_type": "markdown",
   "metadata": {},
   "source": [
    "PROCESSING LOAD DATA"
   ]
  },
  {
   "cell_type": "code",
   "execution_count": 9,
   "metadata": {},
   "outputs": [
    {
     "data": {
      "text/html": [
       "<div>\n",
       "<style scoped>\n",
       "    .dataframe tbody tr th:only-of-type {\n",
       "        vertical-align: middle;\n",
       "    }\n",
       "\n",
       "    .dataframe tbody tr th {\n",
       "        vertical-align: top;\n",
       "    }\n",
       "\n",
       "    .dataframe thead th {\n",
       "        text-align: right;\n",
       "    }\n",
       "</style>\n",
       "<table border=\"1\" class=\"dataframe\">\n",
       "  <thead>\n",
       "    <tr style=\"text-align: right;\">\n",
       "      <th></th>\n",
       "      <th>L5_A_LOAD</th>\n",
       "    </tr>\n",
       "  </thead>\n",
       "  <tbody>\n",
       "    <tr>\n",
       "      <th>43822</th>\n",
       "      <td>13122.0</td>\n",
       "    </tr>\n",
       "    <tr>\n",
       "      <th>43823</th>\n",
       "      <td>12042.0</td>\n",
       "    </tr>\n",
       "  </tbody>\n",
       "</table>\n",
       "</div>"
      ],
      "text/plain": [
       "       L5_A_LOAD\n",
       "43822    13122.0\n",
       "43823    12042.0"
      ]
     },
     "metadata": {},
     "output_type": "display_data"
    }
   ],
   "source": [
    "# Fetching and concatenating the data\n",
    "load_ds = pd.concat([pd.read_csv(os.path.join(path, dataset, fileName),\n",
    "                                 usecols= [\"kw\"]) for fileName in fileList], axis= 1)\n",
    "load_ds.columns = [i.removesuffix('.csv') for i in fileList]\n",
    "load_ds = load_ds.add_suffix(\"_A_LOAD\")\n",
    "display(load_ds.tail(2))"
   ]
  },
  {
   "cell_type": "code",
   "execution_count": 10,
   "metadata": {},
   "outputs": [
    {
     "data": {
      "text/html": [
       "<div>\n",
       "<style scoped>\n",
       "    .dataframe tbody tr th:only-of-type {\n",
       "        vertical-align: middle;\n",
       "    }\n",
       "\n",
       "    .dataframe tbody tr th {\n",
       "        vertical-align: top;\n",
       "    }\n",
       "\n",
       "    .dataframe thead th {\n",
       "        text-align: right;\n",
       "    }\n",
       "</style>\n",
       "<table border=\"1\" class=\"dataframe\">\n",
       "  <thead>\n",
       "    <tr style=\"text-align: right;\">\n",
       "      <th></th>\n",
       "      <th>L5_A_LOAD_LAG1</th>\n",
       "    </tr>\n",
       "  </thead>\n",
       "  <tbody>\n",
       "    <tr>\n",
       "      <th>43822</th>\n",
       "      <td>16902.0</td>\n",
       "    </tr>\n",
       "    <tr>\n",
       "      <th>43823</th>\n",
       "      <td>15336.0</td>\n",
       "    </tr>\n",
       "  </tbody>\n",
       "</table>\n",
       "</div>"
      ],
      "text/plain": [
       "       L5_A_LOAD_LAG1\n",
       "43822         16902.0\n",
       "43823         15336.0"
      ]
     },
     "metadata": {},
     "output_type": "display_data"
    }
   ],
   "source": [
    "lag_24_ahead = True\n",
    "\n",
    "# Creating 1-day lag loads\n",
    "if lag_24_ahead:\n",
    "    lag_val = 1\n",
    "else:\n",
    "    lag_val = 2\n",
    "\n",
    "load_lag_1 = load_ds.shift(24*lag_val).add_suffix(\"_LAG1\")\n",
    "display(load_lag_1.tail(2))"
   ]
  },
  {
   "cell_type": "code",
   "execution_count": 11,
   "metadata": {},
   "outputs": [
    {
     "data": {
      "text/html": [
       "<div>\n",
       "<style scoped>\n",
       "    .dataframe tbody tr th:only-of-type {\n",
       "        vertical-align: middle;\n",
       "    }\n",
       "\n",
       "    .dataframe tbody tr th {\n",
       "        vertical-align: top;\n",
       "    }\n",
       "\n",
       "    .dataframe thead th {\n",
       "        text-align: right;\n",
       "    }\n",
       "</style>\n",
       "<table border=\"1\" class=\"dataframe\">\n",
       "  <thead>\n",
       "    <tr style=\"text-align: right;\">\n",
       "      <th></th>\n",
       "      <th>L5_A_LOAD_LAG7</th>\n",
       "    </tr>\n",
       "  </thead>\n",
       "  <tbody>\n",
       "    <tr>\n",
       "      <th>43822</th>\n",
       "      <td>14742.0</td>\n",
       "    </tr>\n",
       "    <tr>\n",
       "      <th>43823</th>\n",
       "      <td>14202.0</td>\n",
       "    </tr>\n",
       "  </tbody>\n",
       "</table>\n",
       "</div>"
      ],
      "text/plain": [
       "       L5_A_LOAD_LAG7\n",
       "43822         14742.0\n",
       "43823         14202.0"
      ]
     },
     "metadata": {},
     "output_type": "display_data"
    }
   ],
   "source": [
    "# Creating 7-day lag loads\n",
    "load_lag_7 = load_ds.shift(24*7).add_suffix(\"_LAG7\")\n",
    "display(load_lag_7.tail(2))"
   ]
  },
  {
   "cell_type": "code",
   "execution_count": 12,
   "metadata": {},
   "outputs": [
    {
     "name": "stdout",
     "output_type": "stream",
     "text": [
      "Drop data before:  168\n"
     ]
    }
   ],
   "source": [
    "# Drop index for equalizing data\n",
    "drop_idx = load_lag_7.dropna(axis=0).index[0]\n",
    "print(\"Drop data before: \", drop_idx)"
   ]
  },
  {
   "cell_type": "markdown",
   "metadata": {},
   "source": [
    "ADDING LAST LOAD VALUE FROM PREVIOUS DAY AS FEATURE"
   ]
  },
  {
   "cell_type": "code",
   "execution_count": 13,
   "metadata": {},
   "outputs": [
    {
     "data": {
      "text/html": [
       "<div>\n",
       "<style scoped>\n",
       "    .dataframe tbody tr th:only-of-type {\n",
       "        vertical-align: middle;\n",
       "    }\n",
       "\n",
       "    .dataframe tbody tr th {\n",
       "        vertical-align: top;\n",
       "    }\n",
       "\n",
       "    .dataframe thead th {\n",
       "        text-align: right;\n",
       "    }\n",
       "</style>\n",
       "<table border=\"1\" class=\"dataframe\">\n",
       "  <thead>\n",
       "    <tr style=\"text-align: right;\">\n",
       "      <th></th>\n",
       "      <th>L5_LAST_ELEM</th>\n",
       "    </tr>\n",
       "  </thead>\n",
       "  <tbody>\n",
       "    <tr>\n",
       "      <th>0</th>\n",
       "      <td>NaN</td>\n",
       "    </tr>\n",
       "    <tr>\n",
       "      <th>1</th>\n",
       "      <td>NaN</td>\n",
       "    </tr>\n",
       "    <tr>\n",
       "      <th>2</th>\n",
       "      <td>NaN</td>\n",
       "    </tr>\n",
       "    <tr>\n",
       "      <th>3</th>\n",
       "      <td>NaN</td>\n",
       "    </tr>\n",
       "    <tr>\n",
       "      <th>4</th>\n",
       "      <td>NaN</td>\n",
       "    </tr>\n",
       "    <tr>\n",
       "      <th>...</th>\n",
       "      <td>...</td>\n",
       "    </tr>\n",
       "    <tr>\n",
       "      <th>43819</th>\n",
       "      <td>15336.0</td>\n",
       "    </tr>\n",
       "    <tr>\n",
       "      <th>43820</th>\n",
       "      <td>15336.0</td>\n",
       "    </tr>\n",
       "    <tr>\n",
       "      <th>43821</th>\n",
       "      <td>15336.0</td>\n",
       "    </tr>\n",
       "    <tr>\n",
       "      <th>43822</th>\n",
       "      <td>15336.0</td>\n",
       "    </tr>\n",
       "    <tr>\n",
       "      <th>43823</th>\n",
       "      <td>15336.0</td>\n",
       "    </tr>\n",
       "  </tbody>\n",
       "</table>\n",
       "<p>43824 rows × 1 columns</p>\n",
       "</div>"
      ],
      "text/plain": [
       "       L5_LAST_ELEM\n",
       "0               NaN\n",
       "1               NaN\n",
       "2               NaN\n",
       "3               NaN\n",
       "4               NaN\n",
       "...             ...\n",
       "43819       15336.0\n",
       "43820       15336.0\n",
       "43821       15336.0\n",
       "43822       15336.0\n",
       "43823       15336.0\n",
       "\n",
       "[43824 rows x 1 columns]"
      ]
     },
     "execution_count": 13,
     "metadata": {},
     "output_type": "execute_result"
    }
   ],
   "source": [
    "n = 24\n",
    "last_elem = pd.DataFrame(np.column_stack([np.concatenate([np.repeat(load_ds[col].values[n-1::n], n), \n",
    "                                                          np.repeat(np.NaN, len(load_ds)%n)]) for col in load_ds.columns]))\n",
    "last_elem.columns = [i.removesuffix('.csv') for i in fileList]\n",
    "last_elem = last_elem.add_suffix(\"_LAST_ELEM\")\n",
    "last_elem = last_elem.shift(24)\n",
    "last_elem"
   ]
  },
  {
   "cell_type": "markdown",
   "metadata": {},
   "source": [
    "FINDING MIN AND MAX VALUES OF LOAD ON PREVIOUS DAY"
   ]
  },
  {
   "cell_type": "code",
   "execution_count": 14,
   "metadata": {},
   "outputs": [
    {
     "name": "stdout",
     "output_type": "stream",
     "text": [
      "Columns with max load from previous day: \n"
     ]
    },
    {
     "data": {
      "text/html": [
       "<div>\n",
       "<style scoped>\n",
       "    .dataframe tbody tr th:only-of-type {\n",
       "        vertical-align: middle;\n",
       "    }\n",
       "\n",
       "    .dataframe tbody tr th {\n",
       "        vertical-align: top;\n",
       "    }\n",
       "\n",
       "    .dataframe thead th {\n",
       "        text-align: right;\n",
       "    }\n",
       "</style>\n",
       "<table border=\"1\" class=\"dataframe\">\n",
       "  <thead>\n",
       "    <tr style=\"text-align: right;\">\n",
       "      <th></th>\n",
       "      <th>L5_PREV_MAX</th>\n",
       "    </tr>\n",
       "  </thead>\n",
       "  <tbody>\n",
       "    <tr>\n",
       "      <th>43822</th>\n",
       "      <td>20412.0</td>\n",
       "    </tr>\n",
       "    <tr>\n",
       "      <th>43823</th>\n",
       "      <td>20412.0</td>\n",
       "    </tr>\n",
       "  </tbody>\n",
       "</table>\n",
       "</div>"
      ],
      "text/plain": [
       "       L5_PREV_MAX\n",
       "43822      20412.0\n",
       "43823      20412.0"
      ]
     },
     "metadata": {},
     "output_type": "display_data"
    },
    {
     "name": "stdout",
     "output_type": "stream",
     "text": [
      "\n",
      "\n",
      "Columns with min load from previous day: \n"
     ]
    },
    {
     "data": {
      "text/html": [
       "<div>\n",
       "<style scoped>\n",
       "    .dataframe tbody tr th:only-of-type {\n",
       "        vertical-align: middle;\n",
       "    }\n",
       "\n",
       "    .dataframe tbody tr th {\n",
       "        vertical-align: top;\n",
       "    }\n",
       "\n",
       "    .dataframe thead th {\n",
       "        text-align: right;\n",
       "    }\n",
       "</style>\n",
       "<table border=\"1\" class=\"dataframe\">\n",
       "  <thead>\n",
       "    <tr style=\"text-align: right;\">\n",
       "      <th></th>\n",
       "      <th>L5_PREV_MIN</th>\n",
       "    </tr>\n",
       "  </thead>\n",
       "  <tbody>\n",
       "    <tr>\n",
       "      <th>43822</th>\n",
       "      <td>15336.0</td>\n",
       "    </tr>\n",
       "    <tr>\n",
       "      <th>43823</th>\n",
       "      <td>15336.0</td>\n",
       "    </tr>\n",
       "  </tbody>\n",
       "</table>\n",
       "</div>"
      ],
      "text/plain": [
       "       L5_PREV_MIN\n",
       "43822      15336.0\n",
       "43823      15336.0"
      ]
     },
     "metadata": {},
     "output_type": "display_data"
    },
    {
     "name": "stdout",
     "output_type": "stream",
     "text": [
      "\n",
      "\n"
     ]
    }
   ],
   "source": [
    "# Creating block of indices repeating after every 24 rows\n",
    "blocks = [load_lag_1[i:i+24] for i in range(0, len(load_lag_1), 24)]\n",
    "\n",
    "# Finding max and min values on the previous day (T-1)\n",
    "max_values_df = pd.DataFrame([block.max() for block in blocks])\n",
    "max_values_df = max_values_df.iloc[np.repeat(np.arange(len(max_values_df)), 24)]\n",
    "max_values_df = max_values_df.reset_index(drop=True)\n",
    "\n",
    "max_values_df.columns = [i.removesuffix('_A_LOAD_LAG1') for i in max_values_df.columns]\n",
    "max_values_df = max_values_df.add_suffix(\"_PREV_MAX\")\n",
    "print(\"Columns with max load from previous day: \")\n",
    "display(max_values_df.tail(2))\n",
    "print(\"\\n\")\n",
    "\n",
    "min_values_df = pd.DataFrame([block.min() for block in blocks])\n",
    "min_values_df = min_values_df.iloc[np.repeat(np.arange(len(min_values_df)), 24)]\n",
    "min_values_df = min_values_df.reset_index(drop=True)\n",
    "\n",
    "min_values_df.columns = [i.removesuffix('_A_LOAD_LAG1') for i in min_values_df.columns]\n",
    "min_values_df = min_values_df.add_suffix(\"_PREV_MIN\")\n",
    "print(\"Columns with min load from previous day: \")\n",
    "display(min_values_df.tail(2))\n",
    "print(\"\\n\")"
   ]
  },
  {
   "cell_type": "code",
   "execution_count": 15,
   "metadata": {},
   "outputs": [
    {
     "data": {
      "text/html": [
       "<div>\n",
       "<style scoped>\n",
       "    .dataframe tbody tr th:only-of-type {\n",
       "        vertical-align: middle;\n",
       "    }\n",
       "\n",
       "    .dataframe tbody tr th {\n",
       "        vertical-align: top;\n",
       "    }\n",
       "\n",
       "    .dataframe thead th {\n",
       "        text-align: right;\n",
       "    }\n",
       "</style>\n",
       "<table border=\"1\" class=\"dataframe\">\n",
       "  <thead>\n",
       "    <tr style=\"text-align: right;\">\n",
       "      <th></th>\n",
       "      <th>L5_A_LOAD_LAG1</th>\n",
       "    </tr>\n",
       "  </thead>\n",
       "  <tbody>\n",
       "    <tr>\n",
       "      <th>0</th>\n",
       "      <td>20412.0</td>\n",
       "    </tr>\n",
       "  </tbody>\n",
       "</table>\n",
       "</div>"
      ],
      "text/plain": [
       "   L5_A_LOAD_LAG1\n",
       "0         20412.0"
      ]
     },
     "execution_count": 15,
     "metadata": {},
     "output_type": "execute_result"
    }
   ],
   "source": [
    "pd.DataFrame(load_lag_1.iloc[-24:].max()).T"
   ]
  },
  {
   "cell_type": "markdown",
   "metadata": {},
   "source": [
    "PROCESSING TEMPERATURE DATA"
   ]
  },
  {
   "cell_type": "code",
   "execution_count": 16,
   "metadata": {},
   "outputs": [
    {
     "data": {
      "text/html": [
       "<div>\n",
       "<style scoped>\n",
       "    .dataframe tbody tr th:only-of-type {\n",
       "        vertical-align: middle;\n",
       "    }\n",
       "\n",
       "    .dataframe tbody tr th {\n",
       "        vertical-align: top;\n",
       "    }\n",
       "\n",
       "    .dataframe thead th {\n",
       "        text-align: right;\n",
       "    }\n",
       "</style>\n",
       "<table border=\"1\" class=\"dataframe\">\n",
       "  <thead>\n",
       "    <tr style=\"text-align: right;\">\n",
       "      <th></th>\n",
       "      <th>L5_A_TEMP</th>\n",
       "    </tr>\n",
       "  </thead>\n",
       "  <tbody>\n",
       "    <tr>\n",
       "      <th>43822</th>\n",
       "      <td>63.5</td>\n",
       "    </tr>\n",
       "    <tr>\n",
       "      <th>43823</th>\n",
       "      <td>63.0</td>\n",
       "    </tr>\n",
       "  </tbody>\n",
       "</table>\n",
       "</div>"
      ],
      "text/plain": [
       "       L5_A_TEMP\n",
       "43822       63.5\n",
       "43823       63.0"
      ]
     },
     "metadata": {},
     "output_type": "display_data"
    }
   ],
   "source": [
    "# Fetching and concatenating the data\n",
    "temp_ds = pd.concat([pd.read_csv(os.path.join(path, dataset, fileName),\n",
    "                                 usecols= [\"tmp\"]) for fileName in fileList], axis= 1)\n",
    "temp_ds.columns = [i.removesuffix('.csv') for i in fileList]\n",
    "temp_ds = temp_ds.add_suffix(\"_A_TEMP\")\n",
    "display(temp_ds.tail(2))"
   ]
  },
  {
   "cell_type": "markdown",
   "metadata": {},
   "source": [
    "### PREPARING X AND Y PART"
   ]
  },
  {
   "cell_type": "code",
   "execution_count": 17,
   "metadata": {},
   "outputs": [
    {
     "name": "stdout",
     "output_type": "stream",
     "text": [
      "NUMBER OF COLUMNS:  7 \n",
      "\n",
      "The train-test split index is:  17351\n",
      "The last date of train dataset: \n"
     ]
    },
    {
     "data": {
      "text/html": [
       "<div>\n",
       "<style scoped>\n",
       "    .dataframe tbody tr th:only-of-type {\n",
       "        vertical-align: middle;\n",
       "    }\n",
       "\n",
       "    .dataframe tbody tr th {\n",
       "        vertical-align: top;\n",
       "    }\n",
       "\n",
       "    .dataframe thead th {\n",
       "        text-align: right;\n",
       "    }\n",
       "</style>\n",
       "<table border=\"1\" class=\"dataframe\">\n",
       "  <thead>\n",
       "    <tr style=\"text-align: right;\">\n",
       "      <th></th>\n",
       "      <th>AA_ept</th>\n",
       "      <th>L5_A_LOAD_LAG1</th>\n",
       "      <th>L5_A_LOAD_LAG7</th>\n",
       "      <th>L5_A_TEMP</th>\n",
       "      <th>L5_LAST_ELEM</th>\n",
       "      <th>L5_PREV_MAX</th>\n",
       "      <th>L5_PREV_MIN</th>\n",
       "    </tr>\n",
       "  </thead>\n",
       "  <tbody>\n",
       "    <tr>\n",
       "      <th>17350</th>\n",
       "      <td>2018-12-31 22:00:00</td>\n",
       "      <td>15822.0</td>\n",
       "      <td>18738.0</td>\n",
       "      <td>66.6</td>\n",
       "      <td>15336.0</td>\n",
       "      <td>17280.0</td>\n",
       "      <td>14904.0</td>\n",
       "    </tr>\n",
       "    <tr>\n",
       "      <th>17351</th>\n",
       "      <td>2018-12-31 23:00:00</td>\n",
       "      <td>15336.0</td>\n",
       "      <td>18846.0</td>\n",
       "      <td>66.7</td>\n",
       "      <td>15336.0</td>\n",
       "      <td>17280.0</td>\n",
       "      <td>14904.0</td>\n",
       "    </tr>\n",
       "  </tbody>\n",
       "</table>\n",
       "</div>"
      ],
      "text/plain": [
       "                   AA_ept  L5_A_LOAD_LAG1  L5_A_LOAD_LAG7  L5_A_TEMP   \n",
       "17350 2018-12-31 22:00:00         15822.0         18738.0       66.6  \\\n",
       "17351 2018-12-31 23:00:00         15336.0         18846.0       66.7   \n",
       "\n",
       "       L5_LAST_ELEM  L5_PREV_MAX  L5_PREV_MIN  \n",
       "17350       15336.0      17280.0      14904.0  \n",
       "17351       15336.0      17280.0      14904.0  "
      ]
     },
     "metadata": {},
     "output_type": "display_data"
    },
    {
     "name": "stdout",
     "output_type": "stream",
     "text": [
      "The first date of test dataset: \n"
     ]
    },
    {
     "data": {
      "text/html": [
       "<div>\n",
       "<style scoped>\n",
       "    .dataframe tbody tr th:only-of-type {\n",
       "        vertical-align: middle;\n",
       "    }\n",
       "\n",
       "    .dataframe tbody tr th {\n",
       "        vertical-align: top;\n",
       "    }\n",
       "\n",
       "    .dataframe thead th {\n",
       "        text-align: right;\n",
       "    }\n",
       "</style>\n",
       "<table border=\"1\" class=\"dataframe\">\n",
       "  <thead>\n",
       "    <tr style=\"text-align: right;\">\n",
       "      <th></th>\n",
       "      <th>AA_ept</th>\n",
       "      <th>L5_A_LOAD_LAG1</th>\n",
       "      <th>L5_A_LOAD_LAG7</th>\n",
       "      <th>L5_A_TEMP</th>\n",
       "      <th>L5_LAST_ELEM</th>\n",
       "      <th>L5_PREV_MAX</th>\n",
       "      <th>L5_PREV_MIN</th>\n",
       "    </tr>\n",
       "  </thead>\n",
       "  <tbody>\n",
       "    <tr>\n",
       "      <th>17352</th>\n",
       "      <td>2019-01-01 00:00:00</td>\n",
       "      <td>15714.0</td>\n",
       "      <td>19116.0</td>\n",
       "      <td>67.1</td>\n",
       "      <td>14526.0</td>\n",
       "      <td>20088.0</td>\n",
       "      <td>14526.0</td>\n",
       "    </tr>\n",
       "    <tr>\n",
       "      <th>17353</th>\n",
       "      <td>2019-01-01 01:00:00</td>\n",
       "      <td>16308.0</td>\n",
       "      <td>19224.0</td>\n",
       "      <td>66.9</td>\n",
       "      <td>14526.0</td>\n",
       "      <td>20088.0</td>\n",
       "      <td>14526.0</td>\n",
       "    </tr>\n",
       "  </tbody>\n",
       "</table>\n",
       "</div>"
      ],
      "text/plain": [
       "                   AA_ept  L5_A_LOAD_LAG1  L5_A_LOAD_LAG7  L5_A_TEMP   \n",
       "17352 2019-01-01 00:00:00         15714.0         19116.0       67.1  \\\n",
       "17353 2019-01-01 01:00:00         16308.0         19224.0       66.9   \n",
       "\n",
       "       L5_LAST_ELEM  L5_PREV_MAX  L5_PREV_MIN  \n",
       "17352       14526.0      20088.0      14526.0  \n",
       "17353       14526.0      20088.0      14526.0  "
      ]
     },
     "metadata": {},
     "output_type": "display_data"
    },
    {
     "name": "stdout",
     "output_type": "stream",
     "text": [
      "\n",
      "\n",
      "LENGTH OF DATASET:  43656\n"
     ]
    },
    {
     "data": {
      "text/html": [
       "<div>\n",
       "<style scoped>\n",
       "    .dataframe tbody tr th:only-of-type {\n",
       "        vertical-align: middle;\n",
       "    }\n",
       "\n",
       "    .dataframe tbody tr th {\n",
       "        vertical-align: top;\n",
       "    }\n",
       "\n",
       "    .dataframe thead th {\n",
       "        text-align: right;\n",
       "    }\n",
       "</style>\n",
       "<table border=\"1\" class=\"dataframe\">\n",
       "  <thead>\n",
       "    <tr style=\"text-align: right;\">\n",
       "      <th></th>\n",
       "      <th>L5_A_LOAD_LAG1</th>\n",
       "      <th>L5_A_LOAD_LAG7</th>\n",
       "      <th>L5_A_TEMP</th>\n",
       "      <th>L5_LAST_ELEM</th>\n",
       "      <th>L5_PREV_MAX</th>\n",
       "      <th>L5_PREV_MIN</th>\n",
       "    </tr>\n",
       "  </thead>\n",
       "  <tbody>\n",
       "    <tr>\n",
       "      <th>43654</th>\n",
       "      <td>16902.0</td>\n",
       "      <td>14742.0</td>\n",
       "      <td>63.5</td>\n",
       "      <td>15336.0</td>\n",
       "      <td>20412.0</td>\n",
       "      <td>15336.0</td>\n",
       "    </tr>\n",
       "    <tr>\n",
       "      <th>43655</th>\n",
       "      <td>15336.0</td>\n",
       "      <td>14202.0</td>\n",
       "      <td>63.0</td>\n",
       "      <td>15336.0</td>\n",
       "      <td>20412.0</td>\n",
       "      <td>15336.0</td>\n",
       "    </tr>\n",
       "  </tbody>\n",
       "</table>\n",
       "</div>"
      ],
      "text/plain": [
       "       L5_A_LOAD_LAG1  L5_A_LOAD_LAG7  L5_A_TEMP  L5_LAST_ELEM  L5_PREV_MAX   \n",
       "43654         16902.0         14742.0       63.5       15336.0      20412.0  \\\n",
       "43655         15336.0         14202.0       63.0       15336.0      20412.0   \n",
       "\n",
       "       L5_PREV_MIN  \n",
       "43654      15336.0  \n",
       "43655      15336.0  "
      ]
     },
     "metadata": {},
     "output_type": "display_data"
    },
    {
     "name": "stdout",
     "output_type": "stream",
     "text": [
      "\n",
      "\n",
      "First few values of continuous values dataframe: \n"
     ]
    },
    {
     "data": {
      "text/html": [
       "<div>\n",
       "<style scoped>\n",
       "    .dataframe tbody tr th:only-of-type {\n",
       "        vertical-align: middle;\n",
       "    }\n",
       "\n",
       "    .dataframe tbody tr th {\n",
       "        vertical-align: top;\n",
       "    }\n",
       "\n",
       "    .dataframe thead th {\n",
       "        text-align: right;\n",
       "    }\n",
       "</style>\n",
       "<table border=\"1\" class=\"dataframe\">\n",
       "  <thead>\n",
       "    <tr style=\"text-align: right;\">\n",
       "      <th></th>\n",
       "      <th>L5_A_LOAD_LAG1</th>\n",
       "      <th>L5_A_LOAD_LAG7</th>\n",
       "      <th>L5_A_TEMP</th>\n",
       "      <th>L5_LAST_ELEM</th>\n",
       "      <th>L5_PREV_MAX</th>\n",
       "      <th>L5_PREV_MIN</th>\n",
       "    </tr>\n",
       "  </thead>\n",
       "  <tbody>\n",
       "    <tr>\n",
       "      <th>0</th>\n",
       "      <td>22356.0</td>\n",
       "      <td>15984.0</td>\n",
       "      <td>19.2</td>\n",
       "      <td>26784.0</td>\n",
       "      <td>29430.0</td>\n",
       "      <td>22356.0</td>\n",
       "    </tr>\n",
       "    <tr>\n",
       "      <th>1</th>\n",
       "      <td>22950.0</td>\n",
       "      <td>15984.0</td>\n",
       "      <td>18.1</td>\n",
       "      <td>26784.0</td>\n",
       "      <td>29430.0</td>\n",
       "      <td>22356.0</td>\n",
       "    </tr>\n",
       "  </tbody>\n",
       "</table>\n",
       "</div>"
      ],
      "text/plain": [
       "   L5_A_LOAD_LAG1  L5_A_LOAD_LAG7  L5_A_TEMP  L5_LAST_ELEM  L5_PREV_MAX   \n",
       "0         22356.0         15984.0       19.2       26784.0      29430.0  \\\n",
       "1         22950.0         15984.0       18.1       26784.0      29430.0   \n",
       "\n",
       "   L5_PREV_MIN  \n",
       "0      22356.0  \n",
       "1      22356.0  "
      ]
     },
     "metadata": {},
     "output_type": "display_data"
    }
   ],
   "source": [
    "# Concatenating the engineered features\n",
    "X_continuous = pd.concat([date_col, load_lag_1, load_lag_7, temp_ds, last_elem, max_values_df, min_values_df], axis=1)\n",
    "X_continuous = X_continuous.sort_index(axis=1)\n",
    "X_continuous = X_continuous.iloc[drop_idx:].reset_index(drop=True)\n",
    "\n",
    "# Fetching the train index from the processed dataframe\n",
    "train_end_idx = X_continuous[X_continuous.AA_ept.dt.year.between(2015, 2018)].index[-1]\n",
    "print(\"NUMBER OF COLUMNS: \", len(X_continuous.columns), \"\\n\")\n",
    "print(\"The train-test split index is: \", train_end_idx)\n",
    "print(\"The last date of train dataset: \")\n",
    "display(X_continuous.loc[:train_end_idx].tail(2))\n",
    "\n",
    "print(\"The first date of test dataset: \")\n",
    "display(X_continuous.loc[train_end_idx + 1:].head(2))\n",
    "print('\\n')\n",
    "\n",
    "# Dropping the datetime column after fetching the train-test split index\n",
    "X_continuous = X_continuous.drop(columns=['AA_ept'])\n",
    "print(\"LENGTH OF DATASET: \", len(X_continuous))\n",
    "display(X_continuous.tail(2))\n",
    "print(\"\\n\")\n",
    "\n",
    "# First few values of the continuous values dataframe\n",
    "print(\"First few values of continuous values dataframe: \")\n",
    "display(X_continuous.head(2))"
   ]
  },
  {
   "cell_type": "code",
   "execution_count": 18,
   "metadata": {},
   "outputs": [
    {
     "data": {
      "text/plain": [
       "L5_A_LOAD_LAG1    False\n",
       "L5_A_LOAD_LAG7    False\n",
       "L5_A_TEMP         False\n",
       "L5_LAST_ELEM      False\n",
       "L5_PREV_MAX       False\n",
       "L5_PREV_MIN       False\n",
       "dtype: bool"
      ]
     },
     "execution_count": 18,
     "metadata": {},
     "output_type": "execute_result"
    }
   ],
   "source": [
    "X_continuous.isna().any()"
   ]
  },
  {
   "cell_type": "code",
   "execution_count": 19,
   "metadata": {},
   "outputs": [
    {
     "name": "stdout",
     "output_type": "stream",
     "text": [
      "LENGTH OF DATASET:  43656\n",
      "NUMBER OF COLUMNS:  74\n"
     ]
    },
    {
     "data": {
      "text/html": [
       "<div>\n",
       "<style scoped>\n",
       "    .dataframe tbody tr th:only-of-type {\n",
       "        vertical-align: middle;\n",
       "    }\n",
       "\n",
       "    .dataframe tbody tr th {\n",
       "        vertical-align: top;\n",
       "    }\n",
       "\n",
       "    .dataframe thead th {\n",
       "        text-align: right;\n",
       "    }\n",
       "</style>\n",
       "<table border=\"1\" class=\"dataframe\">\n",
       "  <thead>\n",
       "    <tr style=\"text-align: right;\">\n",
       "      <th></th>\n",
       "      <th>0</th>\n",
       "      <th>1</th>\n",
       "      <th>2</th>\n",
       "      <th>3</th>\n",
       "      <th>4</th>\n",
       "      <th>5</th>\n",
       "      <th>6</th>\n",
       "      <th>7</th>\n",
       "      <th>8</th>\n",
       "      <th>9</th>\n",
       "      <th>...</th>\n",
       "      <th>64</th>\n",
       "      <th>65</th>\n",
       "      <th>66</th>\n",
       "      <th>67</th>\n",
       "      <th>68</th>\n",
       "      <th>69</th>\n",
       "      <th>70</th>\n",
       "      <th>71</th>\n",
       "      <th>72</th>\n",
       "      <th>73</th>\n",
       "    </tr>\n",
       "  </thead>\n",
       "  <tbody>\n",
       "    <tr>\n",
       "      <th>43654</th>\n",
       "      <td>0.0</td>\n",
       "      <td>0.0</td>\n",
       "      <td>0.0</td>\n",
       "      <td>0.0</td>\n",
       "      <td>0.0</td>\n",
       "      <td>0.0</td>\n",
       "      <td>0.0</td>\n",
       "      <td>0.0</td>\n",
       "      <td>0.0</td>\n",
       "      <td>0.0</td>\n",
       "      <td>...</td>\n",
       "      <td>0.0</td>\n",
       "      <td>1.0</td>\n",
       "      <td>0.0</td>\n",
       "      <td>0.0</td>\n",
       "      <td>0.0</td>\n",
       "      <td>0.0</td>\n",
       "      <td>0.0</td>\n",
       "      <td>1.0</td>\n",
       "      <td>0.0</td>\n",
       "      <td>0.0</td>\n",
       "    </tr>\n",
       "    <tr>\n",
       "      <th>43655</th>\n",
       "      <td>0.0</td>\n",
       "      <td>0.0</td>\n",
       "      <td>0.0</td>\n",
       "      <td>0.0</td>\n",
       "      <td>0.0</td>\n",
       "      <td>0.0</td>\n",
       "      <td>0.0</td>\n",
       "      <td>0.0</td>\n",
       "      <td>0.0</td>\n",
       "      <td>0.0</td>\n",
       "      <td>...</td>\n",
       "      <td>0.0</td>\n",
       "      <td>0.0</td>\n",
       "      <td>1.0</td>\n",
       "      <td>0.0</td>\n",
       "      <td>0.0</td>\n",
       "      <td>0.0</td>\n",
       "      <td>0.0</td>\n",
       "      <td>1.0</td>\n",
       "      <td>0.0</td>\n",
       "      <td>0.0</td>\n",
       "    </tr>\n",
       "  </tbody>\n",
       "</table>\n",
       "<p>2 rows × 74 columns</p>\n",
       "</div>"
      ],
      "text/plain": [
       "        0    1    2    3    4    5    6    7    8    9   ...   64   65   66   \n",
       "43654  0.0  0.0  0.0  0.0  0.0  0.0  0.0  0.0  0.0  0.0  ...  0.0  1.0  0.0  \\\n",
       "43655  0.0  0.0  0.0  0.0  0.0  0.0  0.0  0.0  0.0  0.0  ...  0.0  0.0  1.0   \n",
       "\n",
       "        67   68   69   70   71   72   73  \n",
       "43654  0.0  0.0  0.0  0.0  1.0  0.0  0.0  \n",
       "43655  0.0  0.0  0.0  0.0  1.0  0.0  0.0  \n",
       "\n",
       "[2 rows x 74 columns]"
      ]
     },
     "metadata": {},
     "output_type": "display_data"
    }
   ],
   "source": [
    "X_categorical = pd.DataFrame(categorical_data)\n",
    "X_categorical = X_categorical.iloc[drop_idx:].reset_index(drop=True)\n",
    "print(\"LENGTH OF DATASET: \", len(X_categorical))\n",
    "print(\"NUMBER OF COLUMNS: \", len(X_categorical.columns))\n",
    "display(X_categorical.tail(2))"
   ]
  },
  {
   "cell_type": "code",
   "execution_count": 20,
   "metadata": {},
   "outputs": [
    {
     "name": "stdout",
     "output_type": "stream",
     "text": [
      "LENGTH OF DATASET:  43656\n"
     ]
    },
    {
     "data": {
      "text/html": [
       "<div>\n",
       "<style scoped>\n",
       "    .dataframe tbody tr th:only-of-type {\n",
       "        vertical-align: middle;\n",
       "    }\n",
       "\n",
       "    .dataframe tbody tr th {\n",
       "        vertical-align: top;\n",
       "    }\n",
       "\n",
       "    .dataframe thead th {\n",
       "        text-align: right;\n",
       "    }\n",
       "</style>\n",
       "<table border=\"1\" class=\"dataframe\">\n",
       "  <thead>\n",
       "    <tr style=\"text-align: right;\">\n",
       "      <th></th>\n",
       "      <th>L5_A_LOAD</th>\n",
       "    </tr>\n",
       "  </thead>\n",
       "  <tbody>\n",
       "    <tr>\n",
       "      <th>43654</th>\n",
       "      <td>13122.0</td>\n",
       "    </tr>\n",
       "    <tr>\n",
       "      <th>43655</th>\n",
       "      <td>12042.0</td>\n",
       "    </tr>\n",
       "  </tbody>\n",
       "</table>\n",
       "</div>"
      ],
      "text/plain": [
       "       L5_A_LOAD\n",
       "43654    13122.0\n",
       "43655    12042.0"
      ]
     },
     "metadata": {},
     "output_type": "display_data"
    }
   ],
   "source": [
    "Y = load_ds.copy()\n",
    "Y = Y.sort_index(axis=1)\n",
    "Y = Y.iloc[drop_idx:].reset_index(drop=True)\n",
    "print(\"LENGTH OF DATASET: \", len(Y))\n",
    "display(Y.tail(2))"
   ]
  },
  {
   "cell_type": "code",
   "execution_count": 21,
   "metadata": {},
   "outputs": [
    {
     "name": "stdout",
     "output_type": "stream",
     "text": [
      "Train samples:  17352\n",
      "Test samples:  26304\n"
     ]
    }
   ],
   "source": [
    "### SPLITTING THE DATA INTO TRAINING AND TESTING\n",
    "print(\"Train samples: \", len(X_continuous.loc[:train_end_idx]))\n",
    "print(\"Test samples: \", len(X_continuous.loc[train_end_idx + 1:]))"
   ]
  },
  {
   "cell_type": "code",
   "execution_count": 22,
   "metadata": {},
   "outputs": [
    {
     "name": "stdout",
     "output_type": "stream",
     "text": [
      "Train split of continuous data: \n"
     ]
    },
    {
     "data": {
      "text/html": [
       "<div>\n",
       "<style scoped>\n",
       "    .dataframe tbody tr th:only-of-type {\n",
       "        vertical-align: middle;\n",
       "    }\n",
       "\n",
       "    .dataframe tbody tr th {\n",
       "        vertical-align: top;\n",
       "    }\n",
       "\n",
       "    .dataframe thead th {\n",
       "        text-align: right;\n",
       "    }\n",
       "</style>\n",
       "<table border=\"1\" class=\"dataframe\">\n",
       "  <thead>\n",
       "    <tr style=\"text-align: right;\">\n",
       "      <th></th>\n",
       "      <th>L5_A_LOAD_LAG1</th>\n",
       "      <th>L5_A_LOAD_LAG7</th>\n",
       "      <th>L5_A_TEMP</th>\n",
       "      <th>L5_LAST_ELEM</th>\n",
       "      <th>L5_PREV_MAX</th>\n",
       "      <th>L5_PREV_MIN</th>\n",
       "    </tr>\n",
       "  </thead>\n",
       "  <tbody>\n",
       "    <tr>\n",
       "      <th>17350</th>\n",
       "      <td>15822.0</td>\n",
       "      <td>18738.0</td>\n",
       "      <td>66.6</td>\n",
       "      <td>15336.0</td>\n",
       "      <td>17280.0</td>\n",
       "      <td>14904.0</td>\n",
       "    </tr>\n",
       "    <tr>\n",
       "      <th>17351</th>\n",
       "      <td>15336.0</td>\n",
       "      <td>18846.0</td>\n",
       "      <td>66.7</td>\n",
       "      <td>15336.0</td>\n",
       "      <td>17280.0</td>\n",
       "      <td>14904.0</td>\n",
       "    </tr>\n",
       "  </tbody>\n",
       "</table>\n",
       "</div>"
      ],
      "text/plain": [
       "       L5_A_LOAD_LAG1  L5_A_LOAD_LAG7  L5_A_TEMP  L5_LAST_ELEM  L5_PREV_MAX   \n",
       "17350         15822.0         18738.0       66.6       15336.0      17280.0  \\\n",
       "17351         15336.0         18846.0       66.7       15336.0      17280.0   \n",
       "\n",
       "       L5_PREV_MIN  \n",
       "17350      14904.0  \n",
       "17351      14904.0  "
      ]
     },
     "metadata": {},
     "output_type": "display_data"
    },
    {
     "name": "stdout",
     "output_type": "stream",
     "text": [
      "Train split of categorical data: \n"
     ]
    },
    {
     "data": {
      "text/html": [
       "<div>\n",
       "<style scoped>\n",
       "    .dataframe tbody tr th:only-of-type {\n",
       "        vertical-align: middle;\n",
       "    }\n",
       "\n",
       "    .dataframe tbody tr th {\n",
       "        vertical-align: top;\n",
       "    }\n",
       "\n",
       "    .dataframe thead th {\n",
       "        text-align: right;\n",
       "    }\n",
       "</style>\n",
       "<table border=\"1\" class=\"dataframe\">\n",
       "  <thead>\n",
       "    <tr style=\"text-align: right;\">\n",
       "      <th></th>\n",
       "      <th>0</th>\n",
       "      <th>1</th>\n",
       "      <th>2</th>\n",
       "      <th>3</th>\n",
       "      <th>4</th>\n",
       "      <th>5</th>\n",
       "      <th>6</th>\n",
       "      <th>7</th>\n",
       "      <th>8</th>\n",
       "      <th>9</th>\n",
       "      <th>...</th>\n",
       "      <th>64</th>\n",
       "      <th>65</th>\n",
       "      <th>66</th>\n",
       "      <th>67</th>\n",
       "      <th>68</th>\n",
       "      <th>69</th>\n",
       "      <th>70</th>\n",
       "      <th>71</th>\n",
       "      <th>72</th>\n",
       "      <th>73</th>\n",
       "    </tr>\n",
       "  </thead>\n",
       "  <tbody>\n",
       "    <tr>\n",
       "      <th>17350</th>\n",
       "      <td>0.0</td>\n",
       "      <td>0.0</td>\n",
       "      <td>0.0</td>\n",
       "      <td>0.0</td>\n",
       "      <td>0.0</td>\n",
       "      <td>0.0</td>\n",
       "      <td>0.0</td>\n",
       "      <td>0.0</td>\n",
       "      <td>0.0</td>\n",
       "      <td>0.0</td>\n",
       "      <td>...</td>\n",
       "      <td>0.0</td>\n",
       "      <td>1.0</td>\n",
       "      <td>0.0</td>\n",
       "      <td>1.0</td>\n",
       "      <td>0.0</td>\n",
       "      <td>0.0</td>\n",
       "      <td>0.0</td>\n",
       "      <td>0.0</td>\n",
       "      <td>0.0</td>\n",
       "      <td>0.0</td>\n",
       "    </tr>\n",
       "    <tr>\n",
       "      <th>17351</th>\n",
       "      <td>0.0</td>\n",
       "      <td>0.0</td>\n",
       "      <td>0.0</td>\n",
       "      <td>0.0</td>\n",
       "      <td>0.0</td>\n",
       "      <td>0.0</td>\n",
       "      <td>0.0</td>\n",
       "      <td>0.0</td>\n",
       "      <td>0.0</td>\n",
       "      <td>0.0</td>\n",
       "      <td>...</td>\n",
       "      <td>0.0</td>\n",
       "      <td>0.0</td>\n",
       "      <td>1.0</td>\n",
       "      <td>1.0</td>\n",
       "      <td>0.0</td>\n",
       "      <td>0.0</td>\n",
       "      <td>0.0</td>\n",
       "      <td>0.0</td>\n",
       "      <td>0.0</td>\n",
       "      <td>0.0</td>\n",
       "    </tr>\n",
       "  </tbody>\n",
       "</table>\n",
       "<p>2 rows × 74 columns</p>\n",
       "</div>"
      ],
      "text/plain": [
       "        0    1    2    3    4    5    6    7    8    9   ...   64   65   66   \n",
       "17350  0.0  0.0  0.0  0.0  0.0  0.0  0.0  0.0  0.0  0.0  ...  0.0  1.0  0.0  \\\n",
       "17351  0.0  0.0  0.0  0.0  0.0  0.0  0.0  0.0  0.0  0.0  ...  0.0  0.0  1.0   \n",
       "\n",
       "        67   68   69   70   71   72   73  \n",
       "17350  1.0  0.0  0.0  0.0  0.0  0.0  0.0  \n",
       "17351  1.0  0.0  0.0  0.0  0.0  0.0  0.0  \n",
       "\n",
       "[2 rows x 74 columns]"
      ]
     },
     "metadata": {},
     "output_type": "display_data"
    },
    {
     "name": "stdout",
     "output_type": "stream",
     "text": [
      "Train split of target data Y: \n"
     ]
    },
    {
     "data": {
      "text/html": [
       "<div>\n",
       "<style scoped>\n",
       "    .dataframe tbody tr th:only-of-type {\n",
       "        vertical-align: middle;\n",
       "    }\n",
       "\n",
       "    .dataframe tbody tr th {\n",
       "        vertical-align: top;\n",
       "    }\n",
       "\n",
       "    .dataframe thead th {\n",
       "        text-align: right;\n",
       "    }\n",
       "</style>\n",
       "<table border=\"1\" class=\"dataframe\">\n",
       "  <thead>\n",
       "    <tr style=\"text-align: right;\">\n",
       "      <th></th>\n",
       "      <th>L5_A_LOAD</th>\n",
       "    </tr>\n",
       "  </thead>\n",
       "  <tbody>\n",
       "    <tr>\n",
       "      <th>17350</th>\n",
       "      <td>15552.0</td>\n",
       "    </tr>\n",
       "    <tr>\n",
       "      <th>17351</th>\n",
       "      <td>14526.0</td>\n",
       "    </tr>\n",
       "  </tbody>\n",
       "</table>\n",
       "</div>"
      ],
      "text/plain": [
       "       L5_A_LOAD\n",
       "17350    15552.0\n",
       "17351    14526.0"
      ]
     },
     "metadata": {},
     "output_type": "display_data"
    }
   ],
   "source": [
    "# Splitting the continuous data into training and test split\n",
    "X_continuous_train,  X_continuous_test = X_continuous.loc[:train_end_idx], X_continuous.loc[train_end_idx+1:]\n",
    "print(\"Train split of continuous data: \")\n",
    "display(X_continuous_train.tail(2))\n",
    "\n",
    "# Splitting the categorical data into training and test split\n",
    "X_categorical_train, X_categorical_test = X_categorical.loc[:train_end_idx], X_categorical.loc[train_end_idx+1:]\n",
    "print(\"Train split of categorical data: \")\n",
    "display(X_categorical_train.tail(2))\n",
    "\n",
    "# Splitting the target into training and test split\n",
    "Y_train, Y_test = Y.loc[:train_end_idx],  Y.loc[train_end_idx+1:]\n",
    "print(\"Train split of target data Y: \")\n",
    "display(Y_train.tail(2))"
   ]
  },
  {
   "cell_type": "code",
   "execution_count": 23,
   "metadata": {},
   "outputs": [
    {
     "name": "stdout",
     "output_type": "stream",
     "text": [
      "Shape for continuous variable: \n",
      "(17352, 6) (26304, 6) \n",
      "\n",
      "Shape for categorical variable: \n",
      "(17352, 74) (26304, 74) \n",
      "\n",
      "Shape for target variable: \n",
      "(17352, 1) (26304, 1) \n",
      "\n",
      "Does it cover entire training set:  True\n"
     ]
    }
   ],
   "source": [
    "print(\"Shape for continuous variable: \")\n",
    "print(X_continuous_train.shape, X_continuous_test.shape, \"\\n\")\n",
    "print(\"Shape for categorical variable: \")\n",
    "print(X_categorical_train.shape, X_categorical_test.shape, \"\\n\")\n",
    "print(\"Shape for target variable: \")\n",
    "print(Y_train.shape, Y_test.shape, \"\\n\")\n",
    "print(\"Does it cover entire training set: \", (X_continuous_train.shape[0] +\n",
    "                                              X_continuous_test.shape[0]) == len(X_continuous))"
   ]
  },
  {
   "cell_type": "markdown",
   "metadata": {},
   "source": [
    "### SCALING THE DATA"
   ]
  },
  {
   "cell_type": "code",
   "execution_count": 24,
   "metadata": {},
   "outputs": [],
   "source": [
    "# Scaling values using min-max scaler\n",
    "mm_scaler_X = MinMaxScaler()\n",
    "mm_scaler_Y = MinMaxScaler()"
   ]
  },
  {
   "cell_type": "code",
   "execution_count": 25,
   "metadata": {},
   "outputs": [
    {
     "name": "stdout",
     "output_type": "stream",
     "text": [
      "Scaled continuous X train: \n",
      "Shape:  (17352, 6)\n"
     ]
    },
    {
     "data": {
      "text/plain": [
       "array([[0.5712098 , 0.39050536, 0.18918919, 0.7489083 , 0.66136364,\n",
       "        0.78858351],\n",
       "       [0.58805513, 0.39050536, 0.17775468, 0.7489083 , 0.66136364,\n",
       "        0.78858351],\n",
       "       [0.58192956, 0.38591118, 0.17047817, 0.7489083 , 0.66136364,\n",
       "        0.78858351],\n",
       "       ...,\n",
       "       [0.40122511, 0.46554364, 0.68191268, 0.2860262 , 0.15      ,\n",
       "        0.49682875],\n",
       "       [0.38591118, 0.46860643, 0.68191268, 0.2860262 , 0.15      ,\n",
       "        0.49682875],\n",
       "       [0.37212864, 0.47166922, 0.68295218, 0.2860262 , 0.15      ,\n",
       "        0.49682875]])"
      ]
     },
     "metadata": {},
     "output_type": "display_data"
    }
   ],
   "source": [
    "# Scaling continuous X train part\n",
    "X_scaled_continuous_train = mm_scaler_X.fit_transform(X_continuous_train)\n",
    "\n",
    "# Using the fit_scaler to scale the X test part\n",
    "X_scaled_continuous_test = mm_scaler_X.transform(X_continuous_test)\n",
    "\n",
    "print(\"Scaled continuous X train: \")\n",
    "print(\"Shape: \", X_scaled_continuous_train.shape)\n",
    "display(X_scaled_continuous_train)"
   ]
  },
  {
   "cell_type": "code",
   "execution_count": 26,
   "metadata": {},
   "outputs": [
    {
     "name": "stdout",
     "output_type": "stream",
     "text": [
      "Scaled continuous Y train: \n",
      "Shape:  (17352, 1)\n"
     ]
    },
    {
     "data": {
      "text/plain": [
       "array([[0.69372129],\n",
       "       [0.6906585 ],\n",
       "       [0.69218989],\n",
       "       ...,\n",
       "       [0.39816233],\n",
       "       [0.37825421],\n",
       "       [0.34915773]])"
      ]
     },
     "metadata": {},
     "output_type": "display_data"
    }
   ],
   "source": [
    "# Scaling target Y train part\n",
    "Y_scaled_train = mm_scaler_Y.fit_transform(Y_train)\n",
    "\n",
    "# Using the fit_scaler to scale the Y test part\n",
    "Y_scaled_test = mm_scaler_Y.transform(Y_test)\n",
    "\n",
    "print(\"Scaled continuous Y train: \")\n",
    "print(\"Shape: \", Y_scaled_train.shape)\n",
    "display(Y_scaled_train)"
   ]
  },
  {
   "cell_type": "code",
   "execution_count": 27,
   "metadata": {},
   "outputs": [],
   "source": [
    "# Converting a multivariate dataset into slices of samples\n",
    "def split_data(calendar_data, x_data, y_data, n_steps, n_overlap):\n",
    "    calendar, x, y = list(), list(), list()\n",
    "    for i in range(0, len(x_data), n_steps-n_overlap):\n",
    "\n",
    "        # Finding the split index\n",
    "        end_idx = i + n_steps\n",
    "\n",
    "        # Break the loop at end of dataset\n",
    "        if end_idx > len(x_data):\n",
    "            break\n",
    "\n",
    "        # Appending the custom created samples with desired time-steps and features\n",
    "        sample_calendar, sample_x, sample_y = calendar_data[i:end_idx, :], \\\n",
    "                                              x_data[i:end_idx, :], \\\n",
    "                                              y_data[i:end_idx, :]\n",
    "        calendar.append(sample_calendar)\n",
    "        x.append(sample_x)\n",
    "        y.append(sample_y)\n",
    "\n",
    "    return np.array(calendar), np.array(x), np.array(y)"
   ]
  },
  {
   "cell_type": "code",
   "execution_count": 28,
   "metadata": {},
   "outputs": [
    {
     "name": "stdout",
     "output_type": "stream",
     "text": [
      "Shape of the created samples for training:  (17329, 24, 6)\n",
      "Shape of the created samples for testing:  (1096, 24, 6)\n"
     ]
    }
   ],
   "source": [
    "num_steps = 24\n",
    "train_num_overlap = 23\n",
    "test_num_overlap = 0\n",
    "\n",
    "processed_data_train = split_data(calendar_data=X_categorical_train.to_numpy(),\n",
    "                            x_data=X_scaled_continuous_train,\n",
    "                            y_data=Y_scaled_train,\n",
    "                            n_steps=num_steps, n_overlap=train_num_overlap)\n",
    "\n",
    "processed_data_test = split_data(calendar_data=X_categorical_test.to_numpy(),\n",
    "                            x_data=X_scaled_continuous_test,\n",
    "                            y_data=Y_scaled_test,\n",
    "                            n_steps=num_steps, n_overlap=test_num_overlap)\n",
    "\n",
    "print(\"Shape of the created samples for training: \", processed_data_train[1].shape)\n",
    "print(\"Shape of the created samples for testing: \", processed_data_test[1].shape)"
   ]
  },
  {
   "cell_type": "code",
   "execution_count": 29,
   "metadata": {},
   "outputs": [
    {
     "name": "stdout",
     "output_type": "stream",
     "text": [
      "First sample: \n",
      "\n"
     ]
    },
    {
     "data": {
      "text/plain": [
       "array([[0.5712098 , 0.39050536, 0.18918919, 0.7489083 , 0.66136364,\n",
       "        0.78858351],\n",
       "       [0.58805513, 0.39050536, 0.17775468, 0.7489083 , 0.66136364,\n",
       "        0.78858351],\n",
       "       [0.58192956, 0.38591118, 0.17047817, 0.7489083 , 0.66136364,\n",
       "        0.78858351],\n",
       "       [0.57733538, 0.37212864, 0.16528067, 0.7489083 , 0.66136364,\n",
       "        0.78858351],\n",
       "       [0.57886677, 0.36906585, 0.15904366, 0.7489083 , 0.66136364,\n",
       "        0.78858351],\n",
       "       [0.58652374, 0.37212864, 0.14968815, 0.7489083 , 0.66136364,\n",
       "        0.78858351],\n",
       "       [0.60336907, 0.38284839, 0.14864865, 0.7489083 , 0.66136364,\n",
       "        0.78858351],\n",
       "       [0.63093415, 0.39203675, 0.14864865, 0.7489083 , 0.66136364,\n",
       "        0.78858351],\n",
       "       [0.65237366, 0.4042879 , 0.14864865, 0.7489083 , 0.66136364,\n",
       "        0.78858351],\n",
       "       [0.68300153, 0.41500766, 0.16839917, 0.7489083 , 0.66136364,\n",
       "        0.78858351],\n",
       "       [0.72588055, 0.4042879 , 0.17775468, 0.7489083 , 0.66136364,\n",
       "        0.78858351],\n",
       "       [0.73966309, 0.39816233, 0.1954262 , 0.7489083 , 0.66136364,\n",
       "        0.78858351],\n",
       "       [0.75344564, 0.39663093, 0.20790021, 0.7489083 , 0.66136364,\n",
       "        0.78858351],\n",
       "       [0.76569678, 0.3797856 , 0.22453222, 0.7489083 , 0.66136364,\n",
       "        0.78858351],\n",
       "       [0.75957121, 0.36447167, 0.23804574, 0.7489083 , 0.66136364,\n",
       "        0.78858351],\n",
       "       [0.74885145, 0.37059724, 0.24948025, 0.7489083 , 0.66136364,\n",
       "        0.78858351],\n",
       "       [0.75803982, 0.37825421, 0.25155925, 0.7489083 , 0.66136364,\n",
       "        0.78858351],\n",
       "       [0.76722818, 0.40122511, 0.23596674, 0.7489083 , 0.66136364,\n",
       "        0.78858351],\n",
       "       [0.77182236, 0.40122511, 0.19126819, 0.7489083 , 0.66136364,\n",
       "        0.78858351],\n",
       "       [0.74885145, 0.39356815, 0.19126819, 0.7489083 , 0.66136364,\n",
       "        0.78858351],\n",
       "       [0.73660031, 0.38897397, 0.15384615, 0.7489083 , 0.66136364,\n",
       "        0.78858351],\n",
       "       [0.72741194, 0.37519142, 0.14241164, 0.7489083 , 0.66136364,\n",
       "        0.78858351],\n",
       "       [0.70903522, 0.3568147 , 0.12370062, 0.7489083 , 0.66136364,\n",
       "        0.78858351],\n",
       "       [0.69678407, 0.33537519, 0.11850312, 0.7489083 , 0.66136364,\n",
       "        0.78858351]])"
      ]
     },
     "metadata": {},
     "output_type": "display_data"
    }
   ],
   "source": [
    "## Sample check for sanity\n",
    "print(\"First sample: \\n\")\n",
    "display(processed_data_train[1][0])"
   ]
  },
  {
   "cell_type": "code",
   "execution_count": 30,
   "metadata": {},
   "outputs": [
    {
     "name": "stdout",
     "output_type": "stream",
     "text": [
      "Second sample: \n",
      "\n"
     ]
    },
    {
     "data": {
      "text/plain": [
       "array([[0.58805513, 0.39050536, 0.17775468, 0.7489083 , 0.66136364,\n",
       "        0.78858351],\n",
       "       [0.58192956, 0.38591118, 0.17047817, 0.7489083 , 0.66136364,\n",
       "        0.78858351],\n",
       "       [0.57733538, 0.37212864, 0.16528067, 0.7489083 , 0.66136364,\n",
       "        0.78858351],\n",
       "       [0.57886677, 0.36906585, 0.15904366, 0.7489083 , 0.66136364,\n",
       "        0.78858351],\n",
       "       [0.58652374, 0.37212864, 0.14968815, 0.7489083 , 0.66136364,\n",
       "        0.78858351],\n",
       "       [0.60336907, 0.38284839, 0.14864865, 0.7489083 , 0.66136364,\n",
       "        0.78858351],\n",
       "       [0.63093415, 0.39203675, 0.14864865, 0.7489083 , 0.66136364,\n",
       "        0.78858351],\n",
       "       [0.65237366, 0.4042879 , 0.14864865, 0.7489083 , 0.66136364,\n",
       "        0.78858351],\n",
       "       [0.68300153, 0.41500766, 0.16839917, 0.7489083 , 0.66136364,\n",
       "        0.78858351],\n",
       "       [0.72588055, 0.4042879 , 0.17775468, 0.7489083 , 0.66136364,\n",
       "        0.78858351],\n",
       "       [0.73966309, 0.39816233, 0.1954262 , 0.7489083 , 0.66136364,\n",
       "        0.78858351],\n",
       "       [0.75344564, 0.39663093, 0.20790021, 0.7489083 , 0.66136364,\n",
       "        0.78858351],\n",
       "       [0.76569678, 0.3797856 , 0.22453222, 0.7489083 , 0.66136364,\n",
       "        0.78858351],\n",
       "       [0.75957121, 0.36447167, 0.23804574, 0.7489083 , 0.66136364,\n",
       "        0.78858351],\n",
       "       [0.74885145, 0.37059724, 0.24948025, 0.7489083 , 0.66136364,\n",
       "        0.78858351],\n",
       "       [0.75803982, 0.37825421, 0.25155925, 0.7489083 , 0.66136364,\n",
       "        0.78858351],\n",
       "       [0.76722818, 0.40122511, 0.23596674, 0.7489083 , 0.66136364,\n",
       "        0.78858351],\n",
       "       [0.77182236, 0.40122511, 0.19126819, 0.7489083 , 0.66136364,\n",
       "        0.78858351],\n",
       "       [0.74885145, 0.39356815, 0.19126819, 0.7489083 , 0.66136364,\n",
       "        0.78858351],\n",
       "       [0.73660031, 0.38897397, 0.15384615, 0.7489083 , 0.66136364,\n",
       "        0.78858351],\n",
       "       [0.72741194, 0.37519142, 0.14241164, 0.7489083 , 0.66136364,\n",
       "        0.78858351],\n",
       "       [0.70903522, 0.3568147 , 0.12370062, 0.7489083 , 0.66136364,\n",
       "        0.78858351],\n",
       "       [0.69678407, 0.33537519, 0.11850312, 0.7489083 , 0.66136364,\n",
       "        0.78858351],\n",
       "       [0.69372129, 0.31240429, 0.10914761, 0.83624454, 0.68636364,\n",
       "        0.8858351 ]])"
      ]
     },
     "metadata": {},
     "output_type": "display_data"
    }
   ],
   "source": [
    "print(\"Second sample: \\n\")\n",
    "display(processed_data_train[1][1])"
   ]
  },
  {
   "cell_type": "code",
   "execution_count": 31,
   "metadata": {},
   "outputs": [],
   "source": [
    "# Dividing the sampled data - training\n",
    "categorical_samples_training = torch.Tensor(processed_data_train[0])\n",
    "continuous_samples_training = torch.Tensor(processed_data_train[1])\n",
    "target_samples_training = torch.Tensor(processed_data_train[2])\n",
    "\n",
    "# Dividing the sampled data - testing\n",
    "categorical_samples_testing = torch.Tensor(processed_data_test[0])\n",
    "continuous_samples_testing = torch.Tensor(processed_data_test[1])\n",
    "target_samples_testing = torch.Tensor(processed_data_test[2])"
   ]
  },
  {
   "cell_type": "code",
   "execution_count": 32,
   "metadata": {},
   "outputs": [
    {
     "name": "stdout",
     "output_type": "stream",
     "text": [
      "Shape of categorical samples - training:  torch.Size([17329, 24, 74])\n",
      "Shape of continuous samples - training:  torch.Size([17329, 24, 6])\n",
      "Shape of target samples - training:  torch.Size([17329, 24, 1])\n",
      "\n",
      "\n",
      "Shape of categorical samples - testing:  torch.Size([1096, 24, 74])\n",
      "Shape of continuous samples - testing:  torch.Size([1096, 24, 6])\n",
      "Shape of target samples - testing:  torch.Size([1096, 24, 1])\n"
     ]
    }
   ],
   "source": [
    "print(\"Shape of categorical samples - training: \", categorical_samples_training.shape)\n",
    "print(\"Shape of continuous samples - training: \", continuous_samples_training.shape)\n",
    "print(\"Shape of target samples - training: \", target_samples_training.shape)\n",
    "print(\"\\n\")\n",
    "print(\"Shape of categorical samples - testing: \", categorical_samples_testing.shape)\n",
    "print(\"Shape of continuous samples - testing: \", continuous_samples_testing.shape)\n",
    "print(\"Shape of target samples - testing: \", target_samples_testing.shape)"
   ]
  },
  {
   "cell_type": "markdown",
   "metadata": {},
   "source": [
    "### CREATING DATALOADER"
   ]
  },
  {
   "cell_type": "code",
   "execution_count": 33,
   "metadata": {},
   "outputs": [],
   "source": [
    "BATCH_SIZE = 512"
   ]
  },
  {
   "cell_type": "code",
   "execution_count": 34,
   "metadata": {},
   "outputs": [],
   "source": [
    "class TimeSeriesLoader(Dataset):\n",
    "    def __init__(self, categorical, continuous, target):\n",
    "        self.categorical, self.continuous, self.target = categorical, continuous, target\n",
    "\n",
    "    def __len__(self):\n",
    "        return len(self.categorical)\n",
    "\n",
    "    def __getitem__(self, idx):\n",
    "        return self.categorical[idx], self.continuous[idx], self.target[idx]"
   ]
  },
  {
   "cell_type": "code",
   "execution_count": 35,
   "metadata": {},
   "outputs": [],
   "source": [
    "train_dataset = TimeSeriesLoader(categorical_samples_training,\n",
    "                                 continuous_samples_training,\n",
    "                                 target_samples_training)\n",
    "\n",
    "test_dataset = TimeSeriesLoader(categorical_samples_testing,\n",
    "                                continuous_samples_testing,\n",
    "                                target_samples_testing)"
   ]
  },
  {
   "cell_type": "code",
   "execution_count": 36,
   "metadata": {},
   "outputs": [],
   "source": [
    "train_dataloader = DataLoader(train_dataset, batch_size=BATCH_SIZE, shuffle=True, drop_last=False)\n",
    "\n",
    "test_dataloader = DataLoader(test_dataset, batch_size=BATCH_SIZE, shuffle=False, drop_last=False)"
   ]
  },
  {
   "cell_type": "code",
   "execution_count": 37,
   "metadata": {},
   "outputs": [
    {
     "name": "stdout",
     "output_type": "stream",
     "text": [
      "Number of batches in train dataloader:  34\n",
      "Number of batches in test dataloader:  3\n"
     ]
    }
   ],
   "source": [
    "print(\"Number of batches in train dataloader: \", len(train_dataloader))\n",
    "print(\"Number of batches in test dataloader: \", len(test_dataloader))"
   ]
  },
  {
   "cell_type": "code",
   "execution_count": 38,
   "metadata": {},
   "outputs": [
    {
     "name": "stdout",
     "output_type": "stream",
     "text": [
      "Shape of categorical variables:  torch.Size([17329, 24, 74])\n",
      "Shape of continuous variables:  torch.Size([17329, 24, 6])\n",
      "Shape of target variables:  torch.Size([17329, 24, 1])\n"
     ]
    }
   ],
   "source": [
    "categorical_var_shape = train_dataloader.dataset.categorical.shape\n",
    "continuous_var_shape = train_dataloader.dataset.continuous.shape\n",
    "target_var_shape = train_dataloader.dataset.target.shape\n",
    "\n",
    "print(\"Shape of categorical variables: \", categorical_var_shape)\n",
    "print(\"Shape of continuous variables: \", continuous_var_shape)\n",
    "print(\"Shape of target variables: \", target_var_shape)"
   ]
  },
  {
   "cell_type": "code",
   "execution_count": 39,
   "metadata": {},
   "outputs": [
    {
     "name": "stdout",
     "output_type": "stream",
     "text": [
      "Number of zones:  1\n",
      "Number of features per zone:  6\n"
     ]
    }
   ],
   "source": [
    "# Specifying number of zones and features per zone\n",
    "num_zones = target_var_shape[2]\n",
    "num_zone_features = int(continuous_var_shape[2] / target_var_shape[2])\n",
    "print(\"Number of zones: \", num_zones)\n",
    "print(\"Number of features per zone: \", num_zone_features)"
   ]
  },
  {
   "cell_type": "markdown",
   "metadata": {},
   "source": [
    "### DEFINING LOSS FUNCTION"
   ]
  },
  {
   "cell_type": "code",
   "execution_count": 40,
   "metadata": {},
   "outputs": [],
   "source": [
    "loss_function = nn.MSELoss()"
   ]
  },
  {
   "cell_type": "markdown",
   "metadata": {},
   "source": [
    "### DEFINING MODEL ARCHITECTURE"
   ]
  },
  {
   "cell_type": "code",
   "execution_count": 41,
   "metadata": {},
   "outputs": [],
   "source": [
    "config_args = easydict.EasyDict(\n",
    "        {\n",
    "            \"device\": torch.device(\"cuda\")\n",
    "            if torch.cuda.is_available()\n",
    "            else torch.device(\"cpu\"),\n",
    "            \"learning_rate\": 1e-4,\n",
    "            \"weight_decay\": 1e-3,\n",
    "            \"max_iter\": 1000,\n",
    "            \"epochs\": 200,\n",
    "            \"update_freq\": 10\n",
    "        }\n",
    "    )\n",
    "\n",
    "model_args = easydict.EasyDict(\n",
    "        {\n",
    "            \"d_input\": num_zone_features + 3 + X_categorical_train.shape[1],     # Model input -> Continuous + Categorical\n",
    "            \"d_output\": 1,                                                       # Model output -> Point predictions\n",
    "            \"d_model\": 100,                                                      # Model latent dimension\n",
    "            \"q\": 3,                                                              # Query and Key dimensions\n",
    "            \"v\": 3,                                                              # Value dimensions\n",
    "            \"h\": 3,                                                              # Number of heads\n",
    "            \"N\": 1,                                                              # Number of stacked of encoder and decoder\n",
    "            \"attention_size\": 24*7,                                              # Attention window\n",
    "            \"dropout\": 0.5,                                                      # Dropout rate\n",
    "            \"pe\": \"regular\",                                                     # Positional encoding used\n",
    "            \"chunk_mode\": None,                                                  # Default -> MultiHeadAttention\n",
    "        }\n",
    "    )\n",
    "\n",
    "# Making directories to store values\n",
    "if not os.path.exists(\"logs\"):\n",
    "    os.mkdir(\"logs\")\n",
    "if not os.path.exists(\"models\"):\n",
    "    os.mkdir(\"models\")"
   ]
  },
  {
   "cell_type": "markdown",
   "metadata": {},
   "source": [
    "### INSTANTIATING MODELS -> VAE AND LSTM"
   ]
  },
  {
   "cell_type": "code",
   "execution_count": 42,
   "metadata": {},
   "outputs": [
    {
     "name": "stdout",
     "output_type": "stream",
     "text": [
      "Number of vae models:  1\n"
     ]
    }
   ],
   "source": [
    "# Address for saved VAE models\n",
    "vae_dirname = os.path.join(os.path.dirname(os.getcwd()), \"VAE_LSTM\", \"vae_models\")\n",
    "\n",
    "# Loading the vae models\n",
    "vae_model_1 = torch.load(os.path.join(vae_dirname, \"L5_best_zone_1.pth\"))\n",
    "\n",
    "vae_models = nn.ModuleList([vae_model_1])\n",
    "print(\"Number of vae models: \", len(vae_models))"
   ]
  },
  {
   "cell_type": "code",
   "execution_count": 43,
   "metadata": {},
   "outputs": [
    {
     "name": "stdout",
     "output_type": "stream",
     "text": [
      "Number of transformer models:  1\n"
     ]
    }
   ],
   "source": [
    "# Instantiating transformer corresponding to each zone\n",
    "transformer_model = Transformer(model_args.d_input, model_args.d_model, model_args.d_output,\n",
    "                                model_args.q, model_args.v, model_args.h, model_args.N,\n",
    "                                attention_size=model_args.attention_size, dropout=model_args.dropout,\n",
    "                                chunk_mode=model_args.chunk_mode, pe=model_args.pe).to(device)\n",
    "\n",
    "transformer_models = nn.ModuleList([transformer_model for _ in range(num_zones)])\n",
    "print(\"Number of transformer models: \", len(transformer_models))"
   ]
  },
  {
   "cell_type": "code",
   "execution_count": 44,
   "metadata": {},
   "outputs": [],
   "source": [
    "class VAE_TRANSFORMER(nn.Module):\n",
    "    def __init__(self, zonal_vae, zonal_transformer):\n",
    "        super(VAE_TRANSFORMER, self).__init__()\n",
    "        self.zonal_vae = zonal_vae\n",
    "        self.zonal_transformer = zonal_transformer\n",
    "\n",
    "    def forward(self, categorical, zonal_continuous):\n",
    "        zonal_continuous_reconstr = zonal_continuous[:, :, :3]\n",
    "        out_var = self.zonal_vae(zonal_continuous_reconstr)\n",
    "        in_transformer = torch.cat((categorical, zonal_continuous, out_var[1]), axis=-1)\n",
    "        out_transformer = self.zonal_transformer(in_transformer)\n",
    "        return out_var, out_transformer"
   ]
  },
  {
   "cell_type": "code",
   "execution_count": 45,
   "metadata": {},
   "outputs": [],
   "source": [
    "def frozen_param_model(net):\n",
    "    for name, param in net.named_parameters():\n",
    "        if param.requires_grad and 'zonal_vae' in name:\n",
    "            param.requires_grad = False\n",
    "\n",
    "    non_frozen_param = [p for p in net.parameters() if p.requires_grad]\n",
    "    return non_frozen_param"
   ]
  },
  {
   "cell_type": "code",
   "execution_count": 46,
   "metadata": {},
   "outputs": [],
   "source": [
    "def save_checkpoint(model, filename):\n",
    "    torch.save(model.state_dict(), filename)\n",
    "\n",
    "def load_from_checkpoint(model, filename):\n",
    "    model.load_state_dict(torch.load(filename))\n",
    "    return model\n",
    "\n",
    "def init_weights(model):\n",
    "    if isinstance(model, nn.Linear):\n",
    "        torch.nn.init.kaiming_uniform_(model.weight, nonlinearity='relu')\n",
    "        model.bias.data.fill_(0.01)"
   ]
  },
  {
   "cell_type": "markdown",
   "metadata": {},
   "source": [
    "### SPECIFYING EARLY STOPPING FUNCTION"
   ]
  },
  {
   "cell_type": "code",
   "execution_count": 47,
   "metadata": {},
   "outputs": [],
   "source": [
    "class EarlyStopping:\n",
    "    def __init__(self, patience=8, verbose=False, \n",
    "                 path=\"best_model.pth\", trace_func=print,\n",
    "                 model_name=\"model_x\"):\n",
    "\n",
    "        self.patience = patience\n",
    "        self.verbose = verbose\n",
    "        self.counter = 0\n",
    "        self.best_score = None\n",
    "        self.early_stop = False\n",
    "        self.val_loss_min = np.Inf\n",
    "        self.path = path\n",
    "        self.trace_func = trace_func\n",
    "        self.model_name = model_name\n",
    "\n",
    "    def __call__(self, val_loss, model):\n",
    "\n",
    "        score = -val_loss\n",
    "\n",
    "        if self.best_score is None:\n",
    "            self.best_score = score\n",
    "            self.save_checkpoint(val_loss, model)\n",
    "            \n",
    "        elif score < self.best_score:\n",
    "            self.counter += 1\n",
    "            self.trace_func(f'[{self.model_name}] EarlyStopping counter: {self.counter} out of {self.patience}')\n",
    "            if self.counter >= self.patience:\n",
    "                self.early_stop = True\n",
    "        else:\n",
    "            self.best_score = score\n",
    "            self.save_checkpoint(val_loss, model)\n",
    "            self.counter = 0\n",
    "\n",
    "    def save_checkpoint(self, val_loss, model):\n",
    "        if self.verbose:\n",
    "            self.trace_func(f'[{self.model_name}] Validation loss decreased ({self.val_loss_min:.6f} --> {val_loss:.6f}).  Saving model ...')\n",
    "        torch.save(model.state_dict(), self.path)\n",
    "        self.val_loss_min = val_loss"
   ]
  },
  {
   "cell_type": "code",
   "execution_count": 48,
   "metadata": {},
   "outputs": [],
   "source": [
    "early_stop_patience = 5\n",
    "\n",
    "model_path_1 = os.path.join(os.getcwd(), \"transformer_checkpoint_point_forecast\", \"vae_transformer_best_1.pth\")\n",
    "\n",
    "early_stopping_1 = EarlyStopping(patience=early_stop_patience, verbose=True, path=model_path_1, model_name=\"model_1\")"
   ]
  },
  {
   "cell_type": "markdown",
   "metadata": {},
   "source": [
    "### DEFINING ZONAL MODEL"
   ]
  },
  {
   "cell_type": "code",
   "execution_count": 49,
   "metadata": {},
   "outputs": [],
   "source": [
    "model_1 = VAE_TRANSFORMER(vae_models[0], transformer_models[0]).apply(init_weights)"
   ]
  },
  {
   "cell_type": "code",
   "execution_count": 50,
   "metadata": {},
   "outputs": [],
   "source": [
    "# Defining optimizer with frozen vae parameters -> Just training the Transformer\n",
    "optimizer_1 = optim.Adam(frozen_param_model(model_1), lr=config_args.learning_rate, weight_decay=config_args.weight_decay)"
   ]
  },
  {
   "cell_type": "markdown",
   "metadata": {},
   "source": [
    "### PERFORMING MODEL TRAINING"
   ]
  },
  {
   "cell_type": "code",
   "execution_count": 51,
   "metadata": {},
   "outputs": [
    {
     "name": "stdout",
     "output_type": "stream",
     "text": [
      "\n",
      "[Epoch     1 of 200] loss_1: 0.022296 val_loss_1: 0.015081\n",
      "[model_1] Validation loss decreased (inf --> 0.015081).  Saving model ...\n",
      "\n",
      "[Epoch     2 of 200] loss_1: 0.014839 val_loss_1: 0.011276\n",
      "[model_1] Validation loss decreased (0.015081 --> 0.011276).  Saving model ...\n",
      "\n",
      "[Epoch     3 of 200] loss_1: 0.011907 val_loss_1: 0.009615\n",
      "[model_1] Validation loss decreased (0.011276 --> 0.009615).  Saving model ...\n",
      "\n",
      "[Epoch     4 of 200] loss_1: 0.010544 val_loss_1: 0.008751\n",
      "[model_1] Validation loss decreased (0.009615 --> 0.008751).  Saving model ...\n",
      "\n",
      "[Epoch     5 of 200] loss_1: 0.009674 val_loss_1: 0.008028\n",
      "[model_1] Validation loss decreased (0.008751 --> 0.008028).  Saving model ...\n",
      "\n",
      "[Epoch     6 of 200] loss_1: 0.008754 val_loss_1: 0.007664\n",
      "[model_1] Validation loss decreased (0.008028 --> 0.007664).  Saving model ...\n",
      "\n",
      "[Epoch     7 of 200] loss_1: 0.008159 val_loss_1: 0.007298\n",
      "[model_1] Validation loss decreased (0.007664 --> 0.007298).  Saving model ...\n",
      "\n",
      "[Epoch     8 of 200] loss_1: 0.007735 val_loss_1: 0.007539\n",
      "[model_1] EarlyStopping counter: 1 out of 5\n",
      "\n",
      "[Epoch     9 of 200] loss_1: 0.007067 val_loss_1: 0.006800\n",
      "[model_1] Validation loss decreased (0.007298 --> 0.006800).  Saving model ...\n",
      "\n",
      "[Epoch    10 of 200] loss_1: 0.006707 val_loss_1: 0.006625\n",
      "[model_1] Validation loss decreased (0.006800 --> 0.006625).  Saving model ...\n",
      "The plots at epoch 10 are:\n",
      "\n"
     ]
    },
    {
     "data": {
      "image/png": "[encoded data removed]",
      "text/plain": [
       "<Figure size 640x480 with 1 Axes>"
      ]
     },
     "metadata": {},
     "output_type": "display_data"
    },
    {
     "name": "stdout",
     "output_type": "stream",
     "text": [
      "\n",
      "[Epoch    11 of 200] loss_1: 0.006386 val_loss_1: 0.006452\n",
      "[model_1] Validation loss decreased (0.006625 --> 0.006452).  Saving model ...\n",
      "\n",
      "[Epoch    12 of 200] loss_1: 0.005804 val_loss_1: 0.006192\n",
      "[model_1] Validation loss decreased (0.006452 --> 0.006192).  Saving model ...\n",
      "\n",
      "[Epoch    13 of 200] loss_1: 0.005588 val_loss_1: 0.006330\n",
      "[model_1] EarlyStopping counter: 1 out of 5\n",
      "\n",
      "[Epoch    14 of 200] loss_1: 0.005363 val_loss_1: 0.006004\n",
      "[model_1] Validation loss decreased (0.006192 --> 0.006004).  Saving model ...\n",
      "\n",
      "[Epoch    15 of 200] loss_1: 0.005067 val_loss_1: 0.005881\n",
      "[model_1] Validation loss decreased (0.006004 --> 0.005881).  Saving model ...\n",
      "\n",
      "[Epoch    16 of 200] loss_1: 0.004918 val_loss_1: 0.005760\n",
      "[model_1] Validation loss decreased (0.005881 --> 0.005760).  Saving model ...\n",
      "\n",
      "[Epoch    17 of 200] loss_1: 0.004608 val_loss_1: 0.005675\n",
      "[model_1] Validation loss decreased (0.005760 --> 0.005675).  Saving model ...\n",
      "\n",
      "[Epoch    18 of 200] loss_1: 0.004608 val_loss_1: 0.005721\n",
      "[model_1] EarlyStopping counter: 1 out of 5\n",
      "\n",
      "[Epoch    19 of 200] loss_1: 0.004455 val_loss_1: 0.005464\n",
      "[model_1] Validation loss decreased (0.005675 --> 0.005464).  Saving model ...\n",
      "\n",
      "[Epoch    20 of 200] loss_1: 0.004424 val_loss_1: 0.005753\n",
      "[model_1] EarlyStopping counter: 1 out of 5\n",
      "The plots at epoch 20 are:\n",
      "\n"
     ]
    },
    {
     "data": {
      "image/png": "[encoded data removed]",
      "text/plain": [
       "<Figure size 640x480 with 1 Axes>"
      ]
     },
     "metadata": {},
     "output_type": "display_data"
    },
    {
     "name": "stdout",
     "output_type": "stream",
     "text": [
      "\n",
      "[Epoch    21 of 200] loss_1: 0.004348 val_loss_1: 0.005312\n",
      "[model_1] Validation loss decreased (0.005464 --> 0.005312).  Saving model ...\n",
      "\n",
      "[Epoch    22 of 200] loss_1: 0.004079 val_loss_1: 0.005520\n",
      "[model_1] EarlyStopping counter: 1 out of 5\n",
      "\n",
      "[Epoch    23 of 200] loss_1: 0.003874 val_loss_1: 0.005179\n",
      "[model_1] Validation loss decreased (0.005312 --> 0.005179).  Saving model ...\n",
      "\n",
      "[Epoch    24 of 200] loss_1: 0.003878 val_loss_1: 0.005361\n",
      "[model_1] EarlyStopping counter: 1 out of 5\n",
      "\n",
      "[Epoch    25 of 200] loss_1: 0.003741 val_loss_1: 0.005303\n",
      "[model_1] EarlyStopping counter: 2 out of 5\n",
      "\n",
      "[Epoch    26 of 200] loss_1: 0.003805 val_loss_1: 0.005084\n",
      "[model_1] Validation loss decreased (0.005179 --> 0.005084).  Saving model ...\n",
      "\n",
      "[Epoch    27 of 200] loss_1: 0.003678 val_loss_1: 0.005715\n",
      "[model_1] EarlyStopping counter: 1 out of 5\n",
      "\n",
      "[Epoch    28 of 200] loss_1: 0.003943 val_loss_1: 0.005091\n",
      "[model_1] EarlyStopping counter: 2 out of 5\n",
      "\n",
      "[Epoch    29 of 200] loss_1: 0.003458 val_loss_1: 0.004969\n",
      "[model_1] Validation loss decreased (0.005084 --> 0.004969).  Saving model ...\n",
      "\n",
      "[Epoch    30 of 200] loss_1: 0.003329 val_loss_1: 0.004826\n",
      "[model_1] Validation loss decreased (0.004969 --> 0.004826).  Saving model ...\n",
      "The plots at epoch 30 are:\n",
      "\n"
     ]
    },
    {
     "data": {
      "image/png": "[encoded data removed]",
      "text/plain": [
       "<Figure size 640x480 with 1 Axes>"
      ]
     },
     "metadata": {},
     "output_type": "display_data"
    },
    {
     "name": "stdout",
     "output_type": "stream",
     "text": [
      "\n",
      "[Epoch    31 of 200] loss_1: 0.003538 val_loss_1: 0.005116\n",
      "[model_1] EarlyStopping counter: 1 out of 5\n",
      "\n",
      "[Epoch    32 of 200] loss_1: 0.003362 val_loss_1: 0.004739\n",
      "[model_1] Validation loss decreased (0.004826 --> 0.004739).  Saving model ...\n",
      "\n",
      "[Epoch    33 of 200] loss_1: 0.003279 val_loss_1: 0.004798\n",
      "[model_1] EarlyStopping counter: 1 out of 5\n",
      "\n",
      "[Epoch    34 of 200] loss_1: 0.003289 val_loss_1: 0.004721\n",
      "[model_1] Validation loss decreased (0.004739 --> 0.004721).  Saving model ...\n",
      "\n",
      "[Epoch    35 of 200] loss_1: 0.003262 val_loss_1: 0.004650\n",
      "[model_1] Validation loss decreased (0.004721 --> 0.004650).  Saving model ...\n",
      "\n",
      "[Epoch    36 of 200] loss_1: 0.003111 val_loss_1: 0.004585\n",
      "[model_1] Validation loss decreased (0.004650 --> 0.004585).  Saving model ...\n",
      "\n",
      "[Epoch    37 of 200] loss_1: 0.003351 val_loss_1: 0.004489\n",
      "[model_1] Validation loss decreased (0.004585 --> 0.004489).  Saving model ...\n",
      "\n",
      "[Epoch    38 of 200] loss_1: 0.003045 val_loss_1: 0.004424\n",
      "[model_1] Validation loss decreased (0.004489 --> 0.004424).  Saving model ...\n",
      "\n",
      "[Epoch    39 of 200] loss_1: 0.003091 val_loss_1: 0.004451\n",
      "[model_1] EarlyStopping counter: 1 out of 5\n",
      "\n",
      "[Epoch    40 of 200] loss_1: 0.003022 val_loss_1: 0.004361\n",
      "[model_1] Validation loss decreased (0.004424 --> 0.004361).  Saving model ...\n",
      "The plots at epoch 40 are:\n",
      "\n"
     ]
    },
    {
     "data": {
      "image/png": "[encoded data removed]",
      "text/plain": [
       "<Figure size 640x480 with 1 Axes>"
      ]
     },
     "metadata": {},
     "output_type": "display_data"
    },
    {
     "name": "stdout",
     "output_type": "stream",
     "text": [
      "\n",
      "[Epoch    41 of 200] loss_1: 0.003001 val_loss_1: 0.004300\n",
      "[model_1] Validation loss decreased (0.004361 --> 0.004300).  Saving model ...\n",
      "\n",
      "[Epoch    42 of 200] loss_1: 0.002919 val_loss_1: 0.004272\n",
      "[model_1] Validation loss decreased (0.004300 --> 0.004272).  Saving model ...\n",
      "\n",
      "[Epoch    43 of 200] loss_1: 0.002901 val_loss_1: 0.004472\n",
      "[model_1] EarlyStopping counter: 1 out of 5\n",
      "\n",
      "[Epoch    44 of 200] loss_1: 0.002844 val_loss_1: 0.004167\n",
      "[model_1] Validation loss decreased (0.004272 --> 0.004167).  Saving model ...\n",
      "\n",
      "[Epoch    45 of 200] loss_1: 0.002877 val_loss_1: 0.004137\n",
      "[model_1] Validation loss decreased (0.004167 --> 0.004137).  Saving model ...\n",
      "\n",
      "[Epoch    46 of 200] loss_1: 0.002769 val_loss_1: 0.004114\n",
      "[model_1] Validation loss decreased (0.004137 --> 0.004114).  Saving model ...\n",
      "\n",
      "[Epoch    47 of 200] loss_1: 0.002677 val_loss_1: 0.004064\n",
      "[model_1] Validation loss decreased (0.004114 --> 0.004064).  Saving model ...\n",
      "\n",
      "[Epoch    48 of 200] loss_1: 0.002692 val_loss_1: 0.004050\n",
      "[model_1] Validation loss decreased (0.004064 --> 0.004050).  Saving model ...\n",
      "\n",
      "[Epoch    49 of 200] loss_1: 0.002634 val_loss_1: 0.003890\n",
      "[model_1] Validation loss decreased (0.004050 --> 0.003890).  Saving model ...\n",
      "\n",
      "[Epoch    50 of 200] loss_1: 0.002635 val_loss_1: 0.003946\n",
      "[model_1] EarlyStopping counter: 1 out of 5\n",
      "The plots at epoch 50 are:\n",
      "\n"
     ]
    },
    {
     "data": {
      "image/png": "[encoded data removed]",
      "text/plain": [
       "<Figure size 640x480 with 1 Axes>"
      ]
     },
     "metadata": {},
     "output_type": "display_data"
    },
    {
     "name": "stdout",
     "output_type": "stream",
     "text": [
      "\n",
      "[Epoch    51 of 200] loss_1: 0.002503 val_loss_1: 0.004011\n",
      "[model_1] EarlyStopping counter: 2 out of 5\n",
      "\n",
      "[Epoch    52 of 200] loss_1: 0.002658 val_loss_1: 0.003950\n",
      "[model_1] EarlyStopping counter: 3 out of 5\n",
      "\n",
      "[Epoch    53 of 200] loss_1: 0.002532 val_loss_1: 0.003787\n",
      "[model_1] Validation loss decreased (0.003890 --> 0.003787).  Saving model ...\n",
      "\n",
      "[Epoch    54 of 200] loss_1: 0.002474 val_loss_1: 0.003877\n",
      "[model_1] EarlyStopping counter: 1 out of 5\n",
      "\n",
      "[Epoch    55 of 200] loss_1: 0.002454 val_loss_1: 0.003648\n",
      "[model_1] Validation loss decreased (0.003787 --> 0.003648).  Saving model ...\n",
      "\n",
      "[Epoch    56 of 200] loss_1: 0.002318 val_loss_1: 0.003541\n",
      "[model_1] Validation loss decreased (0.003648 --> 0.003541).  Saving model ...\n",
      "\n",
      "[Epoch    57 of 200] loss_1: 0.002327 val_loss_1: 0.003598\n",
      "[model_1] EarlyStopping counter: 1 out of 5\n",
      "\n",
      "[Epoch    58 of 200] loss_1: 0.002314 val_loss_1: 0.003403\n",
      "[model_1] Validation loss decreased (0.003541 --> 0.003403).  Saving model ...\n",
      "\n",
      "[Epoch    59 of 200] loss_1: 0.002330 val_loss_1: 0.003396\n",
      "[model_1] Validation loss decreased (0.003403 --> 0.003396).  Saving model ...\n",
      "\n",
      "[Epoch    60 of 200] loss_1: 0.002310 val_loss_1: 0.003480\n",
      "[model_1] EarlyStopping counter: 1 out of 5\n",
      "The plots at epoch 60 are:\n",
      "\n"
     ]
    },
    {
     "data": {
      "image/png": "[encoded data removed]",
      "text/plain": [
       "<Figure size 640x480 with 1 Axes>"
      ]
     },
     "metadata": {},
     "output_type": "display_data"
    },
    {
     "name": "stdout",
     "output_type": "stream",
     "text": [
      "\n",
      "[Epoch    61 of 200] loss_1: 0.002232 val_loss_1: 0.003391\n",
      "[model_1] Validation loss decreased (0.003396 --> 0.003391).  Saving model ...\n",
      "\n",
      "[Epoch    62 of 200] loss_1: 0.002159 val_loss_1: 0.003318\n",
      "[model_1] Validation loss decreased (0.003391 --> 0.003318).  Saving model ...\n",
      "\n",
      "[Epoch    63 of 200] loss_1: 0.002130 val_loss_1: 0.003283\n",
      "[model_1] Validation loss decreased (0.003318 --> 0.003283).  Saving model ...\n",
      "\n",
      "[Epoch    64 of 200] loss_1: 0.002217 val_loss_1: 0.003433\n",
      "[model_1] EarlyStopping counter: 1 out of 5\n",
      "\n",
      "[Epoch    65 of 200] loss_1: 0.002116 val_loss_1: 0.003188\n",
      "[model_1] Validation loss decreased (0.003283 --> 0.003188).  Saving model ...\n",
      "\n",
      "[Epoch    66 of 200] loss_1: 0.002101 val_loss_1: 0.003183\n",
      "[model_1] Validation loss decreased (0.003188 --> 0.003183).  Saving model ...\n",
      "\n",
      "[Epoch    67 of 200] loss_1: 0.002093 val_loss_1: 0.003141\n",
      "[model_1] Validation loss decreased (0.003183 --> 0.003141).  Saving model ...\n",
      "\n",
      "[Epoch    68 of 200] loss_1: 0.002040 val_loss_1: 0.003129\n",
      "[model_1] Validation loss decreased (0.003141 --> 0.003129).  Saving model ...\n",
      "\n",
      "[Epoch    69 of 200] loss_1: 0.002002 val_loss_1: 0.003276\n",
      "[model_1] EarlyStopping counter: 1 out of 5\n",
      "\n",
      "[Epoch    70 of 200] loss_1: 0.002031 val_loss_1: 0.003180\n",
      "[model_1] EarlyStopping counter: 2 out of 5\n",
      "The plots at epoch 70 are:\n",
      "\n"
     ]
    },
    {
     "data": {
      "image/png": "[encoded data removed]",
      "text/plain": [
       "<Figure size 640x480 with 1 Axes>"
      ]
     },
     "metadata": {},
     "output_type": "display_data"
    },
    {
     "name": "stdout",
     "output_type": "stream",
     "text": [
      "\n",
      "[Epoch    71 of 200] loss_1: 0.001983 val_loss_1: 0.003132\n",
      "[model_1] EarlyStopping counter: 3 out of 5\n",
      "\n",
      "[Epoch    72 of 200] loss_1: 0.001978 val_loss_1: 0.003121\n",
      "[model_1] Validation loss decreased (0.003129 --> 0.003121).  Saving model ...\n",
      "\n",
      "[Epoch    73 of 200] loss_1: 0.001963 val_loss_1: 0.003122\n",
      "[model_1] EarlyStopping counter: 1 out of 5\n",
      "\n",
      "[Epoch    74 of 200] loss_1: 0.002042 val_loss_1: 0.003174\n",
      "[model_1] EarlyStopping counter: 2 out of 5\n",
      "\n",
      "[Epoch    75 of 200] loss_1: 0.001932 val_loss_1: 0.002977\n",
      "[model_1] Validation loss decreased (0.003121 --> 0.002977).  Saving model ...\n",
      "\n",
      "[Epoch    76 of 200] loss_1: 0.001941 val_loss_1: 0.003025\n",
      "[model_1] EarlyStopping counter: 1 out of 5\n",
      "\n",
      "[Epoch    77 of 200] loss_1: 0.001946 val_loss_1: 0.003156\n",
      "[model_1] EarlyStopping counter: 2 out of 5\n",
      "\n",
      "[Epoch    78 of 200] loss_1: 0.001946 val_loss_1: 0.002984\n",
      "[model_1] EarlyStopping counter: 3 out of 5\n",
      "\n",
      "[Epoch    79 of 200] loss_1: 0.001899 val_loss_1: 0.002969\n",
      "[model_1] Validation loss decreased (0.002977 --> 0.002969).  Saving model ...\n",
      "\n",
      "[Epoch    80 of 200] loss_1: 0.001946 val_loss_1: 0.002957\n",
      "[model_1] Validation loss decreased (0.002969 --> 0.002957).  Saving model ...\n",
      "The plots at epoch 80 are:\n",
      "\n"
     ]
    },
    {
     "data": {
      "image/png": "[encoded data removed]",
      "text/plain": [
       "<Figure size 640x480 with 1 Axes>"
      ]
     },
     "metadata": {},
     "output_type": "display_data"
    },
    {
     "name": "stdout",
     "output_type": "stream",
     "text": [
      "\n",
      "[Epoch    81 of 200] loss_1: 0.001931 val_loss_1: 0.002962\n",
      "[model_1] EarlyStopping counter: 1 out of 5\n",
      "\n",
      "[Epoch    82 of 200] loss_1: 0.001931 val_loss_1: 0.002965\n",
      "[model_1] EarlyStopping counter: 2 out of 5\n",
      "\n",
      "[Epoch    83 of 200] loss_1: 0.001896 val_loss_1: 0.003036\n",
      "[model_1] EarlyStopping counter: 3 out of 5\n",
      "\n",
      "[Epoch    84 of 200] loss_1: 0.001906 val_loss_1: 0.002936\n",
      "[model_1] Validation loss decreased (0.002957 --> 0.002936).  Saving model ...\n",
      "\n",
      "[Epoch    85 of 200] loss_1: 0.001887 val_loss_1: 0.002974\n",
      "[model_1] EarlyStopping counter: 1 out of 5\n",
      "\n",
      "[Epoch    86 of 200] loss_1: 0.001884 val_loss_1: 0.002967\n",
      "[model_1] EarlyStopping counter: 2 out of 5\n",
      "\n",
      "[Epoch    87 of 200] loss_1: 0.001891 val_loss_1: 0.002928\n",
      "[model_1] Validation loss decreased (0.002936 --> 0.002928).  Saving model ...\n",
      "\n",
      "[Epoch    88 of 200] loss_1: 0.001887 val_loss_1: 0.002946\n",
      "[model_1] EarlyStopping counter: 1 out of 5\n",
      "\n",
      "[Epoch    89 of 200] loss_1: 0.001894 val_loss_1: 0.002966\n",
      "[model_1] EarlyStopping counter: 2 out of 5\n",
      "\n",
      "[Epoch    90 of 200] loss_1: 0.001895 val_loss_1: 0.002890\n",
      "[model_1] Validation loss decreased (0.002928 --> 0.002890).  Saving model ...\n",
      "The plots at epoch 90 are:\n",
      "\n"
     ]
    },
    {
     "data": {
      "image/png": "[encoded data removed]",
      "text/plain": [
       "<Figure size 640x480 with 1 Axes>"
      ]
     },
     "metadata": {},
     "output_type": "display_data"
    },
    {
     "name": "stdout",
     "output_type": "stream",
     "text": [
      "\n",
      "[Epoch    91 of 200] loss_1: 0.001890 val_loss_1: 0.003037\n",
      "[model_1] EarlyStopping counter: 1 out of 5\n",
      "\n",
      "[Epoch    92 of 200] loss_1: 0.001888 val_loss_1: 0.002920\n",
      "[model_1] EarlyStopping counter: 2 out of 5\n",
      "\n",
      "[Epoch    93 of 200] loss_1: 0.001889 val_loss_1: 0.002923\n",
      "[model_1] EarlyStopping counter: 3 out of 5\n",
      "\n",
      "[Epoch    94 of 200] loss_1: 0.001905 val_loss_1: 0.002895\n",
      "[model_1] EarlyStopping counter: 4 out of 5\n",
      "\n",
      "[Epoch    95 of 200] loss_1: 0.001891 val_loss_1: 0.002935\n",
      "[model_1] EarlyStopping counter: 5 out of 5\n",
      "Early stopping - model_1\n",
      "Early stopping\n"
     ]
    },
    {
     "data": {
      "image/png": "[encoded data removed]",
      "text/plain": [
       "<Figure size 640x480 with 1 Axes>"
      ]
     },
     "metadata": {},
     "output_type": "display_data"
    },
    {
     "name": "stdout",
     "output_type": "stream",
     "text": [
      "\n",
      "Total time of training: 0.36311565001805624 hours\n"
     ]
    }
   ],
   "source": [
    "start_time = time.time()\n",
    "\n",
    "hist_loss_1 = np.zeros(config_args.epochs)\n",
    "val_hist_loss_1 = np.zeros(config_args.epochs)\n",
    "\n",
    "val_loss_best_1 = np.inf\n",
    "count_1 = 0\n",
    "\n",
    "for epoch in range(config_args.epochs):\n",
    "\n",
    "    # Switching all models in training mode\n",
    "    model_1.train()\n",
    "\n",
    "    running_loss_1 = 0\n",
    "\n",
    "    for batch, (categorical_var, continuous_var, target_var) in enumerate(train_dataloader):\n",
    "\n",
    "        # Setting the gradients to zero\n",
    "        optimizer_1.zero_grad()\n",
    "\n",
    "        # The categorical variables are common for all zones.\n",
    "        common_categorical = copy.deepcopy(categorical_var).to(device)\n",
    "\n",
    "        zone_1_continuous = copy.deepcopy(continuous_var[:, :, 0:6]).to(device)\n",
    "\n",
    "        zone_1_target = copy.deepcopy(target_var[:, :, 0:1])\n",
    "\n",
    "        # Propagating through the network\n",
    "        out_vae_1, out_transformer_1 = model_1(common_categorical, zone_1_continuous)\n",
    "\n",
    "        # Calculating the pinball loss\n",
    "        loss_1 = loss_function(out_transformer_1, zone_1_target.to(device))\n",
    "\n",
    "        # Back-Propagating the loss\n",
    "        loss_1.backward()\n",
    "\n",
    "        # Updating the parameters\n",
    "        optimizer_1.step()\n",
    "\n",
    "        # Accumulating the running loss\n",
    "        running_loss_1 += loss_1.item()\n",
    "\n",
    "        train_loss_1 = running_loss_1/len(train_dataloader)\n",
    "\n",
    "        val_loss_1 = compute_val_point_score(model_1, test_dataloader,\n",
    "                                             loss_function, \"zone_1\",\n",
    "                                             device).item()\n",
    "\n",
    "        hist_loss_1[epoch] = train_loss_1\n",
    "\n",
    "        val_hist_loss_1[epoch] = val_loss_1\n",
    "\n",
    "    \n",
    "    print('\\n[Epoch {t:5d} of {epochs}] loss_1: {loss_1:1.6f} val_loss_1: {val_loss_1:1.6f}'.format(t=epoch+1, \n",
    "                                                                                                    epochs=config_args.epochs, \n",
    "                                                                                                    loss_1=train_loss_1, \n",
    "                                                                                                    val_loss_1=val_loss_1,))\n",
    "    \n",
    "    # Employing early stopping to avoid overfitting\n",
    "    early_stopping_1(val_loss_1, model_1)\n",
    "\n",
    "    if early_stopping_1.early_stop and count_1 < 1:\n",
    "        print(\"Early stopping - {}\".format(early_stopping_1.model_name))\n",
    "\n",
    "    if early_stopping_1.early_stop:\n",
    "      print(\"Early stopping\")\n",
    "      break\n",
    "\n",
    "    if (epoch + 1) % config_args.update_freq == 0:\n",
    "        print(\"The plots at epoch {} are:\\n\".format(epoch+1))\n",
    "        plt.plot(np.trim_zeros(hist_loss_1, 'b'), 'o-', label='train')\n",
    "        plt.plot(np.trim_zeros(val_hist_loss_1, 'b'), 'o-', label='val')\n",
    "        plt.legend()\n",
    "        plt.show()\n",
    "\n",
    "        \n",
    "plt.plot(np.trim_zeros(hist_loss_1, 'b'), 'o-', label='train')\n",
    "plt.plot(np.trim_zeros(val_hist_loss_1, 'b'), 'o-', label='val')\n",
    "plt.legend()\n",
    "plt.show()\n",
    "        \n",
    "end_time = time.time()\n",
    "\n",
    "total_time = end_time - start_time\n",
    "print(\"\\nTotal time of training: {} hours\".format(total_time/3600))"
   ]
  },
  {
   "cell_type": "markdown",
   "metadata": {},
   "source": [
    "### LOADING AND GENERATING RESULTS ON TEST DATALOADER"
   ]
  },
  {
   "cell_type": "code",
   "execution_count": 52,
   "metadata": {},
   "outputs": [],
   "source": [
    "# Loading the models\n",
    "best_vae_transformer_1 = load_from_checkpoint(model_1, model_path_1)"
   ]
  },
  {
   "cell_type": "code",
   "execution_count": 53,
   "metadata": {},
   "outputs": [
    {
     "name": "stderr",
     "output_type": "stream",
     "text": [
      "100%|██████████| 3/3 [00:00<00:00, 11.76it/s]\n"
     ]
    }
   ],
   "source": [
    "point_pred_1 = np.empty(shape=(len(test_dataloader.dataset), 24, model_args.d_output))\n",
    "idx_pred_1 = 0\n",
    "\n",
    "# Switching all models to eval mode\n",
    "model_1.eval()\n",
    "\n",
    "with torch.no_grad():\n",
    "    for (categorical_var, continuous_var, target_var) in tqdm(test_dataloader, total=len(test_dataloader)):\n",
    "\n",
    "        # The categorical variables are common for all zones.\n",
    "        common_categorical = copy.deepcopy(categorical_var).to(device)\n",
    "\n",
    "        zone_1_continuous = copy.deepcopy(continuous_var[:, :, 0:6]).to(device)\n",
    "\n",
    "        zone_1_target = copy.deepcopy(target_var[:, :, 0:1])\n",
    "\n",
    "        # Propagating through the network\n",
    "        out_vae_1, out_transformer_1 = model_1(common_categorical, zone_1_continuous)\n",
    "\n",
    "        # Concatenating the predictions\n",
    "        point_pred_1[idx_pred_1:idx_pred_1+zone_1_continuous.shape[0]] = out_transformer_1.cpu().numpy()\n",
    "\n",
    "        idx_pred_1 += zone_1_continuous.shape[0]"
   ]
  },
  {
   "cell_type": "markdown",
   "metadata": {},
   "source": [
    "#### FORMATTING PREDICTED AND TRUE DATA FOR GENERATING RESULTS"
   ]
  },
  {
   "cell_type": "code",
   "execution_count": 54,
   "metadata": {},
   "outputs": [
    {
     "data": {
      "text/plain": [
       "(26304, 1)"
      ]
     },
     "execution_count": 54,
     "metadata": {},
     "output_type": "execute_result"
    }
   ],
   "source": [
    "# Reshaping the predicted quantiles\n",
    "point_pred_arr_1 = point_pred_1.reshape(-1, model_args.d_output)\n",
    "\n",
    "point_pred_arr_1.shape"
   ]
  },
  {
   "cell_type": "code",
   "execution_count": 55,
   "metadata": {},
   "outputs": [
    {
     "data": {
      "text/plain": [
       "(26304, 1)"
      ]
     },
     "execution_count": 55,
     "metadata": {},
     "output_type": "execute_result"
    }
   ],
   "source": [
    "point_pred_1_inv = point_pred_arr_1 * (mm_scaler_Y.data_max_[0] - mm_scaler_Y.data_min_[0]) + mm_scaler_Y.data_min_[0]\n",
    "\n",
    "point_pred_1_inv.shape"
   ]
  },
  {
   "cell_type": "code",
   "execution_count": 56,
   "metadata": {},
   "outputs": [
    {
     "data": {
      "text/plain": [
       "(26304, 1)"
      ]
     },
     "execution_count": 56,
     "metadata": {},
     "output_type": "execute_result"
    }
   ],
   "source": [
    "# Reshaping the true data\n",
    "Y_test_1 = target_samples_testing[:, :, 0:1]\n",
    "\n",
    "yArr_1 = Y_test_1.reshape(Y_test_1.shape[0] * Y_test_1.shape[1], Y_test_1.shape[2]).numpy()\n",
    "\n",
    "yArr_1.shape"
   ]
  },
  {
   "cell_type": "code",
   "execution_count": 57,
   "metadata": {},
   "outputs": [],
   "source": [
    "yArr_1_inv = yArr_1 * (mm_scaler_Y.data_max_[0] - mm_scaler_Y.data_min_[0]) + mm_scaler_Y.data_min_[0]"
   ]
  },
  {
   "cell_type": "markdown",
   "metadata": {},
   "source": [
    "#### CALCULATING THE MAPE ON TEST DATA"
   ]
  },
  {
   "cell_type": "code",
   "execution_count": 58,
   "metadata": {},
   "outputs": [
    {
     "data": {
      "text/html": [
       "<div>\n",
       "<style scoped>\n",
       "    .dataframe tbody tr th:only-of-type {\n",
       "        vertical-align: middle;\n",
       "    }\n",
       "\n",
       "    .dataframe tbody tr th {\n",
       "        vertical-align: top;\n",
       "    }\n",
       "\n",
       "    .dataframe thead th {\n",
       "        text-align: right;\n",
       "    }\n",
       "</style>\n",
       "<table border=\"1\" class=\"dataframe\">\n",
       "  <thead>\n",
       "    <tr style=\"text-align: right;\">\n",
       "      <th></th>\n",
       "      <th>Values</th>\n",
       "      <th>Predictions</th>\n",
       "    </tr>\n",
       "  </thead>\n",
       "  <tbody>\n",
       "    <tr>\n",
       "      <th>0</th>\n",
       "      <td>13824.000000</td>\n",
       "      <td>14958.434272</td>\n",
       "    </tr>\n",
       "    <tr>\n",
       "      <th>1</th>\n",
       "      <td>13824.000000</td>\n",
       "      <td>16306.270455</td>\n",
       "    </tr>\n",
       "    <tr>\n",
       "      <th>2</th>\n",
       "      <td>13878.000000</td>\n",
       "      <td>16136.090461</td>\n",
       "    </tr>\n",
       "    <tr>\n",
       "      <th>3</th>\n",
       "      <td>13770.000000</td>\n",
       "      <td>15711.995600</td>\n",
       "    </tr>\n",
       "    <tr>\n",
       "      <th>4</th>\n",
       "      <td>14040.000000</td>\n",
       "      <td>15924.459183</td>\n",
       "    </tr>\n",
       "    <tr>\n",
       "      <th>...</th>\n",
       "      <td>...</td>\n",
       "      <td>...</td>\n",
       "    </tr>\n",
       "    <tr>\n",
       "      <th>26299</th>\n",
       "      <td>14796.000000</td>\n",
       "      <td>18757.153877</td>\n",
       "    </tr>\n",
       "    <tr>\n",
       "      <th>26300</th>\n",
       "      <td>14148.000000</td>\n",
       "      <td>18270.677164</td>\n",
       "    </tr>\n",
       "    <tr>\n",
       "      <th>26301</th>\n",
       "      <td>13716.000000</td>\n",
       "      <td>17758.752112</td>\n",
       "    </tr>\n",
       "    <tr>\n",
       "      <th>26302</th>\n",
       "      <td>13122.000000</td>\n",
       "      <td>17062.540976</td>\n",
       "    </tr>\n",
       "    <tr>\n",
       "      <th>26303</th>\n",
       "      <td>12042.000977</td>\n",
       "      <td>15896.852316</td>\n",
       "    </tr>\n",
       "  </tbody>\n",
       "</table>\n",
       "<p>26304 rows × 2 columns</p>\n",
       "</div>"
      ],
      "text/plain": [
       "             Values   Predictions\n",
       "0      13824.000000  14958.434272\n",
       "1      13824.000000  16306.270455\n",
       "2      13878.000000  16136.090461\n",
       "3      13770.000000  15711.995600\n",
       "4      14040.000000  15924.459183\n",
       "...             ...           ...\n",
       "26299  14796.000000  18757.153877\n",
       "26300  14148.000000  18270.677164\n",
       "26301  13716.000000  17758.752112\n",
       "26302  13122.000000  17062.540976\n",
       "26303  12042.000977  15896.852316\n",
       "\n",
       "[26304 rows x 2 columns]"
      ]
     },
     "execution_count": 58,
     "metadata": {},
     "output_type": "execute_result"
    }
   ],
   "source": [
    "compare_df_1 = pd.DataFrame(data= {\"Values\": yArr_1_inv[:, 0], \"Predictions\": point_pred_1_inv[:, 0]})\n",
    "compare_df_1"
   ]
  },
  {
   "cell_type": "code",
   "execution_count": 59,
   "metadata": {},
   "outputs": [
    {
     "name": "stdout",
     "output_type": "stream",
     "text": [
      "Saving the best trained models.\n",
      "Saved !\n"
     ]
    }
   ],
   "source": [
    "print(\"Saving the best trained models.\")\n",
    "\n",
    "# Saving the models\n",
    "torch.save(best_vae_transformer_1, f\"vae_transformer_models/L5_vae_transformer_1.pth\")\n",
    "\n",
    "print(\"Saved !\")"
   ]
  },
  {
   "cell_type": "markdown",
   "metadata": {},
   "source": [
    "#### EXAMINING THE RESULTS"
   ]
  },
  {
   "cell_type": "code",
   "execution_count": 60,
   "metadata": {},
   "outputs": [],
   "source": [
    "mape_max_val = mm_scaler_Y.data_max_.max()"
   ]
  },
  {
   "cell_type": "code",
   "execution_count": 61,
   "metadata": {},
   "outputs": [
    {
     "name": "stdout",
     "output_type": "stream",
     "text": [
      "New MAPE:  3.827676314737652\n",
      "Old MAPE:  3.838738963046142\n"
     ]
    },
    {
     "data": {
      "text/plain": [
       "<Axes: >"
      ]
     },
     "execution_count": 61,
     "metadata": {},
     "output_type": "execute_result"
    },
    {
     "data": {
      "image/png": "[encoded data removed]",
      "text/plain": [
       "<Figure size 640x480 with 1 Axes>"
      ]
     },
     "metadata": {},
     "output_type": "display_data"
    }
   ],
   "source": [
    "result_mape_1 = new_mape(compare_df_1[\"Values\"], compare_df_1[\"Predictions\"], max_val=mape_max_val)\n",
    "print(\"New MAPE: \", result_mape_1)\n",
    "print(\"Old MAPE: \", mape(compare_df_1[\"Values\"], compare_df_1[\"Predictions\"]))\n",
    "compare_df_1.iloc[:100].plot()"
   ]
  },
  {
   "cell_type": "code",
   "execution_count": 62,
   "metadata": {},
   "outputs": [
    {
     "name": "stdout",
     "output_type": "stream",
     "text": [
      "Results saved !\n"
     ]
    },
    {
     "data": {
      "text/html": [
       "<div>\n",
       "<style scoped>\n",
       "    .dataframe tbody tr th:only-of-type {\n",
       "        vertical-align: middle;\n",
       "    }\n",
       "\n",
       "    .dataframe tbody tr th {\n",
       "        vertical-align: top;\n",
       "    }\n",
       "\n",
       "    .dataframe thead th {\n",
       "        text-align: right;\n",
       "    }\n",
       "</style>\n",
       "<table border=\"1\" class=\"dataframe\">\n",
       "  <thead>\n",
       "    <tr style=\"text-align: right;\">\n",
       "      <th></th>\n",
       "      <th>zone</th>\n",
       "      <th>mape</th>\n",
       "    </tr>\n",
       "  </thead>\n",
       "  <tbody>\n",
       "    <tr>\n",
       "      <th>0</th>\n",
       "      <td>L5</td>\n",
       "      <td>3.827676</td>\n",
       "    </tr>\n",
       "  </tbody>\n",
       "</table>\n",
       "</div>"
      ],
      "text/plain": [
       "  zone      mape\n",
       "0   L5  3.827676"
      ]
     },
     "execution_count": 62,
     "metadata": {},
     "output_type": "execute_result"
    }
   ],
   "source": [
    "resultsDf = pd.DataFrame()\n",
    "resultsDf[\"zone\"] = [i.removesuffix('.csv') for i in fileList]\n",
    "resultsDf[\"mape\"] = [\n",
    "result_mape_1, \n",
    "]\n",
    "\n",
    "resultsDf.to_csv(os.path.join(\"lag_24_results\", \"new_v3_\" + dataset + \".csv\"), index=False)\n",
    "print(\"Results saved !\")\n",
    "\n",
    "resultsDf"
   ]
  },
  {
   "cell_type": "code",
   "execution_count": 63,
   "metadata": {},
   "outputs": [],
   "source": [
    "# import IPython\n",
    "# app = IPython.Application.instance()\n",
    "# app.kernel.do_shutdown(True)"
   ]
  },
  {
   "cell_type": "code",
   "execution_count": 64,
   "metadata": {},
   "outputs": [
    {
     "name": "stdout",
     "output_type": "stream",
     "text": [
      "Results saved !\n"
     ]
    },
    {
     "data": {
      "text/html": [
       "<div>\n",
       "<style scoped>\n",
       "    .dataframe tbody tr th:only-of-type {\n",
       "        vertical-align: middle;\n",
       "    }\n",
       "\n",
       "    .dataframe tbody tr th {\n",
       "        vertical-align: top;\n",
       "    }\n",
       "\n",
       "    .dataframe thead th {\n",
       "        text-align: right;\n",
       "    }\n",
       "</style>\n",
       "<table border=\"1\" class=\"dataframe\">\n",
       "  <thead>\n",
       "    <tr style=\"text-align: right;\">\n",
       "      <th></th>\n",
       "      <th>zone</th>\n",
       "      <th>mape</th>\n",
       "    </tr>\n",
       "  </thead>\n",
       "  <tbody>\n",
       "    <tr>\n",
       "      <th>0</th>\n",
       "      <td>L5</td>\n",
       "      <td>3.838739</td>\n",
       "    </tr>\n",
       "  </tbody>\n",
       "</table>\n",
       "</div>"
      ],
      "text/plain": [
       "  zone      mape\n",
       "0   L5  3.838739"
      ]
     },
     "execution_count": 64,
     "metadata": {},
     "output_type": "execute_result"
    }
   ],
   "source": [
    "oldResultsDf = pd.DataFrame()\n",
    "oldResultsDf[\"zone\"] = [i.removesuffix('.csv') for i in fileList]\n",
    "oldResultsDf[\"mape\"] = [\n",
    "    mape(compare_df_1[\"Values\"], compare_df_1[\"Predictions\"]), \n",
    "]\n",
    "\n",
    "oldResultsDf.to_csv(os.path.join(\"lag_24_results\", \"old_v3_\" + dataset + \".csv\"), index=False)\n",
    "print(\"Results saved !\")\n",
    "\n",
    "oldResultsDf"
   ]
  }
 ],
 "metadata": {
  "kernelspec": {
   "display_name": "Python 3 (ipykernel)",
   "language": "python",
   "name": "python3"
  },
  "language_info": {
   "codemirror_mode": {
    "name": "ipython",
    "version": 3
   },
   "file_extension": ".py",
   "mimetype": "text/x-python",
   "name": "python",
   "nbconvert_exporter": "python",
   "pygments_lexer": "ipython3",
   "version": "3.10.11"
  }
 },
 "nbformat": 4,
 "nbformat_minor": 1
}
